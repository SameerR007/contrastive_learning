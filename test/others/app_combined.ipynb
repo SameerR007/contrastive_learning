{
 "cells": [
  {
   "cell_type": "code",
   "execution_count": 120,
   "metadata": {},
   "outputs": [],
   "source": [
    "from datasets import load_dataset"
   ]
  },
  {
   "cell_type": "code",
   "execution_count": 121,
   "metadata": {},
   "outputs": [],
   "source": [
    "dataset = load_dataset('ms_marco', 'v1.1')"
   ]
  },
  {
   "cell_type": "code",
   "execution_count": 122,
   "metadata": {},
   "outputs": [
    {
     "data": {
      "text/plain": [
       "DatasetDict({\n",
       "    validation: Dataset({\n",
       "        features: ['answers', 'passages', 'query', 'query_id', 'query_type', 'wellFormedAnswers'],\n",
       "        num_rows: 10047\n",
       "    })\n",
       "    train: Dataset({\n",
       "        features: ['answers', 'passages', 'query', 'query_id', 'query_type', 'wellFormedAnswers'],\n",
       "        num_rows: 82326\n",
       "    })\n",
       "    test: Dataset({\n",
       "        features: ['answers', 'passages', 'query', 'query_id', 'query_type', 'wellFormedAnswers'],\n",
       "        num_rows: 9650\n",
       "    })\n",
       "})"
      ]
     },
     "execution_count": 122,
     "metadata": {},
     "output_type": "execute_result"
    }
   ],
   "source": [
    "dataset"
   ]
  },
  {
   "cell_type": "code",
   "execution_count": 123,
   "metadata": {},
   "outputs": [],
   "source": [
    "dataset_train = load_dataset('ms_marco', 'v1.1', split='train')"
   ]
  },
  {
   "cell_type": "code",
   "execution_count": 124,
   "metadata": {},
   "outputs": [
    {
     "data": {
      "text/plain": [
       "Dataset({\n",
       "    features: ['answers', 'passages', 'query', 'query_id', 'query_type', 'wellFormedAnswers'],\n",
       "    num_rows: 82326\n",
       "})"
      ]
     },
     "execution_count": 124,
     "metadata": {},
     "output_type": "execute_result"
    }
   ],
   "source": [
    "dataset_train"
   ]
  },
  {
   "cell_type": "code",
   "execution_count": 125,
   "metadata": {},
   "outputs": [
    {
     "data": {
      "text/plain": [
       "datasets.arrow_dataset.Dataset"
      ]
     },
     "execution_count": 125,
     "metadata": {},
     "output_type": "execute_result"
    }
   ],
   "source": [
    "type(dataset_train)"
   ]
  },
  {
   "cell_type": "code",
   "execution_count": 126,
   "metadata": {},
   "outputs": [],
   "source": [
    "def preprocess(example):\n",
    "    positive_passages=[]\n",
    "    for p in enumerate(example['passages'][\"is_selected\"]):\n",
    "        if p[1]==1:\n",
    "            positive_passages.append(example[\"passages\"][\"passage_text\"][p[0]])\n",
    "    negative_passages = []\n",
    "    for p in enumerate(example['passages'][\"is_selected\"]):\n",
    "        if p[1]==0:\n",
    "            negative_passages.append(example[\"passages\"][\"passage_text\"][p[0]])\n",
    "    if (len(positive_passages)>0 and len(negative_passages)>=5):\n",
    "        positive = positive_passages[0]\n",
    "        negatives = negative_passages[:5]\n",
    "        return {\n",
    "            \"query\": example[\"query\"],\n",
    "            \"positive\": positive,\n",
    "            \"negatives\": negatives\n",
    "        }\n",
    "    else:\n",
    "        return {\"query\": None, \"positive\": None, \"negatives\": None}"
   ]
  },
  {
   "cell_type": "code",
   "execution_count": 127,
   "metadata": {},
   "outputs": [],
   "source": [
    "processed_data_train = dataset_train.map(preprocess, remove_columns=dataset_train.column_names)"
   ]
  },
  {
   "cell_type": "code",
   "execution_count": 128,
   "metadata": {},
   "outputs": [],
   "source": [
    "processed_data_train = processed_data_train.filter(lambda x: x['query'] is not None and x['positive'] is not None)"
   ]
  },
  {
   "cell_type": "code",
   "execution_count": 129,
   "metadata": {},
   "outputs": [],
   "source": [
    "contrastive_pairs_train = []\n",
    "for item in processed_data_train:\n",
    "    query = item[\"query\"]\n",
    "    positive = item[\"positive\"]\n",
    "    negatives = item[\"negatives\"]\n",
    "    contrastive_pairs_train.append({\n",
    "        \"anchor\": query,\n",
    "        \"positive\": positive,\n",
    "        \"negatives\": negatives\n",
    "    })"
   ]
  },
  {
   "cell_type": "code",
   "execution_count": 130,
   "metadata": {},
   "outputs": [
    {
     "data": {
      "text/plain": [
       "74538"
      ]
     },
     "execution_count": 130,
     "metadata": {},
     "output_type": "execute_result"
    }
   ],
   "source": [
    "len(contrastive_pairs_train)"
   ]
  },
  {
   "cell_type": "code",
   "execution_count": 131,
   "metadata": {},
   "outputs": [],
   "source": [
    "from torch.utils.data import DataLoader"
   ]
  },
  {
   "cell_type": "code",
   "execution_count": 132,
   "metadata": {},
   "outputs": [],
   "source": [
    "class ContrastiveDataset:\n",
    "    def __init__(self, pairs):\n",
    "        self.pairs = pairs\n",
    "\n",
    "    def __len__(self):\n",
    "        return len(self.pairs)\n",
    "\n",
    "    def __getitem__(self, idx):\n",
    "        item = self.pairs[idx]\n",
    "        return item[\"anchor\"], item[\"positive\"], item[\"negatives\"]"
   ]
  },
  {
   "cell_type": "code",
   "execution_count": 133,
   "metadata": {},
   "outputs": [],
   "source": [
    "contrastive_dataset_train = ContrastiveDataset(contrastive_pairs_train[0:100])"
   ]
  },
  {
   "cell_type": "code",
   "execution_count": 134,
   "metadata": {},
   "outputs": [],
   "source": [
    "data_loader_train = DataLoader(contrastive_dataset_train, batch_size=16, shuffle=True)"
   ]
  },
  {
   "cell_type": "code",
   "execution_count": 135,
   "metadata": {},
   "outputs": [
    {
     "data": {
      "text/plain": [
       "7"
      ]
     },
     "execution_count": 135,
     "metadata": {},
     "output_type": "execute_result"
    }
   ],
   "source": [
    "len(data_loader_train)"
   ]
  },
  {
   "cell_type": "code",
   "execution_count": 136,
   "metadata": {},
   "outputs": [],
   "source": [
    "from transformers import AutoTokenizer, AutoModel\n",
    "tokenizer = AutoTokenizer.from_pretrained(\"bert-base-uncased\")"
   ]
  },
  {
   "cell_type": "code",
   "execution_count": 137,
   "metadata": {},
   "outputs": [],
   "source": [
    "model = AutoModel.from_pretrained(\"bert-base-uncased\")"
   ]
  },
  {
   "cell_type": "code",
   "execution_count": 138,
   "metadata": {},
   "outputs": [],
   "source": [
    "from peft import LoraConfig, get_peft_model"
   ]
  },
  {
   "cell_type": "code",
   "execution_count": 139,
   "metadata": {},
   "outputs": [],
   "source": [
    "lora_config = LoraConfig(\n",
    "    task_type= \"FEATURE_EXTRACTION\"\n",
    ")"
   ]
  },
  {
   "cell_type": "code",
   "execution_count": 140,
   "metadata": {},
   "outputs": [],
   "source": [
    "lora_model = get_peft_model(model, lora_config)"
   ]
  },
  {
   "cell_type": "code",
   "execution_count": 141,
   "metadata": {},
   "outputs": [
    {
     "name": "stdout",
     "output_type": "stream",
     "text": [
      "trainable params: 294,912 || all params: 109,777,152 || trainable%: 0.2686\n"
     ]
    }
   ],
   "source": [
    "lora_model.print_trainable_parameters()"
   ]
  },
  {
   "cell_type": "code",
   "execution_count": 142,
   "metadata": {},
   "outputs": [],
   "source": [
    "import torch\n",
    "import torch.nn as nn\n",
    "import torch.optim as optim"
   ]
  },
  {
   "cell_type": "code",
   "execution_count": 143,
   "metadata": {},
   "outputs": [],
   "source": [
    "class HyperbolicEmbeddingLayer(nn.Module):\n",
    "    def __init__(self, embed_dim):\n",
    "        super(HyperbolicEmbeddingLayer, self).__init__()\n",
    "        self.embed_dim = embed_dim\n",
    "        self.fc = nn.Linear(768, embed_dim)\n",
    "\n",
    "    def forward(self, x):\n",
    "        embedding = self.fc(x)\n",
    "        return embedding / torch.norm(embedding, dim=-1, keepdim=True)"
   ]
  },
  {
   "cell_type": "code",
   "execution_count": 144,
   "metadata": {},
   "outputs": [],
   "source": [
    "def lorentzian_distance(x, y):\n",
    "    \n",
    "    dot_product = torch.sum(x * y, dim=-1)\n",
    "    norm_x = torch.norm(x, dim=-1)\n",
    "    norm_y = torch.norm(y, dim=-1)\n",
    "\n",
    "    distance = torch.acosh(-dot_product + torch.sqrt((1 + norm_x**2) * (1 + norm_y**2)))\n",
    "    return distance"
   ]
  },
  {
   "cell_type": "code",
   "execution_count": 145,
   "metadata": {},
   "outputs": [],
   "source": [
    "def exterior_angle(x_space, y_space, c):\n",
    "    norm_x_space = torch.norm(x_space, p=2, dim=-1)\n",
    "    norm_y_space = torch.norm(y_space, p=2, dim=-1)\n",
    "    x_time = torch.sqrt(1/c + norm_x_space**2)\n",
    "    y_time = torch.sqrt(1/c + norm_y_space**2)\n",
    "    dot_product = torch.sum(x_space * y_space, dim=-1)\n",
    "    lorentz_inner_product =  dot_product - x_time * y_time\n",
    "    numerator = y_time + x_time * c * lorentz_inner_product\n",
    "    denominator = norm_x_space * torch.sqrt((c * lorentz_inner_product)**2 - 1)\n",
    "    ext_angle = torch.acos(numerator / denominator)\n",
    "    return ext_angle"
   ]
  },
  {
   "cell_type": "code",
   "execution_count": 146,
   "metadata": {},
   "outputs": [],
   "source": [
    "def entailment_loss(x, y, c=1, K=0.1):\n",
    "\n",
    "    aperture = torch.asin(2 * K / (c * torch.norm(x, p=2, dim=-1))) \n",
    "    \n",
    "    ext_angle = exterior_angle(x_space=x,y_space=y,c=c)\n",
    "    \n",
    "    loss = torch.max(torch.zeros_like(ext_angle), ext_angle - aperture)\n",
    "    return loss.mean()"
   ]
  },
  {
   "cell_type": "code",
   "execution_count": 147,
   "metadata": {},
   "outputs": [],
   "source": [
    "def compute_laplacian(similarity_matrix):\n",
    "    similarity_matrix = similarity_matrix.float()\n",
    "\n",
    "    degree_matrix = torch.diag(torch.sum(similarity_matrix, dim=1))\n",
    "\n",
    "    laplacian_matrix = degree_matrix - similarity_matrix\n",
    "\n",
    "    return laplacian_matrix"
   ]
  },
  {
   "cell_type": "code",
   "execution_count": 148,
   "metadata": {},
   "outputs": [],
   "source": [
    "def harmonic_distance(laplacian_matrix):\n",
    "    laplacian_pseudo_inv = torch.pinverse(laplacian_matrix)\n",
    "    harmonic_distances = []\n",
    "    for anchor_idx in range(0, len(laplacian_matrix), 7):  \n",
    "      \n",
    "        anchor_node=torch.zeros(len(laplacian_matrix), dtype=torch.float32, device=device)\n",
    "        anchor_node[anchor_idx] = 1\n",
    "\n",
    "        distances = []\n",
    "        for i in range(7-1):\n",
    "            node=torch.zeros(len(laplacian_matrix), dtype=torch.float32, device=device)\n",
    "            node[anchor_idx+(i+1)] = 1\n",
    "            diff = anchor_node - node\n",
    "            dist = torch.matmul(torch.matmul(diff.T, laplacian_pseudo_inv), diff)\n",
    "            distances.append(dist)\n",
    "        \n",
    "        harmonic_distances.append(torch.stack(distances))\n",
    "    return(harmonic_distances)"
   ]
  },
  {
   "cell_type": "code",
   "execution_count": 149,
   "metadata": {},
   "outputs": [],
   "source": [
    "def harmonic_loss(distances):\n",
    "    logits=-torch.stack(distances, dim=0)\n",
    "    labels = torch.zeros(logits.size(0), dtype=torch.long, device=logits.device)\n",
    "    loss = torch.nn.CrossEntropyLoss()(logits, labels)\n",
    "    return loss"
   ]
  },
  {
   "cell_type": "code",
   "execution_count": 150,
   "metadata": {},
   "outputs": [],
   "source": [
    "optimizer = torch.optim.AdamW(lora_model.parameters(), lr=5e-5)"
   ]
  },
  {
   "cell_type": "code",
   "execution_count": 151,
   "metadata": {},
   "outputs": [],
   "source": [
    "device = torch.device('cuda' if torch.cuda.is_available() else 'cpu')"
   ]
  },
  {
   "cell_type": "code",
   "execution_count": 152,
   "metadata": {},
   "outputs": [
    {
     "name": "stdout",
     "output_type": "stream",
     "text": [
      "PeftModelForFeatureExtraction(\n",
      "  (base_model): LoraModel(\n",
      "    (model): BertModel(\n",
      "      (embeddings): BertEmbeddings(\n",
      "        (word_embeddings): Embedding(30522, 768, padding_idx=0)\n",
      "        (position_embeddings): Embedding(512, 768)\n",
      "        (token_type_embeddings): Embedding(2, 768)\n",
      "        (LayerNorm): LayerNorm((768,), eps=1e-12, elementwise_affine=True)\n",
      "        (dropout): Dropout(p=0.1, inplace=False)\n",
      "      )\n",
      "      (encoder): BertEncoder(\n",
      "        (layer): ModuleList(\n",
      "          (0-11): 12 x BertLayer(\n",
      "            (attention): BertAttention(\n",
      "              (self): BertSdpaSelfAttention(\n",
      "                (query): lora.Linear(\n",
      "                  (base_layer): Linear(in_features=768, out_features=768, bias=True)\n",
      "                  (lora_dropout): ModuleDict(\n",
      "                    (default): Identity()\n",
      "                  )\n",
      "                  (lora_A): ModuleDict(\n",
      "                    (default): Linear(in_features=768, out_features=8, bias=False)\n",
      "                  )\n",
      "                  (lora_B): ModuleDict(\n",
      "                    (default): Linear(in_features=8, out_features=768, bias=False)\n",
      "                  )\n",
      "                  (lora_embedding_A): ParameterDict()\n",
      "                  (lora_embedding_B): ParameterDict()\n",
      "                  (lora_magnitude_vector): ModuleDict()\n",
      "                )\n",
      "                (key): Linear(in_features=768, out_features=768, bias=True)\n",
      "                (value): lora.Linear(\n",
      "                  (base_layer): Linear(in_features=768, out_features=768, bias=True)\n",
      "                  (lora_dropout): ModuleDict(\n",
      "                    (default): Identity()\n",
      "                  )\n",
      "                  (lora_A): ModuleDict(\n",
      "                    (default): Linear(in_features=768, out_features=8, bias=False)\n",
      "                  )\n",
      "                  (lora_B): ModuleDict(\n",
      "                    (default): Linear(in_features=8, out_features=768, bias=False)\n",
      "                  )\n",
      "                  (lora_embedding_A): ParameterDict()\n",
      "                  (lora_embedding_B): ParameterDict()\n",
      "                  (lora_magnitude_vector): ModuleDict()\n",
      "                )\n",
      "                (dropout): Dropout(p=0.1, inplace=False)\n",
      "              )\n",
      "              (output): BertSelfOutput(\n",
      "                (dense): Linear(in_features=768, out_features=768, bias=True)\n",
      "                (LayerNorm): LayerNorm((768,), eps=1e-12, elementwise_affine=True)\n",
      "                (dropout): Dropout(p=0.1, inplace=False)\n",
      "              )\n",
      "            )\n",
      "            (intermediate): BertIntermediate(\n",
      "              (dense): Linear(in_features=768, out_features=3072, bias=True)\n",
      "              (intermediate_act_fn): GELUActivation()\n",
      "            )\n",
      "            (output): BertOutput(\n",
      "              (dense): Linear(in_features=3072, out_features=768, bias=True)\n",
      "              (LayerNorm): LayerNorm((768,), eps=1e-12, elementwise_affine=True)\n",
      "              (dropout): Dropout(p=0.1, inplace=False)\n",
      "            )\n",
      "          )\n",
      "        )\n",
      "      )\n",
      "      (pooler): BertPooler(\n",
      "        (dense): Linear(in_features=768, out_features=768, bias=True)\n",
      "        (activation): Tanh()\n",
      "      )\n",
      "    )\n",
      "  )\n",
      ")\n"
     ]
    }
   ],
   "source": [
    "print(lora_model)"
   ]
  },
  {
   "cell_type": "code",
   "execution_count": 153,
   "metadata": {},
   "outputs": [],
   "source": [
    "embed_dim=128"
   ]
  },
  {
   "cell_type": "code",
   "execution_count": 154,
   "metadata": {},
   "outputs": [],
   "source": [
    "hyperbolic_model= HyperbolicEmbeddingLayer(embed_dim)"
   ]
  },
  {
   "cell_type": "code",
   "execution_count": 155,
   "metadata": {},
   "outputs": [],
   "source": [
    "import torch.nn.functional as F"
   ]
  },
  {
   "cell_type": "code",
   "execution_count": 156,
   "metadata": {},
   "outputs": [],
   "source": [
    "dataset_val = load_dataset('ms_marco', 'v1.1', split='validation')"
   ]
  },
  {
   "cell_type": "code",
   "execution_count": 157,
   "metadata": {},
   "outputs": [],
   "source": [
    "processed_data_val = dataset_val.map(preprocess, remove_columns=dataset_val.column_names)"
   ]
  },
  {
   "cell_type": "code",
   "execution_count": 158,
   "metadata": {},
   "outputs": [],
   "source": [
    "processed_data_val = processed_data_val.filter(lambda x: x['query'] is not None and x['positive'] is not None)"
   ]
  },
  {
   "cell_type": "code",
   "execution_count": 159,
   "metadata": {},
   "outputs": [],
   "source": [
    "contrastive_pairs_val = []\n",
    "for item in processed_data_val:\n",
    "    query = item[\"query\"]\n",
    "    positive = item[\"positive\"]\n",
    "    negatives = item[\"negatives\"]\n",
    "    contrastive_pairs_val.append({\n",
    "        \"anchor\": query,\n",
    "        \"positive\": positive,\n",
    "        \"negatives\": negatives\n",
    "    })"
   ]
  },
  {
   "cell_type": "code",
   "execution_count": 162,
   "metadata": {},
   "outputs": [],
   "source": [
    "contrastive_dataset_val = ContrastiveDataset(contrastive_pairs_val[0:100])"
   ]
  },
  {
   "cell_type": "code",
   "execution_count": 163,
   "metadata": {},
   "outputs": [],
   "source": [
    "data_loader_val = DataLoader(contrastive_dataset_val, batch_size=16, shuffle=True)"
   ]
  },
  {
   "cell_type": "code",
   "execution_count": 164,
   "metadata": {},
   "outputs": [
    {
     "data": {
      "text/plain": [
       "7"
      ]
     },
     "execution_count": 164,
     "metadata": {},
     "output_type": "execute_result"
    }
   ],
   "source": [
    "len(data_loader_val)"
   ]
  },
  {
   "cell_type": "code",
   "execution_count": 165,
   "metadata": {},
   "outputs": [],
   "source": [
    "lora_model = lora_model.to(device)\n",
    "hyperbolic_model = hyperbolic_model.to(device)"
   ]
  },
  {
   "cell_type": "code",
   "execution_count": 166,
   "metadata": {},
   "outputs": [],
   "source": [
    "def evaluate_mrr(model1, model2, data_loader_val):\n",
    "    model1.eval() \n",
    "    model2.eval()\n",
    "    \n",
    "    total_rr = 0.0\n",
    "    num_queries = 0\n",
    "\n",
    "    with torch.no_grad():  \n",
    "        for batch in data_loader_val:\n",
    "            anchor_text = batch[0]\n",
    "            positive_text = batch[1]\n",
    "            negative_texts = batch[2]\n",
    "\n",
    "            anchor_input = tokenizer(anchor_text, return_tensors='pt', padding=True, truncation=True, max_length=512).to(device)\n",
    "            positive_input = tokenizer(positive_text, return_tensors='pt', padding=True, truncation=True, max_length=512).to(device)\n",
    "\n",
    "            anchor_embedding = model2(model1(**anchor_input).last_hidden_state[:, 0, :])\n",
    "            positive_embedding = model2(model1(**positive_input).last_hidden_state[:, 0, :])\n",
    "            negative_embedding = [model2(model1(**tokenizer(neg, return_tensors='pt', padding=True, truncation=True, max_length=512).to(device)).last_hidden_state[:, 0, :]) for neg in negative_texts]\n",
    "\n",
    "            batch_embeddings = []\n",
    "   \n",
    "            for i in range(len(anchor_embedding)): \n",
    "                sample_embeddings = torch.cat(\n",
    "                    [anchor_embedding[i:i+1],  \n",
    "                    positive_embedding[i:i+1],  \n",
    "                    torch.stack([neg[i] for neg in negative_embedding])], \n",
    "                    dim=0\n",
    "                )\n",
    "                batch_embeddings.append(sample_embeddings)\n",
    "            \n",
    "            all_embeddings = torch.cat(batch_embeddings, dim=0)\n",
    "            sim=F.cosine_similarity(all_embeddings.unsqueeze(1), all_embeddings.unsqueeze(0), dim=2)\n",
    "            laplacian = compute_laplacian(sim)\n",
    "            distances=harmonic_distance(laplacian)\n",
    "            all_similarities=-torch.stack(distances, dim=0)\n",
    "\n",
    "            sorted_similarities, sorted_indices = torch.sort(all_similarities, dim=1, descending=True)\n",
    "\n",
    "            # Find the rank of the first relevant (positive) document\n",
    "            positive_rank = (sorted_indices == 0).nonzero(as_tuple=True)[1] + 1  # +1 to make rank 1-based\n",
    "            total_rr += torch.sum(1.0 / positive_rank.float()).item()  # Reciprocal rank\n",
    "            num_queries += len(positive_rank)\n",
    "\n",
    "    mrr = total_rr / num_queries\n",
    "    return mrr"
   ]
  },
  {
   "cell_type": "code",
   "execution_count": 170,
   "metadata": {},
   "outputs": [],
   "source": [
    "import os\n",
    "save_dir =\"/dss/dsshome1/07/ra65bex2/srawat\"\n",
    "import time\n",
    "epoch_metrics = []\n",
    "num_epochs=15"
   ]
  },
  {
   "cell_type": "code",
   "execution_count": 171,
   "metadata": {},
   "outputs": [
    {
     "name": "stdout",
     "output_type": "stream",
     "text": [
      "EPOCH 1:\n",
      "Epoch 1/15, Loss: 1.987798810005188\n",
      "Epoch 1/15, Contrastive Loss: 1.7914708001273019\n",
      "Epoch 1/15, Entailment Loss: 1.9632800306592668\n",
      "Mean Reciprocal Rank (MRR) for validation set: 0.4243\n",
      "Epoch 1 took 0.2146 minutes.\n",
      "\n",
      "\n",
      "EPOCH 2:\n",
      "Epoch 2/15, Loss: 1.987417527607509\n",
      "Epoch 2/15, Contrastive Loss: 1.7913611105510168\n",
      "Epoch 2/15, Entailment Loss: 1.9605641875948225\n",
      "Mean Reciprocal Rank (MRR) for validation set: 0.4307\n",
      "Epoch 2 took 0.2961 minutes.\n",
      "\n",
      "\n",
      "EPOCH 3:\n",
      "Epoch 3/15, Loss: 1.9855119500841414\n",
      "Epoch 3/15, Contrastive Loss: 1.7906102282660348\n",
      "Epoch 3/15, Entailment Loss: 1.94901704788208\n",
      "Mean Reciprocal Rank (MRR) for validation set: 0.4095\n",
      "Epoch 3 took 0.5264 minutes.\n",
      "\n",
      "\n",
      "EPOCH 4:\n",
      "Epoch 4/15, Loss: 1.989059601511274\n",
      "Epoch 4/15, Contrastive Loss: 1.7922971078327723\n",
      "Epoch 4/15, Entailment Loss: 1.9676249027252197\n",
      "Mean Reciprocal Rank (MRR) for validation set: 0.3857\n",
      "Epoch 4 took 0.6127 minutes.\n",
      "\n",
      "\n",
      "EPOCH 5:\n",
      "Epoch 5/15, Loss: 1.9894168717520577\n",
      "Epoch 5/15, Contrastive Loss: 1.7932433571134294\n",
      "Epoch 5/15, Entailment Loss: 1.9617352655955724\n",
      "Mean Reciprocal Rank (MRR) for validation set: 0.4205\n",
      "Epoch 5 took 0.6367 minutes.\n",
      "\n",
      "\n",
      "EPOCH 6:\n",
      "Epoch 6/15, Loss: 1.9872561011995589\n",
      "Epoch 6/15, Contrastive Loss: 1.791649614061628\n",
      "Epoch 6/15, Entailment Loss: 1.9560650416782923\n",
      "Mean Reciprocal Rank (MRR) for validation set: 0.4108\n",
      "Epoch 6 took 0.6399 minutes.\n",
      "\n",
      "\n",
      "EPOCH 7:\n",
      "Epoch 7/15, Loss: 1.9870636803763253\n",
      "Epoch 7/15, Contrastive Loss: 1.7912993941988264\n",
      "Epoch 7/15, Entailment Loss: 1.957642776625497\n",
      "Mean Reciprocal Rank (MRR) for validation set: 0.3975\n",
      "Epoch 7 took 0.6656 minutes.\n",
      "\n",
      "\n",
      "EPOCH 8:\n",
      "Epoch 8/15, Loss: 1.986694574356079\n",
      "Epoch 8/15, Contrastive Loss: 1.791636552129473\n",
      "Epoch 8/15, Entailment Loss: 1.9505802392959595\n",
      "Mean Reciprocal Rank (MRR) for validation set: 0.4013\n",
      "Epoch 8 took 0.6233 minutes.\n",
      "\n",
      "\n",
      "EPOCH 9:\n",
      "Epoch 9/15, Loss: 1.985745566231864\n",
      "Epoch 9/15, Contrastive Loss: 1.7902303763798304\n",
      "Epoch 9/15, Entailment Loss: 1.9551517622811454\n",
      "Mean Reciprocal Rank (MRR) for validation set: 0.4123\n",
      "Epoch 9 took 0.6422 minutes.\n",
      "\n",
      "\n",
      "EPOCH 10:\n",
      "Epoch 10/15, Loss: 1.9876963921955653\n",
      "Epoch 10/15, Contrastive Loss: 1.7914641754967826\n",
      "Epoch 10/15, Entailment Loss: 1.962322132928031\n",
      "Mean Reciprocal Rank (MRR) for validation set: 0.4077\n",
      "Epoch 10 took 0.6027 minutes.\n",
      "\n",
      "\n",
      "EPOCH 11:\n",
      "Epoch 11/15, Loss: 1.9888697011130196\n",
      "Epoch 11/15, Contrastive Loss: 1.7926855427878243\n",
      "Epoch 11/15, Entailment Loss: 1.961841310773577\n",
      "Mean Reciprocal Rank (MRR) for validation set: 0.4122\n",
      "Epoch 11 took 0.5448 minutes.\n",
      "\n",
      "\n",
      "EPOCH 12:\n",
      "Epoch 12/15, Loss: 1.9888475111552648\n",
      "Epoch 12/15, Contrastive Loss: 1.7915935346058436\n",
      "Epoch 12/15, Entailment Loss: 1.9725396122251238\n",
      "Mean Reciprocal Rank (MRR) for validation set: 0.4215\n",
      "Epoch 12 took 0.5658 minutes.\n",
      "\n",
      "\n",
      "EPOCH 13:\n",
      "Epoch 13/15, Loss: 1.9883204528263636\n",
      "Epoch 13/15, Contrastive Loss: 1.7920002937316895\n",
      "Epoch 13/15, Entailment Loss: 1.963201676096235\n",
      "Mean Reciprocal Rank (MRR) for validation set: 0.4343\n",
      "Epoch 13 took 0.5505 minutes.\n",
      "\n",
      "\n",
      "EPOCH 14:\n",
      "Epoch 14/15, Loss: 1.987058894974845\n",
      "Epoch 14/15, Contrastive Loss: 1.7910168511526925\n",
      "Epoch 14/15, Entailment Loss: 1.9604205063411169\n",
      "Mean Reciprocal Rank (MRR) for validation set: 0.4135\n",
      "Epoch 14 took 0.6004 minutes.\n",
      "\n",
      "\n",
      "EPOCH 15:\n",
      "Epoch 15/15, Loss: 1.9883516686303275\n",
      "Epoch 15/15, Contrastive Loss: 1.7917513166155135\n",
      "Epoch 15/15, Entailment Loss: 1.9660035371780396\n",
      "Mean Reciprocal Rank (MRR) for validation set: 0.4277\n",
      "Epoch 15 took 0.5820 minutes.\n",
      "\n",
      "\n"
     ]
    }
   ],
   "source": [
    "for epoch in range(num_epochs):\n",
    "    start_time = time.time()\n",
    "    lora_model.train() \n",
    "    hyperbolic_model.train()\n",
    "\n",
    "    total_loss = 0.0\n",
    "    entailment_loss_total=0.0\n",
    "    contrastive_loss_total=0.0\n",
    "    for batch in data_loader_train:\n",
    "     \n",
    "        anchor_texts = batch[0]\n",
    "        positive_texts = batch[1]\n",
    "        negative_texts = batch[2]\n",
    "       \n",
    "        anchor_inputs = tokenizer(anchor_texts, return_tensors='pt', padding=True, truncation=True, max_length=512).to(device)\n",
    "        positive_inputs = tokenizer(positive_texts, return_tensors='pt', padding=True, truncation=True, max_length=512).to(device)\n",
    "    \n",
    "        anchor_embedding = hyperbolic_model(lora_model(**anchor_inputs).last_hidden_state[:, 0, :])\n",
    "        positive_embedding = hyperbolic_model(lora_model(**positive_inputs).last_hidden_state[:, 0, :])\n",
    "        negative_embedding = [hyperbolic_model(lora_model(**tokenizer(neg, return_tensors='pt', padding=True, truncation=True, max_length=512).to(device)).last_hidden_state[:, 0, :]) for neg in negative_texts]\n",
    "\n",
    "        batch_embeddings = []\n",
    "     \n",
    "        for i in range(len(anchor_embedding)): \n",
    "            sample_embeddings = torch.cat(\n",
    "                [anchor_embedding[i:i+1],  \n",
    "                positive_embedding[i:i+1], \n",
    "                torch.stack([neg[i] for neg in negative_embedding])], \n",
    "                dim=0\n",
    "            )\n",
    "            batch_embeddings.append(sample_embeddings)\n",
    "        all_embeddings = torch.cat(batch_embeddings, dim=0)\n",
    "        sim=F.cosine_similarity(all_embeddings.unsqueeze(1), all_embeddings.unsqueeze(0), dim=2)\n",
    "        laplacian = compute_laplacian(sim)\n",
    "        distances=harmonic_distance(laplacian)\n",
    " \n",
    "        contrastive_loss_value = harmonic_loss(distances)\n",
    "\n",
    "        entailment_loss_value = entailment_loss(anchor_embedding, positive_embedding)\n",
    "        \n",
    "        loss = contrastive_loss_value + 0.1*entailment_loss_value\n",
    "\n",
    "        optimizer.zero_grad()  \n",
    "        loss.backward()  \n",
    "        optimizer.step() \n",
    "        \n",
    "        total_loss += loss.item()\n",
    "        entailment_loss_total+=entailment_loss_value.item()\n",
    "        contrastive_loss_total+=contrastive_loss_value.item()\n",
    "    print(f\"EPOCH {epoch+1}:\")\n",
    "    print(f\"Epoch {epoch+1}/{num_epochs}, Loss: {total_loss / len(data_loader_train)}\")\n",
    "    print(f\"Epoch {epoch+1}/{num_epochs}, Contrastive Loss: {contrastive_loss_total / len(data_loader_train)}\")\n",
    "    print(f\"Epoch {epoch+1}/{num_epochs}, Entailment Loss: {entailment_loss_total / len(data_loader_train)}\")\n",
    "    mrr_validation = evaluate_mrr(model1=lora_model, model2=hyperbolic_model, data_loader_val=data_loader_val)\n",
    "    #mrr_train = evaluate_mrr(lora_model, data_loader_train, lorentzian_distance)\n",
    "    #print(f\"Mean Reciprocal Rank (MRR) for training set: {mrr_train:.4f}\")\n",
    "    print(f\"Mean Reciprocal Rank (MRR) for validation set: {mrr_validation:.4f}\")\n",
    "    end_time = time.time()\n",
    "    print(f\"Epoch {epoch+1} took {(end_time - start_time) / 60:.4f} minutes.\")\n",
    "    print(f\"\\n\")\n",
    "    epoch_metrics.append({\n",
    "    'epoch': epoch + 1,\n",
    "    'training_loss': total_loss / len(data_loader_train),\n",
    "    'mrr_validation': mrr_validation,\n",
    "    'time_taken_minutes': (end_time - start_time) / 60\n",
    "    })"
   ]
  },
  {
   "cell_type": "code",
   "execution_count": 172,
   "metadata": {},
   "outputs": [],
   "source": [
    "import json\n",
    "with open(save_dir + '/combined_epoch_metrics.json', 'w') as f:\n",
    "    json.dump(epoch_metrics, f)"
   ]
  },
  {
   "cell_type": "code",
   "execution_count": null,
   "metadata": {},
   "outputs": [],
   "source": []
  }
 ],
 "metadata": {
  "kernelspec": {
   "display_name": "Python (myenv)",
   "language": "python",
   "name": "myenv"
  },
  "language_info": {
   "codemirror_mode": {
    "name": "ipython",
    "version": 3
   },
   "file_extension": ".py",
   "mimetype": "text/x-python",
   "name": "python",
   "nbconvert_exporter": "python",
   "pygments_lexer": "ipython3",
   "version": "3.12.7"
  }
 },
 "nbformat": 4,
 "nbformat_minor": 4
}
