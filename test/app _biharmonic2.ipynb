{
 "cells": [
  {
   "cell_type": "code",
   "execution_count": 1,
   "metadata": {},
   "outputs": [
    {
     "name": "stderr",
     "output_type": "stream",
     "text": [
      "c:\\Users\\User\\AppData\\Local\\Programs\\Python\\Python311\\Lib\\site-packages\\tqdm\\auto.py:21: TqdmWarning: IProgress not found. Please update jupyter and ipywidgets. See https://ipywidgets.readthedocs.io/en/stable/user_install.html\n",
      "  from .autonotebook import tqdm as notebook_tqdm\n"
     ]
    }
   ],
   "source": [
    "from datasets import load_dataset"
   ]
  },
  {
   "cell_type": "code",
   "execution_count": 2,
   "metadata": {},
   "outputs": [],
   "source": [
    "dataset = load_dataset('ms_marco', 'v1.1')"
   ]
  },
  {
   "cell_type": "code",
   "execution_count": 3,
   "metadata": {},
   "outputs": [
    {
     "data": {
      "text/plain": [
       "DatasetDict({\n",
       "    validation: Dataset({\n",
       "        features: ['answers', 'passages', 'query', 'query_id', 'query_type', 'wellFormedAnswers'],\n",
       "        num_rows: 10047\n",
       "    })\n",
       "    train: Dataset({\n",
       "        features: ['answers', 'passages', 'query', 'query_id', 'query_type', 'wellFormedAnswers'],\n",
       "        num_rows: 82326\n",
       "    })\n",
       "    test: Dataset({\n",
       "        features: ['answers', 'passages', 'query', 'query_id', 'query_type', 'wellFormedAnswers'],\n",
       "        num_rows: 9650\n",
       "    })\n",
       "})"
      ]
     },
     "execution_count": 3,
     "metadata": {},
     "output_type": "execute_result"
    }
   ],
   "source": [
    "dataset"
   ]
  },
  {
   "cell_type": "code",
   "execution_count": 4,
   "metadata": {},
   "outputs": [],
   "source": [
    "dataset = load_dataset('ms_marco', 'v1.1', split='train')"
   ]
  },
  {
   "cell_type": "code",
   "execution_count": 5,
   "metadata": {},
   "outputs": [
    {
     "data": {
      "text/plain": [
       "Dataset({\n",
       "    features: ['answers', 'passages', 'query', 'query_id', 'query_type', 'wellFormedAnswers'],\n",
       "    num_rows: 82326\n",
       "})"
      ]
     },
     "execution_count": 5,
     "metadata": {},
     "output_type": "execute_result"
    }
   ],
   "source": [
    "dataset"
   ]
  },
  {
   "cell_type": "code",
   "execution_count": 6,
   "metadata": {},
   "outputs": [
    {
     "data": {
      "text/plain": [
       "datasets.arrow_dataset.Dataset"
      ]
     },
     "execution_count": 6,
     "metadata": {},
     "output_type": "execute_result"
    }
   ],
   "source": [
    "type(dataset)"
   ]
  },
  {
   "cell_type": "code",
   "execution_count": 7,
   "metadata": {},
   "outputs": [],
   "source": [
    "def preprocess(example):\n",
    "    positive_passages=[]\n",
    "    for p in enumerate(example['passages'][\"is_selected\"]):\n",
    "        if p[1]==1:\n",
    "            positive_passages.append(example[\"passages\"][\"passage_text\"][p[0]])\n",
    "    negative_passages = []\n",
    "    for p in enumerate(example['passages'][\"is_selected\"]):\n",
    "        if p[1]==0:\n",
    "            negative_passages.append(example[\"passages\"][\"passage_text\"][p[0]])\n",
    "    if (len(positive_passages)>0 and len(negative_passages)>=5):\n",
    "        positive = positive_passages[0]\n",
    "        negatives = negative_passages[:5]\n",
    "        return {\n",
    "            \"query\": example[\"query\"],\n",
    "            \"positive\": positive,\n",
    "            \"negatives\": negatives\n",
    "        }\n",
    "    else:\n",
    "        return {\"query\": None, \"positive\": None, \"negatives\": None}"
   ]
  },
  {
   "cell_type": "code",
   "execution_count": 8,
   "metadata": {},
   "outputs": [],
   "source": [
    "processed_data = dataset.map(preprocess, remove_columns=dataset.column_names)"
   ]
  },
  {
   "cell_type": "code",
   "execution_count": 9,
   "metadata": {},
   "outputs": [],
   "source": [
    "processed_data = processed_data.filter(lambda x: x['query'] is not None and x['positive'] is not None)"
   ]
  },
  {
   "cell_type": "code",
   "execution_count": 10,
   "metadata": {},
   "outputs": [],
   "source": [
    "contrastive_pairs = []\n",
    "for item in processed_data:\n",
    "    query = item[\"query\"]\n",
    "    positive = item[\"positive\"]\n",
    "    negatives = item[\"negatives\"]\n",
    "    contrastive_pairs.append({\n",
    "        \"anchor\": query,\n",
    "        \"positive\": positive,\n",
    "        \"negatives\": negatives\n",
    "    })"
   ]
  },
  {
   "cell_type": "code",
   "execution_count": 11,
   "metadata": {},
   "outputs": [
    {
     "data": {
      "text/plain": [
       "74538"
      ]
     },
     "execution_count": 11,
     "metadata": {},
     "output_type": "execute_result"
    }
   ],
   "source": [
    "len(contrastive_pairs)"
   ]
  },
  {
   "cell_type": "code",
   "execution_count": 12,
   "metadata": {},
   "outputs": [],
   "source": [
    "from torch.utils.data import DataLoader"
   ]
  },
  {
   "cell_type": "code",
   "execution_count": 13,
   "metadata": {},
   "outputs": [],
   "source": [
    "class ContrastiveDataset:\n",
    "    def __init__(self, pairs):\n",
    "        self.pairs = pairs\n",
    "\n",
    "    def __len__(self):\n",
    "        return len(self.pairs)\n",
    "\n",
    "    def __getitem__(self, idx):\n",
    "        item = self.pairs[idx]\n",
    "        return item[\"anchor\"], item[\"positive\"], item[\"negatives\"]"
   ]
  },
  {
   "cell_type": "code",
   "execution_count": 14,
   "metadata": {},
   "outputs": [],
   "source": [
    "contrastive_dataset = ContrastiveDataset(contrastive_pairs[0:4])"
   ]
  },
  {
   "cell_type": "code",
   "execution_count": 15,
   "metadata": {},
   "outputs": [],
   "source": [
    "data_loader = DataLoader(contrastive_dataset, batch_size=2, shuffle=True)"
   ]
  },
  {
   "cell_type": "code",
   "execution_count": 16,
   "metadata": {},
   "outputs": [
    {
     "data": {
      "text/plain": [
       "2"
      ]
     },
     "execution_count": 16,
     "metadata": {},
     "output_type": "execute_result"
    }
   ],
   "source": [
    "len(data_loader)"
   ]
  },
  {
   "cell_type": "code",
   "execution_count": 17,
   "metadata": {},
   "outputs": [
    {
     "name": "stderr",
     "output_type": "stream",
     "text": [
      "c:\\Users\\User\\AppData\\Local\\Programs\\Python\\Python311\\Lib\\site-packages\\huggingface_hub\\file_download.py:797: FutureWarning: `resume_download` is deprecated and will be removed in version 1.0.0. Downloads always resume when possible. If you want to force a new download, use `force_download=True`.\n",
      "  warnings.warn(\n"
     ]
    }
   ],
   "source": [
    "from transformers import AutoTokenizer, AutoModel\n",
    "tokenizer = AutoTokenizer.from_pretrained(\"bert-base-uncased\")"
   ]
  },
  {
   "cell_type": "code",
   "execution_count": 18,
   "metadata": {},
   "outputs": [
    {
     "name": "stderr",
     "output_type": "stream",
     "text": [
      "Some weights of the model checkpoint at bert-base-uncased were not used when initializing BertModel: ['cls.predictions.transform.LayerNorm.weight', 'cls.predictions.transform.LayerNorm.bias', 'cls.predictions.bias', 'cls.predictions.transform.dense.bias', 'cls.seq_relationship.weight', 'cls.predictions.transform.dense.weight', 'cls.seq_relationship.bias']\n",
      "- This IS expected if you are initializing BertModel from the checkpoint of a model trained on another task or with another architecture (e.g. initializing a BertForSequenceClassification model from a BertForPreTraining model).\n",
      "- This IS NOT expected if you are initializing BertModel from the checkpoint of a model that you expect to be exactly identical (initializing a BertForSequenceClassification model from a BertForSequenceClassification model).\n"
     ]
    }
   ],
   "source": [
    "model = AutoModel.from_pretrained(\"bert-base-uncased\")"
   ]
  },
  {
   "cell_type": "code",
   "execution_count": 19,
   "metadata": {},
   "outputs": [],
   "source": [
    "from peft import LoraConfig, get_peft_model"
   ]
  },
  {
   "cell_type": "code",
   "execution_count": 20,
   "metadata": {},
   "outputs": [],
   "source": [
    "lora_config = LoraConfig(\n",
    "    task_type= \"FEATURE_EXTRACTION\"\n",
    ")"
   ]
  },
  {
   "cell_type": "code",
   "execution_count": 21,
   "metadata": {},
   "outputs": [
    {
     "name": "stderr",
     "output_type": "stream",
     "text": [
      "The installed version of bitsandbytes was compiled without GPU support. 8-bit optimizers, 8-bit multiplication, and GPU quantization are unavailable.\n"
     ]
    }
   ],
   "source": [
    "lora_model = get_peft_model(model, lora_config)"
   ]
  },
  {
   "cell_type": "code",
   "execution_count": 22,
   "metadata": {},
   "outputs": [
    {
     "name": "stdout",
     "output_type": "stream",
     "text": [
      "trainable params: 294,912 || all params: 109,777,152 || trainable%: 0.2686\n"
     ]
    }
   ],
   "source": [
    "lora_model.print_trainable_parameters()"
   ]
  },
  {
   "cell_type": "code",
   "execution_count": 23,
   "metadata": {},
   "outputs": [],
   "source": [
    "import torch"
   ]
  },
  {
   "cell_type": "code",
   "execution_count": 24,
   "metadata": {},
   "outputs": [],
   "source": [
    "device = torch.device('cuda' if torch.cuda.is_available() else 'cpu')"
   ]
  },
  {
   "cell_type": "code",
   "execution_count": 25,
   "metadata": {},
   "outputs": [],
   "source": [
    "import torch.optim as optim\n",
    "optimizer = torch.optim.AdamW(lora_model.parameters(), lr=5e-5)"
   ]
  },
  {
   "cell_type": "code",
   "execution_count": 26,
   "metadata": {},
   "outputs": [],
   "source": [
    "num_epochs=2"
   ]
  },
  {
   "cell_type": "code",
   "execution_count": 27,
   "metadata": {},
   "outputs": [],
   "source": [
    "import torch.nn.functional as F"
   ]
  },
  {
   "cell_type": "code",
   "execution_count": 39,
   "metadata": {},
   "outputs": [],
   "source": [
    "def compute_laplacian(similarity_matrix):\n",
    "    similarity_matrix = similarity_matrix.float()\n",
    "\n",
    "    degree_matrix = torch.diag(torch.sum(similarity_matrix, dim=1))\n",
    "\n",
    "    laplacian_matrix = degree_matrix - similarity_matrix\n",
    "\n",
    "    return laplacian_matrix"
   ]
  },
  {
   "cell_type": "code",
   "execution_count": 84,
   "metadata": {},
   "outputs": [],
   "source": [
    "def harmonic_distance(all_embeddings):\n",
    "    harmonic_distances = []\n",
    "    for idx in range(0, len(all_embeddings), 7):\n",
    "        sample_embeddings=all_embeddings[idx:idx+7]\n",
    "        sim=F.cosine_similarity(sample_embeddings.unsqueeze(1), sample_embeddings.unsqueeze(0), dim=2)\n",
    "        laplacian_matrix = compute_laplacian(sim)\n",
    "        laplacian_pseudo_inv = torch.pinverse(laplacian_matrix)\n",
    "        anchor_node=torch.zeros(len(laplacian_matrix), dtype=torch.float32)\n",
    "        anchor_node[0] = 1        \n",
    "        distances = []\n",
    "        for i in range(1,7):\n",
    "            node=torch.zeros(len(laplacian_matrix), dtype=torch.float32)\n",
    "            node[i] = 1\n",
    "            diff = anchor_node - node\n",
    "            dist = torch.sqrt(torch.matmul(torch.matmul(diff.T, laplacian_pseudo_inv), diff))\n",
    "            distances.append(dist)\n",
    "        harmonic_distances.append(torch.stack(distances))\n",
    "    return(harmonic_distances)"
   ]
  },
  {
   "cell_type": "code",
   "execution_count": 52,
   "metadata": {},
   "outputs": [
    {
     "data": {
      "text/plain": [
       "tensor([[-0.2465, -0.2117,  0.5187,  ..., -0.1181,  0.1114,  0.6934],\n",
       "        [-0.4711, -0.2889,  0.6605,  ...,  0.0811,  0.0191,  0.4664],\n",
       "        [-0.8228,  0.0446, -0.1155,  ...,  0.1651, -0.5674,  0.7006],\n",
       "        ...,\n",
       "        [-0.1158, -0.0063,  0.0353,  ..., -0.1332,  0.0306,  0.1985],\n",
       "        [ 0.2141, -0.1693, -0.0944,  ...,  0.4810,  0.2314,  0.9298],\n",
       "        [ 0.0433, -0.1788,  0.0576,  ..., -0.4694,  0.1978,  0.5300]],\n",
       "       grad_fn=<CatBackward0>)"
      ]
     },
     "execution_count": 52,
     "metadata": {},
     "output_type": "execute_result"
    }
   ],
   "source": [
    "all_embeddings"
   ]
  },
  {
   "cell_type": "code",
   "execution_count": 87,
   "metadata": {},
   "outputs": [],
   "source": [
    "negative_embedding = [torch.tensor([\n",
    "    [-0.1, 0.2, 0.9],  # Negatives for the first anchor\n",
    "     [0.8, -0.5, 0.1]]),\n",
    "     torch.tensor([[-0.3, -0.2, -0.4],\n",
    "     [0.1, -0.1, 0.5]]),\n",
    "    torch.tensor([[0.5, 0.6, -0.2],   # Negatives for the second anchor\n",
    "     [0.7, 0.3, -0.9]]),\n",
    "     torch.tensor([[-0.8, -0.6, 0.3],\n",
    "     [-0.4, 0.4, 0.2]]),\n",
    "     torch.tensor([[-0.9, -0.6, 0.3],\n",
    "     [-0.4, 0.4, 0.1]])]"
   ]
  },
  {
   "cell_type": "code",
   "execution_count": 88,
   "metadata": {},
   "outputs": [],
   "source": [
    "anchor_embedding = torch.tensor([\n",
    "    [0.45, 0.15, -0.35],  # Similar to the first anchor\n",
    "    [-0.25, 0.38, 0.85]   # Similar to the second anchor\n",
    "])"
   ]
  },
  {
   "cell_type": "code",
   "execution_count": 89,
   "metadata": {},
   "outputs": [],
   "source": [
    "positive_embedding = torch.tensor([\n",
    "    [0.85, 0.15, -0.35],  # Similar to the first anchor\n",
    "    [-0.35, 0.38, 0.85]   # Similar to the second anchor\n",
    "])"
   ]
  },
  {
   "cell_type": "code",
   "execution_count": 90,
   "metadata": {},
   "outputs": [
    {
     "data": {
      "text/plain": [
       "tensor([[ 0.4500,  0.1500, -0.3500],\n",
       "        [ 0.8500,  0.1500, -0.3500],\n",
       "        [-0.1000,  0.2000,  0.9000],\n",
       "        [-0.3000, -0.2000, -0.4000],\n",
       "        [ 0.5000,  0.6000, -0.2000],\n",
       "        [-0.8000, -0.6000,  0.3000],\n",
       "        [-0.9000, -0.6000,  0.3000],\n",
       "        [-0.2500,  0.3800,  0.8500],\n",
       "        [-0.3500,  0.3800,  0.8500],\n",
       "        [ 0.8000, -0.5000,  0.1000],\n",
       "        [ 0.1000, -0.1000,  0.5000],\n",
       "        [ 0.7000,  0.3000, -0.9000],\n",
       "        [-0.4000,  0.4000,  0.2000],\n",
       "        [-0.4000,  0.4000,  0.1000]])"
      ]
     },
     "execution_count": 90,
     "metadata": {},
     "output_type": "execute_result"
    }
   ],
   "source": [
    "batch_embeddings = []\n",
    "for i in range(len(anchor_embedding)):  \n",
    "    sample_embeddings = torch.cat(\n",
    "        [anchor_embedding[i:i+1], \n",
    "        positive_embedding[i:i+1],  \n",
    "        torch.stack([neg[i] for neg in negative_embedding])],\n",
    "        dim=0\n",
    "    )\n",
    "    batch_embeddings.append(sample_embeddings)\n",
    "\n",
    "all_embeddings = torch.cat(batch_embeddings, dim=0)\n",
    "all_embeddings"
   ]
  },
  {
   "cell_type": "code",
   "execution_count": 96,
   "metadata": {},
   "outputs": [
    {
     "name": "stdout",
     "output_type": "stream",
     "text": [
      "tensor([[1022920.5625, 1022910.3125, 1022928.2500, 1022934.6250, 1022911.4375,\n",
      "         1022908.1250, 1022908.2500],\n",
      "        [1022915.9375, 1022896.7500, 1022944.9375, 1022967.1250, 1022894.8125,\n",
      "         1022886.9375, 1022881.3750],\n",
      "        [1022921.0625, 1022932.1875, 1022910.9375, 1022902.9375, 1022938.2500,\n",
      "         1022935.6875, 1022941.4375],\n",
      "        [1022922.2500, 1022949.1250, 1022897.6875, 1022875.9375, 1022957.0000,\n",
      "         1022956.6875, 1022967.4375],\n",
      "        [1022916.5625, 1022894.3750, 1022950.5625, 1022974.5625, 1022866.4375,\n",
      "         1022870.1875, 1022866.2500],\n",
      "        [1022916.1250, 1022889.3750, 1022950.9375, 1022977.1250, 1022873.1250,\n",
      "         1022866.6875, 1022869.5625],\n",
      "        [1022916.3750, 1022883.9375, 1022956.8125, 1022988.0000, 1022869.2500,\n",
      "         1022869.6875, 1022852.8750]])\n",
      "tensor([[996714.6875, 996714.5000, 996714.5000, 996714.3750, 996714.3125,\n",
      "         996714.3125, 996714.3125],\n",
      "        [996714.4375, 996714.9375, 996714.5625, 996714.5000, 996714.4375,\n",
      "         996714.3750, 996714.4375],\n",
      "        [996714.8750, 996715.0625, 996714.7500, 996714.6250, 996714.8125,\n",
      "         996715.0625, 996715.1875],\n",
      "        [996714.3125, 996714.4375, 996714.1250, 996714.9375, 996714.3125,\n",
      "         996714.1250, 996714.1250],\n",
      "        [996714.5625, 996714.7500, 996714.6250, 996714.6250, 996714.0625,\n",
      "         996714.5000, 996714.5000],\n",
      "        [996714.6875, 996714.8125, 996715.0625, 996714.6250, 996714.6250,\n",
      "         996715.1250, 996714.7500],\n",
      "        [996714.9375, 996715.1250, 996715.3750, 996714.8125, 996714.8750,\n",
      "         996714.9375, 996715.5625]])\n"
     ]
    }
   ],
   "source": [
    "for idx in range(0, len(all_embeddings), 7):\n",
    "    sample_embeddings=all_embeddings[idx:idx+7]\n",
    "    sim=F.cosine_similarity(sample_embeddings.unsqueeze(1), sample_embeddings.unsqueeze(0), dim=2)\n",
    "    laplacian_matrix = compute_laplacian(sim)\n",
    "    laplacian_pseudo_inv = torch.pinverse(laplacian_matrix)\n",
    "    print(laplacian_pseudo_inv)"
   ]
  },
  {
   "cell_type": "code",
   "execution_count": 95,
   "metadata": {},
   "outputs": [
    {
     "data": {
      "text/plain": [
       "tensor(-3.8278+0.j)"
      ]
     },
     "execution_count": 95,
     "metadata": {},
     "output_type": "execute_result"
    }
   ],
   "source": [
    "eigenvalues[0]"
   ]
  },
  {
   "cell_type": "code",
   "execution_count": 76,
   "metadata": {},
   "outputs": [],
   "source": [
    "def harmonic_loss(distances):\n",
    "    logits=-torch.stack(distances, dim=0)\n",
    "    print(logits)\n",
    "    labels = torch.zeros(logits.size(0), dtype=torch.long, device=logits.device)\n",
    "    loss = torch.nn.CrossEntropyLoss()(logits, labels)\n",
    "    return loss"
   ]
  },
  {
   "cell_type": "code",
   "execution_count": 45,
   "metadata": {},
   "outputs": [
    {
     "data": {
      "text/plain": [
       "2"
      ]
     },
     "execution_count": 45,
     "metadata": {},
     "output_type": "execute_result"
    }
   ],
   "source": [
    "dataset_val = load_dataset('ms_marco', 'v1.1', split='validation')\n",
    "processed_data_val = dataset_val.map(preprocess, remove_columns=dataset_val.column_names)\n",
    "processed_data_val = processed_data_val.filter(lambda x: x['query'] is not None and x['positive'] is not None)\n",
    "contrastive_pairs_val = []\n",
    "for item in processed_data_val:\n",
    "    query = item[\"query\"]\n",
    "    positive = item[\"positive\"]\n",
    "    negatives = item[\"negatives\"]\n",
    "    contrastive_pairs_val.append({\n",
    "        \"anchor\": query,\n",
    "        \"positive\": positive,\n",
    "        \"negatives\": negatives\n",
    "    })\n",
    "contrastive_dataset_val = ContrastiveDataset(contrastive_pairs_val[0:4])\n",
    "data_loader_val = DataLoader(contrastive_dataset_val, batch_size=2, shuffle=True)\n",
    "len(data_loader_val)"
   ]
  },
  {
   "cell_type": "code",
   "execution_count": 49,
   "metadata": {},
   "outputs": [],
   "source": [
    "def evaluate_mrr(model, data_loader_val):\n",
    "    model.eval()\n",
    "\n",
    "    total_rr = 0.0\n",
    "    num_queries = 0\n",
    "\n",
    "    with torch.no_grad():\n",
    "        for batch in data_loader_val:\n",
    "            anchor_text = batch[0]\n",
    "            positive_text = batch[1]\n",
    "            negative_texts = batch[2]\n",
    "\n",
    "            anchor_input = tokenizer(anchor_text, return_tensors='pt', padding=True, truncation=True, max_length=512).to(device)\n",
    "            positive_input = tokenizer(positive_text, return_tensors='pt', padding=True, truncation=True, max_length=512).to(device)\n",
    "\n",
    "            anchor_embedding = model(**anchor_input).last_hidden_state[:, 0, :]\n",
    "            positive_embedding = model(**positive_input).last_hidden_state[:, 0, :]\n",
    "            negative_embedding = [model(**tokenizer(neg, return_tensors='pt', padding=True, truncation=True, max_length=512).to(device)).last_hidden_state[:, 0, :] for neg in negative_texts]\n",
    "            batch_embeddings = []\n",
    "    \n",
    "            for i in range(len(anchor_embedding)):\n",
    "                sample_embeddings = torch.cat(\n",
    "                    [anchor_embedding[i:i+1], \n",
    "                    positive_embedding[i:i+1], \n",
    "                    torch.stack([neg[i] for neg in negative_embedding])],\n",
    "                    dim=0\n",
    "                )\n",
    "                batch_embeddings.append(sample_embeddings)\n",
    "\n",
    "            all_embeddings = torch.cat(batch_embeddings, dim=0)\n",
    "            distances=harmonic_distance(all_embeddings)\n",
    "            all_similarities=-torch.stack(distances, dim=0)\n",
    "\n",
    "            sorted_similarities, sorted_indices = torch.sort(all_similarities, dim=1, descending=True)\n",
    "\n",
    "            # Find the rank of the first relevant (positive) document\n",
    "            positive_rank = (sorted_indices == 0).nonzero(as_tuple=True)[1] + 1  # +1 to make rank 1-based\n",
    "            total_rr += torch.sum(1.0 / positive_rank.float()).item()  # Reciprocal rank\n",
    "            num_queries += len(positive_rank)\n",
    "\n",
    "    mrr = total_rr / num_queries\n",
    "    return mrr\n",
    "\n"
   ]
  },
  {
   "cell_type": "code",
   "execution_count": 83,
   "metadata": {},
   "outputs": [
    {
     "name": "stdout",
     "output_type": "stream",
     "text": [
      "tensor([[-0., -0., -0., nan, -0., nan],\n",
      "        [-0., -0., -0., -0., -0., -0.]], grad_fn=<NegBackward0>)\n"
     ]
    },
    {
     "ename": "_LinAlgError",
     "evalue": "linalg.svd: The algorithm failed to converge because the input matrix is ill-conditioned or has too many repeated singular values (error code: 6).",
     "output_type": "error",
     "traceback": [
      "\u001b[1;31m---------------------------------------------------------------------------\u001b[0m",
      "\u001b[1;31m_LinAlgError\u001b[0m                              Traceback (most recent call last)",
      "Cell \u001b[1;32mIn[83], line 35\u001b[0m\n\u001b[0;32m     31\u001b[0m \u001b[38;5;66;03m# Stack all sample embeddings together into a single tensor\u001b[39;00m\n\u001b[0;32m     32\u001b[0m all_embeddings \u001b[38;5;241m=\u001b[39m torch\u001b[38;5;241m.\u001b[39mcat(batch_embeddings, dim\u001b[38;5;241m=\u001b[39m\u001b[38;5;241m0\u001b[39m)\n\u001b[1;32m---> 35\u001b[0m distances\u001b[38;5;241m=\u001b[39m\u001b[43mharmonic_distance\u001b[49m\u001b[43m(\u001b[49m\u001b[43mall_embeddings\u001b[49m\u001b[43m)\u001b[49m\n\u001b[0;32m     37\u001b[0m \u001b[38;5;66;03m# Compute the InfoNCE loss\u001b[39;00m\n\u001b[0;32m     38\u001b[0m loss \u001b[38;5;241m=\u001b[39m harmonic_loss(distances)\n",
      "Cell \u001b[1;32mIn[82], line 7\u001b[0m, in \u001b[0;36mharmonic_distance\u001b[1;34m(all_embeddings)\u001b[0m\n\u001b[0;32m      5\u001b[0m sim\u001b[38;5;241m=\u001b[39mF\u001b[38;5;241m.\u001b[39mcosine_similarity(sample_embeddings\u001b[38;5;241m.\u001b[39munsqueeze(\u001b[38;5;241m1\u001b[39m), sample_embeddings\u001b[38;5;241m.\u001b[39munsqueeze(\u001b[38;5;241m0\u001b[39m), dim\u001b[38;5;241m=\u001b[39m\u001b[38;5;241m2\u001b[39m)\n\u001b[0;32m      6\u001b[0m laplacian_matrix \u001b[38;5;241m=\u001b[39m compute_laplacian(sim)\n\u001b[1;32m----> 7\u001b[0m laplacian_pseudo_inv \u001b[38;5;241m=\u001b[39m \u001b[43mtorch\u001b[49m\u001b[38;5;241;43m.\u001b[39;49m\u001b[43mpinverse\u001b[49m\u001b[43m(\u001b[49m\u001b[43mlaplacian_matrix\u001b[49m\u001b[43m)\u001b[49m\n\u001b[0;32m      8\u001b[0m laplacian_pseudo_inv_squared \u001b[38;5;241m=\u001b[39m torch\u001b[38;5;241m.\u001b[39mmatmul(laplacian_pseudo_inv, laplacian_pseudo_inv)\n\u001b[0;32m      9\u001b[0m anchor_node\u001b[38;5;241m=\u001b[39mtorch\u001b[38;5;241m.\u001b[39mzeros(\u001b[38;5;28mlen\u001b[39m(laplacian_matrix), dtype\u001b[38;5;241m=\u001b[39mtorch\u001b[38;5;241m.\u001b[39mfloat32)\n",
      "\u001b[1;31m_LinAlgError\u001b[0m: linalg.svd: The algorithm failed to converge because the input matrix is ill-conditioned or has too many repeated singular values (error code: 6)."
     ]
    }
   ],
   "source": [
    "for epoch in range(num_epochs):\n",
    "    lora_model.train() \n",
    "    \n",
    "    total_loss = 0.0\n",
    "    for batch in data_loader:\n",
    "        \n",
    "        anchor_texts = batch[0]\n",
    "        positive_texts = batch[1]\n",
    "        negative_texts = batch[2]\n",
    "    \n",
    "        anchor_inputs = tokenizer(anchor_texts, return_tensors='pt', padding=True, truncation=True, max_length=512).to(device)\n",
    "        positive_inputs = tokenizer(positive_texts, return_tensors='pt', padding=True, truncation=True, max_length=512).to(device)\n",
    "\n",
    "        anchor_embedding = lora_model(**anchor_inputs).last_hidden_state[:, 0, :]\n",
    "        positive_embedding = lora_model(**positive_inputs).last_hidden_state[:, 0, :]\n",
    "        negative_embedding = [lora_model(**tokenizer(neg, return_tensors='pt', padding=True, truncation=True, max_length=512).to(device)).last_hidden_state[:, 0, :] for neg in negative_texts]\n",
    "\n",
    "        batch_embeddings = []\n",
    "        \n",
    "        for i in range(len(anchor_embedding)): \n",
    "            sample_embeddings = torch.cat(\n",
    "                [anchor_embedding[i:i+1],  \n",
    "                positive_embedding[i:i+1],  \n",
    "                torch.stack([neg[i] for neg in negative_embedding])],\n",
    "                dim=0\n",
    "            )\n",
    "            batch_embeddings.append(sample_embeddings)\n",
    "\n",
    "        all_embeddings = torch.cat(batch_embeddings, dim=0)\n",
    "        \n",
    "        \n",
    "        distances=harmonic_distance(all_embeddings)\n",
    "\n",
    "        loss = harmonic_loss(distances)\n",
    "        \n",
    "        optimizer.zero_grad()  \n",
    "        loss.backward()  \n",
    "        optimizer.step()  \n",
    "        \n",
    "        total_loss += loss.item()\n",
    "    print(total_loss)\n",
    "    print(f\"Epoch {epoch+1}/{num_epochs}, Loss: {total_loss / len(data_loader)}\")\n",
    "    mrr_validation = evaluate_mrr(lora_model, data_loader_val)\n",
    "    #mrr_train = evaluate_mrr(lora_model, data_loader)\n",
    "    #print(f\"Mean Reciprocal Rank (MRR) for training set: {mrr_train:.4f}\")\n",
    "    print(f\"Mean Reciprocal Rank (MRR) for validation set: {mrr_validation:.4f}\")"
   ]
  },
  {
   "cell_type": "code",
   "execution_count": null,
   "metadata": {},
   "outputs": [],
   "source": []
  },
  {
   "cell_type": "code",
   "execution_count": null,
   "metadata": {},
   "outputs": [],
   "source": []
  }
 ],
 "metadata": {
  "kernelspec": {
   "display_name": "Python 3 (ipykernel)",
   "language": "python",
   "name": "python3"
  },
  "language_info": {
   "codemirror_mode": {
    "name": "ipython",
    "version": 3
   },
   "file_extension": ".py",
   "mimetype": "text/x-python",
   "name": "python",
   "nbconvert_exporter": "python",
   "pygments_lexer": "ipython3",
   "version": "3.10.12"
  }
 },
 "nbformat": 4,
 "nbformat_minor": 4
}
