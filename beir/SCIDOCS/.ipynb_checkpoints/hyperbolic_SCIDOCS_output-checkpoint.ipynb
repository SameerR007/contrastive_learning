{
 "cells": [
  {
   "cell_type": "code",
   "execution_count": 1,
   "id": "f6d4b65f-fa6b-4517-8694-8627bc49833b",
   "metadata": {
    "execution": {
     "iopub.execute_input": "2025-03-02T12:13:25.278090Z",
     "iopub.status.busy": "2025-03-02T12:13:25.277436Z",
     "iopub.status.idle": "2025-03-02T12:13:25.338598Z",
     "shell.execute_reply": "2025-03-02T12:13:25.338180Z"
    },
    "papermill": {
     "duration": 0.065564,
     "end_time": "2025-03-02T12:13:25.339957",
     "exception": false,
     "start_time": "2025-03-02T12:13:25.274393",
     "status": "completed"
    },
    "tags": []
   },
   "outputs": [
    {
     "name": "stderr",
     "output_type": "stream",
     "text": [
      "/dss/dsshome1/07/ra65bex2/srawat/myenv/lib/python3.12/site-packages/beir/datasets/data_loader.py:8: TqdmExperimentalWarning: Using `tqdm.autonotebook.tqdm` in notebook mode. Use `tqdm.tqdm` instead to force console mode (e.g. in jupyter console)\n",
      "  from tqdm.autonotebook import tqdm\n"
     ]
    }
   ],
   "source": [
    "from beir.datasets.data_loader import GenericDataLoader"
   ]
  },
  {
   "cell_type": "code",
   "execution_count": 2,
   "id": "a91d6914-e301-422c-b839-1fafeb1e8fa4",
   "metadata": {
    "execution": {
     "iopub.execute_input": "2025-03-02T12:13:25.347227Z",
     "iopub.status.busy": "2025-03-02T12:13:25.346896Z",
     "iopub.status.idle": "2025-03-02T12:13:25.349463Z",
     "shell.execute_reply": "2025-03-02T12:13:25.349066Z"
    },
    "papermill": {
     "duration": 0.006636,
     "end_time": "2025-03-02T12:13:25.350223",
     "exception": false,
     "start_time": "2025-03-02T12:13:25.343587",
     "status": "completed"
    },
    "tags": []
   },
   "outputs": [],
   "source": [
    "data_path = '/dss/dsshome1/07/ra65bex2/srawat/scidocs/scidocs'"
   ]
  },
  {
   "cell_type": "code",
   "execution_count": 3,
   "id": "41e17333-2c34-4b7b-91f6-3cbd3972f0d6",
   "metadata": {
    "execution": {
     "iopub.execute_input": "2025-03-02T12:13:25.357564Z",
     "iopub.status.busy": "2025-03-02T12:13:25.356378Z",
     "iopub.status.idle": "2025-03-02T12:13:26.337782Z",
     "shell.execute_reply": "2025-03-02T12:13:26.337332Z"
    },
    "papermill": {
     "duration": 0.985501,
     "end_time": "2025-03-02T12:13:26.338595",
     "exception": false,
     "start_time": "2025-03-02T12:13:25.353094",
     "status": "completed"
    },
    "tags": []
   },
   "outputs": [
    {
     "data": {
      "application/vnd.jupyter.widget-view+json": {
       "model_id": "ca2a88bc4d754b65b231aad2425f521a",
       "version_major": 2,
       "version_minor": 0
      },
      "text/plain": [
       "  0%|          | 0/25657 [00:00<?, ?it/s]"
      ]
     },
     "metadata": {},
     "output_type": "display_data"
    }
   ],
   "source": [
    "corpus, queries, qrels = GenericDataLoader(data_path).load(split=\"test\")"
   ]
  },
  {
   "cell_type": "code",
   "execution_count": 4,
   "id": "a29044d5-3952-4f3d-aa43-e1efd34fcad3",
   "metadata": {
    "execution": {
     "iopub.execute_input": "2025-03-02T12:13:26.344630Z",
     "iopub.status.busy": "2025-03-02T12:13:26.344244Z",
     "iopub.status.idle": "2025-03-02T12:13:28.526825Z",
     "shell.execute_reply": "2025-03-02T12:13:28.526064Z"
    },
    "papermill": {
     "duration": 2.186292,
     "end_time": "2025-03-02T12:13:28.527850",
     "exception": false,
     "start_time": "2025-03-02T12:13:26.341558",
     "status": "completed"
    },
    "tags": []
   },
   "outputs": [],
   "source": [
    "contrastive_pairs=[]\n",
    "import random\n",
    "c=0\n",
    "for query_id, relevant_docs in qrels.items():\n",
    "    try:\n",
    "        query_text = queries[query_id]\n",
    "        for doc_id in relevant_docs:\n",
    "            positive = corpus[doc_id][\"text\"]\n",
    "        #print(relevant_docs)\n",
    "        positive_doc_ids = set(relevant_docs)\n",
    "        all_doc_ids = set(corpus.keys())\n",
    "        negative_doc_ids = all_doc_ids - positive_doc_ids\n",
    "        negative_doc_ids=list(negative_doc_ids)\n",
    "        negative_doc_samples = random.sample(negative_doc_ids, k=5)\n",
    "        negatives=[]\n",
    "        for neg_doc_id in negative_doc_samples:\n",
    "            negative_doc_text = corpus[neg_doc_id][\"text\"]\n",
    "            negatives.append(negative_doc_text)\n",
    "        contrastive_pairs.append({\n",
    "            \"anchor\": query_text,\n",
    "            \"positive\": positive,\n",
    "            \"negatives\": negatives\n",
    "        })\n",
    "    except:\n",
    "        c=c+1"
   ]
  },
  {
   "cell_type": "code",
   "execution_count": 5,
   "id": "49721946-fff3-4690-bd92-d981cecdf62b",
   "metadata": {
    "execution": {
     "iopub.execute_input": "2025-03-02T12:13:28.538406Z",
     "iopub.status.busy": "2025-03-02T12:13:28.537952Z",
     "iopub.status.idle": "2025-03-02T12:13:28.542227Z",
     "shell.execute_reply": "2025-03-02T12:13:28.541828Z"
    },
    "papermill": {
     "duration": 0.007955,
     "end_time": "2025-03-02T12:13:28.542978",
     "exception": false,
     "start_time": "2025-03-02T12:13:28.535023",
     "status": "completed"
    },
    "tags": []
   },
   "outputs": [
    {
     "data": {
      "text/plain": [
       "0"
      ]
     },
     "execution_count": 5,
     "metadata": {},
     "output_type": "execute_result"
    }
   ],
   "source": [
    "c"
   ]
  },
  {
   "cell_type": "code",
   "execution_count": 6,
   "id": "de8ef367-dcb4-4bb6-af3a-20f190930ed1",
   "metadata": {
    "execution": {
     "iopub.execute_input": "2025-03-02T12:13:28.548241Z",
     "iopub.status.busy": "2025-03-02T12:13:28.547958Z",
     "iopub.status.idle": "2025-03-02T12:13:28.564077Z",
     "shell.execute_reply": "2025-03-02T12:13:28.563704Z"
    },
    "papermill": {
     "duration": 0.019608,
     "end_time": "2025-03-02T12:13:28.564854",
     "exception": false,
     "start_time": "2025-03-02T12:13:28.545246",
     "status": "completed"
    },
    "tags": []
   },
   "outputs": [
    {
     "data": {
      "text/plain": [
       "1000"
      ]
     },
     "execution_count": 6,
     "metadata": {},
     "output_type": "execute_result"
    }
   ],
   "source": [
    "len(contrastive_pairs)"
   ]
  },
  {
   "cell_type": "code",
   "execution_count": 7,
   "id": "8ade92f9-e3df-4d0a-b849-b1a721e18cf6",
   "metadata": {
    "execution": {
     "iopub.execute_input": "2025-03-02T12:13:28.570864Z",
     "iopub.status.busy": "2025-03-02T12:13:28.570590Z",
     "iopub.status.idle": "2025-03-02T12:13:28.586233Z",
     "shell.execute_reply": "2025-03-02T12:13:28.585841Z"
    },
    "papermill": {
     "duration": 0.019825,
     "end_time": "2025-03-02T12:13:28.587011",
     "exception": false,
     "start_time": "2025-03-02T12:13:28.567186",
     "status": "completed"
    },
    "tags": []
   },
   "outputs": [
    {
     "data": {
      "text/plain": [
       "1000"
      ]
     },
     "execution_count": 7,
     "metadata": {},
     "output_type": "execute_result"
    }
   ],
   "source": [
    "len(qrels)"
   ]
  },
  {
   "cell_type": "code",
   "execution_count": 8,
   "id": "6b97f7b4-f007-41f6-bfbb-1b9b01665e9d",
   "metadata": {
    "execution": {
     "iopub.execute_input": "2025-03-02T12:13:28.592632Z",
     "iopub.status.busy": "2025-03-02T12:13:28.592229Z",
     "iopub.status.idle": "2025-03-02T12:13:30.747544Z",
     "shell.execute_reply": "2025-03-02T12:13:30.747077Z"
    },
    "papermill": {
     "duration": 2.158974,
     "end_time": "2025-03-02T12:13:30.748464",
     "exception": false,
     "start_time": "2025-03-02T12:13:28.589490",
     "status": "completed"
    },
    "tags": []
   },
   "outputs": [],
   "source": [
    "from torch.utils.data import DataLoader"
   ]
  },
  {
   "cell_type": "code",
   "execution_count": 9,
   "id": "a415b29a-a543-4679-8f78-44f715b3067d",
   "metadata": {
    "execution": {
     "iopub.execute_input": "2025-03-02T12:13:30.756069Z",
     "iopub.status.busy": "2025-03-02T12:13:30.755735Z",
     "iopub.status.idle": "2025-03-02T12:13:30.758842Z",
     "shell.execute_reply": "2025-03-02T12:13:30.758439Z"
    },
    "papermill": {
     "duration": 0.008274,
     "end_time": "2025-03-02T12:13:30.759716",
     "exception": false,
     "start_time": "2025-03-02T12:13:30.751442",
     "status": "completed"
    },
    "tags": []
   },
   "outputs": [],
   "source": [
    "class ContrastiveDataset:\n",
    "    def __init__(self, pairs):\n",
    "        self.pairs = pairs\n",
    "\n",
    "    def __len__(self):\n",
    "        return len(self.pairs)\n",
    "\n",
    "    def __getitem__(self, idx):\n",
    "        item = self.pairs[idx]\n",
    "        return item[\"anchor\"], item[\"positive\"], item[\"negatives\"]"
   ]
  },
  {
   "cell_type": "code",
   "execution_count": 10,
   "id": "a39efeab-fd20-411a-80c5-315f362e00d2",
   "metadata": {
    "execution": {
     "iopub.execute_input": "2025-03-02T12:13:30.765588Z",
     "iopub.status.busy": "2025-03-02T12:13:30.765256Z",
     "iopub.status.idle": "2025-03-02T12:13:30.783567Z",
     "shell.execute_reply": "2025-03-02T12:13:30.783180Z"
    },
    "papermill": {
     "duration": 0.022018,
     "end_time": "2025-03-02T12:13:30.784391",
     "exception": false,
     "start_time": "2025-03-02T12:13:30.762373",
     "status": "completed"
    },
    "tags": []
   },
   "outputs": [],
   "source": [
    "contrastive_dataset = ContrastiveDataset(contrastive_pairs)"
   ]
  },
  {
   "cell_type": "code",
   "execution_count": 11,
   "id": "d103bbfa-895a-4020-a7e5-21de659f27dc",
   "metadata": {
    "execution": {
     "iopub.execute_input": "2025-03-02T12:13:30.790139Z",
     "iopub.status.busy": "2025-03-02T12:13:30.789752Z",
     "iopub.status.idle": "2025-03-02T12:13:30.806125Z",
     "shell.execute_reply": "2025-03-02T12:13:30.805744Z"
    },
    "papermill": {
     "duration": 0.020012,
     "end_time": "2025-03-02T12:13:30.806913",
     "exception": false,
     "start_time": "2025-03-02T12:13:30.786901",
     "status": "completed"
    },
    "tags": []
   },
   "outputs": [],
   "source": [
    "data_loader = DataLoader(contrastive_dataset, batch_size=32, shuffle=True)"
   ]
  },
  {
   "cell_type": "code",
   "execution_count": 12,
   "id": "c8b0277f-f526-4087-82da-c4cdd65d32da",
   "metadata": {
    "execution": {
     "iopub.execute_input": "2025-03-02T12:13:30.812809Z",
     "iopub.status.busy": "2025-03-02T12:13:30.812384Z",
     "iopub.status.idle": "2025-03-02T12:13:30.827851Z",
     "shell.execute_reply": "2025-03-02T12:13:30.827473Z"
    },
    "papermill": {
     "duration": 0.019164,
     "end_time": "2025-03-02T12:13:30.828595",
     "exception": false,
     "start_time": "2025-03-02T12:13:30.809431",
     "status": "completed"
    },
    "tags": []
   },
   "outputs": [
    {
     "data": {
      "text/plain": [
       "32"
      ]
     },
     "execution_count": 12,
     "metadata": {},
     "output_type": "execute_result"
    }
   ],
   "source": [
    "len(data_loader)"
   ]
  },
  {
   "cell_type": "code",
   "execution_count": 13,
   "id": "e15526a4-b3fe-435b-91c9-ad4064562f0f",
   "metadata": {
    "execution": {
     "iopub.execute_input": "2025-03-02T12:13:30.834570Z",
     "iopub.status.busy": "2025-03-02T12:13:30.834141Z",
     "iopub.status.idle": "2025-03-02T12:13:36.069255Z",
     "shell.execute_reply": "2025-03-02T12:13:36.068588Z"
    },
    "papermill": {
     "duration": 5.239132,
     "end_time": "2025-03-02T12:13:36.070344",
     "exception": false,
     "start_time": "2025-03-02T12:13:30.831212",
     "status": "completed"
    },
    "tags": []
   },
   "outputs": [
    {
     "name": "stderr",
     "output_type": "stream",
     "text": [
      "/tmp/ipykernel_2596275/3548975511.py:3: FutureWarning: You are using `torch.load` with `weights_only=False` (the current default value), which uses the default pickle module implicitly. It is possible to construct malicious pickle data which will execute arbitrary code during unpickling (See https://github.com/pytorch/pytorch/blob/main/SECURITY.md#untrusted-models for more details). In a future release, the default value for `weights_only` will be flipped to `True`. This limits the functions that could be executed during unpickling. Arbitrary objects will no longer be allowed to be loaded via this mode unless they are explicitly allowlisted by the user via `torch.serialization.add_safe_globals`. We recommend you start setting `weights_only=True` for any use case where you don't have full control of the loaded file. Please open an issue on GitHub for any issues related to this experimental feature.\n",
      "  lora_model = torch.load(file_path)\n"
     ]
    }
   ],
   "source": [
    "import torch\n",
    "file_path=\"/dss/dsshome1/07/ra65bex2/srawat/contrastive_learning/v1.1/0.1hyperbolic/hyperbolic_lora_checkpoint_epoch_3.pth\"\n",
    "lora_model = torch.load(file_path)"
   ]
  },
  {
   "cell_type": "code",
   "execution_count": 14,
   "id": "9999e628-5966-4dda-b5c5-c0d762fce27d",
   "metadata": {
    "execution": {
     "iopub.execute_input": "2025-03-02T12:13:36.077551Z",
     "iopub.status.busy": "2025-03-02T12:13:36.076943Z",
     "iopub.status.idle": "2025-03-02T12:13:36.082889Z",
     "shell.execute_reply": "2025-03-02T12:13:36.082510Z"
    },
    "papermill": {
     "duration": 0.009939,
     "end_time": "2025-03-02T12:13:36.083602",
     "exception": false,
     "start_time": "2025-03-02T12:13:36.073663",
     "status": "completed"
    },
    "tags": []
   },
   "outputs": [],
   "source": [
    "device = torch.device('cuda' if torch.cuda.is_available() else 'cpu')\n",
    "lora_model = lora_model.to(device)"
   ]
  },
  {
   "cell_type": "code",
   "execution_count": 15,
   "id": "7e6a3a61-8db0-43db-b575-6399f8515950",
   "metadata": {
    "execution": {
     "iopub.execute_input": "2025-03-02T12:13:36.089749Z",
     "iopub.status.busy": "2025-03-02T12:13:36.089478Z",
     "iopub.status.idle": "2025-03-02T12:13:36.340726Z",
     "shell.execute_reply": "2025-03-02T12:13:36.340248Z"
    },
    "papermill": {
     "duration": 0.255293,
     "end_time": "2025-03-02T12:13:36.341658",
     "exception": false,
     "start_time": "2025-03-02T12:13:36.086365",
     "status": "completed"
    },
    "tags": []
   },
   "outputs": [],
   "source": [
    "from transformers import AutoTokenizer, AutoModel\n",
    "tokenizer = AutoTokenizer.from_pretrained(\"bert-base-uncased\")"
   ]
  },
  {
   "cell_type": "code",
   "execution_count": 16,
   "id": "68ac4919-76f1-4349-a314-4b1061126655",
   "metadata": {
    "execution": {
     "iopub.execute_input": "2025-03-02T12:13:36.348320Z",
     "iopub.status.busy": "2025-03-02T12:13:36.348023Z",
     "iopub.status.idle": "2025-03-02T12:13:36.350937Z",
     "shell.execute_reply": "2025-03-02T12:13:36.350543Z"
    },
    "papermill": {
     "duration": 0.00675,
     "end_time": "2025-03-02T12:13:36.351632",
     "exception": false,
     "start_time": "2025-03-02T12:13:36.344882",
     "status": "completed"
    },
    "tags": []
   },
   "outputs": [],
   "source": [
    "def lorentzian_distance(x, y):\n",
    "    \n",
    "    dot_product = torch.sum(x * y, dim=-1)\n",
    "    norm_x = torch.norm(x, dim=-1)\n",
    "    norm_y = torch.norm(y, dim=-1)\n",
    "    \n",
    "    distance = torch.acosh(-dot_product + torch.sqrt((1 + norm_x**2) * (1 + norm_y**2)))\n",
    "    return distance"
   ]
  },
  {
   "cell_type": "code",
   "execution_count": 17,
   "id": "90e1a127-7622-4dcb-9765-7f7d7e0b751c",
   "metadata": {
    "execution": {
     "iopub.execute_input": "2025-03-02T12:13:36.358776Z",
     "iopub.status.busy": "2025-03-02T12:13:36.358207Z",
     "iopub.status.idle": "2025-03-02T12:13:36.419996Z",
     "shell.execute_reply": "2025-03-02T12:13:36.419619Z"
    },
    "papermill": {
     "duration": 0.065971,
     "end_time": "2025-03-02T12:13:36.420848",
     "exception": false,
     "start_time": "2025-03-02T12:13:36.354877",
     "status": "completed"
    },
    "tags": []
   },
   "outputs": [],
   "source": [
    "def expm_o(v, c=1.0):\n",
    "    c = torch.tensor(c)\n",
    "    vspace = v\n",
    "    vnorm = torch.norm(v, p=2, dim=-1, keepdim=True)\n",
    "    xspace = torch.sinh(torch.sqrt(c) * vnorm) * vspace / (torch.sqrt(c) * vnorm)\n",
    "    batch_min = xspace.min(dim=1, keepdim=True).values\n",
    "    batch_max = xspace.max(dim=1, keepdim=True).values\n",
    "    xspace_scaled=(xspace - batch_min) / (batch_max - batch_min)\n",
    "    return xspace_scaled"
   ]
  },
  {
   "cell_type": "code",
   "execution_count": 18,
   "id": "990f63bd-4d48-4f58-a001-3b3250f65312",
   "metadata": {
    "execution": {
     "iopub.execute_input": "2025-03-02T12:13:36.427523Z",
     "iopub.status.busy": "2025-03-02T12:13:36.427098Z",
     "iopub.status.idle": "2025-03-02T12:13:36.444056Z",
     "shell.execute_reply": "2025-03-02T12:13:36.443664Z"
    },
    "papermill": {
     "duration": 0.020773,
     "end_time": "2025-03-02T12:13:36.444764",
     "exception": false,
     "start_time": "2025-03-02T12:13:36.423991",
     "status": "completed"
    },
    "tags": []
   },
   "outputs": [],
   "source": [
    "def evaluate_mrr(model1, data_loader_val, distance_fn):\n",
    "    model1.eval()\n",
    "    \n",
    "    total_rr = 0.0\n",
    "    num_queries = 0\n",
    "\n",
    "    with torch.no_grad():\n",
    "        for batch in data_loader_val:\n",
    "            anchor_text = batch[0]\n",
    "            positive_text = batch[1]\n",
    "            negative_texts = batch[2]\n",
    "\n",
    "            anchor_input = tokenizer(anchor_text, return_tensors='pt', padding=True, truncation=True, max_length=512).to(device)\n",
    "            positive_input = tokenizer(positive_text, return_tensors='pt', padding=True, truncation=True, max_length=512).to(device)\n",
    "\n",
    "            anchor_embedding = expm_o(model1(**anchor_input).last_hidden_state[:, 0, :])\n",
    "            positive_embedding = expm_o(model1(**positive_input).last_hidden_state[:, 0, :])\n",
    "            negative_embedding = [expm_o(model1(**tokenizer(neg, return_tensors='pt', padding=True, truncation=True, max_length=512).to(device)).last_hidden_state[:, 0, :]) for neg in negative_texts]\n",
    "\n",
    "            pos_dist = distance_fn(anchor_embedding, positive_embedding)\n",
    "            neg_dist = torch.stack([distance_fn(anchor_embedding, neg) for neg in negative_embedding], dim=-1)\n",
    "            all_similarities=torch.cat([-pos_dist.unsqueeze(1), -neg_dist], dim=1)\n",
    "\n",
    "            sorted_similarities, sorted_indices = torch.sort(all_similarities, dim=1, descending=True)\n",
    "\n",
    "            # Find the rank of the first relevant (positive) document\n",
    "            positive_rank = (sorted_indices == 0).nonzero(as_tuple=True)[1] + 1  # +1 to make rank 1-based\n",
    "            total_rr += torch.sum(1.0 / positive_rank.float()).item()  # Reciprocal rank\n",
    "            num_queries += len(positive_rank)\n",
    "            \n",
    "    mrr = total_rr / num_queries\n",
    "    return mrr"
   ]
  },
  {
   "cell_type": "code",
   "execution_count": 19,
   "id": "534a9ec5-4211-4cb6-81f1-fb8a30caff92",
   "metadata": {
    "execution": {
     "iopub.execute_input": "2025-03-02T12:13:36.451849Z",
     "iopub.status.busy": "2025-03-02T12:13:36.451115Z",
     "iopub.status.idle": "2025-03-02T12:14:09.998835Z",
     "shell.execute_reply": "2025-03-02T12:14:09.998226Z"
    },
    "papermill": {
     "duration": 33.557656,
     "end_time": "2025-03-02T12:14:10.005471",
     "exception": false,
     "start_time": "2025-03-02T12:13:36.447815",
     "status": "completed"
    },
    "tags": []
   },
   "outputs": [
    {
     "name": "stdout",
     "output_type": "stream",
     "text": [
      "0.3976000068187714\n"
     ]
    }
   ],
   "source": [
    "mrr_validation = evaluate_mrr(model1=lora_model, data_loader_val=data_loader,distance_fn=lorentzian_distance)\n",
    "print(mrr_validation)"
   ]
  },
  {
   "cell_type": "code",
   "execution_count": null,
   "id": "f61bbd65-41c9-4ac7-80ef-ba4a4fb02d45",
   "metadata": {
    "papermill": {
     "duration": 0.002843,
     "end_time": "2025-03-02T12:14:10.013152",
     "exception": false,
     "start_time": "2025-03-02T12:14:10.010309",
     "status": "completed"
    },
    "tags": []
   },
   "outputs": [],
   "source": []
  }
 ],
 "metadata": {
  "kernelspec": {
   "display_name": "Python (myenv)",
   "language": "python",
   "name": "myenv"
  },
  "language_info": {
   "codemirror_mode": {
    "name": "ipython",
    "version": 3
   },
   "file_extension": ".py",
   "mimetype": "text/x-python",
   "name": "python",
   "nbconvert_exporter": "python",
   "pygments_lexer": "ipython3",
   "version": "3.12.7"
  },
  "papermill": {
   "default_parameters": {},
   "duration": 47.21706,
   "end_time": "2025-03-02T12:14:11.334213",
   "environment_variables": {},
   "exception": null,
   "input_path": "hyperbolic_SCIDOCS.ipynb",
   "output_path": "hyperbolic_SCIDOCS_output.ipynb",
   "parameters": {},
   "start_time": "2025-03-02T12:13:24.117153",
   "version": "2.6.0"
  },
  "widgets": {
   "application/vnd.jupyter.widget-state+json": {
    "state": {
     "16709b156545492fbbe015df262ad5d9": {
      "model_module": "@jupyter-widgets/controls",
      "model_module_version": "2.0.0",
      "model_name": "HTMLModel",
      "state": {
       "_dom_classes": [],
       "_model_module": "@jupyter-widgets/controls",
       "_model_module_version": "2.0.0",
       "_model_name": "HTMLModel",
       "_view_count": null,
       "_view_module": "@jupyter-widgets/controls",
       "_view_module_version": "2.0.0",
       "_view_name": "HTMLView",
       "description": "",
       "description_allow_html": false,
       "layout": "IPY_MODEL_da2126c800944040b39ffc92f7585f16",
       "placeholder": "​",
       "style": "IPY_MODEL_2b1d13314bcd419f86f51bb2a3569b85",
       "tabbable": null,
       "tooltip": null,
       "value": "100%"
      }
     },
     "1d9c1e9829e142e3af8aec623ad96b6e": {
      "model_module": "@jupyter-widgets/base",
      "model_module_version": "2.0.0",
      "model_name": "LayoutModel",
      "state": {
       "_model_module": "@jupyter-widgets/base",
       "_model_module_version": "2.0.0",
       "_model_name": "LayoutModel",
       "_view_count": null,
       "_view_module": "@jupyter-widgets/base",
       "_view_module_version": "2.0.0",
       "_view_name": "LayoutView",
       "align_content": null,
       "align_items": null,
       "align_self": null,
       "border_bottom": null,
       "border_left": null,
       "border_right": null,
       "border_top": null,
       "bottom": null,
       "display": null,
       "flex": null,
       "flex_flow": null,
       "grid_area": null,
       "grid_auto_columns": null,
       "grid_auto_flow": null,
       "grid_auto_rows": null,
       "grid_column": null,
       "grid_gap": null,
       "grid_row": null,
       "grid_template_areas": null,
       "grid_template_columns": null,
       "grid_template_rows": null,
       "height": null,
       "justify_content": null,
       "justify_items": null,
       "left": null,
       "margin": null,
       "max_height": null,
       "max_width": null,
       "min_height": null,
       "min_width": null,
       "object_fit": null,
       "object_position": null,
       "order": null,
       "overflow": null,
       "padding": null,
       "right": null,
       "top": null,
       "visibility": null,
       "width": null
      }
     },
     "205d868461a848819686e779150e9281": {
      "model_module": "@jupyter-widgets/controls",
      "model_module_version": "2.0.0",
      "model_name": "FloatProgressModel",
      "state": {
       "_dom_classes": [],
       "_model_module": "@jupyter-widgets/controls",
       "_model_module_version": "2.0.0",
       "_model_name": "FloatProgressModel",
       "_view_count": null,
       "_view_module": "@jupyter-widgets/controls",
       "_view_module_version": "2.0.0",
       "_view_name": "ProgressView",
       "bar_style": "success",
       "description": "",
       "description_allow_html": false,
       "layout": "IPY_MODEL_5c014c34cc77444b8b0e88cba1420b26",
       "max": 25657.0,
       "min": 0.0,
       "orientation": "horizontal",
       "style": "IPY_MODEL_4ce8b7febbad4b47869240143c9bcee5",
       "tabbable": null,
       "tooltip": null,
       "value": 25657.0
      }
     },
     "2b1d13314bcd419f86f51bb2a3569b85": {
      "model_module": "@jupyter-widgets/controls",
      "model_module_version": "2.0.0",
      "model_name": "HTMLStyleModel",
      "state": {
       "_model_module": "@jupyter-widgets/controls",
       "_model_module_version": "2.0.0",
       "_model_name": "HTMLStyleModel",
       "_view_count": null,
       "_view_module": "@jupyter-widgets/base",
       "_view_module_version": "2.0.0",
       "_view_name": "StyleView",
       "background": null,
       "description_width": "",
       "font_size": null,
       "text_color": null
      }
     },
     "4ce8b7febbad4b47869240143c9bcee5": {
      "model_module": "@jupyter-widgets/controls",
      "model_module_version": "2.0.0",
      "model_name": "ProgressStyleModel",
      "state": {
       "_model_module": "@jupyter-widgets/controls",
       "_model_module_version": "2.0.0",
       "_model_name": "ProgressStyleModel",
       "_view_count": null,
       "_view_module": "@jupyter-widgets/base",
       "_view_module_version": "2.0.0",
       "_view_name": "StyleView",
       "bar_color": null,
       "description_width": ""
      }
     },
     "5c014c34cc77444b8b0e88cba1420b26": {
      "model_module": "@jupyter-widgets/base",
      "model_module_version": "2.0.0",
      "model_name": "LayoutModel",
      "state": {
       "_model_module": "@jupyter-widgets/base",
       "_model_module_version": "2.0.0",
       "_model_name": "LayoutModel",
       "_view_count": null,
       "_view_module": "@jupyter-widgets/base",
       "_view_module_version": "2.0.0",
       "_view_name": "LayoutView",
       "align_content": null,
       "align_items": null,
       "align_self": null,
       "border_bottom": null,
       "border_left": null,
       "border_right": null,
       "border_top": null,
       "bottom": null,
       "display": null,
       "flex": null,
       "flex_flow": null,
       "grid_area": null,
       "grid_auto_columns": null,
       "grid_auto_flow": null,
       "grid_auto_rows": null,
       "grid_column": null,
       "grid_gap": null,
       "grid_row": null,
       "grid_template_areas": null,
       "grid_template_columns": null,
       "grid_template_rows": null,
       "height": null,
       "justify_content": null,
       "justify_items": null,
       "left": null,
       "margin": null,
       "max_height": null,
       "max_width": null,
       "min_height": null,
       "min_width": null,
       "object_fit": null,
       "object_position": null,
       "order": null,
       "overflow": null,
       "padding": null,
       "right": null,
       "top": null,
       "visibility": null,
       "width": null
      }
     },
     "c2183f4b5b784a969c0b9d952ba63e8a": {
      "model_module": "@jupyter-widgets/controls",
      "model_module_version": "2.0.0",
      "model_name": "HTMLModel",
      "state": {
       "_dom_classes": [],
       "_model_module": "@jupyter-widgets/controls",
       "_model_module_version": "2.0.0",
       "_model_name": "HTMLModel",
       "_view_count": null,
       "_view_module": "@jupyter-widgets/controls",
       "_view_module_version": "2.0.0",
       "_view_name": "HTMLView",
       "description": "",
       "description_allow_html": false,
       "layout": "IPY_MODEL_de8eedc5c9ca49a9b49fab2e80296c55",
       "placeholder": "​",
       "style": "IPY_MODEL_c25682da562a4f42bfefc2e279262b4c",
       "tabbable": null,
       "tooltip": null,
       "value": " 25657/25657 [00:00&lt;00:00, 34055.08it/s]"
      }
     },
     "c25682da562a4f42bfefc2e279262b4c": {
      "model_module": "@jupyter-widgets/controls",
      "model_module_version": "2.0.0",
      "model_name": "HTMLStyleModel",
      "state": {
       "_model_module": "@jupyter-widgets/controls",
       "_model_module_version": "2.0.0",
       "_model_name": "HTMLStyleModel",
       "_view_count": null,
       "_view_module": "@jupyter-widgets/base",
       "_view_module_version": "2.0.0",
       "_view_name": "StyleView",
       "background": null,
       "description_width": "",
       "font_size": null,
       "text_color": null
      }
     },
     "ca2a88bc4d754b65b231aad2425f521a": {
      "model_module": "@jupyter-widgets/controls",
      "model_module_version": "2.0.0",
      "model_name": "HBoxModel",
      "state": {
       "_dom_classes": [],
       "_model_module": "@jupyter-widgets/controls",
       "_model_module_version": "2.0.0",
       "_model_name": "HBoxModel",
       "_view_count": null,
       "_view_module": "@jupyter-widgets/controls",
       "_view_module_version": "2.0.0",
       "_view_name": "HBoxView",
       "box_style": "",
       "children": [
        "IPY_MODEL_16709b156545492fbbe015df262ad5d9",
        "IPY_MODEL_205d868461a848819686e779150e9281",
        "IPY_MODEL_c2183f4b5b784a969c0b9d952ba63e8a"
       ],
       "layout": "IPY_MODEL_1d9c1e9829e142e3af8aec623ad96b6e",
       "tabbable": null,
       "tooltip": null
      }
     },
     "da2126c800944040b39ffc92f7585f16": {
      "model_module": "@jupyter-widgets/base",
      "model_module_version": "2.0.0",
      "model_name": "LayoutModel",
      "state": {
       "_model_module": "@jupyter-widgets/base",
       "_model_module_version": "2.0.0",
       "_model_name": "LayoutModel",
       "_view_count": null,
       "_view_module": "@jupyter-widgets/base",
       "_view_module_version": "2.0.0",
       "_view_name": "LayoutView",
       "align_content": null,
       "align_items": null,
       "align_self": null,
       "border_bottom": null,
       "border_left": null,
       "border_right": null,
       "border_top": null,
       "bottom": null,
       "display": null,
       "flex": null,
       "flex_flow": null,
       "grid_area": null,
       "grid_auto_columns": null,
       "grid_auto_flow": null,
       "grid_auto_rows": null,
       "grid_column": null,
       "grid_gap": null,
       "grid_row": null,
       "grid_template_areas": null,
       "grid_template_columns": null,
       "grid_template_rows": null,
       "height": null,
       "justify_content": null,
       "justify_items": null,
       "left": null,
       "margin": null,
       "max_height": null,
       "max_width": null,
       "min_height": null,
       "min_width": null,
       "object_fit": null,
       "object_position": null,
       "order": null,
       "overflow": null,
       "padding": null,
       "right": null,
       "top": null,
       "visibility": null,
       "width": null
      }
     },
     "de8eedc5c9ca49a9b49fab2e80296c55": {
      "model_module": "@jupyter-widgets/base",
      "model_module_version": "2.0.0",
      "model_name": "LayoutModel",
      "state": {
       "_model_module": "@jupyter-widgets/base",
       "_model_module_version": "2.0.0",
       "_model_name": "LayoutModel",
       "_view_count": null,
       "_view_module": "@jupyter-widgets/base",
       "_view_module_version": "2.0.0",
       "_view_name": "LayoutView",
       "align_content": null,
       "align_items": null,
       "align_self": null,
       "border_bottom": null,
       "border_left": null,
       "border_right": null,
       "border_top": null,
       "bottom": null,
       "display": null,
       "flex": null,
       "flex_flow": null,
       "grid_area": null,
       "grid_auto_columns": null,
       "grid_auto_flow": null,
       "grid_auto_rows": null,
       "grid_column": null,
       "grid_gap": null,
       "grid_row": null,
       "grid_template_areas": null,
       "grid_template_columns": null,
       "grid_template_rows": null,
       "height": null,
       "justify_content": null,
       "justify_items": null,
       "left": null,
       "margin": null,
       "max_height": null,
       "max_width": null,
       "min_height": null,
       "min_width": null,
       "object_fit": null,
       "object_position": null,
       "order": null,
       "overflow": null,
       "padding": null,
       "right": null,
       "top": null,
       "visibility": null,
       "width": null
      }
     }
    },
    "version_major": 2,
    "version_minor": 0
   }
  }
 },
 "nbformat": 4,
 "nbformat_minor": 5
}