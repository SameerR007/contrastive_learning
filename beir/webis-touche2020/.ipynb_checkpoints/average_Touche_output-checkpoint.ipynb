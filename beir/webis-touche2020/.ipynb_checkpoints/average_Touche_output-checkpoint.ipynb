{
 "cells": [
  {
   "cell_type": "code",
   "execution_count": 1,
   "id": "f6d4b65f-fa6b-4517-8694-8627bc49833b",
   "metadata": {
    "execution": {
     "iopub.execute_input": "2025-03-02T14:40:48.136933Z",
     "iopub.status.busy": "2025-03-02T14:40:48.136653Z",
     "iopub.status.idle": "2025-03-02T14:40:48.196400Z",
     "shell.execute_reply": "2025-03-02T14:40:48.196084Z"
    },
    "papermill": {
     "duration": 0.063917,
     "end_time": "2025-03-02T14:40:48.197013",
     "exception": false,
     "start_time": "2025-03-02T14:40:48.133096",
     "status": "completed"
    },
    "tags": []
   },
   "outputs": [
    {
     "name": "stderr",
     "output_type": "stream",
     "text": [
      "/dss/dsshome1/07/ra65bex2/srawat/myenv/lib/python3.12/site-packages/beir/datasets/data_loader.py:8: TqdmExperimentalWarning: Using `tqdm.autonotebook.tqdm` in notebook mode. Use `tqdm.tqdm` instead to force console mode (e.g. in jupyter console)\n",
      "  from tqdm.autonotebook import tqdm\n"
     ]
    }
   ],
   "source": [
    "from beir.datasets.data_loader import GenericDataLoader"
   ]
  },
  {
   "cell_type": "code",
   "execution_count": 2,
   "id": "a91d6914-e301-422c-b839-1fafeb1e8fa4",
   "metadata": {
    "execution": {
     "iopub.execute_input": "2025-03-02T14:40:48.202071Z",
     "iopub.status.busy": "2025-03-02T14:40:48.201945Z",
     "iopub.status.idle": "2025-03-02T14:40:48.203887Z",
     "shell.execute_reply": "2025-03-02T14:40:48.203605Z"
    },
    "papermill": {
     "duration": 0.005015,
     "end_time": "2025-03-02T14:40:48.204454",
     "exception": false,
     "start_time": "2025-03-02T14:40:48.199439",
     "status": "completed"
    },
    "tags": []
   },
   "outputs": [],
   "source": [
    "data_path='/dss/dsshome1/07/ra65bex2/srawat/webis-touche2020/webis-touche2020'"
   ]
  },
  {
   "cell_type": "code",
   "execution_count": 3,
   "id": "41e17333-2c34-4b7b-91f6-3cbd3972f0d6",
   "metadata": {
    "execution": {
     "iopub.execute_input": "2025-03-02T14:40:48.209264Z",
     "iopub.status.busy": "2025-03-02T14:40:48.209025Z",
     "iopub.status.idle": "2025-03-02T14:40:51.841415Z",
     "shell.execute_reply": "2025-03-02T14:40:51.840978Z"
    },
    "papermill": {
     "duration": 3.63549,
     "end_time": "2025-03-02T14:40:51.842084",
     "exception": false,
     "start_time": "2025-03-02T14:40:48.206594",
     "status": "completed"
    },
    "tags": []
   },
   "outputs": [
    {
     "data": {
      "application/vnd.jupyter.widget-view+json": {
       "model_id": "c5a79e9ebd074fe79b68a395dbf7d7ad",
       "version_major": 2,
       "version_minor": 0
      },
      "text/plain": [
       "  0%|          | 0/382545 [00:00<?, ?it/s]"
      ]
     },
     "metadata": {},
     "output_type": "display_data"
    }
   ],
   "source": [
    "corpus, queries, qrels = GenericDataLoader(data_path).load(split=\"test\")"
   ]
  },
  {
   "cell_type": "code",
   "execution_count": 4,
   "id": "a29044d5-3952-4f3d-aa43-e1efd34fcad3",
   "metadata": {
    "execution": {
     "iopub.execute_input": "2025-03-02T14:40:51.847792Z",
     "iopub.status.busy": "2025-03-02T14:40:51.847656Z",
     "iopub.status.idle": "2025-03-02T14:40:55.230936Z",
     "shell.execute_reply": "2025-03-02T14:40:55.230359Z"
    },
    "papermill": {
     "duration": 3.386806,
     "end_time": "2025-03-02T14:40:55.231803",
     "exception": false,
     "start_time": "2025-03-02T14:40:51.844997",
     "status": "completed"
    },
    "tags": []
   },
   "outputs": [],
   "source": [
    "contrastive_pairs=[]\n",
    "import random\n",
    "c=0\n",
    "for query_id, relevant_docs in qrels.items():\n",
    "    try:\n",
    "        query_text = queries[query_id]\n",
    "        for doc_id in relevant_docs:\n",
    "            positive = corpus[doc_id][\"text\"]\n",
    "        #print(relevant_docs)\n",
    "        positive_doc_ids = set(relevant_docs)\n",
    "        all_doc_ids = set(corpus.keys())\n",
    "        negative_doc_ids = all_doc_ids - positive_doc_ids\n",
    "        negative_doc_ids=list(negative_doc_ids)\n",
    "        negative_doc_samples = random.sample(negative_doc_ids, k=5)\n",
    "        negatives=[]\n",
    "        for neg_doc_id in negative_doc_samples:\n",
    "            negative_doc_text = corpus[neg_doc_id][\"text\"]\n",
    "            negatives.append(negative_doc_text)\n",
    "        contrastive_pairs.append({\n",
    "            \"anchor\": query_text,\n",
    "            \"positive\": positive,\n",
    "            \"negatives\": negatives\n",
    "        })\n",
    "    except:\n",
    "        c=c+1"
   ]
  },
  {
   "cell_type": "code",
   "execution_count": 5,
   "id": "49721946-fff3-4690-bd92-d981cecdf62b",
   "metadata": {
    "execution": {
     "iopub.execute_input": "2025-03-02T14:40:55.238949Z",
     "iopub.status.busy": "2025-03-02T14:40:55.238629Z",
     "iopub.status.idle": "2025-03-02T14:40:55.242015Z",
     "shell.execute_reply": "2025-03-02T14:40:55.241704Z"
    },
    "papermill": {
     "duration": 0.006777,
     "end_time": "2025-03-02T14:40:55.242571",
     "exception": false,
     "start_time": "2025-03-02T14:40:55.235794",
     "status": "completed"
    },
    "tags": []
   },
   "outputs": [
    {
     "data": {
      "text/plain": [
       "0"
      ]
     },
     "execution_count": 5,
     "metadata": {},
     "output_type": "execute_result"
    }
   ],
   "source": [
    "c"
   ]
  },
  {
   "cell_type": "code",
   "execution_count": 6,
   "id": "de8ef367-dcb4-4bb6-af3a-20f190930ed1",
   "metadata": {
    "execution": {
     "iopub.execute_input": "2025-03-02T14:40:55.248005Z",
     "iopub.status.busy": "2025-03-02T14:40:55.247672Z",
     "iopub.status.idle": "2025-03-02T14:40:55.263603Z",
     "shell.execute_reply": "2025-03-02T14:40:55.263328Z"
    },
    "papermill": {
     "duration": 0.019213,
     "end_time": "2025-03-02T14:40:55.264146",
     "exception": false,
     "start_time": "2025-03-02T14:40:55.244933",
     "status": "completed"
    },
    "tags": []
   },
   "outputs": [
    {
     "data": {
      "text/plain": [
       "49"
      ]
     },
     "execution_count": 6,
     "metadata": {},
     "output_type": "execute_result"
    }
   ],
   "source": [
    "len(contrastive_pairs)"
   ]
  },
  {
   "cell_type": "code",
   "execution_count": 7,
   "id": "8ade92f9-e3df-4d0a-b849-b1a721e18cf6",
   "metadata": {
    "execution": {
     "iopub.execute_input": "2025-03-02T14:40:55.271337Z",
     "iopub.status.busy": "2025-03-02T14:40:55.271041Z",
     "iopub.status.idle": "2025-03-02T14:40:55.284019Z",
     "shell.execute_reply": "2025-03-02T14:40:55.283733Z"
    },
    "papermill": {
     "duration": 0.017983,
     "end_time": "2025-03-02T14:40:55.284577",
     "exception": false,
     "start_time": "2025-03-02T14:40:55.266594",
     "status": "completed"
    },
    "tags": []
   },
   "outputs": [
    {
     "data": {
      "text/plain": [
       "49"
      ]
     },
     "execution_count": 7,
     "metadata": {},
     "output_type": "execute_result"
    }
   ],
   "source": [
    "len(qrels)"
   ]
  },
  {
   "cell_type": "code",
   "execution_count": 8,
   "id": "6b97f7b4-f007-41f6-bfbb-1b9b01665e9d",
   "metadata": {
    "execution": {
     "iopub.execute_input": "2025-03-02T14:40:55.289950Z",
     "iopub.status.busy": "2025-03-02T14:40:55.289830Z",
     "iopub.status.idle": "2025-03-02T14:40:57.695006Z",
     "shell.execute_reply": "2025-03-02T14:40:57.694487Z"
    },
    "papermill": {
     "duration": 2.408789,
     "end_time": "2025-03-02T14:40:57.695913",
     "exception": false,
     "start_time": "2025-03-02T14:40:55.287124",
     "status": "completed"
    },
    "tags": []
   },
   "outputs": [],
   "source": [
    "from torch.utils.data import DataLoader"
   ]
  },
  {
   "cell_type": "code",
   "execution_count": 9,
   "id": "a415b29a-a543-4679-8f78-44f715b3067d",
   "metadata": {
    "execution": {
     "iopub.execute_input": "2025-03-02T14:40:57.702368Z",
     "iopub.status.busy": "2025-03-02T14:40:57.702102Z",
     "iopub.status.idle": "2025-03-02T14:40:57.705127Z",
     "shell.execute_reply": "2025-03-02T14:40:57.704767Z"
    },
    "papermill": {
     "duration": 0.006737,
     "end_time": "2025-03-02T14:40:57.705731",
     "exception": false,
     "start_time": "2025-03-02T14:40:57.698994",
     "status": "completed"
    },
    "tags": []
   },
   "outputs": [],
   "source": [
    "class ContrastiveDataset:\n",
    "    def __init__(self, pairs):\n",
    "        self.pairs = pairs\n",
    "\n",
    "    def __len__(self):\n",
    "        return len(self.pairs)\n",
    "\n",
    "    def __getitem__(self, idx):\n",
    "        item = self.pairs[idx]\n",
    "        return item[\"anchor\"], item[\"positive\"], item[\"negatives\"]"
   ]
  },
  {
   "cell_type": "code",
   "execution_count": 10,
   "id": "a39efeab-fd20-411a-80c5-315f362e00d2",
   "metadata": {
    "execution": {
     "iopub.execute_input": "2025-03-02T14:40:57.711352Z",
     "iopub.status.busy": "2025-03-02T14:40:57.711033Z",
     "iopub.status.idle": "2025-03-02T14:40:57.726418Z",
     "shell.execute_reply": "2025-03-02T14:40:57.726068Z"
    },
    "papermill": {
     "duration": 0.018712,
     "end_time": "2025-03-02T14:40:57.726961",
     "exception": false,
     "start_time": "2025-03-02T14:40:57.708249",
     "status": "completed"
    },
    "tags": []
   },
   "outputs": [],
   "source": [
    "contrastive_dataset = ContrastiveDataset(contrastive_pairs)"
   ]
  },
  {
   "cell_type": "code",
   "execution_count": 11,
   "id": "d103bbfa-895a-4020-a7e5-21de659f27dc",
   "metadata": {
    "execution": {
     "iopub.execute_input": "2025-03-02T14:40:57.733011Z",
     "iopub.status.busy": "2025-03-02T14:40:57.732513Z",
     "iopub.status.idle": "2025-03-02T14:40:57.750399Z",
     "shell.execute_reply": "2025-03-02T14:40:57.750054Z"
    },
    "papermill": {
     "duration": 0.021469,
     "end_time": "2025-03-02T14:40:57.750964",
     "exception": false,
     "start_time": "2025-03-02T14:40:57.729495",
     "status": "completed"
    },
    "tags": []
   },
   "outputs": [],
   "source": [
    "data_loader = DataLoader(contrastive_dataset, batch_size=32, shuffle=True)"
   ]
  },
  {
   "cell_type": "code",
   "execution_count": 12,
   "id": "c8b0277f-f526-4087-82da-c4cdd65d32da",
   "metadata": {
    "execution": {
     "iopub.execute_input": "2025-03-02T14:40:57.756493Z",
     "iopub.status.busy": "2025-03-02T14:40:57.756363Z",
     "iopub.status.idle": "2025-03-02T14:40:57.776585Z",
     "shell.execute_reply": "2025-03-02T14:40:57.776251Z"
    },
    "papermill": {
     "duration": 0.023668,
     "end_time": "2025-03-02T14:40:57.777130",
     "exception": false,
     "start_time": "2025-03-02T14:40:57.753462",
     "status": "completed"
    },
    "tags": []
   },
   "outputs": [
    {
     "data": {
      "text/plain": [
       "2"
      ]
     },
     "execution_count": 12,
     "metadata": {},
     "output_type": "execute_result"
    }
   ],
   "source": [
    "len(data_loader)"
   ]
  },
  {
   "cell_type": "code",
   "execution_count": 13,
   "id": "e15526a4-b3fe-435b-91c9-ad4064562f0f",
   "metadata": {
    "execution": {
     "iopub.execute_input": "2025-03-02T14:40:57.783060Z",
     "iopub.status.busy": "2025-03-02T14:40:57.782752Z",
     "iopub.status.idle": "2025-03-02T14:41:03.265832Z",
     "shell.execute_reply": "2025-03-02T14:41:03.265317Z"
    },
    "papermill": {
     "duration": 5.486882,
     "end_time": "2025-03-02T14:41:03.266747",
     "exception": false,
     "start_time": "2025-03-02T14:40:57.779865",
     "status": "completed"
    },
    "tags": []
   },
   "outputs": [
    {
     "name": "stderr",
     "output_type": "stream",
     "text": [
      "/tmp/ipykernel_1011760/2192687965.py:3: FutureWarning: You are using `torch.load` with `weights_only=False` (the current default value), which uses the default pickle module implicitly. It is possible to construct malicious pickle data which will execute arbitrary code during unpickling (See https://github.com/pytorch/pytorch/blob/main/SECURITY.md#untrusted-models for more details). In a future release, the default value for `weights_only` will be flipped to `True`. This limits the functions that could be executed during unpickling. Arbitrary objects will no longer be allowed to be loaded via this mode unless they are explicitly allowlisted by the user via `torch.serialization.add_safe_globals`. We recommend you start setting `weights_only=True` for any use case where you don't have full control of the loaded file. Please open an issue on GitHub for any issues related to this experimental feature.\n",
      "  lora_model = torch.load(file_path)\n"
     ]
    }
   ],
   "source": [
    "import torch\n",
    "file_path=\"/dss/dsshome1/07/ra65bex2/srawat/contrastive_learning/v1.1/app_average/average_checkpoint_epoch_3.pth\"\n",
    "lora_model = torch.load(file_path)"
   ]
  },
  {
   "cell_type": "code",
   "execution_count": 14,
   "id": "9999e628-5966-4dda-b5c5-c0d762fce27d",
   "metadata": {
    "execution": {
     "iopub.execute_input": "2025-03-02T14:41:03.275910Z",
     "iopub.status.busy": "2025-03-02T14:41:03.275381Z",
     "iopub.status.idle": "2025-03-02T14:41:03.281132Z",
     "shell.execute_reply": "2025-03-02T14:41:03.280785Z"
    },
    "papermill": {
     "duration": 0.009834,
     "end_time": "2025-03-02T14:41:03.281759",
     "exception": false,
     "start_time": "2025-03-02T14:41:03.271925",
     "status": "completed"
    },
    "tags": []
   },
   "outputs": [],
   "source": [
    "device = torch.device('cuda' if torch.cuda.is_available() else 'cpu')\n",
    "lora_model = lora_model.to(device)"
   ]
  },
  {
   "cell_type": "code",
   "execution_count": 15,
   "id": "7e6a3a61-8db0-43db-b575-6399f8515950",
   "metadata": {
    "execution": {
     "iopub.execute_input": "2025-03-02T14:41:03.288079Z",
     "iopub.status.busy": "2025-03-02T14:41:03.287947Z",
     "iopub.status.idle": "2025-03-02T14:41:03.489135Z",
     "shell.execute_reply": "2025-03-02T14:41:03.488679Z"
    },
    "papermill": {
     "duration": 0.205392,
     "end_time": "2025-03-02T14:41:03.489975",
     "exception": false,
     "start_time": "2025-03-02T14:41:03.284583",
     "status": "completed"
    },
    "tags": []
   },
   "outputs": [],
   "source": [
    "from transformers import AutoTokenizer, AutoModel\n",
    "tokenizer = AutoTokenizer.from_pretrained(\"bert-base-uncased\")"
   ]
  },
  {
   "cell_type": "code",
   "execution_count": 16,
   "id": "68ac4919-76f1-4349-a314-4b1061126655",
   "metadata": {
    "execution": {
     "iopub.execute_input": "2025-03-02T14:41:03.496663Z",
     "iopub.status.busy": "2025-03-02T14:41:03.496225Z",
     "iopub.status.idle": "2025-03-02T14:41:03.498691Z",
     "shell.execute_reply": "2025-03-02T14:41:03.498347Z"
    },
    "papermill": {
     "duration": 0.006194,
     "end_time": "2025-03-02T14:41:03.499290",
     "exception": false,
     "start_time": "2025-03-02T14:41:03.493096",
     "status": "completed"
    },
    "tags": []
   },
   "outputs": [],
   "source": [
    "def cosine_distance(x, y):\n",
    "    return 1 - torch.nn.functional.cosine_similarity(x, y, dim=-1)"
   ]
  },
  {
   "cell_type": "code",
   "execution_count": 17,
   "id": "870570ba-20a1-4c0b-8367-525d85af4ded",
   "metadata": {
    "execution": {
     "iopub.execute_input": "2025-03-02T14:41:03.505343Z",
     "iopub.status.busy": "2025-03-02T14:41:03.505216Z",
     "iopub.status.idle": "2025-03-02T14:41:03.520761Z",
     "shell.execute_reply": "2025-03-02T14:41:03.520434Z"
    },
    "papermill": {
     "duration": 0.019125,
     "end_time": "2025-03-02T14:41:03.521352",
     "exception": false,
     "start_time": "2025-03-02T14:41:03.502227",
     "status": "completed"
    },
    "tags": []
   },
   "outputs": [],
   "source": [
    "def avg_embedding(inputs, model):\n",
    "    input=model(**inputs)\n",
    "    input_last_hidden_state=input.last_hidden_state\n",
    "    input_attention_mask = inputs['attention_mask']\n",
    "    input_masked_embeddings = input_last_hidden_state * input_attention_mask.unsqueeze(-1)\n",
    "    input_sum_embeddings = torch.sum(input_masked_embeddings, dim=1)\n",
    "    input_token_counts = torch.sum(input_attention_mask, dim=1).unsqueeze(-1)\n",
    "    input_avg_embeddings = input_sum_embeddings / input_token_counts\n",
    "    return(input_avg_embeddings)"
   ]
  },
  {
   "cell_type": "code",
   "execution_count": 18,
   "id": "990f63bd-4d48-4f58-a001-3b3250f65312",
   "metadata": {
    "execution": {
     "iopub.execute_input": "2025-03-02T14:41:03.527264Z",
     "iopub.status.busy": "2025-03-02T14:41:03.527139Z",
     "iopub.status.idle": "2025-03-02T14:41:03.543932Z",
     "shell.execute_reply": "2025-03-02T14:41:03.543569Z"
    },
    "papermill": {
     "duration": 0.020422,
     "end_time": "2025-03-02T14:41:03.544546",
     "exception": false,
     "start_time": "2025-03-02T14:41:03.524124",
     "status": "completed"
    },
    "tags": []
   },
   "outputs": [],
   "source": [
    "def evaluate_mrr(model, data_loader_val, distance_fn):\n",
    "    model.eval()  \n",
    "\n",
    "    total_rr = 0.0\n",
    "    num_queries = 0\n",
    "\n",
    "    with torch.no_grad():\n",
    "        for batch in data_loader_val:\n",
    "            anchor_text = batch[0]\n",
    "            positive_text = batch[1]\n",
    "            negative_texts = batch[2]\n",
    "\n",
    "            anchor_input = tokenizer(anchor_text, return_tensors='pt', padding=True, truncation=True, max_length=512).to(device)\n",
    "            positive_input = tokenizer(positive_text, return_tensors='pt', padding=True, truncation=True, max_length=512).to(device)\n",
    "\n",
    "            anchor_embedding = avg_embedding(anchor_input, model)\n",
    "            positive_embedding = avg_embedding(positive_input, model)\n",
    "            negative_embedding = [avg_embedding(tokenizer(neg, return_tensors='pt', padding=True, truncation=True, max_length=512).to(device), model) for neg in negative_texts]\n",
    "\n",
    "            pos_dist = distance_fn(anchor_embedding, positive_embedding)\n",
    "            neg_dist = torch.stack([distance_fn(anchor_embedding, neg) for neg in negative_embedding], dim=-1)\n",
    "            all_similarities=torch.cat([-pos_dist.unsqueeze(1), -neg_dist], dim=1)\n",
    "            \n",
    "            sorted_similarities, sorted_indices = torch.sort(all_similarities, dim=1, descending=True)\n",
    "\n",
    "            # Find the rank of the first relevant (positive) document\n",
    "            positive_rank = (sorted_indices == 0).nonzero(as_tuple=True)[1] + 1  # +1 to make rank 1-based\n",
    "            total_rr += torch.sum(1.0 / positive_rank.float()).item()  # Reciprocal rank\n",
    "            num_queries += len(positive_rank)\n",
    "\n",
    "    mrr = total_rr / num_queries\n",
    "    return mrr"
   ]
  },
  {
   "cell_type": "code",
   "execution_count": 19,
   "id": "534a9ec5-4211-4cb6-81f1-fb8a30caff92",
   "metadata": {
    "execution": {
     "iopub.execute_input": "2025-03-02T14:41:03.550632Z",
     "iopub.status.busy": "2025-03-02T14:41:03.550356Z",
     "iopub.status.idle": "2025-03-02T14:41:06.083586Z",
     "shell.execute_reply": "2025-03-02T14:41:06.083116Z"
    },
    "papermill": {
     "duration": 2.536925,
     "end_time": "2025-03-02T14:41:06.084258",
     "exception": false,
     "start_time": "2025-03-02T14:41:03.547333",
     "status": "completed"
    },
    "tags": []
   },
   "outputs": [
    {
     "name": "stdout",
     "output_type": "stream",
     "text": [
      "0.5350340239855708\n"
     ]
    }
   ],
   "source": [
    "mrr_validation = evaluate_mrr(lora_model, data_loader, cosine_distance)\n",
    "print(mrr_validation)"
   ]
  },
  {
   "cell_type": "code",
   "execution_count": null,
   "id": "f61bbd65-41c9-4ac7-80ef-ba4a4fb02d45",
   "metadata": {
    "papermill": {
     "duration": 0.002823,
     "end_time": "2025-03-02T14:41:06.090625",
     "exception": false,
     "start_time": "2025-03-02T14:41:06.087802",
     "status": "completed"
    },
    "tags": []
   },
   "outputs": [],
   "source": []
  }
 ],
 "metadata": {
  "kernelspec": {
   "display_name": "Python (myenv)",
   "language": "python",
   "name": "myenv"
  },
  "language_info": {
   "codemirror_mode": {
    "name": "ipython",
    "version": 3
   },
   "file_extension": ".py",
   "mimetype": "text/x-python",
   "name": "python",
   "nbconvert_exporter": "python",
   "pygments_lexer": "ipython3",
   "version": "3.12.7"
  },
  "papermill": {
   "default_parameters": {},
   "duration": 22.32911,
   "end_time": "2025-03-02T14:41:09.218880",
   "environment_variables": {},
   "exception": null,
   "input_path": "average_Touche.ipynb",
   "output_path": "average_Touche_output.ipynb",
   "parameters": {},
   "start_time": "2025-03-02T14:40:46.889770",
   "version": "2.6.0"
  },
  "widgets": {
   "application/vnd.jupyter.widget-state+json": {
    "state": {
     "197658a4c1e4499b8e21217461f66313": {
      "model_module": "@jupyter-widgets/base",
      "model_module_version": "2.0.0",
      "model_name": "LayoutModel",
      "state": {
       "_model_module": "@jupyter-widgets/base",
       "_model_module_version": "2.0.0",
       "_model_name": "LayoutModel",
       "_view_count": null,
       "_view_module": "@jupyter-widgets/base",
       "_view_module_version": "2.0.0",
       "_view_name": "LayoutView",
       "align_content": null,
       "align_items": null,
       "align_self": null,
       "border_bottom": null,
       "border_left": null,
       "border_right": null,
       "border_top": null,
       "bottom": null,
       "display": null,
       "flex": null,
       "flex_flow": null,
       "grid_area": null,
       "grid_auto_columns": null,
       "grid_auto_flow": null,
       "grid_auto_rows": null,
       "grid_column": null,
       "grid_gap": null,
       "grid_row": null,
       "grid_template_areas": null,
       "grid_template_columns": null,
       "grid_template_rows": null,
       "height": null,
       "justify_content": null,
       "justify_items": null,
       "left": null,
       "margin": null,
       "max_height": null,
       "max_width": null,
       "min_height": null,
       "min_width": null,
       "object_fit": null,
       "object_position": null,
       "order": null,
       "overflow": null,
       "padding": null,
       "right": null,
       "top": null,
       "visibility": null,
       "width": null
      }
     },
     "1eacd111c3404b3691b6b851f1b0e39a": {
      "model_module": "@jupyter-widgets/controls",
      "model_module_version": "2.0.0",
      "model_name": "HTMLStyleModel",
      "state": {
       "_model_module": "@jupyter-widgets/controls",
       "_model_module_version": "2.0.0",
       "_model_name": "HTMLStyleModel",
       "_view_count": null,
       "_view_module": "@jupyter-widgets/base",
       "_view_module_version": "2.0.0",
       "_view_name": "StyleView",
       "background": null,
       "description_width": "",
       "font_size": null,
       "text_color": null
      }
     },
     "397bd4dda53a485cb8ea1db4dc3a8a1a": {
      "model_module": "@jupyter-widgets/base",
      "model_module_version": "2.0.0",
      "model_name": "LayoutModel",
      "state": {
       "_model_module": "@jupyter-widgets/base",
       "_model_module_version": "2.0.0",
       "_model_name": "LayoutModel",
       "_view_count": null,
       "_view_module": "@jupyter-widgets/base",
       "_view_module_version": "2.0.0",
       "_view_name": "LayoutView",
       "align_content": null,
       "align_items": null,
       "align_self": null,
       "border_bottom": null,
       "border_left": null,
       "border_right": null,
       "border_top": null,
       "bottom": null,
       "display": null,
       "flex": null,
       "flex_flow": null,
       "grid_area": null,
       "grid_auto_columns": null,
       "grid_auto_flow": null,
       "grid_auto_rows": null,
       "grid_column": null,
       "grid_gap": null,
       "grid_row": null,
       "grid_template_areas": null,
       "grid_template_columns": null,
       "grid_template_rows": null,
       "height": null,
       "justify_content": null,
       "justify_items": null,
       "left": null,
       "margin": null,
       "max_height": null,
       "max_width": null,
       "min_height": null,
       "min_width": null,
       "object_fit": null,
       "object_position": null,
       "order": null,
       "overflow": null,
       "padding": null,
       "right": null,
       "top": null,
       "visibility": null,
       "width": null
      }
     },
     "461e6a2e482a4c96aedee01ca2ec2080": {
      "model_module": "@jupyter-widgets/controls",
      "model_module_version": "2.0.0",
      "model_name": "FloatProgressModel",
      "state": {
       "_dom_classes": [],
       "_model_module": "@jupyter-widgets/controls",
       "_model_module_version": "2.0.0",
       "_model_name": "FloatProgressModel",
       "_view_count": null,
       "_view_module": "@jupyter-widgets/controls",
       "_view_module_version": "2.0.0",
       "_view_name": "ProgressView",
       "bar_style": "success",
       "description": "",
       "description_allow_html": false,
       "layout": "IPY_MODEL_4ea1a21219b5402f814c33c65c80feae",
       "max": 382545.0,
       "min": 0.0,
       "orientation": "horizontal",
       "style": "IPY_MODEL_7abfd9307b9f479f9f801ae45293a4f9",
       "tabbable": null,
       "tooltip": null,
       "value": 382545.0
      }
     },
     "4ea1a21219b5402f814c33c65c80feae": {
      "model_module": "@jupyter-widgets/base",
      "model_module_version": "2.0.0",
      "model_name": "LayoutModel",
      "state": {
       "_model_module": "@jupyter-widgets/base",
       "_model_module_version": "2.0.0",
       "_model_name": "LayoutModel",
       "_view_count": null,
       "_view_module": "@jupyter-widgets/base",
       "_view_module_version": "2.0.0",
       "_view_name": "LayoutView",
       "align_content": null,
       "align_items": null,
       "align_self": null,
       "border_bottom": null,
       "border_left": null,
       "border_right": null,
       "border_top": null,
       "bottom": null,
       "display": null,
       "flex": null,
       "flex_flow": null,
       "grid_area": null,
       "grid_auto_columns": null,
       "grid_auto_flow": null,
       "grid_auto_rows": null,
       "grid_column": null,
       "grid_gap": null,
       "grid_row": null,
       "grid_template_areas": null,
       "grid_template_columns": null,
       "grid_template_rows": null,
       "height": null,
       "justify_content": null,
       "justify_items": null,
       "left": null,
       "margin": null,
       "max_height": null,
       "max_width": null,
       "min_height": null,
       "min_width": null,
       "object_fit": null,
       "object_position": null,
       "order": null,
       "overflow": null,
       "padding": null,
       "right": null,
       "top": null,
       "visibility": null,
       "width": null
      }
     },
     "7abfd9307b9f479f9f801ae45293a4f9": {
      "model_module": "@jupyter-widgets/controls",
      "model_module_version": "2.0.0",
      "model_name": "ProgressStyleModel",
      "state": {
       "_model_module": "@jupyter-widgets/controls",
       "_model_module_version": "2.0.0",
       "_model_name": "ProgressStyleModel",
       "_view_count": null,
       "_view_module": "@jupyter-widgets/base",
       "_view_module_version": "2.0.0",
       "_view_name": "StyleView",
       "bar_color": null,
       "description_width": ""
      }
     },
     "8426acf38f554ffc8ef33c8cf0b5bacf": {
      "model_module": "@jupyter-widgets/controls",
      "model_module_version": "2.0.0",
      "model_name": "HTMLModel",
      "state": {
       "_dom_classes": [],
       "_model_module": "@jupyter-widgets/controls",
       "_model_module_version": "2.0.0",
       "_model_name": "HTMLModel",
       "_view_count": null,
       "_view_module": "@jupyter-widgets/controls",
       "_view_module_version": "2.0.0",
       "_view_name": "HTMLView",
       "description": "",
       "description_allow_html": false,
       "layout": "IPY_MODEL_8d68957f9c2d45a4b5afc1c7e5e7d4c3",
       "placeholder": "​",
       "style": "IPY_MODEL_c9b48c0604764d62bf88b4deac420886",
       "tabbable": null,
       "tooltip": null,
       "value": "100%"
      }
     },
     "8d68957f9c2d45a4b5afc1c7e5e7d4c3": {
      "model_module": "@jupyter-widgets/base",
      "model_module_version": "2.0.0",
      "model_name": "LayoutModel",
      "state": {
       "_model_module": "@jupyter-widgets/base",
       "_model_module_version": "2.0.0",
       "_model_name": "LayoutModel",
       "_view_count": null,
       "_view_module": "@jupyter-widgets/base",
       "_view_module_version": "2.0.0",
       "_view_name": "LayoutView",
       "align_content": null,
       "align_items": null,
       "align_self": null,
       "border_bottom": null,
       "border_left": null,
       "border_right": null,
       "border_top": null,
       "bottom": null,
       "display": null,
       "flex": null,
       "flex_flow": null,
       "grid_area": null,
       "grid_auto_columns": null,
       "grid_auto_flow": null,
       "grid_auto_rows": null,
       "grid_column": null,
       "grid_gap": null,
       "grid_row": null,
       "grid_template_areas": null,
       "grid_template_columns": null,
       "grid_template_rows": null,
       "height": null,
       "justify_content": null,
       "justify_items": null,
       "left": null,
       "margin": null,
       "max_height": null,
       "max_width": null,
       "min_height": null,
       "min_width": null,
       "object_fit": null,
       "object_position": null,
       "order": null,
       "overflow": null,
       "padding": null,
       "right": null,
       "top": null,
       "visibility": null,
       "width": null
      }
     },
     "b3fcf52893fd46788d4e4108852b908a": {
      "model_module": "@jupyter-widgets/controls",
      "model_module_version": "2.0.0",
      "model_name": "HTMLModel",
      "state": {
       "_dom_classes": [],
       "_model_module": "@jupyter-widgets/controls",
       "_model_module_version": "2.0.0",
       "_model_name": "HTMLModel",
       "_view_count": null,
       "_view_module": "@jupyter-widgets/controls",
       "_view_module_version": "2.0.0",
       "_view_name": "HTMLView",
       "description": "",
       "description_allow_html": false,
       "layout": "IPY_MODEL_197658a4c1e4499b8e21217461f66313",
       "placeholder": "​",
       "style": "IPY_MODEL_1eacd111c3404b3691b6b851f1b0e39a",
       "tabbable": null,
       "tooltip": null,
       "value": " 382545/382545 [00:03&lt;00:00, 152402.79it/s]"
      }
     },
     "c5a79e9ebd074fe79b68a395dbf7d7ad": {
      "model_module": "@jupyter-widgets/controls",
      "model_module_version": "2.0.0",
      "model_name": "HBoxModel",
      "state": {
       "_dom_classes": [],
       "_model_module": "@jupyter-widgets/controls",
       "_model_module_version": "2.0.0",
       "_model_name": "HBoxModel",
       "_view_count": null,
       "_view_module": "@jupyter-widgets/controls",
       "_view_module_version": "2.0.0",
       "_view_name": "HBoxView",
       "box_style": "",
       "children": [
        "IPY_MODEL_8426acf38f554ffc8ef33c8cf0b5bacf",
        "IPY_MODEL_461e6a2e482a4c96aedee01ca2ec2080",
        "IPY_MODEL_b3fcf52893fd46788d4e4108852b908a"
       ],
       "layout": "IPY_MODEL_397bd4dda53a485cb8ea1db4dc3a8a1a",
       "tabbable": null,
       "tooltip": null
      }
     },
     "c9b48c0604764d62bf88b4deac420886": {
      "model_module": "@jupyter-widgets/controls",
      "model_module_version": "2.0.0",
      "model_name": "HTMLStyleModel",
      "state": {
       "_model_module": "@jupyter-widgets/controls",
       "_model_module_version": "2.0.0",
       "_model_name": "HTMLStyleModel",
       "_view_count": null,
       "_view_module": "@jupyter-widgets/base",
       "_view_module_version": "2.0.0",
       "_view_name": "StyleView",
       "background": null,
       "description_width": "",
       "font_size": null,
       "text_color": null
      }
     }
    },
    "version_major": 2,
    "version_minor": 0
   }
  }
 },
 "nbformat": 4,
 "nbformat_minor": 5
}