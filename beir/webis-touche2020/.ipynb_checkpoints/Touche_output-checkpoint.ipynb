{
 "cells": [
  {
   "cell_type": "code",
   "execution_count": 1,
   "id": "f6d4b65f-fa6b-4517-8694-8627bc49833b",
   "metadata": {
    "execution": {
     "iopub.execute_input": "2025-03-02T14:40:14.941570Z",
     "iopub.status.busy": "2025-03-02T14:40:14.941230Z",
     "iopub.status.idle": "2025-03-02T14:40:15.079783Z",
     "shell.execute_reply": "2025-03-02T14:40:15.079460Z"
    },
    "papermill": {
     "duration": 0.142648,
     "end_time": "2025-03-02T14:40:15.080382",
     "exception": false,
     "start_time": "2025-03-02T14:40:14.937734",
     "status": "completed"
    },
    "tags": []
   },
   "outputs": [
    {
     "name": "stderr",
     "output_type": "stream",
     "text": [
      "/dss/dsshome1/07/ra65bex2/srawat/myenv/lib/python3.12/site-packages/beir/datasets/data_loader.py:8: TqdmExperimentalWarning: Using `tqdm.autonotebook.tqdm` in notebook mode. Use `tqdm.tqdm` instead to force console mode (e.g. in jupyter console)\n",
      "  from tqdm.autonotebook import tqdm\n"
     ]
    }
   ],
   "source": [
    "from beir.datasets.data_loader import GenericDataLoader"
   ]
  },
  {
   "cell_type": "code",
   "execution_count": 2,
   "id": "a91d6914-e301-422c-b839-1fafeb1e8fa4",
   "metadata": {
    "execution": {
     "iopub.execute_input": "2025-03-02T14:40:15.085557Z",
     "iopub.status.busy": "2025-03-02T14:40:15.085336Z",
     "iopub.status.idle": "2025-03-02T14:40:15.087301Z",
     "shell.execute_reply": "2025-03-02T14:40:15.087014Z"
    },
    "papermill": {
     "duration": 0.004846,
     "end_time": "2025-03-02T14:40:15.087830",
     "exception": false,
     "start_time": "2025-03-02T14:40:15.082984",
     "status": "completed"
    },
    "tags": []
   },
   "outputs": [],
   "source": [
    "data_path='/dss/dsshome1/07/ra65bex2/srawat/webis-touche2020/webis-touche2020'"
   ]
  },
  {
   "cell_type": "code",
   "execution_count": 3,
   "id": "41e17333-2c34-4b7b-91f6-3cbd3972f0d6",
   "metadata": {
    "execution": {
     "iopub.execute_input": "2025-03-02T14:40:15.092894Z",
     "iopub.status.busy": "2025-03-02T14:40:15.092502Z",
     "iopub.status.idle": "2025-03-02T14:40:18.981877Z",
     "shell.execute_reply": "2025-03-02T14:40:18.981487Z"
    },
    "papermill": {
     "duration": 3.892714,
     "end_time": "2025-03-02T14:40:18.982654",
     "exception": false,
     "start_time": "2025-03-02T14:40:15.089940",
     "status": "completed"
    },
    "tags": []
   },
   "outputs": [
    {
     "data": {
      "application/vnd.jupyter.widget-view+json": {
       "model_id": "784cb203490e43959f942c1cee8165c4",
       "version_major": 2,
       "version_minor": 0
      },
      "text/plain": [
       "  0%|          | 0/382545 [00:00<?, ?it/s]"
      ]
     },
     "metadata": {},
     "output_type": "display_data"
    }
   ],
   "source": [
    "corpus, queries, qrels = GenericDataLoader(data_path).load(split=\"test\")"
   ]
  },
  {
   "cell_type": "code",
   "execution_count": 4,
   "id": "a29044d5-3952-4f3d-aa43-e1efd34fcad3",
   "metadata": {
    "execution": {
     "iopub.execute_input": "2025-03-02T14:40:18.990167Z",
     "iopub.status.busy": "2025-03-02T14:40:18.989918Z",
     "iopub.status.idle": "2025-03-02T14:40:22.337648Z",
     "shell.execute_reply": "2025-03-02T14:40:22.337170Z"
    },
    "papermill": {
     "duration": 3.351168,
     "end_time": "2025-03-02T14:40:22.338537",
     "exception": false,
     "start_time": "2025-03-02T14:40:18.987369",
     "status": "completed"
    },
    "tags": []
   },
   "outputs": [],
   "source": [
    "contrastive_pairs=[]\n",
    "import random\n",
    "c=0\n",
    "for query_id, relevant_docs in qrels.items():\n",
    "    try:\n",
    "        query_text = queries[query_id]\n",
    "        for doc_id in relevant_docs:\n",
    "            positive = corpus[doc_id][\"text\"]\n",
    "        #print(relevant_docs)\n",
    "        positive_doc_ids = set(relevant_docs)\n",
    "        all_doc_ids = set(corpus.keys())\n",
    "        negative_doc_ids = all_doc_ids - positive_doc_ids\n",
    "        negative_doc_ids=list(negative_doc_ids)\n",
    "        negative_doc_samples = random.sample(negative_doc_ids, k=5)\n",
    "        negatives=[]\n",
    "        for neg_doc_id in negative_doc_samples:\n",
    "            negative_doc_text = corpus[neg_doc_id][\"text\"]\n",
    "            negatives.append(negative_doc_text)\n",
    "        contrastive_pairs.append({\n",
    "            \"anchor\": query_text,\n",
    "            \"positive\": positive,\n",
    "            \"negatives\": negatives\n",
    "        })\n",
    "    except:\n",
    "        c=c+1"
   ]
  },
  {
   "cell_type": "code",
   "execution_count": 5,
   "id": "81d0406c-777b-4e8e-b8ce-44e4fa7e24c2",
   "metadata": {
    "execution": {
     "iopub.execute_input": "2025-03-02T14:40:22.344347Z",
     "iopub.status.busy": "2025-03-02T14:40:22.344106Z",
     "iopub.status.idle": "2025-03-02T14:40:22.347452Z",
     "shell.execute_reply": "2025-03-02T14:40:22.347172Z"
    },
    "papermill": {
     "duration": 0.006585,
     "end_time": "2025-03-02T14:40:22.347996",
     "exception": false,
     "start_time": "2025-03-02T14:40:22.341411",
     "status": "completed"
    },
    "tags": []
   },
   "outputs": [
    {
     "data": {
      "text/plain": [
       "[{'anchor': 'Should teachers get tenure?',\n",
       "  'positive': 'I believe that all mentally fit teachers should have a gun in the class room. NOT loose in a drawer, but in a lock box, with a key or a code. If ONE teacher would have had a gun in Conn. those kids would have lived to see there next Christmas. I rest my case.',\n",
       "  'negatives': ['I argue that there exists no god hypothesis on the following grounds: 1: The definition of god is purely subjective. 2: As a result of 1, the definition of god is arbitrary. 3: A scientific definition must be objective and testable, and as subjective and arbitrary definitions are neither objective nor testable, such definitions cannot be scientific. 4: supposing that such definitions were somehow able to be made objective, the sheer volume of them and their variability makes forming a hypothesis patently unworkable.',\n",
       "   'Same old, Same old.',\n",
       "   \"... to kill cancer before it kills you. It's one thing to make a crackpot argument, but you just haven't made an argument at all. This debate was a waste of everybody's time. P.S. Here's a source: https://en.wikipedia.org...\",\n",
       "   'I agree. But most of the time the \"punisher\" does not know how to control himself so we have to keep the law in place. Majority rules. Also if corporal punishment were to be altered to not hurt a child, it would not be called corporal punishmen. It has no relation to why you should have corporal punishment the debate topic that we are discussing',\n",
       "   'I will be arguing that Jesus was divine and the Muhammad is not a prophet. I will allow my opponent to make his or her case against my position then I will respond to his or her objections. I pray for a fruitful dialogue .']},\n",
       " {'anchor': 'Is vaping with e-cigarettes safe?',\n",
       "  'positive': 'We have to accept that for a wide variety of social reasons teens are now more sexually active than ...',\n",
       "  'negatives': ['Turn the Page- Metallicahttp://www.youtube.com...',\n",
       "   '\"Actually I was correct. It\\'s not going to matter over the next 10 years because that console wont be able to play the new games.\" You\\'ve actually ignored what I said completely, allow me to show you again: \"See to give you the benefit of the doubt, we will say there is a 8 year lapse between the release of the 360 and the One. That\\'s almost a decade, and the lapses between PS console dates is closely intertwined.\" Console game releases in the past has had significantly more time in between then new models of PC\\'s. Companies such as Dell, Apple, Microsoft, Nokia, Samsung, and HP release a new model every year! It\\'s constantly changing and becoming obsolete at a much faster rate then Consoles, your point refuted. \"I knew exactly what you meant. Have you ever seen 4k in real life? There is an obvious difference. A PC also runs more objects in a game than a console would, making it look fantastic. About the TV/monitor, a TV or monitor can be used with a PC or a console. Monitors are recommended for a PC because people need to be up close to them. That is also why most monitors have higher resolutions than most TVs. Being close to the screen actually makes game-play a lot more realistic. You should try it sometime.\" First off, I\\'m an Avid PC gamer. I currently own the PS3, the Xbox 360, a Gaming laptop, a Dell PC, a DS, a 3DS, and a Gameboy, I\\'m quite experienced. This opinion I possess isn\\'t random and uninformed. I play on a regular basic, and I can honestly tell you, from my P.O.V, that it\\'s more comfortable and relaxing to lie on a couch and sit back rather then crunch my back close to a PC monitor. And being closer to a screen doesn\\'t make game play more realistic at all, that\\'s completely ludicrous. \"You can make consoles glow but your going to have to open up it with special tools that cost money and are hard to use. I can install a neon light in my PC in less than 2 minutes. I built my PC and it was super easy and cheap. The better PCs are the ones you build not buy. Why not use a controller? Maybe you just don\\'t want to use a mouse. You can use an Xbox controller on a PC too.\" Yes, you need a special tool, It\\'s called a screw driver. Most people I know own one or two. They\\'re not hard to use, in my experience. That\\'s great you can install a light in your PC, no offense but that\\'s kind of pointless, that doesn\\'t make the PC better over a console albeit. I also Built my PC, and its been in repairs for 3 1/2 months, my fault probably. It\\'s easier for a professional to handle it. It\\'s in no respect easy to, It\\'s time consuming and tedious, far from easy, and In what way is it cheap? Maybe I just don\\'t want to use a mouse? What does that mean? Are you implying I prefer Console remotes over PC remotes because I dislike them? That\\'s not true at all. You ignored my point again. \"Okay... I admit that I exaggerated. But still, I will never need to buy a new 550$ PC every 8 years. I can just maybe buy a new part for about 100$ every 10 years or so.\" That leaves me in skepticism over whether what your debating is valid or not, openly admitting you exaggerated, however I will treat your statements with the same scrutiny as If you hadn\\'t. True, PC\\'s do last longer tangibly speaking, but as you also say you will spend Exorbitant amounts of money trying to repair and maintain them, and it will eventually become less expensive to purchase a new one altogether, that\\'s just a fact. \"New Arguments!!! PC is much cheaper in the long run considering these facts: -No monthly fee -Upgrades instead of buying a new one -Cheaper games -More free games -Free Flash games -Amazing deals every day on games (saved over 100$ in a buy one day)\" \"-No monthly fee\" The Monthly fee only applies if your paying for online, I don\\'t agree with it, but you say it like it also applies to offline, which would be incorrect. What do you mean by \"Upgrades instead of buying a new one\". That doesn\\'t make sense to me in terms of coherency. \"-Cheaper games\" Games aren\\'t necessarily cheaper, dude. That\\'s a complete fallacy. \"-More free games\"\"-Free Flash games\" Yes, there are more free games, but they consist mostly of flash games and games produced by independent individuals rather then actual Game studios. In short, low quality and a waste of time. \"-Amazing deals every day on games (saved over 100$ in a buy one day)\" Lol, you sound like your trying to advertise Steam or something. All Praise Lord Gaben! Jokes aside, the same thing applies to Consoles! There is no difference whatsoever there! It\\'s like saying Canada has Air, but distorting it like Canada is important or superior. No! The whole world has Food! You know, I\\'m getting fatigued addressing and refuting the same information consistently. Do you regard my debate as informed or considerable whatsoever? I\\'m giving my best thought into what you\\'ve said, dude. I would like the same courtesy. \"If you want a great PC, it will only set you back about 600$. Considering the benefits and long-term savings, that\\'s much better. Dude, what the heck did you get for 4100$? Retailers like NewEgg and Amazon ship from the U.S. . There are a lot more but these are the biggest. Your local computer repair shop will fix your PC for cheap or even free.\" Prices ranges vary from 500-4100$, as I stated. This is implying that it\\'s newer and unused. Buying from Amazon and NewEgg usually guarantee\\'s it has been used and is prone to being unreliable and more susceptible to error and malfunction. I bought a All in one PC set for 4100$ It included the actual PC, which is a ASUS(FTW), a high quality monitor, a gaming chair, Speaker, a SennHauser Head set, a Microsoft Wireless Mouse, Receivers, a god like Graphics Card, processor, and finally a Lamp! Emphasis on that God like Graphics card, because it enables me to play all my games on maximum quality and brightness settings. Also, Computer repair is not Cheap. Take it from anybody who has had their computer repaired. \"Pros: -cheaper in the long run -Easier to fix -much more reliable -Adaptable -Better graphics\" Ho hum. I can honestly say I put bountitudes of thought and time into my debate, but reading this final bit I can say with certainty you ignored most of it. I thoroughly enjoyed the debate however, and wish Pro an Exceptionally favourable Spring Break.',\n",
       "   'I say that War Thunder will not be as popular as World of Tanks.',\n",
       "   \"Good thing we don't make legislation based upon public opinion polls. For example, like what is taught in our schools: http://www.gallup.com/poll/21814/Evolution-Creationism-Intelligent-Design.aspx Bob Loblaw!\",\n",
       "   'Starting from 2002 to date Federer is a serious threat at grandslams. Winning 11 majors in 4 years on variety of surfaces is seen for the first time probably in mens tennis. It is even not exaggeration saying that it is he who has taken tennis to a different level and Rafa, Djo are mere followers. It is a big mistake to say he had no competetion. He plays gracefully to make things look easy. Apart from his numerical achievements, his fitness is amazing. I dont think Rafa or Djo can play the same way when they are 30, with the effortful game they play. Federer is still competetor as the kind of skill he possesses makes him play effortlessly. Rafa has been winning slams since his teen age and the guy is still on course to reach federer i.e. 7 years comparatively federer started in 2002 and ended at 16 in 2010. It all takes common sense that Federer is the Greatest of All Time. True that u cant compare generations and thus have to just base on facts. When it comes to the current generation he has been the absolute dominator. So both ways he is the GOAT. Cheers Leo']}]"
      ]
     },
     "execution_count": 5,
     "metadata": {},
     "output_type": "execute_result"
    }
   ],
   "source": [
    "contrastive_pairs[0:2]"
   ]
  },
  {
   "cell_type": "code",
   "execution_count": 6,
   "id": "49721946-fff3-4690-bd92-d981cecdf62b",
   "metadata": {
    "execution": {
     "iopub.execute_input": "2025-03-02T14:40:22.353249Z",
     "iopub.status.busy": "2025-03-02T14:40:22.353031Z",
     "iopub.status.idle": "2025-03-02T14:40:22.377311Z",
     "shell.execute_reply": "2025-03-02T14:40:22.377010Z"
    },
    "papermill": {
     "duration": 0.027463,
     "end_time": "2025-03-02T14:40:22.377860",
     "exception": false,
     "start_time": "2025-03-02T14:40:22.350397",
     "status": "completed"
    },
    "tags": []
   },
   "outputs": [
    {
     "data": {
      "text/plain": [
       "0"
      ]
     },
     "execution_count": 6,
     "metadata": {},
     "output_type": "execute_result"
    }
   ],
   "source": [
    "c"
   ]
  },
  {
   "cell_type": "code",
   "execution_count": 7,
   "id": "de8ef367-dcb4-4bb6-af3a-20f190930ed1",
   "metadata": {
    "execution": {
     "iopub.execute_input": "2025-03-02T14:40:22.384388Z",
     "iopub.status.busy": "2025-03-02T14:40:22.384176Z",
     "iopub.status.idle": "2025-03-02T14:40:22.398710Z",
     "shell.execute_reply": "2025-03-02T14:40:22.398426Z"
    },
    "papermill": {
     "duration": 0.018855,
     "end_time": "2025-03-02T14:40:22.399250",
     "exception": false,
     "start_time": "2025-03-02T14:40:22.380395",
     "status": "completed"
    },
    "tags": []
   },
   "outputs": [
    {
     "data": {
      "text/plain": [
       "49"
      ]
     },
     "execution_count": 7,
     "metadata": {},
     "output_type": "execute_result"
    }
   ],
   "source": [
    "len(contrastive_pairs)"
   ]
  },
  {
   "cell_type": "code",
   "execution_count": 8,
   "id": "8ade92f9-e3df-4d0a-b849-b1a721e18cf6",
   "metadata": {
    "execution": {
     "iopub.execute_input": "2025-03-02T14:40:22.404792Z",
     "iopub.status.busy": "2025-03-02T14:40:22.404674Z",
     "iopub.status.idle": "2025-03-02T14:40:22.423860Z",
     "shell.execute_reply": "2025-03-02T14:40:22.423564Z"
    },
    "papermill": {
     "duration": 0.022596,
     "end_time": "2025-03-02T14:40:22.424402",
     "exception": false,
     "start_time": "2025-03-02T14:40:22.401806",
     "status": "completed"
    },
    "tags": []
   },
   "outputs": [
    {
     "data": {
      "text/plain": [
       "49"
      ]
     },
     "execution_count": 8,
     "metadata": {},
     "output_type": "execute_result"
    }
   ],
   "source": [
    "len(qrels)"
   ]
  },
  {
   "cell_type": "code",
   "execution_count": 9,
   "id": "6b97f7b4-f007-41f6-bfbb-1b9b01665e9d",
   "metadata": {
    "execution": {
     "iopub.execute_input": "2025-03-02T14:40:22.430210Z",
     "iopub.status.busy": "2025-03-02T14:40:22.430084Z",
     "iopub.status.idle": "2025-03-02T14:40:26.581311Z",
     "shell.execute_reply": "2025-03-02T14:40:26.580913Z"
    },
    "papermill": {
     "duration": 4.155038,
     "end_time": "2025-03-02T14:40:26.582074",
     "exception": false,
     "start_time": "2025-03-02T14:40:22.427036",
     "status": "completed"
    },
    "tags": []
   },
   "outputs": [],
   "source": [
    "from torch.utils.data import DataLoader"
   ]
  },
  {
   "cell_type": "code",
   "execution_count": 10,
   "id": "a415b29a-a543-4679-8f78-44f715b3067d",
   "metadata": {
    "execution": {
     "iopub.execute_input": "2025-03-02T14:40:26.590870Z",
     "iopub.status.busy": "2025-03-02T14:40:26.590555Z",
     "iopub.status.idle": "2025-03-02T14:40:26.593261Z",
     "shell.execute_reply": "2025-03-02T14:40:26.592942Z"
    },
    "papermill": {
     "duration": 0.006687,
     "end_time": "2025-03-02T14:40:26.593791",
     "exception": false,
     "start_time": "2025-03-02T14:40:26.587104",
     "status": "completed"
    },
    "tags": []
   },
   "outputs": [],
   "source": [
    "class ContrastiveDataset:\n",
    "    def __init__(self, pairs):\n",
    "        self.pairs = pairs\n",
    "\n",
    "    def __len__(self):\n",
    "        return len(self.pairs)\n",
    "\n",
    "    def __getitem__(self, idx):\n",
    "        item = self.pairs[idx]\n",
    "        return item[\"anchor\"], item[\"positive\"], item[\"negatives\"]"
   ]
  },
  {
   "cell_type": "code",
   "execution_count": 11,
   "id": "a39efeab-fd20-411a-80c5-315f362e00d2",
   "metadata": {
    "execution": {
     "iopub.execute_input": "2025-03-02T14:40:26.599562Z",
     "iopub.status.busy": "2025-03-02T14:40:26.599312Z",
     "iopub.status.idle": "2025-03-02T14:40:26.614975Z",
     "shell.execute_reply": "2025-03-02T14:40:26.614659Z"
    },
    "papermill": {
     "duration": 0.01911,
     "end_time": "2025-03-02T14:40:26.615525",
     "exception": false,
     "start_time": "2025-03-02T14:40:26.596415",
     "status": "completed"
    },
    "tags": []
   },
   "outputs": [],
   "source": [
    "contrastive_dataset = ContrastiveDataset(contrastive_pairs)"
   ]
  },
  {
   "cell_type": "code",
   "execution_count": 12,
   "id": "d103bbfa-895a-4020-a7e5-21de659f27dc",
   "metadata": {
    "execution": {
     "iopub.execute_input": "2025-03-02T14:40:26.623104Z",
     "iopub.status.busy": "2025-03-02T14:40:26.622877Z",
     "iopub.status.idle": "2025-03-02T14:40:26.698983Z",
     "shell.execute_reply": "2025-03-02T14:40:26.698698Z"
    },
    "papermill": {
     "duration": 0.079616,
     "end_time": "2025-03-02T14:40:26.699558",
     "exception": false,
     "start_time": "2025-03-02T14:40:26.619942",
     "status": "completed"
    },
    "tags": []
   },
   "outputs": [],
   "source": [
    "data_loader = DataLoader(contrastive_dataset, batch_size=32, shuffle=True)"
   ]
  },
  {
   "cell_type": "code",
   "execution_count": 13,
   "id": "c8b0277f-f526-4087-82da-c4cdd65d32da",
   "metadata": {
    "execution": {
     "iopub.execute_input": "2025-03-02T14:40:26.705928Z",
     "iopub.status.busy": "2025-03-02T14:40:26.705567Z",
     "iopub.status.idle": "2025-03-02T14:40:26.721555Z",
     "shell.execute_reply": "2025-03-02T14:40:26.721278Z"
    },
    "papermill": {
     "duration": 0.019629,
     "end_time": "2025-03-02T14:40:26.722094",
     "exception": false,
     "start_time": "2025-03-02T14:40:26.702465",
     "status": "completed"
    },
    "tags": []
   },
   "outputs": [
    {
     "data": {
      "text/plain": [
       "2"
      ]
     },
     "execution_count": 13,
     "metadata": {},
     "output_type": "execute_result"
    }
   ],
   "source": [
    "len(data_loader)"
   ]
  },
  {
   "cell_type": "code",
   "execution_count": 14,
   "id": "e15526a4-b3fe-435b-91c9-ad4064562f0f",
   "metadata": {
    "execution": {
     "iopub.execute_input": "2025-03-02T14:40:26.728464Z",
     "iopub.status.busy": "2025-03-02T14:40:26.728053Z",
     "iopub.status.idle": "2025-03-02T14:40:38.971572Z",
     "shell.execute_reply": "2025-03-02T14:40:38.970998Z"
    },
    "papermill": {
     "duration": 12.24747,
     "end_time": "2025-03-02T14:40:38.972451",
     "exception": false,
     "start_time": "2025-03-02T14:40:26.724981",
     "status": "completed"
    },
    "tags": []
   },
   "outputs": [
    {
     "name": "stderr",
     "output_type": "stream",
     "text": [
      "/tmp/ipykernel_1010853/3105893467.py:3: FutureWarning: You are using `torch.load` with `weights_only=False` (the current default value), which uses the default pickle module implicitly. It is possible to construct malicious pickle data which will execute arbitrary code during unpickling (See https://github.com/pytorch/pytorch/blob/main/SECURITY.md#untrusted-models for more details). In a future release, the default value for `weights_only` will be flipped to `True`. This limits the functions that could be executed during unpickling. Arbitrary objects will no longer be allowed to be loaded via this mode unless they are explicitly allowlisted by the user via `torch.serialization.add_safe_globals`. We recommend you start setting `weights_only=True` for any use case where you don't have full control of the loaded file. Please open an issue on GitHub for any issues related to this experimental feature.\n",
      "  lora_model = torch.load(file_path)\n"
     ]
    }
   ],
   "source": [
    "import torch\n",
    "file_path=\"/dss/dsshome1/07/ra65bex2/srawat/contrastive_learning/v1.1/app_baseline/checkpoint_epoch_3.pth\"\n",
    "lora_model = torch.load(file_path)"
   ]
  },
  {
   "cell_type": "code",
   "execution_count": 15,
   "id": "9999e628-5966-4dda-b5c5-c0d762fce27d",
   "metadata": {
    "execution": {
     "iopub.execute_input": "2025-03-02T14:40:38.981422Z",
     "iopub.status.busy": "2025-03-02T14:40:38.981088Z",
     "iopub.status.idle": "2025-03-02T14:40:38.985954Z",
     "shell.execute_reply": "2025-03-02T14:40:38.985659Z"
    },
    "papermill": {
     "duration": 0.008752,
     "end_time": "2025-03-02T14:40:38.986483",
     "exception": false,
     "start_time": "2025-03-02T14:40:38.977731",
     "status": "completed"
    },
    "tags": []
   },
   "outputs": [],
   "source": [
    "device = torch.device('cuda' if torch.cuda.is_available() else 'cpu')\n",
    "lora_model = lora_model.to(device)"
   ]
  },
  {
   "cell_type": "code",
   "execution_count": 16,
   "id": "7e6a3a61-8db0-43db-b575-6399f8515950",
   "metadata": {
    "execution": {
     "iopub.execute_input": "2025-03-02T14:40:38.992601Z",
     "iopub.status.busy": "2025-03-02T14:40:38.992476Z",
     "iopub.status.idle": "2025-03-02T14:40:39.276527Z",
     "shell.execute_reply": "2025-03-02T14:40:39.276133Z"
    },
    "papermill": {
     "duration": 0.28768,
     "end_time": "2025-03-02T14:40:39.277094",
     "exception": false,
     "start_time": "2025-03-02T14:40:38.989414",
     "status": "completed"
    },
    "tags": []
   },
   "outputs": [],
   "source": [
    "from transformers import AutoTokenizer, AutoModel\n",
    "tokenizer = AutoTokenizer.from_pretrained(\"bert-base-uncased\")"
   ]
  },
  {
   "cell_type": "code",
   "execution_count": 17,
   "id": "68ac4919-76f1-4349-a314-4b1061126655",
   "metadata": {
    "execution": {
     "iopub.execute_input": "2025-03-02T14:40:39.283961Z",
     "iopub.status.busy": "2025-03-02T14:40:39.283567Z",
     "iopub.status.idle": "2025-03-02T14:40:39.285945Z",
     "shell.execute_reply": "2025-03-02T14:40:39.285639Z"
    },
    "papermill": {
     "duration": 0.006266,
     "end_time": "2025-03-02T14:40:39.286465",
     "exception": false,
     "start_time": "2025-03-02T14:40:39.280199",
     "status": "completed"
    },
    "tags": []
   },
   "outputs": [],
   "source": [
    "def cosine_distance(x, y):\n",
    "    return 1 - torch.nn.functional.cosine_similarity(x, y, dim=-1)"
   ]
  },
  {
   "cell_type": "code",
   "execution_count": 18,
   "id": "990f63bd-4d48-4f58-a001-3b3250f65312",
   "metadata": {
    "execution": {
     "iopub.execute_input": "2025-03-02T14:40:39.292532Z",
     "iopub.status.busy": "2025-03-02T14:40:39.292407Z",
     "iopub.status.idle": "2025-03-02T14:40:39.307329Z",
     "shell.execute_reply": "2025-03-02T14:40:39.307019Z"
    },
    "papermill": {
     "duration": 0.018529,
     "end_time": "2025-03-02T14:40:39.307845",
     "exception": false,
     "start_time": "2025-03-02T14:40:39.289316",
     "status": "completed"
    },
    "tags": []
   },
   "outputs": [],
   "source": [
    "def evaluate_mrr(model, data_loader_val, distance_fn):\n",
    "    model.eval()\n",
    "\n",
    "    total_rr = 0.0\n",
    "    num_queries = 0\n",
    "\n",
    "    with torch.no_grad():\n",
    "        for batch in data_loader_val:\n",
    "            anchor_text = batch[0]\n",
    "            positive_text = batch[1]\n",
    "            negative_texts = batch[2]\n",
    "\n",
    "            anchor_input = tokenizer(anchor_text, return_tensors='pt', padding=True, truncation=True, max_length=512).to(device)\n",
    "            positive_input = tokenizer(positive_text, return_tensors='pt', padding=True, truncation=True, max_length=512).to(device)\n",
    "\n",
    "            anchor_embedding = model(**anchor_input).last_hidden_state[:, 0, :]\n",
    "            positive_embedding = model(**positive_input).last_hidden_state[:, 0, :]\n",
    "            negative_embedding = [model(**tokenizer(neg, return_tensors='pt', padding=True, truncation=True, max_length=512).to(device)).last_hidden_state[:, 0, :] for neg in negative_texts]\n",
    "\n",
    "            pos_dist = distance_fn(anchor_embedding, positive_embedding)\n",
    "            neg_dist = torch.stack([distance_fn(anchor_embedding, neg) for neg in negative_embedding], dim=-1)\n",
    "            all_similarities=torch.cat([-pos_dist.unsqueeze(1), -neg_dist], dim=1)\n",
    "\n",
    "            sorted_similarities, sorted_indices = torch.sort(all_similarities, dim=1, descending=True)\n",
    "\n",
    "            # Find the rank of the first relevant (positive) document\n",
    "            positive_rank = (sorted_indices == 0).nonzero(as_tuple=True)[1] + 1  # +1 to make rank 1-based\n",
    "            total_rr += torch.sum(1.0 / positive_rank.float()).item()  # Reciprocal rank\n",
    "            num_queries += len(positive_rank)\n",
    "\n",
    "    mrr = total_rr / num_queries\n",
    "    return mrr"
   ]
  },
  {
   "cell_type": "code",
   "execution_count": 19,
   "id": "534a9ec5-4211-4cb6-81f1-fb8a30caff92",
   "metadata": {
    "execution": {
     "iopub.execute_input": "2025-03-02T14:40:39.314125Z",
     "iopub.status.busy": "2025-03-02T14:40:39.313875Z",
     "iopub.status.idle": "2025-03-02T14:40:41.897799Z",
     "shell.execute_reply": "2025-03-02T14:40:41.897174Z"
    },
    "papermill": {
     "duration": 2.587894,
     "end_time": "2025-03-02T14:40:41.898592",
     "exception": false,
     "start_time": "2025-03-02T14:40:39.310698",
     "status": "completed"
    },
    "tags": []
   },
   "outputs": [
    {
     "name": "stdout",
     "output_type": "stream",
     "text": [
      "0.4170068040186045\n"
     ]
    }
   ],
   "source": [
    "mrr_validation = evaluate_mrr(lora_model, data_loader, cosine_distance)\n",
    "print(mrr_validation)"
   ]
  },
  {
   "cell_type": "code",
   "execution_count": null,
   "id": "f61bbd65-41c9-4ac7-80ef-ba4a4fb02d45",
   "metadata": {
    "papermill": {
     "duration": 0.002888,
     "end_time": "2025-03-02T14:40:41.905155",
     "exception": false,
     "start_time": "2025-03-02T14:40:41.902267",
     "status": "completed"
    },
    "tags": []
   },
   "outputs": [],
   "source": []
  }
 ],
 "metadata": {
  "kernelspec": {
   "display_name": "Python (myenv)",
   "language": "python",
   "name": "myenv"
  },
  "language_info": {
   "codemirror_mode": {
    "name": "ipython",
    "version": 3
   },
   "file_extension": ".py",
   "mimetype": "text/x-python",
   "name": "python",
   "nbconvert_exporter": "python",
   "pygments_lexer": "ipython3",
   "version": "3.12.7"
  },
  "papermill": {
   "default_parameters": {},
   "duration": 33.303908,
   "end_time": "2025-03-02T14:40:45.582350",
   "environment_variables": {},
   "exception": null,
   "input_path": "Touche.ipynb",
   "output_path": "Touche_output.ipynb",
   "parameters": {},
   "start_time": "2025-03-02T14:40:12.278442",
   "version": "2.6.0"
  },
  "widgets": {
   "application/vnd.jupyter.widget-state+json": {
    "state": {
     "022cc8a3182f43a19143c73367980d86": {
      "model_module": "@jupyter-widgets/controls",
      "model_module_version": "2.0.0",
      "model_name": "HTMLModel",
      "state": {
       "_dom_classes": [],
       "_model_module": "@jupyter-widgets/controls",
       "_model_module_version": "2.0.0",
       "_model_name": "HTMLModel",
       "_view_count": null,
       "_view_module": "@jupyter-widgets/controls",
       "_view_module_version": "2.0.0",
       "_view_name": "HTMLView",
       "description": "",
       "description_allow_html": false,
       "layout": "IPY_MODEL_ca48f17ff15d4903b48641c56c87d98f",
       "placeholder": "​",
       "style": "IPY_MODEL_ea86c744f5ba4b22bccc7cc4117c951e",
       "tabbable": null,
       "tooltip": null,
       "value": "100%"
      }
     },
     "3ab28f98dae1418ca911588ccbc1127d": {
      "model_module": "@jupyter-widgets/controls",
      "model_module_version": "2.0.0",
      "model_name": "ProgressStyleModel",
      "state": {
       "_model_module": "@jupyter-widgets/controls",
       "_model_module_version": "2.0.0",
       "_model_name": "ProgressStyleModel",
       "_view_count": null,
       "_view_module": "@jupyter-widgets/base",
       "_view_module_version": "2.0.0",
       "_view_name": "StyleView",
       "bar_color": null,
       "description_width": ""
      }
     },
     "784cb203490e43959f942c1cee8165c4": {
      "model_module": "@jupyter-widgets/controls",
      "model_module_version": "2.0.0",
      "model_name": "HBoxModel",
      "state": {
       "_dom_classes": [],
       "_model_module": "@jupyter-widgets/controls",
       "_model_module_version": "2.0.0",
       "_model_name": "HBoxModel",
       "_view_count": null,
       "_view_module": "@jupyter-widgets/controls",
       "_view_module_version": "2.0.0",
       "_view_name": "HBoxView",
       "box_style": "",
       "children": [
        "IPY_MODEL_022cc8a3182f43a19143c73367980d86",
        "IPY_MODEL_a4ea67dc44694fa49490a1932c36148a",
        "IPY_MODEL_bf6ea8e20b3d409bb039a165562fd2c0"
       ],
       "layout": "IPY_MODEL_90fe5568e1a04f958a48f0a8a989550e",
       "tabbable": null,
       "tooltip": null
      }
     },
     "815ea84906f14e7193ea4883397a2b6c": {
      "model_module": "@jupyter-widgets/controls",
      "model_module_version": "2.0.0",
      "model_name": "HTMLStyleModel",
      "state": {
       "_model_module": "@jupyter-widgets/controls",
       "_model_module_version": "2.0.0",
       "_model_name": "HTMLStyleModel",
       "_view_count": null,
       "_view_module": "@jupyter-widgets/base",
       "_view_module_version": "2.0.0",
       "_view_name": "StyleView",
       "background": null,
       "description_width": "",
       "font_size": null,
       "text_color": null
      }
     },
     "848e67c2300d4d51b9bf2ef801b17221": {
      "model_module": "@jupyter-widgets/base",
      "model_module_version": "2.0.0",
      "model_name": "LayoutModel",
      "state": {
       "_model_module": "@jupyter-widgets/base",
       "_model_module_version": "2.0.0",
       "_model_name": "LayoutModel",
       "_view_count": null,
       "_view_module": "@jupyter-widgets/base",
       "_view_module_version": "2.0.0",
       "_view_name": "LayoutView",
       "align_content": null,
       "align_items": null,
       "align_self": null,
       "border_bottom": null,
       "border_left": null,
       "border_right": null,
       "border_top": null,
       "bottom": null,
       "display": null,
       "flex": null,
       "flex_flow": null,
       "grid_area": null,
       "grid_auto_columns": null,
       "grid_auto_flow": null,
       "grid_auto_rows": null,
       "grid_column": null,
       "grid_gap": null,
       "grid_row": null,
       "grid_template_areas": null,
       "grid_template_columns": null,
       "grid_template_rows": null,
       "height": null,
       "justify_content": null,
       "justify_items": null,
       "left": null,
       "margin": null,
       "max_height": null,
       "max_width": null,
       "min_height": null,
       "min_width": null,
       "object_fit": null,
       "object_position": null,
       "order": null,
       "overflow": null,
       "padding": null,
       "right": null,
       "top": null,
       "visibility": null,
       "width": null
      }
     },
     "887396a54de54d1c850b47b53ae1452d": {
      "model_module": "@jupyter-widgets/base",
      "model_module_version": "2.0.0",
      "model_name": "LayoutModel",
      "state": {
       "_model_module": "@jupyter-widgets/base",
       "_model_module_version": "2.0.0",
       "_model_name": "LayoutModel",
       "_view_count": null,
       "_view_module": "@jupyter-widgets/base",
       "_view_module_version": "2.0.0",
       "_view_name": "LayoutView",
       "align_content": null,
       "align_items": null,
       "align_self": null,
       "border_bottom": null,
       "border_left": null,
       "border_right": null,
       "border_top": null,
       "bottom": null,
       "display": null,
       "flex": null,
       "flex_flow": null,
       "grid_area": null,
       "grid_auto_columns": null,
       "grid_auto_flow": null,
       "grid_auto_rows": null,
       "grid_column": null,
       "grid_gap": null,
       "grid_row": null,
       "grid_template_areas": null,
       "grid_template_columns": null,
       "grid_template_rows": null,
       "height": null,
       "justify_content": null,
       "justify_items": null,
       "left": null,
       "margin": null,
       "max_height": null,
       "max_width": null,
       "min_height": null,
       "min_width": null,
       "object_fit": null,
       "object_position": null,
       "order": null,
       "overflow": null,
       "padding": null,
       "right": null,
       "top": null,
       "visibility": null,
       "width": null
      }
     },
     "90fe5568e1a04f958a48f0a8a989550e": {
      "model_module": "@jupyter-widgets/base",
      "model_module_version": "2.0.0",
      "model_name": "LayoutModel",
      "state": {
       "_model_module": "@jupyter-widgets/base",
       "_model_module_version": "2.0.0",
       "_model_name": "LayoutModel",
       "_view_count": null,
       "_view_module": "@jupyter-widgets/base",
       "_view_module_version": "2.0.0",
       "_view_name": "LayoutView",
       "align_content": null,
       "align_items": null,
       "align_self": null,
       "border_bottom": null,
       "border_left": null,
       "border_right": null,
       "border_top": null,
       "bottom": null,
       "display": null,
       "flex": null,
       "flex_flow": null,
       "grid_area": null,
       "grid_auto_columns": null,
       "grid_auto_flow": null,
       "grid_auto_rows": null,
       "grid_column": null,
       "grid_gap": null,
       "grid_row": null,
       "grid_template_areas": null,
       "grid_template_columns": null,
       "grid_template_rows": null,
       "height": null,
       "justify_content": null,
       "justify_items": null,
       "left": null,
       "margin": null,
       "max_height": null,
       "max_width": null,
       "min_height": null,
       "min_width": null,
       "object_fit": null,
       "object_position": null,
       "order": null,
       "overflow": null,
       "padding": null,
       "right": null,
       "top": null,
       "visibility": null,
       "width": null
      }
     },
     "a4ea67dc44694fa49490a1932c36148a": {
      "model_module": "@jupyter-widgets/controls",
      "model_module_version": "2.0.0",
      "model_name": "FloatProgressModel",
      "state": {
       "_dom_classes": [],
       "_model_module": "@jupyter-widgets/controls",
       "_model_module_version": "2.0.0",
       "_model_name": "FloatProgressModel",
       "_view_count": null,
       "_view_module": "@jupyter-widgets/controls",
       "_view_module_version": "2.0.0",
       "_view_name": "ProgressView",
       "bar_style": "success",
       "description": "",
       "description_allow_html": false,
       "layout": "IPY_MODEL_887396a54de54d1c850b47b53ae1452d",
       "max": 382545.0,
       "min": 0.0,
       "orientation": "horizontal",
       "style": "IPY_MODEL_3ab28f98dae1418ca911588ccbc1127d",
       "tabbable": null,
       "tooltip": null,
       "value": 382545.0
      }
     },
     "bf6ea8e20b3d409bb039a165562fd2c0": {
      "model_module": "@jupyter-widgets/controls",
      "model_module_version": "2.0.0",
      "model_name": "HTMLModel",
      "state": {
       "_dom_classes": [],
       "_model_module": "@jupyter-widgets/controls",
       "_model_module_version": "2.0.0",
       "_model_name": "HTMLModel",
       "_view_count": null,
       "_view_module": "@jupyter-widgets/controls",
       "_view_module_version": "2.0.0",
       "_view_name": "HTMLView",
       "description": "",
       "description_allow_html": false,
       "layout": "IPY_MODEL_848e67c2300d4d51b9bf2ef801b17221",
       "placeholder": "​",
       "style": "IPY_MODEL_815ea84906f14e7193ea4883397a2b6c",
       "tabbable": null,
       "tooltip": null,
       "value": " 382545/382545 [00:03&lt;00:00, 156054.88it/s]"
      }
     },
     "ca48f17ff15d4903b48641c56c87d98f": {
      "model_module": "@jupyter-widgets/base",
      "model_module_version": "2.0.0",
      "model_name": "LayoutModel",
      "state": {
       "_model_module": "@jupyter-widgets/base",
       "_model_module_version": "2.0.0",
       "_model_name": "LayoutModel",
       "_view_count": null,
       "_view_module": "@jupyter-widgets/base",
       "_view_module_version": "2.0.0",
       "_view_name": "LayoutView",
       "align_content": null,
       "align_items": null,
       "align_self": null,
       "border_bottom": null,
       "border_left": null,
       "border_right": null,
       "border_top": null,
       "bottom": null,
       "display": null,
       "flex": null,
       "flex_flow": null,
       "grid_area": null,
       "grid_auto_columns": null,
       "grid_auto_flow": null,
       "grid_auto_rows": null,
       "grid_column": null,
       "grid_gap": null,
       "grid_row": null,
       "grid_template_areas": null,
       "grid_template_columns": null,
       "grid_template_rows": null,
       "height": null,
       "justify_content": null,
       "justify_items": null,
       "left": null,
       "margin": null,
       "max_height": null,
       "max_width": null,
       "min_height": null,
       "min_width": null,
       "object_fit": null,
       "object_position": null,
       "order": null,
       "overflow": null,
       "padding": null,
       "right": null,
       "top": null,
       "visibility": null,
       "width": null
      }
     },
     "ea86c744f5ba4b22bccc7cc4117c951e": {
      "model_module": "@jupyter-widgets/controls",
      "model_module_version": "2.0.0",
      "model_name": "HTMLStyleModel",
      "state": {
       "_model_module": "@jupyter-widgets/controls",
       "_model_module_version": "2.0.0",
       "_model_name": "HTMLStyleModel",
       "_view_count": null,
       "_view_module": "@jupyter-widgets/base",
       "_view_module_version": "2.0.0",
       "_view_name": "StyleView",
       "background": null,
       "description_width": "",
       "font_size": null,
       "text_color": null
      }
     }
    },
    "version_major": 2,
    "version_minor": 0
   }
  }
 },
 "nbformat": 4,
 "nbformat_minor": 5
}