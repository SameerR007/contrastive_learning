{
 "cells": [
  {
   "cell_type": "code",
   "execution_count": 1,
   "id": "f6d4b65f-fa6b-4517-8694-8627bc49833b",
   "metadata": {
    "execution": {
     "iopub.execute_input": "2025-03-02T14:41:42.117757Z",
     "iopub.status.busy": "2025-03-02T14:41:42.117624Z",
     "iopub.status.idle": "2025-03-02T14:41:42.209673Z",
     "shell.execute_reply": "2025-03-02T14:41:42.209276Z"
    },
    "papermill": {
     "duration": 0.095854,
     "end_time": "2025-03-02T14:41:42.210383",
     "exception": false,
     "start_time": "2025-03-02T14:41:42.114529",
     "status": "completed"
    },
    "tags": []
   },
   "outputs": [
    {
     "name": "stderr",
     "output_type": "stream",
     "text": [
      "/dss/dsshome1/07/ra65bex2/srawat/myenv/lib/python3.12/site-packages/beir/datasets/data_loader.py:8: TqdmExperimentalWarning: Using `tqdm.autonotebook.tqdm` in notebook mode. Use `tqdm.tqdm` instead to force console mode (e.g. in jupyter console)\n",
      "  from tqdm.autonotebook import tqdm\n"
     ]
    }
   ],
   "source": [
    "from beir.datasets.data_loader import GenericDataLoader"
   ]
  },
  {
   "cell_type": "code",
   "execution_count": 2,
   "id": "a91d6914-e301-422c-b839-1fafeb1e8fa4",
   "metadata": {
    "execution": {
     "iopub.execute_input": "2025-03-02T14:41:42.216140Z",
     "iopub.status.busy": "2025-03-02T14:41:42.215870Z",
     "iopub.status.idle": "2025-03-02T14:41:42.217972Z",
     "shell.execute_reply": "2025-03-02T14:41:42.217653Z"
    },
    "papermill": {
     "duration": 0.005402,
     "end_time": "2025-03-02T14:41:42.218601",
     "exception": false,
     "start_time": "2025-03-02T14:41:42.213199",
     "status": "completed"
    },
    "tags": []
   },
   "outputs": [],
   "source": [
    "data_path='/dss/dsshome1/07/ra65bex2/srawat/webis-touche2020/webis-touche2020'"
   ]
  },
  {
   "cell_type": "code",
   "execution_count": 3,
   "id": "41e17333-2c34-4b7b-91f6-3cbd3972f0d6",
   "metadata": {
    "execution": {
     "iopub.execute_input": "2025-03-02T14:41:42.223309Z",
     "iopub.status.busy": "2025-03-02T14:41:42.223183Z",
     "iopub.status.idle": "2025-03-02T14:41:45.865017Z",
     "shell.execute_reply": "2025-03-02T14:41:45.864603Z"
    },
    "papermill": {
     "duration": 3.645013,
     "end_time": "2025-03-02T14:41:45.865756",
     "exception": false,
     "start_time": "2025-03-02T14:41:42.220743",
     "status": "completed"
    },
    "tags": []
   },
   "outputs": [
    {
     "data": {
      "application/vnd.jupyter.widget-view+json": {
       "model_id": "89110df4f6e440acb69e6782ab3fefea",
       "version_major": 2,
       "version_minor": 0
      },
      "text/plain": [
       "  0%|          | 0/382545 [00:00<?, ?it/s]"
      ]
     },
     "metadata": {},
     "output_type": "display_data"
    }
   ],
   "source": [
    "corpus, queries, qrels = GenericDataLoader(data_path).load(split=\"test\")"
   ]
  },
  {
   "cell_type": "code",
   "execution_count": 4,
   "id": "a29044d5-3952-4f3d-aa43-e1efd34fcad3",
   "metadata": {
    "execution": {
     "iopub.execute_input": "2025-03-02T14:41:45.871542Z",
     "iopub.status.busy": "2025-03-02T14:41:45.871309Z",
     "iopub.status.idle": "2025-03-02T14:41:49.238577Z",
     "shell.execute_reply": "2025-03-02T14:41:49.237980Z"
    },
    "papermill": {
     "duration": 3.371034,
     "end_time": "2025-03-02T14:41:49.239577",
     "exception": false,
     "start_time": "2025-03-02T14:41:45.868543",
     "status": "completed"
    },
    "tags": []
   },
   "outputs": [],
   "source": [
    "contrastive_pairs=[]\n",
    "import random\n",
    "c=0\n",
    "for query_id, relevant_docs in qrels.items():\n",
    "    try:\n",
    "        query_text = queries[query_id]\n",
    "        for doc_id in relevant_docs:\n",
    "            positive = corpus[doc_id][\"text\"]\n",
    "        #print(relevant_docs)\n",
    "        positive_doc_ids = set(relevant_docs)\n",
    "        all_doc_ids = set(corpus.keys())\n",
    "        negative_doc_ids = all_doc_ids - positive_doc_ids\n",
    "        negative_doc_ids=list(negative_doc_ids)\n",
    "        negative_doc_samples = random.sample(negative_doc_ids, k=5)\n",
    "        negatives=[]\n",
    "        for neg_doc_id in negative_doc_samples:\n",
    "            negative_doc_text = corpus[neg_doc_id][\"text\"]\n",
    "            negatives.append(negative_doc_text)\n",
    "        contrastive_pairs.append({\n",
    "            \"anchor\": query_text,\n",
    "            \"positive\": positive,\n",
    "            \"negatives\": negatives\n",
    "        })\n",
    "    except:\n",
    "        c=c+1"
   ]
  },
  {
   "cell_type": "code",
   "execution_count": 5,
   "id": "49721946-fff3-4690-bd92-d981cecdf62b",
   "metadata": {
    "execution": {
     "iopub.execute_input": "2025-03-02T14:41:49.245371Z",
     "iopub.status.busy": "2025-03-02T14:41:49.245214Z",
     "iopub.status.idle": "2025-03-02T14:41:49.249171Z",
     "shell.execute_reply": "2025-03-02T14:41:49.248857Z"
    },
    "papermill": {
     "duration": 0.007498,
     "end_time": "2025-03-02T14:41:49.249786",
     "exception": false,
     "start_time": "2025-03-02T14:41:49.242288",
     "status": "completed"
    },
    "tags": []
   },
   "outputs": [
    {
     "data": {
      "text/plain": [
       "0"
      ]
     },
     "execution_count": 5,
     "metadata": {},
     "output_type": "execute_result"
    }
   ],
   "source": [
    "c"
   ]
  },
  {
   "cell_type": "code",
   "execution_count": 6,
   "id": "de8ef367-dcb4-4bb6-af3a-20f190930ed1",
   "metadata": {
    "execution": {
     "iopub.execute_input": "2025-03-02T14:41:49.254925Z",
     "iopub.status.busy": "2025-03-02T14:41:49.254661Z",
     "iopub.status.idle": "2025-03-02T14:41:49.272570Z",
     "shell.execute_reply": "2025-03-02T14:41:49.272262Z"
    },
    "papermill": {
     "duration": 0.021001,
     "end_time": "2025-03-02T14:41:49.273132",
     "exception": false,
     "start_time": "2025-03-02T14:41:49.252131",
     "status": "completed"
    },
    "tags": []
   },
   "outputs": [
    {
     "data": {
      "text/plain": [
       "49"
      ]
     },
     "execution_count": 6,
     "metadata": {},
     "output_type": "execute_result"
    }
   ],
   "source": [
    "len(contrastive_pairs)"
   ]
  },
  {
   "cell_type": "code",
   "execution_count": 7,
   "id": "8ade92f9-e3df-4d0a-b849-b1a721e18cf6",
   "metadata": {
    "execution": {
     "iopub.execute_input": "2025-03-02T14:41:49.278979Z",
     "iopub.status.busy": "2025-03-02T14:41:49.278855Z",
     "iopub.status.idle": "2025-03-02T14:41:49.293994Z",
     "shell.execute_reply": "2025-03-02T14:41:49.293680Z"
    },
    "papermill": {
     "duration": 0.019066,
     "end_time": "2025-03-02T14:41:49.294587",
     "exception": false,
     "start_time": "2025-03-02T14:41:49.275521",
     "status": "completed"
    },
    "tags": []
   },
   "outputs": [
    {
     "data": {
      "text/plain": [
       "49"
      ]
     },
     "execution_count": 7,
     "metadata": {},
     "output_type": "execute_result"
    }
   ],
   "source": [
    "len(qrels)"
   ]
  },
  {
   "cell_type": "code",
   "execution_count": 8,
   "id": "6b97f7b4-f007-41f6-bfbb-1b9b01665e9d",
   "metadata": {
    "execution": {
     "iopub.execute_input": "2025-03-02T14:41:49.299996Z",
     "iopub.status.busy": "2025-03-02T14:41:49.299872Z",
     "iopub.status.idle": "2025-03-02T14:41:51.665174Z",
     "shell.execute_reply": "2025-03-02T14:41:51.664727Z"
    },
    "papermill": {
     "duration": 2.369139,
     "end_time": "2025-03-02T14:41:51.666197",
     "exception": false,
     "start_time": "2025-03-02T14:41:49.297058",
     "status": "completed"
    },
    "tags": []
   },
   "outputs": [],
   "source": [
    "from torch.utils.data import DataLoader"
   ]
  },
  {
   "cell_type": "code",
   "execution_count": 9,
   "id": "a415b29a-a543-4679-8f78-44f715b3067d",
   "metadata": {
    "execution": {
     "iopub.execute_input": "2025-03-02T14:41:51.674054Z",
     "iopub.status.busy": "2025-03-02T14:41:51.673874Z",
     "iopub.status.idle": "2025-03-02T14:41:51.676942Z",
     "shell.execute_reply": "2025-03-02T14:41:51.676583Z"
    },
    "papermill": {
     "duration": 0.006674,
     "end_time": "2025-03-02T14:41:51.677578",
     "exception": false,
     "start_time": "2025-03-02T14:41:51.670904",
     "status": "completed"
    },
    "tags": []
   },
   "outputs": [],
   "source": [
    "class ContrastiveDataset:\n",
    "    def __init__(self, pairs):\n",
    "        self.pairs = pairs\n",
    "\n",
    "    def __len__(self):\n",
    "        return len(self.pairs)\n",
    "\n",
    "    def __getitem__(self, idx):\n",
    "        item = self.pairs[idx]\n",
    "        return item[\"anchor\"], item[\"positive\"], item[\"negatives\"]"
   ]
  },
  {
   "cell_type": "code",
   "execution_count": 10,
   "id": "a39efeab-fd20-411a-80c5-315f362e00d2",
   "metadata": {
    "execution": {
     "iopub.execute_input": "2025-03-02T14:41:51.682926Z",
     "iopub.status.busy": "2025-03-02T14:41:51.682793Z",
     "iopub.status.idle": "2025-03-02T14:41:51.698572Z",
     "shell.execute_reply": "2025-03-02T14:41:51.698201Z"
    },
    "papermill": {
     "duration": 0.019163,
     "end_time": "2025-03-02T14:41:51.699215",
     "exception": false,
     "start_time": "2025-03-02T14:41:51.680052",
     "status": "completed"
    },
    "tags": []
   },
   "outputs": [],
   "source": [
    "contrastive_dataset = ContrastiveDataset(contrastive_pairs)"
   ]
  },
  {
   "cell_type": "code",
   "execution_count": 11,
   "id": "d103bbfa-895a-4020-a7e5-21de659f27dc",
   "metadata": {
    "execution": {
     "iopub.execute_input": "2025-03-02T14:41:51.704750Z",
     "iopub.status.busy": "2025-03-02T14:41:51.704504Z",
     "iopub.status.idle": "2025-03-02T14:41:51.719684Z",
     "shell.execute_reply": "2025-03-02T14:41:51.719338Z"
    },
    "papermill": {
     "duration": 0.018531,
     "end_time": "2025-03-02T14:41:51.720319",
     "exception": false,
     "start_time": "2025-03-02T14:41:51.701788",
     "status": "completed"
    },
    "tags": []
   },
   "outputs": [],
   "source": [
    "data_loader = DataLoader(contrastive_dataset, batch_size=32, shuffle=True)"
   ]
  },
  {
   "cell_type": "code",
   "execution_count": 12,
   "id": "c8b0277f-f526-4087-82da-c4cdd65d32da",
   "metadata": {
    "execution": {
     "iopub.execute_input": "2025-03-02T14:41:51.725841Z",
     "iopub.status.busy": "2025-03-02T14:41:51.725594Z",
     "iopub.status.idle": "2025-03-02T14:41:51.742256Z",
     "shell.execute_reply": "2025-03-02T14:41:51.741890Z"
    },
    "papermill": {
     "duration": 0.020102,
     "end_time": "2025-03-02T14:41:51.742919",
     "exception": false,
     "start_time": "2025-03-02T14:41:51.722817",
     "status": "completed"
    },
    "tags": []
   },
   "outputs": [
    {
     "data": {
      "text/plain": [
       "2"
      ]
     },
     "execution_count": 12,
     "metadata": {},
     "output_type": "execute_result"
    }
   ],
   "source": [
    "len(data_loader)"
   ]
  },
  {
   "cell_type": "code",
   "execution_count": 13,
   "id": "e15526a4-b3fe-435b-91c9-ad4064562f0f",
   "metadata": {
    "execution": {
     "iopub.execute_input": "2025-03-02T14:41:51.748431Z",
     "iopub.status.busy": "2025-03-02T14:41:51.748304Z",
     "iopub.status.idle": "2025-03-02T14:41:57.396794Z",
     "shell.execute_reply": "2025-03-02T14:41:57.396260Z"
    },
    "papermill": {
     "duration": 5.652314,
     "end_time": "2025-03-02T14:41:57.397792",
     "exception": false,
     "start_time": "2025-03-02T14:41:51.745478",
     "status": "completed"
    },
    "tags": []
   },
   "outputs": [
    {
     "name": "stderr",
     "output_type": "stream",
     "text": [
      "/tmp/ipykernel_1012802/3548975511.py:3: FutureWarning: You are using `torch.load` with `weights_only=False` (the current default value), which uses the default pickle module implicitly. It is possible to construct malicious pickle data which will execute arbitrary code during unpickling (See https://github.com/pytorch/pytorch/blob/main/SECURITY.md#untrusted-models for more details). In a future release, the default value for `weights_only` will be flipped to `True`. This limits the functions that could be executed during unpickling. Arbitrary objects will no longer be allowed to be loaded via this mode unless they are explicitly allowlisted by the user via `torch.serialization.add_safe_globals`. We recommend you start setting `weights_only=True` for any use case where you don't have full control of the loaded file. Please open an issue on GitHub for any issues related to this experimental feature.\n",
      "  lora_model = torch.load(file_path)\n"
     ]
    }
   ],
   "source": [
    "import torch\n",
    "file_path=\"/dss/dsshome1/07/ra65bex2/srawat/contrastive_learning/v1.1/0.1hyperbolic/hyperbolic_lora_checkpoint_epoch_3.pth\"\n",
    "lora_model = torch.load(file_path)"
   ]
  },
  {
   "cell_type": "code",
   "execution_count": 14,
   "id": "9999e628-5966-4dda-b5c5-c0d762fce27d",
   "metadata": {
    "execution": {
     "iopub.execute_input": "2025-03-02T14:41:57.406667Z",
     "iopub.status.busy": "2025-03-02T14:41:57.406268Z",
     "iopub.status.idle": "2025-03-02T14:41:57.411578Z",
     "shell.execute_reply": "2025-03-02T14:41:57.411206Z"
    },
    "papermill": {
     "duration": 0.009091,
     "end_time": "2025-03-02T14:41:57.412290",
     "exception": false,
     "start_time": "2025-03-02T14:41:57.403199",
     "status": "completed"
    },
    "tags": []
   },
   "outputs": [],
   "source": [
    "device = torch.device('cuda' if torch.cuda.is_available() else 'cpu')\n",
    "lora_model = lora_model.to(device)"
   ]
  },
  {
   "cell_type": "code",
   "execution_count": 15,
   "id": "7e6a3a61-8db0-43db-b575-6399f8515950",
   "metadata": {
    "execution": {
     "iopub.execute_input": "2025-03-02T14:41:57.418655Z",
     "iopub.status.busy": "2025-03-02T14:41:57.418269Z",
     "iopub.status.idle": "2025-03-02T14:41:57.624711Z",
     "shell.execute_reply": "2025-03-02T14:41:57.624239Z"
    },
    "papermill": {
     "duration": 0.210421,
     "end_time": "2025-03-02T14:41:57.625446",
     "exception": false,
     "start_time": "2025-03-02T14:41:57.415025",
     "status": "completed"
    },
    "tags": []
   },
   "outputs": [],
   "source": [
    "from transformers import AutoTokenizer, AutoModel\n",
    "tokenizer = AutoTokenizer.from_pretrained(\"bert-base-uncased\")"
   ]
  },
  {
   "cell_type": "code",
   "execution_count": 16,
   "id": "68ac4919-76f1-4349-a314-4b1061126655",
   "metadata": {
    "execution": {
     "iopub.execute_input": "2025-03-02T14:41:57.631396Z",
     "iopub.status.busy": "2025-03-02T14:41:57.631258Z",
     "iopub.status.idle": "2025-03-02T14:41:57.634201Z",
     "shell.execute_reply": "2025-03-02T14:41:57.633824Z"
    },
    "papermill": {
     "duration": 0.006537,
     "end_time": "2025-03-02T14:41:57.634795",
     "exception": false,
     "start_time": "2025-03-02T14:41:57.628258",
     "status": "completed"
    },
    "tags": []
   },
   "outputs": [],
   "source": [
    "def lorentzian_distance(x, y):\n",
    "    \n",
    "    dot_product = torch.sum(x * y, dim=-1)\n",
    "    norm_x = torch.norm(x, dim=-1)\n",
    "    norm_y = torch.norm(y, dim=-1)\n",
    "    \n",
    "    distance = torch.acosh(-dot_product + torch.sqrt((1 + norm_x**2) * (1 + norm_y**2)))\n",
    "    return distance"
   ]
  },
  {
   "cell_type": "code",
   "execution_count": 17,
   "id": "90e1a127-7622-4dcb-9765-7f7d7e0b751c",
   "metadata": {
    "execution": {
     "iopub.execute_input": "2025-03-02T14:41:57.640769Z",
     "iopub.status.busy": "2025-03-02T14:41:57.640640Z",
     "iopub.status.idle": "2025-03-02T14:41:57.716540Z",
     "shell.execute_reply": "2025-03-02T14:41:57.716122Z"
    },
    "papermill": {
     "duration": 0.079663,
     "end_time": "2025-03-02T14:41:57.717148",
     "exception": false,
     "start_time": "2025-03-02T14:41:57.637485",
     "status": "completed"
    },
    "tags": []
   },
   "outputs": [],
   "source": [
    "def expm_o(v, c=1.0):\n",
    "    c = torch.tensor(c)\n",
    "    vspace = v\n",
    "    vnorm = torch.norm(v, p=2, dim=-1, keepdim=True)\n",
    "    xspace = torch.sinh(torch.sqrt(c) * vnorm) * vspace / (torch.sqrt(c) * vnorm)\n",
    "    batch_min = xspace.min(dim=1, keepdim=True).values\n",
    "    batch_max = xspace.max(dim=1, keepdim=True).values\n",
    "    xspace_scaled=(xspace - batch_min) / (batch_max - batch_min)\n",
    "    return xspace_scaled"
   ]
  },
  {
   "cell_type": "code",
   "execution_count": 18,
   "id": "990f63bd-4d48-4f58-a001-3b3250f65312",
   "metadata": {
    "execution": {
     "iopub.execute_input": "2025-03-02T14:41:57.723282Z",
     "iopub.status.busy": "2025-03-02T14:41:57.722962Z",
     "iopub.status.idle": "2025-03-02T14:41:57.739460Z",
     "shell.execute_reply": "2025-03-02T14:41:57.739096Z"
    },
    "papermill": {
     "duration": 0.020195,
     "end_time": "2025-03-02T14:41:57.740119",
     "exception": false,
     "start_time": "2025-03-02T14:41:57.719924",
     "status": "completed"
    },
    "tags": []
   },
   "outputs": [],
   "source": [
    "def evaluate_mrr(model1, data_loader_val, distance_fn):\n",
    "    model1.eval()\n",
    "    \n",
    "    total_rr = 0.0\n",
    "    num_queries = 0\n",
    "\n",
    "    with torch.no_grad():\n",
    "        for batch in data_loader_val:\n",
    "            anchor_text = batch[0]\n",
    "            positive_text = batch[1]\n",
    "            negative_texts = batch[2]\n",
    "\n",
    "            anchor_input = tokenizer(anchor_text, return_tensors='pt', padding=True, truncation=True, max_length=512).to(device)\n",
    "            positive_input = tokenizer(positive_text, return_tensors='pt', padding=True, truncation=True, max_length=512).to(device)\n",
    "\n",
    "            anchor_embedding = expm_o(model1(**anchor_input).last_hidden_state[:, 0, :])\n",
    "            positive_embedding = expm_o(model1(**positive_input).last_hidden_state[:, 0, :])\n",
    "            negative_embedding = [expm_o(model1(**tokenizer(neg, return_tensors='pt', padding=True, truncation=True, max_length=512).to(device)).last_hidden_state[:, 0, :]) for neg in negative_texts]\n",
    "\n",
    "            pos_dist = distance_fn(anchor_embedding, positive_embedding)\n",
    "            neg_dist = torch.stack([distance_fn(anchor_embedding, neg) for neg in negative_embedding], dim=-1)\n",
    "            all_similarities=torch.cat([-pos_dist.unsqueeze(1), -neg_dist], dim=1)\n",
    "\n",
    "            sorted_similarities, sorted_indices = torch.sort(all_similarities, dim=1, descending=True)\n",
    "\n",
    "            # Find the rank of the first relevant (positive) document\n",
    "            positive_rank = (sorted_indices == 0).nonzero(as_tuple=True)[1] + 1  # +1 to make rank 1-based\n",
    "            total_rr += torch.sum(1.0 / positive_rank.float()).item()  # Reciprocal rank\n",
    "            num_queries += len(positive_rank)\n",
    "            \n",
    "    mrr = total_rr / num_queries\n",
    "    return mrr"
   ]
  },
  {
   "cell_type": "code",
   "execution_count": 19,
   "id": "534a9ec5-4211-4cb6-81f1-fb8a30caff92",
   "metadata": {
    "execution": {
     "iopub.execute_input": "2025-03-02T14:41:57.746296Z",
     "iopub.status.busy": "2025-03-02T14:41:57.746041Z",
     "iopub.status.idle": "2025-03-02T14:42:00.419124Z",
     "shell.execute_reply": "2025-03-02T14:42:00.418526Z"
    },
    "papermill": {
     "duration": 2.676812,
     "end_time": "2025-03-02T14:42:00.419821",
     "exception": false,
     "start_time": "2025-03-02T14:41:57.743009",
     "status": "completed"
    },
    "tags": []
   },
   "outputs": [
    {
     "name": "stdout",
     "output_type": "stream",
     "text": [
      "0.399659876920739\n"
     ]
    }
   ],
   "source": [
    "mrr_validation = evaluate_mrr(model1=lora_model, data_loader_val=data_loader,distance_fn=lorentzian_distance)\n",
    "print(mrr_validation)"
   ]
  },
  {
   "cell_type": "code",
   "execution_count": null,
   "id": "f61bbd65-41c9-4ac7-80ef-ba4a4fb02d45",
   "metadata": {
    "papermill": {
     "duration": 0.002828,
     "end_time": "2025-03-02T14:42:00.427989",
     "exception": false,
     "start_time": "2025-03-02T14:42:00.425161",
     "status": "completed"
    },
    "tags": []
   },
   "outputs": [],
   "source": []
  }
 ],
 "metadata": {
  "kernelspec": {
   "display_name": "Python (myenv)",
   "language": "python",
   "name": "myenv"
  },
  "language_info": {
   "codemirror_mode": {
    "name": "ipython",
    "version": 3
   },
   "file_extension": ".py",
   "mimetype": "text/x-python",
   "name": "python",
   "nbconvert_exporter": "python",
   "pygments_lexer": "ipython3",
   "version": "3.12.7"
  },
  "papermill": {
   "default_parameters": {},
   "duration": 23.65361,
   "end_time": "2025-03-02T14:42:04.147029",
   "environment_variables": {},
   "exception": null,
   "input_path": "hyperbolic_Touche.ipynb",
   "output_path": "hyperbolic_Touche_output.ipynb",
   "parameters": {},
   "start_time": "2025-03-02T14:41:40.493419",
   "version": "2.6.0"
  },
  "widgets": {
   "application/vnd.jupyter.widget-state+json": {
    "state": {
     "1a975251d1604628b6915b238d21a97d": {
      "model_module": "@jupyter-widgets/controls",
      "model_module_version": "2.0.0",
      "model_name": "HTMLModel",
      "state": {
       "_dom_classes": [],
       "_model_module": "@jupyter-widgets/controls",
       "_model_module_version": "2.0.0",
       "_model_name": "HTMLModel",
       "_view_count": null,
       "_view_module": "@jupyter-widgets/controls",
       "_view_module_version": "2.0.0",
       "_view_name": "HTMLView",
       "description": "",
       "description_allow_html": false,
       "layout": "IPY_MODEL_2176245a6f1e4c2fa2c16e81ba51c17e",
       "placeholder": "​",
       "style": "IPY_MODEL_d78995917c424c5490a06f480e4c3c7e",
       "tabbable": null,
       "tooltip": null,
       "value": "100%"
      }
     },
     "2176245a6f1e4c2fa2c16e81ba51c17e": {
      "model_module": "@jupyter-widgets/base",
      "model_module_version": "2.0.0",
      "model_name": "LayoutModel",
      "state": {
       "_model_module": "@jupyter-widgets/base",
       "_model_module_version": "2.0.0",
       "_model_name": "LayoutModel",
       "_view_count": null,
       "_view_module": "@jupyter-widgets/base",
       "_view_module_version": "2.0.0",
       "_view_name": "LayoutView",
       "align_content": null,
       "align_items": null,
       "align_self": null,
       "border_bottom": null,
       "border_left": null,
       "border_right": null,
       "border_top": null,
       "bottom": null,
       "display": null,
       "flex": null,
       "flex_flow": null,
       "grid_area": null,
       "grid_auto_columns": null,
       "grid_auto_flow": null,
       "grid_auto_rows": null,
       "grid_column": null,
       "grid_gap": null,
       "grid_row": null,
       "grid_template_areas": null,
       "grid_template_columns": null,
       "grid_template_rows": null,
       "height": null,
       "justify_content": null,
       "justify_items": null,
       "left": null,
       "margin": null,
       "max_height": null,
       "max_width": null,
       "min_height": null,
       "min_width": null,
       "object_fit": null,
       "object_position": null,
       "order": null,
       "overflow": null,
       "padding": null,
       "right": null,
       "top": null,
       "visibility": null,
       "width": null
      }
     },
     "2c71d47a739848c89bf30b62e055d188": {
      "model_module": "@jupyter-widgets/base",
      "model_module_version": "2.0.0",
      "model_name": "LayoutModel",
      "state": {
       "_model_module": "@jupyter-widgets/base",
       "_model_module_version": "2.0.0",
       "_model_name": "LayoutModel",
       "_view_count": null,
       "_view_module": "@jupyter-widgets/base",
       "_view_module_version": "2.0.0",
       "_view_name": "LayoutView",
       "align_content": null,
       "align_items": null,
       "align_self": null,
       "border_bottom": null,
       "border_left": null,
       "border_right": null,
       "border_top": null,
       "bottom": null,
       "display": null,
       "flex": null,
       "flex_flow": null,
       "grid_area": null,
       "grid_auto_columns": null,
       "grid_auto_flow": null,
       "grid_auto_rows": null,
       "grid_column": null,
       "grid_gap": null,
       "grid_row": null,
       "grid_template_areas": null,
       "grid_template_columns": null,
       "grid_template_rows": null,
       "height": null,
       "justify_content": null,
       "justify_items": null,
       "left": null,
       "margin": null,
       "max_height": null,
       "max_width": null,
       "min_height": null,
       "min_width": null,
       "object_fit": null,
       "object_position": null,
       "order": null,
       "overflow": null,
       "padding": null,
       "right": null,
       "top": null,
       "visibility": null,
       "width": null
      }
     },
     "69e1be8507534c48996e026b120ddb75": {
      "model_module": "@jupyter-widgets/controls",
      "model_module_version": "2.0.0",
      "model_name": "FloatProgressModel",
      "state": {
       "_dom_classes": [],
       "_model_module": "@jupyter-widgets/controls",
       "_model_module_version": "2.0.0",
       "_model_name": "FloatProgressModel",
       "_view_count": null,
       "_view_module": "@jupyter-widgets/controls",
       "_view_module_version": "2.0.0",
       "_view_name": "ProgressView",
       "bar_style": "success",
       "description": "",
       "description_allow_html": false,
       "layout": "IPY_MODEL_77e02c5b208b428587568c513419d7f7",
       "max": 382545.0,
       "min": 0.0,
       "orientation": "horizontal",
       "style": "IPY_MODEL_ddf0cd5a1cd2475db321bf06c9a28faf",
       "tabbable": null,
       "tooltip": null,
       "value": 382545.0
      }
     },
     "77e02c5b208b428587568c513419d7f7": {
      "model_module": "@jupyter-widgets/base",
      "model_module_version": "2.0.0",
      "model_name": "LayoutModel",
      "state": {
       "_model_module": "@jupyter-widgets/base",
       "_model_module_version": "2.0.0",
       "_model_name": "LayoutModel",
       "_view_count": null,
       "_view_module": "@jupyter-widgets/base",
       "_view_module_version": "2.0.0",
       "_view_name": "LayoutView",
       "align_content": null,
       "align_items": null,
       "align_self": null,
       "border_bottom": null,
       "border_left": null,
       "border_right": null,
       "border_top": null,
       "bottom": null,
       "display": null,
       "flex": null,
       "flex_flow": null,
       "grid_area": null,
       "grid_auto_columns": null,
       "grid_auto_flow": null,
       "grid_auto_rows": null,
       "grid_column": null,
       "grid_gap": null,
       "grid_row": null,
       "grid_template_areas": null,
       "grid_template_columns": null,
       "grid_template_rows": null,
       "height": null,
       "justify_content": null,
       "justify_items": null,
       "left": null,
       "margin": null,
       "max_height": null,
       "max_width": null,
       "min_height": null,
       "min_width": null,
       "object_fit": null,
       "object_position": null,
       "order": null,
       "overflow": null,
       "padding": null,
       "right": null,
       "top": null,
       "visibility": null,
       "width": null
      }
     },
     "78321528c18e4dc79cb909984e69ca95": {
      "model_module": "@jupyter-widgets/controls",
      "model_module_version": "2.0.0",
      "model_name": "HTMLModel",
      "state": {
       "_dom_classes": [],
       "_model_module": "@jupyter-widgets/controls",
       "_model_module_version": "2.0.0",
       "_model_name": "HTMLModel",
       "_view_count": null,
       "_view_module": "@jupyter-widgets/controls",
       "_view_module_version": "2.0.0",
       "_view_name": "HTMLView",
       "description": "",
       "description_allow_html": false,
       "layout": "IPY_MODEL_2c71d47a739848c89bf30b62e055d188",
       "placeholder": "​",
       "style": "IPY_MODEL_8e7934f4f46243d6aa0ff387a30045e0",
       "tabbable": null,
       "tooltip": null,
       "value": " 382545/382545 [00:03&lt;00:00, 151159.29it/s]"
      }
     },
     "89110df4f6e440acb69e6782ab3fefea": {
      "model_module": "@jupyter-widgets/controls",
      "model_module_version": "2.0.0",
      "model_name": "HBoxModel",
      "state": {
       "_dom_classes": [],
       "_model_module": "@jupyter-widgets/controls",
       "_model_module_version": "2.0.0",
       "_model_name": "HBoxModel",
       "_view_count": null,
       "_view_module": "@jupyter-widgets/controls",
       "_view_module_version": "2.0.0",
       "_view_name": "HBoxView",
       "box_style": "",
       "children": [
        "IPY_MODEL_1a975251d1604628b6915b238d21a97d",
        "IPY_MODEL_69e1be8507534c48996e026b120ddb75",
        "IPY_MODEL_78321528c18e4dc79cb909984e69ca95"
       ],
       "layout": "IPY_MODEL_def5711120fb492aa8d0ccaae6da4587",
       "tabbable": null,
       "tooltip": null
      }
     },
     "8e7934f4f46243d6aa0ff387a30045e0": {
      "model_module": "@jupyter-widgets/controls",
      "model_module_version": "2.0.0",
      "model_name": "HTMLStyleModel",
      "state": {
       "_model_module": "@jupyter-widgets/controls",
       "_model_module_version": "2.0.0",
       "_model_name": "HTMLStyleModel",
       "_view_count": null,
       "_view_module": "@jupyter-widgets/base",
       "_view_module_version": "2.0.0",
       "_view_name": "StyleView",
       "background": null,
       "description_width": "",
       "font_size": null,
       "text_color": null
      }
     },
     "d78995917c424c5490a06f480e4c3c7e": {
      "model_module": "@jupyter-widgets/controls",
      "model_module_version": "2.0.0",
      "model_name": "HTMLStyleModel",
      "state": {
       "_model_module": "@jupyter-widgets/controls",
       "_model_module_version": "2.0.0",
       "_model_name": "HTMLStyleModel",
       "_view_count": null,
       "_view_module": "@jupyter-widgets/base",
       "_view_module_version": "2.0.0",
       "_view_name": "StyleView",
       "background": null,
       "description_width": "",
       "font_size": null,
       "text_color": null
      }
     },
     "ddf0cd5a1cd2475db321bf06c9a28faf": {
      "model_module": "@jupyter-widgets/controls",
      "model_module_version": "2.0.0",
      "model_name": "ProgressStyleModel",
      "state": {
       "_model_module": "@jupyter-widgets/controls",
       "_model_module_version": "2.0.0",
       "_model_name": "ProgressStyleModel",
       "_view_count": null,
       "_view_module": "@jupyter-widgets/base",
       "_view_module_version": "2.0.0",
       "_view_name": "StyleView",
       "bar_color": null,
       "description_width": ""
      }
     },
     "def5711120fb492aa8d0ccaae6da4587": {
      "model_module": "@jupyter-widgets/base",
      "model_module_version": "2.0.0",
      "model_name": "LayoutModel",
      "state": {
       "_model_module": "@jupyter-widgets/base",
       "_model_module_version": "2.0.0",
       "_model_name": "LayoutModel",
       "_view_count": null,
       "_view_module": "@jupyter-widgets/base",
       "_view_module_version": "2.0.0",
       "_view_name": "LayoutView",
       "align_content": null,
       "align_items": null,
       "align_self": null,
       "border_bottom": null,
       "border_left": null,
       "border_right": null,
       "border_top": null,
       "bottom": null,
       "display": null,
       "flex": null,
       "flex_flow": null,
       "grid_area": null,
       "grid_auto_columns": null,
       "grid_auto_flow": null,
       "grid_auto_rows": null,
       "grid_column": null,
       "grid_gap": null,
       "grid_row": null,
       "grid_template_areas": null,
       "grid_template_columns": null,
       "grid_template_rows": null,
       "height": null,
       "justify_content": null,
       "justify_items": null,
       "left": null,
       "margin": null,
       "max_height": null,
       "max_width": null,
       "min_height": null,
       "min_width": null,
       "object_fit": null,
       "object_position": null,
       "order": null,
       "overflow": null,
       "padding": null,
       "right": null,
       "top": null,
       "visibility": null,
       "width": null
      }
     }
    },
    "version_major": 2,
    "version_minor": 0
   }
  }
 },
 "nbformat": 4,
 "nbformat_minor": 5
}