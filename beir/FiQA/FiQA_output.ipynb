{
 "cells": [
  {
   "cell_type": "code",
   "execution_count": 1,
   "id": "f6d4b65f-fa6b-4517-8694-8627bc49833b",
   "metadata": {
    "execution": {
     "iopub.execute_input": "2025-03-02T10:54:18.675755Z",
     "iopub.status.busy": "2025-03-02T10:54:18.675617Z",
     "iopub.status.idle": "2025-03-02T10:54:18.804227Z",
     "shell.execute_reply": "2025-03-02T10:54:18.803819Z"
    },
    "papermill": {
     "duration": 0.132118,
     "end_time": "2025-03-02T10:54:18.804942",
     "exception": false,
     "start_time": "2025-03-02T10:54:18.672824",
     "status": "completed"
    },
    "tags": []
   },
   "outputs": [
    {
     "name": "stderr",
     "output_type": "stream",
     "text": [
      "/dss/dsshome1/07/ra65bex2/srawat/myenv/lib/python3.12/site-packages/beir/datasets/data_loader.py:8: TqdmExperimentalWarning: Using `tqdm.autonotebook.tqdm` in notebook mode. Use `tqdm.tqdm` instead to force console mode (e.g. in jupyter console)\n",
      "  from tqdm.autonotebook import tqdm\n"
     ]
    }
   ],
   "source": [
    "from beir.datasets.data_loader import GenericDataLoader"
   ]
  },
  {
   "cell_type": "code",
   "execution_count": 2,
   "id": "a91d6914-e301-422c-b839-1fafeb1e8fa4",
   "metadata": {
    "execution": {
     "iopub.execute_input": "2025-03-02T10:54:18.813950Z",
     "iopub.status.busy": "2025-03-02T10:54:18.813817Z",
     "iopub.status.idle": "2025-03-02T10:54:18.816131Z",
     "shell.execute_reply": "2025-03-02T10:54:18.815720Z"
    },
    "papermill": {
     "duration": 0.006162,
     "end_time": "2025-03-02T10:54:18.816835",
     "exception": false,
     "start_time": "2025-03-02T10:54:18.810673",
     "status": "completed"
    },
    "tags": []
   },
   "outputs": [],
   "source": [
    "data_path = \"/dss/dsshome1/07/ra65bex2/srawat/fiqa/fiqa\""
   ]
  },
  {
   "cell_type": "code",
   "execution_count": 3,
   "id": "41e17333-2c34-4b7b-91f6-3cbd3972f0d6",
   "metadata": {
    "execution": {
     "iopub.execute_input": "2025-03-02T10:54:18.821648Z",
     "iopub.status.busy": "2025-03-02T10:54:18.821371Z",
     "iopub.status.idle": "2025-03-02T10:54:19.225808Z",
     "shell.execute_reply": "2025-03-02T10:54:19.224830Z"
    },
    "papermill": {
     "duration": 0.40758,
     "end_time": "2025-03-02T10:54:19.226611",
     "exception": false,
     "start_time": "2025-03-02T10:54:18.819031",
     "status": "completed"
    },
    "tags": []
   },
   "outputs": [
    {
     "data": {
      "application/vnd.jupyter.widget-view+json": {
       "model_id": "847bbd0264534452bd725f22905adc6b",
       "version_major": 2,
       "version_minor": 0
      },
      "text/plain": [
       "  0%|          | 0/57638 [00:00<?, ?it/s]"
      ]
     },
     "metadata": {},
     "output_type": "display_data"
    }
   ],
   "source": [
    "corpus, queries, qrels = GenericDataLoader(data_path).load(split=\"test\")"
   ]
  },
  {
   "cell_type": "code",
   "execution_count": 4,
   "id": "a29044d5-3952-4f3d-aa43-e1efd34fcad3",
   "metadata": {
    "execution": {
     "iopub.execute_input": "2025-03-02T10:54:19.233252Z",
     "iopub.status.busy": "2025-03-02T10:54:19.232769Z",
     "iopub.status.idle": "2025-03-02T10:54:21.807319Z",
     "shell.execute_reply": "2025-03-02T10:54:21.806857Z"
    },
    "papermill": {
     "duration": 2.578389,
     "end_time": "2025-03-02T10:54:21.807965",
     "exception": false,
     "start_time": "2025-03-02T10:54:19.229576",
     "status": "completed"
    },
    "tags": []
   },
   "outputs": [],
   "source": [
    "contrastive_pairs=[]\n",
    "import random\n",
    "c=0\n",
    "for query_id, relevant_docs in qrels.items():\n",
    "    try:\n",
    "        query_text = queries[query_id]\n",
    "        for doc_id in relevant_docs:\n",
    "            positive = corpus[doc_id][\"text\"]\n",
    "        #print(relevant_docs)\n",
    "        positive_doc_ids = set(relevant_docs)\n",
    "        all_doc_ids = set(corpus.keys())\n",
    "        negative_doc_ids = all_doc_ids - positive_doc_ids\n",
    "        negative_doc_ids=list(negative_doc_ids)\n",
    "        negative_doc_samples = random.sample(negative_doc_ids, k=5)\n",
    "        negatives=[]\n",
    "        for neg_doc_id in negative_doc_samples:\n",
    "            negative_doc_text = corpus[neg_doc_id][\"text\"]\n",
    "            negatives.append(negative_doc_text)\n",
    "        contrastive_pairs.append({\n",
    "            \"anchor\": query_text,\n",
    "            \"positive\": positive,\n",
    "            \"negatives\": negatives\n",
    "        })\n",
    "    except:\n",
    "        c=c+1"
   ]
  },
  {
   "cell_type": "code",
   "execution_count": 5,
   "id": "49721946-fff3-4690-bd92-d981cecdf62b",
   "metadata": {
    "execution": {
     "iopub.execute_input": "2025-03-02T10:54:21.813225Z",
     "iopub.status.busy": "2025-03-02T10:54:21.812919Z",
     "iopub.status.idle": "2025-03-02T10:54:21.816979Z",
     "shell.execute_reply": "2025-03-02T10:54:21.816623Z"
    },
    "papermill": {
     "duration": 0.007225,
     "end_time": "2025-03-02T10:54:21.817568",
     "exception": false,
     "start_time": "2025-03-02T10:54:21.810343",
     "status": "completed"
    },
    "tags": []
   },
   "outputs": [
    {
     "data": {
      "text/plain": [
       "0"
      ]
     },
     "execution_count": 5,
     "metadata": {},
     "output_type": "execute_result"
    }
   ],
   "source": [
    "c"
   ]
  },
  {
   "cell_type": "code",
   "execution_count": 6,
   "id": "de8ef367-dcb4-4bb6-af3a-20f190930ed1",
   "metadata": {
    "execution": {
     "iopub.execute_input": "2025-03-02T10:54:21.822878Z",
     "iopub.status.busy": "2025-03-02T10:54:21.822751Z",
     "iopub.status.idle": "2025-03-02T10:54:21.839160Z",
     "shell.execute_reply": "2025-03-02T10:54:21.838817Z"
    },
    "papermill": {
     "duration": 0.019822,
     "end_time": "2025-03-02T10:54:21.839723",
     "exception": false,
     "start_time": "2025-03-02T10:54:21.819901",
     "status": "completed"
    },
    "tags": []
   },
   "outputs": [
    {
     "data": {
      "text/plain": [
       "648"
      ]
     },
     "execution_count": 6,
     "metadata": {},
     "output_type": "execute_result"
    }
   ],
   "source": [
    "len(contrastive_pairs)"
   ]
  },
  {
   "cell_type": "code",
   "execution_count": 7,
   "id": "8ade92f9-e3df-4d0a-b849-b1a721e18cf6",
   "metadata": {
    "execution": {
     "iopub.execute_input": "2025-03-02T10:54:21.845454Z",
     "iopub.status.busy": "2025-03-02T10:54:21.844976Z",
     "iopub.status.idle": "2025-03-02T10:54:21.860569Z",
     "shell.execute_reply": "2025-03-02T10:54:21.860237Z"
    },
    "papermill": {
     "duration": 0.019101,
     "end_time": "2025-03-02T10:54:21.861173",
     "exception": false,
     "start_time": "2025-03-02T10:54:21.842072",
     "status": "completed"
    },
    "tags": []
   },
   "outputs": [
    {
     "data": {
      "text/plain": [
       "648"
      ]
     },
     "execution_count": 7,
     "metadata": {},
     "output_type": "execute_result"
    }
   ],
   "source": [
    "len(qrels)"
   ]
  },
  {
   "cell_type": "code",
   "execution_count": 8,
   "id": "6b97f7b4-f007-41f6-bfbb-1b9b01665e9d",
   "metadata": {
    "execution": {
     "iopub.execute_input": "2025-03-02T10:54:21.869926Z",
     "iopub.status.busy": "2025-03-02T10:54:21.869778Z",
     "iopub.status.idle": "2025-03-02T10:54:25.459769Z",
     "shell.execute_reply": "2025-03-02T10:54:25.459054Z"
    },
    "papermill": {
     "duration": 3.594,
     "end_time": "2025-03-02T10:54:25.460761",
     "exception": false,
     "start_time": "2025-03-02T10:54:21.866761",
     "status": "completed"
    },
    "tags": []
   },
   "outputs": [],
   "source": [
    "from torch.utils.data import DataLoader"
   ]
  },
  {
   "cell_type": "code",
   "execution_count": 9,
   "id": "a415b29a-a543-4679-8f78-44f715b3067d",
   "metadata": {
    "execution": {
     "iopub.execute_input": "2025-03-02T10:54:25.471615Z",
     "iopub.status.busy": "2025-03-02T10:54:25.471072Z",
     "iopub.status.idle": "2025-03-02T10:54:25.474748Z",
     "shell.execute_reply": "2025-03-02T10:54:25.474377Z"
    },
    "papermill": {
     "duration": 0.007414,
     "end_time": "2025-03-02T10:54:25.475375",
     "exception": false,
     "start_time": "2025-03-02T10:54:25.467961",
     "status": "completed"
    },
    "tags": []
   },
   "outputs": [],
   "source": [
    "class ContrastiveDataset:\n",
    "    def __init__(self, pairs):\n",
    "        self.pairs = pairs\n",
    "\n",
    "    def __len__(self):\n",
    "        return len(self.pairs)\n",
    "\n",
    "    def __getitem__(self, idx):\n",
    "        item = self.pairs[idx]\n",
    "        return item[\"anchor\"], item[\"positive\"], item[\"negatives\"]"
   ]
  },
  {
   "cell_type": "code",
   "execution_count": 10,
   "id": "a39efeab-fd20-411a-80c5-315f362e00d2",
   "metadata": {
    "execution": {
     "iopub.execute_input": "2025-03-02T10:54:25.480899Z",
     "iopub.status.busy": "2025-03-02T10:54:25.480626Z",
     "iopub.status.idle": "2025-03-02T10:54:25.496902Z",
     "shell.execute_reply": "2025-03-02T10:54:25.496510Z"
    },
    "papermill": {
     "duration": 0.019634,
     "end_time": "2025-03-02T10:54:25.497524",
     "exception": false,
     "start_time": "2025-03-02T10:54:25.477890",
     "status": "completed"
    },
    "tags": []
   },
   "outputs": [],
   "source": [
    "contrastive_dataset = ContrastiveDataset(contrastive_pairs)"
   ]
  },
  {
   "cell_type": "code",
   "execution_count": 11,
   "id": "d103bbfa-895a-4020-a7e5-21de659f27dc",
   "metadata": {
    "execution": {
     "iopub.execute_input": "2025-03-02T10:54:25.503111Z",
     "iopub.status.busy": "2025-03-02T10:54:25.502838Z",
     "iopub.status.idle": "2025-03-02T10:54:25.517880Z",
     "shell.execute_reply": "2025-03-02T10:54:25.517434Z"
    },
    "papermill": {
     "duration": 0.018427,
     "end_time": "2025-03-02T10:54:25.518475",
     "exception": false,
     "start_time": "2025-03-02T10:54:25.500048",
     "status": "completed"
    },
    "tags": []
   },
   "outputs": [],
   "source": [
    "data_loader = DataLoader(contrastive_dataset, batch_size=32, shuffle=True)"
   ]
  },
  {
   "cell_type": "code",
   "execution_count": 12,
   "id": "c8b0277f-f526-4087-82da-c4cdd65d32da",
   "metadata": {
    "execution": {
     "iopub.execute_input": "2025-03-02T10:54:25.524056Z",
     "iopub.status.busy": "2025-03-02T10:54:25.523781Z",
     "iopub.status.idle": "2025-03-02T10:54:25.538888Z",
     "shell.execute_reply": "2025-03-02T10:54:25.538542Z"
    },
    "papermill": {
     "duration": 0.018522,
     "end_time": "2025-03-02T10:54:25.539500",
     "exception": false,
     "start_time": "2025-03-02T10:54:25.520978",
     "status": "completed"
    },
    "tags": []
   },
   "outputs": [
    {
     "data": {
      "text/plain": [
       "21"
      ]
     },
     "execution_count": 12,
     "metadata": {},
     "output_type": "execute_result"
    }
   ],
   "source": [
    "len(data_loader)"
   ]
  },
  {
   "cell_type": "code",
   "execution_count": 13,
   "id": "e15526a4-b3fe-435b-91c9-ad4064562f0f",
   "metadata": {
    "execution": {
     "iopub.execute_input": "2025-03-02T10:54:25.545176Z",
     "iopub.status.busy": "2025-03-02T10:54:25.544908Z",
     "iopub.status.idle": "2025-03-02T10:54:35.603216Z",
     "shell.execute_reply": "2025-03-02T10:54:35.602676Z"
    },
    "papermill": {
     "duration": 10.062144,
     "end_time": "2025-03-02T10:54:35.604246",
     "exception": false,
     "start_time": "2025-03-02T10:54:25.542102",
     "status": "completed"
    },
    "tags": []
   },
   "outputs": [
    {
     "name": "stderr",
     "output_type": "stream",
     "text": [
      "/tmp/ipykernel_2468233/3105893467.py:3: FutureWarning: You are using `torch.load` with `weights_only=False` (the current default value), which uses the default pickle module implicitly. It is possible to construct malicious pickle data which will execute arbitrary code during unpickling (See https://github.com/pytorch/pytorch/blob/main/SECURITY.md#untrusted-models for more details). In a future release, the default value for `weights_only` will be flipped to `True`. This limits the functions that could be executed during unpickling. Arbitrary objects will no longer be allowed to be loaded via this mode unless they are explicitly allowlisted by the user via `torch.serialization.add_safe_globals`. We recommend you start setting `weights_only=True` for any use case where you don't have full control of the loaded file. Please open an issue on GitHub for any issues related to this experimental feature.\n",
      "  lora_model = torch.load(file_path)\n"
     ]
    }
   ],
   "source": [
    "import torch\n",
    "file_path=\"/dss/dsshome1/07/ra65bex2/srawat/contrastive_learning/v1.1/app_baseline/checkpoint_epoch_3.pth\"\n",
    "lora_model = torch.load(file_path)"
   ]
  },
  {
   "cell_type": "code",
   "execution_count": 14,
   "id": "9999e628-5966-4dda-b5c5-c0d762fce27d",
   "metadata": {
    "execution": {
     "iopub.execute_input": "2025-03-02T10:54:35.615817Z",
     "iopub.status.busy": "2025-03-02T10:54:35.615070Z",
     "iopub.status.idle": "2025-03-02T10:54:35.621418Z",
     "shell.execute_reply": "2025-03-02T10:54:35.621022Z"
    },
    "papermill": {
     "duration": 0.010072,
     "end_time": "2025-03-02T10:54:35.622022",
     "exception": false,
     "start_time": "2025-03-02T10:54:35.611950",
     "status": "completed"
    },
    "tags": []
   },
   "outputs": [],
   "source": [
    "device = torch.device('cuda' if torch.cuda.is_available() else 'cpu')\n",
    "lora_model = lora_model.to(device)"
   ]
  },
  {
   "cell_type": "code",
   "execution_count": 15,
   "id": "7e6a3a61-8db0-43db-b575-6399f8515950",
   "metadata": {
    "execution": {
     "iopub.execute_input": "2025-03-02T10:54:35.628142Z",
     "iopub.status.busy": "2025-03-02T10:54:35.627674Z",
     "iopub.status.idle": "2025-03-02T10:54:35.839145Z",
     "shell.execute_reply": "2025-03-02T10:54:35.838669Z"
    },
    "papermill": {
     "duration": 0.215136,
     "end_time": "2025-03-02T10:54:35.839862",
     "exception": false,
     "start_time": "2025-03-02T10:54:35.624726",
     "status": "completed"
    },
    "tags": []
   },
   "outputs": [],
   "source": [
    "from transformers import AutoTokenizer, AutoModel\n",
    "tokenizer = AutoTokenizer.from_pretrained(\"bert-base-uncased\")"
   ]
  },
  {
   "cell_type": "code",
   "execution_count": 16,
   "id": "68ac4919-76f1-4349-a314-4b1061126655",
   "metadata": {
    "execution": {
     "iopub.execute_input": "2025-03-02T10:54:35.845968Z",
     "iopub.status.busy": "2025-03-02T10:54:35.845627Z",
     "iopub.status.idle": "2025-03-02T10:54:35.848226Z",
     "shell.execute_reply": "2025-03-02T10:54:35.847806Z"
    },
    "papermill": {
     "duration": 0.006248,
     "end_time": "2025-03-02T10:54:35.848850",
     "exception": false,
     "start_time": "2025-03-02T10:54:35.842602",
     "status": "completed"
    },
    "tags": []
   },
   "outputs": [],
   "source": [
    "def cosine_distance(x, y):\n",
    "    return 1 - torch.nn.functional.cosine_similarity(x, y, dim=-1)"
   ]
  },
  {
   "cell_type": "code",
   "execution_count": 17,
   "id": "990f63bd-4d48-4f58-a001-3b3250f65312",
   "metadata": {
    "execution": {
     "iopub.execute_input": "2025-03-02T10:54:35.854888Z",
     "iopub.status.busy": "2025-03-02T10:54:35.854509Z",
     "iopub.status.idle": "2025-03-02T10:54:35.870878Z",
     "shell.execute_reply": "2025-03-02T10:54:35.870306Z"
    },
    "papermill": {
     "duration": 0.019939,
     "end_time": "2025-03-02T10:54:35.871501",
     "exception": false,
     "start_time": "2025-03-02T10:54:35.851562",
     "status": "completed"
    },
    "tags": []
   },
   "outputs": [],
   "source": [
    "def evaluate_mrr(model, data_loader_val, distance_fn):\n",
    "    model.eval()\n",
    "\n",
    "    total_rr = 0.0\n",
    "    num_queries = 0\n",
    "\n",
    "    with torch.no_grad():\n",
    "        for batch in data_loader_val:\n",
    "            anchor_text = batch[0]\n",
    "            positive_text = batch[1]\n",
    "            negative_texts = batch[2]\n",
    "\n",
    "            anchor_input = tokenizer(anchor_text, return_tensors='pt', padding=True, truncation=True, max_length=512).to(device)\n",
    "            positive_input = tokenizer(positive_text, return_tensors='pt', padding=True, truncation=True, max_length=512).to(device)\n",
    "\n",
    "            anchor_embedding = model(**anchor_input).last_hidden_state[:, 0, :]\n",
    "            positive_embedding = model(**positive_input).last_hidden_state[:, 0, :]\n",
    "            negative_embedding = [model(**tokenizer(neg, return_tensors='pt', padding=True, truncation=True, max_length=512).to(device)).last_hidden_state[:, 0, :] for neg in negative_texts]\n",
    "\n",
    "            pos_dist = distance_fn(anchor_embedding, positive_embedding)\n",
    "            neg_dist = torch.stack([distance_fn(anchor_embedding, neg) for neg in negative_embedding], dim=-1)\n",
    "            all_similarities=torch.cat([-pos_dist.unsqueeze(1), -neg_dist], dim=1)\n",
    "\n",
    "            sorted_similarities, sorted_indices = torch.sort(all_similarities, dim=1, descending=True)\n",
    "\n",
    "            # Find the rank of the first relevant (positive) document\n",
    "            positive_rank = (sorted_indices == 0).nonzero(as_tuple=True)[1] + 1  # +1 to make rank 1-based\n",
    "            total_rr += torch.sum(1.0 / positive_rank.float()).item()  # Reciprocal rank\n",
    "            num_queries += len(positive_rank)\n",
    "\n",
    "    mrr = total_rr / num_queries\n",
    "    return mrr"
   ]
  },
  {
   "cell_type": "code",
   "execution_count": 18,
   "id": "534a9ec5-4211-4cb6-81f1-fb8a30caff92",
   "metadata": {
    "execution": {
     "iopub.execute_input": "2025-03-02T10:54:35.877469Z",
     "iopub.status.busy": "2025-03-02T10:54:35.877124Z",
     "iopub.status.idle": "2025-03-02T10:54:59.575191Z",
     "shell.execute_reply": "2025-03-02T10:54:59.574593Z"
    },
    "papermill": {
     "duration": 23.701736,
     "end_time": "2025-03-02T10:54:59.575933",
     "exception": false,
     "start_time": "2025-03-02T10:54:35.874197",
     "status": "completed"
    },
    "tags": []
   },
   "outputs": [
    {
     "name": "stdout",
     "output_type": "stream",
     "text": [
      "0.565972234731839\n"
     ]
    }
   ],
   "source": [
    "mrr_validation = evaluate_mrr(lora_model, data_loader, cosine_distance)\n",
    "print(mrr_validation)"
   ]
  },
  {
   "cell_type": "code",
   "execution_count": null,
   "id": "f61bbd65-41c9-4ac7-80ef-ba4a4fb02d45",
   "metadata": {
    "papermill": {
     "duration": 0.002823,
     "end_time": "2025-03-02T10:54:59.586466",
     "exception": false,
     "start_time": "2025-03-02T10:54:59.583643",
     "status": "completed"
    },
    "tags": []
   },
   "outputs": [],
   "source": []
  }
 ],
 "metadata": {
  "kernelspec": {
   "display_name": "Python (myenv)",
   "language": "python",
   "name": "myenv"
  },
  "language_info": {
   "codemirror_mode": {
    "name": "ipython",
    "version": 3
   },
   "file_extension": ".py",
   "mimetype": "text/x-python",
   "name": "python",
   "nbconvert_exporter": "python",
   "pygments_lexer": "ipython3",
   "version": "3.12.7"
  },
  "papermill": {
   "default_parameters": {},
   "duration": 46.03815,
   "end_time": "2025-03-02T10:55:02.486343",
   "environment_variables": {},
   "exception": null,
   "input_path": "FiQA.ipynb",
   "output_path": "FiQA_output.ipynb",
   "parameters": {},
   "start_time": "2025-03-02T10:54:16.448193",
   "version": "2.6.0"
  },
  "widgets": {
   "application/vnd.jupyter.widget-state+json": {
    "state": {
     "25a8dab8e7b1441aa093e12e641d4471": {
      "model_module": "@jupyter-widgets/controls",
      "model_module_version": "2.0.0",
      "model_name": "ProgressStyleModel",
      "state": {
       "_model_module": "@jupyter-widgets/controls",
       "_model_module_version": "2.0.0",
       "_model_name": "ProgressStyleModel",
       "_view_count": null,
       "_view_module": "@jupyter-widgets/base",
       "_view_module_version": "2.0.0",
       "_view_name": "StyleView",
       "bar_color": null,
       "description_width": ""
      }
     },
     "5381388ce399400698c3663355ae5caf": {
      "model_module": "@jupyter-widgets/base",
      "model_module_version": "2.0.0",
      "model_name": "LayoutModel",
      "state": {
       "_model_module": "@jupyter-widgets/base",
       "_model_module_version": "2.0.0",
       "_model_name": "LayoutModel",
       "_view_count": null,
       "_view_module": "@jupyter-widgets/base",
       "_view_module_version": "2.0.0",
       "_view_name": "LayoutView",
       "align_content": null,
       "align_items": null,
       "align_self": null,
       "border_bottom": null,
       "border_left": null,
       "border_right": null,
       "border_top": null,
       "bottom": null,
       "display": null,
       "flex": null,
       "flex_flow": null,
       "grid_area": null,
       "grid_auto_columns": null,
       "grid_auto_flow": null,
       "grid_auto_rows": null,
       "grid_column": null,
       "grid_gap": null,
       "grid_row": null,
       "grid_template_areas": null,
       "grid_template_columns": null,
       "grid_template_rows": null,
       "height": null,
       "justify_content": null,
       "justify_items": null,
       "left": null,
       "margin": null,
       "max_height": null,
       "max_width": null,
       "min_height": null,
       "min_width": null,
       "object_fit": null,
       "object_position": null,
       "order": null,
       "overflow": null,
       "padding": null,
       "right": null,
       "top": null,
       "visibility": null,
       "width": null
      }
     },
     "60e2d7fc486d4bf99889dfd40a1fcd33": {
      "model_module": "@jupyter-widgets/controls",
      "model_module_version": "2.0.0",
      "model_name": "HTMLStyleModel",
      "state": {
       "_model_module": "@jupyter-widgets/controls",
       "_model_module_version": "2.0.0",
       "_model_name": "HTMLStyleModel",
       "_view_count": null,
       "_view_module": "@jupyter-widgets/base",
       "_view_module_version": "2.0.0",
       "_view_name": "StyleView",
       "background": null,
       "description_width": "",
       "font_size": null,
       "text_color": null
      }
     },
     "666b9b6188ff4e9294949c709d65f0a8": {
      "model_module": "@jupyter-widgets/controls",
      "model_module_version": "2.0.0",
      "model_name": "HTMLModel",
      "state": {
       "_dom_classes": [],
       "_model_module": "@jupyter-widgets/controls",
       "_model_module_version": "2.0.0",
       "_model_name": "HTMLModel",
       "_view_count": null,
       "_view_module": "@jupyter-widgets/controls",
       "_view_module_version": "2.0.0",
       "_view_name": "HTMLView",
       "description": "",
       "description_allow_html": false,
       "layout": "IPY_MODEL_89feb4f204974a208682805b87022c27",
       "placeholder": "​",
       "style": "IPY_MODEL_f9d29ffed6dc4156ba169af2a63fb979",
       "tabbable": null,
       "tooltip": null,
       "value": "100%"
      }
     },
     "6dd84e95eb8745e3ae13d272fce2efad": {
      "model_module": "@jupyter-widgets/base",
      "model_module_version": "2.0.0",
      "model_name": "LayoutModel",
      "state": {
       "_model_module": "@jupyter-widgets/base",
       "_model_module_version": "2.0.0",
       "_model_name": "LayoutModel",
       "_view_count": null,
       "_view_module": "@jupyter-widgets/base",
       "_view_module_version": "2.0.0",
       "_view_name": "LayoutView",
       "align_content": null,
       "align_items": null,
       "align_self": null,
       "border_bottom": null,
       "border_left": null,
       "border_right": null,
       "border_top": null,
       "bottom": null,
       "display": null,
       "flex": null,
       "flex_flow": null,
       "grid_area": null,
       "grid_auto_columns": null,
       "grid_auto_flow": null,
       "grid_auto_rows": null,
       "grid_column": null,
       "grid_gap": null,
       "grid_row": null,
       "grid_template_areas": null,
       "grid_template_columns": null,
       "grid_template_rows": null,
       "height": null,
       "justify_content": null,
       "justify_items": null,
       "left": null,
       "margin": null,
       "max_height": null,
       "max_width": null,
       "min_height": null,
       "min_width": null,
       "object_fit": null,
       "object_position": null,
       "order": null,
       "overflow": null,
       "padding": null,
       "right": null,
       "top": null,
       "visibility": null,
       "width": null
      }
     },
     "798b1a77c9b643f1b2cb988ab1e4c187": {
      "model_module": "@jupyter-widgets/base",
      "model_module_version": "2.0.0",
      "model_name": "LayoutModel",
      "state": {
       "_model_module": "@jupyter-widgets/base",
       "_model_module_version": "2.0.0",
       "_model_name": "LayoutModel",
       "_view_count": null,
       "_view_module": "@jupyter-widgets/base",
       "_view_module_version": "2.0.0",
       "_view_name": "LayoutView",
       "align_content": null,
       "align_items": null,
       "align_self": null,
       "border_bottom": null,
       "border_left": null,
       "border_right": null,
       "border_top": null,
       "bottom": null,
       "display": null,
       "flex": null,
       "flex_flow": null,
       "grid_area": null,
       "grid_auto_columns": null,
       "grid_auto_flow": null,
       "grid_auto_rows": null,
       "grid_column": null,
       "grid_gap": null,
       "grid_row": null,
       "grid_template_areas": null,
       "grid_template_columns": null,
       "grid_template_rows": null,
       "height": null,
       "justify_content": null,
       "justify_items": null,
       "left": null,
       "margin": null,
       "max_height": null,
       "max_width": null,
       "min_height": null,
       "min_width": null,
       "object_fit": null,
       "object_position": null,
       "order": null,
       "overflow": null,
       "padding": null,
       "right": null,
       "top": null,
       "visibility": null,
       "width": null
      }
     },
     "847bbd0264534452bd725f22905adc6b": {
      "model_module": "@jupyter-widgets/controls",
      "model_module_version": "2.0.0",
      "model_name": "HBoxModel",
      "state": {
       "_dom_classes": [],
       "_model_module": "@jupyter-widgets/controls",
       "_model_module_version": "2.0.0",
       "_model_name": "HBoxModel",
       "_view_count": null,
       "_view_module": "@jupyter-widgets/controls",
       "_view_module_version": "2.0.0",
       "_view_name": "HBoxView",
       "box_style": "",
       "children": [
        "IPY_MODEL_666b9b6188ff4e9294949c709d65f0a8",
        "IPY_MODEL_8bbc11222ca745a7bc2f9129fa74a296",
        "IPY_MODEL_fa1a57f5ed804a8799765d4ba2a6d7ef"
       ],
       "layout": "IPY_MODEL_798b1a77c9b643f1b2cb988ab1e4c187",
       "tabbable": null,
       "tooltip": null
      }
     },
     "89feb4f204974a208682805b87022c27": {
      "model_module": "@jupyter-widgets/base",
      "model_module_version": "2.0.0",
      "model_name": "LayoutModel",
      "state": {
       "_model_module": "@jupyter-widgets/base",
       "_model_module_version": "2.0.0",
       "_model_name": "LayoutModel",
       "_view_count": null,
       "_view_module": "@jupyter-widgets/base",
       "_view_module_version": "2.0.0",
       "_view_name": "LayoutView",
       "align_content": null,
       "align_items": null,
       "align_self": null,
       "border_bottom": null,
       "border_left": null,
       "border_right": null,
       "border_top": null,
       "bottom": null,
       "display": null,
       "flex": null,
       "flex_flow": null,
       "grid_area": null,
       "grid_auto_columns": null,
       "grid_auto_flow": null,
       "grid_auto_rows": null,
       "grid_column": null,
       "grid_gap": null,
       "grid_row": null,
       "grid_template_areas": null,
       "grid_template_columns": null,
       "grid_template_rows": null,
       "height": null,
       "justify_content": null,
       "justify_items": null,
       "left": null,
       "margin": null,
       "max_height": null,
       "max_width": null,
       "min_height": null,
       "min_width": null,
       "object_fit": null,
       "object_position": null,
       "order": null,
       "overflow": null,
       "padding": null,
       "right": null,
       "top": null,
       "visibility": null,
       "width": null
      }
     },
     "8bbc11222ca745a7bc2f9129fa74a296": {
      "model_module": "@jupyter-widgets/controls",
      "model_module_version": "2.0.0",
      "model_name": "FloatProgressModel",
      "state": {
       "_dom_classes": [],
       "_model_module": "@jupyter-widgets/controls",
       "_model_module_version": "2.0.0",
       "_model_name": "FloatProgressModel",
       "_view_count": null,
       "_view_module": "@jupyter-widgets/controls",
       "_view_module_version": "2.0.0",
       "_view_name": "ProgressView",
       "bar_style": "success",
       "description": "",
       "description_allow_html": false,
       "layout": "IPY_MODEL_6dd84e95eb8745e3ae13d272fce2efad",
       "max": 57638.0,
       "min": 0.0,
       "orientation": "horizontal",
       "style": "IPY_MODEL_25a8dab8e7b1441aa093e12e641d4471",
       "tabbable": null,
       "tooltip": null,
       "value": 57638.0
      }
     },
     "f9d29ffed6dc4156ba169af2a63fb979": {
      "model_module": "@jupyter-widgets/controls",
      "model_module_version": "2.0.0",
      "model_name": "HTMLStyleModel",
      "state": {
       "_model_module": "@jupyter-widgets/controls",
       "_model_module_version": "2.0.0",
       "_model_name": "HTMLStyleModel",
       "_view_count": null,
       "_view_module": "@jupyter-widgets/base",
       "_view_module_version": "2.0.0",
       "_view_name": "StyleView",
       "background": null,
       "description_width": "",
       "font_size": null,
       "text_color": null
      }
     },
     "fa1a57f5ed804a8799765d4ba2a6d7ef": {
      "model_module": "@jupyter-widgets/controls",
      "model_module_version": "2.0.0",
      "model_name": "HTMLModel",
      "state": {
       "_dom_classes": [],
       "_model_module": "@jupyter-widgets/controls",
       "_model_module_version": "2.0.0",
       "_model_name": "HTMLModel",
       "_view_count": null,
       "_view_module": "@jupyter-widgets/controls",
       "_view_module_version": "2.0.0",
       "_view_name": "HTMLView",
       "description": "",
       "description_allow_html": false,
       "layout": "IPY_MODEL_5381388ce399400698c3663355ae5caf",
       "placeholder": "​",
       "style": "IPY_MODEL_60e2d7fc486d4bf99889dfd40a1fcd33",
       "tabbable": null,
       "tooltip": null,
       "value": " 57638/57638 [00:00&lt;00:00, 194915.30it/s]"
      }
     }
    },
    "version_major": 2,
    "version_minor": 0
   }
  }
 },
 "nbformat": 4,
 "nbformat_minor": 5
}