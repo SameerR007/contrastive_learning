{
 "cells": [
  {
   "cell_type": "code",
   "execution_count": 1,
   "id": "f6d4b65f-fa6b-4517-8694-8627bc49833b",
   "metadata": {
    "execution": {
     "iopub.execute_input": "2025-03-02T10:56:17.160398Z",
     "iopub.status.busy": "2025-03-02T10:56:17.160257Z",
     "iopub.status.idle": "2025-03-02T10:56:17.221098Z",
     "shell.execute_reply": "2025-03-02T10:56:17.220636Z"
    },
    "papermill": {
     "duration": 0.065073,
     "end_time": "2025-03-02T10:56:17.221887",
     "exception": false,
     "start_time": "2025-03-02T10:56:17.156814",
     "status": "completed"
    },
    "tags": []
   },
   "outputs": [
    {
     "name": "stderr",
     "output_type": "stream",
     "text": [
      "/dss/dsshome1/07/ra65bex2/srawat/myenv/lib/python3.12/site-packages/beir/datasets/data_loader.py:8: TqdmExperimentalWarning: Using `tqdm.autonotebook.tqdm` in notebook mode. Use `tqdm.tqdm` instead to force console mode (e.g. in jupyter console)\n",
      "  from tqdm.autonotebook import tqdm\n"
     ]
    }
   ],
   "source": [
    "from beir.datasets.data_loader import GenericDataLoader"
   ]
  },
  {
   "cell_type": "code",
   "execution_count": 2,
   "id": "a91d6914-e301-422c-b839-1fafeb1e8fa4",
   "metadata": {
    "execution": {
     "iopub.execute_input": "2025-03-02T10:56:17.227259Z",
     "iopub.status.busy": "2025-03-02T10:56:17.226892Z",
     "iopub.status.idle": "2025-03-02T10:56:17.229350Z",
     "shell.execute_reply": "2025-03-02T10:56:17.228955Z"
    },
    "papermill": {
     "duration": 0.00576,
     "end_time": "2025-03-02T10:56:17.230089",
     "exception": false,
     "start_time": "2025-03-02T10:56:17.224329",
     "status": "completed"
    },
    "tags": []
   },
   "outputs": [],
   "source": [
    "data_path = \"/dss/dsshome1/07/ra65bex2/srawat/fiqa/fiqa\""
   ]
  },
  {
   "cell_type": "code",
   "execution_count": 3,
   "id": "41e17333-2c34-4b7b-91f6-3cbd3972f0d6",
   "metadata": {
    "execution": {
     "iopub.execute_input": "2025-03-02T10:56:17.235058Z",
     "iopub.status.busy": "2025-03-02T10:56:17.234807Z",
     "iopub.status.idle": "2025-03-02T10:56:17.611289Z",
     "shell.execute_reply": "2025-03-02T10:56:17.610884Z"
    },
    "papermill": {
     "duration": 0.379971,
     "end_time": "2025-03-02T10:56:17.612175",
     "exception": false,
     "start_time": "2025-03-02T10:56:17.232204",
     "status": "completed"
    },
    "tags": []
   },
   "outputs": [
    {
     "data": {
      "application/vnd.jupyter.widget-view+json": {
       "model_id": "830c8825c5b9420b91d50a2457443221",
       "version_major": 2,
       "version_minor": 0
      },
      "text/plain": [
       "  0%|          | 0/57638 [00:00<?, ?it/s]"
      ]
     },
     "metadata": {},
     "output_type": "display_data"
    }
   ],
   "source": [
    "corpus, queries, qrels = GenericDataLoader(data_path).load(split=\"test\")"
   ]
  },
  {
   "cell_type": "code",
   "execution_count": 4,
   "id": "a29044d5-3952-4f3d-aa43-e1efd34fcad3",
   "metadata": {
    "execution": {
     "iopub.execute_input": "2025-03-02T10:56:17.617790Z",
     "iopub.status.busy": "2025-03-02T10:56:17.617401Z",
     "iopub.status.idle": "2025-03-02T10:56:20.195775Z",
     "shell.execute_reply": "2025-03-02T10:56:20.195036Z"
    },
    "papermill": {
     "duration": 2.581984,
     "end_time": "2025-03-02T10:56:20.196766",
     "exception": false,
     "start_time": "2025-03-02T10:56:17.614782",
     "status": "completed"
    },
    "tags": []
   },
   "outputs": [],
   "source": [
    "contrastive_pairs=[]\n",
    "import random\n",
    "c=0\n",
    "for query_id, relevant_docs in qrels.items():\n",
    "    try:\n",
    "        query_text = queries[query_id]\n",
    "        for doc_id in relevant_docs:\n",
    "            positive = corpus[doc_id][\"text\"]\n",
    "        #print(relevant_docs)\n",
    "        positive_doc_ids = set(relevant_docs)\n",
    "        all_doc_ids = set(corpus.keys())\n",
    "        negative_doc_ids = all_doc_ids - positive_doc_ids\n",
    "        negative_doc_ids=list(negative_doc_ids)\n",
    "        negative_doc_samples = random.sample(negative_doc_ids, k=5)\n",
    "        negatives=[]\n",
    "        for neg_doc_id in negative_doc_samples:\n",
    "            negative_doc_text = corpus[neg_doc_id][\"text\"]\n",
    "            negatives.append(negative_doc_text)\n",
    "        contrastive_pairs.append({\n",
    "            \"anchor\": query_text,\n",
    "            \"positive\": positive,\n",
    "            \"negatives\": negatives\n",
    "        })\n",
    "    except:\n",
    "        c=c+1"
   ]
  },
  {
   "cell_type": "code",
   "execution_count": 5,
   "id": "49721946-fff3-4690-bd92-d981cecdf62b",
   "metadata": {
    "execution": {
     "iopub.execute_input": "2025-03-02T10:56:20.203054Z",
     "iopub.status.busy": "2025-03-02T10:56:20.202566Z",
     "iopub.status.idle": "2025-03-02T10:56:20.207341Z",
     "shell.execute_reply": "2025-03-02T10:56:20.206974Z"
    },
    "papermill": {
     "duration": 0.008654,
     "end_time": "2025-03-02T10:56:20.208111",
     "exception": false,
     "start_time": "2025-03-02T10:56:20.199457",
     "status": "completed"
    },
    "tags": []
   },
   "outputs": [
    {
     "data": {
      "text/plain": [
       "0"
      ]
     },
     "execution_count": 5,
     "metadata": {},
     "output_type": "execute_result"
    }
   ],
   "source": [
    "c"
   ]
  },
  {
   "cell_type": "code",
   "execution_count": 6,
   "id": "de8ef367-dcb4-4bb6-af3a-20f190930ed1",
   "metadata": {
    "execution": {
     "iopub.execute_input": "2025-03-02T10:56:20.213605Z",
     "iopub.status.busy": "2025-03-02T10:56:20.213228Z",
     "iopub.status.idle": "2025-03-02T10:56:20.231285Z",
     "shell.execute_reply": "2025-03-02T10:56:20.230790Z"
    },
    "papermill": {
     "duration": 0.021433,
     "end_time": "2025-03-02T10:56:20.231980",
     "exception": false,
     "start_time": "2025-03-02T10:56:20.210547",
     "status": "completed"
    },
    "tags": []
   },
   "outputs": [
    {
     "data": {
      "text/plain": [
       "648"
      ]
     },
     "execution_count": 6,
     "metadata": {},
     "output_type": "execute_result"
    }
   ],
   "source": [
    "len(contrastive_pairs)"
   ]
  },
  {
   "cell_type": "code",
   "execution_count": 7,
   "id": "8ade92f9-e3df-4d0a-b849-b1a721e18cf6",
   "metadata": {
    "execution": {
     "iopub.execute_input": "2025-03-02T10:56:20.238315Z",
     "iopub.status.busy": "2025-03-02T10:56:20.237950Z",
     "iopub.status.idle": "2025-03-02T10:56:20.253676Z",
     "shell.execute_reply": "2025-03-02T10:56:20.253288Z"
    },
    "papermill": {
     "duration": 0.020018,
     "end_time": "2025-03-02T10:56:20.254487",
     "exception": false,
     "start_time": "2025-03-02T10:56:20.234469",
     "status": "completed"
    },
    "tags": []
   },
   "outputs": [
    {
     "data": {
      "text/plain": [
       "648"
      ]
     },
     "execution_count": 7,
     "metadata": {},
     "output_type": "execute_result"
    }
   ],
   "source": [
    "len(qrels)"
   ]
  },
  {
   "cell_type": "code",
   "execution_count": 8,
   "id": "6b97f7b4-f007-41f6-bfbb-1b9b01665e9d",
   "metadata": {
    "execution": {
     "iopub.execute_input": "2025-03-02T10:56:20.260223Z",
     "iopub.status.busy": "2025-03-02T10:56:20.259841Z",
     "iopub.status.idle": "2025-03-02T10:56:22.551715Z",
     "shell.execute_reply": "2025-03-02T10:56:22.550861Z"
    },
    "papermill": {
     "duration": 2.295569,
     "end_time": "2025-03-02T10:56:22.552571",
     "exception": false,
     "start_time": "2025-03-02T10:56:20.257002",
     "status": "completed"
    },
    "tags": []
   },
   "outputs": [],
   "source": [
    "from torch.utils.data import DataLoader"
   ]
  },
  {
   "cell_type": "code",
   "execution_count": 9,
   "id": "a415b29a-a543-4679-8f78-44f715b3067d",
   "metadata": {
    "execution": {
     "iopub.execute_input": "2025-03-02T10:56:22.560230Z",
     "iopub.status.busy": "2025-03-02T10:56:22.559813Z",
     "iopub.status.idle": "2025-03-02T10:56:22.563431Z",
     "shell.execute_reply": "2025-03-02T10:56:22.563051Z"
    },
    "papermill": {
     "duration": 0.007646,
     "end_time": "2025-03-02T10:56:22.564132",
     "exception": false,
     "start_time": "2025-03-02T10:56:22.556486",
     "status": "completed"
    },
    "tags": []
   },
   "outputs": [],
   "source": [
    "class ContrastiveDataset:\n",
    "    def __init__(self, pairs):\n",
    "        self.pairs = pairs\n",
    "\n",
    "    def __len__(self):\n",
    "        return len(self.pairs)\n",
    "\n",
    "    def __getitem__(self, idx):\n",
    "        item = self.pairs[idx]\n",
    "        return item[\"anchor\"], item[\"positive\"], item[\"negatives\"]"
   ]
  },
  {
   "cell_type": "code",
   "execution_count": 10,
   "id": "a39efeab-fd20-411a-80c5-315f362e00d2",
   "metadata": {
    "execution": {
     "iopub.execute_input": "2025-03-02T10:56:22.569814Z",
     "iopub.status.busy": "2025-03-02T10:56:22.569471Z",
     "iopub.status.idle": "2025-03-02T10:56:22.584318Z",
     "shell.execute_reply": "2025-03-02T10:56:22.583962Z"
    },
    "papermill": {
     "duration": 0.018334,
     "end_time": "2025-03-02T10:56:22.584988",
     "exception": false,
     "start_time": "2025-03-02T10:56:22.566654",
     "status": "completed"
    },
    "tags": []
   },
   "outputs": [],
   "source": [
    "contrastive_dataset = ContrastiveDataset(contrastive_pairs)"
   ]
  },
  {
   "cell_type": "code",
   "execution_count": 11,
   "id": "d103bbfa-895a-4020-a7e5-21de659f27dc",
   "metadata": {
    "execution": {
     "iopub.execute_input": "2025-03-02T10:56:22.590734Z",
     "iopub.status.busy": "2025-03-02T10:56:22.590459Z",
     "iopub.status.idle": "2025-03-02T10:56:22.605370Z",
     "shell.execute_reply": "2025-03-02T10:56:22.605016Z"
    },
    "papermill": {
     "duration": 0.018499,
     "end_time": "2025-03-02T10:56:22.606129",
     "exception": false,
     "start_time": "2025-03-02T10:56:22.587630",
     "status": "completed"
    },
    "tags": []
   },
   "outputs": [],
   "source": [
    "data_loader = DataLoader(contrastive_dataset, batch_size=32, shuffle=True)"
   ]
  },
  {
   "cell_type": "code",
   "execution_count": 12,
   "id": "c8b0277f-f526-4087-82da-c4cdd65d32da",
   "metadata": {
    "execution": {
     "iopub.execute_input": "2025-03-02T10:56:22.611823Z",
     "iopub.status.busy": "2025-03-02T10:56:22.611546Z",
     "iopub.status.idle": "2025-03-02T10:56:22.626755Z",
     "shell.execute_reply": "2025-03-02T10:56:22.626388Z"
    },
    "papermill": {
     "duration": 0.018754,
     "end_time": "2025-03-02T10:56:22.627404",
     "exception": false,
     "start_time": "2025-03-02T10:56:22.608650",
     "status": "completed"
    },
    "tags": []
   },
   "outputs": [
    {
     "data": {
      "text/plain": [
       "21"
      ]
     },
     "execution_count": 12,
     "metadata": {},
     "output_type": "execute_result"
    }
   ],
   "source": [
    "len(data_loader)"
   ]
  },
  {
   "cell_type": "code",
   "execution_count": 13,
   "id": "e15526a4-b3fe-435b-91c9-ad4064562f0f",
   "metadata": {
    "execution": {
     "iopub.execute_input": "2025-03-02T10:56:22.633172Z",
     "iopub.status.busy": "2025-03-02T10:56:22.633046Z",
     "iopub.status.idle": "2025-03-02T10:56:27.458031Z",
     "shell.execute_reply": "2025-03-02T10:56:27.457523Z"
    },
    "papermill": {
     "duration": 4.828781,
     "end_time": "2025-03-02T10:56:27.458908",
     "exception": false,
     "start_time": "2025-03-02T10:56:22.630127",
     "status": "completed"
    },
    "tags": []
   },
   "outputs": [
    {
     "name": "stderr",
     "output_type": "stream",
     "text": [
      "/tmp/ipykernel_2470599/3548975511.py:3: FutureWarning: You are using `torch.load` with `weights_only=False` (the current default value), which uses the default pickle module implicitly. It is possible to construct malicious pickle data which will execute arbitrary code during unpickling (See https://github.com/pytorch/pytorch/blob/main/SECURITY.md#untrusted-models for more details). In a future release, the default value for `weights_only` will be flipped to `True`. This limits the functions that could be executed during unpickling. Arbitrary objects will no longer be allowed to be loaded via this mode unless they are explicitly allowlisted by the user via `torch.serialization.add_safe_globals`. We recommend you start setting `weights_only=True` for any use case where you don't have full control of the loaded file. Please open an issue on GitHub for any issues related to this experimental feature.\n",
      "  lora_model = torch.load(file_path)\n"
     ]
    }
   ],
   "source": [
    "import torch\n",
    "file_path=\"/dss/dsshome1/07/ra65bex2/srawat/contrastive_learning/v1.1/0.1hyperbolic/hyperbolic_lora_checkpoint_epoch_3.pth\"\n",
    "lora_model = torch.load(file_path)"
   ]
  },
  {
   "cell_type": "code",
   "execution_count": 14,
   "id": "9999e628-5966-4dda-b5c5-c0d762fce27d",
   "metadata": {
    "execution": {
     "iopub.execute_input": "2025-03-02T10:56:27.469889Z",
     "iopub.status.busy": "2025-03-02T10:56:27.469643Z",
     "iopub.status.idle": "2025-03-02T10:56:27.474727Z",
     "shell.execute_reply": "2025-03-02T10:56:27.474348Z"
    },
    "papermill": {
     "duration": 0.009002,
     "end_time": "2025-03-02T10:56:27.475389",
     "exception": false,
     "start_time": "2025-03-02T10:56:27.466387",
     "status": "completed"
    },
    "tags": []
   },
   "outputs": [],
   "source": [
    "device = torch.device('cuda' if torch.cuda.is_available() else 'cpu')\n",
    "lora_model = lora_model.to(device)"
   ]
  },
  {
   "cell_type": "code",
   "execution_count": 15,
   "id": "7e6a3a61-8db0-43db-b575-6399f8515950",
   "metadata": {
    "execution": {
     "iopub.execute_input": "2025-03-02T10:56:27.481558Z",
     "iopub.status.busy": "2025-03-02T10:56:27.481329Z",
     "iopub.status.idle": "2025-03-02T10:56:27.688636Z",
     "shell.execute_reply": "2025-03-02T10:56:27.688114Z"
    },
    "papermill": {
     "duration": 0.211184,
     "end_time": "2025-03-02T10:56:27.689342",
     "exception": false,
     "start_time": "2025-03-02T10:56:27.478158",
     "status": "completed"
    },
    "tags": []
   },
   "outputs": [],
   "source": [
    "from transformers import AutoTokenizer, AutoModel\n",
    "tokenizer = AutoTokenizer.from_pretrained(\"bert-base-uncased\")"
   ]
  },
  {
   "cell_type": "code",
   "execution_count": 16,
   "id": "68ac4919-76f1-4349-a314-4b1061126655",
   "metadata": {
    "execution": {
     "iopub.execute_input": "2025-03-02T10:56:27.695463Z",
     "iopub.status.busy": "2025-03-02T10:56:27.695320Z",
     "iopub.status.idle": "2025-03-02T10:56:27.698471Z",
     "shell.execute_reply": "2025-03-02T10:56:27.698080Z"
    },
    "papermill": {
     "duration": 0.006975,
     "end_time": "2025-03-02T10:56:27.699141",
     "exception": false,
     "start_time": "2025-03-02T10:56:27.692166",
     "status": "completed"
    },
    "tags": []
   },
   "outputs": [],
   "source": [
    "def lorentzian_distance(x, y):\n",
    "    \n",
    "    dot_product = torch.sum(x * y, dim=-1)\n",
    "    norm_x = torch.norm(x, dim=-1)\n",
    "    norm_y = torch.norm(y, dim=-1)\n",
    "    \n",
    "    distance = torch.acosh(-dot_product + torch.sqrt((1 + norm_x**2) * (1 + norm_y**2)))\n",
    "    return distance"
   ]
  },
  {
   "cell_type": "code",
   "execution_count": 17,
   "id": "90e1a127-7622-4dcb-9765-7f7d7e0b751c",
   "metadata": {
    "execution": {
     "iopub.execute_input": "2025-03-02T10:56:27.705248Z",
     "iopub.status.busy": "2025-03-02T10:56:27.704996Z",
     "iopub.status.idle": "2025-03-02T10:56:27.720739Z",
     "shell.execute_reply": "2025-03-02T10:56:27.720381Z"
    },
    "papermill": {
     "duration": 0.019461,
     "end_time": "2025-03-02T10:56:27.721392",
     "exception": false,
     "start_time": "2025-03-02T10:56:27.701931",
     "status": "completed"
    },
    "tags": []
   },
   "outputs": [],
   "source": [
    "def expm_o(v, c=1.0):\n",
    "    c = torch.tensor(c)\n",
    "    vspace = v\n",
    "    vnorm = torch.norm(v, p=2, dim=-1, keepdim=True)\n",
    "    xspace = torch.sinh(torch.sqrt(c) * vnorm) * vspace / (torch.sqrt(c) * vnorm)\n",
    "    batch_min = xspace.min(dim=1, keepdim=True).values\n",
    "    batch_max = xspace.max(dim=1, keepdim=True).values\n",
    "    xspace_scaled=(xspace - batch_min) / (batch_max - batch_min)\n",
    "    return xspace_scaled"
   ]
  },
  {
   "cell_type": "code",
   "execution_count": 18,
   "id": "990f63bd-4d48-4f58-a001-3b3250f65312",
   "metadata": {
    "execution": {
     "iopub.execute_input": "2025-03-02T10:56:27.727680Z",
     "iopub.status.busy": "2025-03-02T10:56:27.727421Z",
     "iopub.status.idle": "2025-03-02T10:56:27.743216Z",
     "shell.execute_reply": "2025-03-02T10:56:27.742857Z"
    },
    "papermill": {
     "duration": 0.01965,
     "end_time": "2025-03-02T10:56:27.743905",
     "exception": false,
     "start_time": "2025-03-02T10:56:27.724255",
     "status": "completed"
    },
    "tags": []
   },
   "outputs": [],
   "source": [
    "def evaluate_mrr(model1, data_loader_val, distance_fn):\n",
    "    model1.eval()\n",
    "    \n",
    "    total_rr = 0.0\n",
    "    num_queries = 0\n",
    "\n",
    "    with torch.no_grad():\n",
    "        for batch in data_loader_val:\n",
    "            anchor_text = batch[0]\n",
    "            positive_text = batch[1]\n",
    "            negative_texts = batch[2]\n",
    "\n",
    "            anchor_input = tokenizer(anchor_text, return_tensors='pt', padding=True, truncation=True, max_length=512).to(device)\n",
    "            positive_input = tokenizer(positive_text, return_tensors='pt', padding=True, truncation=True, max_length=512).to(device)\n",
    "\n",
    "            anchor_embedding = expm_o(model1(**anchor_input).last_hidden_state[:, 0, :])\n",
    "            positive_embedding = expm_o(model1(**positive_input).last_hidden_state[:, 0, :])\n",
    "            negative_embedding = [expm_o(model1(**tokenizer(neg, return_tensors='pt', padding=True, truncation=True, max_length=512).to(device)).last_hidden_state[:, 0, :]) for neg in negative_texts]\n",
    "\n",
    "            pos_dist = distance_fn(anchor_embedding, positive_embedding)\n",
    "            neg_dist = torch.stack([distance_fn(anchor_embedding, neg) for neg in negative_embedding], dim=-1)\n",
    "            all_similarities=torch.cat([-pos_dist.unsqueeze(1), -neg_dist], dim=1)\n",
    "\n",
    "            sorted_similarities, sorted_indices = torch.sort(all_similarities, dim=1, descending=True)\n",
    "\n",
    "            # Find the rank of the first relevant (positive) document\n",
    "            positive_rank = (sorted_indices == 0).nonzero(as_tuple=True)[1] + 1  # +1 to make rank 1-based\n",
    "            total_rr += torch.sum(1.0 / positive_rank.float()).item()  # Reciprocal rank\n",
    "            num_queries += len(positive_rank)\n",
    "            \n",
    "    mrr = total_rr / num_queries\n",
    "    return mrr"
   ]
  },
  {
   "cell_type": "code",
   "execution_count": 19,
   "id": "534a9ec5-4211-4cb6-81f1-fb8a30caff92",
   "metadata": {
    "execution": {
     "iopub.execute_input": "2025-03-02T10:56:27.749926Z",
     "iopub.status.busy": "2025-03-02T10:56:27.749798Z",
     "iopub.status.idle": "2025-03-02T10:56:50.925350Z",
     "shell.execute_reply": "2025-03-02T10:56:50.924668Z"
    },
    "papermill": {
     "duration": 23.179483,
     "end_time": "2025-03-02T10:56:50.926126",
     "exception": false,
     "start_time": "2025-03-02T10:56:27.746643",
     "status": "completed"
    },
    "tags": []
   },
   "outputs": [
    {
     "name": "stdout",
     "output_type": "stream",
     "text": [
      "0.5038580338896057\n"
     ]
    }
   ],
   "source": [
    "mrr_validation = evaluate_mrr(model1=lora_model, data_loader_val=data_loader,distance_fn=lorentzian_distance)\n",
    "print(mrr_validation)"
   ]
  },
  {
   "cell_type": "code",
   "execution_count": null,
   "id": "f61bbd65-41c9-4ac7-80ef-ba4a4fb02d45",
   "metadata": {
    "papermill": {
     "duration": 0.002871,
     "end_time": "2025-03-02T10:56:50.934136",
     "exception": false,
     "start_time": "2025-03-02T10:56:50.931265",
     "status": "completed"
    },
    "tags": []
   },
   "outputs": [],
   "source": []
  }
 ],
 "metadata": {
  "kernelspec": {
   "display_name": "Python (myenv)",
   "language": "python",
   "name": "myenv"
  },
  "language_info": {
   "codemirror_mode": {
    "name": "ipython",
    "version": 3
   },
   "file_extension": ".py",
   "mimetype": "text/x-python",
   "name": "python",
   "nbconvert_exporter": "python",
   "pygments_lexer": "ipython3",
   "version": "3.12.7"
  },
  "papermill": {
   "default_parameters": {},
   "duration": 36.592228,
   "end_time": "2025-03-02T10:56:52.454866",
   "environment_variables": {},
   "exception": null,
   "input_path": "hyperbolic_FiQA.ipynb",
   "output_path": "hyperbolic_FiQA_output.ipynb",
   "parameters": {},
   "start_time": "2025-03-02T10:56:15.862638",
   "version": "2.6.0"
  },
  "widgets": {
   "application/vnd.jupyter.widget-state+json": {
    "state": {
     "007ebb08da27405795ab0d6e42c9407d": {
      "model_module": "@jupyter-widgets/controls",
      "model_module_version": "2.0.0",
      "model_name": "HTMLModel",
      "state": {
       "_dom_classes": [],
       "_model_module": "@jupyter-widgets/controls",
       "_model_module_version": "2.0.0",
       "_model_name": "HTMLModel",
       "_view_count": null,
       "_view_module": "@jupyter-widgets/controls",
       "_view_module_version": "2.0.0",
       "_view_name": "HTMLView",
       "description": "",
       "description_allow_html": false,
       "layout": "IPY_MODEL_b44abf7f8922439095c217bd7c98a29d",
       "placeholder": "​",
       "style": "IPY_MODEL_3441055e333c4c788d38aa62b9fa1ddb",
       "tabbable": null,
       "tooltip": null,
       "value": " 57638/57638 [00:00&lt;00:00, 195405.50it/s]"
      }
     },
     "15ae123a9c67419687d0e0e1ca5f5628": {
      "model_module": "@jupyter-widgets/base",
      "model_module_version": "2.0.0",
      "model_name": "LayoutModel",
      "state": {
       "_model_module": "@jupyter-widgets/base",
       "_model_module_version": "2.0.0",
       "_model_name": "LayoutModel",
       "_view_count": null,
       "_view_module": "@jupyter-widgets/base",
       "_view_module_version": "2.0.0",
       "_view_name": "LayoutView",
       "align_content": null,
       "align_items": null,
       "align_self": null,
       "border_bottom": null,
       "border_left": null,
       "border_right": null,
       "border_top": null,
       "bottom": null,
       "display": null,
       "flex": null,
       "flex_flow": null,
       "grid_area": null,
       "grid_auto_columns": null,
       "grid_auto_flow": null,
       "grid_auto_rows": null,
       "grid_column": null,
       "grid_gap": null,
       "grid_row": null,
       "grid_template_areas": null,
       "grid_template_columns": null,
       "grid_template_rows": null,
       "height": null,
       "justify_content": null,
       "justify_items": null,
       "left": null,
       "margin": null,
       "max_height": null,
       "max_width": null,
       "min_height": null,
       "min_width": null,
       "object_fit": null,
       "object_position": null,
       "order": null,
       "overflow": null,
       "padding": null,
       "right": null,
       "top": null,
       "visibility": null,
       "width": null
      }
     },
     "3441055e333c4c788d38aa62b9fa1ddb": {
      "model_module": "@jupyter-widgets/controls",
      "model_module_version": "2.0.0",
      "model_name": "HTMLStyleModel",
      "state": {
       "_model_module": "@jupyter-widgets/controls",
       "_model_module_version": "2.0.0",
       "_model_name": "HTMLStyleModel",
       "_view_count": null,
       "_view_module": "@jupyter-widgets/base",
       "_view_module_version": "2.0.0",
       "_view_name": "StyleView",
       "background": null,
       "description_width": "",
       "font_size": null,
       "text_color": null
      }
     },
     "43c78bd72c6e45bba598a3bef7f5185d": {
      "model_module": "@jupyter-widgets/base",
      "model_module_version": "2.0.0",
      "model_name": "LayoutModel",
      "state": {
       "_model_module": "@jupyter-widgets/base",
       "_model_module_version": "2.0.0",
       "_model_name": "LayoutModel",
       "_view_count": null,
       "_view_module": "@jupyter-widgets/base",
       "_view_module_version": "2.0.0",
       "_view_name": "LayoutView",
       "align_content": null,
       "align_items": null,
       "align_self": null,
       "border_bottom": null,
       "border_left": null,
       "border_right": null,
       "border_top": null,
       "bottom": null,
       "display": null,
       "flex": null,
       "flex_flow": null,
       "grid_area": null,
       "grid_auto_columns": null,
       "grid_auto_flow": null,
       "grid_auto_rows": null,
       "grid_column": null,
       "grid_gap": null,
       "grid_row": null,
       "grid_template_areas": null,
       "grid_template_columns": null,
       "grid_template_rows": null,
       "height": null,
       "justify_content": null,
       "justify_items": null,
       "left": null,
       "margin": null,
       "max_height": null,
       "max_width": null,
       "min_height": null,
       "min_width": null,
       "object_fit": null,
       "object_position": null,
       "order": null,
       "overflow": null,
       "padding": null,
       "right": null,
       "top": null,
       "visibility": null,
       "width": null
      }
     },
     "73c1f0e3146f415da47b6c48504b5b4b": {
      "model_module": "@jupyter-widgets/controls",
      "model_module_version": "2.0.0",
      "model_name": "HTMLModel",
      "state": {
       "_dom_classes": [],
       "_model_module": "@jupyter-widgets/controls",
       "_model_module_version": "2.0.0",
       "_model_name": "HTMLModel",
       "_view_count": null,
       "_view_module": "@jupyter-widgets/controls",
       "_view_module_version": "2.0.0",
       "_view_name": "HTMLView",
       "description": "",
       "description_allow_html": false,
       "layout": "IPY_MODEL_15ae123a9c67419687d0e0e1ca5f5628",
       "placeholder": "​",
       "style": "IPY_MODEL_95f52a6ae9d44bd98d8876375bece784",
       "tabbable": null,
       "tooltip": null,
       "value": "100%"
      }
     },
     "830c8825c5b9420b91d50a2457443221": {
      "model_module": "@jupyter-widgets/controls",
      "model_module_version": "2.0.0",
      "model_name": "HBoxModel",
      "state": {
       "_dom_classes": [],
       "_model_module": "@jupyter-widgets/controls",
       "_model_module_version": "2.0.0",
       "_model_name": "HBoxModel",
       "_view_count": null,
       "_view_module": "@jupyter-widgets/controls",
       "_view_module_version": "2.0.0",
       "_view_name": "HBoxView",
       "box_style": "",
       "children": [
        "IPY_MODEL_73c1f0e3146f415da47b6c48504b5b4b",
        "IPY_MODEL_8d537077e2ef48f593aec509e9b39e44",
        "IPY_MODEL_007ebb08da27405795ab0d6e42c9407d"
       ],
       "layout": "IPY_MODEL_43c78bd72c6e45bba598a3bef7f5185d",
       "tabbable": null,
       "tooltip": null
      }
     },
     "8d537077e2ef48f593aec509e9b39e44": {
      "model_module": "@jupyter-widgets/controls",
      "model_module_version": "2.0.0",
      "model_name": "FloatProgressModel",
      "state": {
       "_dom_classes": [],
       "_model_module": "@jupyter-widgets/controls",
       "_model_module_version": "2.0.0",
       "_model_name": "FloatProgressModel",
       "_view_count": null,
       "_view_module": "@jupyter-widgets/controls",
       "_view_module_version": "2.0.0",
       "_view_name": "ProgressView",
       "bar_style": "success",
       "description": "",
       "description_allow_html": false,
       "layout": "IPY_MODEL_f3c4eafdc3f74e1fb94e751a9f9c36a5",
       "max": 57638.0,
       "min": 0.0,
       "orientation": "horizontal",
       "style": "IPY_MODEL_9bf97f30a1aa4281a214a1b6d26f2f47",
       "tabbable": null,
       "tooltip": null,
       "value": 57638.0
      }
     },
     "95f52a6ae9d44bd98d8876375bece784": {
      "model_module": "@jupyter-widgets/controls",
      "model_module_version": "2.0.0",
      "model_name": "HTMLStyleModel",
      "state": {
       "_model_module": "@jupyter-widgets/controls",
       "_model_module_version": "2.0.0",
       "_model_name": "HTMLStyleModel",
       "_view_count": null,
       "_view_module": "@jupyter-widgets/base",
       "_view_module_version": "2.0.0",
       "_view_name": "StyleView",
       "background": null,
       "description_width": "",
       "font_size": null,
       "text_color": null
      }
     },
     "9bf97f30a1aa4281a214a1b6d26f2f47": {
      "model_module": "@jupyter-widgets/controls",
      "model_module_version": "2.0.0",
      "model_name": "ProgressStyleModel",
      "state": {
       "_model_module": "@jupyter-widgets/controls",
       "_model_module_version": "2.0.0",
       "_model_name": "ProgressStyleModel",
       "_view_count": null,
       "_view_module": "@jupyter-widgets/base",
       "_view_module_version": "2.0.0",
       "_view_name": "StyleView",
       "bar_color": null,
       "description_width": ""
      }
     },
     "b44abf7f8922439095c217bd7c98a29d": {
      "model_module": "@jupyter-widgets/base",
      "model_module_version": "2.0.0",
      "model_name": "LayoutModel",
      "state": {
       "_model_module": "@jupyter-widgets/base",
       "_model_module_version": "2.0.0",
       "_model_name": "LayoutModel",
       "_view_count": null,
       "_view_module": "@jupyter-widgets/base",
       "_view_module_version": "2.0.0",
       "_view_name": "LayoutView",
       "align_content": null,
       "align_items": null,
       "align_self": null,
       "border_bottom": null,
       "border_left": null,
       "border_right": null,
       "border_top": null,
       "bottom": null,
       "display": null,
       "flex": null,
       "flex_flow": null,
       "grid_area": null,
       "grid_auto_columns": null,
       "grid_auto_flow": null,
       "grid_auto_rows": null,
       "grid_column": null,
       "grid_gap": null,
       "grid_row": null,
       "grid_template_areas": null,
       "grid_template_columns": null,
       "grid_template_rows": null,
       "height": null,
       "justify_content": null,
       "justify_items": null,
       "left": null,
       "margin": null,
       "max_height": null,
       "max_width": null,
       "min_height": null,
       "min_width": null,
       "object_fit": null,
       "object_position": null,
       "order": null,
       "overflow": null,
       "padding": null,
       "right": null,
       "top": null,
       "visibility": null,
       "width": null
      }
     },
     "f3c4eafdc3f74e1fb94e751a9f9c36a5": {
      "model_module": "@jupyter-widgets/base",
      "model_module_version": "2.0.0",
      "model_name": "LayoutModel",
      "state": {
       "_model_module": "@jupyter-widgets/base",
       "_model_module_version": "2.0.0",
       "_model_name": "LayoutModel",
       "_view_count": null,
       "_view_module": "@jupyter-widgets/base",
       "_view_module_version": "2.0.0",
       "_view_name": "LayoutView",
       "align_content": null,
       "align_items": null,
       "align_self": null,
       "border_bottom": null,
       "border_left": null,
       "border_right": null,
       "border_top": null,
       "bottom": null,
       "display": null,
       "flex": null,
       "flex_flow": null,
       "grid_area": null,
       "grid_auto_columns": null,
       "grid_auto_flow": null,
       "grid_auto_rows": null,
       "grid_column": null,
       "grid_gap": null,
       "grid_row": null,
       "grid_template_areas": null,
       "grid_template_columns": null,
       "grid_template_rows": null,
       "height": null,
       "justify_content": null,
       "justify_items": null,
       "left": null,
       "margin": null,
       "max_height": null,
       "max_width": null,
       "min_height": null,
       "min_width": null,
       "object_fit": null,
       "object_position": null,
       "order": null,
       "overflow": null,
       "padding": null,
       "right": null,
       "top": null,
       "visibility": null,
       "width": null
      }
     }
    },
    "version_major": 2,
    "version_minor": 0
   }
  }
 },
 "nbformat": 4,
 "nbformat_minor": 5
}