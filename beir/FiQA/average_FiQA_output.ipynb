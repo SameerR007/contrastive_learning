{
 "cells": [
  {
   "cell_type": "code",
   "execution_count": 1,
   "id": "f6d4b65f-fa6b-4517-8694-8627bc49833b",
   "metadata": {
    "execution": {
     "iopub.execute_input": "2025-03-02T10:55:17.000294Z",
     "iopub.status.busy": "2025-03-02T10:55:17.000067Z",
     "iopub.status.idle": "2025-03-02T10:55:17.060185Z",
     "shell.execute_reply": "2025-03-02T10:55:17.059866Z"
    },
    "papermill": {
     "duration": 0.063814,
     "end_time": "2025-03-02T10:55:17.060887",
     "exception": false,
     "start_time": "2025-03-02T10:55:16.997073",
     "status": "completed"
    },
    "tags": []
   },
   "outputs": [
    {
     "name": "stderr",
     "output_type": "stream",
     "text": [
      "/dss/dsshome1/07/ra65bex2/srawat/myenv/lib/python3.12/site-packages/beir/datasets/data_loader.py:8: TqdmExperimentalWarning: Using `tqdm.autonotebook.tqdm` in notebook mode. Use `tqdm.tqdm` instead to force console mode (e.g. in jupyter console)\n",
      "  from tqdm.autonotebook import tqdm\n"
     ]
    }
   ],
   "source": [
    "from beir.datasets.data_loader import GenericDataLoader"
   ]
  },
  {
   "cell_type": "code",
   "execution_count": 2,
   "id": "a91d6914-e301-422c-b839-1fafeb1e8fa4",
   "metadata": {
    "execution": {
     "iopub.execute_input": "2025-03-02T10:55:17.065995Z",
     "iopub.status.busy": "2025-03-02T10:55:17.065778Z",
     "iopub.status.idle": "2025-03-02T10:55:17.067771Z",
     "shell.execute_reply": "2025-03-02T10:55:17.067445Z"
    },
    "papermill": {
     "duration": 0.005005,
     "end_time": "2025-03-02T10:55:17.068337",
     "exception": false,
     "start_time": "2025-03-02T10:55:17.063332",
     "status": "completed"
    },
    "tags": []
   },
   "outputs": [],
   "source": [
    "data_path = \"/dss/dsshome1/07/ra65bex2/srawat/fiqa/fiqa\""
   ]
  },
  {
   "cell_type": "code",
   "execution_count": 3,
   "id": "41e17333-2c34-4b7b-91f6-3cbd3972f0d6",
   "metadata": {
    "execution": {
     "iopub.execute_input": "2025-03-02T10:55:17.073098Z",
     "iopub.status.busy": "2025-03-02T10:55:17.072884Z",
     "iopub.status.idle": "2025-03-02T10:55:17.451098Z",
     "shell.execute_reply": "2025-03-02T10:55:17.450756Z"
    },
    "papermill": {
     "duration": 0.381171,
     "end_time": "2025-03-02T10:55:17.451673",
     "exception": false,
     "start_time": "2025-03-02T10:55:17.070502",
     "status": "completed"
    },
    "tags": []
   },
   "outputs": [
    {
     "data": {
      "application/vnd.jupyter.widget-view+json": {
       "model_id": "4a38ba8e0f7f4c86b7d3a1031561a500",
       "version_major": 2,
       "version_minor": 0
      },
      "text/plain": [
       "  0%|          | 0/57638 [00:00<?, ?it/s]"
      ]
     },
     "metadata": {},
     "output_type": "display_data"
    }
   ],
   "source": [
    "corpus, queries, qrels = GenericDataLoader(data_path).load(split=\"test\")"
   ]
  },
  {
   "cell_type": "code",
   "execution_count": 4,
   "id": "a29044d5-3952-4f3d-aa43-e1efd34fcad3",
   "metadata": {
    "execution": {
     "iopub.execute_input": "2025-03-02T10:55:17.457359Z",
     "iopub.status.busy": "2025-03-02T10:55:17.457047Z",
     "iopub.status.idle": "2025-03-02T10:55:20.029661Z",
     "shell.execute_reply": "2025-03-02T10:55:20.028997Z"
    },
    "papermill": {
     "duration": 2.576275,
     "end_time": "2025-03-02T10:55:20.030558",
     "exception": false,
     "start_time": "2025-03-02T10:55:17.454283",
     "status": "completed"
    },
    "tags": []
   },
   "outputs": [],
   "source": [
    "contrastive_pairs=[]\n",
    "import random\n",
    "c=0\n",
    "for query_id, relevant_docs in qrels.items():\n",
    "    try:\n",
    "        query_text = queries[query_id]\n",
    "        for doc_id in relevant_docs:\n",
    "            positive = corpus[doc_id][\"text\"]\n",
    "        #print(relevant_docs)\n",
    "        positive_doc_ids = set(relevant_docs)\n",
    "        all_doc_ids = set(corpus.keys())\n",
    "        negative_doc_ids = all_doc_ids - positive_doc_ids\n",
    "        negative_doc_ids=list(negative_doc_ids)\n",
    "        negative_doc_samples = random.sample(negative_doc_ids, k=5)\n",
    "        negatives=[]\n",
    "        for neg_doc_id in negative_doc_samples:\n",
    "            negative_doc_text = corpus[neg_doc_id][\"text\"]\n",
    "            negatives.append(negative_doc_text)\n",
    "        contrastive_pairs.append({\n",
    "            \"anchor\": query_text,\n",
    "            \"positive\": positive,\n",
    "            \"negatives\": negatives\n",
    "        })\n",
    "    except:\n",
    "        c=c+1"
   ]
  },
  {
   "cell_type": "code",
   "execution_count": 5,
   "id": "49721946-fff3-4690-bd92-d981cecdf62b",
   "metadata": {
    "execution": {
     "iopub.execute_input": "2025-03-02T10:55:20.036480Z",
     "iopub.status.busy": "2025-03-02T10:55:20.036196Z",
     "iopub.status.idle": "2025-03-02T10:55:20.039596Z",
     "shell.execute_reply": "2025-03-02T10:55:20.039313Z"
    },
    "papermill": {
     "duration": 0.006813,
     "end_time": "2025-03-02T10:55:20.040170",
     "exception": false,
     "start_time": "2025-03-02T10:55:20.033357",
     "status": "completed"
    },
    "tags": []
   },
   "outputs": [
    {
     "data": {
      "text/plain": [
       "0"
      ]
     },
     "execution_count": 5,
     "metadata": {},
     "output_type": "execute_result"
    }
   ],
   "source": [
    "c"
   ]
  },
  {
   "cell_type": "code",
   "execution_count": 6,
   "id": "de8ef367-dcb4-4bb6-af3a-20f190930ed1",
   "metadata": {
    "execution": {
     "iopub.execute_input": "2025-03-02T10:55:20.045253Z",
     "iopub.status.busy": "2025-03-02T10:55:20.045030Z",
     "iopub.status.idle": "2025-03-02T10:55:20.061649Z",
     "shell.execute_reply": "2025-03-02T10:55:20.061359Z"
    },
    "papermill": {
     "duration": 0.019752,
     "end_time": "2025-03-02T10:55:20.062220",
     "exception": false,
     "start_time": "2025-03-02T10:55:20.042468",
     "status": "completed"
    },
    "tags": []
   },
   "outputs": [
    {
     "data": {
      "text/plain": [
       "648"
      ]
     },
     "execution_count": 6,
     "metadata": {},
     "output_type": "execute_result"
    }
   ],
   "source": [
    "len(contrastive_pairs)"
   ]
  },
  {
   "cell_type": "code",
   "execution_count": 7,
   "id": "8ade92f9-e3df-4d0a-b849-b1a721e18cf6",
   "metadata": {
    "execution": {
     "iopub.execute_input": "2025-03-02T10:55:20.068225Z",
     "iopub.status.busy": "2025-03-02T10:55:20.068013Z",
     "iopub.status.idle": "2025-03-02T10:55:20.083122Z",
     "shell.execute_reply": "2025-03-02T10:55:20.082851Z"
    },
    "papermill": {
     "duration": 0.019138,
     "end_time": "2025-03-02T10:55:20.083695",
     "exception": false,
     "start_time": "2025-03-02T10:55:20.064557",
     "status": "completed"
    },
    "tags": []
   },
   "outputs": [
    {
     "data": {
      "text/plain": [
       "648"
      ]
     },
     "execution_count": 7,
     "metadata": {},
     "output_type": "execute_result"
    }
   ],
   "source": [
    "len(qrels)"
   ]
  },
  {
   "cell_type": "code",
   "execution_count": 8,
   "id": "6b97f7b4-f007-41f6-bfbb-1b9b01665e9d",
   "metadata": {
    "execution": {
     "iopub.execute_input": "2025-03-02T10:55:20.089145Z",
     "iopub.status.busy": "2025-03-02T10:55:20.088883Z",
     "iopub.status.idle": "2025-03-02T10:55:22.355254Z",
     "shell.execute_reply": "2025-03-02T10:55:22.354728Z"
    },
    "papermill": {
     "duration": 2.270056,
     "end_time": "2025-03-02T10:55:22.356186",
     "exception": false,
     "start_time": "2025-03-02T10:55:20.086130",
     "status": "completed"
    },
    "tags": []
   },
   "outputs": [],
   "source": [
    "from torch.utils.data import DataLoader"
   ]
  },
  {
   "cell_type": "code",
   "execution_count": 9,
   "id": "a415b29a-a543-4679-8f78-44f715b3067d",
   "metadata": {
    "execution": {
     "iopub.execute_input": "2025-03-02T10:55:22.365029Z",
     "iopub.status.busy": "2025-03-02T10:55:22.364812Z",
     "iopub.status.idle": "2025-03-02T10:55:22.367795Z",
     "shell.execute_reply": "2025-03-02T10:55:22.367439Z"
    },
    "papermill": {
     "duration": 0.007508,
     "end_time": "2025-03-02T10:55:22.368423",
     "exception": false,
     "start_time": "2025-03-02T10:55:22.360915",
     "status": "completed"
    },
    "tags": []
   },
   "outputs": [],
   "source": [
    "class ContrastiveDataset:\n",
    "    def __init__(self, pairs):\n",
    "        self.pairs = pairs\n",
    "\n",
    "    def __len__(self):\n",
    "        return len(self.pairs)\n",
    "\n",
    "    def __getitem__(self, idx):\n",
    "        item = self.pairs[idx]\n",
    "        return item[\"anchor\"], item[\"positive\"], item[\"negatives\"]"
   ]
  },
  {
   "cell_type": "code",
   "execution_count": 10,
   "id": "a39efeab-fd20-411a-80c5-315f362e00d2",
   "metadata": {
    "execution": {
     "iopub.execute_input": "2025-03-02T10:55:22.374207Z",
     "iopub.status.busy": "2025-03-02T10:55:22.373957Z",
     "iopub.status.idle": "2025-03-02T10:55:22.388990Z",
     "shell.execute_reply": "2025-03-02T10:55:22.388615Z"
    },
    "papermill": {
     "duration": 0.018569,
     "end_time": "2025-03-02T10:55:22.389643",
     "exception": false,
     "start_time": "2025-03-02T10:55:22.371074",
     "status": "completed"
    },
    "tags": []
   },
   "outputs": [],
   "source": [
    "contrastive_dataset = ContrastiveDataset(contrastive_pairs)"
   ]
  },
  {
   "cell_type": "code",
   "execution_count": 11,
   "id": "d103bbfa-895a-4020-a7e5-21de659f27dc",
   "metadata": {
    "execution": {
     "iopub.execute_input": "2025-03-02T10:55:22.395419Z",
     "iopub.status.busy": "2025-03-02T10:55:22.395175Z",
     "iopub.status.idle": "2025-03-02T10:55:22.411120Z",
     "shell.execute_reply": "2025-03-02T10:55:22.410754Z"
    },
    "papermill": {
     "duration": 0.019456,
     "end_time": "2025-03-02T10:55:22.411744",
     "exception": false,
     "start_time": "2025-03-02T10:55:22.392288",
     "status": "completed"
    },
    "tags": []
   },
   "outputs": [],
   "source": [
    "data_loader = DataLoader(contrastive_dataset, batch_size=32, shuffle=True)"
   ]
  },
  {
   "cell_type": "code",
   "execution_count": 12,
   "id": "c8b0277f-f526-4087-82da-c4cdd65d32da",
   "metadata": {
    "execution": {
     "iopub.execute_input": "2025-03-02T10:55:22.417453Z",
     "iopub.status.busy": "2025-03-02T10:55:22.417204Z",
     "iopub.status.idle": "2025-03-02T10:55:22.432188Z",
     "shell.execute_reply": "2025-03-02T10:55:22.431853Z"
    },
    "papermill": {
     "duration": 0.018468,
     "end_time": "2025-03-02T10:55:22.432755",
     "exception": false,
     "start_time": "2025-03-02T10:55:22.414287",
     "status": "completed"
    },
    "tags": []
   },
   "outputs": [
    {
     "data": {
      "text/plain": [
       "21"
      ]
     },
     "execution_count": 12,
     "metadata": {},
     "output_type": "execute_result"
    }
   ],
   "source": [
    "len(data_loader)"
   ]
  },
  {
   "cell_type": "code",
   "execution_count": 13,
   "id": "e15526a4-b3fe-435b-91c9-ad4064562f0f",
   "metadata": {
    "execution": {
     "iopub.execute_input": "2025-03-02T10:55:22.438668Z",
     "iopub.status.busy": "2025-03-02T10:55:22.438363Z",
     "iopub.status.idle": "2025-03-02T10:55:28.350363Z",
     "shell.execute_reply": "2025-03-02T10:55:28.349942Z"
    },
    "papermill": {
     "duration": 5.915916,
     "end_time": "2025-03-02T10:55:28.351320",
     "exception": false,
     "start_time": "2025-03-02T10:55:22.435404",
     "status": "completed"
    },
    "tags": []
   },
   "outputs": [
    {
     "name": "stderr",
     "output_type": "stream",
     "text": [
      "/tmp/ipykernel_2469457/2192687965.py:3: FutureWarning: You are using `torch.load` with `weights_only=False` (the current default value), which uses the default pickle module implicitly. It is possible to construct malicious pickle data which will execute arbitrary code during unpickling (See https://github.com/pytorch/pytorch/blob/main/SECURITY.md#untrusted-models for more details). In a future release, the default value for `weights_only` will be flipped to `True`. This limits the functions that could be executed during unpickling. Arbitrary objects will no longer be allowed to be loaded via this mode unless they are explicitly allowlisted by the user via `torch.serialization.add_safe_globals`. We recommend you start setting `weights_only=True` for any use case where you don't have full control of the loaded file. Please open an issue on GitHub for any issues related to this experimental feature.\n",
      "  lora_model = torch.load(file_path)\n"
     ]
    }
   ],
   "source": [
    "import torch\n",
    "file_path=\"/dss/dsshome1/07/ra65bex2/srawat/contrastive_learning/v1.1/app_average/average_checkpoint_epoch_3.pth\"\n",
    "lora_model = torch.load(file_path)"
   ]
  },
  {
   "cell_type": "code",
   "execution_count": 14,
   "id": "9999e628-5966-4dda-b5c5-c0d762fce27d",
   "metadata": {
    "execution": {
     "iopub.execute_input": "2025-03-02T10:55:28.362477Z",
     "iopub.status.busy": "2025-03-02T10:55:28.362120Z",
     "iopub.status.idle": "2025-03-02T10:55:28.366817Z",
     "shell.execute_reply": "2025-03-02T10:55:28.366511Z"
    },
    "papermill": {
     "duration": 0.008548,
     "end_time": "2025-03-02T10:55:28.367379",
     "exception": false,
     "start_time": "2025-03-02T10:55:28.358831",
     "status": "completed"
    },
    "tags": []
   },
   "outputs": [],
   "source": [
    "device = torch.device('cuda' if torch.cuda.is_available() else 'cpu')\n",
    "lora_model = lora_model.to(device)"
   ]
  },
  {
   "cell_type": "code",
   "execution_count": 15,
   "id": "7e6a3a61-8db0-43db-b575-6399f8515950",
   "metadata": {
    "execution": {
     "iopub.execute_input": "2025-03-02T10:55:28.373416Z",
     "iopub.status.busy": "2025-03-02T10:55:28.373195Z",
     "iopub.status.idle": "2025-03-02T10:55:28.689809Z",
     "shell.execute_reply": "2025-03-02T10:55:28.689335Z"
    },
    "papermill": {
     "duration": 0.320504,
     "end_time": "2025-03-02T10:55:28.690672",
     "exception": false,
     "start_time": "2025-03-02T10:55:28.370168",
     "status": "completed"
    },
    "tags": []
   },
   "outputs": [],
   "source": [
    "from transformers import AutoTokenizer, AutoModel\n",
    "tokenizer = AutoTokenizer.from_pretrained(\"bert-base-uncased\")"
   ]
  },
  {
   "cell_type": "code",
   "execution_count": 16,
   "id": "68ac4919-76f1-4349-a314-4b1061126655",
   "metadata": {
    "execution": {
     "iopub.execute_input": "2025-03-02T10:55:28.697416Z",
     "iopub.status.busy": "2025-03-02T10:55:28.697146Z",
     "iopub.status.idle": "2025-03-02T10:55:28.699535Z",
     "shell.execute_reply": "2025-03-02T10:55:28.699157Z"
    },
    "papermill": {
     "duration": 0.006179,
     "end_time": "2025-03-02T10:55:28.700130",
     "exception": false,
     "start_time": "2025-03-02T10:55:28.693951",
     "status": "completed"
    },
    "tags": []
   },
   "outputs": [],
   "source": [
    "def cosine_distance(x, y):\n",
    "    return 1 - torch.nn.functional.cosine_similarity(x, y, dim=-1)"
   ]
  },
  {
   "cell_type": "code",
   "execution_count": 17,
   "id": "870570ba-20a1-4c0b-8367-525d85af4ded",
   "metadata": {
    "execution": {
     "iopub.execute_input": "2025-03-02T10:55:28.706008Z",
     "iopub.status.busy": "2025-03-02T10:55:28.705876Z",
     "iopub.status.idle": "2025-03-02T10:55:28.719984Z",
     "shell.execute_reply": "2025-03-02T10:55:28.719595Z"
    },
    "papermill": {
     "duration": 0.017751,
     "end_time": "2025-03-02T10:55:28.720630",
     "exception": false,
     "start_time": "2025-03-02T10:55:28.702879",
     "status": "completed"
    },
    "tags": []
   },
   "outputs": [],
   "source": [
    "def avg_embedding(inputs, model):\n",
    "    input=model(**inputs)\n",
    "    input_last_hidden_state=input.last_hidden_state\n",
    "    input_attention_mask = inputs['attention_mask']\n",
    "    input_masked_embeddings = input_last_hidden_state * input_attention_mask.unsqueeze(-1)\n",
    "    input_sum_embeddings = torch.sum(input_masked_embeddings, dim=1)\n",
    "    input_token_counts = torch.sum(input_attention_mask, dim=1).unsqueeze(-1)\n",
    "    input_avg_embeddings = input_sum_embeddings / input_token_counts\n",
    "    return(input_avg_embeddings)"
   ]
  },
  {
   "cell_type": "code",
   "execution_count": 18,
   "id": "990f63bd-4d48-4f58-a001-3b3250f65312",
   "metadata": {
    "execution": {
     "iopub.execute_input": "2025-03-02T10:55:28.726872Z",
     "iopub.status.busy": "2025-03-02T10:55:28.726625Z",
     "iopub.status.idle": "2025-03-02T10:55:28.787143Z",
     "shell.execute_reply": "2025-03-02T10:55:28.786794Z"
    },
    "papermill": {
     "duration": 0.064202,
     "end_time": "2025-03-02T10:55:28.787782",
     "exception": false,
     "start_time": "2025-03-02T10:55:28.723580",
     "status": "completed"
    },
    "tags": []
   },
   "outputs": [],
   "source": [
    "def evaluate_mrr(model, data_loader_val, distance_fn):\n",
    "    model.eval()  \n",
    "\n",
    "    total_rr = 0.0\n",
    "    num_queries = 0\n",
    "\n",
    "    with torch.no_grad():\n",
    "        for batch in data_loader_val:\n",
    "            anchor_text = batch[0]\n",
    "            positive_text = batch[1]\n",
    "            negative_texts = batch[2]\n",
    "\n",
    "            anchor_input = tokenizer(anchor_text, return_tensors='pt', padding=True, truncation=True, max_length=512).to(device)\n",
    "            positive_input = tokenizer(positive_text, return_tensors='pt', padding=True, truncation=True, max_length=512).to(device)\n",
    "\n",
    "            anchor_embedding = avg_embedding(anchor_input, model)\n",
    "            positive_embedding = avg_embedding(positive_input, model)\n",
    "            negative_embedding = [avg_embedding(tokenizer(neg, return_tensors='pt', padding=True, truncation=True, max_length=512).to(device), model) for neg in negative_texts]\n",
    "\n",
    "            pos_dist = distance_fn(anchor_embedding, positive_embedding)\n",
    "            neg_dist = torch.stack([distance_fn(anchor_embedding, neg) for neg in negative_embedding], dim=-1)\n",
    "            all_similarities=torch.cat([-pos_dist.unsqueeze(1), -neg_dist], dim=1)\n",
    "            \n",
    "            sorted_similarities, sorted_indices = torch.sort(all_similarities, dim=1, descending=True)\n",
    "\n",
    "            # Find the rank of the first relevant (positive) document\n",
    "            positive_rank = (sorted_indices == 0).nonzero(as_tuple=True)[1] + 1  # +1 to make rank 1-based\n",
    "            total_rr += torch.sum(1.0 / positive_rank.float()).item()  # Reciprocal rank\n",
    "            num_queries += len(positive_rank)\n",
    "\n",
    "    mrr = total_rr / num_queries\n",
    "    return mrr"
   ]
  },
  {
   "cell_type": "code",
   "execution_count": 19,
   "id": "534a9ec5-4211-4cb6-81f1-fb8a30caff92",
   "metadata": {
    "execution": {
     "iopub.execute_input": "2025-03-02T10:55:28.793852Z",
     "iopub.status.busy": "2025-03-02T10:55:28.793594Z",
     "iopub.status.idle": "2025-03-02T10:55:51.916422Z",
     "shell.execute_reply": "2025-03-02T10:55:51.915778Z"
    },
    "papermill": {
     "duration": 23.126601,
     "end_time": "2025-03-02T10:55:51.917168",
     "exception": false,
     "start_time": "2025-03-02T10:55:28.790567",
     "status": "completed"
    },
    "tags": []
   },
   "outputs": [
    {
     "name": "stdout",
     "output_type": "stream",
     "text": [
      "0.6014917838720628\n"
     ]
    }
   ],
   "source": [
    "mrr_validation = evaluate_mrr(lora_model, data_loader, cosine_distance)\n",
    "print(mrr_validation)"
   ]
  },
  {
   "cell_type": "code",
   "execution_count": null,
   "id": "f61bbd65-41c9-4ac7-80ef-ba4a4fb02d45",
   "metadata": {
    "papermill": {
     "duration": 0.00295,
     "end_time": "2025-03-02T10:55:51.930402",
     "exception": false,
     "start_time": "2025-03-02T10:55:51.927452",
     "status": "completed"
    },
    "tags": []
   },
   "outputs": [],
   "source": []
  }
 ],
 "metadata": {
  "kernelspec": {
   "display_name": "Python (myenv)",
   "language": "python",
   "name": "myenv"
  },
  "language_info": {
   "codemirror_mode": {
    "name": "ipython",
    "version": 3
   },
   "file_extension": ".py",
   "mimetype": "text/x-python",
   "name": "python",
   "nbconvert_exporter": "python",
   "pygments_lexer": "ipython3",
   "version": "3.12.7"
  },
  "papermill": {
   "default_parameters": {},
   "duration": 37.566471,
   "end_time": "2025-03-02T10:55:53.350166",
   "environment_variables": {},
   "exception": null,
   "input_path": "average_FiQA.ipynb",
   "output_path": "average_FiQA_output.ipynb",
   "parameters": {},
   "start_time": "2025-03-02T10:55:15.783695",
   "version": "2.6.0"
  },
  "widgets": {
   "application/vnd.jupyter.widget-state+json": {
    "state": {
     "158a045f083b4660ad65dc80c9fdfca9": {
      "model_module": "@jupyter-widgets/controls",
      "model_module_version": "2.0.0",
      "model_name": "HTMLStyleModel",
      "state": {
       "_model_module": "@jupyter-widgets/controls",
       "_model_module_version": "2.0.0",
       "_model_name": "HTMLStyleModel",
       "_view_count": null,
       "_view_module": "@jupyter-widgets/base",
       "_view_module_version": "2.0.0",
       "_view_name": "StyleView",
       "background": null,
       "description_width": "",
       "font_size": null,
       "text_color": null
      }
     },
     "2fe5aa65cdba450fb612976f82cf8e21": {
      "model_module": "@jupyter-widgets/controls",
      "model_module_version": "2.0.0",
      "model_name": "ProgressStyleModel",
      "state": {
       "_model_module": "@jupyter-widgets/controls",
       "_model_module_version": "2.0.0",
       "_model_name": "ProgressStyleModel",
       "_view_count": null,
       "_view_module": "@jupyter-widgets/base",
       "_view_module_version": "2.0.0",
       "_view_name": "StyleView",
       "bar_color": null,
       "description_width": ""
      }
     },
     "3bc1031364d54af68819a39b6a3d5c7b": {
      "model_module": "@jupyter-widgets/base",
      "model_module_version": "2.0.0",
      "model_name": "LayoutModel",
      "state": {
       "_model_module": "@jupyter-widgets/base",
       "_model_module_version": "2.0.0",
       "_model_name": "LayoutModel",
       "_view_count": null,
       "_view_module": "@jupyter-widgets/base",
       "_view_module_version": "2.0.0",
       "_view_name": "LayoutView",
       "align_content": null,
       "align_items": null,
       "align_self": null,
       "border_bottom": null,
       "border_left": null,
       "border_right": null,
       "border_top": null,
       "bottom": null,
       "display": null,
       "flex": null,
       "flex_flow": null,
       "grid_area": null,
       "grid_auto_columns": null,
       "grid_auto_flow": null,
       "grid_auto_rows": null,
       "grid_column": null,
       "grid_gap": null,
       "grid_row": null,
       "grid_template_areas": null,
       "grid_template_columns": null,
       "grid_template_rows": null,
       "height": null,
       "justify_content": null,
       "justify_items": null,
       "left": null,
       "margin": null,
       "max_height": null,
       "max_width": null,
       "min_height": null,
       "min_width": null,
       "object_fit": null,
       "object_position": null,
       "order": null,
       "overflow": null,
       "padding": null,
       "right": null,
       "top": null,
       "visibility": null,
       "width": null
      }
     },
     "4a38ba8e0f7f4c86b7d3a1031561a500": {
      "model_module": "@jupyter-widgets/controls",
      "model_module_version": "2.0.0",
      "model_name": "HBoxModel",
      "state": {
       "_dom_classes": [],
       "_model_module": "@jupyter-widgets/controls",
       "_model_module_version": "2.0.0",
       "_model_name": "HBoxModel",
       "_view_count": null,
       "_view_module": "@jupyter-widgets/controls",
       "_view_module_version": "2.0.0",
       "_view_name": "HBoxView",
       "box_style": "",
       "children": [
        "IPY_MODEL_5ba4a99439904ec9982585ae3d636539",
        "IPY_MODEL_f3b27b589de74fbf9130160de689d623",
        "IPY_MODEL_db61c8f80a6d4bbb9d1094c8c4e79898"
       ],
       "layout": "IPY_MODEL_84d049214c2544b192c6ee7da9f21650",
       "tabbable": null,
       "tooltip": null
      }
     },
     "5ba4a99439904ec9982585ae3d636539": {
      "model_module": "@jupyter-widgets/controls",
      "model_module_version": "2.0.0",
      "model_name": "HTMLModel",
      "state": {
       "_dom_classes": [],
       "_model_module": "@jupyter-widgets/controls",
       "_model_module_version": "2.0.0",
       "_model_name": "HTMLModel",
       "_view_count": null,
       "_view_module": "@jupyter-widgets/controls",
       "_view_module_version": "2.0.0",
       "_view_name": "HTMLView",
       "description": "",
       "description_allow_html": false,
       "layout": "IPY_MODEL_61a0a2f8d28b48819b36ece6909097d2",
       "placeholder": "​",
       "style": "IPY_MODEL_158a045f083b4660ad65dc80c9fdfca9",
       "tabbable": null,
       "tooltip": null,
       "value": "100%"
      }
     },
     "61a0a2f8d28b48819b36ece6909097d2": {
      "model_module": "@jupyter-widgets/base",
      "model_module_version": "2.0.0",
      "model_name": "LayoutModel",
      "state": {
       "_model_module": "@jupyter-widgets/base",
       "_model_module_version": "2.0.0",
       "_model_name": "LayoutModel",
       "_view_count": null,
       "_view_module": "@jupyter-widgets/base",
       "_view_module_version": "2.0.0",
       "_view_name": "LayoutView",
       "align_content": null,
       "align_items": null,
       "align_self": null,
       "border_bottom": null,
       "border_left": null,
       "border_right": null,
       "border_top": null,
       "bottom": null,
       "display": null,
       "flex": null,
       "flex_flow": null,
       "grid_area": null,
       "grid_auto_columns": null,
       "grid_auto_flow": null,
       "grid_auto_rows": null,
       "grid_column": null,
       "grid_gap": null,
       "grid_row": null,
       "grid_template_areas": null,
       "grid_template_columns": null,
       "grid_template_rows": null,
       "height": null,
       "justify_content": null,
       "justify_items": null,
       "left": null,
       "margin": null,
       "max_height": null,
       "max_width": null,
       "min_height": null,
       "min_width": null,
       "object_fit": null,
       "object_position": null,
       "order": null,
       "overflow": null,
       "padding": null,
       "right": null,
       "top": null,
       "visibility": null,
       "width": null
      }
     },
     "84d049214c2544b192c6ee7da9f21650": {
      "model_module": "@jupyter-widgets/base",
      "model_module_version": "2.0.0",
      "model_name": "LayoutModel",
      "state": {
       "_model_module": "@jupyter-widgets/base",
       "_model_module_version": "2.0.0",
       "_model_name": "LayoutModel",
       "_view_count": null,
       "_view_module": "@jupyter-widgets/base",
       "_view_module_version": "2.0.0",
       "_view_name": "LayoutView",
       "align_content": null,
       "align_items": null,
       "align_self": null,
       "border_bottom": null,
       "border_left": null,
       "border_right": null,
       "border_top": null,
       "bottom": null,
       "display": null,
       "flex": null,
       "flex_flow": null,
       "grid_area": null,
       "grid_auto_columns": null,
       "grid_auto_flow": null,
       "grid_auto_rows": null,
       "grid_column": null,
       "grid_gap": null,
       "grid_row": null,
       "grid_template_areas": null,
       "grid_template_columns": null,
       "grid_template_rows": null,
       "height": null,
       "justify_content": null,
       "justify_items": null,
       "left": null,
       "margin": null,
       "max_height": null,
       "max_width": null,
       "min_height": null,
       "min_width": null,
       "object_fit": null,
       "object_position": null,
       "order": null,
       "overflow": null,
       "padding": null,
       "right": null,
       "top": null,
       "visibility": null,
       "width": null
      }
     },
     "b2a60089080146e194e72c1d6136355e": {
      "model_module": "@jupyter-widgets/base",
      "model_module_version": "2.0.0",
      "model_name": "LayoutModel",
      "state": {
       "_model_module": "@jupyter-widgets/base",
       "_model_module_version": "2.0.0",
       "_model_name": "LayoutModel",
       "_view_count": null,
       "_view_module": "@jupyter-widgets/base",
       "_view_module_version": "2.0.0",
       "_view_name": "LayoutView",
       "align_content": null,
       "align_items": null,
       "align_self": null,
       "border_bottom": null,
       "border_left": null,
       "border_right": null,
       "border_top": null,
       "bottom": null,
       "display": null,
       "flex": null,
       "flex_flow": null,
       "grid_area": null,
       "grid_auto_columns": null,
       "grid_auto_flow": null,
       "grid_auto_rows": null,
       "grid_column": null,
       "grid_gap": null,
       "grid_row": null,
       "grid_template_areas": null,
       "grid_template_columns": null,
       "grid_template_rows": null,
       "height": null,
       "justify_content": null,
       "justify_items": null,
       "left": null,
       "margin": null,
       "max_height": null,
       "max_width": null,
       "min_height": null,
       "min_width": null,
       "object_fit": null,
       "object_position": null,
       "order": null,
       "overflow": null,
       "padding": null,
       "right": null,
       "top": null,
       "visibility": null,
       "width": null
      }
     },
     "db61c8f80a6d4bbb9d1094c8c4e79898": {
      "model_module": "@jupyter-widgets/controls",
      "model_module_version": "2.0.0",
      "model_name": "HTMLModel",
      "state": {
       "_dom_classes": [],
       "_model_module": "@jupyter-widgets/controls",
       "_model_module_version": "2.0.0",
       "_model_name": "HTMLModel",
       "_view_count": null,
       "_view_module": "@jupyter-widgets/controls",
       "_view_module_version": "2.0.0",
       "_view_name": "HTMLView",
       "description": "",
       "description_allow_html": false,
       "layout": "IPY_MODEL_b2a60089080146e194e72c1d6136355e",
       "placeholder": "​",
       "style": "IPY_MODEL_e31f5b47b9af4595b270cda3dff4a20c",
       "tabbable": null,
       "tooltip": null,
       "value": " 57638/57638 [00:00&lt;00:00, 194805.54it/s]"
      }
     },
     "e31f5b47b9af4595b270cda3dff4a20c": {
      "model_module": "@jupyter-widgets/controls",
      "model_module_version": "2.0.0",
      "model_name": "HTMLStyleModel",
      "state": {
       "_model_module": "@jupyter-widgets/controls",
       "_model_module_version": "2.0.0",
       "_model_name": "HTMLStyleModel",
       "_view_count": null,
       "_view_module": "@jupyter-widgets/base",
       "_view_module_version": "2.0.0",
       "_view_name": "StyleView",
       "background": null,
       "description_width": "",
       "font_size": null,
       "text_color": null
      }
     },
     "f3b27b589de74fbf9130160de689d623": {
      "model_module": "@jupyter-widgets/controls",
      "model_module_version": "2.0.0",
      "model_name": "FloatProgressModel",
      "state": {
       "_dom_classes": [],
       "_model_module": "@jupyter-widgets/controls",
       "_model_module_version": "2.0.0",
       "_model_name": "FloatProgressModel",
       "_view_count": null,
       "_view_module": "@jupyter-widgets/controls",
       "_view_module_version": "2.0.0",
       "_view_name": "ProgressView",
       "bar_style": "success",
       "description": "",
       "description_allow_html": false,
       "layout": "IPY_MODEL_3bc1031364d54af68819a39b6a3d5c7b",
       "max": 57638.0,
       "min": 0.0,
       "orientation": "horizontal",
       "style": "IPY_MODEL_2fe5aa65cdba450fb612976f82cf8e21",
       "tabbable": null,
       "tooltip": null,
       "value": 57638.0
      }
     }
    },
    "version_major": 2,
    "version_minor": 0
   }
  }
 },
 "nbformat": 4,
 "nbformat_minor": 5
}