{
 "cells": [
  {
   "cell_type": "code",
   "execution_count": 1,
   "id": "f6d4b65f-fa6b-4517-8694-8627bc49833b",
   "metadata": {
    "execution": {
     "iopub.execute_input": "2025-03-02T11:05:50.408711Z",
     "iopub.status.busy": "2025-03-02T11:05:50.408485Z",
     "iopub.status.idle": "2025-03-02T11:05:50.539295Z",
     "shell.execute_reply": "2025-03-02T11:05:50.538976Z"
    },
    "papermill": {
     "duration": 0.134498,
     "end_time": "2025-03-02T11:05:50.539907",
     "exception": false,
     "start_time": "2025-03-02T11:05:50.405409",
     "status": "completed"
    },
    "tags": []
   },
   "outputs": [
    {
     "name": "stderr",
     "output_type": "stream",
     "text": [
      "/dss/dsshome1/07/ra65bex2/srawat/myenv/lib/python3.12/site-packages/beir/datasets/data_loader.py:8: TqdmExperimentalWarning: Using `tqdm.autonotebook.tqdm` in notebook mode. Use `tqdm.tqdm` instead to force console mode (e.g. in jupyter console)\n",
      "  from tqdm.autonotebook import tqdm\n"
     ]
    }
   ],
   "source": [
    "from beir.datasets.data_loader import GenericDataLoader"
   ]
  },
  {
   "cell_type": "code",
   "execution_count": 2,
   "id": "a91d6914-e301-422c-b839-1fafeb1e8fa4",
   "metadata": {
    "execution": {
     "iopub.execute_input": "2025-03-02T11:05:50.544850Z",
     "iopub.status.busy": "2025-03-02T11:05:50.544721Z",
     "iopub.status.idle": "2025-03-02T11:05:54.640543Z",
     "shell.execute_reply": "2025-03-02T11:05:54.640115Z"
    },
    "papermill": {
     "duration": 4.098924,
     "end_time": "2025-03-02T11:05:54.641216",
     "exception": false,
     "start_time": "2025-03-02T11:05:50.542292",
     "status": "completed"
    },
    "tags": []
   },
   "outputs": [
    {
     "data": {
      "text/plain": [
       "'/dss/dsshome1/07/ra65bex2/srawat/nfcorpus/nfcorpus'"
      ]
     },
     "execution_count": 2,
     "metadata": {},
     "output_type": "execute_result"
    }
   ],
   "source": [
    "from beir import util\n",
    "dataset = \"nfcorpus\"\n",
    "url = f\"https://public.ukp.informatik.tu-darmstadt.de/thakur/BEIR/datasets/{dataset}.zip\"\n",
    "data_path = f\"/dss/dsshome1/07/ra65bex2/srawat/{dataset}\"\n",
    "\n",
    "# Download and unzip the dataset\n",
    "data_path = util.download_and_unzip(url, data_path)\n",
    "data_path"
   ]
  },
  {
   "cell_type": "code",
   "execution_count": 3,
   "id": "41e17333-2c34-4b7b-91f6-3cbd3972f0d6",
   "metadata": {
    "execution": {
     "iopub.execute_input": "2025-03-02T11:05:54.650736Z",
     "iopub.status.busy": "2025-03-02T11:05:54.650363Z",
     "iopub.status.idle": "2025-03-02T11:05:54.724475Z",
     "shell.execute_reply": "2025-03-02T11:05:54.723991Z"
    },
    "papermill": {
     "duration": 0.077406,
     "end_time": "2025-03-02T11:05:54.725097",
     "exception": false,
     "start_time": "2025-03-02T11:05:54.647691",
     "status": "completed"
    },
    "tags": []
   },
   "outputs": [
    {
     "data": {
      "application/vnd.jupyter.widget-view+json": {
       "model_id": "bf27718f0cf441ca998cbfd76b52b897",
       "version_major": 2,
       "version_minor": 0
      },
      "text/plain": [
       "  0%|          | 0/3633 [00:00<?, ?it/s]"
      ]
     },
     "metadata": {},
     "output_type": "display_data"
    }
   ],
   "source": [
    "corpus, queries, qrels = GenericDataLoader(data_path).load(split=\"test\")"
   ]
  },
  {
   "cell_type": "code",
   "execution_count": 4,
   "id": "a29044d5-3952-4f3d-aa43-e1efd34fcad3",
   "metadata": {
    "execution": {
     "iopub.execute_input": "2025-03-02T11:05:54.730645Z",
     "iopub.status.busy": "2025-03-02T11:05:54.730502Z",
     "iopub.status.idle": "2025-03-02T11:05:54.812961Z",
     "shell.execute_reply": "2025-03-02T11:05:54.812580Z"
    },
    "papermill": {
     "duration": 0.085933,
     "end_time": "2025-03-02T11:05:54.813579",
     "exception": false,
     "start_time": "2025-03-02T11:05:54.727646",
     "status": "completed"
    },
    "tags": []
   },
   "outputs": [],
   "source": [
    "contrastive_pairs=[]\n",
    "import random\n",
    "c=0\n",
    "for query_id, relevant_docs in qrels.items():\n",
    "    try:\n",
    "        query_text = queries[query_id]\n",
    "        for doc_id in relevant_docs:\n",
    "            positive = corpus[doc_id][\"text\"]\n",
    "        #print(relevant_docs)\n",
    "        positive_doc_ids = set(relevant_docs)\n",
    "        all_doc_ids = set(corpus.keys())\n",
    "        negative_doc_ids = all_doc_ids - positive_doc_ids\n",
    "        negative_doc_ids=list(negative_doc_ids)\n",
    "        negative_doc_samples = random.sample(negative_doc_ids, k=5)\n",
    "        negatives=[]\n",
    "        for neg_doc_id in negative_doc_samples:\n",
    "            negative_doc_text = corpus[neg_doc_id][\"text\"]\n",
    "            negatives.append(negative_doc_text)\n",
    "        contrastive_pairs.append({\n",
    "            \"anchor\": query_text,\n",
    "            \"positive\": positive,\n",
    "            \"negatives\": negatives\n",
    "        })\n",
    "    except:\n",
    "        c=c+1"
   ]
  },
  {
   "cell_type": "code",
   "execution_count": 5,
   "id": "6a68eee9-4734-43a7-bdaa-e2d9890b1735",
   "metadata": {
    "execution": {
     "iopub.execute_input": "2025-03-02T11:05:54.818921Z",
     "iopub.status.busy": "2025-03-02T11:05:54.818651Z",
     "iopub.status.idle": "2025-03-02T11:05:54.844712Z",
     "shell.execute_reply": "2025-03-02T11:05:54.844358Z"
    },
    "papermill": {
     "duration": 0.029211,
     "end_time": "2025-03-02T11:05:54.845276",
     "exception": false,
     "start_time": "2025-03-02T11:05:54.816065",
     "status": "completed"
    },
    "tags": []
   },
   "outputs": [
    {
     "data": {
      "text/plain": [
       "[{'anchor': 'Do Cholesterol Statin Drugs Cause Breast Cancer?',\n",
       "  'positive': 'Muscle pain and weakness are frequent complaints in patients receiving 3-hydroxymethylglutaryl coenzymeA (HMG CoA) reductase inhibitors (statins). Many patients with myalgia have creatine kinase levels that are either normal or only marginally elevated, and no obvious structural defects have been reported in patients with myalgia only. To investigate further the mechanism that mediates statin-induced skeletal muscle damage, skeletal muscle biopsies from statin-treated and non-statin-treated patients were examined using both electron microscopy and biochemical approaches. The present paper reports clear evidence of skeletal muscle damage in statin-treated patients, despite their being asymptomatic. Though the degree of overall damage is slight, it has a characteristic pattern that includes breakdown of the T-tubular system and subsarcolemmal rupture. These characteristic structural abnormalities observed in the statin-treated patients were reproduced by extraction of cholesterol from skeletal muscle fibres in vitro. These findings support the hypothesis that statin-induced cholesterol lowering per se contributes to myocyte damage and suggest further that it is the specific lipid/protein organization of the skeletal muscle cell itself that renders it particularly vulnerable. Copyright (c) 2006 Pathological Society of Great Britain and Ireland. Published by John Wiley & Sons, Ltd.',\n",
       "  'negatives': ['BACKGROUND/OBJECTIVES: Little is known about nutritional factors that influence circulating concentrations of steroid hormones, which are consistently associated with risk of breast cancer for postmenopausal women. We aimed to investigate the association between consumption of animal products and the plasma concentrations of steroid hormones and sex hormone-binding globulin (SHBG). SUBJECTS/METHODS: Cross-sectional analysis was conducted on plasma from 766 naturally postmenopausal women. We measured plasma concentrations of steroid hormones and SHBG, and estimated dietary intakes using a 121-item food frequency questionnaire. Log-transformed values of hormone concentrations were regressed on quartiles of intake of meat and dairy products among food items, and fats, proteins and cholesterol among nutrient intake. RESULTS: Total red and fresh red meat consumption was negatively associated with SHBG levels (P for trend=0.04 and <0.01, respectively). Mean SHBG concentrations were approximately 8% and 13% lower for women in the highest quartile compared with the lowest quartile of total red and fresh red meat consumption, respectively. Positive associations were observed between dairy product consumption and total and free estradiol concentrations (P for trend=0.02 and 0.03, respectively). Mean concentrations of total and free estradiol were 15 and 14% higher for women in the highest quartile of dairy product consumption than for those in the lowest quartile, respectively. No associations were observed with consumption of processed meat, chicken, fish, eggs, cholesterol, fats or protein. CONCLUSIONS: Our study suggests that greater consumption of total red and fresh red meat and dairy products might influence circulating concentrations of SHBG and estradiol, respectively. Confirmation and further investigation is required.',\n",
       "   'Phenolic ingredients of an aqueous carob extract are well characterized and consist of mainly gallic acid (GA). In order to assess possible chemopreventive mechanisms of carob, which can be used as a cacao substitute, effects on expression of genes related to stress response and drug metabolism were studied using human colon cell lines of different transformation state (LT97 and HT29). Stress-related genes, namely catalase (CAT) and superoxide dismutase (SOD2), were induced by carob extract and GA in LT97 adenoma, but not in HT29 carcinoma cells. Although corresponding protein products and enzyme activities were not elevated, pretreatment with carob extract and GA for 24 h reduced DNA damage in cells challenged with hydrogen peroxide (H(2)O(2)). In conclusion, carob extract and its major phenolic ingredient GA modulate gene expression and protect colon adenoma cells from genotoxic impact of H(2)O(2). Upregulation of stress-response genes could not be related to functional consequences.',\n",
       "   'The effects of extracts from five cultivars of strawberries on the proliferation of colon cancer cells HT29 and breast cancer cells MCF-7 were investigated, and possible correlations with the levels of several antioxidants were analyzed. In addition, the effects of organic cultivation compared to conventional cultivation on the content of antioxidants in the strawberries and strawberry extracts on the cancer cell proliferation were investigated. The ratio of ascorbate to dehydroascorbate was significantly higher in the organically cultivated strawberries. The strawberry extracts decreased the proliferation of both HT29 cells and MCF-7 cells in a dose-dependent way. The inhibitory effect for the highest concentration of the extracts was in the range of 41-63% (average 53%) inhibition compared to controls for the HT29 cells and 26-56% (average 43%) for MCF-7 cells. The extracts from organically grown strawberries had a higher antiproliferative activity for both cell types at the highest concentration than the conventionally grown, and this might indicate a higher content of secondary metabolites with anticarcinogenic properties in the organically grown strawberries. For HT29 cells, there was a negative correlation at the highest extract concentration between the content of ascorbate or vitamin C and cancer cell proliferation, whereas for MCF-7 cells, a high ratio of ascorbate to dehydroascorbate correlated with a higher inhibition of cell proliferation at the second highest concentration. The significance of the effect of ascorbate on cancer cell proliferation might lie in a synergistic action with other compounds.',\n",
       "   'Detailed clinical and neuropathological studies have been made in two fullterm newborn human infants who were exposed to methylmercury in utero as a result of maternal ingestion of methylmercury-contaminated bread in early phases of pregnancy. High levels of mercury were detected in various regions of the brain at autopsy. Study of the brains revealed a disturbance in the development in both cases, consisting essentially of an incomplete or abnormal migration of neurons to the cerebellar and cerebral cortices, and deranged cortical organization of the cerebrum. There were numerous heterotopic neurons, both isolated and in groups, in the white matter of cerebrum and cerebellum and the laminar cortical pattern of the laminar cortical pattern of the cerebrum was disturbed in many regions as was shown by the irregular groupings and the deranged alignment of cortical. Prominent in the white matter of the cerebrum and the cerebellum was diffuse gemistocytic astrocytosis accompanied by an accumulation of mercury grains in their cytoplasm. These findings indicate a high degree of vulnerability of human fetal brain to maternal intoxication by methylmercury. A major effect appears to be related to faulty development and not to destructive focal neuronal damage as has been observed in mercury intoxicaiton in adults and children exposed postnatally.',\n",
       "   'Objective Cooking programs are growing in popularity; however an extensive review has not examined overall impact. Therefore, this study reviewed previous research on cooking/home food preparation interventions and diet and health-related outcomes among adults and identified implications for practice and research. Design Literature review and descriptive summative method. Main outcome measures Dietary intake, knowledge/skills, cooking attitudes and self-efficacy/confidence, health outcomes. Analysis Articles evaluating effectiveness of interventions that included cooking/home food preparation as the primary aim (January 1980 through December 2011) were identified via OVID MEDLINE, Agricola and Web of Science databases. Studies grouped according to design and outcomes were reviewed for validity using an established coding system. Results were summarized for several outcome categories. Results Of 28 studies identified, 12 included a control group with six as non-randomized and six as randomized controlled trials. Evaluation was done post-intervention for five studies, pre- and post-intervention for 23 and beyond post-intervention for 15. Qualitative and quantitative measures suggested a positive influence on main outcomes. However, non-rigorous study designs, varying study populations, and use of non-validated assessment tools limited stronger conclusions. Conclusions and Implications Well-designed studies are needed that rigorously evaluate long-term impact on cooking behavior, dietary intake, obesity and other health outcomes.']},\n",
       " {'anchor': 'Exploiting Autophagy to Live Longer',\n",
       "  'positive': 'Background The physical health status of vegetarians has been extensively reported, but there is limited research regarding the mental health status of vegetarians, particularly with regard to mood. Vegetarian diets exclude fish, the major dietary source of eicosapentaenoic acid (EPA) and docosahexaenoic acid (DHA), critical regulators of brain cell structure and function. Omnivorous diets low in EPA and DHA are linked to impaired mood states in observational and experimental studies. Methods We examined associations between mood state and polyunsaturated fatty acid intake as a result of adherence to a vegetarian or omnivorous diet in a cross-sectional study of 138 healthy Seventh Day Adventist men and women residing in the Southwest. Participants completed a quantitative food frequency questionnaire, Depression Anxiety Stress Scale (DASS), and Profile of Mood States (POMS) questionnaires. Results Vegetarians (VEG:n = 60) reported significantly less negative emotion than omnivores (OMN:n = 78) as measured by both mean total DASS and POMS scores (8.32 ± 0.88 vs 17.51 ± 1.88, p = .000 and 0.10 ± 1.99 vs 15.33 ± 3.10, p = .007, respectively). VEG reported significantly lower mean intakes of EPA (p < .001), DHA (p < .001), as well as the omega-6 fatty acid, arachidonic acid (AA; p < .001), and reported higher mean intakes of shorter-chain α-linolenic acid (p < .001) and linoleic acid (p < .001) than OMN. Mean total DASS and POMS scores were positively related to mean intakes of EPA (p < 0.05), DHA (p < 0.05), and AA (p < 0.05), and inversely related to intakes of ALA (p < 0.05), and LA (p < 0.05), indicating that participants with low intakes of EPA, DHA, and AA and high intakes of ALA and LA had better mood. Conclusions The vegetarian diet profile does not appear to adversely affect mood despite low intake of long-chain omega-3 fatty acids.',\n",
       "  'negatives': [\"OBJECTIVE: To clarify the hormonal context of breast cancer etiology we used data from a large, population-based case-control study to investigate the relationship between breast cancer risk and a history of diabetes mellitus, disorders associated with estrogen stimulation (uterine fibroids, endometriosis, gallstones), and disorders associated with androgen stimulation (acne, hirsutism, and polycystic ovaries). METHODS: Breast cancer patients between 50 and 75 years old were identified from state-wide tumor registries in Wisconsin, Massachusetts, and New Hampshire; controls were randomly selected from drivers' license lists (age less than 65) or Medicare enrollment files (age 65-74). Information on reproductive history, medical history, and personal habits was obtained by telephone interview. A total of 5659 cases and 5928 controls were interviewed and provided suitable data. RESULTS: There was no overall association between breast cancer risk and reported history of diabetes mellitus, endometriosis, uterine fibroids, gallstones, or cholecystectomy. However, the disorders with androgenic associations all conferred an increased risk: the overall odds ratio (OR) for a history of acne was 1.4 (95% CI 1.0-1.9), that for hirsutism was 1.2 (95% CI 0.81-1.8), and that for polycystic ovaries 1.6 (95% CI 0.8-3.2). Diabetes mellitus diagnosed before age 35 conferred an odds ratio of 0.52 (95% 0.25-1.1), while diabetes diagnosed at a later age was associated with an increased risk (OR = 1.2, 95% CI 1.0-1.4). CONCLUSIONS: Androgen-related phenomena are likely to be important in the etiology of breast cancer.\",\n",
       "   'OBJECTIVE: To evaluate the role of the environmental estrogens polychlorinated biphenyls (PCBs) and phthalate esters (PEs) as potential environmental hazards in the deterioration of semen parameters in infertile men without an obvious etiology. DESIGN: Randomized controlled study. SETTING: Tertiary care referral infertility clinic and academic research center. PATIENT(S): Twenty-one infertile men with sperm counts <20 million/mL and/or rapid progressive motility <25% and/or <30% normal forms without evidence of an obvious etiology and 32 control men with normal semen analyses and evidence of conception. Semen and blood samples were obtained as part of the treatment protocol. MAIN OUTCOME MEASURE(S): Evaluation of semen parameters such as ejaculate volume, sperm count, motility, morphology, vitality, osmoregulatory capacity, sperm chromatin stability, and sperm nuclear DNA integrity. RESULT(S): PCBs were detected in the seminal plasma of infertile men but not in controls, and the concentration of PEs was significantly higher in infertile men compared with controls. Ejaculate volume, sperm count, progressive motility, normal morphology, and fertilizing capacity were significantly lower in infertile men compared with controls. The highest average PCB and PE concentrations were found in urban fish eaters, followed by rural fish eaters, urban vegetarians, and rural vegetarians. The total motile sperm counts in infertile men were inversely proportional to their xenoestrogen concentrations and were significantly lower than those in the respective controls. CONCLUSION(S): PCBs and PEs may be instrumental in the deterioration of semen quality in infertile men without an obvious etiology.',\n",
       "   'Alkylresorcinols (ARs) are shown to be good biomarkers of consumption of rye and whole-grain wheat products in man. The aim of this pilot study was to investigate AR metabolites as potential biomarkers of breast cancer (BC) risk in Finnish women since intake of cereal fiber and its components has been proposed to reduce this risk through an effect on the enterohepatic circulation of estrogens. This was a cross-sectional and observational pilot study. A total of 20 omnivores, 20 vegetarians, and 16 BC women (6-12 mo after operation) were investigated on 2 occasions 6 mo apart. Dietary intake (5-days record), plasma/urinary AR metabolites [3,5-dihydroxybenzoic acid (DHBA) and 3-(3,5-dihydroxyphenyl)-1-propanoic acid (DHPPA)] and plasma/urinary enterolactone were measured. The groups were compared using nonparametric tests. We observed that plasma DHBA (P = 0.007; P = 0.03), plasma DHPPA (P = 0.02; P = 0.01), urinary DHBA (P = 0.001; P = 0.003), urinary DHPPA (P = 0.001; P = 0.001), and cereal fiber intake (P = 0.007; P = 0.003) were significantly lower in the BC group compared to the vegetarian and omnivore groups, respectively. Based on measurements of AR metabolites in urine and in plasma, whole-grain rye and wheat cereal fiber intake is low in BC subjects. Thus, urinary and plasma AR metabolites may be used as potential biomarkers of BC risk in women. This novel approach will likely also facilitate studies of associations between rye and whole-grain wheat cereal fiber intake and other diseases. Our findings should, however, be confirmed with larger subject populations.',\n",
       "   'BACKGROUND AND PURPOSE: Fiber intake is associated with reduced stroke risk in prospective studies, but no meta-analysis has been published to date. METHODS: Multiple electronic databases were searched for healthy participant studies reporting fiber intake and incidence of first hemorrhagic or ischemic stroke, published between January 1990 and May 2012. RESULTS: Eight cohort studies from the United States, northern Europe, Australia, and Japan met inclusion criteria. Total dietary fiber intake was inversely associated with risk of hemorrhagic plus ischemic stroke, with some evidence of heterogeneity between studies (I(2); relative risk per 7 g/day, 0.93; 95% confidence interval, 0.88-0.98; I(2)=59%). Soluble fiber intake, per 4 g/day, was not associated with stroke risk reduction with evidence of low heterogeneity between studies, relative risk 0.94 (95% confidence interval, 0.88-1.01; I(2)=21%). There were few studies reporting stroke risk in relation to insoluble fiber or fiber from cereals, fruit, or vegetables. CONCLUSIONS: Greater dietary fiber intake is significantly associated with lower risk of first stroke. Overall, findings support dietary recommendations to increase intake of total dietary fiber. However, a paucity of data on fiber from different foods precludes conclusions regarding the association between fiber type and stroke. There is a need for future studies to focus on fiber type and to examine risk for ischemic and hemorrhagic strokes separately.',\n",
       "   'PURPOSE: To test the hypothesis that exposure to poultry oncogenic viruses that widely occurs occupationally in poultry workers and in the general population, may be associated with increased risks of deaths from liver and pancreatic cancers, and to identify new risk factors. METHODS: A pilot case-cohort study of both cancers within a combined cohort of 30,411 highly exposed poultry workers and 16,408 control subjects was conducted, and risk assessed by logistic regression odds ratios (OR) and proportional hazards risk ratios. RESULTS: New occupational findings were recorded respectively for pancreatic/liver cancers, for slaughtering of poultry (OR = 8.9, 95% confidence interval [CI]: 2.7-29.3)/OR = 9.1, 95% CI: 1.9-42.9); catching of live chickens (OR = 3.6, 95% CI: 1.2-10.9)/OR = 1.0, 95% CI: 0.1-8.5); killing other types of animals for food (OR = 4.8, 95% CI: 1.5-16.6)/OR = 2.0, 95% CI: 0.2-18.2), and ever worked on a pig raising farm (OR = 3.0, 95% CI: 1.0-8.2) for pancreatic cancer only. New non-occupational findings for liver cancer were for receiving immunization with yellow fever vaccine (OR = 8.7, 95% CI: 1.0-76.3); and vaccination with typhoid vaccine (OR = 6.3, 95% CI: 1.1-37.4). The study also confirmed previously reported risk factors for both diseases. CONCLUSIONS: This study provides preliminary evidence that exposure to poultry oncogenic viruses may possibly be associated with the occurrence of liver and pancreatic cancers. Case-control studies nested within occupational cohorts of highly exposed subjects of sufficient statistical power may provide an efficient and valid method of investigating/confirming these findings. Copyright © 2011 Elsevier Inc. All rights reserved.']},\n",
       " {'anchor': 'How to Reduce Exposure to Alkylphenols Through Your Diet',\n",
       "  'positive': 'Background The physical health status of vegetarians has been extensively reported, but there is limited research regarding the mental health status of vegetarians, particularly with regard to mood. Vegetarian diets exclude fish, the major dietary source of eicosapentaenoic acid (EPA) and docosahexaenoic acid (DHA), critical regulators of brain cell structure and function. Omnivorous diets low in EPA and DHA are linked to impaired mood states in observational and experimental studies. Methods We examined associations between mood state and polyunsaturated fatty acid intake as a result of adherence to a vegetarian or omnivorous diet in a cross-sectional study of 138 healthy Seventh Day Adventist men and women residing in the Southwest. Participants completed a quantitative food frequency questionnaire, Depression Anxiety Stress Scale (DASS), and Profile of Mood States (POMS) questionnaires. Results Vegetarians (VEG:n = 60) reported significantly less negative emotion than omnivores (OMN:n = 78) as measured by both mean total DASS and POMS scores (8.32 ± 0.88 vs 17.51 ± 1.88, p = .000 and 0.10 ± 1.99 vs 15.33 ± 3.10, p = .007, respectively). VEG reported significantly lower mean intakes of EPA (p < .001), DHA (p < .001), as well as the omega-6 fatty acid, arachidonic acid (AA; p < .001), and reported higher mean intakes of shorter-chain α-linolenic acid (p < .001) and linoleic acid (p < .001) than OMN. Mean total DASS and POMS scores were positively related to mean intakes of EPA (p < 0.05), DHA (p < 0.05), and AA (p < 0.05), and inversely related to intakes of ALA (p < 0.05), and LA (p < 0.05), indicating that participants with low intakes of EPA, DHA, and AA and high intakes of ALA and LA had better mood. Conclusions The vegetarian diet profile does not appear to adversely affect mood despite low intake of long-chain omega-3 fatty acids.',\n",
       "  'negatives': ['Background Based on the hypothesized protective effect, we examined the effect of soy foods on estrogens in nipple aspirate fluid (NAF) and serum, possible indicators of breast cancer risk. Methods In a cross-over design, we randomized 96 women who produced ≥10 μL NAF to a high- or low-soy diet for 6-months. During the high-soy diet, participants consumed 2 soy servings of soy milk, tofu, or soy nuts (approximately 50 mg of isoflavones/day); during the low-soy diet, they maintained their usual diet. Six NAF samples were obtained using a FirstCyte© Aspirator. Estradiol (E2) and estrone sulfate (E1S) were assessed in NAF and estrone (E1) in serum only using highly sensitive radioimmunoassays. Mixed-effects regression models accounting for repeated measures and left-censoring limits were applied. Results Mean E2 and E1S were lower during the high-soy than the low-soy diet (113 vs. 313 pg/mL and 46 vs. 68 ng/mL, respectively) without reaching significance (p=0.07); the interaction between group and diet and was not significant. There was no effect of the soy treatment on serum E2 (p=0.76), E1 (p=0.86), or E1S (p=0.56). Within individuals, NAF and serum levels of E2 (rs=0.37; p<0.001) but not E1S (rs=0.004; p=0.97) were correlated. E2 and E1S in NAF and serum were strongly associated (rs=0.78 and rs=0.48; p<0.001). Conclusions Soy foods in amounts consumed by Asians did not significantly modify estrogen levels in NAF and serum. Impact The trend towards lower estrogens in NAF during the high-soy diet counters concerns about adverse effects of soy foods on breast cancer risk.',\n",
       "   'OBJECTIVE Prevention of paraplegia following repair of thoracoabdominal aortic aneurysms (TAAA) requires understanding the anatomy and physiology of the blood supply to the spinal cord. Recent laboratory studies and clinical observations suggest that a robust collateral network must exist to explain preservation of spinal cord perfusion when segmental vessels are interrupted. An anatomical study was undertaken. METHODS Twelve juvenile Yorkshire pigs underwent aortic cannulation and infusion of a low-viscosity acrylic resin at physiological pressures. After curing of the resin and digestion of all organic tissue, the anatomy of the blood supply to the spinal cord was studied grossly and using light and electron microscopy. RESULTS All vascular structures ≥ 8μm in diameter were preserved. Thoracic and lumbar segmental arteries (SAs) give rise not only to the anterior spinal artery (ASA), but to an extensive paraspinous network feeding the erector spinae, iliopsoas, and associated muscles. The ASA, mean diameter 134±20 μm, is connected at multiple points to repetitive circular epidural arteries with mean diameters of 150±26 μm. The capacity of the paraspinous muscular network is 25-fold the capacity of the circular epidural arterial network and ASA combined. Extensive arterial collateralization is apparent between the intraspinal and paraspinous networks, and within each network. Only 75% of all SAs provide direct ASA-supplying branches. CONCLUSIONS The ASA is only one component of an extensive paraspinous and intraspinal collateral vascular network. This network provides an anatomic explanation of the physiological resiliency of spinal cord perfusion when SAs are sacrificed during TAAA repair.',\n",
       "   \"Hesperetin is an aglycone of citrus flavonoids and is expected to exert a vasodilatation effect in vivo. We developed water-dispersible hesperetin by the process of micronization to enhance the bioavailability of hesperetin. This study aimed to assess the effect of this process on the bioavailability of hesperetin and to estimate its efficiency on vasodilatation-related functions using endothelial cells in vitro and a human volunteer study at a single dose in vivo. We found that water-dispersible hesperetin was absorbed rapidly, with its maximum plasma concentration (C(max)) being 10.2 ± 1.2 μM, and that the time to reach C(max), which is within 1 h if 150 mg of this preparation was orally administered in humans. LC-MS analyses of the plasma at C(max) demonstrated that hesperetin accumulated in the plasma as hesperetin 7-O-β-D-glucuronide (Hp7GA), hesperetin 3'-O-β-D-glucuronide (Hp3'GA) and hesperetin sulfate exclusively. Similar to hesperetin, Hp7GA enhanced nitric oxide (NO) release by inhibiting nicotinamide adenine dinucleotide phosphate-oxidase (NADPH oxidase) activity in a human umbilical vein endothelial cell culture system, indicating that plasma hesperetin metabolites can improve vasodilatation in the vascular system. A volunteer study using women with cold sensitivity showed that a single dose of water-dispersible hesperetin was effective on peripheral vasodilatation.These results strongly suggest that rapid accumulation with higher plasma concentration enables hesperetin to exert a potential vasodilatation effect by the endothelial action of its plasma metabolites. Water-dispersible hesperetin may be useful to improve the health effect of dietary hesperetin. This journal is © The Royal Society of Chemistry 2012\",\n",
       "   'The hypothesis that the incidence of calcium stone disease is related to the consumption of animal protein has been examined. Within the male population, recurrent idiopathic stone formers consumed more animal protein than did normal subjects. Single stone formers had animal protein intakes intermediate between those of normal men and those of recurrent stone formers. A high animal protein intake caused a significant increase in the urinary excretion of calcium, oxalate and uric acid, 3 of the 6 main urinary risk factors for calcium stone formation. The overall relative probability of forming stones, calculated from the combination of the 6 main urinary risk factors, was markedly increased by a high animal protein diet. Conversely, a low animal protein intake, such as taken by vegetarians, was associated with a low excretion of calcium, oxalate and uric acid and a low relative probability of forming stones.',\n",
       "   'BACKGROUND: Hydrogen sulfide is a luminally acting, bacterially derived cell poison that has been implicated in ulcerative colitis. Sulfide generation in the colon is probably driven by dietary components such as sulfur-containing amino acids (SAAs) and inorganic sulfur (eg, sulfite). OBJECTIVE: We assessed the contribution of SAAs from meat to sulfide production by intestinal bacteria with use of both a model culture system in vitro and an in vivo human feeding study. DESIGN: Five healthy men were housed in a metabolic suite and fed a sequence of 5 diets for 10 d each. Meat intake ranged from 0 g/d with a vegetarian diet to 600 g/d with a high-meat diet. Fecal sulfide and urinary sulfate were measured in samples collected on days 9 and 10 of each diet period. Additionally, 5 or 10 g bovine serum albumin or casein/L was added to batch cultures inoculated with feces from 4 healthy volunteers. Concentrations of sulfide, ammonia, and Lowry-reactive substances were measured over 48 h. RESULTS: Mean (+/-SEM) fecal sulfide concentrations ranged from 0.22 +/- 0.02 mmol/kg with the 0-g/d diet to 3.38 +/- 0.31 mmol/kg with the 600-g/d diet and were significantly related to meat intake (P: < 0.001). Sulfide formation in fecal batch cultures supplemented with both bovine serum albumin and casein correlated with protein digestion, as measured by the disappearance of Lowry-reactive substances and the appearance of ammonia. CONCLUSION: Dietary protein from meat is an important substrate for sulfide generation by bacteria in the human large intestine.']},\n",
       " {'anchor': 'What’s Driving America’s Obesity Problem?',\n",
       "  'positive': 'Background The physical health status of vegetarians has been extensively reported, but there is limited research regarding the mental health status of vegetarians, particularly with regard to mood. Vegetarian diets exclude fish, the major dietary source of eicosapentaenoic acid (EPA) and docosahexaenoic acid (DHA), critical regulators of brain cell structure and function. Omnivorous diets low in EPA and DHA are linked to impaired mood states in observational and experimental studies. Methods We examined associations between mood state and polyunsaturated fatty acid intake as a result of adherence to a vegetarian or omnivorous diet in a cross-sectional study of 138 healthy Seventh Day Adventist men and women residing in the Southwest. Participants completed a quantitative food frequency questionnaire, Depression Anxiety Stress Scale (DASS), and Profile of Mood States (POMS) questionnaires. Results Vegetarians (VEG:n = 60) reported significantly less negative emotion than omnivores (OMN:n = 78) as measured by both mean total DASS and POMS scores (8.32 ± 0.88 vs 17.51 ± 1.88, p = .000 and 0.10 ± 1.99 vs 15.33 ± 3.10, p = .007, respectively). VEG reported significantly lower mean intakes of EPA (p < .001), DHA (p < .001), as well as the omega-6 fatty acid, arachidonic acid (AA; p < .001), and reported higher mean intakes of shorter-chain α-linolenic acid (p < .001) and linoleic acid (p < .001) than OMN. Mean total DASS and POMS scores were positively related to mean intakes of EPA (p < 0.05), DHA (p < 0.05), and AA (p < 0.05), and inversely related to intakes of ALA (p < 0.05), and LA (p < 0.05), indicating that participants with low intakes of EPA, DHA, and AA and high intakes of ALA and LA had better mood. Conclusions The vegetarian diet profile does not appear to adversely affect mood despite low intake of long-chain omega-3 fatty acids.',\n",
       "  'negatives': ['BACKGROUND: Meat intake may be related to weight gain because of its high energy and fat content. Some observational studies have shown that meat consumption is positively associated with weight gain, but intervention studies have shown mixed results. OBJECTIVE: Our objective was to assess the association between consumption of total meat, red meat, poultry, and processed meat and weight gain after 5 y of follow-up, on average, in the large European population who participated in the European Prospective Investigation into Cancer and Nutrition-Physical Activity, Nutrition, Alcohol, Cessation of Smoking, Eating Out of Home and Obesity (EPIC-PANACEA) project. DESIGN: A total of 103,455 men and 270,348 women aged 25-70 y were recruited between 1992 and 2000 in 10 European countries. Diet was assessed at baseline with the use of country-specific validated questionnaires. A dietary calibration study was conducted in a representative subsample of the cohort. Weight and height were measured at baseline and self-reported at follow-up in most centers. Associations between energy from meat (kcal/d) and annual weight change (g/y) were assessed with the use of linear mixed models, controlled for age, sex, total energy intake, physical activity, dietary patterns, and other potential confounders. RESULTS: Total meat consumption was positively associated with weight gain in men and women, in normal-weight and overweight subjects, and in smokers and nonsmokers. With adjustment for estimated energy intake, an increase in meat intake of 250 g/d (eg, one steak at approximately 450 kcal) would lead to a 2-kg higher weight gain after 5 y (95% CI: 1.5, 2.7 kg). Positive associations were observed for red meat, poultry, and processed meat. CONCLUSION: Our results suggest that a decrease in meat consumption may improve weight management.',\n",
       "   'Ciguatera fish poisoning (CFP) is a distinctive type of foodborne disease that results from eating predatory ocean fish contaminated with ciguatoxins. As many as 50,000 cases are reported worldwide annually, and the condition is endemic in tropical and subtropical regions of the Pacific basin, Indian Ocean, and Caribbean. In the United States, 5--70 cases per 10,000 persons are estimated to occur yearly in ciguatera-endemic states and territories. CFP can cause gastrointestinal symptoms (nausea, vomiting, abdominal cramps, or diarrhea) within a few hours of eating contaminated fish. Neurologic symptoms, with or without gastrointestinal disturbance, can include fatigue, muscle pain, itching, tingling, and (most characteristically) reversal of hot and cold sensation. This report describes a cluster of nine cases of CFP that occurred in North Carolina in June 2007. Among the nine patients, six experienced reversal of hot and cold sensations, five had neurologic symptoms only, and overall symptoms persisted for more than 6 months in three patients. Among seven patients who were sexually active, six patients also complained of painful intercourse. This report highlights the potential risks of eating contaminated ocean fish. Local and state health departments can train emergency and urgent care physicians in the recognition of CFP and make them aware that symptoms can persist for months to years.',\n",
       "   'A cross-sectional survey was conducted in order to describe the use of oral cobalamin among geriatricians, hematologists, and general practitioners, and to explore factors related to its use. The study population consisted of all geriatricians (n = 138) and hematologists (n = 317) listed in the Canadian Medical Directory plus a random sample of 307 general practitioners. The overall response rate was 40%. Intramuscular and oral cobalamin was prescribed by 76 and 32% of the respondents, respectively. Twenty seven percent reported using both oral and intramuscular cobalamin and 6% reported using only oral cobalamin. Only 25% of respondents indicated they were aware of a RCT demonstrating the efficacy of oral cobalamin prior to reading a synopsis of the study in the survey. After multivariate adjustment, only the belief that oral cobalamin was effective and certainty about who carried oral preparations remained independently associated with oral cobalamin use. Oral cobalamin has been shown to be an efficacious, cost efficient and safe method of treating cobalamin deficiency. Nonetheless, it is not used by the majority of physicians treating this condition. Strategies to promote the use of oral cobalamin should be directed at educating physicians of its efficacy and providing them with prescribing information on where it can be purchased.',\n",
       "   'Phleboliths, and especially diverticular disease and hiatus hernia, are rarer in developing countries than in economically more developed communities, but all three conditions were as common in Black as in White Americans. This finding suggests that they are due to environmental rather than to genetic causes. A deficient intake of dietary fibre may be the common factor predisposing to these three conditions.',\n",
       "   'OBJECTIVE: Weight loss and consumption of viscous fibers both lower low-density lipoprotein (LDL) cholesterol levels. We evaluated whether or not a whole-grain, ready-to-eat (RTE) oat cereal containing viscous fiber, as part of a dietary program for weight loss, lowers LDL cholesterol levels and improves other cardiovascular disease risk markers more than a dietary program alone. DESIGN: Randomized, parallel-arm, controlled trial. SUBJECTS/SETTING: Free-living, overweight and obese adults (N=204, body mass index 25 to 45) with baseline LDL cholesterol levels 130 to 200 mg/dL (3.4 to 5.2 mmol/L) were randomized; 144 were included in the main analysis of participants who completed the trial without significant protocol violations. INTERVENTION: Two portions per day of whole-grain RTE oat cereal (3 g/day oat b-glucan) or energy-matched low-fiber foods (control), as part of a reduced energy ( approximately 500 kcal/day deficit) dietary program that encouraged limiting consumption of foods high in energy and fat, portion control, and regular physical activity. MAIN OUTCOME MEASURES: Fasting lipoprotein levels, waist circumference, triceps skinfold thickness, and body weight were measured at baseline and weeks 4, 8, 10, and 12. RESULTS: LDL cholesterol level was reduced significantly more with whole-grain RTE oat cereal vs control (-8.7+/-1.0 vs -4.3+/-1.1%, P=0.005). Total cholesterol (-5.4+/-0.8 vs -2.9+/-0.9%, P=0.038) and non-high-density lipoprotein-cholesterol (-6.3+/-1.0 vs -3.3+/-1.1%, P=0.046) were also lowered significantly more with whole-grain RTE oat cereal, whereas high-density lipoprotein and triglyceride responses did not differ between groups. Weight loss was not different between groups (-2.2+/-0.3 vs -1.7+/-0.3 kg, P=0.325), but waist circumference decreased more (-3.3+/-0.4 vs -1.9+/-0.4 cm, P=0.012) with whole-grain RTE oat cereal. Larger reductions in LDL, total, and non-high-density lipoprotein cholesterol levels and waist circumference were evident as early as week 4 in the whole-grain RTE oat cereal group. CONCLUSIONS: Consumption of a whole-grain RTE oat cereal as part of a dietary program for weight loss had favorable effects on fasting lipid levels and waist circumference. Copyright 2010 American Dietetic Association. Published by Elsevier Inc. All rights reserved.']},\n",
       " {'anchor': 'Who Should be Careful About Curcumin?',\n",
       "  'positive': 'Background The physical health status of vegetarians has been extensively reported, but there is limited research regarding the mental health status of vegetarians, particularly with regard to mood. Vegetarian diets exclude fish, the major dietary source of eicosapentaenoic acid (EPA) and docosahexaenoic acid (DHA), critical regulators of brain cell structure and function. Omnivorous diets low in EPA and DHA are linked to impaired mood states in observational and experimental studies. Methods We examined associations between mood state and polyunsaturated fatty acid intake as a result of adherence to a vegetarian or omnivorous diet in a cross-sectional study of 138 healthy Seventh Day Adventist men and women residing in the Southwest. Participants completed a quantitative food frequency questionnaire, Depression Anxiety Stress Scale (DASS), and Profile of Mood States (POMS) questionnaires. Results Vegetarians (VEG:n = 60) reported significantly less negative emotion than omnivores (OMN:n = 78) as measured by both mean total DASS and POMS scores (8.32 ± 0.88 vs 17.51 ± 1.88, p = .000 and 0.10 ± 1.99 vs 15.33 ± 3.10, p = .007, respectively). VEG reported significantly lower mean intakes of EPA (p < .001), DHA (p < .001), as well as the omega-6 fatty acid, arachidonic acid (AA; p < .001), and reported higher mean intakes of shorter-chain α-linolenic acid (p < .001) and linoleic acid (p < .001) than OMN. Mean total DASS and POMS scores were positively related to mean intakes of EPA (p < 0.05), DHA (p < 0.05), and AA (p < 0.05), and inversely related to intakes of ALA (p < 0.05), and LA (p < 0.05), indicating that participants with low intakes of EPA, DHA, and AA and high intakes of ALA and LA had better mood. Conclusions The vegetarian diet profile does not appear to adversely affect mood despite low intake of long-chain omega-3 fatty acids.',\n",
       "  'negatives': ['Over the past 10years there has been ongoing development of curing processes with natural ingredients designed to meet consumer demand and regulatory requirements for natural and organic processed meats. Initially, these processes utilized celery concentrates with a high nitrate content combined with a nitrate-reducing starter culture. Subsequent advances included celery concentrates with the nitrate converted to nitrite by suppliers. Further, as questions developed concerning reduced concentration of preservatives and the microbiological safety of these processed meats, additional advances have resulted in a wide variety of ingredients and processes designed to provide supplementary antimicrobial effects for improved product safety. Copyright © 2012 Elsevier Ltd. All rights reserved.',\n",
       "   'BACKGROUND: Prostate cancer is the most common solid-tumor cancer in US males but is rare in Asian males. When Asian men adopt the US lifestyle, clinical prostate cancer increases greatly. Epidemiological data from men in the US indicate that regular activity may reduce the risk for prostate cancer. METHODS: Serum was obtained from three groups of similar-aged men, Control, Diet and Exercise, and Exercise alone were used to stimulate LNCaP cells in culture. Growth and apoptosis of tumor cells were measured. Serum samples were also used to measure insulin, IGF-1, IGFBP-1. RESULTS: The Diet and Exercise and the Exercise alone groups had lower serum insulin and IGF-1 but higher IGFBP-1 compared to Controls. LNCaP cell growth was reduced in both groups compared to Control and there was a major increase in apoptosis of tumor cells. CONCLUSIONS: A low-fat diet and/or intensive exercise results in change in serum hormones and growth factors in vivo that can reduce growth and induce apoptosis of LNCaP prostate tumor cells in vitro. Copyright 2003 Wiley-Liss, Inc.',\n",
       "   'In the 21st century, human aging will be one of the biggest challenges for most societies throughout the world. The decline in human fitness is a typical hallmark of the aging process. Aside from the cardiovascular system, the brain most often suffers significantly from the life-long impact of stressors, such as reactive oxygen and nitrogen species. Oxytosis, i.e. oxidative stress-induced cell death, has been identified to play a major role in the development and onset of chronic diseases. Foods, especially of plant origin, are rich in antioxidants and numerous in vivo data suggest that a diet rich in fruits and vegetables supports the maintenance of animal and human health. These beneficial effects also extend to the central nervous system, which, due to the presence of the blood-brain barrier, tightly controls the influx of metabolites and nutrients. In earlier studies the impact of antioxidant vitamins, such as alpha-tocopherol and ascorbic acid, on brain health has been of interest. Recently, the focus moved to assessing the potential of unsaturated fatty acids and secondary plant metabolites, particularly of polyphenols, to act as neuroprotectants. Considerable experimental evidence suggests that polyphenols and other plant-derived bioactivities affect animal and human brain function not only by directly lowering oxidative stress load but also by modulating various signal transduction pathways.',\n",
       "   'Background Some people who suffer an upper gastrointestinal bleed or perforation die. The mortality rate was estimated at 12% in studies published before 1997, but a systematic survey of more recent data is needed. Better treatment is likely to have reduced mortality. An estimate of mortality is helpful in explaining to patients the risks of therapy, especially with NSAIDs. Methods A systematic review of studies published before 1997, and between 1997 and 2008. Any study architecture was acceptable if it reported on cases who died from any cause of upper gastrointestinal bleed or perforation. Analyses were conducted separately for all cases, and those prescribed NSAID or aspirin. Results Information was available for 61,067 cases (81% published since 1997) of whom 5,001 died. The mortality rate in all cases fell significantly, from 11.6% (95% confidence interval, 11.0 to 12.2) in pre-1997 studies to 7.4% (7.2 to 7.6) in those published since 1997. In 5,526 patients taking NSAID or aspirin, mortality increased, from 14.7% (13.6 to 15.8) before 1997 to 20.9% (18.8 to 22.9) since 1997. Conclusion Upper gastrointestinal bleed or perforation still carries a finite risk of death. Differences in study architecture, population characteristics, risk factors, definition of mortality, and reporting of outcomes impose limitations on interpreting effect size. Data published since 1997 suggest that mortality in patients suffering from an upper gastrointestinal bleed or perforation has fallen to 1 in 13 overall, but remains higher at about 1 in 5 in those exposed to NSAID or aspirin.',\n",
       "   'In 2011, the protease inhibitors boceprevir and telaprevir were approved in the United States and European Union for the treatment of hepatitis C infection. While remarkably effective, the newly approved therapies are also accompanied by additional side effects and considerable costs. Understanding the balance between costs and effectiveness is critical to making decisions about the optimal use of these new agents, especially for health care systems constrained by rising costs. Our goal for this review is to facilitate an understanding of the importance of cost-effectiveness analyses in guiding policy decisions about the use of newly approved drugs as well as future therapies for hepatitis C.']}]"
      ]
     },
     "execution_count": 5,
     "metadata": {},
     "output_type": "execute_result"
    }
   ],
   "source": [
    "contrastive_pairs[0:5]"
   ]
  },
  {
   "cell_type": "code",
   "execution_count": 6,
   "id": "49721946-fff3-4690-bd92-d981cecdf62b",
   "metadata": {
    "execution": {
     "iopub.execute_input": "2025-03-02T11:05:54.851642Z",
     "iopub.status.busy": "2025-03-02T11:05:54.851259Z",
     "iopub.status.idle": "2025-03-02T11:05:54.867097Z",
     "shell.execute_reply": "2025-03-02T11:05:54.866728Z"
    },
    "papermill": {
     "duration": 0.019482,
     "end_time": "2025-03-02T11:05:54.867697",
     "exception": false,
     "start_time": "2025-03-02T11:05:54.848215",
     "status": "completed"
    },
    "tags": []
   },
   "outputs": [
    {
     "data": {
      "text/plain": [
       "0"
      ]
     },
     "execution_count": 6,
     "metadata": {},
     "output_type": "execute_result"
    }
   ],
   "source": [
    "c"
   ]
  },
  {
   "cell_type": "code",
   "execution_count": 7,
   "id": "de8ef367-dcb4-4bb6-af3a-20f190930ed1",
   "metadata": {
    "execution": {
     "iopub.execute_input": "2025-03-02T11:05:54.874870Z",
     "iopub.status.busy": "2025-03-02T11:05:54.874740Z",
     "iopub.status.idle": "2025-03-02T11:05:54.887347Z",
     "shell.execute_reply": "2025-03-02T11:05:54.887007Z"
    },
    "papermill": {
     "duration": 0.016656,
     "end_time": "2025-03-02T11:05:54.887913",
     "exception": false,
     "start_time": "2025-03-02T11:05:54.871257",
     "status": "completed"
    },
    "tags": []
   },
   "outputs": [
    {
     "data": {
      "text/plain": [
       "323"
      ]
     },
     "execution_count": 7,
     "metadata": {},
     "output_type": "execute_result"
    }
   ],
   "source": [
    "len(contrastive_pairs)"
   ]
  },
  {
   "cell_type": "code",
   "execution_count": 8,
   "id": "8ade92f9-e3df-4d0a-b849-b1a721e18cf6",
   "metadata": {
    "execution": {
     "iopub.execute_input": "2025-03-02T11:05:54.894313Z",
     "iopub.status.busy": "2025-03-02T11:05:54.894187Z",
     "iopub.status.idle": "2025-03-02T11:05:54.907482Z",
     "shell.execute_reply": "2025-03-02T11:05:54.906963Z"
    },
    "papermill": {
     "duration": 0.01716,
     "end_time": "2025-03-02T11:05:54.908029",
     "exception": false,
     "start_time": "2025-03-02T11:05:54.890869",
     "status": "completed"
    },
    "tags": []
   },
   "outputs": [
    {
     "data": {
      "text/plain": [
       "323"
      ]
     },
     "execution_count": 8,
     "metadata": {},
     "output_type": "execute_result"
    }
   ],
   "source": [
    "len(qrels)"
   ]
  },
  {
   "cell_type": "code",
   "execution_count": 9,
   "id": "6b97f7b4-f007-41f6-bfbb-1b9b01665e9d",
   "metadata": {
    "execution": {
     "iopub.execute_input": "2025-03-02T11:05:54.914698Z",
     "iopub.status.busy": "2025-03-02T11:05:54.914337Z",
     "iopub.status.idle": "2025-03-02T11:05:54.926510Z",
     "shell.execute_reply": "2025-03-02T11:05:54.926150Z"
    },
    "papermill": {
     "duration": 0.01603,
     "end_time": "2025-03-02T11:05:54.927099",
     "exception": false,
     "start_time": "2025-03-02T11:05:54.911069",
     "status": "completed"
    },
    "tags": []
   },
   "outputs": [],
   "source": [
    "from torch.utils.data import DataLoader"
   ]
  },
  {
   "cell_type": "code",
   "execution_count": 10,
   "id": "a415b29a-a543-4679-8f78-44f715b3067d",
   "metadata": {
    "execution": {
     "iopub.execute_input": "2025-03-02T11:05:54.933735Z",
     "iopub.status.busy": "2025-03-02T11:05:54.933607Z",
     "iopub.status.idle": "2025-03-02T11:05:54.947417Z",
     "shell.execute_reply": "2025-03-02T11:05:54.947025Z"
    },
    "papermill": {
     "duration": 0.017767,
     "end_time": "2025-03-02T11:05:54.948052",
     "exception": false,
     "start_time": "2025-03-02T11:05:54.930285",
     "status": "completed"
    },
    "tags": []
   },
   "outputs": [],
   "source": [
    "class ContrastiveDataset:\n",
    "    def __init__(self, pairs):\n",
    "        self.pairs = pairs\n",
    "\n",
    "    def __len__(self):\n",
    "        return len(self.pairs)\n",
    "\n",
    "    def __getitem__(self, idx):\n",
    "        item = self.pairs[idx]\n",
    "        return item[\"anchor\"], item[\"positive\"], item[\"negatives\"]"
   ]
  },
  {
   "cell_type": "code",
   "execution_count": 11,
   "id": "a39efeab-fd20-411a-80c5-315f362e00d2",
   "metadata": {
    "execution": {
     "iopub.execute_input": "2025-03-02T11:05:54.955114Z",
     "iopub.status.busy": "2025-03-02T11:05:54.954771Z",
     "iopub.status.idle": "2025-03-02T11:05:54.967344Z",
     "shell.execute_reply": "2025-03-02T11:05:54.966979Z"
    },
    "papermill": {
     "duration": 0.016755,
     "end_time": "2025-03-02T11:05:54.967919",
     "exception": false,
     "start_time": "2025-03-02T11:05:54.951164",
     "status": "completed"
    },
    "tags": []
   },
   "outputs": [],
   "source": [
    "contrastive_dataset = ContrastiveDataset(contrastive_pairs)"
   ]
  },
  {
   "cell_type": "code",
   "execution_count": 12,
   "id": "d103bbfa-895a-4020-a7e5-21de659f27dc",
   "metadata": {
    "execution": {
     "iopub.execute_input": "2025-03-02T11:05:54.974401Z",
     "iopub.status.busy": "2025-03-02T11:05:54.974277Z",
     "iopub.status.idle": "2025-03-02T11:05:54.987769Z",
     "shell.execute_reply": "2025-03-02T11:05:54.987399Z"
    },
    "papermill": {
     "duration": 0.017466,
     "end_time": "2025-03-02T11:05:54.988400",
     "exception": false,
     "start_time": "2025-03-02T11:05:54.970934",
     "status": "completed"
    },
    "tags": []
   },
   "outputs": [],
   "source": [
    "data_loader = DataLoader(contrastive_dataset, batch_size=32, shuffle=True)"
   ]
  },
  {
   "cell_type": "code",
   "execution_count": 13,
   "id": "c8b0277f-f526-4087-82da-c4cdd65d32da",
   "metadata": {
    "execution": {
     "iopub.execute_input": "2025-03-02T11:05:54.994936Z",
     "iopub.status.busy": "2025-03-02T11:05:54.994774Z",
     "iopub.status.idle": "2025-03-02T11:05:55.007883Z",
     "shell.execute_reply": "2025-03-02T11:05:55.007546Z"
    },
    "papermill": {
     "duration": 0.016965,
     "end_time": "2025-03-02T11:05:55.008428",
     "exception": false,
     "start_time": "2025-03-02T11:05:54.991463",
     "status": "completed"
    },
    "tags": []
   },
   "outputs": [
    {
     "data": {
      "text/plain": [
       "11"
      ]
     },
     "execution_count": 13,
     "metadata": {},
     "output_type": "execute_result"
    }
   ],
   "source": [
    "len(data_loader)"
   ]
  },
  {
   "cell_type": "code",
   "execution_count": null,
   "id": "e15526a4-b3fe-435b-91c9-ad4064562f0f",
   "metadata": {
    "papermill": {
     "duration": null,
     "end_time": null,
     "exception": false,
     "start_time": "2025-03-02T11:05:55.011639",
     "status": "running"
    },
    "tags": []
   },
   "outputs": [],
   "source": [
    "import torch\n",
    "file_path=\"/dss/dsshome1/07/ra65bex2/srawat/contrastive_learning/v1.1/app_baseline/checkpoint_epoch_3.pth\"\n",
    "lora_model = torch.load(file_path)"
   ]
  },
  {
   "cell_type": "code",
   "execution_count": null,
   "id": "9999e628-5966-4dda-b5c5-c0d762fce27d",
   "metadata": {
    "papermill": {
     "duration": null,
     "end_time": null,
     "exception": null,
     "start_time": null,
     "status": "pending"
    },
    "tags": []
   },
   "outputs": [],
   "source": [
    "device = torch.device('cuda' if torch.cuda.is_available() else 'cpu')\n",
    "lora_model = lora_model.to(device)"
   ]
  },
  {
   "cell_type": "code",
   "execution_count": null,
   "id": "7e6a3a61-8db0-43db-b575-6399f8515950",
   "metadata": {
    "papermill": {
     "duration": null,
     "end_time": null,
     "exception": null,
     "start_time": null,
     "status": "pending"
    },
    "tags": []
   },
   "outputs": [],
   "source": [
    "from transformers import AutoTokenizer, AutoModel\n",
    "tokenizer = AutoTokenizer.from_pretrained(\"bert-base-uncased\")"
   ]
  },
  {
   "cell_type": "code",
   "execution_count": null,
   "id": "68ac4919-76f1-4349-a314-4b1061126655",
   "metadata": {
    "papermill": {
     "duration": null,
     "end_time": null,
     "exception": null,
     "start_time": null,
     "status": "pending"
    },
    "tags": []
   },
   "outputs": [],
   "source": [
    "def cosine_distance(x, y):\n",
    "    return 1 - torch.nn.functional.cosine_similarity(x, y, dim=-1)"
   ]
  },
  {
   "cell_type": "code",
   "execution_count": null,
   "id": "990f63bd-4d48-4f58-a001-3b3250f65312",
   "metadata": {
    "papermill": {
     "duration": null,
     "end_time": null,
     "exception": null,
     "start_time": null,
     "status": "pending"
    },
    "tags": []
   },
   "outputs": [],
   "source": [
    "def evaluate_mrr(model, data_loader_val, distance_fn):\n",
    "    model.eval()\n",
    "\n",
    "    total_rr = 0.0\n",
    "    num_queries = 0\n",
    "\n",
    "    with torch.no_grad():\n",
    "        for batch in data_loader_val:\n",
    "            anchor_text = batch[0]\n",
    "            positive_text = batch[1]\n",
    "            negative_texts = batch[2]\n",
    "\n",
    "            anchor_input = tokenizer(anchor_text, return_tensors='pt', padding=True, truncation=True, max_length=512).to(device)\n",
    "            positive_input = tokenizer(positive_text, return_tensors='pt', padding=True, truncation=True, max_length=512).to(device)\n",
    "\n",
    "            anchor_embedding = model(**anchor_input).last_hidden_state[:, 0, :]\n",
    "            positive_embedding = model(**positive_input).last_hidden_state[:, 0, :]\n",
    "            negative_embedding = [model(**tokenizer(neg, return_tensors='pt', padding=True, truncation=True, max_length=512).to(device)).last_hidden_state[:, 0, :] for neg in negative_texts]\n",
    "\n",
    "            pos_dist = distance_fn(anchor_embedding, positive_embedding)\n",
    "            neg_dist = torch.stack([distance_fn(anchor_embedding, neg) for neg in negative_embedding], dim=-1)\n",
    "            all_similarities=torch.cat([-pos_dist.unsqueeze(1), -neg_dist], dim=1)\n",
    "\n",
    "            sorted_similarities, sorted_indices = torch.sort(all_similarities, dim=1, descending=True)\n",
    "\n",
    "            # Find the rank of the first relevant (positive) document\n",
    "            positive_rank = (sorted_indices == 0).nonzero(as_tuple=True)[1] + 1  # +1 to make rank 1-based\n",
    "            total_rr += torch.sum(1.0 / positive_rank.float()).item()  # Reciprocal rank\n",
    "            num_queries += len(positive_rank)\n",
    "\n",
    "    mrr = total_rr / num_queries\n",
    "    return mrr"
   ]
  },
  {
   "cell_type": "code",
   "execution_count": null,
   "id": "534a9ec5-4211-4cb6-81f1-fb8a30caff92",
   "metadata": {
    "papermill": {
     "duration": null,
     "end_time": null,
     "exception": null,
     "start_time": null,
     "status": "pending"
    },
    "tags": []
   },
   "outputs": [],
   "source": [
    "mrr_validation = evaluate_mrr(lora_model, data_loader, cosine_distance)\n",
    "print(mrr_validation)"
   ]
  },
  {
   "cell_type": "code",
   "execution_count": null,
   "id": "f61bbd65-41c9-4ac7-80ef-ba4a4fb02d45",
   "metadata": {
    "papermill": {
     "duration": null,
     "end_time": null,
     "exception": null,
     "start_time": null,
     "status": "pending"
    },
    "tags": []
   },
   "outputs": [],
   "source": []
  }
 ],
 "metadata": {
  "kernelspec": {
   "display_name": "Python (myenv)",
   "language": "python",
   "name": "myenv"
  },
  "language_info": {
   "codemirror_mode": {
    "name": "ipython",
    "version": 3
   },
   "file_extension": ".py",
   "mimetype": "text/x-python",
   "name": "python",
   "nbconvert_exporter": "python",
   "pygments_lexer": "ipython3",
   "version": "3.12.7"
  },
  "papermill": {
   "default_parameters": {},
   "duration": null,
   "end_time": null,
   "environment_variables": {},
   "exception": null,
   "input_path": "NFcorpus.ipynb",
   "output_path": "NFcorpus_output.ipynb",
   "parameters": {},
   "start_time": "2025-03-02T11:05:47.972348",
   "version": "2.6.0"
  }
 },
 "nbformat": 4,
 "nbformat_minor": 5
}