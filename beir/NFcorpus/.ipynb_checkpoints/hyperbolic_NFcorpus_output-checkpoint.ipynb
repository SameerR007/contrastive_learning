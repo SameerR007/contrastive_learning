{
 "cells": [
  {
   "cell_type": "code",
   "execution_count": 1,
   "id": "f6d4b65f-fa6b-4517-8694-8627bc49833b",
   "metadata": {
    "execution": {
     "iopub.execute_input": "2025-03-02T11:06:48.174688Z",
     "iopub.status.busy": "2025-03-02T11:06:48.174544Z",
     "iopub.status.idle": "2025-03-02T11:06:48.234906Z",
     "shell.execute_reply": "2025-03-02T11:06:48.234424Z"
    },
    "papermill": {
     "duration": 0.064309,
     "end_time": "2025-03-02T11:06:48.235780",
     "exception": false,
     "start_time": "2025-03-02T11:06:48.171471",
     "status": "completed"
    },
    "tags": []
   },
   "outputs": [
    {
     "name": "stderr",
     "output_type": "stream",
     "text": [
      "/dss/dsshome1/07/ra65bex2/srawat/myenv/lib/python3.12/site-packages/beir/datasets/data_loader.py:8: TqdmExperimentalWarning: Using `tqdm.autonotebook.tqdm` in notebook mode. Use `tqdm.tqdm` instead to force console mode (e.g. in jupyter console)\n",
      "  from tqdm.autonotebook import tqdm\n"
     ]
    }
   ],
   "source": [
    "from beir.datasets.data_loader import GenericDataLoader"
   ]
  },
  {
   "cell_type": "code",
   "execution_count": 2,
   "id": "a91d6914-e301-422c-b839-1fafeb1e8fa4",
   "metadata": {
    "execution": {
     "iopub.execute_input": "2025-03-02T11:06:48.241043Z",
     "iopub.status.busy": "2025-03-02T11:06:48.240671Z",
     "iopub.status.idle": "2025-03-02T11:06:50.596397Z",
     "shell.execute_reply": "2025-03-02T11:06:50.595920Z"
    },
    "papermill": {
     "duration": 2.35912,
     "end_time": "2025-03-02T11:06:50.597331",
     "exception": false,
     "start_time": "2025-03-02T11:06:48.238211",
     "status": "completed"
    },
    "tags": []
   },
   "outputs": [],
   "source": [
    "from beir import util\n",
    "dataset = \"arguana\"\n",
    "url = f\"https://public.ukp.informatik.tu-darmstadt.de/thakur/BEIR/datasets/{dataset}.zip\"\n",
    "data_path = f\"/dss/dsshome1/07/ra65bex2/srawat/{dataset}\"\n",
    "\n",
    "# Download and unzip the dataset\n",
    "data_path = util.download_and_unzip(url, data_path)"
   ]
  },
  {
   "cell_type": "code",
   "execution_count": 3,
   "id": "41e17333-2c34-4b7b-91f6-3cbd3972f0d6",
   "metadata": {
    "execution": {
     "iopub.execute_input": "2025-03-02T11:06:50.604954Z",
     "iopub.status.busy": "2025-03-02T11:06:50.604682Z",
     "iopub.status.idle": "2025-03-02T11:06:50.690791Z",
     "shell.execute_reply": "2025-03-02T11:06:50.690372Z"
    },
    "papermill": {
     "duration": 0.089502,
     "end_time": "2025-03-02T11:06:50.691478",
     "exception": false,
     "start_time": "2025-03-02T11:06:50.601976",
     "status": "completed"
    },
    "tags": []
   },
   "outputs": [
    {
     "data": {
      "application/vnd.jupyter.widget-view+json": {
       "model_id": "9eed63c8ac2d4a4b9ff70371002900ea",
       "version_major": 2,
       "version_minor": 0
      },
      "text/plain": [
       "  0%|          | 0/8674 [00:00<?, ?it/s]"
      ]
     },
     "metadata": {},
     "output_type": "display_data"
    }
   ],
   "source": [
    "corpus, queries, qrels = GenericDataLoader(data_path).load(split=\"test\")"
   ]
  },
  {
   "cell_type": "code",
   "execution_count": 4,
   "id": "a29044d5-3952-4f3d-aa43-e1efd34fcad3",
   "metadata": {
    "execution": {
     "iopub.execute_input": "2025-03-02T11:06:50.696876Z",
     "iopub.status.busy": "2025-03-02T11:06:50.696350Z",
     "iopub.status.idle": "2025-03-02T11:06:51.636624Z",
     "shell.execute_reply": "2025-03-02T11:06:51.636169Z"
    },
    "papermill": {
     "duration": 0.943453,
     "end_time": "2025-03-02T11:06:51.637258",
     "exception": false,
     "start_time": "2025-03-02T11:06:50.693805",
     "status": "completed"
    },
    "tags": []
   },
   "outputs": [],
   "source": [
    "contrastive_pairs=[]\n",
    "import random\n",
    "c=0\n",
    "for query_id, relevant_docs in qrels.items():\n",
    "    try:\n",
    "        query_text = queries[query_id]\n",
    "        for doc_id in relevant_docs:\n",
    "            positive = corpus[doc_id][\"text\"]\n",
    "        #print(relevant_docs)\n",
    "        positive_doc_ids = set(relevant_docs)\n",
    "        all_doc_ids = set(corpus.keys())\n",
    "        negative_doc_ids = all_doc_ids - positive_doc_ids\n",
    "        negative_doc_ids=list(negative_doc_ids)\n",
    "        negative_doc_samples = random.sample(negative_doc_ids, k=5)\n",
    "        negatives=[]\n",
    "        for neg_doc_id in negative_doc_samples:\n",
    "            negative_doc_text = corpus[neg_doc_id][\"text\"]\n",
    "            negatives.append(negative_doc_text)\n",
    "        contrastive_pairs.append({\n",
    "            \"anchor\": query_text,\n",
    "            \"positive\": positive,\n",
    "            \"negatives\": negatives\n",
    "        })\n",
    "    except:\n",
    "        c=c+1"
   ]
  },
  {
   "cell_type": "code",
   "execution_count": 5,
   "id": "49721946-fff3-4690-bd92-d981cecdf62b",
   "metadata": {
    "execution": {
     "iopub.execute_input": "2025-03-02T11:06:51.642753Z",
     "iopub.status.busy": "2025-03-02T11:06:51.642383Z",
     "iopub.status.idle": "2025-03-02T11:06:51.645519Z",
     "shell.execute_reply": "2025-03-02T11:06:51.645158Z"
    },
    "papermill": {
     "duration": 0.00649,
     "end_time": "2025-03-02T11:06:51.646070",
     "exception": false,
     "start_time": "2025-03-02T11:06:51.639580",
     "status": "completed"
    },
    "tags": []
   },
   "outputs": [
    {
     "data": {
      "text/plain": [
       "5"
      ]
     },
     "execution_count": 5,
     "metadata": {},
     "output_type": "execute_result"
    }
   ],
   "source": [
    "c"
   ]
  },
  {
   "cell_type": "code",
   "execution_count": 6,
   "id": "de8ef367-dcb4-4bb6-af3a-20f190930ed1",
   "metadata": {
    "execution": {
     "iopub.execute_input": "2025-03-02T11:06:51.651148Z",
     "iopub.status.busy": "2025-03-02T11:06:51.650879Z",
     "iopub.status.idle": "2025-03-02T11:06:51.667308Z",
     "shell.execute_reply": "2025-03-02T11:06:51.666977Z"
    },
    "papermill": {
     "duration": 0.019541,
     "end_time": "2025-03-02T11:06:51.667867",
     "exception": false,
     "start_time": "2025-03-02T11:06:51.648326",
     "status": "completed"
    },
    "tags": []
   },
   "outputs": [
    {
     "data": {
      "text/plain": [
       "1401"
      ]
     },
     "execution_count": 6,
     "metadata": {},
     "output_type": "execute_result"
    }
   ],
   "source": [
    "len(contrastive_pairs)"
   ]
  },
  {
   "cell_type": "code",
   "execution_count": 7,
   "id": "8ade92f9-e3df-4d0a-b849-b1a721e18cf6",
   "metadata": {
    "execution": {
     "iopub.execute_input": "2025-03-02T11:06:51.673862Z",
     "iopub.status.busy": "2025-03-02T11:06:51.673582Z",
     "iopub.status.idle": "2025-03-02T11:06:51.688657Z",
     "shell.execute_reply": "2025-03-02T11:06:51.688314Z"
    },
    "papermill": {
     "duration": 0.01903,
     "end_time": "2025-03-02T11:06:51.689233",
     "exception": false,
     "start_time": "2025-03-02T11:06:51.670203",
     "status": "completed"
    },
    "tags": []
   },
   "outputs": [
    {
     "data": {
      "text/plain": [
       "1406"
      ]
     },
     "execution_count": 7,
     "metadata": {},
     "output_type": "execute_result"
    }
   ],
   "source": [
    "len(qrels)"
   ]
  },
  {
   "cell_type": "code",
   "execution_count": 8,
   "id": "6b97f7b4-f007-41f6-bfbb-1b9b01665e9d",
   "metadata": {
    "execution": {
     "iopub.execute_input": "2025-03-02T11:06:51.694716Z",
     "iopub.status.busy": "2025-03-02T11:06:51.694445Z",
     "iopub.status.idle": "2025-03-02T11:06:51.709696Z",
     "shell.execute_reply": "2025-03-02T11:06:51.709341Z"
    },
    "papermill": {
     "duration": 0.018583,
     "end_time": "2025-03-02T11:06:51.710265",
     "exception": false,
     "start_time": "2025-03-02T11:06:51.691682",
     "status": "completed"
    },
    "tags": []
   },
   "outputs": [],
   "source": [
    "from torch.utils.data import DataLoader"
   ]
  },
  {
   "cell_type": "code",
   "execution_count": 9,
   "id": "a415b29a-a543-4679-8f78-44f715b3067d",
   "metadata": {
    "execution": {
     "iopub.execute_input": "2025-03-02T11:06:51.715825Z",
     "iopub.status.busy": "2025-03-02T11:06:51.715555Z",
     "iopub.status.idle": "2025-03-02T11:06:51.730892Z",
     "shell.execute_reply": "2025-03-02T11:06:51.730532Z"
    },
    "papermill": {
     "duration": 0.018816,
     "end_time": "2025-03-02T11:06:51.731545",
     "exception": false,
     "start_time": "2025-03-02T11:06:51.712729",
     "status": "completed"
    },
    "tags": []
   },
   "outputs": [],
   "source": [
    "class ContrastiveDataset:\n",
    "    def __init__(self, pairs):\n",
    "        self.pairs = pairs\n",
    "\n",
    "    def __len__(self):\n",
    "        return len(self.pairs)\n",
    "\n",
    "    def __getitem__(self, idx):\n",
    "        item = self.pairs[idx]\n",
    "        return item[\"anchor\"], item[\"positive\"], item[\"negatives\"]"
   ]
  },
  {
   "cell_type": "code",
   "execution_count": 10,
   "id": "a39efeab-fd20-411a-80c5-315f362e00d2",
   "metadata": {
    "execution": {
     "iopub.execute_input": "2025-03-02T11:06:51.738865Z",
     "iopub.status.busy": "2025-03-02T11:06:51.738486Z",
     "iopub.status.idle": "2025-03-02T11:06:51.750922Z",
     "shell.execute_reply": "2025-03-02T11:06:51.750554Z"
    },
    "papermill": {
     "duration": 0.016413,
     "end_time": "2025-03-02T11:06:51.751569",
     "exception": false,
     "start_time": "2025-03-02T11:06:51.735156",
     "status": "completed"
    },
    "tags": []
   },
   "outputs": [],
   "source": [
    "contrastive_dataset = ContrastiveDataset(contrastive_pairs)"
   ]
  },
  {
   "cell_type": "code",
   "execution_count": 11,
   "id": "d103bbfa-895a-4020-a7e5-21de659f27dc",
   "metadata": {
    "execution": {
     "iopub.execute_input": "2025-03-02T11:06:51.757587Z",
     "iopub.status.busy": "2025-03-02T11:06:51.757235Z",
     "iopub.status.idle": "2025-03-02T11:06:51.772939Z",
     "shell.execute_reply": "2025-03-02T11:06:51.772548Z"
    },
    "papermill": {
     "duration": 0.019263,
     "end_time": "2025-03-02T11:06:51.773595",
     "exception": false,
     "start_time": "2025-03-02T11:06:51.754332",
     "status": "completed"
    },
    "tags": []
   },
   "outputs": [],
   "source": [
    "data_loader = DataLoader(contrastive_dataset, batch_size=32, shuffle=True)"
   ]
  },
  {
   "cell_type": "code",
   "execution_count": 12,
   "id": "c8b0277f-f526-4087-82da-c4cdd65d32da",
   "metadata": {
    "execution": {
     "iopub.execute_input": "2025-03-02T11:06:51.779356Z",
     "iopub.status.busy": "2025-03-02T11:06:51.779021Z",
     "iopub.status.idle": "2025-03-02T11:06:51.793497Z",
     "shell.execute_reply": "2025-03-02T11:06:51.793146Z"
    },
    "papermill": {
     "duration": 0.017938,
     "end_time": "2025-03-02T11:06:51.794078",
     "exception": false,
     "start_time": "2025-03-02T11:06:51.776140",
     "status": "completed"
    },
    "tags": []
   },
   "outputs": [
    {
     "data": {
      "text/plain": [
       "44"
      ]
     },
     "execution_count": 12,
     "metadata": {},
     "output_type": "execute_result"
    }
   ],
   "source": [
    "len(data_loader)"
   ]
  },
  {
   "cell_type": "code",
   "execution_count": 13,
   "id": "e15526a4-b3fe-435b-91c9-ad4064562f0f",
   "metadata": {
    "execution": {
     "iopub.execute_input": "2025-03-02T11:06:51.800162Z",
     "iopub.status.busy": "2025-03-02T11:06:51.799774Z",
     "iopub.status.idle": "2025-03-02T11:06:56.621628Z",
     "shell.execute_reply": "2025-03-02T11:06:56.621060Z"
    },
    "papermill": {
     "duration": 4.825778,
     "end_time": "2025-03-02T11:06:56.622565",
     "exception": false,
     "start_time": "2025-03-02T11:06:51.796787",
     "status": "completed"
    },
    "tags": []
   },
   "outputs": [
    {
     "name": "stderr",
     "output_type": "stream",
     "text": [
      "/tmp/ipykernel_2481655/3548975511.py:3: FutureWarning: You are using `torch.load` with `weights_only=False` (the current default value), which uses the default pickle module implicitly. It is possible to construct malicious pickle data which will execute arbitrary code during unpickling (See https://github.com/pytorch/pytorch/blob/main/SECURITY.md#untrusted-models for more details). In a future release, the default value for `weights_only` will be flipped to `True`. This limits the functions that could be executed during unpickling. Arbitrary objects will no longer be allowed to be loaded via this mode unless they are explicitly allowlisted by the user via `torch.serialization.add_safe_globals`. We recommend you start setting `weights_only=True` for any use case where you don't have full control of the loaded file. Please open an issue on GitHub for any issues related to this experimental feature.\n",
      "  lora_model = torch.load(file_path)\n"
     ]
    }
   ],
   "source": [
    "import torch\n",
    "file_path=\"/dss/dsshome1/07/ra65bex2/srawat/contrastive_learning/v1.1/0.1hyperbolic/hyperbolic_lora_checkpoint_epoch_3.pth\"\n",
    "lora_model = torch.load(file_path)"
   ]
  },
  {
   "cell_type": "code",
   "execution_count": 14,
   "id": "9999e628-5966-4dda-b5c5-c0d762fce27d",
   "metadata": {
    "execution": {
     "iopub.execute_input": "2025-03-02T11:06:56.633767Z",
     "iopub.status.busy": "2025-03-02T11:06:56.633358Z",
     "iopub.status.idle": "2025-03-02T11:06:56.638711Z",
     "shell.execute_reply": "2025-03-02T11:06:56.638354Z"
    },
    "papermill": {
     "duration": 0.009265,
     "end_time": "2025-03-02T11:06:56.639334",
     "exception": false,
     "start_time": "2025-03-02T11:06:56.630069",
     "status": "completed"
    },
    "tags": []
   },
   "outputs": [],
   "source": [
    "device = torch.device('cuda' if torch.cuda.is_available() else 'cpu')\n",
    "lora_model = lora_model.to(device)"
   ]
  },
  {
   "cell_type": "code",
   "execution_count": 15,
   "id": "7e6a3a61-8db0-43db-b575-6399f8515950",
   "metadata": {
    "execution": {
     "iopub.execute_input": "2025-03-02T11:06:56.645793Z",
     "iopub.status.busy": "2025-03-02T11:06:56.645198Z",
     "iopub.status.idle": "2025-03-02T11:06:56.851053Z",
     "shell.execute_reply": "2025-03-02T11:06:56.850562Z"
    },
    "papermill": {
     "duration": 0.20959,
     "end_time": "2025-03-02T11:06:56.851682",
     "exception": false,
     "start_time": "2025-03-02T11:06:56.642092",
     "status": "completed"
    },
    "tags": []
   },
   "outputs": [],
   "source": [
    "from transformers import AutoTokenizer, AutoModel\n",
    "tokenizer = AutoTokenizer.from_pretrained(\"bert-base-uncased\")"
   ]
  },
  {
   "cell_type": "code",
   "execution_count": 16,
   "id": "68ac4919-76f1-4349-a314-4b1061126655",
   "metadata": {
    "execution": {
     "iopub.execute_input": "2025-03-02T11:06:56.857798Z",
     "iopub.status.busy": "2025-03-02T11:06:56.857661Z",
     "iopub.status.idle": "2025-03-02T11:06:56.860349Z",
     "shell.execute_reply": "2025-03-02T11:06:56.860006Z"
    },
    "papermill": {
     "duration": 0.006497,
     "end_time": "2025-03-02T11:06:56.860969",
     "exception": false,
     "start_time": "2025-03-02T11:06:56.854472",
     "status": "completed"
    },
    "tags": []
   },
   "outputs": [],
   "source": [
    "def lorentzian_distance(x, y):\n",
    "    \n",
    "    dot_product = torch.sum(x * y, dim=-1)\n",
    "    norm_x = torch.norm(x, dim=-1)\n",
    "    norm_y = torch.norm(y, dim=-1)\n",
    "    \n",
    "    distance = torch.acosh(-dot_product + torch.sqrt((1 + norm_x**2) * (1 + norm_y**2)))\n",
    "    return distance"
   ]
  },
  {
   "cell_type": "code",
   "execution_count": 17,
   "id": "90e1a127-7622-4dcb-9765-7f7d7e0b751c",
   "metadata": {
    "execution": {
     "iopub.execute_input": "2025-03-02T11:06:56.867015Z",
     "iopub.status.busy": "2025-03-02T11:06:56.866767Z",
     "iopub.status.idle": "2025-03-02T11:06:56.881897Z",
     "shell.execute_reply": "2025-03-02T11:06:56.881542Z"
    },
    "papermill": {
     "duration": 0.018757,
     "end_time": "2025-03-02T11:06:56.882473",
     "exception": false,
     "start_time": "2025-03-02T11:06:56.863716",
     "status": "completed"
    },
    "tags": []
   },
   "outputs": [],
   "source": [
    "def expm_o(v, c=1.0):\n",
    "    c = torch.tensor(c)\n",
    "    vspace = v\n",
    "    vnorm = torch.norm(v, p=2, dim=-1, keepdim=True)\n",
    "    xspace = torch.sinh(torch.sqrt(c) * vnorm) * vspace / (torch.sqrt(c) * vnorm)\n",
    "    batch_min = xspace.min(dim=1, keepdim=True).values\n",
    "    batch_max = xspace.max(dim=1, keepdim=True).values\n",
    "    xspace_scaled=(xspace - batch_min) / (batch_max - batch_min)\n",
    "    return xspace_scaled"
   ]
  },
  {
   "cell_type": "code",
   "execution_count": 18,
   "id": "990f63bd-4d48-4f58-a001-3b3250f65312",
   "metadata": {
    "execution": {
     "iopub.execute_input": "2025-03-02T11:06:56.888648Z",
     "iopub.status.busy": "2025-03-02T11:06:56.888318Z",
     "iopub.status.idle": "2025-03-02T11:06:56.903644Z",
     "shell.execute_reply": "2025-03-02T11:06:56.903272Z"
    },
    "papermill": {
     "duration": 0.018956,
     "end_time": "2025-03-02T11:06:56.904220",
     "exception": false,
     "start_time": "2025-03-02T11:06:56.885264",
     "status": "completed"
    },
    "tags": []
   },
   "outputs": [],
   "source": [
    "def evaluate_mrr(model1, data_loader_val, distance_fn):\n",
    "    model1.eval()\n",
    "    \n",
    "    total_rr = 0.0\n",
    "    num_queries = 0\n",
    "\n",
    "    with torch.no_grad():\n",
    "        for batch in data_loader_val:\n",
    "            anchor_text = batch[0]\n",
    "            positive_text = batch[1]\n",
    "            negative_texts = batch[2]\n",
    "\n",
    "            anchor_input = tokenizer(anchor_text, return_tensors='pt', padding=True, truncation=True, max_length=512).to(device)\n",
    "            positive_input = tokenizer(positive_text, return_tensors='pt', padding=True, truncation=True, max_length=512).to(device)\n",
    "\n",
    "            anchor_embedding = expm_o(model1(**anchor_input).last_hidden_state[:, 0, :])\n",
    "            positive_embedding = expm_o(model1(**positive_input).last_hidden_state[:, 0, :])\n",
    "            negative_embedding = [expm_o(model1(**tokenizer(neg, return_tensors='pt', padding=True, truncation=True, max_length=512).to(device)).last_hidden_state[:, 0, :]) for neg in negative_texts]\n",
    "\n",
    "            pos_dist = distance_fn(anchor_embedding, positive_embedding)\n",
    "            neg_dist = torch.stack([distance_fn(anchor_embedding, neg) for neg in negative_embedding], dim=-1)\n",
    "            all_similarities=torch.cat([-pos_dist.unsqueeze(1), -neg_dist], dim=1)\n",
    "\n",
    "            sorted_similarities, sorted_indices = torch.sort(all_similarities, dim=1, descending=True)\n",
    "\n",
    "            # Find the rank of the first relevant (positive) document\n",
    "            positive_rank = (sorted_indices == 0).nonzero(as_tuple=True)[1] + 1  # +1 to make rank 1-based\n",
    "            total_rr += torch.sum(1.0 / positive_rank.float()).item()  # Reciprocal rank\n",
    "            num_queries += len(positive_rank)\n",
    "            \n",
    "    mrr = total_rr / num_queries\n",
    "    return mrr"
   ]
  },
  {
   "cell_type": "code",
   "execution_count": null,
   "id": "534a9ec5-4211-4cb6-81f1-fb8a30caff92",
   "metadata": {
    "papermill": {
     "duration": null,
     "end_time": null,
     "exception": false,
     "start_time": "2025-03-02T11:06:56.906937",
     "status": "running"
    },
    "tags": []
   },
   "outputs": [],
   "source": [
    "mrr_validation = evaluate_mrr(model1=lora_model, data_loader_val=data_loader,distance_fn=lorentzian_distance)\n",
    "print(mrr_validation)"
   ]
  },
  {
   "cell_type": "code",
   "execution_count": null,
   "id": "f61bbd65-41c9-4ac7-80ef-ba4a4fb02d45",
   "metadata": {
    "papermill": {
     "duration": null,
     "end_time": null,
     "exception": null,
     "start_time": null,
     "status": "pending"
    },
    "tags": []
   },
   "outputs": [],
   "source": []
  }
 ],
 "metadata": {
  "kernelspec": {
   "display_name": "Python (myenv)",
   "language": "python",
   "name": "myenv"
  },
  "language_info": {
   "codemirror_mode": {
    "name": "ipython",
    "version": 3
   },
   "file_extension": ".py",
   "mimetype": "text/x-python",
   "name": "python",
   "nbconvert_exporter": "python",
   "pygments_lexer": "ipython3",
   "version": "3.12.7"
  },
  "papermill": {
   "default_parameters": {},
   "duration": null,
   "end_time": null,
   "environment_variables": {},
   "exception": null,
   "input_path": "hyperbolic_NFcorpus.ipynb",
   "output_path": "hyperbolic_NFcorpus_output.ipynb",
   "parameters": {},
   "start_time": "2025-03-02T11:06:46.995680",
   "version": "2.6.0"
  }
 },
 "nbformat": 4,
 "nbformat_minor": 5
}