{
 "cells": [
  {
   "cell_type": "code",
   "execution_count": 1,
   "id": "f6d4b65f-fa6b-4517-8694-8627bc49833b",
   "metadata": {
    "execution": {
     "iopub.execute_input": "2025-03-02T14:50:43.768833Z",
     "iopub.status.busy": "2025-03-02T14:50:43.768591Z",
     "iopub.status.idle": "2025-03-02T14:50:43.882275Z",
     "shell.execute_reply": "2025-03-02T14:50:43.881963Z"
    },
    "papermill": {
     "duration": 0.11788,
     "end_time": "2025-03-02T14:50:43.882829",
     "exception": false,
     "start_time": "2025-03-02T14:50:43.764949",
     "status": "completed"
    },
    "tags": []
   },
   "outputs": [
    {
     "name": "stderr",
     "output_type": "stream",
     "text": [
      "/dss/dsshome1/07/ra65bex2/srawat/myenv/lib/python3.12/site-packages/beir/datasets/data_loader.py:8: TqdmExperimentalWarning: Using `tqdm.autonotebook.tqdm` in notebook mode. Use `tqdm.tqdm` instead to force console mode (e.g. in jupyter console)\n",
      "  from tqdm.autonotebook import tqdm\n"
     ]
    }
   ],
   "source": [
    "from beir.datasets.data_loader import GenericDataLoader"
   ]
  },
  {
   "cell_type": "code",
   "execution_count": 2,
   "id": "a91d6914-e301-422c-b839-1fafeb1e8fa4",
   "metadata": {
    "execution": {
     "iopub.execute_input": "2025-03-02T14:50:43.889408Z",
     "iopub.status.busy": "2025-03-02T14:50:43.889059Z",
     "iopub.status.idle": "2025-03-02T14:50:43.891187Z",
     "shell.execute_reply": "2025-03-02T14:50:43.890895Z"
    },
    "papermill": {
     "duration": 0.005633,
     "end_time": "2025-03-02T14:50:43.891754",
     "exception": false,
     "start_time": "2025-03-02T14:50:43.886121",
     "status": "completed"
    },
    "tags": []
   },
   "outputs": [],
   "source": [
    "data_path='/dss/dsshome1/07/ra65bex2/srawat/nq/nq'"
   ]
  },
  {
   "cell_type": "code",
   "execution_count": 3,
   "id": "41e17333-2c34-4b7b-91f6-3cbd3972f0d6",
   "metadata": {
    "execution": {
     "iopub.execute_input": "2025-03-02T14:50:43.896452Z",
     "iopub.status.busy": "2025-03-02T14:50:43.896301Z",
     "iopub.status.idle": "2025-03-02T14:50:57.047548Z",
     "shell.execute_reply": "2025-03-02T14:50:57.047127Z"
    },
    "papermill": {
     "duration": 13.154603,
     "end_time": "2025-03-02T14:50:57.048414",
     "exception": false,
     "start_time": "2025-03-02T14:50:43.893811",
     "status": "completed"
    },
    "tags": []
   },
   "outputs": [
    {
     "data": {
      "application/vnd.jupyter.widget-view+json": {
       "model_id": "9ffbfe768ed444d58ccae6ee830fd0c7",
       "version_major": 2,
       "version_minor": 0
      },
      "text/plain": [
       "  0%|          | 0/2681468 [00:00<?, ?it/s]"
      ]
     },
     "metadata": {},
     "output_type": "display_data"
    }
   ],
   "source": [
    "corpus, queries, qrels = GenericDataLoader(data_path).load(split=\"test\")"
   ]
  },
  {
   "cell_type": "code",
   "execution_count": 4,
   "id": "a29044d5-3952-4f3d-aa43-e1efd34fcad3",
   "metadata": {
    "execution": {
     "iopub.execute_input": "2025-03-02T14:50:57.056199Z",
     "iopub.status.busy": "2025-03-02T14:50:57.056060Z",
     "iopub.status.idle": "2025-03-02T15:39:50.217660Z",
     "shell.execute_reply": "2025-03-02T15:39:50.216893Z"
    },
    "papermill": {
     "duration": 2933.165392,
     "end_time": "2025-03-02T15:39:50.218696",
     "exception": false,
     "start_time": "2025-03-02T14:50:57.053304",
     "status": "completed"
    },
    "tags": []
   },
   "outputs": [],
   "source": [
    "contrastive_pairs=[]\n",
    "import random\n",
    "c=0\n",
    "for query_id, relevant_docs in qrels.items():\n",
    "    try:\n",
    "        query_text = queries[query_id]\n",
    "        for doc_id in relevant_docs:\n",
    "            positive = corpus[doc_id][\"text\"]\n",
    "        #print(relevant_docs)\n",
    "        positive_doc_ids = set(relevant_docs)\n",
    "        all_doc_ids = set(corpus.keys())\n",
    "        negative_doc_ids = all_doc_ids - positive_doc_ids\n",
    "        negative_doc_ids=list(negative_doc_ids)\n",
    "        negative_doc_samples = random.sample(negative_doc_ids, k=5)\n",
    "        negatives=[]\n",
    "        for neg_doc_id in negative_doc_samples:\n",
    "            negative_doc_text = corpus[neg_doc_id][\"text\"]\n",
    "            negatives.append(negative_doc_text)\n",
    "        contrastive_pairs.append({\n",
    "            \"anchor\": query_text,\n",
    "            \"positive\": positive,\n",
    "            \"negatives\": negatives\n",
    "        })\n",
    "    except:\n",
    "        c=c+1"
   ]
  },
  {
   "cell_type": "code",
   "execution_count": 5,
   "id": "49721946-fff3-4690-bd92-d981cecdf62b",
   "metadata": {
    "execution": {
     "iopub.execute_input": "2025-03-02T15:39:50.238168Z",
     "iopub.status.busy": "2025-03-02T15:39:50.237996Z",
     "iopub.status.idle": "2025-03-02T15:39:50.241776Z",
     "shell.execute_reply": "2025-03-02T15:39:50.241432Z"
    },
    "papermill": {
     "duration": 0.007351,
     "end_time": "2025-03-02T15:39:50.242553",
     "exception": false,
     "start_time": "2025-03-02T15:39:50.235202",
     "status": "completed"
    },
    "tags": []
   },
   "outputs": [
    {
     "data": {
      "text/plain": [
       "0"
      ]
     },
     "execution_count": 5,
     "metadata": {},
     "output_type": "execute_result"
    }
   ],
   "source": [
    "c"
   ]
  },
  {
   "cell_type": "code",
   "execution_count": 6,
   "id": "de8ef367-dcb4-4bb6-af3a-20f190930ed1",
   "metadata": {
    "execution": {
     "iopub.execute_input": "2025-03-02T15:39:50.247728Z",
     "iopub.status.busy": "2025-03-02T15:39:50.247423Z",
     "iopub.status.idle": "2025-03-02T15:39:50.342822Z",
     "shell.execute_reply": "2025-03-02T15:39:50.342484Z"
    },
    "papermill": {
     "duration": 0.098489,
     "end_time": "2025-03-02T15:39:50.343383",
     "exception": false,
     "start_time": "2025-03-02T15:39:50.244894",
     "status": "completed"
    },
    "tags": []
   },
   "outputs": [
    {
     "data": {
      "text/plain": [
       "3452"
      ]
     },
     "execution_count": 6,
     "metadata": {},
     "output_type": "execute_result"
    }
   ],
   "source": [
    "len(contrastive_pairs)"
   ]
  },
  {
   "cell_type": "code",
   "execution_count": 7,
   "id": "8ade92f9-e3df-4d0a-b849-b1a721e18cf6",
   "metadata": {
    "execution": {
     "iopub.execute_input": "2025-03-02T15:39:50.348794Z",
     "iopub.status.busy": "2025-03-02T15:39:50.348544Z",
     "iopub.status.idle": "2025-03-02T15:39:50.368284Z",
     "shell.execute_reply": "2025-03-02T15:39:50.367938Z"
    },
    "papermill": {
     "duration": 0.023014,
     "end_time": "2025-03-02T15:39:50.368858",
     "exception": false,
     "start_time": "2025-03-02T15:39:50.345844",
     "status": "completed"
    },
    "tags": []
   },
   "outputs": [
    {
     "data": {
      "text/plain": [
       "3452"
      ]
     },
     "execution_count": 7,
     "metadata": {},
     "output_type": "execute_result"
    }
   ],
   "source": [
    "len(qrels)"
   ]
  },
  {
   "cell_type": "code",
   "execution_count": 8,
   "id": "6b97f7b4-f007-41f6-bfbb-1b9b01665e9d",
   "metadata": {
    "execution": {
     "iopub.execute_input": "2025-03-02T15:39:50.375686Z",
     "iopub.status.busy": "2025-03-02T15:39:50.375435Z",
     "iopub.status.idle": "2025-03-02T15:39:55.759419Z",
     "shell.execute_reply": "2025-03-02T15:39:55.758967Z"
    },
    "papermill": {
     "duration": 5.387565,
     "end_time": "2025-03-02T15:39:55.760321",
     "exception": false,
     "start_time": "2025-03-02T15:39:50.372756",
     "status": "completed"
    },
    "tags": []
   },
   "outputs": [],
   "source": [
    "from torch.utils.data import DataLoader"
   ]
  },
  {
   "cell_type": "code",
   "execution_count": 9,
   "id": "a415b29a-a543-4679-8f78-44f715b3067d",
   "metadata": {
    "execution": {
     "iopub.execute_input": "2025-03-02T15:39:55.770356Z",
     "iopub.status.busy": "2025-03-02T15:39:55.769948Z",
     "iopub.status.idle": "2025-03-02T15:39:55.772834Z",
     "shell.execute_reply": "2025-03-02T15:39:55.772471Z"
    },
    "papermill": {
     "duration": 0.006849,
     "end_time": "2025-03-02T15:39:55.773408",
     "exception": false,
     "start_time": "2025-03-02T15:39:55.766559",
     "status": "completed"
    },
    "tags": []
   },
   "outputs": [],
   "source": [
    "class ContrastiveDataset:\n",
    "    def __init__(self, pairs):\n",
    "        self.pairs = pairs\n",
    "\n",
    "    def __len__(self):\n",
    "        return len(self.pairs)\n",
    "\n",
    "    def __getitem__(self, idx):\n",
    "        item = self.pairs[idx]\n",
    "        return item[\"anchor\"], item[\"positive\"], item[\"negatives\"]"
   ]
  },
  {
   "cell_type": "code",
   "execution_count": 10,
   "id": "a39efeab-fd20-411a-80c5-315f362e00d2",
   "metadata": {
    "execution": {
     "iopub.execute_input": "2025-03-02T15:39:55.778858Z",
     "iopub.status.busy": "2025-03-02T15:39:55.778563Z",
     "iopub.status.idle": "2025-03-02T15:39:55.796068Z",
     "shell.execute_reply": "2025-03-02T15:39:55.795706Z"
    },
    "papermill": {
     "duration": 0.020723,
     "end_time": "2025-03-02T15:39:55.796605",
     "exception": false,
     "start_time": "2025-03-02T15:39:55.775882",
     "status": "completed"
    },
    "tags": []
   },
   "outputs": [],
   "source": [
    "contrastive_dataset = ContrastiveDataset(contrastive_pairs)"
   ]
  },
  {
   "cell_type": "code",
   "execution_count": 11,
   "id": "d103bbfa-895a-4020-a7e5-21de659f27dc",
   "metadata": {
    "execution": {
     "iopub.execute_input": "2025-03-02T15:39:55.802243Z",
     "iopub.status.busy": "2025-03-02T15:39:55.801947Z",
     "iopub.status.idle": "2025-03-02T15:39:55.819147Z",
     "shell.execute_reply": "2025-03-02T15:39:55.818786Z"
    },
    "papermill": {
     "duration": 0.020461,
     "end_time": "2025-03-02T15:39:55.819677",
     "exception": false,
     "start_time": "2025-03-02T15:39:55.799216",
     "status": "completed"
    },
    "tags": []
   },
   "outputs": [],
   "source": [
    "data_loader = DataLoader(contrastive_dataset, batch_size=32, shuffle=True)"
   ]
  },
  {
   "cell_type": "code",
   "execution_count": 12,
   "id": "c8b0277f-f526-4087-82da-c4cdd65d32da",
   "metadata": {
    "execution": {
     "iopub.execute_input": "2025-03-02T15:39:55.825360Z",
     "iopub.status.busy": "2025-03-02T15:39:55.825037Z",
     "iopub.status.idle": "2025-03-02T15:39:55.842787Z",
     "shell.execute_reply": "2025-03-02T15:39:55.842460Z"
    },
    "papermill": {
     "duration": 0.020992,
     "end_time": "2025-03-02T15:39:55.843332",
     "exception": false,
     "start_time": "2025-03-02T15:39:55.822340",
     "status": "completed"
    },
    "tags": []
   },
   "outputs": [
    {
     "data": {
      "text/plain": [
       "108"
      ]
     },
     "execution_count": 12,
     "metadata": {},
     "output_type": "execute_result"
    }
   ],
   "source": [
    "len(data_loader)"
   ]
  },
  {
   "cell_type": "code",
   "execution_count": 13,
   "id": "e15526a4-b3fe-435b-91c9-ad4064562f0f",
   "metadata": {
    "execution": {
     "iopub.execute_input": "2025-03-02T15:39:55.849091Z",
     "iopub.status.busy": "2025-03-02T15:39:55.848790Z",
     "iopub.status.idle": "2025-03-02T15:40:05.898166Z",
     "shell.execute_reply": "2025-03-02T15:40:05.897664Z"
    },
    "papermill": {
     "duration": 10.053128,
     "end_time": "2025-03-02T15:40:05.899131",
     "exception": false,
     "start_time": "2025-03-02T15:39:55.846003",
     "status": "completed"
    },
    "tags": []
   },
   "outputs": [
    {
     "name": "stderr",
     "output_type": "stream",
     "text": [
      "/tmp/ipykernel_1038591/3105893467.py:3: FutureWarning: You are using `torch.load` with `weights_only=False` (the current default value), which uses the default pickle module implicitly. It is possible to construct malicious pickle data which will execute arbitrary code during unpickling (See https://github.com/pytorch/pytorch/blob/main/SECURITY.md#untrusted-models for more details). In a future release, the default value for `weights_only` will be flipped to `True`. This limits the functions that could be executed during unpickling. Arbitrary objects will no longer be allowed to be loaded via this mode unless they are explicitly allowlisted by the user via `torch.serialization.add_safe_globals`. We recommend you start setting `weights_only=True` for any use case where you don't have full control of the loaded file. Please open an issue on GitHub for any issues related to this experimental feature.\n",
      "  lora_model = torch.load(file_path)\n"
     ]
    }
   ],
   "source": [
    "import torch\n",
    "file_path=\"/dss/dsshome1/07/ra65bex2/srawat/contrastive_learning/v1.1/app_baseline/checkpoint_epoch_3.pth\"\n",
    "lora_model = torch.load(file_path)"
   ]
  },
  {
   "cell_type": "code",
   "execution_count": 14,
   "id": "9999e628-5966-4dda-b5c5-c0d762fce27d",
   "metadata": {
    "execution": {
     "iopub.execute_input": "2025-03-02T15:40:05.907616Z",
     "iopub.status.busy": "2025-03-02T15:40:05.907264Z",
     "iopub.status.idle": "2025-03-02T15:40:05.912407Z",
     "shell.execute_reply": "2025-03-02T15:40:05.912064Z"
    },
    "papermill": {
     "duration": 0.008735,
     "end_time": "2025-03-02T15:40:05.913003",
     "exception": false,
     "start_time": "2025-03-02T15:40:05.904268",
     "status": "completed"
    },
    "tags": []
   },
   "outputs": [],
   "source": [
    "device = torch.device('cuda' if torch.cuda.is_available() else 'cpu')\n",
    "lora_model = lora_model.to(device)"
   ]
  },
  {
   "cell_type": "code",
   "execution_count": 15,
   "id": "7e6a3a61-8db0-43db-b575-6399f8515950",
   "metadata": {
    "execution": {
     "iopub.execute_input": "2025-03-02T15:40:05.918689Z",
     "iopub.status.busy": "2025-03-02T15:40:05.918556Z",
     "iopub.status.idle": "2025-03-02T15:40:06.147283Z",
     "shell.execute_reply": "2025-03-02T15:40:06.146809Z"
    },
    "papermill": {
     "duration": 0.232291,
     "end_time": "2025-03-02T15:40:06.147943",
     "exception": false,
     "start_time": "2025-03-02T15:40:05.915652",
     "status": "completed"
    },
    "tags": []
   },
   "outputs": [],
   "source": [
    "from transformers import AutoTokenizer, AutoModel\n",
    "tokenizer = AutoTokenizer.from_pretrained(\"bert-base-uncased\")"
   ]
  },
  {
   "cell_type": "code",
   "execution_count": 16,
   "id": "68ac4919-76f1-4349-a314-4b1061126655",
   "metadata": {
    "execution": {
     "iopub.execute_input": "2025-03-02T15:40:06.154193Z",
     "iopub.status.busy": "2025-03-02T15:40:06.153895Z",
     "iopub.status.idle": "2025-03-02T15:40:06.156220Z",
     "shell.execute_reply": "2025-03-02T15:40:06.155884Z"
    },
    "papermill": {
     "duration": 0.005868,
     "end_time": "2025-03-02T15:40:06.156793",
     "exception": false,
     "start_time": "2025-03-02T15:40:06.150925",
     "status": "completed"
    },
    "tags": []
   },
   "outputs": [],
   "source": [
    "def cosine_distance(x, y):\n",
    "    return 1 - torch.nn.functional.cosine_similarity(x, y, dim=-1)"
   ]
  },
  {
   "cell_type": "code",
   "execution_count": 17,
   "id": "990f63bd-4d48-4f58-a001-3b3250f65312",
   "metadata": {
    "execution": {
     "iopub.execute_input": "2025-03-02T15:40:06.162687Z",
     "iopub.status.busy": "2025-03-02T15:40:06.162445Z",
     "iopub.status.idle": "2025-03-02T15:40:06.184438Z",
     "shell.execute_reply": "2025-03-02T15:40:06.184074Z"
    },
    "papermill": {
     "duration": 0.02552,
     "end_time": "2025-03-02T15:40:06.185004",
     "exception": false,
     "start_time": "2025-03-02T15:40:06.159484",
     "status": "completed"
    },
    "tags": []
   },
   "outputs": [],
   "source": [
    "def evaluate_mrr(model, data_loader_val, distance_fn):\n",
    "    model.eval()\n",
    "\n",
    "    total_rr = 0.0\n",
    "    num_queries = 0\n",
    "\n",
    "    with torch.no_grad():\n",
    "        for batch in data_loader_val:\n",
    "            anchor_text = batch[0]\n",
    "            positive_text = batch[1]\n",
    "            negative_texts = batch[2]\n",
    "\n",
    "            anchor_input = tokenizer(anchor_text, return_tensors='pt', padding=True, truncation=True, max_length=512).to(device)\n",
    "            positive_input = tokenizer(positive_text, return_tensors='pt', padding=True, truncation=True, max_length=512).to(device)\n",
    "\n",
    "            anchor_embedding = model(**anchor_input).last_hidden_state[:, 0, :]\n",
    "            positive_embedding = model(**positive_input).last_hidden_state[:, 0, :]\n",
    "            negative_embedding = [model(**tokenizer(neg, return_tensors='pt', padding=True, truncation=True, max_length=512).to(device)).last_hidden_state[:, 0, :] for neg in negative_texts]\n",
    "\n",
    "            pos_dist = distance_fn(anchor_embedding, positive_embedding)\n",
    "            neg_dist = torch.stack([distance_fn(anchor_embedding, neg) for neg in negative_embedding], dim=-1)\n",
    "            all_similarities=torch.cat([-pos_dist.unsqueeze(1), -neg_dist], dim=1)\n",
    "\n",
    "            sorted_similarities, sorted_indices = torch.sort(all_similarities, dim=1, descending=True)\n",
    "\n",
    "            # Find the rank of the first relevant (positive) document\n",
    "            positive_rank = (sorted_indices == 0).nonzero(as_tuple=True)[1] + 1  # +1 to make rank 1-based\n",
    "            total_rr += torch.sum(1.0 / positive_rank.float()).item()  # Reciprocal rank\n",
    "            num_queries += len(positive_rank)\n",
    "\n",
    "    mrr = total_rr / num_queries\n",
    "    return mrr"
   ]
  },
  {
   "cell_type": "code",
   "execution_count": 18,
   "id": "534a9ec5-4211-4cb6-81f1-fb8a30caff92",
   "metadata": {
    "execution": {
     "iopub.execute_input": "2025-03-02T15:40:06.190898Z",
     "iopub.status.busy": "2025-03-02T15:40:06.190772Z",
     "iopub.status.idle": "2025-03-02T15:41:25.963333Z",
     "shell.execute_reply": "2025-03-02T15:41:25.962689Z"
    },
    "papermill": {
     "duration": 79.780409,
     "end_time": "2025-03-02T15:41:25.968252",
     "exception": false,
     "start_time": "2025-03-02T15:40:06.187843",
     "status": "completed"
    },
    "tags": []
   },
   "outputs": [
    {
     "name": "stdout",
     "output_type": "stream",
     "text": [
      "0.628176913476902\n"
     ]
    }
   ],
   "source": [
    "mrr_validation = evaluate_mrr(lora_model, data_loader, cosine_distance)\n",
    "print(mrr_validation)"
   ]
  },
  {
   "cell_type": "code",
   "execution_count": null,
   "id": "f61bbd65-41c9-4ac7-80ef-ba4a4fb02d45",
   "metadata": {
    "papermill": {
     "duration": 0.002771,
     "end_time": "2025-03-02T15:41:25.973903",
     "exception": false,
     "start_time": "2025-03-02T15:41:25.971132",
     "status": "completed"
    },
    "tags": []
   },
   "outputs": [],
   "source": []
  }
 ],
 "metadata": {
  "kernelspec": {
   "display_name": "Python (myenv)",
   "language": "python",
   "name": "myenv"
  },
  "language_info": {
   "codemirror_mode": {
    "name": "ipython",
    "version": 3
   },
   "file_extension": ".py",
   "mimetype": "text/x-python",
   "name": "python",
   "nbconvert_exporter": "python",
   "pygments_lexer": "ipython3",
   "version": "3.12.7"
  },
  "papermill": {
   "default_parameters": {},
   "duration": 3047.334193,
   "end_time": "2025-03-02T15:41:28.994872",
   "environment_variables": {},
   "exception": null,
   "input_path": "NQ.ipynb",
   "output_path": "NQ_output.ipynb",
   "parameters": {},
   "start_time": "2025-03-02T14:50:41.660679",
   "version": "2.6.0"
  },
  "widgets": {
   "application/vnd.jupyter.widget-state+json": {
    "state": {
     "0a9d07ab424a472b8b0993ab241be1ae": {
      "model_module": "@jupyter-widgets/controls",
      "model_module_version": "2.0.0",
      "model_name": "HTMLStyleModel",
      "state": {
       "_model_module": "@jupyter-widgets/controls",
       "_model_module_version": "2.0.0",
       "_model_name": "HTMLStyleModel",
       "_view_count": null,
       "_view_module": "@jupyter-widgets/base",
       "_view_module_version": "2.0.0",
       "_view_name": "StyleView",
       "background": null,
       "description_width": "",
       "font_size": null,
       "text_color": null
      }
     },
     "1481466a21684adbb5d688a4e46fc3ee": {
      "model_module": "@jupyter-widgets/base",
      "model_module_version": "2.0.0",
      "model_name": "LayoutModel",
      "state": {
       "_model_module": "@jupyter-widgets/base",
       "_model_module_version": "2.0.0",
       "_model_name": "LayoutModel",
       "_view_count": null,
       "_view_module": "@jupyter-widgets/base",
       "_view_module_version": "2.0.0",
       "_view_name": "LayoutView",
       "align_content": null,
       "align_items": null,
       "align_self": null,
       "border_bottom": null,
       "border_left": null,
       "border_right": null,
       "border_top": null,
       "bottom": null,
       "display": null,
       "flex": null,
       "flex_flow": null,
       "grid_area": null,
       "grid_auto_columns": null,
       "grid_auto_flow": null,
       "grid_auto_rows": null,
       "grid_column": null,
       "grid_gap": null,
       "grid_row": null,
       "grid_template_areas": null,
       "grid_template_columns": null,
       "grid_template_rows": null,
       "height": null,
       "justify_content": null,
       "justify_items": null,
       "left": null,
       "margin": null,
       "max_height": null,
       "max_width": null,
       "min_height": null,
       "min_width": null,
       "object_fit": null,
       "object_position": null,
       "order": null,
       "overflow": null,
       "padding": null,
       "right": null,
       "top": null,
       "visibility": null,
       "width": null
      }
     },
     "1ad09c09b29e4427b9e175b95d8e3d49": {
      "model_module": "@jupyter-widgets/controls",
      "model_module_version": "2.0.0",
      "model_name": "HTMLModel",
      "state": {
       "_dom_classes": [],
       "_model_module": "@jupyter-widgets/controls",
       "_model_module_version": "2.0.0",
       "_model_name": "HTMLModel",
       "_view_count": null,
       "_view_module": "@jupyter-widgets/controls",
       "_view_module_version": "2.0.0",
       "_view_name": "HTMLView",
       "description": "",
       "description_allow_html": false,
       "layout": "IPY_MODEL_e424f63396f44d3d96209af85cf374ea",
       "placeholder": "​",
       "style": "IPY_MODEL_f6ee0f88d56b47d7aaa76f649d13bf6c",
       "tabbable": null,
       "tooltip": null,
       "value": " 2681468/2681468 [00:12&lt;00:00, 217795.75it/s]"
      }
     },
     "6803668d448145518dad1563f3cf7054": {
      "model_module": "@jupyter-widgets/controls",
      "model_module_version": "2.0.0",
      "model_name": "FloatProgressModel",
      "state": {
       "_dom_classes": [],
       "_model_module": "@jupyter-widgets/controls",
       "_model_module_version": "2.0.0",
       "_model_name": "FloatProgressModel",
       "_view_count": null,
       "_view_module": "@jupyter-widgets/controls",
       "_view_module_version": "2.0.0",
       "_view_name": "ProgressView",
       "bar_style": "success",
       "description": "",
       "description_allow_html": false,
       "layout": "IPY_MODEL_b13c0da017eb47fc87c228909825909f",
       "max": 2681468.0,
       "min": 0.0,
       "orientation": "horizontal",
       "style": "IPY_MODEL_808c989c5c4d41bf820cbace4f455226",
       "tabbable": null,
       "tooltip": null,
       "value": 2681468.0
      }
     },
     "808c989c5c4d41bf820cbace4f455226": {
      "model_module": "@jupyter-widgets/controls",
      "model_module_version": "2.0.0",
      "model_name": "ProgressStyleModel",
      "state": {
       "_model_module": "@jupyter-widgets/controls",
       "_model_module_version": "2.0.0",
       "_model_name": "ProgressStyleModel",
       "_view_count": null,
       "_view_module": "@jupyter-widgets/base",
       "_view_module_version": "2.0.0",
       "_view_name": "StyleView",
       "bar_color": null,
       "description_width": ""
      }
     },
     "9ffbfe768ed444d58ccae6ee830fd0c7": {
      "model_module": "@jupyter-widgets/controls",
      "model_module_version": "2.0.0",
      "model_name": "HBoxModel",
      "state": {
       "_dom_classes": [],
       "_model_module": "@jupyter-widgets/controls",
       "_model_module_version": "2.0.0",
       "_model_name": "HBoxModel",
       "_view_count": null,
       "_view_module": "@jupyter-widgets/controls",
       "_view_module_version": "2.0.0",
       "_view_name": "HBoxView",
       "box_style": "",
       "children": [
        "IPY_MODEL_fa01952d56174bad9b3501406a433418",
        "IPY_MODEL_6803668d448145518dad1563f3cf7054",
        "IPY_MODEL_1ad09c09b29e4427b9e175b95d8e3d49"
       ],
       "layout": "IPY_MODEL_b8ab79dbc50c43c5a2d54d85f98cdc57",
       "tabbable": null,
       "tooltip": null
      }
     },
     "b13c0da017eb47fc87c228909825909f": {
      "model_module": "@jupyter-widgets/base",
      "model_module_version": "2.0.0",
      "model_name": "LayoutModel",
      "state": {
       "_model_module": "@jupyter-widgets/base",
       "_model_module_version": "2.0.0",
       "_model_name": "LayoutModel",
       "_view_count": null,
       "_view_module": "@jupyter-widgets/base",
       "_view_module_version": "2.0.0",
       "_view_name": "LayoutView",
       "align_content": null,
       "align_items": null,
       "align_self": null,
       "border_bottom": null,
       "border_left": null,
       "border_right": null,
       "border_top": null,
       "bottom": null,
       "display": null,
       "flex": null,
       "flex_flow": null,
       "grid_area": null,
       "grid_auto_columns": null,
       "grid_auto_flow": null,
       "grid_auto_rows": null,
       "grid_column": null,
       "grid_gap": null,
       "grid_row": null,
       "grid_template_areas": null,
       "grid_template_columns": null,
       "grid_template_rows": null,
       "height": null,
       "justify_content": null,
       "justify_items": null,
       "left": null,
       "margin": null,
       "max_height": null,
       "max_width": null,
       "min_height": null,
       "min_width": null,
       "object_fit": null,
       "object_position": null,
       "order": null,
       "overflow": null,
       "padding": null,
       "right": null,
       "top": null,
       "visibility": null,
       "width": null
      }
     },
     "b8ab79dbc50c43c5a2d54d85f98cdc57": {
      "model_module": "@jupyter-widgets/base",
      "model_module_version": "2.0.0",
      "model_name": "LayoutModel",
      "state": {
       "_model_module": "@jupyter-widgets/base",
       "_model_module_version": "2.0.0",
       "_model_name": "LayoutModel",
       "_view_count": null,
       "_view_module": "@jupyter-widgets/base",
       "_view_module_version": "2.0.0",
       "_view_name": "LayoutView",
       "align_content": null,
       "align_items": null,
       "align_self": null,
       "border_bottom": null,
       "border_left": null,
       "border_right": null,
       "border_top": null,
       "bottom": null,
       "display": null,
       "flex": null,
       "flex_flow": null,
       "grid_area": null,
       "grid_auto_columns": null,
       "grid_auto_flow": null,
       "grid_auto_rows": null,
       "grid_column": null,
       "grid_gap": null,
       "grid_row": null,
       "grid_template_areas": null,
       "grid_template_columns": null,
       "grid_template_rows": null,
       "height": null,
       "justify_content": null,
       "justify_items": null,
       "left": null,
       "margin": null,
       "max_height": null,
       "max_width": null,
       "min_height": null,
       "min_width": null,
       "object_fit": null,
       "object_position": null,
       "order": null,
       "overflow": null,
       "padding": null,
       "right": null,
       "top": null,
       "visibility": null,
       "width": null
      }
     },
     "e424f63396f44d3d96209af85cf374ea": {
      "model_module": "@jupyter-widgets/base",
      "model_module_version": "2.0.0",
      "model_name": "LayoutModel",
      "state": {
       "_model_module": "@jupyter-widgets/base",
       "_model_module_version": "2.0.0",
       "_model_name": "LayoutModel",
       "_view_count": null,
       "_view_module": "@jupyter-widgets/base",
       "_view_module_version": "2.0.0",
       "_view_name": "LayoutView",
       "align_content": null,
       "align_items": null,
       "align_self": null,
       "border_bottom": null,
       "border_left": null,
       "border_right": null,
       "border_top": null,
       "bottom": null,
       "display": null,
       "flex": null,
       "flex_flow": null,
       "grid_area": null,
       "grid_auto_columns": null,
       "grid_auto_flow": null,
       "grid_auto_rows": null,
       "grid_column": null,
       "grid_gap": null,
       "grid_row": null,
       "grid_template_areas": null,
       "grid_template_columns": null,
       "grid_template_rows": null,
       "height": null,
       "justify_content": null,
       "justify_items": null,
       "left": null,
       "margin": null,
       "max_height": null,
       "max_width": null,
       "min_height": null,
       "min_width": null,
       "object_fit": null,
       "object_position": null,
       "order": null,
       "overflow": null,
       "padding": null,
       "right": null,
       "top": null,
       "visibility": null,
       "width": null
      }
     },
     "f6ee0f88d56b47d7aaa76f649d13bf6c": {
      "model_module": "@jupyter-widgets/controls",
      "model_module_version": "2.0.0",
      "model_name": "HTMLStyleModel",
      "state": {
       "_model_module": "@jupyter-widgets/controls",
       "_model_module_version": "2.0.0",
       "_model_name": "HTMLStyleModel",
       "_view_count": null,
       "_view_module": "@jupyter-widgets/base",
       "_view_module_version": "2.0.0",
       "_view_name": "StyleView",
       "background": null,
       "description_width": "",
       "font_size": null,
       "text_color": null
      }
     },
     "fa01952d56174bad9b3501406a433418": {
      "model_module": "@jupyter-widgets/controls",
      "model_module_version": "2.0.0",
      "model_name": "HTMLModel",
      "state": {
       "_dom_classes": [],
       "_model_module": "@jupyter-widgets/controls",
       "_model_module_version": "2.0.0",
       "_model_name": "HTMLModel",
       "_view_count": null,
       "_view_module": "@jupyter-widgets/controls",
       "_view_module_version": "2.0.0",
       "_view_name": "HTMLView",
       "description": "",
       "description_allow_html": false,
       "layout": "IPY_MODEL_1481466a21684adbb5d688a4e46fc3ee",
       "placeholder": "​",
       "style": "IPY_MODEL_0a9d07ab424a472b8b0993ab241be1ae",
       "tabbable": null,
       "tooltip": null,
       "value": "100%"
      }
     }
    },
    "version_major": 2,
    "version_minor": 0
   }
  }
 },
 "nbformat": 4,
 "nbformat_minor": 5
}