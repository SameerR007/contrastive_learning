{
 "cells": [
  {
   "cell_type": "code",
   "execution_count": 1,
   "id": "f6d4b65f-fa6b-4517-8694-8627bc49833b",
   "metadata": {
    "execution": {
     "iopub.execute_input": "2025-03-02T15:41:47.974081Z",
     "iopub.status.busy": "2025-03-02T15:41:47.973854Z",
     "iopub.status.idle": "2025-03-02T15:41:48.067310Z",
     "shell.execute_reply": "2025-03-02T15:41:48.066959Z"
    },
    "papermill": {
     "duration": 0.09746,
     "end_time": "2025-03-02T15:41:48.068060",
     "exception": false,
     "start_time": "2025-03-02T15:41:47.970600",
     "status": "completed"
    },
    "tags": []
   },
   "outputs": [
    {
     "name": "stderr",
     "output_type": "stream",
     "text": [
      "/dss/dsshome1/07/ra65bex2/srawat/myenv/lib/python3.12/site-packages/beir/datasets/data_loader.py:8: TqdmExperimentalWarning: Using `tqdm.autonotebook.tqdm` in notebook mode. Use `tqdm.tqdm` instead to force console mode (e.g. in jupyter console)\n",
      "  from tqdm.autonotebook import tqdm\n"
     ]
    }
   ],
   "source": [
    "from beir.datasets.data_loader import GenericDataLoader"
   ]
  },
  {
   "cell_type": "code",
   "execution_count": 2,
   "id": "a91d6914-e301-422c-b839-1fafeb1e8fa4",
   "metadata": {
    "execution": {
     "iopub.execute_input": "2025-03-02T15:41:48.073169Z",
     "iopub.status.busy": "2025-03-02T15:41:48.072935Z",
     "iopub.status.idle": "2025-03-02T15:41:48.075032Z",
     "shell.execute_reply": "2025-03-02T15:41:48.074724Z"
    },
    "papermill": {
     "duration": 0.005116,
     "end_time": "2025-03-02T15:41:48.075628",
     "exception": false,
     "start_time": "2025-03-02T15:41:48.070512",
     "status": "completed"
    },
    "tags": []
   },
   "outputs": [],
   "source": [
    "data_path='/dss/dsshome1/07/ra65bex2/srawat/nq/nq'"
   ]
  },
  {
   "cell_type": "code",
   "execution_count": 3,
   "id": "41e17333-2c34-4b7b-91f6-3cbd3972f0d6",
   "metadata": {
    "execution": {
     "iopub.execute_input": "2025-03-02T15:41:48.082044Z",
     "iopub.status.busy": "2025-03-02T15:41:48.081776Z",
     "iopub.status.idle": "2025-03-02T15:42:01.271291Z",
     "shell.execute_reply": "2025-03-02T15:42:01.270898Z"
    },
    "papermill": {
     "duration": 13.19328,
     "end_time": "2025-03-02T15:42:01.272067",
     "exception": false,
     "start_time": "2025-03-02T15:41:48.078787",
     "status": "completed"
    },
    "tags": []
   },
   "outputs": [
    {
     "data": {
      "application/vnd.jupyter.widget-view+json": {
       "model_id": "36f9849e7bba44a78d9509cbdb1b2b6c",
       "version_major": 2,
       "version_minor": 0
      },
      "text/plain": [
       "  0%|          | 0/2681468 [00:00<?, ?it/s]"
      ]
     },
     "metadata": {},
     "output_type": "display_data"
    }
   ],
   "source": [
    "corpus, queries, qrels = GenericDataLoader(data_path).load(split=\"test\")"
   ]
  },
  {
   "cell_type": "code",
   "execution_count": 4,
   "id": "a29044d5-3952-4f3d-aa43-e1efd34fcad3",
   "metadata": {
    "execution": {
     "iopub.execute_input": "2025-03-02T15:42:01.279296Z",
     "iopub.status.busy": "2025-03-02T15:42:01.279158Z",
     "iopub.status.idle": "2025-03-02T16:36:26.272609Z",
     "shell.execute_reply": "2025-03-02T16:36:26.271919Z"
    },
    "papermill": {
     "duration": 3264.997067,
     "end_time": "2025-03-02T16:36:26.273608",
     "exception": false,
     "start_time": "2025-03-02T15:42:01.276541",
     "status": "completed"
    },
    "tags": []
   },
   "outputs": [],
   "source": [
    "contrastive_pairs=[]\n",
    "import random\n",
    "c=0\n",
    "for query_id, relevant_docs in qrels.items():\n",
    "    try:\n",
    "        query_text = queries[query_id]\n",
    "        for doc_id in relevant_docs:\n",
    "            positive = corpus[doc_id][\"text\"]\n",
    "        #print(relevant_docs)\n",
    "        positive_doc_ids = set(relevant_docs)\n",
    "        all_doc_ids = set(corpus.keys())\n",
    "        negative_doc_ids = all_doc_ids - positive_doc_ids\n",
    "        negative_doc_ids=list(negative_doc_ids)\n",
    "        negative_doc_samples = random.sample(negative_doc_ids, k=5)\n",
    "        negatives=[]\n",
    "        for neg_doc_id in negative_doc_samples:\n",
    "            negative_doc_text = corpus[neg_doc_id][\"text\"]\n",
    "            negatives.append(negative_doc_text)\n",
    "        contrastive_pairs.append({\n",
    "            \"anchor\": query_text,\n",
    "            \"positive\": positive,\n",
    "            \"negatives\": negatives\n",
    "        })\n",
    "    except:\n",
    "        c=c+1"
   ]
  },
  {
   "cell_type": "code",
   "execution_count": 5,
   "id": "49721946-fff3-4690-bd92-d981cecdf62b",
   "metadata": {
    "execution": {
     "iopub.execute_input": "2025-03-02T16:36:26.289888Z",
     "iopub.status.busy": "2025-03-02T16:36:26.289724Z",
     "iopub.status.idle": "2025-03-02T16:36:26.293326Z",
     "shell.execute_reply": "2025-03-02T16:36:26.293026Z"
    },
    "papermill": {
     "duration": 0.007285,
     "end_time": "2025-03-02T16:36:26.293961",
     "exception": false,
     "start_time": "2025-03-02T16:36:26.286676",
     "status": "completed"
    },
    "tags": []
   },
   "outputs": [
    {
     "data": {
      "text/plain": [
       "0"
      ]
     },
     "execution_count": 5,
     "metadata": {},
     "output_type": "execute_result"
    }
   ],
   "source": [
    "c"
   ]
  },
  {
   "cell_type": "code",
   "execution_count": 6,
   "id": "de8ef367-dcb4-4bb6-af3a-20f190930ed1",
   "metadata": {
    "execution": {
     "iopub.execute_input": "2025-03-02T16:36:26.299144Z",
     "iopub.status.busy": "2025-03-02T16:36:26.298857Z",
     "iopub.status.idle": "2025-03-02T16:36:26.381542Z",
     "shell.execute_reply": "2025-03-02T16:36:26.381270Z"
    },
    "papermill": {
     "duration": 0.085831,
     "end_time": "2025-03-02T16:36:26.382110",
     "exception": false,
     "start_time": "2025-03-02T16:36:26.296279",
     "status": "completed"
    },
    "tags": []
   },
   "outputs": [
    {
     "data": {
      "text/plain": [
       "3452"
      ]
     },
     "execution_count": 6,
     "metadata": {},
     "output_type": "execute_result"
    }
   ],
   "source": [
    "len(contrastive_pairs)"
   ]
  },
  {
   "cell_type": "code",
   "execution_count": 7,
   "id": "8ade92f9-e3df-4d0a-b849-b1a721e18cf6",
   "metadata": {
    "execution": {
     "iopub.execute_input": "2025-03-02T16:36:26.388757Z",
     "iopub.status.busy": "2025-03-02T16:36:26.388630Z",
     "iopub.status.idle": "2025-03-02T16:36:26.405422Z",
     "shell.execute_reply": "2025-03-02T16:36:26.405142Z"
    },
    "papermill": {
     "duration": 0.021479,
     "end_time": "2025-03-02T16:36:26.406015",
     "exception": false,
     "start_time": "2025-03-02T16:36:26.384536",
     "status": "completed"
    },
    "tags": []
   },
   "outputs": [
    {
     "data": {
      "text/plain": [
       "3452"
      ]
     },
     "execution_count": 7,
     "metadata": {},
     "output_type": "execute_result"
    }
   ],
   "source": [
    "len(qrels)"
   ]
  },
  {
   "cell_type": "code",
   "execution_count": 8,
   "id": "6b97f7b4-f007-41f6-bfbb-1b9b01665e9d",
   "metadata": {
    "execution": {
     "iopub.execute_input": "2025-03-02T16:36:26.411352Z",
     "iopub.status.busy": "2025-03-02T16:36:26.411231Z",
     "iopub.status.idle": "2025-03-02T16:36:32.617043Z",
     "shell.execute_reply": "2025-03-02T16:36:32.616631Z"
    },
    "papermill": {
     "duration": 6.209453,
     "end_time": "2025-03-02T16:36:32.617999",
     "exception": false,
     "start_time": "2025-03-02T16:36:26.408546",
     "status": "completed"
    },
    "tags": []
   },
   "outputs": [],
   "source": [
    "from torch.utils.data import DataLoader"
   ]
  },
  {
   "cell_type": "code",
   "execution_count": 9,
   "id": "a415b29a-a543-4679-8f78-44f715b3067d",
   "metadata": {
    "execution": {
     "iopub.execute_input": "2025-03-02T16:36:32.625874Z",
     "iopub.status.busy": "2025-03-02T16:36:32.625686Z",
     "iopub.status.idle": "2025-03-02T16:36:32.628521Z",
     "shell.execute_reply": "2025-03-02T16:36:32.628216Z"
    },
    "papermill": {
     "duration": 0.006419,
     "end_time": "2025-03-02T16:36:32.629111",
     "exception": false,
     "start_time": "2025-03-02T16:36:32.622692",
     "status": "completed"
    },
    "tags": []
   },
   "outputs": [],
   "source": [
    "class ContrastiveDataset:\n",
    "    def __init__(self, pairs):\n",
    "        self.pairs = pairs\n",
    "\n",
    "    def __len__(self):\n",
    "        return len(self.pairs)\n",
    "\n",
    "    def __getitem__(self, idx):\n",
    "        item = self.pairs[idx]\n",
    "        return item[\"anchor\"], item[\"positive\"], item[\"negatives\"]"
   ]
  },
  {
   "cell_type": "code",
   "execution_count": 10,
   "id": "a39efeab-fd20-411a-80c5-315f362e00d2",
   "metadata": {
    "execution": {
     "iopub.execute_input": "2025-03-02T16:36:32.634704Z",
     "iopub.status.busy": "2025-03-02T16:36:32.634468Z",
     "iopub.status.idle": "2025-03-02T16:36:32.699800Z",
     "shell.execute_reply": "2025-03-02T16:36:32.699478Z"
    },
    "papermill": {
     "duration": 0.068736,
     "end_time": "2025-03-02T16:36:32.700431",
     "exception": false,
     "start_time": "2025-03-02T16:36:32.631695",
     "status": "completed"
    },
    "tags": []
   },
   "outputs": [],
   "source": [
    "contrastive_dataset = ContrastiveDataset(contrastive_pairs)"
   ]
  },
  {
   "cell_type": "code",
   "execution_count": 11,
   "id": "d103bbfa-895a-4020-a7e5-21de659f27dc",
   "metadata": {
    "execution": {
     "iopub.execute_input": "2025-03-02T16:36:32.705908Z",
     "iopub.status.busy": "2025-03-02T16:36:32.705783Z",
     "iopub.status.idle": "2025-03-02T16:36:32.726793Z",
     "shell.execute_reply": "2025-03-02T16:36:32.726483Z"
    },
    "papermill": {
     "duration": 0.024423,
     "end_time": "2025-03-02T16:36:32.727393",
     "exception": false,
     "start_time": "2025-03-02T16:36:32.702970",
     "status": "completed"
    },
    "tags": []
   },
   "outputs": [],
   "source": [
    "data_loader = DataLoader(contrastive_dataset, batch_size=32, shuffle=True)"
   ]
  },
  {
   "cell_type": "code",
   "execution_count": 12,
   "id": "c8b0277f-f526-4087-82da-c4cdd65d32da",
   "metadata": {
    "execution": {
     "iopub.execute_input": "2025-03-02T16:36:32.732944Z",
     "iopub.status.busy": "2025-03-02T16:36:32.732817Z",
     "iopub.status.idle": "2025-03-02T16:36:32.751212Z",
     "shell.execute_reply": "2025-03-02T16:36:32.750910Z"
    },
    "papermill": {
     "duration": 0.021953,
     "end_time": "2025-03-02T16:36:32.751830",
     "exception": false,
     "start_time": "2025-03-02T16:36:32.729877",
     "status": "completed"
    },
    "tags": []
   },
   "outputs": [
    {
     "data": {
      "text/plain": [
       "108"
      ]
     },
     "execution_count": 12,
     "metadata": {},
     "output_type": "execute_result"
    }
   ],
   "source": [
    "len(data_loader)"
   ]
  },
  {
   "cell_type": "code",
   "execution_count": 13,
   "id": "e15526a4-b3fe-435b-91c9-ad4064562f0f",
   "metadata": {
    "execution": {
     "iopub.execute_input": "2025-03-02T16:36:32.757767Z",
     "iopub.status.busy": "2025-03-02T16:36:32.757637Z",
     "iopub.status.idle": "2025-03-02T16:36:42.329603Z",
     "shell.execute_reply": "2025-03-02T16:36:42.329011Z"
    },
    "papermill": {
     "duration": 9.575887,
     "end_time": "2025-03-02T16:36:42.330574",
     "exception": false,
     "start_time": "2025-03-02T16:36:32.754687",
     "status": "completed"
    },
    "tags": []
   },
   "outputs": [
    {
     "name": "stderr",
     "output_type": "stream",
     "text": [
      "/tmp/ipykernel_1089570/2192687965.py:3: FutureWarning: You are using `torch.load` with `weights_only=False` (the current default value), which uses the default pickle module implicitly. It is possible to construct malicious pickle data which will execute arbitrary code during unpickling (See https://github.com/pytorch/pytorch/blob/main/SECURITY.md#untrusted-models for more details). In a future release, the default value for `weights_only` will be flipped to `True`. This limits the functions that could be executed during unpickling. Arbitrary objects will no longer be allowed to be loaded via this mode unless they are explicitly allowlisted by the user via `torch.serialization.add_safe_globals`. We recommend you start setting `weights_only=True` for any use case where you don't have full control of the loaded file. Please open an issue on GitHub for any issues related to this experimental feature.\n",
      "  lora_model = torch.load(file_path)\n"
     ]
    }
   ],
   "source": [
    "import torch\n",
    "file_path=\"/dss/dsshome1/07/ra65bex2/srawat/contrastive_learning/v1.1/app_average/average_checkpoint_epoch_3.pth\"\n",
    "lora_model = torch.load(file_path)"
   ]
  },
  {
   "cell_type": "code",
   "execution_count": 14,
   "id": "9999e628-5966-4dda-b5c5-c0d762fce27d",
   "metadata": {
    "execution": {
     "iopub.execute_input": "2025-03-02T16:36:42.339237Z",
     "iopub.status.busy": "2025-03-02T16:36:42.338906Z",
     "iopub.status.idle": "2025-03-02T16:36:42.344783Z",
     "shell.execute_reply": "2025-03-02T16:36:42.344457Z"
    },
    "papermill": {
     "duration": 0.009939,
     "end_time": "2025-03-02T16:36:42.345414",
     "exception": false,
     "start_time": "2025-03-02T16:36:42.335475",
     "status": "completed"
    },
    "tags": []
   },
   "outputs": [],
   "source": [
    "device = torch.device('cuda' if torch.cuda.is_available() else 'cpu')\n",
    "lora_model = lora_model.to(device)"
   ]
  },
  {
   "cell_type": "code",
   "execution_count": 15,
   "id": "7e6a3a61-8db0-43db-b575-6399f8515950",
   "metadata": {
    "execution": {
     "iopub.execute_input": "2025-03-02T16:36:42.351505Z",
     "iopub.status.busy": "2025-03-02T16:36:42.351376Z",
     "iopub.status.idle": "2025-03-02T16:36:42.587422Z",
     "shell.execute_reply": "2025-03-02T16:36:42.586987Z"
    },
    "papermill": {
     "duration": 0.240027,
     "end_time": "2025-03-02T16:36:42.588373",
     "exception": false,
     "start_time": "2025-03-02T16:36:42.348346",
     "status": "completed"
    },
    "tags": []
   },
   "outputs": [],
   "source": [
    "from transformers import AutoTokenizer, AutoModel\n",
    "tokenizer = AutoTokenizer.from_pretrained(\"bert-base-uncased\")"
   ]
  },
  {
   "cell_type": "code",
   "execution_count": 16,
   "id": "68ac4919-76f1-4349-a314-4b1061126655",
   "metadata": {
    "execution": {
     "iopub.execute_input": "2025-03-02T16:36:42.595192Z",
     "iopub.status.busy": "2025-03-02T16:36:42.595017Z",
     "iopub.status.idle": "2025-03-02T16:36:42.597482Z",
     "shell.execute_reply": "2025-03-02T16:36:42.597193Z"
    },
    "papermill": {
     "duration": 0.006472,
     "end_time": "2025-03-02T16:36:42.598091",
     "exception": false,
     "start_time": "2025-03-02T16:36:42.591619",
     "status": "completed"
    },
    "tags": []
   },
   "outputs": [],
   "source": [
    "def cosine_distance(x, y):\n",
    "    return 1 - torch.nn.functional.cosine_similarity(x, y, dim=-1)"
   ]
  },
  {
   "cell_type": "code",
   "execution_count": 17,
   "id": "870570ba-20a1-4c0b-8367-525d85af4ded",
   "metadata": {
    "execution": {
     "iopub.execute_input": "2025-03-02T16:36:42.603970Z",
     "iopub.status.busy": "2025-03-02T16:36:42.603846Z",
     "iopub.status.idle": "2025-03-02T16:36:42.620027Z",
     "shell.execute_reply": "2025-03-02T16:36:42.619741Z"
    },
    "papermill": {
     "duration": 0.019763,
     "end_time": "2025-03-02T16:36:42.620633",
     "exception": false,
     "start_time": "2025-03-02T16:36:42.600870",
     "status": "completed"
    },
    "tags": []
   },
   "outputs": [],
   "source": [
    "def avg_embedding(inputs, model):\n",
    "    input=model(**inputs)\n",
    "    input_last_hidden_state=input.last_hidden_state\n",
    "    input_attention_mask = inputs['attention_mask']\n",
    "    input_masked_embeddings = input_last_hidden_state * input_attention_mask.unsqueeze(-1)\n",
    "    input_sum_embeddings = torch.sum(input_masked_embeddings, dim=1)\n",
    "    input_token_counts = torch.sum(input_attention_mask, dim=1).unsqueeze(-1)\n",
    "    input_avg_embeddings = input_sum_embeddings / input_token_counts\n",
    "    return(input_avg_embeddings)"
   ]
  },
  {
   "cell_type": "code",
   "execution_count": 18,
   "id": "990f63bd-4d48-4f58-a001-3b3250f65312",
   "metadata": {
    "execution": {
     "iopub.execute_input": "2025-03-02T16:36:42.626642Z",
     "iopub.status.busy": "2025-03-02T16:36:42.626401Z",
     "iopub.status.idle": "2025-03-02T16:36:42.644242Z",
     "shell.execute_reply": "2025-03-02T16:36:42.643950Z"
    },
    "papermill": {
     "duration": 0.021472,
     "end_time": "2025-03-02T16:36:42.644895",
     "exception": false,
     "start_time": "2025-03-02T16:36:42.623423",
     "status": "completed"
    },
    "tags": []
   },
   "outputs": [],
   "source": [
    "def evaluate_mrr(model, data_loader_val, distance_fn):\n",
    "    model.eval()  \n",
    "\n",
    "    total_rr = 0.0\n",
    "    num_queries = 0\n",
    "\n",
    "    with torch.no_grad():\n",
    "        for batch in data_loader_val:\n",
    "            anchor_text = batch[0]\n",
    "            positive_text = batch[1]\n",
    "            negative_texts = batch[2]\n",
    "\n",
    "            anchor_input = tokenizer(anchor_text, return_tensors='pt', padding=True, truncation=True, max_length=512).to(device)\n",
    "            positive_input = tokenizer(positive_text, return_tensors='pt', padding=True, truncation=True, max_length=512).to(device)\n",
    "\n",
    "            anchor_embedding = avg_embedding(anchor_input, model)\n",
    "            positive_embedding = avg_embedding(positive_input, model)\n",
    "            negative_embedding = [avg_embedding(tokenizer(neg, return_tensors='pt', padding=True, truncation=True, max_length=512).to(device), model) for neg in negative_texts]\n",
    "\n",
    "            pos_dist = distance_fn(anchor_embedding, positive_embedding)\n",
    "            neg_dist = torch.stack([distance_fn(anchor_embedding, neg) for neg in negative_embedding], dim=-1)\n",
    "            all_similarities=torch.cat([-pos_dist.unsqueeze(1), -neg_dist], dim=1)\n",
    "            \n",
    "            sorted_similarities, sorted_indices = torch.sort(all_similarities, dim=1, descending=True)\n",
    "\n",
    "            # Find the rank of the first relevant (positive) document\n",
    "            positive_rank = (sorted_indices == 0).nonzero(as_tuple=True)[1] + 1  # +1 to make rank 1-based\n",
    "            total_rr += torch.sum(1.0 / positive_rank.float()).item()  # Reciprocal rank\n",
    "            num_queries += len(positive_rank)\n",
    "\n",
    "    mrr = total_rr / num_queries\n",
    "    return mrr"
   ]
  },
  {
   "cell_type": "code",
   "execution_count": 19,
   "id": "534a9ec5-4211-4cb6-81f1-fb8a30caff92",
   "metadata": {
    "execution": {
     "iopub.execute_input": "2025-03-02T16:36:42.650856Z",
     "iopub.status.busy": "2025-03-02T16:36:42.650731Z",
     "iopub.status.idle": "2025-03-02T16:38:01.175241Z",
     "shell.execute_reply": "2025-03-02T16:38:01.174550Z"
    },
    "papermill": {
     "duration": 78.532595,
     "end_time": "2025-03-02T16:38:01.180259",
     "exception": false,
     "start_time": "2025-03-02T16:36:42.647664",
     "status": "completed"
    },
    "tags": []
   },
   "outputs": [
    {
     "name": "stdout",
     "output_type": "stream",
     "text": [
      "0.6983729298393806\n"
     ]
    }
   ],
   "source": [
    "mrr_validation = evaluate_mrr(lora_model, data_loader, cosine_distance)\n",
    "print(mrr_validation)"
   ]
  },
  {
   "cell_type": "code",
   "execution_count": null,
   "id": "f61bbd65-41c9-4ac7-80ef-ba4a4fb02d45",
   "metadata": {
    "papermill": {
     "duration": 0.002796,
     "end_time": "2025-03-02T16:38:01.186093",
     "exception": false,
     "start_time": "2025-03-02T16:38:01.183297",
     "status": "completed"
    },
    "tags": []
   },
   "outputs": [],
   "source": []
  }
 ],
 "metadata": {
  "kernelspec": {
   "display_name": "Python (myenv)",
   "language": "python",
   "name": "myenv"
  },
  "language_info": {
   "codemirror_mode": {
    "name": "ipython",
    "version": 3
   },
   "file_extension": ".py",
   "mimetype": "text/x-python",
   "name": "python",
   "nbconvert_exporter": "python",
   "pygments_lexer": "ipython3",
   "version": "3.12.7"
  },
  "papermill": {
   "default_parameters": {},
   "duration": 3377.927553,
   "end_time": "2025-03-02T16:38:04.205198",
   "environment_variables": {},
   "exception": null,
   "input_path": "average_NQ.ipynb",
   "output_path": "average_NQ_output.ipynb",
   "parameters": {},
   "start_time": "2025-03-02T15:41:46.277645",
   "version": "2.6.0"
  },
  "widgets": {
   "application/vnd.jupyter.widget-state+json": {
    "state": {
     "0e1cea6443774250a4d0f1f3f0867677": {
      "model_module": "@jupyter-widgets/base",
      "model_module_version": "2.0.0",
      "model_name": "LayoutModel",
      "state": {
       "_model_module": "@jupyter-widgets/base",
       "_model_module_version": "2.0.0",
       "_model_name": "LayoutModel",
       "_view_count": null,
       "_view_module": "@jupyter-widgets/base",
       "_view_module_version": "2.0.0",
       "_view_name": "LayoutView",
       "align_content": null,
       "align_items": null,
       "align_self": null,
       "border_bottom": null,
       "border_left": null,
       "border_right": null,
       "border_top": null,
       "bottom": null,
       "display": null,
       "flex": null,
       "flex_flow": null,
       "grid_area": null,
       "grid_auto_columns": null,
       "grid_auto_flow": null,
       "grid_auto_rows": null,
       "grid_column": null,
       "grid_gap": null,
       "grid_row": null,
       "grid_template_areas": null,
       "grid_template_columns": null,
       "grid_template_rows": null,
       "height": null,
       "justify_content": null,
       "justify_items": null,
       "left": null,
       "margin": null,
       "max_height": null,
       "max_width": null,
       "min_height": null,
       "min_width": null,
       "object_fit": null,
       "object_position": null,
       "order": null,
       "overflow": null,
       "padding": null,
       "right": null,
       "top": null,
       "visibility": null,
       "width": null
      }
     },
     "169aafe06aeb436d9fc34bdf36d8b16e": {
      "model_module": "@jupyter-widgets/base",
      "model_module_version": "2.0.0",
      "model_name": "LayoutModel",
      "state": {
       "_model_module": "@jupyter-widgets/base",
       "_model_module_version": "2.0.0",
       "_model_name": "LayoutModel",
       "_view_count": null,
       "_view_module": "@jupyter-widgets/base",
       "_view_module_version": "2.0.0",
       "_view_name": "LayoutView",
       "align_content": null,
       "align_items": null,
       "align_self": null,
       "border_bottom": null,
       "border_left": null,
       "border_right": null,
       "border_top": null,
       "bottom": null,
       "display": null,
       "flex": null,
       "flex_flow": null,
       "grid_area": null,
       "grid_auto_columns": null,
       "grid_auto_flow": null,
       "grid_auto_rows": null,
       "grid_column": null,
       "grid_gap": null,
       "grid_row": null,
       "grid_template_areas": null,
       "grid_template_columns": null,
       "grid_template_rows": null,
       "height": null,
       "justify_content": null,
       "justify_items": null,
       "left": null,
       "margin": null,
       "max_height": null,
       "max_width": null,
       "min_height": null,
       "min_width": null,
       "object_fit": null,
       "object_position": null,
       "order": null,
       "overflow": null,
       "padding": null,
       "right": null,
       "top": null,
       "visibility": null,
       "width": null
      }
     },
     "36f9849e7bba44a78d9509cbdb1b2b6c": {
      "model_module": "@jupyter-widgets/controls",
      "model_module_version": "2.0.0",
      "model_name": "HBoxModel",
      "state": {
       "_dom_classes": [],
       "_model_module": "@jupyter-widgets/controls",
       "_model_module_version": "2.0.0",
       "_model_name": "HBoxModel",
       "_view_count": null,
       "_view_module": "@jupyter-widgets/controls",
       "_view_module_version": "2.0.0",
       "_view_name": "HBoxView",
       "box_style": "",
       "children": [
        "IPY_MODEL_65b75014fb9f44fd9ec0fa18f933bbac",
        "IPY_MODEL_7414e4e9e38c4b099cb06bd11ad27af7",
        "IPY_MODEL_3845781f2e0f4df1a559d46f694b04fe"
       ],
       "layout": "IPY_MODEL_169aafe06aeb436d9fc34bdf36d8b16e",
       "tabbable": null,
       "tooltip": null
      }
     },
     "3845781f2e0f4df1a559d46f694b04fe": {
      "model_module": "@jupyter-widgets/controls",
      "model_module_version": "2.0.0",
      "model_name": "HTMLModel",
      "state": {
       "_dom_classes": [],
       "_model_module": "@jupyter-widgets/controls",
       "_model_module_version": "2.0.0",
       "_model_name": "HTMLModel",
       "_view_count": null,
       "_view_module": "@jupyter-widgets/controls",
       "_view_module_version": "2.0.0",
       "_view_name": "HTMLView",
       "description": "",
       "description_allow_html": false,
       "layout": "IPY_MODEL_4e934ffddbb341b09e0eda836667e1a2",
       "placeholder": "​",
       "style": "IPY_MODEL_72922ea54bd44c8e871f7325a7bf299f",
       "tabbable": null,
       "tooltip": null,
       "value": " 2681468/2681468 [00:12&lt;00:00, 219965.13it/s]"
      }
     },
     "4e934ffddbb341b09e0eda836667e1a2": {
      "model_module": "@jupyter-widgets/base",
      "model_module_version": "2.0.0",
      "model_name": "LayoutModel",
      "state": {
       "_model_module": "@jupyter-widgets/base",
       "_model_module_version": "2.0.0",
       "_model_name": "LayoutModel",
       "_view_count": null,
       "_view_module": "@jupyter-widgets/base",
       "_view_module_version": "2.0.0",
       "_view_name": "LayoutView",
       "align_content": null,
       "align_items": null,
       "align_self": null,
       "border_bottom": null,
       "border_left": null,
       "border_right": null,
       "border_top": null,
       "bottom": null,
       "display": null,
       "flex": null,
       "flex_flow": null,
       "grid_area": null,
       "grid_auto_columns": null,
       "grid_auto_flow": null,
       "grid_auto_rows": null,
       "grid_column": null,
       "grid_gap": null,
       "grid_row": null,
       "grid_template_areas": null,
       "grid_template_columns": null,
       "grid_template_rows": null,
       "height": null,
       "justify_content": null,
       "justify_items": null,
       "left": null,
       "margin": null,
       "max_height": null,
       "max_width": null,
       "min_height": null,
       "min_width": null,
       "object_fit": null,
       "object_position": null,
       "order": null,
       "overflow": null,
       "padding": null,
       "right": null,
       "top": null,
       "visibility": null,
       "width": null
      }
     },
     "65b75014fb9f44fd9ec0fa18f933bbac": {
      "model_module": "@jupyter-widgets/controls",
      "model_module_version": "2.0.0",
      "model_name": "HTMLModel",
      "state": {
       "_dom_classes": [],
       "_model_module": "@jupyter-widgets/controls",
       "_model_module_version": "2.0.0",
       "_model_name": "HTMLModel",
       "_view_count": null,
       "_view_module": "@jupyter-widgets/controls",
       "_view_module_version": "2.0.0",
       "_view_name": "HTMLView",
       "description": "",
       "description_allow_html": false,
       "layout": "IPY_MODEL_0e1cea6443774250a4d0f1f3f0867677",
       "placeholder": "​",
       "style": "IPY_MODEL_f5f8ff43b5394a3b8e6bc2523054bf77",
       "tabbable": null,
       "tooltip": null,
       "value": "100%"
      }
     },
     "72922ea54bd44c8e871f7325a7bf299f": {
      "model_module": "@jupyter-widgets/controls",
      "model_module_version": "2.0.0",
      "model_name": "HTMLStyleModel",
      "state": {
       "_model_module": "@jupyter-widgets/controls",
       "_model_module_version": "2.0.0",
       "_model_name": "HTMLStyleModel",
       "_view_count": null,
       "_view_module": "@jupyter-widgets/base",
       "_view_module_version": "2.0.0",
       "_view_name": "StyleView",
       "background": null,
       "description_width": "",
       "font_size": null,
       "text_color": null
      }
     },
     "7414e4e9e38c4b099cb06bd11ad27af7": {
      "model_module": "@jupyter-widgets/controls",
      "model_module_version": "2.0.0",
      "model_name": "FloatProgressModel",
      "state": {
       "_dom_classes": [],
       "_model_module": "@jupyter-widgets/controls",
       "_model_module_version": "2.0.0",
       "_model_name": "FloatProgressModel",
       "_view_count": null,
       "_view_module": "@jupyter-widgets/controls",
       "_view_module_version": "2.0.0",
       "_view_name": "ProgressView",
       "bar_style": "success",
       "description": "",
       "description_allow_html": false,
       "layout": "IPY_MODEL_84763bc34bf148b4bad89bcd920a4aca",
       "max": 2681468.0,
       "min": 0.0,
       "orientation": "horizontal",
       "style": "IPY_MODEL_8d2c7f9a028945ab9479227b2ccb3c2e",
       "tabbable": null,
       "tooltip": null,
       "value": 2681468.0
      }
     },
     "84763bc34bf148b4bad89bcd920a4aca": {
      "model_module": "@jupyter-widgets/base",
      "model_module_version": "2.0.0",
      "model_name": "LayoutModel",
      "state": {
       "_model_module": "@jupyter-widgets/base",
       "_model_module_version": "2.0.0",
       "_model_name": "LayoutModel",
       "_view_count": null,
       "_view_module": "@jupyter-widgets/base",
       "_view_module_version": "2.0.0",
       "_view_name": "LayoutView",
       "align_content": null,
       "align_items": null,
       "align_self": null,
       "border_bottom": null,
       "border_left": null,
       "border_right": null,
       "border_top": null,
       "bottom": null,
       "display": null,
       "flex": null,
       "flex_flow": null,
       "grid_area": null,
       "grid_auto_columns": null,
       "grid_auto_flow": null,
       "grid_auto_rows": null,
       "grid_column": null,
       "grid_gap": null,
       "grid_row": null,
       "grid_template_areas": null,
       "grid_template_columns": null,
       "grid_template_rows": null,
       "height": null,
       "justify_content": null,
       "justify_items": null,
       "left": null,
       "margin": null,
       "max_height": null,
       "max_width": null,
       "min_height": null,
       "min_width": null,
       "object_fit": null,
       "object_position": null,
       "order": null,
       "overflow": null,
       "padding": null,
       "right": null,
       "top": null,
       "visibility": null,
       "width": null
      }
     },
     "8d2c7f9a028945ab9479227b2ccb3c2e": {
      "model_module": "@jupyter-widgets/controls",
      "model_module_version": "2.0.0",
      "model_name": "ProgressStyleModel",
      "state": {
       "_model_module": "@jupyter-widgets/controls",
       "_model_module_version": "2.0.0",
       "_model_name": "ProgressStyleModel",
       "_view_count": null,
       "_view_module": "@jupyter-widgets/base",
       "_view_module_version": "2.0.0",
       "_view_name": "StyleView",
       "bar_color": null,
       "description_width": ""
      }
     },
     "f5f8ff43b5394a3b8e6bc2523054bf77": {
      "model_module": "@jupyter-widgets/controls",
      "model_module_version": "2.0.0",
      "model_name": "HTMLStyleModel",
      "state": {
       "_model_module": "@jupyter-widgets/controls",
       "_model_module_version": "2.0.0",
       "_model_name": "HTMLStyleModel",
       "_view_count": null,
       "_view_module": "@jupyter-widgets/base",
       "_view_module_version": "2.0.0",
       "_view_name": "StyleView",
       "background": null,
       "description_width": "",
       "font_size": null,
       "text_color": null
      }
     }
    },
    "version_major": 2,
    "version_minor": 0
   }
  }
 },
 "nbformat": 4,
 "nbformat_minor": 5
}