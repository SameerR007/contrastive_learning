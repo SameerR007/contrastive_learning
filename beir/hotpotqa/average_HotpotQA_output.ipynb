{
 "cells": [
  {
   "cell_type": "code",
   "execution_count": 1,
   "id": "f6d4b65f-fa6b-4517-8694-8627bc49833b",
   "metadata": {
    "execution": {
     "iopub.execute_input": "2025-03-02T17:36:30.132326Z",
     "iopub.status.busy": "2025-03-02T17:36:30.131965Z",
     "iopub.status.idle": "2025-03-02T17:36:30.217417Z",
     "shell.execute_reply": "2025-03-02T17:36:30.217011Z"
    },
    "papermill": {
     "duration": 0.089848,
     "end_time": "2025-03-02T17:36:30.218032",
     "exception": false,
     "start_time": "2025-03-02T17:36:30.128184",
     "status": "completed"
    },
    "tags": []
   },
   "outputs": [
    {
     "name": "stderr",
     "output_type": "stream",
     "text": [
      "/dss/dsshome1/07/ra65bex2/srawat/myenv/lib/python3.12/site-packages/beir/datasets/data_loader.py:8: TqdmExperimentalWarning: Using `tqdm.autonotebook.tqdm` in notebook mode. Use `tqdm.tqdm` instead to force console mode (e.g. in jupyter console)\n",
      "  from tqdm.autonotebook import tqdm\n"
     ]
    }
   ],
   "source": [
    "from beir.datasets.data_loader import GenericDataLoader"
   ]
  },
  {
   "cell_type": "code",
   "execution_count": 2,
   "id": "a91d6914-e301-422c-b839-1fafeb1e8fa4",
   "metadata": {
    "execution": {
     "iopub.execute_input": "2025-03-02T17:36:30.223130Z",
     "iopub.status.busy": "2025-03-02T17:36:30.222995Z",
     "iopub.status.idle": "2025-03-02T17:36:30.225485Z",
     "shell.execute_reply": "2025-03-02T17:36:30.225114Z"
    },
    "papermill": {
     "duration": 0.005524,
     "end_time": "2025-03-02T17:36:30.226083",
     "exception": false,
     "start_time": "2025-03-02T17:36:30.220559",
     "status": "completed"
    },
    "tags": []
   },
   "outputs": [],
   "source": [
    "data_path = '/dss/dsshome1/07/ra65bex2/srawat/hotpotqa/hotpotqa'"
   ]
  },
  {
   "cell_type": "code",
   "execution_count": 3,
   "id": "41e17333-2c34-4b7b-91f6-3cbd3972f0d6",
   "metadata": {
    "execution": {
     "iopub.execute_input": "2025-03-02T17:36:30.231042Z",
     "iopub.status.busy": "2025-03-02T17:36:30.230759Z",
     "iopub.status.idle": "2025-03-02T17:36:54.721579Z",
     "shell.execute_reply": "2025-03-02T17:36:54.720970Z"
    },
    "papermill": {
     "duration": 24.494002,
     "end_time": "2025-03-02T17:36:54.722290",
     "exception": false,
     "start_time": "2025-03-02T17:36:30.228288",
     "status": "completed"
    },
    "tags": []
   },
   "outputs": [
    {
     "data": {
      "application/vnd.jupyter.widget-view+json": {
       "model_id": "c13e2ff82815408b923fe19edff9e592",
       "version_major": 2,
       "version_minor": 0
      },
      "text/plain": [
       "  0%|          | 0/5233329 [00:00<?, ?it/s]"
      ]
     },
     "metadata": {},
     "output_type": "display_data"
    }
   ],
   "source": [
    "corpus, queries, qrels = GenericDataLoader(data_path).load(split=\"test\")"
   ]
  },
  {
   "cell_type": "code",
   "execution_count": 4,
   "id": "a29044d5-3952-4f3d-aa43-e1efd34fcad3",
   "metadata": {
    "execution": {
     "iopub.execute_input": "2025-03-02T17:36:54.733326Z",
     "iopub.status.busy": "2025-03-02T17:36:54.733014Z",
     "iopub.status.idle": "2025-03-02T21:24:31.634033Z",
     "shell.execute_reply": "2025-03-02T21:24:31.633247Z"
    },
    "papermill": {
     "duration": 13656.90554,
     "end_time": "2025-03-02T21:24:31.635654",
     "exception": false,
     "start_time": "2025-03-02T17:36:54.730114",
     "status": "completed"
    },
    "tags": []
   },
   "outputs": [],
   "source": [
    "contrastive_pairs=[]\n",
    "import random\n",
    "c=0\n",
    "for query_id, relevant_docs in qrels.items():\n",
    "    try:\n",
    "        query_text = queries[query_id]\n",
    "        for doc_id in relevant_docs:\n",
    "            positive = corpus[doc_id][\"text\"]\n",
    "        #print(relevant_docs)\n",
    "        positive_doc_ids = set(relevant_docs)\n",
    "        all_doc_ids = set(corpus.keys())\n",
    "        negative_doc_ids = all_doc_ids - positive_doc_ids\n",
    "        negative_doc_ids=list(negative_doc_ids)\n",
    "        negative_doc_samples = random.sample(negative_doc_ids, k=5)\n",
    "        negatives=[]\n",
    "        for neg_doc_id in negative_doc_samples:\n",
    "            negative_doc_text = corpus[neg_doc_id][\"text\"]\n",
    "            negatives.append(negative_doc_text)\n",
    "        contrastive_pairs.append({\n",
    "            \"anchor\": query_text,\n",
    "            \"positive\": positive,\n",
    "            \"negatives\": negatives\n",
    "        })\n",
    "    except:\n",
    "        c=c+1"
   ]
  },
  {
   "cell_type": "code",
   "execution_count": 5,
   "id": "49721946-fff3-4690-bd92-d981cecdf62b",
   "metadata": {
    "execution": {
     "iopub.execute_input": "2025-03-02T21:24:31.648290Z",
     "iopub.status.busy": "2025-03-02T21:24:31.647997Z",
     "iopub.status.idle": "2025-03-02T21:24:31.652044Z",
     "shell.execute_reply": "2025-03-02T21:24:31.651691Z"
    },
    "papermill": {
     "duration": 0.007756,
     "end_time": "2025-03-02T21:24:31.652632",
     "exception": false,
     "start_time": "2025-03-02T21:24:31.644876",
     "status": "completed"
    },
    "tags": []
   },
   "outputs": [
    {
     "data": {
      "text/plain": [
       "0"
      ]
     },
     "execution_count": 5,
     "metadata": {},
     "output_type": "execute_result"
    }
   ],
   "source": [
    "c"
   ]
  },
  {
   "cell_type": "code",
   "execution_count": 6,
   "id": "de8ef367-dcb4-4bb6-af3a-20f190930ed1",
   "metadata": {
    "execution": {
     "iopub.execute_input": "2025-03-02T21:24:31.658176Z",
     "iopub.status.busy": "2025-03-02T21:24:31.657782Z",
     "iopub.status.idle": "2025-03-02T21:24:31.664211Z",
     "shell.execute_reply": "2025-03-02T21:24:31.663874Z"
    },
    "papermill": {
     "duration": 0.009803,
     "end_time": "2025-03-02T21:24:31.664768",
     "exception": false,
     "start_time": "2025-03-02T21:24:31.654965",
     "status": "completed"
    },
    "tags": []
   },
   "outputs": [
    {
     "data": {
      "text/plain": [
       "7405"
      ]
     },
     "execution_count": 6,
     "metadata": {},
     "output_type": "execute_result"
    }
   ],
   "source": [
    "len(contrastive_pairs)"
   ]
  },
  {
   "cell_type": "code",
   "execution_count": 7,
   "id": "8ade92f9-e3df-4d0a-b849-b1a721e18cf6",
   "metadata": {
    "execution": {
     "iopub.execute_input": "2025-03-02T21:24:31.671557Z",
     "iopub.status.busy": "2025-03-02T21:24:31.671426Z",
     "iopub.status.idle": "2025-03-02T21:24:31.675342Z",
     "shell.execute_reply": "2025-03-02T21:24:31.675003Z"
    },
    "papermill": {
     "duration": 0.008742,
     "end_time": "2025-03-02T21:24:31.675913",
     "exception": false,
     "start_time": "2025-03-02T21:24:31.667171",
     "status": "completed"
    },
    "tags": []
   },
   "outputs": [
    {
     "data": {
      "text/plain": [
       "7405"
      ]
     },
     "execution_count": 7,
     "metadata": {},
     "output_type": "execute_result"
    }
   ],
   "source": [
    "len(qrels)"
   ]
  },
  {
   "cell_type": "code",
   "execution_count": 8,
   "id": "6b97f7b4-f007-41f6-bfbb-1b9b01665e9d",
   "metadata": {
    "execution": {
     "iopub.execute_input": "2025-03-02T21:24:31.681669Z",
     "iopub.status.busy": "2025-03-02T21:24:31.681323Z",
     "iopub.status.idle": "2025-03-02T21:24:36.707292Z",
     "shell.execute_reply": "2025-03-02T21:24:36.706784Z"
    },
    "papermill": {
     "duration": 5.029816,
     "end_time": "2025-03-02T21:24:36.708262",
     "exception": false,
     "start_time": "2025-03-02T21:24:31.678446",
     "status": "completed"
    },
    "tags": []
   },
   "outputs": [],
   "source": [
    "from torch.utils.data import DataLoader"
   ]
  },
  {
   "cell_type": "code",
   "execution_count": 9,
   "id": "a415b29a-a543-4679-8f78-44f715b3067d",
   "metadata": {
    "execution": {
     "iopub.execute_input": "2025-03-02T21:24:36.716880Z",
     "iopub.status.busy": "2025-03-02T21:24:36.716455Z",
     "iopub.status.idle": "2025-03-02T21:24:36.719659Z",
     "shell.execute_reply": "2025-03-02T21:24:36.719274Z"
    },
    "papermill": {
     "duration": 0.007129,
     "end_time": "2025-03-02T21:24:36.720295",
     "exception": false,
     "start_time": "2025-03-02T21:24:36.713166",
     "status": "completed"
    },
    "tags": []
   },
   "outputs": [],
   "source": [
    "class ContrastiveDataset:\n",
    "    def __init__(self, pairs):\n",
    "        self.pairs = pairs\n",
    "\n",
    "    def __len__(self):\n",
    "        return len(self.pairs)\n",
    "\n",
    "    def __getitem__(self, idx):\n",
    "        item = self.pairs[idx]\n",
    "        return item[\"anchor\"], item[\"positive\"], item[\"negatives\"]"
   ]
  },
  {
   "cell_type": "code",
   "execution_count": 10,
   "id": "a39efeab-fd20-411a-80c5-315f362e00d2",
   "metadata": {
    "execution": {
     "iopub.execute_input": "2025-03-02T21:24:36.726054Z",
     "iopub.status.busy": "2025-03-02T21:24:36.725916Z",
     "iopub.status.idle": "2025-03-02T21:24:36.732455Z",
     "shell.execute_reply": "2025-03-02T21:24:36.732079Z"
    },
    "papermill": {
     "duration": 0.010488,
     "end_time": "2025-03-02T21:24:36.733391",
     "exception": false,
     "start_time": "2025-03-02T21:24:36.722903",
     "status": "completed"
    },
    "tags": []
   },
   "outputs": [],
   "source": [
    "contrastive_dataset = ContrastiveDataset(contrastive_pairs)"
   ]
  },
  {
   "cell_type": "code",
   "execution_count": 11,
   "id": "d103bbfa-895a-4020-a7e5-21de659f27dc",
   "metadata": {
    "execution": {
     "iopub.execute_input": "2025-03-02T21:24:36.739037Z",
     "iopub.status.busy": "2025-03-02T21:24:36.738901Z",
     "iopub.status.idle": "2025-03-02T21:24:36.743653Z",
     "shell.execute_reply": "2025-03-02T21:24:36.743309Z"
    },
    "papermill": {
     "duration": 0.008141,
     "end_time": "2025-03-02T21:24:36.744211",
     "exception": false,
     "start_time": "2025-03-02T21:24:36.736070",
     "status": "completed"
    },
    "tags": []
   },
   "outputs": [],
   "source": [
    "data_loader = DataLoader(contrastive_dataset, batch_size=32, shuffle=True)"
   ]
  },
  {
   "cell_type": "code",
   "execution_count": 12,
   "id": "c8b0277f-f526-4087-82da-c4cdd65d32da",
   "metadata": {
    "execution": {
     "iopub.execute_input": "2025-03-02T21:24:36.749794Z",
     "iopub.status.busy": "2025-03-02T21:24:36.749656Z",
     "iopub.status.idle": "2025-03-02T21:24:36.755370Z",
     "shell.execute_reply": "2025-03-02T21:24:36.755037Z"
    },
    "papermill": {
     "duration": 0.009153,
     "end_time": "2025-03-02T21:24:36.755921",
     "exception": false,
     "start_time": "2025-03-02T21:24:36.746768",
     "status": "completed"
    },
    "tags": []
   },
   "outputs": [
    {
     "data": {
      "text/plain": [
       "232"
      ]
     },
     "execution_count": 12,
     "metadata": {},
     "output_type": "execute_result"
    }
   ],
   "source": [
    "len(data_loader)"
   ]
  },
  {
   "cell_type": "code",
   "execution_count": 13,
   "id": "e15526a4-b3fe-435b-91c9-ad4064562f0f",
   "metadata": {
    "execution": {
     "iopub.execute_input": "2025-03-02T21:24:36.761638Z",
     "iopub.status.busy": "2025-03-02T21:24:36.761509Z",
     "iopub.status.idle": "2025-03-02T21:24:44.472125Z",
     "shell.execute_reply": "2025-03-02T21:24:44.471599Z"
    },
    "papermill": {
     "duration": 7.714421,
     "end_time": "2025-03-02T21:24:44.472992",
     "exception": false,
     "start_time": "2025-03-02T21:24:36.758571",
     "status": "completed"
    },
    "tags": []
   },
   "outputs": [
    {
     "name": "stderr",
     "output_type": "stream",
     "text": [
      "/tmp/ipykernel_1252032/2192687965.py:3: FutureWarning: You are using `torch.load` with `weights_only=False` (the current default value), which uses the default pickle module implicitly. It is possible to construct malicious pickle data which will execute arbitrary code during unpickling (See https://github.com/pytorch/pytorch/blob/main/SECURITY.md#untrusted-models for more details). In a future release, the default value for `weights_only` will be flipped to `True`. This limits the functions that could be executed during unpickling. Arbitrary objects will no longer be allowed to be loaded via this mode unless they are explicitly allowlisted by the user via `torch.serialization.add_safe_globals`. We recommend you start setting `weights_only=True` for any use case where you don't have full control of the loaded file. Please open an issue on GitHub for any issues related to this experimental feature.\n",
      "  lora_model = torch.load(file_path)\n"
     ]
    }
   ],
   "source": [
    "import torch\n",
    "file_path=\"/dss/dsshome1/07/ra65bex2/srawat/contrastive_learning/v1.1/app_average/average_checkpoint_epoch_3.pth\"\n",
    "lora_model = torch.load(file_path)"
   ]
  },
  {
   "cell_type": "code",
   "execution_count": 14,
   "id": "9999e628-5966-4dda-b5c5-c0d762fce27d",
   "metadata": {
    "execution": {
     "iopub.execute_input": "2025-03-02T21:24:44.481909Z",
     "iopub.status.busy": "2025-03-02T21:24:44.481558Z",
     "iopub.status.idle": "2025-03-02T21:24:44.486929Z",
     "shell.execute_reply": "2025-03-02T21:24:44.486583Z"
    },
    "papermill": {
     "duration": 0.009264,
     "end_time": "2025-03-02T21:24:44.487527",
     "exception": false,
     "start_time": "2025-03-02T21:24:44.478263",
     "status": "completed"
    },
    "tags": []
   },
   "outputs": [],
   "source": [
    "device = torch.device('cuda' if torch.cuda.is_available() else 'cpu')\n",
    "lora_model = lora_model.to(device)"
   ]
  },
  {
   "cell_type": "code",
   "execution_count": 15,
   "id": "7e6a3a61-8db0-43db-b575-6399f8515950",
   "metadata": {
    "execution": {
     "iopub.execute_input": "2025-03-02T21:24:44.493386Z",
     "iopub.status.busy": "2025-03-02T21:24:44.493256Z",
     "iopub.status.idle": "2025-03-02T21:24:44.699750Z",
     "shell.execute_reply": "2025-03-02T21:24:44.699284Z"
    },
    "papermill": {
     "duration": 0.21009,
     "end_time": "2025-03-02T21:24:44.700364",
     "exception": false,
     "start_time": "2025-03-02T21:24:44.490274",
     "status": "completed"
    },
    "tags": []
   },
   "outputs": [],
   "source": [
    "from transformers import AutoTokenizer, AutoModel\n",
    "tokenizer = AutoTokenizer.from_pretrained(\"bert-base-uncased\")"
   ]
  },
  {
   "cell_type": "code",
   "execution_count": 16,
   "id": "68ac4919-76f1-4349-a314-4b1061126655",
   "metadata": {
    "execution": {
     "iopub.execute_input": "2025-03-02T21:24:44.706685Z",
     "iopub.status.busy": "2025-03-02T21:24:44.706547Z",
     "iopub.status.idle": "2025-03-02T21:24:44.708930Z",
     "shell.execute_reply": "2025-03-02T21:24:44.708560Z"
    },
    "papermill": {
     "duration": 0.00609,
     "end_time": "2025-03-02T21:24:44.709553",
     "exception": false,
     "start_time": "2025-03-02T21:24:44.703463",
     "status": "completed"
    },
    "tags": []
   },
   "outputs": [],
   "source": [
    "def cosine_distance(x, y):\n",
    "    return 1 - torch.nn.functional.cosine_similarity(x, y, dim=-1)"
   ]
  },
  {
   "cell_type": "code",
   "execution_count": 17,
   "id": "870570ba-20a1-4c0b-8367-525d85af4ded",
   "metadata": {
    "execution": {
     "iopub.execute_input": "2025-03-02T21:24:44.715604Z",
     "iopub.status.busy": "2025-03-02T21:24:44.715360Z",
     "iopub.status.idle": "2025-03-02T21:24:44.722008Z",
     "shell.execute_reply": "2025-03-02T21:24:44.721663Z"
    },
    "papermill": {
     "duration": 0.010204,
     "end_time": "2025-03-02T21:24:44.722541",
     "exception": false,
     "start_time": "2025-03-02T21:24:44.712337",
     "status": "completed"
    },
    "tags": []
   },
   "outputs": [],
   "source": [
    "def avg_embedding(inputs, model):\n",
    "    input=model(**inputs)\n",
    "    input_last_hidden_state=input.last_hidden_state\n",
    "    input_attention_mask = inputs['attention_mask']\n",
    "    input_masked_embeddings = input_last_hidden_state * input_attention_mask.unsqueeze(-1)\n",
    "    input_sum_embeddings = torch.sum(input_masked_embeddings, dim=1)\n",
    "    input_token_counts = torch.sum(input_attention_mask, dim=1).unsqueeze(-1)\n",
    "    input_avg_embeddings = input_sum_embeddings / input_token_counts\n",
    "    return(input_avg_embeddings)"
   ]
  },
  {
   "cell_type": "code",
   "execution_count": 18,
   "id": "990f63bd-4d48-4f58-a001-3b3250f65312",
   "metadata": {
    "execution": {
     "iopub.execute_input": "2025-03-02T21:24:44.729150Z",
     "iopub.status.busy": "2025-03-02T21:24:44.728798Z",
     "iopub.status.idle": "2025-03-02T21:24:44.733946Z",
     "shell.execute_reply": "2025-03-02T21:24:44.733604Z"
    },
    "papermill": {
     "duration": 0.008999,
     "end_time": "2025-03-02T21:24:44.734481",
     "exception": false,
     "start_time": "2025-03-02T21:24:44.725482",
     "status": "completed"
    },
    "tags": []
   },
   "outputs": [],
   "source": [
    "def evaluate_mrr(model, data_loader_val, distance_fn):\n",
    "    model.eval()  \n",
    "\n",
    "    total_rr = 0.0\n",
    "    num_queries = 0\n",
    "\n",
    "    with torch.no_grad():\n",
    "        for batch in data_loader_val:\n",
    "            anchor_text = batch[0]\n",
    "            positive_text = batch[1]\n",
    "            negative_texts = batch[2]\n",
    "\n",
    "            anchor_input = tokenizer(anchor_text, return_tensors='pt', padding=True, truncation=True, max_length=512).to(device)\n",
    "            positive_input = tokenizer(positive_text, return_tensors='pt', padding=True, truncation=True, max_length=512).to(device)\n",
    "\n",
    "            anchor_embedding = avg_embedding(anchor_input, model)\n",
    "            positive_embedding = avg_embedding(positive_input, model)\n",
    "            negative_embedding = [avg_embedding(tokenizer(neg, return_tensors='pt', padding=True, truncation=True, max_length=512).to(device), model) for neg in negative_texts]\n",
    "\n",
    "            pos_dist = distance_fn(anchor_embedding, positive_embedding)\n",
    "            neg_dist = torch.stack([distance_fn(anchor_embedding, neg) for neg in negative_embedding], dim=-1)\n",
    "            all_similarities=torch.cat([-pos_dist.unsqueeze(1), -neg_dist], dim=1)\n",
    "            \n",
    "            sorted_similarities, sorted_indices = torch.sort(all_similarities, dim=1, descending=True)\n",
    "\n",
    "            # Find the rank of the first relevant (positive) document\n",
    "            positive_rank = (sorted_indices == 0).nonzero(as_tuple=True)[1] + 1  # +1 to make rank 1-based\n",
    "            total_rr += torch.sum(1.0 / positive_rank.float()).item()  # Reciprocal rank\n",
    "            num_queries += len(positive_rank)\n",
    "\n",
    "    mrr = total_rr / num_queries\n",
    "    return mrr"
   ]
  },
  {
   "cell_type": "code",
   "execution_count": 19,
   "id": "534a9ec5-4211-4cb6-81f1-fb8a30caff92",
   "metadata": {
    "execution": {
     "iopub.execute_input": "2025-03-02T21:24:44.741000Z",
     "iopub.status.busy": "2025-03-02T21:24:44.740485Z",
     "iopub.status.idle": "2025-03-02T21:26:29.564585Z",
     "shell.execute_reply": "2025-03-02T21:26:29.564059Z"
    },
    "papermill": {
     "duration": 104.832257,
     "end_time": "2025-03-02T21:26:29.569542",
     "exception": false,
     "start_time": "2025-03-02T21:24:44.737285",
     "status": "completed"
    },
    "tags": []
   },
   "outputs": [
    {
     "name": "stdout",
     "output_type": "stream",
     "text": [
      "0.5778573162405979\n"
     ]
    }
   ],
   "source": [
    "mrr_validation = evaluate_mrr(lora_model, data_loader, cosine_distance)\n",
    "print(mrr_validation)"
   ]
  },
  {
   "cell_type": "code",
   "execution_count": null,
   "id": "f61bbd65-41c9-4ac7-80ef-ba4a4fb02d45",
   "metadata": {
    "papermill": {
     "duration": 0.002839,
     "end_time": "2025-03-02T21:26:29.575458",
     "exception": false,
     "start_time": "2025-03-02T21:26:29.572619",
     "status": "completed"
    },
    "tags": []
   },
   "outputs": [],
   "source": []
  }
 ],
 "metadata": {
  "kernelspec": {
   "display_name": "Python (myenv)",
   "language": "python",
   "name": "myenv"
  },
  "language_info": {
   "codemirror_mode": {
    "name": "ipython",
    "version": 3
   },
   "file_extension": ".py",
   "mimetype": "text/x-python",
   "name": "python",
   "nbconvert_exporter": "python",
   "pygments_lexer": "ipython3",
   "version": "3.12.7"
  },
  "papermill": {
   "default_parameters": {},
   "duration": 13804.912839,
   "end_time": "2025-03-02T21:26:32.897538",
   "environment_variables": {},
   "exception": null,
   "input_path": "average_HotpotQA.ipynb",
   "output_path": "average_HotpotQA_output.ipynb",
   "parameters": {},
   "start_time": "2025-03-02T17:36:27.984699",
   "version": "2.6.0"
  },
  "widgets": {
   "application/vnd.jupyter.widget-state+json": {
    "state": {
     "0dbf40dfa2494454883f444fd5c213a6": {
      "model_module": "@jupyter-widgets/controls",
      "model_module_version": "2.0.0",
      "model_name": "HTMLModel",
      "state": {
       "_dom_classes": [],
       "_model_module": "@jupyter-widgets/controls",
       "_model_module_version": "2.0.0",
       "_model_name": "HTMLModel",
       "_view_count": null,
       "_view_module": "@jupyter-widgets/controls",
       "_view_module_version": "2.0.0",
       "_view_name": "HTMLView",
       "description": "",
       "description_allow_html": false,
       "layout": "IPY_MODEL_dd12408c449c4c8fb52c748d5d990d47",
       "placeholder": "​",
       "style": "IPY_MODEL_fefbc9b81ee7447cb68bf1eb2ea5fff2",
       "tabbable": null,
       "tooltip": null,
       "value": " 5233329/5233329 [00:22&lt;00:00, 234729.68it/s]"
      }
     },
     "231bf6a189a745169854d69d36e1f349": {
      "model_module": "@jupyter-widgets/controls",
      "model_module_version": "2.0.0",
      "model_name": "FloatProgressModel",
      "state": {
       "_dom_classes": [],
       "_model_module": "@jupyter-widgets/controls",
       "_model_module_version": "2.0.0",
       "_model_name": "FloatProgressModel",
       "_view_count": null,
       "_view_module": "@jupyter-widgets/controls",
       "_view_module_version": "2.0.0",
       "_view_name": "ProgressView",
       "bar_style": "success",
       "description": "",
       "description_allow_html": false,
       "layout": "IPY_MODEL_ec73922453304a2e855f3784b0c61071",
       "max": 5233329.0,
       "min": 0.0,
       "orientation": "horizontal",
       "style": "IPY_MODEL_c7d7bc5a2c3045479f1e69f0fbc44ee2",
       "tabbable": null,
       "tooltip": null,
       "value": 5233329.0
      }
     },
     "31c245dcc1d04a7abe748f8c038b1aaa": {
      "model_module": "@jupyter-widgets/controls",
      "model_module_version": "2.0.0",
      "model_name": "HTMLModel",
      "state": {
       "_dom_classes": [],
       "_model_module": "@jupyter-widgets/controls",
       "_model_module_version": "2.0.0",
       "_model_name": "HTMLModel",
       "_view_count": null,
       "_view_module": "@jupyter-widgets/controls",
       "_view_module_version": "2.0.0",
       "_view_name": "HTMLView",
       "description": "",
       "description_allow_html": false,
       "layout": "IPY_MODEL_feac1b6f55084aa5abebf678987a65f9",
       "placeholder": "​",
       "style": "IPY_MODEL_7446e7324cfa41d1b69dbdc8ef8f0169",
       "tabbable": null,
       "tooltip": null,
       "value": "100%"
      }
     },
     "3b74b331c4424b749578d9240bdcb049": {
      "model_module": "@jupyter-widgets/base",
      "model_module_version": "2.0.0",
      "model_name": "LayoutModel",
      "state": {
       "_model_module": "@jupyter-widgets/base",
       "_model_module_version": "2.0.0",
       "_model_name": "LayoutModel",
       "_view_count": null,
       "_view_module": "@jupyter-widgets/base",
       "_view_module_version": "2.0.0",
       "_view_name": "LayoutView",
       "align_content": null,
       "align_items": null,
       "align_self": null,
       "border_bottom": null,
       "border_left": null,
       "border_right": null,
       "border_top": null,
       "bottom": null,
       "display": null,
       "flex": null,
       "flex_flow": null,
       "grid_area": null,
       "grid_auto_columns": null,
       "grid_auto_flow": null,
       "grid_auto_rows": null,
       "grid_column": null,
       "grid_gap": null,
       "grid_row": null,
       "grid_template_areas": null,
       "grid_template_columns": null,
       "grid_template_rows": null,
       "height": null,
       "justify_content": null,
       "justify_items": null,
       "left": null,
       "margin": null,
       "max_height": null,
       "max_width": null,
       "min_height": null,
       "min_width": null,
       "object_fit": null,
       "object_position": null,
       "order": null,
       "overflow": null,
       "padding": null,
       "right": null,
       "top": null,
       "visibility": null,
       "width": null
      }
     },
     "7446e7324cfa41d1b69dbdc8ef8f0169": {
      "model_module": "@jupyter-widgets/controls",
      "model_module_version": "2.0.0",
      "model_name": "HTMLStyleModel",
      "state": {
       "_model_module": "@jupyter-widgets/controls",
       "_model_module_version": "2.0.0",
       "_model_name": "HTMLStyleModel",
       "_view_count": null,
       "_view_module": "@jupyter-widgets/base",
       "_view_module_version": "2.0.0",
       "_view_name": "StyleView",
       "background": null,
       "description_width": "",
       "font_size": null,
       "text_color": null
      }
     },
     "c13e2ff82815408b923fe19edff9e592": {
      "model_module": "@jupyter-widgets/controls",
      "model_module_version": "2.0.0",
      "model_name": "HBoxModel",
      "state": {
       "_dom_classes": [],
       "_model_module": "@jupyter-widgets/controls",
       "_model_module_version": "2.0.0",
       "_model_name": "HBoxModel",
       "_view_count": null,
       "_view_module": "@jupyter-widgets/controls",
       "_view_module_version": "2.0.0",
       "_view_name": "HBoxView",
       "box_style": "",
       "children": [
        "IPY_MODEL_31c245dcc1d04a7abe748f8c038b1aaa",
        "IPY_MODEL_231bf6a189a745169854d69d36e1f349",
        "IPY_MODEL_0dbf40dfa2494454883f444fd5c213a6"
       ],
       "layout": "IPY_MODEL_3b74b331c4424b749578d9240bdcb049",
       "tabbable": null,
       "tooltip": null
      }
     },
     "c7d7bc5a2c3045479f1e69f0fbc44ee2": {
      "model_module": "@jupyter-widgets/controls",
      "model_module_version": "2.0.0",
      "model_name": "ProgressStyleModel",
      "state": {
       "_model_module": "@jupyter-widgets/controls",
       "_model_module_version": "2.0.0",
       "_model_name": "ProgressStyleModel",
       "_view_count": null,
       "_view_module": "@jupyter-widgets/base",
       "_view_module_version": "2.0.0",
       "_view_name": "StyleView",
       "bar_color": null,
       "description_width": ""
      }
     },
     "dd12408c449c4c8fb52c748d5d990d47": {
      "model_module": "@jupyter-widgets/base",
      "model_module_version": "2.0.0",
      "model_name": "LayoutModel",
      "state": {
       "_model_module": "@jupyter-widgets/base",
       "_model_module_version": "2.0.0",
       "_model_name": "LayoutModel",
       "_view_count": null,
       "_view_module": "@jupyter-widgets/base",
       "_view_module_version": "2.0.0",
       "_view_name": "LayoutView",
       "align_content": null,
       "align_items": null,
       "align_self": null,
       "border_bottom": null,
       "border_left": null,
       "border_right": null,
       "border_top": null,
       "bottom": null,
       "display": null,
       "flex": null,
       "flex_flow": null,
       "grid_area": null,
       "grid_auto_columns": null,
       "grid_auto_flow": null,
       "grid_auto_rows": null,
       "grid_column": null,
       "grid_gap": null,
       "grid_row": null,
       "grid_template_areas": null,
       "grid_template_columns": null,
       "grid_template_rows": null,
       "height": null,
       "justify_content": null,
       "justify_items": null,
       "left": null,
       "margin": null,
       "max_height": null,
       "max_width": null,
       "min_height": null,
       "min_width": null,
       "object_fit": null,
       "object_position": null,
       "order": null,
       "overflow": null,
       "padding": null,
       "right": null,
       "top": null,
       "visibility": null,
       "width": null
      }
     },
     "ec73922453304a2e855f3784b0c61071": {
      "model_module": "@jupyter-widgets/base",
      "model_module_version": "2.0.0",
      "model_name": "LayoutModel",
      "state": {
       "_model_module": "@jupyter-widgets/base",
       "_model_module_version": "2.0.0",
       "_model_name": "LayoutModel",
       "_view_count": null,
       "_view_module": "@jupyter-widgets/base",
       "_view_module_version": "2.0.0",
       "_view_name": "LayoutView",
       "align_content": null,
       "align_items": null,
       "align_self": null,
       "border_bottom": null,
       "border_left": null,
       "border_right": null,
       "border_top": null,
       "bottom": null,
       "display": null,
       "flex": null,
       "flex_flow": null,
       "grid_area": null,
       "grid_auto_columns": null,
       "grid_auto_flow": null,
       "grid_auto_rows": null,
       "grid_column": null,
       "grid_gap": null,
       "grid_row": null,
       "grid_template_areas": null,
       "grid_template_columns": null,
       "grid_template_rows": null,
       "height": null,
       "justify_content": null,
       "justify_items": null,
       "left": null,
       "margin": null,
       "max_height": null,
       "max_width": null,
       "min_height": null,
       "min_width": null,
       "object_fit": null,
       "object_position": null,
       "order": null,
       "overflow": null,
       "padding": null,
       "right": null,
       "top": null,
       "visibility": null,
       "width": null
      }
     },
     "feac1b6f55084aa5abebf678987a65f9": {
      "model_module": "@jupyter-widgets/base",
      "model_module_version": "2.0.0",
      "model_name": "LayoutModel",
      "state": {
       "_model_module": "@jupyter-widgets/base",
       "_model_module_version": "2.0.0",
       "_model_name": "LayoutModel",
       "_view_count": null,
       "_view_module": "@jupyter-widgets/base",
       "_view_module_version": "2.0.0",
       "_view_name": "LayoutView",
       "align_content": null,
       "align_items": null,
       "align_self": null,
       "border_bottom": null,
       "border_left": null,
       "border_right": null,
       "border_top": null,
       "bottom": null,
       "display": null,
       "flex": null,
       "flex_flow": null,
       "grid_area": null,
       "grid_auto_columns": null,
       "grid_auto_flow": null,
       "grid_auto_rows": null,
       "grid_column": null,
       "grid_gap": null,
       "grid_row": null,
       "grid_template_areas": null,
       "grid_template_columns": null,
       "grid_template_rows": null,
       "height": null,
       "justify_content": null,
       "justify_items": null,
       "left": null,
       "margin": null,
       "max_height": null,
       "max_width": null,
       "min_height": null,
       "min_width": null,
       "object_fit": null,
       "object_position": null,
       "order": null,
       "overflow": null,
       "padding": null,
       "right": null,
       "top": null,
       "visibility": null,
       "width": null
      }
     },
     "fefbc9b81ee7447cb68bf1eb2ea5fff2": {
      "model_module": "@jupyter-widgets/controls",
      "model_module_version": "2.0.0",
      "model_name": "HTMLStyleModel",
      "state": {
       "_model_module": "@jupyter-widgets/controls",
       "_model_module_version": "2.0.0",
       "_model_name": "HTMLStyleModel",
       "_view_count": null,
       "_view_module": "@jupyter-widgets/base",
       "_view_module_version": "2.0.0",
       "_view_name": "StyleView",
       "background": null,
       "description_width": "",
       "font_size": null,
       "text_color": null
      }
     }
    },
    "version_major": 2,
    "version_minor": 0
   }
  }
 },
 "nbformat": 4,
 "nbformat_minor": 5
}