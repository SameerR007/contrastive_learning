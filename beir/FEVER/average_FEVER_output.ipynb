{
 "cells": [
  {
   "cell_type": "code",
   "execution_count": 1,
   "id": "f6d4b65f-fa6b-4517-8694-8627bc49833b",
   "metadata": {
    "execution": {
     "iopub.execute_input": "2025-03-02T04:40:43.295881Z",
     "iopub.status.busy": "2025-03-02T04:40:43.295619Z",
     "iopub.status.idle": "2025-03-02T04:40:43.391559Z",
     "shell.execute_reply": "2025-03-02T04:40:43.391166Z"
    },
    "papermill": {
     "duration": 0.099726,
     "end_time": "2025-03-02T04:40:43.392220",
     "exception": false,
     "start_time": "2025-03-02T04:40:43.292494",
     "status": "completed"
    },
    "tags": []
   },
   "outputs": [
    {
     "name": "stderr",
     "output_type": "stream",
     "text": [
      "/dss/dsshome1/07/ra65bex2/srawat/myenv/lib/python3.12/site-packages/beir/datasets/data_loader.py:8: TqdmExperimentalWarning: Using `tqdm.autonotebook.tqdm` in notebook mode. Use `tqdm.tqdm` instead to force console mode (e.g. in jupyter console)\n",
      "  from tqdm.autonotebook import tqdm\n"
     ]
    }
   ],
   "source": [
    "from beir.datasets.data_loader import GenericDataLoader"
   ]
  },
  {
   "cell_type": "code",
   "execution_count": 2,
   "id": "a91d6914-e301-422c-b839-1fafeb1e8fa4",
   "metadata": {
    "execution": {
     "iopub.execute_input": "2025-03-02T04:40:43.397735Z",
     "iopub.status.busy": "2025-03-02T04:40:43.397383Z",
     "iopub.status.idle": "2025-03-02T04:40:43.399699Z",
     "shell.execute_reply": "2025-03-02T04:40:43.399335Z"
    },
    "papermill": {
     "duration": 0.005617,
     "end_time": "2025-03-02T04:40:43.400346",
     "exception": false,
     "start_time": "2025-03-02T04:40:43.394729",
     "status": "completed"
    },
    "tags": []
   },
   "outputs": [],
   "source": [
    "data_path=\"/dss/dsshome1/07/ra65bex2/srawat/fever/fever\""
   ]
  },
  {
   "cell_type": "code",
   "execution_count": 3,
   "id": "41e17333-2c34-4b7b-91f6-3cbd3972f0d6",
   "metadata": {
    "execution": {
     "iopub.execute_input": "2025-03-02T04:40:43.405209Z",
     "iopub.status.busy": "2025-03-02T04:40:43.404936Z",
     "iopub.status.idle": "2025-03-02T04:41:11.714516Z",
     "shell.execute_reply": "2025-03-02T04:41:11.713989Z"
    },
    "papermill": {
     "duration": 28.31309,
     "end_time": "2025-03-02T04:41:11.715527",
     "exception": false,
     "start_time": "2025-03-02T04:40:43.402437",
     "status": "completed"
    },
    "tags": []
   },
   "outputs": [
    {
     "data": {
      "application/vnd.jupyter.widget-view+json": {
       "model_id": "e88809d7222043d9ae9a26327a8a0351",
       "version_major": 2,
       "version_minor": 0
      },
      "text/plain": [
       "  0%|          | 0/5416568 [00:00<?, ?it/s]"
      ]
     },
     "metadata": {},
     "output_type": "display_data"
    }
   ],
   "source": [
    "corpus, queries, qrels = GenericDataLoader(data_path).load(split=\"test\")"
   ]
  },
  {
   "cell_type": "code",
   "execution_count": 4,
   "id": "a29044d5-3952-4f3d-aa43-e1efd34fcad3",
   "metadata": {
    "execution": {
     "iopub.execute_input": "2025-03-02T04:41:11.725224Z",
     "iopub.status.busy": "2025-03-02T04:41:11.725014Z",
     "iopub.status.idle": "2025-03-02T08:21:46.477273Z",
     "shell.execute_reply": "2025-03-02T08:21:46.476504Z"
    },
    "papermill": {
     "duration": 13234.756628,
     "end_time": "2025-03-02T08:21:46.478851",
     "exception": false,
     "start_time": "2025-03-02T04:41:11.722223",
     "status": "completed"
    },
    "tags": []
   },
   "outputs": [],
   "source": [
    "contrastive_pairs=[]\n",
    "import random\n",
    "c=0\n",
    "for query_id, relevant_docs in qrels.items():\n",
    "    try:\n",
    "        query_text = queries[query_id]\n",
    "        for doc_id in relevant_docs:\n",
    "            positive = corpus[doc_id][\"text\"]\n",
    "        #print(relevant_docs)\n",
    "        positive_doc_ids = set(relevant_docs)\n",
    "        all_doc_ids = set(corpus.keys())\n",
    "        negative_doc_ids = all_doc_ids - positive_doc_ids\n",
    "        negative_doc_ids=list(negative_doc_ids)\n",
    "        negative_doc_samples = random.sample(negative_doc_ids, k=5)\n",
    "        negatives=[]\n",
    "        for neg_doc_id in negative_doc_samples:\n",
    "            negative_doc_text = corpus[neg_doc_id][\"text\"]\n",
    "            negatives.append(negative_doc_text)\n",
    "        contrastive_pairs.append({\n",
    "            \"anchor\": query_text,\n",
    "            \"positive\": positive,\n",
    "            \"negatives\": negatives\n",
    "        })\n",
    "    except:\n",
    "        c=c+1"
   ]
  },
  {
   "cell_type": "code",
   "execution_count": 5,
   "id": "49721946-fff3-4690-bd92-d981cecdf62b",
   "metadata": {
    "execution": {
     "iopub.execute_input": "2025-03-02T08:21:46.498135Z",
     "iopub.status.busy": "2025-03-02T08:21:46.497744Z",
     "iopub.status.idle": "2025-03-02T08:21:46.501755Z",
     "shell.execute_reply": "2025-03-02T08:21:46.501422Z"
    },
    "papermill": {
     "duration": 0.007885,
     "end_time": "2025-03-02T08:21:46.502413",
     "exception": false,
     "start_time": "2025-03-02T08:21:46.494528",
     "status": "completed"
    },
    "tags": []
   },
   "outputs": [
    {
     "data": {
      "text/plain": [
       "0"
      ]
     },
     "execution_count": 5,
     "metadata": {},
     "output_type": "execute_result"
    }
   ],
   "source": [
    "c"
   ]
  },
  {
   "cell_type": "code",
   "execution_count": 6,
   "id": "de8ef367-dcb4-4bb6-af3a-20f190930ed1",
   "metadata": {
    "execution": {
     "iopub.execute_input": "2025-03-02T08:21:46.507669Z",
     "iopub.status.busy": "2025-03-02T08:21:46.507325Z",
     "iopub.status.idle": "2025-03-02T08:21:46.581733Z",
     "shell.execute_reply": "2025-03-02T08:21:46.581408Z"
    },
    "papermill": {
     "duration": 0.077612,
     "end_time": "2025-03-02T08:21:46.582348",
     "exception": false,
     "start_time": "2025-03-02T08:21:46.504736",
     "status": "completed"
    },
    "tags": []
   },
   "outputs": [
    {
     "data": {
      "text/plain": [
       "6666"
      ]
     },
     "execution_count": 6,
     "metadata": {},
     "output_type": "execute_result"
    }
   ],
   "source": [
    "len(contrastive_pairs)"
   ]
  },
  {
   "cell_type": "code",
   "execution_count": 7,
   "id": "8ade92f9-e3df-4d0a-b849-b1a721e18cf6",
   "metadata": {
    "execution": {
     "iopub.execute_input": "2025-03-02T08:21:46.589601Z",
     "iopub.status.busy": "2025-03-02T08:21:46.589354Z",
     "iopub.status.idle": "2025-03-02T08:21:46.604447Z",
     "shell.execute_reply": "2025-03-02T08:21:46.604118Z"
    },
    "papermill": {
     "duration": 0.020326,
     "end_time": "2025-03-02T08:21:46.605137",
     "exception": false,
     "start_time": "2025-03-02T08:21:46.584811",
     "status": "completed"
    },
    "tags": []
   },
   "outputs": [
    {
     "data": {
      "text/plain": [
       "6666"
      ]
     },
     "execution_count": 7,
     "metadata": {},
     "output_type": "execute_result"
    }
   ],
   "source": [
    "len(qrels)"
   ]
  },
  {
   "cell_type": "code",
   "execution_count": 8,
   "id": "6b97f7b4-f007-41f6-bfbb-1b9b01665e9d",
   "metadata": {
    "execution": {
     "iopub.execute_input": "2025-03-02T08:21:46.610773Z",
     "iopub.status.busy": "2025-03-02T08:21:46.610520Z",
     "iopub.status.idle": "2025-03-02T08:21:55.703646Z",
     "shell.execute_reply": "2025-03-02T08:21:55.703220Z"
    },
    "papermill": {
     "duration": 9.096835,
     "end_time": "2025-03-02T08:21:55.704642",
     "exception": false,
     "start_time": "2025-03-02T08:21:46.607807",
     "status": "completed"
    },
    "tags": []
   },
   "outputs": [],
   "source": [
    "from torch.utils.data import DataLoader"
   ]
  },
  {
   "cell_type": "code",
   "execution_count": 9,
   "id": "a415b29a-a543-4679-8f78-44f715b3067d",
   "metadata": {
    "execution": {
     "iopub.execute_input": "2025-03-02T08:21:55.712823Z",
     "iopub.status.busy": "2025-03-02T08:21:55.712599Z",
     "iopub.status.idle": "2025-03-02T08:21:55.715389Z",
     "shell.execute_reply": "2025-03-02T08:21:55.715086Z"
    },
    "papermill": {
     "duration": 0.006467,
     "end_time": "2025-03-02T08:21:55.715997",
     "exception": false,
     "start_time": "2025-03-02T08:21:55.709530",
     "status": "completed"
    },
    "tags": []
   },
   "outputs": [],
   "source": [
    "class ContrastiveDataset:\n",
    "    def __init__(self, pairs):\n",
    "        self.pairs = pairs\n",
    "\n",
    "    def __len__(self):\n",
    "        return len(self.pairs)\n",
    "\n",
    "    def __getitem__(self, idx):\n",
    "        item = self.pairs[idx]\n",
    "        return item[\"anchor\"], item[\"positive\"], item[\"negatives\"]"
   ]
  },
  {
   "cell_type": "code",
   "execution_count": 10,
   "id": "a39efeab-fd20-411a-80c5-315f362e00d2",
   "metadata": {
    "execution": {
     "iopub.execute_input": "2025-03-02T08:21:55.721695Z",
     "iopub.status.busy": "2025-03-02T08:21:55.721565Z",
     "iopub.status.idle": "2025-03-02T08:21:55.784758Z",
     "shell.execute_reply": "2025-03-02T08:21:55.784414Z"
    },
    "papermill": {
     "duration": 0.066678,
     "end_time": "2025-03-02T08:21:55.785371",
     "exception": false,
     "start_time": "2025-03-02T08:21:55.718693",
     "status": "completed"
    },
    "tags": []
   },
   "outputs": [],
   "source": [
    "contrastive_dataset = ContrastiveDataset(contrastive_pairs)"
   ]
  },
  {
   "cell_type": "code",
   "execution_count": 11,
   "id": "d103bbfa-895a-4020-a7e5-21de659f27dc",
   "metadata": {
    "execution": {
     "iopub.execute_input": "2025-03-02T08:21:55.791055Z",
     "iopub.status.busy": "2025-03-02T08:21:55.790787Z",
     "iopub.status.idle": "2025-03-02T08:21:55.807665Z",
     "shell.execute_reply": "2025-03-02T08:21:55.807370Z"
    },
    "papermill": {
     "duration": 0.020227,
     "end_time": "2025-03-02T08:21:55.808211",
     "exception": false,
     "start_time": "2025-03-02T08:21:55.787984",
     "status": "completed"
    },
    "tags": []
   },
   "outputs": [],
   "source": [
    "data_loader = DataLoader(contrastive_dataset, batch_size=32, shuffle=True)"
   ]
  },
  {
   "cell_type": "code",
   "execution_count": 12,
   "id": "c8b0277f-f526-4087-82da-c4cdd65d32da",
   "metadata": {
    "execution": {
     "iopub.execute_input": "2025-03-02T08:21:55.813940Z",
     "iopub.status.busy": "2025-03-02T08:21:55.813674Z",
     "iopub.status.idle": "2025-03-02T08:21:55.831538Z",
     "shell.execute_reply": "2025-03-02T08:21:55.831263Z"
    },
    "papermill": {
     "duration": 0.021397,
     "end_time": "2025-03-02T08:21:55.832132",
     "exception": false,
     "start_time": "2025-03-02T08:21:55.810735",
     "status": "completed"
    },
    "tags": []
   },
   "outputs": [
    {
     "data": {
      "text/plain": [
       "209"
      ]
     },
     "execution_count": 12,
     "metadata": {},
     "output_type": "execute_result"
    }
   ],
   "source": [
    "len(data_loader)"
   ]
  },
  {
   "cell_type": "code",
   "execution_count": 13,
   "id": "e15526a4-b3fe-435b-91c9-ad4064562f0f",
   "metadata": {
    "execution": {
     "iopub.execute_input": "2025-03-02T08:21:55.837996Z",
     "iopub.status.busy": "2025-03-02T08:21:55.837792Z",
     "iopub.status.idle": "2025-03-02T08:22:11.614881Z",
     "shell.execute_reply": "2025-03-02T08:22:11.614352Z"
    },
    "papermill": {
     "duration": 15.78103,
     "end_time": "2025-03-02T08:22:11.615818",
     "exception": false,
     "start_time": "2025-03-02T08:21:55.834788",
     "status": "completed"
    },
    "tags": []
   },
   "outputs": [
    {
     "name": "stderr",
     "output_type": "stream",
     "text": [
      "/tmp/ipykernel_388062/2192687965.py:3: FutureWarning: You are using `torch.load` with `weights_only=False` (the current default value), which uses the default pickle module implicitly. It is possible to construct malicious pickle data which will execute arbitrary code during unpickling (See https://github.com/pytorch/pytorch/blob/main/SECURITY.md#untrusted-models for more details). In a future release, the default value for `weights_only` will be flipped to `True`. This limits the functions that could be executed during unpickling. Arbitrary objects will no longer be allowed to be loaded via this mode unless they are explicitly allowlisted by the user via `torch.serialization.add_safe_globals`. We recommend you start setting `weights_only=True` for any use case where you don't have full control of the loaded file. Please open an issue on GitHub for any issues related to this experimental feature.\n",
      "  lora_model = torch.load(file_path)\n"
     ]
    }
   ],
   "source": [
    "import torch\n",
    "file_path=\"/dss/dsshome1/07/ra65bex2/srawat/contrastive_learning/v1.1/app_average/average_checkpoint_epoch_3.pth\"\n",
    "lora_model = torch.load(file_path)"
   ]
  },
  {
   "cell_type": "code",
   "execution_count": 14,
   "id": "9999e628-5966-4dda-b5c5-c0d762fce27d",
   "metadata": {
    "execution": {
     "iopub.execute_input": "2025-03-02T08:22:11.624325Z",
     "iopub.status.busy": "2025-03-02T08:22:11.623892Z",
     "iopub.status.idle": "2025-03-02T08:22:11.629294Z",
     "shell.execute_reply": "2025-03-02T08:22:11.628887Z"
    },
    "papermill": {
     "duration": 0.009104,
     "end_time": "2025-03-02T08:22:11.629912",
     "exception": false,
     "start_time": "2025-03-02T08:22:11.620808",
     "status": "completed"
    },
    "tags": []
   },
   "outputs": [],
   "source": [
    "device = torch.device('cuda' if torch.cuda.is_available() else 'cpu')\n",
    "lora_model = lora_model.to(device)"
   ]
  },
  {
   "cell_type": "code",
   "execution_count": 15,
   "id": "7e6a3a61-8db0-43db-b575-6399f8515950",
   "metadata": {
    "execution": {
     "iopub.execute_input": "2025-03-02T08:22:11.636005Z",
     "iopub.status.busy": "2025-03-02T08:22:11.635691Z",
     "iopub.status.idle": "2025-03-02T08:22:11.889685Z",
     "shell.execute_reply": "2025-03-02T08:22:11.889272Z"
    },
    "papermill": {
     "duration": 0.257901,
     "end_time": "2025-03-02T08:22:11.890631",
     "exception": false,
     "start_time": "2025-03-02T08:22:11.632730",
     "status": "completed"
    },
    "tags": []
   },
   "outputs": [],
   "source": [
    "from transformers import AutoTokenizer, AutoModel\n",
    "tokenizer = AutoTokenizer.from_pretrained(\"bert-base-uncased\")"
   ]
  },
  {
   "cell_type": "code",
   "execution_count": 16,
   "id": "68ac4919-76f1-4349-a314-4b1061126655",
   "metadata": {
    "execution": {
     "iopub.execute_input": "2025-03-02T08:22:11.897559Z",
     "iopub.status.busy": "2025-03-02T08:22:11.897331Z",
     "iopub.status.idle": "2025-03-02T08:22:11.899561Z",
     "shell.execute_reply": "2025-03-02T08:22:11.899256Z"
    },
    "papermill": {
     "duration": 0.005993,
     "end_time": "2025-03-02T08:22:11.900141",
     "exception": false,
     "start_time": "2025-03-02T08:22:11.894148",
     "status": "completed"
    },
    "tags": []
   },
   "outputs": [],
   "source": [
    "def cosine_distance(x, y):\n",
    "    return 1 - torch.nn.functional.cosine_similarity(x, y, dim=-1)"
   ]
  },
  {
   "cell_type": "code",
   "execution_count": 17,
   "id": "870570ba-20a1-4c0b-8367-525d85af4ded",
   "metadata": {
    "execution": {
     "iopub.execute_input": "2025-03-02T08:22:11.906061Z",
     "iopub.status.busy": "2025-03-02T08:22:11.905930Z",
     "iopub.status.idle": "2025-03-02T08:22:11.923607Z",
     "shell.execute_reply": "2025-03-02T08:22:11.923300Z"
    },
    "papermill": {
     "duration": 0.021333,
     "end_time": "2025-03-02T08:22:11.924217",
     "exception": false,
     "start_time": "2025-03-02T08:22:11.902884",
     "status": "completed"
    },
    "tags": []
   },
   "outputs": [],
   "source": [
    "def avg_embedding(inputs, model):\n",
    "    input=model(**inputs)\n",
    "    input_last_hidden_state=input.last_hidden_state\n",
    "    input_attention_mask = inputs['attention_mask']\n",
    "    input_masked_embeddings = input_last_hidden_state * input_attention_mask.unsqueeze(-1)\n",
    "    input_sum_embeddings = torch.sum(input_masked_embeddings, dim=1)\n",
    "    input_token_counts = torch.sum(input_attention_mask, dim=1).unsqueeze(-1)\n",
    "    input_avg_embeddings = input_sum_embeddings / input_token_counts\n",
    "    return(input_avg_embeddings)"
   ]
  },
  {
   "cell_type": "code",
   "execution_count": 18,
   "id": "990f63bd-4d48-4f58-a001-3b3250f65312",
   "metadata": {
    "execution": {
     "iopub.execute_input": "2025-03-02T08:22:11.930585Z",
     "iopub.status.busy": "2025-03-02T08:22:11.930454Z",
     "iopub.status.idle": "2025-03-02T08:22:11.947669Z",
     "shell.execute_reply": "2025-03-02T08:22:11.947361Z"
    },
    "papermill": {
     "duration": 0.021187,
     "end_time": "2025-03-02T08:22:11.948264",
     "exception": false,
     "start_time": "2025-03-02T08:22:11.927077",
     "status": "completed"
    },
    "tags": []
   },
   "outputs": [],
   "source": [
    "def evaluate_mrr(model, data_loader_val, distance_fn):\n",
    "    model.eval()  \n",
    "\n",
    "    total_rr = 0.0\n",
    "    num_queries = 0\n",
    "\n",
    "    with torch.no_grad():\n",
    "        for batch in data_loader_val:\n",
    "            anchor_text = batch[0]\n",
    "            positive_text = batch[1]\n",
    "            negative_texts = batch[2]\n",
    "\n",
    "            anchor_input = tokenizer(anchor_text, return_tensors='pt', padding=True, truncation=True, max_length=512).to(device)\n",
    "            positive_input = tokenizer(positive_text, return_tensors='pt', padding=True, truncation=True, max_length=512).to(device)\n",
    "\n",
    "            anchor_embedding = avg_embedding(anchor_input, model)\n",
    "            positive_embedding = avg_embedding(positive_input, model)\n",
    "            negative_embedding = [avg_embedding(tokenizer(neg, return_tensors='pt', padding=True, truncation=True, max_length=512).to(device), model) for neg in negative_texts]\n",
    "\n",
    "            pos_dist = distance_fn(anchor_embedding, positive_embedding)\n",
    "            neg_dist = torch.stack([distance_fn(anchor_embedding, neg) for neg in negative_embedding], dim=-1)\n",
    "            all_similarities=torch.cat([-pos_dist.unsqueeze(1), -neg_dist], dim=1)\n",
    "            \n",
    "            sorted_similarities, sorted_indices = torch.sort(all_similarities, dim=1, descending=True)\n",
    "\n",
    "            # Find the rank of the first relevant (positive) document\n",
    "            positive_rank = (sorted_indices == 0).nonzero(as_tuple=True)[1] + 1  # +1 to make rank 1-based\n",
    "            total_rr += torch.sum(1.0 / positive_rank.float()).item()  # Reciprocal rank\n",
    "            num_queries += len(positive_rank)\n",
    "\n",
    "    mrr = total_rr / num_queries\n",
    "    return mrr"
   ]
  },
  {
   "cell_type": "code",
   "execution_count": 19,
   "id": "534a9ec5-4211-4cb6-81f1-fb8a30caff92",
   "metadata": {
    "execution": {
     "iopub.execute_input": "2025-03-02T08:22:11.954232Z",
     "iopub.status.busy": "2025-03-02T08:22:11.954102Z",
     "iopub.status.idle": "2025-03-02T08:25:40.601090Z",
     "shell.execute_reply": "2025-03-02T08:25:40.600015Z"
    },
    "papermill": {
     "duration": 208.654554,
     "end_time": "2025-03-02T08:25:40.605609",
     "exception": false,
     "start_time": "2025-03-02T08:22:11.951055",
     "status": "completed"
    },
    "tags": []
   },
   "outputs": [
    {
     "name": "stdout",
     "output_type": "stream",
     "text": [
      "0.7187593855229791\n"
     ]
    }
   ],
   "source": [
    "mrr_validation = evaluate_mrr(lora_model, data_loader, cosine_distance)\n",
    "print(mrr_validation)"
   ]
  },
  {
   "cell_type": "code",
   "execution_count": null,
   "id": "f61bbd65-41c9-4ac7-80ef-ba4a4fb02d45",
   "metadata": {
    "papermill": {
     "duration": 0.002812,
     "end_time": "2025-03-02T08:25:40.611473",
     "exception": false,
     "start_time": "2025-03-02T08:25:40.608661",
     "status": "completed"
    },
    "tags": []
   },
   "outputs": [],
   "source": []
  }
 ],
 "metadata": {
  "kernelspec": {
   "display_name": "Python (myenv)",
   "language": "python",
   "name": "myenv"
  },
  "language_info": {
   "codemirror_mode": {
    "name": "ipython",
    "version": 3
   },
   "file_extension": ".py",
   "mimetype": "text/x-python",
   "name": "python",
   "nbconvert_exporter": "python",
   "pygments_lexer": "ipython3",
   "version": "3.12.7"
  },
  "papermill": {
   "default_parameters": {},
   "duration": 13502.993774,
   "end_time": "2025-03-02T08:25:44.031977",
   "environment_variables": {},
   "exception": null,
   "input_path": "average_FEVER.ipynb",
   "output_path": "average_FEVER_output.ipynb",
   "parameters": {},
   "start_time": "2025-03-02T04:40:41.038203",
   "version": "2.6.0"
  },
  "widgets": {
   "application/vnd.jupyter.widget-state+json": {
    "state": {
     "008a672a3052489f9a3ea828d2bc874a": {
      "model_module": "@jupyter-widgets/base",
      "model_module_version": "2.0.0",
      "model_name": "LayoutModel",
      "state": {
       "_model_module": "@jupyter-widgets/base",
       "_model_module_version": "2.0.0",
       "_model_name": "LayoutModel",
       "_view_count": null,
       "_view_module": "@jupyter-widgets/base",
       "_view_module_version": "2.0.0",
       "_view_name": "LayoutView",
       "align_content": null,
       "align_items": null,
       "align_self": null,
       "border_bottom": null,
       "border_left": null,
       "border_right": null,
       "border_top": null,
       "bottom": null,
       "display": null,
       "flex": null,
       "flex_flow": null,
       "grid_area": null,
       "grid_auto_columns": null,
       "grid_auto_flow": null,
       "grid_auto_rows": null,
       "grid_column": null,
       "grid_gap": null,
       "grid_row": null,
       "grid_template_areas": null,
       "grid_template_columns": null,
       "grid_template_rows": null,
       "height": null,
       "justify_content": null,
       "justify_items": null,
       "left": null,
       "margin": null,
       "max_height": null,
       "max_width": null,
       "min_height": null,
       "min_width": null,
       "object_fit": null,
       "object_position": null,
       "order": null,
       "overflow": null,
       "padding": null,
       "right": null,
       "top": null,
       "visibility": null,
       "width": null
      }
     },
     "1110a12040b642cf962a0ec3fb82f815": {
      "model_module": "@jupyter-widgets/controls",
      "model_module_version": "2.0.0",
      "model_name": "ProgressStyleModel",
      "state": {
       "_model_module": "@jupyter-widgets/controls",
       "_model_module_version": "2.0.0",
       "_model_name": "ProgressStyleModel",
       "_view_count": null,
       "_view_module": "@jupyter-widgets/base",
       "_view_module_version": "2.0.0",
       "_view_name": "StyleView",
       "bar_color": null,
       "description_width": ""
      }
     },
     "136d3abd822742f287da8e626b79e47d": {
      "model_module": "@jupyter-widgets/controls",
      "model_module_version": "2.0.0",
      "model_name": "HTMLStyleModel",
      "state": {
       "_model_module": "@jupyter-widgets/controls",
       "_model_module_version": "2.0.0",
       "_model_name": "HTMLStyleModel",
       "_view_count": null,
       "_view_module": "@jupyter-widgets/base",
       "_view_module_version": "2.0.0",
       "_view_name": "StyleView",
       "background": null,
       "description_width": "",
       "font_size": null,
       "text_color": null
      }
     },
     "548c35d1d25d4617a2e4fa244e7e66d3": {
      "model_module": "@jupyter-widgets/controls",
      "model_module_version": "2.0.0",
      "model_name": "FloatProgressModel",
      "state": {
       "_dom_classes": [],
       "_model_module": "@jupyter-widgets/controls",
       "_model_module_version": "2.0.0",
       "_model_name": "FloatProgressModel",
       "_view_count": null,
       "_view_module": "@jupyter-widgets/controls",
       "_view_module_version": "2.0.0",
       "_view_name": "ProgressView",
       "bar_style": "success",
       "description": "",
       "description_allow_html": false,
       "layout": "IPY_MODEL_008a672a3052489f9a3ea828d2bc874a",
       "max": 5416568.0,
       "min": 0.0,
       "orientation": "horizontal",
       "style": "IPY_MODEL_1110a12040b642cf962a0ec3fb82f815",
       "tabbable": null,
       "tooltip": null,
       "value": 5416568.0
      }
     },
     "6469567eea1340f5965edcb36d30e755": {
      "model_module": "@jupyter-widgets/base",
      "model_module_version": "2.0.0",
      "model_name": "LayoutModel",
      "state": {
       "_model_module": "@jupyter-widgets/base",
       "_model_module_version": "2.0.0",
       "_model_name": "LayoutModel",
       "_view_count": null,
       "_view_module": "@jupyter-widgets/base",
       "_view_module_version": "2.0.0",
       "_view_name": "LayoutView",
       "align_content": null,
       "align_items": null,
       "align_self": null,
       "border_bottom": null,
       "border_left": null,
       "border_right": null,
       "border_top": null,
       "bottom": null,
       "display": null,
       "flex": null,
       "flex_flow": null,
       "grid_area": null,
       "grid_auto_columns": null,
       "grid_auto_flow": null,
       "grid_auto_rows": null,
       "grid_column": null,
       "grid_gap": null,
       "grid_row": null,
       "grid_template_areas": null,
       "grid_template_columns": null,
       "grid_template_rows": null,
       "height": null,
       "justify_content": null,
       "justify_items": null,
       "left": null,
       "margin": null,
       "max_height": null,
       "max_width": null,
       "min_height": null,
       "min_width": null,
       "object_fit": null,
       "object_position": null,
       "order": null,
       "overflow": null,
       "padding": null,
       "right": null,
       "top": null,
       "visibility": null,
       "width": null
      }
     },
     "73a7b31d904c4f9285268fd2d32e915a": {
      "model_module": "@jupyter-widgets/base",
      "model_module_version": "2.0.0",
      "model_name": "LayoutModel",
      "state": {
       "_model_module": "@jupyter-widgets/base",
       "_model_module_version": "2.0.0",
       "_model_name": "LayoutModel",
       "_view_count": null,
       "_view_module": "@jupyter-widgets/base",
       "_view_module_version": "2.0.0",
       "_view_name": "LayoutView",
       "align_content": null,
       "align_items": null,
       "align_self": null,
       "border_bottom": null,
       "border_left": null,
       "border_right": null,
       "border_top": null,
       "bottom": null,
       "display": null,
       "flex": null,
       "flex_flow": null,
       "grid_area": null,
       "grid_auto_columns": null,
       "grid_auto_flow": null,
       "grid_auto_rows": null,
       "grid_column": null,
       "grid_gap": null,
       "grid_row": null,
       "grid_template_areas": null,
       "grid_template_columns": null,
       "grid_template_rows": null,
       "height": null,
       "justify_content": null,
       "justify_items": null,
       "left": null,
       "margin": null,
       "max_height": null,
       "max_width": null,
       "min_height": null,
       "min_width": null,
       "object_fit": null,
       "object_position": null,
       "order": null,
       "overflow": null,
       "padding": null,
       "right": null,
       "top": null,
       "visibility": null,
       "width": null
      }
     },
     "75c0916ad9c9443da120d085c2cb219c": {
      "model_module": "@jupyter-widgets/base",
      "model_module_version": "2.0.0",
      "model_name": "LayoutModel",
      "state": {
       "_model_module": "@jupyter-widgets/base",
       "_model_module_version": "2.0.0",
       "_model_name": "LayoutModel",
       "_view_count": null,
       "_view_module": "@jupyter-widgets/base",
       "_view_module_version": "2.0.0",
       "_view_name": "LayoutView",
       "align_content": null,
       "align_items": null,
       "align_self": null,
       "border_bottom": null,
       "border_left": null,
       "border_right": null,
       "border_top": null,
       "bottom": null,
       "display": null,
       "flex": null,
       "flex_flow": null,
       "grid_area": null,
       "grid_auto_columns": null,
       "grid_auto_flow": null,
       "grid_auto_rows": null,
       "grid_column": null,
       "grid_gap": null,
       "grid_row": null,
       "grid_template_areas": null,
       "grid_template_columns": null,
       "grid_template_rows": null,
       "height": null,
       "justify_content": null,
       "justify_items": null,
       "left": null,
       "margin": null,
       "max_height": null,
       "max_width": null,
       "min_height": null,
       "min_width": null,
       "object_fit": null,
       "object_position": null,
       "order": null,
       "overflow": null,
       "padding": null,
       "right": null,
       "top": null,
       "visibility": null,
       "width": null
      }
     },
     "bd638f49b8d5437fb97094fd35d32160": {
      "model_module": "@jupyter-widgets/controls",
      "model_module_version": "2.0.0",
      "model_name": "HTMLModel",
      "state": {
       "_dom_classes": [],
       "_model_module": "@jupyter-widgets/controls",
       "_model_module_version": "2.0.0",
       "_model_name": "HTMLModel",
       "_view_count": null,
       "_view_module": "@jupyter-widgets/controls",
       "_view_module_version": "2.0.0",
       "_view_name": "HTMLView",
       "description": "",
       "description_allow_html": false,
       "layout": "IPY_MODEL_73a7b31d904c4f9285268fd2d32e915a",
       "placeholder": "​",
       "style": "IPY_MODEL_136d3abd822742f287da8e626b79e47d",
       "tabbable": null,
       "tooltip": null,
       "value": " 5416568/5416568 [00:26&lt;00:00, 203284.59it/s]"
      }
     },
     "cde73a03b7424e8290f57f80bd5f2af3": {
      "model_module": "@jupyter-widgets/controls",
      "model_module_version": "2.0.0",
      "model_name": "HTMLStyleModel",
      "state": {
       "_model_module": "@jupyter-widgets/controls",
       "_model_module_version": "2.0.0",
       "_model_name": "HTMLStyleModel",
       "_view_count": null,
       "_view_module": "@jupyter-widgets/base",
       "_view_module_version": "2.0.0",
       "_view_name": "StyleView",
       "background": null,
       "description_width": "",
       "font_size": null,
       "text_color": null
      }
     },
     "d73e0714c13148ff98723e1d26b92299": {
      "model_module": "@jupyter-widgets/controls",
      "model_module_version": "2.0.0",
      "model_name": "HTMLModel",
      "state": {
       "_dom_classes": [],
       "_model_module": "@jupyter-widgets/controls",
       "_model_module_version": "2.0.0",
       "_model_name": "HTMLModel",
       "_view_count": null,
       "_view_module": "@jupyter-widgets/controls",
       "_view_module_version": "2.0.0",
       "_view_name": "HTMLView",
       "description": "",
       "description_allow_html": false,
       "layout": "IPY_MODEL_75c0916ad9c9443da120d085c2cb219c",
       "placeholder": "​",
       "style": "IPY_MODEL_cde73a03b7424e8290f57f80bd5f2af3",
       "tabbable": null,
       "tooltip": null,
       "value": "100%"
      }
     },
     "e88809d7222043d9ae9a26327a8a0351": {
      "model_module": "@jupyter-widgets/controls",
      "model_module_version": "2.0.0",
      "model_name": "HBoxModel",
      "state": {
       "_dom_classes": [],
       "_model_module": "@jupyter-widgets/controls",
       "_model_module_version": "2.0.0",
       "_model_name": "HBoxModel",
       "_view_count": null,
       "_view_module": "@jupyter-widgets/controls",
       "_view_module_version": "2.0.0",
       "_view_name": "HBoxView",
       "box_style": "",
       "children": [
        "IPY_MODEL_d73e0714c13148ff98723e1d26b92299",
        "IPY_MODEL_548c35d1d25d4617a2e4fa244e7e66d3",
        "IPY_MODEL_bd638f49b8d5437fb97094fd35d32160"
       ],
       "layout": "IPY_MODEL_6469567eea1340f5965edcb36d30e755",
       "tabbable": null,
       "tooltip": null
      }
     }
    },
    "version_major": 2,
    "version_minor": 0
   }
  }
 },
 "nbformat": 4,
 "nbformat_minor": 5
}