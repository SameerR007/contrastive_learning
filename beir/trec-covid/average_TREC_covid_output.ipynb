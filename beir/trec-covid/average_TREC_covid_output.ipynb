{
 "cells": [
  {
   "cell_type": "code",
   "execution_count": 1,
   "id": "f6d4b65f-fa6b-4517-8694-8627bc49833b",
   "metadata": {
    "execution": {
     "iopub.execute_input": "2025-03-02T13:02:00.767255Z",
     "iopub.status.busy": "2025-03-02T13:02:00.767117Z",
     "iopub.status.idle": "2025-03-02T13:02:00.826580Z",
     "shell.execute_reply": "2025-03-02T13:02:00.826104Z"
    },
    "papermill": {
     "duration": 0.063413,
     "end_time": "2025-03-02T13:02:00.827474",
     "exception": false,
     "start_time": "2025-03-02T13:02:00.764061",
     "status": "completed"
    },
    "tags": []
   },
   "outputs": [
    {
     "name": "stderr",
     "output_type": "stream",
     "text": [
      "/dss/dsshome1/07/ra65bex2/srawat/myenv/lib/python3.12/site-packages/beir/datasets/data_loader.py:8: TqdmExperimentalWarning: Using `tqdm.autonotebook.tqdm` in notebook mode. Use `tqdm.tqdm` instead to force console mode (e.g. in jupyter console)\n",
      "  from tqdm.autonotebook import tqdm\n"
     ]
    }
   ],
   "source": [
    "from beir.datasets.data_loader import GenericDataLoader"
   ]
  },
  {
   "cell_type": "code",
   "execution_count": 2,
   "id": "a91d6914-e301-422c-b839-1fafeb1e8fa4",
   "metadata": {
    "execution": {
     "iopub.execute_input": "2025-03-02T13:02:00.832785Z",
     "iopub.status.busy": "2025-03-02T13:02:00.832458Z",
     "iopub.status.idle": "2025-03-02T13:02:00.834935Z",
     "shell.execute_reply": "2025-03-02T13:02:00.834496Z"
    },
    "papermill": {
     "duration": 0.00573,
     "end_time": "2025-03-02T13:02:00.835671",
     "exception": false,
     "start_time": "2025-03-02T13:02:00.829941",
     "status": "completed"
    },
    "tags": []
   },
   "outputs": [],
   "source": [
    "data_path = '/dss/dsshome1/07/ra65bex2/srawat/trec-covid/trec-covid'"
   ]
  },
  {
   "cell_type": "code",
   "execution_count": 3,
   "id": "41e17333-2c34-4b7b-91f6-3cbd3972f0d6",
   "metadata": {
    "execution": {
     "iopub.execute_input": "2025-03-02T13:02:00.840657Z",
     "iopub.status.busy": "2025-03-02T13:02:00.840386Z",
     "iopub.status.idle": "2025-03-02T13:02:02.210559Z",
     "shell.execute_reply": "2025-03-02T13:02:02.210114Z"
    },
    "papermill": {
     "duration": 1.373553,
     "end_time": "2025-03-02T13:02:02.211382",
     "exception": false,
     "start_time": "2025-03-02T13:02:00.837829",
     "status": "completed"
    },
    "tags": []
   },
   "outputs": [
    {
     "data": {
      "application/vnd.jupyter.widget-view+json": {
       "model_id": "205ee1653422496280be78aefe46123f",
       "version_major": 2,
       "version_minor": 0
      },
      "text/plain": [
       "  0%|          | 0/171332 [00:00<?, ?it/s]"
      ]
     },
     "metadata": {},
     "output_type": "display_data"
    }
   ],
   "source": [
    "corpus, queries, qrels = GenericDataLoader(data_path).load(split=\"test\")"
   ]
  },
  {
   "cell_type": "code",
   "execution_count": 4,
   "id": "a29044d5-3952-4f3d-aa43-e1efd34fcad3",
   "metadata": {
    "execution": {
     "iopub.execute_input": "2025-03-02T13:02:02.217009Z",
     "iopub.status.busy": "2025-03-02T13:02:02.216625Z",
     "iopub.status.idle": "2025-03-02T13:02:03.788173Z",
     "shell.execute_reply": "2025-03-02T13:02:03.787419Z"
    },
    "papermill": {
     "duration": 1.575353,
     "end_time": "2025-03-02T13:02:03.789343",
     "exception": false,
     "start_time": "2025-03-02T13:02:02.213990",
     "status": "completed"
    },
    "tags": []
   },
   "outputs": [],
   "source": [
    "contrastive_pairs=[]\n",
    "import random\n",
    "c=0\n",
    "for query_id, relevant_docs in qrels.items():\n",
    "    try:\n",
    "        query_text = queries[query_id]\n",
    "        for doc_id in relevant_docs:\n",
    "            positive = corpus[doc_id][\"text\"]\n",
    "        #print(relevant_docs)\n",
    "        positive_doc_ids = set(relevant_docs)\n",
    "        all_doc_ids = set(corpus.keys())\n",
    "        negative_doc_ids = all_doc_ids - positive_doc_ids\n",
    "        negative_doc_ids=list(negative_doc_ids)\n",
    "        negative_doc_samples = random.sample(negative_doc_ids, k=5)\n",
    "        negatives=[]\n",
    "        for neg_doc_id in negative_doc_samples:\n",
    "            negative_doc_text = corpus[neg_doc_id][\"text\"]\n",
    "            negatives.append(negative_doc_text)\n",
    "        contrastive_pairs.append({\n",
    "            \"anchor\": query_text,\n",
    "            \"positive\": positive,\n",
    "            \"negatives\": negatives\n",
    "        })\n",
    "    except:\n",
    "        c=c+1"
   ]
  },
  {
   "cell_type": "code",
   "execution_count": 5,
   "id": "49721946-fff3-4690-bd92-d981cecdf62b",
   "metadata": {
    "execution": {
     "iopub.execute_input": "2025-03-02T13:02:03.796638Z",
     "iopub.status.busy": "2025-03-02T13:02:03.796141Z",
     "iopub.status.idle": "2025-03-02T13:02:03.800980Z",
     "shell.execute_reply": "2025-03-02T13:02:03.800581Z"
    },
    "papermill": {
     "duration": 0.009743,
     "end_time": "2025-03-02T13:02:03.801784",
     "exception": false,
     "start_time": "2025-03-02T13:02:03.792041",
     "status": "completed"
    },
    "tags": []
   },
   "outputs": [
    {
     "data": {
      "text/plain": [
       "0"
      ]
     },
     "execution_count": 5,
     "metadata": {},
     "output_type": "execute_result"
    }
   ],
   "source": [
    "c"
   ]
  },
  {
   "cell_type": "code",
   "execution_count": 6,
   "id": "de8ef367-dcb4-4bb6-af3a-20f190930ed1",
   "metadata": {
    "execution": {
     "iopub.execute_input": "2025-03-02T13:02:03.807307Z",
     "iopub.status.busy": "2025-03-02T13:02:03.807011Z",
     "iopub.status.idle": "2025-03-02T13:02:03.823155Z",
     "shell.execute_reply": "2025-03-02T13:02:03.822750Z"
    },
    "papermill": {
     "duration": 0.019747,
     "end_time": "2025-03-02T13:02:03.824001",
     "exception": false,
     "start_time": "2025-03-02T13:02:03.804254",
     "status": "completed"
    },
    "tags": []
   },
   "outputs": [
    {
     "data": {
      "text/plain": [
       "50"
      ]
     },
     "execution_count": 6,
     "metadata": {},
     "output_type": "execute_result"
    }
   ],
   "source": [
    "len(contrastive_pairs)"
   ]
  },
  {
   "cell_type": "code",
   "execution_count": 7,
   "id": "8ade92f9-e3df-4d0a-b849-b1a721e18cf6",
   "metadata": {
    "execution": {
     "iopub.execute_input": "2025-03-02T13:02:03.830881Z",
     "iopub.status.busy": "2025-03-02T13:02:03.830601Z",
     "iopub.status.idle": "2025-03-02T13:02:03.845658Z",
     "shell.execute_reply": "2025-03-02T13:02:03.845246Z"
    },
    "papermill": {
     "duration": 0.019936,
     "end_time": "2025-03-02T13:02:03.846426",
     "exception": false,
     "start_time": "2025-03-02T13:02:03.826490",
     "status": "completed"
    },
    "tags": []
   },
   "outputs": [
    {
     "data": {
      "text/plain": [
       "50"
      ]
     },
     "execution_count": 7,
     "metadata": {},
     "output_type": "execute_result"
    }
   ],
   "source": [
    "len(qrels)"
   ]
  },
  {
   "cell_type": "code",
   "execution_count": 8,
   "id": "6b97f7b4-f007-41f6-bfbb-1b9b01665e9d",
   "metadata": {
    "execution": {
     "iopub.execute_input": "2025-03-02T13:02:03.852241Z",
     "iopub.status.busy": "2025-03-02T13:02:03.851972Z",
     "iopub.status.idle": "2025-03-02T13:02:06.172861Z",
     "shell.execute_reply": "2025-03-02T13:02:06.172388Z"
    },
    "papermill": {
     "duration": 2.324798,
     "end_time": "2025-03-02T13:02:06.173817",
     "exception": false,
     "start_time": "2025-03-02T13:02:03.849019",
     "status": "completed"
    },
    "tags": []
   },
   "outputs": [],
   "source": [
    "from torch.utils.data import DataLoader"
   ]
  },
  {
   "cell_type": "code",
   "execution_count": 9,
   "id": "a415b29a-a543-4679-8f78-44f715b3067d",
   "metadata": {
    "execution": {
     "iopub.execute_input": "2025-03-02T13:02:06.180053Z",
     "iopub.status.busy": "2025-03-02T13:02:06.179713Z",
     "iopub.status.idle": "2025-03-02T13:02:06.183091Z",
     "shell.execute_reply": "2025-03-02T13:02:06.182639Z"
    },
    "papermill": {
     "duration": 0.007137,
     "end_time": "2025-03-02T13:02:06.183841",
     "exception": false,
     "start_time": "2025-03-02T13:02:06.176704",
     "status": "completed"
    },
    "tags": []
   },
   "outputs": [],
   "source": [
    "class ContrastiveDataset:\n",
    "    def __init__(self, pairs):\n",
    "        self.pairs = pairs\n",
    "\n",
    "    def __len__(self):\n",
    "        return len(self.pairs)\n",
    "\n",
    "    def __getitem__(self, idx):\n",
    "        item = self.pairs[idx]\n",
    "        return item[\"anchor\"], item[\"positive\"], item[\"negatives\"]"
   ]
  },
  {
   "cell_type": "code",
   "execution_count": 10,
   "id": "a39efeab-fd20-411a-80c5-315f362e00d2",
   "metadata": {
    "execution": {
     "iopub.execute_input": "2025-03-02T13:02:06.189678Z",
     "iopub.status.busy": "2025-03-02T13:02:06.189538Z",
     "iopub.status.idle": "2025-03-02T13:02:06.204893Z",
     "shell.execute_reply": "2025-03-02T13:02:06.204463Z"
    },
    "papermill": {
     "duration": 0.019201,
     "end_time": "2025-03-02T13:02:06.205760",
     "exception": false,
     "start_time": "2025-03-02T13:02:06.186559",
     "status": "completed"
    },
    "tags": []
   },
   "outputs": [],
   "source": [
    "contrastive_dataset = ContrastiveDataset(contrastive_pairs)"
   ]
  },
  {
   "cell_type": "code",
   "execution_count": 11,
   "id": "d103bbfa-895a-4020-a7e5-21de659f27dc",
   "metadata": {
    "execution": {
     "iopub.execute_input": "2025-03-02T13:02:06.211513Z",
     "iopub.status.busy": "2025-03-02T13:02:06.211371Z",
     "iopub.status.idle": "2025-03-02T13:02:06.228351Z",
     "shell.execute_reply": "2025-03-02T13:02:06.227889Z"
    },
    "papermill": {
     "duration": 0.020637,
     "end_time": "2025-03-02T13:02:06.229043",
     "exception": false,
     "start_time": "2025-03-02T13:02:06.208406",
     "status": "completed"
    },
    "tags": []
   },
   "outputs": [],
   "source": [
    "data_loader = DataLoader(contrastive_dataset, batch_size=32, shuffle=True)"
   ]
  },
  {
   "cell_type": "code",
   "execution_count": 12,
   "id": "c8b0277f-f526-4087-82da-c4cdd65d32da",
   "metadata": {
    "execution": {
     "iopub.execute_input": "2025-03-02T13:02:06.235170Z",
     "iopub.status.busy": "2025-03-02T13:02:06.234752Z",
     "iopub.status.idle": "2025-03-02T13:02:06.250455Z",
     "shell.execute_reply": "2025-03-02T13:02:06.250045Z"
    },
    "papermill": {
     "duration": 0.019419,
     "end_time": "2025-03-02T13:02:06.251205",
     "exception": false,
     "start_time": "2025-03-02T13:02:06.231786",
     "status": "completed"
    },
    "tags": []
   },
   "outputs": [
    {
     "data": {
      "text/plain": [
       "2"
      ]
     },
     "execution_count": 12,
     "metadata": {},
     "output_type": "execute_result"
    }
   ],
   "source": [
    "len(data_loader)"
   ]
  },
  {
   "cell_type": "code",
   "execution_count": 13,
   "id": "e15526a4-b3fe-435b-91c9-ad4064562f0f",
   "metadata": {
    "execution": {
     "iopub.execute_input": "2025-03-02T13:02:06.257288Z",
     "iopub.status.busy": "2025-03-02T13:02:06.257019Z",
     "iopub.status.idle": "2025-03-02T13:02:10.858455Z",
     "shell.execute_reply": "2025-03-02T13:02:10.857909Z"
    },
    "papermill": {
     "duration": 4.605518,
     "end_time": "2025-03-02T13:02:10.859469",
     "exception": false,
     "start_time": "2025-03-02T13:02:06.253951",
     "status": "completed"
    },
    "tags": []
   },
   "outputs": [
    {
     "name": "stderr",
     "output_type": "stream",
     "text": [
      "/tmp/ipykernel_2652350/2192687965.py:3: FutureWarning: You are using `torch.load` with `weights_only=False` (the current default value), which uses the default pickle module implicitly. It is possible to construct malicious pickle data which will execute arbitrary code during unpickling (See https://github.com/pytorch/pytorch/blob/main/SECURITY.md#untrusted-models for more details). In a future release, the default value for `weights_only` will be flipped to `True`. This limits the functions that could be executed during unpickling. Arbitrary objects will no longer be allowed to be loaded via this mode unless they are explicitly allowlisted by the user via `torch.serialization.add_safe_globals`. We recommend you start setting `weights_only=True` for any use case where you don't have full control of the loaded file. Please open an issue on GitHub for any issues related to this experimental feature.\n",
      "  lora_model = torch.load(file_path)\n"
     ]
    }
   ],
   "source": [
    "import torch\n",
    "file_path=\"/dss/dsshome1/07/ra65bex2/srawat/contrastive_learning/v1.1/app_average/average_checkpoint_epoch_3.pth\"\n",
    "lora_model = torch.load(file_path)"
   ]
  },
  {
   "cell_type": "code",
   "execution_count": 14,
   "id": "9999e628-5966-4dda-b5c5-c0d762fce27d",
   "metadata": {
    "execution": {
     "iopub.execute_input": "2025-03-02T13:02:10.866424Z",
     "iopub.status.busy": "2025-03-02T13:02:10.865858Z",
     "iopub.status.idle": "2025-03-02T13:02:10.871966Z",
     "shell.execute_reply": "2025-03-02T13:02:10.871544Z"
    },
    "papermill": {
     "duration": 0.010134,
     "end_time": "2025-03-02T13:02:10.872754",
     "exception": false,
     "start_time": "2025-03-02T13:02:10.862620",
     "status": "completed"
    },
    "tags": []
   },
   "outputs": [],
   "source": [
    "device = torch.device('cuda' if torch.cuda.is_available() else 'cpu')\n",
    "lora_model = lora_model.to(device)"
   ]
  },
  {
   "cell_type": "code",
   "execution_count": 15,
   "id": "7e6a3a61-8db0-43db-b575-6399f8515950",
   "metadata": {
    "execution": {
     "iopub.execute_input": "2025-03-02T13:02:10.879094Z",
     "iopub.status.busy": "2025-03-02T13:02:10.878770Z",
     "iopub.status.idle": "2025-03-02T13:02:11.070178Z",
     "shell.execute_reply": "2025-03-02T13:02:11.069686Z"
    },
    "papermill": {
     "duration": 0.195576,
     "end_time": "2025-03-02T13:02:11.071198",
     "exception": false,
     "start_time": "2025-03-02T13:02:10.875622",
     "status": "completed"
    },
    "tags": []
   },
   "outputs": [],
   "source": [
    "from transformers import AutoTokenizer, AutoModel\n",
    "tokenizer = AutoTokenizer.from_pretrained(\"bert-base-uncased\")"
   ]
  },
  {
   "cell_type": "code",
   "execution_count": 16,
   "id": "68ac4919-76f1-4349-a314-4b1061126655",
   "metadata": {
    "execution": {
     "iopub.execute_input": "2025-03-02T13:02:11.077877Z",
     "iopub.status.busy": "2025-03-02T13:02:11.077596Z",
     "iopub.status.idle": "2025-03-02T13:02:11.080299Z",
     "shell.execute_reply": "2025-03-02T13:02:11.079788Z"
    },
    "papermill": {
     "duration": 0.006723,
     "end_time": "2025-03-02T13:02:11.081070",
     "exception": false,
     "start_time": "2025-03-02T13:02:11.074347",
     "status": "completed"
    },
    "tags": []
   },
   "outputs": [],
   "source": [
    "def cosine_distance(x, y):\n",
    "    return 1 - torch.nn.functional.cosine_similarity(x, y, dim=-1)"
   ]
  },
  {
   "cell_type": "code",
   "execution_count": 17,
   "id": "870570ba-20a1-4c0b-8367-525d85af4ded",
   "metadata": {
    "execution": {
     "iopub.execute_input": "2025-03-02T13:02:11.087351Z",
     "iopub.status.busy": "2025-03-02T13:02:11.087041Z",
     "iopub.status.idle": "2025-03-02T13:02:11.101156Z",
     "shell.execute_reply": "2025-03-02T13:02:11.100732Z"
    },
    "papermill": {
     "duration": 0.018112,
     "end_time": "2025-03-02T13:02:11.101985",
     "exception": false,
     "start_time": "2025-03-02T13:02:11.083873",
     "status": "completed"
    },
    "tags": []
   },
   "outputs": [],
   "source": [
    "def avg_embedding(inputs, model):\n",
    "    input=model(**inputs)\n",
    "    input_last_hidden_state=input.last_hidden_state\n",
    "    input_attention_mask = inputs['attention_mask']\n",
    "    input_masked_embeddings = input_last_hidden_state * input_attention_mask.unsqueeze(-1)\n",
    "    input_sum_embeddings = torch.sum(input_masked_embeddings, dim=1)\n",
    "    input_token_counts = torch.sum(input_attention_mask, dim=1).unsqueeze(-1)\n",
    "    input_avg_embeddings = input_sum_embeddings / input_token_counts\n",
    "    return(input_avg_embeddings)"
   ]
  },
  {
   "cell_type": "code",
   "execution_count": 18,
   "id": "990f63bd-4d48-4f58-a001-3b3250f65312",
   "metadata": {
    "execution": {
     "iopub.execute_input": "2025-03-02T13:02:11.108443Z",
     "iopub.status.busy": "2025-03-02T13:02:11.108028Z",
     "iopub.status.idle": "2025-03-02T13:02:11.183528Z",
     "shell.execute_reply": "2025-03-02T13:02:11.182952Z"
    },
    "papermill": {
     "duration": 0.079531,
     "end_time": "2025-03-02T13:02:11.184435",
     "exception": false,
     "start_time": "2025-03-02T13:02:11.104904",
     "status": "completed"
    },
    "tags": []
   },
   "outputs": [],
   "source": [
    "def evaluate_mrr(model, data_loader_val, distance_fn):\n",
    "    model.eval()  \n",
    "\n",
    "    total_rr = 0.0\n",
    "    num_queries = 0\n",
    "\n",
    "    with torch.no_grad():\n",
    "        for batch in data_loader_val:\n",
    "            anchor_text = batch[0]\n",
    "            positive_text = batch[1]\n",
    "            negative_texts = batch[2]\n",
    "\n",
    "            anchor_input = tokenizer(anchor_text, return_tensors='pt', padding=True, truncation=True, max_length=512).to(device)\n",
    "            positive_input = tokenizer(positive_text, return_tensors='pt', padding=True, truncation=True, max_length=512).to(device)\n",
    "\n",
    "            anchor_embedding = avg_embedding(anchor_input, model)\n",
    "            positive_embedding = avg_embedding(positive_input, model)\n",
    "            negative_embedding = [avg_embedding(tokenizer(neg, return_tensors='pt', padding=True, truncation=True, max_length=512).to(device), model) for neg in negative_texts]\n",
    "\n",
    "            pos_dist = distance_fn(anchor_embedding, positive_embedding)\n",
    "            neg_dist = torch.stack([distance_fn(anchor_embedding, neg) for neg in negative_embedding], dim=-1)\n",
    "            all_similarities=torch.cat([-pos_dist.unsqueeze(1), -neg_dist], dim=1)\n",
    "            \n",
    "            sorted_similarities, sorted_indices = torch.sort(all_similarities, dim=1, descending=True)\n",
    "\n",
    "            # Find the rank of the first relevant (positive) document\n",
    "            positive_rank = (sorted_indices == 0).nonzero(as_tuple=True)[1] + 1  # +1 to make rank 1-based\n",
    "            total_rr += torch.sum(1.0 / positive_rank.float()).item()  # Reciprocal rank\n",
    "            num_queries += len(positive_rank)\n",
    "\n",
    "    mrr = total_rr / num_queries\n",
    "    return mrr"
   ]
  },
  {
   "cell_type": "code",
   "execution_count": 19,
   "id": "534a9ec5-4211-4cb6-81f1-fb8a30caff92",
   "metadata": {
    "execution": {
     "iopub.execute_input": "2025-03-02T13:02:11.191114Z",
     "iopub.status.busy": "2025-03-02T13:02:11.190692Z",
     "iopub.status.idle": "2025-03-02T13:02:13.636542Z",
     "shell.execute_reply": "2025-03-02T13:02:13.635924Z"
    },
    "papermill": {
     "duration": 2.449863,
     "end_time": "2025-03-02T13:02:13.637362",
     "exception": false,
     "start_time": "2025-03-02T13:02:11.187499",
     "status": "completed"
    },
    "tags": []
   },
   "outputs": [
    {
     "name": "stdout",
     "output_type": "stream",
     "text": [
      "0.485\n"
     ]
    }
   ],
   "source": [
    "mrr_validation = evaluate_mrr(lora_model, data_loader, cosine_distance)\n",
    "print(mrr_validation)"
   ]
  },
  {
   "cell_type": "code",
   "execution_count": null,
   "id": "f61bbd65-41c9-4ac7-80ef-ba4a4fb02d45",
   "metadata": {
    "papermill": {
     "duration": 0.003043,
     "end_time": "2025-03-02T13:02:13.645150",
     "exception": false,
     "start_time": "2025-03-02T13:02:13.642107",
     "status": "completed"
    },
    "tags": []
   },
   "outputs": [],
   "source": []
  }
 ],
 "metadata": {
  "kernelspec": {
   "display_name": "Python (myenv)",
   "language": "python",
   "name": "myenv"
  },
  "language_info": {
   "codemirror_mode": {
    "name": "ipython",
    "version": 3
   },
   "file_extension": ".py",
   "mimetype": "text/x-python",
   "name": "python",
   "nbconvert_exporter": "python",
   "pygments_lexer": "ipython3",
   "version": "3.12.7"
  },
  "papermill": {
   "default_parameters": {},
   "duration": 15.590566,
   "end_time": "2025-03-02T13:02:15.166611",
   "environment_variables": {},
   "exception": null,
   "input_path": "average_TREC_covid.ipynb",
   "output_path": "average_TREC_covid_output.ipynb",
   "parameters": {},
   "start_time": "2025-03-02T13:01:59.576045",
   "version": "2.6.0"
  },
  "widgets": {
   "application/vnd.jupyter.widget-state+json": {
    "state": {
     "0250906583e74bcdb2cc43ea623a69df": {
      "model_module": "@jupyter-widgets/base",
      "model_module_version": "2.0.0",
      "model_name": "LayoutModel",
      "state": {
       "_model_module": "@jupyter-widgets/base",
       "_model_module_version": "2.0.0",
       "_model_name": "LayoutModel",
       "_view_count": null,
       "_view_module": "@jupyter-widgets/base",
       "_view_module_version": "2.0.0",
       "_view_name": "LayoutView",
       "align_content": null,
       "align_items": null,
       "align_self": null,
       "border_bottom": null,
       "border_left": null,
       "border_right": null,
       "border_top": null,
       "bottom": null,
       "display": null,
       "flex": null,
       "flex_flow": null,
       "grid_area": null,
       "grid_auto_columns": null,
       "grid_auto_flow": null,
       "grid_auto_rows": null,
       "grid_column": null,
       "grid_gap": null,
       "grid_row": null,
       "grid_template_areas": null,
       "grid_template_columns": null,
       "grid_template_rows": null,
       "height": null,
       "justify_content": null,
       "justify_items": null,
       "left": null,
       "margin": null,
       "max_height": null,
       "max_width": null,
       "min_height": null,
       "min_width": null,
       "object_fit": null,
       "object_position": null,
       "order": null,
       "overflow": null,
       "padding": null,
       "right": null,
       "top": null,
       "visibility": null,
       "width": null
      }
     },
     "205ee1653422496280be78aefe46123f": {
      "model_module": "@jupyter-widgets/controls",
      "model_module_version": "2.0.0",
      "model_name": "HBoxModel",
      "state": {
       "_dom_classes": [],
       "_model_module": "@jupyter-widgets/controls",
       "_model_module_version": "2.0.0",
       "_model_name": "HBoxModel",
       "_view_count": null,
       "_view_module": "@jupyter-widgets/controls",
       "_view_module_version": "2.0.0",
       "_view_name": "HBoxView",
       "box_style": "",
       "children": [
        "IPY_MODEL_9f0a59f1998642caaac9ed1a82ada1df",
        "IPY_MODEL_336b440f13ab4376b09cf1944cf9a82f",
        "IPY_MODEL_4c83ca328b9845baa7fe53b2423f0a11"
       ],
       "layout": "IPY_MODEL_4d4331575e254755accf3b776a6c7369",
       "tabbable": null,
       "tooltip": null
      }
     },
     "336b440f13ab4376b09cf1944cf9a82f": {
      "model_module": "@jupyter-widgets/controls",
      "model_module_version": "2.0.0",
      "model_name": "FloatProgressModel",
      "state": {
       "_dom_classes": [],
       "_model_module": "@jupyter-widgets/controls",
       "_model_module_version": "2.0.0",
       "_model_name": "FloatProgressModel",
       "_view_count": null,
       "_view_module": "@jupyter-widgets/controls",
       "_view_module_version": "2.0.0",
       "_view_name": "ProgressView",
       "bar_style": "success",
       "description": "",
       "description_allow_html": false,
       "layout": "IPY_MODEL_0250906583e74bcdb2cc43ea623a69df",
       "max": 171332.0,
       "min": 0.0,
       "orientation": "horizontal",
       "style": "IPY_MODEL_d8fe4cf1271e4e4aa19c6073d8ebb30f",
       "tabbable": null,
       "tooltip": null,
       "value": 171332.0
      }
     },
     "4c83ca328b9845baa7fe53b2423f0a11": {
      "model_module": "@jupyter-widgets/controls",
      "model_module_version": "2.0.0",
      "model_name": "HTMLModel",
      "state": {
       "_dom_classes": [],
       "_model_module": "@jupyter-widgets/controls",
       "_model_module_version": "2.0.0",
       "_model_name": "HTMLModel",
       "_view_count": null,
       "_view_module": "@jupyter-widgets/controls",
       "_view_module_version": "2.0.0",
       "_view_name": "HTMLView",
       "description": "",
       "description_allow_html": false,
       "layout": "IPY_MODEL_94674eaa91664ff59ab958d0ea61cf2a",
       "placeholder": "​",
       "style": "IPY_MODEL_c6fd358e9cdd41079d61cbeb94f5c207",
       "tabbable": null,
       "tooltip": null,
       "value": " 171332/171332 [00:01&lt;00:00, 136691.13it/s]"
      }
     },
     "4d4331575e254755accf3b776a6c7369": {
      "model_module": "@jupyter-widgets/base",
      "model_module_version": "2.0.0",
      "model_name": "LayoutModel",
      "state": {
       "_model_module": "@jupyter-widgets/base",
       "_model_module_version": "2.0.0",
       "_model_name": "LayoutModel",
       "_view_count": null,
       "_view_module": "@jupyter-widgets/base",
       "_view_module_version": "2.0.0",
       "_view_name": "LayoutView",
       "align_content": null,
       "align_items": null,
       "align_self": null,
       "border_bottom": null,
       "border_left": null,
       "border_right": null,
       "border_top": null,
       "bottom": null,
       "display": null,
       "flex": null,
       "flex_flow": null,
       "grid_area": null,
       "grid_auto_columns": null,
       "grid_auto_flow": null,
       "grid_auto_rows": null,
       "grid_column": null,
       "grid_gap": null,
       "grid_row": null,
       "grid_template_areas": null,
       "grid_template_columns": null,
       "grid_template_rows": null,
       "height": null,
       "justify_content": null,
       "justify_items": null,
       "left": null,
       "margin": null,
       "max_height": null,
       "max_width": null,
       "min_height": null,
       "min_width": null,
       "object_fit": null,
       "object_position": null,
       "order": null,
       "overflow": null,
       "padding": null,
       "right": null,
       "top": null,
       "visibility": null,
       "width": null
      }
     },
     "94674eaa91664ff59ab958d0ea61cf2a": {
      "model_module": "@jupyter-widgets/base",
      "model_module_version": "2.0.0",
      "model_name": "LayoutModel",
      "state": {
       "_model_module": "@jupyter-widgets/base",
       "_model_module_version": "2.0.0",
       "_model_name": "LayoutModel",
       "_view_count": null,
       "_view_module": "@jupyter-widgets/base",
       "_view_module_version": "2.0.0",
       "_view_name": "LayoutView",
       "align_content": null,
       "align_items": null,
       "align_self": null,
       "border_bottom": null,
       "border_left": null,
       "border_right": null,
       "border_top": null,
       "bottom": null,
       "display": null,
       "flex": null,
       "flex_flow": null,
       "grid_area": null,
       "grid_auto_columns": null,
       "grid_auto_flow": null,
       "grid_auto_rows": null,
       "grid_column": null,
       "grid_gap": null,
       "grid_row": null,
       "grid_template_areas": null,
       "grid_template_columns": null,
       "grid_template_rows": null,
       "height": null,
       "justify_content": null,
       "justify_items": null,
       "left": null,
       "margin": null,
       "max_height": null,
       "max_width": null,
       "min_height": null,
       "min_width": null,
       "object_fit": null,
       "object_position": null,
       "order": null,
       "overflow": null,
       "padding": null,
       "right": null,
       "top": null,
       "visibility": null,
       "width": null
      }
     },
     "9f0a59f1998642caaac9ed1a82ada1df": {
      "model_module": "@jupyter-widgets/controls",
      "model_module_version": "2.0.0",
      "model_name": "HTMLModel",
      "state": {
       "_dom_classes": [],
       "_model_module": "@jupyter-widgets/controls",
       "_model_module_version": "2.0.0",
       "_model_name": "HTMLModel",
       "_view_count": null,
       "_view_module": "@jupyter-widgets/controls",
       "_view_module_version": "2.0.0",
       "_view_name": "HTMLView",
       "description": "",
       "description_allow_html": false,
       "layout": "IPY_MODEL_cfd78989b46646c19c6cb5f6a1fdf5fe",
       "placeholder": "​",
       "style": "IPY_MODEL_ca62d8d6de97495abd63824dfd215a06",
       "tabbable": null,
       "tooltip": null,
       "value": "100%"
      }
     },
     "c6fd358e9cdd41079d61cbeb94f5c207": {
      "model_module": "@jupyter-widgets/controls",
      "model_module_version": "2.0.0",
      "model_name": "HTMLStyleModel",
      "state": {
       "_model_module": "@jupyter-widgets/controls",
       "_model_module_version": "2.0.0",
       "_model_name": "HTMLStyleModel",
       "_view_count": null,
       "_view_module": "@jupyter-widgets/base",
       "_view_module_version": "2.0.0",
       "_view_name": "StyleView",
       "background": null,
       "description_width": "",
       "font_size": null,
       "text_color": null
      }
     },
     "ca62d8d6de97495abd63824dfd215a06": {
      "model_module": "@jupyter-widgets/controls",
      "model_module_version": "2.0.0",
      "model_name": "HTMLStyleModel",
      "state": {
       "_model_module": "@jupyter-widgets/controls",
       "_model_module_version": "2.0.0",
       "_model_name": "HTMLStyleModel",
       "_view_count": null,
       "_view_module": "@jupyter-widgets/base",
       "_view_module_version": "2.0.0",
       "_view_name": "StyleView",
       "background": null,
       "description_width": "",
       "font_size": null,
       "text_color": null
      }
     },
     "cfd78989b46646c19c6cb5f6a1fdf5fe": {
      "model_module": "@jupyter-widgets/base",
      "model_module_version": "2.0.0",
      "model_name": "LayoutModel",
      "state": {
       "_model_module": "@jupyter-widgets/base",
       "_model_module_version": "2.0.0",
       "_model_name": "LayoutModel",
       "_view_count": null,
       "_view_module": "@jupyter-widgets/base",
       "_view_module_version": "2.0.0",
       "_view_name": "LayoutView",
       "align_content": null,
       "align_items": null,
       "align_self": null,
       "border_bottom": null,
       "border_left": null,
       "border_right": null,
       "border_top": null,
       "bottom": null,
       "display": null,
       "flex": null,
       "flex_flow": null,
       "grid_area": null,
       "grid_auto_columns": null,
       "grid_auto_flow": null,
       "grid_auto_rows": null,
       "grid_column": null,
       "grid_gap": null,
       "grid_row": null,
       "grid_template_areas": null,
       "grid_template_columns": null,
       "grid_template_rows": null,
       "height": null,
       "justify_content": null,
       "justify_items": null,
       "left": null,
       "margin": null,
       "max_height": null,
       "max_width": null,
       "min_height": null,
       "min_width": null,
       "object_fit": null,
       "object_position": null,
       "order": null,
       "overflow": null,
       "padding": null,
       "right": null,
       "top": null,
       "visibility": null,
       "width": null
      }
     },
     "d8fe4cf1271e4e4aa19c6073d8ebb30f": {
      "model_module": "@jupyter-widgets/controls",
      "model_module_version": "2.0.0",
      "model_name": "ProgressStyleModel",
      "state": {
       "_model_module": "@jupyter-widgets/controls",
       "_model_module_version": "2.0.0",
       "_model_name": "ProgressStyleModel",
       "_view_count": null,
       "_view_module": "@jupyter-widgets/base",
       "_view_module_version": "2.0.0",
       "_view_name": "StyleView",
       "bar_color": null,
       "description_width": ""
      }
     }
    },
    "version_major": 2,
    "version_minor": 0
   }
  }
 },
 "nbformat": 4,
 "nbformat_minor": 5
}