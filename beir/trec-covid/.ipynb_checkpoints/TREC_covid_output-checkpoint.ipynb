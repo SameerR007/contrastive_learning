{
 "cells": [
  {
   "cell_type": "code",
   "execution_count": 1,
   "id": "f6d4b65f-fa6b-4517-8694-8627bc49833b",
   "metadata": {
    "execution": {
     "iopub.execute_input": "2025-03-02T13:01:33.625702Z",
     "iopub.status.busy": "2025-03-02T13:01:33.625567Z",
     "iopub.status.idle": "2025-03-02T13:01:33.807938Z",
     "shell.execute_reply": "2025-03-02T13:01:33.807445Z"
    },
    "papermill": {
     "duration": 0.186499,
     "end_time": "2025-03-02T13:01:33.808832",
     "exception": false,
     "start_time": "2025-03-02T13:01:33.622333",
     "status": "completed"
    },
    "tags": []
   },
   "outputs": [
    {
     "name": "stderr",
     "output_type": "stream",
     "text": [
      "/dss/dsshome1/07/ra65bex2/srawat/myenv/lib/python3.12/site-packages/beir/datasets/data_loader.py:8: TqdmExperimentalWarning: Using `tqdm.autonotebook.tqdm` in notebook mode. Use `tqdm.tqdm` instead to force console mode (e.g. in jupyter console)\n",
      "  from tqdm.autonotebook import tqdm\n"
     ]
    }
   ],
   "source": [
    "from beir.datasets.data_loader import GenericDataLoader"
   ]
  },
  {
   "cell_type": "code",
   "execution_count": 2,
   "id": "a91d6914-e301-422c-b839-1fafeb1e8fa4",
   "metadata": {
    "execution": {
     "iopub.execute_input": "2025-03-02T13:01:33.814228Z",
     "iopub.status.busy": "2025-03-02T13:01:33.813957Z",
     "iopub.status.idle": "2025-03-02T13:01:33.816677Z",
     "shell.execute_reply": "2025-03-02T13:01:33.816282Z"
    },
    "papermill": {
     "duration": 0.005966,
     "end_time": "2025-03-02T13:01:33.817419",
     "exception": false,
     "start_time": "2025-03-02T13:01:33.811453",
     "status": "completed"
    },
    "tags": []
   },
   "outputs": [],
   "source": [
    "data_path = '/dss/dsshome1/07/ra65bex2/srawat/trec-covid/trec-covid'"
   ]
  },
  {
   "cell_type": "code",
   "execution_count": 3,
   "id": "41e17333-2c34-4b7b-91f6-3cbd3972f0d6",
   "metadata": {
    "execution": {
     "iopub.execute_input": "2025-03-02T13:01:33.822182Z",
     "iopub.status.busy": "2025-03-02T13:01:33.821923Z",
     "iopub.status.idle": "2025-03-02T13:01:35.305927Z",
     "shell.execute_reply": "2025-03-02T13:01:35.305468Z"
    },
    "papermill": {
     "duration": 1.487202,
     "end_time": "2025-03-02T13:01:35.306725",
     "exception": false,
     "start_time": "2025-03-02T13:01:33.819523",
     "status": "completed"
    },
    "tags": []
   },
   "outputs": [
    {
     "data": {
      "application/vnd.jupyter.widget-view+json": {
       "model_id": "c0b0a3363a944a50baf3e4e4ea68230a",
       "version_major": 2,
       "version_minor": 0
      },
      "text/plain": [
       "  0%|          | 0/171332 [00:00<?, ?it/s]"
      ]
     },
     "metadata": {},
     "output_type": "display_data"
    }
   ],
   "source": [
    "corpus, queries, qrels = GenericDataLoader(data_path).load(split=\"test\")"
   ]
  },
  {
   "cell_type": "code",
   "execution_count": 4,
   "id": "a29044d5-3952-4f3d-aa43-e1efd34fcad3",
   "metadata": {
    "execution": {
     "iopub.execute_input": "2025-03-02T13:01:35.314142Z",
     "iopub.status.busy": "2025-03-02T13:01:35.313750Z",
     "iopub.status.idle": "2025-03-02T13:01:36.824157Z",
     "shell.execute_reply": "2025-03-02T13:01:36.823697Z"
    },
    "papermill": {
     "duration": 1.513985,
     "end_time": "2025-03-02T13:01:36.825086",
     "exception": false,
     "start_time": "2025-03-02T13:01:35.311101",
     "status": "completed"
    },
    "tags": []
   },
   "outputs": [],
   "source": [
    "contrastive_pairs=[]\n",
    "import random\n",
    "c=0\n",
    "for query_id, relevant_docs in qrels.items():\n",
    "    try:\n",
    "        query_text = queries[query_id]\n",
    "        for doc_id in relevant_docs:\n",
    "            positive = corpus[doc_id][\"text\"]\n",
    "        #print(relevant_docs)\n",
    "        positive_doc_ids = set(relevant_docs)\n",
    "        all_doc_ids = set(corpus.keys())\n",
    "        negative_doc_ids = all_doc_ids - positive_doc_ids\n",
    "        negative_doc_ids=list(negative_doc_ids)\n",
    "        negative_doc_samples = random.sample(negative_doc_ids, k=5)\n",
    "        negatives=[]\n",
    "        for neg_doc_id in negative_doc_samples:\n",
    "            negative_doc_text = corpus[neg_doc_id][\"text\"]\n",
    "            negatives.append(negative_doc_text)\n",
    "        contrastive_pairs.append({\n",
    "            \"anchor\": query_text,\n",
    "            \"positive\": positive,\n",
    "            \"negatives\": negatives\n",
    "        })\n",
    "    except:\n",
    "        c=c+1"
   ]
  },
  {
   "cell_type": "code",
   "execution_count": 5,
   "id": "49721946-fff3-4690-bd92-d981cecdf62b",
   "metadata": {
    "execution": {
     "iopub.execute_input": "2025-03-02T13:01:36.830853Z",
     "iopub.status.busy": "2025-03-02T13:01:36.830530Z",
     "iopub.status.idle": "2025-03-02T13:01:36.834027Z",
     "shell.execute_reply": "2025-03-02T13:01:36.833557Z"
    },
    "papermill": {
     "duration": 0.00684,
     "end_time": "2025-03-02T13:01:36.834777",
     "exception": false,
     "start_time": "2025-03-02T13:01:36.827937",
     "status": "completed"
    },
    "tags": []
   },
   "outputs": [
    {
     "data": {
      "text/plain": [
       "0"
      ]
     },
     "execution_count": 5,
     "metadata": {},
     "output_type": "execute_result"
    }
   ],
   "source": [
    "c"
   ]
  },
  {
   "cell_type": "code",
   "execution_count": 6,
   "id": "de8ef367-dcb4-4bb6-af3a-20f190930ed1",
   "metadata": {
    "execution": {
     "iopub.execute_input": "2025-03-02T13:01:36.840022Z",
     "iopub.status.busy": "2025-03-02T13:01:36.839736Z",
     "iopub.status.idle": "2025-03-02T13:01:36.860660Z",
     "shell.execute_reply": "2025-03-02T13:01:36.860277Z"
    },
    "papermill": {
     "duration": 0.024264,
     "end_time": "2025-03-02T13:01:36.861387",
     "exception": false,
     "start_time": "2025-03-02T13:01:36.837123",
     "status": "completed"
    },
    "tags": []
   },
   "outputs": [
    {
     "data": {
      "text/plain": [
       "50"
      ]
     },
     "execution_count": 6,
     "metadata": {},
     "output_type": "execute_result"
    }
   ],
   "source": [
    "len(contrastive_pairs)"
   ]
  },
  {
   "cell_type": "code",
   "execution_count": 7,
   "id": "8ade92f9-e3df-4d0a-b849-b1a721e18cf6",
   "metadata": {
    "execution": {
     "iopub.execute_input": "2025-03-02T13:01:36.866723Z",
     "iopub.status.busy": "2025-03-02T13:01:36.866364Z",
     "iopub.status.idle": "2025-03-02T13:01:36.883983Z",
     "shell.execute_reply": "2025-03-02T13:01:36.883604Z"
    },
    "papermill": {
     "duration": 0.021021,
     "end_time": "2025-03-02T13:01:36.884710",
     "exception": false,
     "start_time": "2025-03-02T13:01:36.863689",
     "status": "completed"
    },
    "tags": []
   },
   "outputs": [
    {
     "data": {
      "text/plain": [
       "50"
      ]
     },
     "execution_count": 7,
     "metadata": {},
     "output_type": "execute_result"
    }
   ],
   "source": [
    "len(qrels)"
   ]
  },
  {
   "cell_type": "code",
   "execution_count": 8,
   "id": "6b97f7b4-f007-41f6-bfbb-1b9b01665e9d",
   "metadata": {
    "execution": {
     "iopub.execute_input": "2025-03-02T13:01:36.891366Z",
     "iopub.status.busy": "2025-03-02T13:01:36.891104Z",
     "iopub.status.idle": "2025-03-02T13:01:41.422118Z",
     "shell.execute_reply": "2025-03-02T13:01:41.421589Z"
    },
    "papermill": {
     "duration": 4.534809,
     "end_time": "2025-03-02T13:01:41.423136",
     "exception": false,
     "start_time": "2025-03-02T13:01:36.888327",
     "status": "completed"
    },
    "tags": []
   },
   "outputs": [],
   "source": [
    "from torch.utils.data import DataLoader"
   ]
  },
  {
   "cell_type": "code",
   "execution_count": 9,
   "id": "a415b29a-a543-4679-8f78-44f715b3067d",
   "metadata": {
    "execution": {
     "iopub.execute_input": "2025-03-02T13:01:41.431034Z",
     "iopub.status.busy": "2025-03-02T13:01:41.430675Z",
     "iopub.status.idle": "2025-03-02T13:01:41.434221Z",
     "shell.execute_reply": "2025-03-02T13:01:41.433814Z"
    },
    "papermill": {
     "duration": 0.007127,
     "end_time": "2025-03-02T13:01:41.434868",
     "exception": false,
     "start_time": "2025-03-02T13:01:41.427741",
     "status": "completed"
    },
    "tags": []
   },
   "outputs": [],
   "source": [
    "class ContrastiveDataset:\n",
    "    def __init__(self, pairs):\n",
    "        self.pairs = pairs\n",
    "\n",
    "    def __len__(self):\n",
    "        return len(self.pairs)\n",
    "\n",
    "    def __getitem__(self, idx):\n",
    "        item = self.pairs[idx]\n",
    "        return item[\"anchor\"], item[\"positive\"], item[\"negatives\"]"
   ]
  },
  {
   "cell_type": "code",
   "execution_count": 10,
   "id": "a39efeab-fd20-411a-80c5-315f362e00d2",
   "metadata": {
    "execution": {
     "iopub.execute_input": "2025-03-02T13:01:41.440526Z",
     "iopub.status.busy": "2025-03-02T13:01:41.440390Z",
     "iopub.status.idle": "2025-03-02T13:01:41.458227Z",
     "shell.execute_reply": "2025-03-02T13:01:41.457760Z"
    },
    "papermill": {
     "duration": 0.021532,
     "end_time": "2025-03-02T13:01:41.458955",
     "exception": false,
     "start_time": "2025-03-02T13:01:41.437423",
     "status": "completed"
    },
    "tags": []
   },
   "outputs": [],
   "source": [
    "contrastive_dataset = ContrastiveDataset(contrastive_pairs)"
   ]
  },
  {
   "cell_type": "code",
   "execution_count": 11,
   "id": "d103bbfa-895a-4020-a7e5-21de659f27dc",
   "metadata": {
    "execution": {
     "iopub.execute_input": "2025-03-02T13:01:41.464775Z",
     "iopub.status.busy": "2025-03-02T13:01:41.464345Z",
     "iopub.status.idle": "2025-03-02T13:01:41.482283Z",
     "shell.execute_reply": "2025-03-02T13:01:41.481827Z"
    },
    "papermill": {
     "duration": 0.021679,
     "end_time": "2025-03-02T13:01:41.483158",
     "exception": false,
     "start_time": "2025-03-02T13:01:41.461479",
     "status": "completed"
    },
    "tags": []
   },
   "outputs": [],
   "source": [
    "data_loader = DataLoader(contrastive_dataset, batch_size=32, shuffle=True)"
   ]
  },
  {
   "cell_type": "code",
   "execution_count": 12,
   "id": "c8b0277f-f526-4087-82da-c4cdd65d32da",
   "metadata": {
    "execution": {
     "iopub.execute_input": "2025-03-02T13:01:41.488913Z",
     "iopub.status.busy": "2025-03-02T13:01:41.488445Z",
     "iopub.status.idle": "2025-03-02T13:01:41.504261Z",
     "shell.execute_reply": "2025-03-02T13:01:41.503875Z"
    },
    "papermill": {
     "duration": 0.019348,
     "end_time": "2025-03-02T13:01:41.505026",
     "exception": false,
     "start_time": "2025-03-02T13:01:41.485678",
     "status": "completed"
    },
    "tags": []
   },
   "outputs": [
    {
     "data": {
      "text/plain": [
       "2"
      ]
     },
     "execution_count": 12,
     "metadata": {},
     "output_type": "execute_result"
    }
   ],
   "source": [
    "len(data_loader)"
   ]
  },
  {
   "cell_type": "code",
   "execution_count": 13,
   "id": "e15526a4-b3fe-435b-91c9-ad4064562f0f",
   "metadata": {
    "execution": {
     "iopub.execute_input": "2025-03-02T13:01:41.510677Z",
     "iopub.status.busy": "2025-03-02T13:01:41.510537Z",
     "iopub.status.idle": "2025-03-02T13:01:50.269450Z",
     "shell.execute_reply": "2025-03-02T13:01:50.268783Z"
    },
    "papermill": {
     "duration": 8.762929,
     "end_time": "2025-03-02T13:01:50.270511",
     "exception": false,
     "start_time": "2025-03-02T13:01:41.507582",
     "status": "completed"
    },
    "tags": []
   },
   "outputs": [
    {
     "name": "stderr",
     "output_type": "stream",
     "text": [
      "/tmp/ipykernel_2651543/3105893467.py:3: FutureWarning: You are using `torch.load` with `weights_only=False` (the current default value), which uses the default pickle module implicitly. It is possible to construct malicious pickle data which will execute arbitrary code during unpickling (See https://github.com/pytorch/pytorch/blob/main/SECURITY.md#untrusted-models for more details). In a future release, the default value for `weights_only` will be flipped to `True`. This limits the functions that could be executed during unpickling. Arbitrary objects will no longer be allowed to be loaded via this mode unless they are explicitly allowlisted by the user via `torch.serialization.add_safe_globals`. We recommend you start setting `weights_only=True` for any use case where you don't have full control of the loaded file. Please open an issue on GitHub for any issues related to this experimental feature.\n",
      "  lora_model = torch.load(file_path)\n"
     ]
    }
   ],
   "source": [
    "import torch\n",
    "file_path=\"/dss/dsshome1/07/ra65bex2/srawat/contrastive_learning/v1.1/app_baseline/checkpoint_epoch_3.pth\"\n",
    "lora_model = torch.load(file_path)"
   ]
  },
  {
   "cell_type": "code",
   "execution_count": 14,
   "id": "9999e628-5966-4dda-b5c5-c0d762fce27d",
   "metadata": {
    "execution": {
     "iopub.execute_input": "2025-03-02T13:01:50.279784Z",
     "iopub.status.busy": "2025-03-02T13:01:50.278952Z",
     "iopub.status.idle": "2025-03-02T13:01:50.284902Z",
     "shell.execute_reply": "2025-03-02T13:01:50.284502Z"
    },
    "papermill": {
     "duration": 0.010175,
     "end_time": "2025-03-02T13:01:50.285747",
     "exception": false,
     "start_time": "2025-03-02T13:01:50.275572",
     "status": "completed"
    },
    "tags": []
   },
   "outputs": [],
   "source": [
    "device = torch.device('cuda' if torch.cuda.is_available() else 'cpu')\n",
    "lora_model = lora_model.to(device)"
   ]
  },
  {
   "cell_type": "code",
   "execution_count": 15,
   "id": "7e6a3a61-8db0-43db-b575-6399f8515950",
   "metadata": {
    "execution": {
     "iopub.execute_input": "2025-03-02T13:01:50.291767Z",
     "iopub.status.busy": "2025-03-02T13:01:50.291446Z",
     "iopub.status.idle": "2025-03-02T13:01:50.551063Z",
     "shell.execute_reply": "2025-03-02T13:01:50.550556Z"
    },
    "papermill": {
     "duration": 0.263739,
     "end_time": "2025-03-02T13:01:50.552138",
     "exception": false,
     "start_time": "2025-03-02T13:01:50.288399",
     "status": "completed"
    },
    "tags": []
   },
   "outputs": [],
   "source": [
    "from transformers import AutoTokenizer, AutoModel\n",
    "tokenizer = AutoTokenizer.from_pretrained(\"bert-base-uncased\")"
   ]
  },
  {
   "cell_type": "code",
   "execution_count": 16,
   "id": "68ac4919-76f1-4349-a314-4b1061126655",
   "metadata": {
    "execution": {
     "iopub.execute_input": "2025-03-02T13:01:50.558869Z",
     "iopub.status.busy": "2025-03-02T13:01:50.558582Z",
     "iopub.status.idle": "2025-03-02T13:01:50.561427Z",
     "shell.execute_reply": "2025-03-02T13:01:50.560991Z"
    },
    "papermill": {
     "duration": 0.006846,
     "end_time": "2025-03-02T13:01:50.562249",
     "exception": false,
     "start_time": "2025-03-02T13:01:50.555403",
     "status": "completed"
    },
    "tags": []
   },
   "outputs": [],
   "source": [
    "def cosine_distance(x, y):\n",
    "    return 1 - torch.nn.functional.cosine_similarity(x, y, dim=-1)"
   ]
  },
  {
   "cell_type": "code",
   "execution_count": 17,
   "id": "990f63bd-4d48-4f58-a001-3b3250f65312",
   "metadata": {
    "execution": {
     "iopub.execute_input": "2025-03-02T13:01:50.568432Z",
     "iopub.status.busy": "2025-03-02T13:01:50.568038Z",
     "iopub.status.idle": "2025-03-02T13:01:50.583359Z",
     "shell.execute_reply": "2025-03-02T13:01:50.582859Z"
    },
    "papermill": {
     "duration": 0.019195,
     "end_time": "2025-03-02T13:01:50.584156",
     "exception": false,
     "start_time": "2025-03-02T13:01:50.564961",
     "status": "completed"
    },
    "tags": []
   },
   "outputs": [],
   "source": [
    "def evaluate_mrr(model, data_loader_val, distance_fn):\n",
    "    model.eval()\n",
    "\n",
    "    total_rr = 0.0\n",
    "    num_queries = 0\n",
    "\n",
    "    with torch.no_grad():\n",
    "        for batch in data_loader_val:\n",
    "            anchor_text = batch[0]\n",
    "            positive_text = batch[1]\n",
    "            negative_texts = batch[2]\n",
    "\n",
    "            anchor_input = tokenizer(anchor_text, return_tensors='pt', padding=True, truncation=True, max_length=512).to(device)\n",
    "            positive_input = tokenizer(positive_text, return_tensors='pt', padding=True, truncation=True, max_length=512).to(device)\n",
    "\n",
    "            anchor_embedding = model(**anchor_input).last_hidden_state[:, 0, :]\n",
    "            positive_embedding = model(**positive_input).last_hidden_state[:, 0, :]\n",
    "            negative_embedding = [model(**tokenizer(neg, return_tensors='pt', padding=True, truncation=True, max_length=512).to(device)).last_hidden_state[:, 0, :] for neg in negative_texts]\n",
    "\n",
    "            pos_dist = distance_fn(anchor_embedding, positive_embedding)\n",
    "            neg_dist = torch.stack([distance_fn(anchor_embedding, neg) for neg in negative_embedding], dim=-1)\n",
    "            all_similarities=torch.cat([-pos_dist.unsqueeze(1), -neg_dist], dim=1)\n",
    "\n",
    "            sorted_similarities, sorted_indices = torch.sort(all_similarities, dim=1, descending=True)\n",
    "\n",
    "            # Find the rank of the first relevant (positive) document\n",
    "            positive_rank = (sorted_indices == 0).nonzero(as_tuple=True)[1] + 1  # +1 to make rank 1-based\n",
    "            total_rr += torch.sum(1.0 / positive_rank.float()).item()  # Reciprocal rank\n",
    "            num_queries += len(positive_rank)\n",
    "\n",
    "    mrr = total_rr / num_queries\n",
    "    return mrr"
   ]
  },
  {
   "cell_type": "code",
   "execution_count": 18,
   "id": "534a9ec5-4211-4cb6-81f1-fb8a30caff92",
   "metadata": {
    "execution": {
     "iopub.execute_input": "2025-03-02T13:01:50.590399Z",
     "iopub.status.busy": "2025-03-02T13:01:50.590013Z",
     "iopub.status.idle": "2025-03-02T13:01:53.126705Z",
     "shell.execute_reply": "2025-03-02T13:01:53.126086Z"
    },
    "papermill": {
     "duration": 2.540695,
     "end_time": "2025-03-02T13:01:53.127643",
     "exception": false,
     "start_time": "2025-03-02T13:01:50.586948",
     "status": "completed"
    },
    "tags": []
   },
   "outputs": [
    {
     "name": "stdout",
     "output_type": "stream",
     "text": [
      "0.4546666717529297\n"
     ]
    }
   ],
   "source": [
    "mrr_validation = evaluate_mrr(lora_model, data_loader, cosine_distance)\n",
    "print(mrr_validation)"
   ]
  },
  {
   "cell_type": "code",
   "execution_count": null,
   "id": "f61bbd65-41c9-4ac7-80ef-ba4a4fb02d45",
   "metadata": {
    "papermill": {
     "duration": 0.00278,
     "end_time": "2025-03-02T13:01:53.133857",
     "exception": false,
     "start_time": "2025-03-02T13:01:53.131077",
     "status": "completed"
    },
    "tags": []
   },
   "outputs": [],
   "source": []
  }
 ],
 "metadata": {
  "kernelspec": {
   "display_name": "Python (myenv)",
   "language": "python",
   "name": "myenv"
  },
  "language_info": {
   "codemirror_mode": {
    "name": "ipython",
    "version": 3
   },
   "file_extension": ".py",
   "mimetype": "text/x-python",
   "name": "python",
   "nbconvert_exporter": "python",
   "pygments_lexer": "ipython3",
   "version": "3.12.7"
  },
  "papermill": {
   "default_parameters": {},
   "duration": 23.993079,
   "end_time": "2025-03-02T13:01:54.654770",
   "environment_variables": {},
   "exception": null,
   "input_path": "TREC_covid.ipynb",
   "output_path": "TREC_covid_output.ipynb",
   "parameters": {},
   "start_time": "2025-03-02T13:01:30.661691",
   "version": "2.6.0"
  },
  "widgets": {
   "application/vnd.jupyter.widget-state+json": {
    "state": {
     "0f9a29c992634628aa198ac645f4b3ca": {
      "model_module": "@jupyter-widgets/base",
      "model_module_version": "2.0.0",
      "model_name": "LayoutModel",
      "state": {
       "_model_module": "@jupyter-widgets/base",
       "_model_module_version": "2.0.0",
       "_model_name": "LayoutModel",
       "_view_count": null,
       "_view_module": "@jupyter-widgets/base",
       "_view_module_version": "2.0.0",
       "_view_name": "LayoutView",
       "align_content": null,
       "align_items": null,
       "align_self": null,
       "border_bottom": null,
       "border_left": null,
       "border_right": null,
       "border_top": null,
       "bottom": null,
       "display": null,
       "flex": null,
       "flex_flow": null,
       "grid_area": null,
       "grid_auto_columns": null,
       "grid_auto_flow": null,
       "grid_auto_rows": null,
       "grid_column": null,
       "grid_gap": null,
       "grid_row": null,
       "grid_template_areas": null,
       "grid_template_columns": null,
       "grid_template_rows": null,
       "height": null,
       "justify_content": null,
       "justify_items": null,
       "left": null,
       "margin": null,
       "max_height": null,
       "max_width": null,
       "min_height": null,
       "min_width": null,
       "object_fit": null,
       "object_position": null,
       "order": null,
       "overflow": null,
       "padding": null,
       "right": null,
       "top": null,
       "visibility": null,
       "width": null
      }
     },
     "30f5748d52444b90bce7d72f3bfc7ab7": {
      "model_module": "@jupyter-widgets/controls",
      "model_module_version": "2.0.0",
      "model_name": "HTMLStyleModel",
      "state": {
       "_model_module": "@jupyter-widgets/controls",
       "_model_module_version": "2.0.0",
       "_model_name": "HTMLStyleModel",
       "_view_count": null,
       "_view_module": "@jupyter-widgets/base",
       "_view_module_version": "2.0.0",
       "_view_name": "StyleView",
       "background": null,
       "description_width": "",
       "font_size": null,
       "text_color": null
      }
     },
     "3fcc606f67c343faa934c3526466acda": {
      "model_module": "@jupyter-widgets/controls",
      "model_module_version": "2.0.0",
      "model_name": "HTMLModel",
      "state": {
       "_dom_classes": [],
       "_model_module": "@jupyter-widgets/controls",
       "_model_module_version": "2.0.0",
       "_model_name": "HTMLModel",
       "_view_count": null,
       "_view_module": "@jupyter-widgets/controls",
       "_view_module_version": "2.0.0",
       "_view_name": "HTMLView",
       "description": "",
       "description_allow_html": false,
       "layout": "IPY_MODEL_0f9a29c992634628aa198ac645f4b3ca",
       "placeholder": "​",
       "style": "IPY_MODEL_89123dfe396042bfb521e2a61f71c665",
       "tabbable": null,
       "tooltip": null,
       "value": "100%"
      }
     },
     "4436a7935e3b4ef5aa1cc4ab5b1260b5": {
      "model_module": "@jupyter-widgets/base",
      "model_module_version": "2.0.0",
      "model_name": "LayoutModel",
      "state": {
       "_model_module": "@jupyter-widgets/base",
       "_model_module_version": "2.0.0",
       "_model_name": "LayoutModel",
       "_view_count": null,
       "_view_module": "@jupyter-widgets/base",
       "_view_module_version": "2.0.0",
       "_view_name": "LayoutView",
       "align_content": null,
       "align_items": null,
       "align_self": null,
       "border_bottom": null,
       "border_left": null,
       "border_right": null,
       "border_top": null,
       "bottom": null,
       "display": null,
       "flex": null,
       "flex_flow": null,
       "grid_area": null,
       "grid_auto_columns": null,
       "grid_auto_flow": null,
       "grid_auto_rows": null,
       "grid_column": null,
       "grid_gap": null,
       "grid_row": null,
       "grid_template_areas": null,
       "grid_template_columns": null,
       "grid_template_rows": null,
       "height": null,
       "justify_content": null,
       "justify_items": null,
       "left": null,
       "margin": null,
       "max_height": null,
       "max_width": null,
       "min_height": null,
       "min_width": null,
       "object_fit": null,
       "object_position": null,
       "order": null,
       "overflow": null,
       "padding": null,
       "right": null,
       "top": null,
       "visibility": null,
       "width": null
      }
     },
     "5587b99fa71b468c8c920e276201e6fb": {
      "model_module": "@jupyter-widgets/base",
      "model_module_version": "2.0.0",
      "model_name": "LayoutModel",
      "state": {
       "_model_module": "@jupyter-widgets/base",
       "_model_module_version": "2.0.0",
       "_model_name": "LayoutModel",
       "_view_count": null,
       "_view_module": "@jupyter-widgets/base",
       "_view_module_version": "2.0.0",
       "_view_name": "LayoutView",
       "align_content": null,
       "align_items": null,
       "align_self": null,
       "border_bottom": null,
       "border_left": null,
       "border_right": null,
       "border_top": null,
       "bottom": null,
       "display": null,
       "flex": null,
       "flex_flow": null,
       "grid_area": null,
       "grid_auto_columns": null,
       "grid_auto_flow": null,
       "grid_auto_rows": null,
       "grid_column": null,
       "grid_gap": null,
       "grid_row": null,
       "grid_template_areas": null,
       "grid_template_columns": null,
       "grid_template_rows": null,
       "height": null,
       "justify_content": null,
       "justify_items": null,
       "left": null,
       "margin": null,
       "max_height": null,
       "max_width": null,
       "min_height": null,
       "min_width": null,
       "object_fit": null,
       "object_position": null,
       "order": null,
       "overflow": null,
       "padding": null,
       "right": null,
       "top": null,
       "visibility": null,
       "width": null
      }
     },
     "71242dbce2af4727bf3fd00d769dda34": {
      "model_module": "@jupyter-widgets/controls",
      "model_module_version": "2.0.0",
      "model_name": "HTMLModel",
      "state": {
       "_dom_classes": [],
       "_model_module": "@jupyter-widgets/controls",
       "_model_module_version": "2.0.0",
       "_model_name": "HTMLModel",
       "_view_count": null,
       "_view_module": "@jupyter-widgets/controls",
       "_view_module_version": "2.0.0",
       "_view_name": "HTMLView",
       "description": "",
       "description_allow_html": false,
       "layout": "IPY_MODEL_4436a7935e3b4ef5aa1cc4ab5b1260b5",
       "placeholder": "​",
       "style": "IPY_MODEL_30f5748d52444b90bce7d72f3bfc7ab7",
       "tabbable": null,
       "tooltip": null,
       "value": " 171332/171332 [00:01&lt;00:00, 136841.62it/s]"
      }
     },
     "807b74652e4d4afbb71ee81ef68c8147": {
      "model_module": "@jupyter-widgets/controls",
      "model_module_version": "2.0.0",
      "model_name": "FloatProgressModel",
      "state": {
       "_dom_classes": [],
       "_model_module": "@jupyter-widgets/controls",
       "_model_module_version": "2.0.0",
       "_model_name": "FloatProgressModel",
       "_view_count": null,
       "_view_module": "@jupyter-widgets/controls",
       "_view_module_version": "2.0.0",
       "_view_name": "ProgressView",
       "bar_style": "success",
       "description": "",
       "description_allow_html": false,
       "layout": "IPY_MODEL_b928a72b0f114256950f556ba77d5413",
       "max": 171332.0,
       "min": 0.0,
       "orientation": "horizontal",
       "style": "IPY_MODEL_befb1421f9f54062bfe66fda88d78602",
       "tabbable": null,
       "tooltip": null,
       "value": 171332.0
      }
     },
     "89123dfe396042bfb521e2a61f71c665": {
      "model_module": "@jupyter-widgets/controls",
      "model_module_version": "2.0.0",
      "model_name": "HTMLStyleModel",
      "state": {
       "_model_module": "@jupyter-widgets/controls",
       "_model_module_version": "2.0.0",
       "_model_name": "HTMLStyleModel",
       "_view_count": null,
       "_view_module": "@jupyter-widgets/base",
       "_view_module_version": "2.0.0",
       "_view_name": "StyleView",
       "background": null,
       "description_width": "",
       "font_size": null,
       "text_color": null
      }
     },
     "b928a72b0f114256950f556ba77d5413": {
      "model_module": "@jupyter-widgets/base",
      "model_module_version": "2.0.0",
      "model_name": "LayoutModel",
      "state": {
       "_model_module": "@jupyter-widgets/base",
       "_model_module_version": "2.0.0",
       "_model_name": "LayoutModel",
       "_view_count": null,
       "_view_module": "@jupyter-widgets/base",
       "_view_module_version": "2.0.0",
       "_view_name": "LayoutView",
       "align_content": null,
       "align_items": null,
       "align_self": null,
       "border_bottom": null,
       "border_left": null,
       "border_right": null,
       "border_top": null,
       "bottom": null,
       "display": null,
       "flex": null,
       "flex_flow": null,
       "grid_area": null,
       "grid_auto_columns": null,
       "grid_auto_flow": null,
       "grid_auto_rows": null,
       "grid_column": null,
       "grid_gap": null,
       "grid_row": null,
       "grid_template_areas": null,
       "grid_template_columns": null,
       "grid_template_rows": null,
       "height": null,
       "justify_content": null,
       "justify_items": null,
       "left": null,
       "margin": null,
       "max_height": null,
       "max_width": null,
       "min_height": null,
       "min_width": null,
       "object_fit": null,
       "object_position": null,
       "order": null,
       "overflow": null,
       "padding": null,
       "right": null,
       "top": null,
       "visibility": null,
       "width": null
      }
     },
     "befb1421f9f54062bfe66fda88d78602": {
      "model_module": "@jupyter-widgets/controls",
      "model_module_version": "2.0.0",
      "model_name": "ProgressStyleModel",
      "state": {
       "_model_module": "@jupyter-widgets/controls",
       "_model_module_version": "2.0.0",
       "_model_name": "ProgressStyleModel",
       "_view_count": null,
       "_view_module": "@jupyter-widgets/base",
       "_view_module_version": "2.0.0",
       "_view_name": "StyleView",
       "bar_color": null,
       "description_width": ""
      }
     },
     "c0b0a3363a944a50baf3e4e4ea68230a": {
      "model_module": "@jupyter-widgets/controls",
      "model_module_version": "2.0.0",
      "model_name": "HBoxModel",
      "state": {
       "_dom_classes": [],
       "_model_module": "@jupyter-widgets/controls",
       "_model_module_version": "2.0.0",
       "_model_name": "HBoxModel",
       "_view_count": null,
       "_view_module": "@jupyter-widgets/controls",
       "_view_module_version": "2.0.0",
       "_view_name": "HBoxView",
       "box_style": "",
       "children": [
        "IPY_MODEL_3fcc606f67c343faa934c3526466acda",
        "IPY_MODEL_807b74652e4d4afbb71ee81ef68c8147",
        "IPY_MODEL_71242dbce2af4727bf3fd00d769dda34"
       ],
       "layout": "IPY_MODEL_5587b99fa71b468c8c920e276201e6fb",
       "tabbable": null,
       "tooltip": null
      }
     }
    },
    "version_major": 2,
    "version_minor": 0
   }
  }
 },
 "nbformat": 4,
 "nbformat_minor": 5
}