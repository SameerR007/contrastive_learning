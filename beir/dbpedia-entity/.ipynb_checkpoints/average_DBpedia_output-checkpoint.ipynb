{
 "cells": [
  {
   "cell_type": "code",
   "execution_count": 1,
   "id": "f6d4b65f-fa6b-4517-8694-8627bc49833b",
   "metadata": {
    "execution": {
     "iopub.execute_input": "2025-03-04T22:04:45.534210Z",
     "iopub.status.busy": "2025-03-04T22:04:45.534078Z",
     "iopub.status.idle": "2025-03-04T22:04:45.736867Z",
     "shell.execute_reply": "2025-03-04T22:04:45.736519Z"
    },
    "papermill": {
     "duration": 0.206529,
     "end_time": "2025-03-04T22:04:45.737544",
     "exception": false,
     "start_time": "2025-03-04T22:04:45.531015",
     "status": "completed"
    },
    "tags": []
   },
   "outputs": [
    {
     "name": "stderr",
     "output_type": "stream",
     "text": [
      "/dss/dsshome1/07/ra65bex2/srawat/myenv/lib/python3.12/site-packages/beir/datasets/data_loader.py:8: TqdmExperimentalWarning: Using `tqdm.autonotebook.tqdm` in notebook mode. Use `tqdm.tqdm` instead to force console mode (e.g. in jupyter console)\n",
      "  from tqdm.autonotebook import tqdm\n"
     ]
    }
   ],
   "source": [
    "from beir.datasets.data_loader import GenericDataLoader"
   ]
  },
  {
   "cell_type": "code",
   "execution_count": 2,
   "id": "a91d6914-e301-422c-b839-1fafeb1e8fa4",
   "metadata": {
    "execution": {
     "iopub.execute_input": "2025-03-04T22:04:45.743292Z",
     "iopub.status.busy": "2025-03-04T22:04:45.742922Z",
     "iopub.status.idle": "2025-03-04T22:04:45.745217Z",
     "shell.execute_reply": "2025-03-04T22:04:45.744919Z"
    },
    "papermill": {
     "duration": 0.005731,
     "end_time": "2025-03-04T22:04:45.745844",
     "exception": false,
     "start_time": "2025-03-04T22:04:45.740113",
     "status": "completed"
    },
    "tags": []
   },
   "outputs": [],
   "source": [
    "data_path = \"/dss/dsshome1/07/ra65bex2/srawat/dbpedia-entity/dbpedia-entity\""
   ]
  },
  {
   "cell_type": "code",
   "execution_count": 3,
   "id": "41e17333-2c34-4b7b-91f6-3cbd3972f0d6",
   "metadata": {
    "execution": {
     "iopub.execute_input": "2025-03-04T22:04:45.750608Z",
     "iopub.status.busy": "2025-03-04T22:04:45.750392Z",
     "iopub.status.idle": "2025-03-04T22:05:09.000966Z",
     "shell.execute_reply": "2025-03-04T22:05:09.000455Z"
    },
    "papermill": {
     "duration": 23.253732,
     "end_time": "2025-03-04T22:05:09.001705",
     "exception": false,
     "start_time": "2025-03-04T22:04:45.747973",
     "status": "completed"
    },
    "tags": []
   },
   "outputs": [
    {
     "data": {
      "application/vnd.jupyter.widget-view+json": {
       "model_id": "4d67fa5738664ba38c82b4be3200ae6f",
       "version_major": 2,
       "version_minor": 0
      },
      "text/plain": [
       "  0%|          | 0/4635922 [00:00<?, ?it/s]"
      ]
     },
     "metadata": {},
     "output_type": "display_data"
    }
   ],
   "source": [
    "corpus, queries, qrels = GenericDataLoader(data_path).load(split=\"test\")"
   ]
  },
  {
   "cell_type": "code",
   "execution_count": 4,
   "id": "a29044d5-3952-4f3d-aa43-e1efd34fcad3",
   "metadata": {
    "execution": {
     "iopub.execute_input": "2025-03-04T22:05:09.009343Z",
     "iopub.status.busy": "2025-03-04T22:05:09.009140Z",
     "iopub.status.idle": "2025-03-04T22:15:15.329698Z",
     "shell.execute_reply": "2025-03-04T22:15:15.328862Z"
    },
    "papermill": {
     "duration": 606.32445,
     "end_time": "2025-03-04T22:15:15.330867",
     "exception": false,
     "start_time": "2025-03-04T22:05:09.006417",
     "status": "completed"
    },
    "tags": []
   },
   "outputs": [],
   "source": [
    "contrastive_pairs=[]\n",
    "import random\n",
    "c=0\n",
    "for query_id, relevant_docs in qrels.items():\n",
    "    try:\n",
    "        query_text = queries[query_id]\n",
    "        for doc_id in relevant_docs:\n",
    "            positive = corpus[doc_id][\"text\"]\n",
    "        #print(relevant_docs)\n",
    "        positive_doc_ids = set(relevant_docs)\n",
    "        all_doc_ids = set(corpus.keys())\n",
    "        negative_doc_ids = all_doc_ids - positive_doc_ids\n",
    "        negative_doc_ids=list(negative_doc_ids)\n",
    "        negative_doc_samples = random.sample(negative_doc_ids, k=5)\n",
    "        negatives=[]\n",
    "        for neg_doc_id in negative_doc_samples:\n",
    "            negative_doc_text = corpus[neg_doc_id][\"text\"]\n",
    "            negatives.append(negative_doc_text)\n",
    "        contrastive_pairs.append({\n",
    "            \"anchor\": query_text,\n",
    "            \"positive\": positive,\n",
    "            \"negatives\": negatives\n",
    "        })\n",
    "    except:\n",
    "        c=c+1"
   ]
  },
  {
   "cell_type": "code",
   "execution_count": 5,
   "id": "49721946-fff3-4690-bd92-d981cecdf62b",
   "metadata": {
    "execution": {
     "iopub.execute_input": "2025-03-04T22:15:15.342246Z",
     "iopub.status.busy": "2025-03-04T22:15:15.341610Z",
     "iopub.status.idle": "2025-03-04T22:15:15.345808Z",
     "shell.execute_reply": "2025-03-04T22:15:15.345466Z"
    },
    "papermill": {
     "duration": 0.007851,
     "end_time": "2025-03-04T22:15:15.346467",
     "exception": false,
     "start_time": "2025-03-04T22:15:15.338616",
     "status": "completed"
    },
    "tags": []
   },
   "outputs": [
    {
     "data": {
      "text/plain": [
       "0"
      ]
     },
     "execution_count": 5,
     "metadata": {},
     "output_type": "execute_result"
    }
   ],
   "source": [
    "c"
   ]
  },
  {
   "cell_type": "code",
   "execution_count": 6,
   "id": "de8ef367-dcb4-4bb6-af3a-20f190930ed1",
   "metadata": {
    "execution": {
     "iopub.execute_input": "2025-03-04T22:15:15.352040Z",
     "iopub.status.busy": "2025-03-04T22:15:15.351663Z",
     "iopub.status.idle": "2025-03-04T22:15:15.369576Z",
     "shell.execute_reply": "2025-03-04T22:15:15.369196Z"
    },
    "papermill": {
     "duration": 0.021496,
     "end_time": "2025-03-04T22:15:15.370278",
     "exception": false,
     "start_time": "2025-03-04T22:15:15.348782",
     "status": "completed"
    },
    "tags": []
   },
   "outputs": [
    {
     "data": {
      "text/plain": [
       "400"
      ]
     },
     "execution_count": 6,
     "metadata": {},
     "output_type": "execute_result"
    }
   ],
   "source": [
    "len(contrastive_pairs)"
   ]
  },
  {
   "cell_type": "code",
   "execution_count": 7,
   "id": "8ade92f9-e3df-4d0a-b849-b1a721e18cf6",
   "metadata": {
    "execution": {
     "iopub.execute_input": "2025-03-04T22:15:15.376819Z",
     "iopub.status.busy": "2025-03-04T22:15:15.376423Z",
     "iopub.status.idle": "2025-03-04T22:15:15.387558Z",
     "shell.execute_reply": "2025-03-04T22:15:15.387197Z"
    },
    "papermill": {
     "duration": 0.015444,
     "end_time": "2025-03-04T22:15:15.388242",
     "exception": false,
     "start_time": "2025-03-04T22:15:15.372798",
     "status": "completed"
    },
    "tags": []
   },
   "outputs": [
    {
     "data": {
      "text/plain": [
       "400"
      ]
     },
     "execution_count": 7,
     "metadata": {},
     "output_type": "execute_result"
    }
   ],
   "source": [
    "len(qrels)"
   ]
  },
  {
   "cell_type": "code",
   "execution_count": 8,
   "id": "6b97f7b4-f007-41f6-bfbb-1b9b01665e9d",
   "metadata": {
    "execution": {
     "iopub.execute_input": "2025-03-04T22:15:15.393723Z",
     "iopub.status.busy": "2025-03-04T22:15:15.393593Z",
     "iopub.status.idle": "2025-03-04T22:15:30.421981Z",
     "shell.execute_reply": "2025-03-04T22:15:30.421549Z"
    },
    "papermill": {
     "duration": 15.03226,
     "end_time": "2025-03-04T22:15:30.422899",
     "exception": false,
     "start_time": "2025-03-04T22:15:15.390639",
     "status": "completed"
    },
    "tags": []
   },
   "outputs": [],
   "source": [
    "from torch.utils.data import DataLoader"
   ]
  },
  {
   "cell_type": "code",
   "execution_count": 9,
   "id": "a415b29a-a543-4679-8f78-44f715b3067d",
   "metadata": {
    "execution": {
     "iopub.execute_input": "2025-03-04T22:15:30.430754Z",
     "iopub.status.busy": "2025-03-04T22:15:30.430564Z",
     "iopub.status.idle": "2025-03-04T22:15:30.433618Z",
     "shell.execute_reply": "2025-03-04T22:15:30.433289Z"
    },
    "papermill": {
     "duration": 0.006708,
     "end_time": "2025-03-04T22:15:30.434288",
     "exception": false,
     "start_time": "2025-03-04T22:15:30.427580",
     "status": "completed"
    },
    "tags": []
   },
   "outputs": [],
   "source": [
    "class ContrastiveDataset:\n",
    "    def __init__(self, pairs):\n",
    "        self.pairs = pairs\n",
    "\n",
    "    def __len__(self):\n",
    "        return len(self.pairs)\n",
    "\n",
    "    def __getitem__(self, idx):\n",
    "        item = self.pairs[idx]\n",
    "        return item[\"anchor\"], item[\"positive\"], item[\"negatives\"]"
   ]
  },
  {
   "cell_type": "code",
   "execution_count": 10,
   "id": "a39efeab-fd20-411a-80c5-315f362e00d2",
   "metadata": {
    "execution": {
     "iopub.execute_input": "2025-03-04T22:15:30.439721Z",
     "iopub.status.busy": "2025-03-04T22:15:30.439570Z",
     "iopub.status.idle": "2025-03-04T22:15:30.452628Z",
     "shell.execute_reply": "2025-03-04T22:15:30.452312Z"
    },
    "papermill": {
     "duration": 0.016567,
     "end_time": "2025-03-04T22:15:30.453359",
     "exception": false,
     "start_time": "2025-03-04T22:15:30.436792",
     "status": "completed"
    },
    "tags": []
   },
   "outputs": [],
   "source": [
    "contrastive_dataset = ContrastiveDataset(contrastive_pairs)"
   ]
  },
  {
   "cell_type": "code",
   "execution_count": 11,
   "id": "d103bbfa-895a-4020-a7e5-21de659f27dc",
   "metadata": {
    "execution": {
     "iopub.execute_input": "2025-03-04T22:15:30.458900Z",
     "iopub.status.busy": "2025-03-04T22:15:30.458669Z",
     "iopub.status.idle": "2025-03-04T22:15:30.468909Z",
     "shell.execute_reply": "2025-03-04T22:15:30.468533Z"
    },
    "papermill": {
     "duration": 0.0137,
     "end_time": "2025-03-04T22:15:30.469582",
     "exception": false,
     "start_time": "2025-03-04T22:15:30.455882",
     "status": "completed"
    },
    "tags": []
   },
   "outputs": [],
   "source": [
    "data_loader = DataLoader(contrastive_dataset, batch_size=32, shuffle=True)"
   ]
  },
  {
   "cell_type": "code",
   "execution_count": 12,
   "id": "c8b0277f-f526-4087-82da-c4cdd65d32da",
   "metadata": {
    "execution": {
     "iopub.execute_input": "2025-03-04T22:15:30.475799Z",
     "iopub.status.busy": "2025-03-04T22:15:30.475330Z",
     "iopub.status.idle": "2025-03-04T22:15:30.485902Z",
     "shell.execute_reply": "2025-03-04T22:15:30.485540Z"
    },
    "papermill": {
     "duration": 0.014305,
     "end_time": "2025-03-04T22:15:30.486583",
     "exception": false,
     "start_time": "2025-03-04T22:15:30.472278",
     "status": "completed"
    },
    "tags": []
   },
   "outputs": [
    {
     "data": {
      "text/plain": [
       "13"
      ]
     },
     "execution_count": 12,
     "metadata": {},
     "output_type": "execute_result"
    }
   ],
   "source": [
    "len(data_loader)"
   ]
  },
  {
   "cell_type": "code",
   "execution_count": 13,
   "id": "e15526a4-b3fe-435b-91c9-ad4064562f0f",
   "metadata": {
    "execution": {
     "iopub.execute_input": "2025-03-04T22:15:30.492469Z",
     "iopub.status.busy": "2025-03-04T22:15:30.492196Z",
     "iopub.status.idle": "2025-03-04T22:16:03.692249Z",
     "shell.execute_reply": "2025-03-04T22:16:03.691797Z"
    },
    "papermill": {
     "duration": 33.204034,
     "end_time": "2025-03-04T22:16:03.693213",
     "exception": false,
     "start_time": "2025-03-04T22:15:30.489179",
     "status": "completed"
    },
    "tags": []
   },
   "outputs": [
    {
     "name": "stderr",
     "output_type": "stream",
     "text": [
      "/tmp/ipykernel_724731/2192687965.py:3: FutureWarning: You are using `torch.load` with `weights_only=False` (the current default value), which uses the default pickle module implicitly. It is possible to construct malicious pickle data which will execute arbitrary code during unpickling (See https://github.com/pytorch/pytorch/blob/main/SECURITY.md#untrusted-models for more details). In a future release, the default value for `weights_only` will be flipped to `True`. This limits the functions that could be executed during unpickling. Arbitrary objects will no longer be allowed to be loaded via this mode unless they are explicitly allowlisted by the user via `torch.serialization.add_safe_globals`. We recommend you start setting `weights_only=True` for any use case where you don't have full control of the loaded file. Please open an issue on GitHub for any issues related to this experimental feature.\n",
      "  lora_model = torch.load(file_path)\n"
     ]
    }
   ],
   "source": [
    "import torch\n",
    "file_path=\"/dss/dsshome1/07/ra65bex2/srawat/contrastive_learning/v1.1/app_average/average_checkpoint_epoch_3.pth\"\n",
    "lora_model = torch.load(file_path)"
   ]
  },
  {
   "cell_type": "code",
   "execution_count": 14,
   "id": "9999e628-5966-4dda-b5c5-c0d762fce27d",
   "metadata": {
    "execution": {
     "iopub.execute_input": "2025-03-04T22:16:03.704049Z",
     "iopub.status.busy": "2025-03-04T22:16:03.703701Z",
     "iopub.status.idle": "2025-03-04T22:16:03.709439Z",
     "shell.execute_reply": "2025-03-04T22:16:03.709130Z"
    },
    "papermill": {
     "duration": 0.009622,
     "end_time": "2025-03-04T22:16:03.710102",
     "exception": false,
     "start_time": "2025-03-04T22:16:03.700480",
     "status": "completed"
    },
    "tags": []
   },
   "outputs": [],
   "source": [
    "device = torch.device('cuda' if torch.cuda.is_available() else 'cpu')\n",
    "lora_model = lora_model.to(device)"
   ]
  },
  {
   "cell_type": "code",
   "execution_count": 15,
   "id": "7e6a3a61-8db0-43db-b575-6399f8515950",
   "metadata": {
    "execution": {
     "iopub.execute_input": "2025-03-04T22:16:03.716576Z",
     "iopub.status.busy": "2025-03-04T22:16:03.716159Z",
     "iopub.status.idle": "2025-03-04T22:16:03.967374Z",
     "shell.execute_reply": "2025-03-04T22:16:03.966948Z"
    },
    "papermill": {
     "duration": 0.255488,
     "end_time": "2025-03-04T22:16:03.968338",
     "exception": false,
     "start_time": "2025-03-04T22:16:03.712850",
     "status": "completed"
    },
    "tags": []
   },
   "outputs": [],
   "source": [
    "from transformers import AutoTokenizer, AutoModel\n",
    "tokenizer = AutoTokenizer.from_pretrained(\"bert-base-uncased\")"
   ]
  },
  {
   "cell_type": "code",
   "execution_count": 16,
   "id": "68ac4919-76f1-4349-a314-4b1061126655",
   "metadata": {
    "execution": {
     "iopub.execute_input": "2025-03-04T22:16:03.974860Z",
     "iopub.status.busy": "2025-03-04T22:16:03.974696Z",
     "iopub.status.idle": "2025-03-04T22:16:03.977467Z",
     "shell.execute_reply": "2025-03-04T22:16:03.977077Z"
    },
    "papermill": {
     "duration": 0.006714,
     "end_time": "2025-03-04T22:16:03.978191",
     "exception": false,
     "start_time": "2025-03-04T22:16:03.971477",
     "status": "completed"
    },
    "tags": []
   },
   "outputs": [],
   "source": [
    "def cosine_distance(x, y):\n",
    "    return 1 - torch.nn.functional.cosine_similarity(x, y, dim=-1)"
   ]
  },
  {
   "cell_type": "code",
   "execution_count": 17,
   "id": "870570ba-20a1-4c0b-8367-525d85af4ded",
   "metadata": {
    "execution": {
     "iopub.execute_input": "2025-03-04T22:16:03.984533Z",
     "iopub.status.busy": "2025-03-04T22:16:03.984178Z",
     "iopub.status.idle": "2025-03-04T22:16:04.175354Z",
     "shell.execute_reply": "2025-03-04T22:16:04.174873Z"
    },
    "papermill": {
     "duration": 0.195302,
     "end_time": "2025-03-04T22:16:04.176304",
     "exception": false,
     "start_time": "2025-03-04T22:16:03.981002",
     "status": "completed"
    },
    "tags": []
   },
   "outputs": [],
   "source": [
    "def avg_embedding(inputs, model):\n",
    "    input=model(**inputs)\n",
    "    input_last_hidden_state=input.last_hidden_state\n",
    "    input_attention_mask = inputs['attention_mask']\n",
    "    input_masked_embeddings = input_last_hidden_state * input_attention_mask.unsqueeze(-1)\n",
    "    input_sum_embeddings = torch.sum(input_masked_embeddings, dim=1)\n",
    "    input_token_counts = torch.sum(input_attention_mask, dim=1).unsqueeze(-1)\n",
    "    input_avg_embeddings = input_sum_embeddings / input_token_counts\n",
    "    return(input_avg_embeddings)"
   ]
  },
  {
   "cell_type": "code",
   "execution_count": 18,
   "id": "990f63bd-4d48-4f58-a001-3b3250f65312",
   "metadata": {
    "execution": {
     "iopub.execute_input": "2025-03-04T22:16:04.182622Z",
     "iopub.status.busy": "2025-03-04T22:16:04.182471Z",
     "iopub.status.idle": "2025-03-04T22:16:04.195078Z",
     "shell.execute_reply": "2025-03-04T22:16:04.194575Z"
    },
    "papermill": {
     "duration": 0.016666,
     "end_time": "2025-03-04T22:16:04.195961",
     "exception": false,
     "start_time": "2025-03-04T22:16:04.179295",
     "status": "completed"
    },
    "tags": []
   },
   "outputs": [],
   "source": [
    "def evaluate_mrr(model, data_loader_val, distance_fn):\n",
    "    model.eval()  \n",
    "\n",
    "    total_rr = 0.0\n",
    "    num_queries = 0\n",
    "\n",
    "    with torch.no_grad():\n",
    "        for batch in data_loader_val:\n",
    "            anchor_text = batch[0]\n",
    "            positive_text = batch[1]\n",
    "            negative_texts = batch[2]\n",
    "\n",
    "            anchor_input = tokenizer(anchor_text, return_tensors='pt', padding=True, truncation=True, max_length=512).to(device)\n",
    "            positive_input = tokenizer(positive_text, return_tensors='pt', padding=True, truncation=True, max_length=512).to(device)\n",
    "\n",
    "            anchor_embedding = avg_embedding(anchor_input, model)\n",
    "            positive_embedding = avg_embedding(positive_input, model)\n",
    "            negative_embedding = [avg_embedding(tokenizer(neg, return_tensors='pt', padding=True, truncation=True, max_length=512).to(device), model) for neg in negative_texts]\n",
    "\n",
    "            pos_dist = distance_fn(anchor_embedding, positive_embedding)\n",
    "            neg_dist = torch.stack([distance_fn(anchor_embedding, neg) for neg in negative_embedding], dim=-1)\n",
    "            all_similarities=torch.cat([-pos_dist.unsqueeze(1), -neg_dist], dim=1)\n",
    "            \n",
    "            sorted_similarities, sorted_indices = torch.sort(all_similarities, dim=1, descending=True)\n",
    "\n",
    "            # Find the rank of the first relevant (positive) document\n",
    "            positive_rank = (sorted_indices == 0).nonzero(as_tuple=True)[1] + 1  # +1 to make rank 1-based\n",
    "            total_rr += torch.sum(1.0 / positive_rank.float()).item()  # Reciprocal rank\n",
    "            num_queries += len(positive_rank)\n",
    "\n",
    "    mrr = total_rr / num_queries\n",
    "    return mrr"
   ]
  },
  {
   "cell_type": "code",
   "execution_count": 19,
   "id": "534a9ec5-4211-4cb6-81f1-fb8a30caff92",
   "metadata": {
    "execution": {
     "iopub.execute_input": "2025-03-04T22:16:04.202087Z",
     "iopub.status.busy": "2025-03-04T22:16:04.201814Z",
     "iopub.status.idle": "2025-03-04T22:16:10.762136Z",
     "shell.execute_reply": "2025-03-04T22:16:10.761573Z"
    },
    "papermill": {
     "duration": 6.564297,
     "end_time": "2025-03-04T22:16:10.763072",
     "exception": false,
     "start_time": "2025-03-04T22:16:04.198775",
     "status": "completed"
    },
    "tags": []
   },
   "outputs": [
    {
     "name": "stdout",
     "output_type": "stream",
     "text": [
      "0.581958327293396\n"
     ]
    }
   ],
   "source": [
    "mrr_validation = evaluate_mrr(lora_model, data_loader, cosine_distance)\n",
    "print(mrr_validation)"
   ]
  },
  {
   "cell_type": "code",
   "execution_count": null,
   "id": "f61bbd65-41c9-4ac7-80ef-ba4a4fb02d45",
   "metadata": {
    "papermill": {
     "duration": 0.002884,
     "end_time": "2025-03-04T22:16:10.769429",
     "exception": false,
     "start_time": "2025-03-04T22:16:10.766545",
     "status": "completed"
    },
    "tags": []
   },
   "outputs": [],
   "source": []
  }
 ],
 "metadata": {
  "kernelspec": {
   "display_name": "Python (myenv)",
   "language": "python",
   "name": "myenv"
  },
  "language_info": {
   "codemirror_mode": {
    "name": "ipython",
    "version": 3
   },
   "file_extension": ".py",
   "mimetype": "text/x-python",
   "name": "python",
   "nbconvert_exporter": "python",
   "pygments_lexer": "ipython3",
   "version": "3.12.7"
  },
  "papermill": {
   "default_parameters": {},
   "duration": 694.383604,
   "end_time": "2025-03-04T22:16:13.992233",
   "environment_variables": {},
   "exception": null,
   "input_path": "average_DBpedia.ipynb",
   "output_path": "average_DBpedia_output.ipynb",
   "parameters": {},
   "start_time": "2025-03-04T22:04:39.608629",
   "version": "2.6.0"
  },
  "widgets": {
   "application/vnd.jupyter.widget-state+json": {
    "state": {
     "088490a7cbb54452bbed8d32120dd4ce": {
      "model_module": "@jupyter-widgets/controls",
      "model_module_version": "2.0.0",
      "model_name": "HTMLStyleModel",
      "state": {
       "_model_module": "@jupyter-widgets/controls",
       "_model_module_version": "2.0.0",
       "_model_name": "HTMLStyleModel",
       "_view_count": null,
       "_view_module": "@jupyter-widgets/base",
       "_view_module_version": "2.0.0",
       "_view_name": "StyleView",
       "background": null,
       "description_width": "",
       "font_size": null,
       "text_color": null
      }
     },
     "1f49f5ae7cc04c4eb7f0ad5346cbef58": {
      "model_module": "@jupyter-widgets/controls",
      "model_module_version": "2.0.0",
      "model_name": "ProgressStyleModel",
      "state": {
       "_model_module": "@jupyter-widgets/controls",
       "_model_module_version": "2.0.0",
       "_model_name": "ProgressStyleModel",
       "_view_count": null,
       "_view_module": "@jupyter-widgets/base",
       "_view_module_version": "2.0.0",
       "_view_name": "StyleView",
       "bar_color": null,
       "description_width": ""
      }
     },
     "2b6a5d909d9643abafbf8e9319c87414": {
      "model_module": "@jupyter-widgets/controls",
      "model_module_version": "2.0.0",
      "model_name": "FloatProgressModel",
      "state": {
       "_dom_classes": [],
       "_model_module": "@jupyter-widgets/controls",
       "_model_module_version": "2.0.0",
       "_model_name": "FloatProgressModel",
       "_view_count": null,
       "_view_module": "@jupyter-widgets/controls",
       "_view_module_version": "2.0.0",
       "_view_name": "ProgressView",
       "bar_style": "success",
       "description": "",
       "description_allow_html": false,
       "layout": "IPY_MODEL_cc42f6c39f4e4246aebf9a4417d29253",
       "max": 4635922.0,
       "min": 0.0,
       "orientation": "horizontal",
       "style": "IPY_MODEL_1f49f5ae7cc04c4eb7f0ad5346cbef58",
       "tabbable": null,
       "tooltip": null,
       "value": 4635922.0
      }
     },
     "3b7e032a5ee34fd18699a1c0624df1ab": {
      "model_module": "@jupyter-widgets/controls",
      "model_module_version": "2.0.0",
      "model_name": "HTMLModel",
      "state": {
       "_dom_classes": [],
       "_model_module": "@jupyter-widgets/controls",
       "_model_module_version": "2.0.0",
       "_model_name": "HTMLModel",
       "_view_count": null,
       "_view_module": "@jupyter-widgets/controls",
       "_view_module_version": "2.0.0",
       "_view_name": "HTMLView",
       "description": "",
       "description_allow_html": false,
       "layout": "IPY_MODEL_8b84eebefe8240c2baff7cdb231a6fe5",
       "placeholder": "​",
       "style": "IPY_MODEL_8f2b885f42454733b092383ab9ff99bf",
       "tabbable": null,
       "tooltip": null,
       "value": "100%"
      }
     },
     "412b7fc2f4b64768ac97c31e02785725": {
      "model_module": "@jupyter-widgets/base",
      "model_module_version": "2.0.0",
      "model_name": "LayoutModel",
      "state": {
       "_model_module": "@jupyter-widgets/base",
       "_model_module_version": "2.0.0",
       "_model_name": "LayoutModel",
       "_view_count": null,
       "_view_module": "@jupyter-widgets/base",
       "_view_module_version": "2.0.0",
       "_view_name": "LayoutView",
       "align_content": null,
       "align_items": null,
       "align_self": null,
       "border_bottom": null,
       "border_left": null,
       "border_right": null,
       "border_top": null,
       "bottom": null,
       "display": null,
       "flex": null,
       "flex_flow": null,
       "grid_area": null,
       "grid_auto_columns": null,
       "grid_auto_flow": null,
       "grid_auto_rows": null,
       "grid_column": null,
       "grid_gap": null,
       "grid_row": null,
       "grid_template_areas": null,
       "grid_template_columns": null,
       "grid_template_rows": null,
       "height": null,
       "justify_content": null,
       "justify_items": null,
       "left": null,
       "margin": null,
       "max_height": null,
       "max_width": null,
       "min_height": null,
       "min_width": null,
       "object_fit": null,
       "object_position": null,
       "order": null,
       "overflow": null,
       "padding": null,
       "right": null,
       "top": null,
       "visibility": null,
       "width": null
      }
     },
     "4d67fa5738664ba38c82b4be3200ae6f": {
      "model_module": "@jupyter-widgets/controls",
      "model_module_version": "2.0.0",
      "model_name": "HBoxModel",
      "state": {
       "_dom_classes": [],
       "_model_module": "@jupyter-widgets/controls",
       "_model_module_version": "2.0.0",
       "_model_name": "HBoxModel",
       "_view_count": null,
       "_view_module": "@jupyter-widgets/controls",
       "_view_module_version": "2.0.0",
       "_view_name": "HBoxView",
       "box_style": "",
       "children": [
        "IPY_MODEL_3b7e032a5ee34fd18699a1c0624df1ab",
        "IPY_MODEL_2b6a5d909d9643abafbf8e9319c87414",
        "IPY_MODEL_6fb9c177fbc04d38bac6463c2fec9c55"
       ],
       "layout": "IPY_MODEL_412b7fc2f4b64768ac97c31e02785725",
       "tabbable": null,
       "tooltip": null
      }
     },
     "6fb9c177fbc04d38bac6463c2fec9c55": {
      "model_module": "@jupyter-widgets/controls",
      "model_module_version": "2.0.0",
      "model_name": "HTMLModel",
      "state": {
       "_dom_classes": [],
       "_model_module": "@jupyter-widgets/controls",
       "_model_module_version": "2.0.0",
       "_model_name": "HTMLModel",
       "_view_count": null,
       "_view_module": "@jupyter-widgets/controls",
       "_view_module_version": "2.0.0",
       "_view_name": "HTMLView",
       "description": "",
       "description_allow_html": false,
       "layout": "IPY_MODEL_b61c494ad3a74d18aa448c6cc734418e",
       "placeholder": "​",
       "style": "IPY_MODEL_088490a7cbb54452bbed8d32120dd4ce",
       "tabbable": null,
       "tooltip": null,
       "value": " 4635922/4635922 [00:21&lt;00:00, 217431.83it/s]"
      }
     },
     "8b84eebefe8240c2baff7cdb231a6fe5": {
      "model_module": "@jupyter-widgets/base",
      "model_module_version": "2.0.0",
      "model_name": "LayoutModel",
      "state": {
       "_model_module": "@jupyter-widgets/base",
       "_model_module_version": "2.0.0",
       "_model_name": "LayoutModel",
       "_view_count": null,
       "_view_module": "@jupyter-widgets/base",
       "_view_module_version": "2.0.0",
       "_view_name": "LayoutView",
       "align_content": null,
       "align_items": null,
       "align_self": null,
       "border_bottom": null,
       "border_left": null,
       "border_right": null,
       "border_top": null,
       "bottom": null,
       "display": null,
       "flex": null,
       "flex_flow": null,
       "grid_area": null,
       "grid_auto_columns": null,
       "grid_auto_flow": null,
       "grid_auto_rows": null,
       "grid_column": null,
       "grid_gap": null,
       "grid_row": null,
       "grid_template_areas": null,
       "grid_template_columns": null,
       "grid_template_rows": null,
       "height": null,
       "justify_content": null,
       "justify_items": null,
       "left": null,
       "margin": null,
       "max_height": null,
       "max_width": null,
       "min_height": null,
       "min_width": null,
       "object_fit": null,
       "object_position": null,
       "order": null,
       "overflow": null,
       "padding": null,
       "right": null,
       "top": null,
       "visibility": null,
       "width": null
      }
     },
     "8f2b885f42454733b092383ab9ff99bf": {
      "model_module": "@jupyter-widgets/controls",
      "model_module_version": "2.0.0",
      "model_name": "HTMLStyleModel",
      "state": {
       "_model_module": "@jupyter-widgets/controls",
       "_model_module_version": "2.0.0",
       "_model_name": "HTMLStyleModel",
       "_view_count": null,
       "_view_module": "@jupyter-widgets/base",
       "_view_module_version": "2.0.0",
       "_view_name": "StyleView",
       "background": null,
       "description_width": "",
       "font_size": null,
       "text_color": null
      }
     },
     "b61c494ad3a74d18aa448c6cc734418e": {
      "model_module": "@jupyter-widgets/base",
      "model_module_version": "2.0.0",
      "model_name": "LayoutModel",
      "state": {
       "_model_module": "@jupyter-widgets/base",
       "_model_module_version": "2.0.0",
       "_model_name": "LayoutModel",
       "_view_count": null,
       "_view_module": "@jupyter-widgets/base",
       "_view_module_version": "2.0.0",
       "_view_name": "LayoutView",
       "align_content": null,
       "align_items": null,
       "align_self": null,
       "border_bottom": null,
       "border_left": null,
       "border_right": null,
       "border_top": null,
       "bottom": null,
       "display": null,
       "flex": null,
       "flex_flow": null,
       "grid_area": null,
       "grid_auto_columns": null,
       "grid_auto_flow": null,
       "grid_auto_rows": null,
       "grid_column": null,
       "grid_gap": null,
       "grid_row": null,
       "grid_template_areas": null,
       "grid_template_columns": null,
       "grid_template_rows": null,
       "height": null,
       "justify_content": null,
       "justify_items": null,
       "left": null,
       "margin": null,
       "max_height": null,
       "max_width": null,
       "min_height": null,
       "min_width": null,
       "object_fit": null,
       "object_position": null,
       "order": null,
       "overflow": null,
       "padding": null,
       "right": null,
       "top": null,
       "visibility": null,
       "width": null
      }
     },
     "cc42f6c39f4e4246aebf9a4417d29253": {
      "model_module": "@jupyter-widgets/base",
      "model_module_version": "2.0.0",
      "model_name": "LayoutModel",
      "state": {
       "_model_module": "@jupyter-widgets/base",
       "_model_module_version": "2.0.0",
       "_model_name": "LayoutModel",
       "_view_count": null,
       "_view_module": "@jupyter-widgets/base",
       "_view_module_version": "2.0.0",
       "_view_name": "LayoutView",
       "align_content": null,
       "align_items": null,
       "align_self": null,
       "border_bottom": null,
       "border_left": null,
       "border_right": null,
       "border_top": null,
       "bottom": null,
       "display": null,
       "flex": null,
       "flex_flow": null,
       "grid_area": null,
       "grid_auto_columns": null,
       "grid_auto_flow": null,
       "grid_auto_rows": null,
       "grid_column": null,
       "grid_gap": null,
       "grid_row": null,
       "grid_template_areas": null,
       "grid_template_columns": null,
       "grid_template_rows": null,
       "height": null,
       "justify_content": null,
       "justify_items": null,
       "left": null,
       "margin": null,
       "max_height": null,
       "max_width": null,
       "min_height": null,
       "min_width": null,
       "object_fit": null,
       "object_position": null,
       "order": null,
       "overflow": null,
       "padding": null,
       "right": null,
       "top": null,
       "visibility": null,
       "width": null
      }
     }
    },
    "version_major": 2,
    "version_minor": 0
   }
  }
 },
 "nbformat": 4,
 "nbformat_minor": 5
}