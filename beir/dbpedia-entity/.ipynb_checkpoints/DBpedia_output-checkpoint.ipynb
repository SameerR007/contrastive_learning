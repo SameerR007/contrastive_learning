{
 "cells": [
  {
   "cell_type": "code",
   "execution_count": 1,
   "id": "f6d4b65f-fa6b-4517-8694-8627bc49833b",
   "metadata": {
    "execution": {
     "iopub.execute_input": "2025-03-04T22:04:45.489350Z",
     "iopub.status.busy": "2025-03-04T22:04:45.489100Z",
     "iopub.status.idle": "2025-03-04T22:04:45.736879Z",
     "shell.execute_reply": "2025-03-04T22:04:45.736544Z"
    },
    "papermill": {
     "duration": 0.253336,
     "end_time": "2025-03-04T22:04:45.737509",
     "exception": false,
     "start_time": "2025-03-04T22:04:45.484173",
     "status": "completed"
    },
    "tags": []
   },
   "outputs": [
    {
     "name": "stderr",
     "output_type": "stream",
     "text": [
      "/dss/dsshome1/07/ra65bex2/srawat/myenv/lib/python3.12/site-packages/beir/datasets/data_loader.py:8: TqdmExperimentalWarning: Using `tqdm.autonotebook.tqdm` in notebook mode. Use `tqdm.tqdm` instead to force console mode (e.g. in jupyter console)\n",
      "  from tqdm.autonotebook import tqdm\n"
     ]
    }
   ],
   "source": [
    "from beir.datasets.data_loader import GenericDataLoader"
   ]
  },
  {
   "cell_type": "code",
   "execution_count": 2,
   "id": "a91d6914-e301-422c-b839-1fafeb1e8fa4",
   "metadata": {
    "execution": {
     "iopub.execute_input": "2025-03-04T22:04:45.742987Z",
     "iopub.status.busy": "2025-03-04T22:04:45.742855Z",
     "iopub.status.idle": "2025-03-04T22:04:45.745274Z",
     "shell.execute_reply": "2025-03-04T22:04:45.744840Z"
    },
    "papermill": {
     "duration": 0.005698,
     "end_time": "2025-03-04T22:04:45.745914",
     "exception": false,
     "start_time": "2025-03-04T22:04:45.740216",
     "status": "completed"
    },
    "tags": []
   },
   "outputs": [],
   "source": [
    "data_path = \"/dss/dsshome1/07/ra65bex2/srawat/dbpedia-entity/dbpedia-entity\""
   ]
  },
  {
   "cell_type": "code",
   "execution_count": 3,
   "id": "41e17333-2c34-4b7b-91f6-3cbd3972f0d6",
   "metadata": {
    "execution": {
     "iopub.execute_input": "2025-03-04T22:04:45.750506Z",
     "iopub.status.busy": "2025-03-04T22:04:45.750274Z",
     "iopub.status.idle": "2025-03-04T22:05:09.139753Z",
     "shell.execute_reply": "2025-03-04T22:05:09.139119Z"
    },
    "papermill": {
     "duration": 23.392497,
     "end_time": "2025-03-04T22:05:09.140490",
     "exception": false,
     "start_time": "2025-03-04T22:04:45.747993",
     "status": "completed"
    },
    "tags": []
   },
   "outputs": [
    {
     "data": {
      "application/vnd.jupyter.widget-view+json": {
       "model_id": "5092d113022540acb9c1944f7457c98b",
       "version_major": 2,
       "version_minor": 0
      },
      "text/plain": [
       "  0%|          | 0/4635922 [00:00<?, ?it/s]"
      ]
     },
     "metadata": {},
     "output_type": "display_data"
    }
   ],
   "source": [
    "corpus, queries, qrels = GenericDataLoader(data_path).load(split=\"test\")"
   ]
  },
  {
   "cell_type": "code",
   "execution_count": 4,
   "id": "a29044d5-3952-4f3d-aa43-e1efd34fcad3",
   "metadata": {
    "execution": {
     "iopub.execute_input": "2025-03-04T22:05:09.147860Z",
     "iopub.status.busy": "2025-03-04T22:05:09.147658Z",
     "iopub.status.idle": "2025-03-04T22:15:18.932722Z",
     "shell.execute_reply": "2025-03-04T22:15:18.931955Z"
    },
    "papermill": {
     "duration": 609.788843,
     "end_time": "2025-03-04T22:15:18.933784",
     "exception": false,
     "start_time": "2025-03-04T22:05:09.144941",
     "status": "completed"
    },
    "tags": []
   },
   "outputs": [],
   "source": [
    "contrastive_pairs=[]\n",
    "import random\n",
    "c=0\n",
    "for query_id, relevant_docs in qrels.items():\n",
    "    try:\n",
    "        query_text = queries[query_id]\n",
    "        for doc_id in relevant_docs:\n",
    "            positive = corpus[doc_id][\"text\"]\n",
    "        #print(relevant_docs)\n",
    "        positive_doc_ids = set(relevant_docs)\n",
    "        all_doc_ids = set(corpus.keys())\n",
    "        negative_doc_ids = all_doc_ids - positive_doc_ids\n",
    "        negative_doc_ids=list(negative_doc_ids)\n",
    "        negative_doc_samples = random.sample(negative_doc_ids, k=5)\n",
    "        negatives=[]\n",
    "        for neg_doc_id in negative_doc_samples:\n",
    "            negative_doc_text = corpus[neg_doc_id][\"text\"]\n",
    "            negatives.append(negative_doc_text)\n",
    "        contrastive_pairs.append({\n",
    "            \"anchor\": query_text,\n",
    "            \"positive\": positive,\n",
    "            \"negatives\": negatives\n",
    "        })\n",
    "    except:\n",
    "        c=c+1"
   ]
  },
  {
   "cell_type": "code",
   "execution_count": 5,
   "id": "49721946-fff3-4690-bd92-d981cecdf62b",
   "metadata": {
    "execution": {
     "iopub.execute_input": "2025-03-04T22:15:18.944739Z",
     "iopub.status.busy": "2025-03-04T22:15:18.944236Z",
     "iopub.status.idle": "2025-03-04T22:15:18.948562Z",
     "shell.execute_reply": "2025-03-04T22:15:18.948080Z"
    },
    "papermill": {
     "duration": 0.007985,
     "end_time": "2025-03-04T22:15:18.949202",
     "exception": false,
     "start_time": "2025-03-04T22:15:18.941217",
     "status": "completed"
    },
    "tags": []
   },
   "outputs": [
    {
     "data": {
      "text/plain": [
       "0"
      ]
     },
     "execution_count": 5,
     "metadata": {},
     "output_type": "execute_result"
    }
   ],
   "source": [
    "c"
   ]
  },
  {
   "cell_type": "code",
   "execution_count": 6,
   "id": "de8ef367-dcb4-4bb6-af3a-20f190930ed1",
   "metadata": {
    "execution": {
     "iopub.execute_input": "2025-03-04T22:15:18.955045Z",
     "iopub.status.busy": "2025-03-04T22:15:18.954482Z",
     "iopub.status.idle": "2025-03-04T22:15:18.968237Z",
     "shell.execute_reply": "2025-03-04T22:15:18.967858Z"
    },
    "papermill": {
     "duration": 0.017021,
     "end_time": "2025-03-04T22:15:18.968819",
     "exception": false,
     "start_time": "2025-03-04T22:15:18.951798",
     "status": "completed"
    },
    "tags": []
   },
   "outputs": [
    {
     "data": {
      "text/plain": [
       "400"
      ]
     },
     "execution_count": 6,
     "metadata": {},
     "output_type": "execute_result"
    }
   ],
   "source": [
    "len(contrastive_pairs)"
   ]
  },
  {
   "cell_type": "code",
   "execution_count": 7,
   "id": "8ade92f9-e3df-4d0a-b849-b1a721e18cf6",
   "metadata": {
    "execution": {
     "iopub.execute_input": "2025-03-04T22:15:18.974235Z",
     "iopub.status.busy": "2025-03-04T22:15:18.974108Z",
     "iopub.status.idle": "2025-03-04T22:15:18.986614Z",
     "shell.execute_reply": "2025-03-04T22:15:18.986326Z"
    },
    "papermill": {
     "duration": 0.016086,
     "end_time": "2025-03-04T22:15:18.987200",
     "exception": false,
     "start_time": "2025-03-04T22:15:18.971114",
     "status": "completed"
    },
    "tags": []
   },
   "outputs": [
    {
     "data": {
      "text/plain": [
       "400"
      ]
     },
     "execution_count": 7,
     "metadata": {},
     "output_type": "execute_result"
    }
   ],
   "source": [
    "len(qrels)"
   ]
  },
  {
   "cell_type": "code",
   "execution_count": 8,
   "id": "6b97f7b4-f007-41f6-bfbb-1b9b01665e9d",
   "metadata": {
    "execution": {
     "iopub.execute_input": "2025-03-04T22:15:18.993550Z",
     "iopub.status.busy": "2025-03-04T22:15:18.993391Z",
     "iopub.status.idle": "2025-03-04T22:15:30.312496Z",
     "shell.execute_reply": "2025-03-04T22:15:30.311959Z"
    },
    "papermill": {
     "duration": 11.322865,
     "end_time": "2025-03-04T22:15:30.313442",
     "exception": false,
     "start_time": "2025-03-04T22:15:18.990577",
     "status": "completed"
    },
    "tags": []
   },
   "outputs": [],
   "source": [
    "from torch.utils.data import DataLoader"
   ]
  },
  {
   "cell_type": "code",
   "execution_count": 9,
   "id": "a415b29a-a543-4679-8f78-44f715b3067d",
   "metadata": {
    "execution": {
     "iopub.execute_input": "2025-03-04T22:15:30.321494Z",
     "iopub.status.busy": "2025-03-04T22:15:30.321206Z",
     "iopub.status.idle": "2025-03-04T22:15:30.324756Z",
     "shell.execute_reply": "2025-03-04T22:15:30.324407Z"
    },
    "papermill": {
     "duration": 0.007156,
     "end_time": "2025-03-04T22:15:30.325381",
     "exception": false,
     "start_time": "2025-03-04T22:15:30.318225",
     "status": "completed"
    },
    "tags": []
   },
   "outputs": [],
   "source": [
    "class ContrastiveDataset:\n",
    "    def __init__(self, pairs):\n",
    "        self.pairs = pairs\n",
    "\n",
    "    def __len__(self):\n",
    "        return len(self.pairs)\n",
    "\n",
    "    def __getitem__(self, idx):\n",
    "        item = self.pairs[idx]\n",
    "        return item[\"anchor\"], item[\"positive\"], item[\"negatives\"]"
   ]
  },
  {
   "cell_type": "code",
   "execution_count": 10,
   "id": "a39efeab-fd20-411a-80c5-315f362e00d2",
   "metadata": {
    "execution": {
     "iopub.execute_input": "2025-03-04T22:15:30.331584Z",
     "iopub.status.busy": "2025-03-04T22:15:30.331103Z",
     "iopub.status.idle": "2025-03-04T22:15:30.340322Z",
     "shell.execute_reply": "2025-03-04T22:15:30.339990Z"
    },
    "papermill": {
     "duration": 0.012818,
     "end_time": "2025-03-04T22:15:30.340930",
     "exception": false,
     "start_time": "2025-03-04T22:15:30.328112",
     "status": "completed"
    },
    "tags": []
   },
   "outputs": [],
   "source": [
    "contrastive_dataset = ContrastiveDataset(contrastive_pairs)"
   ]
  },
  {
   "cell_type": "code",
   "execution_count": 11,
   "id": "d103bbfa-895a-4020-a7e5-21de659f27dc",
   "metadata": {
    "execution": {
     "iopub.execute_input": "2025-03-04T22:15:30.346307Z",
     "iopub.status.busy": "2025-03-04T22:15:30.346080Z",
     "iopub.status.idle": "2025-03-04T22:15:30.357090Z",
     "shell.execute_reply": "2025-03-04T22:15:30.356795Z"
    },
    "papermill": {
     "duration": 0.014343,
     "end_time": "2025-03-04T22:15:30.357705",
     "exception": false,
     "start_time": "2025-03-04T22:15:30.343362",
     "status": "completed"
    },
    "tags": []
   },
   "outputs": [],
   "source": [
    "data_loader = DataLoader(contrastive_dataset, batch_size=32, shuffle=True)"
   ]
  },
  {
   "cell_type": "code",
   "execution_count": 12,
   "id": "c8b0277f-f526-4087-82da-c4cdd65d32da",
   "metadata": {
    "execution": {
     "iopub.execute_input": "2025-03-04T22:15:30.363212Z",
     "iopub.status.busy": "2025-03-04T22:15:30.362935Z",
     "iopub.status.idle": "2025-03-04T22:15:30.372613Z",
     "shell.execute_reply": "2025-03-04T22:15:30.372332Z"
    },
    "papermill": {
     "duration": 0.012991,
     "end_time": "2025-03-04T22:15:30.373190",
     "exception": false,
     "start_time": "2025-03-04T22:15:30.360199",
     "status": "completed"
    },
    "tags": []
   },
   "outputs": [
    {
     "data": {
      "text/plain": [
       "13"
      ]
     },
     "execution_count": 12,
     "metadata": {},
     "output_type": "execute_result"
    }
   ],
   "source": [
    "len(data_loader)"
   ]
  },
  {
   "cell_type": "code",
   "execution_count": 13,
   "id": "e15526a4-b3fe-435b-91c9-ad4064562f0f",
   "metadata": {
    "execution": {
     "iopub.execute_input": "2025-03-04T22:15:30.379245Z",
     "iopub.status.busy": "2025-03-04T22:15:30.378774Z",
     "iopub.status.idle": "2025-03-04T22:16:03.647374Z",
     "shell.execute_reply": "2025-03-04T22:16:03.646549Z"
    },
    "papermill": {
     "duration": 33.272604,
     "end_time": "2025-03-04T22:16:03.648372",
     "exception": false,
     "start_time": "2025-03-04T22:15:30.375768",
     "status": "completed"
    },
    "tags": []
   },
   "outputs": [
    {
     "name": "stderr",
     "output_type": "stream",
     "text": [
      "/tmp/ipykernel_724733/3105893467.py:3: FutureWarning: You are using `torch.load` with `weights_only=False` (the current default value), which uses the default pickle module implicitly. It is possible to construct malicious pickle data which will execute arbitrary code during unpickling (See https://github.com/pytorch/pytorch/blob/main/SECURITY.md#untrusted-models for more details). In a future release, the default value for `weights_only` will be flipped to `True`. This limits the functions that could be executed during unpickling. Arbitrary objects will no longer be allowed to be loaded via this mode unless they are explicitly allowlisted by the user via `torch.serialization.add_safe_globals`. We recommend you start setting `weights_only=True` for any use case where you don't have full control of the loaded file. Please open an issue on GitHub for any issues related to this experimental feature.\n",
      "  lora_model = torch.load(file_path)\n"
     ]
    }
   ],
   "source": [
    "import torch\n",
    "file_path=\"/dss/dsshome1/07/ra65bex2/srawat/contrastive_learning/v1.1/app_baseline/checkpoint_epoch_3.pth\"\n",
    "lora_model = torch.load(file_path)"
   ]
  },
  {
   "cell_type": "code",
   "execution_count": 14,
   "id": "9999e628-5966-4dda-b5c5-c0d762fce27d",
   "metadata": {
    "execution": {
     "iopub.execute_input": "2025-03-04T22:16:03.660284Z",
     "iopub.status.busy": "2025-03-04T22:16:03.659619Z",
     "iopub.status.idle": "2025-03-04T22:16:03.666092Z",
     "shell.execute_reply": "2025-03-04T22:16:03.665771Z"
    },
    "papermill": {
     "duration": 0.010597,
     "end_time": "2025-03-04T22:16:03.666705",
     "exception": false,
     "start_time": "2025-03-04T22:16:03.656108",
     "status": "completed"
    },
    "tags": []
   },
   "outputs": [],
   "source": [
    "device = torch.device('cuda' if torch.cuda.is_available() else 'cpu')\n",
    "lora_model = lora_model.to(device)"
   ]
  },
  {
   "cell_type": "code",
   "execution_count": 15,
   "id": "7e6a3a61-8db0-43db-b575-6399f8515950",
   "metadata": {
    "execution": {
     "iopub.execute_input": "2025-03-04T22:16:03.672761Z",
     "iopub.status.busy": "2025-03-04T22:16:03.672577Z",
     "iopub.status.idle": "2025-03-04T22:16:03.962135Z",
     "shell.execute_reply": "2025-03-04T22:16:03.961709Z"
    },
    "papermill": {
     "duration": 0.293566,
     "end_time": "2025-03-04T22:16:03.963115",
     "exception": false,
     "start_time": "2025-03-04T22:16:03.669549",
     "status": "completed"
    },
    "tags": []
   },
   "outputs": [],
   "source": [
    "from transformers import AutoTokenizer, AutoModel\n",
    "tokenizer = AutoTokenizer.from_pretrained(\"bert-base-uncased\")"
   ]
  },
  {
   "cell_type": "code",
   "execution_count": 16,
   "id": "68ac4919-76f1-4349-a314-4b1061126655",
   "metadata": {
    "execution": {
     "iopub.execute_input": "2025-03-04T22:16:03.969693Z",
     "iopub.status.busy": "2025-03-04T22:16:03.969552Z",
     "iopub.status.idle": "2025-03-04T22:16:03.971952Z",
     "shell.execute_reply": "2025-03-04T22:16:03.971590Z"
    },
    "papermill": {
     "duration": 0.006221,
     "end_time": "2025-03-04T22:16:03.972555",
     "exception": false,
     "start_time": "2025-03-04T22:16:03.966334",
     "status": "completed"
    },
    "tags": []
   },
   "outputs": [],
   "source": [
    "def cosine_distance(x, y):\n",
    "    return 1 - torch.nn.functional.cosine_similarity(x, y, dim=-1)"
   ]
  },
  {
   "cell_type": "code",
   "execution_count": 17,
   "id": "990f63bd-4d48-4f58-a001-3b3250f65312",
   "metadata": {
    "execution": {
     "iopub.execute_input": "2025-03-04T22:16:03.979038Z",
     "iopub.status.busy": "2025-03-04T22:16:03.978614Z",
     "iopub.status.idle": "2025-03-04T22:16:04.071947Z",
     "shell.execute_reply": "2025-03-04T22:16:04.071534Z"
    },
    "papermill": {
     "duration": 0.097181,
     "end_time": "2025-03-04T22:16:04.072545",
     "exception": false,
     "start_time": "2025-03-04T22:16:03.975364",
     "status": "completed"
    },
    "tags": []
   },
   "outputs": [],
   "source": [
    "def evaluate_mrr(model, data_loader_val, distance_fn):\n",
    "    model.eval()\n",
    "\n",
    "    total_rr = 0.0\n",
    "    num_queries = 0\n",
    "\n",
    "    with torch.no_grad():\n",
    "        for batch in data_loader_val:\n",
    "            anchor_text = batch[0]\n",
    "            positive_text = batch[1]\n",
    "            negative_texts = batch[2]\n",
    "\n",
    "            anchor_input = tokenizer(anchor_text, return_tensors='pt', padding=True, truncation=True, max_length=512).to(device)\n",
    "            positive_input = tokenizer(positive_text, return_tensors='pt', padding=True, truncation=True, max_length=512).to(device)\n",
    "\n",
    "            anchor_embedding = model(**anchor_input).last_hidden_state[:, 0, :]\n",
    "            positive_embedding = model(**positive_input).last_hidden_state[:, 0, :]\n",
    "            negative_embedding = [model(**tokenizer(neg, return_tensors='pt', padding=True, truncation=True, max_length=512).to(device)).last_hidden_state[:, 0, :] for neg in negative_texts]\n",
    "\n",
    "            pos_dist = distance_fn(anchor_embedding, positive_embedding)\n",
    "            neg_dist = torch.stack([distance_fn(anchor_embedding, neg) for neg in negative_embedding], dim=-1)\n",
    "            all_similarities=torch.cat([-pos_dist.unsqueeze(1), -neg_dist], dim=1)\n",
    "\n",
    "            sorted_similarities, sorted_indices = torch.sort(all_similarities, dim=1, descending=True)\n",
    "\n",
    "            # Find the rank of the first relevant (positive) document\n",
    "            positive_rank = (sorted_indices == 0).nonzero(as_tuple=True)[1] + 1  # +1 to make rank 1-based\n",
    "            total_rr += torch.sum(1.0 / positive_rank.float()).item()  # Reciprocal rank\n",
    "            num_queries += len(positive_rank)\n",
    "\n",
    "    mrr = total_rr / num_queries\n",
    "    return mrr"
   ]
  },
  {
   "cell_type": "code",
   "execution_count": 18,
   "id": "534a9ec5-4211-4cb6-81f1-fb8a30caff92",
   "metadata": {
    "execution": {
     "iopub.execute_input": "2025-03-04T22:16:04.078613Z",
     "iopub.status.busy": "2025-03-04T22:16:04.078482Z",
     "iopub.status.idle": "2025-03-04T22:16:10.794809Z",
     "shell.execute_reply": "2025-03-04T22:16:10.794303Z"
    },
    "papermill": {
     "duration": 6.720075,
     "end_time": "2025-03-04T22:16:10.795473",
     "exception": false,
     "start_time": "2025-03-04T22:16:04.075398",
     "status": "completed"
    },
    "tags": []
   },
   "outputs": [
    {
     "name": "stdout",
     "output_type": "stream",
     "text": [
      "0.5767499995231629\n"
     ]
    }
   ],
   "source": [
    "mrr_validation = evaluate_mrr(lora_model, data_loader, cosine_distance)\n",
    "print(mrr_validation)"
   ]
  },
  {
   "cell_type": "code",
   "execution_count": null,
   "id": "f61bbd65-41c9-4ac7-80ef-ba4a4fb02d45",
   "metadata": {
    "papermill": {
     "duration": 0.002816,
     "end_time": "2025-03-04T22:16:10.803472",
     "exception": false,
     "start_time": "2025-03-04T22:16:10.800656",
     "status": "completed"
    },
    "tags": []
   },
   "outputs": [],
   "source": []
  }
 ],
 "metadata": {
  "kernelspec": {
   "display_name": "Python (myenv)",
   "language": "python",
   "name": "myenv"
  },
  "language_info": {
   "codemirror_mode": {
    "name": "ipython",
    "version": 3
   },
   "file_extension": ".py",
   "mimetype": "text/x-python",
   "name": "python",
   "nbconvert_exporter": "python",
   "pygments_lexer": "ipython3",
   "version": "3.12.7"
  },
  "papermill": {
   "default_parameters": {},
   "duration": 694.817412,
   "end_time": "2025-03-04T22:16:14.426046",
   "environment_variables": {},
   "exception": null,
   "input_path": "DBpedia.ipynb",
   "output_path": "DBpedia_output.ipynb",
   "parameters": {},
   "start_time": "2025-03-04T22:04:39.608634",
   "version": "2.6.0"
  },
  "widgets": {
   "application/vnd.jupyter.widget-state+json": {
    "state": {
     "1b7ad8e640d3450e901a5eee83674eaf": {
      "model_module": "@jupyter-widgets/controls",
      "model_module_version": "2.0.0",
      "model_name": "HTMLModel",
      "state": {
       "_dom_classes": [],
       "_model_module": "@jupyter-widgets/controls",
       "_model_module_version": "2.0.0",
       "_model_name": "HTMLModel",
       "_view_count": null,
       "_view_module": "@jupyter-widgets/controls",
       "_view_module_version": "2.0.0",
       "_view_name": "HTMLView",
       "description": "",
       "description_allow_html": false,
       "layout": "IPY_MODEL_b9d9650d4e8f4088b12fc71e49ae3eab",
       "placeholder": "​",
       "style": "IPY_MODEL_b5b5f3b4c8454da387f90c7baa0c27d1",
       "tabbable": null,
       "tooltip": null,
       "value": " 4635922/4635922 [00:21&lt;00:00, 216760.14it/s]"
      }
     },
     "1bdef0dfe4d7451a85569b59d9b9981d": {
      "model_module": "@jupyter-widgets/controls",
      "model_module_version": "2.0.0",
      "model_name": "HTMLModel",
      "state": {
       "_dom_classes": [],
       "_model_module": "@jupyter-widgets/controls",
       "_model_module_version": "2.0.0",
       "_model_name": "HTMLModel",
       "_view_count": null,
       "_view_module": "@jupyter-widgets/controls",
       "_view_module_version": "2.0.0",
       "_view_name": "HTMLView",
       "description": "",
       "description_allow_html": false,
       "layout": "IPY_MODEL_cedc8244b87d48e780031432cb6eb597",
       "placeholder": "​",
       "style": "IPY_MODEL_9b5fbdcea34f4ec393c5eb07e5f04782",
       "tabbable": null,
       "tooltip": null,
       "value": "100%"
      }
     },
     "5092d113022540acb9c1944f7457c98b": {
      "model_module": "@jupyter-widgets/controls",
      "model_module_version": "2.0.0",
      "model_name": "HBoxModel",
      "state": {
       "_dom_classes": [],
       "_model_module": "@jupyter-widgets/controls",
       "_model_module_version": "2.0.0",
       "_model_name": "HBoxModel",
       "_view_count": null,
       "_view_module": "@jupyter-widgets/controls",
       "_view_module_version": "2.0.0",
       "_view_name": "HBoxView",
       "box_style": "",
       "children": [
        "IPY_MODEL_1bdef0dfe4d7451a85569b59d9b9981d",
        "IPY_MODEL_6d166056ec2e411a97127b36cc24d6f5",
        "IPY_MODEL_1b7ad8e640d3450e901a5eee83674eaf"
       ],
       "layout": "IPY_MODEL_d3f7753468554fe7800f0193154ec135",
       "tabbable": null,
       "tooltip": null
      }
     },
     "6d166056ec2e411a97127b36cc24d6f5": {
      "model_module": "@jupyter-widgets/controls",
      "model_module_version": "2.0.0",
      "model_name": "FloatProgressModel",
      "state": {
       "_dom_classes": [],
       "_model_module": "@jupyter-widgets/controls",
       "_model_module_version": "2.0.0",
       "_model_name": "FloatProgressModel",
       "_view_count": null,
       "_view_module": "@jupyter-widgets/controls",
       "_view_module_version": "2.0.0",
       "_view_name": "ProgressView",
       "bar_style": "success",
       "description": "",
       "description_allow_html": false,
       "layout": "IPY_MODEL_b7aa415bf233416ea436a8e4734fb30c",
       "max": 4635922.0,
       "min": 0.0,
       "orientation": "horizontal",
       "style": "IPY_MODEL_a8ad786d50fe4dc7976927dfe47b56a8",
       "tabbable": null,
       "tooltip": null,
       "value": 4635922.0
      }
     },
     "9b5fbdcea34f4ec393c5eb07e5f04782": {
      "model_module": "@jupyter-widgets/controls",
      "model_module_version": "2.0.0",
      "model_name": "HTMLStyleModel",
      "state": {
       "_model_module": "@jupyter-widgets/controls",
       "_model_module_version": "2.0.0",
       "_model_name": "HTMLStyleModel",
       "_view_count": null,
       "_view_module": "@jupyter-widgets/base",
       "_view_module_version": "2.0.0",
       "_view_name": "StyleView",
       "background": null,
       "description_width": "",
       "font_size": null,
       "text_color": null
      }
     },
     "a8ad786d50fe4dc7976927dfe47b56a8": {
      "model_module": "@jupyter-widgets/controls",
      "model_module_version": "2.0.0",
      "model_name": "ProgressStyleModel",
      "state": {
       "_model_module": "@jupyter-widgets/controls",
       "_model_module_version": "2.0.0",
       "_model_name": "ProgressStyleModel",
       "_view_count": null,
       "_view_module": "@jupyter-widgets/base",
       "_view_module_version": "2.0.0",
       "_view_name": "StyleView",
       "bar_color": null,
       "description_width": ""
      }
     },
     "b5b5f3b4c8454da387f90c7baa0c27d1": {
      "model_module": "@jupyter-widgets/controls",
      "model_module_version": "2.0.0",
      "model_name": "HTMLStyleModel",
      "state": {
       "_model_module": "@jupyter-widgets/controls",
       "_model_module_version": "2.0.0",
       "_model_name": "HTMLStyleModel",
       "_view_count": null,
       "_view_module": "@jupyter-widgets/base",
       "_view_module_version": "2.0.0",
       "_view_name": "StyleView",
       "background": null,
       "description_width": "",
       "font_size": null,
       "text_color": null
      }
     },
     "b7aa415bf233416ea436a8e4734fb30c": {
      "model_module": "@jupyter-widgets/base",
      "model_module_version": "2.0.0",
      "model_name": "LayoutModel",
      "state": {
       "_model_module": "@jupyter-widgets/base",
       "_model_module_version": "2.0.0",
       "_model_name": "LayoutModel",
       "_view_count": null,
       "_view_module": "@jupyter-widgets/base",
       "_view_module_version": "2.0.0",
       "_view_name": "LayoutView",
       "align_content": null,
       "align_items": null,
       "align_self": null,
       "border_bottom": null,
       "border_left": null,
       "border_right": null,
       "border_top": null,
       "bottom": null,
       "display": null,
       "flex": null,
       "flex_flow": null,
       "grid_area": null,
       "grid_auto_columns": null,
       "grid_auto_flow": null,
       "grid_auto_rows": null,
       "grid_column": null,
       "grid_gap": null,
       "grid_row": null,
       "grid_template_areas": null,
       "grid_template_columns": null,
       "grid_template_rows": null,
       "height": null,
       "justify_content": null,
       "justify_items": null,
       "left": null,
       "margin": null,
       "max_height": null,
       "max_width": null,
       "min_height": null,
       "min_width": null,
       "object_fit": null,
       "object_position": null,
       "order": null,
       "overflow": null,
       "padding": null,
       "right": null,
       "top": null,
       "visibility": null,
       "width": null
      }
     },
     "b9d9650d4e8f4088b12fc71e49ae3eab": {
      "model_module": "@jupyter-widgets/base",
      "model_module_version": "2.0.0",
      "model_name": "LayoutModel",
      "state": {
       "_model_module": "@jupyter-widgets/base",
       "_model_module_version": "2.0.0",
       "_model_name": "LayoutModel",
       "_view_count": null,
       "_view_module": "@jupyter-widgets/base",
       "_view_module_version": "2.0.0",
       "_view_name": "LayoutView",
       "align_content": null,
       "align_items": null,
       "align_self": null,
       "border_bottom": null,
       "border_left": null,
       "border_right": null,
       "border_top": null,
       "bottom": null,
       "display": null,
       "flex": null,
       "flex_flow": null,
       "grid_area": null,
       "grid_auto_columns": null,
       "grid_auto_flow": null,
       "grid_auto_rows": null,
       "grid_column": null,
       "grid_gap": null,
       "grid_row": null,
       "grid_template_areas": null,
       "grid_template_columns": null,
       "grid_template_rows": null,
       "height": null,
       "justify_content": null,
       "justify_items": null,
       "left": null,
       "margin": null,
       "max_height": null,
       "max_width": null,
       "min_height": null,
       "min_width": null,
       "object_fit": null,
       "object_position": null,
       "order": null,
       "overflow": null,
       "padding": null,
       "right": null,
       "top": null,
       "visibility": null,
       "width": null
      }
     },
     "cedc8244b87d48e780031432cb6eb597": {
      "model_module": "@jupyter-widgets/base",
      "model_module_version": "2.0.0",
      "model_name": "LayoutModel",
      "state": {
       "_model_module": "@jupyter-widgets/base",
       "_model_module_version": "2.0.0",
       "_model_name": "LayoutModel",
       "_view_count": null,
       "_view_module": "@jupyter-widgets/base",
       "_view_module_version": "2.0.0",
       "_view_name": "LayoutView",
       "align_content": null,
       "align_items": null,
       "align_self": null,
       "border_bottom": null,
       "border_left": null,
       "border_right": null,
       "border_top": null,
       "bottom": null,
       "display": null,
       "flex": null,
       "flex_flow": null,
       "grid_area": null,
       "grid_auto_columns": null,
       "grid_auto_flow": null,
       "grid_auto_rows": null,
       "grid_column": null,
       "grid_gap": null,
       "grid_row": null,
       "grid_template_areas": null,
       "grid_template_columns": null,
       "grid_template_rows": null,
       "height": null,
       "justify_content": null,
       "justify_items": null,
       "left": null,
       "margin": null,
       "max_height": null,
       "max_width": null,
       "min_height": null,
       "min_width": null,
       "object_fit": null,
       "object_position": null,
       "order": null,
       "overflow": null,
       "padding": null,
       "right": null,
       "top": null,
       "visibility": null,
       "width": null
      }
     },
     "d3f7753468554fe7800f0193154ec135": {
      "model_module": "@jupyter-widgets/base",
      "model_module_version": "2.0.0",
      "model_name": "LayoutModel",
      "state": {
       "_model_module": "@jupyter-widgets/base",
       "_model_module_version": "2.0.0",
       "_model_name": "LayoutModel",
       "_view_count": null,
       "_view_module": "@jupyter-widgets/base",
       "_view_module_version": "2.0.0",
       "_view_name": "LayoutView",
       "align_content": null,
       "align_items": null,
       "align_self": null,
       "border_bottom": null,
       "border_left": null,
       "border_right": null,
       "border_top": null,
       "bottom": null,
       "display": null,
       "flex": null,
       "flex_flow": null,
       "grid_area": null,
       "grid_auto_columns": null,
       "grid_auto_flow": null,
       "grid_auto_rows": null,
       "grid_column": null,
       "grid_gap": null,
       "grid_row": null,
       "grid_template_areas": null,
       "grid_template_columns": null,
       "grid_template_rows": null,
       "height": null,
       "justify_content": null,
       "justify_items": null,
       "left": null,
       "margin": null,
       "max_height": null,
       "max_width": null,
       "min_height": null,
       "min_width": null,
       "object_fit": null,
       "object_position": null,
       "order": null,
       "overflow": null,
       "padding": null,
       "right": null,
       "top": null,
       "visibility": null,
       "width": null
      }
     }
    },
    "version_major": 2,
    "version_minor": 0
   }
  }
 },
 "nbformat": 4,
 "nbformat_minor": 5
}