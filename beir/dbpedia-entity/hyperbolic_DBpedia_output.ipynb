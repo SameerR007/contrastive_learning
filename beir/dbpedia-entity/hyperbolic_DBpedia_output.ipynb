{
 "cells": [
  {
   "cell_type": "code",
   "execution_count": 1,
   "id": "f6d4b65f-fa6b-4517-8694-8627bc49833b",
   "metadata": {
    "execution": {
     "iopub.execute_input": "2025-03-04T22:04:45.510958Z",
     "iopub.status.busy": "2025-03-04T22:04:45.510659Z",
     "iopub.status.idle": "2025-03-04T22:04:45.737054Z",
     "shell.execute_reply": "2025-03-04T22:04:45.736655Z"
    },
    "papermill": {
     "duration": 0.230153,
     "end_time": "2025-03-04T22:04:45.737661",
     "exception": false,
     "start_time": "2025-03-04T22:04:45.507508",
     "status": "completed"
    },
    "tags": []
   },
   "outputs": [
    {
     "name": "stderr",
     "output_type": "stream",
     "text": [
      "/dss/dsshome1/07/ra65bex2/srawat/myenv/lib/python3.12/site-packages/beir/datasets/data_loader.py:8: TqdmExperimentalWarning: Using `tqdm.autonotebook.tqdm` in notebook mode. Use `tqdm.tqdm` instead to force console mode (e.g. in jupyter console)\n",
      "  from tqdm.autonotebook import tqdm\n"
     ]
    }
   ],
   "source": [
    "from beir.datasets.data_loader import GenericDataLoader"
   ]
  },
  {
   "cell_type": "code",
   "execution_count": 2,
   "id": "a91d6914-e301-422c-b839-1fafeb1e8fa4",
   "metadata": {
    "execution": {
     "iopub.execute_input": "2025-03-04T22:04:45.743151Z",
     "iopub.status.busy": "2025-03-04T22:04:45.743015Z",
     "iopub.status.idle": "2025-03-04T22:04:45.745298Z",
     "shell.execute_reply": "2025-03-04T22:04:45.744955Z"
    },
    "papermill": {
     "duration": 0.005776,
     "end_time": "2025-03-04T22:04:45.745903",
     "exception": false,
     "start_time": "2025-03-04T22:04:45.740127",
     "status": "completed"
    },
    "tags": []
   },
   "outputs": [],
   "source": [
    "data_path = \"/dss/dsshome1/07/ra65bex2/srawat/dbpedia-entity/dbpedia-entity\""
   ]
  },
  {
   "cell_type": "code",
   "execution_count": 3,
   "id": "41e17333-2c34-4b7b-91f6-3cbd3972f0d6",
   "metadata": {
    "execution": {
     "iopub.execute_input": "2025-03-04T22:04:45.751122Z",
     "iopub.status.busy": "2025-03-04T22:04:45.750707Z",
     "iopub.status.idle": "2025-03-04T22:05:09.548216Z",
     "shell.execute_reply": "2025-03-04T22:05:09.547597Z"
    },
    "papermill": {
     "duration": 23.800861,
     "end_time": "2025-03-04T22:05:09.548906",
     "exception": false,
     "start_time": "2025-03-04T22:04:45.748045",
     "status": "completed"
    },
    "tags": []
   },
   "outputs": [
    {
     "data": {
      "application/vnd.jupyter.widget-view+json": {
       "model_id": "a65fd0d364e34347948c5fa3bf9c3558",
       "version_major": 2,
       "version_minor": 0
      },
      "text/plain": [
       "  0%|          | 0/4635922 [00:00<?, ?it/s]"
      ]
     },
     "metadata": {},
     "output_type": "display_data"
    }
   ],
   "source": [
    "corpus, queries, qrels = GenericDataLoader(data_path).load(split=\"test\")"
   ]
  },
  {
   "cell_type": "code",
   "execution_count": 4,
   "id": "a29044d5-3952-4f3d-aa43-e1efd34fcad3",
   "metadata": {
    "execution": {
     "iopub.execute_input": "2025-03-04T22:05:09.556774Z",
     "iopub.status.busy": "2025-03-04T22:05:09.556551Z",
     "iopub.status.idle": "2025-03-04T22:15:16.323137Z",
     "shell.execute_reply": "2025-03-04T22:15:16.322361Z"
    },
    "papermill": {
     "duration": 606.770653,
     "end_time": "2025-03-04T22:15:16.324270",
     "exception": false,
     "start_time": "2025-03-04T22:05:09.553617",
     "status": "completed"
    },
    "tags": []
   },
   "outputs": [],
   "source": [
    "contrastive_pairs=[]\n",
    "import random\n",
    "c=0\n",
    "for query_id, relevant_docs in qrels.items():\n",
    "    try:\n",
    "        query_text = queries[query_id]\n",
    "        for doc_id in relevant_docs:\n",
    "            positive = corpus[doc_id][\"text\"]\n",
    "        #print(relevant_docs)\n",
    "        positive_doc_ids = set(relevant_docs)\n",
    "        all_doc_ids = set(corpus.keys())\n",
    "        negative_doc_ids = all_doc_ids - positive_doc_ids\n",
    "        negative_doc_ids=list(negative_doc_ids)\n",
    "        negative_doc_samples = random.sample(negative_doc_ids, k=5)\n",
    "        negatives=[]\n",
    "        for neg_doc_id in negative_doc_samples:\n",
    "            negative_doc_text = corpus[neg_doc_id][\"text\"]\n",
    "            negatives.append(negative_doc_text)\n",
    "        contrastive_pairs.append({\n",
    "            \"anchor\": query_text,\n",
    "            \"positive\": positive,\n",
    "            \"negatives\": negatives\n",
    "        })\n",
    "    except:\n",
    "        c=c+1"
   ]
  },
  {
   "cell_type": "code",
   "execution_count": 5,
   "id": "49721946-fff3-4690-bd92-d981cecdf62b",
   "metadata": {
    "execution": {
     "iopub.execute_input": "2025-03-04T22:15:16.334435Z",
     "iopub.status.busy": "2025-03-04T22:15:16.334121Z",
     "iopub.status.idle": "2025-03-04T22:15:16.338076Z",
     "shell.execute_reply": "2025-03-04T22:15:16.337725Z"
    },
    "papermill": {
     "duration": 0.007666,
     "end_time": "2025-03-04T22:15:16.338725",
     "exception": false,
     "start_time": "2025-03-04T22:15:16.331059",
     "status": "completed"
    },
    "tags": []
   },
   "outputs": [
    {
     "data": {
      "text/plain": [
       "0"
      ]
     },
     "execution_count": 5,
     "metadata": {},
     "output_type": "execute_result"
    }
   ],
   "source": [
    "c"
   ]
  },
  {
   "cell_type": "code",
   "execution_count": 6,
   "id": "de8ef367-dcb4-4bb6-af3a-20f190930ed1",
   "metadata": {
    "execution": {
     "iopub.execute_input": "2025-03-04T22:15:16.344168Z",
     "iopub.status.busy": "2025-03-04T22:15:16.343850Z",
     "iopub.status.idle": "2025-03-04T22:15:16.356992Z",
     "shell.execute_reply": "2025-03-04T22:15:16.356648Z"
    },
    "papermill": {
     "duration": 0.016409,
     "end_time": "2025-03-04T22:15:16.357552",
     "exception": false,
     "start_time": "2025-03-04T22:15:16.341143",
     "status": "completed"
    },
    "tags": []
   },
   "outputs": [
    {
     "data": {
      "text/plain": [
       "400"
      ]
     },
     "execution_count": 6,
     "metadata": {},
     "output_type": "execute_result"
    }
   ],
   "source": [
    "len(contrastive_pairs)"
   ]
  },
  {
   "cell_type": "code",
   "execution_count": 7,
   "id": "8ade92f9-e3df-4d0a-b849-b1a721e18cf6",
   "metadata": {
    "execution": {
     "iopub.execute_input": "2025-03-04T22:15:16.363561Z",
     "iopub.status.busy": "2025-03-04T22:15:16.363434Z",
     "iopub.status.idle": "2025-03-04T22:15:16.373583Z",
     "shell.execute_reply": "2025-03-04T22:15:16.373232Z"
    },
    "papermill": {
     "duration": 0.014141,
     "end_time": "2025-03-04T22:15:16.374162",
     "exception": false,
     "start_time": "2025-03-04T22:15:16.360021",
     "status": "completed"
    },
    "tags": []
   },
   "outputs": [
    {
     "data": {
      "text/plain": [
       "400"
      ]
     },
     "execution_count": 7,
     "metadata": {},
     "output_type": "execute_result"
    }
   ],
   "source": [
    "len(qrels)"
   ]
  },
  {
   "cell_type": "code",
   "execution_count": 8,
   "id": "6b97f7b4-f007-41f6-bfbb-1b9b01665e9d",
   "metadata": {
    "execution": {
     "iopub.execute_input": "2025-03-04T22:15:16.380303Z",
     "iopub.status.busy": "2025-03-04T22:15:16.379806Z",
     "iopub.status.idle": "2025-03-04T22:15:30.047563Z",
     "shell.execute_reply": "2025-03-04T22:15:30.047093Z"
    },
    "papermill": {
     "duration": 13.671737,
     "end_time": "2025-03-04T22:15:30.048455",
     "exception": false,
     "start_time": "2025-03-04T22:15:16.376718",
     "status": "completed"
    },
    "tags": []
   },
   "outputs": [],
   "source": [
    "from torch.utils.data import DataLoader"
   ]
  },
  {
   "cell_type": "code",
   "execution_count": 9,
   "id": "a415b29a-a543-4679-8f78-44f715b3067d",
   "metadata": {
    "execution": {
     "iopub.execute_input": "2025-03-04T22:15:30.056700Z",
     "iopub.status.busy": "2025-03-04T22:15:30.056338Z",
     "iopub.status.idle": "2025-03-04T22:15:30.059290Z",
     "shell.execute_reply": "2025-03-04T22:15:30.058933Z"
    },
    "papermill": {
     "duration": 0.006722,
     "end_time": "2025-03-04T22:15:30.059929",
     "exception": false,
     "start_time": "2025-03-04T22:15:30.053207",
     "status": "completed"
    },
    "tags": []
   },
   "outputs": [],
   "source": [
    "class ContrastiveDataset:\n",
    "    def __init__(self, pairs):\n",
    "        self.pairs = pairs\n",
    "\n",
    "    def __len__(self):\n",
    "        return len(self.pairs)\n",
    "\n",
    "    def __getitem__(self, idx):\n",
    "        item = self.pairs[idx]\n",
    "        return item[\"anchor\"], item[\"positive\"], item[\"negatives\"]"
   ]
  },
  {
   "cell_type": "code",
   "execution_count": 10,
   "id": "a39efeab-fd20-411a-80c5-315f362e00d2",
   "metadata": {
    "execution": {
     "iopub.execute_input": "2025-03-04T22:15:30.065510Z",
     "iopub.status.busy": "2025-03-04T22:15:30.065376Z",
     "iopub.status.idle": "2025-03-04T22:15:30.078306Z",
     "shell.execute_reply": "2025-03-04T22:15:30.077935Z"
    },
    "papermill": {
     "duration": 0.016354,
     "end_time": "2025-03-04T22:15:30.078870",
     "exception": false,
     "start_time": "2025-03-04T22:15:30.062516",
     "status": "completed"
    },
    "tags": []
   },
   "outputs": [],
   "source": [
    "contrastive_dataset = ContrastiveDataset(contrastive_pairs)"
   ]
  },
  {
   "cell_type": "code",
   "execution_count": 11,
   "id": "d103bbfa-895a-4020-a7e5-21de659f27dc",
   "metadata": {
    "execution": {
     "iopub.execute_input": "2025-03-04T22:15:30.084566Z",
     "iopub.status.busy": "2025-03-04T22:15:30.084429Z",
     "iopub.status.idle": "2025-03-04T22:15:30.093471Z",
     "shell.execute_reply": "2025-03-04T22:15:30.093117Z"
    },
    "papermill": {
     "duration": 0.012532,
     "end_time": "2025-03-04T22:15:30.094079",
     "exception": false,
     "start_time": "2025-03-04T22:15:30.081547",
     "status": "completed"
    },
    "tags": []
   },
   "outputs": [],
   "source": [
    "data_loader = DataLoader(contrastive_dataset, batch_size=32, shuffle=True)"
   ]
  },
  {
   "cell_type": "code",
   "execution_count": 12,
   "id": "c8b0277f-f526-4087-82da-c4cdd65d32da",
   "metadata": {
    "execution": {
     "iopub.execute_input": "2025-03-04T22:15:30.099775Z",
     "iopub.status.busy": "2025-03-04T22:15:30.099642Z",
     "iopub.status.idle": "2025-03-04T22:15:30.112458Z",
     "shell.execute_reply": "2025-03-04T22:15:30.112109Z"
    },
    "papermill": {
     "duration": 0.016321,
     "end_time": "2025-03-04T22:15:30.113025",
     "exception": false,
     "start_time": "2025-03-04T22:15:30.096704",
     "status": "completed"
    },
    "tags": []
   },
   "outputs": [
    {
     "data": {
      "text/plain": [
       "13"
      ]
     },
     "execution_count": 12,
     "metadata": {},
     "output_type": "execute_result"
    }
   ],
   "source": [
    "len(data_loader)"
   ]
  },
  {
   "cell_type": "code",
   "execution_count": 13,
   "id": "e15526a4-b3fe-435b-91c9-ad4064562f0f",
   "metadata": {
    "execution": {
     "iopub.execute_input": "2025-03-04T22:15:30.119327Z",
     "iopub.status.busy": "2025-03-04T22:15:30.118905Z",
     "iopub.status.idle": "2025-03-04T22:16:03.679167Z",
     "shell.execute_reply": "2025-03-04T22:16:03.678682Z"
    },
    "papermill": {
     "duration": 33.564433,
     "end_time": "2025-03-04T22:16:03.680162",
     "exception": false,
     "start_time": "2025-03-04T22:15:30.115729",
     "status": "completed"
    },
    "tags": []
   },
   "outputs": [
    {
     "name": "stderr",
     "output_type": "stream",
     "text": [
      "/tmp/ipykernel_724732/3548975511.py:3: FutureWarning: You are using `torch.load` with `weights_only=False` (the current default value), which uses the default pickle module implicitly. It is possible to construct malicious pickle data which will execute arbitrary code during unpickling (See https://github.com/pytorch/pytorch/blob/main/SECURITY.md#untrusted-models for more details). In a future release, the default value for `weights_only` will be flipped to `True`. This limits the functions that could be executed during unpickling. Arbitrary objects will no longer be allowed to be loaded via this mode unless they are explicitly allowlisted by the user via `torch.serialization.add_safe_globals`. We recommend you start setting `weights_only=True` for any use case where you don't have full control of the loaded file. Please open an issue on GitHub for any issues related to this experimental feature.\n",
      "  lora_model = torch.load(file_path)\n"
     ]
    }
   ],
   "source": [
    "import torch\n",
    "file_path=\"/dss/dsshome1/07/ra65bex2/srawat/contrastive_learning/v1.1/0.1hyperbolic/hyperbolic_lora_checkpoint_epoch_3.pth\"\n",
    "lora_model = torch.load(file_path)"
   ]
  },
  {
   "cell_type": "code",
   "execution_count": 14,
   "id": "9999e628-5966-4dda-b5c5-c0d762fce27d",
   "metadata": {
    "execution": {
     "iopub.execute_input": "2025-03-04T22:16:03.690952Z",
     "iopub.status.busy": "2025-03-04T22:16:03.690547Z",
     "iopub.status.idle": "2025-03-04T22:16:03.695590Z",
     "shell.execute_reply": "2025-03-04T22:16:03.695233Z"
    },
    "papermill": {
     "duration": 0.009078,
     "end_time": "2025-03-04T22:16:03.696235",
     "exception": false,
     "start_time": "2025-03-04T22:16:03.687157",
     "status": "completed"
    },
    "tags": []
   },
   "outputs": [],
   "source": [
    "device = torch.device('cuda' if torch.cuda.is_available() else 'cpu')\n",
    "lora_model = lora_model.to(device)"
   ]
  },
  {
   "cell_type": "code",
   "execution_count": 15,
   "id": "7e6a3a61-8db0-43db-b575-6399f8515950",
   "metadata": {
    "execution": {
     "iopub.execute_input": "2025-03-04T22:16:03.702671Z",
     "iopub.status.busy": "2025-03-04T22:16:03.702397Z",
     "iopub.status.idle": "2025-03-04T22:16:03.953619Z",
     "shell.execute_reply": "2025-03-04T22:16:03.953128Z"
    },
    "papermill": {
     "duration": 0.255338,
     "end_time": "2025-03-04T22:16:03.954526",
     "exception": false,
     "start_time": "2025-03-04T22:16:03.699188",
     "status": "completed"
    },
    "tags": []
   },
   "outputs": [],
   "source": [
    "from transformers import AutoTokenizer, AutoModel\n",
    "tokenizer = AutoTokenizer.from_pretrained(\"bert-base-uncased\")"
   ]
  },
  {
   "cell_type": "code",
   "execution_count": 16,
   "id": "68ac4919-76f1-4349-a314-4b1061126655",
   "metadata": {
    "execution": {
     "iopub.execute_input": "2025-03-04T22:16:03.961599Z",
     "iopub.status.busy": "2025-03-04T22:16:03.961204Z",
     "iopub.status.idle": "2025-03-04T22:16:03.964138Z",
     "shell.execute_reply": "2025-03-04T22:16:03.963779Z"
    },
    "papermill": {
     "duration": 0.006834,
     "end_time": "2025-03-04T22:16:03.964743",
     "exception": false,
     "start_time": "2025-03-04T22:16:03.957909",
     "status": "completed"
    },
    "tags": []
   },
   "outputs": [],
   "source": [
    "def lorentzian_distance(x, y):\n",
    "    \n",
    "    dot_product = torch.sum(x * y, dim=-1)\n",
    "    norm_x = torch.norm(x, dim=-1)\n",
    "    norm_y = torch.norm(y, dim=-1)\n",
    "    \n",
    "    distance = torch.acosh(-dot_product + torch.sqrt((1 + norm_x**2) * (1 + norm_y**2)))\n",
    "    return distance"
   ]
  },
  {
   "cell_type": "code",
   "execution_count": 17,
   "id": "90e1a127-7622-4dcb-9765-7f7d7e0b751c",
   "metadata": {
    "execution": {
     "iopub.execute_input": "2025-03-04T22:16:03.971322Z",
     "iopub.status.busy": "2025-03-04T22:16:03.971001Z",
     "iopub.status.idle": "2025-03-04T22:16:03.980188Z",
     "shell.execute_reply": "2025-03-04T22:16:03.979829Z"
    },
    "papermill": {
     "duration": 0.013167,
     "end_time": "2025-03-04T22:16:03.980856",
     "exception": false,
     "start_time": "2025-03-04T22:16:03.967689",
     "status": "completed"
    },
    "tags": []
   },
   "outputs": [],
   "source": [
    "def expm_o(v, c=1.0):\n",
    "    c = torch.tensor(c)\n",
    "    vspace = v\n",
    "    vnorm = torch.norm(v, p=2, dim=-1, keepdim=True)\n",
    "    xspace = torch.sinh(torch.sqrt(c) * vnorm) * vspace / (torch.sqrt(c) * vnorm)\n",
    "    batch_min = xspace.min(dim=1, keepdim=True).values\n",
    "    batch_max = xspace.max(dim=1, keepdim=True).values\n",
    "    xspace_scaled=(xspace - batch_min) / (batch_max - batch_min)\n",
    "    return xspace_scaled"
   ]
  },
  {
   "cell_type": "code",
   "execution_count": 18,
   "id": "990f63bd-4d48-4f58-a001-3b3250f65312",
   "metadata": {
    "execution": {
     "iopub.execute_input": "2025-03-04T22:16:03.987670Z",
     "iopub.status.busy": "2025-03-04T22:16:03.987260Z",
     "iopub.status.idle": "2025-03-04T22:16:03.999587Z",
     "shell.execute_reply": "2025-03-04T22:16:03.999238Z"
    },
    "papermill": {
     "duration": 0.016282,
     "end_time": "2025-03-04T22:16:04.000227",
     "exception": false,
     "start_time": "2025-03-04T22:16:03.983945",
     "status": "completed"
    },
    "tags": []
   },
   "outputs": [],
   "source": [
    "def evaluate_mrr(model1, data_loader_val, distance_fn):\n",
    "    model1.eval()\n",
    "    \n",
    "    total_rr = 0.0\n",
    "    num_queries = 0\n",
    "\n",
    "    with torch.no_grad():\n",
    "        for batch in data_loader_val:\n",
    "            anchor_text = batch[0]\n",
    "            positive_text = batch[1]\n",
    "            negative_texts = batch[2]\n",
    "\n",
    "            anchor_input = tokenizer(anchor_text, return_tensors='pt', padding=True, truncation=True, max_length=512).to(device)\n",
    "            positive_input = tokenizer(positive_text, return_tensors='pt', padding=True, truncation=True, max_length=512).to(device)\n",
    "\n",
    "            anchor_embedding = expm_o(model1(**anchor_input).last_hidden_state[:, 0, :])\n",
    "            positive_embedding = expm_o(model1(**positive_input).last_hidden_state[:, 0, :])\n",
    "            negative_embedding = [expm_o(model1(**tokenizer(neg, return_tensors='pt', padding=True, truncation=True, max_length=512).to(device)).last_hidden_state[:, 0, :]) for neg in negative_texts]\n",
    "\n",
    "            pos_dist = distance_fn(anchor_embedding, positive_embedding)\n",
    "            neg_dist = torch.stack([distance_fn(anchor_embedding, neg) for neg in negative_embedding], dim=-1)\n",
    "            all_similarities=torch.cat([-pos_dist.unsqueeze(1), -neg_dist], dim=1)\n",
    "\n",
    "            sorted_similarities, sorted_indices = torch.sort(all_similarities, dim=1, descending=True)\n",
    "\n",
    "            # Find the rank of the first relevant (positive) document\n",
    "            positive_rank = (sorted_indices == 0).nonzero(as_tuple=True)[1] + 1  # +1 to make rank 1-based\n",
    "            total_rr += torch.sum(1.0 / positive_rank.float()).item()  # Reciprocal rank\n",
    "            num_queries += len(positive_rank)\n",
    "            \n",
    "    mrr = total_rr / num_queries\n",
    "    return mrr"
   ]
  },
  {
   "cell_type": "code",
   "execution_count": 19,
   "id": "534a9ec5-4211-4cb6-81f1-fb8a30caff92",
   "metadata": {
    "execution": {
     "iopub.execute_input": "2025-03-04T22:16:04.006938Z",
     "iopub.status.busy": "2025-03-04T22:16:04.006676Z",
     "iopub.status.idle": "2025-03-04T22:16:11.014625Z",
     "shell.execute_reply": "2025-03-04T22:16:11.014096Z"
    },
    "papermill": {
     "duration": 7.012138,
     "end_time": "2025-03-04T22:16:11.015420",
     "exception": false,
     "start_time": "2025-03-04T22:16:04.003282",
     "status": "completed"
    },
    "tags": []
   },
   "outputs": [
    {
     "name": "stdout",
     "output_type": "stream",
     "text": [
      "0.41133333921432497\n"
     ]
    }
   ],
   "source": [
    "mrr_validation = evaluate_mrr(model1=lora_model, data_loader_val=data_loader,distance_fn=lorentzian_distance)\n",
    "print(mrr_validation)"
   ]
  },
  {
   "cell_type": "code",
   "execution_count": null,
   "id": "f61bbd65-41c9-4ac7-80ef-ba4a4fb02d45",
   "metadata": {
    "papermill": {
     "duration": 0.003368,
     "end_time": "2025-03-04T22:16:11.024070",
     "exception": false,
     "start_time": "2025-03-04T22:16:11.020702",
     "status": "completed"
    },
    "tags": []
   },
   "outputs": [],
   "source": []
  }
 ],
 "metadata": {
  "kernelspec": {
   "display_name": "Python (myenv)",
   "language": "python",
   "name": "myenv"
  },
  "language_info": {
   "codemirror_mode": {
    "name": "ipython",
    "version": 3
   },
   "file_extension": ".py",
   "mimetype": "text/x-python",
   "name": "python",
   "nbconvert_exporter": "python",
   "pygments_lexer": "ipython3",
   "version": "3.12.7"
  },
  "papermill": {
   "default_parameters": {},
   "duration": 695.746564,
   "end_time": "2025-03-04T22:16:15.355459",
   "environment_variables": {},
   "exception": null,
   "input_path": "hyperbolic_DBpedia.ipynb",
   "output_path": "hyperbolic_DBpedia_output.ipynb",
   "parameters": {},
   "start_time": "2025-03-04T22:04:39.608895",
   "version": "2.6.0"
  },
  "widgets": {
   "application/vnd.jupyter.widget-state+json": {
    "state": {
     "3783c2f572df4b309c56095cdb798e6d": {
      "model_module": "@jupyter-widgets/base",
      "model_module_version": "2.0.0",
      "model_name": "LayoutModel",
      "state": {
       "_model_module": "@jupyter-widgets/base",
       "_model_module_version": "2.0.0",
       "_model_name": "LayoutModel",
       "_view_count": null,
       "_view_module": "@jupyter-widgets/base",
       "_view_module_version": "2.0.0",
       "_view_name": "LayoutView",
       "align_content": null,
       "align_items": null,
       "align_self": null,
       "border_bottom": null,
       "border_left": null,
       "border_right": null,
       "border_top": null,
       "bottom": null,
       "display": null,
       "flex": null,
       "flex_flow": null,
       "grid_area": null,
       "grid_auto_columns": null,
       "grid_auto_flow": null,
       "grid_auto_rows": null,
       "grid_column": null,
       "grid_gap": null,
       "grid_row": null,
       "grid_template_areas": null,
       "grid_template_columns": null,
       "grid_template_rows": null,
       "height": null,
       "justify_content": null,
       "justify_items": null,
       "left": null,
       "margin": null,
       "max_height": null,
       "max_width": null,
       "min_height": null,
       "min_width": null,
       "object_fit": null,
       "object_position": null,
       "order": null,
       "overflow": null,
       "padding": null,
       "right": null,
       "top": null,
       "visibility": null,
       "width": null
      }
     },
     "4055086ca4214d0aaeb80db77b1149d0": {
      "model_module": "@jupyter-widgets/base",
      "model_module_version": "2.0.0",
      "model_name": "LayoutModel",
      "state": {
       "_model_module": "@jupyter-widgets/base",
       "_model_module_version": "2.0.0",
       "_model_name": "LayoutModel",
       "_view_count": null,
       "_view_module": "@jupyter-widgets/base",
       "_view_module_version": "2.0.0",
       "_view_name": "LayoutView",
       "align_content": null,
       "align_items": null,
       "align_self": null,
       "border_bottom": null,
       "border_left": null,
       "border_right": null,
       "border_top": null,
       "bottom": null,
       "display": null,
       "flex": null,
       "flex_flow": null,
       "grid_area": null,
       "grid_auto_columns": null,
       "grid_auto_flow": null,
       "grid_auto_rows": null,
       "grid_column": null,
       "grid_gap": null,
       "grid_row": null,
       "grid_template_areas": null,
       "grid_template_columns": null,
       "grid_template_rows": null,
       "height": null,
       "justify_content": null,
       "justify_items": null,
       "left": null,
       "margin": null,
       "max_height": null,
       "max_width": null,
       "min_height": null,
       "min_width": null,
       "object_fit": null,
       "object_position": null,
       "order": null,
       "overflow": null,
       "padding": null,
       "right": null,
       "top": null,
       "visibility": null,
       "width": null
      }
     },
     "4f1996e89ee44efe8d9d1d5bc57a2cf5": {
      "model_module": "@jupyter-widgets/controls",
      "model_module_version": "2.0.0",
      "model_name": "FloatProgressModel",
      "state": {
       "_dom_classes": [],
       "_model_module": "@jupyter-widgets/controls",
       "_model_module_version": "2.0.0",
       "_model_name": "FloatProgressModel",
       "_view_count": null,
       "_view_module": "@jupyter-widgets/controls",
       "_view_module_version": "2.0.0",
       "_view_name": "ProgressView",
       "bar_style": "success",
       "description": "",
       "description_allow_html": false,
       "layout": "IPY_MODEL_3783c2f572df4b309c56095cdb798e6d",
       "max": 4635922.0,
       "min": 0.0,
       "orientation": "horizontal",
       "style": "IPY_MODEL_fad0cf6b1b884dbc82420d687a346495",
       "tabbable": null,
       "tooltip": null,
       "value": 4635922.0
      }
     },
     "813faf913ef84d6db0cf1eb7fb70b10a": {
      "model_module": "@jupyter-widgets/controls",
      "model_module_version": "2.0.0",
      "model_name": "HTMLStyleModel",
      "state": {
       "_model_module": "@jupyter-widgets/controls",
       "_model_module_version": "2.0.0",
       "_model_name": "HTMLStyleModel",
       "_view_count": null,
       "_view_module": "@jupyter-widgets/base",
       "_view_module_version": "2.0.0",
       "_view_name": "StyleView",
       "background": null,
       "description_width": "",
       "font_size": null,
       "text_color": null
      }
     },
     "82d22a38ffd947419a7917c0118175e0": {
      "model_module": "@jupyter-widgets/controls",
      "model_module_version": "2.0.0",
      "model_name": "HTMLModel",
      "state": {
       "_dom_classes": [],
       "_model_module": "@jupyter-widgets/controls",
       "_model_module_version": "2.0.0",
       "_model_name": "HTMLModel",
       "_view_count": null,
       "_view_module": "@jupyter-widgets/controls",
       "_view_module_version": "2.0.0",
       "_view_name": "HTMLView",
       "description": "",
       "description_allow_html": false,
       "layout": "IPY_MODEL_4055086ca4214d0aaeb80db77b1149d0",
       "placeholder": "​",
       "style": "IPY_MODEL_8dd98ce5d1824e38b1111b916bf2c207",
       "tabbable": null,
       "tooltip": null,
       "value": " 4635922/4635922 [00:22&lt;00:00, 215428.41it/s]"
      }
     },
     "87e88cf1b3eb471f8c7182dfb52785d7": {
      "model_module": "@jupyter-widgets/controls",
      "model_module_version": "2.0.0",
      "model_name": "HTMLModel",
      "state": {
       "_dom_classes": [],
       "_model_module": "@jupyter-widgets/controls",
       "_model_module_version": "2.0.0",
       "_model_name": "HTMLModel",
       "_view_count": null,
       "_view_module": "@jupyter-widgets/controls",
       "_view_module_version": "2.0.0",
       "_view_name": "HTMLView",
       "description": "",
       "description_allow_html": false,
       "layout": "IPY_MODEL_e8e3bb33718a491b9c44e00cee385c79",
       "placeholder": "​",
       "style": "IPY_MODEL_813faf913ef84d6db0cf1eb7fb70b10a",
       "tabbable": null,
       "tooltip": null,
       "value": "100%"
      }
     },
     "8dd98ce5d1824e38b1111b916bf2c207": {
      "model_module": "@jupyter-widgets/controls",
      "model_module_version": "2.0.0",
      "model_name": "HTMLStyleModel",
      "state": {
       "_model_module": "@jupyter-widgets/controls",
       "_model_module_version": "2.0.0",
       "_model_name": "HTMLStyleModel",
       "_view_count": null,
       "_view_module": "@jupyter-widgets/base",
       "_view_module_version": "2.0.0",
       "_view_name": "StyleView",
       "background": null,
       "description_width": "",
       "font_size": null,
       "text_color": null
      }
     },
     "a65fd0d364e34347948c5fa3bf9c3558": {
      "model_module": "@jupyter-widgets/controls",
      "model_module_version": "2.0.0",
      "model_name": "HBoxModel",
      "state": {
       "_dom_classes": [],
       "_model_module": "@jupyter-widgets/controls",
       "_model_module_version": "2.0.0",
       "_model_name": "HBoxModel",
       "_view_count": null,
       "_view_module": "@jupyter-widgets/controls",
       "_view_module_version": "2.0.0",
       "_view_name": "HBoxView",
       "box_style": "",
       "children": [
        "IPY_MODEL_87e88cf1b3eb471f8c7182dfb52785d7",
        "IPY_MODEL_4f1996e89ee44efe8d9d1d5bc57a2cf5",
        "IPY_MODEL_82d22a38ffd947419a7917c0118175e0"
       ],
       "layout": "IPY_MODEL_f88646520cf74108b4b97a0234384ff4",
       "tabbable": null,
       "tooltip": null
      }
     },
     "e8e3bb33718a491b9c44e00cee385c79": {
      "model_module": "@jupyter-widgets/base",
      "model_module_version": "2.0.0",
      "model_name": "LayoutModel",
      "state": {
       "_model_module": "@jupyter-widgets/base",
       "_model_module_version": "2.0.0",
       "_model_name": "LayoutModel",
       "_view_count": null,
       "_view_module": "@jupyter-widgets/base",
       "_view_module_version": "2.0.0",
       "_view_name": "LayoutView",
       "align_content": null,
       "align_items": null,
       "align_self": null,
       "border_bottom": null,
       "border_left": null,
       "border_right": null,
       "border_top": null,
       "bottom": null,
       "display": null,
       "flex": null,
       "flex_flow": null,
       "grid_area": null,
       "grid_auto_columns": null,
       "grid_auto_flow": null,
       "grid_auto_rows": null,
       "grid_column": null,
       "grid_gap": null,
       "grid_row": null,
       "grid_template_areas": null,
       "grid_template_columns": null,
       "grid_template_rows": null,
       "height": null,
       "justify_content": null,
       "justify_items": null,
       "left": null,
       "margin": null,
       "max_height": null,
       "max_width": null,
       "min_height": null,
       "min_width": null,
       "object_fit": null,
       "object_position": null,
       "order": null,
       "overflow": null,
       "padding": null,
       "right": null,
       "top": null,
       "visibility": null,
       "width": null
      }
     },
     "f88646520cf74108b4b97a0234384ff4": {
      "model_module": "@jupyter-widgets/base",
      "model_module_version": "2.0.0",
      "model_name": "LayoutModel",
      "state": {
       "_model_module": "@jupyter-widgets/base",
       "_model_module_version": "2.0.0",
       "_model_name": "LayoutModel",
       "_view_count": null,
       "_view_module": "@jupyter-widgets/base",
       "_view_module_version": "2.0.0",
       "_view_name": "LayoutView",
       "align_content": null,
       "align_items": null,
       "align_self": null,
       "border_bottom": null,
       "border_left": null,
       "border_right": null,
       "border_top": null,
       "bottom": null,
       "display": null,
       "flex": null,
       "flex_flow": null,
       "grid_area": null,
       "grid_auto_columns": null,
       "grid_auto_flow": null,
       "grid_auto_rows": null,
       "grid_column": null,
       "grid_gap": null,
       "grid_row": null,
       "grid_template_areas": null,
       "grid_template_columns": null,
       "grid_template_rows": null,
       "height": null,
       "justify_content": null,
       "justify_items": null,
       "left": null,
       "margin": null,
       "max_height": null,
       "max_width": null,
       "min_height": null,
       "min_width": null,
       "object_fit": null,
       "object_position": null,
       "order": null,
       "overflow": null,
       "padding": null,
       "right": null,
       "top": null,
       "visibility": null,
       "width": null
      }
     },
     "fad0cf6b1b884dbc82420d687a346495": {
      "model_module": "@jupyter-widgets/controls",
      "model_module_version": "2.0.0",
      "model_name": "ProgressStyleModel",
      "state": {
       "_model_module": "@jupyter-widgets/controls",
       "_model_module_version": "2.0.0",
       "_model_name": "ProgressStyleModel",
       "_view_count": null,
       "_view_module": "@jupyter-widgets/base",
       "_view_module_version": "2.0.0",
       "_view_name": "StyleView",
       "bar_color": null,
       "description_width": ""
      }
     }
    },
    "version_major": 2,
    "version_minor": 0
   }
  }
 },
 "nbformat": 4,
 "nbformat_minor": 5
}