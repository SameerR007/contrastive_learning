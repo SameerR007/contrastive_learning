{
 "cells": [
  {
   "cell_type": "code",
   "execution_count": 1,
   "id": "f6d4b65f-fa6b-4517-8694-8627bc49833b",
   "metadata": {
    "execution": {
     "iopub.execute_input": "2025-03-02T01:39:29.777621Z",
     "iopub.status.busy": "2025-03-02T01:39:29.777291Z",
     "iopub.status.idle": "2025-03-02T01:39:30.060104Z",
     "shell.execute_reply": "2025-03-02T01:39:30.059665Z"
    },
    "papermill": {
     "duration": 0.288257,
     "end_time": "2025-03-02T01:39:30.060727",
     "exception": false,
     "start_time": "2025-03-02T01:39:29.772470",
     "status": "completed"
    },
    "tags": []
   },
   "outputs": [
    {
     "name": "stderr",
     "output_type": "stream",
     "text": [
      "/dss/dsshome1/07/ra65bex2/srawat/myenv/lib/python3.12/site-packages/beir/datasets/data_loader.py:8: TqdmExperimentalWarning: Using `tqdm.autonotebook.tqdm` in notebook mode. Use `tqdm.tqdm` instead to force console mode (e.g. in jupyter console)\n",
      "  from tqdm.autonotebook import tqdm\n"
     ]
    }
   ],
   "source": [
    "from beir.datasets.data_loader import GenericDataLoader"
   ]
  },
  {
   "cell_type": "code",
   "execution_count": 2,
   "id": "a91d6914-e301-422c-b839-1fafeb1e8fa4",
   "metadata": {
    "execution": {
     "iopub.execute_input": "2025-03-02T01:39:30.065753Z",
     "iopub.status.busy": "2025-03-02T01:39:30.065613Z",
     "iopub.status.idle": "2025-03-02T01:39:30.067858Z",
     "shell.execute_reply": "2025-03-02T01:39:30.067510Z"
    },
    "papermill": {
     "duration": 0.005256,
     "end_time": "2025-03-02T01:39:30.068464",
     "exception": false,
     "start_time": "2025-03-02T01:39:30.063208",
     "status": "completed"
    },
    "tags": []
   },
   "outputs": [],
   "source": [
    "data_path = \"/dss/dsshome1/07/ra65bex2/srawat/climate-fever/climate-fever\""
   ]
  },
  {
   "cell_type": "code",
   "execution_count": 3,
   "id": "41e17333-2c34-4b7b-91f6-3cbd3972f0d6",
   "metadata": {
    "execution": {
     "iopub.execute_input": "2025-03-02T01:39:30.073298Z",
     "iopub.status.busy": "2025-03-02T01:39:30.073023Z",
     "iopub.status.idle": "2025-03-02T01:39:59.394538Z",
     "shell.execute_reply": "2025-03-02T01:39:59.393682Z"
    },
    "papermill": {
     "duration": 29.324676,
     "end_time": "2025-03-02T01:39:59.395310",
     "exception": false,
     "start_time": "2025-03-02T01:39:30.070634",
     "status": "completed"
    },
    "tags": []
   },
   "outputs": [
    {
     "data": {
      "application/vnd.jupyter.widget-view+json": {
       "model_id": "be621d31ee3f4295b6c493ccdcbf9b33",
       "version_major": 2,
       "version_minor": 0
      },
      "text/plain": [
       "  0%|          | 0/5416593 [00:00<?, ?it/s]"
      ]
     },
     "metadata": {},
     "output_type": "display_data"
    }
   ],
   "source": [
    "corpus, queries, qrels = GenericDataLoader(data_path).load(split=\"test\")"
   ]
  },
  {
   "cell_type": "code",
   "execution_count": 4,
   "id": "a29044d5-3952-4f3d-aa43-e1efd34fcad3",
   "metadata": {
    "execution": {
     "iopub.execute_input": "2025-03-02T01:39:59.403570Z",
     "iopub.status.busy": "2025-03-02T01:39:59.403259Z",
     "iopub.status.idle": "2025-03-02T02:31:15.427666Z",
     "shell.execute_reply": "2025-03-02T02:31:15.426874Z"
    },
    "papermill": {
     "duration": 3076.028579,
     "end_time": "2025-03-02T02:31:15.428700",
     "exception": false,
     "start_time": "2025-03-02T01:39:59.400121",
     "status": "completed"
    },
    "tags": []
   },
   "outputs": [],
   "source": [
    "contrastive_pairs=[]\n",
    "import random\n",
    "c=0\n",
    "for query_id, relevant_docs in qrels.items():\n",
    "    try:\n",
    "        query_text = queries[query_id]\n",
    "        for doc_id in relevant_docs:\n",
    "            positive = corpus[doc_id][\"text\"]\n",
    "        #print(relevant_docs)\n",
    "        positive_doc_ids = set(relevant_docs)\n",
    "        all_doc_ids = set(corpus.keys())\n",
    "        negative_doc_ids = all_doc_ids - positive_doc_ids\n",
    "        negative_doc_ids=list(negative_doc_ids)\n",
    "        negative_doc_samples = random.sample(negative_doc_ids, k=5)\n",
    "        negatives=[]\n",
    "        for neg_doc_id in negative_doc_samples:\n",
    "            negative_doc_text = corpus[neg_doc_id][\"text\"]\n",
    "            negatives.append(negative_doc_text)\n",
    "        contrastive_pairs.append({\n",
    "            \"anchor\": query_text,\n",
    "            \"positive\": positive,\n",
    "            \"negatives\": negatives\n",
    "        })\n",
    "    except:\n",
    "        c=c+1"
   ]
  },
  {
   "cell_type": "code",
   "execution_count": 5,
   "id": "8c823417-d701-423c-aa07-2b82cf3904e7",
   "metadata": {
    "execution": {
     "iopub.execute_input": "2025-03-02T02:31:15.439959Z",
     "iopub.status.busy": "2025-03-02T02:31:15.439773Z",
     "iopub.status.idle": "2025-03-02T02:31:15.445720Z",
     "shell.execute_reply": "2025-03-02T02:31:15.445428Z"
    },
    "papermill": {
     "duration": 0.009479,
     "end_time": "2025-03-02T02:31:15.446341",
     "exception": false,
     "start_time": "2025-03-02T02:31:15.436862",
     "status": "completed"
    },
    "tags": []
   },
   "outputs": [
    {
     "data": {
      "text/plain": [
       "[{'anchor': 'Global warming is driving polar bears toward extinction',\n",
       "  'positive': \"Global warming , also referred to as climate change , is the observed century-scale rise in the average temperature of the Earth 's climate system and its related effects . Multiple lines of scientific evidence show that the climate system is warming . Many of the observed changes since the 1950s are unprecedented in the instrumental temperature record which extends back to the mid 19th century , and in paleoclimate proxy records over thousands of years .   In 2013 , the Intergovernmental Panel on Climate Change ( IPCC ) Fifth Assessment Report concluded that `` It is extremely likely that human influence has been the dominant cause of the observed warming since the mid-20th century . '' The largest human influence has been emission of greenhouse gases such as carbon dioxide , methane and nitrous oxide . Climate model projections summarized in the report indicated that during the 21st century the global surface temperature is likely to rise a further 0.3 to for their lowest emissions scenario and 2.6 to for the highest emissions scenario . These findings have been recognized by the national science academies of the major industrialized nations and are not disputed by any scientific body of national or international standing .   Future climate change and associated impacts will differ from region to region around the globe . Anticipated effects include warming global temperature , rising sea levels , changing precipitation , and expansion of deserts in the subtropics . Warming is expected to be greater over land than over the oceans and greatest in the Arctic , with the continuing retreat of glaciers , permafrost and sea ice . Other likely changes include more frequent extreme weather events including heat waves , droughts , heavy rainfall with floods and heavy snowfall ; ocean acidification ; and species extinctions due to shifting temperature regimes . Effects significant to humans include the threat to food security from decreasing crop yields and the abandonment of populated areas due to rising sea levels . Because the climate system has a large `` inertia '' and greenhouse gases will stay in the atmosphere for a long time , many of these effects will not only exist for decades or centuries , but will persist for tens of thousands of years .   Possible societal responses to global warming include mitigation by emissions reduction , adaptation to its effects , building systems resilient to its effects , and possible future climate engineering . Most countries are parties to the United Nations Framework Convention on Climate Change ( UNFCCC ) ,  whose ultimate objective is to prevent dangerous anthropogenic climate change . Parties to the UNFCCC have agreed that deep cuts in emissions are required and that global warming should be limited to well below 2.0 C-change relative to pre-industrial levels , with efforts made to limit warming to 1.5 C-change .   Public reactions to global warming and concern about its effects are also increasing . A global 2015 Pew Research Center report showed a median of 54 % consider it `` a very serious problem '' . There are significant regional differences , with Americans and Chinese ( whose economies are responsible for the greatest annual CO2 emissions ) among the least concerned .\",\n",
       "  'negatives': [\"NEX or Nex may refer to :   Generation NEX , a Nintendo video game clone  Narita Express ( N'EX ) , a Japanese train service  Navy Exchange or base exchange , the US Navy retail store chain  NEX , a modelling plugin for Autodesk Maya 3D graphics software  Nex , a shopping mall in Serangoon , Singapore  Nex Entertainment , a Japanese video game developer  NEX Group , a UK-based financial services firm  NEX Stock Exchange , a defunct stock exchange from Montenegro  Pepsi NEX , a variation of Pepsi .  Sony NEX ( New E-mount eXperience ) , a trading name of the Sony E-mount system .\",\n",
       "   \"Dr. Zeus Inc. , also known simply as The Company , is a fictional entity in a series of time travel science fiction stories by Kage Baker .   According to the stories , Dr. Zeus operates from the 24th century , using technologies of time travel and immortality to exploit the past for commercial gain . The immortality technology is limited to taking young children and turning them into cyborgs . The time travel technology only allows journeys into the past , and returns to the present . No artifacts or people can be brought forward from their own times . In addition , the technology is expensive and dangerous for normal humans to use .   History , or at least recorded history , can not be changed . Dr. Zeus can not save Lincoln , warn the Titanic , prevent the sack of Rome , or stop the burning of the Library at Alexandria . It can take valuable artifacts thought to be lost in these and other events , hide them and ` rediscover ' them in the future . However , even without the dangers of time travel , Dr. Zeus ' employees hate the past . By their time , all stimulants and narcotics are illegal , vegetarianism is compulsory , and they are disease - and dirt-phobic . They find the past 's inhabitants disgusting .   To carry out its mission , Dr. Zeus sends its employees far into human prehistory , where they take children from Neanderthal and modern human families and give them the immortality treatment . These individuals are then promised a bright future in the 24th century , in exchange for working for the Company till then . Their job is to preserve cultural artifacts , valuable plants , and endangered species , hiding them in safe places till the Company can ` recover ' them in the future . The cyborgs will get to the 24th century the old-fashioned way , by living through the intervening millennia . Along the way they can create others to help them , using children who would otherwise die and not affect history . They are also provided with many recordings of future culture , entertainment , and a carefully edited view of history . Dr. Zeus alone knows everything that will happen up till the 24th century .   As the series progresses , it becomes apparent that the Dr. Zeus story is itself a fiction . How they came by their technology , and how long the Company has really existed , is an unfolding mystery . Furthermore , not even Dr. Zeus knows what happens after July 9 , 2355 ; although it is possible to send messages to the past , there is nothing from beyond that date . This is known as the Silence , and is a source of dread to both Company people and cyborgs .\",\n",
       "   'Nehemiah Abbott ( March 29 , 1804 -- July 26 , 1877 ) was a United States Representative from Maine . He was born in Sidney , studied law at the Litchfield , Connecticut Law School , was admitted to the bar in 1836 and began his practice at Calais , Maine .   In 1839 Abbott moved to Columbus , Mississippi , where he continued the practice of law , but the following year he returned to Maine and settled in Belfast , Waldo County , where he resumed the practice of law . In 1842 and 1843 he was a member of the Maine House of Representatives . He was elected as a Republican to the U.S. House of Representatives , serving from March 4 , 1857 to March 3 , 1859 . He did not run for reelection , but continued to practice law , and served as the mayor of Belfast in 1865 and 1866 . He died in Belfast .',\n",
       "   \"The Institute of Biology ( IoB ) was a professional body for biologists , primarily those working in the United Kingdom . The Institute was founded in 1950 by the Biological Council : the then umbrella body for Britain 's many learned biological societies . Its individual membership ( as opposed to the individual membership of its affiliates ) quickly grew ; in the late 1990s it was as high as 16,000 but declined in the early 21st century to 11,000 . It received a Royal Charter in 1979 and it held charitable status .  The IoB was not a trade union , nor did it have the regulatory power over its membership ( like the General Medical Council ) although it did have the right to remove a member 's Chartered status and was empowered by its Royal Charter to represent Britain 's profession of biology . In October 2009 , the IoB was merged with the Biosciences Federation ( BSF ) to form the Society of Biology , which has around 14,000 individual members and over 90 member organisations . In May 2015 , the Society was granted permission to become the Royal Society of Biology .\",\n",
       "   'Charles Lewis Reason ( July 21 , 1818 -- August 16 , 1893 ) was a mathematician , linguist , and educator . He became the first African-American university professor at a predominantly white college in the United States , teaching at New York Central College , McGrawville .']},\n",
       " {'anchor': 'The sun has gone into ‘lockdown’ which could cause freezing weather, earthquakes and famine, say scientists',\n",
       "  'positive': \"Weather is the state of the atmosphere , to the degree that it is hot or cold , wet or dry , calm or stormy , clear or cloudy . Most weather phenomena occur in the lowest level of the atmosphere , the troposphere , just below the stratosphere . Weather refers to day-to-day temperature and precipitation activity , whereas climate is the term for the averaging of atmospheric conditions over longer periods of time . When used without qualification , `` weather '' is generally understood to mean the weather of Earth .   Weather is driven by air pressure , temperature and moisture differences between one place and another . These differences can occur due to the sun 's angle at any particular spot , which varies with latitude . The strong temperature contrast between polar and tropical air gives rise to the largest scale atmospheric circulations : the Hadley Cell , the Ferrel Cell , the Polar Cell , and the jet stream . Weather systems in the mid-latitudes , such as extratropical cyclones , are caused by instabilities of the jet stream flow . Because the Earth 's axis is tilted relative to its orbital plane , sunlight is incident at different angles at different times of the year . On Earth 's surface , temperatures usually range ± 40 ° C ( − 40 ° F to 100 ° F ) annually . Over thousands of years , changes in Earth 's orbit can affect the amount and distribution of solar energy received by the Earth , thus influencing long-term climate and global climate change .   Surface temperature differences in turn cause pressure differences . Higher altitudes are cooler than lower altitudes as most atmospheric heating is due to contact with the Earth 's surface while radiative losses to space are mostly constant . Weather forecasting is the application of science and technology to predict the state of the atmosphere for a future time and a given location . The Earth 's weather system is a chaotic system ; as a result , small changes to one part of the system can grow to have large effects on the system as a whole . Human attempts to control the weather have occurred throughout history , and there is evidence that human activities such as agriculture and industry have modified weather patterns .   Studying how the weather works on other planets has been helpful in understanding how weather works on Earth . A famous landmark in the Solar System , Jupiter 's Great Red Spot , is an anticyclonic storm known to have existed for at least 300 years . However , weather is not limited to planetary bodies . A star 's corona is constantly being lost to space , creating what is essentially a very thin atmosphere throughout the Solar System . The movement of mass ejected from the Sun is known as the solar wind .\",\n",
       "  'negatives': [\"Bosnia and Herzegovina 's entry for the Eurovision Song Contest 2006 was Lejla by Hari Varešanović . It was selected as the country 's entry by the national broadcaster , PBSBiH . At the European final , it came third , giving the country its highest result ever after finishing second in the semifinal .   The song was composed by Eurovision Song Contest 2004 runner-up Željko Joksimović from Serbia and Montenegro , while Fahrudin Pecikoza and Dejan Ivanović wrote the lyrics that `` have a touch of Bosnia & Herzegovina and tell about an unhappy love '' . Its visual identity contained elements of ancient national decoration and the rich ethnic tradition of the people of Bosnia & Herzegovina in a modern styled variant .   During the song 's performance at the Eurovision , the on-stage performers were :  Hari Varešanović ( vocalist )  Izudin Kolečić ( percussion )  Karlo Martinović ( lead guitarist and backing vocalist )  Nihad Voloder ( bass guitarist and backing vocalist )  Ksenija Milošević ( violinist and backing vocalist )  Ivana Čabraja ( backing vocalist and accordion player )\",\n",
       "   'The 2010 -- 11 Liga Leumit was the twelfth season since its introduction in 1999 and the 69th season of second-tier football in Israel . It began on 21 August 2010 and ended on 20 May 2011 .   A total of sixteen teams contested the league , including twelve sides from the 2009 -- 10 season , two promoted teams from the 2009 -- 10 Liga Alef and two relegated teams from the 2009 -- 10 Israeli Premier League .',\n",
       "   'The Abraham Coult House is a historic house at 1695 Hebron Avenue in Glastonbury , Connecticut . Built about 1706 and enlarged several times , it is a well-preserved colonial residence , exhibiting changing construction methods through its alterations . Moved in the 1970s to avoid demolition and restored , it was listed on the National Register of Historic Places in 2000 .',\n",
       "   'The 2015 South Australian National Football League season ( officially the SANFL IGA League ) was the 135th season of the South Australian National Football League ( SANFL ) Australian rules football competition .   The season commenced on Thursday 2 April 2015 with reigning premiers Norwood meeting Sturt at Norwood Oval , and concluded on Sunday 27 September 2015 with the SANFL Grand Final at Adelaide Oval with defeating by 30 points to claim their ninth premiership and first in thirty-two years .',\n",
       "   'Colonel Sir Alexander Sprot , 1st Baronet CMG DL ( 24 April 1853 -- 8 February 1929 ) was a British soldier and politician .   The only son of Alexander Sprot of Garnkirk and Rachael Jane Cleghorn , he was educated at Harrow School and at Trinity College , Cambridge .']},\n",
       " {'anchor': 'The polar bear population has been growing.',\n",
       "  'positive': \"The polar bear ( ursus #Latin maritimus #Latin ) is a carnivorous bear whose native range lies largely within the Arctic Circle , encompassing the Arctic Ocean , its surrounding seas and surrounding land masses . It is a large bear , approximately the same size as the omnivorous Kodiak bear ( Ursus arctos middendorffi ) . A boar ( adult male ) weighs around 350 -- , while a sow ( adult female ) is about half that size . Although it is the sister species of the brown bear , it has evolved to occupy a narrower ecological niche , with many body characteristics adapted for cold temperatures , for moving across snow , ice and open water , and for hunting seals , which make up most of its diet . Although most polar bears are born on land , they spend most of their time on the sea ice . Their scientific name means `` maritime bear '' and derives from this fact . Polar bears hunt their preferred food of seals from the edge of sea ice , often living off fat reserves when no sea ice is present . Because of their dependence on the sea ice , polar bears are classified as marine mammals ; an alternative basis for classification as marine mammals is that they depend on the ocean as their main food source .   Because of expected habitat loss caused by climate change , the polar bear is classified as a vulnerable species , and at least three of the nineteen polar bear subpopulations are currently in decline . For decades , large-scale hunting raised international concern for the future of the species , but populations rebounded after controls and quotas began to take effect . For thousands of years , the polar bear has been a key figure in the material , spiritual , and cultural life of circumpolar peoples , and polar bears remain important in their cultures .\",\n",
       "  'negatives': ['__ NOTOC __  Gmina Sławno is a rural gmina ( administrative district ) in Sławno County , West Pomeranian Voivodeship , in north-western Poland . Its seat is the town of Sławno , although the town is not part of the territory of the gmina .   The gmina covers an area of 284.20 km2 , and as of 2006 its total population is 8,855 .',\n",
       "   'Wira Wama ( born 24 October 1989 ) is a Papua New Guinean footballer who plays as a midfielder for PRK Hekari United in the Papua New Guinea National Soccer League .',\n",
       "   \"Clarence Harrison ( born 1959 ) was wrongly convicted in 1987 for the kidnapping , rape and robbery of a 25-year-old-woman in Decatur , Georgia . He is the first person exonerated through the work of the Georgia Innocence Project .   In the pre-dawn hours of October 25 , 1986 , a woman was attacked as she walked in the rain to a bus stop . The assailant hit her , dragged her to an embankment and raped her three times before she was able to get away and notify the police . During the incident , the assailant also stole her watch . Harrison became a suspect based upon a prior conviction for robbery and a tip that someone at his house was trying to sell a watch , although the victim 's watch was never found . Both the rape victim and the person providing the tip picked Harrison from a photo lineup . It was largely on this identification that Harrison was convicted on March 18 , 1987 , and sentenced to life in prison .   In February 2003 , Harrison sent a hand-written letter to the newly opened Georgia Innocence Project . `` Dear sirs , my name is Clarence Harrison . I am presently being held falsely accused of crimes I could not have committed , '' he wrote . `` I am seeking to vindicate myself by the only means I know how . '' Interns from Georgia State University College of Law and Emory University School of Law saw the letter as worthy of further investigation . After finding slides from the rape kit previously thought to have been destroyed , modern DNA testing proved that Harrison was not the rapist .   On August 31 , 2004 , DeKalb Superior Court Judge Cynthia J. Becker granted the DeKalb County District Attorney 's motion for a new trial and request that Harrison be released immediately . All charges were dismissed .   Three weeks after his release , Harrison married a woman who befriended him while he was in prison . Since his release , Harrison has worked to keep a positive attitude and help deter young people from crime .   The Georgia General Assembly compensated Harrison with a one million dollar sum payable as an annuity over twenty years . In March 2015 Harrison was bankrupt . He sold $ 735,000 in future annuity payments to Seneca One for just $ 272,000 , not knowing he had to pay income taxes .\",\n",
       "   'Mount Feldkotter is a mountain in Antarctica , 1,510 m high , standing 4 nmi south of Gambacorta Peak in the southern Neptune Range , Pensacola Mountains , Antarctica . It was mapped by the United States Geological Survey from surveys and U.S. Navy air photos , 1956 -- 66 , and was named by the Advisory Committee on Antarctic Names for Henry H.J. Feldkotter , an aviation electrician at Ellsworth Station during the winter of 1958 .',\n",
       "   'Harry Mozart Bendixen ( 13 October 1901 in Copenhagen -- 30 December 1954 in Gentofte ) was a Danish football ( soccer ) player and sports journalist . He played 16 games and scored one goal for the Denmark national football team from 1924 to 1928 . In club football , he represented Akademisk Boldklub ( AB ) during his entire career . As a journalist , Bendixen was sports editor at Berlingske Tidende and later the editor-in-chief of B.T. . Harry Bendixen was the author of several popular youth books on different sports . He died of an appendicitis .']},\n",
       " {'anchor': \"Ironic' study finds more CO2 has slightly cooled the planet\",\n",
       "  'positive': \"Carbon dioxide is an important trace gas in Earth 's atmosphere . Currently it constitutes about 0.041 % ( equal to 410 parts per million ; ppm ) by volume of the atmosphere . Despite its relatively small concentration is a potent greenhouse gas and plays a vital role in regulating Earth 's surface temperature through radiative forcing and the greenhouse effect . Reconstructions show that concentrations of in the atmosphere have varied , ranging from as high as 7,000 ppm during the Cambrian period about 500 million years ago to as low as 180 ppm during the Quaternary glaciation of the last two million years .   Carbon dioxide is an integral part of the carbon cycle , a biogeochemical cycle in which carbon is exchanged between the Earth 's oceans , soil , rocks and the biosphere . Plants and other photoautotrophs use solar energy to produce carbohydrate from atmospheric carbon dioxide and water by photosynthesis . Almost all other organisms depend on carbohydrate derived from photosynthesis as their primary source of energy and carbon compounds .   The current episode of global warming is attributed to increasing emissions of and other greenhouse gases into Earth 's atmosphere . The global annual mean concentration of in the atmosphere has increased by more than 40 % since the start of the Industrial Revolution , from 280 ppm , the level it had for the last 10,000 years leading up to the mid-18th century , to 399 ppm as of 2015 . The present concentration is the highest in at least the past 800,000 years and likely the highest in the past 20 million years . The increase has been caused by anthropogenic sources , particularly the burning of fossil fuels and deforestation . The daily average concentration of atmospheric CO2 at Mauna Loa Observatory first exceeded 400 ppm on 10 May 2013 . It is currently rising at a rate of approximately 2 ppm/year and accelerating . An estimated 30 -- 40 % of the released by humans into the atmosphere dissolves into oceans , rivers and lakes , which contributes to ocean acidification .\",\n",
       "  'negatives': ['Cussler is a surname . Notable people with the surname include :   Clive Cussler ( born 1931 ) , American novelist  Dirk Cussler ( born 1961 ) , American novelist , son of Clive Cussler  Edward Cussler ( born 1940 ) , American professor of chemical engineering',\n",
       "   \"Rafael Advanced Defense Systems Ltd. ( Hebrew : רפאל - מערכות לחימה מתקדמות בע '' מ , formerly : RAFAEL Armament Development Authority ) , known as RAFAEL or Rafael , ( also spelled as Raphael or Rephael ; Hebrew acronym of `` Authority for the Development of Armaments '' - רשות לפיתוח אמצעי לחימה ) is an Israeli defense technology company . It was founded as Israel 's National R&D Defense Laboratory for the development of weapons and military technology within the Ministry of Defense ; in 2002 it was incorporated as a limited company .   Rafael develops and produces weapons , military , and defense technologies for the Israel Defense Forces and for export abroad . All current projects are classified .\",\n",
       "   'Hypsopygia impurpuratalis is a species of snout moth in the genus Hypsopygia . It was described by Dognin in 1910 . It is found in Guyana .',\n",
       "   'Jerry Lee Wilson ( born July 17 , 1973 ) is a former professional American football safety most recently in 2006 with the San Diego Chargers of the National Football League . He has also played for the Miami Dolphins and the New Orleans Saints . Wilson played college football at Southern University . He graduated from LaGrange Senior High in Lake Charles , Louisiana .   Category :1973 births  Category : Living people  Category : American football safeties  Category : Sportspeople from Lake Charles , Louisiana  Category : Southern Jaguars football players  Category : Miami Dolphins players  Category : New Orleans Saints players  Category : San Diego Chargers players',\n",
       "   \"Uncle Beazley is a life-size fiberglass statue of a triceratops by Louis Paul Jonas . It is located near Lemur Island in the National Zoological Park ( the National Zoo ) in Northwest Washington , D.C.   The statue is named after a dinosaur in the children 's book The Enormous Egg ( 1956 ) , by Oliver Butterworth , and a movie adaptation televised on the NBC Children 's Theatre in which the statue appeared . The book and the film , which aired on April 18 , 1968 , tell the story of a boy who finds an enormous egg laid by a hen that hatches a baby triceratops . The triceratops , named Uncle Beazley , becomes too big , so the boy brings him to the Smithsonian Institution . Beazley is first kept at National Museum of Natural History , but is eventually transferred to the National Zoo 's Elephant House because there is a law against stabling large animals in the District of Columbia .   The statue is one of nine dinosaurs of different species that Jonas designed and constructed for the Sinclair Oil Corporation 's pavilion at the 1964 New York World 's Fair in consultation with paleontologists Barnum Brown and Edwin H. Colbert of the American Museum of Natural History in New York City and John Ostrom of the Peabody Museum of Natural History at Yale University . After the Fair closed , the statue was featured in Sinclair 's traveling Dinoland display .   In 1967 , Sinclair donated the nine dinosaurs to various American museums and the Smithsonian . The Smithsonian 's Uncle Beazley was initially displayed at the Zoo . In July 1967 , a crew from NBC-TV visited the Zoo to film the statue during the production of The Enormous Egg . After the filming ended , Sinclair donated the statue to the Smithsonian .   Uncle Beazley was present at the Smithsonian 's Anacostia Neighborhood Museum when the museum opened on September 15 , 1967 . From the 1970s to 1994 , the statue was located at the National Mall in front of the National Museum of Natural History . In 1994 , the statue was returned to the Zoo and was displayed in the former rhinoceros yard until 2003 , when the yard was renovated for the Zoo 's expanding Asian elephant family .   In 2007 , the Zoo and Smithsonian exhibits staff began work to restore the dinosaur . Zoo staff also created a garden exhibit for Uncle Beazley near Lemur Island with funding from a gift from a Director 's Circle donor in memory of her parents . The `` dinosaur garden '' features plants such as ferns , papyrus , and giant taro whose ancestors existed during the age of the dinosaurs . The statue was again refurbished in 2011 .   NBC 's telecast of The Enormous Egg also featured five smaller triceratops models that Louis Paul Jonas had created to represent the dinosaur during its youth . In 1979 , George Heinemann , the telecast 's producer , donated the models to Pittsfield 's Berkshire Museum , a Smithsonian Affiliate organization in Western Massachusetts . In 2014 , the five models , the largest of which bears the name of Uncle Beazley , were moved to Pittsfield 's public library , the Berkshire Athenaeum .\"]},\n",
       " {'anchor': 'Human additions of CO2 are in the margin of error of current measurements and the gradual increase in CO2 is mainly from oceans degassing as the planet slowly emerges from the last ice age.',\n",
       "  'positive': \"Carbon dioxide is an important trace gas in Earth 's atmosphere . Currently it constitutes about 0.041 % ( equal to 410 parts per million ; ppm ) by volume of the atmosphere . Despite its relatively small concentration is a potent greenhouse gas and plays a vital role in regulating Earth 's surface temperature through radiative forcing and the greenhouse effect . Reconstructions show that concentrations of in the atmosphere have varied , ranging from as high as 7,000 ppm during the Cambrian period about 500 million years ago to as low as 180 ppm during the Quaternary glaciation of the last two million years .   Carbon dioxide is an integral part of the carbon cycle , a biogeochemical cycle in which carbon is exchanged between the Earth 's oceans , soil , rocks and the biosphere . Plants and other photoautotrophs use solar energy to produce carbohydrate from atmospheric carbon dioxide and water by photosynthesis . Almost all other organisms depend on carbohydrate derived from photosynthesis as their primary source of energy and carbon compounds .   The current episode of global warming is attributed to increasing emissions of and other greenhouse gases into Earth 's atmosphere . The global annual mean concentration of in the atmosphere has increased by more than 40 % since the start of the Industrial Revolution , from 280 ppm , the level it had for the last 10,000 years leading up to the mid-18th century , to 399 ppm as of 2015 . The present concentration is the highest in at least the past 800,000 years and likely the highest in the past 20 million years . The increase has been caused by anthropogenic sources , particularly the burning of fossil fuels and deforestation . The daily average concentration of atmospheric CO2 at Mauna Loa Observatory first exceeded 400 ppm on 10 May 2013 . It is currently rising at a rate of approximately 2 ppm/year and accelerating . An estimated 30 -- 40 % of the released by humans into the atmosphere dissolves into oceans , rivers and lakes , which contributes to ocean acidification .\",\n",
       "  'negatives': ['Bhopal Badshahs ( BB ) was hockey team from Bhopal , Madhya Pradesh that competes in the World Series Hockey championship . The captain of the team is Sameer Dad , part of the Indian National Hockey Team . Bhopal Badshahs was coached by Vasudevan Bhaskaran , who led the Indian hockey team to victory in the 1980 Summer Olympics in Moscow . Badshahs defeated Chandigarh Comets in the inaugural match of 2012 World Series Hockey 4-3 . Aishbagh Stadium , Bhopal is the home ground of Bhopal Badshahs .',\n",
       "   \"The Toronto Hunt Club was established by British Army officers of the Toronto garrison ( Fort York ) in 1843 . It held gymkhana equestrian events at various sites around the city . In 1895 it acquired its first permanent home in a rural area east of the city between Kingston Road and the waterfront . In 1898 the streetcar was extended eastward to the site , and soon the area became a cottage district and then streetcar suburb of Toronto . This forced the equestrian activities to move further afield . In 1907 the horses were thus moved to a site in Thornhill ( Steeles ' Corner at Steeles Avenue and Yonge Street ) .   In 1919 the club moved to a location closer to town at Eglinton Avenue and Avenue Road . Known as the Eglinton Hunt Club , a polo arena , clubhouses and other facilities were erected . The 1930s saw the club run into financial difficulties , however . In 1939 , with the outbreak of the Second World War , the large site was purchased by the federal government and turned into a secret Royal Canadian Air Force research facility , the No. 1 Clinical Investigation Unit . Noted scientists Frederick Banting and Wilbur R. Franks were employed there , and it was at the CIU that Franks invented the anti gravity g-suit . The club was also home to RCAF No. 1 Initial Training School , a unit of the British Commonwealth Air Training Plan .   After the war it became the RCAF Staff School , and remained an officer training facility of the Canadian Forces until closed in 1994 . By 1998 the Government of Canada transferred the property to the Toronto Catholic District School Board and the Marshall McLuhan Catholic Secondary School was built there . The area surrounding the old Eglinton Hunt Club is now an established residential neighbourhood of Forest Hill .   The original Hunt Club site in Scarborough was turned into a nine-hole golf course in the 1930s , and it remains an exclusive private golfing club today .\",\n",
       "   \"`` Jam ( Turn It Up ) '' is a song by American television personality Kim Kardashian . The song features background vocals by singer-songwriter and record producer The-Dream . The song was released to iTunes on March 2 , 2011 , and half of the proceeds from the sales of the song are being donated to St. Jude Children 's Research Hospital . Shortly after the song 's release , Kardashian confirmed that she had no plans to put out a full-length album any time soon . Years later , she also admitted that she regretted recording the song .\",\n",
       "   \"Wisconsin ( -LSB- wᵻˈskɒnsᵻn -RSB- ) is a U.S. state located in the north-central United States , in the Midwest and Great Lakes regions . It is bordered by Minnesota to the west , Iowa to the southwest , Illinois to the south , Lake Michigan to the east , Michigan to the northeast , and Lake Superior to the north . Wisconsin is the 23rd largest state by total area and the 20th most populous . The state capital is Madison , and its largest city is Milwaukee , which is located on the western shore of Lake Michigan . The state is divided into 72 counties .   Wisconsin 's geography is diverse , with the Northern Highland and Western Upland along with a part of the Central Plain occupying the western part of the state and lowlands stretching to the shore of Lake Michigan . Wisconsin is second to Michigan in the length of its Great Lakes coastline .   Wisconsin is known as `` America 's Dairyland '' because it is one of the nation 's leading dairy producers , particularly famous for its cheese . Manufacturing , especially paper products , information technology ( IT ) , and tourism are also major contributors to the state 's economy .\",\n",
       "   'Fairham Brook is a 26 km tributary of the River Trent that flows through Leicestershire and Nottinghamshire in England .']}]"
      ]
     },
     "execution_count": 5,
     "metadata": {},
     "output_type": "execute_result"
    }
   ],
   "source": [
    "contrastive_pairs[0:5]"
   ]
  },
  {
   "cell_type": "code",
   "execution_count": 6,
   "id": "49721946-fff3-4690-bd92-d981cecdf62b",
   "metadata": {
    "execution": {
     "iopub.execute_input": "2025-03-02T02:31:15.452098Z",
     "iopub.status.busy": "2025-03-02T02:31:15.451971Z",
     "iopub.status.idle": "2025-03-02T02:31:15.466719Z",
     "shell.execute_reply": "2025-03-02T02:31:15.466430Z"
    },
    "papermill": {
     "duration": 0.018184,
     "end_time": "2025-03-02T02:31:15.467292",
     "exception": false,
     "start_time": "2025-03-02T02:31:15.449108",
     "status": "completed"
    },
    "tags": []
   },
   "outputs": [
    {
     "data": {
      "text/plain": [
       "0"
      ]
     },
     "execution_count": 6,
     "metadata": {},
     "output_type": "execute_result"
    }
   ],
   "source": [
    "c"
   ]
  },
  {
   "cell_type": "code",
   "execution_count": 7,
   "id": "de8ef367-dcb4-4bb6-af3a-20f190930ed1",
   "metadata": {
    "execution": {
     "iopub.execute_input": "2025-03-02T02:31:15.473971Z",
     "iopub.status.busy": "2025-03-02T02:31:15.473845Z",
     "iopub.status.idle": "2025-03-02T02:31:15.487586Z",
     "shell.execute_reply": "2025-03-02T02:31:15.487306Z"
    },
    "papermill": {
     "duration": 0.018101,
     "end_time": "2025-03-02T02:31:15.488169",
     "exception": false,
     "start_time": "2025-03-02T02:31:15.470068",
     "status": "completed"
    },
    "tags": []
   },
   "outputs": [
    {
     "data": {
      "text/plain": [
       "1535"
      ]
     },
     "execution_count": 7,
     "metadata": {},
     "output_type": "execute_result"
    }
   ],
   "source": [
    "len(contrastive_pairs)"
   ]
  },
  {
   "cell_type": "code",
   "execution_count": 8,
   "id": "8ade92f9-e3df-4d0a-b849-b1a721e18cf6",
   "metadata": {
    "execution": {
     "iopub.execute_input": "2025-03-02T02:31:15.494443Z",
     "iopub.status.busy": "2025-03-02T02:31:15.494089Z",
     "iopub.status.idle": "2025-03-02T02:31:15.507572Z",
     "shell.execute_reply": "2025-03-02T02:31:15.507298Z"
    },
    "papermill": {
     "duration": 0.017069,
     "end_time": "2025-03-02T02:31:15.508126",
     "exception": false,
     "start_time": "2025-03-02T02:31:15.491057",
     "status": "completed"
    },
    "tags": []
   },
   "outputs": [
    {
     "data": {
      "text/plain": [
       "1535"
      ]
     },
     "execution_count": 8,
     "metadata": {},
     "output_type": "execute_result"
    }
   ],
   "source": [
    "len(qrels)"
   ]
  },
  {
   "cell_type": "code",
   "execution_count": 9,
   "id": "6b97f7b4-f007-41f6-bfbb-1b9b01665e9d",
   "metadata": {
    "execution": {
     "iopub.execute_input": "2025-03-02T02:31:15.514583Z",
     "iopub.status.busy": "2025-03-02T02:31:15.514277Z",
     "iopub.status.idle": "2025-03-02T02:31:21.218029Z",
     "shell.execute_reply": "2025-03-02T02:31:21.217468Z"
    },
    "papermill": {
     "duration": 5.707992,
     "end_time": "2025-03-02T02:31:21.219102",
     "exception": false,
     "start_time": "2025-03-02T02:31:15.511110",
     "status": "completed"
    },
    "tags": []
   },
   "outputs": [],
   "source": [
    "from torch.utils.data import DataLoader"
   ]
  },
  {
   "cell_type": "code",
   "execution_count": 10,
   "id": "a415b29a-a543-4679-8f78-44f715b3067d",
   "metadata": {
    "execution": {
     "iopub.execute_input": "2025-03-02T02:31:21.228912Z",
     "iopub.status.busy": "2025-03-02T02:31:21.228555Z",
     "iopub.status.idle": "2025-03-02T02:31:21.231951Z",
     "shell.execute_reply": "2025-03-02T02:31:21.231639Z"
    },
    "papermill": {
     "duration": 0.007748,
     "end_time": "2025-03-02T02:31:21.232528",
     "exception": false,
     "start_time": "2025-03-02T02:31:21.224780",
     "status": "completed"
    },
    "tags": []
   },
   "outputs": [],
   "source": [
    "class ContrastiveDataset:\n",
    "    def __init__(self, pairs):\n",
    "        self.pairs = pairs\n",
    "\n",
    "    def __len__(self):\n",
    "        return len(self.pairs)\n",
    "\n",
    "    def __getitem__(self, idx):\n",
    "        item = self.pairs[idx]\n",
    "        return item[\"anchor\"], item[\"positive\"], item[\"negatives\"]"
   ]
  },
  {
   "cell_type": "code",
   "execution_count": 11,
   "id": "a39efeab-fd20-411a-80c5-315f362e00d2",
   "metadata": {
    "execution": {
     "iopub.execute_input": "2025-03-02T02:31:21.238752Z",
     "iopub.status.busy": "2025-03-02T02:31:21.238624Z",
     "iopub.status.idle": "2025-03-02T02:31:21.254583Z",
     "shell.execute_reply": "2025-03-02T02:31:21.254281Z"
    },
    "papermill": {
     "duration": 0.0197,
     "end_time": "2025-03-02T02:31:21.255141",
     "exception": false,
     "start_time": "2025-03-02T02:31:21.235441",
     "status": "completed"
    },
    "tags": []
   },
   "outputs": [],
   "source": [
    "contrastive_dataset = ContrastiveDataset(contrastive_pairs)"
   ]
  },
  {
   "cell_type": "code",
   "execution_count": 12,
   "id": "d103bbfa-895a-4020-a7e5-21de659f27dc",
   "metadata": {
    "execution": {
     "iopub.execute_input": "2025-03-02T02:31:21.261711Z",
     "iopub.status.busy": "2025-03-02T02:31:21.261582Z",
     "iopub.status.idle": "2025-03-02T02:31:21.276049Z",
     "shell.execute_reply": "2025-03-02T02:31:21.275731Z"
    },
    "papermill": {
     "duration": 0.018496,
     "end_time": "2025-03-02T02:31:21.276594",
     "exception": false,
     "start_time": "2025-03-02T02:31:21.258098",
     "status": "completed"
    },
    "tags": []
   },
   "outputs": [],
   "source": [
    "data_loader = DataLoader(contrastive_dataset, batch_size=32, shuffle=True)"
   ]
  },
  {
   "cell_type": "code",
   "execution_count": 13,
   "id": "c8b0277f-f526-4087-82da-c4cdd65d32da",
   "metadata": {
    "execution": {
     "iopub.execute_input": "2025-03-02T02:31:21.283067Z",
     "iopub.status.busy": "2025-03-02T02:31:21.282805Z",
     "iopub.status.idle": "2025-03-02T02:31:21.297373Z",
     "shell.execute_reply": "2025-03-02T02:31:21.297074Z"
    },
    "papermill": {
     "duration": 0.018391,
     "end_time": "2025-03-02T02:31:21.297952",
     "exception": false,
     "start_time": "2025-03-02T02:31:21.279561",
     "status": "completed"
    },
    "tags": []
   },
   "outputs": [
    {
     "data": {
      "text/plain": [
       "48"
      ]
     },
     "execution_count": 13,
     "metadata": {},
     "output_type": "execute_result"
    }
   ],
   "source": [
    "len(data_loader)"
   ]
  },
  {
   "cell_type": "code",
   "execution_count": 14,
   "id": "e15526a4-b3fe-435b-91c9-ad4064562f0f",
   "metadata": {
    "execution": {
     "iopub.execute_input": "2025-03-02T02:31:21.304891Z",
     "iopub.status.busy": "2025-03-02T02:31:21.304573Z",
     "iopub.status.idle": "2025-03-02T02:31:43.173421Z",
     "shell.execute_reply": "2025-03-02T02:31:43.172969Z"
    },
    "papermill": {
     "duration": 21.873368,
     "end_time": "2025-03-02T02:31:43.174351",
     "exception": false,
     "start_time": "2025-03-02T02:31:21.300983",
     "status": "completed"
    },
    "tags": []
   },
   "outputs": [
    {
     "name": "stderr",
     "output_type": "stream",
     "text": [
      "/tmp/ipykernel_202444/3105893467.py:3: FutureWarning: You are using `torch.load` with `weights_only=False` (the current default value), which uses the default pickle module implicitly. It is possible to construct malicious pickle data which will execute arbitrary code during unpickling (See https://github.com/pytorch/pytorch/blob/main/SECURITY.md#untrusted-models for more details). In a future release, the default value for `weights_only` will be flipped to `True`. This limits the functions that could be executed during unpickling. Arbitrary objects will no longer be allowed to be loaded via this mode unless they are explicitly allowlisted by the user via `torch.serialization.add_safe_globals`. We recommend you start setting `weights_only=True` for any use case where you don't have full control of the loaded file. Please open an issue on GitHub for any issues related to this experimental feature.\n",
      "  lora_model = torch.load(file_path)\n"
     ]
    }
   ],
   "source": [
    "import torch\n",
    "file_path=\"/dss/dsshome1/07/ra65bex2/srawat/contrastive_learning/v1.1/app_baseline/checkpoint_epoch_3.pth\"\n",
    "lora_model = torch.load(file_path)"
   ]
  },
  {
   "cell_type": "code",
   "execution_count": 15,
   "id": "9999e628-5966-4dda-b5c5-c0d762fce27d",
   "metadata": {
    "execution": {
     "iopub.execute_input": "2025-03-02T02:31:43.183661Z",
     "iopub.status.busy": "2025-03-02T02:31:43.183415Z",
     "iopub.status.idle": "2025-03-02T02:31:43.188502Z",
     "shell.execute_reply": "2025-03-02T02:31:43.188198Z"
    },
    "papermill": {
     "duration": 0.0092,
     "end_time": "2025-03-02T02:31:43.189090",
     "exception": false,
     "start_time": "2025-03-02T02:31:43.179890",
     "status": "completed"
    },
    "tags": []
   },
   "outputs": [],
   "source": [
    "device = torch.device('cuda' if torch.cuda.is_available() else 'cpu')\n",
    "lora_model = lora_model.to(device)"
   ]
  },
  {
   "cell_type": "code",
   "execution_count": 16,
   "id": "7e6a3a61-8db0-43db-b575-6399f8515950",
   "metadata": {
    "execution": {
     "iopub.execute_input": "2025-03-02T02:31:43.195700Z",
     "iopub.status.busy": "2025-03-02T02:31:43.195572Z",
     "iopub.status.idle": "2025-03-02T02:31:43.552736Z",
     "shell.execute_reply": "2025-03-02T02:31:43.552186Z"
    },
    "papermill": {
     "duration": 0.361249,
     "end_time": "2025-03-02T02:31:43.553432",
     "exception": false,
     "start_time": "2025-03-02T02:31:43.192183",
     "status": "completed"
    },
    "tags": []
   },
   "outputs": [],
   "source": [
    "from transformers import AutoTokenizer, AutoModel\n",
    "tokenizer = AutoTokenizer.from_pretrained(\"bert-base-uncased\")"
   ]
  },
  {
   "cell_type": "code",
   "execution_count": 17,
   "id": "68ac4919-76f1-4349-a314-4b1061126655",
   "metadata": {
    "execution": {
     "iopub.execute_input": "2025-03-02T02:31:43.560335Z",
     "iopub.status.busy": "2025-03-02T02:31:43.560176Z",
     "iopub.status.idle": "2025-03-02T02:31:43.562803Z",
     "shell.execute_reply": "2025-03-02T02:31:43.562507Z"
    },
    "papermill": {
     "duration": 0.006733,
     "end_time": "2025-03-02T02:31:43.563369",
     "exception": false,
     "start_time": "2025-03-02T02:31:43.556636",
     "status": "completed"
    },
    "tags": []
   },
   "outputs": [],
   "source": [
    "def cosine_distance(x, y):\n",
    "    return 1 - torch.nn.functional.cosine_similarity(x, y, dim=-1)"
   ]
  },
  {
   "cell_type": "code",
   "execution_count": 18,
   "id": "990f63bd-4d48-4f58-a001-3b3250f65312",
   "metadata": {
    "execution": {
     "iopub.execute_input": "2025-03-02T02:31:43.569994Z",
     "iopub.status.busy": "2025-03-02T02:31:43.569868Z",
     "iopub.status.idle": "2025-03-02T02:31:43.689297Z",
     "shell.execute_reply": "2025-03-02T02:31:43.688982Z"
    },
    "papermill": {
     "duration": 0.123416,
     "end_time": "2025-03-02T02:31:43.689884",
     "exception": false,
     "start_time": "2025-03-02T02:31:43.566468",
     "status": "completed"
    },
    "tags": []
   },
   "outputs": [],
   "source": [
    "def evaluate_mrr(model, data_loader_val, distance_fn):\n",
    "    model.eval()\n",
    "\n",
    "    total_rr = 0.0\n",
    "    num_queries = 0\n",
    "\n",
    "    with torch.no_grad():\n",
    "        for batch in data_loader_val:\n",
    "            anchor_text = batch[0]\n",
    "            positive_text = batch[1]\n",
    "            negative_texts = batch[2]\n",
    "\n",
    "            anchor_input = tokenizer(anchor_text, return_tensors='pt', padding=True, truncation=True, max_length=512).to(device)\n",
    "            positive_input = tokenizer(positive_text, return_tensors='pt', padding=True, truncation=True, max_length=512).to(device)\n",
    "\n",
    "            anchor_embedding = model(**anchor_input).last_hidden_state[:, 0, :]\n",
    "            positive_embedding = model(**positive_input).last_hidden_state[:, 0, :]\n",
    "            negative_embedding = [model(**tokenizer(neg, return_tensors='pt', padding=True, truncation=True, max_length=512).to(device)).last_hidden_state[:, 0, :] for neg in negative_texts]\n",
    "\n",
    "            pos_dist = distance_fn(anchor_embedding, positive_embedding)\n",
    "            neg_dist = torch.stack([distance_fn(anchor_embedding, neg) for neg in negative_embedding], dim=-1)\n",
    "            all_similarities=torch.cat([-pos_dist.unsqueeze(1), -neg_dist], dim=1)\n",
    "\n",
    "            sorted_similarities, sorted_indices = torch.sort(all_similarities, dim=1, descending=True)\n",
    "\n",
    "            # Find the rank of the first relevant (positive) document\n",
    "            positive_rank = (sorted_indices == 0).nonzero(as_tuple=True)[1] + 1  # +1 to make rank 1-based\n",
    "            total_rr += torch.sum(1.0 / positive_rank.float()).item()  # Reciprocal rank\n",
    "            num_queries += len(positive_rank)\n",
    "\n",
    "    mrr = total_rr / num_queries\n",
    "    return mrr"
   ]
  },
  {
   "cell_type": "code",
   "execution_count": 19,
   "id": "534a9ec5-4211-4cb6-81f1-fb8a30caff92",
   "metadata": {
    "execution": {
     "iopub.execute_input": "2025-03-02T02:31:43.697327Z",
     "iopub.status.busy": "2025-03-02T02:31:43.697201Z",
     "iopub.status.idle": "2025-03-02T02:32:35.474663Z",
     "shell.execute_reply": "2025-03-02T02:32:35.474067Z"
    },
    "papermill": {
     "duration": 51.786556,
     "end_time": "2025-03-02T02:32:35.479981",
     "exception": false,
     "start_time": "2025-03-02T02:31:43.693425",
     "status": "completed"
    },
    "tags": []
   },
   "outputs": [
    {
     "name": "stdout",
     "output_type": "stream",
     "text": [
      "0.40052117835426954\n"
     ]
    }
   ],
   "source": [
    "mrr_validation = evaluate_mrr(lora_model, data_loader, cosine_distance)\n",
    "print(mrr_validation)"
   ]
  },
  {
   "cell_type": "code",
   "execution_count": null,
   "id": "f61bbd65-41c9-4ac7-80ef-ba4a4fb02d45",
   "metadata": {
    "papermill": {
     "duration": 0.003165,
     "end_time": "2025-03-02T02:32:35.486493",
     "exception": false,
     "start_time": "2025-03-02T02:32:35.483328",
     "status": "completed"
    },
    "tags": []
   },
   "outputs": [],
   "source": []
  }
 ],
 "metadata": {
  "kernelspec": {
   "display_name": "Python (myenv)",
   "language": "python",
   "name": "myenv"
  },
  "language_info": {
   "codemirror_mode": {
    "name": "ipython",
    "version": 3
   },
   "file_extension": ".py",
   "mimetype": "text/x-python",
   "name": "python",
   "nbconvert_exporter": "python",
   "pygments_lexer": "ipython3",
   "version": "3.12.7"
  },
  "papermill": {
   "default_parameters": {},
   "duration": 3194.00797,
   "end_time": "2025-03-02T02:32:39.006306",
   "environment_variables": {},
   "exception": null,
   "input_path": "climate_fever.ipynb",
   "output_path": "climate_fever_output.ipynb",
   "parameters": {},
   "start_time": "2025-03-02T01:39:24.998336",
   "version": "2.6.0"
  },
  "widgets": {
   "application/vnd.jupyter.widget-state+json": {
    "state": {
     "3505487a7634479b8d268b25aaac700d": {
      "model_module": "@jupyter-widgets/base",
      "model_module_version": "2.0.0",
      "model_name": "LayoutModel",
      "state": {
       "_model_module": "@jupyter-widgets/base",
       "_model_module_version": "2.0.0",
       "_model_name": "LayoutModel",
       "_view_count": null,
       "_view_module": "@jupyter-widgets/base",
       "_view_module_version": "2.0.0",
       "_view_name": "LayoutView",
       "align_content": null,
       "align_items": null,
       "align_self": null,
       "border_bottom": null,
       "border_left": null,
       "border_right": null,
       "border_top": null,
       "bottom": null,
       "display": null,
       "flex": null,
       "flex_flow": null,
       "grid_area": null,
       "grid_auto_columns": null,
       "grid_auto_flow": null,
       "grid_auto_rows": null,
       "grid_column": null,
       "grid_gap": null,
       "grid_row": null,
       "grid_template_areas": null,
       "grid_template_columns": null,
       "grid_template_rows": null,
       "height": null,
       "justify_content": null,
       "justify_items": null,
       "left": null,
       "margin": null,
       "max_height": null,
       "max_width": null,
       "min_height": null,
       "min_width": null,
       "object_fit": null,
       "object_position": null,
       "order": null,
       "overflow": null,
       "padding": null,
       "right": null,
       "top": null,
       "visibility": null,
       "width": null
      }
     },
     "455058e9a974498aae9a40cdb1f0cc2d": {
      "model_module": "@jupyter-widgets/base",
      "model_module_version": "2.0.0",
      "model_name": "LayoutModel",
      "state": {
       "_model_module": "@jupyter-widgets/base",
       "_model_module_version": "2.0.0",
       "_model_name": "LayoutModel",
       "_view_count": null,
       "_view_module": "@jupyter-widgets/base",
       "_view_module_version": "2.0.0",
       "_view_name": "LayoutView",
       "align_content": null,
       "align_items": null,
       "align_self": null,
       "border_bottom": null,
       "border_left": null,
       "border_right": null,
       "border_top": null,
       "bottom": null,
       "display": null,
       "flex": null,
       "flex_flow": null,
       "grid_area": null,
       "grid_auto_columns": null,
       "grid_auto_flow": null,
       "grid_auto_rows": null,
       "grid_column": null,
       "grid_gap": null,
       "grid_row": null,
       "grid_template_areas": null,
       "grid_template_columns": null,
       "grid_template_rows": null,
       "height": null,
       "justify_content": null,
       "justify_items": null,
       "left": null,
       "margin": null,
       "max_height": null,
       "max_width": null,
       "min_height": null,
       "min_width": null,
       "object_fit": null,
       "object_position": null,
       "order": null,
       "overflow": null,
       "padding": null,
       "right": null,
       "top": null,
       "visibility": null,
       "width": null
      }
     },
     "6587b477ad8945e0b01a7b441efe732f": {
      "model_module": "@jupyter-widgets/controls",
      "model_module_version": "2.0.0",
      "model_name": "HTMLModel",
      "state": {
       "_dom_classes": [],
       "_model_module": "@jupyter-widgets/controls",
       "_model_module_version": "2.0.0",
       "_model_name": "HTMLModel",
       "_view_count": null,
       "_view_module": "@jupyter-widgets/controls",
       "_view_module_version": "2.0.0",
       "_view_name": "HTMLView",
       "description": "",
       "description_allow_html": false,
       "layout": "IPY_MODEL_455058e9a974498aae9a40cdb1f0cc2d",
       "placeholder": "​",
       "style": "IPY_MODEL_a148c72521104c1090aa9de9c4c90045",
       "tabbable": null,
       "tooltip": null,
       "value": "100%"
      }
     },
     "6c30f3c8ba794a63acd5276f677b1995": {
      "model_module": "@jupyter-widgets/controls",
      "model_module_version": "2.0.0",
      "model_name": "HTMLModel",
      "state": {
       "_dom_classes": [],
       "_model_module": "@jupyter-widgets/controls",
       "_model_module_version": "2.0.0",
       "_model_name": "HTMLModel",
       "_view_count": null,
       "_view_module": "@jupyter-widgets/controls",
       "_view_module_version": "2.0.0",
       "_view_name": "HTMLView",
       "description": "",
       "description_allow_html": false,
       "layout": "IPY_MODEL_3505487a7634479b8d268b25aaac700d",
       "placeholder": "​",
       "style": "IPY_MODEL_d955b00bcaf9466e89e7ea93ba49b806",
       "tabbable": null,
       "tooltip": null,
       "value": " 5416593/5416593 [00:27&lt;00:00, 200887.25it/s]"
      }
     },
     "a148c72521104c1090aa9de9c4c90045": {
      "model_module": "@jupyter-widgets/controls",
      "model_module_version": "2.0.0",
      "model_name": "HTMLStyleModel",
      "state": {
       "_model_module": "@jupyter-widgets/controls",
       "_model_module_version": "2.0.0",
       "_model_name": "HTMLStyleModel",
       "_view_count": null,
       "_view_module": "@jupyter-widgets/base",
       "_view_module_version": "2.0.0",
       "_view_name": "StyleView",
       "background": null,
       "description_width": "",
       "font_size": null,
       "text_color": null
      }
     },
     "b1e0073f0b2f4abfaac8a02e590773e7": {
      "model_module": "@jupyter-widgets/controls",
      "model_module_version": "2.0.0",
      "model_name": "FloatProgressModel",
      "state": {
       "_dom_classes": [],
       "_model_module": "@jupyter-widgets/controls",
       "_model_module_version": "2.0.0",
       "_model_name": "FloatProgressModel",
       "_view_count": null,
       "_view_module": "@jupyter-widgets/controls",
       "_view_module_version": "2.0.0",
       "_view_name": "ProgressView",
       "bar_style": "success",
       "description": "",
       "description_allow_html": false,
       "layout": "IPY_MODEL_c8f368da89b04ee781d8a0c323e22f42",
       "max": 5416593.0,
       "min": 0.0,
       "orientation": "horizontal",
       "style": "IPY_MODEL_f4c1576655704faa99234e1283e7cba6",
       "tabbable": null,
       "tooltip": null,
       "value": 5416593.0
      }
     },
     "be621d31ee3f4295b6c493ccdcbf9b33": {
      "model_module": "@jupyter-widgets/controls",
      "model_module_version": "2.0.0",
      "model_name": "HBoxModel",
      "state": {
       "_dom_classes": [],
       "_model_module": "@jupyter-widgets/controls",
       "_model_module_version": "2.0.0",
       "_model_name": "HBoxModel",
       "_view_count": null,
       "_view_module": "@jupyter-widgets/controls",
       "_view_module_version": "2.0.0",
       "_view_name": "HBoxView",
       "box_style": "",
       "children": [
        "IPY_MODEL_6587b477ad8945e0b01a7b441efe732f",
        "IPY_MODEL_b1e0073f0b2f4abfaac8a02e590773e7",
        "IPY_MODEL_6c30f3c8ba794a63acd5276f677b1995"
       ],
       "layout": "IPY_MODEL_c98de9de2ba540a38e70f420ce8b641e",
       "tabbable": null,
       "tooltip": null
      }
     },
     "c8f368da89b04ee781d8a0c323e22f42": {
      "model_module": "@jupyter-widgets/base",
      "model_module_version": "2.0.0",
      "model_name": "LayoutModel",
      "state": {
       "_model_module": "@jupyter-widgets/base",
       "_model_module_version": "2.0.0",
       "_model_name": "LayoutModel",
       "_view_count": null,
       "_view_module": "@jupyter-widgets/base",
       "_view_module_version": "2.0.0",
       "_view_name": "LayoutView",
       "align_content": null,
       "align_items": null,
       "align_self": null,
       "border_bottom": null,
       "border_left": null,
       "border_right": null,
       "border_top": null,
       "bottom": null,
       "display": null,
       "flex": null,
       "flex_flow": null,
       "grid_area": null,
       "grid_auto_columns": null,
       "grid_auto_flow": null,
       "grid_auto_rows": null,
       "grid_column": null,
       "grid_gap": null,
       "grid_row": null,
       "grid_template_areas": null,
       "grid_template_columns": null,
       "grid_template_rows": null,
       "height": null,
       "justify_content": null,
       "justify_items": null,
       "left": null,
       "margin": null,
       "max_height": null,
       "max_width": null,
       "min_height": null,
       "min_width": null,
       "object_fit": null,
       "object_position": null,
       "order": null,
       "overflow": null,
       "padding": null,
       "right": null,
       "top": null,
       "visibility": null,
       "width": null
      }
     },
     "c98de9de2ba540a38e70f420ce8b641e": {
      "model_module": "@jupyter-widgets/base",
      "model_module_version": "2.0.0",
      "model_name": "LayoutModel",
      "state": {
       "_model_module": "@jupyter-widgets/base",
       "_model_module_version": "2.0.0",
       "_model_name": "LayoutModel",
       "_view_count": null,
       "_view_module": "@jupyter-widgets/base",
       "_view_module_version": "2.0.0",
       "_view_name": "LayoutView",
       "align_content": null,
       "align_items": null,
       "align_self": null,
       "border_bottom": null,
       "border_left": null,
       "border_right": null,
       "border_top": null,
       "bottom": null,
       "display": null,
       "flex": null,
       "flex_flow": null,
       "grid_area": null,
       "grid_auto_columns": null,
       "grid_auto_flow": null,
       "grid_auto_rows": null,
       "grid_column": null,
       "grid_gap": null,
       "grid_row": null,
       "grid_template_areas": null,
       "grid_template_columns": null,
       "grid_template_rows": null,
       "height": null,
       "justify_content": null,
       "justify_items": null,
       "left": null,
       "margin": null,
       "max_height": null,
       "max_width": null,
       "min_height": null,
       "min_width": null,
       "object_fit": null,
       "object_position": null,
       "order": null,
       "overflow": null,
       "padding": null,
       "right": null,
       "top": null,
       "visibility": null,
       "width": null
      }
     },
     "d955b00bcaf9466e89e7ea93ba49b806": {
      "model_module": "@jupyter-widgets/controls",
      "model_module_version": "2.0.0",
      "model_name": "HTMLStyleModel",
      "state": {
       "_model_module": "@jupyter-widgets/controls",
       "_model_module_version": "2.0.0",
       "_model_name": "HTMLStyleModel",
       "_view_count": null,
       "_view_module": "@jupyter-widgets/base",
       "_view_module_version": "2.0.0",
       "_view_name": "StyleView",
       "background": null,
       "description_width": "",
       "font_size": null,
       "text_color": null
      }
     },
     "f4c1576655704faa99234e1283e7cba6": {
      "model_module": "@jupyter-widgets/controls",
      "model_module_version": "2.0.0",
      "model_name": "ProgressStyleModel",
      "state": {
       "_model_module": "@jupyter-widgets/controls",
       "_model_module_version": "2.0.0",
       "_model_name": "ProgressStyleModel",
       "_view_count": null,
       "_view_module": "@jupyter-widgets/base",
       "_view_module_version": "2.0.0",
       "_view_name": "StyleView",
       "bar_color": null,
       "description_width": ""
      }
     }
    },
    "version_major": 2,
    "version_minor": 0
   }
  }
 },
 "nbformat": 4,
 "nbformat_minor": 5
}