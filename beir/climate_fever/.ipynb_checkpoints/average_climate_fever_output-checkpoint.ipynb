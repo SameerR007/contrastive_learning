{
 "cells": [
  {
   "cell_type": "code",
   "execution_count": 1,
   "id": "f6d4b65f-fa6b-4517-8694-8627bc49833b",
   "metadata": {
    "execution": {
     "iopub.execute_input": "2025-03-02T01:39:55.440783Z",
     "iopub.status.busy": "2025-03-02T01:39:55.440547Z",
     "iopub.status.idle": "2025-03-02T01:39:55.501163Z",
     "shell.execute_reply": "2025-03-02T01:39:55.500833Z"
    },
    "papermill": {
     "duration": 0.064556,
     "end_time": "2025-03-02T01:39:55.501782",
     "exception": false,
     "start_time": "2025-03-02T01:39:55.437226",
     "status": "completed"
    },
    "tags": []
   },
   "outputs": [
    {
     "name": "stderr",
     "output_type": "stream",
     "text": [
      "/dss/dsshome1/07/ra65bex2/srawat/myenv/lib/python3.12/site-packages/beir/datasets/data_loader.py:8: TqdmExperimentalWarning: Using `tqdm.autonotebook.tqdm` in notebook mode. Use `tqdm.tqdm` instead to force console mode (e.g. in jupyter console)\n",
      "  from tqdm.autonotebook import tqdm\n"
     ]
    }
   ],
   "source": [
    "from beir.datasets.data_loader import GenericDataLoader"
   ]
  },
  {
   "cell_type": "code",
   "execution_count": 2,
   "id": "a91d6914-e301-422c-b839-1fafeb1e8fa4",
   "metadata": {
    "execution": {
     "iopub.execute_input": "2025-03-02T01:39:55.507094Z",
     "iopub.status.busy": "2025-03-02T01:39:55.506865Z",
     "iopub.status.idle": "2025-03-02T01:39:55.508904Z",
     "shell.execute_reply": "2025-03-02T01:39:55.508596Z"
    },
    "papermill": {
     "duration": 0.005142,
     "end_time": "2025-03-02T01:39:55.509491",
     "exception": false,
     "start_time": "2025-03-02T01:39:55.504349",
     "status": "completed"
    },
    "tags": []
   },
   "outputs": [],
   "source": [
    "data_path = \"/dss/dsshome1/07/ra65bex2/srawat/climate-fever/climate-fever\""
   ]
  },
  {
   "cell_type": "code",
   "execution_count": 3,
   "id": "e4d8253f-e815-4716-a5a4-27ab92145e0b",
   "metadata": {
    "execution": {
     "iopub.execute_input": "2025-03-02T01:39:55.514391Z",
     "iopub.status.busy": "2025-03-02T01:39:55.514165Z",
     "iopub.status.idle": "2025-03-02T01:39:55.532511Z",
     "shell.execute_reply": "2025-03-02T01:39:55.532222Z"
    },
    "papermill": {
     "duration": 0.02133,
     "end_time": "2025-03-02T01:39:55.533071",
     "exception": false,
     "start_time": "2025-03-02T01:39:55.511741",
     "status": "completed"
    },
    "tags": []
   },
   "outputs": [
    {
     "data": {
      "text/plain": [
       "'/dss/dsshome1/07/ra65bex2/srawat/climate-fever/climate-fever'"
      ]
     },
     "execution_count": 3,
     "metadata": {},
     "output_type": "execute_result"
    }
   ],
   "source": [
    "data_path"
   ]
  },
  {
   "cell_type": "code",
   "execution_count": 4,
   "id": "41e17333-2c34-4b7b-91f6-3cbd3972f0d6",
   "metadata": {
    "execution": {
     "iopub.execute_input": "2025-03-02T01:39:55.538172Z",
     "iopub.status.busy": "2025-03-02T01:39:55.537955Z",
     "iopub.status.idle": "2025-03-02T01:40:22.943887Z",
     "shell.execute_reply": "2025-03-02T01:40:22.943378Z"
    },
    "papermill": {
     "duration": 27.409359,
     "end_time": "2025-03-02T01:40:22.944788",
     "exception": false,
     "start_time": "2025-03-02T01:39:55.535429",
     "status": "completed"
    },
    "tags": []
   },
   "outputs": [
    {
     "data": {
      "application/vnd.jupyter.widget-view+json": {
       "model_id": "b2026c6d5203432594c65b906b7c0bda",
       "version_major": 2,
       "version_minor": 0
      },
      "text/plain": [
       "  0%|          | 0/5416593 [00:00<?, ?it/s]"
      ]
     },
     "metadata": {},
     "output_type": "display_data"
    }
   ],
   "source": [
    "corpus, queries, qrels = GenericDataLoader(data_path).load(split=\"test\")"
   ]
  },
  {
   "cell_type": "code",
   "execution_count": 5,
   "id": "a29044d5-3952-4f3d-aa43-e1efd34fcad3",
   "metadata": {
    "execution": {
     "iopub.execute_input": "2025-03-02T01:40:22.955566Z",
     "iopub.status.busy": "2025-03-02T01:40:22.955354Z",
     "iopub.status.idle": "2025-03-02T02:30:43.952801Z",
     "shell.execute_reply": "2025-03-02T02:30:43.952056Z"
    },
    "papermill": {
     "duration": 3021.00214,
     "end_time": "2025-03-02T02:30:43.953737",
     "exception": false,
     "start_time": "2025-03-02T01:40:22.951597",
     "status": "completed"
    },
    "tags": []
   },
   "outputs": [],
   "source": [
    "contrastive_pairs=[]\n",
    "import random\n",
    "c=0\n",
    "for query_id, relevant_docs in qrels.items():\n",
    "    try:\n",
    "        query_text = queries[query_id]\n",
    "        for doc_id in relevant_docs:\n",
    "            positive = corpus[doc_id][\"text\"]\n",
    "        #print(relevant_docs)\n",
    "        positive_doc_ids = set(relevant_docs)\n",
    "        all_doc_ids = set(corpus.keys())\n",
    "        negative_doc_ids = all_doc_ids - positive_doc_ids\n",
    "        negative_doc_ids=list(negative_doc_ids)\n",
    "        negative_doc_samples = random.sample(negative_doc_ids, k=5)\n",
    "        negatives=[]\n",
    "        for neg_doc_id in negative_doc_samples:\n",
    "            negative_doc_text = corpus[neg_doc_id][\"text\"]\n",
    "            negatives.append(negative_doc_text)\n",
    "        contrastive_pairs.append({\n",
    "            \"anchor\": query_text,\n",
    "            \"positive\": positive,\n",
    "            \"negatives\": negatives\n",
    "        })\n",
    "    except:\n",
    "        c=c+1"
   ]
  },
  {
   "cell_type": "code",
   "execution_count": 6,
   "id": "49721946-fff3-4690-bd92-d981cecdf62b",
   "metadata": {
    "execution": {
     "iopub.execute_input": "2025-03-02T02:30:43.975826Z",
     "iopub.status.busy": "2025-03-02T02:30:43.975404Z",
     "iopub.status.idle": "2025-03-02T02:30:43.979126Z",
     "shell.execute_reply": "2025-03-02T02:30:43.978772Z"
    },
    "papermill": {
     "duration": 0.007254,
     "end_time": "2025-03-02T02:30:43.979692",
     "exception": false,
     "start_time": "2025-03-02T02:30:43.972438",
     "status": "completed"
    },
    "tags": []
   },
   "outputs": [
    {
     "data": {
      "text/plain": [
       "0"
      ]
     },
     "execution_count": 6,
     "metadata": {},
     "output_type": "execute_result"
    }
   ],
   "source": [
    "c"
   ]
  },
  {
   "cell_type": "code",
   "execution_count": 7,
   "id": "de8ef367-dcb4-4bb6-af3a-20f190930ed1",
   "metadata": {
    "execution": {
     "iopub.execute_input": "2025-03-02T02:30:43.986436Z",
     "iopub.status.busy": "2025-03-02T02:30:43.986309Z",
     "iopub.status.idle": "2025-03-02T02:30:44.070431Z",
     "shell.execute_reply": "2025-03-02T02:30:44.070091Z"
    },
    "papermill": {
     "duration": 0.087469,
     "end_time": "2025-03-02T02:30:44.070987",
     "exception": false,
     "start_time": "2025-03-02T02:30:43.983518",
     "status": "completed"
    },
    "tags": []
   },
   "outputs": [
    {
     "data": {
      "text/plain": [
       "1535"
      ]
     },
     "execution_count": 7,
     "metadata": {},
     "output_type": "execute_result"
    }
   ],
   "source": [
    "len(contrastive_pairs)"
   ]
  },
  {
   "cell_type": "code",
   "execution_count": 8,
   "id": "8ade92f9-e3df-4d0a-b849-b1a721e18cf6",
   "metadata": {
    "execution": {
     "iopub.execute_input": "2025-03-02T02:30:44.076764Z",
     "iopub.status.busy": "2025-03-02T02:30:44.076637Z",
     "iopub.status.idle": "2025-03-02T02:30:44.091701Z",
     "shell.execute_reply": "2025-03-02T02:30:44.091369Z"
    },
    "papermill": {
     "duration": 0.018628,
     "end_time": "2025-03-02T02:30:44.092255",
     "exception": false,
     "start_time": "2025-03-02T02:30:44.073627",
     "status": "completed"
    },
    "tags": []
   },
   "outputs": [
    {
     "data": {
      "text/plain": [
       "1535"
      ]
     },
     "execution_count": 8,
     "metadata": {},
     "output_type": "execute_result"
    }
   ],
   "source": [
    "len(qrels)"
   ]
  },
  {
   "cell_type": "code",
   "execution_count": 9,
   "id": "6b97f7b4-f007-41f6-bfbb-1b9b01665e9d",
   "metadata": {
    "execution": {
     "iopub.execute_input": "2025-03-02T02:30:44.098139Z",
     "iopub.status.busy": "2025-03-02T02:30:44.097821Z",
     "iopub.status.idle": "2025-03-02T02:31:01.724626Z",
     "shell.execute_reply": "2025-03-02T02:31:01.724087Z"
    },
    "papermill": {
     "duration": 17.630405,
     "end_time": "2025-03-02T02:31:01.725378",
     "exception": false,
     "start_time": "2025-03-02T02:30:44.094973",
     "status": "completed"
    },
    "tags": []
   },
   "outputs": [],
   "source": [
    "from torch.utils.data import DataLoader"
   ]
  },
  {
   "cell_type": "code",
   "execution_count": 10,
   "id": "a415b29a-a543-4679-8f78-44f715b3067d",
   "metadata": {
    "execution": {
     "iopub.execute_input": "2025-03-02T02:31:01.733386Z",
     "iopub.status.busy": "2025-03-02T02:31:01.733193Z",
     "iopub.status.idle": "2025-03-02T02:31:01.736202Z",
     "shell.execute_reply": "2025-03-02T02:31:01.735844Z"
    },
    "papermill": {
     "duration": 0.006748,
     "end_time": "2025-03-02T02:31:01.736775",
     "exception": false,
     "start_time": "2025-03-02T02:31:01.730027",
     "status": "completed"
    },
    "tags": []
   },
   "outputs": [],
   "source": [
    "class ContrastiveDataset:\n",
    "    def __init__(self, pairs):\n",
    "        self.pairs = pairs\n",
    "\n",
    "    def __len__(self):\n",
    "        return len(self.pairs)\n",
    "\n",
    "    def __getitem__(self, idx):\n",
    "        item = self.pairs[idx]\n",
    "        return item[\"anchor\"], item[\"positive\"], item[\"negatives\"]"
   ]
  },
  {
   "cell_type": "code",
   "execution_count": 11,
   "id": "a39efeab-fd20-411a-80c5-315f362e00d2",
   "metadata": {
    "execution": {
     "iopub.execute_input": "2025-03-02T02:31:01.742576Z",
     "iopub.status.busy": "2025-03-02T02:31:01.742312Z",
     "iopub.status.idle": "2025-03-02T02:31:01.758223Z",
     "shell.execute_reply": "2025-03-02T02:31:01.757874Z"
    },
    "papermill": {
     "duration": 0.019402,
     "end_time": "2025-03-02T02:31:01.758778",
     "exception": false,
     "start_time": "2025-03-02T02:31:01.739376",
     "status": "completed"
    },
    "tags": []
   },
   "outputs": [],
   "source": [
    "contrastive_dataset = ContrastiveDataset(contrastive_pairs)"
   ]
  },
  {
   "cell_type": "code",
   "execution_count": 12,
   "id": "d103bbfa-895a-4020-a7e5-21de659f27dc",
   "metadata": {
    "execution": {
     "iopub.execute_input": "2025-03-02T02:31:01.764603Z",
     "iopub.status.busy": "2025-03-02T02:31:01.764345Z",
     "iopub.status.idle": "2025-03-02T02:31:01.781119Z",
     "shell.execute_reply": "2025-03-02T02:31:01.780767Z"
    },
    "papermill": {
     "duration": 0.020227,
     "end_time": "2025-03-02T02:31:01.781668",
     "exception": false,
     "start_time": "2025-03-02T02:31:01.761441",
     "status": "completed"
    },
    "tags": []
   },
   "outputs": [],
   "source": [
    "data_loader = DataLoader(contrastive_dataset, batch_size=32, shuffle=True)"
   ]
  },
  {
   "cell_type": "code",
   "execution_count": 13,
   "id": "c8b0277f-f526-4087-82da-c4cdd65d32da",
   "metadata": {
    "execution": {
     "iopub.execute_input": "2025-03-02T02:31:01.787343Z",
     "iopub.status.busy": "2025-03-02T02:31:01.787215Z",
     "iopub.status.idle": "2025-03-02T02:31:01.805418Z",
     "shell.execute_reply": "2025-03-02T02:31:01.805065Z"
    },
    "papermill": {
     "duration": 0.021718,
     "end_time": "2025-03-02T02:31:01.806025",
     "exception": false,
     "start_time": "2025-03-02T02:31:01.784307",
     "status": "completed"
    },
    "tags": []
   },
   "outputs": [
    {
     "data": {
      "text/plain": [
       "48"
      ]
     },
     "execution_count": 13,
     "metadata": {},
     "output_type": "execute_result"
    }
   ],
   "source": [
    "len(data_loader)"
   ]
  },
  {
   "cell_type": "code",
   "execution_count": 14,
   "id": "e15526a4-b3fe-435b-91c9-ad4064562f0f",
   "metadata": {
    "execution": {
     "iopub.execute_input": "2025-03-02T02:31:01.812047Z",
     "iopub.status.busy": "2025-03-02T02:31:01.811921Z",
     "iopub.status.idle": "2025-03-02T02:31:43.173755Z",
     "shell.execute_reply": "2025-03-02T02:31:43.173219Z"
    },
    "papermill": {
     "duration": 41.365738,
     "end_time": "2025-03-02T02:31:43.174630",
     "exception": false,
     "start_time": "2025-03-02T02:31:01.808892",
     "status": "completed"
    },
    "tags": []
   },
   "outputs": [
    {
     "name": "stderr",
     "output_type": "stream",
     "text": [
      "/tmp/ipykernel_203162/2192687965.py:3: FutureWarning: You are using `torch.load` with `weights_only=False` (the current default value), which uses the default pickle module implicitly. It is possible to construct malicious pickle data which will execute arbitrary code during unpickling (See https://github.com/pytorch/pytorch/blob/main/SECURITY.md#untrusted-models for more details). In a future release, the default value for `weights_only` will be flipped to `True`. This limits the functions that could be executed during unpickling. Arbitrary objects will no longer be allowed to be loaded via this mode unless they are explicitly allowlisted by the user via `torch.serialization.add_safe_globals`. We recommend you start setting `weights_only=True` for any use case where you don't have full control of the loaded file. Please open an issue on GitHub for any issues related to this experimental feature.\n",
      "  lora_model = torch.load(file_path)\n"
     ]
    }
   ],
   "source": [
    "import torch\n",
    "file_path=\"/dss/dsshome1/07/ra65bex2/srawat/contrastive_learning/v1.1/app_average/average_checkpoint_epoch_3.pth\"\n",
    "lora_model = torch.load(file_path)"
   ]
  },
  {
   "cell_type": "code",
   "execution_count": 15,
   "id": "9999e628-5966-4dda-b5c5-c0d762fce27d",
   "metadata": {
    "execution": {
     "iopub.execute_input": "2025-03-02T02:31:43.183718Z",
     "iopub.status.busy": "2025-03-02T02:31:43.183114Z",
     "iopub.status.idle": "2025-03-02T02:31:43.188388Z",
     "shell.execute_reply": "2025-03-02T02:31:43.188028Z"
    },
    "papermill": {
     "duration": 0.009122,
     "end_time": "2025-03-02T02:31:43.188951",
     "exception": false,
     "start_time": "2025-03-02T02:31:43.179829",
     "status": "completed"
    },
    "tags": []
   },
   "outputs": [],
   "source": [
    "device = torch.device('cuda' if torch.cuda.is_available() else 'cpu')\n",
    "lora_model = lora_model.to(device)"
   ]
  },
  {
   "cell_type": "code",
   "execution_count": 16,
   "id": "7e6a3a61-8db0-43db-b575-6399f8515950",
   "metadata": {
    "execution": {
     "iopub.execute_input": "2025-03-02T02:31:43.195160Z",
     "iopub.status.busy": "2025-03-02T02:31:43.195029Z",
     "iopub.status.idle": "2025-03-02T02:31:43.551517Z",
     "shell.execute_reply": "2025-03-02T02:31:43.551098Z"
    },
    "papermill": {
     "duration": 0.360533,
     "end_time": "2025-03-02T02:31:43.552341",
     "exception": false,
     "start_time": "2025-03-02T02:31:43.191808",
     "status": "completed"
    },
    "tags": []
   },
   "outputs": [],
   "source": [
    "from transformers import AutoTokenizer, AutoModel\n",
    "tokenizer = AutoTokenizer.from_pretrained(\"bert-base-uncased\")"
   ]
  },
  {
   "cell_type": "code",
   "execution_count": 17,
   "id": "68ac4919-76f1-4349-a314-4b1061126655",
   "metadata": {
    "execution": {
     "iopub.execute_input": "2025-03-02T02:31:43.559005Z",
     "iopub.status.busy": "2025-03-02T02:31:43.558850Z",
     "iopub.status.idle": "2025-03-02T02:31:43.561260Z",
     "shell.execute_reply": "2025-03-02T02:31:43.560903Z"
    },
    "papermill": {
     "duration": 0.006215,
     "end_time": "2025-03-02T02:31:43.561806",
     "exception": false,
     "start_time": "2025-03-02T02:31:43.555591",
     "status": "completed"
    },
    "tags": []
   },
   "outputs": [],
   "source": [
    "def cosine_distance(x, y):\n",
    "    return 1 - torch.nn.functional.cosine_similarity(x, y, dim=-1)"
   ]
  },
  {
   "cell_type": "code",
   "execution_count": 18,
   "id": "870570ba-20a1-4c0b-8367-525d85af4ded",
   "metadata": {
    "execution": {
     "iopub.execute_input": "2025-03-02T02:31:43.568410Z",
     "iopub.status.busy": "2025-03-02T02:31:43.568154Z",
     "iopub.status.idle": "2025-03-02T02:31:43.583209Z",
     "shell.execute_reply": "2025-03-02T02:31:43.582896Z"
    },
    "papermill": {
     "duration": 0.019045,
     "end_time": "2025-03-02T02:31:43.583787",
     "exception": false,
     "start_time": "2025-03-02T02:31:43.564742",
     "status": "completed"
    },
    "tags": []
   },
   "outputs": [],
   "source": [
    "def avg_embedding(inputs, model):\n",
    "    input=model(**inputs)\n",
    "    input_last_hidden_state=input.last_hidden_state\n",
    "    input_attention_mask = inputs['attention_mask']\n",
    "    input_masked_embeddings = input_last_hidden_state * input_attention_mask.unsqueeze(-1)\n",
    "    input_sum_embeddings = torch.sum(input_masked_embeddings, dim=1)\n",
    "    input_token_counts = torch.sum(input_attention_mask, dim=1).unsqueeze(-1)\n",
    "    input_avg_embeddings = input_sum_embeddings / input_token_counts\n",
    "    return(input_avg_embeddings)"
   ]
  },
  {
   "cell_type": "code",
   "execution_count": 19,
   "id": "990f63bd-4d48-4f58-a001-3b3250f65312",
   "metadata": {
    "execution": {
     "iopub.execute_input": "2025-03-02T02:31:43.590470Z",
     "iopub.status.busy": "2025-03-02T02:31:43.590235Z",
     "iopub.status.idle": "2025-03-02T02:31:43.604043Z",
     "shell.execute_reply": "2025-03-02T02:31:43.603725Z"
    },
    "papermill": {
     "duration": 0.01779,
     "end_time": "2025-03-02T02:31:43.604601",
     "exception": false,
     "start_time": "2025-03-02T02:31:43.586811",
     "status": "completed"
    },
    "tags": []
   },
   "outputs": [],
   "source": [
    "def evaluate_mrr(model, data_loader_val, distance_fn):\n",
    "    model.eval()  \n",
    "\n",
    "    total_rr = 0.0\n",
    "    num_queries = 0\n",
    "\n",
    "    with torch.no_grad():\n",
    "        for batch in data_loader_val:\n",
    "            anchor_text = batch[0]\n",
    "            positive_text = batch[1]\n",
    "            negative_texts = batch[2]\n",
    "\n",
    "            anchor_input = tokenizer(anchor_text, return_tensors='pt', padding=True, truncation=True, max_length=512).to(device)\n",
    "            positive_input = tokenizer(positive_text, return_tensors='pt', padding=True, truncation=True, max_length=512).to(device)\n",
    "\n",
    "            anchor_embedding = avg_embedding(anchor_input, model)\n",
    "            positive_embedding = avg_embedding(positive_input, model)\n",
    "            negative_embedding = [avg_embedding(tokenizer(neg, return_tensors='pt', padding=True, truncation=True, max_length=512).to(device), model) for neg in negative_texts]\n",
    "\n",
    "            pos_dist = distance_fn(anchor_embedding, positive_embedding)\n",
    "            neg_dist = torch.stack([distance_fn(anchor_embedding, neg) for neg in negative_embedding], dim=-1)\n",
    "            all_similarities=torch.cat([-pos_dist.unsqueeze(1), -neg_dist], dim=1)\n",
    "            \n",
    "            sorted_similarities, sorted_indices = torch.sort(all_similarities, dim=1, descending=True)\n",
    "\n",
    "            # Find the rank of the first relevant (positive) document\n",
    "            positive_rank = (sorted_indices == 0).nonzero(as_tuple=True)[1] + 1  # +1 to make rank 1-based\n",
    "            total_rr += torch.sum(1.0 / positive_rank.float()).item()  # Reciprocal rank\n",
    "            num_queries += len(positive_rank)\n",
    "\n",
    "    mrr = total_rr / num_queries\n",
    "    return mrr"
   ]
  },
  {
   "cell_type": "code",
   "execution_count": 20,
   "id": "534a9ec5-4211-4cb6-81f1-fb8a30caff92",
   "metadata": {
    "execution": {
     "iopub.execute_input": "2025-03-02T02:31:43.610870Z",
     "iopub.status.busy": "2025-03-02T02:31:43.610737Z",
     "iopub.status.idle": "2025-03-02T02:32:35.141434Z",
     "shell.execute_reply": "2025-03-02T02:32:35.140884Z"
    },
    "papermill": {
     "duration": 51.539079,
     "end_time": "2025-03-02T02:32:35.146633",
     "exception": false,
     "start_time": "2025-03-02T02:31:43.607554",
     "status": "completed"
    },
    "tags": []
   },
   "outputs": [
    {
     "name": "stdout",
     "output_type": "stream",
     "text": [
      "0.5892073945036151\n"
     ]
    }
   ],
   "source": [
    "mrr_validation = evaluate_mrr(lora_model, data_loader, cosine_distance)\n",
    "print(mrr_validation)"
   ]
  },
  {
   "cell_type": "code",
   "execution_count": null,
   "id": "f61bbd65-41c9-4ac7-80ef-ba4a4fb02d45",
   "metadata": {
    "papermill": {
     "duration": 0.00292,
     "end_time": "2025-03-02T02:32:35.152686",
     "exception": false,
     "start_time": "2025-03-02T02:32:35.149766",
     "status": "completed"
    },
    "tags": []
   },
   "outputs": [],
   "source": []
  }
 ],
 "metadata": {
  "kernelspec": {
   "display_name": "Python (myenv)",
   "language": "python",
   "name": "myenv"
  },
  "language_info": {
   "codemirror_mode": {
    "name": "ipython",
    "version": 3
   },
   "file_extension": ".py",
   "mimetype": "text/x-python",
   "name": "python",
   "nbconvert_exporter": "python",
   "pygments_lexer": "ipython3",
   "version": "3.12.7"
  },
  "papermill": {
   "default_parameters": {},
   "duration": 3164.319211,
   "end_time": "2025-03-02T02:32:38.573045",
   "environment_variables": {},
   "exception": null,
   "input_path": "average_climate_fever.ipynb",
   "output_path": "average_climate_fever_output.ipynb",
   "parameters": {},
   "start_time": "2025-03-02T01:39:54.253834",
   "version": "2.6.0"
  },
  "widgets": {
   "application/vnd.jupyter.widget-state+json": {
    "state": {
     "2d7dc49b03ea494ea751f074eac8f8db": {
      "model_module": "@jupyter-widgets/controls",
      "model_module_version": "2.0.0",
      "model_name": "FloatProgressModel",
      "state": {
       "_dom_classes": [],
       "_model_module": "@jupyter-widgets/controls",
       "_model_module_version": "2.0.0",
       "_model_name": "FloatProgressModel",
       "_view_count": null,
       "_view_module": "@jupyter-widgets/controls",
       "_view_module_version": "2.0.0",
       "_view_name": "ProgressView",
       "bar_style": "success",
       "description": "",
       "description_allow_html": false,
       "layout": "IPY_MODEL_673d4e26bd58466cb42e910ceb33567f",
       "max": 5416593.0,
       "min": 0.0,
       "orientation": "horizontal",
       "style": "IPY_MODEL_e5744d1f2d7743b4a8ca1eefcbd7e667",
       "tabbable": null,
       "tooltip": null,
       "value": 5416593.0
      }
     },
     "3eaad952412a46f693c962cb42df663d": {
      "model_module": "@jupyter-widgets/base",
      "model_module_version": "2.0.0",
      "model_name": "LayoutModel",
      "state": {
       "_model_module": "@jupyter-widgets/base",
       "_model_module_version": "2.0.0",
       "_model_name": "LayoutModel",
       "_view_count": null,
       "_view_module": "@jupyter-widgets/base",
       "_view_module_version": "2.0.0",
       "_view_name": "LayoutView",
       "align_content": null,
       "align_items": null,
       "align_self": null,
       "border_bottom": null,
       "border_left": null,
       "border_right": null,
       "border_top": null,
       "bottom": null,
       "display": null,
       "flex": null,
       "flex_flow": null,
       "grid_area": null,
       "grid_auto_columns": null,
       "grid_auto_flow": null,
       "grid_auto_rows": null,
       "grid_column": null,
       "grid_gap": null,
       "grid_row": null,
       "grid_template_areas": null,
       "grid_template_columns": null,
       "grid_template_rows": null,
       "height": null,
       "justify_content": null,
       "justify_items": null,
       "left": null,
       "margin": null,
       "max_height": null,
       "max_width": null,
       "min_height": null,
       "min_width": null,
       "object_fit": null,
       "object_position": null,
       "order": null,
       "overflow": null,
       "padding": null,
       "right": null,
       "top": null,
       "visibility": null,
       "width": null
      }
     },
     "673d4e26bd58466cb42e910ceb33567f": {
      "model_module": "@jupyter-widgets/base",
      "model_module_version": "2.0.0",
      "model_name": "LayoutModel",
      "state": {
       "_model_module": "@jupyter-widgets/base",
       "_model_module_version": "2.0.0",
       "_model_name": "LayoutModel",
       "_view_count": null,
       "_view_module": "@jupyter-widgets/base",
       "_view_module_version": "2.0.0",
       "_view_name": "LayoutView",
       "align_content": null,
       "align_items": null,
       "align_self": null,
       "border_bottom": null,
       "border_left": null,
       "border_right": null,
       "border_top": null,
       "bottom": null,
       "display": null,
       "flex": null,
       "flex_flow": null,
       "grid_area": null,
       "grid_auto_columns": null,
       "grid_auto_flow": null,
       "grid_auto_rows": null,
       "grid_column": null,
       "grid_gap": null,
       "grid_row": null,
       "grid_template_areas": null,
       "grid_template_columns": null,
       "grid_template_rows": null,
       "height": null,
       "justify_content": null,
       "justify_items": null,
       "left": null,
       "margin": null,
       "max_height": null,
       "max_width": null,
       "min_height": null,
       "min_width": null,
       "object_fit": null,
       "object_position": null,
       "order": null,
       "overflow": null,
       "padding": null,
       "right": null,
       "top": null,
       "visibility": null,
       "width": null
      }
     },
     "76d4ec7ec039438e8dbdb748f71730ed": {
      "model_module": "@jupyter-widgets/controls",
      "model_module_version": "2.0.0",
      "model_name": "HTMLModel",
      "state": {
       "_dom_classes": [],
       "_model_module": "@jupyter-widgets/controls",
       "_model_module_version": "2.0.0",
       "_model_name": "HTMLModel",
       "_view_count": null,
       "_view_module": "@jupyter-widgets/controls",
       "_view_module_version": "2.0.0",
       "_view_name": "HTMLView",
       "description": "",
       "description_allow_html": false,
       "layout": "IPY_MODEL_3eaad952412a46f693c962cb42df663d",
       "placeholder": "​",
       "style": "IPY_MODEL_7b50dec5c9f946948c4021f11c17780b",
       "tabbable": null,
       "tooltip": null,
       "value": " 5416593/5416593 [00:25&lt;00:00, 203882.17it/s]"
      }
     },
     "7b50dec5c9f946948c4021f11c17780b": {
      "model_module": "@jupyter-widgets/controls",
      "model_module_version": "2.0.0",
      "model_name": "HTMLStyleModel",
      "state": {
       "_model_module": "@jupyter-widgets/controls",
       "_model_module_version": "2.0.0",
       "_model_name": "HTMLStyleModel",
       "_view_count": null,
       "_view_module": "@jupyter-widgets/base",
       "_view_module_version": "2.0.0",
       "_view_name": "StyleView",
       "background": null,
       "description_width": "",
       "font_size": null,
       "text_color": null
      }
     },
     "7f7b893fdc2c4fbfa26d45ad6b19cc17": {
      "model_module": "@jupyter-widgets/controls",
      "model_module_version": "2.0.0",
      "model_name": "HTMLStyleModel",
      "state": {
       "_model_module": "@jupyter-widgets/controls",
       "_model_module_version": "2.0.0",
       "_model_name": "HTMLStyleModel",
       "_view_count": null,
       "_view_module": "@jupyter-widgets/base",
       "_view_module_version": "2.0.0",
       "_view_name": "StyleView",
       "background": null,
       "description_width": "",
       "font_size": null,
       "text_color": null
      }
     },
     "b2026c6d5203432594c65b906b7c0bda": {
      "model_module": "@jupyter-widgets/controls",
      "model_module_version": "2.0.0",
      "model_name": "HBoxModel",
      "state": {
       "_dom_classes": [],
       "_model_module": "@jupyter-widgets/controls",
       "_model_module_version": "2.0.0",
       "_model_name": "HBoxModel",
       "_view_count": null,
       "_view_module": "@jupyter-widgets/controls",
       "_view_module_version": "2.0.0",
       "_view_name": "HBoxView",
       "box_style": "",
       "children": [
        "IPY_MODEL_c47ba235fdae4b22bcdc4d5dfd0d04fc",
        "IPY_MODEL_2d7dc49b03ea494ea751f074eac8f8db",
        "IPY_MODEL_76d4ec7ec039438e8dbdb748f71730ed"
       ],
       "layout": "IPY_MODEL_b3fdc0326e9f47fc922aa238fe89634a",
       "tabbable": null,
       "tooltip": null
      }
     },
     "b3fdc0326e9f47fc922aa238fe89634a": {
      "model_module": "@jupyter-widgets/base",
      "model_module_version": "2.0.0",
      "model_name": "LayoutModel",
      "state": {
       "_model_module": "@jupyter-widgets/base",
       "_model_module_version": "2.0.0",
       "_model_name": "LayoutModel",
       "_view_count": null,
       "_view_module": "@jupyter-widgets/base",
       "_view_module_version": "2.0.0",
       "_view_name": "LayoutView",
       "align_content": null,
       "align_items": null,
       "align_self": null,
       "border_bottom": null,
       "border_left": null,
       "border_right": null,
       "border_top": null,
       "bottom": null,
       "display": null,
       "flex": null,
       "flex_flow": null,
       "grid_area": null,
       "grid_auto_columns": null,
       "grid_auto_flow": null,
       "grid_auto_rows": null,
       "grid_column": null,
       "grid_gap": null,
       "grid_row": null,
       "grid_template_areas": null,
       "grid_template_columns": null,
       "grid_template_rows": null,
       "height": null,
       "justify_content": null,
       "justify_items": null,
       "left": null,
       "margin": null,
       "max_height": null,
       "max_width": null,
       "min_height": null,
       "min_width": null,
       "object_fit": null,
       "object_position": null,
       "order": null,
       "overflow": null,
       "padding": null,
       "right": null,
       "top": null,
       "visibility": null,
       "width": null
      }
     },
     "c47ba235fdae4b22bcdc4d5dfd0d04fc": {
      "model_module": "@jupyter-widgets/controls",
      "model_module_version": "2.0.0",
      "model_name": "HTMLModel",
      "state": {
       "_dom_classes": [],
       "_model_module": "@jupyter-widgets/controls",
       "_model_module_version": "2.0.0",
       "_model_name": "HTMLModel",
       "_view_count": null,
       "_view_module": "@jupyter-widgets/controls",
       "_view_module_version": "2.0.0",
       "_view_name": "HTMLView",
       "description": "",
       "description_allow_html": false,
       "layout": "IPY_MODEL_db5e1866cd9740cdab18ce8fa3ed77b5",
       "placeholder": "​",
       "style": "IPY_MODEL_7f7b893fdc2c4fbfa26d45ad6b19cc17",
       "tabbable": null,
       "tooltip": null,
       "value": "100%"
      }
     },
     "db5e1866cd9740cdab18ce8fa3ed77b5": {
      "model_module": "@jupyter-widgets/base",
      "model_module_version": "2.0.0",
      "model_name": "LayoutModel",
      "state": {
       "_model_module": "@jupyter-widgets/base",
       "_model_module_version": "2.0.0",
       "_model_name": "LayoutModel",
       "_view_count": null,
       "_view_module": "@jupyter-widgets/base",
       "_view_module_version": "2.0.0",
       "_view_name": "LayoutView",
       "align_content": null,
       "align_items": null,
       "align_self": null,
       "border_bottom": null,
       "border_left": null,
       "border_right": null,
       "border_top": null,
       "bottom": null,
       "display": null,
       "flex": null,
       "flex_flow": null,
       "grid_area": null,
       "grid_auto_columns": null,
       "grid_auto_flow": null,
       "grid_auto_rows": null,
       "grid_column": null,
       "grid_gap": null,
       "grid_row": null,
       "grid_template_areas": null,
       "grid_template_columns": null,
       "grid_template_rows": null,
       "height": null,
       "justify_content": null,
       "justify_items": null,
       "left": null,
       "margin": null,
       "max_height": null,
       "max_width": null,
       "min_height": null,
       "min_width": null,
       "object_fit": null,
       "object_position": null,
       "order": null,
       "overflow": null,
       "padding": null,
       "right": null,
       "top": null,
       "visibility": null,
       "width": null
      }
     },
     "e5744d1f2d7743b4a8ca1eefcbd7e667": {
      "model_module": "@jupyter-widgets/controls",
      "model_module_version": "2.0.0",
      "model_name": "ProgressStyleModel",
      "state": {
       "_model_module": "@jupyter-widgets/controls",
       "_model_module_version": "2.0.0",
       "_model_name": "ProgressStyleModel",
       "_view_count": null,
       "_view_module": "@jupyter-widgets/base",
       "_view_module_version": "2.0.0",
       "_view_name": "StyleView",
       "bar_color": null,
       "description_width": ""
      }
     }
    },
    "version_major": 2,
    "version_minor": 0
   }
  }
 },
 "nbformat": 4,
 "nbformat_minor": 5
}