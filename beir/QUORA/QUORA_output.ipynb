{
 "cells": [
  {
   "cell_type": "code",
   "execution_count": 1,
   "id": "f6d4b65f-fa6b-4517-8694-8627bc49833b",
   "metadata": {
    "execution": {
     "iopub.execute_input": "2025-03-02T11:14:20.815471Z",
     "iopub.status.busy": "2025-03-02T11:14:20.814888Z",
     "iopub.status.idle": "2025-03-02T11:14:20.942974Z",
     "shell.execute_reply": "2025-03-02T11:14:20.942528Z"
    },
    "papermill": {
     "duration": 0.132373,
     "end_time": "2025-03-02T11:14:20.943786",
     "exception": false,
     "start_time": "2025-03-02T11:14:20.811413",
     "status": "completed"
    },
    "tags": []
   },
   "outputs": [
    {
     "name": "stderr",
     "output_type": "stream",
     "text": [
      "/dss/dsshome1/07/ra65bex2/srawat/myenv/lib/python3.12/site-packages/beir/datasets/data_loader.py:8: TqdmExperimentalWarning: Using `tqdm.autonotebook.tqdm` in notebook mode. Use `tqdm.tqdm` instead to force console mode (e.g. in jupyter console)\n",
      "  from tqdm.autonotebook import tqdm\n"
     ]
    }
   ],
   "source": [
    "from beir.datasets.data_loader import GenericDataLoader"
   ]
  },
  {
   "cell_type": "code",
   "execution_count": 2,
   "id": "232ae929-cf4e-4139-9231-0eac245dcff6",
   "metadata": {
    "execution": {
     "iopub.execute_input": "2025-03-02T11:14:20.949104Z",
     "iopub.status.busy": "2025-03-02T11:14:20.948837Z",
     "iopub.status.idle": "2025-03-02T11:14:20.951365Z",
     "shell.execute_reply": "2025-03-02T11:14:20.950992Z"
    },
    "papermill": {
     "duration": 0.005849,
     "end_time": "2025-03-02T11:14:20.952104",
     "exception": false,
     "start_time": "2025-03-02T11:14:20.946255",
     "status": "completed"
    },
    "tags": []
   },
   "outputs": [],
   "source": [
    "data_path = '/dss/dsshome1/07/ra65bex2/srawat/quora/quora'"
   ]
  },
  {
   "cell_type": "code",
   "execution_count": 3,
   "id": "41e17333-2c34-4b7b-91f6-3cbd3972f0d6",
   "metadata": {
    "execution": {
     "iopub.execute_input": "2025-03-02T11:14:20.957138Z",
     "iopub.status.busy": "2025-03-02T11:14:20.956759Z",
     "iopub.status.idle": "2025-03-02T11:14:22.569182Z",
     "shell.execute_reply": "2025-03-02T11:14:22.568593Z"
    },
    "papermill": {
     "duration": 1.615838,
     "end_time": "2025-03-02T11:14:22.570096",
     "exception": false,
     "start_time": "2025-03-02T11:14:20.954258",
     "status": "completed"
    },
    "tags": []
   },
   "outputs": [
    {
     "data": {
      "application/vnd.jupyter.widget-view+json": {
       "model_id": "dbdd590659d34d478dcffd314d81df24",
       "version_major": 2,
       "version_minor": 0
      },
      "text/plain": [
       "  0%|          | 0/522931 [00:00<?, ?it/s]"
      ]
     },
     "metadata": {},
     "output_type": "display_data"
    }
   ],
   "source": [
    "corpus, queries, qrels = GenericDataLoader(data_path).load(split=\"test\")"
   ]
  },
  {
   "cell_type": "code",
   "execution_count": 4,
   "id": "a29044d5-3952-4f3d-aa43-e1efd34fcad3",
   "metadata": {
    "execution": {
     "iopub.execute_input": "2025-03-02T11:14:22.576021Z",
     "iopub.status.busy": "2025-03-02T11:14:22.575528Z",
     "iopub.status.idle": "2025-03-02T11:27:35.377107Z",
     "shell.execute_reply": "2025-03-02T11:27:35.376404Z"
    },
    "papermill": {
     "duration": 792.805549,
     "end_time": "2025-03-02T11:27:35.378226",
     "exception": false,
     "start_time": "2025-03-02T11:14:22.572677",
     "status": "completed"
    },
    "tags": []
   },
   "outputs": [],
   "source": [
    "contrastive_pairs=[]\n",
    "import random\n",
    "c=0\n",
    "for query_id, relevant_docs in qrels.items():\n",
    "    try:\n",
    "        query_text = queries[query_id]\n",
    "        for doc_id in relevant_docs:\n",
    "            positive = corpus[doc_id][\"text\"]\n",
    "        #print(relevant_docs)\n",
    "        positive_doc_ids = set(relevant_docs)\n",
    "        all_doc_ids = set(corpus.keys())\n",
    "        negative_doc_ids = all_doc_ids - positive_doc_ids\n",
    "        negative_doc_ids=list(negative_doc_ids)\n",
    "        negative_doc_samples = random.sample(negative_doc_ids, k=5)\n",
    "        negatives=[]\n",
    "        for neg_doc_id in negative_doc_samples:\n",
    "            negative_doc_text = corpus[neg_doc_id][\"text\"]\n",
    "            negatives.append(negative_doc_text)\n",
    "        contrastive_pairs.append({\n",
    "            \"anchor\": query_text,\n",
    "            \"positive\": positive,\n",
    "            \"negatives\": negatives\n",
    "        })\n",
    "    except:\n",
    "        c=c+1"
   ]
  },
  {
   "cell_type": "code",
   "execution_count": 5,
   "id": "24161099-e18c-4fee-93f2-54d1e0dd16d9",
   "metadata": {
    "execution": {
     "iopub.execute_input": "2025-03-02T11:27:35.389377Z",
     "iopub.status.busy": "2025-03-02T11:27:35.388811Z",
     "iopub.status.idle": "2025-03-02T11:27:35.393267Z",
     "shell.execute_reply": "2025-03-02T11:27:35.392886Z"
    },
    "papermill": {
     "duration": 0.008087,
     "end_time": "2025-03-02T11:27:35.393931",
     "exception": false,
     "start_time": "2025-03-02T11:27:35.385844",
     "status": "completed"
    },
    "tags": []
   },
   "outputs": [
    {
     "data": {
      "text/plain": [
       "[{'anchor': 'Which question should I ask on Quora?',\n",
       "  'positive': \"What's the best question to ask in Quora?\",\n",
       "  'negatives': ['What websites are like putlocker?',\n",
       "   'Should I tell my teacher I self-harm? Why?',\n",
       "   'What is the best way to learn Microsoft Excel?',\n",
       "   'Which is the best site to learn drawing, painting & sketching online?',\n",
       "   'How can you retrieve a forgotten Spotify username?']},\n",
       " {'anchor': 'What causes a nightmare?',\n",
       "  'positive': 'What causes nightmares that seem real?',\n",
       "  'negatives': [\"Why does Ash's Pikachu never evolve?\",\n",
       "   'I am in my pre-final year in ECE engineering. What all knowledge do I need as to have an edge during placements?',\n",
       "   'What is the importance of statistics in science?',\n",
       "   \"What's the worst thing you have seen a restaurant do to someone's food?\",\n",
       "   'Education system of India before the arrival of Britishers?']}]"
      ]
     },
     "execution_count": 5,
     "metadata": {},
     "output_type": "execute_result"
    }
   ],
   "source": [
    "contrastive_pairs[0:2]"
   ]
  },
  {
   "cell_type": "code",
   "execution_count": 6,
   "id": "49721946-fff3-4690-bd92-d981cecdf62b",
   "metadata": {
    "execution": {
     "iopub.execute_input": "2025-03-02T11:27:35.399382Z",
     "iopub.status.busy": "2025-03-02T11:27:35.398896Z",
     "iopub.status.idle": "2025-03-02T11:27:35.484689Z",
     "shell.execute_reply": "2025-03-02T11:27:35.484315Z"
    },
    "papermill": {
     "duration": 0.089085,
     "end_time": "2025-03-02T11:27:35.485345",
     "exception": false,
     "start_time": "2025-03-02T11:27:35.396260",
     "status": "completed"
    },
    "tags": []
   },
   "outputs": [
    {
     "data": {
      "text/plain": [
       "0"
      ]
     },
     "execution_count": 6,
     "metadata": {},
     "output_type": "execute_result"
    }
   ],
   "source": [
    "c"
   ]
  },
  {
   "cell_type": "code",
   "execution_count": 7,
   "id": "de8ef367-dcb4-4bb6-af3a-20f190930ed1",
   "metadata": {
    "execution": {
     "iopub.execute_input": "2025-03-02T11:27:35.493195Z",
     "iopub.status.busy": "2025-03-02T11:27:35.492748Z",
     "iopub.status.idle": "2025-03-02T11:27:35.507669Z",
     "shell.execute_reply": "2025-03-02T11:27:35.507298Z"
    },
    "papermill": {
     "duration": 0.020573,
     "end_time": "2025-03-02T11:27:35.508458",
     "exception": false,
     "start_time": "2025-03-02T11:27:35.487885",
     "status": "completed"
    },
    "tags": []
   },
   "outputs": [
    {
     "data": {
      "text/plain": [
       "10000"
      ]
     },
     "execution_count": 7,
     "metadata": {},
     "output_type": "execute_result"
    }
   ],
   "source": [
    "len(contrastive_pairs)"
   ]
  },
  {
   "cell_type": "code",
   "execution_count": 8,
   "id": "8ade92f9-e3df-4d0a-b849-b1a721e18cf6",
   "metadata": {
    "execution": {
     "iopub.execute_input": "2025-03-02T11:27:35.514014Z",
     "iopub.status.busy": "2025-03-02T11:27:35.513729Z",
     "iopub.status.idle": "2025-03-02T11:27:35.531555Z",
     "shell.execute_reply": "2025-03-02T11:27:35.531190Z"
    },
    "papermill": {
     "duration": 0.021317,
     "end_time": "2025-03-02T11:27:35.532231",
     "exception": false,
     "start_time": "2025-03-02T11:27:35.510914",
     "status": "completed"
    },
    "tags": []
   },
   "outputs": [
    {
     "data": {
      "text/plain": [
       "10000"
      ]
     },
     "execution_count": 8,
     "metadata": {},
     "output_type": "execute_result"
    }
   ],
   "source": [
    "len(qrels)"
   ]
  },
  {
   "cell_type": "code",
   "execution_count": 9,
   "id": "6b97f7b4-f007-41f6-bfbb-1b9b01665e9d",
   "metadata": {
    "execution": {
     "iopub.execute_input": "2025-03-02T11:27:35.538235Z",
     "iopub.status.busy": "2025-03-02T11:27:35.537797Z",
     "iopub.status.idle": "2025-03-02T11:27:39.443333Z",
     "shell.execute_reply": "2025-03-02T11:27:39.442848Z"
    },
    "papermill": {
     "duration": 3.909462,
     "end_time": "2025-03-02T11:27:39.444315",
     "exception": false,
     "start_time": "2025-03-02T11:27:35.534853",
     "status": "completed"
    },
    "tags": []
   },
   "outputs": [],
   "source": [
    "from torch.utils.data import DataLoader"
   ]
  },
  {
   "cell_type": "code",
   "execution_count": 10,
   "id": "a415b29a-a543-4679-8f78-44f715b3067d",
   "metadata": {
    "execution": {
     "iopub.execute_input": "2025-03-02T11:27:39.452603Z",
     "iopub.status.busy": "2025-03-02T11:27:39.452264Z",
     "iopub.status.idle": "2025-03-02T11:27:39.455669Z",
     "shell.execute_reply": "2025-03-02T11:27:39.455137Z"
    },
    "papermill": {
     "duration": 0.007302,
     "end_time": "2025-03-02T11:27:39.456341",
     "exception": false,
     "start_time": "2025-03-02T11:27:39.449039",
     "status": "completed"
    },
    "tags": []
   },
   "outputs": [],
   "source": [
    "class ContrastiveDataset:\n",
    "    def __init__(self, pairs):\n",
    "        self.pairs = pairs\n",
    "\n",
    "    def __len__(self):\n",
    "        return len(self.pairs)\n",
    "\n",
    "    def __getitem__(self, idx):\n",
    "        item = self.pairs[idx]\n",
    "        return item[\"anchor\"], item[\"positive\"], item[\"negatives\"]"
   ]
  },
  {
   "cell_type": "code",
   "execution_count": 11,
   "id": "a39efeab-fd20-411a-80c5-315f362e00d2",
   "metadata": {
    "execution": {
     "iopub.execute_input": "2025-03-02T11:27:39.462984Z",
     "iopub.status.busy": "2025-03-02T11:27:39.462585Z",
     "iopub.status.idle": "2025-03-02T11:27:39.481510Z",
     "shell.execute_reply": "2025-03-02T11:27:39.481062Z"
    },
    "papermill": {
     "duration": 0.022983,
     "end_time": "2025-03-02T11:27:39.482503",
     "exception": false,
     "start_time": "2025-03-02T11:27:39.459520",
     "status": "completed"
    },
    "tags": []
   },
   "outputs": [],
   "source": [
    "contrastive_dataset = ContrastiveDataset(contrastive_pairs)"
   ]
  },
  {
   "cell_type": "code",
   "execution_count": 12,
   "id": "d103bbfa-895a-4020-a7e5-21de659f27dc",
   "metadata": {
    "execution": {
     "iopub.execute_input": "2025-03-02T11:27:39.488912Z",
     "iopub.status.busy": "2025-03-02T11:27:39.488611Z",
     "iopub.status.idle": "2025-03-02T11:27:39.505062Z",
     "shell.execute_reply": "2025-03-02T11:27:39.504619Z"
    },
    "papermill": {
     "duration": 0.02054,
     "end_time": "2025-03-02T11:27:39.506081",
     "exception": false,
     "start_time": "2025-03-02T11:27:39.485541",
     "status": "completed"
    },
    "tags": []
   },
   "outputs": [],
   "source": [
    "data_loader = DataLoader(contrastive_dataset, batch_size=32, shuffle=True)"
   ]
  },
  {
   "cell_type": "code",
   "execution_count": 13,
   "id": "c8b0277f-f526-4087-82da-c4cdd65d32da",
   "metadata": {
    "execution": {
     "iopub.execute_input": "2025-03-02T11:27:39.513035Z",
     "iopub.status.busy": "2025-03-02T11:27:39.512425Z",
     "iopub.status.idle": "2025-03-02T11:27:39.529625Z",
     "shell.execute_reply": "2025-03-02T11:27:39.529207Z"
    },
    "papermill": {
     "duration": 0.02137,
     "end_time": "2025-03-02T11:27:39.530434",
     "exception": false,
     "start_time": "2025-03-02T11:27:39.509064",
     "status": "completed"
    },
    "tags": []
   },
   "outputs": [
    {
     "data": {
      "text/plain": [
       "313"
      ]
     },
     "execution_count": 13,
     "metadata": {},
     "output_type": "execute_result"
    }
   ],
   "source": [
    "len(data_loader)"
   ]
  },
  {
   "cell_type": "code",
   "execution_count": 14,
   "id": "e15526a4-b3fe-435b-91c9-ad4064562f0f",
   "metadata": {
    "execution": {
     "iopub.execute_input": "2025-03-02T11:27:39.537200Z",
     "iopub.status.busy": "2025-03-02T11:27:39.536725Z",
     "iopub.status.idle": "2025-03-02T11:27:48.411338Z",
     "shell.execute_reply": "2025-03-02T11:27:48.410667Z"
    },
    "papermill": {
     "duration": 8.879176,
     "end_time": "2025-03-02T11:27:48.412710",
     "exception": false,
     "start_time": "2025-03-02T11:27:39.533534",
     "status": "completed"
    },
    "tags": []
   },
   "outputs": [
    {
     "name": "stderr",
     "output_type": "stream",
     "text": [
      "/tmp/ipykernel_2489266/3105893467.py:3: FutureWarning: You are using `torch.load` with `weights_only=False` (the current default value), which uses the default pickle module implicitly. It is possible to construct malicious pickle data which will execute arbitrary code during unpickling (See https://github.com/pytorch/pytorch/blob/main/SECURITY.md#untrusted-models for more details). In a future release, the default value for `weights_only` will be flipped to `True`. This limits the functions that could be executed during unpickling. Arbitrary objects will no longer be allowed to be loaded via this mode unless they are explicitly allowlisted by the user via `torch.serialization.add_safe_globals`. We recommend you start setting `weights_only=True` for any use case where you don't have full control of the loaded file. Please open an issue on GitHub for any issues related to this experimental feature.\n",
      "  lora_model = torch.load(file_path)\n"
     ]
    }
   ],
   "source": [
    "import torch\n",
    "file_path=\"/dss/dsshome1/07/ra65bex2/srawat/contrastive_learning/v1.1/app_baseline/checkpoint_epoch_3.pth\"\n",
    "lora_model = torch.load(file_path)"
   ]
  },
  {
   "cell_type": "code",
   "execution_count": 15,
   "id": "9999e628-5966-4dda-b5c5-c0d762fce27d",
   "metadata": {
    "execution": {
     "iopub.execute_input": "2025-03-02T11:27:48.422538Z",
     "iopub.status.busy": "2025-03-02T11:27:48.421841Z",
     "iopub.status.idle": "2025-03-02T11:27:48.428072Z",
     "shell.execute_reply": "2025-03-02T11:27:48.427681Z"
    },
    "papermill": {
     "duration": 0.010508,
     "end_time": "2025-03-02T11:27:48.428670",
     "exception": false,
     "start_time": "2025-03-02T11:27:48.418162",
     "status": "completed"
    },
    "tags": []
   },
   "outputs": [],
   "source": [
    "device = torch.device('cuda' if torch.cuda.is_available() else 'cpu')\n",
    "lora_model = lora_model.to(device)"
   ]
  },
  {
   "cell_type": "code",
   "execution_count": 16,
   "id": "7e6a3a61-8db0-43db-b575-6399f8515950",
   "metadata": {
    "execution": {
     "iopub.execute_input": "2025-03-02T11:27:48.435184Z",
     "iopub.status.busy": "2025-03-02T11:27:48.434708Z",
     "iopub.status.idle": "2025-03-02T11:27:48.645367Z",
     "shell.execute_reply": "2025-03-02T11:27:48.644876Z"
    },
    "papermill": {
     "duration": 0.214863,
     "end_time": "2025-03-02T11:27:48.646424",
     "exception": false,
     "start_time": "2025-03-02T11:27:48.431561",
     "status": "completed"
    },
    "tags": []
   },
   "outputs": [],
   "source": [
    "from transformers import AutoTokenizer, AutoModel\n",
    "tokenizer = AutoTokenizer.from_pretrained(\"bert-base-uncased\")"
   ]
  },
  {
   "cell_type": "code",
   "execution_count": 17,
   "id": "68ac4919-76f1-4349-a314-4b1061126655",
   "metadata": {
    "execution": {
     "iopub.execute_input": "2025-03-02T11:27:48.653906Z",
     "iopub.status.busy": "2025-03-02T11:27:48.653504Z",
     "iopub.status.idle": "2025-03-02T11:27:48.656219Z",
     "shell.execute_reply": "2025-03-02T11:27:48.655774Z"
    },
    "papermill": {
     "duration": 0.006884,
     "end_time": "2025-03-02T11:27:48.656877",
     "exception": false,
     "start_time": "2025-03-02T11:27:48.649993",
     "status": "completed"
    },
    "tags": []
   },
   "outputs": [],
   "source": [
    "def cosine_distance(x, y):\n",
    "    return 1 - torch.nn.functional.cosine_similarity(x, y, dim=-1)"
   ]
  },
  {
   "cell_type": "code",
   "execution_count": 18,
   "id": "990f63bd-4d48-4f58-a001-3b3250f65312",
   "metadata": {
    "execution": {
     "iopub.execute_input": "2025-03-02T11:27:48.663644Z",
     "iopub.status.busy": "2025-03-02T11:27:48.663240Z",
     "iopub.status.idle": "2025-03-02T11:27:48.680795Z",
     "shell.execute_reply": "2025-03-02T11:27:48.680369Z"
    },
    "papermill": {
     "duration": 0.021673,
     "end_time": "2025-03-02T11:27:48.681705",
     "exception": false,
     "start_time": "2025-03-02T11:27:48.660032",
     "status": "completed"
    },
    "tags": []
   },
   "outputs": [],
   "source": [
    "def evaluate_mrr(model, data_loader_val, distance_fn):\n",
    "    model.eval()\n",
    "\n",
    "    total_rr = 0.0\n",
    "    num_queries = 0\n",
    "\n",
    "    with torch.no_grad():\n",
    "        for batch in data_loader_val:\n",
    "            anchor_text = batch[0]\n",
    "            positive_text = batch[1]\n",
    "            negative_texts = batch[2]\n",
    "\n",
    "            anchor_input = tokenizer(anchor_text, return_tensors='pt', padding=True, truncation=True, max_length=512).to(device)\n",
    "            positive_input = tokenizer(positive_text, return_tensors='pt', padding=True, truncation=True, max_length=512).to(device)\n",
    "\n",
    "            anchor_embedding = model(**anchor_input).last_hidden_state[:, 0, :]\n",
    "            positive_embedding = model(**positive_input).last_hidden_state[:, 0, :]\n",
    "            negative_embedding = [model(**tokenizer(neg, return_tensors='pt', padding=True, truncation=True, max_length=512).to(device)).last_hidden_state[:, 0, :] for neg in negative_texts]\n",
    "\n",
    "            pos_dist = distance_fn(anchor_embedding, positive_embedding)\n",
    "            neg_dist = torch.stack([distance_fn(anchor_embedding, neg) for neg in negative_embedding], dim=-1)\n",
    "            all_similarities=torch.cat([-pos_dist.unsqueeze(1), -neg_dist], dim=1)\n",
    "\n",
    "            sorted_similarities, sorted_indices = torch.sort(all_similarities, dim=1, descending=True)\n",
    "\n",
    "            # Find the rank of the first relevant (positive) document\n",
    "            positive_rank = (sorted_indices == 0).nonzero(as_tuple=True)[1] + 1  # +1 to make rank 1-based\n",
    "            total_rr += torch.sum(1.0 / positive_rank.float()).item()  # Reciprocal rank\n",
    "            num_queries += len(positive_rank)\n",
    "\n",
    "    mrr = total_rr / num_queries\n",
    "    return mrr"
   ]
  },
  {
   "cell_type": "code",
   "execution_count": 19,
   "id": "534a9ec5-4211-4cb6-81f1-fb8a30caff92",
   "metadata": {
    "execution": {
     "iopub.execute_input": "2025-03-02T11:27:48.689103Z",
     "iopub.status.busy": "2025-03-02T11:27:48.688594Z",
     "iopub.status.idle": "2025-03-02T11:28:26.868550Z",
     "shell.execute_reply": "2025-03-02T11:28:26.867957Z"
    },
    "papermill": {
     "duration": 38.188759,
     "end_time": "2025-03-02T11:28:26.874044",
     "exception": false,
     "start_time": "2025-03-02T11:27:48.685285",
     "status": "completed"
    },
    "tags": []
   },
   "outputs": [
    {
     "name": "stdout",
     "output_type": "stream",
     "text": [
      "0.8950516717910767\n"
     ]
    }
   ],
   "source": [
    "mrr_validation = evaluate_mrr(lora_model, data_loader, cosine_distance)\n",
    "print(mrr_validation)"
   ]
  },
  {
   "cell_type": "code",
   "execution_count": null,
   "id": "f61bbd65-41c9-4ac7-80ef-ba4a4fb02d45",
   "metadata": {
    "papermill": {
     "duration": 0.002848,
     "end_time": "2025-03-02T11:28:26.879939",
     "exception": false,
     "start_time": "2025-03-02T11:28:26.877091",
     "status": "completed"
    },
    "tags": []
   },
   "outputs": [],
   "source": []
  }
 ],
 "metadata": {
  "kernelspec": {
   "display_name": "Python (myenv)",
   "language": "python",
   "name": "myenv"
  },
  "language_info": {
   "codemirror_mode": {
    "name": "ipython",
    "version": 3
   },
   "file_extension": ".py",
   "mimetype": "text/x-python",
   "name": "python",
   "nbconvert_exporter": "python",
   "pygments_lexer": "ipython3",
   "version": "3.12.7"
  },
  "papermill": {
   "default_parameters": {},
   "duration": 849.879336,
   "end_time": "2025-03-02T11:28:28.401108",
   "environment_variables": {},
   "exception": null,
   "input_path": "QUORA.ipynb",
   "output_path": "QUORA_output.ipynb",
   "parameters": {},
   "start_time": "2025-03-02T11:14:18.521772",
   "version": "2.6.0"
  },
  "widgets": {
   "application/vnd.jupyter.widget-state+json": {
    "state": {
     "0ff192223b954130894fd3be15650418": {
      "model_module": "@jupyter-widgets/controls",
      "model_module_version": "2.0.0",
      "model_name": "HTMLModel",
      "state": {
       "_dom_classes": [],
       "_model_module": "@jupyter-widgets/controls",
       "_model_module_version": "2.0.0",
       "_model_name": "HTMLModel",
       "_view_count": null,
       "_view_module": "@jupyter-widgets/controls",
       "_view_module_version": "2.0.0",
       "_view_name": "HTMLView",
       "description": "",
       "description_allow_html": false,
       "layout": "IPY_MODEL_2c04048e62704932a842140dca3c5515",
       "placeholder": "​",
       "style": "IPY_MODEL_5fc2bdeaaf1c4332ad4d75ecc0c72e09",
       "tabbable": null,
       "tooltip": null,
       "value": " 522931/522931 [00:01&lt;00:00, 362612.48it/s]"
      }
     },
     "2c04048e62704932a842140dca3c5515": {
      "model_module": "@jupyter-widgets/base",
      "model_module_version": "2.0.0",
      "model_name": "LayoutModel",
      "state": {
       "_model_module": "@jupyter-widgets/base",
       "_model_module_version": "2.0.0",
       "_model_name": "LayoutModel",
       "_view_count": null,
       "_view_module": "@jupyter-widgets/base",
       "_view_module_version": "2.0.0",
       "_view_name": "LayoutView",
       "align_content": null,
       "align_items": null,
       "align_self": null,
       "border_bottom": null,
       "border_left": null,
       "border_right": null,
       "border_top": null,
       "bottom": null,
       "display": null,
       "flex": null,
       "flex_flow": null,
       "grid_area": null,
       "grid_auto_columns": null,
       "grid_auto_flow": null,
       "grid_auto_rows": null,
       "grid_column": null,
       "grid_gap": null,
       "grid_row": null,
       "grid_template_areas": null,
       "grid_template_columns": null,
       "grid_template_rows": null,
       "height": null,
       "justify_content": null,
       "justify_items": null,
       "left": null,
       "margin": null,
       "max_height": null,
       "max_width": null,
       "min_height": null,
       "min_width": null,
       "object_fit": null,
       "object_position": null,
       "order": null,
       "overflow": null,
       "padding": null,
       "right": null,
       "top": null,
       "visibility": null,
       "width": null
      }
     },
     "467d55c84b454b5d88078b6b07e3046f": {
      "model_module": "@jupyter-widgets/base",
      "model_module_version": "2.0.0",
      "model_name": "LayoutModel",
      "state": {
       "_model_module": "@jupyter-widgets/base",
       "_model_module_version": "2.0.0",
       "_model_name": "LayoutModel",
       "_view_count": null,
       "_view_module": "@jupyter-widgets/base",
       "_view_module_version": "2.0.0",
       "_view_name": "LayoutView",
       "align_content": null,
       "align_items": null,
       "align_self": null,
       "border_bottom": null,
       "border_left": null,
       "border_right": null,
       "border_top": null,
       "bottom": null,
       "display": null,
       "flex": null,
       "flex_flow": null,
       "grid_area": null,
       "grid_auto_columns": null,
       "grid_auto_flow": null,
       "grid_auto_rows": null,
       "grid_column": null,
       "grid_gap": null,
       "grid_row": null,
       "grid_template_areas": null,
       "grid_template_columns": null,
       "grid_template_rows": null,
       "height": null,
       "justify_content": null,
       "justify_items": null,
       "left": null,
       "margin": null,
       "max_height": null,
       "max_width": null,
       "min_height": null,
       "min_width": null,
       "object_fit": null,
       "object_position": null,
       "order": null,
       "overflow": null,
       "padding": null,
       "right": null,
       "top": null,
       "visibility": null,
       "width": null
      }
     },
     "598923e20a0c46e4a374b2de34abd056": {
      "model_module": "@jupyter-widgets/controls",
      "model_module_version": "2.0.0",
      "model_name": "FloatProgressModel",
      "state": {
       "_dom_classes": [],
       "_model_module": "@jupyter-widgets/controls",
       "_model_module_version": "2.0.0",
       "_model_name": "FloatProgressModel",
       "_view_count": null,
       "_view_module": "@jupyter-widgets/controls",
       "_view_module_version": "2.0.0",
       "_view_name": "ProgressView",
       "bar_style": "success",
       "description": "",
       "description_allow_html": false,
       "layout": "IPY_MODEL_abd208ef100a4fedb614208bc8c45f15",
       "max": 522931.0,
       "min": 0.0,
       "orientation": "horizontal",
       "style": "IPY_MODEL_aba64016d63f44aa8eaa404f114ca465",
       "tabbable": null,
       "tooltip": null,
       "value": 522931.0
      }
     },
     "5fc2bdeaaf1c4332ad4d75ecc0c72e09": {
      "model_module": "@jupyter-widgets/controls",
      "model_module_version": "2.0.0",
      "model_name": "HTMLStyleModel",
      "state": {
       "_model_module": "@jupyter-widgets/controls",
       "_model_module_version": "2.0.0",
       "_model_name": "HTMLStyleModel",
       "_view_count": null,
       "_view_module": "@jupyter-widgets/base",
       "_view_module_version": "2.0.0",
       "_view_name": "StyleView",
       "background": null,
       "description_width": "",
       "font_size": null,
       "text_color": null
      }
     },
     "66d4d08da424426eaf0bd2d49590178a": {
      "model_module": "@jupyter-widgets/controls",
      "model_module_version": "2.0.0",
      "model_name": "HTMLModel",
      "state": {
       "_dom_classes": [],
       "_model_module": "@jupyter-widgets/controls",
       "_model_module_version": "2.0.0",
       "_model_name": "HTMLModel",
       "_view_count": null,
       "_view_module": "@jupyter-widgets/controls",
       "_view_module_version": "2.0.0",
       "_view_name": "HTMLView",
       "description": "",
       "description_allow_html": false,
       "layout": "IPY_MODEL_467d55c84b454b5d88078b6b07e3046f",
       "placeholder": "​",
       "style": "IPY_MODEL_844382fd2cca419aa64eb026243e4402",
       "tabbable": null,
       "tooltip": null,
       "value": "100%"
      }
     },
     "844382fd2cca419aa64eb026243e4402": {
      "model_module": "@jupyter-widgets/controls",
      "model_module_version": "2.0.0",
      "model_name": "HTMLStyleModel",
      "state": {
       "_model_module": "@jupyter-widgets/controls",
       "_model_module_version": "2.0.0",
       "_model_name": "HTMLStyleModel",
       "_view_count": null,
       "_view_module": "@jupyter-widgets/base",
       "_view_module_version": "2.0.0",
       "_view_name": "StyleView",
       "background": null,
       "description_width": "",
       "font_size": null,
       "text_color": null
      }
     },
     "9103148810f54ef2b76da96ae54b6c17": {
      "model_module": "@jupyter-widgets/base",
      "model_module_version": "2.0.0",
      "model_name": "LayoutModel",
      "state": {
       "_model_module": "@jupyter-widgets/base",
       "_model_module_version": "2.0.0",
       "_model_name": "LayoutModel",
       "_view_count": null,
       "_view_module": "@jupyter-widgets/base",
       "_view_module_version": "2.0.0",
       "_view_name": "LayoutView",
       "align_content": null,
       "align_items": null,
       "align_self": null,
       "border_bottom": null,
       "border_left": null,
       "border_right": null,
       "border_top": null,
       "bottom": null,
       "display": null,
       "flex": null,
       "flex_flow": null,
       "grid_area": null,
       "grid_auto_columns": null,
       "grid_auto_flow": null,
       "grid_auto_rows": null,
       "grid_column": null,
       "grid_gap": null,
       "grid_row": null,
       "grid_template_areas": null,
       "grid_template_columns": null,
       "grid_template_rows": null,
       "height": null,
       "justify_content": null,
       "justify_items": null,
       "left": null,
       "margin": null,
       "max_height": null,
       "max_width": null,
       "min_height": null,
       "min_width": null,
       "object_fit": null,
       "object_position": null,
       "order": null,
       "overflow": null,
       "padding": null,
       "right": null,
       "top": null,
       "visibility": null,
       "width": null
      }
     },
     "aba64016d63f44aa8eaa404f114ca465": {
      "model_module": "@jupyter-widgets/controls",
      "model_module_version": "2.0.0",
      "model_name": "ProgressStyleModel",
      "state": {
       "_model_module": "@jupyter-widgets/controls",
       "_model_module_version": "2.0.0",
       "_model_name": "ProgressStyleModel",
       "_view_count": null,
       "_view_module": "@jupyter-widgets/base",
       "_view_module_version": "2.0.0",
       "_view_name": "StyleView",
       "bar_color": null,
       "description_width": ""
      }
     },
     "abd208ef100a4fedb614208bc8c45f15": {
      "model_module": "@jupyter-widgets/base",
      "model_module_version": "2.0.0",
      "model_name": "LayoutModel",
      "state": {
       "_model_module": "@jupyter-widgets/base",
       "_model_module_version": "2.0.0",
       "_model_name": "LayoutModel",
       "_view_count": null,
       "_view_module": "@jupyter-widgets/base",
       "_view_module_version": "2.0.0",
       "_view_name": "LayoutView",
       "align_content": null,
       "align_items": null,
       "align_self": null,
       "border_bottom": null,
       "border_left": null,
       "border_right": null,
       "border_top": null,
       "bottom": null,
       "display": null,
       "flex": null,
       "flex_flow": null,
       "grid_area": null,
       "grid_auto_columns": null,
       "grid_auto_flow": null,
       "grid_auto_rows": null,
       "grid_column": null,
       "grid_gap": null,
       "grid_row": null,
       "grid_template_areas": null,
       "grid_template_columns": null,
       "grid_template_rows": null,
       "height": null,
       "justify_content": null,
       "justify_items": null,
       "left": null,
       "margin": null,
       "max_height": null,
       "max_width": null,
       "min_height": null,
       "min_width": null,
       "object_fit": null,
       "object_position": null,
       "order": null,
       "overflow": null,
       "padding": null,
       "right": null,
       "top": null,
       "visibility": null,
       "width": null
      }
     },
     "dbdd590659d34d478dcffd314d81df24": {
      "model_module": "@jupyter-widgets/controls",
      "model_module_version": "2.0.0",
      "model_name": "HBoxModel",
      "state": {
       "_dom_classes": [],
       "_model_module": "@jupyter-widgets/controls",
       "_model_module_version": "2.0.0",
       "_model_name": "HBoxModel",
       "_view_count": null,
       "_view_module": "@jupyter-widgets/controls",
       "_view_module_version": "2.0.0",
       "_view_name": "HBoxView",
       "box_style": "",
       "children": [
        "IPY_MODEL_66d4d08da424426eaf0bd2d49590178a",
        "IPY_MODEL_598923e20a0c46e4a374b2de34abd056",
        "IPY_MODEL_0ff192223b954130894fd3be15650418"
       ],
       "layout": "IPY_MODEL_9103148810f54ef2b76da96ae54b6c17",
       "tabbable": null,
       "tooltip": null
      }
     }
    },
    "version_major": 2,
    "version_minor": 0
   }
  }
 },
 "nbformat": 4,
 "nbformat_minor": 5
}