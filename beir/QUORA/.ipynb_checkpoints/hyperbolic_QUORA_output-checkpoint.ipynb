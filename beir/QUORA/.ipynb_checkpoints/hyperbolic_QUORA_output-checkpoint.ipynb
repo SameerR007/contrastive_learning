{
 "cells": [
  {
   "cell_type": "code",
   "execution_count": 1,
   "id": "f6d4b65f-fa6b-4517-8694-8627bc49833b",
   "metadata": {
    "execution": {
     "iopub.execute_input": "2025-03-02T11:28:50.671776Z",
     "iopub.status.busy": "2025-03-02T11:28:50.671412Z",
     "iopub.status.idle": "2025-03-02T11:28:50.731886Z",
     "shell.execute_reply": "2025-03-02T11:28:50.731559Z"
    },
    "papermill": {
     "duration": 0.064337,
     "end_time": "2025-03-02T11:28:50.732489",
     "exception": false,
     "start_time": "2025-03-02T11:28:50.668152",
     "status": "completed"
    },
    "tags": []
   },
   "outputs": [
    {
     "name": "stderr",
     "output_type": "stream",
     "text": [
      "/dss/dsshome1/07/ra65bex2/srawat/myenv/lib/python3.12/site-packages/beir/datasets/data_loader.py:8: TqdmExperimentalWarning: Using `tqdm.autonotebook.tqdm` in notebook mode. Use `tqdm.tqdm` instead to force console mode (e.g. in jupyter console)\n",
      "  from tqdm.autonotebook import tqdm\n"
     ]
    }
   ],
   "source": [
    "from beir.datasets.data_loader import GenericDataLoader"
   ]
  },
  {
   "cell_type": "code",
   "execution_count": 2,
   "id": "a91d6914-e301-422c-b839-1fafeb1e8fa4",
   "metadata": {
    "execution": {
     "iopub.execute_input": "2025-03-02T11:28:50.737600Z",
     "iopub.status.busy": "2025-03-02T11:28:50.737469Z",
     "iopub.status.idle": "2025-03-02T11:28:50.739580Z",
     "shell.execute_reply": "2025-03-02T11:28:50.739267Z"
    },
    "papermill": {
     "duration": 0.005138,
     "end_time": "2025-03-02T11:28:50.740166",
     "exception": false,
     "start_time": "2025-03-02T11:28:50.735028",
     "status": "completed"
    },
    "tags": []
   },
   "outputs": [],
   "source": [
    "data_path = '/dss/dsshome1/07/ra65bex2/srawat/quora/quora'"
   ]
  },
  {
   "cell_type": "code",
   "execution_count": 3,
   "id": "41e17333-2c34-4b7b-91f6-3cbd3972f0d6",
   "metadata": {
    "execution": {
     "iopub.execute_input": "2025-03-02T11:28:50.745052Z",
     "iopub.status.busy": "2025-03-02T11:28:50.744716Z",
     "iopub.status.idle": "2025-03-02T11:28:52.396857Z",
     "shell.execute_reply": "2025-03-02T11:28:52.396413Z"
    },
    "papermill": {
     "duration": 1.655165,
     "end_time": "2025-03-02T11:28:52.397491",
     "exception": false,
     "start_time": "2025-03-02T11:28:50.742326",
     "status": "completed"
    },
    "tags": []
   },
   "outputs": [
    {
     "data": {
      "application/vnd.jupyter.widget-view+json": {
       "model_id": "a628712252d34effae45d4bd7eab0a22",
       "version_major": 2,
       "version_minor": 0
      },
      "text/plain": [
       "  0%|          | 0/522931 [00:00<?, ?it/s]"
      ]
     },
     "metadata": {},
     "output_type": "display_data"
    }
   ],
   "source": [
    "corpus, queries, qrels = GenericDataLoader(data_path).load(split=\"test\")"
   ]
  },
  {
   "cell_type": "code",
   "execution_count": 4,
   "id": "a29044d5-3952-4f3d-aa43-e1efd34fcad3",
   "metadata": {
    "execution": {
     "iopub.execute_input": "2025-03-02T11:28:52.403347Z",
     "iopub.status.busy": "2025-03-02T11:28:52.402949Z",
     "iopub.status.idle": "2025-03-02T11:42:05.688461Z",
     "shell.execute_reply": "2025-03-02T11:42:05.687656Z"
    },
    "papermill": {
     "duration": 793.289472,
     "end_time": "2025-03-02T11:42:05.689701",
     "exception": false,
     "start_time": "2025-03-02T11:28:52.400229",
     "status": "completed"
    },
    "tags": []
   },
   "outputs": [],
   "source": [
    "contrastive_pairs=[]\n",
    "import random\n",
    "c=0\n",
    "for query_id, relevant_docs in qrels.items():\n",
    "    try:\n",
    "        query_text = queries[query_id]\n",
    "        for doc_id in relevant_docs:\n",
    "            positive = corpus[doc_id][\"text\"]\n",
    "        #print(relevant_docs)\n",
    "        positive_doc_ids = set(relevant_docs)\n",
    "        all_doc_ids = set(corpus.keys())\n",
    "        negative_doc_ids = all_doc_ids - positive_doc_ids\n",
    "        negative_doc_ids=list(negative_doc_ids)\n",
    "        negative_doc_samples = random.sample(negative_doc_ids, k=5)\n",
    "        negatives=[]\n",
    "        for neg_doc_id in negative_doc_samples:\n",
    "            negative_doc_text = corpus[neg_doc_id][\"text\"]\n",
    "            negatives.append(negative_doc_text)\n",
    "        contrastive_pairs.append({\n",
    "            \"anchor\": query_text,\n",
    "            \"positive\": positive,\n",
    "            \"negatives\": negatives\n",
    "        })\n",
    "    except:\n",
    "        c=c+1"
   ]
  },
  {
   "cell_type": "code",
   "execution_count": 5,
   "id": "49721946-fff3-4690-bd92-d981cecdf62b",
   "metadata": {
    "execution": {
     "iopub.execute_input": "2025-03-02T11:42:05.698171Z",
     "iopub.status.busy": "2025-03-02T11:42:05.698003Z",
     "iopub.status.idle": "2025-03-02T11:42:05.701949Z",
     "shell.execute_reply": "2025-03-02T11:42:05.701600Z"
    },
    "papermill": {
     "duration": 0.007551,
     "end_time": "2025-03-02T11:42:05.702531",
     "exception": false,
     "start_time": "2025-03-02T11:42:05.694980",
     "status": "completed"
    },
    "tags": []
   },
   "outputs": [
    {
     "data": {
      "text/plain": [
       "0"
      ]
     },
     "execution_count": 5,
     "metadata": {},
     "output_type": "execute_result"
    }
   ],
   "source": [
    "c"
   ]
  },
  {
   "cell_type": "code",
   "execution_count": 6,
   "id": "de8ef367-dcb4-4bb6-af3a-20f190930ed1",
   "metadata": {
    "execution": {
     "iopub.execute_input": "2025-03-02T11:42:05.707607Z",
     "iopub.status.busy": "2025-03-02T11:42:05.707349Z",
     "iopub.status.idle": "2025-03-02T11:42:05.738665Z",
     "shell.execute_reply": "2025-03-02T11:42:05.738322Z"
    },
    "papermill": {
     "duration": 0.034433,
     "end_time": "2025-03-02T11:42:05.739252",
     "exception": false,
     "start_time": "2025-03-02T11:42:05.704819",
     "status": "completed"
    },
    "tags": []
   },
   "outputs": [
    {
     "data": {
      "text/plain": [
       "10000"
      ]
     },
     "execution_count": 6,
     "metadata": {},
     "output_type": "execute_result"
    }
   ],
   "source": [
    "len(contrastive_pairs)"
   ]
  },
  {
   "cell_type": "code",
   "execution_count": 7,
   "id": "8ade92f9-e3df-4d0a-b849-b1a721e18cf6",
   "metadata": {
    "execution": {
     "iopub.execute_input": "2025-03-02T11:42:05.745880Z",
     "iopub.status.busy": "2025-03-02T11:42:05.745753Z",
     "iopub.status.idle": "2025-03-02T11:42:05.761388Z",
     "shell.execute_reply": "2025-03-02T11:42:05.761051Z"
    },
    "papermill": {
     "duration": 0.020321,
     "end_time": "2025-03-02T11:42:05.761985",
     "exception": false,
     "start_time": "2025-03-02T11:42:05.741664",
     "status": "completed"
    },
    "tags": []
   },
   "outputs": [
    {
     "data": {
      "text/plain": [
       "10000"
      ]
     },
     "execution_count": 7,
     "metadata": {},
     "output_type": "execute_result"
    }
   ],
   "source": [
    "len(qrels)"
   ]
  },
  {
   "cell_type": "code",
   "execution_count": 8,
   "id": "6b97f7b4-f007-41f6-bfbb-1b9b01665e9d",
   "metadata": {
    "execution": {
     "iopub.execute_input": "2025-03-02T11:42:05.767682Z",
     "iopub.status.busy": "2025-03-02T11:42:05.767360Z",
     "iopub.status.idle": "2025-03-02T11:42:08.249297Z",
     "shell.execute_reply": "2025-03-02T11:42:08.248910Z"
    },
    "papermill": {
     "duration": 2.48562,
     "end_time": "2025-03-02T11:42:08.250121",
     "exception": false,
     "start_time": "2025-03-02T11:42:05.764501",
     "status": "completed"
    },
    "tags": []
   },
   "outputs": [],
   "source": [
    "from torch.utils.data import DataLoader"
   ]
  },
  {
   "cell_type": "code",
   "execution_count": 9,
   "id": "a415b29a-a543-4679-8f78-44f715b3067d",
   "metadata": {
    "execution": {
     "iopub.execute_input": "2025-03-02T11:42:08.256371Z",
     "iopub.status.busy": "2025-03-02T11:42:08.256195Z",
     "iopub.status.idle": "2025-03-02T11:42:08.258960Z",
     "shell.execute_reply": "2025-03-02T11:42:08.258653Z"
    },
    "papermill": {
     "duration": 0.006299,
     "end_time": "2025-03-02T11:42:08.259529",
     "exception": false,
     "start_time": "2025-03-02T11:42:08.253230",
     "status": "completed"
    },
    "tags": []
   },
   "outputs": [],
   "source": [
    "class ContrastiveDataset:\n",
    "    def __init__(self, pairs):\n",
    "        self.pairs = pairs\n",
    "\n",
    "    def __len__(self):\n",
    "        return len(self.pairs)\n",
    "\n",
    "    def __getitem__(self, idx):\n",
    "        item = self.pairs[idx]\n",
    "        return item[\"anchor\"], item[\"positive\"], item[\"negatives\"]"
   ]
  },
  {
   "cell_type": "code",
   "execution_count": 10,
   "id": "a39efeab-fd20-411a-80c5-315f362e00d2",
   "metadata": {
    "execution": {
     "iopub.execute_input": "2025-03-02T11:42:08.265609Z",
     "iopub.status.busy": "2025-03-02T11:42:08.265395Z",
     "iopub.status.idle": "2025-03-02T11:42:08.334963Z",
     "shell.execute_reply": "2025-03-02T11:42:08.334665Z"
    },
    "papermill": {
     "duration": 0.073127,
     "end_time": "2025-03-02T11:42:08.335542",
     "exception": false,
     "start_time": "2025-03-02T11:42:08.262415",
     "status": "completed"
    },
    "tags": []
   },
   "outputs": [],
   "source": [
    "contrastive_dataset = ContrastiveDataset(contrastive_pairs)"
   ]
  },
  {
   "cell_type": "code",
   "execution_count": 11,
   "id": "d103bbfa-895a-4020-a7e5-21de659f27dc",
   "metadata": {
    "execution": {
     "iopub.execute_input": "2025-03-02T11:42:08.341084Z",
     "iopub.status.busy": "2025-03-02T11:42:08.340833Z",
     "iopub.status.idle": "2025-03-02T11:42:08.358476Z",
     "shell.execute_reply": "2025-03-02T11:42:08.358163Z"
    },
    "papermill": {
     "duration": 0.020962,
     "end_time": "2025-03-02T11:42:08.359065",
     "exception": false,
     "start_time": "2025-03-02T11:42:08.338103",
     "status": "completed"
    },
    "tags": []
   },
   "outputs": [],
   "source": [
    "data_loader = DataLoader(contrastive_dataset, batch_size=32, shuffle=True)"
   ]
  },
  {
   "cell_type": "code",
   "execution_count": 12,
   "id": "c8b0277f-f526-4087-82da-c4cdd65d32da",
   "metadata": {
    "execution": {
     "iopub.execute_input": "2025-03-02T11:42:08.364656Z",
     "iopub.status.busy": "2025-03-02T11:42:08.364407Z",
     "iopub.status.idle": "2025-03-02T11:42:08.381106Z",
     "shell.execute_reply": "2025-03-02T11:42:08.380819Z"
    },
    "papermill": {
     "duration": 0.020046,
     "end_time": "2025-03-02T11:42:08.381670",
     "exception": false,
     "start_time": "2025-03-02T11:42:08.361624",
     "status": "completed"
    },
    "tags": []
   },
   "outputs": [
    {
     "data": {
      "text/plain": [
       "313"
      ]
     },
     "execution_count": 12,
     "metadata": {},
     "output_type": "execute_result"
    }
   ],
   "source": [
    "len(data_loader)"
   ]
  },
  {
   "cell_type": "code",
   "execution_count": 13,
   "id": "e15526a4-b3fe-435b-91c9-ad4064562f0f",
   "metadata": {
    "execution": {
     "iopub.execute_input": "2025-03-02T11:42:08.387341Z",
     "iopub.status.busy": "2025-03-02T11:42:08.387093Z",
     "iopub.status.idle": "2025-03-02T11:42:15.842734Z",
     "shell.execute_reply": "2025-03-02T11:42:15.842243Z"
    },
    "papermill": {
     "duration": 7.45961,
     "end_time": "2025-03-02T11:42:15.843903",
     "exception": false,
     "start_time": "2025-03-02T11:42:08.384293",
     "status": "completed"
    },
    "tags": []
   },
   "outputs": [
    {
     "name": "stderr",
     "output_type": "stream",
     "text": [
      "/tmp/ipykernel_2503769/3548975511.py:3: FutureWarning: You are using `torch.load` with `weights_only=False` (the current default value), which uses the default pickle module implicitly. It is possible to construct malicious pickle data which will execute arbitrary code during unpickling (See https://github.com/pytorch/pytorch/blob/main/SECURITY.md#untrusted-models for more details). In a future release, the default value for `weights_only` will be flipped to `True`. This limits the functions that could be executed during unpickling. Arbitrary objects will no longer be allowed to be loaded via this mode unless they are explicitly allowlisted by the user via `torch.serialization.add_safe_globals`. We recommend you start setting `weights_only=True` for any use case where you don't have full control of the loaded file. Please open an issue on GitHub for any issues related to this experimental feature.\n",
      "  lora_model = torch.load(file_path)\n"
     ]
    }
   ],
   "source": [
    "import torch\n",
    "file_path=\"/dss/dsshome1/07/ra65bex2/srawat/contrastive_learning/v1.1/0.1hyperbolic/hyperbolic_lora_checkpoint_epoch_3.pth\"\n",
    "lora_model = torch.load(file_path)"
   ]
  },
  {
   "cell_type": "code",
   "execution_count": 14,
   "id": "9999e628-5966-4dda-b5c5-c0d762fce27d",
   "metadata": {
    "execution": {
     "iopub.execute_input": "2025-03-02T11:42:15.853105Z",
     "iopub.status.busy": "2025-03-02T11:42:15.852505Z",
     "iopub.status.idle": "2025-03-02T11:42:15.857553Z",
     "shell.execute_reply": "2025-03-02T11:42:15.857194Z"
    },
    "papermill": {
     "duration": 0.009031,
     "end_time": "2025-03-02T11:42:15.858217",
     "exception": false,
     "start_time": "2025-03-02T11:42:15.849186",
     "status": "completed"
    },
    "tags": []
   },
   "outputs": [],
   "source": [
    "device = torch.device('cuda' if torch.cuda.is_available() else 'cpu')\n",
    "lora_model = lora_model.to(device)"
   ]
  },
  {
   "cell_type": "code",
   "execution_count": 15,
   "id": "7e6a3a61-8db0-43db-b575-6399f8515950",
   "metadata": {
    "execution": {
     "iopub.execute_input": "2025-03-02T11:42:15.864679Z",
     "iopub.status.busy": "2025-03-02T11:42:15.864547Z",
     "iopub.status.idle": "2025-03-02T11:42:16.066742Z",
     "shell.execute_reply": "2025-03-02T11:42:16.066269Z"
    },
    "papermill": {
     "duration": 0.20612,
     "end_time": "2025-03-02T11:42:16.067662",
     "exception": false,
     "start_time": "2025-03-02T11:42:15.861542",
     "status": "completed"
    },
    "tags": []
   },
   "outputs": [],
   "source": [
    "from transformers import AutoTokenizer, AutoModel\n",
    "tokenizer = AutoTokenizer.from_pretrained(\"bert-base-uncased\")"
   ]
  },
  {
   "cell_type": "code",
   "execution_count": 16,
   "id": "68ac4919-76f1-4349-a314-4b1061126655",
   "metadata": {
    "execution": {
     "iopub.execute_input": "2025-03-02T11:42:16.076587Z",
     "iopub.status.busy": "2025-03-02T11:42:16.076360Z",
     "iopub.status.idle": "2025-03-02T11:42:16.079766Z",
     "shell.execute_reply": "2025-03-02T11:42:16.079269Z"
    },
    "papermill": {
     "duration": 0.007373,
     "end_time": "2025-03-02T11:42:16.080384",
     "exception": false,
     "start_time": "2025-03-02T11:42:16.073011",
     "status": "completed"
    },
    "tags": []
   },
   "outputs": [],
   "source": [
    "def lorentzian_distance(x, y):\n",
    "    \n",
    "    dot_product = torch.sum(x * y, dim=-1)\n",
    "    norm_x = torch.norm(x, dim=-1)\n",
    "    norm_y = torch.norm(y, dim=-1)\n",
    "    \n",
    "    distance = torch.acosh(-dot_product + torch.sqrt((1 + norm_x**2) * (1 + norm_y**2)))\n",
    "    return distance"
   ]
  },
  {
   "cell_type": "code",
   "execution_count": 17,
   "id": "90e1a127-7622-4dcb-9765-7f7d7e0b751c",
   "metadata": {
    "execution": {
     "iopub.execute_input": "2025-03-02T11:42:16.086687Z",
     "iopub.status.busy": "2025-03-02T11:42:16.086282Z",
     "iopub.status.idle": "2025-03-02T11:42:16.234106Z",
     "shell.execute_reply": "2025-03-02T11:42:16.233723Z"
    },
    "papermill": {
     "duration": 0.151567,
     "end_time": "2025-03-02T11:42:16.234708",
     "exception": false,
     "start_time": "2025-03-02T11:42:16.083141",
     "status": "completed"
    },
    "tags": []
   },
   "outputs": [],
   "source": [
    "def expm_o(v, c=1.0):\n",
    "    c = torch.tensor(c)\n",
    "    vspace = v\n",
    "    vnorm = torch.norm(v, p=2, dim=-1, keepdim=True)\n",
    "    xspace = torch.sinh(torch.sqrt(c) * vnorm) * vspace / (torch.sqrt(c) * vnorm)\n",
    "    batch_min = xspace.min(dim=1, keepdim=True).values\n",
    "    batch_max = xspace.max(dim=1, keepdim=True).values\n",
    "    xspace_scaled=(xspace - batch_min) / (batch_max - batch_min)\n",
    "    return xspace_scaled"
   ]
  },
  {
   "cell_type": "code",
   "execution_count": 18,
   "id": "990f63bd-4d48-4f58-a001-3b3250f65312",
   "metadata": {
    "execution": {
     "iopub.execute_input": "2025-03-02T11:42:16.241015Z",
     "iopub.status.busy": "2025-03-02T11:42:16.240739Z",
     "iopub.status.idle": "2025-03-02T11:42:16.256998Z",
     "shell.execute_reply": "2025-03-02T11:42:16.256644Z"
    },
    "papermill": {
     "duration": 0.019963,
     "end_time": "2025-03-02T11:42:16.257612",
     "exception": false,
     "start_time": "2025-03-02T11:42:16.237649",
     "status": "completed"
    },
    "tags": []
   },
   "outputs": [],
   "source": [
    "def evaluate_mrr(model1, data_loader_val, distance_fn):\n",
    "    model1.eval()\n",
    "    \n",
    "    total_rr = 0.0\n",
    "    num_queries = 0\n",
    "\n",
    "    with torch.no_grad():\n",
    "        for batch in data_loader_val:\n",
    "            anchor_text = batch[0]\n",
    "            positive_text = batch[1]\n",
    "            negative_texts = batch[2]\n",
    "\n",
    "            anchor_input = tokenizer(anchor_text, return_tensors='pt', padding=True, truncation=True, max_length=512).to(device)\n",
    "            positive_input = tokenizer(positive_text, return_tensors='pt', padding=True, truncation=True, max_length=512).to(device)\n",
    "\n",
    "            anchor_embedding = expm_o(model1(**anchor_input).last_hidden_state[:, 0, :])\n",
    "            positive_embedding = expm_o(model1(**positive_input).last_hidden_state[:, 0, :])\n",
    "            negative_embedding = [expm_o(model1(**tokenizer(neg, return_tensors='pt', padding=True, truncation=True, max_length=512).to(device)).last_hidden_state[:, 0, :]) for neg in negative_texts]\n",
    "\n",
    "            pos_dist = distance_fn(anchor_embedding, positive_embedding)\n",
    "            neg_dist = torch.stack([distance_fn(anchor_embedding, neg) for neg in negative_embedding], dim=-1)\n",
    "            all_similarities=torch.cat([-pos_dist.unsqueeze(1), -neg_dist], dim=1)\n",
    "\n",
    "            sorted_similarities, sorted_indices = torch.sort(all_similarities, dim=1, descending=True)\n",
    "\n",
    "            # Find the rank of the first relevant (positive) document\n",
    "            positive_rank = (sorted_indices == 0).nonzero(as_tuple=True)[1] + 1  # +1 to make rank 1-based\n",
    "            total_rr += torch.sum(1.0 / positive_rank.float()).item()  # Reciprocal rank\n",
    "            num_queries += len(positive_rank)\n",
    "            \n",
    "    mrr = total_rr / num_queries\n",
    "    return mrr"
   ]
  },
  {
   "cell_type": "code",
   "execution_count": 19,
   "id": "534a9ec5-4211-4cb6-81f1-fb8a30caff92",
   "metadata": {
    "execution": {
     "iopub.execute_input": "2025-03-02T11:42:16.263605Z",
     "iopub.status.busy": "2025-03-02T11:42:16.263475Z",
     "iopub.status.idle": "2025-03-02T11:42:55.026749Z",
     "shell.execute_reply": "2025-03-02T11:42:55.026188Z"
    },
    "papermill": {
     "duration": 38.770344,
     "end_time": "2025-03-02T11:42:55.030788",
     "exception": false,
     "start_time": "2025-03-02T11:42:16.260444",
     "status": "completed"
    },
    "tags": []
   },
   "outputs": [
    {
     "name": "stdout",
     "output_type": "stream",
     "text": [
      "0.6887416779518127\n"
     ]
    }
   ],
   "source": [
    "mrr_validation = evaluate_mrr(model1=lora_model, data_loader_val=data_loader,distance_fn=lorentzian_distance)\n",
    "print(mrr_validation)"
   ]
  },
  {
   "cell_type": "code",
   "execution_count": null,
   "id": "f61bbd65-41c9-4ac7-80ef-ba4a4fb02d45",
   "metadata": {
    "papermill": {
     "duration": 0.002752,
     "end_time": "2025-03-02T11:42:55.036661",
     "exception": false,
     "start_time": "2025-03-02T11:42:55.033909",
     "status": "completed"
    },
    "tags": []
   },
   "outputs": [],
   "source": []
  }
 ],
 "metadata": {
  "kernelspec": {
   "display_name": "Python (myenv)",
   "language": "python",
   "name": "myenv"
  },
  "language_info": {
   "codemirror_mode": {
    "name": "ipython",
    "version": 3
   },
   "file_extension": ".py",
   "mimetype": "text/x-python",
   "name": "python",
   "nbconvert_exporter": "python",
   "pygments_lexer": "ipython3",
   "version": "3.12.7"
  },
  "papermill": {
   "default_parameters": {},
   "duration": 847.226555,
   "end_time": "2025-03-02T11:42:56.656950",
   "environment_variables": {},
   "exception": null,
   "input_path": "hyperbolic_QUORA.ipynb",
   "output_path": "hyperbolic_QUORA_output.ipynb",
   "parameters": {},
   "start_time": "2025-03-02T11:28:49.430395",
   "version": "2.6.0"
  },
  "widgets": {
   "application/vnd.jupyter.widget-state+json": {
    "state": {
     "1087fe57f5c64984b5f5f6d3de61a526": {
      "model_module": "@jupyter-widgets/controls",
      "model_module_version": "2.0.0",
      "model_name": "FloatProgressModel",
      "state": {
       "_dom_classes": [],
       "_model_module": "@jupyter-widgets/controls",
       "_model_module_version": "2.0.0",
       "_model_name": "FloatProgressModel",
       "_view_count": null,
       "_view_module": "@jupyter-widgets/controls",
       "_view_module_version": "2.0.0",
       "_view_name": "ProgressView",
       "bar_style": "success",
       "description": "",
       "description_allow_html": false,
       "layout": "IPY_MODEL_b7bcbb9cfd6d4962879333af010d5965",
       "max": 522931.0,
       "min": 0.0,
       "orientation": "horizontal",
       "style": "IPY_MODEL_a92bed68eee94408b5ab25e3156d41f2",
       "tabbable": null,
       "tooltip": null,
       "value": 522931.0
      }
     },
     "1159cab1c5ef4358abf012071474ebd2": {
      "model_module": "@jupyter-widgets/base",
      "model_module_version": "2.0.0",
      "model_name": "LayoutModel",
      "state": {
       "_model_module": "@jupyter-widgets/base",
       "_model_module_version": "2.0.0",
       "_model_name": "LayoutModel",
       "_view_count": null,
       "_view_module": "@jupyter-widgets/base",
       "_view_module_version": "2.0.0",
       "_view_name": "LayoutView",
       "align_content": null,
       "align_items": null,
       "align_self": null,
       "border_bottom": null,
       "border_left": null,
       "border_right": null,
       "border_top": null,
       "bottom": null,
       "display": null,
       "flex": null,
       "flex_flow": null,
       "grid_area": null,
       "grid_auto_columns": null,
       "grid_auto_flow": null,
       "grid_auto_rows": null,
       "grid_column": null,
       "grid_gap": null,
       "grid_row": null,
       "grid_template_areas": null,
       "grid_template_columns": null,
       "grid_template_rows": null,
       "height": null,
       "justify_content": null,
       "justify_items": null,
       "left": null,
       "margin": null,
       "max_height": null,
       "max_width": null,
       "min_height": null,
       "min_width": null,
       "object_fit": null,
       "object_position": null,
       "order": null,
       "overflow": null,
       "padding": null,
       "right": null,
       "top": null,
       "visibility": null,
       "width": null
      }
     },
     "6d034c1519004f4899ebf9341abd5b90": {
      "model_module": "@jupyter-widgets/controls",
      "model_module_version": "2.0.0",
      "model_name": "HTMLModel",
      "state": {
       "_dom_classes": [],
       "_model_module": "@jupyter-widgets/controls",
       "_model_module_version": "2.0.0",
       "_model_name": "HTMLModel",
       "_view_count": null,
       "_view_module": "@jupyter-widgets/controls",
       "_view_module_version": "2.0.0",
       "_view_name": "HTMLView",
       "description": "",
       "description_allow_html": false,
       "layout": "IPY_MODEL_1159cab1c5ef4358abf012071474ebd2",
       "placeholder": "​",
       "style": "IPY_MODEL_782d0fd66eb94f92ab2e1ad29a78fad4",
       "tabbable": null,
       "tooltip": null,
       "value": "100%"
      }
     },
     "782d0fd66eb94f92ab2e1ad29a78fad4": {
      "model_module": "@jupyter-widgets/controls",
      "model_module_version": "2.0.0",
      "model_name": "HTMLStyleModel",
      "state": {
       "_model_module": "@jupyter-widgets/controls",
       "_model_module_version": "2.0.0",
       "_model_name": "HTMLStyleModel",
       "_view_count": null,
       "_view_module": "@jupyter-widgets/base",
       "_view_module_version": "2.0.0",
       "_view_name": "StyleView",
       "background": null,
       "description_width": "",
       "font_size": null,
       "text_color": null
      }
     },
     "7a6dbbc2597d47969216f2523fd70e57": {
      "model_module": "@jupyter-widgets/controls",
      "model_module_version": "2.0.0",
      "model_name": "HTMLStyleModel",
      "state": {
       "_model_module": "@jupyter-widgets/controls",
       "_model_module_version": "2.0.0",
       "_model_name": "HTMLStyleModel",
       "_view_count": null,
       "_view_module": "@jupyter-widgets/base",
       "_view_module_version": "2.0.0",
       "_view_name": "StyleView",
       "background": null,
       "description_width": "",
       "font_size": null,
       "text_color": null
      }
     },
     "841d06d7fc954bc8883045cf508ad88b": {
      "model_module": "@jupyter-widgets/controls",
      "model_module_version": "2.0.0",
      "model_name": "HTMLModel",
      "state": {
       "_dom_classes": [],
       "_model_module": "@jupyter-widgets/controls",
       "_model_module_version": "2.0.0",
       "_model_name": "HTMLModel",
       "_view_count": null,
       "_view_module": "@jupyter-widgets/controls",
       "_view_module_version": "2.0.0",
       "_view_name": "HTMLView",
       "description": "",
       "description_allow_html": false,
       "layout": "IPY_MODEL_befed8834d034e46b6399159eb31f475",
       "placeholder": "​",
       "style": "IPY_MODEL_7a6dbbc2597d47969216f2523fd70e57",
       "tabbable": null,
       "tooltip": null,
       "value": " 522931/522931 [00:01&lt;00:00, 344194.84it/s]"
      }
     },
     "a628712252d34effae45d4bd7eab0a22": {
      "model_module": "@jupyter-widgets/controls",
      "model_module_version": "2.0.0",
      "model_name": "HBoxModel",
      "state": {
       "_dom_classes": [],
       "_model_module": "@jupyter-widgets/controls",
       "_model_module_version": "2.0.0",
       "_model_name": "HBoxModel",
       "_view_count": null,
       "_view_module": "@jupyter-widgets/controls",
       "_view_module_version": "2.0.0",
       "_view_name": "HBoxView",
       "box_style": "",
       "children": [
        "IPY_MODEL_6d034c1519004f4899ebf9341abd5b90",
        "IPY_MODEL_1087fe57f5c64984b5f5f6d3de61a526",
        "IPY_MODEL_841d06d7fc954bc8883045cf508ad88b"
       ],
       "layout": "IPY_MODEL_f3747a1d6ac7487db6bd49aa5e588979",
       "tabbable": null,
       "tooltip": null
      }
     },
     "a92bed68eee94408b5ab25e3156d41f2": {
      "model_module": "@jupyter-widgets/controls",
      "model_module_version": "2.0.0",
      "model_name": "ProgressStyleModel",
      "state": {
       "_model_module": "@jupyter-widgets/controls",
       "_model_module_version": "2.0.0",
       "_model_name": "ProgressStyleModel",
       "_view_count": null,
       "_view_module": "@jupyter-widgets/base",
       "_view_module_version": "2.0.0",
       "_view_name": "StyleView",
       "bar_color": null,
       "description_width": ""
      }
     },
     "b7bcbb9cfd6d4962879333af010d5965": {
      "model_module": "@jupyter-widgets/base",
      "model_module_version": "2.0.0",
      "model_name": "LayoutModel",
      "state": {
       "_model_module": "@jupyter-widgets/base",
       "_model_module_version": "2.0.0",
       "_model_name": "LayoutModel",
       "_view_count": null,
       "_view_module": "@jupyter-widgets/base",
       "_view_module_version": "2.0.0",
       "_view_name": "LayoutView",
       "align_content": null,
       "align_items": null,
       "align_self": null,
       "border_bottom": null,
       "border_left": null,
       "border_right": null,
       "border_top": null,
       "bottom": null,
       "display": null,
       "flex": null,
       "flex_flow": null,
       "grid_area": null,
       "grid_auto_columns": null,
       "grid_auto_flow": null,
       "grid_auto_rows": null,
       "grid_column": null,
       "grid_gap": null,
       "grid_row": null,
       "grid_template_areas": null,
       "grid_template_columns": null,
       "grid_template_rows": null,
       "height": null,
       "justify_content": null,
       "justify_items": null,
       "left": null,
       "margin": null,
       "max_height": null,
       "max_width": null,
       "min_height": null,
       "min_width": null,
       "object_fit": null,
       "object_position": null,
       "order": null,
       "overflow": null,
       "padding": null,
       "right": null,
       "top": null,
       "visibility": null,
       "width": null
      }
     },
     "befed8834d034e46b6399159eb31f475": {
      "model_module": "@jupyter-widgets/base",
      "model_module_version": "2.0.0",
      "model_name": "LayoutModel",
      "state": {
       "_model_module": "@jupyter-widgets/base",
       "_model_module_version": "2.0.0",
       "_model_name": "LayoutModel",
       "_view_count": null,
       "_view_module": "@jupyter-widgets/base",
       "_view_module_version": "2.0.0",
       "_view_name": "LayoutView",
       "align_content": null,
       "align_items": null,
       "align_self": null,
       "border_bottom": null,
       "border_left": null,
       "border_right": null,
       "border_top": null,
       "bottom": null,
       "display": null,
       "flex": null,
       "flex_flow": null,
       "grid_area": null,
       "grid_auto_columns": null,
       "grid_auto_flow": null,
       "grid_auto_rows": null,
       "grid_column": null,
       "grid_gap": null,
       "grid_row": null,
       "grid_template_areas": null,
       "grid_template_columns": null,
       "grid_template_rows": null,
       "height": null,
       "justify_content": null,
       "justify_items": null,
       "left": null,
       "margin": null,
       "max_height": null,
       "max_width": null,
       "min_height": null,
       "min_width": null,
       "object_fit": null,
       "object_position": null,
       "order": null,
       "overflow": null,
       "padding": null,
       "right": null,
       "top": null,
       "visibility": null,
       "width": null
      }
     },
     "f3747a1d6ac7487db6bd49aa5e588979": {
      "model_module": "@jupyter-widgets/base",
      "model_module_version": "2.0.0",
      "model_name": "LayoutModel",
      "state": {
       "_model_module": "@jupyter-widgets/base",
       "_model_module_version": "2.0.0",
       "_model_name": "LayoutModel",
       "_view_count": null,
       "_view_module": "@jupyter-widgets/base",
       "_view_module_version": "2.0.0",
       "_view_name": "LayoutView",
       "align_content": null,
       "align_items": null,
       "align_self": null,
       "border_bottom": null,
       "border_left": null,
       "border_right": null,
       "border_top": null,
       "bottom": null,
       "display": null,
       "flex": null,
       "flex_flow": null,
       "grid_area": null,
       "grid_auto_columns": null,
       "grid_auto_flow": null,
       "grid_auto_rows": null,
       "grid_column": null,
       "grid_gap": null,
       "grid_row": null,
       "grid_template_areas": null,
       "grid_template_columns": null,
       "grid_template_rows": null,
       "height": null,
       "justify_content": null,
       "justify_items": null,
       "left": null,
       "margin": null,
       "max_height": null,
       "max_width": null,
       "min_height": null,
       "min_width": null,
       "object_fit": null,
       "object_position": null,
       "order": null,
       "overflow": null,
       "padding": null,
       "right": null,
       "top": null,
       "visibility": null,
       "width": null
      }
     }
    },
    "version_major": 2,
    "version_minor": 0
   }
  }
 },
 "nbformat": 4,
 "nbformat_minor": 5
}