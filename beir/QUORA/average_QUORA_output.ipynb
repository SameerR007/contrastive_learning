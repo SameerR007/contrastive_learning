{
 "cells": [
  {
   "cell_type": "code",
   "execution_count": 1,
   "id": "f6d4b65f-fa6b-4517-8694-8627bc49833b",
   "metadata": {
    "execution": {
     "iopub.execute_input": "2025-03-02T11:14:49.120589Z",
     "iopub.status.busy": "2025-03-02T11:14:49.120208Z",
     "iopub.status.idle": "2025-03-02T11:14:49.180059Z",
     "shell.execute_reply": "2025-03-02T11:14:49.179614Z"
    },
    "papermill": {
     "duration": 0.06609,
     "end_time": "2025-03-02T11:14:49.180890",
     "exception": false,
     "start_time": "2025-03-02T11:14:49.114800",
     "status": "completed"
    },
    "tags": []
   },
   "outputs": [
    {
     "name": "stderr",
     "output_type": "stream",
     "text": [
      "/dss/dsshome1/07/ra65bex2/srawat/myenv/lib/python3.12/site-packages/beir/datasets/data_loader.py:8: TqdmExperimentalWarning: Using `tqdm.autonotebook.tqdm` in notebook mode. Use `tqdm.tqdm` instead to force console mode (e.g. in jupyter console)\n",
      "  from tqdm.autonotebook import tqdm\n"
     ]
    }
   ],
   "source": [
    "from beir.datasets.data_loader import GenericDataLoader"
   ]
  },
  {
   "cell_type": "code",
   "execution_count": 2,
   "id": "a91d6914-e301-422c-b839-1fafeb1e8fa4",
   "metadata": {
    "execution": {
     "iopub.execute_input": "2025-03-02T11:14:49.186121Z",
     "iopub.status.busy": "2025-03-02T11:14:49.185865Z",
     "iopub.status.idle": "2025-03-02T11:14:49.188390Z",
     "shell.execute_reply": "2025-03-02T11:14:49.187947Z"
    },
    "papermill": {
     "duration": 0.00579,
     "end_time": "2025-03-02T11:14:49.189166",
     "exception": false,
     "start_time": "2025-03-02T11:14:49.183376",
     "status": "completed"
    },
    "tags": []
   },
   "outputs": [],
   "source": [
    "data_path = '/dss/dsshome1/07/ra65bex2/srawat/quora/quora'"
   ]
  },
  {
   "cell_type": "code",
   "execution_count": 3,
   "id": "41e17333-2c34-4b7b-91f6-3cbd3972f0d6",
   "metadata": {
    "execution": {
     "iopub.execute_input": "2025-03-02T11:14:49.194218Z",
     "iopub.status.busy": "2025-03-02T11:14:49.193859Z",
     "iopub.status.idle": "2025-03-02T11:14:50.796588Z",
     "shell.execute_reply": "2025-03-02T11:14:50.796106Z"
    },
    "papermill": {
     "duration": 1.606128,
     "end_time": "2025-03-02T11:14:50.797429",
     "exception": false,
     "start_time": "2025-03-02T11:14:49.191301",
     "status": "completed"
    },
    "tags": []
   },
   "outputs": [
    {
     "data": {
      "application/vnd.jupyter.widget-view+json": {
       "model_id": "2c730bc6e8ac4b3e85d1963557484ac2",
       "version_major": 2,
       "version_minor": 0
      },
      "text/plain": [
       "  0%|          | 0/522931 [00:00<?, ?it/s]"
      ]
     },
     "metadata": {},
     "output_type": "display_data"
    }
   ],
   "source": [
    "corpus, queries, qrels = GenericDataLoader(data_path).load(split=\"test\")"
   ]
  },
  {
   "cell_type": "code",
   "execution_count": 4,
   "id": "a29044d5-3952-4f3d-aa43-e1efd34fcad3",
   "metadata": {
    "execution": {
     "iopub.execute_input": "2025-03-02T11:14:50.803512Z",
     "iopub.status.busy": "2025-03-02T11:14:50.803059Z",
     "iopub.status.idle": "2025-03-02T11:27:59.895545Z",
     "shell.execute_reply": "2025-03-02T11:27:59.894822Z"
    },
    "papermill": {
     "duration": 789.096627,
     "end_time": "2025-03-02T11:27:59.896925",
     "exception": false,
     "start_time": "2025-03-02T11:14:50.800298",
     "status": "completed"
    },
    "tags": []
   },
   "outputs": [],
   "source": [
    "contrastive_pairs=[]\n",
    "import random\n",
    "c=0\n",
    "for query_id, relevant_docs in qrels.items():\n",
    "    try:\n",
    "        query_text = queries[query_id]\n",
    "        for doc_id in relevant_docs:\n",
    "            positive = corpus[doc_id][\"text\"]\n",
    "        #print(relevant_docs)\n",
    "        positive_doc_ids = set(relevant_docs)\n",
    "        all_doc_ids = set(corpus.keys())\n",
    "        negative_doc_ids = all_doc_ids - positive_doc_ids\n",
    "        negative_doc_ids=list(negative_doc_ids)\n",
    "        negative_doc_samples = random.sample(negative_doc_ids, k=5)\n",
    "        negatives=[]\n",
    "        for neg_doc_id in negative_doc_samples:\n",
    "            negative_doc_text = corpus[neg_doc_id][\"text\"]\n",
    "            negatives.append(negative_doc_text)\n",
    "        contrastive_pairs.append({\n",
    "            \"anchor\": query_text,\n",
    "            \"positive\": positive,\n",
    "            \"negatives\": negatives\n",
    "        })\n",
    "    except:\n",
    "        c=c+1"
   ]
  },
  {
   "cell_type": "code",
   "execution_count": 5,
   "id": "49721946-fff3-4690-bd92-d981cecdf62b",
   "metadata": {
    "execution": {
     "iopub.execute_input": "2025-03-02T11:27:59.908523Z",
     "iopub.status.busy": "2025-03-02T11:27:59.908132Z",
     "iopub.status.idle": "2025-03-02T11:27:59.912591Z",
     "shell.execute_reply": "2025-03-02T11:27:59.912163Z"
    },
    "papermill": {
     "duration": 0.00835,
     "end_time": "2025-03-02T11:27:59.913324",
     "exception": false,
     "start_time": "2025-03-02T11:27:59.904974",
     "status": "completed"
    },
    "tags": []
   },
   "outputs": [
    {
     "data": {
      "text/plain": [
       "0"
      ]
     },
     "execution_count": 5,
     "metadata": {},
     "output_type": "execute_result"
    }
   ],
   "source": [
    "c"
   ]
  },
  {
   "cell_type": "code",
   "execution_count": 6,
   "id": "de8ef367-dcb4-4bb6-af3a-20f190930ed1",
   "metadata": {
    "execution": {
     "iopub.execute_input": "2025-03-02T11:27:59.918703Z",
     "iopub.status.busy": "2025-03-02T11:27:59.918338Z",
     "iopub.status.idle": "2025-03-02T11:27:59.937229Z",
     "shell.execute_reply": "2025-03-02T11:27:59.936850Z"
    },
    "papermill": {
     "duration": 0.02236,
     "end_time": "2025-03-02T11:27:59.938044",
     "exception": false,
     "start_time": "2025-03-02T11:27:59.915684",
     "status": "completed"
    },
    "tags": []
   },
   "outputs": [
    {
     "data": {
      "text/plain": [
       "10000"
      ]
     },
     "execution_count": 6,
     "metadata": {},
     "output_type": "execute_result"
    }
   ],
   "source": [
    "len(contrastive_pairs)"
   ]
  },
  {
   "cell_type": "code",
   "execution_count": 7,
   "id": "8ade92f9-e3df-4d0a-b849-b1a721e18cf6",
   "metadata": {
    "execution": {
     "iopub.execute_input": "2025-03-02T11:27:59.944961Z",
     "iopub.status.busy": "2025-03-02T11:27:59.944551Z",
     "iopub.status.idle": "2025-03-02T11:27:59.960665Z",
     "shell.execute_reply": "2025-03-02T11:27:59.960274Z"
    },
    "papermill": {
     "duration": 0.020932,
     "end_time": "2025-03-02T11:27:59.961432",
     "exception": false,
     "start_time": "2025-03-02T11:27:59.940500",
     "status": "completed"
    },
    "tags": []
   },
   "outputs": [
    {
     "data": {
      "text/plain": [
       "10000"
      ]
     },
     "execution_count": 7,
     "metadata": {},
     "output_type": "execute_result"
    }
   ],
   "source": [
    "len(qrels)"
   ]
  },
  {
   "cell_type": "code",
   "execution_count": 8,
   "id": "6b97f7b4-f007-41f6-bfbb-1b9b01665e9d",
   "metadata": {
    "execution": {
     "iopub.execute_input": "2025-03-02T11:27:59.967035Z",
     "iopub.status.busy": "2025-03-02T11:27:59.966759Z",
     "iopub.status.idle": "2025-03-02T11:28:02.363256Z",
     "shell.execute_reply": "2025-03-02T11:28:02.362783Z"
    },
    "papermill": {
     "duration": 2.400339,
     "end_time": "2025-03-02T11:28:02.364294",
     "exception": false,
     "start_time": "2025-03-02T11:27:59.963955",
     "status": "completed"
    },
    "tags": []
   },
   "outputs": [],
   "source": [
    "from torch.utils.data import DataLoader"
   ]
  },
  {
   "cell_type": "code",
   "execution_count": 9,
   "id": "a415b29a-a543-4679-8f78-44f715b3067d",
   "metadata": {
    "execution": {
     "iopub.execute_input": "2025-03-02T11:28:02.370516Z",
     "iopub.status.busy": "2025-03-02T11:28:02.370174Z",
     "iopub.status.idle": "2025-03-02T11:28:02.373651Z",
     "shell.execute_reply": "2025-03-02T11:28:02.373249Z"
    },
    "papermill": {
     "duration": 0.007278,
     "end_time": "2025-03-02T11:28:02.374414",
     "exception": false,
     "start_time": "2025-03-02T11:28:02.367136",
     "status": "completed"
    },
    "tags": []
   },
   "outputs": [],
   "source": [
    "class ContrastiveDataset:\n",
    "    def __init__(self, pairs):\n",
    "        self.pairs = pairs\n",
    "\n",
    "    def __len__(self):\n",
    "        return len(self.pairs)\n",
    "\n",
    "    def __getitem__(self, idx):\n",
    "        item = self.pairs[idx]\n",
    "        return item[\"anchor\"], item[\"positive\"], item[\"negatives\"]"
   ]
  },
  {
   "cell_type": "code",
   "execution_count": 10,
   "id": "a39efeab-fd20-411a-80c5-315f362e00d2",
   "metadata": {
    "execution": {
     "iopub.execute_input": "2025-03-02T11:28:02.380045Z",
     "iopub.status.busy": "2025-03-02T11:28:02.379911Z",
     "iopub.status.idle": "2025-03-02T11:28:02.398644Z",
     "shell.execute_reply": "2025-03-02T11:28:02.398166Z"
    },
    "papermill": {
     "duration": 0.02235,
     "end_time": "2025-03-02T11:28:02.399307",
     "exception": false,
     "start_time": "2025-03-02T11:28:02.376957",
     "status": "completed"
    },
    "tags": []
   },
   "outputs": [],
   "source": [
    "contrastive_dataset = ContrastiveDataset(contrastive_pairs)"
   ]
  },
  {
   "cell_type": "code",
   "execution_count": 11,
   "id": "d103bbfa-895a-4020-a7e5-21de659f27dc",
   "metadata": {
    "execution": {
     "iopub.execute_input": "2025-03-02T11:28:02.405221Z",
     "iopub.status.busy": "2025-03-02T11:28:02.404859Z",
     "iopub.status.idle": "2025-03-02T11:28:02.421729Z",
     "shell.execute_reply": "2025-03-02T11:28:02.421201Z"
    },
    "papermill": {
     "duration": 0.020524,
     "end_time": "2025-03-02T11:28:02.422505",
     "exception": false,
     "start_time": "2025-03-02T11:28:02.401981",
     "status": "completed"
    },
    "tags": []
   },
   "outputs": [],
   "source": [
    "data_loader = DataLoader(contrastive_dataset, batch_size=32, shuffle=True)"
   ]
  },
  {
   "cell_type": "code",
   "execution_count": 12,
   "id": "c8b0277f-f526-4087-82da-c4cdd65d32da",
   "metadata": {
    "execution": {
     "iopub.execute_input": "2025-03-02T11:28:02.428333Z",
     "iopub.status.busy": "2025-03-02T11:28:02.427997Z",
     "iopub.status.idle": "2025-03-02T11:28:02.445035Z",
     "shell.execute_reply": "2025-03-02T11:28:02.444651Z"
    },
    "papermill": {
     "duration": 0.020773,
     "end_time": "2025-03-02T11:28:02.445864",
     "exception": false,
     "start_time": "2025-03-02T11:28:02.425091",
     "status": "completed"
    },
    "tags": []
   },
   "outputs": [
    {
     "data": {
      "text/plain": [
       "313"
      ]
     },
     "execution_count": 12,
     "metadata": {},
     "output_type": "execute_result"
    }
   ],
   "source": [
    "len(data_loader)"
   ]
  },
  {
   "cell_type": "code",
   "execution_count": 13,
   "id": "e15526a4-b3fe-435b-91c9-ad4064562f0f",
   "metadata": {
    "execution": {
     "iopub.execute_input": "2025-03-02T11:28:02.451855Z",
     "iopub.status.busy": "2025-03-02T11:28:02.451422Z",
     "iopub.status.idle": "2025-03-02T11:28:07.078293Z",
     "shell.execute_reply": "2025-03-02T11:28:07.077773Z"
    },
    "papermill": {
     "duration": 4.630865,
     "end_time": "2025-03-02T11:28:07.079356",
     "exception": false,
     "start_time": "2025-03-02T11:28:02.448491",
     "status": "completed"
    },
    "tags": []
   },
   "outputs": [
    {
     "name": "stderr",
     "output_type": "stream",
     "text": [
      "/tmp/ipykernel_2489756/2192687965.py:3: FutureWarning: You are using `torch.load` with `weights_only=False` (the current default value), which uses the default pickle module implicitly. It is possible to construct malicious pickle data which will execute arbitrary code during unpickling (See https://github.com/pytorch/pytorch/blob/main/SECURITY.md#untrusted-models for more details). In a future release, the default value for `weights_only` will be flipped to `True`. This limits the functions that could be executed during unpickling. Arbitrary objects will no longer be allowed to be loaded via this mode unless they are explicitly allowlisted by the user via `torch.serialization.add_safe_globals`. We recommend you start setting `weights_only=True` for any use case where you don't have full control of the loaded file. Please open an issue on GitHub for any issues related to this experimental feature.\n",
      "  lora_model = torch.load(file_path)\n"
     ]
    }
   ],
   "source": [
    "import torch\n",
    "file_path=\"/dss/dsshome1/07/ra65bex2/srawat/contrastive_learning/v1.1/app_average/average_checkpoint_epoch_3.pth\"\n",
    "lora_model = torch.load(file_path)"
   ]
  },
  {
   "cell_type": "code",
   "execution_count": 14,
   "id": "9999e628-5966-4dda-b5c5-c0d762fce27d",
   "metadata": {
    "execution": {
     "iopub.execute_input": "2025-03-02T11:28:07.087857Z",
     "iopub.status.busy": "2025-03-02T11:28:07.087451Z",
     "iopub.status.idle": "2025-03-02T11:28:07.093851Z",
     "shell.execute_reply": "2025-03-02T11:28:07.093456Z"
    },
    "papermill": {
     "duration": 0.01033,
     "end_time": "2025-03-02T11:28:07.094631",
     "exception": false,
     "start_time": "2025-03-02T11:28:07.084301",
     "status": "completed"
    },
    "tags": []
   },
   "outputs": [],
   "source": [
    "device = torch.device('cuda' if torch.cuda.is_available() else 'cpu')\n",
    "lora_model = lora_model.to(device)"
   ]
  },
  {
   "cell_type": "code",
   "execution_count": 15,
   "id": "7e6a3a61-8db0-43db-b575-6399f8515950",
   "metadata": {
    "execution": {
     "iopub.execute_input": "2025-03-02T11:28:07.100993Z",
     "iopub.status.busy": "2025-03-02T11:28:07.100591Z",
     "iopub.status.idle": "2025-03-02T11:28:07.296080Z",
     "shell.execute_reply": "2025-03-02T11:28:07.295592Z"
    },
    "papermill": {
     "duration": 0.199598,
     "end_time": "2025-03-02T11:28:07.297130",
     "exception": false,
     "start_time": "2025-03-02T11:28:07.097532",
     "status": "completed"
    },
    "tags": []
   },
   "outputs": [],
   "source": [
    "from transformers import AutoTokenizer, AutoModel\n",
    "tokenizer = AutoTokenizer.from_pretrained(\"bert-base-uncased\")"
   ]
  },
  {
   "cell_type": "code",
   "execution_count": 16,
   "id": "68ac4919-76f1-4349-a314-4b1061126655",
   "metadata": {
    "execution": {
     "iopub.execute_input": "2025-03-02T11:28:07.303818Z",
     "iopub.status.busy": "2025-03-02T11:28:07.303527Z",
     "iopub.status.idle": "2025-03-02T11:28:07.306463Z",
     "shell.execute_reply": "2025-03-02T11:28:07.306066Z"
    },
    "papermill": {
     "duration": 0.006922,
     "end_time": "2025-03-02T11:28:07.307205",
     "exception": false,
     "start_time": "2025-03-02T11:28:07.300283",
     "status": "completed"
    },
    "tags": []
   },
   "outputs": [],
   "source": [
    "def cosine_distance(x, y):\n",
    "    return 1 - torch.nn.functional.cosine_similarity(x, y, dim=-1)"
   ]
  },
  {
   "cell_type": "code",
   "execution_count": 17,
   "id": "870570ba-20a1-4c0b-8367-525d85af4ded",
   "metadata": {
    "execution": {
     "iopub.execute_input": "2025-03-02T11:28:07.313402Z",
     "iopub.status.busy": "2025-03-02T11:28:07.313102Z",
     "iopub.status.idle": "2025-03-02T11:28:07.328663Z",
     "shell.execute_reply": "2025-03-02T11:28:07.328185Z"
    },
    "papermill": {
     "duration": 0.019505,
     "end_time": "2025-03-02T11:28:07.329490",
     "exception": false,
     "start_time": "2025-03-02T11:28:07.309985",
     "status": "completed"
    },
    "tags": []
   },
   "outputs": [],
   "source": [
    "def avg_embedding(inputs, model):\n",
    "    input=model(**inputs)\n",
    "    input_last_hidden_state=input.last_hidden_state\n",
    "    input_attention_mask = inputs['attention_mask']\n",
    "    input_masked_embeddings = input_last_hidden_state * input_attention_mask.unsqueeze(-1)\n",
    "    input_sum_embeddings = torch.sum(input_masked_embeddings, dim=1)\n",
    "    input_token_counts = torch.sum(input_attention_mask, dim=1).unsqueeze(-1)\n",
    "    input_avg_embeddings = input_sum_embeddings / input_token_counts\n",
    "    return(input_avg_embeddings)"
   ]
  },
  {
   "cell_type": "code",
   "execution_count": 18,
   "id": "990f63bd-4d48-4f58-a001-3b3250f65312",
   "metadata": {
    "execution": {
     "iopub.execute_input": "2025-03-02T11:28:07.335918Z",
     "iopub.status.busy": "2025-03-02T11:28:07.335482Z",
     "iopub.status.idle": "2025-03-02T11:28:07.352387Z",
     "shell.execute_reply": "2025-03-02T11:28:07.351973Z"
    },
    "papermill": {
     "duration": 0.020802,
     "end_time": "2025-03-02T11:28:07.353161",
     "exception": false,
     "start_time": "2025-03-02T11:28:07.332359",
     "status": "completed"
    },
    "tags": []
   },
   "outputs": [],
   "source": [
    "def evaluate_mrr(model, data_loader_val, distance_fn):\n",
    "    model.eval()  \n",
    "\n",
    "    total_rr = 0.0\n",
    "    num_queries = 0\n",
    "\n",
    "    with torch.no_grad():\n",
    "        for batch in data_loader_val:\n",
    "            anchor_text = batch[0]\n",
    "            positive_text = batch[1]\n",
    "            negative_texts = batch[2]\n",
    "\n",
    "            anchor_input = tokenizer(anchor_text, return_tensors='pt', padding=True, truncation=True, max_length=512).to(device)\n",
    "            positive_input = tokenizer(positive_text, return_tensors='pt', padding=True, truncation=True, max_length=512).to(device)\n",
    "\n",
    "            anchor_embedding = avg_embedding(anchor_input, model)\n",
    "            positive_embedding = avg_embedding(positive_input, model)\n",
    "            negative_embedding = [avg_embedding(tokenizer(neg, return_tensors='pt', padding=True, truncation=True, max_length=512).to(device), model) for neg in negative_texts]\n",
    "\n",
    "            pos_dist = distance_fn(anchor_embedding, positive_embedding)\n",
    "            neg_dist = torch.stack([distance_fn(anchor_embedding, neg) for neg in negative_embedding], dim=-1)\n",
    "            all_similarities=torch.cat([-pos_dist.unsqueeze(1), -neg_dist], dim=1)\n",
    "            \n",
    "            sorted_similarities, sorted_indices = torch.sort(all_similarities, dim=1, descending=True)\n",
    "\n",
    "            # Find the rank of the first relevant (positive) document\n",
    "            positive_rank = (sorted_indices == 0).nonzero(as_tuple=True)[1] + 1  # +1 to make rank 1-based\n",
    "            total_rr += torch.sum(1.0 / positive_rank.float()).item()  # Reciprocal rank\n",
    "            num_queries += len(positive_rank)\n",
    "\n",
    "    mrr = total_rr / num_queries\n",
    "    return mrr"
   ]
  },
  {
   "cell_type": "code",
   "execution_count": 19,
   "id": "534a9ec5-4211-4cb6-81f1-fb8a30caff92",
   "metadata": {
    "execution": {
     "iopub.execute_input": "2025-03-02T11:28:07.359415Z",
     "iopub.status.busy": "2025-03-02T11:28:07.359150Z",
     "iopub.status.idle": "2025-03-02T11:28:45.149453Z",
     "shell.execute_reply": "2025-03-02T11:28:45.148818Z"
    },
    "papermill": {
     "duration": 37.798996,
     "end_time": "2025-03-02T11:28:45.155008",
     "exception": false,
     "start_time": "2025-03-02T11:28:07.356012",
     "status": "completed"
    },
    "tags": []
   },
   "outputs": [
    {
     "name": "stdout",
     "output_type": "stream",
     "text": [
      "0.9421250083923339\n"
     ]
    }
   ],
   "source": [
    "mrr_validation = evaluate_mrr(lora_model, data_loader, cosine_distance)\n",
    "print(mrr_validation)"
   ]
  },
  {
   "cell_type": "code",
   "execution_count": null,
   "id": "f61bbd65-41c9-4ac7-80ef-ba4a4fb02d45",
   "metadata": {
    "papermill": {
     "duration": 0.003073,
     "end_time": "2025-03-02T11:28:45.161287",
     "exception": false,
     "start_time": "2025-03-02T11:28:45.158214",
     "status": "completed"
    },
    "tags": []
   },
   "outputs": [],
   "source": []
  }
 ],
 "metadata": {
  "kernelspec": {
   "display_name": "Python (myenv)",
   "language": "python",
   "name": "myenv"
  },
  "language_info": {
   "codemirror_mode": {
    "name": "ipython",
    "version": 3
   },
   "file_extension": ".py",
   "mimetype": "text/x-python",
   "name": "python",
   "nbconvert_exporter": "python",
   "pygments_lexer": "ipython3",
   "version": "3.12.7"
  },
  "papermill": {
   "default_parameters": {},
   "duration": 838.746651,
   "end_time": "2025-03-02T11:28:46.681381",
   "environment_variables": {},
   "exception": null,
   "input_path": "average_QUORA.ipynb",
   "output_path": "average_QUORA_output.ipynb",
   "parameters": {},
   "start_time": "2025-03-02T11:14:47.934730",
   "version": "2.6.0"
  },
  "widgets": {
   "application/vnd.jupyter.widget-state+json": {
    "state": {
     "220e13e0f675442c80b4a1de82319f4a": {
      "model_module": "@jupyter-widgets/base",
      "model_module_version": "2.0.0",
      "model_name": "LayoutModel",
      "state": {
       "_model_module": "@jupyter-widgets/base",
       "_model_module_version": "2.0.0",
       "_model_name": "LayoutModel",
       "_view_count": null,
       "_view_module": "@jupyter-widgets/base",
       "_view_module_version": "2.0.0",
       "_view_name": "LayoutView",
       "align_content": null,
       "align_items": null,
       "align_self": null,
       "border_bottom": null,
       "border_left": null,
       "border_right": null,
       "border_top": null,
       "bottom": null,
       "display": null,
       "flex": null,
       "flex_flow": null,
       "grid_area": null,
       "grid_auto_columns": null,
       "grid_auto_flow": null,
       "grid_auto_rows": null,
       "grid_column": null,
       "grid_gap": null,
       "grid_row": null,
       "grid_template_areas": null,
       "grid_template_columns": null,
       "grid_template_rows": null,
       "height": null,
       "justify_content": null,
       "justify_items": null,
       "left": null,
       "margin": null,
       "max_height": null,
       "max_width": null,
       "min_height": null,
       "min_width": null,
       "object_fit": null,
       "object_position": null,
       "order": null,
       "overflow": null,
       "padding": null,
       "right": null,
       "top": null,
       "visibility": null,
       "width": null
      }
     },
     "2c730bc6e8ac4b3e85d1963557484ac2": {
      "model_module": "@jupyter-widgets/controls",
      "model_module_version": "2.0.0",
      "model_name": "HBoxModel",
      "state": {
       "_dom_classes": [],
       "_model_module": "@jupyter-widgets/controls",
       "_model_module_version": "2.0.0",
       "_model_name": "HBoxModel",
       "_view_count": null,
       "_view_module": "@jupyter-widgets/controls",
       "_view_module_version": "2.0.0",
       "_view_name": "HBoxView",
       "box_style": "",
       "children": [
        "IPY_MODEL_d35c3edeb1304f76b275d29d7f7d4492",
        "IPY_MODEL_d2830f3265794f8ea9ac0557d7756702",
        "IPY_MODEL_31b1250bdfa341b683099e4c7f452042"
       ],
       "layout": "IPY_MODEL_220e13e0f675442c80b4a1de82319f4a",
       "tabbable": null,
       "tooltip": null
      }
     },
     "31b1250bdfa341b683099e4c7f452042": {
      "model_module": "@jupyter-widgets/controls",
      "model_module_version": "2.0.0",
      "model_name": "HTMLModel",
      "state": {
       "_dom_classes": [],
       "_model_module": "@jupyter-widgets/controls",
       "_model_module_version": "2.0.0",
       "_model_name": "HTMLModel",
       "_view_count": null,
       "_view_module": "@jupyter-widgets/controls",
       "_view_module_version": "2.0.0",
       "_view_name": "HTMLView",
       "description": "",
       "description_allow_html": false,
       "layout": "IPY_MODEL_ff0df6921bec42668ae527ffce804f2e",
       "placeholder": "​",
       "style": "IPY_MODEL_9aa42b5cdb864652b721443c069c879c",
       "tabbable": null,
       "tooltip": null,
       "value": " 522931/522931 [00:01&lt;00:00, 355629.88it/s]"
      }
     },
     "663181c02bde4f6c9b9754efc22b2e7b": {
      "model_module": "@jupyter-widgets/controls",
      "model_module_version": "2.0.0",
      "model_name": "ProgressStyleModel",
      "state": {
       "_model_module": "@jupyter-widgets/controls",
       "_model_module_version": "2.0.0",
       "_model_name": "ProgressStyleModel",
       "_view_count": null,
       "_view_module": "@jupyter-widgets/base",
       "_view_module_version": "2.0.0",
       "_view_name": "StyleView",
       "bar_color": null,
       "description_width": ""
      }
     },
     "8ac44cc30b694108babf5e63f28b9c9d": {
      "model_module": "@jupyter-widgets/base",
      "model_module_version": "2.0.0",
      "model_name": "LayoutModel",
      "state": {
       "_model_module": "@jupyter-widgets/base",
       "_model_module_version": "2.0.0",
       "_model_name": "LayoutModel",
       "_view_count": null,
       "_view_module": "@jupyter-widgets/base",
       "_view_module_version": "2.0.0",
       "_view_name": "LayoutView",
       "align_content": null,
       "align_items": null,
       "align_self": null,
       "border_bottom": null,
       "border_left": null,
       "border_right": null,
       "border_top": null,
       "bottom": null,
       "display": null,
       "flex": null,
       "flex_flow": null,
       "grid_area": null,
       "grid_auto_columns": null,
       "grid_auto_flow": null,
       "grid_auto_rows": null,
       "grid_column": null,
       "grid_gap": null,
       "grid_row": null,
       "grid_template_areas": null,
       "grid_template_columns": null,
       "grid_template_rows": null,
       "height": null,
       "justify_content": null,
       "justify_items": null,
       "left": null,
       "margin": null,
       "max_height": null,
       "max_width": null,
       "min_height": null,
       "min_width": null,
       "object_fit": null,
       "object_position": null,
       "order": null,
       "overflow": null,
       "padding": null,
       "right": null,
       "top": null,
       "visibility": null,
       "width": null
      }
     },
     "8fb2b868eaa9470091b06bd5b41b6652": {
      "model_module": "@jupyter-widgets/base",
      "model_module_version": "2.0.0",
      "model_name": "LayoutModel",
      "state": {
       "_model_module": "@jupyter-widgets/base",
       "_model_module_version": "2.0.0",
       "_model_name": "LayoutModel",
       "_view_count": null,
       "_view_module": "@jupyter-widgets/base",
       "_view_module_version": "2.0.0",
       "_view_name": "LayoutView",
       "align_content": null,
       "align_items": null,
       "align_self": null,
       "border_bottom": null,
       "border_left": null,
       "border_right": null,
       "border_top": null,
       "bottom": null,
       "display": null,
       "flex": null,
       "flex_flow": null,
       "grid_area": null,
       "grid_auto_columns": null,
       "grid_auto_flow": null,
       "grid_auto_rows": null,
       "grid_column": null,
       "grid_gap": null,
       "grid_row": null,
       "grid_template_areas": null,
       "grid_template_columns": null,
       "grid_template_rows": null,
       "height": null,
       "justify_content": null,
       "justify_items": null,
       "left": null,
       "margin": null,
       "max_height": null,
       "max_width": null,
       "min_height": null,
       "min_width": null,
       "object_fit": null,
       "object_position": null,
       "order": null,
       "overflow": null,
       "padding": null,
       "right": null,
       "top": null,
       "visibility": null,
       "width": null
      }
     },
     "9aa42b5cdb864652b721443c069c879c": {
      "model_module": "@jupyter-widgets/controls",
      "model_module_version": "2.0.0",
      "model_name": "HTMLStyleModel",
      "state": {
       "_model_module": "@jupyter-widgets/controls",
       "_model_module_version": "2.0.0",
       "_model_name": "HTMLStyleModel",
       "_view_count": null,
       "_view_module": "@jupyter-widgets/base",
       "_view_module_version": "2.0.0",
       "_view_name": "StyleView",
       "background": null,
       "description_width": "",
       "font_size": null,
       "text_color": null
      }
     },
     "b3df0a21c035400fa43c21d572a962e6": {
      "model_module": "@jupyter-widgets/controls",
      "model_module_version": "2.0.0",
      "model_name": "HTMLStyleModel",
      "state": {
       "_model_module": "@jupyter-widgets/controls",
       "_model_module_version": "2.0.0",
       "_model_name": "HTMLStyleModel",
       "_view_count": null,
       "_view_module": "@jupyter-widgets/base",
       "_view_module_version": "2.0.0",
       "_view_name": "StyleView",
       "background": null,
       "description_width": "",
       "font_size": null,
       "text_color": null
      }
     },
     "d2830f3265794f8ea9ac0557d7756702": {
      "model_module": "@jupyter-widgets/controls",
      "model_module_version": "2.0.0",
      "model_name": "FloatProgressModel",
      "state": {
       "_dom_classes": [],
       "_model_module": "@jupyter-widgets/controls",
       "_model_module_version": "2.0.0",
       "_model_name": "FloatProgressModel",
       "_view_count": null,
       "_view_module": "@jupyter-widgets/controls",
       "_view_module_version": "2.0.0",
       "_view_name": "ProgressView",
       "bar_style": "success",
       "description": "",
       "description_allow_html": false,
       "layout": "IPY_MODEL_8ac44cc30b694108babf5e63f28b9c9d",
       "max": 522931.0,
       "min": 0.0,
       "orientation": "horizontal",
       "style": "IPY_MODEL_663181c02bde4f6c9b9754efc22b2e7b",
       "tabbable": null,
       "tooltip": null,
       "value": 522931.0
      }
     },
     "d35c3edeb1304f76b275d29d7f7d4492": {
      "model_module": "@jupyter-widgets/controls",
      "model_module_version": "2.0.0",
      "model_name": "HTMLModel",
      "state": {
       "_dom_classes": [],
       "_model_module": "@jupyter-widgets/controls",
       "_model_module_version": "2.0.0",
       "_model_name": "HTMLModel",
       "_view_count": null,
       "_view_module": "@jupyter-widgets/controls",
       "_view_module_version": "2.0.0",
       "_view_name": "HTMLView",
       "description": "",
       "description_allow_html": false,
       "layout": "IPY_MODEL_8fb2b868eaa9470091b06bd5b41b6652",
       "placeholder": "​",
       "style": "IPY_MODEL_b3df0a21c035400fa43c21d572a962e6",
       "tabbable": null,
       "tooltip": null,
       "value": "100%"
      }
     },
     "ff0df6921bec42668ae527ffce804f2e": {
      "model_module": "@jupyter-widgets/base",
      "model_module_version": "2.0.0",
      "model_name": "LayoutModel",
      "state": {
       "_model_module": "@jupyter-widgets/base",
       "_model_module_version": "2.0.0",
       "_model_name": "LayoutModel",
       "_view_count": null,
       "_view_module": "@jupyter-widgets/base",
       "_view_module_version": "2.0.0",
       "_view_name": "LayoutView",
       "align_content": null,
       "align_items": null,
       "align_self": null,
       "border_bottom": null,
       "border_left": null,
       "border_right": null,
       "border_top": null,
       "bottom": null,
       "display": null,
       "flex": null,
       "flex_flow": null,
       "grid_area": null,
       "grid_auto_columns": null,
       "grid_auto_flow": null,
       "grid_auto_rows": null,
       "grid_column": null,
       "grid_gap": null,
       "grid_row": null,
       "grid_template_areas": null,
       "grid_template_columns": null,
       "grid_template_rows": null,
       "height": null,
       "justify_content": null,
       "justify_items": null,
       "left": null,
       "margin": null,
       "max_height": null,
       "max_width": null,
       "min_height": null,
       "min_width": null,
       "object_fit": null,
       "object_position": null,
       "order": null,
       "overflow": null,
       "padding": null,
       "right": null,
       "top": null,
       "visibility": null,
       "width": null
      }
     }
    },
    "version_major": 2,
    "version_minor": 0
   }
  }
 },
 "nbformat": 4,
 "nbformat_minor": 5
}