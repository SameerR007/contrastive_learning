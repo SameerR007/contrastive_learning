{
 "cells": [
  {
   "cell_type": "code",
   "execution_count": 1,
   "id": "48fbe375",
   "metadata": {
    "execution": {
     "iopub.execute_input": "2025-02-13T11:35:00.369771Z",
     "iopub.status.busy": "2025-02-13T11:35:00.369639Z",
     "iopub.status.idle": "2025-02-13T11:35:05.745258Z",
     "shell.execute_reply": "2025-02-13T11:35:05.744571Z"
    },
    "papermill": {
     "duration": 5.384471,
     "end_time": "2025-02-13T11:35:05.746214",
     "exception": false,
     "start_time": "2025-02-13T11:35:00.361743",
     "status": "completed"
    },
    "tags": []
   },
   "outputs": [],
   "source": [
    "from datasets import load_dataset\n",
    "import random\n",
    "import json"
   ]
  },
  {
   "cell_type": "code",
   "execution_count": 2,
   "id": "f42b2197",
   "metadata": {
    "execution": {
     "iopub.execute_input": "2025-02-13T11:35:05.759893Z",
     "iopub.status.busy": "2025-02-13T11:35:05.759660Z",
     "iopub.status.idle": "2025-02-13T11:35:48.294863Z",
     "shell.execute_reply": "2025-02-13T11:35:48.294425Z"
    },
    "papermill": {
     "duration": 42.542376,
     "end_time": "2025-02-13T11:35:48.295988",
     "exception": false,
     "start_time": "2025-02-13T11:35:05.753612",
     "status": "completed"
    },
    "tags": []
   },
   "outputs": [
    {
     "name": "stderr",
     "output_type": "stream",
     "text": [
      "Using the latest cached version of the dataset since dbpedia_14 couldn't be found on the Hugging Face Hub\n"
     ]
    },
    {
     "name": "stderr",
     "output_type": "stream",
     "text": [
      "Found the latest cached dataset configuration 'dbpedia_14' at /dss/dsshome1/07/ra65bex2/.cache/huggingface/datasets/dbpedia_14/dbpedia_14/0.0.0/9abd46cf7fc8b4c64290f26993c540b92aa145ac (last modified on Wed Feb 12 23:06:05 2025).\n"
     ]
    },
    {
     "data": {
      "text/plain": [
       "DatasetDict({\n",
       "    train: Dataset({\n",
       "        features: ['label', 'title', 'content'],\n",
       "        num_rows: 560000\n",
       "    })\n",
       "    test: Dataset({\n",
       "        features: ['label', 'title', 'content'],\n",
       "        num_rows: 70000\n",
       "    })\n",
       "})"
      ]
     },
     "execution_count": 2,
     "metadata": {},
     "output_type": "execute_result"
    }
   ],
   "source": [
    "load_dataset(\"dbpedia_14\")"
   ]
  },
  {
   "cell_type": "code",
   "execution_count": 3,
   "id": "bcab568b",
   "metadata": {
    "execution": {
     "iopub.execute_input": "2025-02-13T11:35:48.316003Z",
     "iopub.status.busy": "2025-02-13T11:35:48.315856Z",
     "iopub.status.idle": "2025-02-13T11:35:51.511969Z",
     "shell.execute_reply": "2025-02-13T11:35:51.511487Z"
    },
    "papermill": {
     "duration": 3.202542,
     "end_time": "2025-02-13T11:35:51.512609",
     "exception": false,
     "start_time": "2025-02-13T11:35:48.310067",
     "status": "completed"
    },
    "tags": []
   },
   "outputs": [
    {
     "data": {
      "text/plain": [
       "Dataset({\n",
       "    features: ['label', 'title', 'content'],\n",
       "    num_rows: 560000\n",
       "})"
      ]
     },
     "execution_count": 3,
     "metadata": {},
     "output_type": "execute_result"
    }
   ],
   "source": [
    "dataset_train = load_dataset(\"dbpedia_14\", split=\"train\")\n",
    "dataset_train"
   ]
  },
  {
   "cell_type": "code",
   "execution_count": 4,
   "id": "89debf02",
   "metadata": {
    "execution": {
     "iopub.execute_input": "2025-02-13T11:35:51.525198Z",
     "iopub.status.busy": "2025-02-13T11:35:51.524870Z",
     "iopub.status.idle": "2025-02-13T11:35:51.528209Z",
     "shell.execute_reply": "2025-02-13T11:35:51.527874Z"
    },
    "papermill": {
     "duration": 0.009222,
     "end_time": "2025-02-13T11:35:51.529029",
     "exception": false,
     "start_time": "2025-02-13T11:35:51.519807",
     "status": "completed"
    },
    "tags": []
   },
   "outputs": [
    {
     "data": {
      "text/plain": [
       "{'label': 0,\n",
       " 'title': 'E. D. Abbott Ltd',\n",
       " 'content': ' Abbott of Farnham E D Abbott Limited was a British coachbuilding business based in Farnham Surrey trading under that name from 1929. A major part of their output was under sub-contract to motor vehicle manufacturers. Their business closed in 1972.'}"
      ]
     },
     "execution_count": 4,
     "metadata": {},
     "output_type": "execute_result"
    }
   ],
   "source": [
    "dataset_train[0]"
   ]
  },
  {
   "cell_type": "code",
   "execution_count": 5,
   "id": "acf6c8d2",
   "metadata": {
    "execution": {
     "iopub.execute_input": "2025-02-13T11:35:51.538588Z",
     "iopub.status.busy": "2025-02-13T11:35:51.538457Z",
     "iopub.status.idle": "2025-02-13T11:35:51.541088Z",
     "shell.execute_reply": "2025-02-13T11:35:51.540709Z"
    },
    "papermill": {
     "duration": 0.008068,
     "end_time": "2025-02-13T11:35:51.541664",
     "exception": false,
     "start_time": "2025-02-13T11:35:51.533596",
     "status": "completed"
    },
    "tags": []
   },
   "outputs": [],
   "source": [
    "LABEL_TO_CATEGORY = {\n",
    "    0: \"Company\",\n",
    "    1: \"Educational Institution\",\n",
    "    2: \"Artist\",\n",
    "    3: \"Athlete\",\n",
    "    4: \"Office Holder\",\n",
    "    5: \"Mean Of Transportation\",\n",
    "    6: \"Building\",\n",
    "    7: \"Natural Place\",\n",
    "    8: \"Village\",\n",
    "    9: \"Animal\",\n",
    "    10: \"Plant\",\n",
    "    11: \"Album\",\n",
    "    12: \"Film\",\n",
    "    13: \"Written Work\"\n",
    "}"
   ]
  },
  {
   "cell_type": "code",
   "execution_count": 6,
   "id": "cb0d9c4d",
   "metadata": {
    "execution": {
     "iopub.execute_input": "2025-02-13T11:35:51.551618Z",
     "iopub.status.busy": "2025-02-13T11:35:51.551295Z",
     "iopub.status.idle": "2025-02-13T11:36:06.034569Z",
     "shell.execute_reply": "2025-02-13T11:36:06.033616Z"
    },
    "papermill": {
     "duration": 14.489325,
     "end_time": "2025-02-13T11:36:06.035637",
     "exception": false,
     "start_time": "2025-02-13T11:35:51.546312",
     "status": "completed"
    },
    "tags": []
   },
   "outputs": [],
   "source": [
    "category_to_samples = {}\n",
    "for sample in dataset_train:\n",
    "    category = LABEL_TO_CATEGORY[sample[\"label\"]]\n",
    "    if category not in category_to_samples:\n",
    "        category_to_samples[category] = []\n",
    "    category_to_samples[category].append(sample[\"content\"])"
   ]
  },
  {
   "cell_type": "code",
   "execution_count": 7,
   "id": "f9dd5b9b",
   "metadata": {
    "execution": {
     "iopub.execute_input": "2025-02-13T11:36:06.049455Z",
     "iopub.status.busy": "2025-02-13T11:36:06.049278Z",
     "iopub.status.idle": "2025-02-13T11:36:06.497830Z",
     "shell.execute_reply": "2025-02-13T11:36:06.497224Z"
    },
    "papermill": {
     "duration": 0.45589,
     "end_time": "2025-02-13T11:36:06.498992",
     "exception": false,
     "start_time": "2025-02-13T11:36:06.043102",
     "status": "completed"
    },
    "tags": []
   },
   "outputs": [],
   "source": [
    "category_negatives = {\n",
    "    category: [desc for cat, descriptions in category_to_samples.items() if cat != category for desc in descriptions]\n",
    "    for category in LABEL_TO_CATEGORY.values()\n",
    "}"
   ]
  },
  {
   "cell_type": "code",
   "execution_count": 8,
   "id": "f8da30b5",
   "metadata": {
    "execution": {
     "iopub.execute_input": "2025-02-13T11:36:06.510025Z",
     "iopub.status.busy": "2025-02-13T11:36:06.509881Z",
     "iopub.status.idle": "2025-02-13T11:36:06.513812Z",
     "shell.execute_reply": "2025-02-13T11:36:06.513269Z"
    },
    "papermill": {
     "duration": 0.009873,
     "end_time": "2025-02-13T11:36:06.514439",
     "exception": false,
     "start_time": "2025-02-13T11:36:06.504566",
     "status": "completed"
    },
    "tags": []
   },
   "outputs": [],
   "source": [
    "def preprocess(example, num_negatives=5):\n",
    "    category = LABEL_TO_CATEGORY.get(example[\"label\"], None)\n",
    "    \n",
    "    if category is None or category not in category_negatives:\n",
    "        return None  \n",
    "\n",
    "    query = f\"Tell me about {category.lower()}.\"\n",
    "    positive = example[\"content\"]\n",
    "\n",
    "    negatives = random.choices(category_negatives[category], k=num_negatives)\n",
    "\n",
    "    return {\n",
    "        \"query\": query,\n",
    "        \"positive\": positive,\n",
    "        \"negatives\": negatives\n",
    "    }"
   ]
  },
  {
   "cell_type": "code",
   "execution_count": 9,
   "id": "c6bf3891",
   "metadata": {
    "execution": {
     "iopub.execute_input": "2025-02-13T11:36:06.526665Z",
     "iopub.status.busy": "2025-02-13T11:36:06.526536Z",
     "iopub.status.idle": "2025-02-13T11:36:20.217994Z",
     "shell.execute_reply": "2025-02-13T11:36:20.217301Z"
    },
    "papermill": {
     "duration": 13.699301,
     "end_time": "2025-02-13T11:36:20.219171",
     "exception": false,
     "start_time": "2025-02-13T11:36:06.519870",
     "status": "completed"
    },
    "tags": []
   },
   "outputs": [],
   "source": [
    "processed_data_train = dataset_train.map(preprocess, remove_columns=dataset_train.column_names)"
   ]
  },
  {
   "cell_type": "code",
   "execution_count": 10,
   "id": "819ac9c5",
   "metadata": {
    "execution": {
     "iopub.execute_input": "2025-02-13T11:36:20.232076Z",
     "iopub.status.busy": "2025-02-13T11:36:20.231910Z",
     "iopub.status.idle": "2025-02-13T11:36:20.242326Z",
     "shell.execute_reply": "2025-02-13T11:36:20.241744Z"
    },
    "papermill": {
     "duration": 0.01666,
     "end_time": "2025-02-13T11:36:20.243042",
     "exception": false,
     "start_time": "2025-02-13T11:36:20.226382",
     "status": "completed"
    },
    "tags": []
   },
   "outputs": [],
   "source": [
    "processed_data_train = processed_data_train.filter(lambda x: x['query'] is not None and x['positive'] is not None)"
   ]
  },
  {
   "cell_type": "code",
   "execution_count": 11,
   "id": "814ffc50",
   "metadata": {
    "execution": {
     "iopub.execute_input": "2025-02-13T11:36:20.253198Z",
     "iopub.status.busy": "2025-02-13T11:36:20.252996Z",
     "iopub.status.idle": "2025-02-13T11:36:20.256472Z",
     "shell.execute_reply": "2025-02-13T11:36:20.256113Z"
    },
    "papermill": {
     "duration": 0.009163,
     "end_time": "2025-02-13T11:36:20.257114",
     "exception": false,
     "start_time": "2025-02-13T11:36:20.247951",
     "status": "completed"
    },
    "tags": []
   },
   "outputs": [
    {
     "data": {
      "text/plain": [
       "Dataset({\n",
       "    features: ['query', 'positive', 'negatives'],\n",
       "    num_rows: 560000\n",
       "})"
      ]
     },
     "execution_count": 11,
     "metadata": {},
     "output_type": "execute_result"
    }
   ],
   "source": [
    "processed_data_train"
   ]
  },
  {
   "cell_type": "code",
   "execution_count": 12,
   "id": "ee74aadb",
   "metadata": {
    "execution": {
     "iopub.execute_input": "2025-02-13T11:36:20.267129Z",
     "iopub.status.busy": "2025-02-13T11:36:20.267000Z",
     "iopub.status.idle": "2025-02-13T11:36:20.270725Z",
     "shell.execute_reply": "2025-02-13T11:36:20.270356Z"
    },
    "papermill": {
     "duration": 0.009437,
     "end_time": "2025-02-13T11:36:20.271328",
     "exception": false,
     "start_time": "2025-02-13T11:36:20.261891",
     "status": "completed"
    },
    "tags": []
   },
   "outputs": [
    {
     "data": {
      "text/plain": [
       "{'query': 'Tell me about company.',\n",
       " 'positive': ' Abbott of Farnham E D Abbott Limited was a British coachbuilding business based in Farnham Surrey trading under that name from 1929. A major part of their output was under sub-contract to motor vehicle manufacturers. Their business closed in 1972.',\n",
       " 'negatives': [' The Ford Model 15-P flying wing was the last aircraft developed by the Stout Metal Airplane Division of the Ford Motor Company. After several flights resulting in a crash the program was halted. Ford eventually re-entered the aviation market producing Consolidated B-24 Liberators under license from Consolidated Aircraft.',\n",
       "  ' Nellie Stockbridge (ca. 1868 – May 22 1965) was an early Idaho frontier mining district photographer. Her career spanned over 60 years. She was the oldest living member of the Zonta International club for advancement of women when she died in 1965.',\n",
       "  ' Shurikeh (Persian: شوريكه\\u200e also Romanized as Shūrīḵeh) is a village in Darbqazi Rural District in the Central District of Nishapur County Razavi Khorasan Province Iran. At the 2006 census its existence was noted but its population was not reported.',\n",
       "  \" Walker Valley High School (WVHS) is a public high school in the Bradley County Schools system located in the northern part of Bradley County Tennessee near Charleston Tennessee. The school serves about 1600 students in grades 9–12.The school's mascot is the mustang and its school colors are blue and gold. Walker Valley has been in existence since 2001. The current principal is Mr. Danny Coggin.\",\n",
       "  ' Into the Unknown is the fifth album by Mercyful Fate released by Metal Blade Records in 1996.Into the Unknown is the most commercially successful Mercyful Fate album to date. It peaked at #31 in the Finnish charts remaining for two weeks in the Top 40. It is the only album by the band to appear on the charts.']}"
      ]
     },
     "execution_count": 12,
     "metadata": {},
     "output_type": "execute_result"
    }
   ],
   "source": [
    "processed_data_train[0]"
   ]
  },
  {
   "cell_type": "code",
   "execution_count": 13,
   "id": "12e095f2",
   "metadata": {
    "execution": {
     "iopub.execute_input": "2025-02-13T11:36:20.281837Z",
     "iopub.status.busy": "2025-02-13T11:36:20.281473Z",
     "iopub.status.idle": "2025-02-13T11:37:00.256762Z",
     "shell.execute_reply": "2025-02-13T11:37:00.256126Z"
    },
    "papermill": {
     "duration": 39.981491,
     "end_time": "2025-02-13T11:37:00.257738",
     "exception": false,
     "start_time": "2025-02-13T11:36:20.276247",
     "status": "completed"
    },
    "tags": []
   },
   "outputs": [],
   "source": [
    "contrastive_pairs_train = []\n",
    "for item in processed_data_train:\n",
    "    query = item[\"query\"]\n",
    "    positive = item[\"positive\"]\n",
    "    negatives = item[\"negatives\"]\n",
    "    contrastive_pairs_train.append({\n",
    "        \"anchor\": query,\n",
    "        \"positive\": positive,\n",
    "        \"negatives\": negatives\n",
    "    })"
   ]
  },
  {
   "cell_type": "code",
   "execution_count": 14,
   "id": "07b61bf5",
   "metadata": {
    "execution": {
     "iopub.execute_input": "2025-02-13T11:37:00.271323Z",
     "iopub.status.busy": "2025-02-13T11:37:00.271170Z",
     "iopub.status.idle": "2025-02-13T11:37:00.275028Z",
     "shell.execute_reply": "2025-02-13T11:37:00.274485Z"
    },
    "papermill": {
     "duration": 0.010162,
     "end_time": "2025-02-13T11:37:00.275626",
     "exception": false,
     "start_time": "2025-02-13T11:37:00.265464",
     "status": "completed"
    },
    "tags": []
   },
   "outputs": [
    {
     "data": {
      "text/plain": [
       "{'anchor': 'Tell me about film.',\n",
       " 'positive': ' Rojo Amanecer (Red Dawn) is a 1989 Silver Ariel Award-winning Mexican film directed by Jorge Fons. It is a film about the Tlatelolco Massacre in the section of Tlatelolco in Mexico City in the evening of October 2 1968. It focuses on the day of a middle-class Mexican family living in one of the apartment buildings surrounding the Plaza de Tlatelolco and is based on testimonials from witnesses and victims. It stars Héctor Bonilla María Rojo the Bichir Brothers Eduardo Palomo and others.',\n",
       " 'negatives': [' Karschiola is a genus of moths in the family Arctiidae. It contains the single species Karschiola holoclera which is found in Malawi Tanzania and Zimbabwe.',\n",
       "  ' Billie Fulford (21 August 1914 – 28 May 1987) was a New Zealand cricketer. She played in one Test match in 1948.',\n",
       "  ' Discovery or Discoverie was a small 20-ton 38 foot (12 m) long fly-boat of the British East India Company launched before 1602. The ship was one of three that participated in the voyage that led to the founding of Jamestown Virginia.',\n",
       "  ' Hemidoras stenopeltis is a species of thorny catfish found in the Amazon basin of Brazil Colombia and Peru. This species grows to a length of 12.5 centimetres (4.9 in) SL.',\n",
       "  ' Maxilua is a genus of moths of the Noctuidae family.']}"
      ]
     },
     "execution_count": 14,
     "metadata": {},
     "output_type": "execute_result"
    }
   ],
   "source": [
    "contrastive_pairs_train[500000]"
   ]
  },
  {
   "cell_type": "code",
   "execution_count": 15,
   "id": "9c6ec984",
   "metadata": {
    "execution": {
     "iopub.execute_input": "2025-02-13T11:37:00.286954Z",
     "iopub.status.busy": "2025-02-13T11:37:00.286586Z",
     "iopub.status.idle": "2025-02-13T11:37:00.291345Z",
     "shell.execute_reply": "2025-02-13T11:37:00.291005Z"
    },
    "papermill": {
     "duration": 0.010992,
     "end_time": "2025-02-13T11:37:00.291951",
     "exception": false,
     "start_time": "2025-02-13T11:37:00.280959",
     "status": "completed"
    },
    "tags": []
   },
   "outputs": [
    {
     "data": {
      "text/plain": [
       "560000"
      ]
     },
     "execution_count": 15,
     "metadata": {},
     "output_type": "execute_result"
    }
   ],
   "source": [
    "len(contrastive_pairs_train)"
   ]
  },
  {
   "cell_type": "code",
   "execution_count": 16,
   "id": "dbc69dcd",
   "metadata": {
    "execution": {
     "iopub.execute_input": "2025-02-13T11:37:00.303140Z",
     "iopub.status.busy": "2025-02-13T11:37:00.303010Z",
     "iopub.status.idle": "2025-02-13T11:37:07.241096Z",
     "shell.execute_reply": "2025-02-13T11:37:07.240546Z"
    },
    "papermill": {
     "duration": 6.944799,
     "end_time": "2025-02-13T11:37:07.242171",
     "exception": false,
     "start_time": "2025-02-13T11:37:00.297372",
     "status": "completed"
    },
    "tags": []
   },
   "outputs": [],
   "source": [
    "from torch.utils.data import DataLoader"
   ]
  },
  {
   "cell_type": "code",
   "execution_count": 17,
   "id": "c4f73997",
   "metadata": {
    "execution": {
     "iopub.execute_input": "2025-02-13T11:37:07.259068Z",
     "iopub.status.busy": "2025-02-13T11:37:07.258518Z",
     "iopub.status.idle": "2025-02-13T11:37:07.262555Z",
     "shell.execute_reply": "2025-02-13T11:37:07.262170Z"
    },
    "papermill": {
     "duration": 0.012591,
     "end_time": "2025-02-13T11:37:07.263929",
     "exception": false,
     "start_time": "2025-02-13T11:37:07.251338",
     "status": "completed"
    },
    "tags": []
   },
   "outputs": [],
   "source": [
    "class ContrastiveDataset:\n",
    "    def __init__(self, pairs):\n",
    "        self.pairs = pairs\n",
    "\n",
    "    def __len__(self):\n",
    "        return len(self.pairs)\n",
    "\n",
    "    def __getitem__(self, idx):\n",
    "        item = self.pairs[idx]\n",
    "        return item[\"anchor\"], item[\"positive\"], item[\"negatives\"]"
   ]
  },
  {
   "cell_type": "code",
   "execution_count": 18,
   "id": "5cbd4af1",
   "metadata": {
    "execution": {
     "iopub.execute_input": "2025-02-13T11:37:07.276608Z",
     "iopub.status.busy": "2025-02-13T11:37:07.276469Z",
     "iopub.status.idle": "2025-02-13T11:37:07.283721Z",
     "shell.execute_reply": "2025-02-13T11:37:07.283353Z"
    },
    "papermill": {
     "duration": 0.014111,
     "end_time": "2025-02-13T11:37:07.284373",
     "exception": false,
     "start_time": "2025-02-13T11:37:07.270262",
     "status": "completed"
    },
    "tags": []
   },
   "outputs": [],
   "source": [
    "contrastive_dataset_train = ContrastiveDataset(contrastive_pairs_train)"
   ]
  },
  {
   "cell_type": "code",
   "execution_count": 19,
   "id": "32d6cc68",
   "metadata": {
    "execution": {
     "iopub.execute_input": "2025-02-13T11:37:07.297116Z",
     "iopub.status.busy": "2025-02-13T11:37:07.296984Z",
     "iopub.status.idle": "2025-02-13T11:37:07.299404Z",
     "shell.execute_reply": "2025-02-13T11:37:07.299082Z"
    },
    "papermill": {
     "duration": 0.009608,
     "end_time": "2025-02-13T11:37:07.300062",
     "exception": false,
     "start_time": "2025-02-13T11:37:07.290454",
     "status": "completed"
    },
    "tags": []
   },
   "outputs": [],
   "source": [
    "data_loader_train = DataLoader(contrastive_dataset_train, batch_size=32, shuffle=True)"
   ]
  },
  {
   "cell_type": "code",
   "execution_count": 20,
   "id": "7b347a63",
   "metadata": {
    "execution": {
     "iopub.execute_input": "2025-02-13T11:37:07.313999Z",
     "iopub.status.busy": "2025-02-13T11:37:07.313461Z",
     "iopub.status.idle": "2025-02-13T11:37:07.316937Z",
     "shell.execute_reply": "2025-02-13T11:37:07.316554Z"
    },
    "papermill": {
     "duration": 0.011694,
     "end_time": "2025-02-13T11:37:07.317833",
     "exception": false,
     "start_time": "2025-02-13T11:37:07.306139",
     "status": "completed"
    },
    "tags": []
   },
   "outputs": [
    {
     "data": {
      "text/plain": [
       "17500"
      ]
     },
     "execution_count": 20,
     "metadata": {},
     "output_type": "execute_result"
    }
   ],
   "source": [
    "len(data_loader_train)"
   ]
  },
  {
   "cell_type": "code",
   "execution_count": 21,
   "id": "bac9e118",
   "metadata": {
    "execution": {
     "iopub.execute_input": "2025-02-13T11:37:07.332072Z",
     "iopub.status.busy": "2025-02-13T11:37:07.331877Z",
     "iopub.status.idle": "2025-02-13T11:37:15.723697Z",
     "shell.execute_reply": "2025-02-13T11:37:15.723266Z"
    },
    "papermill": {
     "duration": 8.399809,
     "end_time": "2025-02-13T11:37:15.724617",
     "exception": false,
     "start_time": "2025-02-13T11:37:07.324808",
     "status": "completed"
    },
    "tags": []
   },
   "outputs": [],
   "source": [
    "from transformers import AutoTokenizer, AutoModel\n",
    "tokenizer = AutoTokenizer.from_pretrained(\"bert-base-uncased\")"
   ]
  },
  {
   "cell_type": "code",
   "execution_count": 22,
   "id": "92715334",
   "metadata": {
    "execution": {
     "iopub.execute_input": "2025-02-13T11:37:15.738866Z",
     "iopub.status.busy": "2025-02-13T11:37:15.738627Z",
     "iopub.status.idle": "2025-02-13T11:37:18.157618Z",
     "shell.execute_reply": "2025-02-13T11:37:18.156793Z"
    },
    "papermill": {
     "duration": 2.426287,
     "end_time": "2025-02-13T11:37:18.159002",
     "exception": false,
     "start_time": "2025-02-13T11:37:15.732715",
     "status": "completed"
    },
    "tags": []
   },
   "outputs": [],
   "source": [
    "model = AutoModel.from_pretrained(\"bert-base-uncased\")"
   ]
  },
  {
   "cell_type": "code",
   "execution_count": 23,
   "id": "6da7303b",
   "metadata": {
    "execution": {
     "iopub.execute_input": "2025-02-13T11:37:18.171730Z",
     "iopub.status.busy": "2025-02-13T11:37:18.171473Z",
     "iopub.status.idle": "2025-02-13T11:37:18.617740Z",
     "shell.execute_reply": "2025-02-13T11:37:18.617332Z"
    },
    "papermill": {
     "duration": 0.453527,
     "end_time": "2025-02-13T11:37:18.618742",
     "exception": false,
     "start_time": "2025-02-13T11:37:18.165215",
     "status": "completed"
    },
    "tags": []
   },
   "outputs": [],
   "source": [
    "from peft import LoraConfig, get_peft_model"
   ]
  },
  {
   "cell_type": "code",
   "execution_count": 24,
   "id": "91392972",
   "metadata": {
    "execution": {
     "iopub.execute_input": "2025-02-13T11:37:18.636865Z",
     "iopub.status.busy": "2025-02-13T11:37:18.635517Z",
     "iopub.status.idle": "2025-02-13T11:37:18.641385Z",
     "shell.execute_reply": "2025-02-13T11:37:18.640371Z"
    },
    "papermill": {
     "duration": 0.015793,
     "end_time": "2025-02-13T11:37:18.643058",
     "exception": false,
     "start_time": "2025-02-13T11:37:18.627265",
     "status": "completed"
    },
    "tags": []
   },
   "outputs": [],
   "source": [
    "lora_config = LoraConfig(\n",
    "    task_type= \"FEATURE_EXTRACTION\"\n",
    ")"
   ]
  },
  {
   "cell_type": "code",
   "execution_count": 25,
   "id": "01ffe588",
   "metadata": {
    "execution": {
     "iopub.execute_input": "2025-02-13T11:37:18.659927Z",
     "iopub.status.busy": "2025-02-13T11:37:18.659707Z",
     "iopub.status.idle": "2025-02-13T11:37:18.686532Z",
     "shell.execute_reply": "2025-02-13T11:37:18.686091Z"
    },
    "papermill": {
     "duration": 0.036839,
     "end_time": "2025-02-13T11:37:18.687564",
     "exception": false,
     "start_time": "2025-02-13T11:37:18.650725",
     "status": "completed"
    },
    "tags": []
   },
   "outputs": [],
   "source": [
    "lora_model = get_peft_model(model, lora_config)"
   ]
  },
  {
   "cell_type": "code",
   "execution_count": 26,
   "id": "124c081a",
   "metadata": {
    "execution": {
     "iopub.execute_input": "2025-02-13T11:37:18.700296Z",
     "iopub.status.busy": "2025-02-13T11:37:18.700143Z",
     "iopub.status.idle": "2025-02-13T11:37:18.702834Z",
     "shell.execute_reply": "2025-02-13T11:37:18.702504Z"
    },
    "papermill": {
     "duration": 0.009705,
     "end_time": "2025-02-13T11:37:18.703486",
     "exception": false,
     "start_time": "2025-02-13T11:37:18.693781",
     "status": "completed"
    },
    "tags": []
   },
   "outputs": [],
   "source": [
    "import torch"
   ]
  },
  {
   "cell_type": "code",
   "execution_count": 27,
   "id": "29b53446",
   "metadata": {
    "execution": {
     "iopub.execute_input": "2025-02-13T11:37:18.715027Z",
     "iopub.status.busy": "2025-02-13T11:37:18.714896Z",
     "iopub.status.idle": "2025-02-13T11:37:18.717946Z",
     "shell.execute_reply": "2025-02-13T11:37:18.717629Z"
    },
    "papermill": {
     "duration": 0.011104,
     "end_time": "2025-02-13T11:37:18.720110",
     "exception": false,
     "start_time": "2025-02-13T11:37:18.709006",
     "status": "completed"
    },
    "tags": []
   },
   "outputs": [],
   "source": [
    "def cosine_distance(x, y):\n",
    "    return 1 - torch.nn.functional.cosine_similarity(x, y, dim=-1)"
   ]
  },
  {
   "cell_type": "code",
   "execution_count": 28,
   "id": "0977ecc9",
   "metadata": {
    "execution": {
     "iopub.execute_input": "2025-02-13T11:37:18.737842Z",
     "iopub.status.busy": "2025-02-13T11:37:18.735746Z",
     "iopub.status.idle": "2025-02-13T11:37:18.742541Z",
     "shell.execute_reply": "2025-02-13T11:37:18.741804Z"
    },
    "papermill": {
     "duration": 0.017426,
     "end_time": "2025-02-13T11:37:18.744629",
     "exception": false,
     "start_time": "2025-02-13T11:37:18.727203",
     "status": "completed"
    },
    "tags": []
   },
   "outputs": [],
   "source": [
    "def info_nce_loss(anchor_embedding, positive_embedding, negative_embedding, distance_fn):\n",
    "\n",
    "    pos_dist = distance_fn(anchor_embedding, positive_embedding)\n",
    "    neg_dist = torch.stack([distance_fn(anchor_embedding, neg) for neg in negative_embedding], dim=-1)\n",
    "    \n",
    "    logits = torch.cat([-pos_dist.unsqueeze(1), -neg_dist], dim=1)\n",
    "    labels = torch.zeros(logits.size(0), dtype=torch.long, device=logits.device)\n",
    "\n",
    "    loss = torch.nn.CrossEntropyLoss()(logits, labels)\n",
    "    return loss"
   ]
  },
  {
   "cell_type": "code",
   "execution_count": 29,
   "id": "e9d2b7cf",
   "metadata": {
    "execution": {
     "iopub.execute_input": "2025-02-13T11:37:18.762436Z",
     "iopub.status.busy": "2025-02-13T11:37:18.762103Z",
     "iopub.status.idle": "2025-02-13T11:37:18.767207Z",
     "shell.execute_reply": "2025-02-13T11:37:18.766764Z"
    },
    "papermill": {
     "duration": 0.015167,
     "end_time": "2025-02-13T11:37:18.768131",
     "exception": false,
     "start_time": "2025-02-13T11:37:18.752964",
     "status": "completed"
    },
    "tags": []
   },
   "outputs": [],
   "source": [
    "import torch.optim as optim\n",
    "optimizer = torch.optim.AdamW(lora_model.parameters(), lr=5e-5)"
   ]
  },
  {
   "cell_type": "code",
   "execution_count": 30,
   "id": "7c4fe093",
   "metadata": {
    "execution": {
     "iopub.execute_input": "2025-02-13T11:37:18.781294Z",
     "iopub.status.busy": "2025-02-13T11:37:18.781100Z",
     "iopub.status.idle": "2025-02-13T11:37:18.786328Z",
     "shell.execute_reply": "2025-02-13T11:37:18.785709Z"
    },
    "papermill": {
     "duration": 0.012435,
     "end_time": "2025-02-13T11:37:18.787151",
     "exception": false,
     "start_time": "2025-02-13T11:37:18.774716",
     "status": "completed"
    },
    "tags": []
   },
   "outputs": [],
   "source": [
    "num_epochs=3"
   ]
  },
  {
   "cell_type": "code",
   "execution_count": 31,
   "id": "5b6d6acf",
   "metadata": {
    "execution": {
     "iopub.execute_input": "2025-02-13T11:37:18.800117Z",
     "iopub.status.busy": "2025-02-13T11:37:18.799962Z",
     "iopub.status.idle": "2025-02-13T11:37:19.234444Z",
     "shell.execute_reply": "2025-02-13T11:37:19.233989Z"
    },
    "papermill": {
     "duration": 0.441759,
     "end_time": "2025-02-13T11:37:19.235413",
     "exception": false,
     "start_time": "2025-02-13T11:37:18.793654",
     "status": "completed"
    },
    "tags": []
   },
   "outputs": [],
   "source": [
    "device = torch.device('cuda' if torch.cuda.is_available() else 'cpu')"
   ]
  },
  {
   "cell_type": "code",
   "execution_count": 32,
   "id": "3a8d115f",
   "metadata": {
    "execution": {
     "iopub.execute_input": "2025-02-13T11:37:19.277448Z",
     "iopub.status.busy": "2025-02-13T11:37:19.277026Z",
     "iopub.status.idle": "2025-02-13T11:37:19.280428Z",
     "shell.execute_reply": "2025-02-13T11:37:19.280079Z"
    },
    "papermill": {
     "duration": 0.038792,
     "end_time": "2025-02-13T11:37:19.281074",
     "exception": false,
     "start_time": "2025-02-13T11:37:19.242282",
     "status": "completed"
    },
    "tags": []
   },
   "outputs": [
    {
     "data": {
      "text/plain": [
       "device(type='cuda')"
      ]
     },
     "execution_count": 32,
     "metadata": {},
     "output_type": "execute_result"
    }
   ],
   "source": [
    "device"
   ]
  },
  {
   "cell_type": "code",
   "execution_count": 33,
   "id": "cd170912",
   "metadata": {
    "execution": {
     "iopub.execute_input": "2025-02-13T11:37:19.293346Z",
     "iopub.status.busy": "2025-02-13T11:37:19.293089Z",
     "iopub.status.idle": "2025-02-13T11:37:19.295463Z",
     "shell.execute_reply": "2025-02-13T11:37:19.295161Z"
    },
    "papermill": {
     "duration": 0.009132,
     "end_time": "2025-02-13T11:37:19.296101",
     "exception": false,
     "start_time": "2025-02-13T11:37:19.286969",
     "status": "completed"
    },
    "tags": []
   },
   "outputs": [
    {
     "name": "stdout",
     "output_type": "stream",
     "text": [
      "2.5.1+cu124\n",
      "True\n"
     ]
    }
   ],
   "source": [
    "import torch\n",
    "print(torch.__version__)\n",
    "print(torch.cuda.is_available())"
   ]
  },
  {
   "cell_type": "code",
   "execution_count": 34,
   "id": "91520dbf",
   "metadata": {
    "execution": {
     "iopub.execute_input": "2025-02-13T11:37:19.307994Z",
     "iopub.status.busy": "2025-02-13T11:37:19.307865Z",
     "iopub.status.idle": "2025-02-13T11:37:19.310559Z",
     "shell.execute_reply": "2025-02-13T11:37:19.310233Z"
    },
    "papermill": {
     "duration": 0.009946,
     "end_time": "2025-02-13T11:37:19.311779",
     "exception": false,
     "start_time": "2025-02-13T11:37:19.301833",
     "status": "completed"
    },
    "tags": []
   },
   "outputs": [
    {
     "data": {
      "text/plain": [
       "True"
      ]
     },
     "execution_count": 34,
     "metadata": {},
     "output_type": "execute_result"
    }
   ],
   "source": [
    "torch.cuda.is_available()"
   ]
  },
  {
   "cell_type": "code",
   "execution_count": 35,
   "id": "fd391199",
   "metadata": {
    "execution": {
     "iopub.execute_input": "2025-02-13T11:37:19.325115Z",
     "iopub.status.busy": "2025-02-13T11:37:19.324985Z",
     "iopub.status.idle": "2025-02-13T11:37:20.088464Z",
     "shell.execute_reply": "2025-02-13T11:37:20.088042Z"
    },
    "papermill": {
     "duration": 0.770947,
     "end_time": "2025-02-13T11:37:20.089348",
     "exception": false,
     "start_time": "2025-02-13T11:37:19.318401",
     "status": "completed"
    },
    "tags": []
   },
   "outputs": [],
   "source": [
    "lora_model = lora_model.to(device)"
   ]
  },
  {
   "cell_type": "code",
   "execution_count": 36,
   "id": "0fc517b8",
   "metadata": {
    "execution": {
     "iopub.execute_input": "2025-02-13T11:37:20.102364Z",
     "iopub.status.busy": "2025-02-13T11:37:20.102232Z",
     "iopub.status.idle": "2025-02-13T11:37:22.850544Z",
     "shell.execute_reply": "2025-02-13T11:37:22.850205Z"
    },
    "papermill": {
     "duration": 2.755698,
     "end_time": "2025-02-13T11:37:22.851530",
     "exception": false,
     "start_time": "2025-02-13T11:37:20.095832",
     "status": "completed"
    },
    "tags": []
   },
   "outputs": [
    {
     "data": {
      "text/plain": [
       "Dataset({\n",
       "    features: ['label', 'title', 'content'],\n",
       "    num_rows: 70000\n",
       "})"
      ]
     },
     "execution_count": 36,
     "metadata": {},
     "output_type": "execute_result"
    }
   ],
   "source": [
    "dataset_val = load_dataset(\"dbpedia_14\", split=\"test\")\n",
    "dataset_val"
   ]
  },
  {
   "cell_type": "code",
   "execution_count": 37,
   "id": "2081b568",
   "metadata": {
    "execution": {
     "iopub.execute_input": "2025-02-13T11:37:22.864824Z",
     "iopub.status.busy": "2025-02-13T11:37:22.864677Z",
     "iopub.status.idle": "2025-02-13T11:37:24.746077Z",
     "shell.execute_reply": "2025-02-13T11:37:24.745410Z"
    },
    "papermill": {
     "duration": 1.888817,
     "end_time": "2025-02-13T11:37:24.746988",
     "exception": false,
     "start_time": "2025-02-13T11:37:22.858171",
     "status": "completed"
    },
    "tags": []
   },
   "outputs": [],
   "source": [
    "category_to_samples_val = {}\n",
    "for sample in dataset_val:\n",
    "    category = LABEL_TO_CATEGORY[sample[\"label\"]]\n",
    "    if category not in category_to_samples_val:\n",
    "        category_to_samples_val[category] = []\n",
    "    category_to_samples_val[category].append(sample[\"content\"])"
   ]
  },
  {
   "cell_type": "code",
   "execution_count": 38,
   "id": "b8b10b57",
   "metadata": {
    "execution": {
     "iopub.execute_input": "2025-02-13T11:37:24.762962Z",
     "iopub.status.busy": "2025-02-13T11:37:24.762527Z",
     "iopub.status.idle": "2025-02-13T11:37:24.792284Z",
     "shell.execute_reply": "2025-02-13T11:37:24.791773Z"
    },
    "papermill": {
     "duration": 0.037381,
     "end_time": "2025-02-13T11:37:24.793099",
     "exception": false,
     "start_time": "2025-02-13T11:37:24.755718",
     "status": "completed"
    },
    "tags": []
   },
   "outputs": [],
   "source": [
    "category_negatives_val = {\n",
    "    category: [desc for cat, descriptions in category_to_samples_val.items() if cat != category for desc in descriptions]\n",
    "    for category in LABEL_TO_CATEGORY.values()\n",
    "}"
   ]
  },
  {
   "cell_type": "code",
   "execution_count": 39,
   "id": "a630f291",
   "metadata": {
    "execution": {
     "iopub.execute_input": "2025-02-13T11:37:24.807511Z",
     "iopub.status.busy": "2025-02-13T11:37:24.807252Z",
     "iopub.status.idle": "2025-02-13T11:37:24.810668Z",
     "shell.execute_reply": "2025-02-13T11:37:24.810263Z"
    },
    "papermill": {
     "duration": 0.010824,
     "end_time": "2025-02-13T11:37:24.811254",
     "exception": false,
     "start_time": "2025-02-13T11:37:24.800430",
     "status": "completed"
    },
    "tags": []
   },
   "outputs": [],
   "source": [
    "def preprocess_val(example, num_negatives=5):\n",
    "    category = LABEL_TO_CATEGORY.get(example[\"label\"], None)\n",
    "    \n",
    "    if category is None or category not in category_negatives_val:\n",
    "        return None\n",
    "\n",
    "    query = f\"Tell me about {category.lower()}.\"\n",
    "    positive = example[\"content\"]\n",
    "\n",
    "    negatives = random.choices(category_negatives_val[category], k=num_negatives)\n",
    "\n",
    "    return {\n",
    "        \"query\": query,\n",
    "        \"positive\": positive,\n",
    "        \"negatives\": negatives\n",
    "    }"
   ]
  },
  {
   "cell_type": "code",
   "execution_count": 40,
   "id": "4f08209a",
   "metadata": {
    "execution": {
     "iopub.execute_input": "2025-02-13T11:37:24.824634Z",
     "iopub.status.busy": "2025-02-13T11:37:24.824385Z",
     "iopub.status.idle": "2025-02-13T11:37:26.596972Z",
     "shell.execute_reply": "2025-02-13T11:37:26.596501Z"
    },
    "papermill": {
     "duration": 1.780073,
     "end_time": "2025-02-13T11:37:26.597887",
     "exception": false,
     "start_time": "2025-02-13T11:37:24.817814",
     "status": "completed"
    },
    "tags": []
   },
   "outputs": [],
   "source": [
    "processed_data_val = dataset_val.map(preprocess_val, remove_columns=dataset_val.column_names)"
   ]
  },
  {
   "cell_type": "code",
   "execution_count": 41,
   "id": "24ccb1ce",
   "metadata": {
    "execution": {
     "iopub.execute_input": "2025-02-13T11:37:26.611428Z",
     "iopub.status.busy": "2025-02-13T11:37:26.611291Z",
     "iopub.status.idle": "2025-02-13T11:37:26.616118Z",
     "shell.execute_reply": "2025-02-13T11:37:26.615773Z"
    },
    "papermill": {
     "duration": 0.011974,
     "end_time": "2025-02-13T11:37:26.616723",
     "exception": false,
     "start_time": "2025-02-13T11:37:26.604749",
     "status": "completed"
    },
    "tags": []
   },
   "outputs": [],
   "source": [
    "processed_data_val = processed_data_val.filter(lambda x: x['query'] is not None and x['positive'] is not None)"
   ]
  },
  {
   "cell_type": "code",
   "execution_count": 42,
   "id": "89197ef0",
   "metadata": {
    "execution": {
     "iopub.execute_input": "2025-02-13T11:37:26.630109Z",
     "iopub.status.busy": "2025-02-13T11:37:26.629727Z",
     "iopub.status.idle": "2025-02-13T11:37:31.190961Z",
     "shell.execute_reply": "2025-02-13T11:37:31.190456Z"
    },
    "papermill": {
     "duration": 4.568865,
     "end_time": "2025-02-13T11:37:31.191906",
     "exception": false,
     "start_time": "2025-02-13T11:37:26.623041",
     "status": "completed"
    },
    "tags": []
   },
   "outputs": [],
   "source": [
    "contrastive_pairs_val = []\n",
    "for item in processed_data_val:\n",
    "    query = item[\"query\"]\n",
    "    positive = item[\"positive\"]\n",
    "    negatives = item[\"negatives\"]\n",
    "    contrastive_pairs_val.append({\n",
    "        \"anchor\": query,\n",
    "        \"positive\": positive,\n",
    "        \"negatives\": negatives\n",
    "    })"
   ]
  },
  {
   "cell_type": "code",
   "execution_count": 43,
   "id": "7c764cfc",
   "metadata": {
    "execution": {
     "iopub.execute_input": "2025-02-13T11:37:31.207603Z",
     "iopub.status.busy": "2025-02-13T11:37:31.207464Z",
     "iopub.status.idle": "2025-02-13T11:37:31.210018Z",
     "shell.execute_reply": "2025-02-13T11:37:31.209661Z"
    },
    "papermill": {
     "duration": 0.009772,
     "end_time": "2025-02-13T11:37:31.210605",
     "exception": false,
     "start_time": "2025-02-13T11:37:31.200833",
     "status": "completed"
    },
    "tags": []
   },
   "outputs": [],
   "source": [
    "contrastive_dataset_val = ContrastiveDataset(contrastive_pairs_val)"
   ]
  },
  {
   "cell_type": "code",
   "execution_count": 44,
   "id": "026ffa3b",
   "metadata": {
    "execution": {
     "iopub.execute_input": "2025-02-13T11:37:31.223532Z",
     "iopub.status.busy": "2025-02-13T11:37:31.223274Z",
     "iopub.status.idle": "2025-02-13T11:37:31.225676Z",
     "shell.execute_reply": "2025-02-13T11:37:31.225340Z"
    },
    "papermill": {
     "duration": 0.009607,
     "end_time": "2025-02-13T11:37:31.226302",
     "exception": false,
     "start_time": "2025-02-13T11:37:31.216695",
     "status": "completed"
    },
    "tags": []
   },
   "outputs": [],
   "source": [
    "data_loader_val = DataLoader(contrastive_dataset_val, batch_size=32, shuffle=True)"
   ]
  },
  {
   "cell_type": "code",
   "execution_count": 45,
   "id": "a62c97f6",
   "metadata": {
    "execution": {
     "iopub.execute_input": "2025-02-13T11:37:31.239090Z",
     "iopub.status.busy": "2025-02-13T11:37:31.238964Z",
     "iopub.status.idle": "2025-02-13T11:37:31.241703Z",
     "shell.execute_reply": "2025-02-13T11:37:31.241377Z"
    },
    "papermill": {
     "duration": 0.00978,
     "end_time": "2025-02-13T11:37:31.242270",
     "exception": false,
     "start_time": "2025-02-13T11:37:31.232490",
     "status": "completed"
    },
    "tags": []
   },
   "outputs": [
    {
     "data": {
      "text/plain": [
       "2188"
      ]
     },
     "execution_count": 45,
     "metadata": {},
     "output_type": "execute_result"
    }
   ],
   "source": [
    "len(data_loader_val)"
   ]
  },
  {
   "cell_type": "code",
   "execution_count": 46,
   "id": "e5420700",
   "metadata": {
    "execution": {
     "iopub.execute_input": "2025-02-13T11:37:31.255181Z",
     "iopub.status.busy": "2025-02-13T11:37:31.255051Z",
     "iopub.status.idle": "2025-02-13T11:37:31.257968Z",
     "shell.execute_reply": "2025-02-13T11:37:31.257588Z"
    },
    "papermill": {
     "duration": 0.00993,
     "end_time": "2025-02-13T11:37:31.258516",
     "exception": false,
     "start_time": "2025-02-13T11:37:31.248586",
     "status": "completed"
    },
    "tags": []
   },
   "outputs": [],
   "source": [
    "def avg_embedding(inputs, model):\n",
    "    input=model(**inputs)\n",
    "    input_last_hidden_state=input.last_hidden_state\n",
    "    input_attention_mask = inputs['attention_mask']\n",
    "    input_masked_embeddings = input_last_hidden_state * input_attention_mask.unsqueeze(-1)\n",
    "    input_sum_embeddings = torch.sum(input_masked_embeddings, dim=1)\n",
    "    input_token_counts = torch.sum(input_attention_mask, dim=1).unsqueeze(-1)\n",
    "    input_avg_embeddings = input_sum_embeddings / input_token_counts\n",
    "    return(input_avg_embeddings)"
   ]
  },
  {
   "cell_type": "code",
   "execution_count": 47,
   "id": "9bb4d5b9",
   "metadata": {
    "execution": {
     "iopub.execute_input": "2025-02-13T11:37:31.271338Z",
     "iopub.status.busy": "2025-02-13T11:37:31.271214Z",
     "iopub.status.idle": "2025-02-13T11:37:31.275901Z",
     "shell.execute_reply": "2025-02-13T11:37:31.275559Z"
    },
    "papermill": {
     "duration": 0.011778,
     "end_time": "2025-02-13T11:37:31.276492",
     "exception": false,
     "start_time": "2025-02-13T11:37:31.264714",
     "status": "completed"
    },
    "tags": []
   },
   "outputs": [],
   "source": [
    "def evaluate_mrr(model, data_loader_val, distance_fn):\n",
    "    model.eval()  \n",
    "\n",
    "    total_rr = 0.0\n",
    "    num_queries = 0\n",
    "\n",
    "    with torch.no_grad():\n",
    "        for batch in data_loader_val:\n",
    "            anchor_text = batch[0]\n",
    "            positive_text = batch[1]\n",
    "            negative_texts = batch[2]\n",
    "\n",
    "            anchor_input = tokenizer(anchor_text, return_tensors='pt', padding=True, truncation=True, max_length=512).to(device)\n",
    "            positive_input = tokenizer(positive_text, return_tensors='pt', padding=True, truncation=True, max_length=512).to(device)\n",
    "\n",
    "            anchor_embedding = avg_embedding(anchor_input, model)\n",
    "            positive_embedding = avg_embedding(positive_input, model)\n",
    "            negative_embedding = [avg_embedding(tokenizer(neg, return_tensors='pt', padding=True, truncation=True, max_length=512).to(device), model) for neg in negative_texts]\n",
    "\n",
    "            pos_dist = distance_fn(anchor_embedding, positive_embedding)\n",
    "            neg_dist = torch.stack([distance_fn(anchor_embedding, neg) for neg in negative_embedding], dim=-1)\n",
    "            all_similarities=torch.cat([-pos_dist.unsqueeze(1), -neg_dist], dim=1)\n",
    "            \n",
    "            sorted_similarities, sorted_indices = torch.sort(all_similarities, dim=1, descending=True)\n",
    "\n",
    "            # Find the rank of the first relevant (positive) document\n",
    "            positive_rank = (sorted_indices == 0).nonzero(as_tuple=True)[1] + 1  # +1 to make rank 1-based\n",
    "            total_rr += torch.sum(1.0 / positive_rank.float()).item()  # Reciprocal rank\n",
    "            num_queries += len(positive_rank)\n",
    "\n",
    "    mrr = total_rr / num_queries\n",
    "    return mrr"
   ]
  },
  {
   "cell_type": "code",
   "execution_count": 48,
   "id": "a3e3ec48",
   "metadata": {
    "execution": {
     "iopub.execute_input": "2025-02-13T11:37:31.289428Z",
     "iopub.status.busy": "2025-02-13T11:37:31.289303Z",
     "iopub.status.idle": "2025-02-13T11:37:31.291785Z",
     "shell.execute_reply": "2025-02-13T11:37:31.291464Z"
    },
    "papermill": {
     "duration": 0.009636,
     "end_time": "2025-02-13T11:37:31.292388",
     "exception": false,
     "start_time": "2025-02-13T11:37:31.282752",
     "status": "completed"
    },
    "tags": []
   },
   "outputs": [],
   "source": [
    "import os\n",
    "save_dir =\"/dss/dsshome1/07/ra65bex2/srawat/wiki/average\""
   ]
  },
  {
   "cell_type": "code",
   "execution_count": 49,
   "id": "bffc1c92",
   "metadata": {
    "execution": {
     "iopub.execute_input": "2025-02-13T11:37:31.305532Z",
     "iopub.status.busy": "2025-02-13T11:37:31.305408Z",
     "iopub.status.idle": "2025-02-13T11:37:31.307359Z",
     "shell.execute_reply": "2025-02-13T11:37:31.307020Z"
    },
    "papermill": {
     "duration": 0.009191,
     "end_time": "2025-02-13T11:37:31.307938",
     "exception": false,
     "start_time": "2025-02-13T11:37:31.298747",
     "status": "completed"
    },
    "tags": []
   },
   "outputs": [],
   "source": [
    "import time\n",
    "epoch_metrics = []"
   ]
  },
  {
   "cell_type": "code",
   "execution_count": 50,
   "id": "d678383c",
   "metadata": {
    "execution": {
     "iopub.execute_input": "2025-02-13T11:37:31.321112Z",
     "iopub.status.busy": "2025-02-13T11:37:31.320989Z",
     "iopub.status.idle": "2025-02-13T20:42:58.169110Z",
     "shell.execute_reply": "2025-02-13T20:42:58.168385Z"
    },
    "papermill": {
     "duration": 32726.863947,
     "end_time": "2025-02-13T20:42:58.178322",
     "exception": false,
     "start_time": "2025-02-13T11:37:31.314375",
     "status": "completed"
    },
    "tags": []
   },
   "outputs": [
    {
     "name": "stdout",
     "output_type": "stream",
     "text": [
      "EPOCH 1:\n",
      "Checkpoint saved: /dss/dsshome1/07/ra65bex2/srawat/wiki/average/average_checkpoint_epoch_1.pth\n",
      "Epoch 1/3, Training Loss: 1.03754959896292\n"
     ]
    },
    {
     "name": "stdout",
     "output_type": "stream",
     "text": [
      "Mean Reciprocal Rank (MRR) for validation set: 0.9985\n",
      "Epoch 1 took 181.8793 minutes.\n",
      "\n",
      "\n"
     ]
    },
    {
     "name": "stdout",
     "output_type": "stream",
     "text": [
      "EPOCH 2:\n",
      "Checkpoint saved: /dss/dsshome1/07/ra65bex2/srawat/wiki/average/average_checkpoint_epoch_2.pth\n",
      "Epoch 2/3, Training Loss: 1.012114878003938\n"
     ]
    },
    {
     "name": "stdout",
     "output_type": "stream",
     "text": [
      "Mean Reciprocal Rank (MRR) for validation set: 0.9986\n",
      "Epoch 2 took 181.8649 minutes.\n",
      "\n",
      "\n"
     ]
    },
    {
     "name": "stdout",
     "output_type": "stream",
     "text": [
      "EPOCH 3:\n",
      "Checkpoint saved: /dss/dsshome1/07/ra65bex2/srawat/wiki/average/average_checkpoint_epoch_3.pth\n",
      "Epoch 3/3, Training Loss: 1.009824217241151\n"
     ]
    },
    {
     "name": "stdout",
     "output_type": "stream",
     "text": [
      "Mean Reciprocal Rank (MRR) for validation set: 0.9988\n",
      "Epoch 3 took 181.7032 minutes.\n",
      "\n",
      "\n"
     ]
    }
   ],
   "source": [
    "for epoch in range(num_epochs):\n",
    "    start_time = time.time()\n",
    "    lora_model.train()\n",
    "    \n",
    "    total_loss = 0.0\n",
    "    for batch in data_loader_train:\n",
    "        \n",
    "        anchor_texts = batch[0]\n",
    "        positive_texts = batch[1]\n",
    "        negative_texts = batch[2]\n",
    "     \n",
    "        anchor_inputs = tokenizer(anchor_texts, return_tensors='pt', padding=True, truncation=True, max_length=512).to(device)\n",
    "        positive_inputs = tokenizer(positive_texts, return_tensors='pt', padding=True, truncation=True, max_length=512).to(device)\n",
    "    \n",
    "        anchor_embedding = avg_embedding(anchor_inputs, lora_model)\n",
    "        positive_embedding = avg_embedding(positive_inputs, lora_model)\n",
    "        negative_embedding = [avg_embedding(tokenizer(neg, return_tensors='pt', padding=True, truncation=True, max_length=512).to(device), lora_model) for neg in negative_texts]\n",
    "\n",
    "        loss = info_nce_loss(anchor_embedding, positive_embedding, negative_embedding, distance_fn=cosine_distance)\n",
    "        \n",
    "        optimizer.zero_grad()\n",
    "        loss.backward() \n",
    "        optimizer.step()\n",
    "        \n",
    "        total_loss += loss.item()\n",
    "    save_path = os.path.join(save_dir, f\"average_checkpoint_epoch_{epoch+1}.pth\")\n",
    "    torch.save(lora_model, save_path)\n",
    "    print(f\"EPOCH {epoch+1}:\")\n",
    "    print(f\"Checkpoint saved: {save_path}\")\n",
    "\n",
    "    print(f\"Epoch {epoch+1}/{num_epochs}, Training Loss: {total_loss / len(data_loader_train)}\")\n",
    "    mrr_validation = evaluate_mrr(lora_model, data_loader_val, cosine_distance)\n",
    "    print(f\"Mean Reciprocal Rank (MRR) for validation set: {mrr_validation:.4f}\")\n",
    "    end_time = time.time()\n",
    "    print(f\"Epoch {epoch+1} took {(end_time - start_time) / 60:.4f} minutes.\")\n",
    "    print(f\"\\n\")\n",
    "    epoch_metrics.append({\n",
    "        'epoch': epoch + 1,\n",
    "        'training_loss': total_loss / len(data_loader_train),\n",
    "        'mrr_validation': mrr_validation,\n",
    "        'time_taken_minutes': (end_time - start_time) / 60\n",
    "    })"
   ]
  },
  {
   "cell_type": "code",
   "execution_count": 51,
   "id": "3680d40b",
   "metadata": {
    "execution": {
     "iopub.execute_input": "2025-02-13T20:42:58.281453Z",
     "iopub.status.busy": "2025-02-13T20:42:58.281269Z",
     "iopub.status.idle": "2025-02-13T20:42:58.327484Z",
     "shell.execute_reply": "2025-02-13T20:42:58.326932Z"
    },
    "papermill": {
     "duration": 0.081959,
     "end_time": "2025-02-13T20:42:58.328073",
     "exception": false,
     "start_time": "2025-02-13T20:42:58.246114",
     "status": "completed"
    },
    "tags": []
   },
   "outputs": [],
   "source": [
    "import json"
   ]
  },
  {
   "cell_type": "code",
   "execution_count": 52,
   "id": "d9ee4257",
   "metadata": {
    "execution": {
     "iopub.execute_input": "2025-02-13T20:42:58.341428Z",
     "iopub.status.busy": "2025-02-13T20:42:58.341297Z",
     "iopub.status.idle": "2025-02-13T20:42:58.405411Z",
     "shell.execute_reply": "2025-02-13T20:42:58.405034Z"
    },
    "papermill": {
     "duration": 0.071651,
     "end_time": "2025-02-13T20:42:58.406217",
     "exception": false,
     "start_time": "2025-02-13T20:42:58.334566",
     "status": "completed"
    },
    "tags": []
   },
   "outputs": [],
   "source": [
    "with open(save_dir + '/epoch_metrics.json', 'w') as f:\n",
    "    json.dump(epoch_metrics, f)"
   ]
  },
  {
   "cell_type": "code",
   "execution_count": null,
   "id": "229f6c38",
   "metadata": {
    "papermill": {
     "duration": 0.00652,
     "end_time": "2025-02-13T20:42:58.419444",
     "exception": false,
     "start_time": "2025-02-13T20:42:58.412924",
     "status": "completed"
    },
    "tags": []
   },
   "outputs": [],
   "source": []
  }
 ],
 "metadata": {
  "kernelspec": {
   "display_name": "Python (myenv)",
   "language": "python",
   "name": "myenv"
  },
  "language_info": {
   "codemirror_mode": {
    "name": "ipython",
    "version": 3
   },
   "file_extension": ".py",
   "mimetype": "text/x-python",
   "name": "python",
   "nbconvert_exporter": "python",
   "pygments_lexer": "ipython3",
   "version": "3.12.7"
  },
  "papermill": {
   "default_parameters": {},
   "duration": 32885.360497,
   "end_time": "2025-02-13T20:43:01.644031",
   "environment_variables": {},
   "exception": null,
   "input_path": "average.ipynb",
   "output_path": "average_output.ipynb",
   "parameters": {},
   "start_time": "2025-02-13T11:34:56.283534",
   "version": "2.6.0"
  }
 },
 "nbformat": 4,
 "nbformat_minor": 5
}