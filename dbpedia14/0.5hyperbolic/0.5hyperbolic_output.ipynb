{
 "cells": [
  {
   "cell_type": "code",
   "execution_count": 1,
   "id": "ec67ee51",
   "metadata": {
    "execution": {
     "iopub.execute_input": "2025-02-12T22:48:01.001369Z",
     "iopub.status.busy": "2025-02-12T22:48:01.001113Z",
     "iopub.status.idle": "2025-02-12T22:48:04.310829Z",
     "shell.execute_reply": "2025-02-12T22:48:04.310252Z"
    },
    "papermill": {
     "duration": 3.321201,
     "end_time": "2025-02-12T22:48:04.312143",
     "exception": false,
     "start_time": "2025-02-12T22:48:00.990942",
     "status": "completed"
    },
    "tags": []
   },
   "outputs": [],
   "source": [
    "from datasets import load_dataset\n",
    "import random\n",
    "import json"
   ]
  },
  {
   "cell_type": "code",
   "execution_count": 2,
   "id": "2fe4c719",
   "metadata": {
    "execution": {
     "iopub.execute_input": "2025-02-12T22:48:04.325734Z",
     "iopub.status.busy": "2025-02-12T22:48:04.325383Z",
     "iopub.status.idle": "2025-02-12T22:48:09.014885Z",
     "shell.execute_reply": "2025-02-12T22:48:09.014263Z"
    },
    "papermill": {
     "duration": 4.696661,
     "end_time": "2025-02-12T22:48:09.015869",
     "exception": false,
     "start_time": "2025-02-12T22:48:04.319208",
     "status": "completed"
    },
    "tags": []
   },
   "outputs": [
    {
     "data": {
      "text/plain": [
       "DatasetDict({\n",
       "    train: Dataset({\n",
       "        features: ['label', 'title', 'content'],\n",
       "        num_rows: 560000\n",
       "    })\n",
       "    test: Dataset({\n",
       "        features: ['label', 'title', 'content'],\n",
       "        num_rows: 70000\n",
       "    })\n",
       "})"
      ]
     },
     "execution_count": 2,
     "metadata": {},
     "output_type": "execute_result"
    }
   ],
   "source": [
    "load_dataset(\"dbpedia_14\")"
   ]
  },
  {
   "cell_type": "code",
   "execution_count": 3,
   "id": "b5f18875",
   "metadata": {
    "execution": {
     "iopub.execute_input": "2025-02-12T22:48:09.028900Z",
     "iopub.status.busy": "2025-02-12T22:48:09.028608Z",
     "iopub.status.idle": "2025-02-12T22:48:11.208934Z",
     "shell.execute_reply": "2025-02-12T22:48:11.208145Z"
    },
    "papermill": {
     "duration": 2.187337,
     "end_time": "2025-02-12T22:48:11.210100",
     "exception": false,
     "start_time": "2025-02-12T22:48:09.022763",
     "status": "completed"
    },
    "tags": []
   },
   "outputs": [
    {
     "data": {
      "text/plain": [
       "Dataset({\n",
       "    features: ['label', 'title', 'content'],\n",
       "    num_rows: 560000\n",
       "})"
      ]
     },
     "execution_count": 3,
     "metadata": {},
     "output_type": "execute_result"
    }
   ],
   "source": [
    "dataset_train = load_dataset(\"dbpedia_14\", split=\"train\")\n",
    "dataset_train"
   ]
  },
  {
   "cell_type": "code",
   "execution_count": 4,
   "id": "10fc8473",
   "metadata": {
    "execution": {
     "iopub.execute_input": "2025-02-12T22:48:11.224742Z",
     "iopub.status.busy": "2025-02-12T22:48:11.223783Z",
     "iopub.status.idle": "2025-02-12T22:48:11.234042Z",
     "shell.execute_reply": "2025-02-12T22:48:11.233581Z"
    },
    "papermill": {
     "duration": 0.01751,
     "end_time": "2025-02-12T22:48:11.234881",
     "exception": false,
     "start_time": "2025-02-12T22:48:11.217371",
     "status": "completed"
    },
    "tags": []
   },
   "outputs": [
    {
     "data": {
      "text/plain": [
       "{'label': 0,\n",
       " 'title': 'E. D. Abbott Ltd',\n",
       " 'content': ' Abbott of Farnham E D Abbott Limited was a British coachbuilding business based in Farnham Surrey trading under that name from 1929. A major part of their output was under sub-contract to motor vehicle manufacturers. Their business closed in 1972.'}"
      ]
     },
     "execution_count": 4,
     "metadata": {},
     "output_type": "execute_result"
    }
   ],
   "source": [
    "dataset_train[0]"
   ]
  },
  {
   "cell_type": "code",
   "execution_count": 5,
   "id": "00f10cc4",
   "metadata": {
    "execution": {
     "iopub.execute_input": "2025-02-12T22:48:11.246021Z",
     "iopub.status.busy": "2025-02-12T22:48:11.245492Z",
     "iopub.status.idle": "2025-02-12T22:48:11.257775Z",
     "shell.execute_reply": "2025-02-12T22:48:11.257296Z"
    },
    "papermill": {
     "duration": 0.018515,
     "end_time": "2025-02-12T22:48:11.258729",
     "exception": false,
     "start_time": "2025-02-12T22:48:11.240214",
     "status": "completed"
    },
    "tags": []
   },
   "outputs": [],
   "source": [
    "LABEL_TO_CATEGORY = {\n",
    "    0: \"Company\",\n",
    "    1: \"Educational Institution\",\n",
    "    2: \"Artist\",\n",
    "    3: \"Athlete\",\n",
    "    4: \"Office Holder\",\n",
    "    5: \"Mean Of Transportation\",\n",
    "    6: \"Building\",\n",
    "    7: \"Natural Place\",\n",
    "    8: \"Village\",\n",
    "    9: \"Animal\",\n",
    "    10: \"Plant\",\n",
    "    11: \"Album\",\n",
    "    12: \"Film\",\n",
    "    13: \"Written Work\"\n",
    "}"
   ]
  },
  {
   "cell_type": "code",
   "execution_count": 6,
   "id": "f2cb994c",
   "metadata": {
    "execution": {
     "iopub.execute_input": "2025-02-12T22:48:11.268876Z",
     "iopub.status.busy": "2025-02-12T22:48:11.268747Z",
     "iopub.status.idle": "2025-02-12T22:48:25.975607Z",
     "shell.execute_reply": "2025-02-12T22:48:25.974632Z"
    },
    "papermill": {
     "duration": 14.712966,
     "end_time": "2025-02-12T22:48:25.976648",
     "exception": false,
     "start_time": "2025-02-12T22:48:11.263682",
     "status": "completed"
    },
    "tags": []
   },
   "outputs": [],
   "source": [
    "category_to_samples = {}\n",
    "for sample in dataset_train:\n",
    "    category = LABEL_TO_CATEGORY[sample[\"label\"]]\n",
    "    if category not in category_to_samples:\n",
    "        category_to_samples[category] = []\n",
    "    category_to_samples[category].append(sample[\"content\"])"
   ]
  },
  {
   "cell_type": "code",
   "execution_count": 7,
   "id": "d7bd3c22",
   "metadata": {
    "execution": {
     "iopub.execute_input": "2025-02-12T22:48:25.990110Z",
     "iopub.status.busy": "2025-02-12T22:48:25.989570Z",
     "iopub.status.idle": "2025-02-12T22:48:26.509616Z",
     "shell.execute_reply": "2025-02-12T22:48:26.508954Z"
    },
    "papermill": {
     "duration": 0.527432,
     "end_time": "2025-02-12T22:48:26.511140",
     "exception": false,
     "start_time": "2025-02-12T22:48:25.983708",
     "status": "completed"
    },
    "tags": []
   },
   "outputs": [],
   "source": [
    "category_negatives = {\n",
    "    category: [desc for cat, descriptions in category_to_samples.items() if cat != category for desc in descriptions]\n",
    "    for category in LABEL_TO_CATEGORY.values()\n",
    "}"
   ]
  },
  {
   "cell_type": "code",
   "execution_count": 8,
   "id": "647062c7",
   "metadata": {
    "execution": {
     "iopub.execute_input": "2025-02-12T22:48:26.522216Z",
     "iopub.status.busy": "2025-02-12T22:48:26.521795Z",
     "iopub.status.idle": "2025-02-12T22:48:26.526090Z",
     "shell.execute_reply": "2025-02-12T22:48:26.525457Z"
    },
    "papermill": {
     "duration": 0.010226,
     "end_time": "2025-02-12T22:48:26.526800",
     "exception": false,
     "start_time": "2025-02-12T22:48:26.516574",
     "status": "completed"
    },
    "tags": []
   },
   "outputs": [],
   "source": [
    "def preprocess(example, num_negatives=5):\n",
    "    category = LABEL_TO_CATEGORY.get(example[\"label\"], None)\n",
    "    \n",
    "    if category is None or category not in category_negatives:\n",
    "        return None  \n",
    "\n",
    "    query = f\"Tell me about {category.lower()}.\"\n",
    "    positive = example[\"content\"]\n",
    "\n",
    "    negatives = random.choices(category_negatives[category], k=num_negatives)\n",
    "\n",
    "    return {\n",
    "        \"query\": query,\n",
    "        \"positive\": positive,\n",
    "        \"negatives\": negatives\n",
    "    }"
   ]
  },
  {
   "cell_type": "code",
   "execution_count": 9,
   "id": "2960c13c",
   "metadata": {
    "execution": {
     "iopub.execute_input": "2025-02-12T22:48:26.537558Z",
     "iopub.status.busy": "2025-02-12T22:48:26.536971Z",
     "iopub.status.idle": "2025-02-12T22:48:40.261673Z",
     "shell.execute_reply": "2025-02-12T22:48:40.260313Z"
    },
    "papermill": {
     "duration": 13.731688,
     "end_time": "2025-02-12T22:48:40.263276",
     "exception": false,
     "start_time": "2025-02-12T22:48:26.531588",
     "status": "completed"
    },
    "tags": []
   },
   "outputs": [],
   "source": [
    "processed_data_train = dataset_train.map(preprocess, remove_columns=dataset_train.column_names)"
   ]
  },
  {
   "cell_type": "code",
   "execution_count": 10,
   "id": "bc4f1606",
   "metadata": {
    "execution": {
     "iopub.execute_input": "2025-02-12T22:48:40.277628Z",
     "iopub.status.busy": "2025-02-12T22:48:40.277118Z",
     "iopub.status.idle": "2025-02-12T22:48:40.290411Z",
     "shell.execute_reply": "2025-02-12T22:48:40.289802Z"
    },
    "papermill": {
     "duration": 0.02031,
     "end_time": "2025-02-12T22:48:40.291225",
     "exception": false,
     "start_time": "2025-02-12T22:48:40.270915",
     "status": "completed"
    },
    "tags": []
   },
   "outputs": [],
   "source": [
    "processed_data_train = processed_data_train.filter(lambda x: x['query'] is not None and x['positive'] is not None)"
   ]
  },
  {
   "cell_type": "code",
   "execution_count": 11,
   "id": "ef00be42",
   "metadata": {
    "execution": {
     "iopub.execute_input": "2025-02-12T22:48:40.302539Z",
     "iopub.status.busy": "2025-02-12T22:48:40.301671Z",
     "iopub.status.idle": "2025-02-12T22:48:40.306646Z",
     "shell.execute_reply": "2025-02-12T22:48:40.306111Z"
    },
    "papermill": {
     "duration": 0.011096,
     "end_time": "2025-02-12T22:48:40.307392",
     "exception": false,
     "start_time": "2025-02-12T22:48:40.296296",
     "status": "completed"
    },
    "tags": []
   },
   "outputs": [
    {
     "data": {
      "text/plain": [
       "Dataset({\n",
       "    features: ['query', 'positive', 'negatives'],\n",
       "    num_rows: 560000\n",
       "})"
      ]
     },
     "execution_count": 11,
     "metadata": {},
     "output_type": "execute_result"
    }
   ],
   "source": [
    "processed_data_train"
   ]
  },
  {
   "cell_type": "code",
   "execution_count": 12,
   "id": "10f8ca0f",
   "metadata": {
    "execution": {
     "iopub.execute_input": "2025-02-12T22:48:40.318616Z",
     "iopub.status.busy": "2025-02-12T22:48:40.317978Z",
     "iopub.status.idle": "2025-02-12T22:48:40.331354Z",
     "shell.execute_reply": "2025-02-12T22:48:40.330889Z"
    },
    "papermill": {
     "duration": 0.019871,
     "end_time": "2025-02-12T22:48:40.332297",
     "exception": false,
     "start_time": "2025-02-12T22:48:40.312426",
     "status": "completed"
    },
    "tags": []
   },
   "outputs": [
    {
     "data": {
      "text/plain": [
       "{'query': 'Tell me about company.',\n",
       " 'positive': ' Abbott of Farnham E D Abbott Limited was a British coachbuilding business based in Farnham Surrey trading under that name from 1929. A major part of their output was under sub-contract to motor vehicle manufacturers. Their business closed in 1972.',\n",
       " 'negatives': [' The Ford Model 15-P flying wing was the last aircraft developed by the Stout Metal Airplane Division of the Ford Motor Company. After several flights resulting in a crash the program was halted. Ford eventually re-entered the aviation market producing Consolidated B-24 Liberators under license from Consolidated Aircraft.',\n",
       "  ' Nellie Stockbridge (ca. 1868 – May 22 1965) was an early Idaho frontier mining district photographer. Her career spanned over 60 years. She was the oldest living member of the Zonta International club for advancement of women when she died in 1965.',\n",
       "  ' Shurikeh (Persian: شوريكه\\u200e also Romanized as Shūrīḵeh) is a village in Darbqazi Rural District in the Central District of Nishapur County Razavi Khorasan Province Iran. At the 2006 census its existence was noted but its population was not reported.',\n",
       "  \" Walker Valley High School (WVHS) is a public high school in the Bradley County Schools system located in the northern part of Bradley County Tennessee near Charleston Tennessee. The school serves about 1600 students in grades 9–12.The school's mascot is the mustang and its school colors are blue and gold. Walker Valley has been in existence since 2001. The current principal is Mr. Danny Coggin.\",\n",
       "  ' Into the Unknown is the fifth album by Mercyful Fate released by Metal Blade Records in 1996.Into the Unknown is the most commercially successful Mercyful Fate album to date. It peaked at #31 in the Finnish charts remaining for two weeks in the Top 40. It is the only album by the band to appear on the charts.']}"
      ]
     },
     "execution_count": 12,
     "metadata": {},
     "output_type": "execute_result"
    }
   ],
   "source": [
    "processed_data_train[0]"
   ]
  },
  {
   "cell_type": "code",
   "execution_count": 13,
   "id": "f19b0e17",
   "metadata": {
    "execution": {
     "iopub.execute_input": "2025-02-12T22:48:40.343644Z",
     "iopub.status.busy": "2025-02-12T22:48:40.343216Z",
     "iopub.status.idle": "2025-02-12T22:49:23.148760Z",
     "shell.execute_reply": "2025-02-12T22:49:23.148199Z"
    },
    "papermill": {
     "duration": 42.812752,
     "end_time": "2025-02-12T22:49:23.150330",
     "exception": false,
     "start_time": "2025-02-12T22:48:40.337578",
     "status": "completed"
    },
    "tags": []
   },
   "outputs": [],
   "source": [
    "contrastive_pairs_train = []\n",
    "for item in processed_data_train:\n",
    "    query = item[\"query\"]\n",
    "    positive = item[\"positive\"]\n",
    "    negatives = item[\"negatives\"]\n",
    "    contrastive_pairs_train.append({\n",
    "        \"anchor\": query,\n",
    "        \"positive\": positive,\n",
    "        \"negatives\": negatives\n",
    "    })"
   ]
  },
  {
   "cell_type": "code",
   "execution_count": 14,
   "id": "cf79d277",
   "metadata": {
    "execution": {
     "iopub.execute_input": "2025-02-12T22:49:23.164602Z",
     "iopub.status.busy": "2025-02-12T22:49:23.163946Z",
     "iopub.status.idle": "2025-02-12T22:49:23.169717Z",
     "shell.execute_reply": "2025-02-12T22:49:23.169139Z"
    },
    "papermill": {
     "duration": 0.012647,
     "end_time": "2025-02-12T22:49:23.170431",
     "exception": false,
     "start_time": "2025-02-12T22:49:23.157784",
     "status": "completed"
    },
    "tags": []
   },
   "outputs": [
    {
     "data": {
      "text/plain": [
       "{'anchor': 'Tell me about film.',\n",
       " 'positive': ' Rojo Amanecer (Red Dawn) is a 1989 Silver Ariel Award-winning Mexican film directed by Jorge Fons. It is a film about the Tlatelolco Massacre in the section of Tlatelolco in Mexico City in the evening of October 2 1968. It focuses on the day of a middle-class Mexican family living in one of the apartment buildings surrounding the Plaza de Tlatelolco and is based on testimonials from witnesses and victims. It stars Héctor Bonilla María Rojo the Bichir Brothers Eduardo Palomo and others.',\n",
       " 'negatives': [' Karschiola is a genus of moths in the family Arctiidae. It contains the single species Karschiola holoclera which is found in Malawi Tanzania and Zimbabwe.',\n",
       "  ' Billie Fulford (21 August 1914 – 28 May 1987) was a New Zealand cricketer. She played in one Test match in 1948.',\n",
       "  ' Discovery or Discoverie was a small 20-ton 38 foot (12 m) long fly-boat of the British East India Company launched before 1602. The ship was one of three that participated in the voyage that led to the founding of Jamestown Virginia.',\n",
       "  ' Hemidoras stenopeltis is a species of thorny catfish found in the Amazon basin of Brazil Colombia and Peru. This species grows to a length of 12.5 centimetres (4.9 in) SL.',\n",
       "  ' Maxilua is a genus of moths of the Noctuidae family.']}"
      ]
     },
     "execution_count": 14,
     "metadata": {},
     "output_type": "execute_result"
    }
   ],
   "source": [
    "contrastive_pairs_train[500000]"
   ]
  },
  {
   "cell_type": "code",
   "execution_count": 15,
   "id": "4c2fe2cf",
   "metadata": {
    "execution": {
     "iopub.execute_input": "2025-02-12T22:49:23.181422Z",
     "iopub.status.busy": "2025-02-12T22:49:23.181043Z",
     "iopub.status.idle": "2025-02-12T22:49:23.196868Z",
     "shell.execute_reply": "2025-02-12T22:49:23.196104Z"
    },
    "papermill": {
     "duration": 0.022217,
     "end_time": "2025-02-12T22:49:23.197692",
     "exception": false,
     "start_time": "2025-02-12T22:49:23.175475",
     "status": "completed"
    },
    "tags": []
   },
   "outputs": [
    {
     "data": {
      "text/plain": [
       "560000"
      ]
     },
     "execution_count": 15,
     "metadata": {},
     "output_type": "execute_result"
    }
   ],
   "source": [
    "len(contrastive_pairs_train)"
   ]
  },
  {
   "cell_type": "code",
   "execution_count": 16,
   "id": "6f99ec8e",
   "metadata": {
    "execution": {
     "iopub.execute_input": "2025-02-12T22:49:23.209234Z",
     "iopub.status.busy": "2025-02-12T22:49:23.208655Z",
     "iopub.status.idle": "2025-02-12T22:49:28.812160Z",
     "shell.execute_reply": "2025-02-12T22:49:28.811501Z"
    },
    "papermill": {
     "duration": 5.610674,
     "end_time": "2025-02-12T22:49:28.813500",
     "exception": false,
     "start_time": "2025-02-12T22:49:23.202826",
     "status": "completed"
    },
    "tags": []
   },
   "outputs": [],
   "source": [
    "from torch.utils.data import DataLoader"
   ]
  },
  {
   "cell_type": "code",
   "execution_count": 17,
   "id": "9711e4fd",
   "metadata": {
    "execution": {
     "iopub.execute_input": "2025-02-12T22:49:28.828418Z",
     "iopub.status.busy": "2025-02-12T22:49:28.828144Z",
     "iopub.status.idle": "2025-02-12T22:49:28.832082Z",
     "shell.execute_reply": "2025-02-12T22:49:28.831039Z"
    },
    "papermill": {
     "duration": 0.011455,
     "end_time": "2025-02-12T22:49:28.832973",
     "exception": false,
     "start_time": "2025-02-12T22:49:28.821518",
     "status": "completed"
    },
    "tags": []
   },
   "outputs": [],
   "source": [
    "class ContrastiveDataset:\n",
    "    def __init__(self, pairs):\n",
    "        self.pairs = pairs\n",
    "\n",
    "    def __len__(self):\n",
    "        return len(self.pairs)\n",
    "\n",
    "    def __getitem__(self, idx):\n",
    "        item = self.pairs[idx]\n",
    "        return item[\"anchor\"], item[\"positive\"], item[\"negatives\"]"
   ]
  },
  {
   "cell_type": "code",
   "execution_count": 18,
   "id": "45e823b6",
   "metadata": {
    "execution": {
     "iopub.execute_input": "2025-02-12T22:49:28.844721Z",
     "iopub.status.busy": "2025-02-12T22:49:28.844436Z",
     "iopub.status.idle": "2025-02-12T22:49:28.847818Z",
     "shell.execute_reply": "2025-02-12T22:49:28.846874Z"
    },
    "papermill": {
     "duration": 0.010293,
     "end_time": "2025-02-12T22:49:28.848604",
     "exception": false,
     "start_time": "2025-02-12T22:49:28.838311",
     "status": "completed"
    },
    "tags": []
   },
   "outputs": [],
   "source": [
    "contrastive_dataset_train = ContrastiveDataset(contrastive_pairs_train)"
   ]
  },
  {
   "cell_type": "code",
   "execution_count": 19,
   "id": "7117f8eb",
   "metadata": {
    "execution": {
     "iopub.execute_input": "2025-02-12T22:49:28.861243Z",
     "iopub.status.busy": "2025-02-12T22:49:28.860373Z",
     "iopub.status.idle": "2025-02-12T22:49:28.864666Z",
     "shell.execute_reply": "2025-02-12T22:49:28.863794Z"
    },
    "papermill": {
     "duration": 0.011237,
     "end_time": "2025-02-12T22:49:28.865495",
     "exception": false,
     "start_time": "2025-02-12T22:49:28.854258",
     "status": "completed"
    },
    "tags": []
   },
   "outputs": [],
   "source": [
    "data_loader_train = DataLoader(contrastive_dataset_train, batch_size=32, shuffle=True)"
   ]
  },
  {
   "cell_type": "code",
   "execution_count": 20,
   "id": "1c928b2f",
   "metadata": {
    "execution": {
     "iopub.execute_input": "2025-02-12T22:49:28.877912Z",
     "iopub.status.busy": "2025-02-12T22:49:28.877245Z",
     "iopub.status.idle": "2025-02-12T22:49:28.881669Z",
     "shell.execute_reply": "2025-02-12T22:49:28.881265Z"
    },
    "papermill": {
     "duration": 0.011199,
     "end_time": "2025-02-12T22:49:28.882311",
     "exception": false,
     "start_time": "2025-02-12T22:49:28.871112",
     "status": "completed"
    },
    "tags": []
   },
   "outputs": [
    {
     "data": {
      "text/plain": [
       "17500"
      ]
     },
     "execution_count": 20,
     "metadata": {},
     "output_type": "execute_result"
    }
   ],
   "source": [
    "len(data_loader_train)"
   ]
  },
  {
   "cell_type": "code",
   "execution_count": 21,
   "id": "bde64d09",
   "metadata": {
    "execution": {
     "iopub.execute_input": "2025-02-12T22:49:28.894642Z",
     "iopub.status.busy": "2025-02-12T22:49:28.893814Z",
     "iopub.status.idle": "2025-02-12T22:49:33.837892Z",
     "shell.execute_reply": "2025-02-12T22:49:33.837250Z"
    },
    "papermill": {
     "duration": 4.95133,
     "end_time": "2025-02-12T22:49:33.839072",
     "exception": false,
     "start_time": "2025-02-12T22:49:28.887742",
     "status": "completed"
    },
    "tags": []
   },
   "outputs": [],
   "source": [
    "from transformers import AutoTokenizer, AutoModel\n",
    "tokenizer = AutoTokenizer.from_pretrained(\"bert-base-uncased\")"
   ]
  },
  {
   "cell_type": "code",
   "execution_count": 22,
   "id": "7fe82bb0",
   "metadata": {
    "execution": {
     "iopub.execute_input": "2025-02-12T22:49:33.854034Z",
     "iopub.status.busy": "2025-02-12T22:49:33.853655Z",
     "iopub.status.idle": "2025-02-12T22:49:35.491006Z",
     "shell.execute_reply": "2025-02-12T22:49:35.490146Z"
    },
    "papermill": {
     "duration": 1.645292,
     "end_time": "2025-02-12T22:49:35.492237",
     "exception": false,
     "start_time": "2025-02-12T22:49:33.846945",
     "status": "completed"
    },
    "tags": []
   },
   "outputs": [],
   "source": [
    "model = AutoModel.from_pretrained(\"bert-base-uncased\")"
   ]
  },
  {
   "cell_type": "code",
   "execution_count": 23,
   "id": "989fc610",
   "metadata": {
    "execution": {
     "iopub.execute_input": "2025-02-12T22:49:35.506316Z",
     "iopub.status.busy": "2025-02-12T22:49:35.504953Z",
     "iopub.status.idle": "2025-02-12T22:49:35.826073Z",
     "shell.execute_reply": "2025-02-12T22:49:35.825431Z"
    },
    "papermill": {
     "duration": 0.328513,
     "end_time": "2025-02-12T22:49:35.827071",
     "exception": false,
     "start_time": "2025-02-12T22:49:35.498558",
     "status": "completed"
    },
    "tags": []
   },
   "outputs": [],
   "source": [
    "from peft import LoraConfig, get_peft_model"
   ]
  },
  {
   "cell_type": "code",
   "execution_count": 24,
   "id": "3fbc2142",
   "metadata": {
    "execution": {
     "iopub.execute_input": "2025-02-12T22:49:35.839363Z",
     "iopub.status.busy": "2025-02-12T22:49:35.839108Z",
     "iopub.status.idle": "2025-02-12T22:49:35.843767Z",
     "shell.execute_reply": "2025-02-12T22:49:35.843013Z"
    },
    "papermill": {
     "duration": 0.01182,
     "end_time": "2025-02-12T22:49:35.845073",
     "exception": false,
     "start_time": "2025-02-12T22:49:35.833253",
     "status": "completed"
    },
    "tags": []
   },
   "outputs": [],
   "source": [
    "lora_config = LoraConfig(\n",
    "    task_type= \"FEATURE_EXTRACTION\"\n",
    ")"
   ]
  },
  {
   "cell_type": "code",
   "execution_count": 25,
   "id": "801929e3",
   "metadata": {
    "execution": {
     "iopub.execute_input": "2025-02-12T22:49:35.856721Z",
     "iopub.status.busy": "2025-02-12T22:49:35.856537Z",
     "iopub.status.idle": "2025-02-12T22:49:35.912223Z",
     "shell.execute_reply": "2025-02-12T22:49:35.911630Z"
    },
    "papermill": {
     "duration": 0.062305,
     "end_time": "2025-02-12T22:49:35.912953",
     "exception": false,
     "start_time": "2025-02-12T22:49:35.850648",
     "status": "completed"
    },
    "tags": []
   },
   "outputs": [],
   "source": [
    "lora_model = get_peft_model(model, lora_config)"
   ]
  },
  {
   "cell_type": "code",
   "execution_count": 26,
   "id": "7f14a309",
   "metadata": {
    "execution": {
     "iopub.execute_input": "2025-02-12T22:49:35.925259Z",
     "iopub.status.busy": "2025-02-12T22:49:35.924540Z",
     "iopub.status.idle": "2025-02-12T22:49:35.927775Z",
     "shell.execute_reply": "2025-02-12T22:49:35.927225Z"
    },
    "papermill": {
     "duration": 0.010253,
     "end_time": "2025-02-12T22:49:35.928860",
     "exception": false,
     "start_time": "2025-02-12T22:49:35.918607",
     "status": "completed"
    },
    "tags": []
   },
   "outputs": [],
   "source": [
    "import torch"
   ]
  },
  {
   "cell_type": "code",
   "execution_count": 27,
   "id": "9f93c504",
   "metadata": {
    "execution": {
     "iopub.execute_input": "2025-02-12T22:49:35.940783Z",
     "iopub.status.busy": "2025-02-12T22:49:35.940591Z",
     "iopub.status.idle": "2025-02-12T22:49:35.944048Z",
     "shell.execute_reply": "2025-02-12T22:49:35.943594Z"
    },
    "papermill": {
     "duration": 0.010038,
     "end_time": "2025-02-12T22:49:35.944717",
     "exception": false,
     "start_time": "2025-02-12T22:49:35.934679",
     "status": "completed"
    },
    "tags": []
   },
   "outputs": [],
   "source": [
    "def lorentzian_distance(x, y):\n",
    "    \n",
    "    dot_product = torch.sum(x * y, dim=-1)\n",
    "    norm_x = torch.norm(x, dim=-1)\n",
    "    norm_y = torch.norm(y, dim=-1)\n",
    "    \n",
    "    distance = torch.acosh(-dot_product + torch.sqrt((1 + norm_x**2) * (1 + norm_y**2)))\n",
    "    return distance"
   ]
  },
  {
   "cell_type": "code",
   "execution_count": 28,
   "id": "0e2fc1d5",
   "metadata": {
    "execution": {
     "iopub.execute_input": "2025-02-12T22:49:35.956546Z",
     "iopub.status.busy": "2025-02-12T22:49:35.956284Z",
     "iopub.status.idle": "2025-02-12T22:49:36.010606Z",
     "shell.execute_reply": "2025-02-12T22:49:36.010116Z"
    },
    "papermill": {
     "duration": 0.061036,
     "end_time": "2025-02-12T22:49:36.011448",
     "exception": false,
     "start_time": "2025-02-12T22:49:35.950412",
     "status": "completed"
    },
    "tags": []
   },
   "outputs": [],
   "source": [
    "def info_nce_loss(anchor_embedding, positive_embedding, negative_embedding, distance_fn):\n",
    "\n",
    "    pos_dist = distance_fn(anchor_embedding, positive_embedding)\n",
    "    neg_dist = torch.stack([distance_fn(anchor_embedding, neg) for neg in negative_embedding], dim=-1)\n",
    "    \n",
    "    logits = torch.cat([-pos_dist.unsqueeze(1), -neg_dist], dim=1)\n",
    "    labels = torch.zeros(logits.size(0), dtype=torch.long, device=logits.device)\n",
    "\n",
    "    loss = torch.nn.CrossEntropyLoss()(logits, labels)\n",
    "    return loss"
   ]
  },
  {
   "cell_type": "code",
   "execution_count": 29,
   "id": "dcac0b34",
   "metadata": {
    "execution": {
     "iopub.execute_input": "2025-02-12T22:49:36.024005Z",
     "iopub.status.busy": "2025-02-12T22:49:36.023473Z",
     "iopub.status.idle": "2025-02-12T22:49:36.027120Z",
     "shell.execute_reply": "2025-02-12T22:49:36.026593Z"
    },
    "papermill": {
     "duration": 0.0103,
     "end_time": "2025-02-12T22:49:36.027737",
     "exception": false,
     "start_time": "2025-02-12T22:49:36.017437",
     "status": "completed"
    },
    "tags": []
   },
   "outputs": [],
   "source": [
    "def exterior_angle(x_space, y_space, c):\n",
    "    norm_x_space = torch.norm(x_space, p=2, dim=-1)\n",
    "    norm_y_space = torch.norm(y_space, p=2, dim=-1)\n",
    "    x_time = torch.sqrt(1/c + norm_x_space**2)\n",
    "    y_time = torch.sqrt(1/c + norm_y_space**2)\n",
    "    dot_product = torch.sum(x_space * y_space, dim=-1)\n",
    "    lorentz_inner_product =  dot_product - x_time * y_time\n",
    "    numerator = y_time + x_time * c * lorentz_inner_product\n",
    "    denominator = norm_x_space * torch.sqrt((c * lorentz_inner_product)**2 - 1)\n",
    "    ext_angle = torch.acos(numerator / denominator)\n",
    "    return ext_angle"
   ]
  },
  {
   "cell_type": "code",
   "execution_count": 30,
   "id": "5da33f8e",
   "metadata": {
    "execution": {
     "iopub.execute_input": "2025-02-12T22:49:36.039930Z",
     "iopub.status.busy": "2025-02-12T22:49:36.039364Z",
     "iopub.status.idle": "2025-02-12T22:49:36.042805Z",
     "shell.execute_reply": "2025-02-12T22:49:36.042378Z"
    },
    "papermill": {
     "duration": 0.009981,
     "end_time": "2025-02-12T22:49:36.043448",
     "exception": false,
     "start_time": "2025-02-12T22:49:36.033467",
     "status": "completed"
    },
    "tags": []
   },
   "outputs": [],
   "source": [
    "def entailment_loss(x, y, c=1, K=0.1):\n",
    "    c = torch.tensor(c)\n",
    "    K = torch.tensor(K)\n",
    "    xspace = x\n",
    "    yspace = y\n",
    "    aperture = torch.asin(2 * K / (torch.sqrt(c) * torch.norm(xspace, p=2, dim=-1)))\n",
    "    \n",
    "    ext_angle = exterior_angle(xspace,yspace,c=c)\n",
    "    \n",
    "    loss = torch.max(torch.zeros_like(ext_angle), ext_angle - aperture)\n",
    "    return loss.mean()"
   ]
  },
  {
   "cell_type": "code",
   "execution_count": 31,
   "id": "d9c00515",
   "metadata": {
    "execution": {
     "iopub.execute_input": "2025-02-12T22:49:36.055894Z",
     "iopub.status.busy": "2025-02-12T22:49:36.055434Z",
     "iopub.status.idle": "2025-02-12T22:49:36.058576Z",
     "shell.execute_reply": "2025-02-12T22:49:36.058154Z"
    },
    "papermill": {
     "duration": 0.009524,
     "end_time": "2025-02-12T22:49:36.059250",
     "exception": false,
     "start_time": "2025-02-12T22:49:36.049726",
     "status": "completed"
    },
    "tags": []
   },
   "outputs": [],
   "source": [
    "def expm_o(v, c=1.0):\n",
    "    c = torch.tensor(c)\n",
    "    vspace = v\n",
    "    vnorm = torch.norm(v, p=2, dim=-1, keepdim=True)\n",
    "    xspace = torch.sinh(torch.sqrt(c) * vnorm) * vspace / (torch.sqrt(c) * vnorm)\n",
    "    batch_min = xspace.min(dim=1, keepdim=True).values\n",
    "    batch_max = xspace.max(dim=1, keepdim=True).values\n",
    "    xspace_scaled=(xspace - batch_min) / (batch_max - batch_min)\n",
    "    return xspace_scaled"
   ]
  },
  {
   "cell_type": "code",
   "execution_count": 32,
   "id": "10577114",
   "metadata": {
    "execution": {
     "iopub.execute_input": "2025-02-12T22:49:36.070651Z",
     "iopub.status.busy": "2025-02-12T22:49:36.070503Z",
     "iopub.status.idle": "2025-02-12T22:49:36.074045Z",
     "shell.execute_reply": "2025-02-12T22:49:36.073430Z"
    },
    "papermill": {
     "duration": 0.009983,
     "end_time": "2025-02-12T22:49:36.074705",
     "exception": false,
     "start_time": "2025-02-12T22:49:36.064722",
     "status": "completed"
    },
    "tags": []
   },
   "outputs": [],
   "source": [
    "optimizer = torch.optim.AdamW(lora_model.parameters(), lr=5e-5)"
   ]
  },
  {
   "cell_type": "code",
   "execution_count": 33,
   "id": "a669f34f",
   "metadata": {
    "execution": {
     "iopub.execute_input": "2025-02-12T22:49:36.086821Z",
     "iopub.status.busy": "2025-02-12T22:49:36.086143Z",
     "iopub.status.idle": "2025-02-12T22:49:36.090024Z",
     "shell.execute_reply": "2025-02-12T22:49:36.089458Z"
    },
    "papermill": {
     "duration": 0.010511,
     "end_time": "2025-02-12T22:49:36.090714",
     "exception": false,
     "start_time": "2025-02-12T22:49:36.080203",
     "status": "completed"
    },
    "tags": []
   },
   "outputs": [],
   "source": [
    "num_epochs=3"
   ]
  },
  {
   "cell_type": "code",
   "execution_count": 34,
   "id": "eb5c7715",
   "metadata": {
    "execution": {
     "iopub.execute_input": "2025-02-12T22:49:36.103620Z",
     "iopub.status.busy": "2025-02-12T22:49:36.102736Z",
     "iopub.status.idle": "2025-02-12T22:49:36.475993Z",
     "shell.execute_reply": "2025-02-12T22:49:36.475187Z"
    },
    "papermill": {
     "duration": 0.380463,
     "end_time": "2025-02-12T22:49:36.476989",
     "exception": false,
     "start_time": "2025-02-12T22:49:36.096526",
     "status": "completed"
    },
    "tags": []
   },
   "outputs": [],
   "source": [
    "device = torch.device('cuda' if torch.cuda.is_available() else 'cpu')"
   ]
  },
  {
   "cell_type": "code",
   "execution_count": 35,
   "id": "0b5b7e3e",
   "metadata": {
    "execution": {
     "iopub.execute_input": "2025-02-12T22:49:36.523889Z",
     "iopub.status.busy": "2025-02-12T22:49:36.523205Z",
     "iopub.status.idle": "2025-02-12T22:49:36.527818Z",
     "shell.execute_reply": "2025-02-12T22:49:36.527385Z"
    },
    "papermill": {
     "duration": 0.045377,
     "end_time": "2025-02-12T22:49:36.528522",
     "exception": false,
     "start_time": "2025-02-12T22:49:36.483145",
     "status": "completed"
    },
    "tags": []
   },
   "outputs": [
    {
     "data": {
      "text/plain": [
       "device(type='cuda')"
      ]
     },
     "execution_count": 35,
     "metadata": {},
     "output_type": "execute_result"
    }
   ],
   "source": [
    "device"
   ]
  },
  {
   "cell_type": "code",
   "execution_count": 36,
   "id": "32c3d48d",
   "metadata": {
    "execution": {
     "iopub.execute_input": "2025-02-12T22:49:36.541627Z",
     "iopub.status.busy": "2025-02-12T22:49:36.540741Z",
     "iopub.status.idle": "2025-02-12T22:49:37.550885Z",
     "shell.execute_reply": "2025-02-12T22:49:37.550317Z"
    },
    "papermill": {
     "duration": 1.017479,
     "end_time": "2025-02-12T22:49:37.551975",
     "exception": false,
     "start_time": "2025-02-12T22:49:36.534496",
     "status": "completed"
    },
    "tags": []
   },
   "outputs": [],
   "source": [
    "lora_model = lora_model.to(device)"
   ]
  },
  {
   "cell_type": "code",
   "execution_count": 37,
   "id": "6a4a8dd5",
   "metadata": {
    "execution": {
     "iopub.execute_input": "2025-02-12T22:49:37.567216Z",
     "iopub.status.busy": "2025-02-12T22:49:37.566709Z",
     "iopub.status.idle": "2025-02-12T22:49:41.255619Z",
     "shell.execute_reply": "2025-02-12T22:49:41.255107Z"
    },
    "papermill": {
     "duration": 3.696171,
     "end_time": "2025-02-12T22:49:41.256460",
     "exception": false,
     "start_time": "2025-02-12T22:49:37.560289",
     "status": "completed"
    },
    "tags": []
   },
   "outputs": [
    {
     "data": {
      "text/plain": [
       "Dataset({\n",
       "    features: ['label', 'title', 'content'],\n",
       "    num_rows: 70000\n",
       "})"
      ]
     },
     "execution_count": 37,
     "metadata": {},
     "output_type": "execute_result"
    }
   ],
   "source": [
    "dataset_val = load_dataset(\"dbpedia_14\", split=\"test\")\n",
    "dataset_val"
   ]
  },
  {
   "cell_type": "code",
   "execution_count": 38,
   "id": "7a6a9b2d",
   "metadata": {
    "execution": {
     "iopub.execute_input": "2025-02-12T22:49:41.270944Z",
     "iopub.status.busy": "2025-02-12T22:49:41.270163Z",
     "iopub.status.idle": "2025-02-12T22:49:43.106767Z",
     "shell.execute_reply": "2025-02-12T22:49:43.105827Z"
    },
    "papermill": {
     "duration": 1.844727,
     "end_time": "2025-02-12T22:49:43.107959",
     "exception": false,
     "start_time": "2025-02-12T22:49:41.263232",
     "status": "completed"
    },
    "tags": []
   },
   "outputs": [],
   "source": [
    "category_to_samples_val = {}\n",
    "for sample in dataset_val:\n",
    "    category = LABEL_TO_CATEGORY[sample[\"label\"]]\n",
    "    if category not in category_to_samples_val:\n",
    "        category_to_samples_val[category] = []\n",
    "    category_to_samples_val[category].append(sample[\"content\"])"
   ]
  },
  {
   "cell_type": "code",
   "execution_count": 39,
   "id": "df490e82",
   "metadata": {
    "execution": {
     "iopub.execute_input": "2025-02-12T22:49:43.125211Z",
     "iopub.status.busy": "2025-02-12T22:49:43.124156Z",
     "iopub.status.idle": "2025-02-12T22:49:43.181063Z",
     "shell.execute_reply": "2025-02-12T22:49:43.180330Z"
    },
    "papermill": {
     "duration": 0.065223,
     "end_time": "2025-02-12T22:49:43.182047",
     "exception": false,
     "start_time": "2025-02-12T22:49:43.116824",
     "status": "completed"
    },
    "tags": []
   },
   "outputs": [],
   "source": [
    "category_negatives_val = {\n",
    "    category: [desc for cat, descriptions in category_to_samples_val.items() if cat != category for desc in descriptions]\n",
    "    for category in LABEL_TO_CATEGORY.values()\n",
    "}"
   ]
  },
  {
   "cell_type": "code",
   "execution_count": 40,
   "id": "6a6cf7ea",
   "metadata": {
    "execution": {
     "iopub.execute_input": "2025-02-12T22:49:43.195270Z",
     "iopub.status.busy": "2025-02-12T22:49:43.194817Z",
     "iopub.status.idle": "2025-02-12T22:49:43.199381Z",
     "shell.execute_reply": "2025-02-12T22:49:43.198824Z"
    },
    "papermill": {
     "duration": 0.012123,
     "end_time": "2025-02-12T22:49:43.200355",
     "exception": false,
     "start_time": "2025-02-12T22:49:43.188232",
     "status": "completed"
    },
    "tags": []
   },
   "outputs": [],
   "source": [
    "def preprocess_val(example, num_negatives=5):\n",
    "    category = LABEL_TO_CATEGORY.get(example[\"label\"], None)\n",
    "    \n",
    "    if category is None or category not in category_negatives_val:\n",
    "        return None\n",
    "\n",
    "    query = f\"Tell me about {category.lower()}.\"\n",
    "    positive = example[\"content\"]\n",
    "\n",
    "    negatives = random.choices(category_negatives_val[category], k=num_negatives)\n",
    "\n",
    "    return {\n",
    "        \"query\": query,\n",
    "        \"positive\": positive,\n",
    "        \"negatives\": negatives\n",
    "    }"
   ]
  },
  {
   "cell_type": "code",
   "execution_count": 41,
   "id": "4ac6d3d0",
   "metadata": {
    "execution": {
     "iopub.execute_input": "2025-02-12T22:49:43.213133Z",
     "iopub.status.busy": "2025-02-12T22:49:43.212526Z",
     "iopub.status.idle": "2025-02-12T22:49:44.953438Z",
     "shell.execute_reply": "2025-02-12T22:49:44.952660Z"
    },
    "papermill": {
     "duration": 1.748315,
     "end_time": "2025-02-12T22:49:44.954478",
     "exception": false,
     "start_time": "2025-02-12T22:49:43.206163",
     "status": "completed"
    },
    "tags": []
   },
   "outputs": [],
   "source": [
    "processed_data_val = dataset_val.map(preprocess_val, remove_columns=dataset_val.column_names)"
   ]
  },
  {
   "cell_type": "code",
   "execution_count": 42,
   "id": "9d0892ed",
   "metadata": {
    "execution": {
     "iopub.execute_input": "2025-02-12T22:49:44.968352Z",
     "iopub.status.busy": "2025-02-12T22:49:44.967632Z",
     "iopub.status.idle": "2025-02-12T22:49:44.975294Z",
     "shell.execute_reply": "2025-02-12T22:49:44.974353Z"
    },
    "papermill": {
     "duration": 0.015202,
     "end_time": "2025-02-12T22:49:44.976096",
     "exception": false,
     "start_time": "2025-02-12T22:49:44.960894",
     "status": "completed"
    },
    "tags": []
   },
   "outputs": [],
   "source": [
    "processed_data_val = processed_data_val.filter(lambda x: x['query'] is not None and x['positive'] is not None)"
   ]
  },
  {
   "cell_type": "code",
   "execution_count": 43,
   "id": "69b78fa2",
   "metadata": {
    "execution": {
     "iopub.execute_input": "2025-02-12T22:49:44.989154Z",
     "iopub.status.busy": "2025-02-12T22:49:44.988553Z",
     "iopub.status.idle": "2025-02-12T22:49:49.614951Z",
     "shell.execute_reply": "2025-02-12T22:49:49.614041Z"
    },
    "papermill": {
     "duration": 4.634219,
     "end_time": "2025-02-12T22:49:49.616335",
     "exception": false,
     "start_time": "2025-02-12T22:49:44.982116",
     "status": "completed"
    },
    "tags": []
   },
   "outputs": [],
   "source": [
    "contrastive_pairs_val = []\n",
    "for item in processed_data_val:\n",
    "    query = item[\"query\"]\n",
    "    positive = item[\"positive\"]\n",
    "    negatives = item[\"negatives\"]\n",
    "    contrastive_pairs_val.append({\n",
    "        \"anchor\": query,\n",
    "        \"positive\": positive,\n",
    "        \"negatives\": negatives\n",
    "    })"
   ]
  },
  {
   "cell_type": "code",
   "execution_count": 44,
   "id": "253dd242",
   "metadata": {
    "execution": {
     "iopub.execute_input": "2025-02-12T22:49:49.632874Z",
     "iopub.status.busy": "2025-02-12T22:49:49.632071Z",
     "iopub.status.idle": "2025-02-12T22:49:49.636270Z",
     "shell.execute_reply": "2025-02-12T22:49:49.635801Z"
    },
    "papermill": {
     "duration": 0.012285,
     "end_time": "2025-02-12T22:49:49.637346",
     "exception": false,
     "start_time": "2025-02-12T22:49:49.625061",
     "status": "completed"
    },
    "tags": []
   },
   "outputs": [],
   "source": [
    "contrastive_dataset_val = ContrastiveDataset(contrastive_pairs_val)"
   ]
  },
  {
   "cell_type": "code",
   "execution_count": 45,
   "id": "81f6425e",
   "metadata": {
    "execution": {
     "iopub.execute_input": "2025-02-12T22:49:49.649938Z",
     "iopub.status.busy": "2025-02-12T22:49:49.649363Z",
     "iopub.status.idle": "2025-02-12T22:49:49.652805Z",
     "shell.execute_reply": "2025-02-12T22:49:49.652354Z"
    },
    "papermill": {
     "duration": 0.010185,
     "end_time": "2025-02-12T22:49:49.653419",
     "exception": false,
     "start_time": "2025-02-12T22:49:49.643234",
     "status": "completed"
    },
    "tags": []
   },
   "outputs": [],
   "source": [
    "data_loader_val = DataLoader(contrastive_dataset_val, batch_size=32, shuffle=True)"
   ]
  },
  {
   "cell_type": "code",
   "execution_count": 46,
   "id": "267ef96f",
   "metadata": {
    "execution": {
     "iopub.execute_input": "2025-02-12T22:49:49.666326Z",
     "iopub.status.busy": "2025-02-12T22:49:49.665783Z",
     "iopub.status.idle": "2025-02-12T22:49:49.669751Z",
     "shell.execute_reply": "2025-02-12T22:49:49.669277Z"
    },
    "papermill": {
     "duration": 0.010841,
     "end_time": "2025-02-12T22:49:49.670409",
     "exception": false,
     "start_time": "2025-02-12T22:49:49.659568",
     "status": "completed"
    },
    "tags": []
   },
   "outputs": [
    {
     "data": {
      "text/plain": [
       "2188"
      ]
     },
     "execution_count": 46,
     "metadata": {},
     "output_type": "execute_result"
    }
   ],
   "source": [
    "len(data_loader_val)"
   ]
  },
  {
   "cell_type": "code",
   "execution_count": 47,
   "id": "1953914a",
   "metadata": {
    "execution": {
     "iopub.execute_input": "2025-02-12T22:49:49.683751Z",
     "iopub.status.busy": "2025-02-12T22:49:49.683056Z",
     "iopub.status.idle": "2025-02-12T22:49:49.688971Z",
     "shell.execute_reply": "2025-02-12T22:49:49.688477Z"
    },
    "papermill": {
     "duration": 0.013096,
     "end_time": "2025-02-12T22:49:49.689600",
     "exception": false,
     "start_time": "2025-02-12T22:49:49.676504",
     "status": "completed"
    },
    "tags": []
   },
   "outputs": [],
   "source": [
    "def evaluate_mrr(model1, data_loader_val, distance_fn):\n",
    "    model1.eval()\n",
    "    \n",
    "    total_rr = 0.0\n",
    "    num_queries = 0\n",
    "\n",
    "    with torch.no_grad():\n",
    "        for batch in data_loader_val:\n",
    "            anchor_text = batch[0]\n",
    "            positive_text = batch[1]\n",
    "            negative_texts = batch[2]\n",
    "\n",
    "            anchor_input = tokenizer(anchor_text, return_tensors='pt', padding=True, truncation=True, max_length=512).to(device)\n",
    "            positive_input = tokenizer(positive_text, return_tensors='pt', padding=True, truncation=True, max_length=512).to(device)\n",
    "\n",
    "            anchor_embedding = expm_o(model1(**anchor_input).last_hidden_state[:, 0, :])\n",
    "            positive_embedding = expm_o(model1(**positive_input).last_hidden_state[:, 0, :])\n",
    "            negative_embedding = [expm_o(model1(**tokenizer(neg, return_tensors='pt', padding=True, truncation=True, max_length=512).to(device)).last_hidden_state[:, 0, :]) for neg in negative_texts]\n",
    "\n",
    "            pos_dist = distance_fn(anchor_embedding, positive_embedding)\n",
    "            neg_dist = torch.stack([distance_fn(anchor_embedding, neg) for neg in negative_embedding], dim=-1)\n",
    "            all_similarities=torch.cat([-pos_dist.unsqueeze(1), -neg_dist], dim=1)\n",
    "\n",
    "            sorted_similarities, sorted_indices = torch.sort(all_similarities, dim=1, descending=True)\n",
    "\n",
    "            # Find the rank of the first relevant (positive) document\n",
    "            positive_rank = (sorted_indices == 0).nonzero(as_tuple=True)[1] + 1  # +1 to make rank 1-based\n",
    "            total_rr += torch.sum(1.0 / positive_rank.float()).item()  # Reciprocal rank\n",
    "            num_queries += len(positive_rank)\n",
    "            \n",
    "    mrr = total_rr / num_queries\n",
    "    return mrr"
   ]
  },
  {
   "cell_type": "code",
   "execution_count": 48,
   "id": "cc2bc8c3",
   "metadata": {
    "execution": {
     "iopub.execute_input": "2025-02-12T22:49:49.702609Z",
     "iopub.status.busy": "2025-02-12T22:49:49.702133Z",
     "iopub.status.idle": "2025-02-12T22:49:49.705055Z",
     "shell.execute_reply": "2025-02-12T22:49:49.704596Z"
    },
    "papermill": {
     "duration": 0.010116,
     "end_time": "2025-02-12T22:49:49.705816",
     "exception": false,
     "start_time": "2025-02-12T22:49:49.695700",
     "status": "completed"
    },
    "tags": []
   },
   "outputs": [],
   "source": [
    "import os\n",
    "save_dir =\"/dss/dsshome1/07/ra65bex2/srawat/wiki/0.5hyperbolic\""
   ]
  },
  {
   "cell_type": "code",
   "execution_count": 49,
   "id": "a655ffd0",
   "metadata": {
    "execution": {
     "iopub.execute_input": "2025-02-12T22:49:49.719278Z",
     "iopub.status.busy": "2025-02-12T22:49:49.719018Z",
     "iopub.status.idle": "2025-02-12T22:49:49.723178Z",
     "shell.execute_reply": "2025-02-12T22:49:49.721976Z"
    },
    "papermill": {
     "duration": 0.012152,
     "end_time": "2025-02-12T22:49:49.724256",
     "exception": false,
     "start_time": "2025-02-12T22:49:49.712104",
     "status": "completed"
    },
    "tags": []
   },
   "outputs": [],
   "source": [
    "import time\n",
    "epoch_metrics = []"
   ]
  },
  {
   "cell_type": "code",
   "execution_count": 50,
   "id": "51aba5e2",
   "metadata": {
    "execution": {
     "iopub.execute_input": "2025-02-12T22:49:49.738005Z",
     "iopub.status.busy": "2025-02-12T22:49:49.737311Z",
     "iopub.status.idle": "2025-02-13T07:58:16.463857Z",
     "shell.execute_reply": "2025-02-13T07:58:16.462789Z"
    },
    "papermill": {
     "duration": 32906.742817,
     "end_time": "2025-02-13T07:58:16.473376",
     "exception": false,
     "start_time": "2025-02-12T22:49:49.730559",
     "status": "completed"
    },
    "tags": []
   },
   "outputs": [
    {
     "name": "stdout",
     "output_type": "stream",
     "text": [
      "EPOCH 1:\n",
      "Checkpoint saved: /dss/dsshome1/07/ra65bex2/srawat/wiki/0.5hyperbolic\n",
      "Epoch 1/3, Loss: 2.3706670815467836\n",
      "Epoch 1/3, Contrastive Loss: 1.7940228140013559\n",
      "Epoch 1/3, Entailment Loss: 1.153288536310196\n"
     ]
    },
    {
     "name": "stdout",
     "output_type": "stream",
     "text": [
      "Mean Reciprocal Rank (MRR) for validation set: 0.4102\n",
      "Epoch 1 took 183.5593 minutes.\n",
      "\n",
      "\n"
     ]
    },
    {
     "name": "stdout",
     "output_type": "stream",
     "text": [
      "EPOCH 2:\n",
      "Checkpoint saved: /dss/dsshome1/07/ra65bex2/srawat/wiki/0.5hyperbolic\n",
      "Epoch 2/3, Loss: 2.304501330593654\n",
      "Epoch 2/3, Contrastive Loss: 1.7922760928767068\n",
      "Epoch 2/3, Entailment Loss: 1.0244504737070628\n"
     ]
    },
    {
     "name": "stdout",
     "output_type": "stream",
     "text": [
      "Mean Reciprocal Rank (MRR) for validation set: 0.4104\n",
      "Epoch 2 took 182.6099 minutes.\n",
      "\n",
      "\n"
     ]
    },
    {
     "name": "stdout",
     "output_type": "stream",
     "text": [
      "EPOCH 3:\n",
      "Checkpoint saved: /dss/dsshome1/07/ra65bex2/srawat/wiki/0.5hyperbolic\n",
      "Epoch 3/3, Loss: 2.296388547870091\n",
      "Epoch 3/3, Contrastive Loss: 1.7922084340708597\n",
      "Epoch 3/3, Entailment Loss: 1.008360227094378\n"
     ]
    },
    {
     "name": "stdout",
     "output_type": "stream",
     "text": [
      "Mean Reciprocal Rank (MRR) for validation set: 0.4101\n",
      "Epoch 3 took 182.2761 minutes.\n",
      "\n",
      "\n"
     ]
    }
   ],
   "source": [
    "for epoch in range(num_epochs):\n",
    "    start_time = time.time()\n",
    "    lora_model.train()\n",
    "\n",
    "    total_loss = 0.0\n",
    "    entailment_loss_total=0.0\n",
    "    contrastive_loss_total=0.0\n",
    "    for batch in data_loader_train:\n",
    "\n",
    "        anchor_texts = batch[0]\n",
    "        positive_texts = batch[1]\n",
    "        negative_texts = batch[2]\n",
    "\n",
    "        anchor_inputs = tokenizer(anchor_texts, return_tensors='pt', padding=True, truncation=True, max_length=512).to(device)\n",
    "        positive_inputs = tokenizer(positive_texts, return_tensors='pt', padding=True, truncation=True, max_length=512).to(device)\n",
    "    \n",
    "        anchor_embedding = expm_o(lora_model(**anchor_inputs).last_hidden_state[:, 0, :])\n",
    "        positive_embedding = expm_o(lora_model(**positive_inputs).last_hidden_state[:, 0, :])\n",
    "        negative_embedding = [expm_o(lora_model(**tokenizer(neg, return_tensors='pt', padding=True, truncation=True, max_length=512).to(device)).last_hidden_state[:, 0, :]) for neg in negative_texts]\n",
    "\n",
    "        contrastive_loss_value = info_nce_loss(anchor_embedding, positive_embedding, negative_embedding, distance_fn=lorentzian_distance)\n",
    "        \n",
    "        entailment_loss_value = entailment_loss(anchor_embedding, positive_embedding)\n",
    "        \n",
    "        loss = contrastive_loss_value + 0.5*entailment_loss_value\n",
    "  \n",
    "        optimizer.zero_grad()\n",
    "        loss.backward()\n",
    "        optimizer.step()\n",
    "        \n",
    "        total_loss += loss.item()\n",
    "        entailment_loss_total+=entailment_loss_value.item()\n",
    "        contrastive_loss_total+=contrastive_loss_value.item()\n",
    "    save_path1 = os.path.join(save_dir, f\"hyperbolic_lora_checkpoint_epoch_{epoch+1}.pth\")\n",
    "    torch.save(lora_model, save_path1)\n",
    "    print(f\"EPOCH {epoch+1}:\")\n",
    "    print(f\"Checkpoint saved: {save_dir}\")\n",
    "    print(f\"Epoch {epoch+1}/{num_epochs}, Loss: {total_loss / len(data_loader_train)}\")\n",
    "    print(f\"Epoch {epoch+1}/{num_epochs}, Contrastive Loss: {contrastive_loss_total / len(data_loader_train)}\")\n",
    "    print(f\"Epoch {epoch+1}/{num_epochs}, Entailment Loss: {entailment_loss_total / len(data_loader_train)}\")\n",
    "    mrr_validation = evaluate_mrr(model1=lora_model, data_loader_val=data_loader_val,distance_fn=lorentzian_distance)\n",
    "    #mrr_train = evaluate_mrr(lora_model, data_loader_train, lorentzian_distance)\n",
    "    #print(f\"Mean Reciprocal Rank (MRR) for training set: {mrr_train:.4f}\")\n",
    "    print(f\"Mean Reciprocal Rank (MRR) for validation set: {mrr_validation:.4f}\")\n",
    "    end_time = time.time()\n",
    "    print(f\"Epoch {epoch+1} took {(end_time - start_time) / 60:.4f} minutes.\")\n",
    "    print(f\"\\n\")\n",
    "    epoch_metrics.append({\n",
    "        'epoch': epoch + 1,\n",
    "        'training_loss': total_loss / len(data_loader_train),\n",
    "        'Contrastive_loss': contrastive_loss_total / len(data_loader_train),\n",
    "        'Entailment_loss': entailment_loss_total / len(data_loader_train),\n",
    "        'mrr_validation': mrr_validation,\n",
    "        'time_taken_minutes': (end_time - start_time) / 60\n",
    "    })"
   ]
  },
  {
   "cell_type": "code",
   "execution_count": 51,
   "id": "73b9686d",
   "metadata": {
    "execution": {
     "iopub.execute_input": "2025-02-13T07:58:16.489055Z",
     "iopub.status.busy": "2025-02-13T07:58:16.488405Z",
     "iopub.status.idle": "2025-02-13T07:58:16.492537Z",
     "shell.execute_reply": "2025-02-13T07:58:16.492142Z"
    },
    "papermill": {
     "duration": 0.012137,
     "end_time": "2025-02-13T07:58:16.493527",
     "exception": false,
     "start_time": "2025-02-13T07:58:16.481390",
     "status": "completed"
    },
    "tags": []
   },
   "outputs": [],
   "source": [
    "import json\n",
    "with open(save_dir + '/hyperbolic_epoch_metrics.json', 'w') as f:\n",
    "    json.dump(epoch_metrics, f)"
   ]
  },
  {
   "cell_type": "code",
   "execution_count": null,
   "id": "63ef60f5",
   "metadata": {
    "papermill": {
     "duration": 0.007747,
     "end_time": "2025-02-13T07:58:16.508597",
     "exception": false,
     "start_time": "2025-02-13T07:58:16.500850",
     "status": "completed"
    },
    "tags": []
   },
   "outputs": [],
   "source": []
  }
 ],
 "metadata": {
  "kernelspec": {
   "display_name": "Python (myenv)",
   "language": "python",
   "name": "myenv"
  },
  "language_info": {
   "codemirror_mode": {
    "name": "ipython",
    "version": 3
   },
   "file_extension": ".py",
   "mimetype": "text/x-python",
   "name": "python",
   "nbconvert_exporter": "python",
   "pygments_lexer": "ipython3",
   "version": "3.12.7"
  },
  "papermill": {
   "default_parameters": {},
   "duration": 33021.403258,
   "end_time": "2025-02-13T07:58:19.635381",
   "environment_variables": {},
   "exception": null,
   "input_path": "0.5hyperbolic.ipynb",
   "output_path": "0.5hyperbolic_output.ipynb",
   "parameters": {},
   "start_time": "2025-02-12T22:47:58.232123",
   "version": "2.6.0"
  }
 },
 "nbformat": 4,
 "nbformat_minor": 5
}