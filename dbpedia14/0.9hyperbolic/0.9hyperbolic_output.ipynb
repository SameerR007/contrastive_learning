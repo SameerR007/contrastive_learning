{
 "cells": [
  {
   "cell_type": "code",
   "execution_count": 1,
   "id": "55fffc36",
   "metadata": {
    "execution": {
     "iopub.execute_input": "2025-02-12T22:48:00.983503Z",
     "iopub.status.busy": "2025-02-12T22:48:00.983232Z",
     "iopub.status.idle": "2025-02-12T22:48:04.310362Z",
     "shell.execute_reply": "2025-02-12T22:48:04.309914Z"
    },
    "papermill": {
     "duration": 3.335981,
     "end_time": "2025-02-12T22:48:04.311565",
     "exception": false,
     "start_time": "2025-02-12T22:48:00.975584",
     "status": "completed"
    },
    "tags": []
   },
   "outputs": [],
   "source": [
    "from datasets import load_dataset\n",
    "import random\n",
    "import json"
   ]
  },
  {
   "cell_type": "code",
   "execution_count": 2,
   "id": "fc123671",
   "metadata": {
    "execution": {
     "iopub.execute_input": "2025-02-12T22:48:04.324419Z",
     "iopub.status.busy": "2025-02-12T22:48:04.323946Z",
     "iopub.status.idle": "2025-02-12T22:48:09.105518Z",
     "shell.execute_reply": "2025-02-12T22:48:09.104687Z"
    },
    "papermill": {
     "duration": 4.788036,
     "end_time": "2025-02-12T22:48:09.106429",
     "exception": false,
     "start_time": "2025-02-12T22:48:04.318393",
     "status": "completed"
    },
    "tags": []
   },
   "outputs": [
    {
     "data": {
      "text/plain": [
       "DatasetDict({\n",
       "    train: Dataset({\n",
       "        features: ['label', 'title', 'content'],\n",
       "        num_rows: 560000\n",
       "    })\n",
       "    test: Dataset({\n",
       "        features: ['label', 'title', 'content'],\n",
       "        num_rows: 70000\n",
       "    })\n",
       "})"
      ]
     },
     "execution_count": 2,
     "metadata": {},
     "output_type": "execute_result"
    }
   ],
   "source": [
    "load_dataset(\"dbpedia_14\")"
   ]
  },
  {
   "cell_type": "code",
   "execution_count": 3,
   "id": "6bcb5a28",
   "metadata": {
    "execution": {
     "iopub.execute_input": "2025-02-12T22:48:09.118872Z",
     "iopub.status.busy": "2025-02-12T22:48:09.118541Z",
     "iopub.status.idle": "2025-02-12T22:48:11.284066Z",
     "shell.execute_reply": "2025-02-12T22:48:11.283602Z"
    },
    "papermill": {
     "duration": 2.171662,
     "end_time": "2025-02-12T22:48:11.284884",
     "exception": false,
     "start_time": "2025-02-12T22:48:09.113222",
     "status": "completed"
    },
    "tags": []
   },
   "outputs": [
    {
     "data": {
      "text/plain": [
       "Dataset({\n",
       "    features: ['label', 'title', 'content'],\n",
       "    num_rows: 560000\n",
       "})"
      ]
     },
     "execution_count": 3,
     "metadata": {},
     "output_type": "execute_result"
    }
   ],
   "source": [
    "dataset_train = load_dataset(\"dbpedia_14\", split=\"train\")\n",
    "dataset_train"
   ]
  },
  {
   "cell_type": "code",
   "execution_count": 4,
   "id": "11adc73f",
   "metadata": {
    "execution": {
     "iopub.execute_input": "2025-02-12T22:48:11.296859Z",
     "iopub.status.busy": "2025-02-12T22:48:11.296634Z",
     "iopub.status.idle": "2025-02-12T22:48:11.300195Z",
     "shell.execute_reply": "2025-02-12T22:48:11.299785Z"
    },
    "papermill": {
     "duration": 0.009485,
     "end_time": "2025-02-12T22:48:11.301042",
     "exception": false,
     "start_time": "2025-02-12T22:48:11.291557",
     "status": "completed"
    },
    "tags": []
   },
   "outputs": [
    {
     "data": {
      "text/plain": [
       "{'label': 0,\n",
       " 'title': 'E. D. Abbott Ltd',\n",
       " 'content': ' Abbott of Farnham E D Abbott Limited was a British coachbuilding business based in Farnham Surrey trading under that name from 1929. A major part of their output was under sub-contract to motor vehicle manufacturers. Their business closed in 1972.'}"
      ]
     },
     "execution_count": 4,
     "metadata": {},
     "output_type": "execute_result"
    }
   ],
   "source": [
    "dataset_train[0]"
   ]
  },
  {
   "cell_type": "code",
   "execution_count": 5,
   "id": "782e91eb",
   "metadata": {
    "execution": {
     "iopub.execute_input": "2025-02-12T22:48:11.311172Z",
     "iopub.status.busy": "2025-02-12T22:48:11.310567Z",
     "iopub.status.idle": "2025-02-12T22:48:11.313697Z",
     "shell.execute_reply": "2025-02-12T22:48:11.313281Z"
    },
    "papermill": {
     "duration": 0.008871,
     "end_time": "2025-02-12T22:48:11.314433",
     "exception": false,
     "start_time": "2025-02-12T22:48:11.305562",
     "status": "completed"
    },
    "tags": []
   },
   "outputs": [],
   "source": [
    "LABEL_TO_CATEGORY = {\n",
    "    0: \"Company\",\n",
    "    1: \"Educational Institution\",\n",
    "    2: \"Artist\",\n",
    "    3: \"Athlete\",\n",
    "    4: \"Office Holder\",\n",
    "    5: \"Mean Of Transportation\",\n",
    "    6: \"Building\",\n",
    "    7: \"Natural Place\",\n",
    "    8: \"Village\",\n",
    "    9: \"Animal\",\n",
    "    10: \"Plant\",\n",
    "    11: \"Album\",\n",
    "    12: \"Film\",\n",
    "    13: \"Written Work\"\n",
    "}"
   ]
  },
  {
   "cell_type": "code",
   "execution_count": 6,
   "id": "6e5b35c4",
   "metadata": {
    "execution": {
     "iopub.execute_input": "2025-02-12T22:48:11.324322Z",
     "iopub.status.busy": "2025-02-12T22:48:11.324195Z",
     "iopub.status.idle": "2025-02-12T22:48:25.969931Z",
     "shell.execute_reply": "2025-02-12T22:48:25.969119Z"
    },
    "papermill": {
     "duration": 14.652053,
     "end_time": "2025-02-12T22:48:25.971283",
     "exception": false,
     "start_time": "2025-02-12T22:48:11.319230",
     "status": "completed"
    },
    "tags": []
   },
   "outputs": [],
   "source": [
    "category_to_samples = {}\n",
    "for sample in dataset_train:\n",
    "    category = LABEL_TO_CATEGORY[sample[\"label\"]]\n",
    "    if category not in category_to_samples:\n",
    "        category_to_samples[category] = []\n",
    "    category_to_samples[category].append(sample[\"content\"])"
   ]
  },
  {
   "cell_type": "code",
   "execution_count": 7,
   "id": "da31c88a",
   "metadata": {
    "execution": {
     "iopub.execute_input": "2025-02-12T22:48:25.984463Z",
     "iopub.status.busy": "2025-02-12T22:48:25.983858Z",
     "iopub.status.idle": "2025-02-12T22:48:26.361308Z",
     "shell.execute_reply": "2025-02-12T22:48:26.360859Z"
    },
    "papermill": {
     "duration": 0.384166,
     "end_time": "2025-02-12T22:48:26.362501",
     "exception": false,
     "start_time": "2025-02-12T22:48:25.978335",
     "status": "completed"
    },
    "tags": []
   },
   "outputs": [],
   "source": [
    "category_negatives = {\n",
    "    category: [desc for cat, descriptions in category_to_samples.items() if cat != category for desc in descriptions]\n",
    "    for category in LABEL_TO_CATEGORY.values()\n",
    "}"
   ]
  },
  {
   "cell_type": "code",
   "execution_count": 8,
   "id": "b4da8091",
   "metadata": {
    "execution": {
     "iopub.execute_input": "2025-02-12T22:48:26.372840Z",
     "iopub.status.busy": "2025-02-12T22:48:26.372627Z",
     "iopub.status.idle": "2025-02-12T22:48:26.376234Z",
     "shell.execute_reply": "2025-02-12T22:48:26.375861Z"
    },
    "papermill": {
     "duration": 0.009344,
     "end_time": "2025-02-12T22:48:26.376872",
     "exception": false,
     "start_time": "2025-02-12T22:48:26.367528",
     "status": "completed"
    },
    "tags": []
   },
   "outputs": [],
   "source": [
    "def preprocess(example, num_negatives=5):\n",
    "    category = LABEL_TO_CATEGORY.get(example[\"label\"], None)\n",
    "    \n",
    "    if category is None or category not in category_negatives:\n",
    "        return None  \n",
    "\n",
    "    query = f\"Tell me about {category.lower()}.\"\n",
    "    positive = example[\"content\"]\n",
    "\n",
    "    negatives = random.choices(category_negatives[category], k=num_negatives)\n",
    "\n",
    "    return {\n",
    "        \"query\": query,\n",
    "        \"positive\": positive,\n",
    "        \"negatives\": negatives\n",
    "    }"
   ]
  },
  {
   "cell_type": "code",
   "execution_count": 9,
   "id": "930d9378",
   "metadata": {
    "execution": {
     "iopub.execute_input": "2025-02-12T22:48:26.387482Z",
     "iopub.status.busy": "2025-02-12T22:48:26.386954Z",
     "iopub.status.idle": "2025-02-12T22:48:40.225063Z",
     "shell.execute_reply": "2025-02-12T22:48:40.224278Z"
    },
    "papermill": {
     "duration": 13.8443,
     "end_time": "2025-02-12T22:48:40.226132",
     "exception": false,
     "start_time": "2025-02-12T22:48:26.381832",
     "status": "completed"
    },
    "tags": []
   },
   "outputs": [],
   "source": [
    "processed_data_train = dataset_train.map(preprocess, remove_columns=dataset_train.column_names)"
   ]
  },
  {
   "cell_type": "code",
   "execution_count": 10,
   "id": "9dbcd260",
   "metadata": {
    "execution": {
     "iopub.execute_input": "2025-02-12T22:48:40.239102Z",
     "iopub.status.busy": "2025-02-12T22:48:40.238446Z",
     "iopub.status.idle": "2025-02-12T22:48:40.287842Z",
     "shell.execute_reply": "2025-02-12T22:48:40.287379Z"
    },
    "papermill": {
     "duration": 0.055595,
     "end_time": "2025-02-12T22:48:40.288731",
     "exception": false,
     "start_time": "2025-02-12T22:48:40.233136",
     "status": "completed"
    },
    "tags": []
   },
   "outputs": [],
   "source": [
    "processed_data_train = processed_data_train.filter(lambda x: x['query'] is not None and x['positive'] is not None)"
   ]
  },
  {
   "cell_type": "code",
   "execution_count": 11,
   "id": "49874a94",
   "metadata": {
    "execution": {
     "iopub.execute_input": "2025-02-12T22:48:40.299127Z",
     "iopub.status.busy": "2025-02-12T22:48:40.298565Z",
     "iopub.status.idle": "2025-02-12T22:48:40.302302Z",
     "shell.execute_reply": "2025-02-12T22:48:40.301788Z"
    },
    "papermill": {
     "duration": 0.009314,
     "end_time": "2025-02-12T22:48:40.302935",
     "exception": false,
     "start_time": "2025-02-12T22:48:40.293621",
     "status": "completed"
    },
    "tags": []
   },
   "outputs": [
    {
     "data": {
      "text/plain": [
       "Dataset({\n",
       "    features: ['query', 'positive', 'negatives'],\n",
       "    num_rows: 560000\n",
       "})"
      ]
     },
     "execution_count": 11,
     "metadata": {},
     "output_type": "execute_result"
    }
   ],
   "source": [
    "processed_data_train"
   ]
  },
  {
   "cell_type": "code",
   "execution_count": 12,
   "id": "9fd115dd",
   "metadata": {
    "execution": {
     "iopub.execute_input": "2025-02-12T22:48:40.313348Z",
     "iopub.status.busy": "2025-02-12T22:48:40.313094Z",
     "iopub.status.idle": "2025-02-12T22:48:40.326944Z",
     "shell.execute_reply": "2025-02-12T22:48:40.326524Z"
    },
    "papermill": {
     "duration": 0.019812,
     "end_time": "2025-02-12T22:48:40.327666",
     "exception": false,
     "start_time": "2025-02-12T22:48:40.307854",
     "status": "completed"
    },
    "tags": []
   },
   "outputs": [
    {
     "data": {
      "text/plain": [
       "{'query': 'Tell me about company.',\n",
       " 'positive': ' Abbott of Farnham E D Abbott Limited was a British coachbuilding business based in Farnham Surrey trading under that name from 1929. A major part of their output was under sub-contract to motor vehicle manufacturers. Their business closed in 1972.',\n",
       " 'negatives': [' The Ford Model 15-P flying wing was the last aircraft developed by the Stout Metal Airplane Division of the Ford Motor Company. After several flights resulting in a crash the program was halted. Ford eventually re-entered the aviation market producing Consolidated B-24 Liberators under license from Consolidated Aircraft.',\n",
       "  ' Nellie Stockbridge (ca. 1868 – May 22 1965) was an early Idaho frontier mining district photographer. Her career spanned over 60 years. She was the oldest living member of the Zonta International club for advancement of women when she died in 1965.',\n",
       "  ' Shurikeh (Persian: شوريكه\\u200e also Romanized as Shūrīḵeh) is a village in Darbqazi Rural District in the Central District of Nishapur County Razavi Khorasan Province Iran. At the 2006 census its existence was noted but its population was not reported.',\n",
       "  \" Walker Valley High School (WVHS) is a public high school in the Bradley County Schools system located in the northern part of Bradley County Tennessee near Charleston Tennessee. The school serves about 1600 students in grades 9–12.The school's mascot is the mustang and its school colors are blue and gold. Walker Valley has been in existence since 2001. The current principal is Mr. Danny Coggin.\",\n",
       "  ' Into the Unknown is the fifth album by Mercyful Fate released by Metal Blade Records in 1996.Into the Unknown is the most commercially successful Mercyful Fate album to date. It peaked at #31 in the Finnish charts remaining for two weeks in the Top 40. It is the only album by the band to appear on the charts.']}"
      ]
     },
     "execution_count": 12,
     "metadata": {},
     "output_type": "execute_result"
    }
   ],
   "source": [
    "processed_data_train[0]"
   ]
  },
  {
   "cell_type": "code",
   "execution_count": 13,
   "id": "777e7181",
   "metadata": {
    "execution": {
     "iopub.execute_input": "2025-02-12T22:48:40.338272Z",
     "iopub.status.busy": "2025-02-12T22:48:40.337855Z",
     "iopub.status.idle": "2025-02-12T22:49:23.148836Z",
     "shell.execute_reply": "2025-02-12T22:49:23.148297Z"
    },
    "papermill": {
     "duration": 42.81721,
     "end_time": "2025-02-12T22:49:23.149908",
     "exception": false,
     "start_time": "2025-02-12T22:48:40.332698",
     "status": "completed"
    },
    "tags": []
   },
   "outputs": [],
   "source": [
    "contrastive_pairs_train = []\n",
    "for item in processed_data_train:\n",
    "    query = item[\"query\"]\n",
    "    positive = item[\"positive\"]\n",
    "    negatives = item[\"negatives\"]\n",
    "    contrastive_pairs_train.append({\n",
    "        \"anchor\": query,\n",
    "        \"positive\": positive,\n",
    "        \"negatives\": negatives\n",
    "    })"
   ]
  },
  {
   "cell_type": "code",
   "execution_count": 14,
   "id": "c60f6488",
   "metadata": {
    "execution": {
     "iopub.execute_input": "2025-02-12T22:49:23.163908Z",
     "iopub.status.busy": "2025-02-12T22:49:23.163378Z",
     "iopub.status.idle": "2025-02-12T22:49:23.168063Z",
     "shell.execute_reply": "2025-02-12T22:49:23.167352Z"
    },
    "papermill": {
     "duration": 0.011342,
     "end_time": "2025-02-12T22:49:23.168747",
     "exception": false,
     "start_time": "2025-02-12T22:49:23.157405",
     "status": "completed"
    },
    "tags": []
   },
   "outputs": [
    {
     "data": {
      "text/plain": [
       "{'anchor': 'Tell me about film.',\n",
       " 'positive': ' Rojo Amanecer (Red Dawn) is a 1989 Silver Ariel Award-winning Mexican film directed by Jorge Fons. It is a film about the Tlatelolco Massacre in the section of Tlatelolco in Mexico City in the evening of October 2 1968. It focuses on the day of a middle-class Mexican family living in one of the apartment buildings surrounding the Plaza de Tlatelolco and is based on testimonials from witnesses and victims. It stars Héctor Bonilla María Rojo the Bichir Brothers Eduardo Palomo and others.',\n",
       " 'negatives': [' Karschiola is a genus of moths in the family Arctiidae. It contains the single species Karschiola holoclera which is found in Malawi Tanzania and Zimbabwe.',\n",
       "  ' Billie Fulford (21 August 1914 – 28 May 1987) was a New Zealand cricketer. She played in one Test match in 1948.',\n",
       "  ' Discovery or Discoverie was a small 20-ton 38 foot (12 m) long fly-boat of the British East India Company launched before 1602. The ship was one of three that participated in the voyage that led to the founding of Jamestown Virginia.',\n",
       "  ' Hemidoras stenopeltis is a species of thorny catfish found in the Amazon basin of Brazil Colombia and Peru. This species grows to a length of 12.5 centimetres (4.9 in) SL.',\n",
       "  ' Maxilua is a genus of moths of the Noctuidae family.']}"
      ]
     },
     "execution_count": 14,
     "metadata": {},
     "output_type": "execute_result"
    }
   ],
   "source": [
    "contrastive_pairs_train[500000]"
   ]
  },
  {
   "cell_type": "code",
   "execution_count": 15,
   "id": "123f71eb",
   "metadata": {
    "execution": {
     "iopub.execute_input": "2025-02-12T22:49:23.178938Z",
     "iopub.status.busy": "2025-02-12T22:49:23.178787Z",
     "iopub.status.idle": "2025-02-12T22:49:23.227215Z",
     "shell.execute_reply": "2025-02-12T22:49:23.226746Z"
    },
    "papermill": {
     "duration": 0.05433,
     "end_time": "2025-02-12T22:49:23.227938",
     "exception": false,
     "start_time": "2025-02-12T22:49:23.173608",
     "status": "completed"
    },
    "tags": []
   },
   "outputs": [
    {
     "data": {
      "text/plain": [
       "560000"
      ]
     },
     "execution_count": 15,
     "metadata": {},
     "output_type": "execute_result"
    }
   ],
   "source": [
    "len(contrastive_pairs_train)"
   ]
  },
  {
   "cell_type": "code",
   "execution_count": 16,
   "id": "0e0dcd73",
   "metadata": {
    "execution": {
     "iopub.execute_input": "2025-02-12T22:49:23.239073Z",
     "iopub.status.busy": "2025-02-12T22:49:23.238650Z",
     "iopub.status.idle": "2025-02-12T22:49:28.496796Z",
     "shell.execute_reply": "2025-02-12T22:49:28.496214Z"
    },
    "papermill": {
     "duration": 5.26475,
     "end_time": "2025-02-12T22:49:28.498062",
     "exception": false,
     "start_time": "2025-02-12T22:49:23.233312",
     "status": "completed"
    },
    "tags": []
   },
   "outputs": [],
   "source": [
    "from torch.utils.data import DataLoader"
   ]
  },
  {
   "cell_type": "code",
   "execution_count": 17,
   "id": "f71e343e",
   "metadata": {
    "execution": {
     "iopub.execute_input": "2025-02-12T22:49:28.511680Z",
     "iopub.status.busy": "2025-02-12T22:49:28.511271Z",
     "iopub.status.idle": "2025-02-12T22:49:28.515130Z",
     "shell.execute_reply": "2025-02-12T22:49:28.514655Z"
    },
    "papermill": {
     "duration": 0.010524,
     "end_time": "2025-02-12T22:49:28.515954",
     "exception": false,
     "start_time": "2025-02-12T22:49:28.505430",
     "status": "completed"
    },
    "tags": []
   },
   "outputs": [],
   "source": [
    "class ContrastiveDataset:\n",
    "    def __init__(self, pairs):\n",
    "        self.pairs = pairs\n",
    "\n",
    "    def __len__(self):\n",
    "        return len(self.pairs)\n",
    "\n",
    "    def __getitem__(self, idx):\n",
    "        item = self.pairs[idx]\n",
    "        return item[\"anchor\"], item[\"positive\"], item[\"negatives\"]"
   ]
  },
  {
   "cell_type": "code",
   "execution_count": 18,
   "id": "434d8279",
   "metadata": {
    "execution": {
     "iopub.execute_input": "2025-02-12T22:49:28.527549Z",
     "iopub.status.busy": "2025-02-12T22:49:28.527042Z",
     "iopub.status.idle": "2025-02-12T22:49:28.537840Z",
     "shell.execute_reply": "2025-02-12T22:49:28.537282Z"
    },
    "papermill": {
     "duration": 0.017416,
     "end_time": "2025-02-12T22:49:28.538721",
     "exception": false,
     "start_time": "2025-02-12T22:49:28.521305",
     "status": "completed"
    },
    "tags": []
   },
   "outputs": [],
   "source": [
    "contrastive_dataset_train = ContrastiveDataset(contrastive_pairs_train)"
   ]
  },
  {
   "cell_type": "code",
   "execution_count": 19,
   "id": "eef29e96",
   "metadata": {
    "execution": {
     "iopub.execute_input": "2025-02-12T22:49:28.549765Z",
     "iopub.status.busy": "2025-02-12T22:49:28.549329Z",
     "iopub.status.idle": "2025-02-12T22:49:28.552347Z",
     "shell.execute_reply": "2025-02-12T22:49:28.551811Z"
    },
    "papermill": {
     "duration": 0.009407,
     "end_time": "2025-02-12T22:49:28.553260",
     "exception": false,
     "start_time": "2025-02-12T22:49:28.543853",
     "status": "completed"
    },
    "tags": []
   },
   "outputs": [],
   "source": [
    "data_loader_train = DataLoader(contrastive_dataset_train, batch_size=32, shuffle=True)"
   ]
  },
  {
   "cell_type": "code",
   "execution_count": 20,
   "id": "96e79036",
   "metadata": {
    "execution": {
     "iopub.execute_input": "2025-02-12T22:49:28.564398Z",
     "iopub.status.busy": "2025-02-12T22:49:28.563825Z",
     "iopub.status.idle": "2025-02-12T22:49:28.567777Z",
     "shell.execute_reply": "2025-02-12T22:49:28.567401Z"
    },
    "papermill": {
     "duration": 0.010256,
     "end_time": "2025-02-12T22:49:28.568655",
     "exception": false,
     "start_time": "2025-02-12T22:49:28.558399",
     "status": "completed"
    },
    "tags": []
   },
   "outputs": [
    {
     "data": {
      "text/plain": [
       "17500"
      ]
     },
     "execution_count": 20,
     "metadata": {},
     "output_type": "execute_result"
    }
   ],
   "source": [
    "len(data_loader_train)"
   ]
  },
  {
   "cell_type": "code",
   "execution_count": 21,
   "id": "cddb8568",
   "metadata": {
    "execution": {
     "iopub.execute_input": "2025-02-12T22:49:28.580858Z",
     "iopub.status.busy": "2025-02-12T22:49:28.580175Z",
     "iopub.status.idle": "2025-02-12T22:49:33.815040Z",
     "shell.execute_reply": "2025-02-12T22:49:33.814279Z"
    },
    "papermill": {
     "duration": 5.241906,
     "end_time": "2025-02-12T22:49:33.816228",
     "exception": false,
     "start_time": "2025-02-12T22:49:28.574322",
     "status": "completed"
    },
    "tags": []
   },
   "outputs": [],
   "source": [
    "from transformers import AutoTokenizer, AutoModel\n",
    "tokenizer = AutoTokenizer.from_pretrained(\"bert-base-uncased\")"
   ]
  },
  {
   "cell_type": "code",
   "execution_count": 22,
   "id": "90192663",
   "metadata": {
    "execution": {
     "iopub.execute_input": "2025-02-12T22:49:33.830480Z",
     "iopub.status.busy": "2025-02-12T22:49:33.830130Z",
     "iopub.status.idle": "2025-02-12T22:49:35.489434Z",
     "shell.execute_reply": "2025-02-12T22:49:35.488882Z"
    },
    "papermill": {
     "duration": 1.666776,
     "end_time": "2025-02-12T22:49:35.490870",
     "exception": false,
     "start_time": "2025-02-12T22:49:33.824094",
     "status": "completed"
    },
    "tags": []
   },
   "outputs": [],
   "source": [
    "model = AutoModel.from_pretrained(\"bert-base-uncased\")"
   ]
  },
  {
   "cell_type": "code",
   "execution_count": 23,
   "id": "e422fa3d",
   "metadata": {
    "execution": {
     "iopub.execute_input": "2025-02-12T22:49:35.503272Z",
     "iopub.status.busy": "2025-02-12T22:49:35.502680Z",
     "iopub.status.idle": "2025-02-12T22:49:35.825145Z",
     "shell.execute_reply": "2025-02-12T22:49:35.824704Z"
    },
    "papermill": {
     "duration": 0.329488,
     "end_time": "2025-02-12T22:49:35.826137",
     "exception": false,
     "start_time": "2025-02-12T22:49:35.496649",
     "status": "completed"
    },
    "tags": []
   },
   "outputs": [],
   "source": [
    "from peft import LoraConfig, get_peft_model"
   ]
  },
  {
   "cell_type": "code",
   "execution_count": 24,
   "id": "3e610935",
   "metadata": {
    "execution": {
     "iopub.execute_input": "2025-02-12T22:49:35.838225Z",
     "iopub.status.busy": "2025-02-12T22:49:35.838054Z",
     "iopub.status.idle": "2025-02-12T22:49:35.841236Z",
     "shell.execute_reply": "2025-02-12T22:49:35.840699Z"
    },
    "papermill": {
     "duration": 0.010425,
     "end_time": "2025-02-12T22:49:35.842396",
     "exception": false,
     "start_time": "2025-02-12T22:49:35.831971",
     "status": "completed"
    },
    "tags": []
   },
   "outputs": [],
   "source": [
    "lora_config = LoraConfig(\n",
    "    task_type= \"FEATURE_EXTRACTION\"\n",
    ")"
   ]
  },
  {
   "cell_type": "code",
   "execution_count": 25,
   "id": "57772050",
   "metadata": {
    "execution": {
     "iopub.execute_input": "2025-02-12T22:49:35.854454Z",
     "iopub.status.busy": "2025-02-12T22:49:35.853660Z",
     "iopub.status.idle": "2025-02-12T22:49:35.880199Z",
     "shell.execute_reply": "2025-02-12T22:49:35.879792Z"
    },
    "papermill": {
     "duration": 0.033119,
     "end_time": "2025-02-12T22:49:35.880958",
     "exception": false,
     "start_time": "2025-02-12T22:49:35.847839",
     "status": "completed"
    },
    "tags": []
   },
   "outputs": [],
   "source": [
    "lora_model = get_peft_model(model, lora_config)"
   ]
  },
  {
   "cell_type": "code",
   "execution_count": 26,
   "id": "4fb9e1b2",
   "metadata": {
    "execution": {
     "iopub.execute_input": "2025-02-12T22:49:35.892808Z",
     "iopub.status.busy": "2025-02-12T22:49:35.892663Z",
     "iopub.status.idle": "2025-02-12T22:49:35.895234Z",
     "shell.execute_reply": "2025-02-12T22:49:35.894806Z"
    },
    "papermill": {
     "duration": 0.009393,
     "end_time": "2025-02-12T22:49:35.895971",
     "exception": false,
     "start_time": "2025-02-12T22:49:35.886578",
     "status": "completed"
    },
    "tags": []
   },
   "outputs": [],
   "source": [
    "import torch"
   ]
  },
  {
   "cell_type": "code",
   "execution_count": 27,
   "id": "7ad85e8e",
   "metadata": {
    "execution": {
     "iopub.execute_input": "2025-02-12T22:49:35.907374Z",
     "iopub.status.busy": "2025-02-12T22:49:35.907235Z",
     "iopub.status.idle": "2025-02-12T22:49:35.915870Z",
     "shell.execute_reply": "2025-02-12T22:49:35.915391Z"
    },
    "papermill": {
     "duration": 0.015092,
     "end_time": "2025-02-12T22:49:35.916627",
     "exception": false,
     "start_time": "2025-02-12T22:49:35.901535",
     "status": "completed"
    },
    "tags": []
   },
   "outputs": [],
   "source": [
    "def lorentzian_distance(x, y):\n",
    "    \n",
    "    dot_product = torch.sum(x * y, dim=-1)\n",
    "    norm_x = torch.norm(x, dim=-1)\n",
    "    norm_y = torch.norm(y, dim=-1)\n",
    "    \n",
    "    distance = torch.acosh(-dot_product + torch.sqrt((1 + norm_x**2) * (1 + norm_y**2)))\n",
    "    return distance"
   ]
  },
  {
   "cell_type": "code",
   "execution_count": 28,
   "id": "bf6ee189",
   "metadata": {
    "execution": {
     "iopub.execute_input": "2025-02-12T22:49:35.929242Z",
     "iopub.status.busy": "2025-02-12T22:49:35.928758Z",
     "iopub.status.idle": "2025-02-12T22:49:35.932185Z",
     "shell.execute_reply": "2025-02-12T22:49:35.931811Z"
    },
    "papermill": {
     "duration": 0.010396,
     "end_time": "2025-02-12T22:49:35.932976",
     "exception": false,
     "start_time": "2025-02-12T22:49:35.922580",
     "status": "completed"
    },
    "tags": []
   },
   "outputs": [],
   "source": [
    "def info_nce_loss(anchor_embedding, positive_embedding, negative_embedding, distance_fn):\n",
    "\n",
    "    pos_dist = distance_fn(anchor_embedding, positive_embedding)\n",
    "    neg_dist = torch.stack([distance_fn(anchor_embedding, neg) for neg in negative_embedding], dim=-1)\n",
    "    \n",
    "    logits = torch.cat([-pos_dist.unsqueeze(1), -neg_dist], dim=1)\n",
    "    labels = torch.zeros(logits.size(0), dtype=torch.long, device=logits.device)\n",
    "\n",
    "    loss = torch.nn.CrossEntropyLoss()(logits, labels)\n",
    "    return loss"
   ]
  },
  {
   "cell_type": "code",
   "execution_count": 29,
   "id": "1be15dfe",
   "metadata": {
    "execution": {
     "iopub.execute_input": "2025-02-12T22:49:35.945046Z",
     "iopub.status.busy": "2025-02-12T22:49:35.944378Z",
     "iopub.status.idle": "2025-02-12T22:49:35.954115Z",
     "shell.execute_reply": "2025-02-12T22:49:35.953625Z"
    },
    "papermill": {
     "duration": 0.016298,
     "end_time": "2025-02-12T22:49:35.954821",
     "exception": false,
     "start_time": "2025-02-12T22:49:35.938523",
     "status": "completed"
    },
    "tags": []
   },
   "outputs": [],
   "source": [
    "def exterior_angle(x_space, y_space, c):\n",
    "    norm_x_space = torch.norm(x_space, p=2, dim=-1)\n",
    "    norm_y_space = torch.norm(y_space, p=2, dim=-1)\n",
    "    x_time = torch.sqrt(1/c + norm_x_space**2)\n",
    "    y_time = torch.sqrt(1/c + norm_y_space**2)\n",
    "    dot_product = torch.sum(x_space * y_space, dim=-1)\n",
    "    lorentz_inner_product =  dot_product - x_time * y_time\n",
    "    numerator = y_time + x_time * c * lorentz_inner_product\n",
    "    denominator = norm_x_space * torch.sqrt((c * lorentz_inner_product)**2 - 1)\n",
    "    ext_angle = torch.acos(numerator / denominator)\n",
    "    return ext_angle"
   ]
  },
  {
   "cell_type": "code",
   "execution_count": 30,
   "id": "40c4d004",
   "metadata": {
    "execution": {
     "iopub.execute_input": "2025-02-12T22:49:35.966893Z",
     "iopub.status.busy": "2025-02-12T22:49:35.966444Z",
     "iopub.status.idle": "2025-02-12T22:49:35.970099Z",
     "shell.execute_reply": "2025-02-12T22:49:35.969602Z"
    },
    "papermill": {
     "duration": 0.010304,
     "end_time": "2025-02-12T22:49:35.970766",
     "exception": false,
     "start_time": "2025-02-12T22:49:35.960462",
     "status": "completed"
    },
    "tags": []
   },
   "outputs": [],
   "source": [
    "def entailment_loss(x, y, c=1, K=0.1):\n",
    "    c = torch.tensor(c)\n",
    "    K = torch.tensor(K)\n",
    "    xspace = x\n",
    "    yspace = y\n",
    "    aperture = torch.asin(2 * K / (torch.sqrt(c) * torch.norm(xspace, p=2, dim=-1)))\n",
    "    \n",
    "    ext_angle = exterior_angle(xspace,yspace,c=c)\n",
    "    \n",
    "    loss = torch.max(torch.zeros_like(ext_angle), ext_angle - aperture)\n",
    "    return loss.mean()"
   ]
  },
  {
   "cell_type": "code",
   "execution_count": 31,
   "id": "e3ab9625",
   "metadata": {
    "execution": {
     "iopub.execute_input": "2025-02-12T22:49:35.982219Z",
     "iopub.status.busy": "2025-02-12T22:49:35.982085Z",
     "iopub.status.idle": "2025-02-12T22:49:35.985276Z",
     "shell.execute_reply": "2025-02-12T22:49:35.984905Z"
    },
    "papermill": {
     "duration": 0.009666,
     "end_time": "2025-02-12T22:49:35.986018",
     "exception": false,
     "start_time": "2025-02-12T22:49:35.976352",
     "status": "completed"
    },
    "tags": []
   },
   "outputs": [],
   "source": [
    "def expm_o(v, c=1.0):\n",
    "    c = torch.tensor(c)\n",
    "    vspace = v\n",
    "    vnorm = torch.norm(v, p=2, dim=-1, keepdim=True)\n",
    "    xspace = torch.sinh(torch.sqrt(c) * vnorm) * vspace / (torch.sqrt(c) * vnorm)\n",
    "    batch_min = xspace.min(dim=1, keepdim=True).values\n",
    "    batch_max = xspace.max(dim=1, keepdim=True).values\n",
    "    xspace_scaled=(xspace - batch_min) / (batch_max - batch_min)\n",
    "    return xspace_scaled"
   ]
  },
  {
   "cell_type": "code",
   "execution_count": 32,
   "id": "e49f9ec9",
   "metadata": {
    "execution": {
     "iopub.execute_input": "2025-02-12T22:49:35.997313Z",
     "iopub.status.busy": "2025-02-12T22:49:35.997078Z",
     "iopub.status.idle": "2025-02-12T22:49:36.000721Z",
     "shell.execute_reply": "2025-02-12T22:49:36.000304Z"
    },
    "papermill": {
     "duration": 0.009998,
     "end_time": "2025-02-12T22:49:36.001435",
     "exception": false,
     "start_time": "2025-02-12T22:49:35.991437",
     "status": "completed"
    },
    "tags": []
   },
   "outputs": [],
   "source": [
    "optimizer = torch.optim.AdamW(lora_model.parameters(), lr=5e-5)"
   ]
  },
  {
   "cell_type": "code",
   "execution_count": 33,
   "id": "fe0cb31a",
   "metadata": {
    "execution": {
     "iopub.execute_input": "2025-02-12T22:49:36.013539Z",
     "iopub.status.busy": "2025-02-12T22:49:36.012975Z",
     "iopub.status.idle": "2025-02-12T22:49:36.116008Z",
     "shell.execute_reply": "2025-02-12T22:49:36.115670Z"
    },
    "papermill": {
     "duration": 0.10968,
     "end_time": "2025-02-12T22:49:36.116813",
     "exception": false,
     "start_time": "2025-02-12T22:49:36.007133",
     "status": "completed"
    },
    "tags": []
   },
   "outputs": [],
   "source": [
    "num_epochs=3"
   ]
  },
  {
   "cell_type": "code",
   "execution_count": 34,
   "id": "31a2e939",
   "metadata": {
    "execution": {
     "iopub.execute_input": "2025-02-12T22:49:36.128536Z",
     "iopub.status.busy": "2025-02-12T22:49:36.128377Z",
     "iopub.status.idle": "2025-02-12T22:49:36.942565Z",
     "shell.execute_reply": "2025-02-12T22:49:36.941982Z"
    },
    "papermill": {
     "duration": 0.820938,
     "end_time": "2025-02-12T22:49:36.943329",
     "exception": false,
     "start_time": "2025-02-12T22:49:36.122391",
     "status": "completed"
    },
    "tags": []
   },
   "outputs": [],
   "source": [
    "device = torch.device('cuda' if torch.cuda.is_available() else 'cpu')"
   ]
  },
  {
   "cell_type": "code",
   "execution_count": 35,
   "id": "11d00759",
   "metadata": {
    "execution": {
     "iopub.execute_input": "2025-02-12T22:49:36.981810Z",
     "iopub.status.busy": "2025-02-12T22:49:36.981158Z",
     "iopub.status.idle": "2025-02-12T22:49:36.985820Z",
     "shell.execute_reply": "2025-02-12T22:49:36.985399Z"
    },
    "papermill": {
     "duration": 0.037517,
     "end_time": "2025-02-12T22:49:36.986590",
     "exception": false,
     "start_time": "2025-02-12T22:49:36.949073",
     "status": "completed"
    },
    "tags": []
   },
   "outputs": [
    {
     "data": {
      "text/plain": [
       "device(type='cuda')"
      ]
     },
     "execution_count": 35,
     "metadata": {},
     "output_type": "execute_result"
    }
   ],
   "source": [
    "device"
   ]
  },
  {
   "cell_type": "code",
   "execution_count": 36,
   "id": "86ce0ab7",
   "metadata": {
    "execution": {
     "iopub.execute_input": "2025-02-12T22:49:36.998344Z",
     "iopub.status.busy": "2025-02-12T22:49:36.998199Z",
     "iopub.status.idle": "2025-02-12T22:49:37.638911Z",
     "shell.execute_reply": "2025-02-12T22:49:37.638333Z"
    },
    "papermill": {
     "duration": 0.647603,
     "end_time": "2025-02-12T22:49:37.639997",
     "exception": false,
     "start_time": "2025-02-12T22:49:36.992394",
     "status": "completed"
    },
    "tags": []
   },
   "outputs": [],
   "source": [
    "lora_model = lora_model.to(device)"
   ]
  },
  {
   "cell_type": "code",
   "execution_count": 37,
   "id": "414c0a2d",
   "metadata": {
    "execution": {
     "iopub.execute_input": "2025-02-12T22:49:37.654884Z",
     "iopub.status.busy": "2025-02-12T22:49:37.654370Z",
     "iopub.status.idle": "2025-02-12T22:49:40.363488Z",
     "shell.execute_reply": "2025-02-12T22:49:40.363083Z"
    },
    "papermill": {
     "duration": 2.716333,
     "end_time": "2025-02-12T22:49:40.364340",
     "exception": false,
     "start_time": "2025-02-12T22:49:37.648007",
     "status": "completed"
    },
    "tags": []
   },
   "outputs": [
    {
     "data": {
      "text/plain": [
       "Dataset({\n",
       "    features: ['label', 'title', 'content'],\n",
       "    num_rows: 70000\n",
       "})"
      ]
     },
     "execution_count": 37,
     "metadata": {},
     "output_type": "execute_result"
    }
   ],
   "source": [
    "dataset_val = load_dataset(\"dbpedia_14\", split=\"test\")\n",
    "dataset_val"
   ]
  },
  {
   "cell_type": "code",
   "execution_count": 38,
   "id": "ba5486fc",
   "metadata": {
    "execution": {
     "iopub.execute_input": "2025-02-12T22:49:40.377094Z",
     "iopub.status.busy": "2025-02-12T22:49:40.376711Z",
     "iopub.status.idle": "2025-02-12T22:49:42.252444Z",
     "shell.execute_reply": "2025-02-12T22:49:42.251562Z"
    },
    "papermill": {
     "duration": 1.883004,
     "end_time": "2025-02-12T22:49:42.253574",
     "exception": false,
     "start_time": "2025-02-12T22:49:40.370570",
     "status": "completed"
    },
    "tags": []
   },
   "outputs": [],
   "source": [
    "category_to_samples_val = {}\n",
    "for sample in dataset_val:\n",
    "    category = LABEL_TO_CATEGORY[sample[\"label\"]]\n",
    "    if category not in category_to_samples_val:\n",
    "        category_to_samples_val[category] = []\n",
    "    category_to_samples_val[category].append(sample[\"content\"])"
   ]
  },
  {
   "cell_type": "code",
   "execution_count": 39,
   "id": "e2dd7af4",
   "metadata": {
    "execution": {
     "iopub.execute_input": "2025-02-12T22:49:42.267205Z",
     "iopub.status.busy": "2025-02-12T22:49:42.266986Z",
     "iopub.status.idle": "2025-02-12T22:49:42.300114Z",
     "shell.execute_reply": "2025-02-12T22:49:42.299445Z"
    },
    "papermill": {
     "duration": 0.040817,
     "end_time": "2025-02-12T22:49:42.301230",
     "exception": false,
     "start_time": "2025-02-12T22:49:42.260413",
     "status": "completed"
    },
    "tags": []
   },
   "outputs": [],
   "source": [
    "category_negatives_val = {\n",
    "    category: [desc for cat, descriptions in category_to_samples_val.items() if cat != category for desc in descriptions]\n",
    "    for category in LABEL_TO_CATEGORY.values()\n",
    "}"
   ]
  },
  {
   "cell_type": "code",
   "execution_count": 40,
   "id": "02273b0d",
   "metadata": {
    "execution": {
     "iopub.execute_input": "2025-02-12T22:49:42.314658Z",
     "iopub.status.busy": "2025-02-12T22:49:42.314507Z",
     "iopub.status.idle": "2025-02-12T22:49:42.325481Z",
     "shell.execute_reply": "2025-02-12T22:49:42.325068Z"
    },
    "papermill": {
     "duration": 0.018296,
     "end_time": "2025-02-12T22:49:42.326222",
     "exception": false,
     "start_time": "2025-02-12T22:49:42.307926",
     "status": "completed"
    },
    "tags": []
   },
   "outputs": [],
   "source": [
    "def preprocess_val(example, num_negatives=5):\n",
    "    category = LABEL_TO_CATEGORY.get(example[\"label\"], None)\n",
    "    \n",
    "    if category is None or category not in category_negatives_val:\n",
    "        return None\n",
    "\n",
    "    query = f\"Tell me about {category.lower()}.\"\n",
    "    positive = example[\"content\"]\n",
    "\n",
    "    negatives = random.choices(category_negatives_val[category], k=num_negatives)\n",
    "\n",
    "    return {\n",
    "        \"query\": query,\n",
    "        \"positive\": positive,\n",
    "        \"negatives\": negatives\n",
    "    }"
   ]
  },
  {
   "cell_type": "code",
   "execution_count": 41,
   "id": "46911c3d",
   "metadata": {
    "execution": {
     "iopub.execute_input": "2025-02-12T22:49:42.339359Z",
     "iopub.status.busy": "2025-02-12T22:49:42.338735Z",
     "iopub.status.idle": "2025-02-12T22:49:44.303557Z",
     "shell.execute_reply": "2025-02-12T22:49:44.302941Z"
    },
    "papermill": {
     "duration": 1.972364,
     "end_time": "2025-02-12T22:49:44.304788",
     "exception": false,
     "start_time": "2025-02-12T22:49:42.332424",
     "status": "completed"
    },
    "tags": []
   },
   "outputs": [],
   "source": [
    "processed_data_val = dataset_val.map(preprocess_val, remove_columns=dataset_val.column_names)"
   ]
  },
  {
   "cell_type": "code",
   "execution_count": 42,
   "id": "169fe805",
   "metadata": {
    "execution": {
     "iopub.execute_input": "2025-02-12T22:49:44.319875Z",
     "iopub.status.busy": "2025-02-12T22:49:44.319701Z",
     "iopub.status.idle": "2025-02-12T22:49:44.346307Z",
     "shell.execute_reply": "2025-02-12T22:49:44.345614Z"
    },
    "papermill": {
     "duration": 0.034207,
     "end_time": "2025-02-12T22:49:44.347277",
     "exception": false,
     "start_time": "2025-02-12T22:49:44.313070",
     "status": "completed"
    },
    "tags": []
   },
   "outputs": [],
   "source": [
    "processed_data_val = processed_data_val.filter(lambda x: x['query'] is not None and x['positive'] is not None)"
   ]
  },
  {
   "cell_type": "code",
   "execution_count": 43,
   "id": "0dc6f5e4",
   "metadata": {
    "execution": {
     "iopub.execute_input": "2025-02-12T22:49:44.359876Z",
     "iopub.status.busy": "2025-02-12T22:49:44.359685Z",
     "iopub.status.idle": "2025-02-12T22:49:49.272262Z",
     "shell.execute_reply": "2025-02-12T22:49:49.271537Z"
    },
    "papermill": {
     "duration": 4.920011,
     "end_time": "2025-02-12T22:49:49.273465",
     "exception": false,
     "start_time": "2025-02-12T22:49:44.353454",
     "status": "completed"
    },
    "tags": []
   },
   "outputs": [],
   "source": [
    "contrastive_pairs_val = []\n",
    "for item in processed_data_val:\n",
    "    query = item[\"query\"]\n",
    "    positive = item[\"positive\"]\n",
    "    negatives = item[\"negatives\"]\n",
    "    contrastive_pairs_val.append({\n",
    "        \"anchor\": query,\n",
    "        \"positive\": positive,\n",
    "        \"negatives\": negatives\n",
    "    })"
   ]
  },
  {
   "cell_type": "code",
   "execution_count": 44,
   "id": "bc8096d3",
   "metadata": {
    "execution": {
     "iopub.execute_input": "2025-02-12T22:49:49.289124Z",
     "iopub.status.busy": "2025-02-12T22:49:49.288595Z",
     "iopub.status.idle": "2025-02-12T22:49:49.292428Z",
     "shell.execute_reply": "2025-02-12T22:49:49.291615Z"
    },
    "papermill": {
     "duration": 0.011565,
     "end_time": "2025-02-12T22:49:49.293299",
     "exception": false,
     "start_time": "2025-02-12T22:49:49.281734",
     "status": "completed"
    },
    "tags": []
   },
   "outputs": [],
   "source": [
    "contrastive_dataset_val = ContrastiveDataset(contrastive_pairs_val)"
   ]
  },
  {
   "cell_type": "code",
   "execution_count": 45,
   "id": "e4673ce1",
   "metadata": {
    "execution": {
     "iopub.execute_input": "2025-02-12T22:49:49.306212Z",
     "iopub.status.busy": "2025-02-12T22:49:49.305896Z",
     "iopub.status.idle": "2025-02-12T22:49:49.315139Z",
     "shell.execute_reply": "2025-02-12T22:49:49.314623Z"
    },
    "papermill": {
     "duration": 0.016711,
     "end_time": "2025-02-12T22:49:49.316014",
     "exception": false,
     "start_time": "2025-02-12T22:49:49.299303",
     "status": "completed"
    },
    "tags": []
   },
   "outputs": [],
   "source": [
    "data_loader_val = DataLoader(contrastive_dataset_val, batch_size=32, shuffle=True)"
   ]
  },
  {
   "cell_type": "code",
   "execution_count": 46,
   "id": "0d558ca3",
   "metadata": {
    "execution": {
     "iopub.execute_input": "2025-02-12T22:49:49.328230Z",
     "iopub.status.busy": "2025-02-12T22:49:49.327972Z",
     "iopub.status.idle": "2025-02-12T22:49:49.331556Z",
     "shell.execute_reply": "2025-02-12T22:49:49.331135Z"
    },
    "papermill": {
     "duration": 0.010325,
     "end_time": "2025-02-12T22:49:49.332177",
     "exception": false,
     "start_time": "2025-02-12T22:49:49.321852",
     "status": "completed"
    },
    "tags": []
   },
   "outputs": [
    {
     "data": {
      "text/plain": [
       "2188"
      ]
     },
     "execution_count": 46,
     "metadata": {},
     "output_type": "execute_result"
    }
   ],
   "source": [
    "len(data_loader_val)"
   ]
  },
  {
   "cell_type": "code",
   "execution_count": 47,
   "id": "b1a2ee84",
   "metadata": {
    "execution": {
     "iopub.execute_input": "2025-02-12T22:49:49.345298Z",
     "iopub.status.busy": "2025-02-12T22:49:49.344752Z",
     "iopub.status.idle": "2025-02-12T22:49:49.350294Z",
     "shell.execute_reply": "2025-02-12T22:49:49.349824Z"
    },
    "papermill": {
     "duration": 0.012695,
     "end_time": "2025-02-12T22:49:49.350947",
     "exception": false,
     "start_time": "2025-02-12T22:49:49.338252",
     "status": "completed"
    },
    "tags": []
   },
   "outputs": [],
   "source": [
    "def evaluate_mrr(model1, data_loader_val, distance_fn):\n",
    "    model1.eval()\n",
    "    \n",
    "    total_rr = 0.0\n",
    "    num_queries = 0\n",
    "\n",
    "    with torch.no_grad():\n",
    "        for batch in data_loader_val:\n",
    "            anchor_text = batch[0]\n",
    "            positive_text = batch[1]\n",
    "            negative_texts = batch[2]\n",
    "\n",
    "            anchor_input = tokenizer(anchor_text, return_tensors='pt', padding=True, truncation=True, max_length=512).to(device)\n",
    "            positive_input = tokenizer(positive_text, return_tensors='pt', padding=True, truncation=True, max_length=512).to(device)\n",
    "\n",
    "            anchor_embedding = expm_o(model1(**anchor_input).last_hidden_state[:, 0, :])\n",
    "            positive_embedding = expm_o(model1(**positive_input).last_hidden_state[:, 0, :])\n",
    "            negative_embedding = [expm_o(model1(**tokenizer(neg, return_tensors='pt', padding=True, truncation=True, max_length=512).to(device)).last_hidden_state[:, 0, :]) for neg in negative_texts]\n",
    "\n",
    "            pos_dist = distance_fn(anchor_embedding, positive_embedding)\n",
    "            neg_dist = torch.stack([distance_fn(anchor_embedding, neg) for neg in negative_embedding], dim=-1)\n",
    "            all_similarities=torch.cat([-pos_dist.unsqueeze(1), -neg_dist], dim=1)\n",
    "\n",
    "            sorted_similarities, sorted_indices = torch.sort(all_similarities, dim=1, descending=True)\n",
    "\n",
    "            # Find the rank of the first relevant (positive) document\n",
    "            positive_rank = (sorted_indices == 0).nonzero(as_tuple=True)[1] + 1  # +1 to make rank 1-based\n",
    "            total_rr += torch.sum(1.0 / positive_rank.float()).item()  # Reciprocal rank\n",
    "            num_queries += len(positive_rank)\n",
    "            \n",
    "    mrr = total_rr / num_queries\n",
    "    return mrr"
   ]
  },
  {
   "cell_type": "code",
   "execution_count": 48,
   "id": "77934da0",
   "metadata": {
    "execution": {
     "iopub.execute_input": "2025-02-12T22:49:49.363997Z",
     "iopub.status.busy": "2025-02-12T22:49:49.363447Z",
     "iopub.status.idle": "2025-02-12T22:49:49.366313Z",
     "shell.execute_reply": "2025-02-12T22:49:49.365710Z"
    },
    "papermill": {
     "duration": 0.00991,
     "end_time": "2025-02-12T22:49:49.367028",
     "exception": false,
     "start_time": "2025-02-12T22:49:49.357118",
     "status": "completed"
    },
    "tags": []
   },
   "outputs": [],
   "source": [
    "import os\n",
    "save_dir =\"/dss/dsshome1/07/ra65bex2/srawat/wiki/0.9hyperbolic\""
   ]
  },
  {
   "cell_type": "code",
   "execution_count": 49,
   "id": "a699a492",
   "metadata": {
    "execution": {
     "iopub.execute_input": "2025-02-12T22:49:49.379993Z",
     "iopub.status.busy": "2025-02-12T22:49:49.379604Z",
     "iopub.status.idle": "2025-02-12T22:49:49.382439Z",
     "shell.execute_reply": "2025-02-12T22:49:49.381850Z"
    },
    "papermill": {
     "duration": 0.009909,
     "end_time": "2025-02-12T22:49:49.383097",
     "exception": false,
     "start_time": "2025-02-12T22:49:49.373188",
     "status": "completed"
    },
    "tags": []
   },
   "outputs": [],
   "source": [
    "import time\n",
    "epoch_metrics = []"
   ]
  },
  {
   "cell_type": "code",
   "execution_count": 50,
   "id": "1b21ef59",
   "metadata": {
    "execution": {
     "iopub.execute_input": "2025-02-12T22:49:49.396354Z",
     "iopub.status.busy": "2025-02-12T22:49:49.395876Z",
     "iopub.status.idle": "2025-02-13T07:57:40.030607Z",
     "shell.execute_reply": "2025-02-13T07:57:40.029915Z"
    },
    "papermill": {
     "duration": 32870.650329,
     "end_time": "2025-02-13T07:57:40.039628",
     "exception": false,
     "start_time": "2025-02-12T22:49:49.389299",
     "status": "completed"
    },
    "tags": []
   },
   "outputs": [
    {
     "name": "stdout",
     "output_type": "stream",
     "text": [
      "EPOCH 1:\n",
      "Checkpoint saved: /dss/dsshome1/07/ra65bex2/srawat/wiki/0.9hyperbolic\n",
      "Epoch 1/3, Loss: 2.809568583038875\n",
      "Epoch 1/3, Contrastive Loss: 1.793848713370732\n",
      "Epoch 1/3, Entailment Loss: 1.1285776617595127\n"
     ]
    },
    {
     "name": "stdout",
     "output_type": "stream",
     "text": [
      "Mean Reciprocal Rank (MRR) for validation set: 0.4095\n",
      "Epoch 1 took 182.8394 minutes.\n",
      "\n",
      "\n"
     ]
    },
    {
     "name": "stdout",
     "output_type": "stream",
     "text": [
      "EPOCH 2:\n",
      "Checkpoint saved: /dss/dsshome1/07/ra65bex2/srawat/wiki/0.9hyperbolic\n",
      "Epoch 2/3, Loss: 2.706905942739759\n",
      "Epoch 2/3, Contrastive Loss: 1.7922534875256675\n",
      "Epoch 2/3, Entailment Loss: 1.0162805326359612\n"
     ]
    },
    {
     "name": "stdout",
     "output_type": "stream",
     "text": [
      "Mean Reciprocal Rank (MRR) for validation set: 0.4103\n",
      "Epoch 2 took 182.5146 minutes.\n",
      "\n",
      "\n"
     ]
    },
    {
     "name": "stdout",
     "output_type": "stream",
     "text": [
      "EPOCH 3:\n",
      "Checkpoint saved: /dss/dsshome1/07/ra65bex2/srawat/wiki/0.9hyperbolic\n",
      "Epoch 3/3, Loss: 2.6946769202096124\n",
      "Epoch 3/3, Contrastive Loss: 1.7922036134651729\n",
      "Epoch 3/3, Entailment Loss: 1.0027481436048236\n"
     ]
    },
    {
     "name": "stdout",
     "output_type": "stream",
     "text": [
      "Mean Reciprocal Rank (MRR) for validation set: 0.4093\n",
      "Epoch 3 took 182.4898 minutes.\n",
      "\n",
      "\n"
     ]
    }
   ],
   "source": [
    "for epoch in range(num_epochs):\n",
    "    start_time = time.time()\n",
    "    lora_model.train()\n",
    "\n",
    "    total_loss = 0.0\n",
    "    entailment_loss_total=0.0\n",
    "    contrastive_loss_total=0.0\n",
    "    for batch in data_loader_train:\n",
    "\n",
    "        anchor_texts = batch[0]\n",
    "        positive_texts = batch[1]\n",
    "        negative_texts = batch[2]\n",
    "\n",
    "        anchor_inputs = tokenizer(anchor_texts, return_tensors='pt', padding=True, truncation=True, max_length=512).to(device)\n",
    "        positive_inputs = tokenizer(positive_texts, return_tensors='pt', padding=True, truncation=True, max_length=512).to(device)\n",
    "    \n",
    "        anchor_embedding = expm_o(lora_model(**anchor_inputs).last_hidden_state[:, 0, :])\n",
    "        positive_embedding = expm_o(lora_model(**positive_inputs).last_hidden_state[:, 0, :])\n",
    "        negative_embedding = [expm_o(lora_model(**tokenizer(neg, return_tensors='pt', padding=True, truncation=True, max_length=512).to(device)).last_hidden_state[:, 0, :]) for neg in negative_texts]\n",
    "\n",
    "        contrastive_loss_value = info_nce_loss(anchor_embedding, positive_embedding, negative_embedding, distance_fn=lorentzian_distance)\n",
    "        \n",
    "        entailment_loss_value = entailment_loss(anchor_embedding, positive_embedding)\n",
    "        \n",
    "        loss = contrastive_loss_value + 0.9*entailment_loss_value\n",
    "  \n",
    "        optimizer.zero_grad()\n",
    "        loss.backward()\n",
    "        optimizer.step()\n",
    "        \n",
    "        total_loss += loss.item()\n",
    "        entailment_loss_total+=entailment_loss_value.item()\n",
    "        contrastive_loss_total+=contrastive_loss_value.item()\n",
    "    save_path1 = os.path.join(save_dir, f\"hyperbolic_lora_checkpoint_epoch_{epoch+1}.pth\")\n",
    "    torch.save(lora_model, save_path1)\n",
    "    print(f\"EPOCH {epoch+1}:\")\n",
    "    print(f\"Checkpoint saved: {save_dir}\")\n",
    "    print(f\"Epoch {epoch+1}/{num_epochs}, Loss: {total_loss / len(data_loader_train)}\")\n",
    "    print(f\"Epoch {epoch+1}/{num_epochs}, Contrastive Loss: {contrastive_loss_total / len(data_loader_train)}\")\n",
    "    print(f\"Epoch {epoch+1}/{num_epochs}, Entailment Loss: {entailment_loss_total / len(data_loader_train)}\")\n",
    "    mrr_validation = evaluate_mrr(model1=lora_model, data_loader_val=data_loader_val,distance_fn=lorentzian_distance)\n",
    "    #mrr_train = evaluate_mrr(lora_model, data_loader_train, lorentzian_distance)\n",
    "    #print(f\"Mean Reciprocal Rank (MRR) for training set: {mrr_train:.4f}\")\n",
    "    print(f\"Mean Reciprocal Rank (MRR) for validation set: {mrr_validation:.4f}\")\n",
    "    end_time = time.time()\n",
    "    print(f\"Epoch {epoch+1} took {(end_time - start_time) / 60:.4f} minutes.\")\n",
    "    print(f\"\\n\")\n",
    "    epoch_metrics.append({\n",
    "        'epoch': epoch + 1,\n",
    "        'training_loss': total_loss / len(data_loader_train),\n",
    "        'Contrastive_loss': contrastive_loss_total / len(data_loader_train),\n",
    "        'Entailment_loss': entailment_loss_total / len(data_loader_train),\n",
    "        'mrr_validation': mrr_validation,\n",
    "        'time_taken_minutes': (end_time - start_time) / 60\n",
    "    })"
   ]
  },
  {
   "cell_type": "code",
   "execution_count": 51,
   "id": "4f9f1df4",
   "metadata": {
    "execution": {
     "iopub.execute_input": "2025-02-13T07:57:40.055789Z",
     "iopub.status.busy": "2025-02-13T07:57:40.055341Z",
     "iopub.status.idle": "2025-02-13T07:57:40.059586Z",
     "shell.execute_reply": "2025-02-13T07:57:40.059217Z"
    },
    "papermill": {
     "duration": 0.012015,
     "end_time": "2025-02-13T07:57:40.060187",
     "exception": false,
     "start_time": "2025-02-13T07:57:40.048172",
     "status": "completed"
    },
    "tags": []
   },
   "outputs": [],
   "source": [
    "import json\n",
    "with open(save_dir + '/hyperbolic_epoch_metrics.json', 'w') as f:\n",
    "    json.dump(epoch_metrics, f)"
   ]
  },
  {
   "cell_type": "code",
   "execution_count": null,
   "id": "4ac37cd2",
   "metadata": {
    "papermill": {
     "duration": 0.006162,
     "end_time": "2025-02-13T07:57:40.072764",
     "exception": false,
     "start_time": "2025-02-13T07:57:40.066602",
     "status": "completed"
    },
    "tags": []
   },
   "outputs": [],
   "source": []
  }
 ],
 "metadata": {
  "kernelspec": {
   "display_name": "Python (myenv)",
   "language": "python",
   "name": "myenv"
  },
  "language_info": {
   "codemirror_mode": {
    "name": "ipython",
    "version": 3
   },
   "file_extension": ".py",
   "mimetype": "text/x-python",
   "name": "python",
   "nbconvert_exporter": "python",
   "pygments_lexer": "ipython3",
   "version": "3.12.7"
  },
  "papermill": {
   "default_parameters": {},
   "duration": 32984.966297,
   "end_time": "2025-02-13T07:57:43.198294",
   "environment_variables": {},
   "exception": null,
   "input_path": "0.9hyperbolic.ipynb",
   "output_path": "0.9hyperbolic_output.ipynb",
   "parameters": {},
   "start_time": "2025-02-12T22:47:58.231997",
   "version": "2.6.0"
  }
 },
 "nbformat": 4,
 "nbformat_minor": 5
}