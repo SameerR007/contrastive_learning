{
 "cells": [
  {
   "cell_type": "code",
   "execution_count": 1,
   "id": "f17de9f7",
   "metadata": {
    "execution": {
     "iopub.execute_input": "2025-02-12T22:14:58.360337Z",
     "iopub.status.busy": "2025-02-12T22:14:58.360113Z",
     "iopub.status.idle": "2025-02-12T22:15:01.484414Z",
     "shell.execute_reply": "2025-02-12T22:15:01.483926Z"
    },
    "papermill": {
     "duration": 3.133471,
     "end_time": "2025-02-12T22:15:01.485430",
     "exception": false,
     "start_time": "2025-02-12T22:14:58.351959",
     "status": "completed"
    },
    "tags": []
   },
   "outputs": [],
   "source": [
    "from datasets import load_dataset\n",
    "import random\n",
    "import json"
   ]
  },
  {
   "cell_type": "code",
   "execution_count": 2,
   "id": "5cc6ec41",
   "metadata": {
    "execution": {
     "iopub.execute_input": "2025-02-12T22:15:01.501740Z",
     "iopub.status.busy": "2025-02-12T22:15:01.501131Z",
     "iopub.status.idle": "2025-02-12T22:15:08.250983Z",
     "shell.execute_reply": "2025-02-12T22:15:08.250565Z"
    },
    "papermill": {
     "duration": 6.756343,
     "end_time": "2025-02-12T22:15:08.251650",
     "exception": false,
     "start_time": "2025-02-12T22:15:01.495307",
     "status": "completed"
    },
    "tags": []
   },
   "outputs": [
    {
     "data": {
      "text/plain": [
       "DatasetDict({\n",
       "    train: Dataset({\n",
       "        features: ['label', 'title', 'content'],\n",
       "        num_rows: 560000\n",
       "    })\n",
       "    test: Dataset({\n",
       "        features: ['label', 'title', 'content'],\n",
       "        num_rows: 70000\n",
       "    })\n",
       "})"
      ]
     },
     "execution_count": 2,
     "metadata": {},
     "output_type": "execute_result"
    }
   ],
   "source": [
    "load_dataset(\"dbpedia_14\")"
   ]
  },
  {
   "cell_type": "code",
   "execution_count": 3,
   "id": "b791de0f",
   "metadata": {
    "execution": {
     "iopub.execute_input": "2025-02-12T22:15:08.266569Z",
     "iopub.status.busy": "2025-02-12T22:15:08.266144Z",
     "iopub.status.idle": "2025-02-12T22:15:12.485782Z",
     "shell.execute_reply": "2025-02-12T22:15:12.485174Z"
    },
    "papermill": {
     "duration": 4.225252,
     "end_time": "2025-02-12T22:15:12.486427",
     "exception": false,
     "start_time": "2025-02-12T22:15:08.261175",
     "status": "completed"
    },
    "tags": []
   },
   "outputs": [
    {
     "data": {
      "text/plain": [
       "Dataset({\n",
       "    features: ['label', 'title', 'content'],\n",
       "    num_rows: 560000\n",
       "})"
      ]
     },
     "execution_count": 3,
     "metadata": {},
     "output_type": "execute_result"
    }
   ],
   "source": [
    "dataset_train = load_dataset(\"dbpedia_14\", split=\"train\")\n",
    "dataset_train"
   ]
  },
  {
   "cell_type": "code",
   "execution_count": 4,
   "id": "28478c2d",
   "metadata": {
    "execution": {
     "iopub.execute_input": "2025-02-12T22:15:12.501101Z",
     "iopub.status.busy": "2025-02-12T22:15:12.500961Z",
     "iopub.status.idle": "2025-02-12T22:15:12.522518Z",
     "shell.execute_reply": "2025-02-12T22:15:12.522154Z"
    },
    "papermill": {
     "duration": 0.02747,
     "end_time": "2025-02-12T22:15:12.523072",
     "exception": false,
     "start_time": "2025-02-12T22:15:12.495602",
     "status": "completed"
    },
    "tags": []
   },
   "outputs": [
    {
     "data": {
      "text/plain": [
       "{'label': 0,\n",
       " 'title': 'E. D. Abbott Ltd',\n",
       " 'content': ' Abbott of Farnham E D Abbott Limited was a British coachbuilding business based in Farnham Surrey trading under that name from 1929. A major part of their output was under sub-contract to motor vehicle manufacturers. Their business closed in 1972.'}"
      ]
     },
     "execution_count": 4,
     "metadata": {},
     "output_type": "execute_result"
    }
   ],
   "source": [
    "dataset_train[0]"
   ]
  },
  {
   "cell_type": "code",
   "execution_count": 5,
   "id": "91820884",
   "metadata": {
    "execution": {
     "iopub.execute_input": "2025-02-12T22:15:12.533101Z",
     "iopub.status.busy": "2025-02-12T22:15:12.532703Z",
     "iopub.status.idle": "2025-02-12T22:15:12.535821Z",
     "shell.execute_reply": "2025-02-12T22:15:12.535305Z"
    },
    "papermill": {
     "duration": 0.008606,
     "end_time": "2025-02-12T22:15:12.536410",
     "exception": false,
     "start_time": "2025-02-12T22:15:12.527804",
     "status": "completed"
    },
    "tags": []
   },
   "outputs": [],
   "source": [
    "LABEL_TO_CATEGORY = {\n",
    "    0: \"Company\",\n",
    "    1: \"Educational Institution\",\n",
    "    2: \"Artist\",\n",
    "    3: \"Athlete\",\n",
    "    4: \"Office Holder\",\n",
    "    5: \"Mean Of Transportation\",\n",
    "    6: \"Building\",\n",
    "    7: \"Natural Place\",\n",
    "    8: \"Village\",\n",
    "    9: \"Animal\",\n",
    "    10: \"Plant\",\n",
    "    11: \"Album\",\n",
    "    12: \"Film\",\n",
    "    13: \"Written Work\"\n",
    "}"
   ]
  },
  {
   "cell_type": "code",
   "execution_count": 6,
   "id": "15b5b120",
   "metadata": {
    "execution": {
     "iopub.execute_input": "2025-02-12T22:15:12.546632Z",
     "iopub.status.busy": "2025-02-12T22:15:12.546259Z",
     "iopub.status.idle": "2025-02-12T22:15:26.817649Z",
     "shell.execute_reply": "2025-02-12T22:15:26.816083Z"
    },
    "papermill": {
     "duration": 14.277327,
     "end_time": "2025-02-12T22:15:26.818723",
     "exception": false,
     "start_time": "2025-02-12T22:15:12.541396",
     "status": "completed"
    },
    "tags": []
   },
   "outputs": [],
   "source": [
    "category_to_samples = {}\n",
    "for sample in dataset_train:\n",
    "    category = LABEL_TO_CATEGORY[sample[\"label\"]]\n",
    "    if category not in category_to_samples:\n",
    "        category_to_samples[category] = []\n",
    "    category_to_samples[category].append(sample[\"content\"])"
   ]
  },
  {
   "cell_type": "code",
   "execution_count": 7,
   "id": "fa2c2fc6",
   "metadata": {
    "execution": {
     "iopub.execute_input": "2025-02-12T22:15:26.834075Z",
     "iopub.status.busy": "2025-02-12T22:15:26.833630Z",
     "iopub.status.idle": "2025-02-12T22:15:27.269373Z",
     "shell.execute_reply": "2025-02-12T22:15:27.268867Z"
    },
    "papermill": {
     "duration": 0.442466,
     "end_time": "2025-02-12T22:15:27.270224",
     "exception": false,
     "start_time": "2025-02-12T22:15:26.827758",
     "status": "completed"
    },
    "tags": []
   },
   "outputs": [],
   "source": [
    "category_negatives = {\n",
    "    category: [desc for cat, descriptions in category_to_samples.items() if cat != category for desc in descriptions]\n",
    "    for category in LABEL_TO_CATEGORY.values()\n",
    "}"
   ]
  },
  {
   "cell_type": "code",
   "execution_count": 8,
   "id": "a9779f00",
   "metadata": {
    "execution": {
     "iopub.execute_input": "2025-02-12T22:15:27.280829Z",
     "iopub.status.busy": "2025-02-12T22:15:27.280471Z",
     "iopub.status.idle": "2025-02-12T22:15:27.283756Z",
     "shell.execute_reply": "2025-02-12T22:15:27.283357Z"
    },
    "papermill": {
     "duration": 0.009055,
     "end_time": "2025-02-12T22:15:27.284391",
     "exception": false,
     "start_time": "2025-02-12T22:15:27.275336",
     "status": "completed"
    },
    "tags": []
   },
   "outputs": [],
   "source": [
    "def preprocess(example, num_negatives=5):\n",
    "    category = LABEL_TO_CATEGORY.get(example[\"label\"], None)\n",
    "    \n",
    "    if category is None or category not in category_negatives:\n",
    "        return None  \n",
    "\n",
    "    query = f\"Tell me about {category.lower()}.\"\n",
    "    positive = example[\"content\"]\n",
    "\n",
    "    negatives = random.choices(category_negatives[category], k=num_negatives)\n",
    "\n",
    "    return {\n",
    "        \"query\": query,\n",
    "        \"positive\": positive,\n",
    "        \"negatives\": negatives\n",
    "    }"
   ]
  },
  {
   "cell_type": "code",
   "execution_count": 9,
   "id": "7e236174",
   "metadata": {
    "execution": {
     "iopub.execute_input": "2025-02-12T22:15:27.294375Z",
     "iopub.status.busy": "2025-02-12T22:15:27.293913Z",
     "iopub.status.idle": "2025-02-12T22:15:41.333430Z",
     "shell.execute_reply": "2025-02-12T22:15:41.332620Z"
    },
    "papermill": {
     "duration": 14.045375,
     "end_time": "2025-02-12T22:15:41.334471",
     "exception": false,
     "start_time": "2025-02-12T22:15:27.289096",
     "status": "completed"
    },
    "tags": []
   },
   "outputs": [],
   "source": [
    "processed_data_train = dataset_train.map(preprocess, remove_columns=dataset_train.column_names)"
   ]
  },
  {
   "cell_type": "code",
   "execution_count": 10,
   "id": "34982b17",
   "metadata": {
    "execution": {
     "iopub.execute_input": "2025-02-12T22:15:41.349878Z",
     "iopub.status.busy": "2025-02-12T22:15:41.349486Z",
     "iopub.status.idle": "2025-02-12T22:15:41.373030Z",
     "shell.execute_reply": "2025-02-12T22:15:41.372582Z"
    },
    "papermill": {
     "duration": 0.030122,
     "end_time": "2025-02-12T22:15:41.373635",
     "exception": false,
     "start_time": "2025-02-12T22:15:41.343513",
     "status": "completed"
    },
    "tags": []
   },
   "outputs": [],
   "source": [
    "processed_data_train = processed_data_train.filter(lambda x: x['query'] is not None and x['positive'] is not None)"
   ]
  },
  {
   "cell_type": "code",
   "execution_count": 11,
   "id": "a6f4ff7c",
   "metadata": {
    "execution": {
     "iopub.execute_input": "2025-02-12T22:15:41.383424Z",
     "iopub.status.busy": "2025-02-12T22:15:41.383290Z",
     "iopub.status.idle": "2025-02-12T22:15:41.386191Z",
     "shell.execute_reply": "2025-02-12T22:15:41.385901Z"
    },
    "papermill": {
     "duration": 0.008439,
     "end_time": "2025-02-12T22:15:41.386772",
     "exception": false,
     "start_time": "2025-02-12T22:15:41.378333",
     "status": "completed"
    },
    "tags": []
   },
   "outputs": [
    {
     "data": {
      "text/plain": [
       "Dataset({\n",
       "    features: ['query', 'positive', 'negatives'],\n",
       "    num_rows: 560000\n",
       "})"
      ]
     },
     "execution_count": 11,
     "metadata": {},
     "output_type": "execute_result"
    }
   ],
   "source": [
    "processed_data_train"
   ]
  },
  {
   "cell_type": "code",
   "execution_count": 12,
   "id": "93591d41",
   "metadata": {
    "execution": {
     "iopub.execute_input": "2025-02-12T22:15:41.396943Z",
     "iopub.status.busy": "2025-02-12T22:15:41.396665Z",
     "iopub.status.idle": "2025-02-12T22:15:41.416478Z",
     "shell.execute_reply": "2025-02-12T22:15:41.416186Z"
    },
    "papermill": {
     "duration": 0.025554,
     "end_time": "2025-02-12T22:15:41.417049",
     "exception": false,
     "start_time": "2025-02-12T22:15:41.391495",
     "status": "completed"
    },
    "tags": []
   },
   "outputs": [
    {
     "data": {
      "text/plain": [
       "{'query': 'Tell me about company.',\n",
       " 'positive': ' Abbott of Farnham E D Abbott Limited was a British coachbuilding business based in Farnham Surrey trading under that name from 1929. A major part of their output was under sub-contract to motor vehicle manufacturers. Their business closed in 1972.',\n",
       " 'negatives': [' The Ford Model 15-P flying wing was the last aircraft developed by the Stout Metal Airplane Division of the Ford Motor Company. After several flights resulting in a crash the program was halted. Ford eventually re-entered the aviation market producing Consolidated B-24 Liberators under license from Consolidated Aircraft.',\n",
       "  ' Nellie Stockbridge (ca. 1868 – May 22 1965) was an early Idaho frontier mining district photographer. Her career spanned over 60 years. She was the oldest living member of the Zonta International club for advancement of women when she died in 1965.',\n",
       "  ' Shurikeh (Persian: شوريكه\\u200e also Romanized as Shūrīḵeh) is a village in Darbqazi Rural District in the Central District of Nishapur County Razavi Khorasan Province Iran. At the 2006 census its existence was noted but its population was not reported.',\n",
       "  \" Walker Valley High School (WVHS) is a public high school in the Bradley County Schools system located in the northern part of Bradley County Tennessee near Charleston Tennessee. The school serves about 1600 students in grades 9–12.The school's mascot is the mustang and its school colors are blue and gold. Walker Valley has been in existence since 2001. The current principal is Mr. Danny Coggin.\",\n",
       "  ' Into the Unknown is the fifth album by Mercyful Fate released by Metal Blade Records in 1996.Into the Unknown is the most commercially successful Mercyful Fate album to date. It peaked at #31 in the Finnish charts remaining for two weeks in the Top 40. It is the only album by the band to appear on the charts.']}"
      ]
     },
     "execution_count": 12,
     "metadata": {},
     "output_type": "execute_result"
    }
   ],
   "source": [
    "processed_data_train[0]"
   ]
  },
  {
   "cell_type": "code",
   "execution_count": 13,
   "id": "f846fdf1",
   "metadata": {
    "execution": {
     "iopub.execute_input": "2025-02-12T22:15:41.427180Z",
     "iopub.status.busy": "2025-02-12T22:15:41.427057Z",
     "iopub.status.idle": "2025-02-12T22:16:27.018912Z",
     "shell.execute_reply": "2025-02-12T22:16:27.018235Z"
    },
    "papermill": {
     "duration": 45.597727,
     "end_time": "2025-02-12T22:16:27.019752",
     "exception": false,
     "start_time": "2025-02-12T22:15:41.422025",
     "status": "completed"
    },
    "tags": []
   },
   "outputs": [],
   "source": [
    "contrastive_pairs_train = []\n",
    "for item in processed_data_train:\n",
    "    query = item[\"query\"]\n",
    "    positive = item[\"positive\"]\n",
    "    negatives = item[\"negatives\"]\n",
    "    contrastive_pairs_train.append({\n",
    "        \"anchor\": query,\n",
    "        \"positive\": positive,\n",
    "        \"negatives\": negatives\n",
    "    })"
   ]
  },
  {
   "cell_type": "code",
   "execution_count": 14,
   "id": "8c7ec402",
   "metadata": {
    "execution": {
     "iopub.execute_input": "2025-02-12T22:16:27.034905Z",
     "iopub.status.busy": "2025-02-12T22:16:27.034762Z",
     "iopub.status.idle": "2025-02-12T22:16:27.038006Z",
     "shell.execute_reply": "2025-02-12T22:16:27.037717Z"
    },
    "papermill": {
     "duration": 0.009367,
     "end_time": "2025-02-12T22:16:27.038549",
     "exception": false,
     "start_time": "2025-02-12T22:16:27.029182",
     "status": "completed"
    },
    "tags": []
   },
   "outputs": [
    {
     "data": {
      "text/plain": [
       "{'anchor': 'Tell me about film.',\n",
       " 'positive': ' Rojo Amanecer (Red Dawn) is a 1989 Silver Ariel Award-winning Mexican film directed by Jorge Fons. It is a film about the Tlatelolco Massacre in the section of Tlatelolco in Mexico City in the evening of October 2 1968. It focuses on the day of a middle-class Mexican family living in one of the apartment buildings surrounding the Plaza de Tlatelolco and is based on testimonials from witnesses and victims. It stars Héctor Bonilla María Rojo the Bichir Brothers Eduardo Palomo and others.',\n",
       " 'negatives': [' Karschiola is a genus of moths in the family Arctiidae. It contains the single species Karschiola holoclera which is found in Malawi Tanzania and Zimbabwe.',\n",
       "  ' Billie Fulford (21 August 1914 – 28 May 1987) was a New Zealand cricketer. She played in one Test match in 1948.',\n",
       "  ' Discovery or Discoverie was a small 20-ton 38 foot (12 m) long fly-boat of the British East India Company launched before 1602. The ship was one of three that participated in the voyage that led to the founding of Jamestown Virginia.',\n",
       "  ' Hemidoras stenopeltis is a species of thorny catfish found in the Amazon basin of Brazil Colombia and Peru. This species grows to a length of 12.5 centimetres (4.9 in) SL.',\n",
       "  ' Maxilua is a genus of moths of the Noctuidae family.']}"
      ]
     },
     "execution_count": 14,
     "metadata": {},
     "output_type": "execute_result"
    }
   ],
   "source": [
    "contrastive_pairs_train[500000]"
   ]
  },
  {
   "cell_type": "code",
   "execution_count": 15,
   "id": "3c3be938",
   "metadata": {
    "execution": {
     "iopub.execute_input": "2025-02-12T22:16:27.049111Z",
     "iopub.status.busy": "2025-02-12T22:16:27.048977Z",
     "iopub.status.idle": "2025-02-12T22:16:27.062792Z",
     "shell.execute_reply": "2025-02-12T22:16:27.062499Z"
    },
    "papermill": {
     "duration": 0.019579,
     "end_time": "2025-02-12T22:16:27.063366",
     "exception": false,
     "start_time": "2025-02-12T22:16:27.043787",
     "status": "completed"
    },
    "tags": []
   },
   "outputs": [
    {
     "data": {
      "text/plain": [
       "560000"
      ]
     },
     "execution_count": 15,
     "metadata": {},
     "output_type": "execute_result"
    }
   ],
   "source": [
    "len(contrastive_pairs_train)"
   ]
  },
  {
   "cell_type": "code",
   "execution_count": 16,
   "id": "87f1f262",
   "metadata": {
    "execution": {
     "iopub.execute_input": "2025-02-12T22:16:27.074299Z",
     "iopub.status.busy": "2025-02-12T22:16:27.074174Z",
     "iopub.status.idle": "2025-02-12T22:16:33.031481Z",
     "shell.execute_reply": "2025-02-12T22:16:33.030962Z"
    },
    "papermill": {
     "duration": 5.96344,
     "end_time": "2025-02-12T22:16:33.032214",
     "exception": false,
     "start_time": "2025-02-12T22:16:27.068774",
     "status": "completed"
    },
    "tags": []
   },
   "outputs": [],
   "source": [
    "from torch.utils.data import DataLoader"
   ]
  },
  {
   "cell_type": "code",
   "execution_count": 17,
   "id": "d2039b13",
   "metadata": {
    "execution": {
     "iopub.execute_input": "2025-02-12T22:16:33.045452Z",
     "iopub.status.busy": "2025-02-12T22:16:33.045308Z",
     "iopub.status.idle": "2025-02-12T22:16:33.048358Z",
     "shell.execute_reply": "2025-02-12T22:16:33.047902Z"
    },
    "papermill": {
     "duration": 0.009227,
     "end_time": "2025-02-12T22:16:33.048922",
     "exception": false,
     "start_time": "2025-02-12T22:16:33.039695",
     "status": "completed"
    },
    "tags": []
   },
   "outputs": [],
   "source": [
    "class ContrastiveDataset:\n",
    "    def __init__(self, pairs):\n",
    "        self.pairs = pairs\n",
    "\n",
    "    def __len__(self):\n",
    "        return len(self.pairs)\n",
    "\n",
    "    def __getitem__(self, idx):\n",
    "        item = self.pairs[idx]\n",
    "        return item[\"anchor\"], item[\"positive\"], item[\"negatives\"]"
   ]
  },
  {
   "cell_type": "code",
   "execution_count": 18,
   "id": "03ea2149",
   "metadata": {
    "execution": {
     "iopub.execute_input": "2025-02-12T22:16:33.059694Z",
     "iopub.status.busy": "2025-02-12T22:16:33.059323Z",
     "iopub.status.idle": "2025-02-12T22:16:33.075932Z",
     "shell.execute_reply": "2025-02-12T22:16:33.075557Z"
    },
    "papermill": {
     "duration": 0.022387,
     "end_time": "2025-02-12T22:16:33.076487",
     "exception": false,
     "start_time": "2025-02-12T22:16:33.054100",
     "status": "completed"
    },
    "tags": []
   },
   "outputs": [],
   "source": [
    "contrastive_dataset_train = ContrastiveDataset(contrastive_pairs_train)"
   ]
  },
  {
   "cell_type": "code",
   "execution_count": 19,
   "id": "a226a0ea",
   "metadata": {
    "execution": {
     "iopub.execute_input": "2025-02-12T22:16:33.087052Z",
     "iopub.status.busy": "2025-02-12T22:16:33.086922Z",
     "iopub.status.idle": "2025-02-12T22:16:33.089575Z",
     "shell.execute_reply": "2025-02-12T22:16:33.089103Z"
    },
    "papermill": {
     "duration": 0.008519,
     "end_time": "2025-02-12T22:16:33.090122",
     "exception": false,
     "start_time": "2025-02-12T22:16:33.081603",
     "status": "completed"
    },
    "tags": []
   },
   "outputs": [],
   "source": [
    "data_loader_train = DataLoader(contrastive_dataset_train, batch_size=32, shuffle=True)"
   ]
  },
  {
   "cell_type": "code",
   "execution_count": 20,
   "id": "553d14f1",
   "metadata": {
    "execution": {
     "iopub.execute_input": "2025-02-12T22:16:33.100852Z",
     "iopub.status.busy": "2025-02-12T22:16:33.100712Z",
     "iopub.status.idle": "2025-02-12T22:16:33.103536Z",
     "shell.execute_reply": "2025-02-12T22:16:33.103208Z"
    },
    "papermill": {
     "duration": 0.008723,
     "end_time": "2025-02-12T22:16:33.104091",
     "exception": false,
     "start_time": "2025-02-12T22:16:33.095368",
     "status": "completed"
    },
    "tags": []
   },
   "outputs": [
    {
     "data": {
      "text/plain": [
       "17500"
      ]
     },
     "execution_count": 20,
     "metadata": {},
     "output_type": "execute_result"
    }
   ],
   "source": [
    "len(data_loader_train)"
   ]
  },
  {
   "cell_type": "code",
   "execution_count": 21,
   "id": "068d6647",
   "metadata": {
    "execution": {
     "iopub.execute_input": "2025-02-12T22:16:33.114775Z",
     "iopub.status.busy": "2025-02-12T22:16:33.114649Z",
     "iopub.status.idle": "2025-02-12T22:16:37.400662Z",
     "shell.execute_reply": "2025-02-12T22:16:37.399996Z"
    },
    "papermill": {
     "duration": 4.292089,
     "end_time": "2025-02-12T22:16:37.401424",
     "exception": false,
     "start_time": "2025-02-12T22:16:33.109335",
     "status": "completed"
    },
    "tags": []
   },
   "outputs": [],
   "source": [
    "from transformers import AutoTokenizer, AutoModel\n",
    "tokenizer = AutoTokenizer.from_pretrained(\"bert-base-uncased\")"
   ]
  },
  {
   "cell_type": "code",
   "execution_count": 22,
   "id": "a96783df",
   "metadata": {
    "execution": {
     "iopub.execute_input": "2025-02-12T22:16:37.415224Z",
     "iopub.status.busy": "2025-02-12T22:16:37.414630Z",
     "iopub.status.idle": "2025-02-12T22:16:38.526041Z",
     "shell.execute_reply": "2025-02-12T22:16:38.525573Z"
    },
    "papermill": {
     "duration": 1.117865,
     "end_time": "2025-02-12T22:16:38.526644",
     "exception": false,
     "start_time": "2025-02-12T22:16:37.408779",
     "status": "completed"
    },
    "tags": []
   },
   "outputs": [],
   "source": [
    "model = AutoModel.from_pretrained(\"bert-base-uncased\")"
   ]
  },
  {
   "cell_type": "code",
   "execution_count": 23,
   "id": "e7e071ce",
   "metadata": {
    "execution": {
     "iopub.execute_input": "2025-02-12T22:16:38.537798Z",
     "iopub.status.busy": "2025-02-12T22:16:38.537650Z",
     "iopub.status.idle": "2025-02-12T22:16:38.820307Z",
     "shell.execute_reply": "2025-02-12T22:16:38.819841Z"
    },
    "papermill": {
     "duration": 0.288822,
     "end_time": "2025-02-12T22:16:38.820925",
     "exception": false,
     "start_time": "2025-02-12T22:16:38.532103",
     "status": "completed"
    },
    "tags": []
   },
   "outputs": [],
   "source": [
    "from peft import LoraConfig, get_peft_model"
   ]
  },
  {
   "cell_type": "code",
   "execution_count": 24,
   "id": "99bc135d",
   "metadata": {
    "execution": {
     "iopub.execute_input": "2025-02-12T22:16:38.832579Z",
     "iopub.status.busy": "2025-02-12T22:16:38.832158Z",
     "iopub.status.idle": "2025-02-12T22:16:38.834481Z",
     "shell.execute_reply": "2025-02-12T22:16:38.834137Z"
    },
    "papermill": {
     "duration": 0.008662,
     "end_time": "2025-02-12T22:16:38.835026",
     "exception": false,
     "start_time": "2025-02-12T22:16:38.826364",
     "status": "completed"
    },
    "tags": []
   },
   "outputs": [],
   "source": [
    "lora_config = LoraConfig(\n",
    "    task_type= \"FEATURE_EXTRACTION\"\n",
    ")"
   ]
  },
  {
   "cell_type": "code",
   "execution_count": 25,
   "id": "0e3636aa",
   "metadata": {
    "execution": {
     "iopub.execute_input": "2025-02-12T22:16:38.846105Z",
     "iopub.status.busy": "2025-02-12T22:16:38.845976Z",
     "iopub.status.idle": "2025-02-12T22:16:38.872099Z",
     "shell.execute_reply": "2025-02-12T22:16:38.871736Z"
    },
    "papermill": {
     "duration": 0.032219,
     "end_time": "2025-02-12T22:16:38.872718",
     "exception": false,
     "start_time": "2025-02-12T22:16:38.840499",
     "status": "completed"
    },
    "tags": []
   },
   "outputs": [],
   "source": [
    "lora_model = get_peft_model(model, lora_config)"
   ]
  },
  {
   "cell_type": "code",
   "execution_count": 26,
   "id": "ba349902",
   "metadata": {
    "execution": {
     "iopub.execute_input": "2025-02-12T22:16:38.884557Z",
     "iopub.status.busy": "2025-02-12T22:16:38.884093Z",
     "iopub.status.idle": "2025-02-12T22:16:38.886411Z",
     "shell.execute_reply": "2025-02-12T22:16:38.886072Z"
    },
    "papermill": {
     "duration": 0.008686,
     "end_time": "2025-02-12T22:16:38.886969",
     "exception": false,
     "start_time": "2025-02-12T22:16:38.878283",
     "status": "completed"
    },
    "tags": []
   },
   "outputs": [],
   "source": [
    "import torch"
   ]
  },
  {
   "cell_type": "code",
   "execution_count": 27,
   "id": "e3c8ecd8",
   "metadata": {
    "execution": {
     "iopub.execute_input": "2025-02-12T22:16:38.898176Z",
     "iopub.status.busy": "2025-02-12T22:16:38.897882Z",
     "iopub.status.idle": "2025-02-12T22:16:38.995394Z",
     "shell.execute_reply": "2025-02-12T22:16:38.995048Z"
    },
    "papermill": {
     "duration": 0.103918,
     "end_time": "2025-02-12T22:16:38.996348",
     "exception": false,
     "start_time": "2025-02-12T22:16:38.892430",
     "status": "completed"
    },
    "tags": []
   },
   "outputs": [],
   "source": [
    "def cosine_distance(x, y):\n",
    "    return 1 - torch.nn.functional.cosine_similarity(x, y, dim=-1)"
   ]
  },
  {
   "cell_type": "code",
   "execution_count": 28,
   "id": "ce7bfb48",
   "metadata": {
    "execution": {
     "iopub.execute_input": "2025-02-12T22:16:39.008147Z",
     "iopub.status.busy": "2025-02-12T22:16:39.007850Z",
     "iopub.status.idle": "2025-02-12T22:16:39.010989Z",
     "shell.execute_reply": "2025-02-12T22:16:39.010653Z"
    },
    "papermill": {
     "duration": 0.009476,
     "end_time": "2025-02-12T22:16:39.011543",
     "exception": false,
     "start_time": "2025-02-12T22:16:39.002067",
     "status": "completed"
    },
    "tags": []
   },
   "outputs": [],
   "source": [
    "def info_nce_loss(anchor_embedding, positive_embedding, negative_embedding, distance_fn):\n",
    "\n",
    "    pos_dist = distance_fn(anchor_embedding, positive_embedding)\n",
    "    neg_dist = torch.stack([distance_fn(anchor_embedding, neg) for neg in negative_embedding], dim=-1)\n",
    "    \n",
    "    logits = torch.cat([-pos_dist.unsqueeze(1), -neg_dist], dim=1)\n",
    "    labels = torch.zeros(logits.size(0), dtype=torch.long, device=logits.device)\n",
    "\n",
    "    loss = torch.nn.CrossEntropyLoss()(logits, labels)\n",
    "    return loss"
   ]
  },
  {
   "cell_type": "code",
   "execution_count": 29,
   "id": "f651f0d0",
   "metadata": {
    "execution": {
     "iopub.execute_input": "2025-02-12T22:16:39.022824Z",
     "iopub.status.busy": "2025-02-12T22:16:39.022516Z",
     "iopub.status.idle": "2025-02-12T22:16:39.025726Z",
     "shell.execute_reply": "2025-02-12T22:16:39.025373Z"
    },
    "papermill": {
     "duration": 0.00931,
     "end_time": "2025-02-12T22:16:39.026290",
     "exception": false,
     "start_time": "2025-02-12T22:16:39.016980",
     "status": "completed"
    },
    "tags": []
   },
   "outputs": [],
   "source": [
    "import torch.optim as optim\n",
    "optimizer = torch.optim.AdamW(lora_model.parameters(), lr=5e-5)"
   ]
  },
  {
   "cell_type": "code",
   "execution_count": 30,
   "id": "b56ea277",
   "metadata": {
    "execution": {
     "iopub.execute_input": "2025-02-12T22:16:39.037953Z",
     "iopub.status.busy": "2025-02-12T22:16:39.037676Z",
     "iopub.status.idle": "2025-02-12T22:16:39.039944Z",
     "shell.execute_reply": "2025-02-12T22:16:39.039592Z"
    },
    "papermill": {
     "duration": 0.008576,
     "end_time": "2025-02-12T22:16:39.040494",
     "exception": false,
     "start_time": "2025-02-12T22:16:39.031918",
     "status": "completed"
    },
    "tags": []
   },
   "outputs": [],
   "source": [
    "num_epochs=3"
   ]
  },
  {
   "cell_type": "code",
   "execution_count": 31,
   "id": "74b492d6",
   "metadata": {
    "execution": {
     "iopub.execute_input": "2025-02-12T22:16:39.052126Z",
     "iopub.status.busy": "2025-02-12T22:16:39.051831Z",
     "iopub.status.idle": "2025-02-12T22:16:39.511976Z",
     "shell.execute_reply": "2025-02-12T22:16:39.511471Z"
    },
    "papermill": {
     "duration": 0.46662,
     "end_time": "2025-02-12T22:16:39.512584",
     "exception": false,
     "start_time": "2025-02-12T22:16:39.045964",
     "status": "completed"
    },
    "tags": []
   },
   "outputs": [],
   "source": [
    "device = torch.device('cuda' if torch.cuda.is_available() else 'cpu')"
   ]
  },
  {
   "cell_type": "code",
   "execution_count": 32,
   "id": "449c3153",
   "metadata": {
    "execution": {
     "iopub.execute_input": "2025-02-12T22:16:39.524868Z",
     "iopub.status.busy": "2025-02-12T22:16:39.524450Z",
     "iopub.status.idle": "2025-02-12T22:16:39.527871Z",
     "shell.execute_reply": "2025-02-12T22:16:39.527538Z"
    },
    "papermill": {
     "duration": 0.010076,
     "end_time": "2025-02-12T22:16:39.528423",
     "exception": false,
     "start_time": "2025-02-12T22:16:39.518347",
     "status": "completed"
    },
    "tags": []
   },
   "outputs": [
    {
     "data": {
      "text/plain": [
       "device(type='cuda')"
      ]
     },
     "execution_count": 32,
     "metadata": {},
     "output_type": "execute_result"
    }
   ],
   "source": [
    "device"
   ]
  },
  {
   "cell_type": "code",
   "execution_count": 33,
   "id": "62da57d3",
   "metadata": {
    "execution": {
     "iopub.execute_input": "2025-02-12T22:16:39.540012Z",
     "iopub.status.busy": "2025-02-12T22:16:39.539708Z",
     "iopub.status.idle": "2025-02-12T22:16:39.542461Z",
     "shell.execute_reply": "2025-02-12T22:16:39.542118Z"
    },
    "papermill": {
     "duration": 0.009044,
     "end_time": "2025-02-12T22:16:39.543067",
     "exception": false,
     "start_time": "2025-02-12T22:16:39.534023",
     "status": "completed"
    },
    "tags": []
   },
   "outputs": [
    {
     "name": "stdout",
     "output_type": "stream",
     "text": [
      "2.5.1+cu124\n",
      "True\n"
     ]
    }
   ],
   "source": [
    "import torch\n",
    "print(torch.__version__)\n",
    "print(torch.cuda.is_available())"
   ]
  },
  {
   "cell_type": "code",
   "execution_count": 34,
   "id": "adf3e996",
   "metadata": {
    "execution": {
     "iopub.execute_input": "2025-02-12T22:16:39.554713Z",
     "iopub.status.busy": "2025-02-12T22:16:39.554586Z",
     "iopub.status.idle": "2025-02-12T22:16:39.557249Z",
     "shell.execute_reply": "2025-02-12T22:16:39.556919Z"
    },
    "papermill": {
     "duration": 0.008974,
     "end_time": "2025-02-12T22:16:39.557813",
     "exception": false,
     "start_time": "2025-02-12T22:16:39.548839",
     "status": "completed"
    },
    "tags": []
   },
   "outputs": [
    {
     "data": {
      "text/plain": [
       "True"
      ]
     },
     "execution_count": 34,
     "metadata": {},
     "output_type": "execute_result"
    }
   ],
   "source": [
    "torch.cuda.is_available()"
   ]
  },
  {
   "cell_type": "code",
   "execution_count": 35,
   "id": "e9483930",
   "metadata": {
    "execution": {
     "iopub.execute_input": "2025-02-12T22:16:39.598364Z",
     "iopub.status.busy": "2025-02-12T22:16:39.598239Z",
     "iopub.status.idle": "2025-02-12T22:16:40.922166Z",
     "shell.execute_reply": "2025-02-12T22:16:40.921415Z"
    },
    "papermill": {
     "duration": 1.359334,
     "end_time": "2025-02-12T22:16:40.922909",
     "exception": false,
     "start_time": "2025-02-12T22:16:39.563575",
     "status": "completed"
    },
    "tags": []
   },
   "outputs": [],
   "source": [
    "lora_model = lora_model.to(device)"
   ]
  },
  {
   "cell_type": "code",
   "execution_count": 36,
   "id": "f0cee37c",
   "metadata": {
    "execution": {
     "iopub.execute_input": "2025-02-12T22:16:40.936109Z",
     "iopub.status.busy": "2025-02-12T22:16:40.935563Z",
     "iopub.status.idle": "2025-02-12T22:16:43.924513Z",
     "shell.execute_reply": "2025-02-12T22:16:43.924132Z"
    },
    "papermill": {
     "duration": 2.995834,
     "end_time": "2025-02-12T22:16:43.925171",
     "exception": false,
     "start_time": "2025-02-12T22:16:40.929337",
     "status": "completed"
    },
    "tags": []
   },
   "outputs": [
    {
     "data": {
      "text/plain": [
       "Dataset({\n",
       "    features: ['label', 'title', 'content'],\n",
       "    num_rows: 70000\n",
       "})"
      ]
     },
     "execution_count": 36,
     "metadata": {},
     "output_type": "execute_result"
    }
   ],
   "source": [
    "dataset_val = load_dataset(\"dbpedia_14\", split=\"test\")\n",
    "dataset_val"
   ]
  },
  {
   "cell_type": "code",
   "execution_count": 37,
   "id": "e90699b4",
   "metadata": {
    "execution": {
     "iopub.execute_input": "2025-02-12T22:16:43.937658Z",
     "iopub.status.busy": "2025-02-12T22:16:43.937320Z",
     "iopub.status.idle": "2025-02-12T22:16:45.752416Z",
     "shell.execute_reply": "2025-02-12T22:16:45.751598Z"
    },
    "papermill": {
     "duration": 1.82187,
     "end_time": "2025-02-12T22:16:45.753178",
     "exception": false,
     "start_time": "2025-02-12T22:16:43.931308",
     "status": "completed"
    },
    "tags": []
   },
   "outputs": [],
   "source": [
    "category_to_samples_val = {}\n",
    "for sample in dataset_val:\n",
    "    category = LABEL_TO_CATEGORY[sample[\"label\"]]\n",
    "    if category not in category_to_samples_val:\n",
    "        category_to_samples_val[category] = []\n",
    "    category_to_samples_val[category].append(sample[\"content\"])"
   ]
  },
  {
   "cell_type": "code",
   "execution_count": 38,
   "id": "27e4906a",
   "metadata": {
    "execution": {
     "iopub.execute_input": "2025-02-12T22:16:45.766094Z",
     "iopub.status.busy": "2025-02-12T22:16:45.765685Z",
     "iopub.status.idle": "2025-02-12T22:16:45.790566Z",
     "shell.execute_reply": "2025-02-12T22:16:45.789983Z"
    },
    "papermill": {
     "duration": 0.031972,
     "end_time": "2025-02-12T22:16:45.791199",
     "exception": false,
     "start_time": "2025-02-12T22:16:45.759227",
     "status": "completed"
    },
    "tags": []
   },
   "outputs": [],
   "source": [
    "category_negatives_val = {\n",
    "    category: [desc for cat, descriptions in category_to_samples_val.items() if cat != category for desc in descriptions]\n",
    "    for category in LABEL_TO_CATEGORY.values()\n",
    "}"
   ]
  },
  {
   "cell_type": "code",
   "execution_count": 39,
   "id": "1cdabf6d",
   "metadata": {
    "execution": {
     "iopub.execute_input": "2025-02-12T22:16:45.803364Z",
     "iopub.status.busy": "2025-02-12T22:16:45.803223Z",
     "iopub.status.idle": "2025-02-12T22:16:45.806517Z",
     "shell.execute_reply": "2025-02-12T22:16:45.806148Z"
    },
    "papermill": {
     "duration": 0.010046,
     "end_time": "2025-02-12T22:16:45.807080",
     "exception": false,
     "start_time": "2025-02-12T22:16:45.797034",
     "status": "completed"
    },
    "tags": []
   },
   "outputs": [],
   "source": [
    "def preprocess_val(example, num_negatives=5):\n",
    "    category = LABEL_TO_CATEGORY.get(example[\"label\"], None)\n",
    "    \n",
    "    if category is None or category not in category_negatives_val:\n",
    "        return None\n",
    "\n",
    "    query = f\"Tell me about {category.lower()}.\"\n",
    "    positive = example[\"content\"]\n",
    "\n",
    "    negatives = random.choices(category_negatives_val[category], k=num_negatives)\n",
    "\n",
    "    return {\n",
    "        \"query\": query,\n",
    "        \"positive\": positive,\n",
    "        \"negatives\": negatives\n",
    "    }"
   ]
  },
  {
   "cell_type": "code",
   "execution_count": 40,
   "id": "04c14d29",
   "metadata": {
    "execution": {
     "iopub.execute_input": "2025-02-12T22:16:45.819307Z",
     "iopub.status.busy": "2025-02-12T22:16:45.818887Z",
     "iopub.status.idle": "2025-02-12T22:16:47.760178Z",
     "shell.execute_reply": "2025-02-12T22:16:47.759681Z"
    },
    "papermill": {
     "duration": 1.94828,
     "end_time": "2025-02-12T22:16:47.761168",
     "exception": false,
     "start_time": "2025-02-12T22:16:45.812888",
     "status": "completed"
    },
    "tags": []
   },
   "outputs": [],
   "source": [
    "processed_data_val = dataset_val.map(preprocess_val, remove_columns=dataset_val.column_names)"
   ]
  },
  {
   "cell_type": "code",
   "execution_count": 41,
   "id": "aade78d9",
   "metadata": {
    "execution": {
     "iopub.execute_input": "2025-02-12T22:16:47.774262Z",
     "iopub.status.busy": "2025-02-12T22:16:47.773726Z",
     "iopub.status.idle": "2025-02-12T22:16:47.795871Z",
     "shell.execute_reply": "2025-02-12T22:16:47.795541Z"
    },
    "papermill": {
     "duration": 0.029243,
     "end_time": "2025-02-12T22:16:47.796511",
     "exception": false,
     "start_time": "2025-02-12T22:16:47.767268",
     "status": "completed"
    },
    "tags": []
   },
   "outputs": [],
   "source": [
    "processed_data_val = processed_data_val.filter(lambda x: x['query'] is not None and x['positive'] is not None)"
   ]
  },
  {
   "cell_type": "code",
   "execution_count": 42,
   "id": "5a3ea9bf",
   "metadata": {
    "execution": {
     "iopub.execute_input": "2025-02-12T22:16:47.809102Z",
     "iopub.status.busy": "2025-02-12T22:16:47.808624Z",
     "iopub.status.idle": "2025-02-12T22:16:52.660238Z",
     "shell.execute_reply": "2025-02-12T22:16:52.659415Z"
    },
    "papermill": {
     "duration": 4.858709,
     "end_time": "2025-02-12T22:16:52.661060",
     "exception": false,
     "start_time": "2025-02-12T22:16:47.802351",
     "status": "completed"
    },
    "tags": []
   },
   "outputs": [],
   "source": [
    "contrastive_pairs_val = []\n",
    "for item in processed_data_val:\n",
    "    query = item[\"query\"]\n",
    "    positive = item[\"positive\"]\n",
    "    negatives = item[\"negatives\"]\n",
    "    contrastive_pairs_val.append({\n",
    "        \"anchor\": query,\n",
    "        \"positive\": positive,\n",
    "        \"negatives\": negatives\n",
    "    })"
   ]
  },
  {
   "cell_type": "code",
   "execution_count": 43,
   "id": "62b9da35",
   "metadata": {
    "execution": {
     "iopub.execute_input": "2025-02-12T22:16:52.676431Z",
     "iopub.status.busy": "2025-02-12T22:16:52.676257Z",
     "iopub.status.idle": "2025-02-12T22:16:52.679329Z",
     "shell.execute_reply": "2025-02-12T22:16:52.678994Z"
    },
    "papermill": {
     "duration": 0.01068,
     "end_time": "2025-02-12T22:16:52.679901",
     "exception": false,
     "start_time": "2025-02-12T22:16:52.669221",
     "status": "completed"
    },
    "tags": []
   },
   "outputs": [],
   "source": [
    "contrastive_dataset_val = ContrastiveDataset(contrastive_pairs_val)"
   ]
  },
  {
   "cell_type": "code",
   "execution_count": 44,
   "id": "4a958bba",
   "metadata": {
    "execution": {
     "iopub.execute_input": "2025-02-12T22:16:52.692406Z",
     "iopub.status.busy": "2025-02-12T22:16:52.692279Z",
     "iopub.status.idle": "2025-02-12T22:16:52.705829Z",
     "shell.execute_reply": "2025-02-12T22:16:52.705483Z"
    },
    "papermill": {
     "duration": 0.020531,
     "end_time": "2025-02-12T22:16:52.706387",
     "exception": false,
     "start_time": "2025-02-12T22:16:52.685856",
     "status": "completed"
    },
    "tags": []
   },
   "outputs": [],
   "source": [
    "data_loader_val = DataLoader(contrastive_dataset_val, batch_size=32, shuffle=True)"
   ]
  },
  {
   "cell_type": "code",
   "execution_count": 45,
   "id": "9054dd6b",
   "metadata": {
    "execution": {
     "iopub.execute_input": "2025-02-12T22:16:52.718869Z",
     "iopub.status.busy": "2025-02-12T22:16:52.718532Z",
     "iopub.status.idle": "2025-02-12T22:16:52.721585Z",
     "shell.execute_reply": "2025-02-12T22:16:52.721237Z"
    },
    "papermill": {
     "duration": 0.009856,
     "end_time": "2025-02-12T22:16:52.722170",
     "exception": false,
     "start_time": "2025-02-12T22:16:52.712314",
     "status": "completed"
    },
    "tags": []
   },
   "outputs": [
    {
     "data": {
      "text/plain": [
       "2188"
      ]
     },
     "execution_count": 45,
     "metadata": {},
     "output_type": "execute_result"
    }
   ],
   "source": [
    "len(data_loader_val)"
   ]
  },
  {
   "cell_type": "code",
   "execution_count": 46,
   "id": "2195505b",
   "metadata": {
    "execution": {
     "iopub.execute_input": "2025-02-12T22:16:52.734904Z",
     "iopub.status.busy": "2025-02-12T22:16:52.734432Z",
     "iopub.status.idle": "2025-02-12T22:16:52.739532Z",
     "shell.execute_reply": "2025-02-12T22:16:52.739053Z"
    },
    "papermill": {
     "duration": 0.011841,
     "end_time": "2025-02-12T22:16:52.740106",
     "exception": false,
     "start_time": "2025-02-12T22:16:52.728265",
     "status": "completed"
    },
    "tags": []
   },
   "outputs": [],
   "source": [
    "def evaluate_mrr(model, data_loader_val, distance_fn):\n",
    "    model.eval()\n",
    "\n",
    "    total_rr = 0.0\n",
    "    num_queries = 0\n",
    "\n",
    "    with torch.no_grad():\n",
    "        for batch in data_loader_val:\n",
    "            anchor_text = batch[0]\n",
    "            positive_text = batch[1]\n",
    "            negative_texts = batch[2]\n",
    "\n",
    "            anchor_input = tokenizer(anchor_text, return_tensors='pt', padding=True, truncation=True, max_length=512).to(device)\n",
    "            positive_input = tokenizer(positive_text, return_tensors='pt', padding=True, truncation=True, max_length=512).to(device)\n",
    "\n",
    "            anchor_embedding = model(**anchor_input).last_hidden_state[:, 0, :]\n",
    "            positive_embedding = model(**positive_input).last_hidden_state[:, 0, :]\n",
    "            negative_embedding = [model(**tokenizer(neg, return_tensors='pt', padding=True, truncation=True, max_length=512).to(device)).last_hidden_state[:, 0, :] for neg in negative_texts]\n",
    "\n",
    "            pos_dist = distance_fn(anchor_embedding, positive_embedding)\n",
    "            neg_dist = torch.stack([distance_fn(anchor_embedding, neg) for neg in negative_embedding], dim=-1)\n",
    "            all_similarities=torch.cat([-pos_dist.unsqueeze(1), -neg_dist], dim=1)\n",
    "\n",
    "            sorted_similarities, sorted_indices = torch.sort(all_similarities, dim=1, descending=True)\n",
    "\n",
    "            # Find the rank of the first relevant (positive) document\n",
    "            positive_rank = (sorted_indices == 0).nonzero(as_tuple=True)[1] + 1  # +1 to make rank 1-based\n",
    "            total_rr += torch.sum(1.0 / positive_rank.float()).item()  # Reciprocal rank\n",
    "            num_queries += len(positive_rank)\n",
    "\n",
    "    mrr = total_rr / num_queries\n",
    "    return mrr"
   ]
  },
  {
   "cell_type": "code",
   "execution_count": 47,
   "id": "35ae92cf",
   "metadata": {
    "execution": {
     "iopub.execute_input": "2025-02-12T22:16:52.753018Z",
     "iopub.status.busy": "2025-02-12T22:16:52.752637Z",
     "iopub.status.idle": "2025-02-12T22:16:52.754702Z",
     "shell.execute_reply": "2025-02-12T22:16:52.754362Z"
    },
    "papermill": {
     "duration": 0.009051,
     "end_time": "2025-02-12T22:16:52.755292",
     "exception": false,
     "start_time": "2025-02-12T22:16:52.746241",
     "status": "completed"
    },
    "tags": []
   },
   "outputs": [],
   "source": [
    "import os\n",
    "save_dir =\"/dss/dsshome1/07/ra65bex2/srawat/wiki/baseline\""
   ]
  },
  {
   "cell_type": "code",
   "execution_count": 48,
   "id": "6cade41e",
   "metadata": {
    "execution": {
     "iopub.execute_input": "2025-02-12T22:16:52.767951Z",
     "iopub.status.busy": "2025-02-12T22:16:52.767571Z",
     "iopub.status.idle": "2025-02-12T22:16:52.769675Z",
     "shell.execute_reply": "2025-02-12T22:16:52.769327Z"
    },
    "papermill": {
     "duration": 0.008904,
     "end_time": "2025-02-12T22:16:52.770282",
     "exception": false,
     "start_time": "2025-02-12T22:16:52.761378",
     "status": "completed"
    },
    "tags": []
   },
   "outputs": [],
   "source": [
    "import time\n",
    "epoch_metrics = []"
   ]
  },
  {
   "cell_type": "code",
   "execution_count": 49,
   "id": "8a00defa",
   "metadata": {
    "execution": {
     "iopub.execute_input": "2025-02-12T22:16:52.782955Z",
     "iopub.status.busy": "2025-02-12T22:16:52.782677Z",
     "iopub.status.idle": "2025-02-13T07:23:50.996288Z",
     "shell.execute_reply": "2025-02-13T07:23:50.995745Z"
    },
    "papermill": {
     "duration": 32818.229538,
     "end_time": "2025-02-13T07:23:51.005994",
     "exception": false,
     "start_time": "2025-02-12T22:16:52.776456",
     "status": "completed"
    },
    "tags": []
   },
   "outputs": [
    {
     "name": "stdout",
     "output_type": "stream",
     "text": [
      "EPOCH 1:\n",
      "Checkpoint saved: /dss/dsshome1/07/ra65bex2/srawat/wiki/baseline/checkpoint_epoch_1.pth\n",
      "Epoch 1/3, Training Loss: 1.0958657897336141\n"
     ]
    },
    {
     "name": "stdout",
     "output_type": "stream",
     "text": [
      "Mean Reciprocal Rank (MRR) for validation set: 0.9964\n",
      "Epoch 1 took 182.4085 minutes.\n",
      "\n",
      "\n"
     ]
    },
    {
     "name": "stdout",
     "output_type": "stream",
     "text": [
      "EPOCH 2:\n",
      "Checkpoint saved: /dss/dsshome1/07/ra65bex2/srawat/wiki/baseline/checkpoint_epoch_2.pth\n",
      "Epoch 2/3, Training Loss: 1.057112522983551\n"
     ]
    },
    {
     "name": "stdout",
     "output_type": "stream",
     "text": [
      "Mean Reciprocal Rank (MRR) for validation set: 0.9956\n",
      "Epoch 2 took 182.3499 minutes.\n",
      "\n",
      "\n"
     ]
    },
    {
     "name": "stdout",
     "output_type": "stream",
     "text": [
      "EPOCH 3:\n",
      "Checkpoint saved: /dss/dsshome1/07/ra65bex2/srawat/wiki/baseline/checkpoint_epoch_3.pth\n",
      "Epoch 3/3, Training Loss: 1.0531663056577956\n"
     ]
    },
    {
     "name": "stdout",
     "output_type": "stream",
     "text": [
      "Mean Reciprocal Rank (MRR) for validation set: 0.9937\n",
      "Epoch 3 took 182.2117 minutes.\n",
      "\n",
      "\n"
     ]
    }
   ],
   "source": [
    "for epoch in range(num_epochs):\n",
    "    start_time = time.time()\n",
    "    lora_model.train()\n",
    "    \n",
    "    total_loss = 0.0\n",
    "    for batch in data_loader_train:\n",
    "    \n",
    "        anchor_texts = batch[0]\n",
    "        positive_texts = batch[1]\n",
    "        negative_texts = batch[2]\n",
    "    \n",
    "        anchor_inputs = tokenizer(anchor_texts, return_tensors='pt', padding=True, truncation=True, max_length=512).to(device)\n",
    "        positive_inputs = tokenizer(positive_texts, return_tensors='pt', padding=True, truncation=True, max_length=512).to(device)\n",
    "\n",
    "    \n",
    "        anchor_embedding = lora_model(**anchor_inputs).last_hidden_state[:, 0, :]\n",
    "        positive_embedding = lora_model(**positive_inputs).last_hidden_state[:, 0, :]\n",
    "        negative_embedding = [lora_model(**tokenizer(neg, return_tensors='pt', padding=True, truncation=True, max_length=512).to(device)).last_hidden_state[:, 0, :] for neg in negative_texts]\n",
    "\n",
    "        loss = info_nce_loss(anchor_embedding, positive_embedding, negative_embedding, distance_fn=cosine_distance)\n",
    "        \n",
    "        optimizer.zero_grad()\n",
    "        loss.backward()\n",
    "        optimizer.step()\n",
    "        \n",
    "        total_loss += loss.item()\n",
    "    save_path = os.path.join(save_dir, f\"checkpoint_epoch_{epoch+1}.pth\")\n",
    "    torch.save(lora_model, save_path)\n",
    "    print(f\"EPOCH {epoch+1}:\")\n",
    "    print(f\"Checkpoint saved: {save_path}\")\n",
    "    print(f\"Epoch {epoch+1}/{num_epochs}, Training Loss: {total_loss / len(data_loader_train)}\")\n",
    "    mrr_validation = evaluate_mrr(lora_model, data_loader_val, cosine_distance)\n",
    "    #mrr_train = evaluate_mrr(lora_model, data_loader_train, cosine_distance)\n",
    "    #print(f\"Mean Reciprocal Rank (MRR) for training set: {mrr_train:.4f}\")\n",
    "    print(f\"Mean Reciprocal Rank (MRR) for validation set: {mrr_validation:.4f}\")\n",
    "    end_time = time.time()\n",
    "    print(f\"Epoch {epoch+1} took {(end_time - start_time) / 60:.4f} minutes.\")\n",
    "    print(f\"\\n\")\n",
    "    epoch_metrics.append({\n",
    "        'epoch': epoch + 1,\n",
    "        'training_loss': total_loss / len(data_loader_train),\n",
    "        'mrr_validation': mrr_validation,\n",
    "        'time_taken_minutes': (end_time - start_time) / 60\n",
    "    })"
   ]
  },
  {
   "cell_type": "code",
   "execution_count": 50,
   "id": "e591f976",
   "metadata": {
    "execution": {
     "iopub.execute_input": "2025-02-13T07:23:51.021465Z",
     "iopub.status.busy": "2025-02-13T07:23:51.021307Z",
     "iopub.status.idle": "2025-02-13T07:23:51.025041Z",
     "shell.execute_reply": "2025-02-13T07:23:51.024649Z"
    },
    "papermill": {
     "duration": 0.011659,
     "end_time": "2025-02-13T07:23:51.025780",
     "exception": false,
     "start_time": "2025-02-13T07:23:51.014121",
     "status": "completed"
    },
    "tags": []
   },
   "outputs": [],
   "source": [
    "import json"
   ]
  },
  {
   "cell_type": "code",
   "execution_count": 51,
   "id": "d8d1aaad",
   "metadata": {
    "execution": {
     "iopub.execute_input": "2025-02-13T07:23:51.038977Z",
     "iopub.status.busy": "2025-02-13T07:23:51.038851Z",
     "iopub.status.idle": "2025-02-13T07:23:51.122323Z",
     "shell.execute_reply": "2025-02-13T07:23:51.122038Z"
    },
    "papermill": {
     "duration": 0.090792,
     "end_time": "2025-02-13T07:23:51.123091",
     "exception": false,
     "start_time": "2025-02-13T07:23:51.032299",
     "status": "completed"
    },
    "tags": []
   },
   "outputs": [],
   "source": [
    "with open(save_dir + '/epoch_metrics.json', 'w') as f:\n",
    "    json.dump(epoch_metrics, f)"
   ]
  },
  {
   "cell_type": "code",
   "execution_count": null,
   "id": "d970d513",
   "metadata": {
    "papermill": {
     "duration": 0.006526,
     "end_time": "2025-02-13T07:23:51.136121",
     "exception": false,
     "start_time": "2025-02-13T07:23:51.129595",
     "status": "completed"
    },
    "tags": []
   },
   "outputs": [],
   "source": []
  }
 ],
 "metadata": {
  "kernelspec": {
   "display_name": "Python (myenv)",
   "language": "python",
   "name": "myenv"
  },
  "language_info": {
   "codemirror_mode": {
    "name": "ipython",
    "version": 3
   },
   "file_extension": ".py",
   "mimetype": "text/x-python",
   "name": "python",
   "nbconvert_exporter": "python",
   "pygments_lexer": "ipython3",
   "version": "3.12.7"
  },
  "papermill": {
   "default_parameters": {},
   "duration": 32939.252723,
   "end_time": "2025-02-13T07:23:54.412220",
   "environment_variables": {},
   "exception": null,
   "input_path": "baseline.ipynb",
   "output_path": "baseline_output.ipynb",
   "parameters": {},
   "start_time": "2025-02-12T22:14:55.159497",
   "version": "2.6.0"
  }
 },
 "nbformat": 4,
 "nbformat_minor": 5
}