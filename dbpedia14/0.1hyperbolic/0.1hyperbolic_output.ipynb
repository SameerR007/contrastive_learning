{
 "cells": [
  {
   "cell_type": "code",
   "execution_count": 1,
   "id": "6233db85",
   "metadata": {
    "execution": {
     "iopub.execute_input": "2025-02-12T22:48:00.342376Z",
     "iopub.status.busy": "2025-02-12T22:48:00.341967Z",
     "iopub.status.idle": "2025-02-12T22:48:04.307576Z",
     "shell.execute_reply": "2025-02-12T22:48:04.306894Z"
    },
    "papermill": {
     "duration": 3.975127,
     "end_time": "2025-02-12T22:48:04.308847",
     "exception": false,
     "start_time": "2025-02-12T22:48:00.333720",
     "status": "completed"
    },
    "tags": []
   },
   "outputs": [],
   "source": [
    "from datasets import load_dataset\n",
    "import random\n",
    "import json"
   ]
  },
  {
   "cell_type": "code",
   "execution_count": 2,
   "id": "ba181d66",
   "metadata": {
    "execution": {
     "iopub.execute_input": "2025-02-12T22:48:04.321139Z",
     "iopub.status.busy": "2025-02-12T22:48:04.320898Z",
     "iopub.status.idle": "2025-02-12T22:48:08.020517Z",
     "shell.execute_reply": "2025-02-12T22:48:08.020158Z"
    },
    "papermill": {
     "duration": 3.70688,
     "end_time": "2025-02-12T22:48:08.021361",
     "exception": false,
     "start_time": "2025-02-12T22:48:04.314481",
     "status": "completed"
    },
    "tags": []
   },
   "outputs": [
    {
     "data": {
      "text/plain": [
       "DatasetDict({\n",
       "    train: Dataset({\n",
       "        features: ['label', 'title', 'content'],\n",
       "        num_rows: 560000\n",
       "    })\n",
       "    test: Dataset({\n",
       "        features: ['label', 'title', 'content'],\n",
       "        num_rows: 70000\n",
       "    })\n",
       "})"
      ]
     },
     "execution_count": 2,
     "metadata": {},
     "output_type": "execute_result"
    }
   ],
   "source": [
    "load_dataset(\"dbpedia_14\")"
   ]
  },
  {
   "cell_type": "code",
   "execution_count": 3,
   "id": "4f4f8e8c",
   "metadata": {
    "execution": {
     "iopub.execute_input": "2025-02-12T22:48:08.034397Z",
     "iopub.status.busy": "2025-02-12T22:48:08.034067Z",
     "iopub.status.idle": "2025-02-12T22:48:10.224686Z",
     "shell.execute_reply": "2025-02-12T22:48:10.224246Z"
    },
    "papermill": {
     "duration": 2.196866,
     "end_time": "2025-02-12T22:48:10.225485",
     "exception": false,
     "start_time": "2025-02-12T22:48:08.028619",
     "status": "completed"
    },
    "tags": []
   },
   "outputs": [
    {
     "data": {
      "text/plain": [
       "Dataset({\n",
       "    features: ['label', 'title', 'content'],\n",
       "    num_rows: 560000\n",
       "})"
      ]
     },
     "execution_count": 3,
     "metadata": {},
     "output_type": "execute_result"
    }
   ],
   "source": [
    "dataset_train = load_dataset(\"dbpedia_14\", split=\"train\")\n",
    "dataset_train"
   ]
  },
  {
   "cell_type": "code",
   "execution_count": 4,
   "id": "f3b8e81a",
   "metadata": {
    "execution": {
     "iopub.execute_input": "2025-02-12T22:48:10.236651Z",
     "iopub.status.busy": "2025-02-12T22:48:10.236103Z",
     "iopub.status.idle": "2025-02-12T22:48:10.240271Z",
     "shell.execute_reply": "2025-02-12T22:48:10.239898Z"
    },
    "papermill": {
     "duration": 0.009944,
     "end_time": "2025-02-12T22:48:10.240980",
     "exception": false,
     "start_time": "2025-02-12T22:48:10.231036",
     "status": "completed"
    },
    "tags": []
   },
   "outputs": [
    {
     "data": {
      "text/plain": [
       "{'label': 0,\n",
       " 'title': 'E. D. Abbott Ltd',\n",
       " 'content': ' Abbott of Farnham E D Abbott Limited was a British coachbuilding business based in Farnham Surrey trading under that name from 1929. A major part of their output was under sub-contract to motor vehicle manufacturers. Their business closed in 1972.'}"
      ]
     },
     "execution_count": 4,
     "metadata": {},
     "output_type": "execute_result"
    }
   ],
   "source": [
    "dataset_train[0]"
   ]
  },
  {
   "cell_type": "code",
   "execution_count": 5,
   "id": "fef14e2c",
   "metadata": {
    "execution": {
     "iopub.execute_input": "2025-02-12T22:48:10.251200Z",
     "iopub.status.busy": "2025-02-12T22:48:10.251053Z",
     "iopub.status.idle": "2025-02-12T22:48:10.321063Z",
     "shell.execute_reply": "2025-02-12T22:48:10.320667Z"
    },
    "papermill": {
     "duration": 0.076165,
     "end_time": "2025-02-12T22:48:10.321842",
     "exception": false,
     "start_time": "2025-02-12T22:48:10.245677",
     "status": "completed"
    },
    "tags": []
   },
   "outputs": [],
   "source": [
    "LABEL_TO_CATEGORY = {\n",
    "    0: \"Company\",\n",
    "    1: \"Educational Institution\",\n",
    "    2: \"Artist\",\n",
    "    3: \"Athlete\",\n",
    "    4: \"Office Holder\",\n",
    "    5: \"Mean Of Transportation\",\n",
    "    6: \"Building\",\n",
    "    7: \"Natural Place\",\n",
    "    8: \"Village\",\n",
    "    9: \"Animal\",\n",
    "    10: \"Plant\",\n",
    "    11: \"Album\",\n",
    "    12: \"Film\",\n",
    "    13: \"Written Work\"\n",
    "}"
   ]
  },
  {
   "cell_type": "code",
   "execution_count": 6,
   "id": "fd74cd6c",
   "metadata": {
    "execution": {
     "iopub.execute_input": "2025-02-12T22:48:10.337688Z",
     "iopub.status.busy": "2025-02-12T22:48:10.337311Z",
     "iopub.status.idle": "2025-02-12T22:48:24.582552Z",
     "shell.execute_reply": "2025-02-12T22:48:24.581725Z"
    },
    "papermill": {
     "duration": 14.252328,
     "end_time": "2025-02-12T22:48:24.584144",
     "exception": false,
     "start_time": "2025-02-12T22:48:10.331816",
     "status": "completed"
    },
    "tags": []
   },
   "outputs": [],
   "source": [
    "category_to_samples = {}\n",
    "for sample in dataset_train:\n",
    "    category = LABEL_TO_CATEGORY[sample[\"label\"]]\n",
    "    if category not in category_to_samples:\n",
    "        category_to_samples[category] = []\n",
    "    category_to_samples[category].append(sample[\"content\"])"
   ]
  },
  {
   "cell_type": "code",
   "execution_count": 7,
   "id": "5115f9aa",
   "metadata": {
    "execution": {
     "iopub.execute_input": "2025-02-12T22:48:24.597628Z",
     "iopub.status.busy": "2025-02-12T22:48:24.597169Z",
     "iopub.status.idle": "2025-02-12T22:48:24.985117Z",
     "shell.execute_reply": "2025-02-12T22:48:24.984569Z"
    },
    "papermill": {
     "duration": 0.39497,
     "end_time": "2025-02-12T22:48:24.986637",
     "exception": false,
     "start_time": "2025-02-12T22:48:24.591667",
     "status": "completed"
    },
    "tags": []
   },
   "outputs": [],
   "source": [
    "category_negatives = {\n",
    "    category: [desc for cat, descriptions in category_to_samples.items() if cat != category for desc in descriptions]\n",
    "    for category in LABEL_TO_CATEGORY.values()\n",
    "}"
   ]
  },
  {
   "cell_type": "code",
   "execution_count": 8,
   "id": "dded561f",
   "metadata": {
    "execution": {
     "iopub.execute_input": "2025-02-12T22:48:24.998680Z",
     "iopub.status.busy": "2025-02-12T22:48:24.998515Z",
     "iopub.status.idle": "2025-02-12T22:48:25.002381Z",
     "shell.execute_reply": "2025-02-12T22:48:25.002007Z"
    },
    "papermill": {
     "duration": 0.010009,
     "end_time": "2025-02-12T22:48:25.003089",
     "exception": false,
     "start_time": "2025-02-12T22:48:24.993080",
     "status": "completed"
    },
    "tags": []
   },
   "outputs": [],
   "source": [
    "def preprocess(example, num_negatives=5):\n",
    "    category = LABEL_TO_CATEGORY.get(example[\"label\"], None)\n",
    "    \n",
    "    if category is None or category not in category_negatives:\n",
    "        return None  \n",
    "\n",
    "    query = f\"Tell me about {category.lower()}.\"\n",
    "    positive = example[\"content\"]\n",
    "\n",
    "    negatives = random.choices(category_negatives[category], k=num_negatives)\n",
    "\n",
    "    return {\n",
    "        \"query\": query,\n",
    "        \"positive\": positive,\n",
    "        \"negatives\": negatives\n",
    "    }"
   ]
  },
  {
   "cell_type": "code",
   "execution_count": 9,
   "id": "9805f060",
   "metadata": {
    "execution": {
     "iopub.execute_input": "2025-02-12T22:48:25.013642Z",
     "iopub.status.busy": "2025-02-12T22:48:25.013309Z",
     "iopub.status.idle": "2025-02-12T22:48:38.291199Z",
     "shell.execute_reply": "2025-02-12T22:48:38.290540Z"
    },
    "papermill": {
     "duration": 13.284194,
     "end_time": "2025-02-12T22:48:38.292346",
     "exception": false,
     "start_time": "2025-02-12T22:48:25.008152",
     "status": "completed"
    },
    "tags": []
   },
   "outputs": [],
   "source": [
    "processed_data_train = dataset_train.map(preprocess, remove_columns=dataset_train.column_names)"
   ]
  },
  {
   "cell_type": "code",
   "execution_count": 10,
   "id": "ad42ef1a",
   "metadata": {
    "execution": {
     "iopub.execute_input": "2025-02-12T22:48:38.307129Z",
     "iopub.status.busy": "2025-02-12T22:48:38.306896Z",
     "iopub.status.idle": "2025-02-12T22:48:38.317856Z",
     "shell.execute_reply": "2025-02-12T22:48:38.317097Z"
    },
    "papermill": {
     "duration": 0.018747,
     "end_time": "2025-02-12T22:48:38.318657",
     "exception": false,
     "start_time": "2025-02-12T22:48:38.299910",
     "status": "completed"
    },
    "tags": []
   },
   "outputs": [],
   "source": [
    "processed_data_train = processed_data_train.filter(lambda x: x['query'] is not None and x['positive'] is not None)"
   ]
  },
  {
   "cell_type": "code",
   "execution_count": 11,
   "id": "7e75654d",
   "metadata": {
    "execution": {
     "iopub.execute_input": "2025-02-12T22:48:38.329333Z",
     "iopub.status.busy": "2025-02-12T22:48:38.328972Z",
     "iopub.status.idle": "2025-02-12T22:48:38.343273Z",
     "shell.execute_reply": "2025-02-12T22:48:38.342798Z"
    },
    "papermill": {
     "duration": 0.020301,
     "end_time": "2025-02-12T22:48:38.344153",
     "exception": false,
     "start_time": "2025-02-12T22:48:38.323852",
     "status": "completed"
    },
    "tags": []
   },
   "outputs": [
    {
     "data": {
      "text/plain": [
       "Dataset({\n",
       "    features: ['query', 'positive', 'negatives'],\n",
       "    num_rows: 560000\n",
       "})"
      ]
     },
     "execution_count": 11,
     "metadata": {},
     "output_type": "execute_result"
    }
   ],
   "source": [
    "processed_data_train"
   ]
  },
  {
   "cell_type": "code",
   "execution_count": 12,
   "id": "40c46f6b",
   "metadata": {
    "execution": {
     "iopub.execute_input": "2025-02-12T22:48:38.355168Z",
     "iopub.status.busy": "2025-02-12T22:48:38.355014Z",
     "iopub.status.idle": "2025-02-12T22:48:38.360077Z",
     "shell.execute_reply": "2025-02-12T22:48:38.359675Z"
    },
    "papermill": {
     "duration": 0.012046,
     "end_time": "2025-02-12T22:48:38.361025",
     "exception": false,
     "start_time": "2025-02-12T22:48:38.348979",
     "status": "completed"
    },
    "tags": []
   },
   "outputs": [
    {
     "data": {
      "text/plain": [
       "{'query': 'Tell me about company.',\n",
       " 'positive': ' Abbott of Farnham E D Abbott Limited was a British coachbuilding business based in Farnham Surrey trading under that name from 1929. A major part of their output was under sub-contract to motor vehicle manufacturers. Their business closed in 1972.',\n",
       " 'negatives': [' The Ford Model 15-P flying wing was the last aircraft developed by the Stout Metal Airplane Division of the Ford Motor Company. After several flights resulting in a crash the program was halted. Ford eventually re-entered the aviation market producing Consolidated B-24 Liberators under license from Consolidated Aircraft.',\n",
       "  ' Nellie Stockbridge (ca. 1868 – May 22 1965) was an early Idaho frontier mining district photographer. Her career spanned over 60 years. She was the oldest living member of the Zonta International club for advancement of women when she died in 1965.',\n",
       "  ' Shurikeh (Persian: شوريكه\\u200e also Romanized as Shūrīḵeh) is a village in Darbqazi Rural District in the Central District of Nishapur County Razavi Khorasan Province Iran. At the 2006 census its existence was noted but its population was not reported.',\n",
       "  \" Walker Valley High School (WVHS) is a public high school in the Bradley County Schools system located in the northern part of Bradley County Tennessee near Charleston Tennessee. The school serves about 1600 students in grades 9–12.The school's mascot is the mustang and its school colors are blue and gold. Walker Valley has been in existence since 2001. The current principal is Mr. Danny Coggin.\",\n",
       "  ' Into the Unknown is the fifth album by Mercyful Fate released by Metal Blade Records in 1996.Into the Unknown is the most commercially successful Mercyful Fate album to date. It peaked at #31 in the Finnish charts remaining for two weeks in the Top 40. It is the only album by the band to appear on the charts.']}"
      ]
     },
     "execution_count": 12,
     "metadata": {},
     "output_type": "execute_result"
    }
   ],
   "source": [
    "processed_data_train[0]"
   ]
  },
  {
   "cell_type": "code",
   "execution_count": 13,
   "id": "660e8174",
   "metadata": {
    "execution": {
     "iopub.execute_input": "2025-02-12T22:48:38.371584Z",
     "iopub.status.busy": "2025-02-12T22:48:38.371450Z",
     "iopub.status.idle": "2025-02-12T22:49:18.550066Z",
     "shell.execute_reply": "2025-02-12T22:49:18.549336Z"
    },
    "papermill": {
     "duration": 40.185455,
     "end_time": "2025-02-12T22:49:18.551284",
     "exception": false,
     "start_time": "2025-02-12T22:48:38.365829",
     "status": "completed"
    },
    "tags": []
   },
   "outputs": [],
   "source": [
    "contrastive_pairs_train = []\n",
    "for item in processed_data_train:\n",
    "    query = item[\"query\"]\n",
    "    positive = item[\"positive\"]\n",
    "    negatives = item[\"negatives\"]\n",
    "    contrastive_pairs_train.append({\n",
    "        \"anchor\": query,\n",
    "        \"positive\": positive,\n",
    "        \"negatives\": negatives\n",
    "    })"
   ]
  },
  {
   "cell_type": "code",
   "execution_count": 14,
   "id": "eb8e7682",
   "metadata": {
    "execution": {
     "iopub.execute_input": "2025-02-12T22:49:18.565810Z",
     "iopub.status.busy": "2025-02-12T22:49:18.565642Z",
     "iopub.status.idle": "2025-02-12T22:49:18.571804Z",
     "shell.execute_reply": "2025-02-12T22:49:18.571501Z"
    },
    "papermill": {
     "duration": 0.013453,
     "end_time": "2025-02-12T22:49:18.572364",
     "exception": false,
     "start_time": "2025-02-12T22:49:18.558911",
     "status": "completed"
    },
    "tags": []
   },
   "outputs": [
    {
     "data": {
      "text/plain": [
       "{'anchor': 'Tell me about film.',\n",
       " 'positive': ' Rojo Amanecer (Red Dawn) is a 1989 Silver Ariel Award-winning Mexican film directed by Jorge Fons. It is a film about the Tlatelolco Massacre in the section of Tlatelolco in Mexico City in the evening of October 2 1968. It focuses on the day of a middle-class Mexican family living in one of the apartment buildings surrounding the Plaza de Tlatelolco and is based on testimonials from witnesses and victims. It stars Héctor Bonilla María Rojo the Bichir Brothers Eduardo Palomo and others.',\n",
       " 'negatives': [' Karschiola is a genus of moths in the family Arctiidae. It contains the single species Karschiola holoclera which is found in Malawi Tanzania and Zimbabwe.',\n",
       "  ' Billie Fulford (21 August 1914 – 28 May 1987) was a New Zealand cricketer. She played in one Test match in 1948.',\n",
       "  ' Discovery or Discoverie was a small 20-ton 38 foot (12 m) long fly-boat of the British East India Company launched before 1602. The ship was one of three that participated in the voyage that led to the founding of Jamestown Virginia.',\n",
       "  ' Hemidoras stenopeltis is a species of thorny catfish found in the Amazon basin of Brazil Colombia and Peru. This species grows to a length of 12.5 centimetres (4.9 in) SL.',\n",
       "  ' Maxilua is a genus of moths of the Noctuidae family.']}"
      ]
     },
     "execution_count": 14,
     "metadata": {},
     "output_type": "execute_result"
    }
   ],
   "source": [
    "contrastive_pairs_train[500000]"
   ]
  },
  {
   "cell_type": "code",
   "execution_count": 15,
   "id": "86f9f453",
   "metadata": {
    "execution": {
     "iopub.execute_input": "2025-02-12T22:49:18.583366Z",
     "iopub.status.busy": "2025-02-12T22:49:18.583229Z",
     "iopub.status.idle": "2025-02-12T22:49:18.598307Z",
     "shell.execute_reply": "2025-02-12T22:49:18.597933Z"
    },
    "papermill": {
     "duration": 0.021099,
     "end_time": "2025-02-12T22:49:18.598920",
     "exception": false,
     "start_time": "2025-02-12T22:49:18.577821",
     "status": "completed"
    },
    "tags": []
   },
   "outputs": [
    {
     "data": {
      "text/plain": [
       "560000"
      ]
     },
     "execution_count": 15,
     "metadata": {},
     "output_type": "execute_result"
    }
   ],
   "source": [
    "len(contrastive_pairs_train)"
   ]
  },
  {
   "cell_type": "code",
   "execution_count": 16,
   "id": "19792243",
   "metadata": {
    "execution": {
     "iopub.execute_input": "2025-02-12T22:49:18.610140Z",
     "iopub.status.busy": "2025-02-12T22:49:18.609875Z",
     "iopub.status.idle": "2025-02-12T22:49:25.401635Z",
     "shell.execute_reply": "2025-02-12T22:49:25.401109Z"
    },
    "papermill": {
     "duration": 6.798374,
     "end_time": "2025-02-12T22:49:25.402886",
     "exception": false,
     "start_time": "2025-02-12T22:49:18.604512",
     "status": "completed"
    },
    "tags": []
   },
   "outputs": [],
   "source": [
    "from torch.utils.data import DataLoader"
   ]
  },
  {
   "cell_type": "code",
   "execution_count": 17,
   "id": "2f706bc7",
   "metadata": {
    "execution": {
     "iopub.execute_input": "2025-02-12T22:49:25.417061Z",
     "iopub.status.busy": "2025-02-12T22:49:25.416909Z",
     "iopub.status.idle": "2025-02-12T22:49:25.420116Z",
     "shell.execute_reply": "2025-02-12T22:49:25.419700Z"
    },
    "papermill": {
     "duration": 0.009972,
     "end_time": "2025-02-12T22:49:25.420920",
     "exception": false,
     "start_time": "2025-02-12T22:49:25.410948",
     "status": "completed"
    },
    "tags": []
   },
   "outputs": [],
   "source": [
    "class ContrastiveDataset:\n",
    "    def __init__(self, pairs):\n",
    "        self.pairs = pairs\n",
    "\n",
    "    def __len__(self):\n",
    "        return len(self.pairs)\n",
    "\n",
    "    def __getitem__(self, idx):\n",
    "        item = self.pairs[idx]\n",
    "        return item[\"anchor\"], item[\"positive\"], item[\"negatives\"]"
   ]
  },
  {
   "cell_type": "code",
   "execution_count": 18,
   "id": "7cf7fd6e",
   "metadata": {
    "execution": {
     "iopub.execute_input": "2025-02-12T22:49:25.431953Z",
     "iopub.status.busy": "2025-02-12T22:49:25.431664Z",
     "iopub.status.idle": "2025-02-12T22:49:25.450296Z",
     "shell.execute_reply": "2025-02-12T22:49:25.449900Z"
    },
    "papermill": {
     "duration": 0.024844,
     "end_time": "2025-02-12T22:49:25.451083",
     "exception": false,
     "start_time": "2025-02-12T22:49:25.426239",
     "status": "completed"
    },
    "tags": []
   },
   "outputs": [],
   "source": [
    "contrastive_dataset_train = ContrastiveDataset(contrastive_pairs_train)"
   ]
  },
  {
   "cell_type": "code",
   "execution_count": 19,
   "id": "885aa964",
   "metadata": {
    "execution": {
     "iopub.execute_input": "2025-02-12T22:49:25.462346Z",
     "iopub.status.busy": "2025-02-12T22:49:25.461992Z",
     "iopub.status.idle": "2025-02-12T22:49:25.464592Z",
     "shell.execute_reply": "2025-02-12T22:49:25.464226Z"
    },
    "papermill": {
     "duration": 0.008902,
     "end_time": "2025-02-12T22:49:25.465241",
     "exception": false,
     "start_time": "2025-02-12T22:49:25.456339",
     "status": "completed"
    },
    "tags": []
   },
   "outputs": [],
   "source": [
    "data_loader_train = DataLoader(contrastive_dataset_train, batch_size=32, shuffle=True)"
   ]
  },
  {
   "cell_type": "code",
   "execution_count": 20,
   "id": "083396d5",
   "metadata": {
    "execution": {
     "iopub.execute_input": "2025-02-12T22:49:25.476438Z",
     "iopub.status.busy": "2025-02-12T22:49:25.476072Z",
     "iopub.status.idle": "2025-02-12T22:49:25.479158Z",
     "shell.execute_reply": "2025-02-12T22:49:25.478805Z"
    },
    "papermill": {
     "duration": 0.009347,
     "end_time": "2025-02-12T22:49:25.479819",
     "exception": false,
     "start_time": "2025-02-12T22:49:25.470472",
     "status": "completed"
    },
    "tags": []
   },
   "outputs": [
    {
     "data": {
      "text/plain": [
       "17500"
      ]
     },
     "execution_count": 20,
     "metadata": {},
     "output_type": "execute_result"
    }
   ],
   "source": [
    "len(data_loader_train)"
   ]
  },
  {
   "cell_type": "code",
   "execution_count": 21,
   "id": "703da009",
   "metadata": {
    "execution": {
     "iopub.execute_input": "2025-02-12T22:49:25.490783Z",
     "iopub.status.busy": "2025-02-12T22:49:25.490650Z",
     "iopub.status.idle": "2025-02-12T22:49:31.140893Z",
     "shell.execute_reply": "2025-02-12T22:49:31.140324Z"
    },
    "papermill": {
     "duration": 5.656956,
     "end_time": "2025-02-12T22:49:31.141946",
     "exception": false,
     "start_time": "2025-02-12T22:49:25.484990",
     "status": "completed"
    },
    "tags": []
   },
   "outputs": [],
   "source": [
    "from transformers import AutoTokenizer, AutoModel\n",
    "tokenizer = AutoTokenizer.from_pretrained(\"bert-base-uncased\")"
   ]
  },
  {
   "cell_type": "code",
   "execution_count": 22,
   "id": "ce860ae8",
   "metadata": {
    "execution": {
     "iopub.execute_input": "2025-02-12T22:49:31.156302Z",
     "iopub.status.busy": "2025-02-12T22:49:31.156051Z",
     "iopub.status.idle": "2025-02-12T22:49:32.225259Z",
     "shell.execute_reply": "2025-02-12T22:49:32.224851Z"
    },
    "papermill": {
     "duration": 1.076172,
     "end_time": "2025-02-12T22:49:32.226194",
     "exception": false,
     "start_time": "2025-02-12T22:49:31.150022",
     "status": "completed"
    },
    "tags": []
   },
   "outputs": [],
   "source": [
    "model = AutoModel.from_pretrained(\"bert-base-uncased\")"
   ]
  },
  {
   "cell_type": "code",
   "execution_count": 23,
   "id": "8e3794c7",
   "metadata": {
    "execution": {
     "iopub.execute_input": "2025-02-12T22:49:32.238671Z",
     "iopub.status.busy": "2025-02-12T22:49:32.238127Z",
     "iopub.status.idle": "2025-02-12T22:49:32.472019Z",
     "shell.execute_reply": "2025-02-12T22:49:32.471606Z"
    },
    "papermill": {
     "duration": 0.240567,
     "end_time": "2025-02-12T22:49:32.472957",
     "exception": false,
     "start_time": "2025-02-12T22:49:32.232390",
     "status": "completed"
    },
    "tags": []
   },
   "outputs": [],
   "source": [
    "from peft import LoraConfig, get_peft_model"
   ]
  },
  {
   "cell_type": "code",
   "execution_count": 24,
   "id": "e8d73dc3",
   "metadata": {
    "execution": {
     "iopub.execute_input": "2025-02-12T22:49:32.485256Z",
     "iopub.status.busy": "2025-02-12T22:49:32.484956Z",
     "iopub.status.idle": "2025-02-12T22:49:32.487414Z",
     "shell.execute_reply": "2025-02-12T22:49:32.487087Z"
    },
    "papermill": {
     "duration": 0.009101,
     "end_time": "2025-02-12T22:49:32.488035",
     "exception": false,
     "start_time": "2025-02-12T22:49:32.478934",
     "status": "completed"
    },
    "tags": []
   },
   "outputs": [],
   "source": [
    "lora_config = LoraConfig(\n",
    "    task_type= \"FEATURE_EXTRACTION\"\n",
    ")"
   ]
  },
  {
   "cell_type": "code",
   "execution_count": 25,
   "id": "35f7906f",
   "metadata": {
    "execution": {
     "iopub.execute_input": "2025-02-12T22:49:32.499436Z",
     "iopub.status.busy": "2025-02-12T22:49:32.499258Z",
     "iopub.status.idle": "2025-02-12T22:49:32.526693Z",
     "shell.execute_reply": "2025-02-12T22:49:32.526081Z"
    },
    "papermill": {
     "duration": 0.03396,
     "end_time": "2025-02-12T22:49:32.527504",
     "exception": false,
     "start_time": "2025-02-12T22:49:32.493544",
     "status": "completed"
    },
    "tags": []
   },
   "outputs": [],
   "source": [
    "lora_model = get_peft_model(model, lora_config)"
   ]
  },
  {
   "cell_type": "code",
   "execution_count": 26,
   "id": "31fe4af6",
   "metadata": {
    "execution": {
     "iopub.execute_input": "2025-02-12T22:49:32.539165Z",
     "iopub.status.busy": "2025-02-12T22:49:32.538865Z",
     "iopub.status.idle": "2025-02-12T22:49:32.541674Z",
     "shell.execute_reply": "2025-02-12T22:49:32.541287Z"
    },
    "papermill": {
     "duration": 0.009274,
     "end_time": "2025-02-12T22:49:32.542319",
     "exception": false,
     "start_time": "2025-02-12T22:49:32.533045",
     "status": "completed"
    },
    "tags": []
   },
   "outputs": [],
   "source": [
    "import torch"
   ]
  },
  {
   "cell_type": "code",
   "execution_count": 27,
   "id": "f92037b1",
   "metadata": {
    "execution": {
     "iopub.execute_input": "2025-02-12T22:49:32.553845Z",
     "iopub.status.busy": "2025-02-12T22:49:32.553477Z",
     "iopub.status.idle": "2025-02-12T22:49:32.556365Z",
     "shell.execute_reply": "2025-02-12T22:49:32.556049Z"
    },
    "papermill": {
     "duration": 0.00917,
     "end_time": "2025-02-12T22:49:32.556983",
     "exception": false,
     "start_time": "2025-02-12T22:49:32.547813",
     "status": "completed"
    },
    "tags": []
   },
   "outputs": [],
   "source": [
    "def lorentzian_distance(x, y):\n",
    "    \n",
    "    dot_product = torch.sum(x * y, dim=-1)\n",
    "    norm_x = torch.norm(x, dim=-1)\n",
    "    norm_y = torch.norm(y, dim=-1)\n",
    "    \n",
    "    distance = torch.acosh(-dot_product + torch.sqrt((1 + norm_x**2) * (1 + norm_y**2)))\n",
    "    return distance"
   ]
  },
  {
   "cell_type": "code",
   "execution_count": 28,
   "id": "e9b18464",
   "metadata": {
    "execution": {
     "iopub.execute_input": "2025-02-12T22:49:32.568537Z",
     "iopub.status.busy": "2025-02-12T22:49:32.568183Z",
     "iopub.status.idle": "2025-02-12T22:49:32.571260Z",
     "shell.execute_reply": "2025-02-12T22:49:32.570953Z"
    },
    "papermill": {
     "duration": 0.009428,
     "end_time": "2025-02-12T22:49:32.571858",
     "exception": false,
     "start_time": "2025-02-12T22:49:32.562430",
     "status": "completed"
    },
    "tags": []
   },
   "outputs": [],
   "source": [
    "def info_nce_loss(anchor_embedding, positive_embedding, negative_embedding, distance_fn):\n",
    "\n",
    "    pos_dist = distance_fn(anchor_embedding, positive_embedding)\n",
    "    neg_dist = torch.stack([distance_fn(anchor_embedding, neg) for neg in negative_embedding], dim=-1)\n",
    "    \n",
    "    logits = torch.cat([-pos_dist.unsqueeze(1), -neg_dist], dim=1)\n",
    "    labels = torch.zeros(logits.size(0), dtype=torch.long, device=logits.device)\n",
    "\n",
    "    loss = torch.nn.CrossEntropyLoss()(logits, labels)\n",
    "    return loss"
   ]
  },
  {
   "cell_type": "code",
   "execution_count": 29,
   "id": "2b896116",
   "metadata": {
    "execution": {
     "iopub.execute_input": "2025-02-12T22:49:32.583345Z",
     "iopub.status.busy": "2025-02-12T22:49:32.583067Z",
     "iopub.status.idle": "2025-02-12T22:49:32.586160Z",
     "shell.execute_reply": "2025-02-12T22:49:32.585848Z"
    },
    "papermill": {
     "duration": 0.009402,
     "end_time": "2025-02-12T22:49:32.586770",
     "exception": false,
     "start_time": "2025-02-12T22:49:32.577368",
     "status": "completed"
    },
    "tags": []
   },
   "outputs": [],
   "source": [
    "def exterior_angle(x_space, y_space, c):\n",
    "    norm_x_space = torch.norm(x_space, p=2, dim=-1)\n",
    "    norm_y_space = torch.norm(y_space, p=2, dim=-1)\n",
    "    x_time = torch.sqrt(1/c + norm_x_space**2)\n",
    "    y_time = torch.sqrt(1/c + norm_y_space**2)\n",
    "    dot_product = torch.sum(x_space * y_space, dim=-1)\n",
    "    lorentz_inner_product =  dot_product - x_time * y_time\n",
    "    numerator = y_time + x_time * c * lorentz_inner_product\n",
    "    denominator = norm_x_space * torch.sqrt((c * lorentz_inner_product)**2 - 1)\n",
    "    ext_angle = torch.acos(numerator / denominator)\n",
    "    return ext_angle"
   ]
  },
  {
   "cell_type": "code",
   "execution_count": 30,
   "id": "67ef3957",
   "metadata": {
    "execution": {
     "iopub.execute_input": "2025-02-12T22:49:32.598329Z",
     "iopub.status.busy": "2025-02-12T22:49:32.598063Z",
     "iopub.status.idle": "2025-02-12T22:49:32.600892Z",
     "shell.execute_reply": "2025-02-12T22:49:32.600541Z"
    },
    "papermill": {
     "duration": 0.009106,
     "end_time": "2025-02-12T22:49:32.601499",
     "exception": false,
     "start_time": "2025-02-12T22:49:32.592393",
     "status": "completed"
    },
    "tags": []
   },
   "outputs": [],
   "source": [
    "def entailment_loss(x, y, c=1, K=0.1):\n",
    "    c = torch.tensor(c)\n",
    "    K = torch.tensor(K)\n",
    "    xspace = x\n",
    "    yspace = y\n",
    "    aperture = torch.asin(2 * K / (torch.sqrt(c) * torch.norm(xspace, p=2, dim=-1)))\n",
    "    \n",
    "    ext_angle = exterior_angle(xspace,yspace,c=c)\n",
    "    \n",
    "    loss = torch.max(torch.zeros_like(ext_angle), ext_angle - aperture)\n",
    "    return loss.mean()"
   ]
  },
  {
   "cell_type": "code",
   "execution_count": 31,
   "id": "3fe87532",
   "metadata": {
    "execution": {
     "iopub.execute_input": "2025-02-12T22:49:32.612923Z",
     "iopub.status.busy": "2025-02-12T22:49:32.612778Z",
     "iopub.status.idle": "2025-02-12T22:49:32.615697Z",
     "shell.execute_reply": "2025-02-12T22:49:32.615360Z"
    },
    "papermill": {
     "duration": 0.009253,
     "end_time": "2025-02-12T22:49:32.616302",
     "exception": false,
     "start_time": "2025-02-12T22:49:32.607049",
     "status": "completed"
    },
    "tags": []
   },
   "outputs": [],
   "source": [
    "def expm_o(v, c=1.0):\n",
    "    c = torch.tensor(c)\n",
    "    vspace = v\n",
    "    vnorm = torch.norm(v, p=2, dim=-1, keepdim=True)\n",
    "    xspace = torch.sinh(torch.sqrt(c) * vnorm) * vspace / (torch.sqrt(c) * vnorm)\n",
    "    batch_min = xspace.min(dim=1, keepdim=True).values\n",
    "    batch_max = xspace.max(dim=1, keepdim=True).values\n",
    "    xspace_scaled=(xspace - batch_min) / (batch_max - batch_min)\n",
    "    return xspace_scaled"
   ]
  },
  {
   "cell_type": "code",
   "execution_count": 32,
   "id": "51ff9f6b",
   "metadata": {
    "execution": {
     "iopub.execute_input": "2025-02-12T22:49:32.628002Z",
     "iopub.status.busy": "2025-02-12T22:49:32.627835Z",
     "iopub.status.idle": "2025-02-12T22:49:32.630981Z",
     "shell.execute_reply": "2025-02-12T22:49:32.630665Z"
    },
    "papermill": {
     "duration": 0.009361,
     "end_time": "2025-02-12T22:49:32.631552",
     "exception": false,
     "start_time": "2025-02-12T22:49:32.622191",
     "status": "completed"
    },
    "tags": []
   },
   "outputs": [],
   "source": [
    "optimizer = torch.optim.AdamW(lora_model.parameters(), lr=5e-5)"
   ]
  },
  {
   "cell_type": "code",
   "execution_count": 33,
   "id": "ab54f6ab",
   "metadata": {
    "execution": {
     "iopub.execute_input": "2025-02-12T22:49:32.643050Z",
     "iopub.status.busy": "2025-02-12T22:49:32.642772Z",
     "iopub.status.idle": "2025-02-12T22:49:32.644879Z",
     "shell.execute_reply": "2025-02-12T22:49:32.644533Z"
    },
    "papermill": {
     "duration": 0.00844,
     "end_time": "2025-02-12T22:49:32.645502",
     "exception": false,
     "start_time": "2025-02-12T22:49:32.637062",
     "status": "completed"
    },
    "tags": []
   },
   "outputs": [],
   "source": [
    "num_epochs=3"
   ]
  },
  {
   "cell_type": "code",
   "execution_count": 34,
   "id": "5d92766c",
   "metadata": {
    "execution": {
     "iopub.execute_input": "2025-02-12T22:49:32.657402Z",
     "iopub.status.busy": "2025-02-12T22:49:32.657116Z",
     "iopub.status.idle": "2025-02-12T22:49:33.243224Z",
     "shell.execute_reply": "2025-02-12T22:49:33.242683Z"
    },
    "papermill": {
     "duration": 0.592904,
     "end_time": "2025-02-12T22:49:33.243882",
     "exception": false,
     "start_time": "2025-02-12T22:49:32.650978",
     "status": "completed"
    },
    "tags": []
   },
   "outputs": [],
   "source": [
    "device = torch.device('cuda' if torch.cuda.is_available() else 'cpu')"
   ]
  },
  {
   "cell_type": "code",
   "execution_count": 35,
   "id": "5504336b",
   "metadata": {
    "execution": {
     "iopub.execute_input": "2025-02-12T22:49:33.286408Z",
     "iopub.status.busy": "2025-02-12T22:49:33.285888Z",
     "iopub.status.idle": "2025-02-12T22:49:33.289559Z",
     "shell.execute_reply": "2025-02-12T22:49:33.289259Z"
    },
    "papermill": {
     "duration": 0.039958,
     "end_time": "2025-02-12T22:49:33.290211",
     "exception": false,
     "start_time": "2025-02-12T22:49:33.250253",
     "status": "completed"
    },
    "tags": []
   },
   "outputs": [
    {
     "data": {
      "text/plain": [
       "device(type='cuda')"
      ]
     },
     "execution_count": 35,
     "metadata": {},
     "output_type": "execute_result"
    }
   ],
   "source": [
    "device"
   ]
  },
  {
   "cell_type": "code",
   "execution_count": 36,
   "id": "f83a3ea4",
   "metadata": {
    "execution": {
     "iopub.execute_input": "2025-02-12T22:49:33.302350Z",
     "iopub.status.busy": "2025-02-12T22:49:33.301899Z",
     "iopub.status.idle": "2025-02-12T22:49:33.906603Z",
     "shell.execute_reply": "2025-02-12T22:49:33.906126Z"
    },
    "papermill": {
     "duration": 0.611464,
     "end_time": "2025-02-12T22:49:33.907513",
     "exception": false,
     "start_time": "2025-02-12T22:49:33.296049",
     "status": "completed"
    },
    "tags": []
   },
   "outputs": [],
   "source": [
    "lora_model = lora_model.to(device)"
   ]
  },
  {
   "cell_type": "code",
   "execution_count": 37,
   "id": "49e24497",
   "metadata": {
    "execution": {
     "iopub.execute_input": "2025-02-12T22:49:33.919970Z",
     "iopub.status.busy": "2025-02-12T22:49:33.919815Z",
     "iopub.status.idle": "2025-02-12T22:49:38.330365Z",
     "shell.execute_reply": "2025-02-12T22:49:38.330011Z"
    },
    "papermill": {
     "duration": 4.417223,
     "end_time": "2025-02-12T22:49:38.331067",
     "exception": false,
     "start_time": "2025-02-12T22:49:33.913844",
     "status": "completed"
    },
    "tags": []
   },
   "outputs": [
    {
     "data": {
      "text/plain": [
       "Dataset({\n",
       "    features: ['label', 'title', 'content'],\n",
       "    num_rows: 70000\n",
       "})"
      ]
     },
     "execution_count": 37,
     "metadata": {},
     "output_type": "execute_result"
    }
   ],
   "source": [
    "dataset_val = load_dataset(\"dbpedia_14\", split=\"test\")\n",
    "dataset_val"
   ]
  },
  {
   "cell_type": "code",
   "execution_count": 38,
   "id": "5ff5ab04",
   "metadata": {
    "execution": {
     "iopub.execute_input": "2025-02-12T22:49:38.343704Z",
     "iopub.status.busy": "2025-02-12T22:49:38.343565Z",
     "iopub.status.idle": "2025-02-12T22:49:40.155421Z",
     "shell.execute_reply": "2025-02-12T22:49:40.154666Z"
    },
    "papermill": {
     "duration": 1.819175,
     "end_time": "2025-02-12T22:49:40.156580",
     "exception": false,
     "start_time": "2025-02-12T22:49:38.337405",
     "status": "completed"
    },
    "tags": []
   },
   "outputs": [],
   "source": [
    "category_to_samples_val = {}\n",
    "for sample in dataset_val:\n",
    "    category = LABEL_TO_CATEGORY[sample[\"label\"]]\n",
    "    if category not in category_to_samples_val:\n",
    "        category_to_samples_val[category] = []\n",
    "    category_to_samples_val[category].append(sample[\"content\"])"
   ]
  },
  {
   "cell_type": "code",
   "execution_count": 39,
   "id": "47e84bf0",
   "metadata": {
    "execution": {
     "iopub.execute_input": "2025-02-12T22:49:40.171812Z",
     "iopub.status.busy": "2025-02-12T22:49:40.171389Z",
     "iopub.status.idle": "2025-02-12T22:49:40.198837Z",
     "shell.execute_reply": "2025-02-12T22:49:40.198392Z"
    },
    "papermill": {
     "duration": 0.035151,
     "end_time": "2025-02-12T22:49:40.199800",
     "exception": false,
     "start_time": "2025-02-12T22:49:40.164649",
     "status": "completed"
    },
    "tags": []
   },
   "outputs": [],
   "source": [
    "category_negatives_val = {\n",
    "    category: [desc for cat, descriptions in category_to_samples_val.items() if cat != category for desc in descriptions]\n",
    "    for category in LABEL_TO_CATEGORY.values()\n",
    "}"
   ]
  },
  {
   "cell_type": "code",
   "execution_count": 40,
   "id": "8555228c",
   "metadata": {
    "execution": {
     "iopub.execute_input": "2025-02-12T22:49:40.212245Z",
     "iopub.status.busy": "2025-02-12T22:49:40.211608Z",
     "iopub.status.idle": "2025-02-12T22:49:40.222820Z",
     "shell.execute_reply": "2025-02-12T22:49:40.222299Z"
    },
    "papermill": {
     "duration": 0.018532,
     "end_time": "2025-02-12T22:49:40.224120",
     "exception": false,
     "start_time": "2025-02-12T22:49:40.205588",
     "status": "completed"
    },
    "tags": []
   },
   "outputs": [],
   "source": [
    "def preprocess_val(example, num_negatives=5):\n",
    "    category = LABEL_TO_CATEGORY.get(example[\"label\"], None)\n",
    "    \n",
    "    if category is None or category not in category_negatives_val:\n",
    "        return None\n",
    "\n",
    "    query = f\"Tell me about {category.lower()}.\"\n",
    "    positive = example[\"content\"]\n",
    "\n",
    "    negatives = random.choices(category_negatives_val[category], k=num_negatives)\n",
    "\n",
    "    return {\n",
    "        \"query\": query,\n",
    "        \"positive\": positive,\n",
    "        \"negatives\": negatives\n",
    "    }"
   ]
  },
  {
   "cell_type": "code",
   "execution_count": 41,
   "id": "f981077e",
   "metadata": {
    "execution": {
     "iopub.execute_input": "2025-02-12T22:49:40.240550Z",
     "iopub.status.busy": "2025-02-12T22:49:40.239751Z",
     "iopub.status.idle": "2025-02-12T22:49:41.968197Z",
     "shell.execute_reply": "2025-02-12T22:49:41.967528Z"
    },
    "papermill": {
     "duration": 1.738115,
     "end_time": "2025-02-12T22:49:41.969188",
     "exception": false,
     "start_time": "2025-02-12T22:49:40.231073",
     "status": "completed"
    },
    "tags": []
   },
   "outputs": [],
   "source": [
    "processed_data_val = dataset_val.map(preprocess_val, remove_columns=dataset_val.column_names)"
   ]
  },
  {
   "cell_type": "code",
   "execution_count": 42,
   "id": "afeaa438",
   "metadata": {
    "execution": {
     "iopub.execute_input": "2025-02-12T22:49:41.983836Z",
     "iopub.status.busy": "2025-02-12T22:49:41.982252Z",
     "iopub.status.idle": "2025-02-12T22:49:41.989736Z",
     "shell.execute_reply": "2025-02-12T22:49:41.989415Z"
    },
    "papermill": {
     "duration": 0.014507,
     "end_time": "2025-02-12T22:49:41.990352",
     "exception": false,
     "start_time": "2025-02-12T22:49:41.975845",
     "status": "completed"
    },
    "tags": []
   },
   "outputs": [],
   "source": [
    "processed_data_val = processed_data_val.filter(lambda x: x['query'] is not None and x['positive'] is not None)"
   ]
  },
  {
   "cell_type": "code",
   "execution_count": 43,
   "id": "f13cd545",
   "metadata": {
    "execution": {
     "iopub.execute_input": "2025-02-12T22:49:42.003518Z",
     "iopub.status.busy": "2025-02-12T22:49:42.002923Z",
     "iopub.status.idle": "2025-02-12T22:49:46.486281Z",
     "shell.execute_reply": "2025-02-12T22:49:46.485547Z"
    },
    "papermill": {
     "duration": 4.491191,
     "end_time": "2025-02-12T22:49:46.487688",
     "exception": false,
     "start_time": "2025-02-12T22:49:41.996497",
     "status": "completed"
    },
    "tags": []
   },
   "outputs": [],
   "source": [
    "contrastive_pairs_val = []\n",
    "for item in processed_data_val:\n",
    "    query = item[\"query\"]\n",
    "    positive = item[\"positive\"]\n",
    "    negatives = item[\"negatives\"]\n",
    "    contrastive_pairs_val.append({\n",
    "        \"anchor\": query,\n",
    "        \"positive\": positive,\n",
    "        \"negatives\": negatives\n",
    "    })"
   ]
  },
  {
   "cell_type": "code",
   "execution_count": 44,
   "id": "399db39c",
   "metadata": {
    "execution": {
     "iopub.execute_input": "2025-02-12T22:49:46.504297Z",
     "iopub.status.busy": "2025-02-12T22:49:46.503730Z",
     "iopub.status.idle": "2025-02-12T22:49:46.506849Z",
     "shell.execute_reply": "2025-02-12T22:49:46.506537Z"
    },
    "papermill": {
     "duration": 0.010687,
     "end_time": "2025-02-12T22:49:46.507463",
     "exception": false,
     "start_time": "2025-02-12T22:49:46.496776",
     "status": "completed"
    },
    "tags": []
   },
   "outputs": [],
   "source": [
    "contrastive_dataset_val = ContrastiveDataset(contrastive_pairs_val)"
   ]
  },
  {
   "cell_type": "code",
   "execution_count": 45,
   "id": "e8de8d33",
   "metadata": {
    "execution": {
     "iopub.execute_input": "2025-02-12T22:49:46.519833Z",
     "iopub.status.busy": "2025-02-12T22:49:46.519638Z",
     "iopub.status.idle": "2025-02-12T22:49:46.558718Z",
     "shell.execute_reply": "2025-02-12T22:49:46.558325Z"
    },
    "papermill": {
     "duration": 0.046636,
     "end_time": "2025-02-12T22:49:46.560083",
     "exception": false,
     "start_time": "2025-02-12T22:49:46.513447",
     "status": "completed"
    },
    "tags": []
   },
   "outputs": [],
   "source": [
    "data_loader_val = DataLoader(contrastive_dataset_val, batch_size=32, shuffle=True)"
   ]
  },
  {
   "cell_type": "code",
   "execution_count": 46,
   "id": "c094a3ca",
   "metadata": {
    "execution": {
     "iopub.execute_input": "2025-02-12T22:49:46.573677Z",
     "iopub.status.busy": "2025-02-12T22:49:46.573406Z",
     "iopub.status.idle": "2025-02-12T22:49:46.576540Z",
     "shell.execute_reply": "2025-02-12T22:49:46.576240Z"
    },
    "papermill": {
     "duration": 0.010739,
     "end_time": "2025-02-12T22:49:46.577161",
     "exception": false,
     "start_time": "2025-02-12T22:49:46.566422",
     "status": "completed"
    },
    "tags": []
   },
   "outputs": [
    {
     "data": {
      "text/plain": [
       "2188"
      ]
     },
     "execution_count": 46,
     "metadata": {},
     "output_type": "execute_result"
    }
   ],
   "source": [
    "len(data_loader_val)"
   ]
  },
  {
   "cell_type": "code",
   "execution_count": 47,
   "id": "ed0076da",
   "metadata": {
    "execution": {
     "iopub.execute_input": "2025-02-12T22:49:46.589565Z",
     "iopub.status.busy": "2025-02-12T22:49:46.589403Z",
     "iopub.status.idle": "2025-02-12T22:49:46.594359Z",
     "shell.execute_reply": "2025-02-12T22:49:46.594042Z"
    },
    "papermill": {
     "duration": 0.01177,
     "end_time": "2025-02-12T22:49:46.594939",
     "exception": false,
     "start_time": "2025-02-12T22:49:46.583169",
     "status": "completed"
    },
    "tags": []
   },
   "outputs": [],
   "source": [
    "def evaluate_mrr(model1, data_loader_val, distance_fn):\n",
    "    model1.eval()\n",
    "    \n",
    "    total_rr = 0.0\n",
    "    num_queries = 0\n",
    "\n",
    "    with torch.no_grad():\n",
    "        for batch in data_loader_val:\n",
    "            anchor_text = batch[0]\n",
    "            positive_text = batch[1]\n",
    "            negative_texts = batch[2]\n",
    "\n",
    "            anchor_input = tokenizer(anchor_text, return_tensors='pt', padding=True, truncation=True, max_length=512).to(device)\n",
    "            positive_input = tokenizer(positive_text, return_tensors='pt', padding=True, truncation=True, max_length=512).to(device)\n",
    "\n",
    "            anchor_embedding = expm_o(model1(**anchor_input).last_hidden_state[:, 0, :])\n",
    "            positive_embedding = expm_o(model1(**positive_input).last_hidden_state[:, 0, :])\n",
    "            negative_embedding = [expm_o(model1(**tokenizer(neg, return_tensors='pt', padding=True, truncation=True, max_length=512).to(device)).last_hidden_state[:, 0, :]) for neg in negative_texts]\n",
    "\n",
    "            pos_dist = distance_fn(anchor_embedding, positive_embedding)\n",
    "            neg_dist = torch.stack([distance_fn(anchor_embedding, neg) for neg in negative_embedding], dim=-1)\n",
    "            all_similarities=torch.cat([-pos_dist.unsqueeze(1), -neg_dist], dim=1)\n",
    "\n",
    "            sorted_similarities, sorted_indices = torch.sort(all_similarities, dim=1, descending=True)\n",
    "\n",
    "            # Find the rank of the first relevant (positive) document\n",
    "            positive_rank = (sorted_indices == 0).nonzero(as_tuple=True)[1] + 1  # +1 to make rank 1-based\n",
    "            total_rr += torch.sum(1.0 / positive_rank.float()).item()  # Reciprocal rank\n",
    "            num_queries += len(positive_rank)\n",
    "            \n",
    "    mrr = total_rr / num_queries\n",
    "    return mrr"
   ]
  },
  {
   "cell_type": "code",
   "execution_count": 48,
   "id": "f40565fb",
   "metadata": {
    "execution": {
     "iopub.execute_input": "2025-02-12T22:49:46.607929Z",
     "iopub.status.busy": "2025-02-12T22:49:46.607292Z",
     "iopub.status.idle": "2025-02-12T22:49:46.609703Z",
     "shell.execute_reply": "2025-02-12T22:49:46.609365Z"
    },
    "papermill": {
     "duration": 0.009388,
     "end_time": "2025-02-12T22:49:46.610310",
     "exception": false,
     "start_time": "2025-02-12T22:49:46.600922",
     "status": "completed"
    },
    "tags": []
   },
   "outputs": [],
   "source": [
    "import os\n",
    "save_dir =\"/dss/dsshome1/07/ra65bex2/srawat/wiki/0.1hyperbolic\""
   ]
  },
  {
   "cell_type": "code",
   "execution_count": 49,
   "id": "a1276c22",
   "metadata": {
    "execution": {
     "iopub.execute_input": "2025-02-12T22:49:46.622841Z",
     "iopub.status.busy": "2025-02-12T22:49:46.622455Z",
     "iopub.status.idle": "2025-02-12T22:49:46.624581Z",
     "shell.execute_reply": "2025-02-12T22:49:46.624277Z"
    },
    "papermill": {
     "duration": 0.008941,
     "end_time": "2025-02-12T22:49:46.625173",
     "exception": false,
     "start_time": "2025-02-12T22:49:46.616232",
     "status": "completed"
    },
    "tags": []
   },
   "outputs": [],
   "source": [
    "import time\n",
    "epoch_metrics = []"
   ]
  },
  {
   "cell_type": "code",
   "execution_count": 50,
   "id": "7cb0bc09",
   "metadata": {
    "execution": {
     "iopub.execute_input": "2025-02-12T22:49:46.637473Z",
     "iopub.status.busy": "2025-02-12T22:49:46.637308Z",
     "iopub.status.idle": "2025-02-13T07:58:43.627065Z",
     "shell.execute_reply": "2025-02-13T07:58:43.626027Z"
    },
    "papermill": {
     "duration": 32937.006899,
     "end_time": "2025-02-13T07:58:43.638011",
     "exception": false,
     "start_time": "2025-02-12T22:49:46.631112",
     "status": "completed"
    },
    "tags": []
   },
   "outputs": [
    {
     "name": "stdout",
     "output_type": "stream",
     "text": [
      "EPOCH 1:\n",
      "Checkpoint saved: /dss/dsshome1/07/ra65bex2/srawat/wiki/0.1hyperbolic\n",
      "Epoch 1/3, Loss: 0.6994711348703929\n",
      "Epoch 1/3, Contrastive Loss: 0.47783132351636887\n",
      "Epoch 1/3, Entailment Loss: 2.2163980818339755\n"
     ]
    },
    {
     "name": "stdout",
     "output_type": "stream",
     "text": [
      "Mean Reciprocal Rank (MRR) for validation set: 0.9977\n",
      "Epoch 1 took 183.2153 minutes.\n",
      "\n",
      "\n"
     ]
    },
    {
     "name": "stdout",
     "output_type": "stream",
     "text": [
      "EPOCH 2:\n",
      "Checkpoint saved: /dss/dsshome1/07/ra65bex2/srawat/wiki/0.1hyperbolic\n",
      "Epoch 2/3, Loss: 0.5216460899574415\n",
      "Epoch 2/3, Contrastive Loss: 0.2997675705305168\n",
      "Epoch 2/3, Entailment Loss: 2.2187851621627805\n"
     ]
    },
    {
     "name": "stdout",
     "output_type": "stream",
     "text": [
      "Mean Reciprocal Rank (MRR) for validation set: 0.9978\n",
      "Epoch 2 took 182.8705 minutes.\n",
      "\n",
      "\n"
     ]
    },
    {
     "name": "stdout",
     "output_type": "stream",
     "text": [
      "EPOCH 3:\n",
      "Checkpoint saved: /dss/dsshome1/07/ra65bex2/srawat/wiki/0.1hyperbolic\n",
      "Epoch 3/3, Loss: 0.49189796753440584\n",
      "Epoch 3/3, Contrastive Loss: 0.2716789664387703\n",
      "Epoch 3/3, Entailment Loss: 2.2021899812834604\n"
     ]
    },
    {
     "name": "stdout",
     "output_type": "stream",
     "text": [
      "Mean Reciprocal Rank (MRR) for validation set: 0.9977\n",
      "Epoch 3 took 182.8639 minutes.\n",
      "\n",
      "\n"
     ]
    }
   ],
   "source": [
    "for epoch in range(num_epochs):\n",
    "    start_time = time.time()\n",
    "    lora_model.train()\n",
    "\n",
    "    total_loss = 0.0\n",
    "    entailment_loss_total=0.0\n",
    "    contrastive_loss_total=0.0\n",
    "    for batch in data_loader_train:\n",
    "\n",
    "        anchor_texts = batch[0]\n",
    "        positive_texts = batch[1]\n",
    "        negative_texts = batch[2]\n",
    "\n",
    "        anchor_inputs = tokenizer(anchor_texts, return_tensors='pt', padding=True, truncation=True, max_length=512).to(device)\n",
    "        positive_inputs = tokenizer(positive_texts, return_tensors='pt', padding=True, truncation=True, max_length=512).to(device)\n",
    "    \n",
    "        anchor_embedding = expm_o(lora_model(**anchor_inputs).last_hidden_state[:, 0, :])\n",
    "        positive_embedding = expm_o(lora_model(**positive_inputs).last_hidden_state[:, 0, :])\n",
    "        negative_embedding = [expm_o(lora_model(**tokenizer(neg, return_tensors='pt', padding=True, truncation=True, max_length=512).to(device)).last_hidden_state[:, 0, :]) for neg in negative_texts]\n",
    "\n",
    "        contrastive_loss_value = info_nce_loss(anchor_embedding, positive_embedding, negative_embedding, distance_fn=lorentzian_distance)\n",
    "        \n",
    "        entailment_loss_value = entailment_loss(anchor_embedding, positive_embedding)\n",
    "        \n",
    "        loss = contrastive_loss_value + 0.1*entailment_loss_value\n",
    "  \n",
    "        optimizer.zero_grad()\n",
    "        loss.backward()\n",
    "        optimizer.step()\n",
    "        \n",
    "        total_loss += loss.item()\n",
    "        entailment_loss_total+=entailment_loss_value.item()\n",
    "        contrastive_loss_total+=contrastive_loss_value.item()\n",
    "    save_path1 = os.path.join(save_dir, f\"hyperbolic_lora_checkpoint_epoch_{epoch+1}.pth\")\n",
    "    torch.save(lora_model, save_path1)\n",
    "    print(f\"EPOCH {epoch+1}:\")\n",
    "    print(f\"Checkpoint saved: {save_dir}\")\n",
    "    print(f\"Epoch {epoch+1}/{num_epochs}, Loss: {total_loss / len(data_loader_train)}\")\n",
    "    print(f\"Epoch {epoch+1}/{num_epochs}, Contrastive Loss: {contrastive_loss_total / len(data_loader_train)}\")\n",
    "    print(f\"Epoch {epoch+1}/{num_epochs}, Entailment Loss: {entailment_loss_total / len(data_loader_train)}\")\n",
    "    mrr_validation = evaluate_mrr(model1=lora_model, data_loader_val=data_loader_val,distance_fn=lorentzian_distance)\n",
    "    #mrr_train = evaluate_mrr(lora_model, data_loader_train, lorentzian_distance)\n",
    "    #print(f\"Mean Reciprocal Rank (MRR) for training set: {mrr_train:.4f}\")\n",
    "    print(f\"Mean Reciprocal Rank (MRR) for validation set: {mrr_validation:.4f}\")\n",
    "    end_time = time.time()\n",
    "    print(f\"Epoch {epoch+1} took {(end_time - start_time) / 60:.4f} minutes.\")\n",
    "    print(f\"\\n\")\n",
    "    epoch_metrics.append({\n",
    "        'epoch': epoch + 1,\n",
    "        'training_loss': total_loss / len(data_loader_train),\n",
    "        'Contrastive_loss': contrastive_loss_total / len(data_loader_train),\n",
    "        'Entailment_loss': entailment_loss_total / len(data_loader_train),\n",
    "        'mrr_validation': mrr_validation,\n",
    "        'time_taken_minutes': (end_time - start_time) / 60\n",
    "    })"
   ]
  },
  {
   "cell_type": "code",
   "execution_count": 51,
   "id": "7e7f2ade",
   "metadata": {
    "execution": {
     "iopub.execute_input": "2025-02-13T07:58:43.656616Z",
     "iopub.status.busy": "2025-02-13T07:58:43.655747Z",
     "iopub.status.idle": "2025-02-13T07:58:43.664537Z",
     "shell.execute_reply": "2025-02-13T07:58:43.663832Z"
    },
    "papermill": {
     "duration": 0.017852,
     "end_time": "2025-02-13T07:58:43.665597",
     "exception": false,
     "start_time": "2025-02-13T07:58:43.647745",
     "status": "completed"
    },
    "tags": []
   },
   "outputs": [],
   "source": [
    "import json\n",
    "with open(save_dir + '/hyperbolic_epoch_metrics.json', 'w') as f:\n",
    "    json.dump(epoch_metrics, f)"
   ]
  },
  {
   "cell_type": "code",
   "execution_count": null,
   "id": "39cd363a",
   "metadata": {
    "papermill": {
     "duration": 0.006662,
     "end_time": "2025-02-13T07:58:43.679038",
     "exception": false,
     "start_time": "2025-02-13T07:58:43.672376",
     "status": "completed"
    },
    "tags": []
   },
   "outputs": [],
   "source": []
  }
 ],
 "metadata": {
  "kernelspec": {
   "display_name": "Python (myenv)",
   "language": "python",
   "name": "myenv"
  },
  "language_info": {
   "codemirror_mode": {
    "name": "ipython",
    "version": 3
   },
   "file_extension": ".py",
   "mimetype": "text/x-python",
   "name": "python",
   "nbconvert_exporter": "python",
   "pygments_lexer": "ipython3",
   "version": "3.12.7"
  },
  "papermill": {
   "default_parameters": {},
   "duration": 33048.826323,
   "end_time": "2025-02-13T07:58:46.907233",
   "environment_variables": {},
   "exception": null,
   "input_path": "0.1hyperbolic.ipynb",
   "output_path": "0.1hyperbolic_output.ipynb",
   "parameters": {},
   "start_time": "2025-02-12T22:47:58.080910",
   "version": "2.6.0"
  }
 },
 "nbformat": 4,
 "nbformat_minor": 5
}