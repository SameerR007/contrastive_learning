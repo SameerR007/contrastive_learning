{
 "cells": [
  {
   "cell_type": "code",
   "execution_count": 1,
   "id": "ac666a05",
   "metadata": {
    "execution": {
     "iopub.execute_input": "2025-02-14T18:32:28.551085Z",
     "iopub.status.busy": "2025-02-14T18:32:28.550700Z",
     "iopub.status.idle": "2025-02-14T18:32:34.740146Z",
     "shell.execute_reply": "2025-02-14T18:32:34.739707Z"
    },
    "papermill": {
     "duration": 6.19652,
     "end_time": "2025-02-14T18:32:34.741096",
     "exception": false,
     "start_time": "2025-02-14T18:32:28.544576",
     "status": "completed"
    },
    "tags": []
   },
   "outputs": [],
   "source": [
    "from datasets import load_dataset"
   ]
  },
  {
   "cell_type": "code",
   "execution_count": 2,
   "id": "7128623d",
   "metadata": {
    "execution": {
     "iopub.execute_input": "2025-02-14T18:32:34.750777Z",
     "iopub.status.busy": "2025-02-14T18:32:34.750552Z",
     "iopub.status.idle": "2025-02-14T18:32:41.873174Z",
     "shell.execute_reply": "2025-02-14T18:32:41.872723Z"
    },
    "papermill": {
     "duration": 7.127115,
     "end_time": "2025-02-14T18:32:41.873948",
     "exception": false,
     "start_time": "2025-02-14T18:32:34.746833",
     "status": "completed"
    },
    "tags": []
   },
   "outputs": [],
   "source": [
    "dataset = load_dataset('ms_marco', 'v2.1')"
   ]
  },
  {
   "cell_type": "code",
   "execution_count": 3,
   "id": "e82ddcc0",
   "metadata": {
    "execution": {
     "iopub.execute_input": "2025-02-14T18:32:41.883680Z",
     "iopub.status.busy": "2025-02-14T18:32:41.883369Z",
     "iopub.status.idle": "2025-02-14T18:32:41.888110Z",
     "shell.execute_reply": "2025-02-14T18:32:41.887754Z"
    },
    "papermill": {
     "duration": 0.009316,
     "end_time": "2025-02-14T18:32:41.888756",
     "exception": false,
     "start_time": "2025-02-14T18:32:41.879440",
     "status": "completed"
    },
    "tags": []
   },
   "outputs": [
    {
     "data": {
      "text/plain": [
       "DatasetDict({\n",
       "    validation: Dataset({\n",
       "        features: ['answers', 'passages', 'query', 'query_id', 'query_type', 'wellFormedAnswers'],\n",
       "        num_rows: 101093\n",
       "    })\n",
       "    train: Dataset({\n",
       "        features: ['answers', 'passages', 'query', 'query_id', 'query_type', 'wellFormedAnswers'],\n",
       "        num_rows: 808731\n",
       "    })\n",
       "    test: Dataset({\n",
       "        features: ['answers', 'passages', 'query', 'query_id', 'query_type', 'wellFormedAnswers'],\n",
       "        num_rows: 101092\n",
       "    })\n",
       "})"
      ]
     },
     "execution_count": 3,
     "metadata": {},
     "output_type": "execute_result"
    }
   ],
   "source": [
    "dataset"
   ]
  },
  {
   "cell_type": "code",
   "execution_count": 4,
   "id": "e9a613b6",
   "metadata": {
    "execution": {
     "iopub.execute_input": "2025-02-14T18:32:41.897168Z",
     "iopub.status.busy": "2025-02-14T18:32:41.896726Z",
     "iopub.status.idle": "2025-02-14T18:32:45.370404Z",
     "shell.execute_reply": "2025-02-14T18:32:45.369971Z"
    },
    "papermill": {
     "duration": 3.479062,
     "end_time": "2025-02-14T18:32:45.371250",
     "exception": false,
     "start_time": "2025-02-14T18:32:41.892188",
     "status": "completed"
    },
    "tags": []
   },
   "outputs": [],
   "source": [
    "dataset = load_dataset('ms_marco', 'v2.1', split='train')"
   ]
  },
  {
   "cell_type": "code",
   "execution_count": 5,
   "id": "c2526e0d",
   "metadata": {
    "execution": {
     "iopub.execute_input": "2025-02-14T18:32:45.380851Z",
     "iopub.status.busy": "2025-02-14T18:32:45.380692Z",
     "iopub.status.idle": "2025-02-14T18:32:45.383668Z",
     "shell.execute_reply": "2025-02-14T18:32:45.383318Z"
    },
    "papermill": {
     "duration": 0.007396,
     "end_time": "2025-02-14T18:32:45.384305",
     "exception": false,
     "start_time": "2025-02-14T18:32:45.376909",
     "status": "completed"
    },
    "tags": []
   },
   "outputs": [
    {
     "data": {
      "text/plain": [
       "Dataset({\n",
       "    features: ['answers', 'passages', 'query', 'query_id', 'query_type', 'wellFormedAnswers'],\n",
       "    num_rows: 808731\n",
       "})"
      ]
     },
     "execution_count": 5,
     "metadata": {},
     "output_type": "execute_result"
    }
   ],
   "source": [
    "dataset"
   ]
  },
  {
   "cell_type": "code",
   "execution_count": 6,
   "id": "993190b5",
   "metadata": {
    "execution": {
     "iopub.execute_input": "2025-02-14T18:32:45.392050Z",
     "iopub.status.busy": "2025-02-14T18:32:45.391737Z",
     "iopub.status.idle": "2025-02-14T18:32:45.397610Z",
     "shell.execute_reply": "2025-02-14T18:32:45.397253Z"
    },
    "papermill": {
     "duration": 0.010359,
     "end_time": "2025-02-14T18:32:45.398260",
     "exception": false,
     "start_time": "2025-02-14T18:32:45.387901",
     "status": "completed"
    },
    "tags": []
   },
   "outputs": [
    {
     "data": {
      "text/plain": [
       "datasets.arrow_dataset.Dataset"
      ]
     },
     "execution_count": 6,
     "metadata": {},
     "output_type": "execute_result"
    }
   ],
   "source": [
    "type(dataset)"
   ]
  },
  {
   "cell_type": "code",
   "execution_count": 7,
   "id": "c2d72276",
   "metadata": {
    "execution": {
     "iopub.execute_input": "2025-02-14T18:32:45.405942Z",
     "iopub.status.busy": "2025-02-14T18:32:45.405808Z",
     "iopub.status.idle": "2025-02-14T18:32:45.410008Z",
     "shell.execute_reply": "2025-02-14T18:32:45.409441Z"
    },
    "papermill": {
     "duration": 0.008735,
     "end_time": "2025-02-14T18:32:45.410626",
     "exception": false,
     "start_time": "2025-02-14T18:32:45.401891",
     "status": "completed"
    },
    "tags": []
   },
   "outputs": [],
   "source": [
    "def preprocess(example):\n",
    "    positive_passages=[]\n",
    "    for p in enumerate(example['passages'][\"is_selected\"]):\n",
    "        if p[1]==1:\n",
    "            positive_passages.append(example[\"passages\"][\"passage_text\"][p[0]])\n",
    "    negative_passages = []\n",
    "    for p in enumerate(example['passages'][\"is_selected\"]):\n",
    "        if p[1]==0:\n",
    "            negative_passages.append(example[\"passages\"][\"passage_text\"][p[0]])\n",
    "    if (len(positive_passages)>0 and len(negative_passages)>=5):\n",
    "        positive = positive_passages[0]\n",
    "        negatives = negative_passages[:5]\n",
    "        return {\n",
    "            \"query\": example[\"query\"],\n",
    "            \"positive\": positive,\n",
    "            \"negatives\": negatives\n",
    "        }\n",
    "    else:\n",
    "        return {\"query\": None, \"positive\": None, \"negatives\": None}"
   ]
  },
  {
   "cell_type": "code",
   "execution_count": 8,
   "id": "90ecb1f7",
   "metadata": {
    "execution": {
     "iopub.execute_input": "2025-02-14T18:32:45.418349Z",
     "iopub.status.busy": "2025-02-14T18:32:45.418051Z",
     "iopub.status.idle": "2025-02-14T18:32:45.967960Z",
     "shell.execute_reply": "2025-02-14T18:32:45.967397Z"
    },
    "papermill": {
     "duration": 0.554807,
     "end_time": "2025-02-14T18:32:45.968980",
     "exception": false,
     "start_time": "2025-02-14T18:32:45.414173",
     "status": "completed"
    },
    "tags": []
   },
   "outputs": [],
   "source": [
    "processed_data = dataset.map(preprocess, remove_columns=dataset.column_names)"
   ]
  },
  {
   "cell_type": "code",
   "execution_count": 9,
   "id": "9c42e7c5",
   "metadata": {
    "execution": {
     "iopub.execute_input": "2025-02-14T18:32:45.977229Z",
     "iopub.status.busy": "2025-02-14T18:32:45.977071Z",
     "iopub.status.idle": "2025-02-14T18:32:46.015175Z",
     "shell.execute_reply": "2025-02-14T18:32:46.014795Z"
    },
    "papermill": {
     "duration": 0.04282,
     "end_time": "2025-02-14T18:32:46.015837",
     "exception": false,
     "start_time": "2025-02-14T18:32:45.973017",
     "status": "completed"
    },
    "tags": []
   },
   "outputs": [],
   "source": [
    "processed_data = processed_data.filter(lambda x: x['query'] is not None and x['positive'] is not None)"
   ]
  },
  {
   "cell_type": "code",
   "execution_count": 10,
   "id": "c5f4f5b2",
   "metadata": {
    "execution": {
     "iopub.execute_input": "2025-02-14T18:32:46.024325Z",
     "iopub.status.busy": "2025-02-14T18:32:46.024179Z",
     "iopub.status.idle": "2025-02-14T18:33:27.219927Z",
     "shell.execute_reply": "2025-02-14T18:33:27.219371Z"
    },
    "papermill": {
     "duration": 41.200782,
     "end_time": "2025-02-14T18:33:27.220862",
     "exception": false,
     "start_time": "2025-02-14T18:32:46.020080",
     "status": "completed"
    },
    "tags": []
   },
   "outputs": [],
   "source": [
    "contrastive_pairs = []\n",
    "for item in processed_data:\n",
    "    query = item[\"query\"]\n",
    "    positive = item[\"positive\"]\n",
    "    negatives = item[\"negatives\"]\n",
    "    contrastive_pairs.append({\n",
    "        \"anchor\": query,\n",
    "        \"positive\": positive,\n",
    "        \"negatives\": negatives\n",
    "    })"
   ]
  },
  {
   "cell_type": "code",
   "execution_count": 11,
   "id": "64202165",
   "metadata": {
    "execution": {
     "iopub.execute_input": "2025-02-14T18:33:27.231750Z",
     "iopub.status.busy": "2025-02-14T18:33:27.231406Z",
     "iopub.status.idle": "2025-02-14T18:33:27.234549Z",
     "shell.execute_reply": "2025-02-14T18:33:27.234206Z"
    },
    "papermill": {
     "duration": 0.007849,
     "end_time": "2025-02-14T18:33:27.235121",
     "exception": false,
     "start_time": "2025-02-14T18:33:27.227272",
     "status": "completed"
    },
    "tags": []
   },
   "outputs": [
    {
     "data": {
      "text/plain": [
       "502824"
      ]
     },
     "execution_count": 11,
     "metadata": {},
     "output_type": "execute_result"
    }
   ],
   "source": [
    "len(contrastive_pairs)"
   ]
  },
  {
   "cell_type": "code",
   "execution_count": 12,
   "id": "be0c3145",
   "metadata": {
    "execution": {
     "iopub.execute_input": "2025-02-14T18:33:27.243006Z",
     "iopub.status.busy": "2025-02-14T18:33:27.242880Z",
     "iopub.status.idle": "2025-02-14T18:33:40.304256Z",
     "shell.execute_reply": "2025-02-14T18:33:40.303570Z"
    },
    "papermill": {
     "duration": 13.066492,
     "end_time": "2025-02-14T18:33:40.305359",
     "exception": false,
     "start_time": "2025-02-14T18:33:27.238867",
     "status": "completed"
    },
    "tags": []
   },
   "outputs": [],
   "source": [
    "from torch.utils.data import DataLoader"
   ]
  },
  {
   "cell_type": "code",
   "execution_count": 13,
   "id": "61ad3289",
   "metadata": {
    "execution": {
     "iopub.execute_input": "2025-02-14T18:33:40.316103Z",
     "iopub.status.busy": "2025-02-14T18:33:40.315941Z",
     "iopub.status.idle": "2025-02-14T18:33:40.319200Z",
     "shell.execute_reply": "2025-02-14T18:33:40.318854Z"
    },
    "papermill": {
     "duration": 0.008208,
     "end_time": "2025-02-14T18:33:40.319802",
     "exception": false,
     "start_time": "2025-02-14T18:33:40.311594",
     "status": "completed"
    },
    "tags": []
   },
   "outputs": [],
   "source": [
    "class ContrastiveDataset:\n",
    "    def __init__(self, pairs):\n",
    "        self.pairs = pairs\n",
    "\n",
    "    def __len__(self):\n",
    "        return len(self.pairs)\n",
    "\n",
    "    def __getitem__(self, idx):\n",
    "        item = self.pairs[idx]\n",
    "        return item[\"anchor\"], item[\"positive\"], item[\"negatives\"]"
   ]
  },
  {
   "cell_type": "code",
   "execution_count": 14,
   "id": "658fa69f",
   "metadata": {
    "execution": {
     "iopub.execute_input": "2025-02-14T18:33:40.328354Z",
     "iopub.status.busy": "2025-02-14T18:33:40.327928Z",
     "iopub.status.idle": "2025-02-14T18:33:40.332160Z",
     "shell.execute_reply": "2025-02-14T18:33:40.331822Z"
    },
    "papermill": {
     "duration": 0.009115,
     "end_time": "2025-02-14T18:33:40.332758",
     "exception": false,
     "start_time": "2025-02-14T18:33:40.323643",
     "status": "completed"
    },
    "tags": []
   },
   "outputs": [],
   "source": [
    "contrastive_dataset = ContrastiveDataset(contrastive_pairs)"
   ]
  },
  {
   "cell_type": "code",
   "execution_count": 15,
   "id": "b2117afe",
   "metadata": {
    "execution": {
     "iopub.execute_input": "2025-02-14T18:33:40.340867Z",
     "iopub.status.busy": "2025-02-14T18:33:40.340617Z",
     "iopub.status.idle": "2025-02-14T18:33:40.344717Z",
     "shell.execute_reply": "2025-02-14T18:33:40.344384Z"
    },
    "papermill": {
     "duration": 0.00883,
     "end_time": "2025-02-14T18:33:40.345338",
     "exception": false,
     "start_time": "2025-02-14T18:33:40.336508",
     "status": "completed"
    },
    "tags": []
   },
   "outputs": [],
   "source": [
    "\n",
    "data_loader = DataLoader(contrastive_dataset, batch_size=32, shuffle=True)"
   ]
  },
  {
   "cell_type": "code",
   "execution_count": 16,
   "id": "c107e03d",
   "metadata": {
    "execution": {
     "iopub.execute_input": "2025-02-14T18:33:40.353334Z",
     "iopub.status.busy": "2025-02-14T18:33:40.353207Z",
     "iopub.status.idle": "2025-02-14T18:33:40.358523Z",
     "shell.execute_reply": "2025-02-14T18:33:40.358194Z"
    },
    "papermill": {
     "duration": 0.009953,
     "end_time": "2025-02-14T18:33:40.359102",
     "exception": false,
     "start_time": "2025-02-14T18:33:40.349149",
     "status": "completed"
    },
    "tags": []
   },
   "outputs": [
    {
     "data": {
      "text/plain": [
       "15714"
      ]
     },
     "execution_count": 16,
     "metadata": {},
     "output_type": "execute_result"
    }
   ],
   "source": [
    "len(data_loader)"
   ]
  },
  {
   "cell_type": "code",
   "execution_count": 17,
   "id": "84d4bc87",
   "metadata": {
    "execution": {
     "iopub.execute_input": "2025-02-14T18:33:40.367730Z",
     "iopub.status.busy": "2025-02-14T18:33:40.367280Z",
     "iopub.status.idle": "2025-02-14T18:33:53.210803Z",
     "shell.execute_reply": "2025-02-14T18:33:53.210325Z"
    },
    "papermill": {
     "duration": 12.848842,
     "end_time": "2025-02-14T18:33:53.211789",
     "exception": false,
     "start_time": "2025-02-14T18:33:40.362947",
     "status": "completed"
    },
    "tags": []
   },
   "outputs": [],
   "source": [
    "from transformers import AutoTokenizer, AutoModel\n",
    "tokenizer = AutoTokenizer.from_pretrained(\"bert-base-uncased\")"
   ]
  },
  {
   "cell_type": "code",
   "execution_count": 18,
   "id": "e3a3b21e",
   "metadata": {
    "execution": {
     "iopub.execute_input": "2025-02-14T18:33:53.223527Z",
     "iopub.status.busy": "2025-02-14T18:33:53.223059Z",
     "iopub.status.idle": "2025-02-14T18:33:58.092051Z",
     "shell.execute_reply": "2025-02-14T18:33:58.091596Z"
    },
    "papermill": {
     "duration": 4.874523,
     "end_time": "2025-02-14T18:33:58.093278",
     "exception": false,
     "start_time": "2025-02-14T18:33:53.218755",
     "status": "completed"
    },
    "tags": []
   },
   "outputs": [],
   "source": [
    "model = AutoModel.from_pretrained(\"bert-base-uncased\")"
   ]
  },
  {
   "cell_type": "code",
   "execution_count": 19,
   "id": "25c37adc",
   "metadata": {
    "execution": {
     "iopub.execute_input": "2025-02-14T18:33:58.104592Z",
     "iopub.status.busy": "2025-02-14T18:33:58.104451Z",
     "iopub.status.idle": "2025-02-14T18:33:58.829261Z",
     "shell.execute_reply": "2025-02-14T18:33:58.828828Z"
    },
    "papermill": {
     "duration": 0.730055,
     "end_time": "2025-02-14T18:33:58.830141",
     "exception": false,
     "start_time": "2025-02-14T18:33:58.100086",
     "status": "completed"
    },
    "tags": []
   },
   "outputs": [],
   "source": [
    "from peft import LoraConfig, get_peft_model"
   ]
  },
  {
   "cell_type": "code",
   "execution_count": 20,
   "id": "ab8308bd",
   "metadata": {
    "execution": {
     "iopub.execute_input": "2025-02-14T18:33:58.839340Z",
     "iopub.status.busy": "2025-02-14T18:33:58.839203Z",
     "iopub.status.idle": "2025-02-14T18:33:58.841475Z",
     "shell.execute_reply": "2025-02-14T18:33:58.841139Z"
    },
    "papermill": {
     "duration": 0.007211,
     "end_time": "2025-02-14T18:33:58.842020",
     "exception": false,
     "start_time": "2025-02-14T18:33:58.834809",
     "status": "completed"
    },
    "tags": []
   },
   "outputs": [],
   "source": [
    "lora_config = LoraConfig(\n",
    "    task_type= \"FEATURE_EXTRACTION\"\n",
    ")"
   ]
  },
  {
   "cell_type": "code",
   "execution_count": 21,
   "id": "f5e157f6",
   "metadata": {
    "execution": {
     "iopub.execute_input": "2025-02-14T18:33:58.850599Z",
     "iopub.status.busy": "2025-02-14T18:33:58.850352Z",
     "iopub.status.idle": "2025-02-14T18:33:58.885947Z",
     "shell.execute_reply": "2025-02-14T18:33:58.885575Z"
    },
    "papermill": {
     "duration": 0.040573,
     "end_time": "2025-02-14T18:33:58.886513",
     "exception": false,
     "start_time": "2025-02-14T18:33:58.845940",
     "status": "completed"
    },
    "tags": []
   },
   "outputs": [],
   "source": [
    "lora_model = get_peft_model(model, lora_config)"
   ]
  },
  {
   "cell_type": "code",
   "execution_count": 22,
   "id": "24108c7d",
   "metadata": {
    "execution": {
     "iopub.execute_input": "2025-02-14T18:33:58.894931Z",
     "iopub.status.busy": "2025-02-14T18:33:58.894796Z",
     "iopub.status.idle": "2025-02-14T18:33:58.898010Z",
     "shell.execute_reply": "2025-02-14T18:33:58.897663Z"
    },
    "papermill": {
     "duration": 0.008016,
     "end_time": "2025-02-14T18:33:58.898561",
     "exception": false,
     "start_time": "2025-02-14T18:33:58.890545",
     "status": "completed"
    },
    "tags": []
   },
   "outputs": [
    {
     "name": "stdout",
     "output_type": "stream",
     "text": [
      "trainable params: 294,912 || all params: 109,777,152 || trainable%: 0.2686\n"
     ]
    }
   ],
   "source": [
    "lora_model.print_trainable_parameters()"
   ]
  },
  {
   "cell_type": "code",
   "execution_count": 23,
   "id": "2accf655",
   "metadata": {
    "execution": {
     "iopub.execute_input": "2025-02-14T18:33:58.907393Z",
     "iopub.status.busy": "2025-02-14T18:33:58.907157Z",
     "iopub.status.idle": "2025-02-14T18:33:58.911214Z",
     "shell.execute_reply": "2025-02-14T18:33:58.910880Z"
    },
    "papermill": {
     "duration": 0.009095,
     "end_time": "2025-02-14T18:33:58.911792",
     "exception": false,
     "start_time": "2025-02-14T18:33:58.902697",
     "status": "completed"
    },
    "tags": []
   },
   "outputs": [],
   "source": [
    "import torch"
   ]
  },
  {
   "cell_type": "code",
   "execution_count": 24,
   "id": "28bebf6e",
   "metadata": {
    "execution": {
     "iopub.execute_input": "2025-02-14T18:33:58.920494Z",
     "iopub.status.busy": "2025-02-14T18:33:58.920197Z",
     "iopub.status.idle": "2025-02-14T18:33:58.924925Z",
     "shell.execute_reply": "2025-02-14T18:33:58.924499Z"
    },
    "papermill": {
     "duration": 0.009694,
     "end_time": "2025-02-14T18:33:58.925472",
     "exception": false,
     "start_time": "2025-02-14T18:33:58.915778",
     "status": "completed"
    },
    "tags": []
   },
   "outputs": [],
   "source": [
    "def cosine_distance(x, y):\n",
    "    return 1 - torch.nn.functional.cosine_similarity(x, y, dim=-1)"
   ]
  },
  {
   "cell_type": "code",
   "execution_count": 25,
   "id": "ca7c05df",
   "metadata": {
    "execution": {
     "iopub.execute_input": "2025-02-14T18:33:58.934257Z",
     "iopub.status.busy": "2025-02-14T18:33:58.933932Z",
     "iopub.status.idle": "2025-02-14T18:33:58.936950Z",
     "shell.execute_reply": "2025-02-14T18:33:58.936600Z"
    },
    "papermill": {
     "duration": 0.007892,
     "end_time": "2025-02-14T18:33:58.937490",
     "exception": false,
     "start_time": "2025-02-14T18:33:58.929598",
     "status": "completed"
    },
    "tags": []
   },
   "outputs": [],
   "source": [
    "def info_nce_loss(anchor_embedding, positive_embedding, negative_embedding, distance_fn):\n",
    "\n",
    "    pos_dist = distance_fn(anchor_embedding, positive_embedding)\n",
    "    neg_dist = torch.stack([distance_fn(anchor_embedding, neg) for neg in negative_embedding], dim=-1) \n",
    "    \n",
    "    logits = torch.cat([-pos_dist.unsqueeze(1), -neg_dist], dim=1)\n",
    "    labels = torch.zeros(logits.size(0), dtype=torch.long, device=logits.device)\n",
    "\n",
    "    loss = torch.nn.CrossEntropyLoss()(logits, labels)\n",
    "    return loss"
   ]
  },
  {
   "cell_type": "code",
   "execution_count": 26,
   "id": "b29b5d67",
   "metadata": {
    "execution": {
     "iopub.execute_input": "2025-02-14T18:33:58.946245Z",
     "iopub.status.busy": "2025-02-14T18:33:58.945967Z",
     "iopub.status.idle": "2025-02-14T18:33:58.950278Z",
     "shell.execute_reply": "2025-02-14T18:33:58.949929Z"
    },
    "papermill": {
     "duration": 0.009218,
     "end_time": "2025-02-14T18:33:58.950879",
     "exception": false,
     "start_time": "2025-02-14T18:33:58.941661",
     "status": "completed"
    },
    "tags": []
   },
   "outputs": [],
   "source": [
    "import torch.optim as optim\n",
    "optimizer = torch.optim.AdamW(lora_model.parameters(), lr=5e-5)"
   ]
  },
  {
   "cell_type": "code",
   "execution_count": 27,
   "id": "c9374b8e",
   "metadata": {
    "execution": {
     "iopub.execute_input": "2025-02-14T18:33:58.959687Z",
     "iopub.status.busy": "2025-02-14T18:33:58.959557Z",
     "iopub.status.idle": "2025-02-14T18:33:59.821109Z",
     "shell.execute_reply": "2025-02-14T18:33:59.820438Z"
    },
    "papermill": {
     "duration": 0.867037,
     "end_time": "2025-02-14T18:33:59.822048",
     "exception": false,
     "start_time": "2025-02-14T18:33:58.955011",
     "status": "completed"
    },
    "tags": []
   },
   "outputs": [],
   "source": [
    "device = torch.device('cuda' if torch.cuda.is_available() else 'cpu')"
   ]
  },
  {
   "cell_type": "code",
   "execution_count": 28,
   "id": "55522e66",
   "metadata": {
    "execution": {
     "iopub.execute_input": "2025-02-14T18:33:59.831474Z",
     "iopub.status.busy": "2025-02-14T18:33:59.831318Z",
     "iopub.status.idle": "2025-02-14T18:34:02.181284Z",
     "shell.execute_reply": "2025-02-14T18:34:02.180659Z"
    },
    "papermill": {
     "duration": 2.355793,
     "end_time": "2025-02-14T18:34:02.182485",
     "exception": false,
     "start_time": "2025-02-14T18:33:59.826692",
     "status": "completed"
    },
    "tags": []
   },
   "outputs": [],
   "source": [
    "lora_model = lora_model.to(device)"
   ]
  },
  {
   "cell_type": "code",
   "execution_count": 29,
   "id": "2953c274",
   "metadata": {
    "execution": {
     "iopub.execute_input": "2025-02-14T18:34:02.194285Z",
     "iopub.status.busy": "2025-02-14T18:34:02.194075Z",
     "iopub.status.idle": "2025-02-14T18:34:10.077575Z",
     "shell.execute_reply": "2025-02-14T18:34:10.076999Z"
    },
    "papermill": {
     "duration": 7.888857,
     "end_time": "2025-02-14T18:34:10.078246",
     "exception": false,
     "start_time": "2025-02-14T18:34:02.189389",
     "status": "completed"
    },
    "tags": []
   },
   "outputs": [
    {
     "data": {
      "text/plain": [
       "1737"
      ]
     },
     "execution_count": 29,
     "metadata": {},
     "output_type": "execute_result"
    }
   ],
   "source": [
    "dataset_val = load_dataset('ms_marco', 'v2.1', split='validation')\n",
    "processed_data_val = dataset_val.map(preprocess, remove_columns=dataset_val.column_names)\n",
    "processed_data_val = processed_data_val.filter(lambda x: x['query'] is not None and x['positive'] is not None)\n",
    "contrastive_pairs_val = []\n",
    "for item in processed_data_val:\n",
    "    query = item[\"query\"]\n",
    "    positive = item[\"positive\"]\n",
    "    negatives = item[\"negatives\"]\n",
    "    contrastive_pairs_val.append({\n",
    "        \"anchor\": query,\n",
    "        \"positive\": positive,\n",
    "        \"negatives\": negatives\n",
    "    })\n",
    "contrastive_dataset_val = ContrastiveDataset(contrastive_pairs_val)\n",
    "data_loader_val = DataLoader(contrastive_dataset_val, batch_size=32, shuffle=True)\n",
    "len(data_loader_val)"
   ]
  },
  {
   "cell_type": "code",
   "execution_count": 30,
   "id": "0fde3311",
   "metadata": {
    "execution": {
     "iopub.execute_input": "2025-02-14T18:34:10.089735Z",
     "iopub.status.busy": "2025-02-14T18:34:10.089571Z",
     "iopub.status.idle": "2025-02-14T18:34:10.092779Z",
     "shell.execute_reply": "2025-02-14T18:34:10.092436Z"
    },
    "papermill": {
     "duration": 0.008846,
     "end_time": "2025-02-14T18:34:10.093582",
     "exception": false,
     "start_time": "2025-02-14T18:34:10.084736",
     "status": "completed"
    },
    "tags": []
   },
   "outputs": [],
   "source": [
    "def avg_embedding(inputs, model):\n",
    "    input=model(**inputs)\n",
    "    input_last_hidden_state=input.last_hidden_state\n",
    "    input_attention_mask = inputs['attention_mask']\n",
    "    input_masked_embeddings = input_last_hidden_state * input_attention_mask.unsqueeze(-1)\n",
    "    input_sum_embeddings = torch.sum(input_masked_embeddings, dim=1)\n",
    "    input_token_counts = torch.sum(input_attention_mask, dim=1).unsqueeze(-1)\n",
    "    input_avg_embeddings = input_sum_embeddings / input_token_counts\n",
    "    return(input_avg_embeddings)"
   ]
  },
  {
   "cell_type": "code",
   "execution_count": 31,
   "id": "9f0b1730",
   "metadata": {
    "execution": {
     "iopub.execute_input": "2025-02-14T18:34:10.102761Z",
     "iopub.status.busy": "2025-02-14T18:34:10.102635Z",
     "iopub.status.idle": "2025-02-14T18:34:10.107674Z",
     "shell.execute_reply": "2025-02-14T18:34:10.107313Z"
    },
    "papermill": {
     "duration": 0.010235,
     "end_time": "2025-02-14T18:34:10.108264",
     "exception": false,
     "start_time": "2025-02-14T18:34:10.098029",
     "status": "completed"
    },
    "tags": []
   },
   "outputs": [],
   "source": [
    "def evaluate_mrr(model, data_loader_val, distance_fn):\n",
    "    model.eval() \n",
    "\n",
    "    total_rr = 0.0\n",
    "    num_queries = 0\n",
    "\n",
    "    with torch.no_grad(): \n",
    "        for batch in data_loader_val:\n",
    "            anchor_text = batch[0]\n",
    "            positive_text = batch[1]\n",
    "            negative_texts = batch[2]\n",
    "\n",
    "            anchor_input = tokenizer(anchor_text, return_tensors='pt', padding=True, truncation=True, max_length=512).to(device)\n",
    "            positive_input = tokenizer(positive_text, return_tensors='pt', padding=True, truncation=True, max_length=512).to(device)\n",
    "\n",
    "            anchor_embedding = avg_embedding(anchor_input, model)\n",
    "            positive_embedding = avg_embedding(positive_input, model)\n",
    "            negative_embedding = [avg_embedding(tokenizer(neg, return_tensors='pt', padding=True, truncation=True, max_length=512).to(device), model) for neg in negative_texts]\n",
    "\n",
    "            pos_dist = distance_fn(anchor_embedding, positive_embedding)\n",
    "            neg_dist = torch.stack([distance_fn(anchor_embedding, neg) for neg in negative_embedding], dim=-1)\n",
    "            all_similarities=torch.cat([-pos_dist.unsqueeze(1), -neg_dist], dim=1)\n",
    "\n",
    "            sorted_similarities, sorted_indices = torch.sort(all_similarities, dim=1, descending=True)\n",
    "\n",
    "            # Find the rank of the first relevant (positive) document\n",
    "            positive_rank = (sorted_indices == 0).nonzero(as_tuple=True)[1] + 1  # +1 to make rank 1-based\n",
    "            total_rr += torch.sum(1.0 / positive_rank.float()).item()  # Reciprocal rank\n",
    "            num_queries += len(positive_rank)\n",
    "\n",
    "    mrr = total_rr / num_queries\n",
    "    return mrr"
   ]
  },
  {
   "cell_type": "code",
   "execution_count": 32,
   "id": "9deaadd6",
   "metadata": {
    "execution": {
     "iopub.execute_input": "2025-02-14T18:34:10.117450Z",
     "iopub.status.busy": "2025-02-14T18:34:10.117204Z",
     "iopub.status.idle": "2025-02-14T18:34:10.120672Z",
     "shell.execute_reply": "2025-02-14T18:34:10.120307Z"
    },
    "papermill": {
     "duration": 0.008592,
     "end_time": "2025-02-14T18:34:10.121215",
     "exception": false,
     "start_time": "2025-02-14T18:34:10.112623",
     "status": "completed"
    },
    "tags": []
   },
   "outputs": [],
   "source": [
    "num_epochs=3\n",
    "import os\n",
    "save_dir =\"/dss/dsshome1/07/ra65bex2/srawat/v2/average\""
   ]
  },
  {
   "cell_type": "code",
   "execution_count": 33,
   "id": "2663a5d6",
   "metadata": {
    "execution": {
     "iopub.execute_input": "2025-02-14T18:34:10.130530Z",
     "iopub.status.busy": "2025-02-14T18:34:10.130226Z",
     "iopub.status.idle": "2025-02-14T18:34:10.132993Z",
     "shell.execute_reply": "2025-02-14T18:34:10.132614Z"
    },
    "papermill": {
     "duration": 0.007904,
     "end_time": "2025-02-14T18:34:10.133529",
     "exception": false,
     "start_time": "2025-02-14T18:34:10.125625",
     "status": "completed"
    },
    "tags": []
   },
   "outputs": [],
   "source": [
    "import time\n",
    "epoch_metrics = []"
   ]
  },
  {
   "cell_type": "code",
   "execution_count": 34,
   "id": "f2cbb87e",
   "metadata": {
    "execution": {
     "iopub.execute_input": "2025-02-14T18:34:10.142718Z",
     "iopub.status.busy": "2025-02-14T18:34:10.142592Z",
     "iopub.status.idle": "2025-02-15T05:24:04.072300Z",
     "shell.execute_reply": "2025-02-15T05:24:04.071741Z"
    },
    "papermill": {
     "duration": 38993.942038,
     "end_time": "2025-02-15T05:24:04.079968",
     "exception": false,
     "start_time": "2025-02-14T18:34:10.137930",
     "status": "completed"
    },
    "tags": []
   },
   "outputs": [
    {
     "name": "stdout",
     "output_type": "stream",
     "text": [
      "EPOCH 1:\n",
      "Checkpoint saved: /dss/dsshome1/07/ra65bex2/srawat/v2/average/average_checkpoint_epoch_1.pth\n",
      "Epoch 1/3, Training Loss: 1.5698864436701871\n"
     ]
    },
    {
     "name": "stdout",
     "output_type": "stream",
     "text": [
      "Mean Reciprocal Rank (MRR) for validation set: 0.6489\n",
      "Epoch 1 took 216.9913 minutes.\n",
      "\n",
      "\n"
     ]
    },
    {
     "name": "stdout",
     "output_type": "stream",
     "text": [
      "EPOCH 2:\n",
      "Checkpoint saved: /dss/dsshome1/07/ra65bex2/srawat/v2/average/average_checkpoint_epoch_2.pth\n",
      "Epoch 2/3, Training Loss: 1.5313618168722238\n"
     ]
    },
    {
     "name": "stdout",
     "output_type": "stream",
     "text": [
      "Mean Reciprocal Rank (MRR) for validation set: 0.6550\n",
      "Epoch 2 took 216.7358 minutes.\n",
      "\n",
      "\n"
     ]
    },
    {
     "name": "stdout",
     "output_type": "stream",
     "text": [
      "EPOCH 3:\n",
      "Checkpoint saved: /dss/dsshome1/07/ra65bex2/srawat/v2/average/average_checkpoint_epoch_3.pth\n",
      "Epoch 3/3, Training Loss: 1.518994820410777\n"
     ]
    },
    {
     "name": "stdout",
     "output_type": "stream",
     "text": [
      "Mean Reciprocal Rank (MRR) for validation set: 0.6576\n",
      "Epoch 3 took 216.1717 minutes.\n",
      "\n",
      "\n"
     ]
    }
   ],
   "source": [
    "for epoch in range(num_epochs):\n",
    "    start_time = time.time()\n",
    "    lora_model.train()\n",
    "    \n",
    "    total_loss = 0.0\n",
    "    for batch in data_loader:\n",
    "    \n",
    "        anchor_texts = batch[0]\n",
    "        positive_texts = batch[1]\n",
    "        negative_texts = batch[2]\n",
    "    \n",
    "        anchor_inputs = tokenizer(anchor_texts, return_tensors='pt', padding=True, truncation=True, max_length=512).to(device)\n",
    "        positive_inputs = tokenizer(positive_texts, return_tensors='pt', padding=True, truncation=True, max_length=512).to(device)\n",
    "    \n",
    "        anchor_embedding = avg_embedding(anchor_inputs, lora_model)\n",
    "        positive_embedding = avg_embedding(positive_inputs, lora_model)\n",
    "        negative_embedding = [avg_embedding(tokenizer(neg, return_tensors='pt', padding=True, truncation=True, max_length=512).to(device), lora_model) for neg in negative_texts]\n",
    "\n",
    "        loss = info_nce_loss(anchor_embedding, positive_embedding, negative_embedding, distance_fn=cosine_distance)\n",
    "        \n",
    "        optimizer.zero_grad() \n",
    "        loss.backward()\n",
    "        optimizer.step()\n",
    "        \n",
    "        total_loss += loss.item()\n",
    "    save_path = os.path.join(save_dir, f\"average_checkpoint_epoch_{epoch+1}.pth\")\n",
    "    torch.save(lora_model, save_path)\n",
    "    print(f\"EPOCH {epoch+1}:\")\n",
    "    print(f\"Checkpoint saved: {save_path}\")\n",
    "\n",
    "    print(f\"Epoch {epoch+1}/{num_epochs}, Training Loss: {total_loss / len(data_loader)}\")\n",
    "    mrr_validation = evaluate_mrr(lora_model, data_loader_val, cosine_distance)\n",
    "    print(f\"Mean Reciprocal Rank (MRR) for validation set: {mrr_validation:.4f}\")\n",
    "    end_time = time.time()\n",
    "    print(f\"Epoch {epoch+1} took {(end_time - start_time) / 60:.4f} minutes.\")\n",
    "    print(f\"\\n\")\n",
    "    epoch_metrics.append({\n",
    "        'epoch': epoch + 1,\n",
    "        'training_loss': total_loss / len(data_loader),\n",
    "        'mrr_validation': mrr_validation,\n",
    "        'time_taken_minutes': (end_time - start_time) / 60\n",
    "    })"
   ]
  },
  {
   "cell_type": "code",
   "execution_count": 35,
   "id": "8b2ec710",
   "metadata": {
    "execution": {
     "iopub.execute_input": "2025-02-15T05:24:04.092851Z",
     "iopub.status.busy": "2025-02-15T05:24:04.092676Z",
     "iopub.status.idle": "2025-02-15T05:24:04.095533Z",
     "shell.execute_reply": "2025-02-15T05:24:04.095214Z"
    },
    "papermill": {
     "duration": 0.008848,
     "end_time": "2025-02-15T05:24:04.096117",
     "exception": false,
     "start_time": "2025-02-15T05:24:04.087269",
     "status": "completed"
    },
    "tags": []
   },
   "outputs": [],
   "source": [
    "import json"
   ]
  },
  {
   "cell_type": "code",
   "execution_count": 36,
   "id": "4804ddbe",
   "metadata": {
    "execution": {
     "iopub.execute_input": "2025-02-15T05:24:04.105722Z",
     "iopub.status.busy": "2025-02-15T05:24:04.105596Z",
     "iopub.status.idle": "2025-02-15T05:24:04.177243Z",
     "shell.execute_reply": "2025-02-15T05:24:04.176942Z"
    },
    "papermill": {
     "duration": 0.077105,
     "end_time": "2025-02-15T05:24:04.177830",
     "exception": false,
     "start_time": "2025-02-15T05:24:04.100725",
     "status": "completed"
    },
    "tags": []
   },
   "outputs": [],
   "source": [
    "with open(save_dir + '/average_epoch_metrics.json', 'w') as f:\n",
    "    json.dump(epoch_metrics, f)"
   ]
  },
  {
   "cell_type": "code",
   "execution_count": null,
   "id": "d013dc26",
   "metadata": {
    "papermill": {
     "duration": 0.004479,
     "end_time": "2025-02-15T05:24:04.186963",
     "exception": false,
     "start_time": "2025-02-15T05:24:04.182484",
     "status": "completed"
    },
    "tags": []
   },
   "outputs": [],
   "source": []
  }
 ],
 "metadata": {
  "kernelspec": {
   "display_name": "Python (myenv)",
   "language": "python",
   "name": "myenv"
  },
  "language_info": {
   "codemirror_mode": {
    "name": "ipython",
    "version": 3
   },
   "file_extension": ".py",
   "mimetype": "text/x-python",
   "name": "python",
   "nbconvert_exporter": "python",
   "pygments_lexer": "ipython3",
   "version": "3.12.7"
  },
  "papermill": {
   "default_parameters": {},
   "duration": 39103.281048,
   "end_time": "2025-02-15T05:24:07.408567",
   "environment_variables": {},
   "exception": null,
   "input_path": "average.ipynb",
   "output_path": "average_output.ipynb",
   "parameters": {},
   "start_time": "2025-02-14T18:32:24.127519",
   "version": "2.6.0"
  }
 },
 "nbformat": 4,
 "nbformat_minor": 5
}