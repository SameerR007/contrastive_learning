{
 "cells": [
  {
   "cell_type": "code",
   "execution_count": 1,
   "id": "eeb6051a",
   "metadata": {
    "execution": {
     "iopub.execute_input": "2025-02-15T04:17:09.196199Z",
     "iopub.status.busy": "2025-02-15T04:17:09.196066Z",
     "iopub.status.idle": "2025-02-15T04:17:12.098614Z",
     "shell.execute_reply": "2025-02-15T04:17:12.098221Z"
    },
    "papermill": {
     "duration": 2.9083,
     "end_time": "2025-02-15T04:17:12.099611",
     "exception": false,
     "start_time": "2025-02-15T04:17:09.191311",
     "status": "completed"
    },
    "tags": []
   },
   "outputs": [],
   "source": [
    "from datasets import load_dataset"
   ]
  },
  {
   "cell_type": "code",
   "execution_count": 2,
   "id": "d45c8e2d",
   "metadata": {
    "execution": {
     "iopub.execute_input": "2025-02-15T04:17:12.108109Z",
     "iopub.status.busy": "2025-02-15T04:17:12.107856Z",
     "iopub.status.idle": "2025-02-15T04:17:16.966529Z",
     "shell.execute_reply": "2025-02-15T04:17:16.966132Z"
    },
    "papermill": {
     "duration": 4.863681,
     "end_time": "2025-02-15T04:17:16.967490",
     "exception": false,
     "start_time": "2025-02-15T04:17:12.103809",
     "status": "completed"
    },
    "tags": []
   },
   "outputs": [],
   "source": [
    "dataset = load_dataset('ms_marco', 'v2.1')"
   ]
  },
  {
   "cell_type": "code",
   "execution_count": 3,
   "id": "4ea53923",
   "metadata": {
    "execution": {
     "iopub.execute_input": "2025-02-15T04:17:16.978003Z",
     "iopub.status.busy": "2025-02-15T04:17:16.977756Z",
     "iopub.status.idle": "2025-02-15T04:17:16.982500Z",
     "shell.execute_reply": "2025-02-15T04:17:16.982177Z"
    },
    "papermill": {
     "duration": 0.009604,
     "end_time": "2025-02-15T04:17:16.983115",
     "exception": false,
     "start_time": "2025-02-15T04:17:16.973511",
     "status": "completed"
    },
    "tags": []
   },
   "outputs": [
    {
     "data": {
      "text/plain": [
       "DatasetDict({\n",
       "    validation: Dataset({\n",
       "        features: ['answers', 'passages', 'query', 'query_id', 'query_type', 'wellFormedAnswers'],\n",
       "        num_rows: 101093\n",
       "    })\n",
       "    train: Dataset({\n",
       "        features: ['answers', 'passages', 'query', 'query_id', 'query_type', 'wellFormedAnswers'],\n",
       "        num_rows: 808731\n",
       "    })\n",
       "    test: Dataset({\n",
       "        features: ['answers', 'passages', 'query', 'query_id', 'query_type', 'wellFormedAnswers'],\n",
       "        num_rows: 101092\n",
       "    })\n",
       "})"
      ]
     },
     "execution_count": 3,
     "metadata": {},
     "output_type": "execute_result"
    }
   ],
   "source": [
    "dataset"
   ]
  },
  {
   "cell_type": "code",
   "execution_count": 4,
   "id": "c10f8942",
   "metadata": {
    "execution": {
     "iopub.execute_input": "2025-02-15T04:17:16.991772Z",
     "iopub.status.busy": "2025-02-15T04:17:16.991476Z",
     "iopub.status.idle": "2025-02-15T04:17:20.478658Z",
     "shell.execute_reply": "2025-02-15T04:17:20.478269Z"
    },
    "papermill": {
     "duration": 3.492083,
     "end_time": "2025-02-15T04:17:20.479573",
     "exception": false,
     "start_time": "2025-02-15T04:17:16.987490",
     "status": "completed"
    },
    "tags": []
   },
   "outputs": [],
   "source": [
    "dataset_train = load_dataset('ms_marco', 'v2.1', split='train')"
   ]
  },
  {
   "cell_type": "code",
   "execution_count": 5,
   "id": "6f4fd096",
   "metadata": {
    "execution": {
     "iopub.execute_input": "2025-02-15T04:17:20.488352Z",
     "iopub.status.busy": "2025-02-15T04:17:20.488084Z",
     "iopub.status.idle": "2025-02-15T04:17:20.491240Z",
     "shell.execute_reply": "2025-02-15T04:17:20.490915Z"
    },
    "papermill": {
     "duration": 0.007887,
     "end_time": "2025-02-15T04:17:20.491882",
     "exception": false,
     "start_time": "2025-02-15T04:17:20.483995",
     "status": "completed"
    },
    "tags": []
   },
   "outputs": [
    {
     "data": {
      "text/plain": [
       "Dataset({\n",
       "    features: ['answers', 'passages', 'query', 'query_id', 'query_type', 'wellFormedAnswers'],\n",
       "    num_rows: 808731\n",
       "})"
      ]
     },
     "execution_count": 5,
     "metadata": {},
     "output_type": "execute_result"
    }
   ],
   "source": [
    "dataset_train"
   ]
  },
  {
   "cell_type": "code",
   "execution_count": 6,
   "id": "3ebe6b23",
   "metadata": {
    "execution": {
     "iopub.execute_input": "2025-02-15T04:17:20.499991Z",
     "iopub.status.busy": "2025-02-15T04:17:20.499767Z",
     "iopub.status.idle": "2025-02-15T04:17:20.503162Z",
     "shell.execute_reply": "2025-02-15T04:17:20.502841Z"
    },
    "papermill": {
     "duration": 0.008078,
     "end_time": "2025-02-15T04:17:20.503801",
     "exception": false,
     "start_time": "2025-02-15T04:17:20.495723",
     "status": "completed"
    },
    "tags": []
   },
   "outputs": [],
   "source": [
    "def preprocess(example):\n",
    "    positive_passages=[]\n",
    "    for p in enumerate(example['passages'][\"is_selected\"]):\n",
    "        if p[1]==1:\n",
    "            positive_passages.append(example[\"passages\"][\"passage_text\"][p[0]])\n",
    "    negative_passages = []\n",
    "    for p in enumerate(example['passages'][\"is_selected\"]):\n",
    "        if p[1]==0:\n",
    "            negative_passages.append(example[\"passages\"][\"passage_text\"][p[0]])\n",
    "    if (len(positive_passages)>0 and len(negative_passages)>=5):\n",
    "        positive = positive_passages[0]\n",
    "        negatives = negative_passages[:5]\n",
    "        return {\n",
    "            \"query\": example[\"query\"],\n",
    "            \"positive\": positive,\n",
    "            \"negatives\": negatives\n",
    "        }\n",
    "    else:\n",
    "        return {\"query\": None, \"positive\": None, \"negatives\": None}"
   ]
  },
  {
   "cell_type": "code",
   "execution_count": 7,
   "id": "274002da",
   "metadata": {
    "execution": {
     "iopub.execute_input": "2025-02-15T04:17:20.511969Z",
     "iopub.status.busy": "2025-02-15T04:17:20.511749Z",
     "iopub.status.idle": "2025-02-15T04:17:20.526758Z",
     "shell.execute_reply": "2025-02-15T04:17:20.526431Z"
    },
    "papermill": {
     "duration": 0.019769,
     "end_time": "2025-02-15T04:17:20.527436",
     "exception": false,
     "start_time": "2025-02-15T04:17:20.507667",
     "status": "completed"
    },
    "tags": []
   },
   "outputs": [],
   "source": [
    "processed_data_train = dataset_train.map(preprocess, remove_columns=dataset_train.column_names)"
   ]
  },
  {
   "cell_type": "code",
   "execution_count": 8,
   "id": "efe7ecb7",
   "metadata": {
    "execution": {
     "iopub.execute_input": "2025-02-15T04:17:20.535860Z",
     "iopub.status.busy": "2025-02-15T04:17:20.535631Z",
     "iopub.status.idle": "2025-02-15T04:17:20.545125Z",
     "shell.execute_reply": "2025-02-15T04:17:20.544816Z"
    },
    "papermill": {
     "duration": 0.014332,
     "end_time": "2025-02-15T04:17:20.545853",
     "exception": false,
     "start_time": "2025-02-15T04:17:20.531521",
     "status": "completed"
    },
    "tags": []
   },
   "outputs": [],
   "source": [
    "processed_data_train = processed_data_train.filter(lambda x: x['query'] is not None and x['positive'] is not None)"
   ]
  },
  {
   "cell_type": "code",
   "execution_count": 9,
   "id": "60636e4b",
   "metadata": {
    "execution": {
     "iopub.execute_input": "2025-02-15T04:17:20.554156Z",
     "iopub.status.busy": "2025-02-15T04:17:20.553937Z",
     "iopub.status.idle": "2025-02-15T04:17:58.171675Z",
     "shell.execute_reply": "2025-02-15T04:17:58.171211Z"
    },
    "papermill": {
     "duration": 37.622739,
     "end_time": "2025-02-15T04:17:58.172553",
     "exception": false,
     "start_time": "2025-02-15T04:17:20.549814",
     "status": "completed"
    },
    "tags": []
   },
   "outputs": [],
   "source": [
    "contrastive_pairs_train = []\n",
    "for item in processed_data_train:\n",
    "    query = item[\"query\"]\n",
    "    positive = item[\"positive\"]\n",
    "    negatives = item[\"negatives\"]\n",
    "    contrastive_pairs_train.append({\n",
    "        \"anchor\": query,\n",
    "        \"positive\": positive,\n",
    "        \"negatives\": negatives\n",
    "    })"
   ]
  },
  {
   "cell_type": "code",
   "execution_count": 10,
   "id": "fc84467d",
   "metadata": {
    "execution": {
     "iopub.execute_input": "2025-02-15T04:17:58.186432Z",
     "iopub.status.busy": "2025-02-15T04:17:58.186250Z",
     "iopub.status.idle": "2025-02-15T04:17:58.189562Z",
     "shell.execute_reply": "2025-02-15T04:17:58.189242Z"
    },
    "papermill": {
     "duration": 0.008438,
     "end_time": "2025-02-15T04:17:58.190156",
     "exception": false,
     "start_time": "2025-02-15T04:17:58.181718",
     "status": "completed"
    },
    "tags": []
   },
   "outputs": [
    {
     "data": {
      "text/plain": [
       "502824"
      ]
     },
     "execution_count": 10,
     "metadata": {},
     "output_type": "execute_result"
    }
   ],
   "source": [
    "len(contrastive_pairs_train)"
   ]
  },
  {
   "cell_type": "code",
   "execution_count": 11,
   "id": "c17a70b1",
   "metadata": {
    "execution": {
     "iopub.execute_input": "2025-02-15T04:17:58.198656Z",
     "iopub.status.busy": "2025-02-15T04:17:58.198430Z",
     "iopub.status.idle": "2025-02-15T04:18:01.125642Z",
     "shell.execute_reply": "2025-02-15T04:18:01.125049Z"
    },
    "papermill": {
     "duration": 2.932282,
     "end_time": "2025-02-15T04:18:01.126472",
     "exception": false,
     "start_time": "2025-02-15T04:17:58.194190",
     "status": "completed"
    },
    "tags": []
   },
   "outputs": [],
   "source": [
    "from torch.utils.data import DataLoader"
   ]
  },
  {
   "cell_type": "code",
   "execution_count": 12,
   "id": "4864d39f",
   "metadata": {
    "execution": {
     "iopub.execute_input": "2025-02-15T04:18:01.139109Z",
     "iopub.status.busy": "2025-02-15T04:18:01.138863Z",
     "iopub.status.idle": "2025-02-15T04:18:01.142213Z",
     "shell.execute_reply": "2025-02-15T04:18:01.141876Z"
    },
    "papermill": {
     "duration": 0.008492,
     "end_time": "2025-02-15T04:18:01.142793",
     "exception": false,
     "start_time": "2025-02-15T04:18:01.134301",
     "status": "completed"
    },
    "tags": []
   },
   "outputs": [],
   "source": [
    "class ContrastiveDataset:\n",
    "    def __init__(self, pairs):\n",
    "        self.pairs = pairs\n",
    "\n",
    "    def __len__(self):\n",
    "        return len(self.pairs)\n",
    "\n",
    "    def __getitem__(self, idx):\n",
    "        item = self.pairs[idx]\n",
    "        return item[\"anchor\"], item[\"positive\"], item[\"negatives\"]"
   ]
  },
  {
   "cell_type": "code",
   "execution_count": 13,
   "id": "f54db141",
   "metadata": {
    "execution": {
     "iopub.execute_input": "2025-02-15T04:18:01.151415Z",
     "iopub.status.busy": "2025-02-15T04:18:01.151192Z",
     "iopub.status.idle": "2025-02-15T04:18:01.153349Z",
     "shell.execute_reply": "2025-02-15T04:18:01.153024Z"
    },
    "papermill": {
     "duration": 0.007033,
     "end_time": "2025-02-15T04:18:01.153962",
     "exception": false,
     "start_time": "2025-02-15T04:18:01.146929",
     "status": "completed"
    },
    "tags": []
   },
   "outputs": [],
   "source": [
    "contrastive_dataset_train = ContrastiveDataset(contrastive_pairs_train)"
   ]
  },
  {
   "cell_type": "code",
   "execution_count": 14,
   "id": "bab41fa7",
   "metadata": {
    "execution": {
     "iopub.execute_input": "2025-02-15T04:18:01.162677Z",
     "iopub.status.busy": "2025-02-15T04:18:01.162463Z",
     "iopub.status.idle": "2025-02-15T04:18:01.165188Z",
     "shell.execute_reply": "2025-02-15T04:18:01.164813Z"
    },
    "papermill": {
     "duration": 0.007639,
     "end_time": "2025-02-15T04:18:01.165787",
     "exception": false,
     "start_time": "2025-02-15T04:18:01.158148",
     "status": "completed"
    },
    "tags": []
   },
   "outputs": [],
   "source": [
    "data_loader_train = DataLoader(contrastive_dataset_train, batch_size=32, shuffle=True)"
   ]
  },
  {
   "cell_type": "code",
   "execution_count": 15,
   "id": "51557793",
   "metadata": {
    "execution": {
     "iopub.execute_input": "2025-02-15T04:18:01.174468Z",
     "iopub.status.busy": "2025-02-15T04:18:01.174256Z",
     "iopub.status.idle": "2025-02-15T04:18:01.177394Z",
     "shell.execute_reply": "2025-02-15T04:18:01.177064Z"
    },
    "papermill": {
     "duration": 0.008097,
     "end_time": "2025-02-15T04:18:01.177970",
     "exception": false,
     "start_time": "2025-02-15T04:18:01.169873",
     "status": "completed"
    },
    "tags": []
   },
   "outputs": [
    {
     "data": {
      "text/plain": [
       "15714"
      ]
     },
     "execution_count": 15,
     "metadata": {},
     "output_type": "execute_result"
    }
   ],
   "source": [
    "len(data_loader_train)"
   ]
  },
  {
   "cell_type": "code",
   "execution_count": 16,
   "id": "258cecd5",
   "metadata": {
    "execution": {
     "iopub.execute_input": "2025-02-15T04:18:01.186780Z",
     "iopub.status.busy": "2025-02-15T04:18:01.186566Z",
     "iopub.status.idle": "2025-02-15T04:18:04.955301Z",
     "shell.execute_reply": "2025-02-15T04:18:04.954773Z"
    },
    "papermill": {
     "duration": 3.774077,
     "end_time": "2025-02-15T04:18:04.956243",
     "exception": false,
     "start_time": "2025-02-15T04:18:01.182166",
     "status": "completed"
    },
    "tags": []
   },
   "outputs": [],
   "source": [
    "from transformers import AutoTokenizer, AutoModel\n",
    "tokenizer = AutoTokenizer.from_pretrained(\"bert-base-uncased\")"
   ]
  },
  {
   "cell_type": "code",
   "execution_count": 17,
   "id": "f000b2a7",
   "metadata": {
    "execution": {
     "iopub.execute_input": "2025-02-15T04:18:04.967583Z",
     "iopub.status.busy": "2025-02-15T04:18:04.967340Z",
     "iopub.status.idle": "2025-02-15T04:18:05.441459Z",
     "shell.execute_reply": "2025-02-15T04:18:05.441057Z"
    },
    "papermill": {
     "duration": 0.479697,
     "end_time": "2025-02-15T04:18:05.442389",
     "exception": false,
     "start_time": "2025-02-15T04:18:04.962692",
     "status": "completed"
    },
    "tags": []
   },
   "outputs": [],
   "source": [
    "model = AutoModel.from_pretrained(\"bert-base-uncased\")"
   ]
  },
  {
   "cell_type": "code",
   "execution_count": 18,
   "id": "74276369",
   "metadata": {
    "execution": {
     "iopub.execute_input": "2025-02-15T04:18:05.452258Z",
     "iopub.status.busy": "2025-02-15T04:18:05.451920Z",
     "iopub.status.idle": "2025-02-15T04:18:05.625981Z",
     "shell.execute_reply": "2025-02-15T04:18:05.625604Z"
    },
    "papermill": {
     "duration": 0.179608,
     "end_time": "2025-02-15T04:18:05.626823",
     "exception": false,
     "start_time": "2025-02-15T04:18:05.447215",
     "status": "completed"
    },
    "tags": []
   },
   "outputs": [],
   "source": [
    "from peft import LoraConfig, get_peft_model"
   ]
  },
  {
   "cell_type": "code",
   "execution_count": 19,
   "id": "5c61052c",
   "metadata": {
    "execution": {
     "iopub.execute_input": "2025-02-15T04:18:05.636175Z",
     "iopub.status.busy": "2025-02-15T04:18:05.635933Z",
     "iopub.status.idle": "2025-02-15T04:18:05.638079Z",
     "shell.execute_reply": "2025-02-15T04:18:05.637752Z"
    },
    "papermill": {
     "duration": 0.007417,
     "end_time": "2025-02-15T04:18:05.638720",
     "exception": false,
     "start_time": "2025-02-15T04:18:05.631303",
     "status": "completed"
    },
    "tags": []
   },
   "outputs": [],
   "source": [
    "lora_config = LoraConfig(\n",
    "    task_type= \"FEATURE_EXTRACTION\"\n",
    ")"
   ]
  },
  {
   "cell_type": "code",
   "execution_count": 20,
   "id": "34203b7d",
   "metadata": {
    "execution": {
     "iopub.execute_input": "2025-02-15T04:18:05.647730Z",
     "iopub.status.busy": "2025-02-15T04:18:05.647488Z",
     "iopub.status.idle": "2025-02-15T04:18:05.678402Z",
     "shell.execute_reply": "2025-02-15T04:18:05.678011Z"
    },
    "papermill": {
     "duration": 0.036231,
     "end_time": "2025-02-15T04:18:05.679183",
     "exception": false,
     "start_time": "2025-02-15T04:18:05.642952",
     "status": "completed"
    },
    "tags": []
   },
   "outputs": [],
   "source": [
    "lora_model = get_peft_model(model, lora_config)"
   ]
  },
  {
   "cell_type": "code",
   "execution_count": 21,
   "id": "651bb23b",
   "metadata": {
    "execution": {
     "iopub.execute_input": "2025-02-15T04:18:05.688699Z",
     "iopub.status.busy": "2025-02-15T04:18:05.688450Z",
     "iopub.status.idle": "2025-02-15T04:18:05.690642Z",
     "shell.execute_reply": "2025-02-15T04:18:05.690294Z"
    },
    "papermill": {
     "duration": 0.007437,
     "end_time": "2025-02-15T04:18:05.691231",
     "exception": false,
     "start_time": "2025-02-15T04:18:05.683794",
     "status": "completed"
    },
    "tags": []
   },
   "outputs": [],
   "source": [
    "import torch"
   ]
  },
  {
   "cell_type": "code",
   "execution_count": 22,
   "id": "884aa1e0",
   "metadata": {
    "execution": {
     "iopub.execute_input": "2025-02-15T04:18:05.700368Z",
     "iopub.status.busy": "2025-02-15T04:18:05.700152Z",
     "iopub.status.idle": "2025-02-15T04:18:05.702881Z",
     "shell.execute_reply": "2025-02-15T04:18:05.702510Z"
    },
    "papermill": {
     "duration": 0.007918,
     "end_time": "2025-02-15T04:18:05.703443",
     "exception": false,
     "start_time": "2025-02-15T04:18:05.695525",
     "status": "completed"
    },
    "tags": []
   },
   "outputs": [],
   "source": [
    "def lorentzian_distance(x, y):\n",
    "    \n",
    "    dot_product = torch.sum(x * y, dim=-1)\n",
    "    norm_x = torch.norm(x, dim=-1)\n",
    "    norm_y = torch.norm(y, dim=-1)\n",
    "    \n",
    "    distance = torch.acosh(-dot_product + torch.sqrt((1 + norm_x**2) * (1 + norm_y**2)))\n",
    "    return distance"
   ]
  },
  {
   "cell_type": "code",
   "execution_count": 23,
   "id": "51ee32c1",
   "metadata": {
    "execution": {
     "iopub.execute_input": "2025-02-15T04:18:05.712727Z",
     "iopub.status.busy": "2025-02-15T04:18:05.712469Z",
     "iopub.status.idle": "2025-02-15T04:18:05.715418Z",
     "shell.execute_reply": "2025-02-15T04:18:05.715095Z"
    },
    "papermill": {
     "duration": 0.008136,
     "end_time": "2025-02-15T04:18:05.716052",
     "exception": false,
     "start_time": "2025-02-15T04:18:05.707916",
     "status": "completed"
    },
    "tags": []
   },
   "outputs": [],
   "source": [
    "def info_nce_loss(anchor_embedding, positive_embedding, negative_embedding, distance_fn):\n",
    "\n",
    "    pos_dist = distance_fn(anchor_embedding, positive_embedding)\n",
    "    neg_dist = torch.stack([distance_fn(anchor_embedding, neg) for neg in negative_embedding], dim=-1)\n",
    "    \n",
    "    logits = torch.cat([-pos_dist.unsqueeze(1), -neg_dist], dim=1)\n",
    "    labels = torch.zeros(logits.size(0), dtype=torch.long, device=logits.device)\n",
    "\n",
    "    loss = torch.nn.CrossEntropyLoss()(logits, labels)\n",
    "    return loss"
   ]
  },
  {
   "cell_type": "code",
   "execution_count": 24,
   "id": "c9cf8dc1",
   "metadata": {
    "execution": {
     "iopub.execute_input": "2025-02-15T04:18:05.725158Z",
     "iopub.status.busy": "2025-02-15T04:18:05.724943Z",
     "iopub.status.idle": "2025-02-15T04:18:05.727964Z",
     "shell.execute_reply": "2025-02-15T04:18:05.727596Z"
    },
    "papermill": {
     "duration": 0.008156,
     "end_time": "2025-02-15T04:18:05.728529",
     "exception": false,
     "start_time": "2025-02-15T04:18:05.720373",
     "status": "completed"
    },
    "tags": []
   },
   "outputs": [],
   "source": [
    "def exterior_angle(x_space, y_space, c):\n",
    "    norm_x_space = torch.norm(x_space, p=2, dim=-1)\n",
    "    norm_y_space = torch.norm(y_space, p=2, dim=-1)\n",
    "    x_time = torch.sqrt(1/c + norm_x_space**2)\n",
    "    y_time = torch.sqrt(1/c + norm_y_space**2)\n",
    "    dot_product = torch.sum(x_space * y_space, dim=-1)\n",
    "    lorentz_inner_product =  dot_product - x_time * y_time\n",
    "    numerator = y_time + x_time * c * lorentz_inner_product\n",
    "    denominator = norm_x_space * torch.sqrt((c * lorentz_inner_product)**2 - 1)\n",
    "    ext_angle = torch.acos(numerator / denominator)\n",
    "    return ext_angle"
   ]
  },
  {
   "cell_type": "code",
   "execution_count": 25,
   "id": "8ebd3ad5",
   "metadata": {
    "execution": {
     "iopub.execute_input": "2025-02-15T04:18:05.737860Z",
     "iopub.status.busy": "2025-02-15T04:18:05.737612Z",
     "iopub.status.idle": "2025-02-15T04:18:05.740356Z",
     "shell.execute_reply": "2025-02-15T04:18:05.740034Z"
    },
    "papermill": {
     "duration": 0.007902,
     "end_time": "2025-02-15T04:18:05.740975",
     "exception": false,
     "start_time": "2025-02-15T04:18:05.733073",
     "status": "completed"
    },
    "tags": []
   },
   "outputs": [],
   "source": [
    "def entailment_loss(x, y, c=1, K=0.1):\n",
    "    c = torch.tensor(c)\n",
    "    K = torch.tensor(K)\n",
    "    xspace = x\n",
    "    yspace = y\n",
    "    aperture = torch.asin(2 * K / (torch.sqrt(c) * torch.norm(xspace, p=2, dim=-1)))\n",
    "    \n",
    "    ext_angle = exterior_angle(xspace,yspace,c=c)\n",
    "    \n",
    "    loss = torch.max(torch.zeros_like(ext_angle), ext_angle - aperture)\n",
    "    return loss.mean()"
   ]
  },
  {
   "cell_type": "code",
   "execution_count": 26,
   "id": "1746d93a",
   "metadata": {
    "execution": {
     "iopub.execute_input": "2025-02-15T04:18:05.750187Z",
     "iopub.status.busy": "2025-02-15T04:18:05.749970Z",
     "iopub.status.idle": "2025-02-15T04:18:05.752838Z",
     "shell.execute_reply": "2025-02-15T04:18:05.752462Z"
    },
    "papermill": {
     "duration": 0.008123,
     "end_time": "2025-02-15T04:18:05.753411",
     "exception": false,
     "start_time": "2025-02-15T04:18:05.745288",
     "status": "completed"
    },
    "tags": []
   },
   "outputs": [],
   "source": [
    "def expm_o(v, c=1.0):\n",
    "    c = torch.tensor(c)\n",
    "    vspace = v\n",
    "    vnorm = torch.norm(v, p=2, dim=-1, keepdim=True)\n",
    "    xspace = torch.sinh(torch.sqrt(c) * vnorm) * vspace / (torch.sqrt(c) * vnorm)\n",
    "    batch_min = xspace.min(dim=1, keepdim=True).values\n",
    "    batch_max = xspace.max(dim=1, keepdim=True).values\n",
    "    xspace_scaled=(xspace - batch_min) / (batch_max - batch_min)\n",
    "    return xspace_scaled"
   ]
  },
  {
   "cell_type": "code",
   "execution_count": 27,
   "id": "44b4eb8a",
   "metadata": {
    "execution": {
     "iopub.execute_input": "2025-02-15T04:18:05.762756Z",
     "iopub.status.busy": "2025-02-15T04:18:05.762518Z",
     "iopub.status.idle": "2025-02-15T04:18:05.765810Z",
     "shell.execute_reply": "2025-02-15T04:18:05.765472Z"
    },
    "papermill": {
     "duration": 0.008533,
     "end_time": "2025-02-15T04:18:05.766407",
     "exception": false,
     "start_time": "2025-02-15T04:18:05.757874",
     "status": "completed"
    },
    "tags": []
   },
   "outputs": [],
   "source": [
    "optimizer = torch.optim.AdamW(lora_model.parameters(), lr=5e-5)"
   ]
  },
  {
   "cell_type": "code",
   "execution_count": 28,
   "id": "c4457884",
   "metadata": {
    "execution": {
     "iopub.execute_input": "2025-02-15T04:18:05.775716Z",
     "iopub.status.busy": "2025-02-15T04:18:05.775504Z",
     "iopub.status.idle": "2025-02-15T04:18:05.777452Z",
     "shell.execute_reply": "2025-02-15T04:18:05.777140Z"
    },
    "papermill": {
     "duration": 0.007244,
     "end_time": "2025-02-15T04:18:05.778110",
     "exception": false,
     "start_time": "2025-02-15T04:18:05.770866",
     "status": "completed"
    },
    "tags": []
   },
   "outputs": [],
   "source": [
    "num_epochs=3"
   ]
  },
  {
   "cell_type": "code",
   "execution_count": 29,
   "id": "789fd505",
   "metadata": {
    "execution": {
     "iopub.execute_input": "2025-02-15T04:18:05.787513Z",
     "iopub.status.busy": "2025-02-15T04:18:05.787302Z",
     "iopub.status.idle": "2025-02-15T04:18:06.550083Z",
     "shell.execute_reply": "2025-02-15T04:18:06.549687Z"
    },
    "papermill": {
     "duration": 0.76814,
     "end_time": "2025-02-15T04:18:06.550724",
     "exception": false,
     "start_time": "2025-02-15T04:18:05.782584",
     "status": "completed"
    },
    "tags": []
   },
   "outputs": [],
   "source": [
    "device = torch.device('cuda' if torch.cuda.is_available() else 'cpu')"
   ]
  },
  {
   "cell_type": "code",
   "execution_count": 30,
   "id": "17678c89",
   "metadata": {
    "execution": {
     "iopub.execute_input": "2025-02-15T04:18:06.560641Z",
     "iopub.status.busy": "2025-02-15T04:18:06.560403Z",
     "iopub.status.idle": "2025-02-15T04:18:06.563499Z",
     "shell.execute_reply": "2025-02-15T04:18:06.563146Z"
    },
    "papermill": {
     "duration": 0.00846,
     "end_time": "2025-02-15T04:18:06.564083",
     "exception": false,
     "start_time": "2025-02-15T04:18:06.555623",
     "status": "completed"
    },
    "tags": []
   },
   "outputs": [
    {
     "data": {
      "text/plain": [
       "device(type='cuda')"
      ]
     },
     "execution_count": 30,
     "metadata": {},
     "output_type": "execute_result"
    }
   ],
   "source": [
    "device"
   ]
  },
  {
   "cell_type": "code",
   "execution_count": 31,
   "id": "ed980413",
   "metadata": {
    "execution": {
     "iopub.execute_input": "2025-02-15T04:18:06.573613Z",
     "iopub.status.busy": "2025-02-15T04:18:06.573400Z",
     "iopub.status.idle": "2025-02-15T04:18:07.416654Z",
     "shell.execute_reply": "2025-02-15T04:18:07.416252Z"
    },
    "papermill": {
     "duration": 0.8489,
     "end_time": "2025-02-15T04:18:07.417550",
     "exception": false,
     "start_time": "2025-02-15T04:18:06.568650",
     "status": "completed"
    },
    "tags": []
   },
   "outputs": [],
   "source": [
    "lora_model = lora_model.to(device)"
   ]
  },
  {
   "cell_type": "code",
   "execution_count": 32,
   "id": "cac853c8",
   "metadata": {
    "execution": {
     "iopub.execute_input": "2025-02-15T04:18:07.427735Z",
     "iopub.status.busy": "2025-02-15T04:18:07.427491Z",
     "iopub.status.idle": "2025-02-15T04:18:10.964295Z",
     "shell.execute_reply": "2025-02-15T04:18:10.963946Z"
    },
    "papermill": {
     "duration": 3.542607,
     "end_time": "2025-02-15T04:18:10.965146",
     "exception": false,
     "start_time": "2025-02-15T04:18:07.422539",
     "status": "completed"
    },
    "tags": []
   },
   "outputs": [],
   "source": [
    "dataset_val = load_dataset('ms_marco', 'v2.1', split='validation')"
   ]
  },
  {
   "cell_type": "code",
   "execution_count": 33,
   "id": "40070442",
   "metadata": {
    "execution": {
     "iopub.execute_input": "2025-02-15T04:18:10.977316Z",
     "iopub.status.busy": "2025-02-15T04:18:10.977076Z",
     "iopub.status.idle": "2025-02-15T04:18:10.983006Z",
     "shell.execute_reply": "2025-02-15T04:18:10.982678Z"
    },
    "papermill": {
     "duration": 0.011642,
     "end_time": "2025-02-15T04:18:10.983666",
     "exception": false,
     "start_time": "2025-02-15T04:18:10.972024",
     "status": "completed"
    },
    "tags": []
   },
   "outputs": [],
   "source": [
    "processed_data_val = dataset_val.map(preprocess, remove_columns=dataset_val.column_names)"
   ]
  },
  {
   "cell_type": "code",
   "execution_count": 34,
   "id": "9ced91a0",
   "metadata": {
    "execution": {
     "iopub.execute_input": "2025-02-15T04:18:10.993648Z",
     "iopub.status.busy": "2025-02-15T04:18:10.993417Z",
     "iopub.status.idle": "2025-02-15T04:18:10.997951Z",
     "shell.execute_reply": "2025-02-15T04:18:10.997612Z"
    },
    "papermill": {
     "duration": 0.010032,
     "end_time": "2025-02-15T04:18:10.998551",
     "exception": false,
     "start_time": "2025-02-15T04:18:10.988519",
     "status": "completed"
    },
    "tags": []
   },
   "outputs": [],
   "source": [
    "processed_data_val = processed_data_val.filter(lambda x: x['query'] is not None and x['positive'] is not None)"
   ]
  },
  {
   "cell_type": "code",
   "execution_count": 35,
   "id": "d32e4971",
   "metadata": {
    "execution": {
     "iopub.execute_input": "2025-02-15T04:18:11.008471Z",
     "iopub.status.busy": "2025-02-15T04:18:11.008255Z",
     "iopub.status.idle": "2025-02-15T04:18:14.914061Z",
     "shell.execute_reply": "2025-02-15T04:18:14.913379Z"
    },
    "papermill": {
     "duration": 3.911689,
     "end_time": "2025-02-15T04:18:14.915056",
     "exception": false,
     "start_time": "2025-02-15T04:18:11.003367",
     "status": "completed"
    },
    "tags": []
   },
   "outputs": [],
   "source": [
    "contrastive_pairs_val = []\n",
    "for item in processed_data_val:\n",
    "    query = item[\"query\"]\n",
    "    positive = item[\"positive\"]\n",
    "    negatives = item[\"negatives\"]\n",
    "    contrastive_pairs_val.append({\n",
    "        \"anchor\": query,\n",
    "        \"positive\": positive,\n",
    "        \"negatives\": negatives\n",
    "    })"
   ]
  },
  {
   "cell_type": "code",
   "execution_count": 36,
   "id": "8330fbe3",
   "metadata": {
    "execution": {
     "iopub.execute_input": "2025-02-15T04:18:14.930562Z",
     "iopub.status.busy": "2025-02-15T04:18:14.930360Z",
     "iopub.status.idle": "2025-02-15T04:18:14.933151Z",
     "shell.execute_reply": "2025-02-15T04:18:14.932816Z"
    },
    "papermill": {
     "duration": 0.009029,
     "end_time": "2025-02-15T04:18:14.933768",
     "exception": false,
     "start_time": "2025-02-15T04:18:14.924739",
     "status": "completed"
    },
    "tags": []
   },
   "outputs": [],
   "source": [
    "contrastive_dataset_val = ContrastiveDataset(contrastive_pairs_val)"
   ]
  },
  {
   "cell_type": "code",
   "execution_count": 37,
   "id": "2e8eaff2",
   "metadata": {
    "execution": {
     "iopub.execute_input": "2025-02-15T04:18:14.943633Z",
     "iopub.status.busy": "2025-02-15T04:18:14.943413Z",
     "iopub.status.idle": "2025-02-15T04:18:14.946125Z",
     "shell.execute_reply": "2025-02-15T04:18:14.945800Z"
    },
    "papermill": {
     "duration": 0.008188,
     "end_time": "2025-02-15T04:18:14.946695",
     "exception": false,
     "start_time": "2025-02-15T04:18:14.938507",
     "status": "completed"
    },
    "tags": []
   },
   "outputs": [],
   "source": [
    "data_loader_val = DataLoader(contrastive_dataset_val, batch_size=32, shuffle=True)"
   ]
  },
  {
   "cell_type": "code",
   "execution_count": 38,
   "id": "148ac925",
   "metadata": {
    "execution": {
     "iopub.execute_input": "2025-02-15T04:18:14.956525Z",
     "iopub.status.busy": "2025-02-15T04:18:14.956311Z",
     "iopub.status.idle": "2025-02-15T04:18:14.961104Z",
     "shell.execute_reply": "2025-02-15T04:18:14.960774Z"
    },
    "papermill": {
     "duration": 0.010385,
     "end_time": "2025-02-15T04:18:14.961761",
     "exception": false,
     "start_time": "2025-02-15T04:18:14.951376",
     "status": "completed"
    },
    "tags": []
   },
   "outputs": [],
   "source": [
    "def evaluate_mrr(model1, data_loader_val, distance_fn):\n",
    "    model1.eval()\n",
    "    \n",
    "    total_rr = 0.0\n",
    "    num_queries = 0\n",
    "\n",
    "    with torch.no_grad():\n",
    "        for batch in data_loader_val:\n",
    "            anchor_text = batch[0]\n",
    "            positive_text = batch[1]\n",
    "            negative_texts = batch[2]\n",
    "\n",
    "            anchor_input = tokenizer(anchor_text, return_tensors='pt', padding=True, truncation=True, max_length=512).to(device)\n",
    "            positive_input = tokenizer(positive_text, return_tensors='pt', padding=True, truncation=True, max_length=512).to(device)\n",
    "\n",
    "            anchor_embedding = expm_o(model1(**anchor_input).last_hidden_state[:, 0, :])\n",
    "            positive_embedding = expm_o(model1(**positive_input).last_hidden_state[:, 0, :])\n",
    "            negative_embedding = [expm_o(model1(**tokenizer(neg, return_tensors='pt', padding=True, truncation=True, max_length=512).to(device)).last_hidden_state[:, 0, :]) for neg in negative_texts]\n",
    "\n",
    "            pos_dist = distance_fn(anchor_embedding, positive_embedding)\n",
    "            neg_dist = torch.stack([distance_fn(anchor_embedding, neg) for neg in negative_embedding], dim=-1)\n",
    "            all_similarities=torch.cat([-pos_dist.unsqueeze(1), -neg_dist], dim=1)\n",
    "\n",
    "            sorted_similarities, sorted_indices = torch.sort(all_similarities, dim=1, descending=True)\n",
    "\n",
    "            # Find the rank of the first relevant (positive) document\n",
    "            positive_rank = (sorted_indices == 0).nonzero(as_tuple=True)[1] + 1  # +1 to make rank 1-based\n",
    "            total_rr += torch.sum(1.0 / positive_rank.float()).item()  # Reciprocal rank\n",
    "            num_queries += len(positive_rank)\n",
    "            \n",
    "    mrr = total_rr / num_queries\n",
    "    return mrr"
   ]
  },
  {
   "cell_type": "code",
   "execution_count": 39,
   "id": "68d32070",
   "metadata": {
    "execution": {
     "iopub.execute_input": "2025-02-15T04:18:14.971756Z",
     "iopub.status.busy": "2025-02-15T04:18:14.971540Z",
     "iopub.status.idle": "2025-02-15T04:18:14.973660Z",
     "shell.execute_reply": "2025-02-15T04:18:14.973336Z"
    },
    "papermill": {
     "duration": 0.007783,
     "end_time": "2025-02-15T04:18:14.974254",
     "exception": false,
     "start_time": "2025-02-15T04:18:14.966471",
     "status": "completed"
    },
    "tags": []
   },
   "outputs": [],
   "source": [
    "import os\n",
    "save_dir =\"/dss/dsshome1/07/ra65bex2/srawat/v2/0.9hyperbolic\"\n",
    "import time\n",
    "epoch_metrics = []"
   ]
  },
  {
   "cell_type": "code",
   "execution_count": 40,
   "id": "44d8971a",
   "metadata": {
    "execution": {
     "iopub.execute_input": "2025-02-15T04:18:14.984314Z",
     "iopub.status.busy": "2025-02-15T04:18:14.984080Z",
     "iopub.status.idle": "2025-02-15T15:09:09.226082Z",
     "shell.execute_reply": "2025-02-15T15:09:09.225349Z"
    },
    "papermill": {
     "duration": 39054.255682,
     "end_time": "2025-02-15T15:09:09.234753",
     "exception": false,
     "start_time": "2025-02-15T04:18:14.979071",
     "status": "completed"
    },
    "tags": []
   },
   "outputs": [
    {
     "name": "stdout",
     "output_type": "stream",
     "text": [
      "EPOCH 1:\n",
      "Checkpoint saved: /dss/dsshome1/07/ra65bex2/srawat/v2/0.9hyperbolic\n",
      "Epoch 1/3, Loss: 2.760899182690211\n",
      "Epoch 1/3, Contrastive Loss: 1.684578627177257\n",
      "Epoch 1/3, Entailment Loss: 1.1959117591510038\n"
     ]
    },
    {
     "name": "stdout",
     "output_type": "stream",
     "text": [
      "Mean Reciprocal Rank (MRR) for validation set: 0.6023\n",
      "Epoch 1 took 216.8313 minutes.\n",
      "\n",
      "\n"
     ]
    },
    {
     "name": "stdout",
     "output_type": "stream",
     "text": [
      "EPOCH 2:\n",
      "Checkpoint saved: /dss/dsshome1/07/ra65bex2/srawat/v2/0.9hyperbolic\n",
      "Epoch 2/3, Loss: 2.6072848108686593\n",
      "Epoch 2/3, Contrastive Loss: 1.6469639575221968\n",
      "Epoch 2/3, Entailment Loss: 1.0670231968312374\n"
     ]
    },
    {
     "name": "stdout",
     "output_type": "stream",
     "text": [
      "Mean Reciprocal Rank (MRR) for validation set: 0.6054\n",
      "Epoch 2 took 216.9775 minutes.\n",
      "\n",
      "\n"
     ]
    },
    {
     "name": "stdout",
     "output_type": "stream",
     "text": [
      "EPOCH 3:\n",
      "Checkpoint saved: /dss/dsshome1/07/ra65bex2/srawat/v2/0.9hyperbolic\n",
      "Epoch 3/3, Loss: 2.5721691094905013\n",
      "Epoch 3/3, Contrastive Loss: 1.6483976306071093\n",
      "Epoch 3/3, Entailment Loss: 1.0264127802815437\n"
     ]
    },
    {
     "name": "stdout",
     "output_type": "stream",
     "text": [
      "Mean Reciprocal Rank (MRR) for validation set: 0.6100\n",
      "Epoch 3 took 217.0951 minutes.\n",
      "\n",
      "\n"
     ]
    }
   ],
   "source": [
    "for epoch in range(num_epochs):\n",
    "    start_time = time.time()\n",
    "    lora_model.train()\n",
    "\n",
    "    total_loss = 0.0\n",
    "    entailment_loss_total=0.0\n",
    "    contrastive_loss_total=0.0\n",
    "    for batch in data_loader_train:\n",
    "\n",
    "        anchor_texts = batch[0]\n",
    "        positive_texts = batch[1]\n",
    "        negative_texts = batch[2]\n",
    "\n",
    "        anchor_inputs = tokenizer(anchor_texts, return_tensors='pt', padding=True, truncation=True, max_length=512).to(device)\n",
    "        positive_inputs = tokenizer(positive_texts, return_tensors='pt', padding=True, truncation=True, max_length=512).to(device)\n",
    "    \n",
    "        anchor_embedding = expm_o(lora_model(**anchor_inputs).last_hidden_state[:, 0, :])\n",
    "        positive_embedding = expm_o(lora_model(**positive_inputs).last_hidden_state[:, 0, :])\n",
    "        negative_embedding = [expm_o(lora_model(**tokenizer(neg, return_tensors='pt', padding=True, truncation=True, max_length=512).to(device)).last_hidden_state[:, 0, :]) for neg in negative_texts]\n",
    "\n",
    "        contrastive_loss_value = info_nce_loss(anchor_embedding, positive_embedding, negative_embedding, distance_fn=lorentzian_distance)\n",
    "        \n",
    "        entailment_loss_value = entailment_loss(anchor_embedding, positive_embedding)\n",
    "        \n",
    "        loss = contrastive_loss_value + 0.9*entailment_loss_value\n",
    "  \n",
    "        optimizer.zero_grad()\n",
    "        loss.backward()\n",
    "        optimizer.step()\n",
    "        \n",
    "        total_loss += loss.item()\n",
    "        entailment_loss_total+=entailment_loss_value.item()\n",
    "        contrastive_loss_total+=contrastive_loss_value.item()\n",
    "    save_path1 = os.path.join(save_dir, f\"hyperbolic_lora_checkpoint_epoch_{epoch+1}.pth\")\n",
    "    torch.save(lora_model, save_path1)\n",
    "    print(f\"EPOCH {epoch+1}:\")\n",
    "    print(f\"Checkpoint saved: {save_dir}\")\n",
    "    print(f\"Epoch {epoch+1}/{num_epochs}, Loss: {total_loss / len(data_loader_train)}\")\n",
    "    print(f\"Epoch {epoch+1}/{num_epochs}, Contrastive Loss: {contrastive_loss_total / len(data_loader_train)}\")\n",
    "    print(f\"Epoch {epoch+1}/{num_epochs}, Entailment Loss: {entailment_loss_total / len(data_loader_train)}\")\n",
    "    mrr_validation = evaluate_mrr(model1=lora_model, data_loader_val=data_loader_val,distance_fn=lorentzian_distance)\n",
    "    #mrr_train = evaluate_mrr(lora_model, data_loader_train, lorentzian_distance)\n",
    "    #print(f\"Mean Reciprocal Rank (MRR) for training set: {mrr_train:.4f}\")\n",
    "    print(f\"Mean Reciprocal Rank (MRR) for validation set: {mrr_validation:.4f}\")\n",
    "    end_time = time.time()\n",
    "    print(f\"Epoch {epoch+1} took {(end_time - start_time) / 60:.4f} minutes.\")\n",
    "    print(f\"\\n\")\n",
    "    epoch_metrics.append({\n",
    "        'epoch': epoch + 1,\n",
    "        'training_loss': total_loss / len(data_loader_train),\n",
    "        'Contrastive_loss': contrastive_loss_total / len(data_loader_train),\n",
    "        'Entailment_loss': entailment_loss_total / len(data_loader_train),\n",
    "        'mrr_validation': mrr_validation,\n",
    "        'time_taken_minutes': (end_time - start_time) / 60\n",
    "    })"
   ]
  },
  {
   "cell_type": "code",
   "execution_count": 41,
   "id": "b9c44d6d",
   "metadata": {
    "execution": {
     "iopub.execute_input": "2025-02-15T15:09:09.249986Z",
     "iopub.status.busy": "2025-02-15T15:09:09.249527Z",
     "iopub.status.idle": "2025-02-15T15:09:09.253504Z",
     "shell.execute_reply": "2025-02-15T15:09:09.253035Z"
    },
    "papermill": {
     "duration": 0.011038,
     "end_time": "2025-02-15T15:09:09.254189",
     "exception": false,
     "start_time": "2025-02-15T15:09:09.243151",
     "status": "completed"
    },
    "tags": []
   },
   "outputs": [],
   "source": [
    "import json\n",
    "with open(save_dir + '/hyperbolic_epoch_metrics.json', 'w') as f:\n",
    "    json.dump(epoch_metrics, f)"
   ]
  },
  {
   "cell_type": "code",
   "execution_count": null,
   "id": "22b4b9e1",
   "metadata": {
    "papermill": {
     "duration": 0.005287,
     "end_time": "2025-02-15T15:09:09.264906",
     "exception": false,
     "start_time": "2025-02-15T15:09:09.259619",
     "status": "completed"
    },
    "tags": []
   },
   "outputs": [],
   "source": []
  }
 ],
 "metadata": {
  "kernelspec": {
   "display_name": "Python 3 (ipykernel)",
   "language": "python",
   "name": "python3"
  },
  "language_info": {
   "codemirror_mode": {
    "name": "ipython",
    "version": 3
   },
   "file_extension": ".py",
   "mimetype": "text/x-python",
   "name": "python",
   "nbconvert_exporter": "python",
   "pygments_lexer": "ipython3",
   "version": "3.10.12"
  },
  "papermill": {
   "default_parameters": {},
   "duration": 39125.035218,
   "end_time": "2025-02-15T15:09:12.388241",
   "environment_variables": {},
   "exception": null,
   "input_path": "0.9hyperbolic.ipynb",
   "output_path": "0.9hyperbolic_output.ipynb",
   "parameters": {},
   "start_time": "2025-02-15T04:17:07.353023",
   "version": "2.6.0"
  }
 },
 "nbformat": 4,
 "nbformat_minor": 5
}
