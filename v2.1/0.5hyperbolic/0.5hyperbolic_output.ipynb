{
 "cells": [
  {
   "cell_type": "code",
   "execution_count": 1,
   "id": "8a7efd93",
   "metadata": {
    "execution": {
     "iopub.execute_input": "2025-02-15T04:17:09.197019Z",
     "iopub.status.busy": "2025-02-15T04:17:09.196759Z",
     "iopub.status.idle": "2025-02-15T04:17:12.098708Z",
     "shell.execute_reply": "2025-02-15T04:17:12.098251Z"
    },
    "papermill": {
     "duration": 2.907654,
     "end_time": "2025-02-15T04:17:12.099590",
     "exception": false,
     "start_time": "2025-02-15T04:17:09.191936",
     "status": "completed"
    },
    "tags": []
   },
   "outputs": [],
   "source": [
    "from datasets import load_dataset"
   ]
  },
  {
   "cell_type": "code",
   "execution_count": 2,
   "id": "ef69269a",
   "metadata": {
    "execution": {
     "iopub.execute_input": "2025-02-15T04:17:12.108202Z",
     "iopub.status.busy": "2025-02-15T04:17:12.107956Z",
     "iopub.status.idle": "2025-02-15T04:17:16.751856Z",
     "shell.execute_reply": "2025-02-15T04:17:16.751408Z"
    },
    "papermill": {
     "duration": 4.648621,
     "end_time": "2025-02-15T04:17:16.752613",
     "exception": false,
     "start_time": "2025-02-15T04:17:12.103992",
     "status": "completed"
    },
    "tags": []
   },
   "outputs": [],
   "source": [
    "dataset = load_dataset('ms_marco', 'v2.1')"
   ]
  },
  {
   "cell_type": "code",
   "execution_count": 3,
   "id": "c4f3514d",
   "metadata": {
    "execution": {
     "iopub.execute_input": "2025-02-15T04:17:16.762804Z",
     "iopub.status.busy": "2025-02-15T04:17:16.762550Z",
     "iopub.status.idle": "2025-02-15T04:17:16.766881Z",
     "shell.execute_reply": "2025-02-15T04:17:16.766536Z"
    },
    "papermill": {
     "duration": 0.008867,
     "end_time": "2025-02-15T04:17:16.767441",
     "exception": false,
     "start_time": "2025-02-15T04:17:16.758574",
     "status": "completed"
    },
    "tags": []
   },
   "outputs": [
    {
     "data": {
      "text/plain": [
       "DatasetDict({\n",
       "    validation: Dataset({\n",
       "        features: ['answers', 'passages', 'query', 'query_id', 'query_type', 'wellFormedAnswers'],\n",
       "        num_rows: 101093\n",
       "    })\n",
       "    train: Dataset({\n",
       "        features: ['answers', 'passages', 'query', 'query_id', 'query_type', 'wellFormedAnswers'],\n",
       "        num_rows: 808731\n",
       "    })\n",
       "    test: Dataset({\n",
       "        features: ['answers', 'passages', 'query', 'query_id', 'query_type', 'wellFormedAnswers'],\n",
       "        num_rows: 101092\n",
       "    })\n",
       "})"
      ]
     },
     "execution_count": 3,
     "metadata": {},
     "output_type": "execute_result"
    }
   ],
   "source": [
    "dataset"
   ]
  },
  {
   "cell_type": "code",
   "execution_count": 4,
   "id": "8f92bb4a",
   "metadata": {
    "execution": {
     "iopub.execute_input": "2025-02-15T04:17:16.776115Z",
     "iopub.status.busy": "2025-02-15T04:17:16.775823Z",
     "iopub.status.idle": "2025-02-15T04:17:20.027456Z",
     "shell.execute_reply": "2025-02-15T04:17:20.027015Z"
    },
    "papermill": {
     "duration": 3.256833,
     "end_time": "2025-02-15T04:17:20.028619",
     "exception": false,
     "start_time": "2025-02-15T04:17:16.771786",
     "status": "completed"
    },
    "tags": []
   },
   "outputs": [],
   "source": [
    "dataset_train = load_dataset('ms_marco', 'v2.1', split='train')"
   ]
  },
  {
   "cell_type": "code",
   "execution_count": 5,
   "id": "ad5a68bc",
   "metadata": {
    "execution": {
     "iopub.execute_input": "2025-02-15T04:17:20.039294Z",
     "iopub.status.busy": "2025-02-15T04:17:20.038839Z",
     "iopub.status.idle": "2025-02-15T04:17:20.042049Z",
     "shell.execute_reply": "2025-02-15T04:17:20.041711Z"
    },
    "papermill": {
     "duration": 0.007828,
     "end_time": "2025-02-15T04:17:20.042600",
     "exception": false,
     "start_time": "2025-02-15T04:17:20.034772",
     "status": "completed"
    },
    "tags": []
   },
   "outputs": [
    {
     "data": {
      "text/plain": [
       "Dataset({\n",
       "    features: ['answers', 'passages', 'query', 'query_id', 'query_type', 'wellFormedAnswers'],\n",
       "    num_rows: 808731\n",
       "})"
      ]
     },
     "execution_count": 5,
     "metadata": {},
     "output_type": "execute_result"
    }
   ],
   "source": [
    "dataset_train"
   ]
  },
  {
   "cell_type": "code",
   "execution_count": 6,
   "id": "4720ce08",
   "metadata": {
    "execution": {
     "iopub.execute_input": "2025-02-15T04:17:20.050711Z",
     "iopub.status.busy": "2025-02-15T04:17:20.050389Z",
     "iopub.status.idle": "2025-02-15T04:17:20.053601Z",
     "shell.execute_reply": "2025-02-15T04:17:20.053254Z"
    },
    "papermill": {
     "duration": 0.007788,
     "end_time": "2025-02-15T04:17:20.054144",
     "exception": false,
     "start_time": "2025-02-15T04:17:20.046356",
     "status": "completed"
    },
    "tags": []
   },
   "outputs": [],
   "source": [
    "def preprocess(example):\n",
    "    positive_passages=[]\n",
    "    for p in enumerate(example['passages'][\"is_selected\"]):\n",
    "        if p[1]==1:\n",
    "            positive_passages.append(example[\"passages\"][\"passage_text\"][p[0]])\n",
    "    negative_passages = []\n",
    "    for p in enumerate(example['passages'][\"is_selected\"]):\n",
    "        if p[1]==0:\n",
    "            negative_passages.append(example[\"passages\"][\"passage_text\"][p[0]])\n",
    "    if (len(positive_passages)>0 and len(negative_passages)>=5):\n",
    "        positive = positive_passages[0]\n",
    "        negatives = negative_passages[:5]\n",
    "        return {\n",
    "            \"query\": example[\"query\"],\n",
    "            \"positive\": positive,\n",
    "            \"negatives\": negatives\n",
    "        }\n",
    "    else:\n",
    "        return {\"query\": None, \"positive\": None, \"negatives\": None}"
   ]
  },
  {
   "cell_type": "code",
   "execution_count": 7,
   "id": "a09ded31",
   "metadata": {
    "execution": {
     "iopub.execute_input": "2025-02-15T04:17:20.062430Z",
     "iopub.status.busy": "2025-02-15T04:17:20.062160Z",
     "iopub.status.idle": "2025-02-15T04:17:20.076373Z",
     "shell.execute_reply": "2025-02-15T04:17:20.076011Z"
    },
    "papermill": {
     "duration": 0.018926,
     "end_time": "2025-02-15T04:17:20.076965",
     "exception": false,
     "start_time": "2025-02-15T04:17:20.058039",
     "status": "completed"
    },
    "tags": []
   },
   "outputs": [],
   "source": [
    "processed_data_train = dataset_train.map(preprocess, remove_columns=dataset_train.column_names)"
   ]
  },
  {
   "cell_type": "code",
   "execution_count": 8,
   "id": "9e7c1077",
   "metadata": {
    "execution": {
     "iopub.execute_input": "2025-02-15T04:17:20.084914Z",
     "iopub.status.busy": "2025-02-15T04:17:20.084770Z",
     "iopub.status.idle": "2025-02-15T04:17:20.093932Z",
     "shell.execute_reply": "2025-02-15T04:17:20.093590Z"
    },
    "papermill": {
     "duration": 0.013794,
     "end_time": "2025-02-15T04:17:20.094536",
     "exception": false,
     "start_time": "2025-02-15T04:17:20.080742",
     "status": "completed"
    },
    "tags": []
   },
   "outputs": [],
   "source": [
    "processed_data_train = processed_data_train.filter(lambda x: x['query'] is not None and x['positive'] is not None)"
   ]
  },
  {
   "cell_type": "code",
   "execution_count": 9,
   "id": "09f6c22f",
   "metadata": {
    "execution": {
     "iopub.execute_input": "2025-02-15T04:17:20.102793Z",
     "iopub.status.busy": "2025-02-15T04:17:20.102524Z",
     "iopub.status.idle": "2025-02-15T04:17:57.334690Z",
     "shell.execute_reply": "2025-02-15T04:17:57.334194Z"
    },
    "papermill": {
     "duration": 37.237267,
     "end_time": "2025-02-15T04:17:57.335690",
     "exception": false,
     "start_time": "2025-02-15T04:17:20.098423",
     "status": "completed"
    },
    "tags": []
   },
   "outputs": [],
   "source": [
    "contrastive_pairs_train = []\n",
    "for item in processed_data_train:\n",
    "    query = item[\"query\"]\n",
    "    positive = item[\"positive\"]\n",
    "    negatives = item[\"negatives\"]\n",
    "    contrastive_pairs_train.append({\n",
    "        \"anchor\": query,\n",
    "        \"positive\": positive,\n",
    "        \"negatives\": negatives\n",
    "    })"
   ]
  },
  {
   "cell_type": "code",
   "execution_count": 10,
   "id": "e041dd38",
   "metadata": {
    "execution": {
     "iopub.execute_input": "2025-02-15T04:17:57.350570Z",
     "iopub.status.busy": "2025-02-15T04:17:57.350391Z",
     "iopub.status.idle": "2025-02-15T04:17:57.353248Z",
     "shell.execute_reply": "2025-02-15T04:17:57.352907Z"
    },
    "papermill": {
     "duration": 0.007685,
     "end_time": "2025-02-15T04:17:57.353813",
     "exception": false,
     "start_time": "2025-02-15T04:17:57.346128",
     "status": "completed"
    },
    "tags": []
   },
   "outputs": [
    {
     "data": {
      "text/plain": [
       "502824"
      ]
     },
     "execution_count": 10,
     "metadata": {},
     "output_type": "execute_result"
    }
   ],
   "source": [
    "len(contrastive_pairs_train)"
   ]
  },
  {
   "cell_type": "code",
   "execution_count": 11,
   "id": "4b6f8085",
   "metadata": {
    "execution": {
     "iopub.execute_input": "2025-02-15T04:17:57.362400Z",
     "iopub.status.busy": "2025-02-15T04:17:57.362099Z",
     "iopub.status.idle": "2025-02-15T04:18:01.116357Z",
     "shell.execute_reply": "2025-02-15T04:18:01.115970Z"
    },
    "papermill": {
     "duration": 3.759425,
     "end_time": "2025-02-15T04:18:01.117231",
     "exception": false,
     "start_time": "2025-02-15T04:17:57.357806",
     "status": "completed"
    },
    "tags": []
   },
   "outputs": [],
   "source": [
    "from torch.utils.data import DataLoader"
   ]
  },
  {
   "cell_type": "code",
   "execution_count": 12,
   "id": "d07ceb68",
   "metadata": {
    "execution": {
     "iopub.execute_input": "2025-02-15T04:18:01.130106Z",
     "iopub.status.busy": "2025-02-15T04:18:01.129964Z",
     "iopub.status.idle": "2025-02-15T04:18:01.132732Z",
     "shell.execute_reply": "2025-02-15T04:18:01.132427Z"
    },
    "papermill": {
     "duration": 0.007699,
     "end_time": "2025-02-15T04:18:01.133317",
     "exception": false,
     "start_time": "2025-02-15T04:18:01.125618",
     "status": "completed"
    },
    "tags": []
   },
   "outputs": [],
   "source": [
    "class ContrastiveDataset:\n",
    "    def __init__(self, pairs):\n",
    "        self.pairs = pairs\n",
    "\n",
    "    def __len__(self):\n",
    "        return len(self.pairs)\n",
    "\n",
    "    def __getitem__(self, idx):\n",
    "        item = self.pairs[idx]\n",
    "        return item[\"anchor\"], item[\"positive\"], item[\"negatives\"]"
   ]
  },
  {
   "cell_type": "code",
   "execution_count": 13,
   "id": "01dc8b60",
   "metadata": {
    "execution": {
     "iopub.execute_input": "2025-02-15T04:18:01.141738Z",
     "iopub.status.busy": "2025-02-15T04:18:01.141610Z",
     "iopub.status.idle": "2025-02-15T04:18:01.143510Z",
     "shell.execute_reply": "2025-02-15T04:18:01.143218Z"
    },
    "papermill": {
     "duration": 0.006697,
     "end_time": "2025-02-15T04:18:01.144070",
     "exception": false,
     "start_time": "2025-02-15T04:18:01.137373",
     "status": "completed"
    },
    "tags": []
   },
   "outputs": [],
   "source": [
    "contrastive_dataset_train = ContrastiveDataset(contrastive_pairs_train)"
   ]
  },
  {
   "cell_type": "code",
   "execution_count": 14,
   "id": "30aa2da5",
   "metadata": {
    "execution": {
     "iopub.execute_input": "2025-02-15T04:18:01.152765Z",
     "iopub.status.busy": "2025-02-15T04:18:01.152526Z",
     "iopub.status.idle": "2025-02-15T04:18:01.154872Z",
     "shell.execute_reply": "2025-02-15T04:18:01.154570Z"
    },
    "papermill": {
     "duration": 0.007329,
     "end_time": "2025-02-15T04:18:01.155412",
     "exception": false,
     "start_time": "2025-02-15T04:18:01.148083",
     "status": "completed"
    },
    "tags": []
   },
   "outputs": [],
   "source": [
    "data_loader_train = DataLoader(contrastive_dataset_train, batch_size=32, shuffle=True)"
   ]
  },
  {
   "cell_type": "code",
   "execution_count": 15,
   "id": "17f84297",
   "metadata": {
    "execution": {
     "iopub.execute_input": "2025-02-15T04:18:01.163850Z",
     "iopub.status.busy": "2025-02-15T04:18:01.163726Z",
     "iopub.status.idle": "2025-02-15T04:18:01.166198Z",
     "shell.execute_reply": "2025-02-15T04:18:01.165913Z"
    },
    "papermill": {
     "duration": 0.00727,
     "end_time": "2025-02-15T04:18:01.166755",
     "exception": false,
     "start_time": "2025-02-15T04:18:01.159485",
     "status": "completed"
    },
    "tags": []
   },
   "outputs": [
    {
     "data": {
      "text/plain": [
       "15714"
      ]
     },
     "execution_count": 15,
     "metadata": {},
     "output_type": "execute_result"
    }
   ],
   "source": [
    "len(data_loader_train)"
   ]
  },
  {
   "cell_type": "code",
   "execution_count": 16,
   "id": "ea0385cc",
   "metadata": {
    "execution": {
     "iopub.execute_input": "2025-02-15T04:18:01.175313Z",
     "iopub.status.busy": "2025-02-15T04:18:01.175188Z",
     "iopub.status.idle": "2025-02-15T04:18:04.865544Z",
     "shell.execute_reply": "2025-02-15T04:18:04.865131Z"
    },
    "papermill": {
     "duration": 3.695457,
     "end_time": "2025-02-15T04:18:04.866328",
     "exception": false,
     "start_time": "2025-02-15T04:18:01.170871",
     "status": "completed"
    },
    "tags": []
   },
   "outputs": [],
   "source": [
    "from transformers import AutoTokenizer, AutoModel\n",
    "tokenizer = AutoTokenizer.from_pretrained(\"bert-base-uncased\")"
   ]
  },
  {
   "cell_type": "code",
   "execution_count": 17,
   "id": "54e562b6",
   "metadata": {
    "execution": {
     "iopub.execute_input": "2025-02-15T04:18:04.875658Z",
     "iopub.status.busy": "2025-02-15T04:18:04.875410Z",
     "iopub.status.idle": "2025-02-15T04:18:05.441569Z",
     "shell.execute_reply": "2025-02-15T04:18:05.441176Z"
    },
    "papermill": {
     "duration": 0.571477,
     "end_time": "2025-02-15T04:18:05.442236",
     "exception": false,
     "start_time": "2025-02-15T04:18:04.870759",
     "status": "completed"
    },
    "tags": []
   },
   "outputs": [],
   "source": [
    "model = AutoModel.from_pretrained(\"bert-base-uncased\")"
   ]
  },
  {
   "cell_type": "code",
   "execution_count": 18,
   "id": "ca403376",
   "metadata": {
    "execution": {
     "iopub.execute_input": "2025-02-15T04:18:05.452788Z",
     "iopub.status.busy": "2025-02-15T04:18:05.452649Z",
     "iopub.status.idle": "2025-02-15T04:18:05.625353Z",
     "shell.execute_reply": "2025-02-15T04:18:05.624979Z"
    },
    "papermill": {
     "duration": 0.177782,
     "end_time": "2025-02-15T04:18:05.625996",
     "exception": false,
     "start_time": "2025-02-15T04:18:05.448214",
     "status": "completed"
    },
    "tags": []
   },
   "outputs": [],
   "source": [
    "from peft import LoraConfig, get_peft_model"
   ]
  },
  {
   "cell_type": "code",
   "execution_count": 19,
   "id": "5cb34dd7",
   "metadata": {
    "execution": {
     "iopub.execute_input": "2025-02-15T04:18:05.634820Z",
     "iopub.status.busy": "2025-02-15T04:18:05.634684Z",
     "iopub.status.idle": "2025-02-15T04:18:05.636645Z",
     "shell.execute_reply": "2025-02-15T04:18:05.636352Z"
    },
    "papermill": {
     "duration": 0.006955,
     "end_time": "2025-02-15T04:18:05.637215",
     "exception": false,
     "start_time": "2025-02-15T04:18:05.630260",
     "status": "completed"
    },
    "tags": []
   },
   "outputs": [],
   "source": [
    "lora_config = LoraConfig(\n",
    "    task_type= \"FEATURE_EXTRACTION\"\n",
    ")"
   ]
  },
  {
   "cell_type": "code",
   "execution_count": 20,
   "id": "48f23301",
   "metadata": {
    "execution": {
     "iopub.execute_input": "2025-02-15T04:18:05.645998Z",
     "iopub.status.busy": "2025-02-15T04:18:05.645871Z",
     "iopub.status.idle": "2025-02-15T04:18:05.668697Z",
     "shell.execute_reply": "2025-02-15T04:18:05.668382Z"
    },
    "papermill": {
     "duration": 0.027798,
     "end_time": "2025-02-15T04:18:05.669247",
     "exception": false,
     "start_time": "2025-02-15T04:18:05.641449",
     "status": "completed"
    },
    "tags": []
   },
   "outputs": [],
   "source": [
    "lora_model = get_peft_model(model, lora_config)"
   ]
  },
  {
   "cell_type": "code",
   "execution_count": 21,
   "id": "07669eff",
   "metadata": {
    "execution": {
     "iopub.execute_input": "2025-02-15T04:18:05.678129Z",
     "iopub.status.busy": "2025-02-15T04:18:05.677995Z",
     "iopub.status.idle": "2025-02-15T04:18:05.679906Z",
     "shell.execute_reply": "2025-02-15T04:18:05.679609Z"
    },
    "papermill": {
     "duration": 0.006954,
     "end_time": "2025-02-15T04:18:05.680430",
     "exception": false,
     "start_time": "2025-02-15T04:18:05.673476",
     "status": "completed"
    },
    "tags": []
   },
   "outputs": [],
   "source": [
    "import torch"
   ]
  },
  {
   "cell_type": "code",
   "execution_count": 22,
   "id": "8c1ddd9b",
   "metadata": {
    "execution": {
     "iopub.execute_input": "2025-02-15T04:18:05.689212Z",
     "iopub.status.busy": "2025-02-15T04:18:05.689086Z",
     "iopub.status.idle": "2025-02-15T04:18:05.691626Z",
     "shell.execute_reply": "2025-02-15T04:18:05.691340Z"
    },
    "papermill": {
     "duration": 0.007529,
     "end_time": "2025-02-15T04:18:05.692161",
     "exception": false,
     "start_time": "2025-02-15T04:18:05.684632",
     "status": "completed"
    },
    "tags": []
   },
   "outputs": [],
   "source": [
    "def lorentzian_distance(x, y):\n",
    "    \n",
    "    dot_product = torch.sum(x * y, dim=-1)\n",
    "    norm_x = torch.norm(x, dim=-1)\n",
    "    norm_y = torch.norm(y, dim=-1)\n",
    "    \n",
    "    distance = torch.acosh(-dot_product + torch.sqrt((1 + norm_x**2) * (1 + norm_y**2)))\n",
    "    return distance"
   ]
  },
  {
   "cell_type": "code",
   "execution_count": 23,
   "id": "a95470b7",
   "metadata": {
    "execution": {
     "iopub.execute_input": "2025-02-15T04:18:05.700986Z",
     "iopub.status.busy": "2025-02-15T04:18:05.700863Z",
     "iopub.status.idle": "2025-02-15T04:18:05.703441Z",
     "shell.execute_reply": "2025-02-15T04:18:05.703148Z"
    },
    "papermill": {
     "duration": 0.007566,
     "end_time": "2025-02-15T04:18:05.703975",
     "exception": false,
     "start_time": "2025-02-15T04:18:05.696409",
     "status": "completed"
    },
    "tags": []
   },
   "outputs": [],
   "source": [
    "def info_nce_loss(anchor_embedding, positive_embedding, negative_embedding, distance_fn):\n",
    "\n",
    "    pos_dist = distance_fn(anchor_embedding, positive_embedding)\n",
    "    neg_dist = torch.stack([distance_fn(anchor_embedding, neg) for neg in negative_embedding], dim=-1)\n",
    "    \n",
    "    logits = torch.cat([-pos_dist.unsqueeze(1), -neg_dist], dim=1)\n",
    "    labels = torch.zeros(logits.size(0), dtype=torch.long, device=logits.device)\n",
    "\n",
    "    loss = torch.nn.CrossEntropyLoss()(logits, labels)\n",
    "    return loss"
   ]
  },
  {
   "cell_type": "code",
   "execution_count": 24,
   "id": "5d19a737",
   "metadata": {
    "execution": {
     "iopub.execute_input": "2025-02-15T04:18:05.712923Z",
     "iopub.status.busy": "2025-02-15T04:18:05.712784Z",
     "iopub.status.idle": "2025-02-15T04:18:05.715443Z",
     "shell.execute_reply": "2025-02-15T04:18:05.715150Z"
    },
    "papermill": {
     "duration": 0.007657,
     "end_time": "2025-02-15T04:18:05.715947",
     "exception": false,
     "start_time": "2025-02-15T04:18:05.708290",
     "status": "completed"
    },
    "tags": []
   },
   "outputs": [],
   "source": [
    "def exterior_angle(x_space, y_space, c):\n",
    "    norm_x_space = torch.norm(x_space, p=2, dim=-1)\n",
    "    norm_y_space = torch.norm(y_space, p=2, dim=-1)\n",
    "    x_time = torch.sqrt(1/c + norm_x_space**2)\n",
    "    y_time = torch.sqrt(1/c + norm_y_space**2)\n",
    "    dot_product = torch.sum(x_space * y_space, dim=-1)\n",
    "    lorentz_inner_product =  dot_product - x_time * y_time\n",
    "    numerator = y_time + x_time * c * lorentz_inner_product\n",
    "    denominator = norm_x_space * torch.sqrt((c * lorentz_inner_product)**2 - 1)\n",
    "    ext_angle = torch.acos(numerator / denominator)\n",
    "    return ext_angle"
   ]
  },
  {
   "cell_type": "code",
   "execution_count": 25,
   "id": "ed7308ee",
   "metadata": {
    "execution": {
     "iopub.execute_input": "2025-02-15T04:18:05.724765Z",
     "iopub.status.busy": "2025-02-15T04:18:05.724643Z",
     "iopub.status.idle": "2025-02-15T04:18:05.727074Z",
     "shell.execute_reply": "2025-02-15T04:18:05.726790Z"
    },
    "papermill": {
     "duration": 0.007401,
     "end_time": "2025-02-15T04:18:05.727594",
     "exception": false,
     "start_time": "2025-02-15T04:18:05.720193",
     "status": "completed"
    },
    "tags": []
   },
   "outputs": [],
   "source": [
    "def entailment_loss(x, y, c=1, K=0.1):\n",
    "    c = torch.tensor(c)\n",
    "    K = torch.tensor(K)\n",
    "    xspace = x\n",
    "    yspace = y\n",
    "    aperture = torch.asin(2 * K / (torch.sqrt(c) * torch.norm(xspace, p=2, dim=-1)))\n",
    "    \n",
    "    ext_angle = exterior_angle(xspace,yspace,c=c)\n",
    "    \n",
    "    loss = torch.max(torch.zeros_like(ext_angle), ext_angle - aperture)\n",
    "    return loss.mean()"
   ]
  },
  {
   "cell_type": "code",
   "execution_count": 26,
   "id": "137b1b67",
   "metadata": {
    "execution": {
     "iopub.execute_input": "2025-02-15T04:18:05.736613Z",
     "iopub.status.busy": "2025-02-15T04:18:05.736492Z",
     "iopub.status.idle": "2025-02-15T04:18:05.738989Z",
     "shell.execute_reply": "2025-02-15T04:18:05.738703Z"
    },
    "papermill": {
     "duration": 0.007583,
     "end_time": "2025-02-15T04:18:05.739526",
     "exception": false,
     "start_time": "2025-02-15T04:18:05.731943",
     "status": "completed"
    },
    "tags": []
   },
   "outputs": [],
   "source": [
    "def expm_o(v, c=1.0):\n",
    "    c = torch.tensor(c)\n",
    "    vspace = v\n",
    "    vnorm = torch.norm(v, p=2, dim=-1, keepdim=True)\n",
    "    xspace = torch.sinh(torch.sqrt(c) * vnorm) * vspace / (torch.sqrt(c) * vnorm)\n",
    "    batch_min = xspace.min(dim=1, keepdim=True).values\n",
    "    batch_max = xspace.max(dim=1, keepdim=True).values\n",
    "    xspace_scaled=(xspace - batch_min) / (batch_max - batch_min)\n",
    "    return xspace_scaled"
   ]
  },
  {
   "cell_type": "code",
   "execution_count": 27,
   "id": "f338c6f6",
   "metadata": {
    "execution": {
     "iopub.execute_input": "2025-02-15T04:18:05.748605Z",
     "iopub.status.busy": "2025-02-15T04:18:05.748357Z",
     "iopub.status.idle": "2025-02-15T04:18:05.751058Z",
     "shell.execute_reply": "2025-02-15T04:18:05.750771Z"
    },
    "papermill": {
     "duration": 0.007753,
     "end_time": "2025-02-15T04:18:05.751584",
     "exception": false,
     "start_time": "2025-02-15T04:18:05.743831",
     "status": "completed"
    },
    "tags": []
   },
   "outputs": [],
   "source": [
    "optimizer = torch.optim.AdamW(lora_model.parameters(), lr=5e-5)"
   ]
  },
  {
   "cell_type": "code",
   "execution_count": 28,
   "id": "d7d1fdde",
   "metadata": {
    "execution": {
     "iopub.execute_input": "2025-02-15T04:18:05.761055Z",
     "iopub.status.busy": "2025-02-15T04:18:05.760662Z",
     "iopub.status.idle": "2025-02-15T04:18:05.762629Z",
     "shell.execute_reply": "2025-02-15T04:18:05.762351Z"
    },
    "papermill": {
     "duration": 0.007199,
     "end_time": "2025-02-15T04:18:05.763154",
     "exception": false,
     "start_time": "2025-02-15T04:18:05.755955",
     "status": "completed"
    },
    "tags": []
   },
   "outputs": [],
   "source": [
    "num_epochs=3"
   ]
  },
  {
   "cell_type": "code",
   "execution_count": 29,
   "id": "139f9073",
   "metadata": {
    "execution": {
     "iopub.execute_input": "2025-02-15T04:18:05.772372Z",
     "iopub.status.busy": "2025-02-15T04:18:05.772123Z",
     "iopub.status.idle": "2025-02-15T04:18:06.224818Z",
     "shell.execute_reply": "2025-02-15T04:18:06.224445Z"
    },
    "papermill": {
     "duration": 0.457874,
     "end_time": "2025-02-15T04:18:06.225387",
     "exception": false,
     "start_time": "2025-02-15T04:18:05.767513",
     "status": "completed"
    },
    "tags": []
   },
   "outputs": [],
   "source": [
    "device = torch.device('cuda' if torch.cuda.is_available() else 'cpu')"
   ]
  },
  {
   "cell_type": "code",
   "execution_count": 30,
   "id": "4c53d8e1",
   "metadata": {
    "execution": {
     "iopub.execute_input": "2025-02-15T04:18:06.234553Z",
     "iopub.status.busy": "2025-02-15T04:18:06.234422Z",
     "iopub.status.idle": "2025-02-15T04:18:06.237034Z",
     "shell.execute_reply": "2025-02-15T04:18:06.236747Z"
    },
    "papermill": {
     "duration": 0.007792,
     "end_time": "2025-02-15T04:18:06.237590",
     "exception": false,
     "start_time": "2025-02-15T04:18:06.229798",
     "status": "completed"
    },
    "tags": []
   },
   "outputs": [
    {
     "data": {
      "text/plain": [
       "device(type='cuda')"
      ]
     },
     "execution_count": 30,
     "metadata": {},
     "output_type": "execute_result"
    }
   ],
   "source": [
    "device"
   ]
  },
  {
   "cell_type": "code",
   "execution_count": 31,
   "id": "83f41c17",
   "metadata": {
    "execution": {
     "iopub.execute_input": "2025-02-15T04:18:06.246759Z",
     "iopub.status.busy": "2025-02-15T04:18:06.246636Z",
     "iopub.status.idle": "2025-02-15T04:18:07.364479Z",
     "shell.execute_reply": "2025-02-15T04:18:07.363879Z"
    },
    "papermill": {
     "duration": 1.123203,
     "end_time": "2025-02-15T04:18:07.365213",
     "exception": false,
     "start_time": "2025-02-15T04:18:06.242010",
     "status": "completed"
    },
    "tags": []
   },
   "outputs": [],
   "source": [
    "lora_model = lora_model.to(device)"
   ]
  },
  {
   "cell_type": "code",
   "execution_count": 32,
   "id": "fbc79ac7",
   "metadata": {
    "execution": {
     "iopub.execute_input": "2025-02-15T04:18:07.375628Z",
     "iopub.status.busy": "2025-02-15T04:18:07.375023Z",
     "iopub.status.idle": "2025-02-15T04:18:10.768226Z",
     "shell.execute_reply": "2025-02-15T04:18:10.767877Z"
    },
    "papermill": {
     "duration": 3.399085,
     "end_time": "2025-02-15T04:18:10.768955",
     "exception": false,
     "start_time": "2025-02-15T04:18:07.369870",
     "status": "completed"
    },
    "tags": []
   },
   "outputs": [],
   "source": [
    "dataset_val = load_dataset('ms_marco', 'v2.1', split='validation')"
   ]
  },
  {
   "cell_type": "code",
   "execution_count": 33,
   "id": "29540304",
   "metadata": {
    "execution": {
     "iopub.execute_input": "2025-02-15T04:18:10.780848Z",
     "iopub.status.busy": "2025-02-15T04:18:10.780370Z",
     "iopub.status.idle": "2025-02-15T04:18:10.786159Z",
     "shell.execute_reply": "2025-02-15T04:18:10.785857Z"
    },
    "papermill": {
     "duration": 0.011354,
     "end_time": "2025-02-15T04:18:10.786714",
     "exception": false,
     "start_time": "2025-02-15T04:18:10.775360",
     "status": "completed"
    },
    "tags": []
   },
   "outputs": [],
   "source": [
    "processed_data_val = dataset_val.map(preprocess, remove_columns=dataset_val.column_names)"
   ]
  },
  {
   "cell_type": "code",
   "execution_count": 34,
   "id": "d9e8c2e1",
   "metadata": {
    "execution": {
     "iopub.execute_input": "2025-02-15T04:18:10.800856Z",
     "iopub.status.busy": "2025-02-15T04:18:10.800667Z",
     "iopub.status.idle": "2025-02-15T04:18:10.805006Z",
     "shell.execute_reply": "2025-02-15T04:18:10.804692Z"
    },
    "papermill": {
     "duration": 0.009864,
     "end_time": "2025-02-15T04:18:10.805536",
     "exception": false,
     "start_time": "2025-02-15T04:18:10.795672",
     "status": "completed"
    },
    "tags": []
   },
   "outputs": [],
   "source": [
    "processed_data_val = processed_data_val.filter(lambda x: x['query'] is not None and x['positive'] is not None)"
   ]
  },
  {
   "cell_type": "code",
   "execution_count": 35,
   "id": "7a05d249",
   "metadata": {
    "execution": {
     "iopub.execute_input": "2025-02-15T04:18:10.815072Z",
     "iopub.status.busy": "2025-02-15T04:18:10.814948Z",
     "iopub.status.idle": "2025-02-15T04:18:14.629966Z",
     "shell.execute_reply": "2025-02-15T04:18:14.629487Z"
    },
    "papermill": {
     "duration": 3.82066,
     "end_time": "2025-02-15T04:18:14.630825",
     "exception": false,
     "start_time": "2025-02-15T04:18:10.810165",
     "status": "completed"
    },
    "tags": []
   },
   "outputs": [],
   "source": [
    "contrastive_pairs_val = []\n",
    "for item in processed_data_val:\n",
    "    query = item[\"query\"]\n",
    "    positive = item[\"positive\"]\n",
    "    negatives = item[\"negatives\"]\n",
    "    contrastive_pairs_val.append({\n",
    "        \"anchor\": query,\n",
    "        \"positive\": positive,\n",
    "        \"negatives\": negatives\n",
    "    })"
   ]
  },
  {
   "cell_type": "code",
   "execution_count": 36,
   "id": "fab51d44",
   "metadata": {
    "execution": {
     "iopub.execute_input": "2025-02-15T04:18:14.645649Z",
     "iopub.status.busy": "2025-02-15T04:18:14.645448Z",
     "iopub.status.idle": "2025-02-15T04:18:14.647599Z",
     "shell.execute_reply": "2025-02-15T04:18:14.647314Z"
    },
    "papermill": {
     "duration": 0.007665,
     "end_time": "2025-02-15T04:18:14.648109",
     "exception": false,
     "start_time": "2025-02-15T04:18:14.640444",
     "status": "completed"
    },
    "tags": []
   },
   "outputs": [],
   "source": [
    "contrastive_dataset_val = ContrastiveDataset(contrastive_pairs_val)"
   ]
  },
  {
   "cell_type": "code",
   "execution_count": 37,
   "id": "f56fc87d",
   "metadata": {
    "execution": {
     "iopub.execute_input": "2025-02-15T04:18:14.657891Z",
     "iopub.status.busy": "2025-02-15T04:18:14.657558Z",
     "iopub.status.idle": "2025-02-15T04:18:14.659717Z",
     "shell.execute_reply": "2025-02-15T04:18:14.659420Z"
    },
    "papermill": {
     "duration": 0.007495,
     "end_time": "2025-02-15T04:18:14.660251",
     "exception": false,
     "start_time": "2025-02-15T04:18:14.652756",
     "status": "completed"
    },
    "tags": []
   },
   "outputs": [],
   "source": [
    "data_loader_val = DataLoader(contrastive_dataset_val, batch_size=32, shuffle=True)"
   ]
  },
  {
   "cell_type": "code",
   "execution_count": 38,
   "id": "442a3061",
   "metadata": {
    "execution": {
     "iopub.execute_input": "2025-02-15T04:18:14.669933Z",
     "iopub.status.busy": "2025-02-15T04:18:14.669811Z",
     "iopub.status.idle": "2025-02-15T04:18:14.674053Z",
     "shell.execute_reply": "2025-02-15T04:18:14.673763Z"
    },
    "papermill": {
     "duration": 0.009697,
     "end_time": "2025-02-15T04:18:14.674590",
     "exception": false,
     "start_time": "2025-02-15T04:18:14.664893",
     "status": "completed"
    },
    "tags": []
   },
   "outputs": [],
   "source": [
    "def evaluate_mrr(model1, data_loader_val, distance_fn):\n",
    "    model1.eval()\n",
    "    \n",
    "    total_rr = 0.0\n",
    "    num_queries = 0\n",
    "\n",
    "    with torch.no_grad():\n",
    "        for batch in data_loader_val:\n",
    "            anchor_text = batch[0]\n",
    "            positive_text = batch[1]\n",
    "            negative_texts = batch[2]\n",
    "\n",
    "            anchor_input = tokenizer(anchor_text, return_tensors='pt', padding=True, truncation=True, max_length=512).to(device)\n",
    "            positive_input = tokenizer(positive_text, return_tensors='pt', padding=True, truncation=True, max_length=512).to(device)\n",
    "\n",
    "            anchor_embedding = expm_o(model1(**anchor_input).last_hidden_state[:, 0, :])\n",
    "            positive_embedding = expm_o(model1(**positive_input).last_hidden_state[:, 0, :])\n",
    "            negative_embedding = [expm_o(model1(**tokenizer(neg, return_tensors='pt', padding=True, truncation=True, max_length=512).to(device)).last_hidden_state[:, 0, :]) for neg in negative_texts]\n",
    "\n",
    "            pos_dist = distance_fn(anchor_embedding, positive_embedding)\n",
    "            neg_dist = torch.stack([distance_fn(anchor_embedding, neg) for neg in negative_embedding], dim=-1)\n",
    "            all_similarities=torch.cat([-pos_dist.unsqueeze(1), -neg_dist], dim=1)\n",
    "\n",
    "            sorted_similarities, sorted_indices = torch.sort(all_similarities, dim=1, descending=True)\n",
    "\n",
    "            # Find the rank of the first relevant (positive) document\n",
    "            positive_rank = (sorted_indices == 0).nonzero(as_tuple=True)[1] + 1  # +1 to make rank 1-based\n",
    "            total_rr += torch.sum(1.0 / positive_rank.float()).item()  # Reciprocal rank\n",
    "            num_queries += len(positive_rank)\n",
    "            \n",
    "    mrr = total_rr / num_queries\n",
    "    return mrr"
   ]
  },
  {
   "cell_type": "code",
   "execution_count": 39,
   "id": "5e684412",
   "metadata": {
    "execution": {
     "iopub.execute_input": "2025-02-15T04:18:14.684533Z",
     "iopub.status.busy": "2025-02-15T04:18:14.684282Z",
     "iopub.status.idle": "2025-02-15T04:18:14.686201Z",
     "shell.execute_reply": "2025-02-15T04:18:14.685914Z"
    },
    "papermill": {
     "duration": 0.00747,
     "end_time": "2025-02-15T04:18:14.686704",
     "exception": false,
     "start_time": "2025-02-15T04:18:14.679234",
     "status": "completed"
    },
    "tags": []
   },
   "outputs": [],
   "source": [
    "import os\n",
    "save_dir =\"/dss/dsshome1/07/ra65bex2/srawat/v2/0.5hyperbolic\"\n",
    "import time\n",
    "epoch_metrics = []"
   ]
  },
  {
   "cell_type": "code",
   "execution_count": 40,
   "id": "15839466",
   "metadata": {
    "execution": {
     "iopub.execute_input": "2025-02-15T04:18:14.696454Z",
     "iopub.status.busy": "2025-02-15T04:18:14.696334Z",
     "iopub.status.idle": "2025-02-15T15:08:00.475240Z",
     "shell.execute_reply": "2025-02-15T15:08:00.474644Z"
    },
    "papermill": {
     "duration": 38985.791838,
     "end_time": "2025-02-15T15:08:00.483173",
     "exception": false,
     "start_time": "2025-02-15T04:18:14.691335",
     "status": "completed"
    },
    "tags": []
   },
   "outputs": [
    {
     "name": "stdout",
     "output_type": "stream",
     "text": [
      "EPOCH 1:\n",
      "Checkpoint saved: /dss/dsshome1/07/ra65bex2/srawat/v2/0.5hyperbolic\n",
      "Epoch 1/3, Loss: 2.274729540743445\n",
      "Epoch 1/3, Contrastive Loss: 1.6516211659637923\n",
      "Epoch 1/3, Entailment Loss: 1.2462167489827551\n"
     ]
    },
    {
     "name": "stdout",
     "output_type": "stream",
     "text": [
      "Mean Reciprocal Rank (MRR) for validation set: 0.6100\n",
      "Epoch 1 took 216.5300 minutes.\n",
      "\n",
      "\n"
     ]
    },
    {
     "name": "stdout",
     "output_type": "stream",
     "text": [
      "EPOCH 2:\n",
      "Checkpoint saved: /dss/dsshome1/07/ra65bex2/srawat/v2/0.5hyperbolic\n",
      "Epoch 2/3, Loss: 2.179434075676577\n",
      "Epoch 2/3, Contrastive Loss: 1.5874979779801326\n",
      "Epoch 2/3, Entailment Loss: 1.1838721929501377\n"
     ]
    },
    {
     "name": "stdout",
     "output_type": "stream",
     "text": [
      "Mean Reciprocal Rank (MRR) for validation set: 0.6188\n",
      "Epoch 2 took 216.5727 minutes.\n",
      "\n",
      "\n"
     ]
    },
    {
     "name": "stdout",
     "output_type": "stream",
     "text": [
      "EPOCH 3:\n",
      "Checkpoint saved: /dss/dsshome1/07/ra65bex2/srawat/v2/0.5hyperbolic\n",
      "Epoch 3/3, Loss: 2.1559964088715713\n",
      "Epoch 3/3, Contrastive Loss: 1.5712511212874023\n",
      "Epoch 3/3, Entailment Loss: 1.1694905747662705\n"
     ]
    },
    {
     "name": "stdout",
     "output_type": "stream",
     "text": [
      "Mean Reciprocal Rank (MRR) for validation set: 0.6230\n",
      "Epoch 3 took 216.6602 minutes.\n",
      "\n",
      "\n"
     ]
    }
   ],
   "source": [
    "for epoch in range(num_epochs):\n",
    "    start_time = time.time()\n",
    "    lora_model.train()\n",
    "\n",
    "    total_loss = 0.0\n",
    "    entailment_loss_total=0.0\n",
    "    contrastive_loss_total=0.0\n",
    "    for batch in data_loader_train:\n",
    "\n",
    "        anchor_texts = batch[0]\n",
    "        positive_texts = batch[1]\n",
    "        negative_texts = batch[2]\n",
    "\n",
    "        anchor_inputs = tokenizer(anchor_texts, return_tensors='pt', padding=True, truncation=True, max_length=512).to(device)\n",
    "        positive_inputs = tokenizer(positive_texts, return_tensors='pt', padding=True, truncation=True, max_length=512).to(device)\n",
    "    \n",
    "        anchor_embedding = expm_o(lora_model(**anchor_inputs).last_hidden_state[:, 0, :])\n",
    "        positive_embedding = expm_o(lora_model(**positive_inputs).last_hidden_state[:, 0, :])\n",
    "        negative_embedding = [expm_o(lora_model(**tokenizer(neg, return_tensors='pt', padding=True, truncation=True, max_length=512).to(device)).last_hidden_state[:, 0, :]) for neg in negative_texts]\n",
    "\n",
    "        contrastive_loss_value = info_nce_loss(anchor_embedding, positive_embedding, negative_embedding, distance_fn=lorentzian_distance)\n",
    "        \n",
    "        entailment_loss_value = entailment_loss(anchor_embedding, positive_embedding)\n",
    "        \n",
    "        loss = contrastive_loss_value + 0.5*entailment_loss_value\n",
    "  \n",
    "        optimizer.zero_grad()\n",
    "        loss.backward()\n",
    "        optimizer.step()\n",
    "        \n",
    "        total_loss += loss.item()\n",
    "        entailment_loss_total+=entailment_loss_value.item()\n",
    "        contrastive_loss_total+=contrastive_loss_value.item()\n",
    "    save_path1 = os.path.join(save_dir, f\"hyperbolic_lora_checkpoint_epoch_{epoch+1}.pth\")\n",
    "    torch.save(lora_model, save_path1)\n",
    "    print(f\"EPOCH {epoch+1}:\")\n",
    "    print(f\"Checkpoint saved: {save_dir}\")\n",
    "    print(f\"Epoch {epoch+1}/{num_epochs}, Loss: {total_loss / len(data_loader_train)}\")\n",
    "    print(f\"Epoch {epoch+1}/{num_epochs}, Contrastive Loss: {contrastive_loss_total / len(data_loader_train)}\")\n",
    "    print(f\"Epoch {epoch+1}/{num_epochs}, Entailment Loss: {entailment_loss_total / len(data_loader_train)}\")\n",
    "    mrr_validation = evaluate_mrr(model1=lora_model, data_loader_val=data_loader_val,distance_fn=lorentzian_distance)\n",
    "    #mrr_train = evaluate_mrr(lora_model, data_loader_train, lorentzian_distance)\n",
    "    #print(f\"Mean Reciprocal Rank (MRR) for training set: {mrr_train:.4f}\")\n",
    "    print(f\"Mean Reciprocal Rank (MRR) for validation set: {mrr_validation:.4f}\")\n",
    "    end_time = time.time()\n",
    "    print(f\"Epoch {epoch+1} took {(end_time - start_time) / 60:.4f} minutes.\")\n",
    "    print(f\"\\n\")\n",
    "    epoch_metrics.append({\n",
    "        'epoch': epoch + 1,\n",
    "        'training_loss': total_loss / len(data_loader_train),\n",
    "        'Contrastive_loss': contrastive_loss_total / len(data_loader_train),\n",
    "        'Entailment_loss': entailment_loss_total / len(data_loader_train),\n",
    "        'mrr_validation': mrr_validation,\n",
    "        'time_taken_minutes': (end_time - start_time) / 60\n",
    "    })"
   ]
  },
  {
   "cell_type": "code",
   "execution_count": 41,
   "id": "85cff86d",
   "metadata": {
    "execution": {
     "iopub.execute_input": "2025-02-15T15:08:00.494816Z",
     "iopub.status.busy": "2025-02-15T15:08:00.494562Z",
     "iopub.status.idle": "2025-02-15T15:08:00.498311Z",
     "shell.execute_reply": "2025-02-15T15:08:00.497925Z"
    },
    "papermill": {
     "duration": 0.009929,
     "end_time": "2025-02-15T15:08:00.498916",
     "exception": false,
     "start_time": "2025-02-15T15:08:00.488987",
     "status": "completed"
    },
    "tags": []
   },
   "outputs": [],
   "source": [
    "import json\n",
    "with open(save_dir + '/hyperbolic_epoch_metrics.json', 'w') as f:\n",
    "    json.dump(epoch_metrics, f)"
   ]
  },
  {
   "cell_type": "code",
   "execution_count": null,
   "id": "84c41a25",
   "metadata": {
    "papermill": {
     "duration": 0.004806,
     "end_time": "2025-02-15T15:08:00.508944",
     "exception": false,
     "start_time": "2025-02-15T15:08:00.504138",
     "status": "completed"
    },
    "tags": []
   },
   "outputs": [],
   "source": []
  }
 ],
 "metadata": {
  "kernelspec": {
   "display_name": "Python 3 (ipykernel)",
   "language": "python",
   "name": "python3"
  },
  "language_info": {
   "codemirror_mode": {
    "name": "ipython",
    "version": 3
   },
   "file_extension": ".py",
   "mimetype": "text/x-python",
   "name": "python",
   "nbconvert_exporter": "python",
   "pygments_lexer": "ipython3",
   "version": "3.10.12"
  },
  "papermill": {
   "default_parameters": {},
   "duration": 39057.040711,
   "end_time": "2025-02-15T15:08:04.392508",
   "environment_variables": {},
   "exception": null,
   "input_path": "0.5hyperbolic.ipynb",
   "output_path": "0.5hyperbolic_output.ipynb",
   "parameters": {},
   "start_time": "2025-02-15T04:17:07.351797",
   "version": "2.6.0"
  }
 },
 "nbformat": 4,
 "nbformat_minor": 5
}
