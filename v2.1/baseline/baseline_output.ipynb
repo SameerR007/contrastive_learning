{
 "cells": [
  {
   "cell_type": "code",
   "execution_count": 1,
   "id": "e227967e",
   "metadata": {
    "execution": {
     "iopub.execute_input": "2025-02-14T17:45:48.220458Z",
     "iopub.status.busy": "2025-02-14T17:45:48.220336Z",
     "iopub.status.idle": "2025-02-14T17:45:54.369265Z",
     "shell.execute_reply": "2025-02-14T17:45:54.368743Z"
    },
    "papermill": {
     "duration": 6.156857,
     "end_time": "2025-02-14T17:45:54.370098",
     "exception": false,
     "start_time": "2025-02-14T17:45:48.213241",
     "status": "completed"
    },
    "tags": []
   },
   "outputs": [],
   "source": [
    "from datasets import load_dataset"
   ]
  },
  {
   "cell_type": "code",
   "execution_count": 2,
   "id": "eb34e36c",
   "metadata": {
    "execution": {
     "iopub.execute_input": "2025-02-14T17:45:54.378911Z",
     "iopub.status.busy": "2025-02-14T17:45:54.378433Z",
     "iopub.status.idle": "2025-02-14T17:46:03.730580Z",
     "shell.execute_reply": "2025-02-14T17:46:03.729991Z"
    },
    "papermill": {
     "duration": 9.35714,
     "end_time": "2025-02-14T17:46:03.731616",
     "exception": false,
     "start_time": "2025-02-14T17:45:54.374476",
     "status": "completed"
    },
    "tags": []
   },
   "outputs": [],
   "source": [
    "dataset_train = load_dataset('ms_marco', 'v2.1', split='train')"
   ]
  },
  {
   "cell_type": "code",
   "execution_count": 3,
   "id": "18256fd8",
   "metadata": {
    "execution": {
     "iopub.execute_input": "2025-02-14T17:46:03.742199Z",
     "iopub.status.busy": "2025-02-14T17:46:03.741813Z",
     "iopub.status.idle": "2025-02-14T17:46:03.746564Z",
     "shell.execute_reply": "2025-02-14T17:46:03.746224Z"
    },
    "papermill": {
     "duration": 0.009445,
     "end_time": "2025-02-14T17:46:03.747140",
     "exception": false,
     "start_time": "2025-02-14T17:46:03.737695",
     "status": "completed"
    },
    "tags": []
   },
   "outputs": [
    {
     "data": {
      "text/plain": [
       "Dataset({\n",
       "    features: ['answers', 'passages', 'query', 'query_id', 'query_type', 'wellFormedAnswers'],\n",
       "    num_rows: 808731\n",
       "})"
      ]
     },
     "execution_count": 3,
     "metadata": {},
     "output_type": "execute_result"
    }
   ],
   "source": [
    "dataset_train"
   ]
  },
  {
   "cell_type": "code",
   "execution_count": 4,
   "id": "b091fdd2",
   "metadata": {
    "execution": {
     "iopub.execute_input": "2025-02-14T17:46:03.755985Z",
     "iopub.status.busy": "2025-02-14T17:46:03.755691Z",
     "iopub.status.idle": "2025-02-14T17:46:03.759692Z",
     "shell.execute_reply": "2025-02-14T17:46:03.759320Z"
    },
    "papermill": {
     "duration": 0.009321,
     "end_time": "2025-02-14T17:46:03.760254",
     "exception": false,
     "start_time": "2025-02-14T17:46:03.750933",
     "status": "completed"
    },
    "tags": []
   },
   "outputs": [],
   "source": [
    "def preprocess(example):\n",
    "    positive_passages=[]\n",
    "    for p in enumerate(example['passages'][\"is_selected\"]):\n",
    "        if p[1]==1:\n",
    "            positive_passages.append(example[\"passages\"][\"passage_text\"][p[0]])\n",
    "    negative_passages = []\n",
    "    for p in enumerate(example['passages'][\"is_selected\"]):\n",
    "        if p[1]==0:\n",
    "            negative_passages.append(example[\"passages\"][\"passage_text\"][p[0]])\n",
    "    if (len(positive_passages)>0 and len(negative_passages)>=5):\n",
    "        positive = positive_passages[0]\n",
    "        negatives = negative_passages[:5]\n",
    "        return {\n",
    "            \"query\": example[\"query\"],\n",
    "            \"positive\": positive,\n",
    "            \"negatives\": negatives\n",
    "        }\n",
    "    else:\n",
    "        return {\"query\": None, \"positive\": None, \"negatives\": None}"
   ]
  },
  {
   "cell_type": "code",
   "execution_count": 5,
   "id": "7e139281",
   "metadata": {
    "execution": {
     "iopub.execute_input": "2025-02-14T17:46:03.768073Z",
     "iopub.status.busy": "2025-02-14T17:46:03.767943Z",
     "iopub.status.idle": "2025-02-14T17:46:03.838782Z",
     "shell.execute_reply": "2025-02-14T17:46:03.838305Z"
    },
    "papermill": {
     "duration": 0.075461,
     "end_time": "2025-02-14T17:46:03.839449",
     "exception": false,
     "start_time": "2025-02-14T17:46:03.763988",
     "status": "completed"
    },
    "tags": []
   },
   "outputs": [],
   "source": [
    "processed_data_train = dataset_train.map(preprocess, remove_columns=dataset_train.column_names)"
   ]
  },
  {
   "cell_type": "code",
   "execution_count": 6,
   "id": "575e19fb",
   "metadata": {
    "execution": {
     "iopub.execute_input": "2025-02-14T17:46:03.847603Z",
     "iopub.status.busy": "2025-02-14T17:46:03.847163Z",
     "iopub.status.idle": "2025-02-14T17:46:03.857568Z",
     "shell.execute_reply": "2025-02-14T17:46:03.857223Z"
    },
    "papermill": {
     "duration": 0.014848,
     "end_time": "2025-02-14T17:46:03.858107",
     "exception": false,
     "start_time": "2025-02-14T17:46:03.843259",
     "status": "completed"
    },
    "tags": []
   },
   "outputs": [],
   "source": [
    "processed_data_train = processed_data_train.filter(lambda x: x['query'] is not None and x['positive'] is not None)"
   ]
  },
  {
   "cell_type": "code",
   "execution_count": 7,
   "id": "86c444e2",
   "metadata": {
    "execution": {
     "iopub.execute_input": "2025-02-14T17:46:03.866675Z",
     "iopub.status.busy": "2025-02-14T17:46:03.866207Z",
     "iopub.status.idle": "2025-02-14T17:46:41.192544Z",
     "shell.execute_reply": "2025-02-14T17:46:41.191889Z"
    },
    "papermill": {
     "duration": 37.331585,
     "end_time": "2025-02-14T17:46:41.193675",
     "exception": false,
     "start_time": "2025-02-14T17:46:03.862090",
     "status": "completed"
    },
    "tags": []
   },
   "outputs": [],
   "source": [
    "contrastive_pairs_train = []\n",
    "for item in processed_data_train:\n",
    "    query = item[\"query\"]\n",
    "    positive = item[\"positive\"]\n",
    "    negatives = item[\"negatives\"]\n",
    "    contrastive_pairs_train.append({\n",
    "        \"anchor\": query,\n",
    "        \"positive\": positive,\n",
    "        \"negatives\": negatives\n",
    "    })"
   ]
  },
  {
   "cell_type": "code",
   "execution_count": 8,
   "id": "b4068791",
   "metadata": {
    "execution": {
     "iopub.execute_input": "2025-02-14T17:46:41.204736Z",
     "iopub.status.busy": "2025-02-14T17:46:41.204544Z",
     "iopub.status.idle": "2025-02-14T17:46:41.207853Z",
     "shell.execute_reply": "2025-02-14T17:46:41.207519Z"
    },
    "papermill": {
     "duration": 0.008192,
     "end_time": "2025-02-14T17:46:41.208446",
     "exception": false,
     "start_time": "2025-02-14T17:46:41.200254",
     "status": "completed"
    },
    "tags": []
   },
   "outputs": [
    {
     "data": {
      "text/plain": [
       "502824"
      ]
     },
     "execution_count": 8,
     "metadata": {},
     "output_type": "execute_result"
    }
   ],
   "source": [
    "len(contrastive_pairs_train)"
   ]
  },
  {
   "cell_type": "code",
   "execution_count": 9,
   "id": "48b4e9bc",
   "metadata": {
    "execution": {
     "iopub.execute_input": "2025-02-14T17:46:41.216375Z",
     "iopub.status.busy": "2025-02-14T17:46:41.216075Z",
     "iopub.status.idle": "2025-02-14T17:46:47.175930Z",
     "shell.execute_reply": "2025-02-14T17:46:47.175356Z"
    },
    "papermill": {
     "duration": 5.964724,
     "end_time": "2025-02-14T17:46:47.176884",
     "exception": false,
     "start_time": "2025-02-14T17:46:41.212160",
     "status": "completed"
    },
    "tags": []
   },
   "outputs": [],
   "source": [
    "from torch.utils.data import DataLoader"
   ]
  },
  {
   "cell_type": "code",
   "execution_count": 10,
   "id": "1bda5e73",
   "metadata": {
    "execution": {
     "iopub.execute_input": "2025-02-14T17:46:47.188775Z",
     "iopub.status.busy": "2025-02-14T17:46:47.188575Z",
     "iopub.status.idle": "2025-02-14T17:46:47.192817Z",
     "shell.execute_reply": "2025-02-14T17:46:47.192419Z"
    },
    "papermill": {
     "duration": 0.009715,
     "end_time": "2025-02-14T17:46:47.193365",
     "exception": false,
     "start_time": "2025-02-14T17:46:47.183650",
     "status": "completed"
    },
    "tags": []
   },
   "outputs": [],
   "source": [
    "class ContrastiveDataset:\n",
    "    def __init__(self, pairs):\n",
    "        self.pairs = pairs\n",
    "\n",
    "    def __len__(self):\n",
    "        return len(self.pairs)\n",
    "\n",
    "    def __getitem__(self, idx):\n",
    "        item = self.pairs[idx]\n",
    "        return item[\"anchor\"], item[\"positive\"], item[\"negatives\"]"
   ]
  },
  {
   "cell_type": "code",
   "execution_count": 11,
   "id": "b8d83f7c",
   "metadata": {
    "execution": {
     "iopub.execute_input": "2025-02-14T17:46:47.202176Z",
     "iopub.status.busy": "2025-02-14T17:46:47.201830Z",
     "iopub.status.idle": "2025-02-14T17:46:47.205954Z",
     "shell.execute_reply": "2025-02-14T17:46:47.205573Z"
    },
    "papermill": {
     "duration": 0.009431,
     "end_time": "2025-02-14T17:46:47.206900",
     "exception": false,
     "start_time": "2025-02-14T17:46:47.197469",
     "status": "completed"
    },
    "tags": []
   },
   "outputs": [],
   "source": [
    "contrastive_dataset_train = ContrastiveDataset(contrastive_pairs_train)"
   ]
  },
  {
   "cell_type": "code",
   "execution_count": 12,
   "id": "cb52fd4f",
   "metadata": {
    "execution": {
     "iopub.execute_input": "2025-02-14T17:46:47.218185Z",
     "iopub.status.busy": "2025-02-14T17:46:47.217510Z",
     "iopub.status.idle": "2025-02-14T17:46:47.221801Z",
     "shell.execute_reply": "2025-02-14T17:46:47.221369Z"
    },
    "papermill": {
     "duration": 0.011683,
     "end_time": "2025-02-14T17:46:47.222492",
     "exception": false,
     "start_time": "2025-02-14T17:46:47.210809",
     "status": "completed"
    },
    "tags": []
   },
   "outputs": [],
   "source": [
    "data_loader_train = DataLoader(contrastive_dataset_train, batch_size=32, shuffle=True)"
   ]
  },
  {
   "cell_type": "code",
   "execution_count": 13,
   "id": "9002c46d",
   "metadata": {
    "execution": {
     "iopub.execute_input": "2025-02-14T17:46:47.231224Z",
     "iopub.status.busy": "2025-02-14T17:46:47.231071Z",
     "iopub.status.idle": "2025-02-14T17:46:47.235319Z",
     "shell.execute_reply": "2025-02-14T17:46:47.234865Z"
    },
    "papermill": {
     "duration": 0.009438,
     "end_time": "2025-02-14T17:46:47.236033",
     "exception": false,
     "start_time": "2025-02-14T17:46:47.226595",
     "status": "completed"
    },
    "tags": []
   },
   "outputs": [
    {
     "data": {
      "text/plain": [
       "15714"
      ]
     },
     "execution_count": 13,
     "metadata": {},
     "output_type": "execute_result"
    }
   ],
   "source": [
    "len(data_loader_train)"
   ]
  },
  {
   "cell_type": "code",
   "execution_count": 14,
   "id": "931b6143",
   "metadata": {
    "execution": {
     "iopub.execute_input": "2025-02-14T17:46:47.244816Z",
     "iopub.status.busy": "2025-02-14T17:46:47.244449Z",
     "iopub.status.idle": "2025-02-14T17:46:56.020252Z",
     "shell.execute_reply": "2025-02-14T17:46:56.019498Z"
    },
    "papermill": {
     "duration": 8.781148,
     "end_time": "2025-02-14T17:46:56.021295",
     "exception": false,
     "start_time": "2025-02-14T17:46:47.240147",
     "status": "completed"
    },
    "tags": []
   },
   "outputs": [],
   "source": [
    "from transformers import AutoTokenizer, AutoModel\n",
    "tokenizer = AutoTokenizer.from_pretrained(\"bert-base-uncased\")"
   ]
  },
  {
   "cell_type": "code",
   "execution_count": 15,
   "id": "71a11aec",
   "metadata": {
    "execution": {
     "iopub.execute_input": "2025-02-14T17:46:56.033520Z",
     "iopub.status.busy": "2025-02-14T17:46:56.032948Z",
     "iopub.status.idle": "2025-02-14T17:46:58.607825Z",
     "shell.execute_reply": "2025-02-14T17:46:58.607184Z"
    },
    "papermill": {
     "duration": 2.580429,
     "end_time": "2025-02-14T17:46:58.608616",
     "exception": false,
     "start_time": "2025-02-14T17:46:56.028187",
     "status": "completed"
    },
    "tags": []
   },
   "outputs": [],
   "source": [
    "model = AutoModel.from_pretrained(\"bert-base-uncased\")"
   ]
  },
  {
   "cell_type": "code",
   "execution_count": 16,
   "id": "9583ccfe",
   "metadata": {
    "execution": {
     "iopub.execute_input": "2025-02-14T17:46:58.618035Z",
     "iopub.status.busy": "2025-02-14T17:46:58.617593Z",
     "iopub.status.idle": "2025-02-14T17:46:59.005300Z",
     "shell.execute_reply": "2025-02-14T17:46:59.004655Z"
    },
    "papermill": {
     "duration": 0.393071,
     "end_time": "2025-02-14T17:46:59.006117",
     "exception": false,
     "start_time": "2025-02-14T17:46:58.613046",
     "status": "completed"
    },
    "tags": []
   },
   "outputs": [],
   "source": [
    "from peft import LoraConfig, get_peft_model"
   ]
  },
  {
   "cell_type": "code",
   "execution_count": 17,
   "id": "1b759177",
   "metadata": {
    "execution": {
     "iopub.execute_input": "2025-02-14T17:46:59.016815Z",
     "iopub.status.busy": "2025-02-14T17:46:59.015984Z",
     "iopub.status.idle": "2025-02-14T17:46:59.019354Z",
     "shell.execute_reply": "2025-02-14T17:46:59.018994Z"
    },
    "papermill": {
     "duration": 0.00939,
     "end_time": "2025-02-14T17:46:59.019909",
     "exception": false,
     "start_time": "2025-02-14T17:46:59.010519",
     "status": "completed"
    },
    "tags": []
   },
   "outputs": [],
   "source": [
    "lora_config = LoraConfig(\n",
    "    task_type= \"FEATURE_EXTRACTION\"\n",
    ")"
   ]
  },
  {
   "cell_type": "code",
   "execution_count": 18,
   "id": "01ba7f67",
   "metadata": {
    "execution": {
     "iopub.execute_input": "2025-02-14T17:46:59.028772Z",
     "iopub.status.busy": "2025-02-14T17:46:59.028368Z",
     "iopub.status.idle": "2025-02-14T17:46:59.052767Z",
     "shell.execute_reply": "2025-02-14T17:46:59.052404Z"
    },
    "papermill": {
     "duration": 0.029425,
     "end_time": "2025-02-14T17:46:59.053446",
     "exception": false,
     "start_time": "2025-02-14T17:46:59.024021",
     "status": "completed"
    },
    "tags": []
   },
   "outputs": [],
   "source": [
    "lora_model = get_peft_model(model, lora_config)"
   ]
  },
  {
   "cell_type": "code",
   "execution_count": 19,
   "id": "4ce2dc84",
   "metadata": {
    "execution": {
     "iopub.execute_input": "2025-02-14T17:46:59.062301Z",
     "iopub.status.busy": "2025-02-14T17:46:59.062170Z",
     "iopub.status.idle": "2025-02-14T17:46:59.064614Z",
     "shell.execute_reply": "2025-02-14T17:46:59.064149Z"
    },
    "papermill": {
     "duration": 0.007306,
     "end_time": "2025-02-14T17:46:59.065149",
     "exception": false,
     "start_time": "2025-02-14T17:46:59.057843",
     "status": "completed"
    },
    "tags": []
   },
   "outputs": [],
   "source": [
    "import torch"
   ]
  },
  {
   "cell_type": "code",
   "execution_count": 20,
   "id": "a7586fbc",
   "metadata": {
    "execution": {
     "iopub.execute_input": "2025-02-14T17:46:59.074502Z",
     "iopub.status.busy": "2025-02-14T17:46:59.073992Z",
     "iopub.status.idle": "2025-02-14T17:46:59.076565Z",
     "shell.execute_reply": "2025-02-14T17:46:59.076178Z"
    },
    "papermill": {
     "duration": 0.00778,
     "end_time": "2025-02-14T17:46:59.077168",
     "exception": false,
     "start_time": "2025-02-14T17:46:59.069388",
     "status": "completed"
    },
    "tags": []
   },
   "outputs": [],
   "source": [
    "def cosine_distance(x, y):\n",
    "    return 1 - torch.nn.functional.cosine_similarity(x, y, dim=-1)"
   ]
  },
  {
   "cell_type": "code",
   "execution_count": 21,
   "id": "dbeee51a",
   "metadata": {
    "execution": {
     "iopub.execute_input": "2025-02-14T17:46:59.086704Z",
     "iopub.status.busy": "2025-02-14T17:46:59.086326Z",
     "iopub.status.idle": "2025-02-14T17:46:59.089419Z",
     "shell.execute_reply": "2025-02-14T17:46:59.089042Z"
    },
    "papermill": {
     "duration": 0.008542,
     "end_time": "2025-02-14T17:46:59.089990",
     "exception": false,
     "start_time": "2025-02-14T17:46:59.081448",
     "status": "completed"
    },
    "tags": []
   },
   "outputs": [],
   "source": [
    "def info_nce_loss(anchor_embedding, positive_embedding, negative_embedding, distance_fn):\n",
    "\n",
    "    pos_dist = distance_fn(anchor_embedding, positive_embedding) \n",
    "    neg_dist = torch.stack([distance_fn(anchor_embedding, neg) for neg in negative_embedding], dim=-1) \n",
    "\n",
    "    logits = torch.cat([-pos_dist.unsqueeze(1), -neg_dist], dim=1)\n",
    "    labels = torch.zeros(logits.size(0), dtype=torch.long, device=logits.device)\n",
    "\n",
    "    loss = torch.nn.CrossEntropyLoss()(logits, labels)\n",
    "    return loss"
   ]
  },
  {
   "cell_type": "code",
   "execution_count": 22,
   "id": "1b25e45f",
   "metadata": {
    "execution": {
     "iopub.execute_input": "2025-02-14T17:46:59.099166Z",
     "iopub.status.busy": "2025-02-14T17:46:59.098734Z",
     "iopub.status.idle": "2025-02-14T17:46:59.102099Z",
     "shell.execute_reply": "2025-02-14T17:46:59.101732Z"
    },
    "papermill": {
     "duration": 0.008431,
     "end_time": "2025-02-14T17:46:59.102674",
     "exception": false,
     "start_time": "2025-02-14T17:46:59.094243",
     "status": "completed"
    },
    "tags": []
   },
   "outputs": [],
   "source": [
    "import torch.optim as optim\n",
    "optimizer = torch.optim.AdamW(lora_model.parameters(), lr=5e-5)"
   ]
  },
  {
   "cell_type": "code",
   "execution_count": 23,
   "id": "97b12e76",
   "metadata": {
    "execution": {
     "iopub.execute_input": "2025-02-14T17:46:59.112453Z",
     "iopub.status.busy": "2025-02-14T17:46:59.112024Z",
     "iopub.status.idle": "2025-02-14T17:46:59.114150Z",
     "shell.execute_reply": "2025-02-14T17:46:59.113818Z"
    },
    "papermill": {
     "duration": 0.007787,
     "end_time": "2025-02-14T17:46:59.114693",
     "exception": false,
     "start_time": "2025-02-14T17:46:59.106906",
     "status": "completed"
    },
    "tags": []
   },
   "outputs": [],
   "source": [
    "num_epochs=3"
   ]
  },
  {
   "cell_type": "code",
   "execution_count": 24,
   "id": "4d127afa",
   "metadata": {
    "execution": {
     "iopub.execute_input": "2025-02-14T17:46:59.123534Z",
     "iopub.status.busy": "2025-02-14T17:46:59.123338Z",
     "iopub.status.idle": "2025-02-14T17:46:59.484599Z",
     "shell.execute_reply": "2025-02-14T17:46:59.484053Z"
    },
    "papermill": {
     "duration": 0.36646,
     "end_time": "2025-02-14T17:46:59.485411",
     "exception": false,
     "start_time": "2025-02-14T17:46:59.118951",
     "status": "completed"
    },
    "tags": []
   },
   "outputs": [],
   "source": [
    "device = torch.device('cuda' if torch.cuda.is_available() else 'cpu')"
   ]
  },
  {
   "cell_type": "code",
   "execution_count": 25,
   "id": "f58d7375",
   "metadata": {
    "execution": {
     "iopub.execute_input": "2025-02-14T17:46:59.496118Z",
     "iopub.status.busy": "2025-02-14T17:46:59.495972Z",
     "iopub.status.idle": "2025-02-14T17:46:59.499284Z",
     "shell.execute_reply": "2025-02-14T17:46:59.498936Z"
    },
    "papermill": {
     "duration": 0.008581,
     "end_time": "2025-02-14T17:46:59.499892",
     "exception": false,
     "start_time": "2025-02-14T17:46:59.491311",
     "status": "completed"
    },
    "tags": []
   },
   "outputs": [
    {
     "data": {
      "text/plain": [
       "device(type='cuda')"
      ]
     },
     "execution_count": 25,
     "metadata": {},
     "output_type": "execute_result"
    }
   ],
   "source": [
    "device"
   ]
  },
  {
   "cell_type": "code",
   "execution_count": 26,
   "id": "744d6e82",
   "metadata": {
    "execution": {
     "iopub.execute_input": "2025-02-14T17:46:59.508998Z",
     "iopub.status.busy": "2025-02-14T17:46:59.508871Z",
     "iopub.status.idle": "2025-02-14T17:46:59.511665Z",
     "shell.execute_reply": "2025-02-14T17:46:59.511318Z"
    },
    "papermill": {
     "duration": 0.007988,
     "end_time": "2025-02-14T17:46:59.512388",
     "exception": false,
     "start_time": "2025-02-14T17:46:59.504400",
     "status": "completed"
    },
    "tags": []
   },
   "outputs": [
    {
     "name": "stdout",
     "output_type": "stream",
     "text": [
      "2.5.1+cu124\n",
      "True\n"
     ]
    }
   ],
   "source": [
    "import torch\n",
    "print(torch.__version__)\n",
    "print(torch.cuda.is_available())"
   ]
  },
  {
   "cell_type": "code",
   "execution_count": 27,
   "id": "d5ca86c9",
   "metadata": {
    "execution": {
     "iopub.execute_input": "2025-02-14T17:46:59.521512Z",
     "iopub.status.busy": "2025-02-14T17:46:59.521386Z",
     "iopub.status.idle": "2025-02-14T17:46:59.524069Z",
     "shell.execute_reply": "2025-02-14T17:46:59.523742Z"
    },
    "papermill": {
     "duration": 0.007793,
     "end_time": "2025-02-14T17:46:59.524747",
     "exception": false,
     "start_time": "2025-02-14T17:46:59.516954",
     "status": "completed"
    },
    "tags": []
   },
   "outputs": [
    {
     "data": {
      "text/plain": [
       "True"
      ]
     },
     "execution_count": 27,
     "metadata": {},
     "output_type": "execute_result"
    }
   ],
   "source": [
    "torch.cuda.is_available()"
   ]
  },
  {
   "cell_type": "code",
   "execution_count": 28,
   "id": "695b9eca",
   "metadata": {
    "execution": {
     "iopub.execute_input": "2025-02-14T17:46:59.533733Z",
     "iopub.status.busy": "2025-02-14T17:46:59.533609Z",
     "iopub.status.idle": "2025-02-14T17:47:00.236574Z",
     "shell.execute_reply": "2025-02-14T17:47:00.236049Z"
    },
    "papermill": {
     "duration": 0.708161,
     "end_time": "2025-02-14T17:47:00.237241",
     "exception": false,
     "start_time": "2025-02-14T17:46:59.529080",
     "status": "completed"
    },
    "tags": []
   },
   "outputs": [],
   "source": [
    "lora_model = lora_model.to(device)"
   ]
  },
  {
   "cell_type": "code",
   "execution_count": 29,
   "id": "e515e12c",
   "metadata": {
    "execution": {
     "iopub.execute_input": "2025-02-14T17:47:00.247131Z",
     "iopub.status.busy": "2025-02-14T17:47:00.246647Z",
     "iopub.status.idle": "2025-02-14T17:47:03.815857Z",
     "shell.execute_reply": "2025-02-14T17:47:03.815387Z"
    },
    "papermill": {
     "duration": 3.574769,
     "end_time": "2025-02-14T17:47:03.816617",
     "exception": false,
     "start_time": "2025-02-14T17:47:00.241848",
     "status": "completed"
    },
    "tags": []
   },
   "outputs": [],
   "source": [
    "dataset_val = load_dataset('ms_marco', 'v2.1', split='validation')"
   ]
  },
  {
   "cell_type": "code",
   "execution_count": 30,
   "id": "76fc53bf",
   "metadata": {
    "execution": {
     "iopub.execute_input": "2025-02-14T17:47:03.827100Z",
     "iopub.status.busy": "2025-02-14T17:47:03.826589Z",
     "iopub.status.idle": "2025-02-14T17:47:03.833552Z",
     "shell.execute_reply": "2025-02-14T17:47:03.833095Z"
    },
    "papermill": {
     "duration": 0.013006,
     "end_time": "2025-02-14T17:47:03.834406",
     "exception": false,
     "start_time": "2025-02-14T17:47:03.821400",
     "status": "completed"
    },
    "tags": []
   },
   "outputs": [],
   "source": [
    "processed_data_val = dataset_val.map(preprocess, remove_columns=dataset_val.column_names)"
   ]
  },
  {
   "cell_type": "code",
   "execution_count": 31,
   "id": "3a383555",
   "metadata": {
    "execution": {
     "iopub.execute_input": "2025-02-14T17:47:03.844292Z",
     "iopub.status.busy": "2025-02-14T17:47:03.844165Z",
     "iopub.status.idle": "2025-02-14T17:47:03.849443Z",
     "shell.execute_reply": "2025-02-14T17:47:03.849112Z"
    },
    "papermill": {
     "duration": 0.01094,
     "end_time": "2025-02-14T17:47:03.850280",
     "exception": false,
     "start_time": "2025-02-14T17:47:03.839340",
     "status": "completed"
    },
    "tags": []
   },
   "outputs": [],
   "source": [
    "processed_data_val = processed_data_val.filter(lambda x: x['query'] is not None and x['positive'] is not None)"
   ]
  },
  {
   "cell_type": "code",
   "execution_count": 32,
   "id": "66f4677d",
   "metadata": {
    "execution": {
     "iopub.execute_input": "2025-02-14T17:47:03.859750Z",
     "iopub.status.busy": "2025-02-14T17:47:03.859625Z",
     "iopub.status.idle": "2025-02-14T17:47:07.699319Z",
     "shell.execute_reply": "2025-02-14T17:47:07.698506Z"
    },
    "papermill": {
     "duration": 3.845762,
     "end_time": "2025-02-14T17:47:07.700516",
     "exception": false,
     "start_time": "2025-02-14T17:47:03.854754",
     "status": "completed"
    },
    "tags": []
   },
   "outputs": [],
   "source": [
    "contrastive_pairs_val = []\n",
    "for item in processed_data_val:\n",
    "    query = item[\"query\"]\n",
    "    positive = item[\"positive\"]\n",
    "    negatives = item[\"negatives\"]\n",
    "    contrastive_pairs_val.append({\n",
    "        \"anchor\": query,\n",
    "        \"positive\": positive,\n",
    "        \"negatives\": negatives\n",
    "    })"
   ]
  },
  {
   "cell_type": "code",
   "execution_count": 33,
   "id": "17aa8c33",
   "metadata": {
    "execution": {
     "iopub.execute_input": "2025-02-14T17:47:07.712812Z",
     "iopub.status.busy": "2025-02-14T17:47:07.712596Z",
     "iopub.status.idle": "2025-02-14T17:47:07.716229Z",
     "shell.execute_reply": "2025-02-14T17:47:07.715714Z"
    },
    "papermill": {
     "duration": 0.009484,
     "end_time": "2025-02-14T17:47:07.716767",
     "exception": false,
     "start_time": "2025-02-14T17:47:07.707283",
     "status": "completed"
    },
    "tags": []
   },
   "outputs": [],
   "source": [
    "contrastive_dataset_val = ContrastiveDataset(contrastive_pairs_val)"
   ]
  },
  {
   "cell_type": "code",
   "execution_count": 34,
   "id": "4a220701",
   "metadata": {
    "execution": {
     "iopub.execute_input": "2025-02-14T17:47:07.726664Z",
     "iopub.status.busy": "2025-02-14T17:47:07.726470Z",
     "iopub.status.idle": "2025-02-14T17:47:07.738602Z",
     "shell.execute_reply": "2025-02-14T17:47:07.738144Z"
    },
    "papermill": {
     "duration": 0.017655,
     "end_time": "2025-02-14T17:47:07.739250",
     "exception": false,
     "start_time": "2025-02-14T17:47:07.721595",
     "status": "completed"
    },
    "tags": []
   },
   "outputs": [],
   "source": [
    "data_loader_val = DataLoader(contrastive_dataset_val, batch_size=32, shuffle=True)"
   ]
  },
  {
   "cell_type": "code",
   "execution_count": 35,
   "id": "346d19b4",
   "metadata": {
    "execution": {
     "iopub.execute_input": "2025-02-14T17:47:07.749719Z",
     "iopub.status.busy": "2025-02-14T17:47:07.749189Z",
     "iopub.status.idle": "2025-02-14T17:47:07.752807Z",
     "shell.execute_reply": "2025-02-14T17:47:07.752401Z"
    },
    "papermill": {
     "duration": 0.009514,
     "end_time": "2025-02-14T17:47:07.753715",
     "exception": false,
     "start_time": "2025-02-14T17:47:07.744201",
     "status": "completed"
    },
    "tags": []
   },
   "outputs": [
    {
     "data": {
      "text/plain": [
       "1737"
      ]
     },
     "execution_count": 35,
     "metadata": {},
     "output_type": "execute_result"
    }
   ],
   "source": [
    "len(data_loader_val)"
   ]
  },
  {
   "cell_type": "code",
   "execution_count": 36,
   "id": "43ad86cb",
   "metadata": {
    "execution": {
     "iopub.execute_input": "2025-02-14T17:47:07.763853Z",
     "iopub.status.busy": "2025-02-14T17:47:07.763681Z",
     "iopub.status.idle": "2025-02-14T17:47:07.769461Z",
     "shell.execute_reply": "2025-02-14T17:47:07.769007Z"
    },
    "papermill": {
     "duration": 0.011592,
     "end_time": "2025-02-14T17:47:07.770323",
     "exception": false,
     "start_time": "2025-02-14T17:47:07.758731",
     "status": "completed"
    },
    "tags": []
   },
   "outputs": [],
   "source": [
    "def evaluate_mrr(model, data_loader_val, distance_fn):\n",
    "    model.eval()\n",
    "\n",
    "    total_rr = 0.0\n",
    "    num_queries = 0\n",
    "\n",
    "    with torch.no_grad():\n",
    "        for batch in data_loader_val:\n",
    "            anchor_text = batch[0]\n",
    "            positive_text = batch[1]\n",
    "            negative_texts = batch[2]\n",
    "\n",
    "            anchor_input = tokenizer(anchor_text, return_tensors='pt', padding=True, truncation=True, max_length=512).to(device)\n",
    "            positive_input = tokenizer(positive_text, return_tensors='pt', padding=True, truncation=True, max_length=512).to(device)\n",
    "\n",
    "        \n",
    "            anchor_embedding = model(**anchor_input).last_hidden_state[:, 0, :]\n",
    "            positive_embedding = model(**positive_input).last_hidden_state[:, 0, :]\n",
    "            negative_embedding = [model(**tokenizer(neg, return_tensors='pt', padding=True, truncation=True, max_length=512).to(device)).last_hidden_state[:, 0, :] for neg in negative_texts]\n",
    "\n",
    "            pos_dist = distance_fn(anchor_embedding, positive_embedding)\n",
    "            neg_dist = torch.stack([distance_fn(anchor_embedding, neg) for neg in negative_embedding], dim=-1)\n",
    "            all_similarities=torch.cat([-pos_dist.unsqueeze(1), -neg_dist], dim=1)\n",
    "\n",
    "            sorted_similarities, sorted_indices = torch.sort(all_similarities, dim=1, descending=True)\n",
    "\n",
    "            # Find the rank of the first relevant (positive) document\n",
    "            positive_rank = (sorted_indices == 0).nonzero(as_tuple=True)[1] + 1  # +1 to make rank 1-based\n",
    "            total_rr += torch.sum(1.0 / positive_rank.float()).item()\n",
    "            num_queries += len(positive_rank)\n",
    "\n",
    "    mrr = total_rr / num_queries\n",
    "    return mrr"
   ]
  },
  {
   "cell_type": "code",
   "execution_count": 37,
   "id": "41c731f9",
   "metadata": {
    "execution": {
     "iopub.execute_input": "2025-02-14T17:47:07.780485Z",
     "iopub.status.busy": "2025-02-14T17:47:07.780300Z",
     "iopub.status.idle": "2025-02-14T17:47:07.783631Z",
     "shell.execute_reply": "2025-02-14T17:47:07.783132Z"
    },
    "papermill": {
     "duration": 0.00904,
     "end_time": "2025-02-14T17:47:07.784175",
     "exception": false,
     "start_time": "2025-02-14T17:47:07.775135",
     "status": "completed"
    },
    "tags": []
   },
   "outputs": [],
   "source": [
    "import os\n",
    "save_dir =\"/dss/dsshome1/07/ra65bex2/srawat/v2/baseline\""
   ]
  },
  {
   "cell_type": "code",
   "execution_count": 38,
   "id": "6a3619e7",
   "metadata": {
    "execution": {
     "iopub.execute_input": "2025-02-14T17:47:07.794344Z",
     "iopub.status.busy": "2025-02-14T17:47:07.794172Z",
     "iopub.status.idle": "2025-02-14T17:47:07.796895Z",
     "shell.execute_reply": "2025-02-14T17:47:07.796528Z"
    },
    "papermill": {
     "duration": 0.008483,
     "end_time": "2025-02-14T17:47:07.797468",
     "exception": false,
     "start_time": "2025-02-14T17:47:07.788985",
     "status": "completed"
    },
    "tags": []
   },
   "outputs": [],
   "source": [
    "import time\n",
    "epoch_metrics = []"
   ]
  },
  {
   "cell_type": "code",
   "execution_count": 39,
   "id": "01892c06",
   "metadata": {
    "execution": {
     "iopub.execute_input": "2025-02-14T17:47:07.807476Z",
     "iopub.status.busy": "2025-02-14T17:47:07.807133Z",
     "iopub.status.idle": "2025-02-15T04:39:34.112609Z",
     "shell.execute_reply": "2025-02-15T04:39:34.111753Z"
    },
    "papermill": {
     "duration": 39146.318292,
     "end_time": "2025-02-15T04:39:34.120441",
     "exception": false,
     "start_time": "2025-02-14T17:47:07.802149",
     "status": "completed"
    },
    "tags": []
   },
   "outputs": [
    {
     "name": "stdout",
     "output_type": "stream",
     "text": [
      "EPOCH 1:\n",
      "Checkpoint saved: /dss/dsshome1/07/ra65bex2/srawat/v2/baseline/checkpoint_epoch_1.pth\n",
      "Epoch 1/3, Training Loss: 1.585928325815724\n"
     ]
    },
    {
     "name": "stdout",
     "output_type": "stream",
     "text": [
      "Mean Reciprocal Rank (MRR) for validation set: 0.6409\n",
      "Epoch 1 took 217.5235 minutes.\n",
      "\n",
      "\n"
     ]
    },
    {
     "name": "stdout",
     "output_type": "stream",
     "text": [
      "EPOCH 2:\n",
      "Checkpoint saved: /dss/dsshome1/07/ra65bex2/srawat/v2/baseline/checkpoint_epoch_2.pth\n",
      "Epoch 2/3, Training Loss: 1.5439890113452834\n"
     ]
    },
    {
     "name": "stdout",
     "output_type": "stream",
     "text": [
      "Mean Reciprocal Rank (MRR) for validation set: 0.6474\n",
      "Epoch 2 took 217.3832 minutes.\n",
      "\n",
      "\n"
     ]
    },
    {
     "name": "stdout",
     "output_type": "stream",
     "text": [
      "EPOCH 3:\n",
      "Checkpoint saved: /dss/dsshome1/07/ra65bex2/srawat/v2/baseline/checkpoint_epoch_3.pth\n",
      "Epoch 3/3, Training Loss: 1.5308515597758319\n"
     ]
    },
    {
     "name": "stdout",
     "output_type": "stream",
     "text": [
      "Mean Reciprocal Rank (MRR) for validation set: 0.6533\n",
      "Epoch 3 took 217.5316 minutes.\n",
      "\n",
      "\n"
     ]
    }
   ],
   "source": [
    "for epoch in range(num_epochs):\n",
    "    start_time = time.time()\n",
    "    lora_model.train() \n",
    "    \n",
    "    total_loss = 0.0\n",
    "    for batch in data_loader_train:\n",
    "    \n",
    "        anchor_texts = batch[0]\n",
    "        positive_texts = batch[1]\n",
    "        negative_texts = batch[2]\n",
    "\n",
    "        anchor_inputs = tokenizer(anchor_texts, return_tensors='pt', padding=True, truncation=True, max_length=512).to(device)\n",
    "        positive_inputs = tokenizer(positive_texts, return_tensors='pt', padding=True, truncation=True, max_length=512).to(device)\n",
    "    \n",
    "        anchor_embedding = lora_model(**anchor_inputs).last_hidden_state[:, 0, :]\n",
    "        positive_embedding = lora_model(**positive_inputs).last_hidden_state[:, 0, :]\n",
    "        negative_embedding = [lora_model(**tokenizer(neg, return_tensors='pt', padding=True, truncation=True, max_length=512).to(device)).last_hidden_state[:, 0, :] for neg in negative_texts]\n",
    "\n",
    "        loss = info_nce_loss(anchor_embedding, positive_embedding, negative_embedding, distance_fn=cosine_distance)\n",
    "        \n",
    "        optimizer.zero_grad()\n",
    "        loss.backward()\n",
    "        optimizer.step()\n",
    "        \n",
    "        total_loss += loss.item()\n",
    "    save_path = os.path.join(save_dir, f\"checkpoint_epoch_{epoch+1}.pth\")\n",
    "    torch.save(lora_model, save_path)\n",
    "    print(f\"EPOCH {epoch+1}:\")\n",
    "    print(f\"Checkpoint saved: {save_path}\")\n",
    "    print(f\"Epoch {epoch+1}/{num_epochs}, Training Loss: {total_loss / len(data_loader_train)}\")\n",
    "    mrr_validation = evaluate_mrr(lora_model, data_loader_val, cosine_distance)\n",
    "    #mrr_train = evaluate_mrr(lora_model, data_loader_train, cosine_distance)\n",
    "    #print(f\"Mean Reciprocal Rank (MRR) for training set: {mrr_train:.4f}\")\n",
    "    print(f\"Mean Reciprocal Rank (MRR) for validation set: {mrr_validation:.4f}\")\n",
    "    end_time = time.time()\n",
    "    print(f\"Epoch {epoch+1} took {(end_time - start_time) / 60:.4f} minutes.\")\n",
    "    print(f\"\\n\")\n",
    "    epoch_metrics.append({\n",
    "        'epoch': epoch + 1,\n",
    "        'training_loss': total_loss / len(data_loader_train),\n",
    "        'mrr_validation': mrr_validation,\n",
    "        'time_taken_minutes': (end_time - start_time) / 60\n",
    "    })"
   ]
  },
  {
   "cell_type": "code",
   "execution_count": 40,
   "id": "0a5a249d",
   "metadata": {
    "execution": {
     "iopub.execute_input": "2025-02-15T04:39:34.135012Z",
     "iopub.status.busy": "2025-02-15T04:39:34.134815Z",
     "iopub.status.idle": "2025-02-15T04:39:34.138216Z",
     "shell.execute_reply": "2025-02-15T04:39:34.137757Z"
    },
    "papermill": {
     "duration": 0.010023,
     "end_time": "2025-02-15T04:39:34.138788",
     "exception": false,
     "start_time": "2025-02-15T04:39:34.128765",
     "status": "completed"
    },
    "tags": []
   },
   "outputs": [],
   "source": [
    "import json"
   ]
  },
  {
   "cell_type": "code",
   "execution_count": 41,
   "id": "34a1f3ef",
   "metadata": {
    "execution": {
     "iopub.execute_input": "2025-02-15T04:39:34.149399Z",
     "iopub.status.busy": "2025-02-15T04:39:34.148957Z",
     "iopub.status.idle": "2025-02-15T04:39:34.249398Z",
     "shell.execute_reply": "2025-02-15T04:39:34.248156Z"
    },
    "papermill": {
     "duration": 0.106322,
     "end_time": "2025-02-15T04:39:34.250132",
     "exception": false,
     "start_time": "2025-02-15T04:39:34.143810",
     "status": "completed"
    },
    "tags": []
   },
   "outputs": [],
   "source": [
    "with open(save_dir + '/epoch_metrics.json', 'w') as f:\n",
    "    json.dump(epoch_metrics, f)"
   ]
  }
 ],
 "metadata": {
  "kernelspec": {
   "display_name": "Python (myenv)",
   "language": "python",
   "name": "myenv"
  },
  "language_info": {
   "codemirror_mode": {
    "name": "ipython",
    "version": 3
   },
   "file_extension": ".py",
   "mimetype": "text/x-python",
   "name": "python",
   "nbconvert_exporter": "python",
   "pygments_lexer": "ipython3",
   "version": "3.12.7"
  },
  "papermill": {
   "default_parameters": {},
   "duration": 39234.873636,
   "end_time": "2025-02-15T04:39:37.272691",
   "environment_variables": {},
   "exception": null,
   "input_path": "baseline.ipynb",
   "output_path": "baseline_output.ipynb",
   "parameters": {},
   "start_time": "2025-02-14T17:45:42.399055",
   "version": "2.6.0"
  }
 },
 "nbformat": 4,
 "nbformat_minor": 5
}