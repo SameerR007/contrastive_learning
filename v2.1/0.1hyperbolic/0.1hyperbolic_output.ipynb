{
 "cells": [
  {
   "cell_type": "code",
   "execution_count": 1,
   "id": "0d9737d8",
   "metadata": {
    "execution": {
     "iopub.execute_input": "2025-02-14T18:32:28.434274Z",
     "iopub.status.busy": "2025-02-14T18:32:28.433997Z",
     "iopub.status.idle": "2025-02-14T18:32:34.740176Z",
     "shell.execute_reply": "2025-02-14T18:32:34.739749Z"
    },
    "papermill": {
     "duration": 6.314029,
     "end_time": "2025-02-14T18:32:34.741341",
     "exception": false,
     "start_time": "2025-02-14T18:32:28.427312",
     "status": "completed"
    },
    "tags": []
   },
   "outputs": [],
   "source": [
    "from datasets import load_dataset"
   ]
  },
  {
   "cell_type": "code",
   "execution_count": 2,
   "id": "b373116b",
   "metadata": {
    "execution": {
     "iopub.execute_input": "2025-02-14T18:32:34.751626Z",
     "iopub.status.busy": "2025-02-14T18:32:34.751404Z",
     "iopub.status.idle": "2025-02-14T18:32:41.873213Z",
     "shell.execute_reply": "2025-02-14T18:32:41.872826Z"
    },
    "papermill": {
     "duration": 7.126846,
     "end_time": "2025-02-14T18:32:41.874189",
     "exception": false,
     "start_time": "2025-02-14T18:32:34.747343",
     "status": "completed"
    },
    "tags": []
   },
   "outputs": [],
   "source": [
    "dataset = load_dataset('ms_marco', 'v2.1')"
   ]
  },
  {
   "cell_type": "code",
   "execution_count": 3,
   "id": "11c0980f",
   "metadata": {
    "execution": {
     "iopub.execute_input": "2025-02-14T18:32:41.884741Z",
     "iopub.status.busy": "2025-02-14T18:32:41.884602Z",
     "iopub.status.idle": "2025-02-14T18:32:41.889041Z",
     "shell.execute_reply": "2025-02-14T18:32:41.888717Z"
    },
    "papermill": {
     "duration": 0.009376,
     "end_time": "2025-02-14T18:32:41.889623",
     "exception": false,
     "start_time": "2025-02-14T18:32:41.880247",
     "status": "completed"
    },
    "tags": []
   },
   "outputs": [
    {
     "data": {
      "text/plain": [
       "DatasetDict({\n",
       "    validation: Dataset({\n",
       "        features: ['answers', 'passages', 'query', 'query_id', 'query_type', 'wellFormedAnswers'],\n",
       "        num_rows: 101093\n",
       "    })\n",
       "    train: Dataset({\n",
       "        features: ['answers', 'passages', 'query', 'query_id', 'query_type', 'wellFormedAnswers'],\n",
       "        num_rows: 808731\n",
       "    })\n",
       "    test: Dataset({\n",
       "        features: ['answers', 'passages', 'query', 'query_id', 'query_type', 'wellFormedAnswers'],\n",
       "        num_rows: 101092\n",
       "    })\n",
       "})"
      ]
     },
     "execution_count": 3,
     "metadata": {},
     "output_type": "execute_result"
    }
   ],
   "source": [
    "dataset"
   ]
  },
  {
   "cell_type": "code",
   "execution_count": 4,
   "id": "40d21dcb",
   "metadata": {
    "execution": {
     "iopub.execute_input": "2025-02-14T18:32:41.898165Z",
     "iopub.status.busy": "2025-02-14T18:32:41.898038Z",
     "iopub.status.idle": "2025-02-14T18:32:45.187491Z",
     "shell.execute_reply": "2025-02-14T18:32:45.187137Z"
    },
    "papermill": {
     "duration": 3.294367,
     "end_time": "2025-02-14T18:32:45.188401",
     "exception": false,
     "start_time": "2025-02-14T18:32:41.894034",
     "status": "completed"
    },
    "tags": []
   },
   "outputs": [],
   "source": [
    "dataset_train = load_dataset('ms_marco', 'v2.1', split='train')"
   ]
  },
  {
   "cell_type": "code",
   "execution_count": 5,
   "id": "193d967c",
   "metadata": {
    "execution": {
     "iopub.execute_input": "2025-02-14T18:32:45.198608Z",
     "iopub.status.busy": "2025-02-14T18:32:45.198475Z",
     "iopub.status.idle": "2025-02-14T18:32:45.201351Z",
     "shell.execute_reply": "2025-02-14T18:32:45.201058Z"
    },
    "papermill": {
     "duration": 0.007501,
     "end_time": "2025-02-14T18:32:45.201937",
     "exception": false,
     "start_time": "2025-02-14T18:32:45.194436",
     "status": "completed"
    },
    "tags": []
   },
   "outputs": [
    {
     "data": {
      "text/plain": [
       "Dataset({\n",
       "    features: ['answers', 'passages', 'query', 'query_id', 'query_type', 'wellFormedAnswers'],\n",
       "    num_rows: 808731\n",
       "})"
      ]
     },
     "execution_count": 5,
     "metadata": {},
     "output_type": "execute_result"
    }
   ],
   "source": [
    "dataset_train"
   ]
  },
  {
   "cell_type": "code",
   "execution_count": 6,
   "id": "28cd8d68",
   "metadata": {
    "execution": {
     "iopub.execute_input": "2025-02-14T18:32:45.210283Z",
     "iopub.status.busy": "2025-02-14T18:32:45.210156Z",
     "iopub.status.idle": "2025-02-14T18:32:45.213473Z",
     "shell.execute_reply": "2025-02-14T18:32:45.213172Z"
    },
    "papermill": {
     "duration": 0.007982,
     "end_time": "2025-02-14T18:32:45.214053",
     "exception": false,
     "start_time": "2025-02-14T18:32:45.206071",
     "status": "completed"
    },
    "tags": []
   },
   "outputs": [],
   "source": [
    "def preprocess(example):\n",
    "    positive_passages=[]\n",
    "    for p in enumerate(example['passages'][\"is_selected\"]):\n",
    "        if p[1]==1:\n",
    "            positive_passages.append(example[\"passages\"][\"passage_text\"][p[0]])\n",
    "    negative_passages = []\n",
    "    for p in enumerate(example['passages'][\"is_selected\"]):\n",
    "        if p[1]==0:\n",
    "            negative_passages.append(example[\"passages\"][\"passage_text\"][p[0]])\n",
    "    if (len(positive_passages)>0 and len(negative_passages)>=5):\n",
    "        positive = positive_passages[0]\n",
    "        negatives = negative_passages[:5]\n",
    "        return {\n",
    "            \"query\": example[\"query\"],\n",
    "            \"positive\": positive,\n",
    "            \"negatives\": negatives\n",
    "        }\n",
    "    else:\n",
    "        return {\"query\": None, \"positive\": None, \"negatives\": None}"
   ]
  },
  {
   "cell_type": "code",
   "execution_count": 7,
   "id": "7d9505ba",
   "metadata": {
    "execution": {
     "iopub.execute_input": "2025-02-14T18:32:45.222138Z",
     "iopub.status.busy": "2025-02-14T18:32:45.222013Z",
     "iopub.status.idle": "2025-02-14T18:32:45.968166Z",
     "shell.execute_reply": "2025-02-14T18:32:45.967669Z"
    },
    "papermill": {
     "duration": 0.751304,
     "end_time": "2025-02-14T18:32:45.969225",
     "exception": false,
     "start_time": "2025-02-14T18:32:45.217921",
     "status": "completed"
    },
    "tags": []
   },
   "outputs": [],
   "source": [
    "processed_data_train = dataset_train.map(preprocess, remove_columns=dataset_train.column_names)"
   ]
  },
  {
   "cell_type": "code",
   "execution_count": 8,
   "id": "93fd0e20",
   "metadata": {
    "execution": {
     "iopub.execute_input": "2025-02-14T18:32:45.978284Z",
     "iopub.status.busy": "2025-02-14T18:32:45.978131Z",
     "iopub.status.idle": "2025-02-14T18:32:46.033149Z",
     "shell.execute_reply": "2025-02-14T18:32:46.032814Z"
    },
    "papermill": {
     "duration": 0.060015,
     "end_time": "2025-02-14T18:32:46.033858",
     "exception": false,
     "start_time": "2025-02-14T18:32:45.973843",
     "status": "completed"
    },
    "tags": []
   },
   "outputs": [],
   "source": [
    "processed_data_train = processed_data_train.filter(lambda x: x['query'] is not None and x['positive'] is not None)"
   ]
  },
  {
   "cell_type": "code",
   "execution_count": 9,
   "id": "15e59aec",
   "metadata": {
    "execution": {
     "iopub.execute_input": "2025-02-14T18:32:46.042367Z",
     "iopub.status.busy": "2025-02-14T18:32:46.041965Z",
     "iopub.status.idle": "2025-02-14T18:33:27.219671Z",
     "shell.execute_reply": "2025-02-14T18:33:27.219264Z"
    },
    "papermill": {
     "duration": 41.182856,
     "end_time": "2025-02-14T18:33:27.220635",
     "exception": false,
     "start_time": "2025-02-14T18:32:46.037779",
     "status": "completed"
    },
    "tags": []
   },
   "outputs": [],
   "source": [
    "contrastive_pairs_train = []\n",
    "for item in processed_data_train:\n",
    "    query = item[\"query\"]\n",
    "    positive = item[\"positive\"]\n",
    "    negatives = item[\"negatives\"]\n",
    "    contrastive_pairs_train.append({\n",
    "        \"anchor\": query,\n",
    "        \"positive\": positive,\n",
    "        \"negatives\": negatives\n",
    "    })"
   ]
  },
  {
   "cell_type": "code",
   "execution_count": 10,
   "id": "c529873c",
   "metadata": {
    "execution": {
     "iopub.execute_input": "2025-02-14T18:33:27.232395Z",
     "iopub.status.busy": "2025-02-14T18:33:27.232241Z",
     "iopub.status.idle": "2025-02-14T18:33:27.235059Z",
     "shell.execute_reply": "2025-02-14T18:33:27.234771Z"
    },
    "papermill": {
     "duration": 0.007932,
     "end_time": "2025-02-14T18:33:27.235643",
     "exception": false,
     "start_time": "2025-02-14T18:33:27.227711",
     "status": "completed"
    },
    "tags": []
   },
   "outputs": [
    {
     "data": {
      "text/plain": [
       "502824"
      ]
     },
     "execution_count": 10,
     "metadata": {},
     "output_type": "execute_result"
    }
   ],
   "source": [
    "len(contrastive_pairs_train)"
   ]
  },
  {
   "cell_type": "code",
   "execution_count": 11,
   "id": "b6e2d1e9",
   "metadata": {
    "execution": {
     "iopub.execute_input": "2025-02-14T18:33:27.244346Z",
     "iopub.status.busy": "2025-02-14T18:33:27.244143Z",
     "iopub.status.idle": "2025-02-14T18:33:40.297202Z",
     "shell.execute_reply": "2025-02-14T18:33:40.296727Z"
    },
    "papermill": {
     "duration": 13.058413,
     "end_time": "2025-02-14T18:33:40.298095",
     "exception": false,
     "start_time": "2025-02-14T18:33:27.239682",
     "status": "completed"
    },
    "tags": []
   },
   "outputs": [],
   "source": [
    "from torch.utils.data import DataLoader"
   ]
  },
  {
   "cell_type": "code",
   "execution_count": 12,
   "id": "60861937",
   "metadata": {
    "execution": {
     "iopub.execute_input": "2025-02-14T18:33:40.309408Z",
     "iopub.status.busy": "2025-02-14T18:33:40.309188Z",
     "iopub.status.idle": "2025-02-14T18:33:40.311999Z",
     "shell.execute_reply": "2025-02-14T18:33:40.311651Z"
    },
    "papermill": {
     "duration": 0.007845,
     "end_time": "2025-02-14T18:33:40.312553",
     "exception": false,
     "start_time": "2025-02-14T18:33:40.304708",
     "status": "completed"
    },
    "tags": []
   },
   "outputs": [],
   "source": [
    "class ContrastiveDataset:\n",
    "    def __init__(self, pairs):\n",
    "        self.pairs = pairs\n",
    "\n",
    "    def __len__(self):\n",
    "        return len(self.pairs)\n",
    "\n",
    "    def __getitem__(self, idx):\n",
    "        item = self.pairs[idx]\n",
    "        return item[\"anchor\"], item[\"positive\"], item[\"negatives\"]"
   ]
  },
  {
   "cell_type": "code",
   "execution_count": 13,
   "id": "1321e09f",
   "metadata": {
    "execution": {
     "iopub.execute_input": "2025-02-14T18:33:40.321210Z",
     "iopub.status.busy": "2025-02-14T18:33:40.320946Z",
     "iopub.status.idle": "2025-02-14T18:33:40.322926Z",
     "shell.execute_reply": "2025-02-14T18:33:40.322597Z"
    },
    "papermill": {
     "duration": 0.006931,
     "end_time": "2025-02-14T18:33:40.323463",
     "exception": false,
     "start_time": "2025-02-14T18:33:40.316532",
     "status": "completed"
    },
    "tags": []
   },
   "outputs": [],
   "source": [
    "contrastive_dataset_train = ContrastiveDataset(contrastive_pairs_train)"
   ]
  },
  {
   "cell_type": "code",
   "execution_count": 14,
   "id": "7b8c1a40",
   "metadata": {
    "execution": {
     "iopub.execute_input": "2025-02-14T18:33:40.332350Z",
     "iopub.status.busy": "2025-02-14T18:33:40.332224Z",
     "iopub.status.idle": "2025-02-14T18:33:40.334460Z",
     "shell.execute_reply": "2025-02-14T18:33:40.334117Z"
    },
    "papermill": {
     "duration": 0.007488,
     "end_time": "2025-02-14T18:33:40.335001",
     "exception": false,
     "start_time": "2025-02-14T18:33:40.327513",
     "status": "completed"
    },
    "tags": []
   },
   "outputs": [],
   "source": [
    "data_loader_train = DataLoader(contrastive_dataset_train, batch_size=32, shuffle=True)"
   ]
  },
  {
   "cell_type": "code",
   "execution_count": 15,
   "id": "442b911b",
   "metadata": {
    "execution": {
     "iopub.execute_input": "2025-02-14T18:33:40.343302Z",
     "iopub.status.busy": "2025-02-14T18:33:40.343173Z",
     "iopub.status.idle": "2025-02-14T18:33:40.345947Z",
     "shell.execute_reply": "2025-02-14T18:33:40.345571Z"
    },
    "papermill": {
     "duration": 0.007564,
     "end_time": "2025-02-14T18:33:40.346522",
     "exception": false,
     "start_time": "2025-02-14T18:33:40.338958",
     "status": "completed"
    },
    "tags": []
   },
   "outputs": [
    {
     "data": {
      "text/plain": [
       "15714"
      ]
     },
     "execution_count": 15,
     "metadata": {},
     "output_type": "execute_result"
    }
   ],
   "source": [
    "len(data_loader_train)"
   ]
  },
  {
   "cell_type": "code",
   "execution_count": 16,
   "id": "a38b6b43",
   "metadata": {
    "execution": {
     "iopub.execute_input": "2025-02-14T18:33:40.355235Z",
     "iopub.status.busy": "2025-02-14T18:33:40.354931Z",
     "iopub.status.idle": "2025-02-14T18:33:53.211822Z",
     "shell.execute_reply": "2025-02-14T18:33:53.211353Z"
    },
    "papermill": {
     "duration": 12.862482,
     "end_time": "2025-02-14T18:33:53.213086",
     "exception": false,
     "start_time": "2025-02-14T18:33:40.350604",
     "status": "completed"
    },
    "tags": []
   },
   "outputs": [],
   "source": [
    "from transformers import AutoTokenizer, AutoModel\n",
    "tokenizer = AutoTokenizer.from_pretrained(\"bert-base-uncased\")"
   ]
  },
  {
   "cell_type": "code",
   "execution_count": 17,
   "id": "51339f6e",
   "metadata": {
    "execution": {
     "iopub.execute_input": "2025-02-14T18:33:53.224273Z",
     "iopub.status.busy": "2025-02-14T18:33:53.223948Z",
     "iopub.status.idle": "2025-02-14T18:33:58.093328Z",
     "shell.execute_reply": "2025-02-14T18:33:58.092871Z"
    },
    "papermill": {
     "duration": 4.874846,
     "end_time": "2025-02-14T18:33:58.094276",
     "exception": false,
     "start_time": "2025-02-14T18:33:53.219430",
     "status": "completed"
    },
    "tags": []
   },
   "outputs": [],
   "source": [
    "model = AutoModel.from_pretrained(\"bert-base-uncased\")"
   ]
  },
  {
   "cell_type": "code",
   "execution_count": 18,
   "id": "b3e72444",
   "metadata": {
    "execution": {
     "iopub.execute_input": "2025-02-14T18:33:58.105903Z",
     "iopub.status.busy": "2025-02-14T18:33:58.105669Z",
     "iopub.status.idle": "2025-02-14T18:33:58.829372Z",
     "shell.execute_reply": "2025-02-14T18:33:58.828940Z"
    },
    "papermill": {
     "duration": 0.729191,
     "end_time": "2025-02-14T18:33:58.830145",
     "exception": false,
     "start_time": "2025-02-14T18:33:58.100954",
     "status": "completed"
    },
    "tags": []
   },
   "outputs": [],
   "source": [
    "from peft import LoraConfig, get_peft_model"
   ]
  },
  {
   "cell_type": "code",
   "execution_count": 19,
   "id": "8428f110",
   "metadata": {
    "execution": {
     "iopub.execute_input": "2025-02-14T18:33:58.839425Z",
     "iopub.status.busy": "2025-02-14T18:33:58.839288Z",
     "iopub.status.idle": "2025-02-14T18:33:58.841441Z",
     "shell.execute_reply": "2025-02-14T18:33:58.841094Z"
    },
    "papermill": {
     "duration": 0.007293,
     "end_time": "2025-02-14T18:33:58.842012",
     "exception": false,
     "start_time": "2025-02-14T18:33:58.834719",
     "status": "completed"
    },
    "tags": []
   },
   "outputs": [],
   "source": [
    "lora_config = LoraConfig(\n",
    "    task_type= \"FEATURE_EXTRACTION\"\n",
    ")"
   ]
  },
  {
   "cell_type": "code",
   "execution_count": 20,
   "id": "45da191a",
   "metadata": {
    "execution": {
     "iopub.execute_input": "2025-02-14T18:33:58.850989Z",
     "iopub.status.busy": "2025-02-14T18:33:58.850725Z",
     "iopub.status.idle": "2025-02-14T18:33:58.876031Z",
     "shell.execute_reply": "2025-02-14T18:33:58.875591Z"
    },
    "papermill": {
     "duration": 0.030486,
     "end_time": "2025-02-14T18:33:58.876667",
     "exception": false,
     "start_time": "2025-02-14T18:33:58.846181",
     "status": "completed"
    },
    "tags": []
   },
   "outputs": [],
   "source": [
    "lora_model = get_peft_model(model, lora_config)"
   ]
  },
  {
   "cell_type": "code",
   "execution_count": 21,
   "id": "18fdbc79",
   "metadata": {
    "execution": {
     "iopub.execute_input": "2025-02-14T18:33:58.885770Z",
     "iopub.status.busy": "2025-02-14T18:33:58.885606Z",
     "iopub.status.idle": "2025-02-14T18:33:58.887796Z",
     "shell.execute_reply": "2025-02-14T18:33:58.887428Z"
    },
    "papermill": {
     "duration": 0.007276,
     "end_time": "2025-02-14T18:33:58.888325",
     "exception": false,
     "start_time": "2025-02-14T18:33:58.881049",
     "status": "completed"
    },
    "tags": []
   },
   "outputs": [],
   "source": [
    "import torch"
   ]
  },
  {
   "cell_type": "code",
   "execution_count": 22,
   "id": "c54a1030",
   "metadata": {
    "execution": {
     "iopub.execute_input": "2025-02-14T18:33:58.897702Z",
     "iopub.status.busy": "2025-02-14T18:33:58.897324Z",
     "iopub.status.idle": "2025-02-14T18:33:58.900042Z",
     "shell.execute_reply": "2025-02-14T18:33:58.899700Z"
    },
    "papermill": {
     "duration": 0.008015,
     "end_time": "2025-02-14T18:33:58.900592",
     "exception": false,
     "start_time": "2025-02-14T18:33:58.892577",
     "status": "completed"
    },
    "tags": []
   },
   "outputs": [],
   "source": [
    "def lorentzian_distance(x, y):\n",
    "    \n",
    "    dot_product = torch.sum(x * y, dim=-1)\n",
    "    norm_x = torch.norm(x, dim=-1)\n",
    "    norm_y = torch.norm(y, dim=-1)\n",
    "    \n",
    "    distance = torch.acosh(-dot_product + torch.sqrt((1 + norm_x**2) * (1 + norm_y**2)))\n",
    "    return distance"
   ]
  },
  {
   "cell_type": "code",
   "execution_count": 23,
   "id": "03f512f5",
   "metadata": {
    "execution": {
     "iopub.execute_input": "2025-02-14T18:33:58.909624Z",
     "iopub.status.busy": "2025-02-14T18:33:58.909476Z",
     "iopub.status.idle": "2025-02-14T18:33:58.912295Z",
     "shell.execute_reply": "2025-02-14T18:33:58.911953Z"
    },
    "papermill": {
     "duration": 0.007983,
     "end_time": "2025-02-14T18:33:58.912891",
     "exception": false,
     "start_time": "2025-02-14T18:33:58.904908",
     "status": "completed"
    },
    "tags": []
   },
   "outputs": [],
   "source": [
    "def info_nce_loss(anchor_embedding, positive_embedding, negative_embedding, distance_fn):\n",
    "\n",
    "    pos_dist = distance_fn(anchor_embedding, positive_embedding)\n",
    "    neg_dist = torch.stack([distance_fn(anchor_embedding, neg) for neg in negative_embedding], dim=-1)\n",
    "    \n",
    "    logits = torch.cat([-pos_dist.unsqueeze(1), -neg_dist], dim=1)\n",
    "    labels = torch.zeros(logits.size(0), dtype=torch.long, device=logits.device)\n",
    "\n",
    "    loss = torch.nn.CrossEntropyLoss()(logits, labels)\n",
    "    return loss"
   ]
  },
  {
   "cell_type": "code",
   "execution_count": 24,
   "id": "dbed2bf1",
   "metadata": {
    "execution": {
     "iopub.execute_input": "2025-02-14T18:33:58.922127Z",
     "iopub.status.busy": "2025-02-14T18:33:58.921679Z",
     "iopub.status.idle": "2025-02-14T18:33:58.924672Z",
     "shell.execute_reply": "2025-02-14T18:33:58.924332Z"
    },
    "papermill": {
     "duration": 0.008087,
     "end_time": "2025-02-14T18:33:58.925235",
     "exception": false,
     "start_time": "2025-02-14T18:33:58.917148",
     "status": "completed"
    },
    "tags": []
   },
   "outputs": [],
   "source": [
    "def exterior_angle(x_space, y_space, c):\n",
    "    norm_x_space = torch.norm(x_space, p=2, dim=-1)\n",
    "    norm_y_space = torch.norm(y_space, p=2, dim=-1)\n",
    "    x_time = torch.sqrt(1/c + norm_x_space**2)\n",
    "    y_time = torch.sqrt(1/c + norm_y_space**2)\n",
    "    dot_product = torch.sum(x_space * y_space, dim=-1)\n",
    "    lorentz_inner_product =  dot_product - x_time * y_time\n",
    "    numerator = y_time + x_time * c * lorentz_inner_product\n",
    "    denominator = norm_x_space * torch.sqrt((c * lorentz_inner_product)**2 - 1)\n",
    "    ext_angle = torch.acos(numerator / denominator)\n",
    "    return ext_angle"
   ]
  },
  {
   "cell_type": "code",
   "execution_count": 25,
   "id": "67c87693",
   "metadata": {
    "execution": {
     "iopub.execute_input": "2025-02-14T18:33:58.934286Z",
     "iopub.status.busy": "2025-02-14T18:33:58.934156Z",
     "iopub.status.idle": "2025-02-14T18:33:58.936853Z",
     "shell.execute_reply": "2025-02-14T18:33:58.936471Z"
    },
    "papermill": {
     "duration": 0.007773,
     "end_time": "2025-02-14T18:33:58.937379",
     "exception": false,
     "start_time": "2025-02-14T18:33:58.929606",
     "status": "completed"
    },
    "tags": []
   },
   "outputs": [],
   "source": [
    "def entailment_loss(x, y, c=1, K=0.1):\n",
    "    c = torch.tensor(c)\n",
    "    K = torch.tensor(K)\n",
    "    xspace = x\n",
    "    yspace = y\n",
    "    aperture = torch.asin(2 * K / (torch.sqrt(c) * torch.norm(xspace, p=2, dim=-1)))\n",
    "    \n",
    "    ext_angle = exterior_angle(xspace,yspace,c=c)\n",
    "    \n",
    "    loss = torch.max(torch.zeros_like(ext_angle), ext_angle - aperture)\n",
    "    return loss.mean()"
   ]
  },
  {
   "cell_type": "code",
   "execution_count": 26,
   "id": "1b19764b",
   "metadata": {
    "execution": {
     "iopub.execute_input": "2025-02-14T18:33:58.946591Z",
     "iopub.status.busy": "2025-02-14T18:33:58.946465Z",
     "iopub.status.idle": "2025-02-14T18:33:58.949182Z",
     "shell.execute_reply": "2025-02-14T18:33:58.948843Z"
    },
    "papermill": {
     "duration": 0.007885,
     "end_time": "2025-02-14T18:33:58.949741",
     "exception": false,
     "start_time": "2025-02-14T18:33:58.941856",
     "status": "completed"
    },
    "tags": []
   },
   "outputs": [],
   "source": [
    "def expm_o(v, c=1.0):\n",
    "    c = torch.tensor(c)\n",
    "    vspace = v\n",
    "    vnorm = torch.norm(v, p=2, dim=-1, keepdim=True)\n",
    "    xspace = torch.sinh(torch.sqrt(c) * vnorm) * vspace / (torch.sqrt(c) * vnorm)\n",
    "    batch_min = xspace.min(dim=1, keepdim=True).values\n",
    "    batch_max = xspace.max(dim=1, keepdim=True).values\n",
    "    xspace_scaled=(xspace - batch_min) / (batch_max - batch_min)\n",
    "    return xspace_scaled"
   ]
  },
  {
   "cell_type": "code",
   "execution_count": 27,
   "id": "096a1255",
   "metadata": {
    "execution": {
     "iopub.execute_input": "2025-02-14T18:33:58.958963Z",
     "iopub.status.busy": "2025-02-14T18:33:58.958668Z",
     "iopub.status.idle": "2025-02-14T18:33:58.961919Z",
     "shell.execute_reply": "2025-02-14T18:33:58.961537Z"
    },
    "papermill": {
     "duration": 0.008474,
     "end_time": "2025-02-14T18:33:58.962496",
     "exception": false,
     "start_time": "2025-02-14T18:33:58.954022",
     "status": "completed"
    },
    "tags": []
   },
   "outputs": [],
   "source": [
    "optimizer = torch.optim.AdamW(lora_model.parameters(), lr=5e-5)"
   ]
  },
  {
   "cell_type": "code",
   "execution_count": 28,
   "id": "d36c509d",
   "metadata": {
    "execution": {
     "iopub.execute_input": "2025-02-14T18:33:58.972178Z",
     "iopub.status.busy": "2025-02-14T18:33:58.971744Z",
     "iopub.status.idle": "2025-02-14T18:33:58.973903Z",
     "shell.execute_reply": "2025-02-14T18:33:58.973542Z"
    },
    "papermill": {
     "duration": 0.007478,
     "end_time": "2025-02-14T18:33:58.974432",
     "exception": false,
     "start_time": "2025-02-14T18:33:58.966954",
     "status": "completed"
    },
    "tags": []
   },
   "outputs": [],
   "source": [
    "num_epochs=3"
   ]
  },
  {
   "cell_type": "code",
   "execution_count": 29,
   "id": "c656702e",
   "metadata": {
    "execution": {
     "iopub.execute_input": "2025-02-14T18:33:58.984018Z",
     "iopub.status.busy": "2025-02-14T18:33:58.983622Z",
     "iopub.status.idle": "2025-02-14T18:33:59.356200Z",
     "shell.execute_reply": "2025-02-14T18:33:59.355739Z"
    },
    "papermill": {
     "duration": 0.377919,
     "end_time": "2025-02-14T18:33:59.356811",
     "exception": false,
     "start_time": "2025-02-14T18:33:58.978892",
     "status": "completed"
    },
    "tags": []
   },
   "outputs": [],
   "source": [
    "device = torch.device('cuda' if torch.cuda.is_available() else 'cpu')"
   ]
  },
  {
   "cell_type": "code",
   "execution_count": 30,
   "id": "29b24709",
   "metadata": {
    "execution": {
     "iopub.execute_input": "2025-02-14T18:33:59.366217Z",
     "iopub.status.busy": "2025-02-14T18:33:59.366083Z",
     "iopub.status.idle": "2025-02-14T18:33:59.368903Z",
     "shell.execute_reply": "2025-02-14T18:33:59.368564Z"
    },
    "papermill": {
     "duration": 0.00809,
     "end_time": "2025-02-14T18:33:59.369436",
     "exception": false,
     "start_time": "2025-02-14T18:33:59.361346",
     "status": "completed"
    },
    "tags": []
   },
   "outputs": [
    {
     "data": {
      "text/plain": [
       "device(type='cuda')"
      ]
     },
     "execution_count": 30,
     "metadata": {},
     "output_type": "execute_result"
    }
   ],
   "source": [
    "device"
   ]
  },
  {
   "cell_type": "code",
   "execution_count": 31,
   "id": "b4dd1b0c",
   "metadata": {
    "execution": {
     "iopub.execute_input": "2025-02-14T18:33:59.379363Z",
     "iopub.status.busy": "2025-02-14T18:33:59.378900Z",
     "iopub.status.idle": "2025-02-14T18:34:02.163367Z",
     "shell.execute_reply": "2025-02-14T18:34:02.162858Z"
    },
    "papermill": {
     "duration": 2.790256,
     "end_time": "2025-02-14T18:34:02.164217",
     "exception": false,
     "start_time": "2025-02-14T18:33:59.373961",
     "status": "completed"
    },
    "tags": []
   },
   "outputs": [],
   "source": [
    "lora_model = lora_model.to(device)"
   ]
  },
  {
   "cell_type": "code",
   "execution_count": 32,
   "id": "ccdd860b",
   "metadata": {
    "execution": {
     "iopub.execute_input": "2025-02-14T18:34:02.177158Z",
     "iopub.status.busy": "2025-02-14T18:34:02.176957Z",
     "iopub.status.idle": "2025-02-14T18:34:05.390844Z",
     "shell.execute_reply": "2025-02-14T18:34:05.390433Z"
    },
    "papermill": {
     "duration": 3.220042,
     "end_time": "2025-02-14T18:34:05.391708",
     "exception": false,
     "start_time": "2025-02-14T18:34:02.171666",
     "status": "completed"
    },
    "tags": []
   },
   "outputs": [],
   "source": [
    "dataset_val = load_dataset('ms_marco', 'v2.1', split='validation')"
   ]
  },
  {
   "cell_type": "code",
   "execution_count": 33,
   "id": "c2ab22ac",
   "metadata": {
    "execution": {
     "iopub.execute_input": "2025-02-14T18:34:05.401779Z",
     "iopub.status.busy": "2025-02-14T18:34:05.401643Z",
     "iopub.status.idle": "2025-02-14T18:34:05.764962Z",
     "shell.execute_reply": "2025-02-14T18:34:05.764492Z"
    },
    "papermill": {
     "duration": 0.368968,
     "end_time": "2025-02-14T18:34:05.765630",
     "exception": false,
     "start_time": "2025-02-14T18:34:05.396662",
     "status": "completed"
    },
    "tags": []
   },
   "outputs": [],
   "source": [
    "processed_data_val = dataset_val.map(preprocess, remove_columns=dataset_val.column_names)"
   ]
  },
  {
   "cell_type": "code",
   "execution_count": 34,
   "id": "a812be26",
   "metadata": {
    "execution": {
     "iopub.execute_input": "2025-02-14T18:34:05.776147Z",
     "iopub.status.busy": "2025-02-14T18:34:05.775737Z",
     "iopub.status.idle": "2025-02-14T18:34:05.788297Z",
     "shell.execute_reply": "2025-02-14T18:34:05.787945Z"
    },
    "papermill": {
     "duration": 0.018378,
     "end_time": "2025-02-14T18:34:05.788877",
     "exception": false,
     "start_time": "2025-02-14T18:34:05.770499",
     "status": "completed"
    },
    "tags": []
   },
   "outputs": [],
   "source": [
    "processed_data_val = processed_data_val.filter(lambda x: x['query'] is not None and x['positive'] is not None)"
   ]
  },
  {
   "cell_type": "code",
   "execution_count": 35,
   "id": "9d634003",
   "metadata": {
    "execution": {
     "iopub.execute_input": "2025-02-14T18:34:05.798930Z",
     "iopub.status.busy": "2025-02-14T18:34:05.798798Z",
     "iopub.status.idle": "2025-02-14T18:34:10.074201Z",
     "shell.execute_reply": "2025-02-14T18:34:10.073735Z"
    },
    "papermill": {
     "duration": 4.281308,
     "end_time": "2025-02-14T18:34:10.075005",
     "exception": false,
     "start_time": "2025-02-14T18:34:05.793697",
     "status": "completed"
    },
    "tags": []
   },
   "outputs": [],
   "source": [
    "contrastive_pairs_val = []\n",
    "for item in processed_data_val:\n",
    "    query = item[\"query\"]\n",
    "    positive = item[\"positive\"]\n",
    "    negatives = item[\"negatives\"]\n",
    "    contrastive_pairs_val.append({\n",
    "        \"anchor\": query,\n",
    "        \"positive\": positive,\n",
    "        \"negatives\": negatives\n",
    "    })"
   ]
  },
  {
   "cell_type": "code",
   "execution_count": 36,
   "id": "f3446e1e",
   "metadata": {
    "execution": {
     "iopub.execute_input": "2025-02-14T18:34:10.087590Z",
     "iopub.status.busy": "2025-02-14T18:34:10.087275Z",
     "iopub.status.idle": "2025-02-14T18:34:10.089448Z",
     "shell.execute_reply": "2025-02-14T18:34:10.089113Z"
    },
    "papermill": {
     "duration": 0.007603,
     "end_time": "2025-02-14T18:34:10.089977",
     "exception": false,
     "start_time": "2025-02-14T18:34:10.082374",
     "status": "completed"
    },
    "tags": []
   },
   "outputs": [],
   "source": [
    "contrastive_dataset_val = ContrastiveDataset(contrastive_pairs_val)"
   ]
  },
  {
   "cell_type": "code",
   "execution_count": 37,
   "id": "9697ddd4",
   "metadata": {
    "execution": {
     "iopub.execute_input": "2025-02-14T18:34:10.100013Z",
     "iopub.status.busy": "2025-02-14T18:34:10.099830Z",
     "iopub.status.idle": "2025-02-14T18:34:10.102485Z",
     "shell.execute_reply": "2025-02-14T18:34:10.102138Z"
    },
    "papermill": {
     "duration": 0.008257,
     "end_time": "2025-02-14T18:34:10.103044",
     "exception": false,
     "start_time": "2025-02-14T18:34:10.094787",
     "status": "completed"
    },
    "tags": []
   },
   "outputs": [],
   "source": [
    "data_loader_val = DataLoader(contrastive_dataset_val, batch_size=32, shuffle=True)"
   ]
  },
  {
   "cell_type": "code",
   "execution_count": 38,
   "id": "11d4a288",
   "metadata": {
    "execution": {
     "iopub.execute_input": "2025-02-14T18:34:10.112791Z",
     "iopub.status.busy": "2025-02-14T18:34:10.112447Z",
     "iopub.status.idle": "2025-02-14T18:34:10.116938Z",
     "shell.execute_reply": "2025-02-14T18:34:10.116575Z"
    },
    "papermill": {
     "duration": 0.009862,
     "end_time": "2025-02-14T18:34:10.117466",
     "exception": false,
     "start_time": "2025-02-14T18:34:10.107604",
     "status": "completed"
    },
    "tags": []
   },
   "outputs": [],
   "source": [
    "def evaluate_mrr(model1, data_loader_val, distance_fn):\n",
    "    model1.eval()\n",
    "    \n",
    "    total_rr = 0.0\n",
    "    num_queries = 0\n",
    "\n",
    "    with torch.no_grad():\n",
    "        for batch in data_loader_val:\n",
    "            anchor_text = batch[0]\n",
    "            positive_text = batch[1]\n",
    "            negative_texts = batch[2]\n",
    "\n",
    "            anchor_input = tokenizer(anchor_text, return_tensors='pt', padding=True, truncation=True, max_length=512).to(device)\n",
    "            positive_input = tokenizer(positive_text, return_tensors='pt', padding=True, truncation=True, max_length=512).to(device)\n",
    "\n",
    "            anchor_embedding = expm_o(model1(**anchor_input).last_hidden_state[:, 0, :])\n",
    "            positive_embedding = expm_o(model1(**positive_input).last_hidden_state[:, 0, :])\n",
    "            negative_embedding = [expm_o(model1(**tokenizer(neg, return_tensors='pt', padding=True, truncation=True, max_length=512).to(device)).last_hidden_state[:, 0, :]) for neg in negative_texts]\n",
    "\n",
    "            pos_dist = distance_fn(anchor_embedding, positive_embedding)\n",
    "            neg_dist = torch.stack([distance_fn(anchor_embedding, neg) for neg in negative_embedding], dim=-1)\n",
    "            all_similarities=torch.cat([-pos_dist.unsqueeze(1), -neg_dist], dim=1)\n",
    "\n",
    "            sorted_similarities, sorted_indices = torch.sort(all_similarities, dim=1, descending=True)\n",
    "\n",
    "            # Find the rank of the first relevant (positive) document\n",
    "            positive_rank = (sorted_indices == 0).nonzero(as_tuple=True)[1] + 1  # +1 to make rank 1-based\n",
    "            total_rr += torch.sum(1.0 / positive_rank.float()).item()  # Reciprocal rank\n",
    "            num_queries += len(positive_rank)\n",
    "            \n",
    "    mrr = total_rr / num_queries\n",
    "    return mrr"
   ]
  },
  {
   "cell_type": "code",
   "execution_count": 39,
   "id": "9fad62a9",
   "metadata": {
    "execution": {
     "iopub.execute_input": "2025-02-14T18:34:10.126989Z",
     "iopub.status.busy": "2025-02-14T18:34:10.126862Z",
     "iopub.status.idle": "2025-02-14T18:34:10.129080Z",
     "shell.execute_reply": "2025-02-14T18:34:10.128719Z"
    },
    "papermill": {
     "duration": 0.007569,
     "end_time": "2025-02-14T18:34:10.129612",
     "exception": false,
     "start_time": "2025-02-14T18:34:10.122043",
     "status": "completed"
    },
    "tags": []
   },
   "outputs": [],
   "source": [
    "import os\n",
    "save_dir =\"/dss/dsshome1/07/ra65bex2/srawat/v2/0.1hyperbolic\"\n",
    "import time\n",
    "epoch_metrics = []"
   ]
  },
  {
   "cell_type": "code",
   "execution_count": 40,
   "id": "45e1134a",
   "metadata": {
    "execution": {
     "iopub.execute_input": "2025-02-14T18:34:10.139436Z",
     "iopub.status.busy": "2025-02-14T18:34:10.139066Z",
     "iopub.status.idle": "2025-02-15T05:26:31.051776Z",
     "shell.execute_reply": "2025-02-15T05:26:31.051239Z"
    },
    "papermill": {
     "duration": 39140.925507,
     "end_time": "2025-02-15T05:26:31.059727",
     "exception": false,
     "start_time": "2025-02-14T18:34:10.134220",
     "status": "completed"
    },
    "tags": []
   },
   "outputs": [
    {
     "name": "stdout",
     "output_type": "stream",
     "text": [
      "EPOCH 1:\n",
      "Checkpoint saved: /dss/dsshome1/07/ra65bex2/srawat/v2/0.1hyperbolic\n",
      "Epoch 1/3, Loss: 1.7515524774770845\n",
      "Epoch 1/3, Contrastive Loss: 1.5638937232708892\n",
      "Epoch 1/3, Entailment Loss: 1.8765875426081584\n"
     ]
    },
    {
     "name": "stdout",
     "output_type": "stream",
     "text": [
      "Mean Reciprocal Rank (MRR) for validation set: 0.6277\n",
      "Epoch 1 took 217.7724 minutes.\n",
      "\n",
      "\n"
     ]
    },
    {
     "name": "stdout",
     "output_type": "stream",
     "text": [
      "EPOCH 2:\n",
      "Checkpoint saved: /dss/dsshome1/07/ra65bex2/srawat/v2/0.1hyperbolic\n",
      "Epoch 2/3, Loss: 1.6815337163582398\n",
      "Epoch 2/3, Contrastive Loss: 1.508499799998219\n",
      "Epoch 2/3, Entailment Loss: 1.7303391608919398\n"
     ]
    },
    {
     "name": "stdout",
     "output_type": "stream",
     "text": [
      "Mean Reciprocal Rank (MRR) for validation set: 0.6387\n",
      "Epoch 2 took 217.4775 minutes.\n",
      "\n",
      "\n"
     ]
    },
    {
     "name": "stdout",
     "output_type": "stream",
     "text": [
      "EPOCH 3:\n",
      "Checkpoint saved: /dss/dsshome1/07/ra65bex2/srawat/v2/0.1hyperbolic\n",
      "Epoch 3/3, Loss: 1.6586864589658632\n",
      "Epoch 3/3, Contrastive Loss: 1.489782971508618\n",
      "Epoch 3/3, Entailment Loss: 1.689034876931756\n"
     ]
    },
    {
     "name": "stdout",
     "output_type": "stream",
     "text": [
      "Mean Reciprocal Rank (MRR) for validation set: 0.6435\n",
      "Epoch 3 took 217.0985 minutes.\n",
      "\n",
      "\n"
     ]
    }
   ],
   "source": [
    "for epoch in range(num_epochs):\n",
    "    start_time = time.time()\n",
    "    lora_model.train()\n",
    "\n",
    "    total_loss = 0.0\n",
    "    entailment_loss_total=0.0\n",
    "    contrastive_loss_total=0.0\n",
    "    for batch in data_loader_train:\n",
    "\n",
    "        anchor_texts = batch[0]\n",
    "        positive_texts = batch[1]\n",
    "        negative_texts = batch[2]\n",
    "\n",
    "        anchor_inputs = tokenizer(anchor_texts, return_tensors='pt', padding=True, truncation=True, max_length=512).to(device)\n",
    "        positive_inputs = tokenizer(positive_texts, return_tensors='pt', padding=True, truncation=True, max_length=512).to(device)\n",
    "    \n",
    "        anchor_embedding = expm_o(lora_model(**anchor_inputs).last_hidden_state[:, 0, :])\n",
    "        positive_embedding = expm_o(lora_model(**positive_inputs).last_hidden_state[:, 0, :])\n",
    "        negative_embedding = [expm_o(lora_model(**tokenizer(neg, return_tensors='pt', padding=True, truncation=True, max_length=512).to(device)).last_hidden_state[:, 0, :]) for neg in negative_texts]\n",
    "\n",
    "        contrastive_loss_value = info_nce_loss(anchor_embedding, positive_embedding, negative_embedding, distance_fn=lorentzian_distance)\n",
    "        \n",
    "        entailment_loss_value = entailment_loss(anchor_embedding, positive_embedding)\n",
    "        \n",
    "        loss = contrastive_loss_value + 0.1*entailment_loss_value\n",
    "  \n",
    "        optimizer.zero_grad()\n",
    "        loss.backward()\n",
    "        optimizer.step()\n",
    "        \n",
    "        total_loss += loss.item()\n",
    "        entailment_loss_total+=entailment_loss_value.item()\n",
    "        contrastive_loss_total+=contrastive_loss_value.item()\n",
    "    save_path1 = os.path.join(save_dir, f\"hyperbolic_lora_checkpoint_epoch_{epoch+1}.pth\")\n",
    "    torch.save(lora_model, save_path1)\n",
    "    print(f\"EPOCH {epoch+1}:\")\n",
    "    print(f\"Checkpoint saved: {save_dir}\")\n",
    "    print(f\"Epoch {epoch+1}/{num_epochs}, Loss: {total_loss / len(data_loader_train)}\")\n",
    "    print(f\"Epoch {epoch+1}/{num_epochs}, Contrastive Loss: {contrastive_loss_total / len(data_loader_train)}\")\n",
    "    print(f\"Epoch {epoch+1}/{num_epochs}, Entailment Loss: {entailment_loss_total / len(data_loader_train)}\")\n",
    "    mrr_validation = evaluate_mrr(model1=lora_model, data_loader_val=data_loader_val,distance_fn=lorentzian_distance)\n",
    "    #mrr_train = evaluate_mrr(lora_model, data_loader_train, lorentzian_distance)\n",
    "    #print(f\"Mean Reciprocal Rank (MRR) for training set: {mrr_train:.4f}\")\n",
    "    print(f\"Mean Reciprocal Rank (MRR) for validation set: {mrr_validation:.4f}\")\n",
    "    end_time = time.time()\n",
    "    print(f\"Epoch {epoch+1} took {(end_time - start_time) / 60:.4f} minutes.\")\n",
    "    print(f\"\\n\")\n",
    "    epoch_metrics.append({\n",
    "        'epoch': epoch + 1,\n",
    "        'training_loss': total_loss / len(data_loader_train),\n",
    "        'Contrastive_loss': contrastive_loss_total / len(data_loader_train),\n",
    "        'Entailment_loss': entailment_loss_total / len(data_loader_train),\n",
    "        'mrr_validation': mrr_validation,\n",
    "        'time_taken_minutes': (end_time - start_time) / 60\n",
    "    })"
   ]
  },
  {
   "cell_type": "code",
   "execution_count": 41,
   "id": "e776fb41",
   "metadata": {
    "execution": {
     "iopub.execute_input": "2025-02-15T05:26:31.073643Z",
     "iopub.status.busy": "2025-02-15T05:26:31.073477Z",
     "iopub.status.idle": "2025-02-15T05:26:31.076949Z",
     "shell.execute_reply": "2025-02-15T05:26:31.076605Z"
    },
    "papermill": {
     "duration": 0.009882,
     "end_time": "2025-02-15T05:26:31.077574",
     "exception": false,
     "start_time": "2025-02-15T05:26:31.067692",
     "status": "completed"
    },
    "tags": []
   },
   "outputs": [],
   "source": [
    "import json\n",
    "with open(save_dir + '/hyperbolic_epoch_metrics.json', 'w') as f:\n",
    "    json.dump(epoch_metrics, f)"
   ]
  },
  {
   "cell_type": "code",
   "execution_count": null,
   "id": "bc6ede6a",
   "metadata": {
    "papermill": {
     "duration": 0.004936,
     "end_time": "2025-02-15T05:26:31.087790",
     "exception": false,
     "start_time": "2025-02-15T05:26:31.082854",
     "status": "completed"
    },
    "tags": []
   },
   "outputs": [],
   "source": []
  }
 ],
 "metadata": {
  "kernelspec": {
   "display_name": "Python 3 (ipykernel)",
   "language": "python",
   "name": "python3"
  },
  "language_info": {
   "codemirror_mode": {
    "name": "ipython",
    "version": 3
   },
   "file_extension": ".py",
   "mimetype": "text/x-python",
   "name": "python",
   "nbconvert_exporter": "python",
   "pygments_lexer": "ipython3",
   "version": "3.10.12"
  },
  "papermill": {
   "default_parameters": {},
   "duration": 39250.082147,
   "end_time": "2025-02-15T05:26:34.209672",
   "environment_variables": {},
   "exception": null,
   "input_path": "0.1hyperbolic.ipynb",
   "output_path": "0.1hyperbolic_output.ipynb",
   "parameters": {},
   "start_time": "2025-02-14T18:32:24.127525",
   "version": "2.6.0"
  }
 },
 "nbformat": 4,
 "nbformat_minor": 5
}
