{
 "cells": [
  {
   "cell_type": "code",
   "execution_count": 1,
   "id": "de41dc07",
   "metadata": {
    "execution": {
     "iopub.execute_input": "2025-01-27T16:23:01.009361Z",
     "iopub.status.busy": "2025-01-27T16:23:01.009239Z",
     "iopub.status.idle": "2025-01-27T16:23:08.658775Z",
     "shell.execute_reply": "2025-01-27T16:23:08.658341Z"
    },
    "papermill": {
     "duration": 7.655028,
     "end_time": "2025-01-27T16:23:08.659649",
     "exception": false,
     "start_time": "2025-01-27T16:23:01.004621",
     "status": "completed"
    },
    "tags": []
   },
   "outputs": [],
   "source": [
    "from datasets import load_dataset"
   ]
  },
  {
   "cell_type": "code",
   "execution_count": 2,
   "id": "dda8d3b1",
   "metadata": {
    "execution": {
     "iopub.execute_input": "2025-01-27T16:23:08.673200Z",
     "iopub.status.busy": "2025-01-27T16:23:08.672973Z",
     "iopub.status.idle": "2025-01-27T16:23:14.001030Z",
     "shell.execute_reply": "2025-01-27T16:23:14.000588Z"
    },
    "papermill": {
     "duration": 5.332993,
     "end_time": "2025-01-27T16:23:14.002007",
     "exception": false,
     "start_time": "2025-01-27T16:23:08.669014",
     "status": "completed"
    },
    "tags": []
   },
   "outputs": [],
   "source": [
    "dataset = load_dataset('ms_marco', 'v1.1')"
   ]
  },
  {
   "cell_type": "code",
   "execution_count": 3,
   "id": "1eb4b791",
   "metadata": {
    "execution": {
     "iopub.execute_input": "2025-01-27T16:23:14.012840Z",
     "iopub.status.busy": "2025-01-27T16:23:14.012403Z",
     "iopub.status.idle": "2025-01-27T16:23:14.017017Z",
     "shell.execute_reply": "2025-01-27T16:23:14.016673Z"
    },
    "papermill": {
     "duration": 0.009424,
     "end_time": "2025-01-27T16:23:14.017584",
     "exception": false,
     "start_time": "2025-01-27T16:23:14.008160",
     "status": "completed"
    },
    "tags": []
   },
   "outputs": [
    {
     "data": {
      "text/plain": [
       "DatasetDict({\n",
       "    validation: Dataset({\n",
       "        features: ['answers', 'passages', 'query', 'query_id', 'query_type', 'wellFormedAnswers'],\n",
       "        num_rows: 10047\n",
       "    })\n",
       "    train: Dataset({\n",
       "        features: ['answers', 'passages', 'query', 'query_id', 'query_type', 'wellFormedAnswers'],\n",
       "        num_rows: 82326\n",
       "    })\n",
       "    test: Dataset({\n",
       "        features: ['answers', 'passages', 'query', 'query_id', 'query_type', 'wellFormedAnswers'],\n",
       "        num_rows: 9650\n",
       "    })\n",
       "})"
      ]
     },
     "execution_count": 3,
     "metadata": {},
     "output_type": "execute_result"
    }
   ],
   "source": [
    "dataset"
   ]
  },
  {
   "cell_type": "code",
   "execution_count": 4,
   "id": "5ceac867",
   "metadata": {
    "execution": {
     "iopub.execute_input": "2025-01-27T16:23:14.026255Z",
     "iopub.status.busy": "2025-01-27T16:23:14.025895Z",
     "iopub.status.idle": "2025-01-27T16:23:16.761818Z",
     "shell.execute_reply": "2025-01-27T16:23:16.761407Z"
    },
    "papermill": {
     "duration": 2.740661,
     "end_time": "2025-01-27T16:23:16.762575",
     "exception": false,
     "start_time": "2025-01-27T16:23:14.021914",
     "status": "completed"
    },
    "tags": []
   },
   "outputs": [],
   "source": [
    "dataset_train = load_dataset('ms_marco', 'v1.1', split='train')"
   ]
  },
  {
   "cell_type": "code",
   "execution_count": 5,
   "id": "6019f26a",
   "metadata": {
    "execution": {
     "iopub.execute_input": "2025-01-27T16:23:16.770864Z",
     "iopub.status.busy": "2025-01-27T16:23:16.770727Z",
     "iopub.status.idle": "2025-01-27T16:23:16.773585Z",
     "shell.execute_reply": "2025-01-27T16:23:16.773241Z"
    },
    "papermill": {
     "duration": 0.007429,
     "end_time": "2025-01-27T16:23:16.774127",
     "exception": false,
     "start_time": "2025-01-27T16:23:16.766698",
     "status": "completed"
    },
    "tags": []
   },
   "outputs": [
    {
     "data": {
      "text/plain": [
       "Dataset({\n",
       "    features: ['answers', 'passages', 'query', 'query_id', 'query_type', 'wellFormedAnswers'],\n",
       "    num_rows: 82326\n",
       "})"
      ]
     },
     "execution_count": 5,
     "metadata": {},
     "output_type": "execute_result"
    }
   ],
   "source": [
    "dataset_train"
   ]
  },
  {
   "cell_type": "code",
   "execution_count": 6,
   "id": "e03bcd30",
   "metadata": {
    "execution": {
     "iopub.execute_input": "2025-01-27T16:23:16.782239Z",
     "iopub.status.busy": "2025-01-27T16:23:16.781983Z",
     "iopub.status.idle": "2025-01-27T16:23:16.785175Z",
     "shell.execute_reply": "2025-01-27T16:23:16.784831Z"
    },
    "papermill": {
     "duration": 0.007806,
     "end_time": "2025-01-27T16:23:16.785704",
     "exception": false,
     "start_time": "2025-01-27T16:23:16.777898",
     "status": "completed"
    },
    "tags": []
   },
   "outputs": [],
   "source": [
    "def preprocess(example):\n",
    "    positive_passages=[]\n",
    "    for p in enumerate(example['passages'][\"is_selected\"]):\n",
    "        if p[1]==1:\n",
    "            positive_passages.append(example[\"passages\"][\"passage_text\"][p[0]])\n",
    "    negative_passages = []\n",
    "    for p in enumerate(example['passages'][\"is_selected\"]):\n",
    "        if p[1]==0:\n",
    "            negative_passages.append(example[\"passages\"][\"passage_text\"][p[0]])\n",
    "    if (len(positive_passages)>0 and len(negative_passages)>=5):\n",
    "        positive = positive_passages[0]\n",
    "        negatives = negative_passages[:5]\n",
    "        return {\n",
    "            \"query\": example[\"query\"],\n",
    "            \"positive\": positive,\n",
    "            \"negatives\": negatives\n",
    "        }\n",
    "    else:\n",
    "        return {\"query\": None, \"positive\": None, \"negatives\": None}"
   ]
  },
  {
   "cell_type": "code",
   "execution_count": 7,
   "id": "1848df34",
   "metadata": {
    "execution": {
     "iopub.execute_input": "2025-01-27T16:23:16.793643Z",
     "iopub.status.busy": "2025-01-27T16:23:16.793515Z",
     "iopub.status.idle": "2025-01-27T16:23:17.218175Z",
     "shell.execute_reply": "2025-01-27T16:23:17.217672Z"
    },
    "papermill": {
     "duration": 0.429307,
     "end_time": "2025-01-27T16:23:17.218798",
     "exception": false,
     "start_time": "2025-01-27T16:23:16.789491",
     "status": "completed"
    },
    "tags": []
   },
   "outputs": [],
   "source": [
    "processed_data_train = dataset_train.map(preprocess, remove_columns=dataset_train.column_names)"
   ]
  },
  {
   "cell_type": "code",
   "execution_count": 8,
   "id": "b1faf510",
   "metadata": {
    "execution": {
     "iopub.execute_input": "2025-01-27T16:23:17.227256Z",
     "iopub.status.busy": "2025-01-27T16:23:17.226945Z",
     "iopub.status.idle": "2025-01-27T16:23:17.254212Z",
     "shell.execute_reply": "2025-01-27T16:23:17.253874Z"
    },
    "papermill": {
     "duration": 0.032006,
     "end_time": "2025-01-27T16:23:17.254742",
     "exception": false,
     "start_time": "2025-01-27T16:23:17.222736",
     "status": "completed"
    },
    "tags": []
   },
   "outputs": [],
   "source": [
    "processed_data_train = processed_data_train.filter(lambda x: x['query'] is not None and x['positive'] is not None)"
   ]
  },
  {
   "cell_type": "code",
   "execution_count": 9,
   "id": "5e6e4a48",
   "metadata": {
    "execution": {
     "iopub.execute_input": "2025-01-27T16:23:17.262952Z",
     "iopub.status.busy": "2025-01-27T16:23:17.262646Z",
     "iopub.status.idle": "2025-01-27T16:23:23.230198Z",
     "shell.execute_reply": "2025-01-27T16:23:23.229527Z"
    },
    "papermill": {
     "duration": 5.972576,
     "end_time": "2025-01-27T16:23:23.231166",
     "exception": false,
     "start_time": "2025-01-27T16:23:17.258590",
     "status": "completed"
    },
    "tags": []
   },
   "outputs": [],
   "source": [
    "contrastive_pairs_train = []\n",
    "for item in processed_data_train:\n",
    "    query = item[\"query\"]\n",
    "    positive = item[\"positive\"]\n",
    "    negatives = item[\"negatives\"]\n",
    "    contrastive_pairs_train.append({\n",
    "        \"anchor\": query,\n",
    "        \"positive\": positive,\n",
    "        \"negatives\": negatives\n",
    "    })"
   ]
  },
  {
   "cell_type": "code",
   "execution_count": 10,
   "id": "c312d94a",
   "metadata": {
    "execution": {
     "iopub.execute_input": "2025-01-27T16:23:23.245894Z",
     "iopub.status.busy": "2025-01-27T16:23:23.245612Z",
     "iopub.status.idle": "2025-01-27T16:23:23.249120Z",
     "shell.execute_reply": "2025-01-27T16:23:23.248776Z"
    },
    "papermill": {
     "duration": 0.00875,
     "end_time": "2025-01-27T16:23:23.249663",
     "exception": false,
     "start_time": "2025-01-27T16:23:23.240913",
     "status": "completed"
    },
    "tags": []
   },
   "outputs": [
    {
     "data": {
      "text/plain": [
       "74538"
      ]
     },
     "execution_count": 10,
     "metadata": {},
     "output_type": "execute_result"
    }
   ],
   "source": [
    "len(contrastive_pairs_train)"
   ]
  },
  {
   "cell_type": "code",
   "execution_count": 11,
   "id": "43fd58dc",
   "metadata": {
    "execution": {
     "iopub.execute_input": "2025-01-27T16:23:23.258139Z",
     "iopub.status.busy": "2025-01-27T16:23:23.257829Z",
     "iopub.status.idle": "2025-01-27T16:23:35.761205Z",
     "shell.execute_reply": "2025-01-27T16:23:35.760590Z"
    },
    "papermill": {
     "duration": 12.508602,
     "end_time": "2025-01-27T16:23:35.762210",
     "exception": false,
     "start_time": "2025-01-27T16:23:23.253608",
     "status": "completed"
    },
    "tags": []
   },
   "outputs": [],
   "source": [
    "from torch.utils.data import DataLoader"
   ]
  },
  {
   "cell_type": "code",
   "execution_count": 12,
   "id": "62497f1c",
   "metadata": {
    "execution": {
     "iopub.execute_input": "2025-01-27T16:23:35.776602Z",
     "iopub.status.busy": "2025-01-27T16:23:35.776431Z",
     "iopub.status.idle": "2025-01-27T16:23:35.779482Z",
     "shell.execute_reply": "2025-01-27T16:23:35.779126Z"
    },
    "papermill": {
     "duration": 0.008157,
     "end_time": "2025-01-27T16:23:35.780063",
     "exception": false,
     "start_time": "2025-01-27T16:23:35.771906",
     "status": "completed"
    },
    "tags": []
   },
   "outputs": [],
   "source": [
    "class ContrastiveDataset:\n",
    "    def __init__(self, pairs):\n",
    "        self.pairs = pairs\n",
    "\n",
    "    def __len__(self):\n",
    "        return len(self.pairs)\n",
    "\n",
    "    def __getitem__(self, idx):\n",
    "        item = self.pairs[idx]\n",
    "        return item[\"anchor\"], item[\"positive\"], item[\"negatives\"]"
   ]
  },
  {
   "cell_type": "code",
   "execution_count": 13,
   "id": "024f1039",
   "metadata": {
    "execution": {
     "iopub.execute_input": "2025-01-27T16:23:35.788649Z",
     "iopub.status.busy": "2025-01-27T16:23:35.788381Z",
     "iopub.status.idle": "2025-01-27T16:23:35.790430Z",
     "shell.execute_reply": "2025-01-27T16:23:35.790091Z"
    },
    "papermill": {
     "duration": 0.006867,
     "end_time": "2025-01-27T16:23:35.790955",
     "exception": false,
     "start_time": "2025-01-27T16:23:35.784088",
     "status": "completed"
    },
    "tags": []
   },
   "outputs": [],
   "source": [
    "contrastive_dataset_train = ContrastiveDataset(contrastive_pairs_train)"
   ]
  },
  {
   "cell_type": "code",
   "execution_count": 14,
   "id": "a369420f",
   "metadata": {
    "execution": {
     "iopub.execute_input": "2025-01-27T16:23:35.799868Z",
     "iopub.status.busy": "2025-01-27T16:23:35.799400Z",
     "iopub.status.idle": "2025-01-27T16:23:35.801988Z",
     "shell.execute_reply": "2025-01-27T16:23:35.801642Z"
    },
    "papermill": {
     "duration": 0.007594,
     "end_time": "2025-01-27T16:23:35.802558",
     "exception": false,
     "start_time": "2025-01-27T16:23:35.794964",
     "status": "completed"
    },
    "tags": []
   },
   "outputs": [],
   "source": [
    "data_loader_train = DataLoader(contrastive_dataset_train, batch_size=32, shuffle=True)"
   ]
  },
  {
   "cell_type": "code",
   "execution_count": 15,
   "id": "6cd401ee",
   "metadata": {
    "execution": {
     "iopub.execute_input": "2025-01-27T16:23:35.810837Z",
     "iopub.status.busy": "2025-01-27T16:23:35.810712Z",
     "iopub.status.idle": "2025-01-27T16:23:35.813496Z",
     "shell.execute_reply": "2025-01-27T16:23:35.813164Z"
    },
    "papermill": {
     "duration": 0.00756,
     "end_time": "2025-01-27T16:23:35.814076",
     "exception": false,
     "start_time": "2025-01-27T16:23:35.806516",
     "status": "completed"
    },
    "tags": []
   },
   "outputs": [
    {
     "data": {
      "text/plain": [
       "2330"
      ]
     },
     "execution_count": 15,
     "metadata": {},
     "output_type": "execute_result"
    }
   ],
   "source": [
    "len(data_loader_train)"
   ]
  },
  {
   "cell_type": "code",
   "execution_count": 16,
   "id": "68f390b4",
   "metadata": {
    "execution": {
     "iopub.execute_input": "2025-01-27T16:23:35.822579Z",
     "iopub.status.busy": "2025-01-27T16:23:35.822454Z",
     "iopub.status.idle": "2025-01-27T16:23:48.959009Z",
     "shell.execute_reply": "2025-01-27T16:23:48.958431Z"
    },
    "papermill": {
     "duration": 13.141831,
     "end_time": "2025-01-27T16:23:48.960005",
     "exception": false,
     "start_time": "2025-01-27T16:23:35.818174",
     "status": "completed"
    },
    "tags": []
   },
   "outputs": [],
   "source": [
    "from transformers import AutoTokenizer, AutoModel\n",
    "tokenizer = AutoTokenizer.from_pretrained(\"bert-base-uncased\")"
   ]
  },
  {
   "cell_type": "code",
   "execution_count": 17,
   "id": "4ba483f4",
   "metadata": {
    "execution": {
     "iopub.execute_input": "2025-01-27T16:23:48.975200Z",
     "iopub.status.busy": "2025-01-27T16:23:48.974590Z",
     "iopub.status.idle": "2025-01-27T16:23:56.531914Z",
     "shell.execute_reply": "2025-01-27T16:23:56.531472Z"
    },
    "papermill": {
     "duration": 7.562729,
     "end_time": "2025-01-27T16:23:56.532714",
     "exception": false,
     "start_time": "2025-01-27T16:23:48.969985",
     "status": "completed"
    },
    "tags": []
   },
   "outputs": [],
   "source": [
    "model = AutoModel.from_pretrained(\"bert-base-uncased\")"
   ]
  },
  {
   "cell_type": "code",
   "execution_count": 18,
   "id": "e0910df2",
   "metadata": {
    "execution": {
     "iopub.execute_input": "2025-01-27T16:23:56.546757Z",
     "iopub.status.busy": "2025-01-27T16:23:56.546618Z",
     "iopub.status.idle": "2025-01-27T16:23:57.107672Z",
     "shell.execute_reply": "2025-01-27T16:23:57.107246Z"
    },
    "papermill": {
     "duration": 0.566244,
     "end_time": "2025-01-27T16:23:57.108324",
     "exception": false,
     "start_time": "2025-01-27T16:23:56.542080",
     "status": "completed"
    },
    "tags": []
   },
   "outputs": [],
   "source": [
    "from peft import LoraConfig, get_peft_model"
   ]
  },
  {
   "cell_type": "code",
   "execution_count": 19,
   "id": "9131626f",
   "metadata": {
    "execution": {
     "iopub.execute_input": "2025-01-27T16:23:57.117242Z",
     "iopub.status.busy": "2025-01-27T16:23:57.117103Z",
     "iopub.status.idle": "2025-01-27T16:23:57.119160Z",
     "shell.execute_reply": "2025-01-27T16:23:57.118815Z"
    },
    "papermill": {
     "duration": 0.007028,
     "end_time": "2025-01-27T16:23:57.119695",
     "exception": false,
     "start_time": "2025-01-27T16:23:57.112667",
     "status": "completed"
    },
    "tags": []
   },
   "outputs": [],
   "source": [
    "lora_config = LoraConfig(\n",
    "    task_type= \"FEATURE_EXTRACTION\"\n",
    ")"
   ]
  },
  {
   "cell_type": "code",
   "execution_count": 20,
   "id": "57f5d742",
   "metadata": {
    "execution": {
     "iopub.execute_input": "2025-01-27T16:23:57.128771Z",
     "iopub.status.busy": "2025-01-27T16:23:57.128443Z",
     "iopub.status.idle": "2025-01-27T16:23:57.417013Z",
     "shell.execute_reply": "2025-01-27T16:23:57.416529Z"
    },
    "papermill": {
     "duration": 0.293738,
     "end_time": "2025-01-27T16:23:57.417632",
     "exception": false,
     "start_time": "2025-01-27T16:23:57.123894",
     "status": "completed"
    },
    "tags": []
   },
   "outputs": [],
   "source": [
    "lora_model = get_peft_model(model, lora_config)"
   ]
  },
  {
   "cell_type": "code",
   "execution_count": 21,
   "id": "5e02b003",
   "metadata": {
    "execution": {
     "iopub.execute_input": "2025-01-27T16:23:57.426980Z",
     "iopub.status.busy": "2025-01-27T16:23:57.426545Z",
     "iopub.status.idle": "2025-01-27T16:23:57.428831Z",
     "shell.execute_reply": "2025-01-27T16:23:57.428482Z"
    },
    "papermill": {
     "duration": 0.007536,
     "end_time": "2025-01-27T16:23:57.429396",
     "exception": false,
     "start_time": "2025-01-27T16:23:57.421860",
     "status": "completed"
    },
    "tags": []
   },
   "outputs": [],
   "source": [
    "import torch"
   ]
  },
  {
   "cell_type": "code",
   "execution_count": 22,
   "id": "f6607d80",
   "metadata": {
    "execution": {
     "iopub.execute_input": "2025-01-27T16:23:57.438265Z",
     "iopub.status.busy": "2025-01-27T16:23:57.437996Z",
     "iopub.status.idle": "2025-01-27T16:23:57.440468Z",
     "shell.execute_reply": "2025-01-27T16:23:57.440133Z"
    },
    "papermill": {
     "duration": 0.007489,
     "end_time": "2025-01-27T16:23:57.441068",
     "exception": false,
     "start_time": "2025-01-27T16:23:57.433579",
     "status": "completed"
    },
    "tags": []
   },
   "outputs": [],
   "source": [
    "def lorentzian_distance(x, y):\n",
    "    \n",
    "    dot_product = torch.sum(x * y, dim=-1)\n",
    "    norm_x = torch.norm(x, dim=-1)\n",
    "    norm_y = torch.norm(y, dim=-1)\n",
    "    \n",
    "    distance = torch.acosh(-dot_product + torch.sqrt((1 + norm_x**2) * (1 + norm_y**2)))\n",
    "    return distance"
   ]
  },
  {
   "cell_type": "code",
   "execution_count": 23,
   "id": "6ab15bb7",
   "metadata": {
    "execution": {
     "iopub.execute_input": "2025-01-27T16:23:57.449874Z",
     "iopub.status.busy": "2025-01-27T16:23:57.449623Z",
     "iopub.status.idle": "2025-01-27T16:23:57.452301Z",
     "shell.execute_reply": "2025-01-27T16:23:57.451968Z"
    },
    "papermill": {
     "duration": 0.007626,
     "end_time": "2025-01-27T16:23:57.452864",
     "exception": false,
     "start_time": "2025-01-27T16:23:57.445238",
     "status": "completed"
    },
    "tags": []
   },
   "outputs": [],
   "source": [
    "def info_nce_loss(anchor_embedding, positive_embedding, negative_embedding, distance_fn):\n",
    "\n",
    "    pos_dist = distance_fn(anchor_embedding, positive_embedding)\n",
    "    neg_dist = torch.stack([distance_fn(anchor_embedding, neg) for neg in negative_embedding], dim=-1)\n",
    "    \n",
    "    logits = torch.cat([-pos_dist.unsqueeze(1), -neg_dist], dim=1)\n",
    "    labels = torch.zeros(logits.size(0), dtype=torch.long, device=logits.device)\n",
    "\n",
    "    loss = torch.nn.CrossEntropyLoss()(logits, labels)\n",
    "    return loss"
   ]
  },
  {
   "cell_type": "code",
   "execution_count": 24,
   "id": "97e76ca9",
   "metadata": {
    "execution": {
     "iopub.execute_input": "2025-01-27T16:23:57.461932Z",
     "iopub.status.busy": "2025-01-27T16:23:57.461611Z",
     "iopub.status.idle": "2025-01-27T16:23:57.464362Z",
     "shell.execute_reply": "2025-01-27T16:23:57.464025Z"
    },
    "papermill": {
     "duration": 0.007796,
     "end_time": "2025-01-27T16:23:57.464921",
     "exception": false,
     "start_time": "2025-01-27T16:23:57.457125",
     "status": "completed"
    },
    "tags": []
   },
   "outputs": [],
   "source": [
    "def exterior_angle(x_space, y_space, c):\n",
    "    norm_x_space = torch.norm(x_space, p=2, dim=-1)\n",
    "    norm_y_space = torch.norm(y_space, p=2, dim=-1)\n",
    "    x_time = torch.sqrt(1/c + norm_x_space**2)\n",
    "    y_time = torch.sqrt(1/c + norm_y_space**2)\n",
    "    dot_product = torch.sum(x_space * y_space, dim=-1)\n",
    "    lorentz_inner_product =  dot_product - x_time * y_time\n",
    "    numerator = y_time + x_time * c * lorentz_inner_product\n",
    "    denominator = norm_x_space * torch.sqrt((c * lorentz_inner_product)**2 - 1)\n",
    "    ext_angle = torch.acos(numerator / denominator)\n",
    "    return ext_angle"
   ]
  },
  {
   "cell_type": "code",
   "execution_count": 25,
   "id": "9cf88993",
   "metadata": {
    "execution": {
     "iopub.execute_input": "2025-01-27T16:23:57.473946Z",
     "iopub.status.busy": "2025-01-27T16:23:57.473627Z",
     "iopub.status.idle": "2025-01-27T16:23:57.476187Z",
     "shell.execute_reply": "2025-01-27T16:23:57.475847Z"
    },
    "papermill": {
     "duration": 0.007584,
     "end_time": "2025-01-27T16:23:57.476710",
     "exception": false,
     "start_time": "2025-01-27T16:23:57.469126",
     "status": "completed"
    },
    "tags": []
   },
   "outputs": [],
   "source": [
    "def entailment_loss(x, y, c=1, K=0.1):\n",
    "    c = torch.tensor(c)\n",
    "    K = torch.tensor(K)\n",
    "    xspace = x\n",
    "    yspace = y\n",
    "    aperture = torch.asin(2 * K / (torch.sqrt(c) * torch.norm(xspace, p=2, dim=-1)))\n",
    "    \n",
    "    ext_angle = exterior_angle(xspace,yspace,c=c)\n",
    "    \n",
    "    loss = torch.max(torch.zeros_like(ext_angle), ext_angle - aperture)\n",
    "    return loss.mean()"
   ]
  },
  {
   "cell_type": "code",
   "execution_count": 26,
   "id": "dbd05941",
   "metadata": {
    "execution": {
     "iopub.execute_input": "2025-01-27T16:23:57.485636Z",
     "iopub.status.busy": "2025-01-27T16:23:57.485514Z",
     "iopub.status.idle": "2025-01-27T16:23:57.488082Z",
     "shell.execute_reply": "2025-01-27T16:23:57.487746Z"
    },
    "papermill": {
     "duration": 0.007624,
     "end_time": "2025-01-27T16:23:57.488638",
     "exception": false,
     "start_time": "2025-01-27T16:23:57.481014",
     "status": "completed"
    },
    "tags": []
   },
   "outputs": [],
   "source": [
    "def expm_o(v, c=1.0):\n",
    "    c = torch.tensor(c)\n",
    "    vspace = v\n",
    "    vnorm = torch.norm(v, p=2, dim=-1, keepdim=True)\n",
    "    xspace = torch.sinh(torch.sqrt(c) * vnorm) * vspace / (torch.sqrt(c) * vnorm)\n",
    "    batch_min = xspace.min(dim=1, keepdim=True).values\n",
    "    batch_max = xspace.max(dim=1, keepdim=True).values\n",
    "    xspace_scaled=(xspace - batch_min) / (batch_max - batch_min)\n",
    "    return xspace_scaled"
   ]
  },
  {
   "cell_type": "code",
   "execution_count": 27,
   "id": "d2ecb7cd",
   "metadata": {
    "execution": {
     "iopub.execute_input": "2025-01-27T16:23:57.497900Z",
     "iopub.status.busy": "2025-01-27T16:23:57.497554Z",
     "iopub.status.idle": "2025-01-27T16:23:57.500391Z",
     "shell.execute_reply": "2025-01-27T16:23:57.500060Z"
    },
    "papermill": {
     "duration": 0.007959,
     "end_time": "2025-01-27T16:23:57.500918",
     "exception": false,
     "start_time": "2025-01-27T16:23:57.492959",
     "status": "completed"
    },
    "tags": []
   },
   "outputs": [],
   "source": [
    "optimizer = torch.optim.AdamW(lora_model.parameters(), lr=5e-5)"
   ]
  },
  {
   "cell_type": "code",
   "execution_count": 28,
   "id": "2f6a132b",
   "metadata": {
    "execution": {
     "iopub.execute_input": "2025-01-27T16:23:57.509864Z",
     "iopub.status.busy": "2025-01-27T16:23:57.509743Z",
     "iopub.status.idle": "2025-01-27T16:23:57.511620Z",
     "shell.execute_reply": "2025-01-27T16:23:57.511288Z"
    },
    "papermill": {
     "duration": 0.006965,
     "end_time": "2025-01-27T16:23:57.512182",
     "exception": false,
     "start_time": "2025-01-27T16:23:57.505217",
     "status": "completed"
    },
    "tags": []
   },
   "outputs": [],
   "source": [
    "num_epochs=3"
   ]
  },
  {
   "cell_type": "code",
   "execution_count": 29,
   "id": "e03522cb",
   "metadata": {
    "execution": {
     "iopub.execute_input": "2025-01-27T16:23:57.521357Z",
     "iopub.status.busy": "2025-01-27T16:23:57.521114Z",
     "iopub.status.idle": "2025-01-27T16:23:57.806638Z",
     "shell.execute_reply": "2025-01-27T16:23:57.806173Z"
    },
    "papermill": {
     "duration": 0.290667,
     "end_time": "2025-01-27T16:23:57.807226",
     "exception": false,
     "start_time": "2025-01-27T16:23:57.516559",
     "status": "completed"
    },
    "tags": []
   },
   "outputs": [],
   "source": [
    "device = torch.device('cuda' if torch.cuda.is_available() else 'cpu')"
   ]
  },
  {
   "cell_type": "code",
   "execution_count": 30,
   "id": "5605ae0c",
   "metadata": {
    "execution": {
     "iopub.execute_input": "2025-01-27T16:23:57.816479Z",
     "iopub.status.busy": "2025-01-27T16:23:57.816343Z",
     "iopub.status.idle": "2025-01-27T16:23:57.819159Z",
     "shell.execute_reply": "2025-01-27T16:23:57.818824Z"
    },
    "papermill": {
     "duration": 0.008054,
     "end_time": "2025-01-27T16:23:57.819687",
     "exception": false,
     "start_time": "2025-01-27T16:23:57.811633",
     "status": "completed"
    },
    "tags": []
   },
   "outputs": [
    {
     "data": {
      "text/plain": [
       "device(type='cuda')"
      ]
     },
     "execution_count": 30,
     "metadata": {},
     "output_type": "execute_result"
    }
   ],
   "source": [
    "device"
   ]
  },
  {
   "cell_type": "code",
   "execution_count": 31,
   "id": "10122c29",
   "metadata": {
    "execution": {
     "iopub.execute_input": "2025-01-27T16:23:57.828994Z",
     "iopub.status.busy": "2025-01-27T16:23:57.828739Z",
     "iopub.status.idle": "2025-01-27T16:24:00.416335Z",
     "shell.execute_reply": "2025-01-27T16:24:00.415781Z"
    },
    "papermill": {
     "duration": 2.593144,
     "end_time": "2025-01-27T16:24:00.417225",
     "exception": false,
     "start_time": "2025-01-27T16:23:57.824081",
     "status": "completed"
    },
    "tags": []
   },
   "outputs": [],
   "source": [
    "lora_model = lora_model.to(device)"
   ]
  },
  {
   "cell_type": "code",
   "execution_count": 32,
   "id": "2c5ed939",
   "metadata": {
    "execution": {
     "iopub.execute_input": "2025-01-27T16:24:00.432348Z",
     "iopub.status.busy": "2025-01-27T16:24:00.432144Z",
     "iopub.status.idle": "2025-01-27T16:24:04.191282Z",
     "shell.execute_reply": "2025-01-27T16:24:04.190849Z"
    },
    "papermill": {
     "duration": 3.765405,
     "end_time": "2025-01-27T16:24:04.192620",
     "exception": false,
     "start_time": "2025-01-27T16:24:00.427215",
     "status": "completed"
    },
    "tags": []
   },
   "outputs": [],
   "source": [
    "dataset_val = load_dataset('ms_marco', 'v1.1', split='validation')"
   ]
  },
  {
   "cell_type": "code",
   "execution_count": 33,
   "id": "8ddd4c76",
   "metadata": {
    "execution": {
     "iopub.execute_input": "2025-01-27T16:24:04.203777Z",
     "iopub.status.busy": "2025-01-27T16:24:04.203640Z",
     "iopub.status.idle": "2025-01-27T16:24:04.257379Z",
     "shell.execute_reply": "2025-01-27T16:24:04.257036Z"
    },
    "papermill": {
     "duration": 0.060032,
     "end_time": "2025-01-27T16:24:04.257912",
     "exception": false,
     "start_time": "2025-01-27T16:24:04.197880",
     "status": "completed"
    },
    "tags": []
   },
   "outputs": [],
   "source": [
    "processed_data_val = dataset_val.map(preprocess, remove_columns=dataset_val.column_names)"
   ]
  },
  {
   "cell_type": "code",
   "execution_count": 34,
   "id": "3768696d",
   "metadata": {
    "execution": {
     "iopub.execute_input": "2025-01-27T16:24:04.267380Z",
     "iopub.status.busy": "2025-01-27T16:24:04.267123Z",
     "iopub.status.idle": "2025-01-27T16:24:04.301765Z",
     "shell.execute_reply": "2025-01-27T16:24:04.301417Z"
    },
    "papermill": {
     "duration": 0.039911,
     "end_time": "2025-01-27T16:24:04.302318",
     "exception": false,
     "start_time": "2025-01-27T16:24:04.262407",
     "status": "completed"
    },
    "tags": []
   },
   "outputs": [],
   "source": [
    "processed_data_val = processed_data_val.filter(lambda x: x['query'] is not None and x['positive'] is not None)"
   ]
  },
  {
   "cell_type": "code",
   "execution_count": 35,
   "id": "8c631734",
   "metadata": {
    "execution": {
     "iopub.execute_input": "2025-01-27T16:24:04.311777Z",
     "iopub.status.busy": "2025-01-27T16:24:04.311651Z",
     "iopub.status.idle": "2025-01-27T16:24:05.007286Z",
     "shell.execute_reply": "2025-01-27T16:24:05.006815Z"
    },
    "papermill": {
     "duration": 0.701229,
     "end_time": "2025-01-27T16:24:05.008119",
     "exception": false,
     "start_time": "2025-01-27T16:24:04.306890",
     "status": "completed"
    },
    "tags": []
   },
   "outputs": [],
   "source": [
    "contrastive_pairs_val = []\n",
    "for item in processed_data_val:\n",
    "    query = item[\"query\"]\n",
    "    positive = item[\"positive\"]\n",
    "    negatives = item[\"negatives\"]\n",
    "    contrastive_pairs_val.append({\n",
    "        \"anchor\": query,\n",
    "        \"positive\": positive,\n",
    "        \"negatives\": negatives\n",
    "    })"
   ]
  },
  {
   "cell_type": "code",
   "execution_count": 36,
   "id": "251ceccd",
   "metadata": {
    "execution": {
     "iopub.execute_input": "2025-01-27T16:24:05.018398Z",
     "iopub.status.busy": "2025-01-27T16:24:05.018260Z",
     "iopub.status.idle": "2025-01-27T16:24:05.020530Z",
     "shell.execute_reply": "2025-01-27T16:24:05.020174Z"
    },
    "papermill": {
     "duration": 0.007777,
     "end_time": "2025-01-27T16:24:05.021058",
     "exception": false,
     "start_time": "2025-01-27T16:24:05.013281",
     "status": "completed"
    },
    "tags": []
   },
   "outputs": [],
   "source": [
    "contrastive_dataset_val = ContrastiveDataset(contrastive_pairs_val)"
   ]
  },
  {
   "cell_type": "code",
   "execution_count": 37,
   "id": "19c75691",
   "metadata": {
    "execution": {
     "iopub.execute_input": "2025-01-27T16:24:05.030837Z",
     "iopub.status.busy": "2025-01-27T16:24:05.030581Z",
     "iopub.status.idle": "2025-01-27T16:24:05.032893Z",
     "shell.execute_reply": "2025-01-27T16:24:05.032551Z"
    },
    "papermill": {
     "duration": 0.007692,
     "end_time": "2025-01-27T16:24:05.033423",
     "exception": false,
     "start_time": "2025-01-27T16:24:05.025731",
     "status": "completed"
    },
    "tags": []
   },
   "outputs": [],
   "source": [
    "data_loader_val = DataLoader(contrastive_dataset_val, batch_size=32, shuffle=True)"
   ]
  },
  {
   "cell_type": "code",
   "execution_count": 38,
   "id": "5819c8d9",
   "metadata": {
    "execution": {
     "iopub.execute_input": "2025-01-27T16:24:05.043197Z",
     "iopub.status.busy": "2025-01-27T16:24:05.042890Z",
     "iopub.status.idle": "2025-01-27T16:24:05.047434Z",
     "shell.execute_reply": "2025-01-27T16:24:05.047095Z"
    },
    "papermill": {
     "duration": 0.009924,
     "end_time": "2025-01-27T16:24:05.047954",
     "exception": false,
     "start_time": "2025-01-27T16:24:05.038030",
     "status": "completed"
    },
    "tags": []
   },
   "outputs": [],
   "source": [
    "def evaluate_mrr(model1, data_loader_val, distance_fn):\n",
    "    model1.eval()\n",
    "    \n",
    "    total_rr = 0.0\n",
    "    num_queries = 0\n",
    "\n",
    "    with torch.no_grad():\n",
    "        for batch in data_loader_val:\n",
    "            anchor_text = batch[0]\n",
    "            positive_text = batch[1]\n",
    "            negative_texts = batch[2]\n",
    "\n",
    "            anchor_input = tokenizer(anchor_text, return_tensors='pt', padding=True, truncation=True, max_length=512).to(device)\n",
    "            positive_input = tokenizer(positive_text, return_tensors='pt', padding=True, truncation=True, max_length=512).to(device)\n",
    "\n",
    "            anchor_embedding = expm_o(model1(**anchor_input).last_hidden_state[:, 0, :])\n",
    "            positive_embedding = expm_o(model1(**positive_input).last_hidden_state[:, 0, :])\n",
    "            negative_embedding = [expm_o(model1(**tokenizer(neg, return_tensors='pt', padding=True, truncation=True, max_length=512).to(device)).last_hidden_state[:, 0, :]) for neg in negative_texts]\n",
    "\n",
    "            pos_dist = distance_fn(anchor_embedding, positive_embedding)\n",
    "            neg_dist = torch.stack([distance_fn(anchor_embedding, neg) for neg in negative_embedding], dim=-1)\n",
    "            all_similarities=torch.cat([-pos_dist.unsqueeze(1), -neg_dist], dim=1)\n",
    "\n",
    "            sorted_similarities, sorted_indices = torch.sort(all_similarities, dim=1, descending=True)\n",
    "\n",
    "            # Find the rank of the first relevant (positive) document\n",
    "            positive_rank = (sorted_indices == 0).nonzero(as_tuple=True)[1] + 1  # +1 to make rank 1-based\n",
    "            total_rr += torch.sum(1.0 / positive_rank.float()).item()  # Reciprocal rank\n",
    "            num_queries += len(positive_rank)\n",
    "            \n",
    "    mrr = total_rr / num_queries\n",
    "    return mrr"
   ]
  },
  {
   "cell_type": "code",
   "execution_count": 39,
   "id": "4b28dccf",
   "metadata": {
    "execution": {
     "iopub.execute_input": "2025-01-27T16:24:05.057787Z",
     "iopub.status.busy": "2025-01-27T16:24:05.057534Z",
     "iopub.status.idle": "2025-01-27T16:24:05.059582Z",
     "shell.execute_reply": "2025-01-27T16:24:05.059241Z"
    },
    "papermill": {
     "duration": 0.007467,
     "end_time": "2025-01-27T16:24:05.060102",
     "exception": false,
     "start_time": "2025-01-27T16:24:05.052635",
     "status": "completed"
    },
    "tags": []
   },
   "outputs": [],
   "source": [
    "import os\n",
    "save_dir =\"/dss/dsshome1/07/ra65bex2/srawat/0.5hyperbolic\"\n",
    "import time\n",
    "epoch_metrics = []"
   ]
  },
  {
   "cell_type": "code",
   "execution_count": 40,
   "id": "7d908037",
   "metadata": {
    "execution": {
     "iopub.execute_input": "2025-01-27T16:24:05.069850Z",
     "iopub.status.busy": "2025-01-27T16:24:05.069727Z",
     "iopub.status.idle": "2025-01-27T18:05:04.061563Z",
     "shell.execute_reply": "2025-01-27T18:05:04.060868Z"
    },
    "papermill": {
     "duration": 6059.004502,
     "end_time": "2025-01-27T18:05:04.069271",
     "exception": false,
     "start_time": "2025-01-27T16:24:05.064769",
     "status": "completed"
    },
    "tags": []
   },
   "outputs": [
    {
     "name": "stdout",
     "output_type": "stream",
     "text": [
      "EPOCH 1:\n",
      "Checkpoint saved: /dss/dsshome1/07/ra65bex2/srawat/0.5hyperbolic\n",
      "Epoch 1/3, Loss: 2.487964547754869\n",
      "Epoch 1/3, Contrastive Loss: 1.7944789688986258\n",
      "Epoch 1/3, Entailment Loss: 1.3869711576613233\n"
     ]
    },
    {
     "name": "stdout",
     "output_type": "stream",
     "text": [
      "Mean Reciprocal Rank (MRR) for validation set: 0.4818\n",
      "Epoch 1 took 33.6964 minutes.\n",
      "\n",
      "\n"
     ]
    },
    {
     "name": "stdout",
     "output_type": "stream",
     "text": [
      "EPOCH 2:\n",
      "Checkpoint saved: /dss/dsshome1/07/ra65bex2/srawat/0.5hyperbolic\n",
      "Epoch 2/3, Loss: 2.352006165561758\n",
      "Epoch 2/3, Contrastive Loss: 1.7481002951896243\n",
      "Epoch 2/3, Entailment Loss: 1.2078117410512441\n"
     ]
    },
    {
     "name": "stdout",
     "output_type": "stream",
     "text": [
      "Mean Reciprocal Rank (MRR) for validation set: 0.5221\n",
      "Epoch 2 took 33.6428 minutes.\n",
      "\n",
      "\n"
     ]
    },
    {
     "name": "stdout",
     "output_type": "stream",
     "text": [
      "EPOCH 3:\n",
      "Checkpoint saved: /dss/dsshome1/07/ra65bex2/srawat/0.5hyperbolic\n",
      "Epoch 3/3, Loss: 2.3211289603311105\n",
      "Epoch 3/3, Contrastive Loss: 1.7267365188046075\n",
      "Epoch 3/3, Entailment Loss: 1.1887848834623083\n"
     ]
    },
    {
     "name": "stdout",
     "output_type": "stream",
     "text": [
      "Mean Reciprocal Rank (MRR) for validation set: 0.5288\n",
      "Epoch 3 took 33.6438 minutes.\n",
      "\n",
      "\n"
     ]
    }
   ],
   "source": [
    "for epoch in range(num_epochs):\n",
    "    start_time = time.time()\n",
    "    lora_model.train()\n",
    "\n",
    "    total_loss = 0.0\n",
    "    entailment_loss_total=0.0\n",
    "    contrastive_loss_total=0.0\n",
    "    for batch in data_loader_train:\n",
    "\n",
    "        anchor_texts = batch[0]\n",
    "        positive_texts = batch[1]\n",
    "        negative_texts = batch[2]\n",
    "\n",
    "        anchor_inputs = tokenizer(anchor_texts, return_tensors='pt', padding=True, truncation=True, max_length=512).to(device)\n",
    "        positive_inputs = tokenizer(positive_texts, return_tensors='pt', padding=True, truncation=True, max_length=512).to(device)\n",
    "    \n",
    "        anchor_embedding = expm_o(lora_model(**anchor_inputs).last_hidden_state[:, 0, :])\n",
    "        positive_embedding = expm_o(lora_model(**positive_inputs).last_hidden_state[:, 0, :])\n",
    "        negative_embedding = [expm_o(lora_model(**tokenizer(neg, return_tensors='pt', padding=True, truncation=True, max_length=512).to(device)).last_hidden_state[:, 0, :]) for neg in negative_texts]\n",
    "\n",
    "        contrastive_loss_value = info_nce_loss(anchor_embedding, positive_embedding, negative_embedding, distance_fn=lorentzian_distance)\n",
    "        \n",
    "        entailment_loss_value = entailment_loss(anchor_embedding, positive_embedding)\n",
    "        \n",
    "        loss = contrastive_loss_value + 0.5*entailment_loss_value\n",
    "  \n",
    "        optimizer.zero_grad()\n",
    "        loss.backward()\n",
    "        optimizer.step()\n",
    "        \n",
    "        total_loss += loss.item()\n",
    "        entailment_loss_total+=entailment_loss_value.item()\n",
    "        contrastive_loss_total+=contrastive_loss_value.item()\n",
    "    save_path1 = os.path.join(save_dir, f\"hyperbolic_lora_checkpoint_epoch_{epoch+1}.pth\")\n",
    "    torch.save(lora_model, save_path1)\n",
    "    print(f\"EPOCH {epoch+1}:\")\n",
    "    print(f\"Checkpoint saved: {save_dir}\")\n",
    "    print(f\"Epoch {epoch+1}/{num_epochs}, Loss: {total_loss / len(data_loader_train)}\")\n",
    "    print(f\"Epoch {epoch+1}/{num_epochs}, Contrastive Loss: {contrastive_loss_total / len(data_loader_train)}\")\n",
    "    print(f\"Epoch {epoch+1}/{num_epochs}, Entailment Loss: {entailment_loss_total / len(data_loader_train)}\")\n",
    "    mrr_validation = evaluate_mrr(model1=lora_model, data_loader_val=data_loader_val,distance_fn=lorentzian_distance)\n",
    "    #mrr_train = evaluate_mrr(lora_model, data_loader_train, lorentzian_distance)\n",
    "    #print(f\"Mean Reciprocal Rank (MRR) for training set: {mrr_train:.4f}\")\n",
    "    print(f\"Mean Reciprocal Rank (MRR) for validation set: {mrr_validation:.4f}\")\n",
    "    end_time = time.time()\n",
    "    print(f\"Epoch {epoch+1} took {(end_time - start_time) / 60:.4f} minutes.\")\n",
    "    print(f\"\\n\")\n",
    "    epoch_metrics.append({\n",
    "        'epoch': epoch + 1,\n",
    "        'training_loss': total_loss / len(data_loader_train),\n",
    "        'Contrastive_loss': contrastive_loss_total / len(data_loader_train),\n",
    "        'Entailment_loss': entailment_loss_total / len(data_loader_train),\n",
    "        'mrr_validation': mrr_validation,\n",
    "        'time_taken_minutes': (end_time - start_time) / 60\n",
    "    })"
   ]
  },
  {
   "cell_type": "code",
   "execution_count": 41,
   "id": "f6c2a55e",
   "metadata": {
    "execution": {
     "iopub.execute_input": "2025-01-27T18:05:04.083296Z",
     "iopub.status.busy": "2025-01-27T18:05:04.083136Z",
     "iopub.status.idle": "2025-01-27T18:05:04.086338Z",
     "shell.execute_reply": "2025-01-27T18:05:04.086025Z"
    },
    "papermill": {
     "duration": 0.009471,
     "end_time": "2025-01-27T18:05:04.086986",
     "exception": false,
     "start_time": "2025-01-27T18:05:04.077515",
     "status": "completed"
    },
    "tags": []
   },
   "outputs": [],
   "source": [
    "import json\n",
    "with open(save_dir + '/hyperbolic_epoch_metrics.json', 'w') as f:\n",
    "    json.dump(epoch_metrics, f)"
   ]
  },
  {
   "cell_type": "code",
   "execution_count": null,
   "id": "12fafb4d",
   "metadata": {
    "papermill": {
     "duration": 0.004838,
     "end_time": "2025-01-27T18:05:04.096755",
     "exception": false,
     "start_time": "2025-01-27T18:05:04.091917",
     "status": "completed"
    },
    "tags": []
   },
   "outputs": [],
   "source": []
  }
 ],
 "metadata": {
  "kernelspec": {
   "display_name": "Python 3 (ipykernel)",
   "language": "python",
   "name": "python3"
  },
  "language_info": {
   "codemirror_mode": {
    "name": "ipython",
    "version": 3
   },
   "file_extension": ".py",
   "mimetype": "text/x-python",
   "name": "python",
   "nbconvert_exporter": "python",
   "pygments_lexer": "ipython3",
   "version": "3.10.12"
  },
  "papermill": {
   "default_parameters": {},
   "duration": 6131.412592,
   "end_time": "2025-01-27T18:05:05.619829",
   "environment_variables": {},
   "exception": null,
   "input_path": "0.5hyperbolic.ipynb",
   "output_path": "0.5hyperbolic_output.ipynb",
   "parameters": {},
   "start_time": "2025-01-27T16:22:54.207237",
   "version": "2.6.0"
  }
 },
 "nbformat": 4,
 "nbformat_minor": 5
}
