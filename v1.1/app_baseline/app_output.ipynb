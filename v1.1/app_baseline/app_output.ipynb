{
 "cells": [
  {
   "cell_type": "code",
   "execution_count": 1,
   "id": "06935853",
   "metadata": {
    "execution": {
     "iopub.execute_input": "2024-12-16T17:32:10.137468Z",
     "iopub.status.busy": "2024-12-16T17:32:10.137214Z",
     "iopub.status.idle": "2024-12-16T17:32:13.423424Z",
     "shell.execute_reply": "2024-12-16T17:32:13.422925Z"
    },
    "papermill": {
     "duration": 3.293748,
     "end_time": "2024-12-16T17:32:13.424334",
     "exception": false,
     "start_time": "2024-12-16T17:32:10.130586",
     "status": "completed"
    },
    "tags": []
   },
   "outputs": [],
   "source": [
    "from datasets import load_dataset"
   ]
  },
  {
   "cell_type": "code",
   "execution_count": 2,
   "id": "2c407744",
   "metadata": {
    "execution": {
     "iopub.execute_input": "2024-12-16T17:32:13.434709Z",
     "iopub.status.busy": "2024-12-16T17:32:13.434368Z",
     "iopub.status.idle": "2024-12-16T17:32:18.029070Z",
     "shell.execute_reply": "2024-12-16T17:32:18.028619Z"
    },
    "papermill": {
     "duration": 4.599611,
     "end_time": "2024-12-16T17:32:18.029998",
     "exception": false,
     "start_time": "2024-12-16T17:32:13.430387",
     "status": "completed"
    },
    "tags": []
   },
   "outputs": [],
   "source": [
    "dataset_train = load_dataset('ms_marco', 'v1.1', split='train')"
   ]
  },
  {
   "cell_type": "code",
   "execution_count": 3,
   "id": "0e4da144",
   "metadata": {
    "execution": {
     "iopub.execute_input": "2024-12-16T17:32:18.041654Z",
     "iopub.status.busy": "2024-12-16T17:32:18.041406Z",
     "iopub.status.idle": "2024-12-16T17:32:18.045938Z",
     "shell.execute_reply": "2024-12-16T17:32:18.045553Z"
    },
    "papermill": {
     "duration": 0.009352,
     "end_time": "2024-12-16T17:32:18.046537",
     "exception": false,
     "start_time": "2024-12-16T17:32:18.037185",
     "status": "completed"
    },
    "tags": []
   },
   "outputs": [
    {
     "data": {
      "text/plain": [
       "Dataset({\n",
       "    features: ['answers', 'passages', 'query', 'query_id', 'query_type', 'wellFormedAnswers'],\n",
       "    num_rows: 82326\n",
       "})"
      ]
     },
     "execution_count": 3,
     "metadata": {},
     "output_type": "execute_result"
    }
   ],
   "source": [
    "dataset_train"
   ]
  },
  {
   "cell_type": "code",
   "execution_count": 4,
   "id": "18e78394",
   "metadata": {
    "execution": {
     "iopub.execute_input": "2024-12-16T17:32:18.055780Z",
     "iopub.status.busy": "2024-12-16T17:32:18.055538Z",
     "iopub.status.idle": "2024-12-16T17:32:18.059073Z",
     "shell.execute_reply": "2024-12-16T17:32:18.058685Z"
    },
    "papermill": {
     "duration": 0.008039,
     "end_time": "2024-12-16T17:32:18.059643",
     "exception": false,
     "start_time": "2024-12-16T17:32:18.051604",
     "status": "completed"
    },
    "tags": []
   },
   "outputs": [],
   "source": [
    "def preprocess(example):\n",
    "    positive_passages=[]\n",
    "    for p in enumerate(example['passages'][\"is_selected\"]):\n",
    "        if p[1]==1:\n",
    "            positive_passages.append(example[\"passages\"][\"passage_text\"][p[0]])\n",
    "    negative_passages = []\n",
    "    for p in enumerate(example['passages'][\"is_selected\"]):\n",
    "        if p[1]==0:\n",
    "            negative_passages.append(example[\"passages\"][\"passage_text\"][p[0]])\n",
    "    if (len(positive_passages)>0 and len(negative_passages)>=5):\n",
    "        positive = positive_passages[0]\n",
    "        negatives = negative_passages[:5]\n",
    "        return {\n",
    "            \"query\": example[\"query\"],\n",
    "            \"positive\": positive,\n",
    "            \"negatives\": negatives\n",
    "        }\n",
    "    else:\n",
    "        return {\"query\": None, \"positive\": None, \"negatives\": None}"
   ]
  },
  {
   "cell_type": "code",
   "execution_count": 5,
   "id": "3ccf11aa",
   "metadata": {
    "execution": {
     "iopub.execute_input": "2024-12-16T17:32:18.067577Z",
     "iopub.status.busy": "2024-12-16T17:32:18.067314Z",
     "iopub.status.idle": "2024-12-16T17:32:18.073394Z",
     "shell.execute_reply": "2024-12-16T17:32:18.072992Z"
    },
    "papermill": {
     "duration": 0.010635,
     "end_time": "2024-12-16T17:32:18.073995",
     "exception": false,
     "start_time": "2024-12-16T17:32:18.063360",
     "status": "completed"
    },
    "tags": []
   },
   "outputs": [],
   "source": [
    "processed_data_train = dataset_train.map(preprocess, remove_columns=dataset_train.column_names)"
   ]
  },
  {
   "cell_type": "code",
   "execution_count": 6,
   "id": "b92f0305",
   "metadata": {
    "execution": {
     "iopub.execute_input": "2024-12-16T17:32:18.082089Z",
     "iopub.status.busy": "2024-12-16T17:32:18.081837Z",
     "iopub.status.idle": "2024-12-16T17:32:18.086646Z",
     "shell.execute_reply": "2024-12-16T17:32:18.086248Z"
    },
    "papermill": {
     "duration": 0.009508,
     "end_time": "2024-12-16T17:32:18.087221",
     "exception": false,
     "start_time": "2024-12-16T17:32:18.077713",
     "status": "completed"
    },
    "tags": []
   },
   "outputs": [],
   "source": [
    "processed_data_train = processed_data_train.filter(lambda x: x['query'] is not None and x['positive'] is not None)"
   ]
  },
  {
   "cell_type": "code",
   "execution_count": 7,
   "id": "2a0e75eb",
   "metadata": {
    "execution": {
     "iopub.execute_input": "2024-12-16T17:32:18.095176Z",
     "iopub.status.busy": "2024-12-16T17:32:18.094948Z",
     "iopub.status.idle": "2024-12-16T17:32:23.394948Z",
     "shell.execute_reply": "2024-12-16T17:32:23.394447Z"
    },
    "papermill": {
     "duration": 5.304902,
     "end_time": "2024-12-16T17:32:23.395909",
     "exception": false,
     "start_time": "2024-12-16T17:32:18.091007",
     "status": "completed"
    },
    "tags": []
   },
   "outputs": [],
   "source": [
    "contrastive_pairs_train = []\n",
    "for item in processed_data_train:\n",
    "    query = item[\"query\"]\n",
    "    positive = item[\"positive\"]\n",
    "    negatives = item[\"negatives\"]\n",
    "    contrastive_pairs_train.append({\n",
    "        \"anchor\": query,\n",
    "        \"positive\": positive,\n",
    "        \"negatives\": negatives\n",
    "    })"
   ]
  },
  {
   "cell_type": "code",
   "execution_count": 8,
   "id": "ad2aae59",
   "metadata": {
    "execution": {
     "iopub.execute_input": "2024-12-16T17:32:23.406693Z",
     "iopub.status.busy": "2024-12-16T17:32:23.406424Z",
     "iopub.status.idle": "2024-12-16T17:32:23.409276Z",
     "shell.execute_reply": "2024-12-16T17:32:23.408968Z"
    },
    "papermill": {
     "duration": 0.007833,
     "end_time": "2024-12-16T17:32:23.409982",
     "exception": false,
     "start_time": "2024-12-16T17:32:23.402149",
     "status": "completed"
    },
    "tags": []
   },
   "outputs": [
    {
     "data": {
      "text/plain": [
       "74538"
      ]
     },
     "execution_count": 8,
     "metadata": {},
     "output_type": "execute_result"
    }
   ],
   "source": [
    "len(contrastive_pairs_train)"
   ]
  },
  {
   "cell_type": "code",
   "execution_count": 9,
   "id": "c2713394",
   "metadata": {
    "execution": {
     "iopub.execute_input": "2024-12-16T17:32:23.418146Z",
     "iopub.status.busy": "2024-12-16T17:32:23.417861Z",
     "iopub.status.idle": "2024-12-16T17:32:26.734422Z",
     "shell.execute_reply": "2024-12-16T17:32:26.733856Z"
    },
    "papermill": {
     "duration": 3.321695,
     "end_time": "2024-12-16T17:32:26.735457",
     "exception": false,
     "start_time": "2024-12-16T17:32:23.413762",
     "status": "completed"
    },
    "tags": []
   },
   "outputs": [],
   "source": [
    "from torch.utils.data import DataLoader"
   ]
  },
  {
   "cell_type": "code",
   "execution_count": 10,
   "id": "bd4b3ae5",
   "metadata": {
    "execution": {
     "iopub.execute_input": "2024-12-16T17:32:26.746666Z",
     "iopub.status.busy": "2024-12-16T17:32:26.746505Z",
     "iopub.status.idle": "2024-12-16T17:32:26.749466Z",
     "shell.execute_reply": "2024-12-16T17:32:26.749105Z"
    },
    "papermill": {
     "duration": 0.007971,
     "end_time": "2024-12-16T17:32:26.750080",
     "exception": false,
     "start_time": "2024-12-16T17:32:26.742109",
     "status": "completed"
    },
    "tags": []
   },
   "outputs": [],
   "source": [
    "class ContrastiveDataset:\n",
    "    def __init__(self, pairs):\n",
    "        self.pairs = pairs\n",
    "\n",
    "    def __len__(self):\n",
    "        return len(self.pairs)\n",
    "\n",
    "    def __getitem__(self, idx):\n",
    "        item = self.pairs[idx]\n",
    "        return item[\"anchor\"], item[\"positive\"], item[\"negatives\"]"
   ]
  },
  {
   "cell_type": "code",
   "execution_count": 11,
   "id": "925e72b6",
   "metadata": {
    "execution": {
     "iopub.execute_input": "2024-12-16T17:32:26.758364Z",
     "iopub.status.busy": "2024-12-16T17:32:26.758082Z",
     "iopub.status.idle": "2024-12-16T17:32:26.760267Z",
     "shell.execute_reply": "2024-12-16T17:32:26.759844Z"
    },
    "papermill": {
     "duration": 0.006977,
     "end_time": "2024-12-16T17:32:26.760937",
     "exception": false,
     "start_time": "2024-12-16T17:32:26.753960",
     "status": "completed"
    },
    "tags": []
   },
   "outputs": [],
   "source": [
    "contrastive_dataset_train = ContrastiveDataset(contrastive_pairs_train)"
   ]
  },
  {
   "cell_type": "code",
   "execution_count": 12,
   "id": "3c512ba8",
   "metadata": {
    "execution": {
     "iopub.execute_input": "2024-12-16T17:32:26.769127Z",
     "iopub.status.busy": "2024-12-16T17:32:26.768989Z",
     "iopub.status.idle": "2024-12-16T17:32:26.771223Z",
     "shell.execute_reply": "2024-12-16T17:32:26.770857Z"
    },
    "papermill": {
     "duration": 0.007039,
     "end_time": "2024-12-16T17:32:26.771880",
     "exception": false,
     "start_time": "2024-12-16T17:32:26.764841",
     "status": "completed"
    },
    "tags": []
   },
   "outputs": [],
   "source": [
    "data_loader_train = DataLoader(contrastive_dataset_train, batch_size=32, shuffle=True)"
   ]
  },
  {
   "cell_type": "code",
   "execution_count": 13,
   "id": "2faabc37",
   "metadata": {
    "execution": {
     "iopub.execute_input": "2024-12-16T17:32:26.780179Z",
     "iopub.status.busy": "2024-12-16T17:32:26.779999Z",
     "iopub.status.idle": "2024-12-16T17:32:26.782808Z",
     "shell.execute_reply": "2024-12-16T17:32:26.782470Z"
    },
    "papermill": {
     "duration": 0.007725,
     "end_time": "2024-12-16T17:32:26.783426",
     "exception": false,
     "start_time": "2024-12-16T17:32:26.775701",
     "status": "completed"
    },
    "tags": []
   },
   "outputs": [
    {
     "data": {
      "text/plain": [
       "2330"
      ]
     },
     "execution_count": 13,
     "metadata": {},
     "output_type": "execute_result"
    }
   ],
   "source": [
    "len(data_loader_train)"
   ]
  },
  {
   "cell_type": "code",
   "execution_count": 14,
   "id": "6abeefc4",
   "metadata": {
    "execution": {
     "iopub.execute_input": "2024-12-16T17:32:26.791676Z",
     "iopub.status.busy": "2024-12-16T17:32:26.791546Z",
     "iopub.status.idle": "2024-12-16T17:32:29.541222Z",
     "shell.execute_reply": "2024-12-16T17:32:29.540661Z"
    },
    "papermill": {
     "duration": 2.754848,
     "end_time": "2024-12-16T17:32:29.542204",
     "exception": false,
     "start_time": "2024-12-16T17:32:26.787356",
     "status": "completed"
    },
    "tags": []
   },
   "outputs": [],
   "source": [
    "from transformers import AutoTokenizer, AutoModel\n",
    "tokenizer = AutoTokenizer.from_pretrained(\"bert-base-uncased\")"
   ]
  },
  {
   "cell_type": "code",
   "execution_count": 15,
   "id": "e778b079",
   "metadata": {
    "execution": {
     "iopub.execute_input": "2024-12-16T17:32:29.551470Z",
     "iopub.status.busy": "2024-12-16T17:32:29.551166Z",
     "iopub.status.idle": "2024-12-16T17:32:29.961864Z",
     "shell.execute_reply": "2024-12-16T17:32:29.961411Z"
    },
    "papermill": {
     "duration": 0.415836,
     "end_time": "2024-12-16T17:32:29.962579",
     "exception": false,
     "start_time": "2024-12-16T17:32:29.546743",
     "status": "completed"
    },
    "tags": []
   },
   "outputs": [],
   "source": [
    "model = AutoModel.from_pretrained(\"bert-base-uncased\")"
   ]
  },
  {
   "cell_type": "code",
   "execution_count": 16,
   "id": "9e24a263",
   "metadata": {
    "execution": {
     "iopub.execute_input": "2024-12-16T17:32:29.971296Z",
     "iopub.status.busy": "2024-12-16T17:32:29.971153Z",
     "iopub.status.idle": "2024-12-16T17:32:30.339354Z",
     "shell.execute_reply": "2024-12-16T17:32:30.338885Z"
    },
    "papermill": {
     "duration": 0.373513,
     "end_time": "2024-12-16T17:32:30.340273",
     "exception": false,
     "start_time": "2024-12-16T17:32:29.966760",
     "status": "completed"
    },
    "tags": []
   },
   "outputs": [],
   "source": [
    "from peft import LoraConfig, get_peft_model"
   ]
  },
  {
   "cell_type": "code",
   "execution_count": 17,
   "id": "019b5b73",
   "metadata": {
    "execution": {
     "iopub.execute_input": "2024-12-16T17:32:30.349440Z",
     "iopub.status.busy": "2024-12-16T17:32:30.349291Z",
     "iopub.status.idle": "2024-12-16T17:32:30.351459Z",
     "shell.execute_reply": "2024-12-16T17:32:30.351094Z"
    },
    "papermill": {
     "duration": 0.007147,
     "end_time": "2024-12-16T17:32:30.352049",
     "exception": false,
     "start_time": "2024-12-16T17:32:30.344902",
     "status": "completed"
    },
    "tags": []
   },
   "outputs": [],
   "source": [
    "lora_config = LoraConfig(\n",
    "    task_type= \"FEATURE_EXTRACTION\"\n",
    ")"
   ]
  },
  {
   "cell_type": "code",
   "execution_count": 18,
   "id": "994fb31c",
   "metadata": {
    "execution": {
     "iopub.execute_input": "2024-12-16T17:32:30.360771Z",
     "iopub.status.busy": "2024-12-16T17:32:30.360639Z",
     "iopub.status.idle": "2024-12-16T17:32:30.385099Z",
     "shell.execute_reply": "2024-12-16T17:32:30.384676Z"
    },
    "papermill": {
     "duration": 0.02956,
     "end_time": "2024-12-16T17:32:30.385752",
     "exception": false,
     "start_time": "2024-12-16T17:32:30.356192",
     "status": "completed"
    },
    "tags": []
   },
   "outputs": [],
   "source": [
    "lora_model = get_peft_model(model, lora_config)"
   ]
  },
  {
   "cell_type": "code",
   "execution_count": 19,
   "id": "c1aafb5c",
   "metadata": {
    "execution": {
     "iopub.execute_input": "2024-12-16T17:32:30.394903Z",
     "iopub.status.busy": "2024-12-16T17:32:30.394765Z",
     "iopub.status.idle": "2024-12-16T17:32:30.396767Z",
     "shell.execute_reply": "2024-12-16T17:32:30.396418Z"
    },
    "papermill": {
     "duration": 0.00717,
     "end_time": "2024-12-16T17:32:30.397359",
     "exception": false,
     "start_time": "2024-12-16T17:32:30.390189",
     "status": "completed"
    },
    "tags": []
   },
   "outputs": [],
   "source": [
    "import torch"
   ]
  },
  {
   "cell_type": "code",
   "execution_count": 20,
   "id": "6167620a",
   "metadata": {
    "execution": {
     "iopub.execute_input": "2024-12-16T17:32:30.405979Z",
     "iopub.status.busy": "2024-12-16T17:32:30.405847Z",
     "iopub.status.idle": "2024-12-16T17:32:30.408092Z",
     "shell.execute_reply": "2024-12-16T17:32:30.407686Z"
    },
    "papermill": {
     "duration": 0.007196,
     "end_time": "2024-12-16T17:32:30.408683",
     "exception": false,
     "start_time": "2024-12-16T17:32:30.401487",
     "status": "completed"
    },
    "tags": []
   },
   "outputs": [],
   "source": [
    "def cosine_distance(x, y):\n",
    "    return 1 - torch.nn.functional.cosine_similarity(x, y, dim=-1)"
   ]
  },
  {
   "cell_type": "code",
   "execution_count": 21,
   "id": "efa4043e",
   "metadata": {
    "execution": {
     "iopub.execute_input": "2024-12-16T17:32:30.417425Z",
     "iopub.status.busy": "2024-12-16T17:32:30.417185Z",
     "iopub.status.idle": "2024-12-16T17:32:30.420194Z",
     "shell.execute_reply": "2024-12-16T17:32:30.419872Z"
    },
    "papermill": {
     "duration": 0.008017,
     "end_time": "2024-12-16T17:32:30.420780",
     "exception": false,
     "start_time": "2024-12-16T17:32:30.412763",
     "status": "completed"
    },
    "tags": []
   },
   "outputs": [],
   "source": [
    "def info_nce_loss(anchor_embedding, positive_embedding, negative_embedding, distance_fn):\n",
    "\n",
    "    pos_dist = distance_fn(anchor_embedding, positive_embedding)\n",
    "    neg_dist = torch.stack([distance_fn(anchor_embedding, neg) for neg in negative_embedding], dim=-1)\n",
    "    \n",
    "    logits = torch.cat([-pos_dist.unsqueeze(1), -neg_dist], dim=1)\n",
    "    labels = torch.zeros(logits.size(0), dtype=torch.long, device=logits.device)\n",
    "\n",
    "    loss = torch.nn.CrossEntropyLoss()(logits, labels)\n",
    "    return loss"
   ]
  },
  {
   "cell_type": "code",
   "execution_count": 22,
   "id": "405e680e",
   "metadata": {
    "execution": {
     "iopub.execute_input": "2024-12-16T17:32:30.429695Z",
     "iopub.status.busy": "2024-12-16T17:32:30.429298Z",
     "iopub.status.idle": "2024-12-16T17:32:30.432608Z",
     "shell.execute_reply": "2024-12-16T17:32:30.432304Z"
    },
    "papermill": {
     "duration": 0.008317,
     "end_time": "2024-12-16T17:32:30.433191",
     "exception": false,
     "start_time": "2024-12-16T17:32:30.424874",
     "status": "completed"
    },
    "tags": []
   },
   "outputs": [],
   "source": [
    "import torch.optim as optim\n",
    "optimizer = torch.optim.AdamW(lora_model.parameters(), lr=5e-5)"
   ]
  },
  {
   "cell_type": "code",
   "execution_count": 23,
   "id": "ae28710c",
   "metadata": {
    "execution": {
     "iopub.execute_input": "2024-12-16T17:32:30.442148Z",
     "iopub.status.busy": "2024-12-16T17:32:30.441846Z",
     "iopub.status.idle": "2024-12-16T17:32:30.443692Z",
     "shell.execute_reply": "2024-12-16T17:32:30.443403Z"
    },
    "papermill": {
     "duration": 0.006971,
     "end_time": "2024-12-16T17:32:30.444336",
     "exception": false,
     "start_time": "2024-12-16T17:32:30.437365",
     "status": "completed"
    },
    "tags": []
   },
   "outputs": [],
   "source": [
    "num_epochs=3"
   ]
  },
  {
   "cell_type": "code",
   "execution_count": 24,
   "id": "7a3f365c",
   "metadata": {
    "execution": {
     "iopub.execute_input": "2024-12-16T17:32:30.453210Z",
     "iopub.status.busy": "2024-12-16T17:32:30.452991Z",
     "iopub.status.idle": "2024-12-16T17:32:30.798087Z",
     "shell.execute_reply": "2024-12-16T17:32:30.797594Z"
    },
    "papermill": {
     "duration": 0.35006,
     "end_time": "2024-12-16T17:32:30.798711",
     "exception": false,
     "start_time": "2024-12-16T17:32:30.448651",
     "status": "completed"
    },
    "tags": []
   },
   "outputs": [],
   "source": [
    "device = torch.device('cuda' if torch.cuda.is_available() else 'cpu')"
   ]
  },
  {
   "cell_type": "code",
   "execution_count": 25,
   "id": "ddcd1e31",
   "metadata": {
    "execution": {
     "iopub.execute_input": "2024-12-16T17:32:30.808002Z",
     "iopub.status.busy": "2024-12-16T17:32:30.807742Z",
     "iopub.status.idle": "2024-12-16T17:32:30.810558Z",
     "shell.execute_reply": "2024-12-16T17:32:30.810251Z"
    },
    "papermill": {
     "duration": 0.007994,
     "end_time": "2024-12-16T17:32:30.811206",
     "exception": false,
     "start_time": "2024-12-16T17:32:30.803212",
     "status": "completed"
    },
    "tags": []
   },
   "outputs": [
    {
     "data": {
      "text/plain": [
       "device(type='cuda')"
      ]
     },
     "execution_count": 25,
     "metadata": {},
     "output_type": "execute_result"
    }
   ],
   "source": [
    "device"
   ]
  },
  {
   "cell_type": "code",
   "execution_count": 26,
   "id": "70f66f3c",
   "metadata": {
    "execution": {
     "iopub.execute_input": "2024-12-16T17:32:30.820264Z",
     "iopub.status.busy": "2024-12-16T17:32:30.820137Z",
     "iopub.status.idle": "2024-12-16T17:32:30.822462Z",
     "shell.execute_reply": "2024-12-16T17:32:30.822167Z"
    },
    "papermill": {
     "duration": 0.007661,
     "end_time": "2024-12-16T17:32:30.823176",
     "exception": false,
     "start_time": "2024-12-16T17:32:30.815515",
     "status": "completed"
    },
    "tags": []
   },
   "outputs": [
    {
     "name": "stdout",
     "output_type": "stream",
     "text": [
      "2.5.1+cu124\n",
      "True\n"
     ]
    }
   ],
   "source": [
    "import torch\n",
    "print(torch.__version__)\n",
    "print(torch.cuda.is_available())"
   ]
  },
  {
   "cell_type": "code",
   "execution_count": 27,
   "id": "85557609",
   "metadata": {
    "execution": {
     "iopub.execute_input": "2024-12-16T17:32:30.832479Z",
     "iopub.status.busy": "2024-12-16T17:32:30.832262Z",
     "iopub.status.idle": "2024-12-16T17:32:30.834651Z",
     "shell.execute_reply": "2024-12-16T17:32:30.834363Z"
    },
    "papermill": {
     "duration": 0.007582,
     "end_time": "2024-12-16T17:32:30.835265",
     "exception": false,
     "start_time": "2024-12-16T17:32:30.827683",
     "status": "completed"
    },
    "tags": []
   },
   "outputs": [
    {
     "data": {
      "text/plain": [
       "True"
      ]
     },
     "execution_count": 27,
     "metadata": {},
     "output_type": "execute_result"
    }
   ],
   "source": [
    "torch.cuda.is_available()"
   ]
  },
  {
   "cell_type": "code",
   "execution_count": 28,
   "id": "7679b7c0",
   "metadata": {
    "execution": {
     "iopub.execute_input": "2024-12-16T17:32:30.844889Z",
     "iopub.status.busy": "2024-12-16T17:32:30.844539Z",
     "iopub.status.idle": "2024-12-16T17:32:31.507968Z",
     "shell.execute_reply": "2024-12-16T17:32:31.507575Z"
    },
    "papermill": {
     "duration": 0.669257,
     "end_time": "2024-12-16T17:32:31.508900",
     "exception": false,
     "start_time": "2024-12-16T17:32:30.839643",
     "status": "completed"
    },
    "tags": []
   },
   "outputs": [],
   "source": [
    "lora_model = lora_model.to(device)"
   ]
  },
  {
   "cell_type": "code",
   "execution_count": 29,
   "id": "a1029903",
   "metadata": {
    "execution": {
     "iopub.execute_input": "2024-12-16T17:32:31.519899Z",
     "iopub.status.busy": "2024-12-16T17:32:31.519655Z",
     "iopub.status.idle": "2024-12-16T17:32:34.989560Z",
     "shell.execute_reply": "2024-12-16T17:32:34.989206Z"
    },
    "papermill": {
     "duration": 3.476381,
     "end_time": "2024-12-16T17:32:34.990289",
     "exception": false,
     "start_time": "2024-12-16T17:32:31.513908",
     "status": "completed"
    },
    "tags": []
   },
   "outputs": [],
   "source": [
    "dataset_val = load_dataset('ms_marco', 'v1.1', split='validation')"
   ]
  },
  {
   "cell_type": "code",
   "execution_count": 30,
   "id": "6a110f4f",
   "metadata": {
    "execution": {
     "iopub.execute_input": "2024-12-16T17:32:35.002138Z",
     "iopub.status.busy": "2024-12-16T17:32:35.001796Z",
     "iopub.status.idle": "2024-12-16T17:32:35.006499Z",
     "shell.execute_reply": "2024-12-16T17:32:35.006197Z"
    },
    "papermill": {
     "duration": 0.010226,
     "end_time": "2024-12-16T17:32:35.007095",
     "exception": false,
     "start_time": "2024-12-16T17:32:34.996869",
     "status": "completed"
    },
    "tags": []
   },
   "outputs": [],
   "source": [
    "processed_data_val = dataset_val.map(preprocess, remove_columns=dataset_val.column_names)"
   ]
  },
  {
   "cell_type": "code",
   "execution_count": 31,
   "id": "7ffe9d14",
   "metadata": {
    "execution": {
     "iopub.execute_input": "2024-12-16T17:32:35.017006Z",
     "iopub.status.busy": "2024-12-16T17:32:35.016863Z",
     "iopub.status.idle": "2024-12-16T17:32:35.020800Z",
     "shell.execute_reply": "2024-12-16T17:32:35.020492Z"
    },
    "papermill": {
     "duration": 0.009615,
     "end_time": "2024-12-16T17:32:35.021388",
     "exception": false,
     "start_time": "2024-12-16T17:32:35.011773",
     "status": "completed"
    },
    "tags": []
   },
   "outputs": [],
   "source": [
    "processed_data_val = processed_data_val.filter(lambda x: x['query'] is not None and x['positive'] is not None)"
   ]
  },
  {
   "cell_type": "code",
   "execution_count": 32,
   "id": "26d00639",
   "metadata": {
    "execution": {
     "iopub.execute_input": "2024-12-16T17:32:35.030963Z",
     "iopub.status.busy": "2024-12-16T17:32:35.030821Z",
     "iopub.status.idle": "2024-12-16T17:32:35.673587Z",
     "shell.execute_reply": "2024-12-16T17:32:35.673083Z"
    },
    "papermill": {
     "duration": 0.648507,
     "end_time": "2024-12-16T17:32:35.674504",
     "exception": false,
     "start_time": "2024-12-16T17:32:35.025997",
     "status": "completed"
    },
    "tags": []
   },
   "outputs": [],
   "source": [
    "contrastive_pairs_val = []\n",
    "for item in processed_data_val:\n",
    "    query = item[\"query\"]\n",
    "    positive = item[\"positive\"]\n",
    "    negatives = item[\"negatives\"]\n",
    "    contrastive_pairs_val.append({\n",
    "        \"anchor\": query,\n",
    "        \"positive\": positive,\n",
    "        \"negatives\": negatives\n",
    "    })"
   ]
  },
  {
   "cell_type": "code",
   "execution_count": 33,
   "id": "71d1969c",
   "metadata": {
    "execution": {
     "iopub.execute_input": "2024-12-16T17:32:35.684650Z",
     "iopub.status.busy": "2024-12-16T17:32:35.684502Z",
     "iopub.status.idle": "2024-12-16T17:32:35.686641Z",
     "shell.execute_reply": "2024-12-16T17:32:35.686318Z"
    },
    "papermill": {
     "duration": 0.007697,
     "end_time": "2024-12-16T17:32:35.687237",
     "exception": false,
     "start_time": "2024-12-16T17:32:35.679540",
     "status": "completed"
    },
    "tags": []
   },
   "outputs": [],
   "source": [
    "contrastive_dataset_val = ContrastiveDataset(contrastive_pairs_val)"
   ]
  },
  {
   "cell_type": "code",
   "execution_count": 34,
   "id": "84aec7f9",
   "metadata": {
    "execution": {
     "iopub.execute_input": "2024-12-16T17:32:35.697091Z",
     "iopub.status.busy": "2024-12-16T17:32:35.696867Z",
     "iopub.status.idle": "2024-12-16T17:32:35.699256Z",
     "shell.execute_reply": "2024-12-16T17:32:35.698939Z"
    },
    "papermill": {
     "duration": 0.008057,
     "end_time": "2024-12-16T17:32:35.699862",
     "exception": false,
     "start_time": "2024-12-16T17:32:35.691805",
     "status": "completed"
    },
    "tags": []
   },
   "outputs": [],
   "source": [
    "data_loader_val = DataLoader(contrastive_dataset_val, batch_size=32, shuffle=True)"
   ]
  },
  {
   "cell_type": "code",
   "execution_count": 35,
   "id": "b6828e6d",
   "metadata": {
    "execution": {
     "iopub.execute_input": "2024-12-16T17:32:35.709593Z",
     "iopub.status.busy": "2024-12-16T17:32:35.709438Z",
     "iopub.status.idle": "2024-12-16T17:32:35.711999Z",
     "shell.execute_reply": "2024-12-16T17:32:35.711705Z"
    },
    "papermill": {
     "duration": 0.00802,
     "end_time": "2024-12-16T17:32:35.712601",
     "exception": false,
     "start_time": "2024-12-16T17:32:35.704581",
     "status": "completed"
    },
    "tags": []
   },
   "outputs": [
    {
     "data": {
      "text/plain": [
       "284"
      ]
     },
     "execution_count": 35,
     "metadata": {},
     "output_type": "execute_result"
    }
   ],
   "source": [
    "len(data_loader_val)"
   ]
  },
  {
   "cell_type": "code",
   "execution_count": 36,
   "id": "4112a678",
   "metadata": {
    "execution": {
     "iopub.execute_input": "2024-12-16T17:32:35.722427Z",
     "iopub.status.busy": "2024-12-16T17:32:35.722294Z",
     "iopub.status.idle": "2024-12-16T17:32:35.727098Z",
     "shell.execute_reply": "2024-12-16T17:32:35.726790Z"
    },
    "papermill": {
     "duration": 0.010357,
     "end_time": "2024-12-16T17:32:35.727675",
     "exception": false,
     "start_time": "2024-12-16T17:32:35.717318",
     "status": "completed"
    },
    "tags": []
   },
   "outputs": [],
   "source": [
    "def evaluate_mrr(model, data_loader_val, distance_fn):\n",
    "    model.eval()\n",
    "\n",
    "    total_rr = 0.0\n",
    "    num_queries = 0\n",
    "\n",
    "    with torch.no_grad():\n",
    "        for batch in data_loader_val:\n",
    "            anchor_text = batch[0]\n",
    "            positive_text = batch[1]\n",
    "            negative_texts = batch[2]\n",
    "\n",
    "            anchor_input = tokenizer(anchor_text, return_tensors='pt', padding=True, truncation=True, max_length=512).to(device)\n",
    "            positive_input = tokenizer(positive_text, return_tensors='pt', padding=True, truncation=True, max_length=512).to(device)\n",
    "\n",
    "            anchor_embedding = model(**anchor_input).last_hidden_state[:, 0, :]\n",
    "            positive_embedding = model(**positive_input).last_hidden_state[:, 0, :]\n",
    "            negative_embedding = [model(**tokenizer(neg, return_tensors='pt', padding=True, truncation=True, max_length=512).to(device)).last_hidden_state[:, 0, :] for neg in negative_texts]\n",
    "\n",
    "            pos_dist = distance_fn(anchor_embedding, positive_embedding)\n",
    "            neg_dist = torch.stack([distance_fn(anchor_embedding, neg) for neg in negative_embedding], dim=-1)\n",
    "            all_similarities=torch.cat([-pos_dist.unsqueeze(1), -neg_dist], dim=1)\n",
    "\n",
    "            sorted_similarities, sorted_indices = torch.sort(all_similarities, dim=1, descending=True)\n",
    "\n",
    "            # Find the rank of the first relevant (positive) document\n",
    "            positive_rank = (sorted_indices == 0).nonzero(as_tuple=True)[1] + 1  # +1 to make rank 1-based\n",
    "            total_rr += torch.sum(1.0 / positive_rank.float()).item()  # Reciprocal rank\n",
    "            num_queries += len(positive_rank)\n",
    "\n",
    "    mrr = total_rr / num_queries\n",
    "    return mrr"
   ]
  },
  {
   "cell_type": "code",
   "execution_count": 37,
   "id": "704de3cd",
   "metadata": {
    "execution": {
     "iopub.execute_input": "2024-12-16T17:32:35.737372Z",
     "iopub.status.busy": "2024-12-16T17:32:35.737244Z",
     "iopub.status.idle": "2024-12-16T17:32:35.739099Z",
     "shell.execute_reply": "2024-12-16T17:32:35.738803Z"
    },
    "papermill": {
     "duration": 0.007277,
     "end_time": "2024-12-16T17:32:35.739650",
     "exception": false,
     "start_time": "2024-12-16T17:32:35.732373",
     "status": "completed"
    },
    "tags": []
   },
   "outputs": [],
   "source": [
    "import os\n",
    "save_dir =\"/dss/dsshome1/07/ra65bex2/srawat\""
   ]
  },
  {
   "cell_type": "code",
   "execution_count": 38,
   "id": "babab8e6",
   "metadata": {
    "execution": {
     "iopub.execute_input": "2024-12-16T17:32:35.749360Z",
     "iopub.status.busy": "2024-12-16T17:32:35.749232Z",
     "iopub.status.idle": "2024-12-16T17:32:35.751028Z",
     "shell.execute_reply": "2024-12-16T17:32:35.750735Z"
    },
    "papermill": {
     "duration": 0.007243,
     "end_time": "2024-12-16T17:32:35.751600",
     "exception": false,
     "start_time": "2024-12-16T17:32:35.744357",
     "status": "completed"
    },
    "tags": []
   },
   "outputs": [],
   "source": [
    "import time\n",
    "epoch_metrics = []"
   ]
  },
  {
   "cell_type": "code",
   "execution_count": 39,
   "id": "0845d0fd",
   "metadata": {
    "execution": {
     "iopub.execute_input": "2024-12-16T17:32:35.761563Z",
     "iopub.status.busy": "2024-12-16T17:32:35.761413Z",
     "iopub.status.idle": "2024-12-16T19:13:12.178490Z",
     "shell.execute_reply": "2024-12-16T19:13:12.177841Z"
    },
    "papermill": {
     "duration": 6036.429902,
     "end_time": "2024-12-16T19:13:12.186284",
     "exception": false,
     "start_time": "2024-12-16T17:32:35.756382",
     "status": "completed"
    },
    "tags": []
   },
   "outputs": [
    {
     "name": "stdout",
     "output_type": "stream",
     "text": [
      "EPOCH 1:\n",
      "Checkpoint saved: /dss/dsshome1/07/ra65bex2/srawat/checkpoint_epoch_1.pth\n",
      "Epoch 1/3, Training Loss: 1.7311884099833443\n"
     ]
    },
    {
     "name": "stdout",
     "output_type": "stream",
     "text": [
      "Mean Reciprocal Rank (MRR) for validation set: 0.5276\n",
      "Epoch 1 took 33.5561 minutes.\n",
      "\n",
      "\n"
     ]
    },
    {
     "name": "stdout",
     "output_type": "stream",
     "text": [
      "EPOCH 2:\n",
      "Checkpoint saved: /dss/dsshome1/07/ra65bex2/srawat/checkpoint_epoch_2.pth\n",
      "Epoch 2/3, Training Loss: 1.6802338266577332\n"
     ]
    },
    {
     "name": "stdout",
     "output_type": "stream",
     "text": [
      "Mean Reciprocal Rank (MRR) for validation set: 0.5388\n",
      "Epoch 2 took 33.5487 minutes.\n",
      "\n",
      "\n"
     ]
    },
    {
     "name": "stdout",
     "output_type": "stream",
     "text": [
      "EPOCH 3:\n",
      "Checkpoint saved: /dss/dsshome1/07/ra65bex2/srawat/checkpoint_epoch_3.pth\n",
      "Epoch 3/3, Training Loss: 1.6625064971109316\n"
     ]
    },
    {
     "name": "stdout",
     "output_type": "stream",
     "text": [
      "Mean Reciprocal Rank (MRR) for validation set: 0.5448\n",
      "Epoch 3 took 33.5020 minutes.\n",
      "\n",
      "\n"
     ]
    }
   ],
   "source": [
    "for epoch in range(num_epochs):\n",
    "    start_time = time.time()\n",
    "    lora_model.train()\n",
    "    \n",
    "    total_loss = 0.0\n",
    "    for batch in data_loader_train:\n",
    "    \n",
    "        anchor_texts = batch[0]\n",
    "        positive_texts = batch[1]\n",
    "        negative_texts = batch[2]\n",
    "    \n",
    "        anchor_inputs = tokenizer(anchor_texts, return_tensors='pt', padding=True, truncation=True, max_length=512).to(device)\n",
    "        positive_inputs = tokenizer(positive_texts, return_tensors='pt', padding=True, truncation=True, max_length=512).to(device)\n",
    "\n",
    "    \n",
    "        anchor_embedding = lora_model(**anchor_inputs).last_hidden_state[:, 0, :]\n",
    "        positive_embedding = lora_model(**positive_inputs).last_hidden_state[:, 0, :]\n",
    "        negative_embedding = [lora_model(**tokenizer(neg, return_tensors='pt', padding=True, truncation=True, max_length=512).to(device)).last_hidden_state[:, 0, :] for neg in negative_texts]\n",
    "\n",
    "        loss = info_nce_loss(anchor_embedding, positive_embedding, negative_embedding, distance_fn=cosine_distance)\n",
    "        \n",
    "        optimizer.zero_grad()\n",
    "        loss.backward()\n",
    "        optimizer.step()\n",
    "        \n",
    "        total_loss += loss.item()\n",
    "    save_path = os.path.join(save_dir, f\"checkpoint_epoch_{epoch+1}.pth\")\n",
    "    torch.save(lora_model, save_path)\n",
    "    print(f\"EPOCH {epoch+1}:\")\n",
    "    print(f\"Checkpoint saved: {save_path}\")\n",
    "    print(f\"Epoch {epoch+1}/{num_epochs}, Training Loss: {total_loss / len(data_loader_train)}\")\n",
    "    mrr_validation = evaluate_mrr(lora_model, data_loader_val, cosine_distance)\n",
    "    #mrr_train = evaluate_mrr(lora_model, data_loader_train, cosine_distance)\n",
    "    #print(f\"Mean Reciprocal Rank (MRR) for training set: {mrr_train:.4f}\")\n",
    "    print(f\"Mean Reciprocal Rank (MRR) for validation set: {mrr_validation:.4f}\")\n",
    "    end_time = time.time()\n",
    "    print(f\"Epoch {epoch+1} took {(end_time - start_time) / 60:.4f} minutes.\")\n",
    "    print(f\"\\n\")\n",
    "    epoch_metrics.append({\n",
    "        'epoch': epoch + 1,\n",
    "        'training_loss': total_loss / len(data_loader_train),\n",
    "        'mrr_validation': mrr_validation,\n",
    "        'time_taken_minutes': (end_time - start_time) / 60\n",
    "    })"
   ]
  },
  {
   "cell_type": "code",
   "execution_count": 40,
   "id": "aab19df2",
   "metadata": {
    "execution": {
     "iopub.execute_input": "2024-12-16T19:13:12.197867Z",
     "iopub.status.busy": "2024-12-16T19:13:12.197518Z",
     "iopub.status.idle": "2024-12-16T19:13:12.200135Z",
     "shell.execute_reply": "2024-12-16T19:13:12.199773Z"
    },
    "papermill": {
     "duration": 0.008821,
     "end_time": "2024-12-16T19:13:12.200709",
     "exception": false,
     "start_time": "2024-12-16T19:13:12.191888",
     "status": "completed"
    },
    "tags": []
   },
   "outputs": [],
   "source": [
    "import json"
   ]
  },
  {
   "cell_type": "code",
   "execution_count": 41,
   "id": "b88372e6",
   "metadata": {
    "execution": {
     "iopub.execute_input": "2024-12-16T19:13:12.211389Z",
     "iopub.status.busy": "2024-12-16T19:13:12.210915Z",
     "iopub.status.idle": "2024-12-16T19:13:12.219970Z",
     "shell.execute_reply": "2024-12-16T19:13:12.219632Z"
    },
    "papermill": {
     "duration": 0.014874,
     "end_time": "2024-12-16T19:13:12.220521",
     "exception": false,
     "start_time": "2024-12-16T19:13:12.205647",
     "status": "completed"
    },
    "tags": []
   },
   "outputs": [],
   "source": [
    "with open(save_dir + '/epoch_metrics.json', 'w') as f:\n",
    "    json.dump(epoch_metrics, f)"
   ]
  }
 ],
 "metadata": {
  "kernelspec": {
   "display_name": "Python 3 (ipykernel)",
   "language": "python",
   "name": "python3"
  },
  "language_info": {
   "codemirror_mode": {
    "name": "ipython",
    "version": 3
   },
   "file_extension": ".py",
   "mimetype": "text/x-python",
   "name": "python",
   "nbconvert_exporter": "python",
   "pygments_lexer": "ipython3",
   "version": "3.10.12"
  },
  "papermill": {
   "default_parameters": {},
   "duration": 6065.29972,
   "end_time": "2024-12-16T19:13:13.841685",
   "environment_variables": {},
   "exception": null,
   "input_path": "app.ipynb",
   "output_path": "app_output.ipynb",
   "parameters": {},
   "start_time": "2024-12-16T17:32:08.541965",
   "version": "2.6.0"
  }
 },
 "nbformat": 4,
 "nbformat_minor": 5
}
