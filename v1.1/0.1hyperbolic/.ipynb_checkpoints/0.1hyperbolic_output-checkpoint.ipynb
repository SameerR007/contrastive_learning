{
 "cells": [
  {
   "cell_type": "code",
   "execution_count": 1,
   "id": "bc5c9256",
   "metadata": {
    "execution": {
     "iopub.execute_input": "2025-01-27T16:23:01.010153Z",
     "iopub.status.busy": "2025-01-27T16:23:01.009846Z",
     "iopub.status.idle": "2025-01-27T16:23:08.658915Z",
     "shell.execute_reply": "2025-01-27T16:23:08.658465Z"
    },
    "papermill": {
     "duration": 7.654635,
     "end_time": "2025-01-27T16:23:08.659805",
     "exception": false,
     "start_time": "2025-01-27T16:23:01.005170",
     "status": "completed"
    },
    "tags": []
   },
   "outputs": [],
   "source": [
    "from datasets import load_dataset"
   ]
  },
  {
   "cell_type": "code",
   "execution_count": 2,
   "id": "d0e733e2",
   "metadata": {
    "execution": {
     "iopub.execute_input": "2025-01-27T16:23:08.673618Z",
     "iopub.status.busy": "2025-01-27T16:23:08.673293Z",
     "iopub.status.idle": "2025-01-27T16:23:14.000896Z",
     "shell.execute_reply": "2025-01-27T16:23:14.000440Z"
    },
    "papermill": {
     "duration": 5.332698,
     "end_time": "2025-01-27T16:23:14.001789",
     "exception": false,
     "start_time": "2025-01-27T16:23:08.669091",
     "status": "completed"
    },
    "tags": []
   },
   "outputs": [],
   "source": [
    "dataset = load_dataset('ms_marco', 'v1.1')"
   ]
  },
  {
   "cell_type": "code",
   "execution_count": 3,
   "id": "de5c3106",
   "metadata": {
    "execution": {
     "iopub.execute_input": "2025-01-27T16:23:14.012130Z",
     "iopub.status.busy": "2025-01-27T16:23:14.011990Z",
     "iopub.status.idle": "2025-01-27T16:23:14.016453Z",
     "shell.execute_reply": "2025-01-27T16:23:14.016107Z"
    },
    "papermill": {
     "duration": 0.009198,
     "end_time": "2025-01-27T16:23:14.017087",
     "exception": false,
     "start_time": "2025-01-27T16:23:14.007889",
     "status": "completed"
    },
    "tags": []
   },
   "outputs": [
    {
     "data": {
      "text/plain": [
       "DatasetDict({\n",
       "    validation: Dataset({\n",
       "        features: ['answers', 'passages', 'query', 'query_id', 'query_type', 'wellFormedAnswers'],\n",
       "        num_rows: 10047\n",
       "    })\n",
       "    train: Dataset({\n",
       "        features: ['answers', 'passages', 'query', 'query_id', 'query_type', 'wellFormedAnswers'],\n",
       "        num_rows: 82326\n",
       "    })\n",
       "    test: Dataset({\n",
       "        features: ['answers', 'passages', 'query', 'query_id', 'query_type', 'wellFormedAnswers'],\n",
       "        num_rows: 9650\n",
       "    })\n",
       "})"
      ]
     },
     "execution_count": 3,
     "metadata": {},
     "output_type": "execute_result"
    }
   ],
   "source": [
    "dataset"
   ]
  },
  {
   "cell_type": "code",
   "execution_count": 4,
   "id": "7c539197",
   "metadata": {
    "execution": {
     "iopub.execute_input": "2025-01-27T16:23:14.025772Z",
     "iopub.status.busy": "2025-01-27T16:23:14.025641Z",
     "iopub.status.idle": "2025-01-27T16:23:16.748815Z",
     "shell.execute_reply": "2025-01-27T16:23:16.748273Z"
    },
    "papermill": {
     "duration": 2.72815,
     "end_time": "2025-01-27T16:23:16.749602",
     "exception": false,
     "start_time": "2025-01-27T16:23:14.021452",
     "status": "completed"
    },
    "tags": []
   },
   "outputs": [],
   "source": [
    "dataset_train = load_dataset('ms_marco', 'v1.1', split='train')"
   ]
  },
  {
   "cell_type": "code",
   "execution_count": 5,
   "id": "a3638609",
   "metadata": {
    "execution": {
     "iopub.execute_input": "2025-01-27T16:23:16.757942Z",
     "iopub.status.busy": "2025-01-27T16:23:16.757665Z",
     "iopub.status.idle": "2025-01-27T16:23:16.760427Z",
     "shell.execute_reply": "2025-01-27T16:23:16.760092Z"
    },
    "papermill": {
     "duration": 0.008705,
     "end_time": "2025-01-27T16:23:16.762340",
     "exception": false,
     "start_time": "2025-01-27T16:23:16.753635",
     "status": "completed"
    },
    "tags": []
   },
   "outputs": [
    {
     "data": {
      "text/plain": [
       "Dataset({\n",
       "    features: ['answers', 'passages', 'query', 'query_id', 'query_type', 'wellFormedAnswers'],\n",
       "    num_rows: 82326\n",
       "})"
      ]
     },
     "execution_count": 5,
     "metadata": {},
     "output_type": "execute_result"
    }
   ],
   "source": [
    "dataset_train"
   ]
  },
  {
   "cell_type": "code",
   "execution_count": 6,
   "id": "731dcb71",
   "metadata": {
    "execution": {
     "iopub.execute_input": "2025-01-27T16:23:16.770790Z",
     "iopub.status.busy": "2025-01-27T16:23:16.770519Z",
     "iopub.status.idle": "2025-01-27T16:23:16.774517Z",
     "shell.execute_reply": "2025-01-27T16:23:16.774152Z"
    },
    "papermill": {
     "duration": 0.008924,
     "end_time": "2025-01-27T16:23:16.775068",
     "exception": false,
     "start_time": "2025-01-27T16:23:16.766144",
     "status": "completed"
    },
    "tags": []
   },
   "outputs": [],
   "source": [
    "def preprocess(example):\n",
    "    positive_passages=[]\n",
    "    for p in enumerate(example['passages'][\"is_selected\"]):\n",
    "        if p[1]==1:\n",
    "            positive_passages.append(example[\"passages\"][\"passage_text\"][p[0]])\n",
    "    negative_passages = []\n",
    "    for p in enumerate(example['passages'][\"is_selected\"]):\n",
    "        if p[1]==0:\n",
    "            negative_passages.append(example[\"passages\"][\"passage_text\"][p[0]])\n",
    "    if (len(positive_passages)>0 and len(negative_passages)>=5):\n",
    "        positive = positive_passages[0]\n",
    "        negatives = negative_passages[:5]\n",
    "        return {\n",
    "            \"query\": example[\"query\"],\n",
    "            \"positive\": positive,\n",
    "            \"negatives\": negatives\n",
    "        }\n",
    "    else:\n",
    "        return {\"query\": None, \"positive\": None, \"negatives\": None}"
   ]
  },
  {
   "cell_type": "code",
   "execution_count": 7,
   "id": "2168311d",
   "metadata": {
    "execution": {
     "iopub.execute_input": "2025-01-27T16:23:16.783163Z",
     "iopub.status.busy": "2025-01-27T16:23:16.782917Z",
     "iopub.status.idle": "2025-01-27T16:23:17.217118Z",
     "shell.execute_reply": "2025-01-27T16:23:17.216718Z"
    },
    "papermill": {
     "duration": 0.439091,
     "end_time": "2025-01-27T16:23:17.217948",
     "exception": false,
     "start_time": "2025-01-27T16:23:16.778857",
     "status": "completed"
    },
    "tags": []
   },
   "outputs": [],
   "source": [
    "processed_data_train = dataset_train.map(preprocess, remove_columns=dataset_train.column_names)"
   ]
  },
  {
   "cell_type": "code",
   "execution_count": 8,
   "id": "ac01ad69",
   "metadata": {
    "execution": {
     "iopub.execute_input": "2025-01-27T16:23:17.226833Z",
     "iopub.status.busy": "2025-01-27T16:23:17.226500Z",
     "iopub.status.idle": "2025-01-27T16:23:17.254228Z",
     "shell.execute_reply": "2025-01-27T16:23:17.253895Z"
    },
    "papermill": {
     "duration": 0.032539,
     "end_time": "2025-01-27T16:23:17.254824",
     "exception": false,
     "start_time": "2025-01-27T16:23:17.222285",
     "status": "completed"
    },
    "tags": []
   },
   "outputs": [],
   "source": [
    "processed_data_train = processed_data_train.filter(lambda x: x['query'] is not None and x['positive'] is not None)"
   ]
  },
  {
   "cell_type": "code",
   "execution_count": 9,
   "id": "49bc7932",
   "metadata": {
    "execution": {
     "iopub.execute_input": "2025-01-27T16:23:17.263085Z",
     "iopub.status.busy": "2025-01-27T16:23:17.262795Z",
     "iopub.status.idle": "2025-01-27T16:23:23.230165Z",
     "shell.execute_reply": "2025-01-27T16:23:23.229497Z"
    },
    "papermill": {
     "duration": 5.972378,
     "end_time": "2025-01-27T16:23:23.231077",
     "exception": false,
     "start_time": "2025-01-27T16:23:17.258699",
     "status": "completed"
    },
    "tags": []
   },
   "outputs": [],
   "source": [
    "contrastive_pairs_train = []\n",
    "for item in processed_data_train:\n",
    "    query = item[\"query\"]\n",
    "    positive = item[\"positive\"]\n",
    "    negatives = item[\"negatives\"]\n",
    "    contrastive_pairs_train.append({\n",
    "        \"anchor\": query,\n",
    "        \"positive\": positive,\n",
    "        \"negatives\": negatives\n",
    "    })"
   ]
  },
  {
   "cell_type": "code",
   "execution_count": 10,
   "id": "29847821",
   "metadata": {
    "execution": {
     "iopub.execute_input": "2025-01-27T16:23:23.249184Z",
     "iopub.status.busy": "2025-01-27T16:23:23.249025Z",
     "iopub.status.idle": "2025-01-27T16:23:23.252393Z",
     "shell.execute_reply": "2025-01-27T16:23:23.252045Z"
    },
    "papermill": {
     "duration": 0.008385,
     "end_time": "2025-01-27T16:23:23.253018",
     "exception": false,
     "start_time": "2025-01-27T16:23:23.244633",
     "status": "completed"
    },
    "tags": []
   },
   "outputs": [
    {
     "data": {
      "text/plain": [
       "74538"
      ]
     },
     "execution_count": 10,
     "metadata": {},
     "output_type": "execute_result"
    }
   ],
   "source": [
    "len(contrastive_pairs_train)"
   ]
  },
  {
   "cell_type": "code",
   "execution_count": 11,
   "id": "86cc2e83",
   "metadata": {
    "execution": {
     "iopub.execute_input": "2025-01-27T16:23:23.261532Z",
     "iopub.status.busy": "2025-01-27T16:23:23.261214Z",
     "iopub.status.idle": "2025-01-27T16:23:35.740634Z",
     "shell.execute_reply": "2025-01-27T16:23:35.740197Z"
    },
    "papermill": {
     "duration": 12.484516,
     "end_time": "2025-01-27T16:23:35.741496",
     "exception": false,
     "start_time": "2025-01-27T16:23:23.256980",
     "status": "completed"
    },
    "tags": []
   },
   "outputs": [],
   "source": [
    "from torch.utils.data import DataLoader"
   ]
  },
  {
   "cell_type": "code",
   "execution_count": 12,
   "id": "f8a84c71",
   "metadata": {
    "execution": {
     "iopub.execute_input": "2025-01-27T16:23:35.755860Z",
     "iopub.status.busy": "2025-01-27T16:23:35.755689Z",
     "iopub.status.idle": "2025-01-27T16:23:35.758278Z",
     "shell.execute_reply": "2025-01-27T16:23:35.757981Z"
    },
    "papermill": {
     "duration": 0.007571,
     "end_time": "2025-01-27T16:23:35.758834",
     "exception": false,
     "start_time": "2025-01-27T16:23:35.751263",
     "status": "completed"
    },
    "tags": []
   },
   "outputs": [],
   "source": [
    "class ContrastiveDataset:\n",
    "    def __init__(self, pairs):\n",
    "        self.pairs = pairs\n",
    "\n",
    "    def __len__(self):\n",
    "        return len(self.pairs)\n",
    "\n",
    "    def __getitem__(self, idx):\n",
    "        item = self.pairs[idx]\n",
    "        return item[\"anchor\"], item[\"positive\"], item[\"negatives\"]"
   ]
  },
  {
   "cell_type": "code",
   "execution_count": 13,
   "id": "be48294c",
   "metadata": {
    "execution": {
     "iopub.execute_input": "2025-01-27T16:23:35.767256Z",
     "iopub.status.busy": "2025-01-27T16:23:35.767036Z",
     "iopub.status.idle": "2025-01-27T16:23:35.768917Z",
     "shell.execute_reply": "2025-01-27T16:23:35.768597Z"
    },
    "papermill": {
     "duration": 0.006691,
     "end_time": "2025-01-27T16:23:35.769491",
     "exception": false,
     "start_time": "2025-01-27T16:23:35.762800",
     "status": "completed"
    },
    "tags": []
   },
   "outputs": [],
   "source": [
    "contrastive_dataset_train = ContrastiveDataset(contrastive_pairs_train)"
   ]
  },
  {
   "cell_type": "code",
   "execution_count": 14,
   "id": "05b9ea70",
   "metadata": {
    "execution": {
     "iopub.execute_input": "2025-01-27T16:23:35.778016Z",
     "iopub.status.busy": "2025-01-27T16:23:35.777791Z",
     "iopub.status.idle": "2025-01-27T16:23:35.779856Z",
     "shell.execute_reply": "2025-01-27T16:23:35.779568Z"
    },
    "papermill": {
     "duration": 0.00686,
     "end_time": "2025-01-27T16:23:35.780388",
     "exception": false,
     "start_time": "2025-01-27T16:23:35.773528",
     "status": "completed"
    },
    "tags": []
   },
   "outputs": [],
   "source": [
    "data_loader_train = DataLoader(contrastive_dataset_train, batch_size=32, shuffle=True)"
   ]
  },
  {
   "cell_type": "code",
   "execution_count": 15,
   "id": "ec3e69e0",
   "metadata": {
    "execution": {
     "iopub.execute_input": "2025-01-27T16:23:35.788956Z",
     "iopub.status.busy": "2025-01-27T16:23:35.788726Z",
     "iopub.status.idle": "2025-01-27T16:23:35.791192Z",
     "shell.execute_reply": "2025-01-27T16:23:35.790908Z"
    },
    "papermill": {
     "duration": 0.007292,
     "end_time": "2025-01-27T16:23:35.791753",
     "exception": false,
     "start_time": "2025-01-27T16:23:35.784461",
     "status": "completed"
    },
    "tags": []
   },
   "outputs": [
    {
     "data": {
      "text/plain": [
       "2330"
      ]
     },
     "execution_count": 15,
     "metadata": {},
     "output_type": "execute_result"
    }
   ],
   "source": [
    "len(data_loader_train)"
   ]
  },
  {
   "cell_type": "code",
   "execution_count": 16,
   "id": "a0a163c4",
   "metadata": {
    "execution": {
     "iopub.execute_input": "2025-01-27T16:23:35.800468Z",
     "iopub.status.busy": "2025-01-27T16:23:35.800244Z",
     "iopub.status.idle": "2025-01-27T16:23:48.951599Z",
     "shell.execute_reply": "2025-01-27T16:23:48.951210Z"
    },
    "papermill": {
     "duration": 13.156586,
     "end_time": "2025-01-27T16:23:48.952469",
     "exception": false,
     "start_time": "2025-01-27T16:23:35.795883",
     "status": "completed"
    },
    "tags": []
   },
   "outputs": [],
   "source": [
    "from transformers import AutoTokenizer, AutoModel\n",
    "tokenizer = AutoTokenizer.from_pretrained(\"bert-base-uncased\")"
   ]
  },
  {
   "cell_type": "code",
   "execution_count": 17,
   "id": "05704c47",
   "metadata": {
    "execution": {
     "iopub.execute_input": "2025-01-27T16:23:48.967349Z",
     "iopub.status.busy": "2025-01-27T16:23:48.966942Z",
     "iopub.status.idle": "2025-01-27T16:23:56.531909Z",
     "shell.execute_reply": "2025-01-27T16:23:56.531533Z"
    },
    "papermill": {
     "duration": 7.570419,
     "end_time": "2025-01-27T16:23:56.532793",
     "exception": false,
     "start_time": "2025-01-27T16:23:48.962374",
     "status": "completed"
    },
    "tags": []
   },
   "outputs": [],
   "source": [
    "model = AutoModel.from_pretrained(\"bert-base-uncased\")"
   ]
  },
  {
   "cell_type": "code",
   "execution_count": 18,
   "id": "e581f4f7",
   "metadata": {
    "execution": {
     "iopub.execute_input": "2025-01-27T16:23:56.547262Z",
     "iopub.status.busy": "2025-01-27T16:23:56.546944Z",
     "iopub.status.idle": "2025-01-27T16:23:57.107627Z",
     "shell.execute_reply": "2025-01-27T16:23:57.107262Z"
    },
    "papermill": {
     "duration": 0.566208,
     "end_time": "2025-01-27T16:23:57.108545",
     "exception": false,
     "start_time": "2025-01-27T16:23:56.542337",
     "status": "completed"
    },
    "tags": []
   },
   "outputs": [],
   "source": [
    "from peft import LoraConfig, get_peft_model"
   ]
  },
  {
   "cell_type": "code",
   "execution_count": 19,
   "id": "586e0e87",
   "metadata": {
    "execution": {
     "iopub.execute_input": "2025-01-27T16:23:57.117867Z",
     "iopub.status.busy": "2025-01-27T16:23:57.117626Z",
     "iopub.status.idle": "2025-01-27T16:23:57.119614Z",
     "shell.execute_reply": "2025-01-27T16:23:57.119300Z"
    },
    "papermill": {
     "duration": 0.007179,
     "end_time": "2025-01-27T16:23:57.120259",
     "exception": false,
     "start_time": "2025-01-27T16:23:57.113080",
     "status": "completed"
    },
    "tags": []
   },
   "outputs": [],
   "source": [
    "lora_config = LoraConfig(\n",
    "    task_type= \"FEATURE_EXTRACTION\"\n",
    ")"
   ]
  },
  {
   "cell_type": "code",
   "execution_count": 20,
   "id": "9b1a90fc",
   "metadata": {
    "execution": {
     "iopub.execute_input": "2025-01-27T16:23:57.129305Z",
     "iopub.status.busy": "2025-01-27T16:23:57.128985Z",
     "iopub.status.idle": "2025-01-27T16:23:57.312019Z",
     "shell.execute_reply": "2025-01-27T16:23:57.311641Z"
    },
    "papermill": {
     "duration": 0.188408,
     "end_time": "2025-01-27T16:23:57.312874",
     "exception": false,
     "start_time": "2025-01-27T16:23:57.124466",
     "status": "completed"
    },
    "tags": []
   },
   "outputs": [],
   "source": [
    "lora_model = get_peft_model(model, lora_config)"
   ]
  },
  {
   "cell_type": "code",
   "execution_count": 21,
   "id": "3fe2a3d2",
   "metadata": {
    "execution": {
     "iopub.execute_input": "2025-01-27T16:23:57.322304Z",
     "iopub.status.busy": "2025-01-27T16:23:57.322037Z",
     "iopub.status.idle": "2025-01-27T16:23:57.324025Z",
     "shell.execute_reply": "2025-01-27T16:23:57.323718Z"
    },
    "papermill": {
     "duration": 0.007193,
     "end_time": "2025-01-27T16:23:57.324644",
     "exception": false,
     "start_time": "2025-01-27T16:23:57.317451",
     "status": "completed"
    },
    "tags": []
   },
   "outputs": [],
   "source": [
    "import torch"
   ]
  },
  {
   "cell_type": "code",
   "execution_count": 22,
   "id": "b1498285",
   "metadata": {
    "execution": {
     "iopub.execute_input": "2025-01-27T16:23:57.333630Z",
     "iopub.status.busy": "2025-01-27T16:23:57.333319Z",
     "iopub.status.idle": "2025-01-27T16:23:57.335873Z",
     "shell.execute_reply": "2025-01-27T16:23:57.335565Z"
    },
    "papermill": {
     "duration": 0.007636,
     "end_time": "2025-01-27T16:23:57.336477",
     "exception": false,
     "start_time": "2025-01-27T16:23:57.328841",
     "status": "completed"
    },
    "tags": []
   },
   "outputs": [],
   "source": [
    "def lorentzian_distance(x, y):\n",
    "    \n",
    "    dot_product = torch.sum(x * y, dim=-1)\n",
    "    norm_x = torch.norm(x, dim=-1)\n",
    "    norm_y = torch.norm(y, dim=-1)\n",
    "    \n",
    "    distance = torch.acosh(-dot_product + torch.sqrt((1 + norm_x**2) * (1 + norm_y**2)))\n",
    "    return distance"
   ]
  },
  {
   "cell_type": "code",
   "execution_count": 23,
   "id": "4f59d7f6",
   "metadata": {
    "execution": {
     "iopub.execute_input": "2025-01-27T16:23:57.345529Z",
     "iopub.status.busy": "2025-01-27T16:23:57.345218Z",
     "iopub.status.idle": "2025-01-27T16:23:57.347981Z",
     "shell.execute_reply": "2025-01-27T16:23:57.347675Z"
    },
    "papermill": {
     "duration": 0.007906,
     "end_time": "2025-01-27T16:23:57.348592",
     "exception": false,
     "start_time": "2025-01-27T16:23:57.340686",
     "status": "completed"
    },
    "tags": []
   },
   "outputs": [],
   "source": [
    "def info_nce_loss(anchor_embedding, positive_embedding, negative_embedding, distance_fn):\n",
    "\n",
    "    pos_dist = distance_fn(anchor_embedding, positive_embedding)\n",
    "    neg_dist = torch.stack([distance_fn(anchor_embedding, neg) for neg in negative_embedding], dim=-1)\n",
    "    \n",
    "    logits = torch.cat([-pos_dist.unsqueeze(1), -neg_dist], dim=1)\n",
    "    labels = torch.zeros(logits.size(0), dtype=torch.long, device=logits.device)\n",
    "\n",
    "    loss = torch.nn.CrossEntropyLoss()(logits, labels)\n",
    "    return loss"
   ]
  },
  {
   "cell_type": "code",
   "execution_count": 24,
   "id": "a1dca8bb",
   "metadata": {
    "execution": {
     "iopub.execute_input": "2025-01-27T16:23:57.357703Z",
     "iopub.status.busy": "2025-01-27T16:23:57.357384Z",
     "iopub.status.idle": "2025-01-27T16:23:57.360164Z",
     "shell.execute_reply": "2025-01-27T16:23:57.359856Z"
    },
    "papermill": {
     "duration": 0.007982,
     "end_time": "2025-01-27T16:23:57.360818",
     "exception": false,
     "start_time": "2025-01-27T16:23:57.352836",
     "status": "completed"
    },
    "tags": []
   },
   "outputs": [],
   "source": [
    "def exterior_angle(x_space, y_space, c):\n",
    "    norm_x_space = torch.norm(x_space, p=2, dim=-1)\n",
    "    norm_y_space = torch.norm(y_space, p=2, dim=-1)\n",
    "    x_time = torch.sqrt(1/c + norm_x_space**2)\n",
    "    y_time = torch.sqrt(1/c + norm_y_space**2)\n",
    "    dot_product = torch.sum(x_space * y_space, dim=-1)\n",
    "    lorentz_inner_product =  dot_product - x_time * y_time\n",
    "    numerator = y_time + x_time * c * lorentz_inner_product\n",
    "    denominator = norm_x_space * torch.sqrt((c * lorentz_inner_product)**2 - 1)\n",
    "    ext_angle = torch.acos(numerator / denominator)\n",
    "    return ext_angle"
   ]
  },
  {
   "cell_type": "code",
   "execution_count": 25,
   "id": "809e5ed0",
   "metadata": {
    "execution": {
     "iopub.execute_input": "2025-01-27T16:23:57.369849Z",
     "iopub.status.busy": "2025-01-27T16:23:57.369592Z",
     "iopub.status.idle": "2025-01-27T16:23:57.372069Z",
     "shell.execute_reply": "2025-01-27T16:23:57.371763Z"
    },
    "papermill": {
     "duration": 0.007647,
     "end_time": "2025-01-27T16:23:57.372706",
     "exception": false,
     "start_time": "2025-01-27T16:23:57.365059",
     "status": "completed"
    },
    "tags": []
   },
   "outputs": [],
   "source": [
    "def entailment_loss(x, y, c=1, K=0.1):\n",
    "    c = torch.tensor(c)\n",
    "    K = torch.tensor(K)\n",
    "    xspace = x\n",
    "    yspace = y\n",
    "    aperture = torch.asin(2 * K / (torch.sqrt(c) * torch.norm(xspace, p=2, dim=-1)))\n",
    "    \n",
    "    ext_angle = exterior_angle(xspace,yspace,c=c)\n",
    "    \n",
    "    loss = torch.max(torch.zeros_like(ext_angle), ext_angle - aperture)\n",
    "    return loss.mean()"
   ]
  },
  {
   "cell_type": "code",
   "execution_count": 26,
   "id": "201b67d5",
   "metadata": {
    "execution": {
     "iopub.execute_input": "2025-01-27T16:23:57.381880Z",
     "iopub.status.busy": "2025-01-27T16:23:57.381571Z",
     "iopub.status.idle": "2025-01-27T16:23:57.384188Z",
     "shell.execute_reply": "2025-01-27T16:23:57.383889Z"
    },
    "papermill": {
     "duration": 0.007846,
     "end_time": "2025-01-27T16:23:57.384805",
     "exception": false,
     "start_time": "2025-01-27T16:23:57.376959",
     "status": "completed"
    },
    "tags": []
   },
   "outputs": [],
   "source": [
    "def expm_o(v, c=1.0):\n",
    "    c = torch.tensor(c)\n",
    "    vspace = v\n",
    "    vnorm = torch.norm(v, p=2, dim=-1, keepdim=True)\n",
    "    xspace = torch.sinh(torch.sqrt(c) * vnorm) * vspace / (torch.sqrt(c) * vnorm)\n",
    "    batch_min = xspace.min(dim=1, keepdim=True).values\n",
    "    batch_max = xspace.max(dim=1, keepdim=True).values\n",
    "    xspace_scaled=(xspace - batch_min) / (batch_max - batch_min)\n",
    "    return xspace_scaled"
   ]
  },
  {
   "cell_type": "code",
   "execution_count": 27,
   "id": "cf75fe13",
   "metadata": {
    "execution": {
     "iopub.execute_input": "2025-01-27T16:23:57.394094Z",
     "iopub.status.busy": "2025-01-27T16:23:57.393785Z",
     "iopub.status.idle": "2025-01-27T16:23:57.396706Z",
     "shell.execute_reply": "2025-01-27T16:23:57.396394Z"
    },
    "papermill": {
     "duration": 0.008224,
     "end_time": "2025-01-27T16:23:57.397317",
     "exception": false,
     "start_time": "2025-01-27T16:23:57.389093",
     "status": "completed"
    },
    "tags": []
   },
   "outputs": [],
   "source": [
    "optimizer = torch.optim.AdamW(lora_model.parameters(), lr=5e-5)"
   ]
  },
  {
   "cell_type": "code",
   "execution_count": 28,
   "id": "1b8c7b4b",
   "metadata": {
    "execution": {
     "iopub.execute_input": "2025-01-27T16:23:57.406569Z",
     "iopub.status.busy": "2025-01-27T16:23:57.406273Z",
     "iopub.status.idle": "2025-01-27T16:23:57.408138Z",
     "shell.execute_reply": "2025-01-27T16:23:57.407830Z"
    },
    "papermill": {
     "duration": 0.007141,
     "end_time": "2025-01-27T16:23:57.408769",
     "exception": false,
     "start_time": "2025-01-27T16:23:57.401628",
     "status": "completed"
    },
    "tags": []
   },
   "outputs": [],
   "source": [
    "num_epochs=3"
   ]
  },
  {
   "cell_type": "code",
   "execution_count": 29,
   "id": "ff143b00",
   "metadata": {
    "execution": {
     "iopub.execute_input": "2025-01-27T16:23:57.417827Z",
     "iopub.status.busy": "2025-01-27T16:23:57.417694Z",
     "iopub.status.idle": "2025-01-27T16:23:57.616031Z",
     "shell.execute_reply": "2025-01-27T16:23:57.615667Z"
    },
    "papermill": {
     "duration": 0.203653,
     "end_time": "2025-01-27T16:23:57.616723",
     "exception": false,
     "start_time": "2025-01-27T16:23:57.413070",
     "status": "completed"
    },
    "tags": []
   },
   "outputs": [],
   "source": [
    "device = torch.device('cuda' if torch.cuda.is_available() else 'cpu')"
   ]
  },
  {
   "cell_type": "code",
   "execution_count": 30,
   "id": "6f081315",
   "metadata": {
    "execution": {
     "iopub.execute_input": "2025-01-27T16:23:57.626407Z",
     "iopub.status.busy": "2025-01-27T16:23:57.626167Z",
     "iopub.status.idle": "2025-01-27T16:23:57.628819Z",
     "shell.execute_reply": "2025-01-27T16:23:57.628522Z"
    },
    "papermill": {
     "duration": 0.008054,
     "end_time": "2025-01-27T16:23:57.629474",
     "exception": false,
     "start_time": "2025-01-27T16:23:57.621420",
     "status": "completed"
    },
    "tags": []
   },
   "outputs": [
    {
     "data": {
      "text/plain": [
       "device(type='cuda')"
      ]
     },
     "execution_count": 30,
     "metadata": {},
     "output_type": "execute_result"
    }
   ],
   "source": [
    "device"
   ]
  },
  {
   "cell_type": "code",
   "execution_count": 31,
   "id": "bb6e85f0",
   "metadata": {
    "execution": {
     "iopub.execute_input": "2025-01-27T16:23:57.638848Z",
     "iopub.status.busy": "2025-01-27T16:23:57.638719Z",
     "iopub.status.idle": "2025-01-27T16:24:00.416531Z",
     "shell.execute_reply": "2025-01-27T16:24:00.415934Z"
    },
    "papermill": {
     "duration": 2.783503,
     "end_time": "2025-01-27T16:24:00.417473",
     "exception": false,
     "start_time": "2025-01-27T16:23:57.633970",
     "status": "completed"
    },
    "tags": []
   },
   "outputs": [],
   "source": [
    "lora_model = lora_model.to(device)"
   ]
  },
  {
   "cell_type": "code",
   "execution_count": 32,
   "id": "875eb73d",
   "metadata": {
    "execution": {
     "iopub.execute_input": "2025-01-27T16:24:00.432699Z",
     "iopub.status.busy": "2025-01-27T16:24:00.432533Z",
     "iopub.status.idle": "2025-01-27T16:24:04.868316Z",
     "shell.execute_reply": "2025-01-27T16:24:04.867949Z"
    },
    "papermill": {
     "duration": 4.441869,
     "end_time": "2025-01-27T16:24:04.869401",
     "exception": false,
     "start_time": "2025-01-27T16:24:00.427532",
     "status": "completed"
    },
    "tags": []
   },
   "outputs": [],
   "source": [
    "dataset_val = load_dataset('ms_marco', 'v1.1', split='validation')"
   ]
  },
  {
   "cell_type": "code",
   "execution_count": 33,
   "id": "1b693d39",
   "metadata": {
    "execution": {
     "iopub.execute_input": "2025-01-27T16:24:04.881282Z",
     "iopub.status.busy": "2025-01-27T16:24:04.881017Z",
     "iopub.status.idle": "2025-01-27T16:24:04.885919Z",
     "shell.execute_reply": "2025-01-27T16:24:04.885529Z"
    },
    "papermill": {
     "duration": 0.01053,
     "end_time": "2025-01-27T16:24:04.886561",
     "exception": false,
     "start_time": "2025-01-27T16:24:04.876031",
     "status": "completed"
    },
    "tags": []
   },
   "outputs": [],
   "source": [
    "processed_data_val = dataset_val.map(preprocess, remove_columns=dataset_val.column_names)"
   ]
  },
  {
   "cell_type": "code",
   "execution_count": 34,
   "id": "525bfdda",
   "metadata": {
    "execution": {
     "iopub.execute_input": "2025-01-27T16:24:04.896285Z",
     "iopub.status.busy": "2025-01-27T16:24:04.896045Z",
     "iopub.status.idle": "2025-01-27T16:24:04.900054Z",
     "shell.execute_reply": "2025-01-27T16:24:04.899666Z"
    },
    "papermill": {
     "duration": 0.009531,
     "end_time": "2025-01-27T16:24:04.900700",
     "exception": false,
     "start_time": "2025-01-27T16:24:04.891169",
     "status": "completed"
    },
    "tags": []
   },
   "outputs": [],
   "source": [
    "processed_data_val = processed_data_val.filter(lambda x: x['query'] is not None and x['positive'] is not None)"
   ]
  },
  {
   "cell_type": "code",
   "execution_count": 35,
   "id": "c51f9ddb",
   "metadata": {
    "execution": {
     "iopub.execute_input": "2025-01-27T16:24:04.910312Z",
     "iopub.status.busy": "2025-01-27T16:24:04.910081Z",
     "iopub.status.idle": "2025-01-27T16:24:05.558485Z",
     "shell.execute_reply": "2025-01-27T16:24:05.558019Z"
    },
    "papermill": {
     "duration": 0.654011,
     "end_time": "2025-01-27T16:24:05.559293",
     "exception": false,
     "start_time": "2025-01-27T16:24:04.905282",
     "status": "completed"
    },
    "tags": []
   },
   "outputs": [],
   "source": [
    "contrastive_pairs_val = []\n",
    "for item in processed_data_val:\n",
    "    query = item[\"query\"]\n",
    "    positive = item[\"positive\"]\n",
    "    negatives = item[\"negatives\"]\n",
    "    contrastive_pairs_val.append({\n",
    "        \"anchor\": query,\n",
    "        \"positive\": positive,\n",
    "        \"negatives\": negatives\n",
    "    })"
   ]
  },
  {
   "cell_type": "code",
   "execution_count": 36,
   "id": "2459a6e9",
   "metadata": {
    "execution": {
     "iopub.execute_input": "2025-01-27T16:24:05.569385Z",
     "iopub.status.busy": "2025-01-27T16:24:05.569245Z",
     "iopub.status.idle": "2025-01-27T16:24:05.571429Z",
     "shell.execute_reply": "2025-01-27T16:24:05.571083Z"
    },
    "papermill": {
     "duration": 0.007713,
     "end_time": "2025-01-27T16:24:05.572007",
     "exception": false,
     "start_time": "2025-01-27T16:24:05.564294",
     "status": "completed"
    },
    "tags": []
   },
   "outputs": [],
   "source": [
    "contrastive_dataset_val = ContrastiveDataset(contrastive_pairs_val)"
   ]
  },
  {
   "cell_type": "code",
   "execution_count": 37,
   "id": "39c75ced",
   "metadata": {
    "execution": {
     "iopub.execute_input": "2025-01-27T16:24:05.581658Z",
     "iopub.status.busy": "2025-01-27T16:24:05.581528Z",
     "iopub.status.idle": "2025-01-27T16:24:05.583763Z",
     "shell.execute_reply": "2025-01-27T16:24:05.583420Z"
    },
    "papermill": {
     "duration": 0.007636,
     "end_time": "2025-01-27T16:24:05.584304",
     "exception": false,
     "start_time": "2025-01-27T16:24:05.576668",
     "status": "completed"
    },
    "tags": []
   },
   "outputs": [],
   "source": [
    "data_loader_val = DataLoader(contrastive_dataset_val, batch_size=32, shuffle=True)"
   ]
  },
  {
   "cell_type": "code",
   "execution_count": 38,
   "id": "e34c1c74",
   "metadata": {
    "execution": {
     "iopub.execute_input": "2025-01-27T16:24:05.593974Z",
     "iopub.status.busy": "2025-01-27T16:24:05.593844Z",
     "iopub.status.idle": "2025-01-27T16:24:05.598395Z",
     "shell.execute_reply": "2025-01-27T16:24:05.598049Z"
    },
    "papermill": {
     "duration": 0.010064,
     "end_time": "2025-01-27T16:24:05.598987",
     "exception": false,
     "start_time": "2025-01-27T16:24:05.588923",
     "status": "completed"
    },
    "tags": []
   },
   "outputs": [],
   "source": [
    "def evaluate_mrr(model1, data_loader_val, distance_fn):\n",
    "    model1.eval()\n",
    "    \n",
    "    total_rr = 0.0\n",
    "    num_queries = 0\n",
    "\n",
    "    with torch.no_grad():\n",
    "        for batch in data_loader_val:\n",
    "            anchor_text = batch[0]\n",
    "            positive_text = batch[1]\n",
    "            negative_texts = batch[2]\n",
    "\n",
    "            anchor_input = tokenizer(anchor_text, return_tensors='pt', padding=True, truncation=True, max_length=512).to(device)\n",
    "            positive_input = tokenizer(positive_text, return_tensors='pt', padding=True, truncation=True, max_length=512).to(device)\n",
    "\n",
    "            anchor_embedding = expm_o(model1(**anchor_input).last_hidden_state[:, 0, :])\n",
    "            positive_embedding = expm_o(model1(**positive_input).last_hidden_state[:, 0, :])\n",
    "            negative_embedding = [expm_o(model1(**tokenizer(neg, return_tensors='pt', padding=True, truncation=True, max_length=512).to(device)).last_hidden_state[:, 0, :]) for neg in negative_texts]\n",
    "\n",
    "            pos_dist = distance_fn(anchor_embedding, positive_embedding)\n",
    "            neg_dist = torch.stack([distance_fn(anchor_embedding, neg) for neg in negative_embedding], dim=-1)\n",
    "            all_similarities=torch.cat([-pos_dist.unsqueeze(1), -neg_dist], dim=1)\n",
    "\n",
    "            sorted_similarities, sorted_indices = torch.sort(all_similarities, dim=1, descending=True)\n",
    "\n",
    "            # Find the rank of the first relevant (positive) document\n",
    "            positive_rank = (sorted_indices == 0).nonzero(as_tuple=True)[1] + 1  # +1 to make rank 1-based\n",
    "            total_rr += torch.sum(1.0 / positive_rank.float()).item()  # Reciprocal rank\n",
    "            num_queries += len(positive_rank)\n",
    "            \n",
    "    mrr = total_rr / num_queries\n",
    "    return mrr"
   ]
  },
  {
   "cell_type": "code",
   "execution_count": 39,
   "id": "2abb4b7d",
   "metadata": {
    "execution": {
     "iopub.execute_input": "2025-01-27T16:24:05.608601Z",
     "iopub.status.busy": "2025-01-27T16:24:05.608460Z",
     "iopub.status.idle": "2025-01-27T16:24:05.610491Z",
     "shell.execute_reply": "2025-01-27T16:24:05.610152Z"
    },
    "papermill": {
     "duration": 0.007433,
     "end_time": "2025-01-27T16:24:05.611033",
     "exception": false,
     "start_time": "2025-01-27T16:24:05.603600",
     "status": "completed"
    },
    "tags": []
   },
   "outputs": [],
   "source": [
    "import os\n",
    "save_dir =\"/dss/dsshome1/07/ra65bex2/srawat/0.1hyperbolic\"\n",
    "import time\n",
    "epoch_metrics = []"
   ]
  },
  {
   "cell_type": "code",
   "execution_count": 40,
   "id": "16d42ff8",
   "metadata": {
    "execution": {
     "iopub.execute_input": "2025-01-27T16:24:05.620789Z",
     "iopub.status.busy": "2025-01-27T16:24:05.620661Z",
     "iopub.status.idle": "2025-01-27T18:05:00.445176Z",
     "shell.execute_reply": "2025-01-27T18:05:00.444522Z"
    },
    "papermill": {
     "duration": 6054.836991,
     "end_time": "2025-01-27T18:05:00.452677",
     "exception": false,
     "start_time": "2025-01-27T16:24:05.615686",
     "status": "completed"
    },
    "tags": []
   },
   "outputs": [
    {
     "name": "stdout",
     "output_type": "stream",
     "text": [
      "EPOCH 1:\n",
      "Checkpoint saved: /dss/dsshome1/07/ra65bex2/srawat/0.1hyperbolic\n",
      "Epoch 1/3, Loss: 1.958963262727844\n",
      "Epoch 1/3, Contrastive Loss: 1.7981836642830158\n",
      "Epoch 1/3, Entailment Loss: 1.6077959920203737\n"
     ]
    },
    {
     "name": "stdout",
     "output_type": "stream",
     "text": [
      "Mean Reciprocal Rank (MRR) for validation set: 0.4700\n",
      "Epoch 1 took 33.6659 minutes.\n",
      "\n",
      "\n"
     ]
    },
    {
     "name": "stdout",
     "output_type": "stream",
     "text": [
      "EPOCH 2:\n",
      "Checkpoint saved: /dss/dsshome1/07/ra65bex2/srawat/0.1hyperbolic\n",
      "Epoch 2/3, Loss: 1.8705040264538941\n",
      "Epoch 2/3, Contrastive Loss: 1.7265403613512096\n",
      "Epoch 2/3, Entailment Loss: 1.439636644478008\n"
     ]
    },
    {
     "name": "stdout",
     "output_type": "stream",
     "text": [
      "Mean Reciprocal Rank (MRR) for validation set: 0.5265\n",
      "Epoch 2 took 33.6131 minutes.\n",
      "\n",
      "\n"
     ]
    },
    {
     "name": "stdout",
     "output_type": "stream",
     "text": [
      "EPOCH 3:\n",
      "Checkpoint saved: /dss/dsshome1/07/ra65bex2/srawat/0.1hyperbolic\n",
      "Epoch 3/3, Loss: 1.833061814666306\n",
      "Epoch 3/3, Contrastive Loss: 1.6882873094133042\n",
      "Epoch 3/3, Entailment Loss: 1.4477450480788563\n"
     ]
    },
    {
     "name": "stdout",
     "output_type": "stream",
     "text": [
      "Mean Reciprocal Rank (MRR) for validation set: 0.5333\n",
      "Epoch 3 took 33.6347 minutes.\n",
      "\n",
      "\n"
     ]
    }
   ],
   "source": [
    "for epoch in range(num_epochs):\n",
    "    start_time = time.time()\n",
    "    lora_model.train()\n",
    "\n",
    "    total_loss = 0.0\n",
    "    entailment_loss_total=0.0\n",
    "    contrastive_loss_total=0.0\n",
    "    for batch in data_loader_train:\n",
    "\n",
    "        anchor_texts = batch[0]\n",
    "        positive_texts = batch[1]\n",
    "        negative_texts = batch[2]\n",
    "\n",
    "        anchor_inputs = tokenizer(anchor_texts, return_tensors='pt', padding=True, truncation=True, max_length=512).to(device)\n",
    "        positive_inputs = tokenizer(positive_texts, return_tensors='pt', padding=True, truncation=True, max_length=512).to(device)\n",
    "    \n",
    "        anchor_embedding = expm_o(lora_model(**anchor_inputs).last_hidden_state[:, 0, :])\n",
    "        positive_embedding = expm_o(lora_model(**positive_inputs).last_hidden_state[:, 0, :])\n",
    "        negative_embedding = [expm_o(lora_model(**tokenizer(neg, return_tensors='pt', padding=True, truncation=True, max_length=512).to(device)).last_hidden_state[:, 0, :]) for neg in negative_texts]\n",
    "\n",
    "        contrastive_loss_value = info_nce_loss(anchor_embedding, positive_embedding, negative_embedding, distance_fn=lorentzian_distance)\n",
    "        \n",
    "        entailment_loss_value = entailment_loss(anchor_embedding, positive_embedding)\n",
    "        \n",
    "        loss = contrastive_loss_value + 0.1*entailment_loss_value\n",
    "  \n",
    "        optimizer.zero_grad()\n",
    "        loss.backward()\n",
    "        optimizer.step()\n",
    "        \n",
    "        total_loss += loss.item()\n",
    "        entailment_loss_total+=entailment_loss_value.item()\n",
    "        contrastive_loss_total+=contrastive_loss_value.item()\n",
    "    save_path1 = os.path.join(save_dir, f\"hyperbolic_lora_checkpoint_epoch_{epoch+1}.pth\")\n",
    "    torch.save(lora_model, save_path1)\n",
    "    print(f\"EPOCH {epoch+1}:\")\n",
    "    print(f\"Checkpoint saved: {save_dir}\")\n",
    "    print(f\"Epoch {epoch+1}/{num_epochs}, Loss: {total_loss / len(data_loader_train)}\")\n",
    "    print(f\"Epoch {epoch+1}/{num_epochs}, Contrastive Loss: {contrastive_loss_total / len(data_loader_train)}\")\n",
    "    print(f\"Epoch {epoch+1}/{num_epochs}, Entailment Loss: {entailment_loss_total / len(data_loader_train)}\")\n",
    "    mrr_validation = evaluate_mrr(model1=lora_model, data_loader_val=data_loader_val,distance_fn=lorentzian_distance)\n",
    "    #mrr_train = evaluate_mrr(lora_model, data_loader_train, lorentzian_distance)\n",
    "    #print(f\"Mean Reciprocal Rank (MRR) for training set: {mrr_train:.4f}\")\n",
    "    print(f\"Mean Reciprocal Rank (MRR) for validation set: {mrr_validation:.4f}\")\n",
    "    end_time = time.time()\n",
    "    print(f\"Epoch {epoch+1} took {(end_time - start_time) / 60:.4f} minutes.\")\n",
    "    print(f\"\\n\")\n",
    "    epoch_metrics.append({\n",
    "        'epoch': epoch + 1,\n",
    "        'training_loss': total_loss / len(data_loader_train),\n",
    "        'Contrastive_loss': contrastive_loss_total / len(data_loader_train),\n",
    "        'Entailment_loss': entailment_loss_total / len(data_loader_train),\n",
    "        'mrr_validation': mrr_validation,\n",
    "        'time_taken_minutes': (end_time - start_time) / 60\n",
    "    })"
   ]
  },
  {
   "cell_type": "code",
   "execution_count": 41,
   "id": "d43223ab",
   "metadata": {
    "execution": {
     "iopub.execute_input": "2025-01-27T18:05:00.466694Z",
     "iopub.status.busy": "2025-01-27T18:05:00.466182Z",
     "iopub.status.idle": "2025-01-27T18:05:00.469823Z",
     "shell.execute_reply": "2025-01-27T18:05:00.469461Z"
    },
    "papermill": {
     "duration": 0.010151,
     "end_time": "2025-01-27T18:05:00.470383",
     "exception": false,
     "start_time": "2025-01-27T18:05:00.460232",
     "status": "completed"
    },
    "tags": []
   },
   "outputs": [],
   "source": [
    "import json\n",
    "with open(save_dir + '/hyperbolic_epoch_metrics.json', 'w') as f:\n",
    "    json.dump(epoch_metrics, f)"
   ]
  },
  {
   "cell_type": "code",
   "execution_count": null,
   "id": "cdb87164",
   "metadata": {
    "papermill": {
     "duration": 0.004845,
     "end_time": "2025-01-27T18:05:00.480161",
     "exception": false,
     "start_time": "2025-01-27T18:05:00.475316",
     "status": "completed"
    },
    "tags": []
   },
   "outputs": [],
   "source": []
  }
 ],
 "metadata": {
  "kernelspec": {
   "display_name": "Python 3 (ipykernel)",
   "language": "python",
   "name": "python3"
  },
  "language_info": {
   "codemirror_mode": {
    "name": "ipython",
    "version": 3
   },
   "file_extension": ".py",
   "mimetype": "text/x-python",
   "name": "python",
   "nbconvert_exporter": "python",
   "pygments_lexer": "ipython3",
   "version": "3.10.12"
  },
  "papermill": {
   "default_parameters": {},
   "duration": 6128.394239,
   "end_time": "2025-01-27T18:05:02.601470",
   "environment_variables": {},
   "exception": null,
   "input_path": "0.1hyperbolic.ipynb",
   "output_path": "0.1hyperbolic_output.ipynb",
   "parameters": {},
   "start_time": "2025-01-27T16:22:54.207231",
   "version": "2.6.0"
  }
 },
 "nbformat": 4,
 "nbformat_minor": 5
}
