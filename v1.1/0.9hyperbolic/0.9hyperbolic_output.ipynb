{
 "cells": [
  {
   "cell_type": "code",
   "execution_count": 1,
   "id": "edeeef4b",
   "metadata": {
    "execution": {
     "iopub.execute_input": "2025-01-27T16:23:01.010991Z",
     "iopub.status.busy": "2025-01-27T16:23:01.010677Z",
     "iopub.status.idle": "2025-01-27T16:23:08.658812Z",
     "shell.execute_reply": "2025-01-27T16:23:08.658378Z"
    },
    "papermill": {
     "duration": 7.656044,
     "end_time": "2025-01-27T16:23:08.659749",
     "exception": false,
     "start_time": "2025-01-27T16:23:01.003705",
     "status": "completed"
    },
    "tags": []
   },
   "outputs": [],
   "source": [
    "from datasets import load_dataset"
   ]
  },
  {
   "cell_type": "code",
   "execution_count": 2,
   "id": "33ddb5fa",
   "metadata": {
    "execution": {
     "iopub.execute_input": "2025-01-27T16:23:08.673491Z",
     "iopub.status.busy": "2025-01-27T16:23:08.673223Z",
     "iopub.status.idle": "2025-01-27T16:23:14.001055Z",
     "shell.execute_reply": "2025-01-27T16:23:14.000622Z"
    },
    "papermill": {
     "duration": 5.332702,
     "end_time": "2025-01-27T16:23:14.001937",
     "exception": false,
     "start_time": "2025-01-27T16:23:08.669235",
     "status": "completed"
    },
    "tags": []
   },
   "outputs": [],
   "source": [
    "dataset = load_dataset('ms_marco', 'v1.1')"
   ]
  },
  {
   "cell_type": "code",
   "execution_count": 3,
   "id": "2c3e6d11",
   "metadata": {
    "execution": {
     "iopub.execute_input": "2025-01-27T16:23:14.012214Z",
     "iopub.status.busy": "2025-01-27T16:23:14.011884Z",
     "iopub.status.idle": "2025-01-27T16:23:14.016163Z",
     "shell.execute_reply": "2025-01-27T16:23:14.015799Z"
    },
    "papermill": {
     "duration": 0.008964,
     "end_time": "2025-01-27T16:23:14.016802",
     "exception": false,
     "start_time": "2025-01-27T16:23:14.007838",
     "status": "completed"
    },
    "tags": []
   },
   "outputs": [
    {
     "data": {
      "text/plain": [
       "DatasetDict({\n",
       "    validation: Dataset({\n",
       "        features: ['answers', 'passages', 'query', 'query_id', 'query_type', 'wellFormedAnswers'],\n",
       "        num_rows: 10047\n",
       "    })\n",
       "    train: Dataset({\n",
       "        features: ['answers', 'passages', 'query', 'query_id', 'query_type', 'wellFormedAnswers'],\n",
       "        num_rows: 82326\n",
       "    })\n",
       "    test: Dataset({\n",
       "        features: ['answers', 'passages', 'query', 'query_id', 'query_type', 'wellFormedAnswers'],\n",
       "        num_rows: 9650\n",
       "    })\n",
       "})"
      ]
     },
     "execution_count": 3,
     "metadata": {},
     "output_type": "execute_result"
    }
   ],
   "source": [
    "dataset"
   ]
  },
  {
   "cell_type": "code",
   "execution_count": 4,
   "id": "c0f9264c",
   "metadata": {
    "execution": {
     "iopub.execute_input": "2025-01-27T16:23:14.025480Z",
     "iopub.status.busy": "2025-01-27T16:23:14.025160Z",
     "iopub.status.idle": "2025-01-27T16:23:16.776277Z",
     "shell.execute_reply": "2025-01-27T16:23:16.775873Z"
    },
    "papermill": {
     "duration": 2.756005,
     "end_time": "2025-01-27T16:23:16.777122",
     "exception": false,
     "start_time": "2025-01-27T16:23:14.021117",
     "status": "completed"
    },
    "tags": []
   },
   "outputs": [],
   "source": [
    "dataset_train = load_dataset('ms_marco', 'v1.1', split='train')"
   ]
  },
  {
   "cell_type": "code",
   "execution_count": 5,
   "id": "d5ff31b4",
   "metadata": {
    "execution": {
     "iopub.execute_input": "2025-01-27T16:23:16.785635Z",
     "iopub.status.busy": "2025-01-27T16:23:16.785385Z",
     "iopub.status.idle": "2025-01-27T16:23:16.788222Z",
     "shell.execute_reply": "2025-01-27T16:23:16.787878Z"
    },
    "papermill": {
     "duration": 0.007582,
     "end_time": "2025-01-27T16:23:16.788858",
     "exception": false,
     "start_time": "2025-01-27T16:23:16.781276",
     "status": "completed"
    },
    "tags": []
   },
   "outputs": [
    {
     "data": {
      "text/plain": [
       "Dataset({\n",
       "    features: ['answers', 'passages', 'query', 'query_id', 'query_type', 'wellFormedAnswers'],\n",
       "    num_rows: 82326\n",
       "})"
      ]
     },
     "execution_count": 5,
     "metadata": {},
     "output_type": "execute_result"
    }
   ],
   "source": [
    "dataset_train"
   ]
  },
  {
   "cell_type": "code",
   "execution_count": 6,
   "id": "f5999cc1",
   "metadata": {
    "execution": {
     "iopub.execute_input": "2025-01-27T16:23:16.797263Z",
     "iopub.status.busy": "2025-01-27T16:23:16.796885Z",
     "iopub.status.idle": "2025-01-27T16:23:16.800396Z",
     "shell.execute_reply": "2025-01-27T16:23:16.800081Z"
    },
    "papermill": {
     "duration": 0.008241,
     "end_time": "2025-01-27T16:23:16.800943",
     "exception": false,
     "start_time": "2025-01-27T16:23:16.792702",
     "status": "completed"
    },
    "tags": []
   },
   "outputs": [],
   "source": [
    "def preprocess(example):\n",
    "    positive_passages=[]\n",
    "    for p in enumerate(example['passages'][\"is_selected\"]):\n",
    "        if p[1]==1:\n",
    "            positive_passages.append(example[\"passages\"][\"passage_text\"][p[0]])\n",
    "    negative_passages = []\n",
    "    for p in enumerate(example['passages'][\"is_selected\"]):\n",
    "        if p[1]==0:\n",
    "            negative_passages.append(example[\"passages\"][\"passage_text\"][p[0]])\n",
    "    if (len(positive_passages)>0 and len(negative_passages)>=5):\n",
    "        positive = positive_passages[0]\n",
    "        negatives = negative_passages[:5]\n",
    "        return {\n",
    "            \"query\": example[\"query\"],\n",
    "            \"positive\": positive,\n",
    "            \"negatives\": negatives\n",
    "        }\n",
    "    else:\n",
    "        return {\"query\": None, \"positive\": None, \"negatives\": None}"
   ]
  },
  {
   "cell_type": "code",
   "execution_count": 7,
   "id": "e4a78048",
   "metadata": {
    "execution": {
     "iopub.execute_input": "2025-01-27T16:23:16.809039Z",
     "iopub.status.busy": "2025-01-27T16:23:16.808909Z",
     "iopub.status.idle": "2025-01-27T16:23:17.217320Z",
     "shell.execute_reply": "2025-01-27T16:23:17.216952Z"
    },
    "papermill": {
     "duration": 0.41345,
     "end_time": "2025-01-27T16:23:17.218165",
     "exception": false,
     "start_time": "2025-01-27T16:23:16.804715",
     "status": "completed"
    },
    "tags": []
   },
   "outputs": [],
   "source": [
    "processed_data_train = dataset_train.map(preprocess, remove_columns=dataset_train.column_names)"
   ]
  },
  {
   "cell_type": "code",
   "execution_count": 8,
   "id": "6e8cdc5e",
   "metadata": {
    "execution": {
     "iopub.execute_input": "2025-01-27T16:23:17.226527Z",
     "iopub.status.busy": "2025-01-27T16:23:17.226390Z",
     "iopub.status.idle": "2025-01-27T16:23:17.254137Z",
     "shell.execute_reply": "2025-01-27T16:23:17.253840Z"
    },
    "papermill": {
     "duration": 0.032308,
     "end_time": "2025-01-27T16:23:17.254689",
     "exception": false,
     "start_time": "2025-01-27T16:23:17.222381",
     "status": "completed"
    },
    "tags": []
   },
   "outputs": [],
   "source": [
    "processed_data_train = processed_data_train.filter(lambda x: x['query'] is not None and x['positive'] is not None)"
   ]
  },
  {
   "cell_type": "code",
   "execution_count": 9,
   "id": "f2d63b7b",
   "metadata": {
    "execution": {
     "iopub.execute_input": "2025-01-27T16:23:17.262810Z",
     "iopub.status.busy": "2025-01-27T16:23:17.262551Z",
     "iopub.status.idle": "2025-01-27T16:23:23.230010Z",
     "shell.execute_reply": "2025-01-27T16:23:23.229415Z"
    },
    "papermill": {
     "duration": 5.972515,
     "end_time": "2025-01-27T16:23:23.231045",
     "exception": false,
     "start_time": "2025-01-27T16:23:17.258530",
     "status": "completed"
    },
    "tags": []
   },
   "outputs": [],
   "source": [
    "contrastive_pairs_train = []\n",
    "for item in processed_data_train:\n",
    "    query = item[\"query\"]\n",
    "    positive = item[\"positive\"]\n",
    "    negatives = item[\"negatives\"]\n",
    "    contrastive_pairs_train.append({\n",
    "        \"anchor\": query,\n",
    "        \"positive\": positive,\n",
    "        \"negatives\": negatives\n",
    "    })"
   ]
  },
  {
   "cell_type": "code",
   "execution_count": 10,
   "id": "9ad7cf9f",
   "metadata": {
    "execution": {
     "iopub.execute_input": "2025-01-27T16:23:23.245517Z",
     "iopub.status.busy": "2025-01-27T16:23:23.245356Z",
     "iopub.status.idle": "2025-01-27T16:23:23.248620Z",
     "shell.execute_reply": "2025-01-27T16:23:23.248309Z"
    },
    "papermill": {
     "duration": 0.008026,
     "end_time": "2025-01-27T16:23:23.249136",
     "exception": false,
     "start_time": "2025-01-27T16:23:23.241110",
     "status": "completed"
    },
    "tags": []
   },
   "outputs": [
    {
     "data": {
      "text/plain": [
       "74538"
      ]
     },
     "execution_count": 10,
     "metadata": {},
     "output_type": "execute_result"
    }
   ],
   "source": [
    "len(contrastive_pairs_train)"
   ]
  },
  {
   "cell_type": "code",
   "execution_count": 11,
   "id": "f6babaa3",
   "metadata": {
    "execution": {
     "iopub.execute_input": "2025-01-27T16:23:23.257478Z",
     "iopub.status.busy": "2025-01-27T16:23:23.257218Z",
     "iopub.status.idle": "2025-01-27T16:23:35.728709Z",
     "shell.execute_reply": "2025-01-27T16:23:35.728050Z"
    },
    "papermill": {
     "duration": 12.476548,
     "end_time": "2025-01-27T16:23:35.729612",
     "exception": false,
     "start_time": "2025-01-27T16:23:23.253064",
     "status": "completed"
    },
    "tags": []
   },
   "outputs": [],
   "source": [
    "from torch.utils.data import DataLoader"
   ]
  },
  {
   "cell_type": "code",
   "execution_count": 12,
   "id": "53610bf0",
   "metadata": {
    "execution": {
     "iopub.execute_input": "2025-01-27T16:23:35.744309Z",
     "iopub.status.busy": "2025-01-27T16:23:35.743900Z",
     "iopub.status.idle": "2025-01-27T16:23:35.747042Z",
     "shell.execute_reply": "2025-01-27T16:23:35.746697Z"
    },
    "papermill": {
     "duration": 0.00818,
     "end_time": "2025-01-27T16:23:35.747591",
     "exception": false,
     "start_time": "2025-01-27T16:23:35.739411",
     "status": "completed"
    },
    "tags": []
   },
   "outputs": [],
   "source": [
    "class ContrastiveDataset:\n",
    "    def __init__(self, pairs):\n",
    "        self.pairs = pairs\n",
    "\n",
    "    def __len__(self):\n",
    "        return len(self.pairs)\n",
    "\n",
    "    def __getitem__(self, idx):\n",
    "        item = self.pairs[idx]\n",
    "        return item[\"anchor\"], item[\"positive\"], item[\"negatives\"]"
   ]
  },
  {
   "cell_type": "code",
   "execution_count": 13,
   "id": "b94cc6f6",
   "metadata": {
    "execution": {
     "iopub.execute_input": "2025-01-27T16:23:35.756060Z",
     "iopub.status.busy": "2025-01-27T16:23:35.755803Z",
     "iopub.status.idle": "2025-01-27T16:23:35.757859Z",
     "shell.execute_reply": "2025-01-27T16:23:35.757523Z"
    },
    "papermill": {
     "duration": 0.006812,
     "end_time": "2025-01-27T16:23:35.758395",
     "exception": false,
     "start_time": "2025-01-27T16:23:35.751583",
     "status": "completed"
    },
    "tags": []
   },
   "outputs": [],
   "source": [
    "contrastive_dataset_train = ContrastiveDataset(contrastive_pairs_train)"
   ]
  },
  {
   "cell_type": "code",
   "execution_count": 14,
   "id": "a352ef71",
   "metadata": {
    "execution": {
     "iopub.execute_input": "2025-01-27T16:23:35.766953Z",
     "iopub.status.busy": "2025-01-27T16:23:35.766630Z",
     "iopub.status.idle": "2025-01-27T16:23:35.768986Z",
     "shell.execute_reply": "2025-01-27T16:23:35.768646Z"
    },
    "papermill": {
     "duration": 0.007145,
     "end_time": "2025-01-27T16:23:35.769549",
     "exception": false,
     "start_time": "2025-01-27T16:23:35.762404",
     "status": "completed"
    },
    "tags": []
   },
   "outputs": [],
   "source": [
    "data_loader_train = DataLoader(contrastive_dataset_train, batch_size=32, shuffle=True)"
   ]
  },
  {
   "cell_type": "code",
   "execution_count": 15,
   "id": "24ef1efc",
   "metadata": {
    "execution": {
     "iopub.execute_input": "2025-01-27T16:23:35.777959Z",
     "iopub.status.busy": "2025-01-27T16:23:35.777832Z",
     "iopub.status.idle": "2025-01-27T16:23:35.780622Z",
     "shell.execute_reply": "2025-01-27T16:23:35.780275Z"
    },
    "papermill": {
     "duration": 0.007644,
     "end_time": "2025-01-27T16:23:35.781199",
     "exception": false,
     "start_time": "2025-01-27T16:23:35.773555",
     "status": "completed"
    },
    "tags": []
   },
   "outputs": [
    {
     "data": {
      "text/plain": [
       "2330"
      ]
     },
     "execution_count": 15,
     "metadata": {},
     "output_type": "execute_result"
    }
   ],
   "source": [
    "len(data_loader_train)"
   ]
  },
  {
   "cell_type": "code",
   "execution_count": 16,
   "id": "42dfac6d",
   "metadata": {
    "execution": {
     "iopub.execute_input": "2025-01-27T16:23:35.789787Z",
     "iopub.status.busy": "2025-01-27T16:23:35.789660Z",
     "iopub.status.idle": "2025-01-27T16:23:48.952749Z",
     "shell.execute_reply": "2025-01-27T16:23:48.952194Z"
    },
    "papermill": {
     "duration": 13.168317,
     "end_time": "2025-01-27T16:23:48.953638",
     "exception": false,
     "start_time": "2025-01-27T16:23:35.785321",
     "status": "completed"
    },
    "tags": []
   },
   "outputs": [],
   "source": [
    "from transformers import AutoTokenizer, AutoModel\n",
    "tokenizer = AutoTokenizer.from_pretrained(\"bert-base-uncased\")"
   ]
  },
  {
   "cell_type": "code",
   "execution_count": 17,
   "id": "2dc918f3",
   "metadata": {
    "execution": {
     "iopub.execute_input": "2025-01-27T16:23:48.968236Z",
     "iopub.status.busy": "2025-01-27T16:23:48.967990Z",
     "iopub.status.idle": "2025-01-27T16:23:56.531957Z",
     "shell.execute_reply": "2025-01-27T16:23:56.531519Z"
    },
    "papermill": {
     "duration": 7.56919,
     "end_time": "2025-01-27T16:23:56.532666",
     "exception": false,
     "start_time": "2025-01-27T16:23:48.963476",
     "status": "completed"
    },
    "tags": []
   },
   "outputs": [],
   "source": [
    "model = AutoModel.from_pretrained(\"bert-base-uncased\")"
   ]
  },
  {
   "cell_type": "code",
   "execution_count": 18,
   "id": "e6c5893a",
   "metadata": {
    "execution": {
     "iopub.execute_input": "2025-01-27T16:23:56.546865Z",
     "iopub.status.busy": "2025-01-27T16:23:56.546724Z",
     "iopub.status.idle": "2025-01-27T16:23:57.107825Z",
     "shell.execute_reply": "2025-01-27T16:23:57.107397Z"
    },
    "papermill": {
     "duration": 0.56622,
     "end_time": "2025-01-27T16:23:57.108542",
     "exception": false,
     "start_time": "2025-01-27T16:23:56.542322",
     "status": "completed"
    },
    "tags": []
   },
   "outputs": [],
   "source": [
    "from peft import LoraConfig, get_peft_model"
   ]
  },
  {
   "cell_type": "code",
   "execution_count": 19,
   "id": "151839c3",
   "metadata": {
    "execution": {
     "iopub.execute_input": "2025-01-27T16:23:57.117474Z",
     "iopub.status.busy": "2025-01-27T16:23:57.117333Z",
     "iopub.status.idle": "2025-01-27T16:23:57.119436Z",
     "shell.execute_reply": "2025-01-27T16:23:57.119095Z"
    },
    "papermill": {
     "duration": 0.007074,
     "end_time": "2025-01-27T16:23:57.119967",
     "exception": false,
     "start_time": "2025-01-27T16:23:57.112893",
     "status": "completed"
    },
    "tags": []
   },
   "outputs": [],
   "source": [
    "lora_config = LoraConfig(\n",
    "    task_type= \"FEATURE_EXTRACTION\"\n",
    ")"
   ]
  },
  {
   "cell_type": "code",
   "execution_count": 20,
   "id": "a84dd91f",
   "metadata": {
    "execution": {
     "iopub.execute_input": "2025-01-27T16:23:57.128647Z",
     "iopub.status.busy": "2025-01-27T16:23:57.128518Z",
     "iopub.status.idle": "2025-01-27T16:23:57.413947Z",
     "shell.execute_reply": "2025-01-27T16:23:57.413493Z"
    },
    "papermill": {
     "duration": 0.290475,
     "end_time": "2025-01-27T16:23:57.414582",
     "exception": false,
     "start_time": "2025-01-27T16:23:57.124107",
     "status": "completed"
    },
    "tags": []
   },
   "outputs": [],
   "source": [
    "lora_model = get_peft_model(model, lora_config)"
   ]
  },
  {
   "cell_type": "code",
   "execution_count": 21,
   "id": "a6296cd4",
   "metadata": {
    "execution": {
     "iopub.execute_input": "2025-01-27T16:23:57.423639Z",
     "iopub.status.busy": "2025-01-27T16:23:57.423266Z",
     "iopub.status.idle": "2025-01-27T16:23:57.425391Z",
     "shell.execute_reply": "2025-01-27T16:23:57.425048Z"
    },
    "papermill": {
     "duration": 0.007159,
     "end_time": "2025-01-27T16:23:57.425959",
     "exception": false,
     "start_time": "2025-01-27T16:23:57.418800",
     "status": "completed"
    },
    "tags": []
   },
   "outputs": [],
   "source": [
    "import torch"
   ]
  },
  {
   "cell_type": "code",
   "execution_count": 22,
   "id": "cee8d3e7",
   "metadata": {
    "execution": {
     "iopub.execute_input": "2025-01-27T16:23:57.434639Z",
     "iopub.status.busy": "2025-01-27T16:23:57.434513Z",
     "iopub.status.idle": "2025-01-27T16:23:57.436959Z",
     "shell.execute_reply": "2025-01-27T16:23:57.436617Z"
    },
    "papermill": {
     "duration": 0.007367,
     "end_time": "2025-01-27T16:23:57.437488",
     "exception": false,
     "start_time": "2025-01-27T16:23:57.430121",
     "status": "completed"
    },
    "tags": []
   },
   "outputs": [],
   "source": [
    "def lorentzian_distance(x, y):\n",
    "    \n",
    "    dot_product = torch.sum(x * y, dim=-1)\n",
    "    norm_x = torch.norm(x, dim=-1)\n",
    "    norm_y = torch.norm(y, dim=-1)\n",
    "    \n",
    "    distance = torch.acosh(-dot_product + torch.sqrt((1 + norm_x**2) * (1 + norm_y**2)))\n",
    "    return distance"
   ]
  },
  {
   "cell_type": "code",
   "execution_count": 23,
   "id": "09ab7e60",
   "metadata": {
    "execution": {
     "iopub.execute_input": "2025-01-27T16:23:57.446524Z",
     "iopub.status.busy": "2025-01-27T16:23:57.446148Z",
     "iopub.status.idle": "2025-01-27T16:23:57.449180Z",
     "shell.execute_reply": "2025-01-27T16:23:57.448840Z"
    },
    "papermill": {
     "duration": 0.008109,
     "end_time": "2025-01-27T16:23:57.449759",
     "exception": false,
     "start_time": "2025-01-27T16:23:57.441650",
     "status": "completed"
    },
    "tags": []
   },
   "outputs": [],
   "source": [
    "def info_nce_loss(anchor_embedding, positive_embedding, negative_embedding, distance_fn):\n",
    "\n",
    "    pos_dist = distance_fn(anchor_embedding, positive_embedding)\n",
    "    neg_dist = torch.stack([distance_fn(anchor_embedding, neg) for neg in negative_embedding], dim=-1)\n",
    "    \n",
    "    logits = torch.cat([-pos_dist.unsqueeze(1), -neg_dist], dim=1)\n",
    "    labels = torch.zeros(logits.size(0), dtype=torch.long, device=logits.device)\n",
    "\n",
    "    loss = torch.nn.CrossEntropyLoss()(logits, labels)\n",
    "    return loss"
   ]
  },
  {
   "cell_type": "code",
   "execution_count": 24,
   "id": "431187f3",
   "metadata": {
    "execution": {
     "iopub.execute_input": "2025-01-27T16:23:57.459072Z",
     "iopub.status.busy": "2025-01-27T16:23:57.458681Z",
     "iopub.status.idle": "2025-01-27T16:23:57.461596Z",
     "shell.execute_reply": "2025-01-27T16:23:57.461259Z"
    },
    "papermill": {
     "duration": 0.008192,
     "end_time": "2025-01-27T16:23:57.462194",
     "exception": false,
     "start_time": "2025-01-27T16:23:57.454002",
     "status": "completed"
    },
    "tags": []
   },
   "outputs": [],
   "source": [
    "def exterior_angle(x_space, y_space, c):\n",
    "    norm_x_space = torch.norm(x_space, p=2, dim=-1)\n",
    "    norm_y_space = torch.norm(y_space, p=2, dim=-1)\n",
    "    x_time = torch.sqrt(1/c + norm_x_space**2)\n",
    "    y_time = torch.sqrt(1/c + norm_y_space**2)\n",
    "    dot_product = torch.sum(x_space * y_space, dim=-1)\n",
    "    lorentz_inner_product =  dot_product - x_time * y_time\n",
    "    numerator = y_time + x_time * c * lorentz_inner_product\n",
    "    denominator = norm_x_space * torch.sqrt((c * lorentz_inner_product)**2 - 1)\n",
    "    ext_angle = torch.acos(numerator / denominator)\n",
    "    return ext_angle"
   ]
  },
  {
   "cell_type": "code",
   "execution_count": 25,
   "id": "1bcfee11",
   "metadata": {
    "execution": {
     "iopub.execute_input": "2025-01-27T16:23:57.471403Z",
     "iopub.status.busy": "2025-01-27T16:23:57.471014Z",
     "iopub.status.idle": "2025-01-27T16:23:57.474051Z",
     "shell.execute_reply": "2025-01-27T16:23:57.473713Z"
    },
    "papermill": {
     "duration": 0.008117,
     "end_time": "2025-01-27T16:23:57.474592",
     "exception": false,
     "start_time": "2025-01-27T16:23:57.466475",
     "status": "completed"
    },
    "tags": []
   },
   "outputs": [],
   "source": [
    "def entailment_loss(x, y, c=1, K=0.1):\n",
    "    c = torch.tensor(c)\n",
    "    K = torch.tensor(K)\n",
    "    xspace = x\n",
    "    yspace = y\n",
    "    aperture = torch.asin(2 * K / (torch.sqrt(c) * torch.norm(xspace, p=2, dim=-1)))\n",
    "    \n",
    "    ext_angle = exterior_angle(xspace,yspace,c=c)\n",
    "    \n",
    "    loss = torch.max(torch.zeros_like(ext_angle), ext_angle - aperture)\n",
    "    return loss.mean()"
   ]
  },
  {
   "cell_type": "code",
   "execution_count": 26,
   "id": "ba01cd79",
   "metadata": {
    "execution": {
     "iopub.execute_input": "2025-01-27T16:23:57.483613Z",
     "iopub.status.busy": "2025-01-27T16:23:57.483406Z",
     "iopub.status.idle": "2025-01-27T16:23:57.486030Z",
     "shell.execute_reply": "2025-01-27T16:23:57.485693Z"
    },
    "papermill": {
     "duration": 0.007724,
     "end_time": "2025-01-27T16:23:57.486587",
     "exception": false,
     "start_time": "2025-01-27T16:23:57.478863",
     "status": "completed"
    },
    "tags": []
   },
   "outputs": [],
   "source": [
    "def expm_o(v, c=1.0):\n",
    "    c = torch.tensor(c)\n",
    "    vspace = v\n",
    "    vnorm = torch.norm(v, p=2, dim=-1, keepdim=True)\n",
    "    xspace = torch.sinh(torch.sqrt(c) * vnorm) * vspace / (torch.sqrt(c) * vnorm)\n",
    "    batch_min = xspace.min(dim=1, keepdim=True).values\n",
    "    batch_max = xspace.max(dim=1, keepdim=True).values\n",
    "    xspace_scaled=(xspace - batch_min) / (batch_max - batch_min)\n",
    "    return xspace_scaled"
   ]
  },
  {
   "cell_type": "code",
   "execution_count": 27,
   "id": "297f6ded",
   "metadata": {
    "execution": {
     "iopub.execute_input": "2025-01-27T16:23:57.495650Z",
     "iopub.status.busy": "2025-01-27T16:23:57.495524Z",
     "iopub.status.idle": "2025-01-27T16:23:57.498398Z",
     "shell.execute_reply": "2025-01-27T16:23:57.498062Z"
    },
    "papermill": {
     "duration": 0.008045,
     "end_time": "2025-01-27T16:23:57.498983",
     "exception": false,
     "start_time": "2025-01-27T16:23:57.490938",
     "status": "completed"
    },
    "tags": []
   },
   "outputs": [],
   "source": [
    "optimizer = torch.optim.AdamW(lora_model.parameters(), lr=5e-5)"
   ]
  },
  {
   "cell_type": "code",
   "execution_count": 28,
   "id": "694a58db",
   "metadata": {
    "execution": {
     "iopub.execute_input": "2025-01-27T16:23:57.508239Z",
     "iopub.status.busy": "2025-01-27T16:23:57.507924Z",
     "iopub.status.idle": "2025-01-27T16:23:57.509862Z",
     "shell.execute_reply": "2025-01-27T16:23:57.509521Z"
    },
    "papermill": {
     "duration": 0.007155,
     "end_time": "2025-01-27T16:23:57.510492",
     "exception": false,
     "start_time": "2025-01-27T16:23:57.503337",
     "status": "completed"
    },
    "tags": []
   },
   "outputs": [],
   "source": [
    "num_epochs=3"
   ]
  },
  {
   "cell_type": "code",
   "execution_count": 29,
   "id": "a7220a65",
   "metadata": {
    "execution": {
     "iopub.execute_input": "2025-01-27T16:23:57.519511Z",
     "iopub.status.busy": "2025-01-27T16:23:57.519382Z",
     "iopub.status.idle": "2025-01-27T16:23:58.136710Z",
     "shell.execute_reply": "2025-01-27T16:23:58.136324Z"
    },
    "papermill": {
     "duration": 0.622455,
     "end_time": "2025-01-27T16:23:58.137278",
     "exception": false,
     "start_time": "2025-01-27T16:23:57.514823",
     "status": "completed"
    },
    "tags": []
   },
   "outputs": [],
   "source": [
    "device = torch.device('cuda' if torch.cuda.is_available() else 'cpu')"
   ]
  },
  {
   "cell_type": "code",
   "execution_count": 30,
   "id": "7d37a056",
   "metadata": {
    "execution": {
     "iopub.execute_input": "2025-01-27T16:23:58.147562Z",
     "iopub.status.busy": "2025-01-27T16:23:58.147427Z",
     "iopub.status.idle": "2025-01-27T16:23:58.150019Z",
     "shell.execute_reply": "2025-01-27T16:23:58.149743Z"
    },
    "papermill": {
     "duration": 0.008653,
     "end_time": "2025-01-27T16:23:58.150570",
     "exception": false,
     "start_time": "2025-01-27T16:23:58.141917",
     "status": "completed"
    },
    "tags": []
   },
   "outputs": [
    {
     "data": {
      "text/plain": [
       "device(type='cuda')"
      ]
     },
     "execution_count": 30,
     "metadata": {},
     "output_type": "execute_result"
    }
   ],
   "source": [
    "device"
   ]
  },
  {
   "cell_type": "code",
   "execution_count": 31,
   "id": "651b2097",
   "metadata": {
    "execution": {
     "iopub.execute_input": "2025-01-27T16:23:58.160338Z",
     "iopub.status.busy": "2025-01-27T16:23:58.159942Z",
     "iopub.status.idle": "2025-01-27T16:24:00.416137Z",
     "shell.execute_reply": "2025-01-27T16:24:00.415673Z"
    },
    "papermill": {
     "duration": 2.261809,
     "end_time": "2025-01-27T16:24:00.416878",
     "exception": false,
     "start_time": "2025-01-27T16:23:58.155069",
     "status": "completed"
    },
    "tags": []
   },
   "outputs": [],
   "source": [
    "lora_model = lora_model.to(device)"
   ]
  },
  {
   "cell_type": "code",
   "execution_count": 32,
   "id": "a1985cb4",
   "metadata": {
    "execution": {
     "iopub.execute_input": "2025-01-27T16:24:00.432059Z",
     "iopub.status.busy": "2025-01-27T16:24:00.431854Z",
     "iopub.status.idle": "2025-01-27T16:24:04.012981Z",
     "shell.execute_reply": "2025-01-27T16:24:04.012636Z"
    },
    "papermill": {
     "duration": 3.587549,
     "end_time": "2025-01-27T16:24:04.014496",
     "exception": false,
     "start_time": "2025-01-27T16:24:00.426947",
     "status": "completed"
    },
    "tags": []
   },
   "outputs": [],
   "source": [
    "dataset_val = load_dataset('ms_marco', 'v1.1', split='validation')"
   ]
  },
  {
   "cell_type": "code",
   "execution_count": 33,
   "id": "42399633",
   "metadata": {
    "execution": {
     "iopub.execute_input": "2025-01-27T16:24:04.025920Z",
     "iopub.status.busy": "2025-01-27T16:24:04.025006Z",
     "iopub.status.idle": "2025-01-27T16:24:04.257743Z",
     "shell.execute_reply": "2025-01-27T16:24:04.257389Z"
    },
    "papermill": {
     "duration": 0.238724,
     "end_time": "2025-01-27T16:24:04.258304",
     "exception": false,
     "start_time": "2025-01-27T16:24:04.019580",
     "status": "completed"
    },
    "tags": []
   },
   "outputs": [],
   "source": [
    "processed_data_val = dataset_val.map(preprocess, remove_columns=dataset_val.column_names)"
   ]
  },
  {
   "cell_type": "code",
   "execution_count": 34,
   "id": "44ed692e",
   "metadata": {
    "execution": {
     "iopub.execute_input": "2025-01-27T16:24:04.269839Z",
     "iopub.status.busy": "2025-01-27T16:24:04.269707Z",
     "iopub.status.idle": "2025-01-27T16:24:04.301582Z",
     "shell.execute_reply": "2025-01-27T16:24:04.301287Z"
    },
    "papermill": {
     "duration": 0.037229,
     "end_time": "2025-01-27T16:24:04.302144",
     "exception": false,
     "start_time": "2025-01-27T16:24:04.264915",
     "status": "completed"
    },
    "tags": []
   },
   "outputs": [],
   "source": [
    "processed_data_val = processed_data_val.filter(lambda x: x['query'] is not None and x['positive'] is not None)"
   ]
  },
  {
   "cell_type": "code",
   "execution_count": 35,
   "id": "32a49d5c",
   "metadata": {
    "execution": {
     "iopub.execute_input": "2025-01-27T16:24:04.311923Z",
     "iopub.status.busy": "2025-01-27T16:24:04.311560Z",
     "iopub.status.idle": "2025-01-27T16:24:05.007226Z",
     "shell.execute_reply": "2025-01-27T16:24:05.006829Z"
    },
    "papermill": {
     "duration": 0.701233,
     "end_time": "2025-01-27T16:24:05.007880",
     "exception": false,
     "start_time": "2025-01-27T16:24:04.306647",
     "status": "completed"
    },
    "tags": []
   },
   "outputs": [],
   "source": [
    "contrastive_pairs_val = []\n",
    "for item in processed_data_val:\n",
    "    query = item[\"query\"]\n",
    "    positive = item[\"positive\"]\n",
    "    negatives = item[\"negatives\"]\n",
    "    contrastive_pairs_val.append({\n",
    "        \"anchor\": query,\n",
    "        \"positive\": positive,\n",
    "        \"negatives\": negatives\n",
    "    })"
   ]
  },
  {
   "cell_type": "code",
   "execution_count": 36,
   "id": "3b2f5ec5",
   "metadata": {
    "execution": {
     "iopub.execute_input": "2025-01-27T16:24:05.017794Z",
     "iopub.status.busy": "2025-01-27T16:24:05.017661Z",
     "iopub.status.idle": "2025-01-27T16:24:05.019781Z",
     "shell.execute_reply": "2025-01-27T16:24:05.019489Z"
    },
    "papermill": {
     "duration": 0.007481,
     "end_time": "2025-01-27T16:24:05.020317",
     "exception": false,
     "start_time": "2025-01-27T16:24:05.012836",
     "status": "completed"
    },
    "tags": []
   },
   "outputs": [],
   "source": [
    "contrastive_dataset_val = ContrastiveDataset(contrastive_pairs_val)"
   ]
  },
  {
   "cell_type": "code",
   "execution_count": 37,
   "id": "9036e428",
   "metadata": {
    "execution": {
     "iopub.execute_input": "2025-01-27T16:24:05.029889Z",
     "iopub.status.busy": "2025-01-27T16:24:05.029640Z",
     "iopub.status.idle": "2025-01-27T16:24:05.031859Z",
     "shell.execute_reply": "2025-01-27T16:24:05.031570Z"
    },
    "papermill": {
     "duration": 0.007477,
     "end_time": "2025-01-27T16:24:05.032388",
     "exception": false,
     "start_time": "2025-01-27T16:24:05.024911",
     "status": "completed"
    },
    "tags": []
   },
   "outputs": [],
   "source": [
    "data_loader_val = DataLoader(contrastive_dataset_val, batch_size=32, shuffle=True)"
   ]
  },
  {
   "cell_type": "code",
   "execution_count": 38,
   "id": "0e039ce2",
   "metadata": {
    "execution": {
     "iopub.execute_input": "2025-01-27T16:24:05.042893Z",
     "iopub.status.busy": "2025-01-27T16:24:05.042770Z",
     "iopub.status.idle": "2025-01-27T16:24:05.047254Z",
     "shell.execute_reply": "2025-01-27T16:24:05.046953Z"
    },
    "papermill": {
     "duration": 0.009837,
     "end_time": "2025-01-27T16:24:05.047802",
     "exception": false,
     "start_time": "2025-01-27T16:24:05.037965",
     "status": "completed"
    },
    "tags": []
   },
   "outputs": [],
   "source": [
    "def evaluate_mrr(model1, data_loader_val, distance_fn):\n",
    "    model1.eval()\n",
    "    \n",
    "    total_rr = 0.0\n",
    "    num_queries = 0\n",
    "\n",
    "    with torch.no_grad():\n",
    "        for batch in data_loader_val:\n",
    "            anchor_text = batch[0]\n",
    "            positive_text = batch[1]\n",
    "            negative_texts = batch[2]\n",
    "\n",
    "            anchor_input = tokenizer(anchor_text, return_tensors='pt', padding=True, truncation=True, max_length=512).to(device)\n",
    "            positive_input = tokenizer(positive_text, return_tensors='pt', padding=True, truncation=True, max_length=512).to(device)\n",
    "\n",
    "            anchor_embedding = expm_o(model1(**anchor_input).last_hidden_state[:, 0, :])\n",
    "            positive_embedding = expm_o(model1(**positive_input).last_hidden_state[:, 0, :])\n",
    "            negative_embedding = [expm_o(model1(**tokenizer(neg, return_tensors='pt', padding=True, truncation=True, max_length=512).to(device)).last_hidden_state[:, 0, :]) for neg in negative_texts]\n",
    "\n",
    "            pos_dist = distance_fn(anchor_embedding, positive_embedding)\n",
    "            neg_dist = torch.stack([distance_fn(anchor_embedding, neg) for neg in negative_embedding], dim=-1)\n",
    "            all_similarities=torch.cat([-pos_dist.unsqueeze(1), -neg_dist], dim=1)\n",
    "\n",
    "            sorted_similarities, sorted_indices = torch.sort(all_similarities, dim=1, descending=True)\n",
    "\n",
    "            # Find the rank of the first relevant (positive) document\n",
    "            positive_rank = (sorted_indices == 0).nonzero(as_tuple=True)[1] + 1  # +1 to make rank 1-based\n",
    "            total_rr += torch.sum(1.0 / positive_rank.float()).item()  # Reciprocal rank\n",
    "            num_queries += len(positive_rank)\n",
    "            \n",
    "    mrr = total_rr / num_queries\n",
    "    return mrr"
   ]
  },
  {
   "cell_type": "code",
   "execution_count": 39,
   "id": "e7d8de0e",
   "metadata": {
    "execution": {
     "iopub.execute_input": "2025-01-27T16:24:05.057421Z",
     "iopub.status.busy": "2025-01-27T16:24:05.057298Z",
     "iopub.status.idle": "2025-01-27T16:24:05.059237Z",
     "shell.execute_reply": "2025-01-27T16:24:05.058947Z"
    },
    "papermill": {
     "duration": 0.007419,
     "end_time": "2025-01-27T16:24:05.059777",
     "exception": false,
     "start_time": "2025-01-27T16:24:05.052358",
     "status": "completed"
    },
    "tags": []
   },
   "outputs": [],
   "source": [
    "import os\n",
    "save_dir =\"/dss/dsshome1/07/ra65bex2/srawat/0.9hyperbolic\"\n",
    "import time\n",
    "epoch_metrics = []"
   ]
  },
  {
   "cell_type": "code",
   "execution_count": 40,
   "id": "c5167b6f",
   "metadata": {
    "execution": {
     "iopub.execute_input": "2025-01-27T16:24:05.069525Z",
     "iopub.status.busy": "2025-01-27T16:24:05.069405Z",
     "iopub.status.idle": "2025-01-27T18:05:30.706769Z",
     "shell.execute_reply": "2025-01-27T18:05:30.705365Z"
    },
    "papermill": {
     "duration": 6085.648609,
     "end_time": "2025-01-27T18:05:30.713056",
     "exception": false,
     "start_time": "2025-01-27T16:24:05.064447",
     "status": "completed"
    },
    "tags": []
   },
   "outputs": [
    {
     "name": "stdout",
     "output_type": "stream",
     "text": [
      "EPOCH 1:\n",
      "Checkpoint saved: /dss/dsshome1/07/ra65bex2/srawat/0.9hyperbolic\n",
      "Epoch 1/3, Loss: 3.0125874888743454\n",
      "Epoch 1/3, Contrastive Loss: 1.7969423461881318\n",
      "Epoch 1/3, Entailment Loss: 1.350716860202249\n"
     ]
    },
    {
     "name": "stdout",
     "output_type": "stream",
     "text": [
      "Mean Reciprocal Rank (MRR) for validation set: 0.4648\n",
      "Epoch 1 took 33.8362 minutes.\n",
      "\n",
      "\n"
     ]
    },
    {
     "name": "stdout",
     "output_type": "stream",
     "text": [
      "EPOCH 2:\n",
      "Checkpoint saved: /dss/dsshome1/07/ra65bex2/srawat/0.9hyperbolic\n",
      "Epoch 2/3, Loss: 2.8252613674417586\n",
      "Epoch 2/3, Contrastive Loss: 1.7697166493010623\n",
      "Epoch 2/3, Entailment Loss: 1.172827493837463\n"
     ]
    },
    {
     "name": "stdout",
     "output_type": "stream",
     "text": [
      "Mean Reciprocal Rank (MRR) for validation set: 0.5174\n",
      "Epoch 2 took 33.8086 minutes.\n",
      "\n",
      "\n"
     ]
    },
    {
     "name": "stdout",
     "output_type": "stream",
     "text": [
      "EPOCH 3:\n",
      "Checkpoint saved: /dss/dsshome1/07/ra65bex2/srawat/0.9hyperbolic\n",
      "Epoch 3/3, Loss: 2.7938359020093992\n",
      "Epoch 3/3, Contrastive Loss: 1.7495870984675035\n",
      "Epoch 3/3, Entailment Loss: 1.1602764788103717\n"
     ]
    },
    {
     "name": "stdout",
     "output_type": "stream",
     "text": [
      "Mean Reciprocal Rank (MRR) for validation set: 0.5280\n",
      "Epoch 3 took 33.7823 minutes.\n",
      "\n",
      "\n"
     ]
    }
   ],
   "source": [
    "for epoch in range(num_epochs):\n",
    "    start_time = time.time()\n",
    "    lora_model.train()\n",
    "\n",
    "    total_loss = 0.0\n",
    "    entailment_loss_total=0.0\n",
    "    contrastive_loss_total=0.0\n",
    "    for batch in data_loader_train:\n",
    "\n",
    "        anchor_texts = batch[0]\n",
    "        positive_texts = batch[1]\n",
    "        negative_texts = batch[2]\n",
    "\n",
    "        anchor_inputs = tokenizer(anchor_texts, return_tensors='pt', padding=True, truncation=True, max_length=512).to(device)\n",
    "        positive_inputs = tokenizer(positive_texts, return_tensors='pt', padding=True, truncation=True, max_length=512).to(device)\n",
    "    \n",
    "        anchor_embedding = expm_o(lora_model(**anchor_inputs).last_hidden_state[:, 0, :])\n",
    "        positive_embedding = expm_o(lora_model(**positive_inputs).last_hidden_state[:, 0, :])\n",
    "        negative_embedding = [expm_o(lora_model(**tokenizer(neg, return_tensors='pt', padding=True, truncation=True, max_length=512).to(device)).last_hidden_state[:, 0, :]) for neg in negative_texts]\n",
    "\n",
    "        contrastive_loss_value = info_nce_loss(anchor_embedding, positive_embedding, negative_embedding, distance_fn=lorentzian_distance)\n",
    "        \n",
    "        entailment_loss_value = entailment_loss(anchor_embedding, positive_embedding)\n",
    "        \n",
    "        loss = contrastive_loss_value + 0.9*entailment_loss_value\n",
    "  \n",
    "        optimizer.zero_grad()\n",
    "        loss.backward()\n",
    "        optimizer.step()\n",
    "        \n",
    "        total_loss += loss.item()\n",
    "        entailment_loss_total+=entailment_loss_value.item()\n",
    "        contrastive_loss_total+=contrastive_loss_value.item()\n",
    "    save_path1 = os.path.join(save_dir, f\"hyperbolic_lora_checkpoint_epoch_{epoch+1}.pth\")\n",
    "    torch.save(lora_model, save_path1)\n",
    "    print(f\"EPOCH {epoch+1}:\")\n",
    "    print(f\"Checkpoint saved: {save_dir}\")\n",
    "    print(f\"Epoch {epoch+1}/{num_epochs}, Loss: {total_loss / len(data_loader_train)}\")\n",
    "    print(f\"Epoch {epoch+1}/{num_epochs}, Contrastive Loss: {contrastive_loss_total / len(data_loader_train)}\")\n",
    "    print(f\"Epoch {epoch+1}/{num_epochs}, Entailment Loss: {entailment_loss_total / len(data_loader_train)}\")\n",
    "    mrr_validation = evaluate_mrr(model1=lora_model, data_loader_val=data_loader_val,distance_fn=lorentzian_distance)\n",
    "    #mrr_train = evaluate_mrr(lora_model, data_loader_train, lorentzian_distance)\n",
    "    #print(f\"Mean Reciprocal Rank (MRR) for training set: {mrr_train:.4f}\")\n",
    "    print(f\"Mean Reciprocal Rank (MRR) for validation set: {mrr_validation:.4f}\")\n",
    "    end_time = time.time()\n",
    "    print(f\"Epoch {epoch+1} took {(end_time - start_time) / 60:.4f} minutes.\")\n",
    "    print(f\"\\n\")\n",
    "    epoch_metrics.append({\n",
    "        'epoch': epoch + 1,\n",
    "        'training_loss': total_loss / len(data_loader_train),\n",
    "        'Contrastive_loss': contrastive_loss_total / len(data_loader_train),\n",
    "        'Entailment_loss': entailment_loss_total / len(data_loader_train),\n",
    "        'mrr_validation': mrr_validation,\n",
    "        'time_taken_minutes': (end_time - start_time) / 60\n",
    "    })"
   ]
  },
  {
   "cell_type": "code",
   "execution_count": 41,
   "id": "894a85ae",
   "metadata": {
    "execution": {
     "iopub.execute_input": "2025-01-27T18:05:30.727514Z",
     "iopub.status.busy": "2025-01-27T18:05:30.727278Z",
     "iopub.status.idle": "2025-01-27T18:05:30.731742Z",
     "shell.execute_reply": "2025-01-27T18:05:30.731372Z"
    },
    "papermill": {
     "duration": 0.011395,
     "end_time": "2025-01-27T18:05:30.732346",
     "exception": false,
     "start_time": "2025-01-27T18:05:30.720951",
     "status": "completed"
    },
    "tags": []
   },
   "outputs": [],
   "source": [
    "import json\n",
    "with open(save_dir + '/hyperbolic_epoch_metrics.json', 'w') as f:\n",
    "    json.dump(epoch_metrics, f)"
   ]
  },
  {
   "cell_type": "code",
   "execution_count": null,
   "id": "14622211",
   "metadata": {
    "papermill": {
     "duration": 0.004707,
     "end_time": "2025-01-27T18:05:30.742121",
     "exception": false,
     "start_time": "2025-01-27T18:05:30.737414",
     "status": "completed"
    },
    "tags": []
   },
   "outputs": [],
   "source": []
  }
 ],
 "metadata": {
  "kernelspec": {
   "display_name": "Python 3 (ipykernel)",
   "language": "python",
   "name": "python3"
  },
  "language_info": {
   "codemirror_mode": {
    "name": "ipython",
    "version": 3
   },
   "file_extension": ".py",
   "mimetype": "text/x-python",
   "name": "python",
   "nbconvert_exporter": "python",
   "pygments_lexer": "ipython3",
   "version": "3.10.12"
  },
  "papermill": {
   "default_parameters": {},
   "duration": 6158.45694,
   "end_time": "2025-01-27T18:05:32.664188",
   "environment_variables": {},
   "exception": null,
   "input_path": "0.9hyperbolic.ipynb",
   "output_path": "0.9hyperbolic_output.ipynb",
   "parameters": {},
   "start_time": "2025-01-27T16:22:54.207248",
   "version": "2.6.0"
  }
 },
 "nbformat": 4,
 "nbformat_minor": 5
}
