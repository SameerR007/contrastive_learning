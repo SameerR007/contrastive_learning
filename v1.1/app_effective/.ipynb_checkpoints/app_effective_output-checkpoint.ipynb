{
 "cells": [
  {
   "cell_type": "code",
   "execution_count": 1,
   "id": "bfc4c4e2",
   "metadata": {
    "execution": {
     "iopub.execute_input": "2024-12-30T00:40:46.202954Z",
     "iopub.status.busy": "2024-12-30T00:40:46.202619Z",
     "iopub.status.idle": "2024-12-30T00:40:52.754888Z",
     "shell.execute_reply": "2024-12-30T00:40:52.754424Z"
    },
    "papermill": {
     "duration": 6.557962,
     "end_time": "2024-12-30T00:40:52.756208",
     "exception": false,
     "start_time": "2024-12-30T00:40:46.198246",
     "status": "completed"
    },
    "tags": []
   },
   "outputs": [],
   "source": [
    "from datasets import load_dataset"
   ]
  },
  {
   "cell_type": "code",
   "execution_count": 2,
   "id": "612a8e4d",
   "metadata": {
    "execution": {
     "iopub.execute_input": "2024-12-30T00:40:52.766148Z",
     "iopub.status.busy": "2024-12-30T00:40:52.765860Z",
     "iopub.status.idle": "2024-12-30T00:40:57.379844Z",
     "shell.execute_reply": "2024-12-30T00:40:57.379322Z"
    },
    "papermill": {
     "duration": 4.618317,
     "end_time": "2024-12-30T00:40:57.380594",
     "exception": false,
     "start_time": "2024-12-30T00:40:52.762277",
     "status": "completed"
    },
    "tags": []
   },
   "outputs": [],
   "source": [
    "dataset = load_dataset('ms_marco', 'v1.1')"
   ]
  },
  {
   "cell_type": "code",
   "execution_count": 3,
   "id": "454fdd08",
   "metadata": {
    "execution": {
     "iopub.execute_input": "2024-12-30T00:40:57.389637Z",
     "iopub.status.busy": "2024-12-30T00:40:57.389498Z",
     "iopub.status.idle": "2024-12-30T00:40:57.393871Z",
     "shell.execute_reply": "2024-12-30T00:40:57.393526Z"
    },
    "papermill": {
     "duration": 0.008458,
     "end_time": "2024-12-30T00:40:57.394435",
     "exception": false,
     "start_time": "2024-12-30T00:40:57.385977",
     "status": "completed"
    },
    "tags": []
   },
   "outputs": [
    {
     "data": {
      "text/plain": [
       "DatasetDict({\n",
       "    validation: Dataset({\n",
       "        features: ['answers', 'passages', 'query', 'query_id', 'query_type', 'wellFormedAnswers'],\n",
       "        num_rows: 10047\n",
       "    })\n",
       "    train: Dataset({\n",
       "        features: ['answers', 'passages', 'query', 'query_id', 'query_type', 'wellFormedAnswers'],\n",
       "        num_rows: 82326\n",
       "    })\n",
       "    test: Dataset({\n",
       "        features: ['answers', 'passages', 'query', 'query_id', 'query_type', 'wellFormedAnswers'],\n",
       "        num_rows: 9650\n",
       "    })\n",
       "})"
      ]
     },
     "execution_count": 3,
     "metadata": {},
     "output_type": "execute_result"
    }
   ],
   "source": [
    "dataset"
   ]
  },
  {
   "cell_type": "code",
   "execution_count": 4,
   "id": "b7872f8a",
   "metadata": {
    "execution": {
     "iopub.execute_input": "2024-12-30T00:40:57.402008Z",
     "iopub.status.busy": "2024-12-30T00:40:57.401879Z",
     "iopub.status.idle": "2024-12-30T00:41:00.628038Z",
     "shell.execute_reply": "2024-12-30T00:41:00.627544Z"
    },
    "papermill": {
     "duration": 3.23094,
     "end_time": "2024-12-30T00:41:00.628653",
     "exception": false,
     "start_time": "2024-12-30T00:40:57.397713",
     "status": "completed"
    },
    "tags": []
   },
   "outputs": [],
   "source": [
    "dataset = load_dataset('ms_marco', 'v1.1', split='train')"
   ]
  },
  {
   "cell_type": "code",
   "execution_count": 5,
   "id": "01efb9de",
   "metadata": {
    "execution": {
     "iopub.execute_input": "2024-12-30T00:41:00.635923Z",
     "iopub.status.busy": "2024-12-30T00:41:00.635660Z",
     "iopub.status.idle": "2024-12-30T00:41:00.638419Z",
     "shell.execute_reply": "2024-12-30T00:41:00.638088Z"
    },
    "papermill": {
     "duration": 0.006953,
     "end_time": "2024-12-30T00:41:00.639012",
     "exception": false,
     "start_time": "2024-12-30T00:41:00.632059",
     "status": "completed"
    },
    "tags": []
   },
   "outputs": [
    {
     "data": {
      "text/plain": [
       "Dataset({\n",
       "    features: ['answers', 'passages', 'query', 'query_id', 'query_type', 'wellFormedAnswers'],\n",
       "    num_rows: 82326\n",
       "})"
      ]
     },
     "execution_count": 5,
     "metadata": {},
     "output_type": "execute_result"
    }
   ],
   "source": [
    "dataset"
   ]
  },
  {
   "cell_type": "code",
   "execution_count": 6,
   "id": "9cee6897",
   "metadata": {
    "execution": {
     "iopub.execute_input": "2024-12-30T00:41:00.646209Z",
     "iopub.status.busy": "2024-12-30T00:41:00.645961Z",
     "iopub.status.idle": "2024-12-30T00:41:00.654509Z",
     "shell.execute_reply": "2024-12-30T00:41:00.654163Z"
    },
    "papermill": {
     "duration": 0.01276,
     "end_time": "2024-12-30T00:41:00.655067",
     "exception": false,
     "start_time": "2024-12-30T00:41:00.642307",
     "status": "completed"
    },
    "tags": []
   },
   "outputs": [],
   "source": [
    "def preprocess(example):\n",
    "    positive_passages=[]\n",
    "    for p in enumerate(example['passages'][\"is_selected\"]):\n",
    "        if p[1]==1:\n",
    "            positive_passages.append(example[\"passages\"][\"passage_text\"][p[0]])\n",
    "    negative_passages = []\n",
    "    for p in enumerate(example['passages'][\"is_selected\"]):\n",
    "        if p[1]==0:\n",
    "            negative_passages.append(example[\"passages\"][\"passage_text\"][p[0]])\n",
    "    if (len(positive_passages)>0 and len(negative_passages)>=5):\n",
    "        positive = positive_passages[0]\n",
    "        negatives = negative_passages[:5]\n",
    "        return {\n",
    "            \"query\": example[\"query\"],\n",
    "            \"positive\": positive,\n",
    "            \"negatives\": negatives\n",
    "        }\n",
    "    else:\n",
    "        return {\"query\": None, \"positive\": None, \"negatives\": None}"
   ]
  },
  {
   "cell_type": "code",
   "execution_count": 7,
   "id": "d1706038",
   "metadata": {
    "execution": {
     "iopub.execute_input": "2024-12-30T00:41:00.662178Z",
     "iopub.status.busy": "2024-12-30T00:41:00.662046Z",
     "iopub.status.idle": "2024-12-30T00:41:01.094064Z",
     "shell.execute_reply": "2024-12-30T00:41:01.093620Z"
    },
    "papermill": {
     "duration": 0.436364,
     "end_time": "2024-12-30T00:41:01.094733",
     "exception": false,
     "start_time": "2024-12-30T00:41:00.658369",
     "status": "completed"
    },
    "tags": []
   },
   "outputs": [],
   "source": [
    "processed_data = dataset.map(preprocess, remove_columns=dataset.column_names)"
   ]
  },
  {
   "cell_type": "code",
   "execution_count": 8,
   "id": "b13e8d8a",
   "metadata": {
    "execution": {
     "iopub.execute_input": "2024-12-30T00:41:01.102163Z",
     "iopub.status.busy": "2024-12-30T00:41:01.102028Z",
     "iopub.status.idle": "2024-12-30T00:41:01.122659Z",
     "shell.execute_reply": "2024-12-30T00:41:01.122316Z"
    },
    "papermill": {
     "duration": 0.024976,
     "end_time": "2024-12-30T00:41:01.123265",
     "exception": false,
     "start_time": "2024-12-30T00:41:01.098289",
     "status": "completed"
    },
    "tags": []
   },
   "outputs": [],
   "source": [
    "processed_data = processed_data.filter(lambda x: x['query'] is not None and x['positive'] is not None)"
   ]
  },
  {
   "cell_type": "code",
   "execution_count": 9,
   "id": "56e019f5",
   "metadata": {
    "execution": {
     "iopub.execute_input": "2024-12-30T00:41:01.130499Z",
     "iopub.status.busy": "2024-12-30T00:41:01.130260Z",
     "iopub.status.idle": "2024-12-30T00:41:06.903541Z",
     "shell.execute_reply": "2024-12-30T00:41:06.902981Z"
    },
    "papermill": {
     "duration": 5.777688,
     "end_time": "2024-12-30T00:41:06.904320",
     "exception": false,
     "start_time": "2024-12-30T00:41:01.126632",
     "status": "completed"
    },
    "tags": []
   },
   "outputs": [],
   "source": [
    "contrastive_pairs = []\n",
    "for item in processed_data:\n",
    "    query = item[\"query\"]\n",
    "    positive = item[\"positive\"]\n",
    "    negatives = item[\"negatives\"]\n",
    "    contrastive_pairs.append({\n",
    "        \"anchor\": query,\n",
    "        \"positive\": positive,\n",
    "        \"negatives\": negatives\n",
    "    })"
   ]
  },
  {
   "cell_type": "code",
   "execution_count": 10,
   "id": "ab0c7d3b",
   "metadata": {
    "execution": {
     "iopub.execute_input": "2024-12-30T00:41:06.914440Z",
     "iopub.status.busy": "2024-12-30T00:41:06.914078Z",
     "iopub.status.idle": "2024-12-30T00:41:06.917242Z",
     "shell.execute_reply": "2024-12-30T00:41:06.916896Z"
    },
    "papermill": {
     "duration": 0.007506,
     "end_time": "2024-12-30T00:41:06.917784",
     "exception": false,
     "start_time": "2024-12-30T00:41:06.910278",
     "status": "completed"
    },
    "tags": []
   },
   "outputs": [
    {
     "data": {
      "text/plain": [
       "74538"
      ]
     },
     "execution_count": 10,
     "metadata": {},
     "output_type": "execute_result"
    }
   ],
   "source": [
    "len(contrastive_pairs)"
   ]
  },
  {
   "cell_type": "code",
   "execution_count": 11,
   "id": "57cefa16",
   "metadata": {
    "execution": {
     "iopub.execute_input": "2024-12-30T00:41:06.925211Z",
     "iopub.status.busy": "2024-12-30T00:41:06.925081Z",
     "iopub.status.idle": "2024-12-30T00:41:16.904728Z",
     "shell.execute_reply": "2024-12-30T00:41:16.904200Z"
    },
    "papermill": {
     "duration": 9.984364,
     "end_time": "2024-12-30T00:41:16.905645",
     "exception": false,
     "start_time": "2024-12-30T00:41:06.921281",
     "status": "completed"
    },
    "tags": []
   },
   "outputs": [],
   "source": [
    "from torch.utils.data import DataLoader"
   ]
  },
  {
   "cell_type": "code",
   "execution_count": 12,
   "id": "c50793d4",
   "metadata": {
    "execution": {
     "iopub.execute_input": "2024-12-30T00:41:16.915955Z",
     "iopub.status.busy": "2024-12-30T00:41:16.915634Z",
     "iopub.status.idle": "2024-12-30T00:41:16.918618Z",
     "shell.execute_reply": "2024-12-30T00:41:16.918317Z"
    },
    "papermill": {
     "duration": 0.007668,
     "end_time": "2024-12-30T00:41:16.919177",
     "exception": false,
     "start_time": "2024-12-30T00:41:16.911509",
     "status": "completed"
    },
    "tags": []
   },
   "outputs": [],
   "source": [
    "class ContrastiveDataset:\n",
    "    def __init__(self, pairs):\n",
    "        self.pairs = pairs\n",
    "\n",
    "    def __len__(self):\n",
    "        return len(self.pairs)\n",
    "\n",
    "    def __getitem__(self, idx):\n",
    "        item = self.pairs[idx]\n",
    "        return item[\"anchor\"], item[\"positive\"], item[\"negatives\"]"
   ]
  },
  {
   "cell_type": "code",
   "execution_count": 13,
   "id": "897b1c6a",
   "metadata": {
    "execution": {
     "iopub.execute_input": "2024-12-30T00:41:16.926868Z",
     "iopub.status.busy": "2024-12-30T00:41:16.926739Z",
     "iopub.status.idle": "2024-12-30T00:41:16.935939Z",
     "shell.execute_reply": "2024-12-30T00:41:16.935646Z"
    },
    "papermill": {
     "duration": 0.013721,
     "end_time": "2024-12-30T00:41:16.936528",
     "exception": false,
     "start_time": "2024-12-30T00:41:16.922807",
     "status": "completed"
    },
    "tags": []
   },
   "outputs": [],
   "source": [
    "contrastive_dataset = ContrastiveDataset(contrastive_pairs)"
   ]
  },
  {
   "cell_type": "code",
   "execution_count": 14,
   "id": "63c79c11",
   "metadata": {
    "execution": {
     "iopub.execute_input": "2024-12-30T00:41:16.944185Z",
     "iopub.status.busy": "2024-12-30T00:41:16.943943Z",
     "iopub.status.idle": "2024-12-30T00:41:16.950273Z",
     "shell.execute_reply": "2024-12-30T00:41:16.949960Z"
    },
    "papermill": {
     "duration": 0.010749,
     "end_time": "2024-12-30T00:41:16.950829",
     "exception": false,
     "start_time": "2024-12-30T00:41:16.940080",
     "status": "completed"
    },
    "tags": []
   },
   "outputs": [],
   "source": [
    "data_loader = DataLoader(contrastive_dataset, batch_size=32, shuffle=True)"
   ]
  },
  {
   "cell_type": "code",
   "execution_count": 15,
   "id": "0dce34f6",
   "metadata": {
    "execution": {
     "iopub.execute_input": "2024-12-30T00:41:16.958820Z",
     "iopub.status.busy": "2024-12-30T00:41:16.958483Z",
     "iopub.status.idle": "2024-12-30T00:41:16.964916Z",
     "shell.execute_reply": "2024-12-30T00:41:16.964630Z"
    },
    "papermill": {
     "duration": 0.011054,
     "end_time": "2024-12-30T00:41:16.965490",
     "exception": false,
     "start_time": "2024-12-30T00:41:16.954436",
     "status": "completed"
    },
    "tags": []
   },
   "outputs": [
    {
     "data": {
      "text/plain": [
       "2330"
      ]
     },
     "execution_count": 15,
     "metadata": {},
     "output_type": "execute_result"
    }
   ],
   "source": [
    "len(data_loader)"
   ]
  },
  {
   "cell_type": "code",
   "execution_count": 16,
   "id": "a17108f3",
   "metadata": {
    "execution": {
     "iopub.execute_input": "2024-12-30T00:41:16.973462Z",
     "iopub.status.busy": "2024-12-30T00:41:16.973250Z",
     "iopub.status.idle": "2024-12-30T00:41:28.981418Z",
     "shell.execute_reply": "2024-12-30T00:41:28.980958Z"
    },
    "papermill": {
     "duration": 12.013172,
     "end_time": "2024-12-30T00:41:28.982409",
     "exception": false,
     "start_time": "2024-12-30T00:41:16.969237",
     "status": "completed"
    },
    "tags": []
   },
   "outputs": [],
   "source": [
    "from transformers import AutoTokenizer, AutoModel\n",
    "tokenizer = AutoTokenizer.from_pretrained(\"bert-base-uncased\")"
   ]
  },
  {
   "cell_type": "code",
   "execution_count": 17,
   "id": "ade6dc39",
   "metadata": {
    "execution": {
     "iopub.execute_input": "2024-12-30T00:41:28.993098Z",
     "iopub.status.busy": "2024-12-30T00:41:28.992828Z",
     "iopub.status.idle": "2024-12-30T00:41:31.933405Z",
     "shell.execute_reply": "2024-12-30T00:41:31.933005Z"
    },
    "papermill": {
     "duration": 2.945717,
     "end_time": "2024-12-30T00:41:31.934352",
     "exception": false,
     "start_time": "2024-12-30T00:41:28.988635",
     "status": "completed"
    },
    "tags": []
   },
   "outputs": [],
   "source": [
    "model = AutoModel.from_pretrained(\"bert-base-uncased\")"
   ]
  },
  {
   "cell_type": "code",
   "execution_count": 18,
   "id": "964a4687",
   "metadata": {
    "execution": {
     "iopub.execute_input": "2024-12-30T00:41:31.943198Z",
     "iopub.status.busy": "2024-12-30T00:41:31.942898Z",
     "iopub.status.idle": "2024-12-30T00:41:32.555848Z",
     "shell.execute_reply": "2024-12-30T00:41:32.555424Z"
    },
    "papermill": {
     "duration": 0.617779,
     "end_time": "2024-12-30T00:41:32.556557",
     "exception": false,
     "start_time": "2024-12-30T00:41:31.938778",
     "status": "completed"
    },
    "tags": []
   },
   "outputs": [],
   "source": [
    "from peft import LoraConfig, get_peft_model"
   ]
  },
  {
   "cell_type": "code",
   "execution_count": 19,
   "id": "d2da8110",
   "metadata": {
    "execution": {
     "iopub.execute_input": "2024-12-30T00:41:32.564811Z",
     "iopub.status.busy": "2024-12-30T00:41:32.564570Z",
     "iopub.status.idle": "2024-12-30T00:41:32.566635Z",
     "shell.execute_reply": "2024-12-30T00:41:32.566331Z"
    },
    "papermill": {
     "duration": 0.006588,
     "end_time": "2024-12-30T00:41:32.567196",
     "exception": false,
     "start_time": "2024-12-30T00:41:32.560608",
     "status": "completed"
    },
    "tags": []
   },
   "outputs": [],
   "source": [
    "lora_config = LoraConfig(\n",
    "    task_type= \"FEATURE_EXTRACTION\" \n",
    ")"
   ]
  },
  {
   "cell_type": "code",
   "execution_count": 20,
   "id": "d8313f1b",
   "metadata": {
    "execution": {
     "iopub.execute_input": "2024-12-30T00:41:32.575028Z",
     "iopub.status.busy": "2024-12-30T00:41:32.574807Z",
     "iopub.status.idle": "2024-12-30T00:41:32.806187Z",
     "shell.execute_reply": "2024-12-30T00:41:32.805771Z"
    },
    "papermill": {
     "duration": 0.236008,
     "end_time": "2024-12-30T00:41:32.806847",
     "exception": false,
     "start_time": "2024-12-30T00:41:32.570839",
     "status": "completed"
    },
    "tags": []
   },
   "outputs": [],
   "source": [
    "lora_model = get_peft_model(model, lora_config)"
   ]
  },
  {
   "cell_type": "code",
   "execution_count": 21,
   "id": "9475a266",
   "metadata": {
    "execution": {
     "iopub.execute_input": "2024-12-30T00:41:32.815033Z",
     "iopub.status.busy": "2024-12-30T00:41:32.814723Z",
     "iopub.status.idle": "2024-12-30T00:41:32.818036Z",
     "shell.execute_reply": "2024-12-30T00:41:32.817741Z"
    },
    "papermill": {
     "duration": 0.007936,
     "end_time": "2024-12-30T00:41:32.818622",
     "exception": false,
     "start_time": "2024-12-30T00:41:32.810686",
     "status": "completed"
    },
    "tags": []
   },
   "outputs": [
    {
     "name": "stdout",
     "output_type": "stream",
     "text": [
      "trainable params: 294,912 || all params: 109,777,152 || trainable%: 0.2686\n"
     ]
    }
   ],
   "source": [
    "lora_model.print_trainable_parameters()"
   ]
  },
  {
   "cell_type": "code",
   "execution_count": 22,
   "id": "f8b32396",
   "metadata": {
    "execution": {
     "iopub.execute_input": "2024-12-30T00:41:32.826817Z",
     "iopub.status.busy": "2024-12-30T00:41:32.826682Z",
     "iopub.status.idle": "2024-12-30T00:41:32.835518Z",
     "shell.execute_reply": "2024-12-30T00:41:32.835208Z"
    },
    "papermill": {
     "duration": 0.01351,
     "end_time": "2024-12-30T00:41:32.836090",
     "exception": false,
     "start_time": "2024-12-30T00:41:32.822580",
     "status": "completed"
    },
    "tags": []
   },
   "outputs": [],
   "source": [
    "import torch"
   ]
  },
  {
   "cell_type": "code",
   "execution_count": 23,
   "id": "125abe04",
   "metadata": {
    "execution": {
     "iopub.execute_input": "2024-12-30T00:41:32.847296Z",
     "iopub.status.busy": "2024-12-30T00:41:32.847166Z",
     "iopub.status.idle": "2024-12-30T00:41:33.130313Z",
     "shell.execute_reply": "2024-12-30T00:41:33.129869Z"
    },
    "papermill": {
     "duration": 0.287967,
     "end_time": "2024-12-30T00:41:33.130898",
     "exception": false,
     "start_time": "2024-12-30T00:41:32.842931",
     "status": "completed"
    },
    "tags": []
   },
   "outputs": [],
   "source": [
    "device = torch.device('cuda' if torch.cuda.is_available() else 'cpu')"
   ]
  },
  {
   "cell_type": "code",
   "execution_count": 24,
   "id": "de4cf584",
   "metadata": {
    "execution": {
     "iopub.execute_input": "2024-12-30T00:41:33.139131Z",
     "iopub.status.busy": "2024-12-30T00:41:33.138896Z",
     "iopub.status.idle": "2024-12-30T00:41:33.144715Z",
     "shell.execute_reply": "2024-12-30T00:41:33.144427Z"
    },
    "papermill": {
     "duration": 0.010496,
     "end_time": "2024-12-30T00:41:33.145254",
     "exception": false,
     "start_time": "2024-12-30T00:41:33.134758",
     "status": "completed"
    },
    "tags": []
   },
   "outputs": [
    {
     "data": {
      "text/plain": [
       "device(type='cuda')"
      ]
     },
     "execution_count": 24,
     "metadata": {},
     "output_type": "execute_result"
    }
   ],
   "source": [
    "device"
   ]
  },
  {
   "cell_type": "code",
   "execution_count": 25,
   "id": "e1110dc3",
   "metadata": {
    "execution": {
     "iopub.execute_input": "2024-12-30T00:41:33.153554Z",
     "iopub.status.busy": "2024-12-30T00:41:33.153328Z",
     "iopub.status.idle": "2024-12-30T00:41:33.159157Z",
     "shell.execute_reply": "2024-12-30T00:41:33.158841Z"
    },
    "papermill": {
     "duration": 0.010549,
     "end_time": "2024-12-30T00:41:33.159712",
     "exception": false,
     "start_time": "2024-12-30T00:41:33.149163",
     "status": "completed"
    },
    "tags": []
   },
   "outputs": [],
   "source": [
    "import torch.optim as optim\n",
    "optimizer = torch.optim.AdamW(lora_model.parameters(), lr=5e-5)"
   ]
  },
  {
   "cell_type": "code",
   "execution_count": 26,
   "id": "2a236f7a",
   "metadata": {
    "execution": {
     "iopub.execute_input": "2024-12-30T00:41:33.167992Z",
     "iopub.status.busy": "2024-12-30T00:41:33.167772Z",
     "iopub.status.idle": "2024-12-30T00:41:33.173122Z",
     "shell.execute_reply": "2024-12-30T00:41:33.172792Z"
    },
    "papermill": {
     "duration": 0.010096,
     "end_time": "2024-12-30T00:41:33.173673",
     "exception": false,
     "start_time": "2024-12-30T00:41:33.163577",
     "status": "completed"
    },
    "tags": []
   },
   "outputs": [],
   "source": [
    "import torch.nn.functional as F"
   ]
  },
  {
   "cell_type": "code",
   "execution_count": 27,
   "id": "8e279394",
   "metadata": {
    "execution": {
     "iopub.execute_input": "2024-12-30T00:41:33.181951Z",
     "iopub.status.busy": "2024-12-30T00:41:33.181731Z",
     "iopub.status.idle": "2024-12-30T00:41:33.188514Z",
     "shell.execute_reply": "2024-12-30T00:41:33.188186Z"
    },
    "papermill": {
     "duration": 0.011534,
     "end_time": "2024-12-30T00:41:33.189071",
     "exception": false,
     "start_time": "2024-12-30T00:41:33.177537",
     "status": "completed"
    },
    "tags": []
   },
   "outputs": [],
   "source": [
    "def compute_laplacian(similarity_matrix):\n",
    "    similarity_matrix = similarity_matrix.float()\n",
    "\n",
    "    degree_matrix = torch.diag(torch.sum(similarity_matrix, dim=1))\n",
    "    \n",
    "    laplacian_matrix = degree_matrix - similarity_matrix\n",
    "\n",
    "    return laplacian_matrix"
   ]
  },
  {
   "cell_type": "code",
   "execution_count": 28,
   "id": "e641d491",
   "metadata": {
    "execution": {
     "iopub.execute_input": "2024-12-30T00:41:33.197480Z",
     "iopub.status.busy": "2024-12-30T00:41:33.197262Z",
     "iopub.status.idle": "2024-12-30T00:41:33.202517Z",
     "shell.execute_reply": "2024-12-30T00:41:33.202216Z"
    },
    "papermill": {
     "duration": 0.010006,
     "end_time": "2024-12-30T00:41:33.203074",
     "exception": false,
     "start_time": "2024-12-30T00:41:33.193068",
     "status": "completed"
    },
    "tags": []
   },
   "outputs": [],
   "source": [
    "def effective_distance(laplacian_matrix):\n",
    "    laplacian_pseudo_inv = torch.pinverse(laplacian_matrix)\n",
    "    effective_distances = []\n",
    "    for anchor_idx in range(0, len(laplacian_matrix), 7): \n",
    "        anchor_node=torch.zeros(len(laplacian_matrix), dtype=torch.float32, device=device)\n",
    "        anchor_node[anchor_idx] = 1\n",
    "\n",
    "        distances = []\n",
    "        for i in range(7-1):\n",
    "            node=torch.zeros(len(laplacian_matrix), dtype=torch.float32, device=device)\n",
    "            node[anchor_idx+(i+1)] = 1\n",
    "            diff = anchor_node - node\n",
    "            dist = torch.matmul(torch.matmul(diff.T, laplacian_pseudo_inv), diff)\n",
    "            distances.append(dist)\n",
    "        \n",
    "        effective_distances.append(torch.stack(distances))\n",
    "    return(effective_distances)"
   ]
  },
  {
   "cell_type": "code",
   "execution_count": 29,
   "id": "d1ef0088",
   "metadata": {
    "execution": {
     "iopub.execute_input": "2024-12-30T00:41:33.211468Z",
     "iopub.status.busy": "2024-12-30T00:41:33.211248Z",
     "iopub.status.idle": "2024-12-30T00:41:33.216655Z",
     "shell.execute_reply": "2024-12-30T00:41:33.216356Z"
    },
    "papermill": {
     "duration": 0.010209,
     "end_time": "2024-12-30T00:41:33.217199",
     "exception": false,
     "start_time": "2024-12-30T00:41:33.206990",
     "status": "completed"
    },
    "tags": []
   },
   "outputs": [],
   "source": [
    "def effective_loss(distances):\n",
    "    logits=-torch.stack(distances, dim=0)\n",
    "    labels = torch.zeros(logits.size(0), dtype=torch.long, device=logits.device)\n",
    "    loss = torch.nn.CrossEntropyLoss()(logits, labels)\n",
    "    return loss"
   ]
  },
  {
   "cell_type": "code",
   "execution_count": 30,
   "id": "ab9f5a63",
   "metadata": {
    "execution": {
     "iopub.execute_input": "2024-12-30T00:41:33.225629Z",
     "iopub.status.busy": "2024-12-30T00:41:33.225419Z",
     "iopub.status.idle": "2024-12-30T00:41:37.803006Z",
     "shell.execute_reply": "2024-12-30T00:41:37.802663Z"
    },
    "papermill": {
     "duration": 4.582428,
     "end_time": "2024-12-30T00:41:37.803580",
     "exception": false,
     "start_time": "2024-12-30T00:41:33.221152",
     "status": "completed"
    },
    "tags": []
   },
   "outputs": [
    {
     "data": {
      "text/plain": [
       "284"
      ]
     },
     "execution_count": 30,
     "metadata": {},
     "output_type": "execute_result"
    }
   ],
   "source": [
    "dataset_val = load_dataset('ms_marco', 'v1.1', split='validation')\n",
    "processed_data_val = dataset_val.map(preprocess, remove_columns=dataset_val.column_names)\n",
    "processed_data_val = processed_data_val.filter(lambda x: x['query'] is not None and x['positive'] is not None)\n",
    "contrastive_pairs_val = []\n",
    "for item in processed_data_val:\n",
    "    query = item[\"query\"]\n",
    "    positive = item[\"positive\"]\n",
    "    negatives = item[\"negatives\"]\n",
    "    contrastive_pairs_val.append({\n",
    "        \"anchor\": query,\n",
    "        \"positive\": positive,\n",
    "        \"negatives\": negatives\n",
    "    })\n",
    "contrastive_dataset_val = ContrastiveDataset(contrastive_pairs_val)\n",
    "data_loader_val = DataLoader(contrastive_dataset_val, batch_size=32, shuffle=True)\n",
    "len(data_loader_val)"
   ]
  },
  {
   "cell_type": "code",
   "execution_count": 31,
   "id": "539cfebc",
   "metadata": {
    "execution": {
     "iopub.execute_input": "2024-12-30T00:41:37.812347Z",
     "iopub.status.busy": "2024-12-30T00:41:37.812212Z",
     "iopub.status.idle": "2024-12-30T00:41:38.543362Z",
     "shell.execute_reply": "2024-12-30T00:41:38.542941Z"
    },
    "papermill": {
     "duration": 0.736161,
     "end_time": "2024-12-30T00:41:38.544021",
     "exception": false,
     "start_time": "2024-12-30T00:41:37.807860",
     "status": "completed"
    },
    "tags": []
   },
   "outputs": [],
   "source": [
    "lora_model = lora_model.to(device)"
   ]
  },
  {
   "cell_type": "code",
   "execution_count": 32,
   "id": "069c1287",
   "metadata": {
    "execution": {
     "iopub.execute_input": "2024-12-30T00:41:38.555200Z",
     "iopub.status.busy": "2024-12-30T00:41:38.554891Z",
     "iopub.status.idle": "2024-12-30T00:41:38.560184Z",
     "shell.execute_reply": "2024-12-30T00:41:38.559872Z"
    },
    "papermill": {
     "duration": 0.01026,
     "end_time": "2024-12-30T00:41:38.560746",
     "exception": false,
     "start_time": "2024-12-30T00:41:38.550486",
     "status": "completed"
    },
    "tags": []
   },
   "outputs": [],
   "source": [
    "def evaluate_mrr(model, data_loader_val):\n",
    "    model.eval()\n",
    "\n",
    "    total_rr = 0.0\n",
    "    num_queries = 0\n",
    "\n",
    "    with torch.no_grad():\n",
    "        for batch in data_loader_val:\n",
    "            anchor_text = batch[0]\n",
    "            positive_text = batch[1]\n",
    "            negative_texts = batch[2]\n",
    "\n",
    "            anchor_input = tokenizer(anchor_text, return_tensors='pt', padding=True, truncation=True, max_length=512).to(device)\n",
    "            positive_input = tokenizer(positive_text, return_tensors='pt', padding=True, truncation=True, max_length=512).to(device)\n",
    "\n",
    "            anchor_embedding = model(**anchor_input).last_hidden_state[:, 0, :]\n",
    "            positive_embedding = model(**positive_input).last_hidden_state[:, 0, :]\n",
    "            negative_embedding = [model(**tokenizer(neg, return_tensors='pt', padding=True, truncation=True, max_length=512).to(device)).last_hidden_state[:, 0, :] for neg in negative_texts]\n",
    "            batch_embeddings = []\n",
    "     \n",
    "            for i in range(len(anchor_embedding)):\n",
    "                sample_embeddings = torch.cat(\n",
    "                    [anchor_embedding[i:i+1], \n",
    "                    positive_embedding[i:i+1],\n",
    "                    torch.stack([neg[i] for neg in negative_embedding])],\n",
    "                    dim=0\n",
    "                )\n",
    "                batch_embeddings.append(sample_embeddings)\n",
    "\n",
    "            all_embeddings = torch.cat(batch_embeddings, dim=0)\n",
    "            sim=F.cosine_similarity(all_embeddings.unsqueeze(1), all_embeddings.unsqueeze(0), dim=2)\n",
    "            laplacian = compute_laplacian(sim)\n",
    "            distances=effective_distance(laplacian)\n",
    "            all_similarities=-torch.stack(distances, dim=0)\n",
    "\n",
    "            sorted_similarities, sorted_indices = torch.sort(all_similarities, dim=1, descending=True)\n",
    "\n",
    "            # Find the rank of the first relevant (positive) document\n",
    "            positive_rank = (sorted_indices == 0).nonzero(as_tuple=True)[1] + 1  # +1 to make rank 1-based\n",
    "            total_rr += torch.sum(1.0 / positive_rank.float()).item()  # Reciprocal rank\n",
    "            num_queries += len(positive_rank)\n",
    "\n",
    "    mrr = total_rr / num_queries\n",
    "    return mrr\n",
    "\n"
   ]
  },
  {
   "cell_type": "code",
   "execution_count": 33,
   "id": "e0263191",
   "metadata": {
    "execution": {
     "iopub.execute_input": "2024-12-30T00:41:38.569456Z",
     "iopub.status.busy": "2024-12-30T00:41:38.569234Z",
     "iopub.status.idle": "2024-12-30T00:41:38.575244Z",
     "shell.execute_reply": "2024-12-30T00:41:38.574919Z"
    },
    "papermill": {
     "duration": 0.010876,
     "end_time": "2024-12-30T00:41:38.575788",
     "exception": false,
     "start_time": "2024-12-30T00:41:38.564912",
     "status": "completed"
    },
    "tags": []
   },
   "outputs": [],
   "source": [
    "import os\n",
    "save_dir =\"/dss/dsshome1/07/ra65bex2/srawat\"\n",
    "import time\n",
    "epoch_metrics = []\n",
    "num_epochs=3"
   ]
  },
  {
   "cell_type": "code",
   "execution_count": 34,
   "id": "0e12119f",
   "metadata": {
    "execution": {
     "iopub.execute_input": "2024-12-30T00:41:38.584521Z",
     "iopub.status.busy": "2024-12-30T00:41:38.584307Z",
     "iopub.status.idle": "2024-12-30T02:29:22.081261Z",
     "shell.execute_reply": "2024-12-30T02:29:22.080403Z"
    },
    "papermill": {
     "duration": 6463.508212,
     "end_time": "2024-12-30T02:29:22.088139",
     "exception": false,
     "start_time": "2024-12-30T00:41:38.579927",
     "status": "completed"
    },
    "tags": []
   },
   "outputs": [
    {
     "name": "stderr",
     "output_type": "stream",
     "text": [
      "/tmp/ipykernel_4031083/2546139923.py:16: UserWarning: The use of `x.T` on tensors of dimension other than 2 to reverse their shape is deprecated and it will throw an error in a future release. Consider `x.mT` to transpose batches of matrices or `x.permute(*torch.arange(x.ndim - 1, -1, -1))` to reverse the dimensions of a tensor. (Triggered internally at ../aten/src/ATen/native/TensorShape.cpp:3683.)\n",
      "  dist = torch.matmul(torch.matmul(diff.T, laplacian_pseudo_inv), diff)\n"
     ]
    },
    {
     "name": "stdout",
     "output_type": "stream",
     "text": [
      "EPOCH 1:\n",
      "Checkpoint saved: /dss/dsshome1/07/ra65bex2/srawat\n",
      "Epoch 1/3, Loss: 1.7918644404206665\n"
     ]
    },
    {
     "name": "stdout",
     "output_type": "stream",
     "text": [
      "Mean Reciprocal Rank (MRR) for validation set: 0.3944\n",
      "Epoch 1 took 35.9377 minutes.\n",
      "\n",
      "\n"
     ]
    },
    {
     "name": "stdout",
     "output_type": "stream",
     "text": [
      "EPOCH 2:\n",
      "Checkpoint saved: /dss/dsshome1/07/ra65bex2/srawat\n",
      "Epoch 2/3, Loss: 1.7918178133186864\n"
     ]
    },
    {
     "name": "stdout",
     "output_type": "stream",
     "text": [
      "Mean Reciprocal Rank (MRR) for validation set: 0.3953\n",
      "Epoch 2 took 35.8951 minutes.\n",
      "\n",
      "\n"
     ]
    },
    {
     "name": "stdout",
     "output_type": "stream",
     "text": [
      "EPOCH 3:\n",
      "Checkpoint saved: /dss/dsshome1/07/ra65bex2/srawat\n",
      "Epoch 3/3, Loss: 1.7918393819628866\n"
     ]
    },
    {
     "name": "stdout",
     "output_type": "stream",
     "text": [
      "Mean Reciprocal Rank (MRR) for validation set: 0.3941\n",
      "Epoch 3 took 35.8920 minutes.\n",
      "\n",
      "\n"
     ]
    }
   ],
   "source": [
    "for epoch in range(num_epochs):\n",
    "    start_time = time.time()\n",
    "    lora_model.train() \n",
    "    \n",
    "    total_loss = 0.0\n",
    "    for batch in data_loader:\n",
    "      \n",
    "        anchor_texts = batch[0]\n",
    "        positive_texts = batch[1]\n",
    "        negative_texts = batch[2]\n",
    "        \n",
    "        anchor_inputs = tokenizer(anchor_texts, return_tensors='pt', padding=True, truncation=True, max_length=512).to(device)\n",
    "        positive_inputs = tokenizer(positive_texts, return_tensors='pt', padding=True, truncation=True, max_length=512).to(device)\n",
    "    \n",
    "        anchor_embedding = lora_model(**anchor_inputs).last_hidden_state[:, 0, :]\n",
    "        positive_embedding = lora_model(**positive_inputs).last_hidden_state[:, 0, :]\n",
    "        negative_embedding = [lora_model(**tokenizer(neg, return_tensors='pt', padding=True, truncation=True, max_length=512).to(device)).last_hidden_state[:, 0, :] for neg in negative_texts]\n",
    "\n",
    "        batch_embeddings = []\n",
    "        for i in range(len(anchor_embedding)): \n",
    "            sample_embeddings = torch.cat(\n",
    "                [anchor_embedding[i:i+1],  \n",
    "                positive_embedding[i:i+1], \n",
    "                torch.stack([neg[i] for neg in negative_embedding])],\n",
    "                dim=0\n",
    "            )\n",
    "            batch_embeddings.append(sample_embeddings)\n",
    "\n",
    "        all_embeddings = torch.cat(batch_embeddings, dim=0)\n",
    "        sim=F.cosine_similarity(all_embeddings.unsqueeze(1), all_embeddings.unsqueeze(0), dim=2)\n",
    "        laplacian = compute_laplacian(sim)\n",
    "        distances=effective_distance(laplacian)\n",
    "\n",
    "        loss = effective_loss(distances)\n",
    "        \n",
    "        optimizer.zero_grad()\n",
    "        loss.backward() \n",
    "        optimizer.step() \n",
    "        \n",
    "        total_loss += loss.item()\n",
    "    save_path = os.path.join(save_dir, f\"effective_checkpoint_epoch_{epoch+1}.pth\")\n",
    "    torch.save(lora_model, save_path)\n",
    "    print(f\"EPOCH {epoch+1}:\")\n",
    "    print(f\"Checkpoint saved: {save_dir}\")\n",
    "    print(f\"Epoch {epoch+1}/{num_epochs}, Loss: {total_loss / len(data_loader)}\")\n",
    "    mrr_validation = evaluate_mrr(lora_model, data_loader_val)\n",
    "    #mrr_train = evaluate_mrr(lora_model, data_loader)\n",
    "    #print(f\"Mean Reciprocal Rank (MRR) for training set: {mrr_train:.4f}\")\n",
    "    print(f\"Mean Reciprocal Rank (MRR) for validation set: {mrr_validation:.4f}\")\n",
    "    end_time = time.time()\n",
    "    print(f\"Epoch {epoch+1} took {(end_time - start_time) / 60:.4f} minutes.\")\n",
    "    print(f\"\\n\")\n",
    "    epoch_metrics.append({\n",
    "    'epoch': epoch + 1,\n",
    "    'training_loss': total_loss / len(data_loader),\n",
    "    'mrr_validation': mrr_validation,\n",
    "    'time_taken_minutes': (end_time - start_time) / 60\n",
    "    })\n"
   ]
  },
  {
   "cell_type": "code",
   "execution_count": 35,
   "id": "c26b8f5a",
   "metadata": {
    "execution": {
     "iopub.execute_input": "2024-12-30T02:29:22.098599Z",
     "iopub.status.busy": "2024-12-30T02:29:22.098136Z",
     "iopub.status.idle": "2024-12-30T02:29:22.101509Z",
     "shell.execute_reply": "2024-12-30T02:29:22.101141Z"
    },
    "papermill": {
     "duration": 0.00932,
     "end_time": "2024-12-30T02:29:22.102169",
     "exception": false,
     "start_time": "2024-12-30T02:29:22.092849",
     "status": "completed"
    },
    "tags": []
   },
   "outputs": [],
   "source": [
    "import json\n",
    "with open(save_dir + '/effective_epoch_metrics.json', 'w') as f:\n",
    "    json.dump(epoch_metrics, f)"
   ]
  },
  {
   "cell_type": "code",
   "execution_count": null,
   "id": "b8326fc3",
   "metadata": {
    "papermill": {
     "duration": 0.00445,
     "end_time": "2024-12-30T02:29:22.111087",
     "exception": false,
     "start_time": "2024-12-30T02:29:22.106637",
     "status": "completed"
    },
    "tags": []
   },
   "outputs": [],
   "source": []
  }
 ],
 "metadata": {
  "kernelspec": {
   "display_name": "Python (myenv)",
   "language": "python",
   "name": "myenv"
  },
  "language_info": {
   "codemirror_mode": {
    "name": "ipython",
    "version": 3
   },
   "file_extension": ".py",
   "mimetype": "text/x-python",
   "name": "python",
   "nbconvert_exporter": "python",
   "pygments_lexer": "ipython3",
   "version": "3.12.7"
  },
  "papermill": {
   "default_parameters": {},
   "duration": 6522.605659,
   "end_time": "2024-12-30T02:29:23.832571",
   "environment_variables": {},
   "exception": null,
   "input_path": "app_effective.ipynb",
   "output_path": "app_effective_output.ipynb",
   "parameters": {},
   "start_time": "2024-12-30T00:40:41.226912",
   "version": "2.6.0"
  }
 },
 "nbformat": 4,
 "nbformat_minor": 5
}
