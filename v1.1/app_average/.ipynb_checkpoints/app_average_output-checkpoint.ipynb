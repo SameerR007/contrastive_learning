{
 "cells": [
  {
   "cell_type": "code",
   "execution_count": 1,
   "id": "1f13488a",
   "metadata": {
    "execution": {
     "iopub.execute_input": "2025-01-13T20:53:30.110532Z",
     "iopub.status.busy": "2025-01-13T20:53:30.110289Z",
     "iopub.status.idle": "2025-01-13T20:53:31.208636Z",
     "shell.execute_reply": "2025-01-13T20:53:31.208164Z"
    },
    "papermill": {
     "duration": 1.103538,
     "end_time": "2025-01-13T20:53:31.209426",
     "exception": false,
     "start_time": "2025-01-13T20:53:30.105888",
     "status": "completed"
    },
    "tags": []
   },
   "outputs": [],
   "source": [
    "from datasets import load_dataset"
   ]
  },
  {
   "cell_type": "code",
   "execution_count": 2,
   "id": "73f4a5bc",
   "metadata": {
    "execution": {
     "iopub.execute_input": "2025-01-13T20:53:31.220447Z",
     "iopub.status.busy": "2025-01-13T20:53:31.219971Z",
     "iopub.status.idle": "2025-01-13T20:53:35.675553Z",
     "shell.execute_reply": "2025-01-13T20:53:35.675198Z"
    },
    "papermill": {
     "duration": 4.461361,
     "end_time": "2025-01-13T20:53:35.676240",
     "exception": false,
     "start_time": "2025-01-13T20:53:31.214879",
     "status": "completed"
    },
    "tags": []
   },
   "outputs": [],
   "source": [
    "dataset = load_dataset('ms_marco', 'v1.1')"
   ]
  },
  {
   "cell_type": "code",
   "execution_count": 3,
   "id": "36e8a1b2",
   "metadata": {
    "execution": {
     "iopub.execute_input": "2025-01-13T20:53:35.683583Z",
     "iopub.status.busy": "2025-01-13T20:53:35.683440Z",
     "iopub.status.idle": "2025-01-13T20:53:35.687903Z",
     "shell.execute_reply": "2025-01-13T20:53:35.687588Z"
    },
    "papermill": {
     "duration": 0.008615,
     "end_time": "2025-01-13T20:53:35.688474",
     "exception": false,
     "start_time": "2025-01-13T20:53:35.679859",
     "status": "completed"
    },
    "tags": []
   },
   "outputs": [
    {
     "data": {
      "text/plain": [
       "DatasetDict({\n",
       "    validation: Dataset({\n",
       "        features: ['answers', 'passages', 'query', 'query_id', 'query_type', 'wellFormedAnswers'],\n",
       "        num_rows: 10047\n",
       "    })\n",
       "    train: Dataset({\n",
       "        features: ['answers', 'passages', 'query', 'query_id', 'query_type', 'wellFormedAnswers'],\n",
       "        num_rows: 82326\n",
       "    })\n",
       "    test: Dataset({\n",
       "        features: ['answers', 'passages', 'query', 'query_id', 'query_type', 'wellFormedAnswers'],\n",
       "        num_rows: 9650\n",
       "    })\n",
       "})"
      ]
     },
     "execution_count": 3,
     "metadata": {},
     "output_type": "execute_result"
    }
   ],
   "source": [
    "dataset"
   ]
  },
  {
   "cell_type": "code",
   "execution_count": 4,
   "id": "7845797a",
   "metadata": {
    "execution": {
     "iopub.execute_input": "2025-01-13T20:53:35.697161Z",
     "iopub.status.busy": "2025-01-13T20:53:35.696809Z",
     "iopub.status.idle": "2025-01-13T20:53:38.347335Z",
     "shell.execute_reply": "2025-01-13T20:53:38.347003Z"
    },
    "papermill": {
     "duration": 2.656135,
     "end_time": "2025-01-13T20:53:38.347945",
     "exception": false,
     "start_time": "2025-01-13T20:53:35.691810",
     "status": "completed"
    },
    "tags": []
   },
   "outputs": [],
   "source": [
    "dataset = load_dataset('ms_marco', 'v1.1', split='train')"
   ]
  },
  {
   "cell_type": "code",
   "execution_count": 5,
   "id": "cd1363b2",
   "metadata": {
    "execution": {
     "iopub.execute_input": "2025-01-13T20:53:38.357160Z",
     "iopub.status.busy": "2025-01-13T20:53:38.357026Z",
     "iopub.status.idle": "2025-01-13T20:53:38.359891Z",
     "shell.execute_reply": "2025-01-13T20:53:38.359568Z"
    },
    "papermill": {
     "duration": 0.007227,
     "end_time": "2025-01-13T20:53:38.360485",
     "exception": false,
     "start_time": "2025-01-13T20:53:38.353258",
     "status": "completed"
    },
    "tags": []
   },
   "outputs": [
    {
     "data": {
      "text/plain": [
       "Dataset({\n",
       "    features: ['answers', 'passages', 'query', 'query_id', 'query_type', 'wellFormedAnswers'],\n",
       "    num_rows: 82326\n",
       "})"
      ]
     },
     "execution_count": 5,
     "metadata": {},
     "output_type": "execute_result"
    }
   ],
   "source": [
    "dataset"
   ]
  },
  {
   "cell_type": "code",
   "execution_count": 6,
   "id": "b5173213",
   "metadata": {
    "execution": {
     "iopub.execute_input": "2025-01-13T20:53:38.367946Z",
     "iopub.status.busy": "2025-01-13T20:53:38.367691Z",
     "iopub.status.idle": "2025-01-13T20:53:38.370468Z",
     "shell.execute_reply": "2025-01-13T20:53:38.370161Z"
    },
    "papermill": {
     "duration": 0.007103,
     "end_time": "2025-01-13T20:53:38.371051",
     "exception": false,
     "start_time": "2025-01-13T20:53:38.363948",
     "status": "completed"
    },
    "tags": []
   },
   "outputs": [
    {
     "data": {
      "text/plain": [
       "datasets.arrow_dataset.Dataset"
      ]
     },
     "execution_count": 6,
     "metadata": {},
     "output_type": "execute_result"
    }
   ],
   "source": [
    "type(dataset)"
   ]
  },
  {
   "cell_type": "code",
   "execution_count": 7,
   "id": "5300701b",
   "metadata": {
    "execution": {
     "iopub.execute_input": "2025-01-13T20:53:38.378500Z",
     "iopub.status.busy": "2025-01-13T20:53:38.378374Z",
     "iopub.status.idle": "2025-01-13T20:53:38.381904Z",
     "shell.execute_reply": "2025-01-13T20:53:38.381485Z"
    },
    "papermill": {
     "duration": 0.007956,
     "end_time": "2025-01-13T20:53:38.382483",
     "exception": false,
     "start_time": "2025-01-13T20:53:38.374527",
     "status": "completed"
    },
    "tags": []
   },
   "outputs": [],
   "source": [
    "def preprocess(example):\n",
    "    positive_passages=[]\n",
    "    for p in enumerate(example['passages'][\"is_selected\"]):\n",
    "        if p[1]==1:\n",
    "            positive_passages.append(example[\"passages\"][\"passage_text\"][p[0]])\n",
    "    negative_passages = []\n",
    "    for p in enumerate(example['passages'][\"is_selected\"]):\n",
    "        if p[1]==0:\n",
    "            negative_passages.append(example[\"passages\"][\"passage_text\"][p[0]])\n",
    "    if (len(positive_passages)>0 and len(negative_passages)>=5):\n",
    "        positive = positive_passages[0]\n",
    "        negatives = negative_passages[:5]\n",
    "        return {\n",
    "            \"query\": example[\"query\"],\n",
    "            \"positive\": positive,\n",
    "            \"negatives\": negatives\n",
    "        }\n",
    "    else:\n",
    "        return {\"query\": None, \"positive\": None, \"negatives\": None}"
   ]
  },
  {
   "cell_type": "code",
   "execution_count": 8,
   "id": "453794aa",
   "metadata": {
    "execution": {
     "iopub.execute_input": "2025-01-13T20:53:38.390123Z",
     "iopub.status.busy": "2025-01-13T20:53:38.389884Z",
     "iopub.status.idle": "2025-01-13T20:53:38.395571Z",
     "shell.execute_reply": "2025-01-13T20:53:38.395180Z"
    },
    "papermill": {
     "duration": 0.010158,
     "end_time": "2025-01-13T20:53:38.396196",
     "exception": false,
     "start_time": "2025-01-13T20:53:38.386038",
     "status": "completed"
    },
    "tags": []
   },
   "outputs": [],
   "source": [
    "processed_data = dataset.map(preprocess, remove_columns=dataset.column_names)"
   ]
  },
  {
   "cell_type": "code",
   "execution_count": 9,
   "id": "e701cb74",
   "metadata": {
    "execution": {
     "iopub.execute_input": "2025-01-13T20:53:38.403885Z",
     "iopub.status.busy": "2025-01-13T20:53:38.403647Z",
     "iopub.status.idle": "2025-01-13T20:53:38.408267Z",
     "shell.execute_reply": "2025-01-13T20:53:38.407889Z"
    },
    "papermill": {
     "duration": 0.009022,
     "end_time": "2025-01-13T20:53:38.408875",
     "exception": false,
     "start_time": "2025-01-13T20:53:38.399853",
     "status": "completed"
    },
    "tags": []
   },
   "outputs": [],
   "source": [
    "processed_data = processed_data.filter(lambda x: x['query'] is not None and x['positive'] is not None)"
   ]
  },
  {
   "cell_type": "code",
   "execution_count": 10,
   "id": "1d2a345d",
   "metadata": {
    "execution": {
     "iopub.execute_input": "2025-01-13T20:53:38.416504Z",
     "iopub.status.busy": "2025-01-13T20:53:38.416270Z",
     "iopub.status.idle": "2025-01-13T20:53:43.741204Z",
     "shell.execute_reply": "2025-01-13T20:53:43.740413Z"
    },
    "papermill": {
     "duration": 5.329551,
     "end_time": "2025-01-13T20:53:43.742030",
     "exception": false,
     "start_time": "2025-01-13T20:53:38.412479",
     "status": "completed"
    },
    "tags": []
   },
   "outputs": [],
   "source": [
    "contrastive_pairs = []\n",
    "for item in processed_data:\n",
    "    query = item[\"query\"]\n",
    "    positive = item[\"positive\"]\n",
    "    negatives = item[\"negatives\"]\n",
    "    contrastive_pairs.append({\n",
    "        \"anchor\": query,\n",
    "        \"positive\": positive,\n",
    "        \"negatives\": negatives\n",
    "    })"
   ]
  },
  {
   "cell_type": "code",
   "execution_count": 11,
   "id": "7eacf6f8",
   "metadata": {
    "execution": {
     "iopub.execute_input": "2025-01-13T20:53:43.752738Z",
     "iopub.status.busy": "2025-01-13T20:53:43.752344Z",
     "iopub.status.idle": "2025-01-13T20:53:43.756140Z",
     "shell.execute_reply": "2025-01-13T20:53:43.755761Z"
    },
    "papermill": {
     "duration": 0.008967,
     "end_time": "2025-01-13T20:53:43.756780",
     "exception": false,
     "start_time": "2025-01-13T20:53:43.747813",
     "status": "completed"
    },
    "tags": []
   },
   "outputs": [
    {
     "data": {
      "text/plain": [
       "74538"
      ]
     },
     "execution_count": 11,
     "metadata": {},
     "output_type": "execute_result"
    }
   ],
   "source": [
    "len(contrastive_pairs)"
   ]
  },
  {
   "cell_type": "code",
   "execution_count": 12,
   "id": "6207fffd",
   "metadata": {
    "execution": {
     "iopub.execute_input": "2025-01-13T20:53:43.764594Z",
     "iopub.status.busy": "2025-01-13T20:53:43.764429Z",
     "iopub.status.idle": "2025-01-13T20:53:46.117211Z",
     "shell.execute_reply": "2025-01-13T20:53:46.116812Z"
    },
    "papermill": {
     "duration": 2.357474,
     "end_time": "2025-01-13T20:53:46.117940",
     "exception": false,
     "start_time": "2025-01-13T20:53:43.760466",
     "status": "completed"
    },
    "tags": []
   },
   "outputs": [],
   "source": [
    "from torch.utils.data import DataLoader"
   ]
  },
  {
   "cell_type": "code",
   "execution_count": 13,
   "id": "e3d13d7c",
   "metadata": {
    "execution": {
     "iopub.execute_input": "2025-01-13T20:53:46.126125Z",
     "iopub.status.busy": "2025-01-13T20:53:46.125979Z",
     "iopub.status.idle": "2025-01-13T20:53:46.128913Z",
     "shell.execute_reply": "2025-01-13T20:53:46.128526Z"
    },
    "papermill": {
     "duration": 0.007528,
     "end_time": "2025-01-13T20:53:46.129482",
     "exception": false,
     "start_time": "2025-01-13T20:53:46.121954",
     "status": "completed"
    },
    "tags": []
   },
   "outputs": [],
   "source": [
    "class ContrastiveDataset:\n",
    "    def __init__(self, pairs):\n",
    "        self.pairs = pairs\n",
    "\n",
    "    def __len__(self):\n",
    "        return len(self.pairs)\n",
    "\n",
    "    def __getitem__(self, idx):\n",
    "        item = self.pairs[idx]\n",
    "        return item[\"anchor\"], item[\"positive\"], item[\"negatives\"]"
   ]
  },
  {
   "cell_type": "code",
   "execution_count": 14,
   "id": "6ee97380",
   "metadata": {
    "execution": {
     "iopub.execute_input": "2025-01-13T20:53:46.137369Z",
     "iopub.status.busy": "2025-01-13T20:53:46.137233Z",
     "iopub.status.idle": "2025-01-13T20:53:46.139958Z",
     "shell.execute_reply": "2025-01-13T20:53:46.139602Z"
    },
    "papermill": {
     "duration": 0.007379,
     "end_time": "2025-01-13T20:53:46.140560",
     "exception": false,
     "start_time": "2025-01-13T20:53:46.133181",
     "status": "completed"
    },
    "tags": []
   },
   "outputs": [],
   "source": [
    "contrastive_dataset = ContrastiveDataset(contrastive_pairs)"
   ]
  },
  {
   "cell_type": "code",
   "execution_count": 15,
   "id": "6b9839d5",
   "metadata": {
    "execution": {
     "iopub.execute_input": "2025-01-13T20:53:46.148469Z",
     "iopub.status.busy": "2025-01-13T20:53:46.148292Z",
     "iopub.status.idle": "2025-01-13T20:53:46.150581Z",
     "shell.execute_reply": "2025-01-13T20:53:46.150263Z"
    },
    "papermill": {
     "duration": 0.006829,
     "end_time": "2025-01-13T20:53:46.151142",
     "exception": false,
     "start_time": "2025-01-13T20:53:46.144313",
     "status": "completed"
    },
    "tags": []
   },
   "outputs": [],
   "source": [
    "\n",
    "data_loader = DataLoader(contrastive_dataset, batch_size=32, shuffle=True)"
   ]
  },
  {
   "cell_type": "code",
   "execution_count": 16,
   "id": "6cfe3429",
   "metadata": {
    "execution": {
     "iopub.execute_input": "2025-01-13T20:53:46.159165Z",
     "iopub.status.busy": "2025-01-13T20:53:46.158948Z",
     "iopub.status.idle": "2025-01-13T20:53:46.161981Z",
     "shell.execute_reply": "2025-01-13T20:53:46.161676Z"
    },
    "papermill": {
     "duration": 0.007618,
     "end_time": "2025-01-13T20:53:46.162533",
     "exception": false,
     "start_time": "2025-01-13T20:53:46.154915",
     "status": "completed"
    },
    "tags": []
   },
   "outputs": [
    {
     "data": {
      "text/plain": [
       "2330"
      ]
     },
     "execution_count": 16,
     "metadata": {},
     "output_type": "execute_result"
    }
   ],
   "source": [
    "len(data_loader)"
   ]
  },
  {
   "cell_type": "code",
   "execution_count": 17,
   "id": "3ad0eda4",
   "metadata": {
    "execution": {
     "iopub.execute_input": "2025-01-13T20:53:46.170793Z",
     "iopub.status.busy": "2025-01-13T20:53:46.170454Z",
     "iopub.status.idle": "2025-01-13T20:53:47.847439Z",
     "shell.execute_reply": "2025-01-13T20:53:47.846867Z"
    },
    "papermill": {
     "duration": 1.681851,
     "end_time": "2025-01-13T20:53:47.848193",
     "exception": false,
     "start_time": "2025-01-13T20:53:46.166342",
     "status": "completed"
    },
    "tags": []
   },
   "outputs": [],
   "source": [
    "from transformers import AutoTokenizer, AutoModel\n",
    "tokenizer = AutoTokenizer.from_pretrained(\"bert-base-uncased\")"
   ]
  },
  {
   "cell_type": "code",
   "execution_count": 18,
   "id": "dfad9350",
   "metadata": {
    "execution": {
     "iopub.execute_input": "2025-01-13T20:53:47.859103Z",
     "iopub.status.busy": "2025-01-13T20:53:47.858718Z",
     "iopub.status.idle": "2025-01-13T20:53:48.252308Z",
     "shell.execute_reply": "2025-01-13T20:53:48.251670Z"
    },
    "papermill": {
     "duration": 0.398656,
     "end_time": "2025-01-13T20:53:48.253083",
     "exception": false,
     "start_time": "2025-01-13T20:53:47.854427",
     "status": "completed"
    },
    "tags": []
   },
   "outputs": [],
   "source": [
    "model = AutoModel.from_pretrained(\"bert-base-uncased\")"
   ]
  },
  {
   "cell_type": "code",
   "execution_count": 19,
   "id": "186f8a91",
   "metadata": {
    "execution": {
     "iopub.execute_input": "2025-01-13T20:53:48.261772Z",
     "iopub.status.busy": "2025-01-13T20:53:48.261602Z",
     "iopub.status.idle": "2025-01-13T20:53:48.346492Z",
     "shell.execute_reply": "2025-01-13T20:53:48.346031Z"
    },
    "papermill": {
     "duration": 0.08988,
     "end_time": "2025-01-13T20:53:48.347157",
     "exception": false,
     "start_time": "2025-01-13T20:53:48.257277",
     "status": "completed"
    },
    "tags": []
   },
   "outputs": [],
   "source": [
    "from peft import LoraConfig, get_peft_model"
   ]
  },
  {
   "cell_type": "code",
   "execution_count": 20,
   "id": "c9396888",
   "metadata": {
    "execution": {
     "iopub.execute_input": "2025-01-13T20:53:48.355745Z",
     "iopub.status.busy": "2025-01-13T20:53:48.355493Z",
     "iopub.status.idle": "2025-01-13T20:53:48.357800Z",
     "shell.execute_reply": "2025-01-13T20:53:48.357413Z"
    },
    "papermill": {
     "duration": 0.00718,
     "end_time": "2025-01-13T20:53:48.358423",
     "exception": false,
     "start_time": "2025-01-13T20:53:48.351243",
     "status": "completed"
    },
    "tags": []
   },
   "outputs": [],
   "source": [
    "lora_config = LoraConfig(\n",
    "    task_type= \"FEATURE_EXTRACTION\"\n",
    ")"
   ]
  },
  {
   "cell_type": "code",
   "execution_count": 21,
   "id": "4d7fe036",
   "metadata": {
    "execution": {
     "iopub.execute_input": "2025-01-13T20:53:48.366792Z",
     "iopub.status.busy": "2025-01-13T20:53:48.366553Z",
     "iopub.status.idle": "2025-01-13T20:53:48.687528Z",
     "shell.execute_reply": "2025-01-13T20:53:48.687021Z"
    },
    "papermill": {
     "duration": 0.325879,
     "end_time": "2025-01-13T20:53:48.688266",
     "exception": false,
     "start_time": "2025-01-13T20:53:48.362387",
     "status": "completed"
    },
    "tags": []
   },
   "outputs": [],
   "source": [
    "lora_model = get_peft_model(model, lora_config)"
   ]
  },
  {
   "cell_type": "code",
   "execution_count": 22,
   "id": "09aec526",
   "metadata": {
    "execution": {
     "iopub.execute_input": "2025-01-13T20:53:48.697226Z",
     "iopub.status.busy": "2025-01-13T20:53:48.696802Z",
     "iopub.status.idle": "2025-01-13T20:53:48.700479Z",
     "shell.execute_reply": "2025-01-13T20:53:48.700090Z"
    },
    "papermill": {
     "duration": 0.008602,
     "end_time": "2025-01-13T20:53:48.701047",
     "exception": false,
     "start_time": "2025-01-13T20:53:48.692445",
     "status": "completed"
    },
    "tags": []
   },
   "outputs": [
    {
     "name": "stdout",
     "output_type": "stream",
     "text": [
      "trainable params: 294,912 || all params: 109,777,152 || trainable%: 0.2686\n"
     ]
    }
   ],
   "source": [
    "lora_model.print_trainable_parameters()"
   ]
  },
  {
   "cell_type": "code",
   "execution_count": 23,
   "id": "139f2411",
   "metadata": {
    "execution": {
     "iopub.execute_input": "2025-01-13T20:53:48.709673Z",
     "iopub.status.busy": "2025-01-13T20:53:48.709372Z",
     "iopub.status.idle": "2025-01-13T20:53:48.711518Z",
     "shell.execute_reply": "2025-01-13T20:53:48.711129Z"
    },
    "papermill": {
     "duration": 0.007104,
     "end_time": "2025-01-13T20:53:48.712153",
     "exception": false,
     "start_time": "2025-01-13T20:53:48.705049",
     "status": "completed"
    },
    "tags": []
   },
   "outputs": [],
   "source": [
    "import torch"
   ]
  },
  {
   "cell_type": "code",
   "execution_count": 24,
   "id": "47fec710",
   "metadata": {
    "execution": {
     "iopub.execute_input": "2025-01-13T20:53:48.720781Z",
     "iopub.status.busy": "2025-01-13T20:53:48.720478Z",
     "iopub.status.idle": "2025-01-13T20:53:48.722807Z",
     "shell.execute_reply": "2025-01-13T20:53:48.722426Z"
    },
    "papermill": {
     "duration": 0.007254,
     "end_time": "2025-01-13T20:53:48.723424",
     "exception": false,
     "start_time": "2025-01-13T20:53:48.716170",
     "status": "completed"
    },
    "tags": []
   },
   "outputs": [],
   "source": [
    "def cosine_distance(x, y):\n",
    "    return 1 - torch.nn.functional.cosine_similarity(x, y, dim=-1)"
   ]
  },
  {
   "cell_type": "code",
   "execution_count": 25,
   "id": "36b11358",
   "metadata": {
    "execution": {
     "iopub.execute_input": "2025-01-13T20:53:48.732102Z",
     "iopub.status.busy": "2025-01-13T20:53:48.731802Z",
     "iopub.status.idle": "2025-01-13T20:53:48.734861Z",
     "shell.execute_reply": "2025-01-13T20:53:48.734452Z"
    },
    "papermill": {
     "duration": 0.007976,
     "end_time": "2025-01-13T20:53:48.735480",
     "exception": false,
     "start_time": "2025-01-13T20:53:48.727504",
     "status": "completed"
    },
    "tags": []
   },
   "outputs": [],
   "source": [
    "def info_nce_loss(anchor_embedding, positive_embedding, negative_embedding, distance_fn):\n",
    "    pos_dist = distance_fn(anchor_embedding, positive_embedding)\n",
    "    neg_dist = torch.stack([distance_fn(anchor_embedding, neg) for neg in negative_embedding], dim=-1)\n",
    "    \n",
    "    logits = torch.cat([-pos_dist.unsqueeze(1), -neg_dist], dim=1)\n",
    "    labels = torch.zeros(logits.size(0), dtype=torch.long, device=logits.device)\n",
    "\n",
    "    loss = torch.nn.CrossEntropyLoss()(logits, labels)\n",
    "    return loss"
   ]
  },
  {
   "cell_type": "code",
   "execution_count": 26,
   "id": "02659073",
   "metadata": {
    "execution": {
     "iopub.execute_input": "2025-01-13T20:53:48.744168Z",
     "iopub.status.busy": "2025-01-13T20:53:48.743870Z",
     "iopub.status.idle": "2025-01-13T20:53:48.746908Z",
     "shell.execute_reply": "2025-01-13T20:53:48.746535Z"
    },
    "papermill": {
     "duration": 0.007985,
     "end_time": "2025-01-13T20:53:48.747537",
     "exception": false,
     "start_time": "2025-01-13T20:53:48.739552",
     "status": "completed"
    },
    "tags": []
   },
   "outputs": [],
   "source": [
    "import torch.optim as optim\n",
    "optimizer = torch.optim.AdamW(lora_model.parameters(), lr=5e-5)"
   ]
  },
  {
   "cell_type": "code",
   "execution_count": 27,
   "id": "9a6ce5c8",
   "metadata": {
    "execution": {
     "iopub.execute_input": "2025-01-13T20:53:48.756251Z",
     "iopub.status.busy": "2025-01-13T20:53:48.755943Z",
     "iopub.status.idle": "2025-01-13T20:53:49.106797Z",
     "shell.execute_reply": "2025-01-13T20:53:49.106299Z"
    },
    "papermill": {
     "duration": 0.355878,
     "end_time": "2025-01-13T20:53:49.107488",
     "exception": false,
     "start_time": "2025-01-13T20:53:48.751610",
     "status": "completed"
    },
    "tags": []
   },
   "outputs": [],
   "source": [
    "device = torch.device('cuda' if torch.cuda.is_available() else 'cpu')"
   ]
  },
  {
   "cell_type": "code",
   "execution_count": 28,
   "id": "846477cf",
   "metadata": {
    "execution": {
     "iopub.execute_input": "2025-01-13T20:53:49.117010Z",
     "iopub.status.busy": "2025-01-13T20:53:49.116425Z",
     "iopub.status.idle": "2025-01-13T20:53:49.909575Z",
     "shell.execute_reply": "2025-01-13T20:53:49.909052Z"
    },
    "papermill": {
     "duration": 0.798445,
     "end_time": "2025-01-13T20:53:49.910340",
     "exception": false,
     "start_time": "2025-01-13T20:53:49.111895",
     "status": "completed"
    },
    "tags": []
   },
   "outputs": [],
   "source": [
    "lora_model = lora_model.to(device)"
   ]
  },
  {
   "cell_type": "code",
   "execution_count": 29,
   "id": "adf7e0a8",
   "metadata": {
    "execution": {
     "iopub.execute_input": "2025-01-13T20:53:49.919910Z",
     "iopub.status.busy": "2025-01-13T20:53:49.919486Z",
     "iopub.status.idle": "2025-01-13T20:53:53.863376Z",
     "shell.execute_reply": "2025-01-13T20:53:53.862725Z"
    },
    "papermill": {
     "duration": 3.949162,
     "end_time": "2025-01-13T20:53:53.864045",
     "exception": false,
     "start_time": "2025-01-13T20:53:49.914883",
     "status": "completed"
    },
    "tags": []
   },
   "outputs": [
    {
     "data": {
      "text/plain": [
       "284"
      ]
     },
     "execution_count": 29,
     "metadata": {},
     "output_type": "execute_result"
    }
   ],
   "source": [
    "dataset_val = load_dataset('ms_marco', 'v1.1', split='validation')\n",
    "processed_data_val = dataset_val.map(preprocess, remove_columns=dataset_val.column_names)\n",
    "processed_data_val = processed_data_val.filter(lambda x: x['query'] is not None and x['positive'] is not None)\n",
    "contrastive_pairs_val = []\n",
    "for item in processed_data_val:\n",
    "    query = item[\"query\"]\n",
    "    positive = item[\"positive\"]\n",
    "    negatives = item[\"negatives\"]\n",
    "    contrastive_pairs_val.append({\n",
    "        \"anchor\": query,\n",
    "        \"positive\": positive,\n",
    "        \"negatives\": negatives\n",
    "    })\n",
    "contrastive_dataset_val = ContrastiveDataset(contrastive_pairs_val)\n",
    "data_loader_val = DataLoader(contrastive_dataset_val, batch_size=32, shuffle=True)\n",
    "len(data_loader_val)"
   ]
  },
  {
   "cell_type": "code",
   "execution_count": 30,
   "id": "1c57ecde",
   "metadata": {
    "execution": {
     "iopub.execute_input": "2025-01-13T20:53:53.875641Z",
     "iopub.status.busy": "2025-01-13T20:53:53.875256Z",
     "iopub.status.idle": "2025-01-13T20:53:53.878514Z",
     "shell.execute_reply": "2025-01-13T20:53:53.878129Z"
    },
    "papermill": {
     "duration": 0.00871,
     "end_time": "2025-01-13T20:53:53.879129",
     "exception": false,
     "start_time": "2025-01-13T20:53:53.870419",
     "status": "completed"
    },
    "tags": []
   },
   "outputs": [],
   "source": [
    "def avg_embedding(inputs, model):\n",
    "    input=model(**inputs)\n",
    "    input_last_hidden_state=input.last_hidden_state\n",
    "    input_attention_mask = inputs['attention_mask']\n",
    "    input_masked_embeddings = input_last_hidden_state * input_attention_mask.unsqueeze(-1)\n",
    "    input_sum_embeddings = torch.sum(input_masked_embeddings, dim=1)\n",
    "    input_token_counts = torch.sum(input_attention_mask, dim=1).unsqueeze(-1)\n",
    "    input_avg_embeddings = input_sum_embeddings / input_token_counts\n",
    "    return(input_avg_embeddings)"
   ]
  },
  {
   "cell_type": "code",
   "execution_count": 31,
   "id": "7d1e920c",
   "metadata": {
    "execution": {
     "iopub.execute_input": "2025-01-13T20:53:53.888475Z",
     "iopub.status.busy": "2025-01-13T20:53:53.888033Z",
     "iopub.status.idle": "2025-01-13T20:53:53.893050Z",
     "shell.execute_reply": "2025-01-13T20:53:53.892600Z"
    },
    "papermill": {
     "duration": 0.010193,
     "end_time": "2025-01-13T20:53:53.893669",
     "exception": false,
     "start_time": "2025-01-13T20:53:53.883476",
     "status": "completed"
    },
    "tags": []
   },
   "outputs": [],
   "source": [
    "def evaluate_mrr(model, data_loader_val, distance_fn):\n",
    "    model.eval()  \n",
    "\n",
    "    total_rr = 0.0\n",
    "    num_queries = 0\n",
    "\n",
    "    with torch.no_grad():\n",
    "        for batch in data_loader_val:\n",
    "            anchor_text = batch[0]\n",
    "            positive_text = batch[1]\n",
    "            negative_texts = batch[2]\n",
    "\n",
    "            anchor_input = tokenizer(anchor_text, return_tensors='pt', padding=True, truncation=True, max_length=512).to(device)\n",
    "            positive_input = tokenizer(positive_text, return_tensors='pt', padding=True, truncation=True, max_length=512).to(device)\n",
    "\n",
    "            anchor_embedding = avg_embedding(anchor_input, model)\n",
    "            positive_embedding = avg_embedding(positive_input, model)\n",
    "            negative_embedding = [avg_embedding(tokenizer(neg, return_tensors='pt', padding=True, truncation=True, max_length=512).to(device), model) for neg in negative_texts]\n",
    "\n",
    "            pos_dist = distance_fn(anchor_embedding, positive_embedding)\n",
    "            neg_dist = torch.stack([distance_fn(anchor_embedding, neg) for neg in negative_embedding], dim=-1)\n",
    "            all_similarities=torch.cat([-pos_dist.unsqueeze(1), -neg_dist], dim=1)\n",
    "            \n",
    "            sorted_similarities, sorted_indices = torch.sort(all_similarities, dim=1, descending=True)\n",
    "\n",
    "            # Find the rank of the first relevant (positive) document\n",
    "            positive_rank = (sorted_indices == 0).nonzero(as_tuple=True)[1] + 1  # +1 to make rank 1-based\n",
    "            total_rr += torch.sum(1.0 / positive_rank.float()).item()  # Reciprocal rank\n",
    "            num_queries += len(positive_rank)\n",
    "\n",
    "    mrr = total_rr / num_queries\n",
    "    return mrr"
   ]
  },
  {
   "cell_type": "code",
   "execution_count": 32,
   "id": "71444f3c",
   "metadata": {
    "execution": {
     "iopub.execute_input": "2025-01-13T20:53:53.902924Z",
     "iopub.status.busy": "2025-01-13T20:53:53.902572Z",
     "iopub.status.idle": "2025-01-13T20:53:53.905032Z",
     "shell.execute_reply": "2025-01-13T20:53:53.904648Z"
    },
    "papermill": {
     "duration": 0.00759,
     "end_time": "2025-01-13T20:53:53.905586",
     "exception": false,
     "start_time": "2025-01-13T20:53:53.897996",
     "status": "completed"
    },
    "tags": []
   },
   "outputs": [],
   "source": [
    "num_epochs=3\n",
    "import os\n",
    "save_dir =\"/dss/dsshome1/07/ra65bex2/srawat/app_average\""
   ]
  },
  {
   "cell_type": "code",
   "execution_count": 33,
   "id": "2ce3b354",
   "metadata": {
    "execution": {
     "iopub.execute_input": "2025-01-13T20:53:53.914820Z",
     "iopub.status.busy": "2025-01-13T20:53:53.914503Z",
     "iopub.status.idle": "2025-01-13T20:53:53.916891Z",
     "shell.execute_reply": "2025-01-13T20:53:53.916473Z"
    },
    "papermill": {
     "duration": 0.007572,
     "end_time": "2025-01-13T20:53:53.917502",
     "exception": false,
     "start_time": "2025-01-13T20:53:53.909930",
     "status": "completed"
    },
    "tags": []
   },
   "outputs": [],
   "source": [
    "import time\n",
    "epoch_metrics = []"
   ]
  },
  {
   "cell_type": "code",
   "execution_count": 34,
   "id": "29036421",
   "metadata": {
    "execution": {
     "iopub.execute_input": "2025-01-13T20:53:53.926718Z",
     "iopub.status.busy": "2025-01-13T20:53:53.926401Z",
     "iopub.status.idle": "2025-01-13T22:34:27.937901Z",
     "shell.execute_reply": "2025-01-13T22:34:27.937344Z"
    },
    "papermill": {
     "duration": 6034.022972,
     "end_time": "2025-01-13T22:34:27.944834",
     "exception": false,
     "start_time": "2025-01-13T20:53:53.921862",
     "status": "completed"
    },
    "tags": []
   },
   "outputs": [
    {
     "name": "stdout",
     "output_type": "stream",
     "text": [
      "EPOCH 1:\n",
      "Checkpoint saved: /dss/dsshome1/07/ra65bex2/srawat/app_average/average_checkpoint_epoch_1.pth\n",
      "Epoch 1/3, Training Loss: 1.7091659943944906\n"
     ]
    },
    {
     "name": "stdout",
     "output_type": "stream",
     "text": [
      "Mean Reciprocal Rank (MRR) for validation set: 0.5462\n",
      "Epoch 1 took 33.5318 minutes.\n",
      "\n",
      "\n"
     ]
    },
    {
     "name": "stdout",
     "output_type": "stream",
     "text": [
      "EPOCH 2:\n",
      "Checkpoint saved: /dss/dsshome1/07/ra65bex2/srawat/app_average/average_checkpoint_epoch_2.pth\n",
      "Epoch 2/3, Training Loss: 1.6585854549264702\n"
     ]
    },
    {
     "name": "stdout",
     "output_type": "stream",
     "text": [
      "Mean Reciprocal Rank (MRR) for validation set: 0.5528\n",
      "Epoch 2 took 33.5262 minutes.\n",
      "\n",
      "\n"
     ]
    },
    {
     "name": "stdout",
     "output_type": "stream",
     "text": [
      "EPOCH 3:\n",
      "Checkpoint saved: /dss/dsshome1/07/ra65bex2/srawat/app_average/average_checkpoint_epoch_3.pth\n",
      "Epoch 3/3, Training Loss: 1.6465141559363434\n"
     ]
    },
    {
     "name": "stdout",
     "output_type": "stream",
     "text": [
      "Mean Reciprocal Rank (MRR) for validation set: 0.5581\n",
      "Epoch 3 took 33.5088 minutes.\n",
      "\n",
      "\n"
     ]
    }
   ],
   "source": [
    "for epoch in range(num_epochs):\n",
    "    start_time = time.time()\n",
    "    lora_model.train()\n",
    "    \n",
    "    total_loss = 0.0\n",
    "    for batch in data_loader:\n",
    "        \n",
    "        anchor_texts = batch[0]\n",
    "        positive_texts = batch[1]\n",
    "        negative_texts = batch[2]\n",
    "     \n",
    "        anchor_inputs = tokenizer(anchor_texts, return_tensors='pt', padding=True, truncation=True, max_length=512).to(device)\n",
    "        positive_inputs = tokenizer(positive_texts, return_tensors='pt', padding=True, truncation=True, max_length=512).to(device)\n",
    "    \n",
    "        anchor_embedding = avg_embedding(anchor_inputs, lora_model)\n",
    "        positive_embedding = avg_embedding(positive_inputs, lora_model)\n",
    "        negative_embedding = [avg_embedding(tokenizer(neg, return_tensors='pt', padding=True, truncation=True, max_length=512).to(device), lora_model) for neg in negative_texts]\n",
    "\n",
    "        loss = info_nce_loss(anchor_embedding, positive_embedding, negative_embedding, distance_fn=cosine_distance)\n",
    "        \n",
    "        optimizer.zero_grad()\n",
    "        loss.backward() \n",
    "        optimizer.step()\n",
    "        \n",
    "        total_loss += loss.item()\n",
    "    save_path = os.path.join(save_dir, f\"average_checkpoint_epoch_{epoch+1}.pth\")\n",
    "    torch.save(lora_model, save_path)\n",
    "    print(f\"EPOCH {epoch+1}:\")\n",
    "    print(f\"Checkpoint saved: {save_path}\")\n",
    "\n",
    "    print(f\"Epoch {epoch+1}/{num_epochs}, Training Loss: {total_loss / len(data_loader)}\")\n",
    "    mrr_validation = evaluate_mrr(lora_model, data_loader_val, cosine_distance)\n",
    "    print(f\"Mean Reciprocal Rank (MRR) for validation set: {mrr_validation:.4f}\")\n",
    "    end_time = time.time()\n",
    "    print(f\"Epoch {epoch+1} took {(end_time - start_time) / 60:.4f} minutes.\")\n",
    "    print(f\"\\n\")\n",
    "    epoch_metrics.append({\n",
    "        'epoch': epoch + 1,\n",
    "        'training_loss': total_loss / len(data_loader),\n",
    "        'mrr_validation': mrr_validation,\n",
    "        'time_taken_minutes': (end_time - start_time) / 60\n",
    "    })"
   ]
  },
  {
   "cell_type": "code",
   "execution_count": 35,
   "id": "99942aef",
   "metadata": {
    "execution": {
     "iopub.execute_input": "2025-01-13T22:34:27.956786Z",
     "iopub.status.busy": "2025-01-13T22:34:27.956374Z",
     "iopub.status.idle": "2025-01-13T22:34:27.959297Z",
     "shell.execute_reply": "2025-01-13T22:34:27.958953Z"
    },
    "papermill": {
     "duration": 0.008943,
     "end_time": "2025-01-13T22:34:27.959903",
     "exception": false,
     "start_time": "2025-01-13T22:34:27.950960",
     "status": "completed"
    },
    "tags": []
   },
   "outputs": [],
   "source": [
    "import json"
   ]
  },
  {
   "cell_type": "code",
   "execution_count": 36,
   "id": "e4bd0093",
   "metadata": {
    "execution": {
     "iopub.execute_input": "2025-01-13T22:34:27.969703Z",
     "iopub.status.busy": "2025-01-13T22:34:27.969574Z",
     "iopub.status.idle": "2025-01-13T22:34:28.026133Z",
     "shell.execute_reply": "2025-01-13T22:34:28.025754Z"
    },
    "papermill": {
     "duration": 0.062011,
     "end_time": "2025-01-13T22:34:28.026745",
     "exception": false,
     "start_time": "2025-01-13T22:34:27.964734",
     "status": "completed"
    },
    "tags": []
   },
   "outputs": [],
   "source": [
    "with open(save_dir + '/average_epoch_metrics.json', 'w') as f:\n",
    "    json.dump(epoch_metrics, f)"
   ]
  },
  {
   "cell_type": "code",
   "execution_count": null,
   "id": "696820e4",
   "metadata": {
    "papermill": {
     "duration": 0.004473,
     "end_time": "2025-01-13T22:34:28.035912",
     "exception": false,
     "start_time": "2025-01-13T22:34:28.031439",
     "status": "completed"
    },
    "tags": []
   },
   "outputs": [],
   "source": []
  }
 ],
 "metadata": {
  "kernelspec": {
   "display_name": "Python (myenv)",
   "language": "python",
   "name": "myenv"
  },
  "language_info": {
   "codemirror_mode": {
    "name": "ipython",
    "version": 3
   },
   "file_extension": ".py",
   "mimetype": "text/x-python",
   "name": "python",
   "nbconvert_exporter": "python",
   "pygments_lexer": "ipython3",
   "version": "3.12.7"
  },
  "papermill": {
   "default_parameters": {},
   "duration": 6060.744651,
   "end_time": "2025-01-13T22:34:29.656038",
   "environment_variables": {},
   "exception": null,
   "input_path": "app_average.ipynb",
   "output_path": "app_average_output.ipynb",
   "parameters": {},
   "start_time": "2025-01-13T20:53:28.911387",
   "version": "2.6.0"
  }
 },
 "nbformat": 4,
 "nbformat_minor": 5
}
