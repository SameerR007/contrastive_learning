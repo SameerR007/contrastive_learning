{
 "cells": [
  {
   "cell_type": "code",
   "execution_count": 1,
   "id": "985800ca",
   "metadata": {
    "execution": {
     "iopub.execute_input": "2025-03-12T16:51:52.362391Z",
     "iopub.status.busy": "2025-03-12T16:51:52.362253Z",
     "iopub.status.idle": "2025-03-12T16:51:58.087289Z",
     "shell.execute_reply": "2025-03-12T16:51:58.086833Z"
    },
    "papermill": {
     "duration": 5.730847,
     "end_time": "2025-03-12T16:51:58.088244",
     "exception": false,
     "start_time": "2025-03-12T16:51:52.357397",
     "status": "completed"
    },
    "tags": []
   },
   "outputs": [],
   "source": [
    "from datasets import load_dataset"
   ]
  },
  {
   "cell_type": "code",
   "execution_count": 2,
   "id": "0b3c0f3b",
   "metadata": {
    "execution": {
     "iopub.execute_input": "2025-03-12T16:51:58.096987Z",
     "iopub.status.busy": "2025-03-12T16:51:58.096719Z",
     "iopub.status.idle": "2025-03-12T16:52:07.762925Z",
     "shell.execute_reply": "2025-03-12T16:52:07.762490Z"
    },
    "papermill": {
     "duration": 9.671424,
     "end_time": "2025-03-12T16:52:07.763826",
     "exception": false,
     "start_time": "2025-03-12T16:51:58.092402",
     "status": "completed"
    },
    "tags": []
   },
   "outputs": [],
   "source": [
    "dataset_train = load_dataset('ms_marco', 'v1.1', split='train')"
   ]
  },
  {
   "cell_type": "code",
   "execution_count": 3,
   "id": "2ed75519",
   "metadata": {
    "execution": {
     "iopub.execute_input": "2025-03-12T16:52:07.773954Z",
     "iopub.status.busy": "2025-03-12T16:52:07.773650Z",
     "iopub.status.idle": "2025-03-12T16:52:07.778117Z",
     "shell.execute_reply": "2025-03-12T16:52:07.777710Z"
    },
    "papermill": {
     "duration": 0.009383,
     "end_time": "2025-03-12T16:52:07.778983",
     "exception": false,
     "start_time": "2025-03-12T16:52:07.769600",
     "status": "completed"
    },
    "tags": []
   },
   "outputs": [
    {
     "data": {
      "text/plain": [
       "Dataset({\n",
       "    features: ['answers', 'passages', 'query', 'query_id', 'query_type', 'wellFormedAnswers'],\n",
       "    num_rows: 82326\n",
       "})"
      ]
     },
     "execution_count": 3,
     "metadata": {},
     "output_type": "execute_result"
    }
   ],
   "source": [
    "dataset_train"
   ]
  },
  {
   "cell_type": "code",
   "execution_count": 4,
   "id": "af1ca589",
   "metadata": {
    "execution": {
     "iopub.execute_input": "2025-03-12T16:52:07.787734Z",
     "iopub.status.busy": "2025-03-12T16:52:07.787354Z",
     "iopub.status.idle": "2025-03-12T16:52:07.796906Z",
     "shell.execute_reply": "2025-03-12T16:52:07.796544Z"
    },
    "papermill": {
     "duration": 0.014939,
     "end_time": "2025-03-12T16:52:07.797595",
     "exception": false,
     "start_time": "2025-03-12T16:52:07.782656",
     "status": "completed"
    },
    "tags": []
   },
   "outputs": [],
   "source": [
    "def preprocess(example):\n",
    "    positive_passages=[]\n",
    "    for p in enumerate(example['passages'][\"is_selected\"]):\n",
    "        if p[1]==1:\n",
    "            positive_passages.append(example[\"passages\"][\"passage_text\"][p[0]])\n",
    "    negative_passages = []\n",
    "    for p in enumerate(example['passages'][\"is_selected\"]):\n",
    "        if p[1]==0:\n",
    "            negative_passages.append(example[\"passages\"][\"passage_text\"][p[0]])\n",
    "    if (len(positive_passages)>0 and len(negative_passages)>=5):\n",
    "        positive = positive_passages[0]\n",
    "        negatives = negative_passages[:5]\n",
    "        return {\n",
    "            \"query\": example[\"query\"],\n",
    "            \"positive\": positive,\n",
    "            \"negatives\": negatives\n",
    "        }\n",
    "    else:\n",
    "        return {\"query\": None, \"positive\": None, \"negatives\": None}"
   ]
  },
  {
   "cell_type": "code",
   "execution_count": 5,
   "id": "f153651d",
   "metadata": {
    "execution": {
     "iopub.execute_input": "2025-03-12T16:52:07.805847Z",
     "iopub.status.busy": "2025-03-12T16:52:07.805471Z",
     "iopub.status.idle": "2025-03-12T16:52:07.822039Z",
     "shell.execute_reply": "2025-03-12T16:52:07.821675Z"
    },
    "papermill": {
     "duration": 0.021373,
     "end_time": "2025-03-12T16:52:07.822708",
     "exception": false,
     "start_time": "2025-03-12T16:52:07.801335",
     "status": "completed"
    },
    "tags": []
   },
   "outputs": [],
   "source": [
    "processed_data_train = dataset_train.map(preprocess, remove_columns=dataset_train.column_names)"
   ]
  },
  {
   "cell_type": "code",
   "execution_count": 6,
   "id": "83148f93",
   "metadata": {
    "execution": {
     "iopub.execute_input": "2025-03-12T16:52:07.830866Z",
     "iopub.status.busy": "2025-03-12T16:52:07.830597Z",
     "iopub.status.idle": "2025-03-12T16:52:07.839250Z",
     "shell.execute_reply": "2025-03-12T16:52:07.838896Z"
    },
    "papermill": {
     "duration": 0.013479,
     "end_time": "2025-03-12T16:52:07.839925",
     "exception": false,
     "start_time": "2025-03-12T16:52:07.826446",
     "status": "completed"
    },
    "tags": []
   },
   "outputs": [],
   "source": [
    "processed_data_train = processed_data_train.filter(lambda x: x['query'] is not None and x['positive'] is not None)"
   ]
  },
  {
   "cell_type": "code",
   "execution_count": 7,
   "id": "4f58c7b8",
   "metadata": {
    "execution": {
     "iopub.execute_input": "2025-03-12T16:52:07.848076Z",
     "iopub.status.busy": "2025-03-12T16:52:07.847826Z",
     "iopub.status.idle": "2025-03-12T16:52:12.946385Z",
     "shell.execute_reply": "2025-03-12T16:52:12.945902Z"
    },
    "papermill": {
     "duration": 5.103557,
     "end_time": "2025-03-12T16:52:12.947228",
     "exception": false,
     "start_time": "2025-03-12T16:52:07.843671",
     "status": "completed"
    },
    "tags": []
   },
   "outputs": [],
   "source": [
    "contrastive_pairs_train = []\n",
    "for item in processed_data_train:\n",
    "    query = item[\"query\"]\n",
    "    positive = item[\"positive\"]\n",
    "    negatives = item[\"negatives\"]\n",
    "    contrastive_pairs_train.append({\n",
    "        \"anchor\": query,\n",
    "        \"positive\": positive,\n",
    "        \"negatives\": negatives\n",
    "    })"
   ]
  },
  {
   "cell_type": "code",
   "execution_count": 8,
   "id": "8a0bc1db",
   "metadata": {
    "execution": {
     "iopub.execute_input": "2025-03-12T16:52:12.956095Z",
     "iopub.status.busy": "2025-03-12T16:52:12.955822Z",
     "iopub.status.idle": "2025-03-12T16:52:12.958825Z",
     "shell.execute_reply": "2025-03-12T16:52:12.958449Z"
    },
    "papermill": {
     "duration": 0.007952,
     "end_time": "2025-03-12T16:52:12.959507",
     "exception": false,
     "start_time": "2025-03-12T16:52:12.951555",
     "status": "completed"
    },
    "tags": []
   },
   "outputs": [
    {
     "data": {
      "text/plain": [
       "74538"
      ]
     },
     "execution_count": 8,
     "metadata": {},
     "output_type": "execute_result"
    }
   ],
   "source": [
    "len(contrastive_pairs_train)"
   ]
  },
  {
   "cell_type": "code",
   "execution_count": 9,
   "id": "0c965301",
   "metadata": {
    "execution": {
     "iopub.execute_input": "2025-03-12T16:52:12.967805Z",
     "iopub.status.busy": "2025-03-12T16:52:12.967672Z",
     "iopub.status.idle": "2025-03-12T16:52:19.085319Z",
     "shell.execute_reply": "2025-03-12T16:52:19.084736Z"
    },
    "papermill": {
     "duration": 6.122886,
     "end_time": "2025-03-12T16:52:19.086266",
     "exception": false,
     "start_time": "2025-03-12T16:52:12.963380",
     "status": "completed"
    },
    "tags": []
   },
   "outputs": [],
   "source": [
    "from torch.utils.data import DataLoader"
   ]
  },
  {
   "cell_type": "code",
   "execution_count": 10,
   "id": "cd59c572",
   "metadata": {
    "execution": {
     "iopub.execute_input": "2025-03-12T16:52:19.097137Z",
     "iopub.status.busy": "2025-03-12T16:52:19.096942Z",
     "iopub.status.idle": "2025-03-12T16:52:19.100054Z",
     "shell.execute_reply": "2025-03-12T16:52:19.099617Z"
    },
    "papermill": {
     "duration": 0.008349,
     "end_time": "2025-03-12T16:52:19.100665",
     "exception": false,
     "start_time": "2025-03-12T16:52:19.092316",
     "status": "completed"
    },
    "tags": []
   },
   "outputs": [],
   "source": [
    "class ContrastiveDataset:\n",
    "    def __init__(self, pairs):\n",
    "        self.pairs = pairs\n",
    "\n",
    "    def __len__(self):\n",
    "        return len(self.pairs)\n",
    "\n",
    "    def __getitem__(self, idx):\n",
    "        item = self.pairs[idx]\n",
    "        return item[\"anchor\"], item[\"positive\"], item[\"negatives\"]"
   ]
  },
  {
   "cell_type": "code",
   "execution_count": 11,
   "id": "8a1c8b54",
   "metadata": {
    "execution": {
     "iopub.execute_input": "2025-03-12T16:52:19.109043Z",
     "iopub.status.busy": "2025-03-12T16:52:19.108897Z",
     "iopub.status.idle": "2025-03-12T16:52:19.116146Z",
     "shell.execute_reply": "2025-03-12T16:52:19.115841Z"
    },
    "papermill": {
     "duration": 0.012192,
     "end_time": "2025-03-12T16:52:19.116716",
     "exception": false,
     "start_time": "2025-03-12T16:52:19.104524",
     "status": "completed"
    },
    "tags": []
   },
   "outputs": [],
   "source": [
    "contrastive_dataset_train = ContrastiveDataset(contrastive_pairs_train)"
   ]
  },
  {
   "cell_type": "code",
   "execution_count": 12,
   "id": "3296eca2",
   "metadata": {
    "execution": {
     "iopub.execute_input": "2025-03-12T16:52:19.125002Z",
     "iopub.status.busy": "2025-03-12T16:52:19.124875Z",
     "iopub.status.idle": "2025-03-12T16:52:19.134669Z",
     "shell.execute_reply": "2025-03-12T16:52:19.134341Z"
    },
    "papermill": {
     "duration": 0.014583,
     "end_time": "2025-03-12T16:52:19.135213",
     "exception": false,
     "start_time": "2025-03-12T16:52:19.120630",
     "status": "completed"
    },
    "tags": []
   },
   "outputs": [],
   "source": [
    "data_loader_train = DataLoader(contrastive_dataset_train, batch_size=32, shuffle=True)"
   ]
  },
  {
   "cell_type": "code",
   "execution_count": 13,
   "id": "8c530555",
   "metadata": {
    "execution": {
     "iopub.execute_input": "2025-03-12T16:52:19.143465Z",
     "iopub.status.busy": "2025-03-12T16:52:19.143338Z",
     "iopub.status.idle": "2025-03-12T16:52:19.150353Z",
     "shell.execute_reply": "2025-03-12T16:52:19.150062Z"
    },
    "papermill": {
     "duration": 0.011864,
     "end_time": "2025-03-12T16:52:19.150961",
     "exception": false,
     "start_time": "2025-03-12T16:52:19.139097",
     "status": "completed"
    },
    "tags": []
   },
   "outputs": [
    {
     "data": {
      "text/plain": [
       "2330"
      ]
     },
     "execution_count": 13,
     "metadata": {},
     "output_type": "execute_result"
    }
   ],
   "source": [
    "len(data_loader_train)"
   ]
  },
  {
   "cell_type": "code",
   "execution_count": 14,
   "id": "c3a5ff2e",
   "metadata": {
    "execution": {
     "iopub.execute_input": "2025-03-12T16:52:19.159377Z",
     "iopub.status.busy": "2025-03-12T16:52:19.159251Z",
     "iopub.status.idle": "2025-03-12T16:52:32.838675Z",
     "shell.execute_reply": "2025-03-12T16:52:32.838252Z"
    },
    "papermill": {
     "duration": 13.684608,
     "end_time": "2025-03-12T16:52:32.839551",
     "exception": false,
     "start_time": "2025-03-12T16:52:19.154943",
     "status": "completed"
    },
    "tags": []
   },
   "outputs": [],
   "source": [
    "from transformers import AutoTokenizer, AutoModel\n",
    "tokenizer = AutoTokenizer.from_pretrained(\"bert-base-uncased\")"
   ]
  },
  {
   "cell_type": "code",
   "execution_count": 15,
   "id": "d515bcd9",
   "metadata": {
    "execution": {
     "iopub.execute_input": "2025-03-12T16:52:32.850520Z",
     "iopub.status.busy": "2025-03-12T16:52:32.850280Z",
     "iopub.status.idle": "2025-03-12T16:52:37.594481Z",
     "shell.execute_reply": "2025-03-12T16:52:37.594076Z"
    },
    "papermill": {
     "duration": 4.749577,
     "end_time": "2025-03-12T16:52:37.595341",
     "exception": false,
     "start_time": "2025-03-12T16:52:32.845764",
     "status": "completed"
    },
    "tags": []
   },
   "outputs": [],
   "source": [
    "model = AutoModel.from_pretrained(\"bert-base-uncased\")"
   ]
  },
  {
   "cell_type": "code",
   "execution_count": 16,
   "id": "ce3eb1af",
   "metadata": {
    "execution": {
     "iopub.execute_input": "2025-03-12T16:52:37.606262Z",
     "iopub.status.busy": "2025-03-12T16:52:37.606125Z",
     "iopub.status.idle": "2025-03-12T16:52:38.297258Z",
     "shell.execute_reply": "2025-03-12T16:52:38.296745Z"
    },
    "papermill": {
     "duration": 0.696364,
     "end_time": "2025-03-12T16:52:38.297985",
     "exception": false,
     "start_time": "2025-03-12T16:52:37.601621",
     "status": "completed"
    },
    "tags": []
   },
   "outputs": [],
   "source": [
    "from peft import LoraConfig, get_peft_model"
   ]
  },
  {
   "cell_type": "code",
   "execution_count": 17,
   "id": "87a906a0",
   "metadata": {
    "execution": {
     "iopub.execute_input": "2025-03-12T16:52:38.306747Z",
     "iopub.status.busy": "2025-03-12T16:52:38.306611Z",
     "iopub.status.idle": "2025-03-12T16:52:38.308686Z",
     "shell.execute_reply": "2025-03-12T16:52:38.308387Z"
    },
    "papermill": {
     "duration": 0.007083,
     "end_time": "2025-03-12T16:52:38.309230",
     "exception": false,
     "start_time": "2025-03-12T16:52:38.302147",
     "status": "completed"
    },
    "tags": []
   },
   "outputs": [],
   "source": [
    "lora_config = LoraConfig(\n",
    "    task_type= \"FEATURE_EXTRACTION\"\n",
    ")"
   ]
  },
  {
   "cell_type": "code",
   "execution_count": 18,
   "id": "0d7e9927",
   "metadata": {
    "execution": {
     "iopub.execute_input": "2025-03-12T16:52:38.317777Z",
     "iopub.status.busy": "2025-03-12T16:52:38.317651Z",
     "iopub.status.idle": "2025-03-12T16:52:38.347226Z",
     "shell.execute_reply": "2025-03-12T16:52:38.346904Z"
    },
    "papermill": {
     "duration": 0.034546,
     "end_time": "2025-03-12T16:52:38.347802",
     "exception": false,
     "start_time": "2025-03-12T16:52:38.313256",
     "status": "completed"
    },
    "tags": []
   },
   "outputs": [],
   "source": [
    "lora_model = get_peft_model(model, lora_config)"
   ]
  },
  {
   "cell_type": "code",
   "execution_count": 19,
   "id": "48f24844",
   "metadata": {
    "execution": {
     "iopub.execute_input": "2025-03-12T16:52:38.356497Z",
     "iopub.status.busy": "2025-03-12T16:52:38.356368Z",
     "iopub.status.idle": "2025-03-12T16:52:38.358420Z",
     "shell.execute_reply": "2025-03-12T16:52:38.358125Z"
    },
    "papermill": {
     "duration": 0.007111,
     "end_time": "2025-03-12T16:52:38.358992",
     "exception": false,
     "start_time": "2025-03-12T16:52:38.351881",
     "status": "completed"
    },
    "tags": []
   },
   "outputs": [],
   "source": [
    "import torch"
   ]
  },
  {
   "cell_type": "code",
   "execution_count": 20,
   "id": "c088e4e3",
   "metadata": {
    "execution": {
     "iopub.execute_input": "2025-03-12T16:52:38.368040Z",
     "iopub.status.busy": "2025-03-12T16:52:38.367706Z",
     "iopub.status.idle": "2025-03-12T16:52:38.373085Z",
     "shell.execute_reply": "2025-03-12T16:52:38.372776Z"
    },
    "papermill": {
     "duration": 0.010596,
     "end_time": "2025-03-12T16:52:38.373668",
     "exception": false,
     "start_time": "2025-03-12T16:52:38.363072",
     "status": "completed"
    },
    "tags": []
   },
   "outputs": [],
   "source": [
    "def cosine_distance(x, y):\n",
    "    return 1 - torch.nn.functional.cosine_similarity(x, y, dim=-1)"
   ]
  },
  {
   "cell_type": "code",
   "execution_count": 21,
   "id": "462e6551",
   "metadata": {
    "execution": {
     "iopub.execute_input": "2025-03-12T16:52:38.382424Z",
     "iopub.status.busy": "2025-03-12T16:52:38.382299Z",
     "iopub.status.idle": "2025-03-12T16:52:38.389495Z",
     "shell.execute_reply": "2025-03-12T16:52:38.389182Z"
    },
    "papermill": {
     "duration": 0.012308,
     "end_time": "2025-03-12T16:52:38.390067",
     "exception": false,
     "start_time": "2025-03-12T16:52:38.377759",
     "status": "completed"
    },
    "tags": []
   },
   "outputs": [],
   "source": [
    "def info_nce_loss(anchor_embedding, positive_embedding, negative_embedding, distance_fn):\n",
    "\n",
    "    pos_dist = distance_fn(anchor_embedding, positive_embedding) \n",
    "    neg_dist = torch.stack([distance_fn(anchor_embedding, neg) for neg in negative_embedding], dim=-1) \n",
    "\n",
    "    logits = torch.cat([-pos_dist.unsqueeze(1), -neg_dist], dim=1)\n",
    "    labels = torch.zeros(logits.size(0), dtype=torch.long, device=logits.device)\n",
    "\n",
    "    loss = torch.nn.CrossEntropyLoss()(logits, labels)\n",
    "    return loss"
   ]
  },
  {
   "cell_type": "code",
   "execution_count": 22,
   "id": "676716d7",
   "metadata": {
    "execution": {
     "iopub.execute_input": "2025-03-12T16:52:38.398796Z",
     "iopub.status.busy": "2025-03-12T16:52:38.398671Z",
     "iopub.status.idle": "2025-03-12T16:52:38.403408Z",
     "shell.execute_reply": "2025-03-12T16:52:38.403099Z"
    },
    "papermill": {
     "duration": 0.009784,
     "end_time": "2025-03-12T16:52:38.403973",
     "exception": false,
     "start_time": "2025-03-12T16:52:38.394189",
     "status": "completed"
    },
    "tags": []
   },
   "outputs": [],
   "source": [
    "def le_cam_divergence(P, Q):\n",
    "    return torch.sum(((P - Q) ** 2) / (P + Q + 1e-8), dim=-1)"
   ]
  },
  {
   "cell_type": "code",
   "execution_count": 23,
   "id": "077e68aa",
   "metadata": {
    "execution": {
     "iopub.execute_input": "2025-03-12T16:52:38.412927Z",
     "iopub.status.busy": "2025-03-12T16:52:38.412804Z",
     "iopub.status.idle": "2025-03-12T16:52:38.419553Z",
     "shell.execute_reply": "2025-03-12T16:52:38.419226Z"
    },
    "papermill": {
     "duration": 0.011843,
     "end_time": "2025-03-12T16:52:38.420091",
     "exception": false,
     "start_time": "2025-03-12T16:52:38.408248",
     "status": "completed"
    },
    "tags": []
   },
   "outputs": [],
   "source": [
    "import torch.nn.functional as F\n",
    "def le_cam_loss(query, positive, negative):\n",
    "    negative=torch.stack(negative,dim=1)\n",
    "    query = F.softmax(query, dim=-1)\n",
    "    positive = F.softmax(positive, dim=-1)\n",
    "    negative = F.softmax(negative, dim=-1)\n",
    "    \n",
    "    le_cam_pos = le_cam_divergence(query, positive)\n",
    "    le_cam_neg = torch.mean(le_cam_divergence(query.unsqueeze(1), negative), dim=1)\n",
    "    total_loss = le_cam_pos - le_cam_neg\n",
    "    return total_loss.mean()"
   ]
  },
  {
   "cell_type": "code",
   "execution_count": 24,
   "id": "8866717c",
   "metadata": {
    "execution": {
     "iopub.execute_input": "2025-03-12T16:52:38.428976Z",
     "iopub.status.busy": "2025-03-12T16:52:38.428852Z",
     "iopub.status.idle": "2025-03-12T16:52:38.505128Z",
     "shell.execute_reply": "2025-03-12T16:52:38.504809Z"
    },
    "papermill": {
     "duration": 0.081411,
     "end_time": "2025-03-12T16:52:38.505720",
     "exception": false,
     "start_time": "2025-03-12T16:52:38.424309",
     "status": "completed"
    },
    "tags": []
   },
   "outputs": [],
   "source": [
    "import torch.optim as optim\n",
    "optimizer = torch.optim.AdamW(lora_model.parameters(), lr=5e-5)"
   ]
  },
  {
   "cell_type": "code",
   "execution_count": 25,
   "id": "05aa1c58",
   "metadata": {
    "execution": {
     "iopub.execute_input": "2025-03-12T16:52:38.515113Z",
     "iopub.status.busy": "2025-03-12T16:52:38.514666Z",
     "iopub.status.idle": "2025-03-12T16:52:38.519834Z",
     "shell.execute_reply": "2025-03-12T16:52:38.519515Z"
    },
    "papermill": {
     "duration": 0.010415,
     "end_time": "2025-03-12T16:52:38.520372",
     "exception": false,
     "start_time": "2025-03-12T16:52:38.509957",
     "status": "completed"
    },
    "tags": []
   },
   "outputs": [],
   "source": [
    "num_epochs=3"
   ]
  },
  {
   "cell_type": "code",
   "execution_count": 26,
   "id": "0f1aee67",
   "metadata": {
    "execution": {
     "iopub.execute_input": "2025-03-12T16:52:38.529259Z",
     "iopub.status.busy": "2025-03-12T16:52:38.529136Z",
     "iopub.status.idle": "2025-03-12T16:52:38.838670Z",
     "shell.execute_reply": "2025-03-12T16:52:38.838280Z"
    },
    "papermill": {
     "duration": 0.31476,
     "end_time": "2025-03-12T16:52:38.839337",
     "exception": false,
     "start_time": "2025-03-12T16:52:38.524577",
     "status": "completed"
    },
    "tags": []
   },
   "outputs": [],
   "source": [
    "device = torch.device('cuda' if torch.cuda.is_available() else 'cpu')"
   ]
  },
  {
   "cell_type": "code",
   "execution_count": 27,
   "id": "bbe577bc",
   "metadata": {
    "execution": {
     "iopub.execute_input": "2025-03-12T16:52:38.848922Z",
     "iopub.status.busy": "2025-03-12T16:52:38.848535Z",
     "iopub.status.idle": "2025-03-12T16:52:38.855243Z",
     "shell.execute_reply": "2025-03-12T16:52:38.854961Z"
    },
    "papermill": {
     "duration": 0.01213,
     "end_time": "2025-03-12T16:52:38.855789",
     "exception": false,
     "start_time": "2025-03-12T16:52:38.843659",
     "status": "completed"
    },
    "tags": []
   },
   "outputs": [
    {
     "data": {
      "text/plain": [
       "device(type='cuda')"
      ]
     },
     "execution_count": 27,
     "metadata": {},
     "output_type": "execute_result"
    }
   ],
   "source": [
    "device"
   ]
  },
  {
   "cell_type": "code",
   "execution_count": 28,
   "id": "d0707a1f",
   "metadata": {
    "execution": {
     "iopub.execute_input": "2025-03-12T16:52:38.864908Z",
     "iopub.status.busy": "2025-03-12T16:52:38.864786Z",
     "iopub.status.idle": "2025-03-12T16:52:38.869226Z",
     "shell.execute_reply": "2025-03-12T16:52:38.868934Z"
    },
    "papermill": {
     "duration": 0.009678,
     "end_time": "2025-03-12T16:52:38.869791",
     "exception": false,
     "start_time": "2025-03-12T16:52:38.860113",
     "status": "completed"
    },
    "tags": []
   },
   "outputs": [
    {
     "name": "stdout",
     "output_type": "stream",
     "text": [
      "2.5.1+cu124\n",
      "True\n"
     ]
    }
   ],
   "source": [
    "import torch\n",
    "print(torch.__version__)\n",
    "print(torch.cuda.is_available())"
   ]
  },
  {
   "cell_type": "code",
   "execution_count": 29,
   "id": "fe347627",
   "metadata": {
    "execution": {
     "iopub.execute_input": "2025-03-12T16:52:38.879044Z",
     "iopub.status.busy": "2025-03-12T16:52:38.878922Z",
     "iopub.status.idle": "2025-03-12T16:52:38.882976Z",
     "shell.execute_reply": "2025-03-12T16:52:38.882692Z"
    },
    "papermill": {
     "duration": 0.009347,
     "end_time": "2025-03-12T16:52:38.883534",
     "exception": false,
     "start_time": "2025-03-12T16:52:38.874187",
     "status": "completed"
    },
    "tags": []
   },
   "outputs": [
    {
     "data": {
      "text/plain": [
       "True"
      ]
     },
     "execution_count": 29,
     "metadata": {},
     "output_type": "execute_result"
    }
   ],
   "source": [
    "torch.cuda.is_available()"
   ]
  },
  {
   "cell_type": "code",
   "execution_count": 30,
   "id": "c1b19b51",
   "metadata": {
    "execution": {
     "iopub.execute_input": "2025-03-12T16:52:38.892891Z",
     "iopub.status.busy": "2025-03-12T16:52:38.892771Z",
     "iopub.status.idle": "2025-03-12T16:52:40.308907Z",
     "shell.execute_reply": "2025-03-12T16:52:40.308469Z"
    },
    "papermill": {
     "duration": 1.42173,
     "end_time": "2025-03-12T16:52:40.309709",
     "exception": false,
     "start_time": "2025-03-12T16:52:38.887979",
     "status": "completed"
    },
    "tags": []
   },
   "outputs": [],
   "source": [
    "lora_model = lora_model.to(device)"
   ]
  },
  {
   "cell_type": "code",
   "execution_count": 31,
   "id": "a8e19ec9",
   "metadata": {
    "execution": {
     "iopub.execute_input": "2025-03-12T16:52:40.320143Z",
     "iopub.status.busy": "2025-03-12T16:52:40.319696Z",
     "iopub.status.idle": "2025-03-12T16:52:44.109807Z",
     "shell.execute_reply": "2025-03-12T16:52:44.109465Z"
    },
    "papermill": {
     "duration": 3.795986,
     "end_time": "2025-03-12T16:52:44.110522",
     "exception": false,
     "start_time": "2025-03-12T16:52:40.314536",
     "status": "completed"
    },
    "tags": []
   },
   "outputs": [],
   "source": [
    "dataset_val = load_dataset('ms_marco', 'v1.1', split='validation')"
   ]
  },
  {
   "cell_type": "code",
   "execution_count": 32,
   "id": "da0eef24",
   "metadata": {
    "execution": {
     "iopub.execute_input": "2025-03-12T16:52:44.122151Z",
     "iopub.status.busy": "2025-03-12T16:52:44.122019Z",
     "iopub.status.idle": "2025-03-12T16:52:44.127548Z",
     "shell.execute_reply": "2025-03-12T16:52:44.127253Z"
    },
    "papermill": {
     "duration": 0.011039,
     "end_time": "2025-03-12T16:52:44.128117",
     "exception": false,
     "start_time": "2025-03-12T16:52:44.117078",
     "status": "completed"
    },
    "tags": []
   },
   "outputs": [],
   "source": [
    "processed_data_val = dataset_val.map(preprocess, remove_columns=dataset_val.column_names)"
   ]
  },
  {
   "cell_type": "code",
   "execution_count": 33,
   "id": "ac0ab166",
   "metadata": {
    "execution": {
     "iopub.execute_input": "2025-03-12T16:52:44.137832Z",
     "iopub.status.busy": "2025-03-12T16:52:44.137707Z",
     "iopub.status.idle": "2025-03-12T16:52:44.143937Z",
     "shell.execute_reply": "2025-03-12T16:52:44.143638Z"
    },
    "papermill": {
     "duration": 0.011694,
     "end_time": "2025-03-12T16:52:44.144476",
     "exception": false,
     "start_time": "2025-03-12T16:52:44.132782",
     "status": "completed"
    },
    "tags": []
   },
   "outputs": [],
   "source": [
    "processed_data_val = processed_data_val.filter(lambda x: x['query'] is not None and x['positive'] is not None)"
   ]
  },
  {
   "cell_type": "code",
   "execution_count": 34,
   "id": "a05b4dbc",
   "metadata": {
    "execution": {
     "iopub.execute_input": "2025-03-12T16:52:44.154158Z",
     "iopub.status.busy": "2025-03-12T16:52:44.154025Z",
     "iopub.status.idle": "2025-03-12T16:52:44.781546Z",
     "shell.execute_reply": "2025-03-12T16:52:44.780924Z"
    },
    "papermill": {
     "duration": 0.633224,
     "end_time": "2025-03-12T16:52:44.782286",
     "exception": false,
     "start_time": "2025-03-12T16:52:44.149062",
     "status": "completed"
    },
    "tags": []
   },
   "outputs": [],
   "source": [
    "contrastive_pairs_val = []\n",
    "for item in processed_data_val:\n",
    "    query = item[\"query\"]\n",
    "    positive = item[\"positive\"]\n",
    "    negatives = item[\"negatives\"]\n",
    "    contrastive_pairs_val.append({\n",
    "        \"anchor\": query,\n",
    "        \"positive\": positive,\n",
    "        \"negatives\": negatives\n",
    "    })"
   ]
  },
  {
   "cell_type": "code",
   "execution_count": 35,
   "id": "022652d6",
   "metadata": {
    "execution": {
     "iopub.execute_input": "2025-03-12T16:52:44.792561Z",
     "iopub.status.busy": "2025-03-12T16:52:44.792408Z",
     "iopub.status.idle": "2025-03-12T16:52:44.794973Z",
     "shell.execute_reply": "2025-03-12T16:52:44.794663Z"
    },
    "papermill": {
     "duration": 0.008502,
     "end_time": "2025-03-12T16:52:44.795508",
     "exception": false,
     "start_time": "2025-03-12T16:52:44.787006",
     "status": "completed"
    },
    "tags": []
   },
   "outputs": [],
   "source": [
    "contrastive_dataset_val = ContrastiveDataset(contrastive_pairs_val)"
   ]
  },
  {
   "cell_type": "code",
   "execution_count": 36,
   "id": "911e27f0",
   "metadata": {
    "execution": {
     "iopub.execute_input": "2025-03-12T16:52:44.805568Z",
     "iopub.status.busy": "2025-03-12T16:52:44.805193Z",
     "iopub.status.idle": "2025-03-12T16:52:44.810303Z",
     "shell.execute_reply": "2025-03-12T16:52:44.810002Z"
    },
    "papermill": {
     "duration": 0.010767,
     "end_time": "2025-03-12T16:52:44.810853",
     "exception": false,
     "start_time": "2025-03-12T16:52:44.800086",
     "status": "completed"
    },
    "tags": []
   },
   "outputs": [],
   "source": [
    "data_loader_val = DataLoader(contrastive_dataset_val, batch_size=32, shuffle=True)"
   ]
  },
  {
   "cell_type": "code",
   "execution_count": 37,
   "id": "02476888",
   "metadata": {
    "execution": {
     "iopub.execute_input": "2025-03-12T16:52:44.820536Z",
     "iopub.status.busy": "2025-03-12T16:52:44.820414Z",
     "iopub.status.idle": "2025-03-12T16:52:44.825199Z",
     "shell.execute_reply": "2025-03-12T16:52:44.824914Z"
    },
    "papermill": {
     "duration": 0.010308,
     "end_time": "2025-03-12T16:52:44.825762",
     "exception": false,
     "start_time": "2025-03-12T16:52:44.815454",
     "status": "completed"
    },
    "tags": []
   },
   "outputs": [
    {
     "data": {
      "text/plain": [
       "284"
      ]
     },
     "execution_count": 37,
     "metadata": {},
     "output_type": "execute_result"
    }
   ],
   "source": [
    "len(data_loader_val)"
   ]
  },
  {
   "cell_type": "code",
   "execution_count": 38,
   "id": "a43fde0f",
   "metadata": {
    "execution": {
     "iopub.execute_input": "2025-03-12T16:52:44.835734Z",
     "iopub.status.busy": "2025-03-12T16:52:44.835612Z",
     "iopub.status.idle": "2025-03-12T16:52:44.840085Z",
     "shell.execute_reply": "2025-03-12T16:52:44.839758Z"
    },
    "papermill": {
     "duration": 0.010109,
     "end_time": "2025-03-12T16:52:44.840611",
     "exception": false,
     "start_time": "2025-03-12T16:52:44.830502",
     "status": "completed"
    },
    "tags": []
   },
   "outputs": [],
   "source": [
    "def evaluate_mrr(model, data_loader_val, distance_fn):\n",
    "    model.eval()\n",
    "\n",
    "    total_rr = 0.0\n",
    "    num_queries = 0\n",
    "\n",
    "    with torch.no_grad():\n",
    "        for batch in data_loader_val:\n",
    "            anchor_text = batch[0]\n",
    "            positive_text = batch[1]\n",
    "            negative_texts = batch[2]\n",
    "\n",
    "            anchor_input = tokenizer(anchor_text, return_tensors='pt', padding=True, truncation=True, max_length=512).to(device)\n",
    "            positive_input = tokenizer(positive_text, return_tensors='pt', padding=True, truncation=True, max_length=512).to(device)\n",
    "\n",
    "        \n",
    "            anchor_embedding = model(**anchor_input).last_hidden_state[:, 0, :]\n",
    "            positive_embedding = model(**positive_input).last_hidden_state[:, 0, :]\n",
    "            negative_embedding = [model(**tokenizer(neg, return_tensors='pt', padding=True, truncation=True, max_length=512).to(device)).last_hidden_state[:, 0, :] for neg in negative_texts]\n",
    "\n",
    "            pos_dist = distance_fn(anchor_embedding, positive_embedding)\n",
    "            neg_dist = torch.stack([distance_fn(anchor_embedding, neg) for neg in negative_embedding], dim=-1)\n",
    "            all_similarities=torch.cat([-pos_dist.unsqueeze(1), -neg_dist], dim=1)\n",
    "\n",
    "            sorted_similarities, sorted_indices = torch.sort(all_similarities, dim=1, descending=True)\n",
    "\n",
    "            # Find the rank of the first relevant (positive) document\n",
    "            positive_rank = (sorted_indices == 0).nonzero(as_tuple=True)[1] + 1  # +1 to make rank 1-based\n",
    "            total_rr += torch.sum(1.0 / positive_rank.float()).item()\n",
    "            num_queries += len(positive_rank)\n",
    "\n",
    "    mrr = total_rr / num_queries\n",
    "    return mrr"
   ]
  },
  {
   "cell_type": "code",
   "execution_count": 39,
   "id": "093048f7",
   "metadata": {
    "execution": {
     "iopub.execute_input": "2025-03-12T16:52:44.850570Z",
     "iopub.status.busy": "2025-03-12T16:52:44.850448Z",
     "iopub.status.idle": "2025-03-12T16:52:44.856678Z",
     "shell.execute_reply": "2025-03-12T16:52:44.856388Z"
    },
    "papermill": {
     "duration": 0.011828,
     "end_time": "2025-03-12T16:52:44.857219",
     "exception": false,
     "start_time": "2025-03-12T16:52:44.845391",
     "status": "completed"
    },
    "tags": []
   },
   "outputs": [],
   "source": [
    "import os\n",
    "save_dir =\"/dss/dsshome1/07/ra65bex2/srawat/le_cam/50\""
   ]
  },
  {
   "cell_type": "code",
   "execution_count": 40,
   "id": "08890c7e",
   "metadata": {
    "execution": {
     "iopub.execute_input": "2025-03-12T16:52:44.867179Z",
     "iopub.status.busy": "2025-03-12T16:52:44.867058Z",
     "iopub.status.idle": "2025-03-12T16:52:44.870481Z",
     "shell.execute_reply": "2025-03-12T16:52:44.870158Z"
    },
    "papermill": {
     "duration": 0.009079,
     "end_time": "2025-03-12T16:52:44.871030",
     "exception": false,
     "start_time": "2025-03-12T16:52:44.861951",
     "status": "completed"
    },
    "tags": []
   },
   "outputs": [],
   "source": [
    "import time\n",
    "epoch_metrics = []"
   ]
  },
  {
   "cell_type": "code",
   "execution_count": 41,
   "id": "9691b94d",
   "metadata": {
    "execution": {
     "iopub.execute_input": "2025-03-12T16:52:44.881036Z",
     "iopub.status.busy": "2025-03-12T16:52:44.880915Z",
     "iopub.status.idle": "2025-03-12T18:33:23.998955Z",
     "shell.execute_reply": "2025-03-12T18:33:23.998233Z"
    },
    "papermill": {
     "duration": 6039.12862,
     "end_time": "2025-03-12T18:33:24.004394",
     "exception": false,
     "start_time": "2025-03-12T16:52:44.875774",
     "status": "completed"
    },
    "tags": []
   },
   "outputs": [
    {
     "name": "stdout",
     "output_type": "stream",
     "text": [
      "EPOCH 1:\n",
      "Checkpoint saved: /dss/dsshome1/07/ra65bex2/srawat/le_cam/50/checkpoint_epoch_1.pth\n",
      "Epoch 1/3, Training Loss: -3.0370953489270844\n",
      "Epoch 1/3, Contrastive Loss: 1.7422653665870045\n",
      "Epoch 1/3, le Cam Loss: -0.09558721445960516\n"
     ]
    },
    {
     "name": "stdout",
     "output_type": "stream",
     "text": [
      "Mean Reciprocal Rank (MRR) for validation set: 0.5187\n",
      "Epoch 1 took 33.5831 minutes.\n",
      "\n",
      "\n"
     ]
    },
    {
     "name": "stdout",
     "output_type": "stream",
     "text": [
      "EPOCH 2:\n",
      "Checkpoint saved: /dss/dsshome1/07/ra65bex2/srawat/le_cam/50/checkpoint_epoch_2.pth\n",
      "Epoch 2/3, Training Loss: -7.576875894494322\n",
      "Epoch 2/3, Contrastive Loss: 1.71477380310517\n",
      "Epoch 2/3, le Cam Loss: -0.185832994009564\n"
     ]
    },
    {
     "name": "stdout",
     "output_type": "stream",
     "text": [
      "Mean Reciprocal Rank (MRR) for validation set: 0.5243\n",
      "Epoch 2 took 33.5336 minutes.\n",
      "\n",
      "\n"
     ]
    },
    {
     "name": "stdout",
     "output_type": "stream",
     "text": [
      "EPOCH 3:\n",
      "Checkpoint saved: /dss/dsshome1/07/ra65bex2/srawat/le_cam/50/checkpoint_epoch_3.pth\n",
      "Epoch 3/3, Training Loss: -8.522019934244934\n",
      "Epoch 3/3, Contrastive Loss: 1.7080083310348282\n",
      "Epoch 3/3, le Cam Loss: -0.20460056565789897\n"
     ]
    },
    {
     "name": "stdout",
     "output_type": "stream",
     "text": [
      "Mean Reciprocal Rank (MRR) for validation set: 0.5247\n",
      "Epoch 3 took 33.5351 minutes.\n",
      "\n",
      "\n"
     ]
    }
   ],
   "source": [
    "for epoch in range(num_epochs):\n",
    "    start_time = time.time()\n",
    "    lora_model.train() \n",
    "    \n",
    "    total_loss = 0.0\n",
    "    LC_loss_total=0.0\n",
    "    contrastive_loss_total=0.0\n",
    "    for batch in data_loader_train:\n",
    "    \n",
    "        anchor_texts = batch[0]\n",
    "        positive_texts = batch[1]\n",
    "        negative_texts = batch[2]\n",
    "\n",
    "        anchor_inputs = tokenizer(anchor_texts, return_tensors='pt', padding=True, truncation=True, max_length=512).to(device)\n",
    "        positive_inputs = tokenizer(positive_texts, return_tensors='pt', padding=True, truncation=True, max_length=512).to(device)\n",
    "    \n",
    "        anchor_embedding = lora_model(**anchor_inputs).last_hidden_state[:, 0, :]\n",
    "        positive_embedding = lora_model(**positive_inputs).last_hidden_state[:, 0, :]\n",
    "        negative_embedding = [lora_model(**tokenizer(neg, return_tensors='pt', padding=True, truncation=True, max_length=512).to(device)).last_hidden_state[:, 0, :] for neg in negative_texts]\n",
    "\n",
    "        infoNCE_loss = info_nce_loss(anchor_embedding, positive_embedding, negative_embedding, distance_fn=cosine_distance)\n",
    "        leCam_loss = le_cam_loss(anchor_embedding, positive_embedding, negative_embedding)\n",
    "        loss=infoNCE_loss+50*leCam_loss\n",
    "        \n",
    "        optimizer.zero_grad()\n",
    "        loss.backward()\n",
    "        optimizer.step()\n",
    "        \n",
    "        total_loss += loss.item()\n",
    "        LC_loss_total+=leCam_loss.item()\n",
    "        contrastive_loss_total+=infoNCE_loss.item()\n",
    "    save_path = os.path.join(save_dir, f\"checkpoint_epoch_{epoch+1}.pth\")\n",
    "    torch.save(lora_model, save_path)\n",
    "    print(f\"EPOCH {epoch+1}:\")\n",
    "    print(f\"Checkpoint saved: {save_path}\")\n",
    "    print(f\"Epoch {epoch+1}/{num_epochs}, Training Loss: {total_loss / len(data_loader_train)}\")\n",
    "    print(f\"Epoch {epoch+1}/{num_epochs}, Contrastive Loss: {contrastive_loss_total / len(data_loader_train)}\")\n",
    "    print(f\"Epoch {epoch+1}/{num_epochs}, le Cam Loss: {LC_loss_total / len(data_loader_train)}\")\n",
    "    mrr_validation = evaluate_mrr(lora_model, data_loader_val, cosine_distance)\n",
    "    #mrr_train = evaluate_mrr(lora_model, data_loader_train, cosine_distance)\n",
    "    #print(f\"Mean Reciprocal Rank (MRR) for training set: {mrr_train:.4f}\")\n",
    "    print(f\"Mean Reciprocal Rank (MRR) for validation set: {mrr_validation:.4f}\")\n",
    "    end_time = time.time()\n",
    "    print(f\"Epoch {epoch+1} took {(end_time - start_time) / 60:.4f} minutes.\")\n",
    "    print(f\"\\n\")\n",
    "    epoch_metrics.append({\n",
    "        'epoch': epoch + 1,\n",
    "        'training_loss': total_loss / len(data_loader_train),\n",
    "        'leCam_loss' : LC_loss_total / len(data_loader_train),\n",
    "        'contrastive_loss' : contrastive_loss_total / len(data_loader_train),\n",
    "        'mrr_validation': mrr_validation,\n",
    "        'time_taken_minutes': (end_time - start_time) / 60\n",
    "    })"
   ]
  },
  {
   "cell_type": "code",
   "execution_count": 42,
   "id": "865f68bd",
   "metadata": {
    "execution": {
     "iopub.execute_input": "2025-03-12T18:33:24.018193Z",
     "iopub.status.busy": "2025-03-12T18:33:24.018031Z",
     "iopub.status.idle": "2025-03-12T18:33:24.020866Z",
     "shell.execute_reply": "2025-03-12T18:33:24.020541Z"
    },
    "papermill": {
     "duration": 0.009379,
     "end_time": "2025-03-12T18:33:24.021534",
     "exception": false,
     "start_time": "2025-03-12T18:33:24.012155",
     "status": "completed"
    },
    "tags": []
   },
   "outputs": [],
   "source": [
    "import json"
   ]
  },
  {
   "cell_type": "code",
   "execution_count": 43,
   "id": "7a2cc43d",
   "metadata": {
    "execution": {
     "iopub.execute_input": "2025-03-12T18:33:24.032283Z",
     "iopub.status.busy": "2025-03-12T18:33:24.032153Z",
     "iopub.status.idle": "2025-03-12T18:33:24.041936Z",
     "shell.execute_reply": "2025-03-12T18:33:24.041634Z"
    },
    "papermill": {
     "duration": 0.015936,
     "end_time": "2025-03-12T18:33:24.042602",
     "exception": false,
     "start_time": "2025-03-12T18:33:24.026666",
     "status": "completed"
    },
    "tags": []
   },
   "outputs": [],
   "source": [
    "with open(save_dir + '/epoch_metrics.json', 'w') as f:\n",
    "    json.dump(epoch_metrics, f)"
   ]
  }
 ],
 "metadata": {
  "kernelspec": {
   "display_name": "Python (myenv)",
   "language": "python",
   "name": "myenv"
  },
  "language_info": {
   "codemirror_mode": {
    "name": "ipython",
    "version": 3
   },
   "file_extension": ".py",
   "mimetype": "text/x-python",
   "name": "python",
   "nbconvert_exporter": "python",
   "pygments_lexer": "ipython3",
   "version": "3.12.7"
  },
  "papermill": {
   "default_parameters": {},
   "duration": 6098.000329,
   "end_time": "2025-03-12T18:33:27.437955",
   "environment_variables": {},
   "exception": null,
   "input_path": "50le_cam.ipynb",
   "output_path": "50le_cam_output.ipynb",
   "parameters": {},
   "start_time": "2025-03-12T16:51:49.437626",
   "version": "2.6.0"
  }
 },
 "nbformat": 4,
 "nbformat_minor": 5
}