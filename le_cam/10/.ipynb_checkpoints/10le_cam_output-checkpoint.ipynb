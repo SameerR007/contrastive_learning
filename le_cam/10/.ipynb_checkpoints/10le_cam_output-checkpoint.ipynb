{
 "cells": [
  {
   "cell_type": "code",
   "execution_count": 1,
   "id": "e9036fa0",
   "metadata": {
    "execution": {
     "iopub.execute_input": "2025-03-11T11:26:32.112971Z",
     "iopub.status.busy": "2025-03-11T11:26:32.112751Z",
     "iopub.status.idle": "2025-03-11T11:26:37.923250Z",
     "shell.execute_reply": "2025-03-11T11:26:37.922821Z"
    },
    "papermill": {
     "duration": 5.818503,
     "end_time": "2025-03-11T11:26:37.924167",
     "exception": false,
     "start_time": "2025-03-11T11:26:32.105664",
     "status": "completed"
    },
    "tags": []
   },
   "outputs": [],
   "source": [
    "from datasets import load_dataset"
   ]
  },
  {
   "cell_type": "code",
   "execution_count": 2,
   "id": "d04065b9",
   "metadata": {
    "execution": {
     "iopub.execute_input": "2025-03-11T11:26:37.934759Z",
     "iopub.status.busy": "2025-03-11T11:26:37.934447Z",
     "iopub.status.idle": "2025-03-11T11:26:47.426659Z",
     "shell.execute_reply": "2025-03-11T11:26:47.426243Z"
    },
    "papermill": {
     "duration": 9.49696,
     "end_time": "2025-03-11T11:26:47.427445",
     "exception": false,
     "start_time": "2025-03-11T11:26:37.930485",
     "status": "completed"
    },
    "tags": []
   },
   "outputs": [],
   "source": [
    "dataset_train = load_dataset('ms_marco', 'v1.1', split='train')"
   ]
  },
  {
   "cell_type": "code",
   "execution_count": 3,
   "id": "8bf3f573",
   "metadata": {
    "execution": {
     "iopub.execute_input": "2025-03-11T11:26:47.437569Z",
     "iopub.status.busy": "2025-03-11T11:26:47.437384Z",
     "iopub.status.idle": "2025-03-11T11:26:47.441881Z",
     "shell.execute_reply": "2025-03-11T11:26:47.441541Z"
    },
    "papermill": {
     "duration": 0.009075,
     "end_time": "2025-03-11T11:26:47.442441",
     "exception": false,
     "start_time": "2025-03-11T11:26:47.433366",
     "status": "completed"
    },
    "tags": []
   },
   "outputs": [
    {
     "data": {
      "text/plain": [
       "Dataset({\n",
       "    features: ['answers', 'passages', 'query', 'query_id', 'query_type', 'wellFormedAnswers'],\n",
       "    num_rows: 82326\n",
       "})"
      ]
     },
     "execution_count": 3,
     "metadata": {},
     "output_type": "execute_result"
    }
   ],
   "source": [
    "dataset_train"
   ]
  },
  {
   "cell_type": "code",
   "execution_count": 4,
   "id": "51a41f9a",
   "metadata": {
    "execution": {
     "iopub.execute_input": "2025-03-11T11:26:47.450879Z",
     "iopub.status.busy": "2025-03-11T11:26:47.450749Z",
     "iopub.status.idle": "2025-03-11T11:26:47.466951Z",
     "shell.execute_reply": "2025-03-11T11:26:47.466570Z"
    },
    "papermill": {
     "duration": 0.021379,
     "end_time": "2025-03-11T11:26:47.467515",
     "exception": false,
     "start_time": "2025-03-11T11:26:47.446136",
     "status": "completed"
    },
    "tags": []
   },
   "outputs": [],
   "source": [
    "def preprocess(example):\n",
    "    positive_passages=[]\n",
    "    for p in enumerate(example['passages'][\"is_selected\"]):\n",
    "        if p[1]==1:\n",
    "            positive_passages.append(example[\"passages\"][\"passage_text\"][p[0]])\n",
    "    negative_passages = []\n",
    "    for p in enumerate(example['passages'][\"is_selected\"]):\n",
    "        if p[1]==0:\n",
    "            negative_passages.append(example[\"passages\"][\"passage_text\"][p[0]])\n",
    "    if (len(positive_passages)>0 and len(negative_passages)>=5):\n",
    "        positive = positive_passages[0]\n",
    "        negatives = negative_passages[:5]\n",
    "        return {\n",
    "            \"query\": example[\"query\"],\n",
    "            \"positive\": positive,\n",
    "            \"negatives\": negatives\n",
    "        }\n",
    "    else:\n",
    "        return {\"query\": None, \"positive\": None, \"negatives\": None}"
   ]
  },
  {
   "cell_type": "code",
   "execution_count": 5,
   "id": "9d603e82",
   "metadata": {
    "execution": {
     "iopub.execute_input": "2025-03-11T11:26:47.475420Z",
     "iopub.status.busy": "2025-03-11T11:26:47.475290Z",
     "iopub.status.idle": "2025-03-11T11:26:47.814701Z",
     "shell.execute_reply": "2025-03-11T11:26:47.814273Z"
    },
    "papermill": {
     "duration": 0.344142,
     "end_time": "2025-03-11T11:26:47.815406",
     "exception": false,
     "start_time": "2025-03-11T11:26:47.471264",
     "status": "completed"
    },
    "tags": []
   },
   "outputs": [],
   "source": [
    "processed_data_train = dataset_train.map(preprocess, remove_columns=dataset_train.column_names)"
   ]
  },
  {
   "cell_type": "code",
   "execution_count": 6,
   "id": "54fd323d",
   "metadata": {
    "execution": {
     "iopub.execute_input": "2025-03-11T11:26:47.823987Z",
     "iopub.status.busy": "2025-03-11T11:26:47.823854Z",
     "iopub.status.idle": "2025-03-11T11:26:47.846932Z",
     "shell.execute_reply": "2025-03-11T11:26:47.846431Z"
    },
    "papermill": {
     "duration": 0.027816,
     "end_time": "2025-03-11T11:26:47.847527",
     "exception": false,
     "start_time": "2025-03-11T11:26:47.819711",
     "status": "completed"
    },
    "tags": []
   },
   "outputs": [],
   "source": [
    "processed_data_train = processed_data_train.filter(lambda x: x['query'] is not None and x['positive'] is not None)"
   ]
  },
  {
   "cell_type": "code",
   "execution_count": 7,
   "id": "23d674db",
   "metadata": {
    "execution": {
     "iopub.execute_input": "2025-03-11T11:26:47.855472Z",
     "iopub.status.busy": "2025-03-11T11:26:47.855344Z",
     "iopub.status.idle": "2025-03-11T11:26:53.614008Z",
     "shell.execute_reply": "2025-03-11T11:26:53.613506Z"
    },
    "papermill": {
     "duration": 5.763612,
     "end_time": "2025-03-11T11:26:53.614886",
     "exception": false,
     "start_time": "2025-03-11T11:26:47.851274",
     "status": "completed"
    },
    "tags": []
   },
   "outputs": [],
   "source": [
    "contrastive_pairs_train = []\n",
    "for item in processed_data_train:\n",
    "    query = item[\"query\"]\n",
    "    positive = item[\"positive\"]\n",
    "    negatives = item[\"negatives\"]\n",
    "    contrastive_pairs_train.append({\n",
    "        \"anchor\": query,\n",
    "        \"positive\": positive,\n",
    "        \"negatives\": negatives\n",
    "    })"
   ]
  },
  {
   "cell_type": "code",
   "execution_count": 8,
   "id": "66ca4de0",
   "metadata": {
    "execution": {
     "iopub.execute_input": "2025-03-11T11:26:53.626031Z",
     "iopub.status.busy": "2025-03-11T11:26:53.625807Z",
     "iopub.status.idle": "2025-03-11T11:26:53.628890Z",
     "shell.execute_reply": "2025-03-11T11:26:53.628515Z"
    },
    "papermill": {
     "duration": 0.007933,
     "end_time": "2025-03-11T11:26:53.629449",
     "exception": false,
     "start_time": "2025-03-11T11:26:53.621516",
     "status": "completed"
    },
    "tags": []
   },
   "outputs": [
    {
     "data": {
      "text/plain": [
       "74538"
      ]
     },
     "execution_count": 8,
     "metadata": {},
     "output_type": "execute_result"
    }
   ],
   "source": [
    "len(contrastive_pairs_train)"
   ]
  },
  {
   "cell_type": "code",
   "execution_count": 9,
   "id": "04753d41",
   "metadata": {
    "execution": {
     "iopub.execute_input": "2025-03-11T11:26:53.637969Z",
     "iopub.status.busy": "2025-03-11T11:26:53.637644Z",
     "iopub.status.idle": "2025-03-11T11:27:05.300935Z",
     "shell.execute_reply": "2025-03-11T11:27:05.300396Z"
    },
    "papermill": {
     "duration": 11.668506,
     "end_time": "2025-03-11T11:27:05.301900",
     "exception": false,
     "start_time": "2025-03-11T11:26:53.633394",
     "status": "completed"
    },
    "tags": []
   },
   "outputs": [],
   "source": [
    "from torch.utils.data import DataLoader"
   ]
  },
  {
   "cell_type": "code",
   "execution_count": 10,
   "id": "3206d5e4",
   "metadata": {
    "execution": {
     "iopub.execute_input": "2025-03-11T11:27:05.313612Z",
     "iopub.status.busy": "2025-03-11T11:27:05.313457Z",
     "iopub.status.idle": "2025-03-11T11:27:05.316562Z",
     "shell.execute_reply": "2025-03-11T11:27:05.316202Z"
    },
    "papermill": {
     "duration": 0.00803,
     "end_time": "2025-03-11T11:27:05.317147",
     "exception": false,
     "start_time": "2025-03-11T11:27:05.309117",
     "status": "completed"
    },
    "tags": []
   },
   "outputs": [],
   "source": [
    "class ContrastiveDataset:\n",
    "    def __init__(self, pairs):\n",
    "        self.pairs = pairs\n",
    "\n",
    "    def __len__(self):\n",
    "        return len(self.pairs)\n",
    "\n",
    "    def __getitem__(self, idx):\n",
    "        item = self.pairs[idx]\n",
    "        return item[\"anchor\"], item[\"positive\"], item[\"negatives\"]"
   ]
  },
  {
   "cell_type": "code",
   "execution_count": 11,
   "id": "61fe83b8",
   "metadata": {
    "execution": {
     "iopub.execute_input": "2025-03-11T11:27:05.325414Z",
     "iopub.status.busy": "2025-03-11T11:27:05.325105Z",
     "iopub.status.idle": "2025-03-11T11:27:05.337821Z",
     "shell.execute_reply": "2025-03-11T11:27:05.337482Z"
    },
    "papermill": {
     "duration": 0.017435,
     "end_time": "2025-03-11T11:27:05.338405",
     "exception": false,
     "start_time": "2025-03-11T11:27:05.320970",
     "status": "completed"
    },
    "tags": []
   },
   "outputs": [],
   "source": [
    "contrastive_dataset_train = ContrastiveDataset(contrastive_pairs_train)"
   ]
  },
  {
   "cell_type": "code",
   "execution_count": 12,
   "id": "555667e8",
   "metadata": {
    "execution": {
     "iopub.execute_input": "2025-03-11T11:27:05.346464Z",
     "iopub.status.busy": "2025-03-11T11:27:05.346338Z",
     "iopub.status.idle": "2025-03-11T11:27:05.359010Z",
     "shell.execute_reply": "2025-03-11T11:27:05.358671Z"
    },
    "papermill": {
     "duration": 0.017404,
     "end_time": "2025-03-11T11:27:05.359599",
     "exception": false,
     "start_time": "2025-03-11T11:27:05.342195",
     "status": "completed"
    },
    "tags": []
   },
   "outputs": [],
   "source": [
    "data_loader_train = DataLoader(contrastive_dataset_train, batch_size=32, shuffle=True)"
   ]
  },
  {
   "cell_type": "code",
   "execution_count": 13,
   "id": "dfca38a0",
   "metadata": {
    "execution": {
     "iopub.execute_input": "2025-03-11T11:27:05.369451Z",
     "iopub.status.busy": "2025-03-11T11:27:05.369324Z",
     "iopub.status.idle": "2025-03-11T11:27:05.379058Z",
     "shell.execute_reply": "2025-03-11T11:27:05.378733Z"
    },
    "papermill": {
     "duration": 0.014503,
     "end_time": "2025-03-11T11:27:05.379635",
     "exception": false,
     "start_time": "2025-03-11T11:27:05.365132",
     "status": "completed"
    },
    "tags": []
   },
   "outputs": [
    {
     "data": {
      "text/plain": [
       "2330"
      ]
     },
     "execution_count": 13,
     "metadata": {},
     "output_type": "execute_result"
    }
   ],
   "source": [
    "len(data_loader_train)"
   ]
  },
  {
   "cell_type": "code",
   "execution_count": 14,
   "id": "174bba9b",
   "metadata": {
    "execution": {
     "iopub.execute_input": "2025-03-11T11:27:05.388205Z",
     "iopub.status.busy": "2025-03-11T11:27:05.387901Z",
     "iopub.status.idle": "2025-03-11T11:27:22.814861Z",
     "shell.execute_reply": "2025-03-11T11:27:22.814383Z"
    },
    "papermill": {
     "duration": 17.43197,
     "end_time": "2025-03-11T11:27:22.815514",
     "exception": false,
     "start_time": "2025-03-11T11:27:05.383544",
     "status": "completed"
    },
    "tags": []
   },
   "outputs": [],
   "source": [
    "from transformers import AutoTokenizer, AutoModel\n",
    "tokenizer = AutoTokenizer.from_pretrained(\"bert-base-uncased\")"
   ]
  },
  {
   "cell_type": "code",
   "execution_count": 15,
   "id": "c00b7b76",
   "metadata": {
    "execution": {
     "iopub.execute_input": "2025-03-11T11:27:22.826028Z",
     "iopub.status.busy": "2025-03-11T11:27:22.825774Z",
     "iopub.status.idle": "2025-03-11T11:27:28.295859Z",
     "shell.execute_reply": "2025-03-11T11:27:28.295411Z"
    },
    "papermill": {
     "duration": 5.475156,
     "end_time": "2025-03-11T11:27:28.296627",
     "exception": false,
     "start_time": "2025-03-11T11:27:22.821471",
     "status": "completed"
    },
    "tags": []
   },
   "outputs": [],
   "source": [
    "model = AutoModel.from_pretrained(\"bert-base-uncased\")"
   ]
  },
  {
   "cell_type": "code",
   "execution_count": 16,
   "id": "b2e29a7d",
   "metadata": {
    "execution": {
     "iopub.execute_input": "2025-03-11T11:27:28.307297Z",
     "iopub.status.busy": "2025-03-11T11:27:28.307160Z",
     "iopub.status.idle": "2025-03-11T11:27:28.910616Z",
     "shell.execute_reply": "2025-03-11T11:27:28.910191Z"
    },
    "papermill": {
     "duration": 0.608549,
     "end_time": "2025-03-11T11:27:28.911256",
     "exception": false,
     "start_time": "2025-03-11T11:27:28.302707",
     "status": "completed"
    },
    "tags": []
   },
   "outputs": [],
   "source": [
    "from peft import LoraConfig, get_peft_model"
   ]
  },
  {
   "cell_type": "code",
   "execution_count": 17,
   "id": "c34740d3",
   "metadata": {
    "execution": {
     "iopub.execute_input": "2025-03-11T11:27:28.919845Z",
     "iopub.status.busy": "2025-03-11T11:27:28.919708Z",
     "iopub.status.idle": "2025-03-11T11:27:28.921793Z",
     "shell.execute_reply": "2025-03-11T11:27:28.921448Z"
    },
    "papermill": {
     "duration": 0.007021,
     "end_time": "2025-03-11T11:27:28.922376",
     "exception": false,
     "start_time": "2025-03-11T11:27:28.915355",
     "status": "completed"
    },
    "tags": []
   },
   "outputs": [],
   "source": [
    "lora_config = LoraConfig(\n",
    "    task_type= \"FEATURE_EXTRACTION\"\n",
    ")"
   ]
  },
  {
   "cell_type": "code",
   "execution_count": 18,
   "id": "b5682105",
   "metadata": {
    "execution": {
     "iopub.execute_input": "2025-03-11T11:27:28.931169Z",
     "iopub.status.busy": "2025-03-11T11:27:28.930927Z",
     "iopub.status.idle": "2025-03-11T11:27:28.963875Z",
     "shell.execute_reply": "2025-03-11T11:27:28.963526Z"
    },
    "papermill": {
     "duration": 0.037883,
     "end_time": "2025-03-11T11:27:28.964410",
     "exception": false,
     "start_time": "2025-03-11T11:27:28.926527",
     "status": "completed"
    },
    "tags": []
   },
   "outputs": [],
   "source": [
    "lora_model = get_peft_model(model, lora_config)"
   ]
  },
  {
   "cell_type": "code",
   "execution_count": 19,
   "id": "aaf756e1",
   "metadata": {
    "execution": {
     "iopub.execute_input": "2025-03-11T11:27:28.973155Z",
     "iopub.status.busy": "2025-03-11T11:27:28.972839Z",
     "iopub.status.idle": "2025-03-11T11:27:28.974877Z",
     "shell.execute_reply": "2025-03-11T11:27:28.974512Z"
    },
    "papermill": {
     "duration": 0.006963,
     "end_time": "2025-03-11T11:27:28.975402",
     "exception": false,
     "start_time": "2025-03-11T11:27:28.968439",
     "status": "completed"
    },
    "tags": []
   },
   "outputs": [],
   "source": [
    "import torch"
   ]
  },
  {
   "cell_type": "code",
   "execution_count": 20,
   "id": "3dd7b2ca",
   "metadata": {
    "execution": {
     "iopub.execute_input": "2025-03-11T11:27:28.984471Z",
     "iopub.status.busy": "2025-03-11T11:27:28.983971Z",
     "iopub.status.idle": "2025-03-11T11:27:28.995893Z",
     "shell.execute_reply": "2025-03-11T11:27:28.995508Z"
    },
    "papermill": {
     "duration": 0.016982,
     "end_time": "2025-03-11T11:27:28.996429",
     "exception": false,
     "start_time": "2025-03-11T11:27:28.979447",
     "status": "completed"
    },
    "tags": []
   },
   "outputs": [],
   "source": [
    "def cosine_distance(x, y):\n",
    "    return 1 - torch.nn.functional.cosine_similarity(x, y, dim=-1)"
   ]
  },
  {
   "cell_type": "code",
   "execution_count": 21,
   "id": "efe6a5ef",
   "metadata": {
    "execution": {
     "iopub.execute_input": "2025-03-11T11:27:29.005277Z",
     "iopub.status.busy": "2025-03-11T11:27:29.004972Z",
     "iopub.status.idle": "2025-03-11T11:27:29.016804Z",
     "shell.execute_reply": "2025-03-11T11:27:29.016474Z"
    },
    "papermill": {
     "duration": 0.016781,
     "end_time": "2025-03-11T11:27:29.017346",
     "exception": false,
     "start_time": "2025-03-11T11:27:29.000565",
     "status": "completed"
    },
    "tags": []
   },
   "outputs": [],
   "source": [
    "def info_nce_loss(anchor_embedding, positive_embedding, negative_embedding, distance_fn):\n",
    "\n",
    "    pos_dist = distance_fn(anchor_embedding, positive_embedding) \n",
    "    neg_dist = torch.stack([distance_fn(anchor_embedding, neg) for neg in negative_embedding], dim=-1) \n",
    "\n",
    "    logits = torch.cat([-pos_dist.unsqueeze(1), -neg_dist], dim=1)\n",
    "    labels = torch.zeros(logits.size(0), dtype=torch.long, device=logits.device)\n",
    "\n",
    "    loss = torch.nn.CrossEntropyLoss()(logits, labels)\n",
    "    return loss"
   ]
  },
  {
   "cell_type": "code",
   "execution_count": 22,
   "id": "2accb8fc",
   "metadata": {
    "execution": {
     "iopub.execute_input": "2025-03-11T11:27:29.026362Z",
     "iopub.status.busy": "2025-03-11T11:27:29.026057Z",
     "iopub.status.idle": "2025-03-11T11:27:29.039195Z",
     "shell.execute_reply": "2025-03-11T11:27:29.038823Z"
    },
    "papermill": {
     "duration": 0.018289,
     "end_time": "2025-03-11T11:27:29.039762",
     "exception": false,
     "start_time": "2025-03-11T11:27:29.021473",
     "status": "completed"
    },
    "tags": []
   },
   "outputs": [],
   "source": [
    "def le_cam_divergence(P, Q):\n",
    "    return torch.sum(((P - Q) ** 2) / (P + Q + 1e-8), dim=-1)"
   ]
  },
  {
   "cell_type": "code",
   "execution_count": 23,
   "id": "fa002481",
   "metadata": {
    "execution": {
     "iopub.execute_input": "2025-03-11T11:27:29.048404Z",
     "iopub.status.busy": "2025-03-11T11:27:29.048281Z",
     "iopub.status.idle": "2025-03-11T11:27:29.058924Z",
     "shell.execute_reply": "2025-03-11T11:27:29.058590Z"
    },
    "papermill": {
     "duration": 0.015623,
     "end_time": "2025-03-11T11:27:29.059505",
     "exception": false,
     "start_time": "2025-03-11T11:27:29.043882",
     "status": "completed"
    },
    "tags": []
   },
   "outputs": [],
   "source": [
    "import torch.nn.functional as F\n",
    "def le_cam_loss(query, positive, negative):\n",
    "    negative=torch.stack(negative,dim=1)\n",
    "    query = F.softmax(query, dim=-1)\n",
    "    positive = F.softmax(positive, dim=-1)\n",
    "    negative = F.softmax(negative, dim=-1)\n",
    "    \n",
    "    le_cam_pos = le_cam_divergence(query, positive)\n",
    "    le_cam_neg = torch.mean(le_cam_divergence(query.unsqueeze(1), negative), dim=1)\n",
    "    total_loss = le_cam_pos - le_cam_neg\n",
    "    return total_loss.mean()"
   ]
  },
  {
   "cell_type": "code",
   "execution_count": 24,
   "id": "0da18736",
   "metadata": {
    "execution": {
     "iopub.execute_input": "2025-03-11T11:27:29.068337Z",
     "iopub.status.busy": "2025-03-11T11:27:29.068036Z",
     "iopub.status.idle": "2025-03-11T11:27:29.127662Z",
     "shell.execute_reply": "2025-03-11T11:27:29.127301Z"
    },
    "papermill": {
     "duration": 0.064873,
     "end_time": "2025-03-11T11:27:29.128471",
     "exception": false,
     "start_time": "2025-03-11T11:27:29.063598",
     "status": "completed"
    },
    "tags": []
   },
   "outputs": [],
   "source": [
    "import torch.optim as optim\n",
    "optimizer = torch.optim.AdamW(lora_model.parameters(), lr=5e-5)"
   ]
  },
  {
   "cell_type": "code",
   "execution_count": 25,
   "id": "5950d122",
   "metadata": {
    "execution": {
     "iopub.execute_input": "2025-03-11T11:27:29.137785Z",
     "iopub.status.busy": "2025-03-11T11:27:29.137659Z",
     "iopub.status.idle": "2025-03-11T11:27:29.147886Z",
     "shell.execute_reply": "2025-03-11T11:27:29.147529Z"
    },
    "papermill": {
     "duration": 0.015401,
     "end_time": "2025-03-11T11:27:29.148418",
     "exception": false,
     "start_time": "2025-03-11T11:27:29.133017",
     "status": "completed"
    },
    "tags": []
   },
   "outputs": [],
   "source": [
    "num_epochs=3"
   ]
  },
  {
   "cell_type": "code",
   "execution_count": 26,
   "id": "370fdd5e",
   "metadata": {
    "execution": {
     "iopub.execute_input": "2025-03-11T11:27:29.157315Z",
     "iopub.status.busy": "2025-03-11T11:27:29.157002Z",
     "iopub.status.idle": "2025-03-11T11:27:29.581935Z",
     "shell.execute_reply": "2025-03-11T11:27:29.581487Z"
    },
    "papermill": {
     "duration": 0.42994,
     "end_time": "2025-03-11T11:27:29.582515",
     "exception": false,
     "start_time": "2025-03-11T11:27:29.152575",
     "status": "completed"
    },
    "tags": []
   },
   "outputs": [],
   "source": [
    "device = torch.device('cuda' if torch.cuda.is_available() else 'cpu')"
   ]
  },
  {
   "cell_type": "code",
   "execution_count": 27,
   "id": "314901da",
   "metadata": {
    "execution": {
     "iopub.execute_input": "2025-03-11T11:27:29.591949Z",
     "iopub.status.busy": "2025-03-11T11:27:29.591635Z",
     "iopub.status.idle": "2025-03-11T11:27:29.603088Z",
     "shell.execute_reply": "2025-03-11T11:27:29.602767Z"
    },
    "papermill": {
     "duration": 0.016889,
     "end_time": "2025-03-11T11:27:29.603619",
     "exception": false,
     "start_time": "2025-03-11T11:27:29.586730",
     "status": "completed"
    },
    "tags": []
   },
   "outputs": [
    {
     "data": {
      "text/plain": [
       "device(type='cuda')"
      ]
     },
     "execution_count": 27,
     "metadata": {},
     "output_type": "execute_result"
    }
   ],
   "source": [
    "device"
   ]
  },
  {
   "cell_type": "code",
   "execution_count": 28,
   "id": "faff025a",
   "metadata": {
    "execution": {
     "iopub.execute_input": "2025-03-11T11:27:29.612859Z",
     "iopub.status.busy": "2025-03-11T11:27:29.612735Z",
     "iopub.status.idle": "2025-03-11T11:27:29.622579Z",
     "shell.execute_reply": "2025-03-11T11:27:29.622241Z"
    },
    "papermill": {
     "duration": 0.015205,
     "end_time": "2025-03-11T11:27:29.623141",
     "exception": false,
     "start_time": "2025-03-11T11:27:29.607936",
     "status": "completed"
    },
    "tags": []
   },
   "outputs": [
    {
     "name": "stdout",
     "output_type": "stream",
     "text": [
      "2.5.1+cu124\n",
      "True\n"
     ]
    }
   ],
   "source": [
    "import torch\n",
    "print(torch.__version__)\n",
    "print(torch.cuda.is_available())"
   ]
  },
  {
   "cell_type": "code",
   "execution_count": 29,
   "id": "6141d2b6",
   "metadata": {
    "execution": {
     "iopub.execute_input": "2025-03-11T11:27:29.632385Z",
     "iopub.status.busy": "2025-03-11T11:27:29.632084Z",
     "iopub.status.idle": "2025-03-11T11:27:29.642402Z",
     "shell.execute_reply": "2025-03-11T11:27:29.642083Z"
    },
    "papermill": {
     "duration": 0.015546,
     "end_time": "2025-03-11T11:27:29.642971",
     "exception": false,
     "start_time": "2025-03-11T11:27:29.627425",
     "status": "completed"
    },
    "tags": []
   },
   "outputs": [
    {
     "data": {
      "text/plain": [
       "True"
      ]
     },
     "execution_count": 29,
     "metadata": {},
     "output_type": "execute_result"
    }
   ],
   "source": [
    "torch.cuda.is_available()"
   ]
  },
  {
   "cell_type": "code",
   "execution_count": 30,
   "id": "3221a283",
   "metadata": {
    "execution": {
     "iopub.execute_input": "2025-03-11T11:27:29.652758Z",
     "iopub.status.busy": "2025-03-11T11:27:29.652275Z",
     "iopub.status.idle": "2025-03-11T11:27:30.769121Z",
     "shell.execute_reply": "2025-03-11T11:27:30.768646Z"
    },
    "papermill": {
     "duration": 1.122519,
     "end_time": "2025-03-11T11:27:30.769874",
     "exception": false,
     "start_time": "2025-03-11T11:27:29.647355",
     "status": "completed"
    },
    "tags": []
   },
   "outputs": [],
   "source": [
    "lora_model = lora_model.to(device)"
   ]
  },
  {
   "cell_type": "code",
   "execution_count": 31,
   "id": "e67d2b74",
   "metadata": {
    "execution": {
     "iopub.execute_input": "2025-03-11T11:27:30.779825Z",
     "iopub.status.busy": "2025-03-11T11:27:30.779481Z",
     "iopub.status.idle": "2025-03-11T11:27:34.378349Z",
     "shell.execute_reply": "2025-03-11T11:27:34.377959Z"
    },
    "papermill": {
     "duration": 3.604387,
     "end_time": "2025-03-11T11:27:34.379017",
     "exception": false,
     "start_time": "2025-03-11T11:27:30.774630",
     "status": "completed"
    },
    "tags": []
   },
   "outputs": [],
   "source": [
    "dataset_val = load_dataset('ms_marco', 'v1.1', split='validation')"
   ]
  },
  {
   "cell_type": "code",
   "execution_count": 32,
   "id": "5805bd7a",
   "metadata": {
    "execution": {
     "iopub.execute_input": "2025-03-11T11:27:34.390504Z",
     "iopub.status.busy": "2025-03-11T11:27:34.390141Z",
     "iopub.status.idle": "2025-03-11T11:27:34.567873Z",
     "shell.execute_reply": "2025-03-11T11:27:34.567530Z"
    },
    "papermill": {
     "duration": 0.183153,
     "end_time": "2025-03-11T11:27:34.568467",
     "exception": false,
     "start_time": "2025-03-11T11:27:34.385314",
     "status": "completed"
    },
    "tags": []
   },
   "outputs": [],
   "source": [
    "processed_data_val = dataset_val.map(preprocess, remove_columns=dataset_val.column_names)"
   ]
  },
  {
   "cell_type": "code",
   "execution_count": 33,
   "id": "95e6872b",
   "metadata": {
    "execution": {
     "iopub.execute_input": "2025-03-11T11:27:34.578065Z",
     "iopub.status.busy": "2025-03-11T11:27:34.577726Z",
     "iopub.status.idle": "2025-03-11T11:27:34.594554Z",
     "shell.execute_reply": "2025-03-11T11:27:34.594225Z"
    },
    "papermill": {
     "duration": 0.022147,
     "end_time": "2025-03-11T11:27:34.595087",
     "exception": false,
     "start_time": "2025-03-11T11:27:34.572940",
     "status": "completed"
    },
    "tags": []
   },
   "outputs": [],
   "source": [
    "processed_data_val = processed_data_val.filter(lambda x: x['query'] is not None and x['positive'] is not None)"
   ]
  },
  {
   "cell_type": "code",
   "execution_count": 34,
   "id": "34f604eb",
   "metadata": {
    "execution": {
     "iopub.execute_input": "2025-03-11T11:27:34.604603Z",
     "iopub.status.busy": "2025-03-11T11:27:34.604286Z",
     "iopub.status.idle": "2025-03-11T11:27:35.302506Z",
     "shell.execute_reply": "2025-03-11T11:27:35.302036Z"
    },
    "papermill": {
     "duration": 0.703594,
     "end_time": "2025-03-11T11:27:35.303091",
     "exception": false,
     "start_time": "2025-03-11T11:27:34.599497",
     "status": "completed"
    },
    "tags": []
   },
   "outputs": [],
   "source": [
    "contrastive_pairs_val = []\n",
    "for item in processed_data_val:\n",
    "    query = item[\"query\"]\n",
    "    positive = item[\"positive\"]\n",
    "    negatives = item[\"negatives\"]\n",
    "    contrastive_pairs_val.append({\n",
    "        \"anchor\": query,\n",
    "        \"positive\": positive,\n",
    "        \"negatives\": negatives\n",
    "    })"
   ]
  },
  {
   "cell_type": "code",
   "execution_count": 35,
   "id": "2db047d5",
   "metadata": {
    "execution": {
     "iopub.execute_input": "2025-03-11T11:27:35.312798Z",
     "iopub.status.busy": "2025-03-11T11:27:35.312482Z",
     "iopub.status.idle": "2025-03-11T11:27:35.314733Z",
     "shell.execute_reply": "2025-03-11T11:27:35.314371Z"
    },
    "papermill": {
     "duration": 0.007669,
     "end_time": "2025-03-11T11:27:35.315247",
     "exception": false,
     "start_time": "2025-03-11T11:27:35.307578",
     "status": "completed"
    },
    "tags": []
   },
   "outputs": [],
   "source": [
    "contrastive_dataset_val = ContrastiveDataset(contrastive_pairs_val)"
   ]
  },
  {
   "cell_type": "code",
   "execution_count": 36,
   "id": "9b47b79f",
   "metadata": {
    "execution": {
     "iopub.execute_input": "2025-03-11T11:27:35.324792Z",
     "iopub.status.busy": "2025-03-11T11:27:35.324497Z",
     "iopub.status.idle": "2025-03-11T11:27:35.335457Z",
     "shell.execute_reply": "2025-03-11T11:27:35.335098Z"
    },
    "papermill": {
     "duration": 0.016301,
     "end_time": "2025-03-11T11:27:35.336027",
     "exception": false,
     "start_time": "2025-03-11T11:27:35.319726",
     "status": "completed"
    },
    "tags": []
   },
   "outputs": [],
   "source": [
    "data_loader_val = DataLoader(contrastive_dataset_val, batch_size=32, shuffle=True)"
   ]
  },
  {
   "cell_type": "code",
   "execution_count": 37,
   "id": "561260c2",
   "metadata": {
    "execution": {
     "iopub.execute_input": "2025-03-11T11:27:35.345396Z",
     "iopub.status.busy": "2025-03-11T11:27:35.345274Z",
     "iopub.status.idle": "2025-03-11T11:27:35.355716Z",
     "shell.execute_reply": "2025-03-11T11:27:35.355397Z"
    },
    "papermill": {
     "duration": 0.015817,
     "end_time": "2025-03-11T11:27:35.356298",
     "exception": false,
     "start_time": "2025-03-11T11:27:35.340481",
     "status": "completed"
    },
    "tags": []
   },
   "outputs": [
    {
     "data": {
      "text/plain": [
       "284"
      ]
     },
     "execution_count": 37,
     "metadata": {},
     "output_type": "execute_result"
    }
   ],
   "source": [
    "len(data_loader_val)"
   ]
  },
  {
   "cell_type": "code",
   "execution_count": 38,
   "id": "efb3c707",
   "metadata": {
    "execution": {
     "iopub.execute_input": "2025-03-11T11:27:35.366086Z",
     "iopub.status.busy": "2025-03-11T11:27:35.365782Z",
     "iopub.status.idle": "2025-03-11T11:27:35.375250Z",
     "shell.execute_reply": "2025-03-11T11:27:35.374892Z"
    },
    "papermill": {
     "duration": 0.014953,
     "end_time": "2025-03-11T11:27:35.375809",
     "exception": false,
     "start_time": "2025-03-11T11:27:35.360856",
     "status": "completed"
    },
    "tags": []
   },
   "outputs": [],
   "source": [
    "def evaluate_mrr(model, data_loader_val, distance_fn):\n",
    "    model.eval()\n",
    "\n",
    "    total_rr = 0.0\n",
    "    num_queries = 0\n",
    "\n",
    "    with torch.no_grad():\n",
    "        for batch in data_loader_val:\n",
    "            anchor_text = batch[0]\n",
    "            positive_text = batch[1]\n",
    "            negative_texts = batch[2]\n",
    "\n",
    "            anchor_input = tokenizer(anchor_text, return_tensors='pt', padding=True, truncation=True, max_length=512).to(device)\n",
    "            positive_input = tokenizer(positive_text, return_tensors='pt', padding=True, truncation=True, max_length=512).to(device)\n",
    "\n",
    "        \n",
    "            anchor_embedding = model(**anchor_input).last_hidden_state[:, 0, :]\n",
    "            positive_embedding = model(**positive_input).last_hidden_state[:, 0, :]\n",
    "            negative_embedding = [model(**tokenizer(neg, return_tensors='pt', padding=True, truncation=True, max_length=512).to(device)).last_hidden_state[:, 0, :] for neg in negative_texts]\n",
    "\n",
    "            pos_dist = distance_fn(anchor_embedding, positive_embedding)\n",
    "            neg_dist = torch.stack([distance_fn(anchor_embedding, neg) for neg in negative_embedding], dim=-1)\n",
    "            all_similarities=torch.cat([-pos_dist.unsqueeze(1), -neg_dist], dim=1)\n",
    "\n",
    "            sorted_similarities, sorted_indices = torch.sort(all_similarities, dim=1, descending=True)\n",
    "\n",
    "            # Find the rank of the first relevant (positive) document\n",
    "            positive_rank = (sorted_indices == 0).nonzero(as_tuple=True)[1] + 1  # +1 to make rank 1-based\n",
    "            total_rr += torch.sum(1.0 / positive_rank.float()).item()\n",
    "            num_queries += len(positive_rank)\n",
    "\n",
    "    mrr = total_rr / num_queries\n",
    "    return mrr"
   ]
  },
  {
   "cell_type": "code",
   "execution_count": 39,
   "id": "f6c878fe",
   "metadata": {
    "execution": {
     "iopub.execute_input": "2025-03-11T11:27:35.385770Z",
     "iopub.status.busy": "2025-03-11T11:27:35.385467Z",
     "iopub.status.idle": "2025-03-11T11:27:35.398145Z",
     "shell.execute_reply": "2025-03-11T11:27:35.397821Z"
    },
    "papermill": {
     "duration": 0.018318,
     "end_time": "2025-03-11T11:27:35.398736",
     "exception": false,
     "start_time": "2025-03-11T11:27:35.380418",
     "status": "completed"
    },
    "tags": []
   },
   "outputs": [],
   "source": [
    "import os\n",
    "save_dir =\"/dss/dsshome1/07/ra65bex2/srawat/le_cam/10\""
   ]
  },
  {
   "cell_type": "code",
   "execution_count": 40,
   "id": "95767b2e",
   "metadata": {
    "execution": {
     "iopub.execute_input": "2025-03-11T11:27:35.408371Z",
     "iopub.status.busy": "2025-03-11T11:27:35.408249Z",
     "iopub.status.idle": "2025-03-11T11:27:35.416996Z",
     "shell.execute_reply": "2025-03-11T11:27:35.416657Z"
    },
    "papermill": {
     "duration": 0.014231,
     "end_time": "2025-03-11T11:27:35.417566",
     "exception": false,
     "start_time": "2025-03-11T11:27:35.403335",
     "status": "completed"
    },
    "tags": []
   },
   "outputs": [],
   "source": [
    "import time\n",
    "epoch_metrics = []"
   ]
  },
  {
   "cell_type": "code",
   "execution_count": 41,
   "id": "af1d1d6d",
   "metadata": {
    "execution": {
     "iopub.execute_input": "2025-03-11T11:27:35.427336Z",
     "iopub.status.busy": "2025-03-11T11:27:35.427216Z",
     "iopub.status.idle": "2025-03-11T13:08:13.514871Z",
     "shell.execute_reply": "2025-03-11T13:08:13.514294Z"
    },
    "papermill": {
     "duration": 6038.099891,
     "end_time": "2025-03-11T13:08:13.522122",
     "exception": false,
     "start_time": "2025-03-11T11:27:35.422231",
     "status": "completed"
    },
    "tags": []
   },
   "outputs": [
    {
     "name": "stdout",
     "output_type": "stream",
     "text": [
      "EPOCH 1:\n",
      "Epoch 1/3, Training Loss: 0.7957699401695841\n",
      "Epoch 1/3, Contrastive Loss: 1.7444488738739439\n",
      "Epoch 1/3, le Cam Loss: -0.09486789344730008\n"
     ]
    },
    {
     "name": "stdout",
     "output_type": "stream",
     "text": [
      "Mean Reciprocal Rank (MRR) for validation set: 0.5187\n",
      "Epoch 1 took 33.5860 minutes.\n",
      "\n",
      "\n"
     ]
    },
    {
     "name": "stdout",
     "output_type": "stream",
     "text": [
      "EPOCH 2:\n",
      "Epoch 2/3, Training Loss: -0.11348038822284584\n",
      "Epoch 2/3, Contrastive Loss: 1.714542373362529\n",
      "Epoch 2/3, le Cam Loss: -0.18280227647558686\n"
     ]
    },
    {
     "name": "stdout",
     "output_type": "stream",
     "text": [
      "Mean Reciprocal Rank (MRR) for validation set: 0.5237\n",
      "Epoch 2 took 33.5285 minutes.\n",
      "\n",
      "\n"
     ]
    },
    {
     "name": "stdout",
     "output_type": "stream",
     "text": [
      "EPOCH 3:\n",
      "Epoch 3/3, Training Loss: -0.34276667464956195\n",
      "Epoch 3/3, Contrastive Loss: 1.7058082451124559\n",
      "Epoch 3/3, le Cam Loss: -0.20485749179497362\n"
     ]
    },
    {
     "name": "stdout",
     "output_type": "stream",
     "text": [
      "Mean Reciprocal Rank (MRR) for validation set: 0.5260\n",
      "Epoch 3 took 33.5200 minutes.\n",
      "\n",
      "\n"
     ]
    }
   ],
   "source": [
    "for epoch in range(num_epochs):\n",
    "    start_time = time.time()\n",
    "    lora_model.train() \n",
    "    \n",
    "    total_loss = 0.0\n",
    "    LC_loss_total=0.0\n",
    "    contrastive_loss_total=0.0\n",
    "    for batch in data_loader_train:\n",
    "    \n",
    "        anchor_texts = batch[0]\n",
    "        positive_texts = batch[1]\n",
    "        negative_texts = batch[2]\n",
    "\n",
    "        anchor_inputs = tokenizer(anchor_texts, return_tensors='pt', padding=True, truncation=True, max_length=512).to(device)\n",
    "        positive_inputs = tokenizer(positive_texts, return_tensors='pt', padding=True, truncation=True, max_length=512).to(device)\n",
    "    \n",
    "        anchor_embedding = lora_model(**anchor_inputs).last_hidden_state[:, 0, :]\n",
    "        positive_embedding = lora_model(**positive_inputs).last_hidden_state[:, 0, :]\n",
    "        negative_embedding = [lora_model(**tokenizer(neg, return_tensors='pt', padding=True, truncation=True, max_length=512).to(device)).last_hidden_state[:, 0, :] for neg in negative_texts]\n",
    "\n",
    "        infoNCE_loss = info_nce_loss(anchor_embedding, positive_embedding, negative_embedding, distance_fn=cosine_distance)\n",
    "        leCam_loss = le_cam_loss(anchor_embedding, positive_embedding, negative_embedding)\n",
    "        loss=infoNCE_loss+10*leCam_loss\n",
    "        \n",
    "        optimizer.zero_grad()\n",
    "        loss.backward()\n",
    "        optimizer.step()\n",
    "        \n",
    "        total_loss += loss.item()\n",
    "        LC_loss_total+=leCam_loss.item()\n",
    "        contrastive_loss_total+=infoNCE_loss.item()\n",
    "    if epoch==2:\n",
    "        save_path = os.path.join(save_dir, f\"checkpoint_epoch.pth\")\n",
    "        torch.save(lora_model, save_path)\n",
    "    print(f\"EPOCH {epoch+1}:\")\n",
    "    #print(f\"Checkpoint saved: {save_path}\")\n",
    "    print(f\"Epoch {epoch+1}/{num_epochs}, Training Loss: {total_loss / len(data_loader_train)}\")\n",
    "    print(f\"Epoch {epoch+1}/{num_epochs}, Contrastive Loss: {contrastive_loss_total / len(data_loader_train)}\")\n",
    "    print(f\"Epoch {epoch+1}/{num_epochs}, le Cam Loss: {LC_loss_total / len(data_loader_train)}\")\n",
    "    mrr_validation = evaluate_mrr(lora_model, data_loader_val, cosine_distance)\n",
    "    #mrr_train = evaluate_mrr(lora_model, data_loader_train, cosine_distance)\n",
    "    #print(f\"Mean Reciprocal Rank (MRR) for training set: {mrr_train:.4f}\")\n",
    "    print(f\"Mean Reciprocal Rank (MRR) for validation set: {mrr_validation:.4f}\")\n",
    "    end_time = time.time()\n",
    "    print(f\"Epoch {epoch+1} took {(end_time - start_time) / 60:.4f} minutes.\")\n",
    "    print(f\"\\n\")\n",
    "    epoch_metrics.append({\n",
    "        'epoch': epoch + 1,\n",
    "        'training_loss': total_loss / len(data_loader_train),\n",
    "        'leCam_loss' : LC_loss_total / len(data_loader_train),\n",
    "        'contrastive_loss' : contrastive_loss_total / len(data_loader_train),\n",
    "        'mrr_validation': mrr_validation,\n",
    "        'time_taken_minutes': (end_time - start_time) / 60\n",
    "    })"
   ]
  },
  {
   "cell_type": "code",
   "execution_count": 42,
   "id": "3679b614",
   "metadata": {
    "execution": {
     "iopub.execute_input": "2025-03-11T13:08:13.533302Z",
     "iopub.status.busy": "2025-03-11T13:08:13.532954Z",
     "iopub.status.idle": "2025-03-11T13:08:13.535546Z",
     "shell.execute_reply": "2025-03-11T13:08:13.535245Z"
    },
    "papermill": {
     "duration": 0.008823,
     "end_time": "2025-03-11T13:08:13.536128",
     "exception": false,
     "start_time": "2025-03-11T13:08:13.527305",
     "status": "completed"
    },
    "tags": []
   },
   "outputs": [],
   "source": [
    "import json"
   ]
  },
  {
   "cell_type": "code",
   "execution_count": 43,
   "id": "bfdc5377",
   "metadata": {
    "execution": {
     "iopub.execute_input": "2025-03-11T13:08:13.546695Z",
     "iopub.status.busy": "2025-03-11T13:08:13.546479Z",
     "iopub.status.idle": "2025-03-11T13:08:13.579463Z",
     "shell.execute_reply": "2025-03-11T13:08:13.579171Z"
    },
    "papermill": {
     "duration": 0.038942,
     "end_time": "2025-03-11T13:08:13.580057",
     "exception": false,
     "start_time": "2025-03-11T13:08:13.541115",
     "status": "completed"
    },
    "tags": []
   },
   "outputs": [],
   "source": [
    "with open(save_dir + '/epoch_metrics.json', 'w') as f:\n",
    "    json.dump(epoch_metrics, f)"
   ]
  }
 ],
 "metadata": {
  "kernelspec": {
   "display_name": "Python (myenv)",
   "language": "python",
   "name": "myenv"
  },
  "language_info": {
   "codemirror_mode": {
    "name": "ipython",
    "version": 3
   },
   "file_extension": ".py",
   "mimetype": "text/x-python",
   "name": "python",
   "nbconvert_exporter": "python",
   "pygments_lexer": "ipython3",
   "version": "3.12.7"
  },
  "papermill": {
   "default_parameters": {},
   "duration": 6109.258813,
   "end_time": "2025-03-11T13:08:16.227058",
   "environment_variables": {},
   "exception": null,
   "input_path": "10le_cam.ipynb",
   "output_path": "10le_cam_output.ipynb",
   "parameters": {},
   "start_time": "2025-03-11T11:26:26.968245",
   "version": "2.6.0"
  }
 },
 "nbformat": 4,
 "nbformat_minor": 5
}