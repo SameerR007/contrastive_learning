{
 "cells": [
  {
   "cell_type": "code",
   "execution_count": 1,
   "id": "1e448a3d",
   "metadata": {
    "execution": {
     "iopub.execute_input": "2025-03-11T11:16:52.020146Z",
     "iopub.status.busy": "2025-03-11T11:16:52.019784Z",
     "iopub.status.idle": "2025-03-11T11:16:56.612642Z",
     "shell.execute_reply": "2025-03-11T11:16:56.612183Z"
    },
    "papermill": {
     "duration": 4.598682,
     "end_time": "2025-03-11T11:16:56.613622",
     "exception": false,
     "start_time": "2025-03-11T11:16:52.014940",
     "status": "completed"
    },
    "tags": []
   },
   "outputs": [],
   "source": [
    "from datasets import load_dataset"
   ]
  },
  {
   "cell_type": "code",
   "execution_count": 2,
   "id": "3ef685e5",
   "metadata": {
    "execution": {
     "iopub.execute_input": "2025-03-11T11:16:56.623913Z",
     "iopub.status.busy": "2025-03-11T11:16:56.623684Z",
     "iopub.status.idle": "2025-03-11T11:17:04.673267Z",
     "shell.execute_reply": "2025-03-11T11:17:04.672830Z"
    },
    "papermill": {
     "duration": 8.054583,
     "end_time": "2025-03-11T11:17:04.674152",
     "exception": false,
     "start_time": "2025-03-11T11:16:56.619569",
     "status": "completed"
    },
    "tags": []
   },
   "outputs": [],
   "source": [
    "dataset_train = load_dataset('ms_marco', 'v1.1', split='train')"
   ]
  },
  {
   "cell_type": "code",
   "execution_count": 3,
   "id": "6b441fd2",
   "metadata": {
    "execution": {
     "iopub.execute_input": "2025-03-11T11:17:04.684157Z",
     "iopub.status.busy": "2025-03-11T11:17:04.683961Z",
     "iopub.status.idle": "2025-03-11T11:17:04.688386Z",
     "shell.execute_reply": "2025-03-11T11:17:04.688037Z"
    },
    "papermill": {
     "duration": 0.009067,
     "end_time": "2025-03-11T11:17:04.688949",
     "exception": false,
     "start_time": "2025-03-11T11:17:04.679882",
     "status": "completed"
    },
    "tags": []
   },
   "outputs": [
    {
     "data": {
      "text/plain": [
       "Dataset({\n",
       "    features: ['answers', 'passages', 'query', 'query_id', 'query_type', 'wellFormedAnswers'],\n",
       "    num_rows: 82326\n",
       "})"
      ]
     },
     "execution_count": 3,
     "metadata": {},
     "output_type": "execute_result"
    }
   ],
   "source": [
    "dataset_train"
   ]
  },
  {
   "cell_type": "code",
   "execution_count": 4,
   "id": "d7be26f9",
   "metadata": {
    "execution": {
     "iopub.execute_input": "2025-03-11T11:17:04.697602Z",
     "iopub.status.busy": "2025-03-11T11:17:04.697468Z",
     "iopub.status.idle": "2025-03-11T11:17:04.712919Z",
     "shell.execute_reply": "2025-03-11T11:17:04.712565Z"
    },
    "papermill": {
     "duration": 0.020807,
     "end_time": "2025-03-11T11:17:04.713530",
     "exception": false,
     "start_time": "2025-03-11T11:17:04.692723",
     "status": "completed"
    },
    "tags": []
   },
   "outputs": [],
   "source": [
    "def preprocess(example):\n",
    "    positive_passages=[]\n",
    "    for p in enumerate(example['passages'][\"is_selected\"]):\n",
    "        if p[1]==1:\n",
    "            positive_passages.append(example[\"passages\"][\"passage_text\"][p[0]])\n",
    "    negative_passages = []\n",
    "    for p in enumerate(example['passages'][\"is_selected\"]):\n",
    "        if p[1]==0:\n",
    "            negative_passages.append(example[\"passages\"][\"passage_text\"][p[0]])\n",
    "    if (len(positive_passages)>0 and len(negative_passages)>=5):\n",
    "        positive = positive_passages[0]\n",
    "        negatives = negative_passages[:5]\n",
    "        return {\n",
    "            \"query\": example[\"query\"],\n",
    "            \"positive\": positive,\n",
    "            \"negatives\": negatives\n",
    "        }\n",
    "    else:\n",
    "        return {\"query\": None, \"positive\": None, \"negatives\": None}"
   ]
  },
  {
   "cell_type": "code",
   "execution_count": 5,
   "id": "e5cb6e73",
   "metadata": {
    "execution": {
     "iopub.execute_input": "2025-03-11T11:17:04.721602Z",
     "iopub.status.busy": "2025-03-11T11:17:04.721471Z",
     "iopub.status.idle": "2025-03-11T11:17:04.737985Z",
     "shell.execute_reply": "2025-03-11T11:17:04.737625Z"
    },
    "papermill": {
     "duration": 0.021208,
     "end_time": "2025-03-11T11:17:04.738550",
     "exception": false,
     "start_time": "2025-03-11T11:17:04.717342",
     "status": "completed"
    },
    "tags": []
   },
   "outputs": [],
   "source": [
    "processed_data_train = dataset_train.map(preprocess, remove_columns=dataset_train.column_names)"
   ]
  },
  {
   "cell_type": "code",
   "execution_count": 6,
   "id": "a2c2875f",
   "metadata": {
    "execution": {
     "iopub.execute_input": "2025-03-11T11:17:04.746538Z",
     "iopub.status.busy": "2025-03-11T11:17:04.746408Z",
     "iopub.status.idle": "2025-03-11T11:17:04.761733Z",
     "shell.execute_reply": "2025-03-11T11:17:04.761374Z"
    },
    "papermill": {
     "duration": 0.019955,
     "end_time": "2025-03-11T11:17:04.762275",
     "exception": false,
     "start_time": "2025-03-11T11:17:04.742320",
     "status": "completed"
    },
    "tags": []
   },
   "outputs": [],
   "source": [
    "processed_data_train = processed_data_train.filter(lambda x: x['query'] is not None and x['positive'] is not None)"
   ]
  },
  {
   "cell_type": "code",
   "execution_count": 7,
   "id": "c6fd26e8",
   "metadata": {
    "execution": {
     "iopub.execute_input": "2025-03-11T11:17:04.770271Z",
     "iopub.status.busy": "2025-03-11T11:17:04.770137Z",
     "iopub.status.idle": "2025-03-11T11:17:09.901942Z",
     "shell.execute_reply": "2025-03-11T11:17:09.901472Z"
    },
    "papermill": {
     "duration": 5.136703,
     "end_time": "2025-03-11T11:17:09.902749",
     "exception": false,
     "start_time": "2025-03-11T11:17:04.766046",
     "status": "completed"
    },
    "tags": []
   },
   "outputs": [],
   "source": [
    "contrastive_pairs_train = []\n",
    "for item in processed_data_train:\n",
    "    query = item[\"query\"]\n",
    "    positive = item[\"positive\"]\n",
    "    negatives = item[\"negatives\"]\n",
    "    contrastive_pairs_train.append({\n",
    "        \"anchor\": query,\n",
    "        \"positive\": positive,\n",
    "        \"negatives\": negatives\n",
    "    })"
   ]
  },
  {
   "cell_type": "code",
   "execution_count": 8,
   "id": "db8f3f2b",
   "metadata": {
    "execution": {
     "iopub.execute_input": "2025-03-11T11:17:09.913379Z",
     "iopub.status.busy": "2025-03-11T11:17:09.913234Z",
     "iopub.status.idle": "2025-03-11T11:17:09.916259Z",
     "shell.execute_reply": "2025-03-11T11:17:09.915877Z"
    },
    "papermill": {
     "duration": 0.00786,
     "end_time": "2025-03-11T11:17:09.916881",
     "exception": false,
     "start_time": "2025-03-11T11:17:09.909021",
     "status": "completed"
    },
    "tags": []
   },
   "outputs": [
    {
     "data": {
      "text/plain": [
       "74538"
      ]
     },
     "execution_count": 8,
     "metadata": {},
     "output_type": "execute_result"
    }
   ],
   "source": [
    "len(contrastive_pairs_train)"
   ]
  },
  {
   "cell_type": "code",
   "execution_count": 9,
   "id": "754b04e3",
   "metadata": {
    "execution": {
     "iopub.execute_input": "2025-03-11T11:17:09.925114Z",
     "iopub.status.busy": "2025-03-11T11:17:09.924986Z",
     "iopub.status.idle": "2025-03-11T11:17:15.142833Z",
     "shell.execute_reply": "2025-03-11T11:17:15.142288Z"
    },
    "papermill": {
     "duration": 5.223204,
     "end_time": "2025-03-11T11:17:15.143993",
     "exception": false,
     "start_time": "2025-03-11T11:17:09.920789",
     "status": "completed"
    },
    "tags": []
   },
   "outputs": [],
   "source": [
    "from torch.utils.data import DataLoader"
   ]
  },
  {
   "cell_type": "code",
   "execution_count": 10,
   "id": "ac4719be",
   "metadata": {
    "execution": {
     "iopub.execute_input": "2025-03-11T11:17:15.155156Z",
     "iopub.status.busy": "2025-03-11T11:17:15.154809Z",
     "iopub.status.idle": "2025-03-11T11:17:15.157872Z",
     "shell.execute_reply": "2025-03-11T11:17:15.157526Z"
    },
    "papermill": {
     "duration": 0.00812,
     "end_time": "2025-03-11T11:17:15.158453",
     "exception": false,
     "start_time": "2025-03-11T11:17:15.150333",
     "status": "completed"
    },
    "tags": []
   },
   "outputs": [],
   "source": [
    "class ContrastiveDataset:\n",
    "    def __init__(self, pairs):\n",
    "        self.pairs = pairs\n",
    "\n",
    "    def __len__(self):\n",
    "        return len(self.pairs)\n",
    "\n",
    "    def __getitem__(self, idx):\n",
    "        item = self.pairs[idx]\n",
    "        return item[\"anchor\"], item[\"positive\"], item[\"negatives\"]"
   ]
  },
  {
   "cell_type": "code",
   "execution_count": 11,
   "id": "40eba73d",
   "metadata": {
    "execution": {
     "iopub.execute_input": "2025-03-11T11:17:15.166668Z",
     "iopub.status.busy": "2025-03-11T11:17:15.166536Z",
     "iopub.status.idle": "2025-03-11T11:17:15.186196Z",
     "shell.execute_reply": "2025-03-11T11:17:15.185846Z"
    },
    "papermill": {
     "duration": 0.024439,
     "end_time": "2025-03-11T11:17:15.186757",
     "exception": false,
     "start_time": "2025-03-11T11:17:15.162318",
     "status": "completed"
    },
    "tags": []
   },
   "outputs": [],
   "source": [
    "contrastive_dataset_train = ContrastiveDataset(contrastive_pairs_train)"
   ]
  },
  {
   "cell_type": "code",
   "execution_count": 12,
   "id": "0fbd5195",
   "metadata": {
    "execution": {
     "iopub.execute_input": "2025-03-11T11:17:15.195577Z",
     "iopub.status.busy": "2025-03-11T11:17:15.195166Z",
     "iopub.status.idle": "2025-03-11T11:17:15.208690Z",
     "shell.execute_reply": "2025-03-11T11:17:15.208348Z"
    },
    "papermill": {
     "duration": 0.018535,
     "end_time": "2025-03-11T11:17:15.209278",
     "exception": false,
     "start_time": "2025-03-11T11:17:15.190743",
     "status": "completed"
    },
    "tags": []
   },
   "outputs": [],
   "source": [
    "data_loader_train = DataLoader(contrastive_dataset_train, batch_size=32, shuffle=True)"
   ]
  },
  {
   "cell_type": "code",
   "execution_count": 13,
   "id": "5e4d55de",
   "metadata": {
    "execution": {
     "iopub.execute_input": "2025-03-11T11:17:15.217566Z",
     "iopub.status.busy": "2025-03-11T11:17:15.217427Z",
     "iopub.status.idle": "2025-03-11T11:17:15.229989Z",
     "shell.execute_reply": "2025-03-11T11:17:15.229650Z"
    },
    "papermill": {
     "duration": 0.01735,
     "end_time": "2025-03-11T11:17:15.230531",
     "exception": false,
     "start_time": "2025-03-11T11:17:15.213181",
     "status": "completed"
    },
    "tags": []
   },
   "outputs": [
    {
     "data": {
      "text/plain": [
       "2330"
      ]
     },
     "execution_count": 13,
     "metadata": {},
     "output_type": "execute_result"
    }
   ],
   "source": [
    "len(data_loader_train)"
   ]
  },
  {
   "cell_type": "code",
   "execution_count": 14,
   "id": "b9d4bbd5",
   "metadata": {
    "execution": {
     "iopub.execute_input": "2025-03-11T11:17:15.238954Z",
     "iopub.status.busy": "2025-03-11T11:17:15.238827Z",
     "iopub.status.idle": "2025-03-11T11:17:25.067478Z",
     "shell.execute_reply": "2025-03-11T11:17:25.066997Z"
    },
    "papermill": {
     "duration": 9.83382,
     "end_time": "2025-03-11T11:17:25.068326",
     "exception": false,
     "start_time": "2025-03-11T11:17:15.234506",
     "status": "completed"
    },
    "tags": []
   },
   "outputs": [],
   "source": [
    "from transformers import AutoTokenizer, AutoModel\n",
    "tokenizer = AutoTokenizer.from_pretrained(\"bert-base-uncased\")"
   ]
  },
  {
   "cell_type": "code",
   "execution_count": 15,
   "id": "f5b5c80c",
   "metadata": {
    "execution": {
     "iopub.execute_input": "2025-03-11T11:17:25.079753Z",
     "iopub.status.busy": "2025-03-11T11:17:25.079500Z",
     "iopub.status.idle": "2025-03-11T11:17:26.237342Z",
     "shell.execute_reply": "2025-03-11T11:17:26.236901Z"
    },
    "papermill": {
     "duration": 1.163078,
     "end_time": "2025-03-11T11:17:26.238040",
     "exception": false,
     "start_time": "2025-03-11T11:17:25.074962",
     "status": "completed"
    },
    "tags": []
   },
   "outputs": [],
   "source": [
    "model = AutoModel.from_pretrained(\"bert-base-uncased\")"
   ]
  },
  {
   "cell_type": "code",
   "execution_count": 16,
   "id": "199f3ec6",
   "metadata": {
    "execution": {
     "iopub.execute_input": "2025-03-11T11:17:26.247859Z",
     "iopub.status.busy": "2025-03-11T11:17:26.247718Z",
     "iopub.status.idle": "2025-03-11T11:17:26.678277Z",
     "shell.execute_reply": "2025-03-11T11:17:26.677844Z"
    },
    "papermill": {
     "duration": 0.436557,
     "end_time": "2025-03-11T11:17:26.678871",
     "exception": false,
     "start_time": "2025-03-11T11:17:26.242314",
     "status": "completed"
    },
    "tags": []
   },
   "outputs": [],
   "source": [
    "from peft import LoraConfig, get_peft_model"
   ]
  },
  {
   "cell_type": "code",
   "execution_count": 17,
   "id": "b71e2d3a",
   "metadata": {
    "execution": {
     "iopub.execute_input": "2025-03-11T11:17:26.689416Z",
     "iopub.status.busy": "2025-03-11T11:17:26.689278Z",
     "iopub.status.idle": "2025-03-11T11:17:26.691492Z",
     "shell.execute_reply": "2025-03-11T11:17:26.691144Z"
    },
    "papermill": {
     "duration": 0.007307,
     "end_time": "2025-03-11T11:17:26.692097",
     "exception": false,
     "start_time": "2025-03-11T11:17:26.684790",
     "status": "completed"
    },
    "tags": []
   },
   "outputs": [],
   "source": [
    "lora_config = LoraConfig(\n",
    "    task_type= \"FEATURE_EXTRACTION\"\n",
    ")"
   ]
  },
  {
   "cell_type": "code",
   "execution_count": 18,
   "id": "7e1552ae",
   "metadata": {
    "execution": {
     "iopub.execute_input": "2025-03-11T11:17:26.700917Z",
     "iopub.status.busy": "2025-03-11T11:17:26.700783Z",
     "iopub.status.idle": "2025-03-11T11:17:26.734098Z",
     "shell.execute_reply": "2025-03-11T11:17:26.733727Z"
    },
    "papermill": {
     "duration": 0.038461,
     "end_time": "2025-03-11T11:17:26.734733",
     "exception": false,
     "start_time": "2025-03-11T11:17:26.696272",
     "status": "completed"
    },
    "tags": []
   },
   "outputs": [],
   "source": [
    "lora_model = get_peft_model(model, lora_config)"
   ]
  },
  {
   "cell_type": "code",
   "execution_count": 19,
   "id": "77f624f2",
   "metadata": {
    "execution": {
     "iopub.execute_input": "2025-03-11T11:17:26.743575Z",
     "iopub.status.busy": "2025-03-11T11:17:26.743441Z",
     "iopub.status.idle": "2025-03-11T11:17:26.745469Z",
     "shell.execute_reply": "2025-03-11T11:17:26.745104Z"
    },
    "papermill": {
     "duration": 0.007113,
     "end_time": "2025-03-11T11:17:26.746038",
     "exception": false,
     "start_time": "2025-03-11T11:17:26.738925",
     "status": "completed"
    },
    "tags": []
   },
   "outputs": [],
   "source": [
    "import torch"
   ]
  },
  {
   "cell_type": "code",
   "execution_count": 20,
   "id": "3201fd00",
   "metadata": {
    "execution": {
     "iopub.execute_input": "2025-03-11T11:17:26.754846Z",
     "iopub.status.busy": "2025-03-11T11:17:26.754718Z",
     "iopub.status.idle": "2025-03-11T11:17:26.766197Z",
     "shell.execute_reply": "2025-03-11T11:17:26.765819Z"
    },
    "papermill": {
     "duration": 0.016556,
     "end_time": "2025-03-11T11:17:26.766757",
     "exception": false,
     "start_time": "2025-03-11T11:17:26.750201",
     "status": "completed"
    },
    "tags": []
   },
   "outputs": [],
   "source": [
    "def cosine_distance(x, y):\n",
    "    return 1 - torch.nn.functional.cosine_similarity(x, y, dim=-1)"
   ]
  },
  {
   "cell_type": "code",
   "execution_count": 21,
   "id": "5964b822",
   "metadata": {
    "execution": {
     "iopub.execute_input": "2025-03-11T11:17:26.775484Z",
     "iopub.status.busy": "2025-03-11T11:17:26.775358Z",
     "iopub.status.idle": "2025-03-11T11:17:26.794856Z",
     "shell.execute_reply": "2025-03-11T11:17:26.794515Z"
    },
    "papermill": {
     "duration": 0.024528,
     "end_time": "2025-03-11T11:17:26.795437",
     "exception": false,
     "start_time": "2025-03-11T11:17:26.770909",
     "status": "completed"
    },
    "tags": []
   },
   "outputs": [],
   "source": [
    "def info_nce_loss(anchor_embedding, positive_embedding, negative_embedding, distance_fn):\n",
    "\n",
    "    pos_dist = distance_fn(anchor_embedding, positive_embedding) \n",
    "    neg_dist = torch.stack([distance_fn(anchor_embedding, neg) for neg in negative_embedding], dim=-1) \n",
    "\n",
    "    logits = torch.cat([-pos_dist.unsqueeze(1), -neg_dist], dim=1)\n",
    "    labels = torch.zeros(logits.size(0), dtype=torch.long, device=logits.device)\n",
    "\n",
    "    loss = torch.nn.CrossEntropyLoss()(logits, labels)\n",
    "    return loss"
   ]
  },
  {
   "cell_type": "code",
   "execution_count": 22,
   "id": "4853a468",
   "metadata": {
    "execution": {
     "iopub.execute_input": "2025-03-11T11:17:26.804266Z",
     "iopub.status.busy": "2025-03-11T11:17:26.804141Z",
     "iopub.status.idle": "2025-03-11T11:17:26.817555Z",
     "shell.execute_reply": "2025-03-11T11:17:26.817201Z"
    },
    "papermill": {
     "duration": 0.018495,
     "end_time": "2025-03-11T11:17:26.818146",
     "exception": false,
     "start_time": "2025-03-11T11:17:26.799651",
     "status": "completed"
    },
    "tags": []
   },
   "outputs": [],
   "source": [
    "def le_cam_divergence(P, Q):\n",
    "    return torch.sum(((P - Q) ** 2) / (P + Q + 1e-8), dim=-1)"
   ]
  },
  {
   "cell_type": "code",
   "execution_count": 23,
   "id": "ca306997",
   "metadata": {
    "execution": {
     "iopub.execute_input": "2025-03-11T11:17:26.827040Z",
     "iopub.status.busy": "2025-03-11T11:17:26.826914Z",
     "iopub.status.idle": "2025-03-11T11:17:26.839943Z",
     "shell.execute_reply": "2025-03-11T11:17:26.839564Z"
    },
    "papermill": {
     "duration": 0.018118,
     "end_time": "2025-03-11T11:17:26.840484",
     "exception": false,
     "start_time": "2025-03-11T11:17:26.822366",
     "status": "completed"
    },
    "tags": []
   },
   "outputs": [],
   "source": [
    "import torch.nn.functional as F\n",
    "def le_cam_loss(query, positive, negative):\n",
    "    negative=torch.stack(negative,dim=1)\n",
    "    query = F.softmax(query, dim=-1)\n",
    "    positive = F.softmax(positive, dim=-1)\n",
    "    negative = F.softmax(negative, dim=-1)\n",
    "    \n",
    "    le_cam_pos = le_cam_divergence(query, positive)\n",
    "    le_cam_neg = torch.mean(le_cam_divergence(query.unsqueeze(1), negative), dim=1)\n",
    "    total_loss = le_cam_pos - le_cam_neg\n",
    "    return total_loss.mean()"
   ]
  },
  {
   "cell_type": "code",
   "execution_count": 24,
   "id": "9dca0e18",
   "metadata": {
    "execution": {
     "iopub.execute_input": "2025-03-11T11:17:26.849609Z",
     "iopub.status.busy": "2025-03-11T11:17:26.849354Z",
     "iopub.status.idle": "2025-03-11T11:17:26.860957Z",
     "shell.execute_reply": "2025-03-11T11:17:26.860611Z"
    },
    "papermill": {
     "duration": 0.016803,
     "end_time": "2025-03-11T11:17:26.861545",
     "exception": false,
     "start_time": "2025-03-11T11:17:26.844742",
     "status": "completed"
    },
    "tags": []
   },
   "outputs": [],
   "source": [
    "import torch.optim as optim\n",
    "optimizer = torch.optim.AdamW(lora_model.parameters(), lr=5e-5)"
   ]
  },
  {
   "cell_type": "code",
   "execution_count": 25,
   "id": "656a9483",
   "metadata": {
    "execution": {
     "iopub.execute_input": "2025-03-11T11:17:26.870615Z",
     "iopub.status.busy": "2025-03-11T11:17:26.870491Z",
     "iopub.status.idle": "2025-03-11T11:17:26.880147Z",
     "shell.execute_reply": "2025-03-11T11:17:26.879811Z"
    },
    "papermill": {
     "duration": 0.0149,
     "end_time": "2025-03-11T11:17:26.880733",
     "exception": false,
     "start_time": "2025-03-11T11:17:26.865833",
     "status": "completed"
    },
    "tags": []
   },
   "outputs": [],
   "source": [
    "num_epochs=3"
   ]
  },
  {
   "cell_type": "code",
   "execution_count": 26,
   "id": "31bb05dc",
   "metadata": {
    "execution": {
     "iopub.execute_input": "2025-03-11T11:17:26.889873Z",
     "iopub.status.busy": "2025-03-11T11:17:26.889750Z",
     "iopub.status.idle": "2025-03-11T11:17:27.205959Z",
     "shell.execute_reply": "2025-03-11T11:17:27.205470Z"
    },
    "papermill": {
     "duration": 0.321496,
     "end_time": "2025-03-11T11:17:27.206579",
     "exception": false,
     "start_time": "2025-03-11T11:17:26.885083",
     "status": "completed"
    },
    "tags": []
   },
   "outputs": [],
   "source": [
    "device = torch.device('cuda' if torch.cuda.is_available() else 'cpu')"
   ]
  },
  {
   "cell_type": "code",
   "execution_count": 27,
   "id": "e7814408",
   "metadata": {
    "execution": {
     "iopub.execute_input": "2025-03-11T11:17:27.215661Z",
     "iopub.status.busy": "2025-03-11T11:17:27.215529Z",
     "iopub.status.idle": "2025-03-11T11:17:27.227541Z",
     "shell.execute_reply": "2025-03-11T11:17:27.227207Z"
    },
    "papermill": {
     "duration": 0.017159,
     "end_time": "2025-03-11T11:17:27.228065",
     "exception": false,
     "start_time": "2025-03-11T11:17:27.210906",
     "status": "completed"
    },
    "tags": []
   },
   "outputs": [
    {
     "data": {
      "text/plain": [
       "device(type='cuda')"
      ]
     },
     "execution_count": 27,
     "metadata": {},
     "output_type": "execute_result"
    }
   ],
   "source": [
    "device"
   ]
  },
  {
   "cell_type": "code",
   "execution_count": 28,
   "id": "f0d28669",
   "metadata": {
    "execution": {
     "iopub.execute_input": "2025-03-11T11:17:27.237081Z",
     "iopub.status.busy": "2025-03-11T11:17:27.236958Z",
     "iopub.status.idle": "2025-03-11T11:17:27.247172Z",
     "shell.execute_reply": "2025-03-11T11:17:27.246820Z"
    },
    "papermill": {
     "duration": 0.015375,
     "end_time": "2025-03-11T11:17:27.247719",
     "exception": false,
     "start_time": "2025-03-11T11:17:27.232344",
     "status": "completed"
    },
    "tags": []
   },
   "outputs": [
    {
     "name": "stdout",
     "output_type": "stream",
     "text": [
      "2.5.1+cu124\n",
      "True\n"
     ]
    }
   ],
   "source": [
    "import torch\n",
    "print(torch.__version__)\n",
    "print(torch.cuda.is_available())"
   ]
  },
  {
   "cell_type": "code",
   "execution_count": 29,
   "id": "acf14df5",
   "metadata": {
    "execution": {
     "iopub.execute_input": "2025-03-11T11:17:27.257185Z",
     "iopub.status.busy": "2025-03-11T11:17:27.256867Z",
     "iopub.status.idle": "2025-03-11T11:17:27.267605Z",
     "shell.execute_reply": "2025-03-11T11:17:27.267274Z"
    },
    "papermill": {
     "duration": 0.016049,
     "end_time": "2025-03-11T11:17:27.268148",
     "exception": false,
     "start_time": "2025-03-11T11:17:27.252099",
     "status": "completed"
    },
    "tags": []
   },
   "outputs": [
    {
     "data": {
      "text/plain": [
       "True"
      ]
     },
     "execution_count": 29,
     "metadata": {},
     "output_type": "execute_result"
    }
   ],
   "source": [
    "torch.cuda.is_available()"
   ]
  },
  {
   "cell_type": "code",
   "execution_count": 30,
   "id": "df991549",
   "metadata": {
    "execution": {
     "iopub.execute_input": "2025-03-11T11:17:27.277614Z",
     "iopub.status.busy": "2025-03-11T11:17:27.277489Z",
     "iopub.status.idle": "2025-03-11T11:17:27.943477Z",
     "shell.execute_reply": "2025-03-11T11:17:27.943009Z"
    },
    "papermill": {
     "duration": 0.671489,
     "end_time": "2025-03-11T11:17:27.944103",
     "exception": false,
     "start_time": "2025-03-11T11:17:27.272614",
     "status": "completed"
    },
    "tags": []
   },
   "outputs": [],
   "source": [
    "lora_model = lora_model.to(device)"
   ]
  },
  {
   "cell_type": "code",
   "execution_count": 31,
   "id": "a2417187",
   "metadata": {
    "execution": {
     "iopub.execute_input": "2025-03-11T11:17:27.953905Z",
     "iopub.status.busy": "2025-03-11T11:17:27.953606Z",
     "iopub.status.idle": "2025-03-11T11:17:31.366047Z",
     "shell.execute_reply": "2025-03-11T11:17:31.365651Z"
    },
    "papermill": {
     "duration": 3.418062,
     "end_time": "2025-03-11T11:17:31.366777",
     "exception": false,
     "start_time": "2025-03-11T11:17:27.948715",
     "status": "completed"
    },
    "tags": []
   },
   "outputs": [],
   "source": [
    "dataset_val = load_dataset('ms_marco', 'v1.1', split='validation')"
   ]
  },
  {
   "cell_type": "code",
   "execution_count": 32,
   "id": "18af04e4",
   "metadata": {
    "execution": {
     "iopub.execute_input": "2025-03-11T11:17:31.376954Z",
     "iopub.status.busy": "2025-03-11T11:17:31.376823Z",
     "iopub.status.idle": "2025-03-11T11:17:31.382286Z",
     "shell.execute_reply": "2025-03-11T11:17:31.381749Z"
    },
    "papermill": {
     "duration": 0.011095,
     "end_time": "2025-03-11T11:17:31.382857",
     "exception": false,
     "start_time": "2025-03-11T11:17:31.371762",
     "status": "completed"
    },
    "tags": []
   },
   "outputs": [],
   "source": [
    "processed_data_val = dataset_val.map(preprocess, remove_columns=dataset_val.column_names)"
   ]
  },
  {
   "cell_type": "code",
   "execution_count": 33,
   "id": "8e06c1ff",
   "metadata": {
    "execution": {
     "iopub.execute_input": "2025-03-11T11:17:31.392458Z",
     "iopub.status.busy": "2025-03-11T11:17:31.392326Z",
     "iopub.status.idle": "2025-03-11T11:17:31.635715Z",
     "shell.execute_reply": "2025-03-11T11:17:31.635371Z"
    },
    "papermill": {
     "duration": 0.24892,
     "end_time": "2025-03-11T11:17:31.636340",
     "exception": false,
     "start_time": "2025-03-11T11:17:31.387420",
     "status": "completed"
    },
    "tags": []
   },
   "outputs": [],
   "source": [
    "processed_data_val = processed_data_val.filter(lambda x: x['query'] is not None and x['positive'] is not None)"
   ]
  },
  {
   "cell_type": "code",
   "execution_count": 34,
   "id": "8c46e7ce",
   "metadata": {
    "execution": {
     "iopub.execute_input": "2025-03-11T11:17:31.650848Z",
     "iopub.status.busy": "2025-03-11T11:17:31.650721Z",
     "iopub.status.idle": "2025-03-11T11:17:32.314819Z",
     "shell.execute_reply": "2025-03-11T11:17:32.314355Z"
    },
    "papermill": {
     "duration": 0.669804,
     "end_time": "2025-03-11T11:17:32.315495",
     "exception": false,
     "start_time": "2025-03-11T11:17:31.645691",
     "status": "completed"
    },
    "tags": []
   },
   "outputs": [],
   "source": [
    "contrastive_pairs_val = []\n",
    "for item in processed_data_val:\n",
    "    query = item[\"query\"]\n",
    "    positive = item[\"positive\"]\n",
    "    negatives = item[\"negatives\"]\n",
    "    contrastive_pairs_val.append({\n",
    "        \"anchor\": query,\n",
    "        \"positive\": positive,\n",
    "        \"negatives\": negatives\n",
    "    })"
   ]
  },
  {
   "cell_type": "code",
   "execution_count": 35,
   "id": "a64b8b1d",
   "metadata": {
    "execution": {
     "iopub.execute_input": "2025-03-11T11:17:32.325401Z",
     "iopub.status.busy": "2025-03-11T11:17:32.325267Z",
     "iopub.status.idle": "2025-03-11T11:17:32.327435Z",
     "shell.execute_reply": "2025-03-11T11:17:32.327094Z"
    },
    "papermill": {
     "duration": 0.007797,
     "end_time": "2025-03-11T11:17:32.327997",
     "exception": false,
     "start_time": "2025-03-11T11:17:32.320200",
     "status": "completed"
    },
    "tags": []
   },
   "outputs": [],
   "source": [
    "contrastive_dataset_val = ContrastiveDataset(contrastive_pairs_val)"
   ]
  },
  {
   "cell_type": "code",
   "execution_count": 36,
   "id": "91e8496c",
   "metadata": {
    "execution": {
     "iopub.execute_input": "2025-03-11T11:17:32.337754Z",
     "iopub.status.busy": "2025-03-11T11:17:32.337629Z",
     "iopub.status.idle": "2025-03-11T11:17:32.349637Z",
     "shell.execute_reply": "2025-03-11T11:17:32.349220Z"
    },
    "papermill": {
     "duration": 0.017618,
     "end_time": "2025-03-11T11:17:32.350214",
     "exception": false,
     "start_time": "2025-03-11T11:17:32.332596",
     "status": "completed"
    },
    "tags": []
   },
   "outputs": [],
   "source": [
    "data_loader_val = DataLoader(contrastive_dataset_val, batch_size=32, shuffle=True)"
   ]
  },
  {
   "cell_type": "code",
   "execution_count": 37,
   "id": "16c37494",
   "metadata": {
    "execution": {
     "iopub.execute_input": "2025-03-11T11:17:32.360197Z",
     "iopub.status.busy": "2025-03-11T11:17:32.360072Z",
     "iopub.status.idle": "2025-03-11T11:17:32.378947Z",
     "shell.execute_reply": "2025-03-11T11:17:32.378619Z"
    },
    "papermill": {
     "duration": 0.024511,
     "end_time": "2025-03-11T11:17:32.379483",
     "exception": false,
     "start_time": "2025-03-11T11:17:32.354972",
     "status": "completed"
    },
    "tags": []
   },
   "outputs": [
    {
     "data": {
      "text/plain": [
       "284"
      ]
     },
     "execution_count": 37,
     "metadata": {},
     "output_type": "execute_result"
    }
   ],
   "source": [
    "len(data_loader_val)"
   ]
  },
  {
   "cell_type": "code",
   "execution_count": 38,
   "id": "8fdb722f",
   "metadata": {
    "execution": {
     "iopub.execute_input": "2025-03-11T11:17:32.389414Z",
     "iopub.status.busy": "2025-03-11T11:17:32.389291Z",
     "iopub.status.idle": "2025-03-11T11:17:32.399087Z",
     "shell.execute_reply": "2025-03-11T11:17:32.398714Z"
    },
    "papermill": {
     "duration": 0.015437,
     "end_time": "2025-03-11T11:17:32.399656",
     "exception": false,
     "start_time": "2025-03-11T11:17:32.384219",
     "status": "completed"
    },
    "tags": []
   },
   "outputs": [],
   "source": [
    "def evaluate_mrr(model, data_loader_val, distance_fn):\n",
    "    model.eval()\n",
    "\n",
    "    total_rr = 0.0\n",
    "    num_queries = 0\n",
    "\n",
    "    with torch.no_grad():\n",
    "        for batch in data_loader_val:\n",
    "            anchor_text = batch[0]\n",
    "            positive_text = batch[1]\n",
    "            negative_texts = batch[2]\n",
    "\n",
    "            anchor_input = tokenizer(anchor_text, return_tensors='pt', padding=True, truncation=True, max_length=512).to(device)\n",
    "            positive_input = tokenizer(positive_text, return_tensors='pt', padding=True, truncation=True, max_length=512).to(device)\n",
    "\n",
    "        \n",
    "            anchor_embedding = model(**anchor_input).last_hidden_state[:, 0, :]\n",
    "            positive_embedding = model(**positive_input).last_hidden_state[:, 0, :]\n",
    "            negative_embedding = [model(**tokenizer(neg, return_tensors='pt', padding=True, truncation=True, max_length=512).to(device)).last_hidden_state[:, 0, :] for neg in negative_texts]\n",
    "\n",
    "            pos_dist = distance_fn(anchor_embedding, positive_embedding)\n",
    "            neg_dist = torch.stack([distance_fn(anchor_embedding, neg) for neg in negative_embedding], dim=-1)\n",
    "            all_similarities=torch.cat([-pos_dist.unsqueeze(1), -neg_dist], dim=1)\n",
    "\n",
    "            sorted_similarities, sorted_indices = torch.sort(all_similarities, dim=1, descending=True)\n",
    "\n",
    "            # Find the rank of the first relevant (positive) document\n",
    "            positive_rank = (sorted_indices == 0).nonzero(as_tuple=True)[1] + 1  # +1 to make rank 1-based\n",
    "            total_rr += torch.sum(1.0 / positive_rank.float()).item()\n",
    "            num_queries += len(positive_rank)\n",
    "\n",
    "    mrr = total_rr / num_queries\n",
    "    return mrr"
   ]
  },
  {
   "cell_type": "code",
   "execution_count": 39,
   "id": "3595514f",
   "metadata": {
    "execution": {
     "iopub.execute_input": "2025-03-11T11:17:32.409807Z",
     "iopub.status.busy": "2025-03-11T11:17:32.409662Z",
     "iopub.status.idle": "2025-03-11T11:17:32.420357Z",
     "shell.execute_reply": "2025-03-11T11:17:32.420020Z"
    },
    "papermill": {
     "duration": 0.016478,
     "end_time": "2025-03-11T11:17:32.420912",
     "exception": false,
     "start_time": "2025-03-11T11:17:32.404434",
     "status": "completed"
    },
    "tags": []
   },
   "outputs": [],
   "source": [
    "import os\n",
    "save_dir =\"/dss/dsshome1/07/ra65bex2/srawat/le_cam/1\""
   ]
  },
  {
   "cell_type": "code",
   "execution_count": 40,
   "id": "2f8bef0a",
   "metadata": {
    "execution": {
     "iopub.execute_input": "2025-03-11T11:17:32.431197Z",
     "iopub.status.busy": "2025-03-11T11:17:32.430917Z",
     "iopub.status.idle": "2025-03-11T11:17:32.462513Z",
     "shell.execute_reply": "2025-03-11T11:17:32.462165Z"
    },
    "papermill": {
     "duration": 0.037326,
     "end_time": "2025-03-11T11:17:32.463072",
     "exception": false,
     "start_time": "2025-03-11T11:17:32.425746",
     "status": "completed"
    },
    "tags": []
   },
   "outputs": [],
   "source": [
    "import time\n",
    "epoch_metrics = []"
   ]
  },
  {
   "cell_type": "code",
   "execution_count": 41,
   "id": "dcf1eb1b",
   "metadata": {
    "execution": {
     "iopub.execute_input": "2025-03-11T11:17:32.473461Z",
     "iopub.status.busy": "2025-03-11T11:17:32.473103Z",
     "iopub.status.idle": "2025-03-11T12:58:01.397650Z",
     "shell.execute_reply": "2025-03-11T12:58:01.396972Z"
    },
    "papermill": {
     "duration": 6028.936994,
     "end_time": "2025-03-11T12:58:01.404791",
     "exception": false,
     "start_time": "2025-03-11T11:17:32.467797",
     "status": "completed"
    },
    "tags": []
   },
   "outputs": [
    {
     "name": "stdout",
     "output_type": "stream",
     "text": [
      "EPOCH 1:\n",
      "Epoch 1/3, Training Loss: 1.6650123979400668\n",
      "Epoch 1/3, Contrastive Loss: 1.7348074745722595\n",
      "Epoch 1/3, le Cam Loss: -0.06979507582942664\n"
     ]
    },
    {
     "name": "stdout",
     "output_type": "stream",
     "text": [
      "Mean Reciprocal Rank (MRR) for validation set: 0.5223\n",
      "Epoch 1 took 33.5136 minutes.\n",
      "\n",
      "\n"
     ]
    },
    {
     "name": "stdout",
     "output_type": "stream",
     "text": [
      "EPOCH 2:\n",
      "Epoch 2/3, Training Loss: 1.5173637076508846\n",
      "Epoch 2/3, Contrastive Loss: 1.6966940666984591\n",
      "Epoch 2/3, le Cam Loss: -0.17933035832510005\n"
     ]
    },
    {
     "name": "stdout",
     "output_type": "stream",
     "text": [
      "Mean Reciprocal Rank (MRR) for validation set: 0.5335\n",
      "Epoch 2 took 33.4826 minutes.\n",
      "\n",
      "\n"
     ]
    },
    {
     "name": "stdout",
     "output_type": "stream",
     "text": [
      "EPOCH 3:\n",
      "Epoch 3/3, Training Loss: 1.4837936621878791\n",
      "Epoch 3/3, Contrastive Loss: 1.684857811078493\n",
      "Epoch 3/3, le Cam Loss: -0.20106414833301958\n"
     ]
    },
    {
     "name": "stdout",
     "output_type": "stream",
     "text": [
      "Mean Reciprocal Rank (MRR) for validation set: 0.5336\n",
      "Epoch 3 took 33.4856 minutes.\n",
      "\n",
      "\n"
     ]
    }
   ],
   "source": [
    "for epoch in range(num_epochs):\n",
    "    start_time = time.time()\n",
    "    lora_model.train() \n",
    "    \n",
    "    total_loss = 0.0\n",
    "    LC_loss_total=0.0\n",
    "    contrastive_loss_total=0.0\n",
    "    for batch in data_loader_train:\n",
    "    \n",
    "        anchor_texts = batch[0]\n",
    "        positive_texts = batch[1]\n",
    "        negative_texts = batch[2]\n",
    "\n",
    "        anchor_inputs = tokenizer(anchor_texts, return_tensors='pt', padding=True, truncation=True, max_length=512).to(device)\n",
    "        positive_inputs = tokenizer(positive_texts, return_tensors='pt', padding=True, truncation=True, max_length=512).to(device)\n",
    "    \n",
    "        anchor_embedding = lora_model(**anchor_inputs).last_hidden_state[:, 0, :]\n",
    "        positive_embedding = lora_model(**positive_inputs).last_hidden_state[:, 0, :]\n",
    "        negative_embedding = [lora_model(**tokenizer(neg, return_tensors='pt', padding=True, truncation=True, max_length=512).to(device)).last_hidden_state[:, 0, :] for neg in negative_texts]\n",
    "\n",
    "        infoNCE_loss = info_nce_loss(anchor_embedding, positive_embedding, negative_embedding, distance_fn=cosine_distance)\n",
    "        leCam_loss = le_cam_loss(anchor_embedding, positive_embedding, negative_embedding)\n",
    "        loss=infoNCE_loss+1*leCam_loss\n",
    "        \n",
    "        optimizer.zero_grad()\n",
    "        loss.backward()\n",
    "        optimizer.step()\n",
    "        \n",
    "        total_loss += loss.item()\n",
    "        LC_loss_total+=leCam_loss.item()\n",
    "        contrastive_loss_total+=infoNCE_loss.item()\n",
    "    if epoch==2:\n",
    "        save_path = os.path.join(save_dir, f\"checkpoint_epoch.pth\")\n",
    "        torch.save(lora_model, save_path)\n",
    "    print(f\"EPOCH {epoch+1}:\")\n",
    "    #print(f\"Checkpoint saved: {save_path}\")\n",
    "    print(f\"Epoch {epoch+1}/{num_epochs}, Training Loss: {total_loss / len(data_loader_train)}\")\n",
    "    print(f\"Epoch {epoch+1}/{num_epochs}, Contrastive Loss: {contrastive_loss_total / len(data_loader_train)}\")\n",
    "    print(f\"Epoch {epoch+1}/{num_epochs}, le Cam Loss: {LC_loss_total / len(data_loader_train)}\")\n",
    "    mrr_validation = evaluate_mrr(lora_model, data_loader_val, cosine_distance)\n",
    "    #mrr_train = evaluate_mrr(lora_model, data_loader_train, cosine_distance)\n",
    "    #print(f\"Mean Reciprocal Rank (MRR) for training set: {mrr_train:.4f}\")\n",
    "    print(f\"Mean Reciprocal Rank (MRR) for validation set: {mrr_validation:.4f}\")\n",
    "    end_time = time.time()\n",
    "    print(f\"Epoch {epoch+1} took {(end_time - start_time) / 60:.4f} minutes.\")\n",
    "    print(f\"\\n\")\n",
    "    epoch_metrics.append({\n",
    "        'epoch': epoch + 1,\n",
    "        'training_loss': total_loss / len(data_loader_train),\n",
    "        'leCam_loss' : LC_loss_total / len(data_loader_train),\n",
    "        'contrastive_loss' : contrastive_loss_total / len(data_loader_train),\n",
    "        'mrr_validation': mrr_validation,\n",
    "        'time_taken_minutes': (end_time - start_time) / 60\n",
    "    })"
   ]
  },
  {
   "cell_type": "code",
   "execution_count": 42,
   "id": "ec39bd86",
   "metadata": {
    "execution": {
     "iopub.execute_input": "2025-03-11T12:58:01.418856Z",
     "iopub.status.busy": "2025-03-11T12:58:01.418656Z",
     "iopub.status.idle": "2025-03-11T12:58:01.421333Z",
     "shell.execute_reply": "2025-03-11T12:58:01.420966Z"
    },
    "papermill": {
     "duration": 0.009022,
     "end_time": "2025-03-11T12:58:01.421899",
     "exception": false,
     "start_time": "2025-03-11T12:58:01.412877",
     "status": "completed"
    },
    "tags": []
   },
   "outputs": [],
   "source": [
    "import json"
   ]
  },
  {
   "cell_type": "code",
   "execution_count": 43,
   "id": "689bcceb",
   "metadata": {
    "execution": {
     "iopub.execute_input": "2025-03-11T12:58:01.433178Z",
     "iopub.status.busy": "2025-03-11T12:58:01.432660Z",
     "iopub.status.idle": "2025-03-11T12:58:01.536776Z",
     "shell.execute_reply": "2025-03-11T12:58:01.536423Z"
    },
    "papermill": {
     "duration": 0.110297,
     "end_time": "2025-03-11T12:58:01.537342",
     "exception": false,
     "start_time": "2025-03-11T12:58:01.427045",
     "status": "completed"
    },
    "tags": []
   },
   "outputs": [],
   "source": [
    "with open(save_dir + '/epoch_metrics.json', 'w') as f:\n",
    "    json.dump(epoch_metrics, f)"
   ]
  }
 ],
 "metadata": {
  "kernelspec": {
   "display_name": "Python (myenv)",
   "language": "python",
   "name": "myenv"
  },
  "language_info": {
   "codemirror_mode": {
    "name": "ipython",
    "version": 3
   },
   "file_extension": ".py",
   "mimetype": "text/x-python",
   "name": "python",
   "nbconvert_exporter": "python",
   "pygments_lexer": "ipython3",
   "version": "3.12.7"
  },
  "papermill": {
   "default_parameters": {},
   "duration": 6075.051739,
   "end_time": "2025-03-11T12:58:05.271667",
   "environment_variables": {},
   "exception": null,
   "input_path": "1le_cam.ipynb",
   "output_path": "1le_cam_output.ipynb",
   "parameters": {},
   "start_time": "2025-03-11T11:16:50.219928",
   "version": "2.6.0"
  }
 },
 "nbformat": 4,
 "nbformat_minor": 5
}