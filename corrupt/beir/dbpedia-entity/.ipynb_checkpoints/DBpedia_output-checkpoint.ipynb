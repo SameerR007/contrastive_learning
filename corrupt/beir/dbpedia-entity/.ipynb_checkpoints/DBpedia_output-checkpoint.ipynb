{
 "cells": [
  {
   "cell_type": "code",
   "execution_count": 1,
   "id": "f6d4b65f-fa6b-4517-8694-8627bc49833b",
   "metadata": {
    "execution": {
     "iopub.execute_input": "2025-03-05T02:20:54.195897Z",
     "iopub.status.busy": "2025-03-05T02:20:54.195393Z",
     "iopub.status.idle": "2025-03-05T02:20:54.279741Z",
     "shell.execute_reply": "2025-03-05T02:20:54.279284Z"
    },
    "papermill": {
     "duration": 0.08995,
     "end_time": "2025-03-05T02:20:54.280397",
     "exception": false,
     "start_time": "2025-03-05T02:20:54.190447",
     "status": "completed"
    },
    "tags": []
   },
   "outputs": [
    {
     "name": "stderr",
     "output_type": "stream",
     "text": [
      "/dss/dsshome1/07/ra65bex2/srawat/myenv/lib/python3.12/site-packages/beir/datasets/data_loader.py:8: TqdmExperimentalWarning: Using `tqdm.autonotebook.tqdm` in notebook mode. Use `tqdm.tqdm` instead to force console mode (e.g. in jupyter console)\n",
      "  from tqdm.autonotebook import tqdm\n"
     ]
    }
   ],
   "source": [
    "from beir.datasets.data_loader import GenericDataLoader"
   ]
  },
  {
   "cell_type": "code",
   "execution_count": 2,
   "id": "a91d6914-e301-422c-b839-1fafeb1e8fa4",
   "metadata": {
    "execution": {
     "iopub.execute_input": "2025-03-05T02:20:54.288259Z",
     "iopub.status.busy": "2025-03-05T02:20:54.287876Z",
     "iopub.status.idle": "2025-03-05T02:20:54.290378Z",
     "shell.execute_reply": "2025-03-05T02:20:54.290002Z"
    },
    "papermill": {
     "duration": 0.006794,
     "end_time": "2025-03-05T02:20:54.290982",
     "exception": false,
     "start_time": "2025-03-05T02:20:54.284188",
     "status": "completed"
    },
    "tags": []
   },
   "outputs": [],
   "source": [
    "data_path = '/dss/dsshome1/07/ra65bex2/srawat/dbpedia-entity/dbpedia-entity'"
   ]
  },
  {
   "cell_type": "code",
   "execution_count": 3,
   "id": "41e17333-2c34-4b7b-91f6-3cbd3972f0d6",
   "metadata": {
    "execution": {
     "iopub.execute_input": "2025-03-05T02:20:54.299381Z",
     "iopub.status.busy": "2025-03-05T02:20:54.299242Z",
     "iopub.status.idle": "2025-03-05T02:21:17.084200Z",
     "shell.execute_reply": "2025-03-05T02:21:17.083659Z"
    },
    "papermill": {
     "duration": 22.790549,
     "end_time": "2025-03-05T02:21:17.084956",
     "exception": false,
     "start_time": "2025-03-05T02:20:54.294407",
     "status": "completed"
    },
    "tags": []
   },
   "outputs": [
    {
     "data": {
      "application/vnd.jupyter.widget-view+json": {
       "model_id": "fdbcc2e09dfc4733b756541487c7b1f9",
       "version_major": 2,
       "version_minor": 0
      },
      "text/plain": [
       "  0%|          | 0/4635922 [00:00<?, ?it/s]"
      ]
     },
     "metadata": {},
     "output_type": "display_data"
    }
   ],
   "source": [
    "corpus, queries, qrels = GenericDataLoader(data_path).load(split=\"test\")"
   ]
  },
  {
   "cell_type": "code",
   "execution_count": 4,
   "id": "1d653c60-435a-4e10-8506-6ef5d01f8675",
   "metadata": {
    "execution": {
     "iopub.execute_input": "2025-03-05T02:21:17.097731Z",
     "iopub.status.busy": "2025-03-05T02:21:17.097362Z",
     "iopub.status.idle": "2025-03-05T02:21:23.447736Z",
     "shell.execute_reply": "2025-03-05T02:21:23.447301Z"
    },
    "papermill": {
     "duration": 6.355226,
     "end_time": "2025-03-05T02:21:23.448487",
     "exception": false,
     "start_time": "2025-03-05T02:21:17.093261",
     "status": "completed"
    },
    "tags": []
   },
   "outputs": [
    {
     "name": "stderr",
     "output_type": "stream",
     "text": [
      "[nltk_data] Downloading package stopwords to\n",
      "[nltk_data]     /dss/dsshome1/07/ra65bex2/nltk_data...\n",
      "[nltk_data]   Package stopwords is already up-to-date!\n",
      "[nltk_data] Downloading package wordnet to\n",
      "[nltk_data]     /dss/dsshome1/07/ra65bex2/nltk_data...\n",
      "[nltk_data]   Package wordnet is already up-to-date!\n"
     ]
    }
   ],
   "source": [
    "import random\n",
    "import re\n",
    "import nltk\n",
    "from nltk.corpus import stopwords, wordnet\n",
    "nltk.download('stopwords')\n",
    "nltk.download('wordnet')\n",
    "stop_words = set(stopwords.words('english'))\n",
    "def clean_text(text):\n",
    "    return re.sub(r'[^\\w\\s.!?]', '', text)\n",
    "def select_words(text, percentage):\n",
    "    words = [w for w in text.split() if w.lower() not in stop_words]\n",
    "    return random.sample(words, min(int(percentage*len(words)), len(words)))\n",
    "def introduce_typo(word):\n",
    "    if len(word) > 1:\n",
    "        idx = random.randint(0, len(word) - 1)\n",
    "        return word[:idx] + random.choice('abcdefghijklmnopqrstuvwxyz') + word[idx+1:]\n",
    "    return word\n",
    "def introduce_noise(word):\n",
    "    noise_chars = ['@', '#', '$', '%', '&', '*']\n",
    "    if len(word) > 1:\n",
    "        idx = random.randint(0, len(word) - 1)\n",
    "        return word[:idx] + random.choice(noise_chars) + word[idx+1:]\n",
    "    return word\n",
    "def replace_with_synonym(word):\n",
    "    synonyms = [syn.lemmas()[0].name() for syn in wordnet.synsets(word) if syn.lemmas()]\n",
    "    return random.choice(synonyms) if synonyms else word\n",
    "def corrupt_word(word, method):\n",
    "    if method == 'typo':\n",
    "        return introduce_typo(word)\n",
    "    elif method == 'noise':\n",
    "        return introduce_noise(word)\n",
    "    elif method == 'synonym':\n",
    "        return replace_with_synonym(word)\n",
    "    return word\n",
    "def corrupt_text(text):\n",
    "    corrupted_words = []  \n",
    "    words_to_corrupt=select_words(clean_text(text), percentage=0.5)\n",
    "    for word in clean_text(text).split():\n",
    "        if word in words_to_corrupt:\n",
    "            corruption_method = random.choice(['typo', 'noise', 'synonym'])\n",
    "            corrupted_words.append(corrupt_word(word, corruption_method))\n",
    "        else:\n",
    "            corrupted_words.append(word)\n",
    "    return ' '.join(corrupted_words)"
   ]
  },
  {
   "cell_type": "code",
   "execution_count": 5,
   "id": "a29044d5-3952-4f3d-aa43-e1efd34fcad3",
   "metadata": {
    "execution": {
     "iopub.execute_input": "2025-03-05T02:21:23.458955Z",
     "iopub.status.busy": "2025-03-05T02:21:23.458482Z",
     "iopub.status.idle": "2025-03-05T02:31:48.742375Z",
     "shell.execute_reply": "2025-03-05T02:31:48.741576Z"
    },
    "papermill": {
     "duration": 625.288871,
     "end_time": "2025-03-05T02:31:48.743346",
     "exception": false,
     "start_time": "2025-03-05T02:21:23.454475",
     "status": "completed"
    },
    "tags": []
   },
   "outputs": [],
   "source": [
    "contrastive_pairs=[]\n",
    "query_lengths = []\n",
    "import random\n",
    "c=0\n",
    "for query_id, relevant_docs in qrels.items():\n",
    "    try:\n",
    "        query_text = queries[query_id]\n",
    "        query_lengths.append(len(query_text.split()))\n",
    "        for doc_id in relevant_docs:\n",
    "            positive = corpus[doc_id][\"text\"]\n",
    "        #print(relevant_docs)\n",
    "        positive_doc_ids = set(relevant_docs)\n",
    "        all_doc_ids = set(corpus.keys())\n",
    "        negative_doc_ids = all_doc_ids - positive_doc_ids\n",
    "        negative_doc_ids=list(negative_doc_ids)\n",
    "        negative_doc_samples = random.sample(negative_doc_ids, k=5)\n",
    "        negatives=[]\n",
    "        for neg_doc_id in negative_doc_samples:\n",
    "            negative_doc_text = corpus[neg_doc_id][\"text\"]\n",
    "            negatives.append(negative_doc_text)\n",
    "        contrastive_pairs.append({\n",
    "            \"anchor\": corrupt_text(query_text),\n",
    "            \"positive\": positive,\n",
    "            \"negatives\": negatives\n",
    "        })\n",
    "    except:\n",
    "        c=c+1"
   ]
  },
  {
   "cell_type": "code",
   "execution_count": 6,
   "id": "49721946-fff3-4690-bd92-d981cecdf62b",
   "metadata": {
    "execution": {
     "iopub.execute_input": "2025-03-05T02:31:48.754344Z",
     "iopub.status.busy": "2025-03-05T02:31:48.754175Z",
     "iopub.status.idle": "2025-03-05T02:31:48.758514Z",
     "shell.execute_reply": "2025-03-05T02:31:48.758167Z"
    },
    "papermill": {
     "duration": 0.009123,
     "end_time": "2025-03-05T02:31:48.759086",
     "exception": false,
     "start_time": "2025-03-05T02:31:48.749963",
     "status": "completed"
    },
    "tags": []
   },
   "outputs": [
    {
     "data": {
      "text/plain": [
       "0"
      ]
     },
     "execution_count": 6,
     "metadata": {},
     "output_type": "execute_result"
    }
   ],
   "source": [
    "c"
   ]
  },
  {
   "cell_type": "code",
   "execution_count": 7,
   "id": "de8ef367-dcb4-4bb6-af3a-20f190930ed1",
   "metadata": {
    "execution": {
     "iopub.execute_input": "2025-03-05T02:31:48.766750Z",
     "iopub.status.busy": "2025-03-05T02:31:48.766614Z",
     "iopub.status.idle": "2025-03-05T02:31:48.783789Z",
     "shell.execute_reply": "2025-03-05T02:31:48.783390Z"
    },
    "papermill": {
     "duration": 0.022298,
     "end_time": "2025-03-05T02:31:48.784953",
     "exception": false,
     "start_time": "2025-03-05T02:31:48.762655",
     "status": "completed"
    },
    "tags": []
   },
   "outputs": [
    {
     "data": {
      "text/plain": [
       "400"
      ]
     },
     "execution_count": 7,
     "metadata": {},
     "output_type": "execute_result"
    }
   ],
   "source": [
    "len(contrastive_pairs)"
   ]
  },
  {
   "cell_type": "code",
   "execution_count": 8,
   "id": "8a2ccada-419a-4f79-ad4d-b605780281a3",
   "metadata": {
    "execution": {
     "iopub.execute_input": "2025-03-05T02:31:48.792710Z",
     "iopub.status.busy": "2025-03-05T02:31:48.792577Z",
     "iopub.status.idle": "2025-03-05T02:31:48.806244Z",
     "shell.execute_reply": "2025-03-05T02:31:48.805841Z"
    },
    "papermill": {
     "duration": 0.018305,
     "end_time": "2025-03-05T02:31:48.806914",
     "exception": false,
     "start_time": "2025-03-05T02:31:48.788609",
     "status": "completed"
    },
    "tags": []
   },
   "outputs": [
    {
     "data": {
      "text/plain": [
       "[{'anchor': 'Szechwan dish food cuisine',\n",
       "  'positive': \"Zigong (simplified Chinese: 自贡; traditional Chinese: 自貢; pinyin: Zìgòng; Wade–Giles: Tzu4-kung4), formed by the merger of the two former towns of Ziliujing (Tzuliuching) and Gongjing (Kungching), is a prefecture-level city and the third largest city in Sichuan province, People's Republic of China.\",\n",
       "  'negatives': ['Joint Action Committee for Political Affairs (JACPAC) is a national political action committee that contributes to candidates for the US Congress who support a strong US-Israel relationship, reproductive choice, and separation of religion and state.',\n",
       "   \"Chopper was an alleged ghost living in a dentist's office in the city of Neutraubling near Regensburg in Germany that was later discovered by the criminal police to be a fraud.\",\n",
       "   'Henry J. \"Harry\" Weber (March 1862 - December 22, 1926) was an American Major League Baseball catcher who played in 1884 with the Indianapolis Hoosiers.Weber played in 3 games, going hitless in 8 at-bats.',\n",
       "   \"Juan Pastor Marco was a Spanish politician for the Spanish Socialist Workers' Party (PSOE). After graduating in Economic Sciences, Pastor joined the PSOE in 1974 and at the 1977 General Election he was elected to the Spanish Congress of Deputies representing Valencia Province.He then served as Secretary General of the PSOE in the Valencian Community from 1978 to 1979.\",\n",
       "   'Tonga, Cameroon is a town and commune in Cameroon.The Tonga sub-division has three major village groups: Badoumga (Banounga), Baloua and Babitchoua. Its area is 342 km2 (132 sq mi) with a population of 15000. The capital of this subdivision is Tonga Town, which is 90 km (56 mi) from the regional capital Bafoussam and 30 km (19 mi) from the divisional capital Bangangte. Tonga is on the Yaounde Bafoussam road and is about 220 kilometres (140 mi) from Yaounde, the capital of Cameroon.']},\n",
       " {'anchor': 'qoman architecture',\n",
       "  'positive': 'The Église Notre-Dame de l\\'Assomption (Our Lady of the Assumption Church) is the parish church of the town of Rouffach in southern Alsace and one of the largest medieval churches in the Haut-Rhin département of France. The church is also known as Saint-Arbogast Church (Église Saint-Arbogast).It lies on the \"Route Romane d\\'Alsace\". Although work started in the 11th century and was carried on with interruptions until 1870, the building remains unfinished.',\n",
       "  'negatives': ['The University of the Philippines Diliman AGT is an automated guideway transit (AGT) system currently under construction and development within the campus of the University of the Philippines in Diliman, Quezon City in the Philippines.',\n",
       "   'The Berrien County Historical Association is a Berrien Springs, Michigan-based organization that studies the history of Berrien County, Michigan.',\n",
       "   'J.M. Wright Technical High School, or Wright Tech, is a technical high school located in Stamford, Connecticut, United States. It is part of the Connecticut Technical High School System. Having suspended operations in 2009 due to budgetary restrictions compounded by dismal enrollment and achievement figures, Wright Tech is expected to reopen for the fall of 2014.Prior to closing, the school offered training in seven trades.',\n",
       "   'Sarah Dawn Lind (born July 22, 1982 in Regina, Saskatchewan) is a Canadian actress, primarily known for her roles on the television series Mentors and Edgemont.In 2008 she married Tygh Runyan.',\n",
       "   'The International Polygraph Accreditation Board (or IPAB) was established in 2011 and includes 1,900 members in the polygraph field.']}]"
      ]
     },
     "execution_count": 8,
     "metadata": {},
     "output_type": "execute_result"
    }
   ],
   "source": [
    "contrastive_pairs[0:2]"
   ]
  },
  {
   "cell_type": "code",
   "execution_count": 9,
   "id": "8ade92f9-e3df-4d0a-b849-b1a721e18cf6",
   "metadata": {
    "execution": {
     "iopub.execute_input": "2025-03-05T02:31:48.815750Z",
     "iopub.status.busy": "2025-03-05T02:31:48.815429Z",
     "iopub.status.idle": "2025-03-05T02:31:48.826870Z",
     "shell.execute_reply": "2025-03-05T02:31:48.826463Z"
    },
    "papermill": {
     "duration": 0.016583,
     "end_time": "2025-03-05T02:31:48.827692",
     "exception": false,
     "start_time": "2025-03-05T02:31:48.811109",
     "status": "completed"
    },
    "tags": []
   },
   "outputs": [
    {
     "data": {
      "text/plain": [
       "400"
      ]
     },
     "execution_count": 9,
     "metadata": {},
     "output_type": "execute_result"
    }
   ],
   "source": [
    "len(qrels)"
   ]
  },
  {
   "cell_type": "code",
   "execution_count": 10,
   "id": "6b97f7b4-f007-41f6-bfbb-1b9b01665e9d",
   "metadata": {
    "execution": {
     "iopub.execute_input": "2025-03-05T02:31:48.836631Z",
     "iopub.status.busy": "2025-03-05T02:31:48.836247Z",
     "iopub.status.idle": "2025-03-05T02:31:53.146325Z",
     "shell.execute_reply": "2025-03-05T02:31:53.145705Z"
    },
    "papermill": {
     "duration": 4.315389,
     "end_time": "2025-03-05T02:31:53.147288",
     "exception": false,
     "start_time": "2025-03-05T02:31:48.831899",
     "status": "completed"
    },
    "tags": []
   },
   "outputs": [],
   "source": [
    "from torch.utils.data import DataLoader"
   ]
  },
  {
   "cell_type": "code",
   "execution_count": 11,
   "id": "a415b29a-a543-4679-8f78-44f715b3067d",
   "metadata": {
    "execution": {
     "iopub.execute_input": "2025-03-05T02:31:53.158918Z",
     "iopub.status.busy": "2025-03-05T02:31:53.158387Z",
     "iopub.status.idle": "2025-03-05T02:31:53.161755Z",
     "shell.execute_reply": "2025-03-05T02:31:53.161402Z"
    },
    "papermill": {
     "duration": 0.008436,
     "end_time": "2025-03-05T02:31:53.162340",
     "exception": false,
     "start_time": "2025-03-05T02:31:53.153904",
     "status": "completed"
    },
    "tags": []
   },
   "outputs": [],
   "source": [
    "class ContrastiveDataset:\n",
    "    def __init__(self, pairs):\n",
    "        self.pairs = pairs\n",
    "\n",
    "    def __len__(self):\n",
    "        return len(self.pairs)\n",
    "\n",
    "    def __getitem__(self, idx):\n",
    "        item = self.pairs[idx]\n",
    "        return item[\"anchor\"], item[\"positive\"], item[\"negatives\"]"
   ]
  },
  {
   "cell_type": "code",
   "execution_count": 12,
   "id": "a39efeab-fd20-411a-80c5-315f362e00d2",
   "metadata": {
    "execution": {
     "iopub.execute_input": "2025-03-05T02:31:53.170648Z",
     "iopub.status.busy": "2025-03-05T02:31:53.170297Z",
     "iopub.status.idle": "2025-03-05T02:31:53.183879Z",
     "shell.execute_reply": "2025-03-05T02:31:53.183496Z"
    },
    "papermill": {
     "duration": 0.018426,
     "end_time": "2025-03-05T02:31:53.184553",
     "exception": false,
     "start_time": "2025-03-05T02:31:53.166127",
     "status": "completed"
    },
    "tags": []
   },
   "outputs": [],
   "source": [
    "contrastive_dataset = ContrastiveDataset(contrastive_pairs)"
   ]
  },
  {
   "cell_type": "code",
   "execution_count": 13,
   "id": "d103bbfa-895a-4020-a7e5-21de659f27dc",
   "metadata": {
    "execution": {
     "iopub.execute_input": "2025-03-05T02:31:53.193264Z",
     "iopub.status.busy": "2025-03-05T02:31:53.192822Z",
     "iopub.status.idle": "2025-03-05T02:31:53.204304Z",
     "shell.execute_reply": "2025-03-05T02:31:53.203906Z"
    },
    "papermill": {
     "duration": 0.016366,
     "end_time": "2025-03-05T02:31:53.204968",
     "exception": false,
     "start_time": "2025-03-05T02:31:53.188602",
     "status": "completed"
    },
    "tags": []
   },
   "outputs": [],
   "source": [
    "data_loader = DataLoader(contrastive_dataset, batch_size=32, shuffle=True)"
   ]
  },
  {
   "cell_type": "code",
   "execution_count": 14,
   "id": "c8b0277f-f526-4087-82da-c4cdd65d32da",
   "metadata": {
    "execution": {
     "iopub.execute_input": "2025-03-05T02:31:53.213298Z",
     "iopub.status.busy": "2025-03-05T02:31:53.213107Z",
     "iopub.status.idle": "2025-03-05T02:31:53.225736Z",
     "shell.execute_reply": "2025-03-05T02:31:53.225373Z"
    },
    "papermill": {
     "duration": 0.017632,
     "end_time": "2025-03-05T02:31:53.226501",
     "exception": false,
     "start_time": "2025-03-05T02:31:53.208869",
     "status": "completed"
    },
    "tags": []
   },
   "outputs": [
    {
     "data": {
      "text/plain": [
       "13"
      ]
     },
     "execution_count": 14,
     "metadata": {},
     "output_type": "execute_result"
    }
   ],
   "source": [
    "len(data_loader)"
   ]
  },
  {
   "cell_type": "code",
   "execution_count": 15,
   "id": "e15526a4-b3fe-435b-91c9-ad4064562f0f",
   "metadata": {
    "execution": {
     "iopub.execute_input": "2025-03-05T02:31:53.235598Z",
     "iopub.status.busy": "2025-03-05T02:31:53.235473Z",
     "iopub.status.idle": "2025-03-05T02:31:58.000111Z",
     "shell.execute_reply": "2025-03-05T02:31:57.999370Z"
    },
    "papermill": {
     "duration": 4.770212,
     "end_time": "2025-03-05T02:31:58.001060",
     "exception": false,
     "start_time": "2025-03-05T02:31:53.230848",
     "status": "completed"
    },
    "tags": []
   },
   "outputs": [
    {
     "name": "stderr",
     "output_type": "stream",
     "text": [
      "/tmp/ipykernel_1531690/261098231.py:3: FutureWarning: You are using `torch.load` with `weights_only=False` (the current default value), which uses the default pickle module implicitly. It is possible to construct malicious pickle data which will execute arbitrary code during unpickling (See https://github.com/pytorch/pytorch/blob/main/SECURITY.md#untrusted-models for more details). In a future release, the default value for `weights_only` will be flipped to `True`. This limits the functions that could be executed during unpickling. Arbitrary objects will no longer be allowed to be loaded via this mode unless they are explicitly allowlisted by the user via `torch.serialization.add_safe_globals`. We recommend you start setting `weights_only=True` for any use case where you don't have full control of the loaded file. Please open an issue on GitHub for any issues related to this experimental feature.\n",
      "  lora_model_baseline = torch.load(file_path_baseline)\n"
     ]
    }
   ],
   "source": [
    "import torch\n",
    "file_path_baseline =\"/dss/dsshome1/07/ra65bex2/srawat/contrastive_learning/v1.1/app_baseline/checkpoint_epoch_3.pth\"\n",
    "lora_model_baseline = torch.load(file_path_baseline)"
   ]
  },
  {
   "cell_type": "code",
   "execution_count": 16,
   "id": "9999e628-5966-4dda-b5c5-c0d762fce27d",
   "metadata": {
    "execution": {
     "iopub.execute_input": "2025-03-05T02:31:58.013185Z",
     "iopub.status.busy": "2025-03-05T02:31:58.012321Z",
     "iopub.status.idle": "2025-03-05T02:31:58.019333Z",
     "shell.execute_reply": "2025-03-05T02:31:58.018894Z"
    },
    "papermill": {
     "duration": 0.012528,
     "end_time": "2025-03-05T02:31:58.020033",
     "exception": false,
     "start_time": "2025-03-05T02:31:58.007505",
     "status": "completed"
    },
    "tags": []
   },
   "outputs": [],
   "source": [
    "device = torch.device('cuda' if torch.cuda.is_available() else 'cpu')\n",
    "lora_model_baseline = lora_model_baseline.to(device)"
   ]
  },
  {
   "cell_type": "code",
   "execution_count": 17,
   "id": "7e6a3a61-8db0-43db-b575-6399f8515950",
   "metadata": {
    "execution": {
     "iopub.execute_input": "2025-03-05T02:31:58.029125Z",
     "iopub.status.busy": "2025-03-05T02:31:58.028994Z",
     "iopub.status.idle": "2025-03-05T02:31:58.298146Z",
     "shell.execute_reply": "2025-03-05T02:31:58.297600Z"
    },
    "papermill": {
     "duration": 0.274371,
     "end_time": "2025-03-05T02:31:58.298754",
     "exception": false,
     "start_time": "2025-03-05T02:31:58.024383",
     "status": "completed"
    },
    "tags": []
   },
   "outputs": [],
   "source": [
    "from transformers import AutoTokenizer, AutoModel\n",
    "tokenizer = AutoTokenizer.from_pretrained(\"bert-base-uncased\")"
   ]
  },
  {
   "cell_type": "code",
   "execution_count": 18,
   "id": "68ac4919-76f1-4349-a314-4b1061126655",
   "metadata": {
    "execution": {
     "iopub.execute_input": "2025-03-05T02:31:58.307890Z",
     "iopub.status.busy": "2025-03-05T02:31:58.307753Z",
     "iopub.status.idle": "2025-03-05T02:31:58.310527Z",
     "shell.execute_reply": "2025-03-05T02:31:58.310064Z"
    },
    "papermill": {
     "duration": 0.007944,
     "end_time": "2025-03-05T02:31:58.311074",
     "exception": false,
     "start_time": "2025-03-05T02:31:58.303130",
     "status": "completed"
    },
    "tags": []
   },
   "outputs": [],
   "source": [
    "def cosine_distance(x, y):\n",
    "    return 1 - torch.nn.functional.cosine_similarity(x, y, dim=-1)"
   ]
  },
  {
   "cell_type": "code",
   "execution_count": 19,
   "id": "990f63bd-4d48-4f58-a001-3b3250f65312",
   "metadata": {
    "execution": {
     "iopub.execute_input": "2025-03-05T02:31:58.320149Z",
     "iopub.status.busy": "2025-03-05T02:31:58.319990Z",
     "iopub.status.idle": "2025-03-05T02:31:58.332344Z",
     "shell.execute_reply": "2025-03-05T02:31:58.331903Z"
    },
    "papermill": {
     "duration": 0.017725,
     "end_time": "2025-03-05T02:31:58.333253",
     "exception": false,
     "start_time": "2025-03-05T02:31:58.315528",
     "status": "completed"
    },
    "tags": []
   },
   "outputs": [],
   "source": [
    "def evaluate_mrr_baseline(model, data_loader_val, distance_fn):\n",
    "    model.eval()\n",
    "\n",
    "    total_rr = 0.0\n",
    "    num_queries = 0\n",
    "\n",
    "    with torch.no_grad():\n",
    "        for batch in data_loader_val:\n",
    "            anchor_text = batch[0]\n",
    "            positive_text = batch[1]\n",
    "            negative_texts = batch[2]\n",
    "\n",
    "            anchor_input = tokenizer(anchor_text, return_tensors='pt', padding=True, truncation=True, max_length=512).to(device)\n",
    "            positive_input = tokenizer(positive_text, return_tensors='pt', padding=True, truncation=True, max_length=512).to(device)\n",
    "\n",
    "            anchor_embedding = model(**anchor_input).last_hidden_state[:, 0, :]\n",
    "            positive_embedding = model(**positive_input).last_hidden_state[:, 0, :]\n",
    "            negative_embedding = [model(**tokenizer(neg, return_tensors='pt', padding=True, truncation=True, max_length=512).to(device)).last_hidden_state[:, 0, :] for neg in negative_texts]\n",
    "\n",
    "            pos_dist = distance_fn(anchor_embedding, positive_embedding)\n",
    "            neg_dist = torch.stack([distance_fn(anchor_embedding, neg) for neg in negative_embedding], dim=-1)\n",
    "            all_similarities=torch.cat([-pos_dist.unsqueeze(1), -neg_dist], dim=1)\n",
    "\n",
    "            sorted_similarities, sorted_indices = torch.sort(all_similarities, dim=1, descending=True)\n",
    "\n",
    "            # Find the rank of the first relevant (positive) document\n",
    "            positive_rank = (sorted_indices == 0).nonzero(as_tuple=True)[1] + 1  # +1 to make rank 1-based\n",
    "            total_rr += torch.sum(1.0 / positive_rank.float()).item()  # Reciprocal rank\n",
    "            num_queries += len(positive_rank)\n",
    "\n",
    "    mrr = total_rr / num_queries\n",
    "    return mrr"
   ]
  },
  {
   "cell_type": "code",
   "execution_count": 20,
   "id": "534a9ec5-4211-4cb6-81f1-fb8a30caff92",
   "metadata": {
    "execution": {
     "iopub.execute_input": "2025-03-05T02:31:58.342284Z",
     "iopub.status.busy": "2025-03-05T02:31:58.342124Z",
     "iopub.status.idle": "2025-03-05T02:32:03.324283Z",
     "shell.execute_reply": "2025-03-05T02:32:03.323669Z"
    },
    "papermill": {
     "duration": 4.987457,
     "end_time": "2025-03-05T02:32:03.324981",
     "exception": false,
     "start_time": "2025-03-05T02:31:58.337524",
     "status": "completed"
    },
    "tags": []
   },
   "outputs": [
    {
     "name": "stdout",
     "output_type": "stream",
     "text": [
      "0.5123333489894867\n"
     ]
    }
   ],
   "source": [
    "mrr_validation_baseline = evaluate_mrr_baseline(lora_model_baseline, data_loader, cosine_distance)\n",
    "print(mrr_validation_baseline)"
   ]
  },
  {
   "cell_type": "code",
   "execution_count": null,
   "id": "f61bbd65-41c9-4ac7-80ef-ba4a4fb02d45",
   "metadata": {
    "papermill": {
     "duration": 0.004189,
     "end_time": "2025-03-05T02:32:03.335661",
     "exception": false,
     "start_time": "2025-03-05T02:32:03.331472",
     "status": "completed"
    },
    "tags": []
   },
   "outputs": [],
   "source": []
  },
  {
   "cell_type": "code",
   "execution_count": 21,
   "id": "8a3dfd17-ee43-4c4e-9287-8ec6451bc062",
   "metadata": {
    "execution": {
     "iopub.execute_input": "2025-03-05T02:32:03.344986Z",
     "iopub.status.busy": "2025-03-05T02:32:03.344823Z",
     "iopub.status.idle": "2025-03-05T02:32:03.651254Z",
     "shell.execute_reply": "2025-03-05T02:32:03.650755Z"
    },
    "papermill": {
     "duration": 0.311852,
     "end_time": "2025-03-05T02:32:03.651893",
     "exception": false,
     "start_time": "2025-03-05T02:32:03.340041",
     "status": "completed"
    },
    "tags": []
   },
   "outputs": [
    {
     "name": "stderr",
     "output_type": "stream",
     "text": [
      "/tmp/ipykernel_1531690/2975798179.py:2: FutureWarning: You are using `torch.load` with `weights_only=False` (the current default value), which uses the default pickle module implicitly. It is possible to construct malicious pickle data which will execute arbitrary code during unpickling (See https://github.com/pytorch/pytorch/blob/main/SECURITY.md#untrusted-models for more details). In a future release, the default value for `weights_only` will be flipped to `True`. This limits the functions that could be executed during unpickling. Arbitrary objects will no longer be allowed to be loaded via this mode unless they are explicitly allowlisted by the user via `torch.serialization.add_safe_globals`. We recommend you start setting `weights_only=True` for any use case where you don't have full control of the loaded file. Please open an issue on GitHub for any issues related to this experimental feature.\n",
      "  lora_model_average = torch.load(file_path_average)\n"
     ]
    }
   ],
   "source": [
    "file_path_average=\"/dss/dsshome1/07/ra65bex2/srawat/contrastive_learning/v1.1/app_average/average_checkpoint_epoch_3.pth\"\n",
    "lora_model_average = torch.load(file_path_average)\n",
    "lora_model_average = lora_model_average.to(device)"
   ]
  },
  {
   "cell_type": "code",
   "execution_count": 22,
   "id": "49c10d3f-c53d-4222-aba4-0e763451baff",
   "metadata": {
    "execution": {
     "iopub.execute_input": "2025-03-05T02:32:03.661483Z",
     "iopub.status.busy": "2025-03-05T02:32:03.661237Z",
     "iopub.status.idle": "2025-03-05T02:32:03.664350Z",
     "shell.execute_reply": "2025-03-05T02:32:03.663969Z"
    },
    "papermill": {
     "duration": 0.008473,
     "end_time": "2025-03-05T02:32:03.664925",
     "exception": false,
     "start_time": "2025-03-05T02:32:03.656452",
     "status": "completed"
    },
    "tags": []
   },
   "outputs": [],
   "source": [
    "def avg_embedding(inputs, model):\n",
    "    input=model(**inputs)\n",
    "    input_last_hidden_state=input.last_hidden_state\n",
    "    input_attention_mask = inputs['attention_mask']\n",
    "    input_masked_embeddings = input_last_hidden_state * input_attention_mask.unsqueeze(-1)\n",
    "    input_sum_embeddings = torch.sum(input_masked_embeddings, dim=1)\n",
    "    input_token_counts = torch.sum(input_attention_mask, dim=1).unsqueeze(-1)\n",
    "    input_avg_embeddings = input_sum_embeddings / input_token_counts\n",
    "    return(input_avg_embeddings)"
   ]
  },
  {
   "cell_type": "code",
   "execution_count": 23,
   "id": "22570a1b-93bf-41ef-99fe-de41c3857b41",
   "metadata": {
    "execution": {
     "iopub.execute_input": "2025-03-05T02:32:03.674405Z",
     "iopub.status.busy": "2025-03-05T02:32:03.674233Z",
     "iopub.status.idle": "2025-03-05T02:32:03.686960Z",
     "shell.execute_reply": "2025-03-05T02:32:03.686622Z"
    },
    "papermill": {
     "duration": 0.018095,
     "end_time": "2025-03-05T02:32:03.687616",
     "exception": false,
     "start_time": "2025-03-05T02:32:03.669521",
     "status": "completed"
    },
    "tags": []
   },
   "outputs": [],
   "source": [
    "def evaluate_mrr_average(model, data_loader_val, distance_fn):\n",
    "    model.eval()  \n",
    "\n",
    "    total_rr = 0.0\n",
    "    num_queries = 0\n",
    "\n",
    "    with torch.no_grad():\n",
    "        for batch in data_loader_val:\n",
    "            anchor_text = batch[0]\n",
    "            positive_text = batch[1]\n",
    "            negative_texts = batch[2]\n",
    "\n",
    "            anchor_input = tokenizer(anchor_text, return_tensors='pt', padding=True, truncation=True, max_length=512).to(device)\n",
    "            positive_input = tokenizer(positive_text, return_tensors='pt', padding=True, truncation=True, max_length=512).to(device)\n",
    "\n",
    "            anchor_embedding = avg_embedding(anchor_input, model)\n",
    "            positive_embedding = avg_embedding(positive_input, model)\n",
    "            negative_embedding = [avg_embedding(tokenizer(neg, return_tensors='pt', padding=True, truncation=True, max_length=512).to(device), model) for neg in negative_texts]\n",
    "\n",
    "            pos_dist = distance_fn(anchor_embedding, positive_embedding)\n",
    "            neg_dist = torch.stack([distance_fn(anchor_embedding, neg) for neg in negative_embedding], dim=-1)\n",
    "            all_similarities=torch.cat([-pos_dist.unsqueeze(1), -neg_dist], dim=1)\n",
    "            \n",
    "            sorted_similarities, sorted_indices = torch.sort(all_similarities, dim=1, descending=True)\n",
    "\n",
    "            # Find the rank of the first relevant (positive) document\n",
    "            positive_rank = (sorted_indices == 0).nonzero(as_tuple=True)[1] + 1  # +1 to make rank 1-based\n",
    "            total_rr += torch.sum(1.0 / positive_rank.float()).item()  # Reciprocal rank\n",
    "            num_queries += len(positive_rank)\n",
    "\n",
    "    mrr = total_rr / num_queries\n",
    "    return mrr"
   ]
  },
  {
   "cell_type": "code",
   "execution_count": 24,
   "id": "82977667-a984-467e-9eb6-9d6520ecb3b8",
   "metadata": {
    "execution": {
     "iopub.execute_input": "2025-03-05T02:32:03.696990Z",
     "iopub.status.busy": "2025-03-05T02:32:03.696604Z",
     "iopub.status.idle": "2025-03-05T02:32:08.035083Z",
     "shell.execute_reply": "2025-03-05T02:32:08.034586Z"
    },
    "papermill": {
     "duration": 4.343912,
     "end_time": "2025-03-05T02:32:08.035882",
     "exception": false,
     "start_time": "2025-03-05T02:32:03.691970",
     "status": "completed"
    },
    "tags": []
   },
   "outputs": [
    {
     "name": "stdout",
     "output_type": "stream",
     "text": [
      "0.5441666769981385\n"
     ]
    }
   ],
   "source": [
    "mrr_validation_average = evaluate_mrr_average(lora_model_average, data_loader, cosine_distance)\n",
    "print(mrr_validation_average)"
   ]
  },
  {
   "cell_type": "code",
   "execution_count": null,
   "id": "966c23c7-dc92-49e8-bb1f-1520c0ccd13b",
   "metadata": {
    "papermill": {
     "duration": 0.004356,
     "end_time": "2025-03-05T02:32:08.047150",
     "exception": false,
     "start_time": "2025-03-05T02:32:08.042794",
     "status": "completed"
    },
    "tags": []
   },
   "outputs": [],
   "source": []
  },
  {
   "cell_type": "code",
   "execution_count": 25,
   "id": "af58281c-1786-4bda-9eec-0fa0f127d140",
   "metadata": {
    "execution": {
     "iopub.execute_input": "2025-03-05T02:32:08.056830Z",
     "iopub.status.busy": "2025-03-05T02:32:08.056276Z",
     "iopub.status.idle": "2025-03-05T02:32:08.468263Z",
     "shell.execute_reply": "2025-03-05T02:32:08.467489Z"
    },
    "papermill": {
     "duration": 0.417625,
     "end_time": "2025-03-05T02:32:08.469059",
     "exception": false,
     "start_time": "2025-03-05T02:32:08.051434",
     "status": "completed"
    },
    "tags": []
   },
   "outputs": [
    {
     "name": "stderr",
     "output_type": "stream",
     "text": [
      "/tmp/ipykernel_1531690/2502257612.py:2: FutureWarning: You are using `torch.load` with `weights_only=False` (the current default value), which uses the default pickle module implicitly. It is possible to construct malicious pickle data which will execute arbitrary code during unpickling (See https://github.com/pytorch/pytorch/blob/main/SECURITY.md#untrusted-models for more details). In a future release, the default value for `weights_only` will be flipped to `True`. This limits the functions that could be executed during unpickling. Arbitrary objects will no longer be allowed to be loaded via this mode unless they are explicitly allowlisted by the user via `torch.serialization.add_safe_globals`. We recommend you start setting `weights_only=True` for any use case where you don't have full control of the loaded file. Please open an issue on GitHub for any issues related to this experimental feature.\n",
      "  lora_model_hyperbolic = torch.load(file_path_hyperbolic)\n"
     ]
    }
   ],
   "source": [
    "file_path_hyperbolic=\"/dss/dsshome1/07/ra65bex2/srawat/contrastive_learning/v1.1/0.1hyperbolic/hyperbolic_lora_checkpoint_epoch_3.pth\"\n",
    "lora_model_hyperbolic = torch.load(file_path_hyperbolic)\n",
    "lora_model_hyperbolic = lora_model_hyperbolic.to(device)"
   ]
  },
  {
   "cell_type": "code",
   "execution_count": 26,
   "id": "d6f9507b-01e9-49d0-8327-760677bfcf0b",
   "metadata": {
    "execution": {
     "iopub.execute_input": "2025-03-05T02:32:08.479786Z",
     "iopub.status.busy": "2025-03-05T02:32:08.478993Z",
     "iopub.status.idle": "2025-03-05T02:32:08.482684Z",
     "shell.execute_reply": "2025-03-05T02:32:08.482305Z"
    },
    "papermill": {
     "duration": 0.009411,
     "end_time": "2025-03-05T02:32:08.483441",
     "exception": false,
     "start_time": "2025-03-05T02:32:08.474030",
     "status": "completed"
    },
    "tags": []
   },
   "outputs": [],
   "source": [
    "def lorentzian_distance(x, y):\n",
    "    \n",
    "    dot_product = torch.sum(x * y, dim=-1)\n",
    "    norm_x = torch.norm(x, dim=-1)\n",
    "    norm_y = torch.norm(y, dim=-1)\n",
    "    \n",
    "    distance = torch.acosh(-dot_product + torch.sqrt((1 + norm_x**2) * (1 + norm_y**2)))\n",
    "    return distance"
   ]
  },
  {
   "cell_type": "code",
   "execution_count": 27,
   "id": "de4ecc53-8b64-4fee-bfbf-d3b85d441d1f",
   "metadata": {
    "execution": {
     "iopub.execute_input": "2025-03-05T02:32:08.493259Z",
     "iopub.status.busy": "2025-03-05T02:32:08.492731Z",
     "iopub.status.idle": "2025-03-05T02:32:08.506006Z",
     "shell.execute_reply": "2025-03-05T02:32:08.505662Z"
    },
    "papermill": {
     "duration": 0.018971,
     "end_time": "2025-03-05T02:32:08.506928",
     "exception": false,
     "start_time": "2025-03-05T02:32:08.487957",
     "status": "completed"
    },
    "tags": []
   },
   "outputs": [],
   "source": [
    "def expm_o(v, c=1.0):\n",
    "    c = torch.tensor(c)\n",
    "    vspace = v\n",
    "    vnorm = torch.norm(v, p=2, dim=-1, keepdim=True)\n",
    "    xspace = torch.sinh(torch.sqrt(c) * vnorm) * vspace / (torch.sqrt(c) * vnorm)\n",
    "    batch_min = xspace.min(dim=1, keepdim=True).values\n",
    "    batch_max = xspace.max(dim=1, keepdim=True).values\n",
    "    xspace_scaled=(xspace - batch_min) / (batch_max - batch_min)\n",
    "    return xspace_scaled"
   ]
  },
  {
   "cell_type": "code",
   "execution_count": 28,
   "id": "c6639968-6b1d-4601-a69f-6e83b9863ab6",
   "metadata": {
    "execution": {
     "iopub.execute_input": "2025-03-05T02:32:08.516698Z",
     "iopub.status.busy": "2025-03-05T02:32:08.516534Z",
     "iopub.status.idle": "2025-03-05T02:32:08.527544Z",
     "shell.execute_reply": "2025-03-05T02:32:08.526984Z"
    },
    "papermill": {
     "duration": 0.016757,
     "end_time": "2025-03-05T02:32:08.528187",
     "exception": false,
     "start_time": "2025-03-05T02:32:08.511430",
     "status": "completed"
    },
    "tags": []
   },
   "outputs": [],
   "source": [
    "def evaluate_mrr_hyperbolic(model1, data_loader_val, distance_fn):\n",
    "    model1.eval()\n",
    "    \n",
    "    total_rr = 0.0\n",
    "    num_queries = 0\n",
    "\n",
    "    with torch.no_grad():\n",
    "        for batch in data_loader_val:\n",
    "            anchor_text = batch[0]\n",
    "            positive_text = batch[1]\n",
    "            negative_texts = batch[2]\n",
    "\n",
    "            anchor_input = tokenizer(anchor_text, return_tensors='pt', padding=True, truncation=True, max_length=512).to(device)\n",
    "            positive_input = tokenizer(positive_text, return_tensors='pt', padding=True, truncation=True, max_length=512).to(device)\n",
    "\n",
    "            anchor_embedding = expm_o(model1(**anchor_input).last_hidden_state[:, 0, :])\n",
    "            positive_embedding = expm_o(model1(**positive_input).last_hidden_state[:, 0, :])\n",
    "            negative_embedding = [expm_o(model1(**tokenizer(neg, return_tensors='pt', padding=True, truncation=True, max_length=512).to(device)).last_hidden_state[:, 0, :]) for neg in negative_texts]\n",
    "\n",
    "            pos_dist = distance_fn(anchor_embedding, positive_embedding)\n",
    "            neg_dist = torch.stack([distance_fn(anchor_embedding, neg) for neg in negative_embedding], dim=-1)\n",
    "            all_similarities=torch.cat([-pos_dist.unsqueeze(1), -neg_dist], dim=1)\n",
    "\n",
    "            sorted_similarities, sorted_indices = torch.sort(all_similarities, dim=1, descending=True)\n",
    "\n",
    "            # Find the rank of the first relevant (positive) document\n",
    "            positive_rank = (sorted_indices == 0).nonzero(as_tuple=True)[1] + 1  # +1 to make rank 1-based\n",
    "            total_rr += torch.sum(1.0 / positive_rank.float()).item()  # Reciprocal rank\n",
    "            num_queries += len(positive_rank)\n",
    "            \n",
    "    mrr = total_rr / num_queries\n",
    "    return mrr"
   ]
  },
  {
   "cell_type": "code",
   "execution_count": 29,
   "id": "9c54c77e-2dde-4c88-9eaf-439a409e845e",
   "metadata": {
    "execution": {
     "iopub.execute_input": "2025-03-05T02:32:08.538306Z",
     "iopub.status.busy": "2025-03-05T02:32:08.538000Z",
     "iopub.status.idle": "2025-03-05T02:32:12.878514Z",
     "shell.execute_reply": "2025-03-05T02:32:12.877800Z"
    },
    "papermill": {
     "duration": 4.34657,
     "end_time": "2025-03-05T02:32:12.879295",
     "exception": false,
     "start_time": "2025-03-05T02:32:08.532725",
     "status": "completed"
    },
    "tags": []
   },
   "outputs": [
    {
     "name": "stdout",
     "output_type": "stream",
     "text": [
      "0.43062500715255736\n"
     ]
    }
   ],
   "source": [
    "mrr_validation_hyperbolic = evaluate_mrr_hyperbolic(model1=lora_model_hyperbolic, data_loader_val=data_loader,distance_fn=lorentzian_distance)\n",
    "print(mrr_validation_hyperbolic)"
   ]
  },
  {
   "cell_type": "code",
   "execution_count": null,
   "id": "3e097240-0b21-4a85-8959-2c74522b15a8",
   "metadata": {
    "papermill": {
     "duration": 0.004636,
     "end_time": "2025-03-05T02:32:12.891167",
     "exception": false,
     "start_time": "2025-03-05T02:32:12.886531",
     "status": "completed"
    },
    "tags": []
   },
   "outputs": [],
   "source": []
  },
  {
   "cell_type": "code",
   "execution_count": 30,
   "id": "d883371b-b6e4-40de-b212-93ed5fcb6061",
   "metadata": {
    "execution": {
     "iopub.execute_input": "2025-03-05T02:32:12.901455Z",
     "iopub.status.busy": "2025-03-05T02:32:12.901271Z",
     "iopub.status.idle": "2025-03-05T02:32:12.907315Z",
     "shell.execute_reply": "2025-03-05T02:32:12.906956Z"
    },
    "papermill": {
     "duration": 0.012214,
     "end_time": "2025-03-05T02:32:12.908248",
     "exception": false,
     "start_time": "2025-03-05T02:32:12.896034",
     "status": "completed"
    },
    "tags": []
   },
   "outputs": [
    {
     "name": "stdout",
     "output_type": "stream",
     "text": [
      "Median Query Length: 5.0\n"
     ]
    }
   ],
   "source": [
    "import statistics\n",
    "print(\"Median Query Length:\", statistics.median(query_lengths))"
   ]
  },
  {
   "cell_type": "code",
   "execution_count": 31,
   "id": "4b02b505-a8f9-480d-959e-effcbc2ed3a2",
   "metadata": {
    "execution": {
     "iopub.execute_input": "2025-03-05T02:32:12.918110Z",
     "iopub.status.busy": "2025-03-05T02:32:12.917962Z",
     "iopub.status.idle": "2025-03-05T02:32:12.930916Z",
     "shell.execute_reply": "2025-03-05T02:32:12.930533Z"
    },
    "papermill": {
     "duration": 0.018633,
     "end_time": "2025-03-05T02:32:12.931580",
     "exception": false,
     "start_time": "2025-03-05T02:32:12.912947",
     "status": "completed"
    },
    "tags": []
   },
   "outputs": [
    {
     "data": {
      "text/plain": [
       "0.5123333489894867"
      ]
     },
     "execution_count": 31,
     "metadata": {},
     "output_type": "execute_result"
    }
   ],
   "source": [
    "mrr_validation_baseline"
   ]
  },
  {
   "cell_type": "code",
   "execution_count": 32,
   "id": "5c10dccb-fbc7-448b-b3d9-4d7e045dafd3",
   "metadata": {
    "execution": {
     "iopub.execute_input": "2025-03-05T02:32:12.941706Z",
     "iopub.status.busy": "2025-03-05T02:32:12.941547Z",
     "iopub.status.idle": "2025-03-05T02:32:12.952299Z",
     "shell.execute_reply": "2025-03-05T02:32:12.951603Z"
    },
    "papermill": {
     "duration": 0.016625,
     "end_time": "2025-03-05T02:32:12.953104",
     "exception": false,
     "start_time": "2025-03-05T02:32:12.936479",
     "status": "completed"
    },
    "tags": []
   },
   "outputs": [
    {
     "data": {
      "text/plain": [
       "0.5441666769981385"
      ]
     },
     "execution_count": 32,
     "metadata": {},
     "output_type": "execute_result"
    }
   ],
   "source": [
    "mrr_validation_average"
   ]
  },
  {
   "cell_type": "code",
   "execution_count": 33,
   "id": "b9c22c87-c20f-4a86-a8d3-d941340ea726",
   "metadata": {
    "execution": {
     "iopub.execute_input": "2025-03-05T02:32:12.963501Z",
     "iopub.status.busy": "2025-03-05T02:32:12.963352Z",
     "iopub.status.idle": "2025-03-05T02:32:12.972604Z",
     "shell.execute_reply": "2025-03-05T02:32:12.972110Z"
    },
    "papermill": {
     "duration": 0.0154,
     "end_time": "2025-03-05T02:32:12.973366",
     "exception": false,
     "start_time": "2025-03-05T02:32:12.957966",
     "status": "completed"
    },
    "tags": []
   },
   "outputs": [
    {
     "data": {
      "text/plain": [
       "0.43062500715255736"
      ]
     },
     "execution_count": 33,
     "metadata": {},
     "output_type": "execute_result"
    }
   ],
   "source": [
    "mrr_validation_hyperbolic"
   ]
  }
 ],
 "metadata": {
  "kernelspec": {
   "display_name": "Python (myenv)",
   "language": "python",
   "name": "myenv"
  },
  "language_info": {
   "codemirror_mode": {
    "name": "ipython",
    "version": 3
   },
   "file_extension": ".py",
   "mimetype": "text/x-python",
   "name": "python",
   "nbconvert_exporter": "python",
   "pygments_lexer": "ipython3",
   "version": "3.12.7"
  },
  "papermill": {
   "default_parameters": {},
   "duration": 684.128843,
   "end_time": "2025-03-05T02:32:16.396129",
   "environment_variables": {},
   "exception": null,
   "input_path": "DBpedia.ipynb",
   "output_path": "DBpedia_output.ipynb",
   "parameters": {},
   "start_time": "2025-03-05T02:20:52.267286",
   "version": "2.6.0"
  },
  "widgets": {
   "application/vnd.jupyter.widget-state+json": {
    "state": {
     "0b50f2224d984063a931c6420d596ced": {
      "model_module": "@jupyter-widgets/base",
      "model_module_version": "2.0.0",
      "model_name": "LayoutModel",
      "state": {
       "_model_module": "@jupyter-widgets/base",
       "_model_module_version": "2.0.0",
       "_model_name": "LayoutModel",
       "_view_count": null,
       "_view_module": "@jupyter-widgets/base",
       "_view_module_version": "2.0.0",
       "_view_name": "LayoutView",
       "align_content": null,
       "align_items": null,
       "align_self": null,
       "border_bottom": null,
       "border_left": null,
       "border_right": null,
       "border_top": null,
       "bottom": null,
       "display": null,
       "flex": null,
       "flex_flow": null,
       "grid_area": null,
       "grid_auto_columns": null,
       "grid_auto_flow": null,
       "grid_auto_rows": null,
       "grid_column": null,
       "grid_gap": null,
       "grid_row": null,
       "grid_template_areas": null,
       "grid_template_columns": null,
       "grid_template_rows": null,
       "height": null,
       "justify_content": null,
       "justify_items": null,
       "left": null,
       "margin": null,
       "max_height": null,
       "max_width": null,
       "min_height": null,
       "min_width": null,
       "object_fit": null,
       "object_position": null,
       "order": null,
       "overflow": null,
       "padding": null,
       "right": null,
       "top": null,
       "visibility": null,
       "width": null
      }
     },
     "24129469303641f5afdf68b4b6fcf2e9": {
      "model_module": "@jupyter-widgets/base",
      "model_module_version": "2.0.0",
      "model_name": "LayoutModel",
      "state": {
       "_model_module": "@jupyter-widgets/base",
       "_model_module_version": "2.0.0",
       "_model_name": "LayoutModel",
       "_view_count": null,
       "_view_module": "@jupyter-widgets/base",
       "_view_module_version": "2.0.0",
       "_view_name": "LayoutView",
       "align_content": null,
       "align_items": null,
       "align_self": null,
       "border_bottom": null,
       "border_left": null,
       "border_right": null,
       "border_top": null,
       "bottom": null,
       "display": null,
       "flex": null,
       "flex_flow": null,
       "grid_area": null,
       "grid_auto_columns": null,
       "grid_auto_flow": null,
       "grid_auto_rows": null,
       "grid_column": null,
       "grid_gap": null,
       "grid_row": null,
       "grid_template_areas": null,
       "grid_template_columns": null,
       "grid_template_rows": null,
       "height": null,
       "justify_content": null,
       "justify_items": null,
       "left": null,
       "margin": null,
       "max_height": null,
       "max_width": null,
       "min_height": null,
       "min_width": null,
       "object_fit": null,
       "object_position": null,
       "order": null,
       "overflow": null,
       "padding": null,
       "right": null,
       "top": null,
       "visibility": null,
       "width": null
      }
     },
     "2827707dbcaa411586716a6a72a4c080": {
      "model_module": "@jupyter-widgets/controls",
      "model_module_version": "2.0.0",
      "model_name": "HTMLStyleModel",
      "state": {
       "_model_module": "@jupyter-widgets/controls",
       "_model_module_version": "2.0.0",
       "_model_name": "HTMLStyleModel",
       "_view_count": null,
       "_view_module": "@jupyter-widgets/base",
       "_view_module_version": "2.0.0",
       "_view_name": "StyleView",
       "background": null,
       "description_width": "",
       "font_size": null,
       "text_color": null
      }
     },
     "42238e65b64444eba90dcf80e8d60fda": {
      "model_module": "@jupyter-widgets/base",
      "model_module_version": "2.0.0",
      "model_name": "LayoutModel",
      "state": {
       "_model_module": "@jupyter-widgets/base",
       "_model_module_version": "2.0.0",
       "_model_name": "LayoutModel",
       "_view_count": null,
       "_view_module": "@jupyter-widgets/base",
       "_view_module_version": "2.0.0",
       "_view_name": "LayoutView",
       "align_content": null,
       "align_items": null,
       "align_self": null,
       "border_bottom": null,
       "border_left": null,
       "border_right": null,
       "border_top": null,
       "bottom": null,
       "display": null,
       "flex": null,
       "flex_flow": null,
       "grid_area": null,
       "grid_auto_columns": null,
       "grid_auto_flow": null,
       "grid_auto_rows": null,
       "grid_column": null,
       "grid_gap": null,
       "grid_row": null,
       "grid_template_areas": null,
       "grid_template_columns": null,
       "grid_template_rows": null,
       "height": null,
       "justify_content": null,
       "justify_items": null,
       "left": null,
       "margin": null,
       "max_height": null,
       "max_width": null,
       "min_height": null,
       "min_width": null,
       "object_fit": null,
       "object_position": null,
       "order": null,
       "overflow": null,
       "padding": null,
       "right": null,
       "top": null,
       "visibility": null,
       "width": null
      }
     },
     "7c438ed8ca7c4f779d2bb3b14d4057bd": {
      "model_module": "@jupyter-widgets/controls",
      "model_module_version": "2.0.0",
      "model_name": "HTMLModel",
      "state": {
       "_dom_classes": [],
       "_model_module": "@jupyter-widgets/controls",
       "_model_module_version": "2.0.0",
       "_model_name": "HTMLModel",
       "_view_count": null,
       "_view_module": "@jupyter-widgets/controls",
       "_view_module_version": "2.0.0",
       "_view_name": "HTMLView",
       "description": "",
       "description_allow_html": false,
       "layout": "IPY_MODEL_829f611f25994689a115ceae0b16a8a1",
       "placeholder": "​",
       "style": "IPY_MODEL_e42946cfb05f4ae1bfbd115f14717a42",
       "tabbable": null,
       "tooltip": null,
       "value": " 4635922/4635922 [00:21&lt;00:00, 217375.82it/s]"
      }
     },
     "829f611f25994689a115ceae0b16a8a1": {
      "model_module": "@jupyter-widgets/base",
      "model_module_version": "2.0.0",
      "model_name": "LayoutModel",
      "state": {
       "_model_module": "@jupyter-widgets/base",
       "_model_module_version": "2.0.0",
       "_model_name": "LayoutModel",
       "_view_count": null,
       "_view_module": "@jupyter-widgets/base",
       "_view_module_version": "2.0.0",
       "_view_name": "LayoutView",
       "align_content": null,
       "align_items": null,
       "align_self": null,
       "border_bottom": null,
       "border_left": null,
       "border_right": null,
       "border_top": null,
       "bottom": null,
       "display": null,
       "flex": null,
       "flex_flow": null,
       "grid_area": null,
       "grid_auto_columns": null,
       "grid_auto_flow": null,
       "grid_auto_rows": null,
       "grid_column": null,
       "grid_gap": null,
       "grid_row": null,
       "grid_template_areas": null,
       "grid_template_columns": null,
       "grid_template_rows": null,
       "height": null,
       "justify_content": null,
       "justify_items": null,
       "left": null,
       "margin": null,
       "max_height": null,
       "max_width": null,
       "min_height": null,
       "min_width": null,
       "object_fit": null,
       "object_position": null,
       "order": null,
       "overflow": null,
       "padding": null,
       "right": null,
       "top": null,
       "visibility": null,
       "width": null
      }
     },
     "ac0687b4685f4f46a6b50bb304205841": {
      "model_module": "@jupyter-widgets/controls",
      "model_module_version": "2.0.0",
      "model_name": "HTMLModel",
      "state": {
       "_dom_classes": [],
       "_model_module": "@jupyter-widgets/controls",
       "_model_module_version": "2.0.0",
       "_model_name": "HTMLModel",
       "_view_count": null,
       "_view_module": "@jupyter-widgets/controls",
       "_view_module_version": "2.0.0",
       "_view_name": "HTMLView",
       "description": "",
       "description_allow_html": false,
       "layout": "IPY_MODEL_42238e65b64444eba90dcf80e8d60fda",
       "placeholder": "​",
       "style": "IPY_MODEL_2827707dbcaa411586716a6a72a4c080",
       "tabbable": null,
       "tooltip": null,
       "value": "100%"
      }
     },
     "b956c0ccc08a4eff953b798567dd35a8": {
      "model_module": "@jupyter-widgets/controls",
      "model_module_version": "2.0.0",
      "model_name": "ProgressStyleModel",
      "state": {
       "_model_module": "@jupyter-widgets/controls",
       "_model_module_version": "2.0.0",
       "_model_name": "ProgressStyleModel",
       "_view_count": null,
       "_view_module": "@jupyter-widgets/base",
       "_view_module_version": "2.0.0",
       "_view_name": "StyleView",
       "bar_color": null,
       "description_width": ""
      }
     },
     "e42946cfb05f4ae1bfbd115f14717a42": {
      "model_module": "@jupyter-widgets/controls",
      "model_module_version": "2.0.0",
      "model_name": "HTMLStyleModel",
      "state": {
       "_model_module": "@jupyter-widgets/controls",
       "_model_module_version": "2.0.0",
       "_model_name": "HTMLStyleModel",
       "_view_count": null,
       "_view_module": "@jupyter-widgets/base",
       "_view_module_version": "2.0.0",
       "_view_name": "StyleView",
       "background": null,
       "description_width": "",
       "font_size": null,
       "text_color": null
      }
     },
     "f73e09210c874291b0a03659ddfcbb5a": {
      "model_module": "@jupyter-widgets/controls",
      "model_module_version": "2.0.0",
      "model_name": "FloatProgressModel",
      "state": {
       "_dom_classes": [],
       "_model_module": "@jupyter-widgets/controls",
       "_model_module_version": "2.0.0",
       "_model_name": "FloatProgressModel",
       "_view_count": null,
       "_view_module": "@jupyter-widgets/controls",
       "_view_module_version": "2.0.0",
       "_view_name": "ProgressView",
       "bar_style": "success",
       "description": "",
       "description_allow_html": false,
       "layout": "IPY_MODEL_24129469303641f5afdf68b4b6fcf2e9",
       "max": 4635922.0,
       "min": 0.0,
       "orientation": "horizontal",
       "style": "IPY_MODEL_b956c0ccc08a4eff953b798567dd35a8",
       "tabbable": null,
       "tooltip": null,
       "value": 4635922.0
      }
     },
     "fdbcc2e09dfc4733b756541487c7b1f9": {
      "model_module": "@jupyter-widgets/controls",
      "model_module_version": "2.0.0",
      "model_name": "HBoxModel",
      "state": {
       "_dom_classes": [],
       "_model_module": "@jupyter-widgets/controls",
       "_model_module_version": "2.0.0",
       "_model_name": "HBoxModel",
       "_view_count": null,
       "_view_module": "@jupyter-widgets/controls",
       "_view_module_version": "2.0.0",
       "_view_name": "HBoxView",
       "box_style": "",
       "children": [
        "IPY_MODEL_ac0687b4685f4f46a6b50bb304205841",
        "IPY_MODEL_f73e09210c874291b0a03659ddfcbb5a",
        "IPY_MODEL_7c438ed8ca7c4f779d2bb3b14d4057bd"
       ],
       "layout": "IPY_MODEL_0b50f2224d984063a931c6420d596ced",
       "tabbable": null,
       "tooltip": null
      }
     }
    },
    "version_major": 2,
    "version_minor": 0
   }
  }
 },
 "nbformat": 4,
 "nbformat_minor": 5
}