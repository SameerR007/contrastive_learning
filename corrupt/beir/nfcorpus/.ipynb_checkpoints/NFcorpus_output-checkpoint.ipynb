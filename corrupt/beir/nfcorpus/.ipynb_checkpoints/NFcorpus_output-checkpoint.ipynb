{
 "cells": [
  {
   "cell_type": "code",
   "execution_count": 1,
   "id": "f6d4b65f-fa6b-4517-8694-8627bc49833b",
   "metadata": {
    "execution": {
     "iopub.execute_input": "2025-03-05T00:39:15.949377Z",
     "iopub.status.busy": "2025-03-05T00:39:15.948887Z",
     "iopub.status.idle": "2025-03-05T00:39:16.014143Z",
     "shell.execute_reply": "2025-03-05T00:39:16.013071Z"
    },
    "papermill": {
     "duration": 0.075865,
     "end_time": "2025-03-05T00:39:16.015800",
     "exception": false,
     "start_time": "2025-03-05T00:39:15.939935",
     "status": "completed"
    },
    "tags": []
   },
   "outputs": [
    {
     "name": "stderr",
     "output_type": "stream",
     "text": [
      "/dss/dsshome1/07/ra65bex2/srawat/myenv/lib/python3.12/site-packages/beir/datasets/data_loader.py:8: TqdmExperimentalWarning: Using `tqdm.autonotebook.tqdm` in notebook mode. Use `tqdm.tqdm` instead to force console mode (e.g. in jupyter console)\n",
      "  from tqdm.autonotebook import tqdm\n"
     ]
    }
   ],
   "source": [
    "from beir.datasets.data_loader import GenericDataLoader"
   ]
  },
  {
   "cell_type": "code",
   "execution_count": 2,
   "id": "a91d6914-e301-422c-b839-1fafeb1e8fa4",
   "metadata": {
    "execution": {
     "iopub.execute_input": "2025-03-05T00:39:16.026402Z",
     "iopub.status.busy": "2025-03-05T00:39:16.026164Z",
     "iopub.status.idle": "2025-03-05T00:39:16.029752Z",
     "shell.execute_reply": "2025-03-05T00:39:16.029287Z"
    },
    "papermill": {
     "duration": 0.010438,
     "end_time": "2025-03-05T00:39:16.030669",
     "exception": false,
     "start_time": "2025-03-05T00:39:16.020231",
     "status": "completed"
    },
    "tags": []
   },
   "outputs": [],
   "source": [
    "data_path = '/dss/dsshome1/07/ra65bex2/srawat/nfcorpus/nfcorpus'"
   ]
  },
  {
   "cell_type": "code",
   "execution_count": 3,
   "id": "41e17333-2c34-4b7b-91f6-3cbd3972f0d6",
   "metadata": {
    "execution": {
     "iopub.execute_input": "2025-03-05T00:39:16.041741Z",
     "iopub.status.busy": "2025-03-05T00:39:16.041288Z",
     "iopub.status.idle": "2025-03-05T00:39:16.120978Z",
     "shell.execute_reply": "2025-03-05T00:39:16.120462Z"
    },
    "papermill": {
     "duration": 0.087315,
     "end_time": "2025-03-05T00:39:16.122042",
     "exception": false,
     "start_time": "2025-03-05T00:39:16.034727",
     "status": "completed"
    },
    "tags": []
   },
   "outputs": [
    {
     "data": {
      "application/vnd.jupyter.widget-view+json": {
       "model_id": "b1dc4cb189dd48baa233c7cbaaa1f009",
       "version_major": 2,
       "version_minor": 0
      },
      "text/plain": [
       "  0%|          | 0/3633 [00:00<?, ?it/s]"
      ]
     },
     "metadata": {},
     "output_type": "display_data"
    }
   ],
   "source": [
    "corpus, queries, qrels = GenericDataLoader(data_path).load(split=\"test\")"
   ]
  },
  {
   "cell_type": "code",
   "execution_count": 4,
   "id": "1d653c60-435a-4e10-8506-6ef5d01f8675",
   "metadata": {
    "execution": {
     "iopub.execute_input": "2025-03-05T00:39:16.139842Z",
     "iopub.status.busy": "2025-03-05T00:39:16.138657Z",
     "iopub.status.idle": "2025-03-05T00:39:17.692750Z",
     "shell.execute_reply": "2025-03-05T00:39:17.691649Z"
    },
    "papermill": {
     "duration": 1.559569,
     "end_time": "2025-03-05T00:39:17.693476",
     "exception": false,
     "start_time": "2025-03-05T00:39:16.133907",
     "status": "completed"
    },
    "tags": []
   },
   "outputs": [
    {
     "name": "stderr",
     "output_type": "stream",
     "text": [
      "[nltk_data] Downloading package stopwords to\n",
      "[nltk_data]     /dss/dsshome1/07/ra65bex2/nltk_data...\n",
      "[nltk_data]   Package stopwords is already up-to-date!\n",
      "[nltk_data] Downloading package wordnet to\n",
      "[nltk_data]     /dss/dsshome1/07/ra65bex2/nltk_data...\n",
      "[nltk_data]   Package wordnet is already up-to-date!\n"
     ]
    }
   ],
   "source": [
    "import random\n",
    "import re\n",
    "import nltk\n",
    "from nltk.corpus import stopwords, wordnet\n",
    "nltk.download('stopwords')\n",
    "nltk.download('wordnet')\n",
    "stop_words = set(stopwords.words('english'))\n",
    "def clean_text(text):\n",
    "    return re.sub(r'[^\\w\\s.!?]', '', text)\n",
    "def select_words(text, percentage):\n",
    "    words = [w for w in text.split() if w.lower() not in stop_words]\n",
    "    return random.sample(words, min(int(percentage*len(words)), len(words)))\n",
    "def introduce_typo(word):\n",
    "    if len(word) > 1:\n",
    "        idx = random.randint(0, len(word) - 1)\n",
    "        return word[:idx] + random.choice('abcdefghijklmnopqrstuvwxyz') + word[idx+1:]\n",
    "    return word\n",
    "def introduce_noise(word):\n",
    "    noise_chars = ['@', '#', '$', '%', '&', '*']\n",
    "    if len(word) > 1:\n",
    "        idx = random.randint(0, len(word) - 1)\n",
    "        return word[:idx] + random.choice(noise_chars) + word[idx+1:]\n",
    "    return word\n",
    "def replace_with_synonym(word):\n",
    "    synonyms = [syn.lemmas()[0].name() for syn in wordnet.synsets(word) if syn.lemmas()]\n",
    "    return random.choice(synonyms) if synonyms else word\n",
    "def corrupt_word(word, method):\n",
    "    if method == 'typo':\n",
    "        return introduce_typo(word)\n",
    "    elif method == 'noise':\n",
    "        return introduce_noise(word)\n",
    "    elif method == 'synonym':\n",
    "        return replace_with_synonym(word)\n",
    "    return word\n",
    "def corrupt_text(text):\n",
    "    corrupted_words = []  \n",
    "    words_to_corrupt=select_words(clean_text(text), percentage=0.5)\n",
    "    for word in clean_text(text).split():\n",
    "        if word in words_to_corrupt:\n",
    "            corruption_method = random.choice(['typo', 'noise', 'synonym'])\n",
    "            corrupted_words.append(corrupt_word(word, corruption_method))\n",
    "        else:\n",
    "            corrupted_words.append(word)\n",
    "    return ' '.join(corrupted_words)"
   ]
  },
  {
   "cell_type": "code",
   "execution_count": 5,
   "id": "a29044d5-3952-4f3d-aa43-e1efd34fcad3",
   "metadata": {
    "execution": {
     "iopub.execute_input": "2025-03-05T00:39:17.703510Z",
     "iopub.status.busy": "2025-03-05T00:39:17.701858Z",
     "iopub.status.idle": "2025-03-05T00:39:20.117685Z",
     "shell.execute_reply": "2025-03-05T00:39:20.117082Z"
    },
    "papermill": {
     "duration": 2.4214,
     "end_time": "2025-03-05T00:39:20.118847",
     "exception": false,
     "start_time": "2025-03-05T00:39:17.697447",
     "status": "completed"
    },
    "tags": []
   },
   "outputs": [],
   "source": [
    "contrastive_pairs=[]\n",
    "query_lengths = []\n",
    "import random\n",
    "c=0\n",
    "for query_id, relevant_docs in qrels.items():\n",
    "    try:\n",
    "        query_text = queries[query_id]\n",
    "        query_lengths.append(len(query_text.split()))\n",
    "        for doc_id in relevant_docs:\n",
    "            positive = corpus[doc_id][\"text\"]\n",
    "        #print(relevant_docs)\n",
    "        positive_doc_ids = set(relevant_docs)\n",
    "        all_doc_ids = set(corpus.keys())\n",
    "        negative_doc_ids = all_doc_ids - positive_doc_ids\n",
    "        negative_doc_ids=list(negative_doc_ids)\n",
    "        negative_doc_samples = random.sample(negative_doc_ids, k=5)\n",
    "        negatives=[]\n",
    "        for neg_doc_id in negative_doc_samples:\n",
    "            negative_doc_text = corpus[neg_doc_id][\"text\"]\n",
    "            negatives.append(negative_doc_text)\n",
    "        contrastive_pairs.append({\n",
    "            \"anchor\": corrupt_text(query_text),\n",
    "            \"positive\": positive,\n",
    "            \"negatives\": negatives\n",
    "        })\n",
    "    except:\n",
    "        c=c+1"
   ]
  },
  {
   "cell_type": "code",
   "execution_count": 6,
   "id": "49721946-fff3-4690-bd92-d981cecdf62b",
   "metadata": {
    "execution": {
     "iopub.execute_input": "2025-03-05T00:39:20.129696Z",
     "iopub.status.busy": "2025-03-05T00:39:20.129314Z",
     "iopub.status.idle": "2025-03-05T00:39:20.133688Z",
     "shell.execute_reply": "2025-03-05T00:39:20.133296Z"
    },
    "papermill": {
     "duration": 0.009473,
     "end_time": "2025-03-05T00:39:20.134424",
     "exception": false,
     "start_time": "2025-03-05T00:39:20.124951",
     "status": "completed"
    },
    "tags": []
   },
   "outputs": [
    {
     "data": {
      "text/plain": [
       "0"
      ]
     },
     "execution_count": 6,
     "metadata": {},
     "output_type": "execute_result"
    }
   ],
   "source": [
    "c"
   ]
  },
  {
   "cell_type": "code",
   "execution_count": 7,
   "id": "de8ef367-dcb4-4bb6-af3a-20f190930ed1",
   "metadata": {
    "execution": {
     "iopub.execute_input": "2025-03-05T00:39:20.142515Z",
     "iopub.status.busy": "2025-03-05T00:39:20.142192Z",
     "iopub.status.idle": "2025-03-05T00:39:20.152708Z",
     "shell.execute_reply": "2025-03-05T00:39:20.152244Z"
    },
    "papermill": {
     "duration": 0.015301,
     "end_time": "2025-03-05T00:39:20.153433",
     "exception": false,
     "start_time": "2025-03-05T00:39:20.138132",
     "status": "completed"
    },
    "tags": []
   },
   "outputs": [
    {
     "data": {
      "text/plain": [
       "323"
      ]
     },
     "execution_count": 7,
     "metadata": {},
     "output_type": "execute_result"
    }
   ],
   "source": [
    "len(contrastive_pairs)"
   ]
  },
  {
   "cell_type": "code",
   "execution_count": 8,
   "id": "8a2ccada-419a-4f79-ad4d-b605780281a3",
   "metadata": {
    "execution": {
     "iopub.execute_input": "2025-03-05T00:39:20.161872Z",
     "iopub.status.busy": "2025-03-05T00:39:20.161477Z",
     "iopub.status.idle": "2025-03-05T00:39:20.169279Z",
     "shell.execute_reply": "2025-03-05T00:39:20.168906Z"
    },
    "papermill": {
     "duration": 0.01267,
     "end_time": "2025-03-05T00:39:20.170036",
     "exception": false,
     "start_time": "2025-03-05T00:39:20.157366",
     "status": "completed"
    },
    "tags": []
   },
   "outputs": [
    {
     "data": {
      "text/plain": [
       "[{'anchor': 'Do Cholesterol lipid-lowering_medicine D*ugs Ccuse Breast Cancer?',\n",
       "  'positive': 'Muscle pain and weakness are frequent complaints in patients receiving 3-hydroxymethylglutaryl coenzymeA (HMG CoA) reductase inhibitors (statins). Many patients with myalgia have creatine kinase levels that are either normal or only marginally elevated, and no obvious structural defects have been reported in patients with myalgia only. To investigate further the mechanism that mediates statin-induced skeletal muscle damage, skeletal muscle biopsies from statin-treated and non-statin-treated patients were examined using both electron microscopy and biochemical approaches. The present paper reports clear evidence of skeletal muscle damage in statin-treated patients, despite their being asymptomatic. Though the degree of overall damage is slight, it has a characteristic pattern that includes breakdown of the T-tubular system and subsarcolemmal rupture. These characteristic structural abnormalities observed in the statin-treated patients were reproduced by extraction of cholesterol from skeletal muscle fibres in vitro. These findings support the hypothesis that statin-induced cholesterol lowering per se contributes to myocyte damage and suggest further that it is the specific lipid/protein organization of the skeletal muscle cell itself that renders it particularly vulnerable. Copyright (c) 2006 Pathological Society of Great Britain and Ireland. Published by John Wiley & Sons, Ltd.',\n",
       "  'negatives': ['Essential tremor (ET) is a widespread late-life neurological disease. Genetic and environmental factors are likely to play important etiological roles. Harmane (1-methyl-9H-pyrido[3,4-b]indole) is a potent tremor-producing neurotoxin. Previously, elevated blood harmane concentrations were demonstrated in ET cases compared to controls, but these observations were all been cross-sectional, assessing each subject at only one time point. Thus, no one has ever repeat-assayed blood harmane in the same subjects twice. Whether the observed case-control difference persists at a second time point, years later, is unknown. The current goal was to re-assess a sample of our ET cases and controls to determine whether blood harmane concentration remained elevated in ET at a second time point. Blood harmane concentrations were quantified by a well-established high performance liquid chromatography method in 63 ET cases and 70 controls. A mean of approximately 6 years elapsed between the initial and this subsequent blood harmane determination. The mean log blood harmane concentration was significantly higher in cases than controls (0.30 ± 0.61 g−10/ml vs. 0.08 ± 0.55 g−10/ml), and the median value in cases was double that of controls: 0.22 g−10/ml vs. 0.11 g−10/ml. The log blood harmane concentration was highest in cases with a family history of ET. Blood harmane concentration was elevated in ET cases compared to controls when re-assessed at a second time point several years later, indicating what seems to be a stable association between this environmental toxin and ET.',\n",
       "   'BACKGROUND: In the United States, contaminated food causes approximately 1,000 reported disease outbreaks and an estimated 48 million illnesses, 128,000 METHODS: The Foodborne Diseases Active Surveillance Network (FoodNet) conducts surveillance among 15% of the U.S. population for laboratory-confirmed infections with nine pathogens transmitted commonly through food. Overall and pathogen-specific changes in incidence were estimated from 1996-1998 to 2010 and from 2006-2008 to 2010.hospitalizations, and 3,000 deaths annually. This report summarizes 2010 surveillance data and describes trends since 1996. RESULTS: A total of 19,089 infections, 4,247 hospitalizations, and 68 deaths were reported from FoodNet sites in 2010. Salmonella infection was the most common infection reported (17.6 illnesses per 100,000 persons) and was associated with the largest number of hospitalizations (2,290) and deaths (29); no significant change in incidence of Salmonella infection has occurred since the start of surveillance during 1996-1998. Shiga toxin-producing Escherichia coli (STEC) O157 infection caused 0.9 illnesses per 100,000. Compared with 1996-1998, overall incidence of infection with six key pathogens in 2010 was 23% lower, and pathogen-specific incidence was lower for Campylobacter, Listeria, STEC O157, Shigella, and Yersinia infection but higher for Vibrio infection. Compared with a more recent period, 2006--2008, incidence in 2010 was lower for STEC O157 and Shigella infection but higher for Vibrio infection. CONCLUSIONS: The incidence of STEC O157 infection has declined to reach the 2010 national health objective target of ≥1 case per 100,000. This success, as well as marked declines since 1996-1998 in overall incidence of six key foodborne infections, demonstrates the feasibility of preventing foodborne illnesses. IMPLICATIONS FOR PUBLIC HEALTH PRACTICE: Salmonella infection should be targeted because it has not declined significantly in more than a decade, and other data indicate that it is one of the most common foodborne infections, resulting in an estimated $365 million in direct medical costs annually. The prevention measures that reduced STEC O157 infection need to be applied more broadly to reduce Salmonella and other infections. Effective measures from farm to table include preventing contamination of meat during slaughter and of all foods, including produce, during processing and preparation; cooking meat thoroughly; vigorously detecting and investigating outbreaks; and recalling contaminated food.',\n",
       "   'OBJECTIVE: The aim of this study was to revisit findings from previous studies reporting that pet ownership improves outcome following an admission for acute coronary syndrome (ACS). METHOD: Four hundred and twenty-four patients admitted to a cardiac unit with an ACS completed questions regarding pet ownership in hospital. Rates of cardiac death and readmission were assessed 1 year following hospitalization. RESULTS: Pet owners were more likely to experience a death or readmission following their hospitalization, after controlling for key psychosocial and medical covariates. When dog and cat owners were considered separately, cat ownership was significantly associated with increased risk of death or readmission. CONCLUSION: In this independent study, pet ownership at baseline, and cat ownership in particular, was associated with increased cardiac morbidity and mortality in the year following an admission for an acute coronary syndrome, a finding contrary to previous reports.',\n",
       "   'Background Muscletech Hydroxycut® (Iovate Health Sciences Research, Oakville, Ontario) was a popular weight loss supplement that was recalled by the manufacturer in May 2009 based on reports of hepatotoxicity associated with this supplement. Objective To characterize the clinical presentation of Hydroxycut®-associated liver injury and to adjudicate these cases for causal association with Hydroxycut®. Design Case series. Setting Academic tertiary care hospitals and FDA databases. Measurements Assessment of causality and grading of severity of liver injury using methodology developed by the Drug-Induced Liver Injury Network (DILIN) study. Results Eight patients who developed liver injury after taking Hydroxycut treated at different medical centers were identified. All were hospitalized and 3 of 8 patients required liver transplantation. Nine other cases with adequate clinical information were obtained from the FDA MedWatch database including one fatal case of acute liver failure. Usual symptoms were jaundice, fatigue, nausea, vomiting and abdominal pain. Most patients exhibited a hepatocellular pattern of injury. Adjudication for causality revealed 8 cases as definite, 5 highly likely, 2 probable and 2 were considered as possible. Conclusions Hydroxycut® has been clearly implicated as a cause for severe liver injury that may lead to acute liver failure and death. Weight loss supplements represent a class of dietary supplements that should be regarded as capable of causing severe hepatic toxicity when the usual causes of identified liver injury cannot be otherwise elucidated.',\n",
       "   'Xerophthalmia and keratomalacia are public health problems of great magnitude which are usually associated with multiple vitamin and protein deficiencies. The authors report the case of a 27-year-old commune member who subjected herself to a bizarre protein and vitamin deficient diet for many months. This ultimately produced nyctalopia, xerophthalmia and keratomalacia with bilateral corneal perforation. Despite therapy, she remained comatose and expired shortly after admission. Ocular pathological changes included bilateral corneal melting with prolapse of intraocular contents, conjunctival epidermidalization, goblet cell atrophy and thinning of the outer nuclear layer of the retina. It is noted that ocular findings in pure avitaminosis A produced experimentalyy include epithelial atrophy followed by keratinization.']},\n",
       " {'anchor': 'Exploiting Autophagy to live Lozger',\n",
       "  'positive': 'Background The physical health status of vegetarians has been extensively reported, but there is limited research regarding the mental health status of vegetarians, particularly with regard to mood. Vegetarian diets exclude fish, the major dietary source of eicosapentaenoic acid (EPA) and docosahexaenoic acid (DHA), critical regulators of brain cell structure and function. Omnivorous diets low in EPA and DHA are linked to impaired mood states in observational and experimental studies. Methods We examined associations between mood state and polyunsaturated fatty acid intake as a result of adherence to a vegetarian or omnivorous diet in a cross-sectional study of 138 healthy Seventh Day Adventist men and women residing in the Southwest. Participants completed a quantitative food frequency questionnaire, Depression Anxiety Stress Scale (DASS), and Profile of Mood States (POMS) questionnaires. Results Vegetarians (VEG:n = 60) reported significantly less negative emotion than omnivores (OMN:n = 78) as measured by both mean total DASS and POMS scores (8.32 ± 0.88 vs 17.51 ± 1.88, p = .000 and 0.10 ± 1.99 vs 15.33 ± 3.10, p = .007, respectively). VEG reported significantly lower mean intakes of EPA (p < .001), DHA (p < .001), as well as the omega-6 fatty acid, arachidonic acid (AA; p < .001), and reported higher mean intakes of shorter-chain α-linolenic acid (p < .001) and linoleic acid (p < .001) than OMN. Mean total DASS and POMS scores were positively related to mean intakes of EPA (p < 0.05), DHA (p < 0.05), and AA (p < 0.05), and inversely related to intakes of ALA (p < 0.05), and LA (p < 0.05), indicating that participants with low intakes of EPA, DHA, and AA and high intakes of ALA and LA had better mood. Conclusions The vegetarian diet profile does not appear to adversely affect mood despite low intake of long-chain omega-3 fatty acids.',\n",
       "  'negatives': ['Researchers, veterinary and health care practitioners, and agricultural producers gathered in Johnston, Iowa, to attend the eighth annual Midwest Rural Agricultural Safety and Health Forum (MRASH), November 2009. Among several focus areas, four plenary talks were given on the current research being conducted examining methicillin-resistant Staphylococcus aureus (MRSA) on swine farms in the United States. These focused on prevalence of MRSA on farms, both in swine and in human workers; the presence of MRSA in air samples and in swine barn shower facilities; and the presence of methicillin-resistant and methicillin-sensitive S. aureus in retail meats. These findings begin to elucidate the overall picture of livestock-associated MRSA in the Midwestern United States.',\n",
       "   \"The protective effect of vegetables on the risk of breast cancer recurrence is uncertain. We sought to evaluate the association between breast cancer recurrence and vegetable intake including analyses stratified on tamoxifen use. Experimental evidence of anti-carcinogenic activity of phytochemicals in cruciferous vegetables in combination with tamoxifen led to specific evaluation of this class of vegetables as well. To assess the association between vegetable intake and breast cancer recurrence, vegetable intake from repeat 24-h dietary recalls were examined as a secondary analysis of 3,080 breast cancer survivors enrolled in the Women's Healthy Eating and Living (WHEL) Study. At the time of enrollment women were, on average, 23.5 months post-diagnosis. The hazard of recurrence, controlling for relevant and significant clinical and demographic variables, with vegetable intake was assessed overall and separately for women taking tamoxifen. WHEL participants reported mean baseline intakes (⁻x, SE) of 3.1 ± 0.05 and 0.5 ± 0.02 servings/day of total and cruciferous vegetables, respectively. Baseline vegetable intake in the highest as compared to lowest tertiles was associated with an overall lower adjusted hazard ratios (HR) for recurrence of 0.69, 95% CI 0.55-0.87. Among women taking tamoxifen, the HRs were 0.56, 95% CI 0.41-0.77 for total vegetables and 0.65, 95% CI 0.47-0.89 for cruciferous vegetable intake. The hazard in women using tamoxifen who reported cruciferous vegetable intake above the median and who were within the highest tertile of total vegetable intake was HR 0.48; 95% CI 0.32-0.70. This secondary analysis in over 3,000 breast cancer survivors suggests that baseline vegetable intake may be associated with a reduction in the risk of breast cancer recurrent or new events particularly for those using tamoxifen. Such associations should be explored further as the possibility that vegetable intake is simply a surrogate for other health-promoting behaviors cannot be ruled out.\",\n",
       "   'AIMS: This study was designed to evaluate the prevalence of Clostridium difficile contamination of retail chicken. METHODS AND RESULTS: Chicken legs, thighs and wings were purchased using a standardized method from retail outlets across Ontario, Canada. Selective culture was used for qualitative and quantitative detection of C. difficile. Clostridium difficile was isolated from 26/203 (12.8%) chicken samples; 10/111 (9.0%) thighs, 13/72 (18%) wings and 3/20 (15%) legs (P = 0.19). All isolates were ribotype 078, a strain that has been associated with food animals and potentially community-associated disease in humans. All positive samples were positive only on enrichment culture. CONCLUSIONS: Clostridium difficile could be found relatively commonly in retail chicken meat, albeit at low levels. SIGNIFICANCE AND IMPACT OF THE STUDY: This is the first study to report C. difficile in chicken meat. Contamination of meat with C. difficile strains implicated in human infections raises concerns about food as a source of C. difficile infection. The relevance of food contamination is completely unclear at this point but food should be investigated as a source of infection.',\n",
       "   \"In the 1970s several states in the Great Lakes region became concerned about mercury contamination in lakes and rivers and were the first to issue local fish consumption advisories. In 2001, the Food and Drug Administration (FDA) advised pregnant women, nursing mothers, young children, and women who may become pregnant not to consume shark, swordfish, king mackerel, and tilefish and recommended that these women not exceed 12 ounces of other fish per week. In 2004, FDA reissued this advice jointly with the U.S. Environmental Protection Agency (EPA) and modified it slightly to provide information about consumption of canned tuna and more details about consumption of recreationally caught fish. Though several studies have examined consumers' awareness of the joint FDA and EPA advisory as well as different state advisories, few used representative data. We examined the changes in awareness and knowledge of mercury as a problem in fish using the pooled nationally representative 2001 and 2006 Food Safety Surveys (FSS) with sample sizes of 4482 in 2001 and 2275 in 2006. Our results indicated an increase in consumers' awareness of mercury as a problem in fish (69% in 2001 to 80% in 2006, p<.001). In our regression models, we found that in both years, parents having children less than 5 years of age were more aware of mercury in fish and knowledgeable about the information contained in the national advisories about mercury in fish (p<.01) than other adults. In both 2001 and 2006, women of childbearing age (aged 18-45) were less aware and knowledgeable about this information than other women. However, women of all age groups had larger gains in awareness and knowledge than their male counterparts during this time. Participants' race, education, income, region, fish preparation experiences, having a foodborne illness in the past year, and risk perceptions about the safety of food were significant predictors of their awareness and knowledge. Copyright © 2011 Elsevier Inc. All rights reserved.\",\n",
       "   'Nutrient profiling of foods, described as the science of ranking foods based on their nutrient content, is fast becoming the basis for regulating nutrition labels, health claims, and marketing and advertising to children. A number of nutrient profile models have now been developed by research scientists, regulatory agencies, and by the food industry. Whereas some of these models have focused on nutrients to limit, others have emphasized nutrients known to be beneficial to health, or some combination of both. Although nutrient profile models are often tailored to specific goals, the development process ought to follow the same science-driven rules. These include the selection of index nutrients and reference amounts, the development of an appropriate algorithm for calculating nutrient density, and the validation of the chosen nutrient profile model against healthy diets. It is extremely important that nutrient profiles be validated rather than merely compared to prevailing public opinion. Regulatory agencies should act only when they are satisfied that the scientific process has been followed, that the algorithms are transparent, and that the profile model has been validated with respect to objective measures of a healthy diet.']}]"
      ]
     },
     "execution_count": 8,
     "metadata": {},
     "output_type": "execute_result"
    }
   ],
   "source": [
    "contrastive_pairs[0:2]"
   ]
  },
  {
   "cell_type": "code",
   "execution_count": 9,
   "id": "8ade92f9-e3df-4d0a-b849-b1a721e18cf6",
   "metadata": {
    "execution": {
     "iopub.execute_input": "2025-03-05T00:39:20.178671Z",
     "iopub.status.busy": "2025-03-05T00:39:20.178416Z",
     "iopub.status.idle": "2025-03-05T00:39:20.184230Z",
     "shell.execute_reply": "2025-03-05T00:39:20.183821Z"
    },
    "papermill": {
     "duration": 0.010883,
     "end_time": "2025-03-05T00:39:20.184977",
     "exception": false,
     "start_time": "2025-03-05T00:39:20.174094",
     "status": "completed"
    },
    "tags": []
   },
   "outputs": [
    {
     "data": {
      "text/plain": [
       "323"
      ]
     },
     "execution_count": 9,
     "metadata": {},
     "output_type": "execute_result"
    }
   ],
   "source": [
    "len(qrels)"
   ]
  },
  {
   "cell_type": "code",
   "execution_count": 10,
   "id": "6b97f7b4-f007-41f6-bfbb-1b9b01665e9d",
   "metadata": {
    "execution": {
     "iopub.execute_input": "2025-03-05T00:39:20.193746Z",
     "iopub.status.busy": "2025-03-05T00:39:20.193479Z",
     "iopub.status.idle": "2025-03-05T00:39:22.783365Z",
     "shell.execute_reply": "2025-03-05T00:39:22.782762Z"
    },
    "papermill": {
     "duration": 2.595441,
     "end_time": "2025-03-05T00:39:22.784545",
     "exception": false,
     "start_time": "2025-03-05T00:39:20.189104",
     "status": "completed"
    },
    "tags": []
   },
   "outputs": [],
   "source": [
    "from torch.utils.data import DataLoader"
   ]
  },
  {
   "cell_type": "code",
   "execution_count": 11,
   "id": "a415b29a-a543-4679-8f78-44f715b3067d",
   "metadata": {
    "execution": {
     "iopub.execute_input": "2025-03-05T00:39:22.796178Z",
     "iopub.status.busy": "2025-03-05T00:39:22.795654Z",
     "iopub.status.idle": "2025-03-05T00:39:22.799233Z",
     "shell.execute_reply": "2025-03-05T00:39:22.798806Z"
    },
    "papermill": {
     "duration": 0.009318,
     "end_time": "2025-03-05T00:39:22.800161",
     "exception": false,
     "start_time": "2025-03-05T00:39:22.790843",
     "status": "completed"
    },
    "tags": []
   },
   "outputs": [],
   "source": [
    "class ContrastiveDataset:\n",
    "    def __init__(self, pairs):\n",
    "        self.pairs = pairs\n",
    "\n",
    "    def __len__(self):\n",
    "        return len(self.pairs)\n",
    "\n",
    "    def __getitem__(self, idx):\n",
    "        item = self.pairs[idx]\n",
    "        return item[\"anchor\"], item[\"positive\"], item[\"negatives\"]"
   ]
  },
  {
   "cell_type": "code",
   "execution_count": 12,
   "id": "a39efeab-fd20-411a-80c5-315f362e00d2",
   "metadata": {
    "execution": {
     "iopub.execute_input": "2025-03-05T00:39:22.809047Z",
     "iopub.status.busy": "2025-03-05T00:39:22.808746Z",
     "iopub.status.idle": "2025-03-05T00:39:22.817167Z",
     "shell.execute_reply": "2025-03-05T00:39:22.816799Z"
    },
    "papermill": {
     "duration": 0.014019,
     "end_time": "2025-03-05T00:39:22.818324",
     "exception": false,
     "start_time": "2025-03-05T00:39:22.804305",
     "status": "completed"
    },
    "tags": []
   },
   "outputs": [],
   "source": [
    "contrastive_dataset = ContrastiveDataset(contrastive_pairs)"
   ]
  },
  {
   "cell_type": "code",
   "execution_count": 13,
   "id": "d103bbfa-895a-4020-a7e5-21de659f27dc",
   "metadata": {
    "execution": {
     "iopub.execute_input": "2025-03-05T00:39:22.827294Z",
     "iopub.status.busy": "2025-03-05T00:39:22.827120Z",
     "iopub.status.idle": "2025-03-05T00:39:22.834941Z",
     "shell.execute_reply": "2025-03-05T00:39:22.834525Z"
    },
    "papermill": {
     "duration": 0.01327,
     "end_time": "2025-03-05T00:39:22.835775",
     "exception": false,
     "start_time": "2025-03-05T00:39:22.822505",
     "status": "completed"
    },
    "tags": []
   },
   "outputs": [],
   "source": [
    "data_loader = DataLoader(contrastive_dataset, batch_size=32, shuffle=True)"
   ]
  },
  {
   "cell_type": "code",
   "execution_count": 14,
   "id": "c8b0277f-f526-4087-82da-c4cdd65d32da",
   "metadata": {
    "execution": {
     "iopub.execute_input": "2025-03-05T00:39:22.845499Z",
     "iopub.status.busy": "2025-03-05T00:39:22.844793Z",
     "iopub.status.idle": "2025-03-05T00:39:22.851542Z",
     "shell.execute_reply": "2025-03-05T00:39:22.851196Z"
    },
    "papermill": {
     "duration": 0.012,
     "end_time": "2025-03-05T00:39:22.852189",
     "exception": false,
     "start_time": "2025-03-05T00:39:22.840189",
     "status": "completed"
    },
    "tags": []
   },
   "outputs": [
    {
     "data": {
      "text/plain": [
       "11"
      ]
     },
     "execution_count": 14,
     "metadata": {},
     "output_type": "execute_result"
    }
   ],
   "source": [
    "len(data_loader)"
   ]
  },
  {
   "cell_type": "code",
   "execution_count": 15,
   "id": "e15526a4-b3fe-435b-91c9-ad4064562f0f",
   "metadata": {
    "execution": {
     "iopub.execute_input": "2025-03-05T00:39:22.862018Z",
     "iopub.status.busy": "2025-03-05T00:39:22.861425Z",
     "iopub.status.idle": "2025-03-05T00:39:26.200027Z",
     "shell.execute_reply": "2025-03-05T00:39:26.199258Z"
    },
    "papermill": {
     "duration": 3.344442,
     "end_time": "2025-03-05T00:39:26.201093",
     "exception": false,
     "start_time": "2025-03-05T00:39:22.856651",
     "status": "completed"
    },
    "tags": []
   },
   "outputs": [
    {
     "name": "stderr",
     "output_type": "stream",
     "text": [
      "/tmp/ipykernel_1160701/261098231.py:3: FutureWarning: You are using `torch.load` with `weights_only=False` (the current default value), which uses the default pickle module implicitly. It is possible to construct malicious pickle data which will execute arbitrary code during unpickling (See https://github.com/pytorch/pytorch/blob/main/SECURITY.md#untrusted-models for more details). In a future release, the default value for `weights_only` will be flipped to `True`. This limits the functions that could be executed during unpickling. Arbitrary objects will no longer be allowed to be loaded via this mode unless they are explicitly allowlisted by the user via `torch.serialization.add_safe_globals`. We recommend you start setting `weights_only=True` for any use case where you don't have full control of the loaded file. Please open an issue on GitHub for any issues related to this experimental feature.\n",
      "  lora_model_baseline = torch.load(file_path_baseline)\n"
     ]
    }
   ],
   "source": [
    "import torch\n",
    "file_path_baseline =\"/dss/dsshome1/07/ra65bex2/srawat/contrastive_learning/v1.1/app_baseline/checkpoint_epoch_3.pth\"\n",
    "lora_model_baseline = torch.load(file_path_baseline)"
   ]
  },
  {
   "cell_type": "code",
   "execution_count": 16,
   "id": "9999e628-5966-4dda-b5c5-c0d762fce27d",
   "metadata": {
    "execution": {
     "iopub.execute_input": "2025-03-05T00:39:26.217658Z",
     "iopub.status.busy": "2025-03-05T00:39:26.217107Z",
     "iopub.status.idle": "2025-03-05T00:39:26.224498Z",
     "shell.execute_reply": "2025-03-05T00:39:26.224113Z"
    },
    "papermill": {
     "duration": 0.013191,
     "end_time": "2025-03-05T00:39:26.225212",
     "exception": false,
     "start_time": "2025-03-05T00:39:26.212021",
     "status": "completed"
    },
    "tags": []
   },
   "outputs": [],
   "source": [
    "device = torch.device('cuda' if torch.cuda.is_available() else 'cpu')\n",
    "lora_model_baseline = lora_model_baseline.to(device)"
   ]
  },
  {
   "cell_type": "code",
   "execution_count": 17,
   "id": "7e6a3a61-8db0-43db-b575-6399f8515950",
   "metadata": {
    "execution": {
     "iopub.execute_input": "2025-03-05T00:39:26.235786Z",
     "iopub.status.busy": "2025-03-05T00:39:26.235270Z",
     "iopub.status.idle": "2025-03-05T00:39:26.484194Z",
     "shell.execute_reply": "2025-03-05T00:39:26.483658Z"
    },
    "papermill": {
     "duration": 0.255409,
     "end_time": "2025-03-05T00:39:26.485365",
     "exception": false,
     "start_time": "2025-03-05T00:39:26.229956",
     "status": "completed"
    },
    "tags": []
   },
   "outputs": [],
   "source": [
    "from transformers import AutoTokenizer, AutoModel\n",
    "tokenizer = AutoTokenizer.from_pretrained(\"bert-base-uncased\")"
   ]
  },
  {
   "cell_type": "code",
   "execution_count": 18,
   "id": "68ac4919-76f1-4349-a314-4b1061126655",
   "metadata": {
    "execution": {
     "iopub.execute_input": "2025-03-05T00:39:26.497104Z",
     "iopub.status.busy": "2025-03-05T00:39:26.496571Z",
     "iopub.status.idle": "2025-03-05T00:39:26.499671Z",
     "shell.execute_reply": "2025-03-05T00:39:26.499238Z"
    },
    "papermill": {
     "duration": 0.009953,
     "end_time": "2025-03-05T00:39:26.500539",
     "exception": false,
     "start_time": "2025-03-05T00:39:26.490586",
     "status": "completed"
    },
    "tags": []
   },
   "outputs": [],
   "source": [
    "def cosine_distance(x, y):\n",
    "    return 1 - torch.nn.functional.cosine_similarity(x, y, dim=-1)"
   ]
  },
  {
   "cell_type": "code",
   "execution_count": 19,
   "id": "990f63bd-4d48-4f58-a001-3b3250f65312",
   "metadata": {
    "execution": {
     "iopub.execute_input": "2025-03-05T00:39:26.512518Z",
     "iopub.status.busy": "2025-03-05T00:39:26.511788Z",
     "iopub.status.idle": "2025-03-05T00:39:26.561115Z",
     "shell.execute_reply": "2025-03-05T00:39:26.560684Z"
    },
    "papermill": {
     "duration": 0.056058,
     "end_time": "2025-03-05T00:39:26.562055",
     "exception": false,
     "start_time": "2025-03-05T00:39:26.505997",
     "status": "completed"
    },
    "tags": []
   },
   "outputs": [],
   "source": [
    "def evaluate_mrr_baseline(model, data_loader_val, distance_fn):\n",
    "    model.eval()\n",
    "\n",
    "    total_rr = 0.0\n",
    "    num_queries = 0\n",
    "\n",
    "    with torch.no_grad():\n",
    "        for batch in data_loader_val:\n",
    "            anchor_text = batch[0]\n",
    "            positive_text = batch[1]\n",
    "            negative_texts = batch[2]\n",
    "\n",
    "            anchor_input = tokenizer(anchor_text, return_tensors='pt', padding=True, truncation=True, max_length=512).to(device)\n",
    "            positive_input = tokenizer(positive_text, return_tensors='pt', padding=True, truncation=True, max_length=512).to(device)\n",
    "\n",
    "            anchor_embedding = model(**anchor_input).last_hidden_state[:, 0, :]\n",
    "            positive_embedding = model(**positive_input).last_hidden_state[:, 0, :]\n",
    "            negative_embedding = [model(**tokenizer(neg, return_tensors='pt', padding=True, truncation=True, max_length=512).to(device)).last_hidden_state[:, 0, :] for neg in negative_texts]\n",
    "\n",
    "            pos_dist = distance_fn(anchor_embedding, positive_embedding)\n",
    "            neg_dist = torch.stack([distance_fn(anchor_embedding, neg) for neg in negative_embedding], dim=-1)\n",
    "            all_similarities=torch.cat([-pos_dist.unsqueeze(1), -neg_dist], dim=1)\n",
    "\n",
    "            sorted_similarities, sorted_indices = torch.sort(all_similarities, dim=1, descending=True)\n",
    "\n",
    "            # Find the rank of the first relevant (positive) document\n",
    "            positive_rank = (sorted_indices == 0).nonzero(as_tuple=True)[1] + 1  # +1 to make rank 1-based\n",
    "            total_rr += torch.sum(1.0 / positive_rank.float()).item()  # Reciprocal rank\n",
    "            num_queries += len(positive_rank)\n",
    "\n",
    "    mrr = total_rr / num_queries\n",
    "    return mrr"
   ]
  },
  {
   "cell_type": "code",
   "execution_count": 20,
   "id": "534a9ec5-4211-4cb6-81f1-fb8a30caff92",
   "metadata": {
    "execution": {
     "iopub.execute_input": "2025-03-05T00:39:26.573277Z",
     "iopub.status.busy": "2025-03-05T00:39:26.572864Z",
     "iopub.status.idle": "2025-03-05T00:39:38.824039Z",
     "shell.execute_reply": "2025-03-05T00:39:38.823294Z"
    },
    "papermill": {
     "duration": 12.257767,
     "end_time": "2025-03-05T00:39:38.824911",
     "exception": false,
     "start_time": "2025-03-05T00:39:26.567144",
     "status": "completed"
    },
    "tags": []
   },
   "outputs": [
    {
     "name": "stdout",
     "output_type": "stream",
     "text": [
      "0.4321981524535377\n"
     ]
    }
   ],
   "source": [
    "mrr_validation_baseline = evaluate_mrr_baseline(lora_model_baseline, data_loader, cosine_distance)\n",
    "print(mrr_validation_baseline)"
   ]
  },
  {
   "cell_type": "code",
   "execution_count": null,
   "id": "f61bbd65-41c9-4ac7-80ef-ba4a4fb02d45",
   "metadata": {
    "papermill": {
     "duration": 0.00436,
     "end_time": "2025-03-05T00:39:38.839040",
     "exception": false,
     "start_time": "2025-03-05T00:39:38.834680",
     "status": "completed"
    },
    "tags": []
   },
   "outputs": [],
   "source": []
  },
  {
   "cell_type": "code",
   "execution_count": 21,
   "id": "8a3dfd17-ee43-4c4e-9287-8ec6451bc062",
   "metadata": {
    "execution": {
     "iopub.execute_input": "2025-03-05T00:39:38.848641Z",
     "iopub.status.busy": "2025-03-05T00:39:38.848368Z",
     "iopub.status.idle": "2025-03-05T00:39:39.209138Z",
     "shell.execute_reply": "2025-03-05T00:39:39.208692Z"
    },
    "papermill": {
     "duration": 0.366767,
     "end_time": "2025-03-05T00:39:39.210177",
     "exception": false,
     "start_time": "2025-03-05T00:39:38.843410",
     "status": "completed"
    },
    "tags": []
   },
   "outputs": [
    {
     "name": "stderr",
     "output_type": "stream",
     "text": [
      "/tmp/ipykernel_1160701/2975798179.py:2: FutureWarning: You are using `torch.load` with `weights_only=False` (the current default value), which uses the default pickle module implicitly. It is possible to construct malicious pickle data which will execute arbitrary code during unpickling (See https://github.com/pytorch/pytorch/blob/main/SECURITY.md#untrusted-models for more details). In a future release, the default value for `weights_only` will be flipped to `True`. This limits the functions that could be executed during unpickling. Arbitrary objects will no longer be allowed to be loaded via this mode unless they are explicitly allowlisted by the user via `torch.serialization.add_safe_globals`. We recommend you start setting `weights_only=True` for any use case where you don't have full control of the loaded file. Please open an issue on GitHub for any issues related to this experimental feature.\n",
      "  lora_model_average = torch.load(file_path_average)\n"
     ]
    }
   ],
   "source": [
    "file_path_average=\"/dss/dsshome1/07/ra65bex2/srawat/contrastive_learning/v1.1/app_average/average_checkpoint_epoch_3.pth\"\n",
    "lora_model_average = torch.load(file_path_average)\n",
    "lora_model_average = lora_model_average.to(device)"
   ]
  },
  {
   "cell_type": "code",
   "execution_count": 22,
   "id": "49c10d3f-c53d-4222-aba4-0e763451baff",
   "metadata": {
    "execution": {
     "iopub.execute_input": "2025-03-05T00:39:39.220737Z",
     "iopub.status.busy": "2025-03-05T00:39:39.220503Z",
     "iopub.status.idle": "2025-03-05T00:39:39.224739Z",
     "shell.execute_reply": "2025-03-05T00:39:39.224126Z"
    },
    "papermill": {
     "duration": 0.010006,
     "end_time": "2025-03-05T00:39:39.225475",
     "exception": false,
     "start_time": "2025-03-05T00:39:39.215469",
     "status": "completed"
    },
    "tags": []
   },
   "outputs": [],
   "source": [
    "def avg_embedding(inputs, model):\n",
    "    input=model(**inputs)\n",
    "    input_last_hidden_state=input.last_hidden_state\n",
    "    input_attention_mask = inputs['attention_mask']\n",
    "    input_masked_embeddings = input_last_hidden_state * input_attention_mask.unsqueeze(-1)\n",
    "    input_sum_embeddings = torch.sum(input_masked_embeddings, dim=1)\n",
    "    input_token_counts = torch.sum(input_attention_mask, dim=1).unsqueeze(-1)\n",
    "    input_avg_embeddings = input_sum_embeddings / input_token_counts\n",
    "    return(input_avg_embeddings)"
   ]
  },
  {
   "cell_type": "code",
   "execution_count": 23,
   "id": "22570a1b-93bf-41ef-99fe-de41c3857b41",
   "metadata": {
    "execution": {
     "iopub.execute_input": "2025-03-05T00:39:39.235140Z",
     "iopub.status.busy": "2025-03-05T00:39:39.234861Z",
     "iopub.status.idle": "2025-03-05T00:39:39.413248Z",
     "shell.execute_reply": "2025-03-05T00:39:39.412750Z"
    },
    "papermill": {
     "duration": 0.184316,
     "end_time": "2025-03-05T00:39:39.414331",
     "exception": false,
     "start_time": "2025-03-05T00:39:39.230015",
     "status": "completed"
    },
    "tags": []
   },
   "outputs": [],
   "source": [
    "def evaluate_mrr_average(model, data_loader_val, distance_fn):\n",
    "    model.eval()  \n",
    "\n",
    "    total_rr = 0.0\n",
    "    num_queries = 0\n",
    "\n",
    "    with torch.no_grad():\n",
    "        for batch in data_loader_val:\n",
    "            anchor_text = batch[0]\n",
    "            positive_text = batch[1]\n",
    "            negative_texts = batch[2]\n",
    "\n",
    "            anchor_input = tokenizer(anchor_text, return_tensors='pt', padding=True, truncation=True, max_length=512).to(device)\n",
    "            positive_input = tokenizer(positive_text, return_tensors='pt', padding=True, truncation=True, max_length=512).to(device)\n",
    "\n",
    "            anchor_embedding = avg_embedding(anchor_input, model)\n",
    "            positive_embedding = avg_embedding(positive_input, model)\n",
    "            negative_embedding = [avg_embedding(tokenizer(neg, return_tensors='pt', padding=True, truncation=True, max_length=512).to(device), model) for neg in negative_texts]\n",
    "\n",
    "            pos_dist = distance_fn(anchor_embedding, positive_embedding)\n",
    "            neg_dist = torch.stack([distance_fn(anchor_embedding, neg) for neg in negative_embedding], dim=-1)\n",
    "            all_similarities=torch.cat([-pos_dist.unsqueeze(1), -neg_dist], dim=1)\n",
    "            \n",
    "            sorted_similarities, sorted_indices = torch.sort(all_similarities, dim=1, descending=True)\n",
    "\n",
    "            # Find the rank of the first relevant (positive) document\n",
    "            positive_rank = (sorted_indices == 0).nonzero(as_tuple=True)[1] + 1  # +1 to make rank 1-based\n",
    "            total_rr += torch.sum(1.0 / positive_rank.float()).item()  # Reciprocal rank\n",
    "            num_queries += len(positive_rank)\n",
    "\n",
    "    mrr = total_rr / num_queries\n",
    "    return mrr"
   ]
  },
  {
   "cell_type": "code",
   "execution_count": 24,
   "id": "82977667-a984-467e-9eb6-9d6520ecb3b8",
   "metadata": {
    "execution": {
     "iopub.execute_input": "2025-03-05T00:39:39.424697Z",
     "iopub.status.busy": "2025-03-05T00:39:39.424432Z",
     "iopub.status.idle": "2025-03-05T00:39:50.932322Z",
     "shell.execute_reply": "2025-03-05T00:39:50.931395Z"
    },
    "papermill": {
     "duration": 11.514278,
     "end_time": "2025-03-05T00:39:50.933592",
     "exception": false,
     "start_time": "2025-03-05T00:39:39.419314",
     "status": "completed"
    },
    "tags": []
   },
   "outputs": [
    {
     "name": "stdout",
     "output_type": "stream",
     "text": [
      "0.4460268433987172\n"
     ]
    }
   ],
   "source": [
    "mrr_validation_average = evaluate_mrr_average(lora_model_average, data_loader, cosine_distance)\n",
    "print(mrr_validation_average)"
   ]
  },
  {
   "cell_type": "code",
   "execution_count": null,
   "id": "966c23c7-dc92-49e8-bb1f-1520c0ccd13b",
   "metadata": {
    "papermill": {
     "duration": 0.005766,
     "end_time": "2025-03-05T00:39:50.951816",
     "exception": false,
     "start_time": "2025-03-05T00:39:50.946050",
     "status": "completed"
    },
    "tags": []
   },
   "outputs": [],
   "source": []
  },
  {
   "cell_type": "code",
   "execution_count": 25,
   "id": "af58281c-1786-4bda-9eec-0fa0f127d140",
   "metadata": {
    "execution": {
     "iopub.execute_input": "2025-03-05T00:39:50.966528Z",
     "iopub.status.busy": "2025-03-05T00:39:50.965785Z",
     "iopub.status.idle": "2025-03-05T00:39:51.645189Z",
     "shell.execute_reply": "2025-03-05T00:39:51.644380Z"
    },
    "papermill": {
     "duration": 0.688797,
     "end_time": "2025-03-05T00:39:51.646810",
     "exception": false,
     "start_time": "2025-03-05T00:39:50.958013",
     "status": "completed"
    },
    "tags": []
   },
   "outputs": [
    {
     "name": "stderr",
     "output_type": "stream",
     "text": [
      "/tmp/ipykernel_1160701/2502257612.py:2: FutureWarning: You are using `torch.load` with `weights_only=False` (the current default value), which uses the default pickle module implicitly. It is possible to construct malicious pickle data which will execute arbitrary code during unpickling (See https://github.com/pytorch/pytorch/blob/main/SECURITY.md#untrusted-models for more details). In a future release, the default value for `weights_only` will be flipped to `True`. This limits the functions that could be executed during unpickling. Arbitrary objects will no longer be allowed to be loaded via this mode unless they are explicitly allowlisted by the user via `torch.serialization.add_safe_globals`. We recommend you start setting `weights_only=True` for any use case where you don't have full control of the loaded file. Please open an issue on GitHub for any issues related to this experimental feature.\n",
      "  lora_model_hyperbolic = torch.load(file_path_hyperbolic)\n"
     ]
    }
   ],
   "source": [
    "file_path_hyperbolic=\"/dss/dsshome1/07/ra65bex2/srawat/contrastive_learning/v1.1/0.1hyperbolic/hyperbolic_lora_checkpoint_epoch_3.pth\"\n",
    "lora_model_hyperbolic = torch.load(file_path_hyperbolic)\n",
    "lora_model_hyperbolic = lora_model_hyperbolic.to(device)"
   ]
  },
  {
   "cell_type": "code",
   "execution_count": 26,
   "id": "d6f9507b-01e9-49d0-8327-760677bfcf0b",
   "metadata": {
    "execution": {
     "iopub.execute_input": "2025-03-05T00:39:51.663863Z",
     "iopub.status.busy": "2025-03-05T00:39:51.662727Z",
     "iopub.status.idle": "2025-03-05T00:39:51.668455Z",
     "shell.execute_reply": "2025-03-05T00:39:51.667681Z"
    },
    "papermill": {
     "duration": 0.015747,
     "end_time": "2025-03-05T00:39:51.669923",
     "exception": false,
     "start_time": "2025-03-05T00:39:51.654176",
     "status": "completed"
    },
    "tags": []
   },
   "outputs": [],
   "source": [
    "def lorentzian_distance(x, y):\n",
    "    \n",
    "    dot_product = torch.sum(x * y, dim=-1)\n",
    "    norm_x = torch.norm(x, dim=-1)\n",
    "    norm_y = torch.norm(y, dim=-1)\n",
    "    \n",
    "    distance = torch.acosh(-dot_product + torch.sqrt((1 + norm_x**2) * (1 + norm_y**2)))\n",
    "    return distance"
   ]
  },
  {
   "cell_type": "code",
   "execution_count": 27,
   "id": "de4ecc53-8b64-4fee-bfbf-d3b85d441d1f",
   "metadata": {
    "execution": {
     "iopub.execute_input": "2025-03-05T00:39:51.687348Z",
     "iopub.status.busy": "2025-03-05T00:39:51.685714Z",
     "iopub.status.idle": "2025-03-05T00:39:51.701506Z",
     "shell.execute_reply": "2025-03-05T00:39:51.700699Z"
    },
    "papermill": {
     "duration": 0.026848,
     "end_time": "2025-03-05T00:39:51.703686",
     "exception": false,
     "start_time": "2025-03-05T00:39:51.676838",
     "status": "completed"
    },
    "tags": []
   },
   "outputs": [],
   "source": [
    "def expm_o(v, c=1.0):\n",
    "    c = torch.tensor(c)\n",
    "    vspace = v\n",
    "    vnorm = torch.norm(v, p=2, dim=-1, keepdim=True)\n",
    "    xspace = torch.sinh(torch.sqrt(c) * vnorm) * vspace / (torch.sqrt(c) * vnorm)\n",
    "    batch_min = xspace.min(dim=1, keepdim=True).values\n",
    "    batch_max = xspace.max(dim=1, keepdim=True).values\n",
    "    xspace_scaled=(xspace - batch_min) / (batch_max - batch_min)\n",
    "    return xspace_scaled"
   ]
  },
  {
   "cell_type": "code",
   "execution_count": 28,
   "id": "c6639968-6b1d-4601-a69f-6e83b9863ab6",
   "metadata": {
    "execution": {
     "iopub.execute_input": "2025-03-05T00:39:51.719318Z",
     "iopub.status.busy": "2025-03-05T00:39:51.718409Z",
     "iopub.status.idle": "2025-03-05T00:39:51.726353Z",
     "shell.execute_reply": "2025-03-05T00:39:51.725700Z"
    },
    "papermill": {
     "duration": 0.016528,
     "end_time": "2025-03-05T00:39:51.727490",
     "exception": false,
     "start_time": "2025-03-05T00:39:51.710962",
     "status": "completed"
    },
    "tags": []
   },
   "outputs": [],
   "source": [
    "def evaluate_mrr_hyperbolic(model1, data_loader_val, distance_fn):\n",
    "    model1.eval()\n",
    "    \n",
    "    total_rr = 0.0\n",
    "    num_queries = 0\n",
    "\n",
    "    with torch.no_grad():\n",
    "        for batch in data_loader_val:\n",
    "            anchor_text = batch[0]\n",
    "            positive_text = batch[1]\n",
    "            negative_texts = batch[2]\n",
    "\n",
    "            anchor_input = tokenizer(anchor_text, return_tensors='pt', padding=True, truncation=True, max_length=512).to(device)\n",
    "            positive_input = tokenizer(positive_text, return_tensors='pt', padding=True, truncation=True, max_length=512).to(device)\n",
    "\n",
    "            anchor_embedding = expm_o(model1(**anchor_input).last_hidden_state[:, 0, :])\n",
    "            positive_embedding = expm_o(model1(**positive_input).last_hidden_state[:, 0, :])\n",
    "            negative_embedding = [expm_o(model1(**tokenizer(neg, return_tensors='pt', padding=True, truncation=True, max_length=512).to(device)).last_hidden_state[:, 0, :]) for neg in negative_texts]\n",
    "\n",
    "            pos_dist = distance_fn(anchor_embedding, positive_embedding)\n",
    "            neg_dist = torch.stack([distance_fn(anchor_embedding, neg) for neg in negative_embedding], dim=-1)\n",
    "            all_similarities=torch.cat([-pos_dist.unsqueeze(1), -neg_dist], dim=1)\n",
    "\n",
    "            sorted_similarities, sorted_indices = torch.sort(all_similarities, dim=1, descending=True)\n",
    "\n",
    "            # Find the rank of the first relevant (positive) document\n",
    "            positive_rank = (sorted_indices == 0).nonzero(as_tuple=True)[1] + 1  # +1 to make rank 1-based\n",
    "            total_rr += torch.sum(1.0 / positive_rank.float()).item()  # Reciprocal rank\n",
    "            num_queries += len(positive_rank)\n",
    "            \n",
    "    mrr = total_rr / num_queries\n",
    "    return mrr"
   ]
  },
  {
   "cell_type": "code",
   "execution_count": 29,
   "id": "9c54c77e-2dde-4c88-9eaf-439a409e845e",
   "metadata": {
    "execution": {
     "iopub.execute_input": "2025-03-05T00:39:51.743052Z",
     "iopub.status.busy": "2025-03-05T00:39:51.742158Z",
     "iopub.status.idle": "2025-03-05T00:40:03.430677Z",
     "shell.execute_reply": "2025-03-05T00:40:03.429351Z"
    },
    "papermill": {
     "duration": 11.697634,
     "end_time": "2025-03-05T00:40:03.432024",
     "exception": false,
     "start_time": "2025-03-05T00:39:51.734390",
     "status": "completed"
    },
    "tags": []
   },
   "outputs": [
    {
     "name": "stdout",
     "output_type": "stream",
     "text": [
      "0.47316822474216896\n"
     ]
    }
   ],
   "source": [
    "mrr_validation_hyperbolic = evaluate_mrr_hyperbolic(model1=lora_model_hyperbolic, data_loader_val=data_loader,distance_fn=lorentzian_distance)\n",
    "print(mrr_validation_hyperbolic)"
   ]
  },
  {
   "cell_type": "code",
   "execution_count": null,
   "id": "3e097240-0b21-4a85-8959-2c74522b15a8",
   "metadata": {
    "papermill": {
     "duration": 0.006068,
     "end_time": "2025-03-05T00:40:03.446616",
     "exception": false,
     "start_time": "2025-03-05T00:40:03.440548",
     "status": "completed"
    },
    "tags": []
   },
   "outputs": [],
   "source": []
  },
  {
   "cell_type": "code",
   "execution_count": 30,
   "id": "d883371b-b6e4-40de-b212-93ed5fcb6061",
   "metadata": {
    "execution": {
     "iopub.execute_input": "2025-03-05T00:40:03.459545Z",
     "iopub.status.busy": "2025-03-05T00:40:03.459316Z",
     "iopub.status.idle": "2025-03-05T00:40:03.478356Z",
     "shell.execute_reply": "2025-03-05T00:40:03.477760Z"
    },
    "papermill": {
     "duration": 0.026994,
     "end_time": "2025-03-05T00:40:03.479256",
     "exception": false,
     "start_time": "2025-03-05T00:40:03.452262",
     "status": "completed"
    },
    "tags": []
   },
   "outputs": [
    {
     "name": "stdout",
     "output_type": "stream",
     "text": [
      "Median Query Length: 2\n"
     ]
    }
   ],
   "source": [
    "import statistics\n",
    "print(\"Median Query Length:\", statistics.median(query_lengths))"
   ]
  },
  {
   "cell_type": "code",
   "execution_count": 31,
   "id": "4b02b505-a8f9-480d-959e-effcbc2ed3a2",
   "metadata": {
    "execution": {
     "iopub.execute_input": "2025-03-05T00:40:03.491939Z",
     "iopub.status.busy": "2025-03-05T00:40:03.491805Z",
     "iopub.status.idle": "2025-03-05T00:40:03.499776Z",
     "shell.execute_reply": "2025-03-05T00:40:03.499170Z"
    },
    "papermill": {
     "duration": 0.015194,
     "end_time": "2025-03-05T00:40:03.500791",
     "exception": false,
     "start_time": "2025-03-05T00:40:03.485597",
     "status": "completed"
    },
    "tags": []
   },
   "outputs": [
    {
     "data": {
      "text/plain": [
       "0.4321981524535377"
      ]
     },
     "execution_count": 31,
     "metadata": {},
     "output_type": "execute_result"
    }
   ],
   "source": [
    "mrr_validation_baseline"
   ]
  },
  {
   "cell_type": "code",
   "execution_count": 32,
   "id": "5c10dccb-fbc7-448b-b3d9-4d7e045dafd3",
   "metadata": {
    "execution": {
     "iopub.execute_input": "2025-03-05T00:40:03.513832Z",
     "iopub.status.busy": "2025-03-05T00:40:03.513590Z",
     "iopub.status.idle": "2025-03-05T00:40:03.520822Z",
     "shell.execute_reply": "2025-03-05T00:40:03.520410Z"
    },
    "papermill": {
     "duration": 0.014516,
     "end_time": "2025-03-05T00:40:03.521691",
     "exception": false,
     "start_time": "2025-03-05T00:40:03.507175",
     "status": "completed"
    },
    "tags": []
   },
   "outputs": [
    {
     "data": {
      "text/plain": [
       "0.4460268433987172"
      ]
     },
     "execution_count": 32,
     "metadata": {},
     "output_type": "execute_result"
    }
   ],
   "source": [
    "mrr_validation_average"
   ]
  },
  {
   "cell_type": "code",
   "execution_count": 33,
   "id": "b9c22c87-c20f-4a86-a8d3-d941340ea726",
   "metadata": {
    "execution": {
     "iopub.execute_input": "2025-03-05T00:40:03.534375Z",
     "iopub.status.busy": "2025-03-05T00:40:03.534142Z",
     "iopub.status.idle": "2025-03-05T00:40:03.541265Z",
     "shell.execute_reply": "2025-03-05T00:40:03.540853Z"
    },
    "papermill": {
     "duration": 0.01413,
     "end_time": "2025-03-05T00:40:03.542057",
     "exception": false,
     "start_time": "2025-03-05T00:40:03.527927",
     "status": "completed"
    },
    "tags": []
   },
   "outputs": [
    {
     "data": {
      "text/plain": [
       "0.47316822474216896"
      ]
     },
     "execution_count": 33,
     "metadata": {},
     "output_type": "execute_result"
    }
   ],
   "source": [
    "mrr_validation_hyperbolic"
   ]
  }
 ],
 "metadata": {
  "kernelspec": {
   "display_name": "Python (myenv)",
   "language": "python",
   "name": "myenv"
  },
  "language_info": {
   "codemirror_mode": {
    "name": "ipython",
    "version": 3
   },
   "file_extension": ".py",
   "mimetype": "text/x-python",
   "name": "python",
   "nbconvert_exporter": "python",
   "pygments_lexer": "ipython3",
   "version": "3.12.7"
  },
  "papermill": {
   "default_parameters": {},
   "duration": 52.362753,
   "end_time": "2025-03-05T00:40:07.028225",
   "environment_variables": {},
   "exception": null,
   "input_path": "NFcorpus.ipynb",
   "output_path": "NFcorpus_output.ipynb",
   "parameters": {},
   "start_time": "2025-03-05T00:39:14.665472",
   "version": "2.6.0"
  },
  "widgets": {
   "application/vnd.jupyter.widget-state+json": {
    "state": {
     "9e23da0b82934852bf991223cef94cff": {
      "model_module": "@jupyter-widgets/base",
      "model_module_version": "2.0.0",
      "model_name": "LayoutModel",
      "state": {
       "_model_module": "@jupyter-widgets/base",
       "_model_module_version": "2.0.0",
       "_model_name": "LayoutModel",
       "_view_count": null,
       "_view_module": "@jupyter-widgets/base",
       "_view_module_version": "2.0.0",
       "_view_name": "LayoutView",
       "align_content": null,
       "align_items": null,
       "align_self": null,
       "border_bottom": null,
       "border_left": null,
       "border_right": null,
       "border_top": null,
       "bottom": null,
       "display": null,
       "flex": null,
       "flex_flow": null,
       "grid_area": null,
       "grid_auto_columns": null,
       "grid_auto_flow": null,
       "grid_auto_rows": null,
       "grid_column": null,
       "grid_gap": null,
       "grid_row": null,
       "grid_template_areas": null,
       "grid_template_columns": null,
       "grid_template_rows": null,
       "height": null,
       "justify_content": null,
       "justify_items": null,
       "left": null,
       "margin": null,
       "max_height": null,
       "max_width": null,
       "min_height": null,
       "min_width": null,
       "object_fit": null,
       "object_position": null,
       "order": null,
       "overflow": null,
       "padding": null,
       "right": null,
       "top": null,
       "visibility": null,
       "width": null
      }
     },
     "a17300a1fa8b4b6b938d3f3917fce3d1": {
      "model_module": "@jupyter-widgets/controls",
      "model_module_version": "2.0.0",
      "model_name": "ProgressStyleModel",
      "state": {
       "_model_module": "@jupyter-widgets/controls",
       "_model_module_version": "2.0.0",
       "_model_name": "ProgressStyleModel",
       "_view_count": null,
       "_view_module": "@jupyter-widgets/base",
       "_view_module_version": "2.0.0",
       "_view_name": "StyleView",
       "bar_color": null,
       "description_width": ""
      }
     },
     "a1ee71ba4ef641e198927ce7d8620e4f": {
      "model_module": "@jupyter-widgets/controls",
      "model_module_version": "2.0.0",
      "model_name": "HTMLModel",
      "state": {
       "_dom_classes": [],
       "_model_module": "@jupyter-widgets/controls",
       "_model_module_version": "2.0.0",
       "_model_name": "HTMLModel",
       "_view_count": null,
       "_view_module": "@jupyter-widgets/controls",
       "_view_module_version": "2.0.0",
       "_view_name": "HTMLView",
       "description": "",
       "description_allow_html": false,
       "layout": "IPY_MODEL_9e23da0b82934852bf991223cef94cff",
       "placeholder": "​",
       "style": "IPY_MODEL_ed59aec882c048a19264bf24fc46f06e",
       "tabbable": null,
       "tooltip": null,
       "value": "100%"
      }
     },
     "b1dc4cb189dd48baa233c7cbaaa1f009": {
      "model_module": "@jupyter-widgets/controls",
      "model_module_version": "2.0.0",
      "model_name": "HBoxModel",
      "state": {
       "_dom_classes": [],
       "_model_module": "@jupyter-widgets/controls",
       "_model_module_version": "2.0.0",
       "_model_name": "HBoxModel",
       "_view_count": null,
       "_view_module": "@jupyter-widgets/controls",
       "_view_module_version": "2.0.0",
       "_view_name": "HBoxView",
       "box_style": "",
       "children": [
        "IPY_MODEL_a1ee71ba4ef641e198927ce7d8620e4f",
        "IPY_MODEL_b5f39511e1054f159aace93a2dee7508",
        "IPY_MODEL_da953b2f71c24665a7d4d2943a741699"
       ],
       "layout": "IPY_MODEL_d99b9c5aea37446083688dcd06e98abd",
       "tabbable": null,
       "tooltip": null
      }
     },
     "b5f39511e1054f159aace93a2dee7508": {
      "model_module": "@jupyter-widgets/controls",
      "model_module_version": "2.0.0",
      "model_name": "FloatProgressModel",
      "state": {
       "_dom_classes": [],
       "_model_module": "@jupyter-widgets/controls",
       "_model_module_version": "2.0.0",
       "_model_name": "FloatProgressModel",
       "_view_count": null,
       "_view_module": "@jupyter-widgets/controls",
       "_view_module_version": "2.0.0",
       "_view_name": "ProgressView",
       "bar_style": "success",
       "description": "",
       "description_allow_html": false,
       "layout": "IPY_MODEL_ccac34035393478a9a4494061783158b",
       "max": 3633.0,
       "min": 0.0,
       "orientation": "horizontal",
       "style": "IPY_MODEL_a17300a1fa8b4b6b938d3f3917fce3d1",
       "tabbable": null,
       "tooltip": null,
       "value": 3633.0
      }
     },
     "ccac34035393478a9a4494061783158b": {
      "model_module": "@jupyter-widgets/base",
      "model_module_version": "2.0.0",
      "model_name": "LayoutModel",
      "state": {
       "_model_module": "@jupyter-widgets/base",
       "_model_module_version": "2.0.0",
       "_model_name": "LayoutModel",
       "_view_count": null,
       "_view_module": "@jupyter-widgets/base",
       "_view_module_version": "2.0.0",
       "_view_name": "LayoutView",
       "align_content": null,
       "align_items": null,
       "align_self": null,
       "border_bottom": null,
       "border_left": null,
       "border_right": null,
       "border_top": null,
       "bottom": null,
       "display": null,
       "flex": null,
       "flex_flow": null,
       "grid_area": null,
       "grid_auto_columns": null,
       "grid_auto_flow": null,
       "grid_auto_rows": null,
       "grid_column": null,
       "grid_gap": null,
       "grid_row": null,
       "grid_template_areas": null,
       "grid_template_columns": null,
       "grid_template_rows": null,
       "height": null,
       "justify_content": null,
       "justify_items": null,
       "left": null,
       "margin": null,
       "max_height": null,
       "max_width": null,
       "min_height": null,
       "min_width": null,
       "object_fit": null,
       "object_position": null,
       "order": null,
       "overflow": null,
       "padding": null,
       "right": null,
       "top": null,
       "visibility": null,
       "width": null
      }
     },
     "d99b9c5aea37446083688dcd06e98abd": {
      "model_module": "@jupyter-widgets/base",
      "model_module_version": "2.0.0",
      "model_name": "LayoutModel",
      "state": {
       "_model_module": "@jupyter-widgets/base",
       "_model_module_version": "2.0.0",
       "_model_name": "LayoutModel",
       "_view_count": null,
       "_view_module": "@jupyter-widgets/base",
       "_view_module_version": "2.0.0",
       "_view_name": "LayoutView",
       "align_content": null,
       "align_items": null,
       "align_self": null,
       "border_bottom": null,
       "border_left": null,
       "border_right": null,
       "border_top": null,
       "bottom": null,
       "display": null,
       "flex": null,
       "flex_flow": null,
       "grid_area": null,
       "grid_auto_columns": null,
       "grid_auto_flow": null,
       "grid_auto_rows": null,
       "grid_column": null,
       "grid_gap": null,
       "grid_row": null,
       "grid_template_areas": null,
       "grid_template_columns": null,
       "grid_template_rows": null,
       "height": null,
       "justify_content": null,
       "justify_items": null,
       "left": null,
       "margin": null,
       "max_height": null,
       "max_width": null,
       "min_height": null,
       "min_width": null,
       "object_fit": null,
       "object_position": null,
       "order": null,
       "overflow": null,
       "padding": null,
       "right": null,
       "top": null,
       "visibility": null,
       "width": null
      }
     },
     "da953b2f71c24665a7d4d2943a741699": {
      "model_module": "@jupyter-widgets/controls",
      "model_module_version": "2.0.0",
      "model_name": "HTMLModel",
      "state": {
       "_dom_classes": [],
       "_model_module": "@jupyter-widgets/controls",
       "_model_module_version": "2.0.0",
       "_model_name": "HTMLModel",
       "_view_count": null,
       "_view_module": "@jupyter-widgets/controls",
       "_view_module_version": "2.0.0",
       "_view_name": "HTMLView",
       "description": "",
       "description_allow_html": false,
       "layout": "IPY_MODEL_eed49a4994cf482fb2105de32756c73b",
       "placeholder": "​",
       "style": "IPY_MODEL_faccde197bf4476b9dd9892854163567",
       "tabbable": null,
       "tooltip": null,
       "value": " 3633/3633 [00:00&lt;00:00, 95782.88it/s]"
      }
     },
     "ed59aec882c048a19264bf24fc46f06e": {
      "model_module": "@jupyter-widgets/controls",
      "model_module_version": "2.0.0",
      "model_name": "HTMLStyleModel",
      "state": {
       "_model_module": "@jupyter-widgets/controls",
       "_model_module_version": "2.0.0",
       "_model_name": "HTMLStyleModel",
       "_view_count": null,
       "_view_module": "@jupyter-widgets/base",
       "_view_module_version": "2.0.0",
       "_view_name": "StyleView",
       "background": null,
       "description_width": "",
       "font_size": null,
       "text_color": null
      }
     },
     "eed49a4994cf482fb2105de32756c73b": {
      "model_module": "@jupyter-widgets/base",
      "model_module_version": "2.0.0",
      "model_name": "LayoutModel",
      "state": {
       "_model_module": "@jupyter-widgets/base",
       "_model_module_version": "2.0.0",
       "_model_name": "LayoutModel",
       "_view_count": null,
       "_view_module": "@jupyter-widgets/base",
       "_view_module_version": "2.0.0",
       "_view_name": "LayoutView",
       "align_content": null,
       "align_items": null,
       "align_self": null,
       "border_bottom": null,
       "border_left": null,
       "border_right": null,
       "border_top": null,
       "bottom": null,
       "display": null,
       "flex": null,
       "flex_flow": null,
       "grid_area": null,
       "grid_auto_columns": null,
       "grid_auto_flow": null,
       "grid_auto_rows": null,
       "grid_column": null,
       "grid_gap": null,
       "grid_row": null,
       "grid_template_areas": null,
       "grid_template_columns": null,
       "grid_template_rows": null,
       "height": null,
       "justify_content": null,
       "justify_items": null,
       "left": null,
       "margin": null,
       "max_height": null,
       "max_width": null,
       "min_height": null,
       "min_width": null,
       "object_fit": null,
       "object_position": null,
       "order": null,
       "overflow": null,
       "padding": null,
       "right": null,
       "top": null,
       "visibility": null,
       "width": null
      }
     },
     "faccde197bf4476b9dd9892854163567": {
      "model_module": "@jupyter-widgets/controls",
      "model_module_version": "2.0.0",
      "model_name": "HTMLStyleModel",
      "state": {
       "_model_module": "@jupyter-widgets/controls",
       "_model_module_version": "2.0.0",
       "_model_name": "HTMLStyleModel",
       "_view_count": null,
       "_view_module": "@jupyter-widgets/base",
       "_view_module_version": "2.0.0",
       "_view_name": "StyleView",
       "background": null,
       "description_width": "",
       "font_size": null,
       "text_color": null
      }
     }
    },
    "version_major": 2,
    "version_minor": 0
   }
  }
 },
 "nbformat": 4,
 "nbformat_minor": 5
}