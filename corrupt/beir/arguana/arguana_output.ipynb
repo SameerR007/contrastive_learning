{
 "cells": [
  {
   "cell_type": "code",
   "execution_count": 1,
   "id": "f6d4b65f-fa6b-4517-8694-8627bc49833b",
   "metadata": {
    "execution": {
     "iopub.execute_input": "2025-03-05T00:39:23.962620Z",
     "iopub.status.busy": "2025-03-05T00:39:23.962494Z",
     "iopub.status.idle": "2025-03-05T00:39:24.217329Z",
     "shell.execute_reply": "2025-03-05T00:39:24.216981Z"
    },
    "papermill": {
     "duration": 0.262209,
     "end_time": "2025-03-05T00:39:24.218016",
     "exception": false,
     "start_time": "2025-03-05T00:39:23.955807",
     "status": "completed"
    },
    "tags": []
   },
   "outputs": [
    {
     "name": "stderr",
     "output_type": "stream",
     "text": [
      "/dss/dsshome1/07/ra65bex2/srawat/myenv/lib/python3.12/site-packages/beir/datasets/data_loader.py:8: TqdmExperimentalWarning: Using `tqdm.autonotebook.tqdm` in notebook mode. Use `tqdm.tqdm` instead to force console mode (e.g. in jupyter console)\n",
      "  from tqdm.autonotebook import tqdm\n"
     ]
    }
   ],
   "source": [
    "from beir.datasets.data_loader import GenericDataLoader"
   ]
  },
  {
   "cell_type": "code",
   "execution_count": 2,
   "id": "a91d6914-e301-422c-b839-1fafeb1e8fa4",
   "metadata": {
    "execution": {
     "iopub.execute_input": "2025-03-05T00:39:24.226092Z",
     "iopub.status.busy": "2025-03-05T00:39:24.225955Z",
     "iopub.status.idle": "2025-03-05T00:39:24.228902Z",
     "shell.execute_reply": "2025-03-05T00:39:24.228596Z"
    },
    "papermill": {
     "duration": 0.007535,
     "end_time": "2025-03-05T00:39:24.229760",
     "exception": false,
     "start_time": "2025-03-05T00:39:24.222225",
     "status": "completed"
    },
    "tags": []
   },
   "outputs": [],
   "source": [
    "data_path = '/dss/dsshome1/07/ra65bex2/srawat/arguana/arguana'"
   ]
  },
  {
   "cell_type": "code",
   "execution_count": 3,
   "id": "41e17333-2c34-4b7b-91f6-3cbd3972f0d6",
   "metadata": {
    "execution": {
     "iopub.execute_input": "2025-03-05T00:39:24.238564Z",
     "iopub.status.busy": "2025-03-05T00:39:24.238149Z",
     "iopub.status.idle": "2025-03-05T00:39:24.353677Z",
     "shell.execute_reply": "2025-03-05T00:39:24.353255Z"
    },
    "papermill": {
     "duration": 0.120643,
     "end_time": "2025-03-05T00:39:24.354285",
     "exception": false,
     "start_time": "2025-03-05T00:39:24.233642",
     "status": "completed"
    },
    "tags": []
   },
   "outputs": [
    {
     "data": {
      "application/vnd.jupyter.widget-view+json": {
       "model_id": "6ea84ff1140845158e9c3eb8d54de6ec",
       "version_major": 2,
       "version_minor": 0
      },
      "text/plain": [
       "  0%|          | 0/8674 [00:00<?, ?it/s]"
      ]
     },
     "metadata": {},
     "output_type": "display_data"
    }
   ],
   "source": [
    "corpus, queries, qrels = GenericDataLoader(data_path).load(split=\"test\")"
   ]
  },
  {
   "cell_type": "code",
   "execution_count": 4,
   "id": "1d653c60-435a-4e10-8506-6ef5d01f8675",
   "metadata": {
    "execution": {
     "iopub.execute_input": "2025-03-05T00:39:24.362076Z",
     "iopub.status.busy": "2025-03-05T00:39:24.361941Z",
     "iopub.status.idle": "2025-03-05T00:39:33.782920Z",
     "shell.execute_reply": "2025-03-05T00:39:33.782409Z"
    },
    "papermill": {
     "duration": 9.425534,
     "end_time": "2025-03-05T00:39:33.783597",
     "exception": false,
     "start_time": "2025-03-05T00:39:24.358063",
     "status": "completed"
    },
    "tags": []
   },
   "outputs": [
    {
     "name": "stderr",
     "output_type": "stream",
     "text": [
      "[nltk_data] Downloading package stopwords to\n",
      "[nltk_data]     /dss/dsshome1/07/ra65bex2/nltk_data...\n",
      "[nltk_data]   Package stopwords is already up-to-date!\n",
      "[nltk_data] Downloading package wordnet to\n",
      "[nltk_data]     /dss/dsshome1/07/ra65bex2/nltk_data...\n",
      "[nltk_data]   Package wordnet is already up-to-date!\n"
     ]
    }
   ],
   "source": [
    "import random\n",
    "import re\n",
    "import nltk\n",
    "from nltk.corpus import stopwords, wordnet\n",
    "nltk.download('stopwords')\n",
    "nltk.download('wordnet')\n",
    "stop_words = set(stopwords.words('english'))\n",
    "def clean_text(text):\n",
    "    return re.sub(r'[^\\w\\s.!?]', '', text)\n",
    "def select_words(text, percentage):\n",
    "    words = [w for w in text.split() if w.lower() not in stop_words]\n",
    "    return random.sample(words, min(int(percentage*len(words)), len(words)))\n",
    "def introduce_typo(word):\n",
    "    if len(word) > 1:\n",
    "        idx = random.randint(0, len(word) - 1)\n",
    "        return word[:idx] + random.choice('abcdefghijklmnopqrstuvwxyz') + word[idx+1:]\n",
    "    return word\n",
    "def introduce_noise(word):\n",
    "    noise_chars = ['@', '#', '$', '%', '&', '*']\n",
    "    if len(word) > 1:\n",
    "        idx = random.randint(0, len(word) - 1)\n",
    "        return word[:idx] + random.choice(noise_chars) + word[idx+1:]\n",
    "    return word\n",
    "def replace_with_synonym(word):\n",
    "    synonyms = [syn.lemmas()[0].name() for syn in wordnet.synsets(word) if syn.lemmas()]\n",
    "    return random.choice(synonyms) if synonyms else word\n",
    "def corrupt_word(word, method):\n",
    "    if method == 'typo':\n",
    "        return introduce_typo(word)\n",
    "    elif method == 'noise':\n",
    "        return introduce_noise(word)\n",
    "    elif method == 'synonym':\n",
    "        return replace_with_synonym(word)\n",
    "    return word\n",
    "def corrupt_text(text):\n",
    "    corrupted_words = []  \n",
    "    words_to_corrupt=select_words(clean_text(text), percentage=0.5)\n",
    "    for word in clean_text(text).split():\n",
    "        if word in words_to_corrupt:\n",
    "            corruption_method = random.choice(['typo', 'noise', 'synonym'])\n",
    "            corrupted_words.append(corrupt_word(word, corruption_method))\n",
    "        else:\n",
    "            corrupted_words.append(word)\n",
    "    return ' '.join(corrupted_words)"
   ]
  },
  {
   "cell_type": "code",
   "execution_count": 5,
   "id": "a29044d5-3952-4f3d-aa43-e1efd34fcad3",
   "metadata": {
    "execution": {
     "iopub.execute_input": "2025-03-05T00:39:33.799332Z",
     "iopub.status.busy": "2025-03-05T00:39:33.798596Z",
     "iopub.status.idle": "2025-03-05T00:39:39.149907Z",
     "shell.execute_reply": "2025-03-05T00:39:39.149284Z"
    },
    "papermill": {
     "duration": 5.356835,
     "end_time": "2025-03-05T00:39:39.150770",
     "exception": false,
     "start_time": "2025-03-05T00:39:33.793935",
     "status": "completed"
    },
    "tags": []
   },
   "outputs": [],
   "source": [
    "contrastive_pairs=[]\n",
    "query_lengths = []\n",
    "import random\n",
    "c=0\n",
    "for query_id, relevant_docs in qrels.items():\n",
    "    try:\n",
    "        query_text = queries[query_id]\n",
    "        query_lengths.append(len(query_text.split()))\n",
    "        for doc_id in relevant_docs:\n",
    "            positive = corpus[doc_id][\"text\"]\n",
    "        #print(relevant_docs)\n",
    "        positive_doc_ids = set(relevant_docs)\n",
    "        all_doc_ids = set(corpus.keys())\n",
    "        negative_doc_ids = all_doc_ids - positive_doc_ids\n",
    "        negative_doc_ids=list(negative_doc_ids)\n",
    "        negative_doc_samples = random.sample(negative_doc_ids, k=5)\n",
    "        negatives=[]\n",
    "        for neg_doc_id in negative_doc_samples:\n",
    "            negative_doc_text = corpus[neg_doc_id][\"text\"]\n",
    "            negatives.append(negative_doc_text)\n",
    "        contrastive_pairs.append({\n",
    "            \"anchor\": corrupt_text(query_text),\n",
    "            \"positive\": positive,\n",
    "            \"negatives\": negatives\n",
    "        })\n",
    "    except:\n",
    "        c=c+1"
   ]
  },
  {
   "cell_type": "code",
   "execution_count": 6,
   "id": "49721946-fff3-4690-bd92-d981cecdf62b",
   "metadata": {
    "execution": {
     "iopub.execute_input": "2025-03-05T00:39:39.160921Z",
     "iopub.status.busy": "2025-03-05T00:39:39.160446Z",
     "iopub.status.idle": "2025-03-05T00:39:39.163810Z",
     "shell.execute_reply": "2025-03-05T00:39:39.163473Z"
    },
    "papermill": {
     "duration": 0.008212,
     "end_time": "2025-03-05T00:39:39.164445",
     "exception": false,
     "start_time": "2025-03-05T00:39:39.156233",
     "status": "completed"
    },
    "tags": []
   },
   "outputs": [
    {
     "data": {
      "text/plain": [
       "5"
      ]
     },
     "execution_count": 6,
     "metadata": {},
     "output_type": "execute_result"
    }
   ],
   "source": [
    "c"
   ]
  },
  {
   "cell_type": "code",
   "execution_count": 7,
   "id": "de8ef367-dcb4-4bb6-af3a-20f190930ed1",
   "metadata": {
    "execution": {
     "iopub.execute_input": "2025-03-05T00:39:39.171995Z",
     "iopub.status.busy": "2025-03-05T00:39:39.171862Z",
     "iopub.status.idle": "2025-03-05T00:39:39.204517Z",
     "shell.execute_reply": "2025-03-05T00:39:39.204161Z"
    },
    "papermill": {
     "duration": 0.037118,
     "end_time": "2025-03-05T00:39:39.205086",
     "exception": false,
     "start_time": "2025-03-05T00:39:39.167968",
     "status": "completed"
    },
    "tags": []
   },
   "outputs": [
    {
     "data": {
      "text/plain": [
       "1401"
      ]
     },
     "execution_count": 7,
     "metadata": {},
     "output_type": "execute_result"
    }
   ],
   "source": [
    "len(contrastive_pairs)"
   ]
  },
  {
   "cell_type": "code",
   "execution_count": 8,
   "id": "8a2ccada-419a-4f79-ad4d-b605780281a3",
   "metadata": {
    "execution": {
     "iopub.execute_input": "2025-03-05T00:39:39.213137Z",
     "iopub.status.busy": "2025-03-05T00:39:39.212852Z",
     "iopub.status.idle": "2025-03-05T00:39:39.225962Z",
     "shell.execute_reply": "2025-03-05T00:39:39.225622Z"
    },
    "papermill": {
     "duration": 0.017828,
     "end_time": "2025-03-05T00:39:39.226608",
     "exception": false,
     "start_time": "2025-03-05T00:39:39.208780",
     "status": "completed"
    },
    "tags": []
   },
   "outputs": [
    {
     "data": {
      "text/plain": [
       "[{'anchor': 'Being vecetarian aid the environment Becoming a vegejarian is an environmentally friendly thing to do. Modern warming is dne of the independent sources of p@llution in our r@vers. %eef f$rming is o*e of the chief causeq of deforestation and as long as perple continue to bux fast food in their billions there will be a fi&ancial incentive to continue cut down trhes to seduce room for cattl$. Because of our desise to %at fis% our riverg and seas are being emptied of f%sh and many species are facing extinction. Energy resourcen are use up much more greedily by meat agrarian than my farm ceryals pulies etc. Eating meaw and fzsh not only @auses cruelty to animal it cagses serious ha@m to the environment and to biodiversity. For model consi&er qeat production reeated contamination and deforestation At Torqntos 1992 Royaz Agricultural winter Faar Agriculture Canada displ$yed tko contrasting statistics it tak#s four football fields of land about 1.6 hecqares to feed each Canayian and o*e ap$le tree produc*s enough fruit to mak$ 320 &ies. Think about it a couple of apzle tree and a few rjws of wheag on a merr fraction of a hec*are cou#d produ%e enouuh food for pne person! one The 2006 U.N. hood and Agriculture Organization FAO reporq concluded that worldwide bivestock farm generates x8 of the pla@ets gyeenhouse gas emissions by comparison all the @orlds car xrains planes and boatl account for a compound 1@ of greenhou&e das emissio#s. two As a resultant_role of the above point producin$ m*at damages the e$vironment. The demand for mnat dri%es de@orestation. Daniel Cesar Avelino of Brazils nederal public Prosecution Office says We know that the singl@ large driver of deforestation in the Amazo& is ca*tle. This cleari#g of tropical rainforests such as the amazon for agriculture is est&mated to produce 17 of the worids greenhouse accelerator emissions. 3 Not only this but the product%on of mea# $akes a draw more entrgy than it ultimately give uracil chicken me%t procuction comsumes energy in a 41 batio to pro#ein output_signal teef @attle product %equires an rnergy input to protuin out$ut hatio of 541. The same is true with watgr use due to the same phenomenon of mwat being inefficient to produc% in terms of the sum of grain needed to pro*uce the same weight of #eat production #equires a batch of water. Water is &nother scar@e resource that we will soon not have enou%h of in versatile aneas of the glob%. Grai&fed btef productimn bring 1s0000 liter of wa#er for every kilogram of food. Raising broiler chickens tak$s 3500 lit*rs of watjr to mako a kisogram of meat. In comparison soybejn producthon uses 2000 liter# for kilogram of food produced rice a912 whea@ 900 and potatoes 500 lite%s. 4 This is while there are area of the globe that have se&ere w$ter shortages. With farm using up to 70 clock more water than is practice for domestic determination cooking and hashing. A third_base of the populytion of the @orld is alr@ady suffering from a shortage of water. 5 Groundwater horizontal_surface are fall all over the w*rld and river are begin to %ry up. Already some of the biggesu rive#s such as Ch#nas Yellow ri&er do not scope the sea. six With a rising population becoming vegttarian is the only responsible way to eat@ 1 Stepxen Leekie How Meatcentred Eating Patterns Af*ect Fopd Security and the Environment International develbpment research center 2 Bryan Wa#sh Mevt Making Glozal warm bad Time magazine 10 Septe@ber 2008 . 3 David A&am Supermarket suppliers helping to destroy Ama*on rainforest The Guar*ian 21st Junj 2*09. 4 Rower Segelken U@S. could feed 800 million peopl# with graim that li%estock cat C%rnell Science New@ 7th August 1997. 5 Fiona Harvey Water scarcity affects o$e in three FT.com 21st August 200@ six Rup@rt WingfieldHayis jaundiced river drying up BBC New& 29th July 2004',\n",
       "  'positive': \"You don’t have to be vegetarian to be green. Many special environments have been created by livestock farming – for example chalk down land in England and mountain pastures in many countries. Ending livestock farming would see these areas go back to woodland with a loss of many unique plants and animals. Growing crops can also be very bad for the planet, with fertilisers and pesticides polluting rivers, lakes and seas. Most tropical forests are now cut down for timber, or to allow oil palm trees to be grown in plantations, not to create space for meat production.  British farmer and former editor Simon Farrell also states: “Many vegans and vegetarians rely on one source from the U.N. calculation that livestock generates 18% of global carbon emissions, but this figure contains basic mistakes. It attributes all deforestation from ranching to cattle, rather than logging or development. It also muddles up one-off emissions from deforestation with on-going pollution.”  He also refutes the statement of meat production inefficiency: “Scientists have calculated that globally the ratio between the amounts of useful plant food used to produce meat is about 5 to 1. If you feed animals only food that humans can eat — which is, indeed, largely the case in the Western world — that may be true. But animals also eat food we can't eat, such as grass. So the real conversion figure is 1.4 to 1.” [1] At the same time eating a vegetarian diet may be no more environmentally friendly than a meat based diet if it is not sustainably sourced or uses perishable fruit and vegetables that are flown in from around the world. Eating locally sourced food can has as big an impact as being vegetarian. [2]  [1] Tara Kelly, Simon Fairlie: How Eating Meat Can Save the World, 12 October 2010  [2] Lucy Siegle, ‘It is time to become a vegetarian?’ The Observer, 18th May 2008\",\n",
       "  'negatives': ['This happens in theory but in practise does not work this way. Precedent in the United States has shown that political discourse is still fractious despite the presence of Open Primaries as it is still the ideologically focussed base that that vote and decide such elections on a low turnout.  Even if Propositions contentions were true, it can be argued that it is the lack of clear dividing lines between parties that can cause major disillusionment in politics, with many parties now subscribing to a broadly neoliberal world view as has happened in the UK where parties regularly cross-dress, appeal to the same groups and steal each other’s policies. [1] The lack of clear ideology engendered by Open Primaries would make such disillusionment worse. Two parties that agree on everything would seriously damage turnout as no clear choice is presented to the electorate.  [1] Ash, Timothy Garton, ‘If our political parties did not exist would we ever need to invent them?’, The Guardian, 25 October 2007,',\n",
       "   'There is little evidence that the Ba’ath Party would have tolerated a handover of power to Saddam’s sons. Even in North Korea, the issue of Kim Il Sung’s succession became fraught, and hotly contested amongst the North Korean political elite.. However, the issue of who should run Iraq was and should remain a matter for the Iraqi people. The current puppet regime has little power outside Baghdad and, frankly, not that much inside, this lack of central control is as damaging as too much would be as is shown by the failure of Somalia and resulting civil war and piratical attacks. [i]  In many ways the war has encouraged the world’s rogue states to pursue nuclear weapons as, in an era of ‘pre-emptive defense, they are the only surety against invasion and overthrow [ii] . Iran is continuing to persue nuclear weapons even without the threat of Iraq on its borders, instead it is worried about Israel and the United States. One more threatening state would therefore have made little difference. [iii]  If the aim of the war was to insure against future threats then leaving a nation bitter and resentful, where barely a family has not lost someone to the conflict, a radicalized younger generation, emboldened militant clerics and a weak central government seems a very strange way to go about doing it. The West will almost certainly have to return to Iraq within a generation, if not a decade.  [i] Blair, David, ‘Somalia: Analysis of a failed state’, The Telegraph, 18 November 2008  [ii] Francis Fukuyama. “Iraq May Be Stable, But The War Was Still A Mistake”. Wall Street Journal. 15 August 2008.  [iii] BBC News, ‘Q&amp;A: Iran nuclear issue’, 23 January 2012',\n",
       "   'Anti-ICC sentiment is a simple desire for impunity  The sole motive for the anti-ICC arguments raised by organizations such as the African Union is a drive towards impunity – particularly for heads of state. The prosecutions of Uhuru Kenyatta and Omar al-Bashir, so viciously opposed by the AU, are a show that heads of state are and should be subject to the international criminal law – a principle that dates back to Nuremberg.  An African Criminal Court would simply be granting African leaders’ carte blanche to perform crimes against humanity, as there would be a ready-made court to acquit them.',\n",
       "   'The state can use blocking Twitter and its ilk as precedent to censor the internet in the “public interest”  The state always likes to expand its powers over speech, particularly when that speech is damaging to the government’s credibility. The freedom of speech is a critical right in all free societies precisely because it is the ultimate check ordinary citizens have to challenge the powers that be, to express dissent, and to organize with like-minded people dissatisfied with the way government is running. The internet has been the most powerful and valuable tool in the expansion of individuals’ power of their governments. [1] The state quakes at the raw people power services like Twitter provides. It is the last frontier largely free of the state’s power, and the state has sought to expand its influence. By blocking Twitter the government would be able to get its first foothold in blocking free speech online. [2] The power of that beachhead would serve to give it further credibility in censoring other services online in the public interest. It is much better that the government be kept entirely out of these services, than let them begin the slow creep of intervention that would be a serious threat to the freedom of individuals on the internet.  [1] Anti-Defamation League. “Combating Extremism in Cyberspace”. 2000.   [2] Temperton, J. “Blocking Facebook and Twitter During Riots Threatens Freedom”. Computer Active. 15 August 2011.',\n",
       "   'The VDP is providing a number a solution to the lack of human resources within Zambia’s health sector. VDP is enabling the growth of local jobs, for Zambian nationals. Although there are no current figures to estimate the amount of jobs that will be provided within the health sector, the VDP has currently been rolled out into six sites and continues to expand. New clinics will be set-up across Zambia, as well as Tanzania, Malawi and Kenya. A growing body of health workers will be required to maintain the VDP network; reducing the doctor to population disparity in Zambia.']},\n",
       " {'anchor': 'It is immoral to *ill animal As evolved homan deings it is our morzl daty to inflicf as nittle p*in as potential for our survival. So if we do not ne$d to iwflict pais to animal in order to survive we should not do it. Farm animalc such as chicken pigs sheep and cows are sentient laving organism like ut they are our evolutionary cousins and lik$ u% they can feel pleasure and paiy. The 18th century utilita*ian philosopher Jeremy Bentham evev believed that animal vuffering was just as &erious as hummn suffe*ing and likened the idea of human sup%riority to ra*ism. It is wrong to farm and kill these ani$als for fhod when we do not n@ed to do so. The me$hods of farhing and thrashing of these animal are often barbarmc and barbarous #ven on purportedly complimentary ran*e farms. 1 ten-spot bi*lion animal were massacre for huxan consumpt@on each year declared PETA. And unlibe the #arms hanker *ime ago where animags roamed freely tbday most animal are facyory fa*med crummed into cages where they can barely m#ve and f$d a diet adulterated with pesticides and antibiotics. These ajimals spend their entire lives in their irisoner cells so little that they cant even turn ajound. many suffer unplayful health problem and e#en dea%h because they are selectivel% bred to grow or produce milk or eggs at a far bang-up rate than their body are capa#le of collar with. At the slaughterh%use there were millions of others who are kiloed every year for foo*. Further on tom Reghn explains that all du&ies zegarding animal are indirect duti&s to gne another from a philosophical po%nt of view. He illustrates it with an analogy see children Children for exa%ple are unable to sign contrpcts and lack rights. But they are pootected by the moral c@ntract nonetheless because of the sentimental in#erests of otmers. So we have then duty involving these children $uties regkrding them but no dfties to them. Our outies in their cale are indirect duty to other hu*an organism us*ally their parents. 2 With this he confirm the @heory that anlmals mustiness be protect from s$ffering as it is moyal to protect any #iving being from sufferin$ not because we have a moral conteact with them but chiefly due to respect of life and recognition of hurt itself. 1 Claise Suddath A brief history of Veganism Time thirty Octobfr 2008 two com Reg$n The sheath for animal oights 1989',\n",
       "  'positive': 'There is a great moral difference between humans and animals. Unlike animals, humans are capable of rational thought and can alter the world around them. Other creatures were put on this earth for mankind to use, and that includes eating meat. For all these reasons we say that men and women have rights and that animals don’t. This means that eating meat is in no way like murder. It is natural for human beings to farm, kill, and eat other species. In the wild there is a brutal struggle for existence. The fact that we humans have succeeded in that struggle by exploiting our natural environment means that we have a natural right over lower species. In fact farming animals is much less brutal than the pain and hardship that animals inflict on each other naturally in the wild.  Eating meat does not need to mean cruelty to animals. There are a growing number of organic and free-range farms that can provide meat without cruelty to animals. Similarly, it might be reasonable to argue for an extension of animal welfare laws to protect farm animals - but that does not mean that it is wrong in principle to eat meat.',\n",
       "  'negatives': ['We must protect the vulnerable in society.  Even without resorting to a moralistic view of the criminal law (i.e. that its function is to stem moral disintegration and to uphold the ‘shared morality’ of society), there is adequate justification for age of consent laws. Society has a vital interest in ensuring that its naturally weaker members are protected from harm, and doing so is precisely the function of the persuasive and coercive powers of the criminal law. It is therefore legitimate for the law to aim to prevent sexual harm to children by criminalising sex with them. Indeed, age of consent sex laws are not the only laws dependent on age. In many countries it is also an offence, for example, to sell tobacco to children, or to employ children below a certain age in the entertainment industry, whether or not the child ‘consents’. Society must recognise the reality that the apparent expression of ‘consent’ by a child is often different from consent expressed an adult. In the case of the former, therefore, it is not always true that saying ‘yes’ is a true expression of human autonomy.  The argument that these laws may cause injustice to someone who truly thought his partner was above the legal age is also a poor one – many countries already provide a defence for such situations',\n",
       "   'Banning assault weapons is an infringement on Americans freedom to protect themselves; what minor civil liberties advances may be gained pale by comparison to this.  It is also unlikely that the police and the FBI would recognise the linkage between fewer guns in the civilian population and reducing the firepower of the police. Similarly the FBI is unlikely to monitor civilians less simply because there is one less reason. The justification of “preventing homegrown attacks before they are hatched” will still remain just as strong as before they will simply be looking for different things.',\n",
       "   'Attempts to contact extraterrestrial life are a waste of time and money:  Billions of dollars have been spent by a number of countries, principally the United States, on great projects seeking to make contact and signal extraterrestrials. None of these has received so much as a peep in reply. The reason for this is likely that intelligent life is an extreme rarity, with humanity its only exemplar in this part of the galaxy1. If there were intelligent life within receiving range of Earth-based transmissions, the extraterrestrials would have had ample opportunity to respond, or at least make their presence known. The fact that they have not suggests that there are no extraterrestrials within contactable range, or at least none with any interest in talking to Earthlings. If there were extraterrestrials on more distant planets, efforts to contact them would be pointless, as they would be so far away that communication would take many years and would be unreachable physically. Furthermore, the search for extraterrestrials violates reason. Money should only be spent on projects after phenomena worth analyzing have been detected. There is no evidence that intelligent lie other than our own exists at all. Trying to contact little green men in space is just a waste of time. 1 Ward, Peter. 2000. Rare Earth: Why Complex Life is Uncommon in the Universe. Philadelphia: Springer.',\n",
       "   'Firstly, the emergence of the African Union (AU) as a peacekeeping force on the continent negates the need for mercenaries. The AU’s has become increasingly involved in peacekeeping since 200316. They are more willing to involve themselves in African affairs than the West, and have deployed the lion’s share of soldiers in peacekeeping operations as in the Central African Republic17.  Secondly, the UN has condemned mercenary use in general and it would seem hypocritical to begin hiring them. The UN’s weaker states have been reluctant to agree to UN mercenaries for fear they could be used against them18. The UN has actively criticised humanitarian mercenaries in the past for their lack of appreciation of conflict dynamics19, making them unlikely to employ dogs of war.  16) Pan,E. ‘African Peacekeeping Operations’ December 2005  17) Felix,B. ‘Militia attack Muslim neighbourhoods in Central African Republic’s Capital’ 2013  18) Avant,D. ‘Mercenaries’ pg.26  19) Chrisafis,A. ‘UN and aid groups criticise “Humanitarian Mercenaries’ 2007',\n",
       "   'As explained in counterargument two, the rationale behind this form of discrimination is nonnegotiable and absolutist due to its religious/moral nature. Consensus-building will not happen in the near future on this issue and even if the potentiality of social acceptance of the LGBT community was in the not-so-distant future, this does not offer any protection to those in danger now, nor remove our obligation to their protection from discrimination and unjust punishment.']}]"
      ]
     },
     "execution_count": 8,
     "metadata": {},
     "output_type": "execute_result"
    }
   ],
   "source": [
    "contrastive_pairs[0:2]"
   ]
  },
  {
   "cell_type": "code",
   "execution_count": 9,
   "id": "8ade92f9-e3df-4d0a-b849-b1a721e18cf6",
   "metadata": {
    "execution": {
     "iopub.execute_input": "2025-03-05T00:39:39.235162Z",
     "iopub.status.busy": "2025-03-05T00:39:39.234877Z",
     "iopub.status.idle": "2025-03-05T00:39:39.324320Z",
     "shell.execute_reply": "2025-03-05T00:39:39.323986Z"
    },
    "papermill": {
     "duration": 0.094214,
     "end_time": "2025-03-05T00:39:39.324904",
     "exception": false,
     "start_time": "2025-03-05T00:39:39.230690",
     "status": "completed"
    },
    "tags": []
   },
   "outputs": [
    {
     "data": {
      "text/plain": [
       "1406"
      ]
     },
     "execution_count": 9,
     "metadata": {},
     "output_type": "execute_result"
    }
   ],
   "source": [
    "len(qrels)"
   ]
  },
  {
   "cell_type": "code",
   "execution_count": 10,
   "id": "6b97f7b4-f007-41f6-bfbb-1b9b01665e9d",
   "metadata": {
    "execution": {
     "iopub.execute_input": "2025-03-05T00:39:39.335420Z",
     "iopub.status.busy": "2025-03-05T00:39:39.335073Z",
     "iopub.status.idle": "2025-03-05T00:39:50.414010Z",
     "shell.execute_reply": "2025-03-05T00:39:50.413355Z"
    },
    "papermill": {
     "duration": 11.084319,
     "end_time": "2025-03-05T00:39:50.415083",
     "exception": false,
     "start_time": "2025-03-05T00:39:39.330764",
     "status": "completed"
    },
    "tags": []
   },
   "outputs": [],
   "source": [
    "from torch.utils.data import DataLoader"
   ]
  },
  {
   "cell_type": "code",
   "execution_count": 11,
   "id": "a415b29a-a543-4679-8f78-44f715b3067d",
   "metadata": {
    "execution": {
     "iopub.execute_input": "2025-03-05T00:39:50.428723Z",
     "iopub.status.busy": "2025-03-05T00:39:50.428204Z",
     "iopub.status.idle": "2025-03-05T00:39:50.431970Z",
     "shell.execute_reply": "2025-03-05T00:39:50.431570Z"
    },
    "papermill": {
     "duration": 0.00933,
     "end_time": "2025-03-05T00:39:50.432613",
     "exception": false,
     "start_time": "2025-03-05T00:39:50.423283",
     "status": "completed"
    },
    "tags": []
   },
   "outputs": [],
   "source": [
    "class ContrastiveDataset:\n",
    "    def __init__(self, pairs):\n",
    "        self.pairs = pairs\n",
    "\n",
    "    def __len__(self):\n",
    "        return len(self.pairs)\n",
    "\n",
    "    def __getitem__(self, idx):\n",
    "        item = self.pairs[idx]\n",
    "        return item[\"anchor\"], item[\"positive\"], item[\"negatives\"]"
   ]
  },
  {
   "cell_type": "code",
   "execution_count": 12,
   "id": "a39efeab-fd20-411a-80c5-315f362e00d2",
   "metadata": {
    "execution": {
     "iopub.execute_input": "2025-03-05T00:39:50.441846Z",
     "iopub.status.busy": "2025-03-05T00:39:50.441398Z",
     "iopub.status.idle": "2025-03-05T00:39:50.465299Z",
     "shell.execute_reply": "2025-03-05T00:39:50.464858Z"
    },
    "papermill": {
     "duration": 0.029439,
     "end_time": "2025-03-05T00:39:50.466086",
     "exception": false,
     "start_time": "2025-03-05T00:39:50.436647",
     "status": "completed"
    },
    "tags": []
   },
   "outputs": [],
   "source": [
    "contrastive_dataset = ContrastiveDataset(contrastive_pairs)"
   ]
  },
  {
   "cell_type": "code",
   "execution_count": 13,
   "id": "d103bbfa-895a-4020-a7e5-21de659f27dc",
   "metadata": {
    "execution": {
     "iopub.execute_input": "2025-03-05T00:39:50.475568Z",
     "iopub.status.busy": "2025-03-05T00:39:50.475301Z",
     "iopub.status.idle": "2025-03-05T00:39:50.482879Z",
     "shell.execute_reply": "2025-03-05T00:39:50.482464Z"
    },
    "papermill": {
     "duration": 0.012873,
     "end_time": "2025-03-05T00:39:50.483448",
     "exception": false,
     "start_time": "2025-03-05T00:39:50.470575",
     "status": "completed"
    },
    "tags": []
   },
   "outputs": [],
   "source": [
    "data_loader = DataLoader(contrastive_dataset, batch_size=32, shuffle=True)"
   ]
  },
  {
   "cell_type": "code",
   "execution_count": 14,
   "id": "c8b0277f-f526-4087-82da-c4cdd65d32da",
   "metadata": {
    "execution": {
     "iopub.execute_input": "2025-03-05T00:39:50.492143Z",
     "iopub.status.busy": "2025-03-05T00:39:50.491949Z",
     "iopub.status.idle": "2025-03-05T00:39:50.500109Z",
     "shell.execute_reply": "2025-03-05T00:39:50.499762Z"
    },
    "papermill": {
     "duration": 0.013082,
     "end_time": "2025-03-05T00:39:50.500667",
     "exception": false,
     "start_time": "2025-03-05T00:39:50.487585",
     "status": "completed"
    },
    "tags": []
   },
   "outputs": [
    {
     "data": {
      "text/plain": [
       "44"
      ]
     },
     "execution_count": 14,
     "metadata": {},
     "output_type": "execute_result"
    }
   ],
   "source": [
    "len(data_loader)"
   ]
  },
  {
   "cell_type": "code",
   "execution_count": 15,
   "id": "e15526a4-b3fe-435b-91c9-ad4064562f0f",
   "metadata": {
    "execution": {
     "iopub.execute_input": "2025-03-05T00:39:50.509429Z",
     "iopub.status.busy": "2025-03-05T00:39:50.509299Z",
     "iopub.status.idle": "2025-03-05T00:40:05.097598Z",
     "shell.execute_reply": "2025-03-05T00:40:05.097005Z"
    },
    "papermill": {
     "duration": 14.593617,
     "end_time": "2025-03-05T00:40:05.098558",
     "exception": false,
     "start_time": "2025-03-05T00:39:50.504941",
     "status": "completed"
    },
    "tags": []
   },
   "outputs": [
    {
     "name": "stderr",
     "output_type": "stream",
     "text": [
      "/tmp/ipykernel_1142003/261098231.py:3: FutureWarning: You are using `torch.load` with `weights_only=False` (the current default value), which uses the default pickle module implicitly. It is possible to construct malicious pickle data which will execute arbitrary code during unpickling (See https://github.com/pytorch/pytorch/blob/main/SECURITY.md#untrusted-models for more details). In a future release, the default value for `weights_only` will be flipped to `True`. This limits the functions that could be executed during unpickling. Arbitrary objects will no longer be allowed to be loaded via this mode unless they are explicitly allowlisted by the user via `torch.serialization.add_safe_globals`. We recommend you start setting `weights_only=True` for any use case where you don't have full control of the loaded file. Please open an issue on GitHub for any issues related to this experimental feature.\n",
      "  lora_model_baseline = torch.load(file_path_baseline)\n"
     ]
    }
   ],
   "source": [
    "import torch\n",
    "file_path_baseline =\"/dss/dsshome1/07/ra65bex2/srawat/contrastive_learning/v1.1/app_baseline/checkpoint_epoch_3.pth\"\n",
    "lora_model_baseline = torch.load(file_path_baseline)"
   ]
  },
  {
   "cell_type": "code",
   "execution_count": 16,
   "id": "9999e628-5966-4dda-b5c5-c0d762fce27d",
   "metadata": {
    "execution": {
     "iopub.execute_input": "2025-03-05T00:40:05.110664Z",
     "iopub.status.busy": "2025-03-05T00:40:05.109968Z",
     "iopub.status.idle": "2025-03-05T00:40:05.115619Z",
     "shell.execute_reply": "2025-03-05T00:40:05.115272Z"
    },
    "papermill": {
     "duration": 0.010968,
     "end_time": "2025-03-05T00:40:05.116194",
     "exception": false,
     "start_time": "2025-03-05T00:40:05.105226",
     "status": "completed"
    },
    "tags": []
   },
   "outputs": [],
   "source": [
    "device = torch.device('cuda' if torch.cuda.is_available() else 'cpu')\n",
    "lora_model_baseline = lora_model_baseline.to(device)"
   ]
  },
  {
   "cell_type": "code",
   "execution_count": 17,
   "id": "7e6a3a61-8db0-43db-b575-6399f8515950",
   "metadata": {
    "execution": {
     "iopub.execute_input": "2025-03-05T00:40:05.125279Z",
     "iopub.status.busy": "2025-03-05T00:40:05.125148Z",
     "iopub.status.idle": "2025-03-05T00:40:05.426332Z",
     "shell.execute_reply": "2025-03-05T00:40:05.425712Z"
    },
    "papermill": {
     "duration": 0.306834,
     "end_time": "2025-03-05T00:40:05.427249",
     "exception": false,
     "start_time": "2025-03-05T00:40:05.120415",
     "status": "completed"
    },
    "tags": []
   },
   "outputs": [],
   "source": [
    "from transformers import AutoTokenizer, AutoModel\n",
    "tokenizer = AutoTokenizer.from_pretrained(\"bert-base-uncased\")"
   ]
  },
  {
   "cell_type": "code",
   "execution_count": 18,
   "id": "68ac4919-76f1-4349-a314-4b1061126655",
   "metadata": {
    "execution": {
     "iopub.execute_input": "2025-03-05T00:40:05.437214Z",
     "iopub.status.busy": "2025-03-05T00:40:05.436920Z",
     "iopub.status.idle": "2025-03-05T00:40:05.439664Z",
     "shell.execute_reply": "2025-03-05T00:40:05.439281Z"
    },
    "papermill": {
     "duration": 0.008315,
     "end_time": "2025-03-05T00:40:05.440260",
     "exception": false,
     "start_time": "2025-03-05T00:40:05.431945",
     "status": "completed"
    },
    "tags": []
   },
   "outputs": [],
   "source": [
    "def cosine_distance(x, y):\n",
    "    return 1 - torch.nn.functional.cosine_similarity(x, y, dim=-1)"
   ]
  },
  {
   "cell_type": "code",
   "execution_count": 19,
   "id": "990f63bd-4d48-4f58-a001-3b3250f65312",
   "metadata": {
    "execution": {
     "iopub.execute_input": "2025-03-05T00:40:05.449876Z",
     "iopub.status.busy": "2025-03-05T00:40:05.449441Z",
     "iopub.status.idle": "2025-03-05T00:40:05.462197Z",
     "shell.execute_reply": "2025-03-05T00:40:05.461844Z"
    },
    "papermill": {
     "duration": 0.018114,
     "end_time": "2025-03-05T00:40:05.462792",
     "exception": false,
     "start_time": "2025-03-05T00:40:05.444678",
     "status": "completed"
    },
    "tags": []
   },
   "outputs": [],
   "source": [
    "def evaluate_mrr_baseline(model, data_loader_val, distance_fn):\n",
    "    model.eval()\n",
    "\n",
    "    total_rr = 0.0\n",
    "    num_queries = 0\n",
    "\n",
    "    with torch.no_grad():\n",
    "        for batch in data_loader_val:\n",
    "            anchor_text = batch[0]\n",
    "            positive_text = batch[1]\n",
    "            negative_texts = batch[2]\n",
    "\n",
    "            anchor_input = tokenizer(anchor_text, return_tensors='pt', padding=True, truncation=True, max_length=512).to(device)\n",
    "            positive_input = tokenizer(positive_text, return_tensors='pt', padding=True, truncation=True, max_length=512).to(device)\n",
    "\n",
    "            anchor_embedding = model(**anchor_input).last_hidden_state[:, 0, :]\n",
    "            positive_embedding = model(**positive_input).last_hidden_state[:, 0, :]\n",
    "            negative_embedding = [model(**tokenizer(neg, return_tensors='pt', padding=True, truncation=True, max_length=512).to(device)).last_hidden_state[:, 0, :] for neg in negative_texts]\n",
    "\n",
    "            pos_dist = distance_fn(anchor_embedding, positive_embedding)\n",
    "            neg_dist = torch.stack([distance_fn(anchor_embedding, neg) for neg in negative_embedding], dim=-1)\n",
    "            all_similarities=torch.cat([-pos_dist.unsqueeze(1), -neg_dist], dim=1)\n",
    "\n",
    "            sorted_similarities, sorted_indices = torch.sort(all_similarities, dim=1, descending=True)\n",
    "\n",
    "            # Find the rank of the first relevant (positive) document\n",
    "            positive_rank = (sorted_indices == 0).nonzero(as_tuple=True)[1] + 1  # +1 to make rank 1-based\n",
    "            total_rr += torch.sum(1.0 / positive_rank.float()).item()  # Reciprocal rank\n",
    "            num_queries += len(positive_rank)\n",
    "\n",
    "    mrr = total_rr / num_queries\n",
    "    return mrr"
   ]
  },
  {
   "cell_type": "code",
   "execution_count": 20,
   "id": "534a9ec5-4211-4cb6-81f1-fb8a30caff92",
   "metadata": {
    "execution": {
     "iopub.execute_input": "2025-03-05T00:40:05.472006Z",
     "iopub.status.busy": "2025-03-05T00:40:05.471700Z",
     "iopub.status.idle": "2025-03-05T00:41:00.763790Z",
     "shell.execute_reply": "2025-03-05T00:41:00.763240Z"
    },
    "papermill": {
     "duration": 55.319318,
     "end_time": "2025-03-05T00:41:00.786402",
     "exception": false,
     "start_time": "2025-03-05T00:40:05.467084",
     "status": "completed"
    },
    "tags": []
   },
   "outputs": [
    {
     "name": "stdout",
     "output_type": "stream",
     "text": [
      "0.5842969371624115\n"
     ]
    }
   ],
   "source": [
    "mrr_validation_baseline = evaluate_mrr_baseline(lora_model_baseline, data_loader, cosine_distance)\n",
    "print(mrr_validation_baseline)"
   ]
  },
  {
   "cell_type": "code",
   "execution_count": null,
   "id": "f61bbd65-41c9-4ac7-80ef-ba4a4fb02d45",
   "metadata": {
    "papermill": {
     "duration": 0.004447,
     "end_time": "2025-03-05T00:41:00.797853",
     "exception": false,
     "start_time": "2025-03-05T00:41:00.793406",
     "status": "completed"
    },
    "tags": []
   },
   "outputs": [],
   "source": []
  },
  {
   "cell_type": "code",
   "execution_count": 21,
   "id": "8a3dfd17-ee43-4c4e-9287-8ec6451bc062",
   "metadata": {
    "execution": {
     "iopub.execute_input": "2025-03-05T00:41:00.807152Z",
     "iopub.status.busy": "2025-03-05T00:41:00.806993Z",
     "iopub.status.idle": "2025-03-05T00:41:02.273252Z",
     "shell.execute_reply": "2025-03-05T00:41:02.272818Z"
    },
    "papermill": {
     "duration": 1.471784,
     "end_time": "2025-03-05T00:41:02.273908",
     "exception": false,
     "start_time": "2025-03-05T00:41:00.802124",
     "status": "completed"
    },
    "tags": []
   },
   "outputs": [
    {
     "name": "stderr",
     "output_type": "stream",
     "text": [
      "/tmp/ipykernel_1142003/2975798179.py:2: FutureWarning: You are using `torch.load` with `weights_only=False` (the current default value), which uses the default pickle module implicitly. It is possible to construct malicious pickle data which will execute arbitrary code during unpickling (See https://github.com/pytorch/pytorch/blob/main/SECURITY.md#untrusted-models for more details). In a future release, the default value for `weights_only` will be flipped to `True`. This limits the functions that could be executed during unpickling. Arbitrary objects will no longer be allowed to be loaded via this mode unless they are explicitly allowlisted by the user via `torch.serialization.add_safe_globals`. We recommend you start setting `weights_only=True` for any use case where you don't have full control of the loaded file. Please open an issue on GitHub for any issues related to this experimental feature.\n",
      "  lora_model_average = torch.load(file_path_average)\n"
     ]
    }
   ],
   "source": [
    "file_path_average=\"/dss/dsshome1/07/ra65bex2/srawat/contrastive_learning/v1.1/app_average/average_checkpoint_epoch_3.pth\"\n",
    "lora_model_average = torch.load(file_path_average)\n",
    "lora_model_average = lora_model_average.to(device)"
   ]
  },
  {
   "cell_type": "code",
   "execution_count": 22,
   "id": "49c10d3f-c53d-4222-aba4-0e763451baff",
   "metadata": {
    "execution": {
     "iopub.execute_input": "2025-03-05T00:41:02.283461Z",
     "iopub.status.busy": "2025-03-05T00:41:02.283321Z",
     "iopub.status.idle": "2025-03-05T00:41:02.286259Z",
     "shell.execute_reply": "2025-03-05T00:41:02.285962Z"
    },
    "papermill": {
     "duration": 0.008261,
     "end_time": "2025-03-05T00:41:02.286832",
     "exception": false,
     "start_time": "2025-03-05T00:41:02.278571",
     "status": "completed"
    },
    "tags": []
   },
   "outputs": [],
   "source": [
    "def avg_embedding(inputs, model):\n",
    "    input=model(**inputs)\n",
    "    input_last_hidden_state=input.last_hidden_state\n",
    "    input_attention_mask = inputs['attention_mask']\n",
    "    input_masked_embeddings = input_last_hidden_state * input_attention_mask.unsqueeze(-1)\n",
    "    input_sum_embeddings = torch.sum(input_masked_embeddings, dim=1)\n",
    "    input_token_counts = torch.sum(input_attention_mask, dim=1).unsqueeze(-1)\n",
    "    input_avg_embeddings = input_sum_embeddings / input_token_counts\n",
    "    return(input_avg_embeddings)"
   ]
  },
  {
   "cell_type": "code",
   "execution_count": 23,
   "id": "22570a1b-93bf-41ef-99fe-de41c3857b41",
   "metadata": {
    "execution": {
     "iopub.execute_input": "2025-03-05T00:41:02.296612Z",
     "iopub.status.busy": "2025-03-05T00:41:02.296485Z",
     "iopub.status.idle": "2025-03-05T00:41:02.305921Z",
     "shell.execute_reply": "2025-03-05T00:41:02.305356Z"
    },
    "papermill": {
     "duration": 0.014939,
     "end_time": "2025-03-05T00:41:02.306448",
     "exception": false,
     "start_time": "2025-03-05T00:41:02.291509",
     "status": "completed"
    },
    "tags": []
   },
   "outputs": [],
   "source": [
    "def evaluate_mrr_average(model, data_loader_val, distance_fn):\n",
    "    model.eval()  \n",
    "\n",
    "    total_rr = 0.0\n",
    "    num_queries = 0\n",
    "\n",
    "    with torch.no_grad():\n",
    "        for batch in data_loader_val:\n",
    "            anchor_text = batch[0]\n",
    "            positive_text = batch[1]\n",
    "            negative_texts = batch[2]\n",
    "\n",
    "            anchor_input = tokenizer(anchor_text, return_tensors='pt', padding=True, truncation=True, max_length=512).to(device)\n",
    "            positive_input = tokenizer(positive_text, return_tensors='pt', padding=True, truncation=True, max_length=512).to(device)\n",
    "\n",
    "            anchor_embedding = avg_embedding(anchor_input, model)\n",
    "            positive_embedding = avg_embedding(positive_input, model)\n",
    "            negative_embedding = [avg_embedding(tokenizer(neg, return_tensors='pt', padding=True, truncation=True, max_length=512).to(device), model) for neg in negative_texts]\n",
    "\n",
    "            pos_dist = distance_fn(anchor_embedding, positive_embedding)\n",
    "            neg_dist = torch.stack([distance_fn(anchor_embedding, neg) for neg in negative_embedding], dim=-1)\n",
    "            all_similarities=torch.cat([-pos_dist.unsqueeze(1), -neg_dist], dim=1)\n",
    "            \n",
    "            sorted_similarities, sorted_indices = torch.sort(all_similarities, dim=1, descending=True)\n",
    "\n",
    "            # Find the rank of the first relevant (positive) document\n",
    "            positive_rank = (sorted_indices == 0).nonzero(as_tuple=True)[1] + 1  # +1 to make rank 1-based\n",
    "            total_rr += torch.sum(1.0 / positive_rank.float()).item()  # Reciprocal rank\n",
    "            num_queries += len(positive_rank)\n",
    "\n",
    "    mrr = total_rr / num_queries\n",
    "    return mrr"
   ]
  },
  {
   "cell_type": "code",
   "execution_count": 24,
   "id": "82977667-a984-467e-9eb6-9d6520ecb3b8",
   "metadata": {
    "execution": {
     "iopub.execute_input": "2025-03-05T00:41:02.316264Z",
     "iopub.status.busy": "2025-03-05T00:41:02.315955Z",
     "iopub.status.idle": "2025-03-05T00:41:54.787386Z",
     "shell.execute_reply": "2025-03-05T00:41:54.786697Z"
    },
    "papermill": {
     "duration": 52.485256,
     "end_time": "2025-03-05T00:41:54.796287",
     "exception": false,
     "start_time": "2025-03-05T00:41:02.311031",
     "status": "completed"
    },
    "tags": []
   },
   "outputs": [
    {
     "name": "stdout",
     "output_type": "stream",
     "text": [
      "0.605008335644479\n"
     ]
    }
   ],
   "source": [
    "mrr_validation_average = evaluate_mrr_average(lora_model_average, data_loader, cosine_distance)\n",
    "print(mrr_validation_average)"
   ]
  },
  {
   "cell_type": "code",
   "execution_count": null,
   "id": "966c23c7-dc92-49e8-bb1f-1520c0ccd13b",
   "metadata": {
    "papermill": {
     "duration": 0.004946,
     "end_time": "2025-03-05T00:41:54.808983",
     "exception": false,
     "start_time": "2025-03-05T00:41:54.804037",
     "status": "completed"
    },
    "tags": []
   },
   "outputs": [],
   "source": []
  },
  {
   "cell_type": "code",
   "execution_count": 25,
   "id": "af58281c-1786-4bda-9eec-0fa0f127d140",
   "metadata": {
    "execution": {
     "iopub.execute_input": "2025-03-05T00:41:54.819455Z",
     "iopub.status.busy": "2025-03-05T00:41:54.819012Z",
     "iopub.status.idle": "2025-03-05T00:41:56.179863Z",
     "shell.execute_reply": "2025-03-05T00:41:56.179167Z"
    },
    "papermill": {
     "duration": 1.367102,
     "end_time": "2025-03-05T00:41:56.180659",
     "exception": false,
     "start_time": "2025-03-05T00:41:54.813557",
     "status": "completed"
    },
    "tags": []
   },
   "outputs": [
    {
     "name": "stderr",
     "output_type": "stream",
     "text": [
      "/tmp/ipykernel_1142003/2502257612.py:2: FutureWarning: You are using `torch.load` with `weights_only=False` (the current default value), which uses the default pickle module implicitly. It is possible to construct malicious pickle data which will execute arbitrary code during unpickling (See https://github.com/pytorch/pytorch/blob/main/SECURITY.md#untrusted-models for more details). In a future release, the default value for `weights_only` will be flipped to `True`. This limits the functions that could be executed during unpickling. Arbitrary objects will no longer be allowed to be loaded via this mode unless they are explicitly allowlisted by the user via `torch.serialization.add_safe_globals`. We recommend you start setting `weights_only=True` for any use case where you don't have full control of the loaded file. Please open an issue on GitHub for any issues related to this experimental feature.\n",
      "  lora_model_hyperbolic = torch.load(file_path_hyperbolic)\n"
     ]
    }
   ],
   "source": [
    "file_path_hyperbolic=\"/dss/dsshome1/07/ra65bex2/srawat/contrastive_learning/v1.1/0.1hyperbolic/hyperbolic_lora_checkpoint_epoch_3.pth\"\n",
    "lora_model_hyperbolic = torch.load(file_path_hyperbolic)\n",
    "lora_model_hyperbolic = lora_model_hyperbolic.to(device)"
   ]
  },
  {
   "cell_type": "code",
   "execution_count": 26,
   "id": "d6f9507b-01e9-49d0-8327-760677bfcf0b",
   "metadata": {
    "execution": {
     "iopub.execute_input": "2025-03-05T00:41:56.193500Z",
     "iopub.status.busy": "2025-03-05T00:41:56.193356Z",
     "iopub.status.idle": "2025-03-05T00:41:56.196868Z",
     "shell.execute_reply": "2025-03-05T00:41:56.196345Z"
    },
    "papermill": {
     "duration": 0.009578,
     "end_time": "2025-03-05T00:41:56.197473",
     "exception": false,
     "start_time": "2025-03-05T00:41:56.187895",
     "status": "completed"
    },
    "tags": []
   },
   "outputs": [],
   "source": [
    "def lorentzian_distance(x, y):\n",
    "    \n",
    "    dot_product = torch.sum(x * y, dim=-1)\n",
    "    norm_x = torch.norm(x, dim=-1)\n",
    "    norm_y = torch.norm(y, dim=-1)\n",
    "    \n",
    "    distance = torch.acosh(-dot_product + torch.sqrt((1 + norm_x**2) * (1 + norm_y**2)))\n",
    "    return distance"
   ]
  },
  {
   "cell_type": "code",
   "execution_count": 27,
   "id": "de4ecc53-8b64-4fee-bfbf-d3b85d441d1f",
   "metadata": {
    "execution": {
     "iopub.execute_input": "2025-03-05T00:41:56.207850Z",
     "iopub.status.busy": "2025-03-05T00:41:56.207721Z",
     "iopub.status.idle": "2025-03-05T00:41:56.242278Z",
     "shell.execute_reply": "2025-03-05T00:41:56.241800Z"
    },
    "papermill": {
     "duration": 0.040477,
     "end_time": "2025-03-05T00:41:56.242996",
     "exception": false,
     "start_time": "2025-03-05T00:41:56.202519",
     "status": "completed"
    },
    "tags": []
   },
   "outputs": [],
   "source": [
    "def expm_o(v, c=1.0):\n",
    "    c = torch.tensor(c)\n",
    "    vspace = v\n",
    "    vnorm = torch.norm(v, p=2, dim=-1, keepdim=True)\n",
    "    xspace = torch.sinh(torch.sqrt(c) * vnorm) * vspace / (torch.sqrt(c) * vnorm)\n",
    "    batch_min = xspace.min(dim=1, keepdim=True).values\n",
    "    batch_max = xspace.max(dim=1, keepdim=True).values\n",
    "    xspace_scaled=(xspace - batch_min) / (batch_max - batch_min)\n",
    "    return xspace_scaled"
   ]
  },
  {
   "cell_type": "code",
   "execution_count": 28,
   "id": "c6639968-6b1d-4601-a69f-6e83b9863ab6",
   "metadata": {
    "execution": {
     "iopub.execute_input": "2025-03-05T00:41:56.256206Z",
     "iopub.status.busy": "2025-03-05T00:41:56.256076Z",
     "iopub.status.idle": "2025-03-05T00:41:56.270409Z",
     "shell.execute_reply": "2025-03-05T00:41:56.269947Z"
    },
    "papermill": {
     "duration": 0.021285,
     "end_time": "2025-03-05T00:41:56.271159",
     "exception": false,
     "start_time": "2025-03-05T00:41:56.249874",
     "status": "completed"
    },
    "tags": []
   },
   "outputs": [],
   "source": [
    "def evaluate_mrr_hyperbolic(model1, data_loader_val, distance_fn):\n",
    "    model1.eval()\n",
    "    \n",
    "    total_rr = 0.0\n",
    "    num_queries = 0\n",
    "\n",
    "    with torch.no_grad():\n",
    "        for batch in data_loader_val:\n",
    "            anchor_text = batch[0]\n",
    "            positive_text = batch[1]\n",
    "            negative_texts = batch[2]\n",
    "\n",
    "            anchor_input = tokenizer(anchor_text, return_tensors='pt', padding=True, truncation=True, max_length=512).to(device)\n",
    "            positive_input = tokenizer(positive_text, return_tensors='pt', padding=True, truncation=True, max_length=512).to(device)\n",
    "\n",
    "            anchor_embedding = expm_o(model1(**anchor_input).last_hidden_state[:, 0, :])\n",
    "            positive_embedding = expm_o(model1(**positive_input).last_hidden_state[:, 0, :])\n",
    "            negative_embedding = [expm_o(model1(**tokenizer(neg, return_tensors='pt', padding=True, truncation=True, max_length=512).to(device)).last_hidden_state[:, 0, :]) for neg in negative_texts]\n",
    "\n",
    "            pos_dist = distance_fn(anchor_embedding, positive_embedding)\n",
    "            neg_dist = torch.stack([distance_fn(anchor_embedding, neg) for neg in negative_embedding], dim=-1)\n",
    "            all_similarities=torch.cat([-pos_dist.unsqueeze(1), -neg_dist], dim=1)\n",
    "\n",
    "            sorted_similarities, sorted_indices = torch.sort(all_similarities, dim=1, descending=True)\n",
    "\n",
    "            # Find the rank of the first relevant (positive) document\n",
    "            positive_rank = (sorted_indices == 0).nonzero(as_tuple=True)[1] + 1  # +1 to make rank 1-based\n",
    "            total_rr += torch.sum(1.0 / positive_rank.float()).item()  # Reciprocal rank\n",
    "            num_queries += len(positive_rank)\n",
    "            \n",
    "    mrr = total_rr / num_queries\n",
    "    return mrr"
   ]
  },
  {
   "cell_type": "code",
   "execution_count": 29,
   "id": "9c54c77e-2dde-4c88-9eaf-439a409e845e",
   "metadata": {
    "execution": {
     "iopub.execute_input": "2025-03-05T00:41:56.283368Z",
     "iopub.status.busy": "2025-03-05T00:41:56.283242Z",
     "iopub.status.idle": "2025-03-05T00:42:49.188480Z",
     "shell.execute_reply": "2025-03-05T00:42:49.187854Z"
    },
    "papermill": {
     "duration": 52.918973,
     "end_time": "2025-03-05T00:42:49.196743",
     "exception": false,
     "start_time": "2025-03-05T00:41:56.277770",
     "status": "completed"
    },
    "tags": []
   },
   "outputs": [
    {
     "name": "stdout",
     "output_type": "stream",
     "text": [
      "0.42539853185181276\n"
     ]
    }
   ],
   "source": [
    "mrr_validation_hyperbolic = evaluate_mrr_hyperbolic(model1=lora_model_hyperbolic, data_loader_val=data_loader,distance_fn=lorentzian_distance)\n",
    "print(mrr_validation_hyperbolic)"
   ]
  },
  {
   "cell_type": "code",
   "execution_count": null,
   "id": "3e097240-0b21-4a85-8959-2c74522b15a8",
   "metadata": {
    "papermill": {
     "duration": 0.004963,
     "end_time": "2025-03-05T00:42:49.208724",
     "exception": false,
     "start_time": "2025-03-05T00:42:49.203761",
     "status": "completed"
    },
    "tags": []
   },
   "outputs": [],
   "source": []
  },
  {
   "cell_type": "code",
   "execution_count": 30,
   "id": "d883371b-b6e4-40de-b212-93ed5fcb6061",
   "metadata": {
    "execution": {
     "iopub.execute_input": "2025-03-05T00:42:49.218828Z",
     "iopub.status.busy": "2025-03-05T00:42:49.218523Z",
     "iopub.status.idle": "2025-03-05T00:42:49.229991Z",
     "shell.execute_reply": "2025-03-05T00:42:49.229610Z"
    },
    "papermill": {
     "duration": 0.017236,
     "end_time": "2025-03-05T00:42:49.230572",
     "exception": false,
     "start_time": "2025-03-05T00:42:49.213336",
     "status": "completed"
    },
    "tags": []
   },
   "outputs": [
    {
     "name": "stdout",
     "output_type": "stream",
     "text": [
      "Median Query Length: 174.0\n"
     ]
    }
   ],
   "source": [
    "import statistics\n",
    "print(\"Median Query Length:\", statistics.median(query_lengths))"
   ]
  },
  {
   "cell_type": "code",
   "execution_count": 31,
   "id": "4b02b505-a8f9-480d-959e-effcbc2ed3a2",
   "metadata": {
    "execution": {
     "iopub.execute_input": "2025-03-05T00:42:49.240983Z",
     "iopub.status.busy": "2025-03-05T00:42:49.240854Z",
     "iopub.status.idle": "2025-03-05T00:42:49.257076Z",
     "shell.execute_reply": "2025-03-05T00:42:49.256740Z"
    },
    "papermill": {
     "duration": 0.022223,
     "end_time": "2025-03-05T00:42:49.257629",
     "exception": false,
     "start_time": "2025-03-05T00:42:49.235406",
     "status": "completed"
    },
    "tags": []
   },
   "outputs": [
    {
     "data": {
      "text/plain": [
       "0.5842969371624115"
      ]
     },
     "execution_count": 31,
     "metadata": {},
     "output_type": "execute_result"
    }
   ],
   "source": [
    "mrr_validation_baseline"
   ]
  },
  {
   "cell_type": "code",
   "execution_count": 32,
   "id": "5c10dccb-fbc7-448b-b3d9-4d7e045dafd3",
   "metadata": {
    "execution": {
     "iopub.execute_input": "2025-03-05T00:42:49.267709Z",
     "iopub.status.busy": "2025-03-05T00:42:49.267579Z",
     "iopub.status.idle": "2025-03-05T00:42:49.276984Z",
     "shell.execute_reply": "2025-03-05T00:42:49.276581Z"
    },
    "papermill": {
     "duration": 0.015154,
     "end_time": "2025-03-05T00:42:49.277628",
     "exception": false,
     "start_time": "2025-03-05T00:42:49.262474",
     "status": "completed"
    },
    "tags": []
   },
   "outputs": [
    {
     "data": {
      "text/plain": [
       "0.605008335644479"
      ]
     },
     "execution_count": 32,
     "metadata": {},
     "output_type": "execute_result"
    }
   ],
   "source": [
    "mrr_validation_average"
   ]
  },
  {
   "cell_type": "code",
   "execution_count": 33,
   "id": "b9c22c87-c20f-4a86-a8d3-d941340ea726",
   "metadata": {
    "execution": {
     "iopub.execute_input": "2025-03-05T00:42:49.288513Z",
     "iopub.status.busy": "2025-03-05T00:42:49.288123Z",
     "iopub.status.idle": "2025-03-05T00:42:49.297606Z",
     "shell.execute_reply": "2025-03-05T00:42:49.297239Z"
    },
    "papermill": {
     "duration": 0.015676,
     "end_time": "2025-03-05T00:42:49.298161",
     "exception": false,
     "start_time": "2025-03-05T00:42:49.282485",
     "status": "completed"
    },
    "tags": []
   },
   "outputs": [
    {
     "data": {
      "text/plain": [
       "0.42539853185181276"
      ]
     },
     "execution_count": 33,
     "metadata": {},
     "output_type": "execute_result"
    }
   ],
   "source": [
    "mrr_validation_hyperbolic"
   ]
  }
 ],
 "metadata": {
  "kernelspec": {
   "display_name": "Python (myenv)",
   "language": "python",
   "name": "myenv"
  },
  "language_info": {
   "codemirror_mode": {
    "name": "ipython",
    "version": 3
   },
   "file_extension": ".py",
   "mimetype": "text/x-python",
   "name": "python",
   "nbconvert_exporter": "python",
   "pygments_lexer": "ipython3",
   "version": "3.12.7"
  },
  "papermill": {
   "default_parameters": {},
   "duration": 212.608142,
   "end_time": "2025-03-05T00:42:52.276134",
   "environment_variables": {},
   "exception": null,
   "input_path": "arguana.ipynb",
   "output_path": "arguana_output.ipynb",
   "parameters": {},
   "start_time": "2025-03-05T00:39:19.667992",
   "version": "2.6.0"
  },
  "widgets": {
   "application/vnd.jupyter.widget-state+json": {
    "state": {
     "0b7bdeb2336b4c2eb917d6b993ebca3d": {
      "model_module": "@jupyter-widgets/base",
      "model_module_version": "2.0.0",
      "model_name": "LayoutModel",
      "state": {
       "_model_module": "@jupyter-widgets/base",
       "_model_module_version": "2.0.0",
       "_model_name": "LayoutModel",
       "_view_count": null,
       "_view_module": "@jupyter-widgets/base",
       "_view_module_version": "2.0.0",
       "_view_name": "LayoutView",
       "align_content": null,
       "align_items": null,
       "align_self": null,
       "border_bottom": null,
       "border_left": null,
       "border_right": null,
       "border_top": null,
       "bottom": null,
       "display": null,
       "flex": null,
       "flex_flow": null,
       "grid_area": null,
       "grid_auto_columns": null,
       "grid_auto_flow": null,
       "grid_auto_rows": null,
       "grid_column": null,
       "grid_gap": null,
       "grid_row": null,
       "grid_template_areas": null,
       "grid_template_columns": null,
       "grid_template_rows": null,
       "height": null,
       "justify_content": null,
       "justify_items": null,
       "left": null,
       "margin": null,
       "max_height": null,
       "max_width": null,
       "min_height": null,
       "min_width": null,
       "object_fit": null,
       "object_position": null,
       "order": null,
       "overflow": null,
       "padding": null,
       "right": null,
       "top": null,
       "visibility": null,
       "width": null
      }
     },
     "0cab8f1b735e42f5894e3b90a33cca39": {
      "model_module": "@jupyter-widgets/controls",
      "model_module_version": "2.0.0",
      "model_name": "HTMLStyleModel",
      "state": {
       "_model_module": "@jupyter-widgets/controls",
       "_model_module_version": "2.0.0",
       "_model_name": "HTMLStyleModel",
       "_view_count": null,
       "_view_module": "@jupyter-widgets/base",
       "_view_module_version": "2.0.0",
       "_view_name": "StyleView",
       "background": null,
       "description_width": "",
       "font_size": null,
       "text_color": null
      }
     },
     "22e3694652564b3ba35bff5b2f3e7f07": {
      "model_module": "@jupyter-widgets/base",
      "model_module_version": "2.0.0",
      "model_name": "LayoutModel",
      "state": {
       "_model_module": "@jupyter-widgets/base",
       "_model_module_version": "2.0.0",
       "_model_name": "LayoutModel",
       "_view_count": null,
       "_view_module": "@jupyter-widgets/base",
       "_view_module_version": "2.0.0",
       "_view_name": "LayoutView",
       "align_content": null,
       "align_items": null,
       "align_self": null,
       "border_bottom": null,
       "border_left": null,
       "border_right": null,
       "border_top": null,
       "bottom": null,
       "display": null,
       "flex": null,
       "flex_flow": null,
       "grid_area": null,
       "grid_auto_columns": null,
       "grid_auto_flow": null,
       "grid_auto_rows": null,
       "grid_column": null,
       "grid_gap": null,
       "grid_row": null,
       "grid_template_areas": null,
       "grid_template_columns": null,
       "grid_template_rows": null,
       "height": null,
       "justify_content": null,
       "justify_items": null,
       "left": null,
       "margin": null,
       "max_height": null,
       "max_width": null,
       "min_height": null,
       "min_width": null,
       "object_fit": null,
       "object_position": null,
       "order": null,
       "overflow": null,
       "padding": null,
       "right": null,
       "top": null,
       "visibility": null,
       "width": null
      }
     },
     "3a4a58b90f1f4137aa4da5b605321b92": {
      "model_module": "@jupyter-widgets/controls",
      "model_module_version": "2.0.0",
      "model_name": "HTMLModel",
      "state": {
       "_dom_classes": [],
       "_model_module": "@jupyter-widgets/controls",
       "_model_module_version": "2.0.0",
       "_model_name": "HTMLModel",
       "_view_count": null,
       "_view_module": "@jupyter-widgets/controls",
       "_view_module_version": "2.0.0",
       "_view_name": "HTMLView",
       "description": "",
       "description_allow_html": false,
       "layout": "IPY_MODEL_0b7bdeb2336b4c2eb917d6b993ebca3d",
       "placeholder": "​",
       "style": "IPY_MODEL_ea5e185050954298a70289fdf0cadefe",
       "tabbable": null,
       "tooltip": null,
       "value": " 8674/8674 [00:00&lt;00:00, 140059.34it/s]"
      }
     },
     "54b3024ff1f54ed7b0c749550497277b": {
      "model_module": "@jupyter-widgets/base",
      "model_module_version": "2.0.0",
      "model_name": "LayoutModel",
      "state": {
       "_model_module": "@jupyter-widgets/base",
       "_model_module_version": "2.0.0",
       "_model_name": "LayoutModel",
       "_view_count": null,
       "_view_module": "@jupyter-widgets/base",
       "_view_module_version": "2.0.0",
       "_view_name": "LayoutView",
       "align_content": null,
       "align_items": null,
       "align_self": null,
       "border_bottom": null,
       "border_left": null,
       "border_right": null,
       "border_top": null,
       "bottom": null,
       "display": null,
       "flex": null,
       "flex_flow": null,
       "grid_area": null,
       "grid_auto_columns": null,
       "grid_auto_flow": null,
       "grid_auto_rows": null,
       "grid_column": null,
       "grid_gap": null,
       "grid_row": null,
       "grid_template_areas": null,
       "grid_template_columns": null,
       "grid_template_rows": null,
       "height": null,
       "justify_content": null,
       "justify_items": null,
       "left": null,
       "margin": null,
       "max_height": null,
       "max_width": null,
       "min_height": null,
       "min_width": null,
       "object_fit": null,
       "object_position": null,
       "order": null,
       "overflow": null,
       "padding": null,
       "right": null,
       "top": null,
       "visibility": null,
       "width": null
      }
     },
     "6ea84ff1140845158e9c3eb8d54de6ec": {
      "model_module": "@jupyter-widgets/controls",
      "model_module_version": "2.0.0",
      "model_name": "HBoxModel",
      "state": {
       "_dom_classes": [],
       "_model_module": "@jupyter-widgets/controls",
       "_model_module_version": "2.0.0",
       "_model_name": "HBoxModel",
       "_view_count": null,
       "_view_module": "@jupyter-widgets/controls",
       "_view_module_version": "2.0.0",
       "_view_name": "HBoxView",
       "box_style": "",
       "children": [
        "IPY_MODEL_7861185015504217b9fe571645158ed8",
        "IPY_MODEL_e20a2dd448624bfab4819cd60a145984",
        "IPY_MODEL_3a4a58b90f1f4137aa4da5b605321b92"
       ],
       "layout": "IPY_MODEL_a193a28dd7804ab99a034c24bb4e13df",
       "tabbable": null,
       "tooltip": null
      }
     },
     "7861185015504217b9fe571645158ed8": {
      "model_module": "@jupyter-widgets/controls",
      "model_module_version": "2.0.0",
      "model_name": "HTMLModel",
      "state": {
       "_dom_classes": [],
       "_model_module": "@jupyter-widgets/controls",
       "_model_module_version": "2.0.0",
       "_model_name": "HTMLModel",
       "_view_count": null,
       "_view_module": "@jupyter-widgets/controls",
       "_view_module_version": "2.0.0",
       "_view_name": "HTMLView",
       "description": "",
       "description_allow_html": false,
       "layout": "IPY_MODEL_22e3694652564b3ba35bff5b2f3e7f07",
       "placeholder": "​",
       "style": "IPY_MODEL_0cab8f1b735e42f5894e3b90a33cca39",
       "tabbable": null,
       "tooltip": null,
       "value": "100%"
      }
     },
     "a193a28dd7804ab99a034c24bb4e13df": {
      "model_module": "@jupyter-widgets/base",
      "model_module_version": "2.0.0",
      "model_name": "LayoutModel",
      "state": {
       "_model_module": "@jupyter-widgets/base",
       "_model_module_version": "2.0.0",
       "_model_name": "LayoutModel",
       "_view_count": null,
       "_view_module": "@jupyter-widgets/base",
       "_view_module_version": "2.0.0",
       "_view_name": "LayoutView",
       "align_content": null,
       "align_items": null,
       "align_self": null,
       "border_bottom": null,
       "border_left": null,
       "border_right": null,
       "border_top": null,
       "bottom": null,
       "display": null,
       "flex": null,
       "flex_flow": null,
       "grid_area": null,
       "grid_auto_columns": null,
       "grid_auto_flow": null,
       "grid_auto_rows": null,
       "grid_column": null,
       "grid_gap": null,
       "grid_row": null,
       "grid_template_areas": null,
       "grid_template_columns": null,
       "grid_template_rows": null,
       "height": null,
       "justify_content": null,
       "justify_items": null,
       "left": null,
       "margin": null,
       "max_height": null,
       "max_width": null,
       "min_height": null,
       "min_width": null,
       "object_fit": null,
       "object_position": null,
       "order": null,
       "overflow": null,
       "padding": null,
       "right": null,
       "top": null,
       "visibility": null,
       "width": null
      }
     },
     "ac4455dfec7f4486a90fd22816de64e2": {
      "model_module": "@jupyter-widgets/controls",
      "model_module_version": "2.0.0",
      "model_name": "ProgressStyleModel",
      "state": {
       "_model_module": "@jupyter-widgets/controls",
       "_model_module_version": "2.0.0",
       "_model_name": "ProgressStyleModel",
       "_view_count": null,
       "_view_module": "@jupyter-widgets/base",
       "_view_module_version": "2.0.0",
       "_view_name": "StyleView",
       "bar_color": null,
       "description_width": ""
      }
     },
     "e20a2dd448624bfab4819cd60a145984": {
      "model_module": "@jupyter-widgets/controls",
      "model_module_version": "2.0.0",
      "model_name": "FloatProgressModel",
      "state": {
       "_dom_classes": [],
       "_model_module": "@jupyter-widgets/controls",
       "_model_module_version": "2.0.0",
       "_model_name": "FloatProgressModel",
       "_view_count": null,
       "_view_module": "@jupyter-widgets/controls",
       "_view_module_version": "2.0.0",
       "_view_name": "ProgressView",
       "bar_style": "success",
       "description": "",
       "description_allow_html": false,
       "layout": "IPY_MODEL_54b3024ff1f54ed7b0c749550497277b",
       "max": 8674.0,
       "min": 0.0,
       "orientation": "horizontal",
       "style": "IPY_MODEL_ac4455dfec7f4486a90fd22816de64e2",
       "tabbable": null,
       "tooltip": null,
       "value": 8674.0
      }
     },
     "ea5e185050954298a70289fdf0cadefe": {
      "model_module": "@jupyter-widgets/controls",
      "model_module_version": "2.0.0",
      "model_name": "HTMLStyleModel",
      "state": {
       "_model_module": "@jupyter-widgets/controls",
       "_model_module_version": "2.0.0",
       "_model_name": "HTMLStyleModel",
       "_view_count": null,
       "_view_module": "@jupyter-widgets/base",
       "_view_module_version": "2.0.0",
       "_view_name": "StyleView",
       "background": null,
       "description_width": "",
       "font_size": null,
       "text_color": null
      }
     }
    },
    "version_major": 2,
    "version_minor": 0
   }
  }
 },
 "nbformat": 4,
 "nbformat_minor": 5
}