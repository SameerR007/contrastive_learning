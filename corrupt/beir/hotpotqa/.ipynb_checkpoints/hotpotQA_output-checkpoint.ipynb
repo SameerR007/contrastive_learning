{
 "cells": [
  {
   "cell_type": "code",
   "execution_count": 1,
   "id": "f6d4b65f-fa6b-4517-8694-8627bc49833b",
   "metadata": {
    "execution": {
     "iopub.execute_input": "2025-03-05T15:39:27.766091Z",
     "iopub.status.busy": "2025-03-05T15:39:27.765957Z",
     "iopub.status.idle": "2025-03-05T15:39:27.909239Z",
     "shell.execute_reply": "2025-03-05T15:39:27.908805Z"
    },
    "papermill": {
     "duration": 0.148451,
     "end_time": "2025-03-05T15:39:27.909904",
     "exception": false,
     "start_time": "2025-03-05T15:39:27.761453",
     "status": "completed"
    },
    "tags": []
   },
   "outputs": [
    {
     "name": "stderr",
     "output_type": "stream",
     "text": [
      "/dss/dsshome1/07/ra65bex2/srawat/myenv/lib/python3.12/site-packages/beir/datasets/data_loader.py:8: TqdmExperimentalWarning: Using `tqdm.autonotebook.tqdm` in notebook mode. Use `tqdm.tqdm` instead to force console mode (e.g. in jupyter console)\n",
      "  from tqdm.autonotebook import tqdm\n"
     ]
    }
   ],
   "source": [
    "from beir.datasets.data_loader import GenericDataLoader"
   ]
  },
  {
   "cell_type": "code",
   "execution_count": 2,
   "id": "a91d6914-e301-422c-b839-1fafeb1e8fa4",
   "metadata": {
    "execution": {
     "iopub.execute_input": "2025-03-05T15:39:27.917719Z",
     "iopub.status.busy": "2025-03-05T15:39:27.917576Z",
     "iopub.status.idle": "2025-03-05T15:39:27.919942Z",
     "shell.execute_reply": "2025-03-05T15:39:27.919523Z"
    },
    "papermill": {
     "duration": 0.006872,
     "end_time": "2025-03-05T15:39:27.920577",
     "exception": false,
     "start_time": "2025-03-05T15:39:27.913705",
     "status": "completed"
    },
    "tags": []
   },
   "outputs": [],
   "source": [
    "data_path = '/dss/dsshome1/07/ra65bex2/srawat/hotpotqa/hotpotqa'"
   ]
  },
  {
   "cell_type": "code",
   "execution_count": 3,
   "id": "41e17333-2c34-4b7b-91f6-3cbd3972f0d6",
   "metadata": {
    "execution": {
     "iopub.execute_input": "2025-03-05T15:39:27.928768Z",
     "iopub.status.busy": "2025-03-05T15:39:27.928473Z",
     "iopub.status.idle": "2025-03-05T15:39:52.648750Z",
     "shell.execute_reply": "2025-03-05T15:39:52.648115Z"
    },
    "papermill": {
     "duration": 24.725437,
     "end_time": "2025-03-05T15:39:52.649486",
     "exception": false,
     "start_time": "2025-03-05T15:39:27.924049",
     "status": "completed"
    },
    "tags": []
   },
   "outputs": [
    {
     "data": {
      "application/vnd.jupyter.widget-view+json": {
       "model_id": "38345c7256324a86bd076d4d08c5979d",
       "version_major": 2,
       "version_minor": 0
      },
      "text/plain": [
       "  0%|          | 0/5233329 [00:00<?, ?it/s]"
      ]
     },
     "metadata": {},
     "output_type": "display_data"
    }
   ],
   "source": [
    "corpus, queries, qrels = GenericDataLoader(data_path).load(split=\"test\")"
   ]
  },
  {
   "cell_type": "code",
   "execution_count": 4,
   "id": "1d653c60-435a-4e10-8506-6ef5d01f8675",
   "metadata": {
    "execution": {
     "iopub.execute_input": "2025-03-05T15:39:52.664532Z",
     "iopub.status.busy": "2025-03-05T15:39:52.664207Z",
     "iopub.status.idle": "2025-03-05T15:40:05.995149Z",
     "shell.execute_reply": "2025-03-05T15:40:05.994679Z"
    },
    "papermill": {
     "duration": 13.336093,
     "end_time": "2025-03-05T15:40:05.995874",
     "exception": false,
     "start_time": "2025-03-05T15:39:52.659781",
     "status": "completed"
    },
    "tags": []
   },
   "outputs": [
    {
     "name": "stderr",
     "output_type": "stream",
     "text": [
      "[nltk_data] Downloading package stopwords to\n",
      "[nltk_data]     /dss/dsshome1/07/ra65bex2/nltk_data...\n",
      "[nltk_data]   Package stopwords is already up-to-date!\n",
      "[nltk_data] Downloading package wordnet to\n",
      "[nltk_data]     /dss/dsshome1/07/ra65bex2/nltk_data...\n",
      "[nltk_data]   Package wordnet is already up-to-date!\n"
     ]
    }
   ],
   "source": [
    "import random\n",
    "import re\n",
    "import nltk\n",
    "from nltk.corpus import stopwords, wordnet\n",
    "nltk.download('stopwords')\n",
    "nltk.download('wordnet')\n",
    "stop_words = set(stopwords.words('english'))\n",
    "def clean_text(text):\n",
    "    return re.sub(r'[^\\w\\s.!?]', '', text)\n",
    "def select_words(text, percentage):\n",
    "    words = [w for w in text.split() if w.lower() not in stop_words]\n",
    "    return random.sample(words, min(int(percentage*len(words)), len(words)))\n",
    "def introduce_typo(word):\n",
    "    if len(word) > 1:\n",
    "        idx = random.randint(0, len(word) - 1)\n",
    "        return word[:idx] + random.choice('abcdefghijklmnopqrstuvwxyz') + word[idx+1:]\n",
    "    return word\n",
    "def introduce_noise(word):\n",
    "    noise_chars = ['@', '#', '$', '%', '&', '*']\n",
    "    if len(word) > 1:\n",
    "        idx = random.randint(0, len(word) - 1)\n",
    "        return word[:idx] + random.choice(noise_chars) + word[idx+1:]\n",
    "    return word\n",
    "def replace_with_synonym(word):\n",
    "    synonyms = [syn.lemmas()[0].name() for syn in wordnet.synsets(word) if syn.lemmas()]\n",
    "    return random.choice(synonyms) if synonyms else word\n",
    "def corrupt_word(word, method):\n",
    "    if method == 'typo':\n",
    "        return introduce_typo(word)\n",
    "    elif method == 'noise':\n",
    "        return introduce_noise(word)\n",
    "    elif method == 'synonym':\n",
    "        return replace_with_synonym(word)\n",
    "    return word\n",
    "def corrupt_text(text):\n",
    "    corrupted_words = []  \n",
    "    words_to_corrupt=select_words(clean_text(text), percentage=0.5)\n",
    "    for word in clean_text(text).split():\n",
    "        if word in words_to_corrupt:\n",
    "            corruption_method = random.choice(['typo', 'noise', 'synonym'])\n",
    "            corrupted_words.append(corrupt_word(word, corruption_method))\n",
    "        else:\n",
    "            corrupted_words.append(word)\n",
    "    return ' '.join(corrupted_words)"
   ]
  },
  {
   "cell_type": "code",
   "execution_count": 5,
   "id": "a29044d5-3952-4f3d-aa43-e1efd34fcad3",
   "metadata": {
    "execution": {
     "iopub.execute_input": "2025-03-05T15:40:06.006327Z",
     "iopub.status.busy": "2025-03-05T15:40:06.006112Z",
     "iopub.status.idle": "2025-03-05T19:35:46.586056Z",
     "shell.execute_reply": "2025-03-05T19:35:46.585305Z"
    },
    "papermill": {
     "duration": 14140.586002,
     "end_time": "2025-03-05T19:35:46.587905",
     "exception": false,
     "start_time": "2025-03-05T15:40:06.001903",
     "status": "completed"
    },
    "tags": []
   },
   "outputs": [],
   "source": [
    "contrastive_pairs=[]\n",
    "query_lengths = []\n",
    "import random\n",
    "c=0\n",
    "for query_id, relevant_docs in qrels.items():\n",
    "    try:\n",
    "        query_text = queries[query_id]\n",
    "        query_lengths.append(len(query_text.split()))\n",
    "        for doc_id in relevant_docs:\n",
    "            positive = corpus[doc_id][\"text\"]\n",
    "        #print(relevant_docs)\n",
    "        positive_doc_ids = set(relevant_docs)\n",
    "        all_doc_ids = set(corpus.keys())\n",
    "        negative_doc_ids = all_doc_ids - positive_doc_ids\n",
    "        negative_doc_ids=list(negative_doc_ids)\n",
    "        negative_doc_samples = random.sample(negative_doc_ids, k=5)\n",
    "        negatives=[]\n",
    "        for neg_doc_id in negative_doc_samples:\n",
    "            negative_doc_text = corpus[neg_doc_id][\"text\"]\n",
    "            negatives.append(negative_doc_text)\n",
    "        contrastive_pairs.append({\n",
    "            \"anchor\": corrupt_text(query_text),\n",
    "            \"positive\": positive,\n",
    "            \"negatives\": negatives\n",
    "        })\n",
    "    except:\n",
    "        c=c+1"
   ]
  },
  {
   "cell_type": "code",
   "execution_count": 6,
   "id": "49721946-fff3-4690-bd92-d981cecdf62b",
   "metadata": {
    "execution": {
     "iopub.execute_input": "2025-03-05T19:35:46.611854Z",
     "iopub.status.busy": "2025-03-05T19:35:46.611434Z",
     "iopub.status.idle": "2025-03-05T19:35:46.615590Z",
     "shell.execute_reply": "2025-03-05T19:35:46.615272Z"
    },
    "papermill": {
     "duration": 0.009529,
     "end_time": "2025-03-05T19:35:46.616328",
     "exception": false,
     "start_time": "2025-03-05T19:35:46.606799",
     "status": "completed"
    },
    "tags": []
   },
   "outputs": [
    {
     "data": {
      "text/plain": [
       "0"
      ]
     },
     "execution_count": 6,
     "metadata": {},
     "output_type": "execute_result"
    }
   ],
   "source": [
    "c"
   ]
  },
  {
   "cell_type": "code",
   "execution_count": 7,
   "id": "de8ef367-dcb4-4bb6-af3a-20f190930ed1",
   "metadata": {
    "execution": {
     "iopub.execute_input": "2025-03-05T19:35:46.624335Z",
     "iopub.status.busy": "2025-03-05T19:35:46.624200Z",
     "iopub.status.idle": "2025-03-05T19:35:46.712385Z",
     "shell.execute_reply": "2025-03-05T19:35:46.712040Z"
    },
    "papermill": {
     "duration": 0.093026,
     "end_time": "2025-03-05T19:35:46.713134",
     "exception": false,
     "start_time": "2025-03-05T19:35:46.620108",
     "status": "completed"
    },
    "tags": []
   },
   "outputs": [
    {
     "data": {
      "text/plain": [
       "7405"
      ]
     },
     "execution_count": 7,
     "metadata": {},
     "output_type": "execute_result"
    }
   ],
   "source": [
    "len(contrastive_pairs)"
   ]
  },
  {
   "cell_type": "code",
   "execution_count": 8,
   "id": "8a2ccada-419a-4f79-ad4d-b605780281a3",
   "metadata": {
    "execution": {
     "iopub.execute_input": "2025-03-05T19:35:46.721694Z",
     "iopub.status.busy": "2025-03-05T19:35:46.721473Z",
     "iopub.status.idle": "2025-03-05T19:35:46.727985Z",
     "shell.execute_reply": "2025-03-05T19:35:46.727628Z"
    },
    "papermill": {
     "duration": 0.011319,
     "end_time": "2025-03-05T19:35:46.728577",
     "exception": false,
     "start_time": "2025-03-05T19:35:46.717258",
     "status": "completed"
    },
    "tags": []
   },
   "outputs": [
    {
     "data": {
      "text/plain": [
       "[{'anchor': 'Were Scott Derrickson and Ed Wkod of the same nationality?',\n",
       "  'positive': 'Edward Davis Wood Jr. (October 10, 1924\\xa0– December 10, 1978) was an American filmmaker, actor, writer, producer, and director.',\n",
       "  'negatives': ['Jordi Carchano (born 2 July 1984 in Sant Quirze del Vallès, Catalonia Spain) is a motorcycle road racer. He raced in the 125cc and 250cc World Championships from 2003 to 2006 .',\n",
       "   'The 1967 Masters Tournament was the 31st Masters Tournament, held April 6–9 at Augusta National Golf Club. Gay Brewer won his only major title by one stroke over runner-up Bobby Nichols.',\n",
       "   'Saint-Mars-la-Brière is a commune in the Sarthe department in the region of Pays-de-la-Loire in north-western France.',\n",
       "   'Kevin Schürer (born 22 June 1957) is a British historian, genealogist and statistician who is currently on research leave at the University of Cambridge and was previously Pro-Vice Chancellor of Research and Enterprise at the University of Leicester. He specialises in the historical demography, the history of the family and migration in nineteenth-century England and Wales.',\n",
       "   'La Croix-Helléan (\"Ar Groaz-Helean\" in Breton) is a commune in the Morbihan department of Brittany in north-western France.']},\n",
       " {'anchor': 'What government position was held by the woman who po%trayed Corwiss Archer in the film Kisy and Tello',\n",
       "  'positive': \"Shirley Temple Black (April 23, 1928\\xa0– February 10, 2014) was an American actress, singer, dancer, businesswoman, and diplomat who was Hollywood's number one box-office draw as a child actress from 1935 to 1938. As an adult, she was named United States ambassador to Ghana and to Czechoslovakia and also served as Chief of Protocol of the United States.\",\n",
       "  'negatives': [\"Devil's pincushion is a common name for several cacti and may refer to:\",\n",
       "   'Bactra furfurana, the mottled marble, is a moth of the Tortricidae family described by Adrian Hardy Haworth in 1811. It is found in the Nearctic and Palearctic ecozones.',\n",
       "   'Harold Druken (born January 26, 1979) is a Canadian senior-level ice hockey centre for the Deer Lake Red Wings of the Newfoundland West Coast Senior Hockey League (NWCSHL).',\n",
       "   'Brunswick Air Force Station is a closed United States Air Force General Surveillance Radar station. It is located 2.5 mi east-southeast of Brunswick, Maine. It was closed in 1965.',\n",
       "   'The Porcos River is a river of Ceará state in eastern Brazil.']}]"
      ]
     },
     "execution_count": 8,
     "metadata": {},
     "output_type": "execute_result"
    }
   ],
   "source": [
    "contrastive_pairs[0:2]"
   ]
  },
  {
   "cell_type": "code",
   "execution_count": 9,
   "id": "8ade92f9-e3df-4d0a-b849-b1a721e18cf6",
   "metadata": {
    "execution": {
     "iopub.execute_input": "2025-03-05T19:35:46.737181Z",
     "iopub.status.busy": "2025-03-05T19:35:46.736874Z",
     "iopub.status.idle": "2025-03-05T19:35:46.748848Z",
     "shell.execute_reply": "2025-03-05T19:35:46.748501Z"
    },
    "papermill": {
     "duration": 0.016839,
     "end_time": "2025-03-05T19:35:46.749422",
     "exception": false,
     "start_time": "2025-03-05T19:35:46.732583",
     "status": "completed"
    },
    "tags": []
   },
   "outputs": [
    {
     "data": {
      "text/plain": [
       "7405"
      ]
     },
     "execution_count": 9,
     "metadata": {},
     "output_type": "execute_result"
    }
   ],
   "source": [
    "len(qrels)"
   ]
  },
  {
   "cell_type": "code",
   "execution_count": 10,
   "id": "6b97f7b4-f007-41f6-bfbb-1b9b01665e9d",
   "metadata": {
    "execution": {
     "iopub.execute_input": "2025-03-05T19:35:46.758063Z",
     "iopub.status.busy": "2025-03-05T19:35:46.757836Z",
     "iopub.status.idle": "2025-03-05T19:36:01.790184Z",
     "shell.execute_reply": "2025-03-05T19:36:01.787024Z"
    },
    "papermill": {
     "duration": 15.037589,
     "end_time": "2025-03-05T19:36:01.791074",
     "exception": false,
     "start_time": "2025-03-05T19:35:46.753485",
     "status": "completed"
    },
    "tags": []
   },
   "outputs": [],
   "source": [
    "from torch.utils.data import DataLoader"
   ]
  },
  {
   "cell_type": "code",
   "execution_count": 11,
   "id": "a415b29a-a543-4679-8f78-44f715b3067d",
   "metadata": {
    "execution": {
     "iopub.execute_input": "2025-03-05T19:36:01.802471Z",
     "iopub.status.busy": "2025-03-05T19:36:01.802145Z",
     "iopub.status.idle": "2025-03-05T19:36:01.806363Z",
     "shell.execute_reply": "2025-03-05T19:36:01.805966Z"
    },
    "papermill": {
     "duration": 0.009675,
     "end_time": "2025-03-05T19:36:01.807095",
     "exception": false,
     "start_time": "2025-03-05T19:36:01.797420",
     "status": "completed"
    },
    "tags": []
   },
   "outputs": [],
   "source": [
    "class ContrastiveDataset:\n",
    "    def __init__(self, pairs):\n",
    "        self.pairs = pairs\n",
    "\n",
    "    def __len__(self):\n",
    "        return len(self.pairs)\n",
    "\n",
    "    def __getitem__(self, idx):\n",
    "        item = self.pairs[idx]\n",
    "        return item[\"anchor\"], item[\"positive\"], item[\"negatives\"]"
   ]
  },
  {
   "cell_type": "code",
   "execution_count": 12,
   "id": "a39efeab-fd20-411a-80c5-315f362e00d2",
   "metadata": {
    "execution": {
     "iopub.execute_input": "2025-03-05T19:36:01.815740Z",
     "iopub.status.busy": "2025-03-05T19:36:01.815606Z",
     "iopub.status.idle": "2025-03-05T19:36:01.823870Z",
     "shell.execute_reply": "2025-03-05T19:36:01.823422Z"
    },
    "papermill": {
     "duration": 0.013501,
     "end_time": "2025-03-05T19:36:01.824671",
     "exception": false,
     "start_time": "2025-03-05T19:36:01.811170",
     "status": "completed"
    },
    "tags": []
   },
   "outputs": [],
   "source": [
    "contrastive_dataset = ContrastiveDataset(contrastive_pairs)"
   ]
  },
  {
   "cell_type": "code",
   "execution_count": 13,
   "id": "d103bbfa-895a-4020-a7e5-21de659f27dc",
   "metadata": {
    "execution": {
     "iopub.execute_input": "2025-03-05T19:36:01.833433Z",
     "iopub.status.busy": "2025-03-05T19:36:01.833306Z",
     "iopub.status.idle": "2025-03-05T19:36:01.843554Z",
     "shell.execute_reply": "2025-03-05T19:36:01.843202Z"
    },
    "papermill": {
     "duration": 0.015425,
     "end_time": "2025-03-05T19:36:01.844341",
     "exception": false,
     "start_time": "2025-03-05T19:36:01.828916",
     "status": "completed"
    },
    "tags": []
   },
   "outputs": [],
   "source": [
    "data_loader = DataLoader(contrastive_dataset, batch_size=32, shuffle=True)"
   ]
  },
  {
   "cell_type": "code",
   "execution_count": 14,
   "id": "c8b0277f-f526-4087-82da-c4cdd65d32da",
   "metadata": {
    "execution": {
     "iopub.execute_input": "2025-03-05T19:36:01.853481Z",
     "iopub.status.busy": "2025-03-05T19:36:01.853350Z",
     "iopub.status.idle": "2025-03-05T19:36:01.862210Z",
     "shell.execute_reply": "2025-03-05T19:36:01.861805Z"
    },
    "papermill": {
     "duration": 0.013918,
     "end_time": "2025-03-05T19:36:01.862851",
     "exception": false,
     "start_time": "2025-03-05T19:36:01.848933",
     "status": "completed"
    },
    "tags": []
   },
   "outputs": [
    {
     "data": {
      "text/plain": [
       "232"
      ]
     },
     "execution_count": 14,
     "metadata": {},
     "output_type": "execute_result"
    }
   ],
   "source": [
    "len(data_loader)"
   ]
  },
  {
   "cell_type": "code",
   "execution_count": 15,
   "id": "e15526a4-b3fe-435b-91c9-ad4064562f0f",
   "metadata": {
    "execution": {
     "iopub.execute_input": "2025-03-05T19:36:01.872190Z",
     "iopub.status.busy": "2025-03-05T19:36:01.871622Z",
     "iopub.status.idle": "2025-03-05T19:36:19.600689Z",
     "shell.execute_reply": "2025-03-05T19:36:19.599944Z"
    },
    "papermill": {
     "duration": 17.734423,
     "end_time": "2025-03-05T19:36:19.601629",
     "exception": false,
     "start_time": "2025-03-05T19:36:01.867206",
     "status": "completed"
    },
    "tags": []
   },
   "outputs": [
    {
     "name": "stderr",
     "output_type": "stream",
     "text": [
      "/tmp/ipykernel_933858/261098231.py:3: FutureWarning: You are using `torch.load` with `weights_only=False` (the current default value), which uses the default pickle module implicitly. It is possible to construct malicious pickle data which will execute arbitrary code during unpickling (See https://github.com/pytorch/pytorch/blob/main/SECURITY.md#untrusted-models for more details). In a future release, the default value for `weights_only` will be flipped to `True`. This limits the functions that could be executed during unpickling. Arbitrary objects will no longer be allowed to be loaded via this mode unless they are explicitly allowlisted by the user via `torch.serialization.add_safe_globals`. We recommend you start setting `weights_only=True` for any use case where you don't have full control of the loaded file. Please open an issue on GitHub for any issues related to this experimental feature.\n",
      "  lora_model_baseline = torch.load(file_path_baseline)\n"
     ]
    }
   ],
   "source": [
    "import torch\n",
    "file_path_baseline =\"/dss/dsshome1/07/ra65bex2/srawat/contrastive_learning/v1.1/app_baseline/checkpoint_epoch_3.pth\"\n",
    "lora_model_baseline = torch.load(file_path_baseline)"
   ]
  },
  {
   "cell_type": "code",
   "execution_count": 16,
   "id": "9999e628-5966-4dda-b5c5-c0d762fce27d",
   "metadata": {
    "execution": {
     "iopub.execute_input": "2025-03-05T19:36:19.614024Z",
     "iopub.status.busy": "2025-03-05T19:36:19.613561Z",
     "iopub.status.idle": "2025-03-05T19:36:19.620942Z",
     "shell.execute_reply": "2025-03-05T19:36:19.620569Z"
    },
    "papermill": {
     "duration": 0.013161,
     "end_time": "2025-03-05T19:36:19.621513",
     "exception": false,
     "start_time": "2025-03-05T19:36:19.608352",
     "status": "completed"
    },
    "tags": []
   },
   "outputs": [],
   "source": [
    "device = torch.device('cuda' if torch.cuda.is_available() else 'cpu')\n",
    "lora_model_baseline = lora_model_baseline.to(device)"
   ]
  },
  {
   "cell_type": "code",
   "execution_count": 17,
   "id": "7e6a3a61-8db0-43db-b575-6399f8515950",
   "metadata": {
    "execution": {
     "iopub.execute_input": "2025-03-05T19:36:19.631032Z",
     "iopub.status.busy": "2025-03-05T19:36:19.630609Z",
     "iopub.status.idle": "2025-03-05T19:36:20.441588Z",
     "shell.execute_reply": "2025-03-05T19:36:20.441096Z"
    },
    "papermill": {
     "duration": 0.816517,
     "end_time": "2025-03-05T19:36:20.442239",
     "exception": false,
     "start_time": "2025-03-05T19:36:19.625722",
     "status": "completed"
    },
    "tags": []
   },
   "outputs": [],
   "source": [
    "from transformers import AutoTokenizer, AutoModel\n",
    "tokenizer = AutoTokenizer.from_pretrained(\"bert-base-uncased\")"
   ]
  },
  {
   "cell_type": "code",
   "execution_count": 18,
   "id": "68ac4919-76f1-4349-a314-4b1061126655",
   "metadata": {
    "execution": {
     "iopub.execute_input": "2025-03-05T19:36:20.451333Z",
     "iopub.status.busy": "2025-03-05T19:36:20.451185Z",
     "iopub.status.idle": "2025-03-05T19:36:20.453714Z",
     "shell.execute_reply": "2025-03-05T19:36:20.453286Z"
    },
    "papermill": {
     "duration": 0.007819,
     "end_time": "2025-03-05T19:36:20.454352",
     "exception": false,
     "start_time": "2025-03-05T19:36:20.446533",
     "status": "completed"
    },
    "tags": []
   },
   "outputs": [],
   "source": [
    "def cosine_distance(x, y):\n",
    "    return 1 - torch.nn.functional.cosine_similarity(x, y, dim=-1)"
   ]
  },
  {
   "cell_type": "code",
   "execution_count": 19,
   "id": "990f63bd-4d48-4f58-a001-3b3250f65312",
   "metadata": {
    "execution": {
     "iopub.execute_input": "2025-03-05T19:36:20.463794Z",
     "iopub.status.busy": "2025-03-05T19:36:20.463399Z",
     "iopub.status.idle": "2025-03-05T19:36:20.473069Z",
     "shell.execute_reply": "2025-03-05T19:36:20.472455Z"
    },
    "papermill": {
     "duration": 0.01528,
     "end_time": "2025-03-05T19:36:20.473904",
     "exception": false,
     "start_time": "2025-03-05T19:36:20.458624",
     "status": "completed"
    },
    "tags": []
   },
   "outputs": [],
   "source": [
    "def evaluate_mrr_baseline(model, data_loader_val, distance_fn):\n",
    "    model.eval()\n",
    "\n",
    "    total_rr = 0.0\n",
    "    num_queries = 0\n",
    "\n",
    "    with torch.no_grad():\n",
    "        for batch in data_loader_val:\n",
    "            anchor_text = batch[0]\n",
    "            positive_text = batch[1]\n",
    "            negative_texts = batch[2]\n",
    "\n",
    "            anchor_input = tokenizer(anchor_text, return_tensors='pt', padding=True, truncation=True, max_length=512).to(device)\n",
    "            positive_input = tokenizer(positive_text, return_tensors='pt', padding=True, truncation=True, max_length=512).to(device)\n",
    "\n",
    "            anchor_embedding = model(**anchor_input).last_hidden_state[:, 0, :]\n",
    "            positive_embedding = model(**positive_input).last_hidden_state[:, 0, :]\n",
    "            negative_embedding = [model(**tokenizer(neg, return_tensors='pt', padding=True, truncation=True, max_length=512).to(device)).last_hidden_state[:, 0, :] for neg in negative_texts]\n",
    "\n",
    "            pos_dist = distance_fn(anchor_embedding, positive_embedding)\n",
    "            neg_dist = torch.stack([distance_fn(anchor_embedding, neg) for neg in negative_embedding], dim=-1)\n",
    "            all_similarities=torch.cat([-pos_dist.unsqueeze(1), -neg_dist], dim=1)\n",
    "\n",
    "            sorted_similarities, sorted_indices = torch.sort(all_similarities, dim=1, descending=True)\n",
    "\n",
    "            # Find the rank of the first relevant (positive) document\n",
    "            positive_rank = (sorted_indices == 0).nonzero(as_tuple=True)[1] + 1  # +1 to make rank 1-based\n",
    "            total_rr += torch.sum(1.0 / positive_rank.float()).item()  # Reciprocal rank\n",
    "            num_queries += len(positive_rank)\n",
    "\n",
    "    mrr = total_rr / num_queries\n",
    "    return mrr"
   ]
  },
  {
   "cell_type": "code",
   "execution_count": 20,
   "id": "534a9ec5-4211-4cb6-81f1-fb8a30caff92",
   "metadata": {
    "execution": {
     "iopub.execute_input": "2025-03-05T19:36:20.483770Z",
     "iopub.status.busy": "2025-03-05T19:36:20.483511Z",
     "iopub.status.idle": "2025-03-05T19:38:10.093054Z",
     "shell.execute_reply": "2025-03-05T19:38:10.092512Z"
    },
    "papermill": {
     "duration": 109.620874,
     "end_time": "2025-03-05T19:38:10.099578",
     "exception": false,
     "start_time": "2025-03-05T19:36:20.478704",
     "status": "completed"
    },
    "tags": []
   },
   "outputs": [
    {
     "name": "stdout",
     "output_type": "stream",
     "text": [
      "0.4028224248325881\n"
     ]
    }
   ],
   "source": [
    "mrr_validation_baseline = evaluate_mrr_baseline(lora_model_baseline, data_loader, cosine_distance)\n",
    "print(mrr_validation_baseline)"
   ]
  },
  {
   "cell_type": "code",
   "execution_count": null,
   "id": "f61bbd65-41c9-4ac7-80ef-ba4a4fb02d45",
   "metadata": {
    "papermill": {
     "duration": 0.004579,
     "end_time": "2025-03-05T19:38:10.108811",
     "exception": false,
     "start_time": "2025-03-05T19:38:10.104232",
     "status": "completed"
    },
    "tags": []
   },
   "outputs": [],
   "source": []
  },
  {
   "cell_type": "code",
   "execution_count": 21,
   "id": "8a3dfd17-ee43-4c4e-9287-8ec6451bc062",
   "metadata": {
    "execution": {
     "iopub.execute_input": "2025-03-05T19:38:10.118372Z",
     "iopub.status.busy": "2025-03-05T19:38:10.118215Z",
     "iopub.status.idle": "2025-03-05T19:38:11.961527Z",
     "shell.execute_reply": "2025-03-05T19:38:11.961043Z"
    },
    "papermill": {
     "duration": 1.84888,
     "end_time": "2025-03-05T19:38:11.962242",
     "exception": false,
     "start_time": "2025-03-05T19:38:10.113362",
     "status": "completed"
    },
    "tags": []
   },
   "outputs": [
    {
     "name": "stderr",
     "output_type": "stream",
     "text": [
      "/tmp/ipykernel_933858/2975798179.py:2: FutureWarning: You are using `torch.load` with `weights_only=False` (the current default value), which uses the default pickle module implicitly. It is possible to construct malicious pickle data which will execute arbitrary code during unpickling (See https://github.com/pytorch/pytorch/blob/main/SECURITY.md#untrusted-models for more details). In a future release, the default value for `weights_only` will be flipped to `True`. This limits the functions that could be executed during unpickling. Arbitrary objects will no longer be allowed to be loaded via this mode unless they are explicitly allowlisted by the user via `torch.serialization.add_safe_globals`. We recommend you start setting `weights_only=True` for any use case where you don't have full control of the loaded file. Please open an issue on GitHub for any issues related to this experimental feature.\n",
      "  lora_model_average = torch.load(file_path_average)\n"
     ]
    }
   ],
   "source": [
    "file_path_average=\"/dss/dsshome1/07/ra65bex2/srawat/contrastive_learning/v1.1/app_average/average_checkpoint_epoch_3.pth\"\n",
    "lora_model_average = torch.load(file_path_average)\n",
    "lora_model_average = lora_model_average.to(device)"
   ]
  },
  {
   "cell_type": "code",
   "execution_count": 22,
   "id": "49c10d3f-c53d-4222-aba4-0e763451baff",
   "metadata": {
    "execution": {
     "iopub.execute_input": "2025-03-05T19:38:11.974064Z",
     "iopub.status.busy": "2025-03-05T19:38:11.973926Z",
     "iopub.status.idle": "2025-03-05T19:38:11.976921Z",
     "shell.execute_reply": "2025-03-05T19:38:11.976590Z"
    },
    "papermill": {
     "duration": 0.008465,
     "end_time": "2025-03-05T19:38:11.977507",
     "exception": false,
     "start_time": "2025-03-05T19:38:11.969042",
     "status": "completed"
    },
    "tags": []
   },
   "outputs": [],
   "source": [
    "def avg_embedding(inputs, model):\n",
    "    input=model(**inputs)\n",
    "    input_last_hidden_state=input.last_hidden_state\n",
    "    input_attention_mask = inputs['attention_mask']\n",
    "    input_masked_embeddings = input_last_hidden_state * input_attention_mask.unsqueeze(-1)\n",
    "    input_sum_embeddings = torch.sum(input_masked_embeddings, dim=1)\n",
    "    input_token_counts = torch.sum(input_attention_mask, dim=1).unsqueeze(-1)\n",
    "    input_avg_embeddings = input_sum_embeddings / input_token_counts\n",
    "    return(input_avg_embeddings)"
   ]
  },
  {
   "cell_type": "code",
   "execution_count": 23,
   "id": "22570a1b-93bf-41ef-99fe-de41c3857b41",
   "metadata": {
    "execution": {
     "iopub.execute_input": "2025-03-05T19:38:11.986861Z",
     "iopub.status.busy": "2025-03-05T19:38:11.986732Z",
     "iopub.status.idle": "2025-03-05T19:38:11.998154Z",
     "shell.execute_reply": "2025-03-05T19:38:11.997728Z"
    },
    "papermill": {
     "duration": 0.016695,
     "end_time": "2025-03-05T19:38:11.998710",
     "exception": false,
     "start_time": "2025-03-05T19:38:11.982015",
     "status": "completed"
    },
    "tags": []
   },
   "outputs": [],
   "source": [
    "def evaluate_mrr_average(model, data_loader_val, distance_fn):\n",
    "    model.eval()  \n",
    "\n",
    "    total_rr = 0.0\n",
    "    num_queries = 0\n",
    "\n",
    "    with torch.no_grad():\n",
    "        for batch in data_loader_val:\n",
    "            anchor_text = batch[0]\n",
    "            positive_text = batch[1]\n",
    "            negative_texts = batch[2]\n",
    "\n",
    "            anchor_input = tokenizer(anchor_text, return_tensors='pt', padding=True, truncation=True, max_length=512).to(device)\n",
    "            positive_input = tokenizer(positive_text, return_tensors='pt', padding=True, truncation=True, max_length=512).to(device)\n",
    "\n",
    "            anchor_embedding = avg_embedding(anchor_input, model)\n",
    "            positive_embedding = avg_embedding(positive_input, model)\n",
    "            negative_embedding = [avg_embedding(tokenizer(neg, return_tensors='pt', padding=True, truncation=True, max_length=512).to(device), model) for neg in negative_texts]\n",
    "\n",
    "            pos_dist = distance_fn(anchor_embedding, positive_embedding)\n",
    "            neg_dist = torch.stack([distance_fn(anchor_embedding, neg) for neg in negative_embedding], dim=-1)\n",
    "            all_similarities=torch.cat([-pos_dist.unsqueeze(1), -neg_dist], dim=1)\n",
    "            \n",
    "            sorted_similarities, sorted_indices = torch.sort(all_similarities, dim=1, descending=True)\n",
    "\n",
    "            # Find the rank of the first relevant (positive) document\n",
    "            positive_rank = (sorted_indices == 0).nonzero(as_tuple=True)[1] + 1  # +1 to make rank 1-based\n",
    "            total_rr += torch.sum(1.0 / positive_rank.float()).item()  # Reciprocal rank\n",
    "            num_queries += len(positive_rank)\n",
    "\n",
    "    mrr = total_rr / num_queries\n",
    "    return mrr"
   ]
  },
  {
   "cell_type": "code",
   "execution_count": 24,
   "id": "82977667-a984-467e-9eb6-9d6520ecb3b8",
   "metadata": {
    "execution": {
     "iopub.execute_input": "2025-03-05T19:38:12.008664Z",
     "iopub.status.busy": "2025-03-05T19:38:12.008535Z",
     "iopub.status.idle": "2025-03-05T19:39:58.551766Z",
     "shell.execute_reply": "2025-03-05T19:39:58.551228Z"
    },
    "papermill": {
     "duration": 106.555054,
     "end_time": "2025-03-05T19:39:58.558584",
     "exception": false,
     "start_time": "2025-03-05T19:38:12.003530",
     "status": "completed"
    },
    "tags": []
   },
   "outputs": [
    {
     "name": "stdout",
     "output_type": "stream",
     "text": [
      "0.4846432710965689\n"
     ]
    }
   ],
   "source": [
    "mrr_validation_average = evaluate_mrr_average(lora_model_average, data_loader, cosine_distance)\n",
    "print(mrr_validation_average)"
   ]
  },
  {
   "cell_type": "code",
   "execution_count": null,
   "id": "966c23c7-dc92-49e8-bb1f-1520c0ccd13b",
   "metadata": {
    "papermill": {
     "duration": 0.004512,
     "end_time": "2025-03-05T19:39:58.567830",
     "exception": false,
     "start_time": "2025-03-05T19:39:58.563318",
     "status": "completed"
    },
    "tags": []
   },
   "outputs": [],
   "source": []
  },
  {
   "cell_type": "code",
   "execution_count": 25,
   "id": "af58281c-1786-4bda-9eec-0fa0f127d140",
   "metadata": {
    "execution": {
     "iopub.execute_input": "2025-03-05T19:39:58.578690Z",
     "iopub.status.busy": "2025-03-05T19:39:58.578529Z",
     "iopub.status.idle": "2025-03-05T19:40:00.355336Z",
     "shell.execute_reply": "2025-03-05T19:40:00.354876Z"
    },
    "papermill": {
     "duration": 1.783166,
     "end_time": "2025-03-05T19:40:00.356000",
     "exception": false,
     "start_time": "2025-03-05T19:39:58.572834",
     "status": "completed"
    },
    "tags": []
   },
   "outputs": [
    {
     "name": "stderr",
     "output_type": "stream",
     "text": [
      "/tmp/ipykernel_933858/2502257612.py:2: FutureWarning: You are using `torch.load` with `weights_only=False` (the current default value), which uses the default pickle module implicitly. It is possible to construct malicious pickle data which will execute arbitrary code during unpickling (See https://github.com/pytorch/pytorch/blob/main/SECURITY.md#untrusted-models for more details). In a future release, the default value for `weights_only` will be flipped to `True`. This limits the functions that could be executed during unpickling. Arbitrary objects will no longer be allowed to be loaded via this mode unless they are explicitly allowlisted by the user via `torch.serialization.add_safe_globals`. We recommend you start setting `weights_only=True` for any use case where you don't have full control of the loaded file. Please open an issue on GitHub for any issues related to this experimental feature.\n",
      "  lora_model_hyperbolic = torch.load(file_path_hyperbolic)\n"
     ]
    }
   ],
   "source": [
    "file_path_hyperbolic=\"/dss/dsshome1/07/ra65bex2/srawat/contrastive_learning/v1.1/0.1hyperbolic/hyperbolic_lora_checkpoint_epoch_3.pth\"\n",
    "lora_model_hyperbolic = torch.load(file_path_hyperbolic)\n",
    "lora_model_hyperbolic = lora_model_hyperbolic.to(device)"
   ]
  },
  {
   "cell_type": "code",
   "execution_count": 26,
   "id": "d6f9507b-01e9-49d0-8327-760677bfcf0b",
   "metadata": {
    "execution": {
     "iopub.execute_input": "2025-03-05T19:40:00.365959Z",
     "iopub.status.busy": "2025-03-05T19:40:00.365823Z",
     "iopub.status.idle": "2025-03-05T19:40:00.368511Z",
     "shell.execute_reply": "2025-03-05T19:40:00.368190Z"
    },
    "papermill": {
     "duration": 0.0083,
     "end_time": "2025-03-05T19:40:00.369128",
     "exception": false,
     "start_time": "2025-03-05T19:40:00.360828",
     "status": "completed"
    },
    "tags": []
   },
   "outputs": [],
   "source": [
    "def lorentzian_distance(x, y):\n",
    "    \n",
    "    dot_product = torch.sum(x * y, dim=-1)\n",
    "    norm_x = torch.norm(x, dim=-1)\n",
    "    norm_y = torch.norm(y, dim=-1)\n",
    "    \n",
    "    distance = torch.acosh(-dot_product + torch.sqrt((1 + norm_x**2) * (1 + norm_y**2)))\n",
    "    return distance"
   ]
  },
  {
   "cell_type": "code",
   "execution_count": 27,
   "id": "de4ecc53-8b64-4fee-bfbf-d3b85d441d1f",
   "metadata": {
    "execution": {
     "iopub.execute_input": "2025-03-05T19:40:00.378683Z",
     "iopub.status.busy": "2025-03-05T19:40:00.378549Z",
     "iopub.status.idle": "2025-03-05T19:40:00.387060Z",
     "shell.execute_reply": "2025-03-05T19:40:00.386754Z"
    },
    "papermill": {
     "duration": 0.014227,
     "end_time": "2025-03-05T19:40:00.387870",
     "exception": false,
     "start_time": "2025-03-05T19:40:00.373643",
     "status": "completed"
    },
    "tags": []
   },
   "outputs": [],
   "source": [
    "def expm_o(v, c=1.0):\n",
    "    c = torch.tensor(c)\n",
    "    vspace = v\n",
    "    vnorm = torch.norm(v, p=2, dim=-1, keepdim=True)\n",
    "    xspace = torch.sinh(torch.sqrt(c) * vnorm) * vspace / (torch.sqrt(c) * vnorm)\n",
    "    batch_min = xspace.min(dim=1, keepdim=True).values\n",
    "    batch_max = xspace.max(dim=1, keepdim=True).values\n",
    "    xspace_scaled=(xspace - batch_min) / (batch_max - batch_min)\n",
    "    return xspace_scaled"
   ]
  },
  {
   "cell_type": "code",
   "execution_count": 28,
   "id": "c6639968-6b1d-4601-a69f-6e83b9863ab6",
   "metadata": {
    "execution": {
     "iopub.execute_input": "2025-03-05T19:40:00.397722Z",
     "iopub.status.busy": "2025-03-05T19:40:00.397591Z",
     "iopub.status.idle": "2025-03-05T19:40:00.403793Z",
     "shell.execute_reply": "2025-03-05T19:40:00.403456Z"
    },
    "papermill": {
     "duration": 0.011735,
     "end_time": "2025-03-05T19:40:00.404405",
     "exception": false,
     "start_time": "2025-03-05T19:40:00.392670",
     "status": "completed"
    },
    "tags": []
   },
   "outputs": [],
   "source": [
    "def evaluate_mrr_hyperbolic(model1, data_loader_val, distance_fn):\n",
    "    model1.eval()\n",
    "    \n",
    "    total_rr = 0.0\n",
    "    num_queries = 0\n",
    "\n",
    "    with torch.no_grad():\n",
    "        for batch in data_loader_val:\n",
    "            anchor_text = batch[0]\n",
    "            positive_text = batch[1]\n",
    "            negative_texts = batch[2]\n",
    "\n",
    "            anchor_input = tokenizer(anchor_text, return_tensors='pt', padding=True, truncation=True, max_length=512).to(device)\n",
    "            positive_input = tokenizer(positive_text, return_tensors='pt', padding=True, truncation=True, max_length=512).to(device)\n",
    "\n",
    "            anchor_embedding = expm_o(model1(**anchor_input).last_hidden_state[:, 0, :])\n",
    "            positive_embedding = expm_o(model1(**positive_input).last_hidden_state[:, 0, :])\n",
    "            negative_embedding = [expm_o(model1(**tokenizer(neg, return_tensors='pt', padding=True, truncation=True, max_length=512).to(device)).last_hidden_state[:, 0, :]) for neg in negative_texts]\n",
    "\n",
    "            pos_dist = distance_fn(anchor_embedding, positive_embedding)\n",
    "            neg_dist = torch.stack([distance_fn(anchor_embedding, neg) for neg in negative_embedding], dim=-1)\n",
    "            all_similarities=torch.cat([-pos_dist.unsqueeze(1), -neg_dist], dim=1)\n",
    "\n",
    "            sorted_similarities, sorted_indices = torch.sort(all_similarities, dim=1, descending=True)\n",
    "\n",
    "            # Find the rank of the first relevant (positive) document\n",
    "            positive_rank = (sorted_indices == 0).nonzero(as_tuple=True)[1] + 1  # +1 to make rank 1-based\n",
    "            total_rr += torch.sum(1.0 / positive_rank.float()).item()  # Reciprocal rank\n",
    "            num_queries += len(positive_rank)\n",
    "            \n",
    "    mrr = total_rr / num_queries\n",
    "    return mrr"
   ]
  },
  {
   "cell_type": "code",
   "execution_count": 29,
   "id": "9c54c77e-2dde-4c88-9eaf-439a409e845e",
   "metadata": {
    "execution": {
     "iopub.execute_input": "2025-03-05T19:40:00.414047Z",
     "iopub.status.busy": "2025-03-05T19:40:00.413915Z",
     "iopub.status.idle": "2025-03-05T19:41:48.501127Z",
     "shell.execute_reply": "2025-03-05T19:41:48.500507Z"
    },
    "papermill": {
     "duration": 108.09858,
     "end_time": "2025-03-05T19:41:48.507593",
     "exception": false,
     "start_time": "2025-03-05T19:40:00.409013",
     "status": "completed"
    },
    "tags": []
   },
   "outputs": [
    {
     "name": "stdout",
     "output_type": "stream",
     "text": [
      "0.3860724810407743\n"
     ]
    }
   ],
   "source": [
    "mrr_validation_hyperbolic = evaluate_mrr_hyperbolic(model1=lora_model_hyperbolic, data_loader_val=data_loader,distance_fn=lorentzian_distance)\n",
    "print(mrr_validation_hyperbolic)"
   ]
  },
  {
   "cell_type": "code",
   "execution_count": null,
   "id": "3e097240-0b21-4a85-8959-2c74522b15a8",
   "metadata": {
    "papermill": {
     "duration": 0.004708,
     "end_time": "2025-03-05T19:41:48.517270",
     "exception": false,
     "start_time": "2025-03-05T19:41:48.512562",
     "status": "completed"
    },
    "tags": []
   },
   "outputs": [],
   "source": []
  },
  {
   "cell_type": "code",
   "execution_count": 30,
   "id": "d883371b-b6e4-40de-b212-93ed5fcb6061",
   "metadata": {
    "execution": {
     "iopub.execute_input": "2025-03-05T19:41:48.528271Z",
     "iopub.status.busy": "2025-03-05T19:41:48.527705Z",
     "iopub.status.idle": "2025-03-05T19:41:48.578348Z",
     "shell.execute_reply": "2025-03-05T19:41:48.577958Z"
    },
    "papermill": {
     "duration": 0.056696,
     "end_time": "2025-03-05T19:41:48.578949",
     "exception": false,
     "start_time": "2025-03-05T19:41:48.522253",
     "status": "completed"
    },
    "tags": []
   },
   "outputs": [
    {
     "name": "stdout",
     "output_type": "stream",
     "text": [
      "Median Query Length: 15\n"
     ]
    }
   ],
   "source": [
    "import statistics\n",
    "print(\"Median Query Length:\", statistics.median(query_lengths))"
   ]
  },
  {
   "cell_type": "code",
   "execution_count": 31,
   "id": "4b02b505-a8f9-480d-959e-effcbc2ed3a2",
   "metadata": {
    "execution": {
     "iopub.execute_input": "2025-03-05T19:41:48.589540Z",
     "iopub.status.busy": "2025-03-05T19:41:48.589130Z",
     "iopub.status.idle": "2025-03-05T19:41:48.592318Z",
     "shell.execute_reply": "2025-03-05T19:41:48.591967Z"
    },
    "papermill": {
     "duration": 0.008984,
     "end_time": "2025-03-05T19:41:48.592940",
     "exception": false,
     "start_time": "2025-03-05T19:41:48.583956",
     "status": "completed"
    },
    "tags": []
   },
   "outputs": [
    {
     "data": {
      "text/plain": [
       "0.4028224248325881"
      ]
     },
     "execution_count": 31,
     "metadata": {},
     "output_type": "execute_result"
    }
   ],
   "source": [
    "mrr_validation_baseline"
   ]
  },
  {
   "cell_type": "code",
   "execution_count": 32,
   "id": "5c10dccb-fbc7-448b-b3d9-4d7e045dafd3",
   "metadata": {
    "execution": {
     "iopub.execute_input": "2025-03-05T19:41:48.604105Z",
     "iopub.status.busy": "2025-03-05T19:41:48.603958Z",
     "iopub.status.idle": "2025-03-05T19:41:48.608762Z",
     "shell.execute_reply": "2025-03-05T19:41:48.608412Z"
    },
    "papermill": {
     "duration": 0.011401,
     "end_time": "2025-03-05T19:41:48.609388",
     "exception": false,
     "start_time": "2025-03-05T19:41:48.597987",
     "status": "completed"
    },
    "tags": []
   },
   "outputs": [
    {
     "data": {
      "text/plain": [
       "0.4846432710965689"
      ]
     },
     "execution_count": 32,
     "metadata": {},
     "output_type": "execute_result"
    }
   ],
   "source": [
    "mrr_validation_average"
   ]
  },
  {
   "cell_type": "code",
   "execution_count": 33,
   "id": "b9c22c87-c20f-4a86-a8d3-d941340ea726",
   "metadata": {
    "execution": {
     "iopub.execute_input": "2025-03-05T19:41:48.620318Z",
     "iopub.status.busy": "2025-03-05T19:41:48.620061Z",
     "iopub.status.idle": "2025-03-05T19:41:48.622975Z",
     "shell.execute_reply": "2025-03-05T19:41:48.622622Z"
    },
    "papermill": {
     "duration": 0.008905,
     "end_time": "2025-03-05T19:41:48.623560",
     "exception": false,
     "start_time": "2025-03-05T19:41:48.614655",
     "status": "completed"
    },
    "tags": []
   },
   "outputs": [
    {
     "data": {
      "text/plain": [
       "0.3860724810407743"
      ]
     },
     "execution_count": 33,
     "metadata": {},
     "output_type": "execute_result"
    }
   ],
   "source": [
    "mrr_validation_hyperbolic"
   ]
  }
 ],
 "metadata": {
  "kernelspec": {
   "display_name": "Python (myenv)",
   "language": "python",
   "name": "myenv"
  },
  "language_info": {
   "codemirror_mode": {
    "name": "ipython",
    "version": 3
   },
   "file_extension": ".py",
   "mimetype": "text/x-python",
   "name": "python",
   "nbconvert_exporter": "python",
   "pygments_lexer": "ipython3",
   "version": "3.12.7"
  },
  "papermill": {
   "default_parameters": {},
   "duration": 14546.488286,
   "end_time": "2025-03-05T19:41:52.065339",
   "environment_variables": {},
   "exception": null,
   "input_path": "hotpotQA.ipynb",
   "output_path": "hotpotQA_output.ipynb",
   "parameters": {},
   "start_time": "2025-03-05T15:39:25.577053",
   "version": "2.6.0"
  },
  "widgets": {
   "application/vnd.jupyter.widget-state+json": {
    "state": {
     "38345c7256324a86bd076d4d08c5979d": {
      "model_module": "@jupyter-widgets/controls",
      "model_module_version": "2.0.0",
      "model_name": "HBoxModel",
      "state": {
       "_dom_classes": [],
       "_model_module": "@jupyter-widgets/controls",
       "_model_module_version": "2.0.0",
       "_model_name": "HBoxModel",
       "_view_count": null,
       "_view_module": "@jupyter-widgets/controls",
       "_view_module_version": "2.0.0",
       "_view_name": "HBoxView",
       "box_style": "",
       "children": [
        "IPY_MODEL_c30fcc79cdf945b7ab96907b3105320d",
        "IPY_MODEL_c9cef8618abc4d8b856b4f63718a8248",
        "IPY_MODEL_a1c1ec34a0394d02ad0447d6d6e30d7d"
       ],
       "layout": "IPY_MODEL_bfeace5a84d94873bfd79ab88139d649",
       "tabbable": null,
       "tooltip": null
      }
     },
     "a1c1ec34a0394d02ad0447d6d6e30d7d": {
      "model_module": "@jupyter-widgets/controls",
      "model_module_version": "2.0.0",
      "model_name": "HTMLModel",
      "state": {
       "_dom_classes": [],
       "_model_module": "@jupyter-widgets/controls",
       "_model_module_version": "2.0.0",
       "_model_name": "HTMLModel",
       "_view_count": null,
       "_view_module": "@jupyter-widgets/controls",
       "_view_module_version": "2.0.0",
       "_view_name": "HTMLView",
       "description": "",
       "description_allow_html": false,
       "layout": "IPY_MODEL_c4cc5c29dfba4d67ac43f73a3466353e",
       "placeholder": "​",
       "style": "IPY_MODEL_bcf602b40dd94a70a0ee07bf19c67b33",
       "tabbable": null,
       "tooltip": null,
       "value": " 5233329/5233329 [00:22&lt;00:00, 233267.56it/s]"
      }
     },
     "bcf602b40dd94a70a0ee07bf19c67b33": {
      "model_module": "@jupyter-widgets/controls",
      "model_module_version": "2.0.0",
      "model_name": "HTMLStyleModel",
      "state": {
       "_model_module": "@jupyter-widgets/controls",
       "_model_module_version": "2.0.0",
       "_model_name": "HTMLStyleModel",
       "_view_count": null,
       "_view_module": "@jupyter-widgets/base",
       "_view_module_version": "2.0.0",
       "_view_name": "StyleView",
       "background": null,
       "description_width": "",
       "font_size": null,
       "text_color": null
      }
     },
     "bfeace5a84d94873bfd79ab88139d649": {
      "model_module": "@jupyter-widgets/base",
      "model_module_version": "2.0.0",
      "model_name": "LayoutModel",
      "state": {
       "_model_module": "@jupyter-widgets/base",
       "_model_module_version": "2.0.0",
       "_model_name": "LayoutModel",
       "_view_count": null,
       "_view_module": "@jupyter-widgets/base",
       "_view_module_version": "2.0.0",
       "_view_name": "LayoutView",
       "align_content": null,
       "align_items": null,
       "align_self": null,
       "border_bottom": null,
       "border_left": null,
       "border_right": null,
       "border_top": null,
       "bottom": null,
       "display": null,
       "flex": null,
       "flex_flow": null,
       "grid_area": null,
       "grid_auto_columns": null,
       "grid_auto_flow": null,
       "grid_auto_rows": null,
       "grid_column": null,
       "grid_gap": null,
       "grid_row": null,
       "grid_template_areas": null,
       "grid_template_columns": null,
       "grid_template_rows": null,
       "height": null,
       "justify_content": null,
       "justify_items": null,
       "left": null,
       "margin": null,
       "max_height": null,
       "max_width": null,
       "min_height": null,
       "min_width": null,
       "object_fit": null,
       "object_position": null,
       "order": null,
       "overflow": null,
       "padding": null,
       "right": null,
       "top": null,
       "visibility": null,
       "width": null
      }
     },
     "c30fcc79cdf945b7ab96907b3105320d": {
      "model_module": "@jupyter-widgets/controls",
      "model_module_version": "2.0.0",
      "model_name": "HTMLModel",
      "state": {
       "_dom_classes": [],
       "_model_module": "@jupyter-widgets/controls",
       "_model_module_version": "2.0.0",
       "_model_name": "HTMLModel",
       "_view_count": null,
       "_view_module": "@jupyter-widgets/controls",
       "_view_module_version": "2.0.0",
       "_view_name": "HTMLView",
       "description": "",
       "description_allow_html": false,
       "layout": "IPY_MODEL_e903f02dd456433db347929d4d5a81cd",
       "placeholder": "​",
       "style": "IPY_MODEL_d89c4d1ec6d24b44bb0180ec7f82ee87",
       "tabbable": null,
       "tooltip": null,
       "value": "100%"
      }
     },
     "c4cc5c29dfba4d67ac43f73a3466353e": {
      "model_module": "@jupyter-widgets/base",
      "model_module_version": "2.0.0",
      "model_name": "LayoutModel",
      "state": {
       "_model_module": "@jupyter-widgets/base",
       "_model_module_version": "2.0.0",
       "_model_name": "LayoutModel",
       "_view_count": null,
       "_view_module": "@jupyter-widgets/base",
       "_view_module_version": "2.0.0",
       "_view_name": "LayoutView",
       "align_content": null,
       "align_items": null,
       "align_self": null,
       "border_bottom": null,
       "border_left": null,
       "border_right": null,
       "border_top": null,
       "bottom": null,
       "display": null,
       "flex": null,
       "flex_flow": null,
       "grid_area": null,
       "grid_auto_columns": null,
       "grid_auto_flow": null,
       "grid_auto_rows": null,
       "grid_column": null,
       "grid_gap": null,
       "grid_row": null,
       "grid_template_areas": null,
       "grid_template_columns": null,
       "grid_template_rows": null,
       "height": null,
       "justify_content": null,
       "justify_items": null,
       "left": null,
       "margin": null,
       "max_height": null,
       "max_width": null,
       "min_height": null,
       "min_width": null,
       "object_fit": null,
       "object_position": null,
       "order": null,
       "overflow": null,
       "padding": null,
       "right": null,
       "top": null,
       "visibility": null,
       "width": null
      }
     },
     "c9cef8618abc4d8b856b4f63718a8248": {
      "model_module": "@jupyter-widgets/controls",
      "model_module_version": "2.0.0",
      "model_name": "FloatProgressModel",
      "state": {
       "_dom_classes": [],
       "_model_module": "@jupyter-widgets/controls",
       "_model_module_version": "2.0.0",
       "_model_name": "FloatProgressModel",
       "_view_count": null,
       "_view_module": "@jupyter-widgets/controls",
       "_view_module_version": "2.0.0",
       "_view_name": "ProgressView",
       "bar_style": "success",
       "description": "",
       "description_allow_html": false,
       "layout": "IPY_MODEL_d003e37ab562441a9a7c4c870676f9de",
       "max": 5233329.0,
       "min": 0.0,
       "orientation": "horizontal",
       "style": "IPY_MODEL_df741dce38994c07aaa43b3f6967d79f",
       "tabbable": null,
       "tooltip": null,
       "value": 5233329.0
      }
     },
     "d003e37ab562441a9a7c4c870676f9de": {
      "model_module": "@jupyter-widgets/base",
      "model_module_version": "2.0.0",
      "model_name": "LayoutModel",
      "state": {
       "_model_module": "@jupyter-widgets/base",
       "_model_module_version": "2.0.0",
       "_model_name": "LayoutModel",
       "_view_count": null,
       "_view_module": "@jupyter-widgets/base",
       "_view_module_version": "2.0.0",
       "_view_name": "LayoutView",
       "align_content": null,
       "align_items": null,
       "align_self": null,
       "border_bottom": null,
       "border_left": null,
       "border_right": null,
       "border_top": null,
       "bottom": null,
       "display": null,
       "flex": null,
       "flex_flow": null,
       "grid_area": null,
       "grid_auto_columns": null,
       "grid_auto_flow": null,
       "grid_auto_rows": null,
       "grid_column": null,
       "grid_gap": null,
       "grid_row": null,
       "grid_template_areas": null,
       "grid_template_columns": null,
       "grid_template_rows": null,
       "height": null,
       "justify_content": null,
       "justify_items": null,
       "left": null,
       "margin": null,
       "max_height": null,
       "max_width": null,
       "min_height": null,
       "min_width": null,
       "object_fit": null,
       "object_position": null,
       "order": null,
       "overflow": null,
       "padding": null,
       "right": null,
       "top": null,
       "visibility": null,
       "width": null
      }
     },
     "d89c4d1ec6d24b44bb0180ec7f82ee87": {
      "model_module": "@jupyter-widgets/controls",
      "model_module_version": "2.0.0",
      "model_name": "HTMLStyleModel",
      "state": {
       "_model_module": "@jupyter-widgets/controls",
       "_model_module_version": "2.0.0",
       "_model_name": "HTMLStyleModel",
       "_view_count": null,
       "_view_module": "@jupyter-widgets/base",
       "_view_module_version": "2.0.0",
       "_view_name": "StyleView",
       "background": null,
       "description_width": "",
       "font_size": null,
       "text_color": null
      }
     },
     "df741dce38994c07aaa43b3f6967d79f": {
      "model_module": "@jupyter-widgets/controls",
      "model_module_version": "2.0.0",
      "model_name": "ProgressStyleModel",
      "state": {
       "_model_module": "@jupyter-widgets/controls",
       "_model_module_version": "2.0.0",
       "_model_name": "ProgressStyleModel",
       "_view_count": null,
       "_view_module": "@jupyter-widgets/base",
       "_view_module_version": "2.0.0",
       "_view_name": "StyleView",
       "bar_color": null,
       "description_width": ""
      }
     },
     "e903f02dd456433db347929d4d5a81cd": {
      "model_module": "@jupyter-widgets/base",
      "model_module_version": "2.0.0",
      "model_name": "LayoutModel",
      "state": {
       "_model_module": "@jupyter-widgets/base",
       "_model_module_version": "2.0.0",
       "_model_name": "LayoutModel",
       "_view_count": null,
       "_view_module": "@jupyter-widgets/base",
       "_view_module_version": "2.0.0",
       "_view_name": "LayoutView",
       "align_content": null,
       "align_items": null,
       "align_self": null,
       "border_bottom": null,
       "border_left": null,
       "border_right": null,
       "border_top": null,
       "bottom": null,
       "display": null,
       "flex": null,
       "flex_flow": null,
       "grid_area": null,
       "grid_auto_columns": null,
       "grid_auto_flow": null,
       "grid_auto_rows": null,
       "grid_column": null,
       "grid_gap": null,
       "grid_row": null,
       "grid_template_areas": null,
       "grid_template_columns": null,
       "grid_template_rows": null,
       "height": null,
       "justify_content": null,
       "justify_items": null,
       "left": null,
       "margin": null,
       "max_height": null,
       "max_width": null,
       "min_height": null,
       "min_width": null,
       "object_fit": null,
       "object_position": null,
       "order": null,
       "overflow": null,
       "padding": null,
       "right": null,
       "top": null,
       "visibility": null,
       "width": null
      }
     }
    },
    "version_major": 2,
    "version_minor": 0
   }
  }
 },
 "nbformat": 4,
 "nbformat_minor": 5
}