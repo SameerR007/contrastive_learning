{
 "cells": [
  {
   "cell_type": "code",
   "execution_count": 1,
   "id": "f6d4b65f-fa6b-4517-8694-8627bc49833b",
   "metadata": {
    "execution": {
     "iopub.execute_input": "2025-03-05T03:05:56.472159Z",
     "iopub.status.busy": "2025-03-05T03:05:56.471843Z",
     "iopub.status.idle": "2025-03-05T03:05:56.556122Z",
     "shell.execute_reply": "2025-03-05T03:05:56.555676Z"
    },
    "papermill": {
     "duration": 0.089311,
     "end_time": "2025-03-05T03:05:56.556819",
     "exception": false,
     "start_time": "2025-03-05T03:05:56.467508",
     "status": "completed"
    },
    "tags": []
   },
   "outputs": [
    {
     "name": "stderr",
     "output_type": "stream",
     "text": [
      "/dss/dsshome1/07/ra65bex2/srawat/myenv/lib/python3.12/site-packages/beir/datasets/data_loader.py:8: TqdmExperimentalWarning: Using `tqdm.autonotebook.tqdm` in notebook mode. Use `tqdm.tqdm` instead to force console mode (e.g. in jupyter console)\n",
      "  from tqdm.autonotebook import tqdm\n"
     ]
    }
   ],
   "source": [
    "from beir.datasets.data_loader import GenericDataLoader"
   ]
  },
  {
   "cell_type": "code",
   "execution_count": 2,
   "id": "a91d6914-e301-422c-b839-1fafeb1e8fa4",
   "metadata": {
    "execution": {
     "iopub.execute_input": "2025-03-05T03:05:56.564430Z",
     "iopub.status.busy": "2025-03-05T03:05:56.564148Z",
     "iopub.status.idle": "2025-03-05T03:05:56.566648Z",
     "shell.execute_reply": "2025-03-05T03:05:56.566226Z"
    },
    "papermill": {
     "duration": 0.006801,
     "end_time": "2025-03-05T03:05:56.567265",
     "exception": false,
     "start_time": "2025-03-05T03:05:56.560464",
     "status": "completed"
    },
    "tags": []
   },
   "outputs": [],
   "source": [
    "data_path='/dss/dsshome1/07/ra65bex2/srawat/climate-fever/climate-fever'"
   ]
  },
  {
   "cell_type": "code",
   "execution_count": 3,
   "id": "41e17333-2c34-4b7b-91f6-3cbd3972f0d6",
   "metadata": {
    "execution": {
     "iopub.execute_input": "2025-03-05T03:05:56.575653Z",
     "iopub.status.busy": "2025-03-05T03:05:56.575289Z",
     "iopub.status.idle": "2025-03-05T03:06:24.492361Z",
     "shell.execute_reply": "2025-03-05T03:06:24.491757Z"
    },
    "papermill": {
     "duration": 27.922564,
     "end_time": "2025-03-05T03:06:24.493173",
     "exception": false,
     "start_time": "2025-03-05T03:05:56.570609",
     "status": "completed"
    },
    "tags": []
   },
   "outputs": [
    {
     "data": {
      "application/vnd.jupyter.widget-view+json": {
       "model_id": "a1f9ee8eb32c4413aed5f61eec4d3d9e",
       "version_major": 2,
       "version_minor": 0
      },
      "text/plain": [
       "  0%|          | 0/5416593 [00:00<?, ?it/s]"
      ]
     },
     "metadata": {},
     "output_type": "display_data"
    }
   ],
   "source": [
    "corpus, queries, qrels = GenericDataLoader(data_path).load(split=\"test\")"
   ]
  },
  {
   "cell_type": "code",
   "execution_count": 4,
   "id": "1d653c60-435a-4e10-8506-6ef5d01f8675",
   "metadata": {
    "execution": {
     "iopub.execute_input": "2025-03-05T03:06:24.505498Z",
     "iopub.status.busy": "2025-03-05T03:06:24.505326Z",
     "iopub.status.idle": "2025-03-05T03:06:30.480106Z",
     "shell.execute_reply": "2025-03-05T03:06:30.479631Z"
    },
    "papermill": {
     "duration": 5.979471,
     "end_time": "2025-03-05T03:06:30.480776",
     "exception": false,
     "start_time": "2025-03-05T03:06:24.501305",
     "status": "completed"
    },
    "tags": []
   },
   "outputs": [
    {
     "name": "stderr",
     "output_type": "stream",
     "text": [
      "[nltk_data] Downloading package stopwords to\n",
      "[nltk_data]     /dss/dsshome1/07/ra65bex2/nltk_data...\n",
      "[nltk_data]   Package stopwords is already up-to-date!\n",
      "[nltk_data] Downloading package wordnet to\n",
      "[nltk_data]     /dss/dsshome1/07/ra65bex2/nltk_data...\n",
      "[nltk_data]   Package wordnet is already up-to-date!\n"
     ]
    }
   ],
   "source": [
    "import random\n",
    "import re\n",
    "import nltk\n",
    "from nltk.corpus import stopwords, wordnet\n",
    "nltk.download('stopwords')\n",
    "nltk.download('wordnet')\n",
    "stop_words = set(stopwords.words('english'))\n",
    "def clean_text(text):\n",
    "    return re.sub(r'[^\\w\\s.!?]', '', text)\n",
    "def select_words(text, percentage):\n",
    "    words = [w for w in text.split() if w.lower() not in stop_words]\n",
    "    return random.sample(words, min(int(percentage*len(words)), len(words)))\n",
    "def introduce_typo(word):\n",
    "    if len(word) > 1:\n",
    "        idx = random.randint(0, len(word) - 1)\n",
    "        return word[:idx] + random.choice('abcdefghijklmnopqrstuvwxyz') + word[idx+1:]\n",
    "    return word\n",
    "def introduce_noise(word):\n",
    "    noise_chars = ['@', '#', '$', '%', '&', '*']\n",
    "    if len(word) > 1:\n",
    "        idx = random.randint(0, len(word) - 1)\n",
    "        return word[:idx] + random.choice(noise_chars) + word[idx+1:]\n",
    "    return word\n",
    "def replace_with_synonym(word):\n",
    "    synonyms = [syn.lemmas()[0].name() for syn in wordnet.synsets(word) if syn.lemmas()]\n",
    "    return random.choice(synonyms) if synonyms else word\n",
    "def corrupt_word(word, method):\n",
    "    if method == 'typo':\n",
    "        return introduce_typo(word)\n",
    "    elif method == 'noise':\n",
    "        return introduce_noise(word)\n",
    "    elif method == 'synonym':\n",
    "        return replace_with_synonym(word)\n",
    "    return word\n",
    "def corrupt_text(text):\n",
    "    corrupted_words = []  \n",
    "    words_to_corrupt=select_words(clean_text(text), percentage=0.5)\n",
    "    for word in clean_text(text).split():\n",
    "        if word in words_to_corrupt:\n",
    "            corruption_method = random.choice(['typo', 'noise', 'synonym'])\n",
    "            corrupted_words.append(corrupt_word(word, corruption_method))\n",
    "        else:\n",
    "            corrupted_words.append(word)\n",
    "    return ' '.join(corrupted_words)"
   ]
  },
  {
   "cell_type": "code",
   "execution_count": 5,
   "id": "a29044d5-3952-4f3d-aa43-e1efd34fcad3",
   "metadata": {
    "execution": {
     "iopub.execute_input": "2025-03-05T03:06:30.490857Z",
     "iopub.status.busy": "2025-03-05T03:06:30.490291Z",
     "iopub.status.idle": "2025-03-05T03:59:51.128268Z",
     "shell.execute_reply": "2025-03-05T03:59:51.127432Z"
    },
    "papermill": {
     "duration": 3200.642952,
     "end_time": "2025-03-05T03:59:51.129257",
     "exception": false,
     "start_time": "2025-03-05T03:06:30.486305",
     "status": "completed"
    },
    "tags": []
   },
   "outputs": [],
   "source": [
    "contrastive_pairs=[]\n",
    "query_lengths = []\n",
    "import random\n",
    "c=0\n",
    "for query_id, relevant_docs in qrels.items():\n",
    "    try:\n",
    "        query_text = queries[query_id]\n",
    "        query_lengths.append(len(query_text.split()))\n",
    "        for doc_id in relevant_docs:\n",
    "            positive = corpus[doc_id][\"text\"]\n",
    "        #print(relevant_docs)\n",
    "        positive_doc_ids = set(relevant_docs)\n",
    "        all_doc_ids = set(corpus.keys())\n",
    "        negative_doc_ids = all_doc_ids - positive_doc_ids\n",
    "        negative_doc_ids=list(negative_doc_ids)\n",
    "        negative_doc_samples = random.sample(negative_doc_ids, k=5)\n",
    "        negatives=[]\n",
    "        for neg_doc_id in negative_doc_samples:\n",
    "            negative_doc_text = corpus[neg_doc_id][\"text\"]\n",
    "            negatives.append(negative_doc_text)\n",
    "        contrastive_pairs.append({\n",
    "            \"anchor\": corrupt_text(query_text),\n",
    "            \"positive\": positive,\n",
    "            \"negatives\": negatives\n",
    "        })\n",
    "    except:\n",
    "        c=c+1"
   ]
  },
  {
   "cell_type": "code",
   "execution_count": 6,
   "id": "49721946-fff3-4690-bd92-d981cecdf62b",
   "metadata": {
    "execution": {
     "iopub.execute_input": "2025-03-05T03:59:51.148528Z",
     "iopub.status.busy": "2025-03-05T03:59:51.147942Z",
     "iopub.status.idle": "2025-03-05T03:59:51.152388Z",
     "shell.execute_reply": "2025-03-05T03:59:51.152036Z"
    },
    "papermill": {
     "duration": 0.009509,
     "end_time": "2025-03-05T03:59:51.153106",
     "exception": false,
     "start_time": "2025-03-05T03:59:51.143597",
     "status": "completed"
    },
    "tags": []
   },
   "outputs": [
    {
     "data": {
      "text/plain": [
       "0"
      ]
     },
     "execution_count": 6,
     "metadata": {},
     "output_type": "execute_result"
    }
   ],
   "source": [
    "c"
   ]
  },
  {
   "cell_type": "code",
   "execution_count": 7,
   "id": "de8ef367-dcb4-4bb6-af3a-20f190930ed1",
   "metadata": {
    "execution": {
     "iopub.execute_input": "2025-03-05T03:59:51.161108Z",
     "iopub.status.busy": "2025-03-05T03:59:51.160617Z",
     "iopub.status.idle": "2025-03-05T03:59:51.192970Z",
     "shell.execute_reply": "2025-03-05T03:59:51.192627Z"
    },
    "papermill": {
     "duration": 0.036907,
     "end_time": "2025-03-05T03:59:51.193607",
     "exception": false,
     "start_time": "2025-03-05T03:59:51.156700",
     "status": "completed"
    },
    "tags": []
   },
   "outputs": [
    {
     "data": {
      "text/plain": [
       "1535"
      ]
     },
     "execution_count": 7,
     "metadata": {},
     "output_type": "execute_result"
    }
   ],
   "source": [
    "len(contrastive_pairs)"
   ]
  },
  {
   "cell_type": "code",
   "execution_count": 8,
   "id": "8a2ccada-419a-4f79-ad4d-b605780281a3",
   "metadata": {
    "execution": {
     "iopub.execute_input": "2025-03-05T03:59:51.201733Z",
     "iopub.status.busy": "2025-03-05T03:59:51.201296Z",
     "iopub.status.idle": "2025-03-05T03:59:51.210094Z",
     "shell.execute_reply": "2025-03-05T03:59:51.209747Z"
    },
    "papermill": {
     "duration": 0.013387,
     "end_time": "2025-03-05T03:59:51.210671",
     "exception": false,
     "start_time": "2025-03-05T03:59:51.197284",
     "status": "completed"
    },
    "tags": []
   },
   "outputs": [
    {
     "data": {
      "text/plain": [
       "[{'anchor': 'Global warming is driving polar yield towar* extinction',\n",
       "  'positive': \"Global warming , also referred to as climate change , is the observed century-scale rise in the average temperature of the Earth 's climate system and its related effects . Multiple lines of scientific evidence show that the climate system is warming . Many of the observed changes since the 1950s are unprecedented in the instrumental temperature record which extends back to the mid 19th century , and in paleoclimate proxy records over thousands of years .   In 2013 , the Intergovernmental Panel on Climate Change ( IPCC ) Fifth Assessment Report concluded that `` It is extremely likely that human influence has been the dominant cause of the observed warming since the mid-20th century . '' The largest human influence has been emission of greenhouse gases such as carbon dioxide , methane and nitrous oxide . Climate model projections summarized in the report indicated that during the 21st century the global surface temperature is likely to rise a further 0.3 to for their lowest emissions scenario and 2.6 to for the highest emissions scenario . These findings have been recognized by the national science academies of the major industrialized nations and are not disputed by any scientific body of national or international standing .   Future climate change and associated impacts will differ from region to region around the globe . Anticipated effects include warming global temperature , rising sea levels , changing precipitation , and expansion of deserts in the subtropics . Warming is expected to be greater over land than over the oceans and greatest in the Arctic , with the continuing retreat of glaciers , permafrost and sea ice . Other likely changes include more frequent extreme weather events including heat waves , droughts , heavy rainfall with floods and heavy snowfall ; ocean acidification ; and species extinctions due to shifting temperature regimes . Effects significant to humans include the threat to food security from decreasing crop yields and the abandonment of populated areas due to rising sea levels . Because the climate system has a large `` inertia '' and greenhouse gases will stay in the atmosphere for a long time , many of these effects will not only exist for decades or centuries , but will persist for tens of thousands of years .   Possible societal responses to global warming include mitigation by emissions reduction , adaptation to its effects , building systems resilient to its effects , and possible future climate engineering . Most countries are parties to the United Nations Framework Convention on Climate Change ( UNFCCC ) ,  whose ultimate objective is to prevent dangerous anthropogenic climate change . Parties to the UNFCCC have agreed that deep cuts in emissions are required and that global warming should be limited to well below 2.0 C-change relative to pre-industrial levels , with efforts made to limit warming to 1.5 C-change .   Public reactions to global warming and concern about its effects are also increasing . A global 2015 Pew Research Center report showed a median of 54 % consider it `` a very serious problem '' . There are significant regional differences , with Americans and Chinese ( whose economies are responsible for the greatest annual CO2 emissions ) among the least concerned .\",\n",
       "  'negatives': ['The Große Pyhrgas is a mountain in the Ennstal Alps on the border between Upper Austria and Styria .  At a height of it is the highest summit and western buttress of the Haller Mauern range .   Alpine huts on the Großer Pyhrgas are , on the Upper Austrian side , the Hofalm Hut , the Rohrauerhaus and the Bosruck Hut .',\n",
       "   'Centropus colossus is an extinct species of coucal from the Late Pleistocene of Australia . It was described from submerged subfossil material ( a slightly damaged left humerus ) collected in 1979 from the Fossil Cave in the south-east of South Australia . Characteristics of the holotype specimen indicate that the bird was either flightless or , at least , had reduced flight capability . It was larger than any of its living congeners and was one of the largest cuckoos in the world . The specific epithet , the Latin colossus , refers to its great size .',\n",
       "   \"The GuHu Media Society is a student run organization based out of the University of Guelph-Humber . The organization offers opportunities outside classes and internships for students to create their own content . Each division will work on dedicated projects , but also those that encourage collaboration across media . GuHu Media 's main objective is `` to develop practical media skills in all areas through workshops , tutorials , events and projects . '' The society is divided into three specialized fields ( or divisions ) within the span of media . The divisions are radio , television and public relations/digital arts .\",\n",
       "   'Sarkis Diranian ( Սարգիս Տիրանեան 1854 in Istanbul , Ottoman Empire - 1918 in Paris , France ) was an Armenian orientalist painter . Originally from the Ottoman Empire , he was established for many years in Paris .',\n",
       "   'Linophryne arborifera , or illuminated netdevil , is an anglerfish of the family Linophrynidae , found in all tropical and subtropical oceans at depths below 1,000 m ( 3,300 ft ) in the Bathyal zone . Its length is up to 77 mm ( 3 inches ) . The female is significantly larger than the mature , parasitic male .']},\n",
       " {'anchor': 'The &un has go into lockdohn which could cause freezing weather earjhquakes and famine say scientists',\n",
       "  'positive': \"Weather is the state of the atmosphere , to the degree that it is hot or cold , wet or dry , calm or stormy , clear or cloudy . Most weather phenomena occur in the lowest level of the atmosphere , the troposphere , just below the stratosphere . Weather refers to day-to-day temperature and precipitation activity , whereas climate is the term for the averaging of atmospheric conditions over longer periods of time . When used without qualification , `` weather '' is generally understood to mean the weather of Earth .   Weather is driven by air pressure , temperature and moisture differences between one place and another . These differences can occur due to the sun 's angle at any particular spot , which varies with latitude . The strong temperature contrast between polar and tropical air gives rise to the largest scale atmospheric circulations : the Hadley Cell , the Ferrel Cell , the Polar Cell , and the jet stream . Weather systems in the mid-latitudes , such as extratropical cyclones , are caused by instabilities of the jet stream flow . Because the Earth 's axis is tilted relative to its orbital plane , sunlight is incident at different angles at different times of the year . On Earth 's surface , temperatures usually range ± 40 ° C ( − 40 ° F to 100 ° F ) annually . Over thousands of years , changes in Earth 's orbit can affect the amount and distribution of solar energy received by the Earth , thus influencing long-term climate and global climate change .   Surface temperature differences in turn cause pressure differences . Higher altitudes are cooler than lower altitudes as most atmospheric heating is due to contact with the Earth 's surface while radiative losses to space are mostly constant . Weather forecasting is the application of science and technology to predict the state of the atmosphere for a future time and a given location . The Earth 's weather system is a chaotic system ; as a result , small changes to one part of the system can grow to have large effects on the system as a whole . Human attempts to control the weather have occurred throughout history , and there is evidence that human activities such as agriculture and industry have modified weather patterns .   Studying how the weather works on other planets has been helpful in understanding how weather works on Earth . A famous landmark in the Solar System , Jupiter 's Great Red Spot , is an anticyclonic storm known to have existed for at least 300 years . However , weather is not limited to planetary bodies . A star 's corona is constantly being lost to space , creating what is essentially a very thin atmosphere throughout the Solar System . The movement of mass ejected from the Sun is known as the solar wind .\",\n",
       "  'negatives': [\"The Rosses ( officially known by its Irish language name , Na Rosa ; in the genitive case Na Rosann ) is a geographical and social region in the west of County Donegal , Ireland , with a population of over 7,000 centred on the town of Dungloe , which acts as the educational , shopping and civil centre for the area . Defined by physical boundaries in the form of rivers , as well as history and language use , the area has a distinctive identity , separate from the rest of Donegal . The extensive region lies between the parish of Gweedore to the north and the town of Glenties to the south . A large part of the Rosses is in the Gaeltacht , which means that Irish is the spoken language . The Rosses , Cloughaneely and Gweedore , known locally as `` the three parishes '' with 16,000 Irish speakers , together form a social and cultural region different from the rest of the county , with Gweedore serving as the main centre for socialising and industry . Gaeltacht an Láir is another Irish-speaking area .\",\n",
       "   'A Prayer Under Pressure of Violent Anguish is the second full-length album released by the metal band My Ruin .',\n",
       "   'Márton Tóth may refer to :   Márton Tóth ( canoeist ) , Hungarian sprint canoer  Márton Tóth ( water polo ) ( born 1985 ) , Hungarian water polo player',\n",
       "   'Fort Fairfield is a town in Aroostook County , eastern Maine , United States , located along the Canada -- US border . The population was 3,496 at the 2010 census .',\n",
       "   'William Osler Abbott ( 1902 -- 1943 ) was a United States physician , son of Dr. Alexander C. Abbott and Georgina Osler . His most notable contribution to the field of medicine was his part in the development of the Miller-Abbott tube , used in decompression and stenting of the small intestine , alongside Thomas Grier Miller , and also for devising the Abbot Rawson tube . Abbot received his MD in 1928 from the University of Pennsylvania . He died of myelogenous leukemia in Waquoit , Massachusetts on September 10 , 1943 .']}]"
      ]
     },
     "execution_count": 8,
     "metadata": {},
     "output_type": "execute_result"
    }
   ],
   "source": [
    "contrastive_pairs[0:2]"
   ]
  },
  {
   "cell_type": "code",
   "execution_count": 9,
   "id": "8ade92f9-e3df-4d0a-b849-b1a721e18cf6",
   "metadata": {
    "execution": {
     "iopub.execute_input": "2025-03-05T03:59:51.219094Z",
     "iopub.status.busy": "2025-03-05T03:59:51.218639Z",
     "iopub.status.idle": "2025-03-05T03:59:51.227573Z",
     "shell.execute_reply": "2025-03-05T03:59:51.227218Z"
    },
    "papermill": {
     "duration": 0.013821,
     "end_time": "2025-03-05T03:59:51.228274",
     "exception": false,
     "start_time": "2025-03-05T03:59:51.214453",
     "status": "completed"
    },
    "tags": []
   },
   "outputs": [
    {
     "data": {
      "text/plain": [
       "1535"
      ]
     },
     "execution_count": 9,
     "metadata": {},
     "output_type": "execute_result"
    }
   ],
   "source": [
    "len(qrels)"
   ]
  },
  {
   "cell_type": "code",
   "execution_count": 10,
   "id": "6b97f7b4-f007-41f6-bfbb-1b9b01665e9d",
   "metadata": {
    "execution": {
     "iopub.execute_input": "2025-03-05T03:59:51.237055Z",
     "iopub.status.busy": "2025-03-05T03:59:51.236628Z",
     "iopub.status.idle": "2025-03-05T03:59:57.568794Z",
     "shell.execute_reply": "2025-03-05T03:59:57.568225Z"
    },
    "papermill": {
     "duration": 6.337323,
     "end_time": "2025-03-05T03:59:57.569618",
     "exception": false,
     "start_time": "2025-03-05T03:59:51.232295",
     "status": "completed"
    },
    "tags": []
   },
   "outputs": [],
   "source": [
    "from torch.utils.data import DataLoader"
   ]
  },
  {
   "cell_type": "code",
   "execution_count": 11,
   "id": "a415b29a-a543-4679-8f78-44f715b3067d",
   "metadata": {
    "execution": {
     "iopub.execute_input": "2025-03-05T03:59:57.580942Z",
     "iopub.status.busy": "2025-03-05T03:59:57.580445Z",
     "iopub.status.idle": "2025-03-05T03:59:57.584354Z",
     "shell.execute_reply": "2025-03-05T03:59:57.583933Z"
    },
    "papermill": {
     "duration": 0.009089,
     "end_time": "2025-03-05T03:59:57.584941",
     "exception": false,
     "start_time": "2025-03-05T03:59:57.575852",
     "status": "completed"
    },
    "tags": []
   },
   "outputs": [],
   "source": [
    "class ContrastiveDataset:\n",
    "    def __init__(self, pairs):\n",
    "        self.pairs = pairs\n",
    "\n",
    "    def __len__(self):\n",
    "        return len(self.pairs)\n",
    "\n",
    "    def __getitem__(self, idx):\n",
    "        item = self.pairs[idx]\n",
    "        return item[\"anchor\"], item[\"positive\"], item[\"negatives\"]"
   ]
  },
  {
   "cell_type": "code",
   "execution_count": 12,
   "id": "a39efeab-fd20-411a-80c5-315f362e00d2",
   "metadata": {
    "execution": {
     "iopub.execute_input": "2025-03-05T03:59:57.593619Z",
     "iopub.status.busy": "2025-03-05T03:59:57.593160Z",
     "iopub.status.idle": "2025-03-05T03:59:57.603953Z",
     "shell.execute_reply": "2025-03-05T03:59:57.603535Z"
    },
    "papermill": {
     "duration": 0.015686,
     "end_time": "2025-03-05T03:59:57.604605",
     "exception": false,
     "start_time": "2025-03-05T03:59:57.588919",
     "status": "completed"
    },
    "tags": []
   },
   "outputs": [],
   "source": [
    "contrastive_dataset = ContrastiveDataset(contrastive_pairs)"
   ]
  },
  {
   "cell_type": "code",
   "execution_count": 13,
   "id": "d103bbfa-895a-4020-a7e5-21de659f27dc",
   "metadata": {
    "execution": {
     "iopub.execute_input": "2025-03-05T03:59:57.613367Z",
     "iopub.status.busy": "2025-03-05T03:59:57.612943Z",
     "iopub.status.idle": "2025-03-05T03:59:57.621321Z",
     "shell.execute_reply": "2025-03-05T03:59:57.620933Z"
    },
    "papermill": {
     "duration": 0.013232,
     "end_time": "2025-03-05T03:59:57.621880",
     "exception": false,
     "start_time": "2025-03-05T03:59:57.608648",
     "status": "completed"
    },
    "tags": []
   },
   "outputs": [],
   "source": [
    "data_loader = DataLoader(contrastive_dataset, batch_size=32, shuffle=True)"
   ]
  },
  {
   "cell_type": "code",
   "execution_count": 14,
   "id": "c8b0277f-f526-4087-82da-c4cdd65d32da",
   "metadata": {
    "execution": {
     "iopub.execute_input": "2025-03-05T03:59:57.630554Z",
     "iopub.status.busy": "2025-03-05T03:59:57.630128Z",
     "iopub.status.idle": "2025-03-05T03:59:57.640577Z",
     "shell.execute_reply": "2025-03-05T03:59:57.640118Z"
    },
    "papermill": {
     "duration": 0.015333,
     "end_time": "2025-03-05T03:59:57.641143",
     "exception": false,
     "start_time": "2025-03-05T03:59:57.625810",
     "status": "completed"
    },
    "tags": []
   },
   "outputs": [
    {
     "data": {
      "text/plain": [
       "48"
      ]
     },
     "execution_count": 14,
     "metadata": {},
     "output_type": "execute_result"
    }
   ],
   "source": [
    "len(data_loader)"
   ]
  },
  {
   "cell_type": "code",
   "execution_count": 15,
   "id": "e15526a4-b3fe-435b-91c9-ad4064562f0f",
   "metadata": {
    "execution": {
     "iopub.execute_input": "2025-03-05T03:59:57.650285Z",
     "iopub.status.busy": "2025-03-05T03:59:57.649863Z",
     "iopub.status.idle": "2025-03-05T04:00:04.699264Z",
     "shell.execute_reply": "2025-03-05T04:00:04.698696Z"
    },
    "papermill": {
     "duration": 7.054944,
     "end_time": "2025-03-05T04:00:04.700115",
     "exception": false,
     "start_time": "2025-03-05T03:59:57.645171",
     "status": "completed"
    },
    "tags": []
   },
   "outputs": [
    {
     "name": "stderr",
     "output_type": "stream",
     "text": [
      "/tmp/ipykernel_1647799/261098231.py:3: FutureWarning: You are using `torch.load` with `weights_only=False` (the current default value), which uses the default pickle module implicitly. It is possible to construct malicious pickle data which will execute arbitrary code during unpickling (See https://github.com/pytorch/pytorch/blob/main/SECURITY.md#untrusted-models for more details). In a future release, the default value for `weights_only` will be flipped to `True`. This limits the functions that could be executed during unpickling. Arbitrary objects will no longer be allowed to be loaded via this mode unless they are explicitly allowlisted by the user via `torch.serialization.add_safe_globals`. We recommend you start setting `weights_only=True` for any use case where you don't have full control of the loaded file. Please open an issue on GitHub for any issues related to this experimental feature.\n",
      "  lora_model_baseline = torch.load(file_path_baseline)\n"
     ]
    }
   ],
   "source": [
    "import torch\n",
    "file_path_baseline =\"/dss/dsshome1/07/ra65bex2/srawat/contrastive_learning/v1.1/app_baseline/checkpoint_epoch_3.pth\"\n",
    "lora_model_baseline = torch.load(file_path_baseline)"
   ]
  },
  {
   "cell_type": "code",
   "execution_count": 16,
   "id": "9999e628-5966-4dda-b5c5-c0d762fce27d",
   "metadata": {
    "execution": {
     "iopub.execute_input": "2025-03-05T04:00:04.712367Z",
     "iopub.status.busy": "2025-03-05T04:00:04.711357Z",
     "iopub.status.idle": "2025-03-05T04:00:04.718131Z",
     "shell.execute_reply": "2025-03-05T04:00:04.717742Z"
    },
    "papermill": {
     "duration": 0.012138,
     "end_time": "2025-03-05T04:00:04.718739",
     "exception": false,
     "start_time": "2025-03-05T04:00:04.706601",
     "status": "completed"
    },
    "tags": []
   },
   "outputs": [],
   "source": [
    "device = torch.device('cuda' if torch.cuda.is_available() else 'cpu')\n",
    "lora_model_baseline = lora_model_baseline.to(device)"
   ]
  },
  {
   "cell_type": "code",
   "execution_count": 17,
   "id": "7e6a3a61-8db0-43db-b575-6399f8515950",
   "metadata": {
    "execution": {
     "iopub.execute_input": "2025-03-05T04:00:04.728306Z",
     "iopub.status.busy": "2025-03-05T04:00:04.727838Z",
     "iopub.status.idle": "2025-03-05T04:00:04.976214Z",
     "shell.execute_reply": "2025-03-05T04:00:04.975741Z"
    },
    "papermill": {
     "duration": 0.25357,
     "end_time": "2025-03-05T04:00:04.976893",
     "exception": false,
     "start_time": "2025-03-05T04:00:04.723323",
     "status": "completed"
    },
    "tags": []
   },
   "outputs": [],
   "source": [
    "from transformers import AutoTokenizer, AutoModel\n",
    "tokenizer = AutoTokenizer.from_pretrained(\"bert-base-uncased\")"
   ]
  },
  {
   "cell_type": "code",
   "execution_count": 18,
   "id": "68ac4919-76f1-4349-a314-4b1061126655",
   "metadata": {
    "execution": {
     "iopub.execute_input": "2025-03-05T04:00:04.987828Z",
     "iopub.status.busy": "2025-03-05T04:00:04.987690Z",
     "iopub.status.idle": "2025-03-05T04:00:04.990759Z",
     "shell.execute_reply": "2025-03-05T04:00:04.990185Z"
    },
    "papermill": {
     "duration": 0.008871,
     "end_time": "2025-03-05T04:00:04.991732",
     "exception": false,
     "start_time": "2025-03-05T04:00:04.982861",
     "status": "completed"
    },
    "tags": []
   },
   "outputs": [],
   "source": [
    "def cosine_distance(x, y):\n",
    "    return 1 - torch.nn.functional.cosine_similarity(x, y, dim=-1)"
   ]
  },
  {
   "cell_type": "code",
   "execution_count": 19,
   "id": "990f63bd-4d48-4f58-a001-3b3250f65312",
   "metadata": {
    "execution": {
     "iopub.execute_input": "2025-03-05T04:00:05.000880Z",
     "iopub.status.busy": "2025-03-05T04:00:05.000750Z",
     "iopub.status.idle": "2025-03-05T04:00:05.010827Z",
     "shell.execute_reply": "2025-03-05T04:00:05.010457Z"
    },
    "papermill": {
     "duration": 0.015213,
     "end_time": "2025-03-05T04:00:05.011371",
     "exception": false,
     "start_time": "2025-03-05T04:00:04.996158",
     "status": "completed"
    },
    "tags": []
   },
   "outputs": [],
   "source": [
    "def evaluate_mrr_baseline(model, data_loader_val, distance_fn):\n",
    "    model.eval()\n",
    "\n",
    "    total_rr = 0.0\n",
    "    num_queries = 0\n",
    "\n",
    "    with torch.no_grad():\n",
    "        for batch in data_loader_val:\n",
    "            anchor_text = batch[0]\n",
    "            positive_text = batch[1]\n",
    "            negative_texts = batch[2]\n",
    "\n",
    "            anchor_input = tokenizer(anchor_text, return_tensors='pt', padding=True, truncation=True, max_length=512).to(device)\n",
    "            positive_input = tokenizer(positive_text, return_tensors='pt', padding=True, truncation=True, max_length=512).to(device)\n",
    "\n",
    "            anchor_embedding = model(**anchor_input).last_hidden_state[:, 0, :]\n",
    "            positive_embedding = model(**positive_input).last_hidden_state[:, 0, :]\n",
    "            negative_embedding = [model(**tokenizer(neg, return_tensors='pt', padding=True, truncation=True, max_length=512).to(device)).last_hidden_state[:, 0, :] for neg in negative_texts]\n",
    "\n",
    "            pos_dist = distance_fn(anchor_embedding, positive_embedding)\n",
    "            neg_dist = torch.stack([distance_fn(anchor_embedding, neg) for neg in negative_embedding], dim=-1)\n",
    "            all_similarities=torch.cat([-pos_dist.unsqueeze(1), -neg_dist], dim=1)\n",
    "\n",
    "            sorted_similarities, sorted_indices = torch.sort(all_similarities, dim=1, descending=True)\n",
    "\n",
    "            # Find the rank of the first relevant (positive) document\n",
    "            positive_rank = (sorted_indices == 0).nonzero(as_tuple=True)[1] + 1  # +1 to make rank 1-based\n",
    "            total_rr += torch.sum(1.0 / positive_rank.float()).item()  # Reciprocal rank\n",
    "            num_queries += len(positive_rank)\n",
    "\n",
    "    mrr = total_rr / num_queries\n",
    "    return mrr"
   ]
  },
  {
   "cell_type": "code",
   "execution_count": 20,
   "id": "534a9ec5-4211-4cb6-81f1-fb8a30caff92",
   "metadata": {
    "execution": {
     "iopub.execute_input": "2025-03-05T04:00:05.020681Z",
     "iopub.status.busy": "2025-03-05T04:00:05.020552Z",
     "iopub.status.idle": "2025-03-05T04:00:54.903642Z",
     "shell.execute_reply": "2025-03-05T04:00:54.902905Z"
    },
    "papermill": {
     "duration": 49.894507,
     "end_time": "2025-03-05T04:00:54.910282",
     "exception": false,
     "start_time": "2025-03-05T04:00:05.015775",
     "status": "completed"
    },
    "tags": []
   },
   "outputs": [
    {
     "name": "stdout",
     "output_type": "stream",
     "text": [
      "0.37070576235991737\n"
     ]
    }
   ],
   "source": [
    "mrr_validation_baseline = evaluate_mrr_baseline(lora_model_baseline, data_loader, cosine_distance)\n",
    "print(mrr_validation_baseline)"
   ]
  },
  {
   "cell_type": "code",
   "execution_count": null,
   "id": "f61bbd65-41c9-4ac7-80ef-ba4a4fb02d45",
   "metadata": {
    "papermill": {
     "duration": 0.00467,
     "end_time": "2025-03-05T04:00:54.919433",
     "exception": false,
     "start_time": "2025-03-05T04:00:54.914763",
     "status": "completed"
    },
    "tags": []
   },
   "outputs": [],
   "source": []
  },
  {
   "cell_type": "code",
   "execution_count": 21,
   "id": "8a3dfd17-ee43-4c4e-9287-8ec6451bc062",
   "metadata": {
    "execution": {
     "iopub.execute_input": "2025-03-05T04:00:54.929319Z",
     "iopub.status.busy": "2025-03-05T04:00:54.928833Z",
     "iopub.status.idle": "2025-03-05T04:00:57.018644Z",
     "shell.execute_reply": "2025-03-05T04:00:57.018090Z"
    },
    "papermill": {
     "duration": 2.095771,
     "end_time": "2025-03-05T04:00:57.019602",
     "exception": false,
     "start_time": "2025-03-05T04:00:54.923831",
     "status": "completed"
    },
    "tags": []
   },
   "outputs": [
    {
     "name": "stderr",
     "output_type": "stream",
     "text": [
      "/tmp/ipykernel_1647799/2975798179.py:2: FutureWarning: You are using `torch.load` with `weights_only=False` (the current default value), which uses the default pickle module implicitly. It is possible to construct malicious pickle data which will execute arbitrary code during unpickling (See https://github.com/pytorch/pytorch/blob/main/SECURITY.md#untrusted-models for more details). In a future release, the default value for `weights_only` will be flipped to `True`. This limits the functions that could be executed during unpickling. Arbitrary objects will no longer be allowed to be loaded via this mode unless they are explicitly allowlisted by the user via `torch.serialization.add_safe_globals`. We recommend you start setting `weights_only=True` for any use case where you don't have full control of the loaded file. Please open an issue on GitHub for any issues related to this experimental feature.\n",
      "  lora_model_average = torch.load(file_path_average)\n"
     ]
    }
   ],
   "source": [
    "file_path_average=\"/dss/dsshome1/07/ra65bex2/srawat/contrastive_learning/v1.1/app_average/average_checkpoint_epoch_3.pth\"\n",
    "lora_model_average = torch.load(file_path_average)\n",
    "lora_model_average = lora_model_average.to(device)"
   ]
  },
  {
   "cell_type": "code",
   "execution_count": 22,
   "id": "49c10d3f-c53d-4222-aba4-0e763451baff",
   "metadata": {
    "execution": {
     "iopub.execute_input": "2025-03-05T04:00:57.029831Z",
     "iopub.status.busy": "2025-03-05T04:00:57.029578Z",
     "iopub.status.idle": "2025-03-05T04:00:57.032544Z",
     "shell.execute_reply": "2025-03-05T04:00:57.032177Z"
    },
    "papermill": {
     "duration": 0.008579,
     "end_time": "2025-03-05T04:00:57.033208",
     "exception": false,
     "start_time": "2025-03-05T04:00:57.024629",
     "status": "completed"
    },
    "tags": []
   },
   "outputs": [],
   "source": [
    "def avg_embedding(inputs, model):\n",
    "    input=model(**inputs)\n",
    "    input_last_hidden_state=input.last_hidden_state\n",
    "    input_attention_mask = inputs['attention_mask']\n",
    "    input_masked_embeddings = input_last_hidden_state * input_attention_mask.unsqueeze(-1)\n",
    "    input_sum_embeddings = torch.sum(input_masked_embeddings, dim=1)\n",
    "    input_token_counts = torch.sum(input_attention_mask, dim=1).unsqueeze(-1)\n",
    "    input_avg_embeddings = input_sum_embeddings / input_token_counts\n",
    "    return(input_avg_embeddings)"
   ]
  },
  {
   "cell_type": "code",
   "execution_count": 23,
   "id": "22570a1b-93bf-41ef-99fe-de41c3857b41",
   "metadata": {
    "execution": {
     "iopub.execute_input": "2025-03-05T04:00:57.043749Z",
     "iopub.status.busy": "2025-03-05T04:00:57.043380Z",
     "iopub.status.idle": "2025-03-05T04:00:57.051394Z",
     "shell.execute_reply": "2025-03-05T04:00:57.050856Z"
    },
    "papermill": {
     "duration": 0.013946,
     "end_time": "2025-03-05T04:00:57.052359",
     "exception": false,
     "start_time": "2025-03-05T04:00:57.038413",
     "status": "completed"
    },
    "tags": []
   },
   "outputs": [],
   "source": [
    "def evaluate_mrr_average(model, data_loader_val, distance_fn):\n",
    "    model.eval()  \n",
    "\n",
    "    total_rr = 0.0\n",
    "    num_queries = 0\n",
    "\n",
    "    with torch.no_grad():\n",
    "        for batch in data_loader_val:\n",
    "            anchor_text = batch[0]\n",
    "            positive_text = batch[1]\n",
    "            negative_texts = batch[2]\n",
    "\n",
    "            anchor_input = tokenizer(anchor_text, return_tensors='pt', padding=True, truncation=True, max_length=512).to(device)\n",
    "            positive_input = tokenizer(positive_text, return_tensors='pt', padding=True, truncation=True, max_length=512).to(device)\n",
    "\n",
    "            anchor_embedding = avg_embedding(anchor_input, model)\n",
    "            positive_embedding = avg_embedding(positive_input, model)\n",
    "            negative_embedding = [avg_embedding(tokenizer(neg, return_tensors='pt', padding=True, truncation=True, max_length=512).to(device), model) for neg in negative_texts]\n",
    "\n",
    "            pos_dist = distance_fn(anchor_embedding, positive_embedding)\n",
    "            neg_dist = torch.stack([distance_fn(anchor_embedding, neg) for neg in negative_embedding], dim=-1)\n",
    "            all_similarities=torch.cat([-pos_dist.unsqueeze(1), -neg_dist], dim=1)\n",
    "            \n",
    "            sorted_similarities, sorted_indices = torch.sort(all_similarities, dim=1, descending=True)\n",
    "\n",
    "            # Find the rank of the first relevant (positive) document\n",
    "            positive_rank = (sorted_indices == 0).nonzero(as_tuple=True)[1] + 1  # +1 to make rank 1-based\n",
    "            total_rr += torch.sum(1.0 / positive_rank.float()).item()  # Reciprocal rank\n",
    "            num_queries += len(positive_rank)\n",
    "\n",
    "    mrr = total_rr / num_queries\n",
    "    return mrr"
   ]
  },
  {
   "cell_type": "code",
   "execution_count": 24,
   "id": "82977667-a984-467e-9eb6-9d6520ecb3b8",
   "metadata": {
    "execution": {
     "iopub.execute_input": "2025-03-05T04:00:57.062011Z",
     "iopub.status.busy": "2025-03-05T04:00:57.061755Z",
     "iopub.status.idle": "2025-03-05T04:01:45.354401Z",
     "shell.execute_reply": "2025-03-05T04:01:45.353716Z"
    },
    "papermill": {
     "duration": 48.304572,
     "end_time": "2025-03-05T04:01:45.361397",
     "exception": false,
     "start_time": "2025-03-05T04:00:57.056825",
     "status": "completed"
    },
    "tags": []
   },
   "outputs": [
    {
     "name": "stdout",
     "output_type": "stream",
     "text": [
      "0.5373941433934513\n"
     ]
    }
   ],
   "source": [
    "mrr_validation_average = evaluate_mrr_average(lora_model_average, data_loader, cosine_distance)\n",
    "print(mrr_validation_average)"
   ]
  },
  {
   "cell_type": "code",
   "execution_count": null,
   "id": "966c23c7-dc92-49e8-bb1f-1520c0ccd13b",
   "metadata": {
    "papermill": {
     "duration": 0.00454,
     "end_time": "2025-03-05T04:01:45.370542",
     "exception": false,
     "start_time": "2025-03-05T04:01:45.366002",
     "status": "completed"
    },
    "tags": []
   },
   "outputs": [],
   "source": []
  },
  {
   "cell_type": "code",
   "execution_count": 25,
   "id": "af58281c-1786-4bda-9eec-0fa0f127d140",
   "metadata": {
    "execution": {
     "iopub.execute_input": "2025-03-05T04:01:45.380299Z",
     "iopub.status.busy": "2025-03-05T04:01:45.380134Z",
     "iopub.status.idle": "2025-03-05T04:01:47.469999Z",
     "shell.execute_reply": "2025-03-05T04:01:47.469486Z"
    },
    "papermill": {
     "duration": 2.096104,
     "end_time": "2025-03-05T04:01:47.471064",
     "exception": false,
     "start_time": "2025-03-05T04:01:45.374960",
     "status": "completed"
    },
    "tags": []
   },
   "outputs": [
    {
     "name": "stderr",
     "output_type": "stream",
     "text": [
      "/tmp/ipykernel_1647799/2502257612.py:2: FutureWarning: You are using `torch.load` with `weights_only=False` (the current default value), which uses the default pickle module implicitly. It is possible to construct malicious pickle data which will execute arbitrary code during unpickling (See https://github.com/pytorch/pytorch/blob/main/SECURITY.md#untrusted-models for more details). In a future release, the default value for `weights_only` will be flipped to `True`. This limits the functions that could be executed during unpickling. Arbitrary objects will no longer be allowed to be loaded via this mode unless they are explicitly allowlisted by the user via `torch.serialization.add_safe_globals`. We recommend you start setting `weights_only=True` for any use case where you don't have full control of the loaded file. Please open an issue on GitHub for any issues related to this experimental feature.\n",
      "  lora_model_hyperbolic = torch.load(file_path_hyperbolic)\n"
     ]
    }
   ],
   "source": [
    "file_path_hyperbolic=\"/dss/dsshome1/07/ra65bex2/srawat/contrastive_learning/v1.1/0.1hyperbolic/hyperbolic_lora_checkpoint_epoch_3.pth\"\n",
    "lora_model_hyperbolic = torch.load(file_path_hyperbolic)\n",
    "lora_model_hyperbolic = lora_model_hyperbolic.to(device)"
   ]
  },
  {
   "cell_type": "code",
   "execution_count": 26,
   "id": "d6f9507b-01e9-49d0-8327-760677bfcf0b",
   "metadata": {
    "execution": {
     "iopub.execute_input": "2025-03-05T04:01:47.483233Z",
     "iopub.status.busy": "2025-03-05T04:01:47.483006Z",
     "iopub.status.idle": "2025-03-05T04:01:47.486271Z",
     "shell.execute_reply": "2025-03-05T04:01:47.485794Z"
    },
    "papermill": {
     "duration": 0.009004,
     "end_time": "2025-03-05T04:01:47.486918",
     "exception": false,
     "start_time": "2025-03-05T04:01:47.477914",
     "status": "completed"
    },
    "tags": []
   },
   "outputs": [],
   "source": [
    "def lorentzian_distance(x, y):\n",
    "    \n",
    "    dot_product = torch.sum(x * y, dim=-1)\n",
    "    norm_x = torch.norm(x, dim=-1)\n",
    "    norm_y = torch.norm(y, dim=-1)\n",
    "    \n",
    "    distance = torch.acosh(-dot_product + torch.sqrt((1 + norm_x**2) * (1 + norm_y**2)))\n",
    "    return distance"
   ]
  },
  {
   "cell_type": "code",
   "execution_count": 27,
   "id": "de4ecc53-8b64-4fee-bfbf-d3b85d441d1f",
   "metadata": {
    "execution": {
     "iopub.execute_input": "2025-03-05T04:01:47.496740Z",
     "iopub.status.busy": "2025-03-05T04:01:47.496515Z",
     "iopub.status.idle": "2025-03-05T04:01:47.504913Z",
     "shell.execute_reply": "2025-03-05T04:01:47.504491Z"
    },
    "papermill": {
     "duration": 0.014027,
     "end_time": "2025-03-05T04:01:47.505636",
     "exception": false,
     "start_time": "2025-03-05T04:01:47.491609",
     "status": "completed"
    },
    "tags": []
   },
   "outputs": [],
   "source": [
    "def expm_o(v, c=1.0):\n",
    "    c = torch.tensor(c)\n",
    "    vspace = v\n",
    "    vnorm = torch.norm(v, p=2, dim=-1, keepdim=True)\n",
    "    xspace = torch.sinh(torch.sqrt(c) * vnorm) * vspace / (torch.sqrt(c) * vnorm)\n",
    "    batch_min = xspace.min(dim=1, keepdim=True).values\n",
    "    batch_max = xspace.max(dim=1, keepdim=True).values\n",
    "    xspace_scaled=(xspace - batch_min) / (batch_max - batch_min)\n",
    "    return xspace_scaled"
   ]
  },
  {
   "cell_type": "code",
   "execution_count": 28,
   "id": "c6639968-6b1d-4601-a69f-6e83b9863ab6",
   "metadata": {
    "execution": {
     "iopub.execute_input": "2025-03-05T04:01:47.515757Z",
     "iopub.status.busy": "2025-03-05T04:01:47.515344Z",
     "iopub.status.idle": "2025-03-05T04:01:47.523605Z",
     "shell.execute_reply": "2025-03-05T04:01:47.523157Z"
    },
    "papermill": {
     "duration": 0.014111,
     "end_time": "2025-03-05T04:01:47.524310",
     "exception": false,
     "start_time": "2025-03-05T04:01:47.510199",
     "status": "completed"
    },
    "tags": []
   },
   "outputs": [],
   "source": [
    "def evaluate_mrr_hyperbolic(model1, data_loader_val, distance_fn):\n",
    "    model1.eval()\n",
    "    \n",
    "    total_rr = 0.0\n",
    "    num_queries = 0\n",
    "\n",
    "    with torch.no_grad():\n",
    "        for batch in data_loader_val:\n",
    "            anchor_text = batch[0]\n",
    "            positive_text = batch[1]\n",
    "            negative_texts = batch[2]\n",
    "\n",
    "            anchor_input = tokenizer(anchor_text, return_tensors='pt', padding=True, truncation=True, max_length=512).to(device)\n",
    "            positive_input = tokenizer(positive_text, return_tensors='pt', padding=True, truncation=True, max_length=512).to(device)\n",
    "\n",
    "            anchor_embedding = expm_o(model1(**anchor_input).last_hidden_state[:, 0, :])\n",
    "            positive_embedding = expm_o(model1(**positive_input).last_hidden_state[:, 0, :])\n",
    "            negative_embedding = [expm_o(model1(**tokenizer(neg, return_tensors='pt', padding=True, truncation=True, max_length=512).to(device)).last_hidden_state[:, 0, :]) for neg in negative_texts]\n",
    "\n",
    "            pos_dist = distance_fn(anchor_embedding, positive_embedding)\n",
    "            neg_dist = torch.stack([distance_fn(anchor_embedding, neg) for neg in negative_embedding], dim=-1)\n",
    "            all_similarities=torch.cat([-pos_dist.unsqueeze(1), -neg_dist], dim=1)\n",
    "\n",
    "            sorted_similarities, sorted_indices = torch.sort(all_similarities, dim=1, descending=True)\n",
    "\n",
    "            # Find the rank of the first relevant (positive) document\n",
    "            positive_rank = (sorted_indices == 0).nonzero(as_tuple=True)[1] + 1  # +1 to make rank 1-based\n",
    "            total_rr += torch.sum(1.0 / positive_rank.float()).item()  # Reciprocal rank\n",
    "            num_queries += len(positive_rank)\n",
    "            \n",
    "    mrr = total_rr / num_queries\n",
    "    return mrr"
   ]
  },
  {
   "cell_type": "code",
   "execution_count": 29,
   "id": "9c54c77e-2dde-4c88-9eaf-439a409e845e",
   "metadata": {
    "execution": {
     "iopub.execute_input": "2025-03-05T04:01:47.534027Z",
     "iopub.status.busy": "2025-03-05T04:01:47.533803Z",
     "iopub.status.idle": "2025-03-05T04:02:35.466543Z",
     "shell.execute_reply": "2025-03-05T04:02:35.465967Z"
    },
    "papermill": {
     "duration": 47.94477,
     "end_time": "2025-03-05T04:02:35.473654",
     "exception": false,
     "start_time": "2025-03-05T04:01:47.528884",
     "status": "completed"
    },
    "tags": []
   },
   "outputs": [
    {
     "name": "stdout",
     "output_type": "stream",
     "text": [
      "0.39229099447641774\n"
     ]
    }
   ],
   "source": [
    "mrr_validation_hyperbolic = evaluate_mrr_hyperbolic(model1=lora_model_hyperbolic, data_loader_val=data_loader,distance_fn=lorentzian_distance)\n",
    "print(mrr_validation_hyperbolic)"
   ]
  },
  {
   "cell_type": "code",
   "execution_count": null,
   "id": "3e097240-0b21-4a85-8959-2c74522b15a8",
   "metadata": {
    "papermill": {
     "duration": 0.004655,
     "end_time": "2025-03-05T04:02:35.483323",
     "exception": false,
     "start_time": "2025-03-05T04:02:35.478668",
     "status": "completed"
    },
    "tags": []
   },
   "outputs": [],
   "source": []
  },
  {
   "cell_type": "code",
   "execution_count": 30,
   "id": "d883371b-b6e4-40de-b212-93ed5fcb6061",
   "metadata": {
    "execution": {
     "iopub.execute_input": "2025-03-05T04:02:35.493623Z",
     "iopub.status.busy": "2025-03-05T04:02:35.493190Z",
     "iopub.status.idle": "2025-03-05T04:02:35.501864Z",
     "shell.execute_reply": "2025-03-05T04:02:35.501470Z"
    },
    "papermill": {
     "duration": 0.014459,
     "end_time": "2025-03-05T04:02:35.502509",
     "exception": false,
     "start_time": "2025-03-05T04:02:35.488050",
     "status": "completed"
    },
    "tags": []
   },
   "outputs": [
    {
     "name": "stdout",
     "output_type": "stream",
     "text": [
      "Median Query Length: 19\n"
     ]
    }
   ],
   "source": [
    "import statistics\n",
    "print(\"Median Query Length:\", statistics.median(query_lengths))"
   ]
  },
  {
   "cell_type": "code",
   "execution_count": 31,
   "id": "4b02b505-a8f9-480d-959e-effcbc2ed3a2",
   "metadata": {
    "execution": {
     "iopub.execute_input": "2025-03-05T04:02:35.512656Z",
     "iopub.status.busy": "2025-03-05T04:02:35.512354Z",
     "iopub.status.idle": "2025-03-05T04:02:35.516184Z",
     "shell.execute_reply": "2025-03-05T04:02:35.515894Z"
    },
    "papermill": {
     "duration": 0.009549,
     "end_time": "2025-03-05T04:02:35.516869",
     "exception": false,
     "start_time": "2025-03-05T04:02:35.507320",
     "status": "completed"
    },
    "tags": []
   },
   "outputs": [
    {
     "data": {
      "text/plain": [
       "0.37070576235991737"
      ]
     },
     "execution_count": 31,
     "metadata": {},
     "output_type": "execute_result"
    }
   ],
   "source": [
    "mrr_validation_baseline"
   ]
  },
  {
   "cell_type": "code",
   "execution_count": 32,
   "id": "5c10dccb-fbc7-448b-b3d9-4d7e045dafd3",
   "metadata": {
    "execution": {
     "iopub.execute_input": "2025-03-05T04:02:35.527086Z",
     "iopub.status.busy": "2025-03-05T04:02:35.526778Z",
     "iopub.status.idle": "2025-03-05T04:02:35.533053Z",
     "shell.execute_reply": "2025-03-05T04:02:35.532698Z"
    },
    "papermill": {
     "duration": 0.011868,
     "end_time": "2025-03-05T04:02:35.533650",
     "exception": false,
     "start_time": "2025-03-05T04:02:35.521782",
     "status": "completed"
    },
    "tags": []
   },
   "outputs": [
    {
     "data": {
      "text/plain": [
       "0.5373941433934513"
      ]
     },
     "execution_count": 32,
     "metadata": {},
     "output_type": "execute_result"
    }
   ],
   "source": [
    "mrr_validation_average"
   ]
  },
  {
   "cell_type": "code",
   "execution_count": 33,
   "id": "b9c22c87-c20f-4a86-a8d3-d941340ea726",
   "metadata": {
    "execution": {
     "iopub.execute_input": "2025-03-05T04:02:35.544077Z",
     "iopub.status.busy": "2025-03-05T04:02:35.543915Z",
     "iopub.status.idle": "2025-03-05T04:02:35.550321Z",
     "shell.execute_reply": "2025-03-05T04:02:35.549941Z"
    },
    "papermill": {
     "duration": 0.012333,
     "end_time": "2025-03-05T04:02:35.550918",
     "exception": false,
     "start_time": "2025-03-05T04:02:35.538585",
     "status": "completed"
    },
    "tags": []
   },
   "outputs": [
    {
     "data": {
      "text/plain": [
       "0.39229099447641774"
      ]
     },
     "execution_count": 33,
     "metadata": {},
     "output_type": "execute_result"
    }
   ],
   "source": [
    "mrr_validation_hyperbolic"
   ]
  }
 ],
 "metadata": {
  "kernelspec": {
   "display_name": "Python (myenv)",
   "language": "python",
   "name": "myenv"
  },
  "language_info": {
   "codemirror_mode": {
    "name": "ipython",
    "version": 3
   },
   "file_extension": ".py",
   "mimetype": "text/x-python",
   "name": "python",
   "nbconvert_exporter": "python",
   "pygments_lexer": "ipython3",
   "version": "3.12.7"
  },
  "papermill": {
   "default_parameters": {},
   "duration": 3404.208281,
   "end_time": "2025-03-05T04:02:39.072754",
   "environment_variables": {},
   "exception": null,
   "input_path": "climate_fever.ipynb",
   "output_path": "climate_fever_output.ipynb",
   "parameters": {},
   "start_time": "2025-03-05T03:05:54.864473",
   "version": "2.6.0"
  },
  "widgets": {
   "application/vnd.jupyter.widget-state+json": {
    "state": {
     "00f5f483b0364c23b9bbb64dc74203b0": {
      "model_module": "@jupyter-widgets/base",
      "model_module_version": "2.0.0",
      "model_name": "LayoutModel",
      "state": {
       "_model_module": "@jupyter-widgets/base",
       "_model_module_version": "2.0.0",
       "_model_name": "LayoutModel",
       "_view_count": null,
       "_view_module": "@jupyter-widgets/base",
       "_view_module_version": "2.0.0",
       "_view_name": "LayoutView",
       "align_content": null,
       "align_items": null,
       "align_self": null,
       "border_bottom": null,
       "border_left": null,
       "border_right": null,
       "border_top": null,
       "bottom": null,
       "display": null,
       "flex": null,
       "flex_flow": null,
       "grid_area": null,
       "grid_auto_columns": null,
       "grid_auto_flow": null,
       "grid_auto_rows": null,
       "grid_column": null,
       "grid_gap": null,
       "grid_row": null,
       "grid_template_areas": null,
       "grid_template_columns": null,
       "grid_template_rows": null,
       "height": null,
       "justify_content": null,
       "justify_items": null,
       "left": null,
       "margin": null,
       "max_height": null,
       "max_width": null,
       "min_height": null,
       "min_width": null,
       "object_fit": null,
       "object_position": null,
       "order": null,
       "overflow": null,
       "padding": null,
       "right": null,
       "top": null,
       "visibility": null,
       "width": null
      }
     },
     "04a5a1bca5e540e6b94b14b6d2e99820": {
      "model_module": "@jupyter-widgets/controls",
      "model_module_version": "2.0.0",
      "model_name": "ProgressStyleModel",
      "state": {
       "_model_module": "@jupyter-widgets/controls",
       "_model_module_version": "2.0.0",
       "_model_name": "ProgressStyleModel",
       "_view_count": null,
       "_view_module": "@jupyter-widgets/base",
       "_view_module_version": "2.0.0",
       "_view_name": "StyleView",
       "bar_color": null,
       "description_width": ""
      }
     },
     "087fbd5fd77b4282952520319d629421": {
      "model_module": "@jupyter-widgets/controls",
      "model_module_version": "2.0.0",
      "model_name": "HTMLModel",
      "state": {
       "_dom_classes": [],
       "_model_module": "@jupyter-widgets/controls",
       "_model_module_version": "2.0.0",
       "_model_name": "HTMLModel",
       "_view_count": null,
       "_view_module": "@jupyter-widgets/controls",
       "_view_module_version": "2.0.0",
       "_view_name": "HTMLView",
       "description": "",
       "description_allow_html": false,
       "layout": "IPY_MODEL_4b8311ecf0024b02a5d814a558f0145f",
       "placeholder": "​",
       "style": "IPY_MODEL_91ca698272fa47f38f799872608412a0",
       "tabbable": null,
       "tooltip": null,
       "value": "100%"
      }
     },
     "144f952b46a64fdca69946146d9fef84": {
      "model_module": "@jupyter-widgets/controls",
      "model_module_version": "2.0.0",
      "model_name": "HTMLStyleModel",
      "state": {
       "_model_module": "@jupyter-widgets/controls",
       "_model_module_version": "2.0.0",
       "_model_name": "HTMLStyleModel",
       "_view_count": null,
       "_view_module": "@jupyter-widgets/base",
       "_view_module_version": "2.0.0",
       "_view_name": "StyleView",
       "background": null,
       "description_width": "",
       "font_size": null,
       "text_color": null
      }
     },
     "42c0bddacb554243a7f767aa3e0347c5": {
      "model_module": "@jupyter-widgets/base",
      "model_module_version": "2.0.0",
      "model_name": "LayoutModel",
      "state": {
       "_model_module": "@jupyter-widgets/base",
       "_model_module_version": "2.0.0",
       "_model_name": "LayoutModel",
       "_view_count": null,
       "_view_module": "@jupyter-widgets/base",
       "_view_module_version": "2.0.0",
       "_view_name": "LayoutView",
       "align_content": null,
       "align_items": null,
       "align_self": null,
       "border_bottom": null,
       "border_left": null,
       "border_right": null,
       "border_top": null,
       "bottom": null,
       "display": null,
       "flex": null,
       "flex_flow": null,
       "grid_area": null,
       "grid_auto_columns": null,
       "grid_auto_flow": null,
       "grid_auto_rows": null,
       "grid_column": null,
       "grid_gap": null,
       "grid_row": null,
       "grid_template_areas": null,
       "grid_template_columns": null,
       "grid_template_rows": null,
       "height": null,
       "justify_content": null,
       "justify_items": null,
       "left": null,
       "margin": null,
       "max_height": null,
       "max_width": null,
       "min_height": null,
       "min_width": null,
       "object_fit": null,
       "object_position": null,
       "order": null,
       "overflow": null,
       "padding": null,
       "right": null,
       "top": null,
       "visibility": null,
       "width": null
      }
     },
     "4b8311ecf0024b02a5d814a558f0145f": {
      "model_module": "@jupyter-widgets/base",
      "model_module_version": "2.0.0",
      "model_name": "LayoutModel",
      "state": {
       "_model_module": "@jupyter-widgets/base",
       "_model_module_version": "2.0.0",
       "_model_name": "LayoutModel",
       "_view_count": null,
       "_view_module": "@jupyter-widgets/base",
       "_view_module_version": "2.0.0",
       "_view_name": "LayoutView",
       "align_content": null,
       "align_items": null,
       "align_self": null,
       "border_bottom": null,
       "border_left": null,
       "border_right": null,
       "border_top": null,
       "bottom": null,
       "display": null,
       "flex": null,
       "flex_flow": null,
       "grid_area": null,
       "grid_auto_columns": null,
       "grid_auto_flow": null,
       "grid_auto_rows": null,
       "grid_column": null,
       "grid_gap": null,
       "grid_row": null,
       "grid_template_areas": null,
       "grid_template_columns": null,
       "grid_template_rows": null,
       "height": null,
       "justify_content": null,
       "justify_items": null,
       "left": null,
       "margin": null,
       "max_height": null,
       "max_width": null,
       "min_height": null,
       "min_width": null,
       "object_fit": null,
       "object_position": null,
       "order": null,
       "overflow": null,
       "padding": null,
       "right": null,
       "top": null,
       "visibility": null,
       "width": null
      }
     },
     "91ca698272fa47f38f799872608412a0": {
      "model_module": "@jupyter-widgets/controls",
      "model_module_version": "2.0.0",
      "model_name": "HTMLStyleModel",
      "state": {
       "_model_module": "@jupyter-widgets/controls",
       "_model_module_version": "2.0.0",
       "_model_name": "HTMLStyleModel",
       "_view_count": null,
       "_view_module": "@jupyter-widgets/base",
       "_view_module_version": "2.0.0",
       "_view_name": "StyleView",
       "background": null,
       "description_width": "",
       "font_size": null,
       "text_color": null
      }
     },
     "a1f9ee8eb32c4413aed5f61eec4d3d9e": {
      "model_module": "@jupyter-widgets/controls",
      "model_module_version": "2.0.0",
      "model_name": "HBoxModel",
      "state": {
       "_dom_classes": [],
       "_model_module": "@jupyter-widgets/controls",
       "_model_module_version": "2.0.0",
       "_model_name": "HBoxModel",
       "_view_count": null,
       "_view_module": "@jupyter-widgets/controls",
       "_view_module_version": "2.0.0",
       "_view_name": "HBoxView",
       "box_style": "",
       "children": [
        "IPY_MODEL_087fbd5fd77b4282952520319d629421",
        "IPY_MODEL_c67c0130f77d4262a203d471ee902062",
        "IPY_MODEL_e9c4dd190ede40b38af1d482fb8fab82"
       ],
       "layout": "IPY_MODEL_00f5f483b0364c23b9bbb64dc74203b0",
       "tabbable": null,
       "tooltip": null
      }
     },
     "a672fef4b8b54d76ab4c9f7260c89d1d": {
      "model_module": "@jupyter-widgets/base",
      "model_module_version": "2.0.0",
      "model_name": "LayoutModel",
      "state": {
       "_model_module": "@jupyter-widgets/base",
       "_model_module_version": "2.0.0",
       "_model_name": "LayoutModel",
       "_view_count": null,
       "_view_module": "@jupyter-widgets/base",
       "_view_module_version": "2.0.0",
       "_view_name": "LayoutView",
       "align_content": null,
       "align_items": null,
       "align_self": null,
       "border_bottom": null,
       "border_left": null,
       "border_right": null,
       "border_top": null,
       "bottom": null,
       "display": null,
       "flex": null,
       "flex_flow": null,
       "grid_area": null,
       "grid_auto_columns": null,
       "grid_auto_flow": null,
       "grid_auto_rows": null,
       "grid_column": null,
       "grid_gap": null,
       "grid_row": null,
       "grid_template_areas": null,
       "grid_template_columns": null,
       "grid_template_rows": null,
       "height": null,
       "justify_content": null,
       "justify_items": null,
       "left": null,
       "margin": null,
       "max_height": null,
       "max_width": null,
       "min_height": null,
       "min_width": null,
       "object_fit": null,
       "object_position": null,
       "order": null,
       "overflow": null,
       "padding": null,
       "right": null,
       "top": null,
       "visibility": null,
       "width": null
      }
     },
     "c67c0130f77d4262a203d471ee902062": {
      "model_module": "@jupyter-widgets/controls",
      "model_module_version": "2.0.0",
      "model_name": "FloatProgressModel",
      "state": {
       "_dom_classes": [],
       "_model_module": "@jupyter-widgets/controls",
       "_model_module_version": "2.0.0",
       "_model_name": "FloatProgressModel",
       "_view_count": null,
       "_view_module": "@jupyter-widgets/controls",
       "_view_module_version": "2.0.0",
       "_view_name": "ProgressView",
       "bar_style": "success",
       "description": "",
       "description_allow_html": false,
       "layout": "IPY_MODEL_a672fef4b8b54d76ab4c9f7260c89d1d",
       "max": 5416593.0,
       "min": 0.0,
       "orientation": "horizontal",
       "style": "IPY_MODEL_04a5a1bca5e540e6b94b14b6d2e99820",
       "tabbable": null,
       "tooltip": null,
       "value": 5416593.0
      }
     },
     "e9c4dd190ede40b38af1d482fb8fab82": {
      "model_module": "@jupyter-widgets/controls",
      "model_module_version": "2.0.0",
      "model_name": "HTMLModel",
      "state": {
       "_dom_classes": [],
       "_model_module": "@jupyter-widgets/controls",
       "_model_module_version": "2.0.0",
       "_model_name": "HTMLModel",
       "_view_count": null,
       "_view_module": "@jupyter-widgets/controls",
       "_view_module_version": "2.0.0",
       "_view_name": "HTMLView",
       "description": "",
       "description_allow_html": false,
       "layout": "IPY_MODEL_42c0bddacb554243a7f767aa3e0347c5",
       "placeholder": "​",
       "style": "IPY_MODEL_144f952b46a64fdca69946146d9fef84",
       "tabbable": null,
       "tooltip": null,
       "value": " 5416593/5416593 [00:26&lt;00:00, 200607.49it/s]"
      }
     }
    },
    "version_major": 2,
    "version_minor": 0
   }
  }
 },
 "nbformat": 4,
 "nbformat_minor": 5
}