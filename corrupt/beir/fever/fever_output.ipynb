{
 "cells": [
  {
   "cell_type": "code",
   "execution_count": 1,
   "id": "f6d4b65f-fa6b-4517-8694-8627bc49833b",
   "metadata": {
    "execution": {
     "iopub.execute_input": "2025-03-05T10:20:59.019633Z",
     "iopub.status.busy": "2025-03-05T10:20:59.019362Z",
     "iopub.status.idle": "2025-03-05T10:20:59.180662Z",
     "shell.execute_reply": "2025-03-05T10:20:59.180336Z"
    },
    "papermill": {
     "duration": 0.166672,
     "end_time": "2025-03-05T10:20:59.181343",
     "exception": false,
     "start_time": "2025-03-05T10:20:59.014671",
     "status": "completed"
    },
    "tags": []
   },
   "outputs": [
    {
     "name": "stderr",
     "output_type": "stream",
     "text": [
      "/dss/dsshome1/07/ra65bex2/srawat/myenv/lib/python3.12/site-packages/beir/datasets/data_loader.py:8: TqdmExperimentalWarning: Using `tqdm.autonotebook.tqdm` in notebook mode. Use `tqdm.tqdm` instead to force console mode (e.g. in jupyter console)\n",
      "  from tqdm.autonotebook import tqdm\n"
     ]
    }
   ],
   "source": [
    "from beir.datasets.data_loader import GenericDataLoader"
   ]
  },
  {
   "cell_type": "code",
   "execution_count": 2,
   "id": "a91d6914-e301-422c-b839-1fafeb1e8fa4",
   "metadata": {
    "execution": {
     "iopub.execute_input": "2025-03-05T10:20:59.188933Z",
     "iopub.status.busy": "2025-03-05T10:20:59.188805Z",
     "iopub.status.idle": "2025-03-05T10:20:59.190961Z",
     "shell.execute_reply": "2025-03-05T10:20:59.190682Z"
    },
    "papermill": {
     "duration": 0.006317,
     "end_time": "2025-03-05T10:20:59.191537",
     "exception": false,
     "start_time": "2025-03-05T10:20:59.185220",
     "status": "completed"
    },
    "tags": []
   },
   "outputs": [],
   "source": [
    "data_path = '/dss/dsshome1/07/ra65bex2/srawat/fever/fever'"
   ]
  },
  {
   "cell_type": "code",
   "execution_count": 3,
   "id": "41e17333-2c34-4b7b-91f6-3cbd3972f0d6",
   "metadata": {
    "execution": {
     "iopub.execute_input": "2025-03-05T10:20:59.199393Z",
     "iopub.status.busy": "2025-03-05T10:20:59.199141Z",
     "iopub.status.idle": "2025-03-05T10:21:28.515626Z",
     "shell.execute_reply": "2025-03-05T10:21:28.514538Z"
    },
    "papermill": {
     "duration": 29.322028,
     "end_time": "2025-03-05T10:21:28.516836",
     "exception": false,
     "start_time": "2025-03-05T10:20:59.194808",
     "status": "completed"
    },
    "tags": []
   },
   "outputs": [
    {
     "data": {
      "application/vnd.jupyter.widget-view+json": {
       "model_id": "341338a5ccb94b54b53354e0243ed48b",
       "version_major": 2,
       "version_minor": 0
      },
      "text/plain": [
       "  0%|          | 0/5416568 [00:00<?, ?it/s]"
      ]
     },
     "metadata": {},
     "output_type": "display_data"
    }
   ],
   "source": [
    "corpus, queries, qrels = GenericDataLoader(data_path).load(split=\"test\")"
   ]
  },
  {
   "cell_type": "code",
   "execution_count": 4,
   "id": "1d653c60-435a-4e10-8506-6ef5d01f8675",
   "metadata": {
    "execution": {
     "iopub.execute_input": "2025-03-05T10:21:28.530162Z",
     "iopub.status.busy": "2025-03-05T10:21:28.529879Z",
     "iopub.status.idle": "2025-03-05T10:21:41.803014Z",
     "shell.execute_reply": "2025-03-05T10:21:41.802544Z"
    },
    "papermill": {
     "duration": 13.278816,
     "end_time": "2025-03-05T10:21:41.803733",
     "exception": false,
     "start_time": "2025-03-05T10:21:28.524917",
     "status": "completed"
    },
    "tags": []
   },
   "outputs": [
    {
     "name": "stderr",
     "output_type": "stream",
     "text": [
      "[nltk_data] Downloading package stopwords to\n",
      "[nltk_data]     /dss/dsshome1/07/ra65bex2/nltk_data...\n",
      "[nltk_data]   Package stopwords is already up-to-date!\n",
      "[nltk_data] Downloading package wordnet to\n",
      "[nltk_data]     /dss/dsshome1/07/ra65bex2/nltk_data...\n",
      "[nltk_data]   Package wordnet is already up-to-date!\n"
     ]
    }
   ],
   "source": [
    "import random\n",
    "import re\n",
    "import nltk\n",
    "from nltk.corpus import stopwords, wordnet\n",
    "nltk.download('stopwords')\n",
    "nltk.download('wordnet')\n",
    "stop_words = set(stopwords.words('english'))\n",
    "def clean_text(text):\n",
    "    return re.sub(r'[^\\w\\s.!?]', '', text)\n",
    "def select_words(text, percentage):\n",
    "    words = [w for w in text.split() if w.lower() not in stop_words]\n",
    "    return random.sample(words, min(int(percentage*len(words)), len(words)))\n",
    "def introduce_typo(word):\n",
    "    if len(word) > 1:\n",
    "        idx = random.randint(0, len(word) - 1)\n",
    "        return word[:idx] + random.choice('abcdefghijklmnopqrstuvwxyz') + word[idx+1:]\n",
    "    return word\n",
    "def introduce_noise(word):\n",
    "    noise_chars = ['@', '#', '$', '%', '&', '*']\n",
    "    if len(word) > 1:\n",
    "        idx = random.randint(0, len(word) - 1)\n",
    "        return word[:idx] + random.choice(noise_chars) + word[idx+1:]\n",
    "    return word\n",
    "def replace_with_synonym(word):\n",
    "    synonyms = [syn.lemmas()[0].name() for syn in wordnet.synsets(word) if syn.lemmas()]\n",
    "    return random.choice(synonyms) if synonyms else word\n",
    "def corrupt_word(word, method):\n",
    "    if method == 'typo':\n",
    "        return introduce_typo(word)\n",
    "    elif method == 'noise':\n",
    "        return introduce_noise(word)\n",
    "    elif method == 'synonym':\n",
    "        return replace_with_synonym(word)\n",
    "    return word\n",
    "def corrupt_text(text):\n",
    "    corrupted_words = []  \n",
    "    words_to_corrupt=select_words(clean_text(text), percentage=0.5)\n",
    "    for word in clean_text(text).split():\n",
    "        if word in words_to_corrupt:\n",
    "            corruption_method = random.choice(['typo', 'noise', 'synonym'])\n",
    "            corrupted_words.append(corrupt_word(word, corruption_method))\n",
    "        else:\n",
    "            corrupted_words.append(word)\n",
    "    return ' '.join(corrupted_words)"
   ]
  },
  {
   "cell_type": "code",
   "execution_count": 5,
   "id": "a29044d5-3952-4f3d-aa43-e1efd34fcad3",
   "metadata": {
    "execution": {
     "iopub.execute_input": "2025-03-05T10:21:41.816099Z",
     "iopub.status.busy": "2025-03-05T10:21:41.815816Z",
     "iopub.status.idle": "2025-03-05T14:25:23.904633Z",
     "shell.execute_reply": "2025-03-05T14:25:23.903084Z"
    },
    "papermill": {
     "duration": 14622.096102,
     "end_time": "2025-03-05T14:25:23.907961",
     "exception": false,
     "start_time": "2025-03-05T10:21:41.811859",
     "status": "completed"
    },
    "tags": []
   },
   "outputs": [],
   "source": [
    "contrastive_pairs=[]\n",
    "query_lengths = []\n",
    "import random\n",
    "c=0\n",
    "for query_id, relevant_docs in qrels.items():\n",
    "    try:\n",
    "        query_text = queries[query_id]\n",
    "        query_lengths.append(len(query_text.split()))\n",
    "        for doc_id in relevant_docs:\n",
    "            positive = corpus[doc_id][\"text\"]\n",
    "        #print(relevant_docs)\n",
    "        positive_doc_ids = set(relevant_docs)\n",
    "        all_doc_ids = set(corpus.keys())\n",
    "        negative_doc_ids = all_doc_ids - positive_doc_ids\n",
    "        negative_doc_ids=list(negative_doc_ids)\n",
    "        negative_doc_samples = random.sample(negative_doc_ids, k=5)\n",
    "        negatives=[]\n",
    "        for neg_doc_id in negative_doc_samples:\n",
    "            negative_doc_text = corpus[neg_doc_id][\"text\"]\n",
    "            negatives.append(negative_doc_text)\n",
    "        contrastive_pairs.append({\n",
    "            \"anchor\": corrupt_text(query_text),\n",
    "            \"positive\": positive,\n",
    "            \"negatives\": negatives\n",
    "        })\n",
    "    except:\n",
    "        c=c+1"
   ]
  },
  {
   "cell_type": "code",
   "execution_count": 6,
   "id": "49721946-fff3-4690-bd92-d981cecdf62b",
   "metadata": {
    "execution": {
     "iopub.execute_input": "2025-03-05T14:25:23.929290Z",
     "iopub.status.busy": "2025-03-05T14:25:23.928936Z",
     "iopub.status.idle": "2025-03-05T14:25:23.935968Z",
     "shell.execute_reply": "2025-03-05T14:25:23.935602Z"
    },
    "papermill": {
     "duration": 0.013421,
     "end_time": "2025-03-05T14:25:23.936998",
     "exception": false,
     "start_time": "2025-03-05T14:25:23.923577",
     "status": "completed"
    },
    "tags": []
   },
   "outputs": [
    {
     "data": {
      "text/plain": [
       "0"
      ]
     },
     "execution_count": 6,
     "metadata": {},
     "output_type": "execute_result"
    }
   ],
   "source": [
    "c"
   ]
  },
  {
   "cell_type": "code",
   "execution_count": 7,
   "id": "de8ef367-dcb4-4bb6-af3a-20f190930ed1",
   "metadata": {
    "execution": {
     "iopub.execute_input": "2025-03-05T14:25:23.945250Z",
     "iopub.status.busy": "2025-03-05T14:25:23.944797Z",
     "iopub.status.idle": "2025-03-05T14:25:24.024859Z",
     "shell.execute_reply": "2025-03-05T14:25:24.024484Z"
    },
    "papermill": {
     "duration": 0.084743,
     "end_time": "2025-03-05T14:25:24.025429",
     "exception": false,
     "start_time": "2025-03-05T14:25:23.940686",
     "status": "completed"
    },
    "tags": []
   },
   "outputs": [
    {
     "data": {
      "text/plain": [
       "6666"
      ]
     },
     "execution_count": 7,
     "metadata": {},
     "output_type": "execute_result"
    }
   ],
   "source": [
    "len(contrastive_pairs)"
   ]
  },
  {
   "cell_type": "code",
   "execution_count": 8,
   "id": "8a2ccada-419a-4f79-ad4d-b605780281a3",
   "metadata": {
    "execution": {
     "iopub.execute_input": "2025-03-05T14:25:24.034038Z",
     "iopub.status.busy": "2025-03-05T14:25:24.033416Z",
     "iopub.status.idle": "2025-03-05T14:25:24.042942Z",
     "shell.execute_reply": "2025-03-05T14:25:24.042529Z"
    },
    "papermill": {
     "duration": 0.014329,
     "end_time": "2025-03-05T14:25:24.043577",
     "exception": false,
     "start_time": "2025-03-05T14:25:24.029248",
     "status": "completed"
    },
    "tags": []
   },
   "outputs": [
    {
     "data": {
      "text/plain": [
       "[{'anchor': 'Ukrai@ian Soviet Socialist Rep@blic was a founding pirticipant of the UN.',\n",
       "  'positive': \"The United Nations ( UN ) is an intergovernmental organization to promote international co-operation and to create and maintain international order . A replacement for the ineffective League of Nations , the organization was established on 24 October 1945 after World War II in order to prevent another such conflict . At its founding , the UN had 51 member states ; there are now 193 . The headquarters of the UN is in Manhattan , New York City , and experiences extraterritoriality . Further main offices are situated in Geneva , Nairobi , and Vienna . The organization is financed by assessed and voluntary contributions from its member states . Its objectives include maintaining international peace and security , promoting human rights , fostering social and economic development , protecting the environment , and providing humanitarian aid in cases of famine , natural disaster , and armed conflict . The UN is the largest , most familiar , most internationally represented and most powerful intergovernmental organisation in the world .   The UN Charter was drafted at a conference between April -- June 1945 in San Francisco , and was signed on 26 June 1945 at the conclusion of the conference ; this charter took effect 24 October 1945 , and the UN began operation . The UN 's mission to preserve world peace was complicated in its early decades by the Cold War between the US and Soviet Union and their respective allies . The organization participated in major actions in Korea and the Congo , as well as approving the creation of the state of Israel in 1947 . The organization 's membership grew significantly following widespread decolonization in the 1960s , and by the 1970s its budget for economic and social development programmes far outstripped its spending on peacekeeping . After the end of the Cold War , the UN took on major military and peacekeeping missions across the world with varying degrees of success .   The UN has six principal organs : the General Assembly ( the main deliberative assembly ) ; the Security Council ( for deciding certain resolutions for peace and security ) ; the Economic and Social Council ( ECOSOC ; for promoting international economic and social co-operation and development ) ; the Secretariat ( for providing studies , information , and facilities needed by the UN ) ; the International Court of Justice ( the primary judicial organ ) ; and the UN Trusteeship Council ( inactive since 1994 ) . UN System agencies include the World Bank Group , the World Health Organization , the World Food Programme , UNESCO , and UNICEF . The UN 's most prominent officer is the Secretary-General , an office held by Portuguese António Guterres since 2017 . Non-governmental organizations may be granted consultative status with ECOSOC and other agencies to participate in the UN 's work .   The organization won the Nobel Peace Prize in 2001 , and a number of its officers and agencies have also been awarded the prize . Other evaluations of the UN 's effectiveness have been mixed . Some commentators believe the organization to be an important force for peace and human development , while others have called the organization ineffective , corrupt , or biased .\",\n",
       "  'negatives': ['Leslie Ballamy ( 1904 - 1991 ) was an inventor and automotive engineer who had a major impact on the British motorsport scene both before the Second World War and in the post-war period . His business L.M.B. Components Ltd was located in Guildford , Surrey .',\n",
       "   'Saurita hilda is a moth in the Arctiidae family . It was described by Druce in 1906 . It is found in Peru .',\n",
       "   'Chmielew -LSB- ` hmjelef -RSB- is a village in the administrative district of Gmina Korytnica , within Węgrów County , Masovian Voivodeship , in east-central Poland . It lies approximately 4 km east of Korytnica , 9 km west of Węgrów , and 66 km east of Warsaw .',\n",
       "   'was a Japanese photographer .',\n",
       "   \"Ak ` Tenamit , which means `` New Village ' in the Q'eqchi ' language , is a development project in Eastern Guatemala on the Dulce River . The project includes a school , Health care clinic and community and gender development . Its counterpart in the United States is the fund-raising arm , The Guatemalan Tomorrow Fund , Inc. . The project was established in 1991 by Steve Dudenhoefer who continues as the Technical Advisor . The Health care clinic treats about seven to eight thousand patients per year , while the school includes grades 7 through 12 . In 2009 there are 600 students enrolled in the program .\"]},\n",
       " {'anchor': '2 heart is a musical compcsition by Minogue.',\n",
       "  'positive': \"`` 2 Hearts '' is a song recorded by Australian singer Kylie Minogue for her tenth studio album , X ( 2007 ) . It was written and produced by Jim Eliot and Mima Stilwell of the British electropop group Kish Mauve . Initially , the song was released on 9 November 2007 by Parlophone . The song was Minogue 's first commercial single since she was diagnosed with breast cancer in May 2005 . After the announcement , Minogue took a hiatus between 2005 and 2006 to recover from her illness .   The song is a cover version of a track originally recorded by Kish Mauve . Musically , the song is a pop rock-oriented song , which features elements of glam rock and Rock and roll . The song features instrumentation of electric guitars , guitars , drums , keyboards and piano riffs . The song also features `` whooo '' 's towards the singles chorus . Upon its release , `` 2 Hearts '' received mixed reviews from music critics . The song was praised for its departure of musical content and the song 's strength , however the song received criticism for the song 's production and felt it did n't live up to expectations .   Commercially , the song was successful worldwide . The song managed to top the spot in her native Australia and Spain , while it peaked inside the top ten in countries Italy , Sweden , United Kingdom , Norway and Switzerland . Though the song was released in North America , the song did not manage to chart on any component Billboard charts , but did chart in Canada . The music video for `` 2 Hearts '' was directed by Dawn Shadforth and filmed at Shepperton Studios in London , England . It features Minogue performing the song on a stage , where she danced on a piano and featured the band playing along with the song .   Additionally , the song was featured on three of Minogue 's tours . The song was first performed on her KylieX2008 Tour , where she played as an ` erotic bellboy ' . The stage featured a green set , with a gigantic skull behind her . The song was also featured on her North American tour For You , for Me , where it was featured in the middle of the setlist . The song was then added to the setlist of her Aphrodite World Tour , where it was performed in Japan only .\",\n",
       "  'negatives': ['Rowton is a small village located seven miles north of the Market Town of Wellington , Shropshire . The area is a Chapelry Division of High Ercall Parish .',\n",
       "   'Stanisław Milski ( 1897 -- 1972 ) was a Polish actor .',\n",
       "   'The Digha -- Sonpur rail -- road bridge or Ganga rail -- road bridge is a bridge across river Ganga , connecting Digha Ghat in Patna and Pahleja Ghat in Sonpur , Saran district in the Indian state of Bihar . The rail-cum-road bridge provides easy roadway and railway link between northern and southern parts of Bihar . It is a steel girder bridge . Regular scheduled passenger rail service was inaugurated on this route on 3 February 2016 . This is second railway bridge in Bihar after Rajendra Setu that connects North Bihar to South Bihar . Indian railways has constructed two railway stations on either sides of the bridge -- Patliputra Junction railway station ( PPTA ) and Bharpura PahlejaGhat railway station ( PHLG ) .',\n",
       "   \"The Complete Columbia Album Collection is a box set by country singer Johnny Cash , released in 2012 ( see 2012 in music ) on Columbia Records and Legacy Recordings .   The set consists of 63 CDs , the majority of which are reissues of 59 albums released by Cash during his 1958 -- 1986 tenure with Columbia . Each CD is packaged in a replica of the original LP cover , with any albums originally issued as two-LP set condensed onto one disc with the exception of The Gospel Road which remains in a two-CD configuration . Bonus material includes a two-CD set titled The Singles , Plus , compiling non-album tracks and duets taken from other albums ; a Carter Family album on which Cash provided guest vocals ; the two albums Cash recorded for Columbia as a member of the supergroup The Highwaymen ; and an extended edition of the Sun Records album With His Hot and Blue Guitar with additional tracks from the Sun era ( including the complete contents of his second Sun album , Sings the Songs That Made Him Famous ) . Hot and Blue Guitar is the only album to be presented in an extended edition ; all other albums are featured with their original contents , without augmentation . As such this is not a complete survey of everything Cash recorded for Columbia ; for example , additional performances from the At Folsom Prison and At San Quentin live shows , included on separate reissues of the two albums , are not included . Also omitted is the 1975 album Destination Victoria Station which had featured new performances of previously released recordings , the 1980 gospel album A Believer Sings the Truth , as well as most of the tracks issued on Columbia 's Bootleg series of 2011 -- 2012 . Out Among the Stars , a complete album recorded by Cash in the early 1980s but not released at that time , is also omitted as it would not be released officially until 2014 .   Many of the albums featured in the set make their CD debut in the collection . According to country historian Rich Kienzle 's liner notes ( part of a 200-page book included in the set ) , one album Koncert V Praže ( In Prague -- Live ) received its first North American release in the set .\",\n",
       "   \"The OVW Television Championship is the secondary championship of Ohio Valley Wrestling started on January 5 , 2005 . When the title was originally conceived , the champion defended against randomly selected opponents , with the winner receiving a check for $ 1000 . The title became represented by a large trophy in the summer of 2005 , before being changed to a traditional championship belt in the spring of 2006 .   The inaugural champion was Brent Albright who defeated Seth Skyfire to win the championship on January 26 , 2005 . Jamin Olivencia holds the record for most reigns , with eight . At days , Seth Skyfire 's first reign is the longest in the title 's history . Jamin Olivencia and Mohamad Ali Vaez share the record for shortest reign in the title 's history at less than a day . Jade Dawson is the current champion , in his first reign . Overall , there have been 109 reigns shared among 60 wrestlers , with 9 vacancies .\"]}]"
      ]
     },
     "execution_count": 8,
     "metadata": {},
     "output_type": "execute_result"
    }
   ],
   "source": [
    "contrastive_pairs[0:2]"
   ]
  },
  {
   "cell_type": "code",
   "execution_count": 9,
   "id": "8ade92f9-e3df-4d0a-b849-b1a721e18cf6",
   "metadata": {
    "execution": {
     "iopub.execute_input": "2025-03-05T14:25:24.051990Z",
     "iopub.status.busy": "2025-03-05T14:25:24.051710Z",
     "iopub.status.idle": "2025-03-05T14:25:24.059731Z",
     "shell.execute_reply": "2025-03-05T14:25:24.059345Z"
    },
    "papermill": {
     "duration": 0.012796,
     "end_time": "2025-03-05T14:25:24.060367",
     "exception": false,
     "start_time": "2025-03-05T14:25:24.047571",
     "status": "completed"
    },
    "tags": []
   },
   "outputs": [
    {
     "data": {
      "text/plain": [
       "6666"
      ]
     },
     "execution_count": 9,
     "metadata": {},
     "output_type": "execute_result"
    }
   ],
   "source": [
    "len(qrels)"
   ]
  },
  {
   "cell_type": "code",
   "execution_count": 10,
   "id": "6b97f7b4-f007-41f6-bfbb-1b9b01665e9d",
   "metadata": {
    "execution": {
     "iopub.execute_input": "2025-03-05T14:25:24.069579Z",
     "iopub.status.busy": "2025-03-05T14:25:24.069027Z",
     "iopub.status.idle": "2025-03-05T14:25:41.685416Z",
     "shell.execute_reply": "2025-03-05T14:25:41.684765Z"
    },
    "papermill": {
     "duration": 17.621934,
     "end_time": "2025-03-05T14:25:41.686497",
     "exception": false,
     "start_time": "2025-03-05T14:25:24.064563",
     "status": "completed"
    },
    "tags": []
   },
   "outputs": [],
   "source": [
    "from torch.utils.data import DataLoader"
   ]
  },
  {
   "cell_type": "code",
   "execution_count": 11,
   "id": "a415b29a-a543-4679-8f78-44f715b3067d",
   "metadata": {
    "execution": {
     "iopub.execute_input": "2025-03-05T14:25:41.697805Z",
     "iopub.status.busy": "2025-03-05T14:25:41.697422Z",
     "iopub.status.idle": "2025-03-05T14:25:41.700762Z",
     "shell.execute_reply": "2025-03-05T14:25:41.700415Z"
    },
    "papermill": {
     "duration": 0.008526,
     "end_time": "2025-03-05T14:25:41.701377",
     "exception": false,
     "start_time": "2025-03-05T14:25:41.692851",
     "status": "completed"
    },
    "tags": []
   },
   "outputs": [],
   "source": [
    "class ContrastiveDataset:\n",
    "    def __init__(self, pairs):\n",
    "        self.pairs = pairs\n",
    "\n",
    "    def __len__(self):\n",
    "        return len(self.pairs)\n",
    "\n",
    "    def __getitem__(self, idx):\n",
    "        item = self.pairs[idx]\n",
    "        return item[\"anchor\"], item[\"positive\"], item[\"negatives\"]"
   ]
  },
  {
   "cell_type": "code",
   "execution_count": 12,
   "id": "a39efeab-fd20-411a-80c5-315f362e00d2",
   "metadata": {
    "execution": {
     "iopub.execute_input": "2025-03-05T14:25:41.709957Z",
     "iopub.status.busy": "2025-03-05T14:25:41.709776Z",
     "iopub.status.idle": "2025-03-05T14:25:41.717744Z",
     "shell.execute_reply": "2025-03-05T14:25:41.717359Z"
    },
    "papermill": {
     "duration": 0.013031,
     "end_time": "2025-03-05T14:25:41.718368",
     "exception": false,
     "start_time": "2025-03-05T14:25:41.705337",
     "status": "completed"
    },
    "tags": []
   },
   "outputs": [],
   "source": [
    "contrastive_dataset = ContrastiveDataset(contrastive_pairs)"
   ]
  },
  {
   "cell_type": "code",
   "execution_count": 13,
   "id": "d103bbfa-895a-4020-a7e5-21de659f27dc",
   "metadata": {
    "execution": {
     "iopub.execute_input": "2025-03-05T14:25:41.727037Z",
     "iopub.status.busy": "2025-03-05T14:25:41.726774Z",
     "iopub.status.idle": "2025-03-05T14:25:41.735138Z",
     "shell.execute_reply": "2025-03-05T14:25:41.733220Z"
    },
    "papermill": {
     "duration": 0.0134,
     "end_time": "2025-03-05T14:25:41.735810",
     "exception": false,
     "start_time": "2025-03-05T14:25:41.722410",
     "status": "completed"
    },
    "tags": []
   },
   "outputs": [],
   "source": [
    "data_loader = DataLoader(contrastive_dataset, batch_size=32, shuffle=True)"
   ]
  },
  {
   "cell_type": "code",
   "execution_count": 14,
   "id": "c8b0277f-f526-4087-82da-c4cdd65d32da",
   "metadata": {
    "execution": {
     "iopub.execute_input": "2025-03-05T14:25:41.744503Z",
     "iopub.status.busy": "2025-03-05T14:25:41.744222Z",
     "iopub.status.idle": "2025-03-05T14:25:41.751466Z",
     "shell.execute_reply": "2025-03-05T14:25:41.751129Z"
    },
    "papermill": {
     "duration": 0.012207,
     "end_time": "2025-03-05T14:25:41.752121",
     "exception": false,
     "start_time": "2025-03-05T14:25:41.739914",
     "status": "completed"
    },
    "tags": []
   },
   "outputs": [
    {
     "data": {
      "text/plain": [
       "209"
      ]
     },
     "execution_count": 14,
     "metadata": {},
     "output_type": "execute_result"
    }
   ],
   "source": [
    "len(data_loader)"
   ]
  },
  {
   "cell_type": "code",
   "execution_count": 15,
   "id": "e15526a4-b3fe-435b-91c9-ad4064562f0f",
   "metadata": {
    "execution": {
     "iopub.execute_input": "2025-03-05T14:25:41.760858Z",
     "iopub.status.busy": "2025-03-05T14:25:41.760554Z",
     "iopub.status.idle": "2025-03-05T14:26:00.583598Z",
     "shell.execute_reply": "2025-03-05T14:26:00.583126Z"
    },
    "papermill": {
     "duration": 18.828732,
     "end_time": "2025-03-05T14:26:00.584919",
     "exception": false,
     "start_time": "2025-03-05T14:25:41.756187",
     "status": "completed"
    },
    "tags": []
   },
   "outputs": [
    {
     "name": "stderr",
     "output_type": "stream",
     "text": [
      "/tmp/ipykernel_1160807/261098231.py:3: FutureWarning: You are using `torch.load` with `weights_only=False` (the current default value), which uses the default pickle module implicitly. It is possible to construct malicious pickle data which will execute arbitrary code during unpickling (See https://github.com/pytorch/pytorch/blob/main/SECURITY.md#untrusted-models for more details). In a future release, the default value for `weights_only` will be flipped to `True`. This limits the functions that could be executed during unpickling. Arbitrary objects will no longer be allowed to be loaded via this mode unless they are explicitly allowlisted by the user via `torch.serialization.add_safe_globals`. We recommend you start setting `weights_only=True` for any use case where you don't have full control of the loaded file. Please open an issue on GitHub for any issues related to this experimental feature.\n",
      "  lora_model_baseline = torch.load(file_path_baseline)\n"
     ]
    }
   ],
   "source": [
    "import torch\n",
    "file_path_baseline =\"/dss/dsshome1/07/ra65bex2/srawat/contrastive_learning/v1.1/app_baseline/checkpoint_epoch_3.pth\"\n",
    "lora_model_baseline = torch.load(file_path_baseline)"
   ]
  },
  {
   "cell_type": "code",
   "execution_count": 16,
   "id": "9999e628-5966-4dda-b5c5-c0d762fce27d",
   "metadata": {
    "execution": {
     "iopub.execute_input": "2025-03-05T14:26:00.596863Z",
     "iopub.status.busy": "2025-03-05T14:26:00.596408Z",
     "iopub.status.idle": "2025-03-05T14:26:00.601715Z",
     "shell.execute_reply": "2025-03-05T14:26:00.601402Z"
    },
    "papermill": {
     "duration": 0.010453,
     "end_time": "2025-03-05T14:26:00.602268",
     "exception": false,
     "start_time": "2025-03-05T14:26:00.591815",
     "status": "completed"
    },
    "tags": []
   },
   "outputs": [],
   "source": [
    "device = torch.device('cuda' if torch.cuda.is_available() else 'cpu')\n",
    "lora_model_baseline = lora_model_baseline.to(device)"
   ]
  },
  {
   "cell_type": "code",
   "execution_count": 17,
   "id": "7e6a3a61-8db0-43db-b575-6399f8515950",
   "metadata": {
    "execution": {
     "iopub.execute_input": "2025-03-05T14:26:00.611087Z",
     "iopub.status.busy": "2025-03-05T14:26:00.610956Z",
     "iopub.status.idle": "2025-03-05T14:26:00.929457Z",
     "shell.execute_reply": "2025-03-05T14:26:00.929046Z"
    },
    "papermill": {
     "duration": 0.323802,
     "end_time": "2025-03-05T14:26:00.930276",
     "exception": false,
     "start_time": "2025-03-05T14:26:00.606474",
     "status": "completed"
    },
    "tags": []
   },
   "outputs": [],
   "source": [
    "from transformers import AutoTokenizer, AutoModel\n",
    "tokenizer = AutoTokenizer.from_pretrained(\"bert-base-uncased\")"
   ]
  },
  {
   "cell_type": "code",
   "execution_count": 18,
   "id": "68ac4919-76f1-4349-a314-4b1061126655",
   "metadata": {
    "execution": {
     "iopub.execute_input": "2025-03-05T14:26:00.939919Z",
     "iopub.status.busy": "2025-03-05T14:26:00.939781Z",
     "iopub.status.idle": "2025-03-05T14:26:00.942431Z",
     "shell.execute_reply": "2025-03-05T14:26:00.942133Z"
    },
    "papermill": {
     "duration": 0.00793,
     "end_time": "2025-03-05T14:26:00.942988",
     "exception": false,
     "start_time": "2025-03-05T14:26:00.935058",
     "status": "completed"
    },
    "tags": []
   },
   "outputs": [],
   "source": [
    "def cosine_distance(x, y):\n",
    "    return 1 - torch.nn.functional.cosine_similarity(x, y, dim=-1)"
   ]
  },
  {
   "cell_type": "code",
   "execution_count": 19,
   "id": "990f63bd-4d48-4f58-a001-3b3250f65312",
   "metadata": {
    "execution": {
     "iopub.execute_input": "2025-03-05T14:26:00.952066Z",
     "iopub.status.busy": "2025-03-05T14:26:00.951752Z",
     "iopub.status.idle": "2025-03-05T14:26:00.959589Z",
     "shell.execute_reply": "2025-03-05T14:26:00.959254Z"
    },
    "papermill": {
     "duration": 0.012819,
     "end_time": "2025-03-05T14:26:00.960120",
     "exception": false,
     "start_time": "2025-03-05T14:26:00.947301",
     "status": "completed"
    },
    "tags": []
   },
   "outputs": [],
   "source": [
    "def evaluate_mrr_baseline(model, data_loader_val, distance_fn):\n",
    "    model.eval()\n",
    "\n",
    "    total_rr = 0.0\n",
    "    num_queries = 0\n",
    "\n",
    "    with torch.no_grad():\n",
    "        for batch in data_loader_val:\n",
    "            anchor_text = batch[0]\n",
    "            positive_text = batch[1]\n",
    "            negative_texts = batch[2]\n",
    "\n",
    "            anchor_input = tokenizer(anchor_text, return_tensors='pt', padding=True, truncation=True, max_length=512).to(device)\n",
    "            positive_input = tokenizer(positive_text, return_tensors='pt', padding=True, truncation=True, max_length=512).to(device)\n",
    "\n",
    "            anchor_embedding = model(**anchor_input).last_hidden_state[:, 0, :]\n",
    "            positive_embedding = model(**positive_input).last_hidden_state[:, 0, :]\n",
    "            negative_embedding = [model(**tokenizer(neg, return_tensors='pt', padding=True, truncation=True, max_length=512).to(device)).last_hidden_state[:, 0, :] for neg in negative_texts]\n",
    "\n",
    "            pos_dist = distance_fn(anchor_embedding, positive_embedding)\n",
    "            neg_dist = torch.stack([distance_fn(anchor_embedding, neg) for neg in negative_embedding], dim=-1)\n",
    "            all_similarities=torch.cat([-pos_dist.unsqueeze(1), -neg_dist], dim=1)\n",
    "\n",
    "            sorted_similarities, sorted_indices = torch.sort(all_similarities, dim=1, descending=True)\n",
    "\n",
    "            # Find the rank of the first relevant (positive) document\n",
    "            positive_rank = (sorted_indices == 0).nonzero(as_tuple=True)[1] + 1  # +1 to make rank 1-based\n",
    "            total_rr += torch.sum(1.0 / positive_rank.float()).item()  # Reciprocal rank\n",
    "            num_queries += len(positive_rank)\n",
    "\n",
    "    mrr = total_rr / num_queries\n",
    "    return mrr"
   ]
  },
  {
   "cell_type": "code",
   "execution_count": 20,
   "id": "534a9ec5-4211-4cb6-81f1-fb8a30caff92",
   "metadata": {
    "execution": {
     "iopub.execute_input": "2025-03-05T14:26:00.969085Z",
     "iopub.status.busy": "2025-03-05T14:26:00.968959Z",
     "iopub.status.idle": "2025-03-05T14:29:33.814285Z",
     "shell.execute_reply": "2025-03-05T14:29:33.813668Z"
    },
    "papermill": {
     "duration": 212.856907,
     "end_time": "2025-03-05T14:29:33.821328",
     "exception": false,
     "start_time": "2025-03-05T14:26:00.964421",
     "status": "completed"
    },
    "tags": []
   },
   "outputs": [
    {
     "name": "stdout",
     "output_type": "stream",
     "text": [
      "0.4929968110441339\n"
     ]
    }
   ],
   "source": [
    "mrr_validation_baseline = evaluate_mrr_baseline(lora_model_baseline, data_loader, cosine_distance)\n",
    "print(mrr_validation_baseline)"
   ]
  },
  {
   "cell_type": "code",
   "execution_count": null,
   "id": "f61bbd65-41c9-4ac7-80ef-ba4a4fb02d45",
   "metadata": {
    "papermill": {
     "duration": 0.00432,
     "end_time": "2025-03-05T14:29:33.830053",
     "exception": false,
     "start_time": "2025-03-05T14:29:33.825733",
     "status": "completed"
    },
    "tags": []
   },
   "outputs": [],
   "source": []
  },
  {
   "cell_type": "code",
   "execution_count": 21,
   "id": "8a3dfd17-ee43-4c4e-9287-8ec6451bc062",
   "metadata": {
    "execution": {
     "iopub.execute_input": "2025-03-05T14:29:33.839765Z",
     "iopub.status.busy": "2025-03-05T14:29:33.839099Z",
     "iopub.status.idle": "2025-03-05T14:29:35.627630Z",
     "shell.execute_reply": "2025-03-05T14:29:35.626946Z"
    },
    "papermill": {
     "duration": 1.794196,
     "end_time": "2025-03-05T14:29:35.628530",
     "exception": false,
     "start_time": "2025-03-05T14:29:33.834334",
     "status": "completed"
    },
    "tags": []
   },
   "outputs": [
    {
     "name": "stderr",
     "output_type": "stream",
     "text": [
      "/tmp/ipykernel_1160807/2975798179.py:2: FutureWarning: You are using `torch.load` with `weights_only=False` (the current default value), which uses the default pickle module implicitly. It is possible to construct malicious pickle data which will execute arbitrary code during unpickling (See https://github.com/pytorch/pytorch/blob/main/SECURITY.md#untrusted-models for more details). In a future release, the default value for `weights_only` will be flipped to `True`. This limits the functions that could be executed during unpickling. Arbitrary objects will no longer be allowed to be loaded via this mode unless they are explicitly allowlisted by the user via `torch.serialization.add_safe_globals`. We recommend you start setting `weights_only=True` for any use case where you don't have full control of the loaded file. Please open an issue on GitHub for any issues related to this experimental feature.\n",
      "  lora_model_average = torch.load(file_path_average)\n"
     ]
    }
   ],
   "source": [
    "file_path_average=\"/dss/dsshome1/07/ra65bex2/srawat/contrastive_learning/v1.1/app_average/average_checkpoint_epoch_3.pth\"\n",
    "lora_model_average = torch.load(file_path_average)\n",
    "lora_model_average = lora_model_average.to(device)"
   ]
  },
  {
   "cell_type": "code",
   "execution_count": 22,
   "id": "49c10d3f-c53d-4222-aba4-0e763451baff",
   "metadata": {
    "execution": {
     "iopub.execute_input": "2025-03-05T14:29:35.640437Z",
     "iopub.status.busy": "2025-03-05T14:29:35.639595Z",
     "iopub.status.idle": "2025-03-05T14:29:35.643238Z",
     "shell.execute_reply": "2025-03-05T14:29:35.642842Z"
    },
    "papermill": {
     "duration": 0.009086,
     "end_time": "2025-03-05T14:29:35.643906",
     "exception": false,
     "start_time": "2025-03-05T14:29:35.634820",
     "status": "completed"
    },
    "tags": []
   },
   "outputs": [],
   "source": [
    "def avg_embedding(inputs, model):\n",
    "    input=model(**inputs)\n",
    "    input_last_hidden_state=input.last_hidden_state\n",
    "    input_attention_mask = inputs['attention_mask']\n",
    "    input_masked_embeddings = input_last_hidden_state * input_attention_mask.unsqueeze(-1)\n",
    "    input_sum_embeddings = torch.sum(input_masked_embeddings, dim=1)\n",
    "    input_token_counts = torch.sum(input_attention_mask, dim=1).unsqueeze(-1)\n",
    "    input_avg_embeddings = input_sum_embeddings / input_token_counts\n",
    "    return(input_avg_embeddings)"
   ]
  },
  {
   "cell_type": "code",
   "execution_count": 23,
   "id": "22570a1b-93bf-41ef-99fe-de41c3857b41",
   "metadata": {
    "execution": {
     "iopub.execute_input": "2025-03-05T14:29:35.653519Z",
     "iopub.status.busy": "2025-03-05T14:29:35.652928Z",
     "iopub.status.idle": "2025-03-05T14:29:35.661426Z",
     "shell.execute_reply": "2025-03-05T14:29:35.661059Z"
    },
    "papermill": {
     "duration": 0.013723,
     "end_time": "2025-03-05T14:29:35.662002",
     "exception": false,
     "start_time": "2025-03-05T14:29:35.648279",
     "status": "completed"
    },
    "tags": []
   },
   "outputs": [],
   "source": [
    "def evaluate_mrr_average(model, data_loader_val, distance_fn):\n",
    "    model.eval()  \n",
    "\n",
    "    total_rr = 0.0\n",
    "    num_queries = 0\n",
    "\n",
    "    with torch.no_grad():\n",
    "        for batch in data_loader_val:\n",
    "            anchor_text = batch[0]\n",
    "            positive_text = batch[1]\n",
    "            negative_texts = batch[2]\n",
    "\n",
    "            anchor_input = tokenizer(anchor_text, return_tensors='pt', padding=True, truncation=True, max_length=512).to(device)\n",
    "            positive_input = tokenizer(positive_text, return_tensors='pt', padding=True, truncation=True, max_length=512).to(device)\n",
    "\n",
    "            anchor_embedding = avg_embedding(anchor_input, model)\n",
    "            positive_embedding = avg_embedding(positive_input, model)\n",
    "            negative_embedding = [avg_embedding(tokenizer(neg, return_tensors='pt', padding=True, truncation=True, max_length=512).to(device), model) for neg in negative_texts]\n",
    "\n",
    "            pos_dist = distance_fn(anchor_embedding, positive_embedding)\n",
    "            neg_dist = torch.stack([distance_fn(anchor_embedding, neg) for neg in negative_embedding], dim=-1)\n",
    "            all_similarities=torch.cat([-pos_dist.unsqueeze(1), -neg_dist], dim=1)\n",
    "            \n",
    "            sorted_similarities, sorted_indices = torch.sort(all_similarities, dim=1, descending=True)\n",
    "\n",
    "            # Find the rank of the first relevant (positive) document\n",
    "            positive_rank = (sorted_indices == 0).nonzero(as_tuple=True)[1] + 1  # +1 to make rank 1-based\n",
    "            total_rr += torch.sum(1.0 / positive_rank.float()).item()  # Reciprocal rank\n",
    "            num_queries += len(positive_rank)\n",
    "\n",
    "    mrr = total_rr / num_queries\n",
    "    return mrr"
   ]
  },
  {
   "cell_type": "code",
   "execution_count": 24,
   "id": "82977667-a984-467e-9eb6-9d6520ecb3b8",
   "metadata": {
    "execution": {
     "iopub.execute_input": "2025-03-05T14:29:35.671219Z",
     "iopub.status.busy": "2025-03-05T14:29:35.670986Z",
     "iopub.status.idle": "2025-03-05T14:33:05.005462Z",
     "shell.execute_reply": "2025-03-05T14:33:05.004774Z"
    },
    "papermill": {
     "duration": 209.346099,
     "end_time": "2025-03-05T14:33:05.012602",
     "exception": false,
     "start_time": "2025-03-05T14:29:35.666503",
     "status": "completed"
    },
    "tags": []
   },
   "outputs": [
    {
     "name": "stdout",
     "output_type": "stream",
     "text": [
      "0.5975647660801083\n"
     ]
    }
   ],
   "source": [
    "mrr_validation_average = evaluate_mrr_average(lora_model_average, data_loader, cosine_distance)\n",
    "print(mrr_validation_average)"
   ]
  },
  {
   "cell_type": "code",
   "execution_count": null,
   "id": "966c23c7-dc92-49e8-bb1f-1520c0ccd13b",
   "metadata": {
    "papermill": {
     "duration": 0.00436,
     "end_time": "2025-03-05T14:33:05.021467",
     "exception": false,
     "start_time": "2025-03-05T14:33:05.017107",
     "status": "completed"
    },
    "tags": []
   },
   "outputs": [],
   "source": []
  },
  {
   "cell_type": "code",
   "execution_count": 25,
   "id": "af58281c-1786-4bda-9eec-0fa0f127d140",
   "metadata": {
    "execution": {
     "iopub.execute_input": "2025-03-05T14:33:05.031261Z",
     "iopub.status.busy": "2025-03-05T14:33:05.030955Z",
     "iopub.status.idle": "2025-03-05T14:33:06.707823Z",
     "shell.execute_reply": "2025-03-05T14:33:06.707414Z"
    },
    "papermill": {
     "duration": 1.68297,
     "end_time": "2025-03-05T14:33:06.708729",
     "exception": false,
     "start_time": "2025-03-05T14:33:05.025759",
     "status": "completed"
    },
    "tags": []
   },
   "outputs": [
    {
     "name": "stderr",
     "output_type": "stream",
     "text": [
      "/tmp/ipykernel_1160807/2502257612.py:2: FutureWarning: You are using `torch.load` with `weights_only=False` (the current default value), which uses the default pickle module implicitly. It is possible to construct malicious pickle data which will execute arbitrary code during unpickling (See https://github.com/pytorch/pytorch/blob/main/SECURITY.md#untrusted-models for more details). In a future release, the default value for `weights_only` will be flipped to `True`. This limits the functions that could be executed during unpickling. Arbitrary objects will no longer be allowed to be loaded via this mode unless they are explicitly allowlisted by the user via `torch.serialization.add_safe_globals`. We recommend you start setting `weights_only=True` for any use case where you don't have full control of the loaded file. Please open an issue on GitHub for any issues related to this experimental feature.\n",
      "  lora_model_hyperbolic = torch.load(file_path_hyperbolic)\n"
     ]
    }
   ],
   "source": [
    "file_path_hyperbolic=\"/dss/dsshome1/07/ra65bex2/srawat/contrastive_learning/v1.1/0.1hyperbolic/hyperbolic_lora_checkpoint_epoch_3.pth\"\n",
    "lora_model_hyperbolic = torch.load(file_path_hyperbolic)\n",
    "lora_model_hyperbolic = lora_model_hyperbolic.to(device)"
   ]
  },
  {
   "cell_type": "code",
   "execution_count": 26,
   "id": "d6f9507b-01e9-49d0-8327-760677bfcf0b",
   "metadata": {
    "execution": {
     "iopub.execute_input": "2025-03-05T14:33:06.718813Z",
     "iopub.status.busy": "2025-03-05T14:33:06.718668Z",
     "iopub.status.idle": "2025-03-05T14:33:06.721343Z",
     "shell.execute_reply": "2025-03-05T14:33:06.721036Z"
    },
    "papermill": {
     "duration": 0.008123,
     "end_time": "2025-03-05T14:33:06.721920",
     "exception": false,
     "start_time": "2025-03-05T14:33:06.713797",
     "status": "completed"
    },
    "tags": []
   },
   "outputs": [],
   "source": [
    "def lorentzian_distance(x, y):\n",
    "    \n",
    "    dot_product = torch.sum(x * y, dim=-1)\n",
    "    norm_x = torch.norm(x, dim=-1)\n",
    "    norm_y = torch.norm(y, dim=-1)\n",
    "    \n",
    "    distance = torch.acosh(-dot_product + torch.sqrt((1 + norm_x**2) * (1 + norm_y**2)))\n",
    "    return distance"
   ]
  },
  {
   "cell_type": "code",
   "execution_count": 27,
   "id": "de4ecc53-8b64-4fee-bfbf-d3b85d441d1f",
   "metadata": {
    "execution": {
     "iopub.execute_input": "2025-03-05T14:33:06.731579Z",
     "iopub.status.busy": "2025-03-05T14:33:06.731341Z",
     "iopub.status.idle": "2025-03-05T14:33:06.739679Z",
     "shell.execute_reply": "2025-03-05T14:33:06.739383Z"
    },
    "papermill": {
     "duration": 0.013686,
     "end_time": "2025-03-05T14:33:06.740268",
     "exception": false,
     "start_time": "2025-03-05T14:33:06.726582",
     "status": "completed"
    },
    "tags": []
   },
   "outputs": [],
   "source": [
    "def expm_o(v, c=1.0):\n",
    "    c = torch.tensor(c)\n",
    "    vspace = v\n",
    "    vnorm = torch.norm(v, p=2, dim=-1, keepdim=True)\n",
    "    xspace = torch.sinh(torch.sqrt(c) * vnorm) * vspace / (torch.sqrt(c) * vnorm)\n",
    "    batch_min = xspace.min(dim=1, keepdim=True).values\n",
    "    batch_max = xspace.max(dim=1, keepdim=True).values\n",
    "    xspace_scaled=(xspace - batch_min) / (batch_max - batch_min)\n",
    "    return xspace_scaled"
   ]
  },
  {
   "cell_type": "code",
   "execution_count": 28,
   "id": "c6639968-6b1d-4601-a69f-6e83b9863ab6",
   "metadata": {
    "execution": {
     "iopub.execute_input": "2025-03-05T14:33:06.749824Z",
     "iopub.status.busy": "2025-03-05T14:33:06.749593Z",
     "iopub.status.idle": "2025-03-05T14:33:06.759993Z",
     "shell.execute_reply": "2025-03-05T14:33:06.759697Z"
    },
    "papermill": {
     "duration": 0.015806,
     "end_time": "2025-03-05T14:33:06.760602",
     "exception": false,
     "start_time": "2025-03-05T14:33:06.744796",
     "status": "completed"
    },
    "tags": []
   },
   "outputs": [],
   "source": [
    "def evaluate_mrr_hyperbolic(model1, data_loader_val, distance_fn):\n",
    "    model1.eval()\n",
    "    \n",
    "    total_rr = 0.0\n",
    "    num_queries = 0\n",
    "\n",
    "    with torch.no_grad():\n",
    "        for batch in data_loader_val:\n",
    "            anchor_text = batch[0]\n",
    "            positive_text = batch[1]\n",
    "            negative_texts = batch[2]\n",
    "\n",
    "            anchor_input = tokenizer(anchor_text, return_tensors='pt', padding=True, truncation=True, max_length=512).to(device)\n",
    "            positive_input = tokenizer(positive_text, return_tensors='pt', padding=True, truncation=True, max_length=512).to(device)\n",
    "\n",
    "            anchor_embedding = expm_o(model1(**anchor_input).last_hidden_state[:, 0, :])\n",
    "            positive_embedding = expm_o(model1(**positive_input).last_hidden_state[:, 0, :])\n",
    "            negative_embedding = [expm_o(model1(**tokenizer(neg, return_tensors='pt', padding=True, truncation=True, max_length=512).to(device)).last_hidden_state[:, 0, :]) for neg in negative_texts]\n",
    "\n",
    "            pos_dist = distance_fn(anchor_embedding, positive_embedding)\n",
    "            neg_dist = torch.stack([distance_fn(anchor_embedding, neg) for neg in negative_embedding], dim=-1)\n",
    "            all_similarities=torch.cat([-pos_dist.unsqueeze(1), -neg_dist], dim=1)\n",
    "\n",
    "            sorted_similarities, sorted_indices = torch.sort(all_similarities, dim=1, descending=True)\n",
    "\n",
    "            # Find the rank of the first relevant (positive) document\n",
    "            positive_rank = (sorted_indices == 0).nonzero(as_tuple=True)[1] + 1  # +1 to make rank 1-based\n",
    "            total_rr += torch.sum(1.0 / positive_rank.float()).item()  # Reciprocal rank\n",
    "            num_queries += len(positive_rank)\n",
    "            \n",
    "    mrr = total_rr / num_queries\n",
    "    return mrr"
   ]
  },
  {
   "cell_type": "code",
   "execution_count": 29,
   "id": "9c54c77e-2dde-4c88-9eaf-439a409e845e",
   "metadata": {
    "execution": {
     "iopub.execute_input": "2025-03-05T14:33:06.770252Z",
     "iopub.status.busy": "2025-03-05T14:33:06.770015Z",
     "iopub.status.idle": "2025-03-05T14:36:37.526968Z",
     "shell.execute_reply": "2025-03-05T14:36:37.526369Z"
    },
    "papermill": {
     "duration": 210.771242,
     "end_time": "2025-03-05T14:36:37.536440",
     "exception": false,
     "start_time": "2025-03-05T14:33:06.765198",
     "status": "completed"
    },
    "tags": []
   },
   "outputs": [
    {
     "name": "stdout",
     "output_type": "stream",
     "text": [
      "0.43574358656568785\n"
     ]
    }
   ],
   "source": [
    "mrr_validation_hyperbolic = evaluate_mrr_hyperbolic(model1=lora_model_hyperbolic, data_loader_val=data_loader,distance_fn=lorentzian_distance)\n",
    "print(mrr_validation_hyperbolic)"
   ]
  },
  {
   "cell_type": "code",
   "execution_count": null,
   "id": "3e097240-0b21-4a85-8959-2c74522b15a8",
   "metadata": {
    "papermill": {
     "duration": 0.00457,
     "end_time": "2025-03-05T14:36:37.545865",
     "exception": false,
     "start_time": "2025-03-05T14:36:37.541295",
     "status": "completed"
    },
    "tags": []
   },
   "outputs": [],
   "source": []
  },
  {
   "cell_type": "code",
   "execution_count": 30,
   "id": "d883371b-b6e4-40de-b212-93ed5fcb6061",
   "metadata": {
    "execution": {
     "iopub.execute_input": "2025-03-05T14:36:37.556268Z",
     "iopub.status.busy": "2025-03-05T14:36:37.555663Z",
     "iopub.status.idle": "2025-03-05T14:36:37.597932Z",
     "shell.execute_reply": "2025-03-05T14:36:37.597566Z"
    },
    "papermill": {
     "duration": 0.048091,
     "end_time": "2025-03-05T14:36:37.598512",
     "exception": false,
     "start_time": "2025-03-05T14:36:37.550421",
     "status": "completed"
    },
    "tags": []
   },
   "outputs": [
    {
     "name": "stdout",
     "output_type": "stream",
     "text": [
      "Median Query Length: 8.0\n"
     ]
    }
   ],
   "source": [
    "import statistics\n",
    "print(\"Median Query Length:\", statistics.median(query_lengths))"
   ]
  },
  {
   "cell_type": "code",
   "execution_count": 31,
   "id": "4b02b505-a8f9-480d-959e-effcbc2ed3a2",
   "metadata": {
    "execution": {
     "iopub.execute_input": "2025-03-05T14:36:37.608510Z",
     "iopub.status.busy": "2025-03-05T14:36:37.608085Z",
     "iopub.status.idle": "2025-03-05T14:36:37.611217Z",
     "shell.execute_reply": "2025-03-05T14:36:37.610846Z"
    },
    "papermill": {
     "duration": 0.008645,
     "end_time": "2025-03-05T14:36:37.611754",
     "exception": false,
     "start_time": "2025-03-05T14:36:37.603109",
     "status": "completed"
    },
    "tags": []
   },
   "outputs": [
    {
     "data": {
      "text/plain": [
       "0.4929968110441339"
      ]
     },
     "execution_count": 31,
     "metadata": {},
     "output_type": "execute_result"
    }
   ],
   "source": [
    "mrr_validation_baseline"
   ]
  },
  {
   "cell_type": "code",
   "execution_count": 32,
   "id": "5c10dccb-fbc7-448b-b3d9-4d7e045dafd3",
   "metadata": {
    "execution": {
     "iopub.execute_input": "2025-03-05T14:36:37.621631Z",
     "iopub.status.busy": "2025-03-05T14:36:37.621499Z",
     "iopub.status.idle": "2025-03-05T14:36:37.629474Z",
     "shell.execute_reply": "2025-03-05T14:36:37.629140Z"
    },
    "papermill": {
     "duration": 0.013546,
     "end_time": "2025-03-05T14:36:37.630020",
     "exception": false,
     "start_time": "2025-03-05T14:36:37.616474",
     "status": "completed"
    },
    "tags": []
   },
   "outputs": [
    {
     "data": {
      "text/plain": [
       "0.5975647660801083"
      ]
     },
     "execution_count": 32,
     "metadata": {},
     "output_type": "execute_result"
    }
   ],
   "source": [
    "mrr_validation_average"
   ]
  },
  {
   "cell_type": "code",
   "execution_count": 33,
   "id": "b9c22c87-c20f-4a86-a8d3-d941340ea726",
   "metadata": {
    "execution": {
     "iopub.execute_input": "2025-03-05T14:36:37.640411Z",
     "iopub.status.busy": "2025-03-05T14:36:37.639900Z",
     "iopub.status.idle": "2025-03-05T14:36:37.650044Z",
     "shell.execute_reply": "2025-03-05T14:36:37.649685Z"
    },
    "papermill": {
     "duration": 0.01583,
     "end_time": "2025-03-05T14:36:37.650591",
     "exception": false,
     "start_time": "2025-03-05T14:36:37.634761",
     "status": "completed"
    },
    "tags": []
   },
   "outputs": [
    {
     "data": {
      "text/plain": [
       "0.43574358656568785"
      ]
     },
     "execution_count": 33,
     "metadata": {},
     "output_type": "execute_result"
    }
   ],
   "source": [
    "mrr_validation_hyperbolic"
   ]
  }
 ],
 "metadata": {
  "kernelspec": {
   "display_name": "Python (myenv)",
   "language": "python",
   "name": "myenv"
  },
  "language_info": {
   "codemirror_mode": {
    "name": "ipython",
    "version": 3
   },
   "file_extension": ".py",
   "mimetype": "text/x-python",
   "name": "python",
   "nbconvert_exporter": "python",
   "pygments_lexer": "ipython3",
   "version": "3.12.7"
  },
  "papermill": {
   "default_parameters": {},
   "duration": 15345.797185,
   "end_time": "2025-03-05T14:36:41.433032",
   "environment_variables": {},
   "exception": null,
   "input_path": "fever.ipynb",
   "output_path": "fever_output.ipynb",
   "parameters": {},
   "start_time": "2025-03-05T10:20:55.635847",
   "version": "2.6.0"
  },
  "widgets": {
   "application/vnd.jupyter.widget-state+json": {
    "state": {
     "1322660780154916b2ab21380ed6378e": {
      "model_module": "@jupyter-widgets/base",
      "model_module_version": "2.0.0",
      "model_name": "LayoutModel",
      "state": {
       "_model_module": "@jupyter-widgets/base",
       "_model_module_version": "2.0.0",
       "_model_name": "LayoutModel",
       "_view_count": null,
       "_view_module": "@jupyter-widgets/base",
       "_view_module_version": "2.0.0",
       "_view_name": "LayoutView",
       "align_content": null,
       "align_items": null,
       "align_self": null,
       "border_bottom": null,
       "border_left": null,
       "border_right": null,
       "border_top": null,
       "bottom": null,
       "display": null,
       "flex": null,
       "flex_flow": null,
       "grid_area": null,
       "grid_auto_columns": null,
       "grid_auto_flow": null,
       "grid_auto_rows": null,
       "grid_column": null,
       "grid_gap": null,
       "grid_row": null,
       "grid_template_areas": null,
       "grid_template_columns": null,
       "grid_template_rows": null,
       "height": null,
       "justify_content": null,
       "justify_items": null,
       "left": null,
       "margin": null,
       "max_height": null,
       "max_width": null,
       "min_height": null,
       "min_width": null,
       "object_fit": null,
       "object_position": null,
       "order": null,
       "overflow": null,
       "padding": null,
       "right": null,
       "top": null,
       "visibility": null,
       "width": null
      }
     },
     "341338a5ccb94b54b53354e0243ed48b": {
      "model_module": "@jupyter-widgets/controls",
      "model_module_version": "2.0.0",
      "model_name": "HBoxModel",
      "state": {
       "_dom_classes": [],
       "_model_module": "@jupyter-widgets/controls",
       "_model_module_version": "2.0.0",
       "_model_name": "HBoxModel",
       "_view_count": null,
       "_view_module": "@jupyter-widgets/controls",
       "_view_module_version": "2.0.0",
       "_view_name": "HBoxView",
       "box_style": "",
       "children": [
        "IPY_MODEL_ac141151314944cfbf0e6e43109ac129",
        "IPY_MODEL_9a13f6c3d987490fb927d2d536e362d1",
        "IPY_MODEL_58e6ec58dc8d4176b162892b5687041c"
       ],
       "layout": "IPY_MODEL_6c6be2ad84c54baca2642613a80d5d0d",
       "tabbable": null,
       "tooltip": null
      }
     },
     "34f61ba541714965a1f111f63a6317d6": {
      "model_module": "@jupyter-widgets/controls",
      "model_module_version": "2.0.0",
      "model_name": "ProgressStyleModel",
      "state": {
       "_model_module": "@jupyter-widgets/controls",
       "_model_module_version": "2.0.0",
       "_model_name": "ProgressStyleModel",
       "_view_count": null,
       "_view_module": "@jupyter-widgets/base",
       "_view_module_version": "2.0.0",
       "_view_name": "StyleView",
       "bar_color": null,
       "description_width": ""
      }
     },
     "4098981552ef44e7a0d25309b9d7c9d0": {
      "model_module": "@jupyter-widgets/base",
      "model_module_version": "2.0.0",
      "model_name": "LayoutModel",
      "state": {
       "_model_module": "@jupyter-widgets/base",
       "_model_module_version": "2.0.0",
       "_model_name": "LayoutModel",
       "_view_count": null,
       "_view_module": "@jupyter-widgets/base",
       "_view_module_version": "2.0.0",
       "_view_name": "LayoutView",
       "align_content": null,
       "align_items": null,
       "align_self": null,
       "border_bottom": null,
       "border_left": null,
       "border_right": null,
       "border_top": null,
       "bottom": null,
       "display": null,
       "flex": null,
       "flex_flow": null,
       "grid_area": null,
       "grid_auto_columns": null,
       "grid_auto_flow": null,
       "grid_auto_rows": null,
       "grid_column": null,
       "grid_gap": null,
       "grid_row": null,
       "grid_template_areas": null,
       "grid_template_columns": null,
       "grid_template_rows": null,
       "height": null,
       "justify_content": null,
       "justify_items": null,
       "left": null,
       "margin": null,
       "max_height": null,
       "max_width": null,
       "min_height": null,
       "min_width": null,
       "object_fit": null,
       "object_position": null,
       "order": null,
       "overflow": null,
       "padding": null,
       "right": null,
       "top": null,
       "visibility": null,
       "width": null
      }
     },
     "58e6ec58dc8d4176b162892b5687041c": {
      "model_module": "@jupyter-widgets/controls",
      "model_module_version": "2.0.0",
      "model_name": "HTMLModel",
      "state": {
       "_dom_classes": [],
       "_model_module": "@jupyter-widgets/controls",
       "_model_module_version": "2.0.0",
       "_model_name": "HTMLModel",
       "_view_count": null,
       "_view_module": "@jupyter-widgets/controls",
       "_view_module_version": "2.0.0",
       "_view_name": "HTMLView",
       "description": "",
       "description_allow_html": false,
       "layout": "IPY_MODEL_1322660780154916b2ab21380ed6378e",
       "placeholder": "​",
       "style": "IPY_MODEL_c17fa53b576049f0a33954ae4b0cdeb7",
       "tabbable": null,
       "tooltip": null,
       "value": " 5416568/5416568 [00:26&lt;00:00, 193191.69it/s]"
      }
     },
     "5ad9860a36484db8822809bcd686bf88": {
      "model_module": "@jupyter-widgets/controls",
      "model_module_version": "2.0.0",
      "model_name": "HTMLStyleModel",
      "state": {
       "_model_module": "@jupyter-widgets/controls",
       "_model_module_version": "2.0.0",
       "_model_name": "HTMLStyleModel",
       "_view_count": null,
       "_view_module": "@jupyter-widgets/base",
       "_view_module_version": "2.0.0",
       "_view_name": "StyleView",
       "background": null,
       "description_width": "",
       "font_size": null,
       "text_color": null
      }
     },
     "617a6e4d60224874b0e4ec1c25001f3e": {
      "model_module": "@jupyter-widgets/base",
      "model_module_version": "2.0.0",
      "model_name": "LayoutModel",
      "state": {
       "_model_module": "@jupyter-widgets/base",
       "_model_module_version": "2.0.0",
       "_model_name": "LayoutModel",
       "_view_count": null,
       "_view_module": "@jupyter-widgets/base",
       "_view_module_version": "2.0.0",
       "_view_name": "LayoutView",
       "align_content": null,
       "align_items": null,
       "align_self": null,
       "border_bottom": null,
       "border_left": null,
       "border_right": null,
       "border_top": null,
       "bottom": null,
       "display": null,
       "flex": null,
       "flex_flow": null,
       "grid_area": null,
       "grid_auto_columns": null,
       "grid_auto_flow": null,
       "grid_auto_rows": null,
       "grid_column": null,
       "grid_gap": null,
       "grid_row": null,
       "grid_template_areas": null,
       "grid_template_columns": null,
       "grid_template_rows": null,
       "height": null,
       "justify_content": null,
       "justify_items": null,
       "left": null,
       "margin": null,
       "max_height": null,
       "max_width": null,
       "min_height": null,
       "min_width": null,
       "object_fit": null,
       "object_position": null,
       "order": null,
       "overflow": null,
       "padding": null,
       "right": null,
       "top": null,
       "visibility": null,
       "width": null
      }
     },
     "6c6be2ad84c54baca2642613a80d5d0d": {
      "model_module": "@jupyter-widgets/base",
      "model_module_version": "2.0.0",
      "model_name": "LayoutModel",
      "state": {
       "_model_module": "@jupyter-widgets/base",
       "_model_module_version": "2.0.0",
       "_model_name": "LayoutModel",
       "_view_count": null,
       "_view_module": "@jupyter-widgets/base",
       "_view_module_version": "2.0.0",
       "_view_name": "LayoutView",
       "align_content": null,
       "align_items": null,
       "align_self": null,
       "border_bottom": null,
       "border_left": null,
       "border_right": null,
       "border_top": null,
       "bottom": null,
       "display": null,
       "flex": null,
       "flex_flow": null,
       "grid_area": null,
       "grid_auto_columns": null,
       "grid_auto_flow": null,
       "grid_auto_rows": null,
       "grid_column": null,
       "grid_gap": null,
       "grid_row": null,
       "grid_template_areas": null,
       "grid_template_columns": null,
       "grid_template_rows": null,
       "height": null,
       "justify_content": null,
       "justify_items": null,
       "left": null,
       "margin": null,
       "max_height": null,
       "max_width": null,
       "min_height": null,
       "min_width": null,
       "object_fit": null,
       "object_position": null,
       "order": null,
       "overflow": null,
       "padding": null,
       "right": null,
       "top": null,
       "visibility": null,
       "width": null
      }
     },
     "9a13f6c3d987490fb927d2d536e362d1": {
      "model_module": "@jupyter-widgets/controls",
      "model_module_version": "2.0.0",
      "model_name": "FloatProgressModel",
      "state": {
       "_dom_classes": [],
       "_model_module": "@jupyter-widgets/controls",
       "_model_module_version": "2.0.0",
       "_model_name": "FloatProgressModel",
       "_view_count": null,
       "_view_module": "@jupyter-widgets/controls",
       "_view_module_version": "2.0.0",
       "_view_name": "ProgressView",
       "bar_style": "success",
       "description": "",
       "description_allow_html": false,
       "layout": "IPY_MODEL_617a6e4d60224874b0e4ec1c25001f3e",
       "max": 5416568.0,
       "min": 0.0,
       "orientation": "horizontal",
       "style": "IPY_MODEL_34f61ba541714965a1f111f63a6317d6",
       "tabbable": null,
       "tooltip": null,
       "value": 5416568.0
      }
     },
     "ac141151314944cfbf0e6e43109ac129": {
      "model_module": "@jupyter-widgets/controls",
      "model_module_version": "2.0.0",
      "model_name": "HTMLModel",
      "state": {
       "_dom_classes": [],
       "_model_module": "@jupyter-widgets/controls",
       "_model_module_version": "2.0.0",
       "_model_name": "HTMLModel",
       "_view_count": null,
       "_view_module": "@jupyter-widgets/controls",
       "_view_module_version": "2.0.0",
       "_view_name": "HTMLView",
       "description": "",
       "description_allow_html": false,
       "layout": "IPY_MODEL_4098981552ef44e7a0d25309b9d7c9d0",
       "placeholder": "​",
       "style": "IPY_MODEL_5ad9860a36484db8822809bcd686bf88",
       "tabbable": null,
       "tooltip": null,
       "value": "100%"
      }
     },
     "c17fa53b576049f0a33954ae4b0cdeb7": {
      "model_module": "@jupyter-widgets/controls",
      "model_module_version": "2.0.0",
      "model_name": "HTMLStyleModel",
      "state": {
       "_model_module": "@jupyter-widgets/controls",
       "_model_module_version": "2.0.0",
       "_model_name": "HTMLStyleModel",
       "_view_count": null,
       "_view_module": "@jupyter-widgets/base",
       "_view_module_version": "2.0.0",
       "_view_name": "StyleView",
       "background": null,
       "description_width": "",
       "font_size": null,
       "text_color": null
      }
     }
    },
    "version_major": 2,
    "version_minor": 0
   }
  }
 },
 "nbformat": 4,
 "nbformat_minor": 5
}