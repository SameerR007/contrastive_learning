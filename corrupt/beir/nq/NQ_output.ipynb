{
 "cells": [
  {
   "cell_type": "code",
   "execution_count": 1,
   "id": "f6d4b65f-fa6b-4517-8694-8627bc49833b",
   "metadata": {
    "execution": {
     "iopub.execute_input": "2025-03-05T01:18:19.292905Z",
     "iopub.status.busy": "2025-03-05T01:18:19.292314Z",
     "iopub.status.idle": "2025-03-05T01:18:19.376245Z",
     "shell.execute_reply": "2025-03-05T01:18:19.375795Z"
    },
    "papermill": {
     "duration": 0.089032,
     "end_time": "2025-03-05T01:18:19.376976",
     "exception": false,
     "start_time": "2025-03-05T01:18:19.287944",
     "status": "completed"
    },
    "tags": []
   },
   "outputs": [
    {
     "name": "stderr",
     "output_type": "stream",
     "text": [
      "/dss/dsshome1/07/ra65bex2/srawat/myenv/lib/python3.12/site-packages/beir/datasets/data_loader.py:8: TqdmExperimentalWarning: Using `tqdm.autonotebook.tqdm` in notebook mode. Use `tqdm.tqdm` instead to force console mode (e.g. in jupyter console)\n",
      "  from tqdm.autonotebook import tqdm\n"
     ]
    }
   ],
   "source": [
    "from beir.datasets.data_loader import GenericDataLoader"
   ]
  },
  {
   "cell_type": "code",
   "execution_count": 2,
   "id": "36dd4470-def0-46f6-b63c-3630c3ca673d",
   "metadata": {
    "execution": {
     "iopub.execute_input": "2025-03-05T01:18:19.384755Z",
     "iopub.status.busy": "2025-03-05T01:18:19.384327Z",
     "iopub.status.idle": "2025-03-05T01:18:19.386893Z",
     "shell.execute_reply": "2025-03-05T01:18:19.386493Z"
    },
    "papermill": {
     "duration": 0.006948,
     "end_time": "2025-03-05T01:18:19.387605",
     "exception": false,
     "start_time": "2025-03-05T01:18:19.380657",
     "status": "completed"
    },
    "tags": []
   },
   "outputs": [],
   "source": [
    "data_path = '/dss/dsshome1/07/ra65bex2/srawat/nq/nq'"
   ]
  },
  {
   "cell_type": "code",
   "execution_count": 3,
   "id": "41e17333-2c34-4b7b-91f6-3cbd3972f0d6",
   "metadata": {
    "execution": {
     "iopub.execute_input": "2025-03-05T01:18:19.395818Z",
     "iopub.status.busy": "2025-03-05T01:18:19.395449Z",
     "iopub.status.idle": "2025-03-05T01:18:32.872695Z",
     "shell.execute_reply": "2025-03-05T01:18:32.872088Z"
    },
    "papermill": {
     "duration": 13.48234,
     "end_time": "2025-03-05T01:18:32.873338",
     "exception": false,
     "start_time": "2025-03-05T01:18:19.390998",
     "status": "completed"
    },
    "tags": []
   },
   "outputs": [
    {
     "data": {
      "application/vnd.jupyter.widget-view+json": {
       "model_id": "709187b912d94ac2891dd133c1ffdb34",
       "version_major": 2,
       "version_minor": 0
      },
      "text/plain": [
       "  0%|          | 0/2681468 [00:00<?, ?it/s]"
      ]
     },
     "metadata": {},
     "output_type": "display_data"
    }
   ],
   "source": [
    "corpus, queries, qrels = GenericDataLoader(data_path).load(split=\"test\")"
   ]
  },
  {
   "cell_type": "code",
   "execution_count": 4,
   "id": "1d653c60-435a-4e10-8506-6ef5d01f8675",
   "metadata": {
    "execution": {
     "iopub.execute_input": "2025-03-05T01:18:32.887464Z",
     "iopub.status.busy": "2025-03-05T01:18:32.887276Z",
     "iopub.status.idle": "2025-03-05T01:18:35.115059Z",
     "shell.execute_reply": "2025-03-05T01:18:35.114576Z"
    },
    "papermill": {
     "duration": 2.232542,
     "end_time": "2025-03-05T01:18:35.115696",
     "exception": false,
     "start_time": "2025-03-05T01:18:32.883154",
     "status": "completed"
    },
    "tags": []
   },
   "outputs": [
    {
     "name": "stderr",
     "output_type": "stream",
     "text": [
      "[nltk_data] Downloading package stopwords to\n",
      "[nltk_data]     /dss/dsshome1/07/ra65bex2/nltk_data...\n",
      "[nltk_data]   Package stopwords is already up-to-date!\n",
      "[nltk_data] Downloading package wordnet to\n",
      "[nltk_data]     /dss/dsshome1/07/ra65bex2/nltk_data...\n",
      "[nltk_data]   Package wordnet is already up-to-date!\n"
     ]
    }
   ],
   "source": [
    "import random\n",
    "import re\n",
    "import nltk\n",
    "from nltk.corpus import stopwords, wordnet\n",
    "nltk.download('stopwords')\n",
    "nltk.download('wordnet')\n",
    "stop_words = set(stopwords.words('english'))\n",
    "def clean_text(text):\n",
    "    return re.sub(r'[^\\w\\s.!?]', '', text)\n",
    "def select_words(text, percentage):\n",
    "    words = [w for w in text.split() if w.lower() not in stop_words]\n",
    "    return random.sample(words, min(int(percentage*len(words)), len(words)))\n",
    "def introduce_typo(word):\n",
    "    if len(word) > 1:\n",
    "        idx = random.randint(0, len(word) - 1)\n",
    "        return word[:idx] + random.choice('abcdefghijklmnopqrstuvwxyz') + word[idx+1:]\n",
    "    return word\n",
    "def introduce_noise(word):\n",
    "    noise_chars = ['@', '#', '$', '%', '&', '*']\n",
    "    if len(word) > 1:\n",
    "        idx = random.randint(0, len(word) - 1)\n",
    "        return word[:idx] + random.choice(noise_chars) + word[idx+1:]\n",
    "    return word\n",
    "def replace_with_synonym(word):\n",
    "    synonyms = [syn.lemmas()[0].name() for syn in wordnet.synsets(word) if syn.lemmas()]\n",
    "    return random.choice(synonyms) if synonyms else word\n",
    "def corrupt_word(word, method):\n",
    "    if method == 'typo':\n",
    "        return introduce_typo(word)\n",
    "    elif method == 'noise':\n",
    "        return introduce_noise(word)\n",
    "    elif method == 'synonym':\n",
    "        return replace_with_synonym(word)\n",
    "    return word\n",
    "def corrupt_text(text):\n",
    "    corrupted_words = []  \n",
    "    words_to_corrupt=select_words(clean_text(text), percentage=0.5)\n",
    "    for word in clean_text(text).split():\n",
    "        if word in words_to_corrupt:\n",
    "            corruption_method = random.choice(['typo', 'noise', 'synonym'])\n",
    "            corrupted_words.append(corrupt_word(word, corruption_method))\n",
    "        else:\n",
    "            corrupted_words.append(word)\n",
    "    return ' '.join(corrupted_words)"
   ]
  },
  {
   "cell_type": "code",
   "execution_count": 5,
   "id": "a29044d5-3952-4f3d-aa43-e1efd34fcad3",
   "metadata": {
    "execution": {
     "iopub.execute_input": "2025-03-05T01:18:35.124017Z",
     "iopub.status.busy": "2025-03-05T01:18:35.123412Z",
     "iopub.status.idle": "2025-03-05T02:08:51.326098Z",
     "shell.execute_reply": "2025-03-05T02:08:51.325288Z"
    },
    "papermill": {
     "duration": 3016.208169,
     "end_time": "2025-03-05T02:08:51.327618",
     "exception": false,
     "start_time": "2025-03-05T01:18:35.119449",
     "status": "completed"
    },
    "tags": []
   },
   "outputs": [],
   "source": [
    "contrastive_pairs=[]\n",
    "query_lengths = []\n",
    "import random\n",
    "c=0\n",
    "for query_id, relevant_docs in qrels.items():\n",
    "    try:\n",
    "        query_text = queries[query_id]\n",
    "        query_lengths.append(len(query_text.split()))\n",
    "        for doc_id in relevant_docs:\n",
    "            positive = corpus[doc_id][\"text\"]\n",
    "        #print(relevant_docs)\n",
    "        positive_doc_ids = set(relevant_docs)\n",
    "        all_doc_ids = set(corpus.keys())\n",
    "        negative_doc_ids = all_doc_ids - positive_doc_ids\n",
    "        negative_doc_ids=list(negative_doc_ids)\n",
    "        negative_doc_samples = random.sample(negative_doc_ids, k=5)\n",
    "        negatives=[]\n",
    "        for neg_doc_id in negative_doc_samples:\n",
    "            negative_doc_text = corpus[neg_doc_id][\"text\"]\n",
    "            negatives.append(negative_doc_text)\n",
    "        contrastive_pairs.append({\n",
    "            \"anchor\": corrupt_text(query_text),\n",
    "            \"positive\": positive,\n",
    "            \"negatives\": negatives\n",
    "        })\n",
    "    except:\n",
    "        c=c+1"
   ]
  },
  {
   "cell_type": "code",
   "execution_count": 6,
   "id": "49721946-fff3-4690-bd92-d981cecdf62b",
   "metadata": {
    "execution": {
     "iopub.execute_input": "2025-03-05T02:08:51.347362Z",
     "iopub.status.busy": "2025-03-05T02:08:51.346820Z",
     "iopub.status.idle": "2025-03-05T02:08:51.351031Z",
     "shell.execute_reply": "2025-03-05T02:08:51.350679Z"
    },
    "papermill": {
     "duration": 0.009736,
     "end_time": "2025-03-05T02:08:51.351745",
     "exception": false,
     "start_time": "2025-03-05T02:08:51.342009",
     "status": "completed"
    },
    "tags": []
   },
   "outputs": [
    {
     "data": {
      "text/plain": [
       "0"
      ]
     },
     "execution_count": 6,
     "metadata": {},
     "output_type": "execute_result"
    }
   ],
   "source": [
    "c"
   ]
  },
  {
   "cell_type": "code",
   "execution_count": 7,
   "id": "de8ef367-dcb4-4bb6-af3a-20f190930ed1",
   "metadata": {
    "execution": {
     "iopub.execute_input": "2025-03-05T02:08:51.359668Z",
     "iopub.status.busy": "2025-03-05T02:08:51.359331Z",
     "iopub.status.idle": "2025-03-05T02:08:51.388692Z",
     "shell.execute_reply": "2025-03-05T02:08:51.388333Z"
    },
    "papermill": {
     "duration": 0.034097,
     "end_time": "2025-03-05T02:08:51.389388",
     "exception": false,
     "start_time": "2025-03-05T02:08:51.355291",
     "status": "completed"
    },
    "tags": []
   },
   "outputs": [
    {
     "data": {
      "text/plain": [
       "3452"
      ]
     },
     "execution_count": 7,
     "metadata": {},
     "output_type": "execute_result"
    }
   ],
   "source": [
    "len(contrastive_pairs)"
   ]
  },
  {
   "cell_type": "code",
   "execution_count": 8,
   "id": "8a2ccada-419a-4f79-ad4d-b605780281a3",
   "metadata": {
    "execution": {
     "iopub.execute_input": "2025-03-05T02:08:51.397243Z",
     "iopub.status.busy": "2025-03-05T02:08:51.396909Z",
     "iopub.status.idle": "2025-03-05T02:08:51.405875Z",
     "shell.execute_reply": "2025-03-05T02:08:51.405525Z"
    },
    "papermill": {
     "duration": 0.01357,
     "end_time": "2025-03-05T02:08:51.406561",
     "exception": false,
     "start_time": "2025-03-05T02:08:51.392991",
     "status": "completed"
    },
    "tags": []
   },
   "outputs": [
    {
     "data": {
      "text/plain": [
       "[{'anchor': 'what is non controlling *nterest on ba%ance sheet',\n",
       "  'positive': 'It is, however, possible (such as through special voting rights) for a controlling interest requiring consolidation to be achieved without exceeding 50% ownership, depending on the accounting standards being employed. Minority interest belongs to other investors and is reported on the consolidated balance sheet of the owning company to reflect the claim on assets belonging to other, non-controlling shareholders. Also, minority interest is reported on the consolidated income statement as a share of profit belonging to minority shareholders.',\n",
       "  'negatives': ['In Brazil, the similar sounding terms to megaregion (megarregião when translated to English, are actually legally distinct and take on quite different meaning: Mesoregions of Brazil (mesorregião) and Microregions of Brazil (microrregião).',\n",
       "   'Orchard with Peach Trees in Blossom\\nApril, 1888\\nPrivate collection (F551)',\n",
       "   'These crosses are of dubious viability due to genetic divergence between these genera',\n",
       "   'Suburbs of Adelaide are not included, with the exception of Gawler, Mount Barker, Crafers-Bridgewater and Nairne, which can all be seen as semi-rural suburbs but also as separate towns.',\n",
       "   \"Furry fandom refers to the fandom for fictional anthropomorphic animal characters with human personalities and characteristics. The concept of furry originated at a science fiction convention in 1980,[8] when a drawing of a character from Steve Gallacci's Albedo Anthropomorphics initiated a discussion of anthropomorphic characters in science fiction novels, which in turn initiated a discussion group that met at science fiction and comics conventions.\"]},\n",
       " {'anchor': 'how many episodes are in chicago fire season 4',\n",
       "  'positive': 'The fourth season of Chicago Fire, an American drama television series with executive producer Dick Wolf, and producers Derek Haas, Michael Brandt, and Matt Olmstead, was ordered on February 5, 2015, by NBC,[1] and premiered on October 13, 2015 and concluded on May 17, 2016.[2] The season contained 23 episodes.[3]',\n",
       "  'negatives': [\"Adjacent to the castle, Jane Percy, Duchess of Northumberland, has initiated the establishment of The Alnwick Garden, a formal garden set around a cascading fountain. It cost £42\\xa0million (press release of 7 August 2003). The garden belongs to a charitable trust which is separate from the Northumberland Estates, but the Duke of Northumberland donated the 42-acre (17\\xa0ha) site and £9\\xa0million. The garden is designed by Jacques Wirtz and Peter Wirtz of Wirtz International based in Schoten, Belgium. The first phase of development, opened in October 2001, involved the creation of the fountain and initial planting of the gardens. In 2004 a large 6,000\\xa0sq\\xa0ft (560\\xa0m2) 'tree house' complex, including a cafe, was opened. It is deemed one of the largest tree houses in the world.\",\n",
       "   \"In April 1898, Stoddart's cricket team returned to England via Colombo. On arrival there, Ranjitsinhji left the team to return to India with the intention of pursuing his claim to the throne of Nawanagar.[100][111] He spent the remainder of the year in India and did not return to England until March 1899.[112] Initially, he tried to establish support for his claim, including his argument that Jassaji was illegitimate, among the Indian princes. Later, he met Pratap Singh, who had arranged for Ranjitsinhji to receive an honorary state appointment with an associated income. Pratap Singh also introduced him to Rajinder Singh, the Maharaja of Patiala, a very wealthy individual. Rajinder was very pro-British and an enthusiastic cricketer and soon became friends with Ranjitsinhji; he subsequently provided Ranjitsinhji with another source of income.[113] Ranjitsinhji travelled extensively throughout India, trying to build support among the princes and local officials, and received an enthusiastic reception from the public wherever he went.  He also spent time with his mother and family in Sarador.[114][115] He played plenty of cricket during his visit, with mixed success. Although he scored 257 in one game, in another he failed to score in either innings, the only time this happened to him in any form of cricket.[116]\",\n",
       "   'At the start of her freshman year, Zack had been trying to go out with Kelly ever since she can remember. For a while, a feud began between Zack and fellow student A.C. Slater over who would be her boyfriend, which caused her great stress, but a lot of fun at the same time. Kelly blushed numerous times when both Zack and Slater would hit on her, especially when it was done in front of other students. During her sophomore year, Slater conceded defeat to Zack and she and Zack began dating, whereas Slater thereupon pursued his interest in Jessie Spano.',\n",
       "   'A lithosphere (Ancient\\xa0Greek: λίθος [lithos] for \"rocky\", and σφαίρα [sphaira] for \"sphere\") is the rigid,[1] outermost shell of a terrestrial-type planet or natural satellite that is defined by its rigid mechanical properties. On Earth, it is composed of the crust and the portion of the upper mantle that behaves elastically on time scales of thousands of years or greater. The outermost shell of a rocky planet, the crust, is defined on the basis of its chemistry and mineralogy.',\n",
       "   'Basava refers to the Śruti (Vedas) as the foundation of his beliefs, but also states that the Vedas are texts, nature is just nature, and neither is God. He, state Velcheru Rao and Gene Roghair, in Chapter 6 of Basava Purana asserts, \"Śruti says, Rudra is the only one; why even consider the other views. How can you say that the Veda is God? If it were true, how could it have been stolen by Somaka? If water is God, how can you account for its tendency to fall down, and how can it be contained in the palm of a person\\'s hand? If fire is God, how is it that it can be extinguished, and how can it eat all kinds of things indiscriminately?\"[26]']}]"
      ]
     },
     "execution_count": 8,
     "metadata": {},
     "output_type": "execute_result"
    }
   ],
   "source": [
    "contrastive_pairs[0:2]"
   ]
  },
  {
   "cell_type": "code",
   "execution_count": 9,
   "id": "8ade92f9-e3df-4d0a-b849-b1a721e18cf6",
   "metadata": {
    "execution": {
     "iopub.execute_input": "2025-03-05T02:08:51.415776Z",
     "iopub.status.busy": "2025-03-05T02:08:51.415647Z",
     "iopub.status.idle": "2025-03-05T02:08:51.423900Z",
     "shell.execute_reply": "2025-03-05T02:08:51.423549Z"
    },
    "papermill": {
     "duration": 0.013123,
     "end_time": "2025-03-05T02:08:51.424537",
     "exception": false,
     "start_time": "2025-03-05T02:08:51.411414",
     "status": "completed"
    },
    "tags": []
   },
   "outputs": [
    {
     "data": {
      "text/plain": [
       "3452"
      ]
     },
     "execution_count": 9,
     "metadata": {},
     "output_type": "execute_result"
    }
   ],
   "source": [
    "len(qrels)"
   ]
  },
  {
   "cell_type": "code",
   "execution_count": 10,
   "id": "6b97f7b4-f007-41f6-bfbb-1b9b01665e9d",
   "metadata": {
    "execution": {
     "iopub.execute_input": "2025-03-05T02:08:51.432789Z",
     "iopub.status.busy": "2025-03-05T02:08:51.432658Z",
     "iopub.status.idle": "2025-03-05T02:08:57.011920Z",
     "shell.execute_reply": "2025-03-05T02:08:57.011287Z"
    },
    "papermill": {
     "duration": 5.58426,
     "end_time": "2025-03-05T02:08:57.012746",
     "exception": false,
     "start_time": "2025-03-05T02:08:51.428486",
     "status": "completed"
    },
    "tags": []
   },
   "outputs": [],
   "source": [
    "from torch.utils.data import DataLoader"
   ]
  },
  {
   "cell_type": "code",
   "execution_count": 11,
   "id": "a415b29a-a543-4679-8f78-44f715b3067d",
   "metadata": {
    "execution": {
     "iopub.execute_input": "2025-03-05T02:08:57.024212Z",
     "iopub.status.busy": "2025-03-05T02:08:57.023885Z",
     "iopub.status.idle": "2025-03-05T02:08:57.027247Z",
     "shell.execute_reply": "2025-03-05T02:08:57.026867Z"
    },
    "papermill": {
     "duration": 0.008445,
     "end_time": "2025-03-05T02:08:57.027842",
     "exception": false,
     "start_time": "2025-03-05T02:08:57.019397",
     "status": "completed"
    },
    "tags": []
   },
   "outputs": [],
   "source": [
    "class ContrastiveDataset:\n",
    "    def __init__(self, pairs):\n",
    "        self.pairs = pairs\n",
    "\n",
    "    def __len__(self):\n",
    "        return len(self.pairs)\n",
    "\n",
    "    def __getitem__(self, idx):\n",
    "        item = self.pairs[idx]\n",
    "        return item[\"anchor\"], item[\"positive\"], item[\"negatives\"]"
   ]
  },
  {
   "cell_type": "code",
   "execution_count": 12,
   "id": "a39efeab-fd20-411a-80c5-315f362e00d2",
   "metadata": {
    "execution": {
     "iopub.execute_input": "2025-03-05T02:08:57.036900Z",
     "iopub.status.busy": "2025-03-05T02:08:57.036451Z",
     "iopub.status.idle": "2025-03-05T02:08:57.046255Z",
     "shell.execute_reply": "2025-03-05T02:08:57.045869Z"
    },
    "papermill": {
     "duration": 0.014861,
     "end_time": "2025-03-05T02:08:57.046837",
     "exception": false,
     "start_time": "2025-03-05T02:08:57.031976",
     "status": "completed"
    },
    "tags": []
   },
   "outputs": [],
   "source": [
    "contrastive_dataset = ContrastiveDataset(contrastive_pairs)"
   ]
  },
  {
   "cell_type": "code",
   "execution_count": 13,
   "id": "d103bbfa-895a-4020-a7e5-21de659f27dc",
   "metadata": {
    "execution": {
     "iopub.execute_input": "2025-03-05T02:08:57.055758Z",
     "iopub.status.busy": "2025-03-05T02:08:57.055613Z",
     "iopub.status.idle": "2025-03-05T02:08:57.065702Z",
     "shell.execute_reply": "2025-03-05T02:08:57.065268Z"
    },
    "papermill": {
     "duration": 0.01554,
     "end_time": "2025-03-05T02:08:57.066300",
     "exception": false,
     "start_time": "2025-03-05T02:08:57.050760",
     "status": "completed"
    },
    "tags": []
   },
   "outputs": [],
   "source": [
    "data_loader = DataLoader(contrastive_dataset, batch_size=32, shuffle=True)"
   ]
  },
  {
   "cell_type": "code",
   "execution_count": 14,
   "id": "c8b0277f-f526-4087-82da-c4cdd65d32da",
   "metadata": {
    "execution": {
     "iopub.execute_input": "2025-03-05T02:08:57.075217Z",
     "iopub.status.busy": "2025-03-05T02:08:57.075088Z",
     "iopub.status.idle": "2025-03-05T02:08:57.083064Z",
     "shell.execute_reply": "2025-03-05T02:08:57.082694Z"
    },
    "papermill": {
     "duration": 0.013316,
     "end_time": "2025-03-05T02:08:57.083619",
     "exception": false,
     "start_time": "2025-03-05T02:08:57.070303",
     "status": "completed"
    },
    "tags": []
   },
   "outputs": [
    {
     "data": {
      "text/plain": [
       "108"
      ]
     },
     "execution_count": 14,
     "metadata": {},
     "output_type": "execute_result"
    }
   ],
   "source": [
    "len(data_loader)"
   ]
  },
  {
   "cell_type": "code",
   "execution_count": 15,
   "id": "e15526a4-b3fe-435b-91c9-ad4064562f0f",
   "metadata": {
    "execution": {
     "iopub.execute_input": "2025-03-05T02:08:57.092539Z",
     "iopub.status.busy": "2025-03-05T02:08:57.092406Z",
     "iopub.status.idle": "2025-03-05T02:09:03.882468Z",
     "shell.execute_reply": "2025-03-05T02:09:03.881713Z"
    },
    "papermill": {
     "duration": 6.795808,
     "end_time": "2025-03-05T02:09:03.883475",
     "exception": false,
     "start_time": "2025-03-05T02:08:57.087667",
     "status": "completed"
    },
    "tags": []
   },
   "outputs": [
    {
     "name": "stderr",
     "output_type": "stream",
     "text": [
      "/tmp/ipykernel_1305342/261098231.py:3: FutureWarning: You are using `torch.load` with `weights_only=False` (the current default value), which uses the default pickle module implicitly. It is possible to construct malicious pickle data which will execute arbitrary code during unpickling (See https://github.com/pytorch/pytorch/blob/main/SECURITY.md#untrusted-models for more details). In a future release, the default value for `weights_only` will be flipped to `True`. This limits the functions that could be executed during unpickling. Arbitrary objects will no longer be allowed to be loaded via this mode unless they are explicitly allowlisted by the user via `torch.serialization.add_safe_globals`. We recommend you start setting `weights_only=True` for any use case where you don't have full control of the loaded file. Please open an issue on GitHub for any issues related to this experimental feature.\n",
      "  lora_model_baseline = torch.load(file_path_baseline)\n"
     ]
    }
   ],
   "source": [
    "import torch\n",
    "file_path_baseline =\"/dss/dsshome1/07/ra65bex2/srawat/contrastive_learning/v1.1/app_baseline/checkpoint_epoch_3.pth\"\n",
    "lora_model_baseline = torch.load(file_path_baseline)"
   ]
  },
  {
   "cell_type": "code",
   "execution_count": 16,
   "id": "9999e628-5966-4dda-b5c5-c0d762fce27d",
   "metadata": {
    "execution": {
     "iopub.execute_input": "2025-03-05T02:09:03.895735Z",
     "iopub.status.busy": "2025-03-05T02:09:03.895376Z",
     "iopub.status.idle": "2025-03-05T02:09:03.902712Z",
     "shell.execute_reply": "2025-03-05T02:09:03.902370Z"
    },
    "papermill": {
     "duration": 0.013034,
     "end_time": "2025-03-05T02:09:03.903270",
     "exception": false,
     "start_time": "2025-03-05T02:09:03.890236",
     "status": "completed"
    },
    "tags": []
   },
   "outputs": [],
   "source": [
    "device = torch.device('cuda' if torch.cuda.is_available() else 'cpu')\n",
    "lora_model_baseline = lora_model_baseline.to(device)"
   ]
  },
  {
   "cell_type": "code",
   "execution_count": 17,
   "id": "7e6a3a61-8db0-43db-b575-6399f8515950",
   "metadata": {
    "execution": {
     "iopub.execute_input": "2025-03-05T02:09:03.911982Z",
     "iopub.status.busy": "2025-03-05T02:09:03.911849Z",
     "iopub.status.idle": "2025-03-05T02:09:04.151280Z",
     "shell.execute_reply": "2025-03-05T02:09:04.150722Z"
    },
    "papermill": {
     "duration": 0.245027,
     "end_time": "2025-03-05T02:09:04.152436",
     "exception": false,
     "start_time": "2025-03-05T02:09:03.907409",
     "status": "completed"
    },
    "tags": []
   },
   "outputs": [],
   "source": [
    "from transformers import AutoTokenizer, AutoModel\n",
    "tokenizer = AutoTokenizer.from_pretrained(\"bert-base-uncased\")"
   ]
  },
  {
   "cell_type": "code",
   "execution_count": 18,
   "id": "68ac4919-76f1-4349-a314-4b1061126655",
   "metadata": {
    "execution": {
     "iopub.execute_input": "2025-03-05T02:09:04.161943Z",
     "iopub.status.busy": "2025-03-05T02:09:04.161757Z",
     "iopub.status.idle": "2025-03-05T02:09:04.164848Z",
     "shell.execute_reply": "2025-03-05T02:09:04.164500Z"
    },
    "papermill": {
     "duration": 0.008228,
     "end_time": "2025-03-05T02:09:04.165405",
     "exception": false,
     "start_time": "2025-03-05T02:09:04.157177",
     "status": "completed"
    },
    "tags": []
   },
   "outputs": [],
   "source": [
    "def cosine_distance(x, y):\n",
    "    return 1 - torch.nn.functional.cosine_similarity(x, y, dim=-1)"
   ]
  },
  {
   "cell_type": "code",
   "execution_count": 19,
   "id": "990f63bd-4d48-4f58-a001-3b3250f65312",
   "metadata": {
    "execution": {
     "iopub.execute_input": "2025-03-05T02:09:04.179326Z",
     "iopub.status.busy": "2025-03-05T02:09:04.179147Z",
     "iopub.status.idle": "2025-03-05T02:09:04.193877Z",
     "shell.execute_reply": "2025-03-05T02:09:04.193328Z"
    },
    "papermill": {
     "duration": 0.020764,
     "end_time": "2025-03-05T02:09:04.194810",
     "exception": false,
     "start_time": "2025-03-05T02:09:04.174046",
     "status": "completed"
    },
    "tags": []
   },
   "outputs": [],
   "source": [
    "def evaluate_mrr_baseline(model, data_loader_val, distance_fn):\n",
    "    model.eval()\n",
    "\n",
    "    total_rr = 0.0\n",
    "    num_queries = 0\n",
    "\n",
    "    with torch.no_grad():\n",
    "        for batch in data_loader_val:\n",
    "            anchor_text = batch[0]\n",
    "            positive_text = batch[1]\n",
    "            negative_texts = batch[2]\n",
    "\n",
    "            anchor_input = tokenizer(anchor_text, return_tensors='pt', padding=True, truncation=True, max_length=512).to(device)\n",
    "            positive_input = tokenizer(positive_text, return_tensors='pt', padding=True, truncation=True, max_length=512).to(device)\n",
    "\n",
    "            anchor_embedding = model(**anchor_input).last_hidden_state[:, 0, :]\n",
    "            positive_embedding = model(**positive_input).last_hidden_state[:, 0, :]\n",
    "            negative_embedding = [model(**tokenizer(neg, return_tensors='pt', padding=True, truncation=True, max_length=512).to(device)).last_hidden_state[:, 0, :] for neg in negative_texts]\n",
    "\n",
    "            pos_dist = distance_fn(anchor_embedding, positive_embedding)\n",
    "            neg_dist = torch.stack([distance_fn(anchor_embedding, neg) for neg in negative_embedding], dim=-1)\n",
    "            all_similarities=torch.cat([-pos_dist.unsqueeze(1), -neg_dist], dim=1)\n",
    "\n",
    "            sorted_similarities, sorted_indices = torch.sort(all_similarities, dim=1, descending=True)\n",
    "\n",
    "            # Find the rank of the first relevant (positive) document\n",
    "            positive_rank = (sorted_indices == 0).nonzero(as_tuple=True)[1] + 1  # +1 to make rank 1-based\n",
    "            total_rr += torch.sum(1.0 / positive_rank.float()).item()  # Reciprocal rank\n",
    "            num_queries += len(positive_rank)\n",
    "\n",
    "    mrr = total_rr / num_queries\n",
    "    return mrr"
   ]
  },
  {
   "cell_type": "code",
   "execution_count": 20,
   "id": "534a9ec5-4211-4cb6-81f1-fb8a30caff92",
   "metadata": {
    "execution": {
     "iopub.execute_input": "2025-03-05T02:09:04.203942Z",
     "iopub.status.busy": "2025-03-05T02:09:04.203785Z",
     "iopub.status.idle": "2025-03-05T02:10:23.144961Z",
     "shell.execute_reply": "2025-03-05T02:10:23.144365Z"
    },
    "papermill": {
     "duration": 78.951968,
     "end_time": "2025-03-05T02:10:23.151132",
     "exception": false,
     "start_time": "2025-03-05T02:09:04.199164",
     "status": "completed"
    },
    "tags": []
   },
   "outputs": [
    {
     "name": "stdout",
     "output_type": "stream",
     "text": [
      "0.5849411075941243\n"
     ]
    }
   ],
   "source": [
    "mrr_validation_baseline = evaluate_mrr_baseline(lora_model_baseline, data_loader, cosine_distance)\n",
    "print(mrr_validation_baseline)"
   ]
  },
  {
   "cell_type": "code",
   "execution_count": null,
   "id": "f61bbd65-41c9-4ac7-80ef-ba4a4fb02d45",
   "metadata": {
    "papermill": {
     "duration": 0.004253,
     "end_time": "2025-03-05T02:10:23.159827",
     "exception": false,
     "start_time": "2025-03-05T02:10:23.155574",
     "status": "completed"
    },
    "tags": []
   },
   "outputs": [],
   "source": []
  },
  {
   "cell_type": "code",
   "execution_count": 21,
   "id": "8a3dfd17-ee43-4c4e-9287-8ec6451bc062",
   "metadata": {
    "execution": {
     "iopub.execute_input": "2025-03-05T02:10:23.169040Z",
     "iopub.status.busy": "2025-03-05T02:10:23.168801Z",
     "iopub.status.idle": "2025-03-05T02:10:24.941644Z",
     "shell.execute_reply": "2025-03-05T02:10:24.941084Z"
    },
    "papermill": {
     "duration": 1.778658,
     "end_time": "2025-03-05T02:10:24.942626",
     "exception": false,
     "start_time": "2025-03-05T02:10:23.163968",
     "status": "completed"
    },
    "tags": []
   },
   "outputs": [
    {
     "name": "stderr",
     "output_type": "stream",
     "text": [
      "/tmp/ipykernel_1305342/2975798179.py:2: FutureWarning: You are using `torch.load` with `weights_only=False` (the current default value), which uses the default pickle module implicitly. It is possible to construct malicious pickle data which will execute arbitrary code during unpickling (See https://github.com/pytorch/pytorch/blob/main/SECURITY.md#untrusted-models for more details). In a future release, the default value for `weights_only` will be flipped to `True`. This limits the functions that could be executed during unpickling. Arbitrary objects will no longer be allowed to be loaded via this mode unless they are explicitly allowlisted by the user via `torch.serialization.add_safe_globals`. We recommend you start setting `weights_only=True` for any use case where you don't have full control of the loaded file. Please open an issue on GitHub for any issues related to this experimental feature.\n",
      "  lora_model_average = torch.load(file_path_average)\n"
     ]
    }
   ],
   "source": [
    "file_path_average=\"/dss/dsshome1/07/ra65bex2/srawat/contrastive_learning/v1.1/app_average/average_checkpoint_epoch_3.pth\"\n",
    "lora_model_average = torch.load(file_path_average)\n",
    "lora_model_average = lora_model_average.to(device)"
   ]
  },
  {
   "cell_type": "code",
   "execution_count": 22,
   "id": "49c10d3f-c53d-4222-aba4-0e763451baff",
   "metadata": {
    "execution": {
     "iopub.execute_input": "2025-03-05T02:10:24.953282Z",
     "iopub.status.busy": "2025-03-05T02:10:24.952927Z",
     "iopub.status.idle": "2025-03-05T02:10:24.956170Z",
     "shell.execute_reply": "2025-03-05T02:10:24.955811Z"
    },
    "papermill": {
     "duration": 0.008809,
     "end_time": "2025-03-05T02:10:24.956891",
     "exception": false,
     "start_time": "2025-03-05T02:10:24.948082",
     "status": "completed"
    },
    "tags": []
   },
   "outputs": [],
   "source": [
    "def avg_embedding(inputs, model):\n",
    "    input=model(**inputs)\n",
    "    input_last_hidden_state=input.last_hidden_state\n",
    "    input_attention_mask = inputs['attention_mask']\n",
    "    input_masked_embeddings = input_last_hidden_state * input_attention_mask.unsqueeze(-1)\n",
    "    input_sum_embeddings = torch.sum(input_masked_embeddings, dim=1)\n",
    "    input_token_counts = torch.sum(input_attention_mask, dim=1).unsqueeze(-1)\n",
    "    input_avg_embeddings = input_sum_embeddings / input_token_counts\n",
    "    return(input_avg_embeddings)"
   ]
  },
  {
   "cell_type": "code",
   "execution_count": 23,
   "id": "22570a1b-93bf-41ef-99fe-de41c3857b41",
   "metadata": {
    "execution": {
     "iopub.execute_input": "2025-03-05T02:10:24.966569Z",
     "iopub.status.busy": "2025-03-05T02:10:24.966442Z",
     "iopub.status.idle": "2025-03-05T02:10:24.976532Z",
     "shell.execute_reply": "2025-03-05T02:10:24.976154Z"
    },
    "papermill": {
     "duration": 0.015437,
     "end_time": "2025-03-05T02:10:24.977118",
     "exception": false,
     "start_time": "2025-03-05T02:10:24.961681",
     "status": "completed"
    },
    "tags": []
   },
   "outputs": [],
   "source": [
    "def evaluate_mrr_average(model, data_loader_val, distance_fn):\n",
    "    model.eval()  \n",
    "\n",
    "    total_rr = 0.0\n",
    "    num_queries = 0\n",
    "\n",
    "    with torch.no_grad():\n",
    "        for batch in data_loader_val:\n",
    "            anchor_text = batch[0]\n",
    "            positive_text = batch[1]\n",
    "            negative_texts = batch[2]\n",
    "\n",
    "            anchor_input = tokenizer(anchor_text, return_tensors='pt', padding=True, truncation=True, max_length=512).to(device)\n",
    "            positive_input = tokenizer(positive_text, return_tensors='pt', padding=True, truncation=True, max_length=512).to(device)\n",
    "\n",
    "            anchor_embedding = avg_embedding(anchor_input, model)\n",
    "            positive_embedding = avg_embedding(positive_input, model)\n",
    "            negative_embedding = [avg_embedding(tokenizer(neg, return_tensors='pt', padding=True, truncation=True, max_length=512).to(device), model) for neg in negative_texts]\n",
    "\n",
    "            pos_dist = distance_fn(anchor_embedding, positive_embedding)\n",
    "            neg_dist = torch.stack([distance_fn(anchor_embedding, neg) for neg in negative_embedding], dim=-1)\n",
    "            all_similarities=torch.cat([-pos_dist.unsqueeze(1), -neg_dist], dim=1)\n",
    "            \n",
    "            sorted_similarities, sorted_indices = torch.sort(all_similarities, dim=1, descending=True)\n",
    "\n",
    "            # Find the rank of the first relevant (positive) document\n",
    "            positive_rank = (sorted_indices == 0).nonzero(as_tuple=True)[1] + 1  # +1 to make rank 1-based\n",
    "            total_rr += torch.sum(1.0 / positive_rank.float()).item()  # Reciprocal rank\n",
    "            num_queries += len(positive_rank)\n",
    "\n",
    "    mrr = total_rr / num_queries\n",
    "    return mrr"
   ]
  },
  {
   "cell_type": "code",
   "execution_count": 24,
   "id": "82977667-a984-467e-9eb6-9d6520ecb3b8",
   "metadata": {
    "execution": {
     "iopub.execute_input": "2025-03-05T02:10:24.986846Z",
     "iopub.status.busy": "2025-03-05T02:10:24.986705Z",
     "iopub.status.idle": "2025-03-05T02:11:43.770983Z",
     "shell.execute_reply": "2025-03-05T02:11:43.770212Z"
    },
    "papermill": {
     "duration": 78.796086,
     "end_time": "2025-03-05T02:11:43.777927",
     "exception": false,
     "start_time": "2025-03-05T02:10:24.981841",
     "status": "completed"
    },
    "tags": []
   },
   "outputs": [
    {
     "name": "stdout",
     "output_type": "stream",
     "text": [
      "0.6544805031662606\n"
     ]
    }
   ],
   "source": [
    "mrr_validation_average = evaluate_mrr_average(lora_model_average, data_loader, cosine_distance)\n",
    "print(mrr_validation_average)"
   ]
  },
  {
   "cell_type": "code",
   "execution_count": null,
   "id": "966c23c7-dc92-49e8-bb1f-1520c0ccd13b",
   "metadata": {
    "papermill": {
     "duration": 0.004331,
     "end_time": "2025-03-05T02:11:43.786678",
     "exception": false,
     "start_time": "2025-03-05T02:11:43.782347",
     "status": "completed"
    },
    "tags": []
   },
   "outputs": [],
   "source": []
  },
  {
   "cell_type": "code",
   "execution_count": 25,
   "id": "af58281c-1786-4bda-9eec-0fa0f127d140",
   "metadata": {
    "execution": {
     "iopub.execute_input": "2025-03-05T02:11:43.796273Z",
     "iopub.status.busy": "2025-03-05T02:11:43.796060Z",
     "iopub.status.idle": "2025-03-05T02:11:45.590191Z",
     "shell.execute_reply": "2025-03-05T02:11:45.589132Z"
    },
    "papermill": {
     "duration": 1.800246,
     "end_time": "2025-03-05T02:11:45.591239",
     "exception": false,
     "start_time": "2025-03-05T02:11:43.790993",
     "status": "completed"
    },
    "tags": []
   },
   "outputs": [
    {
     "name": "stderr",
     "output_type": "stream",
     "text": [
      "/tmp/ipykernel_1305342/2502257612.py:2: FutureWarning: You are using `torch.load` with `weights_only=False` (the current default value), which uses the default pickle module implicitly. It is possible to construct malicious pickle data which will execute arbitrary code during unpickling (See https://github.com/pytorch/pytorch/blob/main/SECURITY.md#untrusted-models for more details). In a future release, the default value for `weights_only` will be flipped to `True`. This limits the functions that could be executed during unpickling. Arbitrary objects will no longer be allowed to be loaded via this mode unless they are explicitly allowlisted by the user via `torch.serialization.add_safe_globals`. We recommend you start setting `weights_only=True` for any use case where you don't have full control of the loaded file. Please open an issue on GitHub for any issues related to this experimental feature.\n",
      "  lora_model_hyperbolic = torch.load(file_path_hyperbolic)\n"
     ]
    }
   ],
   "source": [
    "file_path_hyperbolic=\"/dss/dsshome1/07/ra65bex2/srawat/contrastive_learning/v1.1/0.1hyperbolic/hyperbolic_lora_checkpoint_epoch_3.pth\"\n",
    "lora_model_hyperbolic = torch.load(file_path_hyperbolic)\n",
    "lora_model_hyperbolic = lora_model_hyperbolic.to(device)"
   ]
  },
  {
   "cell_type": "code",
   "execution_count": 26,
   "id": "d6f9507b-01e9-49d0-8327-760677bfcf0b",
   "metadata": {
    "execution": {
     "iopub.execute_input": "2025-03-05T02:11:45.604643Z",
     "iopub.status.busy": "2025-03-05T02:11:45.603796Z",
     "iopub.status.idle": "2025-03-05T02:11:45.608272Z",
     "shell.execute_reply": "2025-03-05T02:11:45.607505Z"
    },
    "papermill": {
     "duration": 0.010684,
     "end_time": "2025-03-05T02:11:45.608953",
     "exception": false,
     "start_time": "2025-03-05T02:11:45.598269",
     "status": "completed"
    },
    "tags": []
   },
   "outputs": [],
   "source": [
    "def lorentzian_distance(x, y):\n",
    "    \n",
    "    dot_product = torch.sum(x * y, dim=-1)\n",
    "    norm_x = torch.norm(x, dim=-1)\n",
    "    norm_y = torch.norm(y, dim=-1)\n",
    "    \n",
    "    distance = torch.acosh(-dot_product + torch.sqrt((1 + norm_x**2) * (1 + norm_y**2)))\n",
    "    return distance"
   ]
  },
  {
   "cell_type": "code",
   "execution_count": 27,
   "id": "de4ecc53-8b64-4fee-bfbf-d3b85d441d1f",
   "metadata": {
    "execution": {
     "iopub.execute_input": "2025-03-05T02:11:45.619190Z",
     "iopub.status.busy": "2025-03-05T02:11:45.619045Z",
     "iopub.status.idle": "2025-03-05T02:11:45.628146Z",
     "shell.execute_reply": "2025-03-05T02:11:45.627580Z"
    },
    "papermill": {
     "duration": 0.015939,
     "end_time": "2025-03-05T02:11:45.629713",
     "exception": false,
     "start_time": "2025-03-05T02:11:45.613774",
     "status": "completed"
    },
    "tags": []
   },
   "outputs": [],
   "source": [
    "def expm_o(v, c=1.0):\n",
    "    c = torch.tensor(c)\n",
    "    vspace = v\n",
    "    vnorm = torch.norm(v, p=2, dim=-1, keepdim=True)\n",
    "    xspace = torch.sinh(torch.sqrt(c) * vnorm) * vspace / (torch.sqrt(c) * vnorm)\n",
    "    batch_min = xspace.min(dim=1, keepdim=True).values\n",
    "    batch_max = xspace.max(dim=1, keepdim=True).values\n",
    "    xspace_scaled=(xspace - batch_min) / (batch_max - batch_min)\n",
    "    return xspace_scaled"
   ]
  },
  {
   "cell_type": "code",
   "execution_count": 28,
   "id": "c6639968-6b1d-4601-a69f-6e83b9863ab6",
   "metadata": {
    "execution": {
     "iopub.execute_input": "2025-03-05T02:11:45.640194Z",
     "iopub.status.busy": "2025-03-05T02:11:45.640062Z",
     "iopub.status.idle": "2025-03-05T02:11:45.647304Z",
     "shell.execute_reply": "2025-03-05T02:11:45.646787Z"
    },
    "papermill": {
     "duration": 0.013869,
     "end_time": "2025-03-05T02:11:45.648541",
     "exception": false,
     "start_time": "2025-03-05T02:11:45.634672",
     "status": "completed"
    },
    "tags": []
   },
   "outputs": [],
   "source": [
    "def evaluate_mrr_hyperbolic(model1, data_loader_val, distance_fn):\n",
    "    model1.eval()\n",
    "    \n",
    "    total_rr = 0.0\n",
    "    num_queries = 0\n",
    "\n",
    "    with torch.no_grad():\n",
    "        for batch in data_loader_val:\n",
    "            anchor_text = batch[0]\n",
    "            positive_text = batch[1]\n",
    "            negative_texts = batch[2]\n",
    "\n",
    "            anchor_input = tokenizer(anchor_text, return_tensors='pt', padding=True, truncation=True, max_length=512).to(device)\n",
    "            positive_input = tokenizer(positive_text, return_tensors='pt', padding=True, truncation=True, max_length=512).to(device)\n",
    "\n",
    "            anchor_embedding = expm_o(model1(**anchor_input).last_hidden_state[:, 0, :])\n",
    "            positive_embedding = expm_o(model1(**positive_input).last_hidden_state[:, 0, :])\n",
    "            negative_embedding = [expm_o(model1(**tokenizer(neg, return_tensors='pt', padding=True, truncation=True, max_length=512).to(device)).last_hidden_state[:, 0, :]) for neg in negative_texts]\n",
    "\n",
    "            pos_dist = distance_fn(anchor_embedding, positive_embedding)\n",
    "            neg_dist = torch.stack([distance_fn(anchor_embedding, neg) for neg in negative_embedding], dim=-1)\n",
    "            all_similarities=torch.cat([-pos_dist.unsqueeze(1), -neg_dist], dim=1)\n",
    "\n",
    "            sorted_similarities, sorted_indices = torch.sort(all_similarities, dim=1, descending=True)\n",
    "\n",
    "            # Find the rank of the first relevant (positive) document\n",
    "            positive_rank = (sorted_indices == 0).nonzero(as_tuple=True)[1] + 1  # +1 to make rank 1-based\n",
    "            total_rr += torch.sum(1.0 / positive_rank.float()).item()  # Reciprocal rank\n",
    "            num_queries += len(positive_rank)\n",
    "            \n",
    "    mrr = total_rr / num_queries\n",
    "    return mrr"
   ]
  },
  {
   "cell_type": "code",
   "execution_count": 29,
   "id": "9c54c77e-2dde-4c88-9eaf-439a409e845e",
   "metadata": {
    "execution": {
     "iopub.execute_input": "2025-03-05T02:11:45.658900Z",
     "iopub.status.busy": "2025-03-05T02:11:45.658749Z",
     "iopub.status.idle": "2025-03-05T02:13:04.393592Z",
     "shell.execute_reply": "2025-03-05T02:13:04.392922Z"
    },
    "papermill": {
     "duration": 78.746848,
     "end_time": "2025-03-05T02:13:04.400300",
     "exception": false,
     "start_time": "2025-03-05T02:11:45.653452",
     "status": "completed"
    },
    "tags": []
   },
   "outputs": [
    {
     "name": "stdout",
     "output_type": "stream",
     "text": [
      "0.5039156135236402\n"
     ]
    }
   ],
   "source": [
    "mrr_validation_hyperbolic = evaluate_mrr_hyperbolic(model1=lora_model_hyperbolic, data_loader_val=data_loader,distance_fn=lorentzian_distance)\n",
    "print(mrr_validation_hyperbolic)"
   ]
  },
  {
   "cell_type": "code",
   "execution_count": null,
   "id": "3e097240-0b21-4a85-8959-2c74522b15a8",
   "metadata": {
    "papermill": {
     "duration": 0.004874,
     "end_time": "2025-03-05T02:13:04.410019",
     "exception": false,
     "start_time": "2025-03-05T02:13:04.405145",
     "status": "completed"
    },
    "tags": []
   },
   "outputs": [],
   "source": []
  },
  {
   "cell_type": "code",
   "execution_count": 30,
   "id": "d883371b-b6e4-40de-b212-93ed5fcb6061",
   "metadata": {
    "execution": {
     "iopub.execute_input": "2025-03-05T02:13:04.420156Z",
     "iopub.status.busy": "2025-03-05T02:13:04.419997Z",
     "iopub.status.idle": "2025-03-05T02:13:04.426804Z",
     "shell.execute_reply": "2025-03-05T02:13:04.426387Z"
    },
    "papermill": {
     "duration": 0.012745,
     "end_time": "2025-03-05T02:13:04.427478",
     "exception": false,
     "start_time": "2025-03-05T02:13:04.414733",
     "status": "completed"
    },
    "tags": []
   },
   "outputs": [
    {
     "name": "stdout",
     "output_type": "stream",
     "text": [
      "Median Query Length: 9.0\n"
     ]
    }
   ],
   "source": [
    "import statistics\n",
    "print(\"Median Query Length:\", statistics.median(query_lengths))"
   ]
  },
  {
   "cell_type": "code",
   "execution_count": 31,
   "id": "4b02b505-a8f9-480d-959e-effcbc2ed3a2",
   "metadata": {
    "execution": {
     "iopub.execute_input": "2025-03-05T02:13:04.437617Z",
     "iopub.status.busy": "2025-03-05T02:13:04.437199Z",
     "iopub.status.idle": "2025-03-05T02:13:04.443860Z",
     "shell.execute_reply": "2025-03-05T02:13:04.443462Z"
    },
    "papermill": {
     "duration": 0.012252,
     "end_time": "2025-03-05T02:13:04.444421",
     "exception": false,
     "start_time": "2025-03-05T02:13:04.432169",
     "status": "completed"
    },
    "tags": []
   },
   "outputs": [
    {
     "data": {
      "text/plain": [
       "0.5849411075941243"
      ]
     },
     "execution_count": 31,
     "metadata": {},
     "output_type": "execute_result"
    }
   ],
   "source": [
    "mrr_validation_baseline"
   ]
  },
  {
   "cell_type": "code",
   "execution_count": 32,
   "id": "5c10dccb-fbc7-448b-b3d9-4d7e045dafd3",
   "metadata": {
    "execution": {
     "iopub.execute_input": "2025-03-05T02:13:04.455301Z",
     "iopub.status.busy": "2025-03-05T02:13:04.454774Z",
     "iopub.status.idle": "2025-03-05T02:13:04.460877Z",
     "shell.execute_reply": "2025-03-05T02:13:04.460490Z"
    },
    "papermill": {
     "duration": 0.011859,
     "end_time": "2025-03-05T02:13:04.461428",
     "exception": false,
     "start_time": "2025-03-05T02:13:04.449569",
     "status": "completed"
    },
    "tags": []
   },
   "outputs": [
    {
     "data": {
      "text/plain": [
       "0.6544805031662606"
      ]
     },
     "execution_count": 32,
     "metadata": {},
     "output_type": "execute_result"
    }
   ],
   "source": [
    "mrr_validation_average"
   ]
  },
  {
   "cell_type": "code",
   "execution_count": 33,
   "id": "b9c22c87-c20f-4a86-a8d3-d941340ea726",
   "metadata": {
    "execution": {
     "iopub.execute_input": "2025-03-05T02:13:04.471718Z",
     "iopub.status.busy": "2025-03-05T02:13:04.471579Z",
     "iopub.status.idle": "2025-03-05T02:13:04.478577Z",
     "shell.execute_reply": "2025-03-05T02:13:04.478196Z"
    },
    "papermill": {
     "duration": 0.012672,
     "end_time": "2025-03-05T02:13:04.479125",
     "exception": false,
     "start_time": "2025-03-05T02:13:04.466453",
     "status": "completed"
    },
    "tags": []
   },
   "outputs": [
    {
     "data": {
      "text/plain": [
       "0.5039156135236402"
      ]
     },
     "execution_count": 33,
     "metadata": {},
     "output_type": "execute_result"
    }
   ],
   "source": [
    "mrr_validation_hyperbolic"
   ]
  }
 ],
 "metadata": {
  "kernelspec": {
   "display_name": "Python (myenv)",
   "language": "python",
   "name": "myenv"
  },
  "language_info": {
   "codemirror_mode": {
    "name": "ipython",
    "version": 3
   },
   "file_extension": ".py",
   "mimetype": "text/x-python",
   "name": "python",
   "nbconvert_exporter": "python",
   "pygments_lexer": "ipython3",
   "version": "3.12.7"
  },
  "papermill": {
   "default_parameters": {},
   "duration": 3289.934408,
   "end_time": "2025-03-05T02:13:07.600143",
   "environment_variables": {},
   "exception": null,
   "input_path": "NQ.ipynb",
   "output_path": "NQ_output.ipynb",
   "parameters": {},
   "start_time": "2025-03-05T01:18:17.665735",
   "version": "2.6.0"
  },
  "widgets": {
   "application/vnd.jupyter.widget-state+json": {
    "state": {
     "0084f7e50abc45c59618b9661ef2a54f": {
      "model_module": "@jupyter-widgets/base",
      "model_module_version": "2.0.0",
      "model_name": "LayoutModel",
      "state": {
       "_model_module": "@jupyter-widgets/base",
       "_model_module_version": "2.0.0",
       "_model_name": "LayoutModel",
       "_view_count": null,
       "_view_module": "@jupyter-widgets/base",
       "_view_module_version": "2.0.0",
       "_view_name": "LayoutView",
       "align_content": null,
       "align_items": null,
       "align_self": null,
       "border_bottom": null,
       "border_left": null,
       "border_right": null,
       "border_top": null,
       "bottom": null,
       "display": null,
       "flex": null,
       "flex_flow": null,
       "grid_area": null,
       "grid_auto_columns": null,
       "grid_auto_flow": null,
       "grid_auto_rows": null,
       "grid_column": null,
       "grid_gap": null,
       "grid_row": null,
       "grid_template_areas": null,
       "grid_template_columns": null,
       "grid_template_rows": null,
       "height": null,
       "justify_content": null,
       "justify_items": null,
       "left": null,
       "margin": null,
       "max_height": null,
       "max_width": null,
       "min_height": null,
       "min_width": null,
       "object_fit": null,
       "object_position": null,
       "order": null,
       "overflow": null,
       "padding": null,
       "right": null,
       "top": null,
       "visibility": null,
       "width": null
      }
     },
     "16aea463c0824798957d26f3aa8631a4": {
      "model_module": "@jupyter-widgets/base",
      "model_module_version": "2.0.0",
      "model_name": "LayoutModel",
      "state": {
       "_model_module": "@jupyter-widgets/base",
       "_model_module_version": "2.0.0",
       "_model_name": "LayoutModel",
       "_view_count": null,
       "_view_module": "@jupyter-widgets/base",
       "_view_module_version": "2.0.0",
       "_view_name": "LayoutView",
       "align_content": null,
       "align_items": null,
       "align_self": null,
       "border_bottom": null,
       "border_left": null,
       "border_right": null,
       "border_top": null,
       "bottom": null,
       "display": null,
       "flex": null,
       "flex_flow": null,
       "grid_area": null,
       "grid_auto_columns": null,
       "grid_auto_flow": null,
       "grid_auto_rows": null,
       "grid_column": null,
       "grid_gap": null,
       "grid_row": null,
       "grid_template_areas": null,
       "grid_template_columns": null,
       "grid_template_rows": null,
       "height": null,
       "justify_content": null,
       "justify_items": null,
       "left": null,
       "margin": null,
       "max_height": null,
       "max_width": null,
       "min_height": null,
       "min_width": null,
       "object_fit": null,
       "object_position": null,
       "order": null,
       "overflow": null,
       "padding": null,
       "right": null,
       "top": null,
       "visibility": null,
       "width": null
      }
     },
     "1892f9ad27bb4edbb2699590a9d38b67": {
      "model_module": "@jupyter-widgets/base",
      "model_module_version": "2.0.0",
      "model_name": "LayoutModel",
      "state": {
       "_model_module": "@jupyter-widgets/base",
       "_model_module_version": "2.0.0",
       "_model_name": "LayoutModel",
       "_view_count": null,
       "_view_module": "@jupyter-widgets/base",
       "_view_module_version": "2.0.0",
       "_view_name": "LayoutView",
       "align_content": null,
       "align_items": null,
       "align_self": null,
       "border_bottom": null,
       "border_left": null,
       "border_right": null,
       "border_top": null,
       "bottom": null,
       "display": null,
       "flex": null,
       "flex_flow": null,
       "grid_area": null,
       "grid_auto_columns": null,
       "grid_auto_flow": null,
       "grid_auto_rows": null,
       "grid_column": null,
       "grid_gap": null,
       "grid_row": null,
       "grid_template_areas": null,
       "grid_template_columns": null,
       "grid_template_rows": null,
       "height": null,
       "justify_content": null,
       "justify_items": null,
       "left": null,
       "margin": null,
       "max_height": null,
       "max_width": null,
       "min_height": null,
       "min_width": null,
       "object_fit": null,
       "object_position": null,
       "order": null,
       "overflow": null,
       "padding": null,
       "right": null,
       "top": null,
       "visibility": null,
       "width": null
      }
     },
     "2f3fe34e66ee43eea7040e8880aa9ed5": {
      "model_module": "@jupyter-widgets/controls",
      "model_module_version": "2.0.0",
      "model_name": "HTMLModel",
      "state": {
       "_dom_classes": [],
       "_model_module": "@jupyter-widgets/controls",
       "_model_module_version": "2.0.0",
       "_model_name": "HTMLModel",
       "_view_count": null,
       "_view_module": "@jupyter-widgets/controls",
       "_view_module_version": "2.0.0",
       "_view_name": "HTMLView",
       "description": "",
       "description_allow_html": false,
       "layout": "IPY_MODEL_1892f9ad27bb4edbb2699590a9d38b67",
       "placeholder": "​",
       "style": "IPY_MODEL_55071b9eb9514de38b46640bf2e56111",
       "tabbable": null,
       "tooltip": null,
       "value": "100%"
      }
     },
     "305241aea2b14c5e92a2b44e48a79f4d": {
      "model_module": "@jupyter-widgets/controls",
      "model_module_version": "2.0.0",
      "model_name": "HTMLModel",
      "state": {
       "_dom_classes": [],
       "_model_module": "@jupyter-widgets/controls",
       "_model_module_version": "2.0.0",
       "_model_name": "HTMLModel",
       "_view_count": null,
       "_view_module": "@jupyter-widgets/controls",
       "_view_module_version": "2.0.0",
       "_view_name": "HTMLView",
       "description": "",
       "description_allow_html": false,
       "layout": "IPY_MODEL_d3f15391424f496da5d19968eece8b9e",
       "placeholder": "​",
       "style": "IPY_MODEL_d9143f0e26fa47069c7562da730c5e36",
       "tabbable": null,
       "tooltip": null,
       "value": " 2681468/2681468 [00:12&lt;00:00, 214528.15it/s]"
      }
     },
     "55071b9eb9514de38b46640bf2e56111": {
      "model_module": "@jupyter-widgets/controls",
      "model_module_version": "2.0.0",
      "model_name": "HTMLStyleModel",
      "state": {
       "_model_module": "@jupyter-widgets/controls",
       "_model_module_version": "2.0.0",
       "_model_name": "HTMLStyleModel",
       "_view_count": null,
       "_view_module": "@jupyter-widgets/base",
       "_view_module_version": "2.0.0",
       "_view_name": "StyleView",
       "background": null,
       "description_width": "",
       "font_size": null,
       "text_color": null
      }
     },
     "709187b912d94ac2891dd133c1ffdb34": {
      "model_module": "@jupyter-widgets/controls",
      "model_module_version": "2.0.0",
      "model_name": "HBoxModel",
      "state": {
       "_dom_classes": [],
       "_model_module": "@jupyter-widgets/controls",
       "_model_module_version": "2.0.0",
       "_model_name": "HBoxModel",
       "_view_count": null,
       "_view_module": "@jupyter-widgets/controls",
       "_view_module_version": "2.0.0",
       "_view_name": "HBoxView",
       "box_style": "",
       "children": [
        "IPY_MODEL_2f3fe34e66ee43eea7040e8880aa9ed5",
        "IPY_MODEL_7a94e642a82346e1a1522ac6ef77686c",
        "IPY_MODEL_305241aea2b14c5e92a2b44e48a79f4d"
       ],
       "layout": "IPY_MODEL_16aea463c0824798957d26f3aa8631a4",
       "tabbable": null,
       "tooltip": null
      }
     },
     "7a94e642a82346e1a1522ac6ef77686c": {
      "model_module": "@jupyter-widgets/controls",
      "model_module_version": "2.0.0",
      "model_name": "FloatProgressModel",
      "state": {
       "_dom_classes": [],
       "_model_module": "@jupyter-widgets/controls",
       "_model_module_version": "2.0.0",
       "_model_name": "FloatProgressModel",
       "_view_count": null,
       "_view_module": "@jupyter-widgets/controls",
       "_view_module_version": "2.0.0",
       "_view_name": "ProgressView",
       "bar_style": "success",
       "description": "",
       "description_allow_html": false,
       "layout": "IPY_MODEL_0084f7e50abc45c59618b9661ef2a54f",
       "max": 2681468.0,
       "min": 0.0,
       "orientation": "horizontal",
       "style": "IPY_MODEL_ebe3831304e54b7488941f295a6dae10",
       "tabbable": null,
       "tooltip": null,
       "value": 2681468.0
      }
     },
     "d3f15391424f496da5d19968eece8b9e": {
      "model_module": "@jupyter-widgets/base",
      "model_module_version": "2.0.0",
      "model_name": "LayoutModel",
      "state": {
       "_model_module": "@jupyter-widgets/base",
       "_model_module_version": "2.0.0",
       "_model_name": "LayoutModel",
       "_view_count": null,
       "_view_module": "@jupyter-widgets/base",
       "_view_module_version": "2.0.0",
       "_view_name": "LayoutView",
       "align_content": null,
       "align_items": null,
       "align_self": null,
       "border_bottom": null,
       "border_left": null,
       "border_right": null,
       "border_top": null,
       "bottom": null,
       "display": null,
       "flex": null,
       "flex_flow": null,
       "grid_area": null,
       "grid_auto_columns": null,
       "grid_auto_flow": null,
       "grid_auto_rows": null,
       "grid_column": null,
       "grid_gap": null,
       "grid_row": null,
       "grid_template_areas": null,
       "grid_template_columns": null,
       "grid_template_rows": null,
       "height": null,
       "justify_content": null,
       "justify_items": null,
       "left": null,
       "margin": null,
       "max_height": null,
       "max_width": null,
       "min_height": null,
       "min_width": null,
       "object_fit": null,
       "object_position": null,
       "order": null,
       "overflow": null,
       "padding": null,
       "right": null,
       "top": null,
       "visibility": null,
       "width": null
      }
     },
     "d9143f0e26fa47069c7562da730c5e36": {
      "model_module": "@jupyter-widgets/controls",
      "model_module_version": "2.0.0",
      "model_name": "HTMLStyleModel",
      "state": {
       "_model_module": "@jupyter-widgets/controls",
       "_model_module_version": "2.0.0",
       "_model_name": "HTMLStyleModel",
       "_view_count": null,
       "_view_module": "@jupyter-widgets/base",
       "_view_module_version": "2.0.0",
       "_view_name": "StyleView",
       "background": null,
       "description_width": "",
       "font_size": null,
       "text_color": null
      }
     },
     "ebe3831304e54b7488941f295a6dae10": {
      "model_module": "@jupyter-widgets/controls",
      "model_module_version": "2.0.0",
      "model_name": "ProgressStyleModel",
      "state": {
       "_model_module": "@jupyter-widgets/controls",
       "_model_module_version": "2.0.0",
       "_model_name": "ProgressStyleModel",
       "_view_count": null,
       "_view_module": "@jupyter-widgets/base",
       "_view_module_version": "2.0.0",
       "_view_name": "StyleView",
       "bar_color": null,
       "description_width": ""
      }
     }
    },
    "version_major": 2,
    "version_minor": 0
   }
  }
 },
 "nbformat": 4,
 "nbformat_minor": 5
}