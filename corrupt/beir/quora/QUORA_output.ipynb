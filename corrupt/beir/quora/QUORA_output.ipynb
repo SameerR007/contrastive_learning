{
 "cells": [
  {
   "cell_type": "code",
   "execution_count": 1,
   "id": "f6d4b65f-fa6b-4517-8694-8627bc49833b",
   "metadata": {
    "execution": {
     "iopub.execute_input": "2025-03-05T01:13:18.962146Z",
     "iopub.status.busy": "2025-03-05T01:13:18.961458Z",
     "iopub.status.idle": "2025-03-05T01:13:19.048154Z",
     "shell.execute_reply": "2025-03-05T01:13:19.047659Z"
    },
    "papermill": {
     "duration": 0.091858,
     "end_time": "2025-03-05T01:13:19.048951",
     "exception": false,
     "start_time": "2025-03-05T01:13:18.957093",
     "status": "completed"
    },
    "tags": []
   },
   "outputs": [
    {
     "name": "stderr",
     "output_type": "stream",
     "text": [
      "/dss/dsshome1/07/ra65bex2/srawat/myenv/lib/python3.12/site-packages/beir/datasets/data_loader.py:8: TqdmExperimentalWarning: Using `tqdm.autonotebook.tqdm` in notebook mode. Use `tqdm.tqdm` instead to force console mode (e.g. in jupyter console)\n",
      "  from tqdm.autonotebook import tqdm\n"
     ]
    }
   ],
   "source": [
    "from beir.datasets.data_loader import GenericDataLoader"
   ]
  },
  {
   "cell_type": "code",
   "execution_count": 2,
   "id": "36dd4470-def0-46f6-b63c-3630c3ca673d",
   "metadata": {
    "execution": {
     "iopub.execute_input": "2025-03-05T01:13:19.057196Z",
     "iopub.status.busy": "2025-03-05T01:13:19.056721Z",
     "iopub.status.idle": "2025-03-05T01:13:19.059369Z",
     "shell.execute_reply": "2025-03-05T01:13:19.058982Z"
    },
    "papermill": {
     "duration": 0.007269,
     "end_time": "2025-03-05T01:13:19.060087",
     "exception": false,
     "start_time": "2025-03-05T01:13:19.052818",
     "status": "completed"
    },
    "tags": []
   },
   "outputs": [],
   "source": [
    "data_path = '/dss/dsshome1/07/ra65bex2/srawat/quora/quora'"
   ]
  },
  {
   "cell_type": "code",
   "execution_count": 3,
   "id": "41e17333-2c34-4b7b-91f6-3cbd3972f0d6",
   "metadata": {
    "execution": {
     "iopub.execute_input": "2025-03-05T01:13:19.068522Z",
     "iopub.status.busy": "2025-03-05T01:13:19.068171Z",
     "iopub.status.idle": "2025-03-05T01:13:20.778025Z",
     "shell.execute_reply": "2025-03-05T01:13:20.777587Z"
    },
    "papermill": {
     "duration": 1.715299,
     "end_time": "2025-03-05T01:13:20.778796",
     "exception": false,
     "start_time": "2025-03-05T01:13:19.063497",
     "status": "completed"
    },
    "tags": []
   },
   "outputs": [
    {
     "data": {
      "application/vnd.jupyter.widget-view+json": {
       "model_id": "ba754c35e9ea44e8b3130e765e3d186d",
       "version_major": 2,
       "version_minor": 0
      },
      "text/plain": [
       "  0%|          | 0/522931 [00:00<?, ?it/s]"
      ]
     },
     "metadata": {},
     "output_type": "display_data"
    }
   ],
   "source": [
    "corpus, queries, qrels = GenericDataLoader(data_path).load(split=\"test\")"
   ]
  },
  {
   "cell_type": "code",
   "execution_count": 4,
   "id": "1d653c60-435a-4e10-8506-6ef5d01f8675",
   "metadata": {
    "execution": {
     "iopub.execute_input": "2025-03-05T01:13:20.787178Z",
     "iopub.status.busy": "2025-03-05T01:13:20.786996Z",
     "iopub.status.idle": "2025-03-05T01:13:23.011740Z",
     "shell.execute_reply": "2025-03-05T01:13:23.011284Z"
    },
    "papermill": {
     "duration": 2.229619,
     "end_time": "2025-03-05T01:13:23.012567",
     "exception": false,
     "start_time": "2025-03-05T01:13:20.782948",
     "status": "completed"
    },
    "tags": []
   },
   "outputs": [
    {
     "name": "stderr",
     "output_type": "stream",
     "text": [
      "[nltk_data] Downloading package stopwords to\n",
      "[nltk_data]     /dss/dsshome1/07/ra65bex2/nltk_data...\n",
      "[nltk_data]   Package stopwords is already up-to-date!\n",
      "[nltk_data] Downloading package wordnet to\n",
      "[nltk_data]     /dss/dsshome1/07/ra65bex2/nltk_data...\n",
      "[nltk_data]   Package wordnet is already up-to-date!\n"
     ]
    }
   ],
   "source": [
    "import random\n",
    "import re\n",
    "import nltk\n",
    "from nltk.corpus import stopwords, wordnet\n",
    "nltk.download('stopwords')\n",
    "nltk.download('wordnet')\n",
    "stop_words = set(stopwords.words('english'))\n",
    "def clean_text(text):\n",
    "    return re.sub(r'[^\\w\\s.!?]', '', text)\n",
    "def select_words(text, percentage):\n",
    "    words = [w for w in text.split() if w.lower() not in stop_words]\n",
    "    return random.sample(words, min(int(percentage*len(words)), len(words)))\n",
    "def introduce_typo(word):\n",
    "    if len(word) > 1:\n",
    "        idx = random.randint(0, len(word) - 1)\n",
    "        return word[:idx] + random.choice('abcdefghijklmnopqrstuvwxyz') + word[idx+1:]\n",
    "    return word\n",
    "def introduce_noise(word):\n",
    "    noise_chars = ['@', '#', '$', '%', '&', '*']\n",
    "    if len(word) > 1:\n",
    "        idx = random.randint(0, len(word) - 1)\n",
    "        return word[:idx] + random.choice(noise_chars) + word[idx+1:]\n",
    "    return word\n",
    "def replace_with_synonym(word):\n",
    "    synonyms = [syn.lemmas()[0].name() for syn in wordnet.synsets(word) if syn.lemmas()]\n",
    "    return random.choice(synonyms) if synonyms else word\n",
    "def corrupt_word(word, method):\n",
    "    if method == 'typo':\n",
    "        return introduce_typo(word)\n",
    "    elif method == 'noise':\n",
    "        return introduce_noise(word)\n",
    "    elif method == 'synonym':\n",
    "        return replace_with_synonym(word)\n",
    "    return word\n",
    "def corrupt_text(text):\n",
    "    corrupted_words = []  \n",
    "    words_to_corrupt=select_words(clean_text(text), percentage=0.5)\n",
    "    for word in clean_text(text).split():\n",
    "        if word in words_to_corrupt:\n",
    "            corruption_method = random.choice(['typo', 'noise', 'synonym'])\n",
    "            corrupted_words.append(corrupt_word(word, corruption_method))\n",
    "        else:\n",
    "            corrupted_words.append(word)\n",
    "    return ' '.join(corrupted_words)"
   ]
  },
  {
   "cell_type": "code",
   "execution_count": 5,
   "id": "a29044d5-3952-4f3d-aa43-e1efd34fcad3",
   "metadata": {
    "execution": {
     "iopub.execute_input": "2025-03-05T01:13:23.021357Z",
     "iopub.status.busy": "2025-03-05T01:13:23.021109Z",
     "iopub.status.idle": "2025-03-05T01:29:34.737546Z",
     "shell.execute_reply": "2025-03-05T01:29:34.736792Z"
    },
    "papermill": {
     "duration": 971.721887,
     "end_time": "2025-03-05T01:29:34.738754",
     "exception": false,
     "start_time": "2025-03-05T01:13:23.016867",
     "status": "completed"
    },
    "tags": []
   },
   "outputs": [],
   "source": [
    "contrastive_pairs=[]\n",
    "query_lengths = []\n",
    "import random\n",
    "c=0\n",
    "for query_id, relevant_docs in qrels.items():\n",
    "    try:\n",
    "        query_text = queries[query_id]\n",
    "        query_lengths.append(len(query_text.split()))\n",
    "        for doc_id in relevant_docs:\n",
    "            positive = corpus[doc_id][\"text\"]\n",
    "        #print(relevant_docs)\n",
    "        positive_doc_ids = set(relevant_docs)\n",
    "        all_doc_ids = set(corpus.keys())\n",
    "        negative_doc_ids = all_doc_ids - positive_doc_ids\n",
    "        negative_doc_ids=list(negative_doc_ids)\n",
    "        negative_doc_samples = random.sample(negative_doc_ids, k=5)\n",
    "        negatives=[]\n",
    "        for neg_doc_id in negative_doc_samples:\n",
    "            negative_doc_text = corpus[neg_doc_id][\"text\"]\n",
    "            negatives.append(negative_doc_text)\n",
    "        contrastive_pairs.append({\n",
    "            \"anchor\": corrupt_text(query_text),\n",
    "            \"positive\": positive,\n",
    "            \"negatives\": negatives\n",
    "        })\n",
    "    except:\n",
    "        c=c+1"
   ]
  },
  {
   "cell_type": "code",
   "execution_count": 6,
   "id": "49721946-fff3-4690-bd92-d981cecdf62b",
   "metadata": {
    "execution": {
     "iopub.execute_input": "2025-03-05T01:29:34.759854Z",
     "iopub.status.busy": "2025-03-05T01:29:34.759682Z",
     "iopub.status.idle": "2025-03-05T01:29:34.763980Z",
     "shell.execute_reply": "2025-03-05T01:29:34.763598Z"
    },
    "papermill": {
     "duration": 0.009335,
     "end_time": "2025-03-05T01:29:34.764649",
     "exception": false,
     "start_time": "2025-03-05T01:29:34.755314",
     "status": "completed"
    },
    "tags": []
   },
   "outputs": [
    {
     "data": {
      "text/plain": [
       "0"
      ]
     },
     "execution_count": 6,
     "metadata": {},
     "output_type": "execute_result"
    }
   ],
   "source": [
    "c"
   ]
  },
  {
   "cell_type": "code",
   "execution_count": 7,
   "id": "de8ef367-dcb4-4bb6-af3a-20f190930ed1",
   "metadata": {
    "execution": {
     "iopub.execute_input": "2025-03-05T01:29:34.772723Z",
     "iopub.status.busy": "2025-03-05T01:29:34.772302Z",
     "iopub.status.idle": "2025-03-05T01:29:34.806587Z",
     "shell.execute_reply": "2025-03-05T01:29:34.806166Z"
    },
    "papermill": {
     "duration": 0.039011,
     "end_time": "2025-03-05T01:29:34.807245",
     "exception": false,
     "start_time": "2025-03-05T01:29:34.768234",
     "status": "completed"
    },
    "tags": []
   },
   "outputs": [
    {
     "data": {
      "text/plain": [
       "10000"
      ]
     },
     "execution_count": 7,
     "metadata": {},
     "output_type": "execute_result"
    }
   ],
   "source": [
    "len(contrastive_pairs)"
   ]
  },
  {
   "cell_type": "code",
   "execution_count": 8,
   "id": "8a2ccada-419a-4f79-ad4d-b605780281a3",
   "metadata": {
    "execution": {
     "iopub.execute_input": "2025-03-05T01:29:34.815396Z",
     "iopub.status.busy": "2025-03-05T01:29:34.814976Z",
     "iopub.status.idle": "2025-03-05T01:29:34.822655Z",
     "shell.execute_reply": "2025-03-05T01:29:34.822247Z"
    },
    "papermill": {
     "duration": 0.012559,
     "end_time": "2025-03-05T01:29:34.823417",
     "exception": false,
     "start_time": "2025-03-05T01:29:34.810858",
     "status": "completed"
    },
    "tags": []
   },
   "outputs": [
    {
     "data": {
      "text/plain": [
       "[{'anchor': 'Which question should I ask on Quora?',\n",
       "  'positive': \"What's the best question to ask in Quora?\",\n",
       "  'negatives': ['Why is it so good to work for Southwest Airlines?',\n",
       "   'Can I travel internationally if I have a class A misdemeanor for drug paraphernalia on school grounds?',\n",
       "   'Is social media analytics dead?',\n",
       "   'Which is the greatest graphics game?',\n",
       "   'Is it possible to build a good Skylake(i5 6600k) Gaming PC with 8GB DDR4 RAM & a decent GPU for around Rs. 70000 or at max 80k?']},\n",
       " {'anchor': 'What causes a nigctmare?',\n",
       "  'positive': 'What causes nightmares that seem real?',\n",
       "  'negatives': ['Do BITSians get the same respect in society as IiTians?',\n",
       "   'What happens during land breeze and sea breeze?',\n",
       "   'Did anyone ever try to engineer a new species of organism from an existing species in a laboratory applying controlled natural selection pressure? If so, what is the new species called? Did they get the Nobel Prize for it?',\n",
       "   'What are wholesale shares?',\n",
       "   'How many marks required in gate out of 100 to get in IIT Bombay for ECE?']}]"
      ]
     },
     "execution_count": 8,
     "metadata": {},
     "output_type": "execute_result"
    }
   ],
   "source": [
    "contrastive_pairs[0:2]"
   ]
  },
  {
   "cell_type": "code",
   "execution_count": 9,
   "id": "8ade92f9-e3df-4d0a-b849-b1a721e18cf6",
   "metadata": {
    "execution": {
     "iopub.execute_input": "2025-03-05T01:29:34.831769Z",
     "iopub.status.busy": "2025-03-05T01:29:34.831142Z",
     "iopub.status.idle": "2025-03-05T01:29:34.838755Z",
     "shell.execute_reply": "2025-03-05T01:29:34.838444Z"
    },
    "papermill": {
     "duration": 0.012303,
     "end_time": "2025-03-05T01:29:34.839400",
     "exception": false,
     "start_time": "2025-03-05T01:29:34.827097",
     "status": "completed"
    },
    "tags": []
   },
   "outputs": [
    {
     "data": {
      "text/plain": [
       "10000"
      ]
     },
     "execution_count": 9,
     "metadata": {},
     "output_type": "execute_result"
    }
   ],
   "source": [
    "len(qrels)"
   ]
  },
  {
   "cell_type": "code",
   "execution_count": 10,
   "id": "6b97f7b4-f007-41f6-bfbb-1b9b01665e9d",
   "metadata": {
    "execution": {
     "iopub.execute_input": "2025-03-05T01:29:34.847799Z",
     "iopub.status.busy": "2025-03-05T01:29:34.847655Z",
     "iopub.status.idle": "2025-03-05T01:29:38.614049Z",
     "shell.execute_reply": "2025-03-05T01:29:38.613512Z"
    },
    "papermill": {
     "duration": 3.772717,
     "end_time": "2025-03-05T01:29:38.615968",
     "exception": false,
     "start_time": "2025-03-05T01:29:34.843251",
     "status": "completed"
    },
    "tags": []
   },
   "outputs": [],
   "source": [
    "from torch.utils.data import DataLoader"
   ]
  },
  {
   "cell_type": "code",
   "execution_count": 11,
   "id": "a415b29a-a543-4679-8f78-44f715b3067d",
   "metadata": {
    "execution": {
     "iopub.execute_input": "2025-03-05T01:29:38.627310Z",
     "iopub.status.busy": "2025-03-05T01:29:38.625615Z",
     "iopub.status.idle": "2025-03-05T01:29:38.630317Z",
     "shell.execute_reply": "2025-03-05T01:29:38.629890Z"
    },
    "papermill": {
     "duration": 0.010184,
     "end_time": "2025-03-05T01:29:38.630996",
     "exception": false,
     "start_time": "2025-03-05T01:29:38.620812",
     "status": "completed"
    },
    "tags": []
   },
   "outputs": [],
   "source": [
    "class ContrastiveDataset:\n",
    "    def __init__(self, pairs):\n",
    "        self.pairs = pairs\n",
    "\n",
    "    def __len__(self):\n",
    "        return len(self.pairs)\n",
    "\n",
    "    def __getitem__(self, idx):\n",
    "        item = self.pairs[idx]\n",
    "        return item[\"anchor\"], item[\"positive\"], item[\"negatives\"]"
   ]
  },
  {
   "cell_type": "code",
   "execution_count": 12,
   "id": "a39efeab-fd20-411a-80c5-315f362e00d2",
   "metadata": {
    "execution": {
     "iopub.execute_input": "2025-03-05T01:29:38.641233Z",
     "iopub.status.busy": "2025-03-05T01:29:38.640954Z",
     "iopub.status.idle": "2025-03-05T01:29:38.666587Z",
     "shell.execute_reply": "2025-03-05T01:29:38.665414Z"
    },
    "papermill": {
     "duration": 0.031373,
     "end_time": "2025-03-05T01:29:38.667560",
     "exception": false,
     "start_time": "2025-03-05T01:29:38.636187",
     "status": "completed"
    },
    "tags": []
   },
   "outputs": [],
   "source": [
    "contrastive_dataset = ContrastiveDataset(contrastive_pairs)"
   ]
  },
  {
   "cell_type": "code",
   "execution_count": 13,
   "id": "d103bbfa-895a-4020-a7e5-21de659f27dc",
   "metadata": {
    "execution": {
     "iopub.execute_input": "2025-03-05T01:29:38.676635Z",
     "iopub.status.busy": "2025-03-05T01:29:38.676161Z",
     "iopub.status.idle": "2025-03-05T01:29:38.686853Z",
     "shell.execute_reply": "2025-03-05T01:29:38.686340Z"
    },
    "papermill": {
     "duration": 0.015913,
     "end_time": "2025-03-05T01:29:38.687593",
     "exception": false,
     "start_time": "2025-03-05T01:29:38.671680",
     "status": "completed"
    },
    "tags": []
   },
   "outputs": [],
   "source": [
    "data_loader = DataLoader(contrastive_dataset, batch_size=32, shuffle=True)"
   ]
  },
  {
   "cell_type": "code",
   "execution_count": 14,
   "id": "c8b0277f-f526-4087-82da-c4cdd65d32da",
   "metadata": {
    "execution": {
     "iopub.execute_input": "2025-03-05T01:29:38.697044Z",
     "iopub.status.busy": "2025-03-05T01:29:38.696501Z",
     "iopub.status.idle": "2025-03-05T01:29:38.707079Z",
     "shell.execute_reply": "2025-03-05T01:29:38.706688Z"
    },
    "papermill": {
     "duration": 0.01563,
     "end_time": "2025-03-05T01:29:38.707726",
     "exception": false,
     "start_time": "2025-03-05T01:29:38.692096",
     "status": "completed"
    },
    "tags": []
   },
   "outputs": [
    {
     "data": {
      "text/plain": [
       "313"
      ]
     },
     "execution_count": 14,
     "metadata": {},
     "output_type": "execute_result"
    }
   ],
   "source": [
    "len(data_loader)"
   ]
  },
  {
   "cell_type": "code",
   "execution_count": 15,
   "id": "e15526a4-b3fe-435b-91c9-ad4064562f0f",
   "metadata": {
    "execution": {
     "iopub.execute_input": "2025-03-05T01:29:38.716293Z",
     "iopub.status.busy": "2025-03-05T01:29:38.716164Z",
     "iopub.status.idle": "2025-03-05T01:29:42.572493Z",
     "shell.execute_reply": "2025-03-05T01:29:42.571907Z"
    },
    "papermill": {
     "duration": 3.861857,
     "end_time": "2025-03-05T01:29:42.573635",
     "exception": false,
     "start_time": "2025-03-05T01:29:38.711778",
     "status": "completed"
    },
    "tags": []
   },
   "outputs": [
    {
     "name": "stderr",
     "output_type": "stream",
     "text": [
      "/tmp/ipykernel_1283592/261098231.py:3: FutureWarning: You are using `torch.load` with `weights_only=False` (the current default value), which uses the default pickle module implicitly. It is possible to construct malicious pickle data which will execute arbitrary code during unpickling (See https://github.com/pytorch/pytorch/blob/main/SECURITY.md#untrusted-models for more details). In a future release, the default value for `weights_only` will be flipped to `True`. This limits the functions that could be executed during unpickling. Arbitrary objects will no longer be allowed to be loaded via this mode unless they are explicitly allowlisted by the user via `torch.serialization.add_safe_globals`. We recommend you start setting `weights_only=True` for any use case where you don't have full control of the loaded file. Please open an issue on GitHub for any issues related to this experimental feature.\n",
      "  lora_model_baseline = torch.load(file_path_baseline)\n"
     ]
    }
   ],
   "source": [
    "import torch\n",
    "file_path_baseline =\"/dss/dsshome1/07/ra65bex2/srawat/contrastive_learning/v1.1/app_baseline/checkpoint_epoch_3.pth\"\n",
    "lora_model_baseline = torch.load(file_path_baseline)"
   ]
  },
  {
   "cell_type": "code",
   "execution_count": 16,
   "id": "9999e628-5966-4dda-b5c5-c0d762fce27d",
   "metadata": {
    "execution": {
     "iopub.execute_input": "2025-03-05T01:29:42.585241Z",
     "iopub.status.busy": "2025-03-05T01:29:42.584775Z",
     "iopub.status.idle": "2025-03-05T01:29:42.590256Z",
     "shell.execute_reply": "2025-03-05T01:29:42.589888Z"
    },
    "papermill": {
     "duration": 0.010944,
     "end_time": "2025-03-05T01:29:42.591074",
     "exception": false,
     "start_time": "2025-03-05T01:29:42.580130",
     "status": "completed"
    },
    "tags": []
   },
   "outputs": [],
   "source": [
    "device = torch.device('cuda' if torch.cuda.is_available() else 'cpu')\n",
    "lora_model_baseline = lora_model_baseline.to(device)"
   ]
  },
  {
   "cell_type": "code",
   "execution_count": 17,
   "id": "7e6a3a61-8db0-43db-b575-6399f8515950",
   "metadata": {
    "execution": {
     "iopub.execute_input": "2025-03-05T01:29:42.600025Z",
     "iopub.status.busy": "2025-03-05T01:29:42.599675Z",
     "iopub.status.idle": "2025-03-05T01:29:42.834543Z",
     "shell.execute_reply": "2025-03-05T01:29:42.834088Z"
    },
    "papermill": {
     "duration": 0.240454,
     "end_time": "2025-03-05T01:29:42.835670",
     "exception": false,
     "start_time": "2025-03-05T01:29:42.595216",
     "status": "completed"
    },
    "tags": []
   },
   "outputs": [],
   "source": [
    "from transformers import AutoTokenizer, AutoModel\n",
    "tokenizer = AutoTokenizer.from_pretrained(\"bert-base-uncased\")"
   ]
  },
  {
   "cell_type": "code",
   "execution_count": 18,
   "id": "68ac4919-76f1-4349-a314-4b1061126655",
   "metadata": {
    "execution": {
     "iopub.execute_input": "2025-03-05T01:29:42.844989Z",
     "iopub.status.busy": "2025-03-05T01:29:42.844844Z",
     "iopub.status.idle": "2025-03-05T01:29:42.847544Z",
     "shell.execute_reply": "2025-03-05T01:29:42.847189Z"
    },
    "papermill": {
     "duration": 0.007972,
     "end_time": "2025-03-05T01:29:42.848260",
     "exception": false,
     "start_time": "2025-03-05T01:29:42.840288",
     "status": "completed"
    },
    "tags": []
   },
   "outputs": [],
   "source": [
    "def cosine_distance(x, y):\n",
    "    return 1 - torch.nn.functional.cosine_similarity(x, y, dim=-1)"
   ]
  },
  {
   "cell_type": "code",
   "execution_count": 19,
   "id": "990f63bd-4d48-4f58-a001-3b3250f65312",
   "metadata": {
    "execution": {
     "iopub.execute_input": "2025-03-05T01:29:42.857904Z",
     "iopub.status.busy": "2025-03-05T01:29:42.857310Z",
     "iopub.status.idle": "2025-03-05T01:29:42.871416Z",
     "shell.execute_reply": "2025-03-05T01:29:42.870998Z"
    },
    "papermill": {
     "duration": 0.019483,
     "end_time": "2025-03-05T01:29:42.872188",
     "exception": false,
     "start_time": "2025-03-05T01:29:42.852705",
     "status": "completed"
    },
    "tags": []
   },
   "outputs": [],
   "source": [
    "def evaluate_mrr_baseline(model, data_loader_val, distance_fn):\n",
    "    model.eval()\n",
    "\n",
    "    total_rr = 0.0\n",
    "    num_queries = 0\n",
    "\n",
    "    with torch.no_grad():\n",
    "        for batch in data_loader_val:\n",
    "            anchor_text = batch[0]\n",
    "            positive_text = batch[1]\n",
    "            negative_texts = batch[2]\n",
    "\n",
    "            anchor_input = tokenizer(anchor_text, return_tensors='pt', padding=True, truncation=True, max_length=512).to(device)\n",
    "            positive_input = tokenizer(positive_text, return_tensors='pt', padding=True, truncation=True, max_length=512).to(device)\n",
    "\n",
    "            anchor_embedding = model(**anchor_input).last_hidden_state[:, 0, :]\n",
    "            positive_embedding = model(**positive_input).last_hidden_state[:, 0, :]\n",
    "            negative_embedding = [model(**tokenizer(neg, return_tensors='pt', padding=True, truncation=True, max_length=512).to(device)).last_hidden_state[:, 0, :] for neg in negative_texts]\n",
    "\n",
    "            pos_dist = distance_fn(anchor_embedding, positive_embedding)\n",
    "            neg_dist = torch.stack([distance_fn(anchor_embedding, neg) for neg in negative_embedding], dim=-1)\n",
    "            all_similarities=torch.cat([-pos_dist.unsqueeze(1), -neg_dist], dim=1)\n",
    "\n",
    "            sorted_similarities, sorted_indices = torch.sort(all_similarities, dim=1, descending=True)\n",
    "\n",
    "            # Find the rank of the first relevant (positive) document\n",
    "            positive_rank = (sorted_indices == 0).nonzero(as_tuple=True)[1] + 1  # +1 to make rank 1-based\n",
    "            total_rr += torch.sum(1.0 / positive_rank.float()).item()  # Reciprocal rank\n",
    "            num_queries += len(positive_rank)\n",
    "\n",
    "    mrr = total_rr / num_queries\n",
    "    return mrr"
   ]
  },
  {
   "cell_type": "code",
   "execution_count": 20,
   "id": "534a9ec5-4211-4cb6-81f1-fb8a30caff92",
   "metadata": {
    "execution": {
     "iopub.execute_input": "2025-03-05T01:29:42.881644Z",
     "iopub.status.busy": "2025-03-05T01:29:42.880979Z",
     "iopub.status.idle": "2025-03-05T01:30:22.217741Z",
     "shell.execute_reply": "2025-03-05T01:30:22.216999Z"
    },
    "papermill": {
     "duration": 39.347761,
     "end_time": "2025-03-05T01:30:22.224136",
     "exception": false,
     "start_time": "2025-03-05T01:29:42.876375",
     "status": "completed"
    },
    "tags": []
   },
   "outputs": [
    {
     "name": "stdout",
     "output_type": "stream",
     "text": [
      "0.8150583400726318\n"
     ]
    }
   ],
   "source": [
    "mrr_validation_baseline = evaluate_mrr_baseline(lora_model_baseline, data_loader, cosine_distance)\n",
    "print(mrr_validation_baseline)"
   ]
  },
  {
   "cell_type": "code",
   "execution_count": null,
   "id": "f61bbd65-41c9-4ac7-80ef-ba4a4fb02d45",
   "metadata": {
    "papermill": {
     "duration": 0.004356,
     "end_time": "2025-03-05T01:30:22.233014",
     "exception": false,
     "start_time": "2025-03-05T01:30:22.228658",
     "status": "completed"
    },
    "tags": []
   },
   "outputs": [],
   "source": []
  },
  {
   "cell_type": "code",
   "execution_count": 21,
   "id": "8a3dfd17-ee43-4c4e-9287-8ec6451bc062",
   "metadata": {
    "execution": {
     "iopub.execute_input": "2025-03-05T01:30:22.242554Z",
     "iopub.status.busy": "2025-03-05T01:30:22.242103Z",
     "iopub.status.idle": "2025-03-05T01:30:22.719022Z",
     "shell.execute_reply": "2025-03-05T01:30:22.718521Z"
    },
    "papermill": {
     "duration": 0.482845,
     "end_time": "2025-03-05T01:30:22.720069",
     "exception": false,
     "start_time": "2025-03-05T01:30:22.237224",
     "status": "completed"
    },
    "tags": []
   },
   "outputs": [
    {
     "name": "stderr",
     "output_type": "stream",
     "text": [
      "/tmp/ipykernel_1283592/2975798179.py:2: FutureWarning: You are using `torch.load` with `weights_only=False` (the current default value), which uses the default pickle module implicitly. It is possible to construct malicious pickle data which will execute arbitrary code during unpickling (See https://github.com/pytorch/pytorch/blob/main/SECURITY.md#untrusted-models for more details). In a future release, the default value for `weights_only` will be flipped to `True`. This limits the functions that could be executed during unpickling. Arbitrary objects will no longer be allowed to be loaded via this mode unless they are explicitly allowlisted by the user via `torch.serialization.add_safe_globals`. We recommend you start setting `weights_only=True` for any use case where you don't have full control of the loaded file. Please open an issue on GitHub for any issues related to this experimental feature.\n",
      "  lora_model_average = torch.load(file_path_average)\n"
     ]
    }
   ],
   "source": [
    "file_path_average=\"/dss/dsshome1/07/ra65bex2/srawat/contrastive_learning/v1.1/app_average/average_checkpoint_epoch_3.pth\"\n",
    "lora_model_average = torch.load(file_path_average)\n",
    "lora_model_average = lora_model_average.to(device)"
   ]
  },
  {
   "cell_type": "code",
   "execution_count": 22,
   "id": "49c10d3f-c53d-4222-aba4-0e763451baff",
   "metadata": {
    "execution": {
     "iopub.execute_input": "2025-03-05T01:30:22.730004Z",
     "iopub.status.busy": "2025-03-05T01:30:22.729854Z",
     "iopub.status.idle": "2025-03-05T01:30:22.733363Z",
     "shell.execute_reply": "2025-03-05T01:30:22.733004Z"
    },
    "papermill": {
     "duration": 0.009327,
     "end_time": "2025-03-05T01:30:22.734273",
     "exception": false,
     "start_time": "2025-03-05T01:30:22.724946",
     "status": "completed"
    },
    "tags": []
   },
   "outputs": [],
   "source": [
    "def avg_embedding(inputs, model):\n",
    "    input=model(**inputs)\n",
    "    input_last_hidden_state=input.last_hidden_state\n",
    "    input_attention_mask = inputs['attention_mask']\n",
    "    input_masked_embeddings = input_last_hidden_state * input_attention_mask.unsqueeze(-1)\n",
    "    input_sum_embeddings = torch.sum(input_masked_embeddings, dim=1)\n",
    "    input_token_counts = torch.sum(input_attention_mask, dim=1).unsqueeze(-1)\n",
    "    input_avg_embeddings = input_sum_embeddings / input_token_counts\n",
    "    return(input_avg_embeddings)"
   ]
  },
  {
   "cell_type": "code",
   "execution_count": 23,
   "id": "22570a1b-93bf-41ef-99fe-de41c3857b41",
   "metadata": {
    "execution": {
     "iopub.execute_input": "2025-03-05T01:30:22.744369Z",
     "iopub.status.busy": "2025-03-05T01:30:22.743471Z",
     "iopub.status.idle": "2025-03-05T01:30:22.751830Z",
     "shell.execute_reply": "2025-03-05T01:30:22.751466Z"
    },
    "papermill": {
     "duration": 0.013811,
     "end_time": "2025-03-05T01:30:22.752609",
     "exception": false,
     "start_time": "2025-03-05T01:30:22.738798",
     "status": "completed"
    },
    "tags": []
   },
   "outputs": [],
   "source": [
    "def evaluate_mrr_average(model, data_loader_val, distance_fn):\n",
    "    model.eval()  \n",
    "\n",
    "    total_rr = 0.0\n",
    "    num_queries = 0\n",
    "\n",
    "    with torch.no_grad():\n",
    "        for batch in data_loader_val:\n",
    "            anchor_text = batch[0]\n",
    "            positive_text = batch[1]\n",
    "            negative_texts = batch[2]\n",
    "\n",
    "            anchor_input = tokenizer(anchor_text, return_tensors='pt', padding=True, truncation=True, max_length=512).to(device)\n",
    "            positive_input = tokenizer(positive_text, return_tensors='pt', padding=True, truncation=True, max_length=512).to(device)\n",
    "\n",
    "            anchor_embedding = avg_embedding(anchor_input, model)\n",
    "            positive_embedding = avg_embedding(positive_input, model)\n",
    "            negative_embedding = [avg_embedding(tokenizer(neg, return_tensors='pt', padding=True, truncation=True, max_length=512).to(device), model) for neg in negative_texts]\n",
    "\n",
    "            pos_dist = distance_fn(anchor_embedding, positive_embedding)\n",
    "            neg_dist = torch.stack([distance_fn(anchor_embedding, neg) for neg in negative_embedding], dim=-1)\n",
    "            all_similarities=torch.cat([-pos_dist.unsqueeze(1), -neg_dist], dim=1)\n",
    "            \n",
    "            sorted_similarities, sorted_indices = torch.sort(all_similarities, dim=1, descending=True)\n",
    "\n",
    "            # Find the rank of the first relevant (positive) document\n",
    "            positive_rank = (sorted_indices == 0).nonzero(as_tuple=True)[1] + 1  # +1 to make rank 1-based\n",
    "            total_rr += torch.sum(1.0 / positive_rank.float()).item()  # Reciprocal rank\n",
    "            num_queries += len(positive_rank)\n",
    "\n",
    "    mrr = total_rr / num_queries\n",
    "    return mrr"
   ]
  },
  {
   "cell_type": "code",
   "execution_count": 24,
   "id": "82977667-a984-467e-9eb6-9d6520ecb3b8",
   "metadata": {
    "execution": {
     "iopub.execute_input": "2025-03-05T01:30:22.762416Z",
     "iopub.status.busy": "2025-03-05T01:30:22.761921Z",
     "iopub.status.idle": "2025-03-05T01:31:01.278445Z",
     "shell.execute_reply": "2025-03-05T01:31:01.276823Z"
    },
    "papermill": {
     "duration": 38.52807,
     "end_time": "2025-03-05T01:31:01.285193",
     "exception": false,
     "start_time": "2025-03-05T01:30:22.757123",
     "status": "completed"
    },
    "tags": []
   },
   "outputs": [
    {
     "name": "stdout",
     "output_type": "stream",
     "text": [
      "0.8589916755676269\n"
     ]
    }
   ],
   "source": [
    "mrr_validation_average = evaluate_mrr_average(lora_model_average, data_loader, cosine_distance)\n",
    "print(mrr_validation_average)"
   ]
  },
  {
   "cell_type": "code",
   "execution_count": null,
   "id": "966c23c7-dc92-49e8-bb1f-1520c0ccd13b",
   "metadata": {
    "papermill": {
     "duration": 0.004558,
     "end_time": "2025-03-05T01:31:01.294883",
     "exception": false,
     "start_time": "2025-03-05T01:31:01.290325",
     "status": "completed"
    },
    "tags": []
   },
   "outputs": [],
   "source": []
  },
  {
   "cell_type": "code",
   "execution_count": 25,
   "id": "af58281c-1786-4bda-9eec-0fa0f127d140",
   "metadata": {
    "execution": {
     "iopub.execute_input": "2025-03-05T01:31:01.306553Z",
     "iopub.status.busy": "2025-03-05T01:31:01.306102Z",
     "iopub.status.idle": "2025-03-05T01:31:02.164003Z",
     "shell.execute_reply": "2025-03-05T01:31:02.163401Z"
    },
    "papermill": {
     "duration": 0.865787,
     "end_time": "2025-03-05T01:31:02.165206",
     "exception": false,
     "start_time": "2025-03-05T01:31:01.299419",
     "status": "completed"
    },
    "tags": []
   },
   "outputs": [
    {
     "name": "stderr",
     "output_type": "stream",
     "text": [
      "/tmp/ipykernel_1283592/2502257612.py:2: FutureWarning: You are using `torch.load` with `weights_only=False` (the current default value), which uses the default pickle module implicitly. It is possible to construct malicious pickle data which will execute arbitrary code during unpickling (See https://github.com/pytorch/pytorch/blob/main/SECURITY.md#untrusted-models for more details). In a future release, the default value for `weights_only` will be flipped to `True`. This limits the functions that could be executed during unpickling. Arbitrary objects will no longer be allowed to be loaded via this mode unless they are explicitly allowlisted by the user via `torch.serialization.add_safe_globals`. We recommend you start setting `weights_only=True` for any use case where you don't have full control of the loaded file. Please open an issue on GitHub for any issues related to this experimental feature.\n",
      "  lora_model_hyperbolic = torch.load(file_path_hyperbolic)\n"
     ]
    }
   ],
   "source": [
    "file_path_hyperbolic=\"/dss/dsshome1/07/ra65bex2/srawat/contrastive_learning/v1.1/0.1hyperbolic/hyperbolic_lora_checkpoint_epoch_3.pth\"\n",
    "lora_model_hyperbolic = torch.load(file_path_hyperbolic)\n",
    "lora_model_hyperbolic = lora_model_hyperbolic.to(device)"
   ]
  },
  {
   "cell_type": "code",
   "execution_count": 26,
   "id": "d6f9507b-01e9-49d0-8327-760677bfcf0b",
   "metadata": {
    "execution": {
     "iopub.execute_input": "2025-03-05T01:31:02.176337Z",
     "iopub.status.busy": "2025-03-05T01:31:02.176087Z",
     "iopub.status.idle": "2025-03-05T01:31:02.179459Z",
     "shell.execute_reply": "2025-03-05T01:31:02.179077Z"
    },
    "papermill": {
     "duration": 0.009361,
     "end_time": "2025-03-05T01:31:02.180249",
     "exception": false,
     "start_time": "2025-03-05T01:31:02.170888",
     "status": "completed"
    },
    "tags": []
   },
   "outputs": [],
   "source": [
    "def lorentzian_distance(x, y):\n",
    "    \n",
    "    dot_product = torch.sum(x * y, dim=-1)\n",
    "    norm_x = torch.norm(x, dim=-1)\n",
    "    norm_y = torch.norm(y, dim=-1)\n",
    "    \n",
    "    distance = torch.acosh(-dot_product + torch.sqrt((1 + norm_x**2) * (1 + norm_y**2)))\n",
    "    return distance"
   ]
  },
  {
   "cell_type": "code",
   "execution_count": 27,
   "id": "de4ecc53-8b64-4fee-bfbf-d3b85d441d1f",
   "metadata": {
    "execution": {
     "iopub.execute_input": "2025-03-05T01:31:02.190476Z",
     "iopub.status.busy": "2025-03-05T01:31:02.190344Z",
     "iopub.status.idle": "2025-03-05T01:31:02.202638Z",
     "shell.execute_reply": "2025-03-05T01:31:02.202207Z"
    },
    "papermill": {
     "duration": 0.018421,
     "end_time": "2025-03-05T01:31:02.203520",
     "exception": false,
     "start_time": "2025-03-05T01:31:02.185099",
     "status": "completed"
    },
    "tags": []
   },
   "outputs": [],
   "source": [
    "def expm_o(v, c=1.0):\n",
    "    c = torch.tensor(c)\n",
    "    vspace = v\n",
    "    vnorm = torch.norm(v, p=2, dim=-1, keepdim=True)\n",
    "    xspace = torch.sinh(torch.sqrt(c) * vnorm) * vspace / (torch.sqrt(c) * vnorm)\n",
    "    batch_min = xspace.min(dim=1, keepdim=True).values\n",
    "    batch_max = xspace.max(dim=1, keepdim=True).values\n",
    "    xspace_scaled=(xspace - batch_min) / (batch_max - batch_min)\n",
    "    return xspace_scaled"
   ]
  },
  {
   "cell_type": "code",
   "execution_count": 28,
   "id": "c6639968-6b1d-4601-a69f-6e83b9863ab6",
   "metadata": {
    "execution": {
     "iopub.execute_input": "2025-03-05T01:31:02.215152Z",
     "iopub.status.busy": "2025-03-05T01:31:02.214623Z",
     "iopub.status.idle": "2025-03-05T01:31:02.223833Z",
     "shell.execute_reply": "2025-03-05T01:31:02.223428Z"
    },
    "papermill": {
     "duration": 0.015575,
     "end_time": "2025-03-05T01:31:02.224664",
     "exception": false,
     "start_time": "2025-03-05T01:31:02.209089",
     "status": "completed"
    },
    "tags": []
   },
   "outputs": [],
   "source": [
    "def evaluate_mrr_hyperbolic(model1, data_loader_val, distance_fn):\n",
    "    model1.eval()\n",
    "    \n",
    "    total_rr = 0.0\n",
    "    num_queries = 0\n",
    "\n",
    "    with torch.no_grad():\n",
    "        for batch in data_loader_val:\n",
    "            anchor_text = batch[0]\n",
    "            positive_text = batch[1]\n",
    "            negative_texts = batch[2]\n",
    "\n",
    "            anchor_input = tokenizer(anchor_text, return_tensors='pt', padding=True, truncation=True, max_length=512).to(device)\n",
    "            positive_input = tokenizer(positive_text, return_tensors='pt', padding=True, truncation=True, max_length=512).to(device)\n",
    "\n",
    "            anchor_embedding = expm_o(model1(**anchor_input).last_hidden_state[:, 0, :])\n",
    "            positive_embedding = expm_o(model1(**positive_input).last_hidden_state[:, 0, :])\n",
    "            negative_embedding = [expm_o(model1(**tokenizer(neg, return_tensors='pt', padding=True, truncation=True, max_length=512).to(device)).last_hidden_state[:, 0, :]) for neg in negative_texts]\n",
    "\n",
    "            pos_dist = distance_fn(anchor_embedding, positive_embedding)\n",
    "            neg_dist = torch.stack([distance_fn(anchor_embedding, neg) for neg in negative_embedding], dim=-1)\n",
    "            all_similarities=torch.cat([-pos_dist.unsqueeze(1), -neg_dist], dim=1)\n",
    "\n",
    "            sorted_similarities, sorted_indices = torch.sort(all_similarities, dim=1, descending=True)\n",
    "\n",
    "            # Find the rank of the first relevant (positive) document\n",
    "            positive_rank = (sorted_indices == 0).nonzero(as_tuple=True)[1] + 1  # +1 to make rank 1-based\n",
    "            total_rr += torch.sum(1.0 / positive_rank.float()).item()  # Reciprocal rank\n",
    "            num_queries += len(positive_rank)\n",
    "            \n",
    "    mrr = total_rr / num_queries\n",
    "    return mrr"
   ]
  },
  {
   "cell_type": "code",
   "execution_count": 29,
   "id": "9c54c77e-2dde-4c88-9eaf-439a409e845e",
   "metadata": {
    "execution": {
     "iopub.execute_input": "2025-03-05T01:31:02.236018Z",
     "iopub.status.busy": "2025-03-05T01:31:02.235792Z",
     "iopub.status.idle": "2025-03-05T01:31:41.002238Z",
     "shell.execute_reply": "2025-03-05T01:31:41.001515Z"
    },
    "papermill": {
     "duration": 38.778596,
     "end_time": "2025-03-05T01:31:41.008737",
     "exception": false,
     "start_time": "2025-03-05T01:31:02.230141",
     "status": "completed"
    },
    "tags": []
   },
   "outputs": [
    {
     "name": "stdout",
     "output_type": "stream",
     "text": [
      "0.6036566779136657\n"
     ]
    }
   ],
   "source": [
    "mrr_validation_hyperbolic = evaluate_mrr_hyperbolic(model1=lora_model_hyperbolic, data_loader_val=data_loader,distance_fn=lorentzian_distance)\n",
    "print(mrr_validation_hyperbolic)"
   ]
  },
  {
   "cell_type": "code",
   "execution_count": null,
   "id": "3e097240-0b21-4a85-8959-2c74522b15a8",
   "metadata": {
    "papermill": {
     "duration": 0.004544,
     "end_time": "2025-03-05T01:31:41.018218",
     "exception": false,
     "start_time": "2025-03-05T01:31:41.013674",
     "status": "completed"
    },
    "tags": []
   },
   "outputs": [],
   "source": []
  },
  {
   "cell_type": "code",
   "execution_count": 30,
   "id": "d883371b-b6e4-40de-b212-93ed5fcb6061",
   "metadata": {
    "execution": {
     "iopub.execute_input": "2025-03-05T01:31:41.028468Z",
     "iopub.status.busy": "2025-03-05T01:31:41.028122Z",
     "iopub.status.idle": "2025-03-05T01:31:41.041906Z",
     "shell.execute_reply": "2025-03-05T01:31:41.041444Z"
    },
    "papermill": {
     "duration": 0.019678,
     "end_time": "2025-03-05T01:31:41.042575",
     "exception": false,
     "start_time": "2025-03-05T01:31:41.022897",
     "status": "completed"
    },
    "tags": []
   },
   "outputs": [
    {
     "name": "stdout",
     "output_type": "stream",
     "text": [
      "Median Query Length: 9.0\n"
     ]
    }
   ],
   "source": [
    "import statistics\n",
    "print(\"Median Query Length:\", statistics.median(query_lengths))"
   ]
  },
  {
   "cell_type": "code",
   "execution_count": 31,
   "id": "4b02b505-a8f9-480d-959e-effcbc2ed3a2",
   "metadata": {
    "execution": {
     "iopub.execute_input": "2025-03-05T01:31:41.052878Z",
     "iopub.status.busy": "2025-03-05T01:31:41.052464Z",
     "iopub.status.idle": "2025-03-05T01:31:41.076652Z",
     "shell.execute_reply": "2025-03-05T01:31:41.076261Z"
    },
    "papermill": {
     "duration": 0.029996,
     "end_time": "2025-03-05T01:31:41.077311",
     "exception": false,
     "start_time": "2025-03-05T01:31:41.047315",
     "status": "completed"
    },
    "tags": []
   },
   "outputs": [
    {
     "data": {
      "text/plain": [
       "0.8150583400726318"
      ]
     },
     "execution_count": 31,
     "metadata": {},
     "output_type": "execute_result"
    }
   ],
   "source": [
    "mrr_validation_baseline"
   ]
  },
  {
   "cell_type": "code",
   "execution_count": 32,
   "id": "5c10dccb-fbc7-448b-b3d9-4d7e045dafd3",
   "metadata": {
    "execution": {
     "iopub.execute_input": "2025-03-05T01:31:41.087255Z",
     "iopub.status.busy": "2025-03-05T01:31:41.087122Z",
     "iopub.status.idle": "2025-03-05T01:31:41.093784Z",
     "shell.execute_reply": "2025-03-05T01:31:41.093379Z"
    },
    "papermill": {
     "duration": 0.01238,
     "end_time": "2025-03-05T01:31:41.094435",
     "exception": false,
     "start_time": "2025-03-05T01:31:41.082055",
     "status": "completed"
    },
    "tags": []
   },
   "outputs": [
    {
     "data": {
      "text/plain": [
       "0.8589916755676269"
      ]
     },
     "execution_count": 32,
     "metadata": {},
     "output_type": "execute_result"
    }
   ],
   "source": [
    "mrr_validation_average"
   ]
  },
  {
   "cell_type": "code",
   "execution_count": 33,
   "id": "b9c22c87-c20f-4a86-a8d3-d941340ea726",
   "metadata": {
    "execution": {
     "iopub.execute_input": "2025-03-05T01:31:41.104376Z",
     "iopub.status.busy": "2025-03-05T01:31:41.104243Z",
     "iopub.status.idle": "2025-03-05T01:31:41.113971Z",
     "shell.execute_reply": "2025-03-05T01:31:41.113641Z"
    },
    "papermill": {
     "duration": 0.015542,
     "end_time": "2025-03-05T01:31:41.114731",
     "exception": false,
     "start_time": "2025-03-05T01:31:41.099189",
     "status": "completed"
    },
    "tags": []
   },
   "outputs": [
    {
     "data": {
      "text/plain": [
       "0.6036566779136657"
      ]
     },
     "execution_count": 33,
     "metadata": {},
     "output_type": "execute_result"
    }
   ],
   "source": [
    "mrr_validation_hyperbolic"
   ]
  }
 ],
 "metadata": {
  "kernelspec": {
   "display_name": "Python (myenv)",
   "language": "python",
   "name": "myenv"
  },
  "language_info": {
   "codemirror_mode": {
    "name": "ipython",
    "version": 3
   },
   "file_extension": ".py",
   "mimetype": "text/x-python",
   "name": "python",
   "nbconvert_exporter": "python",
   "pygments_lexer": "ipython3",
   "version": "3.12.7"
  },
  "papermill": {
   "default_parameters": {},
   "duration": 1106.982909,
   "end_time": "2025-03-05T01:31:44.334472",
   "environment_variables": {},
   "exception": null,
   "input_path": "QUORA.ipynb",
   "output_path": "QUORA_output.ipynb",
   "parameters": {},
   "start_time": "2025-03-05T01:13:17.351563",
   "version": "2.6.0"
  },
  "widgets": {
   "application/vnd.jupyter.widget-state+json": {
    "state": {
     "02e2b843a6d4494e9848e6302156196f": {
      "model_module": "@jupyter-widgets/controls",
      "model_module_version": "2.0.0",
      "model_name": "HTMLModel",
      "state": {
       "_dom_classes": [],
       "_model_module": "@jupyter-widgets/controls",
       "_model_module_version": "2.0.0",
       "_model_name": "HTMLModel",
       "_view_count": null,
       "_view_module": "@jupyter-widgets/controls",
       "_view_module_version": "2.0.0",
       "_view_name": "HTMLView",
       "description": "",
       "description_allow_html": false,
       "layout": "IPY_MODEL_8503070803a041a7a80b7e42521f1765",
       "placeholder": "​",
       "style": "IPY_MODEL_43373cf5218f498cac8cab8e1949f246",
       "tabbable": null,
       "tooltip": null,
       "value": "100%"
      }
     },
     "2157e8c8b9494f909ee54abdc1186309": {
      "model_module": "@jupyter-widgets/base",
      "model_module_version": "2.0.0",
      "model_name": "LayoutModel",
      "state": {
       "_model_module": "@jupyter-widgets/base",
       "_model_module_version": "2.0.0",
       "_model_name": "LayoutModel",
       "_view_count": null,
       "_view_module": "@jupyter-widgets/base",
       "_view_module_version": "2.0.0",
       "_view_name": "LayoutView",
       "align_content": null,
       "align_items": null,
       "align_self": null,
       "border_bottom": null,
       "border_left": null,
       "border_right": null,
       "border_top": null,
       "bottom": null,
       "display": null,
       "flex": null,
       "flex_flow": null,
       "grid_area": null,
       "grid_auto_columns": null,
       "grid_auto_flow": null,
       "grid_auto_rows": null,
       "grid_column": null,
       "grid_gap": null,
       "grid_row": null,
       "grid_template_areas": null,
       "grid_template_columns": null,
       "grid_template_rows": null,
       "height": null,
       "justify_content": null,
       "justify_items": null,
       "left": null,
       "margin": null,
       "max_height": null,
       "max_width": null,
       "min_height": null,
       "min_width": null,
       "object_fit": null,
       "object_position": null,
       "order": null,
       "overflow": null,
       "padding": null,
       "right": null,
       "top": null,
       "visibility": null,
       "width": null
      }
     },
     "346120f5388e429bb56027b13d306206": {
      "model_module": "@jupyter-widgets/controls",
      "model_module_version": "2.0.0",
      "model_name": "FloatProgressModel",
      "state": {
       "_dom_classes": [],
       "_model_module": "@jupyter-widgets/controls",
       "_model_module_version": "2.0.0",
       "_model_name": "FloatProgressModel",
       "_view_count": null,
       "_view_module": "@jupyter-widgets/controls",
       "_view_module_version": "2.0.0",
       "_view_name": "ProgressView",
       "bar_style": "success",
       "description": "",
       "description_allow_html": false,
       "layout": "IPY_MODEL_b479ac1ec8a44191b9cb60f1c58ee51e",
       "max": 522931.0,
       "min": 0.0,
       "orientation": "horizontal",
       "style": "IPY_MODEL_923fb52779be413cbaa5b266c358cc60",
       "tabbable": null,
       "tooltip": null,
       "value": 522931.0
      }
     },
     "43373cf5218f498cac8cab8e1949f246": {
      "model_module": "@jupyter-widgets/controls",
      "model_module_version": "2.0.0",
      "model_name": "HTMLStyleModel",
      "state": {
       "_model_module": "@jupyter-widgets/controls",
       "_model_module_version": "2.0.0",
       "_model_name": "HTMLStyleModel",
       "_view_count": null,
       "_view_module": "@jupyter-widgets/base",
       "_view_module_version": "2.0.0",
       "_view_name": "StyleView",
       "background": null,
       "description_width": "",
       "font_size": null,
       "text_color": null
      }
     },
     "8503070803a041a7a80b7e42521f1765": {
      "model_module": "@jupyter-widgets/base",
      "model_module_version": "2.0.0",
      "model_name": "LayoutModel",
      "state": {
       "_model_module": "@jupyter-widgets/base",
       "_model_module_version": "2.0.0",
       "_model_name": "LayoutModel",
       "_view_count": null,
       "_view_module": "@jupyter-widgets/base",
       "_view_module_version": "2.0.0",
       "_view_name": "LayoutView",
       "align_content": null,
       "align_items": null,
       "align_self": null,
       "border_bottom": null,
       "border_left": null,
       "border_right": null,
       "border_top": null,
       "bottom": null,
       "display": null,
       "flex": null,
       "flex_flow": null,
       "grid_area": null,
       "grid_auto_columns": null,
       "grid_auto_flow": null,
       "grid_auto_rows": null,
       "grid_column": null,
       "grid_gap": null,
       "grid_row": null,
       "grid_template_areas": null,
       "grid_template_columns": null,
       "grid_template_rows": null,
       "height": null,
       "justify_content": null,
       "justify_items": null,
       "left": null,
       "margin": null,
       "max_height": null,
       "max_width": null,
       "min_height": null,
       "min_width": null,
       "object_fit": null,
       "object_position": null,
       "order": null,
       "overflow": null,
       "padding": null,
       "right": null,
       "top": null,
       "visibility": null,
       "width": null
      }
     },
     "923fb52779be413cbaa5b266c358cc60": {
      "model_module": "@jupyter-widgets/controls",
      "model_module_version": "2.0.0",
      "model_name": "ProgressStyleModel",
      "state": {
       "_model_module": "@jupyter-widgets/controls",
       "_model_module_version": "2.0.0",
       "_model_name": "ProgressStyleModel",
       "_view_count": null,
       "_view_module": "@jupyter-widgets/base",
       "_view_module_version": "2.0.0",
       "_view_name": "StyleView",
       "bar_color": null,
       "description_width": ""
      }
     },
     "a1c2822a09334bd0a09930deb2cd9617": {
      "model_module": "@jupyter-widgets/controls",
      "model_module_version": "2.0.0",
      "model_name": "HTMLModel",
      "state": {
       "_dom_classes": [],
       "_model_module": "@jupyter-widgets/controls",
       "_model_module_version": "2.0.0",
       "_model_name": "HTMLModel",
       "_view_count": null,
       "_view_module": "@jupyter-widgets/controls",
       "_view_module_version": "2.0.0",
       "_view_name": "HTMLView",
       "description": "",
       "description_allow_html": false,
       "layout": "IPY_MODEL_e1e22fc1d91c456783a2a0c99169946a",
       "placeholder": "​",
       "style": "IPY_MODEL_fc23dd01ef4442499aa718f679dc2695",
       "tabbable": null,
       "tooltip": null,
       "value": " 522931/522931 [00:01&lt;00:00, 341680.63it/s]"
      }
     },
     "b479ac1ec8a44191b9cb60f1c58ee51e": {
      "model_module": "@jupyter-widgets/base",
      "model_module_version": "2.0.0",
      "model_name": "LayoutModel",
      "state": {
       "_model_module": "@jupyter-widgets/base",
       "_model_module_version": "2.0.0",
       "_model_name": "LayoutModel",
       "_view_count": null,
       "_view_module": "@jupyter-widgets/base",
       "_view_module_version": "2.0.0",
       "_view_name": "LayoutView",
       "align_content": null,
       "align_items": null,
       "align_self": null,
       "border_bottom": null,
       "border_left": null,
       "border_right": null,
       "border_top": null,
       "bottom": null,
       "display": null,
       "flex": null,
       "flex_flow": null,
       "grid_area": null,
       "grid_auto_columns": null,
       "grid_auto_flow": null,
       "grid_auto_rows": null,
       "grid_column": null,
       "grid_gap": null,
       "grid_row": null,
       "grid_template_areas": null,
       "grid_template_columns": null,
       "grid_template_rows": null,
       "height": null,
       "justify_content": null,
       "justify_items": null,
       "left": null,
       "margin": null,
       "max_height": null,
       "max_width": null,
       "min_height": null,
       "min_width": null,
       "object_fit": null,
       "object_position": null,
       "order": null,
       "overflow": null,
       "padding": null,
       "right": null,
       "top": null,
       "visibility": null,
       "width": null
      }
     },
     "ba754c35e9ea44e8b3130e765e3d186d": {
      "model_module": "@jupyter-widgets/controls",
      "model_module_version": "2.0.0",
      "model_name": "HBoxModel",
      "state": {
       "_dom_classes": [],
       "_model_module": "@jupyter-widgets/controls",
       "_model_module_version": "2.0.0",
       "_model_name": "HBoxModel",
       "_view_count": null,
       "_view_module": "@jupyter-widgets/controls",
       "_view_module_version": "2.0.0",
       "_view_name": "HBoxView",
       "box_style": "",
       "children": [
        "IPY_MODEL_02e2b843a6d4494e9848e6302156196f",
        "IPY_MODEL_346120f5388e429bb56027b13d306206",
        "IPY_MODEL_a1c2822a09334bd0a09930deb2cd9617"
       ],
       "layout": "IPY_MODEL_2157e8c8b9494f909ee54abdc1186309",
       "tabbable": null,
       "tooltip": null
      }
     },
     "e1e22fc1d91c456783a2a0c99169946a": {
      "model_module": "@jupyter-widgets/base",
      "model_module_version": "2.0.0",
      "model_name": "LayoutModel",
      "state": {
       "_model_module": "@jupyter-widgets/base",
       "_model_module_version": "2.0.0",
       "_model_name": "LayoutModel",
       "_view_count": null,
       "_view_module": "@jupyter-widgets/base",
       "_view_module_version": "2.0.0",
       "_view_name": "LayoutView",
       "align_content": null,
       "align_items": null,
       "align_self": null,
       "border_bottom": null,
       "border_left": null,
       "border_right": null,
       "border_top": null,
       "bottom": null,
       "display": null,
       "flex": null,
       "flex_flow": null,
       "grid_area": null,
       "grid_auto_columns": null,
       "grid_auto_flow": null,
       "grid_auto_rows": null,
       "grid_column": null,
       "grid_gap": null,
       "grid_row": null,
       "grid_template_areas": null,
       "grid_template_columns": null,
       "grid_template_rows": null,
       "height": null,
       "justify_content": null,
       "justify_items": null,
       "left": null,
       "margin": null,
       "max_height": null,
       "max_width": null,
       "min_height": null,
       "min_width": null,
       "object_fit": null,
       "object_position": null,
       "order": null,
       "overflow": null,
       "padding": null,
       "right": null,
       "top": null,
       "visibility": null,
       "width": null
      }
     },
     "fc23dd01ef4442499aa718f679dc2695": {
      "model_module": "@jupyter-widgets/controls",
      "model_module_version": "2.0.0",
      "model_name": "HTMLStyleModel",
      "state": {
       "_model_module": "@jupyter-widgets/controls",
       "_model_module_version": "2.0.0",
       "_model_name": "HTMLStyleModel",
       "_view_count": null,
       "_view_module": "@jupyter-widgets/base",
       "_view_module_version": "2.0.0",
       "_view_name": "StyleView",
       "background": null,
       "description_width": "",
       "font_size": null,
       "text_color": null
      }
     }
    },
    "version_major": 2,
    "version_minor": 0
   }
  }
 },
 "nbformat": 4,
 "nbformat_minor": 5
}