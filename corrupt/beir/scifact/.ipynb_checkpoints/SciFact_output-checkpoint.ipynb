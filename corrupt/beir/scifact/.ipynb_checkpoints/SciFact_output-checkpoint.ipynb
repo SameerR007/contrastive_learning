{
 "cells": [
  {
   "cell_type": "code",
   "execution_count": 1,
   "id": "f6d4b65f-fa6b-4517-8694-8627bc49833b",
   "metadata": {
    "execution": {
     "iopub.execute_input": "2025-03-05T00:52:49.160877Z",
     "iopub.status.busy": "2025-03-05T00:52:49.160741Z",
     "iopub.status.idle": "2025-03-05T00:52:49.251929Z",
     "shell.execute_reply": "2025-03-05T00:52:49.251452Z"
    },
    "papermill": {
     "duration": 0.100535,
     "end_time": "2025-03-05T00:52:49.253205",
     "exception": false,
     "start_time": "2025-03-05T00:52:49.152670",
     "status": "completed"
    },
    "tags": []
   },
   "outputs": [
    {
     "name": "stderr",
     "output_type": "stream",
     "text": [
      "/dss/dsshome1/07/ra65bex2/srawat/myenv/lib/python3.12/site-packages/beir/datasets/data_loader.py:8: TqdmExperimentalWarning: Using `tqdm.autonotebook.tqdm` in notebook mode. Use `tqdm.tqdm` instead to force console mode (e.g. in jupyter console)\n",
      "  from tqdm.autonotebook import tqdm\n"
     ]
    }
   ],
   "source": [
    "from beir.datasets.data_loader import GenericDataLoader"
   ]
  },
  {
   "cell_type": "code",
   "execution_count": 2,
   "id": "a91d6914-e301-422c-b839-1fafeb1e8fa4",
   "metadata": {
    "execution": {
     "iopub.execute_input": "2025-03-05T00:52:49.263017Z",
     "iopub.status.busy": "2025-03-05T00:52:49.262884Z",
     "iopub.status.idle": "2025-03-05T00:52:49.266686Z",
     "shell.execute_reply": "2025-03-05T00:52:49.266161Z"
    },
    "papermill": {
     "duration": 0.009524,
     "end_time": "2025-03-05T00:52:49.267897",
     "exception": false,
     "start_time": "2025-03-05T00:52:49.258373",
     "status": "completed"
    },
    "tags": []
   },
   "outputs": [],
   "source": [
    "data_path = '/dss/dsshome1/07/ra65bex2/srawat/scifact/scifact'"
   ]
  },
  {
   "cell_type": "code",
   "execution_count": 3,
   "id": "41e17333-2c34-4b7b-91f6-3cbd3972f0d6",
   "metadata": {
    "execution": {
     "iopub.execute_input": "2025-03-05T00:52:49.282203Z",
     "iopub.status.busy": "2025-03-05T00:52:49.281692Z",
     "iopub.status.idle": "2025-03-05T00:52:49.376177Z",
     "shell.execute_reply": "2025-03-05T00:52:49.375759Z"
    },
    "papermill": {
     "duration": 0.103249,
     "end_time": "2025-03-05T00:52:49.377392",
     "exception": false,
     "start_time": "2025-03-05T00:52:49.274143",
     "status": "completed"
    },
    "tags": []
   },
   "outputs": [
    {
     "data": {
      "application/vnd.jupyter.widget-view+json": {
       "model_id": "b67a7f8e88e54ecc91e9cd4cf0aa79dd",
       "version_major": 2,
       "version_minor": 0
      },
      "text/plain": [
       "  0%|          | 0/5183 [00:00<?, ?it/s]"
      ]
     },
     "metadata": {},
     "output_type": "display_data"
    }
   ],
   "source": [
    "corpus, queries, qrels = GenericDataLoader(data_path).load(split=\"test\")"
   ]
  },
  {
   "cell_type": "code",
   "execution_count": 4,
   "id": "1d653c60-435a-4e10-8506-6ef5d01f8675",
   "metadata": {
    "execution": {
     "iopub.execute_input": "2025-03-05T00:52:49.388347Z",
     "iopub.status.busy": "2025-03-05T00:52:49.388126Z",
     "iopub.status.idle": "2025-03-05T00:52:51.467737Z",
     "shell.execute_reply": "2025-03-05T00:52:51.467096Z"
    },
    "papermill": {
     "duration": 2.085959,
     "end_time": "2025-03-05T00:52:51.468594",
     "exception": false,
     "start_time": "2025-03-05T00:52:49.382635",
     "status": "completed"
    },
    "tags": []
   },
   "outputs": [
    {
     "name": "stderr",
     "output_type": "stream",
     "text": [
      "[nltk_data] Downloading package stopwords to\n",
      "[nltk_data]     /dss/dsshome1/07/ra65bex2/nltk_data...\n",
      "[nltk_data]   Package stopwords is already up-to-date!\n",
      "[nltk_data] Downloading package wordnet to\n",
      "[nltk_data]     /dss/dsshome1/07/ra65bex2/nltk_data...\n",
      "[nltk_data]   Package wordnet is already up-to-date!\n"
     ]
    }
   ],
   "source": [
    "import random\n",
    "import re\n",
    "import nltk\n",
    "from nltk.corpus import stopwords, wordnet\n",
    "nltk.download('stopwords')\n",
    "nltk.download('wordnet')\n",
    "stop_words = set(stopwords.words('english'))\n",
    "def clean_text(text):\n",
    "    return re.sub(r'[^\\w\\s.!?]', '', text)\n",
    "def select_words(text, percentage):\n",
    "    words = [w for w in text.split() if w.lower() not in stop_words]\n",
    "    return random.sample(words, min(int(percentage*len(words)), len(words)))\n",
    "def introduce_typo(word):\n",
    "    if len(word) > 1:\n",
    "        idx = random.randint(0, len(word) - 1)\n",
    "        return word[:idx] + random.choice('abcdefghijklmnopqrstuvwxyz') + word[idx+1:]\n",
    "    return word\n",
    "def introduce_noise(word):\n",
    "    noise_chars = ['@', '#', '$', '%', '&', '*']\n",
    "    if len(word) > 1:\n",
    "        idx = random.randint(0, len(word) - 1)\n",
    "        return word[:idx] + random.choice(noise_chars) + word[idx+1:]\n",
    "    return word\n",
    "def replace_with_synonym(word):\n",
    "    synonyms = [syn.lemmas()[0].name() for syn in wordnet.synsets(word) if syn.lemmas()]\n",
    "    return random.choice(synonyms) if synonyms else word\n",
    "def corrupt_word(word, method):\n",
    "    if method == 'typo':\n",
    "        return introduce_typo(word)\n",
    "    elif method == 'noise':\n",
    "        return introduce_noise(word)\n",
    "    elif method == 'synonym':\n",
    "        return replace_with_synonym(word)\n",
    "    return word\n",
    "def corrupt_text(text):\n",
    "    corrupted_words = []  \n",
    "    words_to_corrupt=select_words(clean_text(text), percentage=0.5)\n",
    "    for word in clean_text(text).split():\n",
    "        if word in words_to_corrupt:\n",
    "            corruption_method = random.choice(['typo', 'noise', 'synonym'])\n",
    "            corrupted_words.append(corrupt_word(word, corruption_method))\n",
    "        else:\n",
    "            corrupted_words.append(word)\n",
    "    return ' '.join(corrupted_words)"
   ]
  },
  {
   "cell_type": "code",
   "execution_count": 5,
   "id": "a29044d5-3952-4f3d-aa43-e1efd34fcad3",
   "metadata": {
    "execution": {
     "iopub.execute_input": "2025-03-05T00:52:51.488104Z",
     "iopub.status.busy": "2025-03-05T00:52:51.487736Z",
     "iopub.status.idle": "2025-03-05T00:52:54.094878Z",
     "shell.execute_reply": "2025-03-05T00:52:54.094250Z"
    },
    "papermill": {
     "duration": 2.615996,
     "end_time": "2025-03-05T00:52:54.097214",
     "exception": false,
     "start_time": "2025-03-05T00:52:51.481218",
     "status": "completed"
    },
    "tags": []
   },
   "outputs": [],
   "source": [
    "contrastive_pairs=[]\n",
    "query_lengths = []\n",
    "import random\n",
    "c=0\n",
    "for query_id, relevant_docs in qrels.items():\n",
    "    try:\n",
    "        query_text = queries[query_id]\n",
    "        query_lengths.append(len(query_text.split()))\n",
    "        for doc_id in relevant_docs:\n",
    "            positive = corpus[doc_id][\"text\"]\n",
    "        #print(relevant_docs)\n",
    "        positive_doc_ids = set(relevant_docs)\n",
    "        all_doc_ids = set(corpus.keys())\n",
    "        negative_doc_ids = all_doc_ids - positive_doc_ids\n",
    "        negative_doc_ids=list(negative_doc_ids)\n",
    "        negative_doc_samples = random.sample(negative_doc_ids, k=5)\n",
    "        negatives=[]\n",
    "        for neg_doc_id in negative_doc_samples:\n",
    "            negative_doc_text = corpus[neg_doc_id][\"text\"]\n",
    "            negatives.append(negative_doc_text)\n",
    "        contrastive_pairs.append({\n",
    "            \"anchor\": corrupt_text(query_text),\n",
    "            \"positive\": positive,\n",
    "            \"negatives\": negatives\n",
    "        })\n",
    "    except:\n",
    "        c=c+1"
   ]
  },
  {
   "cell_type": "code",
   "execution_count": 6,
   "id": "49721946-fff3-4690-bd92-d981cecdf62b",
   "metadata": {
    "execution": {
     "iopub.execute_input": "2025-03-05T00:52:54.115331Z",
     "iopub.status.busy": "2025-03-05T00:52:54.114913Z",
     "iopub.status.idle": "2025-03-05T00:52:54.119907Z",
     "shell.execute_reply": "2025-03-05T00:52:54.119398Z"
    },
    "papermill": {
     "duration": 0.012762,
     "end_time": "2025-03-05T00:52:54.121005",
     "exception": false,
     "start_time": "2025-03-05T00:52:54.108243",
     "status": "completed"
    },
    "tags": []
   },
   "outputs": [
    {
     "data": {
      "text/plain": [
       "0"
      ]
     },
     "execution_count": 6,
     "metadata": {},
     "output_type": "execute_result"
    }
   ],
   "source": [
    "c"
   ]
  },
  {
   "cell_type": "code",
   "execution_count": 7,
   "id": "de8ef367-dcb4-4bb6-af3a-20f190930ed1",
   "metadata": {
    "execution": {
     "iopub.execute_input": "2025-03-05T00:52:54.136715Z",
     "iopub.status.busy": "2025-03-05T00:52:54.136346Z",
     "iopub.status.idle": "2025-03-05T00:52:54.142590Z",
     "shell.execute_reply": "2025-03-05T00:52:54.142172Z"
    },
    "papermill": {
     "duration": 0.015845,
     "end_time": "2025-03-05T00:52:54.143704",
     "exception": false,
     "start_time": "2025-03-05T00:52:54.127859",
     "status": "completed"
    },
    "tags": []
   },
   "outputs": [
    {
     "data": {
      "text/plain": [
       "300"
      ]
     },
     "execution_count": 7,
     "metadata": {},
     "output_type": "execute_result"
    }
   ],
   "source": [
    "len(contrastive_pairs)"
   ]
  },
  {
   "cell_type": "code",
   "execution_count": 8,
   "id": "8a2ccada-419a-4f79-ad4d-b605780281a3",
   "metadata": {
    "execution": {
     "iopub.execute_input": "2025-03-05T00:52:54.156683Z",
     "iopub.status.busy": "2025-03-05T00:52:54.156548Z",
     "iopub.status.idle": "2025-03-05T00:52:54.161167Z",
     "shell.execute_reply": "2025-03-05T00:52:54.160724Z"
    },
    "papermill": {
     "duration": 0.012284,
     "end_time": "2025-03-05T00:52:54.162305",
     "exception": false,
     "start_time": "2025-03-05T00:52:54.150021",
     "status": "completed"
    },
    "tags": []
   },
   "outputs": [
    {
     "data": {
      "text/plain": [
       "[{'anchor': 'xdimensional biomaterials show inductive propertiesn',\n",
       "  'positive': 'Nanotechnologies are emerging platforms that could be useful in measuring, understanding, and manipulating stem cells. Examples include magnetic nanoparticles and quantum dots for stem cell labeling and in vivo tracking; nanoparticles, carbon nanotubes, and polyplexes for the intracellular delivery of genes/oligonucleotides and protein/peptides; and engineered nanometer-scale scaffolds for stem cell differentiation and transplantation. This review examines the use of nanotechnologies for stem cell tracking, differentiation, and transplantation. We further discuss their utility and the potential concerns regarding their cytotoxicity.',\n",
       "  'negatives': ['The definition of sudden infant death syndrome (SIDS) originally appeared in 1969 and was modified 2 decades later. During the following 15 years, an enormous amount of additional information has emerged, justifying additional refinement of the definition of SIDS to incorporate epidemiologic features, risk factors, pathologic features, and ancillary test findings. An expert panel of pediatric and forensic pathologists and pediatricians considered these issues and developed a new general definition of SIDS for administrative and vital statistics purposes. The new definition was then stratified to facilitate research into sudden infant death. Another category, defined as unclassified sudden infant deaths, was introduced for cases that do not meet the criteria for a diagnosis of SIDS and for which alternative diagnoses of natural or unnatural conditions were equivocal. It is anticipated that these new definitions will be modified in the future to accommodate new understanding of SIDS and sudden infant death.',\n",
       "   'BACKGROUND Given the high value placed on children in sub-Saharan Africa, previous research suggests that infertility increases the risk of psychological distress and marital conflict, encourages risky sexual behavior and deprives infertile individuals and couples of an important source of economic and social capital. This paper explores the implications of infertility for women in Ghana, West Africa. METHODS Semi-structured interview data collected from 107 women (aged 21-48 years, mean 33 years) seeking treatment in gynecological and obstetric clinics in Accra, Ghana, are analyzed. Based on iterative open coding of the interviews, the focus of the analysis is on mental health, marital instability, social interaction and gendered experiences. RESULTS Infertile women report facing severe social stigma, marital strain and a range of mental health difficulties. Many women feel that they shoulder a disproportionate share of the blame for infertility and, by extension, face greater social consequences than male partners for difficulties conceiving. Women who do not self-identify as infertile corroborate these findings, asserting that the social consequences of infertility are severe, particularly for women. CONCLUSIONS Infertility in Ghana has important consequences for social interactions, marital stability and mental health. These consequences are not perceived to be shared equally by Ghanaian men.',\n",
       "   \"Detailed information on drowning in children is not routinely collected by offices of national statistics. Few studies have been carried out in the United Kingdom, and none has been done on British children abroad. In 1988-9, two of the authors (AMK and JRS) combined information from national statistical offices, police forces (Royal Life Saving Society), and from a press cutting service (Royal Society for Prevention of Accidents) for a detailed analysis of deaths by drowning in children.1, 2, 3 This analysis found that 149 children had drowned in the United Kingdom during 1998-9. It also identified a safety agenda, which focused on young children in garden ponds and pools and on older children swimming without supervision. Over the past 10 years there have been initiatives on children's safety in water, particularly swimming. We obtained similar information for 1998-9 to identify changes that have …\",\n",
       "   'Astrocyte differentiation, which occurs late in brain development, is largely dependent on the activation of a transcription factor, STAT3. We show that astrocytes, as judged by glial fibrillary acidic protein (GFAP) expression, never emerge from neuroepithelial cells on embryonic day (E) 11.5 even when STAT3 is activated, in contrast to E14.5 neuroepithelial cells. A CpG dinucleotide within a STAT3 binding element in the GFAP promoter is highly methylated in E11.5 neuroepithelial cells, but is demethylated in cells responsive to the STAT3 activation signal to express GFAP. This CpG methylation leads to inaccessibility of STAT3 to the binding element. We suggest that methylation of a cell type-specific gene promoter is a pivotal event in regulating lineage specification in the developing brain.',\n",
       "   'The tricyclic antidepressant, amitriptyline, is an effective drug for the treatment of chronic tension-type headache and for other chronic pain syndromes, but it is also effective in the prophylaxis of an episodic type of headache such as migraine. However, its efficacy in episodic tension-type headache has not yet been clarified. We compared the efficacy of amitriptyline (25 mg/day) in 82 nondepressed patients with either chronic or episodic tension-type headache in an open-label study. Amitriptyline significantly reduced (P < 0.05) frequency and duration of headache as well as analgesic consumption in chronic, but not in episodic, tension-type headache. Further placebo-controlled trials, possibly with higher doses of amitriptyline, might confirm if the different pattern of response to amitriptyline can be explained in terms of different involvement of central nociception and of peripheral myofascial factors in the chronic and in the episodic forms of tension-type headache.']},\n",
       " {'anchor': '1000 genomes projec* enable ma#ping of gene@ic sequence pas_seul consisting of rare variants with larger penetrancn effec*s than common variants.',\n",
       "  'positive': 'Genome-wide association studies (GWAS) have now identified at least 2,000 common variants that appear associated with common diseases or related traits (http://www.genome.gov/gwastudies), hundreds of which have been convincingly replicated. It is generally thought that the associated markers reflect the effect of a nearby common (minor allele frequency >0.05) causal site, which is associated with the marker, leading to extensive resequencing efforts to find causal sites. We propose as an alternative explanation that variants much less common than the associated one may create \"synthetic associations\" by occurring, stochastically, more often in association with one of the alleles at the common site versus the other allele. Although synthetic associations are an obvious theoretical possibility, they have never been systematically explored as a possible explanation for GWAS findings. Here, we use simple computer simulations to show the conditions under which such synthetic associations will arise and how they may be recognized. We show that they are not only possible, but inevitable, and that under simple but reasonable genetic models, they are likely to account for or contribute to many of the recently identified signals reported in genome-wide association studies. We also illustrate the behavior of synthetic associations in real datasets by showing that rare causal mutations responsible for both hearing loss and sickle cell anemia create genome-wide significant synthetic associations, in the latter case extending over a 2.5-Mb interval encompassing scores of \"blocks\" of associated variants. In conclusion, uncommon or rare genetic variants can easily create synthetic associations that are credited to common variants, and this possibility requires careful consideration in the interpretation and follow up of GWAS signals.',\n",
       "  'negatives': ['The embryonic stem (ES) cell transcriptional and chromatin-modifying networks are critical for self-renewal maintenance. However, it remains unclear whether these networks functionally interact and, if so, what factors mediate such interactions. Here, we show that WD repeat domain 5 (Wdr5), a core member of the mammalian Trithorax (trxG) complex, positively correlates with the undifferentiated state and is a regulator of ES cell self-renewal. We demonstrate that Wdr5, an \"effector\" of H3K4 methylation, interacts with the pluripotency transcription factor Oct4. Genome-wide protein localization and transcriptome analyses demonstrate overlapping gene regulatory functions between Oct4 and Wdr5. The Oct4-Sox2-Nanog circuitry and trxG cooperate in activating transcription of key self-renewal regulators, and furthermore, Wdr5 expression is required for the efficient formation of induced pluripotent stem (iPS) cells. We propose an integrated model of transcriptional and epigenetic control, mediated by select trxG members, for the maintenance of ES cell self-renewal and somatic cell reprogramming.',\n",
       "   'The morphogenesis of the C. elegans embryo is largely controlled by the development of the epidermis, also known as the hypodermis, a single epithelial layer that surrounds the animal. Morphogenesis of the epidermis involves cell-cell interactions with internal tissues, such as the developing nervous system and musculature. Genetic analysis of mutants with aberrant epidermal morphology has defined multiple steps in epidermal morphogenesis. In the wild type, epidermal cells are generated on the dorsal side of the embryo among the progeny of four early embryonic blastomeres. Specification of epidermal fate is regulated by a hierarchy of transcription factors. After specification, dorsal epidermal cells rearrange, a process known as dorsal intercalation. Most epidermal cells fuse to generate multinucleate syncytia. The dorsally located epidermal sheet undergoes epiboly to enclose the rest of the embryo in a process known as ventral enclosure; this movement requires both an intact epidermal layer and substrate neuroblasts. At least three distinct types of cellular behavior underlie the enclosure of different regions of the epidermis. Following enclosure, the epidermis elongates, a process driven by coordinated cell shape changes. Epidermal actin microfilaments, microtubules, and intermediate filaments all play roles in elongation, as do body wall muscles. The final shape of the epidermis is maintained by the collagenous exoskeleton, secreted by the apical surface of the epidermis.',\n",
       "   'Long noncoding RNAs (lncRNAs) are emerging as critical regulators of gene expression in the immune system. Studies have shown that lncRNAs are expressed in a highly lineage-specific manner and control the differentiation and function of innate and adaptive cell types. In this Review, we focus on mechanisms used by lncRNAs to regulate genes encoding products involved in the immune response, including direct interactions with chromatin, RNA and proteins. In addition, we address new areas of lncRNA biology, such as the functions of enhancer RNAs, circular RNAs and chemical modifications to RNA in cellular processes. We emphasize critical gaps in knowledge and future prospects for the roles of lncRNAs in the immune system and autoimmune disease.',\n",
       "   'BACKGROUND Drug-eluting stent (DES) implantation is routine during coronary revascularization because DES significantly reduce rates of restenosis and target lesion revascularization compared with bare metal stent (BMS). However, available DES have limitations, such as late thrombosis because of delayed healing with poorer endothelialization and persistent local inflammation. Statins can inhibit cell proliferation, inflammation, and restore endothelial function. The present study evaluated the ability of stent-based cerivastatin delivery to reduce stent-induced inflammatory responses and adverse effects on endothelial function, and to inhibit neointimal hyperplasia in a porcine coronary model. METHODS AND RESULTS Pigs were randomized into groups in which the coronary arteries (9 pigs, 18 coronaries in each group) had either a cerivastatin-eluting stent (CES) or a BMS. All animals survived without any adverse effects. Inflammatory cell infiltration evaluated using scanning electron microscopy on day 3 after stenting was significantly decreased in the treated vessels (inflammation score: 1.15+/-0.12 vs 2.43+/-0.34, p<0.0001). At day 28, endothelial function with intracoronary infusion of bradykinin was preserved in both the CES and BMS groups. Volumetric intravascular ultrasound images revealed decreased intimal volume in the CES group (28.3+/-5.4 vs 75.9+/-4.2 mm3, p<0.0001). Histomorphometric analysis showed reduced neointimal area (1.74+/-0.45 vs 3.83+/-0.51 mm2, p<0.0001) in the CES group despite similar injury scores (1.77+/-0.30 vs 1.77+/-0.22, p=0.97). CONCLUSION In porcine coronary arteries CES significantly decreased neointimal hyperplasia with a decreased early inflammatory response and without endothelial dysfunction.',\n",
       "   'PURPOSE Tyrosine kinase (TK) inhibitors are emerging as a promising new approach to the treatment of HER overexpressing tumors, however optimal use of these agents awaits further definition of the downstream signaling pathways that mediate their effects. We reported previously that both EGFR- and Her2-overexpressing tumors are sensitive to the new EGFR-selective TK inhibitor gefitinib (ZD1839, \"Iressa\"), and sensitivity to this agent correlated with its ability to down-regulate Akt. However, EGFR-overexpressing MDA-468 cells, which lack PTEN function, are resistant to ZD1839, and ZD1839 is unable to down-regulate Akt activity in these cells. EXPERIMENTAL DESIGN To study the role of PTEN function, we generated MDA468 cells with tet-inducible PTEN expression. RESULTS We show here that the resistance of MDA-468 cells to ZD1839 is attributable to EGFR-independent constitutive Akt activation caused by loss of PTEN function in these cells. Reconstitution of PTEN function through tet-inducible expression restores ZD1839 sensitivity to these cells and reestablishes EGFR-stimulated Akt signaling. Although restoration of PTEN function to tumors is difficult to implement clinically, much of the effects of PTEN loss are attributable to overactive PI3K/Akt pathway signaling, and this overactivity can be modulated by pharmacologic approaches. We show here that pharmacologic down-regulation of constitutive PI3K/Akt pathway signaling using the PI3K inhibitor LY294002 similarly restores EGFR-stimulated Akt signaling and sensitizes MDA-468 cells to ZD1839. CONCLUSIONS Sensitivity to ZD1839 requires intact growth factor receptor-stimulated Akt signaling activity. PTEN loss leads to uncoupling of this signaling pathway and results in ZD1839 resistance, which can be reversed with reintroduction of PTEN or pharmacologic down-regulation of constitutive PI3K/Akt pathway activity. These data have important predictive and therapeutic clinical implications.']}]"
      ]
     },
     "execution_count": 8,
     "metadata": {},
     "output_type": "execute_result"
    }
   ],
   "source": [
    "contrastive_pairs[0:2]"
   ]
  },
  {
   "cell_type": "code",
   "execution_count": 9,
   "id": "8ade92f9-e3df-4d0a-b849-b1a721e18cf6",
   "metadata": {
    "execution": {
     "iopub.execute_input": "2025-03-05T00:52:54.174624Z",
     "iopub.status.busy": "2025-03-05T00:52:54.174243Z",
     "iopub.status.idle": "2025-03-05T00:52:54.177855Z",
     "shell.execute_reply": "2025-03-05T00:52:54.177569Z"
    },
    "papermill": {
     "duration": 0.010717,
     "end_time": "2025-03-05T00:52:54.178701",
     "exception": false,
     "start_time": "2025-03-05T00:52:54.167984",
     "status": "completed"
    },
    "tags": []
   },
   "outputs": [
    {
     "data": {
      "text/plain": [
       "300"
      ]
     },
     "execution_count": 9,
     "metadata": {},
     "output_type": "execute_result"
    }
   ],
   "source": [
    "len(qrels)"
   ]
  },
  {
   "cell_type": "code",
   "execution_count": 10,
   "id": "6b97f7b4-f007-41f6-bfbb-1b9b01665e9d",
   "metadata": {
    "execution": {
     "iopub.execute_input": "2025-03-05T00:52:54.191168Z",
     "iopub.status.busy": "2025-03-05T00:52:54.190892Z",
     "iopub.status.idle": "2025-03-05T00:52:57.425719Z",
     "shell.execute_reply": "2025-03-05T00:52:57.425141Z"
    },
    "papermill": {
     "duration": 3.242323,
     "end_time": "2025-03-05T00:52:57.426992",
     "exception": false,
     "start_time": "2025-03-05T00:52:54.184669",
     "status": "completed"
    },
    "tags": []
   },
   "outputs": [],
   "source": [
    "from torch.utils.data import DataLoader"
   ]
  },
  {
   "cell_type": "code",
   "execution_count": 11,
   "id": "a415b29a-a543-4679-8f78-44f715b3067d",
   "metadata": {
    "execution": {
     "iopub.execute_input": "2025-03-05T00:52:57.441354Z",
     "iopub.status.busy": "2025-03-05T00:52:57.440785Z",
     "iopub.status.idle": "2025-03-05T00:52:57.444127Z",
     "shell.execute_reply": "2025-03-05T00:52:57.443776Z"
    },
    "papermill": {
     "duration": 0.010699,
     "end_time": "2025-03-05T00:52:57.444894",
     "exception": false,
     "start_time": "2025-03-05T00:52:57.434195",
     "status": "completed"
    },
    "tags": []
   },
   "outputs": [],
   "source": [
    "class ContrastiveDataset:\n",
    "    def __init__(self, pairs):\n",
    "        self.pairs = pairs\n",
    "\n",
    "    def __len__(self):\n",
    "        return len(self.pairs)\n",
    "\n",
    "    def __getitem__(self, idx):\n",
    "        item = self.pairs[idx]\n",
    "        return item[\"anchor\"], item[\"positive\"], item[\"negatives\"]"
   ]
  },
  {
   "cell_type": "code",
   "execution_count": 12,
   "id": "a39efeab-fd20-411a-80c5-315f362e00d2",
   "metadata": {
    "execution": {
     "iopub.execute_input": "2025-03-05T00:52:57.457126Z",
     "iopub.status.busy": "2025-03-05T00:52:57.456860Z",
     "iopub.status.idle": "2025-03-05T00:52:57.462822Z",
     "shell.execute_reply": "2025-03-05T00:52:57.462474Z"
    },
    "papermill": {
     "duration": 0.013518,
     "end_time": "2025-03-05T00:52:57.464260",
     "exception": false,
     "start_time": "2025-03-05T00:52:57.450742",
     "status": "completed"
    },
    "tags": []
   },
   "outputs": [],
   "source": [
    "contrastive_dataset = ContrastiveDataset(contrastive_pairs)"
   ]
  },
  {
   "cell_type": "code",
   "execution_count": 13,
   "id": "d103bbfa-895a-4020-a7e5-21de659f27dc",
   "metadata": {
    "execution": {
     "iopub.execute_input": "2025-03-05T00:52:57.479032Z",
     "iopub.status.busy": "2025-03-05T00:52:57.478608Z",
     "iopub.status.idle": "2025-03-05T00:52:57.481805Z",
     "shell.execute_reply": "2025-03-05T00:52:57.481461Z"
    },
    "papermill": {
     "duration": 0.010839,
     "end_time": "2025-03-05T00:52:57.482634",
     "exception": false,
     "start_time": "2025-03-05T00:52:57.471795",
     "status": "completed"
    },
    "tags": []
   },
   "outputs": [],
   "source": [
    "data_loader = DataLoader(contrastive_dataset, batch_size=32, shuffle=True)"
   ]
  },
  {
   "cell_type": "code",
   "execution_count": 14,
   "id": "c8b0277f-f526-4087-82da-c4cdd65d32da",
   "metadata": {
    "execution": {
     "iopub.execute_input": "2025-03-05T00:52:57.493749Z",
     "iopub.status.busy": "2025-03-05T00:52:57.493623Z",
     "iopub.status.idle": "2025-03-05T00:52:57.500089Z",
     "shell.execute_reply": "2025-03-05T00:52:57.499742Z"
    },
    "papermill": {
     "duration": 0.013083,
     "end_time": "2025-03-05T00:52:57.500917",
     "exception": false,
     "start_time": "2025-03-05T00:52:57.487834",
     "status": "completed"
    },
    "tags": []
   },
   "outputs": [
    {
     "data": {
      "text/plain": [
       "10"
      ]
     },
     "execution_count": 14,
     "metadata": {},
     "output_type": "execute_result"
    }
   ],
   "source": [
    "len(data_loader)"
   ]
  },
  {
   "cell_type": "code",
   "execution_count": 15,
   "id": "e15526a4-b3fe-435b-91c9-ad4064562f0f",
   "metadata": {
    "execution": {
     "iopub.execute_input": "2025-03-05T00:52:57.513254Z",
     "iopub.status.busy": "2025-03-05T00:52:57.513125Z",
     "iopub.status.idle": "2025-03-05T00:53:01.340059Z",
     "shell.execute_reply": "2025-03-05T00:53:01.339448Z"
    },
    "papermill": {
     "duration": 3.834427,
     "end_time": "2025-03-05T00:53:01.341153",
     "exception": false,
     "start_time": "2025-03-05T00:52:57.506726",
     "status": "completed"
    },
    "tags": []
   },
   "outputs": [
    {
     "name": "stderr",
     "output_type": "stream",
     "text": [
      "/tmp/ipykernel_1203583/261098231.py:3: FutureWarning: You are using `torch.load` with `weights_only=False` (the current default value), which uses the default pickle module implicitly. It is possible to construct malicious pickle data which will execute arbitrary code during unpickling (See https://github.com/pytorch/pytorch/blob/main/SECURITY.md#untrusted-models for more details). In a future release, the default value for `weights_only` will be flipped to `True`. This limits the functions that could be executed during unpickling. Arbitrary objects will no longer be allowed to be loaded via this mode unless they are explicitly allowlisted by the user via `torch.serialization.add_safe_globals`. We recommend you start setting `weights_only=True` for any use case where you don't have full control of the loaded file. Please open an issue on GitHub for any issues related to this experimental feature.\n",
      "  lora_model_baseline = torch.load(file_path_baseline)\n"
     ]
    }
   ],
   "source": [
    "import torch\n",
    "file_path_baseline =\"/dss/dsshome1/07/ra65bex2/srawat/contrastive_learning/v1.1/app_baseline/checkpoint_epoch_3.pth\"\n",
    "lora_model_baseline = torch.load(file_path_baseline)"
   ]
  },
  {
   "cell_type": "code",
   "execution_count": 16,
   "id": "9999e628-5966-4dda-b5c5-c0d762fce27d",
   "metadata": {
    "execution": {
     "iopub.execute_input": "2025-03-05T00:53:01.359129Z",
     "iopub.status.busy": "2025-03-05T00:53:01.358677Z",
     "iopub.status.idle": "2025-03-05T00:53:01.363980Z",
     "shell.execute_reply": "2025-03-05T00:53:01.363622Z"
    },
    "papermill": {
     "duration": 0.012004,
     "end_time": "2025-03-05T00:53:01.364710",
     "exception": false,
     "start_time": "2025-03-05T00:53:01.352706",
     "status": "completed"
    },
    "tags": []
   },
   "outputs": [],
   "source": [
    "device = torch.device('cuda' if torch.cuda.is_available() else 'cpu')\n",
    "lora_model_baseline = lora_model_baseline.to(device)"
   ]
  },
  {
   "cell_type": "code",
   "execution_count": 17,
   "id": "7e6a3a61-8db0-43db-b575-6399f8515950",
   "metadata": {
    "execution": {
     "iopub.execute_input": "2025-03-05T00:53:01.374868Z",
     "iopub.status.busy": "2025-03-05T00:53:01.374737Z",
     "iopub.status.idle": "2025-03-05T00:53:01.579228Z",
     "shell.execute_reply": "2025-03-05T00:53:01.578680Z"
    },
    "papermill": {
     "duration": 0.21089,
     "end_time": "2025-03-05T00:53:01.580306",
     "exception": false,
     "start_time": "2025-03-05T00:53:01.369416",
     "status": "completed"
    },
    "tags": []
   },
   "outputs": [],
   "source": [
    "from transformers import AutoTokenizer, AutoModel\n",
    "tokenizer = AutoTokenizer.from_pretrained(\"bert-base-uncased\")"
   ]
  },
  {
   "cell_type": "code",
   "execution_count": 18,
   "id": "68ac4919-76f1-4349-a314-4b1061126655",
   "metadata": {
    "execution": {
     "iopub.execute_input": "2025-03-05T00:53:01.591918Z",
     "iopub.status.busy": "2025-03-05T00:53:01.591408Z",
     "iopub.status.idle": "2025-03-05T00:53:01.594307Z",
     "shell.execute_reply": "2025-03-05T00:53:01.593960Z"
    },
    "papermill": {
     "duration": 0.009572,
     "end_time": "2025-03-05T00:53:01.595212",
     "exception": false,
     "start_time": "2025-03-05T00:53:01.585640",
     "status": "completed"
    },
    "tags": []
   },
   "outputs": [],
   "source": [
    "def cosine_distance(x, y):\n",
    "    return 1 - torch.nn.functional.cosine_similarity(x, y, dim=-1)"
   ]
  },
  {
   "cell_type": "code",
   "execution_count": 19,
   "id": "990f63bd-4d48-4f58-a001-3b3250f65312",
   "metadata": {
    "execution": {
     "iopub.execute_input": "2025-03-05T00:53:01.610366Z",
     "iopub.status.busy": "2025-03-05T00:53:01.610236Z",
     "iopub.status.idle": "2025-03-05T00:53:01.661261Z",
     "shell.execute_reply": "2025-03-05T00:53:01.660746Z"
    },
    "papermill": {
     "duration": 0.060147,
     "end_time": "2025-03-05T00:53:01.662458",
     "exception": false,
     "start_time": "2025-03-05T00:53:01.602311",
     "status": "completed"
    },
    "tags": []
   },
   "outputs": [],
   "source": [
    "def evaluate_mrr_baseline(model, data_loader_val, distance_fn):\n",
    "    model.eval()\n",
    "\n",
    "    total_rr = 0.0\n",
    "    num_queries = 0\n",
    "\n",
    "    with torch.no_grad():\n",
    "        for batch in data_loader_val:\n",
    "            anchor_text = batch[0]\n",
    "            positive_text = batch[1]\n",
    "            negative_texts = batch[2]\n",
    "\n",
    "            anchor_input = tokenizer(anchor_text, return_tensors='pt', padding=True, truncation=True, max_length=512).to(device)\n",
    "            positive_input = tokenizer(positive_text, return_tensors='pt', padding=True, truncation=True, max_length=512).to(device)\n",
    "\n",
    "            anchor_embedding = model(**anchor_input).last_hidden_state[:, 0, :]\n",
    "            positive_embedding = model(**positive_input).last_hidden_state[:, 0, :]\n",
    "            negative_embedding = [model(**tokenizer(neg, return_tensors='pt', padding=True, truncation=True, max_length=512).to(device)).last_hidden_state[:, 0, :] for neg in negative_texts]\n",
    "\n",
    "            pos_dist = distance_fn(anchor_embedding, positive_embedding)\n",
    "            neg_dist = torch.stack([distance_fn(anchor_embedding, neg) for neg in negative_embedding], dim=-1)\n",
    "            all_similarities=torch.cat([-pos_dist.unsqueeze(1), -neg_dist], dim=1)\n",
    "\n",
    "            sorted_similarities, sorted_indices = torch.sort(all_similarities, dim=1, descending=True)\n",
    "\n",
    "            # Find the rank of the first relevant (positive) document\n",
    "            positive_rank = (sorted_indices == 0).nonzero(as_tuple=True)[1] + 1  # +1 to make rank 1-based\n",
    "            total_rr += torch.sum(1.0 / positive_rank.float()).item()  # Reciprocal rank\n",
    "            num_queries += len(positive_rank)\n",
    "\n",
    "    mrr = total_rr / num_queries\n",
    "    return mrr"
   ]
  },
  {
   "cell_type": "code",
   "execution_count": 20,
   "id": "534a9ec5-4211-4cb6-81f1-fb8a30caff92",
   "metadata": {
    "execution": {
     "iopub.execute_input": "2025-03-05T00:53:01.674005Z",
     "iopub.status.busy": "2025-03-05T00:53:01.673873Z",
     "iopub.status.idle": "2025-03-05T00:53:13.187898Z",
     "shell.execute_reply": "2025-03-05T00:53:13.187217Z"
    },
    "papermill": {
     "duration": 11.520813,
     "end_time": "2025-03-05T00:53:13.188724",
     "exception": false,
     "start_time": "2025-03-05T00:53:01.667911",
     "status": "completed"
    },
    "tags": []
   },
   "outputs": [
    {
     "name": "stdout",
     "output_type": "stream",
     "text": [
      "0.5023333358764649\n"
     ]
    }
   ],
   "source": [
    "mrr_validation_baseline = evaluate_mrr_baseline(lora_model_baseline, data_loader, cosine_distance)\n",
    "print(mrr_validation_baseline)"
   ]
  },
  {
   "cell_type": "code",
   "execution_count": null,
   "id": "f61bbd65-41c9-4ac7-80ef-ba4a4fb02d45",
   "metadata": {
    "papermill": {
     "duration": 0.00673,
     "end_time": "2025-03-05T00:53:13.209572",
     "exception": false,
     "start_time": "2025-03-05T00:53:13.202842",
     "status": "completed"
    },
    "tags": []
   },
   "outputs": [],
   "source": []
  },
  {
   "cell_type": "code",
   "execution_count": 21,
   "id": "8a3dfd17-ee43-4c4e-9287-8ec6451bc062",
   "metadata": {
    "execution": {
     "iopub.execute_input": "2025-03-05T00:53:13.222095Z",
     "iopub.status.busy": "2025-03-05T00:53:13.221434Z",
     "iopub.status.idle": "2025-03-05T00:53:13.584928Z",
     "shell.execute_reply": "2025-03-05T00:53:13.584344Z"
    },
    "papermill": {
     "duration": 0.370158,
     "end_time": "2025-03-05T00:53:13.585999",
     "exception": false,
     "start_time": "2025-03-05T00:53:13.215841",
     "status": "completed"
    },
    "tags": []
   },
   "outputs": [
    {
     "name": "stderr",
     "output_type": "stream",
     "text": [
      "/tmp/ipykernel_1203583/2975798179.py:2: FutureWarning: You are using `torch.load` with `weights_only=False` (the current default value), which uses the default pickle module implicitly. It is possible to construct malicious pickle data which will execute arbitrary code during unpickling (See https://github.com/pytorch/pytorch/blob/main/SECURITY.md#untrusted-models for more details). In a future release, the default value for `weights_only` will be flipped to `True`. This limits the functions that could be executed during unpickling. Arbitrary objects will no longer be allowed to be loaded via this mode unless they are explicitly allowlisted by the user via `torch.serialization.add_safe_globals`. We recommend you start setting `weights_only=True` for any use case where you don't have full control of the loaded file. Please open an issue on GitHub for any issues related to this experimental feature.\n",
      "  lora_model_average = torch.load(file_path_average)\n"
     ]
    }
   ],
   "source": [
    "file_path_average=\"/dss/dsshome1/07/ra65bex2/srawat/contrastive_learning/v1.1/app_average/average_checkpoint_epoch_3.pth\"\n",
    "lora_model_average = torch.load(file_path_average)\n",
    "lora_model_average = lora_model_average.to(device)"
   ]
  },
  {
   "cell_type": "code",
   "execution_count": 22,
   "id": "49c10d3f-c53d-4222-aba4-0e763451baff",
   "metadata": {
    "execution": {
     "iopub.execute_input": "2025-03-05T00:53:13.598568Z",
     "iopub.status.busy": "2025-03-05T00:53:13.598016Z",
     "iopub.status.idle": "2025-03-05T00:53:13.601506Z",
     "shell.execute_reply": "2025-03-05T00:53:13.601145Z"
    },
    "papermill": {
     "duration": 0.010458,
     "end_time": "2025-03-05T00:53:13.602349",
     "exception": false,
     "start_time": "2025-03-05T00:53:13.591891",
     "status": "completed"
    },
    "tags": []
   },
   "outputs": [],
   "source": [
    "def avg_embedding(inputs, model):\n",
    "    input=model(**inputs)\n",
    "    input_last_hidden_state=input.last_hidden_state\n",
    "    input_attention_mask = inputs['attention_mask']\n",
    "    input_masked_embeddings = input_last_hidden_state * input_attention_mask.unsqueeze(-1)\n",
    "    input_sum_embeddings = torch.sum(input_masked_embeddings, dim=1)\n",
    "    input_token_counts = torch.sum(input_attention_mask, dim=1).unsqueeze(-1)\n",
    "    input_avg_embeddings = input_sum_embeddings / input_token_counts\n",
    "    return(input_avg_embeddings)"
   ]
  },
  {
   "cell_type": "code",
   "execution_count": 23,
   "id": "22570a1b-93bf-41ef-99fe-de41c3857b41",
   "metadata": {
    "execution": {
     "iopub.execute_input": "2025-03-05T00:53:13.612603Z",
     "iopub.status.busy": "2025-03-05T00:53:13.612260Z",
     "iopub.status.idle": "2025-03-05T00:53:13.620634Z",
     "shell.execute_reply": "2025-03-05T00:53:13.620277Z"
    },
    "papermill": {
     "duration": 0.014751,
     "end_time": "2025-03-05T00:53:13.622022",
     "exception": false,
     "start_time": "2025-03-05T00:53:13.607271",
     "status": "completed"
    },
    "tags": []
   },
   "outputs": [],
   "source": [
    "def evaluate_mrr_average(model, data_loader_val, distance_fn):\n",
    "    model.eval()  \n",
    "\n",
    "    total_rr = 0.0\n",
    "    num_queries = 0\n",
    "\n",
    "    with torch.no_grad():\n",
    "        for batch in data_loader_val:\n",
    "            anchor_text = batch[0]\n",
    "            positive_text = batch[1]\n",
    "            negative_texts = batch[2]\n",
    "\n",
    "            anchor_input = tokenizer(anchor_text, return_tensors='pt', padding=True, truncation=True, max_length=512).to(device)\n",
    "            positive_input = tokenizer(positive_text, return_tensors='pt', padding=True, truncation=True, max_length=512).to(device)\n",
    "\n",
    "            anchor_embedding = avg_embedding(anchor_input, model)\n",
    "            positive_embedding = avg_embedding(positive_input, model)\n",
    "            negative_embedding = [avg_embedding(tokenizer(neg, return_tensors='pt', padding=True, truncation=True, max_length=512).to(device), model) for neg in negative_texts]\n",
    "\n",
    "            pos_dist = distance_fn(anchor_embedding, positive_embedding)\n",
    "            neg_dist = torch.stack([distance_fn(anchor_embedding, neg) for neg in negative_embedding], dim=-1)\n",
    "            all_similarities=torch.cat([-pos_dist.unsqueeze(1), -neg_dist], dim=1)\n",
    "            \n",
    "            sorted_similarities, sorted_indices = torch.sort(all_similarities, dim=1, descending=True)\n",
    "\n",
    "            # Find the rank of the first relevant (positive) document\n",
    "            positive_rank = (sorted_indices == 0).nonzero(as_tuple=True)[1] + 1  # +1 to make rank 1-based\n",
    "            total_rr += torch.sum(1.0 / positive_rank.float()).item()  # Reciprocal rank\n",
    "            num_queries += len(positive_rank)\n",
    "\n",
    "    mrr = total_rr / num_queries\n",
    "    return mrr"
   ]
  },
  {
   "cell_type": "code",
   "execution_count": 24,
   "id": "82977667-a984-467e-9eb6-9d6520ecb3b8",
   "metadata": {
    "execution": {
     "iopub.execute_input": "2025-03-05T00:53:13.633355Z",
     "iopub.status.busy": "2025-03-05T00:53:13.632835Z",
     "iopub.status.idle": "2025-03-05T00:53:24.392897Z",
     "shell.execute_reply": "2025-03-05T00:53:24.392222Z"
    },
    "papermill": {
     "duration": 10.766635,
     "end_time": "2025-03-05T00:53:24.393749",
     "exception": false,
     "start_time": "2025-03-05T00:53:13.627114",
     "status": "completed"
    },
    "tags": []
   },
   "outputs": [
    {
     "name": "stdout",
     "output_type": "stream",
     "text": [
      "0.5580555693308512\n"
     ]
    }
   ],
   "source": [
    "mrr_validation_average = evaluate_mrr_average(lora_model_average, data_loader, cosine_distance)\n",
    "print(mrr_validation_average)"
   ]
  },
  {
   "cell_type": "code",
   "execution_count": null,
   "id": "966c23c7-dc92-49e8-bb1f-1520c0ccd13b",
   "metadata": {
    "papermill": {
     "duration": 0.00555,
     "end_time": "2025-03-05T00:53:24.412559",
     "exception": false,
     "start_time": "2025-03-05T00:53:24.407009",
     "status": "completed"
    },
    "tags": []
   },
   "outputs": [],
   "source": []
  },
  {
   "cell_type": "code",
   "execution_count": 25,
   "id": "af58281c-1786-4bda-9eec-0fa0f127d140",
   "metadata": {
    "execution": {
     "iopub.execute_input": "2025-03-05T00:53:24.424191Z",
     "iopub.status.busy": "2025-03-05T00:53:24.424014Z",
     "iopub.status.idle": "2025-03-05T00:53:24.801710Z",
     "shell.execute_reply": "2025-03-05T00:53:24.800862Z"
    },
    "papermill": {
     "duration": 0.38477,
     "end_time": "2025-03-05T00:53:24.802843",
     "exception": false,
     "start_time": "2025-03-05T00:53:24.418073",
     "status": "completed"
    },
    "tags": []
   },
   "outputs": [
    {
     "name": "stderr",
     "output_type": "stream",
     "text": [
      "/tmp/ipykernel_1203583/2502257612.py:2: FutureWarning: You are using `torch.load` with `weights_only=False` (the current default value), which uses the default pickle module implicitly. It is possible to construct malicious pickle data which will execute arbitrary code during unpickling (See https://github.com/pytorch/pytorch/blob/main/SECURITY.md#untrusted-models for more details). In a future release, the default value for `weights_only` will be flipped to `True`. This limits the functions that could be executed during unpickling. Arbitrary objects will no longer be allowed to be loaded via this mode unless they are explicitly allowlisted by the user via `torch.serialization.add_safe_globals`. We recommend you start setting `weights_only=True` for any use case where you don't have full control of the loaded file. Please open an issue on GitHub for any issues related to this experimental feature.\n",
      "  lora_model_hyperbolic = torch.load(file_path_hyperbolic)\n"
     ]
    }
   ],
   "source": [
    "file_path_hyperbolic=\"/dss/dsshome1/07/ra65bex2/srawat/contrastive_learning/v1.1/0.1hyperbolic/hyperbolic_lora_checkpoint_epoch_3.pth\"\n",
    "lora_model_hyperbolic = torch.load(file_path_hyperbolic)\n",
    "lora_model_hyperbolic = lora_model_hyperbolic.to(device)"
   ]
  },
  {
   "cell_type": "code",
   "execution_count": 26,
   "id": "d6f9507b-01e9-49d0-8327-760677bfcf0b",
   "metadata": {
    "execution": {
     "iopub.execute_input": "2025-03-05T00:53:24.817072Z",
     "iopub.status.busy": "2025-03-05T00:53:24.816500Z",
     "iopub.status.idle": "2025-03-05T00:53:24.819729Z",
     "shell.execute_reply": "2025-03-05T00:53:24.819370Z"
    },
    "papermill": {
     "duration": 0.011681,
     "end_time": "2025-03-05T00:53:24.820706",
     "exception": false,
     "start_time": "2025-03-05T00:53:24.809025",
     "status": "completed"
    },
    "tags": []
   },
   "outputs": [],
   "source": [
    "def lorentzian_distance(x, y):\n",
    "    \n",
    "    dot_product = torch.sum(x * y, dim=-1)\n",
    "    norm_x = torch.norm(x, dim=-1)\n",
    "    norm_y = torch.norm(y, dim=-1)\n",
    "    \n",
    "    distance = torch.acosh(-dot_product + torch.sqrt((1 + norm_x**2) * (1 + norm_y**2)))\n",
    "    return distance"
   ]
  },
  {
   "cell_type": "code",
   "execution_count": 27,
   "id": "de4ecc53-8b64-4fee-bfbf-d3b85d441d1f",
   "metadata": {
    "execution": {
     "iopub.execute_input": "2025-03-05T00:53:24.832531Z",
     "iopub.status.busy": "2025-03-05T00:53:24.832206Z",
     "iopub.status.idle": "2025-03-05T00:53:24.838427Z",
     "shell.execute_reply": "2025-03-05T00:53:24.838075Z"
    },
    "papermill": {
     "duration": 0.012543,
     "end_time": "2025-03-05T00:53:24.839273",
     "exception": false,
     "start_time": "2025-03-05T00:53:24.826730",
     "status": "completed"
    },
    "tags": []
   },
   "outputs": [],
   "source": [
    "def expm_o(v, c=1.0):\n",
    "    c = torch.tensor(c)\n",
    "    vspace = v\n",
    "    vnorm = torch.norm(v, p=2, dim=-1, keepdim=True)\n",
    "    xspace = torch.sinh(torch.sqrt(c) * vnorm) * vspace / (torch.sqrt(c) * vnorm)\n",
    "    batch_min = xspace.min(dim=1, keepdim=True).values\n",
    "    batch_max = xspace.max(dim=1, keepdim=True).values\n",
    "    xspace_scaled=(xspace - batch_min) / (batch_max - batch_min)\n",
    "    return xspace_scaled"
   ]
  },
  {
   "cell_type": "code",
   "execution_count": 28,
   "id": "c6639968-6b1d-4601-a69f-6e83b9863ab6",
   "metadata": {
    "execution": {
     "iopub.execute_input": "2025-03-05T00:53:24.851225Z",
     "iopub.status.busy": "2025-03-05T00:53:24.850929Z",
     "iopub.status.idle": "2025-03-05T00:53:24.857285Z",
     "shell.execute_reply": "2025-03-05T00:53:24.856752Z"
    },
    "papermill": {
     "duration": 0.013089,
     "end_time": "2025-03-05T00:53:24.858216",
     "exception": false,
     "start_time": "2025-03-05T00:53:24.845127",
     "status": "completed"
    },
    "tags": []
   },
   "outputs": [],
   "source": [
    "def evaluate_mrr_hyperbolic(model1, data_loader_val, distance_fn):\n",
    "    model1.eval()\n",
    "    \n",
    "    total_rr = 0.0\n",
    "    num_queries = 0\n",
    "\n",
    "    with torch.no_grad():\n",
    "        for batch in data_loader_val:\n",
    "            anchor_text = batch[0]\n",
    "            positive_text = batch[1]\n",
    "            negative_texts = batch[2]\n",
    "\n",
    "            anchor_input = tokenizer(anchor_text, return_tensors='pt', padding=True, truncation=True, max_length=512).to(device)\n",
    "            positive_input = tokenizer(positive_text, return_tensors='pt', padding=True, truncation=True, max_length=512).to(device)\n",
    "\n",
    "            anchor_embedding = expm_o(model1(**anchor_input).last_hidden_state[:, 0, :])\n",
    "            positive_embedding = expm_o(model1(**positive_input).last_hidden_state[:, 0, :])\n",
    "            negative_embedding = [expm_o(model1(**tokenizer(neg, return_tensors='pt', padding=True, truncation=True, max_length=512).to(device)).last_hidden_state[:, 0, :]) for neg in negative_texts]\n",
    "\n",
    "            pos_dist = distance_fn(anchor_embedding, positive_embedding)\n",
    "            neg_dist = torch.stack([distance_fn(anchor_embedding, neg) for neg in negative_embedding], dim=-1)\n",
    "            all_similarities=torch.cat([-pos_dist.unsqueeze(1), -neg_dist], dim=1)\n",
    "\n",
    "            sorted_similarities, sorted_indices = torch.sort(all_similarities, dim=1, descending=True)\n",
    "\n",
    "            # Find the rank of the first relevant (positive) document\n",
    "            positive_rank = (sorted_indices == 0).nonzero(as_tuple=True)[1] + 1  # +1 to make rank 1-based\n",
    "            total_rr += torch.sum(1.0 / positive_rank.float()).item()  # Reciprocal rank\n",
    "            num_queries += len(positive_rank)\n",
    "            \n",
    "    mrr = total_rr / num_queries\n",
    "    return mrr"
   ]
  },
  {
   "cell_type": "code",
   "execution_count": 29,
   "id": "9c54c77e-2dde-4c88-9eaf-439a409e845e",
   "metadata": {
    "execution": {
     "iopub.execute_input": "2025-03-05T00:53:24.869180Z",
     "iopub.status.busy": "2025-03-05T00:53:24.869052Z",
     "iopub.status.idle": "2025-03-05T00:53:35.755143Z",
     "shell.execute_reply": "2025-03-05T00:53:35.754448Z"
    },
    "papermill": {
     "duration": 10.892358,
     "end_time": "2025-03-05T00:53:35.756006",
     "exception": false,
     "start_time": "2025-03-05T00:53:24.863648",
     "status": "completed"
    },
    "tags": []
   },
   "outputs": [
    {
     "name": "stdout",
     "output_type": "stream",
     "text": [
      "0.4474444500605265\n"
     ]
    }
   ],
   "source": [
    "mrr_validation_hyperbolic = evaluate_mrr_hyperbolic(model1=lora_model_hyperbolic, data_loader_val=data_loader,distance_fn=lorentzian_distance)\n",
    "print(mrr_validation_hyperbolic)"
   ]
  },
  {
   "cell_type": "code",
   "execution_count": null,
   "id": "3e097240-0b21-4a85-8959-2c74522b15a8",
   "metadata": {
    "papermill": {
     "duration": 0.004925,
     "end_time": "2025-03-05T00:53:35.772999",
     "exception": false,
     "start_time": "2025-03-05T00:53:35.768074",
     "status": "completed"
    },
    "tags": []
   },
   "outputs": [],
   "source": []
  },
  {
   "cell_type": "code",
   "execution_count": 30,
   "id": "d883371b-b6e4-40de-b212-93ed5fcb6061",
   "metadata": {
    "execution": {
     "iopub.execute_input": "2025-03-05T00:53:35.783567Z",
     "iopub.status.busy": "2025-03-05T00:53:35.783272Z",
     "iopub.status.idle": "2025-03-05T00:53:35.789447Z",
     "shell.execute_reply": "2025-03-05T00:53:35.789044Z"
    },
    "papermill": {
     "duration": 0.012421,
     "end_time": "2025-03-05T00:53:35.790136",
     "exception": false,
     "start_time": "2025-03-05T00:53:35.777715",
     "status": "completed"
    },
    "tags": []
   },
   "outputs": [
    {
     "name": "stdout",
     "output_type": "stream",
     "text": [
      "Median Query Length: 12.0\n"
     ]
    }
   ],
   "source": [
    "import statistics\n",
    "print(\"Median Query Length:\", statistics.median(query_lengths))"
   ]
  },
  {
   "cell_type": "code",
   "execution_count": 31,
   "id": "4b02b505-a8f9-480d-959e-effcbc2ed3a2",
   "metadata": {
    "execution": {
     "iopub.execute_input": "2025-03-05T00:53:35.800411Z",
     "iopub.status.busy": "2025-03-05T00:53:35.800282Z",
     "iopub.status.idle": "2025-03-05T00:53:35.806461Z",
     "shell.execute_reply": "2025-03-05T00:53:35.806060Z"
    },
    "papermill": {
     "duration": 0.012634,
     "end_time": "2025-03-05T00:53:35.807741",
     "exception": false,
     "start_time": "2025-03-05T00:53:35.795107",
     "status": "completed"
    },
    "tags": []
   },
   "outputs": [
    {
     "data": {
      "text/plain": [
       "0.5023333358764649"
      ]
     },
     "execution_count": 31,
     "metadata": {},
     "output_type": "execute_result"
    }
   ],
   "source": [
    "mrr_validation_baseline"
   ]
  },
  {
   "cell_type": "code",
   "execution_count": 32,
   "id": "5c10dccb-fbc7-448b-b3d9-4d7e045dafd3",
   "metadata": {
    "execution": {
     "iopub.execute_input": "2025-03-05T00:53:35.820018Z",
     "iopub.status.busy": "2025-03-05T00:53:35.819683Z",
     "iopub.status.idle": "2025-03-05T00:53:35.823505Z",
     "shell.execute_reply": "2025-03-05T00:53:35.823171Z"
    },
    "papermill": {
     "duration": 0.010598,
     "end_time": "2025-03-05T00:53:35.824146",
     "exception": false,
     "start_time": "2025-03-05T00:53:35.813548",
     "status": "completed"
    },
    "tags": []
   },
   "outputs": [
    {
     "data": {
      "text/plain": [
       "0.5580555693308512"
      ]
     },
     "execution_count": 32,
     "metadata": {},
     "output_type": "execute_result"
    }
   ],
   "source": [
    "mrr_validation_average"
   ]
  },
  {
   "cell_type": "code",
   "execution_count": 33,
   "id": "b9c22c87-c20f-4a86-a8d3-d941340ea726",
   "metadata": {
    "execution": {
     "iopub.execute_input": "2025-03-05T00:53:35.835633Z",
     "iopub.status.busy": "2025-03-05T00:53:35.835300Z",
     "iopub.status.idle": "2025-03-05T00:53:35.839442Z",
     "shell.execute_reply": "2025-03-05T00:53:35.839104Z"
    },
    "papermill": {
     "duration": 0.010877,
     "end_time": "2025-03-05T00:53:35.840214",
     "exception": false,
     "start_time": "2025-03-05T00:53:35.829337",
     "status": "completed"
    },
    "tags": []
   },
   "outputs": [
    {
     "data": {
      "text/plain": [
       "0.4474444500605265"
      ]
     },
     "execution_count": 33,
     "metadata": {},
     "output_type": "execute_result"
    }
   ],
   "source": [
    "mrr_validation_hyperbolic"
   ]
  }
 ],
 "metadata": {
  "kernelspec": {
   "display_name": "Python (myenv)",
   "language": "python",
   "name": "myenv"
  },
  "language_info": {
   "codemirror_mode": {
    "name": "ipython",
    "version": 3
   },
   "file_extension": ".py",
   "mimetype": "text/x-python",
   "name": "python",
   "nbconvert_exporter": "python",
   "pygments_lexer": "ipython3",
   "version": "3.12.7"
  },
  "papermill": {
   "default_parameters": {},
   "duration": 51.588603,
   "end_time": "2025-03-05T00:53:37.868092",
   "environment_variables": {},
   "exception": null,
   "input_path": "SciFact.ipynb",
   "output_path": "SciFact_output.ipynb",
   "parameters": {},
   "start_time": "2025-03-05T00:52:46.279489",
   "version": "2.6.0"
  },
  "widgets": {
   "application/vnd.jupyter.widget-state+json": {
    "state": {
     "027d0b423d6147c787bbddb7463dfc82": {
      "model_module": "@jupyter-widgets/controls",
      "model_module_version": "2.0.0",
      "model_name": "FloatProgressModel",
      "state": {
       "_dom_classes": [],
       "_model_module": "@jupyter-widgets/controls",
       "_model_module_version": "2.0.0",
       "_model_name": "FloatProgressModel",
       "_view_count": null,
       "_view_module": "@jupyter-widgets/controls",
       "_view_module_version": "2.0.0",
       "_view_name": "ProgressView",
       "bar_style": "success",
       "description": "",
       "description_allow_html": false,
       "layout": "IPY_MODEL_988bbcdb9cc84be58a87c79e07df236e",
       "max": 5183.0,
       "min": 0.0,
       "orientation": "horizontal",
       "style": "IPY_MODEL_90558c6de3e6445eae2e0c02844d5813",
       "tabbable": null,
       "tooltip": null,
       "value": 5183.0
      }
     },
     "0fb18cb315e449ca8b81d39e36a85328": {
      "model_module": "@jupyter-widgets/controls",
      "model_module_version": "2.0.0",
      "model_name": "HTMLStyleModel",
      "state": {
       "_model_module": "@jupyter-widgets/controls",
       "_model_module_version": "2.0.0",
       "_model_name": "HTMLStyleModel",
       "_view_count": null,
       "_view_module": "@jupyter-widgets/base",
       "_view_module_version": "2.0.0",
       "_view_name": "StyleView",
       "background": null,
       "description_width": "",
       "font_size": null,
       "text_color": null
      }
     },
     "16e27297c84440428ef69833b81cae9b": {
      "model_module": "@jupyter-widgets/base",
      "model_module_version": "2.0.0",
      "model_name": "LayoutModel",
      "state": {
       "_model_module": "@jupyter-widgets/base",
       "_model_module_version": "2.0.0",
       "_model_name": "LayoutModel",
       "_view_count": null,
       "_view_module": "@jupyter-widgets/base",
       "_view_module_version": "2.0.0",
       "_view_name": "LayoutView",
       "align_content": null,
       "align_items": null,
       "align_self": null,
       "border_bottom": null,
       "border_left": null,
       "border_right": null,
       "border_top": null,
       "bottom": null,
       "display": null,
       "flex": null,
       "flex_flow": null,
       "grid_area": null,
       "grid_auto_columns": null,
       "grid_auto_flow": null,
       "grid_auto_rows": null,
       "grid_column": null,
       "grid_gap": null,
       "grid_row": null,
       "grid_template_areas": null,
       "grid_template_columns": null,
       "grid_template_rows": null,
       "height": null,
       "justify_content": null,
       "justify_items": null,
       "left": null,
       "margin": null,
       "max_height": null,
       "max_width": null,
       "min_height": null,
       "min_width": null,
       "object_fit": null,
       "object_position": null,
       "order": null,
       "overflow": null,
       "padding": null,
       "right": null,
       "top": null,
       "visibility": null,
       "width": null
      }
     },
     "52a84302025c4fb7ada99c582a00fcfd": {
      "model_module": "@jupyter-widgets/base",
      "model_module_version": "2.0.0",
      "model_name": "LayoutModel",
      "state": {
       "_model_module": "@jupyter-widgets/base",
       "_model_module_version": "2.0.0",
       "_model_name": "LayoutModel",
       "_view_count": null,
       "_view_module": "@jupyter-widgets/base",
       "_view_module_version": "2.0.0",
       "_view_name": "LayoutView",
       "align_content": null,
       "align_items": null,
       "align_self": null,
       "border_bottom": null,
       "border_left": null,
       "border_right": null,
       "border_top": null,
       "bottom": null,
       "display": null,
       "flex": null,
       "flex_flow": null,
       "grid_area": null,
       "grid_auto_columns": null,
       "grid_auto_flow": null,
       "grid_auto_rows": null,
       "grid_column": null,
       "grid_gap": null,
       "grid_row": null,
       "grid_template_areas": null,
       "grid_template_columns": null,
       "grid_template_rows": null,
       "height": null,
       "justify_content": null,
       "justify_items": null,
       "left": null,
       "margin": null,
       "max_height": null,
       "max_width": null,
       "min_height": null,
       "min_width": null,
       "object_fit": null,
       "object_position": null,
       "order": null,
       "overflow": null,
       "padding": null,
       "right": null,
       "top": null,
       "visibility": null,
       "width": null
      }
     },
     "623297e1c9a14173bf7b9f4b81b8212d": {
      "model_module": "@jupyter-widgets/controls",
      "model_module_version": "2.0.0",
      "model_name": "HTMLModel",
      "state": {
       "_dom_classes": [],
       "_model_module": "@jupyter-widgets/controls",
       "_model_module_version": "2.0.0",
       "_model_name": "HTMLModel",
       "_view_count": null,
       "_view_module": "@jupyter-widgets/controls",
       "_view_module_version": "2.0.0",
       "_view_name": "HTMLView",
       "description": "",
       "description_allow_html": false,
       "layout": "IPY_MODEL_ed4f098a668546f09e39591a972612cd",
       "placeholder": "​",
       "style": "IPY_MODEL_dc322a6776674f48857f02f6baedb3c1",
       "tabbable": null,
       "tooltip": null,
       "value": "100%"
      }
     },
     "81afdd607f124e5ab7f43d2211ffba2d": {
      "model_module": "@jupyter-widgets/controls",
      "model_module_version": "2.0.0",
      "model_name": "HTMLModel",
      "state": {
       "_dom_classes": [],
       "_model_module": "@jupyter-widgets/controls",
       "_model_module_version": "2.0.0",
       "_model_name": "HTMLModel",
       "_view_count": null,
       "_view_module": "@jupyter-widgets/controls",
       "_view_module_version": "2.0.0",
       "_view_name": "HTMLView",
       "description": "",
       "description_allow_html": false,
       "layout": "IPY_MODEL_16e27297c84440428ef69833b81cae9b",
       "placeholder": "​",
       "style": "IPY_MODEL_0fb18cb315e449ca8b81d39e36a85328",
       "tabbable": null,
       "tooltip": null,
       "value": " 5183/5183 [00:00&lt;00:00, 117490.11it/s]"
      }
     },
     "90558c6de3e6445eae2e0c02844d5813": {
      "model_module": "@jupyter-widgets/controls",
      "model_module_version": "2.0.0",
      "model_name": "ProgressStyleModel",
      "state": {
       "_model_module": "@jupyter-widgets/controls",
       "_model_module_version": "2.0.0",
       "_model_name": "ProgressStyleModel",
       "_view_count": null,
       "_view_module": "@jupyter-widgets/base",
       "_view_module_version": "2.0.0",
       "_view_name": "StyleView",
       "bar_color": null,
       "description_width": ""
      }
     },
     "988bbcdb9cc84be58a87c79e07df236e": {
      "model_module": "@jupyter-widgets/base",
      "model_module_version": "2.0.0",
      "model_name": "LayoutModel",
      "state": {
       "_model_module": "@jupyter-widgets/base",
       "_model_module_version": "2.0.0",
       "_model_name": "LayoutModel",
       "_view_count": null,
       "_view_module": "@jupyter-widgets/base",
       "_view_module_version": "2.0.0",
       "_view_name": "LayoutView",
       "align_content": null,
       "align_items": null,
       "align_self": null,
       "border_bottom": null,
       "border_left": null,
       "border_right": null,
       "border_top": null,
       "bottom": null,
       "display": null,
       "flex": null,
       "flex_flow": null,
       "grid_area": null,
       "grid_auto_columns": null,
       "grid_auto_flow": null,
       "grid_auto_rows": null,
       "grid_column": null,
       "grid_gap": null,
       "grid_row": null,
       "grid_template_areas": null,
       "grid_template_columns": null,
       "grid_template_rows": null,
       "height": null,
       "justify_content": null,
       "justify_items": null,
       "left": null,
       "margin": null,
       "max_height": null,
       "max_width": null,
       "min_height": null,
       "min_width": null,
       "object_fit": null,
       "object_position": null,
       "order": null,
       "overflow": null,
       "padding": null,
       "right": null,
       "top": null,
       "visibility": null,
       "width": null
      }
     },
     "b67a7f8e88e54ecc91e9cd4cf0aa79dd": {
      "model_module": "@jupyter-widgets/controls",
      "model_module_version": "2.0.0",
      "model_name": "HBoxModel",
      "state": {
       "_dom_classes": [],
       "_model_module": "@jupyter-widgets/controls",
       "_model_module_version": "2.0.0",
       "_model_name": "HBoxModel",
       "_view_count": null,
       "_view_module": "@jupyter-widgets/controls",
       "_view_module_version": "2.0.0",
       "_view_name": "HBoxView",
       "box_style": "",
       "children": [
        "IPY_MODEL_623297e1c9a14173bf7b9f4b81b8212d",
        "IPY_MODEL_027d0b423d6147c787bbddb7463dfc82",
        "IPY_MODEL_81afdd607f124e5ab7f43d2211ffba2d"
       ],
       "layout": "IPY_MODEL_52a84302025c4fb7ada99c582a00fcfd",
       "tabbable": null,
       "tooltip": null
      }
     },
     "dc322a6776674f48857f02f6baedb3c1": {
      "model_module": "@jupyter-widgets/controls",
      "model_module_version": "2.0.0",
      "model_name": "HTMLStyleModel",
      "state": {
       "_model_module": "@jupyter-widgets/controls",
       "_model_module_version": "2.0.0",
       "_model_name": "HTMLStyleModel",
       "_view_count": null,
       "_view_module": "@jupyter-widgets/base",
       "_view_module_version": "2.0.0",
       "_view_name": "StyleView",
       "background": null,
       "description_width": "",
       "font_size": null,
       "text_color": null
      }
     },
     "ed4f098a668546f09e39591a972612cd": {
      "model_module": "@jupyter-widgets/base",
      "model_module_version": "2.0.0",
      "model_name": "LayoutModel",
      "state": {
       "_model_module": "@jupyter-widgets/base",
       "_model_module_version": "2.0.0",
       "_model_name": "LayoutModel",
       "_view_count": null,
       "_view_module": "@jupyter-widgets/base",
       "_view_module_version": "2.0.0",
       "_view_name": "LayoutView",
       "align_content": null,
       "align_items": null,
       "align_self": null,
       "border_bottom": null,
       "border_left": null,
       "border_right": null,
       "border_top": null,
       "bottom": null,
       "display": null,
       "flex": null,
       "flex_flow": null,
       "grid_area": null,
       "grid_auto_columns": null,
       "grid_auto_flow": null,
       "grid_auto_rows": null,
       "grid_column": null,
       "grid_gap": null,
       "grid_row": null,
       "grid_template_areas": null,
       "grid_template_columns": null,
       "grid_template_rows": null,
       "height": null,
       "justify_content": null,
       "justify_items": null,
       "left": null,
       "margin": null,
       "max_height": null,
       "max_width": null,
       "min_height": null,
       "min_width": null,
       "object_fit": null,
       "object_position": null,
       "order": null,
       "overflow": null,
       "padding": null,
       "right": null,
       "top": null,
       "visibility": null,
       "width": null
      }
     }
    },
    "version_major": 2,
    "version_minor": 0
   }
  }
 },
 "nbformat": 4,
 "nbformat_minor": 5
}
