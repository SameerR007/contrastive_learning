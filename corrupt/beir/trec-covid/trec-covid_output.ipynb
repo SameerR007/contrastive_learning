{
 "cells": [
  {
   "cell_type": "code",
   "execution_count": 1,
   "id": "f6d4b65f-fa6b-4517-8694-8627bc49833b",
   "metadata": {
    "execution": {
     "iopub.execute_input": "2025-03-05T01:01:18.162941Z",
     "iopub.status.busy": "2025-03-05T01:01:18.162539Z",
     "iopub.status.idle": "2025-03-05T01:01:18.248077Z",
     "shell.execute_reply": "2025-03-05T01:01:18.247638Z"
    },
    "papermill": {
     "duration": 0.090762,
     "end_time": "2025-03-05T01:01:18.248944",
     "exception": false,
     "start_time": "2025-03-05T01:01:18.158182",
     "status": "completed"
    },
    "tags": []
   },
   "outputs": [
    {
     "name": "stderr",
     "output_type": "stream",
     "text": [
      "/dss/dsshome1/07/ra65bex2/srawat/myenv/lib/python3.12/site-packages/beir/datasets/data_loader.py:8: TqdmExperimentalWarning: Using `tqdm.autonotebook.tqdm` in notebook mode. Use `tqdm.tqdm` instead to force console mode (e.g. in jupyter console)\n",
      "  from tqdm.autonotebook import tqdm\n"
     ]
    }
   ],
   "source": [
    "from beir.datasets.data_loader import GenericDataLoader"
   ]
  },
  {
   "cell_type": "code",
   "execution_count": 2,
   "id": "a91d6914-e301-422c-b839-1fafeb1e8fa4",
   "metadata": {
    "execution": {
     "iopub.execute_input": "2025-03-05T01:01:18.256948Z",
     "iopub.status.busy": "2025-03-05T01:01:18.256580Z",
     "iopub.status.idle": "2025-03-05T01:01:18.259008Z",
     "shell.execute_reply": "2025-03-05T01:01:18.258669Z"
    },
    "papermill": {
     "duration": 0.006904,
     "end_time": "2025-03-05T01:01:18.259672",
     "exception": false,
     "start_time": "2025-03-05T01:01:18.252768",
     "status": "completed"
    },
    "tags": []
   },
   "outputs": [],
   "source": [
    "data_path = '/dss/dsshome1/07/ra65bex2/srawat/trec-covid/trec-covid'"
   ]
  },
  {
   "cell_type": "code",
   "execution_count": 3,
   "id": "41e17333-2c34-4b7b-91f6-3cbd3972f0d6",
   "metadata": {
    "execution": {
     "iopub.execute_input": "2025-03-05T01:01:18.268157Z",
     "iopub.status.busy": "2025-03-05T01:01:18.267526Z",
     "iopub.status.idle": "2025-03-05T01:01:19.733503Z",
     "shell.execute_reply": "2025-03-05T01:01:19.733001Z"
    },
    "papermill": {
     "duration": 1.471143,
     "end_time": "2025-03-05T01:01:19.734260",
     "exception": false,
     "start_time": "2025-03-05T01:01:18.263117",
     "status": "completed"
    },
    "tags": []
   },
   "outputs": [
    {
     "data": {
      "application/vnd.jupyter.widget-view+json": {
       "model_id": "d39e96db1f6243a98a615bbdb271ace1",
       "version_major": 2,
       "version_minor": 0
      },
      "text/plain": [
       "  0%|          | 0/171332 [00:00<?, ?it/s]"
      ]
     },
     "metadata": {},
     "output_type": "display_data"
    }
   ],
   "source": [
    "corpus, queries, qrels = GenericDataLoader(data_path).load(split=\"test\")"
   ]
  },
  {
   "cell_type": "code",
   "execution_count": 4,
   "id": "1d653c60-435a-4e10-8506-6ef5d01f8675",
   "metadata": {
    "execution": {
     "iopub.execute_input": "2025-03-05T01:01:19.749170Z",
     "iopub.status.busy": "2025-03-05T01:01:19.748950Z",
     "iopub.status.idle": "2025-03-05T01:01:22.088920Z",
     "shell.execute_reply": "2025-03-05T01:01:22.088302Z"
    },
    "papermill": {
     "duration": 2.344794,
     "end_time": "2025-03-05T01:01:22.089647",
     "exception": false,
     "start_time": "2025-03-05T01:01:19.744853",
     "status": "completed"
    },
    "tags": []
   },
   "outputs": [
    {
     "name": "stderr",
     "output_type": "stream",
     "text": [
      "[nltk_data] Downloading package stopwords to\n",
      "[nltk_data]     /dss/dsshome1/07/ra65bex2/nltk_data...\n",
      "[nltk_data]   Package stopwords is already up-to-date!\n",
      "[nltk_data] Downloading package wordnet to\n",
      "[nltk_data]     /dss/dsshome1/07/ra65bex2/nltk_data...\n",
      "[nltk_data]   Package wordnet is already up-to-date!\n"
     ]
    }
   ],
   "source": [
    "import random\n",
    "import re\n",
    "import nltk\n",
    "from nltk.corpus import stopwords, wordnet\n",
    "nltk.download('stopwords')\n",
    "nltk.download('wordnet')\n",
    "stop_words = set(stopwords.words('english'))\n",
    "def clean_text(text):\n",
    "    return re.sub(r'[^\\w\\s.!?]', '', text)\n",
    "def select_words(text, percentage):\n",
    "    words = [w for w in text.split() if w.lower() not in stop_words]\n",
    "    return random.sample(words, min(int(percentage*len(words)), len(words)))\n",
    "def introduce_typo(word):\n",
    "    if len(word) > 1:\n",
    "        idx = random.randint(0, len(word) - 1)\n",
    "        return word[:idx] + random.choice('abcdefghijklmnopqrstuvwxyz') + word[idx+1:]\n",
    "    return word\n",
    "def introduce_noise(word):\n",
    "    noise_chars = ['@', '#', '$', '%', '&', '*']\n",
    "    if len(word) > 1:\n",
    "        idx = random.randint(0, len(word) - 1)\n",
    "        return word[:idx] + random.choice(noise_chars) + word[idx+1:]\n",
    "    return word\n",
    "def replace_with_synonym(word):\n",
    "    synonyms = [syn.lemmas()[0].name() for syn in wordnet.synsets(word) if syn.lemmas()]\n",
    "    return random.choice(synonyms) if synonyms else word\n",
    "def corrupt_word(word, method):\n",
    "    if method == 'typo':\n",
    "        return introduce_typo(word)\n",
    "    elif method == 'noise':\n",
    "        return introduce_noise(word)\n",
    "    elif method == 'synonym':\n",
    "        return replace_with_synonym(word)\n",
    "    return word\n",
    "def corrupt_text(text):\n",
    "    corrupted_words = []  \n",
    "    words_to_corrupt=select_words(clean_text(text), percentage=0.5)\n",
    "    for word in clean_text(text).split():\n",
    "        if word in words_to_corrupt:\n",
    "            corruption_method = random.choice(['typo', 'noise', 'synonym'])\n",
    "            corrupted_words.append(corrupt_word(word, corruption_method))\n",
    "        else:\n",
    "            corrupted_words.append(word)\n",
    "    return ' '.join(corrupted_words)"
   ]
  },
  {
   "cell_type": "code",
   "execution_count": 5,
   "id": "a29044d5-3952-4f3d-aa43-e1efd34fcad3",
   "metadata": {
    "execution": {
     "iopub.execute_input": "2025-03-05T01:01:22.100862Z",
     "iopub.status.busy": "2025-03-05T01:01:22.100641Z",
     "iopub.status.idle": "2025-03-05T01:01:26.247865Z",
     "shell.execute_reply": "2025-03-05T01:01:26.246931Z"
    },
    "papermill": {
     "duration": 4.153898,
     "end_time": "2025-03-05T01:01:26.248946",
     "exception": false,
     "start_time": "2025-03-05T01:01:22.095048",
     "status": "completed"
    },
    "tags": []
   },
   "outputs": [],
   "source": [
    "contrastive_pairs=[]\n",
    "query_lengths = []\n",
    "import random\n",
    "c=0\n",
    "for query_id, relevant_docs in qrels.items():\n",
    "    try:\n",
    "        query_text = queries[query_id]\n",
    "        query_lengths.append(len(query_text.split()))\n",
    "        for doc_id in relevant_docs:\n",
    "            positive = corpus[doc_id][\"text\"]\n",
    "        #print(relevant_docs)\n",
    "        positive_doc_ids = set(relevant_docs)\n",
    "        all_doc_ids = set(corpus.keys())\n",
    "        negative_doc_ids = all_doc_ids - positive_doc_ids\n",
    "        negative_doc_ids=list(negative_doc_ids)\n",
    "        negative_doc_samples = random.sample(negative_doc_ids, k=5)\n",
    "        negatives=[]\n",
    "        for neg_doc_id in negative_doc_samples:\n",
    "            negative_doc_text = corpus[neg_doc_id][\"text\"]\n",
    "            negatives.append(negative_doc_text)\n",
    "        contrastive_pairs.append({\n",
    "            \"anchor\": corrupt_text(query_text),\n",
    "            \"positive\": positive,\n",
    "            \"negatives\": negatives\n",
    "        })\n",
    "    except:\n",
    "        c=c+1"
   ]
  },
  {
   "cell_type": "code",
   "execution_count": 6,
   "id": "49721946-fff3-4690-bd92-d981cecdf62b",
   "metadata": {
    "execution": {
     "iopub.execute_input": "2025-03-05T01:01:26.277034Z",
     "iopub.status.busy": "2025-03-05T01:01:26.276335Z",
     "iopub.status.idle": "2025-03-05T01:01:26.280665Z",
     "shell.execute_reply": "2025-03-05T01:01:26.280152Z"
    },
    "papermill": {
     "duration": 0.009315,
     "end_time": "2025-03-05T01:01:26.281349",
     "exception": false,
     "start_time": "2025-03-05T01:01:26.272034",
     "status": "completed"
    },
    "tags": []
   },
   "outputs": [
    {
     "data": {
      "text/plain": [
       "0"
      ]
     },
     "execution_count": 6,
     "metadata": {},
     "output_type": "execute_result"
    }
   ],
   "source": [
    "c"
   ]
  },
  {
   "cell_type": "code",
   "execution_count": 7,
   "id": "de8ef367-dcb4-4bb6-af3a-20f190930ed1",
   "metadata": {
    "execution": {
     "iopub.execute_input": "2025-03-05T01:01:26.297497Z",
     "iopub.status.busy": "2025-03-05T01:01:26.297359Z",
     "iopub.status.idle": "2025-03-05T01:01:26.300932Z",
     "shell.execute_reply": "2025-03-05T01:01:26.300523Z"
    },
    "papermill": {
     "duration": 0.008439,
     "end_time": "2025-03-05T01:01:26.301551",
     "exception": false,
     "start_time": "2025-03-05T01:01:26.293112",
     "status": "completed"
    },
    "tags": []
   },
   "outputs": [
    {
     "data": {
      "text/plain": [
       "50"
      ]
     },
     "execution_count": 7,
     "metadata": {},
     "output_type": "execute_result"
    }
   ],
   "source": [
    "len(contrastive_pairs)"
   ]
  },
  {
   "cell_type": "code",
   "execution_count": 8,
   "id": "8a2ccada-419a-4f79-ad4d-b605780281a3",
   "metadata": {
    "execution": {
     "iopub.execute_input": "2025-03-05T01:01:26.309734Z",
     "iopub.status.busy": "2025-03-05T01:01:26.309165Z",
     "iopub.status.idle": "2025-03-05T01:01:26.323048Z",
     "shell.execute_reply": "2025-03-05T01:01:26.322657Z"
    },
    "papermill": {
     "duration": 0.018621,
     "end_time": "2025-03-05T01:01:26.323794",
     "exception": false,
     "start_time": "2025-03-05T01:01:26.305173",
     "status": "completed"
    },
    "tags": []
   },
   "outputs": [
    {
     "data": {
      "text/plain": [
       "[{'anchor': 'what is the ori*in of COVID19',\n",
       "  'positive': 'According to the World Health Organization (WHO), viral diseases continue to emerge and represent a serious issue to public health In the last twenty years, several viral epidemics such as the severe acute respiratory syndrome coronavirus (SARS-CoV) in 2002 to 2003, and H1N1 influenza in 2009, have been recorded Most recently, the Middle East respiratory syndrome coronavirus (MERS-CoV) was first identified in Saudi Arabia in 2012 In a timeline that reaches the present day, an epidemic of cases with unexplained low respiratory infections detected in Wuhan, the largest metropolitan area in China\\'s Hubei province, was first reported to the WHO Country Office in China, on December 31, 2019 Published literature can trace the beginning of symptomatic individuals back to the beginning of December 2019 As they were unable to identify the causative agent, these first cases were classified as \"pneumonia of unknown etiology \" The Chinese Center for Disease Control and Prevention (CDC) and local CDCs organized an intensive outbreak investigation program The etiology of this illness is now attributed to a novel virus belonging to the coronavirus (CoV) family, COVID-19 On February 11, 2020, the WHO Director-General, Dr Tedros Adhanom Ghebreyesus, announced that the disease caused by this new CoV was a \"COVID-19,\" which is the acronym of \"coronavirus disease 2019\" In the past twenty years, two additional coronavirus epidemics have occurred SARS-CoV provoked a large-scale epidemic beginning in China and involving two dozen countries with approximately 8000 cases and 800 deaths, and the MERS-CoV that began in Saudi Arabia and has approximately 2,500 cases and 800 deaths and still causes as sporadic cases This new virus seems to be very contagious and has quickly spread globally In a meeting on January 30, 2020, per the International Health Regulations (IHR, 2005), the outbreak was declared by the WHO a Public Health Emergency of International Concern (PHEIC) as it had spread to 18 countries with four countries reporting human-to-human transmission An additional landmark occurred on February 26, 2020, as the first case of the disease, not imported from China, was recorded in the United States Initially, the new virus was called 2019-nCoV Subsequently, the task of experts of the International Committee on Taxonomy of Viruses (ICTV) termed it the SARS-CoV-2 virus as it is very similar to the one that caused the SARS outbreak (SARS-CoVs) The CoVs have become the major pathogens of emerging respiratory disease outbreaks They are a large family of single-stranded RNA viruses (+ssRNA) that can be isolated in different animal species For reasons yet to be explained, these viruses can cross species barriers and can cause, in humans, illness ranging from the common cold to more severe diseases such as MERS and SARS Interestingly, these latter viruses have probably originated from bats and then moving into other mammalian hosts — the Himalayan palm civet for SARS-CoV, and the dromedary camel for MERS-CoV — before jumping to humans The dynamics of SARS-Cov-2 are currently unknown, but there is speculation that it also has an animal origin The potential for these viruses to grow to become a pandemic worldwide seems to be a serious public health risk Concerning COVID-19, the WHO raised the threat to the CoV epidemic to the \"very high\" level, on February 28, 2020 Probably, the effects of the epidemic caused by the new CoV has yet to emerge as the situation is quickly evolving World governments are at work to establish countermeasures to stem possible devastating effects Health organizations coordinate information flows and issues directives and guidelines to best mitigate the impact of the threat At the same time, scientists around the world work tirelessly, and information about the transmission mechanisms, the clinical spectrum of disease, new diagnostics, and prevention and therapeutic strategies are rapidly developing Many uncertainties remain with regard to both the virus-host interaction and the evolution of the epidemic, with specific reference to the times when the epidemic will reach its peak At the moment, the therapeutic strategies to deal with the infection are only supportive, and prevention aimed at reducing transmission in the community is our best weapon Aggressive isolation measures in China have led to a progressive reduction of cases in the last few days In Italy, in geographic regions of the north of the peninsula, political and health authorities are making incredible efforts to contain a shock wave that is severely testing the health system In the midst of the crisis, the authors have chosen to use the \"Statpearls\" platform because, within the PubMed scenario, it represents a unique tool that may allow them to make updates in real-time The aim, therefore, is to collect information and scientific evidence and to provide an overview of the topic that will be continuously updated',\n",
       "  'negatives': ['',\n",
       "   'Tracheal bronchus is a congenital anatomical variant of patients with accessory bronchus in the right upper lobe deriving directly from the supracarinal trachea. Pre-operative consultation with the anesthesiologist is important for patient safety and can avoid adverse effects induced by endotracheal intubation. In this report, we described a case of tracheal bronchus in which general anesthesia was performed for video-assisted thoracoscopic surgery. We discussed some of the issues surrounding to complications in tracheal bronchus.',\n",
       "   'BACKGROUND: This study aimed to examine the knowledge, attitudes, and practices towards the use of facemasks among hospital-based health care workers (HCWs) in Hanoi, Vietnam. METHODS: A qualitative study incorporating 20 focus groups was conducted between August 2010 and May 2011. HCWs from 7 hospitals in Vietnam were invited to participate. RESULTS: Issues associated with the availability of facemasks (medical and cloth masks) and respirators was the strongest theme to emerge from the discussion. Participants reported that it is not unusual for some types of facemasks to be unavailable during nonemergency periods. It was highlighted that the use of facemasks and respirators is not continuous, but rather is limited to selected situations, locations, and patients. Reuse of facemasks and respirators is also common in some settings. Finally, some participants reported believing that the reuse of facemasks, particularly cloth masks, is safe, whereas others believed that the reuse of masks put staff at risk of infection. CONCLUSIONS: In low and middle-income countries, access to appropriate levels of personal protective equipment may be restricted owing to competing demands for funding in hospital settings. It is important that issues around reuse and extended use of medical masks/respirators and decontamination of cloth masks are addressed in policy documents to minimize the risk of infection.',\n",
       "   '',\n",
       "   '']},\n",
       " {'anchor': 'how does the coronaviras respond to c@anges in the weather',\n",
       "  'positive': 'Abstract It is generally agreed that respiratory disease is closely related to ambient air quality and weather conditions. Besides, hygiene related factors such as the public health measures by the government and possible personal awareness in the community can also affect the spread of infectious respiratory diseases. However, there is no quantitative support for this conclusion, because of lack of quality data. The severe acute respiratory syndrome (or SARS) outbreak in 2003 triggered strict public health measures and personal awareness in the prevention of infectious respiratory diseases, providing us an opportunity to quantify the impact of hygiene related factors in the spread of the disease. In this paper, we model the number of the respiratory illnesses by a semiparametric model which models the environmental and weather impacts using a multiple index model and the impact of other public health measures and possible personal awareness using a growth curve with jump. Using data from Hong Kong, we found that public health measures contributed to about 39% of reduction in the number of respiratory illnesses during the SARS period. However, the impact of hygienically related factors eventually fades as time passes. The results provide indirect quantitative support to the usefulness of governmental campaigns to arouse the awareness of the public in staying away from transmission of respiratory diseases during the full outbreak of the disease. The results also show the fast fading of alertness of Hong Kong people towards the epidemic. Furthermore, our model also offers a way to model the impacts of environmental factors on respiratory diseases, when the data contains the effect of human intervention, by introducing the change point and growth curve to remove such an effect.',\n",
       "  'negatives': ['Objective: To study the early dynamics of the epidemic of coronavirus disease (COVID-19) in China from 15 to 31 January, 2020, and estimate the corresponding epidemiological parameters (incubation period, generation interval and basic reproduction number) of the epidemic. Methods: By means of Weibull, Gamma and Lognormal distributions methods, we estimated the probability distribution of the incubation period and generation interval data obtained from the reported COVID-19 cases. Moreover, the AIC criterion was used to determine the optimal distribution. Considering the epidemic is ongoing, the exponential growth model was used to fit the incidence data of COVID-19 from 10 to 31 January, 2020, and exponential growth method, maximum likelihood method and SEIR model were used to estimate the basic reproduction number. Results: Early COVID-19 cases kept an increase in exponential growth manner before 26 January, 2020, then the increase trend became slower. The average incubation period was 5.01 (95%CI: 4.31-5.69) days; the average generation interval was 6.03 (95%CI: 5.20-6.91) days. The basic reproduction number was estimated to be 3.74 (95%CI: 3.63-3.87), 3.16 (95%CI: 2.90-3.43), and 3.91 (95%CI: 3.71-4.11) by three methods, respectively. Conclusions: The Gamma distribution fits both the generation interval and incubation period best, and the mean value of generation interval is 1.02 day longer than that of incubation period. The relatively high basic reproduction number indicates that the epidemic is still serious; Based on our analysis, the turning point of the epidemic would be seen on 26 January, the growth rate would be lower afterwards.',\n",
       "   'In critically ill patients with COVID-19 infection, the cardiorespiratory system may collapse by the following mechanisms: (1) cytokine storm, haemophagocytosis - septic shock, (2) uncontrollable hypoxaemia, (3) specific organ failure or multiple organ failure. In this summary, we review the currently available therapeutic options for the treatment and prevention of the above conditions. Removal of cytokines by CytoSorb haemoperfusion has been used more and more frequently and with encouraging success in recent years to treat septic shock. In the case of hypoxaemia, which can no longer be treated with conventional mechanical ventilation, inhaled nitric oxide (iNO), inhaled epoprostenol and venovenous extracorporeal membrane oxygenation (VV-ECMO) are considered. A common component of mostly late-stage organ failure is acute renal failure, which requires the initiation of one of the available continuous renal replacement therapies. Orv Hetil. 2020; 161 (17): 704-709.',\n",
       "   'In contrast with adults, children infected by severe acute respiratory syndrome-corona virus (SARS-CoV) develop milder clinical symptoms. Because of this, it is speculated that children vaccinated with various childhood vaccines might develop cross immunity against SARS-CoV. Antisera and T cells from mice immunised with various vaccines were used to determine whether they developed cross reactivity against SARS-CoV. The results showed no marked cross reactivity against SARS-CoV, which implies that the reduced symptoms among children infected by SARS-CoV may be caused by other factors.',\n",
       "   '',\n",
       "   'Motivation In molecular epidemiology, the identification of clusters of transmissions typically requires the alignment of viral genomic sequence data. However, existing methods of multiple sequence alignment scale poorly with respect to the number of sequences. Results ViralMSA is a user-friendly reference-guided multiple sequence alignment tool that leverages the algorithmic techniques of read mappers to enable the multiple sequence alignment of ultra-large viral genome datasets. It scales linearly with the number of sequences, and it is able to align tens of thousands of full viral genomes in seconds. Availability ViralMSA is freely available at https://github.com/niemasd/ViralMSA as an open-source software project. Contact a1moshir@ucsd.edu']}]"
      ]
     },
     "execution_count": 8,
     "metadata": {},
     "output_type": "execute_result"
    }
   ],
   "source": [
    "contrastive_pairs[0:2]"
   ]
  },
  {
   "cell_type": "code",
   "execution_count": 9,
   "id": "8ade92f9-e3df-4d0a-b849-b1a721e18cf6",
   "metadata": {
    "execution": {
     "iopub.execute_input": "2025-03-05T01:01:26.332647Z",
     "iopub.status.busy": "2025-03-05T01:01:26.332144Z",
     "iopub.status.idle": "2025-03-05T01:01:26.341031Z",
     "shell.execute_reply": "2025-03-05T01:01:26.340634Z"
    },
    "papermill": {
     "duration": 0.013792,
     "end_time": "2025-03-05T01:01:26.341625",
     "exception": false,
     "start_time": "2025-03-05T01:01:26.327833",
     "status": "completed"
    },
    "tags": []
   },
   "outputs": [
    {
     "data": {
      "text/plain": [
       "50"
      ]
     },
     "execution_count": 9,
     "metadata": {},
     "output_type": "execute_result"
    }
   ],
   "source": [
    "len(qrels)"
   ]
  },
  {
   "cell_type": "code",
   "execution_count": 10,
   "id": "6b97f7b4-f007-41f6-bfbb-1b9b01665e9d",
   "metadata": {
    "execution": {
     "iopub.execute_input": "2025-03-05T01:01:26.350488Z",
     "iopub.status.busy": "2025-03-05T01:01:26.350096Z",
     "iopub.status.idle": "2025-03-05T01:01:29.659379Z",
     "shell.execute_reply": "2025-03-05T01:01:29.658760Z"
    },
    "papermill": {
     "duration": 3.314749,
     "end_time": "2025-03-05T01:01:29.660499",
     "exception": false,
     "start_time": "2025-03-05T01:01:26.345750",
     "status": "completed"
    },
    "tags": []
   },
   "outputs": [],
   "source": [
    "from torch.utils.data import DataLoader"
   ]
  },
  {
   "cell_type": "code",
   "execution_count": 11,
   "id": "a415b29a-a543-4679-8f78-44f715b3067d",
   "metadata": {
    "execution": {
     "iopub.execute_input": "2025-03-05T01:01:29.672110Z",
     "iopub.status.busy": "2025-03-05T01:01:29.671862Z",
     "iopub.status.idle": "2025-03-05T01:01:29.675636Z",
     "shell.execute_reply": "2025-03-05T01:01:29.675232Z"
    },
    "papermill": {
     "duration": 0.00922,
     "end_time": "2025-03-05T01:01:29.676272",
     "exception": false,
     "start_time": "2025-03-05T01:01:29.667052",
     "status": "completed"
    },
    "tags": []
   },
   "outputs": [],
   "source": [
    "class ContrastiveDataset:\n",
    "    def __init__(self, pairs):\n",
    "        self.pairs = pairs\n",
    "\n",
    "    def __len__(self):\n",
    "        return len(self.pairs)\n",
    "\n",
    "    def __getitem__(self, idx):\n",
    "        item = self.pairs[idx]\n",
    "        return item[\"anchor\"], item[\"positive\"], item[\"negatives\"]"
   ]
  },
  {
   "cell_type": "code",
   "execution_count": 12,
   "id": "a39efeab-fd20-411a-80c5-315f362e00d2",
   "metadata": {
    "execution": {
     "iopub.execute_input": "2025-03-05T01:01:29.685259Z",
     "iopub.status.busy": "2025-03-05T01:01:29.684553Z",
     "iopub.status.idle": "2025-03-05T01:01:29.695427Z",
     "shell.execute_reply": "2025-03-05T01:01:29.695033Z"
    },
    "papermill": {
     "duration": 0.015795,
     "end_time": "2025-03-05T01:01:29.696100",
     "exception": false,
     "start_time": "2025-03-05T01:01:29.680305",
     "status": "completed"
    },
    "tags": []
   },
   "outputs": [],
   "source": [
    "contrastive_dataset = ContrastiveDataset(contrastive_pairs)"
   ]
  },
  {
   "cell_type": "code",
   "execution_count": 13,
   "id": "d103bbfa-895a-4020-a7e5-21de659f27dc",
   "metadata": {
    "execution": {
     "iopub.execute_input": "2025-03-05T01:01:29.704893Z",
     "iopub.status.busy": "2025-03-05T01:01:29.704760Z",
     "iopub.status.idle": "2025-03-05T01:01:29.712690Z",
     "shell.execute_reply": "2025-03-05T01:01:29.712226Z"
    },
    "papermill": {
     "duration": 0.013128,
     "end_time": "2025-03-05T01:01:29.713398",
     "exception": false,
     "start_time": "2025-03-05T01:01:29.700270",
     "status": "completed"
    },
    "tags": []
   },
   "outputs": [],
   "source": [
    "data_loader = DataLoader(contrastive_dataset, batch_size=32, shuffle=True)"
   ]
  },
  {
   "cell_type": "code",
   "execution_count": 14,
   "id": "c8b0277f-f526-4087-82da-c4cdd65d32da",
   "metadata": {
    "execution": {
     "iopub.execute_input": "2025-03-05T01:01:29.721828Z",
     "iopub.status.busy": "2025-03-05T01:01:29.721693Z",
     "iopub.status.idle": "2025-03-05T01:01:29.730552Z",
     "shell.execute_reply": "2025-03-05T01:01:29.730176Z"
    },
    "papermill": {
     "duration": 0.014073,
     "end_time": "2025-03-05T01:01:29.731406",
     "exception": false,
     "start_time": "2025-03-05T01:01:29.717333",
     "status": "completed"
    },
    "tags": []
   },
   "outputs": [
    {
     "data": {
      "text/plain": [
       "2"
      ]
     },
     "execution_count": 14,
     "metadata": {},
     "output_type": "execute_result"
    }
   ],
   "source": [
    "len(data_loader)"
   ]
  },
  {
   "cell_type": "code",
   "execution_count": 15,
   "id": "e15526a4-b3fe-435b-91c9-ad4064562f0f",
   "metadata": {
    "execution": {
     "iopub.execute_input": "2025-03-05T01:01:29.740453Z",
     "iopub.status.busy": "2025-03-05T01:01:29.739993Z",
     "iopub.status.idle": "2025-03-05T01:01:33.326243Z",
     "shell.execute_reply": "2025-03-05T01:01:33.325523Z"
    },
    "papermill": {
     "duration": 3.591681,
     "end_time": "2025-03-05T01:01:33.327218",
     "exception": false,
     "start_time": "2025-03-05T01:01:29.735537",
     "status": "completed"
    },
    "tags": []
   },
   "outputs": [
    {
     "name": "stderr",
     "output_type": "stream",
     "text": [
      "/tmp/ipykernel_1233679/261098231.py:3: FutureWarning: You are using `torch.load` with `weights_only=False` (the current default value), which uses the default pickle module implicitly. It is possible to construct malicious pickle data which will execute arbitrary code during unpickling (See https://github.com/pytorch/pytorch/blob/main/SECURITY.md#untrusted-models for more details). In a future release, the default value for `weights_only` will be flipped to `True`. This limits the functions that could be executed during unpickling. Arbitrary objects will no longer be allowed to be loaded via this mode unless they are explicitly allowlisted by the user via `torch.serialization.add_safe_globals`. We recommend you start setting `weights_only=True` for any use case where you don't have full control of the loaded file. Please open an issue on GitHub for any issues related to this experimental feature.\n",
      "  lora_model_baseline = torch.load(file_path_baseline)\n"
     ]
    }
   ],
   "source": [
    "import torch\n",
    "file_path_baseline =\"/dss/dsshome1/07/ra65bex2/srawat/contrastive_learning/v1.1/app_baseline/checkpoint_epoch_3.pth\"\n",
    "lora_model_baseline = torch.load(file_path_baseline)"
   ]
  },
  {
   "cell_type": "code",
   "execution_count": 16,
   "id": "9999e628-5966-4dda-b5c5-c0d762fce27d",
   "metadata": {
    "execution": {
     "iopub.execute_input": "2025-03-05T01:01:33.338166Z",
     "iopub.status.busy": "2025-03-05T01:01:33.337184Z",
     "iopub.status.idle": "2025-03-05T01:01:33.343362Z",
     "shell.execute_reply": "2025-03-05T01:01:33.342937Z"
    },
    "papermill": {
     "duration": 0.011877,
     "end_time": "2025-03-05T01:01:33.344054",
     "exception": false,
     "start_time": "2025-03-05T01:01:33.332177",
     "status": "completed"
    },
    "tags": []
   },
   "outputs": [],
   "source": [
    "device = torch.device('cuda' if torch.cuda.is_available() else 'cpu')\n",
    "lora_model_baseline = lora_model_baseline.to(device)"
   ]
  },
  {
   "cell_type": "code",
   "execution_count": 17,
   "id": "7e6a3a61-8db0-43db-b575-6399f8515950",
   "metadata": {
    "execution": {
     "iopub.execute_input": "2025-03-05T01:01:33.353276Z",
     "iopub.status.busy": "2025-03-05T01:01:33.353136Z",
     "iopub.status.idle": "2025-03-05T01:01:33.598602Z",
     "shell.execute_reply": "2025-03-05T01:01:33.598042Z"
    },
    "papermill": {
     "duration": 0.250957,
     "end_time": "2025-03-05T01:01:33.599419",
     "exception": false,
     "start_time": "2025-03-05T01:01:33.348462",
     "status": "completed"
    },
    "tags": []
   },
   "outputs": [],
   "source": [
    "from transformers import AutoTokenizer, AutoModel\n",
    "tokenizer = AutoTokenizer.from_pretrained(\"bert-base-uncased\")"
   ]
  },
  {
   "cell_type": "code",
   "execution_count": 18,
   "id": "68ac4919-76f1-4349-a314-4b1061126655",
   "metadata": {
    "execution": {
     "iopub.execute_input": "2025-03-05T01:01:33.609078Z",
     "iopub.status.busy": "2025-03-05T01:01:33.608551Z",
     "iopub.status.idle": "2025-03-05T01:01:33.611485Z",
     "shell.execute_reply": "2025-03-05T01:01:33.611084Z"
    },
    "papermill": {
     "duration": 0.008501,
     "end_time": "2025-03-05T01:01:33.612310",
     "exception": false,
     "start_time": "2025-03-05T01:01:33.603809",
     "status": "completed"
    },
    "tags": []
   },
   "outputs": [],
   "source": [
    "def cosine_distance(x, y):\n",
    "    return 1 - torch.nn.functional.cosine_similarity(x, y, dim=-1)"
   ]
  },
  {
   "cell_type": "code",
   "execution_count": 19,
   "id": "990f63bd-4d48-4f58-a001-3b3250f65312",
   "metadata": {
    "execution": {
     "iopub.execute_input": "2025-03-05T01:01:33.622095Z",
     "iopub.status.busy": "2025-03-05T01:01:33.621696Z",
     "iopub.status.idle": "2025-03-05T01:01:33.634513Z",
     "shell.execute_reply": "2025-03-05T01:01:33.634067Z"
    },
    "papermill": {
     "duration": 0.018256,
     "end_time": "2025-03-05T01:01:33.635375",
     "exception": false,
     "start_time": "2025-03-05T01:01:33.617119",
     "status": "completed"
    },
    "tags": []
   },
   "outputs": [],
   "source": [
    "def evaluate_mrr_baseline(model, data_loader_val, distance_fn):\n",
    "    model.eval()\n",
    "\n",
    "    total_rr = 0.0\n",
    "    num_queries = 0\n",
    "\n",
    "    with torch.no_grad():\n",
    "        for batch in data_loader_val:\n",
    "            anchor_text = batch[0]\n",
    "            positive_text = batch[1]\n",
    "            negative_texts = batch[2]\n",
    "\n",
    "            anchor_input = tokenizer(anchor_text, return_tensors='pt', padding=True, truncation=True, max_length=512).to(device)\n",
    "            positive_input = tokenizer(positive_text, return_tensors='pt', padding=True, truncation=True, max_length=512).to(device)\n",
    "\n",
    "            anchor_embedding = model(**anchor_input).last_hidden_state[:, 0, :]\n",
    "            positive_embedding = model(**positive_input).last_hidden_state[:, 0, :]\n",
    "            negative_embedding = [model(**tokenizer(neg, return_tensors='pt', padding=True, truncation=True, max_length=512).to(device)).last_hidden_state[:, 0, :] for neg in negative_texts]\n",
    "\n",
    "            pos_dist = distance_fn(anchor_embedding, positive_embedding)\n",
    "            neg_dist = torch.stack([distance_fn(anchor_embedding, neg) for neg in negative_embedding], dim=-1)\n",
    "            all_similarities=torch.cat([-pos_dist.unsqueeze(1), -neg_dist], dim=1)\n",
    "\n",
    "            sorted_similarities, sorted_indices = torch.sort(all_similarities, dim=1, descending=True)\n",
    "\n",
    "            # Find the rank of the first relevant (positive) document\n",
    "            positive_rank = (sorted_indices == 0).nonzero(as_tuple=True)[1] + 1  # +1 to make rank 1-based\n",
    "            total_rr += torch.sum(1.0 / positive_rank.float()).item()  # Reciprocal rank\n",
    "            num_queries += len(positive_rank)\n",
    "\n",
    "    mrr = total_rr / num_queries\n",
    "    return mrr"
   ]
  },
  {
   "cell_type": "code",
   "execution_count": 20,
   "id": "534a9ec5-4211-4cb6-81f1-fb8a30caff92",
   "metadata": {
    "execution": {
     "iopub.execute_input": "2025-03-05T01:01:33.645238Z",
     "iopub.status.busy": "2025-03-05T01:01:33.644605Z",
     "iopub.status.idle": "2025-03-05T01:01:35.980747Z",
     "shell.execute_reply": "2025-03-05T01:01:35.980047Z"
    },
    "papermill": {
     "duration": 2.342189,
     "end_time": "2025-03-05T01:01:35.981999",
     "exception": false,
     "start_time": "2025-03-05T01:01:33.639810",
     "status": "completed"
    },
    "tags": []
   },
   "outputs": [
    {
     "name": "stdout",
     "output_type": "stream",
     "text": [
      "0.4879999923706055\n"
     ]
    }
   ],
   "source": [
    "mrr_validation_baseline = evaluate_mrr_baseline(lora_model_baseline, data_loader, cosine_distance)\n",
    "print(mrr_validation_baseline)"
   ]
  },
  {
   "cell_type": "code",
   "execution_count": null,
   "id": "f61bbd65-41c9-4ac7-80ef-ba4a4fb02d45",
   "metadata": {
    "papermill": {
     "duration": 0.004471,
     "end_time": "2025-03-05T01:01:35.991704",
     "exception": false,
     "start_time": "2025-03-05T01:01:35.987233",
     "status": "completed"
    },
    "tags": []
   },
   "outputs": [],
   "source": []
  },
  {
   "cell_type": "code",
   "execution_count": 21,
   "id": "8a3dfd17-ee43-4c4e-9287-8ec6451bc062",
   "metadata": {
    "execution": {
     "iopub.execute_input": "2025-03-05T01:01:36.002318Z",
     "iopub.status.busy": "2025-03-05T01:01:36.001574Z",
     "iopub.status.idle": "2025-03-05T01:01:36.355845Z",
     "shell.execute_reply": "2025-03-05T01:01:36.355276Z"
    },
    "papermill": {
     "duration": 0.360541,
     "end_time": "2025-03-05T01:01:36.356734",
     "exception": false,
     "start_time": "2025-03-05T01:01:35.996193",
     "status": "completed"
    },
    "tags": []
   },
   "outputs": [
    {
     "name": "stderr",
     "output_type": "stream",
     "text": [
      "/tmp/ipykernel_1233679/2975798179.py:2: FutureWarning: You are using `torch.load` with `weights_only=False` (the current default value), which uses the default pickle module implicitly. It is possible to construct malicious pickle data which will execute arbitrary code during unpickling (See https://github.com/pytorch/pytorch/blob/main/SECURITY.md#untrusted-models for more details). In a future release, the default value for `weights_only` will be flipped to `True`. This limits the functions that could be executed during unpickling. Arbitrary objects will no longer be allowed to be loaded via this mode unless they are explicitly allowlisted by the user via `torch.serialization.add_safe_globals`. We recommend you start setting `weights_only=True` for any use case where you don't have full control of the loaded file. Please open an issue on GitHub for any issues related to this experimental feature.\n",
      "  lora_model_average = torch.load(file_path_average)\n"
     ]
    }
   ],
   "source": [
    "file_path_average=\"/dss/dsshome1/07/ra65bex2/srawat/contrastive_learning/v1.1/app_average/average_checkpoint_epoch_3.pth\"\n",
    "lora_model_average = torch.load(file_path_average)\n",
    "lora_model_average = lora_model_average.to(device)"
   ]
  },
  {
   "cell_type": "code",
   "execution_count": 22,
   "id": "49c10d3f-c53d-4222-aba4-0e763451baff",
   "metadata": {
    "execution": {
     "iopub.execute_input": "2025-03-05T01:01:36.366942Z",
     "iopub.status.busy": "2025-03-05T01:01:36.366794Z",
     "iopub.status.idle": "2025-03-05T01:01:36.370351Z",
     "shell.execute_reply": "2025-03-05T01:01:36.369924Z"
    },
    "papermill": {
     "duration": 0.009942,
     "end_time": "2025-03-05T01:01:36.371575",
     "exception": false,
     "start_time": "2025-03-05T01:01:36.361633",
     "status": "completed"
    },
    "tags": []
   },
   "outputs": [],
   "source": [
    "def avg_embedding(inputs, model):\n",
    "    input=model(**inputs)\n",
    "    input_last_hidden_state=input.last_hidden_state\n",
    "    input_attention_mask = inputs['attention_mask']\n",
    "    input_masked_embeddings = input_last_hidden_state * input_attention_mask.unsqueeze(-1)\n",
    "    input_sum_embeddings = torch.sum(input_masked_embeddings, dim=1)\n",
    "    input_token_counts = torch.sum(input_attention_mask, dim=1).unsqueeze(-1)\n",
    "    input_avg_embeddings = input_sum_embeddings / input_token_counts\n",
    "    return(input_avg_embeddings)"
   ]
  },
  {
   "cell_type": "code",
   "execution_count": 23,
   "id": "22570a1b-93bf-41ef-99fe-de41c3857b41",
   "metadata": {
    "execution": {
     "iopub.execute_input": "2025-03-05T01:01:36.381726Z",
     "iopub.status.busy": "2025-03-05T01:01:36.381592Z",
     "iopub.status.idle": "2025-03-05T01:01:36.395792Z",
     "shell.execute_reply": "2025-03-05T01:01:36.395317Z"
    },
    "papermill": {
     "duration": 0.020347,
     "end_time": "2025-03-05T01:01:36.396972",
     "exception": false,
     "start_time": "2025-03-05T01:01:36.376625",
     "status": "completed"
    },
    "tags": []
   },
   "outputs": [],
   "source": [
    "def evaluate_mrr_average(model, data_loader_val, distance_fn):\n",
    "    model.eval()  \n",
    "\n",
    "    total_rr = 0.0\n",
    "    num_queries = 0\n",
    "\n",
    "    with torch.no_grad():\n",
    "        for batch in data_loader_val:\n",
    "            anchor_text = batch[0]\n",
    "            positive_text = batch[1]\n",
    "            negative_texts = batch[2]\n",
    "\n",
    "            anchor_input = tokenizer(anchor_text, return_tensors='pt', padding=True, truncation=True, max_length=512).to(device)\n",
    "            positive_input = tokenizer(positive_text, return_tensors='pt', padding=True, truncation=True, max_length=512).to(device)\n",
    "\n",
    "            anchor_embedding = avg_embedding(anchor_input, model)\n",
    "            positive_embedding = avg_embedding(positive_input, model)\n",
    "            negative_embedding = [avg_embedding(tokenizer(neg, return_tensors='pt', padding=True, truncation=True, max_length=512).to(device), model) for neg in negative_texts]\n",
    "\n",
    "            pos_dist = distance_fn(anchor_embedding, positive_embedding)\n",
    "            neg_dist = torch.stack([distance_fn(anchor_embedding, neg) for neg in negative_embedding], dim=-1)\n",
    "            all_similarities=torch.cat([-pos_dist.unsqueeze(1), -neg_dist], dim=1)\n",
    "            \n",
    "            sorted_similarities, sorted_indices = torch.sort(all_similarities, dim=1, descending=True)\n",
    "\n",
    "            # Find the rank of the first relevant (positive) document\n",
    "            positive_rank = (sorted_indices == 0).nonzero(as_tuple=True)[1] + 1  # +1 to make rank 1-based\n",
    "            total_rr += torch.sum(1.0 / positive_rank.float()).item()  # Reciprocal rank\n",
    "            num_queries += len(positive_rank)\n",
    "\n",
    "    mrr = total_rr / num_queries\n",
    "    return mrr"
   ]
  },
  {
   "cell_type": "code",
   "execution_count": 24,
   "id": "82977667-a984-467e-9eb6-9d6520ecb3b8",
   "metadata": {
    "execution": {
     "iopub.execute_input": "2025-03-05T01:01:36.406819Z",
     "iopub.status.busy": "2025-03-05T01:01:36.406686Z",
     "iopub.status.idle": "2025-03-05T01:01:38.110956Z",
     "shell.execute_reply": "2025-03-05T01:01:38.110316Z"
    },
    "papermill": {
     "duration": 1.710001,
     "end_time": "2025-03-05T01:01:38.111706",
     "exception": false,
     "start_time": "2025-03-05T01:01:36.401705",
     "status": "completed"
    },
    "tags": []
   },
   "outputs": [
    {
     "name": "stdout",
     "output_type": "stream",
     "text": [
      "0.524666690826416\n"
     ]
    }
   ],
   "source": [
    "mrr_validation_average = evaluate_mrr_average(lora_model_average, data_loader, cosine_distance)\n",
    "print(mrr_validation_average)"
   ]
  },
  {
   "cell_type": "code",
   "execution_count": null,
   "id": "966c23c7-dc92-49e8-bb1f-1520c0ccd13b",
   "metadata": {
    "papermill": {
     "duration": 0.004437,
     "end_time": "2025-03-05T01:01:38.120895",
     "exception": false,
     "start_time": "2025-03-05T01:01:38.116458",
     "status": "completed"
    },
    "tags": []
   },
   "outputs": [],
   "source": []
  },
  {
   "cell_type": "code",
   "execution_count": 25,
   "id": "af58281c-1786-4bda-9eec-0fa0f127d140",
   "metadata": {
    "execution": {
     "iopub.execute_input": "2025-03-05T01:01:38.131105Z",
     "iopub.status.busy": "2025-03-05T01:01:38.130584Z",
     "iopub.status.idle": "2025-03-05T01:01:38.486163Z",
     "shell.execute_reply": "2025-03-05T01:01:38.485548Z"
    },
    "papermill": {
     "duration": 0.361962,
     "end_time": "2025-03-05T01:01:38.487351",
     "exception": false,
     "start_time": "2025-03-05T01:01:38.125389",
     "status": "completed"
    },
    "tags": []
   },
   "outputs": [
    {
     "name": "stderr",
     "output_type": "stream",
     "text": [
      "/tmp/ipykernel_1233679/2502257612.py:2: FutureWarning: You are using `torch.load` with `weights_only=False` (the current default value), which uses the default pickle module implicitly. It is possible to construct malicious pickle data which will execute arbitrary code during unpickling (See https://github.com/pytorch/pytorch/blob/main/SECURITY.md#untrusted-models for more details). In a future release, the default value for `weights_only` will be flipped to `True`. This limits the functions that could be executed during unpickling. Arbitrary objects will no longer be allowed to be loaded via this mode unless they are explicitly allowlisted by the user via `torch.serialization.add_safe_globals`. We recommend you start setting `weights_only=True` for any use case where you don't have full control of the loaded file. Please open an issue on GitHub for any issues related to this experimental feature.\n",
      "  lora_model_hyperbolic = torch.load(file_path_hyperbolic)\n"
     ]
    }
   ],
   "source": [
    "file_path_hyperbolic=\"/dss/dsshome1/07/ra65bex2/srawat/contrastive_learning/v1.1/0.1hyperbolic/hyperbolic_lora_checkpoint_epoch_3.pth\"\n",
    "lora_model_hyperbolic = torch.load(file_path_hyperbolic)\n",
    "lora_model_hyperbolic = lora_model_hyperbolic.to(device)"
   ]
  },
  {
   "cell_type": "code",
   "execution_count": 26,
   "id": "d6f9507b-01e9-49d0-8327-760677bfcf0b",
   "metadata": {
    "execution": {
     "iopub.execute_input": "2025-03-05T01:01:38.499257Z",
     "iopub.status.busy": "2025-03-05T01:01:38.499118Z",
     "iopub.status.idle": "2025-03-05T01:01:38.503659Z",
     "shell.execute_reply": "2025-03-05T01:01:38.502672Z"
    },
    "papermill": {
     "duration": 0.011094,
     "end_time": "2025-03-05T01:01:38.504404",
     "exception": false,
     "start_time": "2025-03-05T01:01:38.493310",
     "status": "completed"
    },
    "tags": []
   },
   "outputs": [],
   "source": [
    "def lorentzian_distance(x, y):\n",
    "    \n",
    "    dot_product = torch.sum(x * y, dim=-1)\n",
    "    norm_x = torch.norm(x, dim=-1)\n",
    "    norm_y = torch.norm(y, dim=-1)\n",
    "    \n",
    "    distance = torch.acosh(-dot_product + torch.sqrt((1 + norm_x**2) * (1 + norm_y**2)))\n",
    "    return distance"
   ]
  },
  {
   "cell_type": "code",
   "execution_count": 27,
   "id": "de4ecc53-8b64-4fee-bfbf-d3b85d441d1f",
   "metadata": {
    "execution": {
     "iopub.execute_input": "2025-03-05T01:01:38.515441Z",
     "iopub.status.busy": "2025-03-05T01:01:38.514247Z",
     "iopub.status.idle": "2025-03-05T01:01:38.525881Z",
     "shell.execute_reply": "2025-03-05T01:01:38.525201Z"
    },
    "papermill": {
     "duration": 0.017307,
     "end_time": "2025-03-05T01:01:38.526563",
     "exception": false,
     "start_time": "2025-03-05T01:01:38.509256",
     "status": "completed"
    },
    "tags": []
   },
   "outputs": [],
   "source": [
    "def expm_o(v, c=1.0):\n",
    "    c = torch.tensor(c)\n",
    "    vspace = v\n",
    "    vnorm = torch.norm(v, p=2, dim=-1, keepdim=True)\n",
    "    xspace = torch.sinh(torch.sqrt(c) * vnorm) * vspace / (torch.sqrt(c) * vnorm)\n",
    "    batch_min = xspace.min(dim=1, keepdim=True).values\n",
    "    batch_max = xspace.max(dim=1, keepdim=True).values\n",
    "    xspace_scaled=(xspace - batch_min) / (batch_max - batch_min)\n",
    "    return xspace_scaled"
   ]
  },
  {
   "cell_type": "code",
   "execution_count": 28,
   "id": "c6639968-6b1d-4601-a69f-6e83b9863ab6",
   "metadata": {
    "execution": {
     "iopub.execute_input": "2025-03-05T01:01:38.537903Z",
     "iopub.status.busy": "2025-03-05T01:01:38.537769Z",
     "iopub.status.idle": "2025-03-05T01:01:38.551144Z",
     "shell.execute_reply": "2025-03-05T01:01:38.550521Z"
    },
    "papermill": {
     "duration": 0.020009,
     "end_time": "2025-03-05T01:01:38.552040",
     "exception": false,
     "start_time": "2025-03-05T01:01:38.532031",
     "status": "completed"
    },
    "tags": []
   },
   "outputs": [],
   "source": [
    "def evaluate_mrr_hyperbolic(model1, data_loader_val, distance_fn):\n",
    "    model1.eval()\n",
    "    \n",
    "    total_rr = 0.0\n",
    "    num_queries = 0\n",
    "\n",
    "    with torch.no_grad():\n",
    "        for batch in data_loader_val:\n",
    "            anchor_text = batch[0]\n",
    "            positive_text = batch[1]\n",
    "            negative_texts = batch[2]\n",
    "\n",
    "            anchor_input = tokenizer(anchor_text, return_tensors='pt', padding=True, truncation=True, max_length=512).to(device)\n",
    "            positive_input = tokenizer(positive_text, return_tensors='pt', padding=True, truncation=True, max_length=512).to(device)\n",
    "\n",
    "            anchor_embedding = expm_o(model1(**anchor_input).last_hidden_state[:, 0, :])\n",
    "            positive_embedding = expm_o(model1(**positive_input).last_hidden_state[:, 0, :])\n",
    "            negative_embedding = [expm_o(model1(**tokenizer(neg, return_tensors='pt', padding=True, truncation=True, max_length=512).to(device)).last_hidden_state[:, 0, :]) for neg in negative_texts]\n",
    "\n",
    "            pos_dist = distance_fn(anchor_embedding, positive_embedding)\n",
    "            neg_dist = torch.stack([distance_fn(anchor_embedding, neg) for neg in negative_embedding], dim=-1)\n",
    "            all_similarities=torch.cat([-pos_dist.unsqueeze(1), -neg_dist], dim=1)\n",
    "\n",
    "            sorted_similarities, sorted_indices = torch.sort(all_similarities, dim=1, descending=True)\n",
    "\n",
    "            # Find the rank of the first relevant (positive) document\n",
    "            positive_rank = (sorted_indices == 0).nonzero(as_tuple=True)[1] + 1  # +1 to make rank 1-based\n",
    "            total_rr += torch.sum(1.0 / positive_rank.float()).item()  # Reciprocal rank\n",
    "            num_queries += len(positive_rank)\n",
    "            \n",
    "    mrr = total_rr / num_queries\n",
    "    return mrr"
   ]
  },
  {
   "cell_type": "code",
   "execution_count": 29,
   "id": "9c54c77e-2dde-4c88-9eaf-439a409e845e",
   "metadata": {
    "execution": {
     "iopub.execute_input": "2025-03-05T01:01:38.561947Z",
     "iopub.status.busy": "2025-03-05T01:01:38.561816Z",
     "iopub.status.idle": "2025-03-05T01:01:40.311713Z",
     "shell.execute_reply": "2025-03-05T01:01:40.311106Z"
    },
    "papermill": {
     "duration": 1.755713,
     "end_time": "2025-03-05T01:01:40.312472",
     "exception": false,
     "start_time": "2025-03-05T01:01:38.556759",
     "status": "completed"
    },
    "tags": []
   },
   "outputs": [
    {
     "name": "stdout",
     "output_type": "stream",
     "text": [
      "0.3906666564941406\n"
     ]
    }
   ],
   "source": [
    "mrr_validation_hyperbolic = evaluate_mrr_hyperbolic(model1=lora_model_hyperbolic, data_loader_val=data_loader,distance_fn=lorentzian_distance)\n",
    "print(mrr_validation_hyperbolic)"
   ]
  },
  {
   "cell_type": "code",
   "execution_count": null,
   "id": "3e097240-0b21-4a85-8959-2c74522b15a8",
   "metadata": {
    "papermill": {
     "duration": 0.004711,
     "end_time": "2025-03-05T01:01:40.322969",
     "exception": false,
     "start_time": "2025-03-05T01:01:40.318258",
     "status": "completed"
    },
    "tags": []
   },
   "outputs": [],
   "source": []
  },
  {
   "cell_type": "code",
   "execution_count": 30,
   "id": "d883371b-b6e4-40de-b212-93ed5fcb6061",
   "metadata": {
    "execution": {
     "iopub.execute_input": "2025-03-05T01:01:40.333415Z",
     "iopub.status.busy": "2025-03-05T01:01:40.332876Z",
     "iopub.status.idle": "2025-03-05T01:01:40.339062Z",
     "shell.execute_reply": "2025-03-05T01:01:40.338678Z"
    },
    "papermill": {
     "duration": 0.012016,
     "end_time": "2025-03-05T01:01:40.339768",
     "exception": false,
     "start_time": "2025-03-05T01:01:40.327752",
     "status": "completed"
    },
    "tags": []
   },
   "outputs": [
    {
     "name": "stdout",
     "output_type": "stream",
     "text": [
      "Median Query Length: 10.0\n"
     ]
    }
   ],
   "source": [
    "import statistics\n",
    "print(\"Median Query Length:\", statistics.median(query_lengths))"
   ]
  },
  {
   "cell_type": "code",
   "execution_count": 31,
   "id": "4b02b505-a8f9-480d-959e-effcbc2ed3a2",
   "metadata": {
    "execution": {
     "iopub.execute_input": "2025-03-05T01:01:40.349962Z",
     "iopub.status.busy": "2025-03-05T01:01:40.349470Z",
     "iopub.status.idle": "2025-03-05T01:01:40.358766Z",
     "shell.execute_reply": "2025-03-05T01:01:40.358350Z"
    },
    "papermill": {
     "duration": 0.01503,
     "end_time": "2025-03-05T01:01:40.359516",
     "exception": false,
     "start_time": "2025-03-05T01:01:40.344486",
     "status": "completed"
    },
    "tags": []
   },
   "outputs": [
    {
     "data": {
      "text/plain": [
       "0.4879999923706055"
      ]
     },
     "execution_count": 31,
     "metadata": {},
     "output_type": "execute_result"
    }
   ],
   "source": [
    "mrr_validation_baseline"
   ]
  },
  {
   "cell_type": "code",
   "execution_count": 32,
   "id": "5c10dccb-fbc7-448b-b3d9-4d7e045dafd3",
   "metadata": {
    "execution": {
     "iopub.execute_input": "2025-03-05T01:01:40.369718Z",
     "iopub.status.busy": "2025-03-05T01:01:40.369587Z",
     "iopub.status.idle": "2025-03-05T01:01:40.379365Z",
     "shell.execute_reply": "2025-03-05T01:01:40.378946Z"
    },
    "papermill": {
     "duration": 0.01556,
     "end_time": "2025-03-05T01:01:40.380079",
     "exception": false,
     "start_time": "2025-03-05T01:01:40.364519",
     "status": "completed"
    },
    "tags": []
   },
   "outputs": [
    {
     "data": {
      "text/plain": [
       "0.524666690826416"
      ]
     },
     "execution_count": 32,
     "metadata": {},
     "output_type": "execute_result"
    }
   ],
   "source": [
    "mrr_validation_average"
   ]
  },
  {
   "cell_type": "code",
   "execution_count": 33,
   "id": "b9c22c87-c20f-4a86-a8d3-d941340ea726",
   "metadata": {
    "execution": {
     "iopub.execute_input": "2025-03-05T01:01:40.390717Z",
     "iopub.status.busy": "2025-03-05T01:01:40.390347Z",
     "iopub.status.idle": "2025-03-05T01:01:40.399593Z",
     "shell.execute_reply": "2025-03-05T01:01:40.399077Z"
    },
    "papermill": {
     "duration": 0.015184,
     "end_time": "2025-03-05T01:01:40.400272",
     "exception": false,
     "start_time": "2025-03-05T01:01:40.385088",
     "status": "completed"
    },
    "tags": []
   },
   "outputs": [
    {
     "data": {
      "text/plain": [
       "0.3906666564941406"
      ]
     },
     "execution_count": 33,
     "metadata": {},
     "output_type": "execute_result"
    }
   ],
   "source": [
    "mrr_validation_hyperbolic"
   ]
  }
 ],
 "metadata": {
  "kernelspec": {
   "display_name": "Python (myenv)",
   "language": "python",
   "name": "myenv"
  },
  "language_info": {
   "codemirror_mode": {
    "name": "ipython",
    "version": 3
   },
   "file_extension": ".py",
   "mimetype": "text/x-python",
   "name": "python",
   "nbconvert_exporter": "python",
   "pygments_lexer": "ipython3",
   "version": "3.12.7"
  },
  "papermill": {
   "default_parameters": {},
   "duration": 26.621762,
   "end_time": "2025-03-05T01:01:43.162490",
   "environment_variables": {},
   "exception": null,
   "input_path": "trec-covid.ipynb",
   "output_path": "trec-covid_output.ipynb",
   "parameters": {},
   "start_time": "2025-03-05T01:01:16.540728",
   "version": "2.6.0"
  },
  "widgets": {
   "application/vnd.jupyter.widget-state+json": {
    "state": {
     "0cfa2b693ddd4f178f46f80b1e056aa2": {
      "model_module": "@jupyter-widgets/controls",
      "model_module_version": "2.0.0",
      "model_name": "HTMLStyleModel",
      "state": {
       "_model_module": "@jupyter-widgets/controls",
       "_model_module_version": "2.0.0",
       "_model_name": "HTMLStyleModel",
       "_view_count": null,
       "_view_module": "@jupyter-widgets/base",
       "_view_module_version": "2.0.0",
       "_view_name": "StyleView",
       "background": null,
       "description_width": "",
       "font_size": null,
       "text_color": null
      }
     },
     "1ddc70a64fc84ff9821598deb72934d1": {
      "model_module": "@jupyter-widgets/base",
      "model_module_version": "2.0.0",
      "model_name": "LayoutModel",
      "state": {
       "_model_module": "@jupyter-widgets/base",
       "_model_module_version": "2.0.0",
       "_model_name": "LayoutModel",
       "_view_count": null,
       "_view_module": "@jupyter-widgets/base",
       "_view_module_version": "2.0.0",
       "_view_name": "LayoutView",
       "align_content": null,
       "align_items": null,
       "align_self": null,
       "border_bottom": null,
       "border_left": null,
       "border_right": null,
       "border_top": null,
       "bottom": null,
       "display": null,
       "flex": null,
       "flex_flow": null,
       "grid_area": null,
       "grid_auto_columns": null,
       "grid_auto_flow": null,
       "grid_auto_rows": null,
       "grid_column": null,
       "grid_gap": null,
       "grid_row": null,
       "grid_template_areas": null,
       "grid_template_columns": null,
       "grid_template_rows": null,
       "height": null,
       "justify_content": null,
       "justify_items": null,
       "left": null,
       "margin": null,
       "max_height": null,
       "max_width": null,
       "min_height": null,
       "min_width": null,
       "object_fit": null,
       "object_position": null,
       "order": null,
       "overflow": null,
       "padding": null,
       "right": null,
       "top": null,
       "visibility": null,
       "width": null
      }
     },
     "23751eb589164721bcb16a58d032bc5c": {
      "model_module": "@jupyter-widgets/controls",
      "model_module_version": "2.0.0",
      "model_name": "FloatProgressModel",
      "state": {
       "_dom_classes": [],
       "_model_module": "@jupyter-widgets/controls",
       "_model_module_version": "2.0.0",
       "_model_name": "FloatProgressModel",
       "_view_count": null,
       "_view_module": "@jupyter-widgets/controls",
       "_view_module_version": "2.0.0",
       "_view_name": "ProgressView",
       "bar_style": "success",
       "description": "",
       "description_allow_html": false,
       "layout": "IPY_MODEL_38a6f7a7302643d5852192d61d3e4e82",
       "max": 171332.0,
       "min": 0.0,
       "orientation": "horizontal",
       "style": "IPY_MODEL_e7e8e46c316149feb3fb6b73b7b1a74b",
       "tabbable": null,
       "tooltip": null,
       "value": 171332.0
      }
     },
     "38a6f7a7302643d5852192d61d3e4e82": {
      "model_module": "@jupyter-widgets/base",
      "model_module_version": "2.0.0",
      "model_name": "LayoutModel",
      "state": {
       "_model_module": "@jupyter-widgets/base",
       "_model_module_version": "2.0.0",
       "_model_name": "LayoutModel",
       "_view_count": null,
       "_view_module": "@jupyter-widgets/base",
       "_view_module_version": "2.0.0",
       "_view_name": "LayoutView",
       "align_content": null,
       "align_items": null,
       "align_self": null,
       "border_bottom": null,
       "border_left": null,
       "border_right": null,
       "border_top": null,
       "bottom": null,
       "display": null,
       "flex": null,
       "flex_flow": null,
       "grid_area": null,
       "grid_auto_columns": null,
       "grid_auto_flow": null,
       "grid_auto_rows": null,
       "grid_column": null,
       "grid_gap": null,
       "grid_row": null,
       "grid_template_areas": null,
       "grid_template_columns": null,
       "grid_template_rows": null,
       "height": null,
       "justify_content": null,
       "justify_items": null,
       "left": null,
       "margin": null,
       "max_height": null,
       "max_width": null,
       "min_height": null,
       "min_width": null,
       "object_fit": null,
       "object_position": null,
       "order": null,
       "overflow": null,
       "padding": null,
       "right": null,
       "top": null,
       "visibility": null,
       "width": null
      }
     },
     "63ecc40ca2f440c68616b2caa1fd28e2": {
      "model_module": "@jupyter-widgets/controls",
      "model_module_version": "2.0.0",
      "model_name": "HTMLStyleModel",
      "state": {
       "_model_module": "@jupyter-widgets/controls",
       "_model_module_version": "2.0.0",
       "_model_name": "HTMLStyleModel",
       "_view_count": null,
       "_view_module": "@jupyter-widgets/base",
       "_view_module_version": "2.0.0",
       "_view_name": "StyleView",
       "background": null,
       "description_width": "",
       "font_size": null,
       "text_color": null
      }
     },
     "9a79ad223677459eaccbe9aa221b43b5": {
      "model_module": "@jupyter-widgets/controls",
      "model_module_version": "2.0.0",
      "model_name": "HTMLModel",
      "state": {
       "_dom_classes": [],
       "_model_module": "@jupyter-widgets/controls",
       "_model_module_version": "2.0.0",
       "_model_name": "HTMLModel",
       "_view_count": null,
       "_view_module": "@jupyter-widgets/controls",
       "_view_module_version": "2.0.0",
       "_view_name": "HTMLView",
       "description": "",
       "description_allow_html": false,
       "layout": "IPY_MODEL_e7d0fc01d72b409ca3fb2b69d139be31",
       "placeholder": "​",
       "style": "IPY_MODEL_0cfa2b693ddd4f178f46f80b1e056aa2",
       "tabbable": null,
       "tooltip": null,
       "value": " 171332/171332 [00:01&lt;00:00, 132718.53it/s]"
      }
     },
     "a03459e02f6d4e9094032ead59d24e61": {
      "model_module": "@jupyter-widgets/controls",
      "model_module_version": "2.0.0",
      "model_name": "HTMLModel",
      "state": {
       "_dom_classes": [],
       "_model_module": "@jupyter-widgets/controls",
       "_model_module_version": "2.0.0",
       "_model_name": "HTMLModel",
       "_view_count": null,
       "_view_module": "@jupyter-widgets/controls",
       "_view_module_version": "2.0.0",
       "_view_name": "HTMLView",
       "description": "",
       "description_allow_html": false,
       "layout": "IPY_MODEL_cc6c4bb83abf49b2ab3ec52ec09cc9a5",
       "placeholder": "​",
       "style": "IPY_MODEL_63ecc40ca2f440c68616b2caa1fd28e2",
       "tabbable": null,
       "tooltip": null,
       "value": "100%"
      }
     },
     "cc6c4bb83abf49b2ab3ec52ec09cc9a5": {
      "model_module": "@jupyter-widgets/base",
      "model_module_version": "2.0.0",
      "model_name": "LayoutModel",
      "state": {
       "_model_module": "@jupyter-widgets/base",
       "_model_module_version": "2.0.0",
       "_model_name": "LayoutModel",
       "_view_count": null,
       "_view_module": "@jupyter-widgets/base",
       "_view_module_version": "2.0.0",
       "_view_name": "LayoutView",
       "align_content": null,
       "align_items": null,
       "align_self": null,
       "border_bottom": null,
       "border_left": null,
       "border_right": null,
       "border_top": null,
       "bottom": null,
       "display": null,
       "flex": null,
       "flex_flow": null,
       "grid_area": null,
       "grid_auto_columns": null,
       "grid_auto_flow": null,
       "grid_auto_rows": null,
       "grid_column": null,
       "grid_gap": null,
       "grid_row": null,
       "grid_template_areas": null,
       "grid_template_columns": null,
       "grid_template_rows": null,
       "height": null,
       "justify_content": null,
       "justify_items": null,
       "left": null,
       "margin": null,
       "max_height": null,
       "max_width": null,
       "min_height": null,
       "min_width": null,
       "object_fit": null,
       "object_position": null,
       "order": null,
       "overflow": null,
       "padding": null,
       "right": null,
       "top": null,
       "visibility": null,
       "width": null
      }
     },
     "d39e96db1f6243a98a615bbdb271ace1": {
      "model_module": "@jupyter-widgets/controls",
      "model_module_version": "2.0.0",
      "model_name": "HBoxModel",
      "state": {
       "_dom_classes": [],
       "_model_module": "@jupyter-widgets/controls",
       "_model_module_version": "2.0.0",
       "_model_name": "HBoxModel",
       "_view_count": null,
       "_view_module": "@jupyter-widgets/controls",
       "_view_module_version": "2.0.0",
       "_view_name": "HBoxView",
       "box_style": "",
       "children": [
        "IPY_MODEL_a03459e02f6d4e9094032ead59d24e61",
        "IPY_MODEL_23751eb589164721bcb16a58d032bc5c",
        "IPY_MODEL_9a79ad223677459eaccbe9aa221b43b5"
       ],
       "layout": "IPY_MODEL_1ddc70a64fc84ff9821598deb72934d1",
       "tabbable": null,
       "tooltip": null
      }
     },
     "e7d0fc01d72b409ca3fb2b69d139be31": {
      "model_module": "@jupyter-widgets/base",
      "model_module_version": "2.0.0",
      "model_name": "LayoutModel",
      "state": {
       "_model_module": "@jupyter-widgets/base",
       "_model_module_version": "2.0.0",
       "_model_name": "LayoutModel",
       "_view_count": null,
       "_view_module": "@jupyter-widgets/base",
       "_view_module_version": "2.0.0",
       "_view_name": "LayoutView",
       "align_content": null,
       "align_items": null,
       "align_self": null,
       "border_bottom": null,
       "border_left": null,
       "border_right": null,
       "border_top": null,
       "bottom": null,
       "display": null,
       "flex": null,
       "flex_flow": null,
       "grid_area": null,
       "grid_auto_columns": null,
       "grid_auto_flow": null,
       "grid_auto_rows": null,
       "grid_column": null,
       "grid_gap": null,
       "grid_row": null,
       "grid_template_areas": null,
       "grid_template_columns": null,
       "grid_template_rows": null,
       "height": null,
       "justify_content": null,
       "justify_items": null,
       "left": null,
       "margin": null,
       "max_height": null,
       "max_width": null,
       "min_height": null,
       "min_width": null,
       "object_fit": null,
       "object_position": null,
       "order": null,
       "overflow": null,
       "padding": null,
       "right": null,
       "top": null,
       "visibility": null,
       "width": null
      }
     },
     "e7e8e46c316149feb3fb6b73b7b1a74b": {
      "model_module": "@jupyter-widgets/controls",
      "model_module_version": "2.0.0",
      "model_name": "ProgressStyleModel",
      "state": {
       "_model_module": "@jupyter-widgets/controls",
       "_model_module_version": "2.0.0",
       "_model_name": "ProgressStyleModel",
       "_view_count": null,
       "_view_module": "@jupyter-widgets/base",
       "_view_module_version": "2.0.0",
       "_view_name": "StyleView",
       "bar_color": null,
       "description_width": ""
      }
     }
    },
    "version_major": 2,
    "version_minor": 0
   }
  }
 },
 "nbformat": 4,
 "nbformat_minor": 5
}