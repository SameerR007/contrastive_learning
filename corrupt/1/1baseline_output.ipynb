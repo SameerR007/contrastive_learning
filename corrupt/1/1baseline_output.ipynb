{
 "cells": [
  {
   "cell_type": "code",
   "execution_count": 1,
   "id": "fa1404de",
   "metadata": {
    "execution": {
     "iopub.execute_input": "2025-03-04T01:43:44.689620Z",
     "iopub.status.busy": "2025-03-04T01:43:44.689491Z",
     "iopub.status.idle": "2025-03-04T01:43:52.906698Z",
     "shell.execute_reply": "2025-03-04T01:43:52.906197Z"
    },
    "papermill": {
     "duration": 8.222819,
     "end_time": "2025-03-04T01:43:52.907914",
     "exception": false,
     "start_time": "2025-03-04T01:43:44.685095",
     "status": "completed"
    },
    "tags": []
   },
   "outputs": [],
   "source": [
    "from datasets import load_dataset"
   ]
  },
  {
   "cell_type": "code",
   "execution_count": 2,
   "id": "ab9f6d18",
   "metadata": {
    "execution": {
     "iopub.execute_input": "2025-03-04T01:43:52.916070Z",
     "iopub.status.busy": "2025-03-04T01:43:52.915761Z",
     "iopub.status.idle": "2025-03-04T01:44:00.265748Z",
     "shell.execute_reply": "2025-03-04T01:44:00.264851Z"
    },
    "papermill": {
     "duration": 7.353882,
     "end_time": "2025-03-04T01:44:00.266969",
     "exception": false,
     "start_time": "2025-03-04T01:43:52.913087",
     "status": "completed"
    },
    "tags": []
   },
   "outputs": [],
   "source": [
    "dataset_val = load_dataset('ms_marco', 'v1.1', split='validation')"
   ]
  },
  {
   "cell_type": "code",
   "execution_count": 3,
   "id": "949b6296",
   "metadata": {
    "execution": {
     "iopub.execute_input": "2025-03-04T01:44:00.275594Z",
     "iopub.status.busy": "2025-03-04T01:44:00.275344Z",
     "iopub.status.idle": "2025-03-04T01:44:00.283694Z",
     "shell.execute_reply": "2025-03-04T01:44:00.283275Z"
    },
    "papermill": {
     "duration": 0.012182,
     "end_time": "2025-03-04T01:44:00.284377",
     "exception": false,
     "start_time": "2025-03-04T01:44:00.272195",
     "status": "completed"
    },
    "tags": []
   },
   "outputs": [
    {
     "data": {
      "text/plain": [
       "Dataset({\n",
       "    features: ['answers', 'passages', 'query', 'query_id', 'query_type', 'wellFormedAnswers'],\n",
       "    num_rows: 10047\n",
       "})"
      ]
     },
     "execution_count": 3,
     "metadata": {},
     "output_type": "execute_result"
    }
   ],
   "source": [
    "dataset_val"
   ]
  },
  {
   "cell_type": "code",
   "execution_count": 4,
   "id": "20e945ef",
   "metadata": {
    "execution": {
     "iopub.execute_input": "2025-03-04T01:44:00.289782Z",
     "iopub.status.busy": "2025-03-04T01:44:00.289647Z",
     "iopub.status.idle": "2025-03-04T01:44:08.422811Z",
     "shell.execute_reply": "2025-03-04T01:44:08.422313Z"
    },
    "papermill": {
     "duration": 8.13666,
     "end_time": "2025-03-04T01:44:08.423524",
     "exception": false,
     "start_time": "2025-03-04T01:44:00.286864",
     "status": "completed"
    },
    "tags": []
   },
   "outputs": [
    {
     "name": "stderr",
     "output_type": "stream",
     "text": [
      "[nltk_data] Downloading package stopwords to\n",
      "[nltk_data]     /dss/dsshome1/07/ra65bex2/nltk_data...\n",
      "[nltk_data]   Package stopwords is already up-to-date!\n",
      "[nltk_data] Downloading package wordnet to\n",
      "[nltk_data]     /dss/dsshome1/07/ra65bex2/nltk_data...\n",
      "[nltk_data]   Package wordnet is already up-to-date!\n"
     ]
    }
   ],
   "source": [
    "import random\n",
    "import re\n",
    "import nltk\n",
    "from nltk.corpus import stopwords, wordnet\n",
    "nltk.download('stopwords')\n",
    "nltk.download('wordnet')\n",
    "stop_words = set(stopwords.words('english'))\n",
    "\n",
    "def clean_text(text):\n",
    "    return re.sub(r'[^\\w\\s.!?]', '', text)\n",
    "\n",
    "def select_words(text, num_words):\n",
    "    words = [w for w in text.split() if w.lower() not in stop_words]\n",
    "    return random.sample(words, min(num_words, len(words)))\n",
    "\n",
    "def introduce_typo(word):\n",
    "    if len(word) > 1:\n",
    "        idx = random.randint(0, len(word) - 1)\n",
    "        return word[:idx] + random.choice('abcdefghijklmnopqrstuvwxyz') + word[idx+1:]\n",
    "    return word\n",
    "\n",
    "def introduce_noise(word):\n",
    "    noise_chars = ['@', '#', '$', '%', '&', '*']\n",
    "    if len(word) > 1:\n",
    "        idx = random.randint(0, len(word) - 1)\n",
    "        return word[:idx] + random.choice(noise_chars) + word[idx+1:]\n",
    "    return word\n",
    "\n",
    "def replace_with_synonym(word):\n",
    "    synonyms = [syn.lemmas()[0].name() for syn in wordnet.synsets(word) if syn.lemmas()]\n",
    "    return random.choice(synonyms) if synonyms else word\n",
    "\n",
    "def corrupt_word(word, method):\n",
    "    if method == 'typo':\n",
    "        return introduce_typo(word)\n",
    "    elif method == 'noise':\n",
    "        return introduce_noise(word)\n",
    "    elif method == 'synonym':\n",
    "        return replace_with_synonym(word)\n",
    "    return word\n",
    "\n",
    "def corrupt_text(text):\n",
    "    corrupted_words = []  \n",
    "    words_to_corrupt=select_words(clean_text(text), num_words=1)\n",
    "    for word in clean_text(text).split():\n",
    "        if word in words_to_corrupt:\n",
    "            corruption_method = random.choice(['typo', 'noise', 'synonym'])\n",
    "            corrupted_words.append(corrupt_word(word, corruption_method))\n",
    "        else:\n",
    "            corrupted_words.append(word)\n",
    "    return ' '.join(corrupted_words)"
   ]
  },
  {
   "cell_type": "code",
   "execution_count": 5,
   "id": "96a27edc",
   "metadata": {
    "execution": {
     "iopub.execute_input": "2025-03-04T01:44:08.431961Z",
     "iopub.status.busy": "2025-03-04T01:44:08.431707Z",
     "iopub.status.idle": "2025-03-04T01:44:08.435675Z",
     "shell.execute_reply": "2025-03-04T01:44:08.435269Z"
    },
    "papermill": {
     "duration": 0.008139,
     "end_time": "2025-03-04T01:44:08.436585",
     "exception": false,
     "start_time": "2025-03-04T01:44:08.428446",
     "status": "completed"
    },
    "tags": []
   },
   "outputs": [],
   "source": [
    "def preprocess(example):\n",
    "    positive_passages=[]\n",
    "    for p in enumerate(example['passages'][\"is_selected\"]):\n",
    "        if p[1]==1:\n",
    "            positive_passages.append(example[\"passages\"][\"passage_text\"][p[0]])\n",
    "    negative_passages = []\n",
    "    for p in enumerate(example['passages'][\"is_selected\"]):\n",
    "        if p[1]==0:\n",
    "            negative_passages.append(example[\"passages\"][\"passage_text\"][p[0]])\n",
    "    if (len(positive_passages)>0 and len(negative_passages)>=5):\n",
    "        positive = positive_passages[0]\n",
    "        negatives = negative_passages[:5]\n",
    "        return {\n",
    "            \"query\": corrupt_text(example[\"query\"]),\n",
    "            \"positive\": positive,\n",
    "            \"negatives\": negatives\n",
    "        }\n",
    "    else:\n",
    "        return {\"query\": None, \"positive\": None, \"negatives\": None}"
   ]
  },
  {
   "cell_type": "code",
   "execution_count": 6,
   "id": "1603c9e3",
   "metadata": {
    "execution": {
     "iopub.execute_input": "2025-03-04T01:44:08.442524Z",
     "iopub.status.busy": "2025-03-04T01:44:08.442391Z",
     "iopub.status.idle": "2025-03-04T01:44:08.719861Z",
     "shell.execute_reply": "2025-03-04T01:44:08.719215Z"
    },
    "papermill": {
     "duration": 0.281507,
     "end_time": "2025-03-04T01:44:08.720908",
     "exception": false,
     "start_time": "2025-03-04T01:44:08.439401",
     "status": "completed"
    },
    "tags": []
   },
   "outputs": [],
   "source": [
    "processed_data_val = dataset_val.map(preprocess, remove_columns=dataset_val.column_names)"
   ]
  },
  {
   "cell_type": "code",
   "execution_count": 7,
   "id": "6a83a245",
   "metadata": {
    "execution": {
     "iopub.execute_input": "2025-03-04T01:44:08.728000Z",
     "iopub.status.busy": "2025-03-04T01:44:08.727862Z",
     "iopub.status.idle": "2025-03-04T01:44:08.770707Z",
     "shell.execute_reply": "2025-03-04T01:44:08.770299Z"
    },
    "papermill": {
     "duration": 0.046684,
     "end_time": "2025-03-04T01:44:08.771352",
     "exception": false,
     "start_time": "2025-03-04T01:44:08.724668",
     "status": "completed"
    },
    "tags": []
   },
   "outputs": [],
   "source": [
    "processed_data_val = processed_data_val.filter(lambda x: x['query'] is not None and x['positive'] is not None)"
   ]
  },
  {
   "cell_type": "code",
   "execution_count": 8,
   "id": "7fb12f72",
   "metadata": {
    "execution": {
     "iopub.execute_input": "2025-03-04T01:44:08.777689Z",
     "iopub.status.busy": "2025-03-04T01:44:08.777300Z",
     "iopub.status.idle": "2025-03-04T01:44:09.489574Z",
     "shell.execute_reply": "2025-03-04T01:44:09.489053Z"
    },
    "papermill": {
     "duration": 0.716574,
     "end_time": "2025-03-04T01:44:09.490645",
     "exception": false,
     "start_time": "2025-03-04T01:44:08.774071",
     "status": "completed"
    },
    "tags": []
   },
   "outputs": [],
   "source": [
    "contrastive_pairs_val = []\n",
    "for item in processed_data_val:\n",
    "    query = item[\"query\"]\n",
    "    positive = item[\"positive\"]\n",
    "    negatives = item[\"negatives\"]\n",
    "    contrastive_pairs_val.append({\n",
    "        \"anchor\": query,\n",
    "        \"positive\": positive,\n",
    "        \"negatives\": negatives\n",
    "    })"
   ]
  },
  {
   "cell_type": "code",
   "execution_count": 9,
   "id": "3e50d15d",
   "metadata": {
    "execution": {
     "iopub.execute_input": "2025-03-04T01:44:09.498870Z",
     "iopub.status.busy": "2025-03-04T01:44:09.498727Z",
     "iopub.status.idle": "2025-03-04T01:44:09.503770Z",
     "shell.execute_reply": "2025-03-04T01:44:09.503444Z"
    },
    "papermill": {
     "duration": 0.009537,
     "end_time": "2025-03-04T01:44:09.504976",
     "exception": false,
     "start_time": "2025-03-04T01:44:09.495439",
     "status": "completed"
    },
    "tags": []
   },
   "outputs": [
    {
     "data": {
      "text/plain": [
       "9084"
      ]
     },
     "execution_count": 9,
     "metadata": {},
     "output_type": "execute_result"
    }
   ],
   "source": [
    "len(contrastive_pairs_val)"
   ]
  },
  {
   "cell_type": "code",
   "execution_count": 10,
   "id": "9cc061c1",
   "metadata": {
    "execution": {
     "iopub.execute_input": "2025-03-04T01:44:09.511429Z",
     "iopub.status.busy": "2025-03-04T01:44:09.511297Z",
     "iopub.status.idle": "2025-03-04T01:44:22.983847Z",
     "shell.execute_reply": "2025-03-04T01:44:22.983335Z"
    },
    "papermill": {
     "duration": 13.476931,
     "end_time": "2025-03-04T01:44:22.984889",
     "exception": false,
     "start_time": "2025-03-04T01:44:09.507958",
     "status": "completed"
    },
    "tags": []
   },
   "outputs": [],
   "source": [
    "from torch.utils.data import DataLoader"
   ]
  },
  {
   "cell_type": "code",
   "execution_count": 11,
   "id": "4287c128",
   "metadata": {
    "execution": {
     "iopub.execute_input": "2025-03-04T01:44:22.993677Z",
     "iopub.status.busy": "2025-03-04T01:44:22.993346Z",
     "iopub.status.idle": "2025-03-04T01:44:22.997018Z",
     "shell.execute_reply": "2025-03-04T01:44:22.996690Z"
    },
    "papermill": {
     "duration": 0.00768,
     "end_time": "2025-03-04T01:44:22.997629",
     "exception": false,
     "start_time": "2025-03-04T01:44:22.989949",
     "status": "completed"
    },
    "tags": []
   },
   "outputs": [
    {
     "data": {
      "text/plain": [
       "{'anchor': 'what is a furu@cle boil',\n",
       " 'positive': 'A boil, also called a furuncle, is a deep folliculitis, infection of the hair follicle. It is most commonly caused by infection by the bacterium Staphylococcus aureus, resulting in a painful swollen area on the skin caused by an accumulation of pus and dead tissue. Signs and symptoms [edit]. Boils are bumpy, red, pus-filled lumps around a hair follicle that are tender, warm, and very painful. They range from pea-sized to golf ball-sized. A yellow or white point at the center of the lump can be seen when the boil is ready to drain or discharge pus.',\n",
       " 'negatives': ['Knowledge center. A boil, also known as a furuncle is a skin abscess, a painful bump that forms under the skin-it is full of puss. A carbuncle is collection of boils that develop under the skin. When bacteria infect hair follicles they can swell up and turn into boils. ',\n",
       "  'When the hair follicle becomes infected, the skin around it also becomes inflamed. The furuncle looks like a red, raised bump on your skin, but can later rupture and weep fluid. Furuncles are most commonly found on the face and neck. You might also develop a boil on your thigh or buttocks. Symptoms of a Furuncle. A furuncle may begin as a benign-looking bump on your skin, similar to a pimple. As the infection worsens, however, the boil can become painful and hard. Bacteria and dead skin cells may then build up underneath the skin, forming pu',\n",
       "  'A boil is a skin infection that starts in a hair follicle or oil gland. Also referred to as a skin abscess, it is a localized infection deep in the skin. A boil generally starts as a reddened, tender area. Over time, the area becomes firm and hard. ',\n",
       "  'A boil, sometimes also referred to as a furuncle, is an infection involving a hair follicle on the skin. Boils are typically caused by Staphylococcus aureus bacteria, although they may be caused by other bacteria or fungi present on the skin surface. ',\n",
       "  'A boil, also known as a skin abscess or furuncle, is a painful, pus-filled lump that develops on the surface of the skin. Boils can be as small as a pea or as large as a golf ball and can develop on any part of the body. They are usually caused by the infection of a hair follicle or oil gland in the skin. ']}"
      ]
     },
     "execution_count": 11,
     "metadata": {},
     "output_type": "execute_result"
    }
   ],
   "source": [
    "contrastive_pairs_val[2]"
   ]
  },
  {
   "cell_type": "code",
   "execution_count": 12,
   "id": "99128765",
   "metadata": {
    "execution": {
     "iopub.execute_input": "2025-03-04T01:44:23.003597Z",
     "iopub.status.busy": "2025-03-04T01:44:23.003466Z",
     "iopub.status.idle": "2025-03-04T01:44:23.015304Z",
     "shell.execute_reply": "2025-03-04T01:44:23.014538Z"
    },
    "papermill": {
     "duration": 0.015782,
     "end_time": "2025-03-04T01:44:23.016226",
     "exception": false,
     "start_time": "2025-03-04T01:44:23.000444",
     "status": "completed"
    },
    "tags": []
   },
   "outputs": [],
   "source": [
    "class ContrastiveDataset:\n",
    "    def __init__(self, pairs):\n",
    "        self.pairs = pairs\n",
    "\n",
    "    def __len__(self):\n",
    "        return len(self.pairs)\n",
    "\n",
    "    def __getitem__(self, idx):\n",
    "        item = self.pairs[idx]\n",
    "        return item[\"anchor\"], item[\"positive\"], item[\"negatives\"]"
   ]
  },
  {
   "cell_type": "code",
   "execution_count": 13,
   "id": "f7891374",
   "metadata": {
    "execution": {
     "iopub.execute_input": "2025-03-04T01:44:23.022311Z",
     "iopub.status.busy": "2025-03-04T01:44:23.022057Z",
     "iopub.status.idle": "2025-03-04T01:44:23.029611Z",
     "shell.execute_reply": "2025-03-04T01:44:23.029223Z"
    },
    "papermill": {
     "duration": 0.011344,
     "end_time": "2025-03-04T01:44:23.030285",
     "exception": false,
     "start_time": "2025-03-04T01:44:23.018941",
     "status": "completed"
    },
    "tags": []
   },
   "outputs": [],
   "source": [
    "contrastive_dataset_val = ContrastiveDataset(contrastive_pairs_val)"
   ]
  },
  {
   "cell_type": "code",
   "execution_count": 14,
   "id": "7159bb26",
   "metadata": {
    "execution": {
     "iopub.execute_input": "2025-03-04T01:44:23.036508Z",
     "iopub.status.busy": "2025-03-04T01:44:23.036107Z",
     "iopub.status.idle": "2025-03-04T01:44:23.047357Z",
     "shell.execute_reply": "2025-03-04T01:44:23.046991Z"
    },
    "papermill": {
     "duration": 0.014947,
     "end_time": "2025-03-04T01:44:23.047973",
     "exception": false,
     "start_time": "2025-03-04T01:44:23.033026",
     "status": "completed"
    },
    "tags": []
   },
   "outputs": [],
   "source": [
    "data_loader_val = DataLoader(contrastive_dataset_val, batch_size=32, shuffle=True)"
   ]
  },
  {
   "cell_type": "code",
   "execution_count": 15,
   "id": "f142e8d4",
   "metadata": {
    "execution": {
     "iopub.execute_input": "2025-03-04T01:44:23.053874Z",
     "iopub.status.busy": "2025-03-04T01:44:23.053631Z",
     "iopub.status.idle": "2025-03-04T01:44:23.062888Z",
     "shell.execute_reply": "2025-03-04T01:44:23.062590Z"
    },
    "papermill": {
     "duration": 0.0128,
     "end_time": "2025-03-04T01:44:23.063475",
     "exception": false,
     "start_time": "2025-03-04T01:44:23.050675",
     "status": "completed"
    },
    "tags": []
   },
   "outputs": [
    {
     "data": {
      "text/plain": [
       "284"
      ]
     },
     "execution_count": 15,
     "metadata": {},
     "output_type": "execute_result"
    }
   ],
   "source": [
    "len(data_loader_val)"
   ]
  },
  {
   "cell_type": "code",
   "execution_count": 16,
   "id": "1c2d3f99",
   "metadata": {
    "execution": {
     "iopub.execute_input": "2025-03-04T01:44:23.069567Z",
     "iopub.status.busy": "2025-03-04T01:44:23.069431Z",
     "iopub.status.idle": "2025-03-04T01:44:36.755234Z",
     "shell.execute_reply": "2025-03-04T01:44:36.754737Z"
    },
    "papermill": {
     "duration": 13.689887,
     "end_time": "2025-03-04T01:44:36.756204",
     "exception": false,
     "start_time": "2025-03-04T01:44:23.066317",
     "status": "completed"
    },
    "tags": []
   },
   "outputs": [],
   "source": [
    "from transformers import AutoTokenizer, AutoModel\n",
    "tokenizer = AutoTokenizer.from_pretrained(\"bert-base-uncased\")"
   ]
  },
  {
   "cell_type": "code",
   "execution_count": 17,
   "id": "fdbb77e0",
   "metadata": {
    "execution": {
     "iopub.execute_input": "2025-03-04T01:44:36.765562Z",
     "iopub.status.busy": "2025-03-04T01:44:36.765303Z",
     "iopub.status.idle": "2025-03-04T01:44:41.204992Z",
     "shell.execute_reply": "2025-03-04T01:44:41.204384Z"
    },
    "papermill": {
     "duration": 4.44418,
     "end_time": "2025-03-04T01:44:41.205978",
     "exception": false,
     "start_time": "2025-03-04T01:44:36.761798",
     "status": "completed"
    },
    "tags": []
   },
   "outputs": [
    {
     "name": "stderr",
     "output_type": "stream",
     "text": [
      "/tmp/ipykernel_1847466/3105893467.py:3: FutureWarning: You are using `torch.load` with `weights_only=False` (the current default value), which uses the default pickle module implicitly. It is possible to construct malicious pickle data which will execute arbitrary code during unpickling (See https://github.com/pytorch/pytorch/blob/main/SECURITY.md#untrusted-models for more details). In a future release, the default value for `weights_only` will be flipped to `True`. This limits the functions that could be executed during unpickling. Arbitrary objects will no longer be allowed to be loaded via this mode unless they are explicitly allowlisted by the user via `torch.serialization.add_safe_globals`. We recommend you start setting `weights_only=True` for any use case where you don't have full control of the loaded file. Please open an issue on GitHub for any issues related to this experimental feature.\n",
      "  lora_model = torch.load(file_path)\n"
     ]
    }
   ],
   "source": [
    "import torch\n",
    "file_path=\"/dss/dsshome1/07/ra65bex2/srawat/contrastive_learning/v1.1/app_baseline/checkpoint_epoch_3.pth\"\n",
    "lora_model = torch.load(file_path)"
   ]
  },
  {
   "cell_type": "code",
   "execution_count": 18,
   "id": "c5181076",
   "metadata": {
    "execution": {
     "iopub.execute_input": "2025-03-04T01:44:41.215349Z",
     "iopub.status.busy": "2025-03-04T01:44:41.215190Z",
     "iopub.status.idle": "2025-03-04T01:44:41.221953Z",
     "shell.execute_reply": "2025-03-04T01:44:41.221634Z"
    },
    "papermill": {
     "duration": 0.011134,
     "end_time": "2025-03-04T01:44:41.222558",
     "exception": false,
     "start_time": "2025-03-04T01:44:41.211424",
     "status": "completed"
    },
    "tags": []
   },
   "outputs": [],
   "source": [
    "device = torch.device('cuda' if torch.cuda.is_available() else 'cpu')\n",
    "lora_model = lora_model.to(device)"
   ]
  },
  {
   "cell_type": "code",
   "execution_count": 19,
   "id": "cf07cd59",
   "metadata": {
    "execution": {
     "iopub.execute_input": "2025-03-04T01:44:41.230092Z",
     "iopub.status.busy": "2025-03-04T01:44:41.229490Z",
     "iopub.status.idle": "2025-03-04T01:44:41.238977Z",
     "shell.execute_reply": "2025-03-04T01:44:41.238637Z"
    },
    "papermill": {
     "duration": 0.013902,
     "end_time": "2025-03-04T01:44:41.239598",
     "exception": false,
     "start_time": "2025-03-04T01:44:41.225696",
     "status": "completed"
    },
    "tags": []
   },
   "outputs": [],
   "source": [
    "def cosine_distance(x, y):\n",
    "    return 1 - torch.nn.functional.cosine_similarity(x, y, dim=-1)"
   ]
  },
  {
   "cell_type": "code",
   "execution_count": 20,
   "id": "a96c2213",
   "metadata": {
    "execution": {
     "iopub.execute_input": "2025-03-04T01:44:41.246749Z",
     "iopub.status.busy": "2025-03-04T01:44:41.246602Z",
     "iopub.status.idle": "2025-03-04T01:44:41.258008Z",
     "shell.execute_reply": "2025-03-04T01:44:41.257650Z"
    },
    "papermill": {
     "duration": 0.015752,
     "end_time": "2025-03-04T01:44:41.258670",
     "exception": false,
     "start_time": "2025-03-04T01:44:41.242918",
     "status": "completed"
    },
    "tags": []
   },
   "outputs": [],
   "source": [
    "def evaluate_mrr(model, data_loader_val, distance_fn):\n",
    "    model.eval()\n",
    "\n",
    "    total_rr = 0.0\n",
    "    num_queries = 0\n",
    "\n",
    "    with torch.no_grad():\n",
    "        for batch in data_loader_val:\n",
    "            anchor_text = batch[0]\n",
    "            positive_text = batch[1]\n",
    "            negative_texts = batch[2]\n",
    "\n",
    "            anchor_input = tokenizer(anchor_text, return_tensors='pt', padding=True, truncation=True, max_length=512).to(device)\n",
    "            positive_input = tokenizer(positive_text, return_tensors='pt', padding=True, truncation=True, max_length=512).to(device)\n",
    "\n",
    "            anchor_embedding = model(**anchor_input).last_hidden_state[:, 0, :]\n",
    "            positive_embedding = model(**positive_input).last_hidden_state[:, 0, :]\n",
    "            negative_embedding = [model(**tokenizer(neg, return_tensors='pt', padding=True, truncation=True, max_length=512).to(device)).last_hidden_state[:, 0, :] for neg in negative_texts]\n",
    "\n",
    "            pos_dist = distance_fn(anchor_embedding, positive_embedding)\n",
    "            neg_dist = torch.stack([distance_fn(anchor_embedding, neg) for neg in negative_embedding], dim=-1)\n",
    "            all_similarities=torch.cat([-pos_dist.unsqueeze(1), -neg_dist], dim=1)\n",
    "\n",
    "            sorted_similarities, sorted_indices = torch.sort(all_similarities, dim=1, descending=True)\n",
    "\n",
    "            # Find the rank of the first relevant (positive) document\n",
    "            positive_rank = (sorted_indices == 0).nonzero(as_tuple=True)[1] + 1  # +1 to make rank 1-based\n",
    "            total_rr += torch.sum(1.0 / positive_rank.float()).item()  # Reciprocal rank\n",
    "            num_queries += len(positive_rank)\n",
    "\n",
    "    mrr = total_rr / num_queries\n",
    "    return mrr"
   ]
  },
  {
   "cell_type": "code",
   "execution_count": 21,
   "id": "3f607c7c",
   "metadata": {
    "execution": {
     "iopub.execute_input": "2025-03-04T01:44:41.265679Z",
     "iopub.status.busy": "2025-03-04T01:44:41.265541Z",
     "iopub.status.idle": "2025-03-04T01:46:36.112817Z",
     "shell.execute_reply": "2025-03-04T01:46:36.112229Z"
    },
    "papermill": {
     "duration": 114.856717,
     "end_time": "2025-03-04T01:46:36.118605",
     "exception": false,
     "start_time": "2025-03-04T01:44:41.261888",
     "status": "completed"
    },
    "tags": []
   },
   "outputs": [
    {
     "name": "stdout",
     "output_type": "stream",
     "text": [
      "0.5373550662381278\n"
     ]
    }
   ],
   "source": [
    "mrr_validation = evaluate_mrr(lora_model, data_loader_val, cosine_distance)\n",
    "print(mrr_validation)"
   ]
  },
  {
   "cell_type": "code",
   "execution_count": null,
   "id": "c42c0f7b",
   "metadata": {
    "papermill": {
     "duration": 0.002984,
     "end_time": "2025-03-04T01:46:36.124857",
     "exception": false,
     "start_time": "2025-03-04T01:46:36.121873",
     "status": "completed"
    },
    "tags": []
   },
   "outputs": [],
   "source": []
  }
 ],
 "metadata": {
  "kernelspec": {
   "display_name": "Python (myenv)",
   "language": "python",
   "name": "myenv"
  },
  "language_info": {
   "codemirror_mode": {
    "name": "ipython",
    "version": 3
   },
   "file_extension": ".py",
   "mimetype": "text/x-python",
   "name": "python",
   "nbconvert_exporter": "python",
   "pygments_lexer": "ipython3",
   "version": "3.12.7"
  },
  "papermill": {
   "default_parameters": {},
   "duration": 180.356691,
   "end_time": "2025-03-04T01:46:39.598592",
   "environment_variables": {},
   "exception": null,
   "input_path": "1baseline.ipynb",
   "output_path": "1baseline_output.ipynb",
   "parameters": {},
   "start_time": "2025-03-04T01:43:39.241901",
   "version": "2.6.0"
  }
 },
 "nbformat": 4,
 "nbformat_minor": 5
}