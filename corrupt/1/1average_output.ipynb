{
 "cells": [
  {
   "cell_type": "code",
   "execution_count": 1,
   "id": "03410b52",
   "metadata": {
    "execution": {
     "iopub.execute_input": "2025-03-04T01:59:36.345776Z",
     "iopub.status.busy": "2025-03-04T01:59:36.345617Z",
     "iopub.status.idle": "2025-03-04T01:59:38.044376Z",
     "shell.execute_reply": "2025-03-04T01:59:38.043839Z"
    },
    "papermill": {
     "duration": 1.704016,
     "end_time": "2025-03-04T01:59:38.045832",
     "exception": false,
     "start_time": "2025-03-04T01:59:36.341816",
     "status": "completed"
    },
    "tags": []
   },
   "outputs": [],
   "source": [
    "from datasets import load_dataset"
   ]
  },
  {
   "cell_type": "code",
   "execution_count": 2,
   "id": "e6b1be62",
   "metadata": {
    "execution": {
     "iopub.execute_input": "2025-03-04T01:59:38.052175Z",
     "iopub.status.busy": "2025-03-04T01:59:38.051953Z",
     "iopub.status.idle": "2025-03-04T01:59:43.836332Z",
     "shell.execute_reply": "2025-03-04T01:59:43.835955Z"
    },
    "papermill": {
     "duration": 5.788231,
     "end_time": "2025-03-04T01:59:43.837260",
     "exception": false,
     "start_time": "2025-03-04T01:59:38.049029",
     "status": "completed"
    },
    "tags": []
   },
   "outputs": [],
   "source": [
    "dataset_val = load_dataset('ms_marco', 'v1.1', split='validation')"
   ]
  },
  {
   "cell_type": "code",
   "execution_count": 3,
   "id": "f48a279a",
   "metadata": {
    "execution": {
     "iopub.execute_input": "2025-03-04T01:59:43.845274Z",
     "iopub.status.busy": "2025-03-04T01:59:43.844957Z",
     "iopub.status.idle": "2025-03-04T01:59:43.850479Z",
     "shell.execute_reply": "2025-03-04T01:59:43.850148Z"
    },
    "papermill": {
     "duration": 0.009209,
     "end_time": "2025-03-04T01:59:43.851138",
     "exception": false,
     "start_time": "2025-03-04T01:59:43.841929",
     "status": "completed"
    },
    "tags": []
   },
   "outputs": [
    {
     "data": {
      "text/plain": [
       "Dataset({\n",
       "    features: ['answers', 'passages', 'query', 'query_id', 'query_type', 'wellFormedAnswers'],\n",
       "    num_rows: 10047\n",
       "})"
      ]
     },
     "execution_count": 3,
     "metadata": {},
     "output_type": "execute_result"
    }
   ],
   "source": [
    "dataset_val"
   ]
  },
  {
   "cell_type": "code",
   "execution_count": 4,
   "id": "c16c1d7f",
   "metadata": {
    "execution": {
     "iopub.execute_input": "2025-03-04T01:59:43.856692Z",
     "iopub.status.busy": "2025-03-04T01:59:43.856409Z",
     "iopub.status.idle": "2025-03-04T01:59:45.098660Z",
     "shell.execute_reply": "2025-03-04T01:59:45.098194Z"
    },
    "papermill": {
     "duration": 1.246224,
     "end_time": "2025-03-04T01:59:45.099810",
     "exception": false,
     "start_time": "2025-03-04T01:59:43.853586",
     "status": "completed"
    },
    "tags": []
   },
   "outputs": [
    {
     "name": "stderr",
     "output_type": "stream",
     "text": [
      "[nltk_data] Downloading package stopwords to\n",
      "[nltk_data]     /dss/dsshome1/07/ra65bex2/nltk_data...\n",
      "[nltk_data]   Package stopwords is already up-to-date!\n",
      "[nltk_data] Downloading package wordnet to\n",
      "[nltk_data]     /dss/dsshome1/07/ra65bex2/nltk_data...\n",
      "[nltk_data]   Package wordnet is already up-to-date!\n"
     ]
    }
   ],
   "source": [
    "import random\n",
    "import re\n",
    "import nltk\n",
    "from nltk.corpus import stopwords, wordnet\n",
    "nltk.download('stopwords')\n",
    "nltk.download('wordnet')\n",
    "stop_words = set(stopwords.words('english'))\n",
    "\n",
    "def clean_text(text):\n",
    "    return re.sub(r'[^\\w\\s.!?]', '', text)\n",
    "\n",
    "def select_words(text, num_words):\n",
    "    words = [w for w in text.split() if w.lower() not in stop_words]\n",
    "    return random.sample(words, min(num_words, len(words)))\n",
    "\n",
    "def introduce_typo(word):\n",
    "    if len(word) > 1:\n",
    "        idx = random.randint(0, len(word) - 1)\n",
    "        return word[:idx] + random.choice('abcdefghijklmnopqrstuvwxyz') + word[idx+1:]\n",
    "    return word\n",
    "\n",
    "def introduce_noise(word):\n",
    "    noise_chars = ['@', '#', '$', '%', '&', '*']\n",
    "    if len(word) > 1:\n",
    "        idx = random.randint(0, len(word) - 1)\n",
    "        return word[:idx] + random.choice(noise_chars) + word[idx+1:]\n",
    "    return word\n",
    "\n",
    "def replace_with_synonym(word):\n",
    "    synonyms = [syn.lemmas()[0].name() for syn in wordnet.synsets(word) if syn.lemmas()]\n",
    "    return random.choice(synonyms) if synonyms else word\n",
    "\n",
    "def corrupt_word(word, method):\n",
    "    if method == 'typo':\n",
    "        return introduce_typo(word)\n",
    "    elif method == 'noise':\n",
    "        return introduce_noise(word)\n",
    "    elif method == 'synonym':\n",
    "        return replace_with_synonym(word)\n",
    "    return word\n",
    "\n",
    "def corrupt_text(text):\n",
    "    corrupted_words = []  \n",
    "    words_to_corrupt=select_words(clean_text(text), num_words=1)\n",
    "    for word in clean_text(text).split():\n",
    "        if word in words_to_corrupt:\n",
    "            corruption_method = random.choice(['typo', 'noise', 'synonym'])\n",
    "            corrupted_words.append(corrupt_word(word, corruption_method))\n",
    "        else:\n",
    "            corrupted_words.append(word)\n",
    "    return ' '.join(corrupted_words)"
   ]
  },
  {
   "cell_type": "code",
   "execution_count": 5,
   "id": "6ed77333",
   "metadata": {
    "execution": {
     "iopub.execute_input": "2025-03-04T01:59:45.106313Z",
     "iopub.status.busy": "2025-03-04T01:59:45.105778Z",
     "iopub.status.idle": "2025-03-04T01:59:45.109669Z",
     "shell.execute_reply": "2025-03-04T01:59:45.109302Z"
    },
    "papermill": {
     "duration": 0.007687,
     "end_time": "2025-03-04T01:59:45.110466",
     "exception": false,
     "start_time": "2025-03-04T01:59:45.102779",
     "status": "completed"
    },
    "tags": []
   },
   "outputs": [],
   "source": [
    "def preprocess(example):\n",
    "    positive_passages=[]\n",
    "    for p in enumerate(example['passages'][\"is_selected\"]):\n",
    "        if p[1]==1:\n",
    "            positive_passages.append(example[\"passages\"][\"passage_text\"][p[0]])\n",
    "    negative_passages = []\n",
    "    for p in enumerate(example['passages'][\"is_selected\"]):\n",
    "        if p[1]==0:\n",
    "            negative_passages.append(example[\"passages\"][\"passage_text\"][p[0]])\n",
    "    if (len(positive_passages)>0 and len(negative_passages)>=5):\n",
    "        positive = positive_passages[0]\n",
    "        negatives = negative_passages[:5]\n",
    "        return {\n",
    "            \"query\": corrupt_text(example[\"query\"]),\n",
    "            \"positive\": positive,\n",
    "            \"negatives\": negatives\n",
    "        }\n",
    "    else:\n",
    "        return {\"query\": None, \"positive\": None, \"negatives\": None}"
   ]
  },
  {
   "cell_type": "code",
   "execution_count": 6,
   "id": "7b1acc08",
   "metadata": {
    "execution": {
     "iopub.execute_input": "2025-03-04T01:59:45.115935Z",
     "iopub.status.busy": "2025-03-04T01:59:45.115698Z",
     "iopub.status.idle": "2025-03-04T01:59:45.205347Z",
     "shell.execute_reply": "2025-03-04T01:59:45.205001Z"
    },
    "papermill": {
     "duration": 0.093238,
     "end_time": "2025-03-04T01:59:45.206162",
     "exception": false,
     "start_time": "2025-03-04T01:59:45.112924",
     "status": "completed"
    },
    "tags": []
   },
   "outputs": [],
   "source": [
    "processed_data_val = dataset_val.map(preprocess, remove_columns=dataset_val.column_names)"
   ]
  },
  {
   "cell_type": "code",
   "execution_count": 7,
   "id": "f618a499",
   "metadata": {
    "execution": {
     "iopub.execute_input": "2025-03-04T01:59:45.213044Z",
     "iopub.status.busy": "2025-03-04T01:59:45.212688Z",
     "iopub.status.idle": "2025-03-04T01:59:45.217735Z",
     "shell.execute_reply": "2025-03-04T01:59:45.217295Z"
    },
    "papermill": {
     "duration": 0.008689,
     "end_time": "2025-03-04T01:59:45.218444",
     "exception": false,
     "start_time": "2025-03-04T01:59:45.209755",
     "status": "completed"
    },
    "tags": []
   },
   "outputs": [],
   "source": [
    "processed_data_val = processed_data_val.filter(lambda x: x['query'] is not None and x['positive'] is not None)"
   ]
  },
  {
   "cell_type": "code",
   "execution_count": 8,
   "id": "a8c8678f",
   "metadata": {
    "execution": {
     "iopub.execute_input": "2025-03-04T01:59:45.225207Z",
     "iopub.status.busy": "2025-03-04T01:59:45.224216Z",
     "iopub.status.idle": "2025-03-04T01:59:45.869546Z",
     "shell.execute_reply": "2025-03-04T01:59:45.869062Z"
    },
    "papermill": {
     "duration": 0.649278,
     "end_time": "2025-03-04T01:59:45.870441",
     "exception": false,
     "start_time": "2025-03-04T01:59:45.221163",
     "status": "completed"
    },
    "tags": []
   },
   "outputs": [],
   "source": [
    "contrastive_pairs_val = []\n",
    "for item in processed_data_val:\n",
    "    query = item[\"query\"]\n",
    "    positive = item[\"positive\"]\n",
    "    negatives = item[\"negatives\"]\n",
    "    contrastive_pairs_val.append({\n",
    "        \"anchor\": query,\n",
    "        \"positive\": positive,\n",
    "        \"negatives\": negatives\n",
    "    })"
   ]
  },
  {
   "cell_type": "code",
   "execution_count": 9,
   "id": "db72b9a6",
   "metadata": {
    "execution": {
     "iopub.execute_input": "2025-03-04T01:59:45.878412Z",
     "iopub.status.busy": "2025-03-04T01:59:45.878254Z",
     "iopub.status.idle": "2025-03-04T01:59:45.881750Z",
     "shell.execute_reply": "2025-03-04T01:59:45.881353Z"
    },
    "papermill": {
     "duration": 0.007258,
     "end_time": "2025-03-04T01:59:45.882383",
     "exception": false,
     "start_time": "2025-03-04T01:59:45.875125",
     "status": "completed"
    },
    "tags": []
   },
   "outputs": [
    {
     "data": {
      "text/plain": [
       "9084"
      ]
     },
     "execution_count": 9,
     "metadata": {},
     "output_type": "execute_result"
    }
   ],
   "source": [
    "len(contrastive_pairs_val)"
   ]
  },
  {
   "cell_type": "code",
   "execution_count": 10,
   "id": "0d73c710",
   "metadata": {
    "execution": {
     "iopub.execute_input": "2025-03-04T01:59:45.888215Z",
     "iopub.status.busy": "2025-03-04T01:59:45.887981Z",
     "iopub.status.idle": "2025-03-04T01:59:48.925793Z",
     "shell.execute_reply": "2025-03-04T01:59:48.925176Z"
    },
    "papermill": {
     "duration": 3.042175,
     "end_time": "2025-03-04T01:59:48.927212",
     "exception": false,
     "start_time": "2025-03-04T01:59:45.885037",
     "status": "completed"
    },
    "tags": []
   },
   "outputs": [],
   "source": [
    "from torch.utils.data import DataLoader"
   ]
  },
  {
   "cell_type": "code",
   "execution_count": 11,
   "id": "170a61e3",
   "metadata": {
    "execution": {
     "iopub.execute_input": "2025-03-04T01:59:48.936058Z",
     "iopub.status.busy": "2025-03-04T01:59:48.935876Z",
     "iopub.status.idle": "2025-03-04T01:59:48.939897Z",
     "shell.execute_reply": "2025-03-04T01:59:48.939526Z"
    },
    "papermill": {
     "duration": 0.008171,
     "end_time": "2025-03-04T01:59:48.940584",
     "exception": false,
     "start_time": "2025-03-04T01:59:48.932413",
     "status": "completed"
    },
    "tags": []
   },
   "outputs": [
    {
     "data": {
      "text/plain": [
       "{'anchor': 'what is a furu@cle boil',\n",
       " 'positive': 'A boil, also called a furuncle, is a deep folliculitis, infection of the hair follicle. It is most commonly caused by infection by the bacterium Staphylococcus aureus, resulting in a painful swollen area on the skin caused by an accumulation of pus and dead tissue. Signs and symptoms [edit]. Boils are bumpy, red, pus-filled lumps around a hair follicle that are tender, warm, and very painful. They range from pea-sized to golf ball-sized. A yellow or white point at the center of the lump can be seen when the boil is ready to drain or discharge pus.',\n",
       " 'negatives': ['Knowledge center. A boil, also known as a furuncle is a skin abscess, a painful bump that forms under the skin-it is full of puss. A carbuncle is collection of boils that develop under the skin. When bacteria infect hair follicles they can swell up and turn into boils. ',\n",
       "  'When the hair follicle becomes infected, the skin around it also becomes inflamed. The furuncle looks like a red, raised bump on your skin, but can later rupture and weep fluid. Furuncles are most commonly found on the face and neck. You might also develop a boil on your thigh or buttocks. Symptoms of a Furuncle. A furuncle may begin as a benign-looking bump on your skin, similar to a pimple. As the infection worsens, however, the boil can become painful and hard. Bacteria and dead skin cells may then build up underneath the skin, forming pu',\n",
       "  'A boil is a skin infection that starts in a hair follicle or oil gland. Also referred to as a skin abscess, it is a localized infection deep in the skin. A boil generally starts as a reddened, tender area. Over time, the area becomes firm and hard. ',\n",
       "  'A boil, sometimes also referred to as a furuncle, is an infection involving a hair follicle on the skin. Boils are typically caused by Staphylococcus aureus bacteria, although they may be caused by other bacteria or fungi present on the skin surface. ',\n",
       "  'A boil, also known as a skin abscess or furuncle, is a painful, pus-filled lump that develops on the surface of the skin. Boils can be as small as a pea or as large as a golf ball and can develop on any part of the body. They are usually caused by the infection of a hair follicle or oil gland in the skin. ']}"
      ]
     },
     "execution_count": 11,
     "metadata": {},
     "output_type": "execute_result"
    }
   ],
   "source": [
    "contrastive_pairs_val[2]"
   ]
  },
  {
   "cell_type": "code",
   "execution_count": 12,
   "id": "50e3b440",
   "metadata": {
    "execution": {
     "iopub.execute_input": "2025-03-04T01:59:48.947318Z",
     "iopub.status.busy": "2025-03-04T01:59:48.946606Z",
     "iopub.status.idle": "2025-03-04T01:59:48.958261Z",
     "shell.execute_reply": "2025-03-04T01:59:48.957865Z"
    },
    "papermill": {
     "duration": 0.015651,
     "end_time": "2025-03-04T01:59:48.959119",
     "exception": false,
     "start_time": "2025-03-04T01:59:48.943468",
     "status": "completed"
    },
    "tags": []
   },
   "outputs": [],
   "source": [
    "class ContrastiveDataset:\n",
    "    def __init__(self, pairs):\n",
    "        self.pairs = pairs\n",
    "\n",
    "    def __len__(self):\n",
    "        return len(self.pairs)\n",
    "\n",
    "    def __getitem__(self, idx):\n",
    "        item = self.pairs[idx]\n",
    "        return item[\"anchor\"], item[\"positive\"], item[\"negatives\"]"
   ]
  },
  {
   "cell_type": "code",
   "execution_count": 13,
   "id": "b422043b",
   "metadata": {
    "execution": {
     "iopub.execute_input": "2025-03-04T01:59:48.965526Z",
     "iopub.status.busy": "2025-03-04T01:59:48.965155Z",
     "iopub.status.idle": "2025-03-04T01:59:48.973838Z",
     "shell.execute_reply": "2025-03-04T01:59:48.973527Z"
    },
    "papermill": {
     "duration": 0.012678,
     "end_time": "2025-03-04T01:59:48.974701",
     "exception": false,
     "start_time": "2025-03-04T01:59:48.962023",
     "status": "completed"
    },
    "tags": []
   },
   "outputs": [],
   "source": [
    "contrastive_dataset_val = ContrastiveDataset(contrastive_pairs_val)"
   ]
  },
  {
   "cell_type": "code",
   "execution_count": 14,
   "id": "c4f173cf",
   "metadata": {
    "execution": {
     "iopub.execute_input": "2025-03-04T01:59:48.981687Z",
     "iopub.status.busy": "2025-03-04T01:59:48.981011Z",
     "iopub.status.idle": "2025-03-04T01:59:48.988376Z",
     "shell.execute_reply": "2025-03-04T01:59:48.988040Z"
    },
    "papermill": {
     "duration": 0.011454,
     "end_time": "2025-03-04T01:59:48.989006",
     "exception": false,
     "start_time": "2025-03-04T01:59:48.977552",
     "status": "completed"
    },
    "tags": []
   },
   "outputs": [],
   "source": [
    "data_loader_val = DataLoader(contrastive_dataset_val, batch_size=32, shuffle=True)"
   ]
  },
  {
   "cell_type": "code",
   "execution_count": 15,
   "id": "5d06d910",
   "metadata": {
    "execution": {
     "iopub.execute_input": "2025-03-04T01:59:48.995024Z",
     "iopub.status.busy": "2025-03-04T01:59:48.994893Z",
     "iopub.status.idle": "2025-03-04T01:59:49.003800Z",
     "shell.execute_reply": "2025-03-04T01:59:49.003336Z"
    },
    "papermill": {
     "duration": 0.012596,
     "end_time": "2025-03-04T01:59:49.004393",
     "exception": false,
     "start_time": "2025-03-04T01:59:48.991797",
     "status": "completed"
    },
    "tags": []
   },
   "outputs": [
    {
     "data": {
      "text/plain": [
       "284"
      ]
     },
     "execution_count": 15,
     "metadata": {},
     "output_type": "execute_result"
    }
   ],
   "source": [
    "len(data_loader_val)"
   ]
  },
  {
   "cell_type": "code",
   "execution_count": 16,
   "id": "005eab2c",
   "metadata": {
    "execution": {
     "iopub.execute_input": "2025-03-04T01:59:49.010641Z",
     "iopub.status.busy": "2025-03-04T01:59:49.010512Z",
     "iopub.status.idle": "2025-03-04T01:59:51.762079Z",
     "shell.execute_reply": "2025-03-04T01:59:51.761651Z"
    },
    "papermill": {
     "duration": 2.755868,
     "end_time": "2025-03-04T01:59:51.763143",
     "exception": false,
     "start_time": "2025-03-04T01:59:49.007275",
     "status": "completed"
    },
    "tags": []
   },
   "outputs": [],
   "source": [
    "from transformers import AutoTokenizer, AutoModel\n",
    "tokenizer = AutoTokenizer.from_pretrained(\"bert-base-uncased\")"
   ]
  },
  {
   "cell_type": "code",
   "execution_count": 17,
   "id": "2742e64e",
   "metadata": {
    "execution": {
     "iopub.execute_input": "2025-03-04T01:59:51.770420Z",
     "iopub.status.busy": "2025-03-04T01:59:51.770167Z",
     "iopub.status.idle": "2025-03-04T01:59:54.544878Z",
     "shell.execute_reply": "2025-03-04T01:59:54.544328Z"
    },
    "papermill": {
     "duration": 2.779027,
     "end_time": "2025-03-04T01:59:54.545884",
     "exception": false,
     "start_time": "2025-03-04T01:59:51.766857",
     "status": "completed"
    },
    "tags": []
   },
   "outputs": [
    {
     "name": "stderr",
     "output_type": "stream",
     "text": [
      "/tmp/ipykernel_1865560/2192687965.py:3: FutureWarning: You are using `torch.load` with `weights_only=False` (the current default value), which uses the default pickle module implicitly. It is possible to construct malicious pickle data which will execute arbitrary code during unpickling (See https://github.com/pytorch/pytorch/blob/main/SECURITY.md#untrusted-models for more details). In a future release, the default value for `weights_only` will be flipped to `True`. This limits the functions that could be executed during unpickling. Arbitrary objects will no longer be allowed to be loaded via this mode unless they are explicitly allowlisted by the user via `torch.serialization.add_safe_globals`. We recommend you start setting `weights_only=True` for any use case where you don't have full control of the loaded file. Please open an issue on GitHub for any issues related to this experimental feature.\n",
      "  lora_model = torch.load(file_path)\n"
     ]
    }
   ],
   "source": [
    "import torch\n",
    "file_path=\"/dss/dsshome1/07/ra65bex2/srawat/contrastive_learning/v1.1/app_average/average_checkpoint_epoch_3.pth\"\n",
    "lora_model = torch.load(file_path)"
   ]
  },
  {
   "cell_type": "code",
   "execution_count": 18,
   "id": "f624c775",
   "metadata": {
    "execution": {
     "iopub.execute_input": "2025-03-04T01:59:54.554932Z",
     "iopub.status.busy": "2025-03-04T01:59:54.554766Z",
     "iopub.status.idle": "2025-03-04T01:59:54.562390Z",
     "shell.execute_reply": "2025-03-04T01:59:54.562000Z"
    },
    "papermill": {
     "duration": 0.011777,
     "end_time": "2025-03-04T01:59:54.563034",
     "exception": false,
     "start_time": "2025-03-04T01:59:54.551257",
     "status": "completed"
    },
    "tags": []
   },
   "outputs": [],
   "source": [
    "device = torch.device('cuda' if torch.cuda.is_available() else 'cpu')\n",
    "lora_model = lora_model.to(device)"
   ]
  },
  {
   "cell_type": "code",
   "execution_count": 19,
   "id": "fedd1910",
   "metadata": {
    "execution": {
     "iopub.execute_input": "2025-03-04T01:59:54.570201Z",
     "iopub.status.busy": "2025-03-04T01:59:54.569659Z",
     "iopub.status.idle": "2025-03-04T01:59:54.575715Z",
     "shell.execute_reply": "2025-03-04T01:59:54.575299Z"
    },
    "papermill": {
     "duration": 0.010307,
     "end_time": "2025-03-04T01:59:54.576383",
     "exception": false,
     "start_time": "2025-03-04T01:59:54.566076",
     "status": "completed"
    },
    "tags": []
   },
   "outputs": [],
   "source": [
    "def cosine_distance(x, y):\n",
    "    return 1 - torch.nn.functional.cosine_similarity(x, y, dim=-1)"
   ]
  },
  {
   "cell_type": "code",
   "execution_count": 20,
   "id": "9051ace8",
   "metadata": {
    "execution": {
     "iopub.execute_input": "2025-03-04T01:59:54.583945Z",
     "iopub.status.busy": "2025-03-04T01:59:54.583194Z",
     "iopub.status.idle": "2025-03-04T01:59:54.591392Z",
     "shell.execute_reply": "2025-03-04T01:59:54.590821Z"
    },
    "papermill": {
     "duration": 0.012468,
     "end_time": "2025-03-04T01:59:54.592175",
     "exception": false,
     "start_time": "2025-03-04T01:59:54.579707",
     "status": "completed"
    },
    "tags": []
   },
   "outputs": [],
   "source": [
    "def avg_embedding(inputs, model):\n",
    "    input=model(**inputs)\n",
    "    input_last_hidden_state=input.last_hidden_state\n",
    "    input_attention_mask = inputs['attention_mask']\n",
    "    input_masked_embeddings = input_last_hidden_state * input_attention_mask.unsqueeze(-1)\n",
    "    input_sum_embeddings = torch.sum(input_masked_embeddings, dim=1)\n",
    "    input_token_counts = torch.sum(input_attention_mask, dim=1).unsqueeze(-1)\n",
    "    input_avg_embeddings = input_sum_embeddings / input_token_counts\n",
    "    return(input_avg_embeddings)"
   ]
  },
  {
   "cell_type": "code",
   "execution_count": 21,
   "id": "8eb2bf72",
   "metadata": {
    "execution": {
     "iopub.execute_input": "2025-03-04T01:59:54.598987Z",
     "iopub.status.busy": "2025-03-04T01:59:54.598692Z",
     "iopub.status.idle": "2025-03-04T01:59:54.610489Z",
     "shell.execute_reply": "2025-03-04T01:59:54.609911Z"
    },
    "papermill": {
     "duration": 0.015885,
     "end_time": "2025-03-04T01:59:54.611213",
     "exception": false,
     "start_time": "2025-03-04T01:59:54.595328",
     "status": "completed"
    },
    "tags": []
   },
   "outputs": [],
   "source": [
    "def evaluate_mrr(model, data_loader_val, distance_fn):\n",
    "    model.eval()  \n",
    "\n",
    "    total_rr = 0.0\n",
    "    num_queries = 0\n",
    "\n",
    "    with torch.no_grad():\n",
    "        for batch in data_loader_val:\n",
    "            anchor_text = batch[0]\n",
    "            positive_text = batch[1]\n",
    "            negative_texts = batch[2]\n",
    "\n",
    "            anchor_input = tokenizer(anchor_text, return_tensors='pt', padding=True, truncation=True, max_length=512).to(device)\n",
    "            positive_input = tokenizer(positive_text, return_tensors='pt', padding=True, truncation=True, max_length=512).to(device)\n",
    "\n",
    "            anchor_embedding = avg_embedding(anchor_input, model)\n",
    "            positive_embedding = avg_embedding(positive_input, model)\n",
    "            negative_embedding = [avg_embedding(tokenizer(neg, return_tensors='pt', padding=True, truncation=True, max_length=512).to(device), model) for neg in negative_texts]\n",
    "\n",
    "            pos_dist = distance_fn(anchor_embedding, positive_embedding)\n",
    "            neg_dist = torch.stack([distance_fn(anchor_embedding, neg) for neg in negative_embedding], dim=-1)\n",
    "            all_similarities=torch.cat([-pos_dist.unsqueeze(1), -neg_dist], dim=1)\n",
    "            \n",
    "            sorted_similarities, sorted_indices = torch.sort(all_similarities, dim=1, descending=True)\n",
    "\n",
    "            # Find the rank of the first relevant (positive) document\n",
    "            positive_rank = (sorted_indices == 0).nonzero(as_tuple=True)[1] + 1  # +1 to make rank 1-based\n",
    "            total_rr += torch.sum(1.0 / positive_rank.float()).item()  # Reciprocal rank\n",
    "            num_queries += len(positive_rank)\n",
    "\n",
    "    mrr = total_rr / num_queries\n",
    "    return mrr"
   ]
  },
  {
   "cell_type": "code",
   "execution_count": 22,
   "id": "81caf5bf",
   "metadata": {
    "execution": {
     "iopub.execute_input": "2025-03-04T01:59:54.618189Z",
     "iopub.status.busy": "2025-03-04T01:59:54.618060Z",
     "iopub.status.idle": "2025-03-04T02:01:47.123784Z",
     "shell.execute_reply": "2025-03-04T02:01:47.123112Z"
    },
    "papermill": {
     "duration": 112.514549,
     "end_time": "2025-03-04T02:01:47.129141",
     "exception": false,
     "start_time": "2025-03-04T01:59:54.614592",
     "status": "completed"
    },
    "tags": []
   },
   "outputs": [
    {
     "name": "stdout",
     "output_type": "stream",
     "text": [
      "0.5509870956249565\n"
     ]
    }
   ],
   "source": [
    "mrr_validation = evaluate_mrr(lora_model, data_loader_val, cosine_distance)\n",
    "print(mrr_validation)"
   ]
  },
  {
   "cell_type": "code",
   "execution_count": null,
   "id": "1dd4e4f7",
   "metadata": {
    "papermill": {
     "duration": 0.003095,
     "end_time": "2025-03-04T02:01:47.135770",
     "exception": false,
     "start_time": "2025-03-04T02:01:47.132675",
     "status": "completed"
    },
    "tags": []
   },
   "outputs": [],
   "source": []
  }
 ],
 "metadata": {
  "kernelspec": {
   "display_name": "Python (myenv)",
   "language": "python",
   "name": "myenv"
  },
  "language_info": {
   "codemirror_mode": {
    "name": "ipython",
    "version": 3
   },
   "file_extension": ".py",
   "mimetype": "text/x-python",
   "name": "python",
   "nbconvert_exporter": "python",
   "pygments_lexer": "ipython3",
   "version": "3.12.7"
  },
  "papermill": {
   "default_parameters": {},
   "duration": 134.295392,
   "end_time": "2025-03-04T02:01:48.657977",
   "environment_variables": {},
   "exception": null,
   "input_path": "1average.ipynb",
   "output_path": "1average_output.ipynb",
   "parameters": {},
   "start_time": "2025-03-04T01:59:34.362585",
   "version": "2.6.0"
  }
 },
 "nbformat": 4,
 "nbformat_minor": 5
}