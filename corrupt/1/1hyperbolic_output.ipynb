{
 "cells": [
  {
   "cell_type": "code",
   "execution_count": 1,
   "id": "66a9bd14",
   "metadata": {
    "execution": {
     "iopub.execute_input": "2025-03-04T01:57:04.348243Z",
     "iopub.status.busy": "2025-03-04T01:57:04.348093Z",
     "iopub.status.idle": "2025-03-04T01:57:05.490661Z",
     "shell.execute_reply": "2025-03-04T01:57:05.490272Z"
    },
    "papermill": {
     "duration": 1.147324,
     "end_time": "2025-03-04T01:57:05.492057",
     "exception": false,
     "start_time": "2025-03-04T01:57:04.344733",
     "status": "completed"
    },
    "tags": []
   },
   "outputs": [],
   "source": [
    "from datasets import load_dataset"
   ]
  },
  {
   "cell_type": "code",
   "execution_count": 2,
   "id": "99cab7c4",
   "metadata": {
    "execution": {
     "iopub.execute_input": "2025-03-04T01:57:05.499883Z",
     "iopub.status.busy": "2025-03-04T01:57:05.499501Z",
     "iopub.status.idle": "2025-03-04T01:57:10.410814Z",
     "shell.execute_reply": "2025-03-04T01:57:10.410330Z"
    },
    "papermill": {
     "duration": 4.915,
     "end_time": "2025-03-04T01:57:10.411823",
     "exception": false,
     "start_time": "2025-03-04T01:57:05.496823",
     "status": "completed"
    },
    "tags": []
   },
   "outputs": [],
   "source": [
    "dataset_val = load_dataset('ms_marco', 'v1.1', split='validation')"
   ]
  },
  {
   "cell_type": "code",
   "execution_count": 3,
   "id": "2af0a191",
   "metadata": {
    "execution": {
     "iopub.execute_input": "2025-03-04T01:57:10.417538Z",
     "iopub.status.busy": "2025-03-04T01:57:10.417334Z",
     "iopub.status.idle": "2025-03-04T01:57:10.422454Z",
     "shell.execute_reply": "2025-03-04T01:57:10.422052Z"
    },
    "papermill": {
     "duration": 0.008541,
     "end_time": "2025-03-04T01:57:10.423102",
     "exception": false,
     "start_time": "2025-03-04T01:57:10.414561",
     "status": "completed"
    },
    "tags": []
   },
   "outputs": [
    {
     "data": {
      "text/plain": [
       "Dataset({\n",
       "    features: ['answers', 'passages', 'query', 'query_id', 'query_type', 'wellFormedAnswers'],\n",
       "    num_rows: 10047\n",
       "})"
      ]
     },
     "execution_count": 3,
     "metadata": {},
     "output_type": "execute_result"
    }
   ],
   "source": [
    "dataset_val"
   ]
  },
  {
   "cell_type": "code",
   "execution_count": 4,
   "id": "931de302",
   "metadata": {
    "execution": {
     "iopub.execute_input": "2025-03-04T01:57:10.428906Z",
     "iopub.status.busy": "2025-03-04T01:57:10.428372Z",
     "iopub.status.idle": "2025-03-04T01:57:11.350915Z",
     "shell.execute_reply": "2025-03-04T01:57:11.350359Z"
    },
    "papermill": {
     "duration": 0.926098,
     "end_time": "2025-03-04T01:57:11.351584",
     "exception": false,
     "start_time": "2025-03-04T01:57:10.425486",
     "status": "completed"
    },
    "tags": []
   },
   "outputs": [
    {
     "name": "stderr",
     "output_type": "stream",
     "text": [
      "[nltk_data] Downloading package stopwords to\n",
      "[nltk_data]     /dss/dsshome1/07/ra65bex2/nltk_data...\n",
      "[nltk_data]   Package stopwords is already up-to-date!\n",
      "[nltk_data] Downloading package wordnet to\n",
      "[nltk_data]     /dss/dsshome1/07/ra65bex2/nltk_data...\n",
      "[nltk_data]   Package wordnet is already up-to-date!\n"
     ]
    }
   ],
   "source": [
    "import random\n",
    "import re\n",
    "import nltk\n",
    "from nltk.corpus import stopwords, wordnet\n",
    "nltk.download('stopwords')\n",
    "nltk.download('wordnet')\n",
    "stop_words = set(stopwords.words('english'))\n",
    "\n",
    "def clean_text(text):\n",
    "    return re.sub(r'[^\\w\\s.!?]', '', text)\n",
    "\n",
    "def select_words(text, num_words):\n",
    "    words = [w for w in text.split() if w.lower() not in stop_words]\n",
    "    return random.sample(words, min(num_words, len(words)))\n",
    "\n",
    "def introduce_typo(word):\n",
    "    if len(word) > 1:\n",
    "        idx = random.randint(0, len(word) - 1)\n",
    "        return word[:idx] + random.choice('abcdefghijklmnopqrstuvwxyz') + word[idx+1:]\n",
    "    return word\n",
    "\n",
    "def introduce_noise(word):\n",
    "    noise_chars = ['@', '#', '$', '%', '&', '*']\n",
    "    if len(word) > 1:\n",
    "        idx = random.randint(0, len(word) - 1)\n",
    "        return word[:idx] + random.choice(noise_chars) + word[idx+1:]\n",
    "    return word\n",
    "\n",
    "def replace_with_synonym(word):\n",
    "    synonyms = [syn.lemmas()[0].name() for syn in wordnet.synsets(word) if syn.lemmas()]\n",
    "    return random.choice(synonyms) if synonyms else word\n",
    "\n",
    "def corrupt_word(word, method):\n",
    "    if method == 'typo':\n",
    "        return introduce_typo(word)\n",
    "    elif method == 'noise':\n",
    "        return introduce_noise(word)\n",
    "    elif method == 'synonym':\n",
    "        return replace_with_synonym(word)\n",
    "    return word\n",
    "\n",
    "def corrupt_text(text):\n",
    "    corrupted_words = []  \n",
    "    words_to_corrupt=select_words(clean_text(text), num_words=1)\n",
    "    for word in clean_text(text).split():\n",
    "        if word in words_to_corrupt:\n",
    "            corruption_method = random.choice(['typo', 'noise', 'synonym'])\n",
    "            corrupted_words.append(corrupt_word(word, corruption_method))\n",
    "        else:\n",
    "            corrupted_words.append(word)\n",
    "    return ' '.join(corrupted_words)"
   ]
  },
  {
   "cell_type": "code",
   "execution_count": 5,
   "id": "64fe012f",
   "metadata": {
    "execution": {
     "iopub.execute_input": "2025-03-04T01:57:11.359580Z",
     "iopub.status.busy": "2025-03-04T01:57:11.359327Z",
     "iopub.status.idle": "2025-03-04T01:57:11.363445Z",
     "shell.execute_reply": "2025-03-04T01:57:11.362852Z"
    },
    "papermill": {
     "duration": 0.007749,
     "end_time": "2025-03-04T01:57:11.364160",
     "exception": false,
     "start_time": "2025-03-04T01:57:11.356411",
     "status": "completed"
    },
    "tags": []
   },
   "outputs": [],
   "source": [
    "def preprocess(example):\n",
    "    positive_passages=[]\n",
    "    for p in enumerate(example['passages'][\"is_selected\"]):\n",
    "        if p[1]==1:\n",
    "            positive_passages.append(example[\"passages\"][\"passage_text\"][p[0]])\n",
    "    negative_passages = []\n",
    "    for p in enumerate(example['passages'][\"is_selected\"]):\n",
    "        if p[1]==0:\n",
    "            negative_passages.append(example[\"passages\"][\"passage_text\"][p[0]])\n",
    "    if (len(positive_passages)>0 and len(negative_passages)>=5):\n",
    "        positive = positive_passages[0]\n",
    "        negatives = negative_passages[:5]\n",
    "        return {\n",
    "            \"query\": example[\"query\"],\n",
    "            \"positive\": positive,\n",
    "            \"negatives\": negatives\n",
    "        }\n",
    "    else:\n",
    "        return {\"query\": None, \"positive\": None, \"negatives\": None}"
   ]
  },
  {
   "cell_type": "code",
   "execution_count": 6,
   "id": "bc4bc839",
   "metadata": {
    "execution": {
     "iopub.execute_input": "2025-03-04T01:57:11.369936Z",
     "iopub.status.busy": "2025-03-04T01:57:11.369425Z",
     "iopub.status.idle": "2025-03-04T01:57:11.432343Z",
     "shell.execute_reply": "2025-03-04T01:57:11.431673Z"
    },
    "papermill": {
     "duration": 0.066752,
     "end_time": "2025-03-04T01:57:11.433374",
     "exception": false,
     "start_time": "2025-03-04T01:57:11.366622",
     "status": "completed"
    },
    "tags": []
   },
   "outputs": [],
   "source": [
    "processed_data_val = dataset_val.map(preprocess, remove_columns=dataset_val.column_names)"
   ]
  },
  {
   "cell_type": "code",
   "execution_count": 7,
   "id": "60aa5cdd",
   "metadata": {
    "execution": {
     "iopub.execute_input": "2025-03-04T01:57:11.442161Z",
     "iopub.status.busy": "2025-03-04T01:57:11.442030Z",
     "iopub.status.idle": "2025-03-04T01:57:11.447304Z",
     "shell.execute_reply": "2025-03-04T01:57:11.446903Z"
    },
    "papermill": {
     "duration": 0.009261,
     "end_time": "2025-03-04T01:57:11.448075",
     "exception": false,
     "start_time": "2025-03-04T01:57:11.438814",
     "status": "completed"
    },
    "tags": []
   },
   "outputs": [],
   "source": [
    "processed_data_val = processed_data_val.filter(lambda x: x['query'] is not None and x['positive'] is not None)"
   ]
  },
  {
   "cell_type": "code",
   "execution_count": 8,
   "id": "60f9b54f",
   "metadata": {
    "execution": {
     "iopub.execute_input": "2025-03-04T01:57:11.454054Z",
     "iopub.status.busy": "2025-03-04T01:57:11.453924Z",
     "iopub.status.idle": "2025-03-04T01:57:12.088085Z",
     "shell.execute_reply": "2025-03-04T01:57:12.087502Z"
    },
    "papermill": {
     "duration": 0.638338,
     "end_time": "2025-03-04T01:57:12.089130",
     "exception": false,
     "start_time": "2025-03-04T01:57:11.450792",
     "status": "completed"
    },
    "tags": []
   },
   "outputs": [],
   "source": [
    "contrastive_pairs_val = []\n",
    "for item in processed_data_val:\n",
    "    query = item[\"query\"]\n",
    "    positive = item[\"positive\"]\n",
    "    negatives = item[\"negatives\"]\n",
    "    contrastive_pairs_val.append({\n",
    "        \"anchor\": query,\n",
    "        \"positive\": positive,\n",
    "        \"negatives\": negatives\n",
    "    })"
   ]
  },
  {
   "cell_type": "code",
   "execution_count": 9,
   "id": "b9b57d41",
   "metadata": {
    "execution": {
     "iopub.execute_input": "2025-03-04T01:57:12.095335Z",
     "iopub.status.busy": "2025-03-04T01:57:12.095184Z",
     "iopub.status.idle": "2025-03-04T01:57:12.099180Z",
     "shell.execute_reply": "2025-03-04T01:57:12.098783Z"
    },
    "papermill": {
     "duration": 0.007645,
     "end_time": "2025-03-04T01:57:12.099814",
     "exception": false,
     "start_time": "2025-03-04T01:57:12.092169",
     "status": "completed"
    },
    "tags": []
   },
   "outputs": [
    {
     "data": {
      "text/plain": [
       "9084"
      ]
     },
     "execution_count": 9,
     "metadata": {},
     "output_type": "execute_result"
    }
   ],
   "source": [
    "len(contrastive_pairs_val)"
   ]
  },
  {
   "cell_type": "code",
   "execution_count": 10,
   "id": "ae505445",
   "metadata": {
    "execution": {
     "iopub.execute_input": "2025-03-04T01:57:12.106146Z",
     "iopub.status.busy": "2025-03-04T01:57:12.105976Z",
     "iopub.status.idle": "2025-03-04T01:57:12.116735Z",
     "shell.execute_reply": "2025-03-04T01:57:12.116325Z"
    },
    "papermill": {
     "duration": 0.015221,
     "end_time": "2025-03-04T01:57:12.117888",
     "exception": false,
     "start_time": "2025-03-04T01:57:12.102667",
     "status": "completed"
    },
    "tags": []
   },
   "outputs": [
    {
     "data": {
      "text/plain": [
       "{'anchor': 'what is a furuncle boil',\n",
       " 'positive': 'A boil, also called a furuncle, is a deep folliculitis, infection of the hair follicle. It is most commonly caused by infection by the bacterium Staphylococcus aureus, resulting in a painful swollen area on the skin caused by an accumulation of pus and dead tissue. Signs and symptoms [edit]. Boils are bumpy, red, pus-filled lumps around a hair follicle that are tender, warm, and very painful. They range from pea-sized to golf ball-sized. A yellow or white point at the center of the lump can be seen when the boil is ready to drain or discharge pus.',\n",
       " 'negatives': ['Knowledge center. A boil, also known as a furuncle is a skin abscess, a painful bump that forms under the skin-it is full of puss. A carbuncle is collection of boils that develop under the skin. When bacteria infect hair follicles they can swell up and turn into boils. ',\n",
       "  'When the hair follicle becomes infected, the skin around it also becomes inflamed. The furuncle looks like a red, raised bump on your skin, but can later rupture and weep fluid. Furuncles are most commonly found on the face and neck. You might also develop a boil on your thigh or buttocks. Symptoms of a Furuncle. A furuncle may begin as a benign-looking bump on your skin, similar to a pimple. As the infection worsens, however, the boil can become painful and hard. Bacteria and dead skin cells may then build up underneath the skin, forming pu',\n",
       "  'A boil is a skin infection that starts in a hair follicle or oil gland. Also referred to as a skin abscess, it is a localized infection deep in the skin. A boil generally starts as a reddened, tender area. Over time, the area becomes firm and hard. ',\n",
       "  'A boil, sometimes also referred to as a furuncle, is an infection involving a hair follicle on the skin. Boils are typically caused by Staphylococcus aureus bacteria, although they may be caused by other bacteria or fungi present on the skin surface. ',\n",
       "  'A boil, also known as a skin abscess or furuncle, is a painful, pus-filled lump that develops on the surface of the skin. Boils can be as small as a pea or as large as a golf ball and can develop on any part of the body. They are usually caused by the infection of a hair follicle or oil gland in the skin. ']}"
      ]
     },
     "execution_count": 10,
     "metadata": {},
     "output_type": "execute_result"
    }
   ],
   "source": [
    "contrastive_pairs_val[2]"
   ]
  },
  {
   "cell_type": "code",
   "execution_count": 11,
   "id": "b1659185",
   "metadata": {
    "execution": {
     "iopub.execute_input": "2025-03-04T01:57:12.124521Z",
     "iopub.status.busy": "2025-03-04T01:57:12.124197Z",
     "iopub.status.idle": "2025-03-04T01:57:14.801295Z",
     "shell.execute_reply": "2025-03-04T01:57:14.800778Z"
    },
    "papermill": {
     "duration": 2.68147,
     "end_time": "2025-03-04T01:57:14.802353",
     "exception": false,
     "start_time": "2025-03-04T01:57:12.120883",
     "status": "completed"
    },
    "tags": []
   },
   "outputs": [],
   "source": [
    "from torch.utils.data import DataLoader"
   ]
  },
  {
   "cell_type": "code",
   "execution_count": 12,
   "id": "f7f25e20",
   "metadata": {
    "execution": {
     "iopub.execute_input": "2025-03-04T01:57:14.809607Z",
     "iopub.status.busy": "2025-03-04T01:57:14.809181Z",
     "iopub.status.idle": "2025-03-04T01:57:14.812363Z",
     "shell.execute_reply": "2025-03-04T01:57:14.812024Z"
    },
    "papermill": {
     "duration": 0.007403,
     "end_time": "2025-03-04T01:57:14.813116",
     "exception": false,
     "start_time": "2025-03-04T01:57:14.805713",
     "status": "completed"
    },
    "tags": []
   },
   "outputs": [],
   "source": [
    "class ContrastiveDataset:\n",
    "    def __init__(self, pairs):\n",
    "        self.pairs = pairs\n",
    "\n",
    "    def __len__(self):\n",
    "        return len(self.pairs)\n",
    "\n",
    "    def __getitem__(self, idx):\n",
    "        item = self.pairs[idx]\n",
    "        return item[\"anchor\"], item[\"positive\"], item[\"negatives\"]"
   ]
  },
  {
   "cell_type": "code",
   "execution_count": 13,
   "id": "5b993ba5",
   "metadata": {
    "execution": {
     "iopub.execute_input": "2025-03-04T01:57:14.819507Z",
     "iopub.status.busy": "2025-03-04T01:57:14.819155Z",
     "iopub.status.idle": "2025-03-04T01:57:14.829705Z",
     "shell.execute_reply": "2025-03-04T01:57:14.829048Z"
    },
    "papermill": {
     "duration": 0.014481,
     "end_time": "2025-03-04T01:57:14.830412",
     "exception": false,
     "start_time": "2025-03-04T01:57:14.815931",
     "status": "completed"
    },
    "tags": []
   },
   "outputs": [],
   "source": [
    "contrastive_dataset_val = ContrastiveDataset(contrastive_pairs_val)"
   ]
  },
  {
   "cell_type": "code",
   "execution_count": 14,
   "id": "2c23de6a",
   "metadata": {
    "execution": {
     "iopub.execute_input": "2025-03-04T01:57:14.836989Z",
     "iopub.status.busy": "2025-03-04T01:57:14.836795Z",
     "iopub.status.idle": "2025-03-04T01:57:14.845652Z",
     "shell.execute_reply": "2025-03-04T01:57:14.845066Z"
    },
    "papermill": {
     "duration": 0.013104,
     "end_time": "2025-03-04T01:57:14.846516",
     "exception": false,
     "start_time": "2025-03-04T01:57:14.833412",
     "status": "completed"
    },
    "tags": []
   },
   "outputs": [],
   "source": [
    "data_loader_val = DataLoader(contrastive_dataset_val, batch_size=32, shuffle=True)"
   ]
  },
  {
   "cell_type": "code",
   "execution_count": 15,
   "id": "f8d750ad",
   "metadata": {
    "execution": {
     "iopub.execute_input": "2025-03-04T01:57:14.853385Z",
     "iopub.status.busy": "2025-03-04T01:57:14.853229Z",
     "iopub.status.idle": "2025-03-04T01:57:14.861174Z",
     "shell.execute_reply": "2025-03-04T01:57:14.860830Z"
    },
    "papermill": {
     "duration": 0.012338,
     "end_time": "2025-03-04T01:57:14.861897",
     "exception": false,
     "start_time": "2025-03-04T01:57:14.849559",
     "status": "completed"
    },
    "tags": []
   },
   "outputs": [
    {
     "data": {
      "text/plain": [
       "284"
      ]
     },
     "execution_count": 15,
     "metadata": {},
     "output_type": "execute_result"
    }
   ],
   "source": [
    "len(data_loader_val)"
   ]
  },
  {
   "cell_type": "code",
   "execution_count": 16,
   "id": "28381abc",
   "metadata": {
    "execution": {
     "iopub.execute_input": "2025-03-04T01:57:14.869096Z",
     "iopub.status.busy": "2025-03-04T01:57:14.868328Z",
     "iopub.status.idle": "2025-03-04T01:57:16.694792Z",
     "shell.execute_reply": "2025-03-04T01:57:16.694349Z"
    },
    "papermill": {
     "duration": 1.830825,
     "end_time": "2025-03-04T01:57:16.695766",
     "exception": false,
     "start_time": "2025-03-04T01:57:14.864941",
     "status": "completed"
    },
    "tags": []
   },
   "outputs": [],
   "source": [
    "from transformers import AutoTokenizer, AutoModel\n",
    "tokenizer = AutoTokenizer.from_pretrained(\"bert-base-uncased\")"
   ]
  },
  {
   "cell_type": "code",
   "execution_count": 17,
   "id": "75861e26",
   "metadata": {
    "execution": {
     "iopub.execute_input": "2025-03-04T01:57:16.704950Z",
     "iopub.status.busy": "2025-03-04T01:57:16.704687Z",
     "iopub.status.idle": "2025-03-04T01:57:18.004735Z",
     "shell.execute_reply": "2025-03-04T01:57:18.004073Z"
    },
    "papermill": {
     "duration": 1.304657,
     "end_time": "2025-03-04T01:57:18.005913",
     "exception": false,
     "start_time": "2025-03-04T01:57:16.701256",
     "status": "completed"
    },
    "tags": []
   },
   "outputs": [
    {
     "name": "stderr",
     "output_type": "stream",
     "text": [
      "/tmp/ipykernel_1863037/3548975511.py:3: FutureWarning: You are using `torch.load` with `weights_only=False` (the current default value), which uses the default pickle module implicitly. It is possible to construct malicious pickle data which will execute arbitrary code during unpickling (See https://github.com/pytorch/pytorch/blob/main/SECURITY.md#untrusted-models for more details). In a future release, the default value for `weights_only` will be flipped to `True`. This limits the functions that could be executed during unpickling. Arbitrary objects will no longer be allowed to be loaded via this mode unless they are explicitly allowlisted by the user via `torch.serialization.add_safe_globals`. We recommend you start setting `weights_only=True` for any use case where you don't have full control of the loaded file. Please open an issue on GitHub for any issues related to this experimental feature.\n",
      "  lora_model = torch.load(file_path)\n"
     ]
    }
   ],
   "source": [
    "import torch\n",
    "file_path=\"/dss/dsshome1/07/ra65bex2/srawat/contrastive_learning/v1.1/0.1hyperbolic/hyperbolic_lora_checkpoint_epoch_3.pth\"\n",
    "lora_model = torch.load(file_path)"
   ]
  },
  {
   "cell_type": "code",
   "execution_count": 18,
   "id": "7ee0239a",
   "metadata": {
    "execution": {
     "iopub.execute_input": "2025-03-04T01:57:18.014071Z",
     "iopub.status.busy": "2025-03-04T01:57:18.013490Z",
     "iopub.status.idle": "2025-03-04T01:57:18.019809Z",
     "shell.execute_reply": "2025-03-04T01:57:18.019481Z"
    },
    "papermill": {
     "duration": 0.010964,
     "end_time": "2025-03-04T01:57:18.020579",
     "exception": false,
     "start_time": "2025-03-04T01:57:18.009615",
     "status": "completed"
    },
    "tags": []
   },
   "outputs": [],
   "source": [
    "device = torch.device('cuda' if torch.cuda.is_available() else 'cpu')\n",
    "lora_model = lora_model.to(device)"
   ]
  },
  {
   "cell_type": "code",
   "execution_count": 19,
   "id": "b1b1cb77",
   "metadata": {
    "execution": {
     "iopub.execute_input": "2025-03-04T01:57:18.027301Z",
     "iopub.status.busy": "2025-03-04T01:57:18.027021Z",
     "iopub.status.idle": "2025-03-04T01:57:18.033816Z",
     "shell.execute_reply": "2025-03-04T01:57:18.033408Z"
    },
    "papermill": {
     "duration": 0.010906,
     "end_time": "2025-03-04T01:57:18.034571",
     "exception": false,
     "start_time": "2025-03-04T01:57:18.023665",
     "status": "completed"
    },
    "tags": []
   },
   "outputs": [],
   "source": [
    "def lorentzian_distance(x, y):\n",
    "    \n",
    "    dot_product = torch.sum(x * y, dim=-1)\n",
    "    norm_x = torch.norm(x, dim=-1)\n",
    "    norm_y = torch.norm(y, dim=-1)\n",
    "    \n",
    "    distance = torch.acosh(-dot_product + torch.sqrt((1 + norm_x**2) * (1 + norm_y**2)))\n",
    "    return distance"
   ]
  },
  {
   "cell_type": "code",
   "execution_count": 20,
   "id": "02581a2a",
   "metadata": {
    "execution": {
     "iopub.execute_input": "2025-03-04T01:57:18.041464Z",
     "iopub.status.busy": "2025-03-04T01:57:18.040827Z",
     "iopub.status.idle": "2025-03-04T01:57:18.049554Z",
     "shell.execute_reply": "2025-03-04T01:57:18.048976Z"
    },
    "papermill": {
     "duration": 0.012645,
     "end_time": "2025-03-04T01:57:18.050203",
     "exception": false,
     "start_time": "2025-03-04T01:57:18.037558",
     "status": "completed"
    },
    "tags": []
   },
   "outputs": [],
   "source": [
    "def expm_o(v, c=1.0):\n",
    "    c = torch.tensor(c)\n",
    "    vspace = v\n",
    "    vnorm = torch.norm(v, p=2, dim=-1, keepdim=True)\n",
    "    xspace = torch.sinh(torch.sqrt(c) * vnorm) * vspace / (torch.sqrt(c) * vnorm)\n",
    "    batch_min = xspace.min(dim=1, keepdim=True).values\n",
    "    batch_max = xspace.max(dim=1, keepdim=True).values\n",
    "    xspace_scaled=(xspace - batch_min) / (batch_max - batch_min)\n",
    "    return xspace_scaled"
   ]
  },
  {
   "cell_type": "code",
   "execution_count": 21,
   "id": "5418e367",
   "metadata": {
    "execution": {
     "iopub.execute_input": "2025-03-04T01:57:18.056888Z",
     "iopub.status.busy": "2025-03-04T01:57:18.056732Z",
     "iopub.status.idle": "2025-03-04T01:57:18.065835Z",
     "shell.execute_reply": "2025-03-04T01:57:18.065179Z"
    },
    "papermill": {
     "duration": 0.013162,
     "end_time": "2025-03-04T01:57:18.066483",
     "exception": false,
     "start_time": "2025-03-04T01:57:18.053321",
     "status": "completed"
    },
    "tags": []
   },
   "outputs": [],
   "source": [
    "def evaluate_mrr(model1, data_loader_val, distance_fn):\n",
    "    model1.eval()\n",
    "    \n",
    "    total_rr = 0.0\n",
    "    num_queries = 0\n",
    "\n",
    "    with torch.no_grad():\n",
    "        for batch in data_loader_val:\n",
    "            anchor_text = batch[0]\n",
    "            positive_text = batch[1]\n",
    "            negative_texts = batch[2]\n",
    "\n",
    "            anchor_input = tokenizer(anchor_text, return_tensors='pt', padding=True, truncation=True, max_length=512).to(device)\n",
    "            positive_input = tokenizer(positive_text, return_tensors='pt', padding=True, truncation=True, max_length=512).to(device)\n",
    "\n",
    "            anchor_embedding = expm_o(model1(**anchor_input).last_hidden_state[:, 0, :])\n",
    "            positive_embedding = expm_o(model1(**positive_input).last_hidden_state[:, 0, :])\n",
    "            negative_embedding = [expm_o(model1(**tokenizer(neg, return_tensors='pt', padding=True, truncation=True, max_length=512).to(device)).last_hidden_state[:, 0, :]) for neg in negative_texts]\n",
    "\n",
    "            pos_dist = distance_fn(anchor_embedding, positive_embedding)\n",
    "            neg_dist = torch.stack([distance_fn(anchor_embedding, neg) for neg in negative_embedding], dim=-1)\n",
    "            all_similarities=torch.cat([-pos_dist.unsqueeze(1), -neg_dist], dim=1)\n",
    "\n",
    "            sorted_similarities, sorted_indices = torch.sort(all_similarities, dim=1, descending=True)\n",
    "\n",
    "            # Find the rank of the first relevant (positive) document\n",
    "            positive_rank = (sorted_indices == 0).nonzero(as_tuple=True)[1] + 1  # +1 to make rank 1-based\n",
    "            total_rr += torch.sum(1.0 / positive_rank.float()).item()  # Reciprocal rank\n",
    "            num_queries += len(positive_rank)\n",
    "            \n",
    "    mrr = total_rr / num_queries\n",
    "    return mrr"
   ]
  },
  {
   "cell_type": "code",
   "execution_count": 22,
   "id": "7fc2941d",
   "metadata": {
    "execution": {
     "iopub.execute_input": "2025-03-04T01:57:18.073845Z",
     "iopub.status.busy": "2025-03-04T01:57:18.073432Z",
     "iopub.status.idle": "2025-03-04T01:59:10.897157Z",
     "shell.execute_reply": "2025-03-04T01:59:10.896506Z"
    },
    "papermill": {
     "duration": 112.832584,
     "end_time": "2025-03-04T01:59:10.902334",
     "exception": false,
     "start_time": "2025-03-04T01:57:18.069750",
     "status": "completed"
    },
    "tags": []
   },
   "outputs": [
    {
     "name": "stdout",
     "output_type": "stream",
     "text": [
      "0.5332269287487317\n"
     ]
    }
   ],
   "source": [
    "mrr_validation = evaluate_mrr(model1=lora_model, data_loader_val=data_loader_val,distance_fn=lorentzian_distance)\n",
    "print(mrr_validation)"
   ]
  },
  {
   "cell_type": "code",
   "execution_count": null,
   "id": "1b24b7c1",
   "metadata": {
    "papermill": {
     "duration": 0.002989,
     "end_time": "2025-03-04T01:59:10.908663",
     "exception": false,
     "start_time": "2025-03-04T01:59:10.905674",
     "status": "completed"
    },
    "tags": []
   },
   "outputs": [],
   "source": []
  }
 ],
 "metadata": {
  "kernelspec": {
   "display_name": "Python (myenv)",
   "language": "python",
   "name": "myenv"
  },
  "language_info": {
   "codemirror_mode": {
    "name": "ipython",
    "version": 3
   },
   "file_extension": ".py",
   "mimetype": "text/x-python",
   "name": "python",
   "nbconvert_exporter": "python",
   "pygments_lexer": "ipython3",
   "version": "3.12.7"
  },
  "papermill": {
   "default_parameters": {},
   "duration": 129.3767,
   "end_time": "2025-03-04T01:59:12.530116",
   "environment_variables": {},
   "exception": null,
   "input_path": "1hyperbolic.ipynb",
   "output_path": "1hyperbolic_output.ipynb",
   "parameters": {},
   "start_time": "2025-03-04T01:57:03.153416",
   "version": "2.6.0"
  }
 },
 "nbformat": 4,
 "nbformat_minor": 5
}