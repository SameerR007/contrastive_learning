{
 "cells": [
  {
   "cell_type": "code",
   "execution_count": 1,
   "id": "4a5c7fcc",
   "metadata": {
    "execution": {
     "iopub.execute_input": "2025-03-04T01:52:03.661681Z",
     "iopub.status.busy": "2025-03-04T01:52:03.661513Z",
     "iopub.status.idle": "2025-03-04T01:52:04.793541Z",
     "shell.execute_reply": "2025-03-04T01:52:04.792816Z"
    },
    "papermill": {
     "duration": 1.138491,
     "end_time": "2025-03-04T01:52:04.794433",
     "exception": false,
     "start_time": "2025-03-04T01:52:03.655942",
     "status": "completed"
    },
    "tags": []
   },
   "outputs": [],
   "source": [
    "from datasets import load_dataset"
   ]
  },
  {
   "cell_type": "code",
   "execution_count": 2,
   "id": "bbfe049d",
   "metadata": {
    "execution": {
     "iopub.execute_input": "2025-03-04T01:52:04.800610Z",
     "iopub.status.busy": "2025-03-04T01:52:04.800367Z",
     "iopub.status.idle": "2025-03-04T01:52:09.585888Z",
     "shell.execute_reply": "2025-03-04T01:52:09.585402Z"
    },
    "papermill": {
     "duration": 4.789563,
     "end_time": "2025-03-04T01:52:09.586854",
     "exception": false,
     "start_time": "2025-03-04T01:52:04.797291",
     "status": "completed"
    },
    "tags": []
   },
   "outputs": [],
   "source": [
    "dataset_val = load_dataset('ms_marco', 'v1.1', split='validation')"
   ]
  },
  {
   "cell_type": "code",
   "execution_count": 3,
   "id": "a82e1d60",
   "metadata": {
    "execution": {
     "iopub.execute_input": "2025-03-04T01:52:09.595241Z",
     "iopub.status.busy": "2025-03-04T01:52:09.594613Z",
     "iopub.status.idle": "2025-03-04T01:52:09.599493Z",
     "shell.execute_reply": "2025-03-04T01:52:09.599201Z"
    },
    "papermill": {
     "duration": 0.00879,
     "end_time": "2025-03-04T01:52:09.600191",
     "exception": false,
     "start_time": "2025-03-04T01:52:09.591401",
     "status": "completed"
    },
    "tags": []
   },
   "outputs": [
    {
     "data": {
      "text/plain": [
       "Dataset({\n",
       "    features: ['answers', 'passages', 'query', 'query_id', 'query_type', 'wellFormedAnswers'],\n",
       "    num_rows: 10047\n",
       "})"
      ]
     },
     "execution_count": 3,
     "metadata": {},
     "output_type": "execute_result"
    }
   ],
   "source": [
    "dataset_val"
   ]
  },
  {
   "cell_type": "code",
   "execution_count": 4,
   "id": "a8d98408",
   "metadata": {
    "execution": {
     "iopub.execute_input": "2025-03-04T01:52:09.606701Z",
     "iopub.status.busy": "2025-03-04T01:52:09.606206Z",
     "iopub.status.idle": "2025-03-04T01:52:10.465179Z",
     "shell.execute_reply": "2025-03-04T01:52:10.464641Z"
    },
    "papermill": {
     "duration": 0.863481,
     "end_time": "2025-03-04T01:52:10.466411",
     "exception": false,
     "start_time": "2025-03-04T01:52:09.602930",
     "status": "completed"
    },
    "tags": []
   },
   "outputs": [
    {
     "name": "stderr",
     "output_type": "stream",
     "text": [
      "[nltk_data] Downloading package stopwords to\n",
      "[nltk_data]     /dss/dsshome1/07/ra65bex2/nltk_data...\n",
      "[nltk_data]   Package stopwords is already up-to-date!\n",
      "[nltk_data] Downloading package wordnet to\n",
      "[nltk_data]     /dss/dsshome1/07/ra65bex2/nltk_data...\n",
      "[nltk_data]   Package wordnet is already up-to-date!\n"
     ]
    }
   ],
   "source": [
    "import random\n",
    "import re\n",
    "import nltk\n",
    "from nltk.corpus import stopwords, wordnet\n",
    "nltk.download('stopwords')\n",
    "nltk.download('wordnet')\n",
    "stop_words = set(stopwords.words('english'))\n",
    "\n",
    "def clean_text(text):\n",
    "    return re.sub(r'[^\\w\\s.!?]', '', text)\n",
    "\n",
    "def select_words(text, num_words):\n",
    "    words = [w for w in text.split() if w.lower() not in stop_words]\n",
    "    return random.sample(words, min(num_words, len(words)))\n",
    "\n",
    "def introduce_typo(word):\n",
    "    if len(word) > 1:\n",
    "        idx = random.randint(0, len(word) - 1)\n",
    "        return word[:idx] + random.choice('abcdefghijklmnopqrstuvwxyz') + word[idx+1:]\n",
    "    return word\n",
    "\n",
    "def introduce_noise(word):\n",
    "    noise_chars = ['@', '#', '$', '%', '&', '*']\n",
    "    if len(word) > 1:\n",
    "        idx = random.randint(0, len(word) - 1)\n",
    "        return word[:idx] + random.choice(noise_chars) + word[idx+1:]\n",
    "    return word\n",
    "\n",
    "def replace_with_synonym(word):\n",
    "    synonyms = [syn.lemmas()[0].name() for syn in wordnet.synsets(word) if syn.lemmas()]\n",
    "    return random.choice(synonyms) if synonyms else word\n",
    "\n",
    "def corrupt_word(word, method):\n",
    "    if method == 'typo':\n",
    "        return introduce_typo(word)\n",
    "    elif method == 'noise':\n",
    "        return introduce_noise(word)\n",
    "    elif method == 'synonym':\n",
    "        return replace_with_synonym(word)\n",
    "    return word\n",
    "\n",
    "def corrupt_text(text):\n",
    "    corrupted_words = []  \n",
    "    words_to_corrupt=select_words(clean_text(text), num_words=3)\n",
    "    for word in clean_text(text).split():\n",
    "        if word in words_to_corrupt:\n",
    "            corruption_method = random.choice(['typo', 'noise', 'synonym'])\n",
    "            corrupted_words.append(corrupt_word(word, corruption_method))\n",
    "        else:\n",
    "            corrupted_words.append(word)\n",
    "    return ' '.join(corrupted_words)"
   ]
  },
  {
   "cell_type": "code",
   "execution_count": 5,
   "id": "f9198809",
   "metadata": {
    "execution": {
     "iopub.execute_input": "2025-03-04T01:52:10.473979Z",
     "iopub.status.busy": "2025-03-04T01:52:10.473727Z",
     "iopub.status.idle": "2025-03-04T01:52:10.478125Z",
     "shell.execute_reply": "2025-03-04T01:52:10.477652Z"
    },
    "papermill": {
     "duration": 0.009744,
     "end_time": "2025-03-04T01:52:10.478901",
     "exception": false,
     "start_time": "2025-03-04T01:52:10.469157",
     "status": "completed"
    },
    "tags": []
   },
   "outputs": [],
   "source": [
    "def preprocess(example):\n",
    "    positive_passages=[]\n",
    "    for p in enumerate(example['passages'][\"is_selected\"]):\n",
    "        if p[1]==1:\n",
    "            positive_passages.append(example[\"passages\"][\"passage_text\"][p[0]])\n",
    "    negative_passages = []\n",
    "    for p in enumerate(example['passages'][\"is_selected\"]):\n",
    "        if p[1]==0:\n",
    "            negative_passages.append(example[\"passages\"][\"passage_text\"][p[0]])\n",
    "    if (len(positive_passages)>0 and len(negative_passages)>=5):\n",
    "        positive = positive_passages[0]\n",
    "        negatives = negative_passages[:5]\n",
    "        return {\n",
    "            \"query\": example[\"query\"],\n",
    "            \"positive\": positive,\n",
    "            \"negatives\": negatives\n",
    "        }\n",
    "    else:\n",
    "        return {\"query\": None, \"positive\": None, \"negatives\": None}"
   ]
  },
  {
   "cell_type": "code",
   "execution_count": 6,
   "id": "fe8c95d1",
   "metadata": {
    "execution": {
     "iopub.execute_input": "2025-03-04T01:52:10.486031Z",
     "iopub.status.busy": "2025-03-04T01:52:10.485874Z",
     "iopub.status.idle": "2025-03-04T01:52:10.653259Z",
     "shell.execute_reply": "2025-03-04T01:52:10.652241Z"
    },
    "papermill": {
     "duration": 0.171263,
     "end_time": "2025-03-04T01:52:10.654126",
     "exception": false,
     "start_time": "2025-03-04T01:52:10.482863",
     "status": "completed"
    },
    "tags": []
   },
   "outputs": [],
   "source": [
    "processed_data_val = dataset_val.map(preprocess, remove_columns=dataset_val.column_names)"
   ]
  },
  {
   "cell_type": "code",
   "execution_count": 7,
   "id": "1751ee73",
   "metadata": {
    "execution": {
     "iopub.execute_input": "2025-03-04T01:52:10.661043Z",
     "iopub.status.busy": "2025-03-04T01:52:10.660324Z",
     "iopub.status.idle": "2025-03-04T01:52:10.686872Z",
     "shell.execute_reply": "2025-03-04T01:52:10.686397Z"
    },
    "papermill": {
     "duration": 0.030466,
     "end_time": "2025-03-04T01:52:10.687533",
     "exception": false,
     "start_time": "2025-03-04T01:52:10.657067",
     "status": "completed"
    },
    "tags": []
   },
   "outputs": [],
   "source": [
    "processed_data_val = processed_data_val.filter(lambda x: x['query'] is not None and x['positive'] is not None)"
   ]
  },
  {
   "cell_type": "code",
   "execution_count": 8,
   "id": "01b8720a",
   "metadata": {
    "execution": {
     "iopub.execute_input": "2025-03-04T01:52:10.693486Z",
     "iopub.status.busy": "2025-03-04T01:52:10.693179Z",
     "iopub.status.idle": "2025-03-04T01:52:11.391830Z",
     "shell.execute_reply": "2025-03-04T01:52:11.391238Z"
    },
    "papermill": {
     "duration": 0.702648,
     "end_time": "2025-03-04T01:52:11.392851",
     "exception": false,
     "start_time": "2025-03-04T01:52:10.690203",
     "status": "completed"
    },
    "tags": []
   },
   "outputs": [],
   "source": [
    "contrastive_pairs_val = []\n",
    "for item in processed_data_val:\n",
    "    query = item[\"query\"]\n",
    "    positive = item[\"positive\"]\n",
    "    negatives = item[\"negatives\"]\n",
    "    contrastive_pairs_val.append({\n",
    "        \"anchor\": query,\n",
    "        \"positive\": positive,\n",
    "        \"negatives\": negatives\n",
    "    })"
   ]
  },
  {
   "cell_type": "code",
   "execution_count": 9,
   "id": "ad9495ff",
   "metadata": {
    "execution": {
     "iopub.execute_input": "2025-03-04T01:52:11.399528Z",
     "iopub.status.busy": "2025-03-04T01:52:11.399360Z",
     "iopub.status.idle": "2025-03-04T01:52:11.403185Z",
     "shell.execute_reply": "2025-03-04T01:52:11.402765Z"
    },
    "papermill": {
     "duration": 0.007699,
     "end_time": "2025-03-04T01:52:11.403890",
     "exception": false,
     "start_time": "2025-03-04T01:52:11.396191",
     "status": "completed"
    },
    "tags": []
   },
   "outputs": [
    {
     "data": {
      "text/plain": [
       "9084"
      ]
     },
     "execution_count": 9,
     "metadata": {},
     "output_type": "execute_result"
    }
   ],
   "source": [
    "len(contrastive_pairs_val)"
   ]
  },
  {
   "cell_type": "code",
   "execution_count": 10,
   "id": "a3a376e4",
   "metadata": {
    "execution": {
     "iopub.execute_input": "2025-03-04T01:52:11.410330Z",
     "iopub.status.busy": "2025-03-04T01:52:11.409935Z",
     "iopub.status.idle": "2025-03-04T01:52:11.420413Z",
     "shell.execute_reply": "2025-03-04T01:52:11.419832Z"
    },
    "papermill": {
     "duration": 0.014245,
     "end_time": "2025-03-04T01:52:11.421037",
     "exception": false,
     "start_time": "2025-03-04T01:52:11.406792",
     "status": "completed"
    },
    "tags": []
   },
   "outputs": [
    {
     "data": {
      "text/plain": [
       "{'anchor': 'what is a furuncle boil',\n",
       " 'positive': 'A boil, also called a furuncle, is a deep folliculitis, infection of the hair follicle. It is most commonly caused by infection by the bacterium Staphylococcus aureus, resulting in a painful swollen area on the skin caused by an accumulation of pus and dead tissue. Signs and symptoms [edit]. Boils are bumpy, red, pus-filled lumps around a hair follicle that are tender, warm, and very painful. They range from pea-sized to golf ball-sized. A yellow or white point at the center of the lump can be seen when the boil is ready to drain or discharge pus.',\n",
       " 'negatives': ['Knowledge center. A boil, also known as a furuncle is a skin abscess, a painful bump that forms under the skin-it is full of puss. A carbuncle is collection of boils that develop under the skin. When bacteria infect hair follicles they can swell up and turn into boils. ',\n",
       "  'When the hair follicle becomes infected, the skin around it also becomes inflamed. The furuncle looks like a red, raised bump on your skin, but can later rupture and weep fluid. Furuncles are most commonly found on the face and neck. You might also develop a boil on your thigh or buttocks. Symptoms of a Furuncle. A furuncle may begin as a benign-looking bump on your skin, similar to a pimple. As the infection worsens, however, the boil can become painful and hard. Bacteria and dead skin cells may then build up underneath the skin, forming pu',\n",
       "  'A boil is a skin infection that starts in a hair follicle or oil gland. Also referred to as a skin abscess, it is a localized infection deep in the skin. A boil generally starts as a reddened, tender area. Over time, the area becomes firm and hard. ',\n",
       "  'A boil, sometimes also referred to as a furuncle, is an infection involving a hair follicle on the skin. Boils are typically caused by Staphylococcus aureus bacteria, although they may be caused by other bacteria or fungi present on the skin surface. ',\n",
       "  'A boil, also known as a skin abscess or furuncle, is a painful, pus-filled lump that develops on the surface of the skin. Boils can be as small as a pea or as large as a golf ball and can develop on any part of the body. They are usually caused by the infection of a hair follicle or oil gland in the skin. ']}"
      ]
     },
     "execution_count": 10,
     "metadata": {},
     "output_type": "execute_result"
    }
   ],
   "source": [
    "contrastive_pairs_val[2]"
   ]
  },
  {
   "cell_type": "code",
   "execution_count": 11,
   "id": "d2f22c4c",
   "metadata": {
    "execution": {
     "iopub.execute_input": "2025-03-04T01:52:11.427560Z",
     "iopub.status.busy": "2025-03-04T01:52:11.427299Z",
     "iopub.status.idle": "2025-03-04T01:52:14.148869Z",
     "shell.execute_reply": "2025-03-04T01:52:14.148357Z"
    },
    "papermill": {
     "duration": 2.725887,
     "end_time": "2025-03-04T01:52:14.149859",
     "exception": false,
     "start_time": "2025-03-04T01:52:11.423972",
     "status": "completed"
    },
    "tags": []
   },
   "outputs": [],
   "source": [
    "from torch.utils.data import DataLoader"
   ]
  },
  {
   "cell_type": "code",
   "execution_count": 12,
   "id": "3df7217b",
   "metadata": {
    "execution": {
     "iopub.execute_input": "2025-03-04T01:52:14.158964Z",
     "iopub.status.busy": "2025-03-04T01:52:14.158811Z",
     "iopub.status.idle": "2025-03-04T01:52:14.162487Z",
     "shell.execute_reply": "2025-03-04T01:52:14.162091Z"
    },
    "papermill": {
     "duration": 0.008038,
     "end_time": "2025-03-04T01:52:14.163125",
     "exception": false,
     "start_time": "2025-03-04T01:52:14.155087",
     "status": "completed"
    },
    "tags": []
   },
   "outputs": [],
   "source": [
    "class ContrastiveDataset:\n",
    "    def __init__(self, pairs):\n",
    "        self.pairs = pairs\n",
    "\n",
    "    def __len__(self):\n",
    "        return len(self.pairs)\n",
    "\n",
    "    def __getitem__(self, idx):\n",
    "        item = self.pairs[idx]\n",
    "        return item[\"anchor\"], item[\"positive\"], item[\"negatives\"]"
   ]
  },
  {
   "cell_type": "code",
   "execution_count": 13,
   "id": "efd9f07a",
   "metadata": {
    "execution": {
     "iopub.execute_input": "2025-03-04T01:52:14.170085Z",
     "iopub.status.busy": "2025-03-04T01:52:14.169385Z",
     "iopub.status.idle": "2025-03-04T01:52:14.180256Z",
     "shell.execute_reply": "2025-03-04T01:52:14.179720Z"
    },
    "papermill": {
     "duration": 0.014902,
     "end_time": "2025-03-04T01:52:14.181031",
     "exception": false,
     "start_time": "2025-03-04T01:52:14.166129",
     "status": "completed"
    },
    "tags": []
   },
   "outputs": [],
   "source": [
    "contrastive_dataset_val = ContrastiveDataset(contrastive_pairs_val)"
   ]
  },
  {
   "cell_type": "code",
   "execution_count": 14,
   "id": "0aea6804",
   "metadata": {
    "execution": {
     "iopub.execute_input": "2025-03-04T01:52:14.187279Z",
     "iopub.status.busy": "2025-03-04T01:52:14.187020Z",
     "iopub.status.idle": "2025-03-04T01:52:14.195727Z",
     "shell.execute_reply": "2025-03-04T01:52:14.195358Z"
    },
    "papermill": {
     "duration": 0.012498,
     "end_time": "2025-03-04T01:52:14.196367",
     "exception": false,
     "start_time": "2025-03-04T01:52:14.183869",
     "status": "completed"
    },
    "tags": []
   },
   "outputs": [],
   "source": [
    "data_loader_val = DataLoader(contrastive_dataset_val, batch_size=32, shuffle=True)"
   ]
  },
  {
   "cell_type": "code",
   "execution_count": 15,
   "id": "a365d66c",
   "metadata": {
    "execution": {
     "iopub.execute_input": "2025-03-04T01:52:14.203204Z",
     "iopub.status.busy": "2025-03-04T01:52:14.202864Z",
     "iopub.status.idle": "2025-03-04T01:52:14.211658Z",
     "shell.execute_reply": "2025-03-04T01:52:14.211290Z"
    },
    "papermill": {
     "duration": 0.012843,
     "end_time": "2025-03-04T01:52:14.212302",
     "exception": false,
     "start_time": "2025-03-04T01:52:14.199459",
     "status": "completed"
    },
    "tags": []
   },
   "outputs": [
    {
     "data": {
      "text/plain": [
       "284"
      ]
     },
     "execution_count": 15,
     "metadata": {},
     "output_type": "execute_result"
    }
   ],
   "source": [
    "len(data_loader_val)"
   ]
  },
  {
   "cell_type": "code",
   "execution_count": 16,
   "id": "7af27319",
   "metadata": {
    "execution": {
     "iopub.execute_input": "2025-03-04T01:52:14.219141Z",
     "iopub.status.busy": "2025-03-04T01:52:14.218979Z",
     "iopub.status.idle": "2025-03-04T01:52:16.033459Z",
     "shell.execute_reply": "2025-03-04T01:52:16.032934Z"
    },
    "papermill": {
     "duration": 1.819014,
     "end_time": "2025-03-04T01:52:16.034338",
     "exception": false,
     "start_time": "2025-03-04T01:52:14.215324",
     "status": "completed"
    },
    "tags": []
   },
   "outputs": [],
   "source": [
    "from transformers import AutoTokenizer, AutoModel\n",
    "tokenizer = AutoTokenizer.from_pretrained(\"bert-base-uncased\")"
   ]
  },
  {
   "cell_type": "code",
   "execution_count": 17,
   "id": "305d753a",
   "metadata": {
    "execution": {
     "iopub.execute_input": "2025-03-04T01:52:16.041939Z",
     "iopub.status.busy": "2025-03-04T01:52:16.041675Z",
     "iopub.status.idle": "2025-03-04T01:52:18.685274Z",
     "shell.execute_reply": "2025-03-04T01:52:18.684497Z"
    },
    "papermill": {
     "duration": 2.648355,
     "end_time": "2025-03-04T01:52:18.686310",
     "exception": false,
     "start_time": "2025-03-04T01:52:16.037955",
     "status": "completed"
    },
    "tags": []
   },
   "outputs": [
    {
     "name": "stderr",
     "output_type": "stream",
     "text": [
      "/tmp/ipykernel_1857332/3548975511.py:3: FutureWarning: You are using `torch.load` with `weights_only=False` (the current default value), which uses the default pickle module implicitly. It is possible to construct malicious pickle data which will execute arbitrary code during unpickling (See https://github.com/pytorch/pytorch/blob/main/SECURITY.md#untrusted-models for more details). In a future release, the default value for `weights_only` will be flipped to `True`. This limits the functions that could be executed during unpickling. Arbitrary objects will no longer be allowed to be loaded via this mode unless they are explicitly allowlisted by the user via `torch.serialization.add_safe_globals`. We recommend you start setting `weights_only=True` for any use case where you don't have full control of the loaded file. Please open an issue on GitHub for any issues related to this experimental feature.\n",
      "  lora_model = torch.load(file_path)\n"
     ]
    }
   ],
   "source": [
    "import torch\n",
    "file_path=\"/dss/dsshome1/07/ra65bex2/srawat/contrastive_learning/v1.1/0.1hyperbolic/hyperbolic_lora_checkpoint_epoch_3.pth\"\n",
    "lora_model = torch.load(file_path)"
   ]
  },
  {
   "cell_type": "code",
   "execution_count": 18,
   "id": "751dcef0",
   "metadata": {
    "execution": {
     "iopub.execute_input": "2025-03-04T01:52:18.693781Z",
     "iopub.status.busy": "2025-03-04T01:52:18.693621Z",
     "iopub.status.idle": "2025-03-04T01:52:18.699930Z",
     "shell.execute_reply": "2025-03-04T01:52:18.699534Z"
    },
    "papermill": {
     "duration": 0.010657,
     "end_time": "2025-03-04T01:52:18.700527",
     "exception": false,
     "start_time": "2025-03-04T01:52:18.689870",
     "status": "completed"
    },
    "tags": []
   },
   "outputs": [],
   "source": [
    "device = torch.device('cuda' if torch.cuda.is_available() else 'cpu')\n",
    "lora_model = lora_model.to(device)"
   ]
  },
  {
   "cell_type": "code",
   "execution_count": 19,
   "id": "6e0df59b",
   "metadata": {
    "execution": {
     "iopub.execute_input": "2025-03-04T01:52:18.707267Z",
     "iopub.status.busy": "2025-03-04T01:52:18.707078Z",
     "iopub.status.idle": "2025-03-04T01:52:18.714679Z",
     "shell.execute_reply": "2025-03-04T01:52:18.714224Z"
    },
    "papermill": {
     "duration": 0.011667,
     "end_time": "2025-03-04T01:52:18.715297",
     "exception": false,
     "start_time": "2025-03-04T01:52:18.703630",
     "status": "completed"
    },
    "tags": []
   },
   "outputs": [],
   "source": [
    "def lorentzian_distance(x, y):\n",
    "    \n",
    "    dot_product = torch.sum(x * y, dim=-1)\n",
    "    norm_x = torch.norm(x, dim=-1)\n",
    "    norm_y = torch.norm(y, dim=-1)\n",
    "    \n",
    "    distance = torch.acosh(-dot_product + torch.sqrt((1 + norm_x**2) * (1 + norm_y**2)))\n",
    "    return distance"
   ]
  },
  {
   "cell_type": "code",
   "execution_count": 20,
   "id": "31db88d6",
   "metadata": {
    "execution": {
     "iopub.execute_input": "2025-03-04T01:52:18.722115Z",
     "iopub.status.busy": "2025-03-04T01:52:18.721703Z",
     "iopub.status.idle": "2025-03-04T01:52:18.730504Z",
     "shell.execute_reply": "2025-03-04T01:52:18.730087Z"
    },
    "papermill": {
     "duration": 0.012753,
     "end_time": "2025-03-04T01:52:18.731119",
     "exception": false,
     "start_time": "2025-03-04T01:52:18.718366",
     "status": "completed"
    },
    "tags": []
   },
   "outputs": [],
   "source": [
    "def expm_o(v, c=1.0):\n",
    "    c = torch.tensor(c)\n",
    "    vspace = v\n",
    "    vnorm = torch.norm(v, p=2, dim=-1, keepdim=True)\n",
    "    xspace = torch.sinh(torch.sqrt(c) * vnorm) * vspace / (torch.sqrt(c) * vnorm)\n",
    "    batch_min = xspace.min(dim=1, keepdim=True).values\n",
    "    batch_max = xspace.max(dim=1, keepdim=True).values\n",
    "    xspace_scaled=(xspace - batch_min) / (batch_max - batch_min)\n",
    "    return xspace_scaled"
   ]
  },
  {
   "cell_type": "code",
   "execution_count": 21,
   "id": "d65bebef",
   "metadata": {
    "execution": {
     "iopub.execute_input": "2025-03-04T01:52:18.738060Z",
     "iopub.status.busy": "2025-03-04T01:52:18.737677Z",
     "iopub.status.idle": "2025-03-04T01:52:18.746015Z",
     "shell.execute_reply": "2025-03-04T01:52:18.745576Z"
    },
    "papermill": {
     "duration": 0.012501,
     "end_time": "2025-03-04T01:52:18.746658",
     "exception": false,
     "start_time": "2025-03-04T01:52:18.734157",
     "status": "completed"
    },
    "tags": []
   },
   "outputs": [],
   "source": [
    "def evaluate_mrr(model1, data_loader_val, distance_fn):\n",
    "    model1.eval()\n",
    "    \n",
    "    total_rr = 0.0\n",
    "    num_queries = 0\n",
    "\n",
    "    with torch.no_grad():\n",
    "        for batch in data_loader_val:\n",
    "            anchor_text = batch[0]\n",
    "            positive_text = batch[1]\n",
    "            negative_texts = batch[2]\n",
    "\n",
    "            anchor_input = tokenizer(anchor_text, return_tensors='pt', padding=True, truncation=True, max_length=512).to(device)\n",
    "            positive_input = tokenizer(positive_text, return_tensors='pt', padding=True, truncation=True, max_length=512).to(device)\n",
    "\n",
    "            anchor_embedding = expm_o(model1(**anchor_input).last_hidden_state[:, 0, :])\n",
    "            positive_embedding = expm_o(model1(**positive_input).last_hidden_state[:, 0, :])\n",
    "            negative_embedding = [expm_o(model1(**tokenizer(neg, return_tensors='pt', padding=True, truncation=True, max_length=512).to(device)).last_hidden_state[:, 0, :]) for neg in negative_texts]\n",
    "\n",
    "            pos_dist = distance_fn(anchor_embedding, positive_embedding)\n",
    "            neg_dist = torch.stack([distance_fn(anchor_embedding, neg) for neg in negative_embedding], dim=-1)\n",
    "            all_similarities=torch.cat([-pos_dist.unsqueeze(1), -neg_dist], dim=1)\n",
    "\n",
    "            sorted_similarities, sorted_indices = torch.sort(all_similarities, dim=1, descending=True)\n",
    "\n",
    "            # Find the rank of the first relevant (positive) document\n",
    "            positive_rank = (sorted_indices == 0).nonzero(as_tuple=True)[1] + 1  # +1 to make rank 1-based\n",
    "            total_rr += torch.sum(1.0 / positive_rank.float()).item()  # Reciprocal rank\n",
    "            num_queries += len(positive_rank)\n",
    "            \n",
    "    mrr = total_rr / num_queries\n",
    "    return mrr"
   ]
  },
  {
   "cell_type": "code",
   "execution_count": 22,
   "id": "dd37d206",
   "metadata": {
    "execution": {
     "iopub.execute_input": "2025-03-04T01:52:18.753544Z",
     "iopub.status.busy": "2025-03-04T01:52:18.753270Z",
     "iopub.status.idle": "2025-03-04T01:54:11.749687Z",
     "shell.execute_reply": "2025-03-04T01:54:11.748808Z"
    },
    "papermill": {
     "duration": 113.005272,
     "end_time": "2025-03-04T01:54:11.755067",
     "exception": false,
     "start_time": "2025-03-04T01:52:18.749795",
     "status": "completed"
    },
    "tags": []
   },
   "outputs": [
    {
     "name": "stdout",
     "output_type": "stream",
     "text": [
      "0.5332599557585151\n"
     ]
    }
   ],
   "source": [
    "mrr_validation = evaluate_mrr(model1=lora_model, data_loader_val=data_loader_val,distance_fn=lorentzian_distance)\n",
    "print(mrr_validation)"
   ]
  },
  {
   "cell_type": "code",
   "execution_count": null,
   "id": "29ac372a",
   "metadata": {
    "papermill": {
     "duration": 0.003149,
     "end_time": "2025-03-04T01:54:11.761609",
     "exception": false,
     "start_time": "2025-03-04T01:54:11.758460",
     "status": "completed"
    },
    "tags": []
   },
   "outputs": [],
   "source": []
  },
  {
   "cell_type": "code",
   "execution_count": null,
   "id": "f7e3295b",
   "metadata": {
    "papermill": {
     "duration": 0.00317,
     "end_time": "2025-03-04T01:54:11.768033",
     "exception": false,
     "start_time": "2025-03-04T01:54:11.764863",
     "status": "completed"
    },
    "tags": []
   },
   "outputs": [],
   "source": []
  }
 ],
 "metadata": {
  "kernelspec": {
   "display_name": "Python (myenv)",
   "language": "python",
   "name": "myenv"
  },
  "language_info": {
   "codemirror_mode": {
    "name": "ipython",
    "version": 3
   },
   "file_extension": ".py",
   "mimetype": "text/x-python",
   "name": "python",
   "nbconvert_exporter": "python",
   "pygments_lexer": "ipython3",
   "version": "3.12.7"
  },
  "papermill": {
   "default_parameters": {},
   "duration": 130.854046,
   "end_time": "2025-03-04T01:54:13.289415",
   "environment_variables": {},
   "exception": null,
   "input_path": "3hyperbolic.ipynb",
   "output_path": "3hyperbolic_output.ipynb",
   "parameters": {},
   "start_time": "2025-03-04T01:52:02.435369",
   "version": "2.6.0"
  }
 },
 "nbformat": 4,
 "nbformat_minor": 5
}