{
 "cells": [
  {
   "cell_type": "code",
   "execution_count": 1,
   "id": "f56eca60",
   "metadata": {
    "execution": {
     "iopub.execute_input": "2025-03-04T02:04:36.833277Z",
     "iopub.status.busy": "2025-03-04T02:04:36.833120Z",
     "iopub.status.idle": "2025-03-04T02:04:38.618794Z",
     "shell.execute_reply": "2025-03-04T02:04:38.618268Z"
    },
    "papermill": {
     "duration": 1.790291,
     "end_time": "2025-03-04T02:04:38.619811",
     "exception": false,
     "start_time": "2025-03-04T02:04:36.829520",
     "status": "completed"
    },
    "tags": []
   },
   "outputs": [],
   "source": [
    "from datasets import load_dataset"
   ]
  },
  {
   "cell_type": "code",
   "execution_count": 2,
   "id": "44b26117",
   "metadata": {
    "execution": {
     "iopub.execute_input": "2025-03-04T02:04:38.627451Z",
     "iopub.status.busy": "2025-03-04T02:04:38.627050Z",
     "iopub.status.idle": "2025-03-04T02:04:44.408216Z",
     "shell.execute_reply": "2025-03-04T02:04:44.407713Z"
    },
    "papermill": {
     "duration": 5.78473,
     "end_time": "2025-03-04T02:04:44.409118",
     "exception": false,
     "start_time": "2025-03-04T02:04:38.624388",
     "status": "completed"
    },
    "tags": []
   },
   "outputs": [],
   "source": [
    "dataset_val = load_dataset('ms_marco', 'v1.1', split='validation')"
   ]
  },
  {
   "cell_type": "code",
   "execution_count": 3,
   "id": "d4d2fbb6",
   "metadata": {
    "execution": {
     "iopub.execute_input": "2025-03-04T02:04:44.416931Z",
     "iopub.status.busy": "2025-03-04T02:04:44.416743Z",
     "iopub.status.idle": "2025-03-04T02:04:44.421716Z",
     "shell.execute_reply": "2025-03-04T02:04:44.421332Z"
    },
    "papermill": {
     "duration": 0.008308,
     "end_time": "2025-03-04T02:04:44.422346",
     "exception": false,
     "start_time": "2025-03-04T02:04:44.414038",
     "status": "completed"
    },
    "tags": []
   },
   "outputs": [
    {
     "data": {
      "text/plain": [
       "Dataset({\n",
       "    features: ['answers', 'passages', 'query', 'query_id', 'query_type', 'wellFormedAnswers'],\n",
       "    num_rows: 10047\n",
       "})"
      ]
     },
     "execution_count": 3,
     "metadata": {},
     "output_type": "execute_result"
    }
   ],
   "source": [
    "dataset_val"
   ]
  },
  {
   "cell_type": "code",
   "execution_count": 4,
   "id": "c935bab7",
   "metadata": {
    "execution": {
     "iopub.execute_input": "2025-03-04T02:04:44.428573Z",
     "iopub.status.busy": "2025-03-04T02:04:44.427924Z",
     "iopub.status.idle": "2025-03-04T02:04:45.768069Z",
     "shell.execute_reply": "2025-03-04T02:04:45.767602Z"
    },
    "papermill": {
     "duration": 1.343887,
     "end_time": "2025-03-04T02:04:45.768839",
     "exception": false,
     "start_time": "2025-03-04T02:04:44.424952",
     "status": "completed"
    },
    "tags": []
   },
   "outputs": [
    {
     "name": "stderr",
     "output_type": "stream",
     "text": [
      "[nltk_data] Downloading package stopwords to\n",
      "[nltk_data]     /dss/dsshome1/07/ra65bex2/nltk_data...\n",
      "[nltk_data]   Package stopwords is already up-to-date!\n",
      "[nltk_data] Downloading package wordnet to\n",
      "[nltk_data]     /dss/dsshome1/07/ra65bex2/nltk_data...\n",
      "[nltk_data]   Package wordnet is already up-to-date!\n"
     ]
    }
   ],
   "source": [
    "import random\n",
    "import re\n",
    "import nltk\n",
    "from nltk.corpus import stopwords, wordnet\n",
    "nltk.download('stopwords')\n",
    "nltk.download('wordnet')\n",
    "stop_words = set(stopwords.words('english'))\n",
    "\n",
    "def clean_text(text):\n",
    "    return re.sub(r'[^\\w\\s.!?]', '', text)\n",
    "\n",
    "def select_words(text, num_words):\n",
    "    words = [w for w in text.split() if w.lower() not in stop_words]\n",
    "    return random.sample(words, min(num_words, len(words)))\n",
    "\n",
    "def introduce_typo(word):\n",
    "    if len(word) > 1:\n",
    "        idx = random.randint(0, len(word) - 1)\n",
    "        return word[:idx] + random.choice('abcdefghijklmnopqrstuvwxyz') + word[idx+1:]\n",
    "    return word\n",
    "\n",
    "def introduce_noise(word):\n",
    "    noise_chars = ['@', '#', '$', '%', '&', '*']\n",
    "    if len(word) > 1:\n",
    "        idx = random.randint(0, len(word) - 1)\n",
    "        return word[:idx] + random.choice(noise_chars) + word[idx+1:]\n",
    "    return word\n",
    "\n",
    "def replace_with_synonym(word):\n",
    "    synonyms = [syn.lemmas()[0].name() for syn in wordnet.synsets(word) if syn.lemmas()]\n",
    "    return random.choice(synonyms) if synonyms else word\n",
    "\n",
    "def corrupt_word(word, method):\n",
    "    if method == 'typo':\n",
    "        return introduce_typo(word)\n",
    "    elif method == 'noise':\n",
    "        return introduce_noise(word)\n",
    "    elif method == 'synonym':\n",
    "        return replace_with_synonym(word)\n",
    "    return word\n",
    "\n",
    "def corrupt_text(text):\n",
    "    corrupted_words = []  \n",
    "    words_to_corrupt=select_words(clean_text(text), num_words=3)\n",
    "    for word in clean_text(text).split():\n",
    "        if word in words_to_corrupt:\n",
    "            corruption_method = random.choice(['typo', 'noise', 'synonym'])\n",
    "            corrupted_words.append(corrupt_word(word, corruption_method))\n",
    "        else:\n",
    "            corrupted_words.append(word)\n",
    "    return ' '.join(corrupted_words)"
   ]
  },
  {
   "cell_type": "code",
   "execution_count": 5,
   "id": "d20b405c",
   "metadata": {
    "execution": {
     "iopub.execute_input": "2025-03-04T02:04:45.775042Z",
     "iopub.status.busy": "2025-03-04T02:04:45.774467Z",
     "iopub.status.idle": "2025-03-04T02:04:45.778677Z",
     "shell.execute_reply": "2025-03-04T02:04:45.778278Z"
    },
    "papermill": {
     "duration": 0.007685,
     "end_time": "2025-03-04T02:04:45.779358",
     "exception": false,
     "start_time": "2025-03-04T02:04:45.771673",
     "status": "completed"
    },
    "tags": []
   },
   "outputs": [],
   "source": [
    "def preprocess(example):\n",
    "    positive_passages=[]\n",
    "    for p in enumerate(example['passages'][\"is_selected\"]):\n",
    "        if p[1]==1:\n",
    "            positive_passages.append(example[\"passages\"][\"passage_text\"][p[0]])\n",
    "    negative_passages = []\n",
    "    for p in enumerate(example['passages'][\"is_selected\"]):\n",
    "        if p[1]==0:\n",
    "            negative_passages.append(example[\"passages\"][\"passage_text\"][p[0]])\n",
    "    if (len(positive_passages)>0 and len(negative_passages)>=5):\n",
    "        positive = positive_passages[0]\n",
    "        negatives = negative_passages[:5]\n",
    "        return {\n",
    "            \"query\": corrupt_text(example[\"query\"]),\n",
    "            \"positive\": positive,\n",
    "            \"negatives\": negatives\n",
    "        }\n",
    "    else:\n",
    "        return {\"query\": None, \"positive\": None, \"negatives\": None}"
   ]
  },
  {
   "cell_type": "code",
   "execution_count": 6,
   "id": "0461aab3",
   "metadata": {
    "execution": {
     "iopub.execute_input": "2025-03-04T02:04:45.784971Z",
     "iopub.status.busy": "2025-03-04T02:04:45.784745Z",
     "iopub.status.idle": "2025-03-04T02:04:45.881223Z",
     "shell.execute_reply": "2025-03-04T02:04:45.880388Z"
    },
    "papermill": {
     "duration": 0.100174,
     "end_time": "2025-03-04T02:04:45.882095",
     "exception": false,
     "start_time": "2025-03-04T02:04:45.781921",
     "status": "completed"
    },
    "tags": []
   },
   "outputs": [],
   "source": [
    "processed_data_val = dataset_val.map(preprocess, remove_columns=dataset_val.column_names)"
   ]
  },
  {
   "cell_type": "code",
   "execution_count": 7,
   "id": "9d72d9b2",
   "metadata": {
    "execution": {
     "iopub.execute_input": "2025-03-04T02:04:45.888875Z",
     "iopub.status.busy": "2025-03-04T02:04:45.888575Z",
     "iopub.status.idle": "2025-03-04T02:04:45.892939Z",
     "shell.execute_reply": "2025-03-04T02:04:45.892540Z"
    },
    "papermill": {
     "duration": 0.008119,
     "end_time": "2025-03-04T02:04:45.893785",
     "exception": false,
     "start_time": "2025-03-04T02:04:45.885666",
     "status": "completed"
    },
    "tags": []
   },
   "outputs": [],
   "source": [
    "processed_data_val = processed_data_val.filter(lambda x: x['query'] is not None and x['positive'] is not None)"
   ]
  },
  {
   "cell_type": "code",
   "execution_count": 8,
   "id": "be93ac87",
   "metadata": {
    "execution": {
     "iopub.execute_input": "2025-03-04T02:04:45.899373Z",
     "iopub.status.busy": "2025-03-04T02:04:45.899072Z",
     "iopub.status.idle": "2025-03-04T02:04:46.533734Z",
     "shell.execute_reply": "2025-03-04T02:04:46.533225Z"
    },
    "papermill": {
     "duration": 0.63837,
     "end_time": "2025-03-04T02:04:46.534709",
     "exception": false,
     "start_time": "2025-03-04T02:04:45.896339",
     "status": "completed"
    },
    "tags": []
   },
   "outputs": [],
   "source": [
    "contrastive_pairs_val = []\n",
    "for item in processed_data_val:\n",
    "    query = item[\"query\"]\n",
    "    positive = item[\"positive\"]\n",
    "    negatives = item[\"negatives\"]\n",
    "    contrastive_pairs_val.append({\n",
    "        \"anchor\": query,\n",
    "        \"positive\": positive,\n",
    "        \"negatives\": negatives\n",
    "    })"
   ]
  },
  {
   "cell_type": "code",
   "execution_count": 9,
   "id": "1ff7d9db",
   "metadata": {
    "execution": {
     "iopub.execute_input": "2025-03-04T02:04:46.541792Z",
     "iopub.status.busy": "2025-03-04T02:04:46.540929Z",
     "iopub.status.idle": "2025-03-04T02:04:46.545056Z",
     "shell.execute_reply": "2025-03-04T02:04:46.544686Z"
    },
    "papermill": {
     "duration": 0.00795,
     "end_time": "2025-03-04T02:04:46.545763",
     "exception": false,
     "start_time": "2025-03-04T02:04:46.537813",
     "status": "completed"
    },
    "tags": []
   },
   "outputs": [
    {
     "data": {
      "text/plain": [
       "9084"
      ]
     },
     "execution_count": 9,
     "metadata": {},
     "output_type": "execute_result"
    }
   ],
   "source": [
    "len(contrastive_pairs_val)"
   ]
  },
  {
   "cell_type": "code",
   "execution_count": 10,
   "id": "2e092b5b",
   "metadata": {
    "execution": {
     "iopub.execute_input": "2025-03-04T02:04:46.551440Z",
     "iopub.status.busy": "2025-03-04T02:04:46.551092Z",
     "iopub.status.idle": "2025-03-04T02:04:49.653082Z",
     "shell.execute_reply": "2025-03-04T02:04:49.652475Z"
    },
    "papermill": {
     "duration": 3.105937,
     "end_time": "2025-03-04T02:04:49.654201",
     "exception": false,
     "start_time": "2025-03-04T02:04:46.548264",
     "status": "completed"
    },
    "tags": []
   },
   "outputs": [],
   "source": [
    "from torch.utils.data import DataLoader"
   ]
  },
  {
   "cell_type": "code",
   "execution_count": 11,
   "id": "379e9e89",
   "metadata": {
    "execution": {
     "iopub.execute_input": "2025-03-04T02:04:49.663059Z",
     "iopub.status.busy": "2025-03-04T02:04:49.662883Z",
     "iopub.status.idle": "2025-03-04T02:04:49.668556Z",
     "shell.execute_reply": "2025-03-04T02:04:49.667815Z"
    },
    "papermill": {
     "duration": 0.010256,
     "end_time": "2025-03-04T02:04:49.669534",
     "exception": false,
     "start_time": "2025-03-04T02:04:49.659278",
     "status": "completed"
    },
    "tags": []
   },
   "outputs": [
    {
     "data": {
      "text/plain": [
       "{'anchor': 'what is a furuncl# btil',\n",
       " 'positive': 'A boil, also called a furuncle, is a deep folliculitis, infection of the hair follicle. It is most commonly caused by infection by the bacterium Staphylococcus aureus, resulting in a painful swollen area on the skin caused by an accumulation of pus and dead tissue. Signs and symptoms [edit]. Boils are bumpy, red, pus-filled lumps around a hair follicle that are tender, warm, and very painful. They range from pea-sized to golf ball-sized. A yellow or white point at the center of the lump can be seen when the boil is ready to drain or discharge pus.',\n",
       " 'negatives': ['Knowledge center. A boil, also known as a furuncle is a skin abscess, a painful bump that forms under the skin-it is full of puss. A carbuncle is collection of boils that develop under the skin. When bacteria infect hair follicles they can swell up and turn into boils. ',\n",
       "  'When the hair follicle becomes infected, the skin around it also becomes inflamed. The furuncle looks like a red, raised bump on your skin, but can later rupture and weep fluid. Furuncles are most commonly found on the face and neck. You might also develop a boil on your thigh or buttocks. Symptoms of a Furuncle. A furuncle may begin as a benign-looking bump on your skin, similar to a pimple. As the infection worsens, however, the boil can become painful and hard. Bacteria and dead skin cells may then build up underneath the skin, forming pu',\n",
       "  'A boil is a skin infection that starts in a hair follicle or oil gland. Also referred to as a skin abscess, it is a localized infection deep in the skin. A boil generally starts as a reddened, tender area. Over time, the area becomes firm and hard. ',\n",
       "  'A boil, sometimes also referred to as a furuncle, is an infection involving a hair follicle on the skin. Boils are typically caused by Staphylococcus aureus bacteria, although they may be caused by other bacteria or fungi present on the skin surface. ',\n",
       "  'A boil, also known as a skin abscess or furuncle, is a painful, pus-filled lump that develops on the surface of the skin. Boils can be as small as a pea or as large as a golf ball and can develop on any part of the body. They are usually caused by the infection of a hair follicle or oil gland in the skin. ']}"
      ]
     },
     "execution_count": 11,
     "metadata": {},
     "output_type": "execute_result"
    }
   ],
   "source": [
    "contrastive_pairs_val[2]"
   ]
  },
  {
   "cell_type": "code",
   "execution_count": 12,
   "id": "1afe8a25",
   "metadata": {
    "execution": {
     "iopub.execute_input": "2025-03-04T02:04:49.675929Z",
     "iopub.status.busy": "2025-03-04T02:04:49.675662Z",
     "iopub.status.idle": "2025-03-04T02:04:49.685486Z",
     "shell.execute_reply": "2025-03-04T02:04:49.685081Z"
    },
    "papermill": {
     "duration": 0.01394,
     "end_time": "2025-03-04T02:04:49.686466",
     "exception": false,
     "start_time": "2025-03-04T02:04:49.672526",
     "status": "completed"
    },
    "tags": []
   },
   "outputs": [],
   "source": [
    "class ContrastiveDataset:\n",
    "    def __init__(self, pairs):\n",
    "        self.pairs = pairs\n",
    "\n",
    "    def __len__(self):\n",
    "        return len(self.pairs)\n",
    "\n",
    "    def __getitem__(self, idx):\n",
    "        item = self.pairs[idx]\n",
    "        return item[\"anchor\"], item[\"positive\"], item[\"negatives\"]"
   ]
  },
  {
   "cell_type": "code",
   "execution_count": 13,
   "id": "9b30f96c",
   "metadata": {
    "execution": {
     "iopub.execute_input": "2025-03-04T02:04:49.693888Z",
     "iopub.status.busy": "2025-03-04T02:04:49.693067Z",
     "iopub.status.idle": "2025-03-04T02:04:49.702815Z",
     "shell.execute_reply": "2025-03-04T02:04:49.702462Z"
    },
    "papermill": {
     "duration": 0.014922,
     "end_time": "2025-03-04T02:04:49.704579",
     "exception": false,
     "start_time": "2025-03-04T02:04:49.689657",
     "status": "completed"
    },
    "tags": []
   },
   "outputs": [],
   "source": [
    "contrastive_dataset_val = ContrastiveDataset(contrastive_pairs_val)"
   ]
  },
  {
   "cell_type": "code",
   "execution_count": 14,
   "id": "93b476ec",
   "metadata": {
    "execution": {
     "iopub.execute_input": "2025-03-04T02:04:49.711368Z",
     "iopub.status.busy": "2025-03-04T02:04:49.711214Z",
     "iopub.status.idle": "2025-03-04T02:04:49.721152Z",
     "shell.execute_reply": "2025-03-04T02:04:49.720396Z"
    },
    "papermill": {
     "duration": 0.014228,
     "end_time": "2025-03-04T02:04:49.721848",
     "exception": false,
     "start_time": "2025-03-04T02:04:49.707620",
     "status": "completed"
    },
    "tags": []
   },
   "outputs": [],
   "source": [
    "data_loader_val = DataLoader(contrastive_dataset_val, batch_size=32, shuffle=True)"
   ]
  },
  {
   "cell_type": "code",
   "execution_count": 15,
   "id": "e87cc129",
   "metadata": {
    "execution": {
     "iopub.execute_input": "2025-03-04T02:04:49.728375Z",
     "iopub.status.busy": "2025-03-04T02:04:49.727837Z",
     "iopub.status.idle": "2025-03-04T02:04:49.736724Z",
     "shell.execute_reply": "2025-03-04T02:04:49.736387Z"
    },
    "papermill": {
     "duration": 0.012859,
     "end_time": "2025-03-04T02:04:49.737508",
     "exception": false,
     "start_time": "2025-03-04T02:04:49.724649",
     "status": "completed"
    },
    "tags": []
   },
   "outputs": [
    {
     "data": {
      "text/plain": [
       "284"
      ]
     },
     "execution_count": 15,
     "metadata": {},
     "output_type": "execute_result"
    }
   ],
   "source": [
    "len(data_loader_val)"
   ]
  },
  {
   "cell_type": "code",
   "execution_count": 16,
   "id": "57281f26",
   "metadata": {
    "execution": {
     "iopub.execute_input": "2025-03-04T02:04:49.744127Z",
     "iopub.status.busy": "2025-03-04T02:04:49.743838Z",
     "iopub.status.idle": "2025-03-04T02:04:52.807556Z",
     "shell.execute_reply": "2025-03-04T02:04:52.807042Z"
    },
    "papermill": {
     "duration": 3.067905,
     "end_time": "2025-03-04T02:04:52.808514",
     "exception": false,
     "start_time": "2025-03-04T02:04:49.740609",
     "status": "completed"
    },
    "tags": []
   },
   "outputs": [],
   "source": [
    "from transformers import AutoTokenizer, AutoModel\n",
    "tokenizer = AutoTokenizer.from_pretrained(\"bert-base-uncased\")"
   ]
  },
  {
   "cell_type": "code",
   "execution_count": 17,
   "id": "1f88b477",
   "metadata": {
    "execution": {
     "iopub.execute_input": "2025-03-04T02:04:52.817809Z",
     "iopub.status.busy": "2025-03-04T02:04:52.817529Z",
     "iopub.status.idle": "2025-03-04T02:04:54.382399Z",
     "shell.execute_reply": "2025-03-04T02:04:54.381691Z"
    },
    "papermill": {
     "duration": 1.569656,
     "end_time": "2025-03-04T02:04:54.383515",
     "exception": false,
     "start_time": "2025-03-04T02:04:52.813859",
     "status": "completed"
    },
    "tags": []
   },
   "outputs": [
    {
     "name": "stderr",
     "output_type": "stream",
     "text": [
      "/tmp/ipykernel_1871253/2192687965.py:3: FutureWarning: You are using `torch.load` with `weights_only=False` (the current default value), which uses the default pickle module implicitly. It is possible to construct malicious pickle data which will execute arbitrary code during unpickling (See https://github.com/pytorch/pytorch/blob/main/SECURITY.md#untrusted-models for more details). In a future release, the default value for `weights_only` will be flipped to `True`. This limits the functions that could be executed during unpickling. Arbitrary objects will no longer be allowed to be loaded via this mode unless they are explicitly allowlisted by the user via `torch.serialization.add_safe_globals`. We recommend you start setting `weights_only=True` for any use case where you don't have full control of the loaded file. Please open an issue on GitHub for any issues related to this experimental feature.\n",
      "  lora_model = torch.load(file_path)\n"
     ]
    }
   ],
   "source": [
    "import torch\n",
    "file_path=\"/dss/dsshome1/07/ra65bex2/srawat/contrastive_learning/v1.1/app_average/average_checkpoint_epoch_3.pth\"\n",
    "lora_model = torch.load(file_path)"
   ]
  },
  {
   "cell_type": "code",
   "execution_count": 18,
   "id": "029584c0",
   "metadata": {
    "execution": {
     "iopub.execute_input": "2025-03-04T02:04:54.393247Z",
     "iopub.status.busy": "2025-03-04T02:04:54.392852Z",
     "iopub.status.idle": "2025-03-04T02:04:54.399164Z",
     "shell.execute_reply": "2025-03-04T02:04:54.398842Z"
    },
    "papermill": {
     "duration": 0.010891,
     "end_time": "2025-03-04T02:04:54.399837",
     "exception": false,
     "start_time": "2025-03-04T02:04:54.388946",
     "status": "completed"
    },
    "tags": []
   },
   "outputs": [],
   "source": [
    "device = torch.device('cuda' if torch.cuda.is_available() else 'cpu')\n",
    "lora_model = lora_model.to(device)"
   ]
  },
  {
   "cell_type": "code",
   "execution_count": 19,
   "id": "7befc8ae",
   "metadata": {
    "execution": {
     "iopub.execute_input": "2025-03-04T02:04:54.406409Z",
     "iopub.status.busy": "2025-03-04T02:04:54.406240Z",
     "iopub.status.idle": "2025-03-04T02:04:54.414900Z",
     "shell.execute_reply": "2025-03-04T02:04:54.414141Z"
    },
    "papermill": {
     "duration": 0.01272,
     "end_time": "2025-03-04T02:04:54.415543",
     "exception": false,
     "start_time": "2025-03-04T02:04:54.402823",
     "status": "completed"
    },
    "tags": []
   },
   "outputs": [],
   "source": [
    "def cosine_distance(x, y):\n",
    "    return 1 - torch.nn.functional.cosine_similarity(x, y, dim=-1)"
   ]
  },
  {
   "cell_type": "code",
   "execution_count": 20,
   "id": "cec863da",
   "metadata": {
    "execution": {
     "iopub.execute_input": "2025-03-04T02:04:54.422416Z",
     "iopub.status.busy": "2025-03-04T02:04:54.422267Z",
     "iopub.status.idle": "2025-03-04T02:04:54.430573Z",
     "shell.execute_reply": "2025-03-04T02:04:54.430254Z"
    },
    "papermill": {
     "duration": 0.012415,
     "end_time": "2025-03-04T02:04:54.431223",
     "exception": false,
     "start_time": "2025-03-04T02:04:54.418808",
     "status": "completed"
    },
    "tags": []
   },
   "outputs": [],
   "source": [
    "def avg_embedding(inputs, model):\n",
    "    input=model(**inputs)\n",
    "    input_last_hidden_state=input.last_hidden_state\n",
    "    input_attention_mask = inputs['attention_mask']\n",
    "    input_masked_embeddings = input_last_hidden_state * input_attention_mask.unsqueeze(-1)\n",
    "    input_sum_embeddings = torch.sum(input_masked_embeddings, dim=1)\n",
    "    input_token_counts = torch.sum(input_attention_mask, dim=1).unsqueeze(-1)\n",
    "    input_avg_embeddings = input_sum_embeddings / input_token_counts\n",
    "    return(input_avg_embeddings)"
   ]
  },
  {
   "cell_type": "code",
   "execution_count": 21,
   "id": "ca07e620",
   "metadata": {
    "execution": {
     "iopub.execute_input": "2025-03-04T02:04:54.438783Z",
     "iopub.status.busy": "2025-03-04T02:04:54.438192Z",
     "iopub.status.idle": "2025-03-04T02:04:54.447706Z",
     "shell.execute_reply": "2025-03-04T02:04:54.447308Z"
    },
    "papermill": {
     "duration": 0.013961,
     "end_time": "2025-03-04T02:04:54.448429",
     "exception": false,
     "start_time": "2025-03-04T02:04:54.434468",
     "status": "completed"
    },
    "tags": []
   },
   "outputs": [],
   "source": [
    "def evaluate_mrr(model, data_loader_val, distance_fn):\n",
    "    model.eval()  \n",
    "\n",
    "    total_rr = 0.0\n",
    "    num_queries = 0\n",
    "\n",
    "    with torch.no_grad():\n",
    "        for batch in data_loader_val:\n",
    "            anchor_text = batch[0]\n",
    "            positive_text = batch[1]\n",
    "            negative_texts = batch[2]\n",
    "\n",
    "            anchor_input = tokenizer(anchor_text, return_tensors='pt', padding=True, truncation=True, max_length=512).to(device)\n",
    "            positive_input = tokenizer(positive_text, return_tensors='pt', padding=True, truncation=True, max_length=512).to(device)\n",
    "\n",
    "            anchor_embedding = avg_embedding(anchor_input, model)\n",
    "            positive_embedding = avg_embedding(positive_input, model)\n",
    "            negative_embedding = [avg_embedding(tokenizer(neg, return_tensors='pt', padding=True, truncation=True, max_length=512).to(device), model) for neg in negative_texts]\n",
    "\n",
    "            pos_dist = distance_fn(anchor_embedding, positive_embedding)\n",
    "            neg_dist = torch.stack([distance_fn(anchor_embedding, neg) for neg in negative_embedding], dim=-1)\n",
    "            all_similarities=torch.cat([-pos_dist.unsqueeze(1), -neg_dist], dim=1)\n",
    "            \n",
    "            sorted_similarities, sorted_indices = torch.sort(all_similarities, dim=1, descending=True)\n",
    "\n",
    "            # Find the rank of the first relevant (positive) document\n",
    "            positive_rank = (sorted_indices == 0).nonzero(as_tuple=True)[1] + 1  # +1 to make rank 1-based\n",
    "            total_rr += torch.sum(1.0 / positive_rank.float()).item()  # Reciprocal rank\n",
    "            num_queries += len(positive_rank)\n",
    "\n",
    "    mrr = total_rr / num_queries\n",
    "    return mrr"
   ]
  },
  {
   "cell_type": "code",
   "execution_count": 22,
   "id": "e964e59f",
   "metadata": {
    "execution": {
     "iopub.execute_input": "2025-03-04T02:04:54.455142Z",
     "iopub.status.busy": "2025-03-04T02:04:54.454925Z",
     "iopub.status.idle": "2025-03-04T02:06:46.944150Z",
     "shell.execute_reply": "2025-03-04T02:06:46.943492Z"
    },
    "papermill": {
     "duration": 112.497945,
     "end_time": "2025-03-04T02:06:46.949466",
     "exception": false,
     "start_time": "2025-03-04T02:04:54.451521",
     "status": "completed"
    },
    "tags": []
   },
   "outputs": [
    {
     "name": "stdout",
     "output_type": "stream",
     "text": [
      "0.5267264883930806\n"
     ]
    }
   ],
   "source": [
    "mrr_validation = evaluate_mrr(lora_model, data_loader_val, cosine_distance)\n",
    "print(mrr_validation)"
   ]
  }
 ],
 "metadata": {
  "kernelspec": {
   "display_name": "Python (myenv)",
   "language": "python",
   "name": "myenv"
  },
  "language_info": {
   "codemirror_mode": {
    "name": "ipython",
    "version": 3
   },
   "file_extension": ".py",
   "mimetype": "text/x-python",
   "name": "python",
   "nbconvert_exporter": "python",
   "pygments_lexer": "ipython3",
   "version": "3.12.7"
  },
  "papermill": {
   "default_parameters": {},
   "duration": 133.586642,
   "end_time": "2025-03-04T02:06:48.472313",
   "environment_variables": {},
   "exception": null,
   "input_path": "3average.ipynb",
   "output_path": "3average_output.ipynb",
   "parameters": {},
   "start_time": "2025-03-04T02:04:34.885671",
   "version": "2.6.0"
  }
 },
 "nbformat": 4,
 "nbformat_minor": 5
}