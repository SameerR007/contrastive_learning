{
 "cells": [
  {
   "cell_type": "code",
   "execution_count": 1,
   "id": "7fd6167d",
   "metadata": {
    "execution": {
     "iopub.execute_input": "2025-03-04T01:47:03.034468Z",
     "iopub.status.busy": "2025-03-04T01:47:03.034322Z",
     "iopub.status.idle": "2025-03-04T01:47:04.076574Z",
     "shell.execute_reply": "2025-03-04T01:47:04.076089Z"
    },
    "papermill": {
     "duration": 1.047165,
     "end_time": "2025-03-04T01:47:04.077516",
     "exception": false,
     "start_time": "2025-03-04T01:47:03.030351",
     "status": "completed"
    },
    "tags": []
   },
   "outputs": [],
   "source": [
    "from datasets import load_dataset"
   ]
  },
  {
   "cell_type": "code",
   "execution_count": 2,
   "id": "af0901c0",
   "metadata": {
    "execution": {
     "iopub.execute_input": "2025-03-04T01:47:04.083462Z",
     "iopub.status.busy": "2025-03-04T01:47:04.083032Z",
     "iopub.status.idle": "2025-03-04T01:47:08.559352Z",
     "shell.execute_reply": "2025-03-04T01:47:08.558862Z"
    },
    "papermill": {
     "duration": 4.480144,
     "end_time": "2025-03-04T01:47:08.560520",
     "exception": false,
     "start_time": "2025-03-04T01:47:04.080376",
     "status": "completed"
    },
    "tags": []
   },
   "outputs": [],
   "source": [
    "dataset_val = load_dataset('ms_marco', 'v1.1', split='validation')"
   ]
  },
  {
   "cell_type": "code",
   "execution_count": 3,
   "id": "0768fa2f",
   "metadata": {
    "execution": {
     "iopub.execute_input": "2025-03-04T01:47:08.568297Z",
     "iopub.status.busy": "2025-03-04T01:47:08.568108Z",
     "iopub.status.idle": "2025-03-04T01:47:08.573314Z",
     "shell.execute_reply": "2025-03-04T01:47:08.572939Z"
    },
    "papermill": {
     "duration": 0.008453,
     "end_time": "2025-03-04T01:47:08.573907",
     "exception": false,
     "start_time": "2025-03-04T01:47:08.565454",
     "status": "completed"
    },
    "tags": []
   },
   "outputs": [
    {
     "data": {
      "text/plain": [
       "Dataset({\n",
       "    features: ['answers', 'passages', 'query', 'query_id', 'query_type', 'wellFormedAnswers'],\n",
       "    num_rows: 10047\n",
       "})"
      ]
     },
     "execution_count": 3,
     "metadata": {},
     "output_type": "execute_result"
    }
   ],
   "source": [
    "dataset_val"
   ]
  },
  {
   "cell_type": "code",
   "execution_count": 4,
   "id": "be17fdaf",
   "metadata": {
    "execution": {
     "iopub.execute_input": "2025-03-04T01:47:08.581628Z",
     "iopub.status.busy": "2025-03-04T01:47:08.581307Z",
     "iopub.status.idle": "2025-03-04T01:47:09.447035Z",
     "shell.execute_reply": "2025-03-04T01:47:09.446503Z"
    },
    "papermill": {
     "duration": 0.871231,
     "end_time": "2025-03-04T01:47:09.447772",
     "exception": false,
     "start_time": "2025-03-04T01:47:08.576541",
     "status": "completed"
    },
    "tags": []
   },
   "outputs": [
    {
     "name": "stderr",
     "output_type": "stream",
     "text": [
      "[nltk_data] Downloading package stopwords to\n",
      "[nltk_data]     /dss/dsshome1/07/ra65bex2/nltk_data...\n",
      "[nltk_data]   Package stopwords is already up-to-date!\n",
      "[nltk_data] Downloading package wordnet to\n",
      "[nltk_data]     /dss/dsshome1/07/ra65bex2/nltk_data...\n",
      "[nltk_data]   Package wordnet is already up-to-date!\n"
     ]
    }
   ],
   "source": [
    "import random\n",
    "import re\n",
    "import nltk\n",
    "from nltk.corpus import stopwords, wordnet\n",
    "nltk.download('stopwords')\n",
    "nltk.download('wordnet')\n",
    "stop_words = set(stopwords.words('english'))\n",
    "\n",
    "def clean_text(text):\n",
    "    return re.sub(r'[^\\w\\s.!?]', '', text)\n",
    "\n",
    "def select_words(text, num_words):\n",
    "    words = [w for w in text.split() if w.lower() not in stop_words]\n",
    "    return random.sample(words, min(num_words, len(words)))\n",
    "\n",
    "def introduce_typo(word):\n",
    "    if len(word) > 1:\n",
    "        idx = random.randint(0, len(word) - 1)\n",
    "        return word[:idx] + random.choice('abcdefghijklmnopqrstuvwxyz') + word[idx+1:]\n",
    "    return word\n",
    "\n",
    "def introduce_noise(word):\n",
    "    noise_chars = ['@', '#', '$', '%', '&', '*']\n",
    "    if len(word) > 1:\n",
    "        idx = random.randint(0, len(word) - 1)\n",
    "        return word[:idx] + random.choice(noise_chars) + word[idx+1:]\n",
    "    return word\n",
    "\n",
    "def replace_with_synonym(word):\n",
    "    synonyms = [syn.lemmas()[0].name() for syn in wordnet.synsets(word) if syn.lemmas()]\n",
    "    return random.choice(synonyms) if synonyms else word\n",
    "\n",
    "def corrupt_word(word, method):\n",
    "    if method == 'typo':\n",
    "        return introduce_typo(word)\n",
    "    elif method == 'noise':\n",
    "        return introduce_noise(word)\n",
    "    elif method == 'synonym':\n",
    "        return replace_with_synonym(word)\n",
    "    return word\n",
    "\n",
    "def corrupt_text(text):\n",
    "    corrupted_words = []  \n",
    "    words_to_corrupt=select_words(clean_text(text), num_words=2)\n",
    "    for word in clean_text(text).split():\n",
    "        if word in words_to_corrupt:\n",
    "            corruption_method = random.choice(['typo', 'noise', 'synonym'])\n",
    "            corrupted_words.append(corrupt_word(word, corruption_method))\n",
    "        else:\n",
    "            corrupted_words.append(word)\n",
    "    return ' '.join(corrupted_words)"
   ]
  },
  {
   "cell_type": "code",
   "execution_count": 5,
   "id": "c474859a",
   "metadata": {
    "execution": {
     "iopub.execute_input": "2025-03-04T01:47:09.454935Z",
     "iopub.status.busy": "2025-03-04T01:47:09.454655Z",
     "iopub.status.idle": "2025-03-04T01:47:09.458716Z",
     "shell.execute_reply": "2025-03-04T01:47:09.458366Z"
    },
    "papermill": {
     "duration": 0.008065,
     "end_time": "2025-03-04T01:47:09.459438",
     "exception": false,
     "start_time": "2025-03-04T01:47:09.451373",
     "status": "completed"
    },
    "tags": []
   },
   "outputs": [],
   "source": [
    "def preprocess(example):\n",
    "    positive_passages=[]\n",
    "    for p in enumerate(example['passages'][\"is_selected\"]):\n",
    "        if p[1]==1:\n",
    "            positive_passages.append(example[\"passages\"][\"passage_text\"][p[0]])\n",
    "    negative_passages = []\n",
    "    for p in enumerate(example['passages'][\"is_selected\"]):\n",
    "        if p[1]==0:\n",
    "            negative_passages.append(example[\"passages\"][\"passage_text\"][p[0]])\n",
    "    if (len(positive_passages)>0 and len(negative_passages)>=5):\n",
    "        positive = positive_passages[0]\n",
    "        negatives = negative_passages[:5]\n",
    "        return {\n",
    "            \"query\": corrupt_text(example[\"query\"]),\n",
    "            \"positive\": positive,\n",
    "            \"negatives\": negatives\n",
    "        }\n",
    "    else:\n",
    "        return {\"query\": None, \"positive\": None, \"negatives\": None}"
   ]
  },
  {
   "cell_type": "code",
   "execution_count": 6,
   "id": "cddf1c6a",
   "metadata": {
    "execution": {
     "iopub.execute_input": "2025-03-04T01:47:09.465754Z",
     "iopub.status.busy": "2025-03-04T01:47:09.465512Z",
     "iopub.status.idle": "2025-03-04T01:47:14.030133Z",
     "shell.execute_reply": "2025-03-04T01:47:14.029637Z"
    },
    "papermill": {
     "duration": 4.568844,
     "end_time": "2025-03-04T01:47:14.030981",
     "exception": false,
     "start_time": "2025-03-04T01:47:09.462137",
     "status": "completed"
    },
    "tags": []
   },
   "outputs": [
    {
     "data": {
      "application/vnd.jupyter.widget-view+json": {
       "model_id": "ab19727be9204cfba7d259811c1330bb",
       "version_major": 2,
       "version_minor": 0
      },
      "text/plain": [
       "Map:   0%|          | 0/10047 [00:00<?, ? examples/s]"
      ]
     },
     "metadata": {},
     "output_type": "display_data"
    }
   ],
   "source": [
    "processed_data_val = dataset_val.map(preprocess, remove_columns=dataset_val.column_names)"
   ]
  },
  {
   "cell_type": "code",
   "execution_count": 7,
   "id": "6b3c683b",
   "metadata": {
    "execution": {
     "iopub.execute_input": "2025-03-04T01:47:14.042763Z",
     "iopub.status.busy": "2025-03-04T01:47:14.042372Z",
     "iopub.status.idle": "2025-03-04T01:47:14.213354Z",
     "shell.execute_reply": "2025-03-04T01:47:14.212881Z"
    },
    "papermill": {
     "duration": 0.175006,
     "end_time": "2025-03-04T01:47:14.214003",
     "exception": false,
     "start_time": "2025-03-04T01:47:14.038997",
     "status": "completed"
    },
    "tags": []
   },
   "outputs": [
    {
     "data": {
      "application/vnd.jupyter.widget-view+json": {
       "model_id": "f1067593fbca41d4bb09c2e935a61230",
       "version_major": 2,
       "version_minor": 0
      },
      "text/plain": [
       "Filter:   0%|          | 0/10047 [00:00<?, ? examples/s]"
      ]
     },
     "metadata": {},
     "output_type": "display_data"
    }
   ],
   "source": [
    "processed_data_val = processed_data_val.filter(lambda x: x['query'] is not None and x['positive'] is not None)"
   ]
  },
  {
   "cell_type": "code",
   "execution_count": 8,
   "id": "e0f001dd",
   "metadata": {
    "execution": {
     "iopub.execute_input": "2025-03-04T01:47:14.220613Z",
     "iopub.status.busy": "2025-03-04T01:47:14.219891Z",
     "iopub.status.idle": "2025-03-04T01:47:14.853267Z",
     "shell.execute_reply": "2025-03-04T01:47:14.852748Z"
    },
    "papermill": {
     "duration": 0.637253,
     "end_time": "2025-03-04T01:47:14.854066",
     "exception": false,
     "start_time": "2025-03-04T01:47:14.216813",
     "status": "completed"
    },
    "tags": []
   },
   "outputs": [],
   "source": [
    "contrastive_pairs_val = []\n",
    "for item in processed_data_val:\n",
    "    query = item[\"query\"]\n",
    "    positive = item[\"positive\"]\n",
    "    negatives = item[\"negatives\"]\n",
    "    contrastive_pairs_val.append({\n",
    "        \"anchor\": query,\n",
    "        \"positive\": positive,\n",
    "        \"negatives\": negatives\n",
    "    })"
   ]
  },
  {
   "cell_type": "code",
   "execution_count": 9,
   "id": "be19cce3",
   "metadata": {
    "execution": {
     "iopub.execute_input": "2025-03-04T01:47:14.860577Z",
     "iopub.status.busy": "2025-03-04T01:47:14.860236Z",
     "iopub.status.idle": "2025-03-04T01:47:14.863530Z",
     "shell.execute_reply": "2025-03-04T01:47:14.863156Z"
    },
    "papermill": {
     "duration": 0.006953,
     "end_time": "2025-03-04T01:47:14.864115",
     "exception": false,
     "start_time": "2025-03-04T01:47:14.857162",
     "status": "completed"
    },
    "tags": []
   },
   "outputs": [
    {
     "data": {
      "text/plain": [
       "9084"
      ]
     },
     "execution_count": 9,
     "metadata": {},
     "output_type": "execute_result"
    }
   ],
   "source": [
    "len(contrastive_pairs_val)"
   ]
  },
  {
   "cell_type": "code",
   "execution_count": 10,
   "id": "24ded426",
   "metadata": {
    "execution": {
     "iopub.execute_input": "2025-03-04T01:47:14.870038Z",
     "iopub.status.busy": "2025-03-04T01:47:14.869908Z",
     "iopub.status.idle": "2025-03-04T01:47:17.900981Z",
     "shell.execute_reply": "2025-03-04T01:47:17.900500Z"
    },
    "papermill": {
     "duration": 3.03502,
     "end_time": "2025-03-04T01:47:17.901937",
     "exception": false,
     "start_time": "2025-03-04T01:47:14.866917",
     "status": "completed"
    },
    "tags": []
   },
   "outputs": [],
   "source": [
    "from torch.utils.data import DataLoader"
   ]
  },
  {
   "cell_type": "code",
   "execution_count": 11,
   "id": "c2dc2ebf",
   "metadata": {
    "execution": {
     "iopub.execute_input": "2025-03-04T01:47:17.911818Z",
     "iopub.status.busy": "2025-03-04T01:47:17.911642Z",
     "iopub.status.idle": "2025-03-04T01:47:17.915514Z",
     "shell.execute_reply": "2025-03-04T01:47:17.915177Z"
    },
    "papermill": {
     "duration": 0.008879,
     "end_time": "2025-03-04T01:47:17.916265",
     "exception": false,
     "start_time": "2025-03-04T01:47:17.907386",
     "status": "completed"
    },
    "tags": []
   },
   "outputs": [
    {
     "data": {
      "text/plain": [
       "{'anchor': 'what is a boil boi#',\n",
       " 'positive': 'A boil, also called a furuncle, is a deep folliculitis, infection of the hair follicle. It is most commonly caused by infection by the bacterium Staphylococcus aureus, resulting in a painful swollen area on the skin caused by an accumulation of pus and dead tissue. Signs and symptoms [edit]. Boils are bumpy, red, pus-filled lumps around a hair follicle that are tender, warm, and very painful. They range from pea-sized to golf ball-sized. A yellow or white point at the center of the lump can be seen when the boil is ready to drain or discharge pus.',\n",
       " 'negatives': ['Knowledge center. A boil, also known as a furuncle is a skin abscess, a painful bump that forms under the skin-it is full of puss. A carbuncle is collection of boils that develop under the skin. When bacteria infect hair follicles they can swell up and turn into boils. ',\n",
       "  'When the hair follicle becomes infected, the skin around it also becomes inflamed. The furuncle looks like a red, raised bump on your skin, but can later rupture and weep fluid. Furuncles are most commonly found on the face and neck. You might also develop a boil on your thigh or buttocks. Symptoms of a Furuncle. A furuncle may begin as a benign-looking bump on your skin, similar to a pimple. As the infection worsens, however, the boil can become painful and hard. Bacteria and dead skin cells may then build up underneath the skin, forming pu',\n",
       "  'A boil is a skin infection that starts in a hair follicle or oil gland. Also referred to as a skin abscess, it is a localized infection deep in the skin. A boil generally starts as a reddened, tender area. Over time, the area becomes firm and hard. ',\n",
       "  'A boil, sometimes also referred to as a furuncle, is an infection involving a hair follicle on the skin. Boils are typically caused by Staphylococcus aureus bacteria, although they may be caused by other bacteria or fungi present on the skin surface. ',\n",
       "  'A boil, also known as a skin abscess or furuncle, is a painful, pus-filled lump that develops on the surface of the skin. Boils can be as small as a pea or as large as a golf ball and can develop on any part of the body. They are usually caused by the infection of a hair follicle or oil gland in the skin. ']}"
      ]
     },
     "execution_count": 11,
     "metadata": {},
     "output_type": "execute_result"
    }
   ],
   "source": [
    "contrastive_pairs_val[2]"
   ]
  },
  {
   "cell_type": "code",
   "execution_count": 12,
   "id": "409150ae",
   "metadata": {
    "execution": {
     "iopub.execute_input": "2025-03-04T01:47:17.923547Z",
     "iopub.status.busy": "2025-03-04T01:47:17.923277Z",
     "iopub.status.idle": "2025-03-04T01:47:17.933892Z",
     "shell.execute_reply": "2025-03-04T01:47:17.933215Z"
    },
    "papermill": {
     "duration": 0.015108,
     "end_time": "2025-03-04T01:47:17.934703",
     "exception": false,
     "start_time": "2025-03-04T01:47:17.919595",
     "status": "completed"
    },
    "tags": []
   },
   "outputs": [],
   "source": [
    "class ContrastiveDataset:\n",
    "    def __init__(self, pairs):\n",
    "        self.pairs = pairs\n",
    "\n",
    "    def __len__(self):\n",
    "        return len(self.pairs)\n",
    "\n",
    "    def __getitem__(self, idx):\n",
    "        item = self.pairs[idx]\n",
    "        return item[\"anchor\"], item[\"positive\"], item[\"negatives\"]"
   ]
  },
  {
   "cell_type": "code",
   "execution_count": 13,
   "id": "57cb1b02",
   "metadata": {
    "execution": {
     "iopub.execute_input": "2025-03-04T01:47:17.941538Z",
     "iopub.status.busy": "2025-03-04T01:47:17.941138Z",
     "iopub.status.idle": "2025-03-04T01:47:17.948647Z",
     "shell.execute_reply": "2025-03-04T01:47:17.948177Z"
    },
    "papermill": {
     "duration": 0.011686,
     "end_time": "2025-03-04T01:47:17.949371",
     "exception": false,
     "start_time": "2025-03-04T01:47:17.937685",
     "status": "completed"
    },
    "tags": []
   },
   "outputs": [],
   "source": [
    "contrastive_dataset_val = ContrastiveDataset(contrastive_pairs_val)"
   ]
  },
  {
   "cell_type": "code",
   "execution_count": 14,
   "id": "16e879ab",
   "metadata": {
    "execution": {
     "iopub.execute_input": "2025-03-04T01:47:17.956379Z",
     "iopub.status.busy": "2025-03-04T01:47:17.955760Z",
     "iopub.status.idle": "2025-03-04T01:47:17.965077Z",
     "shell.execute_reply": "2025-03-04T01:47:17.964609Z"
    },
    "papermill": {
     "duration": 0.013377,
     "end_time": "2025-03-04T01:47:17.965925",
     "exception": false,
     "start_time": "2025-03-04T01:47:17.952548",
     "status": "completed"
    },
    "tags": []
   },
   "outputs": [],
   "source": [
    "data_loader_val = DataLoader(contrastive_dataset_val, batch_size=32, shuffle=True)"
   ]
  },
  {
   "cell_type": "code",
   "execution_count": 15,
   "id": "30868b1e",
   "metadata": {
    "execution": {
     "iopub.execute_input": "2025-03-04T01:47:17.973048Z",
     "iopub.status.busy": "2025-03-04T01:47:17.972727Z",
     "iopub.status.idle": "2025-03-04T01:47:17.981975Z",
     "shell.execute_reply": "2025-03-04T01:47:17.981597Z"
    },
    "papermill": {
     "duration": 0.01357,
     "end_time": "2025-03-04T01:47:17.982633",
     "exception": false,
     "start_time": "2025-03-04T01:47:17.969063",
     "status": "completed"
    },
    "tags": []
   },
   "outputs": [
    {
     "data": {
      "text/plain": [
       "284"
      ]
     },
     "execution_count": 15,
     "metadata": {},
     "output_type": "execute_result"
    }
   ],
   "source": [
    "len(data_loader_val)"
   ]
  },
  {
   "cell_type": "code",
   "execution_count": 16,
   "id": "c09ab0f1",
   "metadata": {
    "execution": {
     "iopub.execute_input": "2025-03-04T01:47:17.989663Z",
     "iopub.status.busy": "2025-03-04T01:47:17.989246Z",
     "iopub.status.idle": "2025-03-04T01:47:19.620425Z",
     "shell.execute_reply": "2025-03-04T01:47:19.619632Z"
    },
    "papermill": {
     "duration": 1.635745,
     "end_time": "2025-03-04T01:47:19.621476",
     "exception": false,
     "start_time": "2025-03-04T01:47:17.985731",
     "status": "completed"
    },
    "tags": []
   },
   "outputs": [],
   "source": [
    "from transformers import AutoTokenizer, AutoModel\n",
    "tokenizer = AutoTokenizer.from_pretrained(\"bert-base-uncased\")"
   ]
  },
  {
   "cell_type": "code",
   "execution_count": 17,
   "id": "aafb45f0",
   "metadata": {
    "execution": {
     "iopub.execute_input": "2025-03-04T01:47:19.629161Z",
     "iopub.status.busy": "2025-03-04T01:47:19.628826Z",
     "iopub.status.idle": "2025-03-04T01:47:20.913215Z",
     "shell.execute_reply": "2025-03-04T01:47:20.912585Z"
    },
    "papermill": {
     "duration": 1.289187,
     "end_time": "2025-03-04T01:47:20.914275",
     "exception": false,
     "start_time": "2025-03-04T01:47:19.625088",
     "status": "completed"
    },
    "tags": []
   },
   "outputs": [
    {
     "name": "stderr",
     "output_type": "stream",
     "text": [
      "/tmp/ipykernel_1851932/3105893467.py:3: FutureWarning: You are using `torch.load` with `weights_only=False` (the current default value), which uses the default pickle module implicitly. It is possible to construct malicious pickle data which will execute arbitrary code during unpickling (See https://github.com/pytorch/pytorch/blob/main/SECURITY.md#untrusted-models for more details). In a future release, the default value for `weights_only` will be flipped to `True`. This limits the functions that could be executed during unpickling. Arbitrary objects will no longer be allowed to be loaded via this mode unless they are explicitly allowlisted by the user via `torch.serialization.add_safe_globals`. We recommend you start setting `weights_only=True` for any use case where you don't have full control of the loaded file. Please open an issue on GitHub for any issues related to this experimental feature.\n",
      "  lora_model = torch.load(file_path)\n"
     ]
    }
   ],
   "source": [
    "import torch\n",
    "file_path=\"/dss/dsshome1/07/ra65bex2/srawat/contrastive_learning/v1.1/app_baseline/checkpoint_epoch_3.pth\"\n",
    "lora_model = torch.load(file_path)"
   ]
  },
  {
   "cell_type": "code",
   "execution_count": 18,
   "id": "90843ba6",
   "metadata": {
    "execution": {
     "iopub.execute_input": "2025-03-04T01:47:20.922315Z",
     "iopub.status.busy": "2025-03-04T01:47:20.921762Z",
     "iopub.status.idle": "2025-03-04T01:47:20.928820Z",
     "shell.execute_reply": "2025-03-04T01:47:20.928425Z"
    },
    "papermill": {
     "duration": 0.011688,
     "end_time": "2025-03-04T01:47:20.929549",
     "exception": false,
     "start_time": "2025-03-04T01:47:20.917861",
     "status": "completed"
    },
    "tags": []
   },
   "outputs": [],
   "source": [
    "device = torch.device('cuda' if torch.cuda.is_available() else 'cpu')\n",
    "lora_model = lora_model.to(device)"
   ]
  },
  {
   "cell_type": "code",
   "execution_count": 19,
   "id": "3be0fe86",
   "metadata": {
    "execution": {
     "iopub.execute_input": "2025-03-04T01:47:20.936944Z",
     "iopub.status.busy": "2025-03-04T01:47:20.936594Z",
     "iopub.status.idle": "2025-03-04T01:47:20.944856Z",
     "shell.execute_reply": "2025-03-04T01:47:20.944464Z"
    },
    "papermill": {
     "duration": 0.012534,
     "end_time": "2025-03-04T01:47:20.945514",
     "exception": false,
     "start_time": "2025-03-04T01:47:20.932980",
     "status": "completed"
    },
    "tags": []
   },
   "outputs": [],
   "source": [
    "def cosine_distance(x, y):\n",
    "    return 1 - torch.nn.functional.cosine_similarity(x, y, dim=-1)"
   ]
  },
  {
   "cell_type": "code",
   "execution_count": 20,
   "id": "4361efb8",
   "metadata": {
    "execution": {
     "iopub.execute_input": "2025-03-04T01:47:20.952462Z",
     "iopub.status.busy": "2025-03-04T01:47:20.952130Z",
     "iopub.status.idle": "2025-03-04T01:47:20.962944Z",
     "shell.execute_reply": "2025-03-04T01:47:20.962589Z"
    },
    "papermill": {
     "duration": 0.014868,
     "end_time": "2025-03-04T01:47:20.963624",
     "exception": false,
     "start_time": "2025-03-04T01:47:20.948756",
     "status": "completed"
    },
    "tags": []
   },
   "outputs": [],
   "source": [
    "def evaluate_mrr(model, data_loader_val, distance_fn):\n",
    "    model.eval()\n",
    "\n",
    "    total_rr = 0.0\n",
    "    num_queries = 0\n",
    "\n",
    "    with torch.no_grad():\n",
    "        for batch in data_loader_val:\n",
    "            anchor_text = batch[0]\n",
    "            positive_text = batch[1]\n",
    "            negative_texts = batch[2]\n",
    "\n",
    "            anchor_input = tokenizer(anchor_text, return_tensors='pt', padding=True, truncation=True, max_length=512).to(device)\n",
    "            positive_input = tokenizer(positive_text, return_tensors='pt', padding=True, truncation=True, max_length=512).to(device)\n",
    "\n",
    "            anchor_embedding = model(**anchor_input).last_hidden_state[:, 0, :]\n",
    "            positive_embedding = model(**positive_input).last_hidden_state[:, 0, :]\n",
    "            negative_embedding = [model(**tokenizer(neg, return_tensors='pt', padding=True, truncation=True, max_length=512).to(device)).last_hidden_state[:, 0, :] for neg in negative_texts]\n",
    "\n",
    "            pos_dist = distance_fn(anchor_embedding, positive_embedding)\n",
    "            neg_dist = torch.stack([distance_fn(anchor_embedding, neg) for neg in negative_embedding], dim=-1)\n",
    "            all_similarities=torch.cat([-pos_dist.unsqueeze(1), -neg_dist], dim=1)\n",
    "\n",
    "            sorted_similarities, sorted_indices = torch.sort(all_similarities, dim=1, descending=True)\n",
    "\n",
    "            # Find the rank of the first relevant (positive) document\n",
    "            positive_rank = (sorted_indices == 0).nonzero(as_tuple=True)[1] + 1  # +1 to make rank 1-based\n",
    "            total_rr += torch.sum(1.0 / positive_rank.float()).item()  # Reciprocal rank\n",
    "            num_queries += len(positive_rank)\n",
    "\n",
    "    mrr = total_rr / num_queries\n",
    "    return mrr"
   ]
  },
  {
   "cell_type": "code",
   "execution_count": 21,
   "id": "9d725417",
   "metadata": {
    "execution": {
     "iopub.execute_input": "2025-03-04T01:47:20.970748Z",
     "iopub.status.busy": "2025-03-04T01:47:20.970146Z",
     "iopub.status.idle": "2025-03-04T01:49:13.796138Z",
     "shell.execute_reply": "2025-03-04T01:49:13.795478Z"
    },
    "papermill": {
     "duration": 112.834669,
     "end_time": "2025-03-04T01:49:13.801367",
     "exception": false,
     "start_time": "2025-03-04T01:47:20.966698",
     "status": "completed"
    },
    "tags": []
   },
   "outputs": [
    {
     "name": "stdout",
     "output_type": "stream",
     "text": [
      "0.5290235708800248\n"
     ]
    }
   ],
   "source": [
    "mrr_validation = evaluate_mrr(lora_model, data_loader_val, cosine_distance)\n",
    "print(mrr_validation)"
   ]
  },
  {
   "cell_type": "code",
   "execution_count": null,
   "id": "ad00efba",
   "metadata": {
    "papermill": {
     "duration": 0.003285,
     "end_time": "2025-03-04T01:49:13.807924",
     "exception": false,
     "start_time": "2025-03-04T01:49:13.804639",
     "status": "completed"
    },
    "tags": []
   },
   "outputs": [],
   "source": []
  }
 ],
 "metadata": {
  "kernelspec": {
   "display_name": "Python (myenv)",
   "language": "python",
   "name": "myenv"
  },
  "language_info": {
   "codemirror_mode": {
    "name": "ipython",
    "version": 3
   },
   "file_extension": ".py",
   "mimetype": "text/x-python",
   "name": "python",
   "nbconvert_exporter": "python",
   "pygments_lexer": "ipython3",
   "version": "3.12.7"
  },
  "papermill": {
   "default_parameters": {},
   "duration": 134.316403,
   "end_time": "2025-03-04T01:49:16.131625",
   "environment_variables": {},
   "exception": null,
   "input_path": "2baseline.ipynb",
   "output_path": "2baseline_output.ipynb",
   "parameters": {},
   "start_time": "2025-03-04T01:47:01.815222",
   "version": "2.6.0"
  },
  "widgets": {
   "application/vnd.jupyter.widget-state+json": {
    "state": {
     "0190f10f77f047c5a06cc365a89ea26d": {
      "model_module": "@jupyter-widgets/controls",
      "model_module_version": "2.0.0",
      "model_name": "HTMLModel",
      "state": {
       "_dom_classes": [],
       "_model_module": "@jupyter-widgets/controls",
       "_model_module_version": "2.0.0",
       "_model_name": "HTMLModel",
       "_view_count": null,
       "_view_module": "@jupyter-widgets/controls",
       "_view_module_version": "2.0.0",
       "_view_name": "HTMLView",
       "description": "",
       "description_allow_html": false,
       "layout": "IPY_MODEL_2e1358f921a346d09ab0c49f50fede24",
       "placeholder": "​",
       "style": "IPY_MODEL_e66ce5a3eba34583b217fa0ba037b676",
       "tabbable": null,
       "tooltip": null,
       "value": "Filter: 100%"
      }
     },
     "10b61447380d46399d79de0836ba28a4": {
      "model_module": "@jupyter-widgets/controls",
      "model_module_version": "2.0.0",
      "model_name": "FloatProgressModel",
      "state": {
       "_dom_classes": [],
       "_model_module": "@jupyter-widgets/controls",
       "_model_module_version": "2.0.0",
       "_model_name": "FloatProgressModel",
       "_view_count": null,
       "_view_module": "@jupyter-widgets/controls",
       "_view_module_version": "2.0.0",
       "_view_name": "ProgressView",
       "bar_style": "success",
       "description": "",
       "description_allow_html": false,
       "layout": "IPY_MODEL_6dc4eb9319c846e6b6c6f58873547559",
       "max": 10047.0,
       "min": 0.0,
       "orientation": "horizontal",
       "style": "IPY_MODEL_7833910f7ce0475a814eb37f06dcebb9",
       "tabbable": null,
       "tooltip": null,
       "value": 10047.0
      }
     },
     "1b3b92dff8e94e8a9afcce8115a99e0f": {
      "model_module": "@jupyter-widgets/base",
      "model_module_version": "2.0.0",
      "model_name": "LayoutModel",
      "state": {
       "_model_module": "@jupyter-widgets/base",
       "_model_module_version": "2.0.0",
       "_model_name": "LayoutModel",
       "_view_count": null,
       "_view_module": "@jupyter-widgets/base",
       "_view_module_version": "2.0.0",
       "_view_name": "LayoutView",
       "align_content": null,
       "align_items": null,
       "align_self": null,
       "border_bottom": null,
       "border_left": null,
       "border_right": null,
       "border_top": null,
       "bottom": null,
       "display": null,
       "flex": null,
       "flex_flow": null,
       "grid_area": null,
       "grid_auto_columns": null,
       "grid_auto_flow": null,
       "grid_auto_rows": null,
       "grid_column": null,
       "grid_gap": null,
       "grid_row": null,
       "grid_template_areas": null,
       "grid_template_columns": null,
       "grid_template_rows": null,
       "height": null,
       "justify_content": null,
       "justify_items": null,
       "left": null,
       "margin": null,
       "max_height": null,
       "max_width": null,
       "min_height": null,
       "min_width": null,
       "object_fit": null,
       "object_position": null,
       "order": null,
       "overflow": null,
       "padding": null,
       "right": null,
       "top": null,
       "visibility": null,
       "width": null
      }
     },
     "2457b6cce58e4fe5bf401e872700756d": {
      "model_module": "@jupyter-widgets/base",
      "model_module_version": "2.0.0",
      "model_name": "LayoutModel",
      "state": {
       "_model_module": "@jupyter-widgets/base",
       "_model_module_version": "2.0.0",
       "_model_name": "LayoutModel",
       "_view_count": null,
       "_view_module": "@jupyter-widgets/base",
       "_view_module_version": "2.0.0",
       "_view_name": "LayoutView",
       "align_content": null,
       "align_items": null,
       "align_self": null,
       "border_bottom": null,
       "border_left": null,
       "border_right": null,
       "border_top": null,
       "bottom": null,
       "display": null,
       "flex": null,
       "flex_flow": null,
       "grid_area": null,
       "grid_auto_columns": null,
       "grid_auto_flow": null,
       "grid_auto_rows": null,
       "grid_column": null,
       "grid_gap": null,
       "grid_row": null,
       "grid_template_areas": null,
       "grid_template_columns": null,
       "grid_template_rows": null,
       "height": null,
       "justify_content": null,
       "justify_items": null,
       "left": null,
       "margin": null,
       "max_height": null,
       "max_width": null,
       "min_height": null,
       "min_width": null,
       "object_fit": null,
       "object_position": null,
       "order": null,
       "overflow": null,
       "padding": null,
       "right": null,
       "top": null,
       "visibility": null,
       "width": null
      }
     },
     "259fc704ee724e8cb2b730e8d3eda57b": {
      "model_module": "@jupyter-widgets/controls",
      "model_module_version": "2.0.0",
      "model_name": "HTMLModel",
      "state": {
       "_dom_classes": [],
       "_model_module": "@jupyter-widgets/controls",
       "_model_module_version": "2.0.0",
       "_model_name": "HTMLModel",
       "_view_count": null,
       "_view_module": "@jupyter-widgets/controls",
       "_view_module_version": "2.0.0",
       "_view_name": "HTMLView",
       "description": "",
       "description_allow_html": false,
       "layout": "IPY_MODEL_82daaac9ff264108be20de5bf5da1ee8",
       "placeholder": "​",
       "style": "IPY_MODEL_e815598621cd45b09f798d4a9618de6a",
       "tabbable": null,
       "tooltip": null,
       "value": " 10047/10047 [00:00&lt;00:00, 60429.91 examples/s]"
      }
     },
     "2e1358f921a346d09ab0c49f50fede24": {
      "model_module": "@jupyter-widgets/base",
      "model_module_version": "2.0.0",
      "model_name": "LayoutModel",
      "state": {
       "_model_module": "@jupyter-widgets/base",
       "_model_module_version": "2.0.0",
       "_model_name": "LayoutModel",
       "_view_count": null,
       "_view_module": "@jupyter-widgets/base",
       "_view_module_version": "2.0.0",
       "_view_name": "LayoutView",
       "align_content": null,
       "align_items": null,
       "align_self": null,
       "border_bottom": null,
       "border_left": null,
       "border_right": null,
       "border_top": null,
       "bottom": null,
       "display": null,
       "flex": null,
       "flex_flow": null,
       "grid_area": null,
       "grid_auto_columns": null,
       "grid_auto_flow": null,
       "grid_auto_rows": null,
       "grid_column": null,
       "grid_gap": null,
       "grid_row": null,
       "grid_template_areas": null,
       "grid_template_columns": null,
       "grid_template_rows": null,
       "height": null,
       "justify_content": null,
       "justify_items": null,
       "left": null,
       "margin": null,
       "max_height": null,
       "max_width": null,
       "min_height": null,
       "min_width": null,
       "object_fit": null,
       "object_position": null,
       "order": null,
       "overflow": null,
       "padding": null,
       "right": null,
       "top": null,
       "visibility": null,
       "width": null
      }
     },
     "308b7fe4d53b43138670341165b5d4dc": {
      "model_module": "@jupyter-widgets/controls",
      "model_module_version": "2.0.0",
      "model_name": "HTMLStyleModel",
      "state": {
       "_model_module": "@jupyter-widgets/controls",
       "_model_module_version": "2.0.0",
       "_model_name": "HTMLStyleModel",
       "_view_count": null,
       "_view_module": "@jupyter-widgets/base",
       "_view_module_version": "2.0.0",
       "_view_name": "StyleView",
       "background": null,
       "description_width": "",
       "font_size": null,
       "text_color": null
      }
     },
     "34174c7336f8484f810a7d96670123c6": {
      "model_module": "@jupyter-widgets/base",
      "model_module_version": "2.0.0",
      "model_name": "LayoutModel",
      "state": {
       "_model_module": "@jupyter-widgets/base",
       "_model_module_version": "2.0.0",
       "_model_name": "LayoutModel",
       "_view_count": null,
       "_view_module": "@jupyter-widgets/base",
       "_view_module_version": "2.0.0",
       "_view_name": "LayoutView",
       "align_content": null,
       "align_items": null,
       "align_self": null,
       "border_bottom": null,
       "border_left": null,
       "border_right": null,
       "border_top": null,
       "bottom": null,
       "display": null,
       "flex": null,
       "flex_flow": null,
       "grid_area": null,
       "grid_auto_columns": null,
       "grid_auto_flow": null,
       "grid_auto_rows": null,
       "grid_column": null,
       "grid_gap": null,
       "grid_row": null,
       "grid_template_areas": null,
       "grid_template_columns": null,
       "grid_template_rows": null,
       "height": null,
       "justify_content": null,
       "justify_items": null,
       "left": null,
       "margin": null,
       "max_height": null,
       "max_width": null,
       "min_height": null,
       "min_width": null,
       "object_fit": null,
       "object_position": null,
       "order": null,
       "overflow": null,
       "padding": null,
       "right": null,
       "top": null,
       "visibility": null,
       "width": null
      }
     },
     "3802fa0e10d247fd8cdfe9c64c0de6d0": {
      "model_module": "@jupyter-widgets/controls",
      "model_module_version": "2.0.0",
      "model_name": "HTMLStyleModel",
      "state": {
       "_model_module": "@jupyter-widgets/controls",
       "_model_module_version": "2.0.0",
       "_model_name": "HTMLStyleModel",
       "_view_count": null,
       "_view_module": "@jupyter-widgets/base",
       "_view_module_version": "2.0.0",
       "_view_name": "StyleView",
       "background": null,
       "description_width": "",
       "font_size": null,
       "text_color": null
      }
     },
     "43c0d7f6ab0543e58de38545c5a68b93": {
      "model_module": "@jupyter-widgets/controls",
      "model_module_version": "2.0.0",
      "model_name": "ProgressStyleModel",
      "state": {
       "_model_module": "@jupyter-widgets/controls",
       "_model_module_version": "2.0.0",
       "_model_name": "ProgressStyleModel",
       "_view_count": null,
       "_view_module": "@jupyter-widgets/base",
       "_view_module_version": "2.0.0",
       "_view_name": "StyleView",
       "bar_color": null,
       "description_width": ""
      }
     },
     "6dc4eb9319c846e6b6c6f58873547559": {
      "model_module": "@jupyter-widgets/base",
      "model_module_version": "2.0.0",
      "model_name": "LayoutModel",
      "state": {
       "_model_module": "@jupyter-widgets/base",
       "_model_module_version": "2.0.0",
       "_model_name": "LayoutModel",
       "_view_count": null,
       "_view_module": "@jupyter-widgets/base",
       "_view_module_version": "2.0.0",
       "_view_name": "LayoutView",
       "align_content": null,
       "align_items": null,
       "align_self": null,
       "border_bottom": null,
       "border_left": null,
       "border_right": null,
       "border_top": null,
       "bottom": null,
       "display": null,
       "flex": null,
       "flex_flow": null,
       "grid_area": null,
       "grid_auto_columns": null,
       "grid_auto_flow": null,
       "grid_auto_rows": null,
       "grid_column": null,
       "grid_gap": null,
       "grid_row": null,
       "grid_template_areas": null,
       "grid_template_columns": null,
       "grid_template_rows": null,
       "height": null,
       "justify_content": null,
       "justify_items": null,
       "left": null,
       "margin": null,
       "max_height": null,
       "max_width": null,
       "min_height": null,
       "min_width": null,
       "object_fit": null,
       "object_position": null,
       "order": null,
       "overflow": null,
       "padding": null,
       "right": null,
       "top": null,
       "visibility": null,
       "width": null
      }
     },
     "7833910f7ce0475a814eb37f06dcebb9": {
      "model_module": "@jupyter-widgets/controls",
      "model_module_version": "2.0.0",
      "model_name": "ProgressStyleModel",
      "state": {
       "_model_module": "@jupyter-widgets/controls",
       "_model_module_version": "2.0.0",
       "_model_name": "ProgressStyleModel",
       "_view_count": null,
       "_view_module": "@jupyter-widgets/base",
       "_view_module_version": "2.0.0",
       "_view_name": "StyleView",
       "bar_color": null,
       "description_width": ""
      }
     },
     "7aed7c167fbd411cbffbad6a8da7ccfb": {
      "model_module": "@jupyter-widgets/controls",
      "model_module_version": "2.0.0",
      "model_name": "HTMLModel",
      "state": {
       "_dom_classes": [],
       "_model_module": "@jupyter-widgets/controls",
       "_model_module_version": "2.0.0",
       "_model_name": "HTMLModel",
       "_view_count": null,
       "_view_module": "@jupyter-widgets/controls",
       "_view_module_version": "2.0.0",
       "_view_name": "HTMLView",
       "description": "",
       "description_allow_html": false,
       "layout": "IPY_MODEL_1b3b92dff8e94e8a9afcce8115a99e0f",
       "placeholder": "​",
       "style": "IPY_MODEL_3802fa0e10d247fd8cdfe9c64c0de6d0",
       "tabbable": null,
       "tooltip": null,
       "value": "Map: 100%"
      }
     },
     "82daaac9ff264108be20de5bf5da1ee8": {
      "model_module": "@jupyter-widgets/base",
      "model_module_version": "2.0.0",
      "model_name": "LayoutModel",
      "state": {
       "_model_module": "@jupyter-widgets/base",
       "_model_module_version": "2.0.0",
       "_model_name": "LayoutModel",
       "_view_count": null,
       "_view_module": "@jupyter-widgets/base",
       "_view_module_version": "2.0.0",
       "_view_name": "LayoutView",
       "align_content": null,
       "align_items": null,
       "align_self": null,
       "border_bottom": null,
       "border_left": null,
       "border_right": null,
       "border_top": null,
       "bottom": null,
       "display": null,
       "flex": null,
       "flex_flow": null,
       "grid_area": null,
       "grid_auto_columns": null,
       "grid_auto_flow": null,
       "grid_auto_rows": null,
       "grid_column": null,
       "grid_gap": null,
       "grid_row": null,
       "grid_template_areas": null,
       "grid_template_columns": null,
       "grid_template_rows": null,
       "height": null,
       "justify_content": null,
       "justify_items": null,
       "left": null,
       "margin": null,
       "max_height": null,
       "max_width": null,
       "min_height": null,
       "min_width": null,
       "object_fit": null,
       "object_position": null,
       "order": null,
       "overflow": null,
       "padding": null,
       "right": null,
       "top": null,
       "visibility": null,
       "width": null
      }
     },
     "85aa2c87efcc458b9c682575f30c3f8b": {
      "model_module": "@jupyter-widgets/controls",
      "model_module_version": "2.0.0",
      "model_name": "HTMLModel",
      "state": {
       "_dom_classes": [],
       "_model_module": "@jupyter-widgets/controls",
       "_model_module_version": "2.0.0",
       "_model_name": "HTMLModel",
       "_view_count": null,
       "_view_module": "@jupyter-widgets/controls",
       "_view_module_version": "2.0.0",
       "_view_name": "HTMLView",
       "description": "",
       "description_allow_html": false,
       "layout": "IPY_MODEL_34174c7336f8484f810a7d96670123c6",
       "placeholder": "​",
       "style": "IPY_MODEL_308b7fe4d53b43138670341165b5d4dc",
       "tabbable": null,
       "tooltip": null,
       "value": " 10047/10047 [00:04&lt;00:00, 5570.59 examples/s]"
      }
     },
     "ab19727be9204cfba7d259811c1330bb": {
      "model_module": "@jupyter-widgets/controls",
      "model_module_version": "2.0.0",
      "model_name": "HBoxModel",
      "state": {
       "_dom_classes": [],
       "_model_module": "@jupyter-widgets/controls",
       "_model_module_version": "2.0.0",
       "_model_name": "HBoxModel",
       "_view_count": null,
       "_view_module": "@jupyter-widgets/controls",
       "_view_module_version": "2.0.0",
       "_view_name": "HBoxView",
       "box_style": "",
       "children": [
        "IPY_MODEL_7aed7c167fbd411cbffbad6a8da7ccfb",
        "IPY_MODEL_e0d7302f14e24ab8b3ac43a93888a048",
        "IPY_MODEL_85aa2c87efcc458b9c682575f30c3f8b"
       ],
       "layout": "IPY_MODEL_2457b6cce58e4fe5bf401e872700756d",
       "tabbable": null,
       "tooltip": null
      }
     },
     "b3bb767ae5ce46fbbceb527b4d1250a0": {
      "model_module": "@jupyter-widgets/base",
      "model_module_version": "2.0.0",
      "model_name": "LayoutModel",
      "state": {
       "_model_module": "@jupyter-widgets/base",
       "_model_module_version": "2.0.0",
       "_model_name": "LayoutModel",
       "_view_count": null,
       "_view_module": "@jupyter-widgets/base",
       "_view_module_version": "2.0.0",
       "_view_name": "LayoutView",
       "align_content": null,
       "align_items": null,
       "align_self": null,
       "border_bottom": null,
       "border_left": null,
       "border_right": null,
       "border_top": null,
       "bottom": null,
       "display": null,
       "flex": null,
       "flex_flow": null,
       "grid_area": null,
       "grid_auto_columns": null,
       "grid_auto_flow": null,
       "grid_auto_rows": null,
       "grid_column": null,
       "grid_gap": null,
       "grid_row": null,
       "grid_template_areas": null,
       "grid_template_columns": null,
       "grid_template_rows": null,
       "height": null,
       "justify_content": null,
       "justify_items": null,
       "left": null,
       "margin": null,
       "max_height": null,
       "max_width": null,
       "min_height": null,
       "min_width": null,
       "object_fit": null,
       "object_position": null,
       "order": null,
       "overflow": null,
       "padding": null,
       "right": null,
       "top": null,
       "visibility": null,
       "width": null
      }
     },
     "df8ff453f63941f78362374cbad2afaa": {
      "model_module": "@jupyter-widgets/base",
      "model_module_version": "2.0.0",
      "model_name": "LayoutModel",
      "state": {
       "_model_module": "@jupyter-widgets/base",
       "_model_module_version": "2.0.0",
       "_model_name": "LayoutModel",
       "_view_count": null,
       "_view_module": "@jupyter-widgets/base",
       "_view_module_version": "2.0.0",
       "_view_name": "LayoutView",
       "align_content": null,
       "align_items": null,
       "align_self": null,
       "border_bottom": null,
       "border_left": null,
       "border_right": null,
       "border_top": null,
       "bottom": null,
       "display": null,
       "flex": null,
       "flex_flow": null,
       "grid_area": null,
       "grid_auto_columns": null,
       "grid_auto_flow": null,
       "grid_auto_rows": null,
       "grid_column": null,
       "grid_gap": null,
       "grid_row": null,
       "grid_template_areas": null,
       "grid_template_columns": null,
       "grid_template_rows": null,
       "height": null,
       "justify_content": null,
       "justify_items": null,
       "left": null,
       "margin": null,
       "max_height": null,
       "max_width": null,
       "min_height": null,
       "min_width": null,
       "object_fit": null,
       "object_position": null,
       "order": null,
       "overflow": null,
       "padding": null,
       "right": null,
       "top": null,
       "visibility": null,
       "width": null
      }
     },
     "e0d7302f14e24ab8b3ac43a93888a048": {
      "model_module": "@jupyter-widgets/controls",
      "model_module_version": "2.0.0",
      "model_name": "FloatProgressModel",
      "state": {
       "_dom_classes": [],
       "_model_module": "@jupyter-widgets/controls",
       "_model_module_version": "2.0.0",
       "_model_name": "FloatProgressModel",
       "_view_count": null,
       "_view_module": "@jupyter-widgets/controls",
       "_view_module_version": "2.0.0",
       "_view_name": "ProgressView",
       "bar_style": "success",
       "description": "",
       "description_allow_html": false,
       "layout": "IPY_MODEL_df8ff453f63941f78362374cbad2afaa",
       "max": 10047.0,
       "min": 0.0,
       "orientation": "horizontal",
       "style": "IPY_MODEL_43c0d7f6ab0543e58de38545c5a68b93",
       "tabbable": null,
       "tooltip": null,
       "value": 10047.0
      }
     },
     "e66ce5a3eba34583b217fa0ba037b676": {
      "model_module": "@jupyter-widgets/controls",
      "model_module_version": "2.0.0",
      "model_name": "HTMLStyleModel",
      "state": {
       "_model_module": "@jupyter-widgets/controls",
       "_model_module_version": "2.0.0",
       "_model_name": "HTMLStyleModel",
       "_view_count": null,
       "_view_module": "@jupyter-widgets/base",
       "_view_module_version": "2.0.0",
       "_view_name": "StyleView",
       "background": null,
       "description_width": "",
       "font_size": null,
       "text_color": null
      }
     },
     "e815598621cd45b09f798d4a9618de6a": {
      "model_module": "@jupyter-widgets/controls",
      "model_module_version": "2.0.0",
      "model_name": "HTMLStyleModel",
      "state": {
       "_model_module": "@jupyter-widgets/controls",
       "_model_module_version": "2.0.0",
       "_model_name": "HTMLStyleModel",
       "_view_count": null,
       "_view_module": "@jupyter-widgets/base",
       "_view_module_version": "2.0.0",
       "_view_name": "StyleView",
       "background": null,
       "description_width": "",
       "font_size": null,
       "text_color": null
      }
     },
     "f1067593fbca41d4bb09c2e935a61230": {
      "model_module": "@jupyter-widgets/controls",
      "model_module_version": "2.0.0",
      "model_name": "HBoxModel",
      "state": {
       "_dom_classes": [],
       "_model_module": "@jupyter-widgets/controls",
       "_model_module_version": "2.0.0",
       "_model_name": "HBoxModel",
       "_view_count": null,
       "_view_module": "@jupyter-widgets/controls",
       "_view_module_version": "2.0.0",
       "_view_name": "HBoxView",
       "box_style": "",
       "children": [
        "IPY_MODEL_0190f10f77f047c5a06cc365a89ea26d",
        "IPY_MODEL_10b61447380d46399d79de0836ba28a4",
        "IPY_MODEL_259fc704ee724e8cb2b730e8d3eda57b"
       ],
       "layout": "IPY_MODEL_b3bb767ae5ce46fbbceb527b4d1250a0",
       "tabbable": null,
       "tooltip": null
      }
     }
    },
    "version_major": 2,
    "version_minor": 0
   }
  }
 },
 "nbformat": 4,
 "nbformat_minor": 5
}