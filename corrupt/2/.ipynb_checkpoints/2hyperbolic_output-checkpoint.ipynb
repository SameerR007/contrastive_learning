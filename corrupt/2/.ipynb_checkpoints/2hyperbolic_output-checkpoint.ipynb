{
 "cells": [
  {
   "cell_type": "code",
   "execution_count": 1,
   "id": "c2c23a24",
   "metadata": {
    "execution": {
     "iopub.execute_input": "2025-03-04T01:54:33.973045Z",
     "iopub.status.busy": "2025-03-04T01:54:33.972906Z",
     "iopub.status.idle": "2025-03-04T01:54:35.103396Z",
     "shell.execute_reply": "2025-03-04T01:54:35.103018Z"
    },
    "papermill": {
     "duration": 1.135321,
     "end_time": "2025-03-04T01:54:35.104305",
     "exception": false,
     "start_time": "2025-03-04T01:54:33.968984",
     "status": "completed"
    },
    "tags": []
   },
   "outputs": [],
   "source": [
    "from datasets import load_dataset"
   ]
  },
  {
   "cell_type": "code",
   "execution_count": 2,
   "id": "e5bef307",
   "metadata": {
    "execution": {
     "iopub.execute_input": "2025-03-04T01:54:35.112919Z",
     "iopub.status.busy": "2025-03-04T01:54:35.112637Z",
     "iopub.status.idle": "2025-03-04T01:54:40.350351Z",
     "shell.execute_reply": "2025-03-04T01:54:40.349971Z"
    },
    "papermill": {
     "duration": 5.241427,
     "end_time": "2025-03-04T01:54:40.351345",
     "exception": false,
     "start_time": "2025-03-04T01:54:35.109918",
     "status": "completed"
    },
    "tags": []
   },
   "outputs": [],
   "source": [
    "dataset_val = load_dataset('ms_marco', 'v1.1', split='validation')"
   ]
  },
  {
   "cell_type": "code",
   "execution_count": 3,
   "id": "02dae1cb",
   "metadata": {
    "execution": {
     "iopub.execute_input": "2025-03-04T01:54:40.359492Z",
     "iopub.status.busy": "2025-03-04T01:54:40.358969Z",
     "iopub.status.idle": "2025-03-04T01:54:40.364046Z",
     "shell.execute_reply": "2025-03-04T01:54:40.363680Z"
    },
    "papermill": {
     "duration": 0.008702,
     "end_time": "2025-03-04T01:54:40.364950",
     "exception": false,
     "start_time": "2025-03-04T01:54:40.356248",
     "status": "completed"
    },
    "tags": []
   },
   "outputs": [
    {
     "data": {
      "text/plain": [
       "Dataset({\n",
       "    features: ['answers', 'passages', 'query', 'query_id', 'query_type', 'wellFormedAnswers'],\n",
       "    num_rows: 10047\n",
       "})"
      ]
     },
     "execution_count": 3,
     "metadata": {},
     "output_type": "execute_result"
    }
   ],
   "source": [
    "dataset_val"
   ]
  },
  {
   "cell_type": "code",
   "execution_count": 4,
   "id": "f0086395",
   "metadata": {
    "execution": {
     "iopub.execute_input": "2025-03-04T01:54:40.371178Z",
     "iopub.status.busy": "2025-03-04T01:54:40.370926Z",
     "iopub.status.idle": "2025-03-04T01:54:43.731163Z",
     "shell.execute_reply": "2025-03-04T01:54:43.730709Z"
    },
    "papermill": {
     "duration": 3.363967,
     "end_time": "2025-03-04T01:54:43.731986",
     "exception": false,
     "start_time": "2025-03-04T01:54:40.368019",
     "status": "completed"
    },
    "tags": []
   },
   "outputs": [
    {
     "name": "stderr",
     "output_type": "stream",
     "text": [
      "[nltk_data] Downloading package stopwords to\n",
      "[nltk_data]     /dss/dsshome1/07/ra65bex2/nltk_data...\n",
      "[nltk_data]   Package stopwords is already up-to-date!\n",
      "[nltk_data] Downloading package wordnet to\n",
      "[nltk_data]     /dss/dsshome1/07/ra65bex2/nltk_data...\n",
      "[nltk_data]   Package wordnet is already up-to-date!\n"
     ]
    }
   ],
   "source": [
    "import random\n",
    "import re\n",
    "import nltk\n",
    "from nltk.corpus import stopwords, wordnet\n",
    "nltk.download('stopwords')\n",
    "nltk.download('wordnet')\n",
    "stop_words = set(stopwords.words('english'))\n",
    "\n",
    "def clean_text(text):\n",
    "    return re.sub(r'[^\\w\\s.!?]', '', text)\n",
    "\n",
    "def select_words(text, num_words):\n",
    "    words = [w for w in text.split() if w.lower() not in stop_words]\n",
    "    return random.sample(words, min(num_words, len(words)))\n",
    "\n",
    "def introduce_typo(word):\n",
    "    if len(word) > 1:\n",
    "        idx = random.randint(0, len(word) - 1)\n",
    "        return word[:idx] + random.choice('abcdefghijklmnopqrstuvwxyz') + word[idx+1:]\n",
    "    return word\n",
    "\n",
    "def introduce_noise(word):\n",
    "    noise_chars = ['@', '#', '$', '%', '&', '*']\n",
    "    if len(word) > 1:\n",
    "        idx = random.randint(0, len(word) - 1)\n",
    "        return word[:idx] + random.choice(noise_chars) + word[idx+1:]\n",
    "    return word\n",
    "\n",
    "def replace_with_synonym(word):\n",
    "    synonyms = [syn.lemmas()[0].name() for syn in wordnet.synsets(word) if syn.lemmas()]\n",
    "    return random.choice(synonyms) if synonyms else word\n",
    "\n",
    "def corrupt_word(word, method):\n",
    "    if method == 'typo':\n",
    "        return introduce_typo(word)\n",
    "    elif method == 'noise':\n",
    "        return introduce_noise(word)\n",
    "    elif method == 'synonym':\n",
    "        return replace_with_synonym(word)\n",
    "    return word\n",
    "\n",
    "def corrupt_text(text):\n",
    "    corrupted_words = []  \n",
    "    words_to_corrupt=select_words(clean_text(text), num_words=2)\n",
    "    for word in clean_text(text).split():\n",
    "        if word in words_to_corrupt:\n",
    "            corruption_method = random.choice(['typo', 'noise', 'synonym'])\n",
    "            corrupted_words.append(corrupt_word(word, corruption_method))\n",
    "        else:\n",
    "            corrupted_words.append(word)\n",
    "    return ' '.join(corrupted_words)"
   ]
  },
  {
   "cell_type": "code",
   "execution_count": 5,
   "id": "f8836ea8",
   "metadata": {
    "execution": {
     "iopub.execute_input": "2025-03-04T01:54:43.740570Z",
     "iopub.status.busy": "2025-03-04T01:54:43.740271Z",
     "iopub.status.idle": "2025-03-04T01:54:43.744168Z",
     "shell.execute_reply": "2025-03-04T01:54:43.743751Z"
    },
    "papermill": {
     "duration": 0.007738,
     "end_time": "2025-03-04T01:54:43.744884",
     "exception": false,
     "start_time": "2025-03-04T01:54:43.737146",
     "status": "completed"
    },
    "tags": []
   },
   "outputs": [],
   "source": [
    "def preprocess(example):\n",
    "    positive_passages=[]\n",
    "    for p in enumerate(example['passages'][\"is_selected\"]):\n",
    "        if p[1]==1:\n",
    "            positive_passages.append(example[\"passages\"][\"passage_text\"][p[0]])\n",
    "    negative_passages = []\n",
    "    for p in enumerate(example['passages'][\"is_selected\"]):\n",
    "        if p[1]==0:\n",
    "            negative_passages.append(example[\"passages\"][\"passage_text\"][p[0]])\n",
    "    if (len(positive_passages)>0 and len(negative_passages)>=5):\n",
    "        positive = positive_passages[0]\n",
    "        negatives = negative_passages[:5]\n",
    "        return {\n",
    "            \"query\": example[\"query\"],\n",
    "            \"positive\": positive,\n",
    "            \"negatives\": negatives\n",
    "        }\n",
    "    else:\n",
    "        return {\"query\": None, \"positive\": None, \"negatives\": None}"
   ]
  },
  {
   "cell_type": "code",
   "execution_count": 6,
   "id": "cf6643da",
   "metadata": {
    "execution": {
     "iopub.execute_input": "2025-03-04T01:54:43.750779Z",
     "iopub.status.busy": "2025-03-04T01:54:43.750399Z",
     "iopub.status.idle": "2025-03-04T01:54:43.815693Z",
     "shell.execute_reply": "2025-03-04T01:54:43.815243Z"
    },
    "papermill": {
     "duration": 0.069008,
     "end_time": "2025-03-04T01:54:43.816604",
     "exception": false,
     "start_time": "2025-03-04T01:54:43.747596",
     "status": "completed"
    },
    "tags": []
   },
   "outputs": [],
   "source": [
    "processed_data_val = dataset_val.map(preprocess, remove_columns=dataset_val.column_names)"
   ]
  },
  {
   "cell_type": "code",
   "execution_count": 7,
   "id": "7062ee48",
   "metadata": {
    "execution": {
     "iopub.execute_input": "2025-03-04T01:54:43.824925Z",
     "iopub.status.busy": "2025-03-04T01:54:43.824662Z",
     "iopub.status.idle": "2025-03-04T01:54:43.831235Z",
     "shell.execute_reply": "2025-03-04T01:54:43.830776Z"
    },
    "papermill": {
     "duration": 0.010364,
     "end_time": "2025-03-04T01:54:43.832049",
     "exception": false,
     "start_time": "2025-03-04T01:54:43.821685",
     "status": "completed"
    },
    "tags": []
   },
   "outputs": [],
   "source": [
    "processed_data_val = processed_data_val.filter(lambda x: x['query'] is not None and x['positive'] is not None)"
   ]
  },
  {
   "cell_type": "code",
   "execution_count": 8,
   "id": "da72118a",
   "metadata": {
    "execution": {
     "iopub.execute_input": "2025-03-04T01:54:43.838171Z",
     "iopub.status.busy": "2025-03-04T01:54:43.837993Z",
     "iopub.status.idle": "2025-03-04T01:54:44.471605Z",
     "shell.execute_reply": "2025-03-04T01:54:44.470911Z"
    },
    "papermill": {
     "duration": 0.638036,
     "end_time": "2025-03-04T01:54:44.472997",
     "exception": false,
     "start_time": "2025-03-04T01:54:43.834961",
     "status": "completed"
    },
    "tags": []
   },
   "outputs": [],
   "source": [
    "contrastive_pairs_val = []\n",
    "for item in processed_data_val:\n",
    "    query = item[\"query\"]\n",
    "    positive = item[\"positive\"]\n",
    "    negatives = item[\"negatives\"]\n",
    "    contrastive_pairs_val.append({\n",
    "        \"anchor\": query,\n",
    "        \"positive\": positive,\n",
    "        \"negatives\": negatives\n",
    "    })"
   ]
  },
  {
   "cell_type": "code",
   "execution_count": 9,
   "id": "43f1bf60",
   "metadata": {
    "execution": {
     "iopub.execute_input": "2025-03-04T01:54:44.481258Z",
     "iopub.status.busy": "2025-03-04T01:54:44.481082Z",
     "iopub.status.idle": "2025-03-04T01:54:44.485063Z",
     "shell.execute_reply": "2025-03-04T01:54:44.484639Z"
    },
    "papermill": {
     "duration": 0.009054,
     "end_time": "2025-03-04T01:54:44.485730",
     "exception": false,
     "start_time": "2025-03-04T01:54:44.476676",
     "status": "completed"
    },
    "tags": []
   },
   "outputs": [
    {
     "data": {
      "text/plain": [
       "9084"
      ]
     },
     "execution_count": 9,
     "metadata": {},
     "output_type": "execute_result"
    }
   ],
   "source": [
    "len(contrastive_pairs_val)"
   ]
  },
  {
   "cell_type": "code",
   "execution_count": 10,
   "id": "b15af353",
   "metadata": {
    "execution": {
     "iopub.execute_input": "2025-03-04T01:54:44.491864Z",
     "iopub.status.busy": "2025-03-04T01:54:44.491390Z",
     "iopub.status.idle": "2025-03-04T01:54:44.503261Z",
     "shell.execute_reply": "2025-03-04T01:54:44.502925Z"
    },
    "papermill": {
     "duration": 0.015524,
     "end_time": "2025-03-04T01:54:44.503947",
     "exception": false,
     "start_time": "2025-03-04T01:54:44.488423",
     "status": "completed"
    },
    "tags": []
   },
   "outputs": [
    {
     "data": {
      "text/plain": [
       "{'anchor': 'what is a furuncle boil',\n",
       " 'positive': 'A boil, also called a furuncle, is a deep folliculitis, infection of the hair follicle. It is most commonly caused by infection by the bacterium Staphylococcus aureus, resulting in a painful swollen area on the skin caused by an accumulation of pus and dead tissue. Signs and symptoms [edit]. Boils are bumpy, red, pus-filled lumps around a hair follicle that are tender, warm, and very painful. They range from pea-sized to golf ball-sized. A yellow or white point at the center of the lump can be seen when the boil is ready to drain or discharge pus.',\n",
       " 'negatives': ['Knowledge center. A boil, also known as a furuncle is a skin abscess, a painful bump that forms under the skin-it is full of puss. A carbuncle is collection of boils that develop under the skin. When bacteria infect hair follicles they can swell up and turn into boils. ',\n",
       "  'When the hair follicle becomes infected, the skin around it also becomes inflamed. The furuncle looks like a red, raised bump on your skin, but can later rupture and weep fluid. Furuncles are most commonly found on the face and neck. You might also develop a boil on your thigh or buttocks. Symptoms of a Furuncle. A furuncle may begin as a benign-looking bump on your skin, similar to a pimple. As the infection worsens, however, the boil can become painful and hard. Bacteria and dead skin cells may then build up underneath the skin, forming pu',\n",
       "  'A boil is a skin infection that starts in a hair follicle or oil gland. Also referred to as a skin abscess, it is a localized infection deep in the skin. A boil generally starts as a reddened, tender area. Over time, the area becomes firm and hard. ',\n",
       "  'A boil, sometimes also referred to as a furuncle, is an infection involving a hair follicle on the skin. Boils are typically caused by Staphylococcus aureus bacteria, although they may be caused by other bacteria or fungi present on the skin surface. ',\n",
       "  'A boil, also known as a skin abscess or furuncle, is a painful, pus-filled lump that develops on the surface of the skin. Boils can be as small as a pea or as large as a golf ball and can develop on any part of the body. They are usually caused by the infection of a hair follicle or oil gland in the skin. ']}"
      ]
     },
     "execution_count": 10,
     "metadata": {},
     "output_type": "execute_result"
    }
   ],
   "source": [
    "contrastive_pairs_val[2]"
   ]
  },
  {
   "cell_type": "code",
   "execution_count": 11,
   "id": "54259242",
   "metadata": {
    "execution": {
     "iopub.execute_input": "2025-03-04T01:54:44.509922Z",
     "iopub.status.busy": "2025-03-04T01:54:44.509761Z",
     "iopub.status.idle": "2025-03-04T01:54:47.195333Z",
     "shell.execute_reply": "2025-03-04T01:54:47.194882Z"
    },
    "papermill": {
     "duration": 2.690118,
     "end_time": "2025-03-04T01:54:47.196861",
     "exception": false,
     "start_time": "2025-03-04T01:54:44.506743",
     "status": "completed"
    },
    "tags": []
   },
   "outputs": [],
   "source": [
    "from torch.utils.data import DataLoader"
   ]
  },
  {
   "cell_type": "code",
   "execution_count": 12,
   "id": "2fd05a92",
   "metadata": {
    "execution": {
     "iopub.execute_input": "2025-03-04T01:54:47.206139Z",
     "iopub.status.busy": "2025-03-04T01:54:47.205616Z",
     "iopub.status.idle": "2025-03-04T01:54:47.209329Z",
     "shell.execute_reply": "2025-03-04T01:54:47.208704Z"
    },
    "papermill": {
     "duration": 0.00775,
     "end_time": "2025-03-04T01:54:47.209951",
     "exception": false,
     "start_time": "2025-03-04T01:54:47.202201",
     "status": "completed"
    },
    "tags": []
   },
   "outputs": [],
   "source": [
    "class ContrastiveDataset:\n",
    "    def __init__(self, pairs):\n",
    "        self.pairs = pairs\n",
    "\n",
    "    def __len__(self):\n",
    "        return len(self.pairs)\n",
    "\n",
    "    def __getitem__(self, idx):\n",
    "        item = self.pairs[idx]\n",
    "        return item[\"anchor\"], item[\"positive\"], item[\"negatives\"]"
   ]
  },
  {
   "cell_type": "code",
   "execution_count": 13,
   "id": "dab19df3",
   "metadata": {
    "execution": {
     "iopub.execute_input": "2025-03-04T01:54:47.215999Z",
     "iopub.status.busy": "2025-03-04T01:54:47.215869Z",
     "iopub.status.idle": "2025-03-04T01:54:47.226511Z",
     "shell.execute_reply": "2025-03-04T01:54:47.226195Z"
    },
    "papermill": {
     "duration": 0.014719,
     "end_time": "2025-03-04T01:54:47.227411",
     "exception": false,
     "start_time": "2025-03-04T01:54:47.212692",
     "status": "completed"
    },
    "tags": []
   },
   "outputs": [],
   "source": [
    "contrastive_dataset_val = ContrastiveDataset(contrastive_pairs_val)"
   ]
  },
  {
   "cell_type": "code",
   "execution_count": 14,
   "id": "4edfa583",
   "metadata": {
    "execution": {
     "iopub.execute_input": "2025-03-04T01:54:47.233804Z",
     "iopub.status.busy": "2025-03-04T01:54:47.233614Z",
     "iopub.status.idle": "2025-03-04T01:54:47.243242Z",
     "shell.execute_reply": "2025-03-04T01:54:47.242827Z"
    },
    "papermill": {
     "duration": 0.013986,
     "end_time": "2025-03-04T01:54:47.244365",
     "exception": false,
     "start_time": "2025-03-04T01:54:47.230379",
     "status": "completed"
    },
    "tags": []
   },
   "outputs": [],
   "source": [
    "data_loader_val = DataLoader(contrastive_dataset_val, batch_size=32, shuffle=True)"
   ]
  },
  {
   "cell_type": "code",
   "execution_count": 15,
   "id": "1272b755",
   "metadata": {
    "execution": {
     "iopub.execute_input": "2025-03-04T01:54:47.251385Z",
     "iopub.status.busy": "2025-03-04T01:54:47.250328Z",
     "iopub.status.idle": "2025-03-04T01:54:47.259311Z",
     "shell.execute_reply": "2025-03-04T01:54:47.258974Z"
    },
    "papermill": {
     "duration": 0.012619,
     "end_time": "2025-03-04T01:54:47.259963",
     "exception": false,
     "start_time": "2025-03-04T01:54:47.247344",
     "status": "completed"
    },
    "tags": []
   },
   "outputs": [
    {
     "data": {
      "text/plain": [
       "284"
      ]
     },
     "execution_count": 15,
     "metadata": {},
     "output_type": "execute_result"
    }
   ],
   "source": [
    "len(data_loader_val)"
   ]
  },
  {
   "cell_type": "code",
   "execution_count": 16,
   "id": "9a3c49b4",
   "metadata": {
    "execution": {
     "iopub.execute_input": "2025-03-04T01:54:47.266306Z",
     "iopub.status.busy": "2025-03-04T01:54:47.266082Z",
     "iopub.status.idle": "2025-03-04T01:54:49.097045Z",
     "shell.execute_reply": "2025-03-04T01:54:49.096522Z"
    },
    "papermill": {
     "duration": 1.835224,
     "end_time": "2025-03-04T01:54:49.098017",
     "exception": false,
     "start_time": "2025-03-04T01:54:47.262793",
     "status": "completed"
    },
    "tags": []
   },
   "outputs": [],
   "source": [
    "from transformers import AutoTokenizer, AutoModel\n",
    "tokenizer = AutoTokenizer.from_pretrained(\"bert-base-uncased\")"
   ]
  },
  {
   "cell_type": "code",
   "execution_count": 17,
   "id": "5d9a8f06",
   "metadata": {
    "execution": {
     "iopub.execute_input": "2025-03-04T01:54:49.105155Z",
     "iopub.status.busy": "2025-03-04T01:54:49.104803Z",
     "iopub.status.idle": "2025-03-04T01:54:50.298943Z",
     "shell.execute_reply": "2025-03-04T01:54:50.298482Z"
    },
    "papermill": {
     "duration": 1.198249,
     "end_time": "2025-03-04T01:54:50.299862",
     "exception": false,
     "start_time": "2025-03-04T01:54:49.101613",
     "status": "completed"
    },
    "tags": []
   },
   "outputs": [
    {
     "name": "stderr",
     "output_type": "stream",
     "text": [
      "/tmp/ipykernel_1860145/3548975511.py:3: FutureWarning: You are using `torch.load` with `weights_only=False` (the current default value), which uses the default pickle module implicitly. It is possible to construct malicious pickle data which will execute arbitrary code during unpickling (See https://github.com/pytorch/pytorch/blob/main/SECURITY.md#untrusted-models for more details). In a future release, the default value for `weights_only` will be flipped to `True`. This limits the functions that could be executed during unpickling. Arbitrary objects will no longer be allowed to be loaded via this mode unless they are explicitly allowlisted by the user via `torch.serialization.add_safe_globals`. We recommend you start setting `weights_only=True` for any use case where you don't have full control of the loaded file. Please open an issue on GitHub for any issues related to this experimental feature.\n",
      "  lora_model = torch.load(file_path)\n"
     ]
    }
   ],
   "source": [
    "import torch\n",
    "file_path=\"/dss/dsshome1/07/ra65bex2/srawat/contrastive_learning/v1.1/0.1hyperbolic/hyperbolic_lora_checkpoint_epoch_3.pth\"\n",
    "lora_model = torch.load(file_path)"
   ]
  },
  {
   "cell_type": "code",
   "execution_count": 18,
   "id": "be99e74e",
   "metadata": {
    "execution": {
     "iopub.execute_input": "2025-03-04T01:54:50.309423Z",
     "iopub.status.busy": "2025-03-04T01:54:50.309132Z",
     "iopub.status.idle": "2025-03-04T01:54:50.315369Z",
     "shell.execute_reply": "2025-03-04T01:54:50.315057Z"
    },
    "papermill": {
     "duration": 0.010618,
     "end_time": "2025-03-04T01:54:50.316010",
     "exception": false,
     "start_time": "2025-03-04T01:54:50.305392",
     "status": "completed"
    },
    "tags": []
   },
   "outputs": [],
   "source": [
    "device = torch.device('cuda' if torch.cuda.is_available() else 'cpu')\n",
    "lora_model = lora_model.to(device)"
   ]
  },
  {
   "cell_type": "code",
   "execution_count": 19,
   "id": "e04151db",
   "metadata": {
    "execution": {
     "iopub.execute_input": "2025-03-04T01:54:50.322558Z",
     "iopub.status.busy": "2025-03-04T01:54:50.322273Z",
     "iopub.status.idle": "2025-03-04T01:54:50.331007Z",
     "shell.execute_reply": "2025-03-04T01:54:50.330496Z"
    },
    "papermill": {
     "duration": 0.01274,
     "end_time": "2025-03-04T01:54:50.331688",
     "exception": false,
     "start_time": "2025-03-04T01:54:50.318948",
     "status": "completed"
    },
    "tags": []
   },
   "outputs": [],
   "source": [
    "def lorentzian_distance(x, y):\n",
    "    \n",
    "    dot_product = torch.sum(x * y, dim=-1)\n",
    "    norm_x = torch.norm(x, dim=-1)\n",
    "    norm_y = torch.norm(y, dim=-1)\n",
    "    \n",
    "    distance = torch.acosh(-dot_product + torch.sqrt((1 + norm_x**2) * (1 + norm_y**2)))\n",
    "    return distance"
   ]
  },
  {
   "cell_type": "code",
   "execution_count": 20,
   "id": "1f736e92",
   "metadata": {
    "execution": {
     "iopub.execute_input": "2025-03-04T01:54:50.338661Z",
     "iopub.status.busy": "2025-03-04T01:54:50.338396Z",
     "iopub.status.idle": "2025-03-04T01:54:50.347218Z",
     "shell.execute_reply": "2025-03-04T01:54:50.346797Z"
    },
    "papermill": {
     "duration": 0.012927,
     "end_time": "2025-03-04T01:54:50.348073",
     "exception": false,
     "start_time": "2025-03-04T01:54:50.335146",
     "status": "completed"
    },
    "tags": []
   },
   "outputs": [],
   "source": [
    "def expm_o(v, c=1.0):\n",
    "    c = torch.tensor(c)\n",
    "    vspace = v\n",
    "    vnorm = torch.norm(v, p=2, dim=-1, keepdim=True)\n",
    "    xspace = torch.sinh(torch.sqrt(c) * vnorm) * vspace / (torch.sqrt(c) * vnorm)\n",
    "    batch_min = xspace.min(dim=1, keepdim=True).values\n",
    "    batch_max = xspace.max(dim=1, keepdim=True).values\n",
    "    xspace_scaled=(xspace - batch_min) / (batch_max - batch_min)\n",
    "    return xspace_scaled"
   ]
  },
  {
   "cell_type": "code",
   "execution_count": 21,
   "id": "f0c527fc",
   "metadata": {
    "execution": {
     "iopub.execute_input": "2025-03-04T01:54:50.355112Z",
     "iopub.status.busy": "2025-03-04T01:54:50.354852Z",
     "iopub.status.idle": "2025-03-04T01:54:50.363169Z",
     "shell.execute_reply": "2025-03-04T01:54:50.362737Z"
    },
    "papermill": {
     "duration": 0.012537,
     "end_time": "2025-03-04T01:54:50.363786",
     "exception": false,
     "start_time": "2025-03-04T01:54:50.351249",
     "status": "completed"
    },
    "tags": []
   },
   "outputs": [],
   "source": [
    "def evaluate_mrr(model1, data_loader_val, distance_fn):\n",
    "    model1.eval()\n",
    "    \n",
    "    total_rr = 0.0\n",
    "    num_queries = 0\n",
    "\n",
    "    with torch.no_grad():\n",
    "        for batch in data_loader_val:\n",
    "            anchor_text = batch[0]\n",
    "            positive_text = batch[1]\n",
    "            negative_texts = batch[2]\n",
    "\n",
    "            anchor_input = tokenizer(anchor_text, return_tensors='pt', padding=True, truncation=True, max_length=512).to(device)\n",
    "            positive_input = tokenizer(positive_text, return_tensors='pt', padding=True, truncation=True, max_length=512).to(device)\n",
    "\n",
    "            anchor_embedding = expm_o(model1(**anchor_input).last_hidden_state[:, 0, :])\n",
    "            positive_embedding = expm_o(model1(**positive_input).last_hidden_state[:, 0, :])\n",
    "            negative_embedding = [expm_o(model1(**tokenizer(neg, return_tensors='pt', padding=True, truncation=True, max_length=512).to(device)).last_hidden_state[:, 0, :]) for neg in negative_texts]\n",
    "\n",
    "            pos_dist = distance_fn(anchor_embedding, positive_embedding)\n",
    "            neg_dist = torch.stack([distance_fn(anchor_embedding, neg) for neg in negative_embedding], dim=-1)\n",
    "            all_similarities=torch.cat([-pos_dist.unsqueeze(1), -neg_dist], dim=1)\n",
    "\n",
    "            sorted_similarities, sorted_indices = torch.sort(all_similarities, dim=1, descending=True)\n",
    "\n",
    "            # Find the rank of the first relevant (positive) document\n",
    "            positive_rank = (sorted_indices == 0).nonzero(as_tuple=True)[1] + 1  # +1 to make rank 1-based\n",
    "            total_rr += torch.sum(1.0 / positive_rank.float()).item()  # Reciprocal rank\n",
    "            num_queries += len(positive_rank)\n",
    "            \n",
    "    mrr = total_rr / num_queries\n",
    "    return mrr"
   ]
  },
  {
   "cell_type": "code",
   "execution_count": 22,
   "id": "7485b985",
   "metadata": {
    "execution": {
     "iopub.execute_input": "2025-03-04T01:54:50.370789Z",
     "iopub.status.busy": "2025-03-04T01:54:50.370517Z",
     "iopub.status.idle": "2025-03-04T01:56:43.022252Z",
     "shell.execute_reply": "2025-03-04T01:56:43.020974Z"
    },
    "papermill": {
     "duration": 112.659853,
     "end_time": "2025-03-04T01:56:43.026858",
     "exception": false,
     "start_time": "2025-03-04T01:54:50.367005",
     "status": "completed"
    },
    "tags": []
   },
   "outputs": [
    {
     "name": "stdout",
     "output_type": "stream",
     "text": [
      "0.5332544509244354\n"
     ]
    }
   ],
   "source": [
    "mrr_validation = evaluate_mrr(model1=lora_model, data_loader_val=data_loader_val,distance_fn=lorentzian_distance)\n",
    "print(mrr_validation)"
   ]
  },
  {
   "cell_type": "code",
   "execution_count": null,
   "id": "0417433c",
   "metadata": {
    "papermill": {
     "duration": 0.003306,
     "end_time": "2025-03-04T01:56:43.033383",
     "exception": false,
     "start_time": "2025-03-04T01:56:43.030077",
     "status": "completed"
    },
    "tags": []
   },
   "outputs": [],
   "source": []
  }
 ],
 "metadata": {
  "kernelspec": {
   "display_name": "Python (myenv)",
   "language": "python",
   "name": "myenv"
  },
  "language_info": {
   "codemirror_mode": {
    "name": "ipython",
    "version": 3
   },
   "file_extension": ".py",
   "mimetype": "text/x-python",
   "name": "python",
   "nbconvert_exporter": "python",
   "pygments_lexer": "ipython3",
   "version": "3.12.7"
  },
  "papermill": {
   "default_parameters": {},
   "duration": 132.28085,
   "end_time": "2025-03-04T01:56:45.055645",
   "environment_variables": {},
   "exception": null,
   "input_path": "2hyperbolic.ipynb",
   "output_path": "2hyperbolic_output.ipynb",
   "parameters": {},
   "start_time": "2025-03-04T01:54:32.774795",
   "version": "2.6.0"
  }
 },
 "nbformat": 4,
 "nbformat_minor": 5
}