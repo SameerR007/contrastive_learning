{
 "cells": [
  {
   "cell_type": "code",
   "execution_count": 1,
   "id": "f76b2774",
   "metadata": {
    "execution": {
     "iopub.execute_input": "2025-03-04T02:02:05.109895Z",
     "iopub.status.busy": "2025-03-04T02:02:05.109536Z",
     "iopub.status.idle": "2025-03-04T02:02:06.455787Z",
     "shell.execute_reply": "2025-03-04T02:02:06.455383Z"
    },
    "papermill": {
     "duration": 1.351246,
     "end_time": "2025-03-04T02:02:06.456978",
     "exception": false,
     "start_time": "2025-03-04T02:02:05.105732",
     "status": "completed"
    },
    "tags": []
   },
   "outputs": [],
   "source": [
    "from datasets import load_dataset"
   ]
  },
  {
   "cell_type": "code",
   "execution_count": 2,
   "id": "f4961ba3",
   "metadata": {
    "execution": {
     "iopub.execute_input": "2025-03-04T02:02:06.464112Z",
     "iopub.status.busy": "2025-03-04T02:02:06.462793Z",
     "iopub.status.idle": "2025-03-04T02:02:11.126223Z",
     "shell.execute_reply": "2025-03-04T02:02:11.125738Z"
    },
    "papermill": {
     "duration": 4.667233,
     "end_time": "2025-03-04T02:02:11.127104",
     "exception": false,
     "start_time": "2025-03-04T02:02:06.459871",
     "status": "completed"
    },
    "tags": []
   },
   "outputs": [],
   "source": [
    "dataset_val = load_dataset('ms_marco', 'v1.1', split='validation')"
   ]
  },
  {
   "cell_type": "code",
   "execution_count": 3,
   "id": "f7fdedbd",
   "metadata": {
    "execution": {
     "iopub.execute_input": "2025-03-04T02:02:11.135045Z",
     "iopub.status.busy": "2025-03-04T02:02:11.134533Z",
     "iopub.status.idle": "2025-03-04T02:02:11.139809Z",
     "shell.execute_reply": "2025-03-04T02:02:11.139422Z"
    },
    "papermill": {
     "duration": 0.008692,
     "end_time": "2025-03-04T02:02:11.140509",
     "exception": false,
     "start_time": "2025-03-04T02:02:11.131817",
     "status": "completed"
    },
    "tags": []
   },
   "outputs": [
    {
     "data": {
      "text/plain": [
       "Dataset({\n",
       "    features: ['answers', 'passages', 'query', 'query_id', 'query_type', 'wellFormedAnswers'],\n",
       "    num_rows: 10047\n",
       "})"
      ]
     },
     "execution_count": 3,
     "metadata": {},
     "output_type": "execute_result"
    }
   ],
   "source": [
    "dataset_val"
   ]
  },
  {
   "cell_type": "code",
   "execution_count": 4,
   "id": "7fbb86d7",
   "metadata": {
    "execution": {
     "iopub.execute_input": "2025-03-04T02:02:11.145954Z",
     "iopub.status.busy": "2025-03-04T02:02:11.145814Z",
     "iopub.status.idle": "2025-03-04T02:02:12.222020Z",
     "shell.execute_reply": "2025-03-04T02:02:12.221558Z"
    },
    "papermill": {
     "duration": 1.079913,
     "end_time": "2025-03-04T02:02:12.222859",
     "exception": false,
     "start_time": "2025-03-04T02:02:11.142946",
     "status": "completed"
    },
    "tags": []
   },
   "outputs": [
    {
     "name": "stderr",
     "output_type": "stream",
     "text": [
      "[nltk_data] Downloading package stopwords to\n",
      "[nltk_data]     /dss/dsshome1/07/ra65bex2/nltk_data...\n",
      "[nltk_data]   Package stopwords is already up-to-date!\n",
      "[nltk_data] Downloading package wordnet to\n",
      "[nltk_data]     /dss/dsshome1/07/ra65bex2/nltk_data...\n",
      "[nltk_data]   Package wordnet is already up-to-date!\n"
     ]
    }
   ],
   "source": [
    "import random\n",
    "import re\n",
    "import nltk\n",
    "from nltk.corpus import stopwords, wordnet\n",
    "nltk.download('stopwords')\n",
    "nltk.download('wordnet')\n",
    "stop_words = set(stopwords.words('english'))\n",
    "\n",
    "def clean_text(text):\n",
    "    return re.sub(r'[^\\w\\s.!?]', '', text)\n",
    "\n",
    "def select_words(text, num_words):\n",
    "    words = [w for w in text.split() if w.lower() not in stop_words]\n",
    "    return random.sample(words, min(num_words, len(words)))\n",
    "\n",
    "def introduce_typo(word):\n",
    "    if len(word) > 1:\n",
    "        idx = random.randint(0, len(word) - 1)\n",
    "        return word[:idx] + random.choice('abcdefghijklmnopqrstuvwxyz') + word[idx+1:]\n",
    "    return word\n",
    "\n",
    "def introduce_noise(word):\n",
    "    noise_chars = ['@', '#', '$', '%', '&', '*']\n",
    "    if len(word) > 1:\n",
    "        idx = random.randint(0, len(word) - 1)\n",
    "        return word[:idx] + random.choice(noise_chars) + word[idx+1:]\n",
    "    return word\n",
    "\n",
    "def replace_with_synonym(word):\n",
    "    synonyms = [syn.lemmas()[0].name() for syn in wordnet.synsets(word) if syn.lemmas()]\n",
    "    return random.choice(synonyms) if synonyms else word\n",
    "\n",
    "def corrupt_word(word, method):\n",
    "    if method == 'typo':\n",
    "        return introduce_typo(word)\n",
    "    elif method == 'noise':\n",
    "        return introduce_noise(word)\n",
    "    elif method == 'synonym':\n",
    "        return replace_with_synonym(word)\n",
    "    return word\n",
    "\n",
    "def corrupt_text(text):\n",
    "    corrupted_words = []  \n",
    "    words_to_corrupt=select_words(clean_text(text), num_words=2)\n",
    "    for word in clean_text(text).split():\n",
    "        if word in words_to_corrupt:\n",
    "            corruption_method = random.choice(['typo', 'noise', 'synonym'])\n",
    "            corrupted_words.append(corrupt_word(word, corruption_method))\n",
    "        else:\n",
    "            corrupted_words.append(word)\n",
    "    return ' '.join(corrupted_words)"
   ]
  },
  {
   "cell_type": "code",
   "execution_count": 5,
   "id": "141a3411",
   "metadata": {
    "execution": {
     "iopub.execute_input": "2025-03-04T02:02:12.229499Z",
     "iopub.status.busy": "2025-03-04T02:02:12.229054Z",
     "iopub.status.idle": "2025-03-04T02:02:12.232842Z",
     "shell.execute_reply": "2025-03-04T02:02:12.232443Z"
    },
    "papermill": {
     "duration": 0.009171,
     "end_time": "2025-03-04T02:02:12.235130",
     "exception": false,
     "start_time": "2025-03-04T02:02:12.225959",
     "status": "completed"
    },
    "tags": []
   },
   "outputs": [],
   "source": [
    "def preprocess(example):\n",
    "    positive_passages=[]\n",
    "    for p in enumerate(example['passages'][\"is_selected\"]):\n",
    "        if p[1]==1:\n",
    "            positive_passages.append(example[\"passages\"][\"passage_text\"][p[0]])\n",
    "    negative_passages = []\n",
    "    for p in enumerate(example['passages'][\"is_selected\"]):\n",
    "        if p[1]==0:\n",
    "            negative_passages.append(example[\"passages\"][\"passage_text\"][p[0]])\n",
    "    if (len(positive_passages)>0 and len(negative_passages)>=5):\n",
    "        positive = positive_passages[0]\n",
    "        negatives = negative_passages[:5]\n",
    "        return {\n",
    "            \"query\": corrupt_text(example[\"query\"]),\n",
    "            \"positive\": positive,\n",
    "            \"negatives\": negatives\n",
    "        }\n",
    "    else:\n",
    "        return {\"query\": None, \"positive\": None, \"negatives\": None}"
   ]
  },
  {
   "cell_type": "code",
   "execution_count": 6,
   "id": "65a158a5",
   "metadata": {
    "execution": {
     "iopub.execute_input": "2025-03-04T02:02:12.242359Z",
     "iopub.status.busy": "2025-03-04T02:02:12.241896Z",
     "iopub.status.idle": "2025-03-04T02:02:12.331901Z",
     "shell.execute_reply": "2025-03-04T02:02:12.331442Z"
    },
    "papermill": {
     "duration": 0.093959,
     "end_time": "2025-03-04T02:02:12.332923",
     "exception": false,
     "start_time": "2025-03-04T02:02:12.238964",
     "status": "completed"
    },
    "tags": []
   },
   "outputs": [],
   "source": [
    "processed_data_val = dataset_val.map(preprocess, remove_columns=dataset_val.column_names)"
   ]
  },
  {
   "cell_type": "code",
   "execution_count": 7,
   "id": "6ecb05c7",
   "metadata": {
    "execution": {
     "iopub.execute_input": "2025-03-04T02:02:12.340657Z",
     "iopub.status.busy": "2025-03-04T02:02:12.340439Z",
     "iopub.status.idle": "2025-03-04T02:02:12.344787Z",
     "shell.execute_reply": "2025-03-04T02:02:12.344461Z"
    },
    "papermill": {
     "duration": 0.008109,
     "end_time": "2025-03-04T02:02:12.345481",
     "exception": false,
     "start_time": "2025-03-04T02:02:12.337372",
     "status": "completed"
    },
    "tags": []
   },
   "outputs": [],
   "source": [
    "processed_data_val = processed_data_val.filter(lambda x: x['query'] is not None and x['positive'] is not None)"
   ]
  },
  {
   "cell_type": "code",
   "execution_count": 8,
   "id": "81849cf1",
   "metadata": {
    "execution": {
     "iopub.execute_input": "2025-03-04T02:02:12.351288Z",
     "iopub.status.busy": "2025-03-04T02:02:12.350929Z",
     "iopub.status.idle": "2025-03-04T02:02:12.982826Z",
     "shell.execute_reply": "2025-03-04T02:02:12.982322Z"
    },
    "papermill": {
     "duration": 0.63573,
     "end_time": "2025-03-04T02:02:12.983797",
     "exception": false,
     "start_time": "2025-03-04T02:02:12.348067",
     "status": "completed"
    },
    "tags": []
   },
   "outputs": [],
   "source": [
    "contrastive_pairs_val = []\n",
    "for item in processed_data_val:\n",
    "    query = item[\"query\"]\n",
    "    positive = item[\"positive\"]\n",
    "    negatives = item[\"negatives\"]\n",
    "    contrastive_pairs_val.append({\n",
    "        \"anchor\": query,\n",
    "        \"positive\": positive,\n",
    "        \"negatives\": negatives\n",
    "    })"
   ]
  },
  {
   "cell_type": "code",
   "execution_count": 9,
   "id": "647895aa",
   "metadata": {
    "execution": {
     "iopub.execute_input": "2025-03-04T02:02:12.990361Z",
     "iopub.status.busy": "2025-03-04T02:02:12.989817Z",
     "iopub.status.idle": "2025-03-04T02:02:12.994297Z",
     "shell.execute_reply": "2025-03-04T02:02:12.993799Z"
    },
    "papermill": {
     "duration": 0.008155,
     "end_time": "2025-03-04T02:02:12.994961",
     "exception": false,
     "start_time": "2025-03-04T02:02:12.986806",
     "status": "completed"
    },
    "tags": []
   },
   "outputs": [
    {
     "data": {
      "text/plain": [
       "9084"
      ]
     },
     "execution_count": 9,
     "metadata": {},
     "output_type": "execute_result"
    }
   ],
   "source": [
    "len(contrastive_pairs_val)"
   ]
  },
  {
   "cell_type": "code",
   "execution_count": 10,
   "id": "cac16d69",
   "metadata": {
    "execution": {
     "iopub.execute_input": "2025-03-04T02:02:13.001079Z",
     "iopub.status.busy": "2025-03-04T02:02:13.000476Z",
     "iopub.status.idle": "2025-03-04T02:02:15.713499Z",
     "shell.execute_reply": "2025-03-04T02:02:15.712995Z"
    },
    "papermill": {
     "duration": 2.716945,
     "end_time": "2025-03-04T02:02:15.714447",
     "exception": false,
     "start_time": "2025-03-04T02:02:12.997502",
     "status": "completed"
    },
    "tags": []
   },
   "outputs": [],
   "source": [
    "from torch.utils.data import DataLoader"
   ]
  },
  {
   "cell_type": "code",
   "execution_count": 11,
   "id": "1ce88253",
   "metadata": {
    "execution": {
     "iopub.execute_input": "2025-03-04T02:02:15.720663Z",
     "iopub.status.busy": "2025-03-04T02:02:15.720514Z",
     "iopub.status.idle": "2025-03-04T02:02:15.725650Z",
     "shell.execute_reply": "2025-03-04T02:02:15.725290Z"
    },
    "papermill": {
     "duration": 0.008825,
     "end_time": "2025-03-04T02:02:15.726284",
     "exception": false,
     "start_time": "2025-03-04T02:02:15.717459",
     "status": "completed"
    },
    "tags": []
   },
   "outputs": [
    {
     "data": {
      "text/plain": [
       "{'anchor': 'what is a boil boi#',\n",
       " 'positive': 'A boil, also called a furuncle, is a deep folliculitis, infection of the hair follicle. It is most commonly caused by infection by the bacterium Staphylococcus aureus, resulting in a painful swollen area on the skin caused by an accumulation of pus and dead tissue. Signs and symptoms [edit]. Boils are bumpy, red, pus-filled lumps around a hair follicle that are tender, warm, and very painful. They range from pea-sized to golf ball-sized. A yellow or white point at the center of the lump can be seen when the boil is ready to drain or discharge pus.',\n",
       " 'negatives': ['Knowledge center. A boil, also known as a furuncle is a skin abscess, a painful bump that forms under the skin-it is full of puss. A carbuncle is collection of boils that develop under the skin. When bacteria infect hair follicles they can swell up and turn into boils. ',\n",
       "  'When the hair follicle becomes infected, the skin around it also becomes inflamed. The furuncle looks like a red, raised bump on your skin, but can later rupture and weep fluid. Furuncles are most commonly found on the face and neck. You might also develop a boil on your thigh or buttocks. Symptoms of a Furuncle. A furuncle may begin as a benign-looking bump on your skin, similar to a pimple. As the infection worsens, however, the boil can become painful and hard. Bacteria and dead skin cells may then build up underneath the skin, forming pu',\n",
       "  'A boil is a skin infection that starts in a hair follicle or oil gland. Also referred to as a skin abscess, it is a localized infection deep in the skin. A boil generally starts as a reddened, tender area. Over time, the area becomes firm and hard. ',\n",
       "  'A boil, sometimes also referred to as a furuncle, is an infection involving a hair follicle on the skin. Boils are typically caused by Staphylococcus aureus bacteria, although they may be caused by other bacteria or fungi present on the skin surface. ',\n",
       "  'A boil, also known as a skin abscess or furuncle, is a painful, pus-filled lump that develops on the surface of the skin. Boils can be as small as a pea or as large as a golf ball and can develop on any part of the body. They are usually caused by the infection of a hair follicle or oil gland in the skin. ']}"
      ]
     },
     "execution_count": 11,
     "metadata": {},
     "output_type": "execute_result"
    }
   ],
   "source": [
    "contrastive_pairs_val[2]"
   ]
  },
  {
   "cell_type": "code",
   "execution_count": 12,
   "id": "ba7e5363",
   "metadata": {
    "execution": {
     "iopub.execute_input": "2025-03-04T02:02:15.733045Z",
     "iopub.status.busy": "2025-03-04T02:02:15.732904Z",
     "iopub.status.idle": "2025-03-04T02:02:15.744332Z",
     "shell.execute_reply": "2025-03-04T02:02:15.743579Z"
    },
    "papermill": {
     "duration": 0.015845,
     "end_time": "2025-03-04T02:02:15.745382",
     "exception": false,
     "start_time": "2025-03-04T02:02:15.729537",
     "status": "completed"
    },
    "tags": []
   },
   "outputs": [],
   "source": [
    "class ContrastiveDataset:\n",
    "    def __init__(self, pairs):\n",
    "        self.pairs = pairs\n",
    "\n",
    "    def __len__(self):\n",
    "        return len(self.pairs)\n",
    "\n",
    "    def __getitem__(self, idx):\n",
    "        item = self.pairs[idx]\n",
    "        return item[\"anchor\"], item[\"positive\"], item[\"negatives\"]"
   ]
  },
  {
   "cell_type": "code",
   "execution_count": 13,
   "id": "5e600437",
   "metadata": {
    "execution": {
     "iopub.execute_input": "2025-03-04T02:02:15.751969Z",
     "iopub.status.busy": "2025-03-04T02:02:15.751250Z",
     "iopub.status.idle": "2025-03-04T02:02:15.761228Z",
     "shell.execute_reply": "2025-03-04T02:02:15.760896Z"
    },
    "papermill": {
     "duration": 0.013804,
     "end_time": "2025-03-04T02:02:15.762038",
     "exception": false,
     "start_time": "2025-03-04T02:02:15.748234",
     "status": "completed"
    },
    "tags": []
   },
   "outputs": [],
   "source": [
    "contrastive_dataset_val = ContrastiveDataset(contrastive_pairs_val)"
   ]
  },
  {
   "cell_type": "code",
   "execution_count": 14,
   "id": "f0e78df6",
   "metadata": {
    "execution": {
     "iopub.execute_input": "2025-03-04T02:02:15.768396Z",
     "iopub.status.busy": "2025-03-04T02:02:15.768157Z",
     "iopub.status.idle": "2025-03-04T02:02:15.778534Z",
     "shell.execute_reply": "2025-03-04T02:02:15.778172Z"
    },
    "papermill": {
     "duration": 0.014613,
     "end_time": "2025-03-04T02:02:15.779631",
     "exception": false,
     "start_time": "2025-03-04T02:02:15.765018",
     "status": "completed"
    },
    "tags": []
   },
   "outputs": [],
   "source": [
    "data_loader_val = DataLoader(contrastive_dataset_val, batch_size=32, shuffle=True)"
   ]
  },
  {
   "cell_type": "code",
   "execution_count": 15,
   "id": "bc5912ca",
   "metadata": {
    "execution": {
     "iopub.execute_input": "2025-03-04T02:02:15.785905Z",
     "iopub.status.busy": "2025-03-04T02:02:15.785699Z",
     "iopub.status.idle": "2025-03-04T02:02:15.795619Z",
     "shell.execute_reply": "2025-03-04T02:02:15.795253Z"
    },
    "papermill": {
     "duration": 0.013626,
     "end_time": "2025-03-04T02:02:15.796268",
     "exception": false,
     "start_time": "2025-03-04T02:02:15.782642",
     "status": "completed"
    },
    "tags": []
   },
   "outputs": [
    {
     "data": {
      "text/plain": [
       "284"
      ]
     },
     "execution_count": 15,
     "metadata": {},
     "output_type": "execute_result"
    }
   ],
   "source": [
    "len(data_loader_val)"
   ]
  },
  {
   "cell_type": "code",
   "execution_count": 16,
   "id": "d0cfaff2",
   "metadata": {
    "execution": {
     "iopub.execute_input": "2025-03-04T02:02:15.803183Z",
     "iopub.status.busy": "2025-03-04T02:02:15.802959Z",
     "iopub.status.idle": "2025-03-04T02:02:17.775899Z",
     "shell.execute_reply": "2025-03-04T02:02:17.775360Z"
    },
    "papermill": {
     "duration": 1.977131,
     "end_time": "2025-03-04T02:02:17.776859",
     "exception": false,
     "start_time": "2025-03-04T02:02:15.799728",
     "status": "completed"
    },
    "tags": []
   },
   "outputs": [],
   "source": [
    "from transformers import AutoTokenizer, AutoModel\n",
    "tokenizer = AutoTokenizer.from_pretrained(\"bert-base-uncased\")"
   ]
  },
  {
   "cell_type": "code",
   "execution_count": 17,
   "id": "7ae72db0",
   "metadata": {
    "execution": {
     "iopub.execute_input": "2025-03-04T02:02:17.786317Z",
     "iopub.status.busy": "2025-03-04T02:02:17.785840Z",
     "iopub.status.idle": "2025-03-04T02:02:19.494082Z",
     "shell.execute_reply": "2025-03-04T02:02:19.493534Z"
    },
    "papermill": {
     "duration": 1.713066,
     "end_time": "2025-03-04T02:02:19.495454",
     "exception": false,
     "start_time": "2025-03-04T02:02:17.782388",
     "status": "completed"
    },
    "tags": []
   },
   "outputs": [
    {
     "name": "stderr",
     "output_type": "stream",
     "text": [
      "/tmp/ipykernel_1868515/2192687965.py:3: FutureWarning: You are using `torch.load` with `weights_only=False` (the current default value), which uses the default pickle module implicitly. It is possible to construct malicious pickle data which will execute arbitrary code during unpickling (See https://github.com/pytorch/pytorch/blob/main/SECURITY.md#untrusted-models for more details). In a future release, the default value for `weights_only` will be flipped to `True`. This limits the functions that could be executed during unpickling. Arbitrary objects will no longer be allowed to be loaded via this mode unless they are explicitly allowlisted by the user via `torch.serialization.add_safe_globals`. We recommend you start setting `weights_only=True` for any use case where you don't have full control of the loaded file. Please open an issue on GitHub for any issues related to this experimental feature.\n",
      "  lora_model = torch.load(file_path)\n"
     ]
    }
   ],
   "source": [
    "import torch\n",
    "file_path=\"/dss/dsshome1/07/ra65bex2/srawat/contrastive_learning/v1.1/app_average/average_checkpoint_epoch_3.pth\"\n",
    "lora_model = torch.load(file_path)"
   ]
  },
  {
   "cell_type": "code",
   "execution_count": 18,
   "id": "b11de986",
   "metadata": {
    "execution": {
     "iopub.execute_input": "2025-03-04T02:02:19.503056Z",
     "iopub.status.busy": "2025-03-04T02:02:19.502652Z",
     "iopub.status.idle": "2025-03-04T02:02:19.509572Z",
     "shell.execute_reply": "2025-03-04T02:02:19.509137Z"
    },
    "papermill": {
     "duration": 0.011063,
     "end_time": "2025-03-04T02:02:19.510272",
     "exception": false,
     "start_time": "2025-03-04T02:02:19.499209",
     "status": "completed"
    },
    "tags": []
   },
   "outputs": [],
   "source": [
    "device = torch.device('cuda' if torch.cuda.is_available() else 'cpu')\n",
    "lora_model = lora_model.to(device)"
   ]
  },
  {
   "cell_type": "code",
   "execution_count": 19,
   "id": "d9d2a4ab",
   "metadata": {
    "execution": {
     "iopub.execute_input": "2025-03-04T02:02:19.517415Z",
     "iopub.status.busy": "2025-03-04T02:02:19.517251Z",
     "iopub.status.idle": "2025-03-04T02:02:19.525191Z",
     "shell.execute_reply": "2025-03-04T02:02:19.524790Z"
    },
    "papermill": {
     "duration": 0.012707,
     "end_time": "2025-03-04T02:02:19.525957",
     "exception": false,
     "start_time": "2025-03-04T02:02:19.513250",
     "status": "completed"
    },
    "tags": []
   },
   "outputs": [],
   "source": [
    "def cosine_distance(x, y):\n",
    "    return 1 - torch.nn.functional.cosine_similarity(x, y, dim=-1)"
   ]
  },
  {
   "cell_type": "code",
   "execution_count": 20,
   "id": "36e5cbce",
   "metadata": {
    "execution": {
     "iopub.execute_input": "2025-03-04T02:02:19.532324Z",
     "iopub.status.busy": "2025-03-04T02:02:19.532189Z",
     "iopub.status.idle": "2025-03-04T02:02:19.541567Z",
     "shell.execute_reply": "2025-03-04T02:02:19.541218Z"
    },
    "papermill": {
     "duration": 0.013409,
     "end_time": "2025-03-04T02:02:19.542326",
     "exception": false,
     "start_time": "2025-03-04T02:02:19.528917",
     "status": "completed"
    },
    "tags": []
   },
   "outputs": [],
   "source": [
    "def avg_embedding(inputs, model):\n",
    "    input=model(**inputs)\n",
    "    input_last_hidden_state=input.last_hidden_state\n",
    "    input_attention_mask = inputs['attention_mask']\n",
    "    input_masked_embeddings = input_last_hidden_state * input_attention_mask.unsqueeze(-1)\n",
    "    input_sum_embeddings = torch.sum(input_masked_embeddings, dim=1)\n",
    "    input_token_counts = torch.sum(input_attention_mask, dim=1).unsqueeze(-1)\n",
    "    input_avg_embeddings = input_sum_embeddings / input_token_counts\n",
    "    return(input_avg_embeddings)"
   ]
  },
  {
   "cell_type": "code",
   "execution_count": 21,
   "id": "59d75ca7",
   "metadata": {
    "execution": {
     "iopub.execute_input": "2025-03-04T02:02:19.548733Z",
     "iopub.status.busy": "2025-03-04T02:02:19.548603Z",
     "iopub.status.idle": "2025-03-04T02:02:19.559326Z",
     "shell.execute_reply": "2025-03-04T02:02:19.558916Z"
    },
    "papermill": {
     "duration": 0.014708,
     "end_time": "2025-03-04T02:02:19.560042",
     "exception": false,
     "start_time": "2025-03-04T02:02:19.545334",
     "status": "completed"
    },
    "tags": []
   },
   "outputs": [],
   "source": [
    "def evaluate_mrr(model, data_loader_val, distance_fn):\n",
    "    model.eval()  \n",
    "\n",
    "    total_rr = 0.0\n",
    "    num_queries = 0\n",
    "\n",
    "    with torch.no_grad():\n",
    "        for batch in data_loader_val:\n",
    "            anchor_text = batch[0]\n",
    "            positive_text = batch[1]\n",
    "            negative_texts = batch[2]\n",
    "\n",
    "            anchor_input = tokenizer(anchor_text, return_tensors='pt', padding=True, truncation=True, max_length=512).to(device)\n",
    "            positive_input = tokenizer(positive_text, return_tensors='pt', padding=True, truncation=True, max_length=512).to(device)\n",
    "\n",
    "            anchor_embedding = avg_embedding(anchor_input, model)\n",
    "            positive_embedding = avg_embedding(positive_input, model)\n",
    "            negative_embedding = [avg_embedding(tokenizer(neg, return_tensors='pt', padding=True, truncation=True, max_length=512).to(device), model) for neg in negative_texts]\n",
    "\n",
    "            pos_dist = distance_fn(anchor_embedding, positive_embedding)\n",
    "            neg_dist = torch.stack([distance_fn(anchor_embedding, neg) for neg in negative_embedding], dim=-1)\n",
    "            all_similarities=torch.cat([-pos_dist.unsqueeze(1), -neg_dist], dim=1)\n",
    "            \n",
    "            sorted_similarities, sorted_indices = torch.sort(all_similarities, dim=1, descending=True)\n",
    "\n",
    "            # Find the rank of the first relevant (positive) document\n",
    "            positive_rank = (sorted_indices == 0).nonzero(as_tuple=True)[1] + 1  # +1 to make rank 1-based\n",
    "            total_rr += torch.sum(1.0 / positive_rank.float()).item()  # Reciprocal rank\n",
    "            num_queries += len(positive_rank)\n",
    "\n",
    "    mrr = total_rr / num_queries\n",
    "    return mrr"
   ]
  },
  {
   "cell_type": "code",
   "execution_count": 22,
   "id": "02ec2f61",
   "metadata": {
    "execution": {
     "iopub.execute_input": "2025-03-04T02:02:19.567174Z",
     "iopub.status.busy": "2025-03-04T02:02:19.566473Z",
     "iopub.status.idle": "2025-03-04T02:04:11.527688Z",
     "shell.execute_reply": "2025-03-04T02:04:11.526432Z"
    },
    "papermill": {
     "duration": 111.967191,
     "end_time": "2025-03-04T02:04:11.530334",
     "exception": false,
     "start_time": "2025-03-04T02:02:19.563143",
     "status": "completed"
    },
    "tags": []
   },
   "outputs": [
    {
     "name": "stdout",
     "output_type": "stream",
     "text": [
      "0.5422079234541066\n"
     ]
    }
   ],
   "source": [
    "mrr_validation = evaluate_mrr(lora_model, data_loader_val, cosine_distance)\n",
    "print(mrr_validation)"
   ]
  },
  {
   "cell_type": "code",
   "execution_count": null,
   "id": "da210b2f",
   "metadata": {
    "papermill": {
     "duration": 0.002943,
     "end_time": "2025-03-04T02:04:11.536432",
     "exception": false,
     "start_time": "2025-03-04T02:04:11.533489",
     "status": "completed"
    },
    "tags": []
   },
   "outputs": [],
   "source": []
  }
 ],
 "metadata": {
  "kernelspec": {
   "display_name": "Python (myenv)",
   "language": "python",
   "name": "myenv"
  },
  "language_info": {
   "codemirror_mode": {
    "name": "ipython",
    "version": 3
   },
   "file_extension": ".py",
   "mimetype": "text/x-python",
   "name": "python",
   "nbconvert_exporter": "python",
   "pygments_lexer": "ipython3",
   "version": "3.12.7"
  },
  "papermill": {
   "default_parameters": {},
   "duration": 129.165009,
   "end_time": "2025-03-04T02:04:13.058708",
   "environment_variables": {},
   "exception": null,
   "input_path": "2average.ipynb",
   "output_path": "2average_output.ipynb",
   "parameters": {},
   "start_time": "2025-03-04T02:02:03.893699",
   "version": "2.6.0"
  }
 },
 "nbformat": 4,
 "nbformat_minor": 5
}