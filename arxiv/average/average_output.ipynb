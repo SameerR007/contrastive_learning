{
 "cells": [
  {
   "cell_type": "code",
   "execution_count": 1,
   "id": "c643a105",
   "metadata": {
    "execution": {
     "iopub.execute_input": "2025-02-12T14:52:37.393516Z",
     "iopub.status.busy": "2025-02-12T14:52:37.393382Z",
     "iopub.status.idle": "2025-02-12T14:52:42.902381Z",
     "shell.execute_reply": "2025-02-12T14:52:42.901895Z"
    },
    "papermill": {
     "duration": 5.51681,
     "end_time": "2025-02-12T14:52:42.903558",
     "exception": false,
     "start_time": "2025-02-12T14:52:37.386748",
     "status": "completed"
    },
    "tags": []
   },
   "outputs": [],
   "source": [
    "from datasets import load_dataset"
   ]
  },
  {
   "cell_type": "code",
   "execution_count": 2,
   "id": "bcba0194",
   "metadata": {
    "execution": {
     "iopub.execute_input": "2025-02-12T14:52:42.920490Z",
     "iopub.status.busy": "2025-02-12T14:52:42.920260Z",
     "iopub.status.idle": "2025-02-12T14:52:45.398183Z",
     "shell.execute_reply": "2025-02-12T14:52:45.397769Z"
    },
    "papermill": {
     "duration": 2.48537,
     "end_time": "2025-02-12T14:52:45.399112",
     "exception": false,
     "start_time": "2025-02-12T14:52:42.913742",
     "status": "completed"
    },
    "tags": []
   },
   "outputs": [],
   "source": [
    "dataset = load_dataset(\"CShorten/ML-ArXiv-Papers\")"
   ]
  },
  {
   "cell_type": "code",
   "execution_count": 3,
   "id": "9c77ff31",
   "metadata": {
    "execution": {
     "iopub.execute_input": "2025-02-12T14:52:45.412487Z",
     "iopub.status.busy": "2025-02-12T14:52:45.412346Z",
     "iopub.status.idle": "2025-02-12T14:52:45.417936Z",
     "shell.execute_reply": "2025-02-12T14:52:45.417528Z"
    },
    "papermill": {
     "duration": 0.012211,
     "end_time": "2025-02-12T14:52:45.418776",
     "exception": false,
     "start_time": "2025-02-12T14:52:45.406565",
     "status": "completed"
    },
    "tags": []
   },
   "outputs": [
    {
     "data": {
      "text/plain": [
       "DatasetDict({\n",
       "    train: Dataset({\n",
       "        features: ['Unnamed: 0.1', 'Unnamed: 0', 'title', 'abstract'],\n",
       "        num_rows: 117592\n",
       "    })\n",
       "})"
      ]
     },
     "execution_count": 3,
     "metadata": {},
     "output_type": "execute_result"
    }
   ],
   "source": [
    "dataset"
   ]
  },
  {
   "cell_type": "code",
   "execution_count": 4,
   "id": "04a2a273",
   "metadata": {
    "execution": {
     "iopub.execute_input": "2025-02-12T14:52:45.430470Z",
     "iopub.status.busy": "2025-02-12T14:52:45.430340Z",
     "iopub.status.idle": "2025-02-12T14:52:45.483227Z",
     "shell.execute_reply": "2025-02-12T14:52:45.482769Z"
    },
    "papermill": {
     "duration": 0.059678,
     "end_time": "2025-02-12T14:52:45.484177",
     "exception": false,
     "start_time": "2025-02-12T14:52:45.424499",
     "status": "completed"
    },
    "tags": []
   },
   "outputs": [],
   "source": [
    "split_datasets = dataset[\"train\"].train_test_split(test_size=0.2)"
   ]
  },
  {
   "cell_type": "code",
   "execution_count": 5,
   "id": "9dbe1eb6",
   "metadata": {
    "execution": {
     "iopub.execute_input": "2025-02-12T14:52:45.495448Z",
     "iopub.status.busy": "2025-02-12T14:52:45.495310Z",
     "iopub.status.idle": "2025-02-12T14:52:45.498757Z",
     "shell.execute_reply": "2025-02-12T14:52:45.498352Z"
    },
    "papermill": {
     "duration": 0.009623,
     "end_time": "2025-02-12T14:52:45.499380",
     "exception": false,
     "start_time": "2025-02-12T14:52:45.489757",
     "status": "completed"
    },
    "tags": []
   },
   "outputs": [
    {
     "data": {
      "text/plain": [
       "DatasetDict({\n",
       "    train: Dataset({\n",
       "        features: ['Unnamed: 0.1', 'Unnamed: 0', 'title', 'abstract'],\n",
       "        num_rows: 94073\n",
       "    })\n",
       "    test: Dataset({\n",
       "        features: ['Unnamed: 0.1', 'Unnamed: 0', 'title', 'abstract'],\n",
       "        num_rows: 23519\n",
       "    })\n",
       "})"
      ]
     },
     "execution_count": 5,
     "metadata": {},
     "output_type": "execute_result"
    }
   ],
   "source": [
    "split_datasets"
   ]
  },
  {
   "cell_type": "code",
   "execution_count": 6,
   "id": "3e518138",
   "metadata": {
    "execution": {
     "iopub.execute_input": "2025-02-12T14:52:45.510104Z",
     "iopub.status.busy": "2025-02-12T14:52:45.509978Z",
     "iopub.status.idle": "2025-02-12T14:52:45.512237Z",
     "shell.execute_reply": "2025-02-12T14:52:45.511899Z"
    },
    "papermill": {
     "duration": 0.008712,
     "end_time": "2025-02-12T14:52:45.513122",
     "exception": false,
     "start_time": "2025-02-12T14:52:45.504410",
     "status": "completed"
    },
    "tags": []
   },
   "outputs": [],
   "source": [
    "dataset_train = split_datasets[\"train\"]"
   ]
  },
  {
   "cell_type": "code",
   "execution_count": 7,
   "id": "0f892510",
   "metadata": {
    "execution": {
     "iopub.execute_input": "2025-02-12T14:52:45.524611Z",
     "iopub.status.busy": "2025-02-12T14:52:45.524485Z",
     "iopub.status.idle": "2025-02-12T14:52:45.528065Z",
     "shell.execute_reply": "2025-02-12T14:52:45.527627Z"
    },
    "papermill": {
     "duration": 0.010303,
     "end_time": "2025-02-12T14:52:45.528770",
     "exception": false,
     "start_time": "2025-02-12T14:52:45.518467",
     "status": "completed"
    },
    "tags": []
   },
   "outputs": [
    {
     "data": {
      "text/plain": [
       "Dataset({\n",
       "    features: ['Unnamed: 0.1', 'Unnamed: 0', 'title', 'abstract'],\n",
       "    num_rows: 94073\n",
       "})"
      ]
     },
     "execution_count": 7,
     "metadata": {},
     "output_type": "execute_result"
    }
   ],
   "source": [
    "dataset_train"
   ]
  },
  {
   "cell_type": "code",
   "execution_count": 8,
   "id": "135d2875",
   "metadata": {
    "execution": {
     "iopub.execute_input": "2025-02-12T14:52:45.539945Z",
     "iopub.status.busy": "2025-02-12T14:52:45.539820Z",
     "iopub.status.idle": "2025-02-12T14:52:45.547226Z",
     "shell.execute_reply": "2025-02-12T14:52:45.546623Z"
    },
    "papermill": {
     "duration": 0.013973,
     "end_time": "2025-02-12T14:52:45.547969",
     "exception": false,
     "start_time": "2025-02-12T14:52:45.533996",
     "status": "completed"
    },
    "tags": []
   },
   "outputs": [],
   "source": [
    "dataset_train = dataset_train.remove_columns(['Unnamed: 0','Unnamed: 0.1'])"
   ]
  },
  {
   "cell_type": "code",
   "execution_count": 9,
   "id": "cbcdbc4c",
   "metadata": {
    "execution": {
     "iopub.execute_input": "2025-02-12T14:52:45.559456Z",
     "iopub.status.busy": "2025-02-12T14:52:45.559180Z",
     "iopub.status.idle": "2025-02-12T14:52:45.562658Z",
     "shell.execute_reply": "2025-02-12T14:52:45.562256Z"
    },
    "papermill": {
     "duration": 0.010004,
     "end_time": "2025-02-12T14:52:45.563438",
     "exception": false,
     "start_time": "2025-02-12T14:52:45.553434",
     "status": "completed"
    },
    "tags": []
   },
   "outputs": [
    {
     "data": {
      "text/plain": [
       "Dataset({\n",
       "    features: ['title', 'abstract'],\n",
       "    num_rows: 94073\n",
       "})"
      ]
     },
     "execution_count": 9,
     "metadata": {},
     "output_type": "execute_result"
    }
   ],
   "source": [
    "dataset_train"
   ]
  },
  {
   "cell_type": "code",
   "execution_count": 10,
   "id": "1c3dbc53",
   "metadata": {
    "execution": {
     "iopub.execute_input": "2025-02-12T14:52:45.574732Z",
     "iopub.status.busy": "2025-02-12T14:52:45.574608Z",
     "iopub.status.idle": "2025-02-12T14:52:45.584283Z",
     "shell.execute_reply": "2025-02-12T14:52:45.583890Z"
    },
    "papermill": {
     "duration": 0.016072,
     "end_time": "2025-02-12T14:52:45.584890",
     "exception": false,
     "start_time": "2025-02-12T14:52:45.568818",
     "status": "completed"
    },
    "tags": []
   },
   "outputs": [
    {
     "data": {
      "text/plain": [
       "{'title': 'Fast Transient Simulation of High-Speed Channels Using Recurrent Neural\\n  Network',\n",
       " 'abstract': '  Generating eye diagrams by using a circuit simulator can be very\\ncomputationally intensive, especially in the presence of nonlinearities. It\\noften involves multiple Newton-like iterations at every time step when a\\nSPICE-like circuit simulator handles a nonlinear system in the transient\\nregime. In this paper, we leverage machine learning methods, to be specific,\\nthe recurrent neural network (RNN), to generate black-box macromodels and\\nachieve significant reduction of computation time. Through the proposed\\napproach, an RNN model is first trained and then validated on a relatively\\nshort sequence generated from a circuit simulator. Once the training completes,\\nthe RNN can be used to make predictions on the remaining sequence in order to\\ngenerate an eye diagram. The training cost can also be amortized when the\\ntrained RNN starts making predictions. Besides, the proposed approach requires\\nno complex circuit simulations nor substantial domain knowledge. We use two\\nhigh-speed link examples to demonstrate that the proposed approach provides\\nadequate accuracy while the computation time can be dramatically reduced. In\\nthe high-speed link example with a PAM4 driver, the eye diagram generated by\\nRNN models shows good agreement with that obtained from a commercial circuit\\nsimulator. This paper also investigates the impacts of various RNN topologies,\\ntraining schemes, and tunable parameters on both the accuracy and the\\ngeneralization capability of an RNN model. It is found out that the long\\nshort-term memory (LSTM) network outperforms the vanilla RNN in terms of the\\naccuracy in predicting transient waveforms.\\n'}"
      ]
     },
     "execution_count": 10,
     "metadata": {},
     "output_type": "execute_result"
    }
   ],
   "source": [
    "dataset_train[0]"
   ]
  },
  {
   "cell_type": "code",
   "execution_count": 11,
   "id": "045e63c7",
   "metadata": {
    "execution": {
     "iopub.execute_input": "2025-02-12T14:52:45.596412Z",
     "iopub.status.busy": "2025-02-12T14:52:45.596286Z",
     "iopub.status.idle": "2025-02-12T14:52:51.171825Z",
     "shell.execute_reply": "2025-02-12T14:52:51.170993Z"
    },
    "papermill": {
     "duration": 5.582479,
     "end_time": "2025-02-12T14:52:51.172890",
     "exception": false,
     "start_time": "2025-02-12T14:52:45.590411",
     "status": "completed"
    },
    "tags": []
   },
   "outputs": [
    {
     "data": {
      "application/vnd.jupyter.widget-view+json": {
       "model_id": "a5d5c0541ffb4892a88f824eee3465c1",
       "version_major": 2,
       "version_minor": 0
      },
      "text/plain": [
       "Map:   0%|          | 0/94073 [00:00<?, ? examples/s]"
      ]
     },
     "metadata": {},
     "output_type": "display_data"
    }
   ],
   "source": [
    "dataset_train = dataset_train.map(lambda x, idx: { 'index': idx }, with_indices=True)"
   ]
  },
  {
   "cell_type": "code",
   "execution_count": 12,
   "id": "f4e9748a",
   "metadata": {
    "execution": {
     "iopub.execute_input": "2025-02-12T14:52:51.187853Z",
     "iopub.status.busy": "2025-02-12T14:52:51.187707Z",
     "iopub.status.idle": "2025-02-12T14:52:51.192157Z",
     "shell.execute_reply": "2025-02-12T14:52:51.191829Z"
    },
    "papermill": {
     "duration": 0.011673,
     "end_time": "2025-02-12T14:52:51.192916",
     "exception": false,
     "start_time": "2025-02-12T14:52:51.181243",
     "status": "completed"
    },
    "tags": []
   },
   "outputs": [
    {
     "data": {
      "text/plain": [
       "Dataset({\n",
       "    features: ['title', 'abstract', 'index'],\n",
       "    num_rows: 94073\n",
       "})"
      ]
     },
     "execution_count": 12,
     "metadata": {},
     "output_type": "execute_result"
    }
   ],
   "source": [
    "dataset_train"
   ]
  },
  {
   "cell_type": "code",
   "execution_count": 13,
   "id": "69efe8a2",
   "metadata": {
    "execution": {
     "iopub.execute_input": "2025-02-12T14:52:51.204891Z",
     "iopub.status.busy": "2025-02-12T14:52:51.204584Z",
     "iopub.status.idle": "2025-02-12T14:52:51.209865Z",
     "shell.execute_reply": "2025-02-12T14:52:51.209400Z"
    },
    "papermill": {
     "duration": 0.011947,
     "end_time": "2025-02-12T14:52:51.210659",
     "exception": false,
     "start_time": "2025-02-12T14:52:51.198712",
     "status": "completed"
    },
    "tags": []
   },
   "outputs": [
    {
     "data": {
      "text/plain": [
       "{'title': 'High Fidelity 3D Reconstructions with Limited Physical Views',\n",
       " 'abstract': '  Multi-view triangulation is the gold standard for 3D reconstruction from 2D\\ncorrespondences given known calibration and sufficient views. However in\\npractice, expensive multi-view setups -- involving tens sometimes hundreds of\\ncameras -- are required in order to obtain the high fidelity 3D reconstructions\\nnecessary for many modern applications. In this paper we present a novel\\napproach that leverages recent advances in 2D-3D lifting using neural shape\\npriors while also enforcing multi-view equivariance. We show how our method can\\nachieve comparable fidelity to expensive calibrated multi-view rigs using a\\nlimited (2-3) number of uncalibrated camera views.\\n',\n",
       " 'index': 4}"
      ]
     },
     "execution_count": 13,
     "metadata": {},
     "output_type": "execute_result"
    }
   ],
   "source": [
    "dataset_train[4]"
   ]
  },
  {
   "cell_type": "code",
   "execution_count": 14,
   "id": "63f1c92e",
   "metadata": {
    "execution": {
     "iopub.execute_input": "2025-02-12T14:52:51.223168Z",
     "iopub.status.busy": "2025-02-12T14:52:51.223042Z",
     "iopub.status.idle": "2025-02-12T14:52:51.227277Z",
     "shell.execute_reply": "2025-02-12T14:52:51.226959Z"
    },
    "papermill": {
     "duration": 0.01128,
     "end_time": "2025-02-12T14:52:51.227868",
     "exception": false,
     "start_time": "2025-02-12T14:52:51.216588",
     "status": "completed"
    },
    "tags": []
   },
   "outputs": [
    {
     "data": {
      "text/plain": [
       "{'title': 'AI Fairness via Domain Adaptation',\n",
       " 'abstract': '  While deep learning (DL) approaches are reaching human-level performance for\\nmany tasks, including for diagnostics AI, the focus is now on challenges\\npossibly affecting DL deployment, including AI privacy, domain generalization,\\nand fairness. This last challenge is addressed in this study. Here we look at a\\nnovel method for ensuring AI fairness with respect to protected or sensitive\\nfactors. This method uses domain adaptation via training set enhancement to\\ntackle bias-causing training data imbalance. More specifically, it uses\\ngenerative models that allow the generation of more synthetic training samples\\nfor underrepresented populations. This paper applies this method to the use\\ncase of detection of age related macular degeneration (AMD). Our experiments\\nshow that starting with an originally biased AMD diagnostics model the method\\nhas the ability to improve fairness.\\n',\n",
       " 'index': 20572}"
      ]
     },
     "execution_count": 14,
     "metadata": {},
     "output_type": "execute_result"
    }
   ],
   "source": [
    "dataset_train[20572]"
   ]
  },
  {
   "cell_type": "code",
   "execution_count": 15,
   "id": "e9993947",
   "metadata": {
    "execution": {
     "iopub.execute_input": "2025-02-12T14:52:51.239895Z",
     "iopub.status.busy": "2025-02-12T14:52:51.239774Z",
     "iopub.status.idle": "2025-02-12T14:52:51.289613Z",
     "shell.execute_reply": "2025-02-12T14:52:51.289137Z"
    },
    "papermill": {
     "duration": 0.056695,
     "end_time": "2025-02-12T14:52:51.290561",
     "exception": false,
     "start_time": "2025-02-12T14:52:51.233866",
     "status": "completed"
    },
    "tags": []
   },
   "outputs": [],
   "source": [
    "import numpy as np\n",
    "all_indexes = np.array(dataset_train['index'])"
   ]
  },
  {
   "cell_type": "code",
   "execution_count": 16,
   "id": "3c956f8e",
   "metadata": {
    "execution": {
     "iopub.execute_input": "2025-02-12T14:52:51.303830Z",
     "iopub.status.busy": "2025-02-12T14:52:51.303697Z",
     "iopub.status.idle": "2025-02-12T14:52:51.307548Z",
     "shell.execute_reply": "2025-02-12T14:52:51.307075Z"
    },
    "papermill": {
     "duration": 0.011094,
     "end_time": "2025-02-12T14:52:51.308435",
     "exception": false,
     "start_time": "2025-02-12T14:52:51.297341",
     "status": "completed"
    },
    "tags": []
   },
   "outputs": [],
   "source": [
    "import random\n",
    "\n",
    "def generate_hard_negatives(example, num_negatives=10,dataset=dataset_train):\n",
    "    query_index = example['index'] \n",
    "    anchor = example['title']\n",
    "    positive = example['abstract']\n",
    "    \n",
    "    negatives = []\n",
    "    \n",
    "    negative_indexes = np.delete(all_indexes, np.where(all_indexes == query_index))\n",
    "    \n",
    "    sampled_negatives = random.sample(list(negative_indexes), num_negatives)\n",
    "    \n",
    "    for idx in sampled_negatives:\n",
    "        negatives.append(dataset[int(idx)]['abstract'])\n",
    "    \n",
    "    return {\n",
    "        \"query\": anchor,\n",
    "        \"positive\": positive,\n",
    "        \"negatives\": negatives\n",
    "    }"
   ]
  },
  {
   "cell_type": "code",
   "execution_count": 17,
   "id": "6ab12866",
   "metadata": {
    "execution": {
     "iopub.execute_input": "2025-02-12T14:52:51.321081Z",
     "iopub.status.busy": "2025-02-12T14:52:51.320958Z",
     "iopub.status.idle": "2025-02-12T15:00:50.346929Z",
     "shell.execute_reply": "2025-02-12T15:00:50.346404Z"
    },
    "papermill": {
     "duration": 479.033542,
     "end_time": "2025-02-12T15:00:50.348048",
     "exception": false,
     "start_time": "2025-02-12T14:52:51.314506",
     "status": "completed"
    },
    "tags": []
   },
   "outputs": [
    {
     "data": {
      "application/vnd.jupyter.widget-view+json": {
       "model_id": "1bd81f2db7b5438182fb6ef3f6dc900b",
       "version_major": 2,
       "version_minor": 0
      },
      "text/plain": [
       "Map:   0%|          | 0/94073 [00:00<?, ? examples/s]"
      ]
     },
     "metadata": {},
     "output_type": "display_data"
    }
   ],
   "source": [
    "processed_data_train = dataset_train.map(generate_hard_negatives, remove_columns=dataset_train.column_names)"
   ]
  },
  {
   "cell_type": "code",
   "execution_count": 18,
   "id": "861c271d",
   "metadata": {
    "execution": {
     "iopub.execute_input": "2025-02-12T15:00:50.363987Z",
     "iopub.status.busy": "2025-02-12T15:00:50.363825Z",
     "iopub.status.idle": "2025-02-12T15:00:50.368106Z",
     "shell.execute_reply": "2025-02-12T15:00:50.367749Z"
    },
    "papermill": {
     "duration": 0.011877,
     "end_time": "2025-02-12T15:00:50.368678",
     "exception": false,
     "start_time": "2025-02-12T15:00:50.356801",
     "status": "completed"
    },
    "tags": []
   },
   "outputs": [
    {
     "data": {
      "text/plain": [
       "Dataset({\n",
       "    features: ['query', 'positive', 'negatives'],\n",
       "    num_rows: 94073\n",
       "})"
      ]
     },
     "execution_count": 18,
     "metadata": {},
     "output_type": "execute_result"
    }
   ],
   "source": [
    "processed_data_train"
   ]
  },
  {
   "cell_type": "code",
   "execution_count": 19,
   "id": "96368bc5",
   "metadata": {
    "execution": {
     "iopub.execute_input": "2025-02-12T15:00:50.382411Z",
     "iopub.status.busy": "2025-02-12T15:00:50.382053Z",
     "iopub.status.idle": "2025-02-12T15:00:50.397127Z",
     "shell.execute_reply": "2025-02-12T15:00:50.396778Z"
    },
    "papermill": {
     "duration": 0.022223,
     "end_time": "2025-02-12T15:00:50.397704",
     "exception": false,
     "start_time": "2025-02-12T15:00:50.375481",
     "status": "completed"
    },
    "tags": []
   },
   "outputs": [
    {
     "data": {
      "text/plain": [
       "{'query': 'Fast Transient Simulation of High-Speed Channels Using Recurrent Neural\\n  Network',\n",
       " 'positive': '  Generating eye diagrams by using a circuit simulator can be very\\ncomputationally intensive, especially in the presence of nonlinearities. It\\noften involves multiple Newton-like iterations at every time step when a\\nSPICE-like circuit simulator handles a nonlinear system in the transient\\nregime. In this paper, we leverage machine learning methods, to be specific,\\nthe recurrent neural network (RNN), to generate black-box macromodels and\\nachieve significant reduction of computation time. Through the proposed\\napproach, an RNN model is first trained and then validated on a relatively\\nshort sequence generated from a circuit simulator. Once the training completes,\\nthe RNN can be used to make predictions on the remaining sequence in order to\\ngenerate an eye diagram. The training cost can also be amortized when the\\ntrained RNN starts making predictions. Besides, the proposed approach requires\\nno complex circuit simulations nor substantial domain knowledge. We use two\\nhigh-speed link examples to demonstrate that the proposed approach provides\\nadequate accuracy while the computation time can be dramatically reduced. In\\nthe high-speed link example with a PAM4 driver, the eye diagram generated by\\nRNN models shows good agreement with that obtained from a commercial circuit\\nsimulator. This paper also investigates the impacts of various RNN topologies,\\ntraining schemes, and tunable parameters on both the accuracy and the\\ngeneralization capability of an RNN model. It is found out that the long\\nshort-term memory (LSTM) network outperforms the vanilla RNN in terms of the\\naccuracy in predicting transient waveforms.\\n',\n",
       " 'negatives': [\"  In recent years, distributed optimization is proven to be an effective\\napproach to accelerate training of large scale machine learning models such as\\ndeep neural networks. With the increasing computation power of GPUs, the\\nbottleneck of training speed in distributed training is gradually shifting from\\ncomputation to communication. Meanwhile, in the hope of training machine\\nlearning models on mobile devices, a new distributed training paradigm called\\n``federated learning'' has become popular. The communication time in federated\\nlearning is especially important due to the low bandwidth of mobile devices.\\nWhile various approaches to improve the communication efficiency have been\\nproposed for federated learning, most of them are designed with SGD as the\\nprototype training algorithm. While adaptive gradient methods have been proven\\neffective for training neural nets, the study of adaptive gradient methods in\\nfederated learning is scarce. In this paper, we propose an adaptive gradient\\nmethod that can guarantee both the convergence and the communication efficiency\\nfor federated learning.\\n\",\n",
       "  '  Channel estimation is a critical task in digital communications that greatly\\nimpacts end-to-end system performance. In this work, we introduce a novel\\napproach for multiple-input multiple-output (MIMO) channel estimation using\\nscore-based generative models. Our method uses a deep neural network that is\\ntrained to estimate the gradient of the log-prior of wireless channels at any\\npoint in high-dimensional space, and leverages this model to solve channel\\nestimation via posterior sampling. We train a score-based model on channel\\nrealizations from the CDL-D model for two antenna spacings and show that the\\napproach leads to competitive in- and out-of-distribution performance when\\ncompared to generative adversarial network (GAN) and compressed sensing (CS)\\nmethods. When tested on CDL-D channels, the approach leads to a gain of at\\nleast $5$ dB in channel estimation error compared to GAN methods\\nin-distribution at $\\\\lambda/2$ antenna spacing. When tested on CDL-C channels\\nwhich are never seen during training or fine-tuned on, the approach leads to\\nend-to-end coded performance gains of up to $3$ dB compared to CS methods and\\nlosses of only $0.5$ dB compared to ideal channel knowledge.\\n',\n",
       "  '  Real-world data often exhibit imbalanced label distributions. Existing\\nstudies on data imbalance focus on single-domain settings, i.e., samples are\\nfrom the same data distribution. However, natural data can originate from\\ndistinct domains, where a minority class in one domain could have abundant\\ninstances from other domains. We formalize the task of Multi-Domain Long-Tailed\\nRecognition (MDLT), which learns from multi-domain imbalanced data, addresses\\nlabel imbalance, domain shift, and divergent label distributions across\\ndomains, and generalizes to all domain-class pairs. We first develop the\\ndomain-class transferability graph, and show that such transferability governs\\nthe success of learning in MDLT. We then propose BoDA, a theoretically grounded\\nlearning strategy that tracks the upper bound of transferability statistics,\\nand ensures balanced alignment and calibration across imbalanced domain-class\\ndistributions. We curate five MDLT benchmarks based on widely-used multi-domain\\ndatasets, and compare BoDA to twenty algorithms that span different learning\\nstrategies. Extensive and rigorous experiments verify the superior performance\\nof BoDA. Further, as a byproduct, BoDA establishes new state-of-the-art on\\nDomain Generalization benchmarks, improving generalization to unseen domains.\\nCode and data are available at\\nhttps://github.com/YyzHarry/multi-domain-imbalance.\\n',\n",
       "  '  The extraction and proper utilization of convolution neural network (CNN)\\nfeatures have a significant impact on the performance of image super-resolution\\n(SR). Although CNN features contain both the spatial and channel information,\\ncurrent deep techniques on SR often suffer to maximize performance due to using\\neither the spatial or channel information. Moreover, they integrate such\\ninformation within a deep or wide network rather than exploiting all the\\navailable features, eventually resulting in high computational complexity. To\\naddress these issues, we present a binarized feature fusion (BFF) structure\\nthat utilizes the extracted features from residual groups (RG) in an effective\\nway. Each residual group (RG) consists of multiple hybrid residual attention\\nblocks (HRAB) that effectively integrates the multiscale feature extraction\\nmodule and channel attention mechanism in a single block. Furthermore, we use\\ndilated convolutions with different dilation factors to extract multiscale\\nfeatures. We also propose to adopt global, short and long skip connections and\\nresidual groups (RG) structure to ease the flow of information without losing\\nimportant features details. In the paper, we call this overall network\\narchitecture as hybrid residual attention network (HRAN). In the experiment, we\\nhave observed the efficacy of our method against the state-of-the-art methods\\nfor both the quantitative and qualitative comparisons.\\n',\n",
       "  '  AI is increasingly used to aid decision-making about the allocation of scarce\\nsocietal resources, for example housing for homeless people, organs for\\ntransplantation, and food donations. Recently, there have been several\\nproposals for how to design objectives for these systems that attempt to\\nachieve some combination of fairness, efficiency, incentive compatibility, and\\nsatisfactory aggregation of stakeholder preferences. This paper lays out\\npossible roles and opportunities for AI in this domain, arguing for a closer\\nengagement with the political philosophy literature on local justice, which\\nprovides a framework for thinking about how societies have over time framed\\nobjectives for such allocation problems. It also discusses how we may be able\\nto integrate into this framework the opportunities and risks opened up by the\\nubiquity of data and the availability of algorithms that can use them to make\\naccurate predictions about the future.\\n',\n",
       "  '  SARSA is an on-policy algorithm to learn a Markov decision process policy in\\nreinforcement learning. We investigate the SARSA algorithm with linear function\\napproximation under the non-i.i.d.\\\\ data, where a single sample trajectory is\\navailable. With a Lipschitz continuous policy improvement operator that is\\nsmooth enough, SARSA has been shown to converge asymptotically\\n\\\\cite{perkins2003convergent,melo2008analysis}. However, its non-asymptotic\\nanalysis is challenging and remains unsolved due to the non-i.i.d. samples and\\nthe fact that the behavior policy changes dynamically with time. In this paper,\\nwe develop a novel technique to explicitly characterize the stochastic bias of\\na type of stochastic approximation procedures with time-varying Markov\\ntransition kernels. Our approach enables non-asymptotic convergence analyses of\\nthis type of stochastic approximation algorithms, which may be of independent\\ninterest. Using our bias characterization technique and a gradient descent type\\nof analysis, we provide the finite-sample analysis on the mean square error of\\nthe SARSA algorithm. We then further study a fitted SARSA algorithm, which\\nincludes the original SARSA algorithm and its variant in\\n\\\\cite{perkins2003convergent} as special cases. This fitted SARSA algorithm\\nprovides a more general framework for \\\\textit{iterative} on-policy fitted\\npolicy iteration, which is more memory and computationally efficient. For this\\nfitted SARSA algorithm, we also provide its finite-sample analysis.\\n',\n",
       "  '  Riemannian manifolds provide a principled way to model nonlinear geometric\\nstructure inherent in data. A Riemannian metric on said manifolds determines\\ngeometry-aware shortest paths and provides the means to define statistical\\nmodels accordingly. However, these operations are typically computationally\\ndemanding. To ease this computational burden, we advocate probabilistic\\nnumerical methods for Riemannian statistics. In particular, we focus on\\nBayesian quadrature (BQ) to numerically compute integrals over normal laws on\\nRiemannian manifolds learned from data. In this task, each function evaluation\\nrelies on the solution of an expensive initial value problem. We show that by\\nleveraging both prior knowledge and an active exploration scheme, BQ\\nsignificantly reduces the number of required evaluations and thus outperforms\\nMonte Carlo methods on a wide range of integration problems. As a concrete\\napplication, we highlight the merits of adopting Riemannian geometry with our\\nproposed framework on a nonlinear dataset from molecular dynamics.\\n',\n",
       "  \"  We propose the Heterogeneous Thurstone Model (HTM) for aggregating ranked\\ndata, which can take the accuracy levels of different users into account. By\\nallowing different noise distributions, the proposed HTM model maintains the\\ngenerality of Thurstone's original framework, and as such, also extends the\\nBradley-Terry-Luce (BTL) model for pairwise comparisons to heterogeneous\\npopulations of users. Under this framework, we also propose a rank aggregation\\nalgorithm based on alternating gradient descent to estimate the underlying item\\nscores and accuracy levels of different users simultaneously from noisy\\npairwise comparisons. We theoretically prove that the proposed algorithm\\nconverges linearly up to a statistical error which matches that of the\\nstate-of-the-art method for the single-user BTL model. We evaluate the proposed\\nHTM model and algorithm on both synthetic and real data, demonstrating that it\\noutperforms existing methods.\\n\",\n",
       "  '  We study Label-Smoothing as a means for improving adversarial robustness of\\nsupervised deep-learning models. After establishing a thorough and unified\\nframework, we propose several variations to this general method: adversarial,\\nBoltzmann and second-best Label-Smoothing methods, and we explain how to\\nconstruct your own one. On various datasets (MNIST, CIFAR10, SVHN) and models\\n(linear models, MLPs, LeNet, ResNet), we show that Label-Smoothing in general\\nimproves adversarial robustness against a variety of attacks (FGSM, BIM,\\nDeepFool, Carlini-Wagner) by better taking account of the dataset geometry. The\\nproposed Label-Smoothing methods have two main advantages: they can be\\nimplemented as a modified cross-entropy loss, thus do not require any\\nmodifications of the network architecture nor do they lead to increased\\ntraining times, and they improve both standard and adversarial accuracy.\\n',\n",
       "  'Can language models read biomedical texts and explain the biomedical\\nmechanisms discussed? In this work we introduce a biomedical mechanism\\nsummarization task. Biomedical studies often investigate the mechanisms behind\\nhow one entity (e.g., a protein or a chemical) affects another in a biological\\ncontext. The abstracts of these publications often include a focused set of\\nsentences that present relevant supporting statements regarding such\\nrelationships, associated experimental evidence, and a concluding sentence that\\nsummarizes the mechanism underlying the relationship. We leverage this\\nstructure and create a summarization task, where the input is a collection of\\nsentences and the main entities in an abstract, and the output includes the\\nrelationship and a sentence that summarizes the mechanism. Using a small amount\\nof manually labeled mechanism sentences, we train a mechanism sentence\\nclassifier to filter a large biomedical abstract collection and create a\\nsummarization dataset with 22k instances. We also introduce conclusion sentence\\ngeneration as a pretraining task with 611k instances. We benchmark the\\nperformance of large bio-domain language models. We find that while the\\npretraining task help improves performance, the best model produces acceptable\\nmechanism outputs in only 32% of the instances, which shows the task presents\\nsignificant challenges in biomedical language understanding and summarization.']}"
      ]
     },
     "execution_count": 19,
     "metadata": {},
     "output_type": "execute_result"
    }
   ],
   "source": [
    "processed_data_train[0]"
   ]
  },
  {
   "cell_type": "code",
   "execution_count": 20,
   "id": "6188e153",
   "metadata": {
    "execution": {
     "iopub.execute_input": "2025-02-12T15:00:50.411045Z",
     "iopub.status.busy": "2025-02-12T15:00:50.410915Z",
     "iopub.status.idle": "2025-02-12T15:00:58.678223Z",
     "shell.execute_reply": "2025-02-12T15:00:58.677689Z"
    },
    "papermill": {
     "duration": 8.275112,
     "end_time": "2025-02-12T15:00:58.679181",
     "exception": false,
     "start_time": "2025-02-12T15:00:50.404069",
     "status": "completed"
    },
    "tags": []
   },
   "outputs": [],
   "source": [
    "contrastive_pairs_train = []\n",
    "for item in processed_data_train:\n",
    "    query = item[\"query\"]\n",
    "    positive = item[\"positive\"]\n",
    "    negatives = item[\"negatives\"]\n",
    "    contrastive_pairs_train.append({\n",
    "        \"anchor\": query,\n",
    "        \"positive\": positive,\n",
    "        \"negatives\": negatives\n",
    "    })"
   ]
  },
  {
   "cell_type": "code",
   "execution_count": 21,
   "id": "669c6a2e",
   "metadata": {
    "execution": {
     "iopub.execute_input": "2025-02-12T15:00:58.696511Z",
     "iopub.status.busy": "2025-02-12T15:00:58.696367Z",
     "iopub.status.idle": "2025-02-12T15:00:58.700709Z",
     "shell.execute_reply": "2025-02-12T15:00:58.700326Z"
    },
    "papermill": {
     "duration": 0.01251,
     "end_time": "2025-02-12T15:00:58.701473",
     "exception": false,
     "start_time": "2025-02-12T15:00:58.688963",
     "status": "completed"
    },
    "tags": []
   },
   "outputs": [
    {
     "data": {
      "text/plain": [
       "94073"
      ]
     },
     "execution_count": 21,
     "metadata": {},
     "output_type": "execute_result"
    }
   ],
   "source": [
    "len(contrastive_pairs_train)"
   ]
  },
  {
   "cell_type": "code",
   "execution_count": 22,
   "id": "670559eb",
   "metadata": {
    "execution": {
     "iopub.execute_input": "2025-02-12T15:00:58.714741Z",
     "iopub.status.busy": "2025-02-12T15:00:58.714614Z",
     "iopub.status.idle": "2025-02-12T15:01:09.135899Z",
     "shell.execute_reply": "2025-02-12T15:01:09.135256Z"
    },
    "papermill": {
     "duration": 10.429069,
     "end_time": "2025-02-12T15:01:09.136906",
     "exception": false,
     "start_time": "2025-02-12T15:00:58.707837",
     "status": "completed"
    },
    "tags": []
   },
   "outputs": [],
   "source": [
    "from torch.utils.data import DataLoader"
   ]
  },
  {
   "cell_type": "code",
   "execution_count": 23,
   "id": "927b2173",
   "metadata": {
    "execution": {
     "iopub.execute_input": "2025-02-12T15:01:09.153711Z",
     "iopub.status.busy": "2025-02-12T15:01:09.153069Z",
     "iopub.status.idle": "2025-02-12T15:01:09.156667Z",
     "shell.execute_reply": "2025-02-12T15:01:09.156255Z"
    },
    "papermill": {
     "duration": 0.011186,
     "end_time": "2025-02-12T15:01:09.157283",
     "exception": false,
     "start_time": "2025-02-12T15:01:09.146097",
     "status": "completed"
    },
    "tags": []
   },
   "outputs": [],
   "source": [
    "class ContrastiveDataset:\n",
    "    def __init__(self, pairs):\n",
    "        self.pairs = pairs\n",
    "\n",
    "    def __len__(self):\n",
    "        return len(self.pairs)\n",
    "\n",
    "    def __getitem__(self, idx):\n",
    "        item = self.pairs[idx]\n",
    "        return item[\"anchor\"], item[\"positive\"], item[\"negatives\"]"
   ]
  },
  {
   "cell_type": "code",
   "execution_count": 24,
   "id": "6918b6f3",
   "metadata": {
    "execution": {
     "iopub.execute_input": "2025-02-12T15:01:09.171018Z",
     "iopub.status.busy": "2025-02-12T15:01:09.170523Z",
     "iopub.status.idle": "2025-02-12T15:01:09.210492Z",
     "shell.execute_reply": "2025-02-12T15:01:09.210010Z"
    },
    "papermill": {
     "duration": 0.047344,
     "end_time": "2025-02-12T15:01:09.211103",
     "exception": false,
     "start_time": "2025-02-12T15:01:09.163759",
     "status": "completed"
    },
    "tags": []
   },
   "outputs": [],
   "source": [
    "contrastive_dataset_train = ContrastiveDataset(contrastive_pairs_train)"
   ]
  },
  {
   "cell_type": "code",
   "execution_count": 25,
   "id": "362b05af",
   "metadata": {
    "execution": {
     "iopub.execute_input": "2025-02-12T15:01:09.260959Z",
     "iopub.status.busy": "2025-02-12T15:01:09.260271Z",
     "iopub.status.idle": "2025-02-12T15:01:09.263555Z",
     "shell.execute_reply": "2025-02-12T15:01:09.263114Z"
    },
    "papermill": {
     "duration": 0.046562,
     "end_time": "2025-02-12T15:01:09.264159",
     "exception": false,
     "start_time": "2025-02-12T15:01:09.217597",
     "status": "completed"
    },
    "tags": []
   },
   "outputs": [],
   "source": [
    "data_loader_train = DataLoader(contrastive_dataset_train, batch_size=8, shuffle=True)"
   ]
  },
  {
   "cell_type": "code",
   "execution_count": 26,
   "id": "9e89b105",
   "metadata": {
    "execution": {
     "iopub.execute_input": "2025-02-12T15:01:09.278241Z",
     "iopub.status.busy": "2025-02-12T15:01:09.277708Z",
     "iopub.status.idle": "2025-02-12T15:01:09.281314Z",
     "shell.execute_reply": "2025-02-12T15:01:09.280884Z"
    },
    "papermill": {
     "duration": 0.011075,
     "end_time": "2025-02-12T15:01:09.281951",
     "exception": false,
     "start_time": "2025-02-12T15:01:09.270876",
     "status": "completed"
    },
    "tags": []
   },
   "outputs": [
    {
     "data": {
      "text/plain": [
       "11760"
      ]
     },
     "execution_count": 26,
     "metadata": {},
     "output_type": "execute_result"
    }
   ],
   "source": [
    "len(data_loader_train)"
   ]
  },
  {
   "cell_type": "code",
   "execution_count": 27,
   "id": "ec267846",
   "metadata": {
    "execution": {
     "iopub.execute_input": "2025-02-12T15:01:09.295717Z",
     "iopub.status.busy": "2025-02-12T15:01:09.295508Z",
     "iopub.status.idle": "2025-02-12T15:01:20.856838Z",
     "shell.execute_reply": "2025-02-12T15:01:20.856236Z"
    },
    "papermill": {
     "duration": 11.569199,
     "end_time": "2025-02-12T15:01:20.857849",
     "exception": false,
     "start_time": "2025-02-12T15:01:09.288650",
     "status": "completed"
    },
    "tags": []
   },
   "outputs": [],
   "source": [
    "from transformers import AutoTokenizer, AutoModel\n",
    "tokenizer = AutoTokenizer.from_pretrained(\"bert-base-uncased\")"
   ]
  },
  {
   "cell_type": "code",
   "execution_count": 28,
   "id": "cdfef80f",
   "metadata": {
    "execution": {
     "iopub.execute_input": "2025-02-12T15:01:20.875627Z",
     "iopub.status.busy": "2025-02-12T15:01:20.875380Z",
     "iopub.status.idle": "2025-02-12T15:01:26.424622Z",
     "shell.execute_reply": "2025-02-12T15:01:26.424177Z"
    },
    "papermill": {
     "duration": 5.557771,
     "end_time": "2025-02-12T15:01:26.425568",
     "exception": false,
     "start_time": "2025-02-12T15:01:20.867797",
     "status": "completed"
    },
    "tags": []
   },
   "outputs": [],
   "source": [
    "model = AutoModel.from_pretrained(\"bert-base-uncased\")"
   ]
  },
  {
   "cell_type": "code",
   "execution_count": 29,
   "id": "9191c4f0",
   "metadata": {
    "execution": {
     "iopub.execute_input": "2025-02-12T15:01:26.442176Z",
     "iopub.status.busy": "2025-02-12T15:01:26.442011Z",
     "iopub.status.idle": "2025-02-12T15:01:26.800296Z",
     "shell.execute_reply": "2025-02-12T15:01:26.799831Z"
    },
    "papermill": {
     "duration": 0.366572,
     "end_time": "2025-02-12T15:01:26.801187",
     "exception": false,
     "start_time": "2025-02-12T15:01:26.434615",
     "status": "completed"
    },
    "tags": []
   },
   "outputs": [],
   "source": [
    "from peft import LoraConfig, get_peft_model"
   ]
  },
  {
   "cell_type": "code",
   "execution_count": 30,
   "id": "c5386cc4",
   "metadata": {
    "execution": {
     "iopub.execute_input": "2025-02-12T15:01:26.815386Z",
     "iopub.status.busy": "2025-02-12T15:01:26.815243Z",
     "iopub.status.idle": "2025-02-12T15:01:26.817846Z",
     "shell.execute_reply": "2025-02-12T15:01:26.817368Z"
    },
    "papermill": {
     "duration": 0.010149,
     "end_time": "2025-02-12T15:01:26.818405",
     "exception": false,
     "start_time": "2025-02-12T15:01:26.808256",
     "status": "completed"
    },
    "tags": []
   },
   "outputs": [],
   "source": [
    "lora_config = LoraConfig(\n",
    "    task_type= \"FEATURE_EXTRACTION\"\n",
    ")"
   ]
  },
  {
   "cell_type": "code",
   "execution_count": 31,
   "id": "1411c521",
   "metadata": {
    "execution": {
     "iopub.execute_input": "2025-02-12T15:01:26.832275Z",
     "iopub.status.busy": "2025-02-12T15:01:26.832143Z",
     "iopub.status.idle": "2025-02-12T15:01:26.863078Z",
     "shell.execute_reply": "2025-02-12T15:01:26.862636Z"
    },
    "papermill": {
     "duration": 0.038566,
     "end_time": "2025-02-12T15:01:26.863855",
     "exception": false,
     "start_time": "2025-02-12T15:01:26.825289",
     "status": "completed"
    },
    "tags": []
   },
   "outputs": [],
   "source": [
    "lora_model = get_peft_model(model, lora_config)"
   ]
  },
  {
   "cell_type": "code",
   "execution_count": 32,
   "id": "5b81fc5d",
   "metadata": {
    "execution": {
     "iopub.execute_input": "2025-02-12T15:01:26.878392Z",
     "iopub.status.busy": "2025-02-12T15:01:26.878247Z",
     "iopub.status.idle": "2025-02-12T15:01:26.881287Z",
     "shell.execute_reply": "2025-02-12T15:01:26.880934Z"
    },
    "papermill": {
     "duration": 0.010979,
     "end_time": "2025-02-12T15:01:26.881848",
     "exception": false,
     "start_time": "2025-02-12T15:01:26.870869",
     "status": "completed"
    },
    "tags": []
   },
   "outputs": [],
   "source": [
    "def cosine_distance(x, y):\n",
    "    return 1 - torch.nn.functional.cosine_similarity(x, y, dim=-1)"
   ]
  },
  {
   "cell_type": "code",
   "execution_count": 33,
   "id": "36a6dc08",
   "metadata": {
    "execution": {
     "iopub.execute_input": "2025-02-12T15:01:26.895474Z",
     "iopub.status.busy": "2025-02-12T15:01:26.895345Z",
     "iopub.status.idle": "2025-02-12T15:01:26.898499Z",
     "shell.execute_reply": "2025-02-12T15:01:26.898111Z"
    },
    "papermill": {
     "duration": 0.01073,
     "end_time": "2025-02-12T15:01:26.899201",
     "exception": false,
     "start_time": "2025-02-12T15:01:26.888471",
     "status": "completed"
    },
    "tags": []
   },
   "outputs": [],
   "source": [
    "def info_nce_loss(anchor_embedding, positive_embedding, negative_embedding, distance_fn):\n",
    "\n",
    "    pos_dist = distance_fn(anchor_embedding, positive_embedding)\n",
    "    neg_dist = torch.stack([distance_fn(anchor_embedding, neg) for neg in negative_embedding], dim=-1)\n",
    "    \n",
    "    logits = torch.cat([-pos_dist.unsqueeze(1), -neg_dist], dim=1)\n",
    "    labels = torch.zeros(logits.size(0), dtype=torch.long, device=logits.device)\n",
    "\n",
    "    loss = torch.nn.CrossEntropyLoss()(logits, labels)\n",
    "    return loss"
   ]
  },
  {
   "cell_type": "code",
   "execution_count": 34,
   "id": "185ff980",
   "metadata": {
    "execution": {
     "iopub.execute_input": "2025-02-12T15:01:26.912896Z",
     "iopub.status.busy": "2025-02-12T15:01:26.912769Z",
     "iopub.status.idle": "2025-02-12T15:01:26.916197Z",
     "shell.execute_reply": "2025-02-12T15:01:26.915819Z"
    },
    "papermill": {
     "duration": 0.010981,
     "end_time": "2025-02-12T15:01:26.916887",
     "exception": false,
     "start_time": "2025-02-12T15:01:26.905906",
     "status": "completed"
    },
    "tags": []
   },
   "outputs": [],
   "source": [
    "import torch\n",
    "import torch.optim as optim\n",
    "optimizer = torch.optim.AdamW(lora_model.parameters(), lr=5e-5)"
   ]
  },
  {
   "cell_type": "code",
   "execution_count": 35,
   "id": "d997d7dc",
   "metadata": {
    "execution": {
     "iopub.execute_input": "2025-02-12T15:01:26.930541Z",
     "iopub.status.busy": "2025-02-12T15:01:26.930411Z",
     "iopub.status.idle": "2025-02-12T15:01:26.932751Z",
     "shell.execute_reply": "2025-02-12T15:01:26.932399Z"
    },
    "papermill": {
     "duration": 0.009763,
     "end_time": "2025-02-12T15:01:26.933316",
     "exception": false,
     "start_time": "2025-02-12T15:01:26.923553",
     "status": "completed"
    },
    "tags": []
   },
   "outputs": [],
   "source": [
    "num_epochs=3"
   ]
  },
  {
   "cell_type": "code",
   "execution_count": 36,
   "id": "93312d1a",
   "metadata": {
    "execution": {
     "iopub.execute_input": "2025-02-12T15:01:26.946999Z",
     "iopub.status.busy": "2025-02-12T15:01:26.946862Z",
     "iopub.status.idle": "2025-02-12T15:01:27.593247Z",
     "shell.execute_reply": "2025-02-12T15:01:27.592692Z"
    },
    "papermill": {
     "duration": 0.653928,
     "end_time": "2025-02-12T15:01:27.593935",
     "exception": false,
     "start_time": "2025-02-12T15:01:26.940007",
     "status": "completed"
    },
    "tags": []
   },
   "outputs": [],
   "source": [
    "device = torch.device('cuda' if torch.cuda.is_available() else 'cpu')"
   ]
  },
  {
   "cell_type": "code",
   "execution_count": 37,
   "id": "be00cde7",
   "metadata": {
    "execution": {
     "iopub.execute_input": "2025-02-12T15:01:27.610475Z",
     "iopub.status.busy": "2025-02-12T15:01:27.610312Z",
     "iopub.status.idle": "2025-02-12T15:01:27.613628Z",
     "shell.execute_reply": "2025-02-12T15:01:27.613274Z"
    },
    "papermill": {
     "duration": 0.01132,
     "end_time": "2025-02-12T15:01:27.614210",
     "exception": false,
     "start_time": "2025-02-12T15:01:27.602890",
     "status": "completed"
    },
    "tags": []
   },
   "outputs": [
    {
     "data": {
      "text/plain": [
       "device(type='cuda')"
      ]
     },
     "execution_count": 37,
     "metadata": {},
     "output_type": "execute_result"
    }
   ],
   "source": [
    "device"
   ]
  },
  {
   "cell_type": "code",
   "execution_count": 38,
   "id": "a5333e18",
   "metadata": {
    "execution": {
     "iopub.execute_input": "2025-02-12T15:01:27.628750Z",
     "iopub.status.busy": "2025-02-12T15:01:27.628331Z",
     "iopub.status.idle": "2025-02-12T15:01:27.631321Z",
     "shell.execute_reply": "2025-02-12T15:01:27.630988Z"
    },
    "papermill": {
     "duration": 0.010639,
     "end_time": "2025-02-12T15:01:27.631884",
     "exception": false,
     "start_time": "2025-02-12T15:01:27.621245",
     "status": "completed"
    },
    "tags": []
   },
   "outputs": [
    {
     "data": {
      "text/plain": [
       "True"
      ]
     },
     "execution_count": 38,
     "metadata": {},
     "output_type": "execute_result"
    }
   ],
   "source": [
    "torch.cuda.is_available()"
   ]
  },
  {
   "cell_type": "code",
   "execution_count": 39,
   "id": "1d718a7f",
   "metadata": {
    "execution": {
     "iopub.execute_input": "2025-02-12T15:01:27.646273Z",
     "iopub.status.busy": "2025-02-12T15:01:27.646085Z",
     "iopub.status.idle": "2025-02-12T15:01:29.012297Z",
     "shell.execute_reply": "2025-02-12T15:01:29.010630Z"
    },
    "papermill": {
     "duration": 1.374238,
     "end_time": "2025-02-12T15:01:29.013299",
     "exception": false,
     "start_time": "2025-02-12T15:01:27.639061",
     "status": "completed"
    },
    "tags": []
   },
   "outputs": [],
   "source": [
    "lora_model = lora_model.to(device)"
   ]
  },
  {
   "cell_type": "code",
   "execution_count": 40,
   "id": "8d0b1bf1",
   "metadata": {
    "execution": {
     "iopub.execute_input": "2025-02-12T15:01:29.028455Z",
     "iopub.status.busy": "2025-02-12T15:01:29.028281Z",
     "iopub.status.idle": "2025-02-12T15:01:29.031694Z",
     "shell.execute_reply": "2025-02-12T15:01:29.031119Z"
    },
    "papermill": {
     "duration": 0.011514,
     "end_time": "2025-02-12T15:01:29.032264",
     "exception": false,
     "start_time": "2025-02-12T15:01:29.020750",
     "status": "completed"
    },
    "tags": []
   },
   "outputs": [],
   "source": [
    "dataset_val = split_datasets[\"test\"]"
   ]
  },
  {
   "cell_type": "code",
   "execution_count": 41,
   "id": "1ca99f37",
   "metadata": {
    "execution": {
     "iopub.execute_input": "2025-02-12T15:01:29.046650Z",
     "iopub.status.busy": "2025-02-12T15:01:29.046519Z",
     "iopub.status.idle": "2025-02-12T15:01:29.050361Z",
     "shell.execute_reply": "2025-02-12T15:01:29.049960Z"
    },
    "papermill": {
     "duration": 0.011738,
     "end_time": "2025-02-12T15:01:29.051056",
     "exception": false,
     "start_time": "2025-02-12T15:01:29.039318",
     "status": "completed"
    },
    "tags": []
   },
   "outputs": [
    {
     "data": {
      "text/plain": [
       "Dataset({\n",
       "    features: ['Unnamed: 0.1', 'Unnamed: 0', 'title', 'abstract'],\n",
       "    num_rows: 23519\n",
       "})"
      ]
     },
     "execution_count": 41,
     "metadata": {},
     "output_type": "execute_result"
    }
   ],
   "source": [
    "dataset_val"
   ]
  },
  {
   "cell_type": "code",
   "execution_count": 42,
   "id": "a314d3d6",
   "metadata": {
    "execution": {
     "iopub.execute_input": "2025-02-12T15:01:29.065560Z",
     "iopub.status.busy": "2025-02-12T15:01:29.065305Z",
     "iopub.status.idle": "2025-02-12T15:01:29.070094Z",
     "shell.execute_reply": "2025-02-12T15:01:29.069598Z"
    },
    "papermill": {
     "duration": 0.012587,
     "end_time": "2025-02-12T15:01:29.070755",
     "exception": false,
     "start_time": "2025-02-12T15:01:29.058168",
     "status": "completed"
    },
    "tags": []
   },
   "outputs": [],
   "source": [
    "dataset_val = dataset_val.remove_columns(['Unnamed: 0','Unnamed: 0.1'])"
   ]
  },
  {
   "cell_type": "code",
   "execution_count": 43,
   "id": "a58b2f1a",
   "metadata": {
    "execution": {
     "iopub.execute_input": "2025-02-12T15:01:29.085364Z",
     "iopub.status.busy": "2025-02-12T15:01:29.085239Z",
     "iopub.status.idle": "2025-02-12T15:01:30.863956Z",
     "shell.execute_reply": "2025-02-12T15:01:30.863441Z"
    },
    "papermill": {
     "duration": 1.78672,
     "end_time": "2025-02-12T15:01:30.864696",
     "exception": false,
     "start_time": "2025-02-12T15:01:29.077976",
     "status": "completed"
    },
    "tags": []
   },
   "outputs": [
    {
     "data": {
      "application/vnd.jupyter.widget-view+json": {
       "model_id": "7640b6f1f81442e0988e5b8fbeaec786",
       "version_major": 2,
       "version_minor": 0
      },
      "text/plain": [
       "Map:   0%|          | 0/23519 [00:00<?, ? examples/s]"
      ]
     },
     "metadata": {},
     "output_type": "display_data"
    }
   ],
   "source": [
    "dataset_val = dataset_val.map(lambda x, idx: { 'index': idx }, with_indices=True)"
   ]
  },
  {
   "cell_type": "code",
   "execution_count": 44,
   "id": "454fc03a",
   "metadata": {
    "execution": {
     "iopub.execute_input": "2025-02-12T15:01:30.880444Z",
     "iopub.status.busy": "2025-02-12T15:01:30.880277Z",
     "iopub.status.idle": "2025-02-12T15:01:30.884159Z",
     "shell.execute_reply": "2025-02-12T15:01:30.883786Z"
    },
    "papermill": {
     "duration": 0.0126,
     "end_time": "2025-02-12T15:01:30.884912",
     "exception": false,
     "start_time": "2025-02-12T15:01:30.872312",
     "status": "completed"
    },
    "tags": []
   },
   "outputs": [
    {
     "data": {
      "text/plain": [
       "Dataset({\n",
       "    features: ['title', 'abstract', 'index'],\n",
       "    num_rows: 23519\n",
       "})"
      ]
     },
     "execution_count": 44,
     "metadata": {},
     "output_type": "execute_result"
    }
   ],
   "source": [
    "dataset_val"
   ]
  },
  {
   "cell_type": "code",
   "execution_count": 45,
   "id": "59611a3b",
   "metadata": {
    "execution": {
     "iopub.execute_input": "2025-02-12T15:01:30.899770Z",
     "iopub.status.busy": "2025-02-12T15:01:30.899637Z",
     "iopub.status.idle": "2025-02-12T15:01:30.914414Z",
     "shell.execute_reply": "2025-02-12T15:01:30.913880Z"
    },
    "papermill": {
     "duration": 0.022803,
     "end_time": "2025-02-12T15:01:30.915092",
     "exception": false,
     "start_time": "2025-02-12T15:01:30.892289",
     "status": "completed"
    },
    "tags": []
   },
   "outputs": [],
   "source": [
    "all_indexes_val = np.array(dataset_val['index'])"
   ]
  },
  {
   "cell_type": "code",
   "execution_count": 46,
   "id": "f51a8e7e",
   "metadata": {
    "execution": {
     "iopub.execute_input": "2025-02-12T15:01:30.929965Z",
     "iopub.status.busy": "2025-02-12T15:01:30.929831Z",
     "iopub.status.idle": "2025-02-12T15:01:30.933321Z",
     "shell.execute_reply": "2025-02-12T15:01:30.932961Z"
    },
    "papermill": {
     "duration": 0.011579,
     "end_time": "2025-02-12T15:01:30.933945",
     "exception": false,
     "start_time": "2025-02-12T15:01:30.922366",
     "status": "completed"
    },
    "tags": []
   },
   "outputs": [],
   "source": [
    "def generate_hard_negatives_val(example, num_negatives=10,dataset=dataset_val):\n",
    "    query_index = example['index']  \n",
    "    anchor = example['title']\n",
    "    positive = example['abstract']\n",
    "    \n",
    "    negatives = []\n",
    "    \n",
    "    negative_indexes = np.delete(all_indexes_val, np.where(all_indexes_val == query_index))\n",
    "    \n",
    "    sampled_negatives = random.sample(list(negative_indexes), num_negatives)\n",
    "    \n",
    "    for idx in sampled_negatives:\n",
    "        negatives.append(dataset[int(idx)]['abstract'])\n",
    "    \n",
    "    return {\n",
    "        \"query\": anchor,\n",
    "        \"positive\": positive,\n",
    "        \"negatives\": negatives\n",
    "    }"
   ]
  },
  {
   "cell_type": "code",
   "execution_count": 47,
   "id": "956100e1",
   "metadata": {
    "execution": {
     "iopub.execute_input": "2025-02-12T15:01:30.949241Z",
     "iopub.status.busy": "2025-02-12T15:01:30.949111Z",
     "iopub.status.idle": "2025-02-12T15:02:06.584771Z",
     "shell.execute_reply": "2025-02-12T15:02:06.584210Z"
    },
    "papermill": {
     "duration": 35.644213,
     "end_time": "2025-02-12T15:02:06.585636",
     "exception": false,
     "start_time": "2025-02-12T15:01:30.941423",
     "status": "completed"
    },
    "tags": []
   },
   "outputs": [
    {
     "data": {
      "application/vnd.jupyter.widget-view+json": {
       "model_id": "de82b9f771d349a18e948669c9e6e216",
       "version_major": 2,
       "version_minor": 0
      },
      "text/plain": [
       "Map:   0%|          | 0/23519 [00:00<?, ? examples/s]"
      ]
     },
     "metadata": {},
     "output_type": "display_data"
    }
   ],
   "source": [
    "processed_data_val = dataset_val.map(generate_hard_negatives_val, remove_columns=dataset_val.column_names)"
   ]
  },
  {
   "cell_type": "code",
   "execution_count": 48,
   "id": "70ecac28",
   "metadata": {
    "execution": {
     "iopub.execute_input": "2025-02-12T15:02:06.602498Z",
     "iopub.status.busy": "2025-02-12T15:02:06.602330Z",
     "iopub.status.idle": "2025-02-12T15:02:08.532680Z",
     "shell.execute_reply": "2025-02-12T15:02:08.532071Z"
    },
    "papermill": {
     "duration": 1.940062,
     "end_time": "2025-02-12T15:02:08.533879",
     "exception": false,
     "start_time": "2025-02-12T15:02:06.593817",
     "status": "completed"
    },
    "tags": []
   },
   "outputs": [],
   "source": [
    "contrastive_pairs_val = []\n",
    "for item in processed_data_val:\n",
    "    query = item[\"query\"]\n",
    "    positive = item[\"positive\"]\n",
    "    negatives = item[\"negatives\"]\n",
    "    contrastive_pairs_val.append({\n",
    "        \"anchor\": query,\n",
    "        \"positive\": positive,\n",
    "        \"negatives\": negatives\n",
    "    })"
   ]
  },
  {
   "cell_type": "code",
   "execution_count": 49,
   "id": "ce529ab6",
   "metadata": {
    "execution": {
     "iopub.execute_input": "2025-02-12T15:02:08.550696Z",
     "iopub.status.busy": "2025-02-12T15:02:08.550551Z",
     "iopub.status.idle": "2025-02-12T15:02:08.553620Z",
     "shell.execute_reply": "2025-02-12T15:02:08.553096Z"
    },
    "papermill": {
     "duration": 0.012111,
     "end_time": "2025-02-12T15:02:08.554461",
     "exception": false,
     "start_time": "2025-02-12T15:02:08.542350",
     "status": "completed"
    },
    "tags": []
   },
   "outputs": [],
   "source": [
    "contrastive_dataset_val = ContrastiveDataset(contrastive_pairs_val)"
   ]
  },
  {
   "cell_type": "code",
   "execution_count": 50,
   "id": "5ac55437",
   "metadata": {
    "execution": {
     "iopub.execute_input": "2025-02-12T15:02:08.570441Z",
     "iopub.status.busy": "2025-02-12T15:02:08.570315Z",
     "iopub.status.idle": "2025-02-12T15:02:08.573487Z",
     "shell.execute_reply": "2025-02-12T15:02:08.572910Z"
    },
    "papermill": {
     "duration": 0.012021,
     "end_time": "2025-02-12T15:02:08.574160",
     "exception": false,
     "start_time": "2025-02-12T15:02:08.562139",
     "status": "completed"
    },
    "tags": []
   },
   "outputs": [],
   "source": [
    "data_loader_val = DataLoader(contrastive_dataset_val, batch_size=8, shuffle=True)"
   ]
  },
  {
   "cell_type": "code",
   "execution_count": 51,
   "id": "b73033c1",
   "metadata": {
    "execution": {
     "iopub.execute_input": "2025-02-12T15:02:08.590445Z",
     "iopub.status.busy": "2025-02-12T15:02:08.590306Z",
     "iopub.status.idle": "2025-02-12T15:02:08.594136Z",
     "shell.execute_reply": "2025-02-12T15:02:08.593743Z"
    },
    "papermill": {
     "duration": 0.012852,
     "end_time": "2025-02-12T15:02:08.594785",
     "exception": false,
     "start_time": "2025-02-12T15:02:08.581933",
     "status": "completed"
    },
    "tags": []
   },
   "outputs": [
    {
     "data": {
      "text/plain": [
       "2940"
      ]
     },
     "execution_count": 51,
     "metadata": {},
     "output_type": "execute_result"
    }
   ],
   "source": [
    "len(data_loader_val)"
   ]
  },
  {
   "cell_type": "code",
   "execution_count": 52,
   "id": "3004b977-0045-4fa7-9552-f4c50215714d",
   "metadata": {
    "execution": {
     "iopub.execute_input": "2025-02-12T15:02:08.611910Z",
     "iopub.status.busy": "2025-02-12T15:02:08.611783Z",
     "iopub.status.idle": "2025-02-12T15:02:08.615266Z",
     "shell.execute_reply": "2025-02-12T15:02:08.614635Z"
    },
    "papermill": {
     "duration": 0.013249,
     "end_time": "2025-02-12T15:02:08.615951",
     "exception": false,
     "start_time": "2025-02-12T15:02:08.602702",
     "status": "completed"
    },
    "tags": []
   },
   "outputs": [],
   "source": [
    "def avg_embedding(inputs, model):\n",
    "    input=model(**inputs)\n",
    "    input_last_hidden_state=input.last_hidden_state\n",
    "    input_attention_mask = inputs['attention_mask']\n",
    "    input_masked_embeddings = input_last_hidden_state * input_attention_mask.unsqueeze(-1)\n",
    "    input_sum_embeddings = torch.sum(input_masked_embeddings, dim=1)\n",
    "    input_token_counts = torch.sum(input_attention_mask, dim=1).unsqueeze(-1)\n",
    "    input_avg_embeddings = input_sum_embeddings / input_token_counts\n",
    "    return(input_avg_embeddings)"
   ]
  },
  {
   "cell_type": "code",
   "execution_count": 53,
   "id": "76c29dae",
   "metadata": {
    "execution": {
     "iopub.execute_input": "2025-02-12T15:02:08.634871Z",
     "iopub.status.busy": "2025-02-12T15:02:08.634744Z",
     "iopub.status.idle": "2025-02-12T15:02:08.639915Z",
     "shell.execute_reply": "2025-02-12T15:02:08.639400Z"
    },
    "papermill": {
     "duration": 0.017063,
     "end_time": "2025-02-12T15:02:08.640623",
     "exception": false,
     "start_time": "2025-02-12T15:02:08.623560",
     "status": "completed"
    },
    "tags": []
   },
   "outputs": [],
   "source": [
    "def evaluate_mrr(model, data_loader_val, distance_fn):\n",
    "    model.eval()  \n",
    "\n",
    "    total_rr = 0.0\n",
    "    num_queries = 0\n",
    "\n",
    "    with torch.no_grad():\n",
    "        for batch in data_loader_val:\n",
    "            anchor_text = batch[0]\n",
    "            positive_text = batch[1]\n",
    "            negative_texts = batch[2]\n",
    "\n",
    "            anchor_input = tokenizer(anchor_text, return_tensors='pt', padding=True, truncation=True, max_length=512).to(device)\n",
    "            positive_input = tokenizer(positive_text, return_tensors='pt', padding=True, truncation=True, max_length=512).to(device)\n",
    "\n",
    "            anchor_embedding = avg_embedding(anchor_input, model)\n",
    "            positive_embedding = avg_embedding(positive_input, model)\n",
    "            negative_embedding = [avg_embedding(tokenizer(neg, return_tensors='pt', padding=True, truncation=True, max_length=512).to(device), model) for neg in negative_texts]\n",
    "\n",
    "            pos_dist = distance_fn(anchor_embedding, positive_embedding)\n",
    "            neg_dist = torch.stack([distance_fn(anchor_embedding, neg) for neg in negative_embedding], dim=-1)\n",
    "            all_similarities=torch.cat([-pos_dist.unsqueeze(1), -neg_dist], dim=1)\n",
    "            \n",
    "            sorted_similarities, sorted_indices = torch.sort(all_similarities, dim=1, descending=True)\n",
    "\n",
    "            # Find the rank of the first relevant (positive) document\n",
    "            positive_rank = (sorted_indices == 0).nonzero(as_tuple=True)[1] + 1  # +1 to make rank 1-based\n",
    "            total_rr += torch.sum(1.0 / positive_rank.float()).item()  # Reciprocal rank\n",
    "            num_queries += len(positive_rank)\n",
    "\n",
    "    mrr = total_rr / num_queries\n",
    "    return mrr"
   ]
  },
  {
   "cell_type": "code",
   "execution_count": 54,
   "id": "84893f41",
   "metadata": {
    "execution": {
     "iopub.execute_input": "2025-02-12T15:02:08.656422Z",
     "iopub.status.busy": "2025-02-12T15:02:08.656295Z",
     "iopub.status.idle": "2025-02-12T15:02:08.658585Z",
     "shell.execute_reply": "2025-02-12T15:02:08.658203Z"
    },
    "papermill": {
     "duration": 0.010936,
     "end_time": "2025-02-12T15:02:08.659331",
     "exception": false,
     "start_time": "2025-02-12T15:02:08.648395",
     "status": "completed"
    },
    "tags": []
   },
   "outputs": [],
   "source": [
    "import os\n",
    "save_dir =\"/dss/dsshome1/07/ra65bex2/srawat/average\""
   ]
  },
  {
   "cell_type": "code",
   "execution_count": 55,
   "id": "1e46bee6",
   "metadata": {
    "execution": {
     "iopub.execute_input": "2025-02-12T15:02:08.675241Z",
     "iopub.status.busy": "2025-02-12T15:02:08.675116Z",
     "iopub.status.idle": "2025-02-12T15:02:08.677620Z",
     "shell.execute_reply": "2025-02-12T15:02:08.677133Z"
    },
    "papermill": {
     "duration": 0.01121,
     "end_time": "2025-02-12T15:02:08.678294",
     "exception": false,
     "start_time": "2025-02-12T15:02:08.667084",
     "status": "completed"
    },
    "tags": []
   },
   "outputs": [],
   "source": [
    "import time\n",
    "epoch_metrics = []"
   ]
  },
  {
   "cell_type": "code",
   "execution_count": 56,
   "id": "23f95333",
   "metadata": {
    "execution": {
     "iopub.execute_input": "2025-02-12T15:02:08.694580Z",
     "iopub.status.busy": "2025-02-12T15:02:08.694453Z",
     "iopub.status.idle": "2025-02-12T15:02:08.697823Z",
     "shell.execute_reply": "2025-02-12T15:02:08.697437Z"
    },
    "papermill": {
     "duration": 0.012456,
     "end_time": "2025-02-12T15:02:08.698638",
     "exception": false,
     "start_time": "2025-02-12T15:02:08.686182",
     "status": "completed"
    },
    "tags": []
   },
   "outputs": [],
   "source": [
    "torch.cuda.empty_cache()"
   ]
  },
  {
   "cell_type": "code",
   "execution_count": 57,
   "id": "32a21d84",
   "metadata": {
    "execution": {
     "iopub.execute_input": "2025-02-12T15:02:08.720051Z",
     "iopub.status.busy": "2025-02-12T15:02:08.719922Z",
     "iopub.status.idle": "2025-02-13T00:04:21.504238Z",
     "shell.execute_reply": "2025-02-13T00:04:21.503533Z"
    },
    "papermill": {
     "duration": 32532.8049,
     "end_time": "2025-02-13T00:04:21.514997",
     "exception": false,
     "start_time": "2025-02-12T15:02:08.710097",
     "status": "completed"
    },
    "tags": []
   },
   "outputs": [
    {
     "name": "stdout",
     "output_type": "stream",
     "text": [
      "EPOCH 1:\n",
      "Checkpoint saved: /dss/dsshome1/07/ra65bex2/srawat/average/checkpoint_epoch_1.pth\n",
      "Epoch 1/3, Training Loss: 1.850154003338749\n"
     ]
    },
    {
     "name": "stdout",
     "output_type": "stream",
     "text": [
      "Mean Reciprocal Rank (MRR) for validation set: 0.9074\n",
      "Epoch 1 took 180.7941 minutes.\n",
      "\n",
      "\n"
     ]
    },
    {
     "name": "stdout",
     "output_type": "stream",
     "text": [
      "EPOCH 2:\n",
      "Checkpoint saved: /dss/dsshome1/07/ra65bex2/srawat/average/checkpoint_epoch_2.pth\n",
      "Epoch 2/3, Training Loss: 1.7881468113993302\n"
     ]
    },
    {
     "name": "stdout",
     "output_type": "stream",
     "text": [
      "Mean Reciprocal Rank (MRR) for validation set: 0.9063\n",
      "Epoch 2 took 180.6795 minutes.\n",
      "\n",
      "\n"
     ]
    },
    {
     "name": "stdout",
     "output_type": "stream",
     "text": [
      "EPOCH 3:\n",
      "Checkpoint saved: /dss/dsshome1/07/ra65bex2/srawat/average/checkpoint_epoch_3.pth\n",
      "Epoch 3/3, Training Loss: 1.768239640875333\n"
     ]
    },
    {
     "name": "stdout",
     "output_type": "stream",
     "text": [
      "Mean Reciprocal Rank (MRR) for validation set: 0.9109\n",
      "Epoch 3 took 180.7394 minutes.\n",
      "\n",
      "\n"
     ]
    }
   ],
   "source": [
    "for epoch in range(num_epochs):\n",
    "    start_time = time.time()\n",
    "    lora_model.train()\n",
    "    \n",
    "    total_loss = 0.0\n",
    "    for batch in data_loader_train:\n",
    "    \n",
    "        anchor_texts = batch[0]\n",
    "        positive_texts = batch[1]\n",
    "        negative_texts = batch[2]\n",
    "    \n",
    "        anchor_inputs = tokenizer(anchor_texts, return_tensors='pt', padding=True, truncation=True, max_length=512).to(device)\n",
    "        positive_inputs = tokenizer(positive_texts, return_tensors='pt', padding=True, truncation=True, max_length=512).to(device)\n",
    "\n",
    "    \n",
    "        anchor_embedding = avg_embedding(anchor_inputs, lora_model)\n",
    "        positive_embedding = avg_embedding(positive_inputs, lora_model)\n",
    "        negative_embedding = [avg_embedding(tokenizer(neg, return_tensors='pt', padding=True, truncation=True, max_length=512).to(device), lora_model) for neg in negative_texts]\n",
    "\n",
    "        loss = info_nce_loss(anchor_embedding, positive_embedding, negative_embedding, distance_fn=cosine_distance)\n",
    "        \n",
    "        optimizer.zero_grad()\n",
    "        loss.backward()\n",
    "        optimizer.step()\n",
    "        \n",
    "        total_loss += loss.item()\n",
    "    save_path = os.path.join(save_dir, f\"checkpoint_epoch_{epoch+1}.pth\")\n",
    "    torch.save(lora_model, save_path)\n",
    "    print(f\"EPOCH {epoch+1}:\")\n",
    "    print(f\"Checkpoint saved: {save_path}\")\n",
    "    print(f\"Epoch {epoch+1}/{num_epochs}, Training Loss: {total_loss / len(data_loader_train)}\")\n",
    "    mrr_validation = evaluate_mrr(lora_model, data_loader_val, cosine_distance)\n",
    "    #mrr_train = evaluate_mrr(lora_model, data_loader_train, cosine_distance)\n",
    "    #print(f\"Mean Reciprocal Rank (MRR) for training set: {mrr_train:.4f}\")\n",
    "    print(f\"Mean Reciprocal Rank (MRR) for validation set: {mrr_validation:.4f}\")\n",
    "    end_time = time.time()\n",
    "    print(f\"Epoch {epoch+1} took {(end_time - start_time) / 60:.4f} minutes.\")\n",
    "    print(f\"\\n\")\n",
    "    epoch_metrics.append({\n",
    "        'epoch': epoch + 1,\n",
    "        'training_loss': total_loss / len(data_loader_train),\n",
    "        'mrr_validation': mrr_validation,\n",
    "        'time_taken_minutes': (end_time - start_time) / 60\n",
    "    })"
   ]
  },
  {
   "cell_type": "code",
   "execution_count": 58,
   "id": "b2c27c8a",
   "metadata": {
    "execution": {
     "iopub.execute_input": "2025-02-13T00:04:21.534275Z",
     "iopub.status.busy": "2025-02-13T00:04:21.534107Z",
     "iopub.status.idle": "2025-02-13T00:04:21.537307Z",
     "shell.execute_reply": "2025-02-13T00:04:21.536943Z"
    },
    "papermill": {
     "duration": 0.012735,
     "end_time": "2025-02-13T00:04:21.537975",
     "exception": false,
     "start_time": "2025-02-13T00:04:21.525240",
     "status": "completed"
    },
    "tags": []
   },
   "outputs": [],
   "source": [
    "import json"
   ]
  },
  {
   "cell_type": "code",
   "execution_count": 59,
   "id": "53a682b1",
   "metadata": {
    "execution": {
     "iopub.execute_input": "2025-02-13T00:04:21.554235Z",
     "iopub.status.busy": "2025-02-13T00:04:21.553876Z",
     "iopub.status.idle": "2025-02-13T00:04:21.771229Z",
     "shell.execute_reply": "2025-02-13T00:04:21.770816Z"
    },
    "papermill": {
     "duration": 0.226245,
     "end_time": "2025-02-13T00:04:21.771983",
     "exception": false,
     "start_time": "2025-02-13T00:04:21.545738",
     "status": "completed"
    },
    "tags": []
   },
   "outputs": [],
   "source": [
    "with open(save_dir + '/epoch_metrics.json', 'w') as f:\n",
    "    json.dump(epoch_metrics, f)"
   ]
  },
  {
   "cell_type": "code",
   "execution_count": null,
   "id": "f7021e82",
   "metadata": {
    "papermill": {
     "duration": 0.007833,
     "end_time": "2025-02-13T00:04:21.787802",
     "exception": false,
     "start_time": "2025-02-13T00:04:21.779969",
     "status": "completed"
    },
    "tags": []
   },
   "outputs": [],
   "source": []
  }
 ],
 "metadata": {
  "kernelspec": {
   "display_name": "Python (myenv)",
   "language": "python",
   "name": "myenv"
  },
  "language_info": {
   "codemirror_mode": {
    "name": "ipython",
    "version": 3
   },
   "file_extension": ".py",
   "mimetype": "text/x-python",
   "name": "python",
   "nbconvert_exporter": "python",
   "pygments_lexer": "ipython3",
   "version": "3.12.7"
  },
  "papermill": {
   "default_parameters": {},
   "duration": 33113.154381,
   "end_time": "2025-02-13T00:04:25.998339",
   "environment_variables": {},
   "exception": null,
   "input_path": "average.ipynb",
   "output_path": "average_output.ipynb",
   "parameters": {},
   "start_time": "2025-02-12T14:52:32.843958",
   "version": "2.6.0"
  },
  "widgets": {
   "application/vnd.jupyter.widget-state+json": {
    "state": {
     "028bba7d9bce4ae4a114c4c9d52f3f53": {
      "model_module": "@jupyter-widgets/base",
      "model_module_version": "2.0.0",
      "model_name": "LayoutModel",
      "state": {
       "_model_module": "@jupyter-widgets/base",
       "_model_module_version": "2.0.0",
       "_model_name": "LayoutModel",
       "_view_count": null,
       "_view_module": "@jupyter-widgets/base",
       "_view_module_version": "2.0.0",
       "_view_name": "LayoutView",
       "align_content": null,
       "align_items": null,
       "align_self": null,
       "border_bottom": null,
       "border_left": null,
       "border_right": null,
       "border_top": null,
       "bottom": null,
       "display": null,
       "flex": null,
       "flex_flow": null,
       "grid_area": null,
       "grid_auto_columns": null,
       "grid_auto_flow": null,
       "grid_auto_rows": null,
       "grid_column": null,
       "grid_gap": null,
       "grid_row": null,
       "grid_template_areas": null,
       "grid_template_columns": null,
       "grid_template_rows": null,
       "height": null,
       "justify_content": null,
       "justify_items": null,
       "left": null,
       "margin": null,
       "max_height": null,
       "max_width": null,
       "min_height": null,
       "min_width": null,
       "object_fit": null,
       "object_position": null,
       "order": null,
       "overflow": null,
       "padding": null,
       "right": null,
       "top": null,
       "visibility": null,
       "width": null
      }
     },
     "0a18bb885902495f9383a6296be0281e": {
      "model_module": "@jupyter-widgets/base",
      "model_module_version": "2.0.0",
      "model_name": "LayoutModel",
      "state": {
       "_model_module": "@jupyter-widgets/base",
       "_model_module_version": "2.0.0",
       "_model_name": "LayoutModel",
       "_view_count": null,
       "_view_module": "@jupyter-widgets/base",
       "_view_module_version": "2.0.0",
       "_view_name": "LayoutView",
       "align_content": null,
       "align_items": null,
       "align_self": null,
       "border_bottom": null,
       "border_left": null,
       "border_right": null,
       "border_top": null,
       "bottom": null,
       "display": null,
       "flex": null,
       "flex_flow": null,
       "grid_area": null,
       "grid_auto_columns": null,
       "grid_auto_flow": null,
       "grid_auto_rows": null,
       "grid_column": null,
       "grid_gap": null,
       "grid_row": null,
       "grid_template_areas": null,
       "grid_template_columns": null,
       "grid_template_rows": null,
       "height": null,
       "justify_content": null,
       "justify_items": null,
       "left": null,
       "margin": null,
       "max_height": null,
       "max_width": null,
       "min_height": null,
       "min_width": null,
       "object_fit": null,
       "object_position": null,
       "order": null,
       "overflow": null,
       "padding": null,
       "right": null,
       "top": null,
       "visibility": null,
       "width": null
      }
     },
     "0f9ae7cdc0204ef5a1e7f2dde6ffd6f3": {
      "model_module": "@jupyter-widgets/controls",
      "model_module_version": "2.0.0",
      "model_name": "HTMLModel",
      "state": {
       "_dom_classes": [],
       "_model_module": "@jupyter-widgets/controls",
       "_model_module_version": "2.0.0",
       "_model_name": "HTMLModel",
       "_view_count": null,
       "_view_module": "@jupyter-widgets/controls",
       "_view_module_version": "2.0.0",
       "_view_name": "HTMLView",
       "description": "",
       "description_allow_html": false,
       "layout": "IPY_MODEL_d4e6f25df93f40319974192ff7ea52a6",
       "placeholder": "​",
       "style": "IPY_MODEL_eed1cbaf812d4b20966c69ba3ad8dcdc",
       "tabbable": null,
       "tooltip": null,
       "value": " 94073/94073 [00:05&lt;00:00, 19905.43 examples/s]"
      }
     },
     "11c9e014a57e4cf283b86270da881bce": {
      "model_module": "@jupyter-widgets/base",
      "model_module_version": "2.0.0",
      "model_name": "LayoutModel",
      "state": {
       "_model_module": "@jupyter-widgets/base",
       "_model_module_version": "2.0.0",
       "_model_name": "LayoutModel",
       "_view_count": null,
       "_view_module": "@jupyter-widgets/base",
       "_view_module_version": "2.0.0",
       "_view_name": "LayoutView",
       "align_content": null,
       "align_items": null,
       "align_self": null,
       "border_bottom": null,
       "border_left": null,
       "border_right": null,
       "border_top": null,
       "bottom": null,
       "display": null,
       "flex": null,
       "flex_flow": null,
       "grid_area": null,
       "grid_auto_columns": null,
       "grid_auto_flow": null,
       "grid_auto_rows": null,
       "grid_column": null,
       "grid_gap": null,
       "grid_row": null,
       "grid_template_areas": null,
       "grid_template_columns": null,
       "grid_template_rows": null,
       "height": null,
       "justify_content": null,
       "justify_items": null,
       "left": null,
       "margin": null,
       "max_height": null,
       "max_width": null,
       "min_height": null,
       "min_width": null,
       "object_fit": null,
       "object_position": null,
       "order": null,
       "overflow": null,
       "padding": null,
       "right": null,
       "top": null,
       "visibility": null,
       "width": null
      }
     },
     "1786c4e33ca343cea0320e80096c0490": {
      "model_module": "@jupyter-widgets/controls",
      "model_module_version": "2.0.0",
      "model_name": "HTMLModel",
      "state": {
       "_dom_classes": [],
       "_model_module": "@jupyter-widgets/controls",
       "_model_module_version": "2.0.0",
       "_model_name": "HTMLModel",
       "_view_count": null,
       "_view_module": "@jupyter-widgets/controls",
       "_view_module_version": "2.0.0",
       "_view_name": "HTMLView",
       "description": "",
       "description_allow_html": false,
       "layout": "IPY_MODEL_eac4bf74633c4ea0aa6b8ae3a033a0bd",
       "placeholder": "​",
       "style": "IPY_MODEL_a84948e411164f719831d686acc42390",
       "tabbable": null,
       "tooltip": null,
       "value": "Map: 100%"
      }
     },
     "1787c83560784083ab5dba976e081bb6": {
      "model_module": "@jupyter-widgets/controls",
      "model_module_version": "2.0.0",
      "model_name": "HTMLStyleModel",
      "state": {
       "_model_module": "@jupyter-widgets/controls",
       "_model_module_version": "2.0.0",
       "_model_name": "HTMLStyleModel",
       "_view_count": null,
       "_view_module": "@jupyter-widgets/base",
       "_view_module_version": "2.0.0",
       "_view_name": "StyleView",
       "background": null,
       "description_width": "",
       "font_size": null,
       "text_color": null
      }
     },
     "1bd81f2db7b5438182fb6ef3f6dc900b": {
      "model_module": "@jupyter-widgets/controls",
      "model_module_version": "2.0.0",
      "model_name": "HBoxModel",
      "state": {
       "_dom_classes": [],
       "_model_module": "@jupyter-widgets/controls",
       "_model_module_version": "2.0.0",
       "_model_name": "HBoxModel",
       "_view_count": null,
       "_view_module": "@jupyter-widgets/controls",
       "_view_module_version": "2.0.0",
       "_view_name": "HBoxView",
       "box_style": "",
       "children": [
        "IPY_MODEL_3c4c50cb212346deaf8d1f8cf720bd10",
        "IPY_MODEL_1ffc543782c0408ba4224638ec8df294",
        "IPY_MODEL_9d78046ec2aa4991ac500995d25a509d"
       ],
       "layout": "IPY_MODEL_0a18bb885902495f9383a6296be0281e",
       "tabbable": null,
       "tooltip": null
      }
     },
     "1ffc543782c0408ba4224638ec8df294": {
      "model_module": "@jupyter-widgets/controls",
      "model_module_version": "2.0.0",
      "model_name": "FloatProgressModel",
      "state": {
       "_dom_classes": [],
       "_model_module": "@jupyter-widgets/controls",
       "_model_module_version": "2.0.0",
       "_model_name": "FloatProgressModel",
       "_view_count": null,
       "_view_module": "@jupyter-widgets/controls",
       "_view_module_version": "2.0.0",
       "_view_name": "ProgressView",
       "bar_style": "success",
       "description": "",
       "description_allow_html": false,
       "layout": "IPY_MODEL_ad6a3c9bc62841e0b61af537d5ad18e1",
       "max": 94073,
       "min": 0,
       "orientation": "horizontal",
       "style": "IPY_MODEL_dd1cfabc05794ea49181c804d97fd0ea",
       "tabbable": null,
       "tooltip": null,
       "value": 94073
      }
     },
     "2bfe82d28c33487b908bcc3ef1d9e405": {
      "model_module": "@jupyter-widgets/base",
      "model_module_version": "2.0.0",
      "model_name": "LayoutModel",
      "state": {
       "_model_module": "@jupyter-widgets/base",
       "_model_module_version": "2.0.0",
       "_model_name": "LayoutModel",
       "_view_count": null,
       "_view_module": "@jupyter-widgets/base",
       "_view_module_version": "2.0.0",
       "_view_name": "LayoutView",
       "align_content": null,
       "align_items": null,
       "align_self": null,
       "border_bottom": null,
       "border_left": null,
       "border_right": null,
       "border_top": null,
       "bottom": null,
       "display": null,
       "flex": null,
       "flex_flow": null,
       "grid_area": null,
       "grid_auto_columns": null,
       "grid_auto_flow": null,
       "grid_auto_rows": null,
       "grid_column": null,
       "grid_gap": null,
       "grid_row": null,
       "grid_template_areas": null,
       "grid_template_columns": null,
       "grid_template_rows": null,
       "height": null,
       "justify_content": null,
       "justify_items": null,
       "left": null,
       "margin": null,
       "max_height": null,
       "max_width": null,
       "min_height": null,
       "min_width": null,
       "object_fit": null,
       "object_position": null,
       "order": null,
       "overflow": null,
       "padding": null,
       "right": null,
       "top": null,
       "visibility": null,
       "width": null
      }
     },
     "3078aefba4d94fdf88058c4b8bebdeed": {
      "model_module": "@jupyter-widgets/controls",
      "model_module_version": "2.0.0",
      "model_name": "HTMLStyleModel",
      "state": {
       "_model_module": "@jupyter-widgets/controls",
       "_model_module_version": "2.0.0",
       "_model_name": "HTMLStyleModel",
       "_view_count": null,
       "_view_module": "@jupyter-widgets/base",
       "_view_module_version": "2.0.0",
       "_view_name": "StyleView",
       "background": null,
       "description_width": "",
       "font_size": null,
       "text_color": null
      }
     },
     "381cd4a43a1741ec8cf336a5216989a1": {
      "model_module": "@jupyter-widgets/controls",
      "model_module_version": "2.0.0",
      "model_name": "ProgressStyleModel",
      "state": {
       "_model_module": "@jupyter-widgets/controls",
       "_model_module_version": "2.0.0",
       "_model_name": "ProgressStyleModel",
       "_view_count": null,
       "_view_module": "@jupyter-widgets/base",
       "_view_module_version": "2.0.0",
       "_view_name": "StyleView",
       "bar_color": null,
       "description_width": ""
      }
     },
     "3c4c50cb212346deaf8d1f8cf720bd10": {
      "model_module": "@jupyter-widgets/controls",
      "model_module_version": "2.0.0",
      "model_name": "HTMLModel",
      "state": {
       "_dom_classes": [],
       "_model_module": "@jupyter-widgets/controls",
       "_model_module_version": "2.0.0",
       "_model_name": "HTMLModel",
       "_view_count": null,
       "_view_module": "@jupyter-widgets/controls",
       "_view_module_version": "2.0.0",
       "_view_name": "HTMLView",
       "description": "",
       "description_allow_html": false,
       "layout": "IPY_MODEL_4b3573f34f054f62924669a440fc205b",
       "placeholder": "​",
       "style": "IPY_MODEL_715c91a1285d43ca95e6b8407ee1840d",
       "tabbable": null,
       "tooltip": null,
       "value": "Map: 100%"
      }
     },
     "3e5991ac519c4dcfa37ea37e5738b537": {
      "model_module": "@jupyter-widgets/controls",
      "model_module_version": "2.0.0",
      "model_name": "HTMLStyleModel",
      "state": {
       "_model_module": "@jupyter-widgets/controls",
       "_model_module_version": "2.0.0",
       "_model_name": "HTMLStyleModel",
       "_view_count": null,
       "_view_module": "@jupyter-widgets/base",
       "_view_module_version": "2.0.0",
       "_view_name": "StyleView",
       "background": null,
       "description_width": "",
       "font_size": null,
       "text_color": null
      }
     },
     "4904b8c22350446eb4032199aadb82c8": {
      "model_module": "@jupyter-widgets/controls",
      "model_module_version": "2.0.0",
      "model_name": "HTMLModel",
      "state": {
       "_dom_classes": [],
       "_model_module": "@jupyter-widgets/controls",
       "_model_module_version": "2.0.0",
       "_model_name": "HTMLModel",
       "_view_count": null,
       "_view_module": "@jupyter-widgets/controls",
       "_view_module_version": "2.0.0",
       "_view_name": "HTMLView",
       "description": "",
       "description_allow_html": false,
       "layout": "IPY_MODEL_b22ca1c2ca9b446eab70c1606016466e",
       "placeholder": "​",
       "style": "IPY_MODEL_cad86c8931ac4ef6a0ad137fc06cab6a",
       "tabbable": null,
       "tooltip": null,
       "value": " 23519/23519 [00:35&lt;00:00, 673.61 examples/s]"
      }
     },
     "4b3573f34f054f62924669a440fc205b": {
      "model_module": "@jupyter-widgets/base",
      "model_module_version": "2.0.0",
      "model_name": "LayoutModel",
      "state": {
       "_model_module": "@jupyter-widgets/base",
       "_model_module_version": "2.0.0",
       "_model_name": "LayoutModel",
       "_view_count": null,
       "_view_module": "@jupyter-widgets/base",
       "_view_module_version": "2.0.0",
       "_view_name": "LayoutView",
       "align_content": null,
       "align_items": null,
       "align_self": null,
       "border_bottom": null,
       "border_left": null,
       "border_right": null,
       "border_top": null,
       "bottom": null,
       "display": null,
       "flex": null,
       "flex_flow": null,
       "grid_area": null,
       "grid_auto_columns": null,
       "grid_auto_flow": null,
       "grid_auto_rows": null,
       "grid_column": null,
       "grid_gap": null,
       "grid_row": null,
       "grid_template_areas": null,
       "grid_template_columns": null,
       "grid_template_rows": null,
       "height": null,
       "justify_content": null,
       "justify_items": null,
       "left": null,
       "margin": null,
       "max_height": null,
       "max_width": null,
       "min_height": null,
       "min_width": null,
       "object_fit": null,
       "object_position": null,
       "order": null,
       "overflow": null,
       "padding": null,
       "right": null,
       "top": null,
       "visibility": null,
       "width": null
      }
     },
     "4e33c4dd98e744828f4d3aeebd337f6b": {
      "model_module": "@jupyter-widgets/base",
      "model_module_version": "2.0.0",
      "model_name": "LayoutModel",
      "state": {
       "_model_module": "@jupyter-widgets/base",
       "_model_module_version": "2.0.0",
       "_model_name": "LayoutModel",
       "_view_count": null,
       "_view_module": "@jupyter-widgets/base",
       "_view_module_version": "2.0.0",
       "_view_name": "LayoutView",
       "align_content": null,
       "align_items": null,
       "align_self": null,
       "border_bottom": null,
       "border_left": null,
       "border_right": null,
       "border_top": null,
       "bottom": null,
       "display": null,
       "flex": null,
       "flex_flow": null,
       "grid_area": null,
       "grid_auto_columns": null,
       "grid_auto_flow": null,
       "grid_auto_rows": null,
       "grid_column": null,
       "grid_gap": null,
       "grid_row": null,
       "grid_template_areas": null,
       "grid_template_columns": null,
       "grid_template_rows": null,
       "height": null,
       "justify_content": null,
       "justify_items": null,
       "left": null,
       "margin": null,
       "max_height": null,
       "max_width": null,
       "min_height": null,
       "min_width": null,
       "object_fit": null,
       "object_position": null,
       "order": null,
       "overflow": null,
       "padding": null,
       "right": null,
       "top": null,
       "visibility": null,
       "width": null
      }
     },
     "5d97b4f92a894c559fe7b2aa06998800": {
      "model_module": "@jupyter-widgets/base",
      "model_module_version": "2.0.0",
      "model_name": "LayoutModel",
      "state": {
       "_model_module": "@jupyter-widgets/base",
       "_model_module_version": "2.0.0",
       "_model_name": "LayoutModel",
       "_view_count": null,
       "_view_module": "@jupyter-widgets/base",
       "_view_module_version": "2.0.0",
       "_view_name": "LayoutView",
       "align_content": null,
       "align_items": null,
       "align_self": null,
       "border_bottom": null,
       "border_left": null,
       "border_right": null,
       "border_top": null,
       "bottom": null,
       "display": null,
       "flex": null,
       "flex_flow": null,
       "grid_area": null,
       "grid_auto_columns": null,
       "grid_auto_flow": null,
       "grid_auto_rows": null,
       "grid_column": null,
       "grid_gap": null,
       "grid_row": null,
       "grid_template_areas": null,
       "grid_template_columns": null,
       "grid_template_rows": null,
       "height": null,
       "justify_content": null,
       "justify_items": null,
       "left": null,
       "margin": null,
       "max_height": null,
       "max_width": null,
       "min_height": null,
       "min_width": null,
       "object_fit": null,
       "object_position": null,
       "order": null,
       "overflow": null,
       "padding": null,
       "right": null,
       "top": null,
       "visibility": null,
       "width": null
      }
     },
     "611f9d744e334bbfb103abef507b751d": {
      "model_module": "@jupyter-widgets/base",
      "model_module_version": "2.0.0",
      "model_name": "LayoutModel",
      "state": {
       "_model_module": "@jupyter-widgets/base",
       "_model_module_version": "2.0.0",
       "_model_name": "LayoutModel",
       "_view_count": null,
       "_view_module": "@jupyter-widgets/base",
       "_view_module_version": "2.0.0",
       "_view_name": "LayoutView",
       "align_content": null,
       "align_items": null,
       "align_self": null,
       "border_bottom": null,
       "border_left": null,
       "border_right": null,
       "border_top": null,
       "bottom": null,
       "display": null,
       "flex": null,
       "flex_flow": null,
       "grid_area": null,
       "grid_auto_columns": null,
       "grid_auto_flow": null,
       "grid_auto_rows": null,
       "grid_column": null,
       "grid_gap": null,
       "grid_row": null,
       "grid_template_areas": null,
       "grid_template_columns": null,
       "grid_template_rows": null,
       "height": null,
       "justify_content": null,
       "justify_items": null,
       "left": null,
       "margin": null,
       "max_height": null,
       "max_width": null,
       "min_height": null,
       "min_width": null,
       "object_fit": null,
       "object_position": null,
       "order": null,
       "overflow": null,
       "padding": null,
       "right": null,
       "top": null,
       "visibility": null,
       "width": null
      }
     },
     "6e29730c1f49418bbc59eb4f49ed4975": {
      "model_module": "@jupyter-widgets/controls",
      "model_module_version": "2.0.0",
      "model_name": "HTMLModel",
      "state": {
       "_dom_classes": [],
       "_model_module": "@jupyter-widgets/controls",
       "_model_module_version": "2.0.0",
       "_model_name": "HTMLModel",
       "_view_count": null,
       "_view_module": "@jupyter-widgets/controls",
       "_view_module_version": "2.0.0",
       "_view_name": "HTMLView",
       "description": "",
       "description_allow_html": false,
       "layout": "IPY_MODEL_c331cf0fd6884184af96538ca2958fa0",
       "placeholder": "​",
       "style": "IPY_MODEL_1787c83560784083ab5dba976e081bb6",
       "tabbable": null,
       "tooltip": null,
       "value": "Map: 100%"
      }
     },
     "715c91a1285d43ca95e6b8407ee1840d": {
      "model_module": "@jupyter-widgets/controls",
      "model_module_version": "2.0.0",
      "model_name": "HTMLStyleModel",
      "state": {
       "_model_module": "@jupyter-widgets/controls",
       "_model_module_version": "2.0.0",
       "_model_name": "HTMLStyleModel",
       "_view_count": null,
       "_view_module": "@jupyter-widgets/base",
       "_view_module_version": "2.0.0",
       "_view_name": "StyleView",
       "background": null,
       "description_width": "",
       "font_size": null,
       "text_color": null
      }
     },
     "7640b6f1f81442e0988e5b8fbeaec786": {
      "model_module": "@jupyter-widgets/controls",
      "model_module_version": "2.0.0",
      "model_name": "HBoxModel",
      "state": {
       "_dom_classes": [],
       "_model_module": "@jupyter-widgets/controls",
       "_model_module_version": "2.0.0",
       "_model_name": "HBoxModel",
       "_view_count": null,
       "_view_module": "@jupyter-widgets/controls",
       "_view_module_version": "2.0.0",
       "_view_name": "HBoxView",
       "box_style": "",
       "children": [
        "IPY_MODEL_b84bb16f490d44c6aa27c5bff30021a3",
        "IPY_MODEL_85f8558ee57e426bb41bfe04a8e0fb1a",
        "IPY_MODEL_8c0f4bb0c0a34a5d886452c26959956e"
       ],
       "layout": "IPY_MODEL_efd612551bfc48b7ba47a1f7e7f170d4",
       "tabbable": null,
       "tooltip": null
      }
     },
     "7a11ecb2aa59463a96a334a67cd5bf77": {
      "model_module": "@jupyter-widgets/controls",
      "model_module_version": "2.0.0",
      "model_name": "ProgressStyleModel",
      "state": {
       "_model_module": "@jupyter-widgets/controls",
       "_model_module_version": "2.0.0",
       "_model_name": "ProgressStyleModel",
       "_view_count": null,
       "_view_module": "@jupyter-widgets/base",
       "_view_module_version": "2.0.0",
       "_view_name": "StyleView",
       "bar_color": null,
       "description_width": ""
      }
     },
     "85f8558ee57e426bb41bfe04a8e0fb1a": {
      "model_module": "@jupyter-widgets/controls",
      "model_module_version": "2.0.0",
      "model_name": "FloatProgressModel",
      "state": {
       "_dom_classes": [],
       "_model_module": "@jupyter-widgets/controls",
       "_model_module_version": "2.0.0",
       "_model_name": "FloatProgressModel",
       "_view_count": null,
       "_view_module": "@jupyter-widgets/controls",
       "_view_module_version": "2.0.0",
       "_view_name": "ProgressView",
       "bar_style": "success",
       "description": "",
       "description_allow_html": false,
       "layout": "IPY_MODEL_5d97b4f92a894c559fe7b2aa06998800",
       "max": 23519,
       "min": 0,
       "orientation": "horizontal",
       "style": "IPY_MODEL_7a11ecb2aa59463a96a334a67cd5bf77",
       "tabbable": null,
       "tooltip": null,
       "value": 23519
      }
     },
     "8aaace4e623348849098c384e86c1d35": {
      "model_module": "@jupyter-widgets/controls",
      "model_module_version": "2.0.0",
      "model_name": "HTMLStyleModel",
      "state": {
       "_model_module": "@jupyter-widgets/controls",
       "_model_module_version": "2.0.0",
       "_model_name": "HTMLStyleModel",
       "_view_count": null,
       "_view_module": "@jupyter-widgets/base",
       "_view_module_version": "2.0.0",
       "_view_name": "StyleView",
       "background": null,
       "description_width": "",
       "font_size": null,
       "text_color": null
      }
     },
     "8c0f4bb0c0a34a5d886452c26959956e": {
      "model_module": "@jupyter-widgets/controls",
      "model_module_version": "2.0.0",
      "model_name": "HTMLModel",
      "state": {
       "_dom_classes": [],
       "_model_module": "@jupyter-widgets/controls",
       "_model_module_version": "2.0.0",
       "_model_name": "HTMLModel",
       "_view_count": null,
       "_view_module": "@jupyter-widgets/controls",
       "_view_module_version": "2.0.0",
       "_view_name": "HTMLView",
       "description": "",
       "description_allow_html": false,
       "layout": "IPY_MODEL_c6c17020424d4d0593cc2b62065c4ee1",
       "placeholder": "​",
       "style": "IPY_MODEL_8aaace4e623348849098c384e86c1d35",
       "tabbable": null,
       "tooltip": null,
       "value": " 23519/23519 [00:01&lt;00:00, 20194.13 examples/s]"
      }
     },
     "8dc207a1965048b6bdbef3c6fc2f8388": {
      "model_module": "@jupyter-widgets/base",
      "model_module_version": "2.0.0",
      "model_name": "LayoutModel",
      "state": {
       "_model_module": "@jupyter-widgets/base",
       "_model_module_version": "2.0.0",
       "_model_name": "LayoutModel",
       "_view_count": null,
       "_view_module": "@jupyter-widgets/base",
       "_view_module_version": "2.0.0",
       "_view_name": "LayoutView",
       "align_content": null,
       "align_items": null,
       "align_self": null,
       "border_bottom": null,
       "border_left": null,
       "border_right": null,
       "border_top": null,
       "bottom": null,
       "display": null,
       "flex": null,
       "flex_flow": null,
       "grid_area": null,
       "grid_auto_columns": null,
       "grid_auto_flow": null,
       "grid_auto_rows": null,
       "grid_column": null,
       "grid_gap": null,
       "grid_row": null,
       "grid_template_areas": null,
       "grid_template_columns": null,
       "grid_template_rows": null,
       "height": null,
       "justify_content": null,
       "justify_items": null,
       "left": null,
       "margin": null,
       "max_height": null,
       "max_width": null,
       "min_height": null,
       "min_width": null,
       "object_fit": null,
       "object_position": null,
       "order": null,
       "overflow": null,
       "padding": null,
       "right": null,
       "top": null,
       "visibility": null,
       "width": null
      }
     },
     "988819f9a528446b88ccbb4c8f91bfb8": {
      "model_module": "@jupyter-widgets/controls",
      "model_module_version": "2.0.0",
      "model_name": "FloatProgressModel",
      "state": {
       "_dom_classes": [],
       "_model_module": "@jupyter-widgets/controls",
       "_model_module_version": "2.0.0",
       "_model_name": "FloatProgressModel",
       "_view_count": null,
       "_view_module": "@jupyter-widgets/controls",
       "_view_module_version": "2.0.0",
       "_view_name": "ProgressView",
       "bar_style": "success",
       "description": "",
       "description_allow_html": false,
       "layout": "IPY_MODEL_2bfe82d28c33487b908bcc3ef1d9e405",
       "max": 94073,
       "min": 0,
       "orientation": "horizontal",
       "style": "IPY_MODEL_381cd4a43a1741ec8cf336a5216989a1",
       "tabbable": null,
       "tooltip": null,
       "value": 94073
      }
     },
     "9d78046ec2aa4991ac500995d25a509d": {
      "model_module": "@jupyter-widgets/controls",
      "model_module_version": "2.0.0",
      "model_name": "HTMLModel",
      "state": {
       "_dom_classes": [],
       "_model_module": "@jupyter-widgets/controls",
       "_model_module_version": "2.0.0",
       "_model_name": "HTMLModel",
       "_view_count": null,
       "_view_module": "@jupyter-widgets/controls",
       "_view_module_version": "2.0.0",
       "_view_name": "HTMLView",
       "description": "",
       "description_allow_html": false,
       "layout": "IPY_MODEL_4e33c4dd98e744828f4d3aeebd337f6b",
       "placeholder": "​",
       "style": "IPY_MODEL_3078aefba4d94fdf88058c4b8bebdeed",
       "tabbable": null,
       "tooltip": null,
       "value": " 94073/94073 [07:59&lt;00:00, 189.74 examples/s]"
      }
     },
     "a5d5c0541ffb4892a88f824eee3465c1": {
      "model_module": "@jupyter-widgets/controls",
      "model_module_version": "2.0.0",
      "model_name": "HBoxModel",
      "state": {
       "_dom_classes": [],
       "_model_module": "@jupyter-widgets/controls",
       "_model_module_version": "2.0.0",
       "_model_name": "HBoxModel",
       "_view_count": null,
       "_view_module": "@jupyter-widgets/controls",
       "_view_module_version": "2.0.0",
       "_view_name": "HBoxView",
       "box_style": "",
       "children": [
        "IPY_MODEL_1786c4e33ca343cea0320e80096c0490",
        "IPY_MODEL_988819f9a528446b88ccbb4c8f91bfb8",
        "IPY_MODEL_0f9ae7cdc0204ef5a1e7f2dde6ffd6f3"
       ],
       "layout": "IPY_MODEL_611f9d744e334bbfb103abef507b751d",
       "tabbable": null,
       "tooltip": null
      }
     },
     "a84948e411164f719831d686acc42390": {
      "model_module": "@jupyter-widgets/controls",
      "model_module_version": "2.0.0",
      "model_name": "HTMLStyleModel",
      "state": {
       "_model_module": "@jupyter-widgets/controls",
       "_model_module_version": "2.0.0",
       "_model_name": "HTMLStyleModel",
       "_view_count": null,
       "_view_module": "@jupyter-widgets/base",
       "_view_module_version": "2.0.0",
       "_view_name": "StyleView",
       "background": null,
       "description_width": "",
       "font_size": null,
       "text_color": null
      }
     },
     "ad6a3c9bc62841e0b61af537d5ad18e1": {
      "model_module": "@jupyter-widgets/base",
      "model_module_version": "2.0.0",
      "model_name": "LayoutModel",
      "state": {
       "_model_module": "@jupyter-widgets/base",
       "_model_module_version": "2.0.0",
       "_model_name": "LayoutModel",
       "_view_count": null,
       "_view_module": "@jupyter-widgets/base",
       "_view_module_version": "2.0.0",
       "_view_name": "LayoutView",
       "align_content": null,
       "align_items": null,
       "align_self": null,
       "border_bottom": null,
       "border_left": null,
       "border_right": null,
       "border_top": null,
       "bottom": null,
       "display": null,
       "flex": null,
       "flex_flow": null,
       "grid_area": null,
       "grid_auto_columns": null,
       "grid_auto_flow": null,
       "grid_auto_rows": null,
       "grid_column": null,
       "grid_gap": null,
       "grid_row": null,
       "grid_template_areas": null,
       "grid_template_columns": null,
       "grid_template_rows": null,
       "height": null,
       "justify_content": null,
       "justify_items": null,
       "left": null,
       "margin": null,
       "max_height": null,
       "max_width": null,
       "min_height": null,
       "min_width": null,
       "object_fit": null,
       "object_position": null,
       "order": null,
       "overflow": null,
       "padding": null,
       "right": null,
       "top": null,
       "visibility": null,
       "width": null
      }
     },
     "b22ca1c2ca9b446eab70c1606016466e": {
      "model_module": "@jupyter-widgets/base",
      "model_module_version": "2.0.0",
      "model_name": "LayoutModel",
      "state": {
       "_model_module": "@jupyter-widgets/base",
       "_model_module_version": "2.0.0",
       "_model_name": "LayoutModel",
       "_view_count": null,
       "_view_module": "@jupyter-widgets/base",
       "_view_module_version": "2.0.0",
       "_view_name": "LayoutView",
       "align_content": null,
       "align_items": null,
       "align_self": null,
       "border_bottom": null,
       "border_left": null,
       "border_right": null,
       "border_top": null,
       "bottom": null,
       "display": null,
       "flex": null,
       "flex_flow": null,
       "grid_area": null,
       "grid_auto_columns": null,
       "grid_auto_flow": null,
       "grid_auto_rows": null,
       "grid_column": null,
       "grid_gap": null,
       "grid_row": null,
       "grid_template_areas": null,
       "grid_template_columns": null,
       "grid_template_rows": null,
       "height": null,
       "justify_content": null,
       "justify_items": null,
       "left": null,
       "margin": null,
       "max_height": null,
       "max_width": null,
       "min_height": null,
       "min_width": null,
       "object_fit": null,
       "object_position": null,
       "order": null,
       "overflow": null,
       "padding": null,
       "right": null,
       "top": null,
       "visibility": null,
       "width": null
      }
     },
     "b84bb16f490d44c6aa27c5bff30021a3": {
      "model_module": "@jupyter-widgets/controls",
      "model_module_version": "2.0.0",
      "model_name": "HTMLModel",
      "state": {
       "_dom_classes": [],
       "_model_module": "@jupyter-widgets/controls",
       "_model_module_version": "2.0.0",
       "_model_name": "HTMLModel",
       "_view_count": null,
       "_view_module": "@jupyter-widgets/controls",
       "_view_module_version": "2.0.0",
       "_view_name": "HTMLView",
       "description": "",
       "description_allow_html": false,
       "layout": "IPY_MODEL_11c9e014a57e4cf283b86270da881bce",
       "placeholder": "​",
       "style": "IPY_MODEL_3e5991ac519c4dcfa37ea37e5738b537",
       "tabbable": null,
       "tooltip": null,
       "value": "Map: 100%"
      }
     },
     "c331cf0fd6884184af96538ca2958fa0": {
      "model_module": "@jupyter-widgets/base",
      "model_module_version": "2.0.0",
      "model_name": "LayoutModel",
      "state": {
       "_model_module": "@jupyter-widgets/base",
       "_model_module_version": "2.0.0",
       "_model_name": "LayoutModel",
       "_view_count": null,
       "_view_module": "@jupyter-widgets/base",
       "_view_module_version": "2.0.0",
       "_view_name": "LayoutView",
       "align_content": null,
       "align_items": null,
       "align_self": null,
       "border_bottom": null,
       "border_left": null,
       "border_right": null,
       "border_top": null,
       "bottom": null,
       "display": null,
       "flex": null,
       "flex_flow": null,
       "grid_area": null,
       "grid_auto_columns": null,
       "grid_auto_flow": null,
       "grid_auto_rows": null,
       "grid_column": null,
       "grid_gap": null,
       "grid_row": null,
       "grid_template_areas": null,
       "grid_template_columns": null,
       "grid_template_rows": null,
       "height": null,
       "justify_content": null,
       "justify_items": null,
       "left": null,
       "margin": null,
       "max_height": null,
       "max_width": null,
       "min_height": null,
       "min_width": null,
       "object_fit": null,
       "object_position": null,
       "order": null,
       "overflow": null,
       "padding": null,
       "right": null,
       "top": null,
       "visibility": null,
       "width": null
      }
     },
     "c6c17020424d4d0593cc2b62065c4ee1": {
      "model_module": "@jupyter-widgets/base",
      "model_module_version": "2.0.0",
      "model_name": "LayoutModel",
      "state": {
       "_model_module": "@jupyter-widgets/base",
       "_model_module_version": "2.0.0",
       "_model_name": "LayoutModel",
       "_view_count": null,
       "_view_module": "@jupyter-widgets/base",
       "_view_module_version": "2.0.0",
       "_view_name": "LayoutView",
       "align_content": null,
       "align_items": null,
       "align_self": null,
       "border_bottom": null,
       "border_left": null,
       "border_right": null,
       "border_top": null,
       "bottom": null,
       "display": null,
       "flex": null,
       "flex_flow": null,
       "grid_area": null,
       "grid_auto_columns": null,
       "grid_auto_flow": null,
       "grid_auto_rows": null,
       "grid_column": null,
       "grid_gap": null,
       "grid_row": null,
       "grid_template_areas": null,
       "grid_template_columns": null,
       "grid_template_rows": null,
       "height": null,
       "justify_content": null,
       "justify_items": null,
       "left": null,
       "margin": null,
       "max_height": null,
       "max_width": null,
       "min_height": null,
       "min_width": null,
       "object_fit": null,
       "object_position": null,
       "order": null,
       "overflow": null,
       "padding": null,
       "right": null,
       "top": null,
       "visibility": null,
       "width": null
      }
     },
     "cad86c8931ac4ef6a0ad137fc06cab6a": {
      "model_module": "@jupyter-widgets/controls",
      "model_module_version": "2.0.0",
      "model_name": "HTMLStyleModel",
      "state": {
       "_model_module": "@jupyter-widgets/controls",
       "_model_module_version": "2.0.0",
       "_model_name": "HTMLStyleModel",
       "_view_count": null,
       "_view_module": "@jupyter-widgets/base",
       "_view_module_version": "2.0.0",
       "_view_name": "StyleView",
       "background": null,
       "description_width": "",
       "font_size": null,
       "text_color": null
      }
     },
     "d3e15b179a924692afd9875b1b1b44f7": {
      "model_module": "@jupyter-widgets/controls",
      "model_module_version": "2.0.0",
      "model_name": "ProgressStyleModel",
      "state": {
       "_model_module": "@jupyter-widgets/controls",
       "_model_module_version": "2.0.0",
       "_model_name": "ProgressStyleModel",
       "_view_count": null,
       "_view_module": "@jupyter-widgets/base",
       "_view_module_version": "2.0.0",
       "_view_name": "StyleView",
       "bar_color": null,
       "description_width": ""
      }
     },
     "d4e6f25df93f40319974192ff7ea52a6": {
      "model_module": "@jupyter-widgets/base",
      "model_module_version": "2.0.0",
      "model_name": "LayoutModel",
      "state": {
       "_model_module": "@jupyter-widgets/base",
       "_model_module_version": "2.0.0",
       "_model_name": "LayoutModel",
       "_view_count": null,
       "_view_module": "@jupyter-widgets/base",
       "_view_module_version": "2.0.0",
       "_view_name": "LayoutView",
       "align_content": null,
       "align_items": null,
       "align_self": null,
       "border_bottom": null,
       "border_left": null,
       "border_right": null,
       "border_top": null,
       "bottom": null,
       "display": null,
       "flex": null,
       "flex_flow": null,
       "grid_area": null,
       "grid_auto_columns": null,
       "grid_auto_flow": null,
       "grid_auto_rows": null,
       "grid_column": null,
       "grid_gap": null,
       "grid_row": null,
       "grid_template_areas": null,
       "grid_template_columns": null,
       "grid_template_rows": null,
       "height": null,
       "justify_content": null,
       "justify_items": null,
       "left": null,
       "margin": null,
       "max_height": null,
       "max_width": null,
       "min_height": null,
       "min_width": null,
       "object_fit": null,
       "object_position": null,
       "order": null,
       "overflow": null,
       "padding": null,
       "right": null,
       "top": null,
       "visibility": null,
       "width": null
      }
     },
     "dd1cfabc05794ea49181c804d97fd0ea": {
      "model_module": "@jupyter-widgets/controls",
      "model_module_version": "2.0.0",
      "model_name": "ProgressStyleModel",
      "state": {
       "_model_module": "@jupyter-widgets/controls",
       "_model_module_version": "2.0.0",
       "_model_name": "ProgressStyleModel",
       "_view_count": null,
       "_view_module": "@jupyter-widgets/base",
       "_view_module_version": "2.0.0",
       "_view_name": "StyleView",
       "bar_color": null,
       "description_width": ""
      }
     },
     "de82b9f771d349a18e948669c9e6e216": {
      "model_module": "@jupyter-widgets/controls",
      "model_module_version": "2.0.0",
      "model_name": "HBoxModel",
      "state": {
       "_dom_classes": [],
       "_model_module": "@jupyter-widgets/controls",
       "_model_module_version": "2.0.0",
       "_model_name": "HBoxModel",
       "_view_count": null,
       "_view_module": "@jupyter-widgets/controls",
       "_view_module_version": "2.0.0",
       "_view_name": "HBoxView",
       "box_style": "",
       "children": [
        "IPY_MODEL_6e29730c1f49418bbc59eb4f49ed4975",
        "IPY_MODEL_f5a167a5df83469db4de1fbe57b12c2d",
        "IPY_MODEL_4904b8c22350446eb4032199aadb82c8"
       ],
       "layout": "IPY_MODEL_028bba7d9bce4ae4a114c4c9d52f3f53",
       "tabbable": null,
       "tooltip": null
      }
     },
     "eac4bf74633c4ea0aa6b8ae3a033a0bd": {
      "model_module": "@jupyter-widgets/base",
      "model_module_version": "2.0.0",
      "model_name": "LayoutModel",
      "state": {
       "_model_module": "@jupyter-widgets/base",
       "_model_module_version": "2.0.0",
       "_model_name": "LayoutModel",
       "_view_count": null,
       "_view_module": "@jupyter-widgets/base",
       "_view_module_version": "2.0.0",
       "_view_name": "LayoutView",
       "align_content": null,
       "align_items": null,
       "align_self": null,
       "border_bottom": null,
       "border_left": null,
       "border_right": null,
       "border_top": null,
       "bottom": null,
       "display": null,
       "flex": null,
       "flex_flow": null,
       "grid_area": null,
       "grid_auto_columns": null,
       "grid_auto_flow": null,
       "grid_auto_rows": null,
       "grid_column": null,
       "grid_gap": null,
       "grid_row": null,
       "grid_template_areas": null,
       "grid_template_columns": null,
       "grid_template_rows": null,
       "height": null,
       "justify_content": null,
       "justify_items": null,
       "left": null,
       "margin": null,
       "max_height": null,
       "max_width": null,
       "min_height": null,
       "min_width": null,
       "object_fit": null,
       "object_position": null,
       "order": null,
       "overflow": null,
       "padding": null,
       "right": null,
       "top": null,
       "visibility": null,
       "width": null
      }
     },
     "eed1cbaf812d4b20966c69ba3ad8dcdc": {
      "model_module": "@jupyter-widgets/controls",
      "model_module_version": "2.0.0",
      "model_name": "HTMLStyleModel",
      "state": {
       "_model_module": "@jupyter-widgets/controls",
       "_model_module_version": "2.0.0",
       "_model_name": "HTMLStyleModel",
       "_view_count": null,
       "_view_module": "@jupyter-widgets/base",
       "_view_module_version": "2.0.0",
       "_view_name": "StyleView",
       "background": null,
       "description_width": "",
       "font_size": null,
       "text_color": null
      }
     },
     "efd612551bfc48b7ba47a1f7e7f170d4": {
      "model_module": "@jupyter-widgets/base",
      "model_module_version": "2.0.0",
      "model_name": "LayoutModel",
      "state": {
       "_model_module": "@jupyter-widgets/base",
       "_model_module_version": "2.0.0",
       "_model_name": "LayoutModel",
       "_view_count": null,
       "_view_module": "@jupyter-widgets/base",
       "_view_module_version": "2.0.0",
       "_view_name": "LayoutView",
       "align_content": null,
       "align_items": null,
       "align_self": null,
       "border_bottom": null,
       "border_left": null,
       "border_right": null,
       "border_top": null,
       "bottom": null,
       "display": null,
       "flex": null,
       "flex_flow": null,
       "grid_area": null,
       "grid_auto_columns": null,
       "grid_auto_flow": null,
       "grid_auto_rows": null,
       "grid_column": null,
       "grid_gap": null,
       "grid_row": null,
       "grid_template_areas": null,
       "grid_template_columns": null,
       "grid_template_rows": null,
       "height": null,
       "justify_content": null,
       "justify_items": null,
       "left": null,
       "margin": null,
       "max_height": null,
       "max_width": null,
       "min_height": null,
       "min_width": null,
       "object_fit": null,
       "object_position": null,
       "order": null,
       "overflow": null,
       "padding": null,
       "right": null,
       "top": null,
       "visibility": null,
       "width": null
      }
     },
     "f5a167a5df83469db4de1fbe57b12c2d": {
      "model_module": "@jupyter-widgets/controls",
      "model_module_version": "2.0.0",
      "model_name": "FloatProgressModel",
      "state": {
       "_dom_classes": [],
       "_model_module": "@jupyter-widgets/controls",
       "_model_module_version": "2.0.0",
       "_model_name": "FloatProgressModel",
       "_view_count": null,
       "_view_module": "@jupyter-widgets/controls",
       "_view_module_version": "2.0.0",
       "_view_name": "ProgressView",
       "bar_style": "success",
       "description": "",
       "description_allow_html": false,
       "layout": "IPY_MODEL_8dc207a1965048b6bdbef3c6fc2f8388",
       "max": 23519,
       "min": 0,
       "orientation": "horizontal",
       "style": "IPY_MODEL_d3e15b179a924692afd9875b1b1b44f7",
       "tabbable": null,
       "tooltip": null,
       "value": 23519
      }
     }
    },
    "version_major": 2,
    "version_minor": 0
   }
  }
 },
 "nbformat": 4,
 "nbformat_minor": 5
}
