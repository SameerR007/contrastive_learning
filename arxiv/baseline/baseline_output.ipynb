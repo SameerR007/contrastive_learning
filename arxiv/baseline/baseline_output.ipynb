{
 "cells": [
  {
   "cell_type": "code",
   "execution_count": 1,
   "id": "c643a105",
   "metadata": {
    "execution": {
     "iopub.execute_input": "2025-02-03T14:00:10.013635Z",
     "iopub.status.busy": "2025-02-03T14:00:10.013063Z",
     "iopub.status.idle": "2025-02-03T14:00:15.142546Z",
     "shell.execute_reply": "2025-02-03T14:00:15.142068Z"
    },
    "papermill": {
     "duration": 5.136904,
     "end_time": "2025-02-03T14:00:15.143507",
     "exception": false,
     "start_time": "2025-02-03T14:00:10.006603",
     "status": "completed"
    },
    "tags": []
   },
   "outputs": [],
   "source": [
    "from datasets import load_dataset"
   ]
  },
  {
   "cell_type": "code",
   "execution_count": 2,
   "id": "bcba0194",
   "metadata": {
    "execution": {
     "iopub.execute_input": "2025-02-03T14:00:15.156022Z",
     "iopub.status.busy": "2025-02-03T14:00:15.155476Z",
     "iopub.status.idle": "2025-02-03T14:00:16.949989Z",
     "shell.execute_reply": "2025-02-03T14:00:16.949553Z"
    },
    "papermill": {
     "duration": 1.802051,
     "end_time": "2025-02-03T14:00:16.950945",
     "exception": false,
     "start_time": "2025-02-03T14:00:15.148894",
     "status": "completed"
    },
    "tags": []
   },
   "outputs": [],
   "source": [
    "dataset = load_dataset(\"CShorten/ML-ArXiv-Papers\")"
   ]
  },
  {
   "cell_type": "code",
   "execution_count": 3,
   "id": "9c77ff31",
   "metadata": {
    "execution": {
     "iopub.execute_input": "2025-02-03T14:00:16.962130Z",
     "iopub.status.busy": "2025-02-03T14:00:16.961675Z",
     "iopub.status.idle": "2025-02-03T14:00:16.966888Z",
     "shell.execute_reply": "2025-02-03T14:00:16.966448Z"
    },
    "papermill": {
     "duration": 0.011285,
     "end_time": "2025-02-03T14:00:16.967542",
     "exception": false,
     "start_time": "2025-02-03T14:00:16.956257",
     "status": "completed"
    },
    "tags": []
   },
   "outputs": [
    {
     "data": {
      "text/plain": [
       "DatasetDict({\n",
       "    train: Dataset({\n",
       "        features: ['Unnamed: 0.1', 'Unnamed: 0', 'title', 'abstract'],\n",
       "        num_rows: 117592\n",
       "    })\n",
       "})"
      ]
     },
     "execution_count": 3,
     "metadata": {},
     "output_type": "execute_result"
    }
   ],
   "source": [
    "dataset"
   ]
  },
  {
   "cell_type": "code",
   "execution_count": 4,
   "id": "04a2a273",
   "metadata": {
    "execution": {
     "iopub.execute_input": "2025-02-03T14:00:16.977742Z",
     "iopub.status.busy": "2025-02-03T14:00:16.977508Z",
     "iopub.status.idle": "2025-02-03T14:00:17.013617Z",
     "shell.execute_reply": "2025-02-03T14:00:17.013193Z"
    },
    "papermill": {
     "duration": 0.042303,
     "end_time": "2025-02-03T14:00:17.014605",
     "exception": false,
     "start_time": "2025-02-03T14:00:16.972302",
     "status": "completed"
    },
    "tags": []
   },
   "outputs": [],
   "source": [
    "split_datasets = dataset[\"train\"].train_test_split(test_size=0.2)"
   ]
  },
  {
   "cell_type": "code",
   "execution_count": 5,
   "id": "9dbe1eb6",
   "metadata": {
    "execution": {
     "iopub.execute_input": "2025-02-03T14:00:17.025163Z",
     "iopub.status.busy": "2025-02-03T14:00:17.024933Z",
     "iopub.status.idle": "2025-02-03T14:00:17.028521Z",
     "shell.execute_reply": "2025-02-03T14:00:17.028196Z"
    },
    "papermill": {
     "duration": 0.009492,
     "end_time": "2025-02-03T14:00:17.029198",
     "exception": false,
     "start_time": "2025-02-03T14:00:17.019706",
     "status": "completed"
    },
    "tags": []
   },
   "outputs": [
    {
     "data": {
      "text/plain": [
       "DatasetDict({\n",
       "    train: Dataset({\n",
       "        features: ['Unnamed: 0.1', 'Unnamed: 0', 'title', 'abstract'],\n",
       "        num_rows: 94073\n",
       "    })\n",
       "    test: Dataset({\n",
       "        features: ['Unnamed: 0.1', 'Unnamed: 0', 'title', 'abstract'],\n",
       "        num_rows: 23519\n",
       "    })\n",
       "})"
      ]
     },
     "execution_count": 5,
     "metadata": {},
     "output_type": "execute_result"
    }
   ],
   "source": [
    "split_datasets"
   ]
  },
  {
   "cell_type": "code",
   "execution_count": 6,
   "id": "3e518138",
   "metadata": {
    "execution": {
     "iopub.execute_input": "2025-02-03T14:00:17.039500Z",
     "iopub.status.busy": "2025-02-03T14:00:17.039258Z",
     "iopub.status.idle": "2025-02-03T14:00:17.042160Z",
     "shell.execute_reply": "2025-02-03T14:00:17.041499Z"
    },
    "papermill": {
     "duration": 0.00886,
     "end_time": "2025-02-03T14:00:17.042875",
     "exception": false,
     "start_time": "2025-02-03T14:00:17.034015",
     "status": "completed"
    },
    "tags": []
   },
   "outputs": [],
   "source": [
    "dataset_train = split_datasets[\"train\"]"
   ]
  },
  {
   "cell_type": "code",
   "execution_count": 7,
   "id": "0f892510",
   "metadata": {
    "execution": {
     "iopub.execute_input": "2025-02-03T14:00:17.053353Z",
     "iopub.status.busy": "2025-02-03T14:00:17.053171Z",
     "iopub.status.idle": "2025-02-03T14:00:17.056340Z",
     "shell.execute_reply": "2025-02-03T14:00:17.055973Z"
    },
    "papermill": {
     "duration": 0.009235,
     "end_time": "2025-02-03T14:00:17.057067",
     "exception": false,
     "start_time": "2025-02-03T14:00:17.047832",
     "status": "completed"
    },
    "tags": []
   },
   "outputs": [
    {
     "data": {
      "text/plain": [
       "Dataset({\n",
       "    features: ['Unnamed: 0.1', 'Unnamed: 0', 'title', 'abstract'],\n",
       "    num_rows: 94073\n",
       "})"
      ]
     },
     "execution_count": 7,
     "metadata": {},
     "output_type": "execute_result"
    }
   ],
   "source": [
    "dataset_train"
   ]
  },
  {
   "cell_type": "code",
   "execution_count": 8,
   "id": "135d2875",
   "metadata": {
    "execution": {
     "iopub.execute_input": "2025-02-03T14:00:17.068337Z",
     "iopub.status.busy": "2025-02-03T14:00:17.068038Z",
     "iopub.status.idle": "2025-02-03T14:00:17.071683Z",
     "shell.execute_reply": "2025-02-03T14:00:17.071387Z"
    },
    "papermill": {
     "duration": 0.010249,
     "end_time": "2025-02-03T14:00:17.072544",
     "exception": false,
     "start_time": "2025-02-03T14:00:17.062295",
     "status": "completed"
    },
    "tags": []
   },
   "outputs": [],
   "source": [
    "dataset_train = dataset_train.remove_columns(['Unnamed: 0','Unnamed: 0.1'])"
   ]
  },
  {
   "cell_type": "code",
   "execution_count": 9,
   "id": "cbcdbc4c",
   "metadata": {
    "execution": {
     "iopub.execute_input": "2025-02-03T14:00:17.083529Z",
     "iopub.status.busy": "2025-02-03T14:00:17.083044Z",
     "iopub.status.idle": "2025-02-03T14:00:17.086270Z",
     "shell.execute_reply": "2025-02-03T14:00:17.085743Z"
    },
    "papermill": {
     "duration": 0.009366,
     "end_time": "2025-02-03T14:00:17.086930",
     "exception": false,
     "start_time": "2025-02-03T14:00:17.077564",
     "status": "completed"
    },
    "tags": []
   },
   "outputs": [
    {
     "data": {
      "text/plain": [
       "Dataset({\n",
       "    features: ['title', 'abstract'],\n",
       "    num_rows: 94073\n",
       "})"
      ]
     },
     "execution_count": 9,
     "metadata": {},
     "output_type": "execute_result"
    }
   ],
   "source": [
    "dataset_train"
   ]
  },
  {
   "cell_type": "code",
   "execution_count": 10,
   "id": "1c3dbc53",
   "metadata": {
    "execution": {
     "iopub.execute_input": "2025-02-03T14:00:17.097743Z",
     "iopub.status.busy": "2025-02-03T14:00:17.097357Z",
     "iopub.status.idle": "2025-02-03T14:00:17.101096Z",
     "shell.execute_reply": "2025-02-03T14:00:17.100750Z"
    },
    "papermill": {
     "duration": 0.009738,
     "end_time": "2025-02-03T14:00:17.101752",
     "exception": false,
     "start_time": "2025-02-03T14:00:17.092014",
     "status": "completed"
    },
    "tags": []
   },
   "outputs": [
    {
     "data": {
      "text/plain": [
       "{'title': 'Improving trajectory calculations using deep learning inspired single image superresolution',\n",
       " 'abstract': 'Lagrangian trajectory or particle dispersion models as well as\\nsemi-Lagrangian advection schemes require meteorological data such as wind,\\ntemperature and geopotential at the exact spatio-temporal locations of the\\nparticles that move independently from a regular grid. Traditionally, this\\nhigh-resolution data has been obtained by interpolating the meteorological\\nparameters from the gridded data of a meteorological model or reanalysis, e.g.\\nusing linear interpolation in space and time. However, interpolation errors are\\na large source of error for these models. Reducing them requires meteorological\\ninput fields with high space and time resolution, which may not always be\\navailable and can cause severe data storage and transfer problems. Here, we\\ninterpret this problem as a single image superresolution task. We interpret\\nmeteorological fields available at their native resolution as low-resolution\\nimages and train deep neural networks to up-scale them to higher resolution,\\nthereby providing more accurate data for Lagrangian models. We train various\\nversions of the state-of-the-art Enhanced Deep Residual Networks for\\nSuperresolution on low-resolution ERA5 reanalysis data with the goal to\\nup-scale these data to arbitrary spatial resolution. We show that the resulting\\nup-scaled wind fields have root-mean-squared errors half the size of the winds\\nobtained with linear spatial interpolation at acceptable computational\\ninference costs. In a test setup using the Lagrangian particle dispersion model\\nFLEXPART and reduced-resolution wind fields, we demonstrate that absolute\\nhorizontal transport deviations of calculated trajectories from \"ground-truth\"\\ntrajectories calculated with undegraded 0.5{\\\\deg} winds are reduced by at least\\n49.5% (21.8%) after 48 hours relative to trajectories using linear\\ninterpolation of the wind data when training on 2{\\\\deg} to 1{\\\\deg} (4{\\\\deg} to\\n2{\\\\deg}) resolution data.'}"
      ]
     },
     "execution_count": 10,
     "metadata": {},
     "output_type": "execute_result"
    }
   ],
   "source": [
    "dataset_train[0]"
   ]
  },
  {
   "cell_type": "code",
   "execution_count": 11,
   "id": "045e63c7",
   "metadata": {
    "execution": {
     "iopub.execute_input": "2025-02-03T14:00:17.112665Z",
     "iopub.status.busy": "2025-02-03T14:00:17.112425Z",
     "iopub.status.idle": "2025-02-03T14:00:21.710036Z",
     "shell.execute_reply": "2025-02-03T14:00:21.709443Z"
    },
    "papermill": {
     "duration": 4.604027,
     "end_time": "2025-02-03T14:00:21.710889",
     "exception": false,
     "start_time": "2025-02-03T14:00:17.106862",
     "status": "completed"
    },
    "tags": []
   },
   "outputs": [
    {
     "data": {
      "application/vnd.jupyter.widget-view+json": {
       "model_id": "ceff0415aabe4decb8ec50c18d2f46f7",
       "version_major": 2,
       "version_minor": 0
      },
      "text/plain": [
       "Map:   0%|          | 0/94073 [00:00<?, ? examples/s]"
      ]
     },
     "metadata": {},
     "output_type": "display_data"
    }
   ],
   "source": [
    "dataset_train = dataset_train.map(lambda x, idx: { 'index': idx }, with_indices=True)"
   ]
  },
  {
   "cell_type": "code",
   "execution_count": 12,
   "id": "f4e9748a",
   "metadata": {
    "execution": {
     "iopub.execute_input": "2025-02-03T14:00:21.725364Z",
     "iopub.status.busy": "2025-02-03T14:00:21.724969Z",
     "iopub.status.idle": "2025-02-03T14:00:21.729084Z",
     "shell.execute_reply": "2025-02-03T14:00:21.728609Z"
    },
    "papermill": {
     "duration": 0.010837,
     "end_time": "2025-02-03T14:00:21.729730",
     "exception": false,
     "start_time": "2025-02-03T14:00:21.718893",
     "status": "completed"
    },
    "tags": []
   },
   "outputs": [
    {
     "data": {
      "text/plain": [
       "Dataset({\n",
       "    features: ['title', 'abstract', 'index'],\n",
       "    num_rows: 94073\n",
       "})"
      ]
     },
     "execution_count": 12,
     "metadata": {},
     "output_type": "execute_result"
    }
   ],
   "source": [
    "dataset_train"
   ]
  },
  {
   "cell_type": "code",
   "execution_count": 13,
   "id": "69efe8a2",
   "metadata": {
    "execution": {
     "iopub.execute_input": "2025-02-03T14:00:21.741150Z",
     "iopub.status.busy": "2025-02-03T14:00:21.740736Z",
     "iopub.status.idle": "2025-02-03T14:00:21.745903Z",
     "shell.execute_reply": "2025-02-03T14:00:21.745314Z"
    },
    "papermill": {
     "duration": 0.01173,
     "end_time": "2025-02-03T14:00:21.746696",
     "exception": false,
     "start_time": "2025-02-03T14:00:21.734966",
     "status": "completed"
    },
    "tags": []
   },
   "outputs": [
    {
     "data": {
      "text/plain": [
       "{'title': 'Rank-to-engage: New Listwise Approaches to Maximize Engagement',\n",
       " 'abstract': '  For many internet businesses, presenting a given list of items in an order\\nthat maximizes a certain metric of interest (e.g., click-through-rate, average\\nengagement time etc.) is crucial. We approach the aforementioned task from a\\nlearning-to-rank perspective which reveals a new problem setup. In traditional\\nlearning-to-rank literature, it is implicitly assumed that during the training\\ndata generation one has access to the \\\\emph{best or desired} order for the\\ngiven list of items. In this work, we consider a problem setup where we do not\\nobserve the desired ranking. We present two novel solutions: the first solution\\nis an extension of already existing listwise learning-to-rank\\ntechnique--Listwise maximum likelihood estimation (ListMLE)--while the second\\none is a generic machine learning based framework that tackles the problem in\\nits entire generality. We discuss several challenges associated with this\\ngeneric framework, and propose a simple \\\\emph{item-payoff} and\\n\\\\emph{positional-gain} model that addresses these challenges. We provide\\ntraining algorithms, inference procedures, and demonstrate the effectiveness of\\nthe two approaches over traditional ListMLE on synthetic as well as on\\nreal-life setting of ranking news articles for increased dwell time.\\n',\n",
       " 'index': 4}"
      ]
     },
     "execution_count": 13,
     "metadata": {},
     "output_type": "execute_result"
    }
   ],
   "source": [
    "dataset_train[4]"
   ]
  },
  {
   "cell_type": "code",
   "execution_count": 14,
   "id": "63f1c92e",
   "metadata": {
    "execution": {
     "iopub.execute_input": "2025-02-03T14:00:21.758655Z",
     "iopub.status.busy": "2025-02-03T14:00:21.758346Z",
     "iopub.status.idle": "2025-02-03T14:00:21.762083Z",
     "shell.execute_reply": "2025-02-03T14:00:21.761698Z"
    },
    "papermill": {
     "duration": 0.010279,
     "end_time": "2025-02-03T14:00:21.762716",
     "exception": false,
     "start_time": "2025-02-03T14:00:21.752437",
     "status": "completed"
    },
    "tags": []
   },
   "outputs": [
    {
     "data": {
      "text/plain": [
       "{'title': 'Contrastive Predictive Coding Based Feature for Automatic Speaker\\n  Verification',\n",
       " 'abstract': '  This thesis describes our ongoing work on Contrastive Predictive Coding (CPC)\\nfeatures for speaker verification. CPC is a recently proposed representation\\nlearning framework based on predictive coding and noise contrastive estimation.\\nWe focus on incorporating CPC features into the standard automatic speaker\\nverification systems, and we present our methods, experiments, and analysis.\\nThis thesis also details necessary background knowledge in past and recent work\\non automatic speaker verification systems, conventional speech features, and\\nthe motivation and techniques behind CPC.\\n',\n",
       " 'index': 20572}"
      ]
     },
     "execution_count": 14,
     "metadata": {},
     "output_type": "execute_result"
    }
   ],
   "source": [
    "dataset_train[20572]"
   ]
  },
  {
   "cell_type": "code",
   "execution_count": 15,
   "id": "e9993947",
   "metadata": {
    "execution": {
     "iopub.execute_input": "2025-02-03T14:00:21.774370Z",
     "iopub.status.busy": "2025-02-03T14:00:21.774144Z",
     "iopub.status.idle": "2025-02-03T14:00:21.823853Z",
     "shell.execute_reply": "2025-02-03T14:00:21.823492Z"
    },
    "papermill": {
     "duration": 0.056545,
     "end_time": "2025-02-03T14:00:21.824723",
     "exception": false,
     "start_time": "2025-02-03T14:00:21.768178",
     "status": "completed"
    },
    "tags": []
   },
   "outputs": [],
   "source": [
    "import numpy as np\n",
    "all_indexes = np.array(dataset_train['index'])"
   ]
  },
  {
   "cell_type": "code",
   "execution_count": 16,
   "id": "3c956f8e",
   "metadata": {
    "execution": {
     "iopub.execute_input": "2025-02-03T14:00:21.837384Z",
     "iopub.status.busy": "2025-02-03T14:00:21.836854Z",
     "iopub.status.idle": "2025-02-03T14:00:21.841364Z",
     "shell.execute_reply": "2025-02-03T14:00:21.840839Z"
    },
    "papermill": {
     "duration": 0.012106,
     "end_time": "2025-02-03T14:00:21.842613",
     "exception": false,
     "start_time": "2025-02-03T14:00:21.830507",
     "status": "completed"
    },
    "tags": []
   },
   "outputs": [],
   "source": [
    "import random\n",
    "\n",
    "def generate_hard_negatives(example, num_negatives=10,dataset=dataset_train):\n",
    "    query_index = example['index']\n",
    "    anchor = example['title']\n",
    "    positive = example['abstract']\n",
    "    \n",
    "    negatives = []\n",
    "    \n",
    "    negative_indexes = np.delete(all_indexes, np.where(all_indexes == query_index)) \n",
    "    \n",
    "    sampled_negatives = random.sample(list(negative_indexes), num_negatives)\n",
    "    \n",
    "    for idx in sampled_negatives:\n",
    "        negatives.append(dataset[int(idx)]['abstract'])\n",
    "    \n",
    "    return {\n",
    "        \"query\": anchor,\n",
    "        \"positive\": positive,\n",
    "        \"negatives\": negatives\n",
    "    }"
   ]
  },
  {
   "cell_type": "code",
   "execution_count": 17,
   "id": "6ab12866",
   "metadata": {
    "execution": {
     "iopub.execute_input": "2025-02-03T14:00:21.854416Z",
     "iopub.status.busy": "2025-02-03T14:00:21.854003Z",
     "iopub.status.idle": "2025-02-03T14:07:55.626204Z",
     "shell.execute_reply": "2025-02-03T14:07:55.625491Z"
    },
    "papermill": {
     "duration": 453.77892,
     "end_time": "2025-02-03T14:07:55.627066",
     "exception": false,
     "start_time": "2025-02-03T14:00:21.848146",
     "status": "completed"
    },
    "tags": []
   },
   "outputs": [
    {
     "data": {
      "application/vnd.jupyter.widget-view+json": {
       "model_id": "49cbacf112614412a2139acd5bb802c7",
       "version_major": 2,
       "version_minor": 0
      },
      "text/plain": [
       "Map:   0%|          | 0/94073 [00:00<?, ? examples/s]"
      ]
     },
     "metadata": {},
     "output_type": "display_data"
    }
   ],
   "source": [
    "processed_data_train = dataset_train.map(generate_hard_negatives, remove_columns=dataset_train.column_names)"
   ]
  },
  {
   "cell_type": "code",
   "execution_count": 18,
   "id": "861c271d",
   "metadata": {
    "execution": {
     "iopub.execute_input": "2025-02-03T14:07:55.641881Z",
     "iopub.status.busy": "2025-02-03T14:07:55.641430Z",
     "iopub.status.idle": "2025-02-03T14:07:55.645604Z",
     "shell.execute_reply": "2025-02-03T14:07:55.645168Z"
    },
    "papermill": {
     "duration": 0.0115,
     "end_time": "2025-02-03T14:07:55.646291",
     "exception": false,
     "start_time": "2025-02-03T14:07:55.634791",
     "status": "completed"
    },
    "tags": []
   },
   "outputs": [
    {
     "data": {
      "text/plain": [
       "Dataset({\n",
       "    features: ['query', 'positive', 'negatives'],\n",
       "    num_rows: 94073\n",
       "})"
      ]
     },
     "execution_count": 18,
     "metadata": {},
     "output_type": "execute_result"
    }
   ],
   "source": [
    "processed_data_train"
   ]
  },
  {
   "cell_type": "code",
   "execution_count": 19,
   "id": "96368bc5",
   "metadata": {
    "execution": {
     "iopub.execute_input": "2025-02-03T14:07:55.659000Z",
     "iopub.status.busy": "2025-02-03T14:07:55.658484Z",
     "iopub.status.idle": "2025-02-03T14:07:55.824102Z",
     "shell.execute_reply": "2025-02-03T14:07:55.823511Z"
    },
    "papermill": {
     "duration": 0.172854,
     "end_time": "2025-02-03T14:07:55.825175",
     "exception": false,
     "start_time": "2025-02-03T14:07:55.652321",
     "status": "completed"
    },
    "tags": []
   },
   "outputs": [
    {
     "data": {
      "text/plain": [
       "{'query': 'Improving trajectory calculations using deep learning inspired single image superresolution',\n",
       " 'positive': 'Lagrangian trajectory or particle dispersion models as well as\\nsemi-Lagrangian advection schemes require meteorological data such as wind,\\ntemperature and geopotential at the exact spatio-temporal locations of the\\nparticles that move independently from a regular grid. Traditionally, this\\nhigh-resolution data has been obtained by interpolating the meteorological\\nparameters from the gridded data of a meteorological model or reanalysis, e.g.\\nusing linear interpolation in space and time. However, interpolation errors are\\na large source of error for these models. Reducing them requires meteorological\\ninput fields with high space and time resolution, which may not always be\\navailable and can cause severe data storage and transfer problems. Here, we\\ninterpret this problem as a single image superresolution task. We interpret\\nmeteorological fields available at their native resolution as low-resolution\\nimages and train deep neural networks to up-scale them to higher resolution,\\nthereby providing more accurate data for Lagrangian models. We train various\\nversions of the state-of-the-art Enhanced Deep Residual Networks for\\nSuperresolution on low-resolution ERA5 reanalysis data with the goal to\\nup-scale these data to arbitrary spatial resolution. We show that the resulting\\nup-scaled wind fields have root-mean-squared errors half the size of the winds\\nobtained with linear spatial interpolation at acceptable computational\\ninference costs. In a test setup using the Lagrangian particle dispersion model\\nFLEXPART and reduced-resolution wind fields, we demonstrate that absolute\\nhorizontal transport deviations of calculated trajectories from \"ground-truth\"\\ntrajectories calculated with undegraded 0.5{\\\\deg} winds are reduced by at least\\n49.5% (21.8%) after 48 hours relative to trajectories using linear\\ninterpolation of the wind data when training on 2{\\\\deg} to 1{\\\\deg} (4{\\\\deg} to\\n2{\\\\deg}) resolution data.',\n",
       " 'negatives': [\"  Benefiting from the powerful expressive capability of graphs, graph-based\\napproaches have been popularly applied to handle multi-modal medical data and\\nachieved impressive performance in various biomedical applications. For disease\\nprediction tasks, most existing graph-based methods tend to define the graph\\nmanually based on specified modality (e.g., demographic information), and then\\nintegrated other modalities to obtain the patient representation by Graph\\nRepresentation Learning (GRL). However, constructing an appropriate graph in\\nadvance is not a simple matter for these methods. Meanwhile, the complex\\ncorrelation between modalities is ignored. These factors inevitably yield the\\ninadequacy of providing sufficient information about the patient's condition\\nfor a reliable diagnosis. To this end, we propose an end-to-end Multi-modal\\nGraph Learning framework (MMGL) for disease prediction with multi-modality. To\\neffectively exploit the rich information across multi-modality associated with\\nthe disease, modality-aware representation learning is proposed to aggregate\\nthe features of each modality by leveraging the correlation and complementarity\\nbetween the modalities. Furthermore, instead of defining the graph manually,\\nthe latent graph structure is captured through an effective way of adaptive\\ngraph learning. It could be jointly optimized with the prediction model, thus\\nrevealing the intrinsic connections among samples. Our model is also applicable\\nto the scenario of inductive learning for those unseen data. An extensive group\\nof experiments on two disease prediction tasks demonstrates that the proposed\\nMMGL achieves more favorable performance. The code of MMGL is available at\\n\\\\url{https://github.com/SsGood/MMGL}.\\n\",\n",
       "  '  Randomized smoothing (RS) has been shown to be a fast, scalable technique for\\ncertifying the robustness of deep neural network classifiers. However, methods\\nbased on RS require augmenting data with large amounts of noise, which leads to\\nsignificant drops in accuracy. We propose a training-free, modified smoothing\\napproach, Smooth-Reduce, that leverages patching and aggregation to provide\\nimproved classifier certificates. Our algorithm classifies overlapping patches\\nextracted from an input image, and aggregates the predicted logits to certify a\\nlarger radius around the input. We study two aggregation schemes -- max and\\nmean -- and show that both approaches provide better certificates in terms of\\ncertified accuracy, average certified radii and abstention rates as compared to\\nconcurrent approaches. We also provide theoretical guarantees for such\\ncertificates, and empirically show significant improvements over other\\nrandomized smoothing methods that require expensive retraining. Further, we\\nextend our approach to videos and provide meaningful certificates for video\\nclassifiers. A project page can be found at\\nhttps://nyu-dice-lab.github.io/SmoothReduce/\\n',\n",
       "  '  We propose a hybrid approach aimed at improving the sample efficiency in\\ngoal-directed reinforcement learning. We do this via a two-step mechanism where\\nfirstly, we approximate a model from Model-Free reinforcement learning. Then,\\nwe leverage this approximate model along with a notion of reachability using\\nMean First Passage Times to perform Model-Based reinforcement learning. Built\\non such a novel observation, we design two new algorithms - Mean First Passage\\nTime based Q-Learning (MFPT-Q) and Mean First Passage Time based DYNA\\n(MFPT-DYNA), that have been fundamentally modified from the state-of-the-art\\nreinforcement learning techniques. Preliminary results have shown that our\\nhybrid approaches converge with much fewer iterations than their corresponding\\nstate-of-the-art counterparts and therefore requiring much fewer samples and\\nmuch fewer training trials to converge.\\n',\n",
       "  '  While there is a general focus on prediction of values, real data often only\\nallows to predict conditional probability distributions, with capabilities\\nbounded by conditional entropy $H(Y|X)$. If additionally estimating\\nuncertainty, we can treat a predicted value as the center of Gaussian of\\nLaplace distribution - idealization which can be far from complex conditional\\ndistributions of real data. This article applies Hierarchical Correlation\\nReconstruction (HCR) approach to inexpensively predict quite complex\\nconditional probability distributions (e.g. multimodal): by independent MSE\\nestimation of multiple moment-like parameters, which allow to reconstruct the\\nconditional distribution. Using linear regression for this purpose, we get\\ninterpretable models: with coefficients describing contributions of features to\\nconditional moments. This article extends on the original approach especially\\nby using Canonical Correlation Analysis (CCA) for feature optimization and l1\\n\"lasso\" regularization, focusing on practical problem of prediction of redshift\\nof Active Galactic Nuclei (AGN) based on Fourth Fermi-LAT Data Release 2 (4LAC)\\ndataset.\\n',\n",
       "  '  We emphasize the importance of asking the right question when interpreting\\nthe decisions of a learning model. We discuss a natural extension of the\\ntheoretical machinery from Janzing et. al. 2020, which answers the question\\n\"Why did my model predict a person has cancer?\" for answering a more involved\\nquestion, \"What caused my model to predict a person has cancer?\" While the\\nformer quantifies the direct effects of variables on the model, the latter also\\naccounts for indirect effects, thereby providing meaningful insights wherever\\nhuman beings can reason in terms of cause and effect. We propose three broad\\ncategories for interpretations: observational, model-specific and causal each\\nof which are significant in their own right. Furthermore, this paper quantifies\\nfeature relevance by weaving different natures of interpretations together with\\ndifferent measures as characteristic functions for Shapley symmetrization.\\nBesides the widely used expected value of the model, we also discuss measures\\nof statistical uncertainty and dispersion as informative candidates, and their\\nmerits in generating explanations for each data point, some of which are used\\nin this context for the first time. These measures are not only useful for\\nstudying the influence of variables on the model output, but also on the\\npredictive performance of the model, and for that we propose relevant\\ncharacteristic functions that are also used for the first time.\\n',\n",
       "  '  Purely character-based language models (LMs) have been lagging in quality on\\nlarge scale datasets, and current state-of-the-art LMs rely on word\\ntokenization. It has been assumed that injecting the prior knowledge of a\\ntokenizer into the model is essential to achieving competitive results. In this\\npaper, we show that contrary to this conventional wisdom, tokenizer-free LMs\\nwith sufficient capacity can achieve competitive performance on a large scale\\ndataset. We train a vanilla transformer network with 40 self-attention layers\\non the One Billion Word (lm1b) benchmark and achieve a new state of the art for\\ntokenizer-free LMs, pushing these models to be on par with their word-based\\ncounterparts.\\n',\n",
       "  '  Dropout is a very effective way of regularizing neural networks.\\nStochastically \"dropping out\" units with a certain probability discourages\\nover-specific co-adaptations of feature detectors, preventing overfitting and\\nimproving network generalization. Besides, Dropout can be interpreted as an\\napproximate model aggregation technique, where an exponential number of smaller\\nnetworks are averaged in order to get a more powerful ensemble. In this paper,\\nwe show that using a fixed dropout probability during training is a suboptimal\\nchoice. We thus propose a time scheduling for the probability of retaining\\nneurons in the network. This induces an adaptive regularization scheme that\\nsmoothly increases the difficulty of the optimization problem. This idea of\\n\"starting easy\" and adaptively increasing the difficulty of the learning\\nproblem has its roots in curriculum learning and allows one to train better\\nmodels. Indeed, we prove that our optimization strategy implements a very\\ngeneral curriculum scheme, by gradually adding noise to both the input and\\nintermediate feature representations within the network architecture.\\nExperiments on seven image classification datasets and different network\\narchitectures show that our method, named Curriculum Dropout, frequently yields\\nto better generalization and, at worst, performs just as well as the standard\\nDropout method.\\n',\n",
       "  \"  Next generation virtual assistants are envisioned to handle multimodal inputs\\n(e.g., vision, memories of previous interactions, in addition to the user's\\nutterances), and perform multimodal actions (e.g., displaying a route in\\naddition to generating the system's utterance). We introduce Situated\\nInteractive MultiModal Conversations (SIMMC) as a new direction aimed at\\ntraining agents that take multimodal actions grounded in a co-evolving\\nmultimodal input context in addition to the dialog history. We provide two\\nSIMMC datasets totalling ~13K human-human dialogs (~169K utterances) using a\\nmultimodal Wizard-of-Oz (WoZ) setup, on two shopping domains: (a) furniture\\n(grounded in a shared virtual environment) and, (b) fashion (grounded in an\\nevolving set of images). We also provide logs of the items appearing in each\\nscene, and contextual NLU and coreference annotations, using a novel and\\nunified framework of SIMMC conversational acts for both user and assistant\\nutterances. Finally, we present several tasks within SIMMC as objective\\nevaluation protocols, such as Structural API Prediction and Response\\nGeneration. We benchmark a collection of existing models on these SIMMC tasks\\nas strong baselines, and demonstrate rich multimodal conversational\\ninteractions. Our data, annotations, code, and models are publicly available.\\n\",\n",
       "  '  Parsing articulated objects, e.g. humans and animals, into semantic parts\\n(e.g. body, head and arms, etc.) from natural images is a challenging and\\nfundamental problem for computer vision. A big difficulty is the large\\nvariability of scale and location for objects and their corresponding parts.\\nEven limited mistakes in estimating scale and location will degrade the parsing\\noutput and cause errors in boundary details. To tackle these difficulties, we\\npropose a \"Hierarchical Auto-Zoom Net\" (HAZN) for object part parsing which\\nadapts to the local scales of objects and parts. HAZN is a sequence of two\\n\"Auto-Zoom Net\" (AZNs), each employing fully convolutional networks that\\nperform two tasks: (1) predict the locations and scales of object instances\\n(the first AZN) or their parts (the second AZN); (2) estimate the part scores\\nfor predicted object instance or part regions. Our model can adaptively \"zoom\"\\n(resize) predicted image regions into their proper scales to refine the\\nparsing.\\n  We conduct extensive experiments over the PASCAL part datasets on humans,\\nhorses, and cows. For humans, our approach significantly outperforms the\\nstate-of-the-arts by 5% mIOU and is especially better at segmenting small\\ninstances and small parts. We obtain similar improvements for parsing cows and\\nhorses over alternative methods. In summary, our strategy of first zooming into\\nobjects and then zooming into parts is very effective. It also enables us to\\nprocess different regions of the image at different scales adaptively so that,\\nfor example, we do not need to waste computational resources scaling the entire\\nimage.\\n',\n",
       "  '  Based on prior work by Eckford, it is shown how expectation maximization (EM)\\nmay be viewed, and used, as a message passing algorithm in factor graphs.\\n']}"
      ]
     },
     "execution_count": 19,
     "metadata": {},
     "output_type": "execute_result"
    }
   ],
   "source": [
    "processed_data_train[0]"
   ]
  },
  {
   "cell_type": "code",
   "execution_count": 20,
   "id": "6188e153",
   "metadata": {
    "execution": {
     "iopub.execute_input": "2025-02-03T14:07:55.839598Z",
     "iopub.status.busy": "2025-02-03T14:07:55.839321Z",
     "iopub.status.idle": "2025-02-03T14:08:04.591887Z",
     "shell.execute_reply": "2025-02-03T14:08:04.591458Z"
    },
    "papermill": {
     "duration": 8.759903,
     "end_time": "2025-02-03T14:08:04.592938",
     "exception": false,
     "start_time": "2025-02-03T14:07:55.833035",
     "status": "completed"
    },
    "tags": []
   },
   "outputs": [],
   "source": [
    "contrastive_pairs_train = []\n",
    "for item in processed_data_train:\n",
    "    query = item[\"query\"]\n",
    "    positive = item[\"positive\"]\n",
    "    negatives = item[\"negatives\"]\n",
    "    contrastive_pairs_train.append({\n",
    "        \"anchor\": query,\n",
    "        \"positive\": positive,\n",
    "        \"negatives\": negatives\n",
    "    })"
   ]
  },
  {
   "cell_type": "code",
   "execution_count": 21,
   "id": "669c6a2e",
   "metadata": {
    "execution": {
     "iopub.execute_input": "2025-02-03T14:08:04.609860Z",
     "iopub.status.busy": "2025-02-03T14:08:04.609253Z",
     "iopub.status.idle": "2025-02-03T14:08:04.613392Z",
     "shell.execute_reply": "2025-02-03T14:08:04.613005Z"
    },
    "papermill": {
     "duration": 0.01134,
     "end_time": "2025-02-03T14:08:04.614107",
     "exception": false,
     "start_time": "2025-02-03T14:08:04.602767",
     "status": "completed"
    },
    "tags": []
   },
   "outputs": [
    {
     "data": {
      "text/plain": [
       "94073"
      ]
     },
     "execution_count": 21,
     "metadata": {},
     "output_type": "execute_result"
    }
   ],
   "source": [
    "len(contrastive_pairs_train)"
   ]
  },
  {
   "cell_type": "code",
   "execution_count": 22,
   "id": "670559eb",
   "metadata": {
    "execution": {
     "iopub.execute_input": "2025-02-03T14:08:04.628005Z",
     "iopub.status.busy": "2025-02-03T14:08:04.627839Z",
     "iopub.status.idle": "2025-02-03T14:08:08.911417Z",
     "shell.execute_reply": "2025-02-03T14:08:08.910872Z"
    },
    "papermill": {
     "duration": 4.291248,
     "end_time": "2025-02-03T14:08:08.912646",
     "exception": false,
     "start_time": "2025-02-03T14:08:04.621398",
     "status": "completed"
    },
    "tags": []
   },
   "outputs": [],
   "source": [
    "from torch.utils.data import DataLoader"
   ]
  },
  {
   "cell_type": "code",
   "execution_count": 23,
   "id": "927b2173",
   "metadata": {
    "execution": {
     "iopub.execute_input": "2025-02-03T14:08:08.925957Z",
     "iopub.status.busy": "2025-02-03T14:08:08.925725Z",
     "iopub.status.idle": "2025-02-03T14:08:08.929282Z",
     "shell.execute_reply": "2025-02-03T14:08:08.928667Z"
    },
    "papermill": {
     "duration": 0.010835,
     "end_time": "2025-02-03T14:08:08.929965",
     "exception": false,
     "start_time": "2025-02-03T14:08:08.919130",
     "status": "completed"
    },
    "tags": []
   },
   "outputs": [],
   "source": [
    "class ContrastiveDataset:\n",
    "    def __init__(self, pairs):\n",
    "        self.pairs = pairs\n",
    "\n",
    "    def __len__(self):\n",
    "        return len(self.pairs)\n",
    "\n",
    "    def __getitem__(self, idx):\n",
    "        item = self.pairs[idx]\n",
    "        return item[\"anchor\"], item[\"positive\"], item[\"negatives\"]"
   ]
  },
  {
   "cell_type": "code",
   "execution_count": 24,
   "id": "6918b6f3",
   "metadata": {
    "execution": {
     "iopub.execute_input": "2025-02-03T14:08:08.943084Z",
     "iopub.status.busy": "2025-02-03T14:08:08.942731Z",
     "iopub.status.idle": "2025-02-03T14:08:08.945541Z",
     "shell.execute_reply": "2025-02-03T14:08:08.945232Z"
    },
    "papermill": {
     "duration": 0.010059,
     "end_time": "2025-02-03T14:08:08.946209",
     "exception": false,
     "start_time": "2025-02-03T14:08:08.936150",
     "status": "completed"
    },
    "tags": []
   },
   "outputs": [],
   "source": [
    "contrastive_dataset_train = ContrastiveDataset(contrastive_pairs_train)"
   ]
  },
  {
   "cell_type": "code",
   "execution_count": 25,
   "id": "362b05af",
   "metadata": {
    "execution": {
     "iopub.execute_input": "2025-02-03T14:08:08.994351Z",
     "iopub.status.busy": "2025-02-03T14:08:08.993956Z",
     "iopub.status.idle": "2025-02-03T14:08:08.997179Z",
     "shell.execute_reply": "2025-02-03T14:08:08.996839Z"
    },
    "papermill": {
     "duration": 0.04588,
     "end_time": "2025-02-03T14:08:08.998090",
     "exception": false,
     "start_time": "2025-02-03T14:08:08.952210",
     "status": "completed"
    },
    "tags": []
   },
   "outputs": [],
   "source": [
    "data_loader_train = DataLoader(contrastive_dataset_train, batch_size=8, shuffle=True)"
   ]
  },
  {
   "cell_type": "code",
   "execution_count": 26,
   "id": "9e89b105",
   "metadata": {
    "execution": {
     "iopub.execute_input": "2025-02-03T14:08:09.011547Z",
     "iopub.status.busy": "2025-02-03T14:08:09.011000Z",
     "iopub.status.idle": "2025-02-03T14:08:09.014893Z",
     "shell.execute_reply": "2025-02-03T14:08:09.014563Z"
    },
    "papermill": {
     "duration": 0.011,
     "end_time": "2025-02-03T14:08:09.015509",
     "exception": false,
     "start_time": "2025-02-03T14:08:09.004509",
     "status": "completed"
    },
    "tags": []
   },
   "outputs": [
    {
     "data": {
      "text/plain": [
       "11760"
      ]
     },
     "execution_count": 26,
     "metadata": {},
     "output_type": "execute_result"
    }
   ],
   "source": [
    "len(data_loader_train)"
   ]
  },
  {
   "cell_type": "code",
   "execution_count": 27,
   "id": "ec267846",
   "metadata": {
    "execution": {
     "iopub.execute_input": "2025-02-03T14:08:09.028534Z",
     "iopub.status.busy": "2025-02-03T14:08:09.028381Z",
     "iopub.status.idle": "2025-02-03T14:08:12.092560Z",
     "shell.execute_reply": "2025-02-03T14:08:12.091821Z"
    },
    "papermill": {
     "duration": 3.072137,
     "end_time": "2025-02-03T14:08:12.093917",
     "exception": false,
     "start_time": "2025-02-03T14:08:09.021780",
     "status": "completed"
    },
    "tags": []
   },
   "outputs": [],
   "source": [
    "from transformers import AutoTokenizer, AutoModel\n",
    "tokenizer = AutoTokenizer.from_pretrained(\"bert-base-uncased\")"
   ]
  },
  {
   "cell_type": "code",
   "execution_count": 28,
   "id": "cdfef80f",
   "metadata": {
    "execution": {
     "iopub.execute_input": "2025-02-03T14:08:12.108706Z",
     "iopub.status.busy": "2025-02-03T14:08:12.107882Z",
     "iopub.status.idle": "2025-02-03T14:08:12.549635Z",
     "shell.execute_reply": "2025-02-03T14:08:12.549204Z"
    },
    "papermill": {
     "duration": 0.449608,
     "end_time": "2025-02-03T14:08:12.550602",
     "exception": false,
     "start_time": "2025-02-03T14:08:12.100994",
     "status": "completed"
    },
    "tags": []
   },
   "outputs": [],
   "source": [
    "model = AutoModel.from_pretrained(\"bert-base-uncased\")"
   ]
  },
  {
   "cell_type": "code",
   "execution_count": 29,
   "id": "9191c4f0",
   "metadata": {
    "execution": {
     "iopub.execute_input": "2025-02-03T14:08:12.564780Z",
     "iopub.status.busy": "2025-02-03T14:08:12.564613Z",
     "iopub.status.idle": "2025-02-03T14:08:12.668784Z",
     "shell.execute_reply": "2025-02-03T14:08:12.668162Z"
    },
    "papermill": {
     "duration": 0.112728,
     "end_time": "2025-02-03T14:08:12.670281",
     "exception": false,
     "start_time": "2025-02-03T14:08:12.557553",
     "status": "completed"
    },
    "tags": []
   },
   "outputs": [],
   "source": [
    "from peft import LoraConfig, get_peft_model"
   ]
  },
  {
   "cell_type": "code",
   "execution_count": 30,
   "id": "c5386cc4",
   "metadata": {
    "execution": {
     "iopub.execute_input": "2025-02-03T14:08:12.689143Z",
     "iopub.status.busy": "2025-02-03T14:08:12.688958Z",
     "iopub.status.idle": "2025-02-03T14:08:12.692526Z",
     "shell.execute_reply": "2025-02-03T14:08:12.692167Z"
    },
    "papermill": {
     "duration": 0.011719,
     "end_time": "2025-02-03T14:08:12.693304",
     "exception": false,
     "start_time": "2025-02-03T14:08:12.681585",
     "status": "completed"
    },
    "tags": []
   },
   "outputs": [],
   "source": [
    "lora_config = LoraConfig(\n",
    "    task_type= \"FEATURE_EXTRACTION\"\n",
    ")"
   ]
  },
  {
   "cell_type": "code",
   "execution_count": 31,
   "id": "1411c521",
   "metadata": {
    "execution": {
     "iopub.execute_input": "2025-02-03T14:08:12.706480Z",
     "iopub.status.busy": "2025-02-03T14:08:12.706290Z",
     "iopub.status.idle": "2025-02-03T14:08:12.729669Z",
     "shell.execute_reply": "2025-02-03T14:08:12.729215Z"
    },
    "papermill": {
     "duration": 0.03069,
     "end_time": "2025-02-03T14:08:12.730351",
     "exception": false,
     "start_time": "2025-02-03T14:08:12.699661",
     "status": "completed"
    },
    "tags": []
   },
   "outputs": [],
   "source": [
    "lora_model = get_peft_model(model, lora_config)"
   ]
  },
  {
   "cell_type": "code",
   "execution_count": 32,
   "id": "5b81fc5d",
   "metadata": {
    "execution": {
     "iopub.execute_input": "2025-02-03T14:08:12.743514Z",
     "iopub.status.busy": "2025-02-03T14:08:12.743302Z",
     "iopub.status.idle": "2025-02-03T14:08:12.746099Z",
     "shell.execute_reply": "2025-02-03T14:08:12.745700Z"
    },
    "papermill": {
     "duration": 0.010222,
     "end_time": "2025-02-03T14:08:12.746898",
     "exception": false,
     "start_time": "2025-02-03T14:08:12.736676",
     "status": "completed"
    },
    "tags": []
   },
   "outputs": [],
   "source": [
    "def cosine_distance(x, y):\n",
    "    return 1 - torch.nn.functional.cosine_similarity(x, y, dim=-1)"
   ]
  },
  {
   "cell_type": "code",
   "execution_count": 33,
   "id": "36a6dc08",
   "metadata": {
    "execution": {
     "iopub.execute_input": "2025-02-03T14:08:12.761252Z",
     "iopub.status.busy": "2025-02-03T14:08:12.760629Z",
     "iopub.status.idle": "2025-02-03T14:08:12.764506Z",
     "shell.execute_reply": "2025-02-03T14:08:12.763916Z"
    },
    "papermill": {
     "duration": 0.011634,
     "end_time": "2025-02-03T14:08:12.765198",
     "exception": false,
     "start_time": "2025-02-03T14:08:12.753564",
     "status": "completed"
    },
    "tags": []
   },
   "outputs": [],
   "source": [
    "def info_nce_loss(anchor_embedding, positive_embedding, negative_embedding, distance_fn):\n",
    "\n",
    "    pos_dist = distance_fn(anchor_embedding, positive_embedding)\n",
    "    neg_dist = torch.stack([distance_fn(anchor_embedding, neg) for neg in negative_embedding], dim=-1)\n",
    "    \n",
    "    logits = torch.cat([-pos_dist.unsqueeze(1), -neg_dist], dim=1)\n",
    "    labels = torch.zeros(logits.size(0), dtype=torch.long, device=logits.device)\n",
    "\n",
    "    loss = torch.nn.CrossEntropyLoss()(logits, labels)\n",
    "    return loss"
   ]
  },
  {
   "cell_type": "code",
   "execution_count": 34,
   "id": "185ff980",
   "metadata": {
    "execution": {
     "iopub.execute_input": "2025-02-03T14:08:12.778401Z",
     "iopub.status.busy": "2025-02-03T14:08:12.778269Z",
     "iopub.status.idle": "2025-02-03T14:08:12.782411Z",
     "shell.execute_reply": "2025-02-03T14:08:12.781630Z"
    },
    "papermill": {
     "duration": 0.011446,
     "end_time": "2025-02-03T14:08:12.783150",
     "exception": false,
     "start_time": "2025-02-03T14:08:12.771704",
     "status": "completed"
    },
    "tags": []
   },
   "outputs": [],
   "source": [
    "import torch\n",
    "import torch.optim as optim\n",
    "optimizer = torch.optim.AdamW(lora_model.parameters(), lr=5e-5)"
   ]
  },
  {
   "cell_type": "code",
   "execution_count": 35,
   "id": "d997d7dc",
   "metadata": {
    "execution": {
     "iopub.execute_input": "2025-02-03T14:08:12.797814Z",
     "iopub.status.busy": "2025-02-03T14:08:12.797203Z",
     "iopub.status.idle": "2025-02-03T14:08:12.800526Z",
     "shell.execute_reply": "2025-02-03T14:08:12.800080Z"
    },
    "papermill": {
     "duration": 0.011518,
     "end_time": "2025-02-03T14:08:12.801370",
     "exception": false,
     "start_time": "2025-02-03T14:08:12.789852",
     "status": "completed"
    },
    "tags": []
   },
   "outputs": [],
   "source": [
    "num_epochs=3"
   ]
  },
  {
   "cell_type": "code",
   "execution_count": 36,
   "id": "93312d1a",
   "metadata": {
    "execution": {
     "iopub.execute_input": "2025-02-03T14:08:12.814624Z",
     "iopub.status.busy": "2025-02-03T14:08:12.814330Z",
     "iopub.status.idle": "2025-02-03T14:08:13.095309Z",
     "shell.execute_reply": "2025-02-03T14:08:13.094601Z"
    },
    "papermill": {
     "duration": 0.288788,
     "end_time": "2025-02-03T14:08:13.096468",
     "exception": false,
     "start_time": "2025-02-03T14:08:12.807680",
     "status": "completed"
    },
    "tags": []
   },
   "outputs": [],
   "source": [
    "device = torch.device('cuda' if torch.cuda.is_available() else 'cpu')"
   ]
  },
  {
   "cell_type": "code",
   "execution_count": 37,
   "id": "be00cde7",
   "metadata": {
    "execution": {
     "iopub.execute_input": "2025-02-03T14:08:13.111236Z",
     "iopub.status.busy": "2025-02-03T14:08:13.111012Z",
     "iopub.status.idle": "2025-02-03T14:08:13.115160Z",
     "shell.execute_reply": "2025-02-03T14:08:13.114812Z"
    },
    "papermill": {
     "duration": 0.011811,
     "end_time": "2025-02-03T14:08:13.115903",
     "exception": false,
     "start_time": "2025-02-03T14:08:13.104092",
     "status": "completed"
    },
    "tags": []
   },
   "outputs": [
    {
     "data": {
      "text/plain": [
       "device(type='cuda')"
      ]
     },
     "execution_count": 37,
     "metadata": {},
     "output_type": "execute_result"
    }
   ],
   "source": [
    "device"
   ]
  },
  {
   "cell_type": "code",
   "execution_count": 38,
   "id": "a5333e18",
   "metadata": {
    "execution": {
     "iopub.execute_input": "2025-02-03T14:08:13.129595Z",
     "iopub.status.busy": "2025-02-03T14:08:13.129201Z",
     "iopub.status.idle": "2025-02-03T14:08:13.133061Z",
     "shell.execute_reply": "2025-02-03T14:08:13.132622Z"
    },
    "papermill": {
     "duration": 0.011467,
     "end_time": "2025-02-03T14:08:13.133802",
     "exception": false,
     "start_time": "2025-02-03T14:08:13.122335",
     "status": "completed"
    },
    "tags": []
   },
   "outputs": [
    {
     "data": {
      "text/plain": [
       "True"
      ]
     },
     "execution_count": 38,
     "metadata": {},
     "output_type": "execute_result"
    }
   ],
   "source": [
    "torch.cuda.is_available()"
   ]
  },
  {
   "cell_type": "code",
   "execution_count": 39,
   "id": "1d718a7f",
   "metadata": {
    "execution": {
     "iopub.execute_input": "2025-02-03T14:08:13.148762Z",
     "iopub.status.busy": "2025-02-03T14:08:13.147998Z",
     "iopub.status.idle": "2025-02-03T14:08:13.994449Z",
     "shell.execute_reply": "2025-02-03T14:08:13.993828Z"
    },
    "papermill": {
     "duration": 0.855086,
     "end_time": "2025-02-03T14:08:13.995671",
     "exception": false,
     "start_time": "2025-02-03T14:08:13.140585",
     "status": "completed"
    },
    "tags": []
   },
   "outputs": [],
   "source": [
    "lora_model = lora_model.to(device)"
   ]
  },
  {
   "cell_type": "code",
   "execution_count": 40,
   "id": "8d0b1bf1",
   "metadata": {
    "execution": {
     "iopub.execute_input": "2025-02-03T14:08:14.010641Z",
     "iopub.status.busy": "2025-02-03T14:08:14.010458Z",
     "iopub.status.idle": "2025-02-03T14:08:14.014145Z",
     "shell.execute_reply": "2025-02-03T14:08:14.013414Z"
    },
    "papermill": {
     "duration": 0.012304,
     "end_time": "2025-02-03T14:08:14.015487",
     "exception": false,
     "start_time": "2025-02-03T14:08:14.003183",
     "status": "completed"
    },
    "tags": []
   },
   "outputs": [],
   "source": [
    "dataset_val = split_datasets[\"test\"]"
   ]
  },
  {
   "cell_type": "code",
   "execution_count": 41,
   "id": "1ca99f37",
   "metadata": {
    "execution": {
     "iopub.execute_input": "2025-02-03T14:08:14.029724Z",
     "iopub.status.busy": "2025-02-03T14:08:14.029126Z",
     "iopub.status.idle": "2025-02-03T14:08:14.032777Z",
     "shell.execute_reply": "2025-02-03T14:08:14.032401Z"
    },
    "papermill": {
     "duration": 0.011372,
     "end_time": "2025-02-03T14:08:14.033417",
     "exception": false,
     "start_time": "2025-02-03T14:08:14.022045",
     "status": "completed"
    },
    "tags": []
   },
   "outputs": [
    {
     "data": {
      "text/plain": [
       "Dataset({\n",
       "    features: ['Unnamed: 0.1', 'Unnamed: 0', 'title', 'abstract'],\n",
       "    num_rows: 23519\n",
       "})"
      ]
     },
     "execution_count": 41,
     "metadata": {},
     "output_type": "execute_result"
    }
   ],
   "source": [
    "dataset_val"
   ]
  },
  {
   "cell_type": "code",
   "execution_count": 42,
   "id": "a314d3d6",
   "metadata": {
    "execution": {
     "iopub.execute_input": "2025-02-03T14:08:14.047696Z",
     "iopub.status.busy": "2025-02-03T14:08:14.047401Z",
     "iopub.status.idle": "2025-02-03T14:08:14.052514Z",
     "shell.execute_reply": "2025-02-03T14:08:14.052218Z"
    },
    "papermill": {
     "duration": 0.012861,
     "end_time": "2025-02-03T14:08:14.053306",
     "exception": false,
     "start_time": "2025-02-03T14:08:14.040445",
     "status": "completed"
    },
    "tags": []
   },
   "outputs": [],
   "source": [
    "dataset_val = dataset_val.remove_columns(['Unnamed: 0','Unnamed: 0.1'])"
   ]
  },
  {
   "cell_type": "code",
   "execution_count": 43,
   "id": "a58b2f1a",
   "metadata": {
    "execution": {
     "iopub.execute_input": "2025-02-03T14:08:14.067932Z",
     "iopub.status.busy": "2025-02-03T14:08:14.067749Z",
     "iopub.status.idle": "2025-02-03T14:08:15.807845Z",
     "shell.execute_reply": "2025-02-03T14:08:15.807422Z"
    },
    "papermill": {
     "duration": 1.747933,
     "end_time": "2025-02-03T14:08:15.808575",
     "exception": false,
     "start_time": "2025-02-03T14:08:14.060642",
     "status": "completed"
    },
    "tags": []
   },
   "outputs": [
    {
     "data": {
      "application/vnd.jupyter.widget-view+json": {
       "model_id": "b429d9758603407a9c4a9b6a4aeb9a82",
       "version_major": 2,
       "version_minor": 0
      },
      "text/plain": [
       "Map:   0%|          | 0/23519 [00:00<?, ? examples/s]"
      ]
     },
     "metadata": {},
     "output_type": "display_data"
    }
   ],
   "source": [
    "dataset_val = dataset_val.map(lambda x, idx: { 'index': idx }, with_indices=True)"
   ]
  },
  {
   "cell_type": "code",
   "execution_count": 44,
   "id": "454fc03a",
   "metadata": {
    "execution": {
     "iopub.execute_input": "2025-02-03T14:08:15.823688Z",
     "iopub.status.busy": "2025-02-03T14:08:15.823548Z",
     "iopub.status.idle": "2025-02-03T14:08:15.828154Z",
     "shell.execute_reply": "2025-02-03T14:08:15.827226Z"
    },
    "papermill": {
     "duration": 0.012912,
     "end_time": "2025-02-03T14:08:15.829091",
     "exception": false,
     "start_time": "2025-02-03T14:08:15.816179",
     "status": "completed"
    },
    "tags": []
   },
   "outputs": [
    {
     "data": {
      "text/plain": [
       "Dataset({\n",
       "    features: ['title', 'abstract', 'index'],\n",
       "    num_rows: 23519\n",
       "})"
      ]
     },
     "execution_count": 44,
     "metadata": {},
     "output_type": "execute_result"
    }
   ],
   "source": [
    "dataset_val"
   ]
  },
  {
   "cell_type": "code",
   "execution_count": 45,
   "id": "59611a3b",
   "metadata": {
    "execution": {
     "iopub.execute_input": "2025-02-03T14:08:15.844297Z",
     "iopub.status.busy": "2025-02-03T14:08:15.843834Z",
     "iopub.status.idle": "2025-02-03T14:08:15.857790Z",
     "shell.execute_reply": "2025-02-03T14:08:15.857327Z"
    },
    "papermill": {
     "duration": 0.022306,
     "end_time": "2025-02-03T14:08:15.858619",
     "exception": false,
     "start_time": "2025-02-03T14:08:15.836313",
     "status": "completed"
    },
    "tags": []
   },
   "outputs": [],
   "source": [
    "all_indexes_val = np.array(dataset_val['index'])"
   ]
  },
  {
   "cell_type": "code",
   "execution_count": 46,
   "id": "f51a8e7e",
   "metadata": {
    "execution": {
     "iopub.execute_input": "2025-02-03T14:08:15.873077Z",
     "iopub.status.busy": "2025-02-03T14:08:15.872874Z",
     "iopub.status.idle": "2025-02-03T14:08:15.876390Z",
     "shell.execute_reply": "2025-02-03T14:08:15.876017Z"
    },
    "papermill": {
     "duration": 0.011404,
     "end_time": "2025-02-03T14:08:15.877068",
     "exception": false,
     "start_time": "2025-02-03T14:08:15.865664",
     "status": "completed"
    },
    "tags": []
   },
   "outputs": [],
   "source": [
    "def generate_hard_negatives_val(example, num_negatives=10,dataset=dataset_val):\n",
    "    query_index = example['index'] \n",
    "    anchor = example['title']\n",
    "    positive = example['abstract']\n",
    "    \n",
    "    negatives = []\n",
    "    \n",
    "    negative_indexes = np.delete(all_indexes_val, np.where(all_indexes_val == query_index))\n",
    "    \n",
    "    sampled_negatives = random.sample(list(negative_indexes), num_negatives)\n",
    "    \n",
    "    for idx in sampled_negatives:\n",
    "        negatives.append(dataset[int(idx)]['abstract'])\n",
    "    \n",
    "    return {\n",
    "        \"query\": anchor,\n",
    "        \"positive\": positive,\n",
    "        \"negatives\": negatives\n",
    "    }"
   ]
  },
  {
   "cell_type": "code",
   "execution_count": 47,
   "id": "956100e1",
   "metadata": {
    "execution": {
     "iopub.execute_input": "2025-02-03T14:08:15.891595Z",
     "iopub.status.busy": "2025-02-03T14:08:15.891177Z",
     "iopub.status.idle": "2025-02-03T14:08:50.442442Z",
     "shell.execute_reply": "2025-02-03T14:08:50.441794Z"
    },
    "papermill": {
     "duration": 34.559372,
     "end_time": "2025-02-03T14:08:50.443376",
     "exception": false,
     "start_time": "2025-02-03T14:08:15.884004",
     "status": "completed"
    },
    "tags": []
   },
   "outputs": [
    {
     "data": {
      "application/vnd.jupyter.widget-view+json": {
       "model_id": "a93f853f181c4604a7ac2cd51c6d3308",
       "version_major": 2,
       "version_minor": 0
      },
      "text/plain": [
       "Map:   0%|          | 0/23519 [00:00<?, ? examples/s]"
      ]
     },
     "metadata": {},
     "output_type": "display_data"
    }
   ],
   "source": [
    "processed_data_val = dataset_val.map(generate_hard_negatives_val, remove_columns=dataset_val.column_names)"
   ]
  },
  {
   "cell_type": "code",
   "execution_count": 48,
   "id": "70ecac28",
   "metadata": {
    "execution": {
     "iopub.execute_input": "2025-02-03T14:08:50.462976Z",
     "iopub.status.busy": "2025-02-03T14:08:50.462778Z",
     "iopub.status.idle": "2025-02-03T14:08:52.355100Z",
     "shell.execute_reply": "2025-02-03T14:08:52.354649Z"
    },
    "papermill": {
     "duration": 1.901683,
     "end_time": "2025-02-03T14:08:52.356195",
     "exception": false,
     "start_time": "2025-02-03T14:08:50.454512",
     "status": "completed"
    },
    "tags": []
   },
   "outputs": [],
   "source": [
    "contrastive_pairs_val = []\n",
    "for item in processed_data_val:\n",
    "    query = item[\"query\"]\n",
    "    positive = item[\"positive\"]\n",
    "    negatives = item[\"negatives\"]\n",
    "    contrastive_pairs_val.append({\n",
    "        \"anchor\": query,\n",
    "        \"positive\": positive,\n",
    "        \"negatives\": negatives\n",
    "    })"
   ]
  },
  {
   "cell_type": "code",
   "execution_count": 49,
   "id": "ce529ab6",
   "metadata": {
    "execution": {
     "iopub.execute_input": "2025-02-03T14:08:52.375838Z",
     "iopub.status.busy": "2025-02-03T14:08:52.375405Z",
     "iopub.status.idle": "2025-02-03T14:08:52.379083Z",
     "shell.execute_reply": "2025-02-03T14:08:52.377808Z"
    },
    "papermill": {
     "duration": 0.012348,
     "end_time": "2025-02-03T14:08:52.379967",
     "exception": false,
     "start_time": "2025-02-03T14:08:52.367619",
     "status": "completed"
    },
    "tags": []
   },
   "outputs": [],
   "source": [
    "contrastive_dataset_val = ContrastiveDataset(contrastive_pairs_val)"
   ]
  },
  {
   "cell_type": "code",
   "execution_count": 50,
   "id": "5ac55437",
   "metadata": {
    "execution": {
     "iopub.execute_input": "2025-02-03T14:08:52.395129Z",
     "iopub.status.busy": "2025-02-03T14:08:52.394717Z",
     "iopub.status.idle": "2025-02-03T14:08:52.397994Z",
     "shell.execute_reply": "2025-02-03T14:08:52.397410Z"
    },
    "papermill": {
     "duration": 0.011592,
     "end_time": "2025-02-03T14:08:52.398815",
     "exception": false,
     "start_time": "2025-02-03T14:08:52.387223",
     "status": "completed"
    },
    "tags": []
   },
   "outputs": [],
   "source": [
    "data_loader_val = DataLoader(contrastive_dataset_val, batch_size=8, shuffle=True)"
   ]
  },
  {
   "cell_type": "code",
   "execution_count": 51,
   "id": "b73033c1",
   "metadata": {
    "execution": {
     "iopub.execute_input": "2025-02-03T14:08:52.414207Z",
     "iopub.status.busy": "2025-02-03T14:08:52.413745Z",
     "iopub.status.idle": "2025-02-03T14:08:52.417695Z",
     "shell.execute_reply": "2025-02-03T14:08:52.417288Z"
    },
    "papermill": {
     "duration": 0.012256,
     "end_time": "2025-02-03T14:08:52.418425",
     "exception": false,
     "start_time": "2025-02-03T14:08:52.406169",
     "status": "completed"
    },
    "tags": []
   },
   "outputs": [
    {
     "data": {
      "text/plain": [
       "2940"
      ]
     },
     "execution_count": 51,
     "metadata": {},
     "output_type": "execute_result"
    }
   ],
   "source": [
    "len(data_loader_val)"
   ]
  },
  {
   "cell_type": "code",
   "execution_count": 52,
   "id": "76c29dae",
   "metadata": {
    "execution": {
     "iopub.execute_input": "2025-02-03T14:08:52.440243Z",
     "iopub.status.busy": "2025-02-03T14:08:52.440114Z",
     "iopub.status.idle": "2025-02-03T14:08:52.444895Z",
     "shell.execute_reply": "2025-02-03T14:08:52.444431Z"
    },
    "papermill": {
     "duration": 0.020025,
     "end_time": "2025-02-03T14:08:52.445823",
     "exception": false,
     "start_time": "2025-02-03T14:08:52.425798",
     "status": "completed"
    },
    "tags": []
   },
   "outputs": [],
   "source": [
    "def evaluate_mrr(model, data_loader_val, distance_fn):\n",
    "    model.eval()\n",
    "\n",
    "    total_rr = 0.0\n",
    "    num_queries = 0\n",
    "\n",
    "    with torch.no_grad():\n",
    "        for batch in data_loader_val:\n",
    "            anchor_text = batch[0]\n",
    "            positive_text = batch[1]\n",
    "            negative_texts = batch[2]\n",
    "\n",
    "            anchor_input = tokenizer(anchor_text, return_tensors='pt', padding=True, truncation=True, max_length=512).to(device)\n",
    "            positive_input = tokenizer(positive_text, return_tensors='pt', padding=True, truncation=True, max_length=512).to(device)\n",
    "\n",
    "            anchor_embedding = model(**anchor_input).last_hidden_state[:, 0, :]\n",
    "            positive_embedding = model(**positive_input).last_hidden_state[:, 0, :]\n",
    "            negative_embedding = [model(**tokenizer(neg, return_tensors='pt', padding=True, truncation=True, max_length=512).to(device)).last_hidden_state[:, 0, :] for neg in negative_texts]\n",
    "\n",
    "            pos_dist = distance_fn(anchor_embedding, positive_embedding)\n",
    "            neg_dist = torch.stack([distance_fn(anchor_embedding, neg) for neg in negative_embedding], dim=-1)\n",
    "            all_similarities=torch.cat([-pos_dist.unsqueeze(1), -neg_dist], dim=1)\n",
    "\n",
    "            sorted_similarities, sorted_indices = torch.sort(all_similarities, dim=1, descending=True)\n",
    "\n",
    "            # Find the rank of the first relevant (positive) document\n",
    "            positive_rank = (sorted_indices == 0).nonzero(as_tuple=True)[1] + 1  # +1 to make rank 1-based\n",
    "            total_rr += torch.sum(1.0 / positive_rank.float()).item()  # Reciprocal rank\n",
    "            num_queries += len(positive_rank)\n",
    "\n",
    "    mrr = total_rr / num_queries\n",
    "    return mrr"
   ]
  },
  {
   "cell_type": "code",
   "execution_count": 53,
   "id": "84893f41",
   "metadata": {
    "execution": {
     "iopub.execute_input": "2025-02-03T14:08:52.461247Z",
     "iopub.status.busy": "2025-02-03T14:08:52.460880Z",
     "iopub.status.idle": "2025-02-03T14:08:52.463378Z",
     "shell.execute_reply": "2025-02-03T14:08:52.463019Z"
    },
    "papermill": {
     "duration": 0.010949,
     "end_time": "2025-02-03T14:08:52.464102",
     "exception": false,
     "start_time": "2025-02-03T14:08:52.453153",
     "status": "completed"
    },
    "tags": []
   },
   "outputs": [],
   "source": [
    "import os\n",
    "save_dir =\"/dss/dsshome1/07/ra65bex2/srawat/baseline\""
   ]
  },
  {
   "cell_type": "code",
   "execution_count": 54,
   "id": "1e46bee6",
   "metadata": {
    "execution": {
     "iopub.execute_input": "2025-02-03T14:08:52.479407Z",
     "iopub.status.busy": "2025-02-03T14:08:52.479064Z",
     "iopub.status.idle": "2025-02-03T14:08:52.481378Z",
     "shell.execute_reply": "2025-02-03T14:08:52.480966Z"
    },
    "papermill": {
     "duration": 0.010549,
     "end_time": "2025-02-03T14:08:52.481989",
     "exception": false,
     "start_time": "2025-02-03T14:08:52.471440",
     "status": "completed"
    },
    "tags": []
   },
   "outputs": [],
   "source": [
    "import time\n",
    "epoch_metrics = []"
   ]
  },
  {
   "cell_type": "code",
   "execution_count": 55,
   "id": "23f95333",
   "metadata": {
    "execution": {
     "iopub.execute_input": "2025-02-03T14:08:52.496702Z",
     "iopub.status.busy": "2025-02-03T14:08:52.496574Z",
     "iopub.status.idle": "2025-02-03T14:08:52.499049Z",
     "shell.execute_reply": "2025-02-03T14:08:52.498736Z"
    },
    "papermill": {
     "duration": 0.010555,
     "end_time": "2025-02-03T14:08:52.499659",
     "exception": false,
     "start_time": "2025-02-03T14:08:52.489104",
     "status": "completed"
    },
    "tags": []
   },
   "outputs": [],
   "source": [
    "torch.cuda.empty_cache()"
   ]
  },
  {
   "cell_type": "code",
   "execution_count": 56,
   "id": "32a21d84",
   "metadata": {
    "execution": {
     "iopub.execute_input": "2025-02-03T14:08:52.514765Z",
     "iopub.status.busy": "2025-02-03T14:08:52.514316Z",
     "iopub.status.idle": "2025-02-03T23:12:04.162762Z",
     "shell.execute_reply": "2025-02-03T23:12:04.162017Z"
    },
    "papermill": {
     "duration": 32591.667028,
     "end_time": "2025-02-03T23:12:04.173825",
     "exception": false,
     "start_time": "2025-02-03T14:08:52.506797",
     "status": "completed"
    },
    "tags": []
   },
   "outputs": [
    {
     "name": "stdout",
     "output_type": "stream",
     "text": [
      "EPOCH 1:\n",
      "Checkpoint saved: /dss/dsshome1/07/ra65bex2/srawat/baseline/checkpoint_epoch_1.pth\n",
      "Epoch 1/3, Training Loss: 1.9245748056440937\n"
     ]
    },
    {
     "name": "stdout",
     "output_type": "stream",
     "text": [
      "Mean Reciprocal Rank (MRR) for validation set: 0.8883\n",
      "Epoch 1 took 181.2205 minutes.\n",
      "\n",
      "\n"
     ]
    },
    {
     "name": "stdout",
     "output_type": "stream",
     "text": [
      "EPOCH 2:\n",
      "Checkpoint saved: /dss/dsshome1/07/ra65bex2/srawat/baseline/checkpoint_epoch_2.pth\n",
      "Epoch 2/3, Training Loss: 1.8470888216073822\n"
     ]
    },
    {
     "name": "stdout",
     "output_type": "stream",
     "text": [
      "Mean Reciprocal Rank (MRR) for validation set: 0.8869\n",
      "Epoch 2 took 181.0148 minutes.\n",
      "\n",
      "\n"
     ]
    },
    {
     "name": "stdout",
     "output_type": "stream",
     "text": [
      "EPOCH 3:\n",
      "Checkpoint saved: /dss/dsshome1/07/ra65bex2/srawat/baseline/checkpoint_epoch_3.pth\n",
      "Epoch 3/3, Training Loss: 1.8241808064332625\n"
     ]
    },
    {
     "name": "stdout",
     "output_type": "stream",
     "text": [
      "Mean Reciprocal Rank (MRR) for validation set: 0.8932\n",
      "Epoch 3 took 180.9587 minutes.\n",
      "\n",
      "\n"
     ]
    }
   ],
   "source": [
    "for epoch in range(num_epochs):\n",
    "    start_time = time.time()\n",
    "    lora_model.train()\n",
    "    \n",
    "    total_loss = 0.0\n",
    "    for batch in data_loader_train:\n",
    "    \n",
    "        anchor_texts = batch[0]\n",
    "        positive_texts = batch[1]\n",
    "        negative_texts = batch[2]\n",
    "    \n",
    "        anchor_inputs = tokenizer(anchor_texts, return_tensors='pt', padding=True, truncation=True, max_length=512).to(device)\n",
    "        positive_inputs = tokenizer(positive_texts, return_tensors='pt', padding=True, truncation=True, max_length=512).to(device)\n",
    "\n",
    "    \n",
    "        anchor_embedding = lora_model(**anchor_inputs).last_hidden_state[:, 0, :]\n",
    "        positive_embedding = lora_model(**positive_inputs).last_hidden_state[:, 0, :]\n",
    "        negative_embedding = [lora_model(**tokenizer(neg, return_tensors='pt', padding=True, truncation=True, max_length=512).to(device)).last_hidden_state[:, 0, :] for neg in negative_texts]\n",
    "\n",
    "        loss = info_nce_loss(anchor_embedding, positive_embedding, negative_embedding, distance_fn=cosine_distance)\n",
    "        \n",
    "        optimizer.zero_grad()\n",
    "        loss.backward()\n",
    "        optimizer.step()\n",
    "        \n",
    "        total_loss += loss.item()\n",
    "    save_path = os.path.join(save_dir, f\"checkpoint_epoch_{epoch+1}.pth\")\n",
    "    torch.save(lora_model, save_path)\n",
    "    print(f\"EPOCH {epoch+1}:\")\n",
    "    print(f\"Checkpoint saved: {save_path}\")\n",
    "    print(f\"Epoch {epoch+1}/{num_epochs}, Training Loss: {total_loss / len(data_loader_train)}\")\n",
    "    mrr_validation = evaluate_mrr(lora_model, data_loader_val, cosine_distance)\n",
    "    #mrr_train = evaluate_mrr(lora_model, data_loader_train, cosine_distance)\n",
    "    #print(f\"Mean Reciprocal Rank (MRR) for training set: {mrr_train:.4f}\")\n",
    "    print(f\"Mean Reciprocal Rank (MRR) for validation set: {mrr_validation:.4f}\")\n",
    "    end_time = time.time()\n",
    "    print(f\"Epoch {epoch+1} took {(end_time - start_time) / 60:.4f} minutes.\")\n",
    "    print(f\"\\n\")\n",
    "    epoch_metrics.append({\n",
    "        'epoch': epoch + 1,\n",
    "        'training_loss': total_loss / len(data_loader_train),\n",
    "        'mrr_validation': mrr_validation,\n",
    "        'time_taken_minutes': (end_time - start_time) / 60\n",
    "    })"
   ]
  },
  {
   "cell_type": "code",
   "execution_count": 57,
   "id": "b2c27c8a",
   "metadata": {
    "execution": {
     "iopub.execute_input": "2025-02-03T23:12:04.194425Z",
     "iopub.status.busy": "2025-02-03T23:12:04.193688Z",
     "iopub.status.idle": "2025-02-03T23:12:04.197362Z",
     "shell.execute_reply": "2025-02-03T23:12:04.196643Z"
    },
    "papermill": {
     "duration": 0.013342,
     "end_time": "2025-02-03T23:12:04.198221",
     "exception": false,
     "start_time": "2025-02-03T23:12:04.184879",
     "status": "completed"
    },
    "tags": []
   },
   "outputs": [],
   "source": [
    "import json"
   ]
  },
  {
   "cell_type": "code",
   "execution_count": 58,
   "id": "53a682b1",
   "metadata": {
    "execution": {
     "iopub.execute_input": "2025-02-03T23:12:04.213903Z",
     "iopub.status.busy": "2025-02-03T23:12:04.213771Z",
     "iopub.status.idle": "2025-02-03T23:12:04.272784Z",
     "shell.execute_reply": "2025-02-03T23:12:04.272368Z"
    },
    "papermill": {
     "duration": 0.067466,
     "end_time": "2025-02-03T23:12:04.273410",
     "exception": false,
     "start_time": "2025-02-03T23:12:04.205944",
     "status": "completed"
    },
    "tags": []
   },
   "outputs": [],
   "source": [
    "with open(save_dir + '/epoch_metrics.json', 'w') as f:\n",
    "    json.dump(epoch_metrics, f)"
   ]
  },
  {
   "cell_type": "code",
   "execution_count": null,
   "id": "f7021e82",
   "metadata": {
    "papermill": {
     "duration": 0.00794,
     "end_time": "2025-02-03T23:12:04.289000",
     "exception": false,
     "start_time": "2025-02-03T23:12:04.281060",
     "status": "completed"
    },
    "tags": []
   },
   "outputs": [],
   "source": []
  }
 ],
 "metadata": {
  "kernelspec": {
   "display_name": "Python (myenv)",
   "language": "python",
   "name": "myenv"
  },
  "language_info": {
   "codemirror_mode": {
    "name": "ipython",
    "version": 3
   },
   "file_extension": ".py",
   "mimetype": "text/x-python",
   "name": "python",
   "nbconvert_exporter": "python",
   "pygments_lexer": "ipython3",
   "version": "3.12.7"
  },
  "papermill": {
   "default_parameters": {},
   "duration": 33119.781849,
   "end_time": "2025-02-03T23:12:08.154102",
   "environment_variables": {},
   "exception": null,
   "input_path": "baseline.ipynb",
   "output_path": "baseline_output.ipynb",
   "parameters": {},
   "start_time": "2025-02-03T14:00:08.372253",
   "version": "2.6.0"
  },
  "widgets": {
   "application/vnd.jupyter.widget-state+json": {
    "state": {
     "10eb5c3611b44047ae8ac96552b2a8e2": {
      "model_module": "@jupyter-widgets/controls",
      "model_module_version": "2.0.0",
      "model_name": "HTMLStyleModel",
      "state": {
       "_model_module": "@jupyter-widgets/controls",
       "_model_module_version": "2.0.0",
       "_model_name": "HTMLStyleModel",
       "_view_count": null,
       "_view_module": "@jupyter-widgets/base",
       "_view_module_version": "2.0.0",
       "_view_name": "StyleView",
       "background": null,
       "description_width": "",
       "font_size": null,
       "text_color": null
      }
     },
     "17ce303aadcf41f1ae64102a12cf96d1": {
      "model_module": "@jupyter-widgets/base",
      "model_module_version": "2.0.0",
      "model_name": "LayoutModel",
      "state": {
       "_model_module": "@jupyter-widgets/base",
       "_model_module_version": "2.0.0",
       "_model_name": "LayoutModel",
       "_view_count": null,
       "_view_module": "@jupyter-widgets/base",
       "_view_module_version": "2.0.0",
       "_view_name": "LayoutView",
       "align_content": null,
       "align_items": null,
       "align_self": null,
       "border_bottom": null,
       "border_left": null,
       "border_right": null,
       "border_top": null,
       "bottom": null,
       "display": null,
       "flex": null,
       "flex_flow": null,
       "grid_area": null,
       "grid_auto_columns": null,
       "grid_auto_flow": null,
       "grid_auto_rows": null,
       "grid_column": null,
       "grid_gap": null,
       "grid_row": null,
       "grid_template_areas": null,
       "grid_template_columns": null,
       "grid_template_rows": null,
       "height": null,
       "justify_content": null,
       "justify_items": null,
       "left": null,
       "margin": null,
       "max_height": null,
       "max_width": null,
       "min_height": null,
       "min_width": null,
       "object_fit": null,
       "object_position": null,
       "order": null,
       "overflow": null,
       "padding": null,
       "right": null,
       "top": null,
       "visibility": null,
       "width": null
      }
     },
     "193b038c775c446c9a3d61dd87fce826": {
      "model_module": "@jupyter-widgets/controls",
      "model_module_version": "2.0.0",
      "model_name": "FloatProgressModel",
      "state": {
       "_dom_classes": [],
       "_model_module": "@jupyter-widgets/controls",
       "_model_module_version": "2.0.0",
       "_model_name": "FloatProgressModel",
       "_view_count": null,
       "_view_module": "@jupyter-widgets/controls",
       "_view_module_version": "2.0.0",
       "_view_name": "ProgressView",
       "bar_style": "success",
       "description": "",
       "description_allow_html": false,
       "layout": "IPY_MODEL_63d539d9779e492eb229a992a170b971",
       "max": 94073,
       "min": 0,
       "orientation": "horizontal",
       "style": "IPY_MODEL_4a0d17de85b04f76b2af37b5478f9f38",
       "tabbable": null,
       "tooltip": null,
       "value": 94073
      }
     },
     "1d564f82a6584b8eadec6e95718dd28d": {
      "model_module": "@jupyter-widgets/controls",
      "model_module_version": "2.0.0",
      "model_name": "HTMLModel",
      "state": {
       "_dom_classes": [],
       "_model_module": "@jupyter-widgets/controls",
       "_model_module_version": "2.0.0",
       "_model_name": "HTMLModel",
       "_view_count": null,
       "_view_module": "@jupyter-widgets/controls",
       "_view_module_version": "2.0.0",
       "_view_name": "HTMLView",
       "description": "",
       "description_allow_html": false,
       "layout": "IPY_MODEL_dc64bd5f631d4970ac77f63e5e9043c7",
       "placeholder": "​",
       "style": "IPY_MODEL_10eb5c3611b44047ae8ac96552b2a8e2",
       "tabbable": null,
       "tooltip": null,
       "value": " 94073/94073 [07:33&lt;00:00, 215.93 examples/s]"
      }
     },
     "246bbc9104f041e38a18778ce0f3145d": {
      "model_module": "@jupyter-widgets/controls",
      "model_module_version": "2.0.0",
      "model_name": "HTMLStyleModel",
      "state": {
       "_model_module": "@jupyter-widgets/controls",
       "_model_module_version": "2.0.0",
       "_model_name": "HTMLStyleModel",
       "_view_count": null,
       "_view_module": "@jupyter-widgets/base",
       "_view_module_version": "2.0.0",
       "_view_name": "StyleView",
       "background": null,
       "description_width": "",
       "font_size": null,
       "text_color": null
      }
     },
     "2cbc7f8270af4c8d9fc9ba70aa4a3859": {
      "model_module": "@jupyter-widgets/controls",
      "model_module_version": "2.0.0",
      "model_name": "HTMLModel",
      "state": {
       "_dom_classes": [],
       "_model_module": "@jupyter-widgets/controls",
       "_model_module_version": "2.0.0",
       "_model_name": "HTMLModel",
       "_view_count": null,
       "_view_module": "@jupyter-widgets/controls",
       "_view_module_version": "2.0.0",
       "_view_name": "HTMLView",
       "description": "",
       "description_allow_html": false,
       "layout": "IPY_MODEL_91cb936e518b492ea90b482ed181392f",
       "placeholder": "​",
       "style": "IPY_MODEL_3cd0cf1a54e8435ba9edb5e7b5a48dd5",
       "tabbable": null,
       "tooltip": null,
       "value": "Map: 100%"
      }
     },
     "3a33a4684e184209a9248e19ba161d73": {
      "model_module": "@jupyter-widgets/controls",
      "model_module_version": "2.0.0",
      "model_name": "HTMLModel",
      "state": {
       "_dom_classes": [],
       "_model_module": "@jupyter-widgets/controls",
       "_model_module_version": "2.0.0",
       "_model_name": "HTMLModel",
       "_view_count": null,
       "_view_module": "@jupyter-widgets/controls",
       "_view_module_version": "2.0.0",
       "_view_name": "HTMLView",
       "description": "",
       "description_allow_html": false,
       "layout": "IPY_MODEL_deaef1af5c0149a2ae3bd0014ff1ac3d",
       "placeholder": "​",
       "style": "IPY_MODEL_4aa1fbcb835845d19260ff3aeeedaf70",
       "tabbable": null,
       "tooltip": null,
       "value": "Map: 100%"
      }
     },
     "3cd0cf1a54e8435ba9edb5e7b5a48dd5": {
      "model_module": "@jupyter-widgets/controls",
      "model_module_version": "2.0.0",
      "model_name": "HTMLStyleModel",
      "state": {
       "_model_module": "@jupyter-widgets/controls",
       "_model_module_version": "2.0.0",
       "_model_name": "HTMLStyleModel",
       "_view_count": null,
       "_view_module": "@jupyter-widgets/base",
       "_view_module_version": "2.0.0",
       "_view_name": "StyleView",
       "background": null,
       "description_width": "",
       "font_size": null,
       "text_color": null
      }
     },
     "43632784390f43a08d50a2979637651d": {
      "model_module": "@jupyter-widgets/base",
      "model_module_version": "2.0.0",
      "model_name": "LayoutModel",
      "state": {
       "_model_module": "@jupyter-widgets/base",
       "_model_module_version": "2.0.0",
       "_model_name": "LayoutModel",
       "_view_count": null,
       "_view_module": "@jupyter-widgets/base",
       "_view_module_version": "2.0.0",
       "_view_name": "LayoutView",
       "align_content": null,
       "align_items": null,
       "align_self": null,
       "border_bottom": null,
       "border_left": null,
       "border_right": null,
       "border_top": null,
       "bottom": null,
       "display": null,
       "flex": null,
       "flex_flow": null,
       "grid_area": null,
       "grid_auto_columns": null,
       "grid_auto_flow": null,
       "grid_auto_rows": null,
       "grid_column": null,
       "grid_gap": null,
       "grid_row": null,
       "grid_template_areas": null,
       "grid_template_columns": null,
       "grid_template_rows": null,
       "height": null,
       "justify_content": null,
       "justify_items": null,
       "left": null,
       "margin": null,
       "max_height": null,
       "max_width": null,
       "min_height": null,
       "min_width": null,
       "object_fit": null,
       "object_position": null,
       "order": null,
       "overflow": null,
       "padding": null,
       "right": null,
       "top": null,
       "visibility": null,
       "width": null
      }
     },
     "43e7aeeef1c742c4b5482513b4ddacf8": {
      "model_module": "@jupyter-widgets/base",
      "model_module_version": "2.0.0",
      "model_name": "LayoutModel",
      "state": {
       "_model_module": "@jupyter-widgets/base",
       "_model_module_version": "2.0.0",
       "_model_name": "LayoutModel",
       "_view_count": null,
       "_view_module": "@jupyter-widgets/base",
       "_view_module_version": "2.0.0",
       "_view_name": "LayoutView",
       "align_content": null,
       "align_items": null,
       "align_self": null,
       "border_bottom": null,
       "border_left": null,
       "border_right": null,
       "border_top": null,
       "bottom": null,
       "display": null,
       "flex": null,
       "flex_flow": null,
       "grid_area": null,
       "grid_auto_columns": null,
       "grid_auto_flow": null,
       "grid_auto_rows": null,
       "grid_column": null,
       "grid_gap": null,
       "grid_row": null,
       "grid_template_areas": null,
       "grid_template_columns": null,
       "grid_template_rows": null,
       "height": null,
       "justify_content": null,
       "justify_items": null,
       "left": null,
       "margin": null,
       "max_height": null,
       "max_width": null,
       "min_height": null,
       "min_width": null,
       "object_fit": null,
       "object_position": null,
       "order": null,
       "overflow": null,
       "padding": null,
       "right": null,
       "top": null,
       "visibility": null,
       "width": null
      }
     },
     "485a83880a1240f59f55256126425a49": {
      "model_module": "@jupyter-widgets/controls",
      "model_module_version": "2.0.0",
      "model_name": "ProgressStyleModel",
      "state": {
       "_model_module": "@jupyter-widgets/controls",
       "_model_module_version": "2.0.0",
       "_model_name": "ProgressStyleModel",
       "_view_count": null,
       "_view_module": "@jupyter-widgets/base",
       "_view_module_version": "2.0.0",
       "_view_name": "StyleView",
       "bar_color": null,
       "description_width": ""
      }
     },
     "49cbacf112614412a2139acd5bb802c7": {
      "model_module": "@jupyter-widgets/controls",
      "model_module_version": "2.0.0",
      "model_name": "HBoxModel",
      "state": {
       "_dom_classes": [],
       "_model_module": "@jupyter-widgets/controls",
       "_model_module_version": "2.0.0",
       "_model_name": "HBoxModel",
       "_view_count": null,
       "_view_module": "@jupyter-widgets/controls",
       "_view_module_version": "2.0.0",
       "_view_name": "HBoxView",
       "box_style": "",
       "children": [
        "IPY_MODEL_a68965fbc26c47b4a1417e7fb512976e",
        "IPY_MODEL_193b038c775c446c9a3d61dd87fce826",
        "IPY_MODEL_1d564f82a6584b8eadec6e95718dd28d"
       ],
       "layout": "IPY_MODEL_e5e8afff51a746dd907db8edae44b6cc",
       "tabbable": null,
       "tooltip": null
      }
     },
     "4a0d17de85b04f76b2af37b5478f9f38": {
      "model_module": "@jupyter-widgets/controls",
      "model_module_version": "2.0.0",
      "model_name": "ProgressStyleModel",
      "state": {
       "_model_module": "@jupyter-widgets/controls",
       "_model_module_version": "2.0.0",
       "_model_name": "ProgressStyleModel",
       "_view_count": null,
       "_view_module": "@jupyter-widgets/base",
       "_view_module_version": "2.0.0",
       "_view_name": "StyleView",
       "bar_color": null,
       "description_width": ""
      }
     },
     "4aa1fbcb835845d19260ff3aeeedaf70": {
      "model_module": "@jupyter-widgets/controls",
      "model_module_version": "2.0.0",
      "model_name": "HTMLStyleModel",
      "state": {
       "_model_module": "@jupyter-widgets/controls",
       "_model_module_version": "2.0.0",
       "_model_name": "HTMLStyleModel",
       "_view_count": null,
       "_view_module": "@jupyter-widgets/base",
       "_view_module_version": "2.0.0",
       "_view_name": "StyleView",
       "background": null,
       "description_width": "",
       "font_size": null,
       "text_color": null
      }
     },
     "53f171388a0f40aaa511b9190fccfeab": {
      "model_module": "@jupyter-widgets/base",
      "model_module_version": "2.0.0",
      "model_name": "LayoutModel",
      "state": {
       "_model_module": "@jupyter-widgets/base",
       "_model_module_version": "2.0.0",
       "_model_name": "LayoutModel",
       "_view_count": null,
       "_view_module": "@jupyter-widgets/base",
       "_view_module_version": "2.0.0",
       "_view_name": "LayoutView",
       "align_content": null,
       "align_items": null,
       "align_self": null,
       "border_bottom": null,
       "border_left": null,
       "border_right": null,
       "border_top": null,
       "bottom": null,
       "display": null,
       "flex": null,
       "flex_flow": null,
       "grid_area": null,
       "grid_auto_columns": null,
       "grid_auto_flow": null,
       "grid_auto_rows": null,
       "grid_column": null,
       "grid_gap": null,
       "grid_row": null,
       "grid_template_areas": null,
       "grid_template_columns": null,
       "grid_template_rows": null,
       "height": null,
       "justify_content": null,
       "justify_items": null,
       "left": null,
       "margin": null,
       "max_height": null,
       "max_width": null,
       "min_height": null,
       "min_width": null,
       "object_fit": null,
       "object_position": null,
       "order": null,
       "overflow": null,
       "padding": null,
       "right": null,
       "top": null,
       "visibility": null,
       "width": null
      }
     },
     "578e370d807c4627aa095dd184b7c654": {
      "model_module": "@jupyter-widgets/controls",
      "model_module_version": "2.0.0",
      "model_name": "HTMLModel",
      "state": {
       "_dom_classes": [],
       "_model_module": "@jupyter-widgets/controls",
       "_model_module_version": "2.0.0",
       "_model_name": "HTMLModel",
       "_view_count": null,
       "_view_module": "@jupyter-widgets/controls",
       "_view_module_version": "2.0.0",
       "_view_name": "HTMLView",
       "description": "",
       "description_allow_html": false,
       "layout": "IPY_MODEL_43632784390f43a08d50a2979637651d",
       "placeholder": "​",
       "style": "IPY_MODEL_7edddab71f2e4090a9c14131d29f224e",
       "tabbable": null,
       "tooltip": null,
       "value": "Map: 100%"
      }
     },
     "5acf470b420d4a03b5cf78bc06080ae3": {
      "model_module": "@jupyter-widgets/controls",
      "model_module_version": "2.0.0",
      "model_name": "HTMLStyleModel",
      "state": {
       "_model_module": "@jupyter-widgets/controls",
       "_model_module_version": "2.0.0",
       "_model_name": "HTMLStyleModel",
       "_view_count": null,
       "_view_module": "@jupyter-widgets/base",
       "_view_module_version": "2.0.0",
       "_view_name": "StyleView",
       "background": null,
       "description_width": "",
       "font_size": null,
       "text_color": null
      }
     },
     "60c4621cf6ea4fb2bc9446c03aee1825": {
      "model_module": "@jupyter-widgets/controls",
      "model_module_version": "2.0.0",
      "model_name": "HTMLModel",
      "state": {
       "_dom_classes": [],
       "_model_module": "@jupyter-widgets/controls",
       "_model_module_version": "2.0.0",
       "_model_name": "HTMLModel",
       "_view_count": null,
       "_view_module": "@jupyter-widgets/controls",
       "_view_module_version": "2.0.0",
       "_view_name": "HTMLView",
       "description": "",
       "description_allow_html": false,
       "layout": "IPY_MODEL_d02722b8fa1d45ba89aeb257bc4b4816",
       "placeholder": "​",
       "style": "IPY_MODEL_bd65d15eac114f20a39a5dfec7c77b07",
       "tabbable": null,
       "tooltip": null,
       "value": " 23519/23519 [00:34&lt;00:00, 693.52 examples/s]"
      }
     },
     "63d539d9779e492eb229a992a170b971": {
      "model_module": "@jupyter-widgets/base",
      "model_module_version": "2.0.0",
      "model_name": "LayoutModel",
      "state": {
       "_model_module": "@jupyter-widgets/base",
       "_model_module_version": "2.0.0",
       "_model_name": "LayoutModel",
       "_view_count": null,
       "_view_module": "@jupyter-widgets/base",
       "_view_module_version": "2.0.0",
       "_view_name": "LayoutView",
       "align_content": null,
       "align_items": null,
       "align_self": null,
       "border_bottom": null,
       "border_left": null,
       "border_right": null,
       "border_top": null,
       "bottom": null,
       "display": null,
       "flex": null,
       "flex_flow": null,
       "grid_area": null,
       "grid_auto_columns": null,
       "grid_auto_flow": null,
       "grid_auto_rows": null,
       "grid_column": null,
       "grid_gap": null,
       "grid_row": null,
       "grid_template_areas": null,
       "grid_template_columns": null,
       "grid_template_rows": null,
       "height": null,
       "justify_content": null,
       "justify_items": null,
       "left": null,
       "margin": null,
       "max_height": null,
       "max_width": null,
       "min_height": null,
       "min_width": null,
       "object_fit": null,
       "object_position": null,
       "order": null,
       "overflow": null,
       "padding": null,
       "right": null,
       "top": null,
       "visibility": null,
       "width": null
      }
     },
     "67428621863e4ab899bb6152f6baec27": {
      "model_module": "@jupyter-widgets/controls",
      "model_module_version": "2.0.0",
      "model_name": "FloatProgressModel",
      "state": {
       "_dom_classes": [],
       "_model_module": "@jupyter-widgets/controls",
       "_model_module_version": "2.0.0",
       "_model_name": "FloatProgressModel",
       "_view_count": null,
       "_view_module": "@jupyter-widgets/controls",
       "_view_module_version": "2.0.0",
       "_view_name": "ProgressView",
       "bar_style": "success",
       "description": "",
       "description_allow_html": false,
       "layout": "IPY_MODEL_17ce303aadcf41f1ae64102a12cf96d1",
       "max": 23519,
       "min": 0,
       "orientation": "horizontal",
       "style": "IPY_MODEL_485a83880a1240f59f55256126425a49",
       "tabbable": null,
       "tooltip": null,
       "value": 23519
      }
     },
     "796d4a3f27304926aeaf2a37782b2b62": {
      "model_module": "@jupyter-widgets/controls",
      "model_module_version": "2.0.0",
      "model_name": "ProgressStyleModel",
      "state": {
       "_model_module": "@jupyter-widgets/controls",
       "_model_module_version": "2.0.0",
       "_model_name": "ProgressStyleModel",
       "_view_count": null,
       "_view_module": "@jupyter-widgets/base",
       "_view_module_version": "2.0.0",
       "_view_name": "StyleView",
       "bar_color": null,
       "description_width": ""
      }
     },
     "7edddab71f2e4090a9c14131d29f224e": {
      "model_module": "@jupyter-widgets/controls",
      "model_module_version": "2.0.0",
      "model_name": "HTMLStyleModel",
      "state": {
       "_model_module": "@jupyter-widgets/controls",
       "_model_module_version": "2.0.0",
       "_model_name": "HTMLStyleModel",
       "_view_count": null,
       "_view_module": "@jupyter-widgets/base",
       "_view_module_version": "2.0.0",
       "_view_name": "StyleView",
       "background": null,
       "description_width": "",
       "font_size": null,
       "text_color": null
      }
     },
     "8937f0f6ec63427bb379349dd0590d9c": {
      "model_module": "@jupyter-widgets/controls",
      "model_module_version": "2.0.0",
      "model_name": "FloatProgressModel",
      "state": {
       "_dom_classes": [],
       "_model_module": "@jupyter-widgets/controls",
       "_model_module_version": "2.0.0",
       "_model_name": "FloatProgressModel",
       "_view_count": null,
       "_view_module": "@jupyter-widgets/controls",
       "_view_module_version": "2.0.0",
       "_view_name": "ProgressView",
       "bar_style": "success",
       "description": "",
       "description_allow_html": false,
       "layout": "IPY_MODEL_d65e953170814d16ac0d40352b2370dc",
       "max": 94073,
       "min": 0,
       "orientation": "horizontal",
       "style": "IPY_MODEL_796d4a3f27304926aeaf2a37782b2b62",
       "tabbable": null,
       "tooltip": null,
       "value": 94073
      }
     },
     "91cb936e518b492ea90b482ed181392f": {
      "model_module": "@jupyter-widgets/base",
      "model_module_version": "2.0.0",
      "model_name": "LayoutModel",
      "state": {
       "_model_module": "@jupyter-widgets/base",
       "_model_module_version": "2.0.0",
       "_model_name": "LayoutModel",
       "_view_count": null,
       "_view_module": "@jupyter-widgets/base",
       "_view_module_version": "2.0.0",
       "_view_name": "LayoutView",
       "align_content": null,
       "align_items": null,
       "align_self": null,
       "border_bottom": null,
       "border_left": null,
       "border_right": null,
       "border_top": null,
       "bottom": null,
       "display": null,
       "flex": null,
       "flex_flow": null,
       "grid_area": null,
       "grid_auto_columns": null,
       "grid_auto_flow": null,
       "grid_auto_rows": null,
       "grid_column": null,
       "grid_gap": null,
       "grid_row": null,
       "grid_template_areas": null,
       "grid_template_columns": null,
       "grid_template_rows": null,
       "height": null,
       "justify_content": null,
       "justify_items": null,
       "left": null,
       "margin": null,
       "max_height": null,
       "max_width": null,
       "min_height": null,
       "min_width": null,
       "object_fit": null,
       "object_position": null,
       "order": null,
       "overflow": null,
       "padding": null,
       "right": null,
       "top": null,
       "visibility": null,
       "width": null
      }
     },
     "9700c89882934f578965320540ec151a": {
      "model_module": "@jupyter-widgets/base",
      "model_module_version": "2.0.0",
      "model_name": "LayoutModel",
      "state": {
       "_model_module": "@jupyter-widgets/base",
       "_model_module_version": "2.0.0",
       "_model_name": "LayoutModel",
       "_view_count": null,
       "_view_module": "@jupyter-widgets/base",
       "_view_module_version": "2.0.0",
       "_view_name": "LayoutView",
       "align_content": null,
       "align_items": null,
       "align_self": null,
       "border_bottom": null,
       "border_left": null,
       "border_right": null,
       "border_top": null,
       "bottom": null,
       "display": null,
       "flex": null,
       "flex_flow": null,
       "grid_area": null,
       "grid_auto_columns": null,
       "grid_auto_flow": null,
       "grid_auto_rows": null,
       "grid_column": null,
       "grid_gap": null,
       "grid_row": null,
       "grid_template_areas": null,
       "grid_template_columns": null,
       "grid_template_rows": null,
       "height": null,
       "justify_content": null,
       "justify_items": null,
       "left": null,
       "margin": null,
       "max_height": null,
       "max_width": null,
       "min_height": null,
       "min_width": null,
       "object_fit": null,
       "object_position": null,
       "order": null,
       "overflow": null,
       "padding": null,
       "right": null,
       "top": null,
       "visibility": null,
       "width": null
      }
     },
     "9dd00da674c64b9bb96ff289037d0410": {
      "model_module": "@jupyter-widgets/controls",
      "model_module_version": "2.0.0",
      "model_name": "HTMLModel",
      "state": {
       "_dom_classes": [],
       "_model_module": "@jupyter-widgets/controls",
       "_model_module_version": "2.0.0",
       "_model_name": "HTMLModel",
       "_view_count": null,
       "_view_module": "@jupyter-widgets/controls",
       "_view_module_version": "2.0.0",
       "_view_name": "HTMLView",
       "description": "",
       "description_allow_html": false,
       "layout": "IPY_MODEL_43e7aeeef1c742c4b5482513b4ddacf8",
       "placeholder": "​",
       "style": "IPY_MODEL_246bbc9104f041e38a18778ce0f3145d",
       "tabbable": null,
       "tooltip": null,
       "value": " 94073/94073 [00:04&lt;00:00, 19944.46 examples/s]"
      }
     },
     "a68965fbc26c47b4a1417e7fb512976e": {
      "model_module": "@jupyter-widgets/controls",
      "model_module_version": "2.0.0",
      "model_name": "HTMLModel",
      "state": {
       "_dom_classes": [],
       "_model_module": "@jupyter-widgets/controls",
       "_model_module_version": "2.0.0",
       "_model_name": "HTMLModel",
       "_view_count": null,
       "_view_module": "@jupyter-widgets/controls",
       "_view_module_version": "2.0.0",
       "_view_name": "HTMLView",
       "description": "",
       "description_allow_html": false,
       "layout": "IPY_MODEL_9700c89882934f578965320540ec151a",
       "placeholder": "​",
       "style": "IPY_MODEL_5acf470b420d4a03b5cf78bc06080ae3",
       "tabbable": null,
       "tooltip": null,
       "value": "Map: 100%"
      }
     },
     "a93f853f181c4604a7ac2cd51c6d3308": {
      "model_module": "@jupyter-widgets/controls",
      "model_module_version": "2.0.0",
      "model_name": "HBoxModel",
      "state": {
       "_dom_classes": [],
       "_model_module": "@jupyter-widgets/controls",
       "_model_module_version": "2.0.0",
       "_model_name": "HBoxModel",
       "_view_count": null,
       "_view_module": "@jupyter-widgets/controls",
       "_view_module_version": "2.0.0",
       "_view_name": "HBoxView",
       "box_style": "",
       "children": [
        "IPY_MODEL_578e370d807c4627aa095dd184b7c654",
        "IPY_MODEL_67428621863e4ab899bb6152f6baec27",
        "IPY_MODEL_60c4621cf6ea4fb2bc9446c03aee1825"
       ],
       "layout": "IPY_MODEL_d80300895a624027a8b66138966fc2c4",
       "tabbable": null,
       "tooltip": null
      }
     },
     "b10e9ad973dd415b9602ce81bda34d48": {
      "model_module": "@jupyter-widgets/base",
      "model_module_version": "2.0.0",
      "model_name": "LayoutModel",
      "state": {
       "_model_module": "@jupyter-widgets/base",
       "_model_module_version": "2.0.0",
       "_model_name": "LayoutModel",
       "_view_count": null,
       "_view_module": "@jupyter-widgets/base",
       "_view_module_version": "2.0.0",
       "_view_name": "LayoutView",
       "align_content": null,
       "align_items": null,
       "align_self": null,
       "border_bottom": null,
       "border_left": null,
       "border_right": null,
       "border_top": null,
       "bottom": null,
       "display": null,
       "flex": null,
       "flex_flow": null,
       "grid_area": null,
       "grid_auto_columns": null,
       "grid_auto_flow": null,
       "grid_auto_rows": null,
       "grid_column": null,
       "grid_gap": null,
       "grid_row": null,
       "grid_template_areas": null,
       "grid_template_columns": null,
       "grid_template_rows": null,
       "height": null,
       "justify_content": null,
       "justify_items": null,
       "left": null,
       "margin": null,
       "max_height": null,
       "max_width": null,
       "min_height": null,
       "min_width": null,
       "object_fit": null,
       "object_position": null,
       "order": null,
       "overflow": null,
       "padding": null,
       "right": null,
       "top": null,
       "visibility": null,
       "width": null
      }
     },
     "b429d9758603407a9c4a9b6a4aeb9a82": {
      "model_module": "@jupyter-widgets/controls",
      "model_module_version": "2.0.0",
      "model_name": "HBoxModel",
      "state": {
       "_dom_classes": [],
       "_model_module": "@jupyter-widgets/controls",
       "_model_module_version": "2.0.0",
       "_model_name": "HBoxModel",
       "_view_count": null,
       "_view_module": "@jupyter-widgets/controls",
       "_view_module_version": "2.0.0",
       "_view_name": "HBoxView",
       "box_style": "",
       "children": [
        "IPY_MODEL_2cbc7f8270af4c8d9fc9ba70aa4a3859",
        "IPY_MODEL_efa5093001824a45821d089fb04dd5a8",
        "IPY_MODEL_f7de9d39aa184c468bd65f51cfd7c1d3"
       ],
       "layout": "IPY_MODEL_b10e9ad973dd415b9602ce81bda34d48",
       "tabbable": null,
       "tooltip": null
      }
     },
     "bd65d15eac114f20a39a5dfec7c77b07": {
      "model_module": "@jupyter-widgets/controls",
      "model_module_version": "2.0.0",
      "model_name": "HTMLStyleModel",
      "state": {
       "_model_module": "@jupyter-widgets/controls",
       "_model_module_version": "2.0.0",
       "_model_name": "HTMLStyleModel",
       "_view_count": null,
       "_view_module": "@jupyter-widgets/base",
       "_view_module_version": "2.0.0",
       "_view_name": "StyleView",
       "background": null,
       "description_width": "",
       "font_size": null,
       "text_color": null
      }
     },
     "ceff0415aabe4decb8ec50c18d2f46f7": {
      "model_module": "@jupyter-widgets/controls",
      "model_module_version": "2.0.0",
      "model_name": "HBoxModel",
      "state": {
       "_dom_classes": [],
       "_model_module": "@jupyter-widgets/controls",
       "_model_module_version": "2.0.0",
       "_model_name": "HBoxModel",
       "_view_count": null,
       "_view_module": "@jupyter-widgets/controls",
       "_view_module_version": "2.0.0",
       "_view_name": "HBoxView",
       "box_style": "",
       "children": [
        "IPY_MODEL_3a33a4684e184209a9248e19ba161d73",
        "IPY_MODEL_8937f0f6ec63427bb379349dd0590d9c",
        "IPY_MODEL_9dd00da674c64b9bb96ff289037d0410"
       ],
       "layout": "IPY_MODEL_53f171388a0f40aaa511b9190fccfeab",
       "tabbable": null,
       "tooltip": null
      }
     },
     "d02722b8fa1d45ba89aeb257bc4b4816": {
      "model_module": "@jupyter-widgets/base",
      "model_module_version": "2.0.0",
      "model_name": "LayoutModel",
      "state": {
       "_model_module": "@jupyter-widgets/base",
       "_model_module_version": "2.0.0",
       "_model_name": "LayoutModel",
       "_view_count": null,
       "_view_module": "@jupyter-widgets/base",
       "_view_module_version": "2.0.0",
       "_view_name": "LayoutView",
       "align_content": null,
       "align_items": null,
       "align_self": null,
       "border_bottom": null,
       "border_left": null,
       "border_right": null,
       "border_top": null,
       "bottom": null,
       "display": null,
       "flex": null,
       "flex_flow": null,
       "grid_area": null,
       "grid_auto_columns": null,
       "grid_auto_flow": null,
       "grid_auto_rows": null,
       "grid_column": null,
       "grid_gap": null,
       "grid_row": null,
       "grid_template_areas": null,
       "grid_template_columns": null,
       "grid_template_rows": null,
       "height": null,
       "justify_content": null,
       "justify_items": null,
       "left": null,
       "margin": null,
       "max_height": null,
       "max_width": null,
       "min_height": null,
       "min_width": null,
       "object_fit": null,
       "object_position": null,
       "order": null,
       "overflow": null,
       "padding": null,
       "right": null,
       "top": null,
       "visibility": null,
       "width": null
      }
     },
     "d1751ed0cb0042cb9ea75a960bfa4c5c": {
      "model_module": "@jupyter-widgets/base",
      "model_module_version": "2.0.0",
      "model_name": "LayoutModel",
      "state": {
       "_model_module": "@jupyter-widgets/base",
       "_model_module_version": "2.0.0",
       "_model_name": "LayoutModel",
       "_view_count": null,
       "_view_module": "@jupyter-widgets/base",
       "_view_module_version": "2.0.0",
       "_view_name": "LayoutView",
       "align_content": null,
       "align_items": null,
       "align_self": null,
       "border_bottom": null,
       "border_left": null,
       "border_right": null,
       "border_top": null,
       "bottom": null,
       "display": null,
       "flex": null,
       "flex_flow": null,
       "grid_area": null,
       "grid_auto_columns": null,
       "grid_auto_flow": null,
       "grid_auto_rows": null,
       "grid_column": null,
       "grid_gap": null,
       "grid_row": null,
       "grid_template_areas": null,
       "grid_template_columns": null,
       "grid_template_rows": null,
       "height": null,
       "justify_content": null,
       "justify_items": null,
       "left": null,
       "margin": null,
       "max_height": null,
       "max_width": null,
       "min_height": null,
       "min_width": null,
       "object_fit": null,
       "object_position": null,
       "order": null,
       "overflow": null,
       "padding": null,
       "right": null,
       "top": null,
       "visibility": null,
       "width": null
      }
     },
     "d65e953170814d16ac0d40352b2370dc": {
      "model_module": "@jupyter-widgets/base",
      "model_module_version": "2.0.0",
      "model_name": "LayoutModel",
      "state": {
       "_model_module": "@jupyter-widgets/base",
       "_model_module_version": "2.0.0",
       "_model_name": "LayoutModel",
       "_view_count": null,
       "_view_module": "@jupyter-widgets/base",
       "_view_module_version": "2.0.0",
       "_view_name": "LayoutView",
       "align_content": null,
       "align_items": null,
       "align_self": null,
       "border_bottom": null,
       "border_left": null,
       "border_right": null,
       "border_top": null,
       "bottom": null,
       "display": null,
       "flex": null,
       "flex_flow": null,
       "grid_area": null,
       "grid_auto_columns": null,
       "grid_auto_flow": null,
       "grid_auto_rows": null,
       "grid_column": null,
       "grid_gap": null,
       "grid_row": null,
       "grid_template_areas": null,
       "grid_template_columns": null,
       "grid_template_rows": null,
       "height": null,
       "justify_content": null,
       "justify_items": null,
       "left": null,
       "margin": null,
       "max_height": null,
       "max_width": null,
       "min_height": null,
       "min_width": null,
       "object_fit": null,
       "object_position": null,
       "order": null,
       "overflow": null,
       "padding": null,
       "right": null,
       "top": null,
       "visibility": null,
       "width": null
      }
     },
     "d80300895a624027a8b66138966fc2c4": {
      "model_module": "@jupyter-widgets/base",
      "model_module_version": "2.0.0",
      "model_name": "LayoutModel",
      "state": {
       "_model_module": "@jupyter-widgets/base",
       "_model_module_version": "2.0.0",
       "_model_name": "LayoutModel",
       "_view_count": null,
       "_view_module": "@jupyter-widgets/base",
       "_view_module_version": "2.0.0",
       "_view_name": "LayoutView",
       "align_content": null,
       "align_items": null,
       "align_self": null,
       "border_bottom": null,
       "border_left": null,
       "border_right": null,
       "border_top": null,
       "bottom": null,
       "display": null,
       "flex": null,
       "flex_flow": null,
       "grid_area": null,
       "grid_auto_columns": null,
       "grid_auto_flow": null,
       "grid_auto_rows": null,
       "grid_column": null,
       "grid_gap": null,
       "grid_row": null,
       "grid_template_areas": null,
       "grid_template_columns": null,
       "grid_template_rows": null,
       "height": null,
       "justify_content": null,
       "justify_items": null,
       "left": null,
       "margin": null,
       "max_height": null,
       "max_width": null,
       "min_height": null,
       "min_width": null,
       "object_fit": null,
       "object_position": null,
       "order": null,
       "overflow": null,
       "padding": null,
       "right": null,
       "top": null,
       "visibility": null,
       "width": null
      }
     },
     "dc609b9ff4a1408c8b3033030e63cf66": {
      "model_module": "@jupyter-widgets/controls",
      "model_module_version": "2.0.0",
      "model_name": "ProgressStyleModel",
      "state": {
       "_model_module": "@jupyter-widgets/controls",
       "_model_module_version": "2.0.0",
       "_model_name": "ProgressStyleModel",
       "_view_count": null,
       "_view_module": "@jupyter-widgets/base",
       "_view_module_version": "2.0.0",
       "_view_name": "StyleView",
       "bar_color": null,
       "description_width": ""
      }
     },
     "dc64bd5f631d4970ac77f63e5e9043c7": {
      "model_module": "@jupyter-widgets/base",
      "model_module_version": "2.0.0",
      "model_name": "LayoutModel",
      "state": {
       "_model_module": "@jupyter-widgets/base",
       "_model_module_version": "2.0.0",
       "_model_name": "LayoutModel",
       "_view_count": null,
       "_view_module": "@jupyter-widgets/base",
       "_view_module_version": "2.0.0",
       "_view_name": "LayoutView",
       "align_content": null,
       "align_items": null,
       "align_self": null,
       "border_bottom": null,
       "border_left": null,
       "border_right": null,
       "border_top": null,
       "bottom": null,
       "display": null,
       "flex": null,
       "flex_flow": null,
       "grid_area": null,
       "grid_auto_columns": null,
       "grid_auto_flow": null,
       "grid_auto_rows": null,
       "grid_column": null,
       "grid_gap": null,
       "grid_row": null,
       "grid_template_areas": null,
       "grid_template_columns": null,
       "grid_template_rows": null,
       "height": null,
       "justify_content": null,
       "justify_items": null,
       "left": null,
       "margin": null,
       "max_height": null,
       "max_width": null,
       "min_height": null,
       "min_width": null,
       "object_fit": null,
       "object_position": null,
       "order": null,
       "overflow": null,
       "padding": null,
       "right": null,
       "top": null,
       "visibility": null,
       "width": null
      }
     },
     "deaef1af5c0149a2ae3bd0014ff1ac3d": {
      "model_module": "@jupyter-widgets/base",
      "model_module_version": "2.0.0",
      "model_name": "LayoutModel",
      "state": {
       "_model_module": "@jupyter-widgets/base",
       "_model_module_version": "2.0.0",
       "_model_name": "LayoutModel",
       "_view_count": null,
       "_view_module": "@jupyter-widgets/base",
       "_view_module_version": "2.0.0",
       "_view_name": "LayoutView",
       "align_content": null,
       "align_items": null,
       "align_self": null,
       "border_bottom": null,
       "border_left": null,
       "border_right": null,
       "border_top": null,
       "bottom": null,
       "display": null,
       "flex": null,
       "flex_flow": null,
       "grid_area": null,
       "grid_auto_columns": null,
       "grid_auto_flow": null,
       "grid_auto_rows": null,
       "grid_column": null,
       "grid_gap": null,
       "grid_row": null,
       "grid_template_areas": null,
       "grid_template_columns": null,
       "grid_template_rows": null,
       "height": null,
       "justify_content": null,
       "justify_items": null,
       "left": null,
       "margin": null,
       "max_height": null,
       "max_width": null,
       "min_height": null,
       "min_width": null,
       "object_fit": null,
       "object_position": null,
       "order": null,
       "overflow": null,
       "padding": null,
       "right": null,
       "top": null,
       "visibility": null,
       "width": null
      }
     },
     "e5e8afff51a746dd907db8edae44b6cc": {
      "model_module": "@jupyter-widgets/base",
      "model_module_version": "2.0.0",
      "model_name": "LayoutModel",
      "state": {
       "_model_module": "@jupyter-widgets/base",
       "_model_module_version": "2.0.0",
       "_model_name": "LayoutModel",
       "_view_count": null,
       "_view_module": "@jupyter-widgets/base",
       "_view_module_version": "2.0.0",
       "_view_name": "LayoutView",
       "align_content": null,
       "align_items": null,
       "align_self": null,
       "border_bottom": null,
       "border_left": null,
       "border_right": null,
       "border_top": null,
       "bottom": null,
       "display": null,
       "flex": null,
       "flex_flow": null,
       "grid_area": null,
       "grid_auto_columns": null,
       "grid_auto_flow": null,
       "grid_auto_rows": null,
       "grid_column": null,
       "grid_gap": null,
       "grid_row": null,
       "grid_template_areas": null,
       "grid_template_columns": null,
       "grid_template_rows": null,
       "height": null,
       "justify_content": null,
       "justify_items": null,
       "left": null,
       "margin": null,
       "max_height": null,
       "max_width": null,
       "min_height": null,
       "min_width": null,
       "object_fit": null,
       "object_position": null,
       "order": null,
       "overflow": null,
       "padding": null,
       "right": null,
       "top": null,
       "visibility": null,
       "width": null
      }
     },
     "e8db402fc0c447a1a047ad7c710ec704": {
      "model_module": "@jupyter-widgets/base",
      "model_module_version": "2.0.0",
      "model_name": "LayoutModel",
      "state": {
       "_model_module": "@jupyter-widgets/base",
       "_model_module_version": "2.0.0",
       "_model_name": "LayoutModel",
       "_view_count": null,
       "_view_module": "@jupyter-widgets/base",
       "_view_module_version": "2.0.0",
       "_view_name": "LayoutView",
       "align_content": null,
       "align_items": null,
       "align_self": null,
       "border_bottom": null,
       "border_left": null,
       "border_right": null,
       "border_top": null,
       "bottom": null,
       "display": null,
       "flex": null,
       "flex_flow": null,
       "grid_area": null,
       "grid_auto_columns": null,
       "grid_auto_flow": null,
       "grid_auto_rows": null,
       "grid_column": null,
       "grid_gap": null,
       "grid_row": null,
       "grid_template_areas": null,
       "grid_template_columns": null,
       "grid_template_rows": null,
       "height": null,
       "justify_content": null,
       "justify_items": null,
       "left": null,
       "margin": null,
       "max_height": null,
       "max_width": null,
       "min_height": null,
       "min_width": null,
       "object_fit": null,
       "object_position": null,
       "order": null,
       "overflow": null,
       "padding": null,
       "right": null,
       "top": null,
       "visibility": null,
       "width": null
      }
     },
     "efa5093001824a45821d089fb04dd5a8": {
      "model_module": "@jupyter-widgets/controls",
      "model_module_version": "2.0.0",
      "model_name": "FloatProgressModel",
      "state": {
       "_dom_classes": [],
       "_model_module": "@jupyter-widgets/controls",
       "_model_module_version": "2.0.0",
       "_model_name": "FloatProgressModel",
       "_view_count": null,
       "_view_module": "@jupyter-widgets/controls",
       "_view_module_version": "2.0.0",
       "_view_name": "ProgressView",
       "bar_style": "success",
       "description": "",
       "description_allow_html": false,
       "layout": "IPY_MODEL_e8db402fc0c447a1a047ad7c710ec704",
       "max": 23519,
       "min": 0,
       "orientation": "horizontal",
       "style": "IPY_MODEL_dc609b9ff4a1408c8b3033030e63cf66",
       "tabbable": null,
       "tooltip": null,
       "value": 23519
      }
     },
     "f7de9d39aa184c468bd65f51cfd7c1d3": {
      "model_module": "@jupyter-widgets/controls",
      "model_module_version": "2.0.0",
      "model_name": "HTMLModel",
      "state": {
       "_dom_classes": [],
       "_model_module": "@jupyter-widgets/controls",
       "_model_module_version": "2.0.0",
       "_model_name": "HTMLModel",
       "_view_count": null,
       "_view_module": "@jupyter-widgets/controls",
       "_view_module_version": "2.0.0",
       "_view_name": "HTMLView",
       "description": "",
       "description_allow_html": false,
       "layout": "IPY_MODEL_d1751ed0cb0042cb9ea75a960bfa4c5c",
       "placeholder": "​",
       "style": "IPY_MODEL_ff4ec530af5841e0a55cff872a2d9ccb",
       "tabbable": null,
       "tooltip": null,
       "value": " 23519/23519 [00:01&lt;00:00, 20567.08 examples/s]"
      }
     },
     "ff4ec530af5841e0a55cff872a2d9ccb": {
      "model_module": "@jupyter-widgets/controls",
      "model_module_version": "2.0.0",
      "model_name": "HTMLStyleModel",
      "state": {
       "_model_module": "@jupyter-widgets/controls",
       "_model_module_version": "2.0.0",
       "_model_name": "HTMLStyleModel",
       "_view_count": null,
       "_view_module": "@jupyter-widgets/base",
       "_view_module_version": "2.0.0",
       "_view_name": "StyleView",
       "background": null,
       "description_width": "",
       "font_size": null,
       "text_color": null
      }
     }
    },
    "version_major": 2,
    "version_minor": 0
   }
  }
 },
 "nbformat": 4,
 "nbformat_minor": 5
}
