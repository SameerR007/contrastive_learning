{
 "cells": [
  {
   "cell_type": "code",
   "execution_count": 1,
   "id": "c643a105",
   "metadata": {
    "execution": {
     "iopub.execute_input": "2025-02-05T01:00:13.075990Z",
     "iopub.status.busy": "2025-02-05T01:00:13.075733Z",
     "iopub.status.idle": "2025-02-05T01:00:20.618728Z",
     "shell.execute_reply": "2025-02-05T01:00:20.618262Z"
    },
    "papermill": {
     "duration": 7.550441,
     "end_time": "2025-02-05T01:00:20.619670",
     "exception": false,
     "start_time": "2025-02-05T01:00:13.069229",
     "status": "completed"
    },
    "tags": []
   },
   "outputs": [],
   "source": [
    "from datasets import load_dataset"
   ]
  },
  {
   "cell_type": "code",
   "execution_count": 2,
   "id": "bcba0194",
   "metadata": {
    "execution": {
     "iopub.execute_input": "2025-02-05T01:00:20.633159Z",
     "iopub.status.busy": "2025-02-05T01:00:20.632839Z",
     "iopub.status.idle": "2025-02-05T01:00:23.701731Z",
     "shell.execute_reply": "2025-02-05T01:00:23.701271Z"
    },
    "papermill": {
     "duration": 3.075701,
     "end_time": "2025-02-05T01:00:23.702550",
     "exception": false,
     "start_time": "2025-02-05T01:00:20.626849",
     "status": "completed"
    },
    "tags": []
   },
   "outputs": [],
   "source": [
    "dataset = load_dataset(\"CShorten/ML-ArXiv-Papers\")"
   ]
  },
  {
   "cell_type": "code",
   "execution_count": 3,
   "id": "9c77ff31",
   "metadata": {
    "execution": {
     "iopub.execute_input": "2025-02-05T01:00:23.717253Z",
     "iopub.status.busy": "2025-02-05T01:00:23.716767Z",
     "iopub.status.idle": "2025-02-05T01:00:23.721444Z",
     "shell.execute_reply": "2025-02-05T01:00:23.721090Z"
    },
    "papermill": {
     "duration": 0.010653,
     "end_time": "2025-02-05T01:00:23.722073",
     "exception": false,
     "start_time": "2025-02-05T01:00:23.711420",
     "status": "completed"
    },
    "tags": []
   },
   "outputs": [
    {
     "data": {
      "text/plain": [
       "DatasetDict({\n",
       "    train: Dataset({\n",
       "        features: ['Unnamed: 0.1', 'Unnamed: 0', 'title', 'abstract'],\n",
       "        num_rows: 117592\n",
       "    })\n",
       "})"
      ]
     },
     "execution_count": 3,
     "metadata": {},
     "output_type": "execute_result"
    }
   ],
   "source": [
    "dataset"
   ]
  },
  {
   "cell_type": "code",
   "execution_count": 4,
   "id": "04a2a273",
   "metadata": {
    "execution": {
     "iopub.execute_input": "2025-02-05T01:00:23.732685Z",
     "iopub.status.busy": "2025-02-05T01:00:23.732402Z",
     "iopub.status.idle": "2025-02-05T01:00:23.769896Z",
     "shell.execute_reply": "2025-02-05T01:00:23.769530Z"
    },
    "papermill": {
     "duration": 0.043898,
     "end_time": "2025-02-05T01:00:23.770997",
     "exception": false,
     "start_time": "2025-02-05T01:00:23.727099",
     "status": "completed"
    },
    "tags": []
   },
   "outputs": [],
   "source": [
    "split_datasets = dataset[\"train\"].train_test_split(test_size=0.2)"
   ]
  },
  {
   "cell_type": "code",
   "execution_count": 5,
   "id": "9dbe1eb6",
   "metadata": {
    "execution": {
     "iopub.execute_input": "2025-02-05T01:00:23.781527Z",
     "iopub.status.busy": "2025-02-05T01:00:23.781386Z",
     "iopub.status.idle": "2025-02-05T01:00:23.784706Z",
     "shell.execute_reply": "2025-02-05T01:00:23.784298Z"
    },
    "papermill": {
     "duration": 0.009254,
     "end_time": "2025-02-05T01:00:23.785359",
     "exception": false,
     "start_time": "2025-02-05T01:00:23.776105",
     "status": "completed"
    },
    "tags": []
   },
   "outputs": [
    {
     "data": {
      "text/plain": [
       "DatasetDict({\n",
       "    train: Dataset({\n",
       "        features: ['Unnamed: 0.1', 'Unnamed: 0', 'title', 'abstract'],\n",
       "        num_rows: 94073\n",
       "    })\n",
       "    test: Dataset({\n",
       "        features: ['Unnamed: 0.1', 'Unnamed: 0', 'title', 'abstract'],\n",
       "        num_rows: 23519\n",
       "    })\n",
       "})"
      ]
     },
     "execution_count": 5,
     "metadata": {},
     "output_type": "execute_result"
    }
   ],
   "source": [
    "split_datasets"
   ]
  },
  {
   "cell_type": "code",
   "execution_count": 6,
   "id": "3e518138",
   "metadata": {
    "execution": {
     "iopub.execute_input": "2025-02-05T01:00:23.795836Z",
     "iopub.status.busy": "2025-02-05T01:00:23.795699Z",
     "iopub.status.idle": "2025-02-05T01:00:23.797953Z",
     "shell.execute_reply": "2025-02-05T01:00:23.797573Z"
    },
    "papermill": {
     "duration": 0.0082,
     "end_time": "2025-02-05T01:00:23.798568",
     "exception": false,
     "start_time": "2025-02-05T01:00:23.790368",
     "status": "completed"
    },
    "tags": []
   },
   "outputs": [],
   "source": [
    "dataset_train = split_datasets[\"train\"]"
   ]
  },
  {
   "cell_type": "code",
   "execution_count": 7,
   "id": "0f892510",
   "metadata": {
    "execution": {
     "iopub.execute_input": "2025-02-05T01:00:23.809019Z",
     "iopub.status.busy": "2025-02-05T01:00:23.808885Z",
     "iopub.status.idle": "2025-02-05T01:00:23.811744Z",
     "shell.execute_reply": "2025-02-05T01:00:23.811438Z"
    },
    "papermill": {
     "duration": 0.008754,
     "end_time": "2025-02-05T01:00:23.812324",
     "exception": false,
     "start_time": "2025-02-05T01:00:23.803570",
     "status": "completed"
    },
    "tags": []
   },
   "outputs": [
    {
     "data": {
      "text/plain": [
       "Dataset({\n",
       "    features: ['Unnamed: 0.1', 'Unnamed: 0', 'title', 'abstract'],\n",
       "    num_rows: 94073\n",
       "})"
      ]
     },
     "execution_count": 7,
     "metadata": {},
     "output_type": "execute_result"
    }
   ],
   "source": [
    "dataset_train"
   ]
  },
  {
   "cell_type": "code",
   "execution_count": 8,
   "id": "135d2875",
   "metadata": {
    "execution": {
     "iopub.execute_input": "2025-02-05T01:00:23.823276Z",
     "iopub.status.busy": "2025-02-05T01:00:23.822996Z",
     "iopub.status.idle": "2025-02-05T01:00:23.826409Z",
     "shell.execute_reply": "2025-02-05T01:00:23.826019Z"
    },
    "papermill": {
     "duration": 0.009465,
     "end_time": "2025-02-05T01:00:23.826997",
     "exception": false,
     "start_time": "2025-02-05T01:00:23.817532",
     "status": "completed"
    },
    "tags": []
   },
   "outputs": [],
   "source": [
    "dataset_train = dataset_train.remove_columns(['Unnamed: 0','Unnamed: 0.1'])"
   ]
  },
  {
   "cell_type": "code",
   "execution_count": 9,
   "id": "cbcdbc4c",
   "metadata": {
    "execution": {
     "iopub.execute_input": "2025-02-05T01:00:23.837953Z",
     "iopub.status.busy": "2025-02-05T01:00:23.837727Z",
     "iopub.status.idle": "2025-02-05T01:00:23.840530Z",
     "shell.execute_reply": "2025-02-05T01:00:23.840149Z"
    },
    "papermill": {
     "duration": 0.008976,
     "end_time": "2025-02-05T01:00:23.841132",
     "exception": false,
     "start_time": "2025-02-05T01:00:23.832156",
     "status": "completed"
    },
    "tags": []
   },
   "outputs": [
    {
     "data": {
      "text/plain": [
       "Dataset({\n",
       "    features: ['title', 'abstract'],\n",
       "    num_rows: 94073\n",
       "})"
      ]
     },
     "execution_count": 9,
     "metadata": {},
     "output_type": "execute_result"
    }
   ],
   "source": [
    "dataset_train"
   ]
  },
  {
   "cell_type": "code",
   "execution_count": 10,
   "id": "1c3dbc53",
   "metadata": {
    "execution": {
     "iopub.execute_input": "2025-02-05T01:00:23.852182Z",
     "iopub.status.busy": "2025-02-05T01:00:23.851955Z",
     "iopub.status.idle": "2025-02-05T01:00:23.855397Z",
     "shell.execute_reply": "2025-02-05T01:00:23.855008Z"
    },
    "papermill": {
     "duration": 0.00964,
     "end_time": "2025-02-05T01:00:23.856042",
     "exception": false,
     "start_time": "2025-02-05T01:00:23.846402",
     "status": "completed"
    },
    "tags": []
   },
   "outputs": [
    {
     "data": {
      "text/plain": [
       "{'title': 'Translating Visual Art into Music',\n",
       " 'abstract': '  The Synesthetic Variational Autoencoder (SynVAE) introduced in this research\\nis able to learn a consistent mapping between visual and auditive sensory\\nmodalities in the absence of paired datasets. A quantitative evaluation on\\nMNIST as well as the Behance Artistic Media dataset (BAM) shows that SynVAE is\\ncapable of retaining sufficient information content during the translation\\nwhile maintaining cross-modal latent space consistency. In a qualitative\\nevaluation trial, human evaluators were furthermore able to match musical\\nsamples with the images which generated them with accuracies of up to 73%.\\n'}"
      ]
     },
     "execution_count": 10,
     "metadata": {},
     "output_type": "execute_result"
    }
   ],
   "source": [
    "dataset_train[0]"
   ]
  },
  {
   "cell_type": "code",
   "execution_count": 11,
   "id": "045e63c7",
   "metadata": {
    "execution": {
     "iopub.execute_input": "2025-02-05T01:00:23.867182Z",
     "iopub.status.busy": "2025-02-05T01:00:23.866948Z",
     "iopub.status.idle": "2025-02-05T01:00:28.964318Z",
     "shell.execute_reply": "2025-02-05T01:00:28.963887Z"
    },
    "papermill": {
     "duration": 5.103698,
     "end_time": "2025-02-05T01:00:28.965053",
     "exception": false,
     "start_time": "2025-02-05T01:00:23.861355",
     "status": "completed"
    },
    "tags": []
   },
   "outputs": [
    {
     "data": {
      "application/vnd.jupyter.widget-view+json": {
       "model_id": "c8035133cfa34fe48bc30a7586f7c46c",
       "version_major": 2,
       "version_minor": 0
      },
      "text/plain": [
       "Map:   0%|          | 0/94073 [00:00<?, ? examples/s]"
      ]
     },
     "metadata": {},
     "output_type": "display_data"
    }
   ],
   "source": [
    "dataset_train = dataset_train.map(lambda x, idx: { 'index': idx }, with_indices=True)"
   ]
  },
  {
   "cell_type": "code",
   "execution_count": 12,
   "id": "f4e9748a",
   "metadata": {
    "execution": {
     "iopub.execute_input": "2025-02-05T01:00:28.982999Z",
     "iopub.status.busy": "2025-02-05T01:00:28.982680Z",
     "iopub.status.idle": "2025-02-05T01:00:28.985853Z",
     "shell.execute_reply": "2025-02-05T01:00:28.985470Z"
    },
    "papermill": {
     "duration": 0.009731,
     "end_time": "2025-02-05T01:00:28.986487",
     "exception": false,
     "start_time": "2025-02-05T01:00:28.976756",
     "status": "completed"
    },
    "tags": []
   },
   "outputs": [
    {
     "data": {
      "text/plain": [
       "Dataset({\n",
       "    features: ['title', 'abstract', 'index'],\n",
       "    num_rows: 94073\n",
       "})"
      ]
     },
     "execution_count": 12,
     "metadata": {},
     "output_type": "execute_result"
    }
   ],
   "source": [
    "dataset_train"
   ]
  },
  {
   "cell_type": "code",
   "execution_count": 13,
   "id": "69efe8a2",
   "metadata": {
    "execution": {
     "iopub.execute_input": "2025-02-05T01:00:28.998060Z",
     "iopub.status.busy": "2025-02-05T01:00:28.997779Z",
     "iopub.status.idle": "2025-02-05T01:00:29.001165Z",
     "shell.execute_reply": "2025-02-05T01:00:29.000802Z"
    },
    "papermill": {
     "duration": 0.009777,
     "end_time": "2025-02-05T01:00:29.001780",
     "exception": false,
     "start_time": "2025-02-05T01:00:28.992003",
     "status": "completed"
    },
    "tags": []
   },
   "outputs": [
    {
     "data": {
      "text/plain": [
       "{'title': 'Fuzzy c-Shape: A new algorithm for clustering finite time series\\n  waveforms',\n",
       " 'abstract': '  The existence of large volumes of time series data in many applications has\\nmotivated data miners to investigate specialized methods for mining time series\\ndata. Clustering is a popular data mining method due to its powerful\\nexploratory nature and its usefulness as a preprocessing step for other data\\nmining techniques. This article develops two novel clustering algorithms for\\ntime series data that are extensions of a crisp c-shapes algorithm. The two new\\nalgorithms are heuristic derivatives of fuzzy c-means (FCM). Fuzzy c-Shapes\\nplus (FCS+) replaces the inner product norm in the FCM model with a shape-based\\ndistance function. Fuzzy c-Shapes double plus (FCS++) uses the shape-based\\ndistance, and also replaces the FCM cluster centers with shape-extracted\\nprototypes. Numerical experiments on 48 real time series data sets show that\\nthe two new algorithms outperform state-of-the-art shape-based clustering\\nalgorithms in terms of accuracy and efficiency. Four external cluster validity\\nindices (the Rand index, Adjusted Rand Index, Variation of Information, and\\nNormalized Mutual Information) are used to match candidate partitions generated\\nby each of the studied algorithms. All four indices agree that for these finite\\nwaveform data sets, FCS++ gives a small improvement over FCS+, and in turn,\\nFCS+ is better than the original crisp c-shapes method. Finally, we apply two\\ntests of statistical significance to the three algorithms. The Wilcoxon and\\nFriedman statistics both rank the three algorithms in exactly the same way as\\nthe four cluster validity indices.\\n',\n",
       " 'index': 4}"
      ]
     },
     "execution_count": 13,
     "metadata": {},
     "output_type": "execute_result"
    }
   ],
   "source": [
    "dataset_train[4]"
   ]
  },
  {
   "cell_type": "code",
   "execution_count": 14,
   "id": "63f1c92e",
   "metadata": {
    "execution": {
     "iopub.execute_input": "2025-02-05T01:00:29.013679Z",
     "iopub.status.busy": "2025-02-05T01:00:29.013252Z",
     "iopub.status.idle": "2025-02-05T01:00:29.016476Z",
     "shell.execute_reply": "2025-02-05T01:00:29.016115Z"
    },
    "papermill": {
     "duration": 0.009697,
     "end_time": "2025-02-05T01:00:29.017077",
     "exception": false,
     "start_time": "2025-02-05T01:00:29.007380",
     "status": "completed"
    },
    "tags": []
   },
   "outputs": [
    {
     "data": {
      "text/plain": [
       "{'title': 'Controllable and Diverse Text Generation in E-commerce',\n",
       " 'abstract': '  In E-commerce, a key challenge in text generation is to find a good trade-off\\nbetween word diversity and accuracy (relevance) in order to make generated text\\nappear more natural and human-like. In order to improve the relevance of\\ngenerated results, conditional text generators were developed that use input\\nkeywords or attributes to produce the corresponding text. Prior work, however,\\ndo not finely control the diversity of automatically generated sentences. For\\nexample, it does not control the order of keywords to put more relevant ones\\nfirst. Moreover, it does not explicitly control the balance between diversity\\nand accuracy. To remedy these problems, we propose a fine-grained controllable\\ngenerative model, called~\\\\textit{Apex}, that uses an algorithm borrowed from\\nautomatic control (namely, a variant of the \\\\textit{proportional, integral, and\\nderivative (PID) controller}) to precisely manipulate the diversity/accuracy\\ntrade-off of generated text. The algorithm is injected into a Conditional\\nVariational Autoencoder (CVAE), allowing \\\\textit{Apex} to control both (i) the\\norder of keywords in the generated sentences (conditioned on the input keywords\\nand their order), and (ii) the trade-off between diversity and accuracy.\\nEvaluation results on real-world datasets show that the proposed method\\noutperforms existing generative models in terms of diversity and relevance.\\nApex is currently deployed to generate production descriptions and item\\nrecommendation reasons in Taobao owned by Alibaba, the largest E-commerce\\nplatform in China. The A/B production test results show that our method\\nimproves click-through rate (CTR) by 13.17\\\\% compared to the existing method\\nfor production descriptions. For item recommendation reason, it is able to\\nincrease CTR by 6.89\\\\% and 1.42\\\\% compared to user reviews and top-K item\\nrecommendation without reviews, respectively.\\n',\n",
       " 'index': 20572}"
      ]
     },
     "execution_count": 14,
     "metadata": {},
     "output_type": "execute_result"
    }
   ],
   "source": [
    "dataset_train[20572]"
   ]
  },
  {
   "cell_type": "code",
   "execution_count": 15,
   "id": "e9993947",
   "metadata": {
    "execution": {
     "iopub.execute_input": "2025-02-05T01:00:29.029130Z",
     "iopub.status.busy": "2025-02-05T01:00:29.028709Z",
     "iopub.status.idle": "2025-02-05T01:00:29.077003Z",
     "shell.execute_reply": "2025-02-05T01:00:29.076612Z"
    },
    "papermill": {
     "duration": 0.054974,
     "end_time": "2025-02-05T01:00:29.077675",
     "exception": false,
     "start_time": "2025-02-05T01:00:29.022701",
     "status": "completed"
    },
    "tags": []
   },
   "outputs": [],
   "source": [
    "import numpy as np\n",
    "all_indexes = np.array(dataset_train['index'])"
   ]
  },
  {
   "cell_type": "code",
   "execution_count": null,
   "id": "3c956f8e",
   "metadata": {
    "execution": {
     "iopub.execute_input": "2025-02-05T01:00:29.089681Z",
     "iopub.status.busy": "2025-02-05T01:00:29.089367Z",
     "iopub.status.idle": "2025-02-05T01:00:29.092669Z",
     "shell.execute_reply": "2025-02-05T01:00:29.092282Z"
    },
    "papermill": {
     "duration": 0.009919,
     "end_time": "2025-02-05T01:00:29.093315",
     "exception": false,
     "start_time": "2025-02-05T01:00:29.083396",
     "status": "completed"
    },
    "tags": []
   },
   "outputs": [],
   "source": [
    "import random\n",
    "\n",
    "def generate_hard_negatives(example, num_negatives=10,dataset=dataset_train):\n",
    "    query_index = example['index']\n",
    "    anchor = example['title']\n",
    "    positive = example['abstract']\n",
    "    \n",
    "    negatives = []\n",
    "    \n",
    "    negative_indexes = np.delete(all_indexes, np.where(all_indexes == query_index)) \n",
    "    \n",
    "    sampled_negatives = random.sample(list(negative_indexes), num_negatives)\n",
    "    \n",
    "    for idx in sampled_negatives:\n",
    "        negatives.append(dataset[int(idx)]['abstract'])\n",
    "    \n",
    "    return {\n",
    "        \"query\": anchor,\n",
    "        \"positive\": positive,\n",
    "        \"negatives\": negatives\n",
    "    }"
   ]
  },
  {
   "cell_type": "code",
   "execution_count": 17,
   "id": "6ab12866",
   "metadata": {
    "execution": {
     "iopub.execute_input": "2025-02-05T01:00:29.105377Z",
     "iopub.status.busy": "2025-02-05T01:00:29.105021Z",
     "iopub.status.idle": "2025-02-05T01:07:40.404469Z",
     "shell.execute_reply": "2025-02-05T01:07:40.403928Z"
    },
    "papermill": {
     "duration": 431.306621,
     "end_time": "2025-02-05T01:07:40.405633",
     "exception": false,
     "start_time": "2025-02-05T01:00:29.099012",
     "status": "completed"
    },
    "tags": []
   },
   "outputs": [
    {
     "data": {
      "application/vnd.jupyter.widget-view+json": {
       "model_id": "9f825d1c5ddc473dbbd3d185104619e0",
       "version_major": 2,
       "version_minor": 0
      },
      "text/plain": [
       "Map:   0%|          | 0/94073 [00:00<?, ? examples/s]"
      ]
     },
     "metadata": {},
     "output_type": "display_data"
    }
   ],
   "source": [
    "processed_data_train = dataset_train.map(generate_hard_negatives, remove_columns=dataset_train.column_names)"
   ]
  },
  {
   "cell_type": "code",
   "execution_count": 18,
   "id": "861c271d",
   "metadata": {
    "execution": {
     "iopub.execute_input": "2025-02-05T01:07:40.422569Z",
     "iopub.status.busy": "2025-02-05T01:07:40.422099Z",
     "iopub.status.idle": "2025-02-05T01:07:40.426271Z",
     "shell.execute_reply": "2025-02-05T01:07:40.425787Z"
    },
    "papermill": {
     "duration": 0.011475,
     "end_time": "2025-02-05T01:07:40.426998",
     "exception": false,
     "start_time": "2025-02-05T01:07:40.415523",
     "status": "completed"
    },
    "tags": []
   },
   "outputs": [
    {
     "data": {
      "text/plain": [
       "Dataset({\n",
       "    features: ['query', 'positive', 'negatives'],\n",
       "    num_rows: 94073\n",
       "})"
      ]
     },
     "execution_count": 18,
     "metadata": {},
     "output_type": "execute_result"
    }
   ],
   "source": [
    "processed_data_train"
   ]
  },
  {
   "cell_type": "code",
   "execution_count": 19,
   "id": "96368bc5",
   "metadata": {
    "execution": {
     "iopub.execute_input": "2025-02-05T01:07:40.439727Z",
     "iopub.status.busy": "2025-02-05T01:07:40.439340Z",
     "iopub.status.idle": "2025-02-05T01:07:40.507797Z",
     "shell.execute_reply": "2025-02-05T01:07:40.507398Z"
    },
    "papermill": {
     "duration": 0.075589,
     "end_time": "2025-02-05T01:07:40.508533",
     "exception": false,
     "start_time": "2025-02-05T01:07:40.432944",
     "status": "completed"
    },
    "tags": []
   },
   "outputs": [
    {
     "data": {
      "text/plain": [
       "{'query': 'Translating Visual Art into Music',\n",
       " 'positive': '  The Synesthetic Variational Autoencoder (SynVAE) introduced in this research\\nis able to learn a consistent mapping between visual and auditive sensory\\nmodalities in the absence of paired datasets. A quantitative evaluation on\\nMNIST as well as the Behance Artistic Media dataset (BAM) shows that SynVAE is\\ncapable of retaining sufficient information content during the translation\\nwhile maintaining cross-modal latent space consistency. In a qualitative\\nevaluation trial, human evaluators were furthermore able to match musical\\nsamples with the images which generated them with accuracies of up to 73%.\\n',\n",
       " 'negatives': ['  Real-world applications require RL algorithms to act safely. During learning\\nprocess, it is likely that the agent executes sub-optimal actions that may lead\\nto unsafe/poor states of the system. Exploration is particularly brittle in\\nhigh-dimensional state/action space due to increased number of low-performing\\nactions. In this work, we consider risk-averse exploration in approximate RL\\nsetting. To ensure safety during learning, we propose the distributionally\\nrobust policy iteration scheme that provides lower bound guarantee on\\nstate-values. Our approach induces a dynamic level of risk to prevent poor\\ndecisions and yet preserves the convergence to the optimal policy. Our\\nformulation results in a efficient algorithm that accounts for a simple\\nre-weighting of policy actions in the standard policy iteration scheme. We\\nextend our approach to continuous state/action space and present a practical\\nalgorithm, distributionally robust soft actor-critic, that implements a\\ndifferent exploration strategy: it acts conservatively at short-term and it\\nexplores optimistically in a long-run. We provide promising experimental\\nresults on continuous control tasks.\\n',\n",
       "  '  As an essential task for the architecture, engineering, and construction\\n(AEC) industry, information retrieval (IR) from unstructured textual data based\\non natural language processing (NLP) is gaining increasing attention. Although\\nvarious deep learning (DL) models for IR tasks have been investigated in the\\nAEC domain, it is still unclear how domain corpora and domain-specific\\npretrained DL models can improve performance in various IR tasks. To this end,\\nthis work systematically explores the impacts of domain corpora and various\\ntransfer learning techniques on the performance of DL models for IR tasks and\\nproposes a pretrained domain-specific language model for the AEC domain. First,\\nboth in-domain and close-domain corpora are developed. Then, two types of\\npretrained models, including traditional wording embedding models and\\nBERT-based models, are pretrained based on various domain corpora and transfer\\nlearning strategies. Finally, several widely used DL models for IR tasks are\\nfurther trained and tested based on various configurations and pretrained\\nmodels. The result shows that domain corpora have opposite effects on\\ntraditional word embedding models for text classification and named entity\\nrecognition tasks but can further improve the performance of BERT-based models\\nin all tasks. Meanwhile, BERT-based models dramatically outperform traditional\\nmethods in all IR tasks, with maximum improvements of 5.4% and 10.1% in the F1\\nscore, respectively. This research contributes to the body of knowledge in two\\nways: 1) demonstrating the advantages of domain corpora and pretrained DL\\nmodels and 2) opening the first domain-specific dataset and pretrained language\\nmodel for the AEC domain, to the best of our knowledge. Thus, this work sheds\\nlight on the adoption and application of pretrained models in the AEC domain.\\n',\n",
       "  '  In business domains, \\\\textit{bundling} is one of the most important marketing\\nstrategies to conduct product promotions, which is commonly used in online\\ne-commerce and offline retailers. Existing recommender systems mostly focus on\\nrecommending individual items that users may be interested in. In this paper,\\nwe target at a practical but less explored recommendation problem named bundle\\nrecommendation, which aims to offer a combination of items to users. To tackle\\nthis specific recommendation problem in the context of the \\\\emph{virtual mall}\\nin online games, we formalize it as a link prediction problem on a\\nuser-item-bundle tripartite graph constructed from the historical interactions,\\nand solve it with a neural network model that can learn directly on the\\ngraph-structure data. Extensive experiments on three public datasets and one\\nindustrial game dataset demonstrate the effectiveness of the proposed method.\\nFurther, the bundle recommendation model has been deployed in production for\\nmore than one year in a popular online game developed by Netease Games, and the\\nlaunch of the model yields more than 60\\\\% improvement on conversion rate of\\nbundles, and a relative improvement of more than 15\\\\% on gross merchandise\\nvolume (GMV).\\n',\n",
       "  '  As object detectors rapidly improve, attention has expanded past image-only\\nnetworks to include a range of 3D and multimodal frameworks, especially ones\\nthat incorporate LiDAR. However, due to cost, logistics, and even some safety\\nconsiderations, stereo can be an appealing alternative. Towards understanding\\nthe efficacy of stereo as a replacement for monocular input or LiDAR in object\\ndetectors, we show that multimodal learning with traditional disparity\\nalgorithms can improve image-based results without increasing the number of\\nparameters, and that learning over stereo error can impart similar 3D\\nlocalization power to LiDAR in certain contexts. Furthermore, doing so also has\\ncalibration benefits with respect to image-only methods. We benchmark on the\\npublic dataset KITTI, and in doing so, reveal a few small but common\\nalgorithmic mistakes currently used in computing metrics on that set, and offer\\nefficient, provably correct alternatives.\\n',\n",
       "  '  We propose a novel framework for cross-modal zero-shot learning (ZSL) in the\\ncontext of sketch-based image retrieval (SBIR). Conventionally, the SBIR schema\\nmainly considers simultaneous mappings among the two image views and the\\nsemantic side information. Therefore, it is desirable to consider fine-grained\\nclasses mainly in the sketch domain using highly discriminative and\\nsemantically rich feature space. However, the existing deep generative\\nmodeling-based SBIR approaches majorly focus on bridging the gaps between the\\nseen and unseen classes by generating pseudo-unseen-class samples. Besides,\\nviolating the ZSL protocol by not utilizing any unseen-class information during\\ntraining, such techniques do not pay explicit attention to modeling the\\ndiscriminative nature of the shared space. Also, we note that learning a\\nunified feature space for both the multi-view visual data is a tedious task\\nconsidering the significant domain difference between sketches and color\\nimages. In this respect, as a remedy, we introduce a novel framework for\\nzero-shot SBIR. While we define a cross-modal triplet loss to ensure the\\ndiscriminative nature of the shared space, an innovative cross-modal attention\\nlearning strategy is also proposed to guide feature extraction from the image\\ndomain exploiting information from the respective sketch counterpart. In order\\nto preserve the semantic consistency of the shared space, we consider a graph\\nCNN-based module that propagates the semantic class topology to the shared\\nspace. To ensure an improved response time during inference, we further explore\\nthe possibility of representing the shared space in terms of hash codes.\\nExperimental results obtained on the benchmark TU-Berlin and the Sketchy\\ndatasets confirm the superiority of CrossATNet in yielding state-of-the-art\\nresults.\\n',\n",
       "  '  Characterizing human values is a topic deeply interwoven with the sciences,\\nhumanities, art, and many other human endeavors. In recent years, a number of\\nthinkers have argued that accelerating trends in computer science, cognitive\\nscience, and related disciplines foreshadow the creation of intelligent\\nmachines which meet and ultimately surpass the cognitive abilities of human\\nbeings, thereby entangling an understanding of human values with future\\ntechnological development. Contemporary research accomplishments suggest\\nsophisticated AI systems becoming widespread and responsible for managing many\\naspects of the modern world, from preemptively planning users\\' travel schedules\\nand logistics, to fully autonomous vehicles, to domestic robots assisting in\\ndaily living. The extrapolation of these trends has been most forcefully\\ndescribed in the context of a hypothetical \"intelligence explosion,\" in which\\nthe capabilities of an intelligent software agent would rapidly increase due to\\nthe presence of feedback loops unavailable to biological organisms. The\\npossibility of superintelligent agents, or simply the widespread deployment of\\nsophisticated, autonomous AI systems, highlights an important theoretical\\nproblem: the need to separate the cognitive and rational capacities of an agent\\nfrom the fundamental goal structure, or value system, which constrains and\\nguides the agent\\'s actions. The \"value alignment problem\" is to specify a goal\\nstructure for autonomous agents compatible with human values. In this brief\\narticle, we suggest that recent ideas from affective neuroscience and related\\ndisciplines aimed at characterizing neurological and behavioral universals in\\nthe mammalian class provide important conceptual foundations relevant to\\ndescribing human values. We argue that the notion of \"mammalian value systems\"\\npoints to a potential avenue for fundamental research in AI safety and AI\\nethics.\\n',\n",
       "  '  Development of hybrid electric vehicles depends on an advanced and efficient\\nenergy management strategy (EMS). With online and real-time requirements in\\nmind, this article presents a human-like energy management framework for hybrid\\nelectric vehicles according to deep reinforcement learning methods and\\ncollected historical driving data. The hybrid powertrain studied has a\\nseries-parallel topology, and its control-oriented modeling is founded first.\\nThen, the distinctive deep reinforcement learning (DRL) algorithm, named deep\\ndeterministic policy gradient (DDPG), is introduced. To enhance the derived\\npower split controls in the DRL framework, the global optimal control\\ntrajectories obtained from dynamic programming (DP) are regarded as expert\\nknowledge to train the DDPG model. This operation guarantees the optimality of\\nthe proposed control architecture. Moreover, the collected historical driving\\ndata based on experienced drivers are employed to replace the DP-based\\ncontrols, and thus construct the human-like EMSs. Finally, different categories\\nof experiments are executed to estimate the optimality and adaptability of the\\nproposed human-like EMS. Improvements in fuel economy and convergence rate\\nindicate the effectiveness of the constructed control structure.\\n',\n",
       "  '  Herein, a bit-wise Convolutional Neural Network (CNN) in-memory accelerator\\nis implemented using Spin-Orbit Torque Magnetic Random Access Memory (SOT-MRAM)\\ncomputational sub-arrays. It utilizes a novel AND-Accumulation method capable\\nof significantly-reduced energy consumption within convolutional layers and\\nperforms various low bit-width CNN inference operations entirely within MRAM.\\nPower-intermittence resiliency is also enhanced by retaining the partial state\\ninformation needed to maintain computational forward-progress, which is\\nadvantageous for battery-less IoT nodes. Simulation results indicate\\n$\\\\sim$5.4$\\\\times$ higher energy-efficiency and 9$\\\\times$ speedup over\\nReRAM-based acceleration, or roughly $\\\\sim$9.7$\\\\times$ higher energy-efficiency\\nand 13.5$\\\\times$ speedup over recent CMOS-only approaches, while maintaining\\ninference accuracy comparable to baseline designs.\\n',\n",
       "  '  Although many convex relaxations of clustering have been proposed in the past\\ndecade, current formulations remain restricted to spherical Gaussian or\\ndiscriminative models and are susceptible to imbalanced clusters. To address\\nthese shortcomings, we propose a new class of convex relaxations that can be\\nflexibly applied to more general forms of Bregman divergence clustering. By\\nbasing these new formulations on normalized equivalence relations we retain\\nadditional control on relaxation quality, which allows improvement in\\nclustering quality. We furthermore develop optimization methods that improve\\nscalability by exploiting recent implicit matrix norm methods. In practice, we\\nfind that the new formulations are able to efficiently produce tighter\\nclusterings that improve the accuracy of state of the art methods.\\n',\n",
       "  '  Text categorization is the task of assigning labels to documents written in a\\nnatural language, and it has numerous real-world applications including\\nsentiment analysis as well as traditional topic assignment tasks. In this\\npaper, we propose 5 different configurations for the semantic matrix-based\\nmemory neural network with end-to-end learning manner and evaluate our proposed\\nmethod on two corpora of news articles (AG news, Sogou news). The best\\nperformance of our proposed method outperforms the baseline VDCNN models on the\\ntext classification task and gives a faster speed for learning semantics.\\nMoreover, we also evaluate our model on small scale datasets. The results show\\nthat our proposed method can still achieve better results in comparison to\\nVDCNN on the small scale dataset. This paper is to appear in the Proceedings of\\nthe 2020 IEEE 14th International Conference on Semantic Computing (ICSC 2020),\\nSan Diego, California, 2020.\\n']}"
      ]
     },
     "execution_count": 19,
     "metadata": {},
     "output_type": "execute_result"
    }
   ],
   "source": [
    "processed_data_train[0]"
   ]
  },
  {
   "cell_type": "code",
   "execution_count": 20,
   "id": "6188e153",
   "metadata": {
    "execution": {
     "iopub.execute_input": "2025-02-05T01:07:40.521640Z",
     "iopub.status.busy": "2025-02-05T01:07:40.521244Z",
     "iopub.status.idle": "2025-02-05T01:07:48.262016Z",
     "shell.execute_reply": "2025-02-05T01:07:48.261527Z"
    },
    "papermill": {
     "duration": 7.748263,
     "end_time": "2025-02-05T01:07:48.263094",
     "exception": false,
     "start_time": "2025-02-05T01:07:40.514831",
     "status": "completed"
    },
    "tags": []
   },
   "outputs": [],
   "source": [
    "contrastive_pairs_train = []\n",
    "for item in processed_data_train:\n",
    "    query = item[\"query\"]\n",
    "    positive = item[\"positive\"]\n",
    "    negatives = item[\"negatives\"]\n",
    "    contrastive_pairs_train.append({\n",
    "        \"anchor\": query,\n",
    "        \"positive\": positive,\n",
    "        \"negatives\": negatives\n",
    "    })"
   ]
  },
  {
   "cell_type": "code",
   "execution_count": 21,
   "id": "669c6a2e",
   "metadata": {
    "execution": {
     "iopub.execute_input": "2025-02-05T01:07:48.279122Z",
     "iopub.status.busy": "2025-02-05T01:07:48.278668Z",
     "iopub.status.idle": "2025-02-05T01:07:48.282045Z",
     "shell.execute_reply": "2025-02-05T01:07:48.281642Z"
    },
    "papermill": {
     "duration": 0.010694,
     "end_time": "2025-02-05T01:07:48.282780",
     "exception": false,
     "start_time": "2025-02-05T01:07:48.272086",
     "status": "completed"
    },
    "tags": []
   },
   "outputs": [
    {
     "data": {
      "text/plain": [
       "94073"
      ]
     },
     "execution_count": 21,
     "metadata": {},
     "output_type": "execute_result"
    }
   ],
   "source": [
    "len(contrastive_pairs_train)"
   ]
  },
  {
   "cell_type": "code",
   "execution_count": 22,
   "id": "670559eb",
   "metadata": {
    "execution": {
     "iopub.execute_input": "2025-02-05T01:07:48.296080Z",
     "iopub.status.busy": "2025-02-05T01:07:48.295778Z",
     "iopub.status.idle": "2025-02-05T01:08:01.463660Z",
     "shell.execute_reply": "2025-02-05T01:08:01.462996Z"
    },
    "papermill": {
     "duration": 13.175863,
     "end_time": "2025-02-05T01:08:01.464928",
     "exception": false,
     "start_time": "2025-02-05T01:07:48.289065",
     "status": "completed"
    },
    "tags": []
   },
   "outputs": [],
   "source": [
    "from torch.utils.data import DataLoader"
   ]
  },
  {
   "cell_type": "code",
   "execution_count": 23,
   "id": "927b2173",
   "metadata": {
    "execution": {
     "iopub.execute_input": "2025-02-05T01:08:01.480858Z",
     "iopub.status.busy": "2025-02-05T01:08:01.480369Z",
     "iopub.status.idle": "2025-02-05T01:08:01.484247Z",
     "shell.execute_reply": "2025-02-05T01:08:01.483743Z"
    },
    "papermill": {
     "duration": 0.011477,
     "end_time": "2025-02-05T01:08:01.484998",
     "exception": false,
     "start_time": "2025-02-05T01:08:01.473521",
     "status": "completed"
    },
    "tags": []
   },
   "outputs": [],
   "source": [
    "class ContrastiveDataset:\n",
    "    def __init__(self, pairs):\n",
    "        self.pairs = pairs\n",
    "\n",
    "    def __len__(self):\n",
    "        return len(self.pairs)\n",
    "\n",
    "    def __getitem__(self, idx):\n",
    "        item = self.pairs[idx]\n",
    "        return item[\"anchor\"], item[\"positive\"], item[\"negatives\"]"
   ]
  },
  {
   "cell_type": "code",
   "execution_count": 24,
   "id": "6918b6f3",
   "metadata": {
    "execution": {
     "iopub.execute_input": "2025-02-05T01:08:01.498382Z",
     "iopub.status.busy": "2025-02-05T01:08:01.498003Z",
     "iopub.status.idle": "2025-02-05T01:08:01.500613Z",
     "shell.execute_reply": "2025-02-05T01:08:01.500210Z"
    },
    "papermill": {
     "duration": 0.009949,
     "end_time": "2025-02-05T01:08:01.501235",
     "exception": false,
     "start_time": "2025-02-05T01:08:01.491286",
     "status": "completed"
    },
    "tags": []
   },
   "outputs": [],
   "source": [
    "contrastive_dataset_train = ContrastiveDataset(contrastive_pairs_train)"
   ]
  },
  {
   "cell_type": "code",
   "execution_count": 25,
   "id": "362b05af",
   "metadata": {
    "execution": {
     "iopub.execute_input": "2025-02-05T01:08:01.514607Z",
     "iopub.status.busy": "2025-02-05T01:08:01.514220Z",
     "iopub.status.idle": "2025-02-05T01:08:01.517235Z",
     "shell.execute_reply": "2025-02-05T01:08:01.516833Z"
    },
    "papermill": {
     "duration": 0.010427,
     "end_time": "2025-02-05T01:08:01.517991",
     "exception": false,
     "start_time": "2025-02-05T01:08:01.507564",
     "status": "completed"
    },
    "tags": []
   },
   "outputs": [],
   "source": [
    "data_loader_train = DataLoader(contrastive_dataset_train, batch_size=8, shuffle=True)"
   ]
  },
  {
   "cell_type": "code",
   "execution_count": 26,
   "id": "9e89b105",
   "metadata": {
    "execution": {
     "iopub.execute_input": "2025-02-05T01:08:01.565961Z",
     "iopub.status.busy": "2025-02-05T01:08:01.565511Z",
     "iopub.status.idle": "2025-02-05T01:08:01.569209Z",
     "shell.execute_reply": "2025-02-05T01:08:01.568798Z"
    },
    "papermill": {
     "duration": 0.011374,
     "end_time": "2025-02-05T01:08:01.569924",
     "exception": false,
     "start_time": "2025-02-05T01:08:01.558550",
     "status": "completed"
    },
    "tags": []
   },
   "outputs": [
    {
     "data": {
      "text/plain": [
       "11760"
      ]
     },
     "execution_count": 26,
     "metadata": {},
     "output_type": "execute_result"
    }
   ],
   "source": [
    "len(data_loader_train)"
   ]
  },
  {
   "cell_type": "code",
   "execution_count": 27,
   "id": "ec267846",
   "metadata": {
    "execution": {
     "iopub.execute_input": "2025-02-05T01:08:01.583663Z",
     "iopub.status.busy": "2025-02-05T01:08:01.583261Z",
     "iopub.status.idle": "2025-02-05T01:08:15.710505Z",
     "shell.execute_reply": "2025-02-05T01:08:15.709858Z"
    },
    "papermill": {
     "duration": 14.135244,
     "end_time": "2025-02-05T01:08:15.711666",
     "exception": false,
     "start_time": "2025-02-05T01:08:01.576422",
     "status": "completed"
    },
    "tags": []
   },
   "outputs": [],
   "source": [
    "from transformers import AutoTokenizer, AutoModel\n",
    "tokenizer = AutoTokenizer.from_pretrained(\"bert-base-uncased\")"
   ]
  },
  {
   "cell_type": "code",
   "execution_count": 28,
   "id": "cdfef80f",
   "metadata": {
    "execution": {
     "iopub.execute_input": "2025-02-05T01:08:15.728883Z",
     "iopub.status.busy": "2025-02-05T01:08:15.728225Z",
     "iopub.status.idle": "2025-02-05T01:08:21.141973Z",
     "shell.execute_reply": "2025-02-05T01:08:21.141507Z"
    },
    "papermill": {
     "duration": 5.422584,
     "end_time": "2025-02-05T01:08:21.142993",
     "exception": false,
     "start_time": "2025-02-05T01:08:15.720409",
     "status": "completed"
    },
    "tags": []
   },
   "outputs": [],
   "source": [
    "model = AutoModel.from_pretrained(\"bert-base-uncased\")"
   ]
  },
  {
   "cell_type": "code",
   "execution_count": 29,
   "id": "9191c4f0",
   "metadata": {
    "execution": {
     "iopub.execute_input": "2025-02-05T01:08:21.159664Z",
     "iopub.status.busy": "2025-02-05T01:08:21.159310Z",
     "iopub.status.idle": "2025-02-05T01:08:21.995436Z",
     "shell.execute_reply": "2025-02-05T01:08:21.994974Z"
    },
    "papermill": {
     "duration": 0.843948,
     "end_time": "2025-02-05T01:08:21.996352",
     "exception": false,
     "start_time": "2025-02-05T01:08:21.152404",
     "status": "completed"
    },
    "tags": []
   },
   "outputs": [],
   "source": [
    "from peft import LoraConfig, get_peft_model"
   ]
  },
  {
   "cell_type": "code",
   "execution_count": 30,
   "id": "c5386cc4",
   "metadata": {
    "execution": {
     "iopub.execute_input": "2025-02-05T01:08:22.012240Z",
     "iopub.status.busy": "2025-02-05T01:08:22.011801Z",
     "iopub.status.idle": "2025-02-05T01:08:22.014491Z",
     "shell.execute_reply": "2025-02-05T01:08:22.014043Z"
    },
    "papermill": {
     "duration": 0.010275,
     "end_time": "2025-02-05T01:08:22.015195",
     "exception": false,
     "start_time": "2025-02-05T01:08:22.004920",
     "status": "completed"
    },
    "tags": []
   },
   "outputs": [],
   "source": [
    "lora_config = LoraConfig(\n",
    "    task_type= \"FEATURE_EXTRACTION\"\n",
    ")"
   ]
  },
  {
   "cell_type": "code",
   "execution_count": 31,
   "id": "1411c521",
   "metadata": {
    "execution": {
     "iopub.execute_input": "2025-02-05T01:08:22.028691Z",
     "iopub.status.busy": "2025-02-05T01:08:22.028477Z",
     "iopub.status.idle": "2025-02-05T01:08:22.086850Z",
     "shell.execute_reply": "2025-02-05T01:08:22.086438Z"
    },
    "papermill": {
     "duration": 0.065936,
     "end_time": "2025-02-05T01:08:22.087653",
     "exception": false,
     "start_time": "2025-02-05T01:08:22.021717",
     "status": "completed"
    },
    "tags": []
   },
   "outputs": [],
   "source": [
    "lora_model = get_peft_model(model, lora_config)"
   ]
  },
  {
   "cell_type": "code",
   "execution_count": 32,
   "id": "5b81fc5d",
   "metadata": {
    "execution": {
     "iopub.execute_input": "2025-02-05T01:08:22.101740Z",
     "iopub.status.busy": "2025-02-05T01:08:22.101318Z",
     "iopub.status.idle": "2025-02-05T01:08:22.104500Z",
     "shell.execute_reply": "2025-02-05T01:08:22.104070Z"
    },
    "papermill": {
     "duration": 0.010885,
     "end_time": "2025-02-05T01:08:22.105291",
     "exception": false,
     "start_time": "2025-02-05T01:08:22.094406",
     "status": "completed"
    },
    "tags": []
   },
   "outputs": [],
   "source": [
    "def lorentzian_distance(x, y):\n",
    "    \n",
    "    dot_product = torch.sum(x * y, dim=-1)\n",
    "    norm_x = torch.norm(x, dim=-1)\n",
    "    norm_y = torch.norm(y, dim=-1)\n",
    "    \n",
    "    distance = torch.acosh(-dot_product + torch.sqrt((1 + norm_x**2) * (1 + norm_y**2)))\n",
    "    return distance"
   ]
  },
  {
   "cell_type": "code",
   "execution_count": 33,
   "id": "36a6dc08",
   "metadata": {
    "execution": {
     "iopub.execute_input": "2025-02-05T01:08:22.119058Z",
     "iopub.status.busy": "2025-02-05T01:08:22.118671Z",
     "iopub.status.idle": "2025-02-05T01:08:22.122013Z",
     "shell.execute_reply": "2025-02-05T01:08:22.121571Z"
    },
    "papermill": {
     "duration": 0.010903,
     "end_time": "2025-02-05T01:08:22.122745",
     "exception": false,
     "start_time": "2025-02-05T01:08:22.111842",
     "status": "completed"
    },
    "tags": []
   },
   "outputs": [],
   "source": [
    "def info_nce_loss(anchor_embedding, positive_embedding, negative_embedding, distance_fn):\n",
    "\n",
    "    pos_dist = distance_fn(anchor_embedding, positive_embedding)\n",
    "    neg_dist = torch.stack([distance_fn(anchor_embedding, neg) for neg in negative_embedding], dim=-1)\n",
    "    \n",
    "    logits = torch.cat([-pos_dist.unsqueeze(1), -neg_dist], dim=1)\n",
    "    labels = torch.zeros(logits.size(0), dtype=torch.long, device=logits.device)\n",
    "\n",
    "    loss = torch.nn.CrossEntropyLoss()(logits, labels)\n",
    "    return loss"
   ]
  },
  {
   "cell_type": "code",
   "execution_count": 34,
   "id": "c419bc47-fe08-462f-abef-a34454cfaa8e",
   "metadata": {
    "execution": {
     "iopub.execute_input": "2025-02-05T01:08:22.136692Z",
     "iopub.status.busy": "2025-02-05T01:08:22.136292Z",
     "iopub.status.idle": "2025-02-05T01:08:22.139675Z",
     "shell.execute_reply": "2025-02-05T01:08:22.139235Z"
    },
    "papermill": {
     "duration": 0.011132,
     "end_time": "2025-02-05T01:08:22.140411",
     "exception": false,
     "start_time": "2025-02-05T01:08:22.129279",
     "status": "completed"
    },
    "tags": []
   },
   "outputs": [],
   "source": [
    "def exterior_angle(x_space, y_space, c):\n",
    "    norm_x_space = torch.norm(x_space, p=2, dim=-1)\n",
    "    norm_y_space = torch.norm(y_space, p=2, dim=-1)\n",
    "    x_time = torch.sqrt(1/c + norm_x_space**2)\n",
    "    y_time = torch.sqrt(1/c + norm_y_space**2)\n",
    "    dot_product = torch.sum(x_space * y_space, dim=-1)\n",
    "    lorentz_inner_product =  dot_product - x_time * y_time\n",
    "    numerator = y_time + x_time * c * lorentz_inner_product\n",
    "    denominator = norm_x_space * torch.sqrt((c * lorentz_inner_product)**2 - 1)\n",
    "    ext_angle = torch.acos(numerator / denominator)\n",
    "    return ext_angle"
   ]
  },
  {
   "cell_type": "code",
   "execution_count": 35,
   "id": "529d3c1b-d03f-4bb1-be1d-36d2dfaa337f",
   "metadata": {
    "execution": {
     "iopub.execute_input": "2025-02-05T01:08:22.154749Z",
     "iopub.status.busy": "2025-02-05T01:08:22.154356Z",
     "iopub.status.idle": "2025-02-05T01:08:22.157557Z",
     "shell.execute_reply": "2025-02-05T01:08:22.157118Z"
    },
    "papermill": {
     "duration": 0.010935,
     "end_time": "2025-02-05T01:08:22.158246",
     "exception": false,
     "start_time": "2025-02-05T01:08:22.147311",
     "status": "completed"
    },
    "tags": []
   },
   "outputs": [],
   "source": [
    "def entailment_loss(x, y, c=1, K=0.1):\n",
    "    c = torch.tensor(c)\n",
    "    K = torch.tensor(K)\n",
    "    xspace = x\n",
    "    yspace = y\n",
    "    aperture = torch.asin(2 * K / (torch.sqrt(c) * torch.norm(xspace, p=2, dim=-1)))\n",
    "    \n",
    "    ext_angle = exterior_angle(xspace,yspace,c=c)\n",
    "    \n",
    "    loss = torch.max(torch.zeros_like(ext_angle), ext_angle - aperture)\n",
    "    return loss.mean()"
   ]
  },
  {
   "cell_type": "code",
   "execution_count": 36,
   "id": "5ee127f6-66dd-414a-b17f-6dc8e5e49dc0",
   "metadata": {
    "execution": {
     "iopub.execute_input": "2025-02-05T01:08:22.172016Z",
     "iopub.status.busy": "2025-02-05T01:08:22.171794Z",
     "iopub.status.idle": "2025-02-05T01:08:22.175095Z",
     "shell.execute_reply": "2025-02-05T01:08:22.174623Z"
    },
    "papermill": {
     "duration": 0.010933,
     "end_time": "2025-02-05T01:08:22.175752",
     "exception": false,
     "start_time": "2025-02-05T01:08:22.164819",
     "status": "completed"
    },
    "tags": []
   },
   "outputs": [],
   "source": [
    "def expm_o(v, c=1.0):\n",
    "    c = torch.tensor(c)\n",
    "    vspace = v\n",
    "    vnorm = torch.norm(v, p=2, dim=-1, keepdim=True)\n",
    "    xspace = torch.sinh(torch.sqrt(c) * vnorm) * vspace / (torch.sqrt(c) * vnorm)\n",
    "    batch_min = xspace.min(dim=1, keepdim=True).values\n",
    "    batch_max = xspace.max(dim=1, keepdim=True).values\n",
    "    xspace_scaled=(xspace - batch_min) / (batch_max - batch_min)\n",
    "    return xspace_scaled"
   ]
  },
  {
   "cell_type": "code",
   "execution_count": 37,
   "id": "185ff980",
   "metadata": {
    "execution": {
     "iopub.execute_input": "2025-02-05T01:08:22.189579Z",
     "iopub.status.busy": "2025-02-05T01:08:22.189303Z",
     "iopub.status.idle": "2025-02-05T01:08:22.192757Z",
     "shell.execute_reply": "2025-02-05T01:08:22.192364Z"
    },
    "papermill": {
     "duration": 0.011138,
     "end_time": "2025-02-05T01:08:22.193492",
     "exception": false,
     "start_time": "2025-02-05T01:08:22.182354",
     "status": "completed"
    },
    "tags": []
   },
   "outputs": [],
   "source": [
    "import torch\n",
    "import torch.optim as optim\n",
    "optimizer = torch.optim.AdamW(lora_model.parameters(), lr=5e-5)"
   ]
  },
  {
   "cell_type": "code",
   "execution_count": 38,
   "id": "d997d7dc",
   "metadata": {
    "execution": {
     "iopub.execute_input": "2025-02-05T01:08:22.207511Z",
     "iopub.status.busy": "2025-02-05T01:08:22.207105Z",
     "iopub.status.idle": "2025-02-05T01:08:22.209618Z",
     "shell.execute_reply": "2025-02-05T01:08:22.209161Z"
    },
    "papermill": {
     "duration": 0.010228,
     "end_time": "2025-02-05T01:08:22.210321",
     "exception": false,
     "start_time": "2025-02-05T01:08:22.200093",
     "status": "completed"
    },
    "tags": []
   },
   "outputs": [],
   "source": [
    "num_epochs=3"
   ]
  },
  {
   "cell_type": "code",
   "execution_count": 39,
   "id": "93312d1a",
   "metadata": {
    "execution": {
     "iopub.execute_input": "2025-02-05T01:08:22.224395Z",
     "iopub.status.busy": "2025-02-05T01:08:22.224046Z",
     "iopub.status.idle": "2025-02-05T01:08:22.656614Z",
     "shell.execute_reply": "2025-02-05T01:08:22.656158Z"
    },
    "papermill": {
     "duration": 0.440595,
     "end_time": "2025-02-05T01:08:22.657646",
     "exception": false,
     "start_time": "2025-02-05T01:08:22.217051",
     "status": "completed"
    },
    "tags": []
   },
   "outputs": [],
   "source": [
    "device = torch.device('cuda' if torch.cuda.is_available() else 'cpu')"
   ]
  },
  {
   "cell_type": "code",
   "execution_count": 40,
   "id": "be00cde7",
   "metadata": {
    "execution": {
     "iopub.execute_input": "2025-02-05T01:08:22.672568Z",
     "iopub.status.busy": "2025-02-05T01:08:22.672257Z",
     "iopub.status.idle": "2025-02-05T01:08:22.675568Z",
     "shell.execute_reply": "2025-02-05T01:08:22.675183Z"
    },
    "papermill": {
     "duration": 0.010864,
     "end_time": "2025-02-05T01:08:22.676142",
     "exception": false,
     "start_time": "2025-02-05T01:08:22.665278",
     "status": "completed"
    },
    "tags": []
   },
   "outputs": [
    {
     "data": {
      "text/plain": [
       "device(type='cuda')"
      ]
     },
     "execution_count": 40,
     "metadata": {},
     "output_type": "execute_result"
    }
   ],
   "source": [
    "device"
   ]
  },
  {
   "cell_type": "code",
   "execution_count": 41,
   "id": "a5333e18",
   "metadata": {
    "execution": {
     "iopub.execute_input": "2025-02-05T01:08:22.690364Z",
     "iopub.status.busy": "2025-02-05T01:08:22.689925Z",
     "iopub.status.idle": "2025-02-05T01:08:22.693154Z",
     "shell.execute_reply": "2025-02-05T01:08:22.692791Z"
    },
    "papermill": {
     "duration": 0.010832,
     "end_time": "2025-02-05T01:08:22.693772",
     "exception": false,
     "start_time": "2025-02-05T01:08:22.682940",
     "status": "completed"
    },
    "tags": []
   },
   "outputs": [
    {
     "data": {
      "text/plain": [
       "True"
      ]
     },
     "execution_count": 41,
     "metadata": {},
     "output_type": "execute_result"
    }
   ],
   "source": [
    "torch.cuda.is_available()"
   ]
  },
  {
   "cell_type": "code",
   "execution_count": 42,
   "id": "1d718a7f",
   "metadata": {
    "execution": {
     "iopub.execute_input": "2025-02-05T01:08:22.709414Z",
     "iopub.status.busy": "2025-02-05T01:08:22.708980Z",
     "iopub.status.idle": "2025-02-05T01:08:24.069517Z",
     "shell.execute_reply": "2025-02-05T01:08:24.068718Z"
    },
    "papermill": {
     "duration": 1.370113,
     "end_time": "2025-02-05T01:08:24.070828",
     "exception": false,
     "start_time": "2025-02-05T01:08:22.700715",
     "status": "completed"
    },
    "tags": []
   },
   "outputs": [],
   "source": [
    "lora_model = lora_model.to(device)"
   ]
  },
  {
   "cell_type": "code",
   "execution_count": 43,
   "id": "8d0b1bf1",
   "metadata": {
    "execution": {
     "iopub.execute_input": "2025-02-05T01:08:24.086539Z",
     "iopub.status.busy": "2025-02-05T01:08:24.086188Z",
     "iopub.status.idle": "2025-02-05T01:08:24.089488Z",
     "shell.execute_reply": "2025-02-05T01:08:24.089080Z"
    },
    "papermill": {
     "duration": 0.011543,
     "end_time": "2025-02-05T01:08:24.090228",
     "exception": false,
     "start_time": "2025-02-05T01:08:24.078685",
     "status": "completed"
    },
    "tags": []
   },
   "outputs": [],
   "source": [
    "dataset_val = split_datasets[\"test\"]"
   ]
  },
  {
   "cell_type": "code",
   "execution_count": 44,
   "id": "1ca99f37",
   "metadata": {
    "execution": {
     "iopub.execute_input": "2025-02-05T01:08:24.104726Z",
     "iopub.status.busy": "2025-02-05T01:08:24.104336Z",
     "iopub.status.idle": "2025-02-05T01:08:24.108505Z",
     "shell.execute_reply": "2025-02-05T01:08:24.108120Z"
    },
    "papermill": {
     "duration": 0.012148,
     "end_time": "2025-02-05T01:08:24.109245",
     "exception": false,
     "start_time": "2025-02-05T01:08:24.097097",
     "status": "completed"
    },
    "tags": []
   },
   "outputs": [
    {
     "data": {
      "text/plain": [
       "Dataset({\n",
       "    features: ['Unnamed: 0.1', 'Unnamed: 0', 'title', 'abstract'],\n",
       "    num_rows: 23519\n",
       "})"
      ]
     },
     "execution_count": 44,
     "metadata": {},
     "output_type": "execute_result"
    }
   ],
   "source": [
    "dataset_val"
   ]
  },
  {
   "cell_type": "code",
   "execution_count": 45,
   "id": "a314d3d6",
   "metadata": {
    "execution": {
     "iopub.execute_input": "2025-02-05T01:08:24.123826Z",
     "iopub.status.busy": "2025-02-05T01:08:24.123399Z",
     "iopub.status.idle": "2025-02-05T01:08:24.128177Z",
     "shell.execute_reply": "2025-02-05T01:08:24.127774Z"
    },
    "papermill": {
     "duration": 0.012859,
     "end_time": "2025-02-05T01:08:24.128959",
     "exception": false,
     "start_time": "2025-02-05T01:08:24.116100",
     "status": "completed"
    },
    "tags": []
   },
   "outputs": [],
   "source": [
    "dataset_val = dataset_val.remove_columns(['Unnamed: 0','Unnamed: 0.1'])"
   ]
  },
  {
   "cell_type": "code",
   "execution_count": 46,
   "id": "a58b2f1a",
   "metadata": {
    "execution": {
     "iopub.execute_input": "2025-02-05T01:08:24.146549Z",
     "iopub.status.busy": "2025-02-05T01:08:24.146150Z",
     "iopub.status.idle": "2025-02-05T01:08:26.166849Z",
     "shell.execute_reply": "2025-02-05T01:08:26.166298Z"
    },
    "papermill": {
     "duration": 2.030376,
     "end_time": "2025-02-05T01:08:26.167768",
     "exception": false,
     "start_time": "2025-02-05T01:08:24.137392",
     "status": "completed"
    },
    "tags": []
   },
   "outputs": [
    {
     "data": {
      "application/vnd.jupyter.widget-view+json": {
       "model_id": "744139c456ce49cc8fd561dafec7f1fb",
       "version_major": 2,
       "version_minor": 0
      },
      "text/plain": [
       "Map:   0%|          | 0/23519 [00:00<?, ? examples/s]"
      ]
     },
     "metadata": {},
     "output_type": "display_data"
    }
   ],
   "source": [
    "dataset_val = dataset_val.map(lambda x, idx: { 'index': idx }, with_indices=True)"
   ]
  },
  {
   "cell_type": "code",
   "execution_count": 47,
   "id": "454fc03a",
   "metadata": {
    "execution": {
     "iopub.execute_input": "2025-02-05T01:08:26.184293Z",
     "iopub.status.busy": "2025-02-05T01:08:26.183933Z",
     "iopub.status.idle": "2025-02-05T01:08:26.187916Z",
     "shell.execute_reply": "2025-02-05T01:08:26.187519Z"
    },
    "papermill": {
     "duration": 0.012328,
     "end_time": "2025-02-05T01:08:26.188713",
     "exception": false,
     "start_time": "2025-02-05T01:08:26.176385",
     "status": "completed"
    },
    "tags": []
   },
   "outputs": [
    {
     "data": {
      "text/plain": [
       "Dataset({\n",
       "    features: ['title', 'abstract', 'index'],\n",
       "    num_rows: 23519\n",
       "})"
      ]
     },
     "execution_count": 47,
     "metadata": {},
     "output_type": "execute_result"
    }
   ],
   "source": [
    "dataset_val"
   ]
  },
  {
   "cell_type": "code",
   "execution_count": 48,
   "id": "59611a3b",
   "metadata": {
    "execution": {
     "iopub.execute_input": "2025-02-05T01:08:26.203543Z",
     "iopub.status.busy": "2025-02-05T01:08:26.203090Z",
     "iopub.status.idle": "2025-02-05T01:08:26.216905Z",
     "shell.execute_reply": "2025-02-05T01:08:26.216534Z"
    },
    "papermill": {
     "duration": 0.021772,
     "end_time": "2025-02-05T01:08:26.217503",
     "exception": false,
     "start_time": "2025-02-05T01:08:26.195731",
     "status": "completed"
    },
    "tags": []
   },
   "outputs": [],
   "source": [
    "all_indexes_val = np.array(dataset_val['index'])"
   ]
  },
  {
   "cell_type": "code",
   "execution_count": null,
   "id": "f51a8e7e",
   "metadata": {
    "execution": {
     "iopub.execute_input": "2025-02-05T01:08:26.232264Z",
     "iopub.status.busy": "2025-02-05T01:08:26.232017Z",
     "iopub.status.idle": "2025-02-05T01:08:26.235310Z",
     "shell.execute_reply": "2025-02-05T01:08:26.234924Z"
    },
    "papermill": {
     "duration": 0.011352,
     "end_time": "2025-02-05T01:08:26.235909",
     "exception": false,
     "start_time": "2025-02-05T01:08:26.224557",
     "status": "completed"
    },
    "tags": []
   },
   "outputs": [],
   "source": [
    "def generate_hard_negatives_val(example, num_negatives=10,dataset=dataset_val):\n",
    "    query_index = example['index']  \n",
    "    anchor = example['title']\n",
    "    positive = example['abstract']\n",
    "    \n",
    "    negatives = []\n",
    "    \n",
    "    negative_indexes = np.delete(all_indexes_val, np.where(all_indexes_val == query_index)) \n",
    "    \n",
    "    sampled_negatives = random.sample(list(negative_indexes), num_negatives)\n",
    "    \n",
    "    for idx in sampled_negatives:\n",
    "        negatives.append(dataset[int(idx)]['abstract'])\n",
    "    \n",
    "    return {\n",
    "        \"query\": anchor,\n",
    "        \"positive\": positive,\n",
    "        \"negatives\": negatives\n",
    "    }"
   ]
  },
  {
   "cell_type": "code",
   "execution_count": 50,
   "id": "956100e1",
   "metadata": {
    "execution": {
     "iopub.execute_input": "2025-02-05T01:08:26.250589Z",
     "iopub.status.busy": "2025-02-05T01:08:26.250330Z",
     "iopub.status.idle": "2025-02-05T01:09:00.654374Z",
     "shell.execute_reply": "2025-02-05T01:09:00.653824Z"
    },
    "papermill": {
     "duration": 34.412153,
     "end_time": "2025-02-05T01:09:00.655120",
     "exception": false,
     "start_time": "2025-02-05T01:08:26.242967",
     "status": "completed"
    },
    "tags": []
   },
   "outputs": [
    {
     "data": {
      "application/vnd.jupyter.widget-view+json": {
       "model_id": "e306b59f2fea46c7afcf822a0f38ef71",
       "version_major": 2,
       "version_minor": 0
      },
      "text/plain": [
       "Map:   0%|          | 0/23519 [00:00<?, ? examples/s]"
      ]
     },
     "metadata": {},
     "output_type": "display_data"
    }
   ],
   "source": [
    "processed_data_val = dataset_val.map(generate_hard_negatives_val, remove_columns=dataset_val.column_names)"
   ]
  },
  {
   "cell_type": "code",
   "execution_count": 51,
   "id": "70ecac28",
   "metadata": {
    "execution": {
     "iopub.execute_input": "2025-02-05T01:09:00.672893Z",
     "iopub.status.busy": "2025-02-05T01:09:00.672592Z",
     "iopub.status.idle": "2025-02-05T01:09:02.542913Z",
     "shell.execute_reply": "2025-02-05T01:09:02.542298Z"
    },
    "papermill": {
     "duration": 1.87883,
     "end_time": "2025-02-05T01:09:02.543545",
     "exception": false,
     "start_time": "2025-02-05T01:09:00.664715",
     "status": "completed"
    },
    "tags": []
   },
   "outputs": [],
   "source": [
    "contrastive_pairs_val = []\n",
    "for item in processed_data_val:\n",
    "    query = item[\"query\"]\n",
    "    positive = item[\"positive\"]\n",
    "    negatives = item[\"negatives\"]\n",
    "    contrastive_pairs_val.append({\n",
    "        \"anchor\": query,\n",
    "        \"positive\": positive,\n",
    "        \"negatives\": negatives\n",
    "    })"
   ]
  },
  {
   "cell_type": "code",
   "execution_count": 52,
   "id": "ce529ab6",
   "metadata": {
    "execution": {
     "iopub.execute_input": "2025-02-05T01:09:02.559728Z",
     "iopub.status.busy": "2025-02-05T01:09:02.559454Z",
     "iopub.status.idle": "2025-02-05T01:09:02.562355Z",
     "shell.execute_reply": "2025-02-05T01:09:02.561850Z"
    },
    "papermill": {
     "duration": 0.011363,
     "end_time": "2025-02-05T01:09:02.562980",
     "exception": false,
     "start_time": "2025-02-05T01:09:02.551617",
     "status": "completed"
    },
    "tags": []
   },
   "outputs": [],
   "source": [
    "contrastive_dataset_val = ContrastiveDataset(contrastive_pairs_val)"
   ]
  },
  {
   "cell_type": "code",
   "execution_count": 53,
   "id": "5ac55437",
   "metadata": {
    "execution": {
     "iopub.execute_input": "2025-02-05T01:09:02.578336Z",
     "iopub.status.busy": "2025-02-05T01:09:02.577989Z",
     "iopub.status.idle": "2025-02-05T01:09:02.580991Z",
     "shell.execute_reply": "2025-02-05T01:09:02.580522Z"
    },
    "papermill": {
     "duration": 0.011247,
     "end_time": "2025-02-05T01:09:02.581562",
     "exception": false,
     "start_time": "2025-02-05T01:09:02.570315",
     "status": "completed"
    },
    "tags": []
   },
   "outputs": [],
   "source": [
    "data_loader_val = DataLoader(contrastive_dataset_val, batch_size=8, shuffle=True)"
   ]
  },
  {
   "cell_type": "code",
   "execution_count": 54,
   "id": "b73033c1",
   "metadata": {
    "execution": {
     "iopub.execute_input": "2025-02-05T01:09:02.596802Z",
     "iopub.status.busy": "2025-02-05T01:09:02.596560Z",
     "iopub.status.idle": "2025-02-05T01:09:02.599785Z",
     "shell.execute_reply": "2025-02-05T01:09:02.599400Z"
    },
    "papermill": {
     "duration": 0.011498,
     "end_time": "2025-02-05T01:09:02.600407",
     "exception": false,
     "start_time": "2025-02-05T01:09:02.588909",
     "status": "completed"
    },
    "tags": []
   },
   "outputs": [
    {
     "data": {
      "text/plain": [
       "2940"
      ]
     },
     "execution_count": 54,
     "metadata": {},
     "output_type": "execute_result"
    }
   ],
   "source": [
    "len(data_loader_val)"
   ]
  },
  {
   "cell_type": "code",
   "execution_count": 55,
   "id": "76c29dae",
   "metadata": {
    "execution": {
     "iopub.execute_input": "2025-02-05T01:09:02.616144Z",
     "iopub.status.busy": "2025-02-05T01:09:02.615781Z",
     "iopub.status.idle": "2025-02-05T01:09:02.620849Z",
     "shell.execute_reply": "2025-02-05T01:09:02.620462Z"
    },
    "papermill": {
     "duration": 0.013594,
     "end_time": "2025-02-05T01:09:02.621482",
     "exception": false,
     "start_time": "2025-02-05T01:09:02.607888",
     "status": "completed"
    },
    "tags": []
   },
   "outputs": [],
   "source": [
    "def evaluate_mrr(model1, data_loader_val, distance_fn):\n",
    "    model1.eval()\n",
    "    \n",
    "    total_rr = 0.0\n",
    "    num_queries = 0\n",
    "\n",
    "    with torch.no_grad():\n",
    "        for batch in data_loader_val:\n",
    "            anchor_text = batch[0]\n",
    "            positive_text = batch[1]\n",
    "            negative_texts = batch[2]\n",
    "\n",
    "            anchor_input = tokenizer(anchor_text, return_tensors='pt', padding=True, truncation=True, max_length=512).to(device)\n",
    "            positive_input = tokenizer(positive_text, return_tensors='pt', padding=True, truncation=True, max_length=512).to(device)\n",
    "\n",
    "            anchor_embedding = expm_o(model1(**anchor_input).last_hidden_state[:, 0, :])\n",
    "            positive_embedding = expm_o(model1(**positive_input).last_hidden_state[:, 0, :])\n",
    "            negative_embedding = [expm_o(model1(**tokenizer(neg, return_tensors='pt', padding=True, truncation=True, max_length=512).to(device)).last_hidden_state[:, 0, :]) for neg in negative_texts]\n",
    "\n",
    "            pos_dist = distance_fn(anchor_embedding, positive_embedding)\n",
    "            neg_dist = torch.stack([distance_fn(anchor_embedding, neg) for neg in negative_embedding], dim=-1)\n",
    "            all_similarities=torch.cat([-pos_dist.unsqueeze(1), -neg_dist], dim=1)\n",
    "\n",
    "            sorted_similarities, sorted_indices = torch.sort(all_similarities, dim=1, descending=True)\n",
    "\n",
    "            # Find the rank of the first relevant (positive) document\n",
    "            positive_rank = (sorted_indices == 0).nonzero(as_tuple=True)[1] + 1  # +1 to make rank 1-based\n",
    "            total_rr += torch.sum(1.0 / positive_rank.float()).item()  # Reciprocal rank\n",
    "            num_queries += len(positive_rank)\n",
    "            \n",
    "    mrr = total_rr / num_queries\n",
    "    return mrr"
   ]
  },
  {
   "cell_type": "code",
   "execution_count": 56,
   "id": "84893f41",
   "metadata": {
    "execution": {
     "iopub.execute_input": "2025-02-05T01:09:02.637075Z",
     "iopub.status.busy": "2025-02-05T01:09:02.636711Z",
     "iopub.status.idle": "2025-02-05T01:09:02.638946Z",
     "shell.execute_reply": "2025-02-05T01:09:02.638543Z"
    },
    "papermill": {
     "duration": 0.010626,
     "end_time": "2025-02-05T01:09:02.639547",
     "exception": false,
     "start_time": "2025-02-05T01:09:02.628921",
     "status": "completed"
    },
    "tags": []
   },
   "outputs": [],
   "source": [
    "import os\n",
    "save_dir =\"/dss/dsshome1/07/ra65bex2/srawat/hyperbolic\""
   ]
  },
  {
   "cell_type": "code",
   "execution_count": 57,
   "id": "1e46bee6",
   "metadata": {
    "execution": {
     "iopub.execute_input": "2025-02-05T01:09:02.655131Z",
     "iopub.status.busy": "2025-02-05T01:09:02.654687Z",
     "iopub.status.idle": "2025-02-05T01:09:02.656993Z",
     "shell.execute_reply": "2025-02-05T01:09:02.656593Z"
    },
    "papermill": {
     "duration": 0.010619,
     "end_time": "2025-02-05T01:09:02.657580",
     "exception": false,
     "start_time": "2025-02-05T01:09:02.646961",
     "status": "completed"
    },
    "tags": []
   },
   "outputs": [],
   "source": [
    "import time\n",
    "epoch_metrics = []"
   ]
  },
  {
   "cell_type": "code",
   "execution_count": 58,
   "id": "23f95333",
   "metadata": {
    "execution": {
     "iopub.execute_input": "2025-02-05T01:09:02.673393Z",
     "iopub.status.busy": "2025-02-05T01:09:02.672942Z",
     "iopub.status.idle": "2025-02-05T01:09:02.675350Z",
     "shell.execute_reply": "2025-02-05T01:09:02.674963Z"
    },
    "papermill": {
     "duration": 0.010803,
     "end_time": "2025-02-05T01:09:02.675967",
     "exception": false,
     "start_time": "2025-02-05T01:09:02.665164",
     "status": "completed"
    },
    "tags": []
   },
   "outputs": [],
   "source": [
    "torch.cuda.empty_cache()"
   ]
  },
  {
   "cell_type": "code",
   "execution_count": 59,
   "id": "32a21d84",
   "metadata": {
    "execution": {
     "iopub.execute_input": "2025-02-05T01:09:02.691991Z",
     "iopub.status.busy": "2025-02-05T01:09:02.691542Z",
     "iopub.status.idle": "2025-02-05T10:14:38.320459Z",
     "shell.execute_reply": "2025-02-05T10:14:38.319904Z"
    },
    "papermill": {
     "duration": 32735.649106,
     "end_time": "2025-02-05T10:14:38.332542",
     "exception": false,
     "start_time": "2025-02-05T01:09:02.683436",
     "status": "completed"
    },
    "tags": []
   },
   "outputs": [
    {
     "name": "stdout",
     "output_type": "stream",
     "text": [
      "EPOCH 1:\n",
      "Checkpoint saved: /dss/dsshome1/07/ra65bex2/srawat/hyperbolic\n",
      "Epoch 1/3, Loss: 14.007542562079268\n",
      "Epoch 1/3, Contrastive Loss: 2.400357239363956\n",
      "Epoch 1/3, Entailment Loss: 1.1607185322208469\n"
     ]
    },
    {
     "name": "stdout",
     "output_type": "stream",
     "text": [
      "Mean Reciprocal Rank (MRR) for validation set: 0.2752\n",
      "Epoch 1 took 182.2306 minutes.\n",
      "\n",
      "\n"
     ]
    },
    {
     "name": "stdout",
     "output_type": "stream",
     "text": [
      "EPOCH 2:\n",
      "Checkpoint saved: /dss/dsshome1/07/ra65bex2/srawat/hyperbolic\n",
      "Epoch 2/3, Loss: 12.79145791733346\n",
      "Epoch 2/3, Contrastive Loss: 2.398507938599911\n",
      "Epoch 2/3, Entailment Loss: 1.0392949974861274\n"
     ]
    },
    {
     "name": "stdout",
     "output_type": "stream",
     "text": [
      "Mean Reciprocal Rank (MRR) for validation set: 0.2737\n",
      "Epoch 2 took 181.7103 minutes.\n",
      "\n",
      "\n"
     ]
    },
    {
     "name": "stdout",
     "output_type": "stream",
     "text": [
      "EPOCH 3:\n",
      "Checkpoint saved: /dss/dsshome1/07/ra65bex2/srawat/hyperbolic\n",
      "Epoch 3/3, Loss: 12.535802774851014\n",
      "Epoch 3/3, Contrastive Loss: 2.398396180864094\n",
      "Epoch 3/3, Entailment Loss: 1.0137406591554077\n"
     ]
    },
    {
     "name": "stdout",
     "output_type": "stream",
     "text": [
      "Mean Reciprocal Rank (MRR) for validation set: 0.2737\n",
      "Epoch 3 took 181.6529 minutes.\n",
      "\n",
      "\n"
     ]
    }
   ],
   "source": [
    "for epoch in range(num_epochs):\n",
    "    start_time = time.time()\n",
    "    lora_model.train()\n",
    "\n",
    "    total_loss = 0.0\n",
    "    entailment_loss_total=0.0\n",
    "    contrastive_loss_total=0.0\n",
    "    for batch in data_loader_train:\n",
    "\n",
    "        anchor_texts = batch[0]\n",
    "        positive_texts = batch[1]\n",
    "        negative_texts = batch[2]\n",
    "\n",
    "        anchor_inputs = tokenizer(anchor_texts, return_tensors='pt', padding=True, truncation=True, max_length=512).to(device)\n",
    "        positive_inputs = tokenizer(positive_texts, return_tensors='pt', padding=True, truncation=True, max_length=512).to(device)\n",
    "    \n",
    "        anchor_embedding = expm_o(lora_model(**anchor_inputs).last_hidden_state[:, 0, :])\n",
    "        positive_embedding = expm_o(lora_model(**positive_inputs).last_hidden_state[:, 0, :])\n",
    "        negative_embedding = [expm_o(lora_model(**tokenizer(neg, return_tensors='pt', padding=True, truncation=True, max_length=512).to(device)).last_hidden_state[:, 0, :]) for neg in negative_texts]\n",
    "\n",
    "        contrastive_loss_value = info_nce_loss(anchor_embedding, positive_embedding, negative_embedding, distance_fn=lorentzian_distance)\n",
    "        \n",
    "        entailment_loss_value = entailment_loss(anchor_embedding, positive_embedding)\n",
    "        \n",
    "        loss = contrastive_loss_value + 10*entailment_loss_value\n",
    "  \n",
    "        optimizer.zero_grad()\n",
    "        loss.backward()\n",
    "        optimizer.step()\n",
    "        \n",
    "        total_loss += loss.item()\n",
    "        entailment_loss_total+=entailment_loss_value.item()\n",
    "        contrastive_loss_total+=contrastive_loss_value.item()\n",
    "    save_path1 = os.path.join(save_dir, f\"hyperbolic_lora_checkpoint_epoch_{epoch+1}.pth\")\n",
    "    torch.save(lora_model, save_path1)\n",
    "    print(f\"EPOCH {epoch+1}:\")\n",
    "    print(f\"Checkpoint saved: {save_dir}\")\n",
    "    print(f\"Epoch {epoch+1}/{num_epochs}, Loss: {total_loss / len(data_loader_train)}\")\n",
    "    print(f\"Epoch {epoch+1}/{num_epochs}, Contrastive Loss: {contrastive_loss_total / len(data_loader_train)}\")\n",
    "    print(f\"Epoch {epoch+1}/{num_epochs}, Entailment Loss: {entailment_loss_total / len(data_loader_train)}\")\n",
    "    mrr_validation = evaluate_mrr(model1=lora_model, data_loader_val=data_loader_val,distance_fn=lorentzian_distance)\n",
    "    #mrr_train = evaluate_mrr(lora_model, data_loader_train, lorentzian_distance)\n",
    "    #print(f\"Mean Reciprocal Rank (MRR) for training set: {mrr_train:.4f}\")\n",
    "    print(f\"Mean Reciprocal Rank (MRR) for validation set: {mrr_validation:.4f}\")\n",
    "    end_time = time.time()\n",
    "    print(f\"Epoch {epoch+1} took {(end_time - start_time) / 60:.4f} minutes.\")\n",
    "    print(f\"\\n\")\n",
    "    epoch_metrics.append({\n",
    "        'epoch': epoch + 1,\n",
    "        'training_loss': total_loss / len(data_loader_train),\n",
    "        'Contrastive_loss': contrastive_loss_total / len(data_loader_train),\n",
    "        'Entailment_loss': entailment_loss_total / len(data_loader_train),\n",
    "        'mrr_validation': mrr_validation,\n",
    "        'time_taken_minutes': (end_time - start_time) / 60\n",
    "    })"
   ]
  },
  {
   "cell_type": "code",
   "execution_count": 60,
   "id": "b2c27c8a",
   "metadata": {
    "execution": {
     "iopub.execute_input": "2025-02-05T10:14:38.349332Z",
     "iopub.status.busy": "2025-02-05T10:14:38.349170Z",
     "iopub.status.idle": "2025-02-05T10:14:38.352171Z",
     "shell.execute_reply": "2025-02-05T10:14:38.351747Z"
    },
    "papermill": {
     "duration": 0.012175,
     "end_time": "2025-02-05T10:14:38.352821",
     "exception": false,
     "start_time": "2025-02-05T10:14:38.340646",
     "status": "completed"
    },
    "tags": []
   },
   "outputs": [],
   "source": [
    "import json"
   ]
  },
  {
   "cell_type": "code",
   "execution_count": 61,
   "id": "53a682b1",
   "metadata": {
    "execution": {
     "iopub.execute_input": "2025-02-05T10:14:38.369162Z",
     "iopub.status.busy": "2025-02-05T10:14:38.368802Z",
     "iopub.status.idle": "2025-02-05T10:14:38.382532Z",
     "shell.execute_reply": "2025-02-05T10:14:38.382148Z"
    },
    "papermill": {
     "duration": 0.022694,
     "end_time": "2025-02-05T10:14:38.383235",
     "exception": false,
     "start_time": "2025-02-05T10:14:38.360541",
     "status": "completed"
    },
    "tags": []
   },
   "outputs": [],
   "source": [
    "with open(save_dir + '/epoch_metrics.json', 'w') as f:\n",
    "    json.dump(epoch_metrics, f)"
   ]
  },
  {
   "cell_type": "code",
   "execution_count": null,
   "id": "f7021e82",
   "metadata": {
    "papermill": {
     "duration": 0.007782,
     "end_time": "2025-02-05T10:14:38.398973",
     "exception": false,
     "start_time": "2025-02-05T10:14:38.391191",
     "status": "completed"
    },
    "tags": []
   },
   "outputs": [],
   "source": []
  }
 ],
 "metadata": {
  "kernelspec": {
   "display_name": "Python (myenv)",
   "language": "python",
   "name": "myenv"
  },
  "language_info": {
   "codemirror_mode": {
    "name": "ipython",
    "version": 3
   },
   "file_extension": ".py",
   "mimetype": "text/x-python",
   "name": "python",
   "nbconvert_exporter": "python",
   "pygments_lexer": "ipython3",
   "version": "3.12.7"
  },
  "papermill": {
   "default_parameters": {},
   "duration": 33272.797898,
   "end_time": "2025-02-05T10:14:42.274550",
   "environment_variables": {},
   "exception": null,
   "input_path": "hyperbolic.ipynb",
   "output_path": "hyperbolic_output.ipynb",
   "parameters": {},
   "start_time": "2025-02-05T01:00:09.476652",
   "version": "2.6.0"
  },
  "widgets": {
   "application/vnd.jupyter.widget-state+json": {
    "state": {
     "016d9f4cbaa54643a94f35c1220f0186": {
      "model_module": "@jupyter-widgets/base",
      "model_module_version": "2.0.0",
      "model_name": "LayoutModel",
      "state": {
       "_model_module": "@jupyter-widgets/base",
       "_model_module_version": "2.0.0",
       "_model_name": "LayoutModel",
       "_view_count": null,
       "_view_module": "@jupyter-widgets/base",
       "_view_module_version": "2.0.0",
       "_view_name": "LayoutView",
       "align_content": null,
       "align_items": null,
       "align_self": null,
       "border_bottom": null,
       "border_left": null,
       "border_right": null,
       "border_top": null,
       "bottom": null,
       "display": null,
       "flex": null,
       "flex_flow": null,
       "grid_area": null,
       "grid_auto_columns": null,
       "grid_auto_flow": null,
       "grid_auto_rows": null,
       "grid_column": null,
       "grid_gap": null,
       "grid_row": null,
       "grid_template_areas": null,
       "grid_template_columns": null,
       "grid_template_rows": null,
       "height": null,
       "justify_content": null,
       "justify_items": null,
       "left": null,
       "margin": null,
       "max_height": null,
       "max_width": null,
       "min_height": null,
       "min_width": null,
       "object_fit": null,
       "object_position": null,
       "order": null,
       "overflow": null,
       "padding": null,
       "right": null,
       "top": null,
       "visibility": null,
       "width": null
      }
     },
     "090a580557564dd1944d4fe9e72179c9": {
      "model_module": "@jupyter-widgets/controls",
      "model_module_version": "2.0.0",
      "model_name": "HTMLModel",
      "state": {
       "_dom_classes": [],
       "_model_module": "@jupyter-widgets/controls",
       "_model_module_version": "2.0.0",
       "_model_name": "HTMLModel",
       "_view_count": null,
       "_view_module": "@jupyter-widgets/controls",
       "_view_module_version": "2.0.0",
       "_view_name": "HTMLView",
       "description": "",
       "description_allow_html": false,
       "layout": "IPY_MODEL_282398e931bd4ba99f0bb45a1a9e8eba",
       "placeholder": "​",
       "style": "IPY_MODEL_611d6434d70c4e4482710167ad9f0785",
       "tabbable": null,
       "tooltip": null,
       "value": " 94073/94073 [07:11&lt;00:00, 214.26 examples/s]"
      }
     },
     "0bb951b1a77c4a87914ef6d39cf47147": {
      "model_module": "@jupyter-widgets/base",
      "model_module_version": "2.0.0",
      "model_name": "LayoutModel",
      "state": {
       "_model_module": "@jupyter-widgets/base",
       "_model_module_version": "2.0.0",
       "_model_name": "LayoutModel",
       "_view_count": null,
       "_view_module": "@jupyter-widgets/base",
       "_view_module_version": "2.0.0",
       "_view_name": "LayoutView",
       "align_content": null,
       "align_items": null,
       "align_self": null,
       "border_bottom": null,
       "border_left": null,
       "border_right": null,
       "border_top": null,
       "bottom": null,
       "display": null,
       "flex": null,
       "flex_flow": null,
       "grid_area": null,
       "grid_auto_columns": null,
       "grid_auto_flow": null,
       "grid_auto_rows": null,
       "grid_column": null,
       "grid_gap": null,
       "grid_row": null,
       "grid_template_areas": null,
       "grid_template_columns": null,
       "grid_template_rows": null,
       "height": null,
       "justify_content": null,
       "justify_items": null,
       "left": null,
       "margin": null,
       "max_height": null,
       "max_width": null,
       "min_height": null,
       "min_width": null,
       "object_fit": null,
       "object_position": null,
       "order": null,
       "overflow": null,
       "padding": null,
       "right": null,
       "top": null,
       "visibility": null,
       "width": null
      }
     },
     "0e02992c4c334264afb2fa6773471eb7": {
      "model_module": "@jupyter-widgets/controls",
      "model_module_version": "2.0.0",
      "model_name": "HTMLStyleModel",
      "state": {
       "_model_module": "@jupyter-widgets/controls",
       "_model_module_version": "2.0.0",
       "_model_name": "HTMLStyleModel",
       "_view_count": null,
       "_view_module": "@jupyter-widgets/base",
       "_view_module_version": "2.0.0",
       "_view_name": "StyleView",
       "background": null,
       "description_width": "",
       "font_size": null,
       "text_color": null
      }
     },
     "0f03bafa5ef94fd894ca32f5c3f80a7f": {
      "model_module": "@jupyter-widgets/base",
      "model_module_version": "2.0.0",
      "model_name": "LayoutModel",
      "state": {
       "_model_module": "@jupyter-widgets/base",
       "_model_module_version": "2.0.0",
       "_model_name": "LayoutModel",
       "_view_count": null,
       "_view_module": "@jupyter-widgets/base",
       "_view_module_version": "2.0.0",
       "_view_name": "LayoutView",
       "align_content": null,
       "align_items": null,
       "align_self": null,
       "border_bottom": null,
       "border_left": null,
       "border_right": null,
       "border_top": null,
       "bottom": null,
       "display": null,
       "flex": null,
       "flex_flow": null,
       "grid_area": null,
       "grid_auto_columns": null,
       "grid_auto_flow": null,
       "grid_auto_rows": null,
       "grid_column": null,
       "grid_gap": null,
       "grid_row": null,
       "grid_template_areas": null,
       "grid_template_columns": null,
       "grid_template_rows": null,
       "height": null,
       "justify_content": null,
       "justify_items": null,
       "left": null,
       "margin": null,
       "max_height": null,
       "max_width": null,
       "min_height": null,
       "min_width": null,
       "object_fit": null,
       "object_position": null,
       "order": null,
       "overflow": null,
       "padding": null,
       "right": null,
       "top": null,
       "visibility": null,
       "width": null
      }
     },
     "0fdb03c1302f4fb8890e7c57b09574ca": {
      "model_module": "@jupyter-widgets/controls",
      "model_module_version": "2.0.0",
      "model_name": "HTMLModel",
      "state": {
       "_dom_classes": [],
       "_model_module": "@jupyter-widgets/controls",
       "_model_module_version": "2.0.0",
       "_model_name": "HTMLModel",
       "_view_count": null,
       "_view_module": "@jupyter-widgets/controls",
       "_view_module_version": "2.0.0",
       "_view_name": "HTMLView",
       "description": "",
       "description_allow_html": false,
       "layout": "IPY_MODEL_e8322e6ca6834ac9b2433a21fe2c454f",
       "placeholder": "​",
       "style": "IPY_MODEL_c5971674a63f4cc380c0eadf13310182",
       "tabbable": null,
       "tooltip": null,
       "value": " 94073/94073 [00:05&lt;00:00, 19844.37 examples/s]"
      }
     },
     "228d8735207e4edf90e2bd621f502b60": {
      "model_module": "@jupyter-widgets/base",
      "model_module_version": "2.0.0",
      "model_name": "LayoutModel",
      "state": {
       "_model_module": "@jupyter-widgets/base",
       "_model_module_version": "2.0.0",
       "_model_name": "LayoutModel",
       "_view_count": null,
       "_view_module": "@jupyter-widgets/base",
       "_view_module_version": "2.0.0",
       "_view_name": "LayoutView",
       "align_content": null,
       "align_items": null,
       "align_self": null,
       "border_bottom": null,
       "border_left": null,
       "border_right": null,
       "border_top": null,
       "bottom": null,
       "display": null,
       "flex": null,
       "flex_flow": null,
       "grid_area": null,
       "grid_auto_columns": null,
       "grid_auto_flow": null,
       "grid_auto_rows": null,
       "grid_column": null,
       "grid_gap": null,
       "grid_row": null,
       "grid_template_areas": null,
       "grid_template_columns": null,
       "grid_template_rows": null,
       "height": null,
       "justify_content": null,
       "justify_items": null,
       "left": null,
       "margin": null,
       "max_height": null,
       "max_width": null,
       "min_height": null,
       "min_width": null,
       "object_fit": null,
       "object_position": null,
       "order": null,
       "overflow": null,
       "padding": null,
       "right": null,
       "top": null,
       "visibility": null,
       "width": null
      }
     },
     "282398e931bd4ba99f0bb45a1a9e8eba": {
      "model_module": "@jupyter-widgets/base",
      "model_module_version": "2.0.0",
      "model_name": "LayoutModel",
      "state": {
       "_model_module": "@jupyter-widgets/base",
       "_model_module_version": "2.0.0",
       "_model_name": "LayoutModel",
       "_view_count": null,
       "_view_module": "@jupyter-widgets/base",
       "_view_module_version": "2.0.0",
       "_view_name": "LayoutView",
       "align_content": null,
       "align_items": null,
       "align_self": null,
       "border_bottom": null,
       "border_left": null,
       "border_right": null,
       "border_top": null,
       "bottom": null,
       "display": null,
       "flex": null,
       "flex_flow": null,
       "grid_area": null,
       "grid_auto_columns": null,
       "grid_auto_flow": null,
       "grid_auto_rows": null,
       "grid_column": null,
       "grid_gap": null,
       "grid_row": null,
       "grid_template_areas": null,
       "grid_template_columns": null,
       "grid_template_rows": null,
       "height": null,
       "justify_content": null,
       "justify_items": null,
       "left": null,
       "margin": null,
       "max_height": null,
       "max_width": null,
       "min_height": null,
       "min_width": null,
       "object_fit": null,
       "object_position": null,
       "order": null,
       "overflow": null,
       "padding": null,
       "right": null,
       "top": null,
       "visibility": null,
       "width": null
      }
     },
     "2ecd93ba0b2945b4919a596e83274158": {
      "model_module": "@jupyter-widgets/base",
      "model_module_version": "2.0.0",
      "model_name": "LayoutModel",
      "state": {
       "_model_module": "@jupyter-widgets/base",
       "_model_module_version": "2.0.0",
       "_model_name": "LayoutModel",
       "_view_count": null,
       "_view_module": "@jupyter-widgets/base",
       "_view_module_version": "2.0.0",
       "_view_name": "LayoutView",
       "align_content": null,
       "align_items": null,
       "align_self": null,
       "border_bottom": null,
       "border_left": null,
       "border_right": null,
       "border_top": null,
       "bottom": null,
       "display": null,
       "flex": null,
       "flex_flow": null,
       "grid_area": null,
       "grid_auto_columns": null,
       "grid_auto_flow": null,
       "grid_auto_rows": null,
       "grid_column": null,
       "grid_gap": null,
       "grid_row": null,
       "grid_template_areas": null,
       "grid_template_columns": null,
       "grid_template_rows": null,
       "height": null,
       "justify_content": null,
       "justify_items": null,
       "left": null,
       "margin": null,
       "max_height": null,
       "max_width": null,
       "min_height": null,
       "min_width": null,
       "object_fit": null,
       "object_position": null,
       "order": null,
       "overflow": null,
       "padding": null,
       "right": null,
       "top": null,
       "visibility": null,
       "width": null
      }
     },
     "43d3ad5c3a5a47598e4fd97aa502f012": {
      "model_module": "@jupyter-widgets/controls",
      "model_module_version": "2.0.0",
      "model_name": "HTMLModel",
      "state": {
       "_dom_classes": [],
       "_model_module": "@jupyter-widgets/controls",
       "_model_module_version": "2.0.0",
       "_model_name": "HTMLModel",
       "_view_count": null,
       "_view_module": "@jupyter-widgets/controls",
       "_view_module_version": "2.0.0",
       "_view_name": "HTMLView",
       "description": "",
       "description_allow_html": false,
       "layout": "IPY_MODEL_9a5537723fb54f8dada4fcd8e89ddfa7",
       "placeholder": "​",
       "style": "IPY_MODEL_eb0b63aecbba432e91119684f1d4a934",
       "tabbable": null,
       "tooltip": null,
       "value": "Map: 100%"
      }
     },
     "45ddc22659714820abfff32eda1539c6": {
      "model_module": "@jupyter-widgets/controls",
      "model_module_version": "2.0.0",
      "model_name": "ProgressStyleModel",
      "state": {
       "_model_module": "@jupyter-widgets/controls",
       "_model_module_version": "2.0.0",
       "_model_name": "ProgressStyleModel",
       "_view_count": null,
       "_view_module": "@jupyter-widgets/base",
       "_view_module_version": "2.0.0",
       "_view_name": "StyleView",
       "bar_color": null,
       "description_width": ""
      }
     },
     "4ba974e8f67b4d0e990445e20cf0bca4": {
      "model_module": "@jupyter-widgets/controls",
      "model_module_version": "2.0.0",
      "model_name": "HTMLStyleModel",
      "state": {
       "_model_module": "@jupyter-widgets/controls",
       "_model_module_version": "2.0.0",
       "_model_name": "HTMLStyleModel",
       "_view_count": null,
       "_view_module": "@jupyter-widgets/base",
       "_view_module_version": "2.0.0",
       "_view_name": "StyleView",
       "background": null,
       "description_width": "",
       "font_size": null,
       "text_color": null
      }
     },
     "4d42b881ce6045b691c382bce74d319a": {
      "model_module": "@jupyter-widgets/controls",
      "model_module_version": "2.0.0",
      "model_name": "HTMLModel",
      "state": {
       "_dom_classes": [],
       "_model_module": "@jupyter-widgets/controls",
       "_model_module_version": "2.0.0",
       "_model_name": "HTMLModel",
       "_view_count": null,
       "_view_module": "@jupyter-widgets/controls",
       "_view_module_version": "2.0.0",
       "_view_name": "HTMLView",
       "description": "",
       "description_allow_html": false,
       "layout": "IPY_MODEL_539b45eefaf6421696cd433a49f6ac07",
       "placeholder": "​",
       "style": "IPY_MODEL_da027a18d3b6455085fb4022fa5e3197",
       "tabbable": null,
       "tooltip": null,
       "value": "Map: 100%"
      }
     },
     "4f591aa5834a46d297a7115031fd9b45": {
      "model_module": "@jupyter-widgets/controls",
      "model_module_version": "2.0.0",
      "model_name": "HTMLModel",
      "state": {
       "_dom_classes": [],
       "_model_module": "@jupyter-widgets/controls",
       "_model_module_version": "2.0.0",
       "_model_name": "HTMLModel",
       "_view_count": null,
       "_view_module": "@jupyter-widgets/controls",
       "_view_module_version": "2.0.0",
       "_view_name": "HTMLView",
       "description": "",
       "description_allow_html": false,
       "layout": "IPY_MODEL_016d9f4cbaa54643a94f35c1220f0186",
       "placeholder": "​",
       "style": "IPY_MODEL_cfe5b1bc195d446ea84d5d5aa5b3e071",
       "tabbable": null,
       "tooltip": null,
       "value": "Map: 100%"
      }
     },
     "518d9ce8af66415db6f632af71f83bbd": {
      "model_module": "@jupyter-widgets/controls",
      "model_module_version": "2.0.0",
      "model_name": "ProgressStyleModel",
      "state": {
       "_model_module": "@jupyter-widgets/controls",
       "_model_module_version": "2.0.0",
       "_model_name": "ProgressStyleModel",
       "_view_count": null,
       "_view_module": "@jupyter-widgets/base",
       "_view_module_version": "2.0.0",
       "_view_name": "StyleView",
       "bar_color": null,
       "description_width": ""
      }
     },
     "539b45eefaf6421696cd433a49f6ac07": {
      "model_module": "@jupyter-widgets/base",
      "model_module_version": "2.0.0",
      "model_name": "LayoutModel",
      "state": {
       "_model_module": "@jupyter-widgets/base",
       "_model_module_version": "2.0.0",
       "_model_name": "LayoutModel",
       "_view_count": null,
       "_view_module": "@jupyter-widgets/base",
       "_view_module_version": "2.0.0",
       "_view_name": "LayoutView",
       "align_content": null,
       "align_items": null,
       "align_self": null,
       "border_bottom": null,
       "border_left": null,
       "border_right": null,
       "border_top": null,
       "bottom": null,
       "display": null,
       "flex": null,
       "flex_flow": null,
       "grid_area": null,
       "grid_auto_columns": null,
       "grid_auto_flow": null,
       "grid_auto_rows": null,
       "grid_column": null,
       "grid_gap": null,
       "grid_row": null,
       "grid_template_areas": null,
       "grid_template_columns": null,
       "grid_template_rows": null,
       "height": null,
       "justify_content": null,
       "justify_items": null,
       "left": null,
       "margin": null,
       "max_height": null,
       "max_width": null,
       "min_height": null,
       "min_width": null,
       "object_fit": null,
       "object_position": null,
       "order": null,
       "overflow": null,
       "padding": null,
       "right": null,
       "top": null,
       "visibility": null,
       "width": null
      }
     },
     "5a9d3a5180ef43b1be53c0595e237b85": {
      "model_module": "@jupyter-widgets/controls",
      "model_module_version": "2.0.0",
      "model_name": "ProgressStyleModel",
      "state": {
       "_model_module": "@jupyter-widgets/controls",
       "_model_module_version": "2.0.0",
       "_model_name": "ProgressStyleModel",
       "_view_count": null,
       "_view_module": "@jupyter-widgets/base",
       "_view_module_version": "2.0.0",
       "_view_name": "StyleView",
       "bar_color": null,
       "description_width": ""
      }
     },
     "6006e7f6032d4625920df268ca8de9ea": {
      "model_module": "@jupyter-widgets/base",
      "model_module_version": "2.0.0",
      "model_name": "LayoutModel",
      "state": {
       "_model_module": "@jupyter-widgets/base",
       "_model_module_version": "2.0.0",
       "_model_name": "LayoutModel",
       "_view_count": null,
       "_view_module": "@jupyter-widgets/base",
       "_view_module_version": "2.0.0",
       "_view_name": "LayoutView",
       "align_content": null,
       "align_items": null,
       "align_self": null,
       "border_bottom": null,
       "border_left": null,
       "border_right": null,
       "border_top": null,
       "bottom": null,
       "display": null,
       "flex": null,
       "flex_flow": null,
       "grid_area": null,
       "grid_auto_columns": null,
       "grid_auto_flow": null,
       "grid_auto_rows": null,
       "grid_column": null,
       "grid_gap": null,
       "grid_row": null,
       "grid_template_areas": null,
       "grid_template_columns": null,
       "grid_template_rows": null,
       "height": null,
       "justify_content": null,
       "justify_items": null,
       "left": null,
       "margin": null,
       "max_height": null,
       "max_width": null,
       "min_height": null,
       "min_width": null,
       "object_fit": null,
       "object_position": null,
       "order": null,
       "overflow": null,
       "padding": null,
       "right": null,
       "top": null,
       "visibility": null,
       "width": null
      }
     },
     "611d6434d70c4e4482710167ad9f0785": {
      "model_module": "@jupyter-widgets/controls",
      "model_module_version": "2.0.0",
      "model_name": "HTMLStyleModel",
      "state": {
       "_model_module": "@jupyter-widgets/controls",
       "_model_module_version": "2.0.0",
       "_model_name": "HTMLStyleModel",
       "_view_count": null,
       "_view_module": "@jupyter-widgets/base",
       "_view_module_version": "2.0.0",
       "_view_name": "StyleView",
       "background": null,
       "description_width": "",
       "font_size": null,
       "text_color": null
      }
     },
     "744139c456ce49cc8fd561dafec7f1fb": {
      "model_module": "@jupyter-widgets/controls",
      "model_module_version": "2.0.0",
      "model_name": "HBoxModel",
      "state": {
       "_dom_classes": [],
       "_model_module": "@jupyter-widgets/controls",
       "_model_module_version": "2.0.0",
       "_model_name": "HBoxModel",
       "_view_count": null,
       "_view_module": "@jupyter-widgets/controls",
       "_view_module_version": "2.0.0",
       "_view_name": "HBoxView",
       "box_style": "",
       "children": [
        "IPY_MODEL_4f591aa5834a46d297a7115031fd9b45",
        "IPY_MODEL_b67aa32b814d42f09fba5c8b26f061fe",
        "IPY_MODEL_d625a4f68c1e44a6b7669c6aaa1af123"
       ],
       "layout": "IPY_MODEL_cffb6b30ad2a4466b140cce2a9685358",
       "tabbable": null,
       "tooltip": null
      }
     },
     "764604f7679b481783b4bc621d3a8d90": {
      "model_module": "@jupyter-widgets/base",
      "model_module_version": "2.0.0",
      "model_name": "LayoutModel",
      "state": {
       "_model_module": "@jupyter-widgets/base",
       "_model_module_version": "2.0.0",
       "_model_name": "LayoutModel",
       "_view_count": null,
       "_view_module": "@jupyter-widgets/base",
       "_view_module_version": "2.0.0",
       "_view_name": "LayoutView",
       "align_content": null,
       "align_items": null,
       "align_self": null,
       "border_bottom": null,
       "border_left": null,
       "border_right": null,
       "border_top": null,
       "bottom": null,
       "display": null,
       "flex": null,
       "flex_flow": null,
       "grid_area": null,
       "grid_auto_columns": null,
       "grid_auto_flow": null,
       "grid_auto_rows": null,
       "grid_column": null,
       "grid_gap": null,
       "grid_row": null,
       "grid_template_areas": null,
       "grid_template_columns": null,
       "grid_template_rows": null,
       "height": null,
       "justify_content": null,
       "justify_items": null,
       "left": null,
       "margin": null,
       "max_height": null,
       "max_width": null,
       "min_height": null,
       "min_width": null,
       "object_fit": null,
       "object_position": null,
       "order": null,
       "overflow": null,
       "padding": null,
       "right": null,
       "top": null,
       "visibility": null,
       "width": null
      }
     },
     "840dc521300642b399ddf6b96765513e": {
      "model_module": "@jupyter-widgets/base",
      "model_module_version": "2.0.0",
      "model_name": "LayoutModel",
      "state": {
       "_model_module": "@jupyter-widgets/base",
       "_model_module_version": "2.0.0",
       "_model_name": "LayoutModel",
       "_view_count": null,
       "_view_module": "@jupyter-widgets/base",
       "_view_module_version": "2.0.0",
       "_view_name": "LayoutView",
       "align_content": null,
       "align_items": null,
       "align_self": null,
       "border_bottom": null,
       "border_left": null,
       "border_right": null,
       "border_top": null,
       "bottom": null,
       "display": null,
       "flex": null,
       "flex_flow": null,
       "grid_area": null,
       "grid_auto_columns": null,
       "grid_auto_flow": null,
       "grid_auto_rows": null,
       "grid_column": null,
       "grid_gap": null,
       "grid_row": null,
       "grid_template_areas": null,
       "grid_template_columns": null,
       "grid_template_rows": null,
       "height": null,
       "justify_content": null,
       "justify_items": null,
       "left": null,
       "margin": null,
       "max_height": null,
       "max_width": null,
       "min_height": null,
       "min_width": null,
       "object_fit": null,
       "object_position": null,
       "order": null,
       "overflow": null,
       "padding": null,
       "right": null,
       "top": null,
       "visibility": null,
       "width": null
      }
     },
     "85070413932a4775bf477b5406db6e62": {
      "model_module": "@jupyter-widgets/controls",
      "model_module_version": "2.0.0",
      "model_name": "FloatProgressModel",
      "state": {
       "_dom_classes": [],
       "_model_module": "@jupyter-widgets/controls",
       "_model_module_version": "2.0.0",
       "_model_name": "FloatProgressModel",
       "_view_count": null,
       "_view_module": "@jupyter-widgets/controls",
       "_view_module_version": "2.0.0",
       "_view_name": "ProgressView",
       "bar_style": "success",
       "description": "",
       "description_allow_html": false,
       "layout": "IPY_MODEL_0f03bafa5ef94fd894ca32f5c3f80a7f",
       "max": 94073,
       "min": 0,
       "orientation": "horizontal",
       "style": "IPY_MODEL_5a9d3a5180ef43b1be53c0595e237b85",
       "tabbable": null,
       "tooltip": null,
       "value": 94073
      }
     },
     "92528eb0c00c48f9b4574f933dae9fcb": {
      "model_module": "@jupyter-widgets/controls",
      "model_module_version": "2.0.0",
      "model_name": "FloatProgressModel",
      "state": {
       "_dom_classes": [],
       "_model_module": "@jupyter-widgets/controls",
       "_model_module_version": "2.0.0",
       "_model_name": "FloatProgressModel",
       "_view_count": null,
       "_view_module": "@jupyter-widgets/controls",
       "_view_module_version": "2.0.0",
       "_view_name": "ProgressView",
       "bar_style": "success",
       "description": "",
       "description_allow_html": false,
       "layout": "IPY_MODEL_f100d46527294a90baf57151112bf722",
       "max": 94073,
       "min": 0,
       "orientation": "horizontal",
       "style": "IPY_MODEL_be541068d45b44479e42cee9bb55a4a3",
       "tabbable": null,
       "tooltip": null,
       "value": 94073
      }
     },
     "94c1c4c9d64241aab99fa20cc8102043": {
      "model_module": "@jupyter-widgets/base",
      "model_module_version": "2.0.0",
      "model_name": "LayoutModel",
      "state": {
       "_model_module": "@jupyter-widgets/base",
       "_model_module_version": "2.0.0",
       "_model_name": "LayoutModel",
       "_view_count": null,
       "_view_module": "@jupyter-widgets/base",
       "_view_module_version": "2.0.0",
       "_view_name": "LayoutView",
       "align_content": null,
       "align_items": null,
       "align_self": null,
       "border_bottom": null,
       "border_left": null,
       "border_right": null,
       "border_top": null,
       "bottom": null,
       "display": null,
       "flex": null,
       "flex_flow": null,
       "grid_area": null,
       "grid_auto_columns": null,
       "grid_auto_flow": null,
       "grid_auto_rows": null,
       "grid_column": null,
       "grid_gap": null,
       "grid_row": null,
       "grid_template_areas": null,
       "grid_template_columns": null,
       "grid_template_rows": null,
       "height": null,
       "justify_content": null,
       "justify_items": null,
       "left": null,
       "margin": null,
       "max_height": null,
       "max_width": null,
       "min_height": null,
       "min_width": null,
       "object_fit": null,
       "object_position": null,
       "order": null,
       "overflow": null,
       "padding": null,
       "right": null,
       "top": null,
       "visibility": null,
       "width": null
      }
     },
     "9a5537723fb54f8dada4fcd8e89ddfa7": {
      "model_module": "@jupyter-widgets/base",
      "model_module_version": "2.0.0",
      "model_name": "LayoutModel",
      "state": {
       "_model_module": "@jupyter-widgets/base",
       "_model_module_version": "2.0.0",
       "_model_name": "LayoutModel",
       "_view_count": null,
       "_view_module": "@jupyter-widgets/base",
       "_view_module_version": "2.0.0",
       "_view_name": "LayoutView",
       "align_content": null,
       "align_items": null,
       "align_self": null,
       "border_bottom": null,
       "border_left": null,
       "border_right": null,
       "border_top": null,
       "bottom": null,
       "display": null,
       "flex": null,
       "flex_flow": null,
       "grid_area": null,
       "grid_auto_columns": null,
       "grid_auto_flow": null,
       "grid_auto_rows": null,
       "grid_column": null,
       "grid_gap": null,
       "grid_row": null,
       "grid_template_areas": null,
       "grid_template_columns": null,
       "grid_template_rows": null,
       "height": null,
       "justify_content": null,
       "justify_items": null,
       "left": null,
       "margin": null,
       "max_height": null,
       "max_width": null,
       "min_height": null,
       "min_width": null,
       "object_fit": null,
       "object_position": null,
       "order": null,
       "overflow": null,
       "padding": null,
       "right": null,
       "top": null,
       "visibility": null,
       "width": null
      }
     },
     "9b36159b2a674d6896d72feddf221371": {
      "model_module": "@jupyter-widgets/controls",
      "model_module_version": "2.0.0",
      "model_name": "HTMLModel",
      "state": {
       "_dom_classes": [],
       "_model_module": "@jupyter-widgets/controls",
       "_model_module_version": "2.0.0",
       "_model_name": "HTMLModel",
       "_view_count": null,
       "_view_module": "@jupyter-widgets/controls",
       "_view_module_version": "2.0.0",
       "_view_name": "HTMLView",
       "description": "",
       "description_allow_html": false,
       "layout": "IPY_MODEL_2ecd93ba0b2945b4919a596e83274158",
       "placeholder": "​",
       "style": "IPY_MODEL_c102e15c64014fb0bed38de35eeaa1dd",
       "tabbable": null,
       "tooltip": null,
       "value": "Map: 100%"
      }
     },
     "9f763c8b675640c191e02bb47e8561b2": {
      "model_module": "@jupyter-widgets/base",
      "model_module_version": "2.0.0",
      "model_name": "LayoutModel",
      "state": {
       "_model_module": "@jupyter-widgets/base",
       "_model_module_version": "2.0.0",
       "_model_name": "LayoutModel",
       "_view_count": null,
       "_view_module": "@jupyter-widgets/base",
       "_view_module_version": "2.0.0",
       "_view_name": "LayoutView",
       "align_content": null,
       "align_items": null,
       "align_self": null,
       "border_bottom": null,
       "border_left": null,
       "border_right": null,
       "border_top": null,
       "bottom": null,
       "display": null,
       "flex": null,
       "flex_flow": null,
       "grid_area": null,
       "grid_auto_columns": null,
       "grid_auto_flow": null,
       "grid_auto_rows": null,
       "grid_column": null,
       "grid_gap": null,
       "grid_row": null,
       "grid_template_areas": null,
       "grid_template_columns": null,
       "grid_template_rows": null,
       "height": null,
       "justify_content": null,
       "justify_items": null,
       "left": null,
       "margin": null,
       "max_height": null,
       "max_width": null,
       "min_height": null,
       "min_width": null,
       "object_fit": null,
       "object_position": null,
       "order": null,
       "overflow": null,
       "padding": null,
       "right": null,
       "top": null,
       "visibility": null,
       "width": null
      }
     },
     "9f825d1c5ddc473dbbd3d185104619e0": {
      "model_module": "@jupyter-widgets/controls",
      "model_module_version": "2.0.0",
      "model_name": "HBoxModel",
      "state": {
       "_dom_classes": [],
       "_model_module": "@jupyter-widgets/controls",
       "_model_module_version": "2.0.0",
       "_model_name": "HBoxModel",
       "_view_count": null,
       "_view_module": "@jupyter-widgets/controls",
       "_view_module_version": "2.0.0",
       "_view_name": "HBoxView",
       "box_style": "",
       "children": [
        "IPY_MODEL_4d42b881ce6045b691c382bce74d319a",
        "IPY_MODEL_92528eb0c00c48f9b4574f933dae9fcb",
        "IPY_MODEL_090a580557564dd1944d4fe9e72179c9"
       ],
       "layout": "IPY_MODEL_94c1c4c9d64241aab99fa20cc8102043",
       "tabbable": null,
       "tooltip": null
      }
     },
     "b67aa32b814d42f09fba5c8b26f061fe": {
      "model_module": "@jupyter-widgets/controls",
      "model_module_version": "2.0.0",
      "model_name": "FloatProgressModel",
      "state": {
       "_dom_classes": [],
       "_model_module": "@jupyter-widgets/controls",
       "_model_module_version": "2.0.0",
       "_model_name": "FloatProgressModel",
       "_view_count": null,
       "_view_module": "@jupyter-widgets/controls",
       "_view_module_version": "2.0.0",
       "_view_name": "ProgressView",
       "bar_style": "success",
       "description": "",
       "description_allow_html": false,
       "layout": "IPY_MODEL_6006e7f6032d4625920df268ca8de9ea",
       "max": 23519,
       "min": 0,
       "orientation": "horizontal",
       "style": "IPY_MODEL_518d9ce8af66415db6f632af71f83bbd",
       "tabbable": null,
       "tooltip": null,
       "value": 23519
      }
     },
     "be541068d45b44479e42cee9bb55a4a3": {
      "model_module": "@jupyter-widgets/controls",
      "model_module_version": "2.0.0",
      "model_name": "ProgressStyleModel",
      "state": {
       "_model_module": "@jupyter-widgets/controls",
       "_model_module_version": "2.0.0",
       "_model_name": "ProgressStyleModel",
       "_view_count": null,
       "_view_module": "@jupyter-widgets/base",
       "_view_module_version": "2.0.0",
       "_view_name": "StyleView",
       "bar_color": null,
       "description_width": ""
      }
     },
     "c102e15c64014fb0bed38de35eeaa1dd": {
      "model_module": "@jupyter-widgets/controls",
      "model_module_version": "2.0.0",
      "model_name": "HTMLStyleModel",
      "state": {
       "_model_module": "@jupyter-widgets/controls",
       "_model_module_version": "2.0.0",
       "_model_name": "HTMLStyleModel",
       "_view_count": null,
       "_view_module": "@jupyter-widgets/base",
       "_view_module_version": "2.0.0",
       "_view_name": "StyleView",
       "background": null,
       "description_width": "",
       "font_size": null,
       "text_color": null
      }
     },
     "c5971674a63f4cc380c0eadf13310182": {
      "model_module": "@jupyter-widgets/controls",
      "model_module_version": "2.0.0",
      "model_name": "HTMLStyleModel",
      "state": {
       "_model_module": "@jupyter-widgets/controls",
       "_model_module_version": "2.0.0",
       "_model_name": "HTMLStyleModel",
       "_view_count": null,
       "_view_module": "@jupyter-widgets/base",
       "_view_module_version": "2.0.0",
       "_view_name": "StyleView",
       "background": null,
       "description_width": "",
       "font_size": null,
       "text_color": null
      }
     },
     "c8035133cfa34fe48bc30a7586f7c46c": {
      "model_module": "@jupyter-widgets/controls",
      "model_module_version": "2.0.0",
      "model_name": "HBoxModel",
      "state": {
       "_dom_classes": [],
       "_model_module": "@jupyter-widgets/controls",
       "_model_module_version": "2.0.0",
       "_model_name": "HBoxModel",
       "_view_count": null,
       "_view_module": "@jupyter-widgets/controls",
       "_view_module_version": "2.0.0",
       "_view_name": "HBoxView",
       "box_style": "",
       "children": [
        "IPY_MODEL_9b36159b2a674d6896d72feddf221371",
        "IPY_MODEL_85070413932a4775bf477b5406db6e62",
        "IPY_MODEL_0fdb03c1302f4fb8890e7c57b09574ca"
       ],
       "layout": "IPY_MODEL_840dc521300642b399ddf6b96765513e",
       "tabbable": null,
       "tooltip": null
      }
     },
     "cfd01479890042ea905299b9efcf7aeb": {
      "model_module": "@jupyter-widgets/controls",
      "model_module_version": "2.0.0",
      "model_name": "HTMLModel",
      "state": {
       "_dom_classes": [],
       "_model_module": "@jupyter-widgets/controls",
       "_model_module_version": "2.0.0",
       "_model_name": "HTMLModel",
       "_view_count": null,
       "_view_module": "@jupyter-widgets/controls",
       "_view_module_version": "2.0.0",
       "_view_name": "HTMLView",
       "description": "",
       "description_allow_html": false,
       "layout": "IPY_MODEL_764604f7679b481783b4bc621d3a8d90",
       "placeholder": "​",
       "style": "IPY_MODEL_0e02992c4c334264afb2fa6773471eb7",
       "tabbable": null,
       "tooltip": null,
       "value": " 23519/23519 [00:34&lt;00:00, 688.92 examples/s]"
      }
     },
     "cfe5b1bc195d446ea84d5d5aa5b3e071": {
      "model_module": "@jupyter-widgets/controls",
      "model_module_version": "2.0.0",
      "model_name": "HTMLStyleModel",
      "state": {
       "_model_module": "@jupyter-widgets/controls",
       "_model_module_version": "2.0.0",
       "_model_name": "HTMLStyleModel",
       "_view_count": null,
       "_view_module": "@jupyter-widgets/base",
       "_view_module_version": "2.0.0",
       "_view_name": "StyleView",
       "background": null,
       "description_width": "",
       "font_size": null,
       "text_color": null
      }
     },
     "cffb6b30ad2a4466b140cce2a9685358": {
      "model_module": "@jupyter-widgets/base",
      "model_module_version": "2.0.0",
      "model_name": "LayoutModel",
      "state": {
       "_model_module": "@jupyter-widgets/base",
       "_model_module_version": "2.0.0",
       "_model_name": "LayoutModel",
       "_view_count": null,
       "_view_module": "@jupyter-widgets/base",
       "_view_module_version": "2.0.0",
       "_view_name": "LayoutView",
       "align_content": null,
       "align_items": null,
       "align_self": null,
       "border_bottom": null,
       "border_left": null,
       "border_right": null,
       "border_top": null,
       "bottom": null,
       "display": null,
       "flex": null,
       "flex_flow": null,
       "grid_area": null,
       "grid_auto_columns": null,
       "grid_auto_flow": null,
       "grid_auto_rows": null,
       "grid_column": null,
       "grid_gap": null,
       "grid_row": null,
       "grid_template_areas": null,
       "grid_template_columns": null,
       "grid_template_rows": null,
       "height": null,
       "justify_content": null,
       "justify_items": null,
       "left": null,
       "margin": null,
       "max_height": null,
       "max_width": null,
       "min_height": null,
       "min_width": null,
       "object_fit": null,
       "object_position": null,
       "order": null,
       "overflow": null,
       "padding": null,
       "right": null,
       "top": null,
       "visibility": null,
       "width": null
      }
     },
     "d625a4f68c1e44a6b7669c6aaa1af123": {
      "model_module": "@jupyter-widgets/controls",
      "model_module_version": "2.0.0",
      "model_name": "HTMLModel",
      "state": {
       "_dom_classes": [],
       "_model_module": "@jupyter-widgets/controls",
       "_model_module_version": "2.0.0",
       "_model_name": "HTMLModel",
       "_view_count": null,
       "_view_module": "@jupyter-widgets/controls",
       "_view_module_version": "2.0.0",
       "_view_name": "HTMLView",
       "description": "",
       "description_allow_html": false,
       "layout": "IPY_MODEL_0bb951b1a77c4a87914ef6d39cf47147",
       "placeholder": "​",
       "style": "IPY_MODEL_4ba974e8f67b4d0e990445e20cf0bca4",
       "tabbable": null,
       "tooltip": null,
       "value": " 23519/23519 [00:02&lt;00:00, 18467.72 examples/s]"
      }
     },
     "da027a18d3b6455085fb4022fa5e3197": {
      "model_module": "@jupyter-widgets/controls",
      "model_module_version": "2.0.0",
      "model_name": "HTMLStyleModel",
      "state": {
       "_model_module": "@jupyter-widgets/controls",
       "_model_module_version": "2.0.0",
       "_model_name": "HTMLStyleModel",
       "_view_count": null,
       "_view_module": "@jupyter-widgets/base",
       "_view_module_version": "2.0.0",
       "_view_name": "StyleView",
       "background": null,
       "description_width": "",
       "font_size": null,
       "text_color": null
      }
     },
     "e306b59f2fea46c7afcf822a0f38ef71": {
      "model_module": "@jupyter-widgets/controls",
      "model_module_version": "2.0.0",
      "model_name": "HBoxModel",
      "state": {
       "_dom_classes": [],
       "_model_module": "@jupyter-widgets/controls",
       "_model_module_version": "2.0.0",
       "_model_name": "HBoxModel",
       "_view_count": null,
       "_view_module": "@jupyter-widgets/controls",
       "_view_module_version": "2.0.0",
       "_view_name": "HBoxView",
       "box_style": "",
       "children": [
        "IPY_MODEL_43d3ad5c3a5a47598e4fd97aa502f012",
        "IPY_MODEL_e47aa9c938064146ae3c9fb3836f6672",
        "IPY_MODEL_cfd01479890042ea905299b9efcf7aeb"
       ],
       "layout": "IPY_MODEL_9f763c8b675640c191e02bb47e8561b2",
       "tabbable": null,
       "tooltip": null
      }
     },
     "e47aa9c938064146ae3c9fb3836f6672": {
      "model_module": "@jupyter-widgets/controls",
      "model_module_version": "2.0.0",
      "model_name": "FloatProgressModel",
      "state": {
       "_dom_classes": [],
       "_model_module": "@jupyter-widgets/controls",
       "_model_module_version": "2.0.0",
       "_model_name": "FloatProgressModel",
       "_view_count": null,
       "_view_module": "@jupyter-widgets/controls",
       "_view_module_version": "2.0.0",
       "_view_name": "ProgressView",
       "bar_style": "success",
       "description": "",
       "description_allow_html": false,
       "layout": "IPY_MODEL_228d8735207e4edf90e2bd621f502b60",
       "max": 23519,
       "min": 0,
       "orientation": "horizontal",
       "style": "IPY_MODEL_45ddc22659714820abfff32eda1539c6",
       "tabbable": null,
       "tooltip": null,
       "value": 23519
      }
     },
     "e8322e6ca6834ac9b2433a21fe2c454f": {
      "model_module": "@jupyter-widgets/base",
      "model_module_version": "2.0.0",
      "model_name": "LayoutModel",
      "state": {
       "_model_module": "@jupyter-widgets/base",
       "_model_module_version": "2.0.0",
       "_model_name": "LayoutModel",
       "_view_count": null,
       "_view_module": "@jupyter-widgets/base",
       "_view_module_version": "2.0.0",
       "_view_name": "LayoutView",
       "align_content": null,
       "align_items": null,
       "align_self": null,
       "border_bottom": null,
       "border_left": null,
       "border_right": null,
       "border_top": null,
       "bottom": null,
       "display": null,
       "flex": null,
       "flex_flow": null,
       "grid_area": null,
       "grid_auto_columns": null,
       "grid_auto_flow": null,
       "grid_auto_rows": null,
       "grid_column": null,
       "grid_gap": null,
       "grid_row": null,
       "grid_template_areas": null,
       "grid_template_columns": null,
       "grid_template_rows": null,
       "height": null,
       "justify_content": null,
       "justify_items": null,
       "left": null,
       "margin": null,
       "max_height": null,
       "max_width": null,
       "min_height": null,
       "min_width": null,
       "object_fit": null,
       "object_position": null,
       "order": null,
       "overflow": null,
       "padding": null,
       "right": null,
       "top": null,
       "visibility": null,
       "width": null
      }
     },
     "eb0b63aecbba432e91119684f1d4a934": {
      "model_module": "@jupyter-widgets/controls",
      "model_module_version": "2.0.0",
      "model_name": "HTMLStyleModel",
      "state": {
       "_model_module": "@jupyter-widgets/controls",
       "_model_module_version": "2.0.0",
       "_model_name": "HTMLStyleModel",
       "_view_count": null,
       "_view_module": "@jupyter-widgets/base",
       "_view_module_version": "2.0.0",
       "_view_name": "StyleView",
       "background": null,
       "description_width": "",
       "font_size": null,
       "text_color": null
      }
     },
     "f100d46527294a90baf57151112bf722": {
      "model_module": "@jupyter-widgets/base",
      "model_module_version": "2.0.0",
      "model_name": "LayoutModel",
      "state": {
       "_model_module": "@jupyter-widgets/base",
       "_model_module_version": "2.0.0",
       "_model_name": "LayoutModel",
       "_view_count": null,
       "_view_module": "@jupyter-widgets/base",
       "_view_module_version": "2.0.0",
       "_view_name": "LayoutView",
       "align_content": null,
       "align_items": null,
       "align_self": null,
       "border_bottom": null,
       "border_left": null,
       "border_right": null,
       "border_top": null,
       "bottom": null,
       "display": null,
       "flex": null,
       "flex_flow": null,
       "grid_area": null,
       "grid_auto_columns": null,
       "grid_auto_flow": null,
       "grid_auto_rows": null,
       "grid_column": null,
       "grid_gap": null,
       "grid_row": null,
       "grid_template_areas": null,
       "grid_template_columns": null,
       "grid_template_rows": null,
       "height": null,
       "justify_content": null,
       "justify_items": null,
       "left": null,
       "margin": null,
       "max_height": null,
       "max_width": null,
       "min_height": null,
       "min_width": null,
       "object_fit": null,
       "object_position": null,
       "order": null,
       "overflow": null,
       "padding": null,
       "right": null,
       "top": null,
       "visibility": null,
       "width": null
      }
     }
    },
    "version_major": 2,
    "version_minor": 0
   }
  }
 },
 "nbformat": 4,
 "nbformat_minor": 5
}
