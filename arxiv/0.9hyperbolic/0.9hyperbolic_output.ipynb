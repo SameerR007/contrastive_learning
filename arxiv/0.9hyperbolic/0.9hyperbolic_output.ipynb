{
 "cells": [
  {
   "cell_type": "code",
   "execution_count": 1,
   "id": "c643a105",
   "metadata": {
    "execution": {
     "iopub.execute_input": "2025-02-11T23:25:50.265629Z",
     "iopub.status.busy": "2025-02-11T23:25:50.265376Z",
     "iopub.status.idle": "2025-02-11T23:25:57.059990Z",
     "shell.execute_reply": "2025-02-11T23:25:57.059524Z"
    },
    "papermill": {
     "duration": 6.803946,
     "end_time": "2025-02-11T23:25:57.060825",
     "exception": false,
     "start_time": "2025-02-11T23:25:50.256879",
     "status": "completed"
    },
    "tags": []
   },
   "outputs": [],
   "source": [
    "from datasets import load_dataset"
   ]
  },
  {
   "cell_type": "code",
   "execution_count": 2,
   "id": "bcba0194",
   "metadata": {
    "execution": {
     "iopub.execute_input": "2025-02-11T23:25:57.074455Z",
     "iopub.status.busy": "2025-02-11T23:25:57.074206Z",
     "iopub.status.idle": "2025-02-11T23:26:00.620292Z",
     "shell.execute_reply": "2025-02-11T23:26:00.619869Z"
    },
    "papermill": {
     "duration": 3.552977,
     "end_time": "2025-02-11T23:26:00.621201",
     "exception": false,
     "start_time": "2025-02-11T23:25:57.068224",
     "status": "completed"
    },
    "tags": []
   },
   "outputs": [],
   "source": [
    "dataset = load_dataset(\"CShorten/ML-ArXiv-Papers\")"
   ]
  },
  {
   "cell_type": "code",
   "execution_count": 3,
   "id": "9c77ff31",
   "metadata": {
    "execution": {
     "iopub.execute_input": "2025-02-11T23:26:00.631999Z",
     "iopub.status.busy": "2025-02-11T23:26:00.631865Z",
     "iopub.status.idle": "2025-02-11T23:26:00.636539Z",
     "shell.execute_reply": "2025-02-11T23:26:00.636165Z"
    },
    "papermill": {
     "duration": 0.010662,
     "end_time": "2025-02-11T23:26:00.637204",
     "exception": false,
     "start_time": "2025-02-11T23:26:00.626542",
     "status": "completed"
    },
    "tags": []
   },
   "outputs": [
    {
     "data": {
      "text/plain": [
       "DatasetDict({\n",
       "    train: Dataset({\n",
       "        features: ['Unnamed: 0.1', 'Unnamed: 0', 'title', 'abstract'],\n",
       "        num_rows: 117592\n",
       "    })\n",
       "})"
      ]
     },
     "execution_count": 3,
     "metadata": {},
     "output_type": "execute_result"
    }
   ],
   "source": [
    "dataset"
   ]
  },
  {
   "cell_type": "code",
   "execution_count": 4,
   "id": "04a2a273",
   "metadata": {
    "execution": {
     "iopub.execute_input": "2025-02-11T23:26:00.647835Z",
     "iopub.status.busy": "2025-02-11T23:26:00.647707Z",
     "iopub.status.idle": "2025-02-11T23:26:00.690487Z",
     "shell.execute_reply": "2025-02-11T23:26:00.690088Z"
    },
    "papermill": {
     "duration": 0.048936,
     "end_time": "2025-02-11T23:26:00.691182",
     "exception": false,
     "start_time": "2025-02-11T23:26:00.642246",
     "status": "completed"
    },
    "tags": []
   },
   "outputs": [],
   "source": [
    "split_datasets = dataset[\"train\"].train_test_split(test_size=0.2)"
   ]
  },
  {
   "cell_type": "code",
   "execution_count": 5,
   "id": "9dbe1eb6",
   "metadata": {
    "execution": {
     "iopub.execute_input": "2025-02-11T23:26:00.701594Z",
     "iopub.status.busy": "2025-02-11T23:26:00.701461Z",
     "iopub.status.idle": "2025-02-11T23:26:00.704807Z",
     "shell.execute_reply": "2025-02-11T23:26:00.704229Z"
    },
    "papermill": {
     "duration": 0.009295,
     "end_time": "2025-02-11T23:26:00.705451",
     "exception": false,
     "start_time": "2025-02-11T23:26:00.696156",
     "status": "completed"
    },
    "tags": []
   },
   "outputs": [
    {
     "data": {
      "text/plain": [
       "DatasetDict({\n",
       "    train: Dataset({\n",
       "        features: ['Unnamed: 0.1', 'Unnamed: 0', 'title', 'abstract'],\n",
       "        num_rows: 94073\n",
       "    })\n",
       "    test: Dataset({\n",
       "        features: ['Unnamed: 0.1', 'Unnamed: 0', 'title', 'abstract'],\n",
       "        num_rows: 23519\n",
       "    })\n",
       "})"
      ]
     },
     "execution_count": 5,
     "metadata": {},
     "output_type": "execute_result"
    }
   ],
   "source": [
    "split_datasets"
   ]
  },
  {
   "cell_type": "code",
   "execution_count": 6,
   "id": "3e518138",
   "metadata": {
    "execution": {
     "iopub.execute_input": "2025-02-11T23:26:00.716381Z",
     "iopub.status.busy": "2025-02-11T23:26:00.716057Z",
     "iopub.status.idle": "2025-02-11T23:26:00.718371Z",
     "shell.execute_reply": "2025-02-11T23:26:00.718008Z"
    },
    "papermill": {
     "duration": 0.008384,
     "end_time": "2025-02-11T23:26:00.719001",
     "exception": false,
     "start_time": "2025-02-11T23:26:00.710617",
     "status": "completed"
    },
    "tags": []
   },
   "outputs": [],
   "source": [
    "dataset_train = split_datasets[\"train\"]"
   ]
  },
  {
   "cell_type": "code",
   "execution_count": 7,
   "id": "0f892510",
   "metadata": {
    "execution": {
     "iopub.execute_input": "2025-02-11T23:26:00.729668Z",
     "iopub.status.busy": "2025-02-11T23:26:00.729543Z",
     "iopub.status.idle": "2025-02-11T23:26:00.732629Z",
     "shell.execute_reply": "2025-02-11T23:26:00.732264Z"
    },
    "papermill": {
     "duration": 0.009126,
     "end_time": "2025-02-11T23:26:00.733276",
     "exception": false,
     "start_time": "2025-02-11T23:26:00.724150",
     "status": "completed"
    },
    "tags": []
   },
   "outputs": [
    {
     "data": {
      "text/plain": [
       "Dataset({\n",
       "    features: ['Unnamed: 0.1', 'Unnamed: 0', 'title', 'abstract'],\n",
       "    num_rows: 94073\n",
       "})"
      ]
     },
     "execution_count": 7,
     "metadata": {},
     "output_type": "execute_result"
    }
   ],
   "source": [
    "dataset_train"
   ]
  },
  {
   "cell_type": "code",
   "execution_count": 8,
   "id": "135d2875",
   "metadata": {
    "execution": {
     "iopub.execute_input": "2025-02-11T23:26:00.744297Z",
     "iopub.status.busy": "2025-02-11T23:26:00.744163Z",
     "iopub.status.idle": "2025-02-11T23:26:00.747368Z",
     "shell.execute_reply": "2025-02-11T23:26:00.747032Z"
    },
    "papermill": {
     "duration": 0.00931,
     "end_time": "2025-02-11T23:26:00.747904",
     "exception": false,
     "start_time": "2025-02-11T23:26:00.738594",
     "status": "completed"
    },
    "tags": []
   },
   "outputs": [],
   "source": [
    "dataset_train = dataset_train.remove_columns(['Unnamed: 0','Unnamed: 0.1'])"
   ]
  },
  {
   "cell_type": "code",
   "execution_count": 9,
   "id": "cbcdbc4c",
   "metadata": {
    "execution": {
     "iopub.execute_input": "2025-02-11T23:26:00.758946Z",
     "iopub.status.busy": "2025-02-11T23:26:00.758776Z",
     "iopub.status.idle": "2025-02-11T23:26:00.761381Z",
     "shell.execute_reply": "2025-02-11T23:26:00.761060Z"
    },
    "papermill": {
     "duration": 0.008756,
     "end_time": "2025-02-11T23:26:00.761923",
     "exception": false,
     "start_time": "2025-02-11T23:26:00.753167",
     "status": "completed"
    },
    "tags": []
   },
   "outputs": [
    {
     "data": {
      "text/plain": [
       "Dataset({\n",
       "    features: ['title', 'abstract'],\n",
       "    num_rows: 94073\n",
       "})"
      ]
     },
     "execution_count": 9,
     "metadata": {},
     "output_type": "execute_result"
    }
   ],
   "source": [
    "dataset_train"
   ]
  },
  {
   "cell_type": "code",
   "execution_count": 10,
   "id": "1c3dbc53",
   "metadata": {
    "execution": {
     "iopub.execute_input": "2025-02-11T23:26:00.772865Z",
     "iopub.status.busy": "2025-02-11T23:26:00.772742Z",
     "iopub.status.idle": "2025-02-11T23:26:00.776009Z",
     "shell.execute_reply": "2025-02-11T23:26:00.775676Z"
    },
    "papermill": {
     "duration": 0.009338,
     "end_time": "2025-02-11T23:26:00.776572",
     "exception": false,
     "start_time": "2025-02-11T23:26:00.767234",
     "status": "completed"
    },
    "tags": []
   },
   "outputs": [
    {
     "data": {
      "text/plain": [
       "{'title': 'Catching Up Faster by Switching Sooner: A Prequential Solution to the\\n  AIC-BIC Dilemma',\n",
       " 'abstract': '  Bayesian model averaging, model selection and its approximations such as BIC\\nare generally statistically consistent, but sometimes achieve slower rates og\\nconvergence than other methods such as AIC and leave-one-out cross-validation.\\nOn the other hand, these other methods can br inconsistent. We identify the\\n\"catch-up phenomenon\" as a novel explanation for the slow convergence of\\nBayesian methods. Based on this analysis we define the switch distribution, a\\nmodification of the Bayesian marginal distribution. We show that, under broad\\nconditions,model selection and prediction based on the switch distribution is\\nboth consistent and achieves optimal convergence rates, thereby resolving the\\nAIC-BIC dilemma. The method is practical; we give an efficient implementation.\\nThe switch distribution has a data compression interpretation, and can thus be\\nviewed as a \"prequential\" or MDL method; yet it is different from the MDL\\nmethods that are usually considered in the literature. We compare the switch\\ndistribution to Bayes factor model selection and leave-one-out\\ncross-validation.\\n'}"
      ]
     },
     "execution_count": 10,
     "metadata": {},
     "output_type": "execute_result"
    }
   ],
   "source": [
    "dataset_train[0]"
   ]
  },
  {
   "cell_type": "code",
   "execution_count": 11,
   "id": "045e63c7",
   "metadata": {
    "execution": {
     "iopub.execute_input": "2025-02-11T23:26:00.788069Z",
     "iopub.status.busy": "2025-02-11T23:26:00.787945Z",
     "iopub.status.idle": "2025-02-11T23:26:05.603969Z",
     "shell.execute_reply": "2025-02-11T23:26:05.603526Z"
    },
    "papermill": {
     "duration": 4.822597,
     "end_time": "2025-02-11T23:26:05.604658",
     "exception": false,
     "start_time": "2025-02-11T23:26:00.782061",
     "status": "completed"
    },
    "tags": []
   },
   "outputs": [
    {
     "data": {
      "application/vnd.jupyter.widget-view+json": {
       "model_id": "478314d3669146aba73f77e7c83fba89",
       "version_major": 2,
       "version_minor": 0
      },
      "text/plain": [
       "Map:   0%|          | 0/94073 [00:00<?, ? examples/s]"
      ]
     },
     "metadata": {},
     "output_type": "display_data"
    }
   ],
   "source": [
    "dataset_train = dataset_train.map(lambda x, idx: { 'index': idx }, with_indices=True)"
   ]
  },
  {
   "cell_type": "code",
   "execution_count": 12,
   "id": "f4e9748a",
   "metadata": {
    "execution": {
     "iopub.execute_input": "2025-02-11T23:26:05.618312Z",
     "iopub.status.busy": "2025-02-11T23:26:05.618170Z",
     "iopub.status.idle": "2025-02-11T23:26:05.621578Z",
     "shell.execute_reply": "2025-02-11T23:26:05.621212Z"
    },
    "papermill": {
     "duration": 0.009923,
     "end_time": "2025-02-11T23:26:05.622244",
     "exception": false,
     "start_time": "2025-02-11T23:26:05.612321",
     "status": "completed"
    },
    "tags": []
   },
   "outputs": [
    {
     "data": {
      "text/plain": [
       "Dataset({\n",
       "    features: ['title', 'abstract', 'index'],\n",
       "    num_rows: 94073\n",
       "})"
      ]
     },
     "execution_count": 12,
     "metadata": {},
     "output_type": "execute_result"
    }
   ],
   "source": [
    "dataset_train"
   ]
  },
  {
   "cell_type": "code",
   "execution_count": 13,
   "id": "69efe8a2",
   "metadata": {
    "execution": {
     "iopub.execute_input": "2025-02-11T23:26:05.633907Z",
     "iopub.status.busy": "2025-02-11T23:26:05.633651Z",
     "iopub.status.idle": "2025-02-11T23:26:05.636995Z",
     "shell.execute_reply": "2025-02-11T23:26:05.636628Z"
    },
    "papermill": {
     "duration": 0.009802,
     "end_time": "2025-02-11T23:26:05.637648",
     "exception": false,
     "start_time": "2025-02-11T23:26:05.627846",
     "status": "completed"
    },
    "tags": []
   },
   "outputs": [
    {
     "data": {
      "text/plain": [
       "{'title': 'An Experimental Design Perspective on Model-Based Reinforcement Learning',\n",
       " 'abstract': '  In many practical applications of RL, it is expensive to observe state\\ntransitions from the environment. For example, in the problem of plasma control\\nfor nuclear fusion, computing the next state for a given state-action pair\\nrequires querying an expensive transition function which can lead to many hours\\nof computer simulation or dollars of scientific research. Such expensive data\\ncollection prohibits application of standard RL algorithms which usually\\nrequire a large number of observations to learn. In this work, we address the\\nproblem of efficiently learning a policy while making a minimal number of\\nstate-action queries to the transition function. In particular, we leverage\\nideas from Bayesian optimal experimental design to guide the selection of\\nstate-action queries for efficient learning. We propose an acquisition function\\nthat quantifies how much information a state-action pair would provide about\\nthe optimal solution to a Markov decision process. At each iteration, our\\nalgorithm maximizes this acquisition function, to choose the most informative\\nstate-action pair to be queried, thus yielding a data-efficient RL approach. We\\nexperiment with a variety of simulated continuous control problems and show\\nthat our approach learns an optimal policy with up to $5$ -- $1,000\\\\times$ less\\ndata than model-based RL baselines and $10^3$ -- $10^5\\\\times$ less data than\\nmodel-free RL baselines. We also provide several ablated comparisons which\\npoint to substantial improvements arising from the principled method of\\nobtaining data.\\n',\n",
       " 'index': 4}"
      ]
     },
     "execution_count": 13,
     "metadata": {},
     "output_type": "execute_result"
    }
   ],
   "source": [
    "dataset_train[4]"
   ]
  },
  {
   "cell_type": "code",
   "execution_count": 14,
   "id": "63f1c92e",
   "metadata": {
    "execution": {
     "iopub.execute_input": "2025-02-11T23:26:05.649699Z",
     "iopub.status.busy": "2025-02-11T23:26:05.649424Z",
     "iopub.status.idle": "2025-02-11T23:26:05.652651Z",
     "shell.execute_reply": "2025-02-11T23:26:05.652281Z"
    },
    "papermill": {
     "duration": 0.009957,
     "end_time": "2025-02-11T23:26:05.653278",
     "exception": false,
     "start_time": "2025-02-11T23:26:05.643321",
     "status": "completed"
    },
    "tags": []
   },
   "outputs": [
    {
     "data": {
      "text/plain": [
       "{'title': 'Efficient Motion Planning for Automated Lane Change based on Imitation\\n  Learning and Mixed-Integer Optimization',\n",
       " 'abstract': '  Intelligent motion planning is one of the core components in automated\\nvehicles, which has received extensive interests. Traditional motion planning\\nmethods suffer from several drawbacks in terms of optimality, efficiency and\\ngeneralization capability. Sampling based methods cannot guarantee the\\noptimality of the generated trajectories. Whereas the optimization-based\\nmethods are not able to perform motion planning in real-time, and limited by\\nthe simplified formalization. In this work, we propose a learning-based\\napproach to handle those shortcomings. Mixed Integer Quadratic Problem based\\noptimization (MIQP) is used to generate the optimal lane-change trajectories\\nwhich served as the training dataset for learning-based action generation\\nalgorithms. A hierarchical supervised learning model is devised to make the\\nfast lane-change decision. Numerous experiments have been conducted to evaluate\\nthe optimality, efficiency, and generalization capability of the proposed\\napproach. The experimental results indicate that the proposed model outperforms\\nseveral commonly used motion planning baselines.\\n',\n",
       " 'index': 20572}"
      ]
     },
     "execution_count": 14,
     "metadata": {},
     "output_type": "execute_result"
    }
   ],
   "source": [
    "dataset_train[20572]"
   ]
  },
  {
   "cell_type": "code",
   "execution_count": 15,
   "id": "e9993947",
   "metadata": {
    "execution": {
     "iopub.execute_input": "2025-02-11T23:26:05.665204Z",
     "iopub.status.busy": "2025-02-11T23:26:05.665081Z",
     "iopub.status.idle": "2025-02-11T23:26:05.713642Z",
     "shell.execute_reply": "2025-02-11T23:26:05.713220Z"
    },
    "papermill": {
     "duration": 0.055211,
     "end_time": "2025-02-11T23:26:05.714275",
     "exception": false,
     "start_time": "2025-02-11T23:26:05.659064",
     "status": "completed"
    },
    "tags": []
   },
   "outputs": [],
   "source": [
    "import numpy as np\n",
    "all_indexes = np.array(dataset_train['index'])"
   ]
  },
  {
   "cell_type": "code",
   "execution_count": 16,
   "id": "3c956f8e",
   "metadata": {
    "execution": {
     "iopub.execute_input": "2025-02-11T23:26:05.726404Z",
     "iopub.status.busy": "2025-02-11T23:26:05.726269Z",
     "iopub.status.idle": "2025-02-11T23:26:05.729746Z",
     "shell.execute_reply": "2025-02-11T23:26:05.729338Z"
    },
    "papermill": {
     "duration": 0.010244,
     "end_time": "2025-02-11T23:26:05.730387",
     "exception": false,
     "start_time": "2025-02-11T23:26:05.720143",
     "status": "completed"
    },
    "tags": []
   },
   "outputs": [],
   "source": [
    "import random\n",
    "\n",
    "def generate_hard_negatives(example, num_negatives=10,dataset=dataset_train):\n",
    "    query_index = example['index'] \n",
    "    anchor = example['title']\n",
    "    positive = example['abstract']\n",
    "\n",
    "    negatives = []\n",
    "    \n",
    "    negative_indexes = np.delete(all_indexes, np.where(all_indexes == query_index))\n",
    "    \n",
    "    sampled_negatives = random.sample(list(negative_indexes), num_negatives)\n",
    "    \n",
    "    for idx in sampled_negatives:\n",
    "        negatives.append(dataset[int(idx)]['abstract'])\n",
    "    \n",
    "    return {\n",
    "        \"query\": anchor,\n",
    "        \"positive\": positive,\n",
    "        \"negatives\": negatives\n",
    "    }"
   ]
  },
  {
   "cell_type": "code",
   "execution_count": 17,
   "id": "6ab12866",
   "metadata": {
    "execution": {
     "iopub.execute_input": "2025-02-11T23:26:05.742664Z",
     "iopub.status.busy": "2025-02-11T23:26:05.742418Z",
     "iopub.status.idle": "2025-02-11T23:33:56.434459Z",
     "shell.execute_reply": "2025-02-11T23:33:56.433958Z"
    },
    "papermill": {
     "duration": 470.699103,
     "end_time": "2025-02-11T23:33:56.435294",
     "exception": false,
     "start_time": "2025-02-11T23:26:05.736191",
     "status": "completed"
    },
    "tags": []
   },
   "outputs": [
    {
     "data": {
      "application/vnd.jupyter.widget-view+json": {
       "model_id": "fa1515f426534f37b9e3e70cc9ac13fe",
       "version_major": 2,
       "version_minor": 0
      },
      "text/plain": [
       "Map:   0%|          | 0/94073 [00:00<?, ? examples/s]"
      ]
     },
     "metadata": {},
     "output_type": "display_data"
    }
   ],
   "source": [
    "processed_data_train = dataset_train.map(generate_hard_negatives, remove_columns=dataset_train.column_names)"
   ]
  },
  {
   "cell_type": "code",
   "execution_count": 18,
   "id": "861c271d",
   "metadata": {
    "execution": {
     "iopub.execute_input": "2025-02-11T23:33:56.451047Z",
     "iopub.status.busy": "2025-02-11T23:33:56.450888Z",
     "iopub.status.idle": "2025-02-11T23:33:56.454690Z",
     "shell.execute_reply": "2025-02-11T23:33:56.454327Z"
    },
    "papermill": {
     "duration": 0.010974,
     "end_time": "2025-02-11T23:33:56.455250",
     "exception": false,
     "start_time": "2025-02-11T23:33:56.444276",
     "status": "completed"
    },
    "tags": []
   },
   "outputs": [
    {
     "data": {
      "text/plain": [
       "Dataset({\n",
       "    features: ['query', 'positive', 'negatives'],\n",
       "    num_rows: 94073\n",
       "})"
      ]
     },
     "execution_count": 18,
     "metadata": {},
     "output_type": "execute_result"
    }
   ],
   "source": [
    "processed_data_train"
   ]
  },
  {
   "cell_type": "code",
   "execution_count": 19,
   "id": "96368bc5",
   "metadata": {
    "execution": {
     "iopub.execute_input": "2025-02-11T23:33:56.467738Z",
     "iopub.status.busy": "2025-02-11T23:33:56.467615Z",
     "iopub.status.idle": "2025-02-11T23:33:56.470883Z",
     "shell.execute_reply": "2025-02-11T23:33:56.470554Z"
    },
    "papermill": {
     "duration": 0.010158,
     "end_time": "2025-02-11T23:33:56.471423",
     "exception": false,
     "start_time": "2025-02-11T23:33:56.461265",
     "status": "completed"
    },
    "tags": []
   },
   "outputs": [
    {
     "data": {
      "text/plain": [
       "{'query': 'Catching Up Faster by Switching Sooner: A Prequential Solution to the\\n  AIC-BIC Dilemma',\n",
       " 'positive': '  Bayesian model averaging, model selection and its approximations such as BIC\\nare generally statistically consistent, but sometimes achieve slower rates og\\nconvergence than other methods such as AIC and leave-one-out cross-validation.\\nOn the other hand, these other methods can br inconsistent. We identify the\\n\"catch-up phenomenon\" as a novel explanation for the slow convergence of\\nBayesian methods. Based on this analysis we define the switch distribution, a\\nmodification of the Bayesian marginal distribution. We show that, under broad\\nconditions,model selection and prediction based on the switch distribution is\\nboth consistent and achieves optimal convergence rates, thereby resolving the\\nAIC-BIC dilemma. The method is practical; we give an efficient implementation.\\nThe switch distribution has a data compression interpretation, and can thus be\\nviewed as a \"prequential\" or MDL method; yet it is different from the MDL\\nmethods that are usually considered in the literature. We compare the switch\\ndistribution to Bayes factor model selection and leave-one-out\\ncross-validation.\\n',\n",
       " 'negatives': ['  Text summarization aims to generate a short summary for an input text. In\\nthis work, we propose a Non-Autoregressive Unsupervised Summarization (NAUS)\\napproach, which does not require parallel data for training. Our NAUS first\\nperforms edit-based search towards a heuristically defined score, and generates\\na summary as pseudo-groundtruth. Then, we train an encoder-only\\nnon-autoregressive Transformer based on the search result. We also propose a\\ndynamic programming approach for length-control decoding, which is important\\nfor the summarization task. Experiments on two datasets show that NAUS achieves\\nstate-of-the-art performance for unsupervised summarization, yet largely\\nimproving inference efficiency. Further, our algorithm is able to perform\\nexplicit length-transfer summary generation.\\n',\n",
       "  '  Since its invention in 2014, the Adam optimizer has received tremendous\\nattention. On one hand, it has been widely used in deep learning and many\\nvariants have been proposed, while on the other hand their theoretical\\nconvergence property remains to be a mystery. It is far from satisfactory in\\nthe sense that some studies require strong assumptions about the updates, which\\nare not necessarily applicable in practice, while other studies still follow\\nthe original problematic convergence analysis of Adam, which was shown to be\\nnot sufficient to ensure convergence. Although rigorous convergence analysis\\nexists for Adam, they impose specific requirements on the update of the\\nadaptive step size, which are not generic enough to cover many other variants\\nof Adam. To address theses issues, in this extended abstract, we present a\\nsimple and generic proof of convergence for a family of Adam-style methods\\n(including Adam, AMSGrad, Adabound, etc.). Our analysis only requires an\\nincreasing or large \"momentum\" parameter for the first-order moment, which is\\nindeed the case used in practice, and a boundness condition on the adaptive\\nfactor of the step size, which applies to all variants of Adam under mild\\nconditions of stochastic gradients. We also establish a variance diminishing\\nresult for the used stochastic gradient estimators. Indeed, our analysis of\\nAdam is so simple and generic that it can be leveraged to establish the\\nconvergence for solving a broader family of non-convex optimization problems,\\nincluding min-max, compositional, and bilevel optimization problems. For the\\nfull (earlier) version of this extended abstract, please refer to\\narXiv:2104.14840.\\n',\n",
       "  '  Automatic transcriptions of consumer-generated multi-media content such as\\n\"Youtube\" videos still exhibit high word error rates. Such data typically\\noccupies a very broad domain, has been recorded in challenging conditions, with\\ncheap hardware and a focus on the visual modality, and may have been\\npost-processed or edited. In this paper, we extend our earlier work on adapting\\nthe acoustic model of a DNN-based speech recognition system to an RNN language\\nmodel and show how both can be adapted to the objects and scenes that can be\\nautomatically detected in the video. We are working on a corpus of \"how-to\"\\nvideos from the web, and the idea is that an object that can be seen (\"car\"),\\nor a scene that is being detected (\"kitchen\") can be used to condition both\\nmodels on the \"context\" of the recording, thereby reducing perplexity and\\nimproving transcription. We achieve good improvements in both cases and compare\\nand analyze the respective reductions in word error rate. We expect that our\\nresults can be used for any type of speech processing in which \"context\"\\ninformation is available, for example in robotics, man-machine interaction, or\\nwhen indexing large audio-visual archives, and should ultimately help to bring\\ntogether the \"video-to-text\" and \"speech-to-text\" communities.\\n',\n",
       "  '  We present a generalization of independent component analysis (ICA), where\\ninstead of looking for a linear transform that makes the data components\\nindependent, we look for a transform that makes the data components well fit by\\na tree-structured graphical model. Treating the problem as a semiparametric\\nstatistical problem, we show that the optimal transform is found by minimizing\\na contrast function based on mutual information, a function that directly\\nextends the contrast function used for classical ICA. We provide two\\napproximations of this contrast function, one using kernel density estimation,\\nand another using kernel generalized variance. This tree-dependent component\\nanalysis framework leads naturally to an efficient general multivariate density\\nestimation technique where only bivariate density estimation needs to be\\nperformed.\\n',\n",
       "  '  Molecular fingerprints are the workhorse in ligand-based drug discovery. In\\nrecent years, an increasing number of research papers reported fascinating\\nresults on using deep neural networks to learn 2D molecular representations as\\nfingerprints. It is anticipated that the integration of deep learning would\\nalso contribute to the prosperity of 3D fingerprints. Here, we unprecedentedly\\nintroduce deep learning into 3D small molecule fingerprints, presenting a new\\none we termed as the three-dimensional force fields fingerprint (TF3P). TF3P is\\nlearned by a deep capsular network whose training is in no need of labeled\\ndatasets for specific predictive tasks. TF3P can encode the 3D force fields\\ninformation of molecules and demonstrates the stronger ability to capture 3D\\nstructural changes, to recognize molecules alike in 3D but not in 2D, and to\\nidentify similar targets inaccessible by other 2D or 3D fingerprints based on\\nonly ligands similarity. Furthermore, TF3P is compatible with both statistical\\nmodels (e.g. similarity ensemble approach) and machine learning models.\\nAltogether, we report TF3P as a new 3D small molecule fingerprint with a\\npromising future in ligand-based drug discovery. All codes are written in\\nPython and available at https://github.com/canisw/tf3p.\\n',\n",
       "  '  We propose a sparse-coding framework for activity recognition in ubiquitous\\nand mobile computing that alleviates two fundamental problems of current\\nsupervised learning approaches. (i) It automatically derives a compact, sparse\\nand meaningful feature representation of sensor data that does not rely on\\nprior expert knowledge and generalizes extremely well across domain boundaries.\\n(ii) It exploits unlabeled sample data for bootstrapping effective activity\\nrecognizers, i.e., substantially reduces the amount of ground truth annotation\\nrequired for model estimation. Such unlabeled data is trivial to obtain, e.g.,\\nthrough contemporary smartphones carried by users as they go about their\\neveryday activities.\\n  Based on the self-taught learning paradigm we automatically derive an\\nover-complete set of basis vectors from unlabeled data that captures inherent\\npatterns present within activity data. Through projecting raw sensor data onto\\nthe feature space defined by such over-complete sets of basis vectors effective\\nfeature extraction is pursued. Given these learned feature representations,\\nclassification backends are then trained using small amounts of labeled\\ntraining data.\\n  We study the new approach in detail using two datasets which differ in terms\\nof the recognition tasks and sensor modalities. Primarily we focus on\\ntransportation mode analysis task, a popular task in mobile-phone based\\nsensing. The sparse-coding framework significantly outperforms the\\nstate-of-the-art in supervised learning approaches. Furthermore, we demonstrate\\nthe great practical potential of the new approach by successfully evaluating\\nits generalization capabilities across both domain and sensor modalities by\\nconsidering the popular Opportunity dataset. Our feature learning approach\\noutperforms state-of-the-art approaches to analyzing activities in daily\\nliving.\\n',\n",
       "  '  The back-propagation (BP) algorithm has been considered the de-facto method\\nfor training deep neural networks. It back-propagates errors from the output\\nlayer to the hidden layers in an exact manner using the transpose of the\\nfeedforward weights. However, it has been argued that this is not biologically\\nplausible because back-propagating error signals with the exact incoming\\nweights are not considered possible in biological neural systems. In this work,\\nwe propose a biologically plausible paradigm of neural architecture based on\\nrelated literature in neuroscience and asymmetric BP-like methods.\\nSpecifically, we propose two bidirectional learning algorithms with trainable\\nfeedforward and feedback weights. The feedforward weights are used to relay\\nactivations from the inputs to target outputs. The feedback weights pass the\\nerror signals from the output layer to the hidden layers. Different from other\\nasymmetric BP-like methods, the feedback weights are also plastic in our\\nframework and are trained to approximate the forward activations. Preliminary\\nresults show that our models outperform other asymmetric BP-like methods on the\\nMNIST and the CIFAR-10 datasets.\\n',\n",
       "  'We propose a new strategy for applying large pre-trained language models to\\nnovel tasks when labeled training data is limited. Rather than apply the model\\nin a typical zero-shot or few-shot fashion, we treat the model as the basis for\\nlabeling functions in a weak supervision framework. To create a classifier, we\\nfirst prompt the model to answer multiple distinct queries about an example and\\ndefine how the possible responses should be mapped to votes for labels and\\nabstentions. We then denoise these noisy label sources using the Snorkel system\\nand train an end classifier with the resulting training data. Our experimental\\nevaluation shows that prompting large language models within a weak supervision\\nframework can provide significant gains in accuracy. On the WRENCH weak\\nsupervision benchmark, this approach can significantly improve over zero-shot\\nperformance, an average 19.5% reduction in errors. We also find that this\\napproach produces classifiers with comparable or superior accuracy to those\\ntrained from hand-engineered rules.',\n",
       "  '  Bilingual word embeddings, which representlexicons of different languages in\\na shared em-bedding space, are essential for supporting se-mantic and knowledge\\ntransfers in a variety ofcross-lingual NLP tasks. Existing approachesto\\ntraining bilingual word embeddings requireoften require pre-defined seed\\nlexicons that areexpensive to obtain, or parallel sentences thatcomprise coarse\\nand noisy alignment. In con-trast, we propose BilLex that leverages pub-licly\\navailable lexical definitions for bilingualword embedding learning. Without the\\nneedof predefined seed lexicons, BilLex comprisesa novel word pairing strategy\\nto automati-cally identify and propagate the precise fine-grained word\\nalignment from lexical defini-tions. We evaluate BilLex in word-level\\nandsentence-level translation tasks, which seek tofind the cross-lingual\\ncounterparts of wordsand sentences respectively.BilLex signifi-cantly\\noutperforms previous embedding meth-ods on both tasks.\\n',\n",
       "  '  Predicting lead close rates is one of the most problematic tasks in the lead\\ngeneration industry. In most cases, the only available data on the prospect is\\nthe self-reported information inputted by the user on the lead form and a few\\nother data points publicly available through social media and search engine\\nusage. All the major market niches for lead generation [1], such as insurance,\\nhealth & medical and real estate, deal with life-altering decision making that\\nno amount of data will be ever be able to describe or predict. This paper\\nillustrates how character-level, deep long short-term memory networks can be\\napplied to raw user inputs to help predict close rates. The output of the model\\nis then used as an additional, highly predictive feature to significantly boost\\nperformance of lead scoring models.\\n']}"
      ]
     },
     "execution_count": 19,
     "metadata": {},
     "output_type": "execute_result"
    }
   ],
   "source": [
    "processed_data_train[0]"
   ]
  },
  {
   "cell_type": "code",
   "execution_count": 20,
   "id": "6188e153",
   "metadata": {
    "execution": {
     "iopub.execute_input": "2025-02-11T23:33:56.484203Z",
     "iopub.status.busy": "2025-02-11T23:33:56.484070Z",
     "iopub.status.idle": "2025-02-11T23:34:04.448967Z",
     "shell.execute_reply": "2025-02-11T23:34:04.448499Z"
    },
    "papermill": {
     "duration": 7.97205,
     "end_time": "2025-02-11T23:34:04.449660",
     "exception": false,
     "start_time": "2025-02-11T23:33:56.477610",
     "status": "completed"
    },
    "tags": []
   },
   "outputs": [],
   "source": [
    "contrastive_pairs_train = []\n",
    "for item in processed_data_train:\n",
    "    query = item[\"query\"]\n",
    "    positive = item[\"positive\"]\n",
    "    negatives = item[\"negatives\"]\n",
    "    contrastive_pairs_train.append({\n",
    "        \"anchor\": query,\n",
    "        \"positive\": positive,\n",
    "        \"negatives\": negatives\n",
    "    })"
   ]
  },
  {
   "cell_type": "code",
   "execution_count": 21,
   "id": "669c6a2e",
   "metadata": {
    "execution": {
     "iopub.execute_input": "2025-02-11T23:34:04.464988Z",
     "iopub.status.busy": "2025-02-11T23:34:04.464854Z",
     "iopub.status.idle": "2025-02-11T23:34:04.467777Z",
     "shell.execute_reply": "2025-02-11T23:34:04.467448Z"
    },
    "papermill": {
     "duration": 0.009964,
     "end_time": "2025-02-11T23:34:04.468325",
     "exception": false,
     "start_time": "2025-02-11T23:34:04.458361",
     "status": "completed"
    },
    "tags": []
   },
   "outputs": [
    {
     "data": {
      "text/plain": [
       "94073"
      ]
     },
     "execution_count": 21,
     "metadata": {},
     "output_type": "execute_result"
    }
   ],
   "source": [
    "len(contrastive_pairs_train)"
   ]
  },
  {
   "cell_type": "code",
   "execution_count": 22,
   "id": "670559eb",
   "metadata": {
    "execution": {
     "iopub.execute_input": "2025-02-11T23:34:04.481205Z",
     "iopub.status.busy": "2025-02-11T23:34:04.480948Z",
     "iopub.status.idle": "2025-02-11T23:34:15.955064Z",
     "shell.execute_reply": "2025-02-11T23:34:15.954610Z"
    },
    "papermill": {
     "duration": 11.481385,
     "end_time": "2025-02-11T23:34:15.955844",
     "exception": false,
     "start_time": "2025-02-11T23:34:04.474459",
     "status": "completed"
    },
    "tags": []
   },
   "outputs": [],
   "source": [
    "from torch.utils.data import DataLoader"
   ]
  },
  {
   "cell_type": "code",
   "execution_count": 23,
   "id": "927b2173",
   "metadata": {
    "execution": {
     "iopub.execute_input": "2025-02-11T23:34:15.971683Z",
     "iopub.status.busy": "2025-02-11T23:34:15.971241Z",
     "iopub.status.idle": "2025-02-11T23:34:15.974212Z",
     "shell.execute_reply": "2025-02-11T23:34:15.973864Z"
    },
    "papermill": {
     "duration": 0.010386,
     "end_time": "2025-02-11T23:34:15.974795",
     "exception": false,
     "start_time": "2025-02-11T23:34:15.964409",
     "status": "completed"
    },
    "tags": []
   },
   "outputs": [],
   "source": [
    "class ContrastiveDataset:\n",
    "    def __init__(self, pairs):\n",
    "        self.pairs = pairs\n",
    "\n",
    "    def __len__(self):\n",
    "        return len(self.pairs)\n",
    "\n",
    "    def __getitem__(self, idx):\n",
    "        item = self.pairs[idx]\n",
    "        return item[\"anchor\"], item[\"positive\"], item[\"negatives\"]"
   ]
  },
  {
   "cell_type": "code",
   "execution_count": 24,
   "id": "6918b6f3",
   "metadata": {
    "execution": {
     "iopub.execute_input": "2025-02-11T23:34:15.988044Z",
     "iopub.status.busy": "2025-02-11T23:34:15.987785Z",
     "iopub.status.idle": "2025-02-11T23:34:15.989922Z",
     "shell.execute_reply": "2025-02-11T23:34:15.989542Z"
    },
    "papermill": {
     "duration": 0.009348,
     "end_time": "2025-02-11T23:34:15.990495",
     "exception": false,
     "start_time": "2025-02-11T23:34:15.981147",
     "status": "completed"
    },
    "tags": []
   },
   "outputs": [],
   "source": [
    "contrastive_dataset_train = ContrastiveDataset(contrastive_pairs_train)"
   ]
  },
  {
   "cell_type": "code",
   "execution_count": 25,
   "id": "362b05af",
   "metadata": {
    "execution": {
     "iopub.execute_input": "2025-02-11T23:34:16.037935Z",
     "iopub.status.busy": "2025-02-11T23:34:16.037687Z",
     "iopub.status.idle": "2025-02-11T23:34:16.040064Z",
     "shell.execute_reply": "2025-02-11T23:34:16.039715Z"
    },
    "papermill": {
     "duration": 0.04377,
     "end_time": "2025-02-11T23:34:16.040661",
     "exception": false,
     "start_time": "2025-02-11T23:34:15.996891",
     "status": "completed"
    },
    "tags": []
   },
   "outputs": [],
   "source": [
    "data_loader_train = DataLoader(contrastive_dataset_train, batch_size=8, shuffle=True)"
   ]
  },
  {
   "cell_type": "code",
   "execution_count": 26,
   "id": "9e89b105",
   "metadata": {
    "execution": {
     "iopub.execute_input": "2025-02-11T23:34:16.054039Z",
     "iopub.status.busy": "2025-02-11T23:34:16.053799Z",
     "iopub.status.idle": "2025-02-11T23:34:16.056971Z",
     "shell.execute_reply": "2025-02-11T23:34:16.056634Z"
    },
    "papermill": {
     "duration": 0.010401,
     "end_time": "2025-02-11T23:34:16.057512",
     "exception": false,
     "start_time": "2025-02-11T23:34:16.047111",
     "status": "completed"
    },
    "tags": []
   },
   "outputs": [
    {
     "data": {
      "text/plain": [
       "11760"
      ]
     },
     "execution_count": 26,
     "metadata": {},
     "output_type": "execute_result"
    }
   ],
   "source": [
    "len(data_loader_train)"
   ]
  },
  {
   "cell_type": "code",
   "execution_count": 27,
   "id": "ec267846",
   "metadata": {
    "execution": {
     "iopub.execute_input": "2025-02-11T23:34:16.071206Z",
     "iopub.status.busy": "2025-02-11T23:34:16.070698Z",
     "iopub.status.idle": "2025-02-11T23:34:28.673260Z",
     "shell.execute_reply": "2025-02-11T23:34:28.672685Z"
    },
    "papermill": {
     "duration": 12.610193,
     "end_time": "2025-02-11T23:34:28.674135",
     "exception": false,
     "start_time": "2025-02-11T23:34:16.063942",
     "status": "completed"
    },
    "tags": []
   },
   "outputs": [],
   "source": [
    "from transformers import AutoTokenizer, AutoModel\n",
    "tokenizer = AutoTokenizer.from_pretrained(\"bert-base-uncased\")"
   ]
  },
  {
   "cell_type": "code",
   "execution_count": 28,
   "id": "cdfef80f",
   "metadata": {
    "execution": {
     "iopub.execute_input": "2025-02-11T23:34:28.689991Z",
     "iopub.status.busy": "2025-02-11T23:34:28.689669Z",
     "iopub.status.idle": "2025-02-11T23:34:33.853969Z",
     "shell.execute_reply": "2025-02-11T23:34:33.853520Z"
    },
    "papermill": {
     "duration": 5.171917,
     "end_time": "2025-02-11T23:34:33.854649",
     "exception": false,
     "start_time": "2025-02-11T23:34:28.682732",
     "status": "completed"
    },
    "tags": []
   },
   "outputs": [],
   "source": [
    "model = AutoModel.from_pretrained(\"bert-base-uncased\")"
   ]
  },
  {
   "cell_type": "code",
   "execution_count": 29,
   "id": "9191c4f0",
   "metadata": {
    "execution": {
     "iopub.execute_input": "2025-02-11T23:34:33.868153Z",
     "iopub.status.busy": "2025-02-11T23:34:33.868016Z",
     "iopub.status.idle": "2025-02-11T23:34:34.465703Z",
     "shell.execute_reply": "2025-02-11T23:34:34.465259Z"
    },
    "papermill": {
     "duration": 0.605171,
     "end_time": "2025-02-11T23:34:34.466452",
     "exception": false,
     "start_time": "2025-02-11T23:34:33.861281",
     "status": "completed"
    },
    "tags": []
   },
   "outputs": [],
   "source": [
    "from peft import LoraConfig, get_peft_model"
   ]
  },
  {
   "cell_type": "code",
   "execution_count": 30,
   "id": "c5386cc4",
   "metadata": {
    "execution": {
     "iopub.execute_input": "2025-02-11T23:34:34.482261Z",
     "iopub.status.busy": "2025-02-11T23:34:34.481878Z",
     "iopub.status.idle": "2025-02-11T23:34:34.484187Z",
     "shell.execute_reply": "2025-02-11T23:34:34.483793Z"
    },
    "papermill": {
     "duration": 0.009774,
     "end_time": "2025-02-11T23:34:34.484789",
     "exception": false,
     "start_time": "2025-02-11T23:34:34.475015",
     "status": "completed"
    },
    "tags": []
   },
   "outputs": [],
   "source": [
    "lora_config = LoraConfig(\n",
    "    task_type= \"FEATURE_EXTRACTION\"\n",
    ")"
   ]
  },
  {
   "cell_type": "code",
   "execution_count": 31,
   "id": "1411c521",
   "metadata": {
    "execution": {
     "iopub.execute_input": "2025-02-11T23:34:34.498668Z",
     "iopub.status.busy": "2025-02-11T23:34:34.498422Z",
     "iopub.status.idle": "2025-02-11T23:34:34.526734Z",
     "shell.execute_reply": "2025-02-11T23:34:34.526306Z"
    },
    "papermill": {
     "duration": 0.035979,
     "end_time": "2025-02-11T23:34:34.527345",
     "exception": false,
     "start_time": "2025-02-11T23:34:34.491366",
     "status": "completed"
    },
    "tags": []
   },
   "outputs": [],
   "source": [
    "lora_model = get_peft_model(model, lora_config)"
   ]
  },
  {
   "cell_type": "code",
   "execution_count": 32,
   "id": "5b81fc5d",
   "metadata": {
    "execution": {
     "iopub.execute_input": "2025-02-11T23:34:34.541192Z",
     "iopub.status.busy": "2025-02-11T23:34:34.540809Z",
     "iopub.status.idle": "2025-02-11T23:34:34.544029Z",
     "shell.execute_reply": "2025-02-11T23:34:34.543653Z"
    },
    "papermill": {
     "duration": 0.010671,
     "end_time": "2025-02-11T23:34:34.544570",
     "exception": false,
     "start_time": "2025-02-11T23:34:34.533899",
     "status": "completed"
    },
    "tags": []
   },
   "outputs": [],
   "source": [
    "def lorentzian_distance(x, y):\n",
    "    \n",
    "    dot_product = torch.sum(x * y, dim=-1)\n",
    "    norm_x = torch.norm(x, dim=-1)\n",
    "    norm_y = torch.norm(y, dim=-1)\n",
    "    \n",
    "    distance = torch.acosh(-dot_product + torch.sqrt((1 + norm_x**2) * (1 + norm_y**2)))\n",
    "    return distance"
   ]
  },
  {
   "cell_type": "code",
   "execution_count": 33,
   "id": "36a6dc08",
   "metadata": {
    "execution": {
     "iopub.execute_input": "2025-02-11T23:34:34.558377Z",
     "iopub.status.busy": "2025-02-11T23:34:34.558053Z",
     "iopub.status.idle": "2025-02-11T23:34:34.560936Z",
     "shell.execute_reply": "2025-02-11T23:34:34.560588Z"
    },
    "papermill": {
     "duration": 0.010402,
     "end_time": "2025-02-11T23:34:34.561536",
     "exception": false,
     "start_time": "2025-02-11T23:34:34.551134",
     "status": "completed"
    },
    "tags": []
   },
   "outputs": [],
   "source": [
    "def info_nce_loss(anchor_embedding, positive_embedding, negative_embedding, distance_fn):\n",
    "\n",
    "    pos_dist = distance_fn(anchor_embedding, positive_embedding)\n",
    "    neg_dist = torch.stack([distance_fn(anchor_embedding, neg) for neg in negative_embedding], dim=-1)\n",
    "    \n",
    "    logits = torch.cat([-pos_dist.unsqueeze(1), -neg_dist], dim=1)\n",
    "    labels = torch.zeros(logits.size(0), dtype=torch.long, device=logits.device)\n",
    "\n",
    "    loss = torch.nn.CrossEntropyLoss()(logits, labels)\n",
    "    return loss"
   ]
  },
  {
   "cell_type": "code",
   "execution_count": 34,
   "id": "c419bc47-fe08-462f-abef-a34454cfaa8e",
   "metadata": {
    "execution": {
     "iopub.execute_input": "2025-02-11T23:34:34.575002Z",
     "iopub.status.busy": "2025-02-11T23:34:34.574875Z",
     "iopub.status.idle": "2025-02-11T23:34:34.577701Z",
     "shell.execute_reply": "2025-02-11T23:34:34.577361Z"
    },
    "papermill": {
     "duration": 0.010248,
     "end_time": "2025-02-11T23:34:34.578276",
     "exception": false,
     "start_time": "2025-02-11T23:34:34.568028",
     "status": "completed"
    },
    "tags": []
   },
   "outputs": [],
   "source": [
    "def exterior_angle(x_space, y_space, c):\n",
    "    norm_x_space = torch.norm(x_space, p=2, dim=-1)\n",
    "    norm_y_space = torch.norm(y_space, p=2, dim=-1)\n",
    "    x_time = torch.sqrt(1/c + norm_x_space**2)\n",
    "    y_time = torch.sqrt(1/c + norm_y_space**2)\n",
    "    dot_product = torch.sum(x_space * y_space, dim=-1)\n",
    "    lorentz_inner_product =  dot_product - x_time * y_time\n",
    "    numerator = y_time + x_time * c * lorentz_inner_product\n",
    "    denominator = norm_x_space * torch.sqrt((c * lorentz_inner_product)**2 - 1)\n",
    "    ext_angle = torch.acos(numerator / denominator)\n",
    "    return ext_angle"
   ]
  },
  {
   "cell_type": "code",
   "execution_count": 35,
   "id": "529d3c1b-d03f-4bb1-be1d-36d2dfaa337f",
   "metadata": {
    "execution": {
     "iopub.execute_input": "2025-02-11T23:34:34.591848Z",
     "iopub.status.busy": "2025-02-11T23:34:34.591540Z",
     "iopub.status.idle": "2025-02-11T23:34:34.594179Z",
     "shell.execute_reply": "2025-02-11T23:34:34.593843Z"
    },
    "papermill": {
     "duration": 0.009942,
     "end_time": "2025-02-11T23:34:34.594707",
     "exception": false,
     "start_time": "2025-02-11T23:34:34.584765",
     "status": "completed"
    },
    "tags": []
   },
   "outputs": [],
   "source": [
    "def entailment_loss(x, y, c=1, K=0.1):\n",
    "    c = torch.tensor(c)\n",
    "    K = torch.tensor(K)\n",
    "    xspace = x\n",
    "    yspace = y\n",
    "    aperture = torch.asin(2 * K / (torch.sqrt(c) * torch.norm(xspace, p=2, dim=-1)))\n",
    "    \n",
    "    ext_angle = exterior_angle(xspace,yspace,c=c)\n",
    "    \n",
    "    loss = torch.max(torch.zeros_like(ext_angle), ext_angle - aperture)\n",
    "    return loss.mean()"
   ]
  },
  {
   "cell_type": "code",
   "execution_count": 36,
   "id": "5ee127f6-66dd-414a-b17f-6dc8e5e49dc0",
   "metadata": {
    "execution": {
     "iopub.execute_input": "2025-02-11T23:34:34.608286Z",
     "iopub.status.busy": "2025-02-11T23:34:34.608035Z",
     "iopub.status.idle": "2025-02-11T23:34:34.610694Z",
     "shell.execute_reply": "2025-02-11T23:34:34.610360Z"
    },
    "papermill": {
     "duration": 0.010021,
     "end_time": "2025-02-11T23:34:34.611278",
     "exception": false,
     "start_time": "2025-02-11T23:34:34.601257",
     "status": "completed"
    },
    "tags": []
   },
   "outputs": [],
   "source": [
    "def expm_o(v, c=1.0):\n",
    "    c = torch.tensor(c)\n",
    "    vspace = v\n",
    "    vnorm = torch.norm(v, p=2, dim=-1, keepdim=True)\n",
    "    xspace = torch.sinh(torch.sqrt(c) * vnorm) * vspace / (torch.sqrt(c) * vnorm)\n",
    "    batch_min = xspace.min(dim=1, keepdim=True).values\n",
    "    batch_max = xspace.max(dim=1, keepdim=True).values\n",
    "    xspace_scaled=(xspace - batch_min) / (batch_max - batch_min)\n",
    "    return xspace_scaled"
   ]
  },
  {
   "cell_type": "code",
   "execution_count": 37,
   "id": "185ff980",
   "metadata": {
    "execution": {
     "iopub.execute_input": "2025-02-11T23:34:34.624998Z",
     "iopub.status.busy": "2025-02-11T23:34:34.624689Z",
     "iopub.status.idle": "2025-02-11T23:34:34.627703Z",
     "shell.execute_reply": "2025-02-11T23:34:34.627335Z"
    },
    "papermill": {
     "duration": 0.010502,
     "end_time": "2025-02-11T23:34:34.628281",
     "exception": false,
     "start_time": "2025-02-11T23:34:34.617779",
     "status": "completed"
    },
    "tags": []
   },
   "outputs": [],
   "source": [
    "import torch\n",
    "import torch.optim as optim\n",
    "optimizer = torch.optim.AdamW(lora_model.parameters(), lr=5e-5)"
   ]
  },
  {
   "cell_type": "code",
   "execution_count": 38,
   "id": "d997d7dc",
   "metadata": {
    "execution": {
     "iopub.execute_input": "2025-02-11T23:34:34.642007Z",
     "iopub.status.busy": "2025-02-11T23:34:34.641879Z",
     "iopub.status.idle": "2025-02-11T23:34:34.643939Z",
     "shell.execute_reply": "2025-02-11T23:34:34.643593Z"
    },
    "papermill": {
     "duration": 0.009546,
     "end_time": "2025-02-11T23:34:34.644490",
     "exception": false,
     "start_time": "2025-02-11T23:34:34.634944",
     "status": "completed"
    },
    "tags": []
   },
   "outputs": [],
   "source": [
    "num_epochs=3"
   ]
  },
  {
   "cell_type": "code",
   "execution_count": 39,
   "id": "93312d1a",
   "metadata": {
    "execution": {
     "iopub.execute_input": "2025-02-11T23:34:34.658274Z",
     "iopub.status.busy": "2025-02-11T23:34:34.658151Z",
     "iopub.status.idle": "2025-02-11T23:34:35.065799Z",
     "shell.execute_reply": "2025-02-11T23:34:35.065339Z"
    },
    "papermill": {
     "duration": 0.415256,
     "end_time": "2025-02-11T23:34:35.066451",
     "exception": false,
     "start_time": "2025-02-11T23:34:34.651195",
     "status": "completed"
    },
    "tags": []
   },
   "outputs": [],
   "source": [
    "device = torch.device('cuda' if torch.cuda.is_available() else 'cpu')"
   ]
  },
  {
   "cell_type": "code",
   "execution_count": 40,
   "id": "be00cde7",
   "metadata": {
    "execution": {
     "iopub.execute_input": "2025-02-11T23:34:35.081089Z",
     "iopub.status.busy": "2025-02-11T23:34:35.080832Z",
     "iopub.status.idle": "2025-02-11T23:34:35.083689Z",
     "shell.execute_reply": "2025-02-11T23:34:35.083363Z"
    },
    "papermill": {
     "duration": 0.010491,
     "end_time": "2025-02-11T23:34:35.084236",
     "exception": false,
     "start_time": "2025-02-11T23:34:35.073745",
     "status": "completed"
    },
    "tags": []
   },
   "outputs": [
    {
     "data": {
      "text/plain": [
       "device(type='cuda')"
      ]
     },
     "execution_count": 40,
     "metadata": {},
     "output_type": "execute_result"
    }
   ],
   "source": [
    "device"
   ]
  },
  {
   "cell_type": "code",
   "execution_count": 41,
   "id": "a5333e18",
   "metadata": {
    "execution": {
     "iopub.execute_input": "2025-02-11T23:34:35.098050Z",
     "iopub.status.busy": "2025-02-11T23:34:35.097928Z",
     "iopub.status.idle": "2025-02-11T23:34:35.100529Z",
     "shell.execute_reply": "2025-02-11T23:34:35.100201Z"
    },
    "papermill": {
     "duration": 0.01018,
     "end_time": "2025-02-11T23:34:35.101129",
     "exception": false,
     "start_time": "2025-02-11T23:34:35.090949",
     "status": "completed"
    },
    "tags": []
   },
   "outputs": [
    {
     "data": {
      "text/plain": [
       "True"
      ]
     },
     "execution_count": 41,
     "metadata": {},
     "output_type": "execute_result"
    }
   ],
   "source": [
    "torch.cuda.is_available()"
   ]
  },
  {
   "cell_type": "code",
   "execution_count": 42,
   "id": "1d718a7f",
   "metadata": {
    "execution": {
     "iopub.execute_input": "2025-02-11T23:34:35.115486Z",
     "iopub.status.busy": "2025-02-11T23:34:35.115144Z",
     "iopub.status.idle": "2025-02-11T23:34:36.303712Z",
     "shell.execute_reply": "2025-02-11T23:34:36.302923Z"
    },
    "papermill": {
     "duration": 1.196525,
     "end_time": "2025-02-11T23:34:36.304529",
     "exception": false,
     "start_time": "2025-02-11T23:34:35.108004",
     "status": "completed"
    },
    "tags": []
   },
   "outputs": [],
   "source": [
    "lora_model = lora_model.to(device)"
   ]
  },
  {
   "cell_type": "code",
   "execution_count": 43,
   "id": "8d0b1bf1",
   "metadata": {
    "execution": {
     "iopub.execute_input": "2025-02-11T23:34:36.319537Z",
     "iopub.status.busy": "2025-02-11T23:34:36.319368Z",
     "iopub.status.idle": "2025-02-11T23:34:36.322341Z",
     "shell.execute_reply": "2025-02-11T23:34:36.321994Z"
    },
    "papermill": {
     "duration": 0.011164,
     "end_time": "2025-02-11T23:34:36.322907",
     "exception": false,
     "start_time": "2025-02-11T23:34:36.311743",
     "status": "completed"
    },
    "tags": []
   },
   "outputs": [],
   "source": [
    "dataset_val = split_datasets[\"test\"]"
   ]
  },
  {
   "cell_type": "code",
   "execution_count": 44,
   "id": "1ca99f37",
   "metadata": {
    "execution": {
     "iopub.execute_input": "2025-02-11T23:34:36.337482Z",
     "iopub.status.busy": "2025-02-11T23:34:36.337222Z",
     "iopub.status.idle": "2025-02-11T23:34:36.340282Z",
     "shell.execute_reply": "2025-02-11T23:34:36.339934Z"
    },
    "papermill": {
     "duration": 0.010996,
     "end_time": "2025-02-11T23:34:36.340831",
     "exception": false,
     "start_time": "2025-02-11T23:34:36.329835",
     "status": "completed"
    },
    "tags": []
   },
   "outputs": [
    {
     "data": {
      "text/plain": [
       "Dataset({\n",
       "    features: ['Unnamed: 0.1', 'Unnamed: 0', 'title', 'abstract'],\n",
       "    num_rows: 23519\n",
       "})"
      ]
     },
     "execution_count": 44,
     "metadata": {},
     "output_type": "execute_result"
    }
   ],
   "source": [
    "dataset_val"
   ]
  },
  {
   "cell_type": "code",
   "execution_count": 45,
   "id": "a314d3d6",
   "metadata": {
    "execution": {
     "iopub.execute_input": "2025-02-11T23:34:36.355624Z",
     "iopub.status.busy": "2025-02-11T23:34:36.355320Z",
     "iopub.status.idle": "2025-02-11T23:34:36.359524Z",
     "shell.execute_reply": "2025-02-11T23:34:36.359181Z"
    },
    "papermill": {
     "duration": 0.012225,
     "end_time": "2025-02-11T23:34:36.360052",
     "exception": false,
     "start_time": "2025-02-11T23:34:36.347827",
     "status": "completed"
    },
    "tags": []
   },
   "outputs": [],
   "source": [
    "dataset_val = dataset_val.remove_columns(['Unnamed: 0','Unnamed: 0.1'])"
   ]
  },
  {
   "cell_type": "code",
   "execution_count": 46,
   "id": "a58b2f1a",
   "metadata": {
    "execution": {
     "iopub.execute_input": "2025-02-11T23:34:36.374838Z",
     "iopub.status.busy": "2025-02-11T23:34:36.374432Z",
     "iopub.status.idle": "2025-02-11T23:34:38.197545Z",
     "shell.execute_reply": "2025-02-11T23:34:38.197010Z"
    },
    "papermill": {
     "duration": 1.831129,
     "end_time": "2025-02-11T23:34:38.198159",
     "exception": false,
     "start_time": "2025-02-11T23:34:36.367030",
     "status": "completed"
    },
    "tags": []
   },
   "outputs": [
    {
     "data": {
      "application/vnd.jupyter.widget-view+json": {
       "model_id": "73693367a13b4574a7f9545b57f0f2d7",
       "version_major": 2,
       "version_minor": 0
      },
      "text/plain": [
       "Map:   0%|          | 0/23519 [00:00<?, ? examples/s]"
      ]
     },
     "metadata": {},
     "output_type": "display_data"
    }
   ],
   "source": [
    "dataset_val = dataset_val.map(lambda x, idx: { 'index': idx }, with_indices=True)"
   ]
  },
  {
   "cell_type": "code",
   "execution_count": 47,
   "id": "454fc03a",
   "metadata": {
    "execution": {
     "iopub.execute_input": "2025-02-11T23:34:38.213008Z",
     "iopub.status.busy": "2025-02-11T23:34:38.212847Z",
     "iopub.status.idle": "2025-02-11T23:34:38.216439Z",
     "shell.execute_reply": "2025-02-11T23:34:38.216092Z"
    },
    "papermill": {
     "duration": 0.011652,
     "end_time": "2025-02-11T23:34:38.217011",
     "exception": false,
     "start_time": "2025-02-11T23:34:38.205359",
     "status": "completed"
    },
    "tags": []
   },
   "outputs": [
    {
     "data": {
      "text/plain": [
       "Dataset({\n",
       "    features: ['title', 'abstract', 'index'],\n",
       "    num_rows: 23519\n",
       "})"
      ]
     },
     "execution_count": 47,
     "metadata": {},
     "output_type": "execute_result"
    }
   ],
   "source": [
    "dataset_val"
   ]
  },
  {
   "cell_type": "code",
   "execution_count": 48,
   "id": "59611a3b",
   "metadata": {
    "execution": {
     "iopub.execute_input": "2025-02-11T23:34:38.231680Z",
     "iopub.status.busy": "2025-02-11T23:34:38.231436Z",
     "iopub.status.idle": "2025-02-11T23:34:38.244783Z",
     "shell.execute_reply": "2025-02-11T23:34:38.244455Z"
    },
    "papermill": {
     "duration": 0.02122,
     "end_time": "2025-02-11T23:34:38.245305",
     "exception": false,
     "start_time": "2025-02-11T23:34:38.224085",
     "status": "completed"
    },
    "tags": []
   },
   "outputs": [],
   "source": [
    "all_indexes_val = np.array(dataset_val['index'])"
   ]
  },
  {
   "cell_type": "code",
   "execution_count": 49,
   "id": "f51a8e7e",
   "metadata": {
    "execution": {
     "iopub.execute_input": "2025-02-11T23:34:38.260240Z",
     "iopub.status.busy": "2025-02-11T23:34:38.259910Z",
     "iopub.status.idle": "2025-02-11T23:34:38.262993Z",
     "shell.execute_reply": "2025-02-11T23:34:38.262616Z"
    },
    "papermill": {
     "duration": 0.011113,
     "end_time": "2025-02-11T23:34:38.263533",
     "exception": false,
     "start_time": "2025-02-11T23:34:38.252420",
     "status": "completed"
    },
    "tags": []
   },
   "outputs": [],
   "source": [
    "def generate_hard_negatives_val(example, num_negatives=10,dataset=dataset_val):\n",
    "    query_index = example['index'] \n",
    "    anchor = example['title']\n",
    "    positive = example['abstract']\n",
    "    \n",
    "    negatives = []\n",
    "    \n",
    "    negative_indexes = np.delete(all_indexes_val, np.where(all_indexes_val == query_index))\n",
    "    \n",
    "    sampled_negatives = random.sample(list(negative_indexes), num_negatives)\n",
    "    \n",
    "    for idx in sampled_negatives:\n",
    "        negatives.append(dataset[int(idx)]['abstract'])\n",
    "    \n",
    "    return {\n",
    "        \"query\": anchor,\n",
    "        \"positive\": positive,\n",
    "        \"negatives\": negatives\n",
    "    }"
   ]
  },
  {
   "cell_type": "code",
   "execution_count": 50,
   "id": "956100e1",
   "metadata": {
    "execution": {
     "iopub.execute_input": "2025-02-11T23:34:38.278842Z",
     "iopub.status.busy": "2025-02-11T23:34:38.278331Z",
     "iopub.status.idle": "2025-02-11T23:35:12.910863Z",
     "shell.execute_reply": "2025-02-11T23:35:12.910343Z"
    },
    "papermill": {
     "duration": 34.640878,
     "end_time": "2025-02-11T23:35:12.911536",
     "exception": false,
     "start_time": "2025-02-11T23:34:38.270658",
     "status": "completed"
    },
    "tags": []
   },
   "outputs": [
    {
     "data": {
      "application/vnd.jupyter.widget-view+json": {
       "model_id": "ee94a6650b724b75b5bbd18cf320db21",
       "version_major": 2,
       "version_minor": 0
      },
      "text/plain": [
       "Map:   0%|          | 0/23519 [00:00<?, ? examples/s]"
      ]
     },
     "metadata": {},
     "output_type": "display_data"
    }
   ],
   "source": [
    "processed_data_val = dataset_val.map(generate_hard_negatives_val, remove_columns=dataset_val.column_names)"
   ]
  },
  {
   "cell_type": "code",
   "execution_count": 51,
   "id": "70ecac28",
   "metadata": {
    "execution": {
     "iopub.execute_input": "2025-02-11T23:35:12.928823Z",
     "iopub.status.busy": "2025-02-11T23:35:12.928663Z",
     "iopub.status.idle": "2025-02-11T23:35:14.813731Z",
     "shell.execute_reply": "2025-02-11T23:35:14.813255Z"
    },
    "papermill": {
     "duration": 1.893507,
     "end_time": "2025-02-11T23:35:14.814408",
     "exception": false,
     "start_time": "2025-02-11T23:35:12.920901",
     "status": "completed"
    },
    "tags": []
   },
   "outputs": [],
   "source": [
    "contrastive_pairs_val = []\n",
    "for item in processed_data_val:\n",
    "    query = item[\"query\"]\n",
    "    positive = item[\"positive\"]\n",
    "    negatives = item[\"negatives\"]\n",
    "    contrastive_pairs_val.append({\n",
    "        \"anchor\": query,\n",
    "        \"positive\": positive,\n",
    "        \"negatives\": negatives\n",
    "    })"
   ]
  },
  {
   "cell_type": "code",
   "execution_count": 52,
   "id": "ce529ab6",
   "metadata": {
    "execution": {
     "iopub.execute_input": "2025-02-11T23:35:14.831456Z",
     "iopub.status.busy": "2025-02-11T23:35:14.831264Z",
     "iopub.status.idle": "2025-02-11T23:35:14.833697Z",
     "shell.execute_reply": "2025-02-11T23:35:14.833335Z"
    },
    "papermill": {
     "duration": 0.010712,
     "end_time": "2025-02-11T23:35:14.834250",
     "exception": false,
     "start_time": "2025-02-11T23:35:14.823538",
     "status": "completed"
    },
    "tags": []
   },
   "outputs": [],
   "source": [
    "contrastive_dataset_val = ContrastiveDataset(contrastive_pairs_val)"
   ]
  },
  {
   "cell_type": "code",
   "execution_count": 53,
   "id": "5ac55437",
   "metadata": {
    "execution": {
     "iopub.execute_input": "2025-02-11T23:35:14.849245Z",
     "iopub.status.busy": "2025-02-11T23:35:14.849120Z",
     "iopub.status.idle": "2025-02-11T23:35:14.851818Z",
     "shell.execute_reply": "2025-02-11T23:35:14.851469Z"
    },
    "papermill": {
     "duration": 0.010908,
     "end_time": "2025-02-11T23:35:14.852428",
     "exception": false,
     "start_time": "2025-02-11T23:35:14.841520",
     "status": "completed"
    },
    "tags": []
   },
   "outputs": [],
   "source": [
    "data_loader_val = DataLoader(contrastive_dataset_val, batch_size=8, shuffle=True)"
   ]
  },
  {
   "cell_type": "code",
   "execution_count": 54,
   "id": "b73033c1",
   "metadata": {
    "execution": {
     "iopub.execute_input": "2025-02-11T23:35:14.867974Z",
     "iopub.status.busy": "2025-02-11T23:35:14.867465Z",
     "iopub.status.idle": "2025-02-11T23:35:14.870548Z",
     "shell.execute_reply": "2025-02-11T23:35:14.870217Z"
    },
    "papermill": {
     "duration": 0.01139,
     "end_time": "2025-02-11T23:35:14.871077",
     "exception": false,
     "start_time": "2025-02-11T23:35:14.859687",
     "status": "completed"
    },
    "tags": []
   },
   "outputs": [
    {
     "data": {
      "text/plain": [
       "2940"
      ]
     },
     "execution_count": 54,
     "metadata": {},
     "output_type": "execute_result"
    }
   ],
   "source": [
    "len(data_loader_val)"
   ]
  },
  {
   "cell_type": "code",
   "execution_count": 55,
   "id": "76c29dae",
   "metadata": {
    "execution": {
     "iopub.execute_input": "2025-02-11T23:35:14.886682Z",
     "iopub.status.busy": "2025-02-11T23:35:14.886220Z",
     "iopub.status.idle": "2025-02-11T23:35:14.891400Z",
     "shell.execute_reply": "2025-02-11T23:35:14.891055Z"
    },
    "papermill": {
     "duration": 0.013493,
     "end_time": "2025-02-11T23:35:14.891934",
     "exception": false,
     "start_time": "2025-02-11T23:35:14.878441",
     "status": "completed"
    },
    "tags": []
   },
   "outputs": [],
   "source": [
    "def evaluate_mrr(model1, data_loader_val, distance_fn):\n",
    "    model1.eval()\n",
    "    \n",
    "    total_rr = 0.0\n",
    "    num_queries = 0\n",
    "\n",
    "    with torch.no_grad():\n",
    "        for batch in data_loader_val:\n",
    "            anchor_text = batch[0]\n",
    "            positive_text = batch[1]\n",
    "            negative_texts = batch[2]\n",
    "\n",
    "            anchor_input = tokenizer(anchor_text, return_tensors='pt', padding=True, truncation=True, max_length=512).to(device)\n",
    "            positive_input = tokenizer(positive_text, return_tensors='pt', padding=True, truncation=True, max_length=512).to(device)\n",
    "\n",
    "            anchor_embedding = expm_o(model1(**anchor_input).last_hidden_state[:, 0, :])\n",
    "            positive_embedding = expm_o(model1(**positive_input).last_hidden_state[:, 0, :])\n",
    "            negative_embedding = [expm_o(model1(**tokenizer(neg, return_tensors='pt', padding=True, truncation=True, max_length=512).to(device)).last_hidden_state[:, 0, :]) for neg in negative_texts]\n",
    "\n",
    "            pos_dist = distance_fn(anchor_embedding, positive_embedding)\n",
    "            neg_dist = torch.stack([distance_fn(anchor_embedding, neg) for neg in negative_embedding], dim=-1)\n",
    "            all_similarities=torch.cat([-pos_dist.unsqueeze(1), -neg_dist], dim=1)\n",
    "\n",
    "            sorted_similarities, sorted_indices = torch.sort(all_similarities, dim=1, descending=True)\n",
    "\n",
    "            # Find the rank of the first relevant (positive) document\n",
    "            positive_rank = (sorted_indices == 0).nonzero(as_tuple=True)[1] + 1  # +1 to make rank 1-based\n",
    "            total_rr += torch.sum(1.0 / positive_rank.float()).item()  # Reciprocal rank\n",
    "            num_queries += len(positive_rank)\n",
    "            \n",
    "    mrr = total_rr / num_queries\n",
    "    return mrr"
   ]
  },
  {
   "cell_type": "code",
   "execution_count": 56,
   "id": "84893f41",
   "metadata": {
    "execution": {
     "iopub.execute_input": "2025-02-11T23:35:14.907725Z",
     "iopub.status.busy": "2025-02-11T23:35:14.907378Z",
     "iopub.status.idle": "2025-02-11T23:35:14.909469Z",
     "shell.execute_reply": "2025-02-11T23:35:14.909126Z"
    },
    "papermill": {
     "duration": 0.010595,
     "end_time": "2025-02-11T23:35:14.910015",
     "exception": false,
     "start_time": "2025-02-11T23:35:14.899420",
     "status": "completed"
    },
    "tags": []
   },
   "outputs": [],
   "source": [
    "import os\n",
    "save_dir =\"/dss/dsshome1/07/ra65bex2/srawat/0.9hyperbolic\""
   ]
  },
  {
   "cell_type": "code",
   "execution_count": 57,
   "id": "1e46bee6",
   "metadata": {
    "execution": {
     "iopub.execute_input": "2025-02-11T23:35:14.925593Z",
     "iopub.status.busy": "2025-02-11T23:35:14.925254Z",
     "iopub.status.idle": "2025-02-11T23:35:14.927262Z",
     "shell.execute_reply": "2025-02-11T23:35:14.926929Z"
    },
    "papermill": {
     "duration": 0.010329,
     "end_time": "2025-02-11T23:35:14.927835",
     "exception": false,
     "start_time": "2025-02-11T23:35:14.917506",
     "status": "completed"
    },
    "tags": []
   },
   "outputs": [],
   "source": [
    "import time\n",
    "epoch_metrics = []"
   ]
  },
  {
   "cell_type": "code",
   "execution_count": 58,
   "id": "23f95333",
   "metadata": {
    "execution": {
     "iopub.execute_input": "2025-02-11T23:35:14.943815Z",
     "iopub.status.busy": "2025-02-11T23:35:14.943513Z",
     "iopub.status.idle": "2025-02-11T23:35:14.945652Z",
     "shell.execute_reply": "2025-02-11T23:35:14.945286Z"
    },
    "papermill": {
     "duration": 0.010722,
     "end_time": "2025-02-11T23:35:14.946189",
     "exception": false,
     "start_time": "2025-02-11T23:35:14.935467",
     "status": "completed"
    },
    "tags": []
   },
   "outputs": [],
   "source": [
    "torch.cuda.empty_cache()"
   ]
  },
  {
   "cell_type": "code",
   "execution_count": 59,
   "id": "32a21d84",
   "metadata": {
    "execution": {
     "iopub.execute_input": "2025-02-11T23:35:14.962169Z",
     "iopub.status.busy": "2025-02-11T23:35:14.961795Z",
     "iopub.status.idle": "2025-02-12T08:38:48.831392Z",
     "shell.execute_reply": "2025-02-12T08:38:48.830702Z"
    },
    "papermill": {
     "duration": 32613.88846,
     "end_time": "2025-02-12T08:38:48.842166",
     "exception": false,
     "start_time": "2025-02-11T23:35:14.953706",
     "status": "completed"
    },
    "tags": []
   },
   "outputs": [
    {
     "name": "stdout",
     "output_type": "stream",
     "text": [
      "EPOCH 1:\n",
      "Checkpoint saved: /dss/dsshome1/07/ra65bex2/srawat/0.9hyperbolic\n",
      "Epoch 1/3, Loss: 3.4693303145721655\n",
      "Epoch 1/3, Contrastive Loss: 2.4000808057330905\n",
      "Epoch 1/3, Entailment Loss: 1.1880550388373485\n"
     ]
    },
    {
     "name": "stdout",
     "output_type": "stream",
     "text": [
      "Mean Reciprocal Rank (MRR) for validation set: 0.2765\n",
      "Epoch 1 took 181.1570 minutes.\n",
      "\n",
      "\n"
     ]
    },
    {
     "name": "stdout",
     "output_type": "stream",
     "text": [
      "EPOCH 2:\n",
      "Checkpoint saved: /dss/dsshome1/07/ra65bex2/srawat/0.9hyperbolic\n",
      "Epoch 2/3, Loss: 3.348172242098114\n",
      "Epoch 2/3, Contrastive Loss: 2.398834418297625\n",
      "Epoch 2/3, Entailment Loss: 1.0548198314852455\n"
     ]
    },
    {
     "name": "stdout",
     "output_type": "stream",
     "text": [
      "Mean Reciprocal Rank (MRR) for validation set: 0.2772\n",
      "Epoch 2 took 181.3225 minutes.\n",
      "\n",
      "\n"
     ]
    },
    {
     "name": "stdout",
     "output_type": "stream",
     "text": [
      "EPOCH 3:\n",
      "Checkpoint saved: /dss/dsshome1/07/ra65bex2/srawat/0.9hyperbolic\n",
      "Epoch 3/3, Loss: 3.318083469883925\n",
      "Epoch 3/3, Contrastive Loss: 2.39853411164819\n",
      "Epoch 3/3, Entailment Loss: 1.0217215355764442\n"
     ]
    },
    {
     "name": "stdout",
     "output_type": "stream",
     "text": [
      "Mean Reciprocal Rank (MRR) for validation set: 0.2755\n",
      "Epoch 3 took 181.0848 minutes.\n",
      "\n",
      "\n"
     ]
    }
   ],
   "source": [
    "for epoch in range(num_epochs):\n",
    "    start_time = time.time()\n",
    "    lora_model.train()\n",
    "\n",
    "    total_loss = 0.0\n",
    "    entailment_loss_total=0.0\n",
    "    contrastive_loss_total=0.0\n",
    "    for batch in data_loader_train:\n",
    "\n",
    "        anchor_texts = batch[0]\n",
    "        positive_texts = batch[1]\n",
    "        negative_texts = batch[2]\n",
    "\n",
    "        anchor_inputs = tokenizer(anchor_texts, return_tensors='pt', padding=True, truncation=True, max_length=512).to(device)\n",
    "        positive_inputs = tokenizer(positive_texts, return_tensors='pt', padding=True, truncation=True, max_length=512).to(device)\n",
    "    \n",
    "        anchor_embedding = expm_o(lora_model(**anchor_inputs).last_hidden_state[:, 0, :])\n",
    "        positive_embedding = expm_o(lora_model(**positive_inputs).last_hidden_state[:, 0, :])\n",
    "        negative_embedding = [expm_o(lora_model(**tokenizer(neg, return_tensors='pt', padding=True, truncation=True, max_length=512).to(device)).last_hidden_state[:, 0, :]) for neg in negative_texts]\n",
    "\n",
    "        contrastive_loss_value = info_nce_loss(anchor_embedding, positive_embedding, negative_embedding, distance_fn=lorentzian_distance)\n",
    "        \n",
    "        entailment_loss_value = entailment_loss(anchor_embedding, positive_embedding)\n",
    "        \n",
    "        loss = contrastive_loss_value + 0.9*entailment_loss_value\n",
    "  \n",
    "        optimizer.zero_grad()\n",
    "        loss.backward()\n",
    "        optimizer.step()\n",
    "        \n",
    "        total_loss += loss.item()\n",
    "        entailment_loss_total+=entailment_loss_value.item()\n",
    "        contrastive_loss_total+=contrastive_loss_value.item()\n",
    "    save_path1 = os.path.join(save_dir, f\"hyperbolic_lora_checkpoint_epoch_{epoch+1}.pth\")\n",
    "    torch.save(lora_model, save_path1)\n",
    "    print(f\"EPOCH {epoch+1}:\")\n",
    "    print(f\"Checkpoint saved: {save_dir}\")\n",
    "    print(f\"Epoch {epoch+1}/{num_epochs}, Loss: {total_loss / len(data_loader_train)}\")\n",
    "    print(f\"Epoch {epoch+1}/{num_epochs}, Contrastive Loss: {contrastive_loss_total / len(data_loader_train)}\")\n",
    "    print(f\"Epoch {epoch+1}/{num_epochs}, Entailment Loss: {entailment_loss_total / len(data_loader_train)}\")\n",
    "    mrr_validation = evaluate_mrr(model1=lora_model, data_loader_val=data_loader_val,distance_fn=lorentzian_distance)\n",
    "    #mrr_train = evaluate_mrr(lora_model, data_loader_train, lorentzian_distance)\n",
    "    #print(f\"Mean Reciprocal Rank (MRR) for training set: {mrr_train:.4f}\")\n",
    "    print(f\"Mean Reciprocal Rank (MRR) for validation set: {mrr_validation:.4f}\")\n",
    "    end_time = time.time()\n",
    "    print(f\"Epoch {epoch+1} took {(end_time - start_time) / 60:.4f} minutes.\")\n",
    "    print(f\"\\n\")\n",
    "    epoch_metrics.append({\n",
    "        'epoch': epoch + 1,\n",
    "        'training_loss': total_loss / len(data_loader_train),\n",
    "        'Contrastive_loss': contrastive_loss_total / len(data_loader_train),\n",
    "        'Entailment_loss': entailment_loss_total / len(data_loader_train),\n",
    "        'mrr_validation': mrr_validation,\n",
    "        'time_taken_minutes': (end_time - start_time) / 60\n",
    "    })"
   ]
  },
  {
   "cell_type": "code",
   "execution_count": 60,
   "id": "b2c27c8a",
   "metadata": {
    "execution": {
     "iopub.execute_input": "2025-02-12T08:38:48.859000Z",
     "iopub.status.busy": "2025-02-12T08:38:48.858835Z",
     "iopub.status.idle": "2025-02-12T08:38:48.861847Z",
     "shell.execute_reply": "2025-02-12T08:38:48.861514Z"
    },
    "papermill": {
     "duration": 0.012236,
     "end_time": "2025-02-12T08:38:48.862475",
     "exception": false,
     "start_time": "2025-02-12T08:38:48.850239",
     "status": "completed"
    },
    "tags": []
   },
   "outputs": [],
   "source": [
    "import json"
   ]
  },
  {
   "cell_type": "code",
   "execution_count": 61,
   "id": "53a682b1",
   "metadata": {
    "execution": {
     "iopub.execute_input": "2025-02-12T08:38:48.878695Z",
     "iopub.status.busy": "2025-02-12T08:38:48.878442Z",
     "iopub.status.idle": "2025-02-12T08:38:48.946682Z",
     "shell.execute_reply": "2025-02-12T08:38:48.946381Z"
    },
    "papermill": {
     "duration": 0.076908,
     "end_time": "2025-02-12T08:38:48.947260",
     "exception": false,
     "start_time": "2025-02-12T08:38:48.870352",
     "status": "completed"
    },
    "tags": []
   },
   "outputs": [],
   "source": [
    "with open(save_dir + '/epoch_metrics.json', 'w') as f:\n",
    "    json.dump(epoch_metrics, f)"
   ]
  },
  {
   "cell_type": "code",
   "execution_count": null,
   "id": "f7021e82",
   "metadata": {
    "papermill": {
     "duration": 0.007608,
     "end_time": "2025-02-12T08:38:48.962627",
     "exception": false,
     "start_time": "2025-02-12T08:38:48.955019",
     "status": "completed"
    },
    "tags": []
   },
   "outputs": [],
   "source": []
  }
 ],
 "metadata": {
  "kernelspec": {
   "display_name": "Python (myenv)",
   "language": "python",
   "name": "myenv"
  },
  "language_info": {
   "codemirror_mode": {
    "name": "ipython",
    "version": 3
   },
   "file_extension": ".py",
   "mimetype": "text/x-python",
   "name": "python",
   "nbconvert_exporter": "python",
   "pygments_lexer": "ipython3",
   "version": "3.12.7"
  },
  "papermill": {
   "default_parameters": {},
   "duration": 33187.165222,
   "end_time": "2025-02-12T08:38:52.594621",
   "environment_variables": {},
   "exception": null,
   "input_path": "0.9hyperbolic.ipynb",
   "output_path": "0.9hyperbolic_output.ipynb",
   "parameters": {},
   "start_time": "2025-02-11T23:25:45.429399",
   "version": "2.6.0"
  },
  "widgets": {
   "application/vnd.jupyter.widget-state+json": {
    "state": {
     "041be5818a574e7d9ea2be9d3ca221b1": {
      "model_module": "@jupyter-widgets/controls",
      "model_module_version": "2.0.0",
      "model_name": "FloatProgressModel",
      "state": {
       "_dom_classes": [],
       "_model_module": "@jupyter-widgets/controls",
       "_model_module_version": "2.0.0",
       "_model_name": "FloatProgressModel",
       "_view_count": null,
       "_view_module": "@jupyter-widgets/controls",
       "_view_module_version": "2.0.0",
       "_view_name": "ProgressView",
       "bar_style": "success",
       "description": "",
       "description_allow_html": false,
       "layout": "IPY_MODEL_b9189419aa4548bdbe24cfc1e9ebed13",
       "max": 23519,
       "min": 0,
       "orientation": "horizontal",
       "style": "IPY_MODEL_2a8f6265d8174337b72afab7c61a5fa0",
       "tabbable": null,
       "tooltip": null,
       "value": 23519
      }
     },
     "1435276607884e50b243f05562e38e16": {
      "model_module": "@jupyter-widgets/controls",
      "model_module_version": "2.0.0",
      "model_name": "HTMLStyleModel",
      "state": {
       "_model_module": "@jupyter-widgets/controls",
       "_model_module_version": "2.0.0",
       "_model_name": "HTMLStyleModel",
       "_view_count": null,
       "_view_module": "@jupyter-widgets/base",
       "_view_module_version": "2.0.0",
       "_view_name": "StyleView",
       "background": null,
       "description_width": "",
       "font_size": null,
       "text_color": null
      }
     },
     "1913bd70d7eb4fe69bf167158b3a87a3": {
      "model_module": "@jupyter-widgets/base",
      "model_module_version": "2.0.0",
      "model_name": "LayoutModel",
      "state": {
       "_model_module": "@jupyter-widgets/base",
       "_model_module_version": "2.0.0",
       "_model_name": "LayoutModel",
       "_view_count": null,
       "_view_module": "@jupyter-widgets/base",
       "_view_module_version": "2.0.0",
       "_view_name": "LayoutView",
       "align_content": null,
       "align_items": null,
       "align_self": null,
       "border_bottom": null,
       "border_left": null,
       "border_right": null,
       "border_top": null,
       "bottom": null,
       "display": null,
       "flex": null,
       "flex_flow": null,
       "grid_area": null,
       "grid_auto_columns": null,
       "grid_auto_flow": null,
       "grid_auto_rows": null,
       "grid_column": null,
       "grid_gap": null,
       "grid_row": null,
       "grid_template_areas": null,
       "grid_template_columns": null,
       "grid_template_rows": null,
       "height": null,
       "justify_content": null,
       "justify_items": null,
       "left": null,
       "margin": null,
       "max_height": null,
       "max_width": null,
       "min_height": null,
       "min_width": null,
       "object_fit": null,
       "object_position": null,
       "order": null,
       "overflow": null,
       "padding": null,
       "right": null,
       "top": null,
       "visibility": null,
       "width": null
      }
     },
     "215be3cadc474fe196fe5dbcf4680742": {
      "model_module": "@jupyter-widgets/controls",
      "model_module_version": "2.0.0",
      "model_name": "FloatProgressModel",
      "state": {
       "_dom_classes": [],
       "_model_module": "@jupyter-widgets/controls",
       "_model_module_version": "2.0.0",
       "_model_name": "FloatProgressModel",
       "_view_count": null,
       "_view_module": "@jupyter-widgets/controls",
       "_view_module_version": "2.0.0",
       "_view_name": "ProgressView",
       "bar_style": "success",
       "description": "",
       "description_allow_html": false,
       "layout": "IPY_MODEL_9ba649962b8f4275886fe820d0f07dfe",
       "max": 23519,
       "min": 0,
       "orientation": "horizontal",
       "style": "IPY_MODEL_a03a1091a81243aabd7ccfcc34f6e880",
       "tabbable": null,
       "tooltip": null,
       "value": 23519
      }
     },
     "2a8f6265d8174337b72afab7c61a5fa0": {
      "model_module": "@jupyter-widgets/controls",
      "model_module_version": "2.0.0",
      "model_name": "ProgressStyleModel",
      "state": {
       "_model_module": "@jupyter-widgets/controls",
       "_model_module_version": "2.0.0",
       "_model_name": "ProgressStyleModel",
       "_view_count": null,
       "_view_module": "@jupyter-widgets/base",
       "_view_module_version": "2.0.0",
       "_view_name": "StyleView",
       "bar_color": null,
       "description_width": ""
      }
     },
     "2b1159f390ec4e488b9fbc6c88056c33": {
      "model_module": "@jupyter-widgets/controls",
      "model_module_version": "2.0.0",
      "model_name": "HTMLStyleModel",
      "state": {
       "_model_module": "@jupyter-widgets/controls",
       "_model_module_version": "2.0.0",
       "_model_name": "HTMLStyleModel",
       "_view_count": null,
       "_view_module": "@jupyter-widgets/base",
       "_view_module_version": "2.0.0",
       "_view_name": "StyleView",
       "background": null,
       "description_width": "",
       "font_size": null,
       "text_color": null
      }
     },
     "32c877bddb884c29a79d7540861b1820": {
      "model_module": "@jupyter-widgets/base",
      "model_module_version": "2.0.0",
      "model_name": "LayoutModel",
      "state": {
       "_model_module": "@jupyter-widgets/base",
       "_model_module_version": "2.0.0",
       "_model_name": "LayoutModel",
       "_view_count": null,
       "_view_module": "@jupyter-widgets/base",
       "_view_module_version": "2.0.0",
       "_view_name": "LayoutView",
       "align_content": null,
       "align_items": null,
       "align_self": null,
       "border_bottom": null,
       "border_left": null,
       "border_right": null,
       "border_top": null,
       "bottom": null,
       "display": null,
       "flex": null,
       "flex_flow": null,
       "grid_area": null,
       "grid_auto_columns": null,
       "grid_auto_flow": null,
       "grid_auto_rows": null,
       "grid_column": null,
       "grid_gap": null,
       "grid_row": null,
       "grid_template_areas": null,
       "grid_template_columns": null,
       "grid_template_rows": null,
       "height": null,
       "justify_content": null,
       "justify_items": null,
       "left": null,
       "margin": null,
       "max_height": null,
       "max_width": null,
       "min_height": null,
       "min_width": null,
       "object_fit": null,
       "object_position": null,
       "order": null,
       "overflow": null,
       "padding": null,
       "right": null,
       "top": null,
       "visibility": null,
       "width": null
      }
     },
     "33581f30ac734f559000deb0f2cf5c92": {
      "model_module": "@jupyter-widgets/controls",
      "model_module_version": "2.0.0",
      "model_name": "HTMLModel",
      "state": {
       "_dom_classes": [],
       "_model_module": "@jupyter-widgets/controls",
       "_model_module_version": "2.0.0",
       "_model_name": "HTMLModel",
       "_view_count": null,
       "_view_module": "@jupyter-widgets/controls",
       "_view_module_version": "2.0.0",
       "_view_name": "HTMLView",
       "description": "",
       "description_allow_html": false,
       "layout": "IPY_MODEL_3dc987613dc2453b846c2c07af2bac39",
       "placeholder": "​",
       "style": "IPY_MODEL_52ecff032099488e9f0ab10cc7fb6309",
       "tabbable": null,
       "tooltip": null,
       "value": " 23519/23519 [00:34&lt;00:00, 691.60 examples/s]"
      }
     },
     "352c7eed47244ad99b852619afbcf9c5": {
      "model_module": "@jupyter-widgets/controls",
      "model_module_version": "2.0.0",
      "model_name": "HTMLStyleModel",
      "state": {
       "_model_module": "@jupyter-widgets/controls",
       "_model_module_version": "2.0.0",
       "_model_name": "HTMLStyleModel",
       "_view_count": null,
       "_view_module": "@jupyter-widgets/base",
       "_view_module_version": "2.0.0",
       "_view_name": "StyleView",
       "background": null,
       "description_width": "",
       "font_size": null,
       "text_color": null
      }
     },
     "3dc987613dc2453b846c2c07af2bac39": {
      "model_module": "@jupyter-widgets/base",
      "model_module_version": "2.0.0",
      "model_name": "LayoutModel",
      "state": {
       "_model_module": "@jupyter-widgets/base",
       "_model_module_version": "2.0.0",
       "_model_name": "LayoutModel",
       "_view_count": null,
       "_view_module": "@jupyter-widgets/base",
       "_view_module_version": "2.0.0",
       "_view_name": "LayoutView",
       "align_content": null,
       "align_items": null,
       "align_self": null,
       "border_bottom": null,
       "border_left": null,
       "border_right": null,
       "border_top": null,
       "bottom": null,
       "display": null,
       "flex": null,
       "flex_flow": null,
       "grid_area": null,
       "grid_auto_columns": null,
       "grid_auto_flow": null,
       "grid_auto_rows": null,
       "grid_column": null,
       "grid_gap": null,
       "grid_row": null,
       "grid_template_areas": null,
       "grid_template_columns": null,
       "grid_template_rows": null,
       "height": null,
       "justify_content": null,
       "justify_items": null,
       "left": null,
       "margin": null,
       "max_height": null,
       "max_width": null,
       "min_height": null,
       "min_width": null,
       "object_fit": null,
       "object_position": null,
       "order": null,
       "overflow": null,
       "padding": null,
       "right": null,
       "top": null,
       "visibility": null,
       "width": null
      }
     },
     "40a564d4f9094a0a976bb12b5feba01e": {
      "model_module": "@jupyter-widgets/base",
      "model_module_version": "2.0.0",
      "model_name": "LayoutModel",
      "state": {
       "_model_module": "@jupyter-widgets/base",
       "_model_module_version": "2.0.0",
       "_model_name": "LayoutModel",
       "_view_count": null,
       "_view_module": "@jupyter-widgets/base",
       "_view_module_version": "2.0.0",
       "_view_name": "LayoutView",
       "align_content": null,
       "align_items": null,
       "align_self": null,
       "border_bottom": null,
       "border_left": null,
       "border_right": null,
       "border_top": null,
       "bottom": null,
       "display": null,
       "flex": null,
       "flex_flow": null,
       "grid_area": null,
       "grid_auto_columns": null,
       "grid_auto_flow": null,
       "grid_auto_rows": null,
       "grid_column": null,
       "grid_gap": null,
       "grid_row": null,
       "grid_template_areas": null,
       "grid_template_columns": null,
       "grid_template_rows": null,
       "height": null,
       "justify_content": null,
       "justify_items": null,
       "left": null,
       "margin": null,
       "max_height": null,
       "max_width": null,
       "min_height": null,
       "min_width": null,
       "object_fit": null,
       "object_position": null,
       "order": null,
       "overflow": null,
       "padding": null,
       "right": null,
       "top": null,
       "visibility": null,
       "width": null
      }
     },
     "478314d3669146aba73f77e7c83fba89": {
      "model_module": "@jupyter-widgets/controls",
      "model_module_version": "2.0.0",
      "model_name": "HBoxModel",
      "state": {
       "_dom_classes": [],
       "_model_module": "@jupyter-widgets/controls",
       "_model_module_version": "2.0.0",
       "_model_name": "HBoxModel",
       "_view_count": null,
       "_view_module": "@jupyter-widgets/controls",
       "_view_module_version": "2.0.0",
       "_view_name": "HBoxView",
       "box_style": "",
       "children": [
        "IPY_MODEL_512fd353f5234c319610d5de26e16b66",
        "IPY_MODEL_e8509551dffa4074ac76713de1918dac",
        "IPY_MODEL_4e9404e3c5294e8f8d7914ca434b4ce0"
       ],
       "layout": "IPY_MODEL_fce35c5e2c724a98bc5373a7607fb5ff",
       "tabbable": null,
       "tooltip": null
      }
     },
     "47c8900863114dd49eb244fc11621616": {
      "model_module": "@jupyter-widgets/controls",
      "model_module_version": "2.0.0",
      "model_name": "FloatProgressModel",
      "state": {
       "_dom_classes": [],
       "_model_module": "@jupyter-widgets/controls",
       "_model_module_version": "2.0.0",
       "_model_name": "FloatProgressModel",
       "_view_count": null,
       "_view_module": "@jupyter-widgets/controls",
       "_view_module_version": "2.0.0",
       "_view_name": "ProgressView",
       "bar_style": "success",
       "description": "",
       "description_allow_html": false,
       "layout": "IPY_MODEL_f76eddd5ef974f438a755092d628b09c",
       "max": 94073,
       "min": 0,
       "orientation": "horizontal",
       "style": "IPY_MODEL_e19aaa464480450f8dbe911270da2618",
       "tabbable": null,
       "tooltip": null,
       "value": 94073
      }
     },
     "4e9404e3c5294e8f8d7914ca434b4ce0": {
      "model_module": "@jupyter-widgets/controls",
      "model_module_version": "2.0.0",
      "model_name": "HTMLModel",
      "state": {
       "_dom_classes": [],
       "_model_module": "@jupyter-widgets/controls",
       "_model_module_version": "2.0.0",
       "_model_name": "HTMLModel",
       "_view_count": null,
       "_view_module": "@jupyter-widgets/controls",
       "_view_module_version": "2.0.0",
       "_view_name": "HTMLView",
       "description": "",
       "description_allow_html": false,
       "layout": "IPY_MODEL_40a564d4f9094a0a976bb12b5feba01e",
       "placeholder": "​",
       "style": "IPY_MODEL_352c7eed47244ad99b852619afbcf9c5",
       "tabbable": null,
       "tooltip": null,
       "value": " 94073/94073 [00:04&lt;00:00, 19447.48 examples/s]"
      }
     },
     "512fd353f5234c319610d5de26e16b66": {
      "model_module": "@jupyter-widgets/controls",
      "model_module_version": "2.0.0",
      "model_name": "HTMLModel",
      "state": {
       "_dom_classes": [],
       "_model_module": "@jupyter-widgets/controls",
       "_model_module_version": "2.0.0",
       "_model_name": "HTMLModel",
       "_view_count": null,
       "_view_module": "@jupyter-widgets/controls",
       "_view_module_version": "2.0.0",
       "_view_name": "HTMLView",
       "description": "",
       "description_allow_html": false,
       "layout": "IPY_MODEL_90a0478022f14764a443ca7562eb54e8",
       "placeholder": "​",
       "style": "IPY_MODEL_1435276607884e50b243f05562e38e16",
       "tabbable": null,
       "tooltip": null,
       "value": "Map: 100%"
      }
     },
     "52ecff032099488e9f0ab10cc7fb6309": {
      "model_module": "@jupyter-widgets/controls",
      "model_module_version": "2.0.0",
      "model_name": "HTMLStyleModel",
      "state": {
       "_model_module": "@jupyter-widgets/controls",
       "_model_module_version": "2.0.0",
       "_model_name": "HTMLStyleModel",
       "_view_count": null,
       "_view_module": "@jupyter-widgets/base",
       "_view_module_version": "2.0.0",
       "_view_name": "StyleView",
       "background": null,
       "description_width": "",
       "font_size": null,
       "text_color": null
      }
     },
     "5327d30e04d94256a78eab6181054d8b": {
      "model_module": "@jupyter-widgets/controls",
      "model_module_version": "2.0.0",
      "model_name": "HTMLModel",
      "state": {
       "_dom_classes": [],
       "_model_module": "@jupyter-widgets/controls",
       "_model_module_version": "2.0.0",
       "_model_name": "HTMLModel",
       "_view_count": null,
       "_view_module": "@jupyter-widgets/controls",
       "_view_module_version": "2.0.0",
       "_view_name": "HTMLView",
       "description": "",
       "description_allow_html": false,
       "layout": "IPY_MODEL_5aa6e2b10b794b5aaab7eda50c34ec6d",
       "placeholder": "​",
       "style": "IPY_MODEL_8885d542e4bf406eafbc00be234d195b",
       "tabbable": null,
       "tooltip": null,
       "value": " 94073/94073 [07:50&lt;00:00, 201.50 examples/s]"
      }
     },
     "5aa6e2b10b794b5aaab7eda50c34ec6d": {
      "model_module": "@jupyter-widgets/base",
      "model_module_version": "2.0.0",
      "model_name": "LayoutModel",
      "state": {
       "_model_module": "@jupyter-widgets/base",
       "_model_module_version": "2.0.0",
       "_model_name": "LayoutModel",
       "_view_count": null,
       "_view_module": "@jupyter-widgets/base",
       "_view_module_version": "2.0.0",
       "_view_name": "LayoutView",
       "align_content": null,
       "align_items": null,
       "align_self": null,
       "border_bottom": null,
       "border_left": null,
       "border_right": null,
       "border_top": null,
       "bottom": null,
       "display": null,
       "flex": null,
       "flex_flow": null,
       "grid_area": null,
       "grid_auto_columns": null,
       "grid_auto_flow": null,
       "grid_auto_rows": null,
       "grid_column": null,
       "grid_gap": null,
       "grid_row": null,
       "grid_template_areas": null,
       "grid_template_columns": null,
       "grid_template_rows": null,
       "height": null,
       "justify_content": null,
       "justify_items": null,
       "left": null,
       "margin": null,
       "max_height": null,
       "max_width": null,
       "min_height": null,
       "min_width": null,
       "object_fit": null,
       "object_position": null,
       "order": null,
       "overflow": null,
       "padding": null,
       "right": null,
       "top": null,
       "visibility": null,
       "width": null
      }
     },
     "602650c924944d42bc9d86c6996275cf": {
      "model_module": "@jupyter-widgets/controls",
      "model_module_version": "2.0.0",
      "model_name": "HTMLStyleModel",
      "state": {
       "_model_module": "@jupyter-widgets/controls",
       "_model_module_version": "2.0.0",
       "_model_name": "HTMLStyleModel",
       "_view_count": null,
       "_view_module": "@jupyter-widgets/base",
       "_view_module_version": "2.0.0",
       "_view_name": "StyleView",
       "background": null,
       "description_width": "",
       "font_size": null,
       "text_color": null
      }
     },
     "63ff8634ae08403ebdec299251d71d8a": {
      "model_module": "@jupyter-widgets/base",
      "model_module_version": "2.0.0",
      "model_name": "LayoutModel",
      "state": {
       "_model_module": "@jupyter-widgets/base",
       "_model_module_version": "2.0.0",
       "_model_name": "LayoutModel",
       "_view_count": null,
       "_view_module": "@jupyter-widgets/base",
       "_view_module_version": "2.0.0",
       "_view_name": "LayoutView",
       "align_content": null,
       "align_items": null,
       "align_self": null,
       "border_bottom": null,
       "border_left": null,
       "border_right": null,
       "border_top": null,
       "bottom": null,
       "display": null,
       "flex": null,
       "flex_flow": null,
       "grid_area": null,
       "grid_auto_columns": null,
       "grid_auto_flow": null,
       "grid_auto_rows": null,
       "grid_column": null,
       "grid_gap": null,
       "grid_row": null,
       "grid_template_areas": null,
       "grid_template_columns": null,
       "grid_template_rows": null,
       "height": null,
       "justify_content": null,
       "justify_items": null,
       "left": null,
       "margin": null,
       "max_height": null,
       "max_width": null,
       "min_height": null,
       "min_width": null,
       "object_fit": null,
       "object_position": null,
       "order": null,
       "overflow": null,
       "padding": null,
       "right": null,
       "top": null,
       "visibility": null,
       "width": null
      }
     },
     "6aaddeec039a4fc7890820c0cf9a7821": {
      "model_module": "@jupyter-widgets/controls",
      "model_module_version": "2.0.0",
      "model_name": "HTMLModel",
      "state": {
       "_dom_classes": [],
       "_model_module": "@jupyter-widgets/controls",
       "_model_module_version": "2.0.0",
       "_model_name": "HTMLModel",
       "_view_count": null,
       "_view_module": "@jupyter-widgets/controls",
       "_view_module_version": "2.0.0",
       "_view_name": "HTMLView",
       "description": "",
       "description_allow_html": false,
       "layout": "IPY_MODEL_63ff8634ae08403ebdec299251d71d8a",
       "placeholder": "​",
       "style": "IPY_MODEL_2b1159f390ec4e488b9fbc6c88056c33",
       "tabbable": null,
       "tooltip": null,
       "value": " 23519/23519 [00:01&lt;00:00, 19533.03 examples/s]"
      }
     },
     "73693367a13b4574a7f9545b57f0f2d7": {
      "model_module": "@jupyter-widgets/controls",
      "model_module_version": "2.0.0",
      "model_name": "HBoxModel",
      "state": {
       "_dom_classes": [],
       "_model_module": "@jupyter-widgets/controls",
       "_model_module_version": "2.0.0",
       "_model_name": "HBoxModel",
       "_view_count": null,
       "_view_module": "@jupyter-widgets/controls",
       "_view_module_version": "2.0.0",
       "_view_name": "HBoxView",
       "box_style": "",
       "children": [
        "IPY_MODEL_bbdfdc046dca48c68bfb141f5d0c3788",
        "IPY_MODEL_041be5818a574e7d9ea2be9d3ca221b1",
        "IPY_MODEL_6aaddeec039a4fc7890820c0cf9a7821"
       ],
       "layout": "IPY_MODEL_ff5b18dbe5384957954c4e14a1d1651a",
       "tabbable": null,
       "tooltip": null
      }
     },
     "8299dac6a12d4b08aab43b95b948538b": {
      "model_module": "@jupyter-widgets/controls",
      "model_module_version": "2.0.0",
      "model_name": "HTMLStyleModel",
      "state": {
       "_model_module": "@jupyter-widgets/controls",
       "_model_module_version": "2.0.0",
       "_model_name": "HTMLStyleModel",
       "_view_count": null,
       "_view_module": "@jupyter-widgets/base",
       "_view_module_version": "2.0.0",
       "_view_name": "StyleView",
       "background": null,
       "description_width": "",
       "font_size": null,
       "text_color": null
      }
     },
     "8885d542e4bf406eafbc00be234d195b": {
      "model_module": "@jupyter-widgets/controls",
      "model_module_version": "2.0.0",
      "model_name": "HTMLStyleModel",
      "state": {
       "_model_module": "@jupyter-widgets/controls",
       "_model_module_version": "2.0.0",
       "_model_name": "HTMLStyleModel",
       "_view_count": null,
       "_view_module": "@jupyter-widgets/base",
       "_view_module_version": "2.0.0",
       "_view_name": "StyleView",
       "background": null,
       "description_width": "",
       "font_size": null,
       "text_color": null
      }
     },
     "89679d2215d94440aa9b60be33bd6331": {
      "model_module": "@jupyter-widgets/base",
      "model_module_version": "2.0.0",
      "model_name": "LayoutModel",
      "state": {
       "_model_module": "@jupyter-widgets/base",
       "_model_module_version": "2.0.0",
       "_model_name": "LayoutModel",
       "_view_count": null,
       "_view_module": "@jupyter-widgets/base",
       "_view_module_version": "2.0.0",
       "_view_name": "LayoutView",
       "align_content": null,
       "align_items": null,
       "align_self": null,
       "border_bottom": null,
       "border_left": null,
       "border_right": null,
       "border_top": null,
       "bottom": null,
       "display": null,
       "flex": null,
       "flex_flow": null,
       "grid_area": null,
       "grid_auto_columns": null,
       "grid_auto_flow": null,
       "grid_auto_rows": null,
       "grid_column": null,
       "grid_gap": null,
       "grid_row": null,
       "grid_template_areas": null,
       "grid_template_columns": null,
       "grid_template_rows": null,
       "height": null,
       "justify_content": null,
       "justify_items": null,
       "left": null,
       "margin": null,
       "max_height": null,
       "max_width": null,
       "min_height": null,
       "min_width": null,
       "object_fit": null,
       "object_position": null,
       "order": null,
       "overflow": null,
       "padding": null,
       "right": null,
       "top": null,
       "visibility": null,
       "width": null
      }
     },
     "8d00132454434ee9864ab7881cfc3eff": {
      "model_module": "@jupyter-widgets/base",
      "model_module_version": "2.0.0",
      "model_name": "LayoutModel",
      "state": {
       "_model_module": "@jupyter-widgets/base",
       "_model_module_version": "2.0.0",
       "_model_name": "LayoutModel",
       "_view_count": null,
       "_view_module": "@jupyter-widgets/base",
       "_view_module_version": "2.0.0",
       "_view_name": "LayoutView",
       "align_content": null,
       "align_items": null,
       "align_self": null,
       "border_bottom": null,
       "border_left": null,
       "border_right": null,
       "border_top": null,
       "bottom": null,
       "display": null,
       "flex": null,
       "flex_flow": null,
       "grid_area": null,
       "grid_auto_columns": null,
       "grid_auto_flow": null,
       "grid_auto_rows": null,
       "grid_column": null,
       "grid_gap": null,
       "grid_row": null,
       "grid_template_areas": null,
       "grid_template_columns": null,
       "grid_template_rows": null,
       "height": null,
       "justify_content": null,
       "justify_items": null,
       "left": null,
       "margin": null,
       "max_height": null,
       "max_width": null,
       "min_height": null,
       "min_width": null,
       "object_fit": null,
       "object_position": null,
       "order": null,
       "overflow": null,
       "padding": null,
       "right": null,
       "top": null,
       "visibility": null,
       "width": null
      }
     },
     "90a0478022f14764a443ca7562eb54e8": {
      "model_module": "@jupyter-widgets/base",
      "model_module_version": "2.0.0",
      "model_name": "LayoutModel",
      "state": {
       "_model_module": "@jupyter-widgets/base",
       "_model_module_version": "2.0.0",
       "_model_name": "LayoutModel",
       "_view_count": null,
       "_view_module": "@jupyter-widgets/base",
       "_view_module_version": "2.0.0",
       "_view_name": "LayoutView",
       "align_content": null,
       "align_items": null,
       "align_self": null,
       "border_bottom": null,
       "border_left": null,
       "border_right": null,
       "border_top": null,
       "bottom": null,
       "display": null,
       "flex": null,
       "flex_flow": null,
       "grid_area": null,
       "grid_auto_columns": null,
       "grid_auto_flow": null,
       "grid_auto_rows": null,
       "grid_column": null,
       "grid_gap": null,
       "grid_row": null,
       "grid_template_areas": null,
       "grid_template_columns": null,
       "grid_template_rows": null,
       "height": null,
       "justify_content": null,
       "justify_items": null,
       "left": null,
       "margin": null,
       "max_height": null,
       "max_width": null,
       "min_height": null,
       "min_width": null,
       "object_fit": null,
       "object_position": null,
       "order": null,
       "overflow": null,
       "padding": null,
       "right": null,
       "top": null,
       "visibility": null,
       "width": null
      }
     },
     "9ba649962b8f4275886fe820d0f07dfe": {
      "model_module": "@jupyter-widgets/base",
      "model_module_version": "2.0.0",
      "model_name": "LayoutModel",
      "state": {
       "_model_module": "@jupyter-widgets/base",
       "_model_module_version": "2.0.0",
       "_model_name": "LayoutModel",
       "_view_count": null,
       "_view_module": "@jupyter-widgets/base",
       "_view_module_version": "2.0.0",
       "_view_name": "LayoutView",
       "align_content": null,
       "align_items": null,
       "align_self": null,
       "border_bottom": null,
       "border_left": null,
       "border_right": null,
       "border_top": null,
       "bottom": null,
       "display": null,
       "flex": null,
       "flex_flow": null,
       "grid_area": null,
       "grid_auto_columns": null,
       "grid_auto_flow": null,
       "grid_auto_rows": null,
       "grid_column": null,
       "grid_gap": null,
       "grid_row": null,
       "grid_template_areas": null,
       "grid_template_columns": null,
       "grid_template_rows": null,
       "height": null,
       "justify_content": null,
       "justify_items": null,
       "left": null,
       "margin": null,
       "max_height": null,
       "max_width": null,
       "min_height": null,
       "min_width": null,
       "object_fit": null,
       "object_position": null,
       "order": null,
       "overflow": null,
       "padding": null,
       "right": null,
       "top": null,
       "visibility": null,
       "width": null
      }
     },
     "a03a1091a81243aabd7ccfcc34f6e880": {
      "model_module": "@jupyter-widgets/controls",
      "model_module_version": "2.0.0",
      "model_name": "ProgressStyleModel",
      "state": {
       "_model_module": "@jupyter-widgets/controls",
       "_model_module_version": "2.0.0",
       "_model_name": "ProgressStyleModel",
       "_view_count": null,
       "_view_module": "@jupyter-widgets/base",
       "_view_module_version": "2.0.0",
       "_view_name": "StyleView",
       "bar_color": null,
       "description_width": ""
      }
     },
     "af743edbdf9942eebd03b93dae712f91": {
      "model_module": "@jupyter-widgets/base",
      "model_module_version": "2.0.0",
      "model_name": "LayoutModel",
      "state": {
       "_model_module": "@jupyter-widgets/base",
       "_model_module_version": "2.0.0",
       "_model_name": "LayoutModel",
       "_view_count": null,
       "_view_module": "@jupyter-widgets/base",
       "_view_module_version": "2.0.0",
       "_view_name": "LayoutView",
       "align_content": null,
       "align_items": null,
       "align_self": null,
       "border_bottom": null,
       "border_left": null,
       "border_right": null,
       "border_top": null,
       "bottom": null,
       "display": null,
       "flex": null,
       "flex_flow": null,
       "grid_area": null,
       "grid_auto_columns": null,
       "grid_auto_flow": null,
       "grid_auto_rows": null,
       "grid_column": null,
       "grid_gap": null,
       "grid_row": null,
       "grid_template_areas": null,
       "grid_template_columns": null,
       "grid_template_rows": null,
       "height": null,
       "justify_content": null,
       "justify_items": null,
       "left": null,
       "margin": null,
       "max_height": null,
       "max_width": null,
       "min_height": null,
       "min_width": null,
       "object_fit": null,
       "object_position": null,
       "order": null,
       "overflow": null,
       "padding": null,
       "right": null,
       "top": null,
       "visibility": null,
       "width": null
      }
     },
     "b9189419aa4548bdbe24cfc1e9ebed13": {
      "model_module": "@jupyter-widgets/base",
      "model_module_version": "2.0.0",
      "model_name": "LayoutModel",
      "state": {
       "_model_module": "@jupyter-widgets/base",
       "_model_module_version": "2.0.0",
       "_model_name": "LayoutModel",
       "_view_count": null,
       "_view_module": "@jupyter-widgets/base",
       "_view_module_version": "2.0.0",
       "_view_name": "LayoutView",
       "align_content": null,
       "align_items": null,
       "align_self": null,
       "border_bottom": null,
       "border_left": null,
       "border_right": null,
       "border_top": null,
       "bottom": null,
       "display": null,
       "flex": null,
       "flex_flow": null,
       "grid_area": null,
       "grid_auto_columns": null,
       "grid_auto_flow": null,
       "grid_auto_rows": null,
       "grid_column": null,
       "grid_gap": null,
       "grid_row": null,
       "grid_template_areas": null,
       "grid_template_columns": null,
       "grid_template_rows": null,
       "height": null,
       "justify_content": null,
       "justify_items": null,
       "left": null,
       "margin": null,
       "max_height": null,
       "max_width": null,
       "min_height": null,
       "min_width": null,
       "object_fit": null,
       "object_position": null,
       "order": null,
       "overflow": null,
       "padding": null,
       "right": null,
       "top": null,
       "visibility": null,
       "width": null
      }
     },
     "bbdfdc046dca48c68bfb141f5d0c3788": {
      "model_module": "@jupyter-widgets/controls",
      "model_module_version": "2.0.0",
      "model_name": "HTMLModel",
      "state": {
       "_dom_classes": [],
       "_model_module": "@jupyter-widgets/controls",
       "_model_module_version": "2.0.0",
       "_model_name": "HTMLModel",
       "_view_count": null,
       "_view_module": "@jupyter-widgets/controls",
       "_view_module_version": "2.0.0",
       "_view_name": "HTMLView",
       "description": "",
       "description_allow_html": false,
       "layout": "IPY_MODEL_32c877bddb884c29a79d7540861b1820",
       "placeholder": "​",
       "style": "IPY_MODEL_e11b769a706c40a5bd0518e498a9b3ba",
       "tabbable": null,
       "tooltip": null,
       "value": "Map: 100%"
      }
     },
     "c82e4c2d50a94babbedb64aaa362d3e3": {
      "model_module": "@jupyter-widgets/controls",
      "model_module_version": "2.0.0",
      "model_name": "HTMLModel",
      "state": {
       "_dom_classes": [],
       "_model_module": "@jupyter-widgets/controls",
       "_model_module_version": "2.0.0",
       "_model_name": "HTMLModel",
       "_view_count": null,
       "_view_module": "@jupyter-widgets/controls",
       "_view_module_version": "2.0.0",
       "_view_name": "HTMLView",
       "description": "",
       "description_allow_html": false,
       "layout": "IPY_MODEL_e2b7cf3c54354722810939b4c4ece8ac",
       "placeholder": "​",
       "style": "IPY_MODEL_602650c924944d42bc9d86c6996275cf",
       "tabbable": null,
       "tooltip": null,
       "value": "Map: 100%"
      }
     },
     "cba83b637e0a43a9999c0b6dba209307": {
      "model_module": "@jupyter-widgets/controls",
      "model_module_version": "2.0.0",
      "model_name": "ProgressStyleModel",
      "state": {
       "_model_module": "@jupyter-widgets/controls",
       "_model_module_version": "2.0.0",
       "_model_name": "ProgressStyleModel",
       "_view_count": null,
       "_view_module": "@jupyter-widgets/base",
       "_view_module_version": "2.0.0",
       "_view_name": "StyleView",
       "bar_color": null,
       "description_width": ""
      }
     },
     "dc07fdba5fc3418f9f90dc93e0927247": {
      "model_module": "@jupyter-widgets/controls",
      "model_module_version": "2.0.0",
      "model_name": "HTMLModel",
      "state": {
       "_dom_classes": [],
       "_model_module": "@jupyter-widgets/controls",
       "_model_module_version": "2.0.0",
       "_model_name": "HTMLModel",
       "_view_count": null,
       "_view_module": "@jupyter-widgets/controls",
       "_view_module_version": "2.0.0",
       "_view_name": "HTMLView",
       "description": "",
       "description_allow_html": false,
       "layout": "IPY_MODEL_89679d2215d94440aa9b60be33bd6331",
       "placeholder": "​",
       "style": "IPY_MODEL_8299dac6a12d4b08aab43b95b948538b",
       "tabbable": null,
       "tooltip": null,
       "value": "Map: 100%"
      }
     },
     "e11b769a706c40a5bd0518e498a9b3ba": {
      "model_module": "@jupyter-widgets/controls",
      "model_module_version": "2.0.0",
      "model_name": "HTMLStyleModel",
      "state": {
       "_model_module": "@jupyter-widgets/controls",
       "_model_module_version": "2.0.0",
       "_model_name": "HTMLStyleModel",
       "_view_count": null,
       "_view_module": "@jupyter-widgets/base",
       "_view_module_version": "2.0.0",
       "_view_name": "StyleView",
       "background": null,
       "description_width": "",
       "font_size": null,
       "text_color": null
      }
     },
     "e19aaa464480450f8dbe911270da2618": {
      "model_module": "@jupyter-widgets/controls",
      "model_module_version": "2.0.0",
      "model_name": "ProgressStyleModel",
      "state": {
       "_model_module": "@jupyter-widgets/controls",
       "_model_module_version": "2.0.0",
       "_model_name": "ProgressStyleModel",
       "_view_count": null,
       "_view_module": "@jupyter-widgets/base",
       "_view_module_version": "2.0.0",
       "_view_name": "StyleView",
       "bar_color": null,
       "description_width": ""
      }
     },
     "e2b7cf3c54354722810939b4c4ece8ac": {
      "model_module": "@jupyter-widgets/base",
      "model_module_version": "2.0.0",
      "model_name": "LayoutModel",
      "state": {
       "_model_module": "@jupyter-widgets/base",
       "_model_module_version": "2.0.0",
       "_model_name": "LayoutModel",
       "_view_count": null,
       "_view_module": "@jupyter-widgets/base",
       "_view_module_version": "2.0.0",
       "_view_name": "LayoutView",
       "align_content": null,
       "align_items": null,
       "align_self": null,
       "border_bottom": null,
       "border_left": null,
       "border_right": null,
       "border_top": null,
       "bottom": null,
       "display": null,
       "flex": null,
       "flex_flow": null,
       "grid_area": null,
       "grid_auto_columns": null,
       "grid_auto_flow": null,
       "grid_auto_rows": null,
       "grid_column": null,
       "grid_gap": null,
       "grid_row": null,
       "grid_template_areas": null,
       "grid_template_columns": null,
       "grid_template_rows": null,
       "height": null,
       "justify_content": null,
       "justify_items": null,
       "left": null,
       "margin": null,
       "max_height": null,
       "max_width": null,
       "min_height": null,
       "min_width": null,
       "object_fit": null,
       "object_position": null,
       "order": null,
       "overflow": null,
       "padding": null,
       "right": null,
       "top": null,
       "visibility": null,
       "width": null
      }
     },
     "e8509551dffa4074ac76713de1918dac": {
      "model_module": "@jupyter-widgets/controls",
      "model_module_version": "2.0.0",
      "model_name": "FloatProgressModel",
      "state": {
       "_dom_classes": [],
       "_model_module": "@jupyter-widgets/controls",
       "_model_module_version": "2.0.0",
       "_model_name": "FloatProgressModel",
       "_view_count": null,
       "_view_module": "@jupyter-widgets/controls",
       "_view_module_version": "2.0.0",
       "_view_name": "ProgressView",
       "bar_style": "success",
       "description": "",
       "description_allow_html": false,
       "layout": "IPY_MODEL_1913bd70d7eb4fe69bf167158b3a87a3",
       "max": 94073,
       "min": 0,
       "orientation": "horizontal",
       "style": "IPY_MODEL_cba83b637e0a43a9999c0b6dba209307",
       "tabbable": null,
       "tooltip": null,
       "value": 94073
      }
     },
     "ee94a6650b724b75b5bbd18cf320db21": {
      "model_module": "@jupyter-widgets/controls",
      "model_module_version": "2.0.0",
      "model_name": "HBoxModel",
      "state": {
       "_dom_classes": [],
       "_model_module": "@jupyter-widgets/controls",
       "_model_module_version": "2.0.0",
       "_model_name": "HBoxModel",
       "_view_count": null,
       "_view_module": "@jupyter-widgets/controls",
       "_view_module_version": "2.0.0",
       "_view_name": "HBoxView",
       "box_style": "",
       "children": [
        "IPY_MODEL_dc07fdba5fc3418f9f90dc93e0927247",
        "IPY_MODEL_215be3cadc474fe196fe5dbcf4680742",
        "IPY_MODEL_33581f30ac734f559000deb0f2cf5c92"
       ],
       "layout": "IPY_MODEL_af743edbdf9942eebd03b93dae712f91",
       "tabbable": null,
       "tooltip": null
      }
     },
     "f76eddd5ef974f438a755092d628b09c": {
      "model_module": "@jupyter-widgets/base",
      "model_module_version": "2.0.0",
      "model_name": "LayoutModel",
      "state": {
       "_model_module": "@jupyter-widgets/base",
       "_model_module_version": "2.0.0",
       "_model_name": "LayoutModel",
       "_view_count": null,
       "_view_module": "@jupyter-widgets/base",
       "_view_module_version": "2.0.0",
       "_view_name": "LayoutView",
       "align_content": null,
       "align_items": null,
       "align_self": null,
       "border_bottom": null,
       "border_left": null,
       "border_right": null,
       "border_top": null,
       "bottom": null,
       "display": null,
       "flex": null,
       "flex_flow": null,
       "grid_area": null,
       "grid_auto_columns": null,
       "grid_auto_flow": null,
       "grid_auto_rows": null,
       "grid_column": null,
       "grid_gap": null,
       "grid_row": null,
       "grid_template_areas": null,
       "grid_template_columns": null,
       "grid_template_rows": null,
       "height": null,
       "justify_content": null,
       "justify_items": null,
       "left": null,
       "margin": null,
       "max_height": null,
       "max_width": null,
       "min_height": null,
       "min_width": null,
       "object_fit": null,
       "object_position": null,
       "order": null,
       "overflow": null,
       "padding": null,
       "right": null,
       "top": null,
       "visibility": null,
       "width": null
      }
     },
     "fa1515f426534f37b9e3e70cc9ac13fe": {
      "model_module": "@jupyter-widgets/controls",
      "model_module_version": "2.0.0",
      "model_name": "HBoxModel",
      "state": {
       "_dom_classes": [],
       "_model_module": "@jupyter-widgets/controls",
       "_model_module_version": "2.0.0",
       "_model_name": "HBoxModel",
       "_view_count": null,
       "_view_module": "@jupyter-widgets/controls",
       "_view_module_version": "2.0.0",
       "_view_name": "HBoxView",
       "box_style": "",
       "children": [
        "IPY_MODEL_c82e4c2d50a94babbedb64aaa362d3e3",
        "IPY_MODEL_47c8900863114dd49eb244fc11621616",
        "IPY_MODEL_5327d30e04d94256a78eab6181054d8b"
       ],
       "layout": "IPY_MODEL_8d00132454434ee9864ab7881cfc3eff",
       "tabbable": null,
       "tooltip": null
      }
     },
     "fce35c5e2c724a98bc5373a7607fb5ff": {
      "model_module": "@jupyter-widgets/base",
      "model_module_version": "2.0.0",
      "model_name": "LayoutModel",
      "state": {
       "_model_module": "@jupyter-widgets/base",
       "_model_module_version": "2.0.0",
       "_model_name": "LayoutModel",
       "_view_count": null,
       "_view_module": "@jupyter-widgets/base",
       "_view_module_version": "2.0.0",
       "_view_name": "LayoutView",
       "align_content": null,
       "align_items": null,
       "align_self": null,
       "border_bottom": null,
       "border_left": null,
       "border_right": null,
       "border_top": null,
       "bottom": null,
       "display": null,
       "flex": null,
       "flex_flow": null,
       "grid_area": null,
       "grid_auto_columns": null,
       "grid_auto_flow": null,
       "grid_auto_rows": null,
       "grid_column": null,
       "grid_gap": null,
       "grid_row": null,
       "grid_template_areas": null,
       "grid_template_columns": null,
       "grid_template_rows": null,
       "height": null,
       "justify_content": null,
       "justify_items": null,
       "left": null,
       "margin": null,
       "max_height": null,
       "max_width": null,
       "min_height": null,
       "min_width": null,
       "object_fit": null,
       "object_position": null,
       "order": null,
       "overflow": null,
       "padding": null,
       "right": null,
       "top": null,
       "visibility": null,
       "width": null
      }
     },
     "ff5b18dbe5384957954c4e14a1d1651a": {
      "model_module": "@jupyter-widgets/base",
      "model_module_version": "2.0.0",
      "model_name": "LayoutModel",
      "state": {
       "_model_module": "@jupyter-widgets/base",
       "_model_module_version": "2.0.0",
       "_model_name": "LayoutModel",
       "_view_count": null,
       "_view_module": "@jupyter-widgets/base",
       "_view_module_version": "2.0.0",
       "_view_name": "LayoutView",
       "align_content": null,
       "align_items": null,
       "align_self": null,
       "border_bottom": null,
       "border_left": null,
       "border_right": null,
       "border_top": null,
       "bottom": null,
       "display": null,
       "flex": null,
       "flex_flow": null,
       "grid_area": null,
       "grid_auto_columns": null,
       "grid_auto_flow": null,
       "grid_auto_rows": null,
       "grid_column": null,
       "grid_gap": null,
       "grid_row": null,
       "grid_template_areas": null,
       "grid_template_columns": null,
       "grid_template_rows": null,
       "height": null,
       "justify_content": null,
       "justify_items": null,
       "left": null,
       "margin": null,
       "max_height": null,
       "max_width": null,
       "min_height": null,
       "min_width": null,
       "object_fit": null,
       "object_position": null,
       "order": null,
       "overflow": null,
       "padding": null,
       "right": null,
       "top": null,
       "visibility": null,
       "width": null
      }
     }
    },
    "version_major": 2,
    "version_minor": 0
   }
  }
 },
 "nbformat": 4,
 "nbformat_minor": 5
}
