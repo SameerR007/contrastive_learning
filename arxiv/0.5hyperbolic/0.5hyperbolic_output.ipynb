{
 "cells": [
  {
   "cell_type": "code",
   "execution_count": 1,
   "id": "c643a105",
   "metadata": {
    "execution": {
     "iopub.execute_input": "2025-02-03T14:02:27.792281Z",
     "iopub.status.busy": "2025-02-03T14:02:27.791814Z",
     "iopub.status.idle": "2025-02-03T14:02:28.798686Z",
     "shell.execute_reply": "2025-02-03T14:02:28.798296Z"
    },
    "papermill": {
     "duration": 1.015894,
     "end_time": "2025-02-03T14:02:28.799508",
     "exception": false,
     "start_time": "2025-02-03T14:02:27.783614",
     "status": "completed"
    },
    "tags": []
   },
   "outputs": [],
   "source": [
    "from datasets import load_dataset"
   ]
  },
  {
   "cell_type": "code",
   "execution_count": 2,
   "id": "bcba0194",
   "metadata": {
    "execution": {
     "iopub.execute_input": "2025-02-03T14:02:28.811727Z",
     "iopub.status.busy": "2025-02-03T14:02:28.811332Z",
     "iopub.status.idle": "2025-02-03T14:02:30.568248Z",
     "shell.execute_reply": "2025-02-03T14:02:30.567905Z"
    },
    "papermill": {
     "duration": 1.763527,
     "end_time": "2025-02-03T14:02:30.568943",
     "exception": false,
     "start_time": "2025-02-03T14:02:28.805416",
     "status": "completed"
    },
    "tags": []
   },
   "outputs": [],
   "source": [
    "dataset = load_dataset(\"CShorten/ML-ArXiv-Papers\")"
   ]
  },
  {
   "cell_type": "code",
   "execution_count": 3,
   "id": "9c77ff31",
   "metadata": {
    "execution": {
     "iopub.execute_input": "2025-02-03T14:02:30.579472Z",
     "iopub.status.busy": "2025-02-03T14:02:30.579336Z",
     "iopub.status.idle": "2025-02-03T14:02:30.583490Z",
     "shell.execute_reply": "2025-02-03T14:02:30.583194Z"
    },
    "papermill": {
     "duration": 0.009902,
     "end_time": "2025-02-03T14:02:30.584061",
     "exception": false,
     "start_time": "2025-02-03T14:02:30.574159",
     "status": "completed"
    },
    "tags": []
   },
   "outputs": [
    {
     "data": {
      "text/plain": [
       "DatasetDict({\n",
       "    train: Dataset({\n",
       "        features: ['Unnamed: 0.1', 'Unnamed: 0', 'title', 'abstract'],\n",
       "        num_rows: 117592\n",
       "    })\n",
       "})"
      ]
     },
     "execution_count": 3,
     "metadata": {},
     "output_type": "execute_result"
    }
   ],
   "source": [
    "dataset"
   ]
  },
  {
   "cell_type": "code",
   "execution_count": 4,
   "id": "04a2a273",
   "metadata": {
    "execution": {
     "iopub.execute_input": "2025-02-03T14:02:30.595636Z",
     "iopub.status.busy": "2025-02-03T14:02:30.595487Z",
     "iopub.status.idle": "2025-02-03T14:02:30.629377Z",
     "shell.execute_reply": "2025-02-03T14:02:30.629035Z"
    },
    "papermill": {
     "duration": 0.040097,
     "end_time": "2025-02-03T14:02:30.630087",
     "exception": false,
     "start_time": "2025-02-03T14:02:30.589990",
     "status": "completed"
    },
    "tags": []
   },
   "outputs": [],
   "source": [
    "split_datasets = dataset[\"train\"].train_test_split(test_size=0.2)"
   ]
  },
  {
   "cell_type": "code",
   "execution_count": 5,
   "id": "9dbe1eb6",
   "metadata": {
    "execution": {
     "iopub.execute_input": "2025-02-03T14:02:30.640665Z",
     "iopub.status.busy": "2025-02-03T14:02:30.640527Z",
     "iopub.status.idle": "2025-02-03T14:02:30.643203Z",
     "shell.execute_reply": "2025-02-03T14:02:30.642906Z"
    },
    "papermill": {
     "duration": 0.008516,
     "end_time": "2025-02-03T14:02:30.643808",
     "exception": false,
     "start_time": "2025-02-03T14:02:30.635292",
     "status": "completed"
    },
    "tags": []
   },
   "outputs": [
    {
     "data": {
      "text/plain": [
       "DatasetDict({\n",
       "    train: Dataset({\n",
       "        features: ['Unnamed: 0.1', 'Unnamed: 0', 'title', 'abstract'],\n",
       "        num_rows: 94073\n",
       "    })\n",
       "    test: Dataset({\n",
       "        features: ['Unnamed: 0.1', 'Unnamed: 0', 'title', 'abstract'],\n",
       "        num_rows: 23519\n",
       "    })\n",
       "})"
      ]
     },
     "execution_count": 5,
     "metadata": {},
     "output_type": "execute_result"
    }
   ],
   "source": [
    "split_datasets"
   ]
  },
  {
   "cell_type": "code",
   "execution_count": 6,
   "id": "3e518138",
   "metadata": {
    "execution": {
     "iopub.execute_input": "2025-02-03T14:02:30.654713Z",
     "iopub.status.busy": "2025-02-03T14:02:30.654317Z",
     "iopub.status.idle": "2025-02-03T14:02:30.656409Z",
     "shell.execute_reply": "2025-02-03T14:02:30.656092Z"
    },
    "papermill": {
     "duration": 0.008139,
     "end_time": "2025-02-03T14:02:30.656962",
     "exception": false,
     "start_time": "2025-02-03T14:02:30.648823",
     "status": "completed"
    },
    "tags": []
   },
   "outputs": [],
   "source": [
    "dataset_train = split_datasets[\"train\"]"
   ]
  },
  {
   "cell_type": "code",
   "execution_count": 7,
   "id": "0f892510",
   "metadata": {
    "execution": {
     "iopub.execute_input": "2025-02-03T14:02:30.667956Z",
     "iopub.status.busy": "2025-02-03T14:02:30.667521Z",
     "iopub.status.idle": "2025-02-03T14:02:30.670288Z",
     "shell.execute_reply": "2025-02-03T14:02:30.670009Z"
    },
    "papermill": {
     "duration": 0.008824,
     "end_time": "2025-02-03T14:02:30.670838",
     "exception": false,
     "start_time": "2025-02-03T14:02:30.662014",
     "status": "completed"
    },
    "tags": []
   },
   "outputs": [
    {
     "data": {
      "text/plain": [
       "Dataset({\n",
       "    features: ['Unnamed: 0.1', 'Unnamed: 0', 'title', 'abstract'],\n",
       "    num_rows: 94073\n",
       "})"
      ]
     },
     "execution_count": 7,
     "metadata": {},
     "output_type": "execute_result"
    }
   ],
   "source": [
    "dataset_train"
   ]
  },
  {
   "cell_type": "code",
   "execution_count": 8,
   "id": "135d2875",
   "metadata": {
    "execution": {
     "iopub.execute_input": "2025-02-03T14:02:30.682067Z",
     "iopub.status.busy": "2025-02-03T14:02:30.681743Z",
     "iopub.status.idle": "2025-02-03T14:02:30.684794Z",
     "shell.execute_reply": "2025-02-03T14:02:30.684498Z"
    },
    "papermill": {
     "duration": 0.00926,
     "end_time": "2025-02-03T14:02:30.685361",
     "exception": false,
     "start_time": "2025-02-03T14:02:30.676101",
     "status": "completed"
    },
    "tags": []
   },
   "outputs": [],
   "source": [
    "dataset_train = dataset_train.remove_columns(['Unnamed: 0','Unnamed: 0.1'])"
   ]
  },
  {
   "cell_type": "code",
   "execution_count": 9,
   "id": "cbcdbc4c",
   "metadata": {
    "execution": {
     "iopub.execute_input": "2025-02-03T14:02:30.696189Z",
     "iopub.status.busy": "2025-02-03T14:02:30.696067Z",
     "iopub.status.idle": "2025-02-03T14:02:30.698510Z",
     "shell.execute_reply": "2025-02-03T14:02:30.698224Z"
    },
    "papermill": {
     "duration": 0.008496,
     "end_time": "2025-02-03T14:02:30.699089",
     "exception": false,
     "start_time": "2025-02-03T14:02:30.690593",
     "status": "completed"
    },
    "tags": []
   },
   "outputs": [
    {
     "data": {
      "text/plain": [
       "Dataset({\n",
       "    features: ['title', 'abstract'],\n",
       "    num_rows: 94073\n",
       "})"
      ]
     },
     "execution_count": 9,
     "metadata": {},
     "output_type": "execute_result"
    }
   ],
   "source": [
    "dataset_train"
   ]
  },
  {
   "cell_type": "code",
   "execution_count": 10,
   "id": "1c3dbc53",
   "metadata": {
    "execution": {
     "iopub.execute_input": "2025-02-03T14:02:30.710020Z",
     "iopub.status.busy": "2025-02-03T14:02:30.709898Z",
     "iopub.status.idle": "2025-02-03T14:02:30.712687Z",
     "shell.execute_reply": "2025-02-03T14:02:30.712408Z"
    },
    "papermill": {
     "duration": 0.008931,
     "end_time": "2025-02-03T14:02:30.713256",
     "exception": false,
     "start_time": "2025-02-03T14:02:30.704325",
     "status": "completed"
    },
    "tags": []
   },
   "outputs": [
    {
     "data": {
      "text/plain": [
       "{'title': 'MLM: A Benchmark Dataset for Multitask Learning with Multiple Languages\\n  and Modalities',\n",
       " 'abstract': '  In this paper, we introduce the MLM (Multiple Languages and Modalities)\\ndataset - a new resource to train and evaluate multitask systems on samples in\\nmultiple modalities and three languages. The generation process and inclusion\\nof semantic data provide a resource that further tests the ability for\\nmultitask systems to learn relationships between entities. The dataset is\\ndesigned for researchers and developers who build applications that perform\\nmultiple tasks on data encountered on the web and in digital archives. A second\\nversion of MLM provides a geo-representative subset of the data with weighted\\nsamples for countries of the European Union. We demonstrate the value of the\\nresource in developing novel applications in the digital humanities with a\\nmotivating use case and specify a benchmark set of tasks to retrieve modalities\\nand locate entities in the dataset. Evaluation of baseline multitask and single\\ntask systems on the full and geo-representative versions of MLM demonstrate the\\nchallenges of generalising on diverse data. In addition to the digital\\nhumanities, we expect the resource to contribute to research in multimodal\\nrepresentation learning, location estimation, and scene understanding.\\n'}"
      ]
     },
     "execution_count": 10,
     "metadata": {},
     "output_type": "execute_result"
    }
   ],
   "source": [
    "dataset_train[0]"
   ]
  },
  {
   "cell_type": "code",
   "execution_count": 11,
   "id": "045e63c7",
   "metadata": {
    "execution": {
     "iopub.execute_input": "2025-02-03T14:02:30.724409Z",
     "iopub.status.busy": "2025-02-03T14:02:30.724285Z",
     "iopub.status.idle": "2025-02-03T14:02:35.256738Z",
     "shell.execute_reply": "2025-02-03T14:02:35.256410Z"
    },
    "papermill": {
     "duration": 4.538704,
     "end_time": "2025-02-03T14:02:35.257352",
     "exception": false,
     "start_time": "2025-02-03T14:02:30.718648",
     "status": "completed"
    },
    "tags": []
   },
   "outputs": [
    {
     "data": {
      "application/vnd.jupyter.widget-view+json": {
       "model_id": "399f9c9af1bf4b66a18255888610ccd5",
       "version_major": 2,
       "version_minor": 0
      },
      "text/plain": [
       "Map:   0%|          | 0/94073 [00:00<?, ? examples/s]"
      ]
     },
     "metadata": {},
     "output_type": "display_data"
    }
   ],
   "source": [
    "dataset_train = dataset_train.map(lambda x, idx: { 'index': idx }, with_indices=True)"
   ]
  },
  {
   "cell_type": "code",
   "execution_count": 12,
   "id": "f4e9748a",
   "metadata": {
    "execution": {
     "iopub.execute_input": "2025-02-03T14:02:35.271453Z",
     "iopub.status.busy": "2025-02-03T14:02:35.271285Z",
     "iopub.status.idle": "2025-02-03T14:02:35.274063Z",
     "shell.execute_reply": "2025-02-03T14:02:35.273771Z"
    },
    "papermill": {
     "duration": 0.009351,
     "end_time": "2025-02-03T14:02:35.274628",
     "exception": false,
     "start_time": "2025-02-03T14:02:35.265277",
     "status": "completed"
    },
    "tags": []
   },
   "outputs": [
    {
     "data": {
      "text/plain": [
       "Dataset({\n",
       "    features: ['title', 'abstract', 'index'],\n",
       "    num_rows: 94073\n",
       "})"
      ]
     },
     "execution_count": 12,
     "metadata": {},
     "output_type": "execute_result"
    }
   ],
   "source": [
    "dataset_train"
   ]
  },
  {
   "cell_type": "code",
   "execution_count": 13,
   "id": "69efe8a2",
   "metadata": {
    "execution": {
     "iopub.execute_input": "2025-02-03T14:02:35.286606Z",
     "iopub.status.busy": "2025-02-03T14:02:35.286188Z",
     "iopub.status.idle": "2025-02-03T14:02:35.289309Z",
     "shell.execute_reply": "2025-02-03T14:02:35.288994Z"
    },
    "papermill": {
     "duration": 0.00971,
     "end_time": "2025-02-03T14:02:35.289875",
     "exception": false,
     "start_time": "2025-02-03T14:02:35.280165",
     "status": "completed"
    },
    "tags": []
   },
   "outputs": [
    {
     "data": {
      "text/plain": [
       "{'title': 'BCR-Net: a neural network based on the nonstandard wavelet form',\n",
       " 'abstract': '  This paper proposes a novel neural network architecture inspired by the\\nnonstandard form proposed by Beylkin, Coifman, and Rokhlin in [Communications\\non Pure and Applied Mathematics, 44(2), 141-183]. The nonstandard form is a\\nhighly effective wavelet-based compression scheme for linear integral\\noperators. In this work, we first represent the matrix-vector product algorithm\\nof the nonstandard form as a linear neural network where every scale of the\\nmultiresolution computation is carried out by a locally connected linear\\nsub-network. In order to address nonlinear problems, we propose an extension,\\ncalled BCR-Net, by replacing each linear sub-network with a deeper and more\\npowerful nonlinear one. Numerical results demonstrate the efficiency of the new\\narchitecture by approximating nonlinear maps that arise in homogenization\\ntheory and stochastic computation.\\n',\n",
       " 'index': 4}"
      ]
     },
     "execution_count": 13,
     "metadata": {},
     "output_type": "execute_result"
    }
   ],
   "source": [
    "dataset_train[4]"
   ]
  },
  {
   "cell_type": "code",
   "execution_count": 14,
   "id": "63f1c92e",
   "metadata": {
    "execution": {
     "iopub.execute_input": "2025-02-03T14:02:35.301762Z",
     "iopub.status.busy": "2025-02-03T14:02:35.301372Z",
     "iopub.status.idle": "2025-02-03T14:02:35.304401Z",
     "shell.execute_reply": "2025-02-03T14:02:35.304122Z"
    },
    "papermill": {
     "duration": 0.009448,
     "end_time": "2025-02-03T14:02:35.304942",
     "exception": false,
     "start_time": "2025-02-03T14:02:35.295494",
     "status": "completed"
    },
    "tags": []
   },
   "outputs": [
    {
     "data": {
      "text/plain": [
       "{'title': 'Care2Vec: A Deep learning approach for the classification of self-care\\n  problems in physically disabled children',\n",
       " 'abstract': '  Accurate classification of self-care problems in children who suffer from\\nphysical and motor affliction is an important problem in the healthcare\\nindustry. This is a difficult and a time consumming process and it needs the\\nexpertise of occupational therapists. In recent years, healthcare professionals\\nhave opened up to the idea of using expert systems and artificial intelligence\\nin the diagnosis and classification of self care problems. In this study, we\\npropose a new deep learning based approach named Care2Vec for solving these\\nkind of problems and use a real world self care activities dataset that is\\nbased on a conceptual framework designed by the World Health Organization\\n(WHO). Care2Vec is a mix of unsupervised and supervised learning where we use\\nAutoencoders and Deep neural networks as a two step modeling process. We found\\nthat Care2Vec has a better prediction accuracy than some of the traditional\\nmethods reported in the literature for solving the self care classification\\nproblem viz. Decision trees and Artificial neural networks.\\n',\n",
       " 'index': 20572}"
      ]
     },
     "execution_count": 14,
     "metadata": {},
     "output_type": "execute_result"
    }
   ],
   "source": [
    "dataset_train[20572]"
   ]
  },
  {
   "cell_type": "code",
   "execution_count": 15,
   "id": "e9993947",
   "metadata": {
    "execution": {
     "iopub.execute_input": "2025-02-03T14:02:35.316838Z",
     "iopub.status.busy": "2025-02-03T14:02:35.316456Z",
     "iopub.status.idle": "2025-02-03T14:02:35.363298Z",
     "shell.execute_reply": "2025-02-03T14:02:35.362987Z"
    },
    "papermill": {
     "duration": 0.053265,
     "end_time": "2025-02-03T14:02:35.363812",
     "exception": false,
     "start_time": "2025-02-03T14:02:35.310547",
     "status": "completed"
    },
    "tags": []
   },
   "outputs": [],
   "source": [
    "import numpy as np\n",
    "all_indexes = np.array(dataset_train['index'])"
   ]
  },
  {
   "cell_type": "code",
   "execution_count": 16,
   "id": "3c956f8e",
   "metadata": {
    "execution": {
     "iopub.execute_input": "2025-02-03T14:02:35.375758Z",
     "iopub.status.busy": "2025-02-03T14:02:35.375635Z",
     "iopub.status.idle": "2025-02-03T14:02:35.378647Z",
     "shell.execute_reply": "2025-02-03T14:02:35.378354Z"
    },
    "papermill": {
     "duration": 0.009609,
     "end_time": "2025-02-03T14:02:35.379231",
     "exception": false,
     "start_time": "2025-02-03T14:02:35.369622",
     "status": "completed"
    },
    "tags": []
   },
   "outputs": [],
   "source": [
    "import random\n",
    "\n",
    "def generate_hard_negatives(example, num_negatives=10,dataset=dataset_train):\n",
    "    query_index = example['index'] \n",
    "    anchor = example['title']\n",
    "    positive = example['abstract']\n",
    "    \n",
    "    negatives = []\n",
    "    \n",
    "    negative_indexes = np.delete(all_indexes, np.where(all_indexes == query_index)) \n",
    "    \n",
    "    sampled_negatives = random.sample(list(negative_indexes), num_negatives)\n",
    "    \n",
    "    for idx in sampled_negatives:\n",
    "        negatives.append(dataset[int(idx)]['abstract'])\n",
    "    \n",
    "    return {\n",
    "        \"query\": anchor,\n",
    "        \"positive\": positive,\n",
    "        \"negatives\": negatives\n",
    "    }"
   ]
  },
  {
   "cell_type": "code",
   "execution_count": 17,
   "id": "6ab12866",
   "metadata": {
    "execution": {
     "iopub.execute_input": "2025-02-03T14:02:35.391300Z",
     "iopub.status.busy": "2025-02-03T14:02:35.391178Z",
     "iopub.status.idle": "2025-02-03T14:09:09.140906Z",
     "shell.execute_reply": "2025-02-03T14:09:09.140455Z"
    },
    "papermill": {
     "duration": 393.756429,
     "end_time": "2025-02-03T14:09:09.141598",
     "exception": false,
     "start_time": "2025-02-03T14:02:35.385169",
     "status": "completed"
    },
    "tags": []
   },
   "outputs": [
    {
     "data": {
      "application/vnd.jupyter.widget-view+json": {
       "model_id": "c764b33a5ace4eadab77c871608827b4",
       "version_major": 2,
       "version_minor": 0
      },
      "text/plain": [
       "Map:   0%|          | 0/94073 [00:00<?, ? examples/s]"
      ]
     },
     "metadata": {},
     "output_type": "display_data"
    }
   ],
   "source": [
    "processed_data_train = dataset_train.map(generate_hard_negatives, remove_columns=dataset_train.column_names)"
   ]
  },
  {
   "cell_type": "code",
   "execution_count": 18,
   "id": "861c271d",
   "metadata": {
    "execution": {
     "iopub.execute_input": "2025-02-03T14:09:09.155854Z",
     "iopub.status.busy": "2025-02-03T14:09:09.155700Z",
     "iopub.status.idle": "2025-02-03T14:09:09.159373Z",
     "shell.execute_reply": "2025-02-03T14:09:09.159088Z"
    },
    "papermill": {
     "duration": 0.010754,
     "end_time": "2025-02-03T14:09:09.159931",
     "exception": false,
     "start_time": "2025-02-03T14:09:09.149177",
     "status": "completed"
    },
    "tags": []
   },
   "outputs": [
    {
     "data": {
      "text/plain": [
       "Dataset({\n",
       "    features: ['query', 'positive', 'negatives'],\n",
       "    num_rows: 94073\n",
       "})"
      ]
     },
     "execution_count": 18,
     "metadata": {},
     "output_type": "execute_result"
    }
   ],
   "source": [
    "processed_data_train"
   ]
  },
  {
   "cell_type": "code",
   "execution_count": 19,
   "id": "96368bc5",
   "metadata": {
    "execution": {
     "iopub.execute_input": "2025-02-03T14:09:09.172235Z",
     "iopub.status.busy": "2025-02-03T14:09:09.171993Z",
     "iopub.status.idle": "2025-02-03T14:09:09.175036Z",
     "shell.execute_reply": "2025-02-03T14:09:09.174740Z"
    },
    "papermill": {
     "duration": 0.009715,
     "end_time": "2025-02-03T14:09:09.175562",
     "exception": false,
     "start_time": "2025-02-03T14:09:09.165847",
     "status": "completed"
    },
    "tags": []
   },
   "outputs": [
    {
     "data": {
      "text/plain": [
       "{'query': 'MLM: A Benchmark Dataset for Multitask Learning with Multiple Languages\\n  and Modalities',\n",
       " 'positive': '  In this paper, we introduce the MLM (Multiple Languages and Modalities)\\ndataset - a new resource to train and evaluate multitask systems on samples in\\nmultiple modalities and three languages. The generation process and inclusion\\nof semantic data provide a resource that further tests the ability for\\nmultitask systems to learn relationships between entities. The dataset is\\ndesigned for researchers and developers who build applications that perform\\nmultiple tasks on data encountered on the web and in digital archives. A second\\nversion of MLM provides a geo-representative subset of the data with weighted\\nsamples for countries of the European Union. We demonstrate the value of the\\nresource in developing novel applications in the digital humanities with a\\nmotivating use case and specify a benchmark set of tasks to retrieve modalities\\nand locate entities in the dataset. Evaluation of baseline multitask and single\\ntask systems on the full and geo-representative versions of MLM demonstrate the\\nchallenges of generalising on diverse data. In addition to the digital\\nhumanities, we expect the resource to contribute to research in multimodal\\nrepresentation learning, location estimation, and scene understanding.\\n',\n",
       " 'negatives': [\"  Deep learning has shown its power in many applications, including object\\ndetection in images, natural-language understanding, and speech recognition. To\\nmake it more accessible to end users, many deep learning models are now\\nembedded in mobile apps. Compared to offloading deep learning from smartphones\\nto the cloud, performing machine learning on-device can help improve latency,\\nconnectivity, and power consumption. However, most deep learning models within\\nAndroid apps can easily be obtained via mature reverse engineering, while the\\nmodels' exposure may invite adversarial attacks. In this study, we propose a\\nsimple but effective approach to hacking deep learning models using adversarial\\nattacks by identifying highly similar pre-trained models from TensorFlow Hub.\\nAll 10 real-world Android apps in the experiment are successfully attacked by\\nour approach. Apart from the feasibility of the model attack, we also carry out\\nan empirical study that investigates the characteristics of deep learning\\nmodels used by hundreds of Android apps on Google Play. The results show that\\nmany of them are similar to each other and widely use fine-tuning techniques to\\npre-trained models on the Internet.\\n\",\n",
       "  '  In industrial systems, certain process variables that need to be monitored\\nfor detecting faults are often difficult or impossible to measure. Soft sensor\\ntechniques are widely used to estimate such difficult-to-measure process\\nvariables from easy-to-measure ones. Soft sensor modeling requires training\\ndatasets including the information of various states such as operation modes,\\nbut the fault dataset with the target variable is insufficient as the training\\ndataset. This paper describes a semi-supervised approach to soft sensor\\nmodeling to incorporate an incomplete dataset without the target variable in\\nthe training dataset. To incorporate the incomplete dataset, we consider the\\nproperties of processes at transition points between operation modes in the\\nsystem. The regression coefficients of the operation modes are estimated under\\nconstraint conditions obtained from the information on the mode transitions. In\\na case study, this constrained soft sensor modeling was used to predict\\nrefrigerant leaks in air-conditioning systems with heating and cooling\\noperation modes. The results show that this modeling method is promising for\\nsoft sensors in a system with multiple operation modes.\\n',\n",
       "  \"HyperDimensional Computing (HDC) as a machine learning paradigm is highly\\ninteresting for applications involving continuous, semi-supervised learning for\\nlong-term monitoring. However, its accuracy is not yet on par with other\\nMachine Learning (ML) approaches. Frameworks enabling fast design space\\nexploration to find practical algorithms are necessary to make HD computing\\ncompetitive with other ML techniques. To this end, we introduce HDTorch, an\\nopen-source, PyTorch-based HDC library with CUDA extensions for hypervector\\noperations. We demonstrate HDTorch's utility by analyzing four HDC benchmark\\ndatasets in terms of accuracy, runtime, and memory consumption, utilizing both\\nclassical and online HD training methodologies. We demonstrate average\\n(training)/inference speedups of (111x/68x)/87x for classical/online HD,\\nrespectively. Moreover, we analyze the effects of varying hyperparameters on\\nruntime and accuracy. Finally, we demonstrate how HDTorch enables exploration\\nof HDC strategies applied to large, real-world datasets. We perform the\\nfirst-ever HD training and inference analysis of the entirety of the CHB-MIT\\nEEG epilepsy database. Results show that the typical approach of training on a\\nsubset of the data does not necessarily generalize to the entire dataset, an\\nimportant factor when developing future HD models for medical wearable devices.\",\n",
       "  '  Modern indoor localization techniques are essential to overcome the weak GPS\\ncoverage in indoor environments. Recently, considerable progress has been made\\nin Channel State Information (CSI) based indoor localization with signal\\nfingerprints. However, CSI signal patterns can be complicated in the large and\\nhighly dynamic indoor spaces with complex interiors, thus a solution for\\nsolving this issue is urgently needed to expand the applications of CSI to a\\nbroader indoor space. In this paper, we propose an end-to-end solution\\nincluding data collection, pattern clustering, denoising, calibration and a\\nlightweight one-dimensional convolutional neural network (1D CNN) model with\\nCSI fingerprinting to tackle this problem. We have also created and plan to\\nopen source a CSI dataset with a large amount of data collected across complex\\nindoor environments at Colorado State University. Experiments indicate that our\\napproach achieves up to 68.5% improved performance (mean distance error) with\\nminimal number of parameters, compared to the best-known deep machine learning\\nand CSI-based indoor localization works.\\n',\n",
       "  '  Most machine learning techniques are based upon statistical learning theory,\\noften simplified for the sake of computing speed. This paper is focused on the\\nuncertainty aspect of mathematical modeling in machine learning. Regression\\nanalysis is chosen to further investigate the evaluation aspect of uncertainty\\nin model coefficients and, more importantly, in the output feature value\\npredictions. A survey demonstrates major stages in the conventional least\\nsquares approach to the creation of the regression model, along with its\\nuncertainty estimation. On the other hand, it is shown that in machine learning\\nthe model complexity and severe nonlinearity become serious obstacles to\\nuncertainty evaluation. Furthermore, the process of machine model training\\ndemands high computing power, not available at the level of personal computers.\\nThis is why so-called pre-trained models are widely used in such areas of\\nmachine learning as natural language processing. The latest example of a\\npre-trained model is the Generative Pre-trained Transformer 3 with hundreds of\\nbillions of parameters and a half-terabyte training dataset. Similarly,\\nmathematical models built from real data are growing in complexity which is\\naccompanied by the growing amount of training data. However, when machine\\nmodels and their predictions are used in decision-making, one needs to estimate\\nuncertainty and evaluate accompanying risks. This problem could be resolved\\nwith non-parametric techniques at the expense of greater demand for computing\\npower, which can be offered by modern supercomputers available, including those\\nutilizing graphical and tensor processing units along with the conventional\\ncentral processors.\\n',\n",
       "  \"  In this paper, we introduce two indoor Wireless Local Area Network (WLAN)\\npositioning methods using augmented sparse recovery algorithms. These schemes\\nrender a sparse user's position vector, and in parallel, minimize the distance\\nbetween the online measurement and radio map. The overall localization scheme\\nfor both methods consists of three steps: 1) coarse localization, obtained from\\ncomparing the online measurements with clustered radio map. A novel graph-based\\nmethod is proposed to cluster the offline fingerprints. In the online phase, a\\nRegion Of Interest (ROI) is selected within which we search for the user's\\nlocation; 2) Access Point (AP) selection; and 3) fine localization through the\\nnovel sparse recovery algorithms. Since the online measurements are subject to\\ninordinate measurement readings, called outliers, the sparse recovery methods\\nare modified in order to jointly estimate the outliers and user's position\\nvector. The outlier detection procedure identifies the APs whose readings are\\neither not available or erroneous. The proposed localization methods have been\\ntested with Received Signal Strength (RSS) measurements in a typical office\\nenvironment and the results show that they can localize the user with\\nsignificantly high accuracy and resolution which is superior to the results\\nfrom competing WLAN fingerprinting localization methods.\\n\",\n",
       "  '  Developing efficient and accurate algorithms for chemistry integration is a\\nchallenging task due to its strong stiffness and high dimensionality. The\\ncurrent work presents a deep learning-based numerical method called\\nDeepCombustion0.0 to solve stiff ordinary differential equation systems. The\\nhomogeneous autoignition of DME/air mixture, including 54 species, is adopted\\nas an example to illustrate the validity and accuracy of the algorithm. The\\ntraining and testing datasets cover a wide range of temperature, pressure, and\\nmixture conditions between 750-1200 K, 30-50 atm, and equivalence ratio =\\n0.7-1.5. Both the first-stage low-temperature ignition (LTI) and the\\nsecond-stage high-temperature ignition (HTI) are considered. The methodology\\nhighlights the importance of the adaptive data sampling techniques, power\\ntransform preprocessing, and binary deep neural network (DNN) design. By using\\nthe adaptive random samplings and appropriate power transforms, smooth\\nsubmanifolds in the state vector phase space are observed, on which two\\nthree-layer DNNs can be appropriately trained. The neural networks are\\nend-to-end, which predict temporal gradients of the state vectors directly. The\\nresults show that temporal evolutions predicted by DNN agree well with\\ntraditional numerical methods in all state vector dimensions, including\\ntemperature, pressure, and species concentrations. Besides, the ignition delay\\ntime differences are within 1%. At the same time, the CPU time is reduced by\\nmore than 20 times and 200 times compared with the HMTS and VODE method,\\nrespectively. The current work demonstrates the enormous potential of applying\\nthe deep learning algorithm in chemical kinetics and combustion modeling.\\n',\n",
       "  '  This work derives closed-form expressions computing the expectation of\\nco-presence and of number of co-occurrences of nodes on paths sampled from a\\nnetwork according to general path weights (a bag of paths). The underlying idea\\nis that two nodes are considered as similar when they often appear together on\\n(preferably short) paths of the network. The different expressions are obtained\\nfor both regular and hitting paths and serve as a basis for computing new\\ncovariance and correlation measures between nodes, which are valid positive\\nsemi-definite kernels on a graph. Experiments on semi-supervised classification\\nproblems show that the introduced similarity measures provide competitive\\nresults compared to other state-of-the-art distance and similarity measures\\nbetween nodes.\\n',\n",
       "  '  For the past couple years, the Coronavirus, commonly known as COVID-19, has\\nsignificantly affected the daily lives of all citizens residing in the United\\nStates by imposing several, fatal health risks that cannot go unnoticed. In\\nresponse to the growing fear and danger COVID-19 inflicts upon societies in the\\nUSA, several vaccines and boosters have been created as a permanent remedy for\\nindividuals to take advantage of. In this paper, we investigate the\\nrelationship between the COVID-19 vaccines and boosters and the total case\\ncount for the Coronavirus across multiple states in the USA. Additionally, this\\npaper discusses the relationship between several, selected underlying health\\nconditions with COVID-19. To discuss these relationships effectively, this\\npaper will utilize statistical tests and machine learning methods for analysis\\nand discussion purposes. Furthermore, this paper reflects upon conclusions made\\nabout the relationship between educational attainment, race, and COVID-19 and\\nthe possible connections that can be established with underlying health\\nconditions, vaccination rates, and COVID-19 total case and death counts.\\n',\n",
       "  'The statistical regularities in language corpora encode well-known social\\nbiases into word embeddings. Here, we focus on gender to provide a\\ncomprehensive analysis of group-based biases in widely-used static English word\\nembeddings trained on internet corpora (GloVe 2014, fastText 2017). Using the\\nSingle-Category Word Embedding Association Test, we demonstrate the widespread\\nprevalence of gender biases that also show differences in: (1) frequencies of\\nwords associated with men versus women; (b) part-of-speech tags in\\ngender-associated words; (c) semantic categories in gender-associated words;\\nand (d) valence, arousal, and dominance in gender-associated words.\\n  First, in terms of word frequency: we find that, of the 1,000 most frequent\\nwords in the vocabulary, 77% are more associated with men than women, providing\\ndirect evidence of a masculine default in the everyday language of the\\nEnglish-speaking world. Second, turning to parts-of-speech: the top\\nmale-associated words are typically verbs (e.g., fight, overpower) while the\\ntop female-associated words are typically adjectives and adverbs (e.g., giving,\\nemotionally). Gender biases in embeddings also permeate parts-of-speech. Third,\\nfor semantic categories: bottom-up, cluster analyses of the top 1,000 words\\nassociated with each gender. The top male-associated concepts include roles and\\ndomains of big tech, engineering, religion, sports, and violence; in contrast,\\nthe top female-associated concepts are less focused on roles, including,\\ninstead, female-specific slurs and sexual content, as well as appearance and\\nkitchen terms. Fourth, using human ratings of word valence, arousal, and\\ndominance from a ~20,000 word lexicon, we find that male-associated words are\\nhigher on arousal and dominance, while female-associated words are higher on\\nvalence.']}"
      ]
     },
     "execution_count": 19,
     "metadata": {},
     "output_type": "execute_result"
    }
   ],
   "source": [
    "processed_data_train[0]"
   ]
  },
  {
   "cell_type": "code",
   "execution_count": 20,
   "id": "6188e153",
   "metadata": {
    "execution": {
     "iopub.execute_input": "2025-02-03T14:09:09.188369Z",
     "iopub.status.busy": "2025-02-03T14:09:09.188052Z",
     "iopub.status.idle": "2025-02-03T14:09:17.344201Z",
     "shell.execute_reply": "2025-02-03T14:09:17.343787Z"
    },
    "papermill": {
     "duration": 8.163455,
     "end_time": "2025-02-03T14:09:17.345170",
     "exception": false,
     "start_time": "2025-02-03T14:09:09.181715",
     "status": "completed"
    },
    "tags": []
   },
   "outputs": [],
   "source": [
    "contrastive_pairs_train = []\n",
    "for item in processed_data_train:\n",
    "    query = item[\"query\"]\n",
    "    positive = item[\"positive\"]\n",
    "    negatives = item[\"negatives\"]\n",
    "    contrastive_pairs_train.append({\n",
    "        \"anchor\": query,\n",
    "        \"positive\": positive,\n",
    "        \"negatives\": negatives\n",
    "    })"
   ]
  },
  {
   "cell_type": "code",
   "execution_count": 21,
   "id": "669c6a2e",
   "metadata": {
    "execution": {
     "iopub.execute_input": "2025-02-03T14:09:17.362164Z",
     "iopub.status.busy": "2025-02-03T14:09:17.362032Z",
     "iopub.status.idle": "2025-02-03T14:09:17.365011Z",
     "shell.execute_reply": "2025-02-03T14:09:17.364697Z"
    },
    "papermill": {
     "duration": 0.010265,
     "end_time": "2025-02-03T14:09:17.365607",
     "exception": false,
     "start_time": "2025-02-03T14:09:17.355342",
     "status": "completed"
    },
    "tags": []
   },
   "outputs": [
    {
     "data": {
      "text/plain": [
       "94073"
      ]
     },
     "execution_count": 21,
     "metadata": {},
     "output_type": "execute_result"
    }
   ],
   "source": [
    "len(contrastive_pairs_train)"
   ]
  },
  {
   "cell_type": "code",
   "execution_count": 22,
   "id": "670559eb",
   "metadata": {
    "execution": {
     "iopub.execute_input": "2025-02-03T14:09:17.378439Z",
     "iopub.status.busy": "2025-02-03T14:09:17.378250Z",
     "iopub.status.idle": "2025-02-03T14:09:21.287332Z",
     "shell.execute_reply": "2025-02-03T14:09:21.286931Z"
    },
    "papermill": {
     "duration": 3.916569,
     "end_time": "2025-02-03T14:09:21.288374",
     "exception": false,
     "start_time": "2025-02-03T14:09:17.371805",
     "status": "completed"
    },
    "tags": []
   },
   "outputs": [],
   "source": [
    "from torch.utils.data import DataLoader"
   ]
  },
  {
   "cell_type": "code",
   "execution_count": 23,
   "id": "927b2173",
   "metadata": {
    "execution": {
     "iopub.execute_input": "2025-02-03T14:09:21.301938Z",
     "iopub.status.busy": "2025-02-03T14:09:21.301544Z",
     "iopub.status.idle": "2025-02-03T14:09:21.304402Z",
     "shell.execute_reply": "2025-02-03T14:09:21.304096Z"
    },
    "papermill": {
     "duration": 0.01004,
     "end_time": "2025-02-03T14:09:21.304951",
     "exception": false,
     "start_time": "2025-02-03T14:09:21.294911",
     "status": "completed"
    },
    "tags": []
   },
   "outputs": [],
   "source": [
    "class ContrastiveDataset:\n",
    "    def __init__(self, pairs):\n",
    "        self.pairs = pairs\n",
    "\n",
    "    def __len__(self):\n",
    "        return len(self.pairs)\n",
    "\n",
    "    def __getitem__(self, idx):\n",
    "        item = self.pairs[idx]\n",
    "        return item[\"anchor\"], item[\"positive\"], item[\"negatives\"]"
   ]
  },
  {
   "cell_type": "code",
   "execution_count": 24,
   "id": "6918b6f3",
   "metadata": {
    "execution": {
     "iopub.execute_input": "2025-02-03T14:09:21.317806Z",
     "iopub.status.busy": "2025-02-03T14:09:21.317566Z",
     "iopub.status.idle": "2025-02-03T14:09:21.319890Z",
     "shell.execute_reply": "2025-02-03T14:09:21.319404Z"
    },
    "papermill": {
     "duration": 0.00931,
     "end_time": "2025-02-03T14:09:21.320451",
     "exception": false,
     "start_time": "2025-02-03T14:09:21.311141",
     "status": "completed"
    },
    "tags": []
   },
   "outputs": [],
   "source": [
    "contrastive_dataset_train = ContrastiveDataset(contrastive_pairs_train)"
   ]
  },
  {
   "cell_type": "code",
   "execution_count": 25,
   "id": "362b05af",
   "metadata": {
    "execution": {
     "iopub.execute_input": "2025-02-03T14:09:21.333208Z",
     "iopub.status.busy": "2025-02-03T14:09:21.333084Z",
     "iopub.status.idle": "2025-02-03T14:09:21.341747Z",
     "shell.execute_reply": "2025-02-03T14:09:21.341462Z"
    },
    "papermill": {
     "duration": 0.015642,
     "end_time": "2025-02-03T14:09:21.342305",
     "exception": false,
     "start_time": "2025-02-03T14:09:21.326663",
     "status": "completed"
    },
    "tags": []
   },
   "outputs": [],
   "source": [
    "data_loader_train = DataLoader(contrastive_dataset_train, batch_size=8, shuffle=True)"
   ]
  },
  {
   "cell_type": "code",
   "execution_count": 26,
   "id": "9e89b105",
   "metadata": {
    "execution": {
     "iopub.execute_input": "2025-02-03T14:09:21.389425Z",
     "iopub.status.busy": "2025-02-03T14:09:21.389111Z",
     "iopub.status.idle": "2025-02-03T14:09:21.391689Z",
     "shell.execute_reply": "2025-02-03T14:09:21.391399Z"
    },
    "papermill": {
     "duration": 0.043665,
     "end_time": "2025-02-03T14:09:21.392263",
     "exception": false,
     "start_time": "2025-02-03T14:09:21.348598",
     "status": "completed"
    },
    "tags": []
   },
   "outputs": [
    {
     "data": {
      "text/plain": [
       "11760"
      ]
     },
     "execution_count": 26,
     "metadata": {},
     "output_type": "execute_result"
    }
   ],
   "source": [
    "len(data_loader_train)"
   ]
  },
  {
   "cell_type": "code",
   "execution_count": 27,
   "id": "ec267846",
   "metadata": {
    "execution": {
     "iopub.execute_input": "2025-02-03T14:09:21.405679Z",
     "iopub.status.busy": "2025-02-03T14:09:21.405556Z",
     "iopub.status.idle": "2025-02-03T14:09:29.686494Z",
     "shell.execute_reply": "2025-02-03T14:09:29.686088Z"
    },
    "papermill": {
     "duration": 8.288469,
     "end_time": "2025-02-03T14:09:29.687300",
     "exception": false,
     "start_time": "2025-02-03T14:09:21.398831",
     "status": "completed"
    },
    "tags": []
   },
   "outputs": [],
   "source": [
    "from transformers import AutoTokenizer, AutoModel\n",
    "tokenizer = AutoTokenizer.from_pretrained(\"bert-base-uncased\")"
   ]
  },
  {
   "cell_type": "code",
   "execution_count": 28,
   "id": "cdfef80f",
   "metadata": {
    "execution": {
     "iopub.execute_input": "2025-02-03T14:09:29.703561Z",
     "iopub.status.busy": "2025-02-03T14:09:29.703323Z",
     "iopub.status.idle": "2025-02-03T14:09:32.811903Z",
     "shell.execute_reply": "2025-02-03T14:09:32.811524Z"
    },
    "papermill": {
     "duration": 3.116114,
     "end_time": "2025-02-03T14:09:32.812740",
     "exception": false,
     "start_time": "2025-02-03T14:09:29.696626",
     "status": "completed"
    },
    "tags": []
   },
   "outputs": [],
   "source": [
    "model = AutoModel.from_pretrained(\"bert-base-uncased\")"
   ]
  },
  {
   "cell_type": "code",
   "execution_count": 29,
   "id": "9191c4f0",
   "metadata": {
    "execution": {
     "iopub.execute_input": "2025-02-03T14:09:32.829882Z",
     "iopub.status.busy": "2025-02-03T14:09:32.829468Z",
     "iopub.status.idle": "2025-02-03T14:09:33.212882Z",
     "shell.execute_reply": "2025-02-03T14:09:33.212529Z"
    },
    "papermill": {
     "duration": 0.391235,
     "end_time": "2025-02-03T14:09:33.213631",
     "exception": false,
     "start_time": "2025-02-03T14:09:32.822396",
     "status": "completed"
    },
    "tags": []
   },
   "outputs": [],
   "source": [
    "from peft import LoraConfig, get_peft_model"
   ]
  },
  {
   "cell_type": "code",
   "execution_count": 30,
   "id": "c5386cc4",
   "metadata": {
    "execution": {
     "iopub.execute_input": "2025-02-03T14:09:33.227588Z",
     "iopub.status.busy": "2025-02-03T14:09:33.227453Z",
     "iopub.status.idle": "2025-02-03T14:09:33.229648Z",
     "shell.execute_reply": "2025-02-03T14:09:33.229352Z"
    },
    "papermill": {
     "duration": 0.009531,
     "end_time": "2025-02-03T14:09:33.230203",
     "exception": false,
     "start_time": "2025-02-03T14:09:33.220672",
     "status": "completed"
    },
    "tags": []
   },
   "outputs": [],
   "source": [
    "lora_config = LoraConfig(\n",
    "    task_type= \"FEATURE_EXTRACTION\"\n",
    ")"
   ]
  },
  {
   "cell_type": "code",
   "execution_count": 31,
   "id": "1411c521",
   "metadata": {
    "execution": {
     "iopub.execute_input": "2025-02-03T14:09:33.243546Z",
     "iopub.status.busy": "2025-02-03T14:09:33.243417Z",
     "iopub.status.idle": "2025-02-03T14:09:33.265799Z",
     "shell.execute_reply": "2025-02-03T14:09:33.265459Z"
    },
    "papermill": {
     "duration": 0.029788,
     "end_time": "2025-02-03T14:09:33.266390",
     "exception": false,
     "start_time": "2025-02-03T14:09:33.236602",
     "status": "completed"
    },
    "tags": []
   },
   "outputs": [],
   "source": [
    "lora_model = get_peft_model(model, lora_config)"
   ]
  },
  {
   "cell_type": "code",
   "execution_count": 32,
   "id": "5b81fc5d",
   "metadata": {
    "execution": {
     "iopub.execute_input": "2025-02-03T14:09:33.279796Z",
     "iopub.status.busy": "2025-02-03T14:09:33.279537Z",
     "iopub.status.idle": "2025-02-03T14:09:33.282059Z",
     "shell.execute_reply": "2025-02-03T14:09:33.281761Z"
    },
    "papermill": {
     "duration": 0.009816,
     "end_time": "2025-02-03T14:09:33.282606",
     "exception": false,
     "start_time": "2025-02-03T14:09:33.272790",
     "status": "completed"
    },
    "tags": []
   },
   "outputs": [],
   "source": [
    "def lorentzian_distance(x, y):\n",
    "    \n",
    "    dot_product = torch.sum(x * y, dim=-1)\n",
    "    norm_x = torch.norm(x, dim=-1)\n",
    "    norm_y = torch.norm(y, dim=-1)\n",
    "    \n",
    "    distance = torch.acosh(-dot_product + torch.sqrt((1 + norm_x**2) * (1 + norm_y**2)))\n",
    "    return distance"
   ]
  },
  {
   "cell_type": "code",
   "execution_count": 33,
   "id": "36a6dc08",
   "metadata": {
    "execution": {
     "iopub.execute_input": "2025-02-03T14:09:33.295962Z",
     "iopub.status.busy": "2025-02-03T14:09:33.295829Z",
     "iopub.status.idle": "2025-02-03T14:09:33.298496Z",
     "shell.execute_reply": "2025-02-03T14:09:33.298203Z"
    },
    "papermill": {
     "duration": 0.010004,
     "end_time": "2025-02-03T14:09:33.299066",
     "exception": false,
     "start_time": "2025-02-03T14:09:33.289062",
     "status": "completed"
    },
    "tags": []
   },
   "outputs": [],
   "source": [
    "def info_nce_loss(anchor_embedding, positive_embedding, negative_embedding, distance_fn):\n",
    "\n",
    "    pos_dist = distance_fn(anchor_embedding, positive_embedding)\n",
    "    neg_dist = torch.stack([distance_fn(anchor_embedding, neg) for neg in negative_embedding], dim=-1)\n",
    "    \n",
    "    logits = torch.cat([-pos_dist.unsqueeze(1), -neg_dist], dim=1)\n",
    "    labels = torch.zeros(logits.size(0), dtype=torch.long, device=logits.device)\n",
    "\n",
    "    loss = torch.nn.CrossEntropyLoss()(logits, labels)\n",
    "    return loss"
   ]
  },
  {
   "cell_type": "code",
   "execution_count": 34,
   "id": "c419bc47-fe08-462f-abef-a34454cfaa8e",
   "metadata": {
    "execution": {
     "iopub.execute_input": "2025-02-03T14:09:33.312702Z",
     "iopub.status.busy": "2025-02-03T14:09:33.312390Z",
     "iopub.status.idle": "2025-02-03T14:09:33.315187Z",
     "shell.execute_reply": "2025-02-03T14:09:33.314884Z"
    },
    "papermill": {
     "duration": 0.010157,
     "end_time": "2025-02-03T14:09:33.315736",
     "exception": false,
     "start_time": "2025-02-03T14:09:33.305579",
     "status": "completed"
    },
    "tags": []
   },
   "outputs": [],
   "source": [
    "def exterior_angle(x_space, y_space, c):\n",
    "    norm_x_space = torch.norm(x_space, p=2, dim=-1)\n",
    "    norm_y_space = torch.norm(y_space, p=2, dim=-1)\n",
    "    x_time = torch.sqrt(1/c + norm_x_space**2)\n",
    "    y_time = torch.sqrt(1/c + norm_y_space**2)\n",
    "    dot_product = torch.sum(x_space * y_space, dim=-1)\n",
    "    lorentz_inner_product =  dot_product - x_time * y_time\n",
    "    numerator = y_time + x_time * c * lorentz_inner_product\n",
    "    denominator = norm_x_space * torch.sqrt((c * lorentz_inner_product)**2 - 1)\n",
    "    ext_angle = torch.acos(numerator / denominator)\n",
    "    return ext_angle"
   ]
  },
  {
   "cell_type": "code",
   "execution_count": 35,
   "id": "529d3c1b-d03f-4bb1-be1d-36d2dfaa337f",
   "metadata": {
    "execution": {
     "iopub.execute_input": "2025-02-03T14:09:33.329332Z",
     "iopub.status.busy": "2025-02-03T14:09:33.329090Z",
     "iopub.status.idle": "2025-02-03T14:09:33.404166Z",
     "shell.execute_reply": "2025-02-03T14:09:33.403801Z"
    },
    "papermill": {
     "duration": 0.082643,
     "end_time": "2025-02-03T14:09:33.404981",
     "exception": false,
     "start_time": "2025-02-03T14:09:33.322338",
     "status": "completed"
    },
    "tags": []
   },
   "outputs": [],
   "source": [
    "def entailment_loss(x, y, c=1, K=0.1):\n",
    "    c = torch.tensor(c)\n",
    "    K = torch.tensor(K)\n",
    "    xspace = x\n",
    "    yspace = y\n",
    "    aperture = torch.asin(2 * K / (torch.sqrt(c) * torch.norm(xspace, p=2, dim=-1)))\n",
    "    \n",
    "    ext_angle = exterior_angle(xspace,yspace,c=c)\n",
    "    \n",
    "    loss = torch.max(torch.zeros_like(ext_angle), ext_angle - aperture)\n",
    "    return loss.mean()"
   ]
  },
  {
   "cell_type": "code",
   "execution_count": 36,
   "id": "5ee127f6-66dd-414a-b17f-6dc8e5e49dc0",
   "metadata": {
    "execution": {
     "iopub.execute_input": "2025-02-03T14:09:33.419090Z",
     "iopub.status.busy": "2025-02-03T14:09:33.418890Z",
     "iopub.status.idle": "2025-02-03T14:09:33.421654Z",
     "shell.execute_reply": "2025-02-03T14:09:33.421345Z"
    },
    "papermill": {
     "duration": 0.010192,
     "end_time": "2025-02-03T14:09:33.422203",
     "exception": false,
     "start_time": "2025-02-03T14:09:33.412011",
     "status": "completed"
    },
    "tags": []
   },
   "outputs": [],
   "source": [
    "def expm_o(v, c=1.0):\n",
    "    c = torch.tensor(c)\n",
    "    vspace = v\n",
    "    vnorm = torch.norm(v, p=2, dim=-1, keepdim=True)\n",
    "    xspace = torch.sinh(torch.sqrt(c) * vnorm) * vspace / (torch.sqrt(c) * vnorm)\n",
    "    batch_min = xspace.min(dim=1, keepdim=True).values\n",
    "    batch_max = xspace.max(dim=1, keepdim=True).values\n",
    "    xspace_scaled=(xspace - batch_min) / (batch_max - batch_min)\n",
    "    return xspace_scaled"
   ]
  },
  {
   "cell_type": "code",
   "execution_count": 37,
   "id": "185ff980",
   "metadata": {
    "execution": {
     "iopub.execute_input": "2025-02-03T14:09:33.435647Z",
     "iopub.status.busy": "2025-02-03T14:09:33.435524Z",
     "iopub.status.idle": "2025-02-03T14:09:33.438528Z",
     "shell.execute_reply": "2025-02-03T14:09:33.438213Z"
    },
    "papermill": {
     "duration": 0.010333,
     "end_time": "2025-02-03T14:09:33.439075",
     "exception": false,
     "start_time": "2025-02-03T14:09:33.428742",
     "status": "completed"
    },
    "tags": []
   },
   "outputs": [],
   "source": [
    "import torch\n",
    "import torch.optim as optim\n",
    "optimizer = torch.optim.AdamW(lora_model.parameters(), lr=5e-5)"
   ]
  },
  {
   "cell_type": "code",
   "execution_count": 38,
   "id": "d997d7dc",
   "metadata": {
    "execution": {
     "iopub.execute_input": "2025-02-03T14:09:33.452897Z",
     "iopub.status.busy": "2025-02-03T14:09:33.452488Z",
     "iopub.status.idle": "2025-02-03T14:09:33.454576Z",
     "shell.execute_reply": "2025-02-03T14:09:33.454298Z"
    },
    "papermill": {
     "duration": 0.009479,
     "end_time": "2025-02-03T14:09:33.455145",
     "exception": false,
     "start_time": "2025-02-03T14:09:33.445666",
     "status": "completed"
    },
    "tags": []
   },
   "outputs": [],
   "source": [
    "num_epochs=3"
   ]
  },
  {
   "cell_type": "code",
   "execution_count": 39,
   "id": "93312d1a",
   "metadata": {
    "execution": {
     "iopub.execute_input": "2025-02-03T14:09:33.471292Z",
     "iopub.status.busy": "2025-02-03T14:09:33.471172Z",
     "iopub.status.idle": "2025-02-03T14:09:33.968039Z",
     "shell.execute_reply": "2025-02-03T14:09:33.967635Z"
    },
    "papermill": {
     "duration": 0.506977,
     "end_time": "2025-02-03T14:09:33.968657",
     "exception": false,
     "start_time": "2025-02-03T14:09:33.461680",
     "status": "completed"
    },
    "tags": []
   },
   "outputs": [],
   "source": [
    "device = torch.device('cuda' if torch.cuda.is_available() else 'cpu')"
   ]
  },
  {
   "cell_type": "code",
   "execution_count": 40,
   "id": "be00cde7",
   "metadata": {
    "execution": {
     "iopub.execute_input": "2025-02-03T14:09:33.984640Z",
     "iopub.status.busy": "2025-02-03T14:09:33.984510Z",
     "iopub.status.idle": "2025-02-03T14:09:33.987363Z",
     "shell.execute_reply": "2025-02-03T14:09:33.987084Z"
    },
    "papermill": {
     "duration": 0.010299,
     "end_time": "2025-02-03T14:09:33.987940",
     "exception": false,
     "start_time": "2025-02-03T14:09:33.977641",
     "status": "completed"
    },
    "tags": []
   },
   "outputs": [
    {
     "data": {
      "text/plain": [
       "device(type='cuda')"
      ]
     },
     "execution_count": 40,
     "metadata": {},
     "output_type": "execute_result"
    }
   ],
   "source": [
    "device"
   ]
  },
  {
   "cell_type": "code",
   "execution_count": 41,
   "id": "a5333e18",
   "metadata": {
    "execution": {
     "iopub.execute_input": "2025-02-03T14:09:34.003097Z",
     "iopub.status.busy": "2025-02-03T14:09:34.002962Z",
     "iopub.status.idle": "2025-02-03T14:09:34.005410Z",
     "shell.execute_reply": "2025-02-03T14:09:34.005137Z"
    },
    "papermill": {
     "duration": 0.010038,
     "end_time": "2025-02-03T14:09:34.005944",
     "exception": false,
     "start_time": "2025-02-03T14:09:33.995906",
     "status": "completed"
    },
    "tags": []
   },
   "outputs": [
    {
     "data": {
      "text/plain": [
       "True"
      ]
     },
     "execution_count": 41,
     "metadata": {},
     "output_type": "execute_result"
    }
   ],
   "source": [
    "torch.cuda.is_available()"
   ]
  },
  {
   "cell_type": "code",
   "execution_count": 42,
   "id": "1d718a7f",
   "metadata": {
    "execution": {
     "iopub.execute_input": "2025-02-03T14:09:34.020012Z",
     "iopub.status.busy": "2025-02-03T14:09:34.019757Z",
     "iopub.status.idle": "2025-02-03T14:09:35.683215Z",
     "shell.execute_reply": "2025-02-03T14:09:35.682816Z"
    },
    "papermill": {
     "duration": 1.671194,
     "end_time": "2025-02-03T14:09:35.683902",
     "exception": false,
     "start_time": "2025-02-03T14:09:34.012708",
     "status": "completed"
    },
    "tags": []
   },
   "outputs": [],
   "source": [
    "lora_model = lora_model.to(device)"
   ]
  },
  {
   "cell_type": "code",
   "execution_count": 43,
   "id": "8d0b1bf1",
   "metadata": {
    "execution": {
     "iopub.execute_input": "2025-02-03T14:09:35.698594Z",
     "iopub.status.busy": "2025-02-03T14:09:35.698273Z",
     "iopub.status.idle": "2025-02-03T14:09:35.700581Z",
     "shell.execute_reply": "2025-02-03T14:09:35.700285Z"
    },
    "papermill": {
     "duration": 0.010086,
     "end_time": "2025-02-03T14:09:35.701139",
     "exception": false,
     "start_time": "2025-02-03T14:09:35.691053",
     "status": "completed"
    },
    "tags": []
   },
   "outputs": [],
   "source": [
    "dataset_val = split_datasets[\"test\"]"
   ]
  },
  {
   "cell_type": "code",
   "execution_count": 44,
   "id": "1ca99f37",
   "metadata": {
    "execution": {
     "iopub.execute_input": "2025-02-03T14:09:35.715136Z",
     "iopub.status.busy": "2025-02-03T14:09:35.715009Z",
     "iopub.status.idle": "2025-02-03T14:09:35.717750Z",
     "shell.execute_reply": "2025-02-03T14:09:35.717473Z"
    },
    "papermill": {
     "duration": 0.010366,
     "end_time": "2025-02-03T14:09:35.718324",
     "exception": false,
     "start_time": "2025-02-03T14:09:35.707958",
     "status": "completed"
    },
    "tags": []
   },
   "outputs": [
    {
     "data": {
      "text/plain": [
       "Dataset({\n",
       "    features: ['Unnamed: 0.1', 'Unnamed: 0', 'title', 'abstract'],\n",
       "    num_rows: 23519\n",
       "})"
      ]
     },
     "execution_count": 44,
     "metadata": {},
     "output_type": "execute_result"
    }
   ],
   "source": [
    "dataset_val"
   ]
  },
  {
   "cell_type": "code",
   "execution_count": 45,
   "id": "a314d3d6",
   "metadata": {
    "execution": {
     "iopub.execute_input": "2025-02-03T14:09:35.732647Z",
     "iopub.status.busy": "2025-02-03T14:09:35.732288Z",
     "iopub.status.idle": "2025-02-03T14:09:35.736326Z",
     "shell.execute_reply": "2025-02-03T14:09:35.736028Z"
    },
    "papermill": {
     "duration": 0.011682,
     "end_time": "2025-02-03T14:09:35.736861",
     "exception": false,
     "start_time": "2025-02-03T14:09:35.725179",
     "status": "completed"
    },
    "tags": []
   },
   "outputs": [],
   "source": [
    "dataset_val = dataset_val.remove_columns(['Unnamed: 0','Unnamed: 0.1'])"
   ]
  },
  {
   "cell_type": "code",
   "execution_count": 46,
   "id": "a58b2f1a",
   "metadata": {
    "execution": {
     "iopub.execute_input": "2025-02-03T14:09:35.751097Z",
     "iopub.status.busy": "2025-02-03T14:09:35.750967Z",
     "iopub.status.idle": "2025-02-03T14:09:37.012357Z",
     "shell.execute_reply": "2025-02-03T14:09:37.012030Z"
    },
    "papermill": {
     "duration": 1.269166,
     "end_time": "2025-02-03T14:09:37.012927",
     "exception": false,
     "start_time": "2025-02-03T14:09:35.743761",
     "status": "completed"
    },
    "tags": []
   },
   "outputs": [
    {
     "data": {
      "application/vnd.jupyter.widget-view+json": {
       "model_id": "913e951d7d1e477981597fc0a3c8807d",
       "version_major": 2,
       "version_minor": 0
      },
      "text/plain": [
       "Map:   0%|          | 0/23519 [00:00<?, ? examples/s]"
      ]
     },
     "metadata": {},
     "output_type": "display_data"
    }
   ],
   "source": [
    "dataset_val = dataset_val.map(lambda x, idx: { 'index': idx }, with_indices=True)"
   ]
  },
  {
   "cell_type": "code",
   "execution_count": 47,
   "id": "454fc03a",
   "metadata": {
    "execution": {
     "iopub.execute_input": "2025-02-03T14:09:37.028039Z",
     "iopub.status.busy": "2025-02-03T14:09:37.027753Z",
     "iopub.status.idle": "2025-02-03T14:09:37.030540Z",
     "shell.execute_reply": "2025-02-03T14:09:37.030267Z"
    },
    "papermill": {
     "duration": 0.010725,
     "end_time": "2025-02-03T14:09:37.031107",
     "exception": false,
     "start_time": "2025-02-03T14:09:37.020382",
     "status": "completed"
    },
    "tags": []
   },
   "outputs": [
    {
     "data": {
      "text/plain": [
       "Dataset({\n",
       "    features: ['title', 'abstract', 'index'],\n",
       "    num_rows: 23519\n",
       "})"
      ]
     },
     "execution_count": 47,
     "metadata": {},
     "output_type": "execute_result"
    }
   ],
   "source": [
    "dataset_val"
   ]
  },
  {
   "cell_type": "code",
   "execution_count": 48,
   "id": "59611a3b",
   "metadata": {
    "execution": {
     "iopub.execute_input": "2025-02-03T14:09:37.046055Z",
     "iopub.status.busy": "2025-02-03T14:09:37.045597Z",
     "iopub.status.idle": "2025-02-03T14:09:37.059076Z",
     "shell.execute_reply": "2025-02-03T14:09:37.058707Z"
    },
    "papermill": {
     "duration": 0.021426,
     "end_time": "2025-02-03T14:09:37.059614",
     "exception": false,
     "start_time": "2025-02-03T14:09:37.038188",
     "status": "completed"
    },
    "tags": []
   },
   "outputs": [],
   "source": [
    "all_indexes_val = np.array(dataset_val['index'])"
   ]
  },
  {
   "cell_type": "code",
   "execution_count": 49,
   "id": "f51a8e7e",
   "metadata": {
    "execution": {
     "iopub.execute_input": "2025-02-03T14:09:37.074235Z",
     "iopub.status.busy": "2025-02-03T14:09:37.074114Z",
     "iopub.status.idle": "2025-02-03T14:09:37.077212Z",
     "shell.execute_reply": "2025-02-03T14:09:37.076893Z"
    },
    "papermill": {
     "duration": 0.011095,
     "end_time": "2025-02-03T14:09:37.077750",
     "exception": false,
     "start_time": "2025-02-03T14:09:37.066655",
     "status": "completed"
    },
    "tags": []
   },
   "outputs": [],
   "source": [
    "def generate_hard_negatives_val(example, num_negatives=10,dataset=dataset_val):\n",
    "    query_index = example['index']  \n",
    "    anchor = example['title']\n",
    "    positive = example['abstract']\n",
    "    \n",
    "    negatives = []\n",
    "    \n",
    "    negative_indexes = np.delete(all_indexes_val, np.where(all_indexes_val == query_index)) \n",
    "    \n",
    "    sampled_negatives = random.sample(list(negative_indexes), num_negatives)\n",
    "    \n",
    "    for idx in sampled_negatives:\n",
    "        negatives.append(dataset[int(idx)]['abstract'])\n",
    "    \n",
    "    return {\n",
    "        \"query\": anchor,\n",
    "        \"positive\": positive,\n",
    "        \"negatives\": negatives\n",
    "    }"
   ]
  },
  {
   "cell_type": "code",
   "execution_count": 50,
   "id": "956100e1",
   "metadata": {
    "execution": {
     "iopub.execute_input": "2025-02-03T14:09:37.092391Z",
     "iopub.status.busy": "2025-02-03T14:09:37.092143Z",
     "iopub.status.idle": "2025-02-03T14:10:11.224901Z",
     "shell.execute_reply": "2025-02-03T14:10:11.224578Z"
    },
    "papermill": {
     "duration": 34.140722,
     "end_time": "2025-02-03T14:10:11.225519",
     "exception": false,
     "start_time": "2025-02-03T14:09:37.084797",
     "status": "completed"
    },
    "tags": []
   },
   "outputs": [
    {
     "data": {
      "application/vnd.jupyter.widget-view+json": {
       "model_id": "32f0be5155fa4c3882497e86314d1f6d",
       "version_major": 2,
       "version_minor": 0
      },
      "text/plain": [
       "Map:   0%|          | 0/23519 [00:00<?, ? examples/s]"
      ]
     },
     "metadata": {},
     "output_type": "display_data"
    }
   ],
   "source": [
    "processed_data_val = dataset_val.map(generate_hard_negatives_val, remove_columns=dataset_val.column_names)"
   ]
  },
  {
   "cell_type": "code",
   "execution_count": 51,
   "id": "70ecac28",
   "metadata": {
    "execution": {
     "iopub.execute_input": "2025-02-03T14:10:11.243834Z",
     "iopub.status.busy": "2025-02-03T14:10:11.243705Z",
     "iopub.status.idle": "2025-02-03T14:10:13.123735Z",
     "shell.execute_reply": "2025-02-03T14:10:13.123339Z"
    },
    "papermill": {
     "duration": 1.88833,
     "end_time": "2025-02-03T14:10:13.124403",
     "exception": false,
     "start_time": "2025-02-03T14:10:11.236073",
     "status": "completed"
    },
    "tags": []
   },
   "outputs": [],
   "source": [
    "contrastive_pairs_val = []\n",
    "for item in processed_data_val:\n",
    "    query = item[\"query\"]\n",
    "    positive = item[\"positive\"]\n",
    "    negatives = item[\"negatives\"]\n",
    "    contrastive_pairs_val.append({\n",
    "        \"anchor\": query,\n",
    "        \"positive\": positive,\n",
    "        \"negatives\": negatives\n",
    "    })"
   ]
  },
  {
   "cell_type": "code",
   "execution_count": 52,
   "id": "ce529ab6",
   "metadata": {
    "execution": {
     "iopub.execute_input": "2025-02-03T14:10:13.143884Z",
     "iopub.status.busy": "2025-02-03T14:10:13.143562Z",
     "iopub.status.idle": "2025-02-03T14:10:13.145898Z",
     "shell.execute_reply": "2025-02-03T14:10:13.145615Z"
    },
    "papermill": {
     "duration": 0.010924,
     "end_time": "2025-02-03T14:10:13.146555",
     "exception": false,
     "start_time": "2025-02-03T14:10:13.135631",
     "status": "completed"
    },
    "tags": []
   },
   "outputs": [],
   "source": [
    "contrastive_dataset_val = ContrastiveDataset(contrastive_pairs_val)"
   ]
  },
  {
   "cell_type": "code",
   "execution_count": 53,
   "id": "5ac55437",
   "metadata": {
    "execution": {
     "iopub.execute_input": "2025-02-03T14:10:13.161829Z",
     "iopub.status.busy": "2025-02-03T14:10:13.161502Z",
     "iopub.status.idle": "2025-02-03T14:10:13.163992Z",
     "shell.execute_reply": "2025-02-03T14:10:13.163709Z"
    },
    "papermill": {
     "duration": 0.010786,
     "end_time": "2025-02-03T14:10:13.164569",
     "exception": false,
     "start_time": "2025-02-03T14:10:13.153783",
     "status": "completed"
    },
    "tags": []
   },
   "outputs": [],
   "source": [
    "data_loader_val = DataLoader(contrastive_dataset_val, batch_size=8, shuffle=True)"
   ]
  },
  {
   "cell_type": "code",
   "execution_count": 54,
   "id": "b73033c1",
   "metadata": {
    "execution": {
     "iopub.execute_input": "2025-02-03T14:10:13.179479Z",
     "iopub.status.busy": "2025-02-03T14:10:13.179359Z",
     "iopub.status.idle": "2025-02-03T14:10:13.181838Z",
     "shell.execute_reply": "2025-02-03T14:10:13.181561Z"
    },
    "papermill": {
     "duration": 0.010609,
     "end_time": "2025-02-03T14:10:13.182405",
     "exception": false,
     "start_time": "2025-02-03T14:10:13.171796",
     "status": "completed"
    },
    "tags": []
   },
   "outputs": [
    {
     "data": {
      "text/plain": [
       "2940"
      ]
     },
     "execution_count": 54,
     "metadata": {},
     "output_type": "execute_result"
    }
   ],
   "source": [
    "len(data_loader_val)"
   ]
  },
  {
   "cell_type": "code",
   "execution_count": 55,
   "id": "76c29dae",
   "metadata": {
    "execution": {
     "iopub.execute_input": "2025-02-03T14:10:13.197420Z",
     "iopub.status.busy": "2025-02-03T14:10:13.197296Z",
     "iopub.status.idle": "2025-02-03T14:10:13.201681Z",
     "shell.execute_reply": "2025-02-03T14:10:13.201380Z"
    },
    "papermill": {
     "duration": 0.012537,
     "end_time": "2025-02-03T14:10:13.202231",
     "exception": false,
     "start_time": "2025-02-03T14:10:13.189694",
     "status": "completed"
    },
    "tags": []
   },
   "outputs": [],
   "source": [
    "def evaluate_mrr(model1, data_loader_val, distance_fn):\n",
    "    model1.eval()\n",
    "    \n",
    "    total_rr = 0.0\n",
    "    num_queries = 0\n",
    "\n",
    "    with torch.no_grad():\n",
    "        for batch in data_loader_val:\n",
    "            anchor_text = batch[0]\n",
    "            positive_text = batch[1]\n",
    "            negative_texts = batch[2]\n",
    "\n",
    "            anchor_input = tokenizer(anchor_text, return_tensors='pt', padding=True, truncation=True, max_length=512).to(device)\n",
    "            positive_input = tokenizer(positive_text, return_tensors='pt', padding=True, truncation=True, max_length=512).to(device)\n",
    "\n",
    "            anchor_embedding = expm_o(model1(**anchor_input).last_hidden_state[:, 0, :])\n",
    "            positive_embedding = expm_o(model1(**positive_input).last_hidden_state[:, 0, :])\n",
    "            negative_embedding = [expm_o(model1(**tokenizer(neg, return_tensors='pt', padding=True, truncation=True, max_length=512).to(device)).last_hidden_state[:, 0, :]) for neg in negative_texts]\n",
    "\n",
    "            pos_dist = distance_fn(anchor_embedding, positive_embedding)\n",
    "            neg_dist = torch.stack([distance_fn(anchor_embedding, neg) for neg in negative_embedding], dim=-1)\n",
    "            all_similarities=torch.cat([-pos_dist.unsqueeze(1), -neg_dist], dim=1)\n",
    "\n",
    "            sorted_similarities, sorted_indices = torch.sort(all_similarities, dim=1, descending=True)\n",
    "\n",
    "            # Find the rank of the first relevant (positive) document\n",
    "            positive_rank = (sorted_indices == 0).nonzero(as_tuple=True)[1] + 1  # +1 to make rank 1-based\n",
    "            total_rr += torch.sum(1.0 / positive_rank.float()).item()  # Reciprocal rank\n",
    "            num_queries += len(positive_rank)\n",
    "            \n",
    "    mrr = total_rr / num_queries\n",
    "    return mrr"
   ]
  },
  {
   "cell_type": "code",
   "execution_count": 56,
   "id": "84893f41",
   "metadata": {
    "execution": {
     "iopub.execute_input": "2025-02-03T14:10:13.217460Z",
     "iopub.status.busy": "2025-02-03T14:10:13.217173Z",
     "iopub.status.idle": "2025-02-03T14:10:13.219051Z",
     "shell.execute_reply": "2025-02-03T14:10:13.218755Z"
    },
    "papermill": {
     "duration": 0.010042,
     "end_time": "2025-02-03T14:10:13.219608",
     "exception": false,
     "start_time": "2025-02-03T14:10:13.209566",
     "status": "completed"
    },
    "tags": []
   },
   "outputs": [],
   "source": [
    "import os\n",
    "save_dir =\"/dss/dsshome1/07/ra65bex2/srawat/0.5hyperbolic\""
   ]
  },
  {
   "cell_type": "code",
   "execution_count": 57,
   "id": "1e46bee6",
   "metadata": {
    "execution": {
     "iopub.execute_input": "2025-02-03T14:10:13.234756Z",
     "iopub.status.busy": "2025-02-03T14:10:13.234635Z",
     "iopub.status.idle": "2025-02-03T14:10:13.236580Z",
     "shell.execute_reply": "2025-02-03T14:10:13.236287Z"
    },
    "papermill": {
     "duration": 0.010173,
     "end_time": "2025-02-03T14:10:13.237109",
     "exception": false,
     "start_time": "2025-02-03T14:10:13.226936",
     "status": "completed"
    },
    "tags": []
   },
   "outputs": [],
   "source": [
    "import time\n",
    "epoch_metrics = []"
   ]
  },
  {
   "cell_type": "code",
   "execution_count": 58,
   "id": "23f95333",
   "metadata": {
    "execution": {
     "iopub.execute_input": "2025-02-03T14:10:13.252794Z",
     "iopub.status.busy": "2025-02-03T14:10:13.252471Z",
     "iopub.status.idle": "2025-02-03T14:10:13.254472Z",
     "shell.execute_reply": "2025-02-03T14:10:13.254165Z"
    },
    "papermill": {
     "duration": 0.010418,
     "end_time": "2025-02-03T14:10:13.255082",
     "exception": false,
     "start_time": "2025-02-03T14:10:13.244664",
     "status": "completed"
    },
    "tags": []
   },
   "outputs": [],
   "source": [
    "torch.cuda.empty_cache()"
   ]
  },
  {
   "cell_type": "code",
   "execution_count": 59,
   "id": "32a21d84",
   "metadata": {
    "execution": {
     "iopub.execute_input": "2025-02-03T14:10:13.270471Z",
     "iopub.status.busy": "2025-02-03T14:10:13.270351Z",
     "iopub.status.idle": "2025-02-03T23:12:39.975908Z",
     "shell.execute_reply": "2025-02-03T23:12:39.975256Z"
    },
    "papermill": {
     "duration": 32546.723726,
     "end_time": "2025-02-03T23:12:39.986320",
     "exception": false,
     "start_time": "2025-02-03T14:10:13.262594",
     "status": "completed"
    },
    "tags": []
   },
   "outputs": [
    {
     "name": "stdout",
     "output_type": "stream",
     "text": [
      "EPOCH 1:\n",
      "Checkpoint saved: /dss/dsshome1/07/ra65bex2/srawat/0.5hyperbolic\n",
      "Epoch 1/3, Loss: 2.8031692630579683\n",
      "Epoch 1/3, Contrastive Loss: 1.949256439608376\n",
      "Epoch 1/3, Entailment Loss: 1.707825647710132\n"
     ]
    },
    {
     "name": "stdout",
     "output_type": "stream",
     "text": [
      "Mean Reciprocal Rank (MRR) for validation set: 0.7907\n",
      "Epoch 1 took 180.8725 minutes.\n",
      "\n",
      "\n"
     ]
    },
    {
     "name": "stdout",
     "output_type": "stream",
     "text": [
      "EPOCH 2:\n",
      "Checkpoint saved: /dss/dsshome1/07/ra65bex2/srawat/0.5hyperbolic\n",
      "Epoch 2/3, Loss: 2.6207585808573937\n",
      "Epoch 2/3, Contrastive Loss: 1.7403669735201361\n",
      "Epoch 2/3, Entailment Loss: 1.760783215252315\n"
     ]
    },
    {
     "name": "stdout",
     "output_type": "stream",
     "text": [
      "Mean Reciprocal Rank (MRR) for validation set: 0.7846\n",
      "Epoch 2 took 180.7778 minutes.\n",
      "\n",
      "\n"
     ]
    },
    {
     "name": "stdout",
     "output_type": "stream",
     "text": [
      "EPOCH 3:\n",
      "Checkpoint saved: /dss/dsshome1/07/ra65bex2/srawat/0.5hyperbolic\n",
      "Epoch 3/3, Loss: 2.5460208032711025\n",
      "Epoch 3/3, Contrastive Loss: 1.6668294488674118\n",
      "Epoch 3/3, Entailment Loss: 1.758382709121623\n"
     ]
    },
    {
     "name": "stdout",
     "output_type": "stream",
     "text": [
      "Mean Reciprocal Rank (MRR) for validation set: 0.7921\n",
      "Epoch 3 took 180.7946 minutes.\n",
      "\n",
      "\n"
     ]
    }
   ],
   "source": [
    "for epoch in range(num_epochs):\n",
    "    start_time = time.time()\n",
    "    lora_model.train()\n",
    "\n",
    "    total_loss = 0.0\n",
    "    entailment_loss_total=0.0\n",
    "    contrastive_loss_total=0.0\n",
    "    for batch in data_loader_train:\n",
    "\n",
    "        anchor_texts = batch[0]\n",
    "        positive_texts = batch[1]\n",
    "        negative_texts = batch[2]\n",
    "\n",
    "        anchor_inputs = tokenizer(anchor_texts, return_tensors='pt', padding=True, truncation=True, max_length=512).to(device)\n",
    "        positive_inputs = tokenizer(positive_texts, return_tensors='pt', padding=True, truncation=True, max_length=512).to(device)\n",
    "    \n",
    "        anchor_embedding = expm_o(lora_model(**anchor_inputs).last_hidden_state[:, 0, :])\n",
    "        positive_embedding = expm_o(lora_model(**positive_inputs).last_hidden_state[:, 0, :])\n",
    "        negative_embedding = [expm_o(lora_model(**tokenizer(neg, return_tensors='pt', padding=True, truncation=True, max_length=512).to(device)).last_hidden_state[:, 0, :]) for neg in negative_texts]\n",
    "\n",
    "        contrastive_loss_value = info_nce_loss(anchor_embedding, positive_embedding, negative_embedding, distance_fn=lorentzian_distance)\n",
    "        \n",
    "        entailment_loss_value = entailment_loss(anchor_embedding, positive_embedding)\n",
    "        \n",
    "        loss = contrastive_loss_value + 0.5*entailment_loss_value\n",
    "  \n",
    "        optimizer.zero_grad()\n",
    "        loss.backward()\n",
    "        optimizer.step()\n",
    "        \n",
    "        total_loss += loss.item()\n",
    "        entailment_loss_total+=entailment_loss_value.item()\n",
    "        contrastive_loss_total+=contrastive_loss_value.item()\n",
    "    save_path1 = os.path.join(save_dir, f\"hyperbolic_lora_checkpoint_epoch_{epoch+1}.pth\")\n",
    "    torch.save(lora_model, save_path1)\n",
    "    print(f\"EPOCH {epoch+1}:\")\n",
    "    print(f\"Checkpoint saved: {save_dir}\")\n",
    "    print(f\"Epoch {epoch+1}/{num_epochs}, Loss: {total_loss / len(data_loader_train)}\")\n",
    "    print(f\"Epoch {epoch+1}/{num_epochs}, Contrastive Loss: {contrastive_loss_total / len(data_loader_train)}\")\n",
    "    print(f\"Epoch {epoch+1}/{num_epochs}, Entailment Loss: {entailment_loss_total / len(data_loader_train)}\")\n",
    "    mrr_validation = evaluate_mrr(model1=lora_model, data_loader_val=data_loader_val,distance_fn=lorentzian_distance)\n",
    "    #mrr_train = evaluate_mrr(lora_model, data_loader_train, lorentzian_distance)\n",
    "    #print(f\"Mean Reciprocal Rank (MRR) for training set: {mrr_train:.4f}\")\n",
    "    print(f\"Mean Reciprocal Rank (MRR) for validation set: {mrr_validation:.4f}\")\n",
    "    end_time = time.time()\n",
    "    print(f\"Epoch {epoch+1} took {(end_time - start_time) / 60:.4f} minutes.\")\n",
    "    print(f\"\\n\")\n",
    "    epoch_metrics.append({\n",
    "        'epoch': epoch + 1,\n",
    "        'training_loss': total_loss / len(data_loader_train),\n",
    "        'Contrastive_loss': contrastive_loss_total / len(data_loader_train),\n",
    "        'Entailment_loss': entailment_loss_total / len(data_loader_train),\n",
    "        'mrr_validation': mrr_validation,\n",
    "        'time_taken_minutes': (end_time - start_time) / 60\n",
    "    })"
   ]
  },
  {
   "cell_type": "code",
   "execution_count": 60,
   "id": "b2c27c8a",
   "metadata": {
    "execution": {
     "iopub.execute_input": "2025-02-03T23:12:40.005705Z",
     "iopub.status.busy": "2025-02-03T23:12:40.005523Z",
     "iopub.status.idle": "2025-02-03T23:12:40.008954Z",
     "shell.execute_reply": "2025-02-03T23:12:40.008551Z"
    },
    "papermill": {
     "duration": 0.012462,
     "end_time": "2025-02-03T23:12:40.009574",
     "exception": false,
     "start_time": "2025-02-03T23:12:39.997112",
     "status": "completed"
    },
    "tags": []
   },
   "outputs": [],
   "source": [
    "import json"
   ]
  },
  {
   "cell_type": "code",
   "execution_count": 61,
   "id": "53a682b1",
   "metadata": {
    "execution": {
     "iopub.execute_input": "2025-02-03T23:12:40.025772Z",
     "iopub.status.busy": "2025-02-03T23:12:40.025368Z",
     "iopub.status.idle": "2025-02-03T23:12:40.087637Z",
     "shell.execute_reply": "2025-02-03T23:12:40.087239Z"
    },
    "papermill": {
     "duration": 0.070878,
     "end_time": "2025-02-03T23:12:40.088247",
     "exception": false,
     "start_time": "2025-02-03T23:12:40.017369",
     "status": "completed"
    },
    "tags": []
   },
   "outputs": [],
   "source": [
    "with open(save_dir + '/epoch_metrics.json', 'w') as f:\n",
    "    json.dump(epoch_metrics, f)"
   ]
  },
  {
   "cell_type": "code",
   "execution_count": null,
   "id": "f7021e82",
   "metadata": {
    "papermill": {
     "duration": 0.00775,
     "end_time": "2025-02-03T23:12:40.103876",
     "exception": false,
     "start_time": "2025-02-03T23:12:40.096126",
     "status": "completed"
    },
    "tags": []
   },
   "outputs": [],
   "source": []
  }
 ],
 "metadata": {
  "kernelspec": {
   "display_name": "Python (myenv)",
   "language": "python",
   "name": "myenv"
  },
  "language_info": {
   "codemirror_mode": {
    "name": "ipython",
    "version": 3
   },
   "file_extension": ".py",
   "mimetype": "text/x-python",
   "name": "python",
   "nbconvert_exporter": "python",
   "pygments_lexer": "ipython3",
   "version": "3.12.7"
  },
  "papermill": {
   "default_parameters": {},
   "duration": 33017.515844,
   "end_time": "2025-02-03T23:12:44.141871",
   "environment_variables": {},
   "exception": null,
   "input_path": "0.5hyperbolic.ipynb",
   "output_path": "0.5hyperbolic_output.ipynb",
   "parameters": {},
   "start_time": "2025-02-03T14:02:26.626027",
   "version": "2.6.0"
  },
  "widgets": {
   "application/vnd.jupyter.widget-state+json": {
    "state": {
     "07d3748b05ba49e59040964c896d0f4a": {
      "model_module": "@jupyter-widgets/controls",
      "model_module_version": "2.0.0",
      "model_name": "HTMLStyleModel",
      "state": {
       "_model_module": "@jupyter-widgets/controls",
       "_model_module_version": "2.0.0",
       "_model_name": "HTMLStyleModel",
       "_view_count": null,
       "_view_module": "@jupyter-widgets/base",
       "_view_module_version": "2.0.0",
       "_view_name": "StyleView",
       "background": null,
       "description_width": "",
       "font_size": null,
       "text_color": null
      }
     },
     "1406c7ebdf9c4c909d29aca521a1ac54": {
      "model_module": "@jupyter-widgets/base",
      "model_module_version": "2.0.0",
      "model_name": "LayoutModel",
      "state": {
       "_model_module": "@jupyter-widgets/base",
       "_model_module_version": "2.0.0",
       "_model_name": "LayoutModel",
       "_view_count": null,
       "_view_module": "@jupyter-widgets/base",
       "_view_module_version": "2.0.0",
       "_view_name": "LayoutView",
       "align_content": null,
       "align_items": null,
       "align_self": null,
       "border_bottom": null,
       "border_left": null,
       "border_right": null,
       "border_top": null,
       "bottom": null,
       "display": null,
       "flex": null,
       "flex_flow": null,
       "grid_area": null,
       "grid_auto_columns": null,
       "grid_auto_flow": null,
       "grid_auto_rows": null,
       "grid_column": null,
       "grid_gap": null,
       "grid_row": null,
       "grid_template_areas": null,
       "grid_template_columns": null,
       "grid_template_rows": null,
       "height": null,
       "justify_content": null,
       "justify_items": null,
       "left": null,
       "margin": null,
       "max_height": null,
       "max_width": null,
       "min_height": null,
       "min_width": null,
       "object_fit": null,
       "object_position": null,
       "order": null,
       "overflow": null,
       "padding": null,
       "right": null,
       "top": null,
       "visibility": null,
       "width": null
      }
     },
     "1e1e4adccf604d98b9755a44b3dda8f3": {
      "model_module": "@jupyter-widgets/base",
      "model_module_version": "2.0.0",
      "model_name": "LayoutModel",
      "state": {
       "_model_module": "@jupyter-widgets/base",
       "_model_module_version": "2.0.0",
       "_model_name": "LayoutModel",
       "_view_count": null,
       "_view_module": "@jupyter-widgets/base",
       "_view_module_version": "2.0.0",
       "_view_name": "LayoutView",
       "align_content": null,
       "align_items": null,
       "align_self": null,
       "border_bottom": null,
       "border_left": null,
       "border_right": null,
       "border_top": null,
       "bottom": null,
       "display": null,
       "flex": null,
       "flex_flow": null,
       "grid_area": null,
       "grid_auto_columns": null,
       "grid_auto_flow": null,
       "grid_auto_rows": null,
       "grid_column": null,
       "grid_gap": null,
       "grid_row": null,
       "grid_template_areas": null,
       "grid_template_columns": null,
       "grid_template_rows": null,
       "height": null,
       "justify_content": null,
       "justify_items": null,
       "left": null,
       "margin": null,
       "max_height": null,
       "max_width": null,
       "min_height": null,
       "min_width": null,
       "object_fit": null,
       "object_position": null,
       "order": null,
       "overflow": null,
       "padding": null,
       "right": null,
       "top": null,
       "visibility": null,
       "width": null
      }
     },
     "1fb85223d185403d9adcf5edabfde9f7": {
      "model_module": "@jupyter-widgets/controls",
      "model_module_version": "2.0.0",
      "model_name": "HTMLStyleModel",
      "state": {
       "_model_module": "@jupyter-widgets/controls",
       "_model_module_version": "2.0.0",
       "_model_name": "HTMLStyleModel",
       "_view_count": null,
       "_view_module": "@jupyter-widgets/base",
       "_view_module_version": "2.0.0",
       "_view_name": "StyleView",
       "background": null,
       "description_width": "",
       "font_size": null,
       "text_color": null
      }
     },
     "1ff29a2335d747698f95f61b9f53e8d9": {
      "model_module": "@jupyter-widgets/base",
      "model_module_version": "2.0.0",
      "model_name": "LayoutModel",
      "state": {
       "_model_module": "@jupyter-widgets/base",
       "_model_module_version": "2.0.0",
       "_model_name": "LayoutModel",
       "_view_count": null,
       "_view_module": "@jupyter-widgets/base",
       "_view_module_version": "2.0.0",
       "_view_name": "LayoutView",
       "align_content": null,
       "align_items": null,
       "align_self": null,
       "border_bottom": null,
       "border_left": null,
       "border_right": null,
       "border_top": null,
       "bottom": null,
       "display": null,
       "flex": null,
       "flex_flow": null,
       "grid_area": null,
       "grid_auto_columns": null,
       "grid_auto_flow": null,
       "grid_auto_rows": null,
       "grid_column": null,
       "grid_gap": null,
       "grid_row": null,
       "grid_template_areas": null,
       "grid_template_columns": null,
       "grid_template_rows": null,
       "height": null,
       "justify_content": null,
       "justify_items": null,
       "left": null,
       "margin": null,
       "max_height": null,
       "max_width": null,
       "min_height": null,
       "min_width": null,
       "object_fit": null,
       "object_position": null,
       "order": null,
       "overflow": null,
       "padding": null,
       "right": null,
       "top": null,
       "visibility": null,
       "width": null
      }
     },
     "2b311b7a1b7945caa98336b8a3087e1c": {
      "model_module": "@jupyter-widgets/base",
      "model_module_version": "2.0.0",
      "model_name": "LayoutModel",
      "state": {
       "_model_module": "@jupyter-widgets/base",
       "_model_module_version": "2.0.0",
       "_model_name": "LayoutModel",
       "_view_count": null,
       "_view_module": "@jupyter-widgets/base",
       "_view_module_version": "2.0.0",
       "_view_name": "LayoutView",
       "align_content": null,
       "align_items": null,
       "align_self": null,
       "border_bottom": null,
       "border_left": null,
       "border_right": null,
       "border_top": null,
       "bottom": null,
       "display": null,
       "flex": null,
       "flex_flow": null,
       "grid_area": null,
       "grid_auto_columns": null,
       "grid_auto_flow": null,
       "grid_auto_rows": null,
       "grid_column": null,
       "grid_gap": null,
       "grid_row": null,
       "grid_template_areas": null,
       "grid_template_columns": null,
       "grid_template_rows": null,
       "height": null,
       "justify_content": null,
       "justify_items": null,
       "left": null,
       "margin": null,
       "max_height": null,
       "max_width": null,
       "min_height": null,
       "min_width": null,
       "object_fit": null,
       "object_position": null,
       "order": null,
       "overflow": null,
       "padding": null,
       "right": null,
       "top": null,
       "visibility": null,
       "width": null
      }
     },
     "2dd0e70a4390485e9aaee1ebaa6e2e46": {
      "model_module": "@jupyter-widgets/controls",
      "model_module_version": "2.0.0",
      "model_name": "HTMLStyleModel",
      "state": {
       "_model_module": "@jupyter-widgets/controls",
       "_model_module_version": "2.0.0",
       "_model_name": "HTMLStyleModel",
       "_view_count": null,
       "_view_module": "@jupyter-widgets/base",
       "_view_module_version": "2.0.0",
       "_view_name": "StyleView",
       "background": null,
       "description_width": "",
       "font_size": null,
       "text_color": null
      }
     },
     "3105ea3d03f34279b288a7f1d941c205": {
      "model_module": "@jupyter-widgets/base",
      "model_module_version": "2.0.0",
      "model_name": "LayoutModel",
      "state": {
       "_model_module": "@jupyter-widgets/base",
       "_model_module_version": "2.0.0",
       "_model_name": "LayoutModel",
       "_view_count": null,
       "_view_module": "@jupyter-widgets/base",
       "_view_module_version": "2.0.0",
       "_view_name": "LayoutView",
       "align_content": null,
       "align_items": null,
       "align_self": null,
       "border_bottom": null,
       "border_left": null,
       "border_right": null,
       "border_top": null,
       "bottom": null,
       "display": null,
       "flex": null,
       "flex_flow": null,
       "grid_area": null,
       "grid_auto_columns": null,
       "grid_auto_flow": null,
       "grid_auto_rows": null,
       "grid_column": null,
       "grid_gap": null,
       "grid_row": null,
       "grid_template_areas": null,
       "grid_template_columns": null,
       "grid_template_rows": null,
       "height": null,
       "justify_content": null,
       "justify_items": null,
       "left": null,
       "margin": null,
       "max_height": null,
       "max_width": null,
       "min_height": null,
       "min_width": null,
       "object_fit": null,
       "object_position": null,
       "order": null,
       "overflow": null,
       "padding": null,
       "right": null,
       "top": null,
       "visibility": null,
       "width": null
      }
     },
     "31ac8f17a14f482c8331fde3001150d4": {
      "model_module": "@jupyter-widgets/controls",
      "model_module_version": "2.0.0",
      "model_name": "HTMLModel",
      "state": {
       "_dom_classes": [],
       "_model_module": "@jupyter-widgets/controls",
       "_model_module_version": "2.0.0",
       "_model_name": "HTMLModel",
       "_view_count": null,
       "_view_module": "@jupyter-widgets/controls",
       "_view_module_version": "2.0.0",
       "_view_name": "HTMLView",
       "description": "",
       "description_allow_html": false,
       "layout": "IPY_MODEL_3105ea3d03f34279b288a7f1d941c205",
       "placeholder": "​",
       "style": "IPY_MODEL_e407ac6ab63a44498b77301d0fd0bcd6",
       "tabbable": null,
       "tooltip": null,
       "value": " 23519/23519 [00:34&lt;00:00, 699.83 examples/s]"
      }
     },
     "32f0be5155fa4c3882497e86314d1f6d": {
      "model_module": "@jupyter-widgets/controls",
      "model_module_version": "2.0.0",
      "model_name": "HBoxModel",
      "state": {
       "_dom_classes": [],
       "_model_module": "@jupyter-widgets/controls",
       "_model_module_version": "2.0.0",
       "_model_name": "HBoxModel",
       "_view_count": null,
       "_view_module": "@jupyter-widgets/controls",
       "_view_module_version": "2.0.0",
       "_view_name": "HBoxView",
       "box_style": "",
       "children": [
        "IPY_MODEL_8ee71e1dfd584f5cab7afa05baed7d8c",
        "IPY_MODEL_3449e6072c0d4f9385fc1695dde50e5a",
        "IPY_MODEL_31ac8f17a14f482c8331fde3001150d4"
       ],
       "layout": "IPY_MODEL_e006bd8ec0574a6093a0f276aebc0def",
       "tabbable": null,
       "tooltip": null
      }
     },
     "3449e6072c0d4f9385fc1695dde50e5a": {
      "model_module": "@jupyter-widgets/controls",
      "model_module_version": "2.0.0",
      "model_name": "FloatProgressModel",
      "state": {
       "_dom_classes": [],
       "_model_module": "@jupyter-widgets/controls",
       "_model_module_version": "2.0.0",
       "_model_name": "FloatProgressModel",
       "_view_count": null,
       "_view_module": "@jupyter-widgets/controls",
       "_view_module_version": "2.0.0",
       "_view_name": "ProgressView",
       "bar_style": "success",
       "description": "",
       "description_allow_html": false,
       "layout": "IPY_MODEL_5ffbbdb48e614274b7ba7f5eabc17d8c",
       "max": 23519,
       "min": 0,
       "orientation": "horizontal",
       "style": "IPY_MODEL_bae3cd28955b447e923ac09aa87d62d4",
       "tabbable": null,
       "tooltip": null,
       "value": 23519
      }
     },
     "347e22e8e1a4464b892af1ecd08fae06": {
      "model_module": "@jupyter-widgets/base",
      "model_module_version": "2.0.0",
      "model_name": "LayoutModel",
      "state": {
       "_model_module": "@jupyter-widgets/base",
       "_model_module_version": "2.0.0",
       "_model_name": "LayoutModel",
       "_view_count": null,
       "_view_module": "@jupyter-widgets/base",
       "_view_module_version": "2.0.0",
       "_view_name": "LayoutView",
       "align_content": null,
       "align_items": null,
       "align_self": null,
       "border_bottom": null,
       "border_left": null,
       "border_right": null,
       "border_top": null,
       "bottom": null,
       "display": null,
       "flex": null,
       "flex_flow": null,
       "grid_area": null,
       "grid_auto_columns": null,
       "grid_auto_flow": null,
       "grid_auto_rows": null,
       "grid_column": null,
       "grid_gap": null,
       "grid_row": null,
       "grid_template_areas": null,
       "grid_template_columns": null,
       "grid_template_rows": null,
       "height": null,
       "justify_content": null,
       "justify_items": null,
       "left": null,
       "margin": null,
       "max_height": null,
       "max_width": null,
       "min_height": null,
       "min_width": null,
       "object_fit": null,
       "object_position": null,
       "order": null,
       "overflow": null,
       "padding": null,
       "right": null,
       "top": null,
       "visibility": null,
       "width": null
      }
     },
     "399f9c9af1bf4b66a18255888610ccd5": {
      "model_module": "@jupyter-widgets/controls",
      "model_module_version": "2.0.0",
      "model_name": "HBoxModel",
      "state": {
       "_dom_classes": [],
       "_model_module": "@jupyter-widgets/controls",
       "_model_module_version": "2.0.0",
       "_model_name": "HBoxModel",
       "_view_count": null,
       "_view_module": "@jupyter-widgets/controls",
       "_view_module_version": "2.0.0",
       "_view_name": "HBoxView",
       "box_style": "",
       "children": [
        "IPY_MODEL_ccb8b54c9ccd4a95867115560de77add",
        "IPY_MODEL_d83383553ff44e6bad7f86c39f7d066c",
        "IPY_MODEL_df200cb536b54b59afff3d0f6d74c6ce"
       ],
       "layout": "IPY_MODEL_1406c7ebdf9c4c909d29aca521a1ac54",
       "tabbable": null,
       "tooltip": null
      }
     },
     "3e754e0e792f4b21a46b67c4a1ed138a": {
      "model_module": "@jupyter-widgets/controls",
      "model_module_version": "2.0.0",
      "model_name": "ProgressStyleModel",
      "state": {
       "_model_module": "@jupyter-widgets/controls",
       "_model_module_version": "2.0.0",
       "_model_name": "ProgressStyleModel",
       "_view_count": null,
       "_view_module": "@jupyter-widgets/base",
       "_view_module_version": "2.0.0",
       "_view_name": "StyleView",
       "bar_color": null,
       "description_width": ""
      }
     },
     "55facf5ce5204ffe9e577e8b86b7522d": {
      "model_module": "@jupyter-widgets/controls",
      "model_module_version": "2.0.0",
      "model_name": "HTMLModel",
      "state": {
       "_dom_classes": [],
       "_model_module": "@jupyter-widgets/controls",
       "_model_module_version": "2.0.0",
       "_model_name": "HTMLModel",
       "_view_count": null,
       "_view_module": "@jupyter-widgets/controls",
       "_view_module_version": "2.0.0",
       "_view_name": "HTMLView",
       "description": "",
       "description_allow_html": false,
       "layout": "IPY_MODEL_d255bfe43f7841f2a89a6586523f806f",
       "placeholder": "​",
       "style": "IPY_MODEL_1fb85223d185403d9adcf5edabfde9f7",
       "tabbable": null,
       "tooltip": null,
       "value": " 23519/23519 [00:01&lt;00:00, 21519.29 examples/s]"
      }
     },
     "5ba776d12e4b40c98973db0d3da84c06": {
      "model_module": "@jupyter-widgets/controls",
      "model_module_version": "2.0.0",
      "model_name": "HTMLStyleModel",
      "state": {
       "_model_module": "@jupyter-widgets/controls",
       "_model_module_version": "2.0.0",
       "_model_name": "HTMLStyleModel",
       "_view_count": null,
       "_view_module": "@jupyter-widgets/base",
       "_view_module_version": "2.0.0",
       "_view_name": "StyleView",
       "background": null,
       "description_width": "",
       "font_size": null,
       "text_color": null
      }
     },
     "5c2b8f9e79b546ea821281e3c0e94afc": {
      "model_module": "@jupyter-widgets/controls",
      "model_module_version": "2.0.0",
      "model_name": "HTMLModel",
      "state": {
       "_dom_classes": [],
       "_model_module": "@jupyter-widgets/controls",
       "_model_module_version": "2.0.0",
       "_model_name": "HTMLModel",
       "_view_count": null,
       "_view_module": "@jupyter-widgets/controls",
       "_view_module_version": "2.0.0",
       "_view_name": "HTMLView",
       "description": "",
       "description_allow_html": false,
       "layout": "IPY_MODEL_79e375cfd0fa4018bd697ff8dc403615",
       "placeholder": "​",
       "style": "IPY_MODEL_5ba776d12e4b40c98973db0d3da84c06",
       "tabbable": null,
       "tooltip": null,
       "value": " 94073/94073 [06:33&lt;00:00, 233.60 examples/s]"
      }
     },
     "5ffbbdb48e614274b7ba7f5eabc17d8c": {
      "model_module": "@jupyter-widgets/base",
      "model_module_version": "2.0.0",
      "model_name": "LayoutModel",
      "state": {
       "_model_module": "@jupyter-widgets/base",
       "_model_module_version": "2.0.0",
       "_model_name": "LayoutModel",
       "_view_count": null,
       "_view_module": "@jupyter-widgets/base",
       "_view_module_version": "2.0.0",
       "_view_name": "LayoutView",
       "align_content": null,
       "align_items": null,
       "align_self": null,
       "border_bottom": null,
       "border_left": null,
       "border_right": null,
       "border_top": null,
       "bottom": null,
       "display": null,
       "flex": null,
       "flex_flow": null,
       "grid_area": null,
       "grid_auto_columns": null,
       "grid_auto_flow": null,
       "grid_auto_rows": null,
       "grid_column": null,
       "grid_gap": null,
       "grid_row": null,
       "grid_template_areas": null,
       "grid_template_columns": null,
       "grid_template_rows": null,
       "height": null,
       "justify_content": null,
       "justify_items": null,
       "left": null,
       "margin": null,
       "max_height": null,
       "max_width": null,
       "min_height": null,
       "min_width": null,
       "object_fit": null,
       "object_position": null,
       "order": null,
       "overflow": null,
       "padding": null,
       "right": null,
       "top": null,
       "visibility": null,
       "width": null
      }
     },
     "79d01455e3b04e83a459420916a13406": {
      "model_module": "@jupyter-widgets/controls",
      "model_module_version": "2.0.0",
      "model_name": "HTMLStyleModel",
      "state": {
       "_model_module": "@jupyter-widgets/controls",
       "_model_module_version": "2.0.0",
       "_model_name": "HTMLStyleModel",
       "_view_count": null,
       "_view_module": "@jupyter-widgets/base",
       "_view_module_version": "2.0.0",
       "_view_name": "StyleView",
       "background": null,
       "description_width": "",
       "font_size": null,
       "text_color": null
      }
     },
     "79e375cfd0fa4018bd697ff8dc403615": {
      "model_module": "@jupyter-widgets/base",
      "model_module_version": "2.0.0",
      "model_name": "LayoutModel",
      "state": {
       "_model_module": "@jupyter-widgets/base",
       "_model_module_version": "2.0.0",
       "_model_name": "LayoutModel",
       "_view_count": null,
       "_view_module": "@jupyter-widgets/base",
       "_view_module_version": "2.0.0",
       "_view_name": "LayoutView",
       "align_content": null,
       "align_items": null,
       "align_self": null,
       "border_bottom": null,
       "border_left": null,
       "border_right": null,
       "border_top": null,
       "bottom": null,
       "display": null,
       "flex": null,
       "flex_flow": null,
       "grid_area": null,
       "grid_auto_columns": null,
       "grid_auto_flow": null,
       "grid_auto_rows": null,
       "grid_column": null,
       "grid_gap": null,
       "grid_row": null,
       "grid_template_areas": null,
       "grid_template_columns": null,
       "grid_template_rows": null,
       "height": null,
       "justify_content": null,
       "justify_items": null,
       "left": null,
       "margin": null,
       "max_height": null,
       "max_width": null,
       "min_height": null,
       "min_width": null,
       "object_fit": null,
       "object_position": null,
       "order": null,
       "overflow": null,
       "padding": null,
       "right": null,
       "top": null,
       "visibility": null,
       "width": null
      }
     },
     "7eaa0dc001b442ab98c825f99353beda": {
      "model_module": "@jupyter-widgets/base",
      "model_module_version": "2.0.0",
      "model_name": "LayoutModel",
      "state": {
       "_model_module": "@jupyter-widgets/base",
       "_model_module_version": "2.0.0",
       "_model_name": "LayoutModel",
       "_view_count": null,
       "_view_module": "@jupyter-widgets/base",
       "_view_module_version": "2.0.0",
       "_view_name": "LayoutView",
       "align_content": null,
       "align_items": null,
       "align_self": null,
       "border_bottom": null,
       "border_left": null,
       "border_right": null,
       "border_top": null,
       "bottom": null,
       "display": null,
       "flex": null,
       "flex_flow": null,
       "grid_area": null,
       "grid_auto_columns": null,
       "grid_auto_flow": null,
       "grid_auto_rows": null,
       "grid_column": null,
       "grid_gap": null,
       "grid_row": null,
       "grid_template_areas": null,
       "grid_template_columns": null,
       "grid_template_rows": null,
       "height": null,
       "justify_content": null,
       "justify_items": null,
       "left": null,
       "margin": null,
       "max_height": null,
       "max_width": null,
       "min_height": null,
       "min_width": null,
       "object_fit": null,
       "object_position": null,
       "order": null,
       "overflow": null,
       "padding": null,
       "right": null,
       "top": null,
       "visibility": null,
       "width": null
      }
     },
     "8ee71e1dfd584f5cab7afa05baed7d8c": {
      "model_module": "@jupyter-widgets/controls",
      "model_module_version": "2.0.0",
      "model_name": "HTMLModel",
      "state": {
       "_dom_classes": [],
       "_model_module": "@jupyter-widgets/controls",
       "_model_module_version": "2.0.0",
       "_model_name": "HTMLModel",
       "_view_count": null,
       "_view_module": "@jupyter-widgets/controls",
       "_view_module_version": "2.0.0",
       "_view_name": "HTMLView",
       "description": "",
       "description_allow_html": false,
       "layout": "IPY_MODEL_2b311b7a1b7945caa98336b8a3087e1c",
       "placeholder": "​",
       "style": "IPY_MODEL_2dd0e70a4390485e9aaee1ebaa6e2e46",
       "tabbable": null,
       "tooltip": null,
       "value": "Map: 100%"
      }
     },
     "913e951d7d1e477981597fc0a3c8807d": {
      "model_module": "@jupyter-widgets/controls",
      "model_module_version": "2.0.0",
      "model_name": "HBoxModel",
      "state": {
       "_dom_classes": [],
       "_model_module": "@jupyter-widgets/controls",
       "_model_module_version": "2.0.0",
       "_model_name": "HBoxModel",
       "_view_count": null,
       "_view_module": "@jupyter-widgets/controls",
       "_view_module_version": "2.0.0",
       "_view_name": "HBoxView",
       "box_style": "",
       "children": [
        "IPY_MODEL_c4c931bb9cc244898777b1ee0f846f80",
        "IPY_MODEL_bf33ddd2954e44fe931f5ef633f23e99",
        "IPY_MODEL_55facf5ce5204ffe9e577e8b86b7522d"
       ],
       "layout": "IPY_MODEL_a376d77d7fe54228a6bb41e26a79cb2e",
       "tabbable": null,
       "tooltip": null
      }
     },
     "a376d77d7fe54228a6bb41e26a79cb2e": {
      "model_module": "@jupyter-widgets/base",
      "model_module_version": "2.0.0",
      "model_name": "LayoutModel",
      "state": {
       "_model_module": "@jupyter-widgets/base",
       "_model_module_version": "2.0.0",
       "_model_name": "LayoutModel",
       "_view_count": null,
       "_view_module": "@jupyter-widgets/base",
       "_view_module_version": "2.0.0",
       "_view_name": "LayoutView",
       "align_content": null,
       "align_items": null,
       "align_self": null,
       "border_bottom": null,
       "border_left": null,
       "border_right": null,
       "border_top": null,
       "bottom": null,
       "display": null,
       "flex": null,
       "flex_flow": null,
       "grid_area": null,
       "grid_auto_columns": null,
       "grid_auto_flow": null,
       "grid_auto_rows": null,
       "grid_column": null,
       "grid_gap": null,
       "grid_row": null,
       "grid_template_areas": null,
       "grid_template_columns": null,
       "grid_template_rows": null,
       "height": null,
       "justify_content": null,
       "justify_items": null,
       "left": null,
       "margin": null,
       "max_height": null,
       "max_width": null,
       "min_height": null,
       "min_width": null,
       "object_fit": null,
       "object_position": null,
       "order": null,
       "overflow": null,
       "padding": null,
       "right": null,
       "top": null,
       "visibility": null,
       "width": null
      }
     },
     "a4c8e2db239e4c9aa3d831c6e1bd51a1": {
      "model_module": "@jupyter-widgets/controls",
      "model_module_version": "2.0.0",
      "model_name": "HTMLStyleModel",
      "state": {
       "_model_module": "@jupyter-widgets/controls",
       "_model_module_version": "2.0.0",
       "_model_name": "HTMLStyleModel",
       "_view_count": null,
       "_view_module": "@jupyter-widgets/base",
       "_view_module_version": "2.0.0",
       "_view_name": "StyleView",
       "background": null,
       "description_width": "",
       "font_size": null,
       "text_color": null
      }
     },
     "a7bc54fc0faa421dbc65fca18d9de2c8": {
      "model_module": "@jupyter-widgets/controls",
      "model_module_version": "2.0.0",
      "model_name": "HTMLStyleModel",
      "state": {
       "_model_module": "@jupyter-widgets/controls",
       "_model_module_version": "2.0.0",
       "_model_name": "HTMLStyleModel",
       "_view_count": null,
       "_view_module": "@jupyter-widgets/base",
       "_view_module_version": "2.0.0",
       "_view_name": "StyleView",
       "background": null,
       "description_width": "",
       "font_size": null,
       "text_color": null
      }
     },
     "bae3cd28955b447e923ac09aa87d62d4": {
      "model_module": "@jupyter-widgets/controls",
      "model_module_version": "2.0.0",
      "model_name": "ProgressStyleModel",
      "state": {
       "_model_module": "@jupyter-widgets/controls",
       "_model_module_version": "2.0.0",
       "_model_name": "ProgressStyleModel",
       "_view_count": null,
       "_view_module": "@jupyter-widgets/base",
       "_view_module_version": "2.0.0",
       "_view_name": "StyleView",
       "bar_color": null,
       "description_width": ""
      }
     },
     "bee522ddc1744d4dbb14133a8632361e": {
      "model_module": "@jupyter-widgets/controls",
      "model_module_version": "2.0.0",
      "model_name": "ProgressStyleModel",
      "state": {
       "_model_module": "@jupyter-widgets/controls",
       "_model_module_version": "2.0.0",
       "_model_name": "ProgressStyleModel",
       "_view_count": null,
       "_view_module": "@jupyter-widgets/base",
       "_view_module_version": "2.0.0",
       "_view_name": "StyleView",
       "bar_color": null,
       "description_width": ""
      }
     },
     "bf33ddd2954e44fe931f5ef633f23e99": {
      "model_module": "@jupyter-widgets/controls",
      "model_module_version": "2.0.0",
      "model_name": "FloatProgressModel",
      "state": {
       "_dom_classes": [],
       "_model_module": "@jupyter-widgets/controls",
       "_model_module_version": "2.0.0",
       "_model_name": "FloatProgressModel",
       "_view_count": null,
       "_view_module": "@jupyter-widgets/controls",
       "_view_module_version": "2.0.0",
       "_view_name": "ProgressView",
       "bar_style": "success",
       "description": "",
       "description_allow_html": false,
       "layout": "IPY_MODEL_c3667548561449b198684f74ffd467d1",
       "max": 23519,
       "min": 0,
       "orientation": "horizontal",
       "style": "IPY_MODEL_e9cb1bb0399442759961653b3c0ea395",
       "tabbable": null,
       "tooltip": null,
       "value": 23519
      }
     },
     "c1c392dd561c48f992c0964ca228f06c": {
      "model_module": "@jupyter-widgets/base",
      "model_module_version": "2.0.0",
      "model_name": "LayoutModel",
      "state": {
       "_model_module": "@jupyter-widgets/base",
       "_model_module_version": "2.0.0",
       "_model_name": "LayoutModel",
       "_view_count": null,
       "_view_module": "@jupyter-widgets/base",
       "_view_module_version": "2.0.0",
       "_view_name": "LayoutView",
       "align_content": null,
       "align_items": null,
       "align_self": null,
       "border_bottom": null,
       "border_left": null,
       "border_right": null,
       "border_top": null,
       "bottom": null,
       "display": null,
       "flex": null,
       "flex_flow": null,
       "grid_area": null,
       "grid_auto_columns": null,
       "grid_auto_flow": null,
       "grid_auto_rows": null,
       "grid_column": null,
       "grid_gap": null,
       "grid_row": null,
       "grid_template_areas": null,
       "grid_template_columns": null,
       "grid_template_rows": null,
       "height": null,
       "justify_content": null,
       "justify_items": null,
       "left": null,
       "margin": null,
       "max_height": null,
       "max_width": null,
       "min_height": null,
       "min_width": null,
       "object_fit": null,
       "object_position": null,
       "order": null,
       "overflow": null,
       "padding": null,
       "right": null,
       "top": null,
       "visibility": null,
       "width": null
      }
     },
     "c3667548561449b198684f74ffd467d1": {
      "model_module": "@jupyter-widgets/base",
      "model_module_version": "2.0.0",
      "model_name": "LayoutModel",
      "state": {
       "_model_module": "@jupyter-widgets/base",
       "_model_module_version": "2.0.0",
       "_model_name": "LayoutModel",
       "_view_count": null,
       "_view_module": "@jupyter-widgets/base",
       "_view_module_version": "2.0.0",
       "_view_name": "LayoutView",
       "align_content": null,
       "align_items": null,
       "align_self": null,
       "border_bottom": null,
       "border_left": null,
       "border_right": null,
       "border_top": null,
       "bottom": null,
       "display": null,
       "flex": null,
       "flex_flow": null,
       "grid_area": null,
       "grid_auto_columns": null,
       "grid_auto_flow": null,
       "grid_auto_rows": null,
       "grid_column": null,
       "grid_gap": null,
       "grid_row": null,
       "grid_template_areas": null,
       "grid_template_columns": null,
       "grid_template_rows": null,
       "height": null,
       "justify_content": null,
       "justify_items": null,
       "left": null,
       "margin": null,
       "max_height": null,
       "max_width": null,
       "min_height": null,
       "min_width": null,
       "object_fit": null,
       "object_position": null,
       "order": null,
       "overflow": null,
       "padding": null,
       "right": null,
       "top": null,
       "visibility": null,
       "width": null
      }
     },
     "c4c931bb9cc244898777b1ee0f846f80": {
      "model_module": "@jupyter-widgets/controls",
      "model_module_version": "2.0.0",
      "model_name": "HTMLModel",
      "state": {
       "_dom_classes": [],
       "_model_module": "@jupyter-widgets/controls",
       "_model_module_version": "2.0.0",
       "_model_name": "HTMLModel",
       "_view_count": null,
       "_view_module": "@jupyter-widgets/controls",
       "_view_module_version": "2.0.0",
       "_view_name": "HTMLView",
       "description": "",
       "description_allow_html": false,
       "layout": "IPY_MODEL_347e22e8e1a4464b892af1ecd08fae06",
       "placeholder": "​",
       "style": "IPY_MODEL_a7bc54fc0faa421dbc65fca18d9de2c8",
       "tabbable": null,
       "tooltip": null,
       "value": "Map: 100%"
      }
     },
     "c764b33a5ace4eadab77c871608827b4": {
      "model_module": "@jupyter-widgets/controls",
      "model_module_version": "2.0.0",
      "model_name": "HBoxModel",
      "state": {
       "_dom_classes": [],
       "_model_module": "@jupyter-widgets/controls",
       "_model_module_version": "2.0.0",
       "_model_name": "HBoxModel",
       "_view_count": null,
       "_view_module": "@jupyter-widgets/controls",
       "_view_module_version": "2.0.0",
       "_view_name": "HBoxView",
       "box_style": "",
       "children": [
        "IPY_MODEL_f74535014ba64e45a38e162f5519c632",
        "IPY_MODEL_ec1429b5a59f40969a1748d77211f3ea",
        "IPY_MODEL_5c2b8f9e79b546ea821281e3c0e94afc"
       ],
       "layout": "IPY_MODEL_1ff29a2335d747698f95f61b9f53e8d9",
       "tabbable": null,
       "tooltip": null
      }
     },
     "ccb8b54c9ccd4a95867115560de77add": {
      "model_module": "@jupyter-widgets/controls",
      "model_module_version": "2.0.0",
      "model_name": "HTMLModel",
      "state": {
       "_dom_classes": [],
       "_model_module": "@jupyter-widgets/controls",
       "_model_module_version": "2.0.0",
       "_model_name": "HTMLModel",
       "_view_count": null,
       "_view_module": "@jupyter-widgets/controls",
       "_view_module_version": "2.0.0",
       "_view_name": "HTMLView",
       "description": "",
       "description_allow_html": false,
       "layout": "IPY_MODEL_c1c392dd561c48f992c0964ca228f06c",
       "placeholder": "​",
       "style": "IPY_MODEL_79d01455e3b04e83a459420916a13406",
       "tabbable": null,
       "tooltip": null,
       "value": "Map: 100%"
      }
     },
     "d255bfe43f7841f2a89a6586523f806f": {
      "model_module": "@jupyter-widgets/base",
      "model_module_version": "2.0.0",
      "model_name": "LayoutModel",
      "state": {
       "_model_module": "@jupyter-widgets/base",
       "_model_module_version": "2.0.0",
       "_model_name": "LayoutModel",
       "_view_count": null,
       "_view_module": "@jupyter-widgets/base",
       "_view_module_version": "2.0.0",
       "_view_name": "LayoutView",
       "align_content": null,
       "align_items": null,
       "align_self": null,
       "border_bottom": null,
       "border_left": null,
       "border_right": null,
       "border_top": null,
       "bottom": null,
       "display": null,
       "flex": null,
       "flex_flow": null,
       "grid_area": null,
       "grid_auto_columns": null,
       "grid_auto_flow": null,
       "grid_auto_rows": null,
       "grid_column": null,
       "grid_gap": null,
       "grid_row": null,
       "grid_template_areas": null,
       "grid_template_columns": null,
       "grid_template_rows": null,
       "height": null,
       "justify_content": null,
       "justify_items": null,
       "left": null,
       "margin": null,
       "max_height": null,
       "max_width": null,
       "min_height": null,
       "min_width": null,
       "object_fit": null,
       "object_position": null,
       "order": null,
       "overflow": null,
       "padding": null,
       "right": null,
       "top": null,
       "visibility": null,
       "width": null
      }
     },
     "d83383553ff44e6bad7f86c39f7d066c": {
      "model_module": "@jupyter-widgets/controls",
      "model_module_version": "2.0.0",
      "model_name": "FloatProgressModel",
      "state": {
       "_dom_classes": [],
       "_model_module": "@jupyter-widgets/controls",
       "_model_module_version": "2.0.0",
       "_model_name": "FloatProgressModel",
       "_view_count": null,
       "_view_module": "@jupyter-widgets/controls",
       "_view_module_version": "2.0.0",
       "_view_name": "ProgressView",
       "bar_style": "success",
       "description": "",
       "description_allow_html": false,
       "layout": "IPY_MODEL_1e1e4adccf604d98b9755a44b3dda8f3",
       "max": 94073,
       "min": 0,
       "orientation": "horizontal",
       "style": "IPY_MODEL_3e754e0e792f4b21a46b67c4a1ed138a",
       "tabbable": null,
       "tooltip": null,
       "value": 94073
      }
     },
     "df200cb536b54b59afff3d0f6d74c6ce": {
      "model_module": "@jupyter-widgets/controls",
      "model_module_version": "2.0.0",
      "model_name": "HTMLModel",
      "state": {
       "_dom_classes": [],
       "_model_module": "@jupyter-widgets/controls",
       "_model_module_version": "2.0.0",
       "_model_name": "HTMLModel",
       "_view_count": null,
       "_view_module": "@jupyter-widgets/controls",
       "_view_module_version": "2.0.0",
       "_view_name": "HTMLView",
       "description": "",
       "description_allow_html": false,
       "layout": "IPY_MODEL_f83b04300b21403f97ed47802073c2d3",
       "placeholder": "​",
       "style": "IPY_MODEL_07d3748b05ba49e59040964c896d0f4a",
       "tabbable": null,
       "tooltip": null,
       "value": " 94073/94073 [00:04&lt;00:00, 20661.95 examples/s]"
      }
     },
     "e006bd8ec0574a6093a0f276aebc0def": {
      "model_module": "@jupyter-widgets/base",
      "model_module_version": "2.0.0",
      "model_name": "LayoutModel",
      "state": {
       "_model_module": "@jupyter-widgets/base",
       "_model_module_version": "2.0.0",
       "_model_name": "LayoutModel",
       "_view_count": null,
       "_view_module": "@jupyter-widgets/base",
       "_view_module_version": "2.0.0",
       "_view_name": "LayoutView",
       "align_content": null,
       "align_items": null,
       "align_self": null,
       "border_bottom": null,
       "border_left": null,
       "border_right": null,
       "border_top": null,
       "bottom": null,
       "display": null,
       "flex": null,
       "flex_flow": null,
       "grid_area": null,
       "grid_auto_columns": null,
       "grid_auto_flow": null,
       "grid_auto_rows": null,
       "grid_column": null,
       "grid_gap": null,
       "grid_row": null,
       "grid_template_areas": null,
       "grid_template_columns": null,
       "grid_template_rows": null,
       "height": null,
       "justify_content": null,
       "justify_items": null,
       "left": null,
       "margin": null,
       "max_height": null,
       "max_width": null,
       "min_height": null,
       "min_width": null,
       "object_fit": null,
       "object_position": null,
       "order": null,
       "overflow": null,
       "padding": null,
       "right": null,
       "top": null,
       "visibility": null,
       "width": null
      }
     },
     "e407ac6ab63a44498b77301d0fd0bcd6": {
      "model_module": "@jupyter-widgets/controls",
      "model_module_version": "2.0.0",
      "model_name": "HTMLStyleModel",
      "state": {
       "_model_module": "@jupyter-widgets/controls",
       "_model_module_version": "2.0.0",
       "_model_name": "HTMLStyleModel",
       "_view_count": null,
       "_view_module": "@jupyter-widgets/base",
       "_view_module_version": "2.0.0",
       "_view_name": "StyleView",
       "background": null,
       "description_width": "",
       "font_size": null,
       "text_color": null
      }
     },
     "e9cb1bb0399442759961653b3c0ea395": {
      "model_module": "@jupyter-widgets/controls",
      "model_module_version": "2.0.0",
      "model_name": "ProgressStyleModel",
      "state": {
       "_model_module": "@jupyter-widgets/controls",
       "_model_module_version": "2.0.0",
       "_model_name": "ProgressStyleModel",
       "_view_count": null,
       "_view_module": "@jupyter-widgets/base",
       "_view_module_version": "2.0.0",
       "_view_name": "StyleView",
       "bar_color": null,
       "description_width": ""
      }
     },
     "ec1429b5a59f40969a1748d77211f3ea": {
      "model_module": "@jupyter-widgets/controls",
      "model_module_version": "2.0.0",
      "model_name": "FloatProgressModel",
      "state": {
       "_dom_classes": [],
       "_model_module": "@jupyter-widgets/controls",
       "_model_module_version": "2.0.0",
       "_model_name": "FloatProgressModel",
       "_view_count": null,
       "_view_module": "@jupyter-widgets/controls",
       "_view_module_version": "2.0.0",
       "_view_name": "ProgressView",
       "bar_style": "success",
       "description": "",
       "description_allow_html": false,
       "layout": "IPY_MODEL_f95b11eeb90447bbbeab2f62f30beb6b",
       "max": 94073,
       "min": 0,
       "orientation": "horizontal",
       "style": "IPY_MODEL_bee522ddc1744d4dbb14133a8632361e",
       "tabbable": null,
       "tooltip": null,
       "value": 94073
      }
     },
     "f74535014ba64e45a38e162f5519c632": {
      "model_module": "@jupyter-widgets/controls",
      "model_module_version": "2.0.0",
      "model_name": "HTMLModel",
      "state": {
       "_dom_classes": [],
       "_model_module": "@jupyter-widgets/controls",
       "_model_module_version": "2.0.0",
       "_model_name": "HTMLModel",
       "_view_count": null,
       "_view_module": "@jupyter-widgets/controls",
       "_view_module_version": "2.0.0",
       "_view_name": "HTMLView",
       "description": "",
       "description_allow_html": false,
       "layout": "IPY_MODEL_7eaa0dc001b442ab98c825f99353beda",
       "placeholder": "​",
       "style": "IPY_MODEL_a4c8e2db239e4c9aa3d831c6e1bd51a1",
       "tabbable": null,
       "tooltip": null,
       "value": "Map: 100%"
      }
     },
     "f83b04300b21403f97ed47802073c2d3": {
      "model_module": "@jupyter-widgets/base",
      "model_module_version": "2.0.0",
      "model_name": "LayoutModel",
      "state": {
       "_model_module": "@jupyter-widgets/base",
       "_model_module_version": "2.0.0",
       "_model_name": "LayoutModel",
       "_view_count": null,
       "_view_module": "@jupyter-widgets/base",
       "_view_module_version": "2.0.0",
       "_view_name": "LayoutView",
       "align_content": null,
       "align_items": null,
       "align_self": null,
       "border_bottom": null,
       "border_left": null,
       "border_right": null,
       "border_top": null,
       "bottom": null,
       "display": null,
       "flex": null,
       "flex_flow": null,
       "grid_area": null,
       "grid_auto_columns": null,
       "grid_auto_flow": null,
       "grid_auto_rows": null,
       "grid_column": null,
       "grid_gap": null,
       "grid_row": null,
       "grid_template_areas": null,
       "grid_template_columns": null,
       "grid_template_rows": null,
       "height": null,
       "justify_content": null,
       "justify_items": null,
       "left": null,
       "margin": null,
       "max_height": null,
       "max_width": null,
       "min_height": null,
       "min_width": null,
       "object_fit": null,
       "object_position": null,
       "order": null,
       "overflow": null,
       "padding": null,
       "right": null,
       "top": null,
       "visibility": null,
       "width": null
      }
     },
     "f95b11eeb90447bbbeab2f62f30beb6b": {
      "model_module": "@jupyter-widgets/base",
      "model_module_version": "2.0.0",
      "model_name": "LayoutModel",
      "state": {
       "_model_module": "@jupyter-widgets/base",
       "_model_module_version": "2.0.0",
       "_model_name": "LayoutModel",
       "_view_count": null,
       "_view_module": "@jupyter-widgets/base",
       "_view_module_version": "2.0.0",
       "_view_name": "LayoutView",
       "align_content": null,
       "align_items": null,
       "align_self": null,
       "border_bottom": null,
       "border_left": null,
       "border_right": null,
       "border_top": null,
       "bottom": null,
       "display": null,
       "flex": null,
       "flex_flow": null,
       "grid_area": null,
       "grid_auto_columns": null,
       "grid_auto_flow": null,
       "grid_auto_rows": null,
       "grid_column": null,
       "grid_gap": null,
       "grid_row": null,
       "grid_template_areas": null,
       "grid_template_columns": null,
       "grid_template_rows": null,
       "height": null,
       "justify_content": null,
       "justify_items": null,
       "left": null,
       "margin": null,
       "max_height": null,
       "max_width": null,
       "min_height": null,
       "min_width": null,
       "object_fit": null,
       "object_position": null,
       "order": null,
       "overflow": null,
       "padding": null,
       "right": null,
       "top": null,
       "visibility": null,
       "width": null
      }
     }
    },
    "version_major": 2,
    "version_minor": 0
   }
  }
 },
 "nbformat": 4,
 "nbformat_minor": 5
}
