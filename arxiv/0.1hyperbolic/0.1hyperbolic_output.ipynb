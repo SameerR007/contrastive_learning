{
 "cells": [
  {
   "cell_type": "code",
   "execution_count": 1,
   "id": "c643a105",
   "metadata": {
    "execution": {
     "iopub.execute_input": "2025-02-03T14:01:02.913434Z",
     "iopub.status.busy": "2025-02-03T14:01:02.913097Z",
     "iopub.status.idle": "2025-02-03T14:01:06.686202Z",
     "shell.execute_reply": "2025-02-03T14:01:06.685712Z"
    },
    "papermill": {
     "duration": 3.782258,
     "end_time": "2025-02-03T14:01:06.687200",
     "exception": false,
     "start_time": "2025-02-03T14:01:02.904942",
     "status": "completed"
    },
    "tags": []
   },
   "outputs": [],
   "source": [
    "from datasets import load_dataset"
   ]
  },
  {
   "cell_type": "code",
   "execution_count": 2,
   "id": "bcba0194",
   "metadata": {
    "execution": {
     "iopub.execute_input": "2025-02-03T14:01:06.699224Z",
     "iopub.status.busy": "2025-02-03T14:01:06.698618Z",
     "iopub.status.idle": "2025-02-03T14:01:08.719330Z",
     "shell.execute_reply": "2025-02-03T14:01:08.718831Z"
    },
    "papermill": {
     "duration": 2.027747,
     "end_time": "2025-02-03T14:01:08.720400",
     "exception": false,
     "start_time": "2025-02-03T14:01:06.692653",
     "status": "completed"
    },
    "tags": []
   },
   "outputs": [],
   "source": [
    "dataset = load_dataset(\"CShorten/ML-ArXiv-Papers\")"
   ]
  },
  {
   "cell_type": "code",
   "execution_count": 3,
   "id": "9c77ff31",
   "metadata": {
    "execution": {
     "iopub.execute_input": "2025-02-03T14:01:08.733583Z",
     "iopub.status.busy": "2025-02-03T14:01:08.733133Z",
     "iopub.status.idle": "2025-02-03T14:01:08.738160Z",
     "shell.execute_reply": "2025-02-03T14:01:08.737763Z"
    },
    "papermill": {
     "duration": 0.0111,
     "end_time": "2025-02-03T14:01:08.738868",
     "exception": false,
     "start_time": "2025-02-03T14:01:08.727768",
     "status": "completed"
    },
    "tags": []
   },
   "outputs": [
    {
     "data": {
      "text/plain": [
       "DatasetDict({\n",
       "    train: Dataset({\n",
       "        features: ['Unnamed: 0.1', 'Unnamed: 0', 'title', 'abstract'],\n",
       "        num_rows: 117592\n",
       "    })\n",
       "})"
      ]
     },
     "execution_count": 3,
     "metadata": {},
     "output_type": "execute_result"
    }
   ],
   "source": [
    "dataset"
   ]
  },
  {
   "cell_type": "code",
   "execution_count": 4,
   "id": "04a2a273",
   "metadata": {
    "execution": {
     "iopub.execute_input": "2025-02-03T14:01:08.749628Z",
     "iopub.status.busy": "2025-02-03T14:01:08.749196Z",
     "iopub.status.idle": "2025-02-03T14:01:08.785471Z",
     "shell.execute_reply": "2025-02-03T14:01:08.785025Z"
    },
    "papermill": {
     "duration": 0.042624,
     "end_time": "2025-02-03T14:01:08.786482",
     "exception": false,
     "start_time": "2025-02-03T14:01:08.743858",
     "status": "completed"
    },
    "tags": []
   },
   "outputs": [],
   "source": [
    "split_datasets = dataset[\"train\"].train_test_split(test_size=0.2)"
   ]
  },
  {
   "cell_type": "code",
   "execution_count": 5,
   "id": "9dbe1eb6",
   "metadata": {
    "execution": {
     "iopub.execute_input": "2025-02-03T14:01:08.797567Z",
     "iopub.status.busy": "2025-02-03T14:01:08.797333Z",
     "iopub.status.idle": "2025-02-03T14:01:08.801009Z",
     "shell.execute_reply": "2025-02-03T14:01:08.800574Z"
    },
    "papermill": {
     "duration": 0.009977,
     "end_time": "2025-02-03T14:01:08.801703",
     "exception": false,
     "start_time": "2025-02-03T14:01:08.791726",
     "status": "completed"
    },
    "tags": []
   },
   "outputs": [
    {
     "data": {
      "text/plain": [
       "DatasetDict({\n",
       "    train: Dataset({\n",
       "        features: ['Unnamed: 0.1', 'Unnamed: 0', 'title', 'abstract'],\n",
       "        num_rows: 94073\n",
       "    })\n",
       "    test: Dataset({\n",
       "        features: ['Unnamed: 0.1', 'Unnamed: 0', 'title', 'abstract'],\n",
       "        num_rows: 23519\n",
       "    })\n",
       "})"
      ]
     },
     "execution_count": 5,
     "metadata": {},
     "output_type": "execute_result"
    }
   ],
   "source": [
    "split_datasets"
   ]
  },
  {
   "cell_type": "code",
   "execution_count": 6,
   "id": "3e518138",
   "metadata": {
    "execution": {
     "iopub.execute_input": "2025-02-03T14:01:08.813125Z",
     "iopub.status.busy": "2025-02-03T14:01:08.812700Z",
     "iopub.status.idle": "2025-02-03T14:01:08.815080Z",
     "shell.execute_reply": "2025-02-03T14:01:08.814760Z"
    },
    "papermill": {
     "duration": 0.008811,
     "end_time": "2025-02-03T14:01:08.815685",
     "exception": false,
     "start_time": "2025-02-03T14:01:08.806874",
     "status": "completed"
    },
    "tags": []
   },
   "outputs": [],
   "source": [
    "dataset_train = split_datasets[\"train\"]"
   ]
  },
  {
   "cell_type": "code",
   "execution_count": 7,
   "id": "0f892510",
   "metadata": {
    "execution": {
     "iopub.execute_input": "2025-02-03T14:01:08.826989Z",
     "iopub.status.busy": "2025-02-03T14:01:08.826573Z",
     "iopub.status.idle": "2025-02-03T14:01:08.829535Z",
     "shell.execute_reply": "2025-02-03T14:01:08.829216Z"
    },
    "papermill": {
     "duration": 0.009276,
     "end_time": "2025-02-03T14:01:08.830110",
     "exception": false,
     "start_time": "2025-02-03T14:01:08.820834",
     "status": "completed"
    },
    "tags": []
   },
   "outputs": [
    {
     "data": {
      "text/plain": [
       "Dataset({\n",
       "    features: ['Unnamed: 0.1', 'Unnamed: 0', 'title', 'abstract'],\n",
       "    num_rows: 94073\n",
       "})"
      ]
     },
     "execution_count": 7,
     "metadata": {},
     "output_type": "execute_result"
    }
   ],
   "source": [
    "dataset_train"
   ]
  },
  {
   "cell_type": "code",
   "execution_count": 8,
   "id": "135d2875",
   "metadata": {
    "execution": {
     "iopub.execute_input": "2025-02-03T14:01:08.841481Z",
     "iopub.status.busy": "2025-02-03T14:01:08.841197Z",
     "iopub.status.idle": "2025-02-03T14:01:08.844806Z",
     "shell.execute_reply": "2025-02-03T14:01:08.844495Z"
    },
    "papermill": {
     "duration": 0.009873,
     "end_time": "2025-02-03T14:01:08.845374",
     "exception": false,
     "start_time": "2025-02-03T14:01:08.835501",
     "status": "completed"
    },
    "tags": []
   },
   "outputs": [],
   "source": [
    "dataset_train = dataset_train.remove_columns(['Unnamed: 0','Unnamed: 0.1'])"
   ]
  },
  {
   "cell_type": "code",
   "execution_count": 9,
   "id": "cbcdbc4c",
   "metadata": {
    "execution": {
     "iopub.execute_input": "2025-02-03T14:01:08.856560Z",
     "iopub.status.busy": "2025-02-03T14:01:08.856429Z",
     "iopub.status.idle": "2025-02-03T14:01:08.859137Z",
     "shell.execute_reply": "2025-02-03T14:01:08.858814Z"
    },
    "papermill": {
     "duration": 0.009007,
     "end_time": "2025-02-03T14:01:08.859720",
     "exception": false,
     "start_time": "2025-02-03T14:01:08.850713",
     "status": "completed"
    },
    "tags": []
   },
   "outputs": [
    {
     "data": {
      "text/plain": [
       "Dataset({\n",
       "    features: ['title', 'abstract'],\n",
       "    num_rows: 94073\n",
       "})"
      ]
     },
     "execution_count": 9,
     "metadata": {},
     "output_type": "execute_result"
    }
   ],
   "source": [
    "dataset_train"
   ]
  },
  {
   "cell_type": "code",
   "execution_count": 10,
   "id": "1c3dbc53",
   "metadata": {
    "execution": {
     "iopub.execute_input": "2025-02-03T14:01:08.871151Z",
     "iopub.status.busy": "2025-02-03T14:01:08.870824Z",
     "iopub.status.idle": "2025-02-03T14:01:08.874381Z",
     "shell.execute_reply": "2025-02-03T14:01:08.874073Z"
    },
    "papermill": {
     "duration": 0.009907,
     "end_time": "2025-02-03T14:01:08.874956",
     "exception": false,
     "start_time": "2025-02-03T14:01:08.865049",
     "status": "completed"
    },
    "tags": []
   },
   "outputs": [
    {
     "data": {
      "text/plain": [
       "{'title': 'Understanding the Predictability of Gesture Parameters from Speech and\\n  their Perceptual Importance',\n",
       " 'abstract': '  Gesture behavior is a natural part of human conversation. Much work has\\nfocused on removing the need for tedious hand-animation to create embodied\\nconversational agents by designing speech-driven gesture generators. However,\\nthese generators often work in a black-box manner, assuming a general\\nrelationship between input speech and output motion. As their success remains\\nlimited, we investigate in more detail how speech may relate to different\\naspects of gesture motion. We determine a number of parameters characterizing\\ngesture, such as speed and gesture size, and explore their relationship to the\\nspeech signal in a two-fold manner. First, we train multiple recurrent networks\\nto predict the gesture parameters from speech to understand how well gesture\\nattributes can be modeled from speech alone. We find that gesture parameters\\ncan be partially predicted from speech, and some parameters, such as path\\nlength, being predicted more accurately than others, like velocity. Second, we\\ndesign a perceptual study to assess the importance of each gesture parameter\\nfor producing motion that people perceive as appropriate for the speech.\\nResults show that a degradation in any parameter was viewed negatively, but\\nsome changes, such as hand shape, are more impactful than others. A video\\nsummarization can be found at https://youtu.be/aw6-_5kmLjY.\\n'}"
      ]
     },
     "execution_count": 10,
     "metadata": {},
     "output_type": "execute_result"
    }
   ],
   "source": [
    "dataset_train[0]"
   ]
  },
  {
   "cell_type": "code",
   "execution_count": 11,
   "id": "045e63c7",
   "metadata": {
    "execution": {
     "iopub.execute_input": "2025-02-03T14:01:08.886568Z",
     "iopub.status.busy": "2025-02-03T14:01:08.886247Z",
     "iopub.status.idle": "2025-02-03T14:01:14.060895Z",
     "shell.execute_reply": "2025-02-03T14:01:14.060480Z"
    },
    "papermill": {
     "duration": 5.181216,
     "end_time": "2025-02-03T14:01:14.061572",
     "exception": false,
     "start_time": "2025-02-03T14:01:08.880356",
     "status": "completed"
    },
    "tags": []
   },
   "outputs": [
    {
     "data": {
      "application/vnd.jupyter.widget-view+json": {
       "model_id": "3e9bc1f73ffd4457ad5517594144341b",
       "version_major": 2,
       "version_minor": 0
      },
      "text/plain": [
       "Map:   0%|          | 0/94073 [00:00<?, ? examples/s]"
      ]
     },
     "metadata": {},
     "output_type": "display_data"
    }
   ],
   "source": [
    "dataset_train = dataset_train.map(lambda x, idx: { 'index': idx }, with_indices=True)"
   ]
  },
  {
   "cell_type": "code",
   "execution_count": 12,
   "id": "f4e9748a",
   "metadata": {
    "execution": {
     "iopub.execute_input": "2025-02-03T14:01:14.075785Z",
     "iopub.status.busy": "2025-02-03T14:01:14.075610Z",
     "iopub.status.idle": "2025-02-03T14:01:14.079456Z",
     "shell.execute_reply": "2025-02-03T14:01:14.079073Z"
    },
    "papermill": {
     "duration": 0.010274,
     "end_time": "2025-02-03T14:01:14.080038",
     "exception": false,
     "start_time": "2025-02-03T14:01:14.069764",
     "status": "completed"
    },
    "tags": []
   },
   "outputs": [
    {
     "data": {
      "text/plain": [
       "Dataset({\n",
       "    features: ['title', 'abstract', 'index'],\n",
       "    num_rows: 94073\n",
       "})"
      ]
     },
     "execution_count": 12,
     "metadata": {},
     "output_type": "execute_result"
    }
   ],
   "source": [
    "dataset_train"
   ]
  },
  {
   "cell_type": "code",
   "execution_count": 13,
   "id": "69efe8a2",
   "metadata": {
    "execution": {
     "iopub.execute_input": "2025-02-03T14:01:14.091803Z",
     "iopub.status.busy": "2025-02-03T14:01:14.091642Z",
     "iopub.status.idle": "2025-02-03T14:01:14.095103Z",
     "shell.execute_reply": "2025-02-03T14:01:14.094725Z"
    },
    "papermill": {
     "duration": 0.009934,
     "end_time": "2025-02-03T14:01:14.095711",
     "exception": false,
     "start_time": "2025-02-03T14:01:14.085777",
     "status": "completed"
    },
    "tags": []
   },
   "outputs": [
    {
     "data": {
      "text/plain": [
       "{'title': 'Generative Adversarial Simulator',\n",
       " 'abstract': '  Knowledge distillation between machine learning models has opened many new\\navenues for parameter count reduction, performance improvements, or amortizing\\ntraining time when changing architectures between the teacher and student\\nnetwork. In the case of reinforcement learning, this technique has also been\\napplied to distill teacher policies to students. Until now, policy distillation\\nrequired access to a simulator or real world trajectories.\\n  In this paper we introduce a simulator-free approach to knowledge\\ndistillation in the context of reinforcement learning. A key challenge is\\nhaving the student learn the multiplicity of cases that correspond to a given\\naction. While prior work has shown that data-free knowledge distillation is\\npossible with supervised learning models by generating synthetic examples,\\nthese approaches to are vulnerable to only producing a single prototype example\\nfor each class. We propose an extension to explicitly handle multiple\\nobservations per output class that seeks to find as many exemplars as possible\\nfor a given output class by reinitializing our data generator and making use of\\nan adversarial loss.\\n  To the best of our knowledge, this is the first demonstration of\\nsimulator-free knowledge distillation between a teacher and a student policy.\\nThis new approach improves over the state of the art on data-free learning of\\nstudent networks on benchmark datasets (MNIST, Fashion-MNIST, CIFAR-10), and we\\nalso demonstrate that it specifically tackles issues with multiple input modes.\\nWe also identify open problems when distilling agents trained in high\\ndimensional environments such as Pong, Breakout, or Seaquest.\\n',\n",
       " 'index': 4}"
      ]
     },
     "execution_count": 13,
     "metadata": {},
     "output_type": "execute_result"
    }
   ],
   "source": [
    "dataset_train[4]"
   ]
  },
  {
   "cell_type": "code",
   "execution_count": 14,
   "id": "63f1c92e",
   "metadata": {
    "execution": {
     "iopub.execute_input": "2025-02-03T14:01:14.107626Z",
     "iopub.status.busy": "2025-02-03T14:01:14.107381Z",
     "iopub.status.idle": "2025-02-03T14:01:14.110503Z",
     "shell.execute_reply": "2025-02-03T14:01:14.110139Z"
    },
    "papermill": {
     "duration": 0.009755,
     "end_time": "2025-02-03T14:01:14.111112",
     "exception": false,
     "start_time": "2025-02-03T14:01:14.101357",
     "status": "completed"
    },
    "tags": []
   },
   "outputs": [
    {
     "data": {
      "text/plain": [
       "{'title': 'Value-Decomposition Multi-Agent Actor-Critics',\n",
       " 'abstract': '  The exploitation of extra state information has been an active research area\\nin multi-agent reinforcement learning (MARL). QMIX represents the joint\\naction-value using a non-negative function approximator and achieves the best\\nperformance, by far, on multi-agent benchmarks, StarCraft II micromanagement\\ntasks. However, our experiments show that, in some cases, QMIX is incompatible\\nwith A2C, a training paradigm that promotes algorithm training efficiency. To\\nobtain a reasonable trade-off between training efficiency and algorithm\\nperformance, we extend value-decomposition to actor-critics that are compatible\\nwith A2C and propose a novel actor-critic framework, value-decomposition\\nactor-critics (VDACs). We evaluate VDACs on the testbed of StarCraft II\\nmicromanagement tasks and demonstrate that the proposed framework improves\\nmedian performance over other actor-critic methods. Furthermore, we use a set\\nof ablation experiments to identify the key factors that contribute to the\\nperformance of VDACs.\\n',\n",
       " 'index': 20572}"
      ]
     },
     "execution_count": 14,
     "metadata": {},
     "output_type": "execute_result"
    }
   ],
   "source": [
    "dataset_train[20572]"
   ]
  },
  {
   "cell_type": "code",
   "execution_count": 15,
   "id": "e9993947",
   "metadata": {
    "execution": {
     "iopub.execute_input": "2025-02-03T14:01:14.123104Z",
     "iopub.status.busy": "2025-02-03T14:01:14.122916Z",
     "iopub.status.idle": "2025-02-03T14:01:14.172191Z",
     "shell.execute_reply": "2025-02-03T14:01:14.171819Z"
    },
    "papermill": {
     "duration": 0.055901,
     "end_time": "2025-02-03T14:01:14.172748",
     "exception": false,
     "start_time": "2025-02-03T14:01:14.116847",
     "status": "completed"
    },
    "tags": []
   },
   "outputs": [],
   "source": [
    "import numpy as np\n",
    "all_indexes = np.array(dataset_train['index'])"
   ]
  },
  {
   "cell_type": "code",
   "execution_count": 16,
   "id": "3c956f8e",
   "metadata": {
    "execution": {
     "iopub.execute_input": "2025-02-03T14:01:14.185240Z",
     "iopub.status.busy": "2025-02-03T14:01:14.184851Z",
     "iopub.status.idle": "2025-02-03T14:01:14.188230Z",
     "shell.execute_reply": "2025-02-03T14:01:14.187844Z"
    },
    "papermill": {
     "duration": 0.010138,
     "end_time": "2025-02-03T14:01:14.188862",
     "exception": false,
     "start_time": "2025-02-03T14:01:14.178724",
     "status": "completed"
    },
    "tags": []
   },
   "outputs": [],
   "source": [
    "import random\n",
    "\n",
    "def generate_hard_negatives(example, num_negatives=10,dataset=dataset_train):\n",
    "    query_index = example['index']  \n",
    "    anchor = example['title']\n",
    "    positive = example['abstract']\n",
    "    \n",
    "    negatives = []\n",
    "    \n",
    "    negative_indexes = np.delete(all_indexes, np.where(all_indexes == query_index))\n",
    "\n",
    "    sampled_negatives = random.sample(list(negative_indexes), num_negatives)\n",
    "    \n",
    "    for idx in sampled_negatives:\n",
    "        negatives.append(dataset[int(idx)]['abstract'])\n",
    "    \n",
    "    return {\n",
    "        \"query\": anchor,\n",
    "        \"positive\": positive,\n",
    "        \"negatives\": negatives\n",
    "    }"
   ]
  },
  {
   "cell_type": "code",
   "execution_count": 17,
   "id": "6ab12866",
   "metadata": {
    "execution": {
     "iopub.execute_input": "2025-02-03T14:01:14.200938Z",
     "iopub.status.busy": "2025-02-03T14:01:14.200652Z",
     "iopub.status.idle": "2025-02-03T14:09:02.434461Z",
     "shell.execute_reply": "2025-02-03T14:09:02.433876Z"
    },
    "papermill": {
     "duration": 468.241022,
     "end_time": "2025-02-03T14:09:02.435671",
     "exception": false,
     "start_time": "2025-02-03T14:01:14.194649",
     "status": "completed"
    },
    "tags": []
   },
   "outputs": [
    {
     "data": {
      "application/vnd.jupyter.widget-view+json": {
       "model_id": "739b7cff601048bc9b11394d4e2f707d",
       "version_major": 2,
       "version_minor": 0
      },
      "text/plain": [
       "Map:   0%|          | 0/94073 [00:00<?, ? examples/s]"
      ]
     },
     "metadata": {},
     "output_type": "display_data"
    }
   ],
   "source": [
    "processed_data_train = dataset_train.map(generate_hard_negatives, remove_columns=dataset_train.column_names)"
   ]
  },
  {
   "cell_type": "code",
   "execution_count": 18,
   "id": "861c271d",
   "metadata": {
    "execution": {
     "iopub.execute_input": "2025-02-03T14:09:02.452810Z",
     "iopub.status.busy": "2025-02-03T14:09:02.452446Z",
     "iopub.status.idle": "2025-02-03T14:09:02.456537Z",
     "shell.execute_reply": "2025-02-03T14:09:02.456137Z"
    },
    "papermill": {
     "duration": 0.011435,
     "end_time": "2025-02-03T14:09:02.457242",
     "exception": false,
     "start_time": "2025-02-03T14:09:02.445807",
     "status": "completed"
    },
    "tags": []
   },
   "outputs": [
    {
     "data": {
      "text/plain": [
       "Dataset({\n",
       "    features: ['query', 'positive', 'negatives'],\n",
       "    num_rows: 94073\n",
       "})"
      ]
     },
     "execution_count": 18,
     "metadata": {},
     "output_type": "execute_result"
    }
   ],
   "source": [
    "processed_data_train"
   ]
  },
  {
   "cell_type": "code",
   "execution_count": 19,
   "id": "96368bc5",
   "metadata": {
    "execution": {
     "iopub.execute_input": "2025-02-03T14:09:02.469867Z",
     "iopub.status.busy": "2025-02-03T14:09:02.469458Z",
     "iopub.status.idle": "2025-02-03T14:09:02.509288Z",
     "shell.execute_reply": "2025-02-03T14:09:02.508874Z"
    },
    "papermill": {
     "duration": 0.046811,
     "end_time": "2025-02-03T14:09:02.510010",
     "exception": false,
     "start_time": "2025-02-03T14:09:02.463199",
     "status": "completed"
    },
    "tags": []
   },
   "outputs": [
    {
     "data": {
      "text/plain": [
       "{'query': 'Understanding the Predictability of Gesture Parameters from Speech and\\n  their Perceptual Importance',\n",
       " 'positive': '  Gesture behavior is a natural part of human conversation. Much work has\\nfocused on removing the need for tedious hand-animation to create embodied\\nconversational agents by designing speech-driven gesture generators. However,\\nthese generators often work in a black-box manner, assuming a general\\nrelationship between input speech and output motion. As their success remains\\nlimited, we investigate in more detail how speech may relate to different\\naspects of gesture motion. We determine a number of parameters characterizing\\ngesture, such as speed and gesture size, and explore their relationship to the\\nspeech signal in a two-fold manner. First, we train multiple recurrent networks\\nto predict the gesture parameters from speech to understand how well gesture\\nattributes can be modeled from speech alone. We find that gesture parameters\\ncan be partially predicted from speech, and some parameters, such as path\\nlength, being predicted more accurately than others, like velocity. Second, we\\ndesign a perceptual study to assess the importance of each gesture parameter\\nfor producing motion that people perceive as appropriate for the speech.\\nResults show that a degradation in any parameter was viewed negatively, but\\nsome changes, such as hand shape, are more impactful than others. A video\\nsummarization can be found at https://youtu.be/aw6-_5kmLjY.\\n',\n",
       " 'negatives': [\"  Distributed implementations of gradient-based methods, wherein a server\\ndistributes gradient computations across worker machines, suffer from slow\\nrunning machines, called 'stragglers'. Gradient coding is a coding-theoretic\\nframework to mitigate stragglers by enabling the server to recover the gradient\\nsum in the presence of stragglers. 'Approximate gradient codes' are variants of\\ngradient codes that reduce computation and storage overhead per worker by\\nallowing the server to approximately reconstruct the gradient sum.\\n  In this work, our goal is to construct approximate gradient codes that are\\nresilient to stragglers selected by a computationally unbounded adversary. Our\\nmotivation for constructing codes to mitigate adversarial stragglers stems from\\nthe challenge of tackling stragglers in massive-scale elastic and serverless\\nsystems, wherein it is difficult to statistically model stragglers. Towards\\nthis end, we propose a class of approximate gradient codes based on balanced\\nincomplete block designs (BIBDs). We show that the approximation error for\\nthese codes depends only on the number of stragglers, and thus, adversarial\\nstraggler selection has no advantage over random selection. In addition, the\\nproposed codes admit computationally efficient decoding at the server. Next, to\\ncharacterize fundamental limits of adversarial straggling, we consider the\\nnotion of 'adversarial threshold' -- the smallest number of workers that an\\nadversary must straggle to inflict certain approximation error. We compute a\\nlower bound on the adversarial threshold, and show that codes based on\\nsymmetric BIBDs maximize this lower bound among a wide class of codes, making\\nthem excellent candidates for mitigating adversarial stragglers.\\n\",\n",
       "  '  The Transformer architecture is widely used in natural language processing.\\nDespite its success, the design principle of the Transformer remains elusive.\\nIn this paper, we provide a novel perspective towards understanding the\\narchitecture: we show that the Transformer can be mathematically interpreted as\\na numerical Ordinary Differential Equation (ODE) solver for a\\nconvection-diffusion equation in a multi-particle dynamic system. In\\nparticular, how words in a sentence are abstracted into contexts by passing\\nthrough the layers of the Transformer can be interpreted as approximating\\nmultiple particles\\' movement in the space using the Lie-Trotter splitting\\nscheme and the Euler\\'s method. Given this ODE\\'s perspective, the rich\\nliterature of numerical analysis can be brought to guide us in designing\\neffective structures beyond the Transformer. As an example, we propose to\\nreplace the Lie-Trotter splitting scheme by the Strang-Marchuk splitting\\nscheme, a scheme that is more commonly used and with much lower local\\ntruncation errors. The Strang-Marchuk splitting scheme suggests that the\\nself-attention and position-wise feed-forward network (FFN) sub-layers should\\nnot be treated equally. Instead, in each layer, two position-wise FFN\\nsub-layers should be used, and the self-attention sub-layer is placed in\\nbetween. This leads to a brand new architecture. Such an FFN-attention-FFN\\nlayer is \"Macaron-like\", and thus we call the network with this new\\narchitecture the Macaron Net. Through extensive experiments, we show that the\\nMacaron Net is superior to the Transformer on both supervised and unsupervised\\nlearning tasks. The reproducible codes and pretrained models can be found at\\nhttps://github.com/zhuohan123/macaron-net\\n',\n",
       "  \"  Alzheimer's disease is one of the diseases that mostly affects older people\\nwithout being a part of aging. The most common symptoms include problems with\\ncommunicating and abstract thinking, as well as disorientation. It is important\\nto detect Alzheimer's disease in early stages so that cognitive functioning\\nwould be improved by medication and training. In this paper, we propose two\\nattention model networks for detecting Alzheimer's disease from MRI images to\\nhelp early detection efforts at the preclinical stage. We also compare the\\nperformance of these two attention network models with a baseline model.\\nRecently available OASIS-3 Longitudinal Neuroimaging, Clinical, and Cognitive\\nDataset is used to train, evaluate and compare our models. The novelty of this\\nresearch resides in the fact that we aim to detect Alzheimer's disease when all\\nthe parameters, physical assessments, and clinical data state that the patient\\nis healthy and showing no symptoms\\n\",\n",
       "  '  Neural architecture search (NAS), an important branch of automatic machine\\nlearning, has become an effective approach to automate the design of deep\\nlearning models. However, the major issue in NAS is how to reduce the large\\nsearch time imposed by the heavy computational burden. While most recent\\napproaches focus on pruning redundant sets or developing new search\\nmethodologies, this paper attempts to formulate the problem based on the data\\ncuration manner. Our key strategy is to search the architecture using\\nsummarized data distribution, i.e., core-set. Typically, many NAS algorithms\\nseparate searching and training stages, and the proposed core-set methodology\\nis only used in search stage, thus their performance degradation can be\\nminimized. In our experiments, we were able to save overall computational time\\nfrom 30.8 hours to 3.5 hours, 8.8x reduction, on a single RTX 3090 GPU without\\nsacrificing accuracy.\\n',\n",
       "  '  We study adaptive sensing of Cox point processes, a widely used model from\\nspatial statistics. We introduce three tasks: maximization of captured events,\\nsearch for the maximum of the intensity function and learning level sets of the\\nintensity function. We model the intensity function as a sample from a\\ntruncated Gaussian process, represented in a specially constructed positive\\nbasis. In this basis, the positivity constraint on the intensity function has a\\nsimple form. We show how an minimal description positive basis can be adapted\\nto the covariance kernel, non-stationarity and make connections to common\\npositive bases from prior works. Our adaptive sensing algorithms use Langevin\\ndynamics and are based on posterior sampling (\\\\textsc{Cox-Thompson}) and\\ntop-two posterior sampling (\\\\textsc{Top2}) principles. With latter, the\\ndifference between samples serves as a surrogate to the uncertainty. We\\ndemonstrate the approach using examples from environmental monitoring and crime\\nrate modeling, and compare it to the classical Bayesian experimental design\\napproach.\\n',\n",
       "  '  We develop a new compressive sensing (CS) inversion algorithm by utilizing\\nthe Gaussian mixture model (GMM). While the compressive sensing is performed\\nglobally on the entire image as implemented in our lensless camera, a low-rank\\nGMM is imposed on the local image patches. This low-rank GMM is derived via\\neigenvalue thresholding of the GMM trained on the projection of the measurement\\ndata, thus learned {\\\\em in situ}. The GMM and the projection of the measurement\\ndata are updated iteratively during the reconstruction. Our GMM algorithm\\ndegrades to the piecewise linear estimator (PLE) if each patch is represented\\nby a single Gaussian model. Inspired by this, a low-rank PLE algorithm is also\\ndeveloped for CS inversion, constituting an additional contribution of this\\npaper. Extensive results on both simulation data and real data captured by the\\nlensless camera demonstrate the efficacy of the proposed algorithm.\\nFurthermore, we compare the CS reconstruction results using our algorithm with\\nthe JPEG compression. Simulation results demonstrate that when limited\\nbandwidth is available (a small number of measurements), our algorithm can\\nachieve comparable results as JPEG.\\n',\n",
       "  \"  Epilepsy is a chronic neurological disorder affecting more than 65 million\\npeople worldwide and manifested by recurrent unprovoked seizures. The\\nunpredictability of seizures not only degrades the quality of life of the\\npatients, but it can also be life-threatening. Modern systems monitoring\\nelectroencephalography (EEG) signals are being currently developed with the\\nview to detect epileptic seizures in order to alert caregivers and reduce the\\nimpact of seizures on patients' quality of life. Such seizure detection systems\\nemploy state-of-the-art machine learning algorithms that require a considerably\\nlarge amount of labeled personal data for training. However, acquiring EEG\\nsignals of epileptic seizures is a costly and time-consuming process for\\nmedical experts and patients, currently requiring in-hospital recordings in\\nspecialized units. In this work, we generate synthetic seizure-like brain\\nelectrical activities, i.e., EEG signals, that can be used to train seizure\\ndetection algorithms, alleviating the need for recorded data. First, we train a\\nGenerative Adversarial Network (GAN) with data from 30 epilepsy patients. Then,\\nwe generate synthetic personalized training sets for new, unseen patients,\\nwhich overall yield higher detection performance than the real-data training\\nsets. We demonstrate our results using the datasets from the EPILEPSIAE\\nProject, one of the world's largest public databases for seizure detection.\\n\",\n",
       "  \"  This paper considers meta-cognitive radars in an adversarial setting. A\\ncognitive radar optimally adapts its waveform (response) in response to\\nmaneuvers (probes) of a possibly adversarial moving target. A meta-cognitive\\nradar is aware of the adversarial nature of the target and seeks to mitigate\\nthe adversarial target. How should the meta-cognitive radar choose its\\nresponses to sufficiently confuse the adversary trying to estimate the radar's\\nutility function? This paper abstracts the radar's meta-cognition problem in\\nterms of the spectra (eigenvalues) of the state and observation noise\\ncovariance matrices, and embeds the algebraic Riccati equation into an\\neconomics-based utility maximization setup. This adversarial target is an\\ninverse reinforcement learner. By observing a noisy sequence of radar's\\nresponses (waveforms), the adversarial target uses a statistical hypothesis\\ntest to detect if the radar is a utility maximizer. In turn, the meta-cognitive\\nradar deliberately chooses sub-optimal responses that increasing its Type-I\\nerror probability of the adversary's detector. We call this counter-adversarial\\nstep taken by the meta-cognitive radar as inverse inverse reinforcement\\nlearning (I-IRL). We illustrate the meta-cognition results of this paper via\\nsimple numerical examples. Our approach for meta-cognition in this paper is\\nbased on revealed preference theory in micro-economics and inspired by results\\nin differential privacy and adversarial obfuscation in machine learning.\\n\",\n",
       "  '  In reinforcement learning, it is typical to use the empirically observed\\ntransitions and rewards to estimate the value of a policy via either\\nmodel-based or Q-fitting approaches. Although straightforward, these techniques\\nin general yield biased estimates of the true value of the policy. In this\\nwork, we investigate the potential for statistical bootstrapping to be used as\\na way to take these biased estimates and produce calibrated confidence\\nintervals for the true value of the policy. We identify conditions -\\nspecifically, sufficient data size and sufficient coverage - under which\\nstatistical bootstrapping in this setting is guaranteed to yield correct\\nconfidence intervals. In practical situations, these conditions often do not\\nhold, and so we discuss and propose mechanisms that can be employed to mitigate\\ntheir effects. We evaluate our proposed method and show that it can yield\\naccurate confidence intervals in a variety of conditions, including challenging\\ncontinuous control environments and small data regimes.\\n',\n",
       "  \"  Creating realistic styled spaces is a complex task, which involves design\\nknow-how for what furniture pieces go well together. Interior style follows\\nabstract rules involving color, geometry and other visual elements. Following\\nsuch rules, users manually select similar-style items from large repositories\\nof 3D furniture models, a process which is both laborious and time-consuming.\\nWe propose a method for fast-tracking style-similarity tasks, by learning a\\nfurniture's style-compatibility from interior scene images. Such images contain\\nmore style information than images depicting single furniture. To understand\\nstyle, we train a deep learning network on a classification task. Based on\\nimage embeddings extracted from our network, we measure stylistic compatibility\\nof furniture. We demonstrate our method with several 3D model\\nstyle-compatibility results, and with an interactive system for modeling\\nstyle-consistent scenes.\\n\"]}"
      ]
     },
     "execution_count": 19,
     "metadata": {},
     "output_type": "execute_result"
    }
   ],
   "source": [
    "processed_data_train[0]"
   ]
  },
  {
   "cell_type": "code",
   "execution_count": 20,
   "id": "6188e153",
   "metadata": {
    "execution": {
     "iopub.execute_input": "2025-02-03T14:09:02.523359Z",
     "iopub.status.busy": "2025-02-03T14:09:02.522907Z",
     "iopub.status.idle": "2025-02-03T14:09:10.814020Z",
     "shell.execute_reply": "2025-02-03T14:09:10.813491Z"
    },
    "papermill": {
     "duration": 8.298754,
     "end_time": "2025-02-03T14:09:10.815010",
     "exception": false,
     "start_time": "2025-02-03T14:09:02.516256",
     "status": "completed"
    },
    "tags": []
   },
   "outputs": [],
   "source": [
    "contrastive_pairs_train = []\n",
    "for item in processed_data_train:\n",
    "    query = item[\"query\"]\n",
    "    positive = item[\"positive\"]\n",
    "    negatives = item[\"negatives\"]\n",
    "    contrastive_pairs_train.append({\n",
    "        \"anchor\": query,\n",
    "        \"positive\": positive,\n",
    "        \"negatives\": negatives\n",
    "    })"
   ]
  },
  {
   "cell_type": "code",
   "execution_count": 21,
   "id": "669c6a2e",
   "metadata": {
    "execution": {
     "iopub.execute_input": "2025-02-03T14:09:10.832755Z",
     "iopub.status.busy": "2025-02-03T14:09:10.832474Z",
     "iopub.status.idle": "2025-02-03T14:09:10.835911Z",
     "shell.execute_reply": "2025-02-03T14:09:10.835475Z"
    },
    "papermill": {
     "duration": 0.011046,
     "end_time": "2025-02-03T14:09:10.836717",
     "exception": false,
     "start_time": "2025-02-03T14:09:10.825671",
     "status": "completed"
    },
    "tags": []
   },
   "outputs": [
    {
     "data": {
      "text/plain": [
       "94073"
      ]
     },
     "execution_count": 21,
     "metadata": {},
     "output_type": "execute_result"
    }
   ],
   "source": [
    "len(contrastive_pairs_train)"
   ]
  },
  {
   "cell_type": "code",
   "execution_count": 22,
   "id": "670559eb",
   "metadata": {
    "execution": {
     "iopub.execute_input": "2025-02-03T14:09:10.850238Z",
     "iopub.status.busy": "2025-02-03T14:09:10.849718Z",
     "iopub.status.idle": "2025-02-03T14:09:21.367408Z",
     "shell.execute_reply": "2025-02-03T14:09:21.366739Z"
    },
    "papermill": {
     "duration": 10.525611,
     "end_time": "2025-02-03T14:09:21.368689",
     "exception": false,
     "start_time": "2025-02-03T14:09:10.843078",
     "status": "completed"
    },
    "tags": []
   },
   "outputs": [],
   "source": [
    "from torch.utils.data import DataLoader"
   ]
  },
  {
   "cell_type": "code",
   "execution_count": 23,
   "id": "927b2173",
   "metadata": {
    "execution": {
     "iopub.execute_input": "2025-02-03T14:09:21.386214Z",
     "iopub.status.busy": "2025-02-03T14:09:21.385897Z",
     "iopub.status.idle": "2025-02-03T14:09:21.389274Z",
     "shell.execute_reply": "2025-02-03T14:09:21.388879Z"
    },
    "papermill": {
     "duration": 0.011164,
     "end_time": "2025-02-03T14:09:21.390175",
     "exception": false,
     "start_time": "2025-02-03T14:09:21.379011",
     "status": "completed"
    },
    "tags": []
   },
   "outputs": [],
   "source": [
    "class ContrastiveDataset:\n",
    "    def __init__(self, pairs):\n",
    "        self.pairs = pairs\n",
    "\n",
    "    def __len__(self):\n",
    "        return len(self.pairs)\n",
    "\n",
    "    def __getitem__(self, idx):\n",
    "        item = self.pairs[idx]\n",
    "        return item[\"anchor\"], item[\"positive\"], item[\"negatives\"]"
   ]
  },
  {
   "cell_type": "code",
   "execution_count": 24,
   "id": "6918b6f3",
   "metadata": {
    "execution": {
     "iopub.execute_input": "2025-02-03T14:09:21.404435Z",
     "iopub.status.busy": "2025-02-03T14:09:21.404043Z",
     "iopub.status.idle": "2025-02-03T14:09:21.406414Z",
     "shell.execute_reply": "2025-02-03T14:09:21.406028Z"
    },
    "papermill": {
     "duration": 0.009888,
     "end_time": "2025-02-03T14:09:21.407074",
     "exception": false,
     "start_time": "2025-02-03T14:09:21.397186",
     "status": "completed"
    },
    "tags": []
   },
   "outputs": [],
   "source": [
    "contrastive_dataset_train = ContrastiveDataset(contrastive_pairs_train)"
   ]
  },
  {
   "cell_type": "code",
   "execution_count": 25,
   "id": "362b05af",
   "metadata": {
    "execution": {
     "iopub.execute_input": "2025-02-03T14:09:21.467298Z",
     "iopub.status.busy": "2025-02-03T14:09:21.466759Z",
     "iopub.status.idle": "2025-02-03T14:09:21.470124Z",
     "shell.execute_reply": "2025-02-03T14:09:21.469601Z"
    },
    "papermill": {
     "duration": 0.057361,
     "end_time": "2025-02-03T14:09:21.470760",
     "exception": false,
     "start_time": "2025-02-03T14:09:21.413399",
     "status": "completed"
    },
    "tags": []
   },
   "outputs": [],
   "source": [
    "data_loader_train = DataLoader(contrastive_dataset_train, batch_size=8, shuffle=True)"
   ]
  },
  {
   "cell_type": "code",
   "execution_count": 26,
   "id": "9e89b105",
   "metadata": {
    "execution": {
     "iopub.execute_input": "2025-02-03T14:09:21.484233Z",
     "iopub.status.busy": "2025-02-03T14:09:21.483997Z",
     "iopub.status.idle": "2025-02-03T14:09:21.488100Z",
     "shell.execute_reply": "2025-02-03T14:09:21.487719Z"
    },
    "papermill": {
     "duration": 0.01163,
     "end_time": "2025-02-03T14:09:21.488857",
     "exception": false,
     "start_time": "2025-02-03T14:09:21.477227",
     "status": "completed"
    },
    "tags": []
   },
   "outputs": [
    {
     "data": {
      "text/plain": [
       "11760"
      ]
     },
     "execution_count": 26,
     "metadata": {},
     "output_type": "execute_result"
    }
   ],
   "source": [
    "len(data_loader_train)"
   ]
  },
  {
   "cell_type": "code",
   "execution_count": 27,
   "id": "ec267846",
   "metadata": {
    "execution": {
     "iopub.execute_input": "2025-02-03T14:09:21.502552Z",
     "iopub.status.busy": "2025-02-03T14:09:21.502180Z",
     "iopub.status.idle": "2025-02-03T14:09:29.693463Z",
     "shell.execute_reply": "2025-02-03T14:09:29.692783Z"
    },
    "papermill": {
     "duration": 8.199265,
     "end_time": "2025-02-03T14:09:29.694611",
     "exception": false,
     "start_time": "2025-02-03T14:09:21.495346",
     "status": "completed"
    },
    "tags": []
   },
   "outputs": [],
   "source": [
    "from transformers import AutoTokenizer, AutoModel\n",
    "tokenizer = AutoTokenizer.from_pretrained(\"bert-base-uncased\")"
   ]
  },
  {
   "cell_type": "code",
   "execution_count": 28,
   "id": "cdfef80f",
   "metadata": {
    "execution": {
     "iopub.execute_input": "2025-02-03T14:09:29.712247Z",
     "iopub.status.busy": "2025-02-03T14:09:29.711818Z",
     "iopub.status.idle": "2025-02-03T14:09:32.813319Z",
     "shell.execute_reply": "2025-02-03T14:09:32.812815Z"
    },
    "papermill": {
     "duration": 3.109927,
     "end_time": "2025-02-03T14:09:32.814314",
     "exception": false,
     "start_time": "2025-02-03T14:09:29.704387",
     "status": "completed"
    },
    "tags": []
   },
   "outputs": [],
   "source": [
    "model = AutoModel.from_pretrained(\"bert-base-uncased\")"
   ]
  },
  {
   "cell_type": "code",
   "execution_count": 29,
   "id": "9191c4f0",
   "metadata": {
    "execution": {
     "iopub.execute_input": "2025-02-03T14:09:32.830400Z",
     "iopub.status.busy": "2025-02-03T14:09:32.829914Z",
     "iopub.status.idle": "2025-02-03T14:09:33.213356Z",
     "shell.execute_reply": "2025-02-03T14:09:33.212899Z"
    },
    "papermill": {
     "duration": 0.391717,
     "end_time": "2025-02-03T14:09:33.214445",
     "exception": false,
     "start_time": "2025-02-03T14:09:32.822728",
     "status": "completed"
    },
    "tags": []
   },
   "outputs": [],
   "source": [
    "from peft import LoraConfig, get_peft_model"
   ]
  },
  {
   "cell_type": "code",
   "execution_count": 30,
   "id": "c5386cc4",
   "metadata": {
    "execution": {
     "iopub.execute_input": "2025-02-03T14:09:33.230305Z",
     "iopub.status.busy": "2025-02-03T14:09:33.229989Z",
     "iopub.status.idle": "2025-02-03T14:09:33.232666Z",
     "shell.execute_reply": "2025-02-03T14:09:33.232283Z"
    },
    "papermill": {
     "duration": 0.010443,
     "end_time": "2025-02-03T14:09:33.233294",
     "exception": false,
     "start_time": "2025-02-03T14:09:33.222851",
     "status": "completed"
    },
    "tags": []
   },
   "outputs": [],
   "source": [
    "lora_config = LoraConfig(\n",
    "    task_type= \"FEATURE_EXTRACTION\"\n",
    ")"
   ]
  },
  {
   "cell_type": "code",
   "execution_count": 31,
   "id": "1411c521",
   "metadata": {
    "execution": {
     "iopub.execute_input": "2025-02-03T14:09:33.247285Z",
     "iopub.status.busy": "2025-02-03T14:09:33.246781Z",
     "iopub.status.idle": "2025-02-03T14:09:33.271348Z",
     "shell.execute_reply": "2025-02-03T14:09:33.270941Z"
    },
    "papermill": {
     "duration": 0.03212,
     "end_time": "2025-02-03T14:09:33.271998",
     "exception": false,
     "start_time": "2025-02-03T14:09:33.239878",
     "status": "completed"
    },
    "tags": []
   },
   "outputs": [],
   "source": [
    "lora_model = get_peft_model(model, lora_config)"
   ]
  },
  {
   "cell_type": "code",
   "execution_count": 32,
   "id": "5b81fc5d",
   "metadata": {
    "execution": {
     "iopub.execute_input": "2025-02-03T14:09:33.285677Z",
     "iopub.status.busy": "2025-02-03T14:09:33.285205Z",
     "iopub.status.idle": "2025-02-03T14:09:33.288519Z",
     "shell.execute_reply": "2025-02-03T14:09:33.288127Z"
    },
    "papermill": {
     "duration": 0.010608,
     "end_time": "2025-02-03T14:09:33.289095",
     "exception": false,
     "start_time": "2025-02-03T14:09:33.278487",
     "status": "completed"
    },
    "tags": []
   },
   "outputs": [],
   "source": [
    "def lorentzian_distance(x, y):\n",
    "    \n",
    "    dot_product = torch.sum(x * y, dim=-1)\n",
    "    norm_x = torch.norm(x, dim=-1)\n",
    "    norm_y = torch.norm(y, dim=-1)\n",
    "    \n",
    "    distance = torch.acosh(-dot_product + torch.sqrt((1 + norm_x**2) * (1 + norm_y**2)))\n",
    "    return distance"
   ]
  },
  {
   "cell_type": "code",
   "execution_count": 33,
   "id": "36a6dc08",
   "metadata": {
    "execution": {
     "iopub.execute_input": "2025-02-03T14:09:33.303004Z",
     "iopub.status.busy": "2025-02-03T14:09:33.302506Z",
     "iopub.status.idle": "2025-02-03T14:09:33.305609Z",
     "shell.execute_reply": "2025-02-03T14:09:33.305221Z"
    },
    "papermill": {
     "duration": 0.010545,
     "end_time": "2025-02-03T14:09:33.306204",
     "exception": false,
     "start_time": "2025-02-03T14:09:33.295659",
     "status": "completed"
    },
    "tags": []
   },
   "outputs": [],
   "source": [
    "def info_nce_loss(anchor_embedding, positive_embedding, negative_embedding, distance_fn):\n",
    "\n",
    "    pos_dist = distance_fn(anchor_embedding, positive_embedding)\n",
    "    neg_dist = torch.stack([distance_fn(anchor_embedding, neg) for neg in negative_embedding], dim=-1)\n",
    "    \n",
    "    logits = torch.cat([-pos_dist.unsqueeze(1), -neg_dist], dim=1)\n",
    "    labels = torch.zeros(logits.size(0), dtype=torch.long, device=logits.device)\n",
    "\n",
    "    loss = torch.nn.CrossEntropyLoss()(logits, labels)\n",
    "    return loss"
   ]
  },
  {
   "cell_type": "code",
   "execution_count": 34,
   "id": "c419bc47-fe08-462f-abef-a34454cfaa8e",
   "metadata": {
    "execution": {
     "iopub.execute_input": "2025-02-03T14:09:33.321139Z",
     "iopub.status.busy": "2025-02-03T14:09:33.320752Z",
     "iopub.status.idle": "2025-02-03T14:09:33.326136Z",
     "shell.execute_reply": "2025-02-03T14:09:33.325752Z"
    },
    "papermill": {
     "duration": 0.01357,
     "end_time": "2025-02-03T14:09:33.326765",
     "exception": false,
     "start_time": "2025-02-03T14:09:33.313195",
     "status": "completed"
    },
    "tags": []
   },
   "outputs": [],
   "source": [
    "def exterior_angle(x_space, y_space, c):\n",
    "    norm_x_space = torch.norm(x_space, p=2, dim=-1)\n",
    "    norm_y_space = torch.norm(y_space, p=2, dim=-1)\n",
    "    x_time = torch.sqrt(1/c + norm_x_space**2)\n",
    "    y_time = torch.sqrt(1/c + norm_y_space**2)\n",
    "    dot_product = torch.sum(x_space * y_space, dim=-1)\n",
    "    lorentz_inner_product =  dot_product - x_time * y_time\n",
    "    numerator = y_time + x_time * c * lorentz_inner_product\n",
    "    denominator = norm_x_space * torch.sqrt((c * lorentz_inner_product)**2 - 1)\n",
    "    ext_angle = torch.acos(numerator / denominator)\n",
    "    return ext_angle"
   ]
  },
  {
   "cell_type": "code",
   "execution_count": 35,
   "id": "529d3c1b-d03f-4bb1-be1d-36d2dfaa337f",
   "metadata": {
    "execution": {
     "iopub.execute_input": "2025-02-03T14:09:33.340943Z",
     "iopub.status.busy": "2025-02-03T14:09:33.340594Z",
     "iopub.status.idle": "2025-02-03T14:09:33.343750Z",
     "shell.execute_reply": "2025-02-03T14:09:33.343273Z"
    },
    "papermill": {
     "duration": 0.010824,
     "end_time": "2025-02-03T14:09:33.344380",
     "exception": false,
     "start_time": "2025-02-03T14:09:33.333556",
     "status": "completed"
    },
    "tags": []
   },
   "outputs": [],
   "source": [
    "def entailment_loss(x, y, c=1, K=0.1):\n",
    "    c = torch.tensor(c)\n",
    "    K = torch.tensor(K)\n",
    "    xspace = x\n",
    "    yspace = y\n",
    "    aperture = torch.asin(2 * K / (torch.sqrt(c) * torch.norm(xspace, p=2, dim=-1)))\n",
    "    \n",
    "    ext_angle = exterior_angle(xspace,yspace,c=c)\n",
    "    \n",
    "    loss = torch.max(torch.zeros_like(ext_angle), ext_angle - aperture)\n",
    "    return loss.mean()"
   ]
  },
  {
   "cell_type": "code",
   "execution_count": 36,
   "id": "5ee127f6-66dd-414a-b17f-6dc8e5e49dc0",
   "metadata": {
    "execution": {
     "iopub.execute_input": "2025-02-03T14:09:33.358843Z",
     "iopub.status.busy": "2025-02-03T14:09:33.358681Z",
     "iopub.status.idle": "2025-02-03T14:09:33.362134Z",
     "shell.execute_reply": "2025-02-03T14:09:33.361744Z"
    },
    "papermill": {
     "duration": 0.011131,
     "end_time": "2025-02-03T14:09:33.362711",
     "exception": false,
     "start_time": "2025-02-03T14:09:33.351580",
     "status": "completed"
    },
    "tags": []
   },
   "outputs": [],
   "source": [
    "def expm_o(v, c=1.0):\n",
    "    c = torch.tensor(c)\n",
    "    vspace = v\n",
    "    vnorm = torch.norm(v, p=2, dim=-1, keepdim=True)\n",
    "    xspace = torch.sinh(torch.sqrt(c) * vnorm) * vspace / (torch.sqrt(c) * vnorm)\n",
    "    batch_min = xspace.min(dim=1, keepdim=True).values\n",
    "    batch_max = xspace.max(dim=1, keepdim=True).values\n",
    "    xspace_scaled=(xspace - batch_min) / (batch_max - batch_min)\n",
    "    return xspace_scaled"
   ]
  },
  {
   "cell_type": "code",
   "execution_count": 37,
   "id": "185ff980",
   "metadata": {
    "execution": {
     "iopub.execute_input": "2025-02-03T14:09:33.376321Z",
     "iopub.status.busy": "2025-02-03T14:09:33.376161Z",
     "iopub.status.idle": "2025-02-03T14:09:33.379809Z",
     "shell.execute_reply": "2025-02-03T14:09:33.379355Z"
    },
    "papermill": {
     "duration": 0.011167,
     "end_time": "2025-02-03T14:09:33.380420",
     "exception": false,
     "start_time": "2025-02-03T14:09:33.369253",
     "status": "completed"
    },
    "tags": []
   },
   "outputs": [],
   "source": [
    "import torch\n",
    "import torch.optim as optim\n",
    "optimizer = torch.optim.AdamW(lora_model.parameters(), lr=5e-5)"
   ]
  },
  {
   "cell_type": "code",
   "execution_count": 38,
   "id": "d997d7dc",
   "metadata": {
    "execution": {
     "iopub.execute_input": "2025-02-03T14:09:33.394376Z",
     "iopub.status.busy": "2025-02-03T14:09:33.394224Z",
     "iopub.status.idle": "2025-02-03T14:09:33.396401Z",
     "shell.execute_reply": "2025-02-03T14:09:33.396024Z"
    },
    "papermill": {
     "duration": 0.010014,
     "end_time": "2025-02-03T14:09:33.397087",
     "exception": false,
     "start_time": "2025-02-03T14:09:33.387073",
     "status": "completed"
    },
    "tags": []
   },
   "outputs": [],
   "source": [
    "num_epochs=3"
   ]
  },
  {
   "cell_type": "code",
   "execution_count": 39,
   "id": "93312d1a",
   "metadata": {
    "execution": {
     "iopub.execute_input": "2025-02-03T14:09:33.411874Z",
     "iopub.status.busy": "2025-02-03T14:09:33.411437Z",
     "iopub.status.idle": "2025-02-03T14:09:34.024546Z",
     "shell.execute_reply": "2025-02-03T14:09:34.023948Z"
    },
    "papermill": {
     "duration": 0.621072,
     "end_time": "2025-02-03T14:09:34.025516",
     "exception": false,
     "start_time": "2025-02-03T14:09:33.404444",
     "status": "completed"
    },
    "tags": []
   },
   "outputs": [],
   "source": [
    "device = torch.device('cuda' if torch.cuda.is_available() else 'cpu')"
   ]
  },
  {
   "cell_type": "code",
   "execution_count": 40,
   "id": "be00cde7",
   "metadata": {
    "execution": {
     "iopub.execute_input": "2025-02-03T14:09:34.044127Z",
     "iopub.status.busy": "2025-02-03T14:09:34.043632Z",
     "iopub.status.idle": "2025-02-03T14:09:34.047381Z",
     "shell.execute_reply": "2025-02-03T14:09:34.047004Z"
    },
    "papermill": {
     "duration": 0.011628,
     "end_time": "2025-02-03T14:09:34.048030",
     "exception": false,
     "start_time": "2025-02-03T14:09:34.036402",
     "status": "completed"
    },
    "tags": []
   },
   "outputs": [
    {
     "data": {
      "text/plain": [
       "device(type='cuda')"
      ]
     },
     "execution_count": 40,
     "metadata": {},
     "output_type": "execute_result"
    }
   ],
   "source": [
    "device"
   ]
  },
  {
   "cell_type": "code",
   "execution_count": 41,
   "id": "a5333e18",
   "metadata": {
    "execution": {
     "iopub.execute_input": "2025-02-03T14:09:34.064818Z",
     "iopub.status.busy": "2025-02-03T14:09:34.064637Z",
     "iopub.status.idle": "2025-02-03T14:09:34.068743Z",
     "shell.execute_reply": "2025-02-03T14:09:34.068387Z"
    },
    "papermill": {
     "duration": 0.013208,
     "end_time": "2025-02-03T14:09:34.069482",
     "exception": false,
     "start_time": "2025-02-03T14:09:34.056274",
     "status": "completed"
    },
    "tags": []
   },
   "outputs": [
    {
     "data": {
      "text/plain": [
       "True"
      ]
     },
     "execution_count": 41,
     "metadata": {},
     "output_type": "execute_result"
    }
   ],
   "source": [
    "torch.cuda.is_available()"
   ]
  },
  {
   "cell_type": "code",
   "execution_count": 42,
   "id": "1d718a7f",
   "metadata": {
    "execution": {
     "iopub.execute_input": "2025-02-03T14:09:34.084032Z",
     "iopub.status.busy": "2025-02-03T14:09:34.083574Z",
     "iopub.status.idle": "2025-02-03T14:09:35.672286Z",
     "shell.execute_reply": "2025-02-03T14:09:35.671462Z"
    },
    "papermill": {
     "duration": 1.597364,
     "end_time": "2025-02-03T14:09:35.673659",
     "exception": false,
     "start_time": "2025-02-03T14:09:34.076295",
     "status": "completed"
    },
    "tags": []
   },
   "outputs": [],
   "source": [
    "lora_model = lora_model.to(device)"
   ]
  },
  {
   "cell_type": "code",
   "execution_count": 43,
   "id": "8d0b1bf1",
   "metadata": {
    "execution": {
     "iopub.execute_input": "2025-02-03T14:09:35.689212Z",
     "iopub.status.busy": "2025-02-03T14:09:35.688701Z",
     "iopub.status.idle": "2025-02-03T14:09:35.692000Z",
     "shell.execute_reply": "2025-02-03T14:09:35.691597Z"
    },
    "papermill": {
     "duration": 0.011527,
     "end_time": "2025-02-03T14:09:35.692835",
     "exception": false,
     "start_time": "2025-02-03T14:09:35.681308",
     "status": "completed"
    },
    "tags": []
   },
   "outputs": [],
   "source": [
    "dataset_val = split_datasets[\"test\"]"
   ]
  },
  {
   "cell_type": "code",
   "execution_count": 44,
   "id": "1ca99f37",
   "metadata": {
    "execution": {
     "iopub.execute_input": "2025-02-03T14:09:35.707231Z",
     "iopub.status.busy": "2025-02-03T14:09:35.707016Z",
     "iopub.status.idle": "2025-02-03T14:09:35.710543Z",
     "shell.execute_reply": "2025-02-03T14:09:35.710156Z"
    },
    "papermill": {
     "duration": 0.011473,
     "end_time": "2025-02-03T14:09:35.711236",
     "exception": false,
     "start_time": "2025-02-03T14:09:35.699763",
     "status": "completed"
    },
    "tags": []
   },
   "outputs": [
    {
     "data": {
      "text/plain": [
       "Dataset({\n",
       "    features: ['Unnamed: 0.1', 'Unnamed: 0', 'title', 'abstract'],\n",
       "    num_rows: 23519\n",
       "})"
      ]
     },
     "execution_count": 44,
     "metadata": {},
     "output_type": "execute_result"
    }
   ],
   "source": [
    "dataset_val"
   ]
  },
  {
   "cell_type": "code",
   "execution_count": 45,
   "id": "a314d3d6",
   "metadata": {
    "execution": {
     "iopub.execute_input": "2025-02-03T14:09:35.726861Z",
     "iopub.status.busy": "2025-02-03T14:09:35.726382Z",
     "iopub.status.idle": "2025-02-03T14:09:35.731821Z",
     "shell.execute_reply": "2025-02-03T14:09:35.730653Z"
    },
    "papermill": {
     "duration": 0.013748,
     "end_time": "2025-02-03T14:09:35.732774",
     "exception": false,
     "start_time": "2025-02-03T14:09:35.719026",
     "status": "completed"
    },
    "tags": []
   },
   "outputs": [],
   "source": [
    "dataset_val = dataset_val.remove_columns(['Unnamed: 0','Unnamed: 0.1'])"
   ]
  },
  {
   "cell_type": "code",
   "execution_count": 46,
   "id": "a58b2f1a",
   "metadata": {
    "execution": {
     "iopub.execute_input": "2025-02-03T14:09:35.748131Z",
     "iopub.status.busy": "2025-02-03T14:09:35.747479Z",
     "iopub.status.idle": "2025-02-03T14:09:37.678987Z",
     "shell.execute_reply": "2025-02-03T14:09:37.678364Z"
    },
    "papermill": {
     "duration": 1.939942,
     "end_time": "2025-02-03T14:09:37.679694",
     "exception": false,
     "start_time": "2025-02-03T14:09:35.739752",
     "status": "completed"
    },
    "tags": []
   },
   "outputs": [
    {
     "data": {
      "application/vnd.jupyter.widget-view+json": {
       "model_id": "c3652e17fd934587823b25c5275743ef",
       "version_major": 2,
       "version_minor": 0
      },
      "text/plain": [
       "Map:   0%|          | 0/23519 [00:00<?, ? examples/s]"
      ]
     },
     "metadata": {},
     "output_type": "display_data"
    }
   ],
   "source": [
    "dataset_val = dataset_val.map(lambda x, idx: { 'index': idx }, with_indices=True)"
   ]
  },
  {
   "cell_type": "code",
   "execution_count": 47,
   "id": "454fc03a",
   "metadata": {
    "execution": {
     "iopub.execute_input": "2025-02-03T14:09:37.698281Z",
     "iopub.status.busy": "2025-02-03T14:09:37.697771Z",
     "iopub.status.idle": "2025-02-03T14:09:37.702090Z",
     "shell.execute_reply": "2025-02-03T14:09:37.701709Z"
    },
    "papermill": {
     "duration": 0.013143,
     "end_time": "2025-02-03T14:09:37.702756",
     "exception": false,
     "start_time": "2025-02-03T14:09:37.689613",
     "status": "completed"
    },
    "tags": []
   },
   "outputs": [
    {
     "data": {
      "text/plain": [
       "Dataset({\n",
       "    features: ['title', 'abstract', 'index'],\n",
       "    num_rows: 23519\n",
       "})"
      ]
     },
     "execution_count": 47,
     "metadata": {},
     "output_type": "execute_result"
    }
   ],
   "source": [
    "dataset_val"
   ]
  },
  {
   "cell_type": "code",
   "execution_count": 48,
   "id": "59611a3b",
   "metadata": {
    "execution": {
     "iopub.execute_input": "2025-02-03T14:09:37.718564Z",
     "iopub.status.busy": "2025-02-03T14:09:37.718171Z",
     "iopub.status.idle": "2025-02-03T14:09:37.732297Z",
     "shell.execute_reply": "2025-02-03T14:09:37.731900Z"
    },
    "papermill": {
     "duration": 0.022247,
     "end_time": "2025-02-03T14:09:37.732863",
     "exception": false,
     "start_time": "2025-02-03T14:09:37.710616",
     "status": "completed"
    },
    "tags": []
   },
   "outputs": [],
   "source": [
    "all_indexes_val = np.array(dataset_val['index'])"
   ]
  },
  {
   "cell_type": "code",
   "execution_count": 49,
   "id": "f51a8e7e",
   "metadata": {
    "execution": {
     "iopub.execute_input": "2025-02-03T14:09:37.747976Z",
     "iopub.status.busy": "2025-02-03T14:09:37.747825Z",
     "iopub.status.idle": "2025-02-03T14:09:37.751442Z",
     "shell.execute_reply": "2025-02-03T14:09:37.750995Z"
    },
    "papermill": {
     "duration": 0.012103,
     "end_time": "2025-02-03T14:09:37.752128",
     "exception": false,
     "start_time": "2025-02-03T14:09:37.740025",
     "status": "completed"
    },
    "tags": []
   },
   "outputs": [],
   "source": [
    "def generate_hard_negatives_val(example, num_negatives=10,dataset=dataset_val):\n",
    "    query_index = example['index']  \n",
    "    anchor = example['title']\n",
    "    positive = example['abstract']\n",
    "    \n",
    "    negatives = []\n",
    "    \n",
    "    negative_indexes = np.delete(all_indexes_val, np.where(all_indexes_val == query_index))\n",
    "    \n",
    "    sampled_negatives = random.sample(list(negative_indexes), num_negatives)\n",
    "    \n",
    "    for idx in sampled_negatives:\n",
    "        negatives.append(dataset[int(idx)]['abstract'])\n",
    "    \n",
    "    return {\n",
    "        \"query\": anchor,\n",
    "        \"positive\": positive,\n",
    "        \"negatives\": negatives\n",
    "    }"
   ]
  },
  {
   "cell_type": "code",
   "execution_count": 50,
   "id": "956100e1",
   "metadata": {
    "execution": {
     "iopub.execute_input": "2025-02-03T14:09:37.767596Z",
     "iopub.status.busy": "2025-02-03T14:09:37.767156Z",
     "iopub.status.idle": "2025-02-03T14:10:12.713879Z",
     "shell.execute_reply": "2025-02-03T14:10:12.713265Z"
    },
    "papermill": {
     "duration": 34.955144,
     "end_time": "2025-02-03T14:10:12.714586",
     "exception": false,
     "start_time": "2025-02-03T14:09:37.759442",
     "status": "completed"
    },
    "tags": []
   },
   "outputs": [
    {
     "data": {
      "application/vnd.jupyter.widget-view+json": {
       "model_id": "39ce3fe573714028aeee5ca2cc5ebca0",
       "version_major": 2,
       "version_minor": 0
      },
      "text/plain": [
       "Map:   0%|          | 0/23519 [00:00<?, ? examples/s]"
      ]
     },
     "metadata": {},
     "output_type": "display_data"
    }
   ],
   "source": [
    "processed_data_val = dataset_val.map(generate_hard_negatives_val, remove_columns=dataset_val.column_names)"
   ]
  },
  {
   "cell_type": "code",
   "execution_count": 51,
   "id": "70ecac28",
   "metadata": {
    "execution": {
     "iopub.execute_input": "2025-02-03T14:10:12.734785Z",
     "iopub.status.busy": "2025-02-03T14:10:12.734554Z",
     "iopub.status.idle": "2025-02-03T14:10:14.610215Z",
     "shell.execute_reply": "2025-02-03T14:10:14.609688Z"
    },
    "papermill": {
     "duration": 1.884988,
     "end_time": "2025-02-03T14:10:14.611491",
     "exception": false,
     "start_time": "2025-02-03T14:10:12.726503",
     "status": "completed"
    },
    "tags": []
   },
   "outputs": [],
   "source": [
    "contrastive_pairs_val = []\n",
    "for item in processed_data_val:\n",
    "    query = item[\"query\"]\n",
    "    positive = item[\"positive\"]\n",
    "    negatives = item[\"negatives\"]\n",
    "    contrastive_pairs_val.append({\n",
    "        \"anchor\": query,\n",
    "        \"positive\": positive,\n",
    "        \"negatives\": negatives\n",
    "    })"
   ]
  },
  {
   "cell_type": "code",
   "execution_count": 52,
   "id": "ce529ab6",
   "metadata": {
    "execution": {
     "iopub.execute_input": "2025-02-03T14:10:14.630258Z",
     "iopub.status.busy": "2025-02-03T14:10:14.629509Z",
     "iopub.status.idle": "2025-02-03T14:10:14.632753Z",
     "shell.execute_reply": "2025-02-03T14:10:14.632253Z"
    },
    "papermill": {
     "duration": 0.012405,
     "end_time": "2025-02-03T14:10:14.633680",
     "exception": false,
     "start_time": "2025-02-03T14:10:14.621275",
     "status": "completed"
    },
    "tags": []
   },
   "outputs": [],
   "source": [
    "contrastive_dataset_val = ContrastiveDataset(contrastive_pairs_val)"
   ]
  },
  {
   "cell_type": "code",
   "execution_count": 53,
   "id": "5ac55437",
   "metadata": {
    "execution": {
     "iopub.execute_input": "2025-02-03T14:10:14.659250Z",
     "iopub.status.busy": "2025-02-03T14:10:14.658919Z",
     "iopub.status.idle": "2025-02-03T14:10:14.662494Z",
     "shell.execute_reply": "2025-02-03T14:10:14.662033Z"
    },
    "papermill": {
     "duration": 0.014272,
     "end_time": "2025-02-03T14:10:14.663182",
     "exception": false,
     "start_time": "2025-02-03T14:10:14.648910",
     "status": "completed"
    },
    "tags": []
   },
   "outputs": [],
   "source": [
    "data_loader_val = DataLoader(contrastive_dataset_val, batch_size=8, shuffle=True)"
   ]
  },
  {
   "cell_type": "code",
   "execution_count": 54,
   "id": "b73033c1",
   "metadata": {
    "execution": {
     "iopub.execute_input": "2025-02-03T14:10:14.678361Z",
     "iopub.status.busy": "2025-02-03T14:10:14.678216Z",
     "iopub.status.idle": "2025-02-03T14:10:14.681528Z",
     "shell.execute_reply": "2025-02-03T14:10:14.681189Z"
    },
    "papermill": {
     "duration": 0.011699,
     "end_time": "2025-02-03T14:10:14.682148",
     "exception": false,
     "start_time": "2025-02-03T14:10:14.670449",
     "status": "completed"
    },
    "tags": []
   },
   "outputs": [
    {
     "data": {
      "text/plain": [
       "2940"
      ]
     },
     "execution_count": 54,
     "metadata": {},
     "output_type": "execute_result"
    }
   ],
   "source": [
    "len(data_loader_val)"
   ]
  },
  {
   "cell_type": "code",
   "execution_count": 55,
   "id": "76c29dae",
   "metadata": {
    "execution": {
     "iopub.execute_input": "2025-02-03T14:10:14.697788Z",
     "iopub.status.busy": "2025-02-03T14:10:14.697490Z",
     "iopub.status.idle": "2025-02-03T14:10:14.703311Z",
     "shell.execute_reply": "2025-02-03T14:10:14.702699Z"
    },
    "papermill": {
     "duration": 0.014377,
     "end_time": "2025-02-03T14:10:14.704016",
     "exception": false,
     "start_time": "2025-02-03T14:10:14.689639",
     "status": "completed"
    },
    "tags": []
   },
   "outputs": [],
   "source": [
    "def evaluate_mrr(model1, data_loader_val, distance_fn):\n",
    "    model1.eval()\n",
    "    \n",
    "    total_rr = 0.0\n",
    "    num_queries = 0\n",
    "\n",
    "    with torch.no_grad():\n",
    "        for batch in data_loader_val:\n",
    "            anchor_text = batch[0]\n",
    "            positive_text = batch[1]\n",
    "            negative_texts = batch[2]\n",
    "\n",
    "            anchor_input = tokenizer(anchor_text, return_tensors='pt', padding=True, truncation=True, max_length=512).to(device)\n",
    "            positive_input = tokenizer(positive_text, return_tensors='pt', padding=True, truncation=True, max_length=512).to(device)\n",
    "\n",
    "            anchor_embedding = expm_o(model1(**anchor_input).last_hidden_state[:, 0, :])\n",
    "            positive_embedding = expm_o(model1(**positive_input).last_hidden_state[:, 0, :])\n",
    "            negative_embedding = [expm_o(model1(**tokenizer(neg, return_tensors='pt', padding=True, truncation=True, max_length=512).to(device)).last_hidden_state[:, 0, :]) for neg in negative_texts]\n",
    "\n",
    "            pos_dist = distance_fn(anchor_embedding, positive_embedding)\n",
    "            neg_dist = torch.stack([distance_fn(anchor_embedding, neg) for neg in negative_embedding], dim=-1)\n",
    "            all_similarities=torch.cat([-pos_dist.unsqueeze(1), -neg_dist], dim=1)\n",
    "\n",
    "            sorted_similarities, sorted_indices = torch.sort(all_similarities, dim=1, descending=True)\n",
    "\n",
    "            # Find the rank of the first relevant (positive) document\n",
    "            positive_rank = (sorted_indices == 0).nonzero(as_tuple=True)[1] + 1  # +1 to make rank 1-based\n",
    "            total_rr += torch.sum(1.0 / positive_rank.float()).item()  # Reciprocal rank\n",
    "            num_queries += len(positive_rank)\n",
    "            \n",
    "    mrr = total_rr / num_queries\n",
    "    return mrr"
   ]
  },
  {
   "cell_type": "code",
   "execution_count": 56,
   "id": "84893f41",
   "metadata": {
    "execution": {
     "iopub.execute_input": "2025-02-03T14:10:14.719617Z",
     "iopub.status.busy": "2025-02-03T14:10:14.719215Z",
     "iopub.status.idle": "2025-02-03T14:10:14.721822Z",
     "shell.execute_reply": "2025-02-03T14:10:14.721409Z"
    },
    "papermill": {
     "duration": 0.011147,
     "end_time": "2025-02-03T14:10:14.722527",
     "exception": false,
     "start_time": "2025-02-03T14:10:14.711380",
     "status": "completed"
    },
    "tags": []
   },
   "outputs": [],
   "source": [
    "import os\n",
    "save_dir =\"/dss/dsshome1/07/ra65bex2/srawat/0.1hyperbolic\""
   ]
  },
  {
   "cell_type": "code",
   "execution_count": 57,
   "id": "1e46bee6",
   "metadata": {
    "execution": {
     "iopub.execute_input": "2025-02-03T14:10:14.739452Z",
     "iopub.status.busy": "2025-02-03T14:10:14.739061Z",
     "iopub.status.idle": "2025-02-03T14:10:14.741541Z",
     "shell.execute_reply": "2025-02-03T14:10:14.741116Z"
    },
    "papermill": {
     "duration": 0.011145,
     "end_time": "2025-02-03T14:10:14.742443",
     "exception": false,
     "start_time": "2025-02-03T14:10:14.731298",
     "status": "completed"
    },
    "tags": []
   },
   "outputs": [],
   "source": [
    "import time\n",
    "epoch_metrics = []"
   ]
  },
  {
   "cell_type": "code",
   "execution_count": 58,
   "id": "23f95333",
   "metadata": {
    "execution": {
     "iopub.execute_input": "2025-02-03T14:10:14.757976Z",
     "iopub.status.busy": "2025-02-03T14:10:14.757639Z",
     "iopub.status.idle": "2025-02-03T14:10:14.760192Z",
     "shell.execute_reply": "2025-02-03T14:10:14.759811Z"
    },
    "papermill": {
     "duration": 0.011006,
     "end_time": "2025-02-03T14:10:14.760886",
     "exception": false,
     "start_time": "2025-02-03T14:10:14.749880",
     "status": "completed"
    },
    "tags": []
   },
   "outputs": [],
   "source": [
    "torch.cuda.empty_cache()"
   ]
  },
  {
   "cell_type": "code",
   "execution_count": 59,
   "id": "32a21d84",
   "metadata": {
    "execution": {
     "iopub.execute_input": "2025-02-03T14:10:14.776621Z",
     "iopub.status.busy": "2025-02-03T14:10:14.776173Z",
     "iopub.status.idle": "2025-02-03T23:16:38.679325Z",
     "shell.execute_reply": "2025-02-03T23:16:38.678142Z"
    },
    "papermill": {
     "duration": 32783.921834,
     "end_time": "2025-02-03T23:16:38.690194",
     "exception": false,
     "start_time": "2025-02-03T14:10:14.768360",
     "status": "completed"
    },
    "tags": []
   },
   "outputs": [
    {
     "name": "stdout",
     "output_type": "stream",
     "text": [
      "EPOCH 1:\n",
      "Checkpoint saved: /dss/dsshome1/07/ra65bex2/srawat/0.1hyperbolic\n",
      "Epoch 1/3, Loss: 1.9056349739533702\n",
      "Epoch 1/3, Contrastive Loss: 1.6617035207902493\n",
      "Epoch 1/3, Entailment Loss: 2.4393145283468725\n"
     ]
    },
    {
     "name": "stdout",
     "output_type": "stream",
     "text": [
      "Mean Reciprocal Rank (MRR) for validation set: 0.8596\n",
      "Epoch 1 took 182.0839 minutes.\n",
      "\n",
      "\n"
     ]
    },
    {
     "name": "stdout",
     "output_type": "stream",
     "text": [
      "EPOCH 2:\n",
      "Checkpoint saved: /dss/dsshome1/07/ra65bex2/srawat/0.1hyperbolic\n",
      "Epoch 2/3, Loss: 1.7293787007125057\n",
      "Epoch 2/3, Contrastive Loss: 1.4861926289642748\n",
      "Epoch 2/3, Entailment Loss: 2.431860704851799\n"
     ]
    },
    {
     "name": "stdout",
     "output_type": "stream",
     "text": [
      "Mean Reciprocal Rank (MRR) for validation set: 0.8586\n",
      "Epoch 2 took 182.1768 minutes.\n",
      "\n",
      "\n"
     ]
    },
    {
     "name": "stdout",
     "output_type": "stream",
     "text": [
      "EPOCH 3:\n",
      "Checkpoint saved: /dss/dsshome1/07/ra65bex2/srawat/0.1hyperbolic\n",
      "Epoch 3/3, Loss: 1.6562364466843151\n",
      "Epoch 3/3, Contrastive Loss: 1.4129869651784297\n",
      "Epoch 3/3, Entailment Loss: 2.4324948015667145\n"
     ]
    },
    {
     "name": "stdout",
     "output_type": "stream",
     "text": [
      "Mean Reciprocal Rank (MRR) for validation set: 0.8582\n",
      "Epoch 3 took 182.1374 minutes.\n",
      "\n",
      "\n"
     ]
    }
   ],
   "source": [
    "for epoch in range(num_epochs):\n",
    "    start_time = time.time()\n",
    "    lora_model.train()\n",
    "\n",
    "    total_loss = 0.0\n",
    "    entailment_loss_total=0.0\n",
    "    contrastive_loss_total=0.0\n",
    "    for batch in data_loader_train:\n",
    "\n",
    "        anchor_texts = batch[0]\n",
    "        positive_texts = batch[1]\n",
    "        negative_texts = batch[2]\n",
    "\n",
    "        anchor_inputs = tokenizer(anchor_texts, return_tensors='pt', padding=True, truncation=True, max_length=512).to(device)\n",
    "        positive_inputs = tokenizer(positive_texts, return_tensors='pt', padding=True, truncation=True, max_length=512).to(device)\n",
    "    \n",
    "        anchor_embedding = expm_o(lora_model(**anchor_inputs).last_hidden_state[:, 0, :])\n",
    "        positive_embedding = expm_o(lora_model(**positive_inputs).last_hidden_state[:, 0, :])\n",
    "        negative_embedding = [expm_o(lora_model(**tokenizer(neg, return_tensors='pt', padding=True, truncation=True, max_length=512).to(device)).last_hidden_state[:, 0, :]) for neg in negative_texts]\n",
    "\n",
    "        contrastive_loss_value = info_nce_loss(anchor_embedding, positive_embedding, negative_embedding, distance_fn=lorentzian_distance)\n",
    "        \n",
    "        entailment_loss_value = entailment_loss(anchor_embedding, positive_embedding)\n",
    "        \n",
    "        loss = contrastive_loss_value + 0.1*entailment_loss_value\n",
    "  \n",
    "        optimizer.zero_grad()\n",
    "        loss.backward()\n",
    "        optimizer.step()\n",
    "        \n",
    "        total_loss += loss.item()\n",
    "        entailment_loss_total+=entailment_loss_value.item()\n",
    "        contrastive_loss_total+=contrastive_loss_value.item()\n",
    "    save_path1 = os.path.join(save_dir, f\"hyperbolic_lora_checkpoint_epoch_{epoch+1}.pth\")\n",
    "    torch.save(lora_model, save_path1)\n",
    "    print(f\"EPOCH {epoch+1}:\")\n",
    "    print(f\"Checkpoint saved: {save_dir}\")\n",
    "    print(f\"Epoch {epoch+1}/{num_epochs}, Loss: {total_loss / len(data_loader_train)}\")\n",
    "    print(f\"Epoch {epoch+1}/{num_epochs}, Contrastive Loss: {contrastive_loss_total / len(data_loader_train)}\")\n",
    "    print(f\"Epoch {epoch+1}/{num_epochs}, Entailment Loss: {entailment_loss_total / len(data_loader_train)}\")\n",
    "    mrr_validation = evaluate_mrr(model1=lora_model, data_loader_val=data_loader_val,distance_fn=lorentzian_distance)\n",
    "    #mrr_train = evaluate_mrr(lora_model, data_loader_train, lorentzian_distance)\n",
    "    #print(f\"Mean Reciprocal Rank (MRR) for training set: {mrr_train:.4f}\")\n",
    "    print(f\"Mean Reciprocal Rank (MRR) for validation set: {mrr_validation:.4f}\")\n",
    "    end_time = time.time()\n",
    "    print(f\"Epoch {epoch+1} took {(end_time - start_time) / 60:.4f} minutes.\")\n",
    "    print(f\"\\n\")\n",
    "    epoch_metrics.append({\n",
    "        'epoch': epoch + 1,\n",
    "        'training_loss': total_loss / len(data_loader_train),\n",
    "        'Contrastive_loss': contrastive_loss_total / len(data_loader_train),\n",
    "        'Entailment_loss': entailment_loss_total / len(data_loader_train),\n",
    "        'mrr_validation': mrr_validation,\n",
    "        'time_taken_minutes': (end_time - start_time) / 60\n",
    "    })"
   ]
  },
  {
   "cell_type": "code",
   "execution_count": 60,
   "id": "b2c27c8a",
   "metadata": {
    "execution": {
     "iopub.execute_input": "2025-02-03T23:16:38.710402Z",
     "iopub.status.busy": "2025-02-03T23:16:38.710053Z",
     "iopub.status.idle": "2025-02-03T23:16:38.713680Z",
     "shell.execute_reply": "2025-02-03T23:16:38.713271Z"
    },
    "papermill": {
     "duration": 0.013192,
     "end_time": "2025-02-03T23:16:38.714423",
     "exception": false,
     "start_time": "2025-02-03T23:16:38.701231",
     "status": "completed"
    },
    "tags": []
   },
   "outputs": [],
   "source": [
    "import json"
   ]
  },
  {
   "cell_type": "code",
   "execution_count": 61,
   "id": "53a682b1",
   "metadata": {
    "execution": {
     "iopub.execute_input": "2025-02-03T23:16:38.731429Z",
     "iopub.status.busy": "2025-02-03T23:16:38.731006Z",
     "iopub.status.idle": "2025-02-03T23:16:38.734235Z",
     "shell.execute_reply": "2025-02-03T23:16:38.733784Z"
    },
    "papermill": {
     "duration": 0.012357,
     "end_time": "2025-02-03T23:16:38.734952",
     "exception": false,
     "start_time": "2025-02-03T23:16:38.722595",
     "status": "completed"
    },
    "tags": []
   },
   "outputs": [],
   "source": [
    "with open(save_dir + '/epoch_metrics.json', 'w') as f:\n",
    "    json.dump(epoch_metrics, f)"
   ]
  },
  {
   "cell_type": "code",
   "execution_count": null,
   "id": "f7021e82",
   "metadata": {
    "papermill": {
     "duration": 0.008088,
     "end_time": "2025-02-03T23:16:38.750970",
     "exception": false,
     "start_time": "2025-02-03T23:16:38.742882",
     "status": "completed"
    },
    "tags": []
   },
   "outputs": [],
   "source": []
  }
 ],
 "metadata": {
  "kernelspec": {
   "display_name": "Python (myenv)",
   "language": "python",
   "name": "myenv"
  },
  "language_info": {
   "codemirror_mode": {
    "name": "ipython",
    "version": 3
   },
   "file_extension": ".py",
   "mimetype": "text/x-python",
   "name": "python",
   "nbconvert_exporter": "python",
   "pygments_lexer": "ipython3",
   "version": "3.12.7"
  },
  "papermill": {
   "default_parameters": {},
   "duration": 33342.528667,
   "end_time": "2025-02-03T23:16:42.513345",
   "environment_variables": {},
   "exception": null,
   "input_path": "0.1hyperbolic.ipynb",
   "output_path": "0.1hyperbolic_output.ipynb",
   "parameters": {},
   "start_time": "2025-02-03T14:00:59.984678",
   "version": "2.6.0"
  },
  "widgets": {
   "application/vnd.jupyter.widget-state+json": {
    "state": {
     "0117de770fb545f0b6d89b8f24739c1f": {
      "model_module": "@jupyter-widgets/base",
      "model_module_version": "2.0.0",
      "model_name": "LayoutModel",
      "state": {
       "_model_module": "@jupyter-widgets/base",
       "_model_module_version": "2.0.0",
       "_model_name": "LayoutModel",
       "_view_count": null,
       "_view_module": "@jupyter-widgets/base",
       "_view_module_version": "2.0.0",
       "_view_name": "LayoutView",
       "align_content": null,
       "align_items": null,
       "align_self": null,
       "border_bottom": null,
       "border_left": null,
       "border_right": null,
       "border_top": null,
       "bottom": null,
       "display": null,
       "flex": null,
       "flex_flow": null,
       "grid_area": null,
       "grid_auto_columns": null,
       "grid_auto_flow": null,
       "grid_auto_rows": null,
       "grid_column": null,
       "grid_gap": null,
       "grid_row": null,
       "grid_template_areas": null,
       "grid_template_columns": null,
       "grid_template_rows": null,
       "height": null,
       "justify_content": null,
       "justify_items": null,
       "left": null,
       "margin": null,
       "max_height": null,
       "max_width": null,
       "min_height": null,
       "min_width": null,
       "object_fit": null,
       "object_position": null,
       "order": null,
       "overflow": null,
       "padding": null,
       "right": null,
       "top": null,
       "visibility": null,
       "width": null
      }
     },
     "05ae34c46973416e9a27f36f3b0d5d85": {
      "model_module": "@jupyter-widgets/base",
      "model_module_version": "2.0.0",
      "model_name": "LayoutModel",
      "state": {
       "_model_module": "@jupyter-widgets/base",
       "_model_module_version": "2.0.0",
       "_model_name": "LayoutModel",
       "_view_count": null,
       "_view_module": "@jupyter-widgets/base",
       "_view_module_version": "2.0.0",
       "_view_name": "LayoutView",
       "align_content": null,
       "align_items": null,
       "align_self": null,
       "border_bottom": null,
       "border_left": null,
       "border_right": null,
       "border_top": null,
       "bottom": null,
       "display": null,
       "flex": null,
       "flex_flow": null,
       "grid_area": null,
       "grid_auto_columns": null,
       "grid_auto_flow": null,
       "grid_auto_rows": null,
       "grid_column": null,
       "grid_gap": null,
       "grid_row": null,
       "grid_template_areas": null,
       "grid_template_columns": null,
       "grid_template_rows": null,
       "height": null,
       "justify_content": null,
       "justify_items": null,
       "left": null,
       "margin": null,
       "max_height": null,
       "max_width": null,
       "min_height": null,
       "min_width": null,
       "object_fit": null,
       "object_position": null,
       "order": null,
       "overflow": null,
       "padding": null,
       "right": null,
       "top": null,
       "visibility": null,
       "width": null
      }
     },
     "0988bcaa9b5a4b93b70f10b3d465d33e": {
      "model_module": "@jupyter-widgets/controls",
      "model_module_version": "2.0.0",
      "model_name": "HTMLStyleModel",
      "state": {
       "_model_module": "@jupyter-widgets/controls",
       "_model_module_version": "2.0.0",
       "_model_name": "HTMLStyleModel",
       "_view_count": null,
       "_view_module": "@jupyter-widgets/base",
       "_view_module_version": "2.0.0",
       "_view_name": "StyleView",
       "background": null,
       "description_width": "",
       "font_size": null,
       "text_color": null
      }
     },
     "0a86f7b52d4d40c2afe3c01ce072548f": {
      "model_module": "@jupyter-widgets/controls",
      "model_module_version": "2.0.0",
      "model_name": "ProgressStyleModel",
      "state": {
       "_model_module": "@jupyter-widgets/controls",
       "_model_module_version": "2.0.0",
       "_model_name": "ProgressStyleModel",
       "_view_count": null,
       "_view_module": "@jupyter-widgets/base",
       "_view_module_version": "2.0.0",
       "_view_name": "StyleView",
       "bar_color": null,
       "description_width": ""
      }
     },
     "0c00864182c34e47be8473839b6d9f6f": {
      "model_module": "@jupyter-widgets/controls",
      "model_module_version": "2.0.0",
      "model_name": "HTMLStyleModel",
      "state": {
       "_model_module": "@jupyter-widgets/controls",
       "_model_module_version": "2.0.0",
       "_model_name": "HTMLStyleModel",
       "_view_count": null,
       "_view_module": "@jupyter-widgets/base",
       "_view_module_version": "2.0.0",
       "_view_name": "StyleView",
       "background": null,
       "description_width": "",
       "font_size": null,
       "text_color": null
      }
     },
     "262b894d08834df0b5c424ba93d9b83d": {
      "model_module": "@jupyter-widgets/base",
      "model_module_version": "2.0.0",
      "model_name": "LayoutModel",
      "state": {
       "_model_module": "@jupyter-widgets/base",
       "_model_module_version": "2.0.0",
       "_model_name": "LayoutModel",
       "_view_count": null,
       "_view_module": "@jupyter-widgets/base",
       "_view_module_version": "2.0.0",
       "_view_name": "LayoutView",
       "align_content": null,
       "align_items": null,
       "align_self": null,
       "border_bottom": null,
       "border_left": null,
       "border_right": null,
       "border_top": null,
       "bottom": null,
       "display": null,
       "flex": null,
       "flex_flow": null,
       "grid_area": null,
       "grid_auto_columns": null,
       "grid_auto_flow": null,
       "grid_auto_rows": null,
       "grid_column": null,
       "grid_gap": null,
       "grid_row": null,
       "grid_template_areas": null,
       "grid_template_columns": null,
       "grid_template_rows": null,
       "height": null,
       "justify_content": null,
       "justify_items": null,
       "left": null,
       "margin": null,
       "max_height": null,
       "max_width": null,
       "min_height": null,
       "min_width": null,
       "object_fit": null,
       "object_position": null,
       "order": null,
       "overflow": null,
       "padding": null,
       "right": null,
       "top": null,
       "visibility": null,
       "width": null
      }
     },
     "373ae851d972439ca53b1aeee1b78eec": {
      "model_module": "@jupyter-widgets/base",
      "model_module_version": "2.0.0",
      "model_name": "LayoutModel",
      "state": {
       "_model_module": "@jupyter-widgets/base",
       "_model_module_version": "2.0.0",
       "_model_name": "LayoutModel",
       "_view_count": null,
       "_view_module": "@jupyter-widgets/base",
       "_view_module_version": "2.0.0",
       "_view_name": "LayoutView",
       "align_content": null,
       "align_items": null,
       "align_self": null,
       "border_bottom": null,
       "border_left": null,
       "border_right": null,
       "border_top": null,
       "bottom": null,
       "display": null,
       "flex": null,
       "flex_flow": null,
       "grid_area": null,
       "grid_auto_columns": null,
       "grid_auto_flow": null,
       "grid_auto_rows": null,
       "grid_column": null,
       "grid_gap": null,
       "grid_row": null,
       "grid_template_areas": null,
       "grid_template_columns": null,
       "grid_template_rows": null,
       "height": null,
       "justify_content": null,
       "justify_items": null,
       "left": null,
       "margin": null,
       "max_height": null,
       "max_width": null,
       "min_height": null,
       "min_width": null,
       "object_fit": null,
       "object_position": null,
       "order": null,
       "overflow": null,
       "padding": null,
       "right": null,
       "top": null,
       "visibility": null,
       "width": null
      }
     },
     "39ce3fe573714028aeee5ca2cc5ebca0": {
      "model_module": "@jupyter-widgets/controls",
      "model_module_version": "2.0.0",
      "model_name": "HBoxModel",
      "state": {
       "_dom_classes": [],
       "_model_module": "@jupyter-widgets/controls",
       "_model_module_version": "2.0.0",
       "_model_name": "HBoxModel",
       "_view_count": null,
       "_view_module": "@jupyter-widgets/controls",
       "_view_module_version": "2.0.0",
       "_view_name": "HBoxView",
       "box_style": "",
       "children": [
        "IPY_MODEL_bfe79aa822b94b8a880a1c8f40311991",
        "IPY_MODEL_bc246d9fbee446e49e50ab3074b8194f",
        "IPY_MODEL_f885e024cdfa4ac19015ef6f2cb9762b"
       ],
       "layout": "IPY_MODEL_0117de770fb545f0b6d89b8f24739c1f",
       "tabbable": null,
       "tooltip": null
      }
     },
     "3e9bc1f73ffd4457ad5517594144341b": {
      "model_module": "@jupyter-widgets/controls",
      "model_module_version": "2.0.0",
      "model_name": "HBoxModel",
      "state": {
       "_dom_classes": [],
       "_model_module": "@jupyter-widgets/controls",
       "_model_module_version": "2.0.0",
       "_model_name": "HBoxModel",
       "_view_count": null,
       "_view_module": "@jupyter-widgets/controls",
       "_view_module_version": "2.0.0",
       "_view_name": "HBoxView",
       "box_style": "",
       "children": [
        "IPY_MODEL_70daff1385d1431fa0ddb983629e1045",
        "IPY_MODEL_70429a0061734d6ca143a1c9172444ff",
        "IPY_MODEL_70640581d4ba4a6b82226d174bb2cd15"
       ],
       "layout": "IPY_MODEL_373ae851d972439ca53b1aeee1b78eec",
       "tabbable": null,
       "tooltip": null
      }
     },
     "41e5b4a6c5ce4a3488bfa73ab6c38f7c": {
      "model_module": "@jupyter-widgets/controls",
      "model_module_version": "2.0.0",
      "model_name": "ProgressStyleModel",
      "state": {
       "_model_module": "@jupyter-widgets/controls",
       "_model_module_version": "2.0.0",
       "_model_name": "ProgressStyleModel",
       "_view_count": null,
       "_view_module": "@jupyter-widgets/base",
       "_view_module_version": "2.0.0",
       "_view_name": "StyleView",
       "bar_color": null,
       "description_width": ""
      }
     },
     "4678ca97f1d446e489b1a3220b35caa3": {
      "model_module": "@jupyter-widgets/base",
      "model_module_version": "2.0.0",
      "model_name": "LayoutModel",
      "state": {
       "_model_module": "@jupyter-widgets/base",
       "_model_module_version": "2.0.0",
       "_model_name": "LayoutModel",
       "_view_count": null,
       "_view_module": "@jupyter-widgets/base",
       "_view_module_version": "2.0.0",
       "_view_name": "LayoutView",
       "align_content": null,
       "align_items": null,
       "align_self": null,
       "border_bottom": null,
       "border_left": null,
       "border_right": null,
       "border_top": null,
       "bottom": null,
       "display": null,
       "flex": null,
       "flex_flow": null,
       "grid_area": null,
       "grid_auto_columns": null,
       "grid_auto_flow": null,
       "grid_auto_rows": null,
       "grid_column": null,
       "grid_gap": null,
       "grid_row": null,
       "grid_template_areas": null,
       "grid_template_columns": null,
       "grid_template_rows": null,
       "height": null,
       "justify_content": null,
       "justify_items": null,
       "left": null,
       "margin": null,
       "max_height": null,
       "max_width": null,
       "min_height": null,
       "min_width": null,
       "object_fit": null,
       "object_position": null,
       "order": null,
       "overflow": null,
       "padding": null,
       "right": null,
       "top": null,
       "visibility": null,
       "width": null
      }
     },
     "4c8372273ceb438db68deb12fbed0882": {
      "model_module": "@jupyter-widgets/base",
      "model_module_version": "2.0.0",
      "model_name": "LayoutModel",
      "state": {
       "_model_module": "@jupyter-widgets/base",
       "_model_module_version": "2.0.0",
       "_model_name": "LayoutModel",
       "_view_count": null,
       "_view_module": "@jupyter-widgets/base",
       "_view_module_version": "2.0.0",
       "_view_name": "LayoutView",
       "align_content": null,
       "align_items": null,
       "align_self": null,
       "border_bottom": null,
       "border_left": null,
       "border_right": null,
       "border_top": null,
       "bottom": null,
       "display": null,
       "flex": null,
       "flex_flow": null,
       "grid_area": null,
       "grid_auto_columns": null,
       "grid_auto_flow": null,
       "grid_auto_rows": null,
       "grid_column": null,
       "grid_gap": null,
       "grid_row": null,
       "grid_template_areas": null,
       "grid_template_columns": null,
       "grid_template_rows": null,
       "height": null,
       "justify_content": null,
       "justify_items": null,
       "left": null,
       "margin": null,
       "max_height": null,
       "max_width": null,
       "min_height": null,
       "min_width": null,
       "object_fit": null,
       "object_position": null,
       "order": null,
       "overflow": null,
       "padding": null,
       "right": null,
       "top": null,
       "visibility": null,
       "width": null
      }
     },
     "572e9492179944dbaacbf2b790cb7ea9": {
      "model_module": "@jupyter-widgets/base",
      "model_module_version": "2.0.0",
      "model_name": "LayoutModel",
      "state": {
       "_model_module": "@jupyter-widgets/base",
       "_model_module_version": "2.0.0",
       "_model_name": "LayoutModel",
       "_view_count": null,
       "_view_module": "@jupyter-widgets/base",
       "_view_module_version": "2.0.0",
       "_view_name": "LayoutView",
       "align_content": null,
       "align_items": null,
       "align_self": null,
       "border_bottom": null,
       "border_left": null,
       "border_right": null,
       "border_top": null,
       "bottom": null,
       "display": null,
       "flex": null,
       "flex_flow": null,
       "grid_area": null,
       "grid_auto_columns": null,
       "grid_auto_flow": null,
       "grid_auto_rows": null,
       "grid_column": null,
       "grid_gap": null,
       "grid_row": null,
       "grid_template_areas": null,
       "grid_template_columns": null,
       "grid_template_rows": null,
       "height": null,
       "justify_content": null,
       "justify_items": null,
       "left": null,
       "margin": null,
       "max_height": null,
       "max_width": null,
       "min_height": null,
       "min_width": null,
       "object_fit": null,
       "object_position": null,
       "order": null,
       "overflow": null,
       "padding": null,
       "right": null,
       "top": null,
       "visibility": null,
       "width": null
      }
     },
     "5fc17116366b4d04836b60caf82a0913": {
      "model_module": "@jupyter-widgets/controls",
      "model_module_version": "2.0.0",
      "model_name": "ProgressStyleModel",
      "state": {
       "_model_module": "@jupyter-widgets/controls",
       "_model_module_version": "2.0.0",
       "_model_name": "ProgressStyleModel",
       "_view_count": null,
       "_view_module": "@jupyter-widgets/base",
       "_view_module_version": "2.0.0",
       "_view_name": "StyleView",
       "bar_color": null,
       "description_width": ""
      }
     },
     "660afe116c864c2eb626bf33cb347686": {
      "model_module": "@jupyter-widgets/controls",
      "model_module_version": "2.0.0",
      "model_name": "HTMLModel",
      "state": {
       "_dom_classes": [],
       "_model_module": "@jupyter-widgets/controls",
       "_model_module_version": "2.0.0",
       "_model_name": "HTMLModel",
       "_view_count": null,
       "_view_module": "@jupyter-widgets/controls",
       "_view_module_version": "2.0.0",
       "_view_name": "HTMLView",
       "description": "",
       "description_allow_html": false,
       "layout": "IPY_MODEL_b6029448af5f40229c8d54aa8f2af6f1",
       "placeholder": "​",
       "style": "IPY_MODEL_8066a71ffc04444688cf02cc4a51737d",
       "tabbable": null,
       "tooltip": null,
       "value": " 94073/94073 [07:48&lt;00:00, 207.11 examples/s]"
      }
     },
     "6c099df01d324ea38ee8d3ff05a89195": {
      "model_module": "@jupyter-widgets/base",
      "model_module_version": "2.0.0",
      "model_name": "LayoutModel",
      "state": {
       "_model_module": "@jupyter-widgets/base",
       "_model_module_version": "2.0.0",
       "_model_name": "LayoutModel",
       "_view_count": null,
       "_view_module": "@jupyter-widgets/base",
       "_view_module_version": "2.0.0",
       "_view_name": "LayoutView",
       "align_content": null,
       "align_items": null,
       "align_self": null,
       "border_bottom": null,
       "border_left": null,
       "border_right": null,
       "border_top": null,
       "bottom": null,
       "display": null,
       "flex": null,
       "flex_flow": null,
       "grid_area": null,
       "grid_auto_columns": null,
       "grid_auto_flow": null,
       "grid_auto_rows": null,
       "grid_column": null,
       "grid_gap": null,
       "grid_row": null,
       "grid_template_areas": null,
       "grid_template_columns": null,
       "grid_template_rows": null,
       "height": null,
       "justify_content": null,
       "justify_items": null,
       "left": null,
       "margin": null,
       "max_height": null,
       "max_width": null,
       "min_height": null,
       "min_width": null,
       "object_fit": null,
       "object_position": null,
       "order": null,
       "overflow": null,
       "padding": null,
       "right": null,
       "top": null,
       "visibility": null,
       "width": null
      }
     },
     "6ff9e2c58f3c4a09abd840e3a03ed587": {
      "model_module": "@jupyter-widgets/base",
      "model_module_version": "2.0.0",
      "model_name": "LayoutModel",
      "state": {
       "_model_module": "@jupyter-widgets/base",
       "_model_module_version": "2.0.0",
       "_model_name": "LayoutModel",
       "_view_count": null,
       "_view_module": "@jupyter-widgets/base",
       "_view_module_version": "2.0.0",
       "_view_name": "LayoutView",
       "align_content": null,
       "align_items": null,
       "align_self": null,
       "border_bottom": null,
       "border_left": null,
       "border_right": null,
       "border_top": null,
       "bottom": null,
       "display": null,
       "flex": null,
       "flex_flow": null,
       "grid_area": null,
       "grid_auto_columns": null,
       "grid_auto_flow": null,
       "grid_auto_rows": null,
       "grid_column": null,
       "grid_gap": null,
       "grid_row": null,
       "grid_template_areas": null,
       "grid_template_columns": null,
       "grid_template_rows": null,
       "height": null,
       "justify_content": null,
       "justify_items": null,
       "left": null,
       "margin": null,
       "max_height": null,
       "max_width": null,
       "min_height": null,
       "min_width": null,
       "object_fit": null,
       "object_position": null,
       "order": null,
       "overflow": null,
       "padding": null,
       "right": null,
       "top": null,
       "visibility": null,
       "width": null
      }
     },
     "70429a0061734d6ca143a1c9172444ff": {
      "model_module": "@jupyter-widgets/controls",
      "model_module_version": "2.0.0",
      "model_name": "FloatProgressModel",
      "state": {
       "_dom_classes": [],
       "_model_module": "@jupyter-widgets/controls",
       "_model_module_version": "2.0.0",
       "_model_name": "FloatProgressModel",
       "_view_count": null,
       "_view_module": "@jupyter-widgets/controls",
       "_view_module_version": "2.0.0",
       "_view_name": "ProgressView",
       "bar_style": "success",
       "description": "",
       "description_allow_html": false,
       "layout": "IPY_MODEL_d176a55e0afe45b780e987f44aaeb89a",
       "max": 94073,
       "min": 0,
       "orientation": "horizontal",
       "style": "IPY_MODEL_5fc17116366b4d04836b60caf82a0913",
       "tabbable": null,
       "tooltip": null,
       "value": 94073
      }
     },
     "70640581d4ba4a6b82226d174bb2cd15": {
      "model_module": "@jupyter-widgets/controls",
      "model_module_version": "2.0.0",
      "model_name": "HTMLModel",
      "state": {
       "_dom_classes": [],
       "_model_module": "@jupyter-widgets/controls",
       "_model_module_version": "2.0.0",
       "_model_name": "HTMLModel",
       "_view_count": null,
       "_view_module": "@jupyter-widgets/controls",
       "_view_module_version": "2.0.0",
       "_view_name": "HTMLView",
       "description": "",
       "description_allow_html": false,
       "layout": "IPY_MODEL_e4fe42dbd9fc49a6b2b07654a0be3084",
       "placeholder": "​",
       "style": "IPY_MODEL_94c72df1b9ac43c18fe00e7715063900",
       "tabbable": null,
       "tooltip": null,
       "value": " 94073/94073 [00:05&lt;00:00, 19689.49 examples/s]"
      }
     },
     "70daff1385d1431fa0ddb983629e1045": {
      "model_module": "@jupyter-widgets/controls",
      "model_module_version": "2.0.0",
      "model_name": "HTMLModel",
      "state": {
       "_dom_classes": [],
       "_model_module": "@jupyter-widgets/controls",
       "_model_module_version": "2.0.0",
       "_model_name": "HTMLModel",
       "_view_count": null,
       "_view_module": "@jupyter-widgets/controls",
       "_view_module_version": "2.0.0",
       "_view_name": "HTMLView",
       "description": "",
       "description_allow_html": false,
       "layout": "IPY_MODEL_262b894d08834df0b5c424ba93d9b83d",
       "placeholder": "​",
       "style": "IPY_MODEL_e94ac8bd466745d183cbfc5d0623b5f2",
       "tabbable": null,
       "tooltip": null,
       "value": "Map: 100%"
      }
     },
     "739b7cff601048bc9b11394d4e2f707d": {
      "model_module": "@jupyter-widgets/controls",
      "model_module_version": "2.0.0",
      "model_name": "HBoxModel",
      "state": {
       "_dom_classes": [],
       "_model_module": "@jupyter-widgets/controls",
       "_model_module_version": "2.0.0",
       "_model_name": "HBoxModel",
       "_view_count": null,
       "_view_module": "@jupyter-widgets/controls",
       "_view_module_version": "2.0.0",
       "_view_name": "HBoxView",
       "box_style": "",
       "children": [
        "IPY_MODEL_7b521ab3011c47efba90b18095fe83b3",
        "IPY_MODEL_8322f63705d54c96831a69e38c941482",
        "IPY_MODEL_660afe116c864c2eb626bf33cb347686"
       ],
       "layout": "IPY_MODEL_6ff9e2c58f3c4a09abd840e3a03ed587",
       "tabbable": null,
       "tooltip": null
      }
     },
     "7b521ab3011c47efba90b18095fe83b3": {
      "model_module": "@jupyter-widgets/controls",
      "model_module_version": "2.0.0",
      "model_name": "HTMLModel",
      "state": {
       "_dom_classes": [],
       "_model_module": "@jupyter-widgets/controls",
       "_model_module_version": "2.0.0",
       "_model_name": "HTMLModel",
       "_view_count": null,
       "_view_module": "@jupyter-widgets/controls",
       "_view_module_version": "2.0.0",
       "_view_name": "HTMLView",
       "description": "",
       "description_allow_html": false,
       "layout": "IPY_MODEL_aac2ccdbb67f48e3b7781214654a1949",
       "placeholder": "​",
       "style": "IPY_MODEL_0c00864182c34e47be8473839b6d9f6f",
       "tabbable": null,
       "tooltip": null,
       "value": "Map: 100%"
      }
     },
     "8066a71ffc04444688cf02cc4a51737d": {
      "model_module": "@jupyter-widgets/controls",
      "model_module_version": "2.0.0",
      "model_name": "HTMLStyleModel",
      "state": {
       "_model_module": "@jupyter-widgets/controls",
       "_model_module_version": "2.0.0",
       "_model_name": "HTMLStyleModel",
       "_view_count": null,
       "_view_module": "@jupyter-widgets/base",
       "_view_module_version": "2.0.0",
       "_view_name": "StyleView",
       "background": null,
       "description_width": "",
       "font_size": null,
       "text_color": null
      }
     },
     "81ca2828a44d4993ac56b1aa920258e8": {
      "model_module": "@jupyter-widgets/controls",
      "model_module_version": "2.0.0",
      "model_name": "HTMLStyleModel",
      "state": {
       "_model_module": "@jupyter-widgets/controls",
       "_model_module_version": "2.0.0",
       "_model_name": "HTMLStyleModel",
       "_view_count": null,
       "_view_module": "@jupyter-widgets/base",
       "_view_module_version": "2.0.0",
       "_view_name": "StyleView",
       "background": null,
       "description_width": "",
       "font_size": null,
       "text_color": null
      }
     },
     "8322f63705d54c96831a69e38c941482": {
      "model_module": "@jupyter-widgets/controls",
      "model_module_version": "2.0.0",
      "model_name": "FloatProgressModel",
      "state": {
       "_dom_classes": [],
       "_model_module": "@jupyter-widgets/controls",
       "_model_module_version": "2.0.0",
       "_model_name": "FloatProgressModel",
       "_view_count": null,
       "_view_module": "@jupyter-widgets/controls",
       "_view_module_version": "2.0.0",
       "_view_name": "ProgressView",
       "bar_style": "success",
       "description": "",
       "description_allow_html": false,
       "layout": "IPY_MODEL_a07fbcd5421842048aff7f032ad2ef0d",
       "max": 94073,
       "min": 0,
       "orientation": "horizontal",
       "style": "IPY_MODEL_ad33a299b5224987a37c5b60d8516128",
       "tabbable": null,
       "tooltip": null,
       "value": 94073
      }
     },
     "8a600ecb9aca48da943cdc88a329576c": {
      "model_module": "@jupyter-widgets/controls",
      "model_module_version": "2.0.0",
      "model_name": "HTMLModel",
      "state": {
       "_dom_classes": [],
       "_model_module": "@jupyter-widgets/controls",
       "_model_module_version": "2.0.0",
       "_model_name": "HTMLModel",
       "_view_count": null,
       "_view_module": "@jupyter-widgets/controls",
       "_view_module_version": "2.0.0",
       "_view_name": "HTMLView",
       "description": "",
       "description_allow_html": false,
       "layout": "IPY_MODEL_4678ca97f1d446e489b1a3220b35caa3",
       "placeholder": "​",
       "style": "IPY_MODEL_b362782846fe4fc3a839d757b35f2251",
       "tabbable": null,
       "tooltip": null,
       "value": " 23519/23519 [00:01&lt;00:00, 18648.01 examples/s]"
      }
     },
     "92d454e340c94e35982360e2d3f871d6": {
      "model_module": "@jupyter-widgets/controls",
      "model_module_version": "2.0.0",
      "model_name": "HTMLModel",
      "state": {
       "_dom_classes": [],
       "_model_module": "@jupyter-widgets/controls",
       "_model_module_version": "2.0.0",
       "_model_name": "HTMLModel",
       "_view_count": null,
       "_view_module": "@jupyter-widgets/controls",
       "_view_module_version": "2.0.0",
       "_view_name": "HTMLView",
       "description": "",
       "description_allow_html": false,
       "layout": "IPY_MODEL_05ae34c46973416e9a27f36f3b0d5d85",
       "placeholder": "​",
       "style": "IPY_MODEL_9c2411ba29d54e298a79d14d7e4d6698",
       "tabbable": null,
       "tooltip": null,
       "value": "Map: 100%"
      }
     },
     "94c72df1b9ac43c18fe00e7715063900": {
      "model_module": "@jupyter-widgets/controls",
      "model_module_version": "2.0.0",
      "model_name": "HTMLStyleModel",
      "state": {
       "_model_module": "@jupyter-widgets/controls",
       "_model_module_version": "2.0.0",
       "_model_name": "HTMLStyleModel",
       "_view_count": null,
       "_view_module": "@jupyter-widgets/base",
       "_view_module_version": "2.0.0",
       "_view_name": "StyleView",
       "background": null,
       "description_width": "",
       "font_size": null,
       "text_color": null
      }
     },
     "9c2411ba29d54e298a79d14d7e4d6698": {
      "model_module": "@jupyter-widgets/controls",
      "model_module_version": "2.0.0",
      "model_name": "HTMLStyleModel",
      "state": {
       "_model_module": "@jupyter-widgets/controls",
       "_model_module_version": "2.0.0",
       "_model_name": "HTMLStyleModel",
       "_view_count": null,
       "_view_module": "@jupyter-widgets/base",
       "_view_module_version": "2.0.0",
       "_view_name": "StyleView",
       "background": null,
       "description_width": "",
       "font_size": null,
       "text_color": null
      }
     },
     "a07fbcd5421842048aff7f032ad2ef0d": {
      "model_module": "@jupyter-widgets/base",
      "model_module_version": "2.0.0",
      "model_name": "LayoutModel",
      "state": {
       "_model_module": "@jupyter-widgets/base",
       "_model_module_version": "2.0.0",
       "_model_name": "LayoutModel",
       "_view_count": null,
       "_view_module": "@jupyter-widgets/base",
       "_view_module_version": "2.0.0",
       "_view_name": "LayoutView",
       "align_content": null,
       "align_items": null,
       "align_self": null,
       "border_bottom": null,
       "border_left": null,
       "border_right": null,
       "border_top": null,
       "bottom": null,
       "display": null,
       "flex": null,
       "flex_flow": null,
       "grid_area": null,
       "grid_auto_columns": null,
       "grid_auto_flow": null,
       "grid_auto_rows": null,
       "grid_column": null,
       "grid_gap": null,
       "grid_row": null,
       "grid_template_areas": null,
       "grid_template_columns": null,
       "grid_template_rows": null,
       "height": null,
       "justify_content": null,
       "justify_items": null,
       "left": null,
       "margin": null,
       "max_height": null,
       "max_width": null,
       "min_height": null,
       "min_width": null,
       "object_fit": null,
       "object_position": null,
       "order": null,
       "overflow": null,
       "padding": null,
       "right": null,
       "top": null,
       "visibility": null,
       "width": null
      }
     },
     "aac2ccdbb67f48e3b7781214654a1949": {
      "model_module": "@jupyter-widgets/base",
      "model_module_version": "2.0.0",
      "model_name": "LayoutModel",
      "state": {
       "_model_module": "@jupyter-widgets/base",
       "_model_module_version": "2.0.0",
       "_model_name": "LayoutModel",
       "_view_count": null,
       "_view_module": "@jupyter-widgets/base",
       "_view_module_version": "2.0.0",
       "_view_name": "LayoutView",
       "align_content": null,
       "align_items": null,
       "align_self": null,
       "border_bottom": null,
       "border_left": null,
       "border_right": null,
       "border_top": null,
       "bottom": null,
       "display": null,
       "flex": null,
       "flex_flow": null,
       "grid_area": null,
       "grid_auto_columns": null,
       "grid_auto_flow": null,
       "grid_auto_rows": null,
       "grid_column": null,
       "grid_gap": null,
       "grid_row": null,
       "grid_template_areas": null,
       "grid_template_columns": null,
       "grid_template_rows": null,
       "height": null,
       "justify_content": null,
       "justify_items": null,
       "left": null,
       "margin": null,
       "max_height": null,
       "max_width": null,
       "min_height": null,
       "min_width": null,
       "object_fit": null,
       "object_position": null,
       "order": null,
       "overflow": null,
       "padding": null,
       "right": null,
       "top": null,
       "visibility": null,
       "width": null
      }
     },
     "ad33a299b5224987a37c5b60d8516128": {
      "model_module": "@jupyter-widgets/controls",
      "model_module_version": "2.0.0",
      "model_name": "ProgressStyleModel",
      "state": {
       "_model_module": "@jupyter-widgets/controls",
       "_model_module_version": "2.0.0",
       "_model_name": "ProgressStyleModel",
       "_view_count": null,
       "_view_module": "@jupyter-widgets/base",
       "_view_module_version": "2.0.0",
       "_view_name": "StyleView",
       "bar_color": null,
       "description_width": ""
      }
     },
     "b362782846fe4fc3a839d757b35f2251": {
      "model_module": "@jupyter-widgets/controls",
      "model_module_version": "2.0.0",
      "model_name": "HTMLStyleModel",
      "state": {
       "_model_module": "@jupyter-widgets/controls",
       "_model_module_version": "2.0.0",
       "_model_name": "HTMLStyleModel",
       "_view_count": null,
       "_view_module": "@jupyter-widgets/base",
       "_view_module_version": "2.0.0",
       "_view_name": "StyleView",
       "background": null,
       "description_width": "",
       "font_size": null,
       "text_color": null
      }
     },
     "b6029448af5f40229c8d54aa8f2af6f1": {
      "model_module": "@jupyter-widgets/base",
      "model_module_version": "2.0.0",
      "model_name": "LayoutModel",
      "state": {
       "_model_module": "@jupyter-widgets/base",
       "_model_module_version": "2.0.0",
       "_model_name": "LayoutModel",
       "_view_count": null,
       "_view_module": "@jupyter-widgets/base",
       "_view_module_version": "2.0.0",
       "_view_name": "LayoutView",
       "align_content": null,
       "align_items": null,
       "align_self": null,
       "border_bottom": null,
       "border_left": null,
       "border_right": null,
       "border_top": null,
       "bottom": null,
       "display": null,
       "flex": null,
       "flex_flow": null,
       "grid_area": null,
       "grid_auto_columns": null,
       "grid_auto_flow": null,
       "grid_auto_rows": null,
       "grid_column": null,
       "grid_gap": null,
       "grid_row": null,
       "grid_template_areas": null,
       "grid_template_columns": null,
       "grid_template_rows": null,
       "height": null,
       "justify_content": null,
       "justify_items": null,
       "left": null,
       "margin": null,
       "max_height": null,
       "max_width": null,
       "min_height": null,
       "min_width": null,
       "object_fit": null,
       "object_position": null,
       "order": null,
       "overflow": null,
       "padding": null,
       "right": null,
       "top": null,
       "visibility": null,
       "width": null
      }
     },
     "b63959bd81ac4d93b1176e42e1dd762c": {
      "model_module": "@jupyter-widgets/base",
      "model_module_version": "2.0.0",
      "model_name": "LayoutModel",
      "state": {
       "_model_module": "@jupyter-widgets/base",
       "_model_module_version": "2.0.0",
       "_model_name": "LayoutModel",
       "_view_count": null,
       "_view_module": "@jupyter-widgets/base",
       "_view_module_version": "2.0.0",
       "_view_name": "LayoutView",
       "align_content": null,
       "align_items": null,
       "align_self": null,
       "border_bottom": null,
       "border_left": null,
       "border_right": null,
       "border_top": null,
       "bottom": null,
       "display": null,
       "flex": null,
       "flex_flow": null,
       "grid_area": null,
       "grid_auto_columns": null,
       "grid_auto_flow": null,
       "grid_auto_rows": null,
       "grid_column": null,
       "grid_gap": null,
       "grid_row": null,
       "grid_template_areas": null,
       "grid_template_columns": null,
       "grid_template_rows": null,
       "height": null,
       "justify_content": null,
       "justify_items": null,
       "left": null,
       "margin": null,
       "max_height": null,
       "max_width": null,
       "min_height": null,
       "min_width": null,
       "object_fit": null,
       "object_position": null,
       "order": null,
       "overflow": null,
       "padding": null,
       "right": null,
       "top": null,
       "visibility": null,
       "width": null
      }
     },
     "bc246d9fbee446e49e50ab3074b8194f": {
      "model_module": "@jupyter-widgets/controls",
      "model_module_version": "2.0.0",
      "model_name": "FloatProgressModel",
      "state": {
       "_dom_classes": [],
       "_model_module": "@jupyter-widgets/controls",
       "_model_module_version": "2.0.0",
       "_model_name": "FloatProgressModel",
       "_view_count": null,
       "_view_module": "@jupyter-widgets/controls",
       "_view_module_version": "2.0.0",
       "_view_name": "ProgressView",
       "bar_style": "success",
       "description": "",
       "description_allow_html": false,
       "layout": "IPY_MODEL_4c8372273ceb438db68deb12fbed0882",
       "max": 23519,
       "min": 0,
       "orientation": "horizontal",
       "style": "IPY_MODEL_0a86f7b52d4d40c2afe3c01ce072548f",
       "tabbable": null,
       "tooltip": null,
       "value": 23519
      }
     },
     "bfe79aa822b94b8a880a1c8f40311991": {
      "model_module": "@jupyter-widgets/controls",
      "model_module_version": "2.0.0",
      "model_name": "HTMLModel",
      "state": {
       "_dom_classes": [],
       "_model_module": "@jupyter-widgets/controls",
       "_model_module_version": "2.0.0",
       "_model_name": "HTMLModel",
       "_view_count": null,
       "_view_module": "@jupyter-widgets/controls",
       "_view_module_version": "2.0.0",
       "_view_name": "HTMLView",
       "description": "",
       "description_allow_html": false,
       "layout": "IPY_MODEL_572e9492179944dbaacbf2b790cb7ea9",
       "placeholder": "​",
       "style": "IPY_MODEL_81ca2828a44d4993ac56b1aa920258e8",
       "tabbable": null,
       "tooltip": null,
       "value": "Map: 100%"
      }
     },
     "c3652e17fd934587823b25c5275743ef": {
      "model_module": "@jupyter-widgets/controls",
      "model_module_version": "2.0.0",
      "model_name": "HBoxModel",
      "state": {
       "_dom_classes": [],
       "_model_module": "@jupyter-widgets/controls",
       "_model_module_version": "2.0.0",
       "_model_name": "HBoxModel",
       "_view_count": null,
       "_view_module": "@jupyter-widgets/controls",
       "_view_module_version": "2.0.0",
       "_view_name": "HBoxView",
       "box_style": "",
       "children": [
        "IPY_MODEL_92d454e340c94e35982360e2d3f871d6",
        "IPY_MODEL_c77bab23e1b1414a92c62fb4b008db11",
        "IPY_MODEL_8a600ecb9aca48da943cdc88a329576c"
       ],
       "layout": "IPY_MODEL_f3325fc0c69b4cc09c524c995c5a0344",
       "tabbable": null,
       "tooltip": null
      }
     },
     "c77bab23e1b1414a92c62fb4b008db11": {
      "model_module": "@jupyter-widgets/controls",
      "model_module_version": "2.0.0",
      "model_name": "FloatProgressModel",
      "state": {
       "_dom_classes": [],
       "_model_module": "@jupyter-widgets/controls",
       "_model_module_version": "2.0.0",
       "_model_name": "FloatProgressModel",
       "_view_count": null,
       "_view_module": "@jupyter-widgets/controls",
       "_view_module_version": "2.0.0",
       "_view_name": "ProgressView",
       "bar_style": "success",
       "description": "",
       "description_allow_html": false,
       "layout": "IPY_MODEL_6c099df01d324ea38ee8d3ff05a89195",
       "max": 23519,
       "min": 0,
       "orientation": "horizontal",
       "style": "IPY_MODEL_41e5b4a6c5ce4a3488bfa73ab6c38f7c",
       "tabbable": null,
       "tooltip": null,
       "value": 23519
      }
     },
     "d176a55e0afe45b780e987f44aaeb89a": {
      "model_module": "@jupyter-widgets/base",
      "model_module_version": "2.0.0",
      "model_name": "LayoutModel",
      "state": {
       "_model_module": "@jupyter-widgets/base",
       "_model_module_version": "2.0.0",
       "_model_name": "LayoutModel",
       "_view_count": null,
       "_view_module": "@jupyter-widgets/base",
       "_view_module_version": "2.0.0",
       "_view_name": "LayoutView",
       "align_content": null,
       "align_items": null,
       "align_self": null,
       "border_bottom": null,
       "border_left": null,
       "border_right": null,
       "border_top": null,
       "bottom": null,
       "display": null,
       "flex": null,
       "flex_flow": null,
       "grid_area": null,
       "grid_auto_columns": null,
       "grid_auto_flow": null,
       "grid_auto_rows": null,
       "grid_column": null,
       "grid_gap": null,
       "grid_row": null,
       "grid_template_areas": null,
       "grid_template_columns": null,
       "grid_template_rows": null,
       "height": null,
       "justify_content": null,
       "justify_items": null,
       "left": null,
       "margin": null,
       "max_height": null,
       "max_width": null,
       "min_height": null,
       "min_width": null,
       "object_fit": null,
       "object_position": null,
       "order": null,
       "overflow": null,
       "padding": null,
       "right": null,
       "top": null,
       "visibility": null,
       "width": null
      }
     },
     "e4fe42dbd9fc49a6b2b07654a0be3084": {
      "model_module": "@jupyter-widgets/base",
      "model_module_version": "2.0.0",
      "model_name": "LayoutModel",
      "state": {
       "_model_module": "@jupyter-widgets/base",
       "_model_module_version": "2.0.0",
       "_model_name": "LayoutModel",
       "_view_count": null,
       "_view_module": "@jupyter-widgets/base",
       "_view_module_version": "2.0.0",
       "_view_name": "LayoutView",
       "align_content": null,
       "align_items": null,
       "align_self": null,
       "border_bottom": null,
       "border_left": null,
       "border_right": null,
       "border_top": null,
       "bottom": null,
       "display": null,
       "flex": null,
       "flex_flow": null,
       "grid_area": null,
       "grid_auto_columns": null,
       "grid_auto_flow": null,
       "grid_auto_rows": null,
       "grid_column": null,
       "grid_gap": null,
       "grid_row": null,
       "grid_template_areas": null,
       "grid_template_columns": null,
       "grid_template_rows": null,
       "height": null,
       "justify_content": null,
       "justify_items": null,
       "left": null,
       "margin": null,
       "max_height": null,
       "max_width": null,
       "min_height": null,
       "min_width": null,
       "object_fit": null,
       "object_position": null,
       "order": null,
       "overflow": null,
       "padding": null,
       "right": null,
       "top": null,
       "visibility": null,
       "width": null
      }
     },
     "e94ac8bd466745d183cbfc5d0623b5f2": {
      "model_module": "@jupyter-widgets/controls",
      "model_module_version": "2.0.0",
      "model_name": "HTMLStyleModel",
      "state": {
       "_model_module": "@jupyter-widgets/controls",
       "_model_module_version": "2.0.0",
       "_model_name": "HTMLStyleModel",
       "_view_count": null,
       "_view_module": "@jupyter-widgets/base",
       "_view_module_version": "2.0.0",
       "_view_name": "StyleView",
       "background": null,
       "description_width": "",
       "font_size": null,
       "text_color": null
      }
     },
     "f3325fc0c69b4cc09c524c995c5a0344": {
      "model_module": "@jupyter-widgets/base",
      "model_module_version": "2.0.0",
      "model_name": "LayoutModel",
      "state": {
       "_model_module": "@jupyter-widgets/base",
       "_model_module_version": "2.0.0",
       "_model_name": "LayoutModel",
       "_view_count": null,
       "_view_module": "@jupyter-widgets/base",
       "_view_module_version": "2.0.0",
       "_view_name": "LayoutView",
       "align_content": null,
       "align_items": null,
       "align_self": null,
       "border_bottom": null,
       "border_left": null,
       "border_right": null,
       "border_top": null,
       "bottom": null,
       "display": null,
       "flex": null,
       "flex_flow": null,
       "grid_area": null,
       "grid_auto_columns": null,
       "grid_auto_flow": null,
       "grid_auto_rows": null,
       "grid_column": null,
       "grid_gap": null,
       "grid_row": null,
       "grid_template_areas": null,
       "grid_template_columns": null,
       "grid_template_rows": null,
       "height": null,
       "justify_content": null,
       "justify_items": null,
       "left": null,
       "margin": null,
       "max_height": null,
       "max_width": null,
       "min_height": null,
       "min_width": null,
       "object_fit": null,
       "object_position": null,
       "order": null,
       "overflow": null,
       "padding": null,
       "right": null,
       "top": null,
       "visibility": null,
       "width": null
      }
     },
     "f885e024cdfa4ac19015ef6f2cb9762b": {
      "model_module": "@jupyter-widgets/controls",
      "model_module_version": "2.0.0",
      "model_name": "HTMLModel",
      "state": {
       "_dom_classes": [],
       "_model_module": "@jupyter-widgets/controls",
       "_model_module_version": "2.0.0",
       "_model_name": "HTMLModel",
       "_view_count": null,
       "_view_module": "@jupyter-widgets/controls",
       "_view_module_version": "2.0.0",
       "_view_name": "HTMLView",
       "description": "",
       "description_allow_html": false,
       "layout": "IPY_MODEL_b63959bd81ac4d93b1176e42e1dd762c",
       "placeholder": "​",
       "style": "IPY_MODEL_0988bcaa9b5a4b93b70f10b3d465d33e",
       "tabbable": null,
       "tooltip": null,
       "value": " 23519/23519 [00:34&lt;00:00, 689.30 examples/s]"
      }
     }
    },
    "version_major": 2,
    "version_minor": 0
   }
  }
 },
 "nbformat": 4,
 "nbformat_minor": 5
}
